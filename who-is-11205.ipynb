{
 "metadata": {
  "name": "",
  "signature": "sha256:6f87fc6090a1f295afa1806a9ee95ebdf0084d477d1bf8021ecde9b3f1de02d5"
 },
 "nbformat": 3,
 "nbformat_minor": 0,
 "worksheets": [
  {
   "cells": [
    {
     "cell_type": "heading",
     "level": 1,
     "metadata": {},
     "source": [
      "Who is barbara-wold:11205"
     ]
    },
    {
     "cell_type": "markdown",
     "metadata": {},
     "source": [
      "There is a library on the DCC site that is named like it should be <a href=\"https://jumpgate.caltech.edu/library/11285/\">jumpgate:11285</a> but is named <a href=\"https://jumpgate.caltech.edu/library/11205/\">jumpgate:11205</a>. Which one is it really"
     ]
    },
    {
     "cell_type": "code",
     "collapsed": false,
     "input": [
      "from __future__ import print_function"
     ],
     "language": "python",
     "metadata": {},
     "outputs": [],
     "prompt_number": 1
    },
    {
     "cell_type": "code",
     "collapsed": false,
     "input": [
      "import logging\n",
      "import os\n",
      "import gzip\n",
      "\n",
      "from curation_common import *\n",
      "import validate_encode3_aliases \n"
     ],
     "language": "python",
     "metadata": {},
     "outputs": [],
     "prompt_number": 2
    },
    {
     "cell_type": "code",
     "collapsed": false,
     "input": [
      "server = ENCODED('www.encodedcc.org')\n",
      "server.load_netrc()"
     ],
     "language": "python",
     "metadata": {},
     "outputs": [],
     "prompt_number": 3
    },
    {
     "cell_type": "code",
     "collapsed": false,
     "input": [
      "validator = validate_encode3_aliases.CheckDCCWoldAlias('www.encodeproject.org')"
     ],
     "language": "python",
     "metadata": {},
     "outputs": [],
     "prompt_number": 4
    },
    {
     "cell_type": "markdown",
     "metadata": {},
     "source": [
      "For some reason these read ids have a trailing _1 at the end. so I need to slightly adjust the regex to find the flowcell id and lane id"
     ]
    },
    {
     "cell_type": "code",
     "collapsed": false,
     "input": [
      "validator.read_patterns.append(\"(?P<fc>[A-Z0-9]*A[AC]XX)_[^:]*:(?P<lane>[\\d]):\")"
     ],
     "language": "python",
     "metadata": {},
     "outputs": [],
     "prompt_number": 5
    },
    {
     "cell_type": "markdown",
     "metadata": {},
     "source": [
      "test to make sure it works..."
     ]
    },
    {
     "cell_type": "code",
     "collapsed": false,
     "input": [
      "validator.parse_read_id('@42YT6AAXX_HWUSI-EAS627_1:1:1:0:1162/2')"
     ],
     "language": "python",
     "metadata": {},
     "outputs": [
      {
       "metadata": {},
       "output_type": "pyout",
       "prompt_number": 6,
       "text": [
        "('42YT6AAXX', '1')"
       ]
      }
     ],
     "prompt_number": 6
    },
    {
     "cell_type": "code",
     "collapsed": false,
     "input": [
      "model = get_model()\n",
      "load_jsonld_into_model(model, server.get_jsonld('/experiments/ENCSR643QIZ/'))"
     ],
     "language": "python",
     "metadata": {},
     "outputs": [],
     "prompt_number": 7
    },
    {
     "cell_type": "markdown",
     "metadata": {},
     "source": [
      "Check ENCODE metadata for the files on this experiment"
     ]
    },
    {
     "cell_type": "code",
     "collapsed": false,
     "input": [
      "%%sparql -m model\n",
      "select distinct ?experiment ?library ?alias ?file ?format\n",
      "where {\n",
      "  ?experiment a experiment:experiment ;\n",
      "                experiment:replicates ?replicate .\n",
      "  ?replicate replicate:library ?library .\n",
      "  ?library library:aliases ?alias .\n",
      "  ?file <https://www.encodedcc.org/profiles/file.json#replicate> ?replicate ;\n",
      "        <https://www.encodedcc.org/profiles/file.json#file_format> ?format .\n",
      "} order by ?alias ?file"
     ],
     "language": "python",
     "metadata": {},
     "outputs": [
      {
       "html": [
        "<table><tr><td>experiment</td><td>library</td><td>alias</td><td>file</td><td>format</td></tr><tr><td><a href=\"https://www.encodedcc.org/experiments/ENCSR643QIZ/\">experiments:ENCSR643QIZ/</a></td><td><a href=\"https://www.encodedcc.org/libraries/ENCLB184USD/\">https://www.encodedcc.org/libraries/ENCLB184USD/</a></td><td>barbara-wold:10947</td><td><a href=\"https://www.encodedcc.org/files/ENCFF000DFP/\">https://www.encodedcc.org/files/ENCFF000DFP/</a></td><td>bam</td></tr><tr><td><a href=\"https://www.encodedcc.org/experiments/ENCSR643QIZ/\">experiments:ENCSR643QIZ/</a></td><td><a href=\"https://www.encodedcc.org/libraries/ENCLB184USD/\">https://www.encodedcc.org/libraries/ENCLB184USD/</a></td><td>barbara-wold:10947</td><td><a href=\"https://www.encodedcc.org/files/ENCFF000DFR/\">https://www.encodedcc.org/files/ENCFF000DFR/</a></td><td>bigWig</td></tr><tr><td><a href=\"https://www.encodedcc.org/experiments/ENCSR643QIZ/\">experiments:ENCSR643QIZ/</a></td><td><a href=\"https://www.encodedcc.org/libraries/ENCLB184USD/\">https://www.encodedcc.org/libraries/ENCLB184USD/</a></td><td>barbara-wold:10947</td><td><a href=\"https://www.encodedcc.org/files/ENCFF000DFT/\">https://www.encodedcc.org/files/ENCFF000DFT/</a></td><td>bigWig</td></tr><tr><td><a href=\"https://www.encodedcc.org/experiments/ENCSR643QIZ/\">experiments:ENCSR643QIZ/</a></td><td><a href=\"https://www.encodedcc.org/libraries/ENCLB184USD/\">https://www.encodedcc.org/libraries/ENCLB184USD/</a></td><td>barbara-wold:10947</td><td><a href=\"https://www.encodedcc.org/files/ENCFF000DFV/\">https://www.encodedcc.org/files/ENCFF000DFV/</a></td><td>bam</td></tr><tr><td><a href=\"https://www.encodedcc.org/experiments/ENCSR643QIZ/\">experiments:ENCSR643QIZ/</a></td><td><a href=\"https://www.encodedcc.org/libraries/ENCLB184USD/\">https://www.encodedcc.org/libraries/ENCLB184USD/</a></td><td>barbara-wold:10947</td><td><a href=\"https://www.encodedcc.org/files/ENCFF000DFW/\">https://www.encodedcc.org/files/ENCFF000DFW/</a></td><td>fastq</td></tr><tr><td><a href=\"https://www.encodedcc.org/experiments/ENCSR643QIZ/\">experiments:ENCSR643QIZ/</a></td><td><a href=\"https://www.encodedcc.org/libraries/ENCLB184USD/\">https://www.encodedcc.org/libraries/ENCLB184USD/</a></td><td>barbara-wold:10947</td><td><a href=\"https://www.encodedcc.org/files/ENCFF000DFX/\">https://www.encodedcc.org/files/ENCFF000DFX/</a></td><td>bigWig</td></tr><tr><td><a href=\"https://www.encodedcc.org/experiments/ENCSR643QIZ/\">experiments:ENCSR643QIZ/</a></td><td><a href=\"https://www.encodedcc.org/libraries/ENCLB184USD/\">https://www.encodedcc.org/libraries/ENCLB184USD/</a></td><td>barbara-wold:10947</td><td><a href=\"https://www.encodedcc.org/files/ENCFF000DGA/\">https://www.encodedcc.org/files/ENCFF000DGA/</a></td><td>bigWig</td></tr><tr><td><a href=\"https://www.encodedcc.org/experiments/ENCSR643QIZ/\">experiments:ENCSR643QIZ/</a></td><td><a href=\"https://www.encodedcc.org/libraries/ENCLB184USD/\">https://www.encodedcc.org/libraries/ENCLB184USD/</a></td><td>barbara-wold:10947</td><td><a href=\"https://www.encodedcc.org/files/ENCFF000DGD/\">https://www.encodedcc.org/files/ENCFF000DGD/</a></td><td>bigWig</td></tr><tr><td><a href=\"https://www.encodedcc.org/experiments/ENCSR643QIZ/\">experiments:ENCSR643QIZ/</a></td><td><a href=\"https://www.encodedcc.org/libraries/ENCLB184USD/\">https://www.encodedcc.org/libraries/ENCLB184USD/</a></td><td>barbara-wold:10947</td><td><a href=\"https://www.encodedcc.org/files/ENCFF000DGF/\">https://www.encodedcc.org/files/ENCFF000DGF/</a></td><td>bigWig</td></tr><tr><td><a href=\"https://www.encodedcc.org/experiments/ENCSR643QIZ/\">experiments:ENCSR643QIZ/</a></td><td><a href=\"https://www.encodedcc.org/libraries/ENCLB326EAU/\">https://www.encodedcc.org/libraries/ENCLB326EAU/</a></td><td>barbara-wold:11205</td><td><a href=\"https://www.encodedcc.org/files/ENCFF000DFQ/\">https://www.encodedcc.org/files/ENCFF000DFQ/</a></td><td>bam</td></tr><tr><td><a href=\"https://www.encodedcc.org/experiments/ENCSR643QIZ/\">experiments:ENCSR643QIZ/</a></td><td><a href=\"https://www.encodedcc.org/libraries/ENCLB326EAU/\">https://www.encodedcc.org/libraries/ENCLB326EAU/</a></td><td>barbara-wold:11205</td><td><a href=\"https://www.encodedcc.org/files/ENCFF000DFS/\">https://www.encodedcc.org/files/ENCFF000DFS/</a></td><td>bigWig</td></tr><tr><td><a href=\"https://www.encodedcc.org/experiments/ENCSR643QIZ/\">experiments:ENCSR643QIZ/</a></td><td><a href=\"https://www.encodedcc.org/libraries/ENCLB326EAU/\">https://www.encodedcc.org/libraries/ENCLB326EAU/</a></td><td>barbara-wold:11205</td><td><a href=\"https://www.encodedcc.org/files/ENCFF000DFU/\">https://www.encodedcc.org/files/ENCFF000DFU/</a></td><td>bigWig</td></tr><tr><td><a href=\"https://www.encodedcc.org/experiments/ENCSR643QIZ/\">experiments:ENCSR643QIZ/</a></td><td><a href=\"https://www.encodedcc.org/libraries/ENCLB326EAU/\">https://www.encodedcc.org/libraries/ENCLB326EAU/</a></td><td>barbara-wold:11205</td><td><a href=\"https://www.encodedcc.org/files/ENCFF000DFY/\">https://www.encodedcc.org/files/ENCFF000DFY/</a></td><td>bam</td></tr><tr><td><a href=\"https://www.encodedcc.org/experiments/ENCSR643QIZ/\">experiments:ENCSR643QIZ/</a></td><td><a href=\"https://www.encodedcc.org/libraries/ENCLB326EAU/\">https://www.encodedcc.org/libraries/ENCLB326EAU/</a></td><td>barbara-wold:11205</td><td><a href=\"https://www.encodedcc.org/files/ENCFF000DFZ/\">https://www.encodedcc.org/files/ENCFF000DFZ/</a></td><td>bigWig</td></tr><tr><td><a href=\"https://www.encodedcc.org/experiments/ENCSR643QIZ/\">experiments:ENCSR643QIZ/</a></td><td><a href=\"https://www.encodedcc.org/libraries/ENCLB326EAU/\">https://www.encodedcc.org/libraries/ENCLB326EAU/</a></td><td>barbara-wold:11205</td><td><a href=\"https://www.encodedcc.org/files/ENCFF000DGB/\">https://www.encodedcc.org/files/ENCFF000DGB/</a></td><td>fastq</td></tr><tr><td><a href=\"https://www.encodedcc.org/experiments/ENCSR643QIZ/\">experiments:ENCSR643QIZ/</a></td><td><a href=\"https://www.encodedcc.org/libraries/ENCLB326EAU/\">https://www.encodedcc.org/libraries/ENCLB326EAU/</a></td><td>barbara-wold:11205</td><td><a href=\"https://www.encodedcc.org/files/ENCFF000DGC/\">https://www.encodedcc.org/files/ENCFF000DGC/</a></td><td>bigWig</td></tr><tr><td><a href=\"https://www.encodedcc.org/experiments/ENCSR643QIZ/\">experiments:ENCSR643QIZ/</a></td><td><a href=\"https://www.encodedcc.org/libraries/ENCLB326EAU/\">https://www.encodedcc.org/libraries/ENCLB326EAU/</a></td><td>barbara-wold:11205</td><td><a href=\"https://www.encodedcc.org/files/ENCFF000DGE/\">https://www.encodedcc.org/files/ENCFF000DGE/</a></td><td>bigWig</td></tr><tr><td><a href=\"https://www.encodedcc.org/experiments/ENCSR643QIZ/\">experiments:ENCSR643QIZ/</a></td><td><a href=\"https://www.encodedcc.org/libraries/ENCLB326EAU/\">https://www.encodedcc.org/libraries/ENCLB326EAU/</a></td><td>barbara-wold:11205</td><td><a href=\"https://www.encodedcc.org/files/ENCFF000DGG/\">https://www.encodedcc.org/files/ENCFF000DGG/</a></td><td>bigWig</td></tr></table>"
       ],
       "metadata": {},
       "output_type": "pyout",
       "prompt_number": 8,
       "text": [
        "<rdfmagic.LibRdfResults at 0x7fc9cac954d0>"
       ]
      }
     ],
     "prompt_number": 8
    },
    {
     "cell_type": "code",
     "collapsed": false,
     "input": [
      "if not os.path.exists('ENCSR643QIZ'):\n",
      "    !../encode-annex/encode-annex.py --init -d ENCSR643QIZ ENCSR643QIZ\n",
      "else:\n",
      "    print('Already created')"
     ],
     "language": "python",
     "metadata": {},
     "outputs": [
      {
       "output_type": "stream",
       "stream": "stdout",
       "text": [
        "Already created\n"
       ]
      }
     ],
     "prompt_number": 9
    },
    {
     "cell_type": "heading",
     "level": 1,
     "metadata": {},
     "source": [
      "Check bam file contents"
     ]
    },
    {
     "cell_type": "heading",
     "level": 3,
     "metadata": {},
     "source": [
      "Tell git annex to download the bam files"
     ]
    },
    {
     "cell_type": "code",
     "collapsed": false,
     "input": [
      "%%bash\n",
      "pushd ENCSR643QIZ\n",
      "git-annex get *.bam\n",
      "popd"
     ],
     "language": "python",
     "metadata": {},
     "outputs": [
      {
       "output_type": "stream",
       "stream": "stdout",
       "text": [
        "~/proj/encode3-curation/ENCSR643QIZ ~/proj/encode3-curation\n",
        "~/proj/encode3-curation\n"
       ]
      }
     ],
     "prompt_number": 10
    },
    {
     "cell_type": "code",
     "collapsed": false,
     "input": [
      "ls ENCSR643QIZ/*.bam"
     ],
     "language": "python",
     "metadata": {},
     "outputs": [
      {
       "output_type": "stream",
       "stream": "stdout",
       "text": [
        "\u001b[0m\u001b[01;36mENCSR643QIZ/ENCFF000DFP.bam\u001b[0m@  \u001b[01;36mENCSR643QIZ/ENCFF000DFQ.bam\u001b[0m@  \u001b[01;36mENCSR643QIZ/ENCFF000DFV.bam\u001b[0m@  \u001b[01;36mENCSR643QIZ/ENCFF000DFY.bam\u001b[0m@\r\n"
       ]
      }
     ],
     "prompt_number": 11
    },
    {
     "cell_type": "heading",
     "level": 3,
     "metadata": {},
     "source": [
      "So what flowcells are actually in the bam files?"
     ]
    },
    {
     "cell_type": "code",
     "collapsed": false,
     "input": [
      "!samtools view ENCSR643QIZ/ENCFF000DFQ.bam | cut -f 1,2 -d ':' | sort | uniq -c"
     ],
     "language": "python",
     "metadata": {},
     "outputs": [
      {
       "output_type": "stream",
       "stream": "stdout",
       "text": [
        "14817212 42JV5AAXX_HWI-EAS229_1:4\r\n"
       ]
      },
      {
       "output_type": "stream",
       "stream": "stdout",
       "text": [
        " 552562 42L9EAAXX_HWI-EAS229_1:5\r\n"
       ]
      },
      {
       "output_type": "stream",
       "stream": "stdout",
       "text": [
        "14158672 612UOAAXX_HWI-EAS229_1:2\r\n"
       ]
      }
     ],
     "prompt_number": 12
    },
    {
     "cell_type": "code",
     "collapsed": false,
     "input": [
      "validate_encode3_aliases.lookup_library_id_from_lims('42JV5AAXX', '4')"
     ],
     "language": "python",
     "metadata": {},
     "outputs": [
      {
       "metadata": {},
       "output_type": "pyout",
       "prompt_number": 13,
       "text": [
        "['11009']"
       ]
      }
     ],
     "prompt_number": 13
    },
    {
     "cell_type": "code",
     "collapsed": false,
     "input": [
      "validate_encode3_aliases.lookup_library_id_from_lims('42L9EAAXX', '5')"
     ],
     "language": "python",
     "metadata": {},
     "outputs": [
      {
       "metadata": {},
       "output_type": "pyout",
       "prompt_number": 14,
       "text": [
        "['11009']"
       ]
      }
     ],
     "prompt_number": 14
    },
    {
     "cell_type": "code",
     "collapsed": false,
     "input": [
      "validate_encode3_aliases.lookup_library_id_from_lims('612UOAAXX', '2')"
     ],
     "language": "python",
     "metadata": {},
     "outputs": [
      {
       "metadata": {},
       "output_type": "pyout",
       "prompt_number": 15,
       "text": [
        "['11009']"
       ]
      }
     ],
     "prompt_number": 15
    },
    {
     "cell_type": "code",
     "collapsed": false,
     "input": [
      "!samtools view ENCSR643QIZ/ENCFF000DFP.bam | cut -f 1,2 -d ':' | sort | uniq -c"
     ],
     "language": "python",
     "metadata": {},
     "outputs": [
      {
       "output_type": "stream",
       "stream": "stdout",
       "text": [
        "10487738 42YKVAAXX_HWI-EAS229_1:1\r\n"
       ]
      },
      {
       "output_type": "stream",
       "stream": "stdout",
       "text": [
        "7080203 612UOAAXX_HWI-EAS229_1:1\r\n"
       ]
      }
     ],
     "prompt_number": 16
    },
    {
     "cell_type": "code",
     "collapsed": false,
     "input": [
      "!samtools view ENCSR643QIZ/ENCFF000DFV.bam | cut -f 1,2 -d ':' | sort | uniq -c"
     ],
     "language": "python",
     "metadata": {},
     "outputs": [
      {
       "output_type": "stream",
       "stream": "stdout",
       "text": [
        "1992862 42YKVAAXX_HWI-EAS229_1:1\r\n"
       ]
      },
      {
       "output_type": "stream",
       "stream": "stdout",
       "text": [
        "1362497 612UOAAXX_HWI-EAS229_1:1\r\n"
       ]
      }
     ],
     "prompt_number": 17
    },
    {
     "cell_type": "code",
     "collapsed": false,
     "input": [
      "validate_encode3_aliases.lookup_library_id_from_lims('42YKVAAXX', '1')"
     ],
     "language": "python",
     "metadata": {},
     "outputs": [
      {
       "metadata": {},
       "output_type": "pyout",
       "prompt_number": 18,
       "text": [
        "['10947']"
       ]
      }
     ],
     "prompt_number": 18
    },
    {
     "cell_type": "code",
     "collapsed": false,
     "input": [
      "validate_encode3_aliases.lookup_library_id_from_lims('612UOAAXX', '1')"
     ],
     "language": "python",
     "metadata": {},
     "outputs": [
      {
       "metadata": {},
       "output_type": "pyout",
       "prompt_number": 19,
       "text": [
        "['10947']"
       ]
      }
     ],
     "prompt_number": 19
    },
    {
     "cell_type": "markdown",
     "metadata": {},
     "source": [
      "So, why is there both ENCFF000DFP.bam and ENCFF000DFV.bam? They seem to have the same two flowcells, but a different number of reads?"
     ]
    },
    {
     "cell_type": "heading",
     "level": 1,
     "metadata": {},
     "source": [
      "Check fastq contents"
     ]
    },
    {
     "cell_type": "code",
     "collapsed": false,
     "input": [
      "%%bash\n",
      "pushd ENCSR643QIZ\n",
      "git-annex get *.fastq\n",
      "popd"
     ],
     "language": "python",
     "metadata": {},
     "outputs": [
      {
       "output_type": "stream",
       "stream": "stdout",
       "text": [
        "~/proj/encode3-curation/ENCSR643QIZ ~/proj/encode3-curation\n",
        "~/proj/encode3-curation\n"
       ]
      }
     ],
     "prompt_number": 20
    },
    {
     "cell_type": "code",
     "collapsed": false,
     "input": [
      "ls ENCSR643QIZ/*.fastq"
     ],
     "language": "python",
     "metadata": {},
     "outputs": [
      {
       "output_type": "stream",
       "stream": "stdout",
       "text": [
        "\u001b[0m\u001b[01;36mENCSR643QIZ/ENCFF000DFW.fastq\u001b[0m@  \u001b[01;36mENCSR643QIZ/ENCFF000DGB.fastq\u001b[0m@\r\n"
       ]
      }
     ],
     "prompt_number": 21
    },
    {
     "cell_type": "code",
     "collapsed": false,
     "input": [
      "def find_flowcell_ids(filename):\n",
      "    # actually the files are compressed, even though they don't end in .gz\n",
      "    with gzip.GzipFile(filename, 'r') as stream:\n",
      "        reads = set()\n",
      "        for i, line in enumerate(stream):\n",
      "            if i % 4 == 0:\n",
      "                reads.add(validator.parse_read_id(line))\n",
      "        return reads"
     ],
     "language": "python",
     "metadata": {},
     "outputs": [],
     "prompt_number": 22
    },
    {
     "cell_type": "code",
     "collapsed": false,
     "input": [
      "def flowcell_to_library(filename):\n",
      "    report_format = '{:10} {:5} {:6}'\n",
      "    print(report_format.format('flowcell', 'lane', 'library'))\n",
      "    for read_id in find_flowcell_ids(filename):\n",
      "        lib_id = validate_encode3_aliases.lookup_library_id_from_lims(*read_id)\n",
      "        print(report_format.format(read_id[0], read_id[1], lib_id))"
     ],
     "language": "python",
     "metadata": {},
     "outputs": [],
     "prompt_number": 24
    },
    {
     "cell_type": "code",
     "collapsed": false,
     "input": [
      "flowcell_to_library('ENCSR643QIZ/ENCFF000DFW.fastq')"
     ],
     "language": "python",
     "metadata": {},
     "outputs": [
      {
       "output_type": "stream",
       "stream": "stdout",
       "text": [
        "flowcell   lane  library\n",
        "42YKVAAXX  1     ['10947']"
       ]
      },
      {
       "output_type": "stream",
       "stream": "stdout",
       "text": [
        "\n",
        "612UOAAXX  1     ['10947']"
       ]
      },
      {
       "output_type": "stream",
       "stream": "stdout",
       "text": [
        "\n"
       ]
      }
     ],
     "prompt_number": 25
    },
    {
     "cell_type": "code",
     "collapsed": false,
     "input": [
      "flowcell_to_library('ENCSR643QIZ/ENCFF000DGB.fastq')"
     ],
     "language": "python",
     "metadata": {},
     "outputs": [
      {
       "output_type": "stream",
       "stream": "stdout",
       "text": [
        "flowcell   lane  library\n",
        "42L9EAAXX  5     ['11009']"
       ]
      },
      {
       "output_type": "stream",
       "stream": "stdout",
       "text": [
        "\n",
        "42JV5AAXX  4     ['11009']"
       ]
      },
      {
       "output_type": "stream",
       "stream": "stdout",
       "text": [
        "\n",
        "612UOAAXX  2     ['11009']"
       ]
      },
      {
       "output_type": "stream",
       "stream": "stdout",
       "text": [
        "\n"
       ]
      }
     ],
     "prompt_number": 26
    },
    {
     "cell_type": "code",
     "collapsed": false,
     "input": [],
     "language": "python",
     "metadata": {},
     "outputs": []
    }
   ],
   "metadata": {}
  }
 ]
}