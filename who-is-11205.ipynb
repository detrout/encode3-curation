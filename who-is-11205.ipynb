{
 "metadata": {
  "name": "",
  "signature": "sha256:16cb290335e76dbedb15f10b4fcd1ddd1c8cc5a43cdcf88abf09b179edce40b9"
 },
 "nbformat": 3,
 "nbformat_minor": 0,
 "worksheets": [
  {
   "cells": [
    {
     "cell_type": "heading",
     "level": 1,
     "metadata": {},
     "source": [
      "Who is barbara-wold:11205"
     ]
    },
    {
     "cell_type": "markdown",
     "metadata": {},
     "source": [
      "There is a library on the DCC site that is named like it should be <a href=\"https://jumpgate.caltech.edu/library/11285/\">jumpgate:11285</a> but is named <a href=\"https://jumpgate.caltech.edu/library/11205/\">jumpgate:11205</a>. Which one is it really"
     ]
    },
    {
     "cell_type": "code",
     "collapsed": false,
     "input": [
      "from __future__ import print_function"
     ],
     "language": "python",
     "metadata": {},
     "outputs": [],
     "prompt_number": 1
    },
    {
     "cell_type": "code",
     "collapsed": false,
     "input": [
      "import logging\n",
      "import os\n",
      "\n",
      "from curation_common import *\n",
      "import validate_encode3_aliases \n"
     ],
     "language": "python",
     "metadata": {},
     "outputs": [],
     "prompt_number": 2
    },
    {
     "cell_type": "code",
     "collapsed": false,
     "input": [
      "server = ENCODED('www.encodedcc.org')\n",
      "server.load_netrc()"
     ],
     "language": "python",
     "metadata": {},
     "outputs": [],
     "prompt_number": 3
    },
    {
     "cell_type": "code",
     "collapsed": false,
     "input": [
      "model = get_model()"
     ],
     "language": "python",
     "metadata": {},
     "outputs": [],
     "prompt_number": 4
    },
    {
     "cell_type": "code",
     "collapsed": false,
     "input": [
      "validator = validate_encode3_aliases.CheckDCCWoldAlias('www.encodeproject.org')"
     ],
     "language": "python",
     "metadata": {},
     "outputs": [],
     "prompt_number": 5
    },
    {
     "cell_type": "code",
     "collapsed": false,
     "input": [
      "validator.read_patterns.append(\"(?P<fc>[A-Z0-9]*A[AC]XX)_[^:]*:(?P<lane>[\\d]):\")"
     ],
     "language": "python",
     "metadata": {},
     "outputs": [],
     "prompt_number": 6
    },
    {
     "cell_type": "code",
     "collapsed": false,
     "input": [
      "validator.parse_read_id('@42YT6AAXX_HWUSI-EAS627_1:1:1:0:1162/2')"
     ],
     "language": "python",
     "metadata": {},
     "outputs": [
      {
       "metadata": {},
       "output_type": "pyout",
       "prompt_number": 7,
       "text": [
        "('42YT6AAXX', '1')"
       ]
      }
     ],
     "prompt_number": 7
    },
    {
     "cell_type": "code",
     "collapsed": false,
     "input": [
      "def lookup_libraries_for_query(query):\n",
      "    for row in query:\n",
      "        href = str(row['href'])\n",
      "        read_id = validate_encode3_aliases.fastq_read_id(href)\n",
      "        if read_id:\n",
      "            flowcell, lane = validator.parse_read_id(read_id)\n",
      "            library = validate_encode3_aliases.lookup_library_id_from_lims(flowcell, lane)\n",
      "            print(href, flowcell, lane, library)\n",
      "        else:\n",
      "            print('couldnt parse {}'.format(href))\n",
      "    "
     ],
     "language": "python",
     "metadata": {},
     "outputs": [],
     "prompt_number": 8
    },
    {
     "cell_type": "code",
     "collapsed": false,
     "input": [
      "model = get_model()\n",
      "load_jsonld_into_model(model, server.get_jsonld('/experiments/ENCSR000EYS/'))"
     ],
     "language": "python",
     "metadata": {},
     "outputs": [],
     "prompt_number": 9
    },
    {
     "cell_type": "code",
     "collapsed": false,
     "input": [
      "%%sparql -m model -o files\n",
      "select ?experiment ?href ?type\n",
      "where {\n",
      "  ?f a  <https://www.encodeproject.org/profiles/file.json#file> ;\n",
      "     <https://www.encodeproject.org/profiles/file.json#href> ?href ;\n",
      "     <https://www.encodeproject.org/profiles/file.json#output_type> ?type .\n",
      "  ?experiment <https://www.encodeproject.org/profiles/experiment.json#files> ?f .\n",
      "  filter(regex(?type, \"reads\", \"i\"))\n",
      "}"
     ],
     "language": "python",
     "metadata": {},
     "outputs": [],
     "prompt_number": 10
    },
    {
     "cell_type": "code",
     "collapsed": false,
     "input": [
      "model = get_model()\n",
      "load_jsonld_into_model(model, server.get_jsonld('/experiments/ENCSR643QIZ/'))"
     ],
     "language": "python",
     "metadata": {},
     "outputs": [],
     "prompt_number": 11
    },
    {
     "cell_type": "code",
     "collapsed": false,
     "input": [
      "%%sparql -m model -o files\n",
      "select ?experiment ?href ?type\n",
      "where {\n",
      "  ?f a  <https://www.encodeproject.org/profiles/file.json#file> ;\n",
      "     <https://www.encodeproject.org/profiles/file.json#href> ?href ;\n",
      "     <https://www.encodeproject.org/profiles/file.json#output_type> ?type .\n",
      "  ?experiment <https://www.encodeproject.org/profiles/experiment.json#files> ?f .\n",
      "  filter(regex(?type, \"reads\", \"i\"))\n",
      "}"
     ],
     "language": "python",
     "metadata": {},
     "outputs": [],
     "prompt_number": 12
    },
    {
     "cell_type": "code",
     "collapsed": false,
     "input": [
      "lookup_libraries_for_query(files)"
     ],
     "language": "python",
     "metadata": {},
     "outputs": [],
     "prompt_number": 13
    },
    {
     "cell_type": "code",
     "collapsed": false,
     "input": [
      "%%sparql -m model\n",
      "select distinct ?experiment ?library ?alias ?file\n",
      "where {\n",
      "  ?experiment a experiment:experiment ;\n",
      "                experiment:replicates ?replicate .\n",
      "  ?replicate replicate:library ?library .\n",
      "  ?library library:aliases ?alias .\n",
      "  ?file <https://www.encodedcc.org/profiles/file.json#replicate> ?replicate\n",
      "}"
     ],
     "language": "python",
     "metadata": {},
     "outputs": [
      {
       "html": [
        "<table><tr><td>experiment</td><td>library</td><td>alias</td><td>file</td></tr><tr><td><a href=\"https://www.encodedcc.org/experiments/ENCSR643QIZ/\">experiments:ENCSR643QIZ/</a></td><td><a href=\"https://www.encodedcc.org/libraries/ENCLB326EAU/\">https://www.encodedcc.org/libraries/ENCLB326EAU/</a></td><td>barbara-wold:11205</td><td><a href=\"https://www.encodedcc.org/files/ENCFF000DFQ/\">https://www.encodedcc.org/files/ENCFF000DFQ/</a></td></tr><tr><td><a href=\"https://www.encodedcc.org/experiments/ENCSR643QIZ/\">experiments:ENCSR643QIZ/</a></td><td><a href=\"https://www.encodedcc.org/libraries/ENCLB326EAU/\">https://www.encodedcc.org/libraries/ENCLB326EAU/</a></td><td>barbara-wold:11205</td><td><a href=\"https://www.encodedcc.org/files/ENCFF000DFS/\">https://www.encodedcc.org/files/ENCFF000DFS/</a></td></tr><tr><td><a href=\"https://www.encodedcc.org/experiments/ENCSR643QIZ/\">experiments:ENCSR643QIZ/</a></td><td><a href=\"https://www.encodedcc.org/libraries/ENCLB326EAU/\">https://www.encodedcc.org/libraries/ENCLB326EAU/</a></td><td>barbara-wold:11205</td><td><a href=\"https://www.encodedcc.org/files/ENCFF000DFU/\">https://www.encodedcc.org/files/ENCFF000DFU/</a></td></tr><tr><td><a href=\"https://www.encodedcc.org/experiments/ENCSR643QIZ/\">experiments:ENCSR643QIZ/</a></td><td><a href=\"https://www.encodedcc.org/libraries/ENCLB326EAU/\">https://www.encodedcc.org/libraries/ENCLB326EAU/</a></td><td>barbara-wold:11205</td><td><a href=\"https://www.encodedcc.org/files/ENCFF000DFY/\">https://www.encodedcc.org/files/ENCFF000DFY/</a></td></tr><tr><td><a href=\"https://www.encodedcc.org/experiments/ENCSR643QIZ/\">experiments:ENCSR643QIZ/</a></td><td><a href=\"https://www.encodedcc.org/libraries/ENCLB326EAU/\">https://www.encodedcc.org/libraries/ENCLB326EAU/</a></td><td>barbara-wold:11205</td><td><a href=\"https://www.encodedcc.org/files/ENCFF000DFZ/\">https://www.encodedcc.org/files/ENCFF000DFZ/</a></td></tr><tr><td><a href=\"https://www.encodedcc.org/experiments/ENCSR643QIZ/\">experiments:ENCSR643QIZ/</a></td><td><a href=\"https://www.encodedcc.org/libraries/ENCLB326EAU/\">https://www.encodedcc.org/libraries/ENCLB326EAU/</a></td><td>barbara-wold:11205</td><td><a href=\"https://www.encodedcc.org/files/ENCFF000DGB/\">https://www.encodedcc.org/files/ENCFF000DGB/</a></td></tr><tr><td><a href=\"https://www.encodedcc.org/experiments/ENCSR643QIZ/\">experiments:ENCSR643QIZ/</a></td><td><a href=\"https://www.encodedcc.org/libraries/ENCLB326EAU/\">https://www.encodedcc.org/libraries/ENCLB326EAU/</a></td><td>barbara-wold:11205</td><td><a href=\"https://www.encodedcc.org/files/ENCFF000DGC/\">https://www.encodedcc.org/files/ENCFF000DGC/</a></td></tr><tr><td><a href=\"https://www.encodedcc.org/experiments/ENCSR643QIZ/\">experiments:ENCSR643QIZ/</a></td><td><a href=\"https://www.encodedcc.org/libraries/ENCLB326EAU/\">https://www.encodedcc.org/libraries/ENCLB326EAU/</a></td><td>barbara-wold:11205</td><td><a href=\"https://www.encodedcc.org/files/ENCFF000DGE/\">https://www.encodedcc.org/files/ENCFF000DGE/</a></td></tr><tr><td><a href=\"https://www.encodedcc.org/experiments/ENCSR643QIZ/\">experiments:ENCSR643QIZ/</a></td><td><a href=\"https://www.encodedcc.org/libraries/ENCLB326EAU/\">https://www.encodedcc.org/libraries/ENCLB326EAU/</a></td><td>barbara-wold:11205</td><td><a href=\"https://www.encodedcc.org/files/ENCFF000DGG/\">https://www.encodedcc.org/files/ENCFF000DGG/</a></td></tr><tr><td><a href=\"https://www.encodedcc.org/experiments/ENCSR643QIZ/\">experiments:ENCSR643QIZ/</a></td><td><a href=\"https://www.encodedcc.org/libraries/ENCLB184USD/\">https://www.encodedcc.org/libraries/ENCLB184USD/</a></td><td>barbara-wold:10947</td><td><a href=\"https://www.encodedcc.org/files/ENCFF000DFP/\">https://www.encodedcc.org/files/ENCFF000DFP/</a></td></tr><tr><td><a href=\"https://www.encodedcc.org/experiments/ENCSR643QIZ/\">experiments:ENCSR643QIZ/</a></td><td><a href=\"https://www.encodedcc.org/libraries/ENCLB184USD/\">https://www.encodedcc.org/libraries/ENCLB184USD/</a></td><td>barbara-wold:10947</td><td><a href=\"https://www.encodedcc.org/files/ENCFF000DFR/\">https://www.encodedcc.org/files/ENCFF000DFR/</a></td></tr><tr><td><a href=\"https://www.encodedcc.org/experiments/ENCSR643QIZ/\">experiments:ENCSR643QIZ/</a></td><td><a href=\"https://www.encodedcc.org/libraries/ENCLB184USD/\">https://www.encodedcc.org/libraries/ENCLB184USD/</a></td><td>barbara-wold:10947</td><td><a href=\"https://www.encodedcc.org/files/ENCFF000DFT/\">https://www.encodedcc.org/files/ENCFF000DFT/</a></td></tr><tr><td><a href=\"https://www.encodedcc.org/experiments/ENCSR643QIZ/\">experiments:ENCSR643QIZ/</a></td><td><a href=\"https://www.encodedcc.org/libraries/ENCLB184USD/\">https://www.encodedcc.org/libraries/ENCLB184USD/</a></td><td>barbara-wold:10947</td><td><a href=\"https://www.encodedcc.org/files/ENCFF000DFV/\">https://www.encodedcc.org/files/ENCFF000DFV/</a></td></tr><tr><td><a href=\"https://www.encodedcc.org/experiments/ENCSR643QIZ/\">experiments:ENCSR643QIZ/</a></td><td><a href=\"https://www.encodedcc.org/libraries/ENCLB184USD/\">https://www.encodedcc.org/libraries/ENCLB184USD/</a></td><td>barbara-wold:10947</td><td><a href=\"https://www.encodedcc.org/files/ENCFF000DFW/\">https://www.encodedcc.org/files/ENCFF000DFW/</a></td></tr><tr><td><a href=\"https://www.encodedcc.org/experiments/ENCSR643QIZ/\">experiments:ENCSR643QIZ/</a></td><td><a href=\"https://www.encodedcc.org/libraries/ENCLB184USD/\">https://www.encodedcc.org/libraries/ENCLB184USD/</a></td><td>barbara-wold:10947</td><td><a href=\"https://www.encodedcc.org/files/ENCFF000DFX/\">https://www.encodedcc.org/files/ENCFF000DFX/</a></td></tr><tr><td><a href=\"https://www.encodedcc.org/experiments/ENCSR643QIZ/\">experiments:ENCSR643QIZ/</a></td><td><a href=\"https://www.encodedcc.org/libraries/ENCLB184USD/\">https://www.encodedcc.org/libraries/ENCLB184USD/</a></td><td>barbara-wold:10947</td><td><a href=\"https://www.encodedcc.org/files/ENCFF000DGA/\">https://www.encodedcc.org/files/ENCFF000DGA/</a></td></tr><tr><td><a href=\"https://www.encodedcc.org/experiments/ENCSR643QIZ/\">experiments:ENCSR643QIZ/</a></td><td><a href=\"https://www.encodedcc.org/libraries/ENCLB184USD/\">https://www.encodedcc.org/libraries/ENCLB184USD/</a></td><td>barbara-wold:10947</td><td><a href=\"https://www.encodedcc.org/files/ENCFF000DGD/\">https://www.encodedcc.org/files/ENCFF000DGD/</a></td></tr><tr><td><a href=\"https://www.encodedcc.org/experiments/ENCSR643QIZ/\">experiments:ENCSR643QIZ/</a></td><td><a href=\"https://www.encodedcc.org/libraries/ENCLB184USD/\">https://www.encodedcc.org/libraries/ENCLB184USD/</a></td><td>barbara-wold:10947</td><td><a href=\"https://www.encodedcc.org/files/ENCFF000DGF/\">https://www.encodedcc.org/files/ENCFF000DGF/</a></td></tr></table>"
       ],
       "metadata": {},
       "output_type": "pyout",
       "prompt_number": 27,
       "text": [
        "<rdfmagic.LibRdfResults at 0x7ffd051b9490>"
       ]
      }
     ],
     "prompt_number": 27
    },
    {
     "cell_type": "code",
     "collapsed": false,
     "input": [
      "%%sparql -m model \n",
      "select ?file ?replicate \n",
      "where {\n",
      "  ?file <https://www.encodedcc.org/profiles/file.json#replicate> ?replicate .\n",
      "}\n"
     ],
     "language": "python",
     "metadata": {},
     "outputs": [
      {
       "html": [
        "<table><tr><td>file</td><td>replicate</td></tr><tr><td><a href=\"https://www.encodedcc.org/files/ENCFF000DFP/\">https://www.encodedcc.org/files/ENCFF000DFP/</a></td><td><a href=\"https://www.encodedcc.org/replicates/352c337c-1f88-411e-8fdf-49c5c04cdf72/\">https://www.encodedcc.org/replicates/352c337c-1f88-411e-8fdf-49c5c04cdf72/</a></td></tr><tr><td><a href=\"https://www.encodedcc.org/files/ENCFF000DFQ/\">https://www.encodedcc.org/files/ENCFF000DFQ/</a></td><td><a href=\"https://www.encodedcc.org/replicates/7a105b9e-4500-4271-a7b6-23ea2962847d/\">https://www.encodedcc.org/replicates/7a105b9e-4500-4271-a7b6-23ea2962847d/</a></td></tr><tr><td><a href=\"https://www.encodedcc.org/files/ENCFF000DFR/\">https://www.encodedcc.org/files/ENCFF000DFR/</a></td><td><a href=\"https://www.encodedcc.org/replicates/352c337c-1f88-411e-8fdf-49c5c04cdf72/\">https://www.encodedcc.org/replicates/352c337c-1f88-411e-8fdf-49c5c04cdf72/</a></td></tr><tr><td><a href=\"https://www.encodedcc.org/files/ENCFF000DFS/\">https://www.encodedcc.org/files/ENCFF000DFS/</a></td><td><a href=\"https://www.encodedcc.org/replicates/7a105b9e-4500-4271-a7b6-23ea2962847d/\">https://www.encodedcc.org/replicates/7a105b9e-4500-4271-a7b6-23ea2962847d/</a></td></tr><tr><td><a href=\"https://www.encodedcc.org/files/ENCFF000DFT/\">https://www.encodedcc.org/files/ENCFF000DFT/</a></td><td><a href=\"https://www.encodedcc.org/replicates/352c337c-1f88-411e-8fdf-49c5c04cdf72/\">https://www.encodedcc.org/replicates/352c337c-1f88-411e-8fdf-49c5c04cdf72/</a></td></tr><tr><td><a href=\"https://www.encodedcc.org/files/ENCFF000DFU/\">https://www.encodedcc.org/files/ENCFF000DFU/</a></td><td><a href=\"https://www.encodedcc.org/replicates/7a105b9e-4500-4271-a7b6-23ea2962847d/\">https://www.encodedcc.org/replicates/7a105b9e-4500-4271-a7b6-23ea2962847d/</a></td></tr><tr><td><a href=\"https://www.encodedcc.org/files/ENCFF000DFV/\">https://www.encodedcc.org/files/ENCFF000DFV/</a></td><td><a href=\"https://www.encodedcc.org/replicates/352c337c-1f88-411e-8fdf-49c5c04cdf72/\">https://www.encodedcc.org/replicates/352c337c-1f88-411e-8fdf-49c5c04cdf72/</a></td></tr><tr><td><a href=\"https://www.encodedcc.org/files/ENCFF000DFW/\">https://www.encodedcc.org/files/ENCFF000DFW/</a></td><td><a href=\"https://www.encodedcc.org/replicates/352c337c-1f88-411e-8fdf-49c5c04cdf72/\">https://www.encodedcc.org/replicates/352c337c-1f88-411e-8fdf-49c5c04cdf72/</a></td></tr><tr><td><a href=\"https://www.encodedcc.org/files/ENCFF000DFX/\">https://www.encodedcc.org/files/ENCFF000DFX/</a></td><td><a href=\"https://www.encodedcc.org/replicates/352c337c-1f88-411e-8fdf-49c5c04cdf72/\">https://www.encodedcc.org/replicates/352c337c-1f88-411e-8fdf-49c5c04cdf72/</a></td></tr><tr><td><a href=\"https://www.encodedcc.org/files/ENCFF000DFY/\">https://www.encodedcc.org/files/ENCFF000DFY/</a></td><td><a href=\"https://www.encodedcc.org/replicates/7a105b9e-4500-4271-a7b6-23ea2962847d/\">https://www.encodedcc.org/replicates/7a105b9e-4500-4271-a7b6-23ea2962847d/</a></td></tr><tr><td><a href=\"https://www.encodedcc.org/files/ENCFF000DFZ/\">https://www.encodedcc.org/files/ENCFF000DFZ/</a></td><td><a href=\"https://www.encodedcc.org/replicates/7a105b9e-4500-4271-a7b6-23ea2962847d/\">https://www.encodedcc.org/replicates/7a105b9e-4500-4271-a7b6-23ea2962847d/</a></td></tr><tr><td><a href=\"https://www.encodedcc.org/files/ENCFF000DGA/\">https://www.encodedcc.org/files/ENCFF000DGA/</a></td><td><a href=\"https://www.encodedcc.org/replicates/352c337c-1f88-411e-8fdf-49c5c04cdf72/\">https://www.encodedcc.org/replicates/352c337c-1f88-411e-8fdf-49c5c04cdf72/</a></td></tr><tr><td><a href=\"https://www.encodedcc.org/files/ENCFF000DGB/\">https://www.encodedcc.org/files/ENCFF000DGB/</a></td><td><a href=\"https://www.encodedcc.org/replicates/7a105b9e-4500-4271-a7b6-23ea2962847d/\">https://www.encodedcc.org/replicates/7a105b9e-4500-4271-a7b6-23ea2962847d/</a></td></tr><tr><td><a href=\"https://www.encodedcc.org/files/ENCFF000DGC/\">https://www.encodedcc.org/files/ENCFF000DGC/</a></td><td><a href=\"https://www.encodedcc.org/replicates/7a105b9e-4500-4271-a7b6-23ea2962847d/\">https://www.encodedcc.org/replicates/7a105b9e-4500-4271-a7b6-23ea2962847d/</a></td></tr><tr><td><a href=\"https://www.encodedcc.org/files/ENCFF000DGD/\">https://www.encodedcc.org/files/ENCFF000DGD/</a></td><td><a href=\"https://www.encodedcc.org/replicates/352c337c-1f88-411e-8fdf-49c5c04cdf72/\">https://www.encodedcc.org/replicates/352c337c-1f88-411e-8fdf-49c5c04cdf72/</a></td></tr><tr><td><a href=\"https://www.encodedcc.org/files/ENCFF000DGE/\">https://www.encodedcc.org/files/ENCFF000DGE/</a></td><td><a href=\"https://www.encodedcc.org/replicates/7a105b9e-4500-4271-a7b6-23ea2962847d/\">https://www.encodedcc.org/replicates/7a105b9e-4500-4271-a7b6-23ea2962847d/</a></td></tr><tr><td><a href=\"https://www.encodedcc.org/files/ENCFF000DGF/\">https://www.encodedcc.org/files/ENCFF000DGF/</a></td><td><a href=\"https://www.encodedcc.org/replicates/352c337c-1f88-411e-8fdf-49c5c04cdf72/\">https://www.encodedcc.org/replicates/352c337c-1f88-411e-8fdf-49c5c04cdf72/</a></td></tr><tr><td><a href=\"https://www.encodedcc.org/files/ENCFF000DGG/\">https://www.encodedcc.org/files/ENCFF000DGG/</a></td><td><a href=\"https://www.encodedcc.org/replicates/7a105b9e-4500-4271-a7b6-23ea2962847d/\">https://www.encodedcc.org/replicates/7a105b9e-4500-4271-a7b6-23ea2962847d/</a></td></tr></table>"
       ],
       "metadata": {},
       "output_type": "pyout",
       "prompt_number": 26,
       "text": [
        "<rdfmagic.LibRdfResults at 0x7ffd051b9cd0>"
       ]
      }
     ],
     "prompt_number": 26
    },
    {
     "cell_type": "code",
     "collapsed": false,
     "input": [],
     "language": "python",
     "metadata": {},
     "outputs": []
    }
   ],
   "metadata": {}
  }
 ]
}