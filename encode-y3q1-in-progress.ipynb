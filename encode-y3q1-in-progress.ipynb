{
 "metadata": {
  "name": "",
  "signature": "sha256:5ac0a8da169524e38b175a70d74a20f8cf7e51f3d59e0c661191d7b7e86fd9b5"
 },
 "nbformat": 3,
 "nbformat_minor": 0,
 "worksheets": [
  {
   "cells": [
    {
     "cell_type": "markdown",
     "metadata": {},
     "source": [
      "Some experiments we created in Y3Q1 (end of 2014 Dec) were hanging out in \"in progress\" by Y3Q2 (2015 mar). What are they? Why aren't they submitted?"
     ]
    },
    {
     "cell_type": "code",
     "collapsed": false,
     "input": [
      "import pandas\n",
      "import os\n",
      "import sys\n",
      "import RDF\n",
      "from IPython.display import clear_output\n",
      "\n",
      "from curation_common import *"
     ],
     "language": "python",
     "metadata": {},
     "outputs": [],
     "prompt_number": 1
    },
    {
     "cell_type": "code",
     "collapsed": false,
     "input": [
      "%load_ext rdfmagic"
     ],
     "language": "python",
     "metadata": {},
     "outputs": [
      {
       "output_type": "stream",
       "stream": "stdout",
       "text": [
        "The rdfmagic extension is already loaded. To reload it, use:\n",
        "  %reload_ext rdfmagic\n"
       ]
      }
     ],
     "prompt_number": 2
    },
    {
     "cell_type": "code",
     "collapsed": false,
     "input": [
      "server = ENCODED(\"www.encodeproject.org\")\n",
      "server.load_netrc()"
     ],
     "language": "python",
     "metadata": {},
     "outputs": [],
     "prompt_number": 3
    },
    {
     "cell_type": "code",
     "collapsed": false,
     "input": [
      "model = get_model()"
     ],
     "language": "python",
     "metadata": {},
     "outputs": [],
     "prompt_number": 4
    },
    {
     "cell_type": "code",
     "collapsed": false,
     "input": [
      "query = \"/search/?type=experiment&lab.title=Barbara%20Wold,%20Caltech&award.rfa=ENCODE3&status=in%20progress\""
     ],
     "language": "python",
     "metadata": {},
     "outputs": [],
     "prompt_number": 5
    },
    {
     "cell_type": "heading",
     "level": 1,
     "metadata": {},
     "source": [
      "Load Experiments from ENCODED search"
     ]
    },
    {
     "cell_type": "code",
     "collapsed": false,
     "input": [
      "for i, experiment in enumerate([ x['@id'] for x in server.get_json(query)['@graph'] ]):\n",
      "    clear_output()\n",
      "    print('loading {} {}'.format(experiment, i + 1))\n",
      "    details = server.get_jsonld(experiment)\n",
      "    load_jsonld_into_model(model, details)"
     ],
     "language": "python",
     "metadata": {},
     "outputs": [
      {
       "output_type": "stream",
       "stream": "stdout",
       "text": [
        "loading /experiments/ENCSR194TNV/ 24\n"
       ]
      }
     ],
     "prompt_number": 6
    },
    {
     "cell_type": "markdown",
     "metadata": {},
     "source": [
      "This query is me trying to figure out how to manipulate variables in sparql queries."
     ]
    },
    {
     "cell_type": "code",
     "collapsed": false,
     "input": [
      "%%sparql -m model -c \n",
      "select distinct ?experiment ?library\n",
      "       ( REPLACE(?alias, \"barbara-wold:\", \"http://jumpgate.caltech.edu/library/\") as ?jumpgate )\n",
      "       ( CONCAT(?jumpgate, \"/\") as ?jump_slash)\n",
      "where {\n",
      "  ?library library:aliases ?alias .\n",
      "  ?replicate replicate:library ?library .\n",
      "  ?experiment experiment:replicates ?replicate .\n",
      "}\n",
      "order by ?alias"
     ],
     "language": "python",
     "metadata": {},
     "outputs": [
      {
       "output_type": "stream",
       "stream": "stdout",
       "text": [
        "Found 35 rows.\n"
       ]
      },
      {
       "html": [
        "<table><tr><td>experiment</td><td>library</td><td>jumpgate</td><td>jump_slash</td></tr><tr><td><a href=\"https://www.encodeproject.org/experiments/ENCSR194TNV/\">experiments:ENCSR194TNV/</a></td><td><a href=\"https://www.encodeproject.org/libraries/ENCLB510UJB/\">libraries:ENCLB510UJB/</a></td><td>http://jumpgate.caltech.edu/library/13413</td><td>http://jumpgate.caltech.edu/library/13413/</td></tr><tr><td><a href=\"https://www.encodeproject.org/experiments/ENCSR803PLZ/\">experiments:ENCSR803PLZ/</a></td><td><a href=\"https://www.encodeproject.org/libraries/ENCLB414SJG/\">libraries:ENCLB414SJG/</a></td><td>http://jumpgate.caltech.edu/library/13414</td><td>http://jumpgate.caltech.edu/library/13414/</td></tr><tr><td><a href=\"https://www.encodeproject.org/experiments/ENCSR796QJD/\">experiments:ENCSR796QJD/</a></td><td><a href=\"https://www.encodeproject.org/libraries/ENCLB569DAO/\">libraries:ENCLB569DAO/</a></td><td>http://jumpgate.caltech.edu/library/13415</td><td>http://jumpgate.caltech.edu/library/13415/</td></tr><tr><td><a href=\"https://www.encodeproject.org/experiments/ENCSR789RPP/\">experiments:ENCSR789RPP/</a></td><td><a href=\"https://www.encodeproject.org/libraries/ENCLB193ILA/\">libraries:ENCLB193ILA/</a></td><td>http://jumpgate.caltech.edu/library/13416</td><td>http://jumpgate.caltech.edu/library/13416/</td></tr><tr><td><a href=\"https://www.encodeproject.org/experiments/ENCSR267LBO/\">experiments:ENCSR267LBO/</a></td><td><a href=\"https://www.encodeproject.org/libraries/ENCLB578MIX/\">libraries:ENCLB578MIX/</a></td><td>http://jumpgate.caltech.edu/library/13417</td><td>http://jumpgate.caltech.edu/library/13417/</td></tr><tr><td><a href=\"https://www.encodeproject.org/experiments/ENCSR068SJG/\">experiments:ENCSR068SJG/</a></td><td><a href=\"https://www.encodeproject.org/libraries/ENCLB322YDP/\">libraries:ENCLB322YDP/</a></td><td>http://jumpgate.caltech.edu/library/13418</td><td>http://jumpgate.caltech.edu/library/13418/</td></tr><tr><td><a href=\"https://www.encodeproject.org/experiments/ENCSR111QQX/\">experiments:ENCSR111QQX/</a></td><td><a href=\"https://www.encodeproject.org/libraries/ENCLB921XPI/\">libraries:ENCLB921XPI/</a></td><td>http://jumpgate.caltech.edu/library/13419</td><td>http://jumpgate.caltech.edu/library/13419/</td></tr><tr><td><a href=\"https://www.encodeproject.org/experiments/ENCSR980SWK/\">experiments:ENCSR980SWK/</a></td><td><a href=\"https://www.encodeproject.org/libraries/ENCLB133ICO/\">libraries:ENCLB133ICO/</a></td><td>http://jumpgate.caltech.edu/library/13420</td><td>http://jumpgate.caltech.edu/library/13420/</td></tr><tr><td><a href=\"https://www.encodeproject.org/experiments/ENCSR577ONT/\">experiments:ENCSR577ONT/</a></td><td><a href=\"https://www.encodeproject.org/libraries/ENCLB541QCS/\">libraries:ENCLB541QCS/</a></td><td>http://jumpgate.caltech.edu/library/13421</td><td>http://jumpgate.caltech.edu/library/13421/</td></tr><tr><td><a href=\"https://www.encodeproject.org/experiments/ENCSR530UXI/\">experiments:ENCSR530UXI/</a></td><td><a href=\"https://www.encodeproject.org/libraries/ENCLB711HMD/\">libraries:ENCLB711HMD/</a></td><td>http://jumpgate.caltech.edu/library/13422</td><td>http://jumpgate.caltech.edu/library/13422/</td></tr><tr><td><a href=\"https://www.encodeproject.org/experiments/ENCSR775HGC/\">experiments:ENCSR775HGC/</a></td><td><a href=\"https://www.encodeproject.org/libraries/ENCLB036AMX/\">libraries:ENCLB036AMX/</a></td><td>http://jumpgate.caltech.edu/library/13423</td><td>http://jumpgate.caltech.edu/library/13423/</td></tr><tr><td><a href=\"https://www.encodeproject.org/experiments/ENCSR362OYV/\">experiments:ENCSR362OYV/</a></td><td><a href=\"https://www.encodeproject.org/libraries/ENCLB641AYP/\">libraries:ENCLB641AYP/</a></td><td>http://jumpgate.caltech.edu/library/13424</td><td>http://jumpgate.caltech.edu/library/13424/</td></tr><tr><td><a href=\"https://www.encodeproject.org/experiments/ENCSR292IVH/\">experiments:ENCSR292IVH/</a></td><td><a href=\"https://www.encodeproject.org/libraries/ENCLB042QFS/\">libraries:ENCLB042QFS/</a></td><td>http://jumpgate.caltech.edu/library/13425</td><td>http://jumpgate.caltech.edu/library/13425/</td></tr><tr><td><a href=\"https://www.encodeproject.org/experiments/ENCSR268IGT/\">experiments:ENCSR268IGT/</a></td><td><a href=\"https://www.encodeproject.org/libraries/ENCLB507MOC/\">libraries:ENCLB507MOC/</a></td><td>http://jumpgate.caltech.edu/library/13426</td><td>http://jumpgate.caltech.edu/library/13426/</td></tr><tr><td><a href=\"https://www.encodeproject.org/experiments/ENCSR726VVO/\">experiments:ENCSR726VVO/</a></td><td><a href=\"https://www.encodeproject.org/libraries/ENCLB442ZCO/\">libraries:ENCLB442ZCO/</a></td><td>http://jumpgate.caltech.edu/library/13427</td><td>http://jumpgate.caltech.edu/library/13427/</td></tr><tr><td><a href=\"https://www.encodeproject.org/experiments/ENCSR620HJQ/\">experiments:ENCSR620HJQ/</a></td><td><a href=\"https://www.encodeproject.org/libraries/ENCLB714KUY/\">libraries:ENCLB714KUY/</a></td><td>http://jumpgate.caltech.edu/library/13428</td><td>http://jumpgate.caltech.edu/library/13428/</td></tr><tr><td><a href=\"https://www.encodeproject.org/experiments/ENCSR620HJQ/\">experiments:ENCSR620HJQ/</a></td><td><a href=\"https://www.encodeproject.org/libraries/ENCLB243CVS/\">libraries:ENCLB243CVS/</a></td><td>http://jumpgate.caltech.edu/library/13429</td><td>http://jumpgate.caltech.edu/library/13429/</td></tr><tr><td><a href=\"https://www.encodeproject.org/experiments/ENCSR620HJQ/\">experiments:ENCSR620HJQ/</a></td><td><a href=\"https://www.encodeproject.org/libraries/ENCLB204EWE/\">libraries:ENCLB204EWE/</a></td><td>http://jumpgate.caltech.edu/library/13430</td><td>http://jumpgate.caltech.edu/library/13430/</td></tr><tr><td><a href=\"https://www.encodeproject.org/experiments/ENCSR620HJQ/\">experiments:ENCSR620HJQ/</a></td><td><a href=\"https://www.encodeproject.org/libraries/ENCLB751POF/\">libraries:ENCLB751POF/</a></td><td>http://jumpgate.caltech.edu/library/13431</td><td>http://jumpgate.caltech.edu/library/13431/</td></tr><tr><td><a href=\"https://www.encodeproject.org/experiments/ENCSR620HJQ/\">experiments:ENCSR620HJQ/</a></td><td><a href=\"https://www.encodeproject.org/libraries/ENCLB729FQY/\">libraries:ENCLB729FQY/</a></td><td>http://jumpgate.caltech.edu/library/13432</td><td>http://jumpgate.caltech.edu/library/13432/</td></tr><tr><td><a href=\"https://www.encodeproject.org/experiments/ENCSR620HJQ/\">experiments:ENCSR620HJQ/</a></td><td><a href=\"https://www.encodeproject.org/libraries/ENCLB988OPM/\">libraries:ENCLB988OPM/</a></td><td>http://jumpgate.caltech.edu/library/13433</td><td>http://jumpgate.caltech.edu/library/13433/</td></tr><tr><td><a href=\"https://www.encodeproject.org/experiments/ENCSR620HJQ/\">experiments:ENCSR620HJQ/</a></td><td><a href=\"https://www.encodeproject.org/libraries/ENCLB981WTU/\">libraries:ENCLB981WTU/</a></td><td>http://jumpgate.caltech.edu/library/13435</td><td>http://jumpgate.caltech.edu/library/13435/</td></tr><tr><td><a href=\"https://www.encodeproject.org/experiments/ENCSR620HJQ/\">experiments:ENCSR620HJQ/</a></td><td><a href=\"https://www.encodeproject.org/libraries/ENCLB364NZB/\">libraries:ENCLB364NZB/</a></td><td>http://jumpgate.caltech.edu/library/13436</td><td>http://jumpgate.caltech.edu/library/13436/</td></tr><tr><td><a href=\"https://www.encodeproject.org/experiments/ENCSR620HJQ/\">experiments:ENCSR620HJQ/</a></td><td><a href=\"https://www.encodeproject.org/libraries/ENCLB461BIJ/\">libraries:ENCLB461BIJ/</a></td><td>http://jumpgate.caltech.edu/library/13437</td><td>http://jumpgate.caltech.edu/library/13437/</td></tr><tr><td><a href=\"https://www.encodeproject.org/experiments/ENCSR620HJQ/\">experiments:ENCSR620HJQ/</a></td><td><a href=\"https://www.encodeproject.org/libraries/ENCLB580JUS/\">libraries:ENCLB580JUS/</a></td><td>http://jumpgate.caltech.edu/library/13438</td><td>http://jumpgate.caltech.edu/library/13438/</td></tr><tr><td><a href=\"https://www.encodeproject.org/experiments/ENCSR620HJQ/\">experiments:ENCSR620HJQ/</a></td><td><a href=\"https://www.encodeproject.org/libraries/ENCLB318YQB/\">libraries:ENCLB318YQB/</a></td><td>http://jumpgate.caltech.edu/library/13439</td><td>http://jumpgate.caltech.edu/library/13439/</td></tr><tr><td><a href=\"https://www.encodeproject.org/experiments/ENCSR620HJQ/\">experiments:ENCSR620HJQ/</a></td><td><a href=\"https://www.encodeproject.org/libraries/ENCLB407NSA/\">libraries:ENCLB407NSA/</a></td><td>http://jumpgate.caltech.edu/library/13440</td><td>http://jumpgate.caltech.edu/library/13440/</td></tr><tr><td><a href=\"https://www.encodeproject.org/experiments/ENCSR659SFM/\">experiments:ENCSR659SFM/</a></td><td><a href=\"https://www.encodeproject.org/libraries/ENCLB253LOZ/\">libraries:ENCLB253LOZ/</a></td><td>http://jumpgate.caltech.edu/library/15256</td><td>http://jumpgate.caltech.edu/library/15256/</td></tr><tr><td><a href=\"https://www.encodeproject.org/experiments/ENCSR948NDP/\">experiments:ENCSR948NDP/</a></td><td><a href=\"https://www.encodeproject.org/libraries/ENCLB183ZSO/\">libraries:ENCLB183ZSO/</a></td><td>http://jumpgate.caltech.edu/library/15260</td><td>http://jumpgate.caltech.edu/library/15260/</td></tr><tr><td><a href=\"https://www.encodeproject.org/experiments/ENCSR367DUL/\">experiments:ENCSR367DUL/</a></td><td><a href=\"https://www.encodeproject.org/libraries/ENCLB809LQF/\">libraries:ENCLB809LQF/</a></td><td>http://jumpgate.caltech.edu/library/15261</td><td>http://jumpgate.caltech.edu/library/15261/</td></tr><tr><td><a href=\"https://www.encodeproject.org/experiments/ENCSR282DYQ/\">experiments:ENCSR282DYQ/</a></td><td><a href=\"https://www.encodeproject.org/libraries/ENCLB112DAD/\">libraries:ENCLB112DAD/</a></td><td>http://jumpgate.caltech.edu/library/15262</td><td>http://jumpgate.caltech.edu/library/15262/</td></tr><tr><td><a href=\"https://www.encodeproject.org/experiments/ENCSR167AWS/\">experiments:ENCSR167AWS/</a></td><td><a href=\"https://www.encodeproject.org/libraries/ENCLB663WPK/\">libraries:ENCLB663WPK/</a></td><td>http://jumpgate.caltech.edu/library/15265</td><td>http://jumpgate.caltech.edu/library/15265/</td></tr><tr><td><a href=\"https://www.encodeproject.org/experiments/ENCSR527DQV/\">experiments:ENCSR527DQV/</a></td><td><a href=\"https://www.encodeproject.org/libraries/ENCLB640QPM/\">libraries:ENCLB640QPM/</a></td><td>http://jumpgate.caltech.edu/library/15266</td><td>http://jumpgate.caltech.edu/library/15266/</td></tr><tr><td><a href=\"https://www.encodeproject.org/experiments/ENCSR662UPQ/\">experiments:ENCSR662UPQ/</a></td><td><a href=\"https://www.encodeproject.org/libraries/ENCLB284YTS/\">libraries:ENCLB284YTS/</a></td><td>http://jumpgate.caltech.edu/library/15269</td><td>http://jumpgate.caltech.edu/library/15269/</td></tr><tr><td><a href=\"https://www.encodeproject.org/experiments/ENCSR027CXR/\">experiments:ENCSR027CXR/</a></td><td><a href=\"https://www.encodeproject.org/libraries/ENCLB108LLJ/\">libraries:ENCLB108LLJ/</a></td><td>http://jumpgate.caltech.edu/library/15270</td><td>http://jumpgate.caltech.edu/library/15270/</td></tr></table>"
       ],
       "metadata": {},
       "output_type": "pyout",
       "prompt_number": 7,
       "text": [
        "<rdfmagic.LibRdfResults at 0x7f6feb5f70d0>"
       ]
      }
     ],
     "prompt_number": 7
    },
    {
     "cell_type": "heading",
     "level": 1,
     "metadata": {},
     "source": [
      "Convert alias to Jumpgate Library URL"
     ]
    },
    {
     "cell_type": "code",
     "collapsed": false,
     "input": [
      "q = RDF.SPARQLQuery(\"\"\"\n",
      "PREFIX htsw: <http://jumpgate.caltech.edu/wiki/LibraryOntology#>\n",
      "PREFIX barbara-wold: <http://jumpgate.caltech.edu/wiki/LibraryOntology#>\n",
      "PREFIX experiment: <https://www.encodeproject.org/profiles/experiment.json#> \n",
      "PREFIX library: <https://www.encodeproject.org/profiles/library.json#> \n",
      "PREFIX replicate: <https://www.encodeproject.org/profiles/replicate.json#>\n",
      "PREFIX xsd: <http://www.w3.org/2001/XMLSchema#>\n",
      "\n",
      "construct { \n",
      "  ?library htsw:library ?jumpgate . \n",
      "} where {\n",
      "  select ?experiment?alias\n",
      "         ( REPLACE(?alias, \"barbara-wold:\", \"http://jumpgate.caltech.edu/library/\") as ?short )\n",
      "         ( IRI(CONCAT(?short, \"/\"))  as ?jumpgate )\n",
      "  where {\n",
      "    ?library library:aliases ?alias .\n",
      "  }\n",
      "}\n",
      "\"\"\")"
     ],
     "language": "python",
     "metadata": {},
     "outputs": [],
     "prompt_number": 8
    },
    {
     "cell_type": "markdown",
     "metadata": {},
     "source": [
      "Attach our library urls directly to the encode library objects."
     ]
    },
    {
     "cell_type": "code",
     "collapsed": false,
     "input": [
      "results = q.execute(model)\n",
      "for s in results.as_stream():\n",
      "    #print(s)\n",
      "    model.append(s)\n",
      "    "
     ],
     "language": "python",
     "metadata": {},
     "outputs": [],
     "prompt_number": 9
    },
    {
     "cell_type": "heading",
     "level": 1,
     "metadata": {},
     "source": [
      "Import jumpgate libraries."
     ]
    },
    {
     "cell_type": "code",
     "collapsed": false,
     "input": [
      "%%sparql -m model -c -o jumpgate_libraries\n",
      "  select ?jumpgate\n",
      "  where {\n",
      "    ?library htsw:library ?jumpgate .\n",
      "  }"
     ],
     "language": "python",
     "metadata": {},
     "outputs": [
      {
       "output_type": "stream",
       "stream": "stdout",
       "text": [
        "Found 35 rows.\n"
       ]
      },
      {
       "output_type": "stream",
       "stream": "stderr",
       "text": [
        "/usr/lib/python2.7/dist-packages/RDF.py:2014: RedlandWarning: Variable library was bound but is unused in the query\n",
        "  results = Redland.librdf_query_execute(self._query,model._model)\n"
       ]
      }
     ],
     "prompt_number": 10
    },
    {
     "cell_type": "code",
     "collapsed": false,
     "input": [
      "%load_source -m model jumpgate_libraries"
     ],
     "language": "python",
     "metadata": {},
     "outputs": [
      {
       "metadata": {},
       "output_type": "pyout",
       "prompt_number": 11,
       "text": [
        "<RDF.Model at 0x7f7010982390>"
       ]
      }
     ],
     "prompt_number": 11
    },
    {
     "cell_type": "heading",
     "level": 1,
     "metadata": {},
     "source": [
      "DCC Experiments created but nothing uploaded"
     ]
    },
    {
     "cell_type": "code",
     "collapsed": false,
     "input": [
      "%%sparql -m model -c\n",
      "select distinct ?experiment ?library ?jumpgate ?name\n",
      "where {\n",
      "  ?library library:aliases ?alias .\n",
      "  ?replicate replicate:library ?library .\n",
      "  ?experiment experiment:replicates ?replicate .\n",
      "  ?library htsw:library ?jumpgate . \n",
      "  ?jumpgate htsw:name ?name .\n",
      "}\n",
      "order by ?experiment ?jumpgate\n"
     ],
     "language": "python",
     "metadata": {},
     "outputs": [
      {
       "output_type": "stream",
       "stream": "stdout",
       "text": [
        "Found 35 rows.\n"
       ]
      },
      {
       "output_type": "stream",
       "stream": "stderr",
       "text": [
        "/usr/lib/python2.7/dist-packages/RDF.py:2014: RedlandWarning: Variable alias was bound but is unused in the query\n",
        "  results = Redland.librdf_query_execute(self._query,model._model)\n"
       ]
      },
      {
       "html": [
        "<table><tr><td>experiment</td><td>library</td><td>jumpgate</td><td>name</td></tr><tr><td><a href=\"https://www.encodeproject.org/experiments/ENCSR027CXR/\">experiments:ENCSR027CXR/</a></td><td><a href=\"https://www.encodeproject.org/libraries/ENCLB108LLJ/\">libraries:ENCLB108LLJ/</a></td><td><a href=\"http://jumpgate.caltech.edu/library/15270/\">library:15270/</a></td><td>LC755</td></tr><tr><td><a href=\"https://www.encodeproject.org/experiments/ENCSR068SJG/\">experiments:ENCSR068SJG/</a></td><td><a href=\"https://www.encodeproject.org/libraries/ENCLB322YDP/\">libraries:ENCLB322YDP/</a></td><td><a href=\"http://jumpgate.caltech.edu/library/13418/\">library:13418/</a></td><td>Illumina index__N706_N502_Paired_ends_LC 474_Mm_Castaneus X C57Bl_single_cell_male_Purkinje_</td></tr><tr><td><a href=\"https://www.encodeproject.org/experiments/ENCSR111QQX/\">experiments:ENCSR111QQX/</a></td><td><a href=\"https://www.encodeproject.org/libraries/ENCLB921XPI/\">libraries:ENCLB921XPI/</a></td><td><a href=\"http://jumpgate.caltech.edu/library/13419/\">library:13419/</a></td><td>Illumina index__N701_N502_Paired_ends_LC 475_Mm_Castaneus X C57Bl_single_cell_male_Purkinje_</td></tr><tr><td><a href=\"https://www.encodeproject.org/experiments/ENCSR167AWS/\">experiments:ENCSR167AWS/</a></td><td><a href=\"https://www.encodeproject.org/libraries/ENCLB663WPK/\">libraries:ENCLB663WPK/</a></td><td><a href=\"http://jumpgate.caltech.edu/library/15265/\">library:15265/</a></td><td>LC748</td></tr><tr><td><a href=\"https://www.encodeproject.org/experiments/ENCSR194TNV/\">experiments:ENCSR194TNV/</a></td><td><a href=\"https://www.encodeproject.org/libraries/ENCLB510UJB/\">libraries:ENCLB510UJB/</a></td><td><a href=\"http://jumpgate.caltech.edu/library/13413/\">library:13413/</a></td><td>Illumina index__N701_N501_Paired_ends_LC 469a_Mm_Castaneus X C57Bl_single_cell_male_Purkinje_</td></tr><tr><td><a href=\"https://www.encodeproject.org/experiments/ENCSR267LBO/\">experiments:ENCSR267LBO/</a></td><td><a href=\"https://www.encodeproject.org/libraries/ENCLB578MIX/\">libraries:ENCLB578MIX/</a></td><td><a href=\"http://jumpgate.caltech.edu/library/13417/\">library:13417/</a></td><td>Illumina index__N705_N502_Paired_ends_LC 473_Mm_Castaneus X C57Bl_single_cell_male_Purkinje_</td></tr><tr><td><a href=\"https://www.encodeproject.org/experiments/ENCSR268IGT/\">experiments:ENCSR268IGT/</a></td><td><a href=\"https://www.encodeproject.org/libraries/ENCLB507MOC/\">libraries:ENCLB507MOC/</a></td><td><a href=\"http://jumpgate.caltech.edu/library/13426/\">library:13426/</a></td><td>Illumina index__N702_N504_Paired_ends_LC 482_Mm_Castaneus X C57Bl_single_cell_male_Purkinje_</td></tr><tr><td><a href=\"https://www.encodeproject.org/experiments/ENCSR282DYQ/\">experiments:ENCSR282DYQ/</a></td><td><a href=\"https://www.encodeproject.org/libraries/ENCLB112DAD/\">libraries:ENCLB112DAD/</a></td><td><a href=\"http://jumpgate.caltech.edu/library/15262/\">library:15262/</a></td><td>LC745</td></tr><tr><td><a href=\"https://www.encodeproject.org/experiments/ENCSR292IVH/\">experiments:ENCSR292IVH/</a></td><td><a href=\"https://www.encodeproject.org/libraries/ENCLB042QFS/\">libraries:ENCLB042QFS/</a></td><td><a href=\"http://jumpgate.caltech.edu/library/13425/\">library:13425/</a></td><td>Illumina index__N701_N504_Paired_ends_LC 481_Mm_Castaneus X C57Bl_single_cell_male_Purkinje_</td></tr><tr><td><a href=\"https://www.encodeproject.org/experiments/ENCSR362OYV/\">experiments:ENCSR362OYV/</a></td><td><a href=\"https://www.encodeproject.org/libraries/ENCLB641AYP/\">libraries:ENCLB641AYP/</a></td><td><a href=\"http://jumpgate.caltech.edu/library/13424/\">library:13424/</a></td><td>Illumina index__N706_N503_Paired_ends_LC 480_Mm_Castaneus X C57Bl_single_cell_male_Purkinje_</td></tr><tr><td><a href=\"https://www.encodeproject.org/experiments/ENCSR367DUL/\">experiments:ENCSR367DUL/</a></td><td><a href=\"https://www.encodeproject.org/libraries/ENCLB809LQF/\">libraries:ENCLB809LQF/</a></td><td><a href=\"http://jumpgate.caltech.edu/library/15261/\">library:15261/</a></td><td>LC744</td></tr><tr><td><a href=\"https://www.encodeproject.org/experiments/ENCSR527DQV/\">experiments:ENCSR527DQV/</a></td><td><a href=\"https://www.encodeproject.org/libraries/ENCLB640QPM/\">libraries:ENCLB640QPM/</a></td><td><a href=\"http://jumpgate.caltech.edu/library/15266/\">library:15266/</a></td><td>LC749</td></tr><tr><td><a href=\"https://www.encodeproject.org/experiments/ENCSR530UXI/\">experiments:ENCSR530UXI/</a></td><td><a href=\"https://www.encodeproject.org/libraries/ENCLB711HMD/\">libraries:ENCLB711HMD/</a></td><td><a href=\"http://jumpgate.caltech.edu/library/13422/\">library:13422/</a></td><td>Illumina index__N704_N503_Paired_ends_LC 478_Mm_Castaneus X C57Bl_single_cell_male_Purkinje_</td></tr><tr><td><a href=\"https://www.encodeproject.org/experiments/ENCSR577ONT/\">experiments:ENCSR577ONT/</a></td><td><a href=\"https://www.encodeproject.org/libraries/ENCLB541QCS/\">libraries:ENCLB541QCS/</a></td><td><a href=\"http://jumpgate.caltech.edu/library/13421/\">library:13421/</a></td><td>Illumina index__N703_N503_Paired_ends_LC 477_Mm_Castaneus X C57Bl_single_cell_male_Purkinje_</td></tr><tr><td><a href=\"https://www.encodeproject.org/experiments/ENCSR620HJQ/\">experiments:ENCSR620HJQ/</a></td><td><a href=\"https://www.encodeproject.org/libraries/ENCLB714KUY/\">libraries:ENCLB714KUY/</a></td><td><a href=\"http://jumpgate.caltech.edu/library/13428/\">library:13428/</a></td><td>Illumina index__N704_N504_Paired_ends_LC 484_Mm_Castaneus X C57Bl_poolsplit_male_Purkinje_</td></tr><tr><td><a href=\"https://www.encodeproject.org/experiments/ENCSR620HJQ/\">experiments:ENCSR620HJQ/</a></td><td><a href=\"https://www.encodeproject.org/libraries/ENCLB243CVS/\">libraries:ENCLB243CVS/</a></td><td><a href=\"http://jumpgate.caltech.edu/library/13429/\">library:13429/</a></td><td>Illumina index__N705_N501_Paired_ends_LC 485_Mm_Castaneus X C57Bl_poolsplit_male_Purkinje_</td></tr><tr><td><a href=\"https://www.encodeproject.org/experiments/ENCSR620HJQ/\">experiments:ENCSR620HJQ/</a></td><td><a href=\"https://www.encodeproject.org/libraries/ENCLB204EWE/\">libraries:ENCLB204EWE/</a></td><td><a href=\"http://jumpgate.caltech.edu/library/13430/\">library:13430/</a></td><td>Illumina index__N706_N501_Paired_ends_LC 486_Mm_Castaneus X C57Bl_poolsplit_male_Purkinje_</td></tr><tr><td><a href=\"https://www.encodeproject.org/experiments/ENCSR620HJQ/\">experiments:ENCSR620HJQ/</a></td><td><a href=\"https://www.encodeproject.org/libraries/ENCLB751POF/\">libraries:ENCLB751POF/</a></td><td><a href=\"http://jumpgate.caltech.edu/library/13431/\">library:13431/</a></td><td>Illumina index__N701_N501_Paired_ends_LC 487_Mm_Castaneus X C57Bl_poolsplit_male_Purkinje_</td></tr><tr><td><a href=\"https://www.encodeproject.org/experiments/ENCSR620HJQ/\">experiments:ENCSR620HJQ/</a></td><td><a href=\"https://www.encodeproject.org/libraries/ENCLB729FQY/\">libraries:ENCLB729FQY/</a></td><td><a href=\"http://jumpgate.caltech.edu/library/13432/\">library:13432/</a></td><td>Illumina index__N702_N501_Paired_ends_LC 488_Mm_Castaneus X C57Bl_poolsplit_male_Purkinje_</td></tr><tr><td><a href=\"https://www.encodeproject.org/experiments/ENCSR620HJQ/\">experiments:ENCSR620HJQ/</a></td><td><a href=\"https://www.encodeproject.org/libraries/ENCLB988OPM/\">libraries:ENCLB988OPM/</a></td><td><a href=\"http://jumpgate.caltech.edu/library/13433/\">library:13433/</a></td><td>Illumina index__N703_N502_Paired_ends_LC 489_Mm_Castaneus X C57Bl_poolsplit_male_Purkinje_</td></tr><tr><td><a href=\"https://www.encodeproject.org/experiments/ENCSR620HJQ/\">experiments:ENCSR620HJQ/</a></td><td><a href=\"https://www.encodeproject.org/libraries/ENCLB981WTU/\">libraries:ENCLB981WTU/</a></td><td><a href=\"http://jumpgate.caltech.edu/library/13435/\">library:13435/</a></td><td>Illumina index__N705_N502_Paired_ends_LC 491_Mm_Castaneus X C57Bl_poolsplit_male_Purkinje_</td></tr><tr><td><a href=\"https://www.encodeproject.org/experiments/ENCSR620HJQ/\">experiments:ENCSR620HJQ/</a></td><td><a href=\"https://www.encodeproject.org/libraries/ENCLB364NZB/\">libraries:ENCLB364NZB/</a></td><td><a href=\"http://jumpgate.caltech.edu/library/13436/\">library:13436/</a></td><td>Illumina index__N706_N502_Paired_ends_LC 492_Mm_Castaneus X C57Bl_poolsplit_male_Purkinje_</td></tr><tr><td><a href=\"https://www.encodeproject.org/experiments/ENCSR620HJQ/\">experiments:ENCSR620HJQ/</a></td><td><a href=\"https://www.encodeproject.org/libraries/ENCLB461BIJ/\">libraries:ENCLB461BIJ/</a></td><td><a href=\"http://jumpgate.caltech.edu/library/13437/\">library:13437/</a></td><td>Illumina index__N701_N503_Paired_ends_LC 493_Mm_Castaneus X C57Bl_poolsplit_male_Purkinje_</td></tr><tr><td><a href=\"https://www.encodeproject.org/experiments/ENCSR620HJQ/\">experiments:ENCSR620HJQ/</a></td><td><a href=\"https://www.encodeproject.org/libraries/ENCLB580JUS/\">libraries:ENCLB580JUS/</a></td><td><a href=\"http://jumpgate.caltech.edu/library/13438/\">library:13438/</a></td><td>Illumina index__N702_N503_Paired_ends_LC 494_Mm_Castaneus X C57Bl_poolsplit_male_Purkinje_</td></tr><tr><td><a href=\"https://www.encodeproject.org/experiments/ENCSR620HJQ/\">experiments:ENCSR620HJQ/</a></td><td><a href=\"https://www.encodeproject.org/libraries/ENCLB318YQB/\">libraries:ENCLB318YQB/</a></td><td><a href=\"http://jumpgate.caltech.edu/library/13439/\">library:13439/</a></td><td>Illumina index__N703_N503_Paired_ends_LC 495_Mm_Castaneus X C57Bl_poolsplit_male_Purkinje_</td></tr><tr><td><a href=\"https://www.encodeproject.org/experiments/ENCSR620HJQ/\">experiments:ENCSR620HJQ/</a></td><td><a href=\"https://www.encodeproject.org/libraries/ENCLB407NSA/\">libraries:ENCLB407NSA/</a></td><td><a href=\"http://jumpgate.caltech.edu/library/13440/\">library:13440/</a></td><td>Illumina index__N704_N503_Paired_ends_LC 496_Mm_Castaneus X C57Bl_poolsplit_male_Purkinje_</td></tr><tr><td><a href=\"https://www.encodeproject.org/experiments/ENCSR659SFM/\">experiments:ENCSR659SFM/</a></td><td><a href=\"https://www.encodeproject.org/libraries/ENCLB253LOZ/\">libraries:ENCLB253LOZ/</a></td><td><a href=\"http://jumpgate.caltech.edu/library/15256/\">library:15256/</a></td><td>LC737</td></tr><tr><td><a href=\"https://www.encodeproject.org/experiments/ENCSR662UPQ/\">experiments:ENCSR662UPQ/</a></td><td><a href=\"https://www.encodeproject.org/libraries/ENCLB284YTS/\">libraries:ENCLB284YTS/</a></td><td><a href=\"http://jumpgate.caltech.edu/library/15269/\">library:15269/</a></td><td>LC753</td></tr><tr><td><a href=\"https://www.encodeproject.org/experiments/ENCSR726VVO/\">experiments:ENCSR726VVO/</a></td><td><a href=\"https://www.encodeproject.org/libraries/ENCLB442ZCO/\">libraries:ENCLB442ZCO/</a></td><td><a href=\"http://jumpgate.caltech.edu/library/13427/\">library:13427/</a></td><td>Illumina index__N703_N504_Paired_ends_LC 483_Mm_Castaneus X C57Bl_single_cell_male_Purkinje_</td></tr><tr><td><a href=\"https://www.encodeproject.org/experiments/ENCSR775HGC/\">experiments:ENCSR775HGC/</a></td><td><a href=\"https://www.encodeproject.org/libraries/ENCLB036AMX/\">libraries:ENCLB036AMX/</a></td><td><a href=\"http://jumpgate.caltech.edu/library/13423/\">library:13423/</a></td><td>Illumina index__N705_N503_Paired_ends_LC 479_Mm_Castaneus X C57Bl_single_cell_male_Purkinje_</td></tr><tr><td><a href=\"https://www.encodeproject.org/experiments/ENCSR789RPP/\">experiments:ENCSR789RPP/</a></td><td><a href=\"https://www.encodeproject.org/libraries/ENCLB193ILA/\">libraries:ENCLB193ILA/</a></td><td><a href=\"http://jumpgate.caltech.edu/library/13416/\">library:13416/</a></td><td>Illumina index__N704_N501_Paired_ends_LC 472_Mm_Castaneus X C57Bl_single_cell_male_Purkinje_</td></tr><tr><td><a href=\"https://www.encodeproject.org/experiments/ENCSR796QJD/\">experiments:ENCSR796QJD/</a></td><td><a href=\"https://www.encodeproject.org/libraries/ENCLB569DAO/\">libraries:ENCLB569DAO/</a></td><td><a href=\"http://jumpgate.caltech.edu/library/13415/\">library:13415/</a></td><td>Illumina index__N703_N501_Paired_ends_LC 471a_Mm_Castaneus X C57Bl_single_cell_male_Purkinje_</td></tr><tr><td><a href=\"https://www.encodeproject.org/experiments/ENCSR803PLZ/\">experiments:ENCSR803PLZ/</a></td><td><a href=\"https://www.encodeproject.org/libraries/ENCLB414SJG/\">libraries:ENCLB414SJG/</a></td><td><a href=\"http://jumpgate.caltech.edu/library/13414/\">library:13414/</a></td><td>Illumina index__N702_N501_Paired_ends_LC 470_Mm_Castaneus X C57Bl_single_cell_male_Purkinje_</td></tr><tr><td><a href=\"https://www.encodeproject.org/experiments/ENCSR948NDP/\">experiments:ENCSR948NDP/</a></td><td><a href=\"https://www.encodeproject.org/libraries/ENCLB183ZSO/\">libraries:ENCLB183ZSO/</a></td><td><a href=\"http://jumpgate.caltech.edu/library/15260/\">library:15260/</a></td><td>LC742</td></tr><tr><td><a href=\"https://www.encodeproject.org/experiments/ENCSR980SWK/\">experiments:ENCSR980SWK/</a></td><td><a href=\"https://www.encodeproject.org/libraries/ENCLB133ICO/\">libraries:ENCLB133ICO/</a></td><td><a href=\"http://jumpgate.caltech.edu/library/13420/\">library:13420/</a></td><td>Illumina index__N702_N502_Paired_ends_LC 476_Mm_Castaneus X C57Bl_single_cell_male_Purkinje_</td></tr></table>"
       ],
       "metadata": {},
       "output_type": "pyout",
       "prompt_number": 12,
       "text": [
        "<rdfmagic.LibRdfResults at 0x7f6ff0769590>"
       ]
      }
     ],
     "prompt_number": 12
    }
   ],
   "metadata": {}
  }
 ]
}