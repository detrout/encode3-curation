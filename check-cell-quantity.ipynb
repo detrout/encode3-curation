{
 "metadata": {
  "name": "",
  "signature": "sha256:c94910334657c6c8d15281bd5ba56b93b57acfee2443b85aba3ad2294a9d8042"
 },
 "nbformat": 3,
 "nbformat_minor": 0,
 "worksheets": [
  {
   "cells": [
    {
     "cell_type": "heading",
     "level": 1,
     "metadata": {},
     "source": [
      "Introduction"
     ]
    },
    {
     "cell_type": "markdown",
     "metadata": {},
     "source": [
      "I needed to explore how the objects provided by the ENCODE 3 DCC's encoded submission site fit together. This notebook shows some of my initial queries as I tried to work out how to connect aliases attached to encode libraries for a particular dataset."
     ]
    },
    {
     "cell_type": "heading",
     "level": 2,
     "metadata": {},
     "source": [
      "Setup"
     ]
    },
    {
     "cell_type": "markdown",
     "metadata": {},
     "source": [
      "Setup the python environment."
     ]
    },
    {
     "cell_type": "code",
     "collapsed": false,
     "input": [
      "from __future__ import print_function"
     ],
     "language": "python",
     "metadata": {},
     "outputs": [],
     "prompt_number": 1
    },
    {
     "cell_type": "code",
     "collapsed": false,
     "input": [
      "import sys\n",
      "import os"
     ],
     "language": "python",
     "metadata": {},
     "outputs": [],
     "prompt_number": 2
    },
    {
     "cell_type": "code",
     "collapsed": false,
     "input": [
      "def custom():\n",
      "    htsw = os.path.expanduser('~/proj/solexa/htsworkflow')\n",
      "    if htsw not in sys.path:\n",
      "        sys.path.append(htsw)\n",
      "custom()"
     ],
     "language": "python",
     "metadata": {},
     "outputs": [],
     "prompt_number": 3
    },
    {
     "cell_type": "code",
     "collapsed": false,
     "input": [
      "from htsworkflow.submission.encoded import ENCODED\n",
      "from htsworkflow.util.rdfhelp import get_model, dump_model\n",
      "from htsworkflow.util.rdfjsonld import load_into_model"
     ],
     "language": "python",
     "metadata": {},
     "outputs": [],
     "prompt_number": 4
    },
    {
     "cell_type": "code",
     "collapsed": false,
     "input": [
      "%load_ext rdfmagic"
     ],
     "language": "python",
     "metadata": {},
     "outputs": [],
     "prompt_number": 5
    },
    {
     "cell_type": "markdown",
     "metadata": {},
     "source": [
      "This is some initialization code for my extension <a href=\"https://github.com/detrout/rdfmagic\">rdfmagic</a>. It provides a short alias name for the long URIs that RDF likes. I can use the prefixes in the sparql query magic, and the extension uses them to abbreviate the display of the query."
     ]
    },
    {
     "cell_type": "code",
     "collapsed": false,
     "input": [
      "# encoded schemas\n",
      "%addns biosample https://www.encodedcc.org/profiles/biosample.json#\n",
      "%addns experiment https://www.encodedcc.org/profiles/experiment.json#\n",
      "%addns dataset https://www.encodedcc.org/profiles/dataset.json#\n",
      "%addns file https://www.encodedcc.org/profiles/file.json#\n",
      "%addns library https://www.encodedcc.org/profiles/library.json#\n",
      "%addns replicate https://www.encodedcc.org/profiles/replicate.json#\n",
      "\n",
      "# encoded links to objects\n",
      "%addns experiments https://www.encodedcc.org/experiments/\n",
      "%addns files https://www.encodedcc.org/files/\n",
      "%addns replicates https://www.encodedcc.org/replicates/\n",
      "%addns libraries https://www.encodedcc.org/libraries/\n",
      "    \n",
      "# htsw schemas\n",
      "%addns htsw http://jumpgate.caltech.edu/wiki/LibraryOntology#"
     ],
     "language": "python",
     "metadata": {},
     "outputs": [],
     "prompt_number": 6
    },
    {
     "cell_type": "code",
     "collapsed": false,
     "input": [
      "server = ENCODED('www.encodedcc.org')\n",
      "server.load_netrc()"
     ],
     "language": "python",
     "metadata": {},
     "outputs": [],
     "prompt_number": 7
    },
    {
     "cell_type": "code",
     "collapsed": false,
     "input": [
      "model = get_model(use_contexts=False)"
     ],
     "language": "python",
     "metadata": {},
     "outputs": [],
     "prompt_number": 8
    },
    {
     "cell_type": "code",
     "collapsed": false,
     "input": [
      "def load_jsonld(model, url, **kwargs):\n",
      "    load_into_model(model, server.get_jsonld(url, **kwargs))"
     ],
     "language": "python",
     "metadata": {},
     "outputs": [],
     "prompt_number": 9
    },
    {
     "cell_type": "heading",
     "level": 1,
     "metadata": {},
     "source": [
      "Load Data"
     ]
    },
    {
     "cell_type": "code",
     "collapsed": false,
     "input": [
      "experiments = [\n",
      "  '/barbara-wold:Hs_UMB5408_6_M_CN_Purkinje_30pool',\n",
      "  '/barbara-wold:Hs_UMB5408_6_M_CN_Purkinje_30pool',\n",
      "  '/barbara-wold:Hs_UMB5408_6_M_CN_granule',\n",
      "  '/barbara-wold:Hs_UMB5408_6_M_CN_granule',\n",
      "  '/barbara-wold:Hs_UMB4727_20_M_CN_Purkinje_30pool',\n",
      "  '/barbara-wold:Hs_UMB4727_20_M_CN_Purkinje_30pool',\n",
      "  '/barbara-wold:Hs_UMB4727_20 M_CN_granule',\n",
      "  '/barbara-wold:Hs_UMB4727_20 M_CN_granule',\n",
      "  '/barbara-wold:Hs_UMB4727_20_M_CN_midFI_pyramids_30pool',\n",
      "  '/barbara-wold:Hs_UMB4727_20_M_CN_midFI_pyramids_30pool',\n",
      "  '/barbara-wold:Hs_UMB602_27_M_CN_FI_slb9_pyramids_30pool',\n",
      "  '/barbara-wold:Hs_UMB602_27_M_CN_FI_slb9_pyramids_30pool',\n",
      "  '/ENCSR000AJD',\n",
      "  '/ENCSR000AJG',\n",
      "  '/ENCSR000AIZ'\n",
      "]"
     ],
     "language": "python",
     "metadata": {},
     "outputs": [],
     "prompt_number": 10
    },
    {
     "cell_type": "code",
     "collapsed": false,
     "input": [
      "for exp in experiments:\n",
      "    print('Loading: {}'.format(exp))\n",
      "    load_jsonld(model, exp, Embed=False)"
     ],
     "language": "python",
     "metadata": {},
     "outputs": [
      {
       "output_type": "stream",
       "stream": "stdout",
       "text": [
        "Loading: /barbara-wold:Hs_UMB5408_6_M_CN_Purkinje_30pool\n",
        "Loading: /barbara-wold:Hs_UMB5408_6_M_CN_Purkinje_30pool"
       ]
      },
      {
       "output_type": "stream",
       "stream": "stdout",
       "text": [
        "\n",
        "Loading: /barbara-wold:Hs_UMB5408_6_M_CN_granule"
       ]
      },
      {
       "output_type": "stream",
       "stream": "stdout",
       "text": [
        "\n",
        "Loading: /barbara-wold:Hs_UMB5408_6_M_CN_granule"
       ]
      },
      {
       "output_type": "stream",
       "stream": "stdout",
       "text": [
        "\n",
        "Loading: /barbara-wold:Hs_UMB4727_20_M_CN_Purkinje_30pool"
       ]
      },
      {
       "output_type": "stream",
       "stream": "stdout",
       "text": [
        "\n",
        "Loading: /barbara-wold:Hs_UMB4727_20_M_CN_Purkinje_30pool"
       ]
      },
      {
       "output_type": "stream",
       "stream": "stdout",
       "text": [
        "\n",
        "Loading: /barbara-wold:Hs_UMB4727_20 M_CN_granule"
       ]
      },
      {
       "output_type": "stream",
       "stream": "stdout",
       "text": [
        "\n",
        "Loading: /barbara-wold:Hs_UMB4727_20 M_CN_granule"
       ]
      },
      {
       "output_type": "stream",
       "stream": "stdout",
       "text": [
        "\n",
        "Loading: /barbara-wold:Hs_UMB4727_20_M_CN_midFI_pyramids_30pool"
       ]
      },
      {
       "output_type": "stream",
       "stream": "stdout",
       "text": [
        "\n",
        "Loading: /barbara-wold:Hs_UMB4727_20_M_CN_midFI_pyramids_30pool"
       ]
      },
      {
       "output_type": "stream",
       "stream": "stdout",
       "text": [
        "\n",
        "Loading: /barbara-wold:Hs_UMB602_27_M_CN_FI_slb9_pyramids_30pool"
       ]
      },
      {
       "output_type": "stream",
       "stream": "stdout",
       "text": [
        "\n",
        "Loading: /barbara-wold:Hs_UMB602_27_M_CN_FI_slb9_pyramids_30pool"
       ]
      },
      {
       "output_type": "stream",
       "stream": "stdout",
       "text": [
        "\n",
        "Loading: /ENCSR000AJD"
       ]
      },
      {
       "output_type": "stream",
       "stream": "stdout",
       "text": [
        "\n",
        "Loading: /ENCSR000AJG"
       ]
      },
      {
       "output_type": "stream",
       "stream": "stdout",
       "text": [
        "\n",
        "Loading: /ENCSR000AIZ"
       ]
      },
      {
       "output_type": "stream",
       "stream": "stdout",
       "text": [
        "\n"
       ]
      }
     ],
     "prompt_number": 11
    },
    {
     "cell_type": "code",
     "collapsed": false,
     "input": [
      "%%sparql -m model\n",
      "select distinct ?t\n",
      "where {\n",
      "  ?s a ?t .\n",
      "}\n",
      "order by ?t"
     ],
     "language": "python",
     "metadata": {},
     "outputs": [
      {
       "output_type": "stream",
       "stream": "stderr",
       "text": [
        "/usr/lib/python2.7/dist-packages/RDF.py:2014: RedlandWarning: Variable s was bound but is unused in the query\n",
        "  results = Redland.librdf_query_execute(self._query,model._model)\n"
       ]
      },
      {
       "html": [
        "<table><tr><td>t</td></tr><tr><td><a href=\"https://www.encodedcc.org/profiles/award.json#award\">https://www.encodedcc.org/profiles/award.json#award</a></td></tr><tr><td><a href=\"https://www.encodedcc.org/profiles/award.json#item\">https://www.encodedcc.org/profiles/award.json#item</a></td></tr><tr><td><a href=\"https://www.encodedcc.org/profiles/biosample.json#biosample\">biosample:biosample</a></td></tr><tr><td><a href=\"https://www.encodedcc.org/profiles/biosample.json#item\">biosample:item</a></td></tr><tr><td><a href=\"https://www.encodedcc.org/profiles/experiment.json#dataset\">experiment:dataset</a></td></tr><tr><td><a href=\"https://www.encodedcc.org/profiles/experiment.json#experiment\">experiment:experiment</a></td></tr><tr><td><a href=\"https://www.encodedcc.org/profiles/experiment.json#item\">experiment:item</a></td></tr><tr><td><a href=\"https://www.encodedcc.org/profiles/file.json#file\">file:file</a></td></tr><tr><td><a href=\"https://www.encodedcc.org/profiles/file.json#item\">file:item</a></td></tr><tr><td><a href=\"https://www.encodedcc.org/profiles/human_donor.json#donor\">https://www.encodedcc.org/profiles/human_donor.json#donor</a></td></tr><tr><td><a href=\"https://www.encodedcc.org/profiles/human_donor.json#human_donor\">https://www.encodedcc.org/profiles/human_donor.json#human_donor</a></td></tr><tr><td><a href=\"https://www.encodedcc.org/profiles/human_donor.json#item\">https://www.encodedcc.org/profiles/human_donor.json#item</a></td></tr><tr><td><a href=\"https://www.encodedcc.org/profiles/lab.json#item\">https://www.encodedcc.org/profiles/lab.json#item</a></td></tr><tr><td><a href=\"https://www.encodedcc.org/profiles/lab.json#lab\">https://www.encodedcc.org/profiles/lab.json#lab</a></td></tr><tr><td><a href=\"https://www.encodedcc.org/profiles/library.json#item\">library:item</a></td></tr><tr><td><a href=\"https://www.encodedcc.org/profiles/library.json#library\">library:library</a></td></tr><tr><td><a href=\"https://www.encodedcc.org/profiles/organism.json#item\">https://www.encodedcc.org/profiles/organism.json#item</a></td></tr><tr><td><a href=\"https://www.encodedcc.org/profiles/organism.json#organism\">https://www.encodedcc.org/profiles/organism.json#organism</a></td></tr><tr><td><a href=\"https://www.encodedcc.org/profiles/platform.json#item\">https://www.encodedcc.org/profiles/platform.json#item</a></td></tr><tr><td><a href=\"https://www.encodedcc.org/profiles/platform.json#platform\">https://www.encodedcc.org/profiles/platform.json#platform</a></td></tr><tr><td><a href=\"https://www.encodedcc.org/profiles/replicate.json#item\">replicate:item</a></td></tr><tr><td><a href=\"https://www.encodedcc.org/profiles/replicate.json#replicate\">replicate:replicate</a></td></tr><tr><td><a href=\"https://www.encodedcc.org/profiles/source.json#item\">https://www.encodedcc.org/profiles/source.json#item</a></td></tr><tr><td><a href=\"https://www.encodedcc.org/profiles/source.json#source\">https://www.encodedcc.org/profiles/source.json#source</a></td></tr><tr><td><a href=\"https://www.encodedcc.org/profiles/user.json#item\">https://www.encodedcc.org/profiles/user.json#item</a></td></tr><tr><td><a href=\"https://www.encodedcc.org/profiles/user.json#user\">https://www.encodedcc.org/profiles/user.json#user</a></td></tr></table>"
       ],
       "metadata": {},
       "output_type": "pyout",
       "prompt_number": 12,
       "text": [
        "<rdfmagic.LibRdfResults at 0x7ffc86292090>"
       ]
      }
     ],
     "prompt_number": 12
    },
    {
     "cell_type": "code",
     "collapsed": false,
     "input": [
      "%%sparql -m model -o biosamples\n",
      "select distinct ?s\n",
      "where {\n",
      "  ?s a biosample:biosample .\n",
      "}\n",
      "order by ?s"
     ],
     "language": "python",
     "metadata": {},
     "outputs": [],
     "prompt_number": 13
    },
    {
     "cell_type": "code",
     "collapsed": false,
     "input": [
      "biosamples"
     ],
     "language": "python",
     "metadata": {},
     "outputs": [
      {
       "html": [
        "<table><tr><td>s</td></tr><tr><td><a href=\"https://www.encodedcc.org/biosamples/ENCBS009SRE/\">https://www.encodedcc.org/biosamples/ENCBS009SRE/</a></td></tr><tr><td><a href=\"https://www.encodedcc.org/biosamples/ENCBS051VQG/\">https://www.encodedcc.org/biosamples/ENCBS051VQG/</a></td></tr><tr><td><a href=\"https://www.encodedcc.org/biosamples/ENCBS122LNO/\">https://www.encodedcc.org/biosamples/ENCBS122LNO/</a></td></tr><tr><td><a href=\"https://www.encodedcc.org/biosamples/ENCBS188JNJ/\">https://www.encodedcc.org/biosamples/ENCBS188JNJ/</a></td></tr><tr><td><a href=\"https://www.encodedcc.org/biosamples/ENCBS236ZAD/\">https://www.encodedcc.org/biosamples/ENCBS236ZAD/</a></td></tr><tr><td><a href=\"https://www.encodedcc.org/biosamples/ENCBS487GLA/\">https://www.encodedcc.org/biosamples/ENCBS487GLA/</a></td></tr><tr><td><a href=\"https://www.encodedcc.org/biosamples/ENCBS503XXB/\">https://www.encodedcc.org/biosamples/ENCBS503XXB/</a></td></tr><tr><td><a href=\"https://www.encodedcc.org/biosamples/ENCBS590LDH/\">https://www.encodedcc.org/biosamples/ENCBS590LDH/</a></td></tr><tr><td><a href=\"https://www.encodedcc.org/biosamples/ENCBS651ADZ/\">https://www.encodedcc.org/biosamples/ENCBS651ADZ/</a></td></tr><tr><td><a href=\"https://www.encodedcc.org/biosamples/ENCBS677XMX/\">https://www.encodedcc.org/biosamples/ENCBS677XMX/</a></td></tr><tr><td><a href=\"https://www.encodedcc.org/biosamples/ENCBS791FEH/\">https://www.encodedcc.org/biosamples/ENCBS791FEH/</a></td></tr><tr><td><a href=\"https://www.encodedcc.org/biosamples/ENCBS839NNF/\">https://www.encodedcc.org/biosamples/ENCBS839NNF/</a></td></tr><tr><td><a href=\"https://www.encodedcc.org/biosamples/ENCBS860IIZ/\">https://www.encodedcc.org/biosamples/ENCBS860IIZ/</a></td></tr><tr><td><a href=\"https://www.encodedcc.org/biosamples/ENCBS919MHE/\">https://www.encodedcc.org/biosamples/ENCBS919MHE/</a></td></tr><tr><td><a href=\"https://www.encodedcc.org/biosamples/ENCBS934CYZ/\">https://www.encodedcc.org/biosamples/ENCBS934CYZ/</a></td></tr><tr><td><a href=\"https://www.encodedcc.org/biosamples/ENCBS991XFG/\">https://www.encodedcc.org/biosamples/ENCBS991XFG/</a></td></tr><tr><td><a href=\"https://www.encodedcc.org/biosamples/ENCBS998GBF/\">https://www.encodedcc.org/biosamples/ENCBS998GBF/</a></td></tr></table>"
       ],
       "metadata": {},
       "output_type": "pyout",
       "prompt_number": 14,
       "text": [
        "<rdfmagic.LibRdfResults at 0x7ffc78fb3f50>"
       ]
      }
     ],
     "prompt_number": 14
    },
    {
     "cell_type": "code",
     "collapsed": false,
     "input": [
      "for row in biosamples:\n",
      "    sample = row['s']\n",
      "    print('Loading: {}'.format(sample))\n",
      "    try:\n",
      "        load_jsonld(model, '{}'.format(sample), Embed=False)\n",
      "    except Exception as err:\n",
      "        print ('failed: ', err)"
     ],
     "language": "python",
     "metadata": {},
     "outputs": [
      {
       "output_type": "stream",
       "stream": "stdout",
       "text": [
        "Loading: https://www.encodedcc.org/biosamples/ENCBS009SRE/\n",
        "Loading: https://www.encodedcc.org/biosamples/ENCBS051VQG/"
       ]
      },
      {
       "output_type": "stream",
       "stream": "stdout",
       "text": [
        "\n",
        "Loading: https://www.encodedcc.org/biosamples/ENCBS122LNO/"
       ]
      },
      {
       "output_type": "stream",
       "stream": "stdout",
       "text": [
        "\n",
        "Loading: https://www.encodedcc.org/biosamples/ENCBS188JNJ/"
       ]
      },
      {
       "output_type": "stream",
       "stream": "stdout",
       "text": [
        "\n",
        "Loading: https://www.encodedcc.org/biosamples/ENCBS236ZAD/"
       ]
      },
      {
       "output_type": "stream",
       "stream": "stdout",
       "text": [
        "\n",
        "Loading: https://www.encodedcc.org/biosamples/ENCBS487GLA/"
       ]
      },
      {
       "output_type": "stream",
       "stream": "stdout",
       "text": [
        "\n",
        "Loading: https://www.encodedcc.org/biosamples/ENCBS503XXB/"
       ]
      },
      {
       "output_type": "stream",
       "stream": "stdout",
       "text": [
        "\n",
        "Loading: https://www.encodedcc.org/biosamples/ENCBS590LDH/"
       ]
      },
      {
       "output_type": "stream",
       "stream": "stdout",
       "text": [
        "\n",
        "Loading: https://www.encodedcc.org/biosamples/ENCBS651ADZ/"
       ]
      },
      {
       "output_type": "stream",
       "stream": "stdout",
       "text": [
        "\n",
        "Loading: https://www.encodedcc.org/biosamples/ENCBS677XMX/"
       ]
      },
      {
       "output_type": "stream",
       "stream": "stdout",
       "text": [
        "\n",
        "Loading: https://www.encodedcc.org/biosamples/ENCBS791FEH/"
       ]
      },
      {
       "output_type": "stream",
       "stream": "stdout",
       "text": [
        "\n",
        "Loading: https://www.encodedcc.org/biosamples/ENCBS839NNF/"
       ]
      },
      {
       "output_type": "stream",
       "stream": "stdout",
       "text": [
        "\n",
        "Loading: https://www.encodedcc.org/biosamples/ENCBS860IIZ/"
       ]
      },
      {
       "output_type": "stream",
       "stream": "stdout",
       "text": [
        "\n",
        "Loading: https://www.encodedcc.org/biosamples/ENCBS919MHE/"
       ]
      },
      {
       "output_type": "stream",
       "stream": "stdout",
       "text": [
        "\n",
        "Loading: https://www.encodedcc.org/biosamples/ENCBS934CYZ/"
       ]
      },
      {
       "output_type": "stream",
       "stream": "stdout",
       "text": [
        "\n",
        "Loading: https://www.encodedcc.org/biosamples/ENCBS991XFG/"
       ]
      },
      {
       "output_type": "stream",
       "stream": "stdout",
       "text": [
        "\n",
        "Loading: https://www.encodedcc.org/biosamples/ENCBS998GBF/"
       ]
      },
      {
       "output_type": "stream",
       "stream": "stdout",
       "text": [
        "\n"
       ]
      }
     ],
     "prompt_number": 19
    },
    {
     "cell_type": "code",
     "collapsed": false,
     "input": [
      "%%sparql -m model\n",
      "select distinct ?s ?desc ?amount ?units\n",
      "where {\n",
      "  ?s a biosample:biosample ;\n",
      "     rdf:description ?desc .\n",
      "  OPTIONAL { ?s biosample:starting_amount ?amount . }\n",
      "  OPTIONAL { ?s biosample:starting_amount_units ?units . }\n",
      "      \n",
      "}\n",
      "order by ?s"
     ],
     "language": "python",
     "metadata": {},
     "outputs": [
      {
       "html": [
        "<table><tr><td>s</td><td>desc</td><td>amount</td><td>units</td></tr><tr><td><a href=\"https://www.encodedcc.org/biosamples/ENCBS009SRE/\">https://www.encodedcc.org/biosamples/ENCBS009SRE/</a></td><td>Hs_UMB602_27_M_CN_FI_slb9_pyramids_30pool</td><td>30</td><td>cells</td></tr><tr><td><a href=\"https://www.encodedcc.org/biosamples/ENCBS035OKV/\">https://www.encodedcc.org/biosamples/ENCBS035OKV/</a></td><td>single piece of cerebellum recieved from brain bank 20 year human male</td><td>None</td><td>None</td></tr><tr><td><a href=\"https://www.encodedcc.org/biosamples/ENCBS051VQG/\">https://www.encodedcc.org/biosamples/ENCBS051VQG/</a></td><td>Hs_UMB5408_6_M_CN_Purkinje_30pool</td><td>30</td><td>cells</td></tr><tr><td><a href=\"https://www.encodedcc.org/biosamples/ENCBS122LNO/\">https://www.encodedcc.org/biosamples/ENCBS122LNO/</a></td><td>Hs_UMB4727_20 M_CN_granule</td><td>None</td><td>None</td></tr><tr><td><a href=\"https://www.encodedcc.org/biosamples/ENCBS188JNJ/\">https://www.encodedcc.org/biosamples/ENCBS188JNJ/</a></td><td>Hs_UMB4727_20 M_CN_granule</td><td>None</td><td>None</td></tr><tr><td><a href=\"https://www.encodedcc.org/biosamples/ENCBS195IGI/\">https://www.encodedcc.org/biosamples/ENCBS195IGI/</a></td><td>GM12878 growth</td><td>None</td><td>None</td></tr><tr><td><a href=\"https://www.encodedcc.org/biosamples/ENCBS236ZAD/\">https://www.encodedcc.org/biosamples/ENCBS236ZAD/</a></td><td>GM12878 11 cell pool</td><td>11</td><td>cells</td></tr><tr><td><a href=\"https://www.encodedcc.org/biosamples/ENCBS356HRP/\">https://www.encodedcc.org/biosamples/ENCBS356HRP/</a></td><td>single piece of cerebellum recieved from brain bank 6 year human male</td><td>None</td><td>None</td></tr><tr><td><a href=\"https://www.encodedcc.org/biosamples/ENCBS446XRJ/\">https://www.encodedcc.org/biosamples/ENCBS446XRJ/</a></td><td>single piece of cerebellum recieved from brain bank 27 year human male</td><td>None</td><td>None</td></tr><tr><td><a href=\"https://www.encodedcc.org/biosamples/ENCBS487GLA/\">https://www.encodedcc.org/biosamples/ENCBS487GLA/</a></td><td>GM12878 bulk prep 10 ngs</td><td>1.000000000000000E-05</td><td>mg</td></tr><tr><td><a href=\"https://www.encodedcc.org/biosamples/ENCBS503XXB/\">https://www.encodedcc.org/biosamples/ENCBS503XXB/</a></td><td>Hs_UMB4727_20_M_CN_Purkinje_30pool</td><td>30</td><td>cells</td></tr><tr><td><a href=\"https://www.encodedcc.org/biosamples/ENCBS590LDH/\">https://www.encodedcc.org/biosamples/ENCBS590LDH/</a></td><td>Hs_UMB4727_20_M_CN_midFI_pyramids_30pool</td><td>30</td><td>cells</td></tr><tr><td><a href=\"https://www.encodedcc.org/biosamples/ENCBS651ADZ/\">https://www.encodedcc.org/biosamples/ENCBS651ADZ/</a></td><td>Hs_UMB4727_20_M_CN_midFI_pyramids_30pool</td><td>30</td><td>cells</td></tr><tr><td><a href=\"https://www.encodedcc.org/biosamples/ENCBS677XMX/\">https://www.encodedcc.org/biosamples/ENCBS677XMX/</a></td><td>Hs_UMB5408_6_M_CN_granule</td><td>None</td><td>None</td></tr><tr><td><a href=\"https://www.encodedcc.org/biosamples/ENCBS791FEH/\">https://www.encodedcc.org/biosamples/ENCBS791FEH/</a></td><td>GM12878 30 cell pool A (analysis group in paper)</td><td>30</td><td>cells</td></tr><tr><td><a href=\"https://www.encodedcc.org/biosamples/ENCBS839NNF/\">https://www.encodedcc.org/biosamples/ENCBS839NNF/</a></td><td>GM12878 30 cell pool B (analysis group in paper)</td><td>30</td><td>cells</td></tr><tr><td><a href=\"https://www.encodedcc.org/biosamples/ENCBS860IIZ/\">https://www.encodedcc.org/biosamples/ENCBS860IIZ/</a></td><td>Hs_UMB4727_20_M_CN_Purkinje_30pool</td><td>30</td><td>cells</td></tr><tr><td><a href=\"https://www.encodedcc.org/biosamples/ENCBS919MHE/\">https://www.encodedcc.org/biosamples/ENCBS919MHE/</a></td><td>Hs_UMB602_27_M_CN_FI_slb9_pyramids_30pool</td><td>30</td><td>cells</td></tr><tr><td><a href=\"https://www.encodedcc.org/biosamples/ENCBS934CYZ/\">https://www.encodedcc.org/biosamples/ENCBS934CYZ/</a></td><td>GM12878 10 cell pool</td><td>10</td><td>cells</td></tr><tr><td><a href=\"https://www.encodedcc.org/biosamples/ENCBS991XFG/\">https://www.encodedcc.org/biosamples/ENCBS991XFG/</a></td><td>Hs_UMB5408_6_M_CN_Purkinje_30pool</td><td>30</td><td>cells</td></tr><tr><td><a href=\"https://www.encodedcc.org/biosamples/ENCBS998GBF/\">https://www.encodedcc.org/biosamples/ENCBS998GBF/</a></td><td>Hs_UMB5408_6_M_CN_granule</td><td>None</td><td>None</td></tr></table>"
       ],
       "metadata": {},
       "output_type": "pyout",
       "prompt_number": 23,
       "text": [
        "<rdfmagic.LibRdfResults at 0x7ffc86292190>"
       ]
      }
     ],
     "prompt_number": 23
    },
    {
     "cell_type": "markdown",
     "metadata": {},
     "source": [
      "granuels area disection, equivalent to 30 purkinje cells"
     ]
    },
    {
     "cell_type": "code",
     "collapsed": false,
     "input": [
      "dump_model(model, open('/tmp/encode-datasets.turtle','w'))"
     ],
     "language": "python",
     "metadata": {},
     "outputs": [],
     "prompt_number": 21
    }
   ],
   "metadata": {}
  }
 ]
}