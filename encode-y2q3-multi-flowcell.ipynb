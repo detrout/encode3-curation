{
 "metadata": {
  "name": "",
  "signature": "sha256:3f01fc36e1c13c8fe2e0cf1568e2da745b88b696466e84a48c5994169d260f48"
 },
 "nbformat": 3,
 "nbformat_minor": 0,
 "worksheets": [
  {
   "cells": [
    {
     "cell_type": "code",
     "collapsed": false,
     "input": [
      "from __future__ import print_function"
     ],
     "language": "python",
     "metadata": {},
     "outputs": [],
     "prompt_number": 1
    },
    {
     "cell_type": "code",
     "collapsed": false,
     "input": [
      "from curation_common import *"
     ],
     "language": "python",
     "metadata": {},
     "outputs": [],
     "prompt_number": 2
    },
    {
     "cell_type": "code",
     "collapsed": false,
     "input": [
      "libs = [12517, #   GM12878_30B\n",
      "        12518, #  GM12878_30B\n",
      "        14485, #  PGP bipolar neurons\n",
      "        14486, #  PGP bipolar neurons\n",
      "        14487, #  PGP-IPS-cells-rep1_13pgs-additional-reads\n",
      "        14488, #  PGP-IPS-cells-rep2_13pgs-additional-reads\n",
      "        14495, #  midbrain-total-RNA-extract-April4-14_13pgs\n",
      "        14499, #  liver-total-RNA-extract-April4-14_13pgs-additional-reads2\n",
      "        14501, #  Skeletal Muscle P0 rep1 GITC\n",
      "]"
     ],
     "language": "python",
     "metadata": {},
     "outputs": [],
     "prompt_number": 3
    },
    {
     "cell_type": "code",
     "collapsed": false,
     "input": [
      "model = get_model()"
     ],
     "language": "python",
     "metadata": {},
     "outputs": [],
     "prompt_number": 5
    },
    {
     "cell_type": "code",
     "collapsed": false,
     "input": [
      "for l in libs:\n",
      "    load_into_model(model, 'rdfa', 'http://jumpgate.caltech.edu/library/{}'.format(l))"
     ],
     "language": "python",
     "metadata": {},
     "outputs": [],
     "prompt_number": 8
    },
    {
     "cell_type": "code",
     "collapsed": false,
     "input": [
      "%%sparql -m model -o lanes\n",
      "select distinct ?lane\n",
      "where {\n",
      "  ?library a htsw:Library ; \n",
      "           htsw:has_lane ?lane .\n",
      "}"
     ],
     "language": "python",
     "metadata": {},
     "outputs": [],
     "prompt_number": 17
    },
    {
     "cell_type": "code",
     "collapsed": false,
     "input": [
      "for row in lanes:\n",
      "    lane = str(row['lane'])\n",
      "    load_into_model(model, 'rdfa', lane)"
     ],
     "language": "python",
     "metadata": {},
     "outputs": [],
     "prompt_number": 18
    },
    {
     "cell_type": "code",
     "collapsed": false,
     "input": [
      "%%sparql -m model\n",
      "select ?library ?flowcell ?lane_number\n",
      "where {\n",
      "   ?library a htsw:Library ;\n",
      "            htsw:has_lane ?lane .\n",
      "   ?lane htsw:flowcell ?flowcell ;\n",
      "         htsw:lane_number ?lane_number .\n",
      "}\n",
      "order by ?library ?flowcell ?lane_number"
     ],
     "language": "python",
     "metadata": {},
     "outputs": [
      {
       "html": [
        "<table><tr><td>library</td><td>flowcell</td><td>lane_number</td></tr><tr><td><a href=\"http://jumpgate.caltech.edu/library/12517/\">library:12517/</a></td><td><a href=\"http://jumpgate.caltech.edu/flowcell/D0549ACXX/\">flowcell:D0549ACXX/</a></td><td>1</td></tr><tr><td><a href=\"http://jumpgate.caltech.edu/library/12517/\">library:12517/</a></td><td><a href=\"http://jumpgate.caltech.edu/flowcell/H9L41ADXX/\">flowcell:H9L41ADXX/</a></td><td>1</td></tr><tr><td><a href=\"http://jumpgate.caltech.edu/library/12517/\">library:12517/</a></td><td><a href=\"http://jumpgate.caltech.edu/flowcell/HA00MADXX/\">flowcell:HA00MADXX/</a></td><td>1</td></tr><tr><td><a href=\"http://jumpgate.caltech.edu/library/12518/\">library:12518/</a></td><td><a href=\"http://jumpgate.caltech.edu/flowcell/D0549ACXX/\">flowcell:D0549ACXX/</a></td><td>2</td></tr><tr><td><a href=\"http://jumpgate.caltech.edu/library/12518/\">library:12518/</a></td><td><a href=\"http://jumpgate.caltech.edu/flowcell/H9L41ADXX/\">flowcell:H9L41ADXX/</a></td><td>1</td></tr><tr><td><a href=\"http://jumpgate.caltech.edu/library/12518/\">library:12518/</a></td><td><a href=\"http://jumpgate.caltech.edu/flowcell/HA00MADXX/\">flowcell:HA00MADXX/</a></td><td>1</td></tr><tr><td><a href=\"http://jumpgate.caltech.edu/library/14485/\">library:14485/</a></td><td><a href=\"http://jumpgate.caltech.edu/flowcell/H9L41ADXX/\">flowcell:H9L41ADXX/</a></td><td>1</td></tr><tr><td><a href=\"http://jumpgate.caltech.edu/library/14485/\">library:14485/</a></td><td><a href=\"http://jumpgate.caltech.edu/flowcell/HA00MADXX/\">flowcell:HA00MADXX/</a></td><td>1</td></tr><tr><td><a href=\"http://jumpgate.caltech.edu/library/14486/\">library:14486/</a></td><td><a href=\"http://jumpgate.caltech.edu/flowcell/H9L41ADXX/\">flowcell:H9L41ADXX/</a></td><td>1</td></tr><tr><td><a href=\"http://jumpgate.caltech.edu/library/14486/\">library:14486/</a></td><td><a href=\"http://jumpgate.caltech.edu/flowcell/HA00MADXX/\">flowcell:HA00MADXX/</a></td><td>1</td></tr><tr><td><a href=\"http://jumpgate.caltech.edu/library/14487/\">library:14487/</a></td><td><a href=\"http://jumpgate.caltech.edu/flowcell/H9L41ADXX/\">flowcell:H9L41ADXX/</a></td><td>1</td></tr><tr><td><a href=\"http://jumpgate.caltech.edu/library/14487/\">library:14487/</a></td><td><a href=\"http://jumpgate.caltech.edu/flowcell/HA024ADXX/\">flowcell:HA024ADXX/</a></td><td>1</td></tr><tr><td><a href=\"http://jumpgate.caltech.edu/library/14488/\">library:14488/</a></td><td><a href=\"http://jumpgate.caltech.edu/flowcell/H9L41ADXX/\">flowcell:H9L41ADXX/</a></td><td>1</td></tr><tr><td><a href=\"http://jumpgate.caltech.edu/library/14488/\">library:14488/</a></td><td><a href=\"http://jumpgate.caltech.edu/flowcell/HA024ADXX/\">flowcell:HA024ADXX/</a></td><td>1</td></tr><tr><td><a href=\"http://jumpgate.caltech.edu/library/14495/\">library:14495/</a></td><td><a href=\"http://jumpgate.caltech.edu/flowcell/H9L41ADXX/\">flowcell:H9L41ADXX/</a></td><td>1</td></tr><tr><td><a href=\"http://jumpgate.caltech.edu/library/14495/\">library:14495/</a></td><td><a href=\"http://jumpgate.caltech.edu/flowcell/H9Y0PADXX/\">flowcell:H9Y0PADXX/</a></td><td>1</td></tr><tr><td><a href=\"http://jumpgate.caltech.edu/library/14495/\">library:14495/</a></td><td><a href=\"http://jumpgate.caltech.edu/flowcell/HA00MADXX/\">flowcell:HA00MADXX/</a></td><td>1</td></tr><tr><td><a href=\"http://jumpgate.caltech.edu/library/14499/\">library:14499/</a></td><td><a href=\"http://jumpgate.caltech.edu/flowcell/H9L41ADXX/\">flowcell:H9L41ADXX/</a></td><td>1</td></tr><tr><td><a href=\"http://jumpgate.caltech.edu/library/14499/\">library:14499/</a></td><td><a href=\"http://jumpgate.caltech.edu/flowcell/HA00MADXX/\">flowcell:HA00MADXX/</a></td><td>1</td></tr><tr><td><a href=\"http://jumpgate.caltech.edu/library/14499/\">library:14499/</a></td><td><a href=\"http://jumpgate.caltech.edu/flowcell/HA024ADXX/\">flowcell:HA024ADXX/</a></td><td>1</td></tr><tr><td><a href=\"http://jumpgate.caltech.edu/library/14501/\">library:14501/</a></td><td><a href=\"http://jumpgate.caltech.edu/flowcell/H9L41ADXX/\">flowcell:H9L41ADXX/</a></td><td>1</td></tr><tr><td><a href=\"http://jumpgate.caltech.edu/library/14501/\">library:14501/</a></td><td><a href=\"http://jumpgate.caltech.edu/flowcell/H9Y0PADXX/\">flowcell:H9Y0PADXX/</a></td><td>1</td></tr></table>"
       ],
       "metadata": {},
       "output_type": "pyout",
       "prompt_number": 22,
       "text": [
        "<rdfmagic.LibRdfResults at 0x7fe178034e50>"
       ]
      }
     ],
     "prompt_number": 22
    },
    {
     "cell_type": "code",
     "collapsed": false,
     "input": [],
     "language": "python",
     "metadata": {},
     "outputs": []
    }
   ],
   "metadata": {}
  }
 ]
}