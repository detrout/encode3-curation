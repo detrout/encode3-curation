{
 "metadata": {
  "name": "",
  "signature": "sha256:61e2e0e18cfe4f840abecec15cc99682bf8236723269ecc9f4a31369e3ae25c6"
 },
 "nbformat": 3,
 "nbformat_minor": 0,
 "worksheets": [
  {
   "cells": [
    {
     "cell_type": "code",
     "collapsed": false,
     "input": [
      "from __future__ import print_function"
     ],
     "language": "python",
     "metadata": {},
     "outputs": [],
     "prompt_number": 1
    },
    {
     "cell_type": "code",
     "collapsed": false,
     "input": [
      "from curation_common import *"
     ],
     "language": "python",
     "metadata": {},
     "outputs": [],
     "prompt_number": 2
    },
    {
     "cell_type": "code",
     "collapsed": false,
     "input": [
      "import pandas\n",
      "import requests\n",
      "import re\n",
      "import gcat\n",
      "import jsonschema\n",
      "import types\n",
      "from IPython import display\n",
      "import RDF\n",
      "\n",
      "from htsworkflow.util import hashfile"
     ],
     "language": "python",
     "metadata": {},
     "outputs": [],
     "prompt_number": 16
    },
    {
     "cell_type": "code",
     "collapsed": false,
     "input": [
      "model = get_model()"
     ],
     "language": "python",
     "metadata": {},
     "outputs": [],
     "prompt_number": 4
    },
    {
     "cell_type": "code",
     "collapsed": false,
     "input": [
      "libs = [15072,\n",
      "15073,\n",
      "15074,\n",
      "15075,\n",
      "15076,\n",
      "15077,\n",
      "15078,\n",
      "15079,\n",
      "15080,\n",
      "15081,\n",
      "15082,\n",
      "15083,\n",
      "15084,\n",
      "15085,\n",
      "15086,\n",
      "15087,\n",
      "15088,\n",
      "15089,\n",
      "15090,\n",
      "15091,\n",
      "15092,\n",
      "15093,\n",
      "15094,\n",
      "15095]"
     ],
     "language": "python",
     "metadata": {},
     "outputs": [],
     "prompt_number": 5
    },
    {
     "cell_type": "code",
     "collapsed": false,
     "input": [
      "for l in libs:\n",
      "    print(\"Loading {}\".format(l))\n",
      "    load_into_model(model, 'rdfa', 'https://jumpgate.caltech.edu/library/{}'.format(l))"
     ],
     "language": "python",
     "metadata": {},
     "outputs": [
      {
       "output_type": "stream",
       "stream": "stdout",
       "text": [
        "Loading 15072\n",
        "Loading 15073"
       ]
      },
      {
       "output_type": "stream",
       "stream": "stdout",
       "text": [
        "\n",
        "Loading 15074"
       ]
      },
      {
       "output_type": "stream",
       "stream": "stdout",
       "text": [
        "\n",
        "Loading 15075"
       ]
      },
      {
       "output_type": "stream",
       "stream": "stdout",
       "text": [
        "\n",
        "Loading 15076"
       ]
      },
      {
       "output_type": "stream",
       "stream": "stdout",
       "text": [
        "\n",
        "Loading 15077"
       ]
      },
      {
       "output_type": "stream",
       "stream": "stdout",
       "text": [
        "\n",
        "Loading 15078"
       ]
      },
      {
       "output_type": "stream",
       "stream": "stdout",
       "text": [
        "\n",
        "Loading 15079"
       ]
      },
      {
       "output_type": "stream",
       "stream": "stdout",
       "text": [
        "\n",
        "Loading 15080"
       ]
      },
      {
       "output_type": "stream",
       "stream": "stdout",
       "text": [
        "\n",
        "Loading 15081"
       ]
      },
      {
       "output_type": "stream",
       "stream": "stdout",
       "text": [
        "\n",
        "Loading 15082"
       ]
      },
      {
       "output_type": "stream",
       "stream": "stdout",
       "text": [
        "\n",
        "Loading 15083"
       ]
      },
      {
       "output_type": "stream",
       "stream": "stdout",
       "text": [
        "\n",
        "Loading 15084"
       ]
      },
      {
       "output_type": "stream",
       "stream": "stdout",
       "text": [
        "\n",
        "Loading 15085"
       ]
      },
      {
       "output_type": "stream",
       "stream": "stdout",
       "text": [
        "\n",
        "Loading 15086"
       ]
      },
      {
       "output_type": "stream",
       "stream": "stdout",
       "text": [
        "\n",
        "Loading 15087"
       ]
      },
      {
       "output_type": "stream",
       "stream": "stdout",
       "text": [
        "\n",
        "Loading 15088"
       ]
      },
      {
       "output_type": "stream",
       "stream": "stdout",
       "text": [
        "\n",
        "Loading 15089"
       ]
      },
      {
       "output_type": "stream",
       "stream": "stdout",
       "text": [
        "\n",
        "Loading 15090"
       ]
      },
      {
       "output_type": "stream",
       "stream": "stdout",
       "text": [
        "\n",
        "Loading 15091"
       ]
      },
      {
       "output_type": "stream",
       "stream": "stdout",
       "text": [
        "\n",
        "Loading 15092"
       ]
      },
      {
       "output_type": "stream",
       "stream": "stdout",
       "text": [
        "\n",
        "Loading 15093"
       ]
      },
      {
       "output_type": "stream",
       "stream": "stdout",
       "text": [
        "\n",
        "Loading 15094"
       ]
      },
      {
       "output_type": "stream",
       "stream": "stdout",
       "text": [
        "\n",
        "Loading 15095"
       ]
      },
      {
       "output_type": "stream",
       "stream": "stdout",
       "text": [
        "\n"
       ]
      }
     ],
     "prompt_number": 7
    },
    {
     "cell_type": "code",
     "collapsed": false,
     "input": [
      "%%sparql -m model -o libraries\n",
      "select ?lib ?libid ?label\n",
      "where {\n",
      "  ?lib a htsw:Library ;\n",
      "       htsw:library_id ?libid ;\n",
      "       htsw:name ?label .\n",
      "}"
     ],
     "language": "python",
     "metadata": {},
     "outputs": [],
     "prompt_number": 14
    },
    {
     "cell_type": "code",
     "collapsed": false,
     "input": [
      "libraries"
     ],
     "language": "python",
     "metadata": {},
     "outputs": [
      {
       "html": [
        "<table><tr><td>lib</td><td>libid</td><td>label</td></tr><tr><td><a href=\"https://jumpgate.caltech.edu/library/15072/\">https://jumpgate.caltech.edu/library/15072/</a></td><td>15072</td><td>Illumina index__701_502_Paired_ends__e14.5_forebrain1_10ngs_</td></tr><tr><td><a href=\"https://jumpgate.caltech.edu/library/15073/\">https://jumpgate.caltech.edu/library/15073/</a></td><td>15073</td><td>Illumina index__702_503_Paired_ends__e14.5_forebrain2_10ngs_</td></tr><tr><td><a href=\"https://jumpgate.caltech.edu/library/15074/\">https://jumpgate.caltech.edu/library/15074/</a></td><td>15074</td><td>Illumina index__703_504_Paired_ends__e14.5_midbrain1_10ngs_</td></tr><tr><td><a href=\"https://jumpgate.caltech.edu/library/15075/\">https://jumpgate.caltech.edu/library/15075/</a></td><td>15075</td><td>Illumina index__704_505_Paired_ends__e14.5_midbrain2_10ngs_</td></tr><tr><td><a href=\"https://jumpgate.caltech.edu/library/15076/\">https://jumpgate.caltech.edu/library/15076/</a></td><td>15076</td><td>Illumina index__705_506_Paired_ends__e14.5_hindbrain1_10ngs_</td></tr><tr><td><a href=\"https://jumpgate.caltech.edu/library/15077/\">https://jumpgate.caltech.edu/library/15077/</a></td><td>15077</td><td>Illumina index__706_507_Paired_ends__e14.5_hindbrain2_10ngs_</td></tr><tr><td><a href=\"https://jumpgate.caltech.edu/library/15078/\">https://jumpgate.caltech.edu/library/15078/</a></td><td>15078</td><td>Illumina index__707_508_Paired_ends__e14.5_cranioface1_10ngs_</td></tr><tr><td><a href=\"https://jumpgate.caltech.edu/library/15079/\">https://jumpgate.caltech.edu/library/15079/</a></td><td>15079</td><td>Illumina index__708_517_Paired_ends__e14.5_cranioface2_10ngs_</td></tr><tr><td><a href=\"https://jumpgate.caltech.edu/library/15080/\">https://jumpgate.caltech.edu/library/15080/</a></td><td>15080</td><td>Illumina index__709_502_Paired_ends__e14.5_liver1_10ngs_</td></tr><tr><td><a href=\"https://jumpgate.caltech.edu/library/15081/\">https://jumpgate.caltech.edu/library/15081/</a></td><td>15081</td><td>Illumina index__710_503_Paired_ends__e14.5_liver2_10ngs_</td></tr><tr><td><a href=\"https://jumpgate.caltech.edu/library/15082/\">https://jumpgate.caltech.edu/library/15082/</a></td><td>15082</td><td>Illumina index__711_504_Paired_ends__e14.5_lung1_10ngs_</td></tr><tr><td><a href=\"https://jumpgate.caltech.edu/library/15083/\">https://jumpgate.caltech.edu/library/15083/</a></td><td>15083</td><td>Illumina index__712_505_Paired_ends__e14.5_lung2_10ngs_</td></tr><tr><td><a href=\"https://jumpgate.caltech.edu/library/15084/\">https://jumpgate.caltech.edu/library/15084/</a></td><td>15084</td><td>Illumina index__701_506_Paired_ends__e14.5_limb1_10ngs_</td></tr><tr><td><a href=\"https://jumpgate.caltech.edu/library/15085/\">https://jumpgate.caltech.edu/library/15085/</a></td><td>15085</td><td>Illumina index__702_507_Paired_ends__e14.5_limb2_10ngs_</td></tr><tr><td><a href=\"https://jumpgate.caltech.edu/library/15086/\">https://jumpgate.caltech.edu/library/15086/</a></td><td>15086</td><td>Illumina index__703_508_Paired_ends__e14.5_heart1_10ngs_</td></tr><tr><td><a href=\"https://jumpgate.caltech.edu/library/15087/\">https://jumpgate.caltech.edu/library/15087/</a></td><td>15087</td><td>Illumina index__704_517_Paired_ends__e14.5_heart2_10ngs_</td></tr><tr><td><a href=\"https://jumpgate.caltech.edu/library/15088/\">https://jumpgate.caltech.edu/library/15088/</a></td><td>15088</td><td>Illumina index__705_502_Paired_ends__e14.5_stomach1_10ngs_</td></tr><tr><td><a href=\"https://jumpgate.caltech.edu/library/15089/\">https://jumpgate.caltech.edu/library/15089/</a></td><td>15089</td><td>Illumina index__706_503_Paired_ends__e14.5_stomach2_10ngs_</td></tr><tr><td><a href=\"https://jumpgate.caltech.edu/library/15090/\">https://jumpgate.caltech.edu/library/15090/</a></td><td>15090</td><td>Illumina index__707_504_Paired_ends__e14.5_intestine1_10ngs_</td></tr><tr><td><a href=\"https://jumpgate.caltech.edu/library/15091/\">https://jumpgate.caltech.edu/library/15091/</a></td><td>15091</td><td>Illumina index__708_505_Paired_ends__e14.5_intestine2_10ngs_</td></tr><tr><td><a href=\"https://jumpgate.caltech.edu/library/15092/\">https://jumpgate.caltech.edu/library/15092/</a></td><td>15092</td><td>Illumina index__709_506_Paired_ends__e14.5_neural tube1_10ngs_</td></tr><tr><td><a href=\"https://jumpgate.caltech.edu/library/15093/\">https://jumpgate.caltech.edu/library/15093/</a></td><td>15093</td><td>Illumina index__710_507_Paired_ends__e14.5_neural tube2_10ngs_</td></tr><tr><td><a href=\"https://jumpgate.caltech.edu/library/15094/\">https://jumpgate.caltech.edu/library/15094/</a></td><td>15094</td><td>Illumina index__711_508_Paired_ends__e14.5_kidney1_10ngs_</td></tr><tr><td><a href=\"https://jumpgate.caltech.edu/library/15095/\">https://jumpgate.caltech.edu/library/15095/</a></td><td>15095</td><td>Illumina index__712_517_Paired_ends__e14.5_kidney2_10ngs_</td></tr></table>"
       ],
       "metadata": {},
       "output_type": "pyout",
       "prompt_number": 15,
       "text": [
        "<rdfmagic.LibRdfResults at 0x7fe1bd4ea150>"
       ]
      }
     ],
     "prompt_number": 15
    },
    {
     "cell_type": "code",
     "collapsed": false,
     "input": [
      "for row in libraries:\n",
      "    lib_id = str(row['libid'])\n",
      "    name = str(row['label'])\n",
      "    name = re.sub('Illumina.*ends__', '', name)\n",
      "    name = re.sub('_$','', name)\n",
      "    print(lib_id, lib_id+'-'+name)"
     ],
     "language": "python",
     "metadata": {},
     "outputs": [
      {
       "output_type": "stream",
       "stream": "stdout",
       "text": [
        "15072 15072-e14.5_forebrain1_10ngs\n",
        "15073 15073-e14.5_forebrain2_10ngs\n",
        "15074 15074-e14.5_midbrain1_10ngs\n",
        "15075 15075-e14.5_midbrain2_10ngs\n",
        "15076 15076-e14.5_hindbrain1_10ngs\n",
        "15077 15077-e14.5_hindbrain2_10ngs\n",
        "15078 15078-e14.5_cranioface1_10ngs\n",
        "15079 15079-e14.5_cranioface2_10ngs\n",
        "15080 15080-e14.5_liver1_10ngs\n",
        "15081 15081-e14.5_liver2_10ngs\n",
        "15082 15082-e14.5_lung1_10ngs\n",
        "15083 15083-e14.5_lung2_10ngs\n",
        "15084 15084-e14.5_limb1_10ngs\n",
        "15085 15085-e14.5_limb2_10ngs\n",
        "15086 15086-e14.5_heart1_10ngs\n",
        "15087 15087-e14.5_heart2_10ngs\n",
        "15088 15088-e14.5_stomach1_10ngs\n",
        "15089 15089-e14.5_stomach2_10ngs\n",
        "15090 15090-e14.5_intestine1_10ngs\n",
        "15091 15091-e14.5_intestine2_10ngs\n",
        "15092 15092-e14.5_neural tube1_10ngs\n",
        "15093 15093-e14.5_neural tube2_10ngs\n",
        "15094 15094-e14.5_kidney1_10ngs\n",
        "15095 15095-e14.5_kidney2_10ngs\n"
       ]
      }
     ],
     "prompt_number": 22
    },
    {
     "cell_type": "code",
     "collapsed": false,
     "input": [],
     "language": "python",
     "metadata": {},
     "outputs": []
    }
   ],
   "metadata": {}
  }
 ]
}