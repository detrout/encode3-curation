{
 "metadata": {
  "name": ""
 },
 "nbformat": 3,
 "nbformat_minor": 0,
 "worksheets": [
  {
   "cells": [
    {
     "cell_type": "markdown",
     "metadata": {},
     "source": [
      "I was curious if I could provide an adapter between pandas and redland.\n",
      "\n",
      "Apparently I can. I wonder if I should provide that code anywhere."
     ]
    },
    {
     "cell_type": "code",
     "collapsed": false,
     "input": [
      "import pandas\n",
      "import redlanddb\n",
      "from pandas.io import sql"
     ],
     "language": "python",
     "metadata": {},
     "outputs": [],
     "prompt_number": 7
    },
    {
     "cell_type": "code",
     "collapsed": false,
     "input": [
      "%pylab"
     ],
     "language": "python",
     "metadata": {},
     "outputs": [
      {
       "output_type": "stream",
       "stream": "stdout",
       "text": [
        "\n",
        "Welcome to pylab, a matplotlib-based Python environment [backend: TkAgg].\n",
        "For more information, type 'help(pylab)'.\n"
       ]
      }
     ],
     "prompt_number": 8
    },
    {
     "cell_type": "code",
     "collapsed": false,
     "input": [
      "db = redlanddb.connect(\"encode3\")"
     ],
     "language": "python",
     "metadata": {},
     "outputs": [],
     "prompt_number": 9
    },
    {
     "cell_type": "code",
     "collapsed": false,
     "input": [
      "frame = sql.read_frame(\"\"\"\n",
      "prefix daf: <http://jumpgate.caltech.edu/wiki/UcscDaf#>\n",
      "\n",
      "select ?md5 ?filename\n",
      "where {\n",
      "   ?fileurl daf:md5sum ?md5 ;\n",
      "            daf:filename ?filename . \n",
      "}\"\"\", db)"
     ],
     "language": "python",
     "metadata": {},
     "outputs": [],
     "prompt_number": 10
    },
    {
     "cell_type": "code",
     "collapsed": false,
     "input": [
      "grouped = frame.groupby(\"md5\")\n",
      "len(grouped)"
     ],
     "language": "python",
     "metadata": {},
     "outputs": [
      {
       "output_type": "pyout",
       "prompt_number": 11,
       "text": [
        "145"
       ]
      }
     ],
     "prompt_number": 11
    },
    {
     "cell_type": "code",
     "collapsed": false,
     "input": [
      "for k, v in grouped.groups.items():\n",
      "    if len(v) > 1:\n",
      "        print(\"md5: \", k)\n",
      "        for index in v:\n",
      "            print(\"    \", frame.ix[index]['filename'])\n",
      "        \n",
      "                  "
     ],
     "language": "python",
     "metadata": {},
     "outputs": [
      {
       "output_type": "stream",
       "stream": "stdout",
       "text": [
        "md5:  a3af0f3cdc8a765a5576a084e709c03b\n",
        "     K562_Long_Total_TruSeq_2x100_ENCLB057ZZZ_Wold.bam\n",
        "     K562-Total-ENCFF001RDB-Graveley-TopHat-2.0.8-GENCODEV16.accepted_hits+unmapped.bam\n",
        "md5:  f53ba7968ff2f96af395b6b90c4bf4d3\n",
        "     K562_Long_PolyA_dUTP_2x100_ENCLB056ZZZ_Wold.rawSignalUnstrandedUnique.bigWig\n",
        "     K562-PolyA+-ENCLB056ZZZ-Gingeras-TopHat-2.0.8-GENCODEV16.unique.bigWig\n",
        "md5:  36aeee69fc5798994a65350d38b24489\n",
        "     K562_Long_PolyA_TruSeq_2x100_ENCLB060ZZZ_Wold.bam\n",
        "     K562-PolyA+-ENCFF001RDE-Graveley-TopHat-2.0.8-GENCODEV16.accepted_hits+unmapped.bam\n",
        "md5:  fc72959269dcf0aad2484d55dd3fd953\n",
        "     K562_Long_PolyA_dUTP_2x100_ENCLB055ZZZ_Wold.rawSignalUnstrandedUnique.bigWig\n",
        "     K562-PolyA+-ENCLB055ZZZ-Gingeras-TopHat-2.0.8-GENCODEV16.unique.bigWig\n",
        "md5:  970e763fa49bd336bbfdb711e431c599\n",
        "     GM12878_Long_PolyA_TruSeq_2x100_ENCLB041ZZZ_Wold.rawSignalUnstranded.bigWig\n",
        "     GM12878-PolyA+-ENCFF001RDF-Graveley-TopHat-2.0.8-GENCODEV16.bigWig\n",
        "md5:  558b9351570306aa719b22788fbae0cb\n",
        "     K562_Long_PolyA_TruSeq_2x100_ENCLB059ZZZ_Wold.bam\n",
        "     K562-PolyA+-ENCFF001RDD-Graveley-TopHat-2.0.8-GENCODEV16.accepted_hits+unmapped.bam\n",
        "md5:  bcaef5e3f76369a4b03cc2f4344301e0\n",
        "     GM12878_Long_PolyA_TruSeq_2x100_ENCLB042ZZZ_Wold.rawSignalUnstranded.bigWig\n",
        "     GM12878-PolyA+-ENCFF001RDG-Graveley-TopHat-2.0.8-GENCODEV16.bigWig\n",
        "md5:  a1a11825f4ec0747ad8d605dc020218c\n",
        "     K562_Long_Total_TruSeq_2x100_ENCLB058ZZZ_Wold.rawSignalUnstranded.bigWig\n",
        "     K562-Total-ENCFF001RDC-Graveley-TopHat-2.0.8-GENCODEV16.bigWig\n",
        "md5:  9efa9e8b63945e25c8b20f6187ca6ae0\n",
        "     GM12878_Long_Total_TruSeq_2x100_ENCLB040ZZZ_Wold.rawSignalUnstranded.bigWig\n",
        "     GM12878-Total-ENCFF001RDI-Graveley-TopHat-2.0.8-GENCODEV16.bigWig\n",
        "md5:  cfca3ac29a1cd1bb6023f12fc1d059b0\n",
        "     GM12878_Long_PolyA_TruSeq_2x100_ENCLB042ZZZ_Wold.rawSignalUnstrandedUnique.bigWig\n",
        "     GM12878-PolyA+-ENCFF001RDG-Graveley-TopHat-2.0.8-GENCODEV16.unique.bigWig\n",
        "md5:  d4e955b1f10d80d6316b2fdca77f3a13\n",
        "     GM12878_Long_PolyA_dUTP_2x100_ENCLB038ZZZ_Wold.rawSignalUnstranded.bigWig\n",
        "     GM12878-PolyA+-ENCLB038ZZZ-Gingeras-TopHat-2.0.8-GENCODEV16.bigWig\n",
        "md5:  88e07d0c3029be56c78417159a067d6a\n",
        "     K562_Long_Total_TruSeq_2x100_ENCLB057ZZZ_Wold.rawSignalUnstrandedUnique.bigWig\n",
        "     K562-Total-ENCFF001RDB-Graveley-TopHat-2.0.8-GENCODEV16.unique.bigWig\n",
        "md5:  176daf9247fd22193f08d4c498170ff2\n",
        "     GM12878_Long_Total_TruSeq_2x100_ENCLB039ZZZ_Wold.bam\n",
        "     GM12878-Total-ENCFF001RDH-Graveley-TopHat-2.0.8-GENCODEV16.accepted_hits+unmapped.bam\n",
        "md5:  7f354198ce2cb0cb6432981fee85aa9a\n",
        "     K562_Long_PolyA_dUTP_2x100_ENCLB055ZZZ_Wold.rawSignalUnstranded.bigWig\n",
        "     K562-PolyA+-ENCLB055ZZZ-Gingeras-TopHat-2.0.8-GENCODEV16.bigWig\n",
        "md5:  6fefa26ae25881bfc97a4c03bcd21c3e\n",
        "     K562_Long_Total_TruSeq_2x100_ENCLB057ZZZ_Wold.rawSignalUnstranded.bigWig\n",
        "     K562-Total-ENCFF001RDB-Graveley-TopHat-2.0.8-GENCODEV16.bigWig\n",
        "md5:  db57fc2ab3f97839ca6f06c17ef0a0a9\n",
        "     GM12878_Long_PolyA_TruSeq_2x100_ENCLB041ZZZ_Wold.rawSignalUnstrandedUnique.bigWig\n",
        "     GM12878-PolyA+-ENCFF001RDF-Graveley-TopHat-2.0.8-GENCODEV16.unique.bigWig\n",
        "md5:  da2338728c82ccae6aabf2a236aedb77\n",
        "     K562_Long_Total_TruSeq_2x100_ENCLB058ZZZ_Wold.bam\n",
        "     K562-Total-ENCFF001RDC-Graveley-TopHat-2.0.8-GENCODEV16.accepted_hits+unmapped.bam\n",
        "md5:  3c736ac347ff2cf0268d5fc0df8b3a1b\n",
        "     GM12878_Long_PolyA_TruSeq_2x100_ENCLB041ZZZ_Wold.bam\n",
        "     GM12878-PolyA+-ENCFF001RDF-Graveley-TopHat-2.0.8-GENCODEV16.accepted_hits+unmapped.bam\n",
        "md5:  bea2380eda637582e2fb4897cce790b3\n",
        "     K562_Long_PolyA_dUTP_2x100_ENCLB056ZZZ_Wold.bam\n",
        "     K562-PolyA+-ENCLB056ZZZ-Gingeras-TopHat-2.0.8-GENCODEV16.accepted_hits+unmapped.bam\n",
        "md5:  96386138b96639b8ec3bcc03474c4ee5\n",
        "     K562_Long_PolyA_TruSeq_2x100_ENCLB059ZZZ_Wold.rawSignalUnstrandedUnique.bigWig\n",
        "     K562-PolyA+-ENCFF001RDD-Graveley-TopHat-2.0.8-GENCODEV16.unique.bigWig\n",
        "md5:  8aaffba490b3d1df746f4a2a27ab0be6\n",
        "     GM12878_Long_Total_TruSeq_2x100_ENCLB039ZZZ_Wold.rawSignalUnstranded.bigWig\n",
        "     GM12878-Total-ENCFF001RDH-Graveley-TopHat-2.0.8-GENCODEV16.bigWig\n",
        "md5:  dd4f93491ce872ba0abfe79bc12bbed8\n",
        "     GM12878_Long_Total_SMARTseq_1x100_ENCLB043ZZZ_Wold.bam\n",
        "     GM12878-Rep1_totalRNA_1ug-13711-SL32141-TopHat-2.0.8-GENCODEV16.accepted_hits+unmapped.bam\n",
        "md5:  15faf2169e57115066e2e1d776a0aba2\n",
        "     K562_Long_PolyA_dUTP_2x100_ENCLB055ZZZ_Wold.bam\n",
        "     K562-PolyA+-ENCLB055ZZZ-Gingeras-TopHat-2.0.8-GENCODEV16.accepted_hits+unmapped.bam\n",
        "md5:  1f326250abe3cbf965b98eef1d02eca8\n",
        "     K562_Long_PolyA_dUTP_2x100_ENCLB056ZZZ_Wold.rawSignalUnstranded.bigWig\n",
        "     K562-PolyA+-ENCLB056ZZZ-Gingeras-TopHat-2.0.8-GENCODEV16.bigWig\n",
        "md5:  e7d73696f1917b293b09925657e48bfc\n",
        "     GM12878_Long_PolyA_dUTP_2x100_ENCLB037ZZZ_Wold.rawSignalUnstranded.bigWig\n",
        "     GM12878-PolyA+-ENCLB037ZZZ-Gingeras-TopHat-2.0.8-GENCODEV16.bigWig\n",
        "md5:  2614172f83062f8a7cb3a11b13176198\n",
        "     GM12878_Long_Total_TruSeq_2x100_ENCLB039ZZZ_Wold.rawSignalUnstrandedUnique.bigWig\n",
        "     GM12878-Total-ENCFF001RDH-Graveley-TopHat-2.0.8-GENCODEV16.unique.bigWig\n",
        "md5:  0c8e6329b133bcabdd7481d23c57fe10\n",
        "     GM12878_Long_PolyA_TruSeq_2x100_ENCLB042ZZZ_Wold.bam\n",
        "     GM12878-PolyA+-ENCFF001RDG-Graveley-TopHat-2.0.8-GENCODEV16.accepted_hits+unmapped.bam\n",
        "md5:  5055df2732fe7fcdffb61988874b55c2\n",
        "     GM12878_Long_PolyA_dUTP_2x100_ENCLB038ZZZ_Wold.bam\n",
        "     GM12878-PolyA+-ENCLB038ZZZ-Gingeras-TopHat-2.0.8-GENCODEV16.accepted_hits+unmapped.bam\n",
        "md5:  330e0563dde9cae9695314b1a9fdd8ac\n",
        "     K562_Long_PolyA_TruSeq_2x100_ENCLB060ZZZ_Wold.rawSignalUnstrandedUnique.bigWig\n",
        "     K562-PolyA+-ENCFF001RDE-Graveley-TopHat-2.0.8-GENCODEV16.unique.bigWig\n",
        "md5:  4ed9be3974293a07f856a28d54f03121\n",
        "     K562_Long_Total_TruSeq_2x100_ENCLB058ZZZ_Wold.rawSignalUnstrandedUnique.bigWig\n",
        "     K562-Total-ENCFF001RDC-Graveley-TopHat-2.0.8-GENCODEV16.unique.bigWig\n",
        "md5:  8d5c9242cd52a64c4faa054e1cc6f40e\n",
        "     K562_Long_PolyA_TruSeq_2x100_ENCLB059ZZZ_Wold.rawSignalUnstranded.bigWig\n",
        "     K562-PolyA+-ENCFF001RDD-Graveley-TopHat-2.0.8-GENCODEV16.bigWig\n",
        "md5:  ca76ec6cc311810fcd0eb6a80c74e2f8\n",
        "     GM12878_Long_PolyA_dUTP_2x100_ENCLB037ZZZ_Wold.rawSignalUnstrandedUnique.bigWig\n",
        "     GM12878-PolyA+-ENCLB037ZZZ-Gingeras-TopHat-2.0.8-GENCODEV16.unique.bigWig\n",
        "md5:  8b9d0bdc26cf141f47ce0ef8051beef4\n",
        "     K562_Long_PolyA_TruSeq_2x100_ENCLB060ZZZ_Wold.rawSignalUnstranded.bigWig\n",
        "     K562-PolyA+-ENCFF001RDE-Graveley-TopHat-2.0.8-GENCODEV16.bigWig\n",
        "md5:  eec9f7536b4dfeb89c1faef73794d103\n",
        "     GM12878_Long_PolyA_dUTP_2x100_ENCLB038ZZZ_Wold.rawSignalUnstrandedUnique.bigWig\n",
        "     GM12878-PolyA+-ENCLB038ZZZ-Gingeras-TopHat-2.0.8-GENCODEV16.unique.bigWig\n",
        "md5:  8e353522cad9ed4054d6d7c03ef4838f\n",
        "     GM12878_Long_Total_TruSeq_2x100_ENCLB040ZZZ_Wold.rawSignalUnstrandedUnique.bigWig\n",
        "     GM12878-Total-ENCFF001RDI-Graveley-TopHat-2.0.8-GENCODEV16.unique.bigWig\n",
        "md5:  f59f4c1825eaf8e77d7ff3e4f542d039\n",
        "     GM12878_Long_PolyA_dUTP_2x100_ENCLB037ZZZ_Wold.bam\n",
        "     GM12878-PolyA+-ENCLB037ZZZ-Gingeras-TopHat-2.0.8-GENCODEV16.accepted_hits+unmapped.bam\n",
        "md5:  07987b5403af95a57eb67e6083b5d4ab\n",
        "     GM12878_Long_Total_TruSeq_2x100_ENCLB040ZZZ_Wold.bam\n",
        "     GM12878-Total-ENCFF001RDI-Graveley-TopHat-2.0.8-GENCODEV16.accepted_hits+unmapped.bam\n"
       ]
      }
     ],
     "prompt_number": 12
    },
    {
     "cell_type": "code",
     "collapsed": false,
     "input": [
      "for k, v in grouped.groups.items():\n",
      "    if len(v) == 1:\n",
      "        print(\"md5: \", k)\n",
      "        for index in v:\n",
      "            print(\"    \", frame.ix[index]['filename'])"
     ],
     "language": "python",
     "metadata": {},
     "outputs": [
      {
       "output_type": "stream",
       "stream": "stdout",
       "text": [
        "md5:  9609df96cfcf03342152a2d9882c8cbc\n",
        "     GM12878_Long_PolyA_TruSeq_2x100_ENCLB041ZZZ_Wold.rawSignalMinusUnique.bigWig\n",
        "md5:  8d233cf3399346731d766a9b25a3612d\n",
        "     GM12878_Long_Total_TruSeq_2x100_ENCLB040ZZZ_Wold.rawSignalPlusUnique.bigWig\n",
        "md5:  0dba9f11b05c3879364896e4bac36473\n",
        "     K562_Long_Total_SMARTseq_1x100_ENCLB062ZZZ_Wold.bam\n",
        "md5:  871de4a2eb9ad9a41d4ff2ebe24c17e2\n",
        "     GM12878_Long_PolyA_SMARTseq_1x100_ENCLB045ZZZ_Wold.rawSignalUnstrandedUnique.bigWig\n",
        "md5:  7a583459620d6651ee862b96405d6d49\n",
        "     GM12878_Long_Total_dUTP_2x100_ENCLB036ZZZ_Wold.bam\n",
        "md5:  a80f4e998fa8a1bcf43caabbe613e751\n",
        "     K562_Long_Total_TruSeq_2x100_ENCLB057ZZZ_Wold.rawSignalPlusUnique.bigWig\n",
        "md5:  71ed69852f79f3c0181fefa69cb11c53\n",
        "     K562_Long_Total_SMARTseq_1x100_ENCLB062ZZZ_Wold.fastq.gz\n",
        "md5:  722066b11ee8251d013fee950da27292\n",
        "     K562_Long_Total_dUTP_2x100_ENCLB053ZZZ_Wold.rawSignalUnstrandedUnique.bigWig\n",
        "md5:  9426cb1c69343ea301e33eb44504ff8b\n",
        "     K562_Long_PolyA_TruSeq_2x100_ENCLB059ZZZ_Wold.rawSignalMinusUnique.bigWig\n",
        "md5:  ff7a60ef81824ef9ef61a959fdf93dfc\n",
        "     GM12878_Long_Total_dUTP_2x100_ENCLB035ZZZ_Wold.rawSignalPlusUnique.bigWig\n",
        "md5:  4b86db3b6ad3f2dce68697c8dbfaf078\n",
        "     GM12878_Long_Total_SMARTseq_1x100_ENCLB044ZZZ_Wold.rawSignalUnstrandedUnique.bigWig\n",
        "md5:  b4ca3ad7813e1fee9f4a49c00be8886d\n",
        "     K562_Long_Total_dUTP_2x100_ENCLB054ZZZ_Wold.rawSignalPlusUnique.bigWig\n",
        "md5:  ffeb816ac86aaf75db2e6403db205992\n",
        "     K562_Long_PolyA_SMARTseq_1x100_ENCLB063ZZZ_Wold.rawSignalUnstranded.bigWig\n",
        "md5:  40f65ce4636f82942d7a96cf2e537119\n",
        "     GM12878_Long_Total_SMARTseq_1x100_ENCLB043ZZZ_Wold.rawSignalUnstrandedUnique.bigWig\n",
        "md5:  1bd5b71487649ac75573515de376308e\n",
        "     GM12878_Long_Total_SMARTseq_1x100_ENCLB043ZZZ_Wold.rawSignalUnstranded.bigWig\n",
        "md5:  9f517cced76b62a68cc841f9f886ab40\n",
        "     K562_Long_Total_TruSeq_2x100_ENCLB058ZZZ_Wold.rawSignalMinus.bigWig\n",
        "md5:  a2a0d3be2421478d6c0dfc00aa661ccf\n",
        "     GM12878_Long_Total_TruSeq_2x100_ENCLB040ZZZ_Wold.rawSignalMinusUnique.bigWig\n",
        "md5:  e0b935a621d9e9d2a7102bbf5e93ccc3\n",
        "     K562_Long_PolyA_dUTP_2x100_ENCLB056ZZZ_Wold.rawSignalPlus.bigWig\n",
        "md5:  855f8ccd51791c5682d1f472bb5ed3f1\n",
        "     K562_Long_PolyA_TruSeq_2x100_ENCLB059ZZZ_Wold.rawSignalPlusUnique.bigWig\n",
        "md5:  0837311e66998339aa6aede442e06066\n",
        "     GM12878_Long_Total_dUTP_2x100_ENCLB036ZZZ_Wold.rawSignalUnstrandedUnique.bigWig\n",
        "md5:  a833e2902c734dee814609bb61212cc7\n",
        "     GM12878_Long_Total_TruSeq_2x100_ENCLB039ZZZ_Wold.rawSignalMinus.bigWig\n",
        "md5:  33b13e9506ca254f65da377af27e29ac\n",
        "     GM12878_Long_Total_dUTP_2x100_ENCLB036ZZZ_Wold.rawSignalMinusUnique.bigWig\n",
        "md5:  644cf25eaf1bc5163f96a3c3136a87ba\n",
        "     K562_Long_Total_dUTP_2x100_ENCLB054ZZZ_Wold.rawSignalMinus.bigWig\n",
        "md5:  b02f51c5a75e1e5d6e1903bd8646fc52\n",
        "     K562_Long_Total_SMARTseq_1x100_ENCLB061ZZZ_Wold.rawSignalUnstrandedUnique.bigWig\n",
        "md5:  7186389a9b56c545c17ecde5016b54cc\n",
        "     GM12878_Long_Total_SMARTseq_1x100_ENCLB044ZZZ_Wold.rawSignalUnstranded.bigWig\n",
        "md5:  82b34d7e4a51fee9475be30fe755de79\n",
        "     GM12878_Long_Total_SMARTseq_1x100_ENCLB044ZZZ_Wold.bam\n",
        "md5:  75d0d8f406ba84ff34dd81ba6897e0e4\n",
        "     GM12878_Long_Total_dUTP_2x100_ENCLB035ZZZ_Wold.rawSignalPlus.bigWig\n",
        "md5:  9e285515b3812704ce435ba8c1241c6d\n",
        "     K562_Long_PolyA_TruSeq_2x100_ENCLB060ZZZ_Wold.rawSignalMinus.bigWig\n",
        "md5:  102282139a2bf5312d1d9dbf4478d851\n",
        "     GM12878_Long_Total_TruSeq_2x100_ENCLB040ZZZ_Wold.rawSignalPlus.bigWig\n",
        "md5:  ff50672cf106c32dcfae093fc0610a13\n",
        "     K562_Long_Total_SMARTseq_1x100_ENCLB061ZZZ_Wold.fastq.gz\n",
        "md5:  a2b4bc426d0bf627d4a10c21a02a9066\n",
        "     K562_Long_Total_dUTP_2x100_ENCLB054ZZZ_Wold.rawSignalUnstrandedUnique.bigWig\n",
        "md5:  8ab642ecec756cd4b0a214af4efa49ee\n",
        "     GM12878_Long_PolyA_SMARTseq_1x100_ENCLB046ZZZ_Wold.fastq.gz\n",
        "md5:  9b55a2feb5a45fc4da2f921884268092\n",
        "     GM12878_Long_Total_dUTP_2x100_ENCLB036ZZZ_Wold.rawSignalMinus.bigWig\n",
        "md5:  0019fee1597abf3219db3165bd4fdc69\n",
        "     GM12878_Long_Total_dUTP_2x100_ENCLB035ZZZ_Wold.rawSignalUnstrandedUnique.bigWig\n",
        "md5:  9bef4c316cc92b7f8ee4a7ae119a29d9\n",
        "     K562_Long_Total_SMARTseq_1x100_ENCLB061ZZZ_Wold.bam\n",
        "md5:  ace32bba1b8174939685fdfc0738a438\n",
        "     GM12878_Long_PolyA_TruSeq_2x100_ENCLB042ZZZ_Wold.rawSignalPlus.bigWig\n",
        "md5:  353abf0e0373a47fdedad53af4e88a21\n",
        "     GM12878_Long_PolyA_SMARTseq_1x100_ENCLB045ZZZ_Wold.fastq.gz\n",
        "md5:  693976d780bedea89029d148429fae9f\n",
        "     K562_Long_Total_TruSeq_2x100_ENCLB057ZZZ_Wold.rawSignalMinusUnique.bigWig\n",
        "md5:  73f931b9b6bc203fc017af29bec3da9b\n",
        "     GM12878_Long_Total_SMARTseq_1x100_ENCLB044ZZZ_Wold.fastq.gz\n",
        "md5:  d66df7bb96e547b1231659aca4833d42\n",
        "     K562_Long_PolyA_dUTP_2x100_ENCLB056ZZZ_Wold.rawSignalPlusUnique.bigWig\n",
        "md5:  de29a682f8986a98fc874f958b78004e\n",
        "     GM12878_Long_PolyA_SMARTseq_1x100_ENCLB046ZZZ_Wold.rawSignalUnstrandedUnique.bigWig\n",
        "md5:  2e943892f0f0365c316a5e3182288b89\n",
        "     GM12878_Long_PolyA_SMARTseq_1x100_ENCLB046ZZZ_Wold.bam\n",
        "md5:  bbe25d3de9f38a31ec35d4416b68ddcc\n",
        "     K562_Long_Total_dUTP_2x100_ENCLB053ZZZ_Wold.rawSignalUnstranded.bigWig\n",
        "md5:  9e7c9c9cd4c3f0b952e840d1a3be6e3d\n",
        "     K562_Long_Total_dUTP_2x100_ENCLB053ZZZ_Wold.bam\n",
        "md5:  0090d0a9cba99d048ed1d5d50f719719\n",
        "     GM12878-Rep1_totalRNA_1ug-13711.fastq.bz2\n",
        "md5:  4c43775340fef30e098e881990015f4b\n",
        "     K562_Long_Total_dUTP_2x100_ENCLB054ZZZ_Wold.bam\n",
        "md5:  4c32202f81b50072fca555337b7dd338\n",
        "     K562_Long_Total_TruSeq_2x100_ENCLB057ZZZ_Wold.rawSignalMinus.bigWig\n",
        "md5:  692aab38f4ff5e00ab6c9bd85af579fc\n",
        "     GM12878_Long_PolyA_dUTP_2x100_ENCLB038ZZZ_Wold.rawSignalMinus.bigWig\n",
        "md5:  4615c63022144a5bb07c9d953191003d\n",
        "     K562_Long_Total_dUTP_2x100_ENCLB053ZZZ_Wold.rawSignalPlusUnique.bigWig\n",
        "md5:  4ce522da1b97f43514db3560c49073a3\n",
        "     K562_Long_Total_SMARTseq_1x100_ENCLB062ZZZ_Wold.rawSignalUnstrandedUnique.bigWig\n",
        "md5:  a3677a7670ef117e447734e91807f88f\n",
        "     GM12878_Long_PolyA_TruSeq_2x100_ENCLB042ZZZ_Wold.rawSignalMinus.bigWig\n",
        "md5:  c57abed1f0ca38ea85acbeb0187e33d5\n",
        "     K562_Long_PolyA_TruSeq_2x100_ENCLB060ZZZ_Wold.rawSignalPlus.bigWig\n",
        "md5:  d5f6668bdcc50dba90eb6a100b1c66e7\n",
        "     K562_Long_PolyA_dUTP_2x100_ENCLB055ZZZ_Wold.rawSignalMinus.bigWig\n",
        "md5:  a73aa33b33a6948bc739366d33ed15c7\n",
        "     K562_Long_Total_dUTP_2x100_ENCLB054ZZZ_Wold.rawSignalPlus.bigWig\n",
        "md5:  b1f57b4a85685747a8af5d369c33975d\n",
        "     GM12878_Long_PolyA_TruSeq_2x100_ENCLB041ZZZ_Wold.rawSignalPlus.bigWig\n",
        "md5:  44003d18fc12799a719cf710188cc340\n",
        "     GM12878_Long_PolyA_TruSeq_2x100_ENCLB042ZZZ_Wold.rawSignalMinusUnique.bigWig\n",
        "md5:  60f0807635763f55f7fa56a720fba9d7\n",
        "     GM12878_Long_Total_dUTP_2x100_ENCLB035ZZZ_Wold.rawSignalMinusUnique.bigWig\n",
        "md5:  8c7025db5899b461d454fd688bf2080a\n",
        "     K562_Long_Total_SMARTseq_1x100_ENCLB062ZZZ_Wold.rawSignalUnstranded.bigWig\n",
        "md5:  458e74330a5c6bf5e6defb7a5bee4eb5\n",
        "     K562_Long_Total_dUTP_2x100_ENCLB053ZZZ_Wold.rawSignalMinusUnique.bigWig\n",
        "md5:  ed870796a3edd4f8e5997f404adafda7\n",
        "     GM12878_Long_Total_SMARTseq_1x100_ENCLB043ZZZ_Wold.fastq.gz\n",
        "md5:  bb7ac173ea2d14b7dab3c3b76b06b53a\n",
        "     GM12878_Long_PolyA_TruSeq_2x100_ENCLB042ZZZ_Wold.rawSignalPlusUnique.bigWig\n",
        "md5:  6052c59c8081aa1aa0ece639dfe8b201\n",
        "     K562_Long_Total_dUTP_2x100_ENCLB054ZZZ_Wold.rawSignalUnstranded.bigWig\n",
        "md5:  a303798978b4bbb3c7c9182414a03ca3\n",
        "     K562_Long_PolyA_TruSeq_2x100_ENCLB059ZZZ_Wold.rawSignalPlus.bigWig\n",
        "md5:  b3154f282205b8a21357805d93e1fa5f\n",
        "     GM12878_Long_Total_TruSeq_2x100_ENCLB040ZZZ_Wold.rawSignalMinus.bigWig\n",
        "md5:  03260119096785a85795082e62b003e2\n",
        "     GM12878_Long_Total_dUTP_2x100_ENCLB035ZZZ_Wold.rawSignalMinus.bigWig\n",
        "md5:  b1c000399f4b0ffa1ec3a5a013745d8d\n",
        "     K562_Long_Total_TruSeq_2x100_ENCLB058ZZZ_Wold.rawSignalPlusUnique.bigWig\n",
        "md5:  3f12049008138acf227a90ede3d88a4e\n",
        "     K562_Long_PolyA_SMARTseq_1x100_ENCLB064ZZZ_Wold.rawSignalUnstrandedUnique.bigWig\n",
        "md5:  94d87589cc8c62350978be804adee83c\n",
        "     K562_Long_Total_SMARTseq_1x100_ENCLB061ZZZ_Wold.rawSignalUnstranded.bigWig\n",
        "md5:  3d3e80a2fdb35ee710d07a25639877f0\n",
        "     GM12878_Long_PolyA_TruSeq_2x100_ENCLB041ZZZ_Wold.rawSignalPlusUnique.bigWig\n",
        "md5:  232a95ae4d6b7d464574f7d2fe6c1f39\n",
        "     K562_Long_PolyA_SMARTseq_1x100_ENCLB064ZZZ_Wold.bam\n",
        "md5:  c76190fae6041d0853dc542d0fb9bb0c\n",
        "     K562_Long_PolyA_dUTP_2x100_ENCLB055ZZZ_Wold.rawSignalMinusUnique.bigWig\n",
        "md5:  ea56aa399b38faa6c4d3a39ee2bf7b97\n",
        "     K562_Long_Total_TruSeq_2x100_ENCLB058ZZZ_Wold.rawSignalMinusUnique.bigWig\n",
        "md5:  cf21b1fa3d9ad759415ca0cf1f8286ff\n",
        "     GM12878_Long_PolyA_dUTP_2x100_ENCLB038ZZZ_Wold.rawSignalPlusUnique.bigWig\n",
        "md5:  315083ef6c2fbfb217143ce71d2891cc\n",
        "     K562_Long_PolyA_TruSeq_2x100_ENCLB060ZZZ_Wold.rawSignalMinusUnique.bigWig\n",
        "md5:  3f2c01fa1a7afc8b87c328e6b98a5111\n",
        "     K562_Long_Total_dUTP_2x100_ENCLB053ZZZ_Wold.rawSignalPlus.bigWig\n",
        "md5:  ca9f60f5e61fd84b7019c0574c9abe51\n",
        "     K562_Long_PolyA_TruSeq_2x100_ENCLB060ZZZ_Wold.rawSignalPlusUnique.bigWig\n",
        "md5:  7288cd83941c46cd02fc800934052601\n",
        "     GM12878_Long_PolyA_SMARTseq_1x100_ENCLB045ZZZ_Wold.bam\n",
        "md5:  ed361c60b7bd98c25b2ce67dda106d19\n",
        "     GM12878_Long_PolyA_dUTP_2x100_ENCLB037ZZZ_Wold.rawSignalMinus.bigWig\n",
        "md5:  5e7ddf28c628bd2ccc66523085723220\n",
        "     K562_Long_PolyA_SMARTseq_1x100_ENCLB063ZZZ_Wold.bam\n",
        "md5:  b860d2b01da0217631fb7421b39cc076\n",
        "     K562_Long_PolyA_TruSeq_2x100_ENCLB059ZZZ_Wold.rawSignalMinus.bigWig\n",
        "md5:  dde2c5010bcd441aba53d430a26cbcb3\n",
        "     K562_Long_PolyA_dUTP_2x100_ENCLB055ZZZ_Wold.rawSignalPlusUnique.bigWig\n",
        "md5:  616d59726d372500726526c82391703e\n",
        "     K562_Long_PolyA_dUTP_2x100_ENCLB055ZZZ_Wold.rawSignalPlus.bigWig\n",
        "md5:  a8bd1e6bd3220470bdd4e014f2b6bce4\n",
        "     K562_Long_PolyA_dUTP_2x100_ENCLB056ZZZ_Wold.rawSignalMinus.bigWig\n",
        "md5:  b28c5aa33031544501f103b0ae90e31f\n",
        "     GM12878_Long_Total_TruSeq_2x100_ENCLB039ZZZ_Wold.rawSignalPlusUnique.bigWig\n",
        "md5:  d6095a193fe14b53a2c8345749294dea\n",
        "     GM12878_Long_Total_dUTP_2x100_ENCLB036ZZZ_Wold.rawSignalPlus.bigWig\n",
        "md5:  3f733b0a4d8f6fa1924e1993e9773212\n",
        "     K562_Long_Total_TruSeq_2x100_ENCLB057ZZZ_Wold.rawSignalPlus.bigWig\n",
        "md5:  ad93dae597c269cd202d3e2da8302f31\n",
        "     GM12878_Long_Total_dUTP_2x100_ENCLB035ZZZ_Wold.rawSignalUnstranded.bigWig\n",
        "md5:  276de44757a384dff1677a430b1145aa\n",
        "     GM12878_Long_Total_dUTP_2x100_ENCLB035ZZZ_Wold.bam\n",
        "md5:  7cd9d6c9675fbc614c7aa96058ad66bb\n",
        "     GM12878_Long_Total_TruSeq_2x100_ENCLB039ZZZ_Wold.rawSignalMinusUnique.bigWig\n",
        "md5:  edcf63155518a00e4dab99095704d2a0\n",
        "     K562_Long_Total_dUTP_2x100_ENCLB053ZZZ_Wold.rawSignalMinus.bigWig\n",
        "md5:  c35d19f5851d53f28027af47f35c57d4\n",
        "     GM12878_Long_Total_TruSeq_2x100_ENCLB039ZZZ_Wold.rawSignalPlus.bigWig\n",
        "md5:  70c130d5c473df7492c58caba24c676c\n",
        "     K562_Long_PolyA_SMARTseq_1x100_ENCLB064ZZZ_Wold.rawSignalUnstranded.bigWig\n",
        "md5:  94b17271033c4cd3f0c02c02de30c417\n",
        "     GM12878_Long_PolyA_dUTP_2x100_ENCLB038ZZZ_Wold.rawSignalMinusUnique.bigWig\n",
        "md5:  965279ef65b47dcd590c3b065708b321\n",
        "     K562_Long_PolyA_dUTP_2x100_ENCLB056ZZZ_Wold.rawSignalMinusUnique.bigWig\n",
        "md5:  562c95d1ac987c2e2f0038dacbbc8075\n",
        "     K562_Long_Total_TruSeq_2x100_ENCLB058ZZZ_Wold.rawSignalPlus.bigWig\n",
        "md5:  146a30e76233e81f8fe3b69f7dc84cdb\n",
        "     GM12878_Long_PolyA_dUTP_2x100_ENCLB037ZZZ_Wold.rawSignalPlusUnique.bigWig\n",
        "md5:  4292a2d6f608f5fccdc96c5cf8967b26\n",
        "     K562_Long_Total_dUTP_2x100_ENCLB054ZZZ_Wold.rawSignalMinusUnique.bigWig\n",
        "md5:  3fc65ee7cd3c10d6ef599f74ee9af11f\n",
        "     GM12878_Long_Total_dUTP_2x100_ENCLB036ZZZ_Wold.rawSignalUnstranded.bigWig\n",
        "md5:  78f57b677b355f9f4676a3070119678c\n",
        "     GM12878_Long_Total_dUTP_2x100_ENCLB036ZZZ_Wold.rawSignalPlusUnique.bigWig\n",
        "md5:  7996a72bd92c5c742ae27b828b56e5eb\n",
        "     GM12878_Long_PolyA_SMARTseq_1x100_ENCLB046ZZZ_Wold.rawSignalUnstranded.bigWig\n",
        "md5:  a85364e3ee81fd9a63928b23fd103e4a\n",
        "     GM12878_Long_PolyA_dUTP_2x100_ENCLB037ZZZ_Wold.rawSignalMinusUnique.bigWig\n",
        "md5:  052ee17a8d25f223f505515ed2b9730b\n",
        "     GM12878_Long_PolyA_SMARTseq_1x100_ENCLB045ZZZ_Wold.rawSignalUnstranded.bigWig\n",
        "md5:  f0996dff4dec3edc1f8547b2d698ede3\n",
        "     GM12878_Long_PolyA_dUTP_2x100_ENCLB038ZZZ_Wold.rawSignalPlus.bigWig\n",
        "md5:  3973fbb8a5021968da2a179084bdb076\n",
        "     GM12878_Long_PolyA_dUTP_2x100_ENCLB037ZZZ_Wold.rawSignalPlus.bigWig\n",
        "md5:  c97d93017e51be2805b8aeffb724709f\n",
        "     K562_Long_PolyA_SMARTseq_1x100_ENCLB063ZZZ_Wold.rawSignalUnstrandedUnique.bigWig\n",
        "md5:  f0ae5835ba1786d960a5a1bb26fcb73f\n",
        "     K562_Long_PolyA_SMARTseq_1x100_ENCLB063ZZZ_Wold.fastq.gz\n",
        "md5:  c005cfaf8a490275e68f49da4d87f49e\n",
        "     K562_Long_PolyA_SMARTseq_1x100_ENCLB064ZZZ_Wold.fastq.gz\n",
        "md5:  cfac722cec33da1490a133315b28d4a3\n",
        "     GM12878_Long_PolyA_TruSeq_2x100_ENCLB041ZZZ_Wold.rawSignalMinus.bigWig\n"
       ]
      }
     ],
     "prompt_number": 22
    },
    {
     "cell_type": "code",
     "collapsed": false,
     "input": [
      "frame.filter?"
     ],
     "language": "python",
     "metadata": {},
     "outputs": [],
     "prompt_number": 13
    },
    {
     "cell_type": "code",
     "collapsed": false,
     "input": [
      "frame[frame['md5'] == '558b9351570306aa719b22788fbae0cb']['filename']"
     ],
     "language": "python",
     "metadata": {},
     "outputs": [
      {
       "output_type": "pyout",
       "prompt_number": 14,
       "text": [
        "4      K562_Long_PolyA_TruSeq_2x100_ENCLB059ZZZ_Wold.bam\n",
        "171    K562-PolyA+-ENCFF001RDD-Graveley-TopHat-2.0.8-...\n",
        "Name: filename, dtype: object"
       ]
      }
     ],
     "prompt_number": 14
    },
    {
     "cell_type": "code",
     "collapsed": false,
     "input": [
      "encodefiles = sql.read_frame(\"\"\"\n",
      "prefix daf: <http://jumpgate.caltech.edu/wiki/UcscDaf#>\n",
      "prefix htsw: <http://jumpgate.caltech.edu/wiki/LibraryOntology#>\n",
      "prefix encode3: <http://jumpgate.caltech.edu/wiki/Encode3#>\n",
      "select ?encode_library ?filename\n",
      "where {\n",
      "   ?fileurl htsw:library ?library ;\n",
      "            daf:filename ?filename . \n",
      "   ?library encode3:library_id ?encode_library .\n",
      "}\"\"\", db)"
     ],
     "language": "python",
     "metadata": {},
     "outputs": [],
     "prompt_number": 15
    },
    {
     "cell_type": "code",
     "collapsed": false,
     "input": [
      "encodegroup = encodefiles.groupby('encode_library')"
     ],
     "language": "python",
     "metadata": {},
     "outputs": [],
     "prompt_number": 16
    },
    {
     "cell_type": "code",
     "collapsed": false,
     "input": [
      "encode_by_library = encodegroup.first()"
     ],
     "language": "python",
     "metadata": {},
     "outputs": [],
     "prompt_number": 17
    },
    {
     "cell_type": "code",
     "collapsed": false,
     "input": [
      "encode_by_library.index"
     ],
     "language": "python",
     "metadata": {},
     "outputs": [
      {
       "output_type": "pyout",
       "prompt_number": 18,
       "text": [
        "Index(['ENCLB035ZZZ', 'ENCLB036ZZZ', 'ENCLB037ZZZ', 'ENCLB038ZZZ', 'ENCLB039ZZZ', 'ENCLB040ZZZ', 'ENCLB041ZZZ', 'ENCLB042ZZZ', 'ENCLB043ZZZ', 'ENCLB044ZZZ', 'ENCLB045ZZZ', 'ENCLB046ZZZ', 'ENCLB053ZZZ', 'ENCLB054ZZZ', 'ENCLB055ZZZ', 'ENCLB056ZZZ', 'ENCLB057ZZZ', 'ENCLB058ZZZ', 'ENCLB059ZZZ', 'ENCLB060ZZZ', 'ENCLB061ZZZ', 'ENCLB062ZZZ', 'ENCLB063ZZZ', 'ENCLB064ZZZ'], dtype=object)"
       ]
      }
     ],
     "prompt_number": 18
    },
    {
     "cell_type": "code",
     "collapsed": false,
     "input": [
      "type(encode_by_library)"
     ],
     "language": "python",
     "metadata": {},
     "outputs": [
      {
       "output_type": "pyout",
       "prompt_number": 19,
       "text": [
        "pandas.core.frame.DataFrame"
       ]
      }
     ],
     "prompt_number": 19
    },
    {
     "cell_type": "code",
     "collapsed": false,
     "input": [
      "encode_by_library.index"
     ],
     "language": "python",
     "metadata": {},
     "outputs": [
      {
       "output_type": "pyout",
       "prompt_number": 20,
       "text": [
        "Index(['ENCLB035ZZZ', 'ENCLB036ZZZ', 'ENCLB037ZZZ', 'ENCLB038ZZZ', 'ENCLB039ZZZ', 'ENCLB040ZZZ', 'ENCLB041ZZZ', 'ENCLB042ZZZ', 'ENCLB043ZZZ', 'ENCLB044ZZZ', 'ENCLB045ZZZ', 'ENCLB046ZZZ', 'ENCLB053ZZZ', 'ENCLB054ZZZ', 'ENCLB055ZZZ', 'ENCLB056ZZZ', 'ENCLB057ZZZ', 'ENCLB058ZZZ', 'ENCLB059ZZZ', 'ENCLB060ZZZ', 'ENCLB061ZZZ', 'ENCLB062ZZZ', 'ENCLB063ZZZ', 'ENCLB064ZZZ'], dtype=object)"
       ]
      }
     ],
     "prompt_number": 20
    },
    {
     "cell_type": "code",
     "collapsed": false,
     "input": [
      "encode_by_library[encode_by_library.index == 'ENCLB035ZZZ'].filename[0]"
     ],
     "language": "python",
     "metadata": {},
     "outputs": [
      {
       "output_type": "pyout",
       "prompt_number": 21,
       "text": [
        "'GM12878_Long_Total_dUTP_2x101_ENCLB035ZZZ_Ging.bam'"
       ]
      }
     ],
     "prompt_number": 21
    },
    {
     "cell_type": "code",
     "collapsed": false,
     "input": [],
     "language": "python",
     "metadata": {},
     "outputs": [],
     "prompt_number": 21
    }
   ],
   "metadata": {}
  }
 ]
}