{
 "cells": [
  {
   "cell_type": "markdown",
   "metadata": {},
   "source": [
    "Whats' released?"
   ]
  },
  {
   "cell_type": "markdown",
   "metadata": {},
   "source": [
    "# Setup"
   ]
  },
  {
   "cell_type": "code",
   "execution_count": 1,
   "metadata": {
    "collapsed": false
   },
   "outputs": [],
   "source": [
    "from __future__ import print_function"
   ]
  },
  {
   "cell_type": "code",
   "execution_count": 2,
   "metadata": {
    "collapsed": false
   },
   "outputs": [],
   "source": [
    "import sys\n",
    "import os\n",
    "from IPython.display import clear_output\n",
    "import RDF\n",
    "import pandas"
   ]
  },
  {
   "cell_type": "code",
   "execution_count": 3,
   "metadata": {
    "collapsed": false
   },
   "outputs": [],
   "source": [
    "from curation_common import *"
   ]
  },
  {
   "cell_type": "code",
   "execution_count": 4,
   "metadata": {
    "collapsed": false
   },
   "outputs": [],
   "source": [
    "from htsworkflow.util.rdfhelp import fromTypedNode"
   ]
  },
  {
   "cell_type": "code",
   "execution_count": 5,
   "metadata": {
    "collapsed": false
   },
   "outputs": [
    {
     "name": "stdout",
     "output_type": "stream",
     "text": [
      "The rdfmagic extension is already loaded. To reload it, use:\n",
      "  %reload_ext rdfmagic\n"
     ]
    }
   ],
   "source": [
    "%load_ext rdfmagic"
   ]
  },
  {
   "cell_type": "code",
   "execution_count": 6,
   "metadata": {
    "collapsed": false
   },
   "outputs": [],
   "source": [
    "server = ENCODED('www.encodeproject.org')\n",
    "server.load_netrc()"
   ]
  },
  {
   "cell_type": "code",
   "execution_count": 7,
   "metadata": {
    "collapsed": false
   },
   "outputs": [],
   "source": [
    "model = get_model(use_contexts=False)"
   ]
  },
  {
   "cell_type": "markdown",
   "metadata": {},
   "source": [
    "# Load status from DCC"
   ]
  },
  {
   "cell_type": "code",
   "execution_count": 8,
   "metadata": {
    "collapsed": false
   },
   "outputs": [
    {
     "data": {
      "text/plain": [
       "166"
      ]
     },
     "execution_count": 8,
     "metadata": {},
     "output_type": "execute_result"
    }
   ],
   "source": [
    "search = server.get_json('/search/?type=experiment&lab.title=Ali+Mortazavi%2C+UCI&award.rfa=ENCODE3')\n",
    "len(search['@graph'])"
   ]
  },
  {
   "cell_type": "code",
   "execution_count": 9,
   "metadata": {
    "collapsed": false
   },
   "outputs": [
    {
     "name": "stdout",
     "output_type": "stream",
     "text": [
      "loading /experiments/ENCSR958UOC/ 0 166\n",
      "loading /experiments/ENCSR894GAC/ 1 166\n",
      "loading /experiments/ENCSR888ZAA/ 2 166\n",
      "loading /experiments/ENCSR425ZMS/ 3 166\n",
      "loading /experiments/ENCSR258UGT/ 4 166\n",
      "loading /experiments/ENCSR326JQW/ 5 166\n",
      "loading /experiments/ENCSR486QHW/ 6 166\n",
      "loading /experiments/ENCSR101DVP/ 7 166\n",
      "loading /experiments/ENCSR776XYQ/ 8 166\n",
      "loading /experiments/ENCSR227VCK/ 9 166\n",
      "loading /experiments/ENCSR630JWA/ 10 166\n",
      "loading /experiments/ENCSR335LKF/ 11 166\n",
      "loading /experiments/ENCSR396EAG/ 12 166\n",
      "loading /experiments/ENCSR212RKJ/ 13 166\n",
      "loading /experiments/ENCSR713JKD/ 14 166\n",
      "loading /experiments/ENCSR752QGH/ 15 166\n",
      "loading /experiments/ENCSR481QIP/ 16 166\n",
      "loading /experiments/ENCSR571RHM/ 17 166\n",
      "loading /experiments/ENCSR625ESQ/ 18 166\n",
      "loading /experiments/ENCSR552WPH/ 19 166\n",
      "loading /experiments/ENCSR415KUB/ 20 166\n",
      "loading /experiments/ENCSR461SRF/ 21 166\n",
      "loading /experiments/ENCSR070GAZ/ 22 166\n",
      "loading /experiments/ENCSR008EQG/ 23 166\n",
      "loading /experiments/ENCSR986VCE/ 24 166\n",
      "loading /experiments/ENCSR246FZV/ 25 166\n",
      "loading /experiments/ENCSR631JEQ/ 26 166\n",
      "loading /experiments/ENCSR782NFL/ 27 166\n",
      "loading /experiments/ENCSR110GMH/ 28 166\n",
      "loading /experiments/ENCSR685OON/ 29 166\n",
      "loading /experiments/ENCSR758VDY/ 30 166\n",
      "loading /experiments/ENCSR917VKY/ 31 166\n",
      "loading /experiments/ENCSR809AKO/ 32 166\n",
      "loading /experiments/ENCSR354YFG/ 33 166\n",
      "loading /experiments/ENCSR329THX/ 34 166\n",
      "loading /experiments/ENCSR568TUO/ 35 166\n",
      "loading /experiments/ENCSR179ITA/ 36 166\n",
      "loading /experiments/ENCSR680TRJ/ 37 166\n",
      "loading /experiments/ENCSR638RNH/ 38 166\n",
      "loading /experiments/ENCSR213NEM/ 39 166\n",
      "loading /experiments/ENCSR498PUG/ 40 166\n",
      "loading /experiments/ENCSR814KDR/ 41 166\n",
      "loading /experiments/ENCSR137ZTO/ 42 166\n",
      "loading /experiments/ENCSR327VOK/ 43 166\n",
      "loading /experiments/ENCSR037NRU/ 44 166\n",
      "loading /experiments/ENCSR269WSU/ 45 166\n",
      "loading /experiments/ENCSR347QCM/ 46 166\n",
      "loading /experiments/ENCSR966UUJ/ 47 166\n",
      "loading /experiments/ENCSR702DUC/ 48 166\n",
      "loading /experiments/ENCSR828SVM/ 49 166\n",
      "loading /experiments/ENCSR664WGP/ 50 166\n",
      "loading /experiments/ENCSR672TMZ/ 51 166\n",
      "loading /experiments/ENCSR006GDO/ 52 166\n",
      "loading /experiments/ENCSR262WRN/ 53 166\n",
      "loading /experiments/ENCSR035TGL/ 54 166\n",
      "loading /experiments/ENCSR277GWK/ 55 166\n",
      "loading /experiments/ENCSR301FQU/ 56 166\n",
      "loading /experiments/ENCSR826DZM/ 57 166\n",
      "loading /experiments/ENCSR247SSE/ 58 166\n",
      "loading /experiments/ENCSR743UOB/ 59 166\n",
      "loading /experiments/ENCSR132FJG/ 60 166\n",
      "loading /experiments/ENCSR495JDH/ 61 166\n",
      "loading /experiments/ENCSR608HDW/ 62 166\n",
      "loading /experiments/ENCSR652IDV/ 63 166\n",
      "loading /experiments/ENCSR207NKU/ 64 166\n",
      "loading /experiments/ENCSR598WZW/ 65 166\n",
      "loading /experiments/ENCSR130SVF/ 66 166\n",
      "loading /experiments/ENCSR776CGZ/ 67 166\n",
      "loading /experiments/ENCSR853PWX/ 68 166\n",
      "loading /experiments/ENCSR184JSL/ 69 166\n",
      "loading /experiments/ENCSR888TKN/ 70 166\n",
      "loading /experiments/ENCSR805WTW/ 71 166\n",
      "loading /experiments/ENCSR023TWU/ 72 166\n",
      "loading /experiments/ENCSR552NEH/ 73 166\n",
      "loading /experiments/ENCSR100XAT/ 74 166\n",
      "loading /experiments/ENCSR283GCF/ 75 166\n",
      "loading /experiments/ENCSR506JCY/ 76 166\n",
      "loading /experiments/ENCSR083USL/ 77 166\n",
      "loading /experiments/ENCSR921CNU/ 78 166\n",
      "loading /experiments/ENCSR392AII/ 79 166\n",
      "loading /experiments/ENCSR606IHZ/ 80 166\n",
      "loading /experiments/ENCSR201KHF/ 81 166\n",
      "loading /experiments/ENCSR232JFQ/ 82 166\n",
      "loading /experiments/ENCSR108YYU/ 83 166\n",
      "loading /experiments/ENCSR949VVK/ 84 166\n",
      "loading /experiments/ENCSR484EVA/ 85 166\n",
      "loading /experiments/ENCSR832DUZ/ 86 166\n",
      "loading /experiments/ENCSR538NTY/ 87 166\n",
      "loading /experiments/ENCSR694SDO/ 88 166\n",
      "loading /experiments/ENCSR242CPC/ 89 166\n",
      "loading /experiments/ENCSR456CZD/ 90 166\n",
      "loading /experiments/ENCSR161PUT/ 91 166\n",
      "loading /experiments/ENCSR246CIO/ 92 166\n",
      "loading /experiments/ENCSR047EJT/ 93 166\n",
      "loading /experiments/ENCSR236BQO/ 94 166\n",
      "loading /experiments/ENCSR308SIN/ 95 166\n",
      "loading /experiments/ENCSR353XMS/ 96 166\n",
      "loading /experiments/ENCSR267CQC/ 97 166\n",
      "loading /experiments/ENCSR497ERE/ 98 166\n",
      "loading /experiments/ENCSR498DIP/ 99 166\n",
      "loading /experiments/ENCSR580VUW/ 100 166\n",
      "loading /experiments/ENCSR974QTI/ 101 166\n",
      "loading /experiments/ENCSR609EDL/ 102 166\n",
      "loading /experiments/ENCSR669XBU/ 103 166\n",
      "loading /experiments/ENCSR185XJA/ 104 166\n",
      "loading /experiments/ENCSR510TFQ/ 105 166\n",
      "loading /experiments/ENCSR199LBO/ 106 166\n",
      "loading /experiments/ENCSR677GOF/ 107 166\n",
      "loading /experiments/ENCSR863FYW/ 108 166\n",
      "loading /experiments/ENCSR665JCF/ 109 166\n",
      "loading /experiments/ENCSR553BCA/ 110 166\n",
      "loading /experiments/ENCSR900DXS/ 111 166\n",
      "loading /experiments/ENCSR489FQD/ 112 166\n",
      "loading /experiments/ENCSR829OXY/ 113 166\n",
      "loading /experiments/ENCSR091ZTZ/ 114 166\n",
      "loading /experiments/ENCSR234WHI/ 115 166\n",
      "loading /experiments/ENCSR152ETW/ 116 166\n",
      "loading /experiments/ENCSR240IDR/ 117 166\n",
      "loading /experiments/ENCSR940THV/ 118 166\n",
      "loading /experiments/ENCSR942IBI/ 119 166\n",
      "loading /experiments/ENCSR590PHU/ 120 166\n",
      "loading /experiments/ENCSR392BBU/ 121 166\n",
      "loading /experiments/ENCSR378DMT/ 122 166\n",
      "loading /experiments/ENCSR669EWD/ 123 166\n",
      "loading /experiments/ENCSR596MKU/ 124 166\n",
      "loading /experiments/ENCSR323GNP/ 125 166\n",
      "loading /experiments/ENCSR332XWL/ 126 166\n",
      "loading /experiments/ENCSR025YVG/ 127 166\n",
      "loading /experiments/ENCSR523DJZ/ 128 166\n",
      "loading /experiments/ENCSR369ZII/ 129 166\n",
      "loading /experiments/ENCSR312RZV/ 130 166\n",
      "loading /experiments/ENCSR155LSV/ 131 166\n",
      "loading /experiments/ENCSR511YYU/ 132 166\n",
      "loading /experiments/ENCSR697KHQ/ 133 166\n",
      "loading /experiments/ENCSR765ZSI/ 134 166\n",
      "loading /experiments/ENCSR138ZXT/ 135 166\n",
      "loading /experiments/ENCSR624LFP/ 136 166\n",
      "loading /experiments/ENCSR625DUG/ 137 166\n",
      "loading /experiments/ENCSR940JVJ/ 138 166\n",
      "loading /experiments/ENCSR554VGK/ 139 166\n",
      "loading /experiments/ENCSR834DKI/ 140 166\n",
      "loading /experiments/ENCSR856ZFY/ 141 166\n",
      "loading /experiments/ENCSR413KPB/ 142 166\n",
      "loading /experiments/ENCSR683JZO/ 143 166\n",
      "loading /experiments/ENCSR650SEP/ 144 166\n",
      "loading /experiments/ENCSR439LGW/ 145 166\n",
      "loading /experiments/ENCSR343HIX/ 146 166\n",
      "loading /experiments/ENCSR007BDR/ 147 166\n",
      "loading /experiments/ENCSR430YFL/ 148 166\n",
      "loading /experiments/ENCSR683IDV/ 149 166\n",
      "loading /experiments/ENCSR753HJF/ 150 166\n",
      "loading /experiments/ENCSR860OEN/ 151 166\n",
      "loading /experiments/ENCSR883USZ/ 152 166\n",
      "loading /experiments/ENCSR471YND/ 153 166\n",
      "loading /experiments/ENCSR215OAK/ 154 166\n",
      "loading /experiments/ENCSR184PQQ/ 155 166\n",
      "loading /experiments/ENCSR165GUQ/ 156 166\n",
      "loading /experiments/ENCSR782VMS/ 157 166\n",
      "loading /experiments/ENCSR201IBH/ 158 166\n",
      "loading /experiments/ENCSR223FVU/ 159 166\n",
      "loading /experiments/ENCSR408BER/ 160 166\n",
      "loading /experiments/ENCSR257DJT/ 161 166\n",
      "loading /experiments/ENCSR000AJL/ 162 166\n",
      "loading /experiments/ENCSR000AEK/ 163 166\n",
      "loading /experiments/ENCSR000AJK/ 164 166\n",
      "loading /experiments/ENCSR000AET/ 165 166\n"
     ]
    }
   ],
   "source": [
    "for i, row in enumerate(search['@graph']):\n",
    "    experiment_id = row['@id']\n",
    "    #clear_output()\n",
    "    print('loading', experiment_id, i, len(search['@graph']))\n",
    "    experiment = server.get_jsonld(experiment_id)\n",
    "    load_jsonld_into_model(model, experiment)"
   ]
  },
  {
   "cell_type": "markdown",
   "metadata": {},
   "source": [
    "# Current ENCODE3 Experiment Status"
   ]
  },
  {
   "cell_type": "code",
   "execution_count": 11,
   "metadata": {
    "collapsed": false,
    "scrolled": false
   },
   "outputs": [
    {
     "data": {
      "text/html": [
       "<table><tr><td>o</td></tr><tr><td><a href=\"https://www.encodeproject.org/profiles/Award.json#Award\">https://www.encodeproject.org/profiles/Award.json#Award</a></td></tr><tr><td><a href=\"https://www.encodeproject.org/profiles/Award.json#Item\">https://www.encodeproject.org/profiles/Award.json#Item</a></td></tr><tr><td><a href=\"https://www.encodeproject.org/profiles/Biosample.json#Biosample\">biosample:Biosample</a></td></tr><tr><td><a href=\"https://www.encodeproject.org/profiles/Biosample.json#Item\">biosample:Item</a></td></tr><tr><td><a href=\"https://www.encodeproject.org/profiles/Document.json#Document\">https://www.encodeproject.org/profiles/Document.json#Document</a></td></tr><tr><td><a href=\"https://www.encodeproject.org/profiles/Document.json#Item\">https://www.encodeproject.org/profiles/Document.json#Item</a></td></tr><tr><td><a href=\"https://www.encodeproject.org/profiles/Experiment.json#Experiment\">experiment:Experiment</a></td></tr><tr><td><a href=\"https://www.encodeproject.org/profiles/Experiment.json#Dataset\">experiment:Dataset</a></td></tr><tr><td><a href=\"https://www.encodeproject.org/profiles/Experiment.json#Item\">experiment:Item</a></td></tr><tr><td><a href=\"https://www.encodeproject.org/profiles/HumanDonor.json#HumanDonor\">https://www.encodeproject.org/profiles/HumanDonor.json#HumanDonor</a></td></tr><tr><td><a href=\"https://www.encodeproject.org/profiles/HumanDonor.json#Donor\">https://www.encodeproject.org/profiles/HumanDonor.json#Donor</a></td></tr><tr><td><a href=\"https://www.encodeproject.org/profiles/HumanDonor.json#Item\">https://www.encodeproject.org/profiles/HumanDonor.json#Item</a></td></tr><tr><td><a href=\"https://www.encodeproject.org/profiles/Lab.json#Lab\">https://www.encodeproject.org/profiles/Lab.json#Lab</a></td></tr><tr><td><a href=\"https://www.encodeproject.org/profiles/Lab.json#Item\">https://www.encodeproject.org/profiles/Lab.json#Item</a></td></tr><tr><td><a href=\"https://www.encodeproject.org/profiles/Library.json#Library\">library:Library</a></td></tr><tr><td><a href=\"https://www.encodeproject.org/profiles/Library.json#Item\">library:Item</a></td></tr><tr><td><a href=\"https://www.encodeproject.org/profiles/Organism.json#Organism\">https://www.encodeproject.org/profiles/Organism.json#Organism</a></td></tr><tr><td><a href=\"https://www.encodeproject.org/profiles/Organism.json#Item\">https://www.encodeproject.org/profiles/Organism.json#Item</a></td></tr><tr><td><a href=\"https://www.encodeproject.org/profiles/ReferenceEpigenome.json#ReferenceEpigenome\">https://www.encodeproject.org/profiles/ReferenceEpigenome.json#ReferenceEpigenome</a></td></tr><tr><td><a href=\"https://www.encodeproject.org/profiles/ReferenceEpigenome.json#Series\">https://www.encodeproject.org/profiles/ReferenceEpigenome.json#Series</a></td></tr><tr><td><a href=\"https://www.encodeproject.org/profiles/ReferenceEpigenome.json#Dataset\">https://www.encodeproject.org/profiles/ReferenceEpigenome.json#Dataset</a></td></tr><tr><td><a href=\"https://www.encodeproject.org/profiles/ReferenceEpigenome.json#Item\">https://www.encodeproject.org/profiles/ReferenceEpigenome.json#Item</a></td></tr><tr><td><a href=\"https://www.encodeproject.org/profiles/Replicate.json#Replicate\">replicate:Replicate</a></td></tr><tr><td><a href=\"https://www.encodeproject.org/profiles/Replicate.json#Item\">replicate:Item</a></td></tr><tr><td><a href=\"https://www.encodeproject.org/profiles/Source.json#Source\">https://www.encodeproject.org/profiles/Source.json#Source</a></td></tr><tr><td><a href=\"https://www.encodeproject.org/profiles/Source.json#Item\">https://www.encodeproject.org/profiles/Source.json#Item</a></td></tr><tr><td><a href=\"https://www.encodeproject.org/profiles/User.json#User\">https://www.encodeproject.org/profiles/User.json#User</a></td></tr><tr><td><a href=\"https://www.encodeproject.org/profiles/User.json#Item\">https://www.encodeproject.org/profiles/User.json#Item</a></td></tr><tr><td><a href=\"https://www.encodeproject.org/profiles/AnalysisStepVersion.json#AnalysisStepVersion\">https://www.encodeproject.org/profiles/AnalysisStepVersion.json#AnalysisStepVersion</a></td></tr><tr><td><a href=\"https://www.encodeproject.org/profiles/AnalysisStepVersion.json#Item\">https://www.encodeproject.org/profiles/AnalysisStepVersion.json#Item</a></td></tr><tr><td><a href=\"https://www.encodeproject.org/profiles/AnalysisStep.json#AnalysisStep\">https://www.encodeproject.org/profiles/AnalysisStep.json#AnalysisStep</a></td></tr><tr><td><a href=\"https://www.encodeproject.org/profiles/AnalysisStep.json#Item\">https://www.encodeproject.org/profiles/AnalysisStep.json#Item</a></td></tr><tr><td><a href=\"https://www.encodeproject.org/profiles/File.json#File\">file:File</a></td></tr><tr><td><a href=\"https://www.encodeproject.org/profiles/File.json#Item\">file:Item</a></td></tr><tr><td><a href=\"https://www.encodeproject.org/profiles/MouseDonor.json#MouseDonor\">https://www.encodeproject.org/profiles/MouseDonor.json#MouseDonor</a></td></tr><tr><td><a href=\"https://www.encodeproject.org/profiles/MouseDonor.json#Donor\">https://www.encodeproject.org/profiles/MouseDonor.json#Donor</a></td></tr><tr><td><a href=\"https://www.encodeproject.org/profiles/MouseDonor.json#Item\">https://www.encodeproject.org/profiles/MouseDonor.json#Item</a></td></tr><tr><td><a href=\"https://www.encodeproject.org/profiles/Pipeline.json#Pipeline\">https://www.encodeproject.org/profiles/Pipeline.json#Pipeline</a></td></tr><tr><td><a href=\"https://www.encodeproject.org/profiles/Pipeline.json#Item\">https://www.encodeproject.org/profiles/Pipeline.json#Item</a></td></tr><tr><td><a href=\"https://www.encodeproject.org/profiles/Platform.json#Platform\">platform:Platform</a></td></tr><tr><td><a href=\"https://www.encodeproject.org/profiles/Platform.json#Item\">platform:Item</a></td></tr><tr><td><a href=\"https://www.encodeproject.org/profiles/SoftwareVersion.json#SoftwareVersion\">https://www.encodeproject.org/profiles/SoftwareVersion.json#SoftwareVersion</a></td></tr><tr><td><a href=\"https://www.encodeproject.org/profiles/SoftwareVersion.json#Item\">https://www.encodeproject.org/profiles/SoftwareVersion.json#Item</a></td></tr><tr><td><a href=\"https://www.encodeproject.org/profiles/Software.json#Software\">https://www.encodeproject.org/profiles/Software.json#Software</a></td></tr><tr><td><a href=\"https://www.encodeproject.org/profiles/Software.json#Item\">https://www.encodeproject.org/profiles/Software.json#Item</a></td></tr></table>"
      ],
      "text/plain": [
       "<rdfmagic.LibRdfResults at 0x7fbf5a9f7eb8>"
      ]
     },
     "execution_count": 11,
     "metadata": {},
     "output_type": "execute_result"
    }
   ],
   "source": [
    "%%sparql -m model\n",
    "select distinct ?o\n",
    "{\n",
    "    ?s a ?o .\n",
    "}"
   ]
  },
  {
   "cell_type": "code",
   "execution_count": 12,
   "metadata": {
    "collapsed": false
   },
   "outputs": [
    {
     "name": "stdout",
     "output_type": "stream",
     "text": [
      "Found 166 rows.\n"
     ]
    },
    {
     "data": {
      "text/html": [
       "<table><tr><td>accession</td><td>assay_name</td><td>description</td><td>status</td><td>release</td></tr><tr><td><a href=\"https://www.encodeproject.org/experiments/ENCSR506JCY/\">experiments:ENCSR506JCY/</a></td><td>microRNA counts</td><td>Nanostring miRNA Array on embryonic 15.5 day mouse embryonic facial prominence</td><td>proposed</td><td>None</td></tr><tr><td><a href=\"https://www.encodeproject.org/experiments/ENCSR853PWX/\">experiments:ENCSR853PWX/</a></td><td>microRNA counts</td><td>Nanostring miRNA Array on embryonic 15.5 day mouse kidney</td><td>proposed</td><td>None</td></tr><tr><td><a href=\"https://www.encodeproject.org/experiments/ENCSR888ZAA/\">experiments:ENCSR888ZAA/</a></td><td>microRNA counts</td><td>Nanostring miRNA Array on human heart left ventricle</td><td>proposed</td><td>None</td></tr><tr><td><a href=\"https://www.encodeproject.org/experiments/ENCSR425ZMS/\">experiments:ENCSR425ZMS/</a></td><td>microRNA counts</td><td>Nanostring miRNA Array on human heart left ventricle</td><td>proposed</td><td>None</td></tr><tr><td><a href=\"https://www.encodeproject.org/experiments/ENCSR894GAC/\">experiments:ENCSR894GAC/</a></td><td>microRNA counts</td><td>Nanostring miRNA Array on human induced pluripotent stem cell</td><td>proposed</td><td>2016-05-03</td></tr><tr><td><a href=\"https://www.encodeproject.org/experiments/ENCSR227VCK/\">experiments:ENCSR227VCK/</a></td><td>microRNA counts</td><td>Nanostring miRNA Array on human prostate</td><td>proposed</td><td>None</td></tr><tr><td><a href=\"https://www.encodeproject.org/experiments/ENCSR630JWA/\">experiments:ENCSR630JWA/</a></td><td>microRNA counts</td><td>Nanostring miRNA Array on human prostate</td><td>proposed</td><td>None</td></tr><tr><td><a href=\"https://www.encodeproject.org/experiments/ENCSR258UGT/\">experiments:ENCSR258UGT/</a></td><td>microRNA counts</td><td>Nanostring miRNA Array on human right cardiac atrium</td><td>proposed</td><td>None</td></tr><tr><td><a href=\"https://www.encodeproject.org/experiments/ENCSR326JQW/\">experiments:ENCSR326JQW/</a></td><td>microRNA counts</td><td>Nanostring miRNA Array on human right cardiac atrium</td><td>proposed</td><td>None</td></tr><tr><td><a href=\"https://www.encodeproject.org/experiments/ENCSR776XYQ/\">experiments:ENCSR776XYQ/</a></td><td>microRNA counts</td><td>Nanostring miRNA Array on human right lobe of liver</td><td>proposed</td><td>None</td></tr><tr><td><a href=\"https://www.encodeproject.org/experiments/ENCSR486QHW/\">experiments:ENCSR486QHW/</a></td><td>microRNA counts</td><td>Nanostring miRNA Array on human uterus</td><td>proposed</td><td>None</td></tr><tr><td><a href=\"https://www.encodeproject.org/experiments/ENCSR101DVP/\">experiments:ENCSR101DVP/</a></td><td>microRNA counts</td><td>Nanostring miRNA Array on human uterus</td><td>proposed</td><td>None</td></tr><tr><td><a href=\"https://www.encodeproject.org/experiments/ENCSR234WHI/\">experiments:ENCSR234WHI/</a></td><td>microRNA-seq</td><td>miRNA-seq  on embryonic 11.5 day mouse hindbrain</td><td>proposed</td><td>2016-02-18</td></tr><tr><td><a href=\"https://www.encodeproject.org/experiments/ENCSR489FQD/\">experiments:ENCSR489FQD/</a></td><td>microRNA-seq</td><td>miRNA-seq  on embryonic 11.5 day mouse liver</td><td>proposed</td><td>2016-05-06</td></tr><tr><td><a href=\"https://www.encodeproject.org/experiments/ENCSR152ETW/\">experiments:ENCSR152ETW/</a></td><td>microRNA-seq</td><td>miRNA-seq  on embryonic 11.5 day mouse midbrain</td><td>proposed</td><td>2016-02-18</td></tr><tr><td><a href=\"https://www.encodeproject.org/experiments/ENCSR554VGK/\">experiments:ENCSR554VGK/</a></td><td>microRNA-seq</td><td>miRNA-seq  on postnatal 0 day mouse liver</td><td>proposed</td><td>2016-05-06</td></tr><tr><td><a href=\"https://www.encodeproject.org/experiments/ENCSR413KPB/\">experiments:ENCSR413KPB/</a></td><td>microRNA-seq</td><td>miRNA-seq  on postnatal 0 day mouse midbrain</td><td>proposed</td><td>None</td></tr><tr><td><a href=\"https://www.encodeproject.org/experiments/ENCSR415KUB/\">experiments:ENCSR415KUB/</a></td><td>microRNA-seq</td><td>miRNA-seq on embryonic 15.5 day mouse neural tube</td><td>proposed</td><td>None</td></tr><tr><td><a href=\"https://www.encodeproject.org/experiments/ENCSR552WPH/\">experiments:ENCSR552WPH/</a></td><td>microRNA-seq</td><td>miRNA-seq on embryonic 16.5 day mouse forebrain</td><td>proposed</td><td>None</td></tr><tr><td><a href=\"https://www.encodeproject.org/experiments/ENCSR481QIP/\">experiments:ENCSR481QIP/</a></td><td>microRNA-seq</td><td>miRNA-seq on embryonic 16.5 day mouse heart</td><td>proposed</td><td>None</td></tr><tr><td><a href=\"https://www.encodeproject.org/experiments/ENCSR571RHM/\">experiments:ENCSR571RHM/</a></td><td>microRNA-seq</td><td>miRNA-seq on embryonic 16.5 day mouse hindbrain</td><td>proposed</td><td>None</td></tr><tr><td><a href=\"https://www.encodeproject.org/experiments/ENCSR625ESQ/\">experiments:ENCSR625ESQ/</a></td><td>microRNA-seq</td><td>miRNA-seq on embryonic 16.5 day mouse midbrain</td><td>proposed</td><td>None</td></tr><tr><td><a href=\"https://www.encodeproject.org/experiments/ENCSR958UOC/\">experiments:ENCSR958UOC/</a></td><td>microRNA-seq</td><td>miRNA-seq on human induced pluripotent stem cell</td><td>proposed</td><td>2016-05-03</td></tr><tr><td><a href=\"https://www.encodeproject.org/experiments/ENCSR000AJK/\">experiments:ENCSR000AJK/</a></td><td>microRNA counts</td><td>Irvine Nanostring GM12878</td><td>released</td><td>2016-02-02</td></tr><tr><td><a href=\"https://www.encodeproject.org/experiments/ENCSR000AJL/\">experiments:ENCSR000AJL/</a></td><td>microRNA counts</td><td>Irvine Nanostring K562</td><td>released</td><td>2016-02-02</td></tr><tr><td><a href=\"https://www.encodeproject.org/experiments/ENCSR765ZSI/\">experiments:ENCSR765ZSI/</a></td><td>microRNA counts</td><td>Nanostring miRNA Array on PGP human bipolar spindle neuron</td><td>released</td><td>2016-01-19</td></tr><tr><td><a href=\"https://www.encodeproject.org/experiments/ENCSR625DUG/\">experiments:ENCSR625DUG/</a></td><td>microRNA counts</td><td>Nanostring miRNA Array on SESCC human H9 derived smooth muscle</td><td>released</td><td>2016-01-19</td></tr><tr><td><a href=\"https://www.encodeproject.org/experiments/ENCSR201KHF/\">experiments:ENCSR201KHF/</a></td><td>microRNA counts</td><td>Nanostring miRNA Array on embryonic 11.5 day mouse embryonic facial prominence</td><td>released</td><td>2016-02-18</td></tr><tr><td><a href=\"https://www.encodeproject.org/experiments/ENCSR669EWD/\">experiments:ENCSR669EWD/</a></td><td>microRNA counts</td><td>Nanostring miRNA Array on embryonic 11.5 day mouse forebrain</td><td>released</td><td>2015-12-10</td></tr><tr><td><a href=\"https://www.encodeproject.org/experiments/ENCSR590PHU/\">experiments:ENCSR590PHU/</a></td><td>microRNA counts</td><td>Nanostring miRNA Array on embryonic 11.5 day mouse heart</td><td>released</td><td>2015-11-24</td></tr><tr><td><a href=\"https://www.encodeproject.org/experiments/ENCSR392BBU/\">experiments:ENCSR392BBU/</a></td><td>microRNA counts</td><td>Nanostring miRNA Array on embryonic 11.5 day mouse hindbrain</td><td>released</td><td>2015-11-24</td></tr><tr><td><a href=\"https://www.encodeproject.org/experiments/ENCSR606IHZ/\">experiments:ENCSR606IHZ/</a></td><td>microRNA counts</td><td>Nanostring miRNA Array on embryonic 11.5 day mouse limb</td><td>released</td><td>2016-02-18</td></tr><tr><td><a href=\"https://www.encodeproject.org/experiments/ENCSR942IBI/\">experiments:ENCSR942IBI/</a></td><td>microRNA counts</td><td>Nanostring miRNA Array on embryonic 11.5 day mouse liver</td><td>released</td><td>2015-12-10</td></tr><tr><td><a href=\"https://www.encodeproject.org/experiments/ENCSR378DMT/\">experiments:ENCSR378DMT/</a></td><td>microRNA counts</td><td>Nanostring miRNA Array on embryonic 11.5 day mouse midbrain</td><td>released</td><td>2015-11-24</td></tr><tr><td><a href=\"https://www.encodeproject.org/experiments/ENCSR940THV/\">experiments:ENCSR940THV/</a></td><td>microRNA counts</td><td>Nanostring miRNA Array on embryonic 11.5 day mouse neural tube</td><td>released</td><td>2015-11-24</td></tr><tr><td><a href=\"https://www.encodeproject.org/experiments/ENCSR207NKU/\">experiments:ENCSR207NKU/</a></td><td>microRNA counts</td><td>Nanostring miRNA Array on embryonic 13.5 day mouse embryonic facial prominence</td><td>released</td><td>2016-02-18</td></tr><tr><td><a href=\"https://www.encodeproject.org/experiments/ENCSR776CGZ/\">experiments:ENCSR776CGZ/</a></td><td>microRNA counts</td><td>Nanostring miRNA Array on embryonic 13.5 day mouse forebrain</td><td>released</td><td>2016-03-01</td></tr><tr><td><a href=\"https://www.encodeproject.org/experiments/ENCSR652IDV/\">experiments:ENCSR652IDV/</a></td><td>microRNA counts</td><td>Nanostring miRNA Array on embryonic 13.5 day mouse heart</td><td>released</td><td>2016-02-18</td></tr><tr><td><a href=\"https://www.encodeproject.org/experiments/ENCSR598WZW/\">experiments:ENCSR598WZW/</a></td><td>microRNA counts</td><td>Nanostring miRNA Array on embryonic 13.5 day mouse hindbrain</td><td>released</td><td>2016-02-18</td></tr><tr><td><a href=\"https://www.encodeproject.org/experiments/ENCSR608HDW/\">experiments:ENCSR608HDW/</a></td><td>microRNA counts</td><td>Nanostring miRNA Array on embryonic 13.5 day mouse limb</td><td>released</td><td>2016-02-18</td></tr><tr><td><a href=\"https://www.encodeproject.org/experiments/ENCSR495JDH/\">experiments:ENCSR495JDH/</a></td><td>microRNA counts</td><td>Nanostring miRNA Array on embryonic 13.5 day mouse liver</td><td>released</td><td>2016-02-18</td></tr><tr><td><a href=\"https://www.encodeproject.org/experiments/ENCSR130SVF/\">experiments:ENCSR130SVF/</a></td><td>microRNA counts</td><td>Nanostring miRNA Array on embryonic 13.5 day mouse midbrain</td><td>released</td><td>2016-02-18</td></tr><tr><td><a href=\"https://www.encodeproject.org/experiments/ENCSR132FJG/\">experiments:ENCSR132FJG/</a></td><td>microRNA counts</td><td>Nanostring miRNA Array on embryonic 13.5 day mouse neural tube</td><td>released</td><td>2016-02-18</td></tr><tr><td><a href=\"https://www.encodeproject.org/experiments/ENCSR392AII/\">experiments:ENCSR392AII/</a></td><td>microRNA counts</td><td>Nanostring miRNA Array on embryonic 14.5 day mouse forebrain</td><td>released</td><td>2016-03-16</td></tr><tr><td><a href=\"https://www.encodeproject.org/experiments/ENCSR023TWU/\">experiments:ENCSR023TWU/</a></td><td>microRNA counts</td><td>Nanostring miRNA Array on embryonic 14.5 day mouse heart</td><td>released</td><td>2016-03-16</td></tr><tr><td><a href=\"https://www.encodeproject.org/experiments/ENCSR083USL/\">experiments:ENCSR083USL/</a></td><td>microRNA counts</td><td>Nanostring miRNA Array on embryonic 14.5 day mouse hindbrain</td><td>released</td><td>2016-03-16</td></tr><tr><td><a href=\"https://www.encodeproject.org/experiments/ENCSR552NEH/\">experiments:ENCSR552NEH/</a></td><td>microRNA counts</td><td>Nanostring miRNA Array on embryonic 14.5 day mouse limb</td><td>released</td><td>2016-02-18</td></tr><tr><td><a href=\"https://www.encodeproject.org/experiments/ENCSR283GCF/\">experiments:ENCSR283GCF/</a></td><td>microRNA counts</td><td>Nanostring miRNA Array on embryonic 14.5 day mouse liver</td><td>released</td><td>2016-03-16</td></tr><tr><td><a href=\"https://www.encodeproject.org/experiments/ENCSR100XAT/\">experiments:ENCSR100XAT/</a></td><td>microRNA counts</td><td>Nanostring miRNA Array on embryonic 14.5 day mouse lung</td><td>released</td><td>2016-02-18</td></tr><tr><td><a href=\"https://www.encodeproject.org/experiments/ENCSR921CNU/\">experiments:ENCSR921CNU/</a></td><td>microRNA counts</td><td>Nanostring miRNA Array on embryonic 14.5 day mouse midbrain</td><td>released</td><td>2016-03-16</td></tr><tr><td><a href=\"https://www.encodeproject.org/experiments/ENCSR184JSL/\">experiments:ENCSR184JSL/</a></td><td>microRNA counts</td><td>Nanostring miRNA Array on embryonic 14.5 day mouse neural tube</td><td>released</td><td>2016-03-16</td></tr><tr><td><a href=\"https://www.encodeproject.org/experiments/ENCSR805WTW/\">experiments:ENCSR805WTW/</a></td><td>microRNA counts</td><td>Nanostring miRNA Array on embryonic 14.5 day mouse stomach</td><td>released</td><td>2016-03-01</td></tr><tr><td><a href=\"https://www.encodeproject.org/experiments/ENCSR828SVM/\">experiments:ENCSR828SVM/</a></td><td>microRNA counts</td><td>Nanostring miRNA Array on embryonic 15.5 day mouse embryonic facial prominence</td><td>released</td><td>2016-03-16</td></tr><tr><td><a href=\"https://www.encodeproject.org/experiments/ENCSR743UOB/\">experiments:ENCSR743UOB/</a></td><td>microRNA counts</td><td>Nanostring miRNA Array on embryonic 15.5 day mouse forebrain</td><td>released</td><td>2016-03-16</td></tr><tr><td><a href=\"https://www.encodeproject.org/experiments/ENCSR301FQU/\">experiments:ENCSR301FQU/</a></td><td>microRNA counts</td><td>Nanostring miRNA Array on embryonic 15.5 day mouse heart</td><td>released</td><td>2016-03-16</td></tr><tr><td><a href=\"https://www.encodeproject.org/experiments/ENCSR826DZM/\">experiments:ENCSR826DZM/</a></td><td>microRNA counts</td><td>Nanostring miRNA Array on embryonic 15.5 day mouse hindbrain</td><td>released</td><td>2016-03-16</td></tr><tr><td><a href=\"https://www.encodeproject.org/experiments/ENCSR262WRN/\">experiments:ENCSR262WRN/</a></td><td>microRNA counts</td><td>Nanostring miRNA Array on embryonic 15.5 day mouse intestine</td><td>released</td><td>2016-03-16</td></tr><tr><td><a href=\"https://www.encodeproject.org/experiments/ENCSR888TKN/\">experiments:ENCSR888TKN/</a></td><td>microRNA counts</td><td>Nanostring miRNA Array on embryonic 15.5 day mouse intestine</td><td>released</td><td>2016-03-01</td></tr><tr><td><a href=\"https://www.encodeproject.org/experiments/ENCSR672TMZ/\">experiments:ENCSR672TMZ/</a></td><td>microRNA counts</td><td>Nanostring miRNA Array on embryonic 15.5 day mouse kidney</td><td>released</td><td>2016-03-16</td></tr><tr><td><a href=\"https://www.encodeproject.org/experiments/ENCSR664WGP/\">experiments:ENCSR664WGP/</a></td><td>microRNA counts</td><td>Nanostring miRNA Array on embryonic 15.5 day mouse limb</td><td>released</td><td>2016-03-16</td></tr><tr><td><a href=\"https://www.encodeproject.org/experiments/ENCSR035TGL/\">experiments:ENCSR035TGL/</a></td><td>microRNA counts</td><td>Nanostring miRNA Array on embryonic 15.5 day mouse liver</td><td>released</td><td>2016-03-16</td></tr><tr><td><a href=\"https://www.encodeproject.org/experiments/ENCSR277GWK/\">experiments:ENCSR277GWK/</a></td><td>microRNA counts</td><td>Nanostring miRNA Array on embryonic 15.5 day mouse lung</td><td>released</td><td>2016-03-16</td></tr><tr><td><a href=\"https://www.encodeproject.org/experiments/ENCSR247SSE/\">experiments:ENCSR247SSE/</a></td><td>microRNA counts</td><td>Nanostring miRNA Array on embryonic 15.5 day mouse midbrain</td><td>released</td><td>2016-03-16</td></tr><tr><td><a href=\"https://www.encodeproject.org/experiments/ENCSR702DUC/\">experiments:ENCSR702DUC/</a></td><td>microRNA counts</td><td>Nanostring miRNA Array on embryonic 15.5 day mouse neural tube</td><td>released</td><td>2016-03-16</td></tr><tr><td><a href=\"https://www.encodeproject.org/experiments/ENCSR006GDO/\">experiments:ENCSR006GDO/</a></td><td>microRNA counts</td><td>Nanostring miRNA Array on embryonic 15.5 day mouse stomach</td><td>released</td><td>2016-03-16</td></tr><tr><td><a href=\"https://www.encodeproject.org/experiments/ENCSR966UUJ/\">experiments:ENCSR966UUJ/</a></td><td>microRNA counts</td><td>Nanostring miRNA Array on embryonic 16.5 day mouse forebrain</td><td>released</td><td>2016-03-16</td></tr><tr><td><a href=\"https://www.encodeproject.org/experiments/ENCSR037NRU/\">experiments:ENCSR037NRU/</a></td><td>microRNA counts</td><td>Nanostring miRNA Array on embryonic 16.5 day mouse heart</td><td>released</td><td>2016-03-16</td></tr><tr><td><a href=\"https://www.encodeproject.org/experiments/ENCSR269WSU/\">experiments:ENCSR269WSU/</a></td><td>microRNA counts</td><td>Nanostring miRNA Array on embryonic 16.5 day mouse hindbrain</td><td>released</td><td>2016-03-16</td></tr><tr><td><a href=\"https://www.encodeproject.org/experiments/ENCSR814KDR/\">experiments:ENCSR814KDR/</a></td><td>microRNA counts</td><td>Nanostring miRNA Array on embryonic 16.5 day mouse intestine</td><td>released</td><td>2016-03-16</td></tr><tr><td><a href=\"https://www.encodeproject.org/experiments/ENCSR498PUG/\">experiments:ENCSR498PUG/</a></td><td>microRNA counts</td><td>Nanostring miRNA Array on embryonic 16.5 day mouse kidney</td><td>released</td><td>2016-03-16</td></tr><tr><td><a href=\"https://www.encodeproject.org/experiments/ENCSR327VOK/\">experiments:ENCSR327VOK/</a></td><td>microRNA counts</td><td>Nanostring miRNA Array on embryonic 16.5 day mouse liver</td><td>released</td><td>2016-03-16</td></tr><tr><td><a href=\"https://www.encodeproject.org/experiments/ENCSR137ZTO/\">experiments:ENCSR137ZTO/</a></td><td>microRNA counts</td><td>Nanostring miRNA Array on embryonic 16.5 day mouse lung</td><td>released</td><td>2016-03-16</td></tr><tr><td><a href=\"https://www.encodeproject.org/experiments/ENCSR347QCM/\">experiments:ENCSR347QCM/</a></td><td>microRNA counts</td><td>Nanostring miRNA Array on embryonic 16.5 day mouse midbrain</td><td>released</td><td>2016-03-16</td></tr><tr><td><a href=\"https://www.encodeproject.org/experiments/ENCSR213NEM/\">experiments:ENCSR213NEM/</a></td><td>microRNA counts</td><td>Nanostring miRNA Array on embryonic 16.5 day mouse stomach</td><td>released</td><td>2016-03-16</td></tr><tr><td><a href=\"https://www.encodeproject.org/experiments/ENCSR408BER/\">experiments:ENCSR408BER/</a></td><td>microRNA counts</td><td>Nanostring miRNA Array on human H1-hESC</td><td>released</td><td>2015-12-10</td></tr><tr><td><a href=\"https://www.encodeproject.org/experiments/ENCSR165GUQ/\">experiments:ENCSR165GUQ/</a></td><td>microRNA counts</td><td>Nanostring miRNA Array on human HCT116</td><td>released</td><td>2015-12-10</td></tr><tr><td><a href=\"https://www.encodeproject.org/experiments/ENCSR223FVU/\">experiments:ENCSR223FVU/</a></td><td>microRNA counts</td><td>Nanostring miRNA Array on human HUVEC</td><td>released</td><td>2016-01-06</td></tr><tr><td><a href=\"https://www.encodeproject.org/experiments/ENCSR257DJT/\">experiments:ENCSR257DJT/</a></td><td>microRNA counts</td><td>Nanostring miRNA Array on human HepG2</td><td>released</td><td>2015-12-10</td></tr><tr><td><a href=\"https://www.encodeproject.org/experiments/ENCSR782VMS/\">experiments:ENCSR782VMS/</a></td><td>microRNA counts</td><td>Nanostring miRNA Array on human LHCN-M2 differentiated for 7 days</td><td>released</td><td>2016-01-19</td></tr><tr><td><a href=\"https://www.encodeproject.org/experiments/ENCSR201IBH/\">experiments:ENCSR201IBH/</a></td><td>microRNA counts</td><td>Nanostring miRNA Array on human MCF-7</td><td>released</td><td>2016-01-06</td></tr><tr><td><a href=\"https://www.encodeproject.org/experiments/ENCSR138ZXT/\">experiments:ENCSR138ZXT/</a></td><td>microRNA counts</td><td>Nanostring miRNA Array on human fibroblast of arm</td><td>released</td><td>2016-01-19</td></tr><tr><td><a href=\"https://www.encodeproject.org/experiments/ENCSR624LFP/\">experiments:ENCSR624LFP/</a></td><td>microRNA counts</td><td>Nanostring miRNA Array on human neural progenitor cell</td><td>released</td><td>2016-01-19</td></tr><tr><td><a href=\"https://www.encodeproject.org/experiments/ENCSR108YYU/\">experiments:ENCSR108YYU/</a></td><td>microRNA counts</td><td>Nanostring miRNA Array on postnatal 0 day mouse  bladder</td><td>released</td><td>2016-02-18</td></tr><tr><td><a href=\"https://www.encodeproject.org/experiments/ENCSR184PQQ/\">experiments:ENCSR184PQQ/</a></td><td>microRNA counts</td><td>Nanostring miRNA Array on postnatal 0 day mouse forebrain</td><td>released</td><td>2015-11-24</td></tr><tr><td><a href=\"https://www.encodeproject.org/experiments/ENCSR883USZ/\">experiments:ENCSR883USZ/</a></td><td>microRNA counts</td><td>Nanostring miRNA Array on postnatal 0 day mouse heart</td><td>released</td><td>2015-11-24</td></tr><tr><td><a href=\"https://www.encodeproject.org/experiments/ENCSR471YND/\">experiments:ENCSR471YND/</a></td><td>microRNA counts</td><td>Nanostring miRNA Array on postnatal 0 day mouse hindbrain</td><td>released</td><td>2015-11-24</td></tr><tr><td><a href=\"https://www.encodeproject.org/experiments/ENCSR232JFQ/\">experiments:ENCSR232JFQ/</a></td><td>microRNA counts</td><td>Nanostring miRNA Array on postnatal 0 day mouse intestine</td><td>released</td><td>2016-02-18</td></tr><tr><td><a href=\"https://www.encodeproject.org/experiments/ENCSR596MKU/\">experiments:ENCSR596MKU/</a></td><td>microRNA counts</td><td>Nanostring miRNA Array on postnatal 0 day mouse kidney</td><td>released</td><td>2015-11-24</td></tr><tr><td><a href=\"https://www.encodeproject.org/experiments/ENCSR860OEN/\">experiments:ENCSR860OEN/</a></td><td>microRNA counts</td><td>Nanostring miRNA Array on postnatal 0 day mouse liver</td><td>released</td><td>2015-11-24</td></tr><tr><td><a href=\"https://www.encodeproject.org/experiments/ENCSR025YVG/\">experiments:ENCSR025YVG/</a></td><td>microRNA counts</td><td>Nanostring miRNA Array on postnatal 0 day mouse lung</td><td>released</td><td>2015-11-24</td></tr><tr><td><a href=\"https://www.encodeproject.org/experiments/ENCSR215OAK/\">experiments:ENCSR215OAK/</a></td><td>microRNA counts</td><td>Nanostring miRNA Array on postnatal 0 day mouse midbrain</td><td>released</td><td>2015-11-24</td></tr><tr><td><a href=\"https://www.encodeproject.org/experiments/ENCSR369ZII/\">experiments:ENCSR369ZII/</a></td><td>microRNA counts</td><td>Nanostring miRNA Array on postnatal 0 day mouse neural tube</td><td>released</td><td>2015-11-24</td></tr><tr><td><a href=\"https://www.encodeproject.org/experiments/ENCSR753HJF/\">experiments:ENCSR753HJF/</a></td><td>microRNA counts</td><td>Nanostring miRNA Array on postnatal 0 day mouse skeletal muscle</td><td>released</td><td>2015-11-24</td></tr><tr><td><a href=\"https://www.encodeproject.org/experiments/ENCSR332XWL/\">experiments:ENCSR332XWL/</a></td><td>microRNA counts</td><td>Nanostring miRNA Array on postnatal 0 day mouse spleen</td><td>released</td><td>2015-11-24</td></tr><tr><td><a href=\"https://www.encodeproject.org/experiments/ENCSR323GNP/\">experiments:ENCSR323GNP/</a></td><td>microRNA counts</td><td>Nanostring miRNA Array on postnatal 0 day mouse stomach</td><td>released</td><td>2015-11-24</td></tr><tr><td><a href=\"https://www.encodeproject.org/experiments/ENCSR523DJZ/\">experiments:ENCSR523DJZ/</a></td><td>microRNA counts</td><td>Nanostring miRNA Array on postnatal 0 day mouse thymus</td><td>released</td><td>2015-11-24</td></tr><tr><td><a href=\"https://www.encodeproject.org/experiments/ENCSR000AEK/\">experiments:ENCSR000AEK/</a></td><td>microRNA-seq</td><td>RNA Evaluation GM12878 micro RNA-seq  from Mortazavi</td><td>released</td><td>2014-11-20</td></tr><tr><td><a href=\"https://www.encodeproject.org/experiments/ENCSR000AET/\">experiments:ENCSR000AET/</a></td><td>microRNA-seq</td><td>RNA Evaluation K562 micro RNA-seq from Mortazavi</td><td>released</td><td>2014-11-20</td></tr><tr><td><a href=\"https://www.encodeproject.org/experiments/ENCSR091ZTZ/\">experiments:ENCSR091ZTZ/</a></td><td>microRNA-seq</td><td>miRNA-seq  on embryonic 11.5 day mouse cranioface</td><td>released</td><td>2016-01-06</td></tr><tr><td><a href=\"https://www.encodeproject.org/experiments/ENCSR240IDR/\">experiments:ENCSR240IDR/</a></td><td>microRNA-seq</td><td>miRNA-seq  on embryonic 11.5 day mouse forebrain</td><td>released</td><td>2016-01-06</td></tr><tr><td><a href=\"https://www.encodeproject.org/experiments/ENCSR829OXY/\">experiments:ENCSR829OXY/</a></td><td>microRNA-seq</td><td>miRNA-seq  on embryonic 11.5 day mouse heart</td><td>released</td><td>2016-02-18</td></tr><tr><td><a href=\"https://www.encodeproject.org/experiments/ENCSR900DXS/\">experiments:ENCSR900DXS/</a></td><td>microRNA-seq</td><td>miRNA-seq  on embryonic 11.5 day mouse limb</td><td>released</td><td>2016-01-06</td></tr><tr><td><a href=\"https://www.encodeproject.org/experiments/ENCSR553BCA/\">experiments:ENCSR553BCA/</a></td><td>microRNA-seq</td><td>miRNA-seq  on embryonic 11.5 day mouse neural tube</td><td>released</td><td>2016-01-06</td></tr><tr><td><a href=\"https://www.encodeproject.org/experiments/ENCSR199LBO/\">experiments:ENCSR199LBO/</a></td><td>microRNA-seq</td><td>miRNA-seq  on embryonic 14.5 day mouse cranioface</td><td>released</td><td>2016-01-06</td></tr><tr><td><a href=\"https://www.encodeproject.org/experiments/ENCSR665JCF/\">experiments:ENCSR665JCF/</a></td><td>microRNA-seq</td><td>miRNA-seq  on embryonic 14.5 day mouse forebrain</td><td>released</td><td>2016-01-06</td></tr><tr><td><a href=\"https://www.encodeproject.org/experiments/ENCSR609EDL/\">experiments:ENCSR609EDL/</a></td><td>microRNA-seq</td><td>miRNA-seq  on embryonic 14.5 day mouse heart</td><td>released</td><td>2016-01-06</td></tr><tr><td><a href=\"https://www.encodeproject.org/experiments/ENCSR677GOF/\">experiments:ENCSR677GOF/</a></td><td>microRNA-seq</td><td>miRNA-seq  on embryonic 14.5 day mouse hindbrain</td><td>released</td><td>2016-01-06</td></tr><tr><td><a href=\"https://www.encodeproject.org/experiments/ENCSR580VUW/\">experiments:ENCSR580VUW/</a></td><td>microRNA-seq</td><td>miRNA-seq  on embryonic 14.5 day mouse intestine</td><td>released</td><td>2016-01-06</td></tr><tr><td><a href=\"https://www.encodeproject.org/experiments/ENCSR497ERE/\">experiments:ENCSR497ERE/</a></td><td>microRNA-seq</td><td>miRNA-seq  on embryonic 14.5 day mouse kidney</td><td>released</td><td>2016-01-06</td></tr><tr><td><a href=\"https://www.encodeproject.org/experiments/ENCSR669XBU/\">experiments:ENCSR669XBU/</a></td><td>microRNA-seq</td><td>miRNA-seq  on embryonic 14.5 day mouse limb</td><td>released</td><td>2016-01-06</td></tr><tr><td><a href=\"https://www.encodeproject.org/experiments/ENCSR510TFQ/\">experiments:ENCSR510TFQ/</a></td><td>microRNA-seq</td><td>miRNA-seq  on embryonic 14.5 day mouse liver</td><td>released</td><td>2016-01-06</td></tr><tr><td><a href=\"https://www.encodeproject.org/experiments/ENCSR185XJA/\">experiments:ENCSR185XJA/</a></td><td>microRNA-seq</td><td>miRNA-seq  on embryonic 14.5 day mouse lung</td><td>released</td><td>2016-01-06</td></tr><tr><td><a href=\"https://www.encodeproject.org/experiments/ENCSR863FYW/\">experiments:ENCSR863FYW/</a></td><td>microRNA-seq</td><td>miRNA-seq  on embryonic 14.5 day mouse midbrain</td><td>released</td><td>2016-01-06</td></tr><tr><td><a href=\"https://www.encodeproject.org/experiments/ENCSR498DIP/\">experiments:ENCSR498DIP/</a></td><td>microRNA-seq</td><td>miRNA-seq  on embryonic 14.5 day mouse neural tube</td><td>released</td><td>2016-01-06</td></tr><tr><td><a href=\"https://www.encodeproject.org/experiments/ENCSR974QTI/\">experiments:ENCSR974QTI/</a></td><td>microRNA-seq</td><td>miRNA-seq  on embryonic 14.5 day mouse stomach</td><td>released</td><td>2016-01-06</td></tr><tr><td><a href=\"https://www.encodeproject.org/experiments/ENCSR949VVK/\">experiments:ENCSR949VVK/</a></td><td>microRNA-seq</td><td>miRNA-seq  on postnatal 0 day mouse adrenals</td><td>released</td><td>2016-02-18</td></tr><tr><td><a href=\"https://www.encodeproject.org/experiments/ENCSR694SDO/\">experiments:ENCSR694SDO/</a></td><td>microRNA-seq</td><td>miRNA-seq  on postnatal 0 day mouse bladder</td><td>released</td><td>2016-02-04</td></tr><tr><td><a href=\"https://www.encodeproject.org/experiments/ENCSR683JZO/\">experiments:ENCSR683JZO/</a></td><td>microRNA-seq</td><td>miRNA-seq  on postnatal 0 day mouse forbrain</td><td>released</td><td>2016-01-06</td></tr><tr><td><a href=\"https://www.encodeproject.org/experiments/ENCSR267CQC/\">experiments:ENCSR267CQC/</a></td><td>microRNA-seq</td><td>miRNA-seq  on postnatal 0 day mouse forebrain</td><td>released</td><td>2016-03-16</td></tr><tr><td><a href=\"https://www.encodeproject.org/experiments/ENCSR246CIO/\">experiments:ENCSR246CIO/</a></td><td>microRNA-seq</td><td>miRNA-seq  on postnatal 0 day mouse heart</td><td>released</td><td>2016-03-16</td></tr><tr><td><a href=\"https://www.encodeproject.org/experiments/ENCSR834DKI/\">experiments:ENCSR834DKI/</a></td><td>microRNA-seq</td><td>miRNA-seq  on postnatal 0 day mouse heart</td><td>released</td><td>2016-01-06</td></tr><tr><td><a href=\"https://www.encodeproject.org/experiments/ENCSR308SIN/\">experiments:ENCSR308SIN/</a></td><td>microRNA-seq</td><td>miRNA-seq  on postnatal 0 day mouse hindbrain</td><td>released</td><td>2016-03-16</td></tr><tr><td><a href=\"https://www.encodeproject.org/experiments/ENCSR832DUZ/\">experiments:ENCSR832DUZ/</a></td><td>microRNA-seq</td><td>miRNA-seq  on postnatal 0 day mouse intestine</td><td>released</td><td>2016-02-04</td></tr><tr><td><a href=\"https://www.encodeproject.org/experiments/ENCSR484EVA/\">experiments:ENCSR484EVA/</a></td><td>microRNA-seq</td><td>miRNA-seq  on postnatal 0 day mouse kidney</td><td>released</td><td>2016-02-04</td></tr><tr><td><a href=\"https://www.encodeproject.org/experiments/ENCSR456CZD/\">experiments:ENCSR456CZD/</a></td><td>microRNA-seq</td><td>miRNA-seq  on postnatal 0 day mouse liver</td><td>released</td><td>2016-02-18</td></tr><tr><td><a href=\"https://www.encodeproject.org/experiments/ENCSR161PUT/\">experiments:ENCSR161PUT/</a></td><td>microRNA-seq</td><td>miRNA-seq  on postnatal 0 day mouse lung</td><td>released</td><td>2016-02-02</td></tr><tr><td><a href=\"https://www.encodeproject.org/experiments/ENCSR353XMS/\">experiments:ENCSR353XMS/</a></td><td>microRNA-seq</td><td>miRNA-seq  on postnatal 0 day mouse midbrain</td><td>released</td><td>2016-02-18</td></tr><tr><td><a href=\"https://www.encodeproject.org/experiments/ENCSR236BQO/\">experiments:ENCSR236BQO/</a></td><td>microRNA-seq</td><td>miRNA-seq  on postnatal 0 day mouse neural tube</td><td>released</td><td>2016-02-02</td></tr><tr><td><a href=\"https://www.encodeproject.org/experiments/ENCSR242CPC/\">experiments:ENCSR242CPC/</a></td><td>microRNA-seq</td><td>miRNA-seq  on postnatal 0 day mouse skeletal muscle</td><td>released</td><td>2016-03-16</td></tr><tr><td><a href=\"https://www.encodeproject.org/experiments/ENCSR940JVJ/\">experiments:ENCSR940JVJ/</a></td><td>microRNA-seq</td><td>miRNA-seq  on postnatal 0 day mouse skeletal muscle</td><td>released</td><td>2016-01-06</td></tr><tr><td><a href=\"https://www.encodeproject.org/experiments/ENCSR538NTY/\">experiments:ENCSR538NTY/</a></td><td>microRNA-seq</td><td>miRNA-seq  on postnatal 0 day mouse stomach</td><td>released</td><td>2016-02-04</td></tr><tr><td><a href=\"https://www.encodeproject.org/experiments/ENCSR047EJT/\">experiments:ENCSR047EJT/</a></td><td>microRNA-seq</td><td>miRNA-seq  on postnatal 0 day mouse thymus</td><td>released</td><td>2016-02-02</td></tr><tr><td><a href=\"https://www.encodeproject.org/experiments/ENCSR568TUO/\">experiments:ENCSR568TUO/</a></td><td>microRNA-seq</td><td>miRNA-seq on embryonic 13.5 day mouse embryonic facial prominence</td><td>released</td><td>2016-02-23</td></tr><tr><td><a href=\"https://www.encodeproject.org/experiments/ENCSR638RNH/\">experiments:ENCSR638RNH/</a></td><td>microRNA-seq</td><td>miRNA-seq on embryonic 13.5 day mouse forebrain</td><td>released</td><td>2016-03-01</td></tr><tr><td><a href=\"https://www.encodeproject.org/experiments/ENCSR329THX/\">experiments:ENCSR329THX/</a></td><td>microRNA-seq</td><td>miRNA-seq on embryonic 13.5 day mouse heart</td><td>released</td><td>2016-02-18</td></tr><tr><td><a href=\"https://www.encodeproject.org/experiments/ENCSR179ITA/\">experiments:ENCSR179ITA/</a></td><td>microRNA-seq</td><td>miRNA-seq on embryonic 13.5 day mouse hindbrain</td><td>released</td><td>2016-02-18</td></tr><tr><td><a href=\"https://www.encodeproject.org/experiments/ENCSR354YFG/\">experiments:ENCSR354YFG/</a></td><td>microRNA-seq</td><td>miRNA-seq on embryonic 13.5 day mouse limb</td><td>released</td><td>2016-02-18</td></tr><tr><td><a href=\"https://www.encodeproject.org/experiments/ENCSR809AKO/\">experiments:ENCSR809AKO/</a></td><td>microRNA-seq</td><td>miRNA-seq on embryonic 13.5 day mouse liver</td><td>released</td><td>2016-02-23</td></tr><tr><td><a href=\"https://www.encodeproject.org/experiments/ENCSR680TRJ/\">experiments:ENCSR680TRJ/</a></td><td>microRNA-seq</td><td>miRNA-seq on embryonic 13.5 day mouse midbrain</td><td>released</td><td>2016-02-18</td></tr><tr><td><a href=\"https://www.encodeproject.org/experiments/ENCSR917VKY/\">experiments:ENCSR917VKY/</a></td><td>microRNA-seq</td><td>miRNA-seq on embryonic 13.5 day mouse neural tube</td><td>released</td><td>2016-02-23</td></tr><tr><td><a href=\"https://www.encodeproject.org/experiments/ENCSR461SRF/\">experiments:ENCSR461SRF/</a></td><td>microRNA-seq</td><td>miRNA-seq on embryonic 15.5 day mouse embryonic facial prominence</td><td>released</td><td>2016-03-16</td></tr><tr><td><a href=\"https://www.encodeproject.org/experiments/ENCSR758VDY/\">experiments:ENCSR758VDY/</a></td><td>microRNA-seq</td><td>miRNA-seq on embryonic 15.5 day mouse forebrain</td><td>released</td><td>2016-03-16</td></tr><tr><td><a href=\"https://www.encodeproject.org/experiments/ENCSR782NFL/\">experiments:ENCSR782NFL/</a></td><td>microRNA-seq</td><td>miRNA-seq on embryonic 15.5 day mouse heart</td><td>released</td><td>2016-03-16</td></tr><tr><td><a href=\"https://www.encodeproject.org/experiments/ENCSR110GMH/\">experiments:ENCSR110GMH/</a></td><td>microRNA-seq</td><td>miRNA-seq on embryonic 15.5 day mouse hindbrain</td><td>released</td><td>2016-03-16</td></tr><tr><td><a href=\"https://www.encodeproject.org/experiments/ENCSR008EQG/\">experiments:ENCSR008EQG/</a></td><td>microRNA-seq</td><td>miRNA-seq on embryonic 15.5 day mouse kidney</td><td>released</td><td>2016-03-16</td></tr><tr><td><a href=\"https://www.encodeproject.org/experiments/ENCSR070GAZ/\">experiments:ENCSR070GAZ/</a></td><td>microRNA-seq</td><td>miRNA-seq on embryonic 15.5 day mouse limb</td><td>released</td><td>2016-03-16</td></tr><tr><td><a href=\"https://www.encodeproject.org/experiments/ENCSR246FZV/\">experiments:ENCSR246FZV/</a></td><td>microRNA-seq</td><td>miRNA-seq on embryonic 15.5 day mouse liver</td><td>released</td><td>2016-03-16</td></tr><tr><td><a href=\"https://www.encodeproject.org/experiments/ENCSR631JEQ/\">experiments:ENCSR631JEQ/</a></td><td>microRNA-seq</td><td>miRNA-seq on embryonic 15.5 day mouse lung</td><td>released</td><td>2016-03-16</td></tr><tr><td><a href=\"https://www.encodeproject.org/experiments/ENCSR685OON/\">experiments:ENCSR685OON/</a></td><td>microRNA-seq</td><td>miRNA-seq on embryonic 15.5 day mouse midbrain</td><td>released</td><td>2016-03-16</td></tr><tr><td><a href=\"https://www.encodeproject.org/experiments/ENCSR986VCE/\">experiments:ENCSR986VCE/</a></td><td>microRNA-seq</td><td>miRNA-seq on embryonic 15.5 day mouse stomach</td><td>released</td><td>2016-03-16</td></tr><tr><td><a href=\"https://www.encodeproject.org/experiments/ENCSR212RKJ/\">experiments:ENCSR212RKJ/</a></td><td>microRNA-seq</td><td>miRNA-seq on embryonic 16.5 day mouse intestine</td><td>released</td><td>2016-03-16</td></tr><tr><td><a href=\"https://www.encodeproject.org/experiments/ENCSR396EAG/\">experiments:ENCSR396EAG/</a></td><td>microRNA-seq</td><td>miRNA-seq on embryonic 16.5 day mouse kidney</td><td>released</td><td>2016-03-16</td></tr><tr><td><a href=\"https://www.encodeproject.org/experiments/ENCSR752QGH/\">experiments:ENCSR752QGH/</a></td><td>microRNA-seq</td><td>miRNA-seq on embryonic 16.5 day mouse liver</td><td>released</td><td>2016-03-16</td></tr><tr><td><a href=\"https://www.encodeproject.org/experiments/ENCSR713JKD/\">experiments:ENCSR713JKD/</a></td><td>microRNA-seq</td><td>miRNA-seq on embryonic 16.5 day mouse lung</td><td>released</td><td>2016-03-16</td></tr><tr><td><a href=\"https://www.encodeproject.org/experiments/ENCSR335LKF/\">experiments:ENCSR335LKF/</a></td><td>microRNA-seq</td><td>miRNA-seq on embryonic 16.5 day mouse stomach</td><td>released</td><td>2016-03-16</td></tr><tr><td><a href=\"https://www.encodeproject.org/experiments/ENCSR430YFL/\">experiments:ENCSR430YFL/</a></td><td>microRNA-seq</td><td>miRNA-seq on human H1-hESC</td><td>released</td><td>2016-02-02</td></tr><tr><td><a href=\"https://www.encodeproject.org/experiments/ENCSR650SEP/\">experiments:ENCSR650SEP/</a></td><td>microRNA-seq</td><td>miRNA-seq on human HCT116</td><td>released</td><td>2016-02-04</td></tr><tr><td><a href=\"https://www.encodeproject.org/experiments/ENCSR007BDR/\">experiments:ENCSR007BDR/</a></td><td>microRNA-seq</td><td>miRNA-seq on human HUVEC</td><td>released</td><td>2016-05-20</td></tr><tr><td><a href=\"https://www.encodeproject.org/experiments/ENCSR683IDV/\">experiments:ENCSR683IDV/</a></td><td>microRNA-seq</td><td>miRNA-seq on human HepG2</td><td>released</td><td>2016-05-20</td></tr><tr><td><a href=\"https://www.encodeproject.org/experiments/ENCSR439LGW/\">experiments:ENCSR439LGW/</a></td><td>microRNA-seq</td><td>miRNA-seq on human LHCN-M2 differentiated for 7 days</td><td>released</td><td>2016-02-04</td></tr><tr><td><a href=\"https://www.encodeproject.org/experiments/ENCSR343HIX/\">experiments:ENCSR343HIX/</a></td><td>microRNA-seq</td><td>miRNA-seq on human MCF-7</td><td>released</td><td>2016-02-02</td></tr><tr><td><a href=\"https://www.encodeproject.org/experiments/ENCSR312RZV/\">experiments:ENCSR312RZV/</a></td><td>microRNA-seq</td><td>miRNA-seq on human bipolar spindle neuron</td><td>released</td><td>2016-02-02</td></tr><tr><td><a href=\"https://www.encodeproject.org/experiments/ENCSR697KHQ/\">experiments:ENCSR697KHQ/</a></td><td>microRNA-seq</td><td>miRNA-seq on human fibroblast of arm</td><td>released</td><td>2016-02-02</td></tr><tr><td><a href=\"https://www.encodeproject.org/experiments/ENCSR511YYU/\">experiments:ENCSR511YYU/</a></td><td>microRNA-seq</td><td>miRNA-seq on human neural progenitor cell</td><td>released</td><td>2016-02-02</td></tr><tr><td><a href=\"https://www.encodeproject.org/experiments/ENCSR155LSV/\">experiments:ENCSR155LSV/</a></td><td>microRNA-seq</td><td>miRNA-seq on human smooth muscle cell</td><td>released</td><td>2016-02-02</td></tr><tr><td><a href=\"https://www.encodeproject.org/experiments/ENCSR856ZFY/\">experiments:ENCSR856ZFY/</a></td><td>microRNA-seq</td><td>miRNA-seq on postnatal 0 day mouse hindbrain</td><td>released</td><td>2016-01-06</td></tr></table>"
      ],
      "text/plain": [
       "<rdfmagic.LibRdfResults at 0x7fbf5a9e0908>"
      ]
     },
     "execution_count": 12,
     "metadata": {},
     "output_type": "execute_result"
    }
   ],
   "source": [
    "%%sparql -m model -c\n",
    "select ?accession ?assay_name ?description ?status ?release\n",
    "where {\n",
    "  ?accession a experiment:Experiment ;\n",
    "             rdf:description ?description ;\n",
    "             experiment:assay_term_name ?assay_name ;\n",
    "             experiment:status ?status .\n",
    "  OPTIONAL { ?accession experiment:date_released ?release .}\n",
    "}\n",
    "order by ?status ?description"
   ]
  },
  {
   "cell_type": "markdown",
   "metadata": {},
   "source": [
    "# Current Encode3 Library status"
   ]
  },
  {
   "cell_type": "code",
   "execution_count": 12,
   "metadata": {
    "collapsed": false
   },
   "outputs": [
    {
     "data": {
      "text/html": [
       "<table><tr><td>p</td><td>o</td></tr><tr><td><a href=\"http://www.w3.org/1999/02/22-rdf-syntax-ns#type\">rdf:type</a></td><td><a href=\"https://www.encodeproject.org/profiles/Organism.json#Organism\">https://www.encodeproject.org/profiles/Organism.json#Organism</a></td></tr><tr><td><a href=\"http://www.w3.org/1999/02/22-rdf-syntax-ns#type\">rdf:type</a></td><td><a href=\"https://www.encodeproject.org/profiles/Organism.json#Item\">https://www.encodeproject.org/profiles/Organism.json#Item</a></td></tr><tr><td><a href=\"https://www.encodeproject.org/profiles/Organism.json#name\">https://www.encodeproject.org/profiles/Organism.json#name</a></td><td>mouse</td></tr><tr><td><a href=\"https://www.encodeproject.org/profiles/Organism.json#schema_version\">https://www.encodeproject.org/profiles/Organism.json#schema_version</a></td><td>2</td></tr><tr><td><a href=\"https://www.encodeproject.org/profiles/Organism.json#scientific_name\">https://www.encodeproject.org/profiles/Organism.json#scientific_name</a></td><td>Mus musculus</td></tr><tr><td><a href=\"https://www.encodeproject.org/profiles/Organism.json#status\">https://www.encodeproject.org/profiles/Organism.json#status</a></td><td>current</td></tr><tr><td><a href=\"https://www.encodeproject.org/profiles/Organism.json#taxon_id\">https://www.encodeproject.org/profiles/Organism.json#taxon_id</a></td><td>10090</td></tr><tr><td><a href=\"https://www.encodeproject.org/profiles/Organism.json#uuid\">https://www.encodeproject.org/profiles/Organism.json#uuid</a></td><td>3413218c-3d86-498b-a0a2-9a406638e786</td></tr></table>"
      ],
      "text/plain": [
       "<rdfmagic.LibRdfResults at 0x7f80a6a61940>"
      ]
     },
     "execution_count": 12,
     "metadata": {},
     "output_type": "execute_result"
    }
   ],
   "source": [
    "%%sparql -m model\n",
    "select ?p ?o\n",
    "where {\n",
    "    <https://www.encodeproject.org/organisms/mouse/> ?p ?o\n",
    "}"
   ]
  },
  {
   "cell_type": "code",
   "execution_count": 13,
   "metadata": {
    "collapsed": false
   },
   "outputs": [
    {
     "name": "stdout",
     "output_type": "stream",
     "text": [
      "Found 0 rows.\n"
     ]
    }
   ],
   "source": [
    "%%sparql -m model -c -o biosamples\n",
    "select ?biosample ?organism ?name\n",
    "where {\n",
    "    ?biosample a biosample:Biosample ;\n",
    "               biosample:organism ?organism .\n",
    "    ?organism a <https://www.encodeproject.org/profiles/organism.json#organism> ;\n",
    "              <https://www.encodeproject.org/profiles/organism.json#name> ?name .\n",
    "}"
   ]
  },
  {
   "cell_type": "code",
   "execution_count": 14,
   "metadata": {
    "collapsed": true
   },
   "outputs": [],
   "source": [
    "biosample_map = {\n",
    "    str(row['biosample']): str(row['name']) for row in biosamples\n",
    "}\n",
    "\n",
    "#for row in biosamples:\n",
    "#    bio = str(row['biosample'])\n",
    "#    name = str(row['name'])\n",
    "#    biosample_map[bio] = name"
   ]
  },
  {
   "cell_type": "code",
   "execution_count": null,
   "metadata": {
    "collapsed": false
   },
   "outputs": [],
   "source": [
    "%%sparql -m model -c -o library_status\n",
    "select ?experiment ?library ?biosample ?description ?alias ?status ?created ?date_released\n",
    "where {\n",
    "  ?experiment a experiment:Experiment ;\n",
    "             rdf:description ?description ;\n",
    "             experiment:status ?status ;\n",
    "             experiment:replicates ?replicate .\n",
    "   OPTIONAL { ?experiment experiment:date_released ?date_released .} \n",
    "   ?replicate replicate:library ?library .\n",
    "   ?library library:date_created ?created ;\n",
    "            library:biosample ?biosample .\n",
    "   \n",
    "   OPTIONAL { ?library library:aliases ?alias . }\n",
    "}\n",
    "order by ?created ?experiment"
   ]
  },
  {
   "cell_type": "code",
   "execution_count": null,
   "metadata": {
    "collapsed": false
   },
   "outputs": [],
   "source": [
    "records = []\n",
    "for row in library_status:\n",
    "    record = { k: str(row[k]) for k in row }\n",
    "    #record['alias'] = record['alias'].replace('barbara-wold:', '')\n",
    "    record['created'] = record['created'][:10]\n",
    "    record['organism'] = biosample_map.get(record['biosample'], None)\n",
    "    records.append(record)\n",
    "librarydf = pandas.DataFrame(records, \n",
    "                             columns=['experiment', 'library', 'alias', 'organism', 'description', 'status', 'created'],\n",
    "                             )"
   ]
  },
  {
   "cell_type": "code",
   "execution_count": null,
   "metadata": {
    "collapsed": false
   },
   "outputs": [],
   "source": [
    "librarydf.to_excel('/tmp/library.xlsx', index=False)"
   ]
  },
  {
   "cell_type": "markdown",
   "metadata": {},
   "source": [
    "# Current Encode 3 File status"
   ]
  },
  {
   "cell_type": "code",
   "execution_count": null,
   "metadata": {
    "collapsed": false
   },
   "outputs": [],
   "source": [
    "%%sparql -m model -c -o file_status\n",
    "select distinct ?experiment ?description ?status ?created\n",
    "where {\n",
    "  ?experiment a experiment:Experiment ;\n",
    "             rdf:description ?description ;\n",
    "             experiment:status ?status ;\n",
    "             experiment:files ?file .\n",
    "   ?file file:date_created ?created ;\n",
    "         file:status ?status .\n",
    "}\n",
    "order by ?created ?status"
   ]
  },
  {
   "cell_type": "code",
   "execution_count": null,
   "metadata": {
    "collapsed": false
   },
   "outputs": [],
   "source": [
    "%%sparql -m model\n",
    "select ?p ?o \n",
    "where {\n",
    "  <https://www.encodeproject.org/libraries/ENCLB646JVH/> ?p ?o.\n",
    "}"
   ]
  },
  {
   "cell_type": "code",
   "execution_count": null,
   "metadata": {
    "collapsed": false
   },
   "outputs": [],
   "source": [
    "%%sparql -m model\n",
    "select ?p ?o \n",
    "where {\n",
    "    <https://www.encodeproject.org/experiments/ENCSR950BNG/> ?p ?o\n",
    "}"
   ]
  },
  {
   "cell_type": "code",
   "execution_count": null,
   "metadata": {
    "collapsed": false
   },
   "outputs": [],
   "source": [
    "%%sparql -m model\n",
    "select ?p ?o\n",
    "where {\n",
    "    <https://www.encodeproject.org/replicates/a37a8cff-5bf7-47fc-b9a0-fa2aafebb9c3/> ?p ?o .\n",
    "}"
   ]
  },
  {
   "cell_type": "code",
   "execution_count": null,
   "metadata": {
    "collapsed": false
   },
   "outputs": [],
   "source": [
    "%%sparql -m model\n",
    "select ?p ?o \n",
    "where {\n",
    "  <https://www.encodeproject.org/biosamples/ENCBS616ZXC/> ?p ?o\n",
    "    }"
   ]
  },
  {
   "cell_type": "code",
   "execution_count": null,
   "metadata": {
    "collapsed": true
   },
   "outputs": [],
   "source": []
  }
 ],
 "metadata": {
  "kernelspec": {
   "display_name": "Python 3",
   "language": "python",
   "name": "python3"
  },
  "language_info": {
   "codemirror_mode": {
    "name": "ipython",
    "version": 3
   },
   "file_extension": ".py",
   "mimetype": "text/x-python",
   "name": "python",
   "nbconvert_exporter": "python",
   "pygments_lexer": "ipython3",
   "version": "3.5.1+"
  }
 },
 "nbformat": 4,
 "nbformat_minor": 0
}
