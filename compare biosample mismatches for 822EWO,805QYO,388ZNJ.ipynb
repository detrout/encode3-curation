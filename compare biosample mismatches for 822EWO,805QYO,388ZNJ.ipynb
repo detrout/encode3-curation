{
 "cells": [
  {
   "cell_type": "markdown",
   "metadata": {},
   "source": [
    "There were several mismatches"
   ]
  },
  {
   "cell_type": "code",
   "execution_count": 1,
   "metadata": {
    "collapsed": true
   },
   "outputs": [],
   "source": [
    "import pandas\n",
    "import os\n",
    "import django"
   ]
  },
  {
   "cell_type": "code",
   "execution_count": 2,
   "metadata": {
    "collapsed": true
   },
   "outputs": [],
   "source": [
    "from curation_common import *"
   ]
  },
  {
   "cell_type": "code",
   "execution_count": 3,
   "metadata": {
    "collapsed": true
   },
   "outputs": [],
   "source": [
    "server = ENCODED('www.encodeproject.org')\n",
    "server.load_netrc()"
   ]
  },
  {
   "cell_type": "code",
   "execution_count": 4,
   "metadata": {
    "collapsed": true
   },
   "outputs": [],
   "source": [
    "if not 'DJANGO_SETTINGS_MODULE' in os.environ:\n",
    "    os.environ['DJANGO_SETTINGS_MODULE'] = 'htsworkflow.settings.myrada'\n",
    "django.setup()"
   ]
  },
  {
   "cell_type": "code",
   "execution_count": 5,
   "metadata": {
    "collapsed": false
   },
   "outputs": [],
   "source": [
    "import samples.models"
   ]
  },
  {
   "cell_type": "code",
   "execution_count": 12,
   "metadata": {
    "collapsed": false
   },
   "outputs": [
    {
     "name": "stdout",
     "output_type": "stream",
     "text": [
      "/experiments/ENCSR822EWO\n",
      "Exp biosample: cortical layer V\n",
      "   /libraries/ENCLB646JVH/ 13446 cerebellar granule layer\n",
      "  Biosample: LCMD-504_Mm_Castaneus_x_C57Bl-granule-layer 30 purkinje cell area equivalent\n",
      "  Jumpgate: Illumina index__N704_N501_Paired_ends_LC 504_Mm Castaneus X C57Bl granule layer area dissection_\n",
      "   /libraries/ENCLB021ACJ/ 13445 cerebellar granule layer\n",
      "  Biosample: LCMD-503_Mm_Castaneus_x_C57Bl-granule-layer 30 purkinje cell area equivalent\n",
      "  Jumpgate: Illumina index__N703_N501_Paired_ends_LC 503_Mm Castaneus X C57Bl granule layer area dissection_\n",
      "\n",
      "/experiments/ENCSR805QYO\n",
      "Exp biosample: cortical layer V\n",
      "   /libraries/ENCLB174HTP/ 13444 cerebellum Purkinje cell layer\n",
      "  Biosample: LCMD-502_Mm_Castaneus_x_C57Bl-Purkinje-30-pool\n",
      "  Jumpgate: Illumina index__N702_N504_Paired_ends_LC 502_Mm Castaneus X C57Bl Purkinje 30 pool_\n",
      "   /libraries/ENCLB765OGT/ 13443 cerebellum Purkinje cell layer\n",
      "  Biosample: LCMD-501_Mm_Castaneus_x_C57Bl-Purkinje-30-pool\n",
      "  Jumpgate: Illumina index__N701_N504_Paired_ends_LC 501_Mm Castaneus X C57Bl Purkinje 30 pool_\n",
      "\n",
      "/experiments/ENCSR388ZNJ\n",
      "Exp biosample: cortical layer V\n",
      "   /libraries/ENCLB869UHR/ 15096 liver\n",
      "  Biosample: Human liver tissue obtained from a healthy, 4 year old female donor\n",
      "  Jumpgate: Illumina index__703_502_Paired_ends__human liver_STL010_10ngs_\n",
      "   /libraries/ENCLB420PUQ/ 15097 liver\n",
      "  Biosample: Human liver Tissue obtained from a healthy, 32 year old Caucasian male donor\n",
      "  Jumpgate: Illumina index__704_503_Paired_ends__human liver_STL011_10ngs_\n",
      "\n"
     ]
    }
   ],
   "source": [
    "for exp_id in ['/experiments/ENCSR822EWO', '/experiments/ENCSR805QYO', '/experiments/ENCSR388ZNJ']:\n",
    "    experiment = server.get_json(exp_id)\n",
    "    print(exp_id)\n",
    "    print(\"Exp biosample:\", experiment['biosample_term_name'])\n",
    "    for rep in experiment['replicates']:\n",
    "        library = rep['library']\n",
    "        alias = library['aliases'][0].replace('barbara-wold:', '')\n",
    "        jumpgate = samples.models.Library.objects.get(pk=alias)\n",
    "        biosample = library['biosample']\n",
    "        print(\"  \", library['@id'], alias, biosample['biosample_term_name'])\n",
    "        \n",
    "        print('  Biosample:', biosample['description'])\n",
    "        print('  Jumpgate:', jumpgate.library_name)\n",
    "    print()\n",
    "        "
   ]
  },
  {
   "cell_type": "code",
   "execution_count": 7,
   "metadata": {
    "collapsed": false
   },
   "outputs": [
    {
     "data": {
      "text/plain": [
       "'/experiments/ENCSR388ZNJ'"
      ]
     },
     "execution_count": 7,
     "metadata": {},
     "output_type": "execute_result"
    }
   ],
   "source": [
    "exp_id"
   ]
  },
  {
   "cell_type": "code",
   "execution_count": 8,
   "metadata": {
    "collapsed": false
   },
   "outputs": [
    {
     "data": {
      "text/plain": [
       "<Library: #15096: Illumina index__703_502_Paired_ends__human liver_STL010_10ngs_>"
      ]
     },
     "execution_count": 8,
     "metadata": {},
     "output_type": "execute_result"
    }
   ],
   "source": [
    "samples.models.Library.objects.get(pk='15096')"
   ]
  },
  {
   "cell_type": "code",
   "execution_count": null,
   "metadata": {
    "collapsed": true
   },
   "outputs": [],
   "source": []
  }
 ],
 "metadata": {
  "kernelspec": {
   "display_name": "Python 3",
   "language": "python",
   "name": "python3"
  },
  "language_info": {
   "codemirror_mode": {
    "name": "ipython",
    "version": 3
   },
   "file_extension": ".py",
   "mimetype": "text/x-python",
   "name": "python",
   "nbconvert_exporter": "python",
   "pygments_lexer": "ipython3",
   "version": "3.4.3+"
  }
 },
 "nbformat": 4,
 "nbformat_minor": 0
}
