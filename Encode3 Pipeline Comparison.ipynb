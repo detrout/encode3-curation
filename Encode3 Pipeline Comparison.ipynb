{
 "metadata": {
  "name": "",
  "signature": "sha256:6ba1cecb1f417e2b4f5798f8d6180408f532a706f4169ba76da3efa5eeee8109"
 },
 "nbformat": 3,
 "nbformat_minor": 0,
 "worksheets": [
  {
   "cells": [
    {
     "cell_type": "heading",
     "level": 1,
     "metadata": {},
     "source": [
      "Fastqs"
     ]
    },
    {
     "cell_type": "markdown",
     "metadata": {},
     "source": [
      "This notebook was an attempt to match fastqs on my filesystem with fastqs sent to the pipeline comparison ftp site."
     ]
    },
    {
     "cell_type": "raw",
     "metadata": {},
     "source": [
      "ENCLB045ZZZ\n",
      "ENCLB046ZZZ\n",
      "ENCLB063ZZZ\n",
      "ENCLB064ZZZ\n",
      "ENCLB043ZZZ\n",
      "ENCLB044ZZZ\n",
      "ENCLB061ZZZ\n",
      "ENCLB062ZZZ"
     ]
    },
    {
     "cell_type": "code",
     "collapsed": false,
     "input": [
      "import RDF\n",
      "import os\n",
      "import sys"
     ],
     "language": "python",
     "metadata": {},
     "outputs": [],
     "prompt_number": 1
    },
    {
     "cell_type": "code",
     "collapsed": false,
     "input": [
      "%load_ext rdfmagic"
     ],
     "language": "python",
     "metadata": {},
     "outputs": [],
     "prompt_number": 2
    },
    {
     "cell_type": "code",
     "collapsed": false,
     "input": [
      "%addns encode3 http://jumpgate.caltech.edu/wiki/Encode3#\n",
      "%addns geosoft http://www.ncbi.nlm.nih.gov/geo/info/soft2.html#\n",
      "%addns htsw http://jumpgate.caltech.edu/wiki/LibraryOntology#\n",
      "%addns submission http://jumpgate.caltech.edu/wiki/UcscSubmissionOntology#\n",
      "%addns ucsc http://jumpgate.caltech.edu/wiki/UcscDaf#"
     ],
     "language": "python",
     "metadata": {},
     "outputs": [],
     "prompt_number": 3
    },
    {
     "cell_type": "code",
     "collapsed": false,
     "input": [
      "model = RDF.Model(RDF.MemoryStorage())"
     ],
     "language": "python",
     "metadata": {},
     "outputs": [],
     "prompt_number": 4
    },
    {
     "cell_type": "code",
     "collapsed": false,
     "input": [
      "project_dir = os.getcwd()"
     ],
     "language": "python",
     "metadata": {},
     "outputs": [],
     "prompt_number": 5
    },
    {
     "cell_type": "code",
     "collapsed": false,
     "input": [
      "metadata_ttl = os.path.join(project_dir, \"encode3-20130920.ttl\")\n",
      "model.load(\"file://\" + metadata_ttl, \"turtle\")"
     ],
     "language": "python",
     "metadata": {},
     "outputs": [
      {
       "metadata": {},
       "output_type": "pyout",
       "prompt_number": 6,
       "text": [
        "True"
       ]
      }
     ],
     "prompt_number": 6
    },
    {
     "cell_type": "code",
     "collapsed": false,
     "input": [
      "%%sparql -m model\n",
      "select ?s\n",
      "where {\n",
      "  ?s encode3:lab \"Wold\" .\n",
      "}"
     ],
     "language": "python",
     "metadata": {},
     "outputs": [
      {
       "html": [
        "<table><tr><td>s</td></tr><tr><td><a href=\"http://jumpgate.caltech.edu/library/13711/\">http://jumpgate.caltech.edu/library/13711/</a></td></tr><tr><td><a href=\"http://jumpgate.caltech.edu/library/13712/\">http://jumpgate.caltech.edu/library/13712/</a></td></tr><tr><td><a href=\"http://jumpgate.caltech.edu/library/13713/\">http://jumpgate.caltech.edu/library/13713/</a></td></tr><tr><td><a href=\"http://jumpgate.caltech.edu/library/13714/\">http://jumpgate.caltech.edu/library/13714/</a></td></tr><tr><td><a href=\"http://jumpgate.caltech.edu/library/13715/\">http://jumpgate.caltech.edu/library/13715/</a></td></tr><tr><td><a href=\"http://jumpgate.caltech.edu/library/13716/\">http://jumpgate.caltech.edu/library/13716/</a></td></tr><tr><td><a href=\"http://jumpgate.caltech.edu/library/13717/\">http://jumpgate.caltech.edu/library/13717/</a></td></tr><tr><td><a href=\"http://jumpgate.caltech.edu/library/13718/\">http://jumpgate.caltech.edu/library/13718/</a></td></tr></table>"
       ],
       "metadata": {},
       "output_type": "pyout",
       "prompt_number": 7,
       "text": [
        "<rdfmagic.LibRdfResults at 0x7f27bc106290>"
       ]
      }
     ],
     "prompt_number": 7
    },
    {
     "cell_type": "code",
     "collapsed": false,
     "input": [
      "%%sparql -m model\n",
      "select ?p ?o\n",
      "where {\n",
      "  <http://jumpgate.caltech.edu/library/13713/> ?p ?o .\n",
      "}\n",
      "order by ?p"
     ],
     "language": "python",
     "metadata": {},
     "outputs": [
      {
       "html": [
        "<table><tr><td>p</td><td>o</td></tr><tr><td><a href=\"http://jumpgate.caltech.edu/wiki/Encode3#assay\">encode3:assay</a></td><td>Long RNA-Seq</td></tr><tr><td><a href=\"http://jumpgate.caltech.edu/wiki/Encode3#dataset_id\">encode3:dataset_id</a></td><td>ENCSR000AEH</td></tr><tr><td><a href=\"http://jumpgate.caltech.edu/wiki/Encode3#lab\">encode3:lab</a></td><td>Wold</td></tr><tr><td><a href=\"http://jumpgate.caltech.edu/wiki/Encode3#library_id\">encode3:library_id</a></td><td>ENCLB045ZZZ</td></tr><tr><td><a href=\"http://jumpgate.caltech.edu/wiki/Encode3#protocol\">encode3:protocol</a></td><td>SMARTSeq</td></tr><tr><td><a href=\"http://jumpgate.caltech.edu/wiki/Encode3#rna_type\">encode3:rna_type</a></td><td>Poly-A+</td></tr><tr><td><a href=\"http://jumpgate.caltech.edu/wiki/LibraryOntology#affiliation\">htsw:affiliation</a></td><td>Brian Williams</td></tr><tr><td><a href=\"http://jumpgate.caltech.edu/wiki/LibraryOntology#cell_line\">htsw:cell_line</a></td><td>GM12878</td></tr><tr><td><a href=\"http://jumpgate.caltech.edu/wiki/LibraryOntology#concentration\">htsw:concentration</a></td><td>13.5 ng/\u00b5l</td></tr><tr><td><a href=\"http://jumpgate.caltech.edu/wiki/LibraryOntology#date\">htsw:date</a></td><td>2013-05-08T00:00:00</td></tr><tr><td><a href=\"http://jumpgate.caltech.edu/wiki/LibraryOntology#experiment_type\">htsw:experiment_type</a></td><td>RNA-seq</td></tr><tr><td><a href=\"http://jumpgate.caltech.edu/wiki/LibraryOntology#gel_cut\">htsw:gel_cut</a></td><td>450</td></tr><tr><td><a href=\"http://jumpgate.caltech.edu/wiki/LibraryOntology#has_lane\">htsw:has_lane</a></td><td><a href=\"http://jumpgate.caltech.edu/lane/3325\">http://jumpgate.caltech.edu/lane/3325</a></td></tr><tr><td><a href=\"http://jumpgate.caltech.edu/wiki/LibraryOntology#insert_size\">htsw:insert_size</a></td><td>350</td></tr><tr><td><a href=\"http://jumpgate.caltech.edu/wiki/LibraryOntology#library_id\">htsw:library_id</a></td><td>13713</td></tr><tr><td><a href=\"http://jumpgate.caltech.edu/wiki/LibraryOntology#library_type\">htsw:library_type</a></td><td>Dual Index Illumina</td></tr><tr><td><a href=\"http://jumpgate.caltech.edu/wiki/LibraryOntology#made_by\">htsw:made_by</a></td><td>Brian</td></tr><tr><td><a href=\"http://jumpgate.caltech.edu/wiki/LibraryOntology#multiplex_index\">htsw:multiplex_index</a></td><td>N703-N503:AGGCAGAA-TATCCTCT</td></tr><tr><td><a href=\"http://jumpgate.caltech.edu/wiki/LibraryOntology#name\">htsw:name</a></td><td>Illumina index__N703_N503_Paired_ends_RNA_Eval_GM12878rep1_mRNA_100ng_</td></tr><tr><td><a href=\"http://jumpgate.caltech.edu/wiki/LibraryOntology#replicate\">htsw:replicate</a></td><td>1</td></tr><tr><td><a href=\"http://jumpgate.caltech.edu/wiki/LibraryOntology#species_name\">htsw:species_name</a></td><td>Homo sapiens</td></tr><tr><td><a href=\"http://jumpgate.caltech.edu/wiki/LibraryOntology#stopping_point\">htsw:stopping_point</a></td><td>Completed</td></tr><tr><td><a href=\"http://jumpgate.caltech.edu/wiki/UcscDaf#enriched_in\">ucsc:enriched_in</a></td><td>exon</td></tr><tr><td><a href=\"http://jumpgate.caltech.edu/wiki/UcscDaf#genome_build\">ucsc:genome_build</a></td><td>hg19</td></tr><tr><td><a href=\"http://www.w3.org/1999/02/22-rdf-syntax-ns#type\">rdf:type</a></td><td><a href=\"http://jumpgate.caltech.edu/wiki/LibraryOntology#Library\">htsw:Library</a></td></tr><tr><td><a href=\"http://www.w3.org/1999/xhtml/vocab#stylesheet\">http://www.w3.org/1999/xhtml/vocab#stylesheet</a></td><td><a href=\"http://jumpgate.caltech.edu/static/css/app.css\">http://jumpgate.caltech.edu/static/css/app.css</a></td></tr><tr><td><a href=\"http://www.w3.org/1999/xhtml/vocab#stylesheet\">http://www.w3.org/1999/xhtml/vocab#stylesheet</a></td><td><a href=\"http://jumpgate.caltech.edu/static/css/data-browse-index.css\">http://jumpgate.caltech.edu/static/css/data-browse-index.css</a></td></tr></table>"
       ],
       "metadata": {},
       "output_type": "pyout",
       "prompt_number": 8,
       "text": [
        "<rdfmagic.LibRdfResults at 0x7f27bc106750>"
       ]
      }
     ],
     "prompt_number": 8
    },
    {
     "cell_type": "code",
     "collapsed": false,
     "input": [
      "%%sparql -m model\n",
      "select distinct ?o\n",
      "where {\n",
      "  ?s a ?o .\n",
      "}\n",
      "order by ?o"
     ],
     "language": "python",
     "metadata": {},
     "outputs": [
      {
       "output_type": "stream",
       "stream": "stderr",
       "text": [
        "/usr/lib/python2.7/dist-packages/RDF.py:2014: RedlandWarning: Variable s was bound but is unused in the query\n",
        "  results = Redland.librdf_query_execute(self._query,model._model)\n"
       ]
      },
      {
       "html": [
        "<table><tr><td>o</td></tr><tr><td><a href=\"http://jumpgate.caltech.edu/wiki/LibraryOntology#IlluminaFlowcell\">htsw:IlluminaFlowcell</a></td></tr><tr><td><a href=\"http://jumpgate.caltech.edu/wiki/LibraryOntology#IlluminaLane\">htsw:IlluminaLane</a></td></tr><tr><td><a href=\"http://jumpgate.caltech.edu/wiki/LibraryOntology#Library\">htsw:Library</a></td></tr><tr><td><a href=\"http://jumpgate.caltech.edu/wiki/LibraryOntology#Sequencer\">htsw:Sequencer</a></td></tr><tr><td><a href=\"http://jumpgate.caltech.edu/wiki/SubmissionsLog/encode3-comparison-20130920/view/FastqRead1\">http://jumpgate.caltech.edu/wiki/SubmissionsLog/encode3-comparison-20130920/view/FastqRead1</a></td></tr><tr><td><a href=\"http://jumpgate.caltech.edu/wiki/SubmissionsLog/encode3-comparison-20130920/view/FastqRead2\">http://jumpgate.caltech.edu/wiki/SubmissionsLog/encode3-comparison-20130920/view/FastqRead2</a></td></tr><tr><td><a href=\"http://jumpgate.caltech.edu/wiki/SubmissionsLog/encode3-comparison-20130920/view/alignments\">http://jumpgate.caltech.edu/wiki/SubmissionsLog/encode3-comparison-20130920/view/alignments</a></td></tr><tr><td><a href=\"http://jumpgate.caltech.edu/wiki/SubmissionsLog/encode3-comparison-20130920/view/multiMinusRead\">http://jumpgate.caltech.edu/wiki/SubmissionsLog/encode3-comparison-20130920/view/multiMinusRead</a></td></tr><tr><td><a href=\"http://jumpgate.caltech.edu/wiki/SubmissionsLog/encode3-comparison-20130920/view/multiPlusRead\">http://jumpgate.caltech.edu/wiki/SubmissionsLog/encode3-comparison-20130920/view/multiPlusRead</a></td></tr><tr><td><a href=\"http://jumpgate.caltech.edu/wiki/SubmissionsLog/encode3-comparison-20130920/view/uniqueMinusReads\">http://jumpgate.caltech.edu/wiki/SubmissionsLog/encode3-comparison-20130920/view/uniqueMinusReads</a></td></tr><tr><td><a href=\"http://jumpgate.caltech.edu/wiki/SubmissionsLog/encode3-comparison-20130920/view/uniquePlusReads\">http://jumpgate.caltech.edu/wiki/SubmissionsLog/encode3-comparison-20130920/view/uniquePlusReads</a></td></tr><tr><td><a href=\"http://jumpgate.caltech.edu/wiki/SubmissionsLog/encode3-comparison-20130920/view/uniqueReads\">http://jumpgate.caltech.edu/wiki/SubmissionsLog/encode3-comparison-20130920/view/uniqueReads</a></td></tr><tr><td><a href=\"http://jumpgate.caltech.edu/wiki/UcscSubmissionOntology#submission\">submission:submission</a></td></tr><tr><td><a href=\"http://www.ncbi.nlm.nih.gov/geo/info/soft2.html#raw\">geosoft:raw</a></td></tr><tr><td><a href=\"http://www.ncbi.nlm.nih.gov/geo/info/soft2.html#supplemental\">geosoft:supplemental</a></td></tr></table>"
       ],
       "metadata": {},
       "output_type": "pyout",
       "prompt_number": 9,
       "text": [
        "<rdfmagic.LibRdfResults at 0x7f27bc0c5b90>"
       ]
      }
     ],
     "prompt_number": 9
    },
    {
     "cell_type": "code",
     "collapsed": false,
     "input": [
      "%%sparql -m model\n",
      "select distinct ?s ?filename\n",
      "where {\n",
      "  { ?s a <http://jumpgate.caltech.edu/wiki/SubmissionsLog/encode3-comparison-20130920/view/FastqRead1> . }\n",
      "  UNION\n",
      "  { ?s a <http://jumpgate.caltech.edu/wiki/SubmissionsLog/encode3-comparison-20130920/view/FastqRead2> . }\n",
      "  ?s ucsc:filename ?filename\n",
      "  \n",
      "}"
     ],
     "language": "python",
     "metadata": {},
     "outputs": [
      {
       "html": [
        "<table><tr><td>s</td><td>filename</td></tr><tr><td><a href=\"file:///woldlab/castor/data03/home/diane/proj/submission/encode3-comparison-20130920/hg19/GM12878_Long_PolyA_SMARTseq_2x100_ENCLB045ZZZ_Wold/GM12878_Long_PolyA_SMARTseq_2x100_ENCLB045ZZZ_Wold.fastqRd1.gz\">file:///woldlab/castor/data03/home/diane/proj/submission/encode3-comparison-20130920/hg19/GM12878_Long_PolyA_SMARTseq_2x100_ENCLB045ZZZ_Wold/GM12878_Long_PolyA_SMARTseq_2x100_ENCLB045ZZZ_Wold.fastqRd1.gz</a></td><td>GM12878_Long_PolyA_SMARTseq_2x100_ENCLB045ZZZ_Wold.fastqRd1.gz</td></tr><tr><td><a href=\"file:///woldlab/castor/data03/home/diane/proj/submission/encode3-comparison-20130920/hg19/GM12878_Long_PolyA_SMARTseq_2x100_ENCLB046ZZZ_Wold/GM12878_Long_PolyA_SMARTseq_2x100_ENCLB046ZZZ_Wold.fastqRd1.gz\">file:///woldlab/castor/data03/home/diane/proj/submission/encode3-comparison-20130920/hg19/GM12878_Long_PolyA_SMARTseq_2x100_ENCLB046ZZZ_Wold/GM12878_Long_PolyA_SMARTseq_2x100_ENCLB046ZZZ_Wold.fastqRd1.gz</a></td><td>GM12878_Long_PolyA_SMARTseq_2x100_ENCLB046ZZZ_Wold.fastqRd1.gz</td></tr><tr><td><a href=\"file:///woldlab/castor/data03/home/diane/proj/submission/encode3-comparison-20130920/hg19/GM12878_Long_Total_SMARTseq_2x100_ENCLB043ZZZ_Wold/GM12878_Long_Total_SMARTseq_2x100_ENCLB043ZZZ_Wold.fastqRd1.gz\">file:///woldlab/castor/data03/home/diane/proj/submission/encode3-comparison-20130920/hg19/GM12878_Long_Total_SMARTseq_2x100_ENCLB043ZZZ_Wold/GM12878_Long_Total_SMARTseq_2x100_ENCLB043ZZZ_Wold.fastqRd1.gz</a></td><td>GM12878_Long_Total_SMARTseq_2x100_ENCLB043ZZZ_Wold.fastqRd1.gz</td></tr><tr><td><a href=\"file:///woldlab/castor/data03/home/diane/proj/submission/encode3-comparison-20130920/hg19/GM12878_Long_Total_SMARTseq_2x100_ENCLB044ZZZ_Wold/GM12878_Long_Total_SMARTseq_2x100_ENCLB044ZZZ_Wold.fastqRd1.gz\">file:///woldlab/castor/data03/home/diane/proj/submission/encode3-comparison-20130920/hg19/GM12878_Long_Total_SMARTseq_2x100_ENCLB044ZZZ_Wold/GM12878_Long_Total_SMARTseq_2x100_ENCLB044ZZZ_Wold.fastqRd1.gz</a></td><td>GM12878_Long_Total_SMARTseq_2x100_ENCLB044ZZZ_Wold.fastqRd1.gz</td></tr><tr><td><a href=\"file:///woldlab/castor/data03/home/diane/proj/submission/encode3-comparison-20130920/hg19/K562_Long_PolyA_SMARTseq_2x100_ENCLB063ZZZ_Wold/K562_Long_PolyA_SMARTseq_2x100_ENCLB063ZZZ_Wold.fastqRd1.gz\">file:///woldlab/castor/data03/home/diane/proj/submission/encode3-comparison-20130920/hg19/K562_Long_PolyA_SMARTseq_2x100_ENCLB063ZZZ_Wold/K562_Long_PolyA_SMARTseq_2x100_ENCLB063ZZZ_Wold.fastqRd1.gz</a></td><td>K562_Long_PolyA_SMARTseq_2x100_ENCLB063ZZZ_Wold.fastqRd1.gz</td></tr><tr><td><a href=\"file:///woldlab/castor/data03/home/diane/proj/submission/encode3-comparison-20130920/hg19/K562_Long_PolyA_SMARTseq_2x100_ENCLB064ZZZ_Wold/K562_Long_PolyA_SMARTseq_2x100_ENCLB064ZZZ_Wold.fastqRd1.gz\">file:///woldlab/castor/data03/home/diane/proj/submission/encode3-comparison-20130920/hg19/K562_Long_PolyA_SMARTseq_2x100_ENCLB064ZZZ_Wold/K562_Long_PolyA_SMARTseq_2x100_ENCLB064ZZZ_Wold.fastqRd1.gz</a></td><td>K562_Long_PolyA_SMARTseq_2x100_ENCLB064ZZZ_Wold.fastqRd1.gz</td></tr><tr><td><a href=\"file:///woldlab/castor/data03/home/diane/proj/submission/encode3-comparison-20130920/hg19/K562_Long_Total_SMARTseq_2x100_ENCLB061ZZZ_Wold/K562_Long_Total_SMARTseq_2x100_ENCLB061ZZZ_Wold.fastqRd1.gz\">file:///woldlab/castor/data03/home/diane/proj/submission/encode3-comparison-20130920/hg19/K562_Long_Total_SMARTseq_2x100_ENCLB061ZZZ_Wold/K562_Long_Total_SMARTseq_2x100_ENCLB061ZZZ_Wold.fastqRd1.gz</a></td><td>K562_Long_Total_SMARTseq_2x100_ENCLB061ZZZ_Wold.fastqRd1.gz</td></tr><tr><td><a href=\"file:///woldlab/castor/data03/home/diane/proj/submission/encode3-comparison-20130920/hg19/K562_Long_Total_SMARTseq_2x100_ENCLB062ZZZ_Wold/K562_Long_Total_SMARTseq_2x100_ENCLB062ZZZ_Wold.fastqRd1.gz\">file:///woldlab/castor/data03/home/diane/proj/submission/encode3-comparison-20130920/hg19/K562_Long_Total_SMARTseq_2x100_ENCLB062ZZZ_Wold/K562_Long_Total_SMARTseq_2x100_ENCLB062ZZZ_Wold.fastqRd1.gz</a></td><td>K562_Long_Total_SMARTseq_2x100_ENCLB062ZZZ_Wold.fastqRd1.gz</td></tr><tr><td><a href=\"file:///woldlab/castor/data03/home/diane/proj/submission/encode3-comparison-20130920/hg19/GM12878_Long_PolyA_SMARTseq_2x100_ENCLB045ZZZ_Wold/GM12878_Long_PolyA_SMARTseq_2x100_ENCLB045ZZZ_Wold.fastqRd2.gz\">file:///woldlab/castor/data03/home/diane/proj/submission/encode3-comparison-20130920/hg19/GM12878_Long_PolyA_SMARTseq_2x100_ENCLB045ZZZ_Wold/GM12878_Long_PolyA_SMARTseq_2x100_ENCLB045ZZZ_Wold.fastqRd2.gz</a></td><td>GM12878_Long_PolyA_SMARTseq_2x100_ENCLB045ZZZ_Wold.fastqRd2.gz</td></tr><tr><td><a href=\"file:///woldlab/castor/data03/home/diane/proj/submission/encode3-comparison-20130920/hg19/GM12878_Long_PolyA_SMARTseq_2x100_ENCLB046ZZZ_Wold/GM12878_Long_PolyA_SMARTseq_2x100_ENCLB046ZZZ_Wold.fastqRd2.gz\">file:///woldlab/castor/data03/home/diane/proj/submission/encode3-comparison-20130920/hg19/GM12878_Long_PolyA_SMARTseq_2x100_ENCLB046ZZZ_Wold/GM12878_Long_PolyA_SMARTseq_2x100_ENCLB046ZZZ_Wold.fastqRd2.gz</a></td><td>GM12878_Long_PolyA_SMARTseq_2x100_ENCLB046ZZZ_Wold.fastqRd2.gz</td></tr><tr><td><a href=\"file:///woldlab/castor/data03/home/diane/proj/submission/encode3-comparison-20130920/hg19/GM12878_Long_Total_SMARTseq_2x100_ENCLB043ZZZ_Wold/GM12878_Long_Total_SMARTseq_2x100_ENCLB043ZZZ_Wold.fastqRd2.gz\">file:///woldlab/castor/data03/home/diane/proj/submission/encode3-comparison-20130920/hg19/GM12878_Long_Total_SMARTseq_2x100_ENCLB043ZZZ_Wold/GM12878_Long_Total_SMARTseq_2x100_ENCLB043ZZZ_Wold.fastqRd2.gz</a></td><td>GM12878_Long_Total_SMARTseq_2x100_ENCLB043ZZZ_Wold.fastqRd2.gz</td></tr><tr><td><a href=\"file:///woldlab/castor/data03/home/diane/proj/submission/encode3-comparison-20130920/hg19/GM12878_Long_Total_SMARTseq_2x100_ENCLB044ZZZ_Wold/GM12878_Long_Total_SMARTseq_2x100_ENCLB044ZZZ_Wold.fastqRd2.gz\">file:///woldlab/castor/data03/home/diane/proj/submission/encode3-comparison-20130920/hg19/GM12878_Long_Total_SMARTseq_2x100_ENCLB044ZZZ_Wold/GM12878_Long_Total_SMARTseq_2x100_ENCLB044ZZZ_Wold.fastqRd2.gz</a></td><td>GM12878_Long_Total_SMARTseq_2x100_ENCLB044ZZZ_Wold.fastqRd2.gz</td></tr><tr><td><a href=\"file:///woldlab/castor/data03/home/diane/proj/submission/encode3-comparison-20130920/hg19/K562_Long_PolyA_SMARTseq_2x100_ENCLB063ZZZ_Wold/K562_Long_PolyA_SMARTseq_2x100_ENCLB063ZZZ_Wold.fastqRd2.gz\">file:///woldlab/castor/data03/home/diane/proj/submission/encode3-comparison-20130920/hg19/K562_Long_PolyA_SMARTseq_2x100_ENCLB063ZZZ_Wold/K562_Long_PolyA_SMARTseq_2x100_ENCLB063ZZZ_Wold.fastqRd2.gz</a></td><td>K562_Long_PolyA_SMARTseq_2x100_ENCLB063ZZZ_Wold.fastqRd2.gz</td></tr><tr><td><a href=\"file:///woldlab/castor/data03/home/diane/proj/submission/encode3-comparison-20130920/hg19/K562_Long_PolyA_SMARTseq_2x100_ENCLB064ZZZ_Wold/K562_Long_PolyA_SMARTseq_2x100_ENCLB064ZZZ_Wold.fastqRd2.gz\">file:///woldlab/castor/data03/home/diane/proj/submission/encode3-comparison-20130920/hg19/K562_Long_PolyA_SMARTseq_2x100_ENCLB064ZZZ_Wold/K562_Long_PolyA_SMARTseq_2x100_ENCLB064ZZZ_Wold.fastqRd2.gz</a></td><td>K562_Long_PolyA_SMARTseq_2x100_ENCLB064ZZZ_Wold.fastqRd2.gz</td></tr><tr><td><a href=\"file:///woldlab/castor/data03/home/diane/proj/submission/encode3-comparison-20130920/hg19/K562_Long_Total_SMARTseq_2x100_ENCLB061ZZZ_Wold/K562_Long_Total_SMARTseq_2x100_ENCLB061ZZZ_Wold.fastqRd2.gz\">file:///woldlab/castor/data03/home/diane/proj/submission/encode3-comparison-20130920/hg19/K562_Long_Total_SMARTseq_2x100_ENCLB061ZZZ_Wold/K562_Long_Total_SMARTseq_2x100_ENCLB061ZZZ_Wold.fastqRd2.gz</a></td><td>K562_Long_Total_SMARTseq_2x100_ENCLB061ZZZ_Wold.fastqRd2.gz</td></tr><tr><td><a href=\"file:///woldlab/castor/data03/home/diane/proj/submission/encode3-comparison-20130920/hg19/K562_Long_Total_SMARTseq_2x100_ENCLB062ZZZ_Wold/K562_Long_Total_SMARTseq_2x100_ENCLB062ZZZ_Wold.fastqRd2.gz\">file:///woldlab/castor/data03/home/diane/proj/submission/encode3-comparison-20130920/hg19/K562_Long_Total_SMARTseq_2x100_ENCLB062ZZZ_Wold/K562_Long_Total_SMARTseq_2x100_ENCLB062ZZZ_Wold.fastqRd2.gz</a></td><td>K562_Long_Total_SMARTseq_2x100_ENCLB062ZZZ_Wold.fastqRd2.gz</td></tr></table>"
       ],
       "metadata": {},
       "output_type": "pyout",
       "prompt_number": 10,
       "text": [
        "<rdfmagic.LibRdfResults at 0x7f27bc106490>"
       ]
      }
     ],
     "prompt_number": 10
    },
    {
     "cell_type": "heading",
     "level": 1,
     "metadata": {},
     "source": [
      "Find ENCODE Library Aliases"
     ]
    },
    {
     "cell_type": "code",
     "collapsed": false,
     "input": [
      "%%sparql -m model\n",
      "select ?htswhref ?lib_id ?dcclib\n",
      "where {\n",
      "  ?htswhref a htsw:Library ;\n",
      "           htsw:library_id ?lib_id ;\n",
      "           <http://jumpgate.caltech.edu/wiki/Encode3#library_id> ?dcclib .\n",
      "}\n"
     ],
     "language": "python",
     "metadata": {},
     "outputs": [
      {
       "html": [
        "<table><tr><td>htswhref</td><td>lib_id</td><td>dcclib</td></tr><tr><td><a href=\"http://jumpgate.caltech.edu/library/13711/\">http://jumpgate.caltech.edu/library/13711/</a></td><td>13711</td><td>ENCLB043ZZZ</td></tr><tr><td><a href=\"http://jumpgate.caltech.edu/library/13712/\">http://jumpgate.caltech.edu/library/13712/</a></td><td>13712</td><td>ENCLB044ZZZ</td></tr><tr><td><a href=\"http://jumpgate.caltech.edu/library/13713/\">http://jumpgate.caltech.edu/library/13713/</a></td><td>13713</td><td>ENCLB045ZZZ</td></tr><tr><td><a href=\"http://jumpgate.caltech.edu/library/13714/\">http://jumpgate.caltech.edu/library/13714/</a></td><td>13714</td><td>ENCLB046ZZZ</td></tr><tr><td><a href=\"http://jumpgate.caltech.edu/library/13715/\">http://jumpgate.caltech.edu/library/13715/</a></td><td>13715</td><td>ENCLB061ZZZ</td></tr><tr><td><a href=\"http://jumpgate.caltech.edu/library/13716/\">http://jumpgate.caltech.edu/library/13716/</a></td><td>13716</td><td>ENCLB062ZZZ</td></tr><tr><td><a href=\"http://jumpgate.caltech.edu/library/13717/\">http://jumpgate.caltech.edu/library/13717/</a></td><td>13717</td><td>ENCLB063ZZZ</td></tr><tr><td><a href=\"http://jumpgate.caltech.edu/library/13718/\">http://jumpgate.caltech.edu/library/13718/</a></td><td>13718</td><td>ENCLB064ZZZ</td></tr><tr><td><a href=\"http://jumpgate.caltech.edu/library/ENCLB035ZZZ/\">http://jumpgate.caltech.edu/library/ENCLB035ZZZ/</a></td><td>ENCLB035ZZZ</td><td>ENCLB035ZZZ</td></tr><tr><td><a href=\"http://jumpgate.caltech.edu/library/ENCLB036ZZZ/\">http://jumpgate.caltech.edu/library/ENCLB036ZZZ/</a></td><td>ENCLB036ZZZ</td><td>ENCLB036ZZZ</td></tr><tr><td><a href=\"http://jumpgate.caltech.edu/library/ENCLB037ZZZ/\">http://jumpgate.caltech.edu/library/ENCLB037ZZZ/</a></td><td>ENCLB037ZZZ</td><td>ENCLB037ZZZ</td></tr><tr><td><a href=\"http://jumpgate.caltech.edu/library/ENCLB038ZZZ/\">http://jumpgate.caltech.edu/library/ENCLB038ZZZ/</a></td><td>ENCLB038ZZZ</td><td>ENCLB038ZZZ</td></tr><tr><td><a href=\"http://jumpgate.caltech.edu/library/ENCLB039ZZZ/\">http://jumpgate.caltech.edu/library/ENCLB039ZZZ/</a></td><td>ENCLB039ZZZ</td><td>ENCLB039ZZZ</td></tr><tr><td><a href=\"http://jumpgate.caltech.edu/library/ENCLB040ZZZ/\">http://jumpgate.caltech.edu/library/ENCLB040ZZZ/</a></td><td>ENCLB040ZZZ</td><td>ENCLB040ZZZ</td></tr><tr><td><a href=\"http://jumpgate.caltech.edu/library/ENCLB041ZZZ/\">http://jumpgate.caltech.edu/library/ENCLB041ZZZ/</a></td><td>ENCLB041ZZZ</td><td>ENCLB041ZZZ</td></tr><tr><td><a href=\"http://jumpgate.caltech.edu/library/ENCLB042ZZZ/\">http://jumpgate.caltech.edu/library/ENCLB042ZZZ/</a></td><td>ENCLB042ZZZ</td><td>ENCLB042ZZZ</td></tr><tr><td><a href=\"http://jumpgate.caltech.edu/library/ENCLB053ZZZ/\">http://jumpgate.caltech.edu/library/ENCLB053ZZZ/</a></td><td>ENCLB053ZZZ</td><td>ENCLB053ZZZ</td></tr><tr><td><a href=\"http://jumpgate.caltech.edu/library/ENCLB054ZZZ/\">http://jumpgate.caltech.edu/library/ENCLB054ZZZ/</a></td><td>ENCLB054ZZZ</td><td>ENCLB054ZZZ</td></tr><tr><td><a href=\"http://jumpgate.caltech.edu/library/ENCLB055ZZZ/\">http://jumpgate.caltech.edu/library/ENCLB055ZZZ/</a></td><td>ENCLB055ZZZ</td><td>ENCLB055ZZZ</td></tr><tr><td><a href=\"http://jumpgate.caltech.edu/library/ENCLB056ZZZ/\">http://jumpgate.caltech.edu/library/ENCLB056ZZZ/</a></td><td>ENCLB056ZZZ</td><td>ENCLB056ZZZ</td></tr><tr><td><a href=\"http://jumpgate.caltech.edu/library/ENCLB057ZZZ/\">http://jumpgate.caltech.edu/library/ENCLB057ZZZ/</a></td><td>ENCLB057ZZZ</td><td>ENCLB057ZZZ</td></tr><tr><td><a href=\"http://jumpgate.caltech.edu/library/ENCLB058ZZZ/\">http://jumpgate.caltech.edu/library/ENCLB058ZZZ/</a></td><td>ENCLB058ZZZ</td><td>ENCLB058ZZZ</td></tr><tr><td><a href=\"http://jumpgate.caltech.edu/library/ENCLB059ZZZ/\">http://jumpgate.caltech.edu/library/ENCLB059ZZZ/</a></td><td>ENCLB059ZZZ</td><td>ENCLB059ZZZ</td></tr><tr><td><a href=\"http://jumpgate.caltech.edu/library/ENCLB060ZZZ/\">http://jumpgate.caltech.edu/library/ENCLB060ZZZ/</a></td><td>ENCLB060ZZZ</td><td>ENCLB060ZZZ</td></tr></table>"
       ],
       "metadata": {},
       "output_type": "pyout",
       "prompt_number": 11,
       "text": [
        "<rdfmagic.LibRdfResults at 0x7f27bc1062d0>"
       ]
      }
     ],
     "prompt_number": 11
    },
    {
     "cell_type": "code",
     "collapsed": false,
     "input": [],
     "language": "python",
     "metadata": {},
     "outputs": [],
     "prompt_number": 11
    }
   ],
   "metadata": {}
  }
 ]
}