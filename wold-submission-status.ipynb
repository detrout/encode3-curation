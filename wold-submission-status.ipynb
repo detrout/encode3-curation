{
 "metadata": {
  "name": "",
  "signature": "sha256:326a6525edf6d3e9f88837b149107390beb48237d1b5c5eecc3070c3baa6d5ee"
 },
 "nbformat": 3,
 "nbformat_minor": 0,
 "worksheets": [
  {
   "cells": [
    {
     "cell_type": "markdown",
     "metadata": {},
     "source": [
      "Whats' released?"
     ]
    },
    {
     "cell_type": "code",
     "collapsed": false,
     "input": [
      "from __future__ import print_function"
     ],
     "language": "python",
     "metadata": {},
     "outputs": [],
     "prompt_number": 1
    },
    {
     "cell_type": "code",
     "collapsed": false,
     "input": [
      "import sys\n",
      "import os\n",
      "\n",
      "import RDF"
     ],
     "language": "python",
     "metadata": {},
     "outputs": [],
     "prompt_number": 10
    },
    {
     "cell_type": "code",
     "collapsed": false,
     "input": [
      "def custom():\n",
      "    htsw_path = os.path.expanduser('~/proj/solexa/htsworkflow')\n",
      "    if htsw_path not in sys.path:\n",
      "        sys.path.append(htsw_path)\n",
      "custom()"
     ],
     "language": "python",
     "metadata": {},
     "outputs": [],
     "prompt_number": 3
    },
    {
     "cell_type": "code",
     "collapsed": false,
     "input": [
      "from htsworkflow.submission.encoded import ENCODED\n",
      "from htsworkflow.util.rdfhelp import get_model, dump_model\n",
      "from htsworkflow.util.rdfjsonld import load_into_model"
     ],
     "language": "python",
     "metadata": {},
     "outputs": [],
     "prompt_number": 4
    },
    {
     "cell_type": "code",
     "collapsed": false,
     "input": [
      "%load_ext rdfmagic"
     ],
     "language": "python",
     "metadata": {},
     "outputs": [],
     "prompt_number": 5
    },
    {
     "cell_type": "code",
     "collapsed": false,
     "input": [
      "%addns htsw http://jumpgate.caltech.edu/wiki/LibraryOntology#\n",
      "%addns library http://jumpgate.caltech.edu/library/\n",
      "%addns flowcell http://jumpgate.caltech.edu/flowcell/\n",
      "    \n",
      "%addns biosample https://www.encodedcc.org/profiles/biosample.json#\n",
      "%addns experiment https://www.encodedcc.org/profiles/experiment.json#\n",
      "%addns library https://www.encodedcc.org/profiles/library.json#\n",
      "%addns platform https://www.encodedcc.org/profiles/platform.json#\n",
      "%addns replicate https://www.encodedcc.org/profiles/replicate.json#    \n",
      "\n",
      "%addns experiments https://www.encodedcc.org/experiments/"
     ],
     "language": "python",
     "metadata": {},
     "outputs": [],
     "prompt_number": 6
    },
    {
     "cell_type": "code",
     "collapsed": false,
     "input": [
      "server = ENCODED('www.encodedcc.org')\n",
      "server.load_netrc()"
     ],
     "language": "python",
     "metadata": {},
     "outputs": [],
     "prompt_number": 8
    },
    {
     "cell_type": "code",
     "collapsed": false,
     "input": [
      "model = get_model()"
     ],
     "language": "python",
     "metadata": {},
     "outputs": [],
     "prompt_number": 11
    },
    {
     "cell_type": "code",
     "collapsed": false,
     "input": [
      "search_query = 'https://www.encodedcc.org/search/?type=experiment&lab.title=Barbara+Wold%2C+Caltech'\n",
      "experiments = server.get_json(search_query)\n",
      "_ = server.convert_search_to_jsonld(experiments)"
     ],
     "language": "python",
     "metadata": {},
     "outputs": [],
     "prompt_number": 9
    },
    {
     "cell_type": "code",
     "collapsed": false,
     "input": [
      "load_into_model(model, experiments)"
     ],
     "language": "python",
     "metadata": {},
     "outputs": [],
     "prompt_number": 12
    },
    {
     "cell_type": "code",
     "collapsed": false,
     "input": [
      "%%sparql -m model -o experiments\n",
      "select ?s\n",
      "where {\n",
      "   ?s a experiment:experiment.\n",
      "}"
     ],
     "language": "python",
     "metadata": {},
     "outputs": [],
     "prompt_number": 21
    },
    {
     "cell_type": "code",
     "collapsed": false,
     "input": [
      "for row in experiments:\n",
      "    url = str(row['s'])\n",
      "    load_into_model(model, server.get_jsonld(url))"
     ],
     "language": "python",
     "metadata": {},
     "outputs": [],
     "prompt_number": 23
    },
    {
     "cell_type": "code",
     "collapsed": false,
     "input": [
      "%%sparql -m model\n",
      "select ?accession ?assay_name ?description ?status ?release\n",
      "where {\n",
      "  ?accession a experiment:experiment ;\n",
      "             rdf:description ?description ;\n",
      "             experiment:assay_term_name ?assay_name ;\n",
      "             experiment:status ?status .\n",
      "  OPTIONAL { ?accession experiment:date_released ?release .}\n",
      "}\n",
      "order by ?status ?description"
     ],
     "language": "python",
     "metadata": {},
     "outputs": [
      {
       "html": [
        "<table><tr><td>accession</td><td>assay_name</td><td>description</td><td>status</td><td>release</td></tr><tr><td><a href=\"https://www.encodedcc.org/experiments/ENCSR000AIZ/\">experiments:ENCSR000AIZ/</a></td><td>RNA-seq</td><td>RNA-seq of a GM12878 30 cell pool</td><td>proposed</td><td>None</td></tr><tr><td><a href=\"https://www.encodedcc.org/experiments/ENCSR000AIV/\">experiments:ENCSR000AIV/</a></td><td>ChIP-seq</td><td>CEBPB ChIP-seq on mouse C2C12</td><td>released</td><td>2011-11-23</td></tr><tr><td><a href=\"https://www.encodedcc.org/experiments/ENCSR000AIB/\">experiments:ENCSR000AIB/</a></td><td>ChIP-seq</td><td>CEBPB ChIP-seq on mouse C2C12 differentiated for 60 hours</td><td>released</td><td>2011-11-23</td></tr><tr><td><a href=\"https://www.encodedcc.org/experiments/ENCSR000AIJ/\">experiments:ENCSR000AIJ/</a></td><td>ChIP-seq</td><td>CTCF ChIP-seq on mouse C2C12</td><td>released</td><td>2011-11-23</td></tr><tr><td><a href=\"https://www.encodedcc.org/experiments/ENCSR000AHX/\">experiments:ENCSR000AHX/</a></td><td>RNA-seq</td><td>Caltech RNA-seq mouse 10T1/2 EqS_2.0pct_60hr polyA+</td><td>released</td><td>2012-05-07</td></tr><tr><td><a href=\"https://www.encodedcc.org/experiments/ENCSR000AHZ/\">experiments:ENCSR000AHZ/</a></td><td>RNA-seq</td><td>Caltech RNA-seq mouse 10T1/2 NULL polyA+</td><td>released</td><td>2012-05-07</td></tr><tr><td><a href=\"https://www.encodedcc.org/experiments/ENCSR000AIA/\">experiments:ENCSR000AIA/</a></td><td>RNA-seq</td><td>Caltech RNA-seq mouse C2C12 EqS_2.0pct_60hr polyA+</td><td>released</td><td>2012-05-07</td></tr><tr><td><a href=\"https://www.encodedcc.org/experiments/ENCSR000AHY/\">experiments:ENCSR000AHY/</a></td><td>RNA-seq</td><td>Caltech RNA-seq mouse C2C12 NULL polyA+</td><td>released</td><td>2012-05-07</td></tr><tr><td><a href=\"https://www.encodedcc.org/experiments/ENCSR000EYN/\">experiments:ENCSR000EYN/</a></td><td>RNA-seq</td><td>Caltech human GM12878 RNA-seq  insertLength=200 readType=2x75</td><td>released</td><td>2012-01-17</td></tr><tr><td><a href=\"https://www.encodedcc.org/experiments/ENCSR077AZT/\">experiments:ENCSR077AZT/</a></td><td>RNA-seq</td><td>Caltech human GM12878 RNA-seq insertLength=400 readType=2x75</td><td>released</td><td>2011-02-08</td></tr><tr><td><a href=\"https://www.encodedcc.org/experiments/ENCSR297UBP/\">experiments:ENCSR297UBP/</a></td><td>RNA-seq</td><td>Caltech human GM12878 RNA-seq readType=1x75D</td><td>released</td><td>2011-02-08</td></tr><tr><td><a href=\"https://www.encodedcc.org/experiments/ENCSR000CWK/\">experiments:ENCSR000CWK/</a></td><td>RNA-seq</td><td>Caltech human GM12891 RNA-seq  insertLength=200 readType=2x75</td><td>released</td><td>2012-01-17</td></tr><tr><td><a href=\"https://www.encodedcc.org/experiments/ENCSR000CWL/\">experiments:ENCSR000CWL/</a></td><td>RNA-seq</td><td>Caltech human GM12892 RNA-seq  insertLength=200 readType=2x75</td><td>released</td><td>2012-01-17</td></tr><tr><td><a href=\"https://www.encodedcc.org/experiments/ENCSR000EYP/\">experiments:ENCSR000EYP/</a></td><td>RNA-seq</td><td>Caltech human H1-hESC RNA-seq  insertLength=200 readType=2x75</td><td>released</td><td>2012-01-17</td></tr><tr><td><a href=\"https://www.encodedcc.org/experiments/ENCSR962TBJ/\">experiments:ENCSR962TBJ/</a></td><td>RNA-seq</td><td>Caltech human H1-hESC RNA-seq insertLength=400 readType=2x75</td><td>released</td><td>2012-01-17</td></tr><tr><td><a href=\"https://www.encodedcc.org/experiments/ENCSR643QIZ/\">experiments:ENCSR643QIZ/</a></td><td>RNA-seq</td><td>Caltech human H1-hESC RNA-seq readType=1x75D</td><td>released</td><td>2011-02-08</td></tr><tr><td><a href=\"https://www.encodedcc.org/experiments/ENCSR000CWM/\">experiments:ENCSR000CWM/</a></td><td>RNA-seq</td><td>Caltech human HCT-116 RNA-seq  insertLength=200 readType=2x75</td><td>released</td><td>2012-01-17</td></tr><tr><td><a href=\"https://www.encodedcc.org/experiments/ENCSR000CWN/\">experiments:ENCSR000CWN/</a></td><td>RNA-seq</td><td>Caltech human HSMM RNA-seq  insertLength=200 readType=2x75</td><td>released</td><td>2012-01-17</td></tr><tr><td><a href=\"https://www.encodedcc.org/experiments/ENCSR000EYS/\">experiments:ENCSR000EYS/</a></td><td>RNA-seq</td><td>Caltech human HUVEC RNA-seq  insertLength=200 readType=2x75</td><td>released</td><td>2012-01-17</td></tr><tr><td><a href=\"https://www.encodedcc.org/experiments/ENCSR654UPQ/\">experiments:ENCSR654UPQ/</a></td><td>RNA-seq</td><td>Caltech human HUVEC RNA-seq readType=1x75D</td><td>released</td><td>2012-01-17</td></tr><tr><td><a href=\"https://www.encodedcc.org/experiments/ENCSR000EYQ/\">experiments:ENCSR000EYQ/</a></td><td>RNA-seq</td><td>Caltech human HeLa-S3 RNA-seq  insertLength=200 readType=2x75</td><td>released</td><td>2012-01-17</td></tr><tr><td><a href=\"https://www.encodedcc.org/experiments/ENCSR552EGO/\">experiments:ENCSR552EGO/</a></td><td>RNA-seq</td><td>Caltech human HeLa-S3 RNA-seq readType=1x75D</td><td>released</td><td>2011-02-08</td></tr><tr><td><a href=\"https://www.encodedcc.org/experiments/ENCSR000EYR/\">experiments:ENCSR000EYR/</a></td><td>RNA-seq</td><td>Caltech human HepG2 RNA-seq  insertLength=200 readType=2x75</td><td>released</td><td>2012-01-17</td></tr><tr><td><a href=\"https://www.encodedcc.org/experiments/ENCSR329MHM/\">experiments:ENCSR329MHM/</a></td><td>RNA-seq</td><td>Caltech human HepG2 RNA-seq readType=1x75D</td><td>released</td><td>2011-02-08</td></tr><tr><td><a href=\"https://www.encodedcc.org/experiments/ENCSR000EYO/\">experiments:ENCSR000EYO/</a></td><td>RNA-seq</td><td>Caltech human K562 RNA-seq  insertLength=200 readType=2x75</td><td>released</td><td>2012-01-17</td></tr><tr><td><a href=\"https://www.encodedcc.org/experiments/ENCSR637VLS/\">experiments:ENCSR637VLS/</a></td><td>RNA-seq</td><td>Caltech human K562 RNA-seq readType=1x75D</td><td>released</td><td>2011-02-08</td></tr><tr><td><a href=\"https://www.encodedcc.org/experiments/ENCSR000CWQ/\">experiments:ENCSR000CWQ/</a></td><td>RNA-seq</td><td>Caltech human MCF-7 RNA-seq  insertLength=200 readType=2x75</td><td>released</td><td>2012-01-17</td></tr><tr><td><a href=\"https://www.encodedcc.org/experiments/ENCSR000EYT/\">experiments:ENCSR000EYT/</a></td><td>RNA-seq</td><td>Caltech human NHEK RNA-seq  insertLength=200 readType=2x75</td><td>released</td><td>2012-01-17</td></tr><tr><td><a href=\"https://www.encodedcc.org/experiments/ENCSR270XRV/\">experiments:ENCSR270XRV/</a></td><td>RNA-seq</td><td>Caltech human NHEK RNA-seq readType=1x75D</td><td>released</td><td>2011-02-08</td></tr><tr><td><a href=\"https://www.encodedcc.org/experiments/ENCSR000CWR/\">experiments:ENCSR000CWR/</a></td><td>RNA-seq</td><td>Caltech human NHLF RNA-seq  insertLength=200 readType=2x75</td><td>released</td><td>2012-01-17</td></tr><tr><td><a href=\"https://www.encodedcc.org/experiments/ENCSR000AJP/\">experiments:ENCSR000AJP/</a></td><td>ChIP-seq</td><td>Control ChIP-seq on mouse C2C12 (32bp)</td><td>released</td><td>2011-11-23</td></tr><tr><td><a href=\"https://www.encodedcc.org/experiments/ENCSR000AJO/\">experiments:ENCSR000AJO/</a></td><td>ChIP-seq</td><td>Control ChIP-seq on mouse C2C12 (36bp)</td><td>released</td><td>2011-11-23</td></tr><tr><td><a href=\"https://www.encodedcc.org/experiments/ENCSR000AJN/\">experiments:ENCSR000AJN/</a></td><td>ChIP-seq</td><td>Control ChIP-seq on mouse C2C12 (50bp)</td><td>released</td><td>2011-11-28</td></tr><tr><td><a href=\"https://www.encodedcc.org/experiments/ENCSR000AJQ/\">experiments:ENCSR000AJQ/</a></td><td>ChIP-seq</td><td>Control ChIP-seq on mouse C2C12 differentiated for 24 hours (32bp)</td><td>released</td><td>2011-11-28</td></tr><tr><td><a href=\"https://www.encodedcc.org/experiments/ENCSR000AJS/\">experiments:ENCSR000AJS/</a></td><td>ChIP-seq</td><td>Control ChIP-seq on mouse C2C12 differentiated for 60 hours (32bp)</td><td>released</td><td>2011-11-23</td></tr><tr><td><a href=\"https://www.encodedcc.org/experiments/ENCSR000AJT/\">experiments:ENCSR000AJT/</a></td><td>ChIP-seq</td><td>Control ChIP-seq on mouse C2C12 differentiated for 60 hours (36bp)</td><td>released</td><td>2012-05-11</td></tr><tr><td><a href=\"https://www.encodedcc.org/experiments/ENCSR000AJR/\">experiments:ENCSR000AJR/</a></td><td>ChIP-seq</td><td>Control ChIP-seq on mouse C2C12 differentiated for 60 hours (50bp)</td><td>released</td><td>2011-11-23</td></tr><tr><td><a href=\"https://www.encodedcc.org/experiments/ENCSR000AII/\">experiments:ENCSR000AII/</a></td><td>ChIP-seq</td><td>E2F4 ChIP-seq on mouse C2C12 differentiated for 60 hours</td><td>released</td><td>2011-11-23</td></tr><tr><td><a href=\"https://www.encodedcc.org/experiments/ENCSR000AIK/\">experiments:ENCSR000AIK/</a></td><td>ChIP-seq</td><td>FOSL1 ChIP-seq on mouse C2C12 FOSL1</td><td>released</td><td>2011-11-23</td></tr><tr><td><a href=\"https://www.encodedcc.org/experiments/ENCSR000AHR/\">experiments:ENCSR000AHR/</a></td><td>ChIP-seq</td><td>H3K27me3 ChIP-seq on mouse C2C12</td><td>released</td><td>2011-11-28</td></tr><tr><td><a href=\"https://www.encodedcc.org/experiments/ENCSR000AHM/\">experiments:ENCSR000AHM/</a></td><td>ChIP-seq</td><td>H3K27me3 ChIP-seq on mouse C2C12 differentiated for 60 hours</td><td>released</td><td>2011-11-28</td></tr><tr><td><a href=\"https://www.encodedcc.org/experiments/ENCSR000AHV/\">experiments:ENCSR000AHV/</a></td><td>ChIP-seq</td><td>H3K36me3 ChIP-seq on mouse C2C12 differentiated for 60 hours</td><td>released</td><td>2011-11-28</td></tr><tr><td><a href=\"https://www.encodedcc.org/experiments/ENCSR000AHL/\">experiments:ENCSR000AHL/</a></td><td>ChIP-seq</td><td>H3K3me3 ChIP-seq on mouse C2C12</td><td>released</td><td>2011-11-28</td></tr><tr><td><a href=\"https://www.encodedcc.org/experiments/ENCSR000AHS/\">experiments:ENCSR000AHS/</a></td><td>ChIP-seq</td><td>H3K4me2 ChIP-seq on mouse C2C12 differentiated for 60 hours</td><td>released</td><td>2011-11-28</td></tr><tr><td><a href=\"https://www.encodedcc.org/experiments/ENCSR000AHO/\">experiments:ENCSR000AHO/</a></td><td>ChIP-seq</td><td>H3K4me3 ChIP-seq on mouse C2C12</td><td>released</td><td>2011-11-28</td></tr><tr><td><a href=\"https://www.encodedcc.org/experiments/ENCSR000AHT/\">experiments:ENCSR000AHT/</a></td><td>ChIP-seq</td><td>H3K4me3 ChIP-seq on mouse C2C12 differentiated for 60 hours</td><td>released</td><td>2011-11-28</td></tr><tr><td><a href=\"https://www.encodedcc.org/experiments/ENCSR000AHQ/\">experiments:ENCSR000AHQ/</a></td><td>ChIP-seq</td><td>H3K79me2 ChIP-seq on mouse C2C12</td><td>released</td><td>2011-11-28</td></tr><tr><td><a href=\"https://www.encodedcc.org/experiments/ENCSR000AHN/\">experiments:ENCSR000AHN/</a></td><td>ChIP-seq</td><td>H3K79me2 ChIP-seq on mouse C2C12 differentiated for 60 hours</td><td>released</td><td>2011-11-28</td></tr><tr><td><a href=\"https://www.encodedcc.org/experiments/ENCSR000AHW/\">experiments:ENCSR000AHW/</a></td><td>ChIP-seq</td><td>H3K79me3 ChIP-seq on mouse C2C12</td><td>released</td><td>2011-11-28</td></tr><tr><td><a href=\"https://www.encodedcc.org/experiments/ENCSR000AHP/\">experiments:ENCSR000AHP/</a></td><td>ChIP-seq</td><td>H3ac ChIP-seq on mouse C2C12</td><td>released</td><td>2011-11-28</td></tr><tr><td><a href=\"https://www.encodedcc.org/experiments/ENCSR000AHU/\">experiments:ENCSR000AHU/</a></td><td>ChIP-seq</td><td>H3ac ChIP-seq on mouse C2C12 differentiated for 24 hours</td><td>released</td><td>2011-11-28</td></tr><tr><td><a href=\"https://www.encodedcc.org/experiments/ENCSR000AIO/\">experiments:ENCSR000AIO/</a></td><td>ChIP-seq</td><td>Max ChIP-seq on mouse C2C12</td><td>released</td><td>2011-11-23</td></tr><tr><td><a href=\"https://www.encodedcc.org/experiments/ENCSR000AIL/\">experiments:ENCSR000AIL/</a></td><td>ChIP-seq</td><td>Max ChIP-seq on mouse C2C12 differentiated for 60 hours</td><td>released</td><td>2011-11-23</td></tr><tr><td><a href=\"https://www.encodedcc.org/experiments/ENCSR000AIG/\">experiments:ENCSR000AIG/</a></td><td>ChIP-seq</td><td>MyoD ChIP-seq on mouse C2C12</td><td>released</td><td>2011-11-23</td></tr><tr><td><a href=\"https://www.encodedcc.org/experiments/ENCSR000AIR/\">experiments:ENCSR000AIR/</a></td><td>ChIP-seq</td><td>MyoD ChIP-seq on mouse C2C12 differentiated for 24 hours</td><td>released</td><td>2011-11-23</td></tr><tr><td><a href=\"https://www.encodedcc.org/experiments/ENCSR000AIH/\">experiments:ENCSR000AIH/</a></td><td>ChIP-seq</td><td>MyoD ChIP-seq on mouse C2C12 differentiated for 60 hours</td><td>released</td><td>2011-11-23</td></tr><tr><td><a href=\"https://www.encodedcc.org/experiments/ENCSR000AIT/\">experiments:ENCSR000AIT/</a></td><td>ChIP-seq</td><td>MyoD ChIP-seq on mouse C2C12 differentiated for 7 days</td><td>released</td><td>2011-11-23</td></tr><tr><td><a href=\"https://www.encodedcc.org/experiments/ENCSR000AIF/\">experiments:ENCSR000AIF/</a></td><td>ChIP-seq</td><td>Myogenin ChIP-seq on mouse C2C12</td><td>released</td><td>2011-11-23</td></tr><tr><td><a href=\"https://www.encodedcc.org/experiments/ENCSR000AID/\">experiments:ENCSR000AID/</a></td><td>ChIP-seq</td><td>Myogenin ChIP-seq on mouse C2C12 differentiated for 24 hours</td><td>released</td><td>2011-11-23</td></tr><tr><td><a href=\"https://www.encodedcc.org/experiments/ENCSR000AIC/\">experiments:ENCSR000AIC/</a></td><td>ChIP-seq</td><td>Myogenin ChIP-seq on mouse C2C12 differentiated for 60 hours</td><td>released</td><td>2011-11-23</td></tr><tr><td><a href=\"https://www.encodedcc.org/experiments/ENCSR000AIW/\">experiments:ENCSR000AIW/</a></td><td>ChIP-seq</td><td>Myogenin ChIP-seq on mouse C2C12 differentiated for 7 days</td><td>released</td><td>2011-11-23</td></tr><tr><td><a href=\"https://www.encodedcc.org/experiments/ENCSR000AIS/\">experiments:ENCSR000AIS/</a></td><td>ChIP-seq</td><td>NRSF ChIP-seq on mouse C2C12 differentiated for 60 hours</td><td>released</td><td>2011-11-23</td></tr><tr><td><a href=\"https://www.encodedcc.org/experiments/ENCSR000AIX/\">experiments:ENCSR000AIX/</a></td><td>ChIP-seq</td><td>POL2 ChIP-seq on mouse C2C12 differentiated for 60 hours</td><td>released</td><td>2011-11-23</td></tr><tr><td><a href=\"https://www.encodedcc.org/experiments/ENCSR000AIU/\">experiments:ENCSR000AIU/</a></td><td>ChIP-seq</td><td>POL2(phosphoS2) ChIP-seq on mouse C2C12 differentiated for 60 hours</td><td>released</td><td>2011-11-23</td></tr><tr><td><a href=\"https://www.encodedcc.org/experiments/ENCSR000CWP/\">experiments:ENCSR000CWP/</a></td><td>RNA-seq</td><td>RNA-seq on human LHCN-M2 (paired-end)</td><td>released</td><td>2012-01-17</td></tr><tr><td><a href=\"https://www.encodedcc.org/experiments/ENCSR000CWO/\">experiments:ENCSR000CWO/</a></td><td>RNA-seq</td><td>RNA-seq on human LHCN-M2 differentiated for 7 days (paired-end)</td><td>released</td><td>2012-01-17</td></tr><tr><td><a href=\"https://www.encodedcc.org/experiments/ENCSR000AIM/\">experiments:ENCSR000AIM/</a></td><td>ChIP-seq</td><td>SRF ChIP-seq on mouse C2C12 differentiated for 24 hours</td><td>released</td><td>2011-11-23</td></tr><tr><td><a href=\"https://www.encodedcc.org/experiments/ENCSR000AIN/\">experiments:ENCSR000AIN/</a></td><td>ChIP-seq</td><td>TCF12 ChIP-seq on mouse C2C12 differentiated for 60 hours</td><td>released</td><td>2011-11-23</td></tr><tr><td><a href=\"https://www.encodedcc.org/experiments/ENCSR000AIP/\">experiments:ENCSR000AIP/</a></td><td>ChIP-seq</td><td>TCF3 ChIP-seq on mouse C2C12 differentiated for 5 days</td><td>released</td><td>2011-11-23</td></tr><tr><td><a href=\"https://www.encodedcc.org/experiments/ENCSR000AIQ/\">experiments:ENCSR000AIQ/</a></td><td>ChIP-seq</td><td>USF-1 ChIP-seq on mouse C2C12</td><td>released</td><td>2011-11-23</td></tr><tr><td><a href=\"https://www.encodedcc.org/experiments/ENCSR000AIE/\">experiments:ENCSR000AIE/</a></td><td>ChIP-seq</td><td>USF-1 ChIP-seq on mouse C2C12 differentiated for 60 hours</td><td>released</td><td>2011-11-23</td></tr><tr><td><a href=\"https://www.encodedcc.org/experiments/ENCSR000AJB/\">experiments:ENCSR000AJB/</a></td><td>RNA-seq</td><td>RNA-seq of a single GM12878</td><td>started</td><td>None</td></tr><tr><td><a href=\"https://www.encodedcc.org/experiments/ENCSR000AIY/\">experiments:ENCSR000AIY/</a></td><td>RNA-seq</td><td>RNA-seq of a single GM12878 cell</td><td>started</td><td>None</td></tr><tr><td><a href=\"https://www.encodedcc.org/experiments/ENCSR000AJA/\">experiments:ENCSR000AJA/</a></td><td>RNA-seq</td><td>RNA-seq of a single GM12878 cell</td><td>started</td><td>None</td></tr><tr><td><a href=\"https://www.encodedcc.org/experiments/ENCSR000AJC/\">experiments:ENCSR000AJC/</a></td><td>RNA-seq</td><td>RNA-seq of a single GM12878 cell</td><td>started</td><td>None</td></tr><tr><td><a href=\"https://www.encodedcc.org/experiments/ENCSR000AJE/\">experiments:ENCSR000AJE/</a></td><td>RNA-seq</td><td>RNA-seq of a single GM12878 cell</td><td>started</td><td>None</td></tr><tr><td><a href=\"https://www.encodedcc.org/experiments/ENCSR000AJF/\">experiments:ENCSR000AJF/</a></td><td>RNA-seq</td><td>RNA-seq of a single GM12878 cell</td><td>started</td><td>None</td></tr><tr><td><a href=\"https://www.encodedcc.org/experiments/ENCSR000AJH/\">experiments:ENCSR000AJH/</a></td><td>RNA-seq</td><td>RNA-seq of a single GM12878 cell</td><td>started</td><td>None</td></tr><tr><td><a href=\"https://www.encodedcc.org/experiments/ENCSR184CWK/\">experiments:ENCSR184CWK/</a></td><td>RNA-seq</td><td>RNA-seq of a single GM12878 cell</td><td>started</td><td>None</td></tr><tr><td><a href=\"https://www.encodedcc.org/experiments/ENCSR625DPZ/\">experiments:ENCSR625DPZ/</a></td><td>RNA-seq</td><td>RNA-seq of a single GM12878 cell</td><td>started</td><td>None</td></tr><tr><td><a href=\"https://www.encodedcc.org/experiments/ENCSR767SOH/\">experiments:ENCSR767SOH/</a></td><td>RNA-seq</td><td>RNA-seq of a single GM12878 cell</td><td>started</td><td>None</td></tr><tr><td><a href=\"https://www.encodedcc.org/experiments/ENCSR086PHI/\">experiments:ENCSR086PHI/</a></td><td>RNA-seq</td><td>RNA-seq of a single Purkinje cell from a 20 year old human male</td><td>started</td><td>None</td></tr><tr><td><a href=\"https://www.encodedcc.org/experiments/ENCSR101GVL/\">experiments:ENCSR101GVL/</a></td><td>RNA-seq</td><td>RNA-seq of a single Purkinje cell from a 20 year old human male</td><td>started</td><td>None</td></tr><tr><td><a href=\"https://www.encodedcc.org/experiments/ENCSR124ERY/\">experiments:ENCSR124ERY/</a></td><td>RNA-seq</td><td>RNA-seq of a single Purkinje cell from a 20 year old human male</td><td>started</td><td>None</td></tr><tr><td><a href=\"https://www.encodedcc.org/experiments/ENCSR231WUP/\">experiments:ENCSR231WUP/</a></td><td>RNA-seq</td><td>RNA-seq of a single Purkinje cell from a 20 year old human male</td><td>started</td><td>None</td></tr><tr><td><a href=\"https://www.encodedcc.org/experiments/ENCSR244DNF/\">experiments:ENCSR244DNF/</a></td><td>RNA-seq</td><td>RNA-seq of a single Purkinje cell from a 20 year old human male</td><td>started</td><td>None</td></tr><tr><td><a href=\"https://www.encodedcc.org/experiments/ENCSR366QZI/\">experiments:ENCSR366QZI/</a></td><td>RNA-seq</td><td>RNA-seq of a single Purkinje cell from a 20 year old human male</td><td>started</td><td>None</td></tr><tr><td><a href=\"https://www.encodedcc.org/experiments/ENCSR376KFF/\">experiments:ENCSR376KFF/</a></td><td>RNA-seq</td><td>RNA-seq of a single Purkinje cell from a 20 year old human male</td><td>started</td><td>None</td></tr><tr><td><a href=\"https://www.encodedcc.org/experiments/ENCSR417EDR/\">experiments:ENCSR417EDR/</a></td><td>RNA-seq</td><td>RNA-seq of a single Purkinje cell from a 20 year old human male</td><td>started</td><td>None</td></tr><tr><td><a href=\"https://www.encodedcc.org/experiments/ENCSR435ROA/\">experiments:ENCSR435ROA/</a></td><td>RNA-seq</td><td>RNA-seq of a single Purkinje cell from a 20 year old human male</td><td>started</td><td>None</td></tr><tr><td><a href=\"https://www.encodedcc.org/experiments/ENCSR558LHB/\">experiments:ENCSR558LHB/</a></td><td>RNA-seq</td><td>RNA-seq of a single Purkinje cell from a 20 year old human male</td><td>started</td><td>None</td></tr><tr><td><a href=\"https://www.encodedcc.org/experiments/ENCSR561KFF/\">experiments:ENCSR561KFF/</a></td><td>RNA-seq</td><td>RNA-seq of a single Purkinje cell from a 20 year old human male</td><td>started</td><td>None</td></tr><tr><td><a href=\"https://www.encodedcc.org/experiments/ENCSR610BAM/\">experiments:ENCSR610BAM/</a></td><td>RNA-seq</td><td>RNA-seq of a single Purkinje cell from a 20 year old human male</td><td>started</td><td>None</td></tr><tr><td><a href=\"https://www.encodedcc.org/experiments/ENCSR659QHV/\">experiments:ENCSR659QHV/</a></td><td>RNA-seq</td><td>RNA-seq of a single Purkinje cell from a 20 year old human male</td><td>started</td><td>None</td></tr><tr><td><a href=\"https://www.encodedcc.org/experiments/ENCSR672QFA/\">experiments:ENCSR672QFA/</a></td><td>RNA-seq</td><td>RNA-seq of a single Purkinje cell from a 20 year old human male</td><td>started</td><td>None</td></tr><tr><td><a href=\"https://www.encodedcc.org/experiments/ENCSR724XFQ/\">experiments:ENCSR724XFQ/</a></td><td>RNA-seq</td><td>RNA-seq of a single Purkinje cell from a 20 year old human male</td><td>started</td><td>None</td></tr><tr><td><a href=\"https://www.encodedcc.org/experiments/ENCSR729ENB/\">experiments:ENCSR729ENB/</a></td><td>RNA-seq</td><td>RNA-seq of a single Purkinje cell from a 20 year old human male</td><td>started</td><td>None</td></tr><tr><td><a href=\"https://www.encodedcc.org/experiments/ENCSR828FPS/\">experiments:ENCSR828FPS/</a></td><td>RNA-seq</td><td>RNA-seq of a single Purkinje cell from a 20 year old human male</td><td>started</td><td>None</td></tr><tr><td><a href=\"https://www.encodedcc.org/experiments/ENCSR905FLM/\">experiments:ENCSR905FLM/</a></td><td>RNA-seq</td><td>RNA-seq of a single Purkinje cell from a 20 year old human male</td><td>started</td><td>None</td></tr><tr><td><a href=\"https://www.encodedcc.org/experiments/ENCSR921DSM/\">experiments:ENCSR921DSM/</a></td><td>RNA-seq</td><td>RNA-seq of a single Purkinje cell from a 20 year old human male</td><td>started</td><td>None</td></tr><tr><td><a href=\"https://www.encodedcc.org/experiments/ENCSR927DHK/\">experiments:ENCSR927DHK/</a></td><td>RNA-seq</td><td>RNA-seq of a single Purkinje cell from a 20 year old human male</td><td>started</td><td>None</td></tr><tr><td><a href=\"https://www.encodedcc.org/experiments/ENCSR673UIY/\">experiments:ENCSR673UIY/</a></td><td>RNA-seq</td><td>RNA-seq on single cell equivalents of 10 isolated and homogenized GM12878 cells</td><td>started</td><td>None</td></tr><tr><td><a href=\"https://www.encodedcc.org/experiments/ENCSR888LYA/\">experiments:ENCSR888LYA/</a></td><td>RNA-seq</td><td>RNA-seq on single cell equivalents of 20 excised and homogenized Purkinje cells from a 20 year old human male</td><td>started</td><td>None</td></tr><tr><td><a href=\"https://www.encodedcc.org/experiments/ENCSR000AEH/\">experiments:ENCSR000AEH/</a></td><td>RNA-seq</td><td>RNA Evaluation Gm12878 Long Poly-A+ RNA-seq from Wold</td><td>submitted</td><td>None</td></tr><tr><td><a href=\"https://www.encodedcc.org/experiments/ENCSR000AEG/\">experiments:ENCSR000AEG/</a></td><td>RNA-seq</td><td>RNA Evaluation Gm12878 Long Total RNA-seq from Wold</td><td>submitted</td><td>None</td></tr><tr><td><a href=\"https://www.encodedcc.org/experiments/ENCSR000AEQ/\">experiments:ENCSR000AEQ/</a></td><td>RNA-seq</td><td>RNA Evaluation K562 Long Poly-A+ RNA-seq from Wold</td><td>submitted</td><td>None</td></tr><tr><td><a href=\"https://www.encodedcc.org/experiments/ENCSR000AEP/\">experiments:ENCSR000AEP/</a></td><td>RNA-seq</td><td>RNA Evaluation K562 Long Total RNA-seq from Wold</td><td>submitted</td><td>None</td></tr><tr><td><a href=\"https://www.encodedcc.org/experiments/ENCSR000AJD/\">experiments:ENCSR000AJD/</a></td><td>RNA-seq</td><td>RNA-seq of GM12878 bulk prep of 10 ngs</td><td>submitted</td><td>None</td></tr><tr><td><a href=\"https://www.encodedcc.org/experiments/ENCSR000AJG/\">experiments:ENCSR000AJG/</a></td><td>RNA-seq</td><td>RNA-seq of a GM12878 10-11 cell pool</td><td>submitted</td><td>None</td></tr><tr><td><a href=\"https://www.encodedcc.org/experiments/ENCSR157NLF/\">experiments:ENCSR157NLF/</a></td><td>RNA-seq</td><td>RNA-seq on 30 cell pools of excised Purkinje cells from a 20 year old human male</td><td>submitted</td><td>None</td></tr><tr><td><a href=\"https://www.encodedcc.org/experiments/ENCSR900JSG/\">experiments:ENCSR900JSG/</a></td><td>RNA-seq</td><td>RNA-seq on 30 cell pools of excised Purkinje cells from a 6 year old human male</td><td>submitted</td><td>None</td></tr><tr><td><a href=\"https://www.encodedcc.org/experiments/ENCSR423XRG/\">experiments:ENCSR423XRG/</a></td><td>RNA-seq</td><td>RNA-seq on 30 cell pools of excised pyramidal cells from a 20 year old human male</td><td>submitted</td><td>None</td></tr><tr><td><a href=\"https://www.encodedcc.org/experiments/ENCSR137RHZ/\">experiments:ENCSR137RHZ/</a></td><td>RNA-seq</td><td>RNA-seq on 30 cell pools of excised pyramidal cells from a 27 year old human male</td><td>submitted</td><td>None</td></tr><tr><td><a href=\"https://www.encodedcc.org/experiments/ENCSR415JJO/\">experiments:ENCSR415JJO/</a></td><td>RNA-seq</td><td>RNA-seq on excised cerebellar granule cells from a 20 year old human male</td><td>submitted</td><td>None</td></tr><tr><td><a href=\"https://www.encodedcc.org/experiments/ENCSR313IUO/\">experiments:ENCSR313IUO/</a></td><td>RNA-seq</td><td>RNA-seq on excised cerebellar granule cells from a 6 year old human male</td><td>submitted</td><td>None</td></tr></table>"
       ],
       "metadata": {},
       "output_type": "pyout",
       "prompt_number": 35,
       "text": [
        "<rdfmagic.LibRdfResults at 0x7f4d8daf2a10>"
       ]
      }
     ],
     "prompt_number": 35
    },
    {
     "cell_type": "code",
     "collapsed": false,
     "input": [],
     "language": "python",
     "metadata": {},
     "outputs": []
    }
   ],
   "metadata": {}
  }
 ]
}