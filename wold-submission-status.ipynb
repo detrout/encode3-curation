{
 "cells": [
  {
   "cell_type": "markdown",
   "metadata": {},
   "source": [
    "Whats' released?"
   ]
  },
  {
   "cell_type": "markdown",
   "metadata": {},
   "source": [
    "# Setup"
   ]
  },
  {
   "cell_type": "code",
   "execution_count": 1,
   "metadata": {
    "collapsed": false
   },
   "outputs": [],
   "source": [
    "from __future__ import print_function"
   ]
  },
  {
   "cell_type": "code",
   "execution_count": 2,
   "metadata": {
    "collapsed": false
   },
   "outputs": [],
   "source": [
    "import sys\n",
    "import os\n",
    "from IPython.display import clear_output\n",
    "import RDF\n",
    "import pandas"
   ]
  },
  {
   "cell_type": "code",
   "execution_count": 3,
   "metadata": {
    "collapsed": false
   },
   "outputs": [],
   "source": [
    "from curation_common import *"
   ]
  },
  {
   "cell_type": "code",
   "execution_count": 4,
   "metadata": {
    "collapsed": false
   },
   "outputs": [],
   "source": [
    "from htsworkflow.util.rdfhelp import fromTypedNode"
   ]
  },
  {
   "cell_type": "code",
   "execution_count": 5,
   "metadata": {
    "collapsed": false
   },
   "outputs": [
    {
     "name": "stdout",
     "output_type": "stream",
     "text": [
      "The rdfmagic extension is already loaded. To reload it, use:\n",
      "  %reload_ext rdfmagic\n"
     ]
    }
   ],
   "source": [
    "%load_ext rdfmagic"
   ]
  },
  {
   "cell_type": "code",
   "execution_count": 6,
   "metadata": {
    "collapsed": false
   },
   "outputs": [],
   "source": [
    "server = ENCODED('www.encodeproject.org')\n",
    "server.load_netrc()"
   ]
  },
  {
   "cell_type": "code",
   "execution_count": 7,
   "metadata": {
    "collapsed": false
   },
   "outputs": [],
   "source": [
    "model = get_model(use_contexts=False)"
   ]
  },
  {
   "cell_type": "markdown",
   "metadata": {},
   "source": [
    "# Load status from DCC"
   ]
  },
  {
   "cell_type": "code",
   "execution_count": 8,
   "metadata": {
    "collapsed": false
   },
   "outputs": [
    {
     "data": {
      "text/plain": [
       "196"
      ]
     },
     "execution_count": 8,
     "metadata": {},
     "output_type": "execute_result"
    }
   ],
   "source": [
    "search = server.get_json('/search/?type=experiment&lab.title=Barbara Wold, Caltech&award.rfa=ENCODE3')\n",
    "len(search['@graph'])"
   ]
  },
  {
   "cell_type": "code",
   "execution_count": 9,
   "metadata": {
    "collapsed": false
   },
   "outputs": [
    {
     "name": "stdout",
     "output_type": "stream",
     "text": [
      "loading /experiments/ENCSR822EWO/ 0 196\n",
      "loading /experiments/ENCSR805QYO/ 1 196\n",
      "loading /experiments/ENCSR734SOQ/ 2 196\n",
      "loading /experiments/ENCSR909YEQ/ 3 196\n",
      "loading /experiments/ENCSR298YHA/ 4 196\n",
      "loading /experiments/ENCSR220HFQ/ 5 196\n",
      "loading /experiments/ENCSR650MMK/ 6 196\n",
      "loading /experiments/ENCSR953TKB/ 7 196\n",
      "loading /experiments/ENCSR295UJP/ 8 196\n",
      "loading /experiments/ENCSR323FHJ/ 9 196\n",
      "loading /experiments/ENCSR195BCE/ 10 196\n",
      "loading /experiments/ENCSR782WIL/ 11 196\n",
      "loading /experiments/ENCSR138VRG/ 12 196\n",
      "loading /experiments/ENCSR390KQJ/ 13 196\n",
      "loading /experiments/ENCSR427FOY/ 14 196\n",
      "loading /experiments/ENCSR846FYI/ 15 196\n",
      "loading /experiments/ENCSR927IOO/ 16 196\n",
      "loading /experiments/ENCSR739YUO/ 17 196\n",
      "loading /experiments/ENCSR100KRK/ 18 196\n",
      "loading /experiments/ENCSR198EIH/ 19 196\n",
      "loading /experiments/ENCSR746LUP/ 20 196\n",
      "loading /experiments/ENCSR388ZNJ/ 21 196\n",
      "loading /experiments/ENCSR331XCE/ 22 196\n",
      "loading /experiments/ENCSR178GUS/ 23 196\n",
      "loading /experiments/ENCSR772FQU/ 24 196\n",
      "loading /experiments/ENCSR946HWC/ 25 196\n",
      "loading /experiments/ENCSR982MRY/ 26 196\n",
      "loading /experiments/ENCSR526SEX/ 27 196\n",
      "loading /experiments/ENCSR438XCG/ 28 196\n",
      "loading /experiments/ENCSR667TOX/ 29 196\n",
      "loading /experiments/ENCSR017JEG/ 30 196\n",
      "loading /experiments/ENCSR719NAJ/ 31 196\n",
      "loading /experiments/ENCSR362AIZ/ 32 196\n",
      "loading /experiments/ENCSR637NLF/ 33 196\n",
      "loading /experiments/ENCSR320PXZ/ 34 196\n",
      "loading /experiments/ENCSR027CXR/ 35 196\n",
      "loading /experiments/ENCSR662UPQ/ 36 196\n",
      "loading /experiments/ENCSR521YLY/ 37 196\n",
      "loading /experiments/ENCSR559QTE/ 38 196\n",
      "loading /experiments/ENCSR527DQV/ 39 196\n",
      "loading /experiments/ENCSR167AWS/ 40 196\n",
      "loading /experiments/ENCSR708EHJ/ 41 196\n",
      "loading /experiments/ENCSR474NEW/ 42 196\n",
      "loading /experiments/ENCSR282DYQ/ 43 196\n",
      "loading /experiments/ENCSR367DUL/ 44 196\n",
      "loading /experiments/ENCSR948NDP/ 45 196\n",
      "loading /experiments/ENCSR316RMA/ 46 196\n",
      "loading /experiments/ENCSR691PPV/ 47 196\n",
      "loading /experiments/ENCSR351YGY/ 48 196\n",
      "loading /experiments/ENCSR659SFM/ 49 196\n",
      "loading /experiments/ENCSR236EGS/ 50 196\n",
      "loading /experiments/ENCSR268AXN/ 51 196\n",
      "loading /experiments/ENCSR814JMM/ 52 196\n",
      "loading /experiments/ENCSR758TAD/ 53 196\n",
      "loading /experiments/ENCSR620HJQ/ 54 196\n",
      "loading /experiments/ENCSR726VVO/ 55 196\n",
      "loading /experiments/ENCSR268IGT/ 56 196\n",
      "loading /experiments/ENCSR292IVH/ 57 196\n",
      "loading /experiments/ENCSR362OYV/ 58 196\n",
      "loading /experiments/ENCSR775HGC/ 59 196\n",
      "loading /experiments/ENCSR530UXI/ 60 196\n",
      "loading /experiments/ENCSR577ONT/ 61 196\n",
      "loading /experiments/ENCSR980SWK/ 62 196\n",
      "loading /experiments/ENCSR111QQX/ 63 196\n",
      "loading /experiments/ENCSR068SJG/ 64 196\n",
      "loading /experiments/ENCSR267LBO/ 65 196\n",
      "loading /experiments/ENCSR789RPP/ 66 196\n",
      "loading /experiments/ENCSR796QJD/ 67 196\n",
      "loading /experiments/ENCSR803PLZ/ 68 196\n",
      "loading /experiments/ENCSR194TNV/ 69 196\n",
      "loading /experiments/ENCSR284AMY/ 70 196\n",
      "loading /experiments/ENCSR160IIN/ 71 196\n",
      "loading /experiments/ENCSR579FCW/ 72 196\n",
      "loading /experiments/ENCSR739PEB/ 73 196\n",
      "loading /experiments/ENCSR290RRR/ 74 196\n",
      "loading /experiments/ENCSR039ADS/ 75 196\n",
      "loading /experiments/ENCSR504GEG/ 76 196\n",
      "loading /experiments/ENCSR932TRU/ 77 196\n",
      "loading /experiments/ENCSR867YNV/ 78 196\n",
      "loading /experiments/ENCSR727FHP/ 79 196\n",
      "loading /experiments/ENCSR823VEE/ 80 196\n",
      "loading /experiments/ENCSR216NEG/ 81 196\n",
      "loading /experiments/ENCSR928OXI/ 82 196\n",
      "loading /experiments/ENCSR559TRB/ 83 196\n",
      "loading /experiments/ENCSR343YLB/ 84 196\n",
      "loading /experiments/ENCSR185LWM/ 85 196\n",
      "loading /experiments/ENCSR691OPQ/ 86 196\n",
      "loading /experiments/ENCSR848HOX/ 87 196\n",
      "loading /experiments/ENCSR541XZK/ 88 196\n",
      "loading /experiments/ENCSR337FYI/ 89 196\n",
      "loading /experiments/ENCSR760TOE/ 90 196\n",
      "loading /experiments/ENCSR307BCA/ 91 196\n",
      "loading /experiments/ENCSR173PJN/ 92 196\n",
      "loading /experiments/ENCSR951QWU/ 93 196\n",
      "loading /experiments/ENCSR132IJG/ 94 196\n",
      "loading /experiments/ENCSR225LWF/ 95 196\n",
      "loading /experiments/ENCSR448TBE/ 96 196\n",
      "loading /experiments/ENCSR510XBP/ 97 196\n",
      "loading /experiments/ENCSR593EDV/ 98 196\n",
      "loading /experiments/ENCSR419KEN/ 99 196\n",
      "loading /experiments/ENCSR854COR/ 100 196\n",
      "loading /experiments/ENCSR365GTN/ 101 196\n",
      "loading /experiments/ENCSR150RTP/ 102 196\n",
      "loading /experiments/ENCSR630QYS/ 103 196\n",
      "loading /experiments/ENCSR391DGX/ 104 196\n",
      "loading /experiments/ENCSR913RSM/ 105 196\n",
      "loading /experiments/ENCSR457BTR/ 106 196\n",
      "loading /experiments/ENCSR083SSY/ 107 196\n",
      "loading /experiments/ENCSR371PPE/ 108 196\n",
      "loading /experiments/ENCSR863MVQ/ 109 196\n",
      "loading /experiments/ENCSR968ELO/ 110 196\n",
      "loading /experiments/ENCSR516XQA/ 111 196\n",
      "loading /experiments/ENCSR352QNT/ 112 196\n",
      "loading /experiments/ENCSR727QOY/ 113 196\n",
      "loading /experiments/ENCSR849OTL/ 114 196\n",
      "loading /experiments/ENCSR244ZEP/ 115 196\n",
      "loading /experiments/ENCSR202LWX/ 116 196\n",
      "loading /experiments/ENCSR096STK/ 117 196\n",
      "loading /experiments/ENCSR825UDE/ 118 196\n",
      "loading /experiments/ENCSR800IUG/ 119 196\n",
      "loading /experiments/ENCSR479VCZ/ 120 196\n",
      "loading /experiments/ENCSR808KCH/ 121 196\n",
      "loading /experiments/ENCSR516XOY/ 122 196\n",
      "loading /experiments/ENCSR894SKI/ 123 196\n",
      "loading /experiments/ENCSR643FBX/ 124 196\n",
      "loading /experiments/ENCSR805AZV/ 125 196\n",
      "loading /experiments/ENCSR528DTF/ 126 196\n",
      "loading /experiments/ENCSR358IBS/ 127 196\n",
      "loading /experiments/ENCSR792DJY/ 128 196\n",
      "loading /experiments/ENCSR582YQI/ 129 196\n",
      "loading /experiments/ENCSR015EJF/ 130 196\n",
      "loading /experiments/ENCSR784SMP/ 131 196\n",
      "loading /experiments/ENCSR951PAO/ 132 196\n",
      "loading /experiments/ENCSR382UMJ/ 133 196\n",
      "loading /experiments/ENCSR933YHX/ 134 196\n",
      "loading /experiments/ENCSR369OAV/ 135 196\n",
      "loading /experiments/ENCSR570ISA/ 136 196\n",
      "loading /experiments/ENCSR481OYZ/ 137 196\n",
      "loading /experiments/ENCSR645RHS/ 138 196\n",
      "loading /experiments/ENCSR946PCR/ 139 196\n",
      "loading /experiments/ENCSR907JUN/ 140 196\n",
      "loading /experiments/ENCSR510ADJ/ 141 196\n",
      "loading /experiments/ENCSR861FGB/ 142 196\n",
      "loading /experiments/ENCSR527RFK/ 143 196\n",
      "loading /experiments/ENCSR265YFZ/ 144 196\n",
      "loading /experiments/ENCSR950BNG/ 145 196\n",
      "loading /experiments/ENCSR026ZRP/ 146 196\n",
      "loading /experiments/ENCSR368QPC/ 147 196\n",
      "loading /experiments/ENCSR225BBK/ 148 196\n",
      "loading /experiments/ENCSR592MSV/ 149 196\n",
      "loading /experiments/ENCSR000OXO/ 150 196\n",
      "loading /experiments/ENCSR625DPZ/ 151 196\n",
      "loading /experiments/ENCSR767SOH/ 152 196\n",
      "loading /experiments/ENCSR184CWK/ 153 196\n",
      "loading /experiments/ENCSR417EDR/ 154 196\n",
      "loading /experiments/ENCSR672QFA/ 155 196\n",
      "loading /experiments/ENCSR101GVL/ 156 196\n",
      "loading /experiments/ENCSR905FLM/ 157 196\n",
      "loading /experiments/ENCSR610BAM/ 158 196\n",
      "loading /experiments/ENCSR124ERY/ 159 196\n",
      "loading /experiments/ENCSR659QHV/ 160 196\n",
      "loading /experiments/ENCSR366QZI/ 161 196\n",
      "loading /experiments/ENCSR244DNF/ 162 196\n",
      "loading /experiments/ENCSR927DHK/ 163 196\n",
      "loading /experiments/ENCSR435ROA/ 164 196\n",
      "loading /experiments/ENCSR231WUP/ 165 196\n",
      "loading /experiments/ENCSR828FPS/ 166 196\n",
      "loading /experiments/ENCSR729ENB/ 167 196\n",
      "loading /experiments/ENCSR724XFQ/ 168 196\n",
      "loading /experiments/ENCSR921DSM/ 169 196\n",
      "loading /experiments/ENCSR086PHI/ 170 196\n",
      "loading /experiments/ENCSR561KFF/ 171 196\n",
      "loading /experiments/ENCSR376KFF/ 172 196\n",
      "loading /experiments/ENCSR558LHB/ 173 196\n",
      "loading /experiments/ENCSR673UIY/ 174 196\n",
      "loading /experiments/ENCSR888LYA/ 175 196\n",
      "loading /experiments/ENCSR137RHZ/ 176 196\n",
      "loading /experiments/ENCSR423XRG/ 177 196\n",
      "loading /experiments/ENCSR415JJO/ 178 196\n",
      "loading /experiments/ENCSR157NLF/ 179 196\n",
      "loading /experiments/ENCSR313IUO/ 180 196\n",
      "loading /experiments/ENCSR900JSG/ 181 196\n",
      "loading /experiments/ENCSR000AEG/ 182 196\n",
      "loading /experiments/ENCSR000AEH/ 183 196\n",
      "loading /experiments/ENCSR000AEQ/ 184 196\n",
      "loading /experiments/ENCSR000AEP/ 185 196\n",
      "loading /experiments/ENCSR000AJH/ 186 196\n",
      "loading /experiments/ENCSR000AJG/ 187 196\n",
      "loading /experiments/ENCSR000AJF/ 188 196\n",
      "loading /experiments/ENCSR000AJE/ 189 196\n",
      "loading /experiments/ENCSR000AJD/ 190 196\n",
      "loading /experiments/ENCSR000AJC/ 191 196\n",
      "loading /experiments/ENCSR000AJB/ 192 196\n",
      "loading /experiments/ENCSR000AJA/ 193 196\n",
      "loading /experiments/ENCSR000AIZ/ 194 196\n",
      "loading /experiments/ENCSR000AIY/ 195 196\n"
     ]
    }
   ],
   "source": [
    "for i, row in enumerate(search['@graph']):\n",
    "    experiment_id = row['@id']\n",
    "    #clear_output()\n",
    "    print('loading', experiment_id, i, len(search['@graph']))\n",
    "    experiment = server.get_jsonld(experiment_id)\n",
    "    load_jsonld_into_model(model, experiment)"
   ]
  },
  {
   "cell_type": "markdown",
   "metadata": {},
   "source": [
    "# Current ENCODE3 Experiment Status"
   ]
  },
  {
   "cell_type": "code",
   "execution_count": 10,
   "metadata": {
    "collapsed": false
   },
   "outputs": [
    {
     "name": "stdout",
     "output_type": "stream",
     "text": [
      "Found 196 rows.\n"
     ]
    },
    {
     "data": {
      "text/html": [
       "<table><tr><td>accession</td><td>assay_name</td><td>description</td><td>status</td><td>release</td></tr><tr><td><a href=\"https://www.encodeproject.org/experiments/ENCSR516XOY/\">experiments:ENCSR516XOY/</a></td><td>RNA-seq</td><td>RNA-seq on human Betz cell obtained with histology guided laser capture micro dissection human</td><td>preliminary</td><td>None</td></tr><tr><td><a href=\"https://www.encodeproject.org/experiments/ENCSR894SKI/\">experiments:ENCSR894SKI/</a></td><td>RNA-seq</td><td>RNA-seq on human Meynert cell (solitary pyramidal neuron humans in visual cortex) obtained with histology guided laser capture micro dissection human</td><td>preliminary</td><td>None</td></tr><tr><td><a href=\"https://www.encodeproject.org/experiments/ENCSR643FBX/\">experiments:ENCSR643FBX/</a></td><td>RNA-seq</td><td>RNA-seq on human brain stem motor neuron human obtained with laser capture micro dissection human</td><td>preliminary</td><td>None</td></tr><tr><td><a href=\"https://www.encodeproject.org/experiments/ENCSR784SMP/\">experiments:ENCSR784SMP/</a></td><td>RNA-seq</td><td>RNA-seq on human brush border cell of the proximal tubule obtained with laser capture micro dissection human</td><td>preliminary</td><td>None</td></tr><tr><td><a href=\"https://www.encodeproject.org/experiments/ENCSR015EJF/\">experiments:ENCSR015EJF/</a></td><td>RNA-seq</td><td>RNA-seq on human cholangiocyte obtained with histology guided laser capture micro dissection human</td><td>preliminary</td><td>None</td></tr><tr><td><a href=\"https://www.encodeproject.org/experiments/ENCSR582YQI/\">experiments:ENCSR582YQI/</a></td><td>RNA-seq</td><td>RNA-seq on human endothelial cell of hepatic sinusoid obtained with histology guided laser capture micro dissection human</td><td>preliminary</td><td>None</td></tr><tr><td><a href=\"https://www.encodeproject.org/experiments/ENCSR369OAV/\">experiments:ENCSR369OAV/</a></td><td>RNA-seq</td><td>RNA-seq on human glomerular visceral epithelial cell obtained with laser capture micro dissection human</td><td>preliminary</td><td>None</td></tr><tr><td><a href=\"https://www.encodeproject.org/experiments/ENCSR358IBS/\">experiments:ENCSR358IBS/</a></td><td>RNA-seq</td><td>RNA-seq on human hepatic natural killer cells obtained with histology guided laser capture micro dissection human</td><td>preliminary</td><td>None</td></tr><tr><td><a href=\"https://www.encodeproject.org/experiments/ENCSR528DTF/\">experiments:ENCSR528DTF/</a></td><td>RNA-seq</td><td>RNA-seq on human hepatic oval stem cell obtained with histology guided laser capture micro dissection human</td><td>preliminary</td><td>None</td></tr><tr><td><a href=\"https://www.encodeproject.org/experiments/ENCSR792DJY/\">experiments:ENCSR792DJY/</a></td><td>RNA-seq</td><td>RNA-seq on human hepatic stellate cell obtained with histology guided laser capture micro dissection human</td><td>preliminary</td><td>None</td></tr><tr><td><a href=\"https://www.encodeproject.org/experiments/ENCSR645RHS/\">experiments:ENCSR645RHS/</a></td><td>RNA-seq</td><td>RNA-seq on human kidney collecting duct cell obtained with laser capture micro dissection human</td><td>preliminary</td><td>None</td></tr><tr><td><a href=\"https://www.encodeproject.org/experiments/ENCSR481OYZ/\">experiments:ENCSR481OYZ/</a></td><td>RNA-seq</td><td>RNA-seq on human kidney distal tubule epithelial cell obtained with laser capture micro dissection human</td><td>preliminary</td><td>None</td></tr><tr><td><a href=\"https://www.encodeproject.org/experiments/ENCSR933YHX/\">experiments:ENCSR933YHX/</a></td><td>RNA-seq</td><td>RNA-seq on human kidney interstitial cell obtained with laser capture micro dissection human</td><td>preliminary</td><td>None</td></tr><tr><td><a href=\"https://www.encodeproject.org/experiments/ENCSR951PAO/\">experiments:ENCSR951PAO/</a></td><td>RNA-seq</td><td>RNA-seq on human kidney loop of henle thick ascending limb epithelial cell obtained with laser capture micro dissection human</td><td>preliminary</td><td>None</td></tr><tr><td><a href=\"https://www.encodeproject.org/experiments/ENCSR382UMJ/\">experiments:ENCSR382UMJ/</a></td><td>RNA-seq</td><td>RNA-seq on human kidney loop of henle thin descending limb epithelial cell obtained with laser capture micro dissection human</td><td>preliminary</td><td>None</td></tr><tr><td><a href=\"https://www.encodeproject.org/experiments/ENCSR570ISA/\">experiments:ENCSR570ISA/</a></td><td>RNA-seq</td><td>RNA-seq on human parietal epithelial cell obtained with laser capture micro dissection human</td><td>preliminary</td><td>None</td></tr><tr><td><a href=\"https://www.encodeproject.org/experiments/ENCSR805AZV/\">experiments:ENCSR805AZV/</a></td><td>RNA-seq</td><td>RNA-seq on human ventral horn of spinal cord motor neuron humans obtained with laser capture micro dissection human</td><td>preliminary</td><td>None</td></tr><tr><td><a href=\"https://www.encodeproject.org/experiments/ENCSR968ELO/\">experiments:ENCSR968ELO/</a></td><td>RNA-seq</td><td>RNA-seq on mouse Kupffer cell obtained with histology guided laser capture micro dissection</td><td>preliminary</td><td>None</td></tr><tr><td><a href=\"https://www.encodeproject.org/experiments/ENCSR202LWX/\">experiments:ENCSR202LWX/</a></td><td>RNA-seq</td><td>RNA-seq on mouse cholangiocyte obtained with histology guided laser capture micro dissection</td><td>preliminary</td><td>None</td></tr><tr><td><a href=\"https://www.encodeproject.org/experiments/ENCSR083SSY/\">experiments:ENCSR083SSY/</a></td><td>RNA-seq</td><td>RNA-seq on mouse dorsal root ganglion obtained with laser capture micro dissection</td><td>preliminary</td><td>None</td></tr><tr><td><a href=\"https://www.encodeproject.org/experiments/ENCSR727QOY/\">experiments:ENCSR727QOY/</a></td><td>RNA-seq</td><td>RNA-seq on mouse endothelial cell of hepatic sinusoid obtained with histology guided laser capture micro dissection</td><td>preliminary</td><td>None</td></tr><tr><td><a href=\"https://www.encodeproject.org/experiments/ENCSR863MVQ/\">experiments:ENCSR863MVQ/</a></td><td>RNA-seq</td><td>RNA-seq on mouse hepatic natural killer cells obtained with histology guided laser capture micro dissection</td><td>preliminary</td><td>None</td></tr><tr><td><a href=\"https://www.encodeproject.org/experiments/ENCSR849OTL/\">experiments:ENCSR849OTL/</a></td><td>RNA-seq</td><td>RNA-seq on mouse hepatic oval stem cell obtained with histology guided laser capture micro dissection</td><td>preliminary</td><td>None</td></tr><tr><td><a href=\"https://www.encodeproject.org/experiments/ENCSR352QNT/\">experiments:ENCSR352QNT/</a></td><td>RNA-seq</td><td>RNA-seq on mouse hepatic stellate cell obtained with histology guided laser capture micro dissection</td><td>preliminary</td><td>None</td></tr><tr><td><a href=\"https://www.encodeproject.org/experiments/ENCSR516XQA/\">experiments:ENCSR516XQA/</a></td><td>RNA-seq</td><td>RNA-seq on mouse hepatocyte obtained with histology guided laser capture micro dissection</td><td>preliminary</td><td>None</td></tr><tr><td><a href=\"https://www.encodeproject.org/experiments/ENCSR244ZEP/\">experiments:ENCSR244ZEP/</a></td><td>RNA-seq</td><td>RNA-seq on mouse liver dendritic cell obtained with histology guided laser capture micro dissection</td><td>preliminary</td><td>None</td></tr><tr><td><a href=\"https://www.encodeproject.org/experiments/ENCSR371PPE/\">experiments:ENCSR371PPE/</a></td><td>RNA-seq</td><td>RNA-seq on mouse muscle precursor cell obtained with laser capture micro dissection</td><td>preliminary</td><td>None</td></tr><tr><td><a href=\"https://www.encodeproject.org/experiments/ENCSR457BTR/\">experiments:ENCSR457BTR/</a></td><td>RNA-seq</td><td>RNA-seq on mouse myotome obtained with laser capture micro dissection</td><td>preliminary</td><td>None</td></tr><tr><td><a href=\"https://www.encodeproject.org/experiments/ENCSR946PCR/\">experiments:ENCSR946PCR/</a></td><td>RNA-seq</td><td>RNA-seq on adult human liver (13pgs)</td><td>proposed</td><td>None</td></tr><tr><td><a href=\"https://www.encodeproject.org/experiments/ENCSR800IUG/\">experiments:ENCSR800IUG/</a></td><td>RNA-seq</td><td>RNA-seq on human hepatocytes (in vitro differentiated cells)</td><td>proposed</td><td>None</td></tr><tr><td><a href=\"https://www.encodeproject.org/experiments/ENCSR479VCZ/\">experiments:ENCSR479VCZ/</a></td><td>RNA-seq</td><td>RNA-seq on human neuronal stem cell</td><td>proposed</td><td>None</td></tr><tr><td><a href=\"https://www.encodeproject.org/experiments/ENCSR808KCH/\">experiments:ENCSR808KCH/</a></td><td>RNA-seq</td><td>RNA-seq on human region humanal part of cerebellum obtained with gross dissection human</td><td>proposed</td><td>None</td></tr><tr><td><a href=\"https://www.encodeproject.org/experiments/ENCSR825UDE/\">experiments:ENCSR825UDE/</a></td><td>RNA-seq</td><td>RNA-seq on human smooth muscle cell (in vitro differentiated cells)</td><td>proposed</td><td>None</td></tr><tr><td><a href=\"https://www.encodeproject.org/experiments/ENCSR913RSM/\">experiments:ENCSR913RSM/</a></td><td>RNA-seq</td><td>RNA-seq on mouse bipolar neuron obtained with laser capture micro dissection</td><td>proposed</td><td>None</td></tr><tr><td><a href=\"https://www.encodeproject.org/experiments/ENCSR391DGX/\">experiments:ENCSR391DGX/</a></td><td>RNA-seq</td><td>RNA-seq on mouse brain stem motor neurons obtained with laser capture micro dissection</td><td>proposed</td><td>None</td></tr><tr><td><a href=\"https://www.encodeproject.org/experiments/ENCSR448TBE/\">experiments:ENCSR448TBE/</a></td><td>RNA-seq</td><td>RNA-seq on mouse brush border cell of the proximal tubule obtained with laser capture micro dissection</td><td>proposed</td><td>None</td></tr><tr><td><a href=\"https://www.encodeproject.org/experiments/ENCSR510XBP/\">experiments:ENCSR510XBP/</a></td><td>RNA-seq</td><td>RNA-seq on mouse glomerular visceral epithelial cell obtained with laser capture micro dissection</td><td>proposed</td><td>None</td></tr><tr><td><a href=\"https://www.encodeproject.org/experiments/ENCSR854COR/\">experiments:ENCSR854COR/</a></td><td>RNA-seq</td><td>RNA-seq on mouse kidney collecting duct cell obtained with laser capture micro dissection</td><td>proposed</td><td>None</td></tr><tr><td><a href=\"https://www.encodeproject.org/experiments/ENCSR419KEN/\">experiments:ENCSR419KEN/</a></td><td>RNA-seq</td><td>RNA-seq on mouse kidney distal tubule epithelial cell obtained with laser capture micro dissection</td><td>proposed</td><td>None</td></tr><tr><td><a href=\"https://www.encodeproject.org/experiments/ENCSR225LWF/\">experiments:ENCSR225LWF/</a></td><td>RNA-seq</td><td>RNA-seq on mouse kidney interstitial cell obtained with laser capture micro dissection</td><td>proposed</td><td>None</td></tr><tr><td><a href=\"https://www.encodeproject.org/experiments/ENCSR951QWU/\">experiments:ENCSR951QWU/</a></td><td>RNA-seq</td><td>RNA-seq on mouse kidney loop of henle thick ascending limb epithelial cell obtained with laser capture micro dissection</td><td>proposed</td><td>None</td></tr><tr><td><a href=\"https://www.encodeproject.org/experiments/ENCSR132IJG/\">experiments:ENCSR132IJG/</a></td><td>RNA-seq</td><td>RNA-seq on mouse kidney loop of henle thin descending limb epithelial cell obtained with laser capture micro dissection</td><td>proposed</td><td>None</td></tr><tr><td><a href=\"https://www.encodeproject.org/experiments/ENCSR593EDV/\">experiments:ENCSR593EDV/</a></td><td>RNA-seq</td><td>RNA-seq on mouse parietal epithelial cell obtained with laser capture micro dissection</td><td>proposed</td><td>None</td></tr><tr><td><a href=\"https://www.encodeproject.org/experiments/ENCSR630QYS/\">experiments:ENCSR630QYS/</a></td><td>RNA-seq</td><td>RNA-seq on mouse regional part of cerebellum obtained with gross dissection</td><td>proposed</td><td>None</td></tr><tr><td><a href=\"https://www.encodeproject.org/experiments/ENCSR365GTN/\">experiments:ENCSR365GTN/</a></td><td>RNA-seq</td><td>RNA-seq on mouse retinal alpha ganglion cell obtained with laser capture micro dissection</td><td>proposed</td><td>None</td></tr><tr><td><a href=\"https://www.encodeproject.org/experiments/ENCSR150RTP/\">experiments:ENCSR150RTP/</a></td><td>RNA-seq</td><td>RNA-seq on mouse spinal cord motor neuron obtained with laser capture micro dissection</td><td>proposed</td><td>None</td></tr><tr><td><a href=\"https://www.encodeproject.org/experiments/ENCSR220HFQ/\">experiments:ENCSR220HFQ/</a></td><td>single cell isolation followed by RNA-seq</td><td>LC776_C57Bl6_layer_V_pyramidal_neuron_single_cell</td><td>ready for review</td><td>None</td></tr><tr><td><a href=\"https://www.encodeproject.org/experiments/ENCSR298YHA/\">experiments:ENCSR298YHA/</a></td><td>single cell isolation followed by RNA-seq</td><td>LC777_C57Bl6_layer_V_pyramidal_neuron_single_cell</td><td>ready for review</td><td>None</td></tr><tr><td><a href=\"https://www.encodeproject.org/experiments/ENCSR909YEQ/\">experiments:ENCSR909YEQ/</a></td><td>single cell isolation followed by RNA-seq</td><td>LC779_C57Bl6_layer_V_pyramidal_neuron_single_cell</td><td>ready for review</td><td>None</td></tr><tr><td><a href=\"https://www.encodeproject.org/experiments/ENCSR746LUP/\">experiments:ENCSR746LUP/</a></td><td>single cell isolation followed by RNA-seq</td><td>LC_758_C57Bl6_layer_V_pyramidal_neuron_single_cell</td><td>ready for review</td><td>None</td></tr><tr><td><a href=\"https://www.encodeproject.org/experiments/ENCSR198EIH/\">experiments:ENCSR198EIH/</a></td><td>single cell isolation followed by RNA-seq</td><td>LC_759_C57Bl6_layer_V_pyramidal_neuron_single_cell</td><td>ready for review</td><td>None</td></tr><tr><td><a href=\"https://www.encodeproject.org/experiments/ENCSR100KRK/\">experiments:ENCSR100KRK/</a></td><td>single cell isolation followed by RNA-seq</td><td>LC_761_C57Bl6_layer_V_pyramidal_neuron_single_cell</td><td>ready for review</td><td>None</td></tr><tr><td><a href=\"https://www.encodeproject.org/experiments/ENCSR739YUO/\">experiments:ENCSR739YUO/</a></td><td>single cell isolation followed by RNA-seq</td><td>LC_762_C57Bl6_layer_V_pyramidal_neuron_single_cell</td><td>ready for review</td><td>None</td></tr><tr><td><a href=\"https://www.encodeproject.org/experiments/ENCSR927IOO/\">experiments:ENCSR927IOO/</a></td><td>single cell isolation followed by RNA-seq</td><td>LC_763_C57Bl6_layer_V_pyramidal_neuron_single_cell</td><td>ready for review</td><td>None</td></tr><tr><td><a href=\"https://www.encodeproject.org/experiments/ENCSR846FYI/\">experiments:ENCSR846FYI/</a></td><td>single cell isolation followed by RNA-seq</td><td>LC_767_C57Bl6_layer_V_pyramidal_neuron_single_cell</td><td>ready for review</td><td>None</td></tr><tr><td><a href=\"https://www.encodeproject.org/experiments/ENCSR427FOY/\">experiments:ENCSR427FOY/</a></td><td>single cell isolation followed by RNA-seq</td><td>LC_768_C57Bl6_layer_V_pyramidal_neuron_single_cell</td><td>ready for review</td><td>None</td></tr><tr><td><a href=\"https://www.encodeproject.org/experiments/ENCSR390KQJ/\">experiments:ENCSR390KQJ/</a></td><td>single cell isolation followed by RNA-seq</td><td>LC_769_C57Bl6_layer_V_pyramidal_neuron_single_cell</td><td>ready for review</td><td>None</td></tr><tr><td><a href=\"https://www.encodeproject.org/experiments/ENCSR138VRG/\">experiments:ENCSR138VRG/</a></td><td>single cell isolation followed by RNA-seq</td><td>LC_770_C57Bl6_layer_V_pyramidal_neuron_single_cell</td><td>ready for review</td><td>None</td></tr><tr><td><a href=\"https://www.encodeproject.org/experiments/ENCSR782WIL/\">experiments:ENCSR782WIL/</a></td><td>single cell isolation followed by RNA-seq</td><td>LC_771_C57Bl6_layer_V_pyramidal_neuron_single_cell</td><td>ready for review</td><td>None</td></tr><tr><td><a href=\"https://www.encodeproject.org/experiments/ENCSR195BCE/\">experiments:ENCSR195BCE/</a></td><td>single cell isolation followed by RNA-seq</td><td>LC_772_C57Bl6_layer_V_pyramidal_neuron_single_cell</td><td>ready for review</td><td>None</td></tr><tr><td><a href=\"https://www.encodeproject.org/experiments/ENCSR323FHJ/\">experiments:ENCSR323FHJ/</a></td><td>single cell isolation followed by RNA-seq</td><td>LC_773_C57Bl6_layer_V_pyramidal_neuron_single_cell</td><td>ready for review</td><td>None</td></tr><tr><td><a href=\"https://www.encodeproject.org/experiments/ENCSR295UJP/\">experiments:ENCSR295UJP/</a></td><td>single cell isolation followed by RNA-seq</td><td>LC_774_C57Bl6_layer_V_pyramidal_neuron_single_cell</td><td>ready for review</td><td>None</td></tr><tr><td><a href=\"https://www.encodeproject.org/experiments/ENCSR953TKB/\">experiments:ENCSR953TKB/</a></td><td>single cell isolation followed by RNA-seq</td><td>LC_775_C57Bl6_layer_V_pyramidal_neuron_single_cell</td><td>ready for review</td><td>None</td></tr><tr><td><a href=\"https://www.encodeproject.org/experiments/ENCSR650MMK/\">experiments:ENCSR650MMK/</a></td><td>single cell isolation followed by RNA-seq</td><td>LC_780_C57Bl6_layer_V_pyramidal_neuron_single_cell</td><td>ready for review</td><td>None</td></tr><tr><td><a href=\"https://www.encodeproject.org/experiments/ENCSR734SOQ/\">experiments:ENCSR734SOQ/</a></td><td>single cell isolation followed by RNA-seq</td><td>LC_805-819_C57Bl6_layer_V_pyramidal_neuron_pool-split</td><td>ready for review</td><td>None</td></tr><tr><td><a href=\"https://www.encodeproject.org/experiments/ENCSR726VVO/\">experiments:ENCSR726VVO/</a></td><td>single cell isolation followed by RNA-seq</td><td>RNA-seq of a single Purkinje cell from a 14 month old male hybrid Castaneus X C57Bl6 mouse</td><td>ready for review</td><td>None</td></tr><tr><td><a href=\"https://www.encodeproject.org/experiments/ENCSR268IGT/\">experiments:ENCSR268IGT/</a></td><td>single cell isolation followed by RNA-seq</td><td>RNA-seq of a single Purkinje cell from a 14 month old male hybrid Castaneus X C57Bl6 mouse</td><td>ready for review</td><td>None</td></tr><tr><td><a href=\"https://www.encodeproject.org/experiments/ENCSR292IVH/\">experiments:ENCSR292IVH/</a></td><td>single cell isolation followed by RNA-seq</td><td>RNA-seq of a single Purkinje cell from a 14 month old male hybrid Castaneus X C57Bl6 mouse</td><td>ready for review</td><td>None</td></tr><tr><td><a href=\"https://www.encodeproject.org/experiments/ENCSR362OYV/\">experiments:ENCSR362OYV/</a></td><td>single cell isolation followed by RNA-seq</td><td>RNA-seq of a single Purkinje cell from a 14 month old male hybrid Castaneus X C57Bl6 mouse</td><td>ready for review</td><td>None</td></tr><tr><td><a href=\"https://www.encodeproject.org/experiments/ENCSR775HGC/\">experiments:ENCSR775HGC/</a></td><td>single cell isolation followed by RNA-seq</td><td>RNA-seq of a single Purkinje cell from a 14 month old male hybrid Castaneus X C57Bl6 mouse</td><td>ready for review</td><td>None</td></tr><tr><td><a href=\"https://www.encodeproject.org/experiments/ENCSR530UXI/\">experiments:ENCSR530UXI/</a></td><td>single cell isolation followed by RNA-seq</td><td>RNA-seq of a single Purkinje cell from a 14 month old male hybrid Castaneus X C57Bl6 mouse</td><td>ready for review</td><td>None</td></tr><tr><td><a href=\"https://www.encodeproject.org/experiments/ENCSR577ONT/\">experiments:ENCSR577ONT/</a></td><td>single cell isolation followed by RNA-seq</td><td>RNA-seq of a single Purkinje cell from a 14 month old male hybrid Castaneus X C57Bl6 mouse</td><td>ready for review</td><td>None</td></tr><tr><td><a href=\"https://www.encodeproject.org/experiments/ENCSR980SWK/\">experiments:ENCSR980SWK/</a></td><td>single cell isolation followed by RNA-seq</td><td>RNA-seq of a single Purkinje cell from a 14 month old male hybrid Castaneus X C57Bl6 mouse</td><td>ready for review</td><td>None</td></tr><tr><td><a href=\"https://www.encodeproject.org/experiments/ENCSR111QQX/\">experiments:ENCSR111QQX/</a></td><td>single cell isolation followed by RNA-seq</td><td>RNA-seq of a single Purkinje cell from a 14 month old male hybrid Castaneus X C57Bl6 mouse</td><td>ready for review</td><td>None</td></tr><tr><td><a href=\"https://www.encodeproject.org/experiments/ENCSR068SJG/\">experiments:ENCSR068SJG/</a></td><td>single cell isolation followed by RNA-seq</td><td>RNA-seq of a single Purkinje cell from a 14 month old male hybrid Castaneus X C57Bl6 mouse</td><td>ready for review</td><td>None</td></tr><tr><td><a href=\"https://www.encodeproject.org/experiments/ENCSR267LBO/\">experiments:ENCSR267LBO/</a></td><td>single cell isolation followed by RNA-seq</td><td>RNA-seq of a single Purkinje cell from a 14 month old male hybrid Castaneus X C57Bl6 mouse</td><td>ready for review</td><td>None</td></tr><tr><td><a href=\"https://www.encodeproject.org/experiments/ENCSR789RPP/\">experiments:ENCSR789RPP/</a></td><td>single cell isolation followed by RNA-seq</td><td>RNA-seq of a single Purkinje cell from a 14 month old male hybrid Castaneus X C57Bl6 mouse</td><td>ready for review</td><td>None</td></tr><tr><td><a href=\"https://www.encodeproject.org/experiments/ENCSR796QJD/\">experiments:ENCSR796QJD/</a></td><td>single cell isolation followed by RNA-seq</td><td>RNA-seq of a single Purkinje cell from a 14 month old male hybrid Castaneus X C57Bl6 mouse</td><td>ready for review</td><td>None</td></tr><tr><td><a href=\"https://www.encodeproject.org/experiments/ENCSR803PLZ/\">experiments:ENCSR803PLZ/</a></td><td>single cell isolation followed by RNA-seq</td><td>RNA-seq of a single Purkinje cell from a 14 month old male hybrid Castaneus X C57Bl6 mouse</td><td>ready for review</td><td>None</td></tr><tr><td><a href=\"https://www.encodeproject.org/experiments/ENCSR194TNV/\">experiments:ENCSR194TNV/</a></td><td>single cell isolation followed by RNA-seq</td><td>RNA-seq of a single Purkinje cell from a 14 month old male hybrid Castaneus X C57Bl6 mouse</td><td>ready for review</td><td>None</td></tr><tr><td><a href=\"https://www.encodeproject.org/experiments/ENCSR320PXZ/\">experiments:ENCSR320PXZ/</a></td><td>single cell isolation followed by RNA-seq</td><td>RNA-seq of a single Purkinje cell from an 8 month old male wild type C57Bl6 mouse</td><td>ready for review</td><td>None</td></tr><tr><td><a href=\"https://www.encodeproject.org/experiments/ENCSR027CXR/\">experiments:ENCSR027CXR/</a></td><td>single cell isolation followed by RNA-seq</td><td>RNA-seq of a single Purkinje cell from an 8 month old male wild type C57Bl6 mouse</td><td>ready for review</td><td>None</td></tr><tr><td><a href=\"https://www.encodeproject.org/experiments/ENCSR662UPQ/\">experiments:ENCSR662UPQ/</a></td><td>single cell isolation followed by RNA-seq</td><td>RNA-seq of a single Purkinje cell from an 8 month old male wild type C57Bl6 mouse</td><td>ready for review</td><td>None</td></tr><tr><td><a href=\"https://www.encodeproject.org/experiments/ENCSR521YLY/\">experiments:ENCSR521YLY/</a></td><td>single cell isolation followed by RNA-seq</td><td>RNA-seq of a single Purkinje cell from an 8 month old male wild type C57Bl6 mouse</td><td>ready for review</td><td>None</td></tr><tr><td><a href=\"https://www.encodeproject.org/experiments/ENCSR559QTE/\">experiments:ENCSR559QTE/</a></td><td>single cell isolation followed by RNA-seq</td><td>RNA-seq of a single Purkinje cell from an 8 month old male wild type C57Bl6 mouse</td><td>ready for review</td><td>None</td></tr><tr><td><a href=\"https://www.encodeproject.org/experiments/ENCSR527DQV/\">experiments:ENCSR527DQV/</a></td><td>single cell isolation followed by RNA-seq</td><td>RNA-seq of a single Purkinje cell from an 8 month old male wild type C57Bl6 mouse</td><td>ready for review</td><td>None</td></tr><tr><td><a href=\"https://www.encodeproject.org/experiments/ENCSR167AWS/\">experiments:ENCSR167AWS/</a></td><td>single cell isolation followed by RNA-seq</td><td>RNA-seq of a single Purkinje cell from an 8 month old male wild type C57Bl6 mouse</td><td>ready for review</td><td>None</td></tr><tr><td><a href=\"https://www.encodeproject.org/experiments/ENCSR708EHJ/\">experiments:ENCSR708EHJ/</a></td><td>single cell isolation followed by RNA-seq</td><td>RNA-seq of a single Purkinje cell from an 8 month old male wild type C57Bl6 mouse</td><td>ready for review</td><td>None</td></tr><tr><td><a href=\"https://www.encodeproject.org/experiments/ENCSR474NEW/\">experiments:ENCSR474NEW/</a></td><td>single cell isolation followed by RNA-seq</td><td>RNA-seq of a single Purkinje cell from an 8 month old male wild type C57Bl6 mouse</td><td>ready for review</td><td>None</td></tr><tr><td><a href=\"https://www.encodeproject.org/experiments/ENCSR282DYQ/\">experiments:ENCSR282DYQ/</a></td><td>single cell isolation followed by RNA-seq</td><td>RNA-seq of a single Purkinje cell from an 8 month old male wild type C57Bl6 mouse</td><td>ready for review</td><td>None</td></tr><tr><td><a href=\"https://www.encodeproject.org/experiments/ENCSR367DUL/\">experiments:ENCSR367DUL/</a></td><td>single cell isolation followed by RNA-seq</td><td>RNA-seq of a single Purkinje cell from an 8 month old male wild type C57Bl6 mouse</td><td>ready for review</td><td>None</td></tr><tr><td><a href=\"https://www.encodeproject.org/experiments/ENCSR948NDP/\">experiments:ENCSR948NDP/</a></td><td>single cell isolation followed by RNA-seq</td><td>RNA-seq of a single Purkinje cell from an 8 month old male wild type C57Bl6 mouse</td><td>ready for review</td><td>None</td></tr><tr><td><a href=\"https://www.encodeproject.org/experiments/ENCSR316RMA/\">experiments:ENCSR316RMA/</a></td><td>single cell isolation followed by RNA-seq</td><td>RNA-seq of a single Purkinje cell from an 8 month old male wild type C57Bl6 mouse</td><td>ready for review</td><td>None</td></tr><tr><td><a href=\"https://www.encodeproject.org/experiments/ENCSR691PPV/\">experiments:ENCSR691PPV/</a></td><td>single cell isolation followed by RNA-seq</td><td>RNA-seq of a single Purkinje cell from an 8 month old male wild type C57Bl6 mouse</td><td>ready for review</td><td>None</td></tr><tr><td><a href=\"https://www.encodeproject.org/experiments/ENCSR351YGY/\">experiments:ENCSR351YGY/</a></td><td>single cell isolation followed by RNA-seq</td><td>RNA-seq of a single Purkinje cell from an 8 month old male wild type C57Bl6 mouse</td><td>ready for review</td><td>None</td></tr><tr><td><a href=\"https://www.encodeproject.org/experiments/ENCSR659SFM/\">experiments:ENCSR659SFM/</a></td><td>single cell isolation followed by RNA-seq</td><td>RNA-seq of a single Purkinje cell from an 8 month old male wild type C57Bl6 mouse</td><td>ready for review</td><td>None</td></tr><tr><td><a href=\"https://www.encodeproject.org/experiments/ENCSR620HJQ/\">experiments:ENCSR620HJQ/</a></td><td>single cell isolation followed by RNA-seq</td><td>RNA-seq on single cell equivalents of 13 excised and homogenized Purkinje cells from a 14 month old male hybrid Castaneus X C57Bl6 mouse</td><td>ready for review</td><td>None</td></tr><tr><td><a href=\"https://www.encodeproject.org/experiments/ENCSR637NLF/\">experiments:ENCSR637NLF/</a></td><td>single cell isolation followed by RNA-seq</td><td>RNA-seq on single cell equivalents of 20 excised and homogenized Purkinje cells from an 8 month old male wild type C57Bl6 mouse</td><td>ready for review</td><td>None</td></tr><tr><td><a href=\"https://www.encodeproject.org/experiments/ENCSR000AEH/\">experiments:ENCSR000AEH/</a></td><td>RNA-seq</td><td>RNA Evaluation Gm12878 Long Poly-A+ RNA-seq from Wold</td><td>released</td><td>2014-07-07</td></tr><tr><td><a href=\"https://www.encodeproject.org/experiments/ENCSR000AEG/\">experiments:ENCSR000AEG/</a></td><td>RNA-seq</td><td>RNA Evaluation Gm12878 Long Total RNA-seq from Wold</td><td>released</td><td>2014-07-07</td></tr><tr><td><a href=\"https://www.encodeproject.org/experiments/ENCSR000AEQ/\">experiments:ENCSR000AEQ/</a></td><td>RNA-seq</td><td>RNA Evaluation K562 Long Poly-A+ RNA-seq from Wold</td><td>released</td><td>2014-07-07</td></tr><tr><td><a href=\"https://www.encodeproject.org/experiments/ENCSR000AEP/\">experiments:ENCSR000AEP/</a></td><td>RNA-seq</td><td>RNA Evaluation K562 Long Total RNA-seq from Wold</td><td>released</td><td>2014-07-07</td></tr><tr><td><a href=\"https://www.encodeproject.org/experiments/ENCSR000AJD/\">experiments:ENCSR000AJD/</a></td><td>RNA-seq</td><td>RNA-seq of GM12878 bulk prep of 10 ngs</td><td>released</td><td>2014-06-30</td></tr><tr><td><a href=\"https://www.encodeproject.org/experiments/ENCSR000AJG/\">experiments:ENCSR000AJG/</a></td><td>single cell isolation followed by RNA-seq</td><td>RNA-seq of a GM12878 10-11 cell pool</td><td>released</td><td>2014-06-30</td></tr><tr><td><a href=\"https://www.encodeproject.org/experiments/ENCSR000AIZ/\">experiments:ENCSR000AIZ/</a></td><td>RNA-seq</td><td>RNA-seq of a GM12878 30 cell pool</td><td>released</td><td>2014-09-29</td></tr><tr><td><a href=\"https://www.encodeproject.org/experiments/ENCSR625DPZ/\">experiments:ENCSR625DPZ/</a></td><td>single cell isolation followed by RNA-seq</td><td>RNA-seq of a single GM12878 cell</td><td>released</td><td>2014-06-30</td></tr><tr><td><a href=\"https://www.encodeproject.org/experiments/ENCSR767SOH/\">experiments:ENCSR767SOH/</a></td><td>single cell isolation followed by RNA-seq</td><td>RNA-seq of a single GM12878 cell</td><td>released</td><td>2014-06-30</td></tr><tr><td><a href=\"https://www.encodeproject.org/experiments/ENCSR184CWK/\">experiments:ENCSR184CWK/</a></td><td>single cell isolation followed by RNA-seq</td><td>RNA-seq of a single GM12878 cell</td><td>released</td><td>2014-06-30</td></tr><tr><td><a href=\"https://www.encodeproject.org/experiments/ENCSR000AJH/\">experiments:ENCSR000AJH/</a></td><td>single cell isolation followed by RNA-seq</td><td>RNA-seq of a single GM12878 cell</td><td>released</td><td>2014-06-30</td></tr><tr><td><a href=\"https://www.encodeproject.org/experiments/ENCSR000AJF/\">experiments:ENCSR000AJF/</a></td><td>single cell isolation followed by RNA-seq</td><td>RNA-seq of a single GM12878 cell</td><td>released</td><td>2014-06-30</td></tr><tr><td><a href=\"https://www.encodeproject.org/experiments/ENCSR000AJE/\">experiments:ENCSR000AJE/</a></td><td>single cell isolation followed by RNA-seq</td><td>RNA-seq of a single GM12878 cell</td><td>released</td><td>2014-06-30</td></tr><tr><td><a href=\"https://www.encodeproject.org/experiments/ENCSR000AJC/\">experiments:ENCSR000AJC/</a></td><td>single cell isolation followed by RNA-seq</td><td>RNA-seq of a single GM12878 cell</td><td>released</td><td>2014-06-30</td></tr><tr><td><a href=\"https://www.encodeproject.org/experiments/ENCSR000AJB/\">experiments:ENCSR000AJB/</a></td><td>single cell isolation followed by RNA-seq</td><td>RNA-seq of a single GM12878 cell</td><td>released</td><td>2014-06-30</td></tr><tr><td><a href=\"https://www.encodeproject.org/experiments/ENCSR000AJA/\">experiments:ENCSR000AJA/</a></td><td>single cell isolation followed by RNA-seq</td><td>RNA-seq of a single GM12878 cell</td><td>released</td><td>2014-06-30</td></tr><tr><td><a href=\"https://www.encodeproject.org/experiments/ENCSR000AIY/\">experiments:ENCSR000AIY/</a></td><td>single cell isolation followed by RNA-seq</td><td>RNA-seq of a single GM12878 cell</td><td>released</td><td>2014-06-30</td></tr><tr><td><a href=\"https://www.encodeproject.org/experiments/ENCSR417EDR/\">experiments:ENCSR417EDR/</a></td><td>single cell isolation followed by RNA-seq</td><td>RNA-seq of a single Purkinje cell from a 20 year old human male</td><td>released</td><td>2014-07-07</td></tr><tr><td><a href=\"https://www.encodeproject.org/experiments/ENCSR672QFA/\">experiments:ENCSR672QFA/</a></td><td>single cell isolation followed by RNA-seq</td><td>RNA-seq of a single Purkinje cell from a 20 year old human male</td><td>released</td><td>2014-07-07</td></tr><tr><td><a href=\"https://www.encodeproject.org/experiments/ENCSR101GVL/\">experiments:ENCSR101GVL/</a></td><td>single cell isolation followed by RNA-seq</td><td>RNA-seq of a single Purkinje cell from a 20 year old human male</td><td>released</td><td>2014-07-07</td></tr><tr><td><a href=\"https://www.encodeproject.org/experiments/ENCSR905FLM/\">experiments:ENCSR905FLM/</a></td><td>single cell isolation followed by RNA-seq</td><td>RNA-seq of a single Purkinje cell from a 20 year old human male</td><td>released</td><td>2014-07-07</td></tr><tr><td><a href=\"https://www.encodeproject.org/experiments/ENCSR610BAM/\">experiments:ENCSR610BAM/</a></td><td>single cell isolation followed by RNA-seq</td><td>RNA-seq of a single Purkinje cell from a 20 year old human male</td><td>released</td><td>2014-07-07</td></tr><tr><td><a href=\"https://www.encodeproject.org/experiments/ENCSR124ERY/\">experiments:ENCSR124ERY/</a></td><td>single cell isolation followed by RNA-seq</td><td>RNA-seq of a single Purkinje cell from a 20 year old human male</td><td>released</td><td>2014-07-07</td></tr><tr><td><a href=\"https://www.encodeproject.org/experiments/ENCSR659QHV/\">experiments:ENCSR659QHV/</a></td><td>single cell isolation followed by RNA-seq</td><td>RNA-seq of a single Purkinje cell from a 20 year old human male</td><td>released</td><td>2014-07-07</td></tr><tr><td><a href=\"https://www.encodeproject.org/experiments/ENCSR366QZI/\">experiments:ENCSR366QZI/</a></td><td>single cell isolation followed by RNA-seq</td><td>RNA-seq of a single Purkinje cell from a 20 year old human male</td><td>released</td><td>2014-07-07</td></tr><tr><td><a href=\"https://www.encodeproject.org/experiments/ENCSR244DNF/\">experiments:ENCSR244DNF/</a></td><td>single cell isolation followed by RNA-seq</td><td>RNA-seq of a single Purkinje cell from a 20 year old human male</td><td>released</td><td>2014-07-07</td></tr><tr><td><a href=\"https://www.encodeproject.org/experiments/ENCSR927DHK/\">experiments:ENCSR927DHK/</a></td><td>single cell isolation followed by RNA-seq</td><td>RNA-seq of a single Purkinje cell from a 20 year old human male</td><td>released</td><td>2014-07-07</td></tr><tr><td><a href=\"https://www.encodeproject.org/experiments/ENCSR435ROA/\">experiments:ENCSR435ROA/</a></td><td>single cell isolation followed by RNA-seq</td><td>RNA-seq of a single Purkinje cell from a 20 year old human male</td><td>released</td><td>2014-07-07</td></tr><tr><td><a href=\"https://www.encodeproject.org/experiments/ENCSR231WUP/\">experiments:ENCSR231WUP/</a></td><td>single cell isolation followed by RNA-seq</td><td>RNA-seq of a single Purkinje cell from a 20 year old human male</td><td>released</td><td>2014-07-07</td></tr><tr><td><a href=\"https://www.encodeproject.org/experiments/ENCSR828FPS/\">experiments:ENCSR828FPS/</a></td><td>single cell isolation followed by RNA-seq</td><td>RNA-seq of a single Purkinje cell from a 20 year old human male</td><td>released</td><td>2014-07-07</td></tr><tr><td><a href=\"https://www.encodeproject.org/experiments/ENCSR729ENB/\">experiments:ENCSR729ENB/</a></td><td>single cell isolation followed by RNA-seq</td><td>RNA-seq of a single Purkinje cell from a 20 year old human male</td><td>released</td><td>2014-07-07</td></tr><tr><td><a href=\"https://www.encodeproject.org/experiments/ENCSR724XFQ/\">experiments:ENCSR724XFQ/</a></td><td>single cell isolation followed by RNA-seq</td><td>RNA-seq of a single Purkinje cell from a 20 year old human male</td><td>released</td><td>2014-07-07</td></tr><tr><td><a href=\"https://www.encodeproject.org/experiments/ENCSR921DSM/\">experiments:ENCSR921DSM/</a></td><td>single cell isolation followed by RNA-seq</td><td>RNA-seq of a single Purkinje cell from a 20 year old human male</td><td>released</td><td>2014-07-07</td></tr><tr><td><a href=\"https://www.encodeproject.org/experiments/ENCSR086PHI/\">experiments:ENCSR086PHI/</a></td><td>single cell isolation followed by RNA-seq</td><td>RNA-seq of a single Purkinje cell from a 20 year old human male</td><td>released</td><td>2014-07-07</td></tr><tr><td><a href=\"https://www.encodeproject.org/experiments/ENCSR561KFF/\">experiments:ENCSR561KFF/</a></td><td>single cell isolation followed by RNA-seq</td><td>RNA-seq of a single Purkinje cell from a 20 year old human male</td><td>released</td><td>2014-07-07</td></tr><tr><td><a href=\"https://www.encodeproject.org/experiments/ENCSR376KFF/\">experiments:ENCSR376KFF/</a></td><td>single cell isolation followed by RNA-seq</td><td>RNA-seq of a single Purkinje cell from a 20 year old human male</td><td>released</td><td>2014-07-07</td></tr><tr><td><a href=\"https://www.encodeproject.org/experiments/ENCSR558LHB/\">experiments:ENCSR558LHB/</a></td><td>single cell isolation followed by RNA-seq</td><td>RNA-seq of a single Purkinje cell from a 20 year old human male</td><td>released</td><td>2014-07-07</td></tr><tr><td><a href=\"https://www.encodeproject.org/experiments/ENCSR157NLF/\">experiments:ENCSR157NLF/</a></td><td>RNA-seq</td><td>RNA-seq on 30 cell pools of excised Purkinje cells from a 20 year old human male</td><td>released</td><td>2014-07-07</td></tr><tr><td><a href=\"https://www.encodeproject.org/experiments/ENCSR900JSG/\">experiments:ENCSR900JSG/</a></td><td>RNA-seq</td><td>RNA-seq on 30 cell pools of excised Purkinje cells from a 6 year old human male</td><td>released</td><td>2014-07-07</td></tr><tr><td><a href=\"https://www.encodeproject.org/experiments/ENCSR423XRG/\">experiments:ENCSR423XRG/</a></td><td>RNA-seq</td><td>RNA-seq on 30 cell pools of excised pyramidal cells from a 20 year old human male</td><td>released</td><td>2014-07-07</td></tr><tr><td><a href=\"https://www.encodeproject.org/experiments/ENCSR137RHZ/\">experiments:ENCSR137RHZ/</a></td><td>RNA-seq</td><td>RNA-seq on 30 cell pools of excised pyramidal cells from a 27 year old human male</td><td>released</td><td>2014-07-07</td></tr><tr><td><a href=\"https://www.encodeproject.org/experiments/ENCSR758TAD/\">experiments:ENCSR758TAD/</a></td><td>RNA-seq</td><td>RNA-seq on a 50 cell pool of Purkinje cells from an 8 month old male wild type C57Bl6 mouse</td><td>released</td><td>2014-12-17</td></tr><tr><td><a href=\"https://www.encodeproject.org/experiments/ENCSR268AXN/\">experiments:ENCSR268AXN/</a></td><td>RNA-seq</td><td>RNA-seq on a 50 cell pool of layer V pyramidal neurons from an 8 month old male wild type C57Bl5 mouse</td><td>released</td><td>2015-07-15</td></tr><tr><td><a href=\"https://www.encodeproject.org/experiments/ENCSR814JMM/\">experiments:ENCSR814JMM/</a></td><td>RNA-seq</td><td>RNA-seq on a dissected area of granule cells from an 8 month old male wild type C57Bl6 mouse</td><td>released</td><td>2014-12-17</td></tr><tr><td><a href=\"https://www.encodeproject.org/experiments/ENCSR236EGS/\">experiments:ENCSR236EGS/</a></td><td>RNA-seq</td><td>RNA-seq on a dissected area of layer V from an 8 month old male wild type C57Bl6 mouse</td><td>released</td><td>2014-12-17</td></tr><tr><td><a href=\"https://www.encodeproject.org/experiments/ENCSR848HOX/\">experiments:ENCSR848HOX/</a></td><td>RNA-seq</td><td>RNA-seq on embryonic 11.5 day mouse embryonic facial prominence</td><td>released</td><td>2014-11-20</td></tr><tr><td><a href=\"https://www.encodeproject.org/experiments/ENCSR691OPQ/\">experiments:ENCSR691OPQ/</a></td><td>RNA-seq</td><td>RNA-seq on embryonic 11.5 day mouse heart</td><td>released</td><td>2014-11-20</td></tr><tr><td><a href=\"https://www.encodeproject.org/experiments/ENCSR760TOE/\">experiments:ENCSR760TOE/</a></td><td>RNA-seq</td><td>RNA-seq on embryonic 11.5 day mouse hindbrain</td><td>released</td><td>2014-11-20</td></tr><tr><td><a href=\"https://www.encodeproject.org/experiments/ENCSR541XZK/\">experiments:ENCSR541XZK/</a></td><td>RNA-seq</td><td>RNA-seq on embryonic 11.5 day mouse limb</td><td>released</td><td>2014-11-20</td></tr><tr><td><a href=\"https://www.encodeproject.org/experiments/ENCSR307BCA/\">experiments:ENCSR307BCA/</a></td><td>RNA-seq</td><td>RNA-seq on embryonic 11.5 day mouse midbrain</td><td>released</td><td>2014-11-20</td></tr><tr><td><a href=\"https://www.encodeproject.org/experiments/ENCSR337FYI/\">experiments:ENCSR337FYI/</a></td><td>RNA-seq</td><td>RNA-seq on embryonic 11.5 day mouse neural tube</td><td>released</td><td>2014-11-20</td></tr><tr><td><a href=\"https://www.encodeproject.org/experiments/ENCSR823VEE/\">experiments:ENCSR823VEE/</a></td><td>RNA-seq</td><td>RNA-seq on embryonic 14.5 day mouse embryonic facial prominence</td><td>released</td><td>2014-12-17</td></tr><tr><td><a href=\"https://www.encodeproject.org/experiments/ENCSR185LWM/\">experiments:ENCSR185LWM/</a></td><td>RNA-seq</td><td>RNA-seq on embryonic 14.5 day mouse forebrain</td><td>released</td><td>2014-12-17</td></tr><tr><td><a href=\"https://www.encodeproject.org/experiments/ENCSR727FHP/\">experiments:ENCSR727FHP/</a></td><td>RNA-seq</td><td>RNA-seq on embryonic 14.5 day mouse heart</td><td>released</td><td>2014-12-17</td></tr><tr><td><a href=\"https://www.encodeproject.org/experiments/ENCSR559TRB/\">experiments:ENCSR559TRB/</a></td><td>RNA-seq</td><td>RNA-seq on embryonic 14.5 day mouse hindbrain</td><td>released</td><td>2014-12-17</td></tr><tr><td><a href=\"https://www.encodeproject.org/experiments/ENCSR932TRU/\">experiments:ENCSR932TRU/</a></td><td>RNA-seq</td><td>RNA-seq on embryonic 14.5 day mouse intestine</td><td>released</td><td>2014-12-17</td></tr><tr><td><a href=\"https://www.encodeproject.org/experiments/ENCSR504GEG/\">experiments:ENCSR504GEG/</a></td><td>RNA-seq</td><td>RNA-seq on embryonic 14.5 day mouse kidney</td><td>released</td><td>2014-12-17</td></tr><tr><td><a href=\"https://www.encodeproject.org/experiments/ENCSR216NEG/\">experiments:ENCSR216NEG/</a></td><td>RNA-seq</td><td>RNA-seq on embryonic 14.5 day mouse limb</td><td>released</td><td>2014-12-17</td></tr><tr><td><a href=\"https://www.encodeproject.org/experiments/ENCSR867YNV/\">experiments:ENCSR867YNV/</a></td><td>RNA-seq</td><td>RNA-seq on embryonic 14.5 day mouse liver</td><td>released</td><td>2014-12-17</td></tr><tr><td><a href=\"https://www.encodeproject.org/experiments/ENCSR039ADS/\">experiments:ENCSR039ADS/</a></td><td>RNA-seq</td><td>RNA-seq on embryonic 14.5 day mouse lung</td><td>released</td><td>2014-12-17</td></tr><tr><td><a href=\"https://www.encodeproject.org/experiments/ENCSR343YLB/\">experiments:ENCSR343YLB/</a></td><td>RNA-seq</td><td>RNA-seq on embryonic 14.5 day mouse midbrain</td><td>released</td><td>2014-12-17</td></tr><tr><td><a href=\"https://www.encodeproject.org/experiments/ENCSR928OXI/\">experiments:ENCSR928OXI/</a></td><td>RNA-seq</td><td>RNA-seq on embryonic 14.5 day mouse neural tube</td><td>released</td><td>2014-12-17</td></tr><tr><td><a href=\"https://www.encodeproject.org/experiments/ENCSR290RRR/\">experiments:ENCSR290RRR/</a></td><td>RNA-seq</td><td>RNA-seq on embryonic 14.5 day mouse stomach</td><td>released</td><td>2014-12-17</td></tr><tr><td><a href=\"https://www.encodeproject.org/experiments/ENCSR415JJO/\">experiments:ENCSR415JJO/</a></td><td>RNA-seq</td><td>RNA-seq on excised cerebellar granule cells from a 20 year old human male</td><td>released</td><td>2014-07-07</td></tr><tr><td><a href=\"https://www.encodeproject.org/experiments/ENCSR313IUO/\">experiments:ENCSR313IUO/</a></td><td>RNA-seq</td><td>RNA-seq on excised cerebellar granule cells from a 6 year old human male</td><td>released</td><td>2014-07-07</td></tr><tr><td><a href=\"https://www.encodeproject.org/experiments/ENCSR096STK/\">experiments:ENCSR096STK/</a></td><td>RNA-seq</td><td>RNA-seq on mouse liver</td><td>released</td><td>2015-06-23</td></tr><tr><td><a href=\"https://www.encodeproject.org/experiments/ENCSR739PEB/\">experiments:ENCSR739PEB/</a></td><td>RNA-seq</td><td>RNA-seq on postnatal 0 day mouse adrenal glands</td><td>released</td><td>2015-06-23</td></tr><tr><td><a href=\"https://www.encodeproject.org/experiments/ENCSR173PJN/\">experiments:ENCSR173PJN/</a></td><td>RNA-seq</td><td>RNA-seq on postnatal 0 day mouse kidney</td><td>released</td><td>2015-06-23</td></tr><tr><td><a href=\"https://www.encodeproject.org/experiments/ENCSR579FCW/\">experiments:ENCSR579FCW/</a></td><td>RNA-seq</td><td>RNA-seq on postnatal 0 day mouse spleen</td><td>released</td><td>2015-06-23</td></tr><tr><td><a href=\"https://www.encodeproject.org/experiments/ENCSR673UIY/\">experiments:ENCSR673UIY/</a></td><td>single cell isolation followed by RNA-seq</td><td>RNA-seq on single cell equivalents of 10 isolated and homogenized GM12878 cells</td><td>released</td><td>2014-06-30</td></tr><tr><td><a href=\"https://www.encodeproject.org/experiments/ENCSR888LYA/\">experiments:ENCSR888LYA/</a></td><td>single cell isolation followed by RNA-seq</td><td>RNA-seq on single cell equivalents of 20 excised and homogenized Purkinje cells from a 20 year old human male</td><td>released</td><td>2014-07-07</td></tr><tr><td><a href=\"https://www.encodeproject.org/experiments/ENCSR772FQU/\">experiments:ENCSR772FQU/</a></td><td>RNA-seq</td><td>Total RNA-Seq on postnatal 0 day mouse bladder</td><td>released</td><td>2015-06-23</td></tr><tr><td><a href=\"https://www.encodeproject.org/experiments/ENCSR362AIZ/\">experiments:ENCSR362AIZ/</a></td><td>RNA-seq</td><td>Total RNA-Seq on postnatal 0 day mouse forebrain</td><td>released</td><td>2015-06-23</td></tr><tr><td><a href=\"https://www.encodeproject.org/experiments/ENCSR526SEX/\">experiments:ENCSR526SEX/</a></td><td>RNA-seq</td><td>Total RNA-Seq on postnatal 0 day mouse heart</td><td>released</td><td>2015-06-23</td></tr><tr><td><a href=\"https://www.encodeproject.org/experiments/ENCSR017JEG/\">experiments:ENCSR017JEG/</a></td><td>RNA-seq</td><td>Total RNA-Seq on postnatal 0 day mouse hindbrain</td><td>released</td><td>2015-06-23</td></tr><tr><td><a href=\"https://www.encodeproject.org/experiments/ENCSR331XCE/\">experiments:ENCSR331XCE/</a></td><td>RNA-seq</td><td>Total RNA-Seq on postnatal 0 day mouse intestine</td><td>released</td><td>2015-06-23</td></tr><tr><td><a href=\"https://www.encodeproject.org/experiments/ENCSR982MRY/\">experiments:ENCSR982MRY/</a></td><td>RNA-seq</td><td>Total RNA-Seq on postnatal 0 day mouse lungs</td><td>released</td><td>2015-06-23</td></tr><tr><td><a href=\"https://www.encodeproject.org/experiments/ENCSR719NAJ/\">experiments:ENCSR719NAJ/</a></td><td>RNA-seq</td><td>Total RNA-Seq on postnatal 0 day mouse midbrain</td><td>released</td><td>2015-06-23</td></tr><tr><td><a href=\"https://www.encodeproject.org/experiments/ENCSR667TOX/\">experiments:ENCSR667TOX/</a></td><td>RNA-seq</td><td>Total RNA-Seq on postnatal 0 day mouse neural tube</td><td>released</td><td>2015-06-23</td></tr><tr><td><a href=\"https://www.encodeproject.org/experiments/ENCSR946HWC/\">experiments:ENCSR946HWC/</a></td><td>RNA-seq</td><td>Total RNA-Seq on postnatal 0 day mouse skeletal muscle</td><td>released</td><td>2015-06-23</td></tr><tr><td><a href=\"https://www.encodeproject.org/experiments/ENCSR178GUS/\">experiments:ENCSR178GUS/</a></td><td>RNA-seq</td><td>Total RNA-Seq on postnatal 0 day mouse stomach</td><td>released</td><td>2015-06-23</td></tr><tr><td><a href=\"https://www.encodeproject.org/experiments/ENCSR438XCG/\">experiments:ENCSR438XCG/</a></td><td>RNA-seq</td><td>Total RNA-Seq on postnatal 0 day mouse thymus</td><td>released</td><td>2015-06-23</td></tr><tr><td><a href=\"https://www.encodeproject.org/experiments/ENCSR160IIN/\">experiments:ENCSR160IIN/</a></td><td>RNA-seq</td><td>Total RNA-seq on 10ng of embryonic 11.5 day mouse forebrain</td><td>released</td><td>2014-11-20</td></tr><tr><td><a href=\"https://www.encodeproject.org/experiments/ENCSR284AMY/\">experiments:ENCSR284AMY/</a></td><td>RNA-seq</td><td>Total RNA-seq on 10ng of embryonic 11.5 day mouse liver</td><td>released</td><td>2014-11-20</td></tr><tr><td><a href=\"https://www.encodeproject.org/experiments/ENCSR368QPC/\">experiments:ENCSR368QPC/</a></td><td>RNA-seq</td><td>Total RNA-seq on PGP human IPS cells (13pgs)</td><td>released</td><td>2014-09-29</td></tr><tr><td><a href=\"https://www.encodeproject.org/experiments/ENCSR225BBK/\">experiments:ENCSR225BBK/</a></td><td>RNA-seq</td><td>Total RNA-seq on PGP human bipolar spindle neurons (13pgs)</td><td>released</td><td>2014-09-29</td></tr><tr><td><a href=\"https://www.encodeproject.org/experiments/ENCSR000OXO/\">experiments:ENCSR000OXO/</a></td><td>RNA-seq</td><td>Total RNA-seq on embryonic 11.5 day mouse forebrain</td><td>released</td><td>2014-09-29</td></tr><tr><td><a href=\"https://www.encodeproject.org/experiments/ENCSR592MSV/\">experiments:ENCSR592MSV/</a></td><td>RNA-seq</td><td>Total RNA-seq on embryonic 11.5 day mouse liver</td><td>released</td><td>2014-09-29</td></tr><tr><td><a href=\"https://www.encodeproject.org/experiments/ENCSR527RFK/\">experiments:ENCSR527RFK/</a></td><td>RNA-seq</td><td>Total RNA-seq on postnatal 0 day mouse forebrain (13pgs)</td><td>released</td><td>2014-09-29</td></tr><tr><td><a href=\"https://www.encodeproject.org/experiments/ENCSR510ADJ/\">experiments:ENCSR510ADJ/</a></td><td>RNA-seq</td><td>Total RNA-seq on postnatal 0 day mouse heart (13pg)</td><td>released</td><td>2014-09-29</td></tr><tr><td><a href=\"https://www.encodeproject.org/experiments/ENCSR861FGB/\">experiments:ENCSR861FGB/</a></td><td>RNA-seq</td><td>Total RNA-seq on postnatal 0 day mouse hindbrain (13pgs)</td><td>released</td><td>2014-09-29</td></tr><tr><td><a href=\"https://www.encodeproject.org/experiments/ENCSR950BNG/\">experiments:ENCSR950BNG/</a></td><td>RNA-seq</td><td>Total RNA-seq on postnatal 0 day mouse liver (13pgs)</td><td>released</td><td>2014-09-29</td></tr><tr><td><a href=\"https://www.encodeproject.org/experiments/ENCSR026ZRP/\">experiments:ENCSR026ZRP/</a></td><td>RNA-seq</td><td>Total RNA-seq on postnatal 0 day mouse midbrain (13pgs)</td><td>released</td><td>2014-09-29</td></tr><tr><td><a href=\"https://www.encodeproject.org/experiments/ENCSR265YFZ/\">experiments:ENCSR265YFZ/</a></td><td>RNA-seq</td><td>Total RNA-seq on postnatal 0 day mouse skeletal muscle (13pgs)</td><td>released</td><td>2014-09-29</td></tr><tr><td><a href=\"https://www.encodeproject.org/experiments/ENCSR907JUN/\">experiments:ENCSR907JUN/</a></td><td>RNA-seq</td><td>Total RNA-seq on postnatal 0 day mouse thymus (13pgs)</td><td>released</td><td>2014-09-29</td></tr><tr><td><a href=\"https://www.encodeproject.org/experiments/ENCSR805QYO/\">experiments:ENCSR805QYO/</a></td><td>RNA-seq</td><td>LCMD-501,502_Mm_Castaneus_x_C57Bl-Purkinje-30-pool</td><td>submitted</td><td>None</td></tr><tr><td><a href=\"https://www.encodeproject.org/experiments/ENCSR822EWO/\">experiments:ENCSR822EWO/</a></td><td>RNA-seq</td><td>LCMD-503,504_Mm_Castaneus_x_C57Bl-granule-layer-area-dissection</td><td>submitted</td><td>None</td></tr><tr><td><a href=\"https://www.encodeproject.org/experiments/ENCSR388ZNJ/\">experiments:ENCSR388ZNJ/</a></td><td>RNA-seq</td><td>RNA-Seq on Adult Human Liver Tissue STL010,STL011</td><td>submitted</td><td>None</td></tr></table>"
      ],
      "text/plain": [
       "<rdfmagic.LibRdfResults at 0x7f32319b9518>"
      ]
     },
     "execution_count": 10,
     "metadata": {},
     "output_type": "execute_result"
    }
   ],
   "source": [
    "%%sparql -m model -c\n",
    "select ?accession ?assay_name ?description ?status ?release\n",
    "where {\n",
    "  ?accession a experiment:experiment ;\n",
    "             rdf:description ?description ;\n",
    "             experiment:assay_term_name ?assay_name ;\n",
    "             experiment:status ?status .\n",
    "  OPTIONAL { ?accession experiment:date_released ?release .}\n",
    "}\n",
    "order by ?status ?description"
   ]
  },
  {
   "cell_type": "markdown",
   "metadata": {},
   "source": [
    "# Current Encode3 Library status"
   ]
  },
  {
   "cell_type": "code",
   "execution_count": 11,
   "metadata": {
    "collapsed": false
   },
   "outputs": [
    {
     "data": {
      "text/html": [
       "<table><tr><td>p</td><td>o</td></tr><tr><td><a href=\"http://www.w3.org/1999/02/22-rdf-syntax-ns#type\">rdf:type</a></td><td><a href=\"https://www.encodeproject.org/profiles/organism.json#organism\">https://www.encodeproject.org/profiles/organism.json#organism</a></td></tr><tr><td><a href=\"http://www.w3.org/1999/02/22-rdf-syntax-ns#type\">rdf:type</a></td><td><a href=\"https://www.encodeproject.org/profiles/organism.json#item\">https://www.encodeproject.org/profiles/organism.json#item</a></td></tr><tr><td><a href=\"https://www.encodeproject.org/profiles/organism.json#name\">https://www.encodeproject.org/profiles/organism.json#name</a></td><td>mouse</td></tr><tr><td><a href=\"https://www.encodeproject.org/profiles/organism.json#schema_version\">https://www.encodeproject.org/profiles/organism.json#schema_version</a></td><td>2</td></tr><tr><td><a href=\"https://www.encodeproject.org/profiles/organism.json#scientific_name\">https://www.encodeproject.org/profiles/organism.json#scientific_name</a></td><td>Mus musculus</td></tr><tr><td><a href=\"https://www.encodeproject.org/profiles/organism.json#status\">https://www.encodeproject.org/profiles/organism.json#status</a></td><td>current</td></tr><tr><td><a href=\"https://www.encodeproject.org/profiles/organism.json#taxon_id\">https://www.encodeproject.org/profiles/organism.json#taxon_id</a></td><td>10090</td></tr><tr><td><a href=\"https://www.encodeproject.org/profiles/organism.json#uuid\">https://www.encodeproject.org/profiles/organism.json#uuid</a></td><td>3413218c-3d86-498b-a0a2-9a406638e786</td></tr></table>"
      ],
      "text/plain": [
       "<rdfmagic.LibRdfResults at 0x7f323151f160>"
      ]
     },
     "execution_count": 11,
     "metadata": {},
     "output_type": "execute_result"
    }
   ],
   "source": [
    "%%sparql -m model\n",
    "select ?p ?o\n",
    "where {\n",
    "    <https://www.encodeproject.org/organisms/mouse/> ?p ?o\n",
    "}"
   ]
  },
  {
   "cell_type": "code",
   "execution_count": 12,
   "metadata": {
    "collapsed": false
   },
   "outputs": [
    {
     "name": "stdout",
     "output_type": "stream",
     "text": [
      "Found 241 rows.\n"
     ]
    }
   ],
   "source": [
    "%%sparql -m model -c -o biosamples\n",
    "select ?biosample ?organism ?name\n",
    "where {\n",
    "    ?biosample a biosample:biosample ;\n",
    "               biosample:organism ?organism .\n",
    "    ?organism a <https://www.encodeproject.org/profiles/organism.json#organism> ;\n",
    "              <https://www.encodeproject.org/profiles/organism.json#name> ?name .\n",
    "}"
   ]
  },
  {
   "cell_type": "code",
   "execution_count": 13,
   "metadata": {
    "collapsed": true
   },
   "outputs": [],
   "source": [
    "biosample_map = {\n",
    "    str(row['biosample']): str(row['name']) for row in biosamples\n",
    "}\n",
    "\n",
    "#for row in biosamples:\n",
    "#    bio = str(row['biosample'])\n",
    "#    name = str(row['name'])\n",
    "#    biosample_map[bio] = name"
   ]
  },
  {
   "cell_type": "code",
   "execution_count": null,
   "metadata": {
    "collapsed": false
   },
   "outputs": [],
   "source": [
    "%%sparql -m model -c -o library_status\n",
    "select ?experiment ?library ?biosample ?description ?alias ?status ?created ?date_released\n",
    "where {\n",
    "  ?experiment a experiment:experiment ;\n",
    "             rdf:description ?description ;\n",
    "             experiment:status ?status ;\n",
    "             experiment:replicates ?replicate .\n",
    "   OPTIONAL { ?experiment experiment:date_released ?date_released .} \n",
    "   ?replicate replicate:library ?library .\n",
    "   ?library library:date_created ?created ;\n",
    "            library:biosample ?biosample .\n",
    "   \n",
    "   OPTIONAL { ?library library:aliases ?alias . }\n",
    "}\n",
    "order by ?created ?experiment"
   ]
  },
  {
   "cell_type": "code",
   "execution_count": null,
   "metadata": {
    "collapsed": true
   },
   "outputs": [],
   "source": [
    "library_"
   ]
  },
  {
   "cell_type": "code",
   "execution_count": 15,
   "metadata": {
    "collapsed": false
   },
   "outputs": [],
   "source": [
    "records = []\n",
    "for row in library_status:\n",
    "    record = { k: str(row[k]) for k in row }\n",
    "    record['alias'] = record['alias'].replace('barbara-wold:', '')\n",
    "    record['created'] = record['created'][:10]\n",
    "    record['organism'] = biosample_map.get(record['biosample'], None)\n",
    "    records.append(record)\n",
    "librarydf = pandas.DataFrame(records, \n",
    "                             columns=['experiment', 'library', 'alias', 'organism', 'description', 'status', 'created'],\n",
    "                             )"
   ]
  },
  {
   "cell_type": "code",
   "execution_count": 16,
   "metadata": {
    "collapsed": false
   },
   "outputs": [],
   "source": [
    "librarydf.to_excel('/tmp/library.xlsx', index=False)"
   ]
  },
  {
   "cell_type": "code",
   "execution_count": 17,
   "metadata": {
    "collapsed": false
   },
   "outputs": [],
   "source": [
    "librarydf.to_excel?"
   ]
  },
  {
   "cell_type": "markdown",
   "metadata": {},
   "source": [
    "# Current Encode 3 File status"
   ]
  },
  {
   "cell_type": "code",
   "execution_count": 18,
   "metadata": {
    "collapsed": false
   },
   "outputs": [
    {
     "name": "stdout",
     "output_type": "stream",
     "text": [
      "Found 931 rows.\n"
     ]
    }
   ],
   "source": [
    "%%sparql -m model -c -o file_status\n",
    "select distinct ?experiment ?description ?status ?created\n",
    "where {\n",
    "  ?experiment a experiment:experiment ;\n",
    "             rdf:description ?description ;\n",
    "             experiment:status ?status ;\n",
    "             experiment:files ?file .\n",
    "   ?file file:date_created ?created ;\n",
    "         file:status ?status .\n",
    "}\n",
    "order by ?created ?status"
   ]
  },
  {
   "cell_type": "code",
   "execution_count": 19,
   "metadata": {
    "collapsed": false
   },
   "outputs": [
    {
     "data": {
      "text/html": [
       "<table><tr><td>p</td><td>o</td></tr><tr><td><a href=\"http://www.w3.org/1999/02/22-rdf-syntax-ns#type\">rdf:type</a></td><td><a href=\"https://www.encodeproject.org/profiles/library.json#library\">library:library</a></td></tr><tr><td><a href=\"http://www.w3.org/1999/02/22-rdf-syntax-ns#type\">rdf:type</a></td><td><a href=\"https://www.encodeproject.org/profiles/library.json#item\">library:item</a></td></tr><tr><td><a href=\"https://www.encodeproject.org/profiles/library.json#accession\">library:accession</a></td><td>ENCLB646JVH</td></tr><tr><td><a href=\"https://www.encodeproject.org/profiles/library.json#aliases\">library:aliases</a></td><td>barbara-wold:13446</td></tr><tr><td><a href=\"https://www.encodeproject.org/profiles/library.json#award\">library:award</a></td><td><a href=\"https://www.encodeproject.org/awards/U54HG006998/\">https://www.encodeproject.org/awards/U54HG006998/</a></td></tr><tr><td><a href=\"https://www.encodeproject.org/profiles/library.json#biosample\">library:biosample</a></td><td><a href=\"https://www.encodeproject.org/biosamples/ENCBS616ZXC/\">https://www.encodeproject.org/biosamples/ENCBS616ZXC/</a></td></tr><tr><td><a href=\"https://www.encodeproject.org/profiles/library.json#date_created\">library:date_created</a></td><td>2015-06-26T00:12:00.841890+00:00</td></tr><tr><td><a href=\"https://www.encodeproject.org/profiles/library.json#documents\">library:documents</a></td><td><a href=\"https://www.encodeproject.org/documents/49fd5b3b-9878-4ec8-92bf-ef6dce9116e3/\">https://www.encodeproject.org/documents/49fd5b3b-9878-4ec8-92bf-ef6dce9116e3/</a></td></tr><tr><td><a href=\"https://www.encodeproject.org/profiles/library.json#extraction_method\">library:extraction_method</a></td><td>n/a</td></tr><tr><td><a href=\"https://www.encodeproject.org/profiles/library.json#fragmentation_method\">library:fragmentation_method</a></td><td>chemical (Nextera tagmentation)</td></tr><tr><td><a href=\"https://www.encodeproject.org/profiles/library.json#lab\">library:lab</a></td><td><a href=\"https://www.encodeproject.org/labs/barbara-wold/\">https://www.encodeproject.org/labs/barbara-wold/</a></td></tr><tr><td><a href=\"https://www.encodeproject.org/profiles/library.json#library_size_selection_method\">library:library_size_selection_method</a></td><td>SPRI beads</td></tr><tr><td><a href=\"https://www.encodeproject.org/profiles/library.json#lysis_method\">library:lysis_method</a></td><td>Clontech UltraLow for Illumina sequencing</td></tr><tr><td><a href=\"https://www.encodeproject.org/profiles/library.json#nucleic_acid_starting_quantity\">library:nucleic_acid_starting_quantity</a></td><td>30.0</td></tr><tr><td><a href=\"https://www.encodeproject.org/profiles/library.json#nucleic_acid_starting_quantity_units\">library:nucleic_acid_starting_quantity_units</a></td><td>cell-equivalent</td></tr><tr><td><a href=\"https://www.encodeproject.org/profiles/library.json#nucleic_acid_term_id\">library:nucleic_acid_term_id</a></td><td><a href=\"http://purl.obolibrary.org/obo/SO_0000356\">http://purl.obolibrary.org/obo/SO_0000356</a></td></tr><tr><td><a href=\"https://www.encodeproject.org/profiles/library.json#nucleic_acid_term_name\">library:nucleic_acid_term_name</a></td><td>RNA</td></tr><tr><td><a href=\"https://www.encodeproject.org/profiles/library.json#schema_version\">library:schema_version</a></td><td>4</td></tr><tr><td><a href=\"https://www.encodeproject.org/profiles/library.json#size_range\">library:size_range</a></td><td>>200</td></tr><tr><td><a href=\"https://www.encodeproject.org/profiles/library.json#spikeins_used\">library:spikeins_used</a></td><td>/datasets/ENCSR133ALU/</td></tr><tr><td><a href=\"https://www.encodeproject.org/profiles/library.json#spikeins_used\">library:spikeins_used</a></td><td>/datasets/ENCSR013YHQ/</td></tr><tr><td><a href=\"https://www.encodeproject.org/profiles/library.json#spikeins_used\">library:spikeins_used</a></td><td><a href=\"https://www.encodeproject.org/datasets/ENCSR133ALU/\">https://www.encodeproject.org/datasets/ENCSR133ALU/</a></td></tr><tr><td><a href=\"https://www.encodeproject.org/profiles/library.json#spikeins_used\">library:spikeins_used</a></td><td><a href=\"https://www.encodeproject.org/datasets/ENCSR013YHQ/\">https://www.encodeproject.org/datasets/ENCSR013YHQ/</a></td></tr><tr><td><a href=\"https://www.encodeproject.org/profiles/library.json#status\">library:status</a></td><td>in progress</td></tr><tr><td><a href=\"https://www.encodeproject.org/profiles/library.json#strand_specificity\">library:strand_specificity</a></td><td>false</td></tr><tr><td><a href=\"https://www.encodeproject.org/profiles/library.json#submitted_by\">library:submitted_by</a></td><td><a href=\"https://www.encodeproject.org/users/bc5b62f7-ce28-4a1e-b6b3-81c9c5a86d7a/\">https://www.encodeproject.org/users/bc5b62f7-ce28-4a1e-b6b3-81c9c5a86d7a/</a></td></tr><tr><td><a href=\"https://www.encodeproject.org/profiles/library.json#uuid\">library:uuid</a></td><td>bffd6c76-df5a-41a5-8c40-24585931a938</td></tr></table>"
      ],
      "text/plain": [
       "<rdfmagic.LibRdfResults at 0x7f32307219e8>"
      ]
     },
     "execution_count": 19,
     "metadata": {},
     "output_type": "execute_result"
    }
   ],
   "source": [
    "%%sparql -m model\n",
    "select ?p ?o \n",
    "where {\n",
    "  <https://www.encodeproject.org/libraries/ENCLB646JVH/> ?p ?o.\n",
    "}"
   ]
  },
  {
   "cell_type": "code",
   "execution_count": 23,
   "metadata": {
    "collapsed": false
   },
   "outputs": [
    {
     "data": {
      "text/html": [
       "<table><tr><td>p</td><td>o</td></tr><tr><td><a href=\"http://www.w3.org/1999/02/22-rdf-syntax-ns#type\">rdf:type</a></td><td><a href=\"https://www.encodeproject.org/profiles/experiment.json#experiment\">experiment:experiment</a></td></tr><tr><td><a href=\"http://www.w3.org/1999/02/22-rdf-syntax-ns#type\">rdf:type</a></td><td><a href=\"https://www.encodeproject.org/profiles/experiment.json#dataset\">experiment:dataset</a></td></tr><tr><td><a href=\"http://www.w3.org/1999/02/22-rdf-syntax-ns#type\">rdf:type</a></td><td><a href=\"https://www.encodeproject.org/profiles/experiment.json#item\">experiment:item</a></td></tr><tr><td><a href=\"http://www.w3.org/1999/02/22-rdf-syntax-ns#description\">rdf:description</a></td><td>Total RNA-seq on postnatal 0 day mouse liver (13pgs)</td></tr><tr><td><a href=\"https://www.encodeproject.org/profiles/experiment.json#accession\">experiment:accession</a></td><td>ENCSR950BNG</td></tr><tr><td><a href=\"https://www.encodeproject.org/profiles/experiment.json#assay_synonyms\">experiment:assay_synonyms</a></td><td>transcription profiling by high throughput sequencing</td></tr><tr><td><a href=\"https://www.encodeproject.org/profiles/experiment.json#assay_synonyms\">experiment:assay_synonyms</a></td><td>RNA-seq assay</td></tr><tr><td><a href=\"https://www.encodeproject.org/profiles/experiment.json#assay_term_id\">experiment:assay_term_id</a></td><td><a href=\"http://purl.obolibrary.org/obo/OBI_0001271\">http://purl.obolibrary.org/obo/OBI_0001271</a></td></tr><tr><td><a href=\"https://www.encodeproject.org/profiles/experiment.json#assay_term_name\">experiment:assay_term_name</a></td><td>RNA-seq</td></tr><tr><td><a href=\"https://www.encodeproject.org/profiles/experiment.json#assembly\">experiment:assembly</a></td><td>mm10</td></tr><tr><td><a href=\"https://www.encodeproject.org/profiles/experiment.json#audit\">experiment:audit</a></td><td>_:b0</td></tr><tr><td><a href=\"https://www.encodeproject.org/profiles/experiment.json#award\">experiment:award</a></td><td><a href=\"https://www.encodeproject.org/awards/U54HG006998/\">https://www.encodeproject.org/awards/U54HG006998/</a></td></tr><tr><td><a href=\"https://www.encodeproject.org/profiles/experiment.json#biosample_synonyms\">experiment:biosample_synonyms</a></td><td>jecur</td></tr><tr><td><a href=\"https://www.encodeproject.org/profiles/experiment.json#biosample_synonyms\">experiment:biosample_synonyms</a></td><td>iecur</td></tr><tr><td><a href=\"https://www.encodeproject.org/profiles/experiment.json#biosample_term_id\">experiment:biosample_term_id</a></td><td>UBERON:0002107</td></tr><tr><td><a href=\"https://www.encodeproject.org/profiles/experiment.json#biosample_term_name\">experiment:biosample_term_name</a></td><td>liver</td></tr><tr><td><a href=\"https://www.encodeproject.org/profiles/experiment.json#biosample_type\">experiment:biosample_type</a></td><td>tissue</td></tr><tr><td><a href=\"https://www.encodeproject.org/profiles/experiment.json#contributing_files\">experiment:contributing_files</a></td><td><a href=\"https://www.encodeproject.org/files/ENCFF275UEO/\">files:ENCFF275UEO/</a></td></tr><tr><td><a href=\"https://www.encodeproject.org/profiles/experiment.json#contributing_files\">experiment:contributing_files</a></td><td><a href=\"https://www.encodeproject.org/files/ENCFF814LUH/\">files:ENCFF814LUH/</a></td></tr><tr><td><a href=\"https://www.encodeproject.org/profiles/experiment.json#contributing_files\">experiment:contributing_files</a></td><td><a href=\"https://www.encodeproject.org/files/ENCFF518RJA/\">files:ENCFF518RJA/</a></td></tr><tr><td><a href=\"https://www.encodeproject.org/profiles/experiment.json#contributing_files\">experiment:contributing_files</a></td><td><a href=\"https://www.encodeproject.org/files/ENCFF268IGM/\">files:ENCFF268IGM/</a></td></tr><tr><td><a href=\"https://www.encodeproject.org/profiles/experiment.json#contributing_files\">experiment:contributing_files</a></td><td><a href=\"https://www.encodeproject.org/files/ENCFF042ALY/\">files:ENCFF042ALY/</a></td></tr><tr><td><a href=\"https://www.encodeproject.org/profiles/experiment.json#contributing_files\">experiment:contributing_files</a></td><td><a href=\"https://www.encodeproject.org/files/ENCFF028QRM/\">files:ENCFF028QRM/</a></td></tr><tr><td><a href=\"https://www.encodeproject.org/profiles/experiment.json#contributing_files\">experiment:contributing_files</a></td><td><a href=\"https://www.encodeproject.org/files/ENCFF064YNQ/\">files:ENCFF064YNQ/</a></td></tr><tr><td><a href=\"https://www.encodeproject.org/profiles/experiment.json#contributing_files\">experiment:contributing_files</a></td><td><a href=\"https://www.encodeproject.org/files/ENCFF453AKR/\">files:ENCFF453AKR/</a></td></tr><tr><td><a href=\"https://www.encodeproject.org/profiles/experiment.json#contributing_files\">experiment:contributing_files</a></td><td><a href=\"https://www.encodeproject.org/files/ENCFF774ZNL/\">files:ENCFF774ZNL/</a></td></tr><tr><td><a href=\"https://www.encodeproject.org/profiles/experiment.json#contributing_files\">experiment:contributing_files</a></td><td>/files/ENCFF275UEO/</td></tr><tr><td><a href=\"https://www.encodeproject.org/profiles/experiment.json#contributing_files\">experiment:contributing_files</a></td><td>/files/ENCFF814LUH/</td></tr><tr><td><a href=\"https://www.encodeproject.org/profiles/experiment.json#contributing_files\">experiment:contributing_files</a></td><td>/files/ENCFF518RJA/</td></tr><tr><td><a href=\"https://www.encodeproject.org/profiles/experiment.json#contributing_files\">experiment:contributing_files</a></td><td>/files/ENCFF268IGM/</td></tr><tr><td><a href=\"https://www.encodeproject.org/profiles/experiment.json#contributing_files\">experiment:contributing_files</a></td><td>/files/ENCFF042ALY/</td></tr><tr><td><a href=\"https://www.encodeproject.org/profiles/experiment.json#contributing_files\">experiment:contributing_files</a></td><td>/files/ENCFF028QRM/</td></tr><tr><td><a href=\"https://www.encodeproject.org/profiles/experiment.json#contributing_files\">experiment:contributing_files</a></td><td>/files/ENCFF064YNQ/</td></tr><tr><td><a href=\"https://www.encodeproject.org/profiles/experiment.json#contributing_files\">experiment:contributing_files</a></td><td>/files/ENCFF453AKR/</td></tr><tr><td><a href=\"https://www.encodeproject.org/profiles/experiment.json#contributing_files\">experiment:contributing_files</a></td><td>/files/ENCFF774ZNL/</td></tr><tr><td><a href=\"https://www.encodeproject.org/profiles/experiment.json#dataset_type\">experiment:dataset_type</a></td><td>experiment</td></tr><tr><td><a href=\"https://www.encodeproject.org/profiles/experiment.json#date_created\">experiment:date_created</a></td><td>2014-07-30T22:12:11.999625+00:00</td></tr><tr><td><a href=\"https://www.encodeproject.org/profiles/experiment.json#date_released\">experiment:date_released</a></td><td>2014-09-29</td></tr><tr><td><a href=\"https://www.encodeproject.org/profiles/experiment.json#developmental_slims\">experiment:developmental_slims</a></td><td>endoderm</td></tr><tr><td><a href=\"https://www.encodeproject.org/profiles/experiment.json#files\">experiment:files</a></td><td><a href=\"https://www.encodeproject.org/files/ENCFF002EXS/\">files:ENCFF002EXS/</a></td></tr><tr><td><a href=\"https://www.encodeproject.org/profiles/experiment.json#files\">experiment:files</a></td><td><a href=\"https://www.encodeproject.org/files/ENCFF002EXT/\">files:ENCFF002EXT/</a></td></tr><tr><td><a href=\"https://www.encodeproject.org/profiles/experiment.json#files\">experiment:files</a></td><td><a href=\"https://www.encodeproject.org/files/ENCFF002EXY/\">files:ENCFF002EXY/</a></td></tr><tr><td><a href=\"https://www.encodeproject.org/profiles/experiment.json#files\">experiment:files</a></td><td><a href=\"https://www.encodeproject.org/files/ENCFF002EYA/\">files:ENCFF002EYA/</a></td></tr><tr><td><a href=\"https://www.encodeproject.org/profiles/experiment.json#files\">experiment:files</a></td><td><a href=\"https://www.encodeproject.org/files/ENCFF002EYB/\">files:ENCFF002EYB/</a></td></tr><tr><td><a href=\"https://www.encodeproject.org/profiles/experiment.json#files\">experiment:files</a></td><td><a href=\"https://www.encodeproject.org/files/ENCFF002EYC/\">files:ENCFF002EYC/</a></td></tr><tr><td><a href=\"https://www.encodeproject.org/profiles/experiment.json#files\">experiment:files</a></td><td><a href=\"https://www.encodeproject.org/files/ENCFF002EYK/\">files:ENCFF002EYK/</a></td></tr><tr><td><a href=\"https://www.encodeproject.org/profiles/experiment.json#files\">experiment:files</a></td><td><a href=\"https://www.encodeproject.org/files/ENCFF002EYL/\">files:ENCFF002EYL/</a></td></tr><tr><td><a href=\"https://www.encodeproject.org/profiles/experiment.json#files\">experiment:files</a></td><td><a href=\"https://www.encodeproject.org/files/ENCFF867DPD/\">files:ENCFF867DPD/</a></td></tr><tr><td><a href=\"https://www.encodeproject.org/profiles/experiment.json#files\">experiment:files</a></td><td><a href=\"https://www.encodeproject.org/files/ENCFF923KGS/\">files:ENCFF923KGS/</a></td></tr><tr><td><a href=\"https://www.encodeproject.org/profiles/experiment.json#files\">experiment:files</a></td><td><a href=\"https://www.encodeproject.org/files/ENCFF722KXP/\">files:ENCFF722KXP/</a></td></tr><tr><td><a href=\"https://www.encodeproject.org/profiles/experiment.json#files\">experiment:files</a></td><td><a href=\"https://www.encodeproject.org/files/ENCFF387RVH/\">files:ENCFF387RVH/</a></td></tr><tr><td><a href=\"https://www.encodeproject.org/profiles/experiment.json#files\">experiment:files</a></td><td><a href=\"https://www.encodeproject.org/files/ENCFF527CSN/\">files:ENCFF527CSN/</a></td></tr><tr><td><a href=\"https://www.encodeproject.org/profiles/experiment.json#files\">experiment:files</a></td><td><a href=\"https://www.encodeproject.org/files/ENCFF516WRE/\">files:ENCFF516WRE/</a></td></tr><tr><td><a href=\"https://www.encodeproject.org/profiles/experiment.json#files\">experiment:files</a></td><td><a href=\"https://www.encodeproject.org/files/ENCFF129FDX/\">files:ENCFF129FDX/</a></td></tr><tr><td><a href=\"https://www.encodeproject.org/profiles/experiment.json#files\">experiment:files</a></td><td><a href=\"https://www.encodeproject.org/files/ENCFF285IAE/\">files:ENCFF285IAE/</a></td></tr><tr><td><a href=\"https://www.encodeproject.org/profiles/experiment.json#files\">experiment:files</a></td><td><a href=\"https://www.encodeproject.org/files/ENCFF023RHI/\">files:ENCFF023RHI/</a></td></tr><tr><td><a href=\"https://www.encodeproject.org/profiles/experiment.json#files\">experiment:files</a></td><td><a href=\"https://www.encodeproject.org/files/ENCFF321HZK/\">files:ENCFF321HZK/</a></td></tr><tr><td><a href=\"https://www.encodeproject.org/profiles/experiment.json#files\">experiment:files</a></td><td><a href=\"https://www.encodeproject.org/files/ENCFF814JOQ/\">files:ENCFF814JOQ/</a></td></tr><tr><td><a href=\"https://www.encodeproject.org/profiles/experiment.json#files\">experiment:files</a></td><td><a href=\"https://www.encodeproject.org/files/ENCFF784BCV/\">files:ENCFF784BCV/</a></td></tr><tr><td><a href=\"https://www.encodeproject.org/profiles/experiment.json#files\">experiment:files</a></td><td><a href=\"https://www.encodeproject.org/files/ENCFF933CIF/\">files:ENCFF933CIF/</a></td></tr><tr><td><a href=\"https://www.encodeproject.org/profiles/experiment.json#files\">experiment:files</a></td><td><a href=\"https://www.encodeproject.org/files/ENCFF209GJN/\">files:ENCFF209GJN/</a></td></tr><tr><td><a href=\"https://www.encodeproject.org/profiles/experiment.json#files\">experiment:files</a></td><td><a href=\"https://www.encodeproject.org/files/ENCFF859SVY/\">files:ENCFF859SVY/</a></td></tr><tr><td><a href=\"https://www.encodeproject.org/profiles/experiment.json#files\">experiment:files</a></td><td><a href=\"https://www.encodeproject.org/files/ENCFF827BVN/\">files:ENCFF827BVN/</a></td></tr><tr><td><a href=\"https://www.encodeproject.org/profiles/experiment.json#files\">experiment:files</a></td><td><a href=\"https://www.encodeproject.org/files/ENCFF845BKA/\">files:ENCFF845BKA/</a></td></tr><tr><td><a href=\"https://www.encodeproject.org/profiles/experiment.json#files\">experiment:files</a></td><td><a href=\"https://www.encodeproject.org/files/ENCFF553FQC/\">files:ENCFF553FQC/</a></td></tr><tr><td><a href=\"https://www.encodeproject.org/profiles/experiment.json#files\">experiment:files</a></td><td><a href=\"https://www.encodeproject.org/files/ENCFF027ISE/\">files:ENCFF027ISE/</a></td></tr><tr><td><a href=\"https://www.encodeproject.org/profiles/experiment.json#files\">experiment:files</a></td><td><a href=\"https://www.encodeproject.org/files/ENCFF137ZDG/\">files:ENCFF137ZDG/</a></td></tr><tr><td><a href=\"https://www.encodeproject.org/profiles/experiment.json#files\">experiment:files</a></td><td><a href=\"https://www.encodeproject.org/files/ENCFF390TSB/\">files:ENCFF390TSB/</a></td></tr><tr><td><a href=\"https://www.encodeproject.org/profiles/experiment.json#files\">experiment:files</a></td><td><a href=\"https://www.encodeproject.org/files/ENCFF063KDC/\">files:ENCFF063KDC/</a></td></tr><tr><td><a href=\"https://www.encodeproject.org/profiles/experiment.json#files\">experiment:files</a></td><td><a href=\"https://www.encodeproject.org/files/ENCFF763SOT/\">files:ENCFF763SOT/</a></td></tr><tr><td><a href=\"https://www.encodeproject.org/profiles/experiment.json#files\">experiment:files</a></td><td><a href=\"https://www.encodeproject.org/files/ENCFF170XCG/\">files:ENCFF170XCG/</a></td></tr><tr><td><a href=\"https://www.encodeproject.org/profiles/experiment.json#files\">experiment:files</a></td><td><a href=\"https://www.encodeproject.org/files/ENCFF797LOC/\">files:ENCFF797LOC/</a></td></tr><tr><td><a href=\"https://www.encodeproject.org/profiles/experiment.json#files\">experiment:files</a></td><td><a href=\"https://www.encodeproject.org/files/ENCFF695PLV/\">files:ENCFF695PLV/</a></td></tr><tr><td><a href=\"https://www.encodeproject.org/profiles/experiment.json#files\">experiment:files</a></td><td><a href=\"https://www.encodeproject.org/files/ENCFF493QUY/\">files:ENCFF493QUY/</a></td></tr><tr><td><a href=\"https://www.encodeproject.org/profiles/experiment.json#files\">experiment:files</a></td><td><a href=\"https://www.encodeproject.org/files/ENCFF576FBU/\">files:ENCFF576FBU/</a></td></tr><tr><td><a href=\"https://www.encodeproject.org/profiles/experiment.json#files\">experiment:files</a></td><td><a href=\"https://www.encodeproject.org/files/ENCFF787TLW/\">files:ENCFF787TLW/</a></td></tr><tr><td><a href=\"https://www.encodeproject.org/profiles/experiment.json#files\">experiment:files</a></td><td><a href=\"https://www.encodeproject.org/files/ENCFF821ARG/\">files:ENCFF821ARG/</a></td></tr><tr><td><a href=\"https://www.encodeproject.org/profiles/experiment.json#files\">experiment:files</a></td><td><a href=\"https://www.encodeproject.org/files/ENCFF040ZQM/\">files:ENCFF040ZQM/</a></td></tr><tr><td><a href=\"https://www.encodeproject.org/profiles/experiment.json#files\">experiment:files</a></td><td><a href=\"https://www.encodeproject.org/files/ENCFF353RWV/\">files:ENCFF353RWV/</a></td></tr><tr><td><a href=\"https://www.encodeproject.org/profiles/experiment.json#files\">experiment:files</a></td><td><a href=\"https://www.encodeproject.org/files/ENCFF214FTB/\">files:ENCFF214FTB/</a></td></tr><tr><td><a href=\"https://www.encodeproject.org/profiles/experiment.json#files\">experiment:files</a></td><td><a href=\"https://www.encodeproject.org/files/ENCFF892QXW/\">files:ENCFF892QXW/</a></td></tr><tr><td><a href=\"https://www.encodeproject.org/profiles/experiment.json#files\">experiment:files</a></td><td><a href=\"https://www.encodeproject.org/files/ENCFF954NZM/\">files:ENCFF954NZM/</a></td></tr><tr><td><a href=\"https://www.encodeproject.org/profiles/experiment.json#files\">experiment:files</a></td><td><a href=\"https://www.encodeproject.org/files/ENCFF547UVV/\">files:ENCFF547UVV/</a></td></tr><tr><td><a href=\"https://www.encodeproject.org/profiles/experiment.json#files\">experiment:files</a></td><td><a href=\"https://www.encodeproject.org/files/ENCFF373AZF/\">files:ENCFF373AZF/</a></td></tr><tr><td><a href=\"https://www.encodeproject.org/profiles/experiment.json#files\">experiment:files</a></td><td><a href=\"https://www.encodeproject.org/files/ENCFF970GPC/\">files:ENCFF970GPC/</a></td></tr><tr><td><a href=\"https://www.encodeproject.org/profiles/experiment.json#files\">experiment:files</a></td><td><a href=\"https://www.encodeproject.org/files/ENCFF569GTR/\">files:ENCFF569GTR/</a></td></tr><tr><td><a href=\"https://www.encodeproject.org/profiles/experiment.json#files\">experiment:files</a></td><td><a href=\"https://www.encodeproject.org/files/ENCFF804HFH/\">files:ENCFF804HFH/</a></td></tr><tr><td><a href=\"https://www.encodeproject.org/profiles/experiment.json#files\">experiment:files</a></td><td><a href=\"https://www.encodeproject.org/files/ENCFF637YUR/\">files:ENCFF637YUR/</a></td></tr><tr><td><a href=\"https://www.encodeproject.org/profiles/experiment.json#files\">experiment:files</a></td><td><a href=\"https://www.encodeproject.org/files/ENCFF130PYL/\">files:ENCFF130PYL/</a></td></tr><tr><td><a href=\"https://www.encodeproject.org/profiles/experiment.json#files\">experiment:files</a></td><td><a href=\"https://www.encodeproject.org/files/ENCFF674TYM/\">files:ENCFF674TYM/</a></td></tr><tr><td><a href=\"https://www.encodeproject.org/profiles/experiment.json#files\">experiment:files</a></td><td><a href=\"https://www.encodeproject.org/files/ENCFF087HVO/\">files:ENCFF087HVO/</a></td></tr><tr><td><a href=\"https://www.encodeproject.org/profiles/experiment.json#files\">experiment:files</a></td><td><a href=\"https://www.encodeproject.org/files/ENCFF751OZI/\">files:ENCFF751OZI/</a></td></tr><tr><td><a href=\"https://www.encodeproject.org/profiles/experiment.json#files\">experiment:files</a></td><td><a href=\"https://www.encodeproject.org/files/ENCFF550XWO/\">files:ENCFF550XWO/</a></td></tr><tr><td><a href=\"https://www.encodeproject.org/profiles/experiment.json#files\">experiment:files</a></td><td><a href=\"https://www.encodeproject.org/files/ENCFF631SRT/\">files:ENCFF631SRT/</a></td></tr><tr><td><a href=\"https://www.encodeproject.org/profiles/experiment.json#files\">experiment:files</a></td><td><a href=\"https://www.encodeproject.org/files/ENCFF783MRN/\">files:ENCFF783MRN/</a></td></tr><tr><td><a href=\"https://www.encodeproject.org/profiles/experiment.json#hub\">experiment:hub</a></td><td>/experiments/ENCSR950BNG/@@hub/hub.txt</td></tr><tr><td><a href=\"https://www.encodeproject.org/profiles/experiment.json#lab\">experiment:lab</a></td><td><a href=\"https://www.encodeproject.org/labs/barbara-wold/\">https://www.encodeproject.org/labs/barbara-wold/</a></td></tr><tr><td><a href=\"https://www.encodeproject.org/profiles/experiment.json#month_released\">experiment:month_released</a></td><td>September, 2014</td></tr><tr><td><a href=\"https://www.encodeproject.org/profiles/experiment.json#notes\">experiment:notes</a></td><td>Each fastq represents another run</td></tr><tr><td><a href=\"https://www.encodeproject.org/profiles/experiment.json#organ_slims\">experiment:organ_slims</a></td><td>liver</td></tr><tr><td><a href=\"https://www.encodeproject.org/profiles/experiment.json#original_files\">experiment:original_files</a></td><td><a href=\"https://www.encodeproject.org/files/ENCFF002EXS/\">files:ENCFF002EXS/</a></td></tr><tr><td><a href=\"https://www.encodeproject.org/profiles/experiment.json#original_files\">experiment:original_files</a></td><td><a href=\"https://www.encodeproject.org/files/ENCFF002EXT/\">files:ENCFF002EXT/</a></td></tr><tr><td><a href=\"https://www.encodeproject.org/profiles/experiment.json#original_files\">experiment:original_files</a></td><td><a href=\"https://www.encodeproject.org/files/ENCFF002EXY/\">files:ENCFF002EXY/</a></td></tr><tr><td><a href=\"https://www.encodeproject.org/profiles/experiment.json#original_files\">experiment:original_files</a></td><td><a href=\"https://www.encodeproject.org/files/ENCFF002EYA/\">files:ENCFF002EYA/</a></td></tr><tr><td><a href=\"https://www.encodeproject.org/profiles/experiment.json#original_files\">experiment:original_files</a></td><td><a href=\"https://www.encodeproject.org/files/ENCFF002EYB/\">files:ENCFF002EYB/</a></td></tr><tr><td><a href=\"https://www.encodeproject.org/profiles/experiment.json#original_files\">experiment:original_files</a></td><td><a href=\"https://www.encodeproject.org/files/ENCFF002EYC/\">files:ENCFF002EYC/</a></td></tr><tr><td><a href=\"https://www.encodeproject.org/profiles/experiment.json#original_files\">experiment:original_files</a></td><td><a href=\"https://www.encodeproject.org/files/ENCFF002EYK/\">files:ENCFF002EYK/</a></td></tr><tr><td><a href=\"https://www.encodeproject.org/profiles/experiment.json#original_files\">experiment:original_files</a></td><td><a href=\"https://www.encodeproject.org/files/ENCFF002EYL/\">files:ENCFF002EYL/</a></td></tr><tr><td><a href=\"https://www.encodeproject.org/profiles/experiment.json#original_files\">experiment:original_files</a></td><td><a href=\"https://www.encodeproject.org/files/ENCFF867DPD/\">files:ENCFF867DPD/</a></td></tr><tr><td><a href=\"https://www.encodeproject.org/profiles/experiment.json#original_files\">experiment:original_files</a></td><td><a href=\"https://www.encodeproject.org/files/ENCFF923KGS/\">files:ENCFF923KGS/</a></td></tr><tr><td><a href=\"https://www.encodeproject.org/profiles/experiment.json#original_files\">experiment:original_files</a></td><td><a href=\"https://www.encodeproject.org/files/ENCFF722KXP/\">files:ENCFF722KXP/</a></td></tr><tr><td><a href=\"https://www.encodeproject.org/profiles/experiment.json#original_files\">experiment:original_files</a></td><td><a href=\"https://www.encodeproject.org/files/ENCFF387RVH/\">files:ENCFF387RVH/</a></td></tr><tr><td><a href=\"https://www.encodeproject.org/profiles/experiment.json#original_files\">experiment:original_files</a></td><td><a href=\"https://www.encodeproject.org/files/ENCFF527CSN/\">files:ENCFF527CSN/</a></td></tr><tr><td><a href=\"https://www.encodeproject.org/profiles/experiment.json#original_files\">experiment:original_files</a></td><td><a href=\"https://www.encodeproject.org/files/ENCFF516WRE/\">files:ENCFF516WRE/</a></td></tr><tr><td><a href=\"https://www.encodeproject.org/profiles/experiment.json#original_files\">experiment:original_files</a></td><td><a href=\"https://www.encodeproject.org/files/ENCFF129FDX/\">files:ENCFF129FDX/</a></td></tr><tr><td><a href=\"https://www.encodeproject.org/profiles/experiment.json#original_files\">experiment:original_files</a></td><td><a href=\"https://www.encodeproject.org/files/ENCFF285IAE/\">files:ENCFF285IAE/</a></td></tr><tr><td><a href=\"https://www.encodeproject.org/profiles/experiment.json#original_files\">experiment:original_files</a></td><td><a href=\"https://www.encodeproject.org/files/ENCFF023RHI/\">files:ENCFF023RHI/</a></td></tr><tr><td><a href=\"https://www.encodeproject.org/profiles/experiment.json#original_files\">experiment:original_files</a></td><td><a href=\"https://www.encodeproject.org/files/ENCFF321HZK/\">files:ENCFF321HZK/</a></td></tr><tr><td><a href=\"https://www.encodeproject.org/profiles/experiment.json#original_files\">experiment:original_files</a></td><td><a href=\"https://www.encodeproject.org/files/ENCFF814JOQ/\">files:ENCFF814JOQ/</a></td></tr><tr><td><a href=\"https://www.encodeproject.org/profiles/experiment.json#original_files\">experiment:original_files</a></td><td><a href=\"https://www.encodeproject.org/files/ENCFF784BCV/\">files:ENCFF784BCV/</a></td></tr><tr><td><a href=\"https://www.encodeproject.org/profiles/experiment.json#original_files\">experiment:original_files</a></td><td><a href=\"https://www.encodeproject.org/files/ENCFF933CIF/\">files:ENCFF933CIF/</a></td></tr><tr><td><a href=\"https://www.encodeproject.org/profiles/experiment.json#original_files\">experiment:original_files</a></td><td><a href=\"https://www.encodeproject.org/files/ENCFF209GJN/\">files:ENCFF209GJN/</a></td></tr><tr><td><a href=\"https://www.encodeproject.org/profiles/experiment.json#original_files\">experiment:original_files</a></td><td><a href=\"https://www.encodeproject.org/files/ENCFF859SVY/\">files:ENCFF859SVY/</a></td></tr><tr><td><a href=\"https://www.encodeproject.org/profiles/experiment.json#original_files\">experiment:original_files</a></td><td><a href=\"https://www.encodeproject.org/files/ENCFF827BVN/\">files:ENCFF827BVN/</a></td></tr><tr><td><a href=\"https://www.encodeproject.org/profiles/experiment.json#original_files\">experiment:original_files</a></td><td><a href=\"https://www.encodeproject.org/files/ENCFF845BKA/\">files:ENCFF845BKA/</a></td></tr><tr><td><a href=\"https://www.encodeproject.org/profiles/experiment.json#original_files\">experiment:original_files</a></td><td><a href=\"https://www.encodeproject.org/files/ENCFF553FQC/\">files:ENCFF553FQC/</a></td></tr><tr><td><a href=\"https://www.encodeproject.org/profiles/experiment.json#original_files\">experiment:original_files</a></td><td><a href=\"https://www.encodeproject.org/files/ENCFF027ISE/\">files:ENCFF027ISE/</a></td></tr><tr><td><a href=\"https://www.encodeproject.org/profiles/experiment.json#original_files\">experiment:original_files</a></td><td><a href=\"https://www.encodeproject.org/files/ENCFF137ZDG/\">files:ENCFF137ZDG/</a></td></tr><tr><td><a href=\"https://www.encodeproject.org/profiles/experiment.json#original_files\">experiment:original_files</a></td><td><a href=\"https://www.encodeproject.org/files/ENCFF390TSB/\">files:ENCFF390TSB/</a></td></tr><tr><td><a href=\"https://www.encodeproject.org/profiles/experiment.json#original_files\">experiment:original_files</a></td><td><a href=\"https://www.encodeproject.org/files/ENCFF063KDC/\">files:ENCFF063KDC/</a></td></tr><tr><td><a href=\"https://www.encodeproject.org/profiles/experiment.json#original_files\">experiment:original_files</a></td><td><a href=\"https://www.encodeproject.org/files/ENCFF763SOT/\">files:ENCFF763SOT/</a></td></tr><tr><td><a href=\"https://www.encodeproject.org/profiles/experiment.json#original_files\">experiment:original_files</a></td><td><a href=\"https://www.encodeproject.org/files/ENCFF170XCG/\">files:ENCFF170XCG/</a></td></tr><tr><td><a href=\"https://www.encodeproject.org/profiles/experiment.json#original_files\">experiment:original_files</a></td><td><a href=\"https://www.encodeproject.org/files/ENCFF797LOC/\">files:ENCFF797LOC/</a></td></tr><tr><td><a href=\"https://www.encodeproject.org/profiles/experiment.json#original_files\">experiment:original_files</a></td><td><a href=\"https://www.encodeproject.org/files/ENCFF695PLV/\">files:ENCFF695PLV/</a></td></tr><tr><td><a href=\"https://www.encodeproject.org/profiles/experiment.json#original_files\">experiment:original_files</a></td><td><a href=\"https://www.encodeproject.org/files/ENCFF493QUY/\">files:ENCFF493QUY/</a></td></tr><tr><td><a href=\"https://www.encodeproject.org/profiles/experiment.json#original_files\">experiment:original_files</a></td><td><a href=\"https://www.encodeproject.org/files/ENCFF576FBU/\">files:ENCFF576FBU/</a></td></tr><tr><td><a href=\"https://www.encodeproject.org/profiles/experiment.json#original_files\">experiment:original_files</a></td><td><a href=\"https://www.encodeproject.org/files/ENCFF787TLW/\">files:ENCFF787TLW/</a></td></tr><tr><td><a href=\"https://www.encodeproject.org/profiles/experiment.json#original_files\">experiment:original_files</a></td><td><a href=\"https://www.encodeproject.org/files/ENCFF821ARG/\">files:ENCFF821ARG/</a></td></tr><tr><td><a href=\"https://www.encodeproject.org/profiles/experiment.json#original_files\">experiment:original_files</a></td><td><a href=\"https://www.encodeproject.org/files/ENCFF040ZQM/\">files:ENCFF040ZQM/</a></td></tr><tr><td><a href=\"https://www.encodeproject.org/profiles/experiment.json#original_files\">experiment:original_files</a></td><td><a href=\"https://www.encodeproject.org/files/ENCFF353RWV/\">files:ENCFF353RWV/</a></td></tr><tr><td><a href=\"https://www.encodeproject.org/profiles/experiment.json#original_files\">experiment:original_files</a></td><td><a href=\"https://www.encodeproject.org/files/ENCFF214FTB/\">files:ENCFF214FTB/</a></td></tr><tr><td><a href=\"https://www.encodeproject.org/profiles/experiment.json#original_files\">experiment:original_files</a></td><td><a href=\"https://www.encodeproject.org/files/ENCFF892QXW/\">files:ENCFF892QXW/</a></td></tr><tr><td><a href=\"https://www.encodeproject.org/profiles/experiment.json#original_files\">experiment:original_files</a></td><td><a href=\"https://www.encodeproject.org/files/ENCFF954NZM/\">files:ENCFF954NZM/</a></td></tr><tr><td><a href=\"https://www.encodeproject.org/profiles/experiment.json#original_files\">experiment:original_files</a></td><td><a href=\"https://www.encodeproject.org/files/ENCFF547UVV/\">files:ENCFF547UVV/</a></td></tr><tr><td><a href=\"https://www.encodeproject.org/profiles/experiment.json#original_files\">experiment:original_files</a></td><td><a href=\"https://www.encodeproject.org/files/ENCFF373AZF/\">files:ENCFF373AZF/</a></td></tr><tr><td><a href=\"https://www.encodeproject.org/profiles/experiment.json#original_files\">experiment:original_files</a></td><td><a href=\"https://www.encodeproject.org/files/ENCFF970GPC/\">files:ENCFF970GPC/</a></td></tr><tr><td><a href=\"https://www.encodeproject.org/profiles/experiment.json#original_files\">experiment:original_files</a></td><td><a href=\"https://www.encodeproject.org/files/ENCFF569GTR/\">files:ENCFF569GTR/</a></td></tr><tr><td><a href=\"https://www.encodeproject.org/profiles/experiment.json#original_files\">experiment:original_files</a></td><td><a href=\"https://www.encodeproject.org/files/ENCFF804HFH/\">files:ENCFF804HFH/</a></td></tr><tr><td><a href=\"https://www.encodeproject.org/profiles/experiment.json#original_files\">experiment:original_files</a></td><td><a href=\"https://www.encodeproject.org/files/ENCFF637YUR/\">files:ENCFF637YUR/</a></td></tr><tr><td><a href=\"https://www.encodeproject.org/profiles/experiment.json#original_files\">experiment:original_files</a></td><td><a href=\"https://www.encodeproject.org/files/ENCFF130PYL/\">files:ENCFF130PYL/</a></td></tr><tr><td><a href=\"https://www.encodeproject.org/profiles/experiment.json#original_files\">experiment:original_files</a></td><td><a href=\"https://www.encodeproject.org/files/ENCFF674TYM/\">files:ENCFF674TYM/</a></td></tr><tr><td><a href=\"https://www.encodeproject.org/profiles/experiment.json#original_files\">experiment:original_files</a></td><td><a href=\"https://www.encodeproject.org/files/ENCFF005UGC/\">files:ENCFF005UGC/</a></td></tr><tr><td><a href=\"https://www.encodeproject.org/profiles/experiment.json#original_files\">experiment:original_files</a></td><td><a href=\"https://www.encodeproject.org/files/ENCFF087HVO/\">files:ENCFF087HVO/</a></td></tr><tr><td><a href=\"https://www.encodeproject.org/profiles/experiment.json#original_files\">experiment:original_files</a></td><td><a href=\"https://www.encodeproject.org/files/ENCFF967YCB/\">files:ENCFF967YCB/</a></td></tr><tr><td><a href=\"https://www.encodeproject.org/profiles/experiment.json#original_files\">experiment:original_files</a></td><td><a href=\"https://www.encodeproject.org/files/ENCFF751OZI/\">files:ENCFF751OZI/</a></td></tr><tr><td><a href=\"https://www.encodeproject.org/profiles/experiment.json#original_files\">experiment:original_files</a></td><td><a href=\"https://www.encodeproject.org/files/ENCFF550XWO/\">files:ENCFF550XWO/</a></td></tr><tr><td><a href=\"https://www.encodeproject.org/profiles/experiment.json#original_files\">experiment:original_files</a></td><td><a href=\"https://www.encodeproject.org/files/ENCFF631SRT/\">files:ENCFF631SRT/</a></td></tr><tr><td><a href=\"https://www.encodeproject.org/profiles/experiment.json#original_files\">experiment:original_files</a></td><td><a href=\"https://www.encodeproject.org/files/ENCFF591VEW/\">files:ENCFF591VEW/</a></td></tr><tr><td><a href=\"https://www.encodeproject.org/profiles/experiment.json#original_files\">experiment:original_files</a></td><td><a href=\"https://www.encodeproject.org/files/ENCFF783MRN/\">files:ENCFF783MRN/</a></td></tr><tr><td><a href=\"https://www.encodeproject.org/profiles/experiment.json#original_files\">experiment:original_files</a></td><td><a href=\"https://www.encodeproject.org/files/ENCFF681OEP/\">files:ENCFF681OEP/</a></td></tr><tr><td><a href=\"https://www.encodeproject.org/profiles/experiment.json#original_files\">experiment:original_files</a></td><td><a href=\"https://www.encodeproject.org/files/ENCFF857UOE/\">files:ENCFF857UOE/</a></td></tr><tr><td><a href=\"https://www.encodeproject.org/profiles/experiment.json#original_files\">experiment:original_files</a></td><td><a href=\"https://www.encodeproject.org/files/ENCFF901NTL/\">files:ENCFF901NTL/</a></td></tr><tr><td><a href=\"https://www.encodeproject.org/profiles/experiment.json#replicates\">experiment:replicates</a></td><td><a href=\"https://www.encodeproject.org/replicates/ef6f7d29-4bea-4831-a4ed-095ca88cf4fe/\">https://www.encodeproject.org/replicates/ef6f7d29-4bea-4831-a4ed-095ca88cf4fe/</a></td></tr><tr><td><a href=\"https://www.encodeproject.org/profiles/experiment.json#replicates\">experiment:replicates</a></td><td><a href=\"https://www.encodeproject.org/replicates/60288e04-8a02-4f20-b258-e874ce5521a7/\">https://www.encodeproject.org/replicates/60288e04-8a02-4f20-b258-e874ce5521a7/</a></td></tr><tr><td><a href=\"https://www.encodeproject.org/profiles/experiment.json#revoked_files\">experiment:revoked_files</a></td><td>/files/ENCFF005UGC/</td></tr><tr><td><a href=\"https://www.encodeproject.org/profiles/experiment.json#revoked_files\">experiment:revoked_files</a></td><td>/files/ENCFF967YCB/</td></tr><tr><td><a href=\"https://www.encodeproject.org/profiles/experiment.json#revoked_files\">experiment:revoked_files</a></td><td>/files/ENCFF591VEW/</td></tr><tr><td><a href=\"https://www.encodeproject.org/profiles/experiment.json#revoked_files\">experiment:revoked_files</a></td><td>/files/ENCFF681OEP/</td></tr><tr><td><a href=\"https://www.encodeproject.org/profiles/experiment.json#revoked_files\">experiment:revoked_files</a></td><td>/files/ENCFF857UOE/</td></tr><tr><td><a href=\"https://www.encodeproject.org/profiles/experiment.json#revoked_files\">experiment:revoked_files</a></td><td>/files/ENCFF901NTL/</td></tr><tr><td><a href=\"https://www.encodeproject.org/profiles/experiment.json#revoked_files\">experiment:revoked_files</a></td><td><a href=\"https://www.encodeproject.org/files/ENCFF005UGC/\">files:ENCFF005UGC/</a></td></tr><tr><td><a href=\"https://www.encodeproject.org/profiles/experiment.json#revoked_files\">experiment:revoked_files</a></td><td><a href=\"https://www.encodeproject.org/files/ENCFF967YCB/\">files:ENCFF967YCB/</a></td></tr><tr><td><a href=\"https://www.encodeproject.org/profiles/experiment.json#revoked_files\">experiment:revoked_files</a></td><td><a href=\"https://www.encodeproject.org/files/ENCFF591VEW/\">files:ENCFF591VEW/</a></td></tr><tr><td><a href=\"https://www.encodeproject.org/profiles/experiment.json#revoked_files\">experiment:revoked_files</a></td><td><a href=\"https://www.encodeproject.org/files/ENCFF681OEP/\">files:ENCFF681OEP/</a></td></tr><tr><td><a href=\"https://www.encodeproject.org/profiles/experiment.json#revoked_files\">experiment:revoked_files</a></td><td><a href=\"https://www.encodeproject.org/files/ENCFF857UOE/\">files:ENCFF857UOE/</a></td></tr><tr><td><a href=\"https://www.encodeproject.org/profiles/experiment.json#revoked_files\">experiment:revoked_files</a></td><td><a href=\"https://www.encodeproject.org/files/ENCFF901NTL/\">files:ENCFF901NTL/</a></td></tr><tr><td><a href=\"https://www.encodeproject.org/profiles/experiment.json#schema_version\">experiment:schema_version</a></td><td>6</td></tr><tr><td><a href=\"https://www.encodeproject.org/profiles/experiment.json#status\">experiment:status</a></td><td>released</td></tr><tr><td><a href=\"https://www.encodeproject.org/profiles/experiment.json#submitted_by\">experiment:submitted_by</a></td><td><a href=\"https://www.encodeproject.org/users/bc5b62f7-ce28-4a1e-b6b3-81c9c5a86d7a/\">https://www.encodeproject.org/users/bc5b62f7-ce28-4a1e-b6b3-81c9c5a86d7a/</a></td></tr><tr><td><a href=\"https://www.encodeproject.org/profiles/experiment.json#system_slims\">experiment:system_slims</a></td><td>endocrine system</td></tr><tr><td><a href=\"https://www.encodeproject.org/profiles/experiment.json#system_slims\">experiment:system_slims</a></td><td>digestive system</td></tr><tr><td><a href=\"https://www.encodeproject.org/profiles/experiment.json#uuid\">experiment:uuid</a></td><td>788442d0-b7fc-4114-bd69-09d3db43c817</td></tr><tr><td><a href=\"https://www.encodeproject.org/profiles/experiment.json#visualize_ucsc\">experiment:visualize_ucsc</a></td><td>http://genome.ucsc.edu/cgi-bin/hgHubConnect?hgHub_do_redirect=on&hgHubConnect.remakeTrackHub=on&hgHub_do_firstDb=1&hubUrl=https://www.encodeproject.org/experiments/ENCSR950BNG/@@hub/hub.txt</td></tr></table>"
      ],
      "text/plain": [
       "<rdfmagic.LibRdfResults at 0x7f32306fec18>"
      ]
     },
     "execution_count": 23,
     "metadata": {},
     "output_type": "execute_result"
    }
   ],
   "source": [
    "%%sparql -m model\n",
    "select ?p ?o \n",
    "where {\n",
    "    <https://www.encodeproject.org/experiments/ENCSR950BNG/> ?p ?o\n",
    "}"
   ]
  },
  {
   "cell_type": "code",
   "execution_count": 21,
   "metadata": {
    "collapsed": false
   },
   "outputs": [
    {
     "data": {
      "text/html": [
       "<table><tr><td>p</td><td>o</td></tr><tr><td><a href=\"http://www.w3.org/1999/02/22-rdf-syntax-ns#type\">rdf:type</a></td><td><a href=\"https://www.encodeproject.org/profiles/replicate.json#replicate\">replicate:replicate</a></td></tr><tr><td><a href=\"http://www.w3.org/1999/02/22-rdf-syntax-ns#type\">rdf:type</a></td><td><a href=\"https://www.encodeproject.org/profiles/replicate.json#item\">replicate:item</a></td></tr><tr><td><a href=\"https://www.encodeproject.org/profiles/replicate.json#biological_replicate_number\">replicate:biological_replicate_number</a></td><td>1</td></tr><tr><td><a href=\"https://www.encodeproject.org/profiles/replicate.json#date_created\">replicate:date_created</a></td><td>2015-06-26T00:17:47.115331+00:00</td></tr><tr><td><a href=\"https://www.encodeproject.org/profiles/replicate.json#experiment\">replicate:experiment</a></td><td><a href=\"https://www.encodeproject.org/experiments/ENCSR388ZNJ/\">experiments:ENCSR388ZNJ/</a></td></tr><tr><td><a href=\"https://www.encodeproject.org/profiles/replicate.json#library\">replicate:library</a></td><td><a href=\"https://www.encodeproject.org/libraries/ENCLB869UHR/\">libraries:ENCLB869UHR/</a></td></tr><tr><td><a href=\"https://www.encodeproject.org/profiles/replicate.json#notes\">replicate:notes</a></td><td>{}</td></tr><tr><td><a href=\"https://www.encodeproject.org/profiles/replicate.json#schema_version\">replicate:schema_version</a></td><td>5</td></tr><tr><td><a href=\"https://www.encodeproject.org/profiles/replicate.json#status\">replicate:status</a></td><td>in progress</td></tr><tr><td><a href=\"https://www.encodeproject.org/profiles/replicate.json#submitted_by\">replicate:submitted_by</a></td><td><a href=\"https://www.encodeproject.org/users/bc5b62f7-ce28-4a1e-b6b3-81c9c5a86d7a/\">https://www.encodeproject.org/users/bc5b62f7-ce28-4a1e-b6b3-81c9c5a86d7a/</a></td></tr><tr><td><a href=\"https://www.encodeproject.org/profiles/replicate.json#technical_replicate_number\">replicate:technical_replicate_number</a></td><td>1</td></tr><tr><td><a href=\"https://www.encodeproject.org/profiles/replicate.json#uuid\">replicate:uuid</a></td><td>a37a8cff-5bf7-47fc-b9a0-fa2aafebb9c3</td></tr></table>"
      ],
      "text/plain": [
       "<rdfmagic.LibRdfResults at 0x7f323071cba8>"
      ]
     },
     "execution_count": 21,
     "metadata": {},
     "output_type": "execute_result"
    }
   ],
   "source": [
    "%%sparql -m model\n",
    "select ?p ?o\n",
    "where {\n",
    "    <https://www.encodeproject.org/replicates/a37a8cff-5bf7-47fc-b9a0-fa2aafebb9c3/> ?p ?o .\n",
    "}"
   ]
  },
  {
   "cell_type": "code",
   "execution_count": 22,
   "metadata": {
    "collapsed": false
   },
   "outputs": [
    {
     "data": {
      "text/html": [
       "<table><tr><td>p</td><td>o</td></tr><tr><td><a href=\"http://www.w3.org/1999/02/22-rdf-syntax-ns#type\">rdf:type</a></td><td><a href=\"https://www.encodeproject.org/profiles/biosample.json#biosample\">biosample:biosample</a></td></tr><tr><td><a href=\"http://www.w3.org/1999/02/22-rdf-syntax-ns#type\">rdf:type</a></td><td><a href=\"https://www.encodeproject.org/profiles/biosample.json#item\">biosample:item</a></td></tr><tr><td><a href=\"http://www.w3.org/1999/02/22-rdf-syntax-ns#description\">rdf:description</a></td><td>LCMD-504_Mm_Castaneus_x_C57Bl-granule-layer 30 purkinje cell area equivalent</td></tr><tr><td><a href=\"https://www.encodeproject.org/profiles/biosample.json#accession\">biosample:accession</a></td><td>ENCBS616ZXC</td></tr><tr><td><a href=\"https://www.encodeproject.org/profiles/biosample.json#age\">biosample:age</a></td><td>14.0</td></tr><tr><td><a href=\"https://www.encodeproject.org/profiles/biosample.json#age_display\">biosample:age_display</a></td><td>14.0 month</td></tr><tr><td><a href=\"https://www.encodeproject.org/profiles/biosample.json#age_units\">biosample:age_units</a></td><td>month</td></tr><tr><td><a href=\"https://www.encodeproject.org/profiles/biosample.json#aliases\">biosample:aliases</a></td><td>barbara-wold:sample-15346</td></tr><tr><td><a href=\"https://www.encodeproject.org/profiles/biosample.json#award\">biosample:award</a></td><td><a href=\"https://www.encodeproject.org/awards/U54HG006998/\">https://www.encodeproject.org/awards/U54HG006998/</a></td></tr><tr><td><a href=\"https://www.encodeproject.org/profiles/biosample.json#biosample_term_id\">biosample:biosample_term_id</a></td><td><a href=\"UBERON:0002956\">UBERON:0002956</a></td></tr><tr><td><a href=\"https://www.encodeproject.org/profiles/biosample.json#biosample_term_name\">biosample:biosample_term_name</a></td><td>cerebellar granule layer</td></tr><tr><td><a href=\"https://www.encodeproject.org/profiles/biosample.json#biosample_type\">biosample:biosample_type</a></td><td>primary cell</td></tr><tr><td><a href=\"https://www.encodeproject.org/profiles/biosample.json#date_created\">biosample:date_created</a></td><td>2015-06-25T21:34:30.086135+00:00</td></tr><tr><td><a href=\"https://www.encodeproject.org/profiles/biosample.json#date_obtained\">biosample:date_obtained</a></td><td>2012-12-07</td></tr><tr><td><a href=\"https://www.encodeproject.org/profiles/biosample.json#developmental_slims\">biosample:developmental_slims</a></td><td>ectoderm</td></tr><tr><td><a href=\"https://www.encodeproject.org/profiles/biosample.json#donor\">biosample:donor</a></td><td>/mouse-donors/ENCDO509HIY/</td></tr><tr><td><a href=\"https://www.encodeproject.org/profiles/biosample.json#donor\">biosample:donor</a></td><td><a href=\"https://www.encodeproject.org/mouse-donors/ENCDO509HIY/\">https://www.encodeproject.org/mouse-donors/ENCDO509HIY/</a></td></tr><tr><td><a href=\"https://www.encodeproject.org/profiles/biosample.json#lab\">biosample:lab</a></td><td><a href=\"https://www.encodeproject.org/labs/barbara-wold/\">https://www.encodeproject.org/labs/barbara-wold/</a></td></tr><tr><td><a href=\"https://www.encodeproject.org/profiles/biosample.json#life_stage\">biosample:life_stage</a></td><td>adult</td></tr><tr><td><a href=\"https://www.encodeproject.org/profiles/biosample.json#model_organism_age\">biosample:model_organism_age</a></td><td>14.0</td></tr><tr><td><a href=\"https://www.encodeproject.org/profiles/biosample.json#model_organism_age_units\">biosample:model_organism_age_units</a></td><td>month</td></tr><tr><td><a href=\"https://www.encodeproject.org/profiles/biosample.json#mouse_life_stage\">biosample:mouse_life_stage</a></td><td>adult</td></tr><tr><td><a href=\"https://www.encodeproject.org/profiles/biosample.json#organ_slims\">biosample:organ_slims</a></td><td>brain</td></tr><tr><td><a href=\"https://www.encodeproject.org/profiles/biosample.json#organism\">biosample:organism</a></td><td>/organisms/mouse/</td></tr><tr><td><a href=\"https://www.encodeproject.org/profiles/biosample.json#organism\">biosample:organism</a></td><td><a href=\"https://www.encodeproject.org/organisms/mouse/\">https://www.encodeproject.org/organisms/mouse/</a></td></tr><tr><td><a href=\"https://www.encodeproject.org/profiles/biosample.json#part_of\">biosample:part_of</a></td><td>/biosamples/ENCBS488QWM/</td></tr><tr><td><a href=\"https://www.encodeproject.org/profiles/biosample.json#protocol_documents\">biosample:protocol_documents</a></td><td>/documents/a6e06058-5019-488f-9195-8bcd2e9229c1/</td></tr><tr><td><a href=\"https://www.encodeproject.org/profiles/biosample.json#schema_version\">biosample:schema_version</a></td><td>11</td></tr><tr><td><a href=\"https://www.encodeproject.org/profiles/biosample.json#source\">biosample:source</a></td><td>/sources/barbara-wold/</td></tr><tr><td><a href=\"https://www.encodeproject.org/profiles/biosample.json#source\">biosample:source</a></td><td><a href=\"https://www.encodeproject.org/sources/barbara-wold/\">https://www.encodeproject.org/sources/barbara-wold/</a></td></tr><tr><td><a href=\"https://www.encodeproject.org/profiles/biosample.json#starting_amount\">biosample:starting_amount</a></td><td>1</td></tr><tr><td><a href=\"https://www.encodeproject.org/profiles/biosample.json#starting_amount_units\">biosample:starting_amount_units</a></td><td>items</td></tr><tr><td><a href=\"https://www.encodeproject.org/profiles/biosample.json#status\">biosample:status</a></td><td>in progress</td></tr><tr><td><a href=\"https://www.encodeproject.org/profiles/biosample.json#submitted_by\">biosample:submitted_by</a></td><td><a href=\"https://www.encodeproject.org/users/bc5b62f7-ce28-4a1e-b6b3-81c9c5a86d7a/\">https://www.encodeproject.org/users/bc5b62f7-ce28-4a1e-b6b3-81c9c5a86d7a/</a></td></tr><tr><td><a href=\"https://www.encodeproject.org/profiles/biosample.json#synonyms\">biosample:synonyms</a></td><td>stratum granulosum cerebelli</td></tr><tr><td><a href=\"https://www.encodeproject.org/profiles/biosample.json#synonyms\">biosample:synonyms</a></td><td>cerebellum granule layer</td></tr><tr><td><a href=\"https://www.encodeproject.org/profiles/biosample.json#synonyms\">biosample:synonyms</a></td><td>cerebellar granule layer</td></tr><tr><td><a href=\"https://www.encodeproject.org/profiles/biosample.json#synonyms\">biosample:synonyms</a></td><td>cerebellar granule cell layer</td></tr><tr><td><a href=\"https://www.encodeproject.org/profiles/biosample.json#synonyms\">biosample:synonyms</a></td><td>cerebellar granular layer</td></tr><tr><td><a href=\"https://www.encodeproject.org/profiles/biosample.json#synonyms\">biosample:synonyms</a></td><td>cerebellum granule cell layer</td></tr><tr><td><a href=\"https://www.encodeproject.org/profiles/biosample.json#synonyms\">biosample:synonyms</a></td><td>granule cell layer of cerebellar cortex</td></tr><tr><td><a href=\"https://www.encodeproject.org/profiles/biosample.json#system_slims\">biosample:system_slims</a></td><td>central nervous system</td></tr><tr><td><a href=\"https://www.encodeproject.org/profiles/biosample.json#uuid\">biosample:uuid</a></td><td>e33912fc-a561-4bfc-9cb2-464770a686a4</td></tr></table>"
      ],
      "text/plain": [
       "<rdfmagic.LibRdfResults at 0x7f32307232e8>"
      ]
     },
     "execution_count": 22,
     "metadata": {},
     "output_type": "execute_result"
    }
   ],
   "source": [
    "%%sparql -m model\n",
    "select ?p ?o \n",
    "where {\n",
    "  <https://www.encodeproject.org/biosamples/ENCBS616ZXC/> ?p ?o\n",
    "    }"
   ]
  },
  {
   "cell_type": "code",
   "execution_count": null,
   "metadata": {
    "collapsed": true
   },
   "outputs": [],
   "source": []
  }
 ],
 "metadata": {
  "kernelspec": {
   "display_name": "Python 3",
   "language": "python",
   "name": "python3"
  },
  "language_info": {
   "codemirror_mode": {
    "name": "ipython",
    "version": 3
   },
   "file_extension": ".py",
   "mimetype": "text/x-python",
   "name": "python",
   "nbconvert_exporter": "python",
   "pygments_lexer": "ipython3",
   "version": "3.4.3+"
  }
 },
 "nbformat": 4,
 "nbformat_minor": 0
}
