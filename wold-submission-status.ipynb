{
 "metadata": {
  "name": "",
  "signature": "sha256:ecfb8711ad14c718b0215e38b963143bd45c31f18c47927c372f28975296960f"
 },
 "nbformat": 3,
 "nbformat_minor": 0,
 "worksheets": [
  {
   "cells": [
    {
     "cell_type": "markdown",
     "metadata": {},
     "source": [
      "Whats' released?"
     ]
    },
    {
     "cell_type": "heading",
     "level": 1,
     "metadata": {},
     "source": [
      "Setup"
     ]
    },
    {
     "cell_type": "code",
     "collapsed": false,
     "input": [
      "from __future__ import print_function"
     ],
     "language": "python",
     "metadata": {},
     "outputs": [],
     "prompt_number": 1
    },
    {
     "cell_type": "code",
     "collapsed": false,
     "input": [
      "import sys\n",
      "import os\n",
      "from IPython.display import clear_output\n",
      "import RDF\n",
      "import pandas"
     ],
     "language": "python",
     "metadata": {},
     "outputs": [],
     "prompt_number": 46
    },
    {
     "cell_type": "code",
     "collapsed": false,
     "input": [
      "from curation_common import *"
     ],
     "language": "python",
     "metadata": {},
     "outputs": [],
     "prompt_number": 3
    },
    {
     "cell_type": "code",
     "collapsed": false,
     "input": [
      "from htsworkflow.util.rdfhelp import fromTypedNode"
     ],
     "language": "python",
     "metadata": {},
     "outputs": [],
     "prompt_number": 43
    },
    {
     "cell_type": "code",
     "collapsed": false,
     "input": [
      "%load_ext rdfmagic"
     ],
     "language": "python",
     "metadata": {},
     "outputs": [
      {
       "output_type": "stream",
       "stream": "stdout",
       "text": [
        "The rdfmagic extension is already loaded. To reload it, use:\n",
        "  %reload_ext rdfmagic\n"
       ]
      }
     ],
     "prompt_number": 4
    },
    {
     "cell_type": "code",
     "collapsed": false,
     "input": [
      "server = ENCODED('www.encodeproject.org')\n",
      "server.load_netrc()"
     ],
     "language": "python",
     "metadata": {},
     "outputs": [],
     "prompt_number": 5
    },
    {
     "cell_type": "code",
     "collapsed": false,
     "input": [
      "model = get_model()"
     ],
     "language": "python",
     "metadata": {},
     "outputs": [],
     "prompt_number": 6
    },
    {
     "cell_type": "heading",
     "level": 1,
     "metadata": {},
     "source": [
      "Load status from DCC"
     ]
    },
    {
     "cell_type": "code",
     "collapsed": false,
     "input": [
      "search = server.get_json('/search/?type=experiment&lab.title=Barbara Wold, Caltech&award.rfa=ENCODE3')\n",
      "len(search['@graph'])"
     ],
     "language": "python",
     "metadata": {},
     "outputs": [
      {
       "metadata": {},
       "output_type": "pyout",
       "prompt_number": 7,
       "text": [
        "174"
       ]
      }
     ],
     "prompt_number": 7
    },
    {
     "cell_type": "code",
     "collapsed": false,
     "input": [
      "for i, row in enumerate(search['@graph']):\n",
      "    experiment_id = row['@id']\n",
      "    #clear_output()\n",
      "    print('loading', experiment_id, i, len(search['@graph']))\n",
      "    experiment = server.get_jsonld(experiment_id)\n",
      "    load_jsonld_into_model(model, experiment)"
     ],
     "language": "python",
     "metadata": {},
     "outputs": [
      {
       "output_type": "stream",
       "stream": "stdout",
       "text": [
        "loading /experiments/ENCSR331XCE/ 0 174\n",
        "loading"
       ]
      },
      {
       "output_type": "stream",
       "stream": "stdout",
       "text": [
        " /experiments/ENCSR178GUS/ 1 174\n",
        "loading"
       ]
      },
      {
       "output_type": "stream",
       "stream": "stdout",
       "text": [
        " /experiments/ENCSR772FQU/ 2 174\n",
        "loading"
       ]
      },
      {
       "output_type": "stream",
       "stream": "stdout",
       "text": [
        " /experiments/ENCSR946HWC/ 3 174\n",
        "loading"
       ]
      },
      {
       "output_type": "stream",
       "stream": "stdout",
       "text": [
        " /experiments/ENCSR982MRY/ 4 174\n",
        "loading"
       ]
      },
      {
       "output_type": "stream",
       "stream": "stdout",
       "text": [
        " /experiments/ENCSR526SEX/ 5 174\n",
        "loading"
       ]
      },
      {
       "output_type": "stream",
       "stream": "stdout",
       "text": [
        " /experiments/ENCSR438XCG/ 6 174\n",
        "loading"
       ]
      },
      {
       "output_type": "stream",
       "stream": "stdout",
       "text": [
        " /experiments/ENCSR667TOX/ 7 174\n",
        "loading"
       ]
      },
      {
       "output_type": "stream",
       "stream": "stdout",
       "text": [
        " /experiments/ENCSR017JEG/ 8 174\n",
        "loading"
       ]
      },
      {
       "output_type": "stream",
       "stream": "stdout",
       "text": [
        " /experiments/ENCSR719NAJ/ 9 174\n",
        "loading"
       ]
      },
      {
       "output_type": "stream",
       "stream": "stdout",
       "text": [
        " /experiments/ENCSR362AIZ/ 10 174\n",
        "loading"
       ]
      },
      {
       "output_type": "stream",
       "stream": "stdout",
       "text": [
        " /experiments/ENCSR637NLF/ 11 174\n",
        "loading"
       ]
      },
      {
       "output_type": "stream",
       "stream": "stdout",
       "text": [
        " /experiments/ENCSR320PXZ/ 12 174\n",
        "loading"
       ]
      },
      {
       "output_type": "stream",
       "stream": "stdout",
       "text": [
        " /experiments/ENCSR027CXR/ 13 174\n",
        "loading"
       ]
      },
      {
       "output_type": "stream",
       "stream": "stdout",
       "text": [
        " /experiments/ENCSR662UPQ/ 14 174\n",
        "loading"
       ]
      },
      {
       "output_type": "stream",
       "stream": "stdout",
       "text": [
        " /experiments/ENCSR521YLY/ 15 174\n",
        "loading"
       ]
      },
      {
       "output_type": "stream",
       "stream": "stdout",
       "text": [
        " /experiments/ENCSR559QTE/ 16 174\n",
        "loading"
       ]
      },
      {
       "output_type": "stream",
       "stream": "stdout",
       "text": [
        " /experiments/ENCSR527DQV/ 17 174\n",
        "loading"
       ]
      },
      {
       "output_type": "stream",
       "stream": "stdout",
       "text": [
        " /experiments/ENCSR167AWS/ 18 174\n",
        "loading"
       ]
      },
      {
       "output_type": "stream",
       "stream": "stdout",
       "text": [
        " /experiments/ENCSR708EHJ/ 19 174\n",
        "loading"
       ]
      },
      {
       "output_type": "stream",
       "stream": "stdout",
       "text": [
        " /experiments/ENCSR474NEW/ 20 174\n",
        "loading"
       ]
      },
      {
       "output_type": "stream",
       "stream": "stdout",
       "text": [
        " /experiments/ENCSR282DYQ/ 21 174\n",
        "loading"
       ]
      },
      {
       "output_type": "stream",
       "stream": "stdout",
       "text": [
        " /experiments/ENCSR367DUL/ 22 174\n",
        "loading"
       ]
      },
      {
       "output_type": "stream",
       "stream": "stdout",
       "text": [
        " /experiments/ENCSR948NDP/ 23 174\n",
        "loading"
       ]
      },
      {
       "output_type": "stream",
       "stream": "stdout",
       "text": [
        " /experiments/ENCSR316RMA/ 24 174\n",
        "loading"
       ]
      },
      {
       "output_type": "stream",
       "stream": "stdout",
       "text": [
        " /experiments/ENCSR691PPV/ 25 174\n",
        "loading"
       ]
      },
      {
       "output_type": "stream",
       "stream": "stdout",
       "text": [
        " /experiments/ENCSR351YGY/ 26 174\n",
        "loading"
       ]
      },
      {
       "output_type": "stream",
       "stream": "stdout",
       "text": [
        " /experiments/ENCSR659SFM/ 27 174\n",
        "loading"
       ]
      },
      {
       "output_type": "stream",
       "stream": "stdout",
       "text": [
        " /experiments/ENCSR236EGS/ 28 174\n",
        "loading"
       ]
      },
      {
       "output_type": "stream",
       "stream": "stdout",
       "text": [
        " /experiments/ENCSR268AXN/ 29 174\n",
        "loading"
       ]
      },
      {
       "output_type": "stream",
       "stream": "stdout",
       "text": [
        " /experiments/ENCSR814JMM/ 30 174\n",
        "loading"
       ]
      },
      {
       "output_type": "stream",
       "stream": "stdout",
       "text": [
        " /experiments/ENCSR758TAD/ 31 174\n",
        "loading"
       ]
      },
      {
       "output_type": "stream",
       "stream": "stdout",
       "text": [
        " /experiments/ENCSR620HJQ/ 32 174\n",
        "loading"
       ]
      },
      {
       "output_type": "stream",
       "stream": "stdout",
       "text": [
        " /experiments/ENCSR726VVO/ 33 174\n",
        "loading"
       ]
      },
      {
       "output_type": "stream",
       "stream": "stdout",
       "text": [
        " /experiments/ENCSR268IGT/ 34 174\n",
        "loading"
       ]
      },
      {
       "output_type": "stream",
       "stream": "stdout",
       "text": [
        " /experiments/ENCSR292IVH/ 35 174\n",
        "loading"
       ]
      },
      {
       "output_type": "stream",
       "stream": "stdout",
       "text": [
        " /experiments/ENCSR362OYV/ 36 174\n",
        "loading"
       ]
      },
      {
       "output_type": "stream",
       "stream": "stdout",
       "text": [
        " /experiments/ENCSR775HGC/ 37 174\n",
        "loading"
       ]
      },
      {
       "output_type": "stream",
       "stream": "stdout",
       "text": [
        " /experiments/ENCSR530UXI/ 38 174\n",
        "loading"
       ]
      },
      {
       "output_type": "stream",
       "stream": "stdout",
       "text": [
        " /experiments/ENCSR577ONT/ 39 174\n",
        "loading"
       ]
      },
      {
       "output_type": "stream",
       "stream": "stdout",
       "text": [
        " /experiments/ENCSR980SWK/ 40 174\n",
        "loading"
       ]
      },
      {
       "output_type": "stream",
       "stream": "stdout",
       "text": [
        " /experiments/ENCSR111QQX/ 41 174\n",
        "loading"
       ]
      },
      {
       "output_type": "stream",
       "stream": "stdout",
       "text": [
        " /experiments/ENCSR068SJG/ 42 174\n",
        "loading"
       ]
      },
      {
       "output_type": "stream",
       "stream": "stdout",
       "text": [
        " /experiments/ENCSR267LBO/ 43 174\n",
        "loading"
       ]
      },
      {
       "output_type": "stream",
       "stream": "stdout",
       "text": [
        " /experiments/ENCSR789RPP/ 44 174\n",
        "loading"
       ]
      },
      {
       "output_type": "stream",
       "stream": "stdout",
       "text": [
        " /experiments/ENCSR796QJD/ 45 174\n",
        "loading"
       ]
      },
      {
       "output_type": "stream",
       "stream": "stdout",
       "text": [
        " /experiments/ENCSR803PLZ/ 46 174\n",
        "loading"
       ]
      },
      {
       "output_type": "stream",
       "stream": "stdout",
       "text": [
        " /experiments/ENCSR194TNV/ 47 174\n",
        "loading"
       ]
      },
      {
       "output_type": "stream",
       "stream": "stdout",
       "text": [
        " /experiments/ENCSR284AMY/ 48 174\n",
        "loading"
       ]
      },
      {
       "output_type": "stream",
       "stream": "stdout",
       "text": [
        " /experiments/ENCSR160IIN/ 49 174\n",
        "loading"
       ]
      },
      {
       "output_type": "stream",
       "stream": "stdout",
       "text": [
        " /experiments/ENCSR579FCW/ 50 174\n",
        "loading"
       ]
      },
      {
       "output_type": "stream",
       "stream": "stdout",
       "text": [
        " /experiments/ENCSR739PEB/ 51 174\n",
        "loading"
       ]
      },
      {
       "output_type": "stream",
       "stream": "stdout",
       "text": [
        " /experiments/ENCSR290RRR/ 52 174\n",
        "loading"
       ]
      },
      {
       "output_type": "stream",
       "stream": "stdout",
       "text": [
        " /experiments/ENCSR039ADS/ 53 174\n",
        "loading"
       ]
      },
      {
       "output_type": "stream",
       "stream": "stdout",
       "text": [
        " /experiments/ENCSR504GEG/ 54 174\n",
        "loading"
       ]
      },
      {
       "output_type": "stream",
       "stream": "stdout",
       "text": [
        " /experiments/ENCSR932TRU/ 55 174\n",
        "loading"
       ]
      },
      {
       "output_type": "stream",
       "stream": "stdout",
       "text": [
        " /experiments/ENCSR867YNV/ 56 174\n",
        "loading"
       ]
      },
      {
       "output_type": "stream",
       "stream": "stdout",
       "text": [
        " /experiments/ENCSR727FHP/ 57 174\n",
        "loading"
       ]
      },
      {
       "output_type": "stream",
       "stream": "stdout",
       "text": [
        " /experiments/ENCSR823VEE/ 58 174\n",
        "loading"
       ]
      },
      {
       "output_type": "stream",
       "stream": "stdout",
       "text": [
        " /experiments/ENCSR216NEG/ 59 174\n",
        "loading"
       ]
      },
      {
       "output_type": "stream",
       "stream": "stdout",
       "text": [
        " /experiments/ENCSR928OXI/ 60 174\n",
        "loading"
       ]
      },
      {
       "output_type": "stream",
       "stream": "stdout",
       "text": [
        " /experiments/ENCSR559TRB/ 61 174\n",
        "loading"
       ]
      },
      {
       "output_type": "stream",
       "stream": "stdout",
       "text": [
        " /experiments/ENCSR343YLB/ 62 174\n",
        "loading"
       ]
      },
      {
       "output_type": "stream",
       "stream": "stdout",
       "text": [
        " /experiments/ENCSR185LWM/ 63 174\n",
        "loading"
       ]
      },
      {
       "output_type": "stream",
       "stream": "stdout",
       "text": [
        " /experiments/ENCSR691OPQ/ 64 174\n",
        "loading"
       ]
      },
      {
       "output_type": "stream",
       "stream": "stdout",
       "text": [
        " /experiments/ENCSR848HOX/ 65 174\n",
        "loading"
       ]
      },
      {
       "output_type": "stream",
       "stream": "stdout",
       "text": [
        " /experiments/ENCSR541XZK/ 66 174\n",
        "loading"
       ]
      },
      {
       "output_type": "stream",
       "stream": "stdout",
       "text": [
        " /experiments/ENCSR337FYI/ 67 174\n",
        "loading"
       ]
      },
      {
       "output_type": "stream",
       "stream": "stdout",
       "text": [
        " /experiments/ENCSR760TOE/ 68 174\n",
        "loading"
       ]
      },
      {
       "output_type": "stream",
       "stream": "stdout",
       "text": [
        " /experiments/ENCSR307BCA/ 69 174\n",
        "loading"
       ]
      },
      {
       "output_type": "stream",
       "stream": "stdout",
       "text": [
        " /experiments/ENCSR173PJN/ 70 174\n",
        "loading"
       ]
      },
      {
       "output_type": "stream",
       "stream": "stdout",
       "text": [
        " /experiments/ENCSR951QWU/ 71 174\n",
        "loading"
       ]
      },
      {
       "output_type": "stream",
       "stream": "stdout",
       "text": [
        " /experiments/ENCSR132IJG/ 72 174\n",
        "loading"
       ]
      },
      {
       "output_type": "stream",
       "stream": "stdout",
       "text": [
        " /experiments/ENCSR225LWF/ 73 174\n",
        "loading"
       ]
      },
      {
       "output_type": "stream",
       "stream": "stdout",
       "text": [
        " /experiments/ENCSR448TBE/ 74 174\n",
        "loading"
       ]
      },
      {
       "output_type": "stream",
       "stream": "stdout",
       "text": [
        " /experiments/ENCSR510XBP/ 75 174\n",
        "loading"
       ]
      },
      {
       "output_type": "stream",
       "stream": "stdout",
       "text": [
        " /experiments/ENCSR593EDV/ 76 174\n",
        "loading"
       ]
      },
      {
       "output_type": "stream",
       "stream": "stdout",
       "text": [
        " /experiments/ENCSR419KEN/ 77 174\n",
        "loading"
       ]
      },
      {
       "output_type": "stream",
       "stream": "stdout",
       "text": [
        " /experiments/ENCSR854COR/ 78 174\n",
        "loading"
       ]
      },
      {
       "output_type": "stream",
       "stream": "stdout",
       "text": [
        " /experiments/ENCSR365GTN/ 79 174\n",
        "loading"
       ]
      },
      {
       "output_type": "stream",
       "stream": "stdout",
       "text": [
        " /experiments/ENCSR150RTP/ 80 174\n",
        "loading"
       ]
      },
      {
       "output_type": "stream",
       "stream": "stdout",
       "text": [
        " /experiments/ENCSR630QYS/ 81 174\n",
        "loading"
       ]
      },
      {
       "output_type": "stream",
       "stream": "stdout",
       "text": [
        " /experiments/ENCSR391DGX/ 82 174\n",
        "loading"
       ]
      },
      {
       "output_type": "stream",
       "stream": "stdout",
       "text": [
        " /experiments/ENCSR913RSM/ 83 174\n",
        "loading"
       ]
      },
      {
       "output_type": "stream",
       "stream": "stdout",
       "text": [
        " /experiments/ENCSR457BTR/ 84 174\n",
        "loading"
       ]
      },
      {
       "output_type": "stream",
       "stream": "stdout",
       "text": [
        " /experiments/ENCSR083SSY/ 85 174\n",
        "loading"
       ]
      },
      {
       "output_type": "stream",
       "stream": "stdout",
       "text": [
        " /experiments/ENCSR371PPE/ 86 174\n",
        "loading"
       ]
      },
      {
       "output_type": "stream",
       "stream": "stdout",
       "text": [
        " /experiments/ENCSR863MVQ/ 87 174\n",
        "loading"
       ]
      },
      {
       "output_type": "stream",
       "stream": "stdout",
       "text": [
        " /experiments/ENCSR968ELO/ 88 174\n",
        "loading"
       ]
      },
      {
       "output_type": "stream",
       "stream": "stdout",
       "text": [
        " /experiments/ENCSR516XQA/ 89 174\n",
        "loading"
       ]
      },
      {
       "output_type": "stream",
       "stream": "stdout",
       "text": [
        " /experiments/ENCSR352QNT/ 90 174\n",
        "loading"
       ]
      },
      {
       "output_type": "stream",
       "stream": "stdout",
       "text": [
        " /experiments/ENCSR727QOY/ 91 174\n",
        "loading"
       ]
      },
      {
       "output_type": "stream",
       "stream": "stdout",
       "text": [
        " /experiments/ENCSR849OTL/ 92 174\n",
        "loading"
       ]
      },
      {
       "output_type": "stream",
       "stream": "stdout",
       "text": [
        " /experiments/ENCSR244ZEP/ 93 174\n",
        "loading"
       ]
      },
      {
       "output_type": "stream",
       "stream": "stdout",
       "text": [
        " /experiments/ENCSR202LWX/ 94 174\n",
        "loading"
       ]
      },
      {
       "output_type": "stream",
       "stream": "stdout",
       "text": [
        " /experiments/ENCSR096STK/ 95 174\n",
        "loading"
       ]
      },
      {
       "output_type": "stream",
       "stream": "stdout",
       "text": [
        " /experiments/ENCSR825UDE/ 96 174\n",
        "loading"
       ]
      },
      {
       "output_type": "stream",
       "stream": "stdout",
       "text": [
        " /experiments/ENCSR800IUG/ 97 174\n",
        "loading"
       ]
      },
      {
       "output_type": "stream",
       "stream": "stdout",
       "text": [
        " /experiments/ENCSR479VCZ/ 98 174\n",
        "loading"
       ]
      },
      {
       "output_type": "stream",
       "stream": "stdout",
       "text": [
        " /experiments/ENCSR808KCH/ 99 174\n",
        "loading"
       ]
      },
      {
       "output_type": "stream",
       "stream": "stdout",
       "text": [
        " /experiments/ENCSR516XOY/ 100 174\n",
        "loading"
       ]
      },
      {
       "output_type": "stream",
       "stream": "stdout",
       "text": [
        " /experiments/ENCSR894SKI/ 101 174\n",
        "loading"
       ]
      },
      {
       "output_type": "stream",
       "stream": "stdout",
       "text": [
        " /experiments/ENCSR643FBX/ 102 174\n",
        "loading"
       ]
      },
      {
       "output_type": "stream",
       "stream": "stdout",
       "text": [
        " /experiments/ENCSR805AZV/ 103 174\n",
        "loading"
       ]
      },
      {
       "output_type": "stream",
       "stream": "stdout",
       "text": [
        " /experiments/ENCSR528DTF/ 104 174\n",
        "loading"
       ]
      },
      {
       "output_type": "stream",
       "stream": "stdout",
       "text": [
        " /experiments/ENCSR358IBS/ 105 174\n",
        "loading"
       ]
      },
      {
       "output_type": "stream",
       "stream": "stdout",
       "text": [
        " /experiments/ENCSR792DJY/ 106 174\n",
        "loading"
       ]
      },
      {
       "output_type": "stream",
       "stream": "stdout",
       "text": [
        " /experiments/ENCSR582YQI/ 107 174\n",
        "loading"
       ]
      },
      {
       "output_type": "stream",
       "stream": "stdout",
       "text": [
        " /experiments/ENCSR015EJF/ 108 174\n",
        "loading"
       ]
      },
      {
       "output_type": "stream",
       "stream": "stdout",
       "text": [
        " /experiments/ENCSR784SMP/ 109 174\n",
        "loading"
       ]
      },
      {
       "output_type": "stream",
       "stream": "stdout",
       "text": [
        " /experiments/ENCSR951PAO/ 110 174\n",
        "loading"
       ]
      },
      {
       "output_type": "stream",
       "stream": "stdout",
       "text": [
        " /experiments/ENCSR382UMJ/ 111 174\n",
        "loading"
       ]
      },
      {
       "output_type": "stream",
       "stream": "stdout",
       "text": [
        " /experiments/ENCSR933YHX/ 112 174\n",
        "loading"
       ]
      },
      {
       "output_type": "stream",
       "stream": "stdout",
       "text": [
        " /experiments/ENCSR369OAV/ 113 174\n",
        "loading"
       ]
      },
      {
       "output_type": "stream",
       "stream": "stdout",
       "text": [
        " /experiments/ENCSR570ISA/ 114 174\n",
        "loading"
       ]
      },
      {
       "output_type": "stream",
       "stream": "stdout",
       "text": [
        " /experiments/ENCSR481OYZ/ 115 174\n",
        "loading"
       ]
      },
      {
       "output_type": "stream",
       "stream": "stdout",
       "text": [
        " /experiments/ENCSR645RHS/ 116 174\n",
        "loading"
       ]
      },
      {
       "output_type": "stream",
       "stream": "stdout",
       "text": [
        " /experiments/ENCSR946PCR/ 117 174\n",
        "loading"
       ]
      },
      {
       "output_type": "stream",
       "stream": "stdout",
       "text": [
        " /experiments/ENCSR907JUN/ 118 174\n",
        "loading"
       ]
      },
      {
       "output_type": "stream",
       "stream": "stdout",
       "text": [
        " /experiments/ENCSR510ADJ/ 119 174\n",
        "loading"
       ]
      },
      {
       "output_type": "stream",
       "stream": "stdout",
       "text": [
        " /experiments/ENCSR861FGB/ 120 174\n",
        "loading"
       ]
      },
      {
       "output_type": "stream",
       "stream": "stdout",
       "text": [
        " /experiments/ENCSR527RFK/ 121 174\n",
        "loading"
       ]
      },
      {
       "output_type": "stream",
       "stream": "stdout",
       "text": [
        " /experiments/ENCSR265YFZ/ 122 174\n",
        "loading"
       ]
      },
      {
       "output_type": "stream",
       "stream": "stdout",
       "text": [
        " /experiments/ENCSR950BNG/ 123 174\n",
        "loading"
       ]
      },
      {
       "output_type": "stream",
       "stream": "stdout",
       "text": [
        " /experiments/ENCSR026ZRP/ 124 174\n",
        "loading"
       ]
      },
      {
       "output_type": "stream",
       "stream": "stdout",
       "text": [
        " /experiments/ENCSR368QPC/ 125 174\n",
        "loading"
       ]
      },
      {
       "output_type": "stream",
       "stream": "stdout",
       "text": [
        " /experiments/ENCSR225BBK/ 126 174\n",
        "loading"
       ]
      },
      {
       "output_type": "stream",
       "stream": "stdout",
       "text": [
        " /experiments/ENCSR592MSV/ 127 174\n",
        "loading"
       ]
      },
      {
       "output_type": "stream",
       "stream": "stdout",
       "text": [
        " /experiments/ENCSR000OXO/ 128 174\n",
        "loading"
       ]
      },
      {
       "output_type": "stream",
       "stream": "stdout",
       "text": [
        " /experiments/ENCSR625DPZ/ 129 174\n",
        "loading"
       ]
      },
      {
       "output_type": "stream",
       "stream": "stdout",
       "text": [
        " /experiments/ENCSR767SOH/ 130 174\n",
        "loading"
       ]
      },
      {
       "output_type": "stream",
       "stream": "stdout",
       "text": [
        " /experiments/ENCSR184CWK/ 131 174\n",
        "loading"
       ]
      },
      {
       "output_type": "stream",
       "stream": "stdout",
       "text": [
        " /experiments/ENCSR417EDR/ 132 174\n",
        "loading"
       ]
      },
      {
       "output_type": "stream",
       "stream": "stdout",
       "text": [
        " /experiments/ENCSR672QFA/ 133 174\n",
        "loading"
       ]
      },
      {
       "output_type": "stream",
       "stream": "stdout",
       "text": [
        " /experiments/ENCSR101GVL/ 134 174\n",
        "loading"
       ]
      },
      {
       "output_type": "stream",
       "stream": "stdout",
       "text": [
        " /experiments/ENCSR905FLM/ 135 174\n",
        "loading"
       ]
      },
      {
       "output_type": "stream",
       "stream": "stdout",
       "text": [
        " /experiments/ENCSR610BAM/ 136 174\n",
        "loading"
       ]
      },
      {
       "output_type": "stream",
       "stream": "stdout",
       "text": [
        " /experiments/ENCSR124ERY/ 137 174\n",
        "loading"
       ]
      },
      {
       "output_type": "stream",
       "stream": "stdout",
       "text": [
        " /experiments/ENCSR659QHV/ 138 174\n",
        "loading"
       ]
      },
      {
       "output_type": "stream",
       "stream": "stdout",
       "text": [
        " /experiments/ENCSR366QZI/ 139 174\n",
        "loading"
       ]
      },
      {
       "output_type": "stream",
       "stream": "stdout",
       "text": [
        " /experiments/ENCSR244DNF/ 140 174\n",
        "loading"
       ]
      },
      {
       "output_type": "stream",
       "stream": "stdout",
       "text": [
        " /experiments/ENCSR927DHK/ 141 174\n",
        "loading"
       ]
      },
      {
       "output_type": "stream",
       "stream": "stdout",
       "text": [
        " /experiments/ENCSR435ROA/ 142 174\n",
        "loading"
       ]
      },
      {
       "output_type": "stream",
       "stream": "stdout",
       "text": [
        " /experiments/ENCSR231WUP/ 143 174\n",
        "loading"
       ]
      },
      {
       "output_type": "stream",
       "stream": "stdout",
       "text": [
        " /experiments/ENCSR828FPS/ 144 174\n",
        "loading"
       ]
      },
      {
       "output_type": "stream",
       "stream": "stdout",
       "text": [
        " /experiments/ENCSR729ENB/ 145 174\n",
        "loading"
       ]
      },
      {
       "output_type": "stream",
       "stream": "stdout",
       "text": [
        " /experiments/ENCSR724XFQ/ 146 174\n",
        "loading"
       ]
      },
      {
       "output_type": "stream",
       "stream": "stdout",
       "text": [
        " /experiments/ENCSR921DSM/ 147 174\n",
        "loading"
       ]
      },
      {
       "output_type": "stream",
       "stream": "stdout",
       "text": [
        " /experiments/ENCSR086PHI/ 148 174\n",
        "loading"
       ]
      },
      {
       "output_type": "stream",
       "stream": "stdout",
       "text": [
        " /experiments/ENCSR561KFF/ 149 174\n",
        "loading"
       ]
      },
      {
       "output_type": "stream",
       "stream": "stdout",
       "text": [
        " /experiments/ENCSR376KFF/ 150 174\n",
        "loading"
       ]
      },
      {
       "output_type": "stream",
       "stream": "stdout",
       "text": [
        " /experiments/ENCSR558LHB/ 151 174\n",
        "loading"
       ]
      },
      {
       "output_type": "stream",
       "stream": "stdout",
       "text": [
        " /experiments/ENCSR673UIY/ 152 174\n",
        "loading"
       ]
      },
      {
       "output_type": "stream",
       "stream": "stdout",
       "text": [
        " /experiments/ENCSR888LYA/ 153 174\n",
        "loading"
       ]
      },
      {
       "output_type": "stream",
       "stream": "stdout",
       "text": [
        " /experiments/ENCSR137RHZ/ 154 174\n",
        "loading"
       ]
      },
      {
       "output_type": "stream",
       "stream": "stdout",
       "text": [
        " /experiments/ENCSR423XRG/ 155 174\n",
        "loading"
       ]
      },
      {
       "output_type": "stream",
       "stream": "stdout",
       "text": [
        " /experiments/ENCSR415JJO/ 156 174\n",
        "loading"
       ]
      },
      {
       "output_type": "stream",
       "stream": "stdout",
       "text": [
        " /experiments/ENCSR157NLF/ 157 174\n",
        "loading"
       ]
      },
      {
       "output_type": "stream",
       "stream": "stdout",
       "text": [
        " /experiments/ENCSR313IUO/ 158 174\n",
        "loading"
       ]
      },
      {
       "output_type": "stream",
       "stream": "stdout",
       "text": [
        " /experiments/ENCSR900JSG/ 159 174\n",
        "loading"
       ]
      },
      {
       "output_type": "stream",
       "stream": "stdout",
       "text": [
        " /experiments/ENCSR000AEG/ 160 174\n",
        "loading"
       ]
      },
      {
       "output_type": "stream",
       "stream": "stdout",
       "text": [
        " /experiments/ENCSR000AEH/ 161 174\n",
        "loading"
       ]
      },
      {
       "output_type": "stream",
       "stream": "stdout",
       "text": [
        " /experiments/ENCSR000AEQ/ 162 174\n",
        "loading"
       ]
      },
      {
       "output_type": "stream",
       "stream": "stdout",
       "text": [
        " /experiments/ENCSR000AEP/ 163 174\n",
        "loading"
       ]
      },
      {
       "output_type": "stream",
       "stream": "stdout",
       "text": [
        " /experiments/ENCSR000AJH/ 164 174\n",
        "loading"
       ]
      },
      {
       "output_type": "stream",
       "stream": "stdout",
       "text": [
        " /experiments/ENCSR000AJG/ 165 174\n",
        "loading"
       ]
      },
      {
       "output_type": "stream",
       "stream": "stdout",
       "text": [
        " /experiments/ENCSR000AJF/ 166 174\n",
        "loading"
       ]
      },
      {
       "output_type": "stream",
       "stream": "stdout",
       "text": [
        " /experiments/ENCSR000AJE/ 167 174\n",
        "loading"
       ]
      },
      {
       "output_type": "stream",
       "stream": "stdout",
       "text": [
        " /experiments/ENCSR000AJD/ 168 174\n",
        "loading"
       ]
      },
      {
       "output_type": "stream",
       "stream": "stdout",
       "text": [
        " /experiments/ENCSR000AJC/ 169 174\n",
        "loading"
       ]
      },
      {
       "output_type": "stream",
       "stream": "stdout",
       "text": [
        " /experiments/ENCSR000AJB/ 170 174\n",
        "loading"
       ]
      },
      {
       "output_type": "stream",
       "stream": "stdout",
       "text": [
        " /experiments/ENCSR000AJA/ 171 174\n",
        "loading"
       ]
      },
      {
       "output_type": "stream",
       "stream": "stdout",
       "text": [
        " /experiments/ENCSR000AIZ/ 172 174\n",
        "loading"
       ]
      },
      {
       "output_type": "stream",
       "stream": "stdout",
       "text": [
        " /experiments/ENCSR000AIY/ 173 174\n"
       ]
      }
     ],
     "prompt_number": 8
    },
    {
     "cell_type": "heading",
     "level": 1,
     "metadata": {},
     "source": [
      "Current ENCODE3 Experiment Status"
     ]
    },
    {
     "cell_type": "code",
     "collapsed": false,
     "input": [
      "%%sparql -m model -c\n",
      "select ?accession ?assay_name ?description ?status ?release\n",
      "where {\n",
      "  ?accession a experiment:experiment ;\n",
      "             rdf:description ?description ;\n",
      "             experiment:assay_term_name ?assay_name ;\n",
      "             experiment:status ?status .\n",
      "  OPTIONAL { ?accession experiment:date_released ?release .}\n",
      "}\n",
      "order by ?status ?description"
     ],
     "language": "python",
     "metadata": {},
     "outputs": [
      {
       "output_type": "stream",
       "stream": "stdout",
       "text": [
        "Found 174 rows.\n"
       ]
      },
      {
       "html": [
        "<table><tr><td>accession</td><td>assay_name</td><td>description</td><td>status</td><td>release</td></tr><tr><td><a href=\"https://www.encodeproject.org/experiments/ENCSR726VVO/\">experiments:ENCSR726VVO/</a></td><td>RNA-seq</td><td>RNA-seq of a single Purkinje cell from a 14 month old male hybrid Castaneus X C57Bl6 mouse</td><td>in progress</td><td>None</td></tr><tr><td><a href=\"https://www.encodeproject.org/experiments/ENCSR268IGT/\">experiments:ENCSR268IGT/</a></td><td>RNA-seq</td><td>RNA-seq of a single Purkinje cell from a 14 month old male hybrid Castaneus X C57Bl6 mouse</td><td>in progress</td><td>None</td></tr><tr><td><a href=\"https://www.encodeproject.org/experiments/ENCSR292IVH/\">experiments:ENCSR292IVH/</a></td><td>RNA-seq</td><td>RNA-seq of a single Purkinje cell from a 14 month old male hybrid Castaneus X C57Bl6 mouse</td><td>in progress</td><td>None</td></tr><tr><td><a href=\"https://www.encodeproject.org/experiments/ENCSR362OYV/\">experiments:ENCSR362OYV/</a></td><td>RNA-seq</td><td>RNA-seq of a single Purkinje cell from a 14 month old male hybrid Castaneus X C57Bl6 mouse</td><td>in progress</td><td>None</td></tr><tr><td><a href=\"https://www.encodeproject.org/experiments/ENCSR775HGC/\">experiments:ENCSR775HGC/</a></td><td>RNA-seq</td><td>RNA-seq of a single Purkinje cell from a 14 month old male hybrid Castaneus X C57Bl6 mouse</td><td>in progress</td><td>None</td></tr><tr><td><a href=\"https://www.encodeproject.org/experiments/ENCSR530UXI/\">experiments:ENCSR530UXI/</a></td><td>RNA-seq</td><td>RNA-seq of a single Purkinje cell from a 14 month old male hybrid Castaneus X C57Bl6 mouse</td><td>in progress</td><td>None</td></tr><tr><td><a href=\"https://www.encodeproject.org/experiments/ENCSR577ONT/\">experiments:ENCSR577ONT/</a></td><td>RNA-seq</td><td>RNA-seq of a single Purkinje cell from a 14 month old male hybrid Castaneus X C57Bl6 mouse</td><td>in progress</td><td>None</td></tr><tr><td><a href=\"https://www.encodeproject.org/experiments/ENCSR980SWK/\">experiments:ENCSR980SWK/</a></td><td>RNA-seq</td><td>RNA-seq of a single Purkinje cell from a 14 month old male hybrid Castaneus X C57Bl6 mouse</td><td>in progress</td><td>None</td></tr><tr><td><a href=\"https://www.encodeproject.org/experiments/ENCSR111QQX/\">experiments:ENCSR111QQX/</a></td><td>RNA-seq</td><td>RNA-seq of a single Purkinje cell from a 14 month old male hybrid Castaneus X C57Bl6 mouse</td><td>in progress</td><td>None</td></tr><tr><td><a href=\"https://www.encodeproject.org/experiments/ENCSR068SJG/\">experiments:ENCSR068SJG/</a></td><td>RNA-seq</td><td>RNA-seq of a single Purkinje cell from a 14 month old male hybrid Castaneus X C57Bl6 mouse</td><td>in progress</td><td>None</td></tr><tr><td><a href=\"https://www.encodeproject.org/experiments/ENCSR267LBO/\">experiments:ENCSR267LBO/</a></td><td>RNA-seq</td><td>RNA-seq of a single Purkinje cell from a 14 month old male hybrid Castaneus X C57Bl6 mouse</td><td>in progress</td><td>None</td></tr><tr><td><a href=\"https://www.encodeproject.org/experiments/ENCSR789RPP/\">experiments:ENCSR789RPP/</a></td><td>RNA-seq</td><td>RNA-seq of a single Purkinje cell from a 14 month old male hybrid Castaneus X C57Bl6 mouse</td><td>in progress</td><td>None</td></tr><tr><td><a href=\"https://www.encodeproject.org/experiments/ENCSR796QJD/\">experiments:ENCSR796QJD/</a></td><td>RNA-seq</td><td>RNA-seq of a single Purkinje cell from a 14 month old male hybrid Castaneus X C57Bl6 mouse</td><td>in progress</td><td>None</td></tr><tr><td><a href=\"https://www.encodeproject.org/experiments/ENCSR803PLZ/\">experiments:ENCSR803PLZ/</a></td><td>RNA-seq</td><td>RNA-seq of a single Purkinje cell from a 14 month old male hybrid Castaneus X C57Bl6 mouse</td><td>in progress</td><td>None</td></tr><tr><td><a href=\"https://www.encodeproject.org/experiments/ENCSR194TNV/\">experiments:ENCSR194TNV/</a></td><td>RNA-seq</td><td>RNA-seq of a single Purkinje cell from a 14 month old male hybrid Castaneus X C57Bl6 mouse</td><td>in progress</td><td>None</td></tr><tr><td><a href=\"https://www.encodeproject.org/experiments/ENCSR027CXR/\">experiments:ENCSR027CXR/</a></td><td>RNA-seq</td><td>RNA-seq of a single Purkinje cell from an 8 month old male wild type C57Bl6 mouse</td><td>in progress</td><td>None</td></tr><tr><td><a href=\"https://www.encodeproject.org/experiments/ENCSR662UPQ/\">experiments:ENCSR662UPQ/</a></td><td>RNA-seq</td><td>RNA-seq of a single Purkinje cell from an 8 month old male wild type C57Bl6 mouse</td><td>in progress</td><td>None</td></tr><tr><td><a href=\"https://www.encodeproject.org/experiments/ENCSR527DQV/\">experiments:ENCSR527DQV/</a></td><td>RNA-seq</td><td>RNA-seq of a single Purkinje cell from an 8 month old male wild type C57Bl6 mouse</td><td>in progress</td><td>None</td></tr><tr><td><a href=\"https://www.encodeproject.org/experiments/ENCSR167AWS/\">experiments:ENCSR167AWS/</a></td><td>RNA-seq</td><td>RNA-seq of a single Purkinje cell from an 8 month old male wild type C57Bl6 mouse</td><td>in progress</td><td>None</td></tr><tr><td><a href=\"https://www.encodeproject.org/experiments/ENCSR282DYQ/\">experiments:ENCSR282DYQ/</a></td><td>RNA-seq</td><td>RNA-seq of a single Purkinje cell from an 8 month old male wild type C57Bl6 mouse</td><td>in progress</td><td>None</td></tr><tr><td><a href=\"https://www.encodeproject.org/experiments/ENCSR367DUL/\">experiments:ENCSR367DUL/</a></td><td>RNA-seq</td><td>RNA-seq of a single Purkinje cell from an 8 month old male wild type C57Bl6 mouse</td><td>in progress</td><td>None</td></tr><tr><td><a href=\"https://www.encodeproject.org/experiments/ENCSR948NDP/\">experiments:ENCSR948NDP/</a></td><td>RNA-seq</td><td>RNA-seq of a single Purkinje cell from an 8 month old male wild type C57Bl6 mouse</td><td>in progress</td><td>None</td></tr><tr><td><a href=\"https://www.encodeproject.org/experiments/ENCSR659SFM/\">experiments:ENCSR659SFM/</a></td><td>RNA-seq</td><td>RNA-seq of a single Purkinje cell from an 8 month old male wild type C57Bl6 mouse</td><td>in progress</td><td>None</td></tr><tr><td><a href=\"https://www.encodeproject.org/experiments/ENCSR620HJQ/\">experiments:ENCSR620HJQ/</a></td><td>RNA-seq</td><td>RNA-seq on single cell equivalents of 13 excised and homogenized Purkinje cells from a 14 month old male hybrid Castaneus X C57Bl6 mouse</td><td>in progress</td><td>None</td></tr><tr><td><a href=\"https://www.encodeproject.org/experiments/ENCSR516XOY/\">experiments:ENCSR516XOY/</a></td><td>RNA-seq</td><td>RNA-seq on human Betz cell obtained with histology guided laser capture micro dissection human</td><td>preliminary</td><td>None</td></tr><tr><td><a href=\"https://www.encodeproject.org/experiments/ENCSR894SKI/\">experiments:ENCSR894SKI/</a></td><td>RNA-seq</td><td>RNA-seq on human Meynert cell (solitary pyramidal neuron humans in visual cortex) obtained with histology guided laser capture micro dissection human</td><td>preliminary</td><td>None</td></tr><tr><td><a href=\"https://www.encodeproject.org/experiments/ENCSR643FBX/\">experiments:ENCSR643FBX/</a></td><td>RNA-seq</td><td>RNA-seq on human brain stem motor neuron human obtained with laser capture micro dissection human</td><td>preliminary</td><td>None</td></tr><tr><td><a href=\"https://www.encodeproject.org/experiments/ENCSR784SMP/\">experiments:ENCSR784SMP/</a></td><td>RNA-seq</td><td>RNA-seq on human brush border cell of the proximal tubule obtained with laser capture micro dissection human</td><td>preliminary</td><td>None</td></tr><tr><td><a href=\"https://www.encodeproject.org/experiments/ENCSR015EJF/\">experiments:ENCSR015EJF/</a></td><td>RNA-seq</td><td>RNA-seq on human cholangiocyte obtained with histology guided laser capture micro dissection human</td><td>preliminary</td><td>None</td></tr><tr><td><a href=\"https://www.encodeproject.org/experiments/ENCSR582YQI/\">experiments:ENCSR582YQI/</a></td><td>RNA-seq</td><td>RNA-seq on human endothelial cell of hepatic sinusoid obtained with histology guided laser capture micro dissection human</td><td>preliminary</td><td>None</td></tr><tr><td><a href=\"https://www.encodeproject.org/experiments/ENCSR369OAV/\">experiments:ENCSR369OAV/</a></td><td>RNA-seq</td><td>RNA-seq on human glomerular visceral epithelial cell obtained with laser capture micro dissection human</td><td>preliminary</td><td>None</td></tr><tr><td><a href=\"https://www.encodeproject.org/experiments/ENCSR358IBS/\">experiments:ENCSR358IBS/</a></td><td>RNA-seq</td><td>RNA-seq on human hepatic natural killer cells obtained with histology guided laser capture micro dissection human</td><td>preliminary</td><td>None</td></tr><tr><td><a href=\"https://www.encodeproject.org/experiments/ENCSR528DTF/\">experiments:ENCSR528DTF/</a></td><td>RNA-seq</td><td>RNA-seq on human hepatic oval stem cell obtained with histology guided laser capture micro dissection human</td><td>preliminary</td><td>None</td></tr><tr><td><a href=\"https://www.encodeproject.org/experiments/ENCSR792DJY/\">experiments:ENCSR792DJY/</a></td><td>RNA-seq</td><td>RNA-seq on human hepatic stellate cell obtained with histology guided laser capture micro dissection human</td><td>preliminary</td><td>None</td></tr><tr><td><a href=\"https://www.encodeproject.org/experiments/ENCSR645RHS/\">experiments:ENCSR645RHS/</a></td><td>RNA-seq</td><td>RNA-seq on human kidney collecting duct cell obtained with laser capture micro dissection human</td><td>preliminary</td><td>None</td></tr><tr><td><a href=\"https://www.encodeproject.org/experiments/ENCSR481OYZ/\">experiments:ENCSR481OYZ/</a></td><td>RNA-seq</td><td>RNA-seq on human kidney distal tubule epithelial cell obtained with laser capture micro dissection human</td><td>preliminary</td><td>None</td></tr><tr><td><a href=\"https://www.encodeproject.org/experiments/ENCSR933YHX/\">experiments:ENCSR933YHX/</a></td><td>RNA-seq</td><td>RNA-seq on human kidney interstitial cell obtained with laser capture micro dissection human</td><td>preliminary</td><td>None</td></tr><tr><td><a href=\"https://www.encodeproject.org/experiments/ENCSR951PAO/\">experiments:ENCSR951PAO/</a></td><td>RNA-seq</td><td>RNA-seq on human kidney loop of henle thick ascending limb epithelial cell obtained with laser capture micro dissection human</td><td>preliminary</td><td>None</td></tr><tr><td><a href=\"https://www.encodeproject.org/experiments/ENCSR382UMJ/\">experiments:ENCSR382UMJ/</a></td><td>RNA-seq</td><td>RNA-seq on human kidney loop of henle thin descending limb epithelial cell obtained with laser capture micro dissection human</td><td>preliminary</td><td>None</td></tr><tr><td><a href=\"https://www.encodeproject.org/experiments/ENCSR570ISA/\">experiments:ENCSR570ISA/</a></td><td>RNA-seq</td><td>RNA-seq on human parietal epithelial cell obtained with laser capture micro dissection human</td><td>preliminary</td><td>None</td></tr><tr><td><a href=\"https://www.encodeproject.org/experiments/ENCSR805AZV/\">experiments:ENCSR805AZV/</a></td><td>RNA-seq</td><td>RNA-seq on human ventral horn of spinal cord motor neuron humans obtained with laser capture micro dissection human</td><td>preliminary</td><td>None</td></tr><tr><td><a href=\"https://www.encodeproject.org/experiments/ENCSR968ELO/\">experiments:ENCSR968ELO/</a></td><td>RNA-seq</td><td>RNA-seq on mouse Kupffer cell obtained with histology guided laser capture micro dissection</td><td>preliminary</td><td>None</td></tr><tr><td><a href=\"https://www.encodeproject.org/experiments/ENCSR202LWX/\">experiments:ENCSR202LWX/</a></td><td>RNA-seq</td><td>RNA-seq on mouse cholangiocyte obtained with histology guided laser capture micro dissection</td><td>preliminary</td><td>None</td></tr><tr><td><a href=\"https://www.encodeproject.org/experiments/ENCSR083SSY/\">experiments:ENCSR083SSY/</a></td><td>RNA-seq</td><td>RNA-seq on mouse dorsal root ganglion obtained with laser capture micro dissection</td><td>preliminary</td><td>None</td></tr><tr><td><a href=\"https://www.encodeproject.org/experiments/ENCSR727QOY/\">experiments:ENCSR727QOY/</a></td><td>RNA-seq</td><td>RNA-seq on mouse endothelial cell of hepatic sinusoid obtained with histology guided laser capture micro dissection</td><td>preliminary</td><td>None</td></tr><tr><td><a href=\"https://www.encodeproject.org/experiments/ENCSR863MVQ/\">experiments:ENCSR863MVQ/</a></td><td>RNA-seq</td><td>RNA-seq on mouse hepatic natural killer cells obtained with histology guided laser capture micro dissection</td><td>preliminary</td><td>None</td></tr><tr><td><a href=\"https://www.encodeproject.org/experiments/ENCSR849OTL/\">experiments:ENCSR849OTL/</a></td><td>RNA-seq</td><td>RNA-seq on mouse hepatic oval stem cell obtained with histology guided laser capture micro dissection</td><td>preliminary</td><td>None</td></tr><tr><td><a href=\"https://www.encodeproject.org/experiments/ENCSR352QNT/\">experiments:ENCSR352QNT/</a></td><td>RNA-seq</td><td>RNA-seq on mouse hepatic stellate cell obtained with histology guided laser capture micro dissection</td><td>preliminary</td><td>None</td></tr><tr><td><a href=\"https://www.encodeproject.org/experiments/ENCSR516XQA/\">experiments:ENCSR516XQA/</a></td><td>RNA-seq</td><td>RNA-seq on mouse hepatocyte obtained with histology guided laser capture micro dissection</td><td>preliminary</td><td>None</td></tr><tr><td><a href=\"https://www.encodeproject.org/experiments/ENCSR244ZEP/\">experiments:ENCSR244ZEP/</a></td><td>RNA-seq</td><td>RNA-seq on mouse liver dendritic cell obtained with histology guided laser capture micro dissection</td><td>preliminary</td><td>None</td></tr><tr><td><a href=\"https://www.encodeproject.org/experiments/ENCSR371PPE/\">experiments:ENCSR371PPE/</a></td><td>RNA-seq</td><td>RNA-seq on mouse muscle precursor cell obtained with laser capture micro dissection</td><td>preliminary</td><td>None</td></tr><tr><td><a href=\"https://www.encodeproject.org/experiments/ENCSR457BTR/\">experiments:ENCSR457BTR/</a></td><td>RNA-seq</td><td>RNA-seq on mouse myotome obtained with laser capture micro dissection</td><td>preliminary</td><td>None</td></tr><tr><td><a href=\"https://www.encodeproject.org/experiments/ENCSR946PCR/\">experiments:ENCSR946PCR/</a></td><td>RNA-seq</td><td>RNA-seq on adult human liver (13pgs)</td><td>proposed</td><td>None</td></tr><tr><td><a href=\"https://www.encodeproject.org/experiments/ENCSR800IUG/\">experiments:ENCSR800IUG/</a></td><td>RNA-seq</td><td>RNA-seq on human hepatocytes (in vitro differentiated cells)</td><td>proposed</td><td>None</td></tr><tr><td><a href=\"https://www.encodeproject.org/experiments/ENCSR479VCZ/\">experiments:ENCSR479VCZ/</a></td><td>RNA-seq</td><td>RNA-seq on human neuronal stem cell</td><td>proposed</td><td>None</td></tr><tr><td><a href=\"https://www.encodeproject.org/experiments/ENCSR808KCH/\">experiments:ENCSR808KCH/</a></td><td>RNA-seq</td><td>RNA-seq on human region humanal part of cerebellum obtained with gross dissection human</td><td>proposed</td><td>None</td></tr><tr><td><a href=\"https://www.encodeproject.org/experiments/ENCSR825UDE/\">experiments:ENCSR825UDE/</a></td><td>RNA-seq</td><td>RNA-seq on human smooth muscle cell (in vitro differentiated cells)</td><td>proposed</td><td>None</td></tr><tr><td><a href=\"https://www.encodeproject.org/experiments/ENCSR913RSM/\">experiments:ENCSR913RSM/</a></td><td>RNA-seq</td><td>RNA-seq on mouse bipolar neuron obtained with laser capture micro dissection</td><td>proposed</td><td>None</td></tr><tr><td><a href=\"https://www.encodeproject.org/experiments/ENCSR391DGX/\">experiments:ENCSR391DGX/</a></td><td>RNA-seq</td><td>RNA-seq on mouse brain stem motor neurons obtained with laser capture micro dissection</td><td>proposed</td><td>None</td></tr><tr><td><a href=\"https://www.encodeproject.org/experiments/ENCSR448TBE/\">experiments:ENCSR448TBE/</a></td><td>RNA-seq</td><td>RNA-seq on mouse brush border cell of the proximal tubule obtained with laser capture micro dissection</td><td>proposed</td><td>None</td></tr><tr><td><a href=\"https://www.encodeproject.org/experiments/ENCSR510XBP/\">experiments:ENCSR510XBP/</a></td><td>RNA-seq</td><td>RNA-seq on mouse glomerular visceral epithelial cell obtained with laser capture micro dissection</td><td>proposed</td><td>None</td></tr><tr><td><a href=\"https://www.encodeproject.org/experiments/ENCSR854COR/\">experiments:ENCSR854COR/</a></td><td>RNA-seq</td><td>RNA-seq on mouse kidney collecting duct cell obtained with laser capture micro dissection</td><td>proposed</td><td>None</td></tr><tr><td><a href=\"https://www.encodeproject.org/experiments/ENCSR419KEN/\">experiments:ENCSR419KEN/</a></td><td>RNA-seq</td><td>RNA-seq on mouse kidney distal tubule epithelial cell obtained with laser capture micro dissection</td><td>proposed</td><td>None</td></tr><tr><td><a href=\"https://www.encodeproject.org/experiments/ENCSR225LWF/\">experiments:ENCSR225LWF/</a></td><td>RNA-seq</td><td>RNA-seq on mouse kidney interstitial cell obtained with laser capture micro dissection</td><td>proposed</td><td>None</td></tr><tr><td><a href=\"https://www.encodeproject.org/experiments/ENCSR951QWU/\">experiments:ENCSR951QWU/</a></td><td>RNA-seq</td><td>RNA-seq on mouse kidney loop of henle thick ascending limb epithelial cell obtained with laser capture micro dissection</td><td>proposed</td><td>None</td></tr><tr><td><a href=\"https://www.encodeproject.org/experiments/ENCSR132IJG/\">experiments:ENCSR132IJG/</a></td><td>RNA-seq</td><td>RNA-seq on mouse kidney loop of henle thin descending limb epithelial cell obtained with laser capture micro dissection</td><td>proposed</td><td>None</td></tr><tr><td><a href=\"https://www.encodeproject.org/experiments/ENCSR593EDV/\">experiments:ENCSR593EDV/</a></td><td>RNA-seq</td><td>RNA-seq on mouse parietal epithelial cell obtained with laser capture micro dissection</td><td>proposed</td><td>None</td></tr><tr><td><a href=\"https://www.encodeproject.org/experiments/ENCSR630QYS/\">experiments:ENCSR630QYS/</a></td><td>RNA-seq</td><td>RNA-seq on mouse regional part of cerebellum obtained with gross dissection</td><td>proposed</td><td>None</td></tr><tr><td><a href=\"https://www.encodeproject.org/experiments/ENCSR365GTN/\">experiments:ENCSR365GTN/</a></td><td>RNA-seq</td><td>RNA-seq on mouse retinal alpha ganglion cell obtained with laser capture micro dissection</td><td>proposed</td><td>None</td></tr><tr><td><a href=\"https://www.encodeproject.org/experiments/ENCSR150RTP/\">experiments:ENCSR150RTP/</a></td><td>RNA-seq</td><td>RNA-seq on mouse spinal cord motor neuron obtained with laser capture micro dissection</td><td>proposed</td><td>None</td></tr><tr><td><a href=\"https://www.encodeproject.org/experiments/ENCSR000AEH/\">experiments:ENCSR000AEH/</a></td><td>RNA-seq</td><td>RNA Evaluation Gm12878 Long Poly-A+ RNA-seq from Wold</td><td>released</td><td>2014-07-07</td></tr><tr><td><a href=\"https://www.encodeproject.org/experiments/ENCSR000AEG/\">experiments:ENCSR000AEG/</a></td><td>RNA-seq</td><td>RNA Evaluation Gm12878 Long Total RNA-seq from Wold</td><td>released</td><td>2014-07-07</td></tr><tr><td><a href=\"https://www.encodeproject.org/experiments/ENCSR000AEQ/\">experiments:ENCSR000AEQ/</a></td><td>RNA-seq</td><td>RNA Evaluation K562 Long Poly-A+ RNA-seq from Wold</td><td>released</td><td>2014-07-07</td></tr><tr><td><a href=\"https://www.encodeproject.org/experiments/ENCSR000AEP/\">experiments:ENCSR000AEP/</a></td><td>RNA-seq</td><td>RNA Evaluation K562 Long Total RNA-seq from Wold</td><td>released</td><td>2014-07-07</td></tr><tr><td><a href=\"https://www.encodeproject.org/experiments/ENCSR000AJD/\">experiments:ENCSR000AJD/</a></td><td>RNA-seq</td><td>RNA-seq of GM12878 bulk prep of 10 ngs</td><td>released</td><td>2014-06-30</td></tr><tr><td><a href=\"https://www.encodeproject.org/experiments/ENCSR000AJG/\">experiments:ENCSR000AJG/</a></td><td>RNA-seq</td><td>RNA-seq of a GM12878 10-11 cell pool</td><td>released</td><td>2014-06-30</td></tr><tr><td><a href=\"https://www.encodeproject.org/experiments/ENCSR000AIZ/\">experiments:ENCSR000AIZ/</a></td><td>RNA-seq</td><td>RNA-seq of a GM12878 30 cell pool</td><td>released</td><td>2014-09-29</td></tr><tr><td><a href=\"https://www.encodeproject.org/experiments/ENCSR625DPZ/\">experiments:ENCSR625DPZ/</a></td><td>RNA-seq</td><td>RNA-seq of a single GM12878 cell</td><td>released</td><td>2014-06-30</td></tr><tr><td><a href=\"https://www.encodeproject.org/experiments/ENCSR767SOH/\">experiments:ENCSR767SOH/</a></td><td>RNA-seq</td><td>RNA-seq of a single GM12878 cell</td><td>released</td><td>2014-06-30</td></tr><tr><td><a href=\"https://www.encodeproject.org/experiments/ENCSR184CWK/\">experiments:ENCSR184CWK/</a></td><td>RNA-seq</td><td>RNA-seq of a single GM12878 cell</td><td>released</td><td>2014-06-30</td></tr><tr><td><a href=\"https://www.encodeproject.org/experiments/ENCSR000AJH/\">experiments:ENCSR000AJH/</a></td><td>RNA-seq</td><td>RNA-seq of a single GM12878 cell</td><td>released</td><td>2014-06-30</td></tr><tr><td><a href=\"https://www.encodeproject.org/experiments/ENCSR000AJF/\">experiments:ENCSR000AJF/</a></td><td>RNA-seq</td><td>RNA-seq of a single GM12878 cell</td><td>released</td><td>2014-06-30</td></tr><tr><td><a href=\"https://www.encodeproject.org/experiments/ENCSR000AJE/\">experiments:ENCSR000AJE/</a></td><td>RNA-seq</td><td>RNA-seq of a single GM12878 cell</td><td>released</td><td>2014-06-30</td></tr><tr><td><a href=\"https://www.encodeproject.org/experiments/ENCSR000AJC/\">experiments:ENCSR000AJC/</a></td><td>RNA-seq</td><td>RNA-seq of a single GM12878 cell</td><td>released</td><td>2014-06-30</td></tr><tr><td><a href=\"https://www.encodeproject.org/experiments/ENCSR000AJB/\">experiments:ENCSR000AJB/</a></td><td>RNA-seq</td><td>RNA-seq of a single GM12878 cell</td><td>released</td><td>2014-06-30</td></tr><tr><td><a href=\"https://www.encodeproject.org/experiments/ENCSR000AJA/\">experiments:ENCSR000AJA/</a></td><td>RNA-seq</td><td>RNA-seq of a single GM12878 cell</td><td>released</td><td>2014-06-30</td></tr><tr><td><a href=\"https://www.encodeproject.org/experiments/ENCSR000AIY/\">experiments:ENCSR000AIY/</a></td><td>RNA-seq</td><td>RNA-seq of a single GM12878 cell</td><td>released</td><td>2014-06-30</td></tr><tr><td><a href=\"https://www.encodeproject.org/experiments/ENCSR417EDR/\">experiments:ENCSR417EDR/</a></td><td>RNA-seq</td><td>RNA-seq of a single Purkinje cell from a 20 year old human male</td><td>released</td><td>2014-07-07</td></tr><tr><td><a href=\"https://www.encodeproject.org/experiments/ENCSR672QFA/\">experiments:ENCSR672QFA/</a></td><td>RNA-seq</td><td>RNA-seq of a single Purkinje cell from a 20 year old human male</td><td>released</td><td>2014-07-07</td></tr><tr><td><a href=\"https://www.encodeproject.org/experiments/ENCSR101GVL/\">experiments:ENCSR101GVL/</a></td><td>RNA-seq</td><td>RNA-seq of a single Purkinje cell from a 20 year old human male</td><td>released</td><td>2014-07-07</td></tr><tr><td><a href=\"https://www.encodeproject.org/experiments/ENCSR905FLM/\">experiments:ENCSR905FLM/</a></td><td>RNA-seq</td><td>RNA-seq of a single Purkinje cell from a 20 year old human male</td><td>released</td><td>2014-07-07</td></tr><tr><td><a href=\"https://www.encodeproject.org/experiments/ENCSR610BAM/\">experiments:ENCSR610BAM/</a></td><td>RNA-seq</td><td>RNA-seq of a single Purkinje cell from a 20 year old human male</td><td>released</td><td>2014-07-07</td></tr><tr><td><a href=\"https://www.encodeproject.org/experiments/ENCSR124ERY/\">experiments:ENCSR124ERY/</a></td><td>RNA-seq</td><td>RNA-seq of a single Purkinje cell from a 20 year old human male</td><td>released</td><td>2014-07-07</td></tr><tr><td><a href=\"https://www.encodeproject.org/experiments/ENCSR659QHV/\">experiments:ENCSR659QHV/</a></td><td>RNA-seq</td><td>RNA-seq of a single Purkinje cell from a 20 year old human male</td><td>released</td><td>2014-07-07</td></tr><tr><td><a href=\"https://www.encodeproject.org/experiments/ENCSR366QZI/\">experiments:ENCSR366QZI/</a></td><td>RNA-seq</td><td>RNA-seq of a single Purkinje cell from a 20 year old human male</td><td>released</td><td>2014-07-07</td></tr><tr><td><a href=\"https://www.encodeproject.org/experiments/ENCSR244DNF/\">experiments:ENCSR244DNF/</a></td><td>RNA-seq</td><td>RNA-seq of a single Purkinje cell from a 20 year old human male</td><td>released</td><td>2014-07-07</td></tr><tr><td><a href=\"https://www.encodeproject.org/experiments/ENCSR927DHK/\">experiments:ENCSR927DHK/</a></td><td>RNA-seq</td><td>RNA-seq of a single Purkinje cell from a 20 year old human male</td><td>released</td><td>2014-07-07</td></tr><tr><td><a href=\"https://www.encodeproject.org/experiments/ENCSR435ROA/\">experiments:ENCSR435ROA/</a></td><td>RNA-seq</td><td>RNA-seq of a single Purkinje cell from a 20 year old human male</td><td>released</td><td>2014-07-07</td></tr><tr><td><a href=\"https://www.encodeproject.org/experiments/ENCSR231WUP/\">experiments:ENCSR231WUP/</a></td><td>RNA-seq</td><td>RNA-seq of a single Purkinje cell from a 20 year old human male</td><td>released</td><td>2014-07-07</td></tr><tr><td><a href=\"https://www.encodeproject.org/experiments/ENCSR828FPS/\">experiments:ENCSR828FPS/</a></td><td>RNA-seq</td><td>RNA-seq of a single Purkinje cell from a 20 year old human male</td><td>released</td><td>2014-07-07</td></tr><tr><td><a href=\"https://www.encodeproject.org/experiments/ENCSR729ENB/\">experiments:ENCSR729ENB/</a></td><td>RNA-seq</td><td>RNA-seq of a single Purkinje cell from a 20 year old human male</td><td>released</td><td>2014-07-07</td></tr><tr><td><a href=\"https://www.encodeproject.org/experiments/ENCSR724XFQ/\">experiments:ENCSR724XFQ/</a></td><td>RNA-seq</td><td>RNA-seq of a single Purkinje cell from a 20 year old human male</td><td>released</td><td>2014-07-07</td></tr><tr><td><a href=\"https://www.encodeproject.org/experiments/ENCSR921DSM/\">experiments:ENCSR921DSM/</a></td><td>RNA-seq</td><td>RNA-seq of a single Purkinje cell from a 20 year old human male</td><td>released</td><td>2014-07-07</td></tr><tr><td><a href=\"https://www.encodeproject.org/experiments/ENCSR086PHI/\">experiments:ENCSR086PHI/</a></td><td>RNA-seq</td><td>RNA-seq of a single Purkinje cell from a 20 year old human male</td><td>released</td><td>2014-07-07</td></tr><tr><td><a href=\"https://www.encodeproject.org/experiments/ENCSR561KFF/\">experiments:ENCSR561KFF/</a></td><td>RNA-seq</td><td>RNA-seq of a single Purkinje cell from a 20 year old human male</td><td>released</td><td>2014-07-07</td></tr><tr><td><a href=\"https://www.encodeproject.org/experiments/ENCSR376KFF/\">experiments:ENCSR376KFF/</a></td><td>RNA-seq</td><td>RNA-seq of a single Purkinje cell from a 20 year old human male</td><td>released</td><td>2014-07-07</td></tr><tr><td><a href=\"https://www.encodeproject.org/experiments/ENCSR558LHB/\">experiments:ENCSR558LHB/</a></td><td>RNA-seq</td><td>RNA-seq of a single Purkinje cell from a 20 year old human male</td><td>released</td><td>2014-07-07</td></tr><tr><td><a href=\"https://www.encodeproject.org/experiments/ENCSR157NLF/\">experiments:ENCSR157NLF/</a></td><td>RNA-seq</td><td>RNA-seq on 30 cell pools of excised Purkinje cells from a 20 year old human male</td><td>released</td><td>2014-07-07</td></tr><tr><td><a href=\"https://www.encodeproject.org/experiments/ENCSR900JSG/\">experiments:ENCSR900JSG/</a></td><td>RNA-seq</td><td>RNA-seq on 30 cell pools of excised Purkinje cells from a 6 year old human male</td><td>released</td><td>2014-07-07</td></tr><tr><td><a href=\"https://www.encodeproject.org/experiments/ENCSR423XRG/\">experiments:ENCSR423XRG/</a></td><td>RNA-seq</td><td>RNA-seq on 30 cell pools of excised pyramidal cells from a 20 year old human male</td><td>released</td><td>2014-07-07</td></tr><tr><td><a href=\"https://www.encodeproject.org/experiments/ENCSR137RHZ/\">experiments:ENCSR137RHZ/</a></td><td>RNA-seq</td><td>RNA-seq on 30 cell pools of excised pyramidal cells from a 27 year old human male</td><td>released</td><td>2014-07-07</td></tr><tr><td><a href=\"https://www.encodeproject.org/experiments/ENCSR758TAD/\">experiments:ENCSR758TAD/</a></td><td>RNA-seq</td><td>RNA-seq on a 50 cell pool of Purkinje cells from an 8 month old male wild type C57Bl6 mouse</td><td>released</td><td>2014-12-17</td></tr><tr><td><a href=\"https://www.encodeproject.org/experiments/ENCSR814JMM/\">experiments:ENCSR814JMM/</a></td><td>RNA-seq</td><td>RNA-seq on a dissected area of granule cells from an 8 month old male wild type C57Bl6 mouse</td><td>released</td><td>2014-12-17</td></tr><tr><td><a href=\"https://www.encodeproject.org/experiments/ENCSR236EGS/\">experiments:ENCSR236EGS/</a></td><td>RNA-seq</td><td>RNA-seq on a dissected area of layer V from an 8 month old male wild type C57Bl6 mouse</td><td>released</td><td>2014-12-17</td></tr><tr><td><a href=\"https://www.encodeproject.org/experiments/ENCSR848HOX/\">experiments:ENCSR848HOX/</a></td><td>RNA-seq</td><td>RNA-seq on embryonic 11.5 day mouse embryonic facial prominence</td><td>released</td><td>2014-11-20</td></tr><tr><td><a href=\"https://www.encodeproject.org/experiments/ENCSR691OPQ/\">experiments:ENCSR691OPQ/</a></td><td>RNA-seq</td><td>RNA-seq on embryonic 11.5 day mouse heart</td><td>released</td><td>2014-11-20</td></tr><tr><td><a href=\"https://www.encodeproject.org/experiments/ENCSR760TOE/\">experiments:ENCSR760TOE/</a></td><td>RNA-seq</td><td>RNA-seq on embryonic 11.5 day mouse hindbrain</td><td>released</td><td>2014-11-20</td></tr><tr><td><a href=\"https://www.encodeproject.org/experiments/ENCSR541XZK/\">experiments:ENCSR541XZK/</a></td><td>RNA-seq</td><td>RNA-seq on embryonic 11.5 day mouse limb</td><td>released</td><td>2014-11-20</td></tr><tr><td><a href=\"https://www.encodeproject.org/experiments/ENCSR307BCA/\">experiments:ENCSR307BCA/</a></td><td>RNA-seq</td><td>RNA-seq on embryonic 11.5 day mouse midbrain</td><td>released</td><td>2014-11-20</td></tr><tr><td><a href=\"https://www.encodeproject.org/experiments/ENCSR337FYI/\">experiments:ENCSR337FYI/</a></td><td>RNA-seq</td><td>RNA-seq on embryonic 11.5 day mouse neural tube</td><td>released</td><td>2014-11-20</td></tr><tr><td><a href=\"https://www.encodeproject.org/experiments/ENCSR823VEE/\">experiments:ENCSR823VEE/</a></td><td>RNA-seq</td><td>RNA-seq on embryonic 14.5 day mouse embryonic facial prominence</td><td>released</td><td>2014-12-17</td></tr><tr><td><a href=\"https://www.encodeproject.org/experiments/ENCSR185LWM/\">experiments:ENCSR185LWM/</a></td><td>RNA-seq</td><td>RNA-seq on embryonic 14.5 day mouse forebrain</td><td>released</td><td>2014-12-17</td></tr><tr><td><a href=\"https://www.encodeproject.org/experiments/ENCSR727FHP/\">experiments:ENCSR727FHP/</a></td><td>RNA-seq</td><td>RNA-seq on embryonic 14.5 day mouse heart</td><td>released</td><td>2014-12-17</td></tr><tr><td><a href=\"https://www.encodeproject.org/experiments/ENCSR559TRB/\">experiments:ENCSR559TRB/</a></td><td>RNA-seq</td><td>RNA-seq on embryonic 14.5 day mouse hindbrain</td><td>released</td><td>2014-12-17</td></tr><tr><td><a href=\"https://www.encodeproject.org/experiments/ENCSR932TRU/\">experiments:ENCSR932TRU/</a></td><td>RNA-seq</td><td>RNA-seq on embryonic 14.5 day mouse intestine</td><td>released</td><td>2014-12-17</td></tr><tr><td><a href=\"https://www.encodeproject.org/experiments/ENCSR504GEG/\">experiments:ENCSR504GEG/</a></td><td>RNA-seq</td><td>RNA-seq on embryonic 14.5 day mouse kidney</td><td>released</td><td>2014-12-17</td></tr><tr><td><a href=\"https://www.encodeproject.org/experiments/ENCSR216NEG/\">experiments:ENCSR216NEG/</a></td><td>RNA-seq</td><td>RNA-seq on embryonic 14.5 day mouse limb</td><td>released</td><td>2014-12-17</td></tr><tr><td><a href=\"https://www.encodeproject.org/experiments/ENCSR867YNV/\">experiments:ENCSR867YNV/</a></td><td>RNA-seq</td><td>RNA-seq on embryonic 14.5 day mouse liver</td><td>released</td><td>2014-12-17</td></tr><tr><td><a href=\"https://www.encodeproject.org/experiments/ENCSR039ADS/\">experiments:ENCSR039ADS/</a></td><td>RNA-seq</td><td>RNA-seq on embryonic 14.5 day mouse lung</td><td>released</td><td>2014-12-17</td></tr><tr><td><a href=\"https://www.encodeproject.org/experiments/ENCSR343YLB/\">experiments:ENCSR343YLB/</a></td><td>RNA-seq</td><td>RNA-seq on embryonic 14.5 day mouse midbrain</td><td>released</td><td>2014-12-17</td></tr><tr><td><a href=\"https://www.encodeproject.org/experiments/ENCSR928OXI/\">experiments:ENCSR928OXI/</a></td><td>RNA-seq</td><td>RNA-seq on embryonic 14.5 day mouse neural tube</td><td>released</td><td>2014-12-17</td></tr><tr><td><a href=\"https://www.encodeproject.org/experiments/ENCSR290RRR/\">experiments:ENCSR290RRR/</a></td><td>RNA-seq</td><td>RNA-seq on embryonic 14.5 day mouse stomach</td><td>released</td><td>2014-12-17</td></tr><tr><td><a href=\"https://www.encodeproject.org/experiments/ENCSR415JJO/\">experiments:ENCSR415JJO/</a></td><td>RNA-seq</td><td>RNA-seq on excised cerebellar granule cells from a 20 year old human male</td><td>released</td><td>2014-07-07</td></tr><tr><td><a href=\"https://www.encodeproject.org/experiments/ENCSR313IUO/\">experiments:ENCSR313IUO/</a></td><td>RNA-seq</td><td>RNA-seq on excised cerebellar granule cells from a 6 year old human male</td><td>released</td><td>2014-07-07</td></tr><tr><td><a href=\"https://www.encodeproject.org/experiments/ENCSR673UIY/\">experiments:ENCSR673UIY/</a></td><td>RNA-seq</td><td>RNA-seq on single cell equivalents of 10 isolated and homogenized GM12878 cells</td><td>released</td><td>2014-06-30</td></tr><tr><td><a href=\"https://www.encodeproject.org/experiments/ENCSR888LYA/\">experiments:ENCSR888LYA/</a></td><td>RNA-seq</td><td>RNA-seq on single cell equivalents of 20 excised and homogenized Purkinje cells from a 20 year old human male</td><td>released</td><td>2014-07-07</td></tr><tr><td><a href=\"https://www.encodeproject.org/experiments/ENCSR160IIN/\">experiments:ENCSR160IIN/</a></td><td>RNA-seq</td><td>Total RNA-seq on 10ng of embryonic 11.5 day mouse forebrain</td><td>released</td><td>2014-11-20</td></tr><tr><td><a href=\"https://www.encodeproject.org/experiments/ENCSR284AMY/\">experiments:ENCSR284AMY/</a></td><td>RNA-seq</td><td>Total RNA-seq on 10ng of embryonic 11.5 day mouse liver</td><td>released</td><td>2014-11-20</td></tr><tr><td><a href=\"https://www.encodeproject.org/experiments/ENCSR368QPC/\">experiments:ENCSR368QPC/</a></td><td>RNA-seq</td><td>Total RNA-seq on PGP human IPS cells (13pgs)</td><td>released</td><td>2014-09-29</td></tr><tr><td><a href=\"https://www.encodeproject.org/experiments/ENCSR225BBK/\">experiments:ENCSR225BBK/</a></td><td>RNA-seq</td><td>Total RNA-seq on PGP human bipolar spindle neurons (13pgs)</td><td>released</td><td>2014-09-29</td></tr><tr><td><a href=\"https://www.encodeproject.org/experiments/ENCSR000OXO/\">experiments:ENCSR000OXO/</a></td><td>RNA-seq</td><td>Total RNA-seq on embryonic 11.5 day mouse forebrain</td><td>released</td><td>2014-09-29</td></tr><tr><td><a href=\"https://www.encodeproject.org/experiments/ENCSR592MSV/\">experiments:ENCSR592MSV/</a></td><td>RNA-seq</td><td>Total RNA-seq on embryonic 11.5 day mouse liver</td><td>released</td><td>2014-09-29</td></tr><tr><td><a href=\"https://www.encodeproject.org/experiments/ENCSR527RFK/\">experiments:ENCSR527RFK/</a></td><td>RNA-seq</td><td>Total RNA-seq on postnatal 0 day mouse forebrain (13pgs)</td><td>released</td><td>2014-09-29</td></tr><tr><td><a href=\"https://www.encodeproject.org/experiments/ENCSR510ADJ/\">experiments:ENCSR510ADJ/</a></td><td>RNA-seq</td><td>Total RNA-seq on postnatal 0 day mouse heart (13pg)</td><td>released</td><td>2014-09-29</td></tr><tr><td><a href=\"https://www.encodeproject.org/experiments/ENCSR861FGB/\">experiments:ENCSR861FGB/</a></td><td>RNA-seq</td><td>Total RNA-seq on postnatal 0 day mouse hindbrain (13pgs)</td><td>released</td><td>2014-09-29</td></tr><tr><td><a href=\"https://www.encodeproject.org/experiments/ENCSR950BNG/\">experiments:ENCSR950BNG/</a></td><td>RNA-seq</td><td>Total RNA-seq on postnatal 0 day mouse liver (13pgs)</td><td>released</td><td>2014-09-29</td></tr><tr><td><a href=\"https://www.encodeproject.org/experiments/ENCSR026ZRP/\">experiments:ENCSR026ZRP/</a></td><td>RNA-seq</td><td>Total RNA-seq on postnatal 0 day mouse midbrain (13pgs)</td><td>released</td><td>2014-09-29</td></tr><tr><td><a href=\"https://www.encodeproject.org/experiments/ENCSR265YFZ/\">experiments:ENCSR265YFZ/</a></td><td>RNA-seq</td><td>Total RNA-seq on postnatal 0 day mouse skeletal muscle (13pgs)</td><td>released</td><td>2014-09-29</td></tr><tr><td><a href=\"https://www.encodeproject.org/experiments/ENCSR907JUN/\">experiments:ENCSR907JUN/</a></td><td>RNA-seq</td><td>Total RNA-seq on postnatal 0 day mouse thymus (13pgs)</td><td>released</td><td>2014-09-29</td></tr><tr><td><a href=\"https://www.encodeproject.org/experiments/ENCSR320PXZ/\">experiments:ENCSR320PXZ/</a></td><td>RNA-seq</td><td>RNA-seq of a single Purkinje cell from an 8 month old male wild type C57Bl6 mouse</td><td>submitted</td><td>None</td></tr><tr><td><a href=\"https://www.encodeproject.org/experiments/ENCSR521YLY/\">experiments:ENCSR521YLY/</a></td><td>RNA-seq</td><td>RNA-seq of a single Purkinje cell from an 8 month old male wild type C57Bl6 mouse</td><td>submitted</td><td>None</td></tr><tr><td><a href=\"https://www.encodeproject.org/experiments/ENCSR559QTE/\">experiments:ENCSR559QTE/</a></td><td>RNA-seq</td><td>RNA-seq of a single Purkinje cell from an 8 month old male wild type C57Bl6 mouse</td><td>submitted</td><td>None</td></tr><tr><td><a href=\"https://www.encodeproject.org/experiments/ENCSR708EHJ/\">experiments:ENCSR708EHJ/</a></td><td>RNA-seq</td><td>RNA-seq of a single Purkinje cell from an 8 month old male wild type C57Bl6 mouse</td><td>submitted</td><td>None</td></tr><tr><td><a href=\"https://www.encodeproject.org/experiments/ENCSR474NEW/\">experiments:ENCSR474NEW/</a></td><td>RNA-seq</td><td>RNA-seq of a single Purkinje cell from an 8 month old male wild type C57Bl6 mouse</td><td>submitted</td><td>None</td></tr><tr><td><a href=\"https://www.encodeproject.org/experiments/ENCSR316RMA/\">experiments:ENCSR316RMA/</a></td><td>RNA-seq</td><td>RNA-seq of a single Purkinje cell from an 8 month old male wild type C57Bl6 mouse</td><td>submitted</td><td>None</td></tr><tr><td><a href=\"https://www.encodeproject.org/experiments/ENCSR691PPV/\">experiments:ENCSR691PPV/</a></td><td>RNA-seq</td><td>RNA-seq of a single Purkinje cell from an 8 month old male wild type C57Bl6 mouse</td><td>submitted</td><td>None</td></tr><tr><td><a href=\"https://www.encodeproject.org/experiments/ENCSR351YGY/\">experiments:ENCSR351YGY/</a></td><td>RNA-seq</td><td>RNA-seq of a single Purkinje cell from an 8 month old male wild type C57Bl6 mouse</td><td>submitted</td><td>None</td></tr><tr><td><a href=\"https://www.encodeproject.org/experiments/ENCSR268AXN/\">experiments:ENCSR268AXN/</a></td><td>RNA-seq</td><td>RNA-seq on a 50 cell pool of layer V pyramidal neurons from an 8 month old male wild type C57Bl5 mouse</td><td>submitted</td><td>None</td></tr><tr><td><a href=\"https://www.encodeproject.org/experiments/ENCSR096STK/\">experiments:ENCSR096STK/</a></td><td>RNA-seq</td><td>RNA-seq on mouse liver</td><td>submitted</td><td>None</td></tr><tr><td><a href=\"https://www.encodeproject.org/experiments/ENCSR739PEB/\">experiments:ENCSR739PEB/</a></td><td>RNA-seq</td><td>RNA-seq on postnatal 0 day mouse adrenal glands</td><td>submitted</td><td>None</td></tr><tr><td><a href=\"https://www.encodeproject.org/experiments/ENCSR173PJN/\">experiments:ENCSR173PJN/</a></td><td>RNA-seq</td><td>RNA-seq on postnatal 0 day mouse kidney</td><td>submitted</td><td>None</td></tr><tr><td><a href=\"https://www.encodeproject.org/experiments/ENCSR579FCW/\">experiments:ENCSR579FCW/</a></td><td>RNA-seq</td><td>RNA-seq on postnatal 0 day mouse spleen</td><td>submitted</td><td>None</td></tr><tr><td><a href=\"https://www.encodeproject.org/experiments/ENCSR637NLF/\">experiments:ENCSR637NLF/</a></td><td>RNA-seq</td><td>RNA-seq on single cell equivalents of 20 excised and homogenized Purkinje cells from an 8 month old male wild type C57Bl6 mouse</td><td>submitted</td><td>None</td></tr><tr><td><a href=\"https://www.encodeproject.org/experiments/ENCSR772FQU/\">experiments:ENCSR772FQU/</a></td><td>RNA-seq</td><td>Total RNA-Seq on postnatal 0 day mouse bladder</td><td>submitted</td><td>None</td></tr><tr><td><a href=\"https://www.encodeproject.org/experiments/ENCSR362AIZ/\">experiments:ENCSR362AIZ/</a></td><td>RNA-seq</td><td>Total RNA-Seq on postnatal 0 day mouse forebrain</td><td>submitted</td><td>None</td></tr><tr><td><a href=\"https://www.encodeproject.org/experiments/ENCSR526SEX/\">experiments:ENCSR526SEX/</a></td><td>RNA-seq</td><td>Total RNA-Seq on postnatal 0 day mouse heart</td><td>submitted</td><td>None</td></tr><tr><td><a href=\"https://www.encodeproject.org/experiments/ENCSR017JEG/\">experiments:ENCSR017JEG/</a></td><td>RNA-seq</td><td>Total RNA-Seq on postnatal 0 day mouse hindbrain</td><td>submitted</td><td>None</td></tr><tr><td><a href=\"https://www.encodeproject.org/experiments/ENCSR331XCE/\">experiments:ENCSR331XCE/</a></td><td>RNA-seq</td><td>Total RNA-Seq on postnatal 0 day mouse intestine</td><td>submitted</td><td>None</td></tr><tr><td><a href=\"https://www.encodeproject.org/experiments/ENCSR982MRY/\">experiments:ENCSR982MRY/</a></td><td>RNA-seq</td><td>Total RNA-Seq on postnatal 0 day mouse lungs</td><td>submitted</td><td>None</td></tr><tr><td><a href=\"https://www.encodeproject.org/experiments/ENCSR719NAJ/\">experiments:ENCSR719NAJ/</a></td><td>RNA-seq</td><td>Total RNA-Seq on postnatal 0 day mouse midbrain</td><td>submitted</td><td>None</td></tr><tr><td><a href=\"https://www.encodeproject.org/experiments/ENCSR667TOX/\">experiments:ENCSR667TOX/</a></td><td>RNA-seq</td><td>Total RNA-Seq on postnatal 0 day mouse neural tube</td><td>submitted</td><td>None</td></tr><tr><td><a href=\"https://www.encodeproject.org/experiments/ENCSR946HWC/\">experiments:ENCSR946HWC/</a></td><td>RNA-seq</td><td>Total RNA-Seq on postnatal 0 day mouse skeletal muscle</td><td>submitted</td><td>None</td></tr><tr><td><a href=\"https://www.encodeproject.org/experiments/ENCSR178GUS/\">experiments:ENCSR178GUS/</a></td><td>RNA-seq</td><td>Total RNA-Seq on postnatal 0 day mouse stomach</td><td>submitted</td><td>None</td></tr><tr><td><a href=\"https://www.encodeproject.org/experiments/ENCSR438XCG/\">experiments:ENCSR438XCG/</a></td><td>RNA-seq</td><td>Total RNA-Seq on postnatal 0 day mouse thymus</td><td>submitted</td><td>None</td></tr></table>"
       ],
       "metadata": {},
       "output_type": "pyout",
       "prompt_number": 11,
       "text": [
        "<rdfmagic.LibRdfResults at 0x7f63d5c70da0>"
       ]
      }
     ],
     "prompt_number": 11
    },
    {
     "cell_type": "heading",
     "level": 1,
     "metadata": {},
     "source": [
      "Current Encode3 Library status"
     ]
    },
    {
     "cell_type": "code",
     "collapsed": false,
     "input": [
      "%%sparql -m model -c -o library_status\n",
      "select ?experiment ?library ?description ?alias ?status ?created\n",
      "where {\n",
      "  ?experiment a experiment:experiment ;\n",
      "             rdf:description ?description ;\n",
      "             experiment:status ?status ;\n",
      "             experiment:replicates ?replicate .\n",
      "   ?replicate replicate:library ?library .\n",
      "   ?library library:date_created ?created .\n",
      "   OPTIONAL { ?library library:aliases ?alias . }\n",
      "}\n",
      "order by ?created ?experiment"
     ],
     "language": "python",
     "metadata": {},
     "outputs": [
      {
       "output_type": "stream",
       "stream": "stdout",
       "text": [
        "Found 244 rows.\n"
       ]
      }
     ],
     "prompt_number": 34
    },
    {
     "cell_type": "code",
     "collapsed": false,
     "input": [
      "records = []\n",
      "for row in library_status:\n",
      "    record = { k: str(row[k]) for k in row }\n",
      "    record['alias'] = record['alias'].replace('barbara-wold:', '')\n",
      "    record['created'] = record['created'][:10]\n",
      "    records.append(record)\n",
      "librarydf = pandas.DataFrame(records, \n",
      "                             columns=['experiment', 'library', 'alias', 'description', 'status', 'created'],\n",
      "                             )"
     ],
     "language": "python",
     "metadata": {},
     "outputs": [],
     "prompt_number": 59
    },
    {
     "cell_type": "code",
     "collapsed": false,
     "input": [
      "librarydf.to_excel('/tmp/library.xlsx', index=False)"
     ],
     "language": "python",
     "metadata": {},
     "outputs": [],
     "prompt_number": 60
    },
    {
     "cell_type": "code",
     "collapsed": false,
     "input": [
      "librarydf.to_excel?"
     ],
     "language": "python",
     "metadata": {},
     "outputs": [],
     "prompt_number": 57
    },
    {
     "cell_type": "heading",
     "level": 1,
     "metadata": {},
     "source": [
      "Current Encode 3 File status"
     ]
    },
    {
     "cell_type": "code",
     "collapsed": false,
     "input": [
      "%%sparql -m model -c -o file_status\n",
      "select distinct ?experiment ?description ?status ?created\n",
      "where {\n",
      "  ?experiment a experiment:experiment ;\n",
      "             rdf:description ?description ;\n",
      "             experiment:status ?status ;\n",
      "             experiment:files ?file .\n",
      "   ?file file:date_created ?created ;\n",
      "         file:status ?status .\n",
      "}\n",
      "order by ?created ?status"
     ],
     "language": "python",
     "metadata": {},
     "outputs": [
      {
       "output_type": "stream",
       "stream": "stdout",
       "text": [
        "Found 842 rows.\n"
       ]
      }
     ],
     "prompt_number": 61
    },
    {
     "cell_type": "code",
     "collapsed": false,
     "input": [],
     "language": "python",
     "metadata": {},
     "outputs": []
    }
   ],
   "metadata": {}
  }
 ]
}