{
 "metadata": {
  "name": "",
  "signature": "sha256:38981fdd3ee9aa5e8abc351012a9cc03dcf341cd243214b6a1d1a5d4586c0032"
 },
 "nbformat": 3,
 "nbformat_minor": 0,
 "worksheets": [
  {
   "cells": [
    {
     "cell_type": "markdown",
     "metadata": {},
     "source": [
      "Whats' released?"
     ]
    },
    {
     "cell_type": "code",
     "collapsed": false,
     "input": [
      "from __future__ import print_function"
     ],
     "language": "python",
     "metadata": {},
     "outputs": [],
     "prompt_number": 1
    },
    {
     "cell_type": "code",
     "collapsed": false,
     "input": [
      "import sys\n",
      "import os\n",
      "\n",
      "import RDF"
     ],
     "language": "python",
     "metadata": {},
     "outputs": [],
     "prompt_number": 2
    },
    {
     "cell_type": "code",
     "collapsed": false,
     "input": [
      "def custom():\n",
      "    htsw_path = os.path.expanduser('~/proj/solexa/htsworkflow')\n",
      "    if htsw_path not in sys.path:\n",
      "        sys.path.append(htsw_path)\n",
      "custom()"
     ],
     "language": "python",
     "metadata": {},
     "outputs": [],
     "prompt_number": 3
    },
    {
     "cell_type": "code",
     "collapsed": false,
     "input": [
      "from htsworkflow.submission.encoded import ENCODED\n",
      "from htsworkflow.util.rdfhelp import get_model, dump_model\n",
      "from htsworkflow.util.rdfjsonld import load_into_model"
     ],
     "language": "python",
     "metadata": {},
     "outputs": [],
     "prompt_number": 4
    },
    {
     "cell_type": "code",
     "collapsed": false,
     "input": [
      "%load_ext rdfmagic"
     ],
     "language": "python",
     "metadata": {},
     "outputs": [],
     "prompt_number": 5
    },
    {
     "cell_type": "code",
     "collapsed": false,
     "input": [
      "%addns htsw http://jumpgate.caltech.edu/wiki/LibraryOntology#\n",
      "%addns library http://jumpgate.caltech.edu/library/\n",
      "%addns flowcell http://jumpgate.caltech.edu/flowcell/\n",
      "    \n",
      "%addns biosample https://www.encodedcc.org/profiles/biosample.json#\n",
      "%addns experiment https://www.encodedcc.org/profiles/experiment.json#\n",
      "%addns library https://www.encodedcc.org/profiles/library.json#\n",
      "%addns platform https://www.encodedcc.org/profiles/platform.json#\n",
      "%addns replicate https://www.encodedcc.org/profiles/replicate.json#    \n",
      "\n",
      "%addns experiments https://www.encodedcc.org/experiments/"
     ],
     "language": "python",
     "metadata": {},
     "outputs": [],
     "prompt_number": 6
    },
    {
     "cell_type": "code",
     "collapsed": false,
     "input": [
      "server = ENCODED('www.encodedcc.org')\n",
      "server.load_netrc()"
     ],
     "language": "python",
     "metadata": {},
     "outputs": [],
     "prompt_number": 7
    },
    {
     "cell_type": "code",
     "collapsed": false,
     "input": [
      "model = get_model()"
     ],
     "language": "python",
     "metadata": {},
     "outputs": [],
     "prompt_number": 8
    },
    {
     "cell_type": "code",
     "collapsed": false,
     "input": [
      "search_query = 'https://www.encodedcc.org/search/?type=experiment&lab.title=Barbara+Wold%2C+Caltech&award.rfa=ENCODE3'\n",
      "experiments = server.get_json(search_query)\n",
      "_ = server.convert_search_to_jsonld(experiments)"
     ],
     "language": "python",
     "metadata": {},
     "outputs": [],
     "prompt_number": 9
    },
    {
     "cell_type": "code",
     "collapsed": false,
     "input": [
      "load_into_model(model, experiments)"
     ],
     "language": "python",
     "metadata": {},
     "outputs": [],
     "prompt_number": 10
    },
    {
     "cell_type": "code",
     "collapsed": false,
     "input": [
      "%%sparql -m model -o experiments\n",
      "select ?s\n",
      "where {\n",
      "   ?s a experiment:experiment.\n",
      "}"
     ],
     "language": "python",
     "metadata": {},
     "outputs": [],
     "prompt_number": 11
    },
    {
     "cell_type": "code",
     "collapsed": false,
     "input": [
      "for row in experiments:\n",
      "    url = str(row['s'])\n",
      "    load_into_model(model, server.get_jsonld(url))"
     ],
     "language": "python",
     "metadata": {},
     "outputs": [],
     "prompt_number": 12
    },
    {
     "cell_type": "code",
     "collapsed": false,
     "input": [
      "%%sparql -m model\n",
      "select ?accession ?assay_name ?description ?status ?release\n",
      "where {\n",
      "  ?accession a experiment:experiment ;\n",
      "             rdf:description ?description ;\n",
      "             experiment:assay_term_name ?assay_name ;\n",
      "             experiment:status ?status .\n",
      "  OPTIONAL { ?accession experiment:date_released ?release .}\n",
      "}\n",
      "order by ?status ?description"
     ],
     "language": "python",
     "metadata": {},
     "outputs": [
      {
       "html": [
        "<table><tr><td>accession</td><td>assay_name</td><td>description</td><td>status</td><td>release</td></tr><tr><td><a href=\"https://www.encodedcc.org/experiments/ENCSR086PHI/\">experiments:ENCSR086PHI/</a></td><td>RNA-seq</td><td>RNA-seq of a single Purkinje cell from a 20 year old human male</td><td>in progress</td><td>None</td></tr><tr><td><a href=\"https://www.encodedcc.org/experiments/ENCSR101GVL/\">experiments:ENCSR101GVL/</a></td><td>RNA-seq</td><td>RNA-seq of a single Purkinje cell from a 20 year old human male</td><td>in progress</td><td>None</td></tr><tr><td><a href=\"https://www.encodedcc.org/experiments/ENCSR124ERY/\">experiments:ENCSR124ERY/</a></td><td>RNA-seq</td><td>RNA-seq of a single Purkinje cell from a 20 year old human male</td><td>in progress</td><td>None</td></tr><tr><td><a href=\"https://www.encodedcc.org/experiments/ENCSR231WUP/\">experiments:ENCSR231WUP/</a></td><td>RNA-seq</td><td>RNA-seq of a single Purkinje cell from a 20 year old human male</td><td>in progress</td><td>None</td></tr><tr><td><a href=\"https://www.encodedcc.org/experiments/ENCSR244DNF/\">experiments:ENCSR244DNF/</a></td><td>RNA-seq</td><td>RNA-seq of a single Purkinje cell from a 20 year old human male</td><td>in progress</td><td>None</td></tr><tr><td><a href=\"https://www.encodedcc.org/experiments/ENCSR366QZI/\">experiments:ENCSR366QZI/</a></td><td>RNA-seq</td><td>RNA-seq of a single Purkinje cell from a 20 year old human male</td><td>in progress</td><td>None</td></tr><tr><td><a href=\"https://www.encodedcc.org/experiments/ENCSR376KFF/\">experiments:ENCSR376KFF/</a></td><td>RNA-seq</td><td>RNA-seq of a single Purkinje cell from a 20 year old human male</td><td>in progress</td><td>None</td></tr><tr><td><a href=\"https://www.encodedcc.org/experiments/ENCSR417EDR/\">experiments:ENCSR417EDR/</a></td><td>RNA-seq</td><td>RNA-seq of a single Purkinje cell from a 20 year old human male</td><td>in progress</td><td>None</td></tr><tr><td><a href=\"https://www.encodedcc.org/experiments/ENCSR435ROA/\">experiments:ENCSR435ROA/</a></td><td>RNA-seq</td><td>RNA-seq of a single Purkinje cell from a 20 year old human male</td><td>in progress</td><td>None</td></tr><tr><td><a href=\"https://www.encodedcc.org/experiments/ENCSR558LHB/\">experiments:ENCSR558LHB/</a></td><td>RNA-seq</td><td>RNA-seq of a single Purkinje cell from a 20 year old human male</td><td>in progress</td><td>None</td></tr><tr><td><a href=\"https://www.encodedcc.org/experiments/ENCSR561KFF/\">experiments:ENCSR561KFF/</a></td><td>RNA-seq</td><td>RNA-seq of a single Purkinje cell from a 20 year old human male</td><td>in progress</td><td>None</td></tr><tr><td><a href=\"https://www.encodedcc.org/experiments/ENCSR610BAM/\">experiments:ENCSR610BAM/</a></td><td>RNA-seq</td><td>RNA-seq of a single Purkinje cell from a 20 year old human male</td><td>in progress</td><td>None</td></tr><tr><td><a href=\"https://www.encodedcc.org/experiments/ENCSR659QHV/\">experiments:ENCSR659QHV/</a></td><td>RNA-seq</td><td>RNA-seq of a single Purkinje cell from a 20 year old human male</td><td>in progress</td><td>None</td></tr><tr><td><a href=\"https://www.encodedcc.org/experiments/ENCSR672QFA/\">experiments:ENCSR672QFA/</a></td><td>RNA-seq</td><td>RNA-seq of a single Purkinje cell from a 20 year old human male</td><td>in progress</td><td>None</td></tr><tr><td><a href=\"https://www.encodedcc.org/experiments/ENCSR724XFQ/\">experiments:ENCSR724XFQ/</a></td><td>RNA-seq</td><td>RNA-seq of a single Purkinje cell from a 20 year old human male</td><td>in progress</td><td>None</td></tr><tr><td><a href=\"https://www.encodedcc.org/experiments/ENCSR729ENB/\">experiments:ENCSR729ENB/</a></td><td>RNA-seq</td><td>RNA-seq of a single Purkinje cell from a 20 year old human male</td><td>in progress</td><td>None</td></tr><tr><td><a href=\"https://www.encodedcc.org/experiments/ENCSR828FPS/\">experiments:ENCSR828FPS/</a></td><td>RNA-seq</td><td>RNA-seq of a single Purkinje cell from a 20 year old human male</td><td>in progress</td><td>None</td></tr><tr><td><a href=\"https://www.encodedcc.org/experiments/ENCSR905FLM/\">experiments:ENCSR905FLM/</a></td><td>RNA-seq</td><td>RNA-seq of a single Purkinje cell from a 20 year old human male</td><td>in progress</td><td>None</td></tr><tr><td><a href=\"https://www.encodedcc.org/experiments/ENCSR921DSM/\">experiments:ENCSR921DSM/</a></td><td>RNA-seq</td><td>RNA-seq of a single Purkinje cell from a 20 year old human male</td><td>in progress</td><td>None</td></tr><tr><td><a href=\"https://www.encodedcc.org/experiments/ENCSR927DHK/\">experiments:ENCSR927DHK/</a></td><td>RNA-seq</td><td>RNA-seq of a single Purkinje cell from a 20 year old human male</td><td>in progress</td><td>None</td></tr><tr><td><a href=\"https://www.encodedcc.org/experiments/ENCSR157NLF/\">experiments:ENCSR157NLF/</a></td><td>RNA-seq</td><td>RNA-seq on 30 cell pools of excised Purkinje cells from a 20 year old human male</td><td>in progress</td><td>None</td></tr><tr><td><a href=\"https://www.encodedcc.org/experiments/ENCSR900JSG/\">experiments:ENCSR900JSG/</a></td><td>RNA-seq</td><td>RNA-seq on 30 cell pools of excised Purkinje cells from a 6 year old human male</td><td>in progress</td><td>None</td></tr><tr><td><a href=\"https://www.encodedcc.org/experiments/ENCSR423XRG/\">experiments:ENCSR423XRG/</a></td><td>RNA-seq</td><td>RNA-seq on 30 cell pools of excised pyramidal cells from a 20 year old human male</td><td>in progress</td><td>None</td></tr><tr><td><a href=\"https://www.encodedcc.org/experiments/ENCSR137RHZ/\">experiments:ENCSR137RHZ/</a></td><td>RNA-seq</td><td>RNA-seq on 30 cell pools of excised pyramidal cells from a 27 year old human male</td><td>in progress</td><td>None</td></tr><tr><td><a href=\"https://www.encodedcc.org/experiments/ENCSR415JJO/\">experiments:ENCSR415JJO/</a></td><td>RNA-seq</td><td>RNA-seq on excised cerebellar granule cells from a 20 year old human male</td><td>in progress</td><td>None</td></tr><tr><td><a href=\"https://www.encodedcc.org/experiments/ENCSR313IUO/\">experiments:ENCSR313IUO/</a></td><td>RNA-seq</td><td>RNA-seq on excised cerebellar granule cells from a 6 year old human male</td><td>in progress</td><td>None</td></tr><tr><td><a href=\"https://www.encodedcc.org/experiments/ENCSR888LYA/\">experiments:ENCSR888LYA/</a></td><td>RNA-seq</td><td>RNA-seq on single cell equivalents of 20 excised and homogenized Purkinje cells from a 20 year old human male</td><td>in progress</td><td>None</td></tr><tr><td><a href=\"https://www.encodedcc.org/experiments/ENCSR000AIZ/\">experiments:ENCSR000AIZ/</a></td><td>RNA-seq</td><td>RNA-seq of a GM12878 30 cell pool</td><td>proposed</td><td>None</td></tr><tr><td><a href=\"https://www.encodedcc.org/experiments/ENCSR000AJD/\">experiments:ENCSR000AJD/</a></td><td>RNA-seq</td><td>RNA-seq of GM12878 bulk prep of 10 ngs</td><td>release ready</td><td>None</td></tr><tr><td><a href=\"https://www.encodedcc.org/experiments/ENCSR000AJG/\">experiments:ENCSR000AJG/</a></td><td>RNA-seq</td><td>RNA-seq of a GM12878 10-11 cell pool</td><td>release ready</td><td>None</td></tr><tr><td><a href=\"https://www.encodedcc.org/experiments/ENCSR000AJB/\">experiments:ENCSR000AJB/</a></td><td>RNA-seq</td><td>RNA-seq of a single GM12878</td><td>release ready</td><td>None</td></tr><tr><td><a href=\"https://www.encodedcc.org/experiments/ENCSR000AIY/\">experiments:ENCSR000AIY/</a></td><td>RNA-seq</td><td>RNA-seq of a single GM12878 cell</td><td>release ready</td><td>None</td></tr><tr><td><a href=\"https://www.encodedcc.org/experiments/ENCSR000AJA/\">experiments:ENCSR000AJA/</a></td><td>RNA-seq</td><td>RNA-seq of a single GM12878 cell</td><td>release ready</td><td>None</td></tr><tr><td><a href=\"https://www.encodedcc.org/experiments/ENCSR000AJC/\">experiments:ENCSR000AJC/</a></td><td>RNA-seq</td><td>RNA-seq of a single GM12878 cell</td><td>release ready</td><td>None</td></tr><tr><td><a href=\"https://www.encodedcc.org/experiments/ENCSR000AJE/\">experiments:ENCSR000AJE/</a></td><td>RNA-seq</td><td>RNA-seq of a single GM12878 cell</td><td>release ready</td><td>None</td></tr><tr><td><a href=\"https://www.encodedcc.org/experiments/ENCSR000AJF/\">experiments:ENCSR000AJF/</a></td><td>RNA-seq</td><td>RNA-seq of a single GM12878 cell</td><td>release ready</td><td>None</td></tr><tr><td><a href=\"https://www.encodedcc.org/experiments/ENCSR000AJH/\">experiments:ENCSR000AJH/</a></td><td>RNA-seq</td><td>RNA-seq of a single GM12878 cell</td><td>release ready</td><td>None</td></tr><tr><td><a href=\"https://www.encodedcc.org/experiments/ENCSR184CWK/\">experiments:ENCSR184CWK/</a></td><td>RNA-seq</td><td>RNA-seq of a single GM12878 cell</td><td>release ready</td><td>None</td></tr><tr><td><a href=\"https://www.encodedcc.org/experiments/ENCSR625DPZ/\">experiments:ENCSR625DPZ/</a></td><td>RNA-seq</td><td>RNA-seq of a single GM12878 cell</td><td>release ready</td><td>None</td></tr><tr><td><a href=\"https://www.encodedcc.org/experiments/ENCSR767SOH/\">experiments:ENCSR767SOH/</a></td><td>RNA-seq</td><td>RNA-seq of a single GM12878 cell</td><td>release ready</td><td>None</td></tr><tr><td><a href=\"https://www.encodedcc.org/experiments/ENCSR673UIY/\">experiments:ENCSR673UIY/</a></td><td>RNA-seq</td><td>RNA-seq on single cell equivalents of 10 isolated and homogenized GM12878 cells</td><td>release ready</td><td>None</td></tr><tr><td><a href=\"https://www.encodedcc.org/experiments/ENCSR000AEH/\">experiments:ENCSR000AEH/</a></td><td>RNA-seq</td><td>RNA Evaluation Gm12878 Long Poly-A+ RNA-seq from Wold</td><td>submitted</td><td>None</td></tr><tr><td><a href=\"https://www.encodedcc.org/experiments/ENCSR000AEG/\">experiments:ENCSR000AEG/</a></td><td>RNA-seq</td><td>RNA Evaluation Gm12878 Long Total RNA-seq from Wold</td><td>submitted</td><td>None</td></tr><tr><td><a href=\"https://www.encodedcc.org/experiments/ENCSR000AEQ/\">experiments:ENCSR000AEQ/</a></td><td>RNA-seq</td><td>RNA Evaluation K562 Long Poly-A+ RNA-seq from Wold</td><td>submitted</td><td>None</td></tr><tr><td><a href=\"https://www.encodedcc.org/experiments/ENCSR000AEP/\">experiments:ENCSR000AEP/</a></td><td>RNA-seq</td><td>RNA Evaluation K562 Long Total RNA-seq from Wold</td><td>submitted</td><td>None</td></tr></table>"
       ],
       "metadata": {},
       "output_type": "pyout",
       "prompt_number": 13,
       "text": [
        "<rdfmagic.LibRdfResults at 0x7f0809ea37d0>"
       ]
      }
     ],
     "prompt_number": 13
    },
    {
     "cell_type": "code",
     "collapsed": false,
     "input": [
      "%%sparql -m model\n",
      "select ?accession ?description ?alias ?extraction ?lysis ?status\n",
      "where {\n",
      "  ?accession a experiment:experiment ;\n",
      "             rdf:description ?description ;\n",
      "             experiment:assay_term_name ?assay_name ;\n",
      "             experiment:status ?status ;\n",
      "             experiment:replicates ?replicate .\n",
      "   ?replicate replicate:library ?library .\n",
      "   ?library library:aliases ?alias\n",
      "   OPTIONAL { ?library library:extraction_method ?extraction .}\n",
      "   OPTIONAL { ?library library:lysis_method ?lysis . }\n",
      "   filter(regex(?assay_name, \"RNA-seq\", \"i\"))\n",
      "   filter(regex(?description, \"GM12878\", \"i\"))\n",
      "}\n",
      "order by ?status ?description"
     ],
     "language": "python",
     "metadata": {},
     "outputs": [
      {
       "html": [
        "<table><tr><td>accession</td><td>description</td><td>alias</td><td>extraction</td><td>lysis</td><td>status</td></tr><tr><td><a href=\"https://www.encodedcc.org/experiments/ENCSR000AIZ/\">experiments:ENCSR000AIZ/</a></td><td>RNA-seq of a GM12878 30 cell pool</td><td>barbara-wold:12517</td><td>None</td><td>72 degrees for 3 minutes in the presence of Triton</td><td>proposed</td></tr><tr><td><a href=\"https://www.encodedcc.org/experiments/ENCSR000AIZ/\">experiments:ENCSR000AIZ/</a></td><td>RNA-seq of a GM12878 30 cell pool</td><td>barbara-wold:12518</td><td>None</td><td>72 degrees for 3 minutes in the presence of Triton</td><td>proposed</td></tr><tr><td><a href=\"https://www.encodedcc.org/experiments/ENCSR000AJD/\">experiments:ENCSR000AJD/</a></td><td>RNA-seq of GM12878 bulk prep of 10 ngs</td><td>barbara-wold:13274</td><td>see document</td><td>see document</td><td>release ready</td></tr><tr><td><a href=\"https://www.encodedcc.org/experiments/ENCSR000AJD/\">experiments:ENCSR000AJD/</a></td><td>RNA-seq of GM12878 bulk prep of 10 ngs</td><td>barbara-wold:13275</td><td>see document</td><td>see document</td><td>release ready</td></tr><tr><td><a href=\"https://www.encodedcc.org/experiments/ENCSR000AJG/\">experiments:ENCSR000AJG/</a></td><td>RNA-seq of a GM12878 10-11 cell pool</td><td>barbara-wold:13300</td><td>None</td><td>72 degrees for 3 minutes in the presence of Triton</td><td>release ready</td></tr><tr><td><a href=\"https://www.encodedcc.org/experiments/ENCSR000AJG/\">experiments:ENCSR000AJG/</a></td><td>RNA-seq of a GM12878 10-11 cell pool</td><td>barbara-wold:13301</td><td>None</td><td>72 degrees for 3 minutes in the presence of Triton</td><td>release ready</td></tr><tr><td><a href=\"https://www.encodedcc.org/experiments/ENCSR000AJB/\">experiments:ENCSR000AJB/</a></td><td>RNA-seq of a single GM12878</td><td>barbara-wold:13288</td><td>None</td><td>72 degrees for 3 minutes in the presence of Triton</td><td>release ready</td></tr><tr><td><a href=\"https://www.encodedcc.org/experiments/ENCSR000AIY/\">experiments:ENCSR000AIY/</a></td><td>RNA-seq of a single GM12878 cell</td><td>barbara-wold:13285</td><td>None</td><td>72 degrees for 3 minutes in the presence of Triton</td><td>release ready</td></tr><tr><td><a href=\"https://www.encodedcc.org/experiments/ENCSR000AJA/\">experiments:ENCSR000AJA/</a></td><td>RNA-seq of a single GM12878 cell</td><td>barbara-wold:13283</td><td>None</td><td>72 degrees for 3 minutes in the presence of Triton</td><td>release ready</td></tr><tr><td><a href=\"https://www.encodedcc.org/experiments/ENCSR000AJC/\">experiments:ENCSR000AJC/</a></td><td>RNA-seq of a single GM12878 cell</td><td>barbara-wold:13286</td><td>None</td><td>72 degrees for 3 minutes in the presence of Triton</td><td>release ready</td></tr><tr><td><a href=\"https://www.encodedcc.org/experiments/ENCSR000AJE/\">experiments:ENCSR000AJE/</a></td><td>RNA-seq of a single GM12878 cell</td><td>barbara-wold:13282</td><td>None</td><td>72 degrees for 3 minutes in the presence of Triton</td><td>release ready</td></tr><tr><td><a href=\"https://www.encodedcc.org/experiments/ENCSR000AJF/\">experiments:ENCSR000AJF/</a></td><td>RNA-seq of a single GM12878 cell</td><td>barbara-wold:13287</td><td>None</td><td>72 degrees for 3 minutes in the presence of Triton</td><td>release ready</td></tr><tr><td><a href=\"https://www.encodedcc.org/experiments/ENCSR000AJH/\">experiments:ENCSR000AJH/</a></td><td>RNA-seq of a single GM12878 cell</td><td>barbara-wold:13284</td><td>None</td><td>72 degrees for 3 minutes in the presence of Triton</td><td>release ready</td></tr><tr><td><a href=\"https://www.encodedcc.org/experiments/ENCSR184CWK/\">experiments:ENCSR184CWK/</a></td><td>RNA-seq of a single GM12878 cell</td><td>barbara-wold:13289</td><td>None</td><td>72 degrees for 3 minutes in the presence of Triton</td><td>release ready</td></tr><tr><td><a href=\"https://www.encodedcc.org/experiments/ENCSR625DPZ/\">experiments:ENCSR625DPZ/</a></td><td>RNA-seq of a single GM12878 cell</td><td>barbara-wold:13291</td><td>None</td><td>72 degrees for 3 minutes in the presence of Triton</td><td>release ready</td></tr><tr><td><a href=\"https://www.encodedcc.org/experiments/ENCSR767SOH/\">experiments:ENCSR767SOH/</a></td><td>RNA-seq of a single GM12878 cell</td><td>barbara-wold:13290</td><td>None</td><td>72 degrees for 3 minutes in the presence of Triton</td><td>release ready</td></tr><tr><td><a href=\"https://www.encodedcc.org/experiments/ENCSR673UIY/\">experiments:ENCSR673UIY/</a></td><td>RNA-seq on single cell equivalents of 10 isolated and homogenized GM12878 cells</td><td>barbara-wold:13280</td><td>None</td><td>72 degrees for 3 minutes in the presence of Triton</td><td>release ready</td></tr><tr><td><a href=\"https://www.encodedcc.org/experiments/ENCSR673UIY/\">experiments:ENCSR673UIY/</a></td><td>RNA-seq on single cell equivalents of 10 isolated and homogenized GM12878 cells</td><td>barbara-wold:13292</td><td>None</td><td>72 degrees for 3 minutes in the presence of Triton</td><td>release ready</td></tr><tr><td><a href=\"https://www.encodedcc.org/experiments/ENCSR673UIY/\">experiments:ENCSR673UIY/</a></td><td>RNA-seq on single cell equivalents of 10 isolated and homogenized GM12878 cells</td><td>barbara-wold:13297</td><td>None</td><td>72 degrees for 3 minutes in the presence of Triton</td><td>release ready</td></tr><tr><td><a href=\"https://www.encodedcc.org/experiments/ENCSR673UIY/\">experiments:ENCSR673UIY/</a></td><td>RNA-seq on single cell equivalents of 10 isolated and homogenized GM12878 cells</td><td>barbara-wold:13299</td><td>None</td><td>72 degrees for 3 minutes in the presence of Triton</td><td>release ready</td></tr><tr><td><a href=\"https://www.encodedcc.org/experiments/ENCSR673UIY/\">experiments:ENCSR673UIY/</a></td><td>RNA-seq on single cell equivalents of 10 isolated and homogenized GM12878 cells</td><td>barbara-wold:13281</td><td>None</td><td>72 degrees for 3 minutes in the presence of Triton</td><td>release ready</td></tr><tr><td><a href=\"https://www.encodedcc.org/experiments/ENCSR673UIY/\">experiments:ENCSR673UIY/</a></td><td>RNA-seq on single cell equivalents of 10 isolated and homogenized GM12878 cells</td><td>barbara-wold:13296</td><td>None</td><td>72 degrees for 3 minutes in the presence of Triton</td><td>release ready</td></tr><tr><td><a href=\"https://www.encodedcc.org/experiments/ENCSR673UIY/\">experiments:ENCSR673UIY/</a></td><td>RNA-seq on single cell equivalents of 10 isolated and homogenized GM12878 cells</td><td>barbara-wold:13298</td><td>None</td><td>72 degrees for 3 minutes in the presence of Triton</td><td>release ready</td></tr><tr><td><a href=\"https://www.encodedcc.org/experiments/ENCSR673UIY/\">experiments:ENCSR673UIY/</a></td><td>RNA-seq on single cell equivalents of 10 isolated and homogenized GM12878 cells</td><td>barbara-wold:13295</td><td>None</td><td>72 degrees for 3 minutes in the presence of Triton</td><td>release ready</td></tr><tr><td><a href=\"https://www.encodedcc.org/experiments/ENCSR673UIY/\">experiments:ENCSR673UIY/</a></td><td>RNA-seq on single cell equivalents of 10 isolated and homogenized GM12878 cells</td><td>barbara-wold:13294</td><td>None</td><td>72 degrees for 3 minutes in the presence of Triton</td><td>release ready</td></tr></table>"
       ],
       "metadata": {},
       "output_type": "pyout",
       "prompt_number": 14,
       "text": [
        "<rdfmagic.LibRdfResults at 0x7f080a3c7550>"
       ]
      }
     ],
     "prompt_number": 14
    },
    {
     "cell_type": "code",
     "collapsed": false,
     "input": [
      "   filter(regex(?assay_name, \"RNA-seq\", \"i\"))\n",
      "   filter(regex(?description, \"GM12878\", \"i\"))\n"
     ],
     "language": "python",
     "metadata": {},
     "outputs": [
      {
       "ename": "SyntaxError",
       "evalue": "invalid syntax (<ipython-input-15-6991116d36aa>, line 1)",
       "output_type": "pyerr",
       "traceback": [
        "\u001b[0;36m  File \u001b[0;32m\"<ipython-input-15-6991116d36aa>\"\u001b[0;36m, line \u001b[0;32m1\u001b[0m\n\u001b[0;31m    filter(regex(?assay_name, \"RNA-seq\", \"i\"))\u001b[0m\n\u001b[0m                 ^\u001b[0m\n\u001b[0;31mSyntaxError\u001b[0m\u001b[0;31m:\u001b[0m invalid syntax\n"
       ]
      }
     ],
     "prompt_number": 15
    }
   ],
   "metadata": {}
  }
 ]
}