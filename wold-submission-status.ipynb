{
 "metadata": {
  "name": "",
  "signature": "sha256:5c90e91ac5e3b1ea4634857a860c7dc1eaadeed5b1431054b2fd0f5947645b98"
 },
 "nbformat": 3,
 "nbformat_minor": 0,
 "worksheets": [
  {
   "cells": [
    {
     "cell_type": "markdown",
     "metadata": {},
     "source": [
      "Whats' released?"
     ]
    },
    {
     "cell_type": "heading",
     "level": 1,
     "metadata": {},
     "source": [
      "Setup"
     ]
    },
    {
     "cell_type": "code",
     "collapsed": false,
     "input": [
      "from __future__ import print_function"
     ],
     "language": "python",
     "metadata": {},
     "outputs": [],
     "prompt_number": 1
    },
    {
     "cell_type": "code",
     "collapsed": false,
     "input": [
      "import sys\n",
      "import os\n",
      "\n",
      "import RDF"
     ],
     "language": "python",
     "metadata": {},
     "outputs": [],
     "prompt_number": 2
    },
    {
     "cell_type": "code",
     "collapsed": false,
     "input": [
      "def custom():\n",
      "    htsw_path = os.path.expanduser('~/proj/solexa/htsworkflow')\n",
      "    if htsw_path not in sys.path:\n",
      "        sys.path.append(htsw_path)\n",
      "custom()"
     ],
     "language": "python",
     "metadata": {},
     "outputs": [],
     "prompt_number": 3
    },
    {
     "cell_type": "code",
     "collapsed": false,
     "input": [
      "from htsworkflow.submission.encoded import ENCODED\n",
      "from htsworkflow.util.rdfhelp import get_model, dump_model\n",
      "from htsworkflow.util.rdfjsonld import load_into_model"
     ],
     "language": "python",
     "metadata": {},
     "outputs": [],
     "prompt_number": 4
    },
    {
     "cell_type": "code",
     "collapsed": false,
     "input": [
      "%load_ext rdfmagic"
     ],
     "language": "python",
     "metadata": {},
     "outputs": [],
     "prompt_number": 5
    },
    {
     "cell_type": "code",
     "collapsed": false,
     "input": [
      "%addns htsw http://jumpgate.caltech.edu/wiki/LibraryOntology#\n",
      "%addns library http://jumpgate.caltech.edu/library/\n",
      "%addns flowcell http://jumpgate.caltech.edu/flowcell/\n",
      "    \n",
      "%addns biosample https://www.encodedcc.org/profiles/biosample.json#\n",
      "%addns experiment https://www.encodedcc.org/profiles/experiment.json#\n",
      "%addns library https://www.encodedcc.org/profiles/library.json#\n",
      "%addns platform https://www.encodedcc.org/profiles/platform.json#\n",
      "%addns replicate https://www.encodedcc.org/profiles/replicate.json#    \n",
      "\n",
      "%addns experiments https://www.encodedcc.org/experiments/\n",
      "%addns libraries https://www.encodedcc.org/libraries/"
     ],
     "language": "python",
     "metadata": {},
     "outputs": [],
     "prompt_number": 21
    },
    {
     "cell_type": "code",
     "collapsed": false,
     "input": [
      "server = ENCODED('www.encodedcc.org')\n",
      "server.load_netrc()"
     ],
     "language": "python",
     "metadata": {},
     "outputs": [],
     "prompt_number": 7
    },
    {
     "cell_type": "code",
     "collapsed": false,
     "input": [
      "model = get_model()"
     ],
     "language": "python",
     "metadata": {},
     "outputs": [],
     "prompt_number": 8
    },
    {
     "cell_type": "heading",
     "level": 1,
     "metadata": {},
     "source": [
      "Load status from DCC"
     ]
    },
    {
     "cell_type": "code",
     "collapsed": false,
     "input": [
      "search_query = 'https://www.encodedcc.org/search/?type=experiment&lab.title=Barbara+Wold%2C+Caltech&award.rfa=ENCODE3'\n",
      "experiments = server.get_json(search_query)\n",
      "_ = server.convert_search_to_jsonld(experiments)"
     ],
     "language": "python",
     "metadata": {},
     "outputs": [],
     "prompt_number": 9
    },
    {
     "cell_type": "code",
     "collapsed": false,
     "input": [
      "load_into_model(model, experiments)"
     ],
     "language": "python",
     "metadata": {},
     "outputs": [],
     "prompt_number": 10
    },
    {
     "cell_type": "code",
     "collapsed": false,
     "input": [
      "%%sparql -m model -o experiments\n",
      "select ?s\n",
      "where {\n",
      "   ?s a experiment:experiment.\n",
      "}"
     ],
     "language": "python",
     "metadata": {},
     "outputs": [],
     "prompt_number": 11
    },
    {
     "cell_type": "code",
     "collapsed": false,
     "input": [
      "for row in experiments:\n",
      "    url = str(row['s'])\n",
      "    load_into_model(model, server.get_jsonld(url))"
     ],
     "language": "python",
     "metadata": {},
     "outputs": [],
     "prompt_number": 12
    },
    {
     "cell_type": "heading",
     "level": 1,
     "metadata": {},
     "source": [
      "Current ENCODE3 Experiment Status"
     ]
    },
    {
     "cell_type": "code",
     "collapsed": false,
     "input": [
      "%%sparql -m model -c\n",
      "select ?accession ?assay_name ?description ?status ?release\n",
      "where {\n",
      "  ?accession a experiment:experiment ;\n",
      "             rdf:description ?description ;\n",
      "             experiment:assay_term_name ?assay_name ;\n",
      "             experiment:status ?status .\n",
      "  OPTIONAL { ?accession experiment:date_released ?release .}\n",
      "}\n",
      "order by ?status ?description"
     ],
     "language": "python",
     "metadata": {},
     "outputs": [
      {
       "output_type": "stream",
       "stream": "stdout",
       "text": [
        "Found 45 rows.\n"
       ]
      },
      {
       "html": [
        "<table><tr><td>accession</td><td>assay_name</td><td>description</td><td>status</td><td>release</td></tr><tr><td><a href=\"https://www.encodedcc.org/experiments/ENCSR086PHI/\">experiments:ENCSR086PHI/</a></td><td>RNA-seq</td><td>RNA-seq of a single Purkinje cell from a 20 year old human male</td><td>in progress</td><td>None</td></tr><tr><td><a href=\"https://www.encodedcc.org/experiments/ENCSR101GVL/\">experiments:ENCSR101GVL/</a></td><td>RNA-seq</td><td>RNA-seq of a single Purkinje cell from a 20 year old human male</td><td>in progress</td><td>None</td></tr><tr><td><a href=\"https://www.encodedcc.org/experiments/ENCSR124ERY/\">experiments:ENCSR124ERY/</a></td><td>RNA-seq</td><td>RNA-seq of a single Purkinje cell from a 20 year old human male</td><td>in progress</td><td>None</td></tr><tr><td><a href=\"https://www.encodedcc.org/experiments/ENCSR231WUP/\">experiments:ENCSR231WUP/</a></td><td>RNA-seq</td><td>RNA-seq of a single Purkinje cell from a 20 year old human male</td><td>in progress</td><td>None</td></tr><tr><td><a href=\"https://www.encodedcc.org/experiments/ENCSR244DNF/\">experiments:ENCSR244DNF/</a></td><td>RNA-seq</td><td>RNA-seq of a single Purkinje cell from a 20 year old human male</td><td>in progress</td><td>None</td></tr><tr><td><a href=\"https://www.encodedcc.org/experiments/ENCSR366QZI/\">experiments:ENCSR366QZI/</a></td><td>RNA-seq</td><td>RNA-seq of a single Purkinje cell from a 20 year old human male</td><td>in progress</td><td>None</td></tr><tr><td><a href=\"https://www.encodedcc.org/experiments/ENCSR376KFF/\">experiments:ENCSR376KFF/</a></td><td>RNA-seq</td><td>RNA-seq of a single Purkinje cell from a 20 year old human male</td><td>in progress</td><td>None</td></tr><tr><td><a href=\"https://www.encodedcc.org/experiments/ENCSR417EDR/\">experiments:ENCSR417EDR/</a></td><td>RNA-seq</td><td>RNA-seq of a single Purkinje cell from a 20 year old human male</td><td>in progress</td><td>None</td></tr><tr><td><a href=\"https://www.encodedcc.org/experiments/ENCSR435ROA/\">experiments:ENCSR435ROA/</a></td><td>RNA-seq</td><td>RNA-seq of a single Purkinje cell from a 20 year old human male</td><td>in progress</td><td>None</td></tr><tr><td><a href=\"https://www.encodedcc.org/experiments/ENCSR558LHB/\">experiments:ENCSR558LHB/</a></td><td>RNA-seq</td><td>RNA-seq of a single Purkinje cell from a 20 year old human male</td><td>in progress</td><td>None</td></tr><tr><td><a href=\"https://www.encodedcc.org/experiments/ENCSR561KFF/\">experiments:ENCSR561KFF/</a></td><td>RNA-seq</td><td>RNA-seq of a single Purkinje cell from a 20 year old human male</td><td>in progress</td><td>None</td></tr><tr><td><a href=\"https://www.encodedcc.org/experiments/ENCSR610BAM/\">experiments:ENCSR610BAM/</a></td><td>RNA-seq</td><td>RNA-seq of a single Purkinje cell from a 20 year old human male</td><td>in progress</td><td>None</td></tr><tr><td><a href=\"https://www.encodedcc.org/experiments/ENCSR659QHV/\">experiments:ENCSR659QHV/</a></td><td>RNA-seq</td><td>RNA-seq of a single Purkinje cell from a 20 year old human male</td><td>in progress</td><td>None</td></tr><tr><td><a href=\"https://www.encodedcc.org/experiments/ENCSR672QFA/\">experiments:ENCSR672QFA/</a></td><td>RNA-seq</td><td>RNA-seq of a single Purkinje cell from a 20 year old human male</td><td>in progress</td><td>None</td></tr><tr><td><a href=\"https://www.encodedcc.org/experiments/ENCSR724XFQ/\">experiments:ENCSR724XFQ/</a></td><td>RNA-seq</td><td>RNA-seq of a single Purkinje cell from a 20 year old human male</td><td>in progress</td><td>None</td></tr><tr><td><a href=\"https://www.encodedcc.org/experiments/ENCSR729ENB/\">experiments:ENCSR729ENB/</a></td><td>RNA-seq</td><td>RNA-seq of a single Purkinje cell from a 20 year old human male</td><td>in progress</td><td>None</td></tr><tr><td><a href=\"https://www.encodedcc.org/experiments/ENCSR828FPS/\">experiments:ENCSR828FPS/</a></td><td>RNA-seq</td><td>RNA-seq of a single Purkinje cell from a 20 year old human male</td><td>in progress</td><td>None</td></tr><tr><td><a href=\"https://www.encodedcc.org/experiments/ENCSR905FLM/\">experiments:ENCSR905FLM/</a></td><td>RNA-seq</td><td>RNA-seq of a single Purkinje cell from a 20 year old human male</td><td>in progress</td><td>None</td></tr><tr><td><a href=\"https://www.encodedcc.org/experiments/ENCSR921DSM/\">experiments:ENCSR921DSM/</a></td><td>RNA-seq</td><td>RNA-seq of a single Purkinje cell from a 20 year old human male</td><td>in progress</td><td>None</td></tr><tr><td><a href=\"https://www.encodedcc.org/experiments/ENCSR927DHK/\">experiments:ENCSR927DHK/</a></td><td>RNA-seq</td><td>RNA-seq of a single Purkinje cell from a 20 year old human male</td><td>in progress</td><td>None</td></tr><tr><td><a href=\"https://www.encodedcc.org/experiments/ENCSR157NLF/\">experiments:ENCSR157NLF/</a></td><td>RNA-seq</td><td>RNA-seq on 30 cell pools of excised Purkinje cells from a 20 year old human male</td><td>in progress</td><td>None</td></tr><tr><td><a href=\"https://www.encodedcc.org/experiments/ENCSR900JSG/\">experiments:ENCSR900JSG/</a></td><td>RNA-seq</td><td>RNA-seq on 30 cell pools of excised Purkinje cells from a 6 year old human male</td><td>in progress</td><td>None</td></tr><tr><td><a href=\"https://www.encodedcc.org/experiments/ENCSR423XRG/\">experiments:ENCSR423XRG/</a></td><td>RNA-seq</td><td>RNA-seq on 30 cell pools of excised pyramidal cells from a 20 year old human male</td><td>in progress</td><td>None</td></tr><tr><td><a href=\"https://www.encodedcc.org/experiments/ENCSR137RHZ/\">experiments:ENCSR137RHZ/</a></td><td>RNA-seq</td><td>RNA-seq on 30 cell pools of excised pyramidal cells from a 27 year old human male</td><td>in progress</td><td>None</td></tr><tr><td><a href=\"https://www.encodedcc.org/experiments/ENCSR415JJO/\">experiments:ENCSR415JJO/</a></td><td>RNA-seq</td><td>RNA-seq on excised cerebellar granule cells from a 20 year old human male</td><td>in progress</td><td>None</td></tr><tr><td><a href=\"https://www.encodedcc.org/experiments/ENCSR313IUO/\">experiments:ENCSR313IUO/</a></td><td>RNA-seq</td><td>RNA-seq on excised cerebellar granule cells from a 6 year old human male</td><td>in progress</td><td>None</td></tr><tr><td><a href=\"https://www.encodedcc.org/experiments/ENCSR888LYA/\">experiments:ENCSR888LYA/</a></td><td>RNA-seq</td><td>RNA-seq on single cell equivalents of 20 excised and homogenized Purkinje cells from a 20 year old human male</td><td>in progress</td><td>None</td></tr><tr><td><a href=\"https://www.encodedcc.org/experiments/ENCSR000AIZ/\">experiments:ENCSR000AIZ/</a></td><td>RNA-seq</td><td>RNA-seq of a GM12878 30 cell pool</td><td>proposed</td><td>None</td></tr><tr><td><a href=\"https://www.encodedcc.org/experiments/ENCSR000AJD/\">experiments:ENCSR000AJD/</a></td><td>RNA-seq</td><td>RNA-seq of GM12878 bulk prep of 10 ngs</td><td>release ready</td><td>None</td></tr><tr><td><a href=\"https://www.encodedcc.org/experiments/ENCSR000AJG/\">experiments:ENCSR000AJG/</a></td><td>RNA-seq</td><td>RNA-seq of a GM12878 10-11 cell pool</td><td>release ready</td><td>None</td></tr><tr><td><a href=\"https://www.encodedcc.org/experiments/ENCSR000AJB/\">experiments:ENCSR000AJB/</a></td><td>RNA-seq</td><td>RNA-seq of a single GM12878</td><td>release ready</td><td>None</td></tr><tr><td><a href=\"https://www.encodedcc.org/experiments/ENCSR000AIY/\">experiments:ENCSR000AIY/</a></td><td>RNA-seq</td><td>RNA-seq of a single GM12878 cell</td><td>release ready</td><td>None</td></tr><tr><td><a href=\"https://www.encodedcc.org/experiments/ENCSR000AJA/\">experiments:ENCSR000AJA/</a></td><td>RNA-seq</td><td>RNA-seq of a single GM12878 cell</td><td>release ready</td><td>None</td></tr><tr><td><a href=\"https://www.encodedcc.org/experiments/ENCSR000AJC/\">experiments:ENCSR000AJC/</a></td><td>RNA-seq</td><td>RNA-seq of a single GM12878 cell</td><td>release ready</td><td>None</td></tr><tr><td><a href=\"https://www.encodedcc.org/experiments/ENCSR000AJE/\">experiments:ENCSR000AJE/</a></td><td>RNA-seq</td><td>RNA-seq of a single GM12878 cell</td><td>release ready</td><td>None</td></tr><tr><td><a href=\"https://www.encodedcc.org/experiments/ENCSR000AJF/\">experiments:ENCSR000AJF/</a></td><td>RNA-seq</td><td>RNA-seq of a single GM12878 cell</td><td>release ready</td><td>None</td></tr><tr><td><a href=\"https://www.encodedcc.org/experiments/ENCSR000AJH/\">experiments:ENCSR000AJH/</a></td><td>RNA-seq</td><td>RNA-seq of a single GM12878 cell</td><td>release ready</td><td>None</td></tr><tr><td><a href=\"https://www.encodedcc.org/experiments/ENCSR184CWK/\">experiments:ENCSR184CWK/</a></td><td>RNA-seq</td><td>RNA-seq of a single GM12878 cell</td><td>release ready</td><td>None</td></tr><tr><td><a href=\"https://www.encodedcc.org/experiments/ENCSR625DPZ/\">experiments:ENCSR625DPZ/</a></td><td>RNA-seq</td><td>RNA-seq of a single GM12878 cell</td><td>release ready</td><td>None</td></tr><tr><td><a href=\"https://www.encodedcc.org/experiments/ENCSR767SOH/\">experiments:ENCSR767SOH/</a></td><td>RNA-seq</td><td>RNA-seq of a single GM12878 cell</td><td>release ready</td><td>None</td></tr><tr><td><a href=\"https://www.encodedcc.org/experiments/ENCSR673UIY/\">experiments:ENCSR673UIY/</a></td><td>RNA-seq</td><td>RNA-seq on single cell equivalents of 10 isolated and homogenized GM12878 cells</td><td>release ready</td><td>None</td></tr><tr><td><a href=\"https://www.encodedcc.org/experiments/ENCSR000AEH/\">experiments:ENCSR000AEH/</a></td><td>RNA-seq</td><td>RNA Evaluation Gm12878 Long Poly-A+ RNA-seq from Wold</td><td>submitted</td><td>None</td></tr><tr><td><a href=\"https://www.encodedcc.org/experiments/ENCSR000AEG/\">experiments:ENCSR000AEG/</a></td><td>RNA-seq</td><td>RNA Evaluation Gm12878 Long Total RNA-seq from Wold</td><td>submitted</td><td>None</td></tr><tr><td><a href=\"https://www.encodedcc.org/experiments/ENCSR000AEQ/\">experiments:ENCSR000AEQ/</a></td><td>RNA-seq</td><td>RNA Evaluation K562 Long Poly-A+ RNA-seq from Wold</td><td>submitted</td><td>None</td></tr><tr><td><a href=\"https://www.encodedcc.org/experiments/ENCSR000AEP/\">experiments:ENCSR000AEP/</a></td><td>RNA-seq</td><td>RNA Evaluation K562 Long Total RNA-seq from Wold</td><td>submitted</td><td>None</td></tr></table>"
       ],
       "metadata": {},
       "output_type": "pyout",
       "prompt_number": 19,
       "text": [
        "<rdfmagic.LibRdfResults at 0x7f0f180e5450>"
       ]
      }
     ],
     "prompt_number": 19
    },
    {
     "cell_type": "heading",
     "level": 1,
     "metadata": {},
     "source": [
      "Current Encode3 Library status"
     ]
    },
    {
     "cell_type": "code",
     "collapsed": false,
     "input": [
      "%%sparql -m model -c\n",
      "select ?experiment ?library ?description ?alias ?status\n",
      "where {\n",
      "  ?experiment a experiment:experiment ;\n",
      "             rdf:description ?description ;\n",
      "             experiment:status ?status ;\n",
      "             experiment:replicates ?replicate .\n",
      "   ?replicate replicate:library ?library .\n",
      "   OPTIONAL { ?library library:aliases ?alias . }\n",
      "}\n",
      "order by ?status ?description ?experiment"
     ],
     "language": "python",
     "metadata": {},
     "outputs": [
      {
       "output_type": "stream",
       "stream": "stdout",
       "text": [
        "Found 85 rows.\n"
       ]
      },
      {
       "html": [
        "<table><tr><td>experiment</td><td>library</td><td>description</td><td>alias</td><td>status</td></tr><tr><td><a href=\"https://www.encodedcc.org/experiments/ENCSR086PHI/\">experiments:ENCSR086PHI/</a></td><td><a href=\"https://www.encodedcc.org/libraries/ENCLB641KNK/\">libraries:ENCLB641KNK/</a></td><td>RNA-seq of a single Purkinje cell from a 20 year old human male</td><td>barbara-wold:13628</td><td>in progress</td></tr><tr><td><a href=\"https://www.encodedcc.org/experiments/ENCSR101GVL/\">experiments:ENCSR101GVL/</a></td><td><a href=\"https://www.encodedcc.org/libraries/ENCLB552DLJ/\">libraries:ENCLB552DLJ/</a></td><td>RNA-seq of a single Purkinje cell from a 20 year old human male</td><td>barbara-wold:13642</td><td>in progress</td></tr><tr><td><a href=\"https://www.encodedcc.org/experiments/ENCSR124ERY/\">experiments:ENCSR124ERY/</a></td><td><a href=\"https://www.encodedcc.org/libraries/ENCLB218HBM/\">libraries:ENCLB218HBM/</a></td><td>RNA-seq of a single Purkinje cell from a 20 year old human male</td><td>barbara-wold:13639</td><td>in progress</td></tr><tr><td><a href=\"https://www.encodedcc.org/experiments/ENCSR231WUP/\">experiments:ENCSR231WUP/</a></td><td><a href=\"https://www.encodedcc.org/libraries/ENCLB710XHU/\">libraries:ENCLB710XHU/</a></td><td>RNA-seq of a single Purkinje cell from a 20 year old human male</td><td>barbara-wold:13633</td><td>in progress</td></tr><tr><td><a href=\"https://www.encodedcc.org/experiments/ENCSR244DNF/\">experiments:ENCSR244DNF/</a></td><td><a href=\"https://www.encodedcc.org/libraries/ENCLB619TYA/\">libraries:ENCLB619TYA/</a></td><td>RNA-seq of a single Purkinje cell from a 20 year old human male</td><td>barbara-wold:13636</td><td>in progress</td></tr><tr><td><a href=\"https://www.encodedcc.org/experiments/ENCSR366QZI/\">experiments:ENCSR366QZI/</a></td><td><a href=\"https://www.encodedcc.org/libraries/ENCLB350NUB/\">libraries:ENCLB350NUB/</a></td><td>RNA-seq of a single Purkinje cell from a 20 year old human male</td><td>barbara-wold:13637</td><td>in progress</td></tr><tr><td><a href=\"https://www.encodedcc.org/experiments/ENCSR376KFF/\">experiments:ENCSR376KFF/</a></td><td><a href=\"https://www.encodedcc.org/libraries/ENCLB327MTR/\">libraries:ENCLB327MTR/</a></td><td>RNA-seq of a single Purkinje cell from a 20 year old human male</td><td>barbara-wold:13626</td><td>in progress</td></tr><tr><td><a href=\"https://www.encodedcc.org/experiments/ENCSR417EDR/\">experiments:ENCSR417EDR/</a></td><td><a href=\"https://www.encodedcc.org/libraries/ENCLB632SOL/\">libraries:ENCLB632SOL/</a></td><td>RNA-seq of a single Purkinje cell from a 20 year old human male</td><td>barbara-wold:13644</td><td>in progress</td></tr><tr><td><a href=\"https://www.encodedcc.org/experiments/ENCSR435ROA/\">experiments:ENCSR435ROA/</a></td><td><a href=\"https://www.encodedcc.org/libraries/ENCLB211OUD/\">libraries:ENCLB211OUD/</a></td><td>RNA-seq of a single Purkinje cell from a 20 year old human male</td><td>barbara-wold:13634</td><td>in progress</td></tr><tr><td><a href=\"https://www.encodedcc.org/experiments/ENCSR558LHB/\">experiments:ENCSR558LHB/</a></td><td><a href=\"https://www.encodedcc.org/libraries/ENCLB331AUZ/\">libraries:ENCLB331AUZ/</a></td><td>RNA-seq of a single Purkinje cell from a 20 year old human male</td><td>barbara-wold:13625</td><td>in progress</td></tr><tr><td><a href=\"https://www.encodedcc.org/experiments/ENCSR561KFF/\">experiments:ENCSR561KFF/</a></td><td><a href=\"https://www.encodedcc.org/libraries/ENCLB228BIT/\">libraries:ENCLB228BIT/</a></td><td>RNA-seq of a single Purkinje cell from a 20 year old human male</td><td>barbara-wold:13627</td><td>in progress</td></tr><tr><td><a href=\"https://www.encodedcc.org/experiments/ENCSR610BAM/\">experiments:ENCSR610BAM/</a></td><td><a href=\"https://www.encodedcc.org/libraries/ENCLB617JJG/\">libraries:ENCLB617JJG/</a></td><td>RNA-seq of a single Purkinje cell from a 20 year old human male</td><td>barbara-wold:13640</td><td>in progress</td></tr><tr><td><a href=\"https://www.encodedcc.org/experiments/ENCSR659QHV/\">experiments:ENCSR659QHV/</a></td><td><a href=\"https://www.encodedcc.org/libraries/ENCLB257OVB/\">libraries:ENCLB257OVB/</a></td><td>RNA-seq of a single Purkinje cell from a 20 year old human male</td><td>barbara-wold:13638</td><td>in progress</td></tr><tr><td><a href=\"https://www.encodedcc.org/experiments/ENCSR672QFA/\">experiments:ENCSR672QFA/</a></td><td><a href=\"https://www.encodedcc.org/libraries/ENCLB509KSM/\">libraries:ENCLB509KSM/</a></td><td>RNA-seq of a single Purkinje cell from a 20 year old human male</td><td>barbara-wold:13643</td><td>in progress</td></tr><tr><td><a href=\"https://www.encodedcc.org/experiments/ENCSR724XFQ/\">experiments:ENCSR724XFQ/</a></td><td><a href=\"https://www.encodedcc.org/libraries/ENCLB804XKW/\">libraries:ENCLB804XKW/</a></td><td>RNA-seq of a single Purkinje cell from a 20 year old human male</td><td>barbara-wold:13630</td><td>in progress</td></tr><tr><td><a href=\"https://www.encodedcc.org/experiments/ENCSR729ENB/\">experiments:ENCSR729ENB/</a></td><td><a href=\"https://www.encodedcc.org/libraries/ENCLB087SVF/\">libraries:ENCLB087SVF/</a></td><td>RNA-seq of a single Purkinje cell from a 20 year old human male</td><td>barbara-wold:13631</td><td>in progress</td></tr><tr><td><a href=\"https://www.encodedcc.org/experiments/ENCSR828FPS/\">experiments:ENCSR828FPS/</a></td><td><a href=\"https://www.encodedcc.org/libraries/ENCLB747ZHK/\">libraries:ENCLB747ZHK/</a></td><td>RNA-seq of a single Purkinje cell from a 20 year old human male</td><td>barbara-wold:13632</td><td>in progress</td></tr><tr><td><a href=\"https://www.encodedcc.org/experiments/ENCSR905FLM/\">experiments:ENCSR905FLM/</a></td><td><a href=\"https://www.encodedcc.org/libraries/ENCLB876ZIU/\">libraries:ENCLB876ZIU/</a></td><td>RNA-seq of a single Purkinje cell from a 20 year old human male</td><td>barbara-wold:13641</td><td>in progress</td></tr><tr><td><a href=\"https://www.encodedcc.org/experiments/ENCSR921DSM/\">experiments:ENCSR921DSM/</a></td><td><a href=\"https://www.encodedcc.org/libraries/ENCLB403JBC/\">libraries:ENCLB403JBC/</a></td><td>RNA-seq of a single Purkinje cell from a 20 year old human male</td><td>barbara-wold:13629</td><td>in progress</td></tr><tr><td><a href=\"https://www.encodedcc.org/experiments/ENCSR927DHK/\">experiments:ENCSR927DHK/</a></td><td><a href=\"https://www.encodedcc.org/libraries/ENCLB222MSP/\">libraries:ENCLB222MSP/</a></td><td>RNA-seq of a single Purkinje cell from a 20 year old human male</td><td>barbara-wold:13635</td><td>in progress</td></tr><tr><td><a href=\"https://www.encodedcc.org/experiments/ENCSR157NLF/\">experiments:ENCSR157NLF/</a></td><td><a href=\"https://www.encodedcc.org/libraries/ENCLB915IHV/\">libraries:ENCLB915IHV/</a></td><td>RNA-seq on 30 cell pools of excised Purkinje cells from a 20 year old human male</td><td>barbara-wold:13665</td><td>in progress</td></tr><tr><td><a href=\"https://www.encodedcc.org/experiments/ENCSR157NLF/\">experiments:ENCSR157NLF/</a></td><td><a href=\"https://www.encodedcc.org/libraries/ENCLB204VYG/\">libraries:ENCLB204VYG/</a></td><td>RNA-seq on 30 cell pools of excised Purkinje cells from a 20 year old human male</td><td>barbara-wold:13666</td><td>in progress</td></tr><tr><td><a href=\"https://www.encodedcc.org/experiments/ENCSR900JSG/\">experiments:ENCSR900JSG/</a></td><td><a href=\"https://www.encodedcc.org/libraries/ENCLB901PGF/\">libraries:ENCLB901PGF/</a></td><td>RNA-seq on 30 cell pools of excised Purkinje cells from a 6 year old human male</td><td>barbara-wold:13619</td><td>in progress</td></tr><tr><td><a href=\"https://www.encodedcc.org/experiments/ENCSR900JSG/\">experiments:ENCSR900JSG/</a></td><td><a href=\"https://www.encodedcc.org/libraries/ENCLB426EUN/\">libraries:ENCLB426EUN/</a></td><td>RNA-seq on 30 cell pools of excised Purkinje cells from a 6 year old human male</td><td>barbara-wold:13622</td><td>in progress</td></tr><tr><td><a href=\"https://www.encodedcc.org/experiments/ENCSR423XRG/\">experiments:ENCSR423XRG/</a></td><td><a href=\"https://www.encodedcc.org/libraries/ENCLB164LQL/\">libraries:ENCLB164LQL/</a></td><td>RNA-seq on 30 cell pools of excised pyramidal cells from a 20 year old human male</td><td>barbara-wold:13262</td><td>in progress</td></tr><tr><td><a href=\"https://www.encodedcc.org/experiments/ENCSR423XRG/\">experiments:ENCSR423XRG/</a></td><td><a href=\"https://www.encodedcc.org/libraries/ENCLB621DLJ/\">libraries:ENCLB621DLJ/</a></td><td>RNA-seq on 30 cell pools of excised pyramidal cells from a 20 year old human male</td><td>barbara-wold:13263</td><td>in progress</td></tr><tr><td><a href=\"https://www.encodedcc.org/experiments/ENCSR137RHZ/\">experiments:ENCSR137RHZ/</a></td><td><a href=\"https://www.encodedcc.org/libraries/ENCLB928LID/\">libraries:ENCLB928LID/</a></td><td>RNA-seq on 30 cell pools of excised pyramidal cells from a 27 year old human male</td><td>barbara-wold:13347</td><td>in progress</td></tr><tr><td><a href=\"https://www.encodedcc.org/experiments/ENCSR137RHZ/\">experiments:ENCSR137RHZ/</a></td><td><a href=\"https://www.encodedcc.org/libraries/ENCLB532KHK/\">libraries:ENCLB532KHK/</a></td><td>RNA-seq on 30 cell pools of excised pyramidal cells from a 27 year old human male</td><td>barbara-wold:13349</td><td>in progress</td></tr><tr><td><a href=\"https://www.encodedcc.org/experiments/ENCSR415JJO/\">experiments:ENCSR415JJO/</a></td><td><a href=\"https://www.encodedcc.org/libraries/ENCLB976CMA/\">libraries:ENCLB976CMA/</a></td><td>RNA-seq on excised cerebellar granule cells from a 20 year old human male</td><td>barbara-wold:13025</td><td>in progress</td></tr><tr><td><a href=\"https://www.encodedcc.org/experiments/ENCSR415JJO/\">experiments:ENCSR415JJO/</a></td><td><a href=\"https://www.encodedcc.org/libraries/ENCLB386HBI/\">libraries:ENCLB386HBI/</a></td><td>RNA-seq on excised cerebellar granule cells from a 20 year old human male</td><td>barbara-wold:13024</td><td>in progress</td></tr><tr><td><a href=\"https://www.encodedcc.org/experiments/ENCSR313IUO/\">experiments:ENCSR313IUO/</a></td><td><a href=\"https://www.encodedcc.org/libraries/ENCLB036TZY/\">libraries:ENCLB036TZY/</a></td><td>RNA-seq on excised cerebellar granule cells from a 6 year old human male</td><td>barbara-wold:13623</td><td>in progress</td></tr><tr><td><a href=\"https://www.encodedcc.org/experiments/ENCSR313IUO/\">experiments:ENCSR313IUO/</a></td><td><a href=\"https://www.encodedcc.org/libraries/ENCLB392ZIG/\">libraries:ENCLB392ZIG/</a></td><td>RNA-seq on excised cerebellar granule cells from a 6 year old human male</td><td>barbara-wold:13620</td><td>in progress</td></tr><tr><td><a href=\"https://www.encodedcc.org/experiments/ENCSR888LYA/\">experiments:ENCSR888LYA/</a></td><td><a href=\"https://www.encodedcc.org/libraries/ENCLB678KFT/\">libraries:ENCLB678KFT/</a></td><td>RNA-seq on single cell equivalents of 20 excised and homogenized Purkinje cells from a 20 year old human male</td><td>barbara-wold:13645</td><td>in progress</td></tr><tr><td><a href=\"https://www.encodedcc.org/experiments/ENCSR888LYA/\">experiments:ENCSR888LYA/</a></td><td><a href=\"https://www.encodedcc.org/libraries/ENCLB147KNI/\">libraries:ENCLB147KNI/</a></td><td>RNA-seq on single cell equivalents of 20 excised and homogenized Purkinje cells from a 20 year old human male</td><td>barbara-wold:13658</td><td>in progress</td></tr><tr><td><a href=\"https://www.encodedcc.org/experiments/ENCSR888LYA/\">experiments:ENCSR888LYA/</a></td><td><a href=\"https://www.encodedcc.org/libraries/ENCLB857XKO/\">libraries:ENCLB857XKO/</a></td><td>RNA-seq on single cell equivalents of 20 excised and homogenized Purkinje cells from a 20 year old human male</td><td>barbara-wold:13660</td><td>in progress</td></tr><tr><td><a href=\"https://www.encodedcc.org/experiments/ENCSR888LYA/\">experiments:ENCSR888LYA/</a></td><td><a href=\"https://www.encodedcc.org/libraries/ENCLB229ENW/\">libraries:ENCLB229ENW/</a></td><td>RNA-seq on single cell equivalents of 20 excised and homogenized Purkinje cells from a 20 year old human male</td><td>barbara-wold:13663</td><td>in progress</td></tr><tr><td><a href=\"https://www.encodedcc.org/experiments/ENCSR888LYA/\">experiments:ENCSR888LYA/</a></td><td><a href=\"https://www.encodedcc.org/libraries/ENCLB294BYK/\">libraries:ENCLB294BYK/</a></td><td>RNA-seq on single cell equivalents of 20 excised and homogenized Purkinje cells from a 20 year old human male</td><td>barbara-wold:13652</td><td>in progress</td></tr><tr><td><a href=\"https://www.encodedcc.org/experiments/ENCSR888LYA/\">experiments:ENCSR888LYA/</a></td><td><a href=\"https://www.encodedcc.org/libraries/ENCLB614VPZ/\">libraries:ENCLB614VPZ/</a></td><td>RNA-seq on single cell equivalents of 20 excised and homogenized Purkinje cells from a 20 year old human male</td><td>barbara-wold:13654</td><td>in progress</td></tr><tr><td><a href=\"https://www.encodedcc.org/experiments/ENCSR888LYA/\">experiments:ENCSR888LYA/</a></td><td><a href=\"https://www.encodedcc.org/libraries/ENCLB462FVS/\">libraries:ENCLB462FVS/</a></td><td>RNA-seq on single cell equivalents of 20 excised and homogenized Purkinje cells from a 20 year old human male</td><td>barbara-wold:13656</td><td>in progress</td></tr><tr><td><a href=\"https://www.encodedcc.org/experiments/ENCSR888LYA/\">experiments:ENCSR888LYA/</a></td><td><a href=\"https://www.encodedcc.org/libraries/ENCLB904FTO/\">libraries:ENCLB904FTO/</a></td><td>RNA-seq on single cell equivalents of 20 excised and homogenized Purkinje cells from a 20 year old human male</td><td>barbara-wold:13659</td><td>in progress</td></tr><tr><td><a href=\"https://www.encodedcc.org/experiments/ENCSR888LYA/\">experiments:ENCSR888LYA/</a></td><td><a href=\"https://www.encodedcc.org/libraries/ENCLB632CVX/\">libraries:ENCLB632CVX/</a></td><td>RNA-seq on single cell equivalents of 20 excised and homogenized Purkinje cells from a 20 year old human male</td><td>barbara-wold:13662</td><td>in progress</td></tr><tr><td><a href=\"https://www.encodedcc.org/experiments/ENCSR888LYA/\">experiments:ENCSR888LYA/</a></td><td><a href=\"https://www.encodedcc.org/libraries/ENCLB912XSU/\">libraries:ENCLB912XSU/</a></td><td>RNA-seq on single cell equivalents of 20 excised and homogenized Purkinje cells from a 20 year old human male</td><td>barbara-wold:13664</td><td>in progress</td></tr><tr><td><a href=\"https://www.encodedcc.org/experiments/ENCSR888LYA/\">experiments:ENCSR888LYA/</a></td><td><a href=\"https://www.encodedcc.org/libraries/ENCLB432EQY/\">libraries:ENCLB432EQY/</a></td><td>RNA-seq on single cell equivalents of 20 excised and homogenized Purkinje cells from a 20 year old human male</td><td>barbara-wold:13646</td><td>in progress</td></tr><tr><td><a href=\"https://www.encodedcc.org/experiments/ENCSR888LYA/\">experiments:ENCSR888LYA/</a></td><td><a href=\"https://www.encodedcc.org/libraries/ENCLB151CUN/\">libraries:ENCLB151CUN/</a></td><td>RNA-seq on single cell equivalents of 20 excised and homogenized Purkinje cells from a 20 year old human male</td><td>barbara-wold:13648</td><td>in progress</td></tr><tr><td><a href=\"https://www.encodedcc.org/experiments/ENCSR888LYA/\">experiments:ENCSR888LYA/</a></td><td><a href=\"https://www.encodedcc.org/libraries/ENCLB720FXC/\">libraries:ENCLB720FXC/</a></td><td>RNA-seq on single cell equivalents of 20 excised and homogenized Purkinje cells from a 20 year old human male</td><td>barbara-wold:13661</td><td>in progress</td></tr><tr><td><a href=\"https://www.encodedcc.org/experiments/ENCSR888LYA/\">experiments:ENCSR888LYA/</a></td><td><a href=\"https://www.encodedcc.org/libraries/ENCLB546SWD/\">libraries:ENCLB546SWD/</a></td><td>RNA-seq on single cell equivalents of 20 excised and homogenized Purkinje cells from a 20 year old human male</td><td>barbara-wold:13647</td><td>in progress</td></tr><tr><td><a href=\"https://www.encodedcc.org/experiments/ENCSR888LYA/\">experiments:ENCSR888LYA/</a></td><td><a href=\"https://www.encodedcc.org/libraries/ENCLB340FFP/\">libraries:ENCLB340FFP/</a></td><td>RNA-seq on single cell equivalents of 20 excised and homogenized Purkinje cells from a 20 year old human male</td><td>barbara-wold:13649</td><td>in progress</td></tr><tr><td><a href=\"https://www.encodedcc.org/experiments/ENCSR888LYA/\">experiments:ENCSR888LYA/</a></td><td><a href=\"https://www.encodedcc.org/libraries/ENCLB452IVF/\">libraries:ENCLB452IVF/</a></td><td>RNA-seq on single cell equivalents of 20 excised and homogenized Purkinje cells from a 20 year old human male</td><td>barbara-wold:13651</td><td>in progress</td></tr><tr><td><a href=\"https://www.encodedcc.org/experiments/ENCSR888LYA/\">experiments:ENCSR888LYA/</a></td><td><a href=\"https://www.encodedcc.org/libraries/ENCLB205HHN/\">libraries:ENCLB205HHN/</a></td><td>RNA-seq on single cell equivalents of 20 excised and homogenized Purkinje cells from a 20 year old human male</td><td>barbara-wold:13650</td><td>in progress</td></tr><tr><td><a href=\"https://www.encodedcc.org/experiments/ENCSR888LYA/\">experiments:ENCSR888LYA/</a></td><td><a href=\"https://www.encodedcc.org/libraries/ENCLB078UJF/\">libraries:ENCLB078UJF/</a></td><td>RNA-seq on single cell equivalents of 20 excised and homogenized Purkinje cells from a 20 year old human male</td><td>barbara-wold:13653</td><td>in progress</td></tr><tr><td><a href=\"https://www.encodedcc.org/experiments/ENCSR888LYA/\">experiments:ENCSR888LYA/</a></td><td><a href=\"https://www.encodedcc.org/libraries/ENCLB611KGC/\">libraries:ENCLB611KGC/</a></td><td>RNA-seq on single cell equivalents of 20 excised and homogenized Purkinje cells from a 20 year old human male</td><td>barbara-wold:13655</td><td>in progress</td></tr><tr><td><a href=\"https://www.encodedcc.org/experiments/ENCSR888LYA/\">experiments:ENCSR888LYA/</a></td><td><a href=\"https://www.encodedcc.org/libraries/ENCLB562SNL/\">libraries:ENCLB562SNL/</a></td><td>RNA-seq on single cell equivalents of 20 excised and homogenized Purkinje cells from a 20 year old human male</td><td>barbara-wold:13657</td><td>in progress</td></tr><tr><td><a href=\"https://www.encodedcc.org/experiments/ENCSR000AIZ/\">experiments:ENCSR000AIZ/</a></td><td><a href=\"https://www.encodedcc.org/libraries/ENCLB482LEX/\">libraries:ENCLB482LEX/</a></td><td>RNA-seq of a GM12878 30 cell pool</td><td>barbara-wold:12517</td><td>proposed</td></tr><tr><td><a href=\"https://www.encodedcc.org/experiments/ENCSR000AIZ/\">experiments:ENCSR000AIZ/</a></td><td><a href=\"https://www.encodedcc.org/libraries/ENCLB898RJN/\">libraries:ENCLB898RJN/</a></td><td>RNA-seq of a GM12878 30 cell pool</td><td>barbara-wold:12518</td><td>proposed</td></tr><tr><td><a href=\"https://www.encodedcc.org/experiments/ENCSR000AJD/\">experiments:ENCSR000AJD/</a></td><td><a href=\"https://www.encodedcc.org/libraries/ENCLB036MBQ/\">libraries:ENCLB036MBQ/</a></td><td>RNA-seq of GM12878 bulk prep of 10 ngs</td><td>barbara-wold:13274</td><td>release ready</td></tr><tr><td><a href=\"https://www.encodedcc.org/experiments/ENCSR000AJD/\">experiments:ENCSR000AJD/</a></td><td><a href=\"https://www.encodedcc.org/libraries/ENCLB284CYK/\">libraries:ENCLB284CYK/</a></td><td>RNA-seq of GM12878 bulk prep of 10 ngs</td><td>barbara-wold:13275</td><td>release ready</td></tr><tr><td><a href=\"https://www.encodedcc.org/experiments/ENCSR000AJG/\">experiments:ENCSR000AJG/</a></td><td><a href=\"https://www.encodedcc.org/libraries/ENCLB550GYC/\">libraries:ENCLB550GYC/</a></td><td>RNA-seq of a GM12878 10-11 cell pool</td><td>barbara-wold:13300</td><td>release ready</td></tr><tr><td><a href=\"https://www.encodedcc.org/experiments/ENCSR000AJG/\">experiments:ENCSR000AJG/</a></td><td><a href=\"https://www.encodedcc.org/libraries/ENCLB576ZGP/\">libraries:ENCLB576ZGP/</a></td><td>RNA-seq of a GM12878 10-11 cell pool</td><td>barbara-wold:13301</td><td>release ready</td></tr><tr><td><a href=\"https://www.encodedcc.org/experiments/ENCSR000AJB/\">experiments:ENCSR000AJB/</a></td><td><a href=\"https://www.encodedcc.org/libraries/ENCLB264YKE/\">libraries:ENCLB264YKE/</a></td><td>RNA-seq of a single GM12878</td><td>barbara-wold:13288</td><td>release ready</td></tr><tr><td><a href=\"https://www.encodedcc.org/experiments/ENCSR000AIY/\">experiments:ENCSR000AIY/</a></td><td><a href=\"https://www.encodedcc.org/libraries/ENCLB391GZT/\">libraries:ENCLB391GZT/</a></td><td>RNA-seq of a single GM12878 cell</td><td>barbara-wold:13285</td><td>release ready</td></tr><tr><td><a href=\"https://www.encodedcc.org/experiments/ENCSR000AJA/\">experiments:ENCSR000AJA/</a></td><td><a href=\"https://www.encodedcc.org/libraries/ENCLB198OUV/\">libraries:ENCLB198OUV/</a></td><td>RNA-seq of a single GM12878 cell</td><td>barbara-wold:13283</td><td>release ready</td></tr><tr><td><a href=\"https://www.encodedcc.org/experiments/ENCSR000AJC/\">experiments:ENCSR000AJC/</a></td><td><a href=\"https://www.encodedcc.org/libraries/ENCLB714NCU/\">libraries:ENCLB714NCU/</a></td><td>RNA-seq of a single GM12878 cell</td><td>barbara-wold:13286</td><td>release ready</td></tr><tr><td><a href=\"https://www.encodedcc.org/experiments/ENCSR000AJE/\">experiments:ENCSR000AJE/</a></td><td><a href=\"https://www.encodedcc.org/libraries/ENCLB267CXI/\">libraries:ENCLB267CXI/</a></td><td>RNA-seq of a single GM12878 cell</td><td>barbara-wold:13282</td><td>release ready</td></tr><tr><td><a href=\"https://www.encodedcc.org/experiments/ENCSR000AJF/\">experiments:ENCSR000AJF/</a></td><td><a href=\"https://www.encodedcc.org/libraries/ENCLB868NQU/\">libraries:ENCLB868NQU/</a></td><td>RNA-seq of a single GM12878 cell</td><td>barbara-wold:13287</td><td>release ready</td></tr><tr><td><a href=\"https://www.encodedcc.org/experiments/ENCSR000AJH/\">experiments:ENCSR000AJH/</a></td><td><a href=\"https://www.encodedcc.org/libraries/ENCLB319PGU/\">libraries:ENCLB319PGU/</a></td><td>RNA-seq of a single GM12878 cell</td><td>barbara-wold:13284</td><td>release ready</td></tr><tr><td><a href=\"https://www.encodedcc.org/experiments/ENCSR184CWK/\">experiments:ENCSR184CWK/</a></td><td><a href=\"https://www.encodedcc.org/libraries/ENCLB206JYT/\">libraries:ENCLB206JYT/</a></td><td>RNA-seq of a single GM12878 cell</td><td>barbara-wold:13289</td><td>release ready</td></tr><tr><td><a href=\"https://www.encodedcc.org/experiments/ENCSR625DPZ/\">experiments:ENCSR625DPZ/</a></td><td><a href=\"https://www.encodedcc.org/libraries/ENCLB402YMB/\">libraries:ENCLB402YMB/</a></td><td>RNA-seq of a single GM12878 cell</td><td>barbara-wold:13291</td><td>release ready</td></tr><tr><td><a href=\"https://www.encodedcc.org/experiments/ENCSR767SOH/\">experiments:ENCSR767SOH/</a></td><td><a href=\"https://www.encodedcc.org/libraries/ENCLB476CZO/\">libraries:ENCLB476CZO/</a></td><td>RNA-seq of a single GM12878 cell</td><td>barbara-wold:13290</td><td>release ready</td></tr><tr><td><a href=\"https://www.encodedcc.org/experiments/ENCSR673UIY/\">experiments:ENCSR673UIY/</a></td><td><a href=\"https://www.encodedcc.org/libraries/ENCLB187EEQ/\">libraries:ENCLB187EEQ/</a></td><td>RNA-seq on single cell equivalents of 10 isolated and homogenized GM12878 cells</td><td>barbara-wold:13280</td><td>release ready</td></tr><tr><td><a href=\"https://www.encodedcc.org/experiments/ENCSR673UIY/\">experiments:ENCSR673UIY/</a></td><td><a href=\"https://www.encodedcc.org/libraries/ENCLB211FCW/\">libraries:ENCLB211FCW/</a></td><td>RNA-seq on single cell equivalents of 10 isolated and homogenized GM12878 cells</td><td>barbara-wold:13292</td><td>release ready</td></tr><tr><td><a href=\"https://www.encodedcc.org/experiments/ENCSR673UIY/\">experiments:ENCSR673UIY/</a></td><td><a href=\"https://www.encodedcc.org/libraries/ENCLB882HPA/\">libraries:ENCLB882HPA/</a></td><td>RNA-seq on single cell equivalents of 10 isolated and homogenized GM12878 cells</td><td>barbara-wold:13297</td><td>release ready</td></tr><tr><td><a href=\"https://www.encodedcc.org/experiments/ENCSR673UIY/\">experiments:ENCSR673UIY/</a></td><td><a href=\"https://www.encodedcc.org/libraries/ENCLB242XIT/\">libraries:ENCLB242XIT/</a></td><td>RNA-seq on single cell equivalents of 10 isolated and homogenized GM12878 cells</td><td>barbara-wold:13299</td><td>release ready</td></tr><tr><td><a href=\"https://www.encodedcc.org/experiments/ENCSR673UIY/\">experiments:ENCSR673UIY/</a></td><td><a href=\"https://www.encodedcc.org/libraries/ENCLB146LAW/\">libraries:ENCLB146LAW/</a></td><td>RNA-seq on single cell equivalents of 10 isolated and homogenized GM12878 cells</td><td>barbara-wold:13281</td><td>release ready</td></tr><tr><td><a href=\"https://www.encodedcc.org/experiments/ENCSR673UIY/\">experiments:ENCSR673UIY/</a></td><td><a href=\"https://www.encodedcc.org/libraries/ENCLB108EAP/\">libraries:ENCLB108EAP/</a></td><td>RNA-seq on single cell equivalents of 10 isolated and homogenized GM12878 cells</td><td>barbara-wold:13296</td><td>release ready</td></tr><tr><td><a href=\"https://www.encodedcc.org/experiments/ENCSR673UIY/\">experiments:ENCSR673UIY/</a></td><td><a href=\"https://www.encodedcc.org/libraries/ENCLB804XTY/\">libraries:ENCLB804XTY/</a></td><td>RNA-seq on single cell equivalents of 10 isolated and homogenized GM12878 cells</td><td>barbara-wold:13298</td><td>release ready</td></tr><tr><td><a href=\"https://www.encodedcc.org/experiments/ENCSR673UIY/\">experiments:ENCSR673UIY/</a></td><td><a href=\"https://www.encodedcc.org/libraries/ENCLB720ZUM/\">libraries:ENCLB720ZUM/</a></td><td>RNA-seq on single cell equivalents of 10 isolated and homogenized GM12878 cells</td><td>barbara-wold:13295</td><td>release ready</td></tr><tr><td><a href=\"https://www.encodedcc.org/experiments/ENCSR673UIY/\">experiments:ENCSR673UIY/</a></td><td><a href=\"https://www.encodedcc.org/libraries/ENCLB283IJI/\">libraries:ENCLB283IJI/</a></td><td>RNA-seq on single cell equivalents of 10 isolated and homogenized GM12878 cells</td><td>barbara-wold:13294</td><td>release ready</td></tr><tr><td><a href=\"https://www.encodedcc.org/experiments/ENCSR000AEH/\">experiments:ENCSR000AEH/</a></td><td><a href=\"https://www.encodedcc.org/libraries/ENCLB046ZZZ/\">libraries:ENCLB046ZZZ/</a></td><td>RNA Evaluation Gm12878 Long Poly-A+ RNA-seq from Wold</td><td>barbara-wold:13714</td><td>submitted</td></tr><tr><td><a href=\"https://www.encodedcc.org/experiments/ENCSR000AEH/\">experiments:ENCSR000AEH/</a></td><td><a href=\"https://www.encodedcc.org/libraries/ENCLB045ZZZ/\">libraries:ENCLB045ZZZ/</a></td><td>RNA Evaluation Gm12878 Long Poly-A+ RNA-seq from Wold</td><td>barbara-wold:13713</td><td>submitted</td></tr><tr><td><a href=\"https://www.encodedcc.org/experiments/ENCSR000AEG/\">experiments:ENCSR000AEG/</a></td><td><a href=\"https://www.encodedcc.org/libraries/ENCLB044ZZZ/\">libraries:ENCLB044ZZZ/</a></td><td>RNA Evaluation Gm12878 Long Total RNA-seq from Wold</td><td>barbara-wold:13712</td><td>submitted</td></tr><tr><td><a href=\"https://www.encodedcc.org/experiments/ENCSR000AEG/\">experiments:ENCSR000AEG/</a></td><td><a href=\"https://www.encodedcc.org/libraries/ENCLB043ZZZ/\">libraries:ENCLB043ZZZ/</a></td><td>RNA Evaluation Gm12878 Long Total RNA-seq from Wold</td><td>barbara-wold:13711</td><td>submitted</td></tr><tr><td><a href=\"https://www.encodedcc.org/experiments/ENCSR000AEQ/\">experiments:ENCSR000AEQ/</a></td><td><a href=\"https://www.encodedcc.org/libraries/ENCLB063ZZZ/\">libraries:ENCLB063ZZZ/</a></td><td>RNA Evaluation K562 Long Poly-A+ RNA-seq from Wold</td><td>barbara-wold:13717</td><td>submitted</td></tr><tr><td><a href=\"https://www.encodedcc.org/experiments/ENCSR000AEQ/\">experiments:ENCSR000AEQ/</a></td><td><a href=\"https://www.encodedcc.org/libraries/ENCLB064ZZZ/\">libraries:ENCLB064ZZZ/</a></td><td>RNA Evaluation K562 Long Poly-A+ RNA-seq from Wold</td><td>barbara-wold:13718</td><td>submitted</td></tr><tr><td><a href=\"https://www.encodedcc.org/experiments/ENCSR000AEP/\">experiments:ENCSR000AEP/</a></td><td><a href=\"https://www.encodedcc.org/libraries/ENCLB061ZZZ/\">libraries:ENCLB061ZZZ/</a></td><td>RNA Evaluation K562 Long Total RNA-seq from Wold</td><td>barbara-wold:13715</td><td>submitted</td></tr><tr><td><a href=\"https://www.encodedcc.org/experiments/ENCSR000AEP/\">experiments:ENCSR000AEP/</a></td><td><a href=\"https://www.encodedcc.org/libraries/ENCLB062ZZZ/\">libraries:ENCLB062ZZZ/</a></td><td>RNA Evaluation K562 Long Total RNA-seq from Wold</td><td>barbara-wold:13716</td><td>submitted</td></tr></table>"
       ],
       "metadata": {},
       "output_type": "pyout",
       "prompt_number": 23,
       "text": [
        "<rdfmagic.LibRdfResults at 0x7f0efd1d4550>"
       ]
      }
     ],
     "prompt_number": 23
    },
    {
     "cell_type": "code",
     "collapsed": false,
     "input": [],
     "language": "python",
     "metadata": {},
     "outputs": []
    }
   ],
   "metadata": {}
  }
 ]
}