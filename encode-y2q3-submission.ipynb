{
 "metadata": {
  "name": "",
  "signature": "sha256:4a78408cd6178b2c82d53c6611a5b5e5b5655f115e32ac8cbe8aac4463b087c7"
 },
 "nbformat": 3,
 "nbformat_minor": 0,
 "worksheets": [
  {
   "cells": [
    {
     "cell_type": "code",
     "collapsed": false,
     "input": [
      "from __future__ import print_function"
     ],
     "language": "python",
     "metadata": {},
     "outputs": [],
     "prompt_number": 1
    },
    {
     "cell_type": "code",
     "collapsed": false,
     "input": [
      "from curation_common import *"
     ],
     "language": "python",
     "metadata": {},
     "outputs": [],
     "prompt_number": 2
    },
    {
     "cell_type": "code",
     "collapsed": false,
     "input": [
      "import pandas\n",
      "import requests\n",
      "import gcat\n",
      "import jsonschema\n",
      "import types\n",
      "from IPython import display\n",
      "import RDF"
     ],
     "language": "python",
     "metadata": {},
     "outputs": [],
     "prompt_number": 3
    },
    {
     "cell_type": "code",
     "collapsed": false,
     "input": [
      "server = ENCODED('www.encodedcc.org')\n",
      "server.load_netrc()"
     ],
     "language": "python",
     "metadata": {},
     "outputs": [],
     "prompt_number": 4
    },
    {
     "cell_type": "code",
     "collapsed": false,
     "input": [
      "schemas = {\n",
      " '/experiments/': server.get_json('/profiles/experiment.json'),\n",
      " '/libraries/': server.get_json('/profiles/library.json'),\n",
      " '/replicates/': server.get_json('/profiles/replicate.json'),\n",
      " '/biosamples/': server.get_json('/profiles/biosample.json'),\n",
      "}"
     ],
     "language": "python",
     "metadata": {},
     "outputs": [],
     "prompt_number": 5
    },
    {
     "cell_type": "code",
     "collapsed": false,
     "input": [
      "def post(collection, data):\n",
      "    try:\n",
      "        jsonschema.validate(data, schemas[collection])\n",
      "        response =  server.post_json(collection, data)\n",
      "        obj = response['@graph'][0]\n",
      "        return obj['@id']\n",
      "    except requests.HTTPError as e:\n",
      "        print('exception: {}'.format(e))\n",
      "        display.display_pretty(data)\n",
      "    "
     ],
     "language": "python",
     "metadata": {},
     "outputs": [],
     "prompt_number": 6
    },
    {
     "cell_type": "code",
     "collapsed": false,
     "input": [
      "def parse_sheet_array_type(value):\n",
      "    return value.split(', ')\n",
      "\n",
      "def parse_sheet_integer_type(value):\n",
      "    return int(value)\n",
      "\n",
      "def parse_sheet_boolean_type(value):\n",
      "    return bool(value)\n",
      "\n",
      "def parse_sheet_timestamp_type(value):\n",
      "    return value.strftime('%Y-%m-%d')\n",
      "\n",
      "def parse_sheet_string_type(value):\n",
      "    return unicode(value)\n",
      "\n",
      "parsers = {\n",
      "  'array': parse_sheet_array_type,\n",
      "  'boolean': parse_sheet_boolean_type,\n",
      "  'integer': parse_sheet_integer_type,\n",
      "  'date': parse_sheet_timestamp_type,\n",
      "}"
     ],
     "language": "python",
     "metadata": {},
     "outputs": [],
     "prompt_number": 7
    },
    {
     "cell_type": "code",
     "collapsed": false,
     "input": [
      "def parse_sheet_cell(header, value):\n",
      "    header = header.split(':')\n",
      "    parse_function = parse_sheet_string_type\n",
      "    if len(header) > 1:\n",
      "        if header[1] == 'skip':\n",
      "            return None, None\n",
      "        parse_function = parsers[header[1]]\n",
      "    return header[0], parse_function(value)"
     ],
     "language": "python",
     "metadata": {},
     "outputs": [],
     "prompt_number": 8
    },
    {
     "cell_type": "code",
     "collapsed": false,
     "input": [
      "book_name = 'Libraries for July 31 (Y2Q3 submission)'"
     ],
     "language": "python",
     "metadata": {},
     "outputs": [],
     "prompt_number": 9
    },
    {
     "cell_type": "code",
     "collapsed": false,
     "input": [
      "def post_biosamples(book_name):\n",
      "    book = gcat.get_file(book_name, fmt='pandas_excel')\n",
      "    biosamples = book.parse('Biosamples', header=0)\n",
      "    for i in biosamples.index:\n",
      "        row = biosamples.ix[i]\n",
      "        columns = biosamples.columns\n",
      "        accession = row['biosample_accession']\n",
      "        if pandas.isnull(accession):\n",
      "            new_object = {}\n",
      "            for k in columns:\n",
      "                if pandas.notnull(row[k]):\n",
      "                    name, value = parse_sheet_cell(k, row[k])\n",
      "                    if name is None:\n",
      "                        continue\n",
      "                    if name == 'starting_amount_units' and value == 'pg':\n",
      "                        del new_object['starting_amount']\n",
      "                    else:\n",
      "                        new_object[name] = value\n",
      "            accession = post('/biosamples/', new_object)\n",
      "            print('row {} ({}) -> {}'.format(i, new_object.get('aliases', None), accession))\n",
      "post_biosamples(book_name)"
     ],
     "language": "python",
     "metadata": {},
     "outputs": [],
     "prompt_number": 10
    },
    {
     "cell_type": "code",
     "collapsed": false,
     "input": [
      "def post_experiments(book_name):\n",
      "    book = gcat.get_file(book_name, fmt='pandas_excel')\n",
      "    experiments = book.parse('Experiments', header=0)    \n",
      "    for i in experiments.index:\n",
      "        row = experiments.ix[i]\n",
      "        columns = experiments.columns\n",
      "        if pandas.isnull(row['experiment_accession']):\n",
      "            new_object = {}\n",
      "            for k in columns:\n",
      "                if pandas.notnull(row[k]):\n",
      "                    name, value = parse_sheet_cell(k, row[k])\n",
      "                    if name is None:\n",
      "                        continue\n",
      "                    new_object[name] = value\n",
      "            accession = post('/experiments/', new_object)\n",
      "            print('row {} ({}) -> {}'.format(i, new_object.get('description', None), accession))\n",
      "post_experiments(book_name)"
     ],
     "language": "python",
     "metadata": {},
     "outputs": [],
     "prompt_number": 11
    },
    {
     "cell_type": "code",
     "collapsed": false,
     "input": [
      "def update_model_with_flowcells(model):\n",
      "    query = RDF.SPARQLQuery(\"\"\"PREFIX htsw: <http://jumpgate.caltech.edu/wiki/LibraryOntology#>\n",
      "    select ?flowcell\n",
      "    where {\n",
      "       ?lane a htsw:IlluminaLane ;\n",
      "             htsw:flowcell ?flowcell .\n",
      "    }\"\"\")\n",
      "    for row in query.execute(model):\n",
      "        load_into_model(model, 'rdfa', str(row['flowcell']))\n",
      "\n",
      "def add_flowcell_details(lib_id, new_object):\n",
      "    model = get_model()\n",
      "    load_into_model(model, 'rdfa', 'https://jumpgate.caltech.edu/library/{}/'.format(lib_id))\n",
      "    update_model_with_flowcells(model)\n",
      "    query = RDF.SPARQLQuery(\"\"\"PREFIX htsw: <http://jumpgate.caltech.edu/wiki/LibraryOntology#>\n",
      "    select ?library ?flowcell_id ?lane_number ?barcode ?sequencer\n",
      "    where {{\n",
      "      ?library a htsw:Library ;\n",
      "               htsw:has_lane ?lane ;\n",
      "               htsw:multiplex_index ?barcode .\n",
      "      ?lane a htsw:IlluminaLane ;\n",
      "            htsw:flowcell ?flowcell ;\n",
      "            htsw:lane_number ?lane_number .\n",
      "      ?flowcell htsw:sequenced_by ?sequencer ;\n",
      "                htsw:flowcell_id ?flowcell_id .\n",
      "    }}\n",
      "    \"\"\")\n",
      "    flowcell_details = []\n",
      "    for row in query.execute(model):\n",
      "        run = {\n",
      "           'machine': str(row['sequencer']),\n",
      "           'flowcell': str(row['flowcell_id']),\n",
      "           'lane': str(row['lane_number']),\n",
      "           'barcode': str(row['barcode']).split(':')[-1]\n",
      "        }\n",
      "        flowcell_details.append(run)\n",
      "    new_object['flowcell_details'] = flowcell_details\n",
      "    "
     ],
     "language": "python",
     "metadata": {},
     "outputs": [],
     "prompt_number": 12
    },
    {
     "cell_type": "code",
     "collapsed": false,
     "input": [
      "def post_libraries(book_name):\n",
      "    book = gcat.get_file(book_name, fmt='pandas_excel')\n",
      "    libraries = book.parse('Libraries', header = 0)\n",
      "    for i in libraries.index:\n",
      "        row = libraries.ix[i]\n",
      "        columns = libraries.columns\n",
      "        \n",
      "        lib_object = {}\n",
      "        rep_object = {}\n",
      "        for k in columns:\n",
      "            if pandas.notnull(row[k]):\n",
      "                name, value = parse_sheet_cell(k, row[k])\n",
      "                if name is None:\n",
      "                    continue\n",
      "                if name in ('experiment_accession', 'biological_replicate_number', 'technical_replicate_number', \n",
      "                            'replicate_uuid'):\n",
      "                    if name == 'experiment_accession':\n",
      "                        name = 'experiment'\n",
      "                    rep_object[name] = value\n",
      "                else:\n",
      "                    lib_object[name] = value\n",
      "        if 'library_accession' not in lib_object:\n",
      "            lib_accession = post('/libraries/', lib_object)\n",
      "        else:\n",
      "            lib_accession = lib_object['library_accession']\n",
      "        lib_alias = lib_object['aliases'][0]\n",
      "        lib_id = lib_alias.replace('barbara-wold:','')\n",
      "        print('row {} lib ({}) -> {}'.format(i, lib_id, lib_accession))\n",
      "\n",
      "        if 'replicate_uuid' not in rep_object:\n",
      "            rep_object['library'] = lib_alias\n",
      "            add_flowcell_details(lib_id, rep_object)\n",
      "            #display.display_pretty(rep_object)\n",
      "            rep_accession = post('/replicates/', rep_object)\n",
      "            print('row {} rep( {}-{}-{}) -> {}'.format(i, \n",
      "                                             rep_object['experiment'], \n",
      "                                             rep_object['biological_replicate_number'],\n",
      "                                             rep_object['technical_replicate_number'],\n",
      "                                             rep_accession))\n",
      "post_libraries(book_name)"
     ],
     "language": "python",
     "metadata": {},
     "outputs": [
      {
       "output_type": "stream",
       "stream": "stdout",
       "text": [
        "row 0 lib (12517) -> ENCLB482LEX\n",
        "row 1 lib (12518) -> ENCLB898RJN\n",
        "row 2 lib (14485) -> ENCLB463KOX\n",
        "row 3 lib (14486) -> ENCLB941VYE\n",
        "row 4 lib (14487) -> ENCLB237OAE\n",
        "row 5 lib (14488) -> ENCLB171NYD\n",
        "row 6 lib (14495) -> ENCLB719BQO\n",
        "row 7 lib (14499) -> ENCLB356IIP\n",
        "row 8 lib (14501) -> ENCLB304LFK\n",
        "row 9 lib (14626) -> ENCLB766UOB\n",
        "row 10 lib (14627) -> ENCLB238LIR\n",
        "row 11 lib (14628) -> ENCLB652HKH\n",
        "row 12 lib (14629) -> ENCLB181TCJ\n",
        "row 13 lib (14630) -> ENCLB669AEL\n",
        "row 14 lib (14631) -> ENCLB765HDK\n",
        "row 15 lib (14632) -> ENCLB348BMH\n",
        "row 16 lib (14633) -> ENCLB791CRT\n",
        "row 17 lib (14634) -> ENCLB096HAH\n",
        "row 18 lib (14635) -> ENCLB005HHX\n",
        "row 19 lib (14636) -> ENCLB185MNU\n",
        "row 20 lib (14653) -> ENCLB917PKP\n",
        "row 21 lib (14654) -> ENCLB026BHP\n",
        "row 22 lib (14655) -> ENCLB449LBZ\n",
        "row 23 lib (14656) -> ENCLB905LVV\n",
        "row 24 lib (14665) -> too low to submit\n",
        "row 25 lib (14666) -> too low to submit\n"
       ]
      }
     ],
     "prompt_number": 13
    },
    {
     "cell_type": "code",
     "collapsed": false,
     "input": [
      "import paramiko"
     ],
     "language": "python",
     "metadata": {},
     "outputs": [],
     "prompt_number": 14
    },
    {
     "cell_type": "code",
     "collapsed": false,
     "input": [
      "def tab_write(stream, l):\n",
      "    stream.write('\\t'.join(l))\n",
      "    stream.write(os.linesep)\n",
      "    \n",
      "def make_manifest(book_name, map_name):\n",
      "    book = gcat.get_file(book_name, fmt='pandas_excel')\n",
      "    libraries = book.parse('Libraries', header = 0)\n",
      "    pongo = paramiko.SSHClient()\n",
      "    pongo.set_missing_host_key_policy(paramiko.WarningPolicy())\n",
      "    pongo.connect('pongo.cacr.caltech.edu', username='diane')\n",
      "    sftp = pongo.open_sftp()\n",
      "    sftp.chdir('proj/submission/encode-y2q3')\n",
      "    outstream = open('/tmp/manifest.txt', 'w')\n",
      "    tab_write(outstream, ['#file_name', 'format', 'output_type', 'experiment', 'replicate', 'enriched_in', 'ucsc_db', 'paired_end'])\n",
      "    for line in sftp.open(map_name):\n",
      "        library_id, dirname = line.split()\n",
      "        row = libraries[libraries['aliases:array'] == 'barbara-wold:{}'.format(library_id)]\n",
      "        for filename in sftp.listdir(dirname):\n",
      "            if filename.endswith('fastq.gz'):\n",
      "                relative_path = os.path.join(dirname, filename)\n",
      "\n",
      "            tab_write(outstream, [\n",
      "                relative_path,\n",
      "                'fastq',\n",
      "                'reads',\n",
      "                list(row['experiment_accession'])[0],\n",
      "                str(list(row['biological_replicate_number:integer'])[0]),\n",
      "                'exon',\n",
      "                list(row['species:skip'])[0],\n",
      "                'n/a'\n",
      "            ])\n",
      "    outstream.close()\n",
      "    print('generated')\n",
      "            \n",
      "make_manifest(book_name, 'good.txt')"
     ],
     "language": "python",
     "metadata": {},
     "outputs": [
      {
       "output_type": "stream",
       "stream": "stdout",
       "text": [
        "generated\n"
       ]
      }
     ],
     "prompt_number": 71
    },
    {
     "cell_type": "code",
     "collapsed": false,
     "input": [
      "book = gcat.get_file(book_name, fmt='pandas_excel')\n",
      "libraries = book.parse('Libraries', header = 0)"
     ],
     "language": "python",
     "metadata": {},
     "outputs": [],
     "prompt_number": 22
    },
    {
     "cell_type": "code",
     "collapsed": false,
     "input": [
      "row = libraries[libraries['aliases:array'] == 'barbara-wold:14633']"
     ],
     "language": "python",
     "metadata": {},
     "outputs": [],
     "prompt_number": 24
    },
    {
     "cell_type": "code",
     "collapsed": false,
     "input": [
      "type(row)"
     ],
     "language": "python",
     "metadata": {},
     "outputs": [
      {
       "metadata": {},
       "output_type": "pyout",
       "prompt_number": 57,
       "text": [
        "pandas.core.frame.DataFrame"
       ]
      }
     ],
     "prompt_number": 57
    },
    {
     "cell_type": "code",
     "collapsed": false,
     "input": [
      "row.columns"
     ],
     "language": "python",
     "metadata": {},
     "outputs": [
      {
       "metadata": {},
       "output_type": "pyout",
       "prompt_number": 25,
       "text": [
        "Index([u'library_accession', u'aliases:array', u'description:skip', u'biosample', u'experiment_accession', u'biological_replicate_number:integer', u'technical_replicate_number:integer', u'replicate_uuid', u'species:skip', u'biosample_type:skip', u'replicate type:skip', u'nucleic_acid_term_name', u'nucleic_acid_term_id', u'depleted_in_term_name', u'depleted_in_term_id', u'size_range', u'lysis_method', u'fragmentation_method', u'extraction_method', u'library_size_selection_method', u'treatments', u'strand_specificity:boolean', u'spike in pool:skip', u'documents:array', u'multiplex index', u'lab', u'award'], dtype='object')"
       ]
      }
     ],
     "prompt_number": 25
    },
    {
     "cell_type": "code",
     "collapsed": false,
     "input": [
      "type(row['species:skip'])"
     ],
     "language": "python",
     "metadata": {},
     "outputs": [
      {
       "metadata": {},
       "output_type": "pyout",
       "prompt_number": 58,
       "text": [
        "pandas.core.series.Series"
       ]
      }
     ],
     "prompt_number": 58
    },
    {
     "cell_type": "code",
     "collapsed": false,
     "input": [
      "type(o)"
     ],
     "language": "python",
     "metadata": {},
     "outputs": [
      {
       "metadata": {},
       "output_type": "pyout",
       "prompt_number": 59,
       "text": [
        "pandas.core.series.Series"
       ]
      }
     ],
     "prompt_number": 59
    },
    {
     "cell_type": "code",
     "collapsed": false,
     "input": [
      "list(o)"
     ],
     "language": "python",
     "metadata": {},
     "outputs": [
      {
       "metadata": {},
       "output_type": "pyout",
       "prompt_number": 62,
       "text": [
        "[u'mm9']"
       ]
      }
     ],
     "prompt_number": 62
    },
    {
     "cell_type": "code",
     "collapsed": false,
     "input": [
      "def add_document_aliases():\n",
      "    # Really I wish I could attach some aliases to the protocols\n",
      "    aliases = [#('f0cc5a7f-96a5-4970-9f46-317cc8e2d6a4', 'barbara-wold:mirvana_protocol.pdf'),\n",
      "               ('428a184d-7fa1-4599-9d8d-749c2eba7edd', 'barbara-wold:turbodnase_protocol.pdf'),\n",
      "               ('e84de88e-4c31-4b2a-b6ac-96feb764b2d0', 'barbara-wold:dynabeads_protocol.pdf'),\n",
      "               ('5f5193b0-0c61-40c6-a286-b1f6d6f0c0da', 'barbara-wold:Smart-Seq_Protocol.pdf'),\n",
      "               ]\n",
      "    for uuid, alias in aliases:\n",
      "        document = server.get_json(uuid)\n",
      "        if alias is None:\n",
      "            print('IDENTIFY: {} -> {}'.format(document['@id'], document['urls']))\n",
      "        elif alias not in document['aliases']:\n",
      "            print('UPDATE: {} -> {}'.format(document['@id'], document['aliases']))\n",
      "            document_aliases = document['aliases']\n",
      "            document_aliases.append(alias)\n",
      "            payload = {'aliases': document_aliases}\n",
      "            display.display_pretty(payload)\n",
      "            server.patch_json(document['@id'], payload)\n",
      "            \n",
      "#add_document_aliases()"
     ],
     "language": "python",
     "metadata": {},
     "outputs": [],
     "prompt_number": 18
    },
    {
     "cell_type": "code",
     "collapsed": false,
     "input": [],
     "language": "python",
     "metadata": {},
     "outputs": [],
     "prompt_number": 18
    }
   ],
   "metadata": {}
  }
 ]
}