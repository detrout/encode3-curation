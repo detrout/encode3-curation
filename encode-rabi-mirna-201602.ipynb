{
 "cells": [
  {
   "cell_type": "markdown",
   "metadata": {
    "collapsed": true
   },
   "source": [
    "Register Rabi's miRNA stuff\n"
   ]
  },
  {
   "cell_type": "code",
   "execution_count": 1,
   "metadata": {
    "collapsed": false
   },
   "outputs": [],
   "source": [
    "import pandas\n",
    "import gcat"
   ]
  },
  {
   "cell_type": "code",
   "execution_count": 2,
   "metadata": {
    "collapsed": false
   },
   "outputs": [],
   "source": [
    "from curation_common import *"
   ]
  },
  {
   "cell_type": "code",
   "execution_count": 3,
   "metadata": {
    "collapsed": true
   },
   "outputs": [],
   "source": [
    "from htsworkflow.submission.encoded import typed_column_parser"
   ]
  },
  {
   "cell_type": "code",
   "execution_count": 4,
   "metadata": {
    "collapsed": false
   },
   "outputs": [],
   "source": [
    "encode = ENCODED('www.encodeproject.org')\n",
    "encode.load_netrc()"
   ]
  },
  {
   "cell_type": "code",
   "execution_count": 5,
   "metadata": {
    "collapsed": true
   },
   "outputs": [],
   "source": [
    "def validate_aliases(sheet, accession_name='accession'):\n",
    "    # need to add 2 to python index to match \n",
    "    # whats the spreadsheet row number.\n",
    "    # one for zero based vs one based, and one for the\n",
    "    # header row.\n",
    "    fixes = []\n",
    "    lo_row_offset = 2\n",
    "    for i, row in sheet.iterrows():\n",
    "        alias = row['aliases:array']\n",
    "        accession = row[accession_name]\n",
    "        if ' ' in alias:\n",
    "            fixed_alias =  alias.replace(' ', '-')\n",
    "            fixes.append([i + lo_row_offset, accession, alias, fixed_alias])\n",
    "    return pandas.DataFrame(fixes, columns=['row number', accession_name, 'old alias', 'aliases:array'])"
   ]
  },
  {
   "cell_type": "markdown",
   "metadata": {},
   "source": [
    "# create biosamples"
   ]
  },
  {
   "cell_type": "code",
   "execution_count": 6,
   "metadata": {
    "collapsed": false
   },
   "outputs": [],
   "source": [
    "#biosamples = pandas.read_excel('ENCODE_miRNA_experiments_02042016.xlsx', sheetname='Biosamples')\n",
    "spreadsheet_name = 'ENCODE_miRNA_experiments_02042016'\n",
    "rabi = gcat.get_file(spreadsheet_name, fmt='pandas_excel')\n",
    "biosamples = rabi.parse('Biosamples', header=0)\n"
   ]
  },
  {
   "cell_type": "code",
   "execution_count": 7,
   "metadata": {
    "collapsed": false
   },
   "outputs": [
    {
     "data": {
      "text/html": [
       "<div>\n",
       "<table border=\"1\" class=\"dataframe\">\n",
       "  <thead>\n",
       "    <tr style=\"text-align: right;\">\n",
       "      <th></th>\n",
       "      <th>row number</th>\n",
       "      <th>accession</th>\n",
       "      <th>old alias</th>\n",
       "      <th>aliases:array</th>\n",
       "    </tr>\n",
       "  </thead>\n",
       "  <tbody>\n",
       "  </tbody>\n",
       "</table>\n",
       "</div>"
      ],
      "text/plain": [
       "Empty DataFrame\n",
       "Columns: [row number, accession, old alias, aliases:array]\n",
       "Index: []"
      ]
     },
     "execution_count": 7,
     "metadata": {},
     "output_type": "execute_result"
    }
   ],
   "source": [
    "validate_aliases(biosamples)"
   ]
  },
  {
   "cell_type": "code",
   "execution_count": 8,
   "metadata": {
    "collapsed": false
   },
   "outputs": [],
   "source": [
    "created = []\n",
    "if not biosamples.empty:\n",
    "    created = encode.post_sheet('/biosamples/', biosamples, verbose=True, dry_run=True)\n",
    "    print(len(created))"
   ]
  },
  {
   "cell_type": "code",
   "execution_count": 9,
   "metadata": {
    "collapsed": false
   },
   "outputs": [],
   "source": [
    "if created:\n",
    "    updates = []\n",
    "    for row in created:\n",
    "        updates.append({'uuid': row['uuid'], 'biosample_accession': row['accession'], 'aliases': row['aliases'][0]})\n",
    "    updatesdf = pandas.DataFrame(updates, columns=['uuid', 'biosample_accession', 'aliases'])\n",
    "    updatesdf.to_excel('/tmp/biosamples.xlsx')"
   ]
  },
  {
   "cell_type": "markdown",
   "metadata": {
    "collapsed": true
   },
   "source": [
    "# Create Experiments"
   ]
  },
  {
   "cell_type": "code",
   "execution_count": 10,
   "metadata": {
    "collapsed": true
   },
   "outputs": [],
   "source": [
    "#experiments = pandas.read_excel('ENCODE_miRNA_experiments_02042016.xlsx', sheetname='Experiments')\n",
    "rabi = gcat.get_file(spreadsheet_name, fmt='pandas_excel')\n",
    "experiments = rabi.parse('Experiments', header=0)"
   ]
  },
  {
   "cell_type": "code",
   "execution_count": 11,
   "metadata": {
    "collapsed": false
   },
   "outputs": [],
   "source": [
    "#experiment_alias_fixes = validate_aliases(experiments, 'experiment_accession')\n",
    "#experiment_alias_fixes.to_csv('/tmp/experiments.csv')\n",
    "#experiment_alias_fixes"
   ]
  },
  {
   "cell_type": "code",
   "execution_count": 12,
   "metadata": {
    "collapsed": false
   },
   "outputs": [
    {
     "name": "stdout",
     "output_type": "stream",
     "text": [
      "0\n"
     ]
    }
   ],
   "source": [
    "created = []\n",
    "if not experiments.empty:\n",
    "    created = encode.post_sheet('/experiments/', experiments, dry_run=True, verbose=True)\n",
    "    print(len(created))\n",
    "    "
   ]
  },
  {
   "cell_type": "code",
   "execution_count": 13,
   "metadata": {
    "collapsed": false
   },
   "outputs": [],
   "source": [
    "if created:\n",
    "    updatesdf = pandas.DataFrame(created, columns=['uuid', 'accession','description'])\n",
    "    updatesdf.to_excel('/tmp/experiments.xlsx', index=False)"
   ]
  },
  {
   "cell_type": "markdown",
   "metadata": {},
   "source": [
    "# Create Libraries"
   ]
  },
  {
   "cell_type": "code",
   "execution_count": 14,
   "metadata": {
    "collapsed": true
   },
   "outputs": [],
   "source": [
    "#libraries = pandas.read_excel('ENCODE_miRNA_experiments_02042016.xlsx', sheetname='Libraries')\n",
    "rabi = gcat.get_file(spreadsheet_name, fmt='pandas_excel')\n",
    "libraries = rabi.parse('Libraries', header=0)"
   ]
  },
  {
   "cell_type": "code",
   "execution_count": 15,
   "metadata": {
    "collapsed": false
   },
   "outputs": [],
   "source": [
    "#library_alias_fixes = validate_aliases(libraries, 'library_accession')\n",
    "#library_alias_fixes.to_csv('/tmp/library_fixes.csv')\n",
    "#library_alias_fixes"
   ]
  },
  {
   "cell_type": "code",
   "execution_count": 16,
   "metadata": {
    "collapsed": false,
    "scrolled": true
   },
   "outputs": [
    {
     "name": "stdout",
     "output_type": "stream",
     "text": [
      "0\n"
     ]
    }
   ],
   "source": [
    "created = []\n",
    "if not libraries.empty:\n",
    "    created = encode.post_sheet('/libraries/', libraries, dry_run=True, verbose=True)\n",
    "    print(len(created))"
   ]
  },
  {
   "cell_type": "code",
   "execution_count": 17,
   "metadata": {
    "collapsed": false
   },
   "outputs": [],
   "source": [
    "if created:\n",
    "    updates = []\n",
    "    updatesdf = pandas.DataFrame(created, columns=['accession', 'uuid', 'aliases'])\n",
    "    updatesdf.to_excel('/tmp/libraries.xlsx', index=False)"
   ]
  },
  {
   "cell_type": "markdown",
   "metadata": {},
   "source": [
    "# Create Replicates"
   ]
  },
  {
   "cell_type": "code",
   "execution_count": 26,
   "metadata": {
    "collapsed": false
   },
   "outputs": [],
   "source": [
    "#replicates = pandas.read_excel('ENCODE_miRNA_experiments_02042016.xlsx', sheetname='Replicates')\n",
    "rabi = gcat.get_file(spreadsheet_name, fmt='pandas_excel')\n",
    "replicates = rabi.parse('Replicates', header=0)"
   ]
  },
  {
   "cell_type": "code",
   "execution_count": 19,
   "metadata": {
    "collapsed": false
   },
   "outputs": [],
   "source": [
    "#replicates_alias_fixes = validate_aliases(replicates, 'uuid')\n",
    "#replicates_alias_fixes.to_csv('/tmp/replicate_fixes.csv')\n",
    "#replicates_alias_fixes"
   ]
  },
  {
   "cell_type": "code",
   "execution_count": 28,
   "metadata": {
    "collapsed": false,
    "scrolled": true
   },
   "outputs": [
    {
     "name": "stdout",
     "output_type": "stream",
     "text": [
      "166\n"
     ]
    }
   ],
   "source": [
    "created = []\n",
    "if not replicates.empty:\n",
    "    created = encode.post_sheet('/replicates/', replicates, dry_run=True, verbose=True)\n",
    "    print(len(created))"
   ]
  },
  {
   "cell_type": "code",
   "execution_count": 22,
   "metadata": {
    "collapsed": true
   },
   "outputs": [],
   "source": [
    "if created:\n",
    "    updatesdf = pandas.DataFrame(created, columns=['uuid', 'experiment', 'library'])\n",
    "    updatesdf.to_excel('/tmp/replicates.xlsx', index=False)"
   ]
  },
  {
   "cell_type": "code",
   "execution_count": 23,
   "metadata": {
    "collapsed": false
   },
   "outputs": [
    {
     "data": {
      "text/plain": [
       "[{'aliases': ['ali-mortazavi:human-right cardiac atrium-ENTEX103-rep1'],\n",
       "  'biological_replicate_number': 1,\n",
       "  'experiment': 'ali-mortazavi:human-right cardiac atrium-ENTEX 103 104-nanostring',\n",
       "  'library': 'ali-mortazavi:human-right cardiac atrium-ENTEX103-Lib1',\n",
       "  'technical_replicate_number': 1,\n",
       "  'uuid': 'would create'},\n",
       " {'aliases': ['ali-mortazavi:human-right cardiac atrium-ENTEX104-rep2'],\n",
       "  'biological_replicate_number': 2,\n",
       "  'experiment': 'ali-mortazavi:human-right cardiac atrium-ENTEX 103 104-nanostring',\n",
       "  'library': 'ali-mortazavi:human-right cardiac atrium-ENTEX104-Lib2',\n",
       "  'technical_replicate_number': 1,\n",
       "  'uuid': 'would create'}]"
      ]
     },
     "execution_count": 23,
     "metadata": {},
     "output_type": "execute_result"
    }
   ],
   "source": [
    "created"
   ]
  },
  {
   "cell_type": "code",
   "execution_count": null,
   "metadata": {
    "collapsed": true
   },
   "outputs": [],
   "source": []
  }
 ],
 "metadata": {
  "kernelspec": {
   "display_name": "Python 3",
   "language": "python",
   "name": "python3"
  },
  "language_info": {
   "codemirror_mode": {
    "name": "ipython",
    "version": 3
   },
   "file_extension": ".py",
   "mimetype": "text/x-python",
   "name": "python",
   "nbconvert_exporter": "python",
   "pygments_lexer": "ipython3",
   "version": "3.5.2"
  }
 },
 "nbformat": 4,
 "nbformat_minor": 0
}
