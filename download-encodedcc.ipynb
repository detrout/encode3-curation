{
 "metadata": {
  "name": ""
 },
 "nbformat": 3,
 "nbformat_minor": 0,
 "worksheets": [
  {
   "cells": [
    {
     "cell_type": "heading",
     "level": 1,
     "metadata": {},
     "source": [
      "Batch downloader"
     ]
    },
    {
     "cell_type": "markdown",
     "metadata": {},
     "source": [
      "This makes us more compatible with python3"
     ]
    },
    {
     "cell_type": "code",
     "collapsed": false,
     "input": [
      "from __future__ import print_function, unicode_literals"
     ],
     "language": "python",
     "metadata": {},
     "outputs": [],
     "prompt_number": 1
    },
    {
     "cell_type": "markdown",
     "metadata": {},
     "source": [
      "The purpose of this is to illustrate how one might try to do batch downloading from the new ENCODE-DCC <a href=\"https://www.encodedcc.org\">portal</a> "
     ]
    },
    {
     "cell_type": "code",
     "collapsed": false,
     "input": [
      "import requests\n",
      "import json\n",
      "import os"
     ],
     "language": "python",
     "metadata": {},
     "outputs": [],
     "prompt_number": 2
    },
    {
     "cell_type": "markdown",
     "metadata": {},
     "source": [
      "The first step is to find what we want to batch download. Probably the simplest path is to work directly with the website to build the url containing the list of search strings and filters.\n",
      "\n",
      "Once you have the url from the portal copy and paste it into your script and append &format=json to the end.\n",
      "\n",
      "For example I drilled down using the facets on the portal and ended up with this in my browsers URL bar.\n",
      "\n",
      "https://www.encodedcc.org/search/?type=experiment&organ_slims=brain&assay_term_name=DNase-seq\n",
      "\n",
      "I copied it into the requests.get() call with the &format=json appended at the end.\n",
      "\n",
      "Also it can be useful to add &format=json directly to the DCC web interface as you can get additional information that their user interface doesn't render. (You just might want a browser or browser add-on that tries to pretty print the json)"
     ]
    },
    {
     "cell_type": "code",
     "collapsed": false,
     "input": [
      "req = requests.get('https://www.encodedcc.org/search/?type=experiment&organ_slims=brain&assay_term_name=DNase-seq&format=json')\n",
      "if req.status_code != 200:\n",
      "    print(\"Oh no, not successful: {}\".format(req.code))\n",
      "else:\n",
      "    print(\"Success!\")"
     ],
     "language": "python",
     "metadata": {},
     "outputs": [
      {
       "output_type": "stream",
       "stream": "stdout",
       "text": [
        "Success!\n"
       ]
      }
     ],
     "prompt_number": 3
    },
    {
     "cell_type": "markdown",
     "metadata": {},
     "source": [
      "Once you have a successful search request we need to convert it from the JSON returned by the DCC application."
     ]
    },
    {
     "cell_type": "code",
     "collapsed": false,
     "input": [
      "result = json.loads(req.content)"
     ],
     "language": "python",
     "metadata": {},
     "outputs": [],
     "prompt_number": 4
    },
    {
     "cell_type": "markdown",
     "metadata": {},
     "source": [
      "The search response contains some extra properties as it's primarily designed for the DCC Web UI to display results. But we can still take advantage of it to build a list of candidate things to download."
     ]
    },
    {
     "cell_type": "code",
     "collapsed": false,
     "input": [
      "result.keys()"
     ],
     "language": "python",
     "metadata": {},
     "outputs": [
      {
       "metadata": {},
       "output_type": "pyout",
       "prompt_number": 5,
       "text": [
        "[u'title',\n",
        " u'notification',\n",
        " u'@graph',\n",
        " u'@type',\n",
        " u'filters',\n",
        " u'total',\n",
        " u'@id',\n",
        " u'facets',\n",
        " u'columns']"
       ]
      }
     ],
     "prompt_number": 5
    },
    {
     "cell_type": "markdown",
     "metadata": {},
     "source": [
      "Out of curiosity, what's in some of the other attributes"
     ]
    },
    {
     "cell_type": "code",
     "collapsed": false,
     "input": [
      "result['title']"
     ],
     "language": "python",
     "metadata": {},
     "outputs": [
      {
       "metadata": {},
       "output_type": "pyout",
       "prompt_number": 6,
       "text": [
        "u'Search'"
       ]
      }
     ],
     "prompt_number": 6
    },
    {
     "cell_type": "markdown",
     "metadata": {},
     "source": [
      "This property shows how many objects we found."
     ]
    },
    {
     "cell_type": "code",
     "collapsed": false,
     "input": [
      "result['total']"
     ],
     "language": "python",
     "metadata": {},
     "outputs": [
      {
       "metadata": {},
       "output_type": "pyout",
       "prompt_number": 7,
       "text": [
        "11"
       ]
      }
     ],
     "prompt_number": 7
    },
    {
     "cell_type": "markdown",
     "metadata": {},
     "source": [
      "<code>result['facets']</code>\n",
      "\n",
      "returns a lot of summary information about what was matched, but it was long enough that I didn't want to clutter up this example with it."
     ]
    },
    {
     "cell_type": "markdown",
     "metadata": {},
     "source": [
      "The list of objects we searched for is returned int the '@graph' property of the search query. The search result only returns a small amount of information about a query, to get the rest of the objects we actually need to download each object individually. To do that we need the object @id.\n",
      "\n",
      "so this fragment generats a list of experiment ids."
     ]
    },
    {
     "cell_type": "code",
     "collapsed": false,
     "input": [
      "experiments = [x['@id'] for x in result['@graph']]"
     ],
     "language": "python",
     "metadata": {},
     "outputs": [],
     "prompt_number": 8
    },
    {
     "cell_type": "markdown",
     "metadata": {},
     "source": [
      "Before batch downloading everything, it would be helpful to see what information is actually available about an experiment."
     ]
    },
    {
     "cell_type": "code",
     "collapsed": false,
     "input": [
      "experiments[0]"
     ],
     "language": "python",
     "metadata": {},
     "outputs": [
      {
       "metadata": {},
       "output_type": "pyout",
       "prompt_number": 9,
       "text": [
        "u'/experiments/ENCSR000EIY/'"
       ]
      }
     ],
     "prompt_number": 9
    },
    {
     "cell_type": "code",
     "collapsed": false,
     "input": [
      "response = requests.get('https://www.encodedcc.org/experiments/ENCSR000EIY/?format=json')\n",
      "if response.status_code == 200:\n",
      "    encsr000eiy = json.loads(response.content)\n",
      "    print(\"Success\")"
     ],
     "language": "python",
     "metadata": {},
     "outputs": [
      {
       "output_type": "stream",
       "stream": "stdout",
       "text": [
        "Success\n"
       ]
      }
     ],
     "prompt_number": 10
    },
    {
     "cell_type": "markdown",
     "metadata": {},
     "source": [
      "Lets see what fields are available for an experiment. (And lets sort it)"
     ]
    },
    {
     "cell_type": "code",
     "collapsed": false,
     "input": [
      "sorted(encsr000eiy.keys())"
     ],
     "language": "python",
     "metadata": {},
     "outputs": [
      {
       "metadata": {},
       "output_type": "pyout",
       "prompt_number": 11,
       "text": [
        "[u'@id',\n",
        " u'@type',\n",
        " u'accession',\n",
        " u'aliases',\n",
        " u'alternate_accessions',\n",
        " u'assay_term_id',\n",
        " u'assay_term_name',\n",
        " u'assembly',\n",
        " u'award',\n",
        " u'biosample_term_id',\n",
        " u'biosample_term_name',\n",
        " u'biosample_type',\n",
        " u'dataset_type',\n",
        " u'date_created',\n",
        " u'date_released',\n",
        " u'dbxrefs',\n",
        " u'description',\n",
        " u'developmental_slims',\n",
        " u'documents',\n",
        " u'files',\n",
        " u'hub',\n",
        " u'lab',\n",
        " u'organ_slims',\n",
        " u'original_files',\n",
        " u'possible_controls',\n",
        " u'references',\n",
        " u'related_files',\n",
        " u'replicates',\n",
        " u'schema_version',\n",
        " u'status',\n",
        " u'submitted_by',\n",
        " u'synonyms',\n",
        " u'system_slims',\n",
        " u'uuid',\n",
        " u'visualize_ucsc']"
       ]
      }
     ],
     "prompt_number": 11
    },
    {
     "cell_type": "markdown",
     "metadata": {},
     "source": [
      "Since we're trying to download data, the files property looks promising."
     ]
    },
    {
     "cell_type": "code",
     "collapsed": false,
     "input": [
      "file1 = encsr000eiy['files'][0]"
     ],
     "language": "python",
     "metadata": {},
     "outputs": [],
     "prompt_number": 12
    },
    {
     "cell_type": "code",
     "collapsed": false,
     "input": [
      "file1.keys()"
     ],
     "language": "python",
     "metadata": {},
     "outputs": [
      {
       "metadata": {},
       "output_type": "pyout",
       "prompt_number": 13,
       "text": [
        "[u'status',\n",
        " u'submitted_by',\n",
        " u'assembly',\n",
        " u'uuid',\n",
        " u'file_format',\n",
        " u'@type',\n",
        " u'md5sum',\n",
        " u'accession',\n",
        " u'schema_version',\n",
        " u'dataset',\n",
        " u'download_path',\n",
        " u'alternate_accessions',\n",
        " u'date_created',\n",
        " u'output_type',\n",
        " u'@id',\n",
        " u'submitted_file_name']"
       ]
      }
     ],
     "prompt_number": 13
    },
    {
     "cell_type": "markdown",
     "metadata": {},
     "source": [
      "Now that we've seen some of the available data. we can get some of the links.\n",
      "\n",
      "Unfortunately requests doesn't have a requests.download function, so we need to implement one."
     ]
    },
    {
     "cell_type": "code",
     "collapsed": false,
     "input": [
      "def DownloadFile(url, local_filename):\n",
      "    \"\"\"download a file\n",
      "    \n",
      "    based on \n",
      "    https://stackoverflow.com/questions/16694907/how-to-download-large-file-in-python-with-requests-py\n",
      "    \"\"\"\n",
      "    r = requests.get(url, stream=True)\n",
      "    f = open(local_filename, 'wb')\n",
      "    for chunk in r.iter_content(chunk_size=512 * 1024): \n",
      "        if chunk: # filter out keep-alive new chunks\n",
      "            f.write(chunk)\n",
      "    f.close()\n",
      "    return "
     ],
     "language": "python",
     "metadata": {},
     "outputs": [],
     "prompt_number": 14
    },
    {
     "cell_type": "code",
     "collapsed": false,
     "input": [
      "def get_links(experiment, terms=None):\n",
      "    \"\"\"Given an experiment object, and a list of terms return\n",
      "    a tuple with the list of term values and the download link.\n",
      "    get\n",
      "    e.g. get_links(experiment, ['assembly', 'biosample_term_name']) ->\n",
      "    \n",
      "    ([hg19', 'frontal cortex', 'ENCFF000SJO.bigWig'], 'https://www.encodedcc.org/2013/4/17/ENCFF000SJO.bigWig')\n",
      "\n",
      "    it will allways include the base filename as one of the last term. \n",
      "    \"\"\"\n",
      "    DOWNLOAD_ROOT = 'http://encodedcc.sdsc.edu/warehouse/'\n",
      "    if terms is None:\n",
      "        terms = []\n",
      "    for f in experiment['files']:\n",
      "        record = []\n",
      "        for t in terms:\n",
      "            record.append(experiment[t])\n",
      "        path, filename = os.path.split(f['download_path'])\n",
      "        record.append(filename)\n",
      "        # yield makes a \"generator\" that is a return that can return over and over again.\n",
      "        yield ((record, DOWNLOAD_ROOT + f['download_path']))"
     ],
     "language": "python",
     "metadata": {},
     "outputs": [],
     "prompt_number": 15
    },
    {
     "cell_type": "code",
     "collapsed": false,
     "input": [
      "for object_id in experiments:\n",
      "    response = requests.get('https://www.encodedcc.org/{}?format=json'.format(object_id))\n",
      "    experiment = json.loads(response.content)    \n",
      "    for attributes, file_url in get_links(experiment, ['assembly', 'biosample_term_name']):\n",
      "        local_filename = '-'.join(attributes)\n",
      "        print( file_url, local_filename )\n",
      "        # Uncomment this if you actually want to download. \n",
      "        #DownloadFile(file_url, local_filename)"
     ],
     "language": "python",
     "metadata": {},
     "outputs": [
      {
       "output_type": "stream",
       "stream": "stdout",
       "text": [
        "http://encodedcc.sdsc.edu/warehouse/2013/4/17/ENCFF000SJO.bigWig hg19-frontal cortex-ENCFF000SJO.bigWig\n",
        "http://encodedcc.sdsc.edu/warehouse/2013/4/17/ENCFF000SJP.bam hg19-frontal cortex-ENCFF000SJP.bam\n",
        "http://encodedcc.sdsc.edu/warehouse/2013/4/17/ENCFF000SJQ.narrowPeak.bigBed hg19-frontal cortex-ENCFF000SJQ.narrowPeak.bigBed\n",
        "http://encodedcc.sdsc.edu/warehouse/2013/4/17/ENCFF000SJR.bam hg19-frontal cortex-ENCFF000SJR.bam\n",
        "http://encodedcc.sdsc.edu/warehouse/2013/4/17/ENCFF000SJS.bigWig hg19-frontal cortex-ENCFF000SJS.bigWig\n",
        "http://encodedcc.sdsc.edu/warehouse/2013/4/17/ENCFF000SKA.fastq.gz hg19-frontal cortex-ENCFF000SKA.fastq.gz\n",
        "http://encodedcc.sdsc.edu/warehouse/2013/4/17/ENCFF000SKE.fastq.gz hg19-frontal cortex-ENCFF000SKE.fastq.gz\n",
        "http://encodedcc.sdsc.edu/warehouse/2014/1/27/ENCFF001UUX.narrowPeak.gz hg19-frontal cortex-ENCFF001UUX.narrowPeak.gz\n",
        "http://encodedcc.sdsc.edu/warehouse/2013/4/17/ENCFF000SFQ.bam"
       ]
      },
      {
       "output_type": "stream",
       "stream": "stdout",
       "text": [
        " hg19-frontal cortex-ENCFF000SFQ.bam\n",
        "http://encodedcc.sdsc.edu/warehouse/2013/4/17/ENCFF000SFR.bigWig hg19-frontal cortex-ENCFF000SFR.bigWig\n",
        "http://encodedcc.sdsc.edu/warehouse/2013/4/17/ENCFF000SFT.narrowPeak.bigBed hg19-frontal cortex-ENCFF000SFT.narrowPeak.bigBed\n",
        "http://encodedcc.sdsc.edu/warehouse/2013/4/17/ENCFF000SFU.bam hg19-frontal cortex-ENCFF000SFU.bam\n",
        "http://encodedcc.sdsc.edu/warehouse/2013/4/17/ENCFF000SFV.bigWig hg19-frontal cortex-ENCFF000SFV.bigWig\n",
        "http://encodedcc.sdsc.edu/warehouse/2013/4/17/ENCFF000SGJ.fastq.gz hg19-frontal cortex-ENCFF000SGJ.fastq.gz\n",
        "http://encodedcc.sdsc.edu/warehouse/2013/4/17/ENCFF000SGL.fastq.gz hg19-frontal cortex-ENCFF000SGL.fastq.gz\n",
        "http://encodedcc.sdsc.edu/warehouse/2014/1/27/ENCFF001UUJ.narrowPeak.gz hg19-frontal cortex-ENCFF001UUJ.narrowPeak.gz\n",
        "http://encodedcc.sdsc.edu/warehouse/2013/4/17/ENCFF000SFK.bigWig"
       ]
      },
      {
       "output_type": "stream",
       "stream": "stdout",
       "text": [
        " hg19-cerebellum-ENCFF000SFK.bigWig\n",
        "http://encodedcc.sdsc.edu/warehouse/2013/4/17/ENCFF000SFL.bam hg19-cerebellum-ENCFF000SFL.bam\n",
        "http://encodedcc.sdsc.edu/warehouse/2013/4/17/ENCFF000SFM.narrowPeak.bigBed hg19-cerebellum-ENCFF000SFM.narrowPeak.bigBed\n",
        "http://encodedcc.sdsc.edu/warehouse/2013/4/17/ENCFF000SFN.bam hg19-cerebellum-ENCFF000SFN.bam\n",
        "http://encodedcc.sdsc.edu/warehouse/2013/4/17/ENCFF000SFO.bigWig hg19-cerebellum-ENCFF000SFO.bigWig\n",
        "http://encodedcc.sdsc.edu/warehouse/2013/4/17/ENCFF000SFW.fastq.gz hg19-cerebellum-ENCFF000SFW.fastq.gz\n",
        "http://encodedcc.sdsc.edu/warehouse/2013/4/17/ENCFF000SFX.fastq.gz hg19-cerebellum-ENCFF000SFX.fastq.gz\n",
        "http://encodedcc.sdsc.edu/warehouse/2014/1/27/ENCFF001UUI.narrowPeak.gz hg19-cerebellum-ENCFF001UUI.narrowPeak.gz\n",
        "http://encodedcc.sdsc.edu/warehouse/2013/4/19/ENCFF001QEO.bam"
       ]
      },
      {
       "output_type": "stream",
       "stream": "stdout",
       "text": [
        " mm9-brain-ENCFF001QEO.bam\n",
        "http://encodedcc.sdsc.edu/warehouse/2013/4/19/ENCFF001QEP.bam mm9-brain-ENCFF001QEP.bam\n",
        "http://encodedcc.sdsc.edu/warehouse/2013/4/19/ENCFF001QEQ.broadPeak.bigBed mm9-brain-ENCFF001QEQ.broadPeak.bigBed\n",
        "http://encodedcc.sdsc.edu/warehouse/2013/4/19/ENCFF001QER.broadPeak.bigBed mm9-brain-ENCFF001QER.broadPeak.bigBed\n",
        "http://encodedcc.sdsc.edu/warehouse/2013/4/19/ENCFF001QES.narrowPeak.bigBed mm9-brain-ENCFF001QES.narrowPeak.bigBed\n",
        "http://encodedcc.sdsc.edu/warehouse/2013/4/19/ENCFF001QET.narrowPeak.bigBed mm9-brain-ENCFF001QET.narrowPeak.bigBed\n",
        "http://encodedcc.sdsc.edu/warehouse/2013/4/19/ENCFF001QEU.fastq.gz mm9-brain-ENCFF001QEU.fastq.gz\n",
        "http://encodedcc.sdsc.edu/warehouse/2013/4/19/ENCFF001QEX.bigWig mm9-brain-ENCFF001QEX.bigWig\n",
        "http://encodedcc.sdsc.edu/warehouse/2013/4/19/ENCFF001QEY.bigWig mm9-brain-ENCFF001QEY.bigWig\n",
        "http://encodedcc.sdsc.edu/warehouse/2013/4/19/ENCFF001QFB.fastq.gz mm9-brain-ENCFF001QFB.fastq.gz\n",
        "http://encodedcc.sdsc.edu/warehouse/2014/1/27/ENCFF001YVE.broadPeak.gz mm9-brain-ENCFF001YVE.broadPeak.gz\n",
        "http://encodedcc.sdsc.edu/warehouse/2014/1/27/ENCFF001YVF.broadPeak.gz mm9-brain-ENCFF001YVF.broadPeak.gz\n",
        "http://encodedcc.sdsc.edu/warehouse/2014/1/27/ENCFF001YVG.narrowPeak.gz mm9-brain-ENCFF001YVG.narrowPeak.gz\n",
        "http://encodedcc.sdsc.edu/warehouse/2014/1/27/ENCFF001YVH.narrowPeak.gz mm9-brain-ENCFF001YVH.narrowPeak.gz\n",
        "http://encodedcc.sdsc.edu/warehouse/2013/4/18/ENCFF001OZH.fastq.gz"
       ]
      },
      {
       "output_type": "stream",
       "stream": "stdout",
       "text": [
        " mm9-brain-ENCFF001OZH.fastq.gz\n",
        "http://encodedcc.sdsc.edu/warehouse/2013/4/18/ENCFF001OZI.fastq.gz mm9-brain-ENCFF001OZI.fastq.gz\n",
        "http://encodedcc.sdsc.edu/warehouse/2013/4/19/ENCFF001QEF.bam mm9-brain-ENCFF001QEF.bam\n",
        "http://encodedcc.sdsc.edu/warehouse/2013/4/19/ENCFF001QEH.broadPeak.bigBed mm9-brain-ENCFF001QEH.broadPeak.bigBed\n",
        "http://encodedcc.sdsc.edu/warehouse/2013/4/19/ENCFF001QEJ.narrowPeak.bigBed mm9-brain-ENCFF001QEJ.narrowPeak.bigBed\n",
        "http://encodedcc.sdsc.edu/warehouse/2013/4/19/ENCFF001QEK.fastq.gz mm9-brain-ENCFF001QEK.fastq.gz\n",
        "http://encodedcc.sdsc.edu/warehouse/2013/4/19/ENCFF001QEN.bigWig mm9-brain-ENCFF001QEN.bigWig\n",
        "http://encodedcc.sdsc.edu/warehouse/2014/1/27/ENCFF001YVB.broadPeak.gz mm9-brain-ENCFF001YVB.broadPeak.gz\n",
        "http://encodedcc.sdsc.edu/warehouse/2014/1/27/ENCFF001YVD.narrowPeak.gz mm9-brain-ENCFF001YVD.narrowPeak.gz\n",
        "http://encodedcc.sdsc.edu/warehouse/2013/4/18/ENCFF001OZF.broadPeak.bigBed mm9-brain-ENCFF001OZF.broadPeak.bigBed\n",
        "http://encodedcc.sdsc.edu/warehouse/2013/4/18/ENCFF001OZG.narrowPeak.bigBed mm9-brain-ENCFF001OZG.narrowPeak.bigBed\n",
        "http://encodedcc.sdsc.edu/warehouse/2013/4/18/ENCFF001PAM.bigWig mm9-brain-ENCFF001PAM.bigWig\n",
        "http://encodedcc.sdsc.edu/warehouse/2013/4/18/ENCFF001PAO.bigWig mm9-brain-ENCFF001PAO.bigWig\n",
        "http://encodedcc.sdsc.edu/warehouse/2013/4/18/ENCFF001PCC.bam mm9-brain-ENCFF001PCC.bam\n",
        "http://encodedcc.sdsc.edu/warehouse/2013/4/19/ENCFF001QEE.bam mm9-brain-ENCFF001QEE.bam\n",
        "http://encodedcc.sdsc.edu/warehouse/2013/4/19/ENCFF001QEG.broadPeak.bigBed mm9-brain-ENCFF001QEG.broadPeak.bigBed\n",
        "http://encodedcc.sdsc.edu/warehouse/2013/4/19/ENCFF001QEI.narrowPeak.bigBed mm9-brain-ENCFF001QEI.narrowPeak.bigBed\n",
        "http://encodedcc.sdsc.edu/warehouse/2013/4/19/ENCFF001QEL.fastq.gz mm9-brain-ENCFF001QEL.fastq.gz\n",
        "http://encodedcc.sdsc.edu/warehouse/2013/4/19/ENCFF001QEM.bigWig mm9-brain-ENCFF001QEM.bigWig\n",
        "http://encodedcc.sdsc.edu/warehouse/2014/1/27/ENCFF001YMC.broadPeak.gz mm9-brain-ENCFF001YMC.broadPeak.gz\n",
        "http://encodedcc.sdsc.edu/warehouse/2014/1/27/ENCFF001YMD.narrowPeak.gz mm9-brain-ENCFF001YMD.narrowPeak.gz\n",
        "http://encodedcc.sdsc.edu/warehouse/2014/1/27/ENCFF001YVA.broadPeak.gz mm9-brain-ENCFF001YVA.broadPeak.gz\n",
        "http://encodedcc.sdsc.edu/warehouse/2014/1/27/ENCFF001YVC.narrowPeak.gz mm9-brain-ENCFF001YVC.narrowPeak.gz\n",
        "http://encodedcc.sdsc.edu/warehouse/2013/4/18/ENCFF001OYT.fastq.gz"
       ]
      },
      {
       "output_type": "stream",
       "stream": "stdout",
       "text": [
        " mm9-brain-ENCFF001OYT.fastq.gz\n",
        "http://encodedcc.sdsc.edu/warehouse/2013/4/18/ENCFF001OYU.fastq.gz mm9-brain-ENCFF001OYU.fastq.gz\n",
        "http://encodedcc.sdsc.edu/warehouse/2013/4/19/ENCFF001QCU.bam mm9-brain-ENCFF001QCU.bam\n",
        "http://encodedcc.sdsc.edu/warehouse/2013/4/19/ENCFF001QCV.bam mm9-brain-ENCFF001QCV.bam\n",
        "http://encodedcc.sdsc.edu/warehouse/2013/4/19/ENCFF001QCW.bam mm9-brain-ENCFF001QCW.bam\n",
        "http://encodedcc.sdsc.edu/warehouse/2013/4/19/ENCFF001QCY.broadPeak.bigBed mm9-brain-ENCFF001QCY.broadPeak.bigBed\n",
        "http://encodedcc.sdsc.edu/warehouse/2013/4/19/ENCFF001QCZ.broadPeak.bigBed mm9-brain-ENCFF001QCZ.broadPeak.bigBed\n",
        "http://encodedcc.sdsc.edu/warehouse/2013/4/19/ENCFF001QDA.bam mm9-brain-ENCFF001QDA.bam\n",
        "http://encodedcc.sdsc.edu/warehouse/2013/4/19/ENCFF001QDB.broadPeak.bigBed mm9-brain-ENCFF001QDB.broadPeak.bigBed\n",
        "http://encodedcc.sdsc.edu/warehouse/2013/4/19/ENCFF001QDC.broadPeak.bigBed mm9-brain-ENCFF001QDC.broadPeak.bigBed\n",
        "http://encodedcc.sdsc.edu/warehouse/2013/4/19/ENCFF001QDD.broadPeak.bigBed mm9-brain-ENCFF001QDD.broadPeak.bigBed\n",
        "http://encodedcc.sdsc.edu/warehouse/2013/4/19/ENCFF001QDE.broadPeak.bigBed mm9-brain-ENCFF001QDE.broadPeak.bigBed\n",
        "http://encodedcc.sdsc.edu/warehouse/2013/4/19/ENCFF001QDF.bam mm9-brain-ENCFF001QDF.bam\n",
        "http://encodedcc.sdsc.edu/warehouse/2013/4/19/ENCFF001QDH.narrowPeak.bigBed mm9-brain-ENCFF001QDH.narrowPeak.bigBed\n",
        "http://encodedcc.sdsc.edu/warehouse/2013/4/19/ENCFF001QDI.narrowPeak.bigBed mm9-brain-ENCFF001QDI.narrowPeak.bigBed\n",
        "http://encodedcc.sdsc.edu/warehouse/2013/4/19/ENCFF001QDJ.narrowPeak.bigBed mm9-brain-ENCFF001QDJ.narrowPeak.bigBed\n",
        "http://encodedcc.sdsc.edu/warehouse/2013/4/19/ENCFF001QDK.narrowPeak.bigBed mm9-brain-ENCFF001QDK.narrowPeak.bigBed\n",
        "http://encodedcc.sdsc.edu/warehouse/2013/4/19/ENCFF001QDL.narrowPeak.bigBed mm9-brain-ENCFF001QDL.narrowPeak.bigBed\n",
        "http://encodedcc.sdsc.edu/warehouse/2013/4/19/ENCFF001QDM.bam mm9-brain-ENCFF001QDM.bam\n",
        "http://encodedcc.sdsc.edu/warehouse/2013/4/19/ENCFF001QDN.narrowPeak.bigBed mm9-brain-ENCFF001QDN.narrowPeak.bigBed\n",
        "http://encodedcc.sdsc.edu/warehouse/2013/4/19/ENCFF001QDP.fastq.gz mm9-brain-ENCFF001QDP.fastq.gz\n",
        "http://encodedcc.sdsc.edu/warehouse/2013/4/19/ENCFF001QDQ.fastq.gz mm9-brain-ENCFF001QDQ.fastq.gz\n",
        "http://encodedcc.sdsc.edu/warehouse/2013/4/19/ENCFF001QDU.fastq.gz mm9-brain-ENCFF001QDU.fastq.gz\n",
        "http://encodedcc.sdsc.edu/warehouse/2013/4/19/ENCFF001QDV.bigWig mm9-brain-ENCFF001QDV.bigWig\n",
        "http://encodedcc.sdsc.edu/warehouse/2013/4/19/ENCFF001QDW.fastq.gz mm9-brain-ENCFF001QDW.fastq.gz\n",
        "http://encodedcc.sdsc.edu/warehouse/2013/4/19/ENCFF001QDX.bigWig mm9-brain-ENCFF001QDX.bigWig\n",
        "http://encodedcc.sdsc.edu/warehouse/2013/4/19/ENCFF001QDY.bigWig mm9-brain-ENCFF001QDY.bigWig\n",
        "http://encodedcc.sdsc.edu/warehouse/2013/4/19/ENCFF001QDZ.fastq.gz mm9-brain-ENCFF001QDZ.fastq.gz\n",
        "http://encodedcc.sdsc.edu/warehouse/2013/4/19/ENCFF001QEA.bigWig mm9-brain-ENCFF001QEA.bigWig\n",
        "http://encodedcc.sdsc.edu/warehouse/2013/4/19/ENCFF001QEB.bigWig mm9-brain-ENCFF001QEB.bigWig\n",
        "http://encodedcc.sdsc.edu/warehouse/2013/4/19/ENCFF001QEC.fastq.gz mm9-brain-ENCFF001QEC.fastq.gz\n",
        "http://encodedcc.sdsc.edu/warehouse/2013/4/19/ENCFF001QED.bigWig mm9-brain-ENCFF001QED.bigWig\n",
        "http://encodedcc.sdsc.edu/warehouse/2014/1/27/ENCFF001YUN.broadPeak.gz mm9-brain-ENCFF001YUN.broadPeak.gz\n",
        "http://encodedcc.sdsc.edu/warehouse/2014/1/27/ENCFF001YUO.broadPeak.gz mm9-brain-ENCFF001YUO.broadPeak.gz\n",
        "http://encodedcc.sdsc.edu/warehouse/2014/1/27/ENCFF001YUP.broadPeak.gz mm9-brain-ENCFF001YUP.broadPeak.gz\n",
        "http://encodedcc.sdsc.edu/warehouse/2014/1/27/ENCFF001YUQ.broadPeak.gz mm9-brain-ENCFF001YUQ.broadPeak.gz\n",
        "http://encodedcc.sdsc.edu/warehouse/2014/1/27/ENCFF001YUR.broadPeak.gz mm9-brain-ENCFF001YUR.broadPeak.gz\n",
        "http://encodedcc.sdsc.edu/warehouse/2014/1/27/ENCFF001YUS.broadPeak.gz mm9-brain-ENCFF001YUS.broadPeak.gz\n",
        "http://encodedcc.sdsc.edu/warehouse/2014/1/27/ENCFF001YUU.narrowPeak.gz mm9-brain-ENCFF001YUU.narrowPeak.gz\n",
        "http://encodedcc.sdsc.edu/warehouse/2014/1/27/ENCFF001YUV.narrowPeak.gz mm9-brain-ENCFF001YUV.narrowPeak.gz\n",
        "http://encodedcc.sdsc.edu/warehouse/2014/1/27/ENCFF001YUW.narrowPeak.gz mm9-brain-ENCFF001YUW.narrowPeak.gz\n",
        "http://encodedcc.sdsc.edu/warehouse/2014/1/27/ENCFF001YUX.narrowPeak.gz mm9-brain-ENCFF001YUX.narrowPeak.gz\n",
        "http://encodedcc.sdsc.edu/warehouse/2014/1/27/ENCFF001YUY.narrowPeak.gz mm9-brain-ENCFF001YUY.narrowPeak.gz\n",
        "http://encodedcc.sdsc.edu/warehouse/2014/1/27/ENCFF001YUZ.narrowPeak.gz mm9-brain-ENCFF001YUZ.narrowPeak.gz\n",
        "http://encodedcc.sdsc.edu/warehouse/2013/4/18/ENCFF001OYR.broadPeak.bigBed mm9-brain-ENCFF001OYR.broadPeak.bigBed\n",
        "http://encodedcc.sdsc.edu/warehouse/2013/4/18/ENCFF001OYS.narrowPeak.bigBed mm9-brain-ENCFF001OYS.narrowPeak.bigBed\n",
        "http://encodedcc.sdsc.edu/warehouse/2013/4/18/ENCFF001OZD.bigWig mm9-brain-ENCFF001OZD.bigWig\n",
        "http://encodedcc.sdsc.edu/warehouse/2013/4/18/ENCFF001OZE.bigWig mm9-brain-ENCFF001OZE.bigWig\n",
        "http://encodedcc.sdsc.edu/warehouse/2013/4/18/ENCFF001PAP.bam mm9-brain-ENCFF001PAP.bam\n",
        "http://encodedcc.sdsc.edu/warehouse/2013/4/19/ENCFF001QCT.bam mm9-brain-ENCFF001QCT.bam\n",
        "http://encodedcc.sdsc.edu/warehouse/2013/4/19/ENCFF001QCX.broadPeak.bigBed mm9-brain-ENCFF001QCX.broadPeak.bigBed\n",
        "http://encodedcc.sdsc.edu/warehouse/2013/4/19/ENCFF001QDG.narrowPeak.bigBed mm9-brain-ENCFF001QDG.narrowPeak.bigBed\n",
        "http://encodedcc.sdsc.edu/warehouse/2013/4/19/ENCFF001QDO.fastq.gz mm9-brain-ENCFF001QDO.fastq.gz\n",
        "http://encodedcc.sdsc.edu/warehouse/2013/4/19/ENCFF001QDT.bigWig mm9-brain-ENCFF001QDT.bigWig\n",
        "http://encodedcc.sdsc.edu/warehouse/2014/1/27/ENCFF001YMA.broadPeak.gz mm9-brain-ENCFF001YMA.broadPeak.gz\n",
        "http://encodedcc.sdsc.edu/warehouse/2014/1/27/ENCFF001YMB.narrowPeak.gz mm9-brain-ENCFF001YMB.narrowPeak.gz\n",
        "http://encodedcc.sdsc.edu/warehouse/2014/1/27/ENCFF001YUM.broadPeak.gz mm9-brain-ENCFF001YUM.broadPeak.gz\n",
        "http://encodedcc.sdsc.edu/warehouse/2014/1/27/ENCFF001YUT.narrowPeak.gz mm9-brain-ENCFF001YUT.narrowPeak.gz\n",
        "http://encodedcc.sdsc.edu/warehouse/2013/4/18/ENCFF001PFO.bam"
       ]
      },
      {
       "output_type": "stream",
       "stream": "stdout",
       "text": [
        " mm9-telencephalon-ENCFF001PFO.bam\n",
        "http://encodedcc.sdsc.edu/warehouse/2013/4/18/ENCFF001PFP.bam mm9-telencephalon-ENCFF001PFP.bam\n",
        "http://encodedcc.sdsc.edu/warehouse/2013/4/18/ENCFF001PFR.broadPeak.bigBed mm9-telencephalon-ENCFF001PFR.broadPeak.bigBed\n",
        "http://encodedcc.sdsc.edu/warehouse/2013/4/18/ENCFF001PFS.broadPeak.bigBed mm9-telencephalon-ENCFF001PFS.broadPeak.bigBed\n",
        "http://encodedcc.sdsc.edu/warehouse/2013/4/18/ENCFF001PFT.broadPeak.bigBed mm9-telencephalon-ENCFF001PFT.broadPeak.bigBed\n",
        "http://encodedcc.sdsc.edu/warehouse/2013/4/18/ENCFF001PFU.narrowPeak.bigBed mm9-telencephalon-ENCFF001PFU.narrowPeak.bigBed\n",
        "http://encodedcc.sdsc.edu/warehouse/2013/4/18/ENCFF001PFV.narrowPeak.bigBed mm9-telencephalon-ENCFF001PFV.narrowPeak.bigBed\n",
        "http://encodedcc.sdsc.edu/warehouse/2013/4/18/ENCFF001PFW.narrowPeak.bigBed mm9-telencephalon-ENCFF001PFW.narrowPeak.bigBed\n",
        "http://encodedcc.sdsc.edu/warehouse/2013/4/18/ENCFF001PFX.bam mm9-telencephalon-ENCFF001PFX.bam\n",
        "http://encodedcc.sdsc.edu/warehouse/2013/4/18/ENCFF001PFY.bigWig mm9-telencephalon-ENCFF001PFY.bigWig\n",
        "http://encodedcc.sdsc.edu/warehouse/2013/4/18/ENCFF001PFZ.bigWig mm9-telencephalon-ENCFF001PFZ.bigWig\n",
        "http://encodedcc.sdsc.edu/warehouse/2013/4/18/ENCFF001PGA.bigWig mm9-telencephalon-ENCFF001PGA.bigWig\n",
        "http://encodedcc.sdsc.edu/warehouse/2013/4/18/ENCFF001PGB.fastq.gz mm9-telencephalon-ENCFF001PGB.fastq.gz\n",
        "http://encodedcc.sdsc.edu/warehouse/2013/4/18/ENCFF001PGC.fastq.gz mm9-telencephalon-ENCFF001PGC.fastq.gz\n",
        "http://encodedcc.sdsc.edu/warehouse/2013/4/18/ENCFF001PGF.fastq.gz mm9-telencephalon-ENCFF001PGF.fastq.gz\n",
        "http://encodedcc.sdsc.edu/warehouse/2014/1/27/ENCFF001YNM.broadPeak.gz mm9-telencephalon-ENCFF001YNM.broadPeak.gz\n",
        "http://encodedcc.sdsc.edu/warehouse/2014/1/27/ENCFF001YNN.broadPeak.gz mm9-telencephalon-ENCFF001YNN.broadPeak.gz\n",
        "http://encodedcc.sdsc.edu/warehouse/2014/1/27/ENCFF001YNO.broadPeak.gz mm9-telencephalon-ENCFF001YNO.broadPeak.gz\n",
        "http://encodedcc.sdsc.edu/warehouse/2014/1/27/ENCFF001YNP.narrowPeak.gz mm9-telencephalon-ENCFF001YNP.narrowPeak.gz\n",
        "http://encodedcc.sdsc.edu/warehouse/2014/1/27/ENCFF001YNQ.narrowPeak.gz mm9-telencephalon-ENCFF001YNQ.narrowPeak.gz\n",
        "http://encodedcc.sdsc.edu/warehouse/2014/1/27/ENCFF001YNR.narrowPeak.gz mm9-telencephalon-ENCFF001YNR.narrowPeak.gz\n",
        "http://encodedcc.sdsc.edu/warehouse/2013/4/18/ENCFF001PEY.broadPeak.bigBed"
       ]
      },
      {
       "output_type": "stream",
       "stream": "stdout",
       "text": [
        " mm9-cerebellum-ENCFF001PEY.broadPeak.bigBed\n",
        "http://encodedcc.sdsc.edu/warehouse/2013/4/18/ENCFF001PEZ.broadPeak.bigBed mm9-cerebellum-ENCFF001PEZ.broadPeak.bigBed\n",
        "http://encodedcc.sdsc.edu/warehouse/2013/4/18/ENCFF001PFA.narrowPeak.bigBed mm9-cerebellum-ENCFF001PFA.narrowPeak.bigBed\n",
        "http://encodedcc.sdsc.edu/warehouse/2013/4/18/ENCFF001PFB.narrowPeak.bigBed mm9-cerebellum-ENCFF001PFB.narrowPeak.bigBed\n",
        "http://encodedcc.sdsc.edu/warehouse/2013/4/18/ENCFF001PFC.bam mm9-cerebellum-ENCFF001PFC.bam\n",
        "http://encodedcc.sdsc.edu/warehouse/2013/4/18/ENCFF001PFD.fastq.gz mm9-cerebellum-ENCFF001PFD.fastq.gz\n",
        "http://encodedcc.sdsc.edu/warehouse/2013/4/18/ENCFF001PFG.bigWig mm9-cerebellum-ENCFF001PFG.bigWig\n",
        "http://encodedcc.sdsc.edu/warehouse/2013/4/18/ENCFF001PFH.bam mm9-cerebellum-ENCFF001PFH.bam\n",
        "http://encodedcc.sdsc.edu/warehouse/2013/4/18/ENCFF001PFI.bigWig mm9-cerebellum-ENCFF001PFI.bigWig\n",
        "http://encodedcc.sdsc.edu/warehouse/2013/4/18/ENCFF001PFJ.bam mm9-cerebellum-ENCFF001PFJ.bam\n",
        "http://encodedcc.sdsc.edu/warehouse/2013/4/18/ENCFF001PFK.broadPeak.bigBed mm9-cerebellum-ENCFF001PFK.broadPeak.bigBed\n",
        "http://encodedcc.sdsc.edu/warehouse/2013/4/18/ENCFF001PFL.narrowPeak.bigBed mm9-cerebellum-ENCFF001PFL.narrowPeak.bigBed\n",
        "http://encodedcc.sdsc.edu/warehouse/2013/4/18/ENCFF001PFM.bigWig mm9-cerebellum-ENCFF001PFM.bigWig\n",
        "http://encodedcc.sdsc.edu/warehouse/2013/4/18/ENCFF001PFN.fastq.gz mm9-cerebellum-ENCFF001PFN.fastq.gz\n",
        "http://encodedcc.sdsc.edu/warehouse/2013/4/18/ENCFF001PFQ.fastq.gz mm9-cerebellum-ENCFF001PFQ.fastq.gz\n",
        "http://encodedcc.sdsc.edu/warehouse/2014/1/27/ENCFF001YNG.broadPeak.gz mm9-cerebellum-ENCFF001YNG.broadPeak.gz\n",
        "http://encodedcc.sdsc.edu/warehouse/2014/1/27/ENCFF001YNH.broadPeak.gz mm9-cerebellum-ENCFF001YNH.broadPeak.gz\n",
        "http://encodedcc.sdsc.edu/warehouse/2014/1/27/ENCFF001YNI.narrowPeak.gz mm9-cerebellum-ENCFF001YNI.narrowPeak.gz\n",
        "http://encodedcc.sdsc.edu/warehouse/2014/1/27/ENCFF001YNJ.narrowPeak.gz mm9-cerebellum-ENCFF001YNJ.narrowPeak.gz\n",
        "http://encodedcc.sdsc.edu/warehouse/2014/1/27/ENCFF001YNK.broadPeak.gz mm9-cerebellum-ENCFF001YNK.broadPeak.gz\n",
        "http://encodedcc.sdsc.edu/warehouse/2014/1/27/ENCFF001YNL.narrowPeak.gz mm9-cerebellum-ENCFF001YNL.narrowPeak.gz\n",
        "http://encodedcc.sdsc.edu/warehouse/2013/4/15/ENCFF000AFF.narrowPeak.bigBed"
       ]
      },
      {
       "output_type": "stream",
       "stream": "stdout",
       "text": [
        " hg19-choroid plexus epithelial cell-ENCFF000AFF.narrowPeak.bigBed\n",
        "http://encodedcc.sdsc.edu/warehouse/2013/4/18/ENCFF001BBL.broadPeak.bigBed hg19-choroid plexus epithelial cell-ENCFF001BBL.broadPeak.bigBed\n",
        "http://encodedcc.sdsc.edu/warehouse/2013/4/18/ENCFF001BBM.narrowPeak.bigBed hg19-choroid plexus epithelial cell-ENCFF001BBM.narrowPeak.bigBed\n",
        "http://encodedcc.sdsc.edu/warehouse/2013/4/18/ENCFF001BBN.bigWig hg19-choroid plexus epithelial cell-ENCFF001BBN.bigWig\n",
        "http://encodedcc.sdsc.edu/warehouse/2013/4/18/ENCFF001BBP.bigWig hg19-choroid plexus epithelial cell-ENCFF001BBP.bigWig\n",
        "http://encodedcc.sdsc.edu/warehouse/2013/4/18/ENCFF001BDE.bam hg19-choroid plexus epithelial cell-ENCFF001BDE.bam\n",
        "http://encodedcc.sdsc.edu/warehouse/2013/4/18/ENCFF001BGI.fastq.gz hg19-choroid plexus epithelial cell-ENCFF001BGI.fastq.gz\n",
        "http://encodedcc.sdsc.edu/warehouse/2013/4/18/ENCFF001DBK.broadPeak.bigBed hg19-choroid plexus epithelial cell-ENCFF001DBK.broadPeak.bigBed\n",
        "http://encodedcc.sdsc.edu/warehouse/2013/4/18/ENCFF001DBL.bam hg19-choroid plexus epithelial cell-ENCFF001DBL.bam\n",
        "http://encodedcc.sdsc.edu/warehouse/2013/4/18/ENCFF001DBN.narrowPeak.bigBed hg19-choroid plexus epithelial cell-ENCFF001DBN.narrowPeak.bigBed\n",
        "http://encodedcc.sdsc.edu/warehouse/2013/4/18/ENCFF001DBP.bigWig hg19-choroid plexus epithelial cell-ENCFF001DBP.bigWig\n",
        "http://encodedcc.sdsc.edu/warehouse/2013/4/18/ENCFF001DBZ.fastq.gz hg19-choroid plexus epithelial cell-ENCFF001DBZ.fastq.gz\n",
        "http://encodedcc.sdsc.edu/warehouse/2014/1/27/ENCFF001SQT.narrowPeak.gz hg19-choroid plexus epithelial cell-ENCFF001SQT.narrowPeak.gz\n",
        "http://encodedcc.sdsc.edu/warehouse/2014/1/27/ENCFF001VZR.broadPeak.gz hg19-choroid plexus epithelial cell-ENCFF001VZR.broadPeak.gz\n",
        "http://encodedcc.sdsc.edu/warehouse/2014/1/27/ENCFF001VZS.narrowPeak.gz hg19-choroid plexus epithelial cell-ENCFF001VZS.narrowPeak.gz\n",
        "http://encodedcc.sdsc.edu/warehouse/2014/1/27/ENCFF001WIE.broadPeak.gz hg19-choroid plexus epithelial cell-ENCFF001WIE.broadPeak.gz\n",
        "http://encodedcc.sdsc.edu/warehouse/2014/1/27/ENCFF001WIG.narrowPeak.gz hg19-choroid plexus epithelial cell-ENCFF001WIG.narrowPeak.gz\n",
        "http://encodedcc.sdsc.edu/warehouse/2013/4/18/ENCFF001DBI.bam hg19-choroid plexus epithelial cell-ENCFF001DBI.bam\n",
        "http://encodedcc.sdsc.edu/warehouse/2013/4/18/ENCFF001DBJ.broadPeak.bigBed hg19-choroid plexus epithelial cell-ENCFF001DBJ.broadPeak.bigBed\n",
        "http://encodedcc.sdsc.edu/warehouse/2013/4/18/ENCFF001DBM.narrowPeak.bigBed hg19-choroid plexus epithelial cell-ENCFF001DBM.narrowPeak.bigBed\n",
        "http://encodedcc.sdsc.edu/warehouse/2013/4/18/ENCFF001DBO.bigWig hg19-choroid plexus epithelial cell-ENCFF001DBO.bigWig\n",
        "http://encodedcc.sdsc.edu/warehouse/2013/4/18/ENCFF001DBY.fastq.gz hg19-choroid plexus epithelial cell-ENCFF001DBY.fastq.gz\n",
        "http://encodedcc.sdsc.edu/warehouse/2014/1/27/ENCFF001WID.broadPeak.gz hg19-choroid plexus epithelial cell-ENCFF001WID.broadPeak.gz\n",
        "http://encodedcc.sdsc.edu/warehouse/2014/1/27/ENCFF001WIF.narrowPeak.gz hg19-choroid plexus epithelial cell-ENCFF001WIF.narrowPeak.gz\n",
        "http://encodedcc.sdsc.edu/warehouse/2013/4/15/ENCFF000AEW.narrowPeak.bigBed"
       ]
      },
      {
       "output_type": "stream",
       "stream": "stdout",
       "text": [
        " hg19-astrocyte of the cerebellum-ENCFF000AEW.narrowPeak.bigBed\n",
        "http://encodedcc.sdsc.edu/warehouse/2013/4/18/ENCFF001CWT.bam hg19-astrocyte of the cerebellum-ENCFF001CWT.bam\n",
        "http://encodedcc.sdsc.edu/warehouse/2013/4/18/ENCFF001CWU.broadPeak.bigBed hg19-astrocyte of the cerebellum-ENCFF001CWU.broadPeak.bigBed\n",
        "http://encodedcc.sdsc.edu/warehouse/2013/4/18/ENCFF001CWV.broadPeak.bigBed hg19-astrocyte of the cerebellum-ENCFF001CWV.broadPeak.bigBed\n",
        "http://encodedcc.sdsc.edu/warehouse/2013/4/18/ENCFF001CWW.narrowPeak.bigBed hg19-astrocyte of the cerebellum-ENCFF001CWW.narrowPeak.bigBed\n",
        "http://encodedcc.sdsc.edu/warehouse/2013/4/18/ENCFF001CWX.narrowPeak.bigBed hg19-astrocyte of the cerebellum-ENCFF001CWX.narrowPeak.bigBed\n",
        "http://encodedcc.sdsc.edu/warehouse/2013/4/18/ENCFF001CWY.bam hg19-astrocyte of the cerebellum-ENCFF001CWY.bam\n",
        "http://encodedcc.sdsc.edu/warehouse/2013/4/18/ENCFF001CWZ.bigWig hg19-astrocyte of the cerebellum-ENCFF001CWZ.bigWig\n",
        "http://encodedcc.sdsc.edu/warehouse/2013/4/18/ENCFF001CXA.bigWig hg19-astrocyte of the cerebellum-ENCFF001CXA.bigWig\n",
        "http://encodedcc.sdsc.edu/warehouse/2013/4/18/ENCFF001CXD.fastq.gz hg19-astrocyte of the cerebellum-ENCFF001CXD.fastq.gz\n",
        "http://encodedcc.sdsc.edu/warehouse/2013/4/18/ENCFF001CXM.fastq.gz hg19-astrocyte of the cerebellum-ENCFF001CXM.fastq.gz\n",
        "http://encodedcc.sdsc.edu/warehouse/2014/1/27/ENCFF001SQK.narrowPeak.gz hg19-astrocyte of the cerebellum-ENCFF001SQK.narrowPeak.gz\n",
        "http://encodedcc.sdsc.edu/warehouse/2014/1/27/ENCFF001WGN.broadPeak.gz hg19-astrocyte of the cerebellum-ENCFF001WGN.broadPeak.gz\n",
        "http://encodedcc.sdsc.edu/warehouse/2014/1/27/ENCFF001WGO.broadPeak.gz hg19-astrocyte of the cerebellum-ENCFF001WGO.broadPeak.gz\n",
        "http://encodedcc.sdsc.edu/warehouse/2014/1/27/ENCFF001WGP.narrowPeak.gz hg19-astrocyte of the cerebellum-ENCFF001WGP.narrowPeak.gz\n",
        "http://encodedcc.sdsc.edu/warehouse/2014/1/27/ENCFF001WGQ.narrowPeak.gz hg19-astrocyte of the cerebellum-ENCFF001WGQ.narrowPeak.gz\n",
        "http://encodedcc.sdsc.edu/warehouse/2013/4/15/ENCFF000AEY.narrowPeak.bigBed"
       ]
      },
      {
       "output_type": "stream",
       "stream": "stdout",
       "text": [
        " hg19-astrocyte of the hippocampus-ENCFF000AEY.narrowPeak.bigBed\n",
        "http://encodedcc.sdsc.edu/warehouse/2013/4/18/ENCFF001AVJ.broadPeak.bigBed hg19-astrocyte of the hippocampus-ENCFF001AVJ.broadPeak.bigBed\n",
        "http://encodedcc.sdsc.edu/warehouse/2013/4/18/ENCFF001AVK.narrowPeak.bigBed hg19-astrocyte of the hippocampus-ENCFF001AVK.narrowPeak.bigBed\n",
        "http://encodedcc.sdsc.edu/warehouse/2013/4/18/ENCFF001AVL.bigWig hg19-astrocyte of the hippocampus-ENCFF001AVL.bigWig\n",
        "http://encodedcc.sdsc.edu/warehouse/2013/4/18/ENCFF001AVN.fastq.gz hg19-astrocyte of the hippocampus-ENCFF001AVN.fastq.gz\n",
        "http://encodedcc.sdsc.edu/warehouse/2013/4/18/ENCFF001AVO.fastq.gz hg19-astrocyte of the hippocampus-ENCFF001AVO.fastq.gz\n",
        "http://encodedcc.sdsc.edu/warehouse/2013/4/18/ENCFF001AWT.bigWig hg19-astrocyte of the hippocampus-ENCFF001AWT.bigWig\n",
        "http://encodedcc.sdsc.edu/warehouse/2013/4/18/ENCFF001AXX.bam hg19-astrocyte of the hippocampus-ENCFF001AXX.bam\n",
        "http://encodedcc.sdsc.edu/warehouse/2013/4/18/ENCFF001CXP.bam hg19-astrocyte of the hippocampus-ENCFF001CXP.bam\n",
        "http://encodedcc.sdsc.edu/warehouse/2013/4/18/ENCFF001CXQ.broadPeak.bigBed hg19-astrocyte of the hippocampus-ENCFF001CXQ.broadPeak.bigBed\n",
        "http://encodedcc.sdsc.edu/warehouse/2013/4/18/ENCFF001CXS.narrowPeak.bigBed hg19-astrocyte of the hippocampus-ENCFF001CXS.narrowPeak.bigBed\n",
        "http://encodedcc.sdsc.edu/warehouse/2013/4/18/ENCFF001CXU.bigWig hg19-astrocyte of the hippocampus-ENCFF001CXU.bigWig\n",
        "http://encodedcc.sdsc.edu/warehouse/2013/4/18/ENCFF001CYE.fastq.gz hg19-astrocyte of the hippocampus-ENCFF001CYE.fastq.gz\n",
        "http://encodedcc.sdsc.edu/warehouse/2014/1/27/ENCFF001SQM.narrowPeak.gz hg19-astrocyte of the hippocampus-ENCFF001SQM.narrowPeak.gz\n",
        "http://encodedcc.sdsc.edu/warehouse/2014/1/27/ENCFF001VZH.broadPeak.gz hg19-astrocyte of the hippocampus-ENCFF001VZH.broadPeak.gz\n",
        "http://encodedcc.sdsc.edu/warehouse/2014/1/27/ENCFF001VZI.narrowPeak.gz hg19-astrocyte of the hippocampus-ENCFF001VZI.narrowPeak.gz\n",
        "http://encodedcc.sdsc.edu/warehouse/2014/1/27/ENCFF001WGW.broadPeak.gz hg19-astrocyte of the hippocampus-ENCFF001WGW.broadPeak.gz\n",
        "http://encodedcc.sdsc.edu/warehouse/2014/1/27/ENCFF001WGY.narrowPeak.gz hg19-astrocyte of the hippocampus-ENCFF001WGY.narrowPeak.gz\n",
        "http://encodedcc.sdsc.edu/warehouse/2013/4/18/ENCFF001CXN.bam hg19-astrocyte of the hippocampus-ENCFF001CXN.bam\n",
        "http://encodedcc.sdsc.edu/warehouse/2013/4/18/ENCFF001CXO.broadPeak.bigBed hg19-astrocyte of the hippocampus-ENCFF001CXO.broadPeak.bigBed\n",
        "http://encodedcc.sdsc.edu/warehouse/2013/4/18/ENCFF001CXR.narrowPeak.bigBed hg19-astrocyte of the hippocampus-ENCFF001CXR.narrowPeak.bigBed\n",
        "http://encodedcc.sdsc.edu/warehouse/2013/4/18/ENCFF001CXT.bigWig hg19-astrocyte of the hippocampus-ENCFF001CXT.bigWig\n",
        "http://encodedcc.sdsc.edu/warehouse/2013/4/18/ENCFF001CYF.fastq.gz hg19-astrocyte of the hippocampus-ENCFF001CYF.fastq.gz\n",
        "http://encodedcc.sdsc.edu/warehouse/2014/1/27/ENCFF001WGV.broadPeak.gz hg19-astrocyte of the hippocampus-ENCFF001WGV.broadPeak.gz\n",
        "http://encodedcc.sdsc.edu/warehouse/2014/1/27/ENCFF001WGX.narrowPeak.gz hg19-astrocyte of the hippocampus-ENCFF001WGX.narrowPeak.gz\n"
       ]
      }
     ],
     "prompt_number": 16
    },
    {
     "cell_type": "markdown",
     "metadata": {},
     "source": [
      "I did test running the downloader while it was uncommented, but as I'm at an airport the bandwidth isn't really up to downloading a bunch of bioinformatics data.\n",
      "\n",
      "Also other improvements might be to filter the list of what files to download to include just specific file types, for instance just bam files or just fastqs for instance something like this.\n",
      "\n",
      "<code>if attributes[-1].endswith('.bam'):\n",
      "    local_file = '-'.join(attributes)\n",
      "    DownloadFile(file_url, local_file)\n",
      "</code>\n",
      "\n",
      "Other possibilities would be to be able to return information from both the experiment and file objects, the current example doesn't do very much with the information available in the file object."
     ]
    },
    {
     "cell_type": "code",
     "collapsed": false,
     "input": [],
     "language": "python",
     "metadata": {},
     "outputs": []
    }
   ],
   "metadata": {}
  }
 ]
}