{
 "cells": [
  {
   "cell_type": "markdown",
   "metadata": {},
   "source": [
    "# Introduction\n",
    "\n",
    "Ken wanted FPKMs for the ENCODE experiments in a form he can easily import."
   ]
  },
  {
   "cell_type": "code",
   "execution_count": 32,
   "metadata": {
    "collapsed": false
   },
   "outputs": [],
   "source": [
    "import pandas\n",
    "import collections\n",
    "import sys\n",
    "import os\n",
    "import numpy\n",
    "import pprint\n",
    "import time\n",
    "\n",
    "ROOT = os.path.abspath(os.path.join(os.getcwd(), '..'))\n",
    "if ROOT not in sys.path:\n",
    "    sys.path.append(ROOT)\n",
    "import save_rnaseq_madqc"
   ]
  },
  {
   "cell_type": "code",
   "execution_count": 2,
   "metadata": {
    "collapsed": false
   },
   "outputs": [
    {
     "name": "stdout",
     "output_type": "stream",
     "text": [
      "Reading 140 of 1408 records in 0.008967859001131728 seconds\n",
      "Reading 280 of 1408 records in 0.004839356988668442 seconds\n",
      "Reading 420 of 1408 records in 0.006519144008052535 seconds\n",
      "Reading 560 of 1408 records in 0.0071131360018625855 seconds\n",
      "Reading 700 of 1408 records in 0.014910015001078136 seconds\n",
      "Reading 840 of 1408 records in 0.003114136998192407 seconds\n",
      "Reading 980 of 1408 records in 0.04728731499926653 seconds\n",
      "Reading 1120 of 1408 records in 0.047442299997783266 seconds\n",
      "Reading 1260 of 1408 records in 0.02373923300183378 seconds\n",
      "Reading 1400 of 1408 records in 0.005228327994700521 seconds\n",
      "Read 1408 records in 0.16916082399256993 seconds\n"
     ]
    }
   ],
   "source": [
    "query_url = 'search/?type=experiment&assay_term_name=RNA-seq'\n",
    "cache_name = os.path.join(ROOT, 'rnaseq-experiments.shelf')\n",
    "cache = save_rnaseq_madqc.caching_encoded_experiment_loader(query_url, cache_name)"
   ]
  },
  {
   "cell_type": "code",
   "execution_count": 3,
   "metadata": {
    "collapsed": false
   },
   "outputs": [],
   "source": [
    "def filter_experiments_by_size(cache):\n",
    "    for i, experiment_id in enumerate(cache):\n",
    "        experiment = cache[experiment_id]\n",
    "        for replicate in experiment['replicates']:\n",
    "            library = replicate['library']\n",
    "\n",
    "            starting_amount = float(library.get('nucleic_acid_starting_quantity', numpy.nan))\n",
    "            starting_amount_units = library.get('nucleic_acid_starting_quantity_units')\n",
    "            if starting_amount >= 10 and starting_amount_units == 'ng':\n",
    "                yield experiment_id"
   ]
  },
  {
   "cell_type": "code",
   "execution_count": 4,
   "metadata": {
    "collapsed": false
   },
   "outputs": [
    {
     "data": {
      "text/plain": [
       "207"
      ]
     },
     "execution_count": 4,
     "metadata": {},
     "output_type": "execute_result"
    }
   ],
   "source": [
    "len(list(filter_experiments_by_size(cache)))"
   ]
  },
  {
   "cell_type": "code",
   "execution_count": 5,
   "metadata": {
    "collapsed": true
   },
   "outputs": [],
   "source": [
    "def filter_experiments_by_13pg(cache):\n",
    "    for i, experiment_id in enumerate(cache):\n",
    "        experiment = cache[experiment_id]\n",
    "        for replicate in experiment['replicates']:\n",
    "            library = replicate['library']\n",
    "\n",
    "            starting_amount = float(library.get('nucleic_acid_starting_quantity', numpy.nan))\n",
    "            starting_amount_units = library.get('nucleic_acid_starting_quantity_units')\n",
    "            if starting_amount == 13 and starting_amount_units == 'pg':\n",
    "                yield experiment_id"
   ]
  },
  {
   "cell_type": "code",
   "execution_count": 6,
   "metadata": {
    "collapsed": false
   },
   "outputs": [
    {
     "data": {
      "text/plain": [
       "22"
      ]
     },
     "execution_count": 6,
     "metadata": {},
     "output_type": "execute_result"
    }
   ],
   "source": [
    "len(list(filter_experiments_by_13pg(cache)))"
   ]
  },
  {
   "cell_type": "code",
   "execution_count": 7,
   "metadata": {
    "collapsed": true
   },
   "outputs": [],
   "source": [
    "def load_spike_rsems(cache, keys, limit=None):\n",
    "    keys = list(keys)\n",
    "    total = len(keys)\n",
    "    chunk = max(total // 10, 1)\n",
    "    tzero = time.monotonic()\n",
    "    tprev = tzero\n",
    "    \n",
    "    for i, experiment_id in enumerate(keys):\n",
    "        experiment = cache[experiment_id]\n",
    "        fpkms = []\n",
    "        for file in save_rnaseq_madqc.find_rsem(experiment['files']):\n",
    "            url = 'https://www.encodeproject.org' + file.href\n",
    "            fpkm = pandas.read_csv(url, usecols=[0,6], sep='\\t', index_col=0)\n",
    "            fpkm.columns = [file.library_id]\n",
    "            fpkms.append(fpkm)\n",
    "\n",
    "        if fpkms:\n",
    "            yield (experiment_id, pandas.concat(fpkms, axis=1))\n",
    "            \n",
    "        if (i + 1) % chunk == 0:\n",
    "            tnow = time.monotonic()\n",
    "            print(\"{} of {} in {:.2f} sec\".format(\n",
    "                i, total, tnow-tprev))\n",
    "            tprev = tnow\n",
    "\n",
    "        if limit and i > limit:\n",
    "            return"
   ]
  },
  {
   "cell_type": "code",
   "execution_count": 8,
   "metadata": {
    "collapsed": false
   },
   "outputs": [
    {
     "name": "stdout",
     "output_type": "stream",
     "text": [
      "19 of 207 in 41.68 sec\n",
      "39 of 207 in 44.68 sec\n",
      "59 of 207 in 35.54 sec\n",
      "79 of 207 in 33.52 sec\n",
      "99 of 207 in 40.74 sec\n",
      "119 of 207 in 39.22 sec\n",
      "139 of 207 in 20.98 sec\n",
      "159 of 207 in 22.65 sec\n",
      "179 of 207 in 32.32 sec\n",
      "199 of 207 in 34.25 sec\n"
     ]
    }
   ],
   "source": [
    "for experiment_id, fpkms in load_spike_rsems(cache,\n",
    "                                            filter_experiments_by_size(cache)):\n",
    "    filename = os.path.join('/home/diane/tmp/encode-10ng/', experiment_id + '_library_fpkms.csv')\n",
    "    fpkms.to_csv(filename)"
   ]
  },
  {
   "cell_type": "code",
   "execution_count": 9,
   "metadata": {
    "collapsed": false
   },
   "outputs": [
    {
     "name": "stdout",
     "output_type": "stream",
     "text": [
      "1 of 22 in 5.14 sec\n",
      "3 of 22 in 6.27 sec\n",
      "5 of 22 in 4.41 sec\n",
      "7 of 22 in 4.59 sec\n",
      "9 of 22 in 5.35 sec\n",
      "11 of 22 in 7.05 sec\n",
      "13 of 22 in 6.76 sec\n",
      "15 of 22 in 5.16 sec\n",
      "17 of 22 in 6.72 sec\n",
      "19 of 22 in 4.49 sec\n",
      "21 of 22 in 4.70 sec\n"
     ]
    }
   ],
   "source": [
    "for experiment_id, fpkms in load_spike_rsems(\n",
    "      cache,\n",
    "      keys=filter_experiments_by_13pg(cache)\n",
    "    ):\n",
    "    filename = os.path.join('/home/diane/tmp/encode-13pg/', experiment_id + '_library_fpkms.csv')\n",
    "    fpkms.to_csv(filename)"
   ]
  },
  {
   "cell_type": "code",
   "execution_count": 10,
   "metadata": {
    "collapsed": false
   },
   "outputs": [
    {
     "data": {
      "text/plain": [
       "True"
      ]
     },
     "execution_count": 10,
     "metadata": {},
     "output_type": "execute_result"
    }
   ],
   "source": [
    "# master\n",
    "# https://www.encodeproject.org/biosamples/ENCBS195IGI/\n",
    "    \n",
    "biosamples = set(['/biosamples/ENCBS356XKT/',\n",
    "'/biosamples/ENCBS280SII/',\n",
    "'/biosamples/ENCBS950FXN/',\n",
    "'/biosamples/ENCBS036HXX/',\n",
    "'/biosamples/ENCBS638AZC/',\n",
    "'/biosamples/ENCBS879WMA/',\n",
    "'/biosamples/ENCBS158BMT/',\n",
    "'/biosamples/ENCBS901DKW/',\n",
    "'/biosamples/ENCBS381VEV/',\n",
    "'/biosamples/ENCBS913NDQ/',\n",
    "'/biosamples/ENCBS135VMF/',\n",
    "'/biosamples/ENCBS487GLA/',\n",
    "'/biosamples/ENCBS236ZAD/',\n",
    "'/biosamples/ENCBS934CYZ/',\n",
    "'/biosamples/ENCBS383ZNJ/',])\n",
    "\n",
    "'/biosamples/ENCBS487GLA/' in biosamples"
   ]
  },
  {
   "cell_type": "code",
   "execution_count": 11,
   "metadata": {
    "collapsed": false
   },
   "outputs": [
    {
     "name": "stdout",
     "output_type": "stream",
     "text": [
      "ENCSR000AJD RNA-seq of GM12878 bulk prep of 10 ngs\n",
      "ENCSR000AJG RNA-seq of a GM12878 10-11 cell pool\n"
     ]
    },
    {
     "data": {
      "text/plain": [
       "['ENCSR000AJD', 'ENCSR000AJG']"
      ]
     },
     "execution_count": 11,
     "metadata": {},
     "output_type": "execute_result"
    }
   ],
   "source": [
    "def filter_experiments_gm12878paper(cache, limit=None):\n",
    "    for i, experiment_id in enumerate(cache):\n",
    "        experiment = cache[experiment_id]\n",
    "        for replicate in experiment['replicates']:\n",
    "            library = replicate['library']\n",
    "            biosample = library['biosample']\n",
    "            \n",
    "            if biosample['@id'] in biosamples:\n",
    "                print(experiment_id, experiment['description'])\n",
    "                yield experiment_id\n",
    "                break\n",
    "        \n",
    "        if limit and i > limit:\n",
    "            break\n",
    "            \n",
    "list(filter_experiments_gm12878paper(cache))"
   ]
  },
  {
   "cell_type": "code",
   "execution_count": 12,
   "metadata": {
    "collapsed": false
   },
   "outputs": [
    {
     "name": "stdout",
     "output_type": "stream",
     "text": [
      "ENCSR000AJD RNA-seq of GM12878 bulk prep of 10 ngs\n",
      "ENCSR000AJG RNA-seq of a GM12878 10-11 cell pool\n",
      "0 of 2 in 2.31 sec\n",
      "1 of 2 in 2.27 sec\n"
     ]
    }
   ],
   "source": [
    "for experiment_id, fpkms in load_spike_rsems(\n",
    "      cache,\n",
    "      keys=filter_experiments_gm12878paper(cache)\n",
    "    ):\n",
    "    filename = os.path.join('/home/diane/tmp/encode-gm12878paper/', experiment_id + '_library_fpkms.csv')\n",
    "    fpkms.to_csv(filename)"
   ]
  },
  {
   "cell_type": "code",
   "execution_count": 13,
   "metadata": {
    "collapsed": false
   },
   "outputs": [
    {
     "name": "stdout",
     "output_type": "stream",
     "text": [
      "Reading 8 of 88 records in 0.00132876199495513 seconds\n",
      "Reading 16 of 88 records in 0.0014024400006746873 seconds\n",
      "Reading 24 of 88 records in 0.010549728001933545 seconds\n",
      "Reading 32 of 88 records in 0.0051778860070044175 seconds\n",
      "Reading 40 of 88 records in 0.004348331989604048 seconds\n",
      "Reading 48 of 88 records in 0.002396138006588444 seconds\n",
      "Reading 56 of 88 records in 0.0012176989985164255 seconds\n",
      "Reading 64 of 88 records in 0.001245064995600842 seconds\n",
      "Reading 72 of 88 records in 0.0012096749996999279 seconds\n",
      "Reading 80 of 88 records in 0.0014264680066844448 seconds\n",
      "Reading 88 of 88 records in 0.0011516079975990579 seconds\n",
      "Read 88 records in 0.03145380099886097 seconds\n"
     ]
    }
   ],
   "source": [
    "query_url = 'search/?type=experiment&assay_term_name=single+cell+isolation+followed+by+RNA-seq'\n",
    "cache_name = 'rnaseq-singlecell-experiments.shelf'\n",
    "single_cache = save_rnaseq_madqc.caching_encoded_experiment_loader(query_url, cache_name)"
   ]
  },
  {
   "cell_type": "code",
   "execution_count": 14,
   "metadata": {
    "collapsed": false
   },
   "outputs": [
    {
     "name": "stdout",
     "output_type": "stream",
     "text": [
      "ENCSR000AIY RNA-seq of a single GM12878 cell\n",
      "ENCSR000AJH RNA-seq of a single GM12878 cell\n",
      "ENCSR673UIY RNA-seq on single cell equivalents of 10 isolated and homogenized GM12878 cells\n",
      "ENCSR000AJA RNA-seq of a single GM12878 cell\n",
      "ENCSR000AJE RNA-seq of a single GM12878 cell\n",
      "ENCSR184CWK RNA-seq of a single GM12878 cell\n",
      "ENCSR000AJB RNA-seq of a single GM12878 cell\n",
      "ENCSR000AJF RNA-seq of a single GM12878 cell\n",
      "ENCSR625DPZ RNA-seq of a single GM12878 cell\n",
      "ENCSR000AJC RNA-seq of a single GM12878 cell\n",
      "ENCSR767SOH RNA-seq of a single GM12878 cell\n",
      "0 of 11 in 1.16 sec\n",
      "1 of 11 in 1.17 sec\n",
      "2 of 11 in 11.02 sec\n",
      "3 of 11 in 1.15 sec\n",
      "4 of 11 in 1.17 sec\n",
      "5 of 11 in 1.10 sec\n",
      "6 of 11 in 1.32 sec\n",
      "7 of 11 in 1.06 sec\n",
      "8 of 11 in 1.11 sec\n",
      "9 of 11 in 1.13 sec\n",
      "10 of 11 in 1.17 sec\n"
     ]
    }
   ],
   "source": [
    "for experiment_id, fpkms in load_spike_rsems(\n",
    "      single_cache,\n",
    "      keys=filter_experiments_gm12878paper(single_cache)\n",
    "    ):\n",
    "    filename = os.path.join('/home/diane/tmp/encode-gm12878paper/', experiment_id + '_library_fpkms.csv')\n",
    "    fpkms.to_csv(filename)\n",
    "\n"
   ]
  },
  {
   "cell_type": "code",
   "execution_count": null,
   "metadata": {
    "collapsed": true
   },
   "outputs": [],
   "source": [
    "def make_metadata_dataframe(cache, keys):\n",
    "    \"\"\"Return experiment metadata\n",
    "    \"\"\"\n",
    "    for i, experiment_id in enumerate(cache):\n",
    "        experiment = cache[experiment_id]\n",
    "        description = experiment['description']\n",
    "        for replicate in experiment['replicates']:\n",
    "            library = replicate['library']\n",
    "            biosample = library['biosample']\n",
    "                        \n"
   ]
  },
  {
   "cell_type": "code",
   "execution_count": 16,
   "metadata": {
    "collapsed": false
   },
   "outputs": [],
   "source": [
    "df = save_rnaseq_madqc.make_experiment_df({x: cache[x] for x in filter_experiments_by_size(cache)})"
   ]
  },
  {
   "cell_type": "code",
   "execution_count": 23,
   "metadata": {
    "collapsed": true
   },
   "outputs": [],
   "source": [
    "df.to_csv('/home/diane/tmp/encode-10ng/experiment-metadata.csv', index=False)"
   ]
  },
  {
   "cell_type": "code",
   "execution_count": 19,
   "metadata": {
    "collapsed": true
   },
   "outputs": [],
   "source": [
    "df13pg = save_rnaseq_madqc.make_experiment_df({x: cache[x] for x in filter_experiments_by_13pg(cache)})"
   ]
  },
  {
   "cell_type": "code",
   "execution_count": 24,
   "metadata": {
    "collapsed": true
   },
   "outputs": [],
   "source": [
    "df13pg.to_csv('/home/diane/tmp/encode-13pg/experiment-metadata.csv', index=False)"
   ]
  },
  {
   "cell_type": "code",
   "execution_count": 20,
   "metadata": {
    "collapsed": false
   },
   "outputs": [
    {
     "name": "stdout",
     "output_type": "stream",
     "text": [
      "ENCSR000AJD RNA-seq of GM12878 bulk prep of 10 ngs\n",
      "ENCSR000AJG RNA-seq of a GM12878 10-11 cell pool\n"
     ]
    }
   ],
   "source": [
    "gm12878df = save_rnaseq_madqc.make_experiment_df({x: cache[x] for x in filter_experiments_gm12878paper(cache)})"
   ]
  },
  {
   "cell_type": "code",
   "execution_count": 25,
   "metadata": {
    "collapsed": true
   },
   "outputs": [],
   "source": [
    "gm12878df.to_csv('/home/diane/tmp/encode-gm12878paper/experiment-metadata-bulk.csv', index=False)"
   ]
  },
  {
   "cell_type": "code",
   "execution_count": 31,
   "metadata": {
    "collapsed": false
   },
   "outputs": [],
   "source": [
    "# Note no mad scores so this function doesn't work\n",
    "#gm12878df = save_rnaseq_madqc.make_experiment_df({x: single_cache[x] for x in filter_experiments_gm12878paper(single_cache)})"
   ]
  },
  {
   "cell_type": "code",
   "execution_count": 40,
   "metadata": {
    "collapsed": false
   },
   "outputs": [],
   "source": [
    "starting = collections.Counter()\n",
    "labs = collections.Counter()\n",
    "for experiment_id in filter_experiments_by_size(cache):\n",
    "    experiment = cache[experiment_id]\n",
    "    labs[experiment['lab']['@id']] += 1\n",
    "    for replicate in experiment['replicates']:\n",
    "        library = replicate['library']\n",
    "        biosample = library['biosample']\n",
    "        starting_amount = library.get('nucleic_acid_starting_quantity')\n",
    "        starting_amount_units = library.get('nucleic_acid_starting_quantity_units')\n",
    "        starting_label = '{} {}'.format(starting_amount, starting_amount_units)\n",
    "        starting[starting_label] += 1"
   ]
  },
  {
   "cell_type": "code",
   "execution_count": 41,
   "metadata": {
    "collapsed": false
   },
   "outputs": [
    {
     "data": {
      "text/plain": [
       "{'10 ng': 152,\n",
       " '10.0 ng': 112,\n",
       " '100 ng': 8,\n",
       " '1000 ng': 22,\n",
       " '10000 ng': 1,\n",
       " '1217 ng': 1,\n",
       " '12449 ng': 1,\n",
       " '1320 ng': 1,\n",
       " '1326 ng': 1,\n",
       " '1538 ng': 1,\n",
       " '1558 ng': 2,\n",
       " '1634 ng': 1,\n",
       " '1704 ng': 1,\n",
       " '1756 ng': 1,\n",
       " '1837 ng': 1,\n",
       " '1877 ng': 1,\n",
       " '200 ng': 1,\n",
       " '2000 ng': 5,\n",
       " '2419 ng': 1,\n",
       " '2436 ng': 1,\n",
       " '2584 ng': 1,\n",
       " '2640 ng': 3,\n",
       " '2680 ng': 1,\n",
       " '2876 ng': 1,\n",
       " '2970 ng': 1,\n",
       " '3000 ng': 5,\n",
       " '3051 ng': 1,\n",
       " '3565 ng': 1,\n",
       " '3848 ng': 1,\n",
       " '3883 ng': 1,\n",
       " '4000 ng': 3,\n",
       " '4171 ng': 1,\n",
       " '4216 ng': 1,\n",
       " '4252 ng': 1,\n",
       " '4255 ng': 1,\n",
       " '4652 ng': 1,\n",
       " '4777 ng': 1,\n",
       " '4830 ng': 1,\n",
       " '5054 ng': 1,\n",
       " '5280 ng': 2,\n",
       " '6068 ng': 1,\n",
       " '833 ng': 1,\n",
       " '930 ng': 1,\n",
       " 'None None': 1}"
      ]
     },
     "execution_count": 41,
     "metadata": {},
     "output_type": "execute_result"
    }
   ],
   "source": [
    "dict(starting)"
   ]
  },
  {
   "cell_type": "code",
   "execution_count": 42,
   "metadata": {
    "collapsed": false
   },
   "outputs": [
    {
     "data": {
      "text/plain": [
       "{'/labs/barbara-wold/': 136,\n",
       " '/labs/bing-ren/': 1,\n",
       " '/labs/joseph-costello/': 70}"
      ]
     },
     "execution_count": 42,
     "metadata": {},
     "output_type": "execute_result"
    }
   ],
   "source": [
    "dict(labs)"
   ]
  },
  {
   "cell_type": "code",
   "execution_count": 45,
   "metadata": {
    "collapsed": false
   },
   "outputs": [
    {
     "data": {
      "text/plain": [
       "{'1000 ng': 22,\n",
       " '10000 ng': 1,\n",
       " '1217 ng': 1,\n",
       " '12449 ng': 1,\n",
       " '1320 ng': 1,\n",
       " '1326 ng': 1,\n",
       " '1538 ng': 1,\n",
       " '1558 ng': 2,\n",
       " '1634 ng': 1,\n",
       " '1704 ng': 1,\n",
       " '1756 ng': 1,\n",
       " '1837 ng': 1,\n",
       " '1877 ng': 1,\n",
       " '2000 ng': 5,\n",
       " '2419 ng': 1,\n",
       " '2436 ng': 1,\n",
       " '2584 ng': 1,\n",
       " '2640 ng': 3,\n",
       " '2680 ng': 1,\n",
       " '2876 ng': 1,\n",
       " '2970 ng': 1,\n",
       " '3000 ng': 5,\n",
       " '3051 ng': 1,\n",
       " '3565 ng': 1,\n",
       " '3848 ng': 1,\n",
       " '3883 ng': 1,\n",
       " '4000 ng': 3,\n",
       " '4171 ng': 1,\n",
       " '4216 ng': 1,\n",
       " '4252 ng': 1,\n",
       " '4255 ng': 1,\n",
       " '4652 ng': 1,\n",
       " '4777 ng': 1,\n",
       " '4830 ng': 1,\n",
       " '5054 ng': 1,\n",
       " '5280 ng': 2,\n",
       " '6068 ng': 1,\n",
       " '833 ng': 1,\n",
       " '930 ng': 1}"
      ]
     },
     "execution_count": 45,
     "metadata": {},
     "output_type": "execute_result"
    }
   ],
   "source": [
    "starting = collections.Counter()\n",
    "for experiment_id in filter_experiments_by_size(cache):\n",
    "    experiment = cache[experiment_id]\n",
    "    lab = experiment['lab']\n",
    "    if lab['@id'] == '/labs/joseph-costello/':\n",
    "        for replicate in experiment['replicates']:\n",
    "            library = replicate['library']\n",
    "            biosample = library['biosample']\n",
    "            starting_amount = library.get('nucleic_acid_starting_quantity')\n",
    "            starting_amount_units = library.get('nucleic_acid_starting_quantity_units')\n",
    "            starting_label = '{} {}'.format(starting_amount, starting_amount_units)\n",
    "            starting[starting_label] += 1\n",
    "\n",
    "dict(starting)"
   ]
  },
  {
   "cell_type": "code",
   "execution_count": null,
   "metadata": {
    "collapsed": true
   },
   "outputs": [],
   "source": []
  }
 ],
 "metadata": {
  "kernelspec": {
   "display_name": "Python 3",
   "language": "python",
   "name": "python3"
  },
  "language_info": {
   "codemirror_mode": {
    "name": "ipython",
    "version": 3
   },
   "file_extension": ".py",
   "mimetype": "text/x-python",
   "name": "python",
   "nbconvert_exporter": "python",
   "pygments_lexer": "ipython3",
   "version": "3.5.1+"
  }
 },
 "nbformat": 4,
 "nbformat_minor": 0
}
