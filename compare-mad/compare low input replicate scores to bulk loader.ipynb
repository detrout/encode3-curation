{
 "cells": [
  {
   "cell_type": "markdown",
   "metadata": {},
   "source": [
    "# Introduction\n",
    "\n",
    "My comparison notebook has gotten too large, and it contains many things that don't\n",
    "help communicate with the scientists. I'm thinking I should move all the complex data loading code over into a new notebook."
   ]
  },
  {
   "cell_type": "markdown",
   "metadata": {},
   "source": [
    "# Setup\n",
    "\n",
    "* <a href=\"#Load-experiment-data\">Load experiment data</a>\n",
    "  * <a href=\"#Load-13-pg-tissue-experiments\">Load 13 pg tissue experiments</a>\n",
    "    * <a href=\"#List-loaded-13-pg-tissue-experiments\">List loaded 13 pg tissue experiments</a>\n",
    "    * <a href=\"#List-13-pg-tissue-libraries-and-files\">List 13 pg tissue libraries and files</a>\n",
    "    * <a href=\"#Example-13-pg-tissue-correlation-scores\">Example 13 pg tissue correlation scores</a>\n",
    "  * <a href=\"#Load-10-ng-tissue-experiments\">Load 10 ng tissue experiments</a>\n",
    "    * <a href=\"#List-loaded-10-ng-tissue-experiments\">List loaded 10 ng tissue experiments</a>\n",
    "    * <a href=\"#List-10-ng-tissue-libraries-and-files\">List 10 ng tissue libraries and files</a>\n",
    "    * <a href=\"#Example-10-ng-tissue-correlation-scores\">Example 10 ng tissue correlation scores</a>\n",
    "  * <a href=\"#Load-ENCODE-bulk-cell-line-experiments\">Load ENCODE bulk cell line experiments</a>\n",
    "    * <a href=\"#List-Bulk-ENCODE-bulk-cell-line-libraries-and-files\">List ENCODE bulk cell line libraries and files</a>\n",
    "    * <a href=\"#Example-ENCODE-bulk-cell-line-correlation-scores\">Example ENCODE bulk cell line correlation scores</a> \n",
    "  * <a href=\"#Load-pool-split\">Load C57Bl6 layer 5 pyramidal neuron pool/split examples</a>\n",
    "* <a href=\"#Load-Gencode-Gene-ID-to-Gene-Name\">Load gencode gene id to gene name translation table</a>\n",
    "* <a href=\"#Generate-DCC-Library-to-Human-Readable-Names\">Generate DCC Library to Human Readable Names</a>\n",
    "* <a href=\"#Compute-scores-for-all-libraries-vs-all-libraries\">Compute scores for all libraries vs all libraries by experiment set</a>"
   ]
  },
  {
   "cell_type": "code",
   "execution_count": 1,
   "metadata": {
    "collapsed": true
   },
   "outputs": [],
   "source": [
    "from __future__ import print_function, division\n",
    "\n",
    "import pandas\n",
    "import numpy\n",
    "import scipy.stats\n",
    "import collections\n",
    "\n",
    "import paramiko\n",
    "import RDF\n",
    "\n",
    "import curation_common\n",
    "from curation_common import *"
   ]
  },
  {
   "cell_type": "code",
   "execution_count": 2,
   "metadata": {
    "collapsed": true
   },
   "outputs": [],
   "source": [
    "server = ENCODED('www.encodeproject.org')\n",
    "server.load_netrc()"
   ]
  },
  {
   "cell_type": "code",
   "execution_count": 3,
   "metadata": {
    "collapsed": true
   },
   "outputs": [],
   "source": [
    "def load_experiments_by_library(model, libraries, verbose=False):\n",
    "    \"\"\"Load experiment information using DCC Library objects.\n",
    "    \n",
    "    The library objects aren't terribly useful as they don't\n",
    "    point at the experiments and unfortunately files are attached\n",
    "    to the experiments and not libraries or replicates.\n",
    "    \"\"\"\n",
    "    for i, lib_id in enumerate(libraries):\n",
    "        if verbose:\n",
    "            print(lib_id, i, \"of\", len(libraries))\n",
    "        libdata = server.get_jsonld(lib_id)\n",
    "        load_jsonld_into_model(model, libdata)\n",
    "        search_results = server.search_jsonld(searchTerm=lib_id)\n",
    "        for g in search_results['@graph']:\n",
    "            if 'experiment' in g['@type']:\n",
    "                experiment = server.get_jsonld(g['@id'])\n",
    "                load_jsonld_into_model(model, experiment)"
   ]
  },
  {
   "cell_type": "code",
   "execution_count": 4,
   "metadata": {
    "collapsed": true
   },
   "outputs": [],
   "source": [
    "def load_experiments_by_dataset(model, dataset, verbose=False):\n",
    "    \"\"\"Load experiment information using DCC Library objects.\n",
    "    \n",
    "    The library objects aren't terribly useful as they don't\n",
    "    point at the experiments and unfortunately files are attached\n",
    "    to the experiments and not libraries or replicates.\n",
    "    \"\"\"\n",
    "    \n",
    "    jsonld = server.get_jsonld(dataset)\n",
    "    load_jsonld_into_model(model, jsonld)    \n",
    "\n",
    "    query = RDF.SPARQLQuery(\"\"\"@PREFIX replicate <https://www.encodeproject.org/profiles/replicate.json#> .\n",
    "select ?library\n",
    "where {\n",
    "    ?replicate replicate:library ?library .\n",
    "}\n",
    "\"\"\")\n",
    "    libraries = query.execute(model)\n",
    "    for i, row in enumerate(libraries):\n",
    "        lib_id = str(row['library'])\n",
    "        if verbose:\n",
    "            print(lib_id, i, \"of\", len(libraries))\n",
    "        libdata = server.get_jsonld(lib_id)\n",
    "        load_jsonld_into_model(model, libdata)\n"
   ]
  },
  {
   "cell_type": "code",
   "execution_count": 5,
   "metadata": {
    "collapsed": false
   },
   "outputs": [],
   "source": [
    "def load_fpkms(experiment_files):\n",
    "    \"\"\"Load FPKMs out of RSEM results into a pandas dataframe\n",
    "    \n",
    "    Columns will be library accession identifiers.\n",
    "    \"\"\"\n",
    "    TPM_COL = 5\n",
    "    FPKM_COL = 6\n",
    "    libraries = []\n",
    "    fpkms = []\n",
    "    libraries = []\n",
    "    experiments = {}\n",
    "    for i, row in enumerate(experiment_files):\n",
    "        experiment = str(row['experiment'])\n",
    "        library = str(row['library'])[-12:-1]\n",
    "        experiments.setdefault(experiment, []).append(library)\n",
    "        url = str(row['file_href'])\n",
    "        print('loading: {} {}'.format(library, url))\n",
    "        fpkm = pandas.read_csv(url, sep='\\t', index_col=0, usecols=[0, FPKM_COL])\n",
    "        fpkms.append(fpkm['FPKM'])\n",
    "        libraries.append(library)\n",
    "\n",
    "    for key in experiments:\n",
    "        if len(experiments[key]) != 2:\n",
    "            print(\"removing libs of exp {}. [{}]\".format(key, ','.join(experiments[key])))\n",
    "            for lib in experiments[key]:\n",
    "                i = libraries.index(lib)\n",
    "                del fpkms[i]\n",
    "                del libraries[i]\n",
    "\n",
    "    df = pandas.concat(fpkms, axis=1)\n",
    "    df.columns = libraries\n",
    "    return df"
   ]
  },
  {
   "cell_type": "code",
   "execution_count": 6,
   "metadata": {
    "collapsed": true
   },
   "outputs": [],
   "source": [
    "def replicate_scores(table, rep1_name, rep2_name, Acutoff=0):\n",
    "    \"\"\"Compute correlations, MAD, and SD replicate comparison scores\n",
    "    \"\"\"\n",
    "    rep1 = table[rep1_name]\n",
    "    rep2 = table[rep2_name]\n",
    "    \n",
    "    eitherzero = (rep1 == 0) | (rep2 == 0)\n",
    "    replz1 = numpy.log2(rep1[eitherzero != True])\n",
    "    replz2 = numpy.log2(rep2[eitherzero != True])\n",
    "    \n",
    "    M = replz1 - replz2\n",
    "    A = (replz1 + replz2) / 2.0\n",
    "\n",
    "    scores = pandas.Series({\n",
    "        'total rows': len(table),\n",
    "        'passed filter': len(replz1[A > Acutoff]),\n",
    "            \n",
    "        'Naïve Pearson': scipy.stats.pearsonr(rep1, rep2)[0],\n",
    "        'Naïve Spearman': scipy.stats.spearmanr(rep1, rep2)[0],\n",
    "            \n",
    "        'Rafa Pearson': scipy.stats.pearsonr(replz1[A > Acutoff], replz2[A > Acutoff])[0],\n",
    "        'Rafa Spearman': scipy.stats.spearmanr(replz1[A > Acutoff], replz2[A > Acutoff])[0],\n",
    "        'MAD': numpy.round(numpy.median(numpy.abs(M)[A > Acutoff]) * 1.4826, 3),\n",
    "        'SD': numpy.round(numpy.sqrt(numpy.mean(M[A > Acutoff] ** 2)), 3)\n",
    "    },\n",
    "    index = ['total rows', 'passed filter', \n",
    "             'Naïve Pearson', 'Naïve Spearman', \n",
    "             'Rafa Pearson', 'Rafa Spearman',\n",
    "             'MAD', 'SD']\n",
    "    )\n",
    "    return scores"
   ]
  },
  {
   "cell_type": "code",
   "execution_count": 7,
   "metadata": {
    "collapsed": true
   },
   "outputs": [],
   "source": [
    "def compute_all_vs_all_scores(fpkms, Acutoff=0):\n",
    "    \"\"\"Compute all the scores of note for a FPKM table.\n",
    "    \"\"\"\n",
    "    all_scores = collections.OrderedDict()\n",
    "    shape = (len(fpkms.columns),len(fpkms.columns))\n",
    "    for rep1 in fpkms.columns:\n",
    "        for rep2 in fpkms.columns:\n",
    "            scores = replicate_scores(fpkms, rep1, rep2, Acutoff)\n",
    "            for name in scores.keys():\n",
    "                if name not in all_scores:\n",
    "                    all_scores[name] = pandas.DataFrame(\n",
    "                        numpy.zeros(shape),\n",
    "                        index=fpkms.columns,\n",
    "                        columns=fpkms.columns\n",
    "                    )\n",
    "                all_scores[name][rep1][rep2] = scores[name]\n",
    "    return pandas.Panel(all_scores)"
   ]
  },
  {
   "cell_type": "markdown",
   "metadata": {},
   "source": [
    "# Load experiment data\n",
    "\n",
    "## Load 13 pg tissue experiments\n",
    "\n",
    "List of our library IDs that have been uploaded to the DCC\n",
    "\n",
    "https://www.encodeproject.org/datasets/ENCSR901QHQ/"
   ]
  },
  {
   "cell_type": "code",
   "execution_count": 8,
   "metadata": {
    "collapsed": true
   },
   "outputs": [],
   "source": [
    "tissue_13pg_libs = [\n",
    "    'barbara-wold:{}'.format(x) for x in [\n",
    "        14626, 14629, 14495, 14630, 14627, 14631, 14628, 14632,\n",
    "        14499, 14633, 14501, 14634, 14485, 14486, \n",
    "        14487, 14488, 14653, 14654, 14655, 14656, \n",
    "        # TODO: Why are these libraries missing not available as aliases?\n",
    "        # TODO: 14665 = STL 010_liver_GITC_7/1/2014_13pgs\n",
    "        # TODO: 14666 = STL 011_liver_GITC_7/1/2014_13pgs\n",
    "        #14665, 14666, \n",
    "        14635, 14636\n",
    "        ]\n",
    "    ]"
   ]
  },
  {
   "cell_type": "markdown",
   "metadata": {},
   "source": [
    "The load function is a bit complex as files are attached to experiments and not to their library, so we have to search for the library to find the related experiment, and then load the experiment into our model."
   ]
  },
  {
   "cell_type": "code",
   "execution_count": 9,
   "metadata": {
    "collapsed": true
   },
   "outputs": [],
   "source": [
    "tissue_13pg_model = get_model(use_contexts=False)\n",
    "load_experiments_by_library(tissue_13pg_model, tissue_13pg_libs)"
   ]
  },
  {
   "cell_type": "markdown",
   "metadata": {},
   "source": [
    "### List loaded 13 pg tissue experiments"
   ]
  },
  {
   "cell_type": "code",
   "execution_count": 10,
   "metadata": {
    "collapsed": false
   },
   "outputs": [
    {
     "name": "stdout",
     "output_type": "stream",
     "text": [
      "Found 11 rows.\n"
     ]
    },
    {
     "data": {
      "text/html": [
       "<table><tr><td>exp</td><td>description</td></tr><tr><td><a href=\"https://www.encodeproject.org/experiments/ENCSR527RFK/\">experiments:ENCSR527RFK/</a></td><td>Total RNA-seq on postnatal 0 day mouse forebrain (13pgs)</td></tr><tr><td><a href=\"https://www.encodeproject.org/experiments/ENCSR026ZRP/\">experiments:ENCSR026ZRP/</a></td><td>Total RNA-seq on postnatal 0 day mouse midbrain (13pgs)</td></tr><tr><td><a href=\"https://www.encodeproject.org/experiments/ENCSR861FGB/\">experiments:ENCSR861FGB/</a></td><td>Total RNA-seq on postnatal 0 day mouse hindbrain (13pgs)</td></tr><tr><td><a href=\"https://www.encodeproject.org/experiments/ENCSR510ADJ/\">experiments:ENCSR510ADJ/</a></td><td>Total RNA-seq on postnatal 0 day mouse heart (13pg)</td></tr><tr><td><a href=\"https://www.encodeproject.org/experiments/ENCSR950BNG/\">experiments:ENCSR950BNG/</a></td><td>Total RNA-seq on postnatal 0 day mouse liver (13pgs)</td></tr><tr><td><a href=\"https://www.encodeproject.org/experiments/ENCSR265YFZ/\">experiments:ENCSR265YFZ/</a></td><td>Total RNA-seq on postnatal 0 day mouse skeletal muscle (13pgs)</td></tr><tr><td><a href=\"https://www.encodeproject.org/experiments/ENCSR225BBK/\">experiments:ENCSR225BBK/</a></td><td>Total RNA-seq on PGP human bipolar spindle neurons (13pgs)</td></tr><tr><td><a href=\"https://www.encodeproject.org/experiments/ENCSR368QPC/\">experiments:ENCSR368QPC/</a></td><td>Total RNA-seq on PGP human IPS cells (13pgs)</td></tr><tr><td><a href=\"https://www.encodeproject.org/experiments/ENCSR000OXO/\">experiments:ENCSR000OXO/</a></td><td>Total RNA-seq on embryonic 11.5 day mouse forebrain</td></tr><tr><td><a href=\"https://www.encodeproject.org/experiments/ENCSR592MSV/\">experiments:ENCSR592MSV/</a></td><td>Total RNA-seq on embryonic 11.5 day mouse liver</td></tr><tr><td><a href=\"https://www.encodeproject.org/experiments/ENCSR907JUN/\">experiments:ENCSR907JUN/</a></td><td>Total RNA-seq on postnatal 0 day mouse thymus (13pgs)</td></tr></table>"
      ],
      "text/plain": [
       "<rdfmagic.LibRdfResults at 0x7f9ab2e64978>"
      ]
     },
     "execution_count": 10,
     "metadata": {},
     "output_type": "execute_result"
    }
   ],
   "source": [
    "%%sparql -m tissue_13pg_model -c\n",
    "select ?exp ?description\n",
    "where {\n",
    "  ?exp a experiment:experiment ;\n",
    "       rdf:description ?description .\n",
    "}"
   ]
  },
  {
   "cell_type": "markdown",
   "metadata": {},
   "source": [
    "Find gene quantifications files for our current annotation (M4). This was needed as there are quantification runs for M2 and M3 for some of the libraries.\n",
    "\n",
    "(Hopefully we weren't expecting human....)"
   ]
  },
  {
   "cell_type": "code",
   "execution_count": 11,
   "metadata": {
    "collapsed": false
   },
   "outputs": [
    {
     "name": "stdout",
     "output_type": "stream",
     "text": [
      "Found 18 rows.\n"
     ]
    }
   ],
   "source": [
    "%%sparql -m tissue_13pg_model -c -o tissue_13pg_files\n",
    "select ?experiment ?library ?age ?bioname ?genome_annotation ?biorep ?techrep ?file_href \n",
    "where {\n",
    "  ?experiment a experiment:experiment ;\n",
    "              experiment:files ?file .\n",
    "  ?file file:output_type ?output_type ;\n",
    "        file:href ?file_href ;\n",
    "        file:genome_annotation ?genome_annotation ;\n",
    "        file:replicate ?replicate .\n",
    "  ?replicate replicate:library ?library ;\n",
    "             replicate:biological_replicate_number ?biorep ;\n",
    "             replicate:technical_replicate_number ?techrep .\n",
    "  ?library library:aliases ?alias ;\n",
    "           library:biosample ?biosample .\n",
    "  ?biosample biosample:biosample_term_name ?bioname ;\n",
    "             biosample:age ?age .\n",
    "  filter(regex(?output_type, \"gene quantifications\"))\n",
    "  filter(regex(?genome_annotation, \"M4\"))\n",
    "}\n",
    "order by ?experiment ?alias\n",
    "limit 40\n"
   ]
  },
  {
   "cell_type": "markdown",
   "metadata": {},
   "source": [
    "### List 13 pg tissue libraries and files"
   ]
  },
  {
   "cell_type": "code",
   "execution_count": 12,
   "metadata": {
    "collapsed": false
   },
   "outputs": [
    {
     "data": {
      "text/html": [
       "<table><tr><td>experiment</td><td>library</td><td>age</td><td>bioname</td><td>genome_annotation</td><td>biorep</td><td>techrep</td><td>file_href</td></tr><tr><td><a href=\"https://www.encodeproject.org/experiments/ENCSR000OXO/\">experiments:ENCSR000OXO/</a></td><td><a href=\"https://www.encodeproject.org/libraries/ENCLB917PKP/\">libraries:ENCLB917PKP/</a></td><td>11.5</td><td>forebrain</td><td>M4</td><td>1</td><td>1</td><td><a href=\"https://www.encodeproject.org/files/ENCFF005TWA/@@download/ENCFF005TWA.tsv\">files:ENCFF005TWA/@@download/ENCFF005TWA.tsv</a></td></tr><tr><td><a href=\"https://www.encodeproject.org/experiments/ENCSR000OXO/\">experiments:ENCSR000OXO/</a></td><td><a href=\"https://www.encodeproject.org/libraries/ENCLB026BHP/\">libraries:ENCLB026BHP/</a></td><td>11.5</td><td>forebrain</td><td>M4</td><td>2</td><td>1</td><td><a href=\"https://www.encodeproject.org/files/ENCFF550IBS/@@download/ENCFF550IBS.tsv\">files:ENCFF550IBS/@@download/ENCFF550IBS.tsv</a></td></tr><tr><td><a href=\"https://www.encodeproject.org/experiments/ENCSR026ZRP/\">experiments:ENCSR026ZRP/</a></td><td><a href=\"https://www.encodeproject.org/libraries/ENCLB719BQO/\">libraries:ENCLB719BQO/</a></td><td>0</td><td>midbrain</td><td>M4</td><td>1</td><td>1</td><td><a href=\"https://www.encodeproject.org/files/ENCFF091FHP/@@download/ENCFF091FHP.tsv\">files:ENCFF091FHP/@@download/ENCFF091FHP.tsv</a></td></tr><tr><td><a href=\"https://www.encodeproject.org/experiments/ENCSR026ZRP/\">experiments:ENCSR026ZRP/</a></td><td><a href=\"https://www.encodeproject.org/libraries/ENCLB669AEL/\">libraries:ENCLB669AEL/</a></td><td>0</td><td>midbrain</td><td>M4</td><td>2</td><td>1</td><td><a href=\"https://www.encodeproject.org/files/ENCFF447MON/@@download/ENCFF447MON.tsv\">files:ENCFF447MON/@@download/ENCFF447MON.tsv</a></td></tr><tr><td><a href=\"https://www.encodeproject.org/experiments/ENCSR265YFZ/\">experiments:ENCSR265YFZ/</a></td><td><a href=\"https://www.encodeproject.org/libraries/ENCLB304LFK/\">libraries:ENCLB304LFK/</a></td><td>0</td><td>skeletal muscle tissue</td><td>M4</td><td>1</td><td>1</td><td><a href=\"https://www.encodeproject.org/files/ENCFF849RFV/@@download/ENCFF849RFV.tsv\">files:ENCFF849RFV/@@download/ENCFF849RFV.tsv</a></td></tr><tr><td><a href=\"https://www.encodeproject.org/experiments/ENCSR265YFZ/\">experiments:ENCSR265YFZ/</a></td><td><a href=\"https://www.encodeproject.org/libraries/ENCLB096HAH/\">libraries:ENCLB096HAH/</a></td><td>0</td><td>skeletal muscle tissue</td><td>M4</td><td>2</td><td>1</td><td><a href=\"https://www.encodeproject.org/files/ENCFF021FHW/@@download/ENCFF021FHW.tsv\">files:ENCFF021FHW/@@download/ENCFF021FHW.tsv</a></td></tr><tr><td><a href=\"https://www.encodeproject.org/experiments/ENCSR510ADJ/\">experiments:ENCSR510ADJ/</a></td><td><a href=\"https://www.encodeproject.org/libraries/ENCLB652HKH/\">libraries:ENCLB652HKH/</a></td><td>0</td><td>heart</td><td>M4</td><td>1</td><td>1</td><td><a href=\"https://www.encodeproject.org/files/ENCFF408DTF/@@download/ENCFF408DTF.tsv\">files:ENCFF408DTF/@@download/ENCFF408DTF.tsv</a></td></tr><tr><td><a href=\"https://www.encodeproject.org/experiments/ENCSR510ADJ/\">experiments:ENCSR510ADJ/</a></td><td><a href=\"https://www.encodeproject.org/libraries/ENCLB348BMH/\">libraries:ENCLB348BMH/</a></td><td>0</td><td>heart</td><td>M4</td><td>2</td><td>1</td><td><a href=\"https://www.encodeproject.org/files/ENCFF393RNC/@@download/ENCFF393RNC.tsv\">files:ENCFF393RNC/@@download/ENCFF393RNC.tsv</a></td></tr><tr><td><a href=\"https://www.encodeproject.org/experiments/ENCSR527RFK/\">experiments:ENCSR527RFK/</a></td><td><a href=\"https://www.encodeproject.org/libraries/ENCLB766UOB/\">libraries:ENCLB766UOB/</a></td><td>0</td><td>forebrain</td><td>M4</td><td>1</td><td>1</td><td><a href=\"https://www.encodeproject.org/files/ENCFF923GRU/@@download/ENCFF923GRU.tsv\">files:ENCFF923GRU/@@download/ENCFF923GRU.tsv</a></td></tr><tr><td><a href=\"https://www.encodeproject.org/experiments/ENCSR527RFK/\">experiments:ENCSR527RFK/</a></td><td><a href=\"https://www.encodeproject.org/libraries/ENCLB181TCJ/\">libraries:ENCLB181TCJ/</a></td><td>0</td><td>forebrain</td><td>M4</td><td>2</td><td>1</td><td><a href=\"https://www.encodeproject.org/files/ENCFF235UIN/@@download/ENCFF235UIN.tsv\">files:ENCFF235UIN/@@download/ENCFF235UIN.tsv</a></td></tr><tr><td><a href=\"https://www.encodeproject.org/experiments/ENCSR592MSV/\">experiments:ENCSR592MSV/</a></td><td><a href=\"https://www.encodeproject.org/libraries/ENCLB449LBZ/\">libraries:ENCLB449LBZ/</a></td><td>11.5</td><td>liver</td><td>M4</td><td>1</td><td>1</td><td><a href=\"https://www.encodeproject.org/files/ENCFF105NTA/@@download/ENCFF105NTA.tsv\">files:ENCFF105NTA/@@download/ENCFF105NTA.tsv</a></td></tr><tr><td><a href=\"https://www.encodeproject.org/experiments/ENCSR592MSV/\">experiments:ENCSR592MSV/</a></td><td><a href=\"https://www.encodeproject.org/libraries/ENCLB905LVV/\">libraries:ENCLB905LVV/</a></td><td>11.5</td><td>liver</td><td>M4</td><td>2</td><td>1</td><td><a href=\"https://www.encodeproject.org/files/ENCFF344OUR/@@download/ENCFF344OUR.tsv\">files:ENCFF344OUR/@@download/ENCFF344OUR.tsv</a></td></tr><tr><td><a href=\"https://www.encodeproject.org/experiments/ENCSR861FGB/\">experiments:ENCSR861FGB/</a></td><td><a href=\"https://www.encodeproject.org/libraries/ENCLB238LIR/\">libraries:ENCLB238LIR/</a></td><td>0</td><td>hindbrain</td><td>M4</td><td>1</td><td>1</td><td><a href=\"https://www.encodeproject.org/files/ENCFF990TUX/@@download/ENCFF990TUX.tsv\">files:ENCFF990TUX/@@download/ENCFF990TUX.tsv</a></td></tr><tr><td><a href=\"https://www.encodeproject.org/experiments/ENCSR861FGB/\">experiments:ENCSR861FGB/</a></td><td><a href=\"https://www.encodeproject.org/libraries/ENCLB765HDK/\">libraries:ENCLB765HDK/</a></td><td>0</td><td>hindbrain</td><td>M4</td><td>2</td><td>1</td><td><a href=\"https://www.encodeproject.org/files/ENCFF251WJQ/@@download/ENCFF251WJQ.tsv\">files:ENCFF251WJQ/@@download/ENCFF251WJQ.tsv</a></td></tr><tr><td><a href=\"https://www.encodeproject.org/experiments/ENCSR907JUN/\">experiments:ENCSR907JUN/</a></td><td><a href=\"https://www.encodeproject.org/libraries/ENCLB005HHX/\">libraries:ENCLB005HHX/</a></td><td>0</td><td>thymus</td><td>M4</td><td>1</td><td>1</td><td><a href=\"https://www.encodeproject.org/files/ENCFF758UPU/@@download/ENCFF758UPU.tsv\">files:ENCFF758UPU/@@download/ENCFF758UPU.tsv</a></td></tr><tr><td><a href=\"https://www.encodeproject.org/experiments/ENCSR907JUN/\">experiments:ENCSR907JUN/</a></td><td><a href=\"https://www.encodeproject.org/libraries/ENCLB185MNU/\">libraries:ENCLB185MNU/</a></td><td>0</td><td>thymus</td><td>M4</td><td>2</td><td>1</td><td><a href=\"https://www.encodeproject.org/files/ENCFF578EHX/@@download/ENCFF578EHX.tsv\">files:ENCFF578EHX/@@download/ENCFF578EHX.tsv</a></td></tr><tr><td><a href=\"https://www.encodeproject.org/experiments/ENCSR950BNG/\">experiments:ENCSR950BNG/</a></td><td><a href=\"https://www.encodeproject.org/libraries/ENCLB356IIP/\">libraries:ENCLB356IIP/</a></td><td>0</td><td>liver</td><td>M4</td><td>1</td><td>1</td><td><a href=\"https://www.encodeproject.org/files/ENCFF923KGS/@@download/ENCFF923KGS.tsv\">files:ENCFF923KGS/@@download/ENCFF923KGS.tsv</a></td></tr><tr><td><a href=\"https://www.encodeproject.org/experiments/ENCSR950BNG/\">experiments:ENCSR950BNG/</a></td><td><a href=\"https://www.encodeproject.org/libraries/ENCLB791CRT/\">libraries:ENCLB791CRT/</a></td><td>0</td><td>liver</td><td>M4</td><td>2</td><td>1</td><td><a href=\"https://www.encodeproject.org/files/ENCFF023RHI/@@download/ENCFF023RHI.tsv\">files:ENCFF023RHI/@@download/ENCFF023RHI.tsv</a></td></tr></table>"
      ],
      "text/plain": [
       "<rdfmagic.LibRdfResults at 0x7f9ab33d6940>"
      ]
     },
     "execution_count": 12,
     "metadata": {},
     "output_type": "execute_result"
    }
   ],
   "source": [
    "tissue_13pg_files"
   ]
  },
  {
   "cell_type": "code",
   "execution_count": 13,
   "metadata": {
    "collapsed": false
   },
   "outputs": [
    {
     "name": "stdout",
     "output_type": "stream",
     "text": [
      "loading: ENCLB917PKP https://www.encodeproject.org/files/ENCFF005TWA/@@download/ENCFF005TWA.tsv\n",
      "loading: ENCLB026BHP https://www.encodeproject.org/files/ENCFF550IBS/@@download/ENCFF550IBS.tsv\n",
      "loading: ENCLB719BQO https://www.encodeproject.org/files/ENCFF091FHP/@@download/ENCFF091FHP.tsv\n",
      "loading: ENCLB669AEL https://www.encodeproject.org/files/ENCFF447MON/@@download/ENCFF447MON.tsv\n",
      "loading: ENCLB304LFK https://www.encodeproject.org/files/ENCFF849RFV/@@download/ENCFF849RFV.tsv\n",
      "loading: ENCLB096HAH https://www.encodeproject.org/files/ENCFF021FHW/@@download/ENCFF021FHW.tsv\n",
      "loading: ENCLB652HKH https://www.encodeproject.org/files/ENCFF408DTF/@@download/ENCFF408DTF.tsv\n",
      "loading: ENCLB348BMH https://www.encodeproject.org/files/ENCFF393RNC/@@download/ENCFF393RNC.tsv\n",
      "loading: ENCLB766UOB https://www.encodeproject.org/files/ENCFF923GRU/@@download/ENCFF923GRU.tsv\n",
      "loading: ENCLB181TCJ https://www.encodeproject.org/files/ENCFF235UIN/@@download/ENCFF235UIN.tsv\n",
      "loading: ENCLB449LBZ https://www.encodeproject.org/files/ENCFF105NTA/@@download/ENCFF105NTA.tsv\n",
      "loading: ENCLB905LVV https://www.encodeproject.org/files/ENCFF344OUR/@@download/ENCFF344OUR.tsv\n",
      "loading: ENCLB238LIR https://www.encodeproject.org/files/ENCFF990TUX/@@download/ENCFF990TUX.tsv\n",
      "loading: ENCLB765HDK https://www.encodeproject.org/files/ENCFF251WJQ/@@download/ENCFF251WJQ.tsv\n",
      "loading: ENCLB005HHX https://www.encodeproject.org/files/ENCFF758UPU/@@download/ENCFF758UPU.tsv\n",
      "loading: ENCLB185MNU https://www.encodeproject.org/files/ENCFF578EHX/@@download/ENCFF578EHX.tsv\n",
      "loading: ENCLB356IIP https://www.encodeproject.org/files/ENCFF923KGS/@@download/ENCFF923KGS.tsv\n",
      "loading: ENCLB791CRT https://www.encodeproject.org/files/ENCFF023RHI/@@download/ENCFF023RHI.tsv\n"
     ]
    }
   ],
   "source": [
    "tissue_13pg_fpkms = load_fpkms(tissue_13pg_files)"
   ]
  },
  {
   "cell_type": "code",
   "execution_count": 14,
   "metadata": {
    "collapsed": false
   },
   "outputs": [
    {
     "data": {
      "text/plain": [
       "Index(['ENCLB917PKP', 'ENCLB026BHP', 'ENCLB719BQO', 'ENCLB669AEL',\n",
       "       'ENCLB304LFK', 'ENCLB096HAH', 'ENCLB652HKH', 'ENCLB348BMH',\n",
       "       'ENCLB766UOB', 'ENCLB181TCJ', 'ENCLB449LBZ', 'ENCLB905LVV',\n",
       "       'ENCLB238LIR', 'ENCLB765HDK', 'ENCLB005HHX', 'ENCLB185MNU',\n",
       "       'ENCLB356IIP', 'ENCLB791CRT'],\n",
       "      dtype='object')"
      ]
     },
     "execution_count": 14,
     "metadata": {},
     "output_type": "execute_result"
    }
   ],
   "source": [
    "tissue_13pg_fpkms.columns"
   ]
  },
  {
   "cell_type": "markdown",
   "metadata": {},
   "source": [
    "### Example 13 pg tissue correlation scores\n",
    "\n",
    "Replicates from Experiment ENCSR000OXO \n",
    "\n",
    "Scores from <a href=\"http://wiki.encodedcc.org/index.php/File:Lrna_qc_all.xlsx\">Lrna_qc_all.xlsx</a>, to provide at least some verification I reimplmented Rafa's algorithm correction.\n",
    "\n",
    "<table>\n",
    "  <tr><td>Rafa Pearson</td><td>MAD</td><td>Rafa Spearman</td><td>SD</td></tr>\n",
    "  <tr><td>0.5428255</td><td>1.344</td><td>0.6686317</td><td>2.453</td></tr>\n",
    "</table>"
   ]
  },
  {
   "cell_type": "code",
   "execution_count": 15,
   "metadata": {
    "collapsed": false
   },
   "outputs": [
    {
     "data": {
      "text/plain": [
       "total rows        69690.000000\n",
       "passed filter      7888.000000\n",
       "Naïve Pearson         0.969447\n",
       "Naïve Spearman        0.795169\n",
       "Rafa Pearson          0.542825\n",
       "Rafa Spearman         0.668632\n",
       "MAD                   1.344000\n",
       "SD                    2.453000\n",
       "dtype: float64"
      ]
     },
     "execution_count": 15,
     "metadata": {},
     "output_type": "execute_result"
    }
   ],
   "source": [
    "replicate_scores(tissue_13pg_fpkms, 'ENCLB917PKP', 'ENCLB026BHP')"
   ]
  },
  {
   "cell_type": "markdown",
   "metadata": {},
   "source": [
    "## Load 10 ng tissue experiments"
   ]
  },
  {
   "cell_type": "code",
   "execution_count": 16,
   "metadata": {
    "collapsed": true
   },
   "outputs": [],
   "source": [
    "tissue_10ng_libs = [\n",
    "    'barbara-wold:{}'.format(x) for x in [\n",
    "        '15492', '15491', '15490', '15489', '15486', '15485', '15484', '15483',\n",
    "        '15480', '15479', '15478', '15477', '15476', '15475', '15018', '15017',\n",
    "        '15016', '15015', '15012', '15011', '15010', '15009', '15008', '15007', \n",
    "    ]\n",
    "]\n",
    "\n",
    "tissue_10ng_model = get_model(use_contexts=False)\n",
    "load_experiments_by_library(tissue_10ng_model, tissue_10ng_libs)"
   ]
  },
  {
   "cell_type": "markdown",
   "metadata": {},
   "source": [
    "### List loaded 10 ng tissue experiments"
   ]
  },
  {
   "cell_type": "code",
   "execution_count": 17,
   "metadata": {
    "collapsed": false
   },
   "outputs": [
    {
     "name": "stdout",
     "output_type": "stream",
     "text": [
      "Found 12 rows.\n"
     ]
    },
    {
     "data": {
      "text/html": [
       "<table><tr><td>exp</td><td>description</td></tr><tr><td><a href=\"https://www.encodeproject.org/experiments/ENCSR017JEG/\">experiments:ENCSR017JEG/</a></td><td>Total RNA-Seq on postnatal 0 day mouse hindbrain</td></tr><tr><td><a href=\"https://www.encodeproject.org/experiments/ENCSR096STK/\">experiments:ENCSR096STK/</a></td><td>RNA-seq on mouse liver</td></tr><tr><td><a href=\"https://www.encodeproject.org/experiments/ENCSR160IIN/\">experiments:ENCSR160IIN/</a></td><td>Total RNA-seq on 10ng of embryonic 11.5 day mouse forebrain</td></tr><tr><td><a href=\"https://www.encodeproject.org/experiments/ENCSR284AMY/\">experiments:ENCSR284AMY/</a></td><td>Total RNA-seq on 10ng of embryonic 11.5 day mouse liver</td></tr><tr><td><a href=\"https://www.encodeproject.org/experiments/ENCSR307BCA/\">experiments:ENCSR307BCA/</a></td><td>RNA-seq on embryonic 11.5 day mouse midbrain</td></tr><tr><td><a href=\"https://www.encodeproject.org/experiments/ENCSR362AIZ/\">experiments:ENCSR362AIZ/</a></td><td>Total RNA-Seq on postnatal 0 day mouse forebrain</td></tr><tr><td><a href=\"https://www.encodeproject.org/experiments/ENCSR438XCG/\">experiments:ENCSR438XCG/</a></td><td>Total RNA-Seq on postnatal 0 day mouse thymus</td></tr><tr><td><a href=\"https://www.encodeproject.org/experiments/ENCSR526SEX/\">experiments:ENCSR526SEX/</a></td><td>Total RNA-Seq on postnatal 0 day mouse heart</td></tr><tr><td><a href=\"https://www.encodeproject.org/experiments/ENCSR691OPQ/\">experiments:ENCSR691OPQ/</a></td><td>RNA-seq on embryonic 11.5 day mouse heart</td></tr><tr><td><a href=\"https://www.encodeproject.org/experiments/ENCSR719NAJ/\">experiments:ENCSR719NAJ/</a></td><td>Total RNA-Seq on postnatal 0 day mouse midbrain</td></tr><tr><td><a href=\"https://www.encodeproject.org/experiments/ENCSR760TOE/\">experiments:ENCSR760TOE/</a></td><td>RNA-seq on embryonic 11.5 day mouse hindbrain</td></tr><tr><td><a href=\"https://www.encodeproject.org/experiments/ENCSR946HWC/\">experiments:ENCSR946HWC/</a></td><td>Total RNA-Seq on postnatal 0 day mouse skeletal muscle</td></tr></table>"
      ],
      "text/plain": [
       "<rdfmagic.LibRdfResults at 0x7f9aae322e80>"
      ]
     },
     "execution_count": 17,
     "metadata": {},
     "output_type": "execute_result"
    }
   ],
   "source": [
    "%%sparql -m tissue_10ng_model -c\n",
    "select distinct ?exp ?description\n",
    "where {\n",
    "  ?exp a experiment:experiment ;\n",
    "       rdf:description ?description .\n",
    "}\n",
    "group by ?exp\n",
    "order by ?exp"
   ]
  },
  {
   "cell_type": "code",
   "execution_count": 18,
   "metadata": {
    "collapsed": false
   },
   "outputs": [
    {
     "name": "stdout",
     "output_type": "stream",
     "text": [
      "Found 11 rows.\n"
     ]
    }
   ],
   "source": [
    "%%sparql -m tissue_10ng_model -c -o tissue_10ng_files\n",
    "select ?experiment ?library ?age ?bioname ?genome_annotation ?biorep ?techrep ?output_type ?file_href\n",
    "where {\n",
    "    ?experiment a experiment:experiment .\n",
    "    ?experiment experiment:files ?file .\n",
    "    ?file file:output_type ?output_type ;\n",
    "          file:href ?file_href ;\n",
    "          file:genome_annotation ?genome_annotation ;\n",
    "          file:replicate ?replicate .\n",
    "    ?replicate replicate:library ?library ;\n",
    "               replicate:biological_replicate_number ?biorep ;\n",
    "               replicate:technical_replicate_number ?techrep .\n",
    "    ?library library:aliases ?alias ;\n",
    "             library:biosample ?biosample .\n",
    "    ?biosample biosample:biosample_term_name ?bioname ;\n",
    "               biosample:age ?age .    \n",
    "    filter(regex(?output_type, \"gene quantifications\"))        \n",
    "    #filter(regex(?genome_annotation, \"(M4)|(V19)\"))\n",
    "}\n",
    "order by ?experiment ?alias\n",
    "limit 40\n"
   ]
  },
  {
   "cell_type": "markdown",
   "metadata": {
    "collapsed": true
   },
   "source": [
    "### List 10 ng tissue libraries and files"
   ]
  },
  {
   "cell_type": "code",
   "execution_count": 19,
   "metadata": {
    "collapsed": false
   },
   "outputs": [
    {
     "data": {
      "text/html": [
       "<table><tr><td>experiment</td><td>library</td><td>age</td><td>bioname</td><td>genome_annotation</td><td>biorep</td><td>techrep</td><td>output_type</td><td>file_href</td></tr><tr><td><a href=\"https://www.encodeproject.org/experiments/ENCSR160IIN/\">experiments:ENCSR160IIN/</a></td><td><a href=\"https://www.encodeproject.org/libraries/ENCLB835LVO/\">libraries:ENCLB835LVO/</a></td><td>11.5</td><td>forebrain</td><td>M4</td><td>1</td><td>1</td><td>gene quantifications</td><td><a href=\"https://www.encodeproject.org/files/ENCFF376TIM/@@download/ENCFF376TIM.tsv\">files:ENCFF376TIM/@@download/ENCFF376TIM.tsv</a></td></tr><tr><td><a href=\"https://www.encodeproject.org/experiments/ENCSR160IIN/\">experiments:ENCSR160IIN/</a></td><td><a href=\"https://www.encodeproject.org/libraries/ENCLB471QMM/\">libraries:ENCLB471QMM/</a></td><td>11.5</td><td>forebrain</td><td>M4</td><td>2</td><td>1</td><td>gene quantifications</td><td><a href=\"https://www.encodeproject.org/files/ENCFF033VVD/@@download/ENCFF033VVD.tsv\">files:ENCFF033VVD/@@download/ENCFF033VVD.tsv</a></td></tr><tr><td><a href=\"https://www.encodeproject.org/experiments/ENCSR284AMY/\">experiments:ENCSR284AMY/</a></td><td><a href=\"https://www.encodeproject.org/libraries/ENCLB055KYV/\">libraries:ENCLB055KYV/</a></td><td>11.5</td><td>liver</td><td>M4</td><td>1</td><td>1</td><td>gene quantifications</td><td><a href=\"https://www.encodeproject.org/files/ENCFF645HNE/@@download/ENCFF645HNE.tsv\">files:ENCFF645HNE/@@download/ENCFF645HNE.tsv</a></td></tr><tr><td><a href=\"https://www.encodeproject.org/experiments/ENCSR284AMY/\">experiments:ENCSR284AMY/</a></td><td><a href=\"https://www.encodeproject.org/libraries/ENCLB357KYA/\">libraries:ENCLB357KYA/</a></td><td>11.5</td><td>liver</td><td>M4</td><td>2</td><td>1</td><td>gene quantifications</td><td><a href=\"https://www.encodeproject.org/files/ENCFF081XJC/@@download/ENCFF081XJC.tsv\">files:ENCFF081XJC/@@download/ENCFF081XJC.tsv</a></td></tr><tr><td><a href=\"https://www.encodeproject.org/experiments/ENCSR307BCA/\">experiments:ENCSR307BCA/</a></td><td><a href=\"https://www.encodeproject.org/libraries/ENCLB659UFY/\">libraries:ENCLB659UFY/</a></td><td>11.5</td><td>midbrain</td><td>M4</td><td>1</td><td>1</td><td>gene quantifications</td><td><a href=\"https://www.encodeproject.org/files/ENCFF877LFX/@@download/ENCFF877LFX.tsv\">files:ENCFF877LFX/@@download/ENCFF877LFX.tsv</a></td></tr><tr><td><a href=\"https://www.encodeproject.org/experiments/ENCSR307BCA/\">experiments:ENCSR307BCA/</a></td><td><a href=\"https://www.encodeproject.org/libraries/ENCLB426JKF/\">libraries:ENCLB426JKF/</a></td><td>11.5</td><td>midbrain</td><td>M4</td><td>2</td><td>1</td><td>gene quantifications</td><td><a href=\"https://www.encodeproject.org/files/ENCFF227YZV/@@download/ENCFF227YZV.tsv\">files:ENCFF227YZV/@@download/ENCFF227YZV.tsv</a></td></tr><tr><td><a href=\"https://www.encodeproject.org/experiments/ENCSR362AIZ/\">experiments:ENCSR362AIZ/</a></td><td><a href=\"https://www.encodeproject.org/libraries/ENCLB266LCY/\">libraries:ENCLB266LCY/</a></td><td>0</td><td>forebrain</td><td>M4</td><td>1</td><td>1</td><td>gene quantifications</td><td><a href=\"https://www.encodeproject.org/files/ENCFF263IMV/@@download/ENCFF263IMV.tsv\">files:ENCFF263IMV/@@download/ENCFF263IMV.tsv</a></td></tr><tr><td><a href=\"https://www.encodeproject.org/experiments/ENCSR691OPQ/\">experiments:ENCSR691OPQ/</a></td><td><a href=\"https://www.encodeproject.org/libraries/ENCLB601XLL/\">libraries:ENCLB601XLL/</a></td><td>11.5</td><td>heart</td><td>M4</td><td>1</td><td>1</td><td>gene quantifications</td><td><a href=\"https://www.encodeproject.org/files/ENCFF471VWH/@@download/ENCFF471VWH.tsv\">files:ENCFF471VWH/@@download/ENCFF471VWH.tsv</a></td></tr><tr><td><a href=\"https://www.encodeproject.org/experiments/ENCSR691OPQ/\">experiments:ENCSR691OPQ/</a></td><td><a href=\"https://www.encodeproject.org/libraries/ENCLB347FRI/\">libraries:ENCLB347FRI/</a></td><td>11.5</td><td>heart</td><td>M4</td><td>2</td><td>1</td><td>gene quantifications</td><td><a href=\"https://www.encodeproject.org/files/ENCFF764BLU/@@download/ENCFF764BLU.tsv\">files:ENCFF764BLU/@@download/ENCFF764BLU.tsv</a></td></tr><tr><td><a href=\"https://www.encodeproject.org/experiments/ENCSR760TOE/\">experiments:ENCSR760TOE/</a></td><td><a href=\"https://www.encodeproject.org/libraries/ENCLB454ZUS/\">libraries:ENCLB454ZUS/</a></td><td>11.5</td><td>hindbrain</td><td>M4</td><td>1</td><td>1</td><td>gene quantifications</td><td><a href=\"https://www.encodeproject.org/files/ENCFF612QXM/@@download/ENCFF612QXM.tsv\">files:ENCFF612QXM/@@download/ENCFF612QXM.tsv</a></td></tr><tr><td><a href=\"https://www.encodeproject.org/experiments/ENCSR760TOE/\">experiments:ENCSR760TOE/</a></td><td><a href=\"https://www.encodeproject.org/libraries/ENCLB061TDP/\">libraries:ENCLB061TDP/</a></td><td>11.5</td><td>hindbrain</td><td>M4</td><td>2</td><td>1</td><td>gene quantifications</td><td><a href=\"https://www.encodeproject.org/files/ENCFF621ECM/@@download/ENCFF621ECM.tsv\">files:ENCFF621ECM/@@download/ENCFF621ECM.tsv</a></td></tr></table>"
      ],
      "text/plain": [
       "<rdfmagic.LibRdfResults at 0x7f9aae322860>"
      ]
     },
     "execution_count": 19,
     "metadata": {},
     "output_type": "execute_result"
    }
   ],
   "source": [
    "tissue_10ng_files"
   ]
  },
  {
   "cell_type": "code",
   "execution_count": 20,
   "metadata": {
    "collapsed": false,
    "scrolled": true
   },
   "outputs": [
    {
     "name": "stdout",
     "output_type": "stream",
     "text": [
      "loading: ENCLB835LVO https://www.encodeproject.org/files/ENCFF376TIM/@@download/ENCFF376TIM.tsv\n",
      "loading: ENCLB471QMM https://www.encodeproject.org/files/ENCFF033VVD/@@download/ENCFF033VVD.tsv\n",
      "loading: ENCLB055KYV https://www.encodeproject.org/files/ENCFF645HNE/@@download/ENCFF645HNE.tsv\n",
      "loading: ENCLB357KYA https://www.encodeproject.org/files/ENCFF081XJC/@@download/ENCFF081XJC.tsv\n",
      "loading: ENCLB659UFY https://www.encodeproject.org/files/ENCFF877LFX/@@download/ENCFF877LFX.tsv\n",
      "loading: ENCLB426JKF https://www.encodeproject.org/files/ENCFF227YZV/@@download/ENCFF227YZV.tsv\n",
      "loading: ENCLB266LCY https://www.encodeproject.org/files/ENCFF263IMV/@@download/ENCFF263IMV.tsv\n",
      "loading: ENCLB601XLL https://www.encodeproject.org/files/ENCFF471VWH/@@download/ENCFF471VWH.tsv\n",
      "loading: ENCLB347FRI https://www.encodeproject.org/files/ENCFF764BLU/@@download/ENCFF764BLU.tsv\n",
      "loading: ENCLB454ZUS https://www.encodeproject.org/files/ENCFF612QXM/@@download/ENCFF612QXM.tsv\n",
      "loading: ENCLB061TDP https://www.encodeproject.org/files/ENCFF621ECM/@@download/ENCFF621ECM.tsv\n",
      "removing libs of exp https://www.encodeproject.org/experiments/ENCSR362AIZ/. [ENCLB266LCY]\n"
     ]
    }
   ],
   "source": [
    "tissue_10ng_fpkms = load_fpkms(tissue_10ng_files)"
   ]
  },
  {
   "cell_type": "code",
   "execution_count": 21,
   "metadata": {
    "collapsed": false
   },
   "outputs": [
    {
     "data": {
      "text/plain": [
       "Index(['ENCLB835LVO', 'ENCLB471QMM', 'ENCLB055KYV', 'ENCLB357KYA',\n",
       "       'ENCLB659UFY', 'ENCLB426JKF', 'ENCLB601XLL', 'ENCLB347FRI',\n",
       "       'ENCLB454ZUS', 'ENCLB061TDP'],\n",
       "      dtype='object')"
      ]
     },
     "execution_count": 21,
     "metadata": {},
     "output_type": "execute_result"
    }
   ],
   "source": [
    "tissue_10ng_fpkms.columns"
   ]
  },
  {
   "cell_type": "markdown",
   "metadata": {
    "collapsed": true
   },
   "source": [
    "### Example 10 ng tissue correlation scores\n",
    "\n",
    "replicate scores for experiment ENCSR760TOE\n",
    "\n",
    "Scores from <a href=\"http://wiki.encodedcc.org/index.php/File:Lrna_qc_all.xlsx\">Lrna_qc_all.xlsx</a>, to provide at least some verification I reimplmented Rafa's algorithm correction.\n",
    "\n",
    "<table>\n",
    "  <tr><td>Rafa Pearson</td><td>MAD</td><td>Rafa Spearman</td><td>SD</td></tr>\n",
    "  <tr><td>0.9873127</td><td>0.238</td><td>0.9882345</td><td>0.331</td></tr>\n",
    "</table>\n",
    "\n",
    "(The Pearson is very slightly different, but could be plausible a difference in rounding.)"
   ]
  },
  {
   "cell_type": "code",
   "execution_count": 22,
   "metadata": {
    "collapsed": false
   },
   "outputs": [
    {
     "data": {
      "text/plain": [
       "total rows        69690.000000\n",
       "passed filter     13761.000000\n",
       "Naïve Pearson         0.992520\n",
       "Naïve Spearman        0.942254\n",
       "Rafa Pearson          0.987313\n",
       "Rafa Spearman         0.988234\n",
       "MAD                   0.238000\n",
       "SD                    0.331000\n",
       "dtype: float64"
      ]
     },
     "execution_count": 22,
     "metadata": {},
     "output_type": "execute_result"
    }
   ],
   "source": [
    "replicate_scores(tissue_10ng_fpkms, 'ENCLB454ZUS', 'ENCLB061TDP')"
   ]
  },
  {
   "cell_type": "markdown",
   "metadata": {
    "collapsed": true
   },
   "source": [
    "## Load ENCODE bulk cell line experiments"
   ]
  },
  {
   "cell_type": "code",
   "execution_count": 23,
   "metadata": {
    "collapsed": true
   },
   "outputs": [],
   "source": [
    "bulk_cell_line_model = get_model()\n",
    "bulk_cell_line_evaluation = server.get_jsonld('https://www.encodeproject.org/datasets/ENCSR000AJW/')\n",
    "load_jsonld_into_model(bulk_cell_line_model, bulk_cell_line_evaluation)"
   ]
  },
  {
   "cell_type": "markdown",
   "metadata": {},
   "source": [
    "Load in additional information about libraries so we can get at the nucelic acid and biosample term name."
   ]
  },
  {
   "cell_type": "code",
   "execution_count": 24,
   "metadata": {
    "collapsed": false
   },
   "outputs": [
    {
     "name": "stdout",
     "output_type": "stream",
     "text": [
      "Found 24 rows.\n"
     ]
    },
    {
     "name": "stderr",
     "output_type": "stream",
     "text": [
      "/usr/lib/python3/dist-packages/RDF.py:2014: RedlandWarning: Variable replicate was bound but is unused in the query\n",
      "  results = Redland.librdf_query_execute(self._query,model._model)\n"
     ]
    }
   ],
   "source": [
    "%%sparql -m bulk_cell_line_model -c -o bulk_cell_line_libraries\n",
    "select ?library\n",
    "where {\n",
    "    ?replicate replicate:library ?library .\n",
    "}"
   ]
  },
  {
   "cell_type": "code",
   "execution_count": 25,
   "metadata": {
    "collapsed": false
   },
   "outputs": [],
   "source": [
    "for row in bulk_cell_line_libraries:\n",
    "    load_jsonld_into_model(\n",
    "        bulk_cell_line_model,\n",
    "        server.get_jsonld(str(row['library']))\n",
    "    )"
   ]
  },
  {
   "cell_type": "code",
   "execution_count": 26,
   "metadata": {
    "collapsed": false
   },
   "outputs": [],
   "source": [
    "load_jsonld_into_model(bulk_cell_line_model, server.get_jsonld(\"https://www.encodeproject.org/files/ENCFF782PCD/\"))\n",
    "load_jsonld_into_model(bulk_cell_line_model, server.get_jsonld(\"https://www.encodeproject.org/files/ENCFF902SEE/\"))"
   ]
  },
  {
   "cell_type": "code",
   "execution_count": 27,
   "metadata": {
    "collapsed": false
   },
   "outputs": [
    {
     "name": "stdout",
     "output_type": "stream",
     "text": [
      "Found 24 rows.\n"
     ]
    }
   ],
   "source": [
    "%%sparql -m bulk_cell_line_model -c -o bulk_cell_line_files\n",
    "select ?labname ?experiment ?library ?bioname ?na_term ?file_href ?output_type ?genome_annotation ?biorep ?techrep\n",
    "     \n",
    "where {\n",
    "  ?experiment a experiment:experiment ;\n",
    "              experiment:lab ?lab ;\n",
    "              experiment:files ?file .\n",
    "  ?file file:output_type ?output_type ;\n",
    "        file:href ?file_href ;\n",
    "        file:genome_annotation ?genome_annotation ;\n",
    "        file:replicate ?replicate . \n",
    "  ?replicate replicate:library ?library ;\n",
    "             replicate:biological_replicate_number ?biorep ;\n",
    "             replicate:technical_replicate_number ?techrep .\n",
    "  ?library library:biosample ?biosample ;\n",
    "           library:nucleic_acid_term_name ?na_term .\n",
    "  ?biosample biosample:biosample_term_name ?bioname .\n",
    "  ?lab <https://www.encodeproject.org/profiles/lab.json#name> ?labname .\n",
    "    \n",
    "  filter(regex(?output_type, \"gene quantifications\"))\n",
    "}\n",
    "order by ?labname ?experiment ?library\n",
    "limit 40\n"
   ]
  },
  {
   "cell_type": "markdown",
   "metadata": {
    "collapsed": true
   },
   "source": [
    "## List Bulk ENCODE bulk cell line libraries and files"
   ]
  },
  {
   "cell_type": "code",
   "execution_count": 28,
   "metadata": {
    "collapsed": false
   },
   "outputs": [
    {
     "data": {
      "text/html": [
       "<table><tr><td>labname</td><td>experiment</td><td>library</td><td>bioname</td><td>na_term</td><td>file_href</td><td>output_type</td><td>genome_annotation</td><td>biorep</td><td>techrep</td></tr><tr><td>barbara-wold</td><td><a href=\"https://www.encodeproject.org/experiments/ENCSR000AEG/\">experiments:ENCSR000AEG/</a></td><td><a href=\"https://www.encodeproject.org/libraries/ENCLB043ZZZ/\">libraries:ENCLB043ZZZ/</a></td><td>GM12878</td><td>RNA</td><td><a href=\"https://www.encodeproject.org/files/ENCFF486PVW/@@download/ENCFF486PVW.tsv\">files:ENCFF486PVW/@@download/ENCFF486PVW.tsv</a></td><td>gene quantifications</td><td>V19</td><td>1</td><td>1</td></tr><tr><td>barbara-wold</td><td><a href=\"https://www.encodeproject.org/experiments/ENCSR000AEG/\">experiments:ENCSR000AEG/</a></td><td><a href=\"https://www.encodeproject.org/libraries/ENCLB044ZZZ/\">libraries:ENCLB044ZZZ/</a></td><td>GM12878</td><td>RNA</td><td><a href=\"https://www.encodeproject.org/files/ENCFF428CJQ/@@download/ENCFF428CJQ.tsv\">files:ENCFF428CJQ/@@download/ENCFF428CJQ.tsv</a></td><td>gene quantifications</td><td>V19</td><td>2</td><td>1</td></tr><tr><td>barbara-wold</td><td><a href=\"https://www.encodeproject.org/experiments/ENCSR000AEH/\">experiments:ENCSR000AEH/</a></td><td><a href=\"https://www.encodeproject.org/libraries/ENCLB045ZZZ/\">libraries:ENCLB045ZZZ/</a></td><td>GM12878</td><td>polyadenylated mRNA</td><td><a href=\"https://www.encodeproject.org/files/ENCFF745IAF/@@download/ENCFF745IAF.tsv\">files:ENCFF745IAF/@@download/ENCFF745IAF.tsv</a></td><td>gene quantifications</td><td>V19</td><td>1</td><td>1</td></tr><tr><td>barbara-wold</td><td><a href=\"https://www.encodeproject.org/experiments/ENCSR000AEH/\">experiments:ENCSR000AEH/</a></td><td><a href=\"https://www.encodeproject.org/libraries/ENCLB046ZZZ/\">libraries:ENCLB046ZZZ/</a></td><td>GM12878</td><td>polyadenylated mRNA</td><td><a href=\"https://www.encodeproject.org/files/ENCFF830IVF/@@download/ENCFF830IVF.tsv\">files:ENCFF830IVF/@@download/ENCFF830IVF.tsv</a></td><td>gene quantifications</td><td>V19</td><td>2</td><td>1</td></tr><tr><td>barbara-wold</td><td><a href=\"https://www.encodeproject.org/experiments/ENCSR000AEP/\">experiments:ENCSR000AEP/</a></td><td><a href=\"https://www.encodeproject.org/libraries/ENCLB061ZZZ/\">libraries:ENCLB061ZZZ/</a></td><td>K562</td><td>RNA</td><td><a href=\"https://www.encodeproject.org/files/ENCFF771MAN/@@download/ENCFF771MAN.tsv\">files:ENCFF771MAN/@@download/ENCFF771MAN.tsv</a></td><td>gene quantifications</td><td>V19</td><td>1</td><td>1</td></tr><tr><td>barbara-wold</td><td><a href=\"https://www.encodeproject.org/experiments/ENCSR000AEP/\">experiments:ENCSR000AEP/</a></td><td><a href=\"https://www.encodeproject.org/libraries/ENCLB062ZZZ/\">libraries:ENCLB062ZZZ/</a></td><td>K562</td><td>RNA</td><td><a href=\"https://www.encodeproject.org/files/ENCFF806RDV/@@download/ENCFF806RDV.tsv\">files:ENCFF806RDV/@@download/ENCFF806RDV.tsv</a></td><td>gene quantifications</td><td>V19</td><td>2</td><td>1</td></tr><tr><td>barbara-wold</td><td><a href=\"https://www.encodeproject.org/experiments/ENCSR000AEQ/\">experiments:ENCSR000AEQ/</a></td><td><a href=\"https://www.encodeproject.org/libraries/ENCLB063ZZZ/\">libraries:ENCLB063ZZZ/</a></td><td>K562</td><td>polyadenylated mRNA</td><td><a href=\"https://www.encodeproject.org/files/ENCFF176ACR/@@download/ENCFF176ACR.tsv\">files:ENCFF176ACR/@@download/ENCFF176ACR.tsv</a></td><td>gene quantifications</td><td>V19</td><td>1</td><td>1</td></tr><tr><td>barbara-wold</td><td><a href=\"https://www.encodeproject.org/experiments/ENCSR000AEQ/\">experiments:ENCSR000AEQ/</a></td><td><a href=\"https://www.encodeproject.org/libraries/ENCLB064ZZZ/\">libraries:ENCLB064ZZZ/</a></td><td>K562</td><td>polyadenylated mRNA</td><td><a href=\"https://www.encodeproject.org/files/ENCFF456PAW/@@download/ENCFF456PAW.tsv\">files:ENCFF456PAW/@@download/ENCFF456PAW.tsv</a></td><td>gene quantifications</td><td>V19</td><td>2</td><td>1</td></tr><tr><td>brenton-graveley</td><td><a href=\"https://www.encodeproject.org/experiments/ENCSR000AEE/\">experiments:ENCSR000AEE/</a></td><td><a href=\"https://www.encodeproject.org/libraries/ENCLB039ZZZ/\">libraries:ENCLB039ZZZ/</a></td><td>GM12878</td><td>RNA</td><td><a href=\"https://www.encodeproject.org/files/ENCFF009ZXH/@@download/ENCFF009ZXH.tsv\">files:ENCFF009ZXH/@@download/ENCFF009ZXH.tsv</a></td><td>gene quantifications</td><td>V19</td><td>1</td><td>1</td></tr><tr><td>brenton-graveley</td><td><a href=\"https://www.encodeproject.org/experiments/ENCSR000AEE/\">experiments:ENCSR000AEE/</a></td><td><a href=\"https://www.encodeproject.org/libraries/ENCLB040ZZZ/\">libraries:ENCLB040ZZZ/</a></td><td>GM12878</td><td>RNA</td><td><a href=\"https://www.encodeproject.org/files/ENCFF219RWY/@@download/ENCFF219RWY.tsv\">files:ENCFF219RWY/@@download/ENCFF219RWY.tsv</a></td><td>gene quantifications</td><td>V19</td><td>2</td><td>1</td></tr><tr><td>brenton-graveley</td><td><a href=\"https://www.encodeproject.org/experiments/ENCSR000AEF/\">experiments:ENCSR000AEF/</a></td><td><a href=\"https://www.encodeproject.org/libraries/ENCLB041ZZZ/\">libraries:ENCLB041ZZZ/</a></td><td>GM12878</td><td>polyadenylated mRNA</td><td><a href=\"https://www.encodeproject.org/files/ENCFF392VPX/@@download/ENCFF392VPX.tsv\">files:ENCFF392VPX/@@download/ENCFF392VPX.tsv</a></td><td>gene quantifications</td><td>V19</td><td>1</td><td>1</td></tr><tr><td>brenton-graveley</td><td><a href=\"https://www.encodeproject.org/experiments/ENCSR000AEF/\">experiments:ENCSR000AEF/</a></td><td><a href=\"https://www.encodeproject.org/libraries/ENCLB042ZZZ/\">libraries:ENCLB042ZZZ/</a></td><td>GM12878</td><td>polyadenylated mRNA</td><td><a href=\"https://www.encodeproject.org/files/ENCFF023VHU/@@download/ENCFF023VHU.tsv\">files:ENCFF023VHU/@@download/ENCFF023VHU.tsv</a></td><td>gene quantifications</td><td>V19</td><td>2</td><td>1</td></tr><tr><td>brenton-graveley</td><td><a href=\"https://www.encodeproject.org/experiments/ENCSR000AEN/\">experiments:ENCSR000AEN/</a></td><td><a href=\"https://www.encodeproject.org/libraries/ENCLB057ZZZ/\">libraries:ENCLB057ZZZ/</a></td><td>K562</td><td>RNA</td><td><a href=\"https://www.encodeproject.org/files/ENCFF534SDC/@@download/ENCFF534SDC.tsv\">files:ENCFF534SDC/@@download/ENCFF534SDC.tsv</a></td><td>gene quantifications</td><td>V19</td><td>1</td><td>1</td></tr><tr><td>brenton-graveley</td><td><a href=\"https://www.encodeproject.org/experiments/ENCSR000AEN/\">experiments:ENCSR000AEN/</a></td><td><a href=\"https://www.encodeproject.org/libraries/ENCLB058ZZZ/\">libraries:ENCLB058ZZZ/</a></td><td>K562</td><td>RNA</td><td><a href=\"https://www.encodeproject.org/files/ENCFF450IVD/@@download/ENCFF450IVD.tsv\">files:ENCFF450IVD/@@download/ENCFF450IVD.tsv</a></td><td>gene quantifications</td><td>V19</td><td>2</td><td>1</td></tr><tr><td>brenton-graveley</td><td><a href=\"https://www.encodeproject.org/experiments/ENCSR000AEO/\">experiments:ENCSR000AEO/</a></td><td><a href=\"https://www.encodeproject.org/libraries/ENCLB059ZZZ/\">libraries:ENCLB059ZZZ/</a></td><td>K562</td><td>polyadenylated mRNA</td><td><a href=\"https://www.encodeproject.org/files/ENCFF930UOM/@@download/ENCFF930UOM.tsv\">files:ENCFF930UOM/@@download/ENCFF930UOM.tsv</a></td><td>gene quantifications</td><td>V19</td><td>1</td><td>1</td></tr><tr><td>brenton-graveley</td><td><a href=\"https://www.encodeproject.org/experiments/ENCSR000AEO/\">experiments:ENCSR000AEO/</a></td><td><a href=\"https://www.encodeproject.org/libraries/ENCLB060ZZZ/\">libraries:ENCLB060ZZZ/</a></td><td>K562</td><td>polyadenylated mRNA</td><td><a href=\"https://www.encodeproject.org/files/ENCFF662LZE/@@download/ENCFF662LZE.tsv\">files:ENCFF662LZE/@@download/ENCFF662LZE.tsv</a></td><td>gene quantifications</td><td>V19</td><td>2</td><td>1</td></tr><tr><td>thomas-gingeras</td><td><a href=\"https://www.encodeproject.org/experiments/ENCSR000AEC/\">experiments:ENCSR000AEC/</a></td><td><a href=\"https://www.encodeproject.org/libraries/ENCLB035ZZZ/\">libraries:ENCLB035ZZZ/</a></td><td>GM12878</td><td>RNA</td><td><a href=\"https://www.encodeproject.org/files/ENCFF088ZKJ/@@download/ENCFF088ZKJ.tsv\">files:ENCFF088ZKJ/@@download/ENCFF088ZKJ.tsv</a></td><td>gene quantifications</td><td>V19</td><td>1</td><td>1</td></tr><tr><td>thomas-gingeras</td><td><a href=\"https://www.encodeproject.org/experiments/ENCSR000AEC/\">experiments:ENCSR000AEC/</a></td><td><a href=\"https://www.encodeproject.org/libraries/ENCLB036ZZZ/\">libraries:ENCLB036ZZZ/</a></td><td>GM12878</td><td>RNA</td><td><a href=\"https://www.encodeproject.org/files/ENCFF610BLQ/@@download/ENCFF610BLQ.tsv\">files:ENCFF610BLQ/@@download/ENCFF610BLQ.tsv</a></td><td>gene quantifications</td><td>V19</td><td>2</td><td>1</td></tr><tr><td>thomas-gingeras</td><td><a href=\"https://www.encodeproject.org/experiments/ENCSR000AED/\">experiments:ENCSR000AED/</a></td><td><a href=\"https://www.encodeproject.org/libraries/ENCLB037ZZZ/\">libraries:ENCLB037ZZZ/</a></td><td>GM12878</td><td>polyadenylated mRNA</td><td><a href=\"https://www.encodeproject.org/files/ENCFF305LZB/@@download/ENCFF305LZB.tsv\">files:ENCFF305LZB/@@download/ENCFF305LZB.tsv</a></td><td>gene quantifications</td><td>V19</td><td>1</td><td>1</td></tr><tr><td>thomas-gingeras</td><td><a href=\"https://www.encodeproject.org/experiments/ENCSR000AED/\">experiments:ENCSR000AED/</a></td><td><a href=\"https://www.encodeproject.org/libraries/ENCLB038ZZZ/\">libraries:ENCLB038ZZZ/</a></td><td>GM12878</td><td>polyadenylated mRNA</td><td><a href=\"https://www.encodeproject.org/files/ENCFF239AZD/@@download/ENCFF239AZD.tsv\">files:ENCFF239AZD/@@download/ENCFF239AZD.tsv</a></td><td>gene quantifications</td><td>V19</td><td>2</td><td>1</td></tr><tr><td>thomas-gingeras</td><td><a href=\"https://www.encodeproject.org/experiments/ENCSR000AEL/\">experiments:ENCSR000AEL/</a></td><td><a href=\"https://www.encodeproject.org/libraries/ENCLB053ZZZ/\">libraries:ENCLB053ZZZ/</a></td><td>K562</td><td>RNA</td><td><a href=\"https://www.encodeproject.org/files/ENCFF902SEE/@@download/ENCFF902SEE.tsv\">files:ENCFF902SEE/@@download/ENCFF902SEE.tsv</a></td><td>gene quantifications</td><td>V19</td><td>1</td><td>1</td></tr><tr><td>thomas-gingeras</td><td><a href=\"https://www.encodeproject.org/experiments/ENCSR000AEL/\">experiments:ENCSR000AEL/</a></td><td><a href=\"https://www.encodeproject.org/libraries/ENCLB054ZZZ/\">libraries:ENCLB054ZZZ/</a></td><td>K562</td><td>RNA</td><td><a href=\"https://www.encodeproject.org/files/ENCFF782PCD/@@download/ENCFF782PCD.tsv\">files:ENCFF782PCD/@@download/ENCFF782PCD.tsv</a></td><td>gene quantifications</td><td>V19</td><td>2</td><td>1</td></tr><tr><td>thomas-gingeras</td><td><a href=\"https://www.encodeproject.org/experiments/ENCSR000AEM/\">experiments:ENCSR000AEM/</a></td><td><a href=\"https://www.encodeproject.org/libraries/ENCLB055ZZZ/\">libraries:ENCLB055ZZZ/</a></td><td>K562</td><td>polyadenylated mRNA</td><td><a href=\"https://www.encodeproject.org/files/ENCFF934YBO/@@download/ENCFF934YBO.tsv\">files:ENCFF934YBO/@@download/ENCFF934YBO.tsv</a></td><td>gene quantifications</td><td>V19</td><td>1</td><td>1</td></tr><tr><td>thomas-gingeras</td><td><a href=\"https://www.encodeproject.org/experiments/ENCSR000AEM/\">experiments:ENCSR000AEM/</a></td><td><a href=\"https://www.encodeproject.org/libraries/ENCLB056ZZZ/\">libraries:ENCLB056ZZZ/</a></td><td>K562</td><td>polyadenylated mRNA</td><td><a href=\"https://www.encodeproject.org/files/ENCFF515MUX/@@download/ENCFF515MUX.tsv\">files:ENCFF515MUX/@@download/ENCFF515MUX.tsv</a></td><td>gene quantifications</td><td>V19</td><td>2</td><td>1</td></tr></table>"
      ],
      "text/plain": [
       "<rdfmagic.LibRdfResults at 0x7f9ab33bc898>"
      ]
     },
     "execution_count": 28,
     "metadata": {},
     "output_type": "execute_result"
    }
   ],
   "source": [
    "bulk_cell_line_files"
   ]
  },
  {
   "cell_type": "markdown",
   "metadata": {
    "collapsed": true
   },
   "source": [
    "#### Load ENCODE Bull cell line fpkms"
   ]
  },
  {
   "cell_type": "code",
   "execution_count": 29,
   "metadata": {
    "collapsed": false
   },
   "outputs": [
    {
     "name": "stdout",
     "output_type": "stream",
     "text": [
      "loading: ENCLB043ZZZ https://www.encodeproject.org/files/ENCFF486PVW/@@download/ENCFF486PVW.tsv\n",
      "loading: ENCLB044ZZZ https://www.encodeproject.org/files/ENCFF428CJQ/@@download/ENCFF428CJQ.tsv\n",
      "loading: ENCLB045ZZZ https://www.encodeproject.org/files/ENCFF745IAF/@@download/ENCFF745IAF.tsv\n",
      "loading: ENCLB046ZZZ https://www.encodeproject.org/files/ENCFF830IVF/@@download/ENCFF830IVF.tsv\n",
      "loading: ENCLB061ZZZ https://www.encodeproject.org/files/ENCFF771MAN/@@download/ENCFF771MAN.tsv\n",
      "loading: ENCLB062ZZZ https://www.encodeproject.org/files/ENCFF806RDV/@@download/ENCFF806RDV.tsv\n",
      "loading: ENCLB063ZZZ https://www.encodeproject.org/files/ENCFF176ACR/@@download/ENCFF176ACR.tsv\n",
      "loading: ENCLB064ZZZ https://www.encodeproject.org/files/ENCFF456PAW/@@download/ENCFF456PAW.tsv\n",
      "loading: ENCLB039ZZZ https://www.encodeproject.org/files/ENCFF009ZXH/@@download/ENCFF009ZXH.tsv\n",
      "loading: ENCLB040ZZZ https://www.encodeproject.org/files/ENCFF219RWY/@@download/ENCFF219RWY.tsv\n",
      "loading: ENCLB041ZZZ https://www.encodeproject.org/files/ENCFF392VPX/@@download/ENCFF392VPX.tsv\n",
      "loading: ENCLB042ZZZ https://www.encodeproject.org/files/ENCFF023VHU/@@download/ENCFF023VHU.tsv\n",
      "loading: ENCLB057ZZZ https://www.encodeproject.org/files/ENCFF534SDC/@@download/ENCFF534SDC.tsv\n",
      "loading: ENCLB058ZZZ https://www.encodeproject.org/files/ENCFF450IVD/@@download/ENCFF450IVD.tsv\n",
      "loading: ENCLB059ZZZ https://www.encodeproject.org/files/ENCFF930UOM/@@download/ENCFF930UOM.tsv\n",
      "loading: ENCLB060ZZZ https://www.encodeproject.org/files/ENCFF662LZE/@@download/ENCFF662LZE.tsv\n",
      "loading: ENCLB035ZZZ https://www.encodeproject.org/files/ENCFF088ZKJ/@@download/ENCFF088ZKJ.tsv\n",
      "loading: ENCLB036ZZZ https://www.encodeproject.org/files/ENCFF610BLQ/@@download/ENCFF610BLQ.tsv\n",
      "loading: ENCLB037ZZZ https://www.encodeproject.org/files/ENCFF305LZB/@@download/ENCFF305LZB.tsv\n",
      "loading: ENCLB038ZZZ https://www.encodeproject.org/files/ENCFF239AZD/@@download/ENCFF239AZD.tsv\n",
      "loading: ENCLB053ZZZ https://www.encodeproject.org/files/ENCFF902SEE/@@download/ENCFF902SEE.tsv\n",
      "loading: ENCLB054ZZZ https://www.encodeproject.org/files/ENCFF782PCD/@@download/ENCFF782PCD.tsv\n",
      "loading: ENCLB055ZZZ https://www.encodeproject.org/files/ENCFF934YBO/@@download/ENCFF934YBO.tsv\n",
      "loading: ENCLB056ZZZ https://www.encodeproject.org/files/ENCFF515MUX/@@download/ENCFF515MUX.tsv\n"
     ]
    }
   ],
   "source": [
    "bulk_cell_line_fpkms = load_fpkms(bulk_cell_line_files)"
   ]
  },
  {
   "cell_type": "markdown",
   "metadata": {},
   "source": [
    "### Example ENCODE bulk cell line correlation scores"
   ]
  },
  {
   "cell_type": "code",
   "execution_count": 30,
   "metadata": {
    "collapsed": false
   },
   "outputs": [
    {
     "data": {
      "text/plain": [
       "total rows        58540.000000\n",
       "passed filter     12169.000000\n",
       "Naïve Pearson         0.998247\n",
       "Naïve Spearman        0.928167\n",
       "Rafa Pearson          0.984208\n",
       "Rafa Spearman         0.984904\n",
       "MAD                   0.281000\n",
       "SD                    0.365000\n",
       "dtype: float64"
      ]
     },
     "execution_count": 30,
     "metadata": {},
     "output_type": "execute_result"
    }
   ],
   "source": [
    "replicate_scores(bulk_cell_line_fpkms, 'ENCLB035ZZZ', 'ENCLB036ZZZ')"
   ]
  },
  {
   "cell_type": "markdown",
   "metadata": {
    "collapsed": true
   },
   "source": [
    "# Load pool split\n",
    "\n",
    "These haven't been run at the DCC yet. I have STAR/RSEM results that are based on a deprecated index."
   ]
  },
  {
   "cell_type": "code",
   "execution_count": 31,
   "metadata": {
    "collapsed": true
   },
   "outputs": [],
   "source": [
    "def load_pool_split():\n",
    "    pool_split_root=\"/woldlab/castor/home/diane/proj/submission/encode-y3q3/\"\n",
    "    pool_split_libraries=[\n",
    "        \"15304-LC_805_C57Bl6_layer_V_pyramidal_neuron_pool-split\",\n",
    "        \"15305-LC_806_C57Bl6_layer_V_pyramidal_neuron_pool-split\",\n",
    "        \"15306-LC_807_C57Bl6_layer_V_pyramidal_neuron_pool-split\",\n",
    "        \"15307-LC_807_C57Bl6_layer_V_pyramidal_neuron_pool-split\",\n",
    "        \"15308-LC_808_C57Bl6_layer_V_pyramidal_neuron_pool-split\",\n",
    "        \"15309-LC_809_C57Bl6_layer_V_pyramidal_neuron_pool-split\",\n",
    "        \"15310-LC_810_C57Bl6_layer_V_pyramidal_neuron_pool-split\",\n",
    "        \"15311-LC_811_C57Bl6_layer_V_pyramidal_neuron_pool-split\",\n",
    "        \"15356-LC_813_C57Bl6_layer_V_pyramidal_neuron_pool-split\",\n",
    "        \"15357-LC_814_C57Bl6_layer_V_pyramidal_neuron_pool-split\",\n",
    "        \"15358-LC_815_C57Bl6_layer_V_pyramidal_neuron_pool-split\",\n",
    "        \"15359-LC_816_C57Bl6_layer_V_pyramidal_neuron_pool-split\",\n",
    "        \"15360-LC_817_C57Bl6_layer_V_pyramidal_neuron_pool-split\",\n",
    "        \"15361-LC_818_C57Bl6_layer_V_pyramidal_neuron_pool-split\",\n",
    "        \"15362-LC_819_C57Bl6_layer_V_pyramidal_neuron_pool-split\",\n",
    "    ]\n",
    "    FPKM_COL = 6\n",
    "    \n",
    "    host = paramiko.SSHClient()\n",
    "    host.set_missing_host_key_policy(paramiko.WarningPolicy())\n",
    "    host.connect('pongo.cacr.caltech.edu', username='diane')\n",
    "    sftp = host.open_sftp()\n",
    "    sftp.chdir(pool_split_root)\n",
    "    \n",
    "    results = []\n",
    "    libraries = []\n",
    "    for path in pool_split_libraries:\n",
    "        rsem_file = sftp.open(os.path.join(path, 'Aligned.toTranscriptome.out_rsem.genes.results'))\n",
    "        fpkms = pandas.read_csv(rsem_file, sep='\\t', index_col=0, usecols=[0, FPKM_COL])\n",
    "        results.append(fpkms)\n",
    "        libraries.append(path[:5])\n",
    "    df = pandas.concat(results, axis=1)\n",
    "    df.columns = libraries\n",
    "    return df\n"
   ]
  },
  {
   "cell_type": "code",
   "execution_count": 32,
   "metadata": {
    "collapsed": false
   },
   "outputs": [
    {
     "name": "stderr",
     "output_type": "stream",
     "text": [
      "/usr/lib/python3/dist-packages/paramiko/client.py:580: UserWarning: Unknown ssh-rsa host key for pongo.cacr.caltech.edu: b'6833531597d6176b45c27f33e9406a12'\n",
      "  (key.get_name(), hostname, hexlify(key.get_fingerprint())))\n"
     ]
    }
   ],
   "source": [
    "pool_split_fpkms = load_pool_split()"
   ]
  },
  {
   "cell_type": "markdown",
   "metadata": {},
   "source": [
    "# Generate DCC Library to Human Readable Names\n",
    "\n",
    "The ENCODE ids are hard to think about, and some of our descriptive names are too long, so we need to define a set of translation tables and formatting functions to select what metadata to show on our plots."
   ]
  },
  {
   "cell_type": "code",
   "execution_count": 33,
   "metadata": {
    "collapsed": true
   },
   "outputs": [],
   "source": [
    "lab_shorten = {\n",
    "    'barbara-wold': 'wold',\n",
    "    'brenton-graveley': 'grav',\n",
    "    'thomas-gingeras': 'ging',\n",
    "}\n",
    "\n",
    "na_shorten = {\n",
    "    'polyadenylated mRNA': 'PolyA',\n",
    "    'RNA': 'Total'\n",
    "}\n",
    "\n",
    "age_fix = {\n",
    "    '0': 'P0',\n",
    "    '11.5': 'e11.5'\n",
    "}\n",
    "\n",
    "tissue_shorten = {\n",
    "    'thymus': 'thymus',\n",
    "    'skeletal muscle tissue': 'skel. musc.',\n",
    "    'liver': 'liver',\n",
    "    'heart': 'heart',\n",
    "    'midbrain': 'midbrain',\n",
    "    'hindbrain': 'hindbrain',\n",
    "    'forebrain': 'forebrain',\n",
    "    'liver': 'liver',\n",
    "}"
   ]
  },
  {
   "cell_type": "code",
   "execution_count": 34,
   "metadata": {
    "collapsed": true
   },
   "outputs": [],
   "source": [
    "bulk_cell_line_labels = collections.OrderedDict()\n",
    "for row in bulk_cell_line_files:\n",
    "    library = str(row['library'])[-12:-1]\n",
    "    if library in bulk_cell_line_fpkms.columns:\n",
    "        bulk_cell_line_labels[library] = \"{lab} {na} {bio} {rep}\".format(\n",
    "            lab=lab_shorten[str(row['labname'])],\n",
    "            na=na_shorten[str(row['na_term'])],\n",
    "            bio=str(row['bioname']),\n",
    "            rep='r' + str(row['biorep']),\n",
    "        )\n",
    "bulk_cell_line_labels = pandas.Series(bulk_cell_line_labels)"
   ]
  },
  {
   "cell_type": "code",
   "execution_count": 35,
   "metadata": {
    "collapsed": false
   },
   "outputs": [
    {
     "data": {
      "text/plain": [
       "ENCLB043ZZZ    wold Total GM12878 r1\n",
       "ENCLB044ZZZ    wold Total GM12878 r2\n",
       "ENCLB045ZZZ    wold PolyA GM12878 r1\n",
       "ENCLB046ZZZ    wold PolyA GM12878 r2\n",
       "ENCLB061ZZZ       wold Total K562 r1\n",
       "ENCLB062ZZZ       wold Total K562 r2\n",
       "ENCLB063ZZZ       wold PolyA K562 r1\n",
       "ENCLB064ZZZ       wold PolyA K562 r2\n",
       "ENCLB039ZZZ    grav Total GM12878 r1\n",
       "ENCLB040ZZZ    grav Total GM12878 r2\n",
       "ENCLB041ZZZ    grav PolyA GM12878 r1\n",
       "ENCLB042ZZZ    grav PolyA GM12878 r2\n",
       "ENCLB057ZZZ       grav Total K562 r1\n",
       "ENCLB058ZZZ       grav Total K562 r2\n",
       "ENCLB059ZZZ       grav PolyA K562 r1\n",
       "ENCLB060ZZZ       grav PolyA K562 r2\n",
       "ENCLB035ZZZ    ging Total GM12878 r1\n",
       "ENCLB036ZZZ    ging Total GM12878 r2\n",
       "ENCLB037ZZZ    ging PolyA GM12878 r1\n",
       "ENCLB038ZZZ    ging PolyA GM12878 r2\n",
       "ENCLB053ZZZ       ging Total K562 r1\n",
       "ENCLB054ZZZ       ging Total K562 r2\n",
       "ENCLB055ZZZ       ging PolyA K562 r1\n",
       "ENCLB056ZZZ       ging PolyA K562 r2\n",
       "dtype: object"
      ]
     },
     "execution_count": 35,
     "metadata": {},
     "output_type": "execute_result"
    }
   ],
   "source": [
    "bulk_cell_line_labels"
   ]
  },
  {
   "cell_type": "code",
   "execution_count": 36,
   "metadata": {
    "collapsed": false
   },
   "outputs": [
    {
     "name": "stdout",
     "output_type": "stream",
     "text": [
      "ENCLB917PKP e11.5 forebrain r1\n",
      "ENCLB026BHP e11.5 forebrain r2\n",
      "ENCLB719BQO P0 midbrain r1\n",
      "ENCLB669AEL P0 midbrain r2\n",
      "ENCLB304LFK P0 skel. musc. r1\n",
      "ENCLB096HAH P0 skel. musc. r2\n",
      "ENCLB652HKH P0 heart r1\n",
      "ENCLB348BMH P0 heart r2\n",
      "ENCLB766UOB P0 forebrain r1\n",
      "ENCLB181TCJ P0 forebrain r2\n",
      "ENCLB449LBZ e11.5 liver r1\n",
      "ENCLB905LVV e11.5 liver r2\n",
      "ENCLB238LIR P0 hindbrain r1\n",
      "ENCLB765HDK P0 hindbrain r2\n",
      "ENCLB005HHX P0 thymus r1\n",
      "ENCLB185MNU P0 thymus r2\n",
      "ENCLB356IIP P0 liver r1\n",
      "ENCLB791CRT P0 liver r2\n"
     ]
    }
   ],
   "source": [
    "tissue_13pg_labels = collections.OrderedDict()\n",
    "for row in tissue_13pg_files:\n",
    "    library = str(row['library'])[-12:-1]\n",
    "    if library in tissue_13pg_fpkms.columns:    \n",
    "        tissue_13pg_labels[library] = \"{age} {bio} {rep}\".format(\n",
    "            age=age_fix[str(row['age'])],\n",
    "            bio=tissue_shorten[str(row['bioname'])],\n",
    "            rep='r' + str(row['biorep']),\n",
    "        )\n",
    "    print(library, tissue_13pg_labels[library])\n",
    "tissue_13pg_labels = pandas.Series(tissue_13pg_labels)"
   ]
  },
  {
   "cell_type": "code",
   "execution_count": 37,
   "metadata": {
    "collapsed": false
   },
   "outputs": [
    {
     "data": {
      "text/plain": [
       "ENCLB917PKP    e11.5 forebrain r1\n",
       "ENCLB026BHP    e11.5 forebrain r2\n",
       "ENCLB719BQO        P0 midbrain r1\n",
       "ENCLB669AEL        P0 midbrain r2\n",
       "ENCLB304LFK     P0 skel. musc. r1\n",
       "ENCLB096HAH     P0 skel. musc. r2\n",
       "ENCLB652HKH           P0 heart r1\n",
       "ENCLB348BMH           P0 heart r2\n",
       "ENCLB766UOB       P0 forebrain r1\n",
       "ENCLB181TCJ       P0 forebrain r2\n",
       "ENCLB449LBZ        e11.5 liver r1\n",
       "ENCLB905LVV        e11.5 liver r2\n",
       "ENCLB238LIR       P0 hindbrain r1\n",
       "ENCLB765HDK       P0 hindbrain r2\n",
       "ENCLB005HHX          P0 thymus r1\n",
       "ENCLB185MNU          P0 thymus r2\n",
       "ENCLB356IIP           P0 liver r1\n",
       "ENCLB791CRT           P0 liver r2\n",
       "dtype: object"
      ]
     },
     "execution_count": 37,
     "metadata": {},
     "output_type": "execute_result"
    }
   ],
   "source": [
    "tissue_13pg_labels"
   ]
  },
  {
   "cell_type": "code",
   "execution_count": 38,
   "metadata": {
    "collapsed": false
   },
   "outputs": [],
   "source": [
    "tissue_10ng_labels = collections.OrderedDict()\n",
    "for row in tissue_10ng_files:\n",
    "    library = str(row['library'])[-12:-1]\n",
    "    if library in tissue_10ng_fpkms.columns:\n",
    "        tissue_10ng_labels[library] = \"{age} {bio} {rep}\".format(\n",
    "            age=age_fix[str(row['age'])],\n",
    "            bio=tissue_shorten[str(row['bioname'])],\n",
    "            rep='r' + str(row['biorep']),\n",
    "        )\n",
    "tissue_10ng_labels = pandas.Series(tissue_10ng_labels)"
   ]
  },
  {
   "cell_type": "code",
   "execution_count": 39,
   "metadata": {
    "collapsed": false
   },
   "outputs": [
    {
     "data": {
      "text/plain": [
       "ENCLB835LVO    e11.5 forebrain r1\n",
       "ENCLB471QMM    e11.5 forebrain r2\n",
       "ENCLB055KYV        e11.5 liver r1\n",
       "ENCLB357KYA        e11.5 liver r2\n",
       "ENCLB659UFY     e11.5 midbrain r1\n",
       "ENCLB426JKF     e11.5 midbrain r2\n",
       "ENCLB601XLL        e11.5 heart r1\n",
       "ENCLB347FRI        e11.5 heart r2\n",
       "ENCLB454ZUS    e11.5 hindbrain r1\n",
       "ENCLB061TDP    e11.5 hindbrain r2\n",
       "dtype: object"
      ]
     },
     "execution_count": 39,
     "metadata": {},
     "output_type": "execute_result"
    }
   ],
   "source": [
    "tissue_10ng_labels"
   ]
  },
  {
   "cell_type": "markdown",
   "metadata": {},
   "source": [
    "# Compute Scores"
   ]
  },
  {
   "cell_type": "code",
   "execution_count": 40,
   "metadata": {
    "collapsed": false
   },
   "outputs": [],
   "source": [
    "tissue_13pg_scores = compute_all_vs_all_scores(tissue_13pg_fpkms)\n",
    "tissue_10ng_scores = compute_all_vs_all_scores(tissue_10ng_fpkms)\n",
    "bulk_cell_line_scores = compute_all_vs_all_scores(bulk_cell_line_fpkms)\n",
    "pool_split_scores = compute_all_vs_all_scores(pool_split_fpkms)"
   ]
  },
  {
   "cell_type": "markdown",
   "metadata": {},
   "source": [
    "# Save tables"
   ]
  },
  {
   "cell_type": "code",
   "execution_count": 41,
   "metadata": {
    "collapsed": false
   },
   "outputs": [],
   "source": [
    "store = pandas.HDFStore('comparison.h5', 'w', complevel=5, complib='bzip2')"
   ]
  },
  {
   "cell_type": "code",
   "execution_count": 42,
   "metadata": {
    "collapsed": false
   },
   "outputs": [],
   "source": [
    "store.put('tissue_13pg/fpkms', tissue_13pg_fpkms, format=\"table\")\n",
    "store.put('tissue_13pg/fpkm_scores', tissue_13pg_scores, format=\"table\")\n",
    "store.put('tissue_13pg/labels', tissue_13pg_labels, format=\"table\")\n",
    "store.put('tissue_10ng/fpkms', tissue_10ng_fpkms, format=\"table\")\n",
    "store.put('tissue_10ng/fpkm_scores', tissue_10ng_scores, format=\"table\")\n",
    "store.put('tissue_10ng/labels', tissue_10ng_labels, format=\"table\")\n",
    "store.put('c57bl6_purk_pool_split/fpkms', pool_split_fpkms, format=\"table\")\n",
    "store.put('c57bl6_purk_pool_split/fpkm_scores', pool_split_scores, format=\"table\")\n",
    "store.put('bulk_cell_line/fpkms', bulk_cell_line_fpkms, format=\"table\")\n",
    "store.put('bulk_cell_line/fpkm_scores', bulk_cell_line_scores, format=\"table\")\n",
    "store.put('bulk_cell_line/labels', bulk_cell_line_labels, format=\"table\")"
   ]
  },
  {
   "cell_type": "code",
   "execution_count": 43,
   "metadata": {
    "collapsed": false
   },
   "outputs": [
    {
     "data": {
      "text/plain": [
       "['/bulk_cell_line/fpkm_scores',\n",
       " '/bulk_cell_line/fpkms',\n",
       " '/bulk_cell_line/labels',\n",
       " '/c57bl6_purk_pool_split/fpkm_scores',\n",
       " '/c57bl6_purk_pool_split/fpkms',\n",
       " '/tissue_10ng/fpkm_scores',\n",
       " '/tissue_10ng/fpkms',\n",
       " '/tissue_10ng/labels',\n",
       " '/tissue_13pg/fpkm_scores',\n",
       " '/tissue_13pg/fpkms',\n",
       " '/tissue_13pg/labels']"
      ]
     },
     "execution_count": 43,
     "metadata": {},
     "output_type": "execute_result"
    }
   ],
   "source": [
    "store.keys()"
   ]
  },
  {
   "cell_type": "code",
   "execution_count": 44,
   "metadata": {
    "collapsed": true
   },
   "outputs": [],
   "source": [
    "store.close()"
   ]
  },
  {
   "cell_type": "code",
   "execution_count": null,
   "metadata": {
    "collapsed": true
   },
   "outputs": [],
   "source": []
  }
 ],
 "metadata": {
  "kernelspec": {
   "display_name": "Python 3",
   "language": "python",
   "name": "python3"
  },
  "language_info": {
   "codemirror_mode": {
    "name": "ipython",
    "version": 3
   },
   "file_extension": ".py",
   "mimetype": "text/x-python",
   "name": "python",
   "nbconvert_exporter": "python",
   "pygments_lexer": "ipython3",
   "version": "3.5.1+"
  }
 },
 "nbformat": 4,
 "nbformat_minor": 0
}
