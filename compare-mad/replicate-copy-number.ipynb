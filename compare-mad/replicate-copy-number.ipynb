{
 "cells": [
  {
   "cell_type": "markdown",
   "metadata": {},
   "source": [
    "# Introduction\n",
    "\n",
    "For trying to reverse enginer the probe-designer copynum table I need to try to grab all the e11.5 mouse data\n"
   ]
  },
  {
   "cell_type": "code",
   "execution_count": 1,
   "metadata": {
    "collapsed": false
   },
   "outputs": [],
   "source": [
    "import pandas\n",
    "import os\n",
    "import sys\n",
    "\n",
    "HTSW = os.path.expanduser('~/proj/htsworkflow')\n",
    "if HTSW not in sys.path:\n",
    "    sys.path.append(HTSW)\n",
    "from htsworkflow.submission.encoded import ENCODED\n",
    "ROOT = os.path.expanduser('~/proj/encode3-curation')\n",
    "if ROOT not in sys.path:\n",
    "    sys.path.append(ROOT)\n",
    "import save_rnaseq_madqc\n"
   ]
  },
  {
   "cell_type": "code",
   "execution_count": 2,
   "metadata": {
    "collapsed": false
   },
   "outputs": [
    {
     "name": "stdout",
     "output_type": "stream",
     "text": [
      "Reading 150 of 1504 records in 0.008424825002293801 seconds\n",
      "Reading 300 of 1504 records in 0.00812563999716076 seconds\n",
      "Reading 450 of 1504 records in 0.016242323003098136 seconds\n",
      "Reading 600 of 1504 records in 0.013246340997284278 seconds\n",
      "Reading 750 of 1504 records in 0.005536099000892136 seconds\n",
      "Reading 900 of 1504 records in 0.023055942001519725 seconds\n",
      "Reading 1050 of 1504 records in 0.003685944997414481 seconds\n",
      "Reading 1200 of 1504 records in 0.05245674300022074 seconds\n",
      "Reading 1350 of 1504 records in 0.051248176001536194 seconds\n",
      "Reading 1500 of 1504 records in 0.04523865699957241 seconds\n",
      "Read 1504 records in 0.22726069100099267 seconds\n"
     ]
    }
   ],
   "source": [
    "query_url = 'search/?type=experiment&assay_term_name=RNA-seq'\n",
    "cache_name = os.path.join(ROOT, 'rnaseq-experiments.shelf')\n",
    "cache = save_rnaseq_madqc.caching_encoded_experiment_loader(query_url, cache_name)"
   ]
  },
  {
   "cell_type": "code",
   "execution_count": 3,
   "metadata": {
    "collapsed": true
   },
   "outputs": [],
   "source": [
    "server = ENCODED('www.encodeproject.org')"
   ]
  },
  {
   "cell_type": "code",
   "execution_count": 60,
   "metadata": {
    "collapsed": false
   },
   "outputs": [],
   "source": [
    "search = server.get_json('https://www.encodeproject.org/search/?type=Experiment&assay_title=RNA-seq&award.project=ENCODE&assembly=mm10&lab.title=Barbara+Wold%2C+Caltech&replicates.library.biosample.age=11.5')\n",
    "experiment_ids = [ save_rnaseq_madqc.url_end(str(r['@id'])) for r in search['@graph']]\n",
    "print(experiment_ids)\n",
    "scores = []\n",
    "for experiment_id, fpkms in  save_rnaseq_madqc.load_rsems(cache, experiment_ids, quantification='expected_count'):\n",
    "    scores.append(fpkms)\n",
    "e11_5_fpkms = pandas.concat(scores, axis=1)\n",
    "e11_5_means = e11_5_fpkms.mean(axis=1)"
   ]
  },
  {
   "cell_type": "code",
   "execution_count": 62,
   "metadata": {
    "collapsed": false
   },
   "outputs": [
    {
     "data": {
      "text/plain": [
       "gene_id\n",
       "ENSMUSG00000052187.3    139264.93375\n",
       "dtype: float64"
      ]
     },
     "execution_count": 62,
     "metadata": {},
     "output_type": "execute_result"
    }
   ],
   "source": [
    "e11_5_means[e11_5_means.index == 'ENSMUSG00000052187.3']"
   ]
  },
  {
   "cell_type": "code",
   "execution_count": 63,
   "metadata": {
    "collapsed": false
   },
   "outputs": [
    {
     "data": {
      "text/plain": [
       "gene_id\n",
       "ENSMUSG00000005610.12    102381.5325\n",
       "dtype: float64"
      ]
     },
     "execution_count": 63,
     "metadata": {},
     "output_type": "execute_result"
    }
   ],
   "source": [
    "e11_5_means[e11_5_means.index == 'ENSMUSG00000005610.12']"
   ]
  },
  {
   "cell_type": "code",
   "execution_count": 38,
   "metadata": {
    "collapsed": false
   },
   "outputs": [
    {
     "data": {
      "text/plain": [
       "gene_id\n",
       "ENSMUSG00000052187.3    7133.16125\n",
       "dtype: float64"
      ]
     },
     "execution_count": 38,
     "metadata": {},
     "output_type": "execute_result"
    }
   ],
   "source": []
  },
  {
   "cell_type": "code",
   "execution_count": 47,
   "metadata": {
    "collapsed": false
   },
   "outputs": [
    {
     "data": {
      "text/plain": [
       "['ENCSR160IIN', 'ENCSR760TOE', 'ENCSR307BCA']"
      ]
     },
     "execution_count": 47,
     "metadata": {},
     "output_type": "execute_result"
    }
   ],
   "source": [
    "brains_search = server.get_json('https://www.encodeproject.org/search/?type=Experiment&assay_title=RNA-seq&award.project=ENCODE&assembly=mm10&lab.title=Barbara+Wold%2C+Caltech&replicates.library.biosample.age=11.5&organ_slims=brain')\n",
    "experiment_ids = [ save_rnaseq_madqc.url_end(str(r['@id'])) for r in brains_search['@graph']]\n",
    "experiment_ids"
   ]
  },
  {
   "cell_type": "code",
   "execution_count": 56,
   "metadata": {
    "collapsed": false
   },
   "outputs": [
    {
     "data": {
      "text/plain": [
       "gene_id\n",
       "ENSMUSG00000052187.3    115273.333333\n",
       "dtype: float64"
      ]
     },
     "execution_count": 56,
     "metadata": {},
     "output_type": "execute_result"
    }
   ],
   "source": [
    "brains_scores = []\n",
    "for experiment_id, fpkms in  save_rnaseq_madqc.load_rsems(cache, experiment_ids, quantification='expected_count'):\n",
    "    brains_scores.append(fpkms)\n",
    "e11_5_brain_fpkms = pandas.concat(brains_scores, axis=1)\n",
    "brain_means = e11_5_brain_fpkms.mean(axis=1)\n",
    "brain_means[brain_means.index == 'ENSMUSG00000052187.3']"
   ]
  },
  {
   "cell_type": "code",
   "execution_count": 64,
   "metadata": {
    "collapsed": false
   },
   "outputs": [
    {
     "data": {
      "text/plain": [
       "gene_id\n",
       "ENSMUSG00000005610.12    130067.696667\n",
       "dtype: float64"
      ]
     },
     "execution_count": 64,
     "metadata": {},
     "output_type": "execute_result"
    }
   ],
   "source": [
    "brain_means[brain_means.index == 'ENSMUSG00000005610.12']"
   ]
  },
  {
   "cell_type": "markdown",
   "metadata": {},
   "source": [
    "ENCSR160IIN\n",
    "gene_id\n",
    "ENSMUSG00000052187.3    5233.82\n",
    "dtype: float64"
   ]
  },
  {
   "cell_type": "markdown",
   "metadata": {},
   "source": [
    "ENCSR760TOE\n",
    "gene_id\n",
    "ENSMUSG00000052187.3    4921.1\n",
    "dtype: float64"
   ]
  },
  {
   "cell_type": "code",
   "execution_count": null,
   "metadata": {
    "collapsed": true
   },
   "outputs": [],
   "source": []
  }
 ],
 "metadata": {
  "kernelspec": {
   "display_name": "Python 3",
   "language": "python",
   "name": "python3"
  },
  "language_info": {
   "codemirror_mode": {
    "name": "ipython",
    "version": 3
   },
   "file_extension": ".py",
   "mimetype": "text/x-python",
   "name": "python",
   "nbconvert_exporter": "python",
   "pygments_lexer": "ipython3",
   "version": "3.5.1+"
  }
 },
 "nbformat": 4,
 "nbformat_minor": 0
}
