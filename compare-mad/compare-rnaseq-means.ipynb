{
 "cells": [
  {
   "cell_type": "markdown",
   "metadata": {},
   "source": [
    "# Introduction\n",
    "\n",
    "How consistent are the means of our replicates? MAD is designed with the asumption they are different."
   ]
  },
  {
   "cell_type": "code",
   "execution_count": 1,
   "metadata": {
    "collapsed": false
   },
   "outputs": [],
   "source": [
    "import pandas\n",
    "import collections\n",
    "import sys\n",
    "import os\n",
    "import numpy\n",
    "import pprint\n",
    "import time\n",
    "\n",
    "ROOT = os.path.abspath(os.path.join(os.getcwd(), '..'))\n",
    "if ROOT not in sys.path:\n",
    "    sys.path.append(ROOT)\n",
    "import save_rnaseq_madqc"
   ]
  },
  {
   "cell_type": "code",
   "execution_count": 44,
   "metadata": {
    "collapsed": true
   },
   "outputs": [],
   "source": [
    "from matplotlib import pylab\n",
    "pylab.style.use('ggplot')"
   ]
  },
  {
   "cell_type": "code",
   "execution_count": 40,
   "metadata": {
    "collapsed": true
   },
   "outputs": [],
   "source": [
    "%matplotlib inline"
   ]
  },
  {
   "cell_type": "code",
   "execution_count": 2,
   "metadata": {
    "collapsed": false
   },
   "outputs": [
    {
     "name": "stdout",
     "output_type": "stream",
     "text": [
      "Reading 140 of 1408 records in 15.895706210998469 seconds\n",
      "Reading 280 of 1408 records in 29.262944126996445 seconds\n",
      "Reading 420 of 1408 records in 17.184238300003926 seconds\n",
      "Reading 560 of 1408 records in 22.024000501995033 seconds\n",
      "Reading 700 of 1408 records in 38.80602922500111 seconds\n",
      "Reading 840 of 1408 records in 36.341432588000316 seconds\n",
      "Reading 980 of 1408 records in 40.48364093200507 seconds\n",
      "Reading 1120 of 1408 records in 44.05076729999564 seconds\n",
      "Reading 1260 of 1408 records in 42.82476692300406 seconds\n",
      "Reading 1400 of 1408 records in 40.72936621099507 seconds\n",
      "Read 1408 records in 327.60289231899515 seconds\n"
     ]
    }
   ],
   "source": [
    "query_url = 'search/?type=experiment&assay_term_name=RNA-seq'\n",
    "cache_name = os.path.join(ROOT, 'rnaseq-experiments.shelf')\n",
    "cache = save_rnaseq_madqc.caching_encoded_experiment_loader(query_url, cache_name)"
   ]
  },
  {
   "cell_type": "code",
   "execution_count": 3,
   "metadata": {
    "collapsed": false
   },
   "outputs": [],
   "source": [
    "def filter_experiments_by_size(cache):\n",
    "    for i, experiment_id in enumerate(cache):\n",
    "        experiment = cache[experiment_id]\n",
    "        for replicate in experiment['replicates']:\n",
    "            library = replicate['library']\n",
    "\n",
    "            starting_amount = float(library.get('nucleic_acid_starting_quantity', numpy.nan))\n",
    "            starting_amount_units = library.get('nucleic_acid_starting_quantity_units')\n",
    "            if starting_amount >= 10 and starting_amount_units == 'ng':\n",
    "                yield experiment_id"
   ]
  },
  {
   "cell_type": "code",
   "execution_count": 4,
   "metadata": {
    "collapsed": false
   },
   "outputs": [
    {
     "data": {
      "text/plain": [
       "207"
      ]
     },
     "execution_count": 4,
     "metadata": {},
     "output_type": "execute_result"
    }
   ],
   "source": [
    "len(list(filter_experiments_by_size(cache)))"
   ]
  },
  {
   "cell_type": "code",
   "execution_count": 5,
   "metadata": {
    "collapsed": true
   },
   "outputs": [],
   "source": [
    "def filter_experiments_by_13pg(cache):\n",
    "    for i, experiment_id in enumerate(cache):\n",
    "        experiment = cache[experiment_id]\n",
    "        for replicate in experiment['replicates']:\n",
    "            library = replicate['library']\n",
    "\n",
    "            starting_amount = float(library.get('nucleic_acid_starting_quantity', numpy.nan))\n",
    "            starting_amount_units = library.get('nucleic_acid_starting_quantity_units')\n",
    "            if starting_amount == 13 and starting_amount_units == 'pg':\n",
    "                yield experiment_id"
   ]
  },
  {
   "cell_type": "code",
   "execution_count": 6,
   "metadata": {
    "collapsed": false
   },
   "outputs": [
    {
     "data": {
      "text/plain": [
       "22"
      ]
     },
     "execution_count": 6,
     "metadata": {},
     "output_type": "execute_result"
    }
   ],
   "source": [
    "len(list(filter_experiments_by_13pg(cache)))"
   ]
  },
  {
   "cell_type": "code",
   "execution_count": 7,
   "metadata": {
    "collapsed": true
   },
   "outputs": [],
   "source": [
    "def load_spike_rsems(cache, keys, limit=None):\n",
    "    keys = list(keys)\n",
    "    total = len(keys)\n",
    "    chunk = max(total // 10, 1)\n",
    "    tzero = time.monotonic()\n",
    "    tprev = tzero\n",
    "    \n",
    "    for i, experiment_id in enumerate(keys):\n",
    "        experiment = cache[experiment_id]\n",
    "        fpkms = []\n",
    "        for file in save_rnaseq_madqc.find_rsem(experiment['files']):\n",
    "            url = 'https://www.encodeproject.org' + file.href\n",
    "            fpkm = pandas.read_csv(url, usecols=[0,6], sep='\\t', index_col=0)\n",
    "            fpkm.columns = [file.library_id]\n",
    "            fpkms.append(fpkm)\n",
    "\n",
    "        if fpkms:\n",
    "            yield (experiment_id, pandas.concat(fpkms, axis=1))\n",
    "            \n",
    "        if (i + 1) % chunk == 0:\n",
    "            tnow = time.monotonic()\n",
    "            print(\"{} of {} in {:.2f} sec\".format(\n",
    "                i, total, tnow-tprev))\n",
    "            tprev = tnow\n",
    "\n",
    "        if limit and i > limit:\n",
    "            return"
   ]
  },
  {
   "cell_type": "code",
   "execution_count": 27,
   "metadata": {
    "collapsed": true
   },
   "outputs": [],
   "source": [
    "def mad_filter(matrix):\n",
    "    nonzero = fpkms[fpkms > 0].dropna(how='any')\n",
    "    logmatrix = numpy.log2(nonzero)\n",
    "    A = (logmatrix.iloc[:,0] + logmatrix.iloc[:,1]) / 2\n",
    "    return logmatrix[A > 0]"
   ]
  },
  {
   "cell_type": "code",
   "execution_count": 39,
   "metadata": {
    "collapsed": false
   },
   "outputs": [
    {
     "name": "stdout",
     "output_type": "stream",
     "text": [
      "19 of 207 in 35.81 sec\n",
      "39 of 207 in 33.50 sec\n",
      "59 of 207 in 31.82 sec\n",
      "79 of 207 in 39.69 sec\n",
      "99 of 207 in 43.12 sec\n",
      "119 of 207 in 38.49 sec\n",
      "139 of 207 in 21.40 sec\n",
      "159 of 207 in 25.85 sec\n",
      "179 of 207 in 34.61 sec\n",
      "199 of 207 in 40.07 sec\n"
     ]
    }
   ],
   "source": [
    "similarity = []\n",
    "for experiment_id, fpkms in load_spike_rsems(cache,\n",
    "                                            filter_experiments_by_size(cache)):\n",
    "    filtered = mad_filter(fpkms).mean()\n",
    "    difference = numpy.abs(filtered[0] - filtered[1])\n",
    "    similarity.append(difference)"
   ]
  },
  {
   "cell_type": "code",
   "execution_count": 45,
   "metadata": {
    "collapsed": false
   },
   "outputs": [
    {
     "data": {
      "text/plain": [
       "<matplotlib.axes._subplots.AxesSubplot at 0x7ffba7a20400>"
      ]
     },
     "execution_count": 45,
     "metadata": {},
     "output_type": "execute_result"
    },
    {
     "data": {
      "image/png": "[encoded data removed]",
      "text/plain": [
       "<matplotlib.figure.Figure at 0x7ffba8357cc0>"
      ]
     },
     "metadata": {},
     "output_type": "display_data"
    }
   ],
   "source": [
    "pandas.Series(similarity).plot(kind='hist')"
   ]
  },
  {
   "cell_type": "code",
   "execution_count": 46,
   "metadata": {
    "collapsed": false
   },
   "outputs": [
    {
     "name": "stdout",
     "output_type": "stream",
     "text": [
      "1 of 22 in 4.36 sec\n",
      "3 of 22 in 5.03 sec\n",
      "5 of 22 in 4.88 sec\n",
      "7 of 22 in 4.66 sec\n",
      "9 of 22 in 7.23 sec\n",
      "11 of 22 in 6.94 sec\n",
      "13 of 22 in 7.66 sec\n",
      "15 of 22 in 7.21 sec\n",
      "17 of 22 in 5.54 sec\n",
      "19 of 22 in 4.83 sec\n",
      "21 of 22 in 5.01 sec\n"
     ]
    }
   ],
   "source": [
    "similarity_13pg = []\n",
    "for experiment_id, fpkms in load_spike_rsems(\n",
    "      cache,\n",
    "      keys=filter_experiments_by_13pg(cache)\n",
    "    ):\n",
    "    filtered = mad_filter(fpkms).mean()\n",
    "    difference = numpy.abs(filtered[0] - filtered[1])\n",
    "    similarity_13pg.append(difference)"
   ]
  },
  {
   "cell_type": "code",
   "execution_count": 47,
   "metadata": {
    "collapsed": false
   },
   "outputs": [
    {
     "data": {
      "text/plain": [
       "<matplotlib.axes._subplots.AxesSubplot at 0x7ffba816eb38>"
      ]
     },
     "execution_count": 47,
     "metadata": {},
     "output_type": "execute_result"
    },
    {
     "data": {
      "image/png": "[encoded data removed]",
      "text/plain": [
       "<matplotlib.figure.Figure at 0x7ffba7c687f0>"
      ]
     },
     "metadata": {},
     "output_type": "display_data"
    }
   ],
   "source": [
    "pandas.Series(similarity_13pg).plot(kind='hist')"
   ]
  },
  {
   "cell_type": "code",
   "execution_count": 48,
   "metadata": {
    "collapsed": false
   },
   "outputs": [
    {
     "data": {
      "text/plain": [
       "8.0"
      ]
     },
     "execution_count": 48,
     "metadata": {},
     "output_type": "execute_result"
    }
   ],
   "source": [
    "2 ** 3.0"
   ]
  },
  {
   "cell_type": "code",
   "execution_count": 49,
   "metadata": {
    "collapsed": false
   },
   "outputs": [
    {
     "data": {
      "text/plain": [
       "11.313708498984761"
      ]
     },
     "execution_count": 49,
     "metadata": {},
     "output_type": "execute_result"
    }
   ],
   "source": [
    "2 ** 3.5"
   ]
  },
  {
   "cell_type": "code",
   "execution_count": null,
   "metadata": {
    "collapsed": true
   },
   "outputs": [],
   "source": []
  }
 ],
 "metadata": {
  "kernelspec": {
   "display_name": "Python 3",
   "language": "python",
   "name": "python3"
  },
  "language_info": {
   "codemirror_mode": {
    "name": "ipython",
    "version": 3
   },
   "file_extension": ".py",
   "mimetype": "text/x-python",
   "name": "python",
   "nbconvert_exporter": "python",
   "pygments_lexer": "ipython3",
   "version": "3.5.1+"
  }
 },
 "nbformat": 4,
 "nbformat_minor": 0
}
