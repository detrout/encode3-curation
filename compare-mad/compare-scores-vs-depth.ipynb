{
 "cells": [
  {
   "cell_type": "markdown",
   "metadata": {},
   "source": [
    "# Introduction\n",
    "\n",
    "I was wondering how much replication depends on having similar read depth between the two replicates."
   ]
  },
  {
   "cell_type": "code",
   "execution_count": 2,
   "metadata": {
    "collapsed": false
   },
   "outputs": [],
   "source": [
    "import pandas\n",
    "import collections\n",
    "import sys\n",
    "import os\n",
    "import numpy\n",
    "import pprint\n",
    "import time\n",
    "\n",
    "HTSW = os.path.expanduser('~/proj/htsworkflow')\n",
    "if HTSW not in sys.path:\n",
    "    sys.path.append(HTSW)\n",
    "ROOT = os.path.abspath(os.path.join(os.getcwd(), '..'))\n",
    "if ROOT not in sys.path:\n",
    "    sys.path.append(ROOT)\n",
    "import save_rnaseq_madqc"
   ]
  },
  {
   "cell_type": "code",
   "execution_count": 3,
   "metadata": {
    "collapsed": false
   },
   "outputs": [
    {
     "name": "stdout",
     "output_type": "stream",
     "text": [
      "Reading 150 of 1504 records in 0.10522496799967485 seconds\n",
      "Reading 300 of 1504 records in 0.1217044690001785 seconds\n",
      "Reading 450 of 1504 records in 0.2341561310004181 seconds\n",
      "Reading 600 of 1504 records in 0.13383693299874722 seconds\n",
      "Reading 750 of 1504 records in 0.022397961000024225 seconds\n",
      "Reading 900 of 1504 records in 0.21603940299974056 seconds\n",
      "Reading 1050 of 1504 records in 0.03475890499976231 seconds\n",
      "Reading 1200 of 1504 records in 0.35518614200009324 seconds\n",
      "Reading 1350 of 1504 records in 0.25264025000069523 seconds\n",
      "Reading 1500 of 1504 records in 0.12043020599958254 seconds\n",
      "Read 1504 records in 1.5963753679989168 seconds\n"
     ]
    }
   ],
   "source": [
    "query_url = 'search/?type=experiment&assay_term_name=RNA-seq'\n",
    "cache_name = os.path.join(ROOT, 'rnaseq-experiments.shelf')\n",
    "cache = save_rnaseq_madqc.caching_encoded_experiment_loader(query_url, cache_name)"
   ]
  },
  {
   "cell_type": "code",
   "execution_count": 10,
   "metadata": {
    "collapsed": false
   },
   "outputs": [
    {
     "data": {
      "text/plain": [
       "[(30, '/files/ENCFF821HDC/')]"
      ]
     },
     "execution_count": 10,
     "metadata": {},
     "output_type": "execute_result"
    }
   ],
   "source": [
    "[ (i, x['@id']) for i, x in enumerate(cache['ENCSR000AAT']['files']) if x['@id'] == '/files/ENCFF821HDC/' ]"
   ]
  },
  {
   "cell_type": "code",
   "execution_count": 13,
   "metadata": {
    "collapsed": false
   },
   "outputs": [
    {
     "data": {
      "text/plain": [
       "['@id',\n",
       " '@type',\n",
       " 'accession',\n",
       " 'aliases',\n",
       " 'alternate_accessions',\n",
       " 'analysis_step_version',\n",
       " 'assembly',\n",
       " 'award',\n",
       " 'biological_replicates',\n",
       " 'content_md5sum',\n",
       " 'dataset',\n",
       " 'date_created',\n",
       " 'dbxrefs',\n",
       " 'derived_from',\n",
       " 'file_format',\n",
       " 'file_size',\n",
       " 'file_type',\n",
       " 'flowcell_details',\n",
       " 'genome_annotation',\n",
       " 'href',\n",
       " 'lab',\n",
       " 'md5sum',\n",
       " 'notes',\n",
       " 'output_category',\n",
       " 'output_type',\n",
       " 'quality_metrics',\n",
       " 'replicate',\n",
       " 'schema_version',\n",
       " 'status',\n",
       " 'step_run',\n",
       " 'submitted_by',\n",
       " 'submitted_file_name',\n",
       " 'title',\n",
       " 'uuid']"
      ]
     },
     "execution_count": 13,
     "metadata": {},
     "output_type": "execute_result"
    }
   ],
   "source": [
    "sorted(cache['ENCSR000AAT']['files'][30].keys())"
   ]
  },
  {
   "cell_type": "code",
   "execution_count": 14,
   "metadata": {
    "collapsed": false
   },
   "outputs": [
    {
     "data": {
      "text/plain": [
       "['@id',\n",
       " '@type',\n",
       " 'aliases',\n",
       " 'analysis_step',\n",
       " 'date_created',\n",
       " 'schema_version',\n",
       " 'software_versions',\n",
       " 'status',\n",
       " 'submitted_by',\n",
       " 'uuid',\n",
       " 'version']"
      ]
     },
     "execution_count": 14,
     "metadata": {},
     "output_type": "execute_result"
    }
   ],
   "source": [
    "sorted(cache['ENCSR000AAT']['files'][30]['analysis_step_version'].keys())"
   ]
  },
  {
   "cell_type": "code",
   "execution_count": 15,
   "metadata": {
    "collapsed": true
   },
   "outputs": [],
   "source": [
    "def get_software_name(experiment_file):\n",
    "    analysis = experiment_file.get('analysis_step_version')\n",
    "    if analysis:\n",
    "        software_versions = analysis.get('software_versions')\n",
    "        if software_versions:\n",
    "            for version in software_versions:\n",
    "                software = version['software']\n",
    "                yield software['name']\n"
   ]
  },
  {
   "cell_type": "code",
   "execution_count": 18,
   "metadata": {
    "collapsed": true
   },
   "outputs": [],
   "source": [
    "def get_software(experiment_file):\n",
    "    analysis = experiment_file.get('analysis_step_version')\n",
    "    if analysis:\n",
    "        software_versions = analysis.get('software_versions')\n",
    "        if software_versions:\n",
    "            for version in software_versions:\n",
    "                yield version['software']"
   ]
  },
  {
   "cell_type": "code",
   "execution_count": 17,
   "metadata": {
    "collapsed": false
   },
   "outputs": [
    {
     "data": {
      "text/plain": [
       "['rna-pipelines', 'lrna-align-star-pe', 'star', 'samtools']"
      ]
     },
     "execution_count": 17,
     "metadata": {},
     "output_type": "execute_result"
    }
   ],
   "source": [
    "list(get_software_name(cache['ENCSR000AAT']['files'][30]))"
   ]
  },
  {
   "cell_type": "code",
   "execution_count": 19,
   "metadata": {
    "collapsed": true
   },
   "outputs": [],
   "source": [
    "sw = list(get_software(cache['ENCSR000AAT']['files'][30]))"
   ]
  },
  {
   "cell_type": "code",
   "execution_count": 23,
   "metadata": {
    "collapsed": false
   },
   "outputs": [
    {
     "data": {
      "text/plain": [
       "{'@id': '/software/samtools/',\n",
       " '@type': ['Software', 'Item'],\n",
       " 'aliases': [],\n",
       " 'award': '/awards/ENCODE/',\n",
       " 'date_created': '2015-02-12T21:54:17.918472+00:00',\n",
       " 'description': 'Samtools is a suite of programs for interacting with high-throughput sequencing data.  SAMtools implements various utilities for post-processing alignments in the SAM format, such as indexing, variant caller and alignment viewer, and thus provides universal tools for processing read alignments (PMID:19505943).',\n",
       " 'lab': '/labs/encode-consortium/',\n",
       " 'name': 'samtools',\n",
       " 'references': [],\n",
       " 'schema_version': '3',\n",
       " 'software_type': ['other'],\n",
       " 'source_url': 'http://sourceforge.net/projects/samtools/files/samtools/',\n",
       " 'status': 'released',\n",
       " 'submitted_by': '/users/81a6cc12-2847-4e2e-8f2c-f566699eb29e/',\n",
       " 'title': 'Samtools',\n",
       " 'url': 'http://www.htslib.org/',\n",
       " 'used_by': ['ENCODE'],\n",
       " 'uuid': 'ce18defa-8989-4067-9ac7-2f13734223da',\n",
       " 'versions': ['/software-versions/d44db1ed-3af1-4e3b-ae7a-b0fb1085877f/',\n",
       "  '/software-versions/f21b7bbf-6178-4f1a-8c58-caeb6488bfc3/',\n",
       "  '/software-versions/2f4d48db-d4ec-4e9e-8c22-9fc5ee6c49ac/',\n",
       "  '/software-versions/4c911ae3-9007-4777-9680-2c526ab8fdbb/',\n",
       "  '/software-versions/db773727-4185-4f43-8ec9-1671fc9c5d02/',\n",
       "  '/software-versions/bebd8903-70cc-44a8-bd5e-42414431e685/',\n",
       "  '/software-versions/6b5dd7cf-aa67-457c-9a79-64818e3cc5ff/']}"
      ]
     },
     "execution_count": 23,
     "metadata": {},
     "output_type": "execute_result"
    }
   ],
   "source": [
    "sw[3]"
   ]
  },
  {
   "cell_type": "code",
   "execution_count": 32,
   "metadata": {
    "collapsed": false
   },
   "outputs": [
    {
     "name": "stdout",
     "output_type": "stream",
     "text": [
      "14 0 alignments ['StarQualityMetric', 'QualityMetric', 'Item']\n",
      "15 0 transcriptome alignments ['StarQualityMetric', 'QualityMetric', 'Item']\n",
      "17 0 alignments ['StarQualityMetric', 'QualityMetric', 'Item']\n",
      "18 0 transcriptome alignments ['StarQualityMetric', 'QualityMetric', 'Item']\n",
      "19 0 gene quantifications ['MadQualityMetric', 'QualityMetric', 'Item']\n",
      "28 0 gene quantifications ['MadQualityMetric', 'QualityMetric', 'Item']\n",
      "30 0 alignments ['SamtoolsFlagstatsQualityMetric', 'QualityMetric', 'Item']\n",
      "30 1 alignments ['StarQualityMetric', 'QualityMetric', 'Item']\n",
      "31 0 transcriptome alignments ['SamtoolsFlagstatsQualityMetric', 'QualityMetric', 'Item']\n",
      "31 1 transcriptome alignments ['StarQualityMetric', 'QualityMetric', 'Item']\n",
      "32 0 alignments ['StarQualityMetric', 'QualityMetric', 'Item']\n",
      "32 1 alignments ['SamtoolsFlagstatsQualityMetric', 'QualityMetric', 'Item']\n",
      "34 0 transcriptome alignments ['SamtoolsFlagstatsQualityMetric', 'QualityMetric', 'Item']\n",
      "34 1 transcriptome alignments ['StarQualityMetric', 'QualityMetric', 'Item']\n",
      "43 0 gene quantifications ['MadQualityMetric', 'QualityMetric', 'Item']\n",
      "45 0 gene quantifications ['MadQualityMetric', 'QualityMetric', 'Item']\n"
     ]
    }
   ],
   "source": [
    "for findex, f in enumerate(cache['ENCSR000AAT']['files']):\n",
    "    metrics = f.get('quality_metrics')\n",
    "    if metrics:\n",
    "        for qindex, qc in enumerate(metrics):\n",
    "            print(findex, qindex, f['output_type'], qc['@type'])"
   ]
  },
  {
   "cell_type": "code",
   "execution_count": 36,
   "metadata": {
    "collapsed": false
   },
   "outputs": [
    {
     "data": {
      "text/plain": [
       "[{'@id': '/samtools-flagstats-quality-metrics/3182d1d9-06a7-474b-84bf-494323861553/',\n",
       "  '@type': ['SamtoolsFlagstatsQualityMetric', 'QualityMetric', 'Item'],\n",
       "  'aliases': ['dnanexus:qc.star_genome_flagstat.job-Bq3qZ9j0J6Z6yG8fp5607g0Z'],\n",
       "  'assay_term_id': 'OBI:0001271',\n",
       "  'assay_term_name': 'RNA-seq',\n",
       "  'attachment': {'download': 'ENCSR000AAT_rep1_1_star_genome_flagstat.txt',\n",
       "   'href': '@@download/attachment/ENCSR000AAT_rep1_1_star_genome_flagstat.txt',\n",
       "   'md5sum': '57f7ba1788d80cc7a226ea464443fdee',\n",
       "   'size': 399,\n",
       "   'type': 'text/plain'},\n",
       "  'date_created': '2016-02-23T23:52:03.975169+00:00',\n",
       "  'diff_chroms': 0,\n",
       "  'diff_chroms_qc_failed': 0,\n",
       "  'duplicates': 0,\n",
       "  'duplicates_qc_failed': 0,\n",
       "  'mapped': 557166990,\n",
       "  'mapped_pct': '96.32%',\n",
       "  'mapped_qc_failed': 0,\n",
       "  'paired': 578444568,\n",
       "  'paired_properly': 557166990,\n",
       "  'paired_properly_pct': '96.32%',\n",
       "  'paired_properly_qc_failed': 0,\n",
       "  'paired_qc_failed': 0,\n",
       "  'quality_metric_of': ['/files/ENCFF821HDC/'],\n",
       "  'read1': 289222284,\n",
       "  'read1_qc_failed': 0,\n",
       "  'read2': 289222284,\n",
       "  'read2_qc_failed': 0,\n",
       "  'schema_version': '2',\n",
       "  'singletons': 0,\n",
       "  'singletons_pct': '0.00%',\n",
       "  'singletons_qc_failed': 0,\n",
       "  'status': 'released',\n",
       "  'step_run': {'@id': '/analysis-step-runs/1cd4ad53-5f9f-4892-8629-c6401497cbc1/',\n",
       "   '@type': ['AnalysisStepRun', 'Item'],\n",
       "   'aliases': ['dnanexus:job-Bq3qZ9j0J6Z6yG8fp5607g0Z'],\n",
       "   'analysis_step_version': {'@id': '/analysis-step-versions/2b906b3d-fc30-421a-8100-5ef2a8620b2c/',\n",
       "    '@type': ['AnalysisStepVersion', 'Item'],\n",
       "    'aliases': ['dnanexus:align-star-pe-v-2-1'],\n",
       "    'analysis_step': {'@id': '/analysis-steps/lrna-pe-star-alignment-step-v-1/',\n",
       "     '@type': ['AnalysisStep', 'Item'],\n",
       "     'aliases': ['dnanexus:align-star-pe-v-1'],\n",
       "     'analysis_step_types': ['alignment', 'fastq concatenation'],\n",
       "     'current_version': '/analysis-step-versions/2b906b3d-fc30-421a-8100-5ef2a8620b2c/',\n",
       "     'date_created': '2015-03-12T04:27:42.368923+00:00',\n",
       "     'documents': [],\n",
       "     'input_file_types': ['reads'],\n",
       "     'name': 'lrna-pe-star-alignment-step-v-1',\n",
       "     'output_file_types': ['alignments'],\n",
       "     'parents': ['/analysis-steps/index-star-v-1-0/'],\n",
       "     'pipelines': ['/pipelines/ENCPL002LPE/'],\n",
       "     'schema_version': '4',\n",
       "     'status': 'released',\n",
       "     'submitted_by': '/users/81a6cc12-2847-4e2e-8f2c-f566699eb29e/',\n",
       "     'title': 'Long RNA-seq STAR paired-ended alignment step - Version 1',\n",
       "     'uuid': 'ace7163c-563a-43d6-a86f-686405af167d',\n",
       "     'versions': ['/analysis-step-versions/bca8058e-706c-4148-b792-66c31083fd90/',\n",
       "      '/analysis-step-versions/51350802-ad1b-4b97-8e52-2d9deea1cd9d/',\n",
       "      '/analysis-step-versions/2b906b3d-fc30-421a-8100-5ef2a8620b2c/']},\n",
       "    'date_created': '2016-01-21T00:58:03.077622+00:00',\n",
       "    'schema_version': '2',\n",
       "    'software_versions': ['/software-versions/e3258c4b-318a-45a7-b950-6536985bfdf2/',\n",
       "     '/software-versions/f41c5d8a-43b5-4e4e-a253-2eb5ddf95de9/',\n",
       "     '/software-versions/70a085ad-194e-4de0-838c-7af257680f54/',\n",
       "     '/software-versions/4c911ae3-9007-4777-9680-2c526ab8fdbb/'],\n",
       "    'status': 'released',\n",
       "    'submitted_by': '/users/a00d89e0-a488-4adf-9738-25149afc4087/',\n",
       "    'uuid': '2b906b3d-fc30-421a-8100-5ef2a8620b2c',\n",
       "    'version': 3},\n",
       "   'date_created': '2016-02-23T23:09:09.673255+00:00',\n",
       "   'dx_applet_details': [{'dx_job_id': 'job-Bq3qZ9j0J6Z6yG8fp5607g0Z',\n",
       "     'dx_status': 'finished',\n",
       "     'parameters': {'library_id': 'ENCLB302ZZZ',\n",
       "      'nthreads': 8,\n",
       "      'reads1': [{'$dnanexus_link': {'id': 'file-BbYf36Q0J6Z9j81F80V2KvZ3',\n",
       "         'project': 'project-BbF4J2Q0J6Z0q4K79k9V5fv0'}}],\n",
       "      'reads2': [{'$dnanexus_link': {'id': 'file-BbYf3500J6Z9gX4Vq58614Y2',\n",
       "         'project': 'project-BbF4J2Q0J6Z0q4K79k9V5fv0'}}]},\n",
       "     'started_running': '2016-02-20T01:04:01Z',\n",
       "     'stopped_running': '2016-02-20T10:09:13Z'}],\n",
       "   'notes': '{\"dx_project_name\": \"ENCODE - Production runs\", \"notes_version\": \"2\", \"dx_app_id\": \"applet-BpxjJj80J6Z44JkjPGpkbfKQ\", \"dx_project_id\": \"project-BbF4J2Q0J6Z0q4K79k9V5fv0\", \"dx_app_version\": \"2.1.0\", \"step_name\": \"/analysis-steps/lrna-pe-star-alignment-step-v-1/\", \"dx_analysis_id\": \"analysis-Bq3qZ9j0J6Z6yG8fp5607g0Q\", \"duration\": \"9h05m12s\", \"dx_app_name\": \"align-star-pe\", \"dx_cost\": \"$12.85\"}',\n",
       "   'schema_version': '2',\n",
       "   'status': 'finished',\n",
       "   'submitted_by': '/users/a00d89e0-a488-4adf-9738-25149afc4087/',\n",
       "   'uuid': '1cd4ad53-5f9f-4892-8629-c6401497cbc1'},\n",
       "  'submitted_by': '/users/a00d89e0-a488-4adf-9738-25149afc4087/',\n",
       "  'total': 578444568,\n",
       "  'total_qc_failed': 0,\n",
       "  'uuid': '3182d1d9-06a7-474b-84bf-494323861553',\n",
       "  'with_itself': 557166990,\n",
       "  'with_itself_qc_failed': 0},\n",
       " {'% of reads mapped to multiple loci': '13.50%',\n",
       "  '% of reads mapped to too many loci': '0.02%',\n",
       "  '% of reads unmapped: other': '0.02%',\n",
       "  '% of reads unmapped: too many mismatches': '0.00%',\n",
       "  '% of reads unmapped: too short': '5.26%',\n",
       "  '@id': '/star-quality-metrics/e737521f-5f72-4032-a9a4-9eec1105bcf8/',\n",
       "  '@type': ['StarQualityMetric', 'QualityMetric', 'Item'],\n",
       "  'Average input read length': 202,\n",
       "  'Average mapped length': 200.79,\n",
       "  'Deletion average length': 1.82,\n",
       "  'Deletion rate per base': '0.01%',\n",
       "  'Insertion average length': 1.37,\n",
       "  'Insertion rate per base': '0.01%',\n",
       "  'Mapping speed, Million of reads per hour': 83.89,\n",
       "  'Mismatch rate per base, %': '0.31%',\n",
       "  'Number of input reads': 200738652,\n",
       "  'Number of reads mapped to multiple loci': 27101622,\n",
       "  'Number of reads mapped to too many loci': 40824,\n",
       "  'Number of splices: AT/AC': 69014,\n",
       "  'Number of splices: Annotated (sjdb)': 70404664,\n",
       "  'Number of splices: GC/AG': 434210,\n",
       "  'Number of splices: GT/AG': 70419445,\n",
       "  'Number of splices: Non-canonical': 103119,\n",
       "  'Number of splices: Total': 71025788,\n",
       "  'Uniquely mapped reads %': '81.20%',\n",
       "  'Uniquely mapped reads number': 162998241,\n",
       "  'aliases': ['dnanexus:qc.STAR_log_final.job-Bq3qZ9j0J6Z6yG8fp5607g0Z'],\n",
       "  'assay_term_id': 'OBI:0001271',\n",
       "  'assay_term_name': 'RNA-seq',\n",
       "  'attachment': {'download': 'ENCSR000AAT_rep1_1_star_Log.final.out.txt',\n",
       "   'href': '@@download/attachment/ENCSR000AAT_rep1_1_star_Log.final.out.txt',\n",
       "   'md5sum': '6a69a3ceda97ea9aa85cdeb25c94a0a6',\n",
       "   'size': 1872,\n",
       "   'type': 'text/plain'},\n",
       "  'date_created': '2016-02-23T23:52:02.286892+00:00',\n",
       "  'quality_metric_of': ['/files/ENCFF821HDC/', '/files/ENCFF196COV/'],\n",
       "  'schema_version': '2',\n",
       "  'status': 'released',\n",
       "  'step_run': {'@id': '/analysis-step-runs/1cd4ad53-5f9f-4892-8629-c6401497cbc1/',\n",
       "   '@type': ['AnalysisStepRun', 'Item'],\n",
       "   'aliases': ['dnanexus:job-Bq3qZ9j0J6Z6yG8fp5607g0Z'],\n",
       "   'analysis_step_version': {'@id': '/analysis-step-versions/2b906b3d-fc30-421a-8100-5ef2a8620b2c/',\n",
       "    '@type': ['AnalysisStepVersion', 'Item'],\n",
       "    'aliases': ['dnanexus:align-star-pe-v-2-1'],\n",
       "    'analysis_step': {'@id': '/analysis-steps/lrna-pe-star-alignment-step-v-1/',\n",
       "     '@type': ['AnalysisStep', 'Item'],\n",
       "     'aliases': ['dnanexus:align-star-pe-v-1'],\n",
       "     'analysis_step_types': ['alignment', 'fastq concatenation'],\n",
       "     'current_version': '/analysis-step-versions/2b906b3d-fc30-421a-8100-5ef2a8620b2c/',\n",
       "     'date_created': '2015-03-12T04:27:42.368923+00:00',\n",
       "     'documents': [],\n",
       "     'input_file_types': ['reads'],\n",
       "     'name': 'lrna-pe-star-alignment-step-v-1',\n",
       "     'output_file_types': ['alignments'],\n",
       "     'parents': ['/analysis-steps/index-star-v-1-0/'],\n",
       "     'pipelines': ['/pipelines/ENCPL002LPE/'],\n",
       "     'schema_version': '4',\n",
       "     'status': 'released',\n",
       "     'submitted_by': '/users/81a6cc12-2847-4e2e-8f2c-f566699eb29e/',\n",
       "     'title': 'Long RNA-seq STAR paired-ended alignment step - Version 1',\n",
       "     'uuid': 'ace7163c-563a-43d6-a86f-686405af167d',\n",
       "     'versions': ['/analysis-step-versions/bca8058e-706c-4148-b792-66c31083fd90/',\n",
       "      '/analysis-step-versions/51350802-ad1b-4b97-8e52-2d9deea1cd9d/',\n",
       "      '/analysis-step-versions/2b906b3d-fc30-421a-8100-5ef2a8620b2c/']},\n",
       "    'date_created': '2016-01-21T00:58:03.077622+00:00',\n",
       "    'schema_version': '2',\n",
       "    'software_versions': ['/software-versions/e3258c4b-318a-45a7-b950-6536985bfdf2/',\n",
       "     '/software-versions/f41c5d8a-43b5-4e4e-a253-2eb5ddf95de9/',\n",
       "     '/software-versions/70a085ad-194e-4de0-838c-7af257680f54/',\n",
       "     '/software-versions/4c911ae3-9007-4777-9680-2c526ab8fdbb/'],\n",
       "    'status': 'released',\n",
       "    'submitted_by': '/users/a00d89e0-a488-4adf-9738-25149afc4087/',\n",
       "    'uuid': '2b906b3d-fc30-421a-8100-5ef2a8620b2c',\n",
       "    'version': 3},\n",
       "   'date_created': '2016-02-23T23:09:09.673255+00:00',\n",
       "   'dx_applet_details': [{'dx_job_id': 'job-Bq3qZ9j0J6Z6yG8fp5607g0Z',\n",
       "     'dx_status': 'finished',\n",
       "     'parameters': {'library_id': 'ENCLB302ZZZ',\n",
       "      'nthreads': 8,\n",
       "      'reads1': [{'$dnanexus_link': {'id': 'file-BbYf36Q0J6Z9j81F80V2KvZ3',\n",
       "         'project': 'project-BbF4J2Q0J6Z0q4K79k9V5fv0'}}],\n",
       "      'reads2': [{'$dnanexus_link': {'id': 'file-BbYf3500J6Z9gX4Vq58614Y2',\n",
       "         'project': 'project-BbF4J2Q0J6Z0q4K79k9V5fv0'}}]},\n",
       "     'started_running': '2016-02-20T01:04:01Z',\n",
       "     'stopped_running': '2016-02-20T10:09:13Z'}],\n",
       "   'notes': '{\"dx_project_name\": \"ENCODE - Production runs\", \"notes_version\": \"2\", \"dx_app_id\": \"applet-BpxjJj80J6Z44JkjPGpkbfKQ\", \"dx_project_id\": \"project-BbF4J2Q0J6Z0q4K79k9V5fv0\", \"dx_app_version\": \"2.1.0\", \"step_name\": \"/analysis-steps/lrna-pe-star-alignment-step-v-1/\", \"dx_analysis_id\": \"analysis-Bq3qZ9j0J6Z6yG8fp5607g0Q\", \"duration\": \"9h05m12s\", \"dx_app_name\": \"align-star-pe\", \"dx_cost\": \"$12.85\"}',\n",
       "   'schema_version': '2',\n",
       "   'status': 'finished',\n",
       "   'submitted_by': '/users/a00d89e0-a488-4adf-9738-25149afc4087/',\n",
       "   'uuid': '1cd4ad53-5f9f-4892-8629-c6401497cbc1'},\n",
       "  'submitted_by': '/users/a00d89e0-a488-4adf-9738-25149afc4087/',\n",
       "  'uuid': 'e737521f-5f72-4032-a9a4-9eec1105bcf8'}]"
      ]
     },
     "execution_count": 36,
     "metadata": {},
     "output_type": "execute_result"
    }
   ],
   "source": [
    "cache['ENCSR000AAT']['files'][30]['quality_metrics']"
   ]
  },
  {
   "cell_type": "code",
   "execution_count": 39,
   "metadata": {
    "collapsed": false
   },
   "outputs": [
    {
     "data": {
      "text/plain": [
       "'11.5'"
      ]
     },
     "execution_count": 39,
     "metadata": {},
     "output_type": "execute_result"
    }
   ],
   "source": [
    "cache['ENCSR160IIN']['replicates'][0]['library']['biosample']['age']"
   ]
  },
  {
   "cell_type": "code",
   "execution_count": null,
   "metadata": {
    "collapsed": true
   },
   "outputs": [],
   "source": []
  }
 ],
 "metadata": {
  "kernelspec": {
   "display_name": "Python 3",
   "language": "python",
   "name": "python3"
  },
  "language_info": {
   "codemirror_mode": {
    "name": "ipython",
    "version": 3
   },
   "file_extension": ".py",
   "mimetype": "text/x-python",
   "name": "python",
   "nbconvert_exporter": "python",
   "pygments_lexer": "ipython3",
   "version": "3.5.1+"
  }
 },
 "nbformat": 4,
 "nbformat_minor": 0
}
