{
 "cells": [
  {
   "cell_type": "markdown",
   "metadata": {},
   "source": [
    "I stumbled accross another QC metric called SERE. I need to see how it works."
   ]
  },
  {
   "cell_type": "code",
   "execution_count": 1,
   "metadata": {
    "collapsed": true
   },
   "outputs": [],
   "source": [
    "import pandas\n",
    "import numpy"
   ]
  },
  {
   "cell_type": "code",
   "execution_count": 2,
   "metadata": {
    "collapsed": false
   },
   "outputs": [],
   "source": [
    "%load_ext rpy2.ipython"
   ]
  },
  {
   "cell_type": "code",
   "execution_count": 19,
   "metadata": {
    "collapsed": false
   },
   "outputs": [],
   "source": [
    "counts = numpy.asarray([\n",
    "        [1, 1.1, 5  , 3],\n",
    "        [1,   0, 1.1, 1],\n",
    "        [5,   7, 5  , 4],\n",
    "        ])\n",
    "# counts = pandas.DataFrame(counts, index=['gene1','gene2','gene3'])\n",
    "\n",
    "totals = counts.sum(axis=0)"
   ]
  },
  {
   "cell_type": "code",
   "execution_count": 20,
   "metadata": {
    "collapsed": false
   },
   "outputs": [
    {
     "data": {
      "text/plain": [
       "array([  7. ,   8.1,  11.1,   8. ])"
      ]
     },
     "execution_count": 20,
     "metadata": {},
     "output_type": "execute_result"
    }
   ],
   "source": [
    "totals"
   ]
  },
  {
   "cell_type": "code",
   "execution_count": 6,
   "metadata": {
    "collapsed": true
   },
   "outputs": [],
   "source": [
    "%%R\n",
    "SERE_fun <- function(observed, laneTotals, TH=1) {\n",
    "  #calculate lambda and expected values\n",
    "  total <- sum(laneTotals)\n",
    "  fullObserved <- observed[rowSums(observed)>TH,];\n",
    "  fullLambda <- rowSums(fullObserved)/total;\n",
    "  fullLhat <- fullLambda > 0;\n",
    "  fullExpected<- outer(fullLambda, laneTotals);\n",
    "\n",
    "  #keep values\n",
    "  fullKeep <- which(rowSums(fullExpected) > 0);\n",
    "  \n",
    "  #calculate degrees of freedom (nrow*(ncol -1) >> number of parameters - number calculated parameter (lamda is calculated >> thus minus 1)\n",
    "  #calculate pearson and deviance for all values\n",
    "  oeFull <- rowSums((fullObserved[fullKeep,] - fullExpected[fullKeep,])^2/ fullExpected[fullKeep,]) # test for over dispersion\n",
    "  dfFull <- ncol(observed)*length(fullKeep) - sum(fullLhat!=0);\n",
    "  devFull <- rowSums( fullObserved[fullKeep,] * log(ifelse(fullObserved[fullKeep,]==0,1,fullObserved[fullKeep,])/fullExpected[fullKeep,]))\n",
    "  return(sqrt(sum(oeFull)/dfFull));\n",
    "}\n"
   ]
  },
  {
   "cell_type": "code",
   "execution_count": 21,
   "metadata": {
    "collapsed": false
   },
   "outputs": [
    {
     "data": {
      "text/plain": [
       "array([ 0.74359252])"
      ]
     },
     "execution_count": 21,
     "metadata": {},
     "output_type": "execute_result"
    }
   ],
   "source": [
    "%Rpush counts totals\n",
    "%R SERE_fun(counts, totals)"
   ]
  },
  {
   "cell_type": "code",
   "execution_count": 22,
   "metadata": {
    "collapsed": false
   },
   "outputs": [
    {
     "data": {
      "text/plain": [
       "array([ 0.35120678])"
      ]
     },
     "execution_count": 22,
     "metadata": {},
     "output_type": "execute_result"
    }
   ],
   "source": [
    "counts = numpy.asarray([\n",
    "        [1   , 1.1, 4.9, 3.0],\n",
    "        [.9  ,   1, 5.1, 3.5],\n",
    "        [1.01,   3, 5  , 4.0],\n",
    "        ])\n",
    "# counts = pandas.DataFrame(counts, index=['gene1','gene2','gene3'])\n",
    "\n",
    "totals = counts.sum(axis=0)\n",
    "%Rpush counts totals\n",
    "%R SERE_fun(counts, totals)"
   ]
  },
  {
   "cell_type": "code",
   "execution_count": 23,
   "metadata": {
    "collapsed": false
   },
   "outputs": [
    {
     "data": {
      "text/plain": [
       "array([ 0.])"
      ]
     },
     "execution_count": 23,
     "metadata": {},
     "output_type": "execute_result"
    }
   ],
   "source": [
    "counts = numpy.ones(shape=(10000,4))\n",
    "totals = counts.sum(axis=0)\n",
    "%Rpush counts totals\n",
    "%R SERE_fun(counts, totals)"
   ]
  },
  {
   "cell_type": "code",
   "execution_count": 24,
   "metadata": {
    "collapsed": false
   },
   "outputs": [
    {
     "name": "stdout",
     "output_type": "stream",
     "text": [
      "\n",
      "Error in (fullObserved[fullKeep, ] - fullExpected[fullKeep, ])^2/fullExpected[fullKeep,  : \n",
      "  non-conformable arrays\n"
     ]
    },
    {
     "name": "stderr",
     "output_type": "stream",
     "text": [
      "/usr/lib/python3/dist-packages/rpy2/robjects/functions.py:106: UserWarning: Error in (fullObserved[fullKeep, ] - fullExpected[fullKeep, ])^2/fullExpected[fullKeep,  : \n",
      "  non-conformable arrays\n",
      "\n",
      "  res = super(Function, self).__call__(*new_args, **new_kwargs)\n"
     ]
    }
   ],
   "source": [
    "noise = numpy.random.normal(loc=0.0, scale=1, size=(10000, 2))\n",
    "values = numpy.random.lognormal(mean=1.0, sigma=0.5, size=(10000))\n",
    "counts = pandas.DataFrame(\n",
    "    [ (v + (n[0]/v), v + (n[1]/v)) for v, n in zip (values, noise) ],\n",
    "    columns=['rep1', 'rep2'])\n",
    "%Rpush counts totals\n",
    "%R SERE_fun(counts, totals)"
   ]
  },
  {
   "cell_type": "code",
   "execution_count": null,
   "metadata": {
    "collapsed": true
   },
   "outputs": [],
   "source": []
  }
 ],
 "metadata": {
  "kernelspec": {
   "display_name": "Python 3",
   "language": "python",
   "name": "python3"
  },
  "language_info": {
   "codemirror_mode": {
    "name": "ipython",
    "version": 3
   },
   "file_extension": ".py",
   "mimetype": "text/x-python",
   "name": "python",
   "nbconvert_exporter": "python",
   "pygments_lexer": "ipython3",
   "version": "3.5.1+"
  }
 },
 "nbformat": 4,
 "nbformat_minor": 0
}
