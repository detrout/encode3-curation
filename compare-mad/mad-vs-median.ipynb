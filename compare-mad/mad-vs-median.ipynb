{
 "cells": [
  {
   "cell_type": "markdown",
   "metadata": {},
   "source": [
    "# Introduction\n",
    "\n",
    "We are curious what fraction of a library is filled with spikes?"
   ]
  },
  {
   "cell_type": "code",
   "execution_count": 1,
   "metadata": {
    "collapsed": true
   },
   "outputs": [],
   "source": [
    "import os\n",
    "from glob import glob\n",
    "import numpy\n",
    "import sys\n",
    "import pandas"
   ]
  },
  {
   "cell_type": "code",
   "execution_count": 2,
   "metadata": {
    "collapsed": false
   },
   "outputs": [],
   "source": [
    "%matplotlib inline"
   ]
  },
  {
   "cell_type": "code",
   "execution_count": 3,
   "metadata": {
    "collapsed": true
   },
   "outputs": [],
   "source": [
    "ROOT=os.path.expanduser(\"~diane/proj/encode3-curation\")\n",
    "if ROOT not in sys.path:\n",
    "    sys.path.append(ROOT)"
   ]
  },
  {
   "cell_type": "code",
   "execution_count": 4,
   "metadata": {
    "collapsed": true
   },
   "outputs": [],
   "source": [
    "experiment_qc = pandas.read_csv(os.path.join(ROOT, 'compare-mad', 'experiment-mad-qc.csv'))"
   ]
  },
  {
   "cell_type": "code",
   "execution_count": 5,
   "metadata": {
    "collapsed": false
   },
   "outputs": [
    {
     "data": {
      "text/plain": [
       "95"
      ]
     },
     "execution_count": 5,
     "metadata": {},
     "output_type": "execute_result"
    }
   ],
   "source": [
    "wold = glob(os.path.expanduser('~/public_html/compare-mad/wold_gene_quantifications/*_tpms.csv'))\n",
    "len(wold)"
   ]
  },
  {
   "cell_type": "code",
   "execution_count": 6,
   "metadata": {
    "collapsed": false
   },
   "outputs": [
    {
     "data": {
      "text/plain": [
       "142"
      ]
     },
     "execution_count": 6,
     "metadata": {},
     "output_type": "execute_result"
    }
   ],
   "source": [
    "gingeras = glob(os.path.expanduser('~/public_html/compare-mad/gingeras_fpkms/*_tpms.csv'))\n",
    "len(gingeras)"
   ]
  },
  {
   "cell_type": "code",
   "execution_count": 7,
   "metadata": {
    "collapsed": false
   },
   "outputs": [],
   "source": [
    "def make_library_gene_median(experiments):\n",
    "    for pathname in experiments:\n",
    "        path, filename = os.path.split(pathname)\n",
    "        accession = filename.split('_')[0]\n",
    "        data = pandas.read_csv(pathname, index_col=0, header=0)\n",
    "        logdata = numpy.log2(data)\n",
    "        A = logdata.sum(axis=1) / 2.0\n",
    "        \n",
    "        gencode_rows = [ x.startswith('ENS') for x in data.index]\n",
    "        gene_median = data[gencode_rows][A > 0].median()\n",
    "        for name in gene_median.index:\n",
    "            yield (accession, name, gene_median[name])"
   ]
  },
  {
   "cell_type": "code",
   "execution_count": 8,
   "metadata": {
    "collapsed": false
   },
   "outputs": [
    {
     "name": "stderr",
     "output_type": "stream",
     "text": [
      "/usr/lib/python3/dist-packages/pandas/core/frame.py:1997: UserWarning: Boolean Series key will be reindexed to match DataFrame index.\n",
      "  \"DataFrame index.\", UserWarning)\n"
     ]
    }
   ],
   "source": [
    "gingeras_median = pandas.DataFrame(make_library_gene_median(gingeras), columns=['experiment', 'library', 'median'])\n",
    "gingeras_median.to_csv(os.path.expanduser('~/public_html/compare-mad/gingeras_fpkms/gingeras-median.csv'),\n",
    "                 index=False)"
   ]
  },
  {
   "cell_type": "code",
   "execution_count": 9,
   "metadata": {
    "collapsed": false
   },
   "outputs": [
    {
     "data": {
      "text/html": [
       "<div>\n",
       "<table border=\"1\" class=\"dataframe\">\n",
       "  <thead>\n",
       "    <tr style=\"text-align: right;\">\n",
       "      <th></th>\n",
       "      <th>experiment</th>\n",
       "      <th>library</th>\n",
       "      <th>median</th>\n",
       "    </tr>\n",
       "  </thead>\n",
       "  <tbody>\n",
       "    <tr>\n",
       "      <th>0</th>\n",
       "      <td>ENCSR000AAH</td>\n",
       "      <td>ENCLB014ZZZ</td>\n",
       "      <td>1.960</td>\n",
       "    </tr>\n",
       "    <tr>\n",
       "      <th>1</th>\n",
       "      <td>ENCSR000AAH</td>\n",
       "      <td>ENCLB015ZZZ</td>\n",
       "      <td>3.050</td>\n",
       "    </tr>\n",
       "    <tr>\n",
       "      <th>2</th>\n",
       "      <td>ENCSR000BYS</td>\n",
       "      <td>ENCLB555AYY</td>\n",
       "      <td>9.290</td>\n",
       "    </tr>\n",
       "    <tr>\n",
       "      <th>3</th>\n",
       "      <td>ENCSR000BYS</td>\n",
       "      <td>ENCLB555AYX</td>\n",
       "      <td>10.240</td>\n",
       "    </tr>\n",
       "    <tr>\n",
       "      <th>4</th>\n",
       "      <td>ENCSR000CUG</td>\n",
       "      <td>ENCLB555ARM</td>\n",
       "      <td>5.050</td>\n",
       "    </tr>\n",
       "    <tr>\n",
       "      <th>5</th>\n",
       "      <td>ENCSR000CUG</td>\n",
       "      <td>ENCLB555ARL</td>\n",
       "      <td>1.410</td>\n",
       "    </tr>\n",
       "    <tr>\n",
       "      <th>6</th>\n",
       "      <td>ENCSR420NLC</td>\n",
       "      <td>ENCLB978NNR</td>\n",
       "      <td>6.025</td>\n",
       "    </tr>\n",
       "    <tr>\n",
       "      <th>7</th>\n",
       "      <td>ENCSR420NLC</td>\n",
       "      <td>ENCLB550IUC</td>\n",
       "      <td>8.060</td>\n",
       "    </tr>\n",
       "    <tr>\n",
       "      <th>8</th>\n",
       "      <td>ENCSR000AFN</td>\n",
       "      <td>ENCLB211ZZZ</td>\n",
       "      <td>2.980</td>\n",
       "    </tr>\n",
       "    <tr>\n",
       "      <th>9</th>\n",
       "      <td>ENCSR000AFN</td>\n",
       "      <td>ENCLB212ZZZ</td>\n",
       "      <td>4.900</td>\n",
       "    </tr>\n",
       "    <tr>\n",
       "      <th>10</th>\n",
       "      <td>ENCSR000BYR</td>\n",
       "      <td>ENCLB555AYS</td>\n",
       "      <td>12.600</td>\n",
       "    </tr>\n",
       "    <tr>\n",
       "      <th>11</th>\n",
       "      <td>ENCSR000BYR</td>\n",
       "      <td>ENCLB555AZK</td>\n",
       "      <td>11.250</td>\n",
       "    </tr>\n",
       "    <tr>\n",
       "      <th>12</th>\n",
       "      <td>ENCSR000AJV</td>\n",
       "      <td>ENCLB002NLT</td>\n",
       "      <td>17.280</td>\n",
       "    </tr>\n",
       "    <tr>\n",
       "      <th>13</th>\n",
       "      <td>ENCSR000AJV</td>\n",
       "      <td>ENCLB003NLT</td>\n",
       "      <td>17.265</td>\n",
       "    </tr>\n",
       "    <tr>\n",
       "      <th>14</th>\n",
       "      <td>ENCSR136WGP</td>\n",
       "      <td>ENCLB210NQG</td>\n",
       "      <td>11.350</td>\n",
       "    </tr>\n",
       "    <tr>\n",
       "      <th>15</th>\n",
       "      <td>ENCSR136WGP</td>\n",
       "      <td>ENCLB120HZY</td>\n",
       "      <td>11.000</td>\n",
       "    </tr>\n",
       "    <tr>\n",
       "      <th>16</th>\n",
       "      <td>ENCSR532LJV</td>\n",
       "      <td>ENCLB637GXV</td>\n",
       "      <td>7.600</td>\n",
       "    </tr>\n",
       "    <tr>\n",
       "      <th>17</th>\n",
       "      <td>ENCSR532LJV</td>\n",
       "      <td>ENCLB109UZW</td>\n",
       "      <td>9.040</td>\n",
       "    </tr>\n",
       "    <tr>\n",
       "      <th>18</th>\n",
       "      <td>ENCSR000AAI</td>\n",
       "      <td>ENCLB016ZZZ</td>\n",
       "      <td>8.600</td>\n",
       "    </tr>\n",
       "    <tr>\n",
       "      <th>19</th>\n",
       "      <td>ENCSR000AAI</td>\n",
       "      <td>ENCLB017ZZZ</td>\n",
       "      <td>2.150</td>\n",
       "    </tr>\n",
       "    <tr>\n",
       "      <th>20</th>\n",
       "      <td>ENCSR000AAV</td>\n",
       "      <td>ENCLB033ZZZ</td>\n",
       "      <td>3.685</td>\n",
       "    </tr>\n",
       "    <tr>\n",
       "      <th>21</th>\n",
       "      <td>ENCSR000AAV</td>\n",
       "      <td>ENCLB034ZZZ</td>\n",
       "      <td>3.180</td>\n",
       "    </tr>\n",
       "    <tr>\n",
       "      <th>22</th>\n",
       "      <td>ENCSR000AFO</td>\n",
       "      <td>ENCLB213ZZZ</td>\n",
       "      <td>8.080</td>\n",
       "    </tr>\n",
       "    <tr>\n",
       "      <th>23</th>\n",
       "      <td>ENCSR000AFO</td>\n",
       "      <td>ENCLB214ZZZ</td>\n",
       "      <td>1.460</td>\n",
       "    </tr>\n",
       "    <tr>\n",
       "      <th>24</th>\n",
       "      <td>ENCSR815UVL</td>\n",
       "      <td>ENCLB311NPN</td>\n",
       "      <td>5.900</td>\n",
       "    </tr>\n",
       "    <tr>\n",
       "      <th>25</th>\n",
       "      <td>ENCSR815UVL</td>\n",
       "      <td>ENCLB652XFG</td>\n",
       "      <td>4.240</td>\n",
       "    </tr>\n",
       "    <tr>\n",
       "      <th>26</th>\n",
       "      <td>ENCSR332DBS</td>\n",
       "      <td>ENCLB921UIV</td>\n",
       "      <td>4.730</td>\n",
       "    </tr>\n",
       "    <tr>\n",
       "      <th>27</th>\n",
       "      <td>ENCSR332DBS</td>\n",
       "      <td>ENCLB756FRE</td>\n",
       "      <td>5.660</td>\n",
       "    </tr>\n",
       "    <tr>\n",
       "      <th>28</th>\n",
       "      <td>ENCSR919QJT</td>\n",
       "      <td>ENCLB738UVO</td>\n",
       "      <td>8.910</td>\n",
       "    </tr>\n",
       "    <tr>\n",
       "      <th>29</th>\n",
       "      <td>ENCSR919QJT</td>\n",
       "      <td>ENCLB652BFV</td>\n",
       "      <td>9.710</td>\n",
       "    </tr>\n",
       "    <tr>\n",
       "      <th>...</th>\n",
       "      <td>...</td>\n",
       "      <td>...</td>\n",
       "      <td>...</td>\n",
       "    </tr>\n",
       "    <tr>\n",
       "      <th>254</th>\n",
       "      <td>ENCSR000AFC</td>\n",
       "      <td>ENCLB189ZZZ</td>\n",
       "      <td>2.560</td>\n",
       "    </tr>\n",
       "    <tr>\n",
       "      <th>255</th>\n",
       "      <td>ENCSR000AFC</td>\n",
       "      <td>ENCLB190ZZZ</td>\n",
       "      <td>11.060</td>\n",
       "    </tr>\n",
       "    <tr>\n",
       "      <th>256</th>\n",
       "      <td>ENCSR000AEM</td>\n",
       "      <td>ENCLB055ZZZ</td>\n",
       "      <td>14.805</td>\n",
       "    </tr>\n",
       "    <tr>\n",
       "      <th>257</th>\n",
       "      <td>ENCSR000AEM</td>\n",
       "      <td>ENCLB056ZZZ</td>\n",
       "      <td>14.760</td>\n",
       "    </tr>\n",
       "    <tr>\n",
       "      <th>258</th>\n",
       "      <td>ENCSR000CUJ</td>\n",
       "      <td>ENCLB555AWF</td>\n",
       "      <td>3.760</td>\n",
       "    </tr>\n",
       "    <tr>\n",
       "      <th>259</th>\n",
       "      <td>ENCSR000CUJ</td>\n",
       "      <td>ENCLB555AXD</td>\n",
       "      <td>3.950</td>\n",
       "    </tr>\n",
       "    <tr>\n",
       "      <th>260</th>\n",
       "      <td>ENCSR620NSN</td>\n",
       "      <td>ENCLB333MHE</td>\n",
       "      <td>2.410</td>\n",
       "    </tr>\n",
       "    <tr>\n",
       "      <th>261</th>\n",
       "      <td>ENCSR620NSN</td>\n",
       "      <td>ENCLB463QPI</td>\n",
       "      <td>2.720</td>\n",
       "    </tr>\n",
       "    <tr>\n",
       "      <th>262</th>\n",
       "      <td>ENCSR000CPX</td>\n",
       "      <td>ENCLB555APE</td>\n",
       "      <td>5.735</td>\n",
       "    </tr>\n",
       "    <tr>\n",
       "      <th>263</th>\n",
       "      <td>ENCSR000CPX</td>\n",
       "      <td>ENCLB555APF</td>\n",
       "      <td>5.145</td>\n",
       "    </tr>\n",
       "    <tr>\n",
       "      <th>264</th>\n",
       "      <td>ENCSR000AAE</td>\n",
       "      <td>ENCLB008ZZZ</td>\n",
       "      <td>3.570</td>\n",
       "    </tr>\n",
       "    <tr>\n",
       "      <th>265</th>\n",
       "      <td>ENCSR000AAE</td>\n",
       "      <td>ENCLB009ZZZ</td>\n",
       "      <td>2.540</td>\n",
       "    </tr>\n",
       "    <tr>\n",
       "      <th>266</th>\n",
       "      <td>ENCSR919MZM</td>\n",
       "      <td>ENCLB260JQO</td>\n",
       "      <td>4.110</td>\n",
       "    </tr>\n",
       "    <tr>\n",
       "      <th>267</th>\n",
       "      <td>ENCSR919MZM</td>\n",
       "      <td>ENCLB925VWI</td>\n",
       "      <td>3.000</td>\n",
       "    </tr>\n",
       "    <tr>\n",
       "      <th>268</th>\n",
       "      <td>ENCSR000CUK</td>\n",
       "      <td>ENCLB555AQY</td>\n",
       "      <td>5.900</td>\n",
       "    </tr>\n",
       "    <tr>\n",
       "      <th>269</th>\n",
       "      <td>ENCSR000CUK</td>\n",
       "      <td>ENCLB555ALD</td>\n",
       "      <td>2.980</td>\n",
       "    </tr>\n",
       "    <tr>\n",
       "      <th>270</th>\n",
       "      <td>ENCSR000AEL</td>\n",
       "      <td>ENCLB053ZZZ</td>\n",
       "      <td>6.785</td>\n",
       "    </tr>\n",
       "    <tr>\n",
       "      <th>271</th>\n",
       "      <td>ENCSR000AEL</td>\n",
       "      <td>ENCLB054ZZZ</td>\n",
       "      <td>5.440</td>\n",
       "    </tr>\n",
       "    <tr>\n",
       "      <th>272</th>\n",
       "      <td>ENCSR000AFB</td>\n",
       "      <td>ENCLB187ZZZ</td>\n",
       "      <td>5.090</td>\n",
       "    </tr>\n",
       "    <tr>\n",
       "      <th>273</th>\n",
       "      <td>ENCSR000AFB</td>\n",
       "      <td>ENCLB188ZZZ</td>\n",
       "      <td>3.560</td>\n",
       "    </tr>\n",
       "    <tr>\n",
       "      <th>274</th>\n",
       "      <td>ENCSR535VTR</td>\n",
       "      <td>ENCLB406ORD</td>\n",
       "      <td>6.650</td>\n",
       "    </tr>\n",
       "    <tr>\n",
       "      <th>275</th>\n",
       "      <td>ENCSR535VTR</td>\n",
       "      <td>ENCLB151WWC</td>\n",
       "      <td>15.810</td>\n",
       "    </tr>\n",
       "    <tr>\n",
       "      <th>276</th>\n",
       "      <td>ENCSR568YRP</td>\n",
       "      <td>ENCLB879IMG</td>\n",
       "      <td>9.600</td>\n",
       "    </tr>\n",
       "    <tr>\n",
       "      <th>277</th>\n",
       "      <td>ENCSR568YRP</td>\n",
       "      <td>ENCLB427PQN</td>\n",
       "      <td>13.260</td>\n",
       "    </tr>\n",
       "    <tr>\n",
       "      <th>278</th>\n",
       "      <td>ENCSR000AAD</td>\n",
       "      <td>ENCLB006ZZZ</td>\n",
       "      <td>1.720</td>\n",
       "    </tr>\n",
       "    <tr>\n",
       "      <th>279</th>\n",
       "      <td>ENCSR000AAD</td>\n",
       "      <td>ENCLB007ZZZ</td>\n",
       "      <td>3.890</td>\n",
       "    </tr>\n",
       "    <tr>\n",
       "      <th>280</th>\n",
       "      <td>ENCSR444WHQ</td>\n",
       "      <td>ENCLB493TSJ</td>\n",
       "      <td>3.980</td>\n",
       "    </tr>\n",
       "    <tr>\n",
       "      <th>281</th>\n",
       "      <td>ENCSR444WHQ</td>\n",
       "      <td>ENCLB550ATC</td>\n",
       "      <td>3.790</td>\n",
       "    </tr>\n",
       "    <tr>\n",
       "      <th>282</th>\n",
       "      <td>ENCSR669KQU</td>\n",
       "      <td>ENCLB059TNM</td>\n",
       "      <td>10.150</td>\n",
       "    </tr>\n",
       "    <tr>\n",
       "      <th>283</th>\n",
       "      <td>ENCSR669KQU</td>\n",
       "      <td>ENCLB695YMT</td>\n",
       "      <td>9.615</td>\n",
       "    </tr>\n",
       "  </tbody>\n",
       "</table>\n",
       "<p>284 rows × 3 columns</p>\n",
       "</div>"
      ],
      "text/plain": [
       "      experiment      library  median\n",
       "0    ENCSR000AAH  ENCLB014ZZZ   1.960\n",
       "1    ENCSR000AAH  ENCLB015ZZZ   3.050\n",
       "2    ENCSR000BYS  ENCLB555AYY   9.290\n",
       "3    ENCSR000BYS  ENCLB555AYX  10.240\n",
       "4    ENCSR000CUG  ENCLB555ARM   5.050\n",
       "5    ENCSR000CUG  ENCLB555ARL   1.410\n",
       "6    ENCSR420NLC  ENCLB978NNR   6.025\n",
       "7    ENCSR420NLC  ENCLB550IUC   8.060\n",
       "8    ENCSR000AFN  ENCLB211ZZZ   2.980\n",
       "9    ENCSR000AFN  ENCLB212ZZZ   4.900\n",
       "10   ENCSR000BYR  ENCLB555AYS  12.600\n",
       "11   ENCSR000BYR  ENCLB555AZK  11.250\n",
       "12   ENCSR000AJV  ENCLB002NLT  17.280\n",
       "13   ENCSR000AJV  ENCLB003NLT  17.265\n",
       "14   ENCSR136WGP  ENCLB210NQG  11.350\n",
       "15   ENCSR136WGP  ENCLB120HZY  11.000\n",
       "16   ENCSR532LJV  ENCLB637GXV   7.600\n",
       "17   ENCSR532LJV  ENCLB109UZW   9.040\n",
       "18   ENCSR000AAI  ENCLB016ZZZ   8.600\n",
       "19   ENCSR000AAI  ENCLB017ZZZ   2.150\n",
       "20   ENCSR000AAV  ENCLB033ZZZ   3.685\n",
       "21   ENCSR000AAV  ENCLB034ZZZ   3.180\n",
       "22   ENCSR000AFO  ENCLB213ZZZ   8.080\n",
       "23   ENCSR000AFO  ENCLB214ZZZ   1.460\n",
       "24   ENCSR815UVL  ENCLB311NPN   5.900\n",
       "25   ENCSR815UVL  ENCLB652XFG   4.240\n",
       "26   ENCSR332DBS  ENCLB921UIV   4.730\n",
       "27   ENCSR332DBS  ENCLB756FRE   5.660\n",
       "28   ENCSR919QJT  ENCLB738UVO   8.910\n",
       "29   ENCSR919QJT  ENCLB652BFV   9.710\n",
       "..           ...          ...     ...\n",
       "254  ENCSR000AFC  ENCLB189ZZZ   2.560\n",
       "255  ENCSR000AFC  ENCLB190ZZZ  11.060\n",
       "256  ENCSR000AEM  ENCLB055ZZZ  14.805\n",
       "257  ENCSR000AEM  ENCLB056ZZZ  14.760\n",
       "258  ENCSR000CUJ  ENCLB555AWF   3.760\n",
       "259  ENCSR000CUJ  ENCLB555AXD   3.950\n",
       "260  ENCSR620NSN  ENCLB333MHE   2.410\n",
       "261  ENCSR620NSN  ENCLB463QPI   2.720\n",
       "262  ENCSR000CPX  ENCLB555APE   5.735\n",
       "263  ENCSR000CPX  ENCLB555APF   5.145\n",
       "264  ENCSR000AAE  ENCLB008ZZZ   3.570\n",
       "265  ENCSR000AAE  ENCLB009ZZZ   2.540\n",
       "266  ENCSR919MZM  ENCLB260JQO   4.110\n",
       "267  ENCSR919MZM  ENCLB925VWI   3.000\n",
       "268  ENCSR000CUK  ENCLB555AQY   5.900\n",
       "269  ENCSR000CUK  ENCLB555ALD   2.980\n",
       "270  ENCSR000AEL  ENCLB053ZZZ   6.785\n",
       "271  ENCSR000AEL  ENCLB054ZZZ   5.440\n",
       "272  ENCSR000AFB  ENCLB187ZZZ   5.090\n",
       "273  ENCSR000AFB  ENCLB188ZZZ   3.560\n",
       "274  ENCSR535VTR  ENCLB406ORD   6.650\n",
       "275  ENCSR535VTR  ENCLB151WWC  15.810\n",
       "276  ENCSR568YRP  ENCLB879IMG   9.600\n",
       "277  ENCSR568YRP  ENCLB427PQN  13.260\n",
       "278  ENCSR000AAD  ENCLB006ZZZ   1.720\n",
       "279  ENCSR000AAD  ENCLB007ZZZ   3.890\n",
       "280  ENCSR444WHQ  ENCLB493TSJ   3.980\n",
       "281  ENCSR444WHQ  ENCLB550ATC   3.790\n",
       "282  ENCSR669KQU  ENCLB059TNM  10.150\n",
       "283  ENCSR669KQU  ENCLB695YMT   9.615\n",
       "\n",
       "[284 rows x 3 columns]"
      ]
     },
     "execution_count": 9,
     "metadata": {},
     "output_type": "execute_result"
    }
   ],
   "source": [
    "gingeras_median"
   ]
  },
  {
   "cell_type": "markdown",
   "metadata": {},
   "source": [
    "# Gingeras Median"
   ]
  },
  {
   "cell_type": "code",
   "execution_count": 10,
   "metadata": {
    "collapsed": false
   },
   "outputs": [
    {
     "data": {
      "text/plain": [
       "<matplotlib.axes._subplots.AxesSubplot at 0x7f9bc0a17a58>"
      ]
     },
     "execution_count": 10,
     "metadata": {},
     "output_type": "execute_result"
    },
    {
     "data": {
      "image/png": "[encoded data removed]",
      "text/plain": [
       "<matplotlib.figure.Figure at 0x7f9bc0a177b8>"
      ]
     },
     "metadata": {},
     "output_type": "display_data"
    }
   ],
   "source": [
    "gingeras_median['median'].plot(kind='hist')"
   ]
  },
  {
   "cell_type": "code",
   "execution_count": 11,
   "metadata": {
    "collapsed": false
   },
   "outputs": [
    {
     "name": "stderr",
     "output_type": "stream",
     "text": [
      "/usr/lib/python3/dist-packages/pandas/core/frame.py:1997: UserWarning: Boolean Series key will be reindexed to match DataFrame index.\n",
      "  \"DataFrame index.\", UserWarning)\n"
     ]
    }
   ],
   "source": [
    "wold_median = pandas.DataFrame(make_library_gene_median(wold), columns=['experiment', 'library', 'median'])\n",
    "wold_median.to_csv(os.path.expanduser('~/public_html/compare-mad/wold_gene_quantifications/wold-median.csv'),\n",
    "                 index=False)"
   ]
  },
  {
   "cell_type": "markdown",
   "metadata": {},
   "source": [
    "# Wold Median"
   ]
  },
  {
   "cell_type": "code",
   "execution_count": 12,
   "metadata": {
    "collapsed": false
   },
   "outputs": [
    {
     "data": {
      "text/plain": [
       "<matplotlib.axes._subplots.AxesSubplot at 0x7f9bc4ce0fd0>"
      ]
     },
     "execution_count": 12,
     "metadata": {},
     "output_type": "execute_result"
    },
    {
     "data": {
      "image/png": "[encoded data removed]",
      "text/plain": [
       "<matplotlib.figure.Figure at 0x7f9bc2a6ae10>"
      ]
     },
     "metadata": {},
     "output_type": "display_data"
    }
   ],
   "source": [
    "wold_median['median'].plot(kind='hist')"
   ]
  },
  {
   "cell_type": "markdown",
   "metadata": {},
   "source": [
    "# Gingeras MAD vs median"
   ]
  },
  {
   "cell_type": "code",
   "execution_count": 13,
   "metadata": {
    "collapsed": false
   },
   "outputs": [
    {
     "data": {
      "image/png": "[encoded data removed]",
      "text/plain": [
       "<matplotlib.figure.Figure at 0x7f9bc23964e0>"
      ]
     },
     "metadata": {},
     "output_type": "display_data"
    }
   ],
   "source": [
    "_ = pandas.merge(\n",
    "    experiment_qc[['experiment', 'MAD']], \n",
    "    gingeras_median[['experiment', 'median']],\n",
    "    on='experiment', how='inner').plot('MAD', 'median', kind='scatter')"
   ]
  },
  {
   "cell_type": "markdown",
   "metadata": {},
   "source": [
    "# Wold MAD vs median"
   ]
  },
  {
   "cell_type": "code",
   "execution_count": 15,
   "metadata": {
    "collapsed": false
   },
   "outputs": [
    {
     "data": {
      "image/png": "[encoded data removed]",
      "text/plain": [
       "<matplotlib.figure.Figure at 0x7f9bc1319c18>"
      ]
     },
     "metadata": {},
     "output_type": "display_data"
    }
   ],
   "source": [
    "_ = pandas.merge(\n",
    "    experiment_qc[['experiment', 'MAD']], \n",
    "    wold_median[['experiment', 'median']],\n",
    "    on='experiment', how='inner').plot('MAD', 'median', kind='scatter')"
   ]
  },
  {
   "cell_type": "code",
   "execution_count": null,
   "metadata": {
    "collapsed": true
   },
   "outputs": [],
   "source": []
  }
 ],
 "metadata": {
  "kernelspec": {
   "display_name": "Python 3",
   "language": "python",
   "name": "python3"
  },
  "language_info": {
   "codemirror_mode": {
    "name": "ipython",
    "version": 3
   },
   "file_extension": ".py",
   "mimetype": "text/x-python",
   "name": "python",
   "nbconvert_exporter": "python",
   "pygments_lexer": "ipython3",
   "version": "3.5.1+"
  }
 },
 "nbformat": 4,
 "nbformat_minor": 0
}
