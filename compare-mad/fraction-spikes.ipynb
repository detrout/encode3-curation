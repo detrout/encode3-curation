{
 "cells": [
  {
   "cell_type": "markdown",
   "metadata": {},
   "source": [
    "# Introduction\n",
    "\n",
    "We are curious what fraction of a library is filled with spikes?"
   ]
  },
  {
   "cell_type": "code",
   "execution_count": 1,
   "metadata": {
    "collapsed": true
   },
   "outputs": [],
   "source": [
    "import os\n",
    "from glob import glob\n",
    "import sys\n",
    "import pandas"
   ]
  },
  {
   "cell_type": "code",
   "execution_count": 2,
   "metadata": {
    "collapsed": false
   },
   "outputs": [],
   "source": [
    "%matplotlib inline"
   ]
  },
  {
   "cell_type": "code",
   "execution_count": 3,
   "metadata": {
    "collapsed": true
   },
   "outputs": [],
   "source": [
    "ROOT=os.path.expanduser(\"~diane/proj/encode3-curation\")\n",
    "if ROOT not in sys.path:\n",
    "    sys.path.append(ROOT)"
   ]
  },
  {
   "cell_type": "code",
   "execution_count": 4,
   "metadata": {
    "collapsed": true
   },
   "outputs": [],
   "source": [
    "experiment_qc = pandas.read_csv(os.path.join(ROOT, 'compare-mad', 'experiment-mad-qc.csv'))"
   ]
  },
  {
   "cell_type": "code",
   "execution_count": 5,
   "metadata": {
    "collapsed": false
   },
   "outputs": [
    {
     "data": {
      "text/plain": [
       "95"
      ]
     },
     "execution_count": 5,
     "metadata": {},
     "output_type": "execute_result"
    }
   ],
   "source": [
    "wold = glob(os.path.expanduser('~/public_html/compare-mad/wold_gene_quantifications/*_tpms.csv'))\n",
    "len(wold)"
   ]
  },
  {
   "cell_type": "code",
   "execution_count": 6,
   "metadata": {
    "collapsed": false
   },
   "outputs": [
    {
     "data": {
      "text/plain": [
       "142"
      ]
     },
     "execution_count": 6,
     "metadata": {},
     "output_type": "execute_result"
    }
   ],
   "source": [
    "gingeras = glob(os.path.expanduser('~/public_html/compare-mad/gingeras_fpkms/*_tpms.csv'))\n",
    "len(gingeras)"
   ]
  },
  {
   "cell_type": "code",
   "execution_count": null,
   "metadata": {
    "collapsed": false
   },
   "outputs": [],
   "source": [
    "def read_experiment_quantifications(experiments):\n",
    "    for pathname in experiments:\n",
    "        path, filename = os.path.split(pathname)\n",
    "        accession = filename.split('_')[0]\n",
    "        data = pandas.read_csv(pathname, index_col=0, header=0)\n",
    "        trna_rows = [ x[0].isdigit() for x in data.index ]\n",
    "        gencode_rows = [ x.startswith('ENS') for x in data.index]\n",
    "        spike_rows = [ x.startswith('gSpikein') for x in data.index]\n",
    "        trna_sum = data[trna_rows].sum()\n",
    "        gencode_sum = data[gencode_rows].sum()\n",
    "        spike_sum = data[spike_rows].sum()\n",
    "        total_sum = data.sum()\n",
    "        fraction_spikes = spike_sum / total_sum\n",
    "        for name in fraction_spikes.index:\n",
    "            yield (accession, name, fraction_spikes[name])"
   ]
  },
  {
   "cell_type": "code",
   "execution_count": null,
   "metadata": {
    "collapsed": false
   },
   "outputs": [],
   "source": [
    "gingeras_sums = pandas.DataFrame(read_experiment_quantifications(gingeras), columns=['experiment', 'library', 'fraction'])\n",
    "gingeras_sums.to_csv(os.path.expanduser('~/public_html/compare-mad/gingeras_fpkms/gingeras-fraction-spikes.csv'),\n",
    "                 index=False)"
   ]
  },
  {
   "cell_type": "markdown",
   "metadata": {},
   "source": [
    "# Gingeras Fraction Spikes"
   ]
  },
  {
   "cell_type": "code",
   "execution_count": null,
   "metadata": {
    "collapsed": false
   },
   "outputs": [],
   "source": [
    "gingeras_sums.fraction.plot(kind='hist')"
   ]
  },
  {
   "cell_type": "markdown",
   "metadata": {},
   "source": [
    "There's so few Gingeras spikes > 0.05. We can look at all the values"
   ]
  },
  {
   "cell_type": "code",
   "execution_count": null,
   "metadata": {
    "collapsed": false
   },
   "outputs": [],
   "source": [
    "gingeras_sums[gingeras_sums.fraction > 0.05]"
   ]
  },
  {
   "cell_type": "code",
   "execution_count": null,
   "metadata": {
    "collapsed": true
   },
   "outputs": [],
   "source": [
    "wold_sums = pandas.DataFrame(read_experiment_quantifications(wold), columns=['experiment', 'library', 'fraction'])\n",
    "wold_sums.to_csv(os.path.expanduser('~/public_html/compare-mad/wold_gene_quantifications/wold-fraction-spikes.csv'),\n",
    "                 index=False)"
   ]
  },
  {
   "cell_type": "markdown",
   "metadata": {},
   "source": [
    "# Wold Fraction Spikes"
   ]
  },
  {
   "cell_type": "code",
   "execution_count": null,
   "metadata": {
    "collapsed": false
   },
   "outputs": [],
   "source": [
    "wold_sums.fraction.plot(kind='hist')"
   ]
  },
  {
   "cell_type": "code",
   "execution_count": null,
   "metadata": {
    "collapsed": false
   },
   "outputs": [],
   "source": [
    "wold_spearman_fraction = pandas.merge(\n",
    "    experiment_qc[['experiment', 'Spearman']], \n",
    "    wold_sums[['experiment', 'fraction']],\n",
    "    on='experiment', how='inner')"
   ]
  },
  {
   "cell_type": "markdown",
   "metadata": {},
   "source": [
    "# Wold Spearman vs fraction spikes"
   ]
  },
  {
   "cell_type": "code",
   "execution_count": null,
   "metadata": {
    "collapsed": false
   },
   "outputs": [],
   "source": [
    "wold_spearman_fraction[['Spearman', 'fraction']].plot('Spearman', 'fraction', kind='scatter')"
   ]
  },
  {
   "cell_type": "markdown",
   "metadata": {},
   "source": [
    "# Wold MAD vs fraction spikes"
   ]
  },
  {
   "cell_type": "code",
   "execution_count": null,
   "metadata": {
    "collapsed": false
   },
   "outputs": [],
   "source": [
    "wold_spearman_fraction = pandas.merge(\n",
    "    experiment_qc[['experiment', 'MAD']], \n",
    "    wold_sums[['experiment', 'fraction']],\n",
    "    on='experiment', how='inner').plot('MAD', 'fraction', kind='scatter')"
   ]
  },
  {
   "cell_type": "code",
   "execution_count": null,
   "metadata": {
    "collapsed": true
   },
   "outputs": [],
   "source": []
  },
  {
   "cell_type": "code",
   "execution_count": null,
   "metadata": {
    "collapsed": true
   },
   "outputs": [],
   "source": [
    "wold_fraction = pandas.merge(\n",
    "    experiment_qc[['experiment', 'description', 'Spearman']], \n",
    "    wold_sums[['experiment', 'library', 'fraction']],\n",
    "    on='experiment', how='inner')"
   ]
  },
  {
   "cell_type": "code",
   "execution_count": null,
   "metadata": {
    "collapsed": false
   },
   "outputs": [],
   "source": [
    "wold_fraction[wold_fraction['fraction'] > 0.10][['experiment', 'description', 'Spearman', 'library', 'fraction']]"
   ]
  },
  {
   "cell_type": "code",
   "execution_count": null,
   "metadata": {
    "collapsed": true
   },
   "outputs": [],
   "source": []
  }
 ],
 "metadata": {
  "kernelspec": {
   "display_name": "Python 3",
   "language": "python",
   "name": "python3"
  },
  "language_info": {
   "codemirror_mode": {
    "name": "ipython",
    "version": 3
   },
   "file_extension": ".py",
   "mimetype": "text/x-python",
   "name": "python",
   "nbconvert_exporter": "python",
   "pygments_lexer": "ipython3",
   "version": "3.5.1+"
  }
 },
 "nbformat": 4,
 "nbformat_minor": 0
}
