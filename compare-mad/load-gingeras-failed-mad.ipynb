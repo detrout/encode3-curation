{
 "cells": [
  {
   "cell_type": "markdown",
   "metadata": {},
   "source": [
    "#Introduction\n",
    "\n",
    "Brian wanted FPKMs for some of the Gingeras datasets that fail MAD."
   ]
  },
  {
   "cell_type": "code",
   "execution_count": null,
   "metadata": {
    "collapsed": false
   },
   "outputs": [],
   "source": [
    "import pandas\n",
    "import os\n",
    "import sys"
   ]
  },
  {
   "cell_type": "code",
   "execution_count": null,
   "metadata": {
    "collapsed": false
   },
   "outputs": [],
   "source": [
    "ROOT=os.path.expanduser(\"~diane/proj/encode3-curation\")\n",
    "if ROOT not in sys.path:\n",
    "    sys.path.append(ROOT)"
   ]
  },
  {
   "cell_type": "code",
   "execution_count": null,
   "metadata": {
    "collapsed": true
   },
   "outputs": [],
   "source": [
    "from curation_common import *\n",
    "import save_rnaseq_madqc"
   ]
  },
  {
   "cell_type": "code",
   "execution_count": null,
   "metadata": {
    "collapsed": false
   },
   "outputs": [],
   "source": [
    "query_url = 'search/?type=experiment&assay_term_name=RNA-seq'\n",
    "cache_name = os.path.join(ROOT, 'rnaseq-experiments.shelf')\n",
    "cache = save_rnaseq_madqc.caching_encoded_experiment_loader(query_url, cache_name)"
   ]
  },
  {
   "cell_type": "code",
   "execution_count": null,
   "metadata": {
    "collapsed": false
   },
   "outputs": [],
   "source": [
    "experiment_qc = pandas.read_csv(os.path.join(ROOT, 'compare-mad', 'experiment-mad-qc.csv'))"
   ]
  },
  {
   "cell_type": "code",
   "execution_count": null,
   "metadata": {
    "collapsed": false
   },
   "outputs": [],
   "source": [
    "gingeras = experiment_qc[experiment_qc['lab'] == 'Thomas Gingeras, CSHL']"
   ]
  },
  {
   "cell_type": "code",
   "execution_count": null,
   "metadata": {
    "collapsed": false
   },
   "outputs": [],
   "source": [
    "gingeras_fail_mad = gingeras[(gingeras['MAD'] > 0.5)]"
   ]
  },
  {
   "cell_type": "code",
   "execution_count": null,
   "metadata": {
    "collapsed": false
   },
   "outputs": [],
   "source": [
    "gingeras_fail_mad.to_csv(os.path.expanduser('~/public_html/compare-mad/gingeras-fail-mad.csv'))"
   ]
  },
  {
   "cell_type": "code",
   "execution_count": null,
   "metadata": {
    "collapsed": true
   },
   "outputs": [],
   "source": [
    "def load_spike_rsems(cache, keys, limit=None):\n",
    "    keys = list(keys)\n",
    "    total = len(keys)\n",
    "    chunk = max(total // 10, 1)\n",
    "    tzero = time.monotonic()\n",
    "    tprev = tzero\n",
    "    \n",
    "    for i, experiment_id in enumerate(keys):\n",
    "        experiment = cache[experiment_id]\n",
    "        fpkms = []\n",
    "        for file in save_rnaseq_madqc.find_rsem(experiment['files']):\n",
    "            url = 'https://www.encodeproject.org' + file.href\n",
    "            fpkm = pandas.read_csv(url, usecols=[0,6], sep='\\t', index_col=0)\n",
    "            fpkm.columns = [file.library_id]\n",
    "            fpkms.append(fpkm)\n",
    "\n",
    "        if fpkms:\n",
    "            yield (experiment_id, pandas.concat(fpkms, axis=1))\n",
    "            \n",
    "        if (i + 1) % chunk == 0:\n",
    "            tnow = time.monotonic()\n",
    "            print(\"{} of {} in {:.2f} sec\".format(\n",
    "                i, total, tnow-tprev))\n",
    "            tprev = tnow\n",
    "\n",
    "        if limit and i > limit:\n",
    "            return"
   ]
  },
  {
   "cell_type": "code",
   "execution_count": null,
   "metadata": {
    "collapsed": false
   },
   "outputs": [],
   "source": [
    "for experiment_id, fpkms in load_spike_rsems(\n",
    "      cache,\n",
    "      keys=list(gingeras_fail_mad['experiment'])\n",
    "    ):\n",
    "    filename = os.path.join(os.path.expanduser('~/public_html/compare-mad/'), experiment_id + '_library_fpkms.csv')\n",
    "    fpkms.to_csv(filename)"
   ]
  },
  {
   "cell_type": "code",
   "execution_count": null,
   "metadata": {
    "collapsed": true
   },
   "outputs": [],
   "source": []
  }
 ],
 "metadata": {
  "kernelspec": {
   "display_name": "Python 3",
   "language": "python",
   "name": "python3"
  },
  "language_info": {
   "codemirror_mode": {
    "name": "ipython",
    "version": 3
   },
   "file_extension": ".py",
   "mimetype": "text/x-python",
   "name": "python",
   "nbconvert_exporter": "python",
   "pygments_lexer": "ipython3",
   "version": "3.5.1+"
  }
 },
 "nbformat": 4,
 "nbformat_minor": 0
}
