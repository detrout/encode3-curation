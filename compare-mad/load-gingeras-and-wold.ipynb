{
 "cells": [
  {
   "cell_type": "markdown",
   "metadata": {},
   "source": [
    "#Introduction\n",
    "\n",
    "Brian wanted FPKMs for some of the Gingeras datasets that fail MAD."
   ]
  },
  {
   "cell_type": "code",
   "execution_count": 1,
   "metadata": {
    "collapsed": false
   },
   "outputs": [],
   "source": [
    "import pandas\n",
    "import os\n",
    "import sys"
   ]
  },
  {
   "cell_type": "code",
   "execution_count": 2,
   "metadata": {
    "collapsed": false
   },
   "outputs": [],
   "source": [
    "ROOT=os.path.expanduser(\"~diane/proj/encode3-curation\")\n",
    "if ROOT not in sys.path:\n",
    "    sys.path.append(ROOT)"
   ]
  },
  {
   "cell_type": "code",
   "execution_count": 3,
   "metadata": {
    "collapsed": true
   },
   "outputs": [],
   "source": [
    "from curation_common import *\n",
    "import save_rnaseq_madqc"
   ]
  },
  {
   "cell_type": "code",
   "execution_count": 4,
   "metadata": {
    "collapsed": false
   },
   "outputs": [
    {
     "name": "stdout",
     "output_type": "stream",
     "text": [
      "Reading 139 of 1395 records in 0.022363889998814557 seconds\n",
      "Reading 278 of 1395 records in 0.09035903599942685 seconds\n",
      "Reading 417 of 1395 records in 0.01148256099986611 seconds\n",
      "Reading 556 of 1395 records in 0.06382555600066553 seconds\n",
      "Reading 695 of 1395 records in 0.017234585000551306 seconds\n",
      "Reading 834 of 1395 records in 0.017057584998838138 seconds\n",
      "Reading 973 of 1395 records in 0.0387104969995562 seconds\n",
      "Reading 1112 of 1395 records in 0.2025324880014523 seconds\n",
      "Reading 1251 of 1395 records in 0.13401064299978316 seconds\n",
      "Reading 1390 of 1395 records in 0.36714254999969853 seconds\n",
      "Read 1395 records in 0.9647193909986527 seconds\n"
     ]
    }
   ],
   "source": [
    "query_url = 'search/?type=experiment&assay_term_name=RNA-seq'\n",
    "cache_name = os.path.join(ROOT, 'compare-mad', 'rnaseq-experiments.shelf')\n",
    "cache = save_rnaseq_madqc.caching_encoded_experiment_loader(query_url, cache_name)"
   ]
  },
  {
   "cell_type": "code",
   "execution_count": 5,
   "metadata": {
    "collapsed": false
   },
   "outputs": [],
   "source": [
    "experiment_qc = pandas.read_csv(os.path.join(ROOT, 'compare-mad', 'experiment-mad-qc.csv'))"
   ]
  },
  {
   "cell_type": "code",
   "execution_count": 6,
   "metadata": {
    "collapsed": false
   },
   "outputs": [],
   "source": [
    "gingeras = experiment_qc[experiment_qc['lab'] == 'Thomas Gingeras, CSHL']"
   ]
  },
  {
   "cell_type": "code",
   "execution_count": 17,
   "metadata": {
    "collapsed": true
   },
   "outputs": [],
   "source": [
    "gingeras.to_csv(os.path.expanduser('~/public_html/compare-mad/gingeras_fpkms/gingeras-experiments.tsv'), sep='\\t')"
   ]
  },
  {
   "cell_type": "code",
   "execution_count": 8,
   "metadata": {
    "collapsed": false
   },
   "outputs": [],
   "source": [
    "gingeras_fail_mad = gingeras[(gingeras['MAD'] > 0.5)]"
   ]
  },
  {
   "cell_type": "code",
   "execution_count": 18,
   "metadata": {
    "collapsed": false
   },
   "outputs": [],
   "source": [
    "gingeras_fail_mad.to_csv(os.path.expanduser('~/public_html/compare-mad/gingeras-fail-mad.tsv'), sep='\\t')"
   ]
  },
  {
   "cell_type": "code",
   "execution_count": 9,
   "metadata": {
    "collapsed": true
   },
   "outputs": [],
   "source": [
    "def load_spike_rsems(cache, keys, quantification_name='FPKM', limit=None):\n",
    "    column_map = {\n",
    "        'TPM': 5,\n",
    "        'FPKM': 6,\n",
    "    }\n",
    "    column = column_map[quantification_name]\n",
    "    keys = list(keys)\n",
    "    total = len(keys)\n",
    "    chunk = max(total // 10, 1)\n",
    "    tzero = time.monotonic()\n",
    "    tprev = tzero\n",
    "    \n",
    "    for i, experiment_id in enumerate(keys):\n",
    "        experiment = cache[experiment_id]\n",
    "        fpkms = []\n",
    "        for file in save_rnaseq_madqc.find_rsem(experiment['files']):\n",
    "            url = 'https://www.encodeproject.org' + file.href\n",
    "            fpkm = pandas.read_csv(url, usecols=[0,column], sep='\\t', index_col=0)\n",
    "            fpkm.columns = [file.library_id]\n",
    "            fpkms.append(fpkm)\n",
    "\n",
    "        if fpkms:\n",
    "            yield (experiment_id, pandas.concat(fpkms, axis=1))\n",
    "            \n",
    "        if (i + 1) % chunk == 0:\n",
    "            tnow = time.monotonic()\n",
    "            print(\"{} of {} in {:.2f} sec\".format(\n",
    "                i, total, tnow-tprev))\n",
    "            tprev = tnow\n",
    "\n",
    "        if limit and i > limit:\n",
    "            return"
   ]
  },
  {
   "cell_type": "code",
   "execution_count": 11,
   "metadata": {
    "collapsed": false
   },
   "outputs": [
    {
     "name": "stdout",
     "output_type": "stream",
     "text": [
      "20 of 215 in 58.12 sec\n",
      "41 of 215 in 60.79 sec\n",
      "62 of 215 in 61.83 sec\n",
      "83 of 215 in 71.31 sec\n",
      "104 of 215 in 78.22 sec\n",
      "125 of 215 in 72.53 sec\n",
      "146 of 215 in 62.82 sec\n",
      "167 of 215 in 50.15 sec\n",
      "188 of 215 in 40.27 sec\n",
      "209 of 215 in 51.78 sec\n"
     ]
    }
   ],
   "source": [
    "for experiment_id, fpkms in load_spike_rsems(\n",
    "      cache,\n",
    "      keys=list(gingeras['experiment']),\n",
    "      quantification_name='FPKM'\n",
    "    ):\n",
    "    filename = os.path.join(os.path.expanduser('~/public_html/compare-mad/gingeras_fpkms/'), experiment_id + '_library_fpkms.csv')\n",
    "    fpkms.to_csv(filename)"
   ]
  },
  {
   "cell_type": "code",
   "execution_count": 12,
   "metadata": {
    "collapsed": false
   },
   "outputs": [
    {
     "name": "stdout",
     "output_type": "stream",
     "text": [
      "20 of 215 in 106.96 sec\n",
      "41 of 215 in 133.50 sec\n",
      "62 of 215 in 111.85 sec\n",
      "83 of 215 in 142.79 sec\n",
      "104 of 215 in 138.98 sec\n",
      "125 of 215 in 141.64 sec\n",
      "146 of 215 in 124.89 sec\n",
      "167 of 215 in 90.78 sec\n",
      "188 of 215 in 90.41 sec\n",
      "209 of 215 in 81.94 sec\n"
     ]
    }
   ],
   "source": [
    "for experiment_id, fpkms in load_spike_rsems(\n",
    "      cache,\n",
    "      keys=list(gingeras['experiment']),\n",
    "      quantification_name='TPM'\n",
    "    ):\n",
    "    filename = os.path.join(os.path.expanduser('~/public_html/compare-mad/gingeras_fpkms/'), experiment_id + '_library_tpms.csv')\n",
    "    fpkms.to_csv(filename)"
   ]
  },
  {
   "cell_type": "code",
   "execution_count": 7,
   "metadata": {
    "collapsed": false
   },
   "outputs": [],
   "source": [
    "wold = experiment_qc[experiment_qc['lab'] == 'Barbara Wold, Caltech']"
   ]
  },
  {
   "cell_type": "code",
   "execution_count": 19,
   "metadata": {
    "collapsed": true
   },
   "outputs": [],
   "source": [
    "wold.to_csv(os.path.expanduser('~/public_html/compare-mad/wold_gene_quantifications/wold-experiments.tsv'), sep='\\t')"
   ]
  },
  {
   "cell_type": "code",
   "execution_count": 15,
   "metadata": {
    "collapsed": false
   },
   "outputs": [
    {
     "name": "stdout",
     "output_type": "stream",
     "text": [
      "9 of 100 in 53.67 sec\n",
      "19 of 100 in 51.65 sec\n",
      "29 of 100 in 52.58 sec\n",
      "39 of 100 in 52.62 sec\n",
      "49 of 100 in 44.67 sec\n",
      "59 of 100 in 43.99 sec\n",
      "69 of 100 in 48.57 sec\n",
      "79 of 100 in 47.76 sec\n",
      "89 of 100 in 51.10 sec\n",
      "99 of 100 in 54.53 sec\n"
     ]
    }
   ],
   "source": [
    "for experiment_id, fpkms in load_spike_rsems(\n",
    "      cache,\n",
    "      keys=list(wold['experiment']),\n",
    "      quantification_name='FPKM'\n",
    "    ):\n",
    "    filename = os.path.join(os.path.expanduser('~/public_html/compare-mad/wold_gene_quantifications/'), experiment_id + '_library_fpkms.csv')\n",
    "    fpkms.to_csv(filename)"
   ]
  },
  {
   "cell_type": "code",
   "execution_count": 10,
   "metadata": {
    "collapsed": false
   },
   "outputs": [
    {
     "name": "stdout",
     "output_type": "stream",
     "text": [
      "9 of 100 in 44.55 sec\n",
      "19 of 100 in 44.52 sec\n",
      "29 of 100 in 46.69 sec\n",
      "39 of 100 in 46.85 sec\n",
      "49 of 100 in 50.05 sec\n",
      "59 of 100 in 48.00 sec\n",
      "69 of 100 in 42.28 sec\n",
      "79 of 100 in 42.91 sec\n",
      "89 of 100 in 48.22 sec\n",
      "99 of 100 in 44.94 sec\n"
     ]
    }
   ],
   "source": [
    "for experiment_id, fpkms in load_spike_rsems(\n",
    "      cache,\n",
    "      keys=list(wold['experiment']),\n",
    "      quantification_name='TPM'\n",
    "    ):\n",
    "    filename = os.path.join(os.path.expanduser('~/public_html/compare-mad/wold_gene_quantifications/'), experiment_id + '_library_tpms.csv')\n",
    "    fpkms.to_csv(filename)"
   ]
  },
  {
   "cell_type": "code",
   "execution_count": null,
   "metadata": {
    "collapsed": true
   },
   "outputs": [],
   "source": []
  }
 ],
 "metadata": {
  "kernelspec": {
   "display_name": "Python 3",
   "language": "python",
   "name": "python3"
  },
  "language_info": {
   "codemirror_mode": {
    "name": "ipython",
    "version": 3
   },
   "file_extension": ".py",
   "mimetype": "text/x-python",
   "name": "python",
   "nbconvert_exporter": "python",
   "pygments_lexer": "ipython3",
   "version": "3.5.1+"
  }
 },
 "nbformat": 4,
 "nbformat_minor": 0
}
