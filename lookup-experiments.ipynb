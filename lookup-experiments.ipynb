{
 "cells": [
  {
   "cell_type": "markdown",
   "metadata": {},
   "source": [
    "I had some code to convert DCC experiments to our identifiers. But it was specific to another application. Lets reuse that notebook. to answer that question for some other experiments."
   ]
  },
  {
   "cell_type": "code",
   "execution_count": 1,
   "metadata": {
    "collapsed": false
   },
   "outputs": [],
   "source": [
    "import pandas\n",
    "import os\n",
    "import sys\n",
    "import RDF\n",
    "from IPython.display import display, HTML\n",
    "\n",
    "from curation_common import *"
   ]
  },
  {
   "cell_type": "code",
   "execution_count": 2,
   "metadata": {
    "collapsed": false
   },
   "outputs": [
    {
     "name": "stdout",
     "output_type": "stream",
     "text": [
      "The rdfmagic extension is already loaded. To reload it, use:\n",
      "  %reload_ext rdfmagic\n"
     ]
    }
   ],
   "source": [
    "%load_ext rdfmagic"
   ]
  },
  {
   "cell_type": "code",
   "execution_count": 3,
   "metadata": {
    "collapsed": false
   },
   "outputs": [],
   "source": [
    "server = ENCODED(\"www.encodeproject.org\")\n",
    "server.load_netrc()"
   ]
  },
  {
   "cell_type": "code",
   "execution_count": 4,
   "metadata": {
    "collapsed": false
   },
   "outputs": [],
   "source": [
    "model = get_model()"
   ]
  },
  {
   "cell_type": "code",
   "execution_count": 5,
   "metadata": {
    "collapsed": false
   },
   "outputs": [],
   "source": [
    "experiments = [\n",
    "  '/experiments/ENCSR000OXO/',\n",
    "  '/experiments/ENCSR268AXN/',\n",
    "  '/experiments/ENCSR592MSV/',\n",
    "]"
   ]
  },
  {
   "cell_type": "code",
   "execution_count": 6,
   "metadata": {
    "collapsed": false
   },
   "outputs": [],
   "source": [
    "query = None\n",
    "if query:\n",
    "    experiments.extende([ x['@id'] for x in server.get_json(query)['@graph'] ])"
   ]
  },
  {
   "cell_type": "markdown",
   "metadata": {},
   "source": [
    "# Load Experiments from ENCODED search"
   ]
  },
  {
   "cell_type": "code",
   "execution_count": 7,
   "metadata": {
    "collapsed": false
   },
   "outputs": [
    {
     "name": "stdout",
     "output_type": "stream",
     "text": [
      "loading /experiments/ENCSR000OXO/\n",
      "loading /experiments/ENCSR268AXN/\n",
      "loading /experiments/ENCSR592MSV/\n"
     ]
    }
   ],
   "source": [
    "for experiment in experiments:\n",
    "    print('loading {}'.format(experiment))\n",
    "    details = server.get_jsonld(experiment)\n",
    "    load_jsonld_into_model(model, details)"
   ]
  },
  {
   "cell_type": "markdown",
   "metadata": {},
   "source": [
    "# Convert alias to Jumpgate Library URL"
   ]
  },
  {
   "cell_type": "markdown",
   "metadata": {},
   "source": [
    "This is a construct query whose purpose is to annotate the DCC library with a Wold-lab linked data identifier."
   ]
  },
  {
   "cell_type": "code",
   "execution_count": 8,
   "metadata": {
    "collapsed": false
   },
   "outputs": [],
   "source": [
    "q = RDF.SPARQLQuery(\"\"\"\n",
    "PREFIX htsw: <http://jumpgate.caltech.edu/wiki/LibraryOntology#>\n",
    "PREFIX barbara-wold: <http://jumpgate.caltech.edu/wiki/LibraryOntology#>\n",
    "PREFIX experiment: <https://www.encodeproject.org/profiles/experiment.json#> \n",
    "PREFIX library: <https://www.encodeproject.org/profiles/library.json#> \n",
    "PREFIX replicate: <https://www.encodeproject.org/profiles/replicate.json#>\n",
    "PREFIX xsd: <http://www.w3.org/2001/XMLSchema#>\n",
    "\n",
    "construct { \n",
    "  ?library htsw:library ?jumpgate . \n",
    "} where {\n",
    "  select ?experiment?alias\n",
    "         ( REPLACE(?alias, \"barbara-wold:\", \"http://jumpgate.caltech.edu/library/\") as ?short )\n",
    "         ( IRI(CONCAT(?short, \"/\"))  as ?jumpgate )\n",
    "  where {\n",
    "    ?library library:aliases ?alias .\n",
    "  }\n",
    "}\n",
    "\"\"\")"
   ]
  },
  {
   "cell_type": "markdown",
   "metadata": {},
   "source": [
    "Attach our library urls directly to the encode library objects, and while we have it we might as well load the additional metadata from our db."
   ]
  },
  {
   "cell_type": "code",
   "execution_count": 9,
   "metadata": {
    "collapsed": false
   },
   "outputs": [],
   "source": [
    "results = q.execute(model)\n",
    "for s in results.as_stream():\n",
    "    jumpgate = s.object\n",
    "    load_into_model(model, 'rdfa', jumpgate)\n",
    "    model.append(s)\n",
    "    "
   ]
  },
  {
   "cell_type": "markdown",
   "metadata": {},
   "source": [
    "# Show woldlab library description with ENCODED accessions"
   ]
  },
  {
   "cell_type": "code",
   "execution_count": 10,
   "metadata": {
    "collapsed": false
   },
   "outputs": [
    {
     "name": "stderr",
     "output_type": "stream",
     "text": [
      "/usr/lib/python2.7/dist-packages/RDF.py:2014: RedlandWarning: Variable alias was bound but is unused in the query\n",
      "  results = Redland.librdf_query_execute(self._query,model._model)\n"
     ]
    }
   ],
   "source": [
    "%%sparql -m model -o report\n",
    "select distinct ?experiment ?library ?jumpgate ?name\n",
    "where {\n",
    "  ?library library:aliases ?alias .\n",
    "  ?replicate replicate:library ?library .\n",
    "  ?experiment experiment:replicates ?replicate .\n",
    "  ?library htsw:library ?jumpgate . \n",
    "  ?jumpgate htsw:name ?name .\n",
    "}\n",
    "order by ?jumpgate\n"
   ]
  },
  {
   "cell_type": "code",
   "execution_count": 11,
   "metadata": {
    "collapsed": false
   },
   "outputs": [
    {
     "data": {
      "text/html": [
       "<table><tr><td>experiment</td><td>library</td><td>jumpgate</td><td>name</td></tr><tr><td><a href=\"https://www.encodeproject.org/experiments/ENCSR000OXO/\">experiments:ENCSR000OXO/</a></td><td><a href=\"https://www.encodeproject.org/libraries/ENCLB917PKP/\">libraries:ENCLB917PKP/</a></td><td><a href=\"http://jumpgate.caltech.edu/library/14653/\">library:14653/</a></td><td>Illumina index__710_503_Paired_ends__e11.5 forebrain 1_GITC_7/1/2014_13pgs</td></tr><tr><td><a href=\"https://www.encodeproject.org/experiments/ENCSR000OXO/\">experiments:ENCSR000OXO/</a></td><td><a href=\"https://www.encodeproject.org/libraries/ENCLB026BHP/\">libraries:ENCLB026BHP/</a></td><td><a href=\"http://jumpgate.caltech.edu/library/14654/\">library:14654/</a></td><td>Illumina index__711_504_Paired_ends__e11.5 forebrain 2_GITC_7/1/2014_13pgs</td></tr><tr><td><a href=\"https://www.encodeproject.org/experiments/ENCSR592MSV/\">experiments:ENCSR592MSV/</a></td><td><a href=\"https://www.encodeproject.org/libraries/ENCLB449LBZ/\">libraries:ENCLB449LBZ/</a></td><td><a href=\"http://jumpgate.caltech.edu/library/14655/\">library:14655/</a></td><td>Illumina index__712_505_Paired_ends__e11.5 liver 1_GITC_7/1/2014_13pgs</td></tr><tr><td><a href=\"https://www.encodeproject.org/experiments/ENCSR592MSV/\">experiments:ENCSR592MSV/</a></td><td><a href=\"https://www.encodeproject.org/libraries/ENCLB905LVV/\">libraries:ENCLB905LVV/</a></td><td><a href=\"http://jumpgate.caltech.edu/library/14656/\">library:14656/</a></td><td>Illumina index__701_506_Paired_ends__e11.5 liver 2_GITC_7/1/2014_13pgs</td></tr><tr><td><a href=\"https://www.encodeproject.org/experiments/ENCSR268AXN/\">experiments:ENCSR268AXN/</a></td><td><a href=\"https://www.encodeproject.org/libraries/ENCLB893OOW/\">libraries:ENCLB893OOW/</a></td><td><a href=\"http://jumpgate.caltech.edu/library/15245/\">library:15245/</a></td><td>Illumina index__508_705_Paired_ends__LCMD_711_Mm_C57Bl6_8mo_WT_pyramidal_neurons_50pool_</td></tr><tr><td><a href=\"https://www.encodeproject.org/experiments/ENCSR268AXN/\">experiments:ENCSR268AXN/</a></td><td><a href=\"https://www.encodeproject.org/libraries/ENCLB730HDZ/\">libraries:ENCLB730HDZ/</a></td><td><a href=\"http://jumpgate.caltech.edu/library/15246/\">library:15246/</a></td><td>Illumina index__517_706_Paired_ends__LCMD_712_Mm_C57Bl6_8mo_WT_pyramidal_neurons_50pool_</td></tr></table>"
      ],
      "text/plain": [
       "<rdfmagic.LibRdfResults at 0x7f26e1da8a50>"
      ]
     },
     "execution_count": 11,
     "metadata": {},
     "output_type": "execute_result"
    }
   ],
   "source": [
    "report"
   ]
  },
  {
   "cell_type": "markdown",
   "metadata": {},
   "source": [
    "Save report"
   ]
  },
  {
   "cell_type": "code",
   "execution_count": 12,
   "metadata": {
    "collapsed": false
   },
   "outputs": [],
   "source": [
    "with open('/tmp/experiment.html', 'wt') as outstream:\n",
    "    outstream.write(os.linesep.join(list(report.generate_html())))"
   ]
  },
  {
   "cell_type": "code",
   "execution_count": 12,
   "metadata": {
    "collapsed": false
   },
   "outputs": [],
   "source": []
  }
 ],
 "metadata": {
  "kernelspec": {
   "display_name": "Python 3",
   "language": "python",
   "name": "python3"
  },
  "language_info": {
   "codemirror_mode": {
    "name": "ipython",
    "version": 3
   },
   "file_extension": ".py",
   "mimetype": "text/x-python",
   "name": "python",
   "nbconvert_exporter": "python",
   "pygments_lexer": "ipython3",
   "version": "3.5.2+"
  }
 },
 "nbformat": 4,
 "nbformat_minor": 0
}
