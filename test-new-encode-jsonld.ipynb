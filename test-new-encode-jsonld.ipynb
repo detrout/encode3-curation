{
 "metadata": {
  "name": "",
  "signature": "sha256:8fd6b9db190a0f06b24c0a11879ca5885f91231896db9bf42ee89fa0705d694e"
 },
 "nbformat": 3,
 "nbformat_minor": 0,
 "worksheets": [
  {
   "cells": [
    {
     "cell_type": "heading",
     "level": 1,
     "metadata": {},
     "source": [
      "Setup"
     ]
    },
    {
     "cell_type": "code",
     "collapsed": false,
     "input": [
      "from __future__ import print_function"
     ],
     "language": "python",
     "metadata": {},
     "outputs": [],
     "prompt_number": 1
    },
    {
     "cell_type": "code",
     "collapsed": false,
     "input": [
      "import RDF\n",
      "import json\n",
      "from pyld import jsonld\n",
      "import requests"
     ],
     "language": "python",
     "metadata": {},
     "outputs": [],
     "prompt_number": 2
    },
    {
     "cell_type": "code",
     "collapsed": false,
     "input": [
      "%load_ext rdfmagic"
     ],
     "language": "python",
     "metadata": {},
     "outputs": [],
     "prompt_number": 3
    },
    {
     "cell_type": "markdown",
     "metadata": {},
     "source": [
      "I have a class that handles connecting to the encoded server and making authenticated requests. Which helps me avoid having to put my authentication token in the notebook.\n",
      "\n",
      " * <a href=\"https://github.com/detrout/encode3-curation/blob/master/curation_common.py\">Curation Common</a>\n",
      " * <a href=\"http://woldlab.caltech.edu/gitweb/?p=htsworkflow.git;a=blob;f=htsworkflow/submission/encoded.py;h=1228d387f015a39a9da12c8ad5ca296d218c68de;hb=HEAD\">encoded</a> class.\n",
      " * <a href=\"https://github.com/detrout/rdfmagic\">RDF Magic</a> Ipython extension to make the %%sparql magics work"
     ]
    },
    {
     "cell_type": "code",
     "collapsed": false,
     "input": [
      "import curation_common"
     ],
     "language": "python",
     "metadata": {},
     "outputs": [
      {
       "output_type": "stream",
       "stream": "stdout",
       "text": [
        "The rdfmagic extension is already loaded. To reload it, use:\n",
        "  %reload_ext rdfmagic\n"
       ]
      }
     ],
     "prompt_number": 4
    },
    {
     "cell_type": "heading",
     "level": 1,
     "metadata": {},
     "source": [
      "Import Code"
     ]
    },
    {
     "cell_type": "code",
     "collapsed": false,
     "input": [
      "def pyldToNode(item):\n",
      "    '''Convert a PyLD node to a Redland node'''\n",
      "    nodetype = item['type']\n",
      "    value = item['value']\n",
      "    datatype = item.get('datatype', None)\n",
      "\n",
      "    if nodetype == 'blank node':\n",
      "        return RDF.Node(blank=value)\n",
      "    elif nodetype == 'IRI':\n",
      "        return RDF.Node(uri_string=str(value))\n",
      "    else:\n",
      "        return RDF.Node(literal=unicode(value).encode('utf-8'), \n",
      "                        datatype=RDF.Uri(datatype))\n",
      "\n"
     ],
     "language": "python",
     "metadata": {},
     "outputs": [],
     "prompt_number": 5
    },
    {
     "cell_type": "code",
     "collapsed": false,
     "input": [
      "def loadJSONintoModel(model, json_data):\n",
      "    '''Given a PyLD dictionary, load its statements into our model\n",
      "    '''\n",
      "    json_graphs = jsonld.to_rdf(json_data)\n",
      "    for graph in json_graphs:\n",
      "        for triple in json_graphs[graph]:\n",
      "            s = pyldToNode(triple['subject'])\n",
      "            p = pyldToNode(triple['predicate'])\n",
      "            o = pyldToNode(triple['object'])\n",
      "            stmt = RDF.Statement(s, p, o)\n",
      "            model.add_statement(stmt)"
     ],
     "language": "python",
     "metadata": {},
     "outputs": [],
     "prompt_number": 6
    },
    {
     "cell_type": "code",
     "collapsed": false,
     "input": [
      "def load_LD_ENCODE(server, model, url, **kwargs):\n",
      "    \"\"\"Load an encode json object at url into our model.\n",
      "    \n",
      "    This Uses the provided context dictionary to improve the json to json-ld.\n",
      "        \n",
      "    Additional keyword arguments can also be provided and will be added\n",
      "    to the request's query string\n",
      "    \"\"\"\n",
      "    data = encoded.get_json(url, **kwargs)\n",
      "    #loadJSONintoModel(model, data)\n",
      "    return data"
     ],
     "language": "python",
     "metadata": {},
     "outputs": [],
     "prompt_number": 7
    },
    {
     "cell_type": "code",
     "collapsed": false,
     "input": [
      "def dump_encode(model):\n",
      "    with open('/tmp/encoded.turtle', 'w') as out:\n",
      "        curation_common.dump_model(model, out)"
     ],
     "language": "python",
     "metadata": {},
     "outputs": [],
     "prompt_number": 74
    },
    {
     "cell_type": "markdown",
     "metadata": {},
     "source": [
      "One of the features of rdfmagic is it automatically adds defined namespaces to sparql queries, and also shortens returned urls to use the namespace."
     ]
    },
    {
     "cell_type": "code",
     "collapsed": false,
     "input": [
      "%addns dcctest http://ec2-54-68-99-15.us-west-2.compute.amazonaws.com/\n",
      "%addns epld https://www.encodeproject.org/ld/"
     ],
     "language": "python",
     "metadata": {},
     "outputs": [],
     "prompt_number": 8
    },
    {
     "cell_type": "code",
     "collapsed": false,
     "input": [
      "server = 'ec2-54-68-99-15.us-west-2.compute.amazonaws.com'\n",
      "context_url = 'http://' + server + '/context.jsonld'"
     ],
     "language": "python",
     "metadata": {},
     "outputs": [],
     "prompt_number": 9
    },
    {
     "cell_type": "code",
     "collapsed": false,
     "input": [
      "encoded = curation_common.ENCODED(server)"
     ],
     "language": "python",
     "metadata": {},
     "outputs": [],
     "prompt_number": 10
    },
    {
     "cell_type": "code",
     "collapsed": false,
     "input": [
      "context = encoded.get_json(context_url)\n",
      "context['@vocab'] = 'https://www.encodeproject.org/ld/'\n",
      "context['OBI'] = \"http://purl.obolibrary.org/obo/OBI_\"\n",
      "context['SO'] = \"http://purl.obolibrary.org/obo/SO_\"\n",
      "context['CL'] = 'http://purl.obolibrary.org/obo/CL_'\n",
      "context['age'] = {'@type': 'xsd:integer'}  #really? then why is \n",
      "context['start_date'] = {'@type': 'xsd:date'}\n",
      "context['end_date'] = {'@type': 'xsd:date'}\n",
      "context['date_created'] = {'@type': 'xsd:dateTime'}"
     ],
     "language": "python",
     "metadata": {},
     "outputs": [],
     "prompt_number": 60
    },
    {
     "cell_type": "markdown",
     "metadata": {},
     "source": [
      "dump context for inspection"
     ]
    },
    {
     "cell_type": "code",
     "collapsed": false,
     "input": [
      "with open('/tmp/context.json', 'w') as outstream:\n",
      "    outstream.write(json.dumps(context, indent=2))"
     ],
     "language": "python",
     "metadata": {},
     "outputs": [],
     "prompt_number": 61
    },
    {
     "cell_type": "code",
     "collapsed": false,
     "input": [
      "encoded.contexts = {None: context}\n",
      "encoded.namespaces = {}\n",
      "encoded.scheme = 'http'"
     ],
     "language": "python",
     "metadata": {},
     "outputs": [],
     "prompt_number": 62
    },
    {
     "cell_type": "code",
     "collapsed": false,
     "input": [
      "model = curation_common.get_model()"
     ],
     "language": "python",
     "metadata": {},
     "outputs": [],
     "prompt_number": 63
    },
    {
     "cell_type": "code",
     "collapsed": false,
     "input": [
      "data = encoded.get_jsonld('/experiments/ENCSR157NLF')"
     ],
     "language": "python",
     "metadata": {},
     "outputs": [],
     "prompt_number": 64
    },
    {
     "cell_type": "code",
     "collapsed": false,
     "input": [
      "loadJSONintoModel(model, data)"
     ],
     "language": "python",
     "metadata": {},
     "outputs": [],
     "prompt_number": 65
    },
    {
     "cell_type": "code",
     "collapsed": false,
     "input": [
      "dump_encode(model)"
     ],
     "language": "python",
     "metadata": {},
     "outputs": [],
     "prompt_number": 75
    },
    {
     "cell_type": "heading",
     "level": 2,
     "metadata": {},
     "source": [
      "Discover types"
     ]
    },
    {
     "cell_type": "code",
     "collapsed": false,
     "input": [
      "%%sparql -m model\n",
      "select distinct ?type\n",
      "where {\n",
      "  ?s a ?type .\n",
      "}\n",
      "order by ?type"
     ],
     "language": "python",
     "metadata": {},
     "outputs": [
      {
       "html": [
        "<table><tr><td>type</td></tr><tr><td><a href=\"https://www.encodeproject.org/ld/award\">epld:award</a></td></tr><tr><td><a href=\"https://www.encodeproject.org/ld/biosample\">epld:biosample</a></td></tr><tr><td><a href=\"https://www.encodeproject.org/ld/dataset\">epld:dataset</a></td></tr><tr><td><a href=\"https://www.encodeproject.org/ld/document\">epld:document</a></td></tr><tr><td><a href=\"https://www.encodeproject.org/ld/donor\">epld:donor</a></td></tr><tr><td><a href=\"https://www.encodeproject.org/ld/experiment\">epld:experiment</a></td></tr><tr><td><a href=\"https://www.encodeproject.org/ld/file\">epld:file</a></td></tr><tr><td><a href=\"https://www.encodeproject.org/ld/human_donor\">epld:human_donor</a></td></tr><tr><td><a href=\"https://www.encodeproject.org/ld/item\">epld:item</a></td></tr><tr><td><a href=\"https://www.encodeproject.org/ld/lab\">epld:lab</a></td></tr><tr><td><a href=\"https://www.encodeproject.org/ld/library\">epld:library</a></td></tr><tr><td><a href=\"https://www.encodeproject.org/ld/organism\">epld:organism</a></td></tr><tr><td><a href=\"https://www.encodeproject.org/ld/platform\">epld:platform</a></td></tr><tr><td><a href=\"https://www.encodeproject.org/ld/replicate\">epld:replicate</a></td></tr><tr><td><a href=\"https://www.encodeproject.org/ld/source\">epld:source</a></td></tr><tr><td><a href=\"https://www.encodeproject.org/ld/user\">epld:user</a></td></tr></table>"
       ],
       "metadata": {},
       "output_type": "pyout",
       "prompt_number": 47,
       "text": [
        "<rdfmagic.LibRdfResults at 0x7f5139839410>"
       ]
      }
     ],
     "prompt_number": 47
    },
    {
     "cell_type": "heading",
     "level": 2,
     "metadata": {},
     "source": [
      "Discover predicates"
     ]
    },
    {
     "cell_type": "code",
     "collapsed": false,
     "input": [
      "%%sparql -m model\n",
      "select distinct ?p\n",
      "where {\n",
      "   ?s ?p ?o .\n",
      "}\n",
      "order by ?p"
     ],
     "language": "python",
     "metadata": {},
     "outputs": [
      {
       "html": [
        "<table><tr><td>p</td></tr><tr><td><a href=\"http://www.w3.org/1999/02/22-rdf-syntax-ns#type\">rdf:type</a></td></tr><tr><td><a href=\"https://www.encodeproject.org/ld/accession\">epld:accession</a></td></tr><tr><td><a href=\"https://www.encodeproject.org/ld/address1\">epld:address1</a></td></tr><tr><td><a href=\"https://www.encodeproject.org/ld/address2\">epld:address2</a></td></tr><tr><td><a href=\"https://www.encodeproject.org/ld/age\">epld:age</a></td></tr><tr><td><a href=\"https://www.encodeproject.org/ld/age_units\">epld:age_units</a></td></tr><tr><td><a href=\"https://www.encodeproject.org/ld/aliases\">epld:aliases</a></td></tr><tr><td><a href=\"https://www.encodeproject.org/ld/assay_term_id\">epld:assay_term_id</a></td></tr><tr><td><a href=\"https://www.encodeproject.org/ld/assay_term_name\">epld:assay_term_name</a></td></tr><tr><td><a href=\"https://www.encodeproject.org/ld/attachment\">epld:attachment</a></td></tr><tr><td><a href=\"https://www.encodeproject.org/ld/award\">epld:award</a></td></tr><tr><td><a href=\"https://www.encodeproject.org/ld/awards\">epld:awards</a></td></tr><tr><td><a href=\"https://www.encodeproject.org/ld/barcode\">epld:barcode</a></td></tr><tr><td><a href=\"https://www.encodeproject.org/ld/biological_replicate_number\">epld:biological_replicate_number</a></td></tr><tr><td><a href=\"https://www.encodeproject.org/ld/biosample\">epld:biosample</a></td></tr><tr><td><a href=\"https://www.encodeproject.org/ld/biosample_term_id\">epld:biosample_term_id</a></td></tr><tr><td><a href=\"https://www.encodeproject.org/ld/biosample_term_name\">epld:biosample_term_name</a></td></tr><tr><td><a href=\"https://www.encodeproject.org/ld/biosample_type\">epld:biosample_type</a></td></tr><tr><td><a href=\"https://www.encodeproject.org/ld/city\">epld:city</a></td></tr><tr><td><a href=\"https://www.encodeproject.org/ld/country\">epld:country</a></td></tr><tr><td><a href=\"https://www.encodeproject.org/ld/dataset\">epld:dataset</a></td></tr><tr><td><a href=\"https://www.encodeproject.org/ld/dataset_type\">epld:dataset_type</a></td></tr><tr><td><a href=\"https://www.encodeproject.org/ld/date_created\">epld:date_created</a></td></tr><tr><td><a href=\"https://www.encodeproject.org/ld/date_obtained\">epld:date_obtained</a></td></tr><tr><td><a href=\"https://www.encodeproject.org/ld/date_released\">epld:date_released</a></td></tr><tr><td><a href=\"https://www.encodeproject.org/ld/dbxrefs\">epld:dbxrefs</a></td></tr><tr><td><a href=\"https://www.encodeproject.org/ld/description\">epld:description</a></td></tr><tr><td><a href=\"https://www.encodeproject.org/ld/developmental_slims\">epld:developmental_slims</a></td></tr><tr><td><a href=\"https://www.encodeproject.org/ld/document_type\">epld:document_type</a></td></tr><tr><td><a href=\"https://www.encodeproject.org/ld/documents\">epld:documents</a></td></tr><tr><td><a href=\"https://www.encodeproject.org/ld/donor\">epld:donor</a></td></tr><tr><td><a href=\"https://www.encodeproject.org/ld/download\">epld:download</a></td></tr><tr><td><a href=\"https://www.encodeproject.org/ld/end_date\">epld:end_date</a></td></tr><tr><td><a href=\"https://www.encodeproject.org/ld/experiment\">epld:experiment</a></td></tr><tr><td><a href=\"https://www.encodeproject.org/ld/extraction_method\">epld:extraction_method</a></td></tr><tr><td><a href=\"https://www.encodeproject.org/ld/fax\">epld:fax</a></td></tr><tr><td><a href=\"https://www.encodeproject.org/ld/file_format\">epld:file_format</a></td></tr><tr><td><a href=\"https://www.encodeproject.org/ld/file_size\">epld:file_size</a></td></tr><tr><td><a href=\"https://www.encodeproject.org/ld/files\">epld:files</a></td></tr><tr><td><a href=\"https://www.encodeproject.org/ld/flowcell\">epld:flowcell</a></td></tr><tr><td><a href=\"https://www.encodeproject.org/ld/flowcell_details\">epld:flowcell_details</a></td></tr><tr><td><a href=\"https://www.encodeproject.org/ld/fragmentation_method\">epld:fragmentation_method</a></td></tr><tr><td><a href=\"https://www.encodeproject.org/ld/health_status\">epld:health_status</a></td></tr><tr><td><a href=\"https://www.encodeproject.org/ld/href\">epld:href</a></td></tr><tr><td><a href=\"https://www.encodeproject.org/ld/institute_label\">epld:institute_label</a></td></tr><tr><td><a href=\"https://www.encodeproject.org/ld/institute_name\">epld:institute_name</a></td></tr><tr><td><a href=\"https://www.encodeproject.org/ld/lab\">epld:lab</a></td></tr><tr><td><a href=\"https://www.encodeproject.org/ld/lane\">epld:lane</a></td></tr><tr><td><a href=\"https://www.encodeproject.org/ld/library\">epld:library</a></td></tr><tr><td><a href=\"https://www.encodeproject.org/ld/library_size_selection_method\">epld:library_size_selection_method</a></td></tr><tr><td><a href=\"https://www.encodeproject.org/ld/life_stage\">epld:life_stage</a></td></tr><tr><td><a href=\"https://www.encodeproject.org/ld/lot_id\">epld:lot_id</a></td></tr><tr><td><a href=\"https://www.encodeproject.org/ld/lysis_method\">epld:lysis_method</a></td></tr><tr><td><a href=\"https://www.encodeproject.org/ld/machine\">epld:machine</a></td></tr><tr><td><a href=\"https://www.encodeproject.org/ld/md5sum\">epld:md5sum</a></td></tr><tr><td><a href=\"https://www.encodeproject.org/ld/month_released\">epld:month_released</a></td></tr><tr><td><a href=\"https://www.encodeproject.org/ld/name\">epld:name</a></td></tr><tr><td><a href=\"https://www.encodeproject.org/ld/notes\">epld:notes</a></td></tr><tr><td><a href=\"https://www.encodeproject.org/ld/nucleic_acid_starting_quantity\">epld:nucleic_acid_starting_quantity</a></td></tr><tr><td><a href=\"https://www.encodeproject.org/ld/nucleic_acid_starting_quantity_units\">epld:nucleic_acid_starting_quantity_units</a></td></tr><tr><td><a href=\"https://www.encodeproject.org/ld/nucleic_acid_term_id\">epld:nucleic_acid_term_id</a></td></tr><tr><td><a href=\"https://www.encodeproject.org/ld/nucleic_acid_term_name\">epld:nucleic_acid_term_name</a></td></tr><tr><td><a href=\"https://www.encodeproject.org/ld/organism\">epld:organism</a></td></tr><tr><td><a href=\"https://www.encodeproject.org/ld/original_files\">epld:original_files</a></td></tr><tr><td><a href=\"https://www.encodeproject.org/ld/output_type\">epld:output_type</a></td></tr><tr><td><a href=\"https://www.encodeproject.org/ld/paired_ended\">epld:paired_ended</a></td></tr><tr><td><a href=\"https://www.encodeproject.org/ld/part_of\">epld:part_of</a></td></tr><tr><td><a href=\"https://www.encodeproject.org/ld/phone1\">epld:phone1</a></td></tr><tr><td><a href=\"https://www.encodeproject.org/ld/phone2\">epld:phone2</a></td></tr><tr><td><a href=\"https://www.encodeproject.org/ld/pi\">epld:pi</a></td></tr><tr><td><a href=\"https://www.encodeproject.org/ld/platform\">epld:platform</a></td></tr><tr><td><a href=\"https://www.encodeproject.org/ld/postal_code\">epld:postal_code</a></td></tr><tr><td><a href=\"https://www.encodeproject.org/ld/product_id\">epld:product_id</a></td></tr><tr><td><a href=\"https://www.encodeproject.org/ld/project\">epld:project</a></td></tr><tr><td><a href=\"https://www.encodeproject.org/ld/read_length\">epld:read_length</a></td></tr><tr><td><a href=\"https://www.encodeproject.org/ld/read_length_units\">epld:read_length_units</a></td></tr><tr><td><a href=\"https://www.encodeproject.org/ld/related_files\">epld:related_files</a></td></tr><tr><td><a href=\"https://www.encodeproject.org/ld/replicate\">epld:replicate</a></td></tr><tr><td><a href=\"https://www.encodeproject.org/ld/replicates\">epld:replicates</a></td></tr><tr><td><a href=\"https://www.encodeproject.org/ld/rfa\">epld:rfa</a></td></tr><tr><td><a href=\"https://www.encodeproject.org/ld/run_type\">epld:run_type</a></td></tr><tr><td><a href=\"https://www.encodeproject.org/ld/schema_version\">epld:schema_version</a></td></tr><tr><td><a href=\"https://www.encodeproject.org/ld/scientific_name\">epld:scientific_name</a></td></tr><tr><td><a href=\"https://www.encodeproject.org/ld/sex\">epld:sex</a></td></tr><tr><td><a href=\"https://www.encodeproject.org/ld/size_range\">epld:size_range</a></td></tr><tr><td><a href=\"https://www.encodeproject.org/ld/source\">epld:source</a></td></tr><tr><td><a href=\"https://www.encodeproject.org/ld/start_date\">epld:start_date</a></td></tr><tr><td><a href=\"https://www.encodeproject.org/ld/starting_amount\">epld:starting_amount</a></td></tr><tr><td><a href=\"https://www.encodeproject.org/ld/starting_amount_units\">epld:starting_amount_units</a></td></tr><tr><td><a href=\"https://www.encodeproject.org/ld/state\">epld:state</a></td></tr><tr><td><a href=\"https://www.encodeproject.org/ld/status\">epld:status</a></td></tr><tr><td><a href=\"https://www.encodeproject.org/ld/strand_specificity\">epld:strand_specificity</a></td></tr><tr><td><a href=\"https://www.encodeproject.org/ld/submitted_by\">epld:submitted_by</a></td></tr><tr><td><a href=\"https://www.encodeproject.org/ld/submitted_file_name\">epld:submitted_file_name</a></td></tr><tr><td><a href=\"https://www.encodeproject.org/ld/synonyms\">epld:synonyms</a></td></tr><tr><td><a href=\"https://www.encodeproject.org/ld/taxon_id\">epld:taxon_id</a></td></tr><tr><td><a href=\"https://www.encodeproject.org/ld/technical_replicate_number\">epld:technical_replicate_number</a></td></tr><tr><td><a href=\"https://www.encodeproject.org/ld/term_id\">epld:term_id</a></td></tr><tr><td><a href=\"https://www.encodeproject.org/ld/term_name\">epld:term_name</a></td></tr><tr><td><a href=\"https://www.encodeproject.org/ld/title\">epld:title</a></td></tr><tr><td><a href=\"https://www.encodeproject.org/ld/type\">epld:type</a></td></tr><tr><td><a href=\"https://www.encodeproject.org/ld/url\">epld:url</a></td></tr><tr><td><a href=\"https://www.encodeproject.org/ld/urls\">epld:urls</a></td></tr><tr><td><a href=\"https://www.encodeproject.org/ld/uuid\">epld:uuid</a></td></tr></table>"
       ],
       "metadata": {},
       "output_type": "pyout",
       "prompt_number": 48,
       "text": [
        "<rdfmagic.LibRdfResults at 0x7f51398398d0>"
       ]
      }
     ],
     "prompt_number": 48
    },
    {
     "cell_type": "code",
     "collapsed": false,
     "input": [
      "%%sparql -m model\n",
      "select distinct ?s ?title\n",
      "where {\n",
      "  ?s a epld:user ; epld:title ?title .\n",
      "}"
     ],
     "language": "python",
     "metadata": {},
     "outputs": [
      {
       "html": [
        "<table><tr><td>s</td><td>title</td></tr><tr><td><a href=\"http://ec2-54-68-99-15.us-west-2.compute.amazonaws.com/users/0abbd494-b852-433c-b360-93996f679dae/\">dcctest:users/0abbd494-b852-433c-b360-93996f679dae/</a></td><td>Carrie Davis</td></tr><tr><td><a href=\"http://ec2-54-68-99-15.us-west-2.compute.amazonaws.com/users/26e33f32-5dd7-4219-bff1-850c95607127/\">dcctest:users/26e33f32-5dd7-4219-bff1-850c95607127/</a></td><td>Brian Williams</td></tr><tr><td><a href=\"http://ec2-54-68-99-15.us-west-2.compute.amazonaws.com/users/81a6cc12-2847-4e2e-8f2c-f566699eb29e/\">dcctest:users/81a6cc12-2847-4e2e-8f2c-f566699eb29e/</a></td><td>Cricket Sloan</td></tr><tr><td><a href=\"http://ec2-54-68-99-15.us-west-2.compute.amazonaws.com/users/bc5b62f7-ce28-4a1e-b6b3-81c9c5a86d7a/\">dcctest:users/bc5b62f7-ce28-4a1e-b6b3-81c9c5a86d7a/</a></td><td>Diane Trout</td></tr></table>"
       ],
       "metadata": {},
       "output_type": "pyout",
       "prompt_number": 49,
       "text": [
        "<rdfmagic.LibRdfResults at 0x7f5139839950>"
       ]
      }
     ],
     "prompt_number": 49
    },
    {
     "cell_type": "code",
     "collapsed": false,
     "input": [
      "%%sparql -m model\n",
      "select distinct ?term_id ?term\n",
      "where {\n",
      "  ?s epld:biosample_term_id ?term_id ; \n",
      "     epld:biosample_term_name ?term .\n",
      "}\n",
      "order by ?term"
     ],
     "language": "python",
     "metadata": {},
     "outputs": [
      {
       "html": [
        "<table><tr><td>term_id</td><td>term</td></tr><tr><td><a href=\"http://purl.obolibrary.org/obo/CL_0000121\">http://purl.obolibrary.org/obo/CL_0000121</a></td><td>Purkinje cell</td></tr></table>"
       ],
       "metadata": {},
       "output_type": "pyout",
       "prompt_number": 50,
       "text": [
        "<rdfmagic.LibRdfResults at 0x7f51391f4b10>"
       ]
      }
     ],
     "prompt_number": 50
    },
    {
     "cell_type": "code",
     "collapsed": false,
     "input": [
      "%%sparql -m model\n",
      "select distinct ?term_id ?term\n",
      "where {\n",
      "  ?s epld:nucleic_acid_term_id ?term_id ; \n",
      "     epld:nucleic_acid_term_name ?term .\n",
      "}\n",
      "order by ?term"
     ],
     "language": "python",
     "metadata": {},
     "outputs": [
      {
       "html": [
        "<table><tr><td>term_id</td><td>term</td></tr><tr><td><a href=\"http://purl.obolibrary.org/obo/SO_0000356\">http://purl.obolibrary.org/obo/SO_0000356</a></td><td>RNA</td></tr></table>"
       ],
       "metadata": {},
       "output_type": "pyout",
       "prompt_number": 51,
       "text": [
        "<rdfmagic.LibRdfResults at 0x7f51391f4a10>"
       ]
      }
     ],
     "prompt_number": 51
    },
    {
     "cell_type": "code",
     "collapsed": false,
     "input": [
      "%%sparql -m model\n",
      "select distinct ?s ?type ?date\n",
      "where {\n",
      "  ?s a ?type ;\n",
      "     epld:date_created ?date .\n",
      "}\n",
      "order by ?term"
     ],
     "language": "python",
     "metadata": {},
     "outputs": [
      {
       "output_type": "stream",
       "stream": "stderr",
       "text": [
        "/usr/lib/python2.7/dist-packages/RDF.py:2014: RedlandWarning: Variable term was used but is not bound in the query\n",
        "  results = Redland.librdf_query_execute(self._query,model._model)\n"
       ]
      },
      {
       "html": [
        "<table><tr><td>s</td><td>type</td><td>date</td></tr><tr><td><a href=\"http://ec2-54-68-99-15.us-west-2.compute.amazonaws.com/biosamples/ENCBS503XXB/\">dcctest:biosamples/ENCBS503XXB/</a></td><td><a href=\"https://www.encodeproject.org/ld/biosample\">epld:biosample</a></td><td>2014-04-16T18:42:29.397199+00:00</td></tr><tr><td><a href=\"http://ec2-54-68-99-15.us-west-2.compute.amazonaws.com/biosamples/ENCBS503XXB/\">dcctest:biosamples/ENCBS503XXB/</a></td><td><a href=\"https://www.encodeproject.org/ld/item\">epld:item</a></td><td>2014-04-16T18:42:29.397199+00:00</td></tr><tr><td><a href=\"http://ec2-54-68-99-15.us-west-2.compute.amazonaws.com/biosamples/ENCBS860IIZ/\">dcctest:biosamples/ENCBS860IIZ/</a></td><td><a href=\"https://www.encodeproject.org/ld/biosample\">epld:biosample</a></td><td>2014-04-16T18:42:29.505785+00:00</td></tr><tr><td><a href=\"http://ec2-54-68-99-15.us-west-2.compute.amazonaws.com/biosamples/ENCBS860IIZ/\">dcctest:biosamples/ENCBS860IIZ/</a></td><td><a href=\"https://www.encodeproject.org/ld/item\">epld:item</a></td><td>2014-04-16T18:42:29.505785+00:00</td></tr><tr><td><a href=\"http://ec2-54-68-99-15.us-west-2.compute.amazonaws.com/documents/28fef8e0-e171-450d-b66d-e3d199531cf2/\">dcctest:documents/28fef8e0-e171-450d-b66d-e3d199531cf2/</a></td><td><a href=\"https://www.encodeproject.org/ld/document\">epld:document</a></td><td>2013-09-17T16:26:31.570819-08:00</td></tr><tr><td><a href=\"http://ec2-54-68-99-15.us-west-2.compute.amazonaws.com/documents/28fef8e0-e171-450d-b66d-e3d199531cf2/\">dcctest:documents/28fef8e0-e171-450d-b66d-e3d199531cf2/</a></td><td><a href=\"https://www.encodeproject.org/ld/item\">epld:item</a></td><td>2013-09-17T16:26:31.570819-08:00</td></tr><tr><td><a href=\"http://ec2-54-68-99-15.us-west-2.compute.amazonaws.com/documents/a6e06058-5019-488f-9195-8bcd2e9229c1/\">dcctest:documents/a6e06058-5019-488f-9195-8bcd2e9229c1/</a></td><td><a href=\"https://www.encodeproject.org/ld/document\">epld:document</a></td><td>2014-06-30T17:52:54.773488+00:00</td></tr><tr><td><a href=\"http://ec2-54-68-99-15.us-west-2.compute.amazonaws.com/documents/a6e06058-5019-488f-9195-8bcd2e9229c1/\">dcctest:documents/a6e06058-5019-488f-9195-8bcd2e9229c1/</a></td><td><a href=\"https://www.encodeproject.org/ld/item\">epld:item</a></td><td>2014-06-30T17:52:54.773488+00:00</td></tr><tr><td><a href=\"http://ec2-54-68-99-15.us-west-2.compute.amazonaws.com/experiments/ENCSR157NLF/\">dcctest:experiments/ENCSR157NLF/</a></td><td><a href=\"https://www.encodeproject.org/ld/experiment\">epld:experiment</a></td><td>2014-04-17T22:27:08.692899+00:00</td></tr><tr><td><a href=\"http://ec2-54-68-99-15.us-west-2.compute.amazonaws.com/experiments/ENCSR157NLF/\">dcctest:experiments/ENCSR157NLF/</a></td><td><a href=\"https://www.encodeproject.org/ld/dataset\">epld:dataset</a></td><td>2014-04-17T22:27:08.692899+00:00</td></tr><tr><td><a href=\"http://ec2-54-68-99-15.us-west-2.compute.amazonaws.com/experiments/ENCSR157NLF/\">dcctest:experiments/ENCSR157NLF/</a></td><td><a href=\"https://www.encodeproject.org/ld/item\">epld:item</a></td><td>2014-04-17T22:27:08.692899+00:00</td></tr><tr><td><a href=\"http://ec2-54-68-99-15.us-west-2.compute.amazonaws.com/files/ENCFF001RTP/\">dcctest:files/ENCFF001RTP/</a></td><td><a href=\"https://www.encodeproject.org/ld/file\">epld:file</a></td><td>2013-07-26</td></tr><tr><td><a href=\"http://ec2-54-68-99-15.us-west-2.compute.amazonaws.com/files/ENCFF001RTP/\">dcctest:files/ENCFF001RTP/</a></td><td><a href=\"https://www.encodeproject.org/ld/item\">epld:item</a></td><td>2013-07-26</td></tr><tr><td><a href=\"http://ec2-54-68-99-15.us-west-2.compute.amazonaws.com/files/ENCFF002BKN/\">dcctest:files/ENCFF002BKN/</a></td><td><a href=\"https://www.encodeproject.org/ld/file\">epld:file</a></td><td>2014-05-13</td></tr><tr><td><a href=\"http://ec2-54-68-99-15.us-west-2.compute.amazonaws.com/files/ENCFF002BKN/\">dcctest:files/ENCFF002BKN/</a></td><td><a href=\"https://www.encodeproject.org/ld/item\">epld:item</a></td><td>2014-05-13</td></tr><tr><td><a href=\"http://ec2-54-68-99-15.us-west-2.compute.amazonaws.com/files/ENCFF002BKP/\">dcctest:files/ENCFF002BKP/</a></td><td><a href=\"https://www.encodeproject.org/ld/file\">epld:file</a></td><td>2014-05-13</td></tr><tr><td><a href=\"http://ec2-54-68-99-15.us-west-2.compute.amazonaws.com/files/ENCFF002BKP/\">dcctest:files/ENCFF002BKP/</a></td><td><a href=\"https://www.encodeproject.org/ld/item\">epld:item</a></td><td>2014-05-13</td></tr><tr><td><a href=\"http://ec2-54-68-99-15.us-west-2.compute.amazonaws.com/files/ENCFF002BKQ/\">dcctest:files/ENCFF002BKQ/</a></td><td><a href=\"https://www.encodeproject.org/ld/file\">epld:file</a></td><td>2014-05-13</td></tr><tr><td><a href=\"http://ec2-54-68-99-15.us-west-2.compute.amazonaws.com/files/ENCFF002BKQ/\">dcctest:files/ENCFF002BKQ/</a></td><td><a href=\"https://www.encodeproject.org/ld/item\">epld:item</a></td><td>2014-05-13</td></tr><tr><td><a href=\"http://ec2-54-68-99-15.us-west-2.compute.amazonaws.com/files/ENCFF002BKR/\">dcctest:files/ENCFF002BKR/</a></td><td><a href=\"https://www.encodeproject.org/ld/file\">epld:file</a></td><td>2014-05-13</td></tr><tr><td><a href=\"http://ec2-54-68-99-15.us-west-2.compute.amazonaws.com/files/ENCFF002BKR/\">dcctest:files/ENCFF002BKR/</a></td><td><a href=\"https://www.encodeproject.org/ld/item\">epld:item</a></td><td>2014-05-13</td></tr><tr><td><a href=\"http://ec2-54-68-99-15.us-west-2.compute.amazonaws.com/files/ENCFF002BKS/\">dcctest:files/ENCFF002BKS/</a></td><td><a href=\"https://www.encodeproject.org/ld/file\">epld:file</a></td><td>2014-05-13</td></tr><tr><td><a href=\"http://ec2-54-68-99-15.us-west-2.compute.amazonaws.com/files/ENCFF002BKS/\">dcctest:files/ENCFF002BKS/</a></td><td><a href=\"https://www.encodeproject.org/ld/item\">epld:item</a></td><td>2014-05-13</td></tr><tr><td><a href=\"http://ec2-54-68-99-15.us-west-2.compute.amazonaws.com/files/ENCFF002BKT/\">dcctest:files/ENCFF002BKT/</a></td><td><a href=\"https://www.encodeproject.org/ld/file\">epld:file</a></td><td>2014-05-13</td></tr><tr><td><a href=\"http://ec2-54-68-99-15.us-west-2.compute.amazonaws.com/files/ENCFF002BKT/\">dcctest:files/ENCFF002BKT/</a></td><td><a href=\"https://www.encodeproject.org/ld/item\">epld:item</a></td><td>2014-05-13</td></tr><tr><td><a href=\"http://ec2-54-68-99-15.us-west-2.compute.amazonaws.com/human-donors/ENCDO377OGA/\">dcctest:human-donors/ENCDO377OGA/</a></td><td><a href=\"https://www.encodeproject.org/ld/human_donor\">epld:human_donor</a></td><td>2014-04-15T23:43:22.739336+00:00</td></tr><tr><td><a href=\"http://ec2-54-68-99-15.us-west-2.compute.amazonaws.com/human-donors/ENCDO377OGA/\">dcctest:human-donors/ENCDO377OGA/</a></td><td><a href=\"https://www.encodeproject.org/ld/donor\">epld:donor</a></td><td>2014-04-15T23:43:22.739336+00:00</td></tr><tr><td><a href=\"http://ec2-54-68-99-15.us-west-2.compute.amazonaws.com/human-donors/ENCDO377OGA/\">dcctest:human-donors/ENCDO377OGA/</a></td><td><a href=\"https://www.encodeproject.org/ld/item\">epld:item</a></td><td>2014-04-15T23:43:22.739336+00:00</td></tr><tr><td><a href=\"http://ec2-54-68-99-15.us-west-2.compute.amazonaws.com/libraries/ENCLB204VYG/\">dcctest:libraries/ENCLB204VYG/</a></td><td><a href=\"https://www.encodeproject.org/ld/library\">epld:library</a></td><td>2014-04-17T22:46:51.747073+00:00</td></tr><tr><td><a href=\"http://ec2-54-68-99-15.us-west-2.compute.amazonaws.com/libraries/ENCLB204VYG/\">dcctest:libraries/ENCLB204VYG/</a></td><td><a href=\"https://www.encodeproject.org/ld/item\">epld:item</a></td><td>2014-04-17T22:46:51.747073+00:00</td></tr><tr><td><a href=\"http://ec2-54-68-99-15.us-west-2.compute.amazonaws.com/libraries/ENCLB915IHV/\">dcctest:libraries/ENCLB915IHV/</a></td><td><a href=\"https://www.encodeproject.org/ld/library\">epld:library</a></td><td>2014-04-17T22:46:51.664093+00:00</td></tr><tr><td><a href=\"http://ec2-54-68-99-15.us-west-2.compute.amazonaws.com/libraries/ENCLB915IHV/\">dcctest:libraries/ENCLB915IHV/</a></td><td><a href=\"https://www.encodeproject.org/ld/item\">epld:item</a></td><td>2014-04-17T22:46:51.664093+00:00</td></tr><tr><td><a href=\"http://ec2-54-68-99-15.us-west-2.compute.amazonaws.com/platforms/OBI%3A0002001/\">dcctest:platforms/OBI%3A0002001/</a></td><td><a href=\"https://www.encodeproject.org/ld/platform\">epld:platform</a></td><td>2013-11-14T22:17:00.135861+00:00</td></tr><tr><td><a href=\"http://ec2-54-68-99-15.us-west-2.compute.amazonaws.com/platforms/OBI%3A0002001/\">dcctest:platforms/OBI%3A0002001/</a></td><td><a href=\"https://www.encodeproject.org/ld/item\">epld:item</a></td><td>2013-11-14T22:17:00.135861+00:00</td></tr><tr><td><a href=\"http://ec2-54-68-99-15.us-west-2.compute.amazonaws.com/replicates/5448b775-79a5-45d9-8802-53d56a22ec35/\">dcctest:replicates/5448b775-79a5-45d9-8802-53d56a22ec35/</a></td><td><a href=\"https://www.encodeproject.org/ld/replicate\">epld:replicate</a></td><td>2014-04-17T22:59:14.816399+00:00</td></tr><tr><td><a href=\"http://ec2-54-68-99-15.us-west-2.compute.amazonaws.com/replicates/5448b775-79a5-45d9-8802-53d56a22ec35/\">dcctest:replicates/5448b775-79a5-45d9-8802-53d56a22ec35/</a></td><td><a href=\"https://www.encodeproject.org/ld/item\">epld:item</a></td><td>2014-04-17T22:59:14.816399+00:00</td></tr><tr><td><a href=\"http://ec2-54-68-99-15.us-west-2.compute.amazonaws.com/replicates/6462ce98-b1f5-4621-ae8b-9b57e51e716a/\">dcctest:replicates/6462ce98-b1f5-4621-ae8b-9b57e51e716a/</a></td><td><a href=\"https://www.encodeproject.org/ld/replicate\">epld:replicate</a></td><td>2014-04-17T22:59:14.771461+00:00</td></tr><tr><td><a href=\"http://ec2-54-68-99-15.us-west-2.compute.amazonaws.com/replicates/6462ce98-b1f5-4621-ae8b-9b57e51e716a/\">dcctest:replicates/6462ce98-b1f5-4621-ae8b-9b57e51e716a/</a></td><td><a href=\"https://www.encodeproject.org/ld/item\">epld:item</a></td><td>2014-04-17T22:59:14.771461+00:00</td></tr></table>"
       ],
       "metadata": {},
       "output_type": "pyout",
       "prompt_number": 67,
       "text": [
        "<rdfmagic.LibRdfResults at 0x7f5139c46810>"
       ]
      }
     ],
     "prompt_number": 67
    },
    {
     "cell_type": "code",
     "collapsed": false,
     "input": [
      "%%sparql -m model -o libraries\n",
      "select distinct ?s\n",
      "where {\n",
      "  ?s a epld:library.\n",
      "}\n"
     ],
     "language": "python",
     "metadata": {},
     "outputs": [],
     "prompt_number": 70
    },
    {
     "cell_type": "code",
     "collapsed": false,
     "input": [
      "for row in libraries:\n",
      "    lib = str(row['s'])\n",
      "    print(lib)\n",
      "    loadJSONintoModel(model, encoded.get_jsonld('/experiments/ENCSR157NLF'))"
     ],
     "language": "python",
     "metadata": {},
     "outputs": [
      {
       "output_type": "stream",
       "stream": "stdout",
       "text": [
        "http://ec2-54-68-99-15.us-west-2.compute.amazonaws.com/libraries/ENCLB204VYG/\n",
        "http://ec2-54-68-99-15.us-west-2.compute.amazonaws.com/libraries/ENCLB915IHV/"
       ]
      },
      {
       "output_type": "stream",
       "stream": "stdout",
       "text": [
        "\n"
       ]
      }
     ],
     "prompt_number": 72
    },
    {
     "cell_type": "code",
     "collapsed": false,
     "input": [
      "dump_encode(model)"
     ],
     "language": "python",
     "metadata": {},
     "outputs": [],
     "prompt_number": 76
    },
    {
     "cell_type": "code",
     "collapsed": false,
     "input": [
      "%%sparql -m model \n",
      "select ?biosample ?library ?file ?format\n",
      "where {\n",
      "  ?biosample a epld:biosample .\n",
      "  ?library epld:biosample ?biosample .\n",
      "  ?replicate epld:library ?library .\n",
      "  ?file epld:replicate ?replicate ;\n",
      "        epld:file_format ?format .\n",
      "}"
     ],
     "language": "python",
     "metadata": {},
     "outputs": [
      {
       "html": [
        "<table><tr><td>biosample</td><td>library</td><td>file</td><td>format</td></tr><tr><td><a href=\"http://ec2-54-68-99-15.us-west-2.compute.amazonaws.com/biosamples/ENCBS503XXB/\">dcctest:biosamples/ENCBS503XXB/</a></td><td><a href=\"http://ec2-54-68-99-15.us-west-2.compute.amazonaws.com/libraries/ENCLB915IHV/\">dcctest:libraries/ENCLB915IHV/</a></td><td><a href=\"http://ec2-54-68-99-15.us-west-2.compute.amazonaws.com/files/ENCFF002BKN/\">dcctest:files/ENCFF002BKN/</a></td><td>fastq</td></tr><tr><td><a href=\"http://ec2-54-68-99-15.us-west-2.compute.amazonaws.com/biosamples/ENCBS503XXB/\">dcctest:biosamples/ENCBS503XXB/</a></td><td><a href=\"http://ec2-54-68-99-15.us-west-2.compute.amazonaws.com/libraries/ENCLB915IHV/\">dcctest:libraries/ENCLB915IHV/</a></td><td><a href=\"http://ec2-54-68-99-15.us-west-2.compute.amazonaws.com/files/ENCFF002BKQ/\">dcctest:files/ENCFF002BKQ/</a></td><td>fastq</td></tr><tr><td><a href=\"http://ec2-54-68-99-15.us-west-2.compute.amazonaws.com/biosamples/ENCBS503XXB/\">dcctest:biosamples/ENCBS503XXB/</a></td><td><a href=\"http://ec2-54-68-99-15.us-west-2.compute.amazonaws.com/libraries/ENCLB915IHV/\">dcctest:libraries/ENCLB915IHV/</a></td><td><a href=\"http://ec2-54-68-99-15.us-west-2.compute.amazonaws.com/files/ENCFF002BKR/\">dcctest:files/ENCFF002BKR/</a></td><td>fastq</td></tr><tr><td><a href=\"http://ec2-54-68-99-15.us-west-2.compute.amazonaws.com/biosamples/ENCBS860IIZ/\">dcctest:biosamples/ENCBS860IIZ/</a></td><td><a href=\"http://ec2-54-68-99-15.us-west-2.compute.amazonaws.com/libraries/ENCLB204VYG/\">dcctest:libraries/ENCLB204VYG/</a></td><td><a href=\"http://ec2-54-68-99-15.us-west-2.compute.amazonaws.com/files/ENCFF002BKP/\">dcctest:files/ENCFF002BKP/</a></td><td>fastq</td></tr><tr><td><a href=\"http://ec2-54-68-99-15.us-west-2.compute.amazonaws.com/biosamples/ENCBS860IIZ/\">dcctest:biosamples/ENCBS860IIZ/</a></td><td><a href=\"http://ec2-54-68-99-15.us-west-2.compute.amazonaws.com/libraries/ENCLB204VYG/\">dcctest:libraries/ENCLB204VYG/</a></td><td><a href=\"http://ec2-54-68-99-15.us-west-2.compute.amazonaws.com/files/ENCFF002BKS/\">dcctest:files/ENCFF002BKS/</a></td><td>fastq</td></tr><tr><td><a href=\"http://ec2-54-68-99-15.us-west-2.compute.amazonaws.com/biosamples/ENCBS860IIZ/\">dcctest:biosamples/ENCBS860IIZ/</a></td><td><a href=\"http://ec2-54-68-99-15.us-west-2.compute.amazonaws.com/libraries/ENCLB204VYG/\">dcctest:libraries/ENCLB204VYG/</a></td><td><a href=\"http://ec2-54-68-99-15.us-west-2.compute.amazonaws.com/files/ENCFF002BKT/\">dcctest:files/ENCFF002BKT/</a></td><td>fastq</td></tr></table>"
       ],
       "metadata": {},
       "output_type": "pyout",
       "prompt_number": 85,
       "text": [
        "<rdfmagic.LibRdfResults at 0x7f5139a9d310>"
       ]
      }
     ],
     "prompt_number": 85
    },
    {
     "cell_type": "code",
     "collapsed": false,
     "input": [],
     "language": "python",
     "metadata": {},
     "outputs": []
    }
   ],
   "metadata": {}
  }
 ]
}