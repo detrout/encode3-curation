{
 "metadata": {
  "name": "",
  "signature": "sha256:0a198f05b316b12fdce877a09e86760c3a7ea37413724deebeb40f8f405674ea"
 },
 "nbformat": 3,
 "nbformat_minor": 0,
 "worksheets": [
  {
   "cells": [
    {
     "cell_type": "markdown",
     "metadata": {},
     "source": [
      "Brian,\n",
      "\n",
      "HUVEC\n",
      "-----------\n",
      "\n",
      "We had two experiments:\n",
      "\n",
      "ENCSR654UPQ <https://www.encodeproject.org/experiments/ENCSR654UPQ>   and\n",
      "ENCSR000EYS <https://www.encodeproject.org/experiments/ENCSR000EYS>\n",
      "\n",
      "we have two biosamples:\n",
      "\n",
      "ENCBS719AAA <https://www.encodeproject.org/biosamples/ENCBS719AAA> and\n",
      "ENCBS743IPG <https://www.encodeproject.org/biosamples/ENCBS743IPG>\n",
      "\n",
      "These two biosamples are connected ONLY to current Ali data and not to any\n",
      "other ENCODE2 data.\n",
      "\n",
      "The second experiment has no biosample attached to the second replicate.  I\n",
      "expect that  the second replicate of ENCSR654UPQ\n",
      "<https://www.encodeproject.org/experiments/ENCSR654UPQ>  should be\n",
      "ENCBS743IPG <https://www.encodeproject.org/biosamples/ENCBS743IPG>\n",
      "\n",
      "I wonder if these HUVEC samples came from somewhere else?\n",
      "\n",
      "How hard would it be for you to help me make a report for Brian that listed\n",
      "these details:\n",
      "\n",
      "for each biosample_term_name group for barbara-wold experiments,\n",
      "\n",
      "list each experiment - biological_replicate - biosample_accession  - Number\n",
      "of other labs that use that biosample (the tricky part)\n"
     ]
    },
    {
     "cell_type": "code",
     "collapsed": false,
     "input": [
      "from curation_common import *\n",
      "import requests"
     ],
     "language": "python",
     "metadata": {},
     "outputs": [],
     "prompt_number": 1
    },
    {
     "cell_type": "code",
     "collapsed": false,
     "input": [
      "%addns biosamples https://www.encodeproject.org/biosamples/\n",
      "%addns labs https://www.encodeproject.org/labs/"
     ],
     "language": "python",
     "metadata": {},
     "outputs": [],
     "prompt_number": 2
    },
    {
     "cell_type": "code",
     "collapsed": false,
     "input": [
      "huvec_objects = [\n",
      "  #'/experiments/ENCSR654UPQ',\n",
      "  #'/experiments/ENCSR000EYS',\n",
      "  '/biosamples/ENCBS719AAA',\n",
      "  '/biosamples/ENCBS743IPG',\n",
      "]"
     ],
     "language": "python",
     "metadata": {},
     "outputs": [],
     "prompt_number": 3
    },
    {
     "cell_type": "code",
     "collapsed": false,
     "input": [
      "server = ENCODED('www.encodeproject.org')\n",
      "server.load_netrc()"
     ],
     "language": "python",
     "metadata": {},
     "outputs": [],
     "prompt_number": 4
    },
    {
     "cell_type": "code",
     "collapsed": false,
     "input": [
      "model = get_model()"
     ],
     "language": "python",
     "metadata": {},
     "outputs": [],
     "prompt_number": 5
    },
    {
     "cell_type": "code",
     "collapsed": false,
     "input": [
      "for huvec in huvec_objects:\n",
      "    print(\"Loading\", huvec)\n",
      "    jsonld = server.get_jsonld(huvec)\n",
      "    load_jsonld_into_model(model, jsonld)"
     ],
     "language": "python",
     "metadata": {},
     "outputs": [
      {
       "output_type": "stream",
       "stream": "stdout",
       "text": [
        "('Loading', '/biosamples/ENCBS719AAA')\n",
        "('Loading', '/biosamples/ENCBS743IPG')"
       ]
      },
      {
       "output_type": "stream",
       "stream": "stdout",
       "text": [
        "\n"
       ]
      }
     ],
     "prompt_number": 6
    },
    {
     "cell_type": "code",
     "collapsed": false,
     "input": [
      "%%sparql -m model -o biosamples\n",
      "select distinct ?biosample ?accession\n",
      "where {\n",
      "  ?biosample a biosample:biosample ;\n",
      "             biosample:accession ?accession .\n",
      "\n",
      "}"
     ],
     "language": "python",
     "metadata": {},
     "outputs": [],
     "prompt_number": 7
    },
    {
     "cell_type": "code",
     "collapsed": false,
     "input": [
      "biosamples"
     ],
     "language": "python",
     "metadata": {},
     "outputs": [
      {
       "html": [
        "<table><tr><td>biosample</td><td>accession</td></tr><tr><td><a href=\"https://www.encodeproject.org/biosamples/ENCBS719AAA/\">biosamples:ENCBS719AAA/</a></td><td>ENCBS719AAA</td></tr><tr><td><a href=\"https://www.encodeproject.org/biosamples/ENCBS743IPG/\">biosamples:ENCBS743IPG/</a></td><td>ENCBS743IPG</td></tr></table>"
       ],
       "metadata": {},
       "output_type": "pyout",
       "prompt_number": 8,
       "text": [
        "<rdfmagic.LibRdfResults at 0x7f56efaacb10>"
       ]
      }
     ],
     "prompt_number": 8
    },
    {
     "cell_type": "code",
     "collapsed": false,
     "input": [
      "for biosample_row in biosamples:\n",
      "    biosample = str(biosample_row['accession'])\n",
      "    print('biosample:',biosample)\n",
      "    query = '/search/?type=experiment&replicates.library.biosample.accession={}'.format(biosample)\n",
      "    query_result = server.get_json(query)\n",
      "    for result in query_result['@graph']:\n",
      "        try:\n",
      "            exp_id = result['@id']\n",
      "            print('loading', exp_id)\n",
      "            jsonld = server.get_jsonld(exp_id)\n",
      "            load_jsonld_into_model(model, jsonld)\n",
      "        except requests.exceptions.HTTPError as e:\n",
      "            print(\"Couldn't load:\", exp_id, e.response.status_code)\n",
      "                                       "
     ],
     "language": "python",
     "metadata": {},
     "outputs": [
      {
       "output_type": "stream",
       "stream": "stdout",
       "text": [
        "('biosample:', 'ENCBS719AAA')\n",
        "('loading', u'/experiments/ENCSR007BDR/')"
       ]
      },
      {
       "output_type": "stream",
       "stream": "stdout",
       "text": [
        "\n",
        "('loading', u'/experiments/ENCSR223FVU/')"
       ]
      },
      {
       "output_type": "stream",
       "stream": "stdout",
       "text": [
        "\n",
        "('loading', u'/experiments/ENCSR654UPQ/')"
       ]
      },
      {
       "output_type": "stream",
       "stream": "stdout",
       "text": [
        "\n",
        "('loading', u'/experiments/ENCSR000EYS/')"
       ]
      },
      {
       "output_type": "stream",
       "stream": "stdout",
       "text": [
        "\n",
        "('biosample:', 'ENCBS743IPG')"
       ]
      },
      {
       "output_type": "stream",
       "stream": "stdout",
       "text": [
        "\n",
        "('loading', u'/experiments/ENCSR007BDR/')"
       ]
      },
      {
       "output_type": "stream",
       "stream": "stdout",
       "text": [
        "\n",
        "('loading', u'/experiments/ENCSR223FVU/')"
       ]
      },
      {
       "output_type": "stream",
       "stream": "stdout",
       "text": [
        "\n",
        "('loading', u'/experiments/ENCSR000EYS/')"
       ]
      },
      {
       "output_type": "stream",
       "stream": "stdout",
       "text": [
        "\n"
       ]
      }
     ],
     "prompt_number": 9
    },
    {
     "cell_type": "heading",
     "level": 1,
     "metadata": {},
     "source": [
      "biosample to lab"
     ]
    },
    {
     "cell_type": "code",
     "collapsed": false,
     "input": [
      "%%sparql -m model \n",
      "select distinct ?bio ?biosample_name ?exp ?biorep ?lab\n",
      "where {\n",
      "  ?exp a experiment:experiment ;\n",
      "       experiment:lab ?lab ;\n",
      "       experiment:replicates ?rep .\n",
      "  ?rep replicate:library ?lib ;\n",
      "       replicate:biological_replicate_number ?biorep ;\n",
      "       replicate:technical_replicate_number ?techrep .\n",
      "  ?lib library:biosample ?bio .\n",
      "  ?bio biosample:biosample_term_name ?biosample_name .\n",
      "\n",
      "}\n",
      "group by ?bio ?lab"
     ],
     "language": "python",
     "metadata": {},
     "outputs": [
      {
       "html": [
        "<table><tr><td>bio</td><td>biosample_name</td><td>exp</td><td>biorep</td><td>lab</td></tr><tr><td><a href=\"https://www.encodeproject.org/biosamples/ENCBS719AAA/\">biosamples:ENCBS719AAA/</a></td><td>endothelial cell of umbilical vein</td><td><a href=\"https://www.encodeproject.org/experiments/ENCSR007BDR/\">experiments:ENCSR007BDR/</a></td><td>1</td><td><a href=\"https://www.encodeproject.org/labs/ali-mortazavi/\">labs:ali-mortazavi/</a></td></tr><tr><td><a href=\"https://www.encodeproject.org/biosamples/ENCBS719AAA/\">biosamples:ENCBS719AAA/</a></td><td>endothelial cell of umbilical vein</td><td><a href=\"https://www.encodeproject.org/experiments/ENCSR223FVU/\">experiments:ENCSR223FVU/</a></td><td>1</td><td><a href=\"https://www.encodeproject.org/labs/ali-mortazavi/\">labs:ali-mortazavi/</a></td></tr><tr><td><a href=\"https://www.encodeproject.org/biosamples/ENCBS719AAA/\">biosamples:ENCBS719AAA/</a></td><td>endothelial cell of umbilical vein</td><td><a href=\"https://www.encodeproject.org/experiments/ENCSR654UPQ/\">experiments:ENCSR654UPQ/</a></td><td>1</td><td><a href=\"https://www.encodeproject.org/labs/barbara-wold/\">labs:barbara-wold/</a></td></tr><tr><td><a href=\"https://www.encodeproject.org/biosamples/ENCBS719AAA/\">biosamples:ENCBS719AAA/</a></td><td>endothelial cell of umbilical vein</td><td><a href=\"https://www.encodeproject.org/experiments/ENCSR000EYS/\">experiments:ENCSR000EYS/</a></td><td>1</td><td><a href=\"https://www.encodeproject.org/labs/barbara-wold/\">labs:barbara-wold/</a></td></tr><tr><td><a href=\"https://www.encodeproject.org/biosamples/ENCBS743IPG/\">biosamples:ENCBS743IPG/</a></td><td>endothelial cell of umbilical vein</td><td><a href=\"https://www.encodeproject.org/experiments/ENCSR007BDR/\">experiments:ENCSR007BDR/</a></td><td>2</td><td><a href=\"https://www.encodeproject.org/labs/ali-mortazavi/\">labs:ali-mortazavi/</a></td></tr><tr><td><a href=\"https://www.encodeproject.org/biosamples/ENCBS743IPG/\">biosamples:ENCBS743IPG/</a></td><td>endothelial cell of umbilical vein</td><td><a href=\"https://www.encodeproject.org/experiments/ENCSR223FVU/\">experiments:ENCSR223FVU/</a></td><td>2</td><td><a href=\"https://www.encodeproject.org/labs/ali-mortazavi/\">labs:ali-mortazavi/</a></td></tr><tr><td><a href=\"https://www.encodeproject.org/biosamples/ENCBS743IPG/\">biosamples:ENCBS743IPG/</a></td><td>endothelial cell of umbilical vein</td><td><a href=\"https://www.encodeproject.org/experiments/ENCSR000EYS/\">experiments:ENCSR000EYS/</a></td><td>2</td><td><a href=\"https://www.encodeproject.org/labs/barbara-wold/\">labs:barbara-wold/</a></td></tr></table>"
       ],
       "metadata": {},
       "output_type": "pyout",
       "prompt_number": 15,
       "text": [
        "<rdfmagic.LibRdfResults at 0x7f56f7e1ac90>"
       ]
      }
     ],
     "prompt_number": 15
    },
    {
     "cell_type": "code",
     "collapsed": false,
     "input": [],
     "language": "python",
     "metadata": {},
     "outputs": [],
     "prompt_number": 10
    }
   ],
   "metadata": {}
  }
 ]
}