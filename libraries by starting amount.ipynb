{
 "cells": [
  {
   "cell_type": "markdown",
   "metadata": {},
   "source": [
    "Look up *all* of our experiments to see what documents are attached and what their starting nucleic acid amounts are.\n",
    "\n",
    "This notebook is painfully slow to run.\n",
    "\n",
    "The output is an excel sheet, because there's enough data this is a mess."
   ]
  },
  {
   "cell_type": "code",
   "execution_count": 1,
   "metadata": {
    "collapsed": false
   },
   "outputs": [],
   "source": [
    "from __future__ import print_function\n",
    "from IPython.display import clear_output, display\n",
    "import pandas\n",
    "import RDF\n",
    "from curation_common import *\n",
    "from htsworkflow.util.rdfhelp import fromTypedNode"
   ]
  },
  {
   "cell_type": "code",
   "execution_count": 2,
   "metadata": {
    "collapsed": false
   },
   "outputs": [],
   "source": [
    "server = ENCODED('www.encodeproject.org')\n",
    "server.load_netrc()"
   ]
  },
  {
   "cell_type": "code",
   "execution_count": 3,
   "metadata": {
    "collapsed": false
   },
   "outputs": [],
   "source": [
    "search = server.get_json('/search/?type=experiment&lab.title=Barbara Wold, Caltech')"
   ]
  },
  {
   "cell_type": "code",
   "execution_count": 4,
   "metadata": {
    "collapsed": false
   },
   "outputs": [],
   "source": [
    "experiments = [x['@id'] for x in search['@graph']]"
   ]
  },
  {
   "cell_type": "code",
   "execution_count": 5,
   "metadata": {
    "collapsed": false
   },
   "outputs": [
    {
     "data": {
      "text/plain": [
       "257"
      ]
     },
     "execution_count": 5,
     "metadata": {},
     "output_type": "execute_result"
    }
   ],
   "source": [
    "len(experiments)"
   ]
  },
  {
   "cell_type": "code",
   "execution_count": 6,
   "metadata": {
    "collapsed": false
   },
   "outputs": [],
   "source": [
    "model = get_model(use_contexts=False)"
   ]
  },
  {
   "cell_type": "code",
   "execution_count": 33,
   "metadata": {
    "collapsed": false
   },
   "outputs": [],
   "source": [
    "s = RDF.Serializer('turtle')"
   ]
  },
  {
   "cell_type": "code",
   "execution_count": 37,
   "metadata": {
    "collapsed": false
   },
   "outputs": [
    {
     "data": {
      "text/plain": [
       "0"
      ]
     },
     "execution_count": 37,
     "metadata": {},
     "output_type": "execute_result"
    }
   ],
   "source": [
    "s.serialize_model_to_file('/tmp/rnaseq.turtle', model)"
   ]
  },
  {
   "cell_type": "code",
   "execution_count": 38,
   "metadata": {
    "collapsed": true
   },
   "outputs": [],
   "source": [
    "model2 = get_model(use_contexts=False)"
   ]
  },
  {
   "cell_type": "code",
   "execution_count": 39,
   "metadata": {
    "collapsed": true
   },
   "outputs": [],
   "source": [
    "p = RDF.Parser('turtle')"
   ]
  },
  {
   "cell_type": "code",
   "execution_count": 42,
   "metadata": {
    "collapsed": false
   },
   "outputs": [
    {
     "name": "stdout",
     "output_type": "stream",
     "text": [
      "Caught error \"URI 'https://www.encodeproject.org/profiles/MadQualityMetric.json#MAD of log ratios' contains bad character(s)\"\n"
     ]
    },
    {
     "ename": "RedlandError",
     "evalue": "\"URI 'https://www.encodeproject.org/profiles/MadQualityMetric.json#MAD of log ratios' contains bad character(s)\"",
     "output_type": "error",
     "traceback": [
      "\u001b[0;31m---------------------------------------------------------------------------\u001b[0m",
      "\u001b[0;31mRedlandError\u001b[0m                              Traceback (most recent call last)",
      "\u001b[0;32m<ipython-input-42-03c688a5dd84>\u001b[0m in \u001b[0;36m<module>\u001b[0;34m()\u001b[0m\n\u001b[0;32m----> 1\u001b[0;31m \u001b[0mget_ipython\u001b[0m\u001b[0;34m(\u001b[0m\u001b[0;34m)\u001b[0m\u001b[0;34m.\u001b[0m\u001b[0mmagic\u001b[0m\u001b[0;34m(\u001b[0m\u001b[0;34m\"timeit p.parse_into_model(model2, 'file:///tmp/rnaseq.turtle')\"\u001b[0m\u001b[0;34m)\u001b[0m\u001b[0;34m\u001b[0m\u001b[0m\n\u001b[0m",
      "\u001b[0;32m/usr/lib/python3/dist-packages/IPython/core/interactiveshell.py\u001b[0m in \u001b[0;36mmagic\u001b[0;34m(self, arg_s)\u001b[0m\n\u001b[1;32m   2305\u001b[0m         \u001b[0mmagic_name\u001b[0m\u001b[0;34m,\u001b[0m \u001b[0m_\u001b[0m\u001b[0;34m,\u001b[0m \u001b[0mmagic_arg_s\u001b[0m \u001b[0;34m=\u001b[0m \u001b[0marg_s\u001b[0m\u001b[0;34m.\u001b[0m\u001b[0mpartition\u001b[0m\u001b[0;34m(\u001b[0m\u001b[0;34m' '\u001b[0m\u001b[0;34m)\u001b[0m\u001b[0;34m\u001b[0m\u001b[0m\n\u001b[1;32m   2306\u001b[0m         \u001b[0mmagic_name\u001b[0m \u001b[0;34m=\u001b[0m \u001b[0mmagic_name\u001b[0m\u001b[0;34m.\u001b[0m\u001b[0mlstrip\u001b[0m\u001b[0;34m(\u001b[0m\u001b[0mprefilter\u001b[0m\u001b[0;34m.\u001b[0m\u001b[0mESC_MAGIC\u001b[0m\u001b[0;34m)\u001b[0m\u001b[0;34m\u001b[0m\u001b[0m\n\u001b[0;32m-> 2307\u001b[0;31m         \u001b[0;32mreturn\u001b[0m \u001b[0mself\u001b[0m\u001b[0;34m.\u001b[0m\u001b[0mrun_line_magic\u001b[0m\u001b[0;34m(\u001b[0m\u001b[0mmagic_name\u001b[0m\u001b[0;34m,\u001b[0m \u001b[0mmagic_arg_s\u001b[0m\u001b[0;34m)\u001b[0m\u001b[0;34m\u001b[0m\u001b[0m\n\u001b[0m\u001b[1;32m   2308\u001b[0m \u001b[0;34m\u001b[0m\u001b[0m\n\u001b[1;32m   2309\u001b[0m     \u001b[0;31m#-------------------------------------------------------------------------\u001b[0m\u001b[0;34m\u001b[0m\u001b[0;34m\u001b[0m\u001b[0m\n",
      "\u001b[0;32m/usr/lib/python3/dist-packages/IPython/core/interactiveshell.py\u001b[0m in \u001b[0;36mrun_line_magic\u001b[0;34m(self, magic_name, line)\u001b[0m\n\u001b[1;32m   2226\u001b[0m                 \u001b[0mkwargs\u001b[0m\u001b[0;34m[\u001b[0m\u001b[0;34m'local_ns'\u001b[0m\u001b[0;34m]\u001b[0m \u001b[0;34m=\u001b[0m \u001b[0msys\u001b[0m\u001b[0;34m.\u001b[0m\u001b[0m_getframe\u001b[0m\u001b[0;34m(\u001b[0m\u001b[0mstack_depth\u001b[0m\u001b[0;34m)\u001b[0m\u001b[0;34m.\u001b[0m\u001b[0mf_locals\u001b[0m\u001b[0;34m\u001b[0m\u001b[0m\n\u001b[1;32m   2227\u001b[0m             \u001b[0;32mwith\u001b[0m \u001b[0mself\u001b[0m\u001b[0;34m.\u001b[0m\u001b[0mbuiltin_trap\u001b[0m\u001b[0;34m:\u001b[0m\u001b[0;34m\u001b[0m\u001b[0m\n\u001b[0;32m-> 2228\u001b[0;31m                 \u001b[0mresult\u001b[0m \u001b[0;34m=\u001b[0m \u001b[0mfn\u001b[0m\u001b[0;34m(\u001b[0m\u001b[0;34m*\u001b[0m\u001b[0margs\u001b[0m\u001b[0;34m,\u001b[0m\u001b[0;34m**\u001b[0m\u001b[0mkwargs\u001b[0m\u001b[0;34m)\u001b[0m\u001b[0;34m\u001b[0m\u001b[0m\n\u001b[0m\u001b[1;32m   2229\u001b[0m             \u001b[0;32mreturn\u001b[0m \u001b[0mresult\u001b[0m\u001b[0;34m\u001b[0m\u001b[0m\n\u001b[1;32m   2230\u001b[0m \u001b[0;34m\u001b[0m\u001b[0m\n",
      "\u001b[0;32m<decorator-gen-59>\u001b[0m in \u001b[0;36mtimeit\u001b[0;34m(self, line, cell)\u001b[0m\n",
      "\u001b[0;32m/usr/lib/python3/dist-packages/IPython/core/magic.py\u001b[0m in \u001b[0;36m<lambda>\u001b[0;34m(f, *a, **k)\u001b[0m\n\u001b[1;32m    191\u001b[0m     \u001b[0;31m# but it's overkill for just that one bit of state.\u001b[0m\u001b[0;34m\u001b[0m\u001b[0;34m\u001b[0m\u001b[0m\n\u001b[1;32m    192\u001b[0m     \u001b[0;32mdef\u001b[0m \u001b[0mmagic_deco\u001b[0m\u001b[0;34m(\u001b[0m\u001b[0marg\u001b[0m\u001b[0;34m)\u001b[0m\u001b[0;34m:\u001b[0m\u001b[0;34m\u001b[0m\u001b[0m\n\u001b[0;32m--> 193\u001b[0;31m         \u001b[0mcall\u001b[0m \u001b[0;34m=\u001b[0m \u001b[0;32mlambda\u001b[0m \u001b[0mf\u001b[0m\u001b[0;34m,\u001b[0m \u001b[0;34m*\u001b[0m\u001b[0ma\u001b[0m\u001b[0;34m,\u001b[0m \u001b[0;34m**\u001b[0m\u001b[0mk\u001b[0m\u001b[0;34m:\u001b[0m \u001b[0mf\u001b[0m\u001b[0;34m(\u001b[0m\u001b[0;34m*\u001b[0m\u001b[0ma\u001b[0m\u001b[0;34m,\u001b[0m \u001b[0;34m**\u001b[0m\u001b[0mk\u001b[0m\u001b[0;34m)\u001b[0m\u001b[0;34m\u001b[0m\u001b[0m\n\u001b[0m\u001b[1;32m    194\u001b[0m \u001b[0;34m\u001b[0m\u001b[0m\n\u001b[1;32m    195\u001b[0m         \u001b[0;32mif\u001b[0m \u001b[0mcallable\u001b[0m\u001b[0;34m(\u001b[0m\u001b[0marg\u001b[0m\u001b[0;34m)\u001b[0m\u001b[0;34m:\u001b[0m\u001b[0;34m\u001b[0m\u001b[0m\n",
      "\u001b[0;32m/usr/lib/python3/dist-packages/IPython/core/magics/execution.py\u001b[0m in \u001b[0;36mtimeit\u001b[0;34m(self, line, cell)\u001b[0m\n\u001b[1;32m   1034\u001b[0m             \u001b[0mnumber\u001b[0m \u001b[0;34m=\u001b[0m \u001b[0;36m1\u001b[0m\u001b[0;34m\u001b[0m\u001b[0m\n\u001b[1;32m   1035\u001b[0m             \u001b[0;32mfor\u001b[0m \u001b[0m_\u001b[0m \u001b[0;32min\u001b[0m \u001b[0mrange\u001b[0m\u001b[0;34m(\u001b[0m\u001b[0;36m1\u001b[0m\u001b[0;34m,\u001b[0m \u001b[0;36m10\u001b[0m\u001b[0;34m)\u001b[0m\u001b[0;34m:\u001b[0m\u001b[0;34m\u001b[0m\u001b[0m\n\u001b[0;32m-> 1036\u001b[0;31m                 \u001b[0mtime_number\u001b[0m \u001b[0;34m=\u001b[0m \u001b[0mtimer\u001b[0m\u001b[0;34m.\u001b[0m\u001b[0mtimeit\u001b[0m\u001b[0;34m(\u001b[0m\u001b[0mnumber\u001b[0m\u001b[0;34m)\u001b[0m\u001b[0;34m\u001b[0m\u001b[0m\n\u001b[0m\u001b[1;32m   1037\u001b[0m                 \u001b[0mworst_tuning\u001b[0m \u001b[0;34m=\u001b[0m \u001b[0mmax\u001b[0m\u001b[0;34m(\u001b[0m\u001b[0mworst_tuning\u001b[0m\u001b[0;34m,\u001b[0m \u001b[0mtime_number\u001b[0m \u001b[0;34m/\u001b[0m \u001b[0mnumber\u001b[0m\u001b[0;34m)\u001b[0m\u001b[0;34m\u001b[0m\u001b[0m\n\u001b[1;32m   1038\u001b[0m                 \u001b[0;32mif\u001b[0m \u001b[0mtime_number\u001b[0m \u001b[0;34m>=\u001b[0m \u001b[0;36m0.2\u001b[0m\u001b[0;34m:\u001b[0m\u001b[0;34m\u001b[0m\u001b[0m\n",
      "\u001b[0;32m/usr/lib/python3/dist-packages/IPython/core/magics/execution.py\u001b[0m in \u001b[0;36mtimeit\u001b[0;34m(self, number)\u001b[0m\n\u001b[1;32m    130\u001b[0m         \u001b[0mgc\u001b[0m\u001b[0;34m.\u001b[0m\u001b[0mdisable\u001b[0m\u001b[0;34m(\u001b[0m\u001b[0;34m)\u001b[0m\u001b[0;34m\u001b[0m\u001b[0m\n\u001b[1;32m    131\u001b[0m         \u001b[0;32mtry\u001b[0m\u001b[0;34m:\u001b[0m\u001b[0;34m\u001b[0m\u001b[0m\n\u001b[0;32m--> 132\u001b[0;31m             \u001b[0mtiming\u001b[0m \u001b[0;34m=\u001b[0m \u001b[0mself\u001b[0m\u001b[0;34m.\u001b[0m\u001b[0minner\u001b[0m\u001b[0;34m(\u001b[0m\u001b[0mit\u001b[0m\u001b[0;34m,\u001b[0m \u001b[0mself\u001b[0m\u001b[0;34m.\u001b[0m\u001b[0mtimer\u001b[0m\u001b[0;34m)\u001b[0m\u001b[0;34m\u001b[0m\u001b[0m\n\u001b[0m\u001b[1;32m    133\u001b[0m         \u001b[0;32mfinally\u001b[0m\u001b[0;34m:\u001b[0m\u001b[0;34m\u001b[0m\u001b[0m\n\u001b[1;32m    134\u001b[0m             \u001b[0;32mif\u001b[0m \u001b[0mgcold\u001b[0m\u001b[0;34m:\u001b[0m\u001b[0;34m\u001b[0m\u001b[0m\n",
      "\u001b[0;32m<magic-timeit>\u001b[0m in \u001b[0;36minner\u001b[0;34m(_it, _timer)\u001b[0m\n",
      "\u001b[0;32m/usr/lib/python3/dist-packages/RDF.py\u001b[0m in \u001b[0;36mparse_into_model\u001b[0;34m(self, model, uri, base_uri, handler)\u001b[0m\n\u001b[1;32m   1818\u001b[0m     \u001b[0;32mexcept\u001b[0m \u001b[0mRedlandError\u001b[0m \u001b[0;32mas\u001b[0m \u001b[0merr\u001b[0m\u001b[0;34m:\u001b[0m\u001b[0;34m\u001b[0m\u001b[0m\n\u001b[1;32m   1819\u001b[0m       \u001b[0mprint\u001b[0m\u001b[0;34m(\u001b[0m\u001b[0;34m\"Caught error\"\u001b[0m\u001b[0;34m,\u001b[0m\u001b[0merr\u001b[0m\u001b[0;34m)\u001b[0m\u001b[0;34m\u001b[0m\u001b[0m\n\u001b[0;32m-> 1820\u001b[0;31m       \u001b[0;32mraise\u001b[0m \u001b[0merr\u001b[0m\u001b[0;34m\u001b[0m\u001b[0m\n\u001b[0m\u001b[1;32m   1821\u001b[0m \u001b[0;34m\u001b[0m\u001b[0m\n\u001b[1;32m   1822\u001b[0m     \u001b[0;32mif\u001b[0m \u001b[0mhandler\u001b[0m \u001b[0;32mis\u001b[0m \u001b[0;32mnot\u001b[0m \u001b[0;32mNone\u001b[0m\u001b[0;34m:\u001b[0m\u001b[0;34m\u001b[0m\u001b[0m\n",
      "\u001b[0;32m/usr/lib/python3/dist-packages/RDF.py\u001b[0m in \u001b[0;36mparse_into_model\u001b[0;34m(self, model, uri, base_uri, handler)\u001b[0m\n\u001b[1;32m   1815\u001b[0m     \u001b[0;32mtry\u001b[0m\u001b[0;34m:\u001b[0m\u001b[0;34m\u001b[0m\u001b[0m\n\u001b[1;32m   1816\u001b[0m       rc = Redland.librdf_parser_parse_into_model(self._parser,\n\u001b[0;32m-> 1817\u001b[0;31m         uri._reduri, base_uri._reduri, model._model)\n\u001b[0m\u001b[1;32m   1818\u001b[0m     \u001b[0;32mexcept\u001b[0m \u001b[0mRedlandError\u001b[0m \u001b[0;32mas\u001b[0m \u001b[0merr\u001b[0m\u001b[0;34m:\u001b[0m\u001b[0;34m\u001b[0m\u001b[0m\n\u001b[1;32m   1819\u001b[0m       \u001b[0mprint\u001b[0m\u001b[0;34m(\u001b[0m\u001b[0;34m\"Caught error\"\u001b[0m\u001b[0;34m,\u001b[0m\u001b[0merr\u001b[0m\u001b[0;34m)\u001b[0m\u001b[0;34m\u001b[0m\u001b[0m\n",
      "\u001b[0;31mRedlandError\u001b[0m: \"URI 'https://www.encodeproject.org/profiles/MadQualityMetric.json#MAD of log ratios' contains bad character(s)\""
     ]
    }
   ],
   "source": [
    "%timeit p.parse_into_model(model2, 'file:///tmp/rnaseq.turtle')"
   ]
  },
  {
   "cell_type": "code",
   "execution_count": 7,
   "metadata": {
    "collapsed": false
   },
   "outputs": [],
   "source": [
    "for i, e in enumerate(experiments):\n",
    "    display(\"loading: {} ({} of {})\".format(e, i, len(experiments)))\n",
    "    jsonld = server.get_jsonld(e)\n",
    "    load_jsonld_into_model(model, jsonld)\n",
    "    clear_output()"
   ]
  },
  {
   "cell_type": "code",
   "execution_count": 14,
   "metadata": {
    "collapsed": false
   },
   "outputs": [
    {
     "data": {
      "text/plain": [
       "442"
      ]
     },
     "metadata": {},
     "output_type": "display_data"
    }
   ],
   "source": [
    "q = RDF.SPARQLQuery(\"\"\"\n",
    "PREFIX htsw: <http://jumpgate.caltech.edu/wiki/LibraryOntology#>\n",
    "PREFIX barbara-wold: <http://jumpgate.caltech.edu/wiki/LibraryOntology#>\n",
    "PREFIX experiment: <https://www.encodeproject.org/profiles/Experiment.json#> \n",
    "PREFIX library: <https://www.encodeproject.org/profiles/Library.json#> \n",
    "PREFIX replicate: <https://www.encodeproject.org/profiles/Replicate.json#>\n",
    "PREFIX xsd: <http://www.w3.org/2001/XMLSchema#>\n",
    "\n",
    "construct { \n",
    "  ?library htsw:library ?jumpgate . \n",
    "} where {\n",
    "  select ?library \n",
    "         ( REPLACE(?alias, \"barbara-wold:\", \"http://jumpgate.caltech.edu/library/\") as ?short )\n",
    "         ( IRI(CONCAT(?short, \"/\"))  as ?jumpgate )\n",
    "  where {\n",
    "    ?library library:aliases ?alias .\n",
    "  }\n",
    "}\"\"\")\n",
    "\n",
    "count = 0\n",
    "results = q.execute(model)\n",
    "for s in results.as_stream():\n",
    "    jumpgate = s.object\n",
    "    model.append(s)\n",
    "    display('loading {} {}'.format(jumpgate, count))\n",
    "    load_into_model(model, 'rdfa', jumpgate)\n",
    "    count += 1\n",
    "    clear_output()\n",
    "display(count)\n",
    " "
   ]
  },
  {
   "cell_type": "markdown",
   "metadata": {},
   "source": [
    "# Find names"
   ]
  },
  {
   "cell_type": "code",
   "execution_count": 16,
   "metadata": {
    "collapsed": false
   },
   "outputs": [
    {
     "name": "stdout",
     "output_type": "stream",
     "text": [
      "Found 440 rows.\n"
     ]
    }
   ],
   "source": [
    "%%sparql -m model -c -o library_name\n",
    "select ?accession ?library ?name\n",
    "where {\n",
    "   ?accession a library:Library ;\n",
    "              htsw:library ?library .\n",
    "   ?library htsw:name ?name .\n",
    "}"
   ]
  },
  {
   "cell_type": "code",
   "execution_count": 10,
   "metadata": {
    "collapsed": false
   },
   "outputs": [],
   "source": [
    "report = []\n",
    "report_index = []\n",
    "for row in library_name:\n",
    "    record = { k: str(row[k]) for k in row }\n",
    "    report_index.append(record['accession'])\n",
    "    del record['accession']\n",
    "    report.append(record)\n",
    "library_name_sheet = pandas.DataFrame(report, columns=['library', 'name'], index=report_index)"
   ]
  },
  {
   "cell_type": "markdown",
   "metadata": {},
   "source": [
    "# Find starting amount"
   ]
  },
  {
   "cell_type": "code",
   "execution_count": 20,
   "metadata": {
    "collapsed": false
   },
   "outputs": [
    {
     "name": "stdout",
     "output_type": "stream",
     "text": [
      "Found 341 rows.\n"
     ]
    }
   ],
   "source": [
    "%%sparql -m model -c -o starting_amount\n",
    "select ?accession ?na_starting ?na_units \n",
    "where {\n",
    "   ?accession a library:Library ;\n",
    "              library:nucleic_acid_starting_quantity ?na_starting ;\n",
    "              library:nucleic_acid_starting_quantity_units ?na_units ;\n",
    "}"
   ]
  },
  {
   "cell_type": "code",
   "execution_count": 21,
   "metadata": {
    "collapsed": false
   },
   "outputs": [],
   "source": [
    "report = []\n",
    "report_index = []\n",
    "for row in starting_amount:\n",
    "    na_amount = float(str(row['na_starting'])) if row['na_starting'] else ''\n",
    "    record = { \n",
    "       'na_amount': na_amount,\n",
    "       'units': str(row['na_units']) if row['na_units'] else '',\n",
    "    }\n",
    "    report_index.append(str(row['accession']))\n",
    "\n",
    "    report.append(record)\n",
    "start_amount_sheet = pandas.DataFrame(report, columns=['na_amount', 'units'], index=report_index)"
   ]
  },
  {
   "cell_type": "markdown",
   "metadata": {},
   "source": [
    "# Update nucleic acid starting amount"
   ]
  },
  {
   "cell_type": "code",
   "execution_count": 28,
   "metadata": {
    "collapsed": false
   },
   "outputs": [],
   "source": [
    "import gcat"
   ]
  },
  {
   "cell_type": "code",
   "execution_count": null,
   "metadata": {
    "collapsed": false
   },
   "outputs": [],
   "source": [
    "update_amounts = gcat.get_file(\"library to nucleic acid starting amount\")"
   ]
  },
  {
   "cell_type": "code",
   "execution_count": null,
   "metadata": {
    "collapsed": false
   },
   "outputs": [],
   "source": [
    "def update_starting_quantity():\n",
    "    for row in update_amounts:\n",
    "        if not pandas.isnull(row['na_amount']):\n",
    "            url = '/library/{}'.format(row['accession'])\n",
    "            display('checking: {}'.format(url))\n",
    "            library = server.get_json(url)\n",
    "            if 'nucleic_acid_starting_quantity' not in library and \\\n",
    "               library['submitted_by'] == '/users/bc5b62f7-ce28-4a1e-b6b3-81c9c5a86d7a/' and\\\n",
    "               library['status'] != 'released':\n",
    "                patch = {'nucleic_acid_starting_quantity': str(row['na_amount']),\n",
    "                         'nucleic_acid_starting_quantity_units': row['units']}\n",
    "                print(server.patch_json(url, patch))\n",
    "            clear_output()\n",
    "#update_starting_quantity()"
   ]
  },
  {
   "cell_type": "markdown",
   "metadata": {},
   "source": [
    "# Verify documents"
   ]
  },
  {
   "cell_type": "code",
   "execution_count": null,
   "metadata": {
    "collapsed": false
   },
   "outputs": [],
   "source": [
    "%%sparql -m model -c -o documents\n",
    "select ?accession ?doc_alias ?doc_type ?description ?document\n",
    "where {\n",
    "   ?accession a library:library ;\n",
    "              library:documents ?document .\n",
    "\n",
    "   ?document a <https://www.encodeproject.org/profiles/document.json#document> ;\n",
    "             <https://www.encodeproject.org/profiles/document.json#document_type> ?doc_type ;\n",
    "             rdf:description ?description.\n",
    "   OPTIONAL { ?document <https://www.encodeproject.org/profiles/document.json#aliases> ?doc_alias . }\n",
    "}\n"
   ]
  },
  {
   "cell_type": "code",
   "execution_count": null,
   "metadata": {
    "collapsed": false
   },
   "outputs": [],
   "source": [
    "results = []\n",
    "results_index = []\n",
    "for row in documents:\n",
    "    record = { k: str(row[k]) for k in row}\n",
    "    results_index.append(record['accession'])\n",
    "    del record['accession']\n",
    "    results.append(record)\n",
    "document_sheet = pandas.DataFrame(results,\n",
    "                                  columns=['doc_alias', 'doc_type', 'description', 'document'], \n",
    "                                  index=results_index)"
   ]
  },
  {
   "cell_type": "code",
   "execution_count": null,
   "metadata": {
    "collapsed": false
   },
   "outputs": [],
   "source": [
    "%%sparql -m model -o grants\n",
    "select ?accession ?award ?award_name\n",
    "where {\n",
    "   ?accession a library:library ;\n",
    "              library:award ?award .\n",
    "   ?award <https://www.encodeproject.org/profiles/award.json#rfa> ?award_name\n",
    "}\n",
    "order by ?award_name"
   ]
  },
  {
   "cell_type": "code",
   "execution_count": null,
   "metadata": {
    "collapsed": false
   },
   "outputs": [],
   "source": [
    "results = []\n",
    "results_index = []\n",
    "for row in grants:\n",
    "    results.append([str(row['award_name'])])\n",
    "    results_index.append(str(row['accession']))\n",
    "grants_sheet = pandas.DataFrame(results,\n",
    "                                columns=['award_name'],\n",
    "                                index=results_index)"
   ]
  },
  {
   "cell_type": "markdown",
   "metadata": {},
   "source": [
    "* =HYPERLINK(A2, MID(A2, 41, 11))\n",
    "* =HYPERLINK(B2, MID(B2, 37, 5))"
   ]
  },
  {
   "cell_type": "code",
   "execution_count": null,
   "metadata": {
    "collapsed": false
   },
   "outputs": [],
   "source": [
    "document_pivot = document_sheet.reset_index().pivot(index='index', columns='document', values='doc_alias').fillna(value='')"
   ]
  },
  {
   "cell_type": "code",
   "execution_count": null,
   "metadata": {
    "collapsed": false
   },
   "outputs": [],
   "source": [
    "%%sparql -m model -o spikes\n",
    "select distinct ?spike\n",
    "where {\n",
    "   ?s library:spikeins_used ?spike .\n",
    "   \n",
    "}"
   ]
  },
  {
   "cell_type": "code",
   "execution_count": null,
   "metadata": {
    "collapsed": false
   },
   "outputs": [],
   "source": [
    "for row in spikes:\n",
    "    spike = str(row['spike'])\n",
    "    jsonld = server.get_jsonld(spike)\n",
    "    load_jsonld_into_model(model, jsonld)"
   ]
  },
  {
   "cell_type": "code",
   "execution_count": null,
   "metadata": {
    "collapsed": false
   },
   "outputs": [],
   "source": [
    "%%sparql -m model -c -o spikes\n",
    "select distinct ?accession ?spike\n",
    "where {\n",
    "   ?accession a library:library ;\n",
    "              library:spikeins_used ?spike .   \n",
    "}\n"
   ]
  },
  {
   "cell_type": "code",
   "execution_count": null,
   "metadata": {
    "collapsed": false
   },
   "outputs": [],
   "source": [
    "results = {}\n",
    "for row in spikes :\n",
    "    accession = str(row['accession'])\n",
    "    s = str(row['spike'])\n",
    "    record = results.get(accession, {})\n",
    "    if s == 'https://www.encodeproject.org/datasets/ENCSR013YHQ/':\n",
    "        record['profile 4'] = 'barbara-wold:SpikeProfile4'\n",
    "    elif s == 'https://www.encodeproject.org/datasets/ENCSR133ALU/':\n",
    "        record['single'] = 'ERCC-single'\n",
    "    elif s == 'https://www.encodeproject.org/datasets/ENCSR156CIL/':\n",
    "        record['gingeras'] = 'thomas-gingeras:AmbionMix1'\n",
    "    elif s == 'https://www.encodeproject.org/datasets/ENCSR193ZXE/':\n",
    "        record['profile 3'] = 'barbara-wold:SpikesProfile3'\n",
    "    results[accession] = record\n",
    "spikes_sheet = pandas.DataFrame([ results[k] for k in results ],\n",
    "                                columns=['profile 3', 'profile 4', 'gingeras', 'single'],\n",
    "                                index=results.keys()\n",
    "                                )"
   ]
  },
  {
   "cell_type": "code",
   "execution_count": null,
   "metadata": {
    "collapsed": false
   },
   "outputs": [],
   "source": [
    "#document_pivot = document_sheet.pivot(index='accession', columns='document', values='doc_alias').fillna(value='')\n",
    "spikes_sheet.fillna(value='')"
   ]
  },
  {
   "cell_type": "code",
   "execution_count": null,
   "metadata": {
    "collapsed": false
   },
   "outputs": [],
   "source": [
    "name_award = pandas.merge(library_name_sheet, grants_sheet, left_index=True, right_index=True, how='outer')\n",
    "name_award_amounts = pandas.merge(name_award, start_amount_sheet, left_index=True, right_index=True, how='outer')\n",
    "name_award_documents = pandas.merge(name_award, document_pivot, left_index=True, right_index=True, how='outer')\n",
    "name_award_spikes = pandas.merge(name_award, spikes_sheet, left_index=True, right_index=True, how='outer')\n",
    "\n",
    "name_award_xlsx = pandas.ExcelWriter('/tmp/name_award.xlsx')\n",
    "name_award_amounts.to_excel(name_award_xlsx, 'starting amounts')\n",
    "name_award_documents.to_excel(name_award_xlsx, 'documents')\n",
    "name_award_spikes.to_excel(name_award_xlsx, 'spikes')\n",
    "name_award_xlsx.save()"
   ]
  },
  {
   "cell_type": "markdown",
   "metadata": {},
   "source": [
    "# Make 13 pg dataset"
   ]
  },
  {
   "cell_type": "code",
   "execution_count": null,
   "metadata": {
    "collapsed": false
   },
   "outputs": [],
   "source": [
    "pg_libraries = start_amount_sheet[(start_amount_sheet['na_amount'] == 13) & (start_amount_sheet['units'] == 'pg')]"
   ]
  },
  {
   "cell_type": "code",
   "execution_count": null,
   "metadata": {
    "collapsed": false
   },
   "outputs": [],
   "source": [
    "%lsns"
   ]
  },
  {
   "cell_type": "code",
   "execution_count": null,
   "metadata": {
    "collapsed": false
   },
   "outputs": [],
   "source": [
    "pg_files = []\n",
    "for library in pg_libraries.index:\n",
    "    q = \"\"\"\n",
    "PREFIX replicate: <https://www.encodeproject.org/profiles/replicate.json#>\n",
    "PREFIX experiment: <https://www.encodeproject.org/profiles/experiment.json#>\n",
    "select ?file\n",
    "where {{\n",
    "  ?rep replicate:library <{library}> ;\n",
    "       replicate:experiment ?experiment .\n",
    "  ?experiment experiment:files ?file .\n",
    "}}\n",
    "\"\"\".format(library=library)\n",
    "    query = RDF.SPARQLQuery(q)\n",
    "    for row in query.execute(model):\n",
    "        pg_files.append(str(row['file'])[len('https://www.encodeproject.org'):])"
   ]
  },
  {
   "cell_type": "code",
   "execution_count": null,
   "metadata": {
    "collapsed": false
   },
   "outputs": [],
   "source": [
    "pg_files[0]"
   ]
  },
  {
   "cell_type": "code",
   "execution_count": null,
   "metadata": {
    "collapsed": false
   },
   "outputs": [],
   "source": [
    "pg_dataset = {\n",
    "  'award': 'U54HG006998',\n",
    "  'aliases': ['barbara-wold:13-pg-experiments'],\n",
    "  'lab': 'barbara-wold',\n",
    "  'description': '13 picogram RNA-Seq experiments',\n",
    "  'dataset_type': 'project',\n",
    "  'related_files': pg_files\n",
    "}"
   ]
  },
  {
   "cell_type": "code",
   "execution_count": null,
   "metadata": {
    "collapsed": false
   },
   "outputs": [],
   "source": [
    "server.validate(pg_dataset, 'dataset')"
   ]
  },
  {
   "cell_type": "code",
   "execution_count": null,
   "metadata": {
    "collapsed": false
   },
   "outputs": [],
   "source": [
    "pg_accession = 'ENCSR901QHQ'\n",
    "if not pg_accession:\n",
    "    print(server.post_json('/dataset/', pg_dataset))"
   ]
  },
  {
   "cell_type": "markdown",
   "metadata": {},
   "source": [
    "# Fill in ENCSR112CAL"
   ]
  },
  {
   "cell_type": "code",
   "execution_count": null,
   "metadata": {
    "collapsed": false
   },
   "outputs": [],
   "source": [
    "name_award_amounts[name_award_amounts['na_amount'] == 1]"
   ]
  },
  {
   "cell_type": "code",
   "execution_count": null,
   "metadata": {
    "collapsed": false
   },
   "outputs": [],
   "source": []
  }
 ],
 "metadata": {
  "kernelspec": {
   "display_name": "Python 3",
   "language": "python",
   "name": "python3"
  },
  "language_info": {
   "codemirror_mode": {
    "name": "ipython",
    "version": 3
   },
   "file_extension": ".py",
   "mimetype": "text/x-python",
   "name": "python",
   "nbconvert_exporter": "python",
   "pygments_lexer": "ipython3",
   "version": "3.5.1+"
  }
 },
 "nbformat": 4,
 "nbformat_minor": 0
}
