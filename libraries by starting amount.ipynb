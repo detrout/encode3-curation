{
 "metadata": {
  "name": "",
  "signature": "sha256:aab9a80c6969e42a8d36eec9e426226e68f9fcae0b6687122bd427979ed54a78"
 },
 "nbformat": 3,
 "nbformat_minor": 0,
 "worksheets": [
  {
   "cells": [
    {
     "cell_type": "markdown",
     "metadata": {},
     "source": [
      "Look up *all* of our experiments to see what documents are attached and what their starting nucleic acid amounts are.\n",
      "\n",
      "This notebook is painfully slow to run.\n",
      "\n",
      "The output is an excel sheet, because there's enough data this is a mess."
     ]
    },
    {
     "cell_type": "code",
     "collapsed": false,
     "input": [
      "from __future__ import print_function\n",
      "from IPython.display import clear_output, display\n",
      "import pandas\n",
      "import RDF\n",
      "from curation_common import *\n",
      "from htsworkflow.util.rdfhelp import fromTypedNode"
     ],
     "language": "python",
     "metadata": {},
     "outputs": [],
     "prompt_number": 1
    },
    {
     "cell_type": "code",
     "collapsed": false,
     "input": [
      "server = ENCODED('www.encodeproject.org')\n",
      "server.load_netrc()"
     ],
     "language": "python",
     "metadata": {},
     "outputs": [],
     "prompt_number": 2
    },
    {
     "cell_type": "code",
     "collapsed": false,
     "input": [
      "search = server.get_json('/search/?type=experiment&lab.title=Barbara Wold, Caltech')"
     ],
     "language": "python",
     "metadata": {},
     "outputs": [],
     "prompt_number": 3
    },
    {
     "cell_type": "code",
     "collapsed": false,
     "input": [
      "experiments = [x['@id'] for x in search['@graph']]"
     ],
     "language": "python",
     "metadata": {},
     "outputs": [],
     "prompt_number": 4
    },
    {
     "cell_type": "code",
     "collapsed": false,
     "input": [
      "len(experiments)"
     ],
     "language": "python",
     "metadata": {},
     "outputs": [
      {
       "metadata": {},
       "output_type": "pyout",
       "prompt_number": 5,
       "text": [
        "244"
       ]
      }
     ],
     "prompt_number": 5
    },
    {
     "cell_type": "code",
     "collapsed": false,
     "input": [
      "model = get_model(use_contexts=False)"
     ],
     "language": "python",
     "metadata": {},
     "outputs": [],
     "prompt_number": 6
    },
    {
     "cell_type": "code",
     "collapsed": false,
     "input": [
      "for i, e in enumerate(experiments):\n",
      "    display(\"loading: {} ({} of {})\".format(e, i, len(experiments)))\n",
      "    jsonld = server.get_jsonld(e)\n",
      "    load_jsonld_into_model(model, jsonld)\n",
      "    clear_output()"
     ],
     "language": "python",
     "metadata": {},
     "outputs": [],
     "prompt_number": 7
    },
    {
     "cell_type": "code",
     "collapsed": false,
     "input": [
      "q = RDF.SPARQLQuery(\"\"\"\n",
      "PREFIX htsw: <http://jumpgate.caltech.edu/wiki/LibraryOntology#>\n",
      "PREFIX barbara-wold: <http://jumpgate.caltech.edu/wiki/LibraryOntology#>\n",
      "PREFIX experiment: <https://www.encodeproject.org/profiles/experiment.json#> \n",
      "PREFIX library: <https://www.encodeproject.org/profiles/library.json#> \n",
      "PREFIX replicate: <https://www.encodeproject.org/profiles/replicate.json#>\n",
      "PREFIX xsd: <http://www.w3.org/2001/XMLSchema#>\n",
      "\n",
      "construct { \n",
      "  ?library htsw:library ?jumpgate . \n",
      "} where {\n",
      "  select ?library \n",
      "         ( REPLACE(?alias, \"barbara-wold:\", \"http://jumpgate.caltech.edu/library/\") as ?short )\n",
      "         ( IRI(CONCAT(?short, \"/\"))  as ?jumpgate )\n",
      "  where {\n",
      "    ?library library:aliases ?alias .\n",
      "  }\n",
      "}\"\"\")\n",
      "\n",
      "count = 0\n",
      "results = q.execute(model)\n",
      "for s in results.as_stream():\n",
      "    jumpgate = s.object\n",
      "    model.append(s)\n",
      "    display('loading {} {}'.format(jumpgate, count))\n",
      "    load_into_model(model, 'rdfa', jumpgate)\n",
      "    count += 1\n",
      "    clear_output()\n",
      "display(count)\n",
      " "
     ],
     "language": "python",
     "metadata": {},
     "outputs": [
      {
       "metadata": {},
       "output_type": "display_data",
       "text": [
        "335"
       ]
      }
     ],
     "prompt_number": 8
    },
    {
     "cell_type": "heading",
     "level": 1,
     "metadata": {},
     "source": [
      "Find related GM12878s"
     ]
    },
    {
     "cell_type": "code",
     "collapsed": false,
     "input": [
      "%%sparql -m model -c -o starting_amount\n",
      "select ?accession ?library ?name ?na_starting ?na_units \n",
      "where {\n",
      "   ?accession a library:library ;\n",
      "              library:nucleic_acid_starting_quantity ?na_starting ;\n",
      "              library:nucleic_acid_starting_quantity_units ?na_units ;\n",
      "              htsw:library ?library .\n",
      "\n",
      "  ?library htsw:name ?name . \n",
      "}\n",
      "order by ?library"
     ],
     "language": "python",
     "metadata": {},
     "outputs": [
      {
       "output_type": "stream",
       "stream": "stdout",
       "text": [
        "Found 240 rows.\n"
       ]
      }
     ],
     "prompt_number": 9
    },
    {
     "cell_type": "code",
     "collapsed": false,
     "input": [
      "report = []\n",
      "for row in starting_amount:\n",
      "    na_amount = float(str(row['na_starting'])) if row['na_starting'] else ''\n",
      "    record = { \n",
      "       'accession': str(row['accession']),\n",
      "       'library': str(row['library']),\n",
      "       'name': str(row['name']),\n",
      "       'na_amount': na_amount,\n",
      "       'units': str(row['na_units']) if row['na_units'] else '',\n",
      "    }\n",
      "\n",
      "    report.append(record)\n",
      "start_amount = pandas.DataFrame(report, columns=['accession', 'library', 'name', 'na_amount', 'units'])"
     ],
     "language": "python",
     "metadata": {},
     "outputs": [],
     "prompt_number": 10
    },
    {
     "cell_type": "code",
     "collapsed": false,
     "input": [
      "start_amount.to_excel('/tmp/starting_amount.xlsx', index=False)"
     ],
     "language": "python",
     "metadata": {},
     "outputs": [],
     "prompt_number": 11
    },
    {
     "cell_type": "code",
     "collapsed": false,
     "input": [
      "start_amount.to_html('/tmp/starting_amount.html')"
     ],
     "language": "python",
     "metadata": {},
     "outputs": [],
     "prompt_number": 12
    },
    {
     "cell_type": "code",
     "collapsed": false,
     "input": [
      "with open('/tmp/experiments.ttl', 'wt') as outstream:\n",
      "    dump_model(model, outstream)"
     ],
     "language": "python",
     "metadata": {},
     "outputs": [],
     "prompt_number": 13
    },
    {
     "cell_type": "heading",
     "level": 1,
     "metadata": {},
     "source": [
      "Update nucleic acid starting amount"
     ]
    },
    {
     "cell_type": "code",
     "collapsed": false,
     "input": [
      "import gcat"
     ],
     "language": "python",
     "metadata": {},
     "outputs": [],
     "prompt_number": 14
    },
    {
     "cell_type": "code",
     "collapsed": false,
     "input": [
      "update_amounts = gcat.get_file(\"library to nucleic acid starting amount\")"
     ],
     "language": "python",
     "metadata": {},
     "outputs": [],
     "prompt_number": 15
    },
    {
     "cell_type": "code",
     "collapsed": false,
     "input": [
      "def update_starting_quantity():\n",
      "    for row in update_amounts:\n",
      "        if not pandas.isnull(row['na_amount']):\n",
      "            url = '/library/{}'.format(row['accession'])\n",
      "            display('checking: {}'.format(url))\n",
      "            library = server.get_json(url)\n",
      "            if 'nucleic_acid_starting_quantity' not in library and \\\n",
      "               library['submitted_by'] == '/users/bc5b62f7-ce28-4a1e-b6b3-81c9c5a86d7a/' and\\\n",
      "               library['status'] != 'released':\n",
      "                patch = {'nucleic_acid_starting_quantity': str(row['na_amount']),\n",
      "                         'nucleic_acid_starting_quantity_units': row['units']}\n",
      "                print(server.patch_json(url, patch))\n",
      "            clear_output()\n",
      "#update_starting_quantity()"
     ],
     "language": "python",
     "metadata": {},
     "outputs": [],
     "prompt_number": 16
    },
    {
     "cell_type": "heading",
     "level": 1,
     "metadata": {},
     "source": [
      "Verify documents"
     ]
    },
    {
     "cell_type": "code",
     "collapsed": false,
     "input": [
      "%%sparql -m model -c -o documents\n",
      "select ?accession ?doc_alias ?doc_type ?description ?document\n",
      "where {\n",
      "   ?accession a library:library ;\n",
      "              library:documents ?document ;\n",
      "              htsw:library ?library .\n",
      "\n",
      "   ?document a <https://www.encodeproject.org/profiles/document.json#document> ;\n",
      "             <https://www.encodeproject.org/profiles/document.json#document_type> ?doc_type ;\n",
      "             rdf:description ?description.\n",
      "   OPTIONAL { ?document <https://www.encodeproject.org/profiles/document.json#aliases> ?doc_alias . }\n",
      "}\n"
     ],
     "language": "python",
     "metadata": {},
     "outputs": [
      {
       "output_type": "stream",
       "stream": "stdout",
       "text": [
        "Found 520 rows.\n"
       ]
      },
      {
       "output_type": "stream",
       "stream": "stderr",
       "text": [
        "/usr/lib/python2.7/dist-packages/RDF.py:2014: RedlandWarning: Variable library was bound but is unused in the query\n",
        "  results = Redland.librdf_query_execute(self._query,model._model)\n"
       ]
      }
     ],
     "prompt_number": 17
    },
    {
     "cell_type": "code",
     "collapsed": false,
     "input": [
      "results = []\n",
      "for row in documents:\n",
      "    results.append({ k: str(row[k]) for k in row})\n",
      "document_sheet = pandas.DataFrame(results,\n",
      "                                  columns=['accession', 'doc_alias', 'doc_type', 'description', 'document'])"
     ],
     "language": "python",
     "metadata": {},
     "outputs": [],
     "prompt_number": 18
    },
    {
     "cell_type": "code",
     "collapsed": false,
     "input": [
      "document_sheet.to_excel('/tmp/documents.xlsx', index=False)"
     ],
     "language": "python",
     "metadata": {},
     "outputs": [],
     "prompt_number": 19
    },
    {
     "cell_type": "code",
     "collapsed": false,
     "input": [
      "document_sheet.columns"
     ],
     "language": "python",
     "metadata": {},
     "outputs": [
      {
       "metadata": {},
       "output_type": "pyout",
       "prompt_number": 20,
       "text": [
        "Index([u'accession', u'doc_alias', u'doc_type', u'description', u'document'], dtype='object')"
       ]
      }
     ],
     "prompt_number": 20
    },
    {
     "cell_type": "code",
     "collapsed": false,
     "input": [
      "document_sheet['doc_alias'].value_counts()"
     ],
     "language": "python",
     "metadata": {},
     "outputs": [
      {
       "metadata": {},
       "output_type": "pyout",
       "prompt_number": 21,
       "text": [
        "barbara-wold:Smart-Seq_Protocol.pdf                128\n",
        "barbara-wold:mirvana-pdf                           102\n",
        "barbara-wold:turbo-dnase-pdf                       102\n",
        "None                                                56\n",
        "ENCODE:wgEncodeCaltechRnaSeq                        45\n",
        "ENCODE:mm9-wgEncodeCaltechTfbs                      39\n",
        "barbara-wold:smarter-ulta-low-pdf                   30\n",
        "thomas-gingeras:Ambion-ERCC-Mix1_concentrations      8\n",
        "thomas-gingeras:Ambion-ERCC-DataSheet                6\n",
        "barbara-wold:directional-rna-seq-is-long-rna         2\n",
        "barbara-wold:directional-rna-seq                     2\n",
        "dtype: int64"
       ]
      }
     ],
     "prompt_number": 21
    },
    {
     "cell_type": "code",
     "collapsed": false,
     "input": [
      "document_sheet['doc_type'].value_counts()"
     ],
     "language": "python",
     "metadata": {},
     "outputs": [
      {
       "metadata": {},
       "output_type": "pyout",
       "prompt_number": 22,
       "text": [
        "general protocol       268\n",
        "extraction protocol    238\n",
        "data sheet              14\n",
        "dtype: int64"
       ]
      }
     ],
     "prompt_number": 22
    },
    {
     "cell_type": "code",
     "collapsed": false,
     "input": [
      "document_sheet['description'].value_counts()"
     ],
     "language": "python",
     "metadata": {},
     "outputs": [
      {
       "metadata": {},
       "output_type": "pyout",
       "prompt_number": 23,
       "text": [
        "A copy of the Smart-seq protocol                                128\n",
        "Genomic DNA Removal Protocol                                    102\n",
        "Lysis Protocol                                                  102\n",
        "Laser capture microdissection Protocol                           52\n",
        "Track description for UCSC Genome Browser composite track hg19/wgEncodeCaltechRnaSeq     45\n",
        "Track description for UCSC Genome Browser composite track mm9/wgEncodeCaltechTfbs     39\n",
        "SMARTer Ultra Low RNA Kit for Illumina Sequencing                30\n",
        "Ambion Mix 1 spike-in concentrations                              8\n",
        "Ambion spike-in concentrations and subgroups for mix 1 and mix 2      6\n",
        "mRNA Selection Protocol                                           4\n",
        "How to prepare directional, or strand specific, libraries from mRNA.      2\n",
        "Discussion about why some Long RNA-Seq Libraries were described as \"Small RNA\"      2\n",
        "dtype: int64"
       ]
      }
     ],
     "prompt_number": 23
    },
    {
     "cell_type": "code",
     "collapsed": false,
     "input": [
      "start_amount.columns, type(start_amount)"
     ],
     "language": "python",
     "metadata": {},
     "outputs": [
      {
       "metadata": {},
       "output_type": "pyout",
       "prompt_number": 24,
       "text": [
        "(Index([u'accession', u'library', u'name', u'na_amount', u'units'], dtype='object'),\n",
        " pandas.core.frame.DataFrame)"
       ]
      }
     ],
     "prompt_number": 24
    },
    {
     "cell_type": "code",
     "collapsed": false,
     "input": [
      "document_sheet.columns, type(document_sheet)"
     ],
     "language": "python",
     "metadata": {},
     "outputs": [
      {
       "metadata": {},
       "output_type": "pyout",
       "prompt_number": 25,
       "text": [
        "(Index([u'accession', u'doc_alias', u'doc_type', u'description', u'document'], dtype='object'),\n",
        " pandas.core.frame.DataFrame)"
       ]
      }
     ],
     "prompt_number": 25
    },
    {
     "cell_type": "code",
     "collapsed": false,
     "input": [
      "amounts_and_docs = pandas.merge(start_amount, document_sheet, on='accession', how='outer')"
     ],
     "language": "python",
     "metadata": {},
     "outputs": [],
     "prompt_number": 26
    },
    {
     "cell_type": "code",
     "collapsed": false,
     "input": [
      "%%sparql -m model -o grants\n",
      "select ?accession ?award ?award_name\n",
      "where {\n",
      "   ?accession a library:library ;\n",
      "              library:award ?award .\n",
      "   ?award <https://www.encodeproject.org/profiles/award.json#rfa> ?award_name\n",
      "}\n",
      "order by ?award_name"
     ],
     "language": "python",
     "metadata": {},
     "outputs": [],
     "prompt_number": 27
    },
    {
     "cell_type": "code",
     "collapsed": false,
     "input": [
      "results = []\n",
      "for row in grants:\n",
      "    results.append({ k: str(row[k]) for k in row})\n",
      "grants_sheet = pandas.DataFrame(results,\n",
      "                                  columns=['accession', 'award_name'])"
     ],
     "language": "python",
     "metadata": {},
     "outputs": [],
     "prompt_number": 28
    },
    {
     "cell_type": "code",
     "collapsed": false,
     "input": [
      "amounts_docs_award = pandas.merge(amounts_and_docs, grants_sheet, how='outer')"
     ],
     "language": "python",
     "metadata": {},
     "outputs": [],
     "prompt_number": 29
    },
    {
     "cell_type": "code",
     "collapsed": false,
     "input": [
      "amounts_docs_award.to_excel('/tmp/amounts_docs_award.xlsx', index=False)"
     ],
     "language": "python",
     "metadata": {},
     "outputs": [],
     "prompt_number": 30
    },
    {
     "cell_type": "markdown",
     "metadata": {},
     "source": [
      "* =HYPERLINK(A2, MID(A2, 41, 11))\n",
      "* =HYPERLINK(B2, MID(B2, 37, 5))"
     ]
    },
    {
     "cell_type": "code",
     "collapsed": false,
     "input": [
      "grants_sheet"
     ],
     "language": "python",
     "metadata": {},
     "outputs": [
      {
       "html": [
        "<div style=\"max-height:1000px;max-width:1500px;overflow:auto;\">\n",
        "<table border=\"1\" class=\"dataframe\">\n",
        "  <thead>\n",
        "    <tr style=\"text-align: right;\">\n",
        "      <th></th>\n",
        "      <th>accession</th>\n",
        "      <th>award_name</th>\n",
        "    </tr>\n",
        "  </thead>\n",
        "  <tbody>\n",
        "    <tr>\n",
        "      <th>0  </th>\n",
        "      <td> https://www.encodeproject.org/libraries/ENCLB6...</td>\n",
        "      <td> ENCODE2</td>\n",
        "    </tr>\n",
        "    <tr>\n",
        "      <th>1  </th>\n",
        "      <td> https://www.encodeproject.org/libraries/ENCLB4...</td>\n",
        "      <td> ENCODE2</td>\n",
        "    </tr>\n",
        "    <tr>\n",
        "      <th>2  </th>\n",
        "      <td> https://www.encodeproject.org/libraries/ENCLB8...</td>\n",
        "      <td> ENCODE2</td>\n",
        "    </tr>\n",
        "    <tr>\n",
        "      <th>3  </th>\n",
        "      <td> https://www.encodeproject.org/libraries/ENCLB0...</td>\n",
        "      <td> ENCODE2</td>\n",
        "    </tr>\n",
        "    <tr>\n",
        "      <th>4  </th>\n",
        "      <td> https://www.encodeproject.org/libraries/ENCLB2...</td>\n",
        "      <td> ENCODE2</td>\n",
        "    </tr>\n",
        "    <tr>\n",
        "      <th>5  </th>\n",
        "      <td> https://www.encodeproject.org/libraries/ENCLB3...</td>\n",
        "      <td> ENCODE2</td>\n",
        "    </tr>\n",
        "    <tr>\n",
        "      <th>6  </th>\n",
        "      <td> https://www.encodeproject.org/libraries/ENCLB2...</td>\n",
        "      <td> ENCODE2</td>\n",
        "    </tr>\n",
        "    <tr>\n",
        "      <th>7  </th>\n",
        "      <td> https://www.encodeproject.org/libraries/ENCLB5...</td>\n",
        "      <td> ENCODE2</td>\n",
        "    </tr>\n",
        "    <tr>\n",
        "      <th>8  </th>\n",
        "      <td> https://www.encodeproject.org/libraries/ENCLB8...</td>\n",
        "      <td> ENCODE2</td>\n",
        "    </tr>\n",
        "    <tr>\n",
        "      <th>9  </th>\n",
        "      <td> https://www.encodeproject.org/libraries/ENCLB1...</td>\n",
        "      <td> ENCODE2</td>\n",
        "    </tr>\n",
        "    <tr>\n",
        "      <th>10 </th>\n",
        "      <td> https://www.encodeproject.org/libraries/ENCLB2...</td>\n",
        "      <td> ENCODE2</td>\n",
        "    </tr>\n",
        "    <tr>\n",
        "      <th>11 </th>\n",
        "      <td> https://www.encodeproject.org/libraries/ENCLB8...</td>\n",
        "      <td> ENCODE2</td>\n",
        "    </tr>\n",
        "    <tr>\n",
        "      <th>12 </th>\n",
        "      <td> https://www.encodeproject.org/libraries/ENCLB5...</td>\n",
        "      <td> ENCODE2</td>\n",
        "    </tr>\n",
        "    <tr>\n",
        "      <th>13 </th>\n",
        "      <td> https://www.encodeproject.org/libraries/ENCLB7...</td>\n",
        "      <td> ENCODE2</td>\n",
        "    </tr>\n",
        "    <tr>\n",
        "      <th>14 </th>\n",
        "      <td> https://www.encodeproject.org/libraries/ENCLB3...</td>\n",
        "      <td> ENCODE2</td>\n",
        "    </tr>\n",
        "    <tr>\n",
        "      <th>15 </th>\n",
        "      <td> https://www.encodeproject.org/libraries/ENCLB3...</td>\n",
        "      <td> ENCODE2</td>\n",
        "    </tr>\n",
        "    <tr>\n",
        "      <th>16 </th>\n",
        "      <td> https://www.encodeproject.org/libraries/ENCLB0...</td>\n",
        "      <td> ENCODE2</td>\n",
        "    </tr>\n",
        "    <tr>\n",
        "      <th>17 </th>\n",
        "      <td> https://www.encodeproject.org/libraries/ENCLB9...</td>\n",
        "      <td> ENCODE2</td>\n",
        "    </tr>\n",
        "    <tr>\n",
        "      <th>18 </th>\n",
        "      <td> https://www.encodeproject.org/libraries/ENCLB2...</td>\n",
        "      <td> ENCODE2</td>\n",
        "    </tr>\n",
        "    <tr>\n",
        "      <th>19 </th>\n",
        "      <td> https://www.encodeproject.org/libraries/ENCLB2...</td>\n",
        "      <td> ENCODE2</td>\n",
        "    </tr>\n",
        "    <tr>\n",
        "      <th>20 </th>\n",
        "      <td> https://www.encodeproject.org/libraries/ENCLB2...</td>\n",
        "      <td> ENCODE2</td>\n",
        "    </tr>\n",
        "    <tr>\n",
        "      <th>21 </th>\n",
        "      <td> https://www.encodeproject.org/libraries/ENCLB7...</td>\n",
        "      <td> ENCODE2</td>\n",
        "    </tr>\n",
        "    <tr>\n",
        "      <th>22 </th>\n",
        "      <td> https://www.encodeproject.org/libraries/ENCLB4...</td>\n",
        "      <td> ENCODE2</td>\n",
        "    </tr>\n",
        "    <tr>\n",
        "      <th>23 </th>\n",
        "      <td> https://www.encodeproject.org/libraries/ENCLB7...</td>\n",
        "      <td> ENCODE2</td>\n",
        "    </tr>\n",
        "    <tr>\n",
        "      <th>24 </th>\n",
        "      <td> https://www.encodeproject.org/libraries/ENCLB8...</td>\n",
        "      <td> ENCODE2</td>\n",
        "    </tr>\n",
        "    <tr>\n",
        "      <th>25 </th>\n",
        "      <td> https://www.encodeproject.org/libraries/ENCLB2...</td>\n",
        "      <td> ENCODE2</td>\n",
        "    </tr>\n",
        "    <tr>\n",
        "      <th>26 </th>\n",
        "      <td> https://www.encodeproject.org/libraries/ENCLB3...</td>\n",
        "      <td> ENCODE2</td>\n",
        "    </tr>\n",
        "    <tr>\n",
        "      <th>27 </th>\n",
        "      <td> https://www.encodeproject.org/libraries/ENCLB3...</td>\n",
        "      <td> ENCODE2</td>\n",
        "    </tr>\n",
        "    <tr>\n",
        "      <th>28 </th>\n",
        "      <td> https://www.encodeproject.org/libraries/ENCLB5...</td>\n",
        "      <td> ENCODE2</td>\n",
        "    </tr>\n",
        "    <tr>\n",
        "      <th>29 </th>\n",
        "      <td> https://www.encodeproject.org/libraries/ENCLB6...</td>\n",
        "      <td> ENCODE2</td>\n",
        "    </tr>\n",
        "    <tr>\n",
        "      <th>...</th>\n",
        "      <td>...</td>\n",
        "      <td>...</td>\n",
        "    </tr>\n",
        "    <tr>\n",
        "      <th>307</th>\n",
        "      <td> https://www.encodeproject.org/libraries/ENCLB6...</td>\n",
        "      <td> ENCODE3</td>\n",
        "    </tr>\n",
        "    <tr>\n",
        "      <th>308</th>\n",
        "      <td> https://www.encodeproject.org/libraries/ENCLB3...</td>\n",
        "      <td> ENCODE3</td>\n",
        "    </tr>\n",
        "    <tr>\n",
        "      <th>309</th>\n",
        "      <td> https://www.encodeproject.org/libraries/ENCLB9...</td>\n",
        "      <td> ENCODE3</td>\n",
        "    </tr>\n",
        "    <tr>\n",
        "      <th>310</th>\n",
        "      <td> https://www.encodeproject.org/libraries/ENCLB2...</td>\n",
        "      <td> ENCODE3</td>\n",
        "    </tr>\n",
        "    <tr>\n",
        "      <th>311</th>\n",
        "      <td> https://www.encodeproject.org/libraries/ENCLB9...</td>\n",
        "      <td> ENCODE3</td>\n",
        "    </tr>\n",
        "    <tr>\n",
        "      <th>312</th>\n",
        "      <td> https://www.encodeproject.org/libraries/ENCLB0...</td>\n",
        "      <td> ENCODE3</td>\n",
        "    </tr>\n",
        "    <tr>\n",
        "      <th>313</th>\n",
        "      <td> https://www.encodeproject.org/libraries/ENCLB3...</td>\n",
        "      <td> ENCODE3</td>\n",
        "    </tr>\n",
        "    <tr>\n",
        "      <th>314</th>\n",
        "      <td> https://www.encodeproject.org/libraries/ENCLB4...</td>\n",
        "      <td> ENCODE3</td>\n",
        "    </tr>\n",
        "    <tr>\n",
        "      <th>315</th>\n",
        "      <td> https://www.encodeproject.org/libraries/ENCLB9...</td>\n",
        "      <td> ENCODE3</td>\n",
        "    </tr>\n",
        "    <tr>\n",
        "      <th>316</th>\n",
        "      <td> https://www.encodeproject.org/libraries/ENCLB0...</td>\n",
        "      <td> ENCODE3</td>\n",
        "    </tr>\n",
        "    <tr>\n",
        "      <th>317</th>\n",
        "      <td> https://www.encodeproject.org/libraries/ENCLB0...</td>\n",
        "      <td> ENCODE3</td>\n",
        "    </tr>\n",
        "    <tr>\n",
        "      <th>318</th>\n",
        "      <td> https://www.encodeproject.org/libraries/ENCLB0...</td>\n",
        "      <td> ENCODE3</td>\n",
        "    </tr>\n",
        "    <tr>\n",
        "      <th>319</th>\n",
        "      <td> https://www.encodeproject.org/libraries/ENCLB0...</td>\n",
        "      <td> ENCODE3</td>\n",
        "    </tr>\n",
        "    <tr>\n",
        "      <th>320</th>\n",
        "      <td> https://www.encodeproject.org/libraries/ENCLB0...</td>\n",
        "      <td> ENCODE3</td>\n",
        "    </tr>\n",
        "    <tr>\n",
        "      <th>321</th>\n",
        "      <td> https://www.encodeproject.org/libraries/ENCLB0...</td>\n",
        "      <td> ENCODE3</td>\n",
        "    </tr>\n",
        "    <tr>\n",
        "      <th>322</th>\n",
        "      <td> https://www.encodeproject.org/libraries/ENCLB0...</td>\n",
        "      <td> ENCODE3</td>\n",
        "    </tr>\n",
        "    <tr>\n",
        "      <th>323</th>\n",
        "      <td> https://www.encodeproject.org/libraries/ENCLB0...</td>\n",
        "      <td> ENCODE3</td>\n",
        "    </tr>\n",
        "    <tr>\n",
        "      <th>324</th>\n",
        "      <td> https://www.encodeproject.org/libraries/ENCLB3...</td>\n",
        "      <td> ENCODE3</td>\n",
        "    </tr>\n",
        "    <tr>\n",
        "      <th>325</th>\n",
        "      <td> https://www.encodeproject.org/libraries/ENCLB5...</td>\n",
        "      <td> ENCODE3</td>\n",
        "    </tr>\n",
        "    <tr>\n",
        "      <th>326</th>\n",
        "      <td> https://www.encodeproject.org/libraries/ENCLB5...</td>\n",
        "      <td> ENCODE3</td>\n",
        "    </tr>\n",
        "    <tr>\n",
        "      <th>327</th>\n",
        "      <td> https://www.encodeproject.org/libraries/ENCLB8...</td>\n",
        "      <td> ENCODE3</td>\n",
        "    </tr>\n",
        "    <tr>\n",
        "      <th>328</th>\n",
        "      <td> https://www.encodeproject.org/libraries/ENCLB2...</td>\n",
        "      <td> ENCODE3</td>\n",
        "    </tr>\n",
        "    <tr>\n",
        "      <th>329</th>\n",
        "      <td> https://www.encodeproject.org/libraries/ENCLB0...</td>\n",
        "      <td> ENCODE3</td>\n",
        "    </tr>\n",
        "    <tr>\n",
        "      <th>330</th>\n",
        "      <td> https://www.encodeproject.org/libraries/ENCLB2...</td>\n",
        "      <td> ENCODE3</td>\n",
        "    </tr>\n",
        "    <tr>\n",
        "      <th>331</th>\n",
        "      <td> https://www.encodeproject.org/libraries/ENCLB7...</td>\n",
        "      <td> ENCODE3</td>\n",
        "    </tr>\n",
        "    <tr>\n",
        "      <th>332</th>\n",
        "      <td> https://www.encodeproject.org/libraries/ENCLB2...</td>\n",
        "      <td> ENCODE3</td>\n",
        "    </tr>\n",
        "    <tr>\n",
        "      <th>333</th>\n",
        "      <td> https://www.encodeproject.org/libraries/ENCLB1...</td>\n",
        "      <td> ENCODE3</td>\n",
        "    </tr>\n",
        "    <tr>\n",
        "      <th>334</th>\n",
        "      <td> https://www.encodeproject.org/libraries/ENCLB4...</td>\n",
        "      <td> ENCODE3</td>\n",
        "    </tr>\n",
        "    <tr>\n",
        "      <th>335</th>\n",
        "      <td> https://www.encodeproject.org/libraries/ENCLB8...</td>\n",
        "      <td> ENCODE3</td>\n",
        "    </tr>\n",
        "    <tr>\n",
        "      <th>336</th>\n",
        "      <td> https://www.encodeproject.org/libraries/ENCLB3...</td>\n",
        "      <td> ENCODE3</td>\n",
        "    </tr>\n",
        "  </tbody>\n",
        "</table>\n",
        "<p>337 rows \u00d7 2 columns</p>\n",
        "</div>"
       ],
       "metadata": {},
       "output_type": "pyout",
       "prompt_number": 31,
       "text": [
        "                                             accession award_name\n",
        "0    https://www.encodeproject.org/libraries/ENCLB6...    ENCODE2\n",
        "1    https://www.encodeproject.org/libraries/ENCLB4...    ENCODE2\n",
        "2    https://www.encodeproject.org/libraries/ENCLB8...    ENCODE2\n",
        "3    https://www.encodeproject.org/libraries/ENCLB0...    ENCODE2\n",
        "4    https://www.encodeproject.org/libraries/ENCLB2...    ENCODE2\n",
        "5    https://www.encodeproject.org/libraries/ENCLB3...    ENCODE2\n",
        "6    https://www.encodeproject.org/libraries/ENCLB2...    ENCODE2\n",
        "7    https://www.encodeproject.org/libraries/ENCLB5...    ENCODE2\n",
        "8    https://www.encodeproject.org/libraries/ENCLB8...    ENCODE2\n",
        "9    https://www.encodeproject.org/libraries/ENCLB1...    ENCODE2\n",
        "10   https://www.encodeproject.org/libraries/ENCLB2...    ENCODE2\n",
        "11   https://www.encodeproject.org/libraries/ENCLB8...    ENCODE2\n",
        "12   https://www.encodeproject.org/libraries/ENCLB5...    ENCODE2\n",
        "13   https://www.encodeproject.org/libraries/ENCLB7...    ENCODE2\n",
        "14   https://www.encodeproject.org/libraries/ENCLB3...    ENCODE2\n",
        "15   https://www.encodeproject.org/libraries/ENCLB3...    ENCODE2\n",
        "16   https://www.encodeproject.org/libraries/ENCLB0...    ENCODE2\n",
        "17   https://www.encodeproject.org/libraries/ENCLB9...    ENCODE2\n",
        "18   https://www.encodeproject.org/libraries/ENCLB2...    ENCODE2\n",
        "19   https://www.encodeproject.org/libraries/ENCLB2...    ENCODE2\n",
        "20   https://www.encodeproject.org/libraries/ENCLB2...    ENCODE2\n",
        "21   https://www.encodeproject.org/libraries/ENCLB7...    ENCODE2\n",
        "22   https://www.encodeproject.org/libraries/ENCLB4...    ENCODE2\n",
        "23   https://www.encodeproject.org/libraries/ENCLB7...    ENCODE2\n",
        "24   https://www.encodeproject.org/libraries/ENCLB8...    ENCODE2\n",
        "25   https://www.encodeproject.org/libraries/ENCLB2...    ENCODE2\n",
        "26   https://www.encodeproject.org/libraries/ENCLB3...    ENCODE2\n",
        "27   https://www.encodeproject.org/libraries/ENCLB3...    ENCODE2\n",
        "28   https://www.encodeproject.org/libraries/ENCLB5...    ENCODE2\n",
        "29   https://www.encodeproject.org/libraries/ENCLB6...    ENCODE2\n",
        "..                                                 ...        ...\n",
        "307  https://www.encodeproject.org/libraries/ENCLB6...    ENCODE3\n",
        "308  https://www.encodeproject.org/libraries/ENCLB3...    ENCODE3\n",
        "309  https://www.encodeproject.org/libraries/ENCLB9...    ENCODE3\n",
        "310  https://www.encodeproject.org/libraries/ENCLB2...    ENCODE3\n",
        "311  https://www.encodeproject.org/libraries/ENCLB9...    ENCODE3\n",
        "312  https://www.encodeproject.org/libraries/ENCLB0...    ENCODE3\n",
        "313  https://www.encodeproject.org/libraries/ENCLB3...    ENCODE3\n",
        "314  https://www.encodeproject.org/libraries/ENCLB4...    ENCODE3\n",
        "315  https://www.encodeproject.org/libraries/ENCLB9...    ENCODE3\n",
        "316  https://www.encodeproject.org/libraries/ENCLB0...    ENCODE3\n",
        "317  https://www.encodeproject.org/libraries/ENCLB0...    ENCODE3\n",
        "318  https://www.encodeproject.org/libraries/ENCLB0...    ENCODE3\n",
        "319  https://www.encodeproject.org/libraries/ENCLB0...    ENCODE3\n",
        "320  https://www.encodeproject.org/libraries/ENCLB0...    ENCODE3\n",
        "321  https://www.encodeproject.org/libraries/ENCLB0...    ENCODE3\n",
        "322  https://www.encodeproject.org/libraries/ENCLB0...    ENCODE3\n",
        "323  https://www.encodeproject.org/libraries/ENCLB0...    ENCODE3\n",
        "324  https://www.encodeproject.org/libraries/ENCLB3...    ENCODE3\n",
        "325  https://www.encodeproject.org/libraries/ENCLB5...    ENCODE3\n",
        "326  https://www.encodeproject.org/libraries/ENCLB5...    ENCODE3\n",
        "327  https://www.encodeproject.org/libraries/ENCLB8...    ENCODE3\n",
        "328  https://www.encodeproject.org/libraries/ENCLB2...    ENCODE3\n",
        "329  https://www.encodeproject.org/libraries/ENCLB0...    ENCODE3\n",
        "330  https://www.encodeproject.org/libraries/ENCLB2...    ENCODE3\n",
        "331  https://www.encodeproject.org/libraries/ENCLB7...    ENCODE3\n",
        "332  https://www.encodeproject.org/libraries/ENCLB2...    ENCODE3\n",
        "333  https://www.encodeproject.org/libraries/ENCLB1...    ENCODE3\n",
        "334  https://www.encodeproject.org/libraries/ENCLB4...    ENCODE3\n",
        "335  https://www.encodeproject.org/libraries/ENCLB8...    ENCODE3\n",
        "336  https://www.encodeproject.org/libraries/ENCLB3...    ENCODE3\n",
        "\n",
        "[337 rows x 2 columns]"
       ]
      }
     ],
     "prompt_number": 31
    },
    {
     "cell_type": "code",
     "collapsed": false,
     "input": [],
     "language": "python",
     "metadata": {},
     "outputs": [],
     "prompt_number": 31
    }
   ],
   "metadata": {}
  }
 ]
}