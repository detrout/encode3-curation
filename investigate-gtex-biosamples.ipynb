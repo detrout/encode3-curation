{
 "cells": [
  {
   "cell_type": "code",
   "execution_count": 36,
   "metadata": {
    "collapsed": true
   },
   "outputs": [],
   "source": [
    "import pandas\n",
    "import RDF\n",
    "import gcat\n",
    "import os\n",
    "import sys\n",
    "import requests"
   ]
  },
  {
   "cell_type": "code",
   "execution_count": 3,
   "metadata": {
    "collapsed": false
   },
   "outputs": [],
   "source": [
    "from curation_common import *"
   ]
  },
  {
   "cell_type": "code",
   "execution_count": 9,
   "metadata": {
    "collapsed": true
   },
   "outputs": [],
   "source": [
    "encoded = ENCODED('www.encodeproject.org')\n",
    "encoded.load_netrc()"
   ]
  },
  {
   "cell_type": "code",
   "execution_count": 4,
   "metadata": {
    "collapsed": true
   },
   "outputs": [],
   "source": [
    "spreadsheet_name = 'EN-TEx_miRNA_experiments_metadata'\n",
    "sheet = gcat.get_file(spreadsheet_name, fmt='pandas_excel')\n",
    "libraries = sheet.parse('Libraries', header=0)"
   ]
  },
  {
   "cell_type": "code",
   "execution_count": 8,
   "metadata": {
    "collapsed": false
   },
   "outputs": [],
   "source": [
    "model = get_model(use_contexts=False)"
   ]
  },
  {
   "cell_type": "code",
   "execution_count": 10,
   "metadata": {
    "collapsed": true
   },
   "outputs": [],
   "source": [
    "for biosample in libraries['biosample']:\n",
    "    response = encoded.get_jsonld('/biosample/' + str(biosample))\n",
    "    load_jsonld_into_model(model, response)"
   ]
  },
  {
   "cell_type": "code",
   "execution_count": 20,
   "metadata": {
    "collapsed": false
   },
   "outputs": [
    {
     "name": "stdout",
     "output_type": "stream",
     "text": [
      "Found 71 rows.\n"
     ]
    },
    {
     "data": {
      "text/html": [
       "<table><tr><td>s</td></tr><tr><td><a href=\"https://www.encodeproject.org/biosamples/ENCBS380GWR/\">https://www.encodeproject.org/biosamples/ENCBS380GWR/</a></td></tr><tr><td><a href=\"https://www.encodeproject.org/biosamples/ENCBS926XRV/\">https://www.encodeproject.org/biosamples/ENCBS926XRV/</a></td></tr><tr><td><a href=\"https://www.encodeproject.org/biosamples/ENCBS617UGR/\">https://www.encodeproject.org/biosamples/ENCBS617UGR/</a></td></tr><tr><td><a href=\"https://www.encodeproject.org/biosamples/ENCBS005MNT/\">https://www.encodeproject.org/biosamples/ENCBS005MNT/</a></td></tr><tr><td><a href=\"https://www.encodeproject.org/biosamples/ENCBS602BLH/\">https://www.encodeproject.org/biosamples/ENCBS602BLH/</a></td></tr><tr><td><a href=\"https://www.encodeproject.org/biosamples/ENCBS488XGK/\">https://www.encodeproject.org/biosamples/ENCBS488XGK/</a></td></tr><tr><td><a href=\"https://www.encodeproject.org/biosamples/ENCBS156HYA/\">https://www.encodeproject.org/biosamples/ENCBS156HYA/</a></td></tr><tr><td><a href=\"https://www.encodeproject.org/biosamples/ENCBS890WYO/\">https://www.encodeproject.org/biosamples/ENCBS890WYO/</a></td></tr><tr><td><a href=\"https://www.encodeproject.org/biosamples/ENCBS636AEJ/\">https://www.encodeproject.org/biosamples/ENCBS636AEJ/</a></td></tr><tr><td><a href=\"https://www.encodeproject.org/biosamples/ENCBS420UOM/\">https://www.encodeproject.org/biosamples/ENCBS420UOM/</a></td></tr><tr><td><a href=\"https://www.encodeproject.org/biosamples/ENCBS562VSE/\">https://www.encodeproject.org/biosamples/ENCBS562VSE/</a></td></tr><tr><td><a href=\"https://www.encodeproject.org/biosamples/ENCBS719AMH/\">https://www.encodeproject.org/biosamples/ENCBS719AMH/</a></td></tr><tr><td><a href=\"https://www.encodeproject.org/biosamples/ENCBS335JSV/\">https://www.encodeproject.org/biosamples/ENCBS335JSV/</a></td></tr><tr><td><a href=\"https://www.encodeproject.org/biosamples/ENCBS953BPT/\">https://www.encodeproject.org/biosamples/ENCBS953BPT/</a></td></tr><tr><td><a href=\"https://www.encodeproject.org/biosamples/ENCBS502WML/\">https://www.encodeproject.org/biosamples/ENCBS502WML/</a></td></tr><tr><td><a href=\"https://www.encodeproject.org/biosamples/ENCBS126RDV/\">https://www.encodeproject.org/biosamples/ENCBS126RDV/</a></td></tr><tr><td><a href=\"https://www.encodeproject.org/biosamples/ENCBS692CGI/\">https://www.encodeproject.org/biosamples/ENCBS692CGI/</a></td></tr><tr><td><a href=\"https://www.encodeproject.org/biosamples/ENCBS213PZE/\">https://www.encodeproject.org/biosamples/ENCBS213PZE/</a></td></tr><tr><td><a href=\"https://www.encodeproject.org/biosamples/ENCBS018WOC/\">https://www.encodeproject.org/biosamples/ENCBS018WOC/</a></td></tr><tr><td><a href=\"https://www.encodeproject.org/biosamples/ENCBS644JRA/\">https://www.encodeproject.org/biosamples/ENCBS644JRA/</a></td></tr><tr><td><a href=\"https://www.encodeproject.org/biosamples/ENCBS504VQX/\">https://www.encodeproject.org/biosamples/ENCBS504VQX/</a></td></tr><tr><td><a href=\"https://www.encodeproject.org/biosamples/ENCBS855YAD/\">https://www.encodeproject.org/biosamples/ENCBS855YAD/</a></td></tr><tr><td><a href=\"https://www.encodeproject.org/biosamples/ENCBS182ITA/\">https://www.encodeproject.org/biosamples/ENCBS182ITA/</a></td></tr><tr><td><a href=\"https://www.encodeproject.org/biosamples/ENCBS564MPZ/\">https://www.encodeproject.org/biosamples/ENCBS564MPZ/</a></td></tr><tr><td><a href=\"https://www.encodeproject.org/biosamples/ENCBS661PVF/\">https://www.encodeproject.org/biosamples/ENCBS661PVF/</a></td></tr><tr><td><a href=\"https://www.encodeproject.org/biosamples/ENCBS884FWU/\">https://www.encodeproject.org/biosamples/ENCBS884FWU/</a></td></tr><tr><td><a href=\"https://www.encodeproject.org/biosamples/ENCBS494DUH/\">https://www.encodeproject.org/biosamples/ENCBS494DUH/</a></td></tr><tr><td><a href=\"https://www.encodeproject.org/biosamples/ENCBS689LIY/\">https://www.encodeproject.org/biosamples/ENCBS689LIY/</a></td></tr><tr><td><a href=\"https://www.encodeproject.org/biosamples/ENCBS178APY/\">https://www.encodeproject.org/biosamples/ENCBS178APY/</a></td></tr><tr><td><a href=\"https://www.encodeproject.org/biosamples/ENCBS384YBF/\">https://www.encodeproject.org/biosamples/ENCBS384YBF/</a></td></tr><tr><td><a href=\"https://www.encodeproject.org/biosamples/ENCBS553XGK/\">https://www.encodeproject.org/biosamples/ENCBS553XGK/</a></td></tr><tr><td><a href=\"https://www.encodeproject.org/biosamples/ENCBS886OHA/\">https://www.encodeproject.org/biosamples/ENCBS886OHA/</a></td></tr><tr><td><a href=\"https://www.encodeproject.org/biosamples/ENCBS728ZLZ/\">https://www.encodeproject.org/biosamples/ENCBS728ZLZ/</a></td></tr><tr><td><a href=\"https://www.encodeproject.org/biosamples/ENCBS845PWD/\">https://www.encodeproject.org/biosamples/ENCBS845PWD/</a></td></tr><tr><td><a href=\"https://www.encodeproject.org/biosamples/ENCBS940OCV/\">https://www.encodeproject.org/biosamples/ENCBS940OCV/</a></td></tr><tr><td><a href=\"https://www.encodeproject.org/biosamples/ENCBS150EDI/\">https://www.encodeproject.org/biosamples/ENCBS150EDI/</a></td></tr><tr><td><a href=\"https://www.encodeproject.org/biosamples/ENCBS594VBH/\">https://www.encodeproject.org/biosamples/ENCBS594VBH/</a></td></tr><tr><td><a href=\"https://www.encodeproject.org/biosamples/ENCBS688NPW/\">https://www.encodeproject.org/biosamples/ENCBS688NPW/</a></td></tr><tr><td><a href=\"https://www.encodeproject.org/biosamples/ENCBS084QBB/\">https://www.encodeproject.org/biosamples/ENCBS084QBB/</a></td></tr><tr><td><a href=\"https://www.encodeproject.org/biosamples/ENCBS746YUJ/\">https://www.encodeproject.org/biosamples/ENCBS746YUJ/</a></td></tr><tr><td><a href=\"https://www.encodeproject.org/biosamples/ENCBS057LPE/\">https://www.encodeproject.org/biosamples/ENCBS057LPE/</a></td></tr><tr><td><a href=\"https://www.encodeproject.org/biosamples/ENCBS133MAA/\">https://www.encodeproject.org/biosamples/ENCBS133MAA/</a></td></tr><tr><td><a href=\"https://www.encodeproject.org/biosamples/ENCBS468RPZ/\">https://www.encodeproject.org/biosamples/ENCBS468RPZ/</a></td></tr><tr><td><a href=\"https://www.encodeproject.org/biosamples/ENCBS171SNZ/\">https://www.encodeproject.org/biosamples/ENCBS171SNZ/</a></td></tr><tr><td><a href=\"https://www.encodeproject.org/biosamples/ENCBS109RQG/\">https://www.encodeproject.org/biosamples/ENCBS109RQG/</a></td></tr><tr><td><a href=\"https://www.encodeproject.org/biosamples/ENCBS903KZP/\">https://www.encodeproject.org/biosamples/ENCBS903KZP/</a></td></tr><tr><td><a href=\"https://www.encodeproject.org/biosamples/ENCBS504MQP/\">https://www.encodeproject.org/biosamples/ENCBS504MQP/</a></td></tr><tr><td><a href=\"https://www.encodeproject.org/biosamples/ENCBS280LSO/\">https://www.encodeproject.org/biosamples/ENCBS280LSO/</a></td></tr><tr><td><a href=\"https://www.encodeproject.org/biosamples/ENCBS827YEF/\">https://www.encodeproject.org/biosamples/ENCBS827YEF/</a></td></tr><tr><td><a href=\"https://www.encodeproject.org/biosamples/ENCBS168GTY/\">https://www.encodeproject.org/biosamples/ENCBS168GTY/</a></td></tr><tr><td><a href=\"https://www.encodeproject.org/biosamples/ENCBS504IQD/\">https://www.encodeproject.org/biosamples/ENCBS504IQD/</a></td></tr><tr><td><a href=\"https://www.encodeproject.org/biosamples/ENCBS709TEL/\">https://www.encodeproject.org/biosamples/ENCBS709TEL/</a></td></tr><tr><td><a href=\"https://www.encodeproject.org/biosamples/ENCBS156VIV/\">https://www.encodeproject.org/biosamples/ENCBS156VIV/</a></td></tr><tr><td><a href=\"https://www.encodeproject.org/biosamples/ENCBS315ZGI/\">https://www.encodeproject.org/biosamples/ENCBS315ZGI/</a></td></tr><tr><td><a href=\"https://www.encodeproject.org/biosamples/ENCBS361CPX/\">https://www.encodeproject.org/biosamples/ENCBS361CPX/</a></td></tr><tr><td><a href=\"https://www.encodeproject.org/biosamples/ENCBS969RHA/\">https://www.encodeproject.org/biosamples/ENCBS969RHA/</a></td></tr><tr><td><a href=\"https://www.encodeproject.org/biosamples/ENCBS474OSI/\">https://www.encodeproject.org/biosamples/ENCBS474OSI/</a></td></tr><tr><td><a href=\"https://www.encodeproject.org/biosamples/ENCBS988BTE/\">https://www.encodeproject.org/biosamples/ENCBS988BTE/</a></td></tr><tr><td><a href=\"https://www.encodeproject.org/biosamples/ENCBS430YCW/\">https://www.encodeproject.org/biosamples/ENCBS430YCW/</a></td></tr><tr><td><a href=\"https://www.encodeproject.org/biosamples/ENCBS548ZBZ/\">https://www.encodeproject.org/biosamples/ENCBS548ZBZ/</a></td></tr><tr><td><a href=\"https://www.encodeproject.org/biosamples/ENCBS906LAU/\">https://www.encodeproject.org/biosamples/ENCBS906LAU/</a></td></tr><tr><td><a href=\"https://www.encodeproject.org/biosamples/ENCBS653SLC/\">https://www.encodeproject.org/biosamples/ENCBS653SLC/</a></td></tr><tr><td><a href=\"https://www.encodeproject.org/biosamples/ENCBS288YWQ/\">https://www.encodeproject.org/biosamples/ENCBS288YWQ/</a></td></tr><tr><td><a href=\"https://www.encodeproject.org/biosamples/ENCBS981HQU/\">https://www.encodeproject.org/biosamples/ENCBS981HQU/</a></td></tr><tr><td><a href=\"https://www.encodeproject.org/biosamples/ENCBS238DLV/\">https://www.encodeproject.org/biosamples/ENCBS238DLV/</a></td></tr><tr><td><a href=\"https://www.encodeproject.org/biosamples/ENCBS464ZLQ/\">https://www.encodeproject.org/biosamples/ENCBS464ZLQ/</a></td></tr><tr><td><a href=\"https://www.encodeproject.org/biosamples/ENCBS684FGL/\">https://www.encodeproject.org/biosamples/ENCBS684FGL/</a></td></tr><tr><td><a href=\"https://www.encodeproject.org/biosamples/ENCBS156MDB/\">https://www.encodeproject.org/biosamples/ENCBS156MDB/</a></td></tr><tr><td><a href=\"https://www.encodeproject.org/biosamples/ENCBS402XXG/\">https://www.encodeproject.org/biosamples/ENCBS402XXG/</a></td></tr><tr><td><a href=\"https://www.encodeproject.org/biosamples/ENCBS934ZQX/\">https://www.encodeproject.org/biosamples/ENCBS934ZQX/</a></td></tr><tr><td><a href=\"https://www.encodeproject.org/biosamples/ENCBS738IGW/\">https://www.encodeproject.org/biosamples/ENCBS738IGW/</a></td></tr></table>"
      ],
      "text/plain": [
       "<rdfmagic.LibRdfResults at 0x7f61d65d1b00>"
      ]
     },
     "execution_count": 20,
     "metadata": {},
     "output_type": "execute_result"
    }
   ],
   "source": [
    "%%sparql -m model -c\n",
    "select ?s \n",
    "where {\n",
    "    ?s a biosample:Biosample .\n",
    "}\n"
   ]
  },
  {
   "cell_type": "code",
   "execution_count": 13,
   "metadata": {
    "collapsed": false
   },
   "outputs": [
    {
     "name": "stderr",
     "output_type": "stream",
     "text": [
      "/usr/lib/python3/dist-packages/RDF.py:2014: RedlandWarning: Variable o was bound but is unused in the query\n",
      "  results = Redland.librdf_query_execute(self._query,model._model)\n"
     ]
    },
    {
     "data": {
      "text/html": [
       "<table><tr><td>p</td></tr><tr><td><a href=\"http://www.w3.org/1999/02/22-rdf-syntax-ns#type\">rdf:type</a></td></tr><tr><td><a href=\"http://www.w3.org/1999/02/22-rdf-syntax-ns#type\">rdf:type</a></td></tr><tr><td><a href=\"http://www.w3.org/1999/02/22-rdf-syntax-ns#description\">rdf:description</a></td></tr><tr><td><a href=\"https://www.encodeproject.org/profiles/Biosample.json#accession\">biosample:accession</a></td></tr><tr><td><a href=\"https://www.encodeproject.org/profiles/Biosample.json#actions\">biosample:actions</a></td></tr><tr><td><a href=\"https://www.encodeproject.org/profiles/Biosample.json#actions\">biosample:actions</a></td></tr><tr><td><a href=\"https://www.encodeproject.org/profiles/Biosample.json#age\">biosample:age</a></td></tr><tr><td><a href=\"https://www.encodeproject.org/profiles/Biosample.json#age_display\">biosample:age_display</a></td></tr><tr><td><a href=\"https://www.encodeproject.org/profiles/Biosample.json#age_units\">biosample:age_units</a></td></tr><tr><td><a href=\"https://www.encodeproject.org/profiles/Biosample.json#audit\">biosample:audit</a></td></tr><tr><td><a href=\"https://www.encodeproject.org/profiles/Biosample.json#award\">biosample:award</a></td></tr><tr><td><a href=\"https://www.encodeproject.org/profiles/Biosample.json#biosample_synonyms\">biosample:biosample_synonyms</a></td></tr><tr><td><a href=\"https://www.encodeproject.org/profiles/Biosample.json#biosample_synonyms\">biosample:biosample_synonyms</a></td></tr><tr><td><a href=\"https://www.encodeproject.org/profiles/Biosample.json#biosample_synonyms\">biosample:biosample_synonyms</a></td></tr><tr><td><a href=\"https://www.encodeproject.org/profiles/Biosample.json#biosample_synonyms\">biosample:biosample_synonyms</a></td></tr><tr><td><a href=\"https://www.encodeproject.org/profiles/Biosample.json#biosample_term_id\">biosample:biosample_term_id</a></td></tr><tr><td><a href=\"https://www.encodeproject.org/profiles/Biosample.json#biosample_term_name\">biosample:biosample_term_name</a></td></tr><tr><td><a href=\"https://www.encodeproject.org/profiles/Biosample.json#biosample_type\">biosample:biosample_type</a></td></tr><tr><td><a href=\"https://www.encodeproject.org/profiles/Biosample.json#date_created\">biosample:date_created</a></td></tr><tr><td><a href=\"https://www.encodeproject.org/profiles/Biosample.json#date_obtained\">biosample:date_obtained</a></td></tr><tr><td><a href=\"https://www.encodeproject.org/profiles/Biosample.json#developmental_slims\">biosample:developmental_slims</a></td></tr><tr><td><a href=\"https://www.encodeproject.org/profiles/Biosample.json#donor\">biosample:donor</a></td></tr><tr><td><a href=\"https://www.encodeproject.org/profiles/Biosample.json#internal_tags\">biosample:internal_tags</a></td></tr><tr><td><a href=\"https://www.encodeproject.org/profiles/Biosample.json#lab\">biosample:lab</a></td></tr><tr><td><a href=\"https://www.encodeproject.org/profiles/Biosample.json#life_stage\">biosample:life_stage</a></td></tr><tr><td><a href=\"https://www.encodeproject.org/profiles/Biosample.json#organism\">biosample:organism</a></td></tr><tr><td><a href=\"https://www.encodeproject.org/profiles/Biosample.json#part_of\">biosample:part_of</a></td></tr><tr><td><a href=\"https://www.encodeproject.org/profiles/Biosample.json#schema_version\">biosample:schema_version</a></td></tr><tr><td><a href=\"https://www.encodeproject.org/profiles/Biosample.json#sex\">biosample:sex</a></td></tr><tr><td><a href=\"https://www.encodeproject.org/profiles/Biosample.json#source\">biosample:source</a></td></tr><tr><td><a href=\"https://www.encodeproject.org/profiles/Biosample.json#starting_amount\">biosample:starting_amount</a></td></tr><tr><td><a href=\"https://www.encodeproject.org/profiles/Biosample.json#starting_amount_units\">biosample:starting_amount_units</a></td></tr><tr><td><a href=\"https://www.encodeproject.org/profiles/Biosample.json#status\">biosample:status</a></td></tr><tr><td><a href=\"https://www.encodeproject.org/profiles/Biosample.json#submitted_by\">biosample:submitted_by</a></td></tr><tr><td><a href=\"https://www.encodeproject.org/profiles/Biosample.json#summary\">biosample:summary</a></td></tr><tr><td><a href=\"https://www.encodeproject.org/profiles/Biosample.json#system_slims\">biosample:system_slims</a></td></tr><tr><td><a href=\"https://www.encodeproject.org/profiles/Biosample.json#uuid\">biosample:uuid</a></td></tr></table>"
      ],
      "text/plain": [
       "<rdfmagic.LibRdfResults at 0x7f61d61b53c8>"
      ]
     },
     "execution_count": 13,
     "metadata": {},
     "output_type": "execute_result"
    }
   ],
   "source": [
    "%%sparql -m model\n",
    "select ?p \n",
    "where {\n",
    "    <https://www.encodeproject.org/biosamples/ENCBS738IGW/> ?p ?o .\n",
    "}\n"
   ]
  },
  {
   "cell_type": "code",
   "execution_count": 24,
   "metadata": {
    "collapsed": false
   },
   "outputs": [
    {
     "name": "stdout",
     "output_type": "stream",
     "text": [
      "Found 47 rows.\n"
     ]
    },
    {
     "data": {
      "text/html": [
       "<table><tr><td>part_of</td><td>bio</td><td>description</td><td>alias</td></tr><tr><td><a href=\"https://www.encodeproject.org/biosamples/ENCBS380GWR/\">https://www.encodeproject.org/biosamples/ENCBS380GWR/</a></td><td><a href=\"https://www.encodeproject.org/biosamples/ENCBS926XRV/\">https://www.encodeproject.org/biosamples/ENCBS926XRV/</a></td><td>Skin - Sun Exposed (Lower leg)</td><td>gtex:ENC-1JKYN-114-SM-91TIG</td></tr><tr><td><a href=\"https://www.encodeproject.org/biosamples/ENCBS380GWR/\">https://www.encodeproject.org/biosamples/ENCBS380GWR/</a></td><td><a href=\"https://www.encodeproject.org/biosamples/ENCBS617UGR/\">https://www.encodeproject.org/biosamples/ENCBS617UGR/</a></td><td>Skin - Sun Exposed (Lower leg)</td><td>gtex:ENC-1JKYN-114-SM-9JLPH</td></tr><tr><td><a href=\"https://www.encodeproject.org/biosamples/ENCBS005MNT/\">https://www.encodeproject.org/biosamples/ENCBS005MNT/</a></td><td><a href=\"https://www.encodeproject.org/biosamples/ENCBS602BLH/\">https://www.encodeproject.org/biosamples/ENCBS602BLH/</a></td><td>Skin - Sun Exposed (Lower leg)</td><td>gtex:ENC-1K2DA-211-SM-9JLPN</td></tr><tr><td><a href=\"https://www.encodeproject.org/biosamples/ENCBS005MNT/\">https://www.encodeproject.org/biosamples/ENCBS005MNT/</a></td><td><a href=\"https://www.encodeproject.org/biosamples/ENCBS488XGK/\">https://www.encodeproject.org/biosamples/ENCBS488XGK/</a></td><td>Skin - Sun Exposed (Lower leg)</td><td>gtex:ENC-1K2DA-211-SM-9JLPT</td></tr><tr><td><a href=\"https://www.encodeproject.org/biosamples/ENCBS890WYO/\">https://www.encodeproject.org/biosamples/ENCBS890WYO/</a></td><td><a href=\"https://www.encodeproject.org/biosamples/ENCBS156HYA/\">https://www.encodeproject.org/biosamples/ENCBS156HYA/</a></td><td>Adrenal Gland</td><td>gtex:ENC-1JKYN-031-SM-9IT1C</td></tr><tr><td><a href=\"https://www.encodeproject.org/biosamples/ENCBS890WYO/\">https://www.encodeproject.org/biosamples/ENCBS890WYO/</a></td><td><a href=\"https://www.encodeproject.org/biosamples/ENCBS636AEJ/\">https://www.encodeproject.org/biosamples/ENCBS636AEJ/</a></td><td>Adrenal Gland</td><td>gtex:ENC-1JKYN-031-SM-9JLPD</td></tr><tr><td><a href=\"https://www.encodeproject.org/biosamples/ENCBS562VSE/\">https://www.encodeproject.org/biosamples/ENCBS562VSE/</a></td><td><a href=\"https://www.encodeproject.org/biosamples/ENCBS420UOM/\">https://www.encodeproject.org/biosamples/ENCBS420UOM/</a></td><td>Adrenal Gland</td><td>gtex:ENC-1K2DA-016-SM-9JLPJ</td></tr><tr><td><a href=\"https://www.encodeproject.org/biosamples/ENCBS562VSE/\">https://www.encodeproject.org/biosamples/ENCBS562VSE/</a></td><td><a href=\"https://www.encodeproject.org/biosamples/ENCBS719AMH/\">https://www.encodeproject.org/biosamples/ENCBS719AMH/</a></td><td>Adrenal Gland</td><td>gtex:ENC-1K2DA-016-SM-9JLPP</td></tr><tr><td><a href=\"https://www.encodeproject.org/biosamples/ENCBS335JSV/\">https://www.encodeproject.org/biosamples/ENCBS335JSV/</a></td><td><a href=\"https://www.encodeproject.org/biosamples/ENCBS953BPT/\">https://www.encodeproject.org/biosamples/ENCBS953BPT/</a></td><td>Pancreas</td><td>gtex:ENC-1JKYN-002-SM-9IT1F</td></tr><tr><td><a href=\"https://www.encodeproject.org/biosamples/ENCBS335JSV/\">https://www.encodeproject.org/biosamples/ENCBS335JSV/</a></td><td><a href=\"https://www.encodeproject.org/biosamples/ENCBS502WML/\">https://www.encodeproject.org/biosamples/ENCBS502WML/</a></td><td>Pancreas</td><td>gtex:ENC-1JKYN-002-SM-9JLPG</td></tr><tr><td><a href=\"https://www.encodeproject.org/biosamples/ENCBS692CGI/\">https://www.encodeproject.org/biosamples/ENCBS692CGI/</a></td><td><a href=\"https://www.encodeproject.org/biosamples/ENCBS126RDV/\">https://www.encodeproject.org/biosamples/ENCBS126RDV/</a></td><td>Pancreas</td><td>gtex:ENC-1K2DA-029-SM-9JLPK</td></tr><tr><td><a href=\"https://www.encodeproject.org/biosamples/ENCBS692CGI/\">https://www.encodeproject.org/biosamples/ENCBS692CGI/</a></td><td><a href=\"https://www.encodeproject.org/biosamples/ENCBS213PZE/\">https://www.encodeproject.org/biosamples/ENCBS213PZE/</a></td><td>Pancreas</td><td>gtex:ENC-1K2DA-029-SM-9JLPQ</td></tr><tr><td><a href=\"https://www.encodeproject.org/biosamples/ENCBS644JRA/\">https://www.encodeproject.org/biosamples/ENCBS644JRA/</a></td><td><a href=\"https://www.encodeproject.org/biosamples/ENCBS018WOC/\">https://www.encodeproject.org/biosamples/ENCBS018WOC/</a></td><td>Thyroid</td><td>gtex:ENC-1JKYN-089-SM-9JLPI</td></tr><tr><td><a href=\"https://www.encodeproject.org/biosamples/ENCBS855YAD/\">https://www.encodeproject.org/biosamples/ENCBS855YAD/</a></td><td><a href=\"https://www.encodeproject.org/biosamples/ENCBS504VQX/\">https://www.encodeproject.org/biosamples/ENCBS504VQX/</a></td><td>Thyroid</td><td>gtex:ENC-1K2DA-185-SM-9JLPM</td></tr><tr><td><a href=\"https://www.encodeproject.org/biosamples/ENCBS855YAD/\">https://www.encodeproject.org/biosamples/ENCBS855YAD/</a></td><td><a href=\"https://www.encodeproject.org/biosamples/ENCBS182ITA/\">https://www.encodeproject.org/biosamples/ENCBS182ITA/</a></td><td>Thyroid</td><td>gtex:ENC-1K2DA-185-SM-9JLPS</td></tr><tr><td><a href=\"https://www.encodeproject.org/biosamples/ENCBS564MPZ/\">https://www.encodeproject.org/biosamples/ENCBS564MPZ/</a></td><td><a href=\"https://www.encodeproject.org/biosamples/ENCBS661PVF/\">https://www.encodeproject.org/biosamples/ENCBS661PVF/</a></td><td>Muscle - Skeletal</td><td>gtex:ENC-1JKYN-124-SM-9IT1E</td></tr><tr><td><a href=\"https://www.encodeproject.org/biosamples/ENCBS564MPZ/\">https://www.encodeproject.org/biosamples/ENCBS564MPZ/</a></td><td><a href=\"https://www.encodeproject.org/biosamples/ENCBS884FWU/\">https://www.encodeproject.org/biosamples/ENCBS884FWU/</a></td><td>Muscle - Skeletal</td><td>gtex:ENC-1JKYN-124-SM-9JLPF</td></tr><tr><td><a href=\"https://www.encodeproject.org/biosamples/ENCBS494DUH/\">https://www.encodeproject.org/biosamples/ENCBS494DUH/</a></td><td><a href=\"https://www.encodeproject.org/biosamples/ENCBS689LIY/\">https://www.encodeproject.org/biosamples/ENCBS689LIY/</a></td><td>Muscle - Skeletal</td><td>gtex:ENC-1K2DA-276-SM-9JLPO</td></tr><tr><td><a href=\"https://www.encodeproject.org/biosamples/ENCBS494DUH/\">https://www.encodeproject.org/biosamples/ENCBS494DUH/</a></td><td><a href=\"https://www.encodeproject.org/biosamples/ENCBS178APY/\">https://www.encodeproject.org/biosamples/ENCBS178APY/</a></td><td>Muscle - Skeletal</td><td>gtex:ENC-1K2DA-276-SM-9JLPU</td></tr><tr><td><a href=\"https://www.encodeproject.org/biosamples/ENCBS384YBF/\">https://www.encodeproject.org/biosamples/ENCBS384YBF/</a></td><td><a href=\"https://www.encodeproject.org/biosamples/ENCBS553XGK/\">https://www.encodeproject.org/biosamples/ENCBS553XGK/</a></td><td>Prostate</td><td>gtex:ENC-1JKYN-074-SM-A94IX</td></tr><tr><td><a href=\"https://www.encodeproject.org/biosamples/ENCBS384YBF/\">https://www.encodeproject.org/biosamples/ENCBS384YBF/</a></td><td><a href=\"https://www.encodeproject.org/biosamples/ENCBS886OHA/\">https://www.encodeproject.org/biosamples/ENCBS886OHA/</a></td><td>Prostate</td><td>gtex:ENC-1JKYN-075-SM-A94IY</td></tr><tr><td><a href=\"https://www.encodeproject.org/biosamples/ENCBS728ZLZ/\">https://www.encodeproject.org/biosamples/ENCBS728ZLZ/</a></td><td><a href=\"https://www.encodeproject.org/biosamples/ENCBS845PWD/\">https://www.encodeproject.org/biosamples/ENCBS845PWD/</a></td><td>Prostate</td><td>gtex:ENC-1K2DA-155-SM-A94J2</td></tr><tr><td><a href=\"https://www.encodeproject.org/biosamples/ENCBS728ZLZ/\">https://www.encodeproject.org/biosamples/ENCBS728ZLZ/</a></td><td><a href=\"https://www.encodeproject.org/biosamples/ENCBS940OCV/\">https://www.encodeproject.org/biosamples/ENCBS940OCV/</a></td><td>Prostate</td><td>gtex:ENC-1K2DA-156-SM-A94J3</td></tr><tr><td><a href=\"https://www.encodeproject.org/biosamples/ENCBS150EDI/\">https://www.encodeproject.org/biosamples/ENCBS150EDI/</a></td><td><a href=\"https://www.encodeproject.org/biosamples/ENCBS594VBH/\">https://www.encodeproject.org/biosamples/ENCBS594VBH/</a></td><td>Liver</td><td>gtex:ENC-1LGRB-076-SM-A94J8</td></tr><tr><td><a href=\"https://www.encodeproject.org/biosamples/ENCBS150EDI/\">https://www.encodeproject.org/biosamples/ENCBS150EDI/</a></td><td><a href=\"https://www.encodeproject.org/biosamples/ENCBS688NPW/\">https://www.encodeproject.org/biosamples/ENCBS688NPW/</a></td><td>Liver</td><td>gtex:ENC-1LGRB-077-SM-A94J9</td></tr><tr><td><a href=\"https://www.encodeproject.org/biosamples/ENCBS746YUJ/\">https://www.encodeproject.org/biosamples/ENCBS746YUJ/</a></td><td><a href=\"https://www.encodeproject.org/biosamples/ENCBS084QBB/\">https://www.encodeproject.org/biosamples/ENCBS084QBB/</a></td><td>Uterus</td><td>gtex:ENC-1LGRB-285-SM-A94J6</td></tr><tr><td><a href=\"https://www.encodeproject.org/biosamples/ENCBS746YUJ/\">https://www.encodeproject.org/biosamples/ENCBS746YUJ/</a></td><td><a href=\"https://www.encodeproject.org/biosamples/ENCBS057LPE/\">https://www.encodeproject.org/biosamples/ENCBS057LPE/</a></td><td>Uterus</td><td>gtex:ENC-1LGRB-286-SM-A94J7</td></tr><tr><td><a href=\"https://www.encodeproject.org/biosamples/ENCBS468RPZ/\">https://www.encodeproject.org/biosamples/ENCBS468RPZ/</a></td><td><a href=\"https://www.encodeproject.org/biosamples/ENCBS133MAA/\">https://www.encodeproject.org/biosamples/ENCBS133MAA/</a></td><td>Uterus</td><td>gtex:ENC-1LVAN-241-SM-A94JK</td></tr><tr><td><a href=\"https://www.encodeproject.org/biosamples/ENCBS468RPZ/\">https://www.encodeproject.org/biosamples/ENCBS468RPZ/</a></td><td><a href=\"https://www.encodeproject.org/biosamples/ENCBS171SNZ/\">https://www.encodeproject.org/biosamples/ENCBS171SNZ/</a></td><td>Uterus</td><td>gtex:ENC-1LVAN-242-SM-A94JL</td></tr><tr><td><a href=\"https://www.encodeproject.org/biosamples/ENCBS109RQG/\">https://www.encodeproject.org/biosamples/ENCBS109RQG/</a></td><td><a href=\"https://www.encodeproject.org/biosamples/ENCBS903KZP/\">https://www.encodeproject.org/biosamples/ENCBS903KZP/</a></td><td>Heart - Atrial Appendage</td><td>gtex:ENC-1LGRB-114-SM-A94JA</td></tr><tr><td><a href=\"https://www.encodeproject.org/biosamples/ENCBS109RQG/\">https://www.encodeproject.org/biosamples/ENCBS109RQG/</a></td><td><a href=\"https://www.encodeproject.org/biosamples/ENCBS504MQP/\">https://www.encodeproject.org/biosamples/ENCBS504MQP/</a></td><td>Heart - Atrial Appendage</td><td>gtex:ENC-1LGRB-115-SM-A94JB</td></tr><tr><td><a href=\"https://www.encodeproject.org/biosamples/ENCBS280LSO/\">https://www.encodeproject.org/biosamples/ENCBS280LSO/</a></td><td><a href=\"https://www.encodeproject.org/biosamples/ENCBS827YEF/\">https://www.encodeproject.org/biosamples/ENCBS827YEF/</a></td><td>Heart - Atrial Appendage</td><td>gtex:ENC-1LVAN-183-SM-A94JE</td></tr><tr><td><a href=\"https://www.encodeproject.org/biosamples/ENCBS280LSO/\">https://www.encodeproject.org/biosamples/ENCBS280LSO/</a></td><td><a href=\"https://www.encodeproject.org/biosamples/ENCBS168GTY/\">https://www.encodeproject.org/biosamples/ENCBS168GTY/</a></td><td>Heart - Atrial Appendage</td><td>gtex:ENC-1LVAN-184-SM-A94JF</td></tr><tr><td><a href=\"https://www.encodeproject.org/biosamples/ENCBS709TEL/\">https://www.encodeproject.org/biosamples/ENCBS709TEL/</a></td><td><a href=\"https://www.encodeproject.org/biosamples/ENCBS504IQD/\">https://www.encodeproject.org/biosamples/ENCBS504IQD/</a></td><td>Heart - Left Ventricle</td><td>gtex:ENC-1LGRB-139-SM-A94JC</td></tr><tr><td><a href=\"https://www.encodeproject.org/biosamples/ENCBS709TEL/\">https://www.encodeproject.org/biosamples/ENCBS709TEL/</a></td><td><a href=\"https://www.encodeproject.org/biosamples/ENCBS156VIV/\">https://www.encodeproject.org/biosamples/ENCBS156VIV/</a></td><td>Heart - Left Ventricle</td><td>gtex:ENC-1LGRB-140-SM-A94JD</td></tr><tr><td><a href=\"https://www.encodeproject.org/biosamples/ENCBS315ZGI/\">https://www.encodeproject.org/biosamples/ENCBS315ZGI/</a></td><td><a href=\"https://www.encodeproject.org/biosamples/ENCBS361CPX/\">https://www.encodeproject.org/biosamples/ENCBS361CPX/</a></td><td>Heart - Left Ventricle</td><td>gtex:ENC-1LVAN-198-SM-A94JG</td></tr><tr><td><a href=\"https://www.encodeproject.org/biosamples/ENCBS315ZGI/\">https://www.encodeproject.org/biosamples/ENCBS315ZGI/</a></td><td><a href=\"https://www.encodeproject.org/biosamples/ENCBS969RHA/\">https://www.encodeproject.org/biosamples/ENCBS969RHA/</a></td><td>Heart - Left Ventricle</td><td>gtex:ENC-1LVAN-199-SM-A94JH</td></tr><tr><td><a href=\"https://www.encodeproject.org/biosamples/ENCBS474OSI/\">https://www.encodeproject.org/biosamples/ENCBS474OSI/</a></td><td><a href=\"https://www.encodeproject.org/biosamples/ENCBS988BTE/\">https://www.encodeproject.org/biosamples/ENCBS988BTE/</a></td><td>Ovary 4-1</td><td>None</td></tr><tr><td><a href=\"https://www.encodeproject.org/biosamples/ENCBS474OSI/\">https://www.encodeproject.org/biosamples/ENCBS474OSI/</a></td><td><a href=\"https://www.encodeproject.org/biosamples/ENCBS430YCW/\">https://www.encodeproject.org/biosamples/ENCBS430YCW/</a></td><td>Ovary 4-2</td><td>None</td></tr><tr><td><a href=\"https://www.encodeproject.org/biosamples/ENCBS548ZBZ/\">https://www.encodeproject.org/biosamples/ENCBS548ZBZ/</a></td><td><a href=\"https://www.encodeproject.org/biosamples/ENCBS906LAU/\">https://www.encodeproject.org/biosamples/ENCBS906LAU/</a></td><td>Testis 1-2</td><td>None</td></tr><tr><td><a href=\"https://www.encodeproject.org/biosamples/ENCBS548ZBZ/\">https://www.encodeproject.org/biosamples/ENCBS548ZBZ/</a></td><td><a href=\"https://www.encodeproject.org/biosamples/ENCBS653SLC/\">https://www.encodeproject.org/biosamples/ENCBS653SLC/</a></td><td>Testis 1-2</td><td>None</td></tr><tr><td><a href=\"https://www.encodeproject.org/biosamples/ENCBS981HQU/\">https://www.encodeproject.org/biosamples/ENCBS981HQU/</a></td><td><a href=\"https://www.encodeproject.org/biosamples/ENCBS288YWQ/\">https://www.encodeproject.org/biosamples/ENCBS288YWQ/</a></td><td>Testis 2-1</td><td>None</td></tr><tr><td><a href=\"https://www.encodeproject.org/biosamples/ENCBS981HQU/\">https://www.encodeproject.org/biosamples/ENCBS981HQU/</a></td><td><a href=\"https://www.encodeproject.org/biosamples/ENCBS238DLV/\">https://www.encodeproject.org/biosamples/ENCBS238DLV/</a></td><td>Testis 2-2</td><td>None</td></tr><tr><td><a href=\"https://www.encodeproject.org/biosamples/ENCBS684FGL/\">https://www.encodeproject.org/biosamples/ENCBS684FGL/</a></td><td><a href=\"https://www.encodeproject.org/biosamples/ENCBS464ZLQ/\">https://www.encodeproject.org/biosamples/ENCBS464ZLQ/</a></td><td>Vagina 3-1</td><td>None</td></tr><tr><td><a href=\"https://www.encodeproject.org/biosamples/ENCBS684FGL/\">https://www.encodeproject.org/biosamples/ENCBS684FGL/</a></td><td><a href=\"https://www.encodeproject.org/biosamples/ENCBS156MDB/\">https://www.encodeproject.org/biosamples/ENCBS156MDB/</a></td><td>Vagina 3-2</td><td>None</td></tr><tr><td><a href=\"https://www.encodeproject.org/biosamples/ENCBS934ZQX/\">https://www.encodeproject.org/biosamples/ENCBS934ZQX/</a></td><td><a href=\"https://www.encodeproject.org/biosamples/ENCBS402XXG/\">https://www.encodeproject.org/biosamples/ENCBS402XXG/</a></td><td>Vagina 4-1</td><td>None</td></tr><tr><td><a href=\"https://www.encodeproject.org/biosamples/ENCBS934ZQX/\">https://www.encodeproject.org/biosamples/ENCBS934ZQX/</a></td><td><a href=\"https://www.encodeproject.org/biosamples/ENCBS738IGW/\">https://www.encodeproject.org/biosamples/ENCBS738IGW/</a></td><td>Vagina 4-2</td><td>None</td></tr></table>"
      ],
      "text/plain": [
       "<rdfmagic.LibRdfResults at 0x7f61d6133ba8>"
      ]
     },
     "execution_count": 24,
     "metadata": {},
     "output_type": "execute_result"
    }
   ],
   "source": [
    "%%sparql -m model  -c\n",
    "select ?part_of ?bio ?description ?alias\n",
    "where {\n",
    "    ?bio biosample:part_of ?part_of ;\n",
    "         rdf:description ?description .\n",
    "    OPTIONAL { ?bio biosample:aliases ?alias . }\n",
    "}\n"
   ]
  }
 ],
 "metadata": {
  "kernelspec": {
   "display_name": "Python 3",
   "language": "python",
   "name": "python3"
  },
  "language_info": {
   "codemirror_mode": {
    "name": "ipython",
    "version": 3
   },
   "file_extension": ".py",
   "mimetype": "text/x-python",
   "name": "python",
   "nbconvert_exporter": "python",
   "pygments_lexer": "ipython3",
   "version": "3.5.2"
  }
 },
 "nbformat": 4,
 "nbformat_minor": 0
}
