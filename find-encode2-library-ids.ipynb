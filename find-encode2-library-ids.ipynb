{
 "cells": [
  {
   "cell_type": "code",
   "execution_count": 7,
   "metadata": {
    "collapsed": true
   },
   "outputs": [],
   "source": [
    "import pandas\n",
    "import RDF\n",
    "from curation_common import *"
   ]
  },
  {
   "cell_type": "code",
   "execution_count": 8,
   "metadata": {
    "collapsed": false
   },
   "outputs": [],
   "source": [
    "server = ENCODED('www.encodeproject.org')\n",
    "server.load_netrc()"
   ]
  },
  {
   "cell_type": "code",
   "execution_count": 9,
   "metadata": {
    "collapsed": false
   },
   "outputs": [],
   "source": [
    "encode2 = server.get_json(\n",
    "    \"https://www.encodeproject.org/search/?type=experiment&lab.title=Barbara Wold, Caltech&award.rfa=ENCODE2\")"
   ]
  },
  {
   "cell_type": "code",
   "execution_count": 10,
   "metadata": {
    "collapsed": true
   },
   "outputs": [],
   "source": [
    "model = get_model(use_contexts=False)"
   ]
  },
  {
   "cell_type": "code",
   "execution_count": 11,
   "metadata": {
    "collapsed": false,
    "scrolled": true
   },
   "outputs": [],
   "source": [
    "def load_from_query(model, query):\n",
    "    for i, exp in enumerate(query['@graph']):\n",
    "        exp_id = exp['@id']\n",
    "        print(exp_id, i, len(query['@graph']))\n",
    "        load_jsonld_into_model(model, server.get_jsonld(exp_id))"
   ]
  },
  {
   "cell_type": "code",
   "execution_count": 12,
   "metadata": {
    "collapsed": false
   },
   "outputs": [
    {
     "name": "stdout",
     "output_type": "stream",
     "text": [
      "/experiments/ENCSR270XRV/ 0 24\n",
      "/experiments/ENCSR637VLS/ 1 24\n",
      "/experiments/ENCSR654UPQ/ 2 24\n",
      "/experiments/ENCSR329MHM/ 3 24\n",
      "/experiments/ENCSR552EGO/ 4 24\n",
      "/experiments/ENCSR962TBJ/ 5 24\n",
      "/experiments/ENCSR643QIZ/ 6 24\n",
      "/experiments/ENCSR077AZT/ 7 24\n",
      "/experiments/ENCSR297UBP/ 8 24\n",
      "/experiments/ENCSR000CWM/ 9 24\n",
      "/experiments/ENCSR000EYQ/ 10 24\n",
      "/experiments/ENCSR000EYP/ 11 24\n",
      "/experiments/ENCSR000CWQ/ 12 24\n",
      "/experiments/ENCSR000CWP/ 13 24\n",
      "/experiments/ENCSR000CWO/ 14 24\n",
      "/experiments/ENCSR000EYS/ 15 24\n",
      "/experiments/ENCSR000CWL/ 16 24\n",
      "/experiments/ENCSR000CWN/ 17 24\n",
      "/experiments/ENCSR000CWK/ 18 24\n",
      "/experiments/ENCSR000CWR/ 19 24\n",
      "/experiments/ENCSR000EYT/ 20 24\n",
      "/experiments/ENCSR000EYN/ 21 24\n",
      "/experiments/ENCSR000EYR/ 22 24\n",
      "/experiments/ENCSR000EYO/ 23 24\n"
     ]
    }
   ],
   "source": [
    "load_from_query(model, encode2)"
   ]
  },
  {
   "cell_type": "code",
   "execution_count": 13,
   "metadata": {
    "collapsed": true
   },
   "outputs": [],
   "source": [
    "encode2_mouse_rna = server.get_json(\n",
    "    \"https://www.encodeproject.org/search/?type=experiment&lab.title=Barbara+Wold%2C+Caltech&award.rfa=ENCODE2-Mouse&assay_term_name=RNA-seq\")"
   ]
  },
  {
   "cell_type": "code",
   "execution_count": 14,
   "metadata": {
    "collapsed": false
   },
   "outputs": [
    {
     "name": "stdout",
     "output_type": "stream",
     "text": [
      "/experiments/ENCSR000AIA/ 0 4\n",
      "/experiments/ENCSR000AHX/ 1 4\n",
      "/experiments/ENCSR000AHZ/ 2 4\n",
      "/experiments/ENCSR000AHY/ 3 4\n"
     ]
    }
   ],
   "source": [
    "load_from_query(model, encode2_mouse_rna)"
   ]
  },
  {
   "cell_type": "code",
   "execution_count": 15,
   "metadata": {
    "collapsed": false
   },
   "outputs": [
    {
     "name": "stdout",
     "output_type": "stream",
     "text": [
      "Found 50 rows.\n"
     ]
    },
    {
     "data": {
      "text/html": [
       "<table><tr><td>exp</td><td>lib</td><td>alias</td></tr><tr><td><a href=\"https://www.encodeproject.org/experiments/ENCSR000CWL/\">experiments:ENCSR000CWL/</a></td><td><a href=\"https://www.encodeproject.org/libraries/ENCLB661EBH/\">libraries:ENCLB661EBH/</a></td><td>barbara-wold:02973</td></tr><tr><td><a href=\"https://www.encodeproject.org/experiments/ENCSR000EYN/\">experiments:ENCSR000EYN/</a></td><td><a href=\"https://www.encodeproject.org/libraries/ENCLB150CGC/\">libraries:ENCLB150CGC/</a></td><td>barbara-wold:10515</td></tr><tr><td><a href=\"https://www.encodeproject.org/experiments/ENCSR077AZT/\">experiments:ENCSR077AZT/</a></td><td><a href=\"https://www.encodeproject.org/libraries/ENCLB858EYY/\">libraries:ENCLB858EYY/</a></td><td>barbara-wold:10516</td></tr><tr><td><a href=\"https://www.encodeproject.org/experiments/ENCSR000EYO/\">experiments:ENCSR000EYO/</a></td><td><a href=\"https://www.encodeproject.org/libraries/ENCLB296STQ/\">libraries:ENCLB296STQ/</a></td><td>barbara-wold:10517</td></tr><tr><td><a href=\"https://www.encodeproject.org/experiments/ENCSR000EYN/\">experiments:ENCSR000EYN/</a></td><td><a href=\"https://www.encodeproject.org/libraries/ENCLB700LMU/\">libraries:ENCLB700LMU/</a></td><td>barbara-wold:10565</td></tr><tr><td><a href=\"https://www.encodeproject.org/experiments/ENCSR000EYO/\">experiments:ENCSR000EYO/</a></td><td><a href=\"https://www.encodeproject.org/libraries/ENCLB912OTZ/\">libraries:ENCLB912OTZ/</a></td><td>barbara-wold:10567</td></tr><tr><td><a href=\"https://www.encodeproject.org/experiments/ENCSR000EYP/\">experiments:ENCSR000EYP/</a></td><td><a href=\"https://www.encodeproject.org/libraries/ENCLB211VHB/\">libraries:ENCLB211VHB/</a></td><td>barbara-wold:10874</td></tr><tr><td><a href=\"https://www.encodeproject.org/experiments/ENCSR962TBJ/\">experiments:ENCSR962TBJ/</a></td><td><a href=\"https://www.encodeproject.org/libraries/ENCLB827ADT/\">libraries:ENCLB827ADT/</a></td><td>barbara-wold:10876</td></tr><tr><td><a href=\"https://www.encodeproject.org/experiments/ENCSR000EYR/\">experiments:ENCSR000EYR/</a></td><td><a href=\"https://www.encodeproject.org/libraries/ENCLB596OCH/\">libraries:ENCLB596OCH/</a></td><td>barbara-wold:10878</td></tr><tr><td><a href=\"https://www.encodeproject.org/experiments/ENCSR000EYR/\">experiments:ENCSR000EYR/</a></td><td><a href=\"https://www.encodeproject.org/libraries/ENCLB285RFV/\">libraries:ENCLB285RFV/</a></td><td>barbara-wold:10879</td></tr><tr><td><a href=\"https://www.encodeproject.org/experiments/ENCSR000EYQ/\">experiments:ENCSR000EYQ/</a></td><td><a href=\"https://www.encodeproject.org/libraries/ENCLB928ZOL/\">libraries:ENCLB928ZOL/</a></td><td>barbara-wold:10881</td></tr><tr><td><a href=\"https://www.encodeproject.org/experiments/ENCSR000EYQ/\">experiments:ENCSR000EYQ/</a></td><td><a href=\"https://www.encodeproject.org/libraries/ENCLB070EUV/\">libraries:ENCLB070EUV/</a></td><td>barbara-wold:10882</td></tr><tr><td><a href=\"https://www.encodeproject.org/experiments/ENCSR000EYS/\">experiments:ENCSR000EYS/</a></td><td><a href=\"https://www.encodeproject.org/libraries/ENCLB553XIA/\">libraries:ENCLB553XIA/</a></td><td>barbara-wold:10883</td></tr><tr><td><a href=\"https://www.encodeproject.org/experiments/ENCSR000EYT/\">experiments:ENCSR000EYT/</a></td><td><a href=\"https://www.encodeproject.org/libraries/ENCLB439WFS/\">libraries:ENCLB439WFS/</a></td><td>barbara-wold:10884</td></tr><tr><td><a href=\"https://www.encodeproject.org/experiments/ENCSR000EYS/\">experiments:ENCSR000EYS/</a></td><td><a href=\"https://www.encodeproject.org/libraries/ENCLB369MMK/\">libraries:ENCLB369MMK/</a></td><td>barbara-wold:10885</td></tr><tr><td><a href=\"https://www.encodeproject.org/experiments/ENCSR643QIZ/\">experiments:ENCSR643QIZ/</a></td><td><a href=\"https://www.encodeproject.org/libraries/ENCLB184USD/\">libraries:ENCLB184USD/</a></td><td>barbara-wold:10947</td></tr><tr><td><a href=\"https://www.encodeproject.org/experiments/ENCSR000AHY/\">experiments:ENCSR000AHY/</a></td><td><a href=\"https://www.encodeproject.org/libraries/ENCLB359ZZZ/\">libraries:ENCLB359ZZZ/</a></td><td>barbara-wold:10985</td></tr><tr><td><a href=\"https://www.encodeproject.org/experiments/ENCSR000AIA/\">experiments:ENCSR000AIA/</a></td><td><a href=\"https://www.encodeproject.org/libraries/ENCLB356ZZZ/\">libraries:ENCLB356ZZZ/</a></td><td>barbara-wold:10986</td></tr><tr><td><a href=\"https://www.encodeproject.org/experiments/ENCSR637VLS/\">experiments:ENCSR637VLS/</a></td><td><a href=\"https://www.encodeproject.org/libraries/ENCLB866SQE/\">libraries:ENCLB866SQE/</a></td><td>barbara-wold:11007</td></tr><tr><td><a href=\"https://www.encodeproject.org/experiments/ENCSR637VLS/\">experiments:ENCSR637VLS/</a></td><td><a href=\"https://www.encodeproject.org/libraries/ENCLB424IFK/\">libraries:ENCLB424IFK/</a></td><td>barbara-wold:11008</td></tr><tr><td><a href=\"https://www.encodeproject.org/experiments/ENCSR643QIZ/\">experiments:ENCSR643QIZ/</a></td><td><a href=\"https://www.encodeproject.org/libraries/ENCLB205QXO/\">libraries:ENCLB205QXO/</a></td><td>barbara-wold:11009</td></tr><tr><td><a href=\"https://www.encodeproject.org/experiments/ENCSR297UBP/\">experiments:ENCSR297UBP/</a></td><td><a href=\"https://www.encodeproject.org/libraries/ENCLB529ELW/\">libraries:ENCLB529ELW/</a></td><td>barbara-wold:11010</td></tr><tr><td><a href=\"https://www.encodeproject.org/experiments/ENCSR297UBP/\">experiments:ENCSR297UBP/</a></td><td><a href=\"https://www.encodeproject.org/libraries/ENCLB732DFW/\">libraries:ENCLB732DFW/</a></td><td>barbara-wold:11011</td></tr><tr><td><a href=\"https://www.encodeproject.org/experiments/ENCSR000CWK/\">experiments:ENCSR000CWK/</a></td><td><a href=\"https://www.encodeproject.org/libraries/ENCLB857ING/\">libraries:ENCLB857ING/</a></td><td>barbara-wold:11038</td></tr><tr><td><a href=\"https://www.encodeproject.org/experiments/ENCSR000CWL/\">experiments:ENCSR000CWL/</a></td><td><a href=\"https://www.encodeproject.org/libraries/ENCLB637FKG/\">libraries:ENCLB637FKG/</a></td><td>barbara-wold:11039</td></tr><tr><td><a href=\"https://www.encodeproject.org/experiments/ENCSR000AHZ/\">experiments:ENCSR000AHZ/</a></td><td><a href=\"https://www.encodeproject.org/libraries/ENCLB358ZZZ/\">libraries:ENCLB358ZZZ/</a></td><td>barbara-wold:11154</td></tr><tr><td><a href=\"https://www.encodeproject.org/experiments/ENCSR000AHX/\">experiments:ENCSR000AHX/</a></td><td><a href=\"https://www.encodeproject.org/libraries/ENCLB357ZZZ/\">libraries:ENCLB357ZZZ/</a></td><td>barbara-wold:11155</td></tr><tr><td><a href=\"https://www.encodeproject.org/experiments/ENCSR270XRV/\">experiments:ENCSR270XRV/</a></td><td><a href=\"https://www.encodeproject.org/libraries/ENCLB625YJM/\">libraries:ENCLB625YJM/</a></td><td>barbara-wold:11204</td></tr><tr><td><a href=\"https://www.encodeproject.org/experiments/ENCSR654UPQ/\">experiments:ENCSR654UPQ/</a></td><td><a href=\"https://www.encodeproject.org/libraries/ENCLB043WCL/\">libraries:ENCLB043WCL/</a></td><td>barbara-wold:11206</td></tr><tr><td><a href=\"https://www.encodeproject.org/experiments/ENCSR552EGO/\">experiments:ENCSR552EGO/</a></td><td><a href=\"https://www.encodeproject.org/libraries/ENCLB540GQH/\">libraries:ENCLB540GQH/</a></td><td>barbara-wold:11207</td></tr><tr><td><a href=\"https://www.encodeproject.org/experiments/ENCSR552EGO/\">experiments:ENCSR552EGO/</a></td><td><a href=\"https://www.encodeproject.org/libraries/ENCLB267LXR/\">libraries:ENCLB267LXR/</a></td><td>barbara-wold:11208</td></tr><tr><td><a href=\"https://www.encodeproject.org/experiments/ENCSR329MHM/\">experiments:ENCSR329MHM/</a></td><td><a href=\"https://www.encodeproject.org/libraries/ENCLB334AQY/\">libraries:ENCLB334AQY/</a></td><td>barbara-wold:11209</td></tr><tr><td><a href=\"https://www.encodeproject.org/experiments/ENCSR329MHM/\">experiments:ENCSR329MHM/</a></td><td><a href=\"https://www.encodeproject.org/libraries/ENCLB267HUY/\">libraries:ENCLB267HUY/</a></td><td>barbara-wold:11210</td></tr><tr><td><a href=\"https://www.encodeproject.org/experiments/ENCSR000EYP/\">experiments:ENCSR000EYP/</a></td><td><a href=\"https://www.encodeproject.org/libraries/ENCLB227WEO/\">libraries:ENCLB227WEO/</a></td><td>barbara-wold:11286</td></tr><tr><td><a href=\"https://www.encodeproject.org/experiments/ENCSR000EYP/\">experiments:ENCSR000EYP/</a></td><td><a href=\"https://www.encodeproject.org/libraries/ENCLB764TBI/\">libraries:ENCLB764TBI/</a></td><td>barbara-wold:11288</td></tr><tr><td><a href=\"https://www.encodeproject.org/experiments/ENCSR000EYP/\">experiments:ENCSR000EYP/</a></td><td><a href=\"https://www.encodeproject.org/libraries/ENCLB221REA/\">libraries:ENCLB221REA/</a></td><td>barbara-wold:11289</td></tr><tr><td><a href=\"https://www.encodeproject.org/experiments/ENCSR000CWQ/\">experiments:ENCSR000CWQ/</a></td><td><a href=\"https://www.encodeproject.org/libraries/ENCLB794RXE/\">libraries:ENCLB794RXE/</a></td><td>barbara-wold:11581</td></tr><tr><td><a href=\"https://www.encodeproject.org/experiments/ENCSR000CWQ/\">experiments:ENCSR000CWQ/</a></td><td><a href=\"https://www.encodeproject.org/libraries/ENCLB445LWQ/\">libraries:ENCLB445LWQ/</a></td><td>barbara-wold:11582</td></tr><tr><td><a href=\"https://www.encodeproject.org/experiments/ENCSR000CWN/\">experiments:ENCSR000CWN/</a></td><td><a href=\"https://www.encodeproject.org/libraries/ENCLB866FVU/\">libraries:ENCLB866FVU/</a></td><td>barbara-wold:11584</td></tr><tr><td><a href=\"https://www.encodeproject.org/experiments/ENCSR000CWN/\">experiments:ENCSR000CWN/</a></td><td><a href=\"https://www.encodeproject.org/libraries/ENCLB415HFJ/\">libraries:ENCLB415HFJ/</a></td><td>barbara-wold:11585</td></tr><tr><td><a href=\"https://www.encodeproject.org/experiments/ENCSR000EYT/\">experiments:ENCSR000EYT/</a></td><td><a href=\"https://www.encodeproject.org/libraries/ENCLB170HBR/\">libraries:ENCLB170HBR/</a></td><td>barbara-wold:11586</td></tr><tr><td><a href=\"https://www.encodeproject.org/experiments/ENCSR000CWR/\">experiments:ENCSR000CWR/</a></td><td><a href=\"https://www.encodeproject.org/libraries/ENCLB271DFX/\">libraries:ENCLB271DFX/</a></td><td>barbara-wold:11587</td></tr><tr><td><a href=\"https://www.encodeproject.org/experiments/ENCSR000CWR/\">experiments:ENCSR000CWR/</a></td><td><a href=\"https://www.encodeproject.org/libraries/ENCLB224GWZ/\">libraries:ENCLB224GWZ/</a></td><td>barbara-wold:11588</td></tr><tr><td><a href=\"https://www.encodeproject.org/experiments/ENCSR000CWP/\">experiments:ENCSR000CWP/</a></td><td><a href=\"https://www.encodeproject.org/libraries/ENCLB282WJS/\">libraries:ENCLB282WJS/</a></td><td>barbara-wold:11621</td></tr><tr><td><a href=\"https://www.encodeproject.org/experiments/ENCSR000CWO/\">experiments:ENCSR000CWO/</a></td><td><a href=\"https://www.encodeproject.org/libraries/ENCLB379BUZ/\">libraries:ENCLB379BUZ/</a></td><td>barbara-wold:11622</td></tr><tr><td><a href=\"https://www.encodeproject.org/experiments/ENCSR000CWM/\">experiments:ENCSR000CWM/</a></td><td><a href=\"https://www.encodeproject.org/libraries/ENCLB330KCB/\">libraries:ENCLB330KCB/</a></td><td>barbara-wold:12096</td></tr><tr><td><a href=\"https://www.encodeproject.org/experiments/ENCSR000CWM/\">experiments:ENCSR000CWM/</a></td><td><a href=\"https://www.encodeproject.org/libraries/ENCLB308ZDI/\">libraries:ENCLB308ZDI/</a></td><td>barbara-wold:12097</td></tr><tr><td><a href=\"https://www.encodeproject.org/experiments/ENCSR000CWQ/\">experiments:ENCSR000CWQ/</a></td><td><a href=\"https://www.encodeproject.org/libraries/ENCLB849ZXB/\">libraries:ENCLB849ZXB/</a></td><td>barbara-wold:12098</td></tr><tr><td><a href=\"https://www.encodeproject.org/experiments/ENCSR000CWL/\">experiments:ENCSR000CWL/</a></td><td><a href=\"https://www.encodeproject.org/libraries/ENCLB871LCB/\">libraries:ENCLB871LCB/</a></td><td>barbara-wold:SL2970</td></tr><tr><td><a href=\"https://www.encodeproject.org/experiments/ENCSR000CWK/\">experiments:ENCSR000CWK/</a></td><td><a href=\"https://www.encodeproject.org/libraries/ENCLB503AOQ/\">libraries:ENCLB503AOQ/</a></td><td>barbara-wold:SL2971</td></tr></table>"
      ],
      "text/plain": [
       "<rdfmagic.LibRdfResults at 0x7f088ec401d0>"
      ]
     },
     "execution_count": 15,
     "metadata": {},
     "output_type": "execute_result"
    }
   ],
   "source": [
    "%%sparql -m model -c \n",
    "select ?exp ?lib ?alias\n",
    "where {\n",
    "    ?exp a experiment:experiment ;\n",
    "         experiment:replicates ?rep .\n",
    "    ?rep replicate:library ?lib .\n",
    "    ?lib library:aliases ?alias .\n",
    "}\n",
    "order by ?alias"
   ]
  },
  {
   "cell_type": "code",
   "execution_count": 16,
   "metadata": {
    "collapsed": false
   },
   "outputs": [
    {
     "data": {
      "text/html": [
       "<table><tr><td>p</td><td>o</td></tr><tr><td><a href=\"http://www.w3.org/1999/02/22-rdf-syntax-ns#type\">rdf:type</a></td><td><a href=\"https://www.encodeproject.org/profiles/library.json#library\">library:library</a></td></tr><tr><td><a href=\"http://www.w3.org/1999/02/22-rdf-syntax-ns#type\">rdf:type</a></td><td><a href=\"https://www.encodeproject.org/profiles/library.json#item\">library:item</a></td></tr><tr><td><a href=\"https://www.encodeproject.org/profiles/library.json#accession\">library:accession</a></td><td>ENCLB849ZXB</td></tr><tr><td><a href=\"https://www.encodeproject.org/profiles/library.json#aliases\">library:aliases</a></td><td>barbara-wold:12098</td></tr><tr><td><a href=\"https://www.encodeproject.org/profiles/library.json#award\">library:award</a></td><td><a href=\"https://www.encodeproject.org/awards/U54HG004576/\">https://www.encodeproject.org/awards/U54HG004576/</a></td></tr><tr><td><a href=\"https://www.encodeproject.org/profiles/library.json#biosample\">library:biosample</a></td><td><a href=\"https://www.encodeproject.org/biosamples/ENCBS254AYH/\">https://www.encodeproject.org/biosamples/ENCBS254AYH/</a></td></tr><tr><td><a href=\"https://www.encodeproject.org/profiles/library.json#date_created\">library:date_created</a></td><td>2013-12-31T01:24:30.951897+00:00</td></tr><tr><td><a href=\"https://www.encodeproject.org/profiles/library.json#documents\">library:documents</a></td><td><a href=\"https://www.encodeproject.org/documents/174fda30-39a7-4bd0-be00-7e081ff20e87/\">https://www.encodeproject.org/documents/174fda30-39a7-4bd0-be00-7e081ff20e87/</a></td></tr><tr><td><a href=\"https://www.encodeproject.org/profiles/library.json#extraction_method\">library:extraction_method</a></td><td>see document</td></tr><tr><td><a href=\"https://www.encodeproject.org/profiles/library.json#fragmentation_method\">library:fragmentation_method</a></td><td>see document</td></tr><tr><td><a href=\"https://www.encodeproject.org/profiles/library.json#lab\">library:lab</a></td><td><a href=\"https://www.encodeproject.org/labs/barbara-wold/\">https://www.encodeproject.org/labs/barbara-wold/</a></td></tr><tr><td><a href=\"https://www.encodeproject.org/profiles/library.json#library_size_selection_method\">library:library_size_selection_method</a></td><td>see document</td></tr><tr><td><a href=\"https://www.encodeproject.org/profiles/library.json#lysis_method\">library:lysis_method</a></td><td>see document</td></tr><tr><td><a href=\"https://www.encodeproject.org/profiles/library.json#nucleic_acid_term_id\">library:nucleic_acid_term_id</a></td><td><a href=\"http://purl.obolibrary.org/obo/SO_0000871\">http://purl.obolibrary.org/obo/SO_0000871</a></td></tr><tr><td><a href=\"https://www.encodeproject.org/profiles/library.json#nucleic_acid_term_name\">library:nucleic_acid_term_name</a></td><td>polyadenylated mRNA</td></tr><tr><td><a href=\"https://www.encodeproject.org/profiles/library.json#schema_version\">library:schema_version</a></td><td>4</td></tr><tr><td><a href=\"https://www.encodeproject.org/profiles/library.json#size_range\">library:size_range</a></td><td>>200</td></tr><tr><td><a href=\"https://www.encodeproject.org/profiles/library.json#status\">library:status</a></td><td>released</td></tr><tr><td><a href=\"https://www.encodeproject.org/profiles/library.json#strand_specificity\">library:strand_specificity</a></td><td>false</td></tr><tr><td><a href=\"https://www.encodeproject.org/profiles/library.json#submitted_by\">library:submitted_by</a></td><td><a href=\"https://www.encodeproject.org/users/bc5b62f7-ce28-4a1e-b6b3-81c9c5a86d7a/\">https://www.encodeproject.org/users/bc5b62f7-ce28-4a1e-b6b3-81c9c5a86d7a/</a></td></tr><tr><td><a href=\"https://www.encodeproject.org/profiles/library.json#uuid\">library:uuid</a></td><td>ddca7621-7ddc-41b6-a294-9498f0d5fd78</td></tr></table>"
      ],
      "text/plain": [
       "<rdfmagic.LibRdfResults at 0x7f088ec97550>"
      ]
     },
     "execution_count": 16,
     "metadata": {},
     "output_type": "execute_result"
    }
   ],
   "source": [
    "%%sparql -m model \n",
    "select ?p ?o\n",
    "where {\n",
    "   <https://www.encodeproject.org/libraries/ENCLB849ZXB/> ?p ?o .\n",
    "}"
   ]
  },
  {
   "cell_type": "code",
   "execution_count": 17,
   "metadata": {
    "collapsed": false
   },
   "outputs": [
    {
     "data": {
      "text/html": [
       "<table><tr><td>p</td><td>o</td></tr><tr><td><a href=\"http://www.w3.org/1999/02/22-rdf-syntax-ns#type\">rdf:type</a></td><td><a href=\"https://www.encodeproject.org/profiles/experiment.json#experiment\">experiment:experiment</a></td></tr><tr><td><a href=\"http://www.w3.org/1999/02/22-rdf-syntax-ns#type\">rdf:type</a></td><td><a href=\"https://www.encodeproject.org/profiles/experiment.json#dataset\">experiment:dataset</a></td></tr><tr><td><a href=\"http://www.w3.org/1999/02/22-rdf-syntax-ns#type\">rdf:type</a></td><td><a href=\"https://www.encodeproject.org/profiles/experiment.json#item\">experiment:item</a></td></tr><tr><td><a href=\"http://www.w3.org/1999/02/22-rdf-syntax-ns#description\">rdf:description</a></td><td>RNA-seq on human MCF-7</td></tr><tr><td><a href=\"https://www.encodeproject.org/profiles/experiment.json#accession\">experiment:accession</a></td><td>ENCSR000CWQ</td></tr><tr><td><a href=\"https://www.encodeproject.org/profiles/experiment.json#assay_synonyms\">experiment:assay_synonyms</a></td><td>transcription profiling by high throughput sequencing</td></tr><tr><td><a href=\"https://www.encodeproject.org/profiles/experiment.json#assay_synonyms\">experiment:assay_synonyms</a></td><td>RNA-seq assay</td></tr><tr><td><a href=\"https://www.encodeproject.org/profiles/experiment.json#assay_term_id\">experiment:assay_term_id</a></td><td><a href=\"http://purl.obolibrary.org/obo/OBI_0001271\">http://purl.obolibrary.org/obo/OBI_0001271</a></td></tr><tr><td><a href=\"https://www.encodeproject.org/profiles/experiment.json#assay_term_name\">experiment:assay_term_name</a></td><td>RNA-seq</td></tr><tr><td><a href=\"https://www.encodeproject.org/profiles/experiment.json#assembly\">experiment:assembly</a></td><td>hg19</td></tr><tr><td><a href=\"https://www.encodeproject.org/profiles/experiment.json#audit\">experiment:audit</a></td><td>_:b0</td></tr><tr><td><a href=\"https://www.encodeproject.org/profiles/experiment.json#award\">experiment:award</a></td><td><a href=\"https://www.encodeproject.org/awards/U54HG004576/\">https://www.encodeproject.org/awards/U54HG004576/</a></td></tr><tr><td><a href=\"https://www.encodeproject.org/profiles/experiment.json#biosample_synonyms\">experiment:biosample_synonyms</a></td><td>MCF7</td></tr><tr><td><a href=\"https://www.encodeproject.org/profiles/experiment.json#biosample_synonyms\">experiment:biosample_synonyms</a></td><td>MCF7 cell</td></tr><tr><td><a href=\"https://www.encodeproject.org/profiles/experiment.json#biosample_synonyms\">experiment:biosample_synonyms</a></td><td>MCF-7 cell</td></tr><tr><td><a href=\"https://www.encodeproject.org/profiles/experiment.json#biosample_term_id\">experiment:biosample_term_id</a></td><td>EFO:0001203</td></tr><tr><td><a href=\"https://www.encodeproject.org/profiles/experiment.json#biosample_term_name\">experiment:biosample_term_name</a></td><td>MCF-7</td></tr><tr><td><a href=\"https://www.encodeproject.org/profiles/experiment.json#biosample_type\">experiment:biosample_type</a></td><td>immortalized cell line</td></tr><tr><td><a href=\"https://www.encodeproject.org/profiles/experiment.json#dataset_type\">experiment:dataset_type</a></td><td>experiment</td></tr><tr><td><a href=\"https://www.encodeproject.org/profiles/experiment.json#date_created\">experiment:date_created</a></td><td>2013-12-12T06:49:37.401720+00:00</td></tr><tr><td><a href=\"https://www.encodeproject.org/profiles/experiment.json#date_released\">experiment:date_released</a></td><td>2012-01-17</td></tr><tr><td><a href=\"https://www.encodeproject.org/profiles/experiment.json#dbxrefs\">experiment:dbxrefs</a></td><td>UCSC-ENCODE-hg19:wgEncodeEH001421</td></tr><tr><td><a href=\"https://www.encodeproject.org/profiles/experiment.json#dbxrefs\">experiment:dbxrefs</a></td><td>GEO:GSM958745</td></tr><tr><td><a href=\"https://www.encodeproject.org/profiles/experiment.json#files\">experiment:files</a></td><td><a href=\"https://www.encodeproject.org/files/ENCFF000EAX/\">files:ENCFF000EAX/</a></td></tr><tr><td><a href=\"https://www.encodeproject.org/profiles/experiment.json#files\">experiment:files</a></td><td><a href=\"https://www.encodeproject.org/files/ENCFF000EAZ/\">files:ENCFF000EAZ/</a></td></tr><tr><td><a href=\"https://www.encodeproject.org/profiles/experiment.json#files\">experiment:files</a></td><td><a href=\"https://www.encodeproject.org/files/ENCFF000EBC/\">files:ENCFF000EBC/</a></td></tr><tr><td><a href=\"https://www.encodeproject.org/profiles/experiment.json#files\">experiment:files</a></td><td><a href=\"https://www.encodeproject.org/files/ENCFF000EBE/\">files:ENCFF000EBE/</a></td></tr><tr><td><a href=\"https://www.encodeproject.org/profiles/experiment.json#files\">experiment:files</a></td><td><a href=\"https://www.encodeproject.org/files/ENCFF000EBH/\">files:ENCFF000EBH/</a></td></tr><tr><td><a href=\"https://www.encodeproject.org/profiles/experiment.json#files\">experiment:files</a></td><td><a href=\"https://www.encodeproject.org/files/ENCFF000EBJ/\">files:ENCFF000EBJ/</a></td></tr><tr><td><a href=\"https://www.encodeproject.org/profiles/experiment.json#files\">experiment:files</a></td><td><a href=\"https://www.encodeproject.org/files/ENCFF000EBL/\">files:ENCFF000EBL/</a></td></tr><tr><td><a href=\"https://www.encodeproject.org/profiles/experiment.json#files\">experiment:files</a></td><td><a href=\"https://www.encodeproject.org/files/ENCFF000EBO/\">files:ENCFF000EBO/</a></td></tr><tr><td><a href=\"https://www.encodeproject.org/profiles/experiment.json#files\">experiment:files</a></td><td><a href=\"https://www.encodeproject.org/files/ENCFF000EBQ/\">files:ENCFF000EBQ/</a></td></tr><tr><td><a href=\"https://www.encodeproject.org/profiles/experiment.json#files\">experiment:files</a></td><td><a href=\"https://www.encodeproject.org/files/ENCFF000EBT/\">files:ENCFF000EBT/</a></td></tr><tr><td><a href=\"https://www.encodeproject.org/profiles/experiment.json#files\">experiment:files</a></td><td><a href=\"https://www.encodeproject.org/files/ENCFF000EBU/\">files:ENCFF000EBU/</a></td></tr><tr><td><a href=\"https://www.encodeproject.org/profiles/experiment.json#files\">experiment:files</a></td><td><a href=\"https://www.encodeproject.org/files/ENCFF000EBW/\">files:ENCFF000EBW/</a></td></tr><tr><td><a href=\"https://www.encodeproject.org/profiles/experiment.json#files\">experiment:files</a></td><td><a href=\"https://www.encodeproject.org/files/ENCFF000EBY/\">files:ENCFF000EBY/</a></td></tr><tr><td><a href=\"https://www.encodeproject.org/profiles/experiment.json#files\">experiment:files</a></td><td><a href=\"https://www.encodeproject.org/files/ENCFF000ECB/\">files:ENCFF000ECB/</a></td></tr><tr><td><a href=\"https://www.encodeproject.org/profiles/experiment.json#files\">experiment:files</a></td><td><a href=\"https://www.encodeproject.org/files/ENCFF000ECD/\">files:ENCFF000ECD/</a></td></tr><tr><td><a href=\"https://www.encodeproject.org/profiles/experiment.json#files\">experiment:files</a></td><td><a href=\"https://www.encodeproject.org/files/ENCFF000ECE/\">files:ENCFF000ECE/</a></td></tr><tr><td><a href=\"https://www.encodeproject.org/profiles/experiment.json#files\">experiment:files</a></td><td><a href=\"https://www.encodeproject.org/files/ENCFF000ECF/\">files:ENCFF000ECF/</a></td></tr><tr><td><a href=\"https://www.encodeproject.org/profiles/experiment.json#files\">experiment:files</a></td><td><a href=\"https://www.encodeproject.org/files/ENCFF000ECG/\">files:ENCFF000ECG/</a></td></tr><tr><td><a href=\"https://www.encodeproject.org/profiles/experiment.json#files\">experiment:files</a></td><td><a href=\"https://www.encodeproject.org/files/ENCFF000ECJ/\">files:ENCFF000ECJ/</a></td></tr><tr><td><a href=\"https://www.encodeproject.org/profiles/experiment.json#files\">experiment:files</a></td><td><a href=\"https://www.encodeproject.org/files/ENCFF000ECL/\">files:ENCFF000ECL/</a></td></tr><tr><td><a href=\"https://www.encodeproject.org/profiles/experiment.json#files\">experiment:files</a></td><td><a href=\"https://www.encodeproject.org/files/ENCFF000ECM/\">files:ENCFF000ECM/</a></td></tr><tr><td><a href=\"https://www.encodeproject.org/profiles/experiment.json#files\">experiment:files</a></td><td><a href=\"https://www.encodeproject.org/files/ENCFF000ECN/\">files:ENCFF000ECN/</a></td></tr><tr><td><a href=\"https://www.encodeproject.org/profiles/experiment.json#files\">experiment:files</a></td><td><a href=\"https://www.encodeproject.org/files/ENCFF000ECO/\">files:ENCFF000ECO/</a></td></tr><tr><td><a href=\"https://www.encodeproject.org/profiles/experiment.json#files\">experiment:files</a></td><td><a href=\"https://www.encodeproject.org/files/ENCFF000ECP/\">files:ENCFF000ECP/</a></td></tr><tr><td><a href=\"https://www.encodeproject.org/profiles/experiment.json#files\">experiment:files</a></td><td><a href=\"https://www.encodeproject.org/files/ENCFF000ECQ/\">files:ENCFF000ECQ/</a></td></tr><tr><td><a href=\"https://www.encodeproject.org/profiles/experiment.json#files\">experiment:files</a></td><td><a href=\"https://www.encodeproject.org/files/ENCFF000ECS/\">files:ENCFF000ECS/</a></td></tr><tr><td><a href=\"https://www.encodeproject.org/profiles/experiment.json#files\">experiment:files</a></td><td><a href=\"https://www.encodeproject.org/files/ENCFF000ECV/\">files:ENCFF000ECV/</a></td></tr><tr><td><a href=\"https://www.encodeproject.org/profiles/experiment.json#files\">experiment:files</a></td><td><a href=\"https://www.encodeproject.org/files/ENCFF000ECX/\">files:ENCFF000ECX/</a></td></tr><tr><td><a href=\"https://www.encodeproject.org/profiles/experiment.json#files\">experiment:files</a></td><td><a href=\"https://www.encodeproject.org/files/ENCFF000ECZ/\">files:ENCFF000ECZ/</a></td></tr><tr><td><a href=\"https://www.encodeproject.org/profiles/experiment.json#files\">experiment:files</a></td><td><a href=\"https://www.encodeproject.org/files/ENCFF000EDB/\">files:ENCFF000EDB/</a></td></tr><tr><td><a href=\"https://www.encodeproject.org/profiles/experiment.json#files\">experiment:files</a></td><td><a href=\"https://www.encodeproject.org/files/ENCFF000EDE/\">files:ENCFF000EDE/</a></td></tr><tr><td><a href=\"https://www.encodeproject.org/profiles/experiment.json#files\">experiment:files</a></td><td><a href=\"https://www.encodeproject.org/files/ENCFF000EDG/\">files:ENCFF000EDG/</a></td></tr><tr><td><a href=\"https://www.encodeproject.org/profiles/experiment.json#files\">experiment:files</a></td><td><a href=\"https://www.encodeproject.org/files/ENCFF000EDH/\">files:ENCFF000EDH/</a></td></tr><tr><td><a href=\"https://www.encodeproject.org/profiles/experiment.json#files\">experiment:files</a></td><td><a href=\"https://www.encodeproject.org/files/ENCFF000EDJ/\">files:ENCFF000EDJ/</a></td></tr><tr><td><a href=\"https://www.encodeproject.org/profiles/experiment.json#files\">experiment:files</a></td><td><a href=\"https://www.encodeproject.org/files/ENCFF000EDL/\">files:ENCFF000EDL/</a></td></tr><tr><td><a href=\"https://www.encodeproject.org/profiles/experiment.json#files\">experiment:files</a></td><td><a href=\"https://www.encodeproject.org/files/ENCFF000EDM/\">files:ENCFF000EDM/</a></td></tr><tr><td><a href=\"https://www.encodeproject.org/profiles/experiment.json#files\">experiment:files</a></td><td><a href=\"https://www.encodeproject.org/files/ENCFF000EBI/\">files:ENCFF000EBI/</a></td></tr><tr><td><a href=\"https://www.encodeproject.org/profiles/experiment.json#files\">experiment:files</a></td><td><a href=\"https://www.encodeproject.org/files/ENCFF000EBR/\">files:ENCFF000EBR/</a></td></tr><tr><td><a href=\"https://www.encodeproject.org/profiles/experiment.json#files\">experiment:files</a></td><td><a href=\"https://www.encodeproject.org/files/ENCFF000EBP/\">files:ENCFF000EBP/</a></td></tr><tr><td><a href=\"https://www.encodeproject.org/profiles/experiment.json#files\">experiment:files</a></td><td><a href=\"https://www.encodeproject.org/files/ENCFF000EBF/\">files:ENCFF000EBF/</a></td></tr><tr><td><a href=\"https://www.encodeproject.org/profiles/experiment.json#files\">experiment:files</a></td><td><a href=\"https://www.encodeproject.org/files/ENCFF000EBM/\">files:ENCFF000EBM/</a></td></tr><tr><td><a href=\"https://www.encodeproject.org/profiles/experiment.json#files\">experiment:files</a></td><td><a href=\"https://www.encodeproject.org/files/ENCFF000EBN/\">files:ENCFF000EBN/</a></td></tr><tr><td><a href=\"https://www.encodeproject.org/profiles/experiment.json#files\">experiment:files</a></td><td><a href=\"https://www.encodeproject.org/files/ENCFF000EBG/\">files:ENCFF000EBG/</a></td></tr><tr><td><a href=\"https://www.encodeproject.org/profiles/experiment.json#files\">experiment:files</a></td><td><a href=\"https://www.encodeproject.org/files/ENCFF000EBK/\">files:ENCFF000EBK/</a></td></tr><tr><td><a href=\"https://www.encodeproject.org/profiles/experiment.json#files\">experiment:files</a></td><td><a href=\"https://www.encodeproject.org/files/ENCFF500QKJ/\">files:ENCFF500QKJ/</a></td></tr><tr><td><a href=\"https://www.encodeproject.org/profiles/experiment.json#files\">experiment:files</a></td><td><a href=\"https://www.encodeproject.org/files/ENCFF399IMQ/\">files:ENCFF399IMQ/</a></td></tr><tr><td><a href=\"https://www.encodeproject.org/profiles/experiment.json#files\">experiment:files</a></td><td><a href=\"https://www.encodeproject.org/files/ENCFF828LOZ/\">files:ENCFF828LOZ/</a></td></tr><tr><td><a href=\"https://www.encodeproject.org/profiles/experiment.json#hub\">experiment:hub</a></td><td>/experiments/ENCSR000CWQ/@@hub/hub.txt</td></tr><tr><td><a href=\"https://www.encodeproject.org/profiles/experiment.json#lab\">experiment:lab</a></td><td><a href=\"https://www.encodeproject.org/labs/barbara-wold/\">https://www.encodeproject.org/labs/barbara-wold/</a></td></tr><tr><td><a href=\"https://www.encodeproject.org/profiles/experiment.json#month_released\">experiment:month_released</a></td><td>January, 2012</td></tr><tr><td><a href=\"https://www.encodeproject.org/profiles/experiment.json#original_files\">experiment:original_files</a></td><td><a href=\"https://www.encodeproject.org/files/ENCFF000EAX/\">files:ENCFF000EAX/</a></td></tr><tr><td><a href=\"https://www.encodeproject.org/profiles/experiment.json#original_files\">experiment:original_files</a></td><td><a href=\"https://www.encodeproject.org/files/ENCFF000EAZ/\">files:ENCFF000EAZ/</a></td></tr><tr><td><a href=\"https://www.encodeproject.org/profiles/experiment.json#original_files\">experiment:original_files</a></td><td><a href=\"https://www.encodeproject.org/files/ENCFF000EBC/\">files:ENCFF000EBC/</a></td></tr><tr><td><a href=\"https://www.encodeproject.org/profiles/experiment.json#original_files\">experiment:original_files</a></td><td><a href=\"https://www.encodeproject.org/files/ENCFF000EBE/\">files:ENCFF000EBE/</a></td></tr><tr><td><a href=\"https://www.encodeproject.org/profiles/experiment.json#original_files\">experiment:original_files</a></td><td><a href=\"https://www.encodeproject.org/files/ENCFF000EBH/\">files:ENCFF000EBH/</a></td></tr><tr><td><a href=\"https://www.encodeproject.org/profiles/experiment.json#original_files\">experiment:original_files</a></td><td><a href=\"https://www.encodeproject.org/files/ENCFF000EBJ/\">files:ENCFF000EBJ/</a></td></tr><tr><td><a href=\"https://www.encodeproject.org/profiles/experiment.json#original_files\">experiment:original_files</a></td><td><a href=\"https://www.encodeproject.org/files/ENCFF000EBL/\">files:ENCFF000EBL/</a></td></tr><tr><td><a href=\"https://www.encodeproject.org/profiles/experiment.json#original_files\">experiment:original_files</a></td><td><a href=\"https://www.encodeproject.org/files/ENCFF000EBO/\">files:ENCFF000EBO/</a></td></tr><tr><td><a href=\"https://www.encodeproject.org/profiles/experiment.json#original_files\">experiment:original_files</a></td><td><a href=\"https://www.encodeproject.org/files/ENCFF000EBQ/\">files:ENCFF000EBQ/</a></td></tr><tr><td><a href=\"https://www.encodeproject.org/profiles/experiment.json#original_files\">experiment:original_files</a></td><td><a href=\"https://www.encodeproject.org/files/ENCFF000EBT/\">files:ENCFF000EBT/</a></td></tr><tr><td><a href=\"https://www.encodeproject.org/profiles/experiment.json#original_files\">experiment:original_files</a></td><td><a href=\"https://www.encodeproject.org/files/ENCFF000EBU/\">files:ENCFF000EBU/</a></td></tr><tr><td><a href=\"https://www.encodeproject.org/profiles/experiment.json#original_files\">experiment:original_files</a></td><td><a href=\"https://www.encodeproject.org/files/ENCFF000EBW/\">files:ENCFF000EBW/</a></td></tr><tr><td><a href=\"https://www.encodeproject.org/profiles/experiment.json#original_files\">experiment:original_files</a></td><td><a href=\"https://www.encodeproject.org/files/ENCFF000EBY/\">files:ENCFF000EBY/</a></td></tr><tr><td><a href=\"https://www.encodeproject.org/profiles/experiment.json#original_files\">experiment:original_files</a></td><td><a href=\"https://www.encodeproject.org/files/ENCFF000ECB/\">files:ENCFF000ECB/</a></td></tr><tr><td><a href=\"https://www.encodeproject.org/profiles/experiment.json#original_files\">experiment:original_files</a></td><td><a href=\"https://www.encodeproject.org/files/ENCFF000ECD/\">files:ENCFF000ECD/</a></td></tr><tr><td><a href=\"https://www.encodeproject.org/profiles/experiment.json#original_files\">experiment:original_files</a></td><td><a href=\"https://www.encodeproject.org/files/ENCFF000ECE/\">files:ENCFF000ECE/</a></td></tr><tr><td><a href=\"https://www.encodeproject.org/profiles/experiment.json#original_files\">experiment:original_files</a></td><td><a href=\"https://www.encodeproject.org/files/ENCFF000ECF/\">files:ENCFF000ECF/</a></td></tr><tr><td><a href=\"https://www.encodeproject.org/profiles/experiment.json#original_files\">experiment:original_files</a></td><td><a href=\"https://www.encodeproject.org/files/ENCFF000ECG/\">files:ENCFF000ECG/</a></td></tr><tr><td><a href=\"https://www.encodeproject.org/profiles/experiment.json#original_files\">experiment:original_files</a></td><td><a href=\"https://www.encodeproject.org/files/ENCFF000ECH/\">files:ENCFF000ECH/</a></td></tr><tr><td><a href=\"https://www.encodeproject.org/profiles/experiment.json#original_files\">experiment:original_files</a></td><td><a href=\"https://www.encodeproject.org/files/ENCFF000ECI/\">files:ENCFF000ECI/</a></td></tr><tr><td><a href=\"https://www.encodeproject.org/profiles/experiment.json#original_files\">experiment:original_files</a></td><td><a href=\"https://www.encodeproject.org/files/ENCFF000ECJ/\">files:ENCFF000ECJ/</a></td></tr><tr><td><a href=\"https://www.encodeproject.org/profiles/experiment.json#original_files\">experiment:original_files</a></td><td><a href=\"https://www.encodeproject.org/files/ENCFF000ECK/\">files:ENCFF000ECK/</a></td></tr><tr><td><a href=\"https://www.encodeproject.org/profiles/experiment.json#original_files\">experiment:original_files</a></td><td><a href=\"https://www.encodeproject.org/files/ENCFF000ECL/\">files:ENCFF000ECL/</a></td></tr><tr><td><a href=\"https://www.encodeproject.org/profiles/experiment.json#original_files\">experiment:original_files</a></td><td><a href=\"https://www.encodeproject.org/files/ENCFF000ECM/\">files:ENCFF000ECM/</a></td></tr><tr><td><a href=\"https://www.encodeproject.org/profiles/experiment.json#original_files\">experiment:original_files</a></td><td><a href=\"https://www.encodeproject.org/files/ENCFF000ECN/\">files:ENCFF000ECN/</a></td></tr><tr><td><a href=\"https://www.encodeproject.org/profiles/experiment.json#original_files\">experiment:original_files</a></td><td><a href=\"https://www.encodeproject.org/files/ENCFF000ECO/\">files:ENCFF000ECO/</a></td></tr><tr><td><a href=\"https://www.encodeproject.org/profiles/experiment.json#original_files\">experiment:original_files</a></td><td><a href=\"https://www.encodeproject.org/files/ENCFF000ECP/\">files:ENCFF000ECP/</a></td></tr><tr><td><a href=\"https://www.encodeproject.org/profiles/experiment.json#original_files\">experiment:original_files</a></td><td><a href=\"https://www.encodeproject.org/files/ENCFF000ECQ/\">files:ENCFF000ECQ/</a></td></tr><tr><td><a href=\"https://www.encodeproject.org/profiles/experiment.json#original_files\">experiment:original_files</a></td><td><a href=\"https://www.encodeproject.org/files/ENCFF000ECS/\">files:ENCFF000ECS/</a></td></tr><tr><td><a href=\"https://www.encodeproject.org/profiles/experiment.json#original_files\">experiment:original_files</a></td><td><a href=\"https://www.encodeproject.org/files/ENCFF000ECV/\">files:ENCFF000ECV/</a></td></tr><tr><td><a href=\"https://www.encodeproject.org/profiles/experiment.json#original_files\">experiment:original_files</a></td><td><a href=\"https://www.encodeproject.org/files/ENCFF000ECX/\">files:ENCFF000ECX/</a></td></tr><tr><td><a href=\"https://www.encodeproject.org/profiles/experiment.json#original_files\">experiment:original_files</a></td><td><a href=\"https://www.encodeproject.org/files/ENCFF000ECZ/\">files:ENCFF000ECZ/</a></td></tr><tr><td><a href=\"https://www.encodeproject.org/profiles/experiment.json#original_files\">experiment:original_files</a></td><td><a href=\"https://www.encodeproject.org/files/ENCFF000EDB/\">files:ENCFF000EDB/</a></td></tr><tr><td><a href=\"https://www.encodeproject.org/profiles/experiment.json#original_files\">experiment:original_files</a></td><td><a href=\"https://www.encodeproject.org/files/ENCFF000EDE/\">files:ENCFF000EDE/</a></td></tr><tr><td><a href=\"https://www.encodeproject.org/profiles/experiment.json#original_files\">experiment:original_files</a></td><td><a href=\"https://www.encodeproject.org/files/ENCFF000EDG/\">files:ENCFF000EDG/</a></td></tr><tr><td><a href=\"https://www.encodeproject.org/profiles/experiment.json#original_files\">experiment:original_files</a></td><td><a href=\"https://www.encodeproject.org/files/ENCFF000EDH/\">files:ENCFF000EDH/</a></td></tr><tr><td><a href=\"https://www.encodeproject.org/profiles/experiment.json#original_files\">experiment:original_files</a></td><td><a href=\"https://www.encodeproject.org/files/ENCFF000EDI/\">files:ENCFF000EDI/</a></td></tr><tr><td><a href=\"https://www.encodeproject.org/profiles/experiment.json#original_files\">experiment:original_files</a></td><td><a href=\"https://www.encodeproject.org/files/ENCFF000EDJ/\">files:ENCFF000EDJ/</a></td></tr><tr><td><a href=\"https://www.encodeproject.org/profiles/experiment.json#original_files\">experiment:original_files</a></td><td><a href=\"https://www.encodeproject.org/files/ENCFF000EDK/\">files:ENCFF000EDK/</a></td></tr><tr><td><a href=\"https://www.encodeproject.org/profiles/experiment.json#original_files\">experiment:original_files</a></td><td><a href=\"https://www.encodeproject.org/files/ENCFF000EDL/\">files:ENCFF000EDL/</a></td></tr><tr><td><a href=\"https://www.encodeproject.org/profiles/experiment.json#original_files\">experiment:original_files</a></td><td><a href=\"https://www.encodeproject.org/files/ENCFF000EDM/\">files:ENCFF000EDM/</a></td></tr><tr><td><a href=\"https://www.encodeproject.org/profiles/experiment.json#original_files\">experiment:original_files</a></td><td><a href=\"https://www.encodeproject.org/files/ENCFF000EBI/\">files:ENCFF000EBI/</a></td></tr><tr><td><a href=\"https://www.encodeproject.org/profiles/experiment.json#original_files\">experiment:original_files</a></td><td><a href=\"https://www.encodeproject.org/files/ENCFF000EBR/\">files:ENCFF000EBR/</a></td></tr><tr><td><a href=\"https://www.encodeproject.org/profiles/experiment.json#original_files\">experiment:original_files</a></td><td><a href=\"https://www.encodeproject.org/files/ENCFF000EBP/\">files:ENCFF000EBP/</a></td></tr><tr><td><a href=\"https://www.encodeproject.org/profiles/experiment.json#original_files\">experiment:original_files</a></td><td><a href=\"https://www.encodeproject.org/files/ENCFF000EBF/\">files:ENCFF000EBF/</a></td></tr><tr><td><a href=\"https://www.encodeproject.org/profiles/experiment.json#original_files\">experiment:original_files</a></td><td><a href=\"https://www.encodeproject.org/files/ENCFF000EBM/\">files:ENCFF000EBM/</a></td></tr><tr><td><a href=\"https://www.encodeproject.org/profiles/experiment.json#original_files\">experiment:original_files</a></td><td><a href=\"https://www.encodeproject.org/files/ENCFF000EBN/\">files:ENCFF000EBN/</a></td></tr><tr><td><a href=\"https://www.encodeproject.org/profiles/experiment.json#original_files\">experiment:original_files</a></td><td><a href=\"https://www.encodeproject.org/files/ENCFF000EBG/\">files:ENCFF000EBG/</a></td></tr><tr><td><a href=\"https://www.encodeproject.org/profiles/experiment.json#original_files\">experiment:original_files</a></td><td><a href=\"https://www.encodeproject.org/files/ENCFF000EBK/\">files:ENCFF000EBK/</a></td></tr><tr><td><a href=\"https://www.encodeproject.org/profiles/experiment.json#original_files\">experiment:original_files</a></td><td><a href=\"https://www.encodeproject.org/files/ENCFF500QKJ/\">files:ENCFF500QKJ/</a></td></tr><tr><td><a href=\"https://www.encodeproject.org/profiles/experiment.json#original_files\">experiment:original_files</a></td><td><a href=\"https://www.encodeproject.org/files/ENCFF399IMQ/\">files:ENCFF399IMQ/</a></td></tr><tr><td><a href=\"https://www.encodeproject.org/profiles/experiment.json#original_files\">experiment:original_files</a></td><td><a href=\"https://www.encodeproject.org/files/ENCFF828LOZ/\">files:ENCFF828LOZ/</a></td></tr><tr><td><a href=\"https://www.encodeproject.org/profiles/experiment.json#replicates\">experiment:replicates</a></td><td><a href=\"https://www.encodeproject.org/replicates/228a7518-9c4c-44b2-a114-37221b08586d/\">https://www.encodeproject.org/replicates/228a7518-9c4c-44b2-a114-37221b08586d/</a></td></tr><tr><td><a href=\"https://www.encodeproject.org/profiles/experiment.json#replicates\">experiment:replicates</a></td><td><a href=\"https://www.encodeproject.org/replicates/2555af61-a810-4dae-b876-effb1a94e246/\">https://www.encodeproject.org/replicates/2555af61-a810-4dae-b876-effb1a94e246/</a></td></tr><tr><td><a href=\"https://www.encodeproject.org/profiles/experiment.json#replicates\">experiment:replicates</a></td><td><a href=\"https://www.encodeproject.org/replicates/eeb78642-b06d-4658-82e6-b349bdf738b9/\">https://www.encodeproject.org/replicates/eeb78642-b06d-4658-82e6-b349bdf738b9/</a></td></tr><tr><td><a href=\"https://www.encodeproject.org/profiles/experiment.json#revoked_files\">experiment:revoked_files</a></td><td>/files/ENCFF000ECH/</td></tr><tr><td><a href=\"https://www.encodeproject.org/profiles/experiment.json#revoked_files\">experiment:revoked_files</a></td><td>/files/ENCFF000ECI/</td></tr><tr><td><a href=\"https://www.encodeproject.org/profiles/experiment.json#revoked_files\">experiment:revoked_files</a></td><td>/files/ENCFF000ECK/</td></tr><tr><td><a href=\"https://www.encodeproject.org/profiles/experiment.json#revoked_files\">experiment:revoked_files</a></td><td>/files/ENCFF000EDI/</td></tr><tr><td><a href=\"https://www.encodeproject.org/profiles/experiment.json#revoked_files\">experiment:revoked_files</a></td><td>/files/ENCFF000EDK/</td></tr><tr><td><a href=\"https://www.encodeproject.org/profiles/experiment.json#revoked_files\">experiment:revoked_files</a></td><td><a href=\"https://www.encodeproject.org/files/ENCFF000ECH/\">files:ENCFF000ECH/</a></td></tr><tr><td><a href=\"https://www.encodeproject.org/profiles/experiment.json#revoked_files\">experiment:revoked_files</a></td><td><a href=\"https://www.encodeproject.org/files/ENCFF000ECI/\">files:ENCFF000ECI/</a></td></tr><tr><td><a href=\"https://www.encodeproject.org/profiles/experiment.json#revoked_files\">experiment:revoked_files</a></td><td><a href=\"https://www.encodeproject.org/files/ENCFF000ECK/\">files:ENCFF000ECK/</a></td></tr><tr><td><a href=\"https://www.encodeproject.org/profiles/experiment.json#revoked_files\">experiment:revoked_files</a></td><td><a href=\"https://www.encodeproject.org/files/ENCFF000EDI/\">files:ENCFF000EDI/</a></td></tr><tr><td><a href=\"https://www.encodeproject.org/profiles/experiment.json#revoked_files\">experiment:revoked_files</a></td><td><a href=\"https://www.encodeproject.org/files/ENCFF000EDK/\">files:ENCFF000EDK/</a></td></tr><tr><td><a href=\"https://www.encodeproject.org/profiles/experiment.json#schema_version\">experiment:schema_version</a></td><td>6</td></tr><tr><td><a href=\"https://www.encodeproject.org/profiles/experiment.json#status\">experiment:status</a></td><td>released</td></tr><tr><td><a href=\"https://www.encodeproject.org/profiles/experiment.json#submitted_by\">experiment:submitted_by</a></td><td><a href=\"https://www.encodeproject.org/users/bc5b62f7-ce28-4a1e-b6b3-81c9c5a86d7a/\">https://www.encodeproject.org/users/bc5b62f7-ce28-4a1e-b6b3-81c9c5a86d7a/</a></td></tr><tr><td><a href=\"https://www.encodeproject.org/profiles/experiment.json#uuid\">experiment:uuid</a></td><td>ed03fc20-c1a7-4c3b-bdd9-07ec957dd13b</td></tr><tr><td><a href=\"https://www.encodeproject.org/profiles/experiment.json#visualize_ucsc\">experiment:visualize_ucsc</a></td><td>http://genome.ucsc.edu/cgi-bin/hgHubConnect?hgHub_do_redirect=on&hgHubConnect.remakeTrackHub=on&hgHub_do_firstDb=1&hubUrl=https://www.encodeproject.org/experiments/ENCSR000CWQ/@@hub/hub.txt</td></tr></table>"
      ],
      "text/plain": [
       "<rdfmagic.LibRdfResults at 0x7f088ec67fd0>"
      ]
     },
     "execution_count": 17,
     "metadata": {},
     "output_type": "execute_result"
    }
   ],
   "source": [
    "%%sparql -m model \n",
    "select ?p ?o\n",
    "where {\n",
    "   <https://www.encodeproject.org/experiments/ENCSR000CWQ/> ?p ?o .\n",
    "}"
   ]
  },
  {
   "cell_type": "code",
   "execution_count": null,
   "metadata": {
    "collapsed": true
   },
   "outputs": [],
   "source": []
  }
 ],
 "metadata": {
  "kernelspec": {
   "display_name": "Python 3",
   "language": "python",
   "name": "python3"
  },
  "language_info": {
   "codemirror_mode": {
    "name": "ipython",
    "version": 3
   },
   "file_extension": ".py",
   "mimetype": "text/x-python",
   "name": "python",
   "nbconvert_exporter": "python",
   "pygments_lexer": "ipython3",
   "version": "3.4.3+"
  }
 },
 "nbformat": 4,
 "nbformat_minor": 0
}
