{
 "metadata": {
  "name": "",
  "signature": "sha256:0e11d7e100def668e3f9147efe195c01f64dcb18029b5199fe824e0da61c177e"
 },
 "nbformat": 3,
 "nbformat_minor": 0,
 "worksheets": [
  {
   "cells": [
    {
     "cell_type": "heading",
     "level": 1,
     "metadata": {},
     "source": [
      "Introduction"
     ]
    },
    {
     "cell_type": "markdown",
     "metadata": {},
     "source": [
      "we need to register a large number of proposed experiments so the various labs know who is working on what."
     ]
    },
    {
     "cell_type": "code",
     "collapsed": false,
     "input": [
      "import gcat\n",
      "import jsonschema\n",
      "import pandas\n",
      "import requests\n",
      "from curation_common import *\n",
      "from IPython import display"
     ],
     "language": "python",
     "metadata": {},
     "outputs": [],
     "prompt_number": 1
    },
    {
     "cell_type": "code",
     "collapsed": false,
     "input": [
      "server = ENCODED('www.encodedcc.org')\n",
      "server.load_netrc()"
     ],
     "language": "python",
     "metadata": {},
     "outputs": [],
     "prompt_number": 2
    },
    {
     "cell_type": "code",
     "collapsed": false,
     "input": [
      "schemas = {\n",
      " '/experiments/': server.get_json('/profiles/experiment.json'),\n",
      " '/libraries/': server.get_json('/profiles/library.json'),\n",
      " '/replicates/': server.get_json('/profiles/replicate.json'),\n",
      " '/biosamples/': server.get_json('/profiles/biosample.json'),\n",
      "}"
     ],
     "language": "python",
     "metadata": {},
     "outputs": [],
     "prompt_number": 3
    },
    {
     "cell_type": "code",
     "collapsed": false,
     "input": [
      "book_name = 'Proposed ENCODE3 Experiments'"
     ],
     "language": "python",
     "metadata": {},
     "outputs": [],
     "prompt_number": 4
    },
    {
     "cell_type": "code",
     "collapsed": false,
     "input": [
      "def list_sheets(book_name):\n",
      "    book = gcat.get_file(book_name, fmt='pandas_excel')\n",
      "    return book.sheet_names\n",
      "list_sheets(book_name)"
     ],
     "language": "python",
     "metadata": {},
     "outputs": [
      {
       "metadata": {},
       "output_type": "pyout",
       "prompt_number": 5,
       "text": [
        "[u'RNA-Seq Proposed', u'CHIP-Proposed', u'Current']"
       ]
      }
     ],
     "prompt_number": 5
    },
    {
     "cell_type": "code",
     "collapsed": false,
     "input": [
      "def post(collection, data):\n",
      "    try:\n",
      "        response =  server.post_json(collection, data)\n",
      "        obj = response['@graph'][0]\n",
      "        return obj['@id']\n",
      "    except requests.HTTPError as e:\n",
      "        print('exception: {}'.format(e))\n",
      "        display.display_pretty(data)\n"
     ],
     "language": "python",
     "metadata": {},
     "outputs": [],
     "prompt_number": 6
    },
    {
     "cell_type": "code",
     "collapsed": false,
     "input": [
      "def parse_sheet_array_type(value):\n",
      "    return value.split(', ')\n",
      "\n",
      "def parse_sheet_integer_type(value):\n",
      "    return int(value)\n",
      "\n",
      "def parse_sheet_boolean_type(value):\n",
      "    return bool(value)\n",
      "\n",
      "def parse_sheet_timestamp_type(value):\n",
      "    return value.strftime('%Y-%m-%d')\n",
      "\n",
      "def parse_sheet_string_type(value):\n",
      "    return unicode(value)\n",
      "\n",
      "parsers = {\n",
      "  'array': parse_sheet_array_type,\n",
      "  'boolean': parse_sheet_boolean_type,\n",
      "  'integer': parse_sheet_integer_type,\n",
      "  'date': parse_sheet_timestamp_type,\n",
      "}"
     ],
     "language": "python",
     "metadata": {},
     "outputs": [],
     "prompt_number": 7
    },
    {
     "cell_type": "code",
     "collapsed": false,
     "input": [
      "def parse_sheet_cell(header, value):\n",
      "    header = header.split(':')\n",
      "    parse_function = parse_sheet_string_type\n",
      "    if len(header) > 1:\n",
      "        if header[-1] == 'skip':\n",
      "            return None, None\n",
      "        parse_function = parsers[header[1]]\n",
      "    return header[0], parse_function(value)"
     ],
     "language": "python",
     "metadata": {},
     "outputs": [],
     "prompt_number": 8
    },
    {
     "cell_type": "code",
     "collapsed": false,
     "input": [
      "def post_experiments(book_name, sheet_name, dry_run=True):\n",
      "    book = gcat.get_file(book_name, fmt='pandas_excel')\n",
      "    experiments = book.parse(sheet_name, header=0)\n",
      "    collection = '/experiments/'\n",
      "    registered = []\n",
      "    for i in experiments.index:\n",
      "        row = experiments.ix[i]\n",
      "        columns = experiments.columns\n",
      "        if pandas.isnull(row['accession']) or row['accession'] == 'go':\n",
      "            new_object = {}\n",
      "            for k in columns:\n",
      "                if pandas.notnull(row[k]):\n",
      "                    name, value = parse_sheet_cell(k, row[k])\n",
      "                    if name is None:\n",
      "                        continue\n",
      "                    elif name == 'accession':\n",
      "                        continue\n",
      "                    new_object[name] = value\n",
      "\n",
      "            jsonschema.validate(new_object, schemas[collection])\n",
      "            if not dry_run:\n",
      "                accession = post(collection, new_object)\n",
      "                state = 'post'\n",
      "            else:\n",
      "                accession = None\n",
      "                state = 'fake'\n",
      "            print('{} row {} ({}) -> {}'.format(state, i, new_object.get('description', None), accession))\n",
      "            registered.append((accession, new_object))\n",
      "        else:\n",
      "            print('skip row {}'.format(i))\n",
      "    return registered\n",
      "\n",
      "registered = post_experiments(book_name, 'RNA-Seq Proposed', dry_run=False)"
     ],
     "language": "python",
     "metadata": {},
     "outputs": [
      {
       "output_type": "stream",
       "stream": "stdout",
       "text": [
        "post row 0 (RNA-seq on human kidney collecting duct cell obtained with laser capture micro dissection human) -> /experiments/ENCSR645RHS/\n",
        "post row 1 (RNA-seq on human kidney distal tubule epithelial cell obtained with laser capture micro dissection human) -> /experiments/ENCSR481OYZ/"
       ]
      },
      {
       "output_type": "stream",
       "stream": "stdout",
       "text": [
        "\n",
        "post row 2 (RNA-seq on human parietal epithelial cell obtained with laser capture micro dissection human) -> /experiments/ENCSR570ISA/"
       ]
      },
      {
       "output_type": "stream",
       "stream": "stdout",
       "text": [
        "\n",
        "post row 3 (RNA-seq on human glomerular visceral epithelial cell obtained with laser capture micro dissection human) -> /experiments/ENCSR369OAV/"
       ]
      },
      {
       "output_type": "stream",
       "stream": "stdout",
       "text": [
        "\n",
        "post row 4 (RNA-seq on human kidney interstitial cell obtained with laser capture micro dissection human) -> /experiments/ENCSR933YHX/"
       ]
      },
      {
       "output_type": "stream",
       "stream": "stdout",
       "text": [
        "\n",
        "post row 5 (RNA-seq on human kidney loop of henle thin descending limb epithelial cell obtained with laser capture micro dissection human) -> /experiments/ENCSR382UMJ/"
       ]
      },
      {
       "output_type": "stream",
       "stream": "stdout",
       "text": [
        "\n",
        "post row 6 (RNA-seq on human kidney loop of henle thick ascending limb epithelial cell obtained with laser capture micro dissection human) -> /experiments/ENCSR951PAO/"
       ]
      },
      {
       "output_type": "stream",
       "stream": "stdout",
       "text": [
        "\n",
        "post row 7 (RNA-seq on human brush border cell of the proximal tubule obtained with laser capture micro dissection human) -> /experiments/ENCSR784SMP/"
       ]
      },
      {
       "output_type": "stream",
       "stream": "stdout",
       "text": [
        "\n",
        "post row 8 (RNA-seq on human cholangiocyte obtained with histology guided laser capture micro dissection human) -> /experiments/ENCSR015EJF/"
       ]
      },
      {
       "output_type": "stream",
       "stream": "stdout",
       "text": [
        "\n",
        "post row 9 (RNA-seq on human endothelial cell of hepatic sinusoid obtained with histology guided laser capture micro dissection human) -> /experiments/ENCSR582YQI/"
       ]
      },
      {
       "output_type": "stream",
       "stream": "stdout",
       "text": [
        "\n",
        "post row 10 (RNA-seq on human hepatic stellate cell obtained with histology guided laser capture micro dissection human) -> /experiments/ENCSR792DJY/"
       ]
      },
      {
       "output_type": "stream",
       "stream": "stdout",
       "text": [
        "\n",
        "post row 11 (RNA-seq on human hepatic natural killer cells obtained with histology guided laser capture micro dissection human) -> /experiments/ENCSR358IBS/"
       ]
      },
      {
       "output_type": "stream",
       "stream": "stdout",
       "text": [
        "\n",
        "post row 12 (RNA-seq on human hepatic oval stem cell obtained with histology guided laser capture micro dissection human) -> /experiments/ENCSR528DTF/"
       ]
      },
      {
       "output_type": "stream",
       "stream": "stdout",
       "text": [
        "\n",
        "post row 13 (RNA-seq on human ventral horn of spinal cord motor neuron humans obtained with laser capture micro dissection human) -> /experiments/ENCSR805AZV/"
       ]
      },
      {
       "output_type": "stream",
       "stream": "stdout",
       "text": [
        "\n",
        "post row 14 (RNA-seq on human brain stem motor neuron human obtained with laser capture micro dissection human) -> /experiments/ENCSR643FBX/"
       ]
      },
      {
       "output_type": "stream",
       "stream": "stdout",
       "text": [
        "\n",
        "post row 15 (RNA-seq on human Meynert cell (solitary pyramidal neuron humans in visual cortex) obtained with histology guided laser capture micro dissection human) -> /experiments/ENCSR894SKI/"
       ]
      },
      {
       "output_type": "stream",
       "stream": "stdout",
       "text": [
        "\n",
        "post row 16 (RNA-seq on human Betz cell obtained with histology guided laser capture micro dissection human) -> /experiments/ENCSR516XOY/"
       ]
      },
      {
       "output_type": "stream",
       "stream": "stdout",
       "text": [
        "\n",
        "post row 17 (RNA-seq on human region humanal part of cerebellum obtained with gross dissection human) -> /experiments/ENCSR808KCH/"
       ]
      },
      {
       "output_type": "stream",
       "stream": "stdout",
       "text": [
        "\n",
        "post row 18 (RNA-seq on human neuronal stem cell) -> /experiments/ENCSR479VCZ/"
       ]
      },
      {
       "output_type": "stream",
       "stream": "stdout",
       "text": [
        "\n",
        "post row 19 (RNA-seq on human hepatocytes (in vitro differentiated cells)) -> /experiments/ENCSR800IUG/"
       ]
      },
      {
       "output_type": "stream",
       "stream": "stdout",
       "text": [
        "\n",
        "post row 20 (RNA-seq on human smooth muscle cell (in vitro differentiated cells)) -> /experiments/ENCSR825UDE/"
       ]
      },
      {
       "output_type": "stream",
       "stream": "stdout",
       "text": [
        "\n",
        "post row 21 (RNA-seq on human liver) -> /experiments/ENCSR096STK/"
       ]
      },
      {
       "output_type": "stream",
       "stream": "stdout",
       "text": [
        "\n",
        "skip row 22\n",
        "skip row 23\n",
        "skip row 24\n",
        "skip row 25\n",
        "skip row 26\n",
        "skip row 27\n",
        "post row 28 (RNA-seq on mouse cholangiocyte obtained with histology guided laser capture micro dissection) -> /experiments/ENCSR202LWX/"
       ]
      },
      {
       "output_type": "stream",
       "stream": "stdout",
       "text": [
        "\n",
        "post row 29 (RNA-seq on mouse liver dendritic cell obtained with histology guided laser capture micro dissection) -> /experiments/ENCSR244ZEP/"
       ]
      },
      {
       "output_type": "stream",
       "stream": "stdout",
       "text": [
        "\n",
        "post row 30 (RNA-seq on mouse hepatic oval stem cell obtained with histology guided laser capture micro dissection) -> /experiments/ENCSR849OTL/"
       ]
      },
      {
       "output_type": "stream",
       "stream": "stdout",
       "text": [
        "\n",
        "post row 31 (RNA-seq on mouse endothelial cell of hepatic sinusoid obtained with histology guided laser capture micro dissection) -> /experiments/ENCSR727QOY/"
       ]
      },
      {
       "output_type": "stream",
       "stream": "stdout",
       "text": [
        "\n",
        "post row 32 (RNA-seq on mouse hepatic stellate cell obtained with histology guided laser capture micro dissection) -> /experiments/ENCSR352QNT/"
       ]
      },
      {
       "output_type": "stream",
       "stream": "stdout",
       "text": [
        "\n",
        "post row 33 (RNA-seq on mouse hepatocyte obtained with histology guided laser capture micro dissection) -> /experiments/ENCSR516XQA/"
       ]
      },
      {
       "output_type": "stream",
       "stream": "stdout",
       "text": [
        "\n",
        "post row 34 (RNA-seq on mouse Kupffer cell obtained with histology guided laser capture micro dissection) -> /experiments/ENCSR968ELO/"
       ]
      },
      {
       "output_type": "stream",
       "stream": "stdout",
       "text": [
        "\n",
        "post row 35 (RNA-seq on mouse hepatic natural killer cells obtained with histology guided laser capture micro dissection) -> /experiments/ENCSR863MVQ/"
       ]
      },
      {
       "output_type": "stream",
       "stream": "stdout",
       "text": [
        "\n",
        "post row 36 (RNA-seq on mouse muscle precursor cell obtained with laser capture micro dissection) -> /experiments/ENCSR371PPE/"
       ]
      },
      {
       "output_type": "stream",
       "stream": "stdout",
       "text": [
        "\n",
        "post row 37 (RNA-seq on mouse dorsal root ganglion obtained with laser capture micro dissection) -> /experiments/ENCSR083SSY/"
       ]
      },
      {
       "output_type": "stream",
       "stream": "stdout",
       "text": [
        "\n",
        "post row 38 (RNA-seq on mouse myotome obtained with laser capture micro dissection) -> /experiments/ENCSR457BTR/"
       ]
      },
      {
       "output_type": "stream",
       "stream": "stdout",
       "text": [
        "\n",
        "post row 39 (RNA-seq on mouse bipolar neuron obtained with laser capture micro dissection) -> /experiments/ENCSR913RSM/"
       ]
      },
      {
       "output_type": "stream",
       "stream": "stdout",
       "text": [
        "\n",
        "post row 40 (RNA-seq on mouse brain stem motor neurons obtained with laser capture micro dissection) -> /experiments/ENCSR391DGX/"
       ]
      },
      {
       "output_type": "stream",
       "stream": "stdout",
       "text": [
        "\n",
        "post row 41 (RNA-seq on mouse regional part of cerebellum obtained with gross dissection) -> /experiments/ENCSR630QYS/"
       ]
      },
      {
       "output_type": "stream",
       "stream": "stdout",
       "text": [
        "\n",
        "post row 42 (RNA-seq on mouse spinal cord motor neuron obtained with laser capture micro dissection) -> /experiments/ENCSR150RTP/"
       ]
      },
      {
       "output_type": "stream",
       "stream": "stdout",
       "text": [
        "\n",
        "post row 43 (RNA-seq on mouse retinal alpha ganglion cell obtained with laser capture micro dissection) -> /experiments/ENCSR365GTN/"
       ]
      },
      {
       "output_type": "stream",
       "stream": "stdout",
       "text": [
        "\n",
        "post row 44 (RNA-seq on mouse kidney collecting duct cell obtained with laser capture micro dissection) -> /experiments/ENCSR854COR/"
       ]
      },
      {
       "output_type": "stream",
       "stream": "stdout",
       "text": [
        "\n",
        "post row 45 (RNA-seq on mouse kidney distal tubule epithelial cell obtained with laser capture micro dissection) -> /experiments/ENCSR419KEN/"
       ]
      },
      {
       "output_type": "stream",
       "stream": "stdout",
       "text": [
        "\n",
        "post row 46 (RNA-seq on mouse parietal epithelial cell obtained with laser capture micro dissection) -> /experiments/ENCSR593EDV/"
       ]
      },
      {
       "output_type": "stream",
       "stream": "stdout",
       "text": [
        "\n",
        "post row 47 (RNA-seq on mouse glomerular visceral epithelial cell obtained with laser capture micro dissection) -> /experiments/ENCSR510XBP/"
       ]
      },
      {
       "output_type": "stream",
       "stream": "stdout",
       "text": [
        "\n",
        "post row 48 (RNA-seq on mouse brush border cell of the proximal tubule obtained with laser capture micro dissection) -> /experiments/ENCSR448TBE/"
       ]
      },
      {
       "output_type": "stream",
       "stream": "stdout",
       "text": [
        "\n",
        "post row 49 (RNA-seq on mouse kidney interstitial cell obtained with laser capture micro dissection) -> /experiments/ENCSR225LWF/"
       ]
      },
      {
       "output_type": "stream",
       "stream": "stdout",
       "text": [
        "\n",
        "post row 50 (RNA-seq on mouse kidney loop of henle thin descending limb epithelial cell obtained with laser capture micro dissection) -> /experiments/ENCSR132IJG/"
       ]
      },
      {
       "output_type": "stream",
       "stream": "stdout",
       "text": [
        "\n",
        "post row 51 (RNA-seq on mouse kidney loop of henle thick ascending limb epithelial cell obtained with laser capture micro dissection) -> /experiments/ENCSR951QWU/"
       ]
      },
      {
       "output_type": "stream",
       "stream": "stdout",
       "text": [
        "\n",
        "post row 52 (RNA-seq on postnatal 0 day mouse kidney) -> /experiments/ENCSR173PJN/"
       ]
      },
      {
       "output_type": "stream",
       "stream": "stdout",
       "text": [
        "\n",
        "post row 53 (RNA-seq on embryonic 11.5 day mouse midbrain) -> /experiments/ENCSR307BCA/"
       ]
      },
      {
       "output_type": "stream",
       "stream": "stdout",
       "text": [
        "\n",
        "post row 54 (RNA-seq on embryonic 11.5 day mouse hindbrain) -> /experiments/ENCSR760TOE/"
       ]
      },
      {
       "output_type": "stream",
       "stream": "stdout",
       "text": [
        "\n",
        "post row 55 (RNA-seq on embryonic 11.5 day mouse neural tube) -> /experiments/ENCSR337FYI/"
       ]
      },
      {
       "output_type": "stream",
       "stream": "stdout",
       "text": [
        "\n",
        "post row 56 (RNA-seq on embryonic 11.5 day mouse limb) -> /experiments/ENCSR541XZK/"
       ]
      },
      {
       "output_type": "stream",
       "stream": "stdout",
       "text": [
        "\n",
        "post row 57 (RNA-seq on embryonic 11.5 day mouse embryonic facial prominence) -> /experiments/ENCSR848HOX/"
       ]
      },
      {
       "output_type": "stream",
       "stream": "stdout",
       "text": [
        "\n",
        "post row 58 (RNA-seq on embryonic 11.5 day mouse heart) -> /experiments/ENCSR691OPQ/"
       ]
      },
      {
       "output_type": "stream",
       "stream": "stdout",
       "text": [
        "\n",
        "post row 59 (RNA-seq on embryonic 14.5 day mouse forebrain) -> /experiments/ENCSR185LWM/"
       ]
      },
      {
       "output_type": "stream",
       "stream": "stdout",
       "text": [
        "\n",
        "post row 60 (RNA-seq on embryonic 14.5 day mouse midbrain) -> /experiments/ENCSR343YLB/"
       ]
      },
      {
       "output_type": "stream",
       "stream": "stdout",
       "text": [
        "\n",
        "post row 61 (RNA-seq on embryonic 14.5 day mouse hindbrain) -> /experiments/ENCSR559TRB/"
       ]
      },
      {
       "output_type": "stream",
       "stream": "stdout",
       "text": [
        "\n",
        "post row 62 (RNA-seq on embryonic 14.5 day mouse neural tube) -> /experiments/ENCSR928OXI/"
       ]
      },
      {
       "output_type": "stream",
       "stream": "stdout",
       "text": [
        "\n",
        "post row 63 (RNA-seq on embryonic 14.5 day mouse limb) -> /experiments/ENCSR216NEG/"
       ]
      },
      {
       "output_type": "stream",
       "stream": "stdout",
       "text": [
        "\n",
        "post row 64 (RNA-seq on embryonic 14.5 day mouse embryonic facial prominence) -> /experiments/ENCSR823VEE/"
       ]
      },
      {
       "output_type": "stream",
       "stream": "stdout",
       "text": [
        "\n",
        "post row 65 (RNA-seq on embryonic 14.5 day mouse heart) -> /experiments/ENCSR727FHP/"
       ]
      },
      {
       "output_type": "stream",
       "stream": "stdout",
       "text": [
        "\n",
        "post row 66 (RNA-seq on embryonic 14.5 day mouse liver) -> /experiments/ENCSR867YNV/"
       ]
      },
      {
       "output_type": "stream",
       "stream": "stdout",
       "text": [
        "\n",
        "post row 67 (RNA-seq on embryonic 14.5 day mouse intestine) -> /experiments/ENCSR932TRU/"
       ]
      },
      {
       "output_type": "stream",
       "stream": "stdout",
       "text": [
        "\n",
        "post row 68 (RNA-seq on embryonic 14.5 day mouse kidney) -> /experiments/ENCSR504GEG/"
       ]
      },
      {
       "output_type": "stream",
       "stream": "stdout",
       "text": [
        "\n",
        "post row 69 (RNA-seq on embryonic 14.5 day mouse lung) -> /experiments/ENCSR039ADS/"
       ]
      },
      {
       "output_type": "stream",
       "stream": "stdout",
       "text": [
        "\n",
        "post row 70 (RNA-seq on embryonic 14.5 day mouse stomach) -> /experiments/ENCSR290RRR/"
       ]
      },
      {
       "output_type": "stream",
       "stream": "stdout",
       "text": [
        "\n",
        "post row 71 (RNA-seq on 9 day mouse embryos) -> /experiments/ENCSR325UDI/"
       ]
      },
      {
       "output_type": "stream",
       "stream": "stdout",
       "text": [
        "\n",
        "post row 72 (RNA-seq on 9.5 day mouse embryos) -> /experiments/ENCSR356BUO/"
       ]
      },
      {
       "output_type": "stream",
       "stream": "stdout",
       "text": [
        "\n",
        "post row 73 (RNA-seq on 10.0 day mouse embryos) -> /experiments/ENCSR786HMJ/"
       ]
      },
      {
       "output_type": "stream",
       "stream": "stdout",
       "text": [
        "\n",
        "post row 74 (RNA-seq on 10.5 day mouse embryos) -> /experiments/ENCSR204TPC/"
       ]
      },
      {
       "output_type": "stream",
       "stream": "stdout",
       "text": [
        "\n",
        "post row 75 (RNA-seq on 11 day mouse embryos) -> /experiments/ENCSR209EQG/"
       ]
      },
      {
       "output_type": "stream",
       "stream": "stdout",
       "text": [
        "\n",
        "post row 76 (RNA-seq on postnatal 0 day mouse adrenal) -> /experiments/ENCSR739PEB/"
       ]
      },
      {
       "output_type": "stream",
       "stream": "stdout",
       "text": [
        "\n",
        "post row 77 (RNA-seq on postnatal 0 day mouse spleen) -> /experiments/ENCSR579FCW/"
       ]
      },
      {
       "output_type": "stream",
       "stream": "stdout",
       "text": [
        "\n",
        "skip row 78\n",
        "skip row 79\n",
        "skip row 80\n",
        "skip row 81\n",
        "skip row 82\n",
        "skip row 83\n",
        "skip row 84\n",
        "skip row 85\n",
        "skip row 86\n",
        "skip row 87\n",
        "skip row 88\n"
       ]
      }
     ],
     "prompt_number": 9
    },
    {
     "cell_type": "code",
     "collapsed": false,
     "input": [
      "registered"
     ],
     "language": "python",
     "metadata": {},
     "outputs": [
      {
       "metadata": {},
       "output_type": "pyout",
       "prompt_number": 10,
       "text": [
        "[(u'/experiments/ENCSR645RHS/',\n",
        "  {u'assay_term_id': u'OBI:0001271',\n",
        "   u'assay_term_name': u'RNA-seq',\n",
        "   u'award': u'U54HG006998',\n",
        "   u'biosample_term_id': u'CL:1001225',\n",
        "   u'biosample_term_name': u'kidney collecting duct cell',\n",
        "   u'biosample_type': u'primary cell',\n",
        "   u'dataset_type': u'experiment',\n",
        "   u'description': u'RNA-seq on human kidney collecting duct cell obtained with laser capture micro dissection human',\n",
        "   u'lab': u'barbara-wold',\n",
        "   u'status': u'preliminary'}),\n",
        " (u'/experiments/ENCSR481OYZ/',\n",
        "  {u'assay_term_id': u'OBI:0001271',\n",
        "   u'assay_term_name': u'RNA-seq',\n",
        "   u'award': u'U54HG006998',\n",
        "   u'biosample_term_id': u'CL:0002305',\n",
        "   u'biosample_term_name': u'kidney distal tubule epithelial cell',\n",
        "   u'biosample_type': u'primary cell',\n",
        "   u'dataset_type': u'experiment',\n",
        "   u'description': u'RNA-seq on human kidney distal tubule epithelial cell obtained with laser capture micro dissection human',\n",
        "   u'lab': u'barbara-wold',\n",
        "   u'status': u'preliminary'}),\n",
        " (u'/experiments/ENCSR570ISA/',\n",
        "  {u'assay_term_id': u'OBI:0001271',\n",
        "   u'assay_term_name': u'RNA-seq',\n",
        "   u'award': u'U54HG006998',\n",
        "   u'biosample_term_id': u'CL:1000452',\n",
        "   u'biosample_term_name': u'parietal epithelial cell',\n",
        "   u'biosample_type': u'primary cell',\n",
        "   u'dataset_type': u'experiment',\n",
        "   u'description': u'RNA-seq on human parietal epithelial cell obtained with laser capture micro dissection human',\n",
        "   u'lab': u'barbara-wold',\n",
        "   u'status': u'preliminary'}),\n",
        " (u'/experiments/ENCSR369OAV/',\n",
        "  {u'assay_term_id': u'OBI:0001271',\n",
        "   u'assay_term_name': u'RNA-seq',\n",
        "   u'award': u'U54HG006998',\n",
        "   u'biosample_term_id': u'CL:0000653',\n",
        "   u'biosample_term_name': u'glomerular visceral epithelial cell',\n",
        "   u'biosample_type': u'primary cell',\n",
        "   u'dataset_type': u'experiment',\n",
        "   u'description': u'RNA-seq on human glomerular visceral epithelial cell obtained with laser capture micro dissection human',\n",
        "   u'lab': u'barbara-wold',\n",
        "   u'status': u'preliminary'}),\n",
        " (u'/experiments/ENCSR933YHX/',\n",
        "  {u'assay_term_id': u'OBI:0001271',\n",
        "   u'assay_term_name': u'RNA-seq',\n",
        "   u'award': u'U54HG006998',\n",
        "   u'biosample_term_id': u'CL:1000500',\n",
        "   u'biosample_term_name': u'kidney interstitial cell',\n",
        "   u'biosample_type': u'primary cell',\n",
        "   u'dataset_type': u'experiment',\n",
        "   u'description': u'RNA-seq on human kidney interstitial cell obtained with laser capture micro dissection human',\n",
        "   u'lab': u'barbara-wold',\n",
        "   u'status': u'preliminary'}),\n",
        " (u'/experiments/ENCSR382UMJ/',\n",
        "  {u'assay_term_id': u'OBI:0001271',\n",
        "   u'assay_term_name': u'RNA-seq',\n",
        "   u'award': u'U54HG006998',\n",
        "   u'biosample_term_id': u'CL:1001111',\n",
        "   u'biosample_term_name': u'kidney loop of henle thin descending limb epithelial cell',\n",
        "   u'biosample_type': u'primary cell',\n",
        "   u'dataset_type': u'experiment',\n",
        "   u'description': u'RNA-seq on human kidney loop of henle thin descending limb epithelial cell obtained with laser capture micro dissection human',\n",
        "   u'lab': u'barbara-wold',\n",
        "   u'status': u'preliminary'}),\n",
        " (u'/experiments/ENCSR951PAO/',\n",
        "  {u'assay_term_id': u'OBI:0001271',\n",
        "   u'assay_term_name': u'RNA-seq',\n",
        "   u'award': u'U54HG006998',\n",
        "   u'biosample_term_id': u'CL:1001106',\n",
        "   u'biosample_term_name': u'kidney loop of henle thick ascending limb epithelial cell',\n",
        "   u'biosample_type': u'primary cell',\n",
        "   u'dataset_type': u'experiment',\n",
        "   u'description': u'RNA-seq on human kidney loop of henle thick ascending limb epithelial cell obtained with laser capture micro dissection human',\n",
        "   u'lab': u'barbara-wold',\n",
        "   u'status': u'preliminary'}),\n",
        " (u'/experiments/ENCSR784SMP/',\n",
        "  {u'assay_term_id': u'OBI:0001271',\n",
        "   u'assay_term_name': u'RNA-seq',\n",
        "   u'award': u'U54HG006998',\n",
        "   u'biosample_term_id': u'CL:0002307',\n",
        "   u'biosample_term_name': u'brush border cell of the proximal tubule',\n",
        "   u'biosample_type': u'primary cell',\n",
        "   u'dataset_type': u'experiment',\n",
        "   u'description': u'RNA-seq on human brush border cell of the proximal tubule obtained with laser capture micro dissection human',\n",
        "   u'lab': u'barbara-wold',\n",
        "   u'status': u'preliminary'}),\n",
        " (u'/experiments/ENCSR015EJF/',\n",
        "  {u'assay_term_id': u'OBI:0001271',\n",
        "   u'assay_term_name': u'RNA-seq',\n",
        "   u'award': u'U54HG006998',\n",
        "   u'biosample_term_id': u'CL:1000488',\n",
        "   u'biosample_term_name': u'cholangiocyte',\n",
        "   u'biosample_type': u'primary cell',\n",
        "   u'dataset_type': u'experiment',\n",
        "   u'description': u'RNA-seq on human cholangiocyte obtained with histology guided laser capture micro dissection human',\n",
        "   u'lab': u'barbara-wold',\n",
        "   u'status': u'preliminary'}),\n",
        " (u'/experiments/ENCSR582YQI/',\n",
        "  {u'assay_term_id': u'OBI:0001271',\n",
        "   u'assay_term_name': u'RNA-seq',\n",
        "   u'award': u'U54HG006998',\n",
        "   u'biosample_term_id': u'CL:1000398',\n",
        "   u'biosample_term_name': u'endothelial cell of hepatic sinusoid',\n",
        "   u'biosample_type': u'primary cell',\n",
        "   u'dataset_type': u'experiment',\n",
        "   u'description': u'RNA-seq on human endothelial cell of hepatic sinusoid obtained with histology guided laser capture micro dissection human',\n",
        "   u'lab': u'barbara-wold',\n",
        "   u'status': u'preliminary'}),\n",
        " (u'/experiments/ENCSR792DJY/',\n",
        "  {u'assay_term_id': u'OBI:0001271',\n",
        "   u'assay_term_name': u'RNA-seq',\n",
        "   u'award': u'U54HG006998',\n",
        "   u'biosample_term_id': u'CL:0000632',\n",
        "   u'biosample_term_name': u'hepatic stellate cell',\n",
        "   u'biosample_type': u'primary cell',\n",
        "   u'dataset_type': u'experiment',\n",
        "   u'description': u'RNA-seq on human hepatic stellate cell obtained with histology guided laser capture micro dissection human',\n",
        "   u'lab': u'barbara-wold',\n",
        "   u'status': u'preliminary'}),\n",
        " (u'/experiments/ENCSR358IBS/',\n",
        "  {u'assay_term_id': u'OBI:0001271',\n",
        "   u'assay_term_name': u'RNA-seq',\n",
        "   u'award': u'U54HG006998',\n",
        "   u'biosample_term_id': u'NTR:0001799',\n",
        "   u'biosample_term_name': u'hepatic natural killer cells',\n",
        "   u'biosample_type': u'primary cell',\n",
        "   u'dataset_type': u'experiment',\n",
        "   u'description': u'RNA-seq on human hepatic natural killer cells obtained with histology guided laser capture micro dissection human',\n",
        "   u'lab': u'barbara-wold',\n",
        "   u'status': u'preliminary'}),\n",
        " (u'/experiments/ENCSR528DTF/',\n",
        "  {u'assay_term_id': u'OBI:0001271',\n",
        "   u'assay_term_name': u'RNA-seq',\n",
        "   u'award': u'U54HG006998',\n",
        "   u'biosample_term_id': u'CL:0002196',\n",
        "   u'biosample_term_name': u'hepatic oval stem cell',\n",
        "   u'biosample_type': u'primary cell',\n",
        "   u'dataset_type': u'experiment',\n",
        "   u'description': u'RNA-seq on human hepatic oval stem cell obtained with histology guided laser capture micro dissection human',\n",
        "   u'lab': u'barbara-wold',\n",
        "   u'status': u'preliminary'}),\n",
        " (u'/experiments/ENCSR805AZV/',\n",
        "  {u'assay_term_id': u'OBI:0001271',\n",
        "   u'assay_term_name': u'RNA-seq',\n",
        "   u'award': u'U54HG006998',\n",
        "   u'biosample_term_id': u'CL:0011001',\n",
        "   u'biosample_term_name': u'ventral horn of spinal cord motor neurons',\n",
        "   u'biosample_type': u'primary cell',\n",
        "   u'dataset_type': u'experiment',\n",
        "   u'description': u'RNA-seq on human ventral horn of spinal cord motor neuron humans obtained with laser capture micro dissection human',\n",
        "   u'lab': u'barbara-wold',\n",
        "   u'status': u'preliminary'}),\n",
        " (u'/experiments/ENCSR643FBX/',\n",
        "  {u'assay_term_id': u'OBI:0001271',\n",
        "   u'assay_term_name': u'RNA-seq',\n",
        "   u'award': u'U54HG006998',\n",
        "   u'biosample_term_id': u'NTR:0001805',\n",
        "   u'biosample_term_name': u'brain stem motor neuron',\n",
        "   u'biosample_type': u'primary cell',\n",
        "   u'dataset_type': u'experiment',\n",
        "   u'description': u'RNA-seq on human brain stem motor neuron human obtained with laser capture micro dissection human',\n",
        "   u'lab': u'barbara-wold',\n",
        "   u'status': u'preliminary'}),\n",
        " (u'/experiments/ENCSR894SKI/',\n",
        "  {u'assay_term_id': u'OBI:0001271',\n",
        "   u'assay_term_name': u'RNA-seq',\n",
        "   u'award': u'U54HG006998',\n",
        "   u'biosample_term_id': u'NTR:0001803',\n",
        "   u'biosample_term_name': u'Meynert cell, solitary pyramidal neurons in visual cortex',\n",
        "   u'biosample_type': u'primary cell',\n",
        "   u'dataset_type': u'experiment',\n",
        "   u'description': u'RNA-seq on human Meynert cell (solitary pyramidal neuron humans in visual cortex) obtained with histology guided laser capture micro dissection human',\n",
        "   u'lab': u'barbara-wold',\n",
        "   u'status': u'preliminary'}),\n",
        " (u'/experiments/ENCSR516XOY/',\n",
        "  {u'assay_term_id': u'OBI:0001271',\n",
        "   u'assay_term_name': u'RNA-seq',\n",
        "   u'award': u'U54HG006998',\n",
        "   u'biosample_term_id': u'UBERON:0005394',\n",
        "   u'biosample_term_name': u'Betz cell',\n",
        "   u'biosample_type': u'primary cell',\n",
        "   u'dataset_type': u'experiment',\n",
        "   u'description': u'RNA-seq on human Betz cell obtained with histology guided laser capture micro dissection human',\n",
        "   u'lab': u'barbara-wold',\n",
        "   u'status': u'preliminary'}),\n",
        " (u'/experiments/ENCSR808KCH/',\n",
        "  {u'assay_term_id': u'OBI:0001271',\n",
        "   u'assay_term_name': u'RNA-seq',\n",
        "   u'award': u'U54HG006998',\n",
        "   u'biosample_term_id': u'UBERON:0002946',\n",
        "   u'biosample_term_name': u'regional part of cerebellum',\n",
        "   u'biosample_type': u'tissue',\n",
        "   u'dataset_type': u'experiment',\n",
        "   u'description': u'RNA-seq on human region humanal part of cerebellum obtained with gross dissection human',\n",
        "   u'lab': u'barbara-wold',\n",
        "   u'status': u'proposed'}),\n",
        " (u'/experiments/ENCSR479VCZ/',\n",
        "  {u'assay_term_id': u'OBI:0001271',\n",
        "   u'assay_term_name': u'RNA-seq',\n",
        "   u'award': u'U54HG006998',\n",
        "   u'biosample_term_id': u'CL:0000047',\n",
        "   u'biosample_term_name': u'neuronal stem cell',\n",
        "   u'biosample_type': u'stem cell',\n",
        "   u'dataset_type': u'experiment',\n",
        "   u'description': u'RNA-seq on human neuronal stem cell',\n",
        "   u'lab': u'barbara-wold',\n",
        "   u'status': u'proposed'}),\n",
        " (u'/experiments/ENCSR800IUG/',\n",
        "  {u'assay_term_id': u'OBI:0001271',\n",
        "   u'assay_term_name': u'RNA-seq',\n",
        "   u'award': u'U54HG006998',\n",
        "   u'biosample_term_id': u'CL:0000182',\n",
        "   u'biosample_term_name': u'hepatocyte',\n",
        "   u'biosample_type': u'in vitro differentiated cells',\n",
        "   u'dataset_type': u'experiment',\n",
        "   u'description': u'RNA-seq on human hepatocytes (in vitro differentiated cells)',\n",
        "   u'lab': u'barbara-wold',\n",
        "   u'status': u'proposed'}),\n",
        " (u'/experiments/ENCSR825UDE/',\n",
        "  {u'assay_term_id': u'OBI:0001271',\n",
        "   u'assay_term_name': u'RNA-seq',\n",
        "   u'award': u'U54HG006998',\n",
        "   u'biosample_term_id': u'CL:0000192',\n",
        "   u'biosample_term_name': u'smooth muscle cell',\n",
        "   u'biosample_type': u'in vitro differentiated cells',\n",
        "   u'dataset_type': u'experiment',\n",
        "   u'description': u'RNA-seq on human smooth muscle cell (in vitro differentiated cells)',\n",
        "   u'lab': u'barbara-wold',\n",
        "   u'status': u'proposed'}),\n",
        " (u'/experiments/ENCSR096STK/',\n",
        "  {u'assay_term_id': u'OBI:0001271',\n",
        "   u'assay_term_name': u'RNA-seq',\n",
        "   u'award': u'U54HG006998',\n",
        "   u'biosample_term_id': u'UBERON:0002107',\n",
        "   u'biosample_term_name': u'liver',\n",
        "   u'biosample_type': u'tissue',\n",
        "   u'dataset_type': u'experiment',\n",
        "   u'description': u'RNA-seq on human liver',\n",
        "   u'lab': u'barbara-wold',\n",
        "   u'status': u'started'}),\n",
        " (u'/experiments/ENCSR202LWX/',\n",
        "  {u'assay_term_id': u'OBI:0001271',\n",
        "   u'assay_term_name': u'RNA-seq',\n",
        "   u'award': u'U54HG006998',\n",
        "   u'biosample_term_id': u'CL:1000488',\n",
        "   u'biosample_term_name': u'cholangiocyte',\n",
        "   u'biosample_type': u'primary cell',\n",
        "   u'dataset_type': u'experiment',\n",
        "   u'description': u'RNA-seq on mouse cholangiocyte obtained with histology guided laser capture micro dissection',\n",
        "   u'lab': u'barbara-wold',\n",
        "   u'status': u'preliminary'}),\n",
        " (u'/experiments/ENCSR244ZEP/',\n",
        "  {u'assay_term_id': u'OBI:0001271',\n",
        "   u'assay_term_name': u'RNA-seq',\n",
        "   u'award': u'U54HG006998',\n",
        "   u'biosample_term_id': u'NTR:0001800',\n",
        "   u'biosample_term_name': u'liver dendritic cell',\n",
        "   u'biosample_type': u'primary cell',\n",
        "   u'dataset_type': u'experiment',\n",
        "   u'description': u'RNA-seq on mouse liver dendritic cell obtained with histology guided laser capture micro dissection',\n",
        "   u'lab': u'barbara-wold',\n",
        "   u'status': u'preliminary'}),\n",
        " (u'/experiments/ENCSR849OTL/',\n",
        "  {u'assay_term_id': u'OBI:0001271',\n",
        "   u'assay_term_name': u'RNA-seq',\n",
        "   u'award': u'U54HG006998',\n",
        "   u'biosample_term_id': u'CL:0002196',\n",
        "   u'biosample_term_name': u'hepatic oval stem cell',\n",
        "   u'biosample_type': u'primary cell',\n",
        "   u'dataset_type': u'experiment',\n",
        "   u'description': u'RNA-seq on mouse hepatic oval stem cell obtained with histology guided laser capture micro dissection',\n",
        "   u'lab': u'barbara-wold',\n",
        "   u'status': u'preliminary'}),\n",
        " (u'/experiments/ENCSR727QOY/',\n",
        "  {u'assay_term_id': u'OBI:0001271',\n",
        "   u'assay_term_name': u'RNA-seq',\n",
        "   u'award': u'U54HG006998',\n",
        "   u'biosample_term_id': u'CL:1000398',\n",
        "   u'biosample_term_name': u'endothelial cell of hepatic sinusoid',\n",
        "   u'biosample_type': u'primary cell',\n",
        "   u'dataset_type': u'experiment',\n",
        "   u'description': u'RNA-seq on mouse endothelial cell of hepatic sinusoid obtained with histology guided laser capture micro dissection',\n",
        "   u'lab': u'barbara-wold',\n",
        "   u'status': u'preliminary'}),\n",
        " (u'/experiments/ENCSR352QNT/',\n",
        "  {u'assay_term_id': u'OBI:0001271',\n",
        "   u'assay_term_name': u'RNA-seq',\n",
        "   u'award': u'U54HG006998',\n",
        "   u'biosample_term_id': u'CL:0000632',\n",
        "   u'biosample_term_name': u'hepatic stellate cell',\n",
        "   u'biosample_type': u'primary cell',\n",
        "   u'dataset_type': u'experiment',\n",
        "   u'description': u'RNA-seq on mouse hepatic stellate cell obtained with histology guided laser capture micro dissection',\n",
        "   u'lab': u'barbara-wold',\n",
        "   u'status': u'preliminary'}),\n",
        " (u'/experiments/ENCSR516XQA/',\n",
        "  {u'assay_term_id': u'OBI:0001271',\n",
        "   u'assay_term_name': u'RNA-seq',\n",
        "   u'award': u'U54HG006998',\n",
        "   u'biosample_term_id': u'CL:0000182',\n",
        "   u'biosample_term_name': u'hepatocyte',\n",
        "   u'biosample_type': u'primary cell',\n",
        "   u'dataset_type': u'experiment',\n",
        "   u'description': u'RNA-seq on mouse hepatocyte obtained with histology guided laser capture micro dissection',\n",
        "   u'lab': u'barbara-wold',\n",
        "   u'status': u'preliminary'}),\n",
        " (u'/experiments/ENCSR968ELO/',\n",
        "  {u'assay_term_id': u'OBI:0001271',\n",
        "   u'assay_term_name': u'RNA-seq',\n",
        "   u'award': u'U54HG006998',\n",
        "   u'biosample_term_id': u'CL:0000091',\n",
        "   u'biosample_term_name': u'Kupffer cell',\n",
        "   u'biosample_type': u'primary cell',\n",
        "   u'dataset_type': u'experiment',\n",
        "   u'description': u'RNA-seq on mouse Kupffer cell obtained with histology guided laser capture micro dissection',\n",
        "   u'lab': u'barbara-wold',\n",
        "   u'status': u'preliminary'}),\n",
        " (u'/experiments/ENCSR863MVQ/',\n",
        "  {u'assay_term_id': u'OBI:0001271',\n",
        "   u'assay_term_name': u'RNA-seq',\n",
        "   u'award': u'U54HG006998',\n",
        "   u'biosample_term_id': u'NTR:0001799',\n",
        "   u'biosample_term_name': u'hepatic natural killer cells',\n",
        "   u'biosample_type': u'primary cell',\n",
        "   u'dataset_type': u'experiment',\n",
        "   u'description': u'RNA-seq on mouse hepatic natural killer cells obtained with histology guided laser capture micro dissection',\n",
        "   u'lab': u'barbara-wold',\n",
        "   u'status': u'preliminary'}),\n",
        " (u'/experiments/ENCSR371PPE/',\n",
        "  {u'assay_term_id': u'OBI:0001271',\n",
        "   u'assay_term_name': u'RNA-seq',\n",
        "   u'award': u'U54HG006998',\n",
        "   u'biosample_term_id': u'CL:0000680',\n",
        "   u'biosample_term_name': u'muscle precursor cell',\n",
        "   u'biosample_type': u'primary cell',\n",
        "   u'dataset_type': u'experiment',\n",
        "   u'description': u'RNA-seq on mouse muscle precursor cell obtained with laser capture micro dissection',\n",
        "   u'lab': u'barbara-wold',\n",
        "   u'status': u'preliminary'}),\n",
        " (u'/experiments/ENCSR083SSY/',\n",
        "  {u'assay_term_id': u'OBI:0001271',\n",
        "   u'assay_term_name': u'RNA-seq',\n",
        "   u'award': u'U54HG006998',\n",
        "   u'biosample_term_id': u'UBERON:0000044',\n",
        "   u'biosample_term_name': u'dorsal root ganglion',\n",
        "   u'biosample_type': u'primary cell',\n",
        "   u'dataset_type': u'experiment',\n",
        "   u'description': u'RNA-seq on mouse dorsal root ganglion obtained with laser capture micro dissection',\n",
        "   u'lab': u'barbara-wold',\n",
        "   u'status': u'preliminary'}),\n",
        " (u'/experiments/ENCSR457BTR/',\n",
        "  {u'assay_term_id': u'OBI:0001271',\n",
        "   u'assay_term_name': u'RNA-seq',\n",
        "   u'award': u'U54HG006998',\n",
        "   u'biosample_term_id': u'UBERON:0003082',\n",
        "   u'biosample_term_name': u'myotome',\n",
        "   u'biosample_type': u'primary cell',\n",
        "   u'dataset_type': u'experiment',\n",
        "   u'description': u'RNA-seq on mouse myotome obtained with laser capture micro dissection',\n",
        "   u'lab': u'barbara-wold',\n",
        "   u'status': u'preliminary'}),\n",
        " (u'/experiments/ENCSR913RSM/',\n",
        "  {u'assay_term_id': u'OBI:0001271',\n",
        "   u'assay_term_name': u'RNA-seq',\n",
        "   u'award': u'U54HG006998',\n",
        "   u'biosample_term_id': u'CL:0000103',\n",
        "   u'biosample_term_name': u'bipolar neuron',\n",
        "   u'biosample_type': u'primary cell',\n",
        "   u'dataset_type': u'experiment',\n",
        "   u'description': u'RNA-seq on mouse bipolar neuron obtained with laser capture micro dissection',\n",
        "   u'lab': u'barbara-wold',\n",
        "   u'status': u'proposed'}),\n",
        " (u'/experiments/ENCSR391DGX/',\n",
        "  {u'assay_term_id': u'OBI:0001271',\n",
        "   u'assay_term_name': u'RNA-seq',\n",
        "   u'award': u'U54HG006998',\n",
        "   u'biosample_term_id': u'NTR:0001805',\n",
        "   u'biosample_term_name': u'brain stem motor neurons',\n",
        "   u'biosample_type': u'primary cell',\n",
        "   u'dataset_type': u'experiment',\n",
        "   u'description': u'RNA-seq on mouse brain stem motor neurons obtained with laser capture micro dissection',\n",
        "   u'lab': u'barbara-wold',\n",
        "   u'status': u'proposed'}),\n",
        " (u'/experiments/ENCSR630QYS/',\n",
        "  {u'assay_term_id': u'OBI:0001271',\n",
        "   u'assay_term_name': u'RNA-seq',\n",
        "   u'award': u'U54HG006998',\n",
        "   u'biosample_term_id': u'UBERON:0002946',\n",
        "   u'biosample_term_name': u'regional part of cerebellum',\n",
        "   u'biosample_type': u'tissue',\n",
        "   u'dataset_type': u'experiment',\n",
        "   u'description': u'RNA-seq on mouse regional part of cerebellum obtained with gross dissection',\n",
        "   u'lab': u'barbara-wold',\n",
        "   u'status': u'proposed'}),\n",
        " (u'/experiments/ENCSR150RTP/',\n",
        "  {u'assay_term_id': u'OBI:0001271',\n",
        "   u'assay_term_name': u'RNA-seq',\n",
        "   u'award': u'U54HG006998',\n",
        "   u'biosample_term_id': u'CL:0011001',\n",
        "   u'biosample_term_name': u'spinal cord motor neuron',\n",
        "   u'biosample_type': u'primary cell',\n",
        "   u'dataset_type': u'experiment',\n",
        "   u'description': u'RNA-seq on mouse spinal cord motor neuron obtained with laser capture micro dissection',\n",
        "   u'lab': u'barbara-wold',\n",
        "   u'status': u'proposed'}),\n",
        " (u'/experiments/ENCSR365GTN/',\n",
        "  {u'assay_term_id': u'OBI:0001271',\n",
        "   u'assay_term_name': u'RNA-seq',\n",
        "   u'award': u'U54HG006998',\n",
        "   u'biosample_term_id': u'NTR:0001801',\n",
        "   u'biosample_term_name': u'retinal alpha ganglion cell',\n",
        "   u'biosample_type': u'primary cell',\n",
        "   u'dataset_type': u'experiment',\n",
        "   u'description': u'RNA-seq on mouse retinal alpha ganglion cell obtained with laser capture micro dissection',\n",
        "   u'lab': u'barbara-wold',\n",
        "   u'status': u'proposed'}),\n",
        " (u'/experiments/ENCSR854COR/',\n",
        "  {u'assay_term_id': u'OBI:0001271',\n",
        "   u'assay_term_name': u'RNA-seq',\n",
        "   u'award': u'U54HG006998',\n",
        "   u'biosample_term_id': u'CL:1001225',\n",
        "   u'biosample_term_name': u'kidney collecting duct cell',\n",
        "   u'biosample_type': u'primary cell',\n",
        "   u'dataset_type': u'experiment',\n",
        "   u'description': u'RNA-seq on mouse kidney collecting duct cell obtained with laser capture micro dissection',\n",
        "   u'lab': u'barbara-wold',\n",
        "   u'status': u'proposed'}),\n",
        " (u'/experiments/ENCSR419KEN/',\n",
        "  {u'assay_term_id': u'OBI:0001271',\n",
        "   u'assay_term_name': u'RNA-seq',\n",
        "   u'award': u'U54HG006998',\n",
        "   u'biosample_term_id': u'CL:0002305',\n",
        "   u'biosample_term_name': u'kidney distal tubule epithelial cell',\n",
        "   u'biosample_type': u'primary cell',\n",
        "   u'dataset_type': u'experiment',\n",
        "   u'description': u'RNA-seq on mouse kidney distal tubule epithelial cell obtained with laser capture micro dissection',\n",
        "   u'lab': u'barbara-wold',\n",
        "   u'status': u'proposed'}),\n",
        " (u'/experiments/ENCSR593EDV/',\n",
        "  {u'assay_term_id': u'OBI:0001271',\n",
        "   u'assay_term_name': u'RNA-seq',\n",
        "   u'award': u'U54HG006998',\n",
        "   u'biosample_term_id': u'CL:1000452',\n",
        "   u'biosample_term_name': u'parietal epithelial cell',\n",
        "   u'biosample_type': u'primary cell',\n",
        "   u'dataset_type': u'experiment',\n",
        "   u'description': u'RNA-seq on mouse parietal epithelial cell obtained with laser capture micro dissection',\n",
        "   u'lab': u'barbara-wold',\n",
        "   u'status': u'proposed'}),\n",
        " (u'/experiments/ENCSR510XBP/',\n",
        "  {u'assay_term_id': u'OBI:0001271',\n",
        "   u'assay_term_name': u'RNA-seq',\n",
        "   u'award': u'U54HG006998',\n",
        "   u'biosample_term_id': u'CL:0000653',\n",
        "   u'biosample_term_name': u'glomerular visceral epithelial cell',\n",
        "   u'biosample_type': u'primary cell',\n",
        "   u'dataset_type': u'experiment',\n",
        "   u'description': u'RNA-seq on mouse glomerular visceral epithelial cell obtained with laser capture micro dissection',\n",
        "   u'lab': u'barbara-wold',\n",
        "   u'status': u'proposed'}),\n",
        " (u'/experiments/ENCSR448TBE/',\n",
        "  {u'assay_term_id': u'OBI:0001271',\n",
        "   u'assay_term_name': u'RNA-seq',\n",
        "   u'award': u'U54HG006998',\n",
        "   u'biosample_term_id': u'CL:0002307',\n",
        "   u'biosample_term_name': u'brush border cell of the proximal tubule',\n",
        "   u'biosample_type': u'primary cell',\n",
        "   u'dataset_type': u'experiment',\n",
        "   u'description': u'RNA-seq on mouse brush border cell of the proximal tubule obtained with laser capture micro dissection',\n",
        "   u'lab': u'barbara-wold',\n",
        "   u'status': u'proposed'}),\n",
        " (u'/experiments/ENCSR225LWF/',\n",
        "  {u'assay_term_id': u'OBI:0001271',\n",
        "   u'assay_term_name': u'RNA-seq',\n",
        "   u'award': u'U54HG006998',\n",
        "   u'biosample_term_id': u'CL:1000500',\n",
        "   u'biosample_term_name': u'kidney interstitial cell',\n",
        "   u'biosample_type': u'primary cell',\n",
        "   u'dataset_type': u'experiment',\n",
        "   u'description': u'RNA-seq on mouse kidney interstitial cell obtained with laser capture micro dissection',\n",
        "   u'lab': u'barbara-wold',\n",
        "   u'status': u'proposed'}),\n",
        " (u'/experiments/ENCSR132IJG/',\n",
        "  {u'assay_term_id': u'OBI:0001271',\n",
        "   u'assay_term_name': u'RNA-seq',\n",
        "   u'award': u'U54HG006998',\n",
        "   u'biosample_term_id': u'CL:1001111',\n",
        "   u'biosample_term_name': u'kidney loop of henle thin descending limb epithelial cell',\n",
        "   u'biosample_type': u'primary cell',\n",
        "   u'dataset_type': u'experiment',\n",
        "   u'description': u'RNA-seq on mouse kidney loop of henle thin descending limb epithelial cell obtained with laser capture micro dissection',\n",
        "   u'lab': u'barbara-wold',\n",
        "   u'status': u'proposed'}),\n",
        " (u'/experiments/ENCSR951QWU/',\n",
        "  {u'assay_term_id': u'OBI:0001271',\n",
        "   u'assay_term_name': u'RNA-seq',\n",
        "   u'award': u'U54HG006998',\n",
        "   u'biosample_term_id': u'CL:1001106',\n",
        "   u'biosample_term_name': u'kidney loop of henle thick ascending limb epithelial cell',\n",
        "   u'biosample_type': u'primary cell',\n",
        "   u'dataset_type': u'experiment',\n",
        "   u'description': u'RNA-seq on mouse kidney loop of henle thick ascending limb epithelial cell obtained with laser capture micro dissection',\n",
        "   u'lab': u'barbara-wold',\n",
        "   u'status': u'proposed'}),\n",
        " (u'/experiments/ENCSR173PJN/',\n",
        "  {u'assay_term_id': u'OBI:0001271',\n",
        "   u'assay_term_name': u'RNA-seq',\n",
        "   u'award': u'U54HG006998',\n",
        "   u'biosample_term_id': u'UBERON:0002113',\n",
        "   u'biosample_term_name': u'kidney',\n",
        "   u'biosample_type': u'tissue',\n",
        "   u'dataset_type': u'experiment',\n",
        "   u'description': u'RNA-seq on postnatal 0 day mouse kidney',\n",
        "   u'lab': u'barbara-wold',\n",
        "   u'status': u'proposed'}),\n",
        " (u'/experiments/ENCSR307BCA/',\n",
        "  {u'assay_term_id': u'OBI:0001271',\n",
        "   u'assay_term_name': u'RNA-seq',\n",
        "   u'award': u'U54HG006998',\n",
        "   u'biosample_term_id': u'UBERON:0001891',\n",
        "   u'biosample_term_name': u'midbrain',\n",
        "   u'biosample_type': u'tissue',\n",
        "   u'dataset_type': u'experiment',\n",
        "   u'description': u'RNA-seq on embryonic 11.5 day mouse midbrain',\n",
        "   u'lab': u'barbara-wold',\n",
        "   u'status': u'proposed'}),\n",
        " (u'/experiments/ENCSR760TOE/',\n",
        "  {u'assay_term_id': u'OBI:0001271',\n",
        "   u'assay_term_name': u'RNA-seq',\n",
        "   u'award': u'U54HG006998',\n",
        "   u'biosample_term_id': u'UBERON:0002028',\n",
        "   u'biosample_term_name': u'hindbrain',\n",
        "   u'biosample_type': u'tissue',\n",
        "   u'dataset_type': u'experiment',\n",
        "   u'description': u'RNA-seq on embryonic 11.5 day mouse hindbrain',\n",
        "   u'lab': u'barbara-wold',\n",
        "   u'status': u'proposed'}),\n",
        " (u'/experiments/ENCSR337FYI/',\n",
        "  {u'assay_term_id': u'OBI:0001271',\n",
        "   u'assay_term_name': u'RNA-seq',\n",
        "   u'award': u'U54HG006998',\n",
        "   u'biosample_term_id': u'UBERON:0001049',\n",
        "   u'biosample_term_name': u'neural tube',\n",
        "   u'biosample_type': u'tissue',\n",
        "   u'dataset_type': u'experiment',\n",
        "   u'description': u'RNA-seq on embryonic 11.5 day mouse neural tube',\n",
        "   u'lab': u'barbara-wold',\n",
        "   u'status': u'proposed'}),\n",
        " (u'/experiments/ENCSR541XZK/',\n",
        "  {u'assay_term_id': u'OBI:0001271',\n",
        "   u'assay_term_name': u'RNA-seq',\n",
        "   u'award': u'U54HG006998',\n",
        "   u'biosample_term_id': u'UBERON:0002101',\n",
        "   u'biosample_term_name': u'limb',\n",
        "   u'biosample_type': u'tissue',\n",
        "   u'dataset_type': u'experiment',\n",
        "   u'description': u'RNA-seq on embryonic 11.5 day mouse limb',\n",
        "   u'lab': u'barbara-wold',\n",
        "   u'status': u'proposed'}),\n",
        " (u'/experiments/ENCSR848HOX/',\n",
        "  {u'assay_term_id': u'OBI:0001271',\n",
        "   u'assay_term_name': u'RNA-seq',\n",
        "   u'award': u'U54HG006998',\n",
        "   u'biosample_term_id': u'UBERON:0012314',\n",
        "   u'biosample_term_name': u'cranioface',\n",
        "   u'biosample_type': u'tissue',\n",
        "   u'dataset_type': u'experiment',\n",
        "   u'description': u'RNA-seq on embryonic 11.5 day mouse embryonic facial prominence',\n",
        "   u'lab': u'barbara-wold',\n",
        "   u'status': u'proposed'}),\n",
        " (u'/experiments/ENCSR691OPQ/',\n",
        "  {u'assay_term_id': u'OBI:0001271',\n",
        "   u'assay_term_name': u'RNA-seq',\n",
        "   u'award': u'U54HG006998',\n",
        "   u'biosample_term_id': u'UBERON:0000948',\n",
        "   u'biosample_term_name': u'heart',\n",
        "   u'biosample_type': u'tissue',\n",
        "   u'dataset_type': u'experiment',\n",
        "   u'description': u'RNA-seq on embryonic 11.5 day mouse heart',\n",
        "   u'lab': u'barbara-wold',\n",
        "   u'status': u'proposed'}),\n",
        " (u'/experiments/ENCSR185LWM/',\n",
        "  {u'assay_term_id': u'OBI:0001271',\n",
        "   u'assay_term_name': u'RNA-seq',\n",
        "   u'award': u'U54HG006998',\n",
        "   u'biosample_term_id': u'UBERON:0001890',\n",
        "   u'biosample_term_name': u'forebrain',\n",
        "   u'biosample_type': u'tissue',\n",
        "   u'dataset_type': u'experiment',\n",
        "   u'description': u'RNA-seq on embryonic 14.5 day mouse forebrain',\n",
        "   u'lab': u'barbara-wold',\n",
        "   u'status': u'proposed'}),\n",
        " (u'/experiments/ENCSR343YLB/',\n",
        "  {u'assay_term_id': u'OBI:0001271',\n",
        "   u'assay_term_name': u'RNA-seq',\n",
        "   u'award': u'U54HG006998',\n",
        "   u'biosample_term_id': u'UBERON:0001891',\n",
        "   u'biosample_term_name': u'midbrain',\n",
        "   u'biosample_type': u'tissue',\n",
        "   u'dataset_type': u'experiment',\n",
        "   u'description': u'RNA-seq on embryonic 14.5 day mouse midbrain',\n",
        "   u'lab': u'barbara-wold',\n",
        "   u'status': u'proposed'}),\n",
        " (u'/experiments/ENCSR559TRB/',\n",
        "  {u'assay_term_id': u'OBI:0001271',\n",
        "   u'assay_term_name': u'RNA-seq',\n",
        "   u'award': u'U54HG006998',\n",
        "   u'biosample_term_id': u'UBERON:0002028',\n",
        "   u'biosample_term_name': u'hindbrain',\n",
        "   u'biosample_type': u'tissue',\n",
        "   u'dataset_type': u'experiment',\n",
        "   u'description': u'RNA-seq on embryonic 14.5 day mouse hindbrain',\n",
        "   u'lab': u'barbara-wold',\n",
        "   u'status': u'proposed'}),\n",
        " (u'/experiments/ENCSR928OXI/',\n",
        "  {u'assay_term_id': u'OBI:0001271',\n",
        "   u'assay_term_name': u'RNA-seq',\n",
        "   u'award': u'U54HG006998',\n",
        "   u'biosample_term_id': u'UBERON:0001049',\n",
        "   u'biosample_term_name': u'neural tube',\n",
        "   u'biosample_type': u'tissue',\n",
        "   u'dataset_type': u'experiment',\n",
        "   u'description': u'RNA-seq on embryonic 14.5 day mouse neural tube',\n",
        "   u'lab': u'barbara-wold',\n",
        "   u'status': u'proposed'}),\n",
        " (u'/experiments/ENCSR216NEG/',\n",
        "  {u'assay_term_id': u'OBI:0001271',\n",
        "   u'assay_term_name': u'RNA-seq',\n",
        "   u'award': u'U54HG006998',\n",
        "   u'biosample_term_id': u'UBERON:0002101',\n",
        "   u'biosample_term_name': u'limb',\n",
        "   u'biosample_type': u'tissue',\n",
        "   u'dataset_type': u'experiment',\n",
        "   u'description': u'RNA-seq on embryonic 14.5 day mouse limb',\n",
        "   u'lab': u'barbara-wold',\n",
        "   u'status': u'proposed'}),\n",
        " (u'/experiments/ENCSR823VEE/',\n",
        "  {u'assay_term_id': u'OBI:0001271',\n",
        "   u'assay_term_name': u'RNA-seq',\n",
        "   u'award': u'U54HG006998',\n",
        "   u'biosample_term_id': u'UBERON:0012314',\n",
        "   u'biosample_term_name': u'embryonic facial prominence',\n",
        "   u'biosample_type': u'tissue',\n",
        "   u'dataset_type': u'experiment',\n",
        "   u'description': u'RNA-seq on embryonic 14.5 day mouse embryonic facial prominence',\n",
        "   u'lab': u'barbara-wold',\n",
        "   u'status': u'proposed'}),\n",
        " (u'/experiments/ENCSR727FHP/',\n",
        "  {u'assay_term_id': u'OBI:0001271',\n",
        "   u'assay_term_name': u'RNA-seq',\n",
        "   u'award': u'U54HG006998',\n",
        "   u'biosample_term_id': u'UBERON:0000948',\n",
        "   u'biosample_term_name': u'heart',\n",
        "   u'biosample_type': u'tissue',\n",
        "   u'dataset_type': u'experiment',\n",
        "   u'description': u'RNA-seq on embryonic 14.5 day mouse heart',\n",
        "   u'lab': u'barbara-wold',\n",
        "   u'status': u'proposed'}),\n",
        " (u'/experiments/ENCSR867YNV/',\n",
        "  {u'assay_term_id': u'OBI:0001271',\n",
        "   u'assay_term_name': u'RNA-seq',\n",
        "   u'award': u'U54HG006998',\n",
        "   u'biosample_term_id': u'UBERON:0002107',\n",
        "   u'biosample_term_name': u'liver',\n",
        "   u'biosample_type': u'tissue',\n",
        "   u'dataset_type': u'experiment',\n",
        "   u'description': u'RNA-seq on embryonic 14.5 day mouse liver',\n",
        "   u'lab': u'barbara-wold',\n",
        "   u'status': u'proposed'}),\n",
        " (u'/experiments/ENCSR932TRU/',\n",
        "  {u'assay_term_id': u'OBI:0001271',\n",
        "   u'assay_term_name': u'RNA-seq',\n",
        "   u'award': u'U54HG006998',\n",
        "   u'biosample_term_id': u'UBERON:0000160',\n",
        "   u'biosample_term_name': u'intestine',\n",
        "   u'biosample_type': u'tissue',\n",
        "   u'dataset_type': u'experiment',\n",
        "   u'description': u'RNA-seq on embryonic 14.5 day mouse intestine',\n",
        "   u'lab': u'barbara-wold',\n",
        "   u'status': u'proposed'}),\n",
        " (u'/experiments/ENCSR504GEG/',\n",
        "  {u'assay_term_id': u'OBI:0001271',\n",
        "   u'assay_term_name': u'RNA-seq',\n",
        "   u'award': u'U54HG006998',\n",
        "   u'biosample_term_id': u'UBERON:0002113',\n",
        "   u'biosample_term_name': u'kidney',\n",
        "   u'biosample_type': u'tissue',\n",
        "   u'dataset_type': u'experiment',\n",
        "   u'description': u'RNA-seq on embryonic 14.5 day mouse kidney',\n",
        "   u'lab': u'barbara-wold',\n",
        "   u'status': u'proposed'}),\n",
        " (u'/experiments/ENCSR039ADS/',\n",
        "  {u'assay_term_id': u'OBI:0001271',\n",
        "   u'assay_term_name': u'RNA-seq',\n",
        "   u'award': u'U54HG006998',\n",
        "   u'biosample_term_id': u'UBERON:0002048',\n",
        "   u'biosample_term_name': u'lung',\n",
        "   u'biosample_type': u'tissue',\n",
        "   u'dataset_type': u'experiment',\n",
        "   u'description': u'RNA-seq on embryonic 14.5 day mouse lung',\n",
        "   u'lab': u'barbara-wold',\n",
        "   u'status': u'proposed'}),\n",
        " (u'/experiments/ENCSR290RRR/',\n",
        "  {u'assay_term_id': u'OBI:0001271',\n",
        "   u'assay_term_name': u'RNA-seq',\n",
        "   u'award': u'U54HG006998',\n",
        "   u'biosample_term_id': u'UBERON:0000945',\n",
        "   u'biosample_term_name': u'stomach',\n",
        "   u'biosample_type': u'tissue',\n",
        "   u'dataset_type': u'experiment',\n",
        "   u'description': u'RNA-seq on embryonic 14.5 day mouse stomach',\n",
        "   u'lab': u'barbara-wold',\n",
        "   u'status': u'proposed'}),\n",
        " (u'/experiments/ENCSR325UDI/',\n",
        "  {u'assay_term_id': u'OBI:0001271',\n",
        "   u'assay_term_name': u'RNA-seq',\n",
        "   u'award': u'U54HG006998',\n",
        "   u'biosample_term_id': u'UBERON:0000922',\n",
        "   u'biosample_term_name': u'embryo',\n",
        "   u'biosample_type': u'tissue',\n",
        "   u'dataset_type': u'experiment',\n",
        "   u'description': u'RNA-seq on 9 day mouse embryos',\n",
        "   u'lab': u'barbara-wold',\n",
        "   u'status': u'proposed'}),\n",
        " (u'/experiments/ENCSR356BUO/',\n",
        "  {u'assay_term_id': u'OBI:0001271',\n",
        "   u'assay_term_name': u'RNA-seq',\n",
        "   u'award': u'U54HG006998',\n",
        "   u'biosample_term_id': u'UBERON:0000922',\n",
        "   u'biosample_term_name': u'embryo',\n",
        "   u'biosample_type': u'tissue',\n",
        "   u'dataset_type': u'experiment',\n",
        "   u'description': u'RNA-seq on 9.5 day mouse embryos',\n",
        "   u'lab': u'barbara-wold',\n",
        "   u'status': u'proposed'}),\n",
        " (u'/experiments/ENCSR786HMJ/',\n",
        "  {u'assay_term_id': u'OBI:0001271',\n",
        "   u'assay_term_name': u'RNA-seq',\n",
        "   u'award': u'U54HG006998',\n",
        "   u'biosample_term_id': u'UBERON:0000922',\n",
        "   u'biosample_term_name': u'embryo',\n",
        "   u'biosample_type': u'tissue',\n",
        "   u'dataset_type': u'experiment',\n",
        "   u'description': u'RNA-seq on 10.0 day mouse embryos',\n",
        "   u'lab': u'barbara-wold',\n",
        "   u'status': u'proposed'}),\n",
        " (u'/experiments/ENCSR204TPC/',\n",
        "  {u'assay_term_id': u'OBI:0001271',\n",
        "   u'assay_term_name': u'RNA-seq',\n",
        "   u'award': u'U54HG006998',\n",
        "   u'biosample_term_id': u'UBERON:0000922',\n",
        "   u'biosample_term_name': u'embryo',\n",
        "   u'biosample_type': u'tissue',\n",
        "   u'dataset_type': u'experiment',\n",
        "   u'description': u'RNA-seq on 10.5 day mouse embryos',\n",
        "   u'lab': u'barbara-wold',\n",
        "   u'status': u'proposed'}),\n",
        " (u'/experiments/ENCSR209EQG/',\n",
        "  {u'assay_term_id': u'OBI:0001271',\n",
        "   u'assay_term_name': u'RNA-seq',\n",
        "   u'award': u'U54HG006998',\n",
        "   u'biosample_term_id': u'UBERON:0000922',\n",
        "   u'biosample_term_name': u'embryo',\n",
        "   u'biosample_type': u'tissue',\n",
        "   u'dataset_type': u'experiment',\n",
        "   u'description': u'RNA-seq on 11 day mouse embryos',\n",
        "   u'lab': u'barbara-wold',\n",
        "   u'status': u'proposed'}),\n",
        " (u'/experiments/ENCSR739PEB/',\n",
        "  {u'assay_term_id': u'OBI:0001271',\n",
        "   u'assay_term_name': u'RNA-seq',\n",
        "   u'award': u'U54HG006998',\n",
        "   u'biosample_term_id': u'UBERON:0002369',\n",
        "   u'biosample_term_name': u'adrenal gland',\n",
        "   u'biosample_type': u'tissue',\n",
        "   u'dataset_type': u'experiment',\n",
        "   u'description': u'RNA-seq on postnatal 0 day mouse adrenal',\n",
        "   u'lab': u'barbara-wold',\n",
        "   u'status': u'started'}),\n",
        " (u'/experiments/ENCSR579FCW/',\n",
        "  {u'assay_term_id': u'OBI:0001271',\n",
        "   u'assay_term_name': u'RNA-seq',\n",
        "   u'award': u'U54HG006998',\n",
        "   u'biosample_term_id': u'UBERON:0002106',\n",
        "   u'biosample_term_name': u'spleen',\n",
        "   u'biosample_type': u'tissue',\n",
        "   u'dataset_type': u'experiment',\n",
        "   u'description': u'RNA-seq on postnatal 0 day mouse spleen',\n",
        "   u'lab': u'barbara-wold',\n",
        "   u'status': u'started'})]"
       ]
      }
     ],
     "prompt_number": 10
    },
    {
     "cell_type": "code",
     "collapsed": false,
     "input": [],
     "language": "python",
     "metadata": {},
     "outputs": [],
     "prompt_number": 10
    }
   ],
   "metadata": {}
  }
 ]
}