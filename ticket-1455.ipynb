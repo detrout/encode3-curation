{
 "metadata": {
  "name": "",
  "signature": "sha256:005ed78d52fa85afbc09bc014c42c3e18a67408d7fe5318d2253f2422199ff34"
 },
 "nbformat": 3,
 "nbformat_minor": 0,
 "worksheets": [
  {
   "cells": [
    {
     "cell_type": "code",
     "collapsed": false,
     "input": [
      "from __future__ import print_function, unicode_literals"
     ],
     "language": "python",
     "metadata": {},
     "outputs": [],
     "prompt_number": 1
    },
    {
     "cell_type": "code",
     "collapsed": false,
     "input": [
      "import base64\n",
      "import hashlib\n",
      "\n",
      "import numpy\n",
      "import requests\n",
      "import jsonschema\n",
      "\n",
      "import gcat"
     ],
     "language": "python",
     "metadata": {},
     "outputs": [],
     "prompt_number": 2
    },
    {
     "cell_type": "code",
     "collapsed": false,
     "input": [
      "from curation_common import *"
     ],
     "language": "python",
     "metadata": {},
     "outputs": [],
     "prompt_number": 3
    },
    {
     "cell_type": "code",
     "collapsed": false,
     "input": [
      "server = ENCODED('www.encodedcc.org')\n",
      "server.load_netrc()"
     ],
     "language": "python",
     "metadata": {},
     "outputs": [],
     "prompt_number": 4
    },
    {
     "cell_type": "heading",
     "level": 1,
     "metadata": {},
     "source": [
      "Update Alias"
     ]
    },
    {
     "cell_type": "code",
     "collapsed": false,
     "input": [
      "def update_alias(server, obj, new_alias):\n",
      "    aliases = obj['aliases']\n",
      "    print(aliases)\n",
      "    if new_alias not in aliases:\n",
      "        aliases.append(new_alias)\n",
      "        print(server.patch_json(obj['@id'], {'aliases': aliases}))"
     ],
     "language": "python",
     "metadata": {},
     "outputs": [],
     "prompt_number": 5
    },
    {
     "cell_type": "code",
     "collapsed": false,
     "input": [
      "# ENCSR000AJG ENCSR000AJD\n",
      "def patch_single_cell_experiments():\n",
      "    \"\"\"We have a few things that need editing\n",
      "    \"\"\"   \n",
      "    # fix ENCSR000AJD\n",
      "    obj = server.get_json('/experiments/ENCSR000AJD/')\n",
      "    update_alias(server, obj, 'barbara-wold:single-cell-13274-exp')\n",
      "\n",
      "    # fix ENCSR000AJD\n",
      "    obj = server.get_json('/experiments/ENCSR000AJG/')\n",
      "    update_alias(server, obj, 'barbara-wold:single-cell-13300-exp')\n",
      "    \n",
      "patch_single_cell_experiments()"
     ],
     "language": "python",
     "metadata": {},
     "outputs": [
      {
       "output_type": "stream",
       "stream": "stdout",
       "text": [
        "[u'barbara-wold:single-cell-13274-exp']\n",
        "[u'barbara-wold:single-cell-13300-exp']"
       ]
      },
      {
       "output_type": "stream",
       "stream": "stdout",
       "text": [
        "\n"
       ]
      }
     ],
     "prompt_number": 6
    },
    {
     "cell_type": "heading",
     "level": 1,
     "metadata": {},
     "source": [
      "Update starting amounts"
     ]
    },
    {
     "cell_type": "code",
     "collapsed": false,
     "input": [
      "sheet_name = b\"Caltech Inventory\"\n",
      "inventory_book = gcat.get_file(sheet_name, fmt='pandas_excel')"
     ],
     "language": "python",
     "metadata": {},
     "outputs": [],
     "prompt_number": 7
    },
    {
     "cell_type": "code",
     "collapsed": false,
     "input": [
      "encode3 = inventory_book.parse('ENCODE3 RNA')"
     ],
     "language": "python",
     "metadata": {},
     "outputs": [],
     "prompt_number": 8
    },
    {
     "cell_type": "code",
     "collapsed": false,
     "input": [
      "def get_biosample_updates():\n",
      "    sheet_updates = {}\n",
      "    for i in encode3.index:\n",
      "        row = encode3.ix[i]\n",
      "        accession = row['biosample_accession']\n",
      "        starting_amount = row['nucleic_acid_starting_amount']\n",
      "        starting_units = row['nucleic_acid_starting_amount_units']\n",
      "        if numpy.isnan(starting_amount):\n",
      "            print('{} is nan'.format(accession))\n",
      "            continue\n",
      "        starting = (int(starting_amount), starting_units)\n",
      "        if accession in sheet_updates:\n",
      "            if sheet_updates[accession] != starting:\n",
      "                print( accession, sheet_updates[accession], starting)\n",
      "        else:\n",
      "            sheet_updates[accession] = starting\n",
      "    return sheet_updates"
     ],
     "language": "python",
     "metadata": {},
     "outputs": [],
     "prompt_number": 9
    },
    {
     "cell_type": "code",
     "collapsed": false,
     "input": [
      "def update_encoded_quantities():\n",
      "    sheet_updates = get_biosample_updates()\n",
      "    for accession in sheet_updates:\n",
      "        starting_amount, starting_units = sheet_updates[accession]\n",
      "        current = server.get_json('/biosamples/{}/'.format(accession))\n",
      "        if 'starting_amount' in current and 'starting_amount_units' in current:\n",
      "            encoded_starting_amount = current['starting_amount']\n",
      "            encoded_starting_units = current['starting_amount_units']\n",
      "            if encoded_starting_amount == starting_amount and encoded_starting_units == starting_units:\n",
      "                print('{} is current'.format(accession))\n",
      "            else:\n",
      "                print('{} differs {},{} != {},{}'.format(accession, starting_amount, starting_units, encoded_starting_amount, encoded_starting_units))\n",
      "        else:\n",
      "            print(\"{} doesn't have starting amount on encoded\".format(accession))\n",
      "        update = {'starting_amount': starting_amount,\n",
      "                  'starting_amount_units': starting_units}\n",
      "        server.patch_json(current['@id'], update)\n"
     ],
     "language": "python",
     "metadata": {},
     "outputs": [],
     "prompt_number": 14
    },
    {
     "cell_type": "code",
     "collapsed": false,
     "input": [
      "update_encoded_quantities()"
     ],
     "language": "python",
     "metadata": {},
     "outputs": [
      {
       "output_type": "stream",
       "stream": "stdout",
       "text": [
        "ENCBS087RNA is nan\n",
        "ENCBS088RNA is nan\n",
        "ENCBS087RNA is nan\n",
        "ENCBS088RNA is nan\n",
        "ENCBS090RNA is nan\n",
        "ENCBS089RNA is nan\n",
        "ENCBS090RNA is nan\n",
        "ENCBS089RNA is nan\n",
        "ENCBS158BMT is current"
       ]
      },
      {
       "output_type": "stream",
       "stream": "stdout",
       "text": [
        "\n",
        "ENCBS228OGR is current"
       ]
      },
      {
       "output_type": "stream",
       "stream": "stdout",
       "text": [
        "\n",
        "ENCBS638AZC is current"
       ]
      },
      {
       "output_type": "stream",
       "stream": "stdout",
       "text": [
        "\n",
        "ENCBS839NNF is current"
       ]
      },
      {
       "output_type": "stream",
       "stream": "stdout",
       "text": [
        "\n",
        "ENCBS913NDQ is current"
       ]
      },
      {
       "output_type": "stream",
       "stream": "stdout",
       "text": [
        "\n",
        "ENCBS122ZLM is current"
       ]
      },
      {
       "output_type": "stream",
       "stream": "stdout",
       "text": [
        "\n",
        "ENCBS122LNO doesn't have starting amount on encoded"
       ]
      },
      {
       "output_type": "stream",
       "stream": "stderr",
       "text": [
        "ERROR:htsworkflow.submission.encoded:Error http status: 422\n"
       ]
      },
      {
       "output_type": "stream",
       "stream": "stderr",
       "text": [
        "ERROR:htsworkflow.submission.encoded:Response: {\"status\": \"error\", \"errors\": [{\"location\": \"body\", \"name\": [\"starting_amount_units\"], \"description\": \"u'cell-equivalent' is not one of [u'g', u'mg', u'cells/ml', u'cells', u'whole embryos', u'items', u'\\\\u03bcg', u'whole animals']\"}], \"description\": \"Failed validation\", \"title\": \"Unprocessable Entity\", \"code\": 422, \"@type\": [\"ValidationFailure\", \"error\"]}\n"
       ]
      },
      {
       "output_type": "stream",
       "stream": "stdout",
       "text": [
        "\n"
       ]
      },
      {
       "ename": "HTTPError",
       "evalue": "422 Client Error: Unprocessable Entity",
       "output_type": "pyerr",
       "traceback": [
        "\u001b[0;31m---------------------------------------------------------------------------\u001b[0m\n\u001b[0;31mHTTPError\u001b[0m                                 Traceback (most recent call last)",
        "\u001b[0;32m<ipython-input-15-199b6a0de20d>\u001b[0m in \u001b[0;36m<module>\u001b[0;34m()\u001b[0m\n\u001b[0;32m----> 1\u001b[0;31m \u001b[0mupdate_encoded_quantities\u001b[0m\u001b[0;34m(\u001b[0m\u001b[0;34m)\u001b[0m\u001b[0;34m\u001b[0m\u001b[0m\n\u001b[0m",
        "\u001b[0;32m<ipython-input-14-d77b04856122>\u001b[0m in \u001b[0;36mupdate_encoded_quantities\u001b[0;34m()\u001b[0m\n\u001b[1;32m     15\u001b[0m         update = {'starting_amount': starting_amount,\n\u001b[1;32m     16\u001b[0m                   'starting_amount_units': starting_units}\n\u001b[0;32m---> 17\u001b[0;31m         \u001b[0mserver\u001b[0m\u001b[0;34m.\u001b[0m\u001b[0mpatch_json\u001b[0m\u001b[0;34m(\u001b[0m\u001b[0mcurrent\u001b[0m\u001b[0;34m[\u001b[0m\u001b[0;34m'@id'\u001b[0m\u001b[0;34m]\u001b[0m\u001b[0;34m,\u001b[0m \u001b[0mupdate\u001b[0m\u001b[0;34m)\u001b[0m\u001b[0;34m\u001b[0m\u001b[0m\n\u001b[0m",
        "\u001b[0;32m/home/diane/proj/solexa/htsworkflow/htsworkflow/submission/encoded.pyc\u001b[0m in \u001b[0;36mpatch_json\u001b[0;34m(self, obj_id, changes)\u001b[0m\n\u001b[1;32m    243\u001b[0m             \u001b[0mLOGGER\u001b[0m\u001b[0;34m.\u001b[0m\u001b[0merror\u001b[0m\u001b[0;34m(\u001b[0m\u001b[0;34m\"Error http status: {}\"\u001b[0m\u001b[0;34m.\u001b[0m\u001b[0mformat\u001b[0m\u001b[0;34m(\u001b[0m\u001b[0mresponse\u001b[0m\u001b[0;34m.\u001b[0m\u001b[0mstatus_code\u001b[0m\u001b[0;34m)\u001b[0m\u001b[0;34m)\u001b[0m\u001b[0;34m\u001b[0m\u001b[0m\n\u001b[1;32m    244\u001b[0m             \u001b[0mLOGGER\u001b[0m\u001b[0;34m.\u001b[0m\u001b[0merror\u001b[0m\u001b[0;34m(\u001b[0m\u001b[0;34m\"Response: %s\"\u001b[0m\u001b[0;34m,\u001b[0m \u001b[0mresponse\u001b[0m\u001b[0;34m.\u001b[0m\u001b[0mtext\u001b[0m\u001b[0;34m)\u001b[0m\u001b[0;34m\u001b[0m\u001b[0m\n\u001b[0;32m--> 245\u001b[0;31m             \u001b[0mresponse\u001b[0m\u001b[0;34m.\u001b[0m\u001b[0mraise_for_status\u001b[0m\u001b[0;34m(\u001b[0m\u001b[0;34m)\u001b[0m\u001b[0;34m\u001b[0m\u001b[0m\n\u001b[0m\u001b[1;32m    246\u001b[0m         \u001b[0;32mreturn\u001b[0m \u001b[0mresponse\u001b[0m\u001b[0;34m.\u001b[0m\u001b[0mjson\u001b[0m\u001b[0;34m(\u001b[0m\u001b[0;34m)\u001b[0m\u001b[0;34m\u001b[0m\u001b[0m\n\u001b[1;32m    247\u001b[0m \u001b[0;34m\u001b[0m\u001b[0m\n",
        "\u001b[0;32m/usr/lib/python2.7/dist-packages/requests/models.pyc\u001b[0m in \u001b[0;36mraise_for_status\u001b[0;34m(self)\u001b[0m\n\u001b[1;32m    793\u001b[0m \u001b[0;34m\u001b[0m\u001b[0m\n\u001b[1;32m    794\u001b[0m         \u001b[0;32mif\u001b[0m \u001b[0mhttp_error_msg\u001b[0m\u001b[0;34m:\u001b[0m\u001b[0;34m\u001b[0m\u001b[0m\n\u001b[0;32m--> 795\u001b[0;31m             \u001b[0;32mraise\u001b[0m \u001b[0mHTTPError\u001b[0m\u001b[0;34m(\u001b[0m\u001b[0mhttp_error_msg\u001b[0m\u001b[0;34m,\u001b[0m \u001b[0mresponse\u001b[0m\u001b[0;34m=\u001b[0m\u001b[0mself\u001b[0m\u001b[0;34m)\u001b[0m\u001b[0;34m\u001b[0m\u001b[0m\n\u001b[0m\u001b[1;32m    796\u001b[0m \u001b[0;34m\u001b[0m\u001b[0m\n\u001b[1;32m    797\u001b[0m     \u001b[0;32mdef\u001b[0m \u001b[0mclose\u001b[0m\u001b[0;34m(\u001b[0m\u001b[0mself\u001b[0m\u001b[0;34m)\u001b[0m\u001b[0;34m:\u001b[0m\u001b[0;34m\u001b[0m\u001b[0m\n",
        "\u001b[0;31mHTTPError\u001b[0m: 422 Client Error: Unprocessable Entity"
       ]
      }
     ],
     "prompt_number": 15
    },
    {
     "cell_type": "heading",
     "level": 1,
     "metadata": {},
     "source": [
      "Create supplemental materials document"
     ]
    },
    {
     "cell_type": "code",
     "collapsed": false,
     "input": [
      "def create_supplemental_document():\n",
      "    filename = 'Supplemental_Material.pdf'\n",
      "    with open(filename, 'r') as stream:\n",
      "        document = stream.read()\n",
      "        md5sum = hashlib.md5(document)\n",
      "        \n",
      "    document_payload = {\n",
      "        'attachment': {\n",
      "          'download': filename,  \n",
      "          'type': 'application/pdf',\n",
      "          'href': 'data:application/pdf;base64,' + \n",
      "                   base64.b64encode(document),\n",
      "          'md5sum': md5sum.hexdigest(),\n",
      "        },\n",
      "        'document_type': 'general protocol',\n",
      "        'description': 'Supplemental protocols from PMID: 24299736',\n",
      "        'urls': ['http://genome.cshlp.org/content/suppl/2014/01/06/gr.161034.113.DC1/Supplemental_Material.pdf'],\n",
      "        'references': ['PMID:24299736'],\n",
      "        'award': '/awards/U54HG006998/',\n",
      "        'lab': '/labs/barabara-wold/',\n",
      "        'aliases': ['barbara-wold:Gm12878_single_cell_supplemental_protocols']\n",
      "    }\n",
      "    return document_payload"
     ],
     "language": "python",
     "metadata": {},
     "outputs": [],
     "prompt_number": 12
    },
    {
     "cell_type": "code",
     "collapsed": false,
     "input": [
      "def post_supplemental_methods(document_payload):\n",
      "    server = ENCODED('test.encodedcc.org')\n",
      "    server.load_netrc()\n",
      "    uuid = None\n",
      "    \n",
      "    if uuid:\n",
      "        try:\n",
      "            document = server.get_json(uuid)\n",
      "            if document:\n",
      "                return\n",
      "        except requests.HTTPError as err:\n",
      "            if err.code == 404:\n",
      "                # got lost, try to post again\n",
      "                pass\n",
      "            else:\n",
      "                raise err\n",
      "\n",
      "    print server.post_json('/documents/', document_payload)\n"
     ],
     "language": "python",
     "metadata": {},
     "outputs": [
      {
       "ename": "SyntaxError",
       "evalue": "invalid syntax (<ipython-input-13-3e2792c13bc3>, line 18)",
       "output_type": "pyerr",
       "traceback": [
        "\u001b[0;36m  File \u001b[0;32m\"<ipython-input-13-3e2792c13bc3>\"\u001b[0;36m, line \u001b[0;32m18\u001b[0m\n\u001b[0;31m    print server.post_json('/documents/', document_payload)\u001b[0m\n\u001b[0m               ^\u001b[0m\n\u001b[0;31mSyntaxError\u001b[0m\u001b[0;31m:\u001b[0m invalid syntax\n"
       ]
      }
     ],
     "prompt_number": 13
    },
    {
     "cell_type": "code",
     "collapsed": false,
     "input": [
      "#payload = create_supplemental_document()\n"
     ],
     "language": "python",
     "metadata": {},
     "outputs": []
    },
    {
     "cell_type": "code",
     "collapsed": false,
     "input": [],
     "language": "python",
     "metadata": {},
     "outputs": []
    }
   ],
   "metadata": {}
  }
 ]
}