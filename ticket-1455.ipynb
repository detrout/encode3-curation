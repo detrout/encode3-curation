{
 "metadata": {
  "name": "",
  "signature": "sha256:d39a6abf842e4e334d88764d6f4aa3661f00c7e467c89790323c2db1fac2a123"
 },
 "nbformat": 3,
 "nbformat_minor": 0,
 "worksheets": [
  {
   "cells": [
    {
     "cell_type": "heading",
     "level": 1,
     "metadata": {},
     "source": [
      "Introduction"
     ]
    },
    {
     "cell_type": "markdown",
     "metadata": {},
     "source": [
      "This notebook contains my efforts to fix issues raised in <a href=\"http://redmine.encodedcc.org/issues/1455\">ticket 1455</a>."
     ]
    },
    {
     "cell_type": "heading",
     "level": 1,
     "metadata": {},
     "source": [
      "Setup"
     ]
    },
    {
     "cell_type": "code",
     "collapsed": false,
     "input": [
      "from __future__ import print_function, unicode_literals"
     ],
     "language": "python",
     "metadata": {},
     "outputs": [],
     "prompt_number": 1
    },
    {
     "cell_type": "code",
     "collapsed": false,
     "input": [
      "import base64\n",
      "import hashlib\n",
      "from pprint import pprint, pformat\n",
      "import numpy\n",
      "import requests\n",
      "import jsonschema\n",
      "\n",
      "import gcat"
     ],
     "language": "python",
     "metadata": {},
     "outputs": [],
     "prompt_number": 114
    },
    {
     "cell_type": "code",
     "collapsed": false,
     "input": [
      "from curation_common import *"
     ],
     "language": "python",
     "metadata": {},
     "outputs": [],
     "prompt_number": 3
    },
    {
     "cell_type": "code",
     "collapsed": false,
     "input": [
      "server = ENCODED('www.encodedcc.org')\n",
      "server.load_netrc()"
     ],
     "language": "python",
     "metadata": {},
     "outputs": [],
     "prompt_number": 4
    },
    {
     "cell_type": "heading",
     "level": 1,
     "metadata": {},
     "source": [
      "Update Alias"
     ]
    },
    {
     "cell_type": "code",
     "collapsed": false,
     "input": [
      "def update_alias(server, obj, new_alias):\n",
      "    aliases = obj['aliases']\n",
      "    print(aliases)\n",
      "    if new_alias not in aliases:\n",
      "        aliases.append(new_alias)\n",
      "        print(server.patch_json(obj['@id'], {'aliases': aliases}))"
     ],
     "language": "python",
     "metadata": {},
     "outputs": [],
     "prompt_number": 5
    },
    {
     "cell_type": "code",
     "collapsed": false,
     "input": [
      "# ENCSR000AJG ENCSR000AJD\n",
      "def patch_single_cell_experiments():\n",
      "    \"\"\"We have a few things that need editing\n",
      "    \"\"\"   \n",
      "    # fix ENCSR000AJD\n",
      "    obj = server.get_json('/experiments/ENCSR000AJD/')\n",
      "    update_alias(server, obj, 'barbara-wold:single-cell-13274-exp')\n",
      "\n",
      "    # fix ENCSR000AJD\n",
      "    obj = server.get_json('/experiments/ENCSR000AJG/')\n",
      "    update_alias(server, obj, 'barbara-wold:single-cell-13300-exp')\n",
      "    \n",
      "patch_single_cell_experiments()"
     ],
     "language": "python",
     "metadata": {},
     "outputs": [
      {
       "output_type": "stream",
       "stream": "stdout",
       "text": [
        "[u'barbara-wold:single-cell-13274-exp']\n",
        "[u'barbara-wold:single-cell-13300-exp']"
       ]
      },
      {
       "output_type": "stream",
       "stream": "stdout",
       "text": [
        "\n"
       ]
      }
     ],
     "prompt_number": 6
    },
    {
     "cell_type": "heading",
     "level": 1,
     "metadata": {},
     "source": [
      "Update starting amounts"
     ]
    },
    {
     "cell_type": "code",
     "collapsed": false,
     "input": [
      "sheet_name = b\"Caltech Inventory\"\n",
      "inventory_book = gcat.get_file(sheet_name, fmt='pandas_excel')"
     ],
     "language": "python",
     "metadata": {},
     "outputs": [],
     "prompt_number": 7
    },
    {
     "cell_type": "code",
     "collapsed": false,
     "input": [],
     "language": "python",
     "metadata": {},
     "outputs": [],
     "prompt_number": 7
    },
    {
     "cell_type": "code",
     "collapsed": false,
     "input": [
      "def get_library_updates():\n",
      "    encode3 = inventory_book.parse('ENCODE3 RNA')\n",
      "    sheet_updates = {}\n",
      "    for i in encode3.index:\n",
      "        row = encode3.ix[i]\n",
      "        accession = row['library_accession']\n",
      "        starting_amount = row['nucleic_acid_starting_amount']\n",
      "        starting_units = row['nucleic_acid_starting_amount_units']\n",
      "        if numpy.isnan(starting_amount):\n",
      "            print('{} is nan'.format(accession))\n",
      "            continue\n",
      "        starting = (unicode(int(starting_amount)), starting_units)\n",
      "        if accession in sheet_updates:\n",
      "            if sheet_updates[accession] != starting:\n",
      "                print( accession, sheet_updates[accession], starting)\n",
      "        else:\n",
      "            sheet_updates[accession] = starting\n",
      "    return sheet_updates"
     ],
     "language": "python",
     "metadata": {},
     "outputs": [],
     "prompt_number": 8
    },
    {
     "cell_type": "code",
     "collapsed": false,
     "input": [
      "def update_starting_quantities():\n",
      "    sheet_updates = get_library_updates()\n",
      "    starting_name = 'nucleic_acid_starting_quantity'\n",
      "    units_name = 'nucleic_acid_starting_quantity_units'\n",
      "    for accession in sheet_updates:\n",
      "        starting_amount, starting_units = sheet_updates[accession]\n",
      "        current = server.get_json('/library/{}/'.format(accession))\n",
      "        if starting_name in current and units_name in current:\n",
      "            encoded_starting_amount = current[starting_name]\n",
      "            encoded_starting_units = current[units_name]\n",
      "            if encoded_starting_amount == starting_amount and encoded_starting_units == starting_units:\n",
      "                print('{} is current'.format(accession))\n",
      "            else:\n",
      "                print('{} differs {},{},{} != {},{},{}'.format(\n",
      "                      accession, \n",
      "                      starting_amount, type(starting_amount), starting_units, \n",
      "                      encoded_starting_amount, type(encoded_starting_amount), encoded_starting_units))\n",
      "        else:\n",
      "            print(\"{} doesn't have starting amount on encoded\".format(accession))\n",
      "        update = {starting_name: unicode(starting_amount),\n",
      "                  units_name: unicode(starting_units)}\n",
      "        server.patch_json(current['@id'], update)\n"
     ],
     "language": "python",
     "metadata": {},
     "outputs": [],
     "prompt_number": 9
    },
    {
     "cell_type": "code",
     "collapsed": false,
     "input": [
      "update_starting_quantities()"
     ],
     "language": "python",
     "metadata": {},
     "outputs": [
      {
       "output_type": "stream",
       "stream": "stdout",
       "text": [
        "ENCLB063ZZZ is nan\n",
        "ENCLB064ZZZ is nan\n",
        "ENCLB061ZZZ is nan\n",
        "ENCLB062ZZZ is nan\n",
        "ENCLB046ZZZ is nan\n",
        "ENCLB045ZZZ is nan\n",
        "ENCLB044ZZZ is nan\n",
        "ENCLB043ZZZ is nan\n",
        "ENCLB868NQU is current"
       ]
      },
      {
       "output_type": "stream",
       "stream": "stdout",
       "text": [
        "\n",
        "ENCLB211OUD is current"
       ]
      },
      {
       "output_type": "stream",
       "stream": "stdout",
       "text": [
        "\n",
        "ENCLB904FTO is current"
       ]
      },
      {
       "output_type": "stream",
       "stream": "stdout",
       "text": [
        "\n",
        "ENCLB283IJI is current"
       ]
      },
      {
       "output_type": "stream",
       "stream": "stdout",
       "text": [
        "\n",
        "ENCLB912XSU is current"
       ]
      },
      {
       "output_type": "stream",
       "stream": "stdout",
       "text": [
        "\n",
        "ENCLB267CXI is current"
       ]
      },
      {
       "output_type": "stream",
       "stream": "stdout",
       "text": [
        "\n",
        "ENCLB632CVX is current"
       ]
      },
      {
       "output_type": "stream",
       "stream": "stdout",
       "text": [
        "\n",
        "ENCLB331AUZ is current"
       ]
      },
      {
       "output_type": "stream",
       "stream": "stdout",
       "text": [
        "\n",
        "ENCLB228BIT is current"
       ]
      },
      {
       "output_type": "stream",
       "stream": "stdout",
       "text": [
        "\n",
        "ENCLB222MSP is current"
       ]
      },
      {
       "output_type": "stream",
       "stream": "stdout",
       "text": [
        "\n",
        "ENCLB294BYK is current"
       ]
      },
      {
       "output_type": "stream",
       "stream": "stdout",
       "text": [
        "\n",
        "ENCLB198OUV is current"
       ]
      },
      {
       "output_type": "stream",
       "stream": "stdout",
       "text": [
        "\n",
        "ENCLB552DLJ is current"
       ]
      },
      {
       "output_type": "stream",
       "stream": "stdout",
       "text": [
        "\n",
        "ENCLB882HPA is current"
       ]
      },
      {
       "output_type": "stream",
       "stream": "stdout",
       "text": [
        "\n",
        "ENCLB714NCU is current"
       ]
      },
      {
       "output_type": "stream",
       "stream": "stdout",
       "text": [
        "\n",
        "ENCLB319PGU is current"
       ]
      },
      {
       "output_type": "stream",
       "stream": "stdout",
       "text": [
        "\n",
        "ENCLB151CUN is current"
       ]
      },
      {
       "output_type": "stream",
       "stream": "stdout",
       "text": [
        "\n",
        "ENCLB632SOL is current"
       ]
      },
      {
       "output_type": "stream",
       "stream": "stdout",
       "text": [
        "\n",
        "ENCLB804XTY is current"
       ]
      },
      {
       "output_type": "stream",
       "stream": "stdout",
       "text": [
        "\n",
        "ENCLB402YMB is current"
       ]
      },
      {
       "output_type": "stream",
       "stream": "stdout",
       "text": [
        "\n",
        "ENCLB340FFP is current"
       ]
      },
      {
       "output_type": "stream",
       "stream": "stdout",
       "text": [
        "\n",
        "ENCLB462FVS is current"
       ]
      },
      {
       "output_type": "stream",
       "stream": "stdout",
       "text": [
        "\n",
        "ENCLB562SNL is current"
       ]
      },
      {
       "output_type": "stream",
       "stream": "stdout",
       "text": [
        "\n",
        "ENCLB187EEQ is current"
       ]
      },
      {
       "output_type": "stream",
       "stream": "stdout",
       "text": [
        "\n",
        "ENCLB576ZGP is current"
       ]
      },
      {
       "output_type": "stream",
       "stream": "stdout",
       "text": [
        "\n",
        "ENCLB242XIT is current"
       ]
      },
      {
       "output_type": "stream",
       "stream": "stdout",
       "text": [
        "\n",
        "ENCLB619TYA is current"
       ]
      },
      {
       "output_type": "stream",
       "stream": "stdout",
       "text": [
        "\n",
        "ENCLB482LEX is current"
       ]
      },
      {
       "output_type": "stream",
       "stream": "stdout",
       "text": [
        "\n",
        "ENCLB621DLJ is current"
       ]
      },
      {
       "output_type": "stream",
       "stream": "stdout",
       "text": [
        "\n",
        "ENCLB857XKO is current"
       ]
      },
      {
       "output_type": "stream",
       "stream": "stdout",
       "text": [
        "\n",
        "ENCLB611KGC is current"
       ]
      },
      {
       "output_type": "stream",
       "stream": "stdout",
       "text": [
        "\n",
        "ENCLB617JJG is current"
       ]
      },
      {
       "output_type": "stream",
       "stream": "stdout",
       "text": [
        "\n",
        "ENCLB205HHN is current"
       ]
      },
      {
       "output_type": "stream",
       "stream": "stdout",
       "text": [
        "\n",
        "ENCLB386HBI is current"
       ]
      },
      {
       "output_type": "stream",
       "stream": "stdout",
       "text": [
        "\n",
        "ENCLB211FCW is current"
       ]
      },
      {
       "output_type": "stream",
       "stream": "stdout",
       "text": [
        "\n",
        "ENCLB614VPZ is current"
       ]
      },
      {
       "output_type": "stream",
       "stream": "stdout",
       "text": [
        "\n",
        "ENCLB898RJN is current"
       ]
      },
      {
       "output_type": "stream",
       "stream": "stdout",
       "text": [
        "\n",
        "ENCLB403JBC is current"
       ]
      },
      {
       "output_type": "stream",
       "stream": "stdout",
       "text": [
        "\n",
        "ENCLB550GYC is current"
       ]
      },
      {
       "output_type": "stream",
       "stream": "stdout",
       "text": [
        "\n",
        "ENCLB264YKE is current"
       ]
      },
      {
       "output_type": "stream",
       "stream": "stdout",
       "text": [
        "\n",
        "ENCLB476CZO is current"
       ]
      },
      {
       "output_type": "stream",
       "stream": "stdout",
       "text": [
        "\n",
        "ENCLB452IVF is current"
       ]
      },
      {
       "output_type": "stream",
       "stream": "stdout",
       "text": [
        "\n",
        "ENCLB108EAP is current"
       ]
      },
      {
       "output_type": "stream",
       "stream": "stdout",
       "text": [
        "\n",
        "ENCLB546SWD is current"
       ]
      },
      {
       "output_type": "stream",
       "stream": "stdout",
       "text": [
        "\n",
        "ENCLB426EUN is current"
       ]
      },
      {
       "output_type": "stream",
       "stream": "stdout",
       "text": [
        "\n",
        "ENCLB432EQY is current"
       ]
      },
      {
       "output_type": "stream",
       "stream": "stdout",
       "text": [
        "\n",
        "ENCLB206JYT is current"
       ]
      },
      {
       "output_type": "stream",
       "stream": "stdout",
       "text": [
        "\n",
        "ENCLB147KNI is current"
       ]
      },
      {
       "output_type": "stream",
       "stream": "stdout",
       "text": [
        "\n",
        "ENCLB257OVB is current"
       ]
      },
      {
       "output_type": "stream",
       "stream": "stdout",
       "text": [
        "\n",
        "ENCLB915IHV is current"
       ]
      },
      {
       "output_type": "stream",
       "stream": "stdout",
       "text": [
        "\n",
        "ENCLB928LID is current"
       ]
      },
      {
       "output_type": "stream",
       "stream": "stdout",
       "text": [
        "\n",
        "ENCLB284CYK is current"
       ]
      },
      {
       "output_type": "stream",
       "stream": "stdout",
       "text": [
        "\n",
        "ENCLB036TZY is current"
       ]
      },
      {
       "output_type": "stream",
       "stream": "stdout",
       "text": [
        "\n",
        "ENCLB146LAW is current"
       ]
      },
      {
       "output_type": "stream",
       "stream": "stdout",
       "text": [
        "\n",
        "ENCLB509KSM is current"
       ]
      },
      {
       "output_type": "stream",
       "stream": "stdout",
       "text": [
        "\n",
        "ENCLB804XKW is current"
       ]
      },
      {
       "output_type": "stream",
       "stream": "stdout",
       "text": [
        "\n",
        "ENCLB976CMA is current"
       ]
      },
      {
       "output_type": "stream",
       "stream": "stdout",
       "text": [
        "\n",
        "ENCLB229ENW is current"
       ]
      },
      {
       "output_type": "stream",
       "stream": "stdout",
       "text": [
        "\n",
        "ENCLB392ZIG is current"
       ]
      },
      {
       "output_type": "stream",
       "stream": "stdout",
       "text": [
        "\n",
        "ENCLB710XHU is current"
       ]
      },
      {
       "output_type": "stream",
       "stream": "stdout",
       "text": [
        "\n",
        "ENCLB391GZT is current"
       ]
      },
      {
       "output_type": "stream",
       "stream": "stdout",
       "text": [
        "\n",
        "ENCLB876ZIU is current"
       ]
      },
      {
       "output_type": "stream",
       "stream": "stdout",
       "text": [
        "\n",
        "ENCLB218HBM is current"
       ]
      },
      {
       "output_type": "stream",
       "stream": "stdout",
       "text": [
        "\n",
        "ENCLB532KHK is current"
       ]
      },
      {
       "output_type": "stream",
       "stream": "stdout",
       "text": [
        "\n",
        "ENCLB641KNK is current"
       ]
      },
      {
       "output_type": "stream",
       "stream": "stdout",
       "text": [
        "\n",
        "ENCLB720FXC is current"
       ]
      },
      {
       "output_type": "stream",
       "stream": "stdout",
       "text": [
        "\n",
        "ENCLB164LQL is current"
       ]
      },
      {
       "output_type": "stream",
       "stream": "stdout",
       "text": [
        "\n",
        "ENCLB720ZUM is current"
       ]
      },
      {
       "output_type": "stream",
       "stream": "stdout",
       "text": [
        "\n",
        "ENCLB078UJF is current"
       ]
      },
      {
       "output_type": "stream",
       "stream": "stdout",
       "text": [
        "\n",
        "ENCLB747ZHK is current"
       ]
      },
      {
       "output_type": "stream",
       "stream": "stdout",
       "text": [
        "\n",
        "ENCLB087SVF is current"
       ]
      },
      {
       "output_type": "stream",
       "stream": "stdout",
       "text": [
        "\n",
        "ENCLB901PGF is current"
       ]
      },
      {
       "output_type": "stream",
       "stream": "stdout",
       "text": [
        "\n",
        "ENCLB204VYG is current"
       ]
      },
      {
       "output_type": "stream",
       "stream": "stdout",
       "text": [
        "\n",
        "ENCLB036MBQ is current"
       ]
      },
      {
       "output_type": "stream",
       "stream": "stdout",
       "text": [
        "\n",
        "ENCLB327MTR is current"
       ]
      },
      {
       "output_type": "stream",
       "stream": "stdout",
       "text": [
        "\n",
        "ENCLB678KFT is current"
       ]
      },
      {
       "output_type": "stream",
       "stream": "stdout",
       "text": [
        "\n",
        "ENCLB350NUB is current"
       ]
      },
      {
       "output_type": "stream",
       "stream": "stdout",
       "text": [
        "\n"
       ]
      }
     ],
     "prompt_number": 10
    },
    {
     "cell_type": "heading",
     "level": 1,
     "metadata": {},
     "source": [
      "Create supplemental materials document"
     ]
    },
    {
     "cell_type": "code",
     "collapsed": false,
     "input": [
      "def create_supplemental_document():\n",
      "    filename = 'Supplemental_Material.pdf'\n",
      "    with open(filename, 'r') as stream:\n",
      "        document = stream.read()\n",
      "        md5sum = hashlib.md5(document)\n",
      "        \n",
      "    document_payload = {\n",
      "        'attachment': {\n",
      "          'download': filename,  \n",
      "          'type': 'application/pdf',\n",
      "          'href': 'data:application/pdf;base64,' + \n",
      "                   base64.b64encode(document),\n",
      "          'md5sum': md5sum.hexdigest()\n",
      "        },\n",
      "        'document_type': 'general protocol',\n",
      "        'description': 'Supplemental protocols from PMID: 24299736',\n",
      "        'urls': ['http://genome.cshlp.org/content/suppl/2014/01/06/gr.161034.113.DC1/Supplemental_Material.pdf'],\n",
      "        'references': ['PMID:24299736'],\n",
      "        'award': 'U54HG006998',\n",
      "        'lab': '/labs/barbara-wold',\n",
      "        'aliases': ['barbara-wold:Gm12878_single_cell_supplemental_protocols']\n",
      "    }\n",
      "    return document_payload"
     ],
     "language": "python",
     "metadata": {},
     "outputs": [],
     "prompt_number": 11
    },
    {
     "cell_type": "code",
     "collapsed": false,
     "input": [
      "def post_supplemental_methods(document_payload):\n",
      "    server = ENCODED('www.encodedcc.org')\n",
      "    server.load_netrc()\n",
      "    uuid = u'e3110414-4013-425e-94f6-72c549702bde'\n",
      "    \n",
      "    if uuid:\n",
      "        try:\n",
      "            document = server.get_json(uuid)\n",
      "            if document:\n",
      "                return\n",
      "        except requests.HTTPError as err:\n",
      "            if err.code == 404:\n",
      "                # got lost, try to post again\n",
      "                pass\n",
      "            else:\n",
      "                raise err\n",
      "\n",
      "    print(server.post_json('/documents/', document_payload))\n"
     ],
     "language": "python",
     "metadata": {},
     "outputs": [],
     "prompt_number": 12
    },
    {
     "cell_type": "code",
     "collapsed": false,
     "input": [
      "payload = create_supplemental_document()\n",
      "post_supplemental_methods(payload)"
     ],
     "language": "python",
     "metadata": {},
     "outputs": [],
     "prompt_number": 13
    },
    {
     "cell_type": "code",
     "collapsed": false,
     "input": [
      "import json"
     ],
     "language": "python",
     "metadata": {},
     "outputs": [],
     "prompt_number": 14
    },
    {
     "cell_type": "code",
     "collapsed": false,
     "input": [
      "with open('/tmp/document.json','w') as out:\n",
      "    out.write(json.dumps(payload))"
     ],
     "language": "python",
     "metadata": {},
     "outputs": [],
     "prompt_number": 15
    },
    {
     "cell_type": "heading",
     "level": 1,
     "metadata": {},
     "source": [
      "Update biosample names"
     ]
    },
    {
     "cell_type": "code",
     "collapsed": false,
     "input": [
      "poorly_named = encode3 = inventory_book.parse('Poorly named biosamples')"
     ],
     "language": "python",
     "metadata": {},
     "outputs": [],
     "prompt_number": 16
    },
    {
     "cell_type": "code",
     "collapsed": false,
     "input": [
      "poorly_named"
     ],
     "language": "python",
     "metadata": {},
     "outputs": [
      {
       "html": [
        "<div style=\"max-height:1000px;max-width:1500px;overflow:auto;\">\n",
        "<table border=\"1\" class=\"dataframe\">\n",
        "  <thead>\n",
        "    <tr style=\"text-align: right;\">\n",
        "      <th></th>\n",
        "      <th>biosample_accession</th>\n",
        "      <th>suggested name</th>\n",
        "      <th>uuid</th>\n",
        "      <th>aliases</th>\n",
        "      <th>current name</th>\n",
        "    </tr>\n",
        "  </thead>\n",
        "  <tbody>\n",
        "    <tr>\n",
        "      <th>0 </th>\n",
        "      <td> ENCBS934CYZ</td>\n",
        "      <td>                              GM12878 10 cell pool</td>\n",
        "      <td> 57289dce-0148-4f2d-89a3-32b1acd97647</td>\n",
        "      <td>            [u'barbara-wold:GM12878-10-cell-pool']</td>\n",
        "      <td>                             GM12878 10 cell pool</td>\n",
        "    </tr>\n",
        "    <tr>\n",
        "      <th>1 </th>\n",
        "      <td> ENCBS236ZAD</td>\n",
        "      <td>                              GM12878 11 cell pool</td>\n",
        "      <td> 9f46e244-bc9c-4bc4-accd-924c3ed22350</td>\n",
        "      <td>            [u'barbara-wold:GM12878-11-cell-pool']</td>\n",
        "      <td>                             GM12878 11 cell pool</td>\n",
        "    </tr>\n",
        "    <tr>\n",
        "      <th>2 </th>\n",
        "      <td> ENCBS791FEH</td>\n",
        "      <td>                              GM12878 30 cell pool</td>\n",
        "      <td> 0a41d607-9c07-4101-a511-9d30320b0698</td>\n",
        "      <td>          [u'barbara-wold:GM12878-30-cell-pool-A']</td>\n",
        "      <td> GM12878 30 cell pool A (analysis group in paper)</td>\n",
        "    </tr>\n",
        "    <tr>\n",
        "      <th>3 </th>\n",
        "      <td> ENCBS839NNF</td>\n",
        "      <td>                              GM12878 30 cell pool</td>\n",
        "      <td> bd03543e-cc1c-4776-83a0-d58743e48a73</td>\n",
        "      <td>          [u'barbara-wold:GM12878-30-cell-pool-B']</td>\n",
        "      <td> GM12878 30 cell pool B (analysis group in paper)</td>\n",
        "    </tr>\n",
        "    <tr>\n",
        "      <th>4 </th>\n",
        "      <td> ENCBS487GLA</td>\n",
        "      <td>                          GM12878 bulk prep 10 ngs</td>\n",
        "      <td> 4247ae6b-1590-4795-b6ed-bcae2d33427e</td>\n",
        "      <td>        [u'barbara-wold:10ng-of-single-cell-prep']</td>\n",
        "      <td>                         GM12878 bulk prep 10 ngs</td>\n",
        "    </tr>\n",
        "    <tr>\n",
        "      <th>5 </th>\n",
        "      <td> ENCBS280SII</td>\n",
        "      <td>          Single GM12878 cell, part of a set of 10</td>\n",
        "      <td> 395038d8-f475-432b-8fc1-c9ac298bea6c</td>\n",
        "      <td>               [u'barbara-wold:single-cell-13282']</td>\n",
        "      <td>                                   GM12878 cell 1</td>\n",
        "    </tr>\n",
        "    <tr>\n",
        "      <th>6 </th>\n",
        "      <td> ENCBS135VMF</td>\n",
        "      <td>          Single GM12878 cell, part of a set of 10</td>\n",
        "      <td> f00466be-4890-4550-a67d-dedff3b6ca58</td>\n",
        "      <td>               [u'barbara-wold:single-cell-13291']</td>\n",
        "      <td>                                  GM12878 cell 10</td>\n",
        "    </tr>\n",
        "    <tr>\n",
        "      <th>7 </th>\n",
        "      <td> ENCBS950FXN</td>\n",
        "      <td>          Single GM12878 cell, part of a set of 10</td>\n",
        "      <td> 9fcd7554-3130-4f08-883c-701758dcd875</td>\n",
        "      <td>               [u'barbara-wold:single-cell-13283']</td>\n",
        "      <td>                                   GM12878 cell 2</td>\n",
        "    </tr>\n",
        "    <tr>\n",
        "      <th>8 </th>\n",
        "      <td> ENCBS036HXX</td>\n",
        "      <td>          Single GM12878 cell, part of a set of 10</td>\n",
        "      <td> 498903d3-a344-4926-a7f3-42a69f9ddcbc</td>\n",
        "      <td>               [u'barbara-wold:single-cell-13284']</td>\n",
        "      <td>                                   GM12878 cell 3</td>\n",
        "    </tr>\n",
        "    <tr>\n",
        "      <th>9 </th>\n",
        "      <td> ENCBS638AZC</td>\n",
        "      <td>          Single GM12878 cell, part of a set of 10</td>\n",
        "      <td> 0f73e56c-3db5-488f-9f3f-ea2c99d886b2</td>\n",
        "      <td>               [u'barbara-wold:single-cell-13285']</td>\n",
        "      <td>                                   GM12878 cell 4</td>\n",
        "    </tr>\n",
        "    <tr>\n",
        "      <th>10</th>\n",
        "      <td> ENCBS879WMA</td>\n",
        "      <td>          Single GM12878 cell, part of a set of 10</td>\n",
        "      <td> 882edf6e-5530-4774-b907-a297ab146899</td>\n",
        "      <td>               [u'barbara-wold:single-cell-13286']</td>\n",
        "      <td>                                   GM12878 cell 5</td>\n",
        "    </tr>\n",
        "    <tr>\n",
        "      <th>11</th>\n",
        "      <td> ENCBS158BMT</td>\n",
        "      <td>          Single GM12878 cell, part of a set of 10</td>\n",
        "      <td> eef2d090-fe8a-48b2-b53f-d1d7ccbe50b1</td>\n",
        "      <td>               [u'barbara-wold:single-cell-13287']</td>\n",
        "      <td>                                   GM12878 cell 6</td>\n",
        "    </tr>\n",
        "    <tr>\n",
        "      <th>12</th>\n",
        "      <td> ENCBS901DKW</td>\n",
        "      <td>          Single GM12878 cell, part of a set of 10</td>\n",
        "      <td> 243d9b1c-da3b-4305-9a69-d75874123322</td>\n",
        "      <td>               [u'barbara-wold:single-cell-13288']</td>\n",
        "      <td>                                   GM12878 cell 7</td>\n",
        "    </tr>\n",
        "    <tr>\n",
        "      <th>13</th>\n",
        "      <td> ENCBS381VEV</td>\n",
        "      <td>          Single GM12878 cell, part of a set of 10</td>\n",
        "      <td> f55b5d61-d889-4e0f-9613-44cbfeb650b6</td>\n",
        "      <td>               [u'barbara-wold:single-cell-13289']</td>\n",
        "      <td>                                   GM12878 cell 8</td>\n",
        "    </tr>\n",
        "    <tr>\n",
        "      <th>14</th>\n",
        "      <td> ENCBS913NDQ</td>\n",
        "      <td>          Single GM12878 cell, part of a set of 10</td>\n",
        "      <td> d5dec605-f1f2-4cba-a72f-027de260ae24</td>\n",
        "      <td>               [u'barbara-wold:single-cell-13290']</td>\n",
        "      <td>                                   GM12878 cell 9</td>\n",
        "    </tr>\n",
        "    <tr>\n",
        "      <th>15</th>\n",
        "      <td> ENCBS356XKT</td>\n",
        "      <td> 10 homogenized GM12878 cells prepared for a po...</td>\n",
        "      <td> d9d63c75-9978-4eb6-8fa2-76d1c3394731</td>\n",
        "      <td>    [u'barbara-wold:GM12878-pool-for-pool-splits']</td>\n",
        "      <td>                                     GM12878 pool</td>\n",
        "    </tr>\n",
        "    <tr>\n",
        "      <th>16</th>\n",
        "      <td> ENCBS122LNO</td>\n",
        "      <td>       Granule cells from a 20 year old male brain</td>\n",
        "      <td> 2fe53777-ac74-4d8a-83a7-a4ce5056e969</td>\n",
        "      <td>        [u'barbara-wold:UMB4727-granule-sample-B']</td>\n",
        "      <td>                       Hs_UMB4727_20 M_CN_granule</td>\n",
        "    </tr>\n",
        "    <tr>\n",
        "      <th>17</th>\n",
        "      <td> ENCBS188JNJ</td>\n",
        "      <td>       Granule cells from a 20 year old male brain</td>\n",
        "      <td> bfb862c6-611e-49d4-bacf-0e53ca905dd8</td>\n",
        "      <td>        [u'barbara-wold:UMB4727-granule-sample-A']</td>\n",
        "      <td>                       Hs_UMB4727_20 M_CN_granule</td>\n",
        "    </tr>\n",
        "    <tr>\n",
        "      <th>18</th>\n",
        "      <td> ENCBS590LDH</td>\n",
        "      <td>    30 pyramid cells from a 20 year old male brain</td>\n",
        "      <td> 727abfb1-5ab7-480d-8b87-0baf51abeb89</td>\n",
        "      <td> [u'barbara-wold:UMB4727-pyramids-30-cell-pool-A']</td>\n",
        "      <td>         Hs_UMB4727_20_M_CN_midFI_pyramids_30pool</td>\n",
        "    </tr>\n",
        "    <tr>\n",
        "      <th>19</th>\n",
        "      <td> ENCBS651ADZ</td>\n",
        "      <td>    30 pyramid cells from a 20 year old male brain</td>\n",
        "      <td> d2d36167-48f0-46a5-af99-4d9079c6fdd7</td>\n",
        "      <td> [u'barbara-wold:UMB4727-pyramids-30-cell-pool-B']</td>\n",
        "      <td>         Hs_UMB4727_20_M_CN_midFI_pyramids_30pool</td>\n",
        "    </tr>\n",
        "    <tr>\n",
        "      <th>20</th>\n",
        "      <td> ENCBS503XXB</td>\n",
        "      <td>   30 Purkinje cells from a 20 year old male brain</td>\n",
        "      <td> 3ab223ce-bb88-4e5c-8e05-60172d535295</td>\n",
        "      <td> [u'barbara-wold:UMB4727-Purkinje-30-cell-pool-A']</td>\n",
        "      <td>               Hs_UMB4727_20_M_CN_Purkinje_30pool</td>\n",
        "    </tr>\n",
        "    <tr>\n",
        "      <th>21</th>\n",
        "      <td> ENCBS860IIZ</td>\n",
        "      <td>   30 Purkinje cells from a 20 year old male brain</td>\n",
        "      <td> 76c6bad0-5589-4b1e-9021-d6c8b4074575</td>\n",
        "      <td> [u'barbara-wold:UMB4727-Purkinje-30-cell-pool-B']</td>\n",
        "      <td>               Hs_UMB4727_20_M_CN_Purkinje_30pool</td>\n",
        "    </tr>\n",
        "    <tr>\n",
        "      <th>22</th>\n",
        "      <td> ENCBS135VDR</td>\n",
        "      <td> 20 homogenized Purkinje cells from a 20 year o...</td>\n",
        "      <td> d7601a74-7fa4-4c6e-aed4-154860cca7ea</td>\n",
        "      <td>   [u'barbara-wold:Purkinje-pool-for-pool-splits']</td>\n",
        "      <td>           Hs_UMB4727_20_M_CN_Purkinje_pool/split</td>\n",
        "    </tr>\n",
        "    <tr>\n",
        "      <th>23</th>\n",
        "      <td> ENCBS071NUT</td>\n",
        "      <td> Single Purkinje cell from a 20 year old male b...</td>\n",
        "      <td> c0bc4378-c5ce-4fcf-a1ff-3562ae23ad76</td>\n",
        "      <td>               [u'barbara-wold:single-cell-13633']</td>\n",
        "      <td>         Hs_UMB4727_20_M_CN_Purkinje_single cells</td>\n",
        "    </tr>\n",
        "    <tr>\n",
        "      <th>24</th>\n",
        "      <td> ENCBS122ZLM</td>\n",
        "      <td> Single Purkinje cell from a 20 year old male b...</td>\n",
        "      <td> 50633420-4224-45a9-a904-b4f76478fe8a</td>\n",
        "      <td>               [u'barbara-wold:single-cell-13626']</td>\n",
        "      <td>         Hs_UMB4727_20_M_CN_Purkinje_single cells</td>\n",
        "    </tr>\n",
        "    <tr>\n",
        "      <th>25</th>\n",
        "      <td> ENCBS228OGR</td>\n",
        "      <td> Single Purkinje cell from a 20 year old male b...</td>\n",
        "      <td> 5d76f30e-3289-465c-aac5-38526707955d</td>\n",
        "      <td>               [u'barbara-wold:single-cell-13629']</td>\n",
        "      <td>         Hs_UMB4727_20_M_CN_Purkinje_single cells</td>\n",
        "    </tr>\n",
        "    <tr>\n",
        "      <th>26</th>\n",
        "      <td> ENCBS241PFM</td>\n",
        "      <td> Single Purkinje cell from a 20 year old male b...</td>\n",
        "      <td> 9ebb6f72-7d70-4914-a1a9-c3a80139572f</td>\n",
        "      <td>               [u'barbara-wold:single-cell-13635']</td>\n",
        "      <td>         Hs_UMB4727_20_M_CN_Purkinje_single cells</td>\n",
        "    </tr>\n",
        "    <tr>\n",
        "      <th>27</th>\n",
        "      <td> ENCBS346VWP</td>\n",
        "      <td> Single Purkinje cell from a 20 year old male b...</td>\n",
        "      <td> 51938816-70f7-4108-bf99-8dda8bd152e9</td>\n",
        "      <td>               [u'barbara-wold:single-cell-13644']</td>\n",
        "      <td>         Hs_UMB4727_20_M_CN_Purkinje_single cells</td>\n",
        "    </tr>\n",
        "    <tr>\n",
        "      <th>28</th>\n",
        "      <td> ENCBS456HUG</td>\n",
        "      <td> Single Purkinje cell from a 20 year old male b...</td>\n",
        "      <td> fc506d8e-80f3-4f73-9f7d-107f0be8efb0</td>\n",
        "      <td>               [u'barbara-wold:single-cell-13625']</td>\n",
        "      <td>         Hs_UMB4727_20_M_CN_Purkinje_single cells</td>\n",
        "    </tr>\n",
        "    <tr>\n",
        "      <th>29</th>\n",
        "      <td> ENCBS494BDG</td>\n",
        "      <td> Single Purkinje cell from a 20 year old male b...</td>\n",
        "      <td> 9d85dc4c-034c-46b2-aca0-b5543a8f0b23</td>\n",
        "      <td>               [u'barbara-wold:single-cell-13636']</td>\n",
        "      <td>         Hs_UMB4727_20_M_CN_Purkinje_single cells</td>\n",
        "    </tr>\n",
        "    <tr>\n",
        "      <th>30</th>\n",
        "      <td> ENCBS589TAT</td>\n",
        "      <td> Single Purkinje cell from a 20 year old male b...</td>\n",
        "      <td> 005d7a0f-75d8-4c28-9db9-849e3ded2008</td>\n",
        "      <td>               [u'barbara-wold:single-cell-13638']</td>\n",
        "      <td>         Hs_UMB4727_20_M_CN_Purkinje_single cells</td>\n",
        "    </tr>\n",
        "    <tr>\n",
        "      <th>31</th>\n",
        "      <td> ENCBS590NTA</td>\n",
        "      <td> Single Purkinje cell from a 20 year old male b...</td>\n",
        "      <td> 6ff5cead-c9e7-4bf0-bb9e-753b3cb7a0af</td>\n",
        "      <td>               [u'barbara-wold:single-cell-13632']</td>\n",
        "      <td>         Hs_UMB4727_20_M_CN_Purkinje_single cells</td>\n",
        "    </tr>\n",
        "    <tr>\n",
        "      <th>32</th>\n",
        "      <td> ENCBS602IDT</td>\n",
        "      <td> Single Purkinje cell from a 20 year old male b...</td>\n",
        "      <td> 9fd242d5-4697-4e45-beb2-c36fed116768</td>\n",
        "      <td>               [u'barbara-wold:single-cell-13627']</td>\n",
        "      <td>         Hs_UMB4727_20_M_CN_Purkinje_single cells</td>\n",
        "    </tr>\n",
        "    <tr>\n",
        "      <th>33</th>\n",
        "      <td> ENCBS636AQY</td>\n",
        "      <td> Single Purkinje cell from a 20 year old male b...</td>\n",
        "      <td> b7619809-4ac1-434f-b0f1-6f4ffe730118</td>\n",
        "      <td>               [u'barbara-wold:single-cell-13642']</td>\n",
        "      <td>         Hs_UMB4727_20_M_CN_Purkinje_single cells</td>\n",
        "    </tr>\n",
        "    <tr>\n",
        "      <th>34</th>\n",
        "      <td> ENCBS659QZJ</td>\n",
        "      <td> Single Purkinje cell from a 20 year old male b...</td>\n",
        "      <td> d9c73580-c213-4c69-88fa-f478d6ad8b1f</td>\n",
        "      <td>               [u'barbara-wold:single-cell-13639']</td>\n",
        "      <td>         Hs_UMB4727_20_M_CN_Purkinje_single cells</td>\n",
        "    </tr>\n",
        "    <tr>\n",
        "      <th>35</th>\n",
        "      <td> ENCBS767IZA</td>\n",
        "      <td> Single Purkinje cell from a 20 year old male b...</td>\n",
        "      <td> 519a40b5-1b82-47b4-9e55-0562bb43745a</td>\n",
        "      <td>               [u'barbara-wold:single-cell-13641']</td>\n",
        "      <td>         Hs_UMB4727_20_M_CN_Purkinje_single cells</td>\n",
        "    </tr>\n",
        "    <tr>\n",
        "      <th>36</th>\n",
        "      <td> ENCBS792VYU</td>\n",
        "      <td> Single Purkinje cell from a 20 year old male b...</td>\n",
        "      <td> f6548d8c-d057-49d7-aaee-b1ad2d9b4e85</td>\n",
        "      <td>               [u'barbara-wold:single-cell-13643']</td>\n",
        "      <td>         Hs_UMB4727_20_M_CN_Purkinje_single cells</td>\n",
        "    </tr>\n",
        "    <tr>\n",
        "      <th>37</th>\n",
        "      <td> ENCBS869ANE</td>\n",
        "      <td> Single Purkinje cell from a 20 year old male b...</td>\n",
        "      <td> 445efe2f-e2c2-4a95-b09d-75f70c724f97</td>\n",
        "      <td>               [u'barbara-wold:single-cell-13634']</td>\n",
        "      <td>         Hs_UMB4727_20_M_CN_Purkinje_single cells</td>\n",
        "    </tr>\n",
        "    <tr>\n",
        "      <th>38</th>\n",
        "      <td> ENCBS883XBA</td>\n",
        "      <td> Single Purkinje cell from a 20 year old male b...</td>\n",
        "      <td> 3ea3b6d9-cd87-4be5-9cc4-6b8abc8001d9</td>\n",
        "      <td>               [u'barbara-wold:single-cell-13631']</td>\n",
        "      <td>         Hs_UMB4727_20_M_CN_Purkinje_single cells</td>\n",
        "    </tr>\n",
        "    <tr>\n",
        "      <th>39</th>\n",
        "      <td> ENCBS931OGX</td>\n",
        "      <td> Single Purkinje cell from a 20 year old male b...</td>\n",
        "      <td> ea22ede9-39e1-4354-8786-6e1d34544c5a</td>\n",
        "      <td>               [u'barbara-wold:single-cell-13628']</td>\n",
        "      <td>         Hs_UMB4727_20_M_CN_Purkinje_single cells</td>\n",
        "    </tr>\n",
        "    <tr>\n",
        "      <th>40</th>\n",
        "      <td> ENCBS931OHT</td>\n",
        "      <td> Single Purkinje cell from a 20 year old male b...</td>\n",
        "      <td> f0e93e0d-8a9a-415f-b8ce-163f1faef5a6</td>\n",
        "      <td>               [u'barbara-wold:single-cell-13630']</td>\n",
        "      <td>         Hs_UMB4727_20_M_CN_Purkinje_single cells</td>\n",
        "    </tr>\n",
        "    <tr>\n",
        "      <th>41</th>\n",
        "      <td> ENCBS938ALS</td>\n",
        "      <td> Single Purkinje cell from a 20 year old male b...</td>\n",
        "      <td> e46a8d66-be1b-462a-84d9-aa3719f9dbb5</td>\n",
        "      <td>               [u'barbara-wold:single-cell-13640']</td>\n",
        "      <td>         Hs_UMB4727_20_M_CN_Purkinje_single cells</td>\n",
        "    </tr>\n",
        "    <tr>\n",
        "      <th>42</th>\n",
        "      <td> ENCBS982VXC</td>\n",
        "      <td> Single Purkinje cell from a 20 year old male b...</td>\n",
        "      <td> 5110f013-0c6e-4f13-a880-4ad42994dbd1</td>\n",
        "      <td>               [u'barbara-wold:single-cell-13637']</td>\n",
        "      <td>         Hs_UMB4727_20_M_CN_Purkinje_single cells</td>\n",
        "    </tr>\n",
        "    <tr>\n",
        "      <th>43</th>\n",
        "      <td> ENCBS677XMX</td>\n",
        "      <td>        Granule cells from a 6 year old male brain</td>\n",
        "      <td> 2a12e9f8-877c-41fe-873b-aa127ade7337</td>\n",
        "      <td>        [u'barbara-wold:UMB5408-granule-sample-A']</td>\n",
        "      <td>                        Hs_UMB5408_6_M_CN_granule</td>\n",
        "    </tr>\n",
        "    <tr>\n",
        "      <th>44</th>\n",
        "      <td> ENCBS998GBF</td>\n",
        "      <td>        Granule cells from a 6 year old male brain</td>\n",
        "      <td> 04ab8e6f-8086-464d-b0b0-97ff4db39fa2</td>\n",
        "      <td>        [u'barbara-wold:UMB5408-granule-sample-B']</td>\n",
        "      <td>                        Hs_UMB5408_6_M_CN_granule</td>\n",
        "    </tr>\n",
        "    <tr>\n",
        "      <th>45</th>\n",
        "      <td> ENCBS051VQG</td>\n",
        "      <td>    30 Purkinje cells from a 6 year old male brain</td>\n",
        "      <td> 879dc50f-5653-46b0-8b2b-4f6df8c1a9a8</td>\n",
        "      <td> [u'barbara-wold:UMB5408-Purkinje-30-cell-pool-B']</td>\n",
        "      <td>                Hs_UMB5408_6_M_CN_Purkinje_30pool</td>\n",
        "    </tr>\n",
        "    <tr>\n",
        "      <th>46</th>\n",
        "      <td> ENCBS991XFG</td>\n",
        "      <td>    30 Purkinje cells from a 6 year old male brain</td>\n",
        "      <td> 32178604-9081-4fd5-8214-d3c902a4a77d</td>\n",
        "      <td> [u'barbara-wold:UMB5408-Purkinje-30-cell-pool-A']</td>\n",
        "      <td>                Hs_UMB5408_6_M_CN_Purkinje_30pool</td>\n",
        "    </tr>\n",
        "    <tr>\n",
        "      <th>47</th>\n",
        "      <td> ENCBS009SRE</td>\n",
        "      <td>    30 pyramid cells from a 27 year old male brain</td>\n",
        "      <td> 3e6e243e-9ffc-4bfe-8308-261c5f916ac0</td>\n",
        "      <td>  [u'barbara-wold:UMB602-pyramids-30-cell-pool-B']</td>\n",
        "      <td>        Hs_UMB602_27_M_CN_FI_slb9_pyramids_30pool</td>\n",
        "    </tr>\n",
        "    <tr>\n",
        "      <th>48</th>\n",
        "      <td> ENCBS919MHE</td>\n",
        "      <td>    30 pyramid cells from a 27 year old male brain</td>\n",
        "      <td> 5713bba0-097b-4238-abfc-e687f30e4b7c</td>\n",
        "      <td>  [u'barbara-wold:UMB602-pyramids-30-cell-pool-A']</td>\n",
        "      <td>        Hs_UMB602_27_M_CN_FI_slb9_pyramids_30pool</td>\n",
        "    </tr>\n",
        "  </tbody>\n",
        "</table>\n",
        "</div>"
       ],
       "metadata": {},
       "output_type": "pyout",
       "prompt_number": 17,
       "text": [
        "   biosample_accession                                     suggested name  \\\n",
        "0          ENCBS934CYZ                               GM12878 10 cell pool   \n",
        "1          ENCBS236ZAD                               GM12878 11 cell pool   \n",
        "2          ENCBS791FEH                               GM12878 30 cell pool   \n",
        "3          ENCBS839NNF                               GM12878 30 cell pool   \n",
        "4          ENCBS487GLA                           GM12878 bulk prep 10 ngs   \n",
        "5          ENCBS280SII           Single GM12878 cell, part of a set of 10   \n",
        "6          ENCBS135VMF           Single GM12878 cell, part of a set of 10   \n",
        "7          ENCBS950FXN           Single GM12878 cell, part of a set of 10   \n",
        "8          ENCBS036HXX           Single GM12878 cell, part of a set of 10   \n",
        "9          ENCBS638AZC           Single GM12878 cell, part of a set of 10   \n",
        "10         ENCBS879WMA           Single GM12878 cell, part of a set of 10   \n",
        "11         ENCBS158BMT           Single GM12878 cell, part of a set of 10   \n",
        "12         ENCBS901DKW           Single GM12878 cell, part of a set of 10   \n",
        "13         ENCBS381VEV           Single GM12878 cell, part of a set of 10   \n",
        "14         ENCBS913NDQ           Single GM12878 cell, part of a set of 10   \n",
        "15         ENCBS356XKT  10 homogenized GM12878 cells prepared for a po...   \n",
        "16         ENCBS122LNO        Granule cells from a 20 year old male brain   \n",
        "17         ENCBS188JNJ        Granule cells from a 20 year old male brain   \n",
        "18         ENCBS590LDH     30 pyramid cells from a 20 year old male brain   \n",
        "19         ENCBS651ADZ     30 pyramid cells from a 20 year old male brain   \n",
        "20         ENCBS503XXB    30 Purkinje cells from a 20 year old male brain   \n",
        "21         ENCBS860IIZ    30 Purkinje cells from a 20 year old male brain   \n",
        "22         ENCBS135VDR  20 homogenized Purkinje cells from a 20 year o...   \n",
        "23         ENCBS071NUT  Single Purkinje cell from a 20 year old male b...   \n",
        "24         ENCBS122ZLM  Single Purkinje cell from a 20 year old male b...   \n",
        "25         ENCBS228OGR  Single Purkinje cell from a 20 year old male b...   \n",
        "26         ENCBS241PFM  Single Purkinje cell from a 20 year old male b...   \n",
        "27         ENCBS346VWP  Single Purkinje cell from a 20 year old male b...   \n",
        "28         ENCBS456HUG  Single Purkinje cell from a 20 year old male b...   \n",
        "29         ENCBS494BDG  Single Purkinje cell from a 20 year old male b...   \n",
        "30         ENCBS589TAT  Single Purkinje cell from a 20 year old male b...   \n",
        "31         ENCBS590NTA  Single Purkinje cell from a 20 year old male b...   \n",
        "32         ENCBS602IDT  Single Purkinje cell from a 20 year old male b...   \n",
        "33         ENCBS636AQY  Single Purkinje cell from a 20 year old male b...   \n",
        "34         ENCBS659QZJ  Single Purkinje cell from a 20 year old male b...   \n",
        "35         ENCBS767IZA  Single Purkinje cell from a 20 year old male b...   \n",
        "36         ENCBS792VYU  Single Purkinje cell from a 20 year old male b...   \n",
        "37         ENCBS869ANE  Single Purkinje cell from a 20 year old male b...   \n",
        "38         ENCBS883XBA  Single Purkinje cell from a 20 year old male b...   \n",
        "39         ENCBS931OGX  Single Purkinje cell from a 20 year old male b...   \n",
        "40         ENCBS931OHT  Single Purkinje cell from a 20 year old male b...   \n",
        "41         ENCBS938ALS  Single Purkinje cell from a 20 year old male b...   \n",
        "42         ENCBS982VXC  Single Purkinje cell from a 20 year old male b...   \n",
        "43         ENCBS677XMX         Granule cells from a 6 year old male brain   \n",
        "44         ENCBS998GBF         Granule cells from a 6 year old male brain   \n",
        "45         ENCBS051VQG     30 Purkinje cells from a 6 year old male brain   \n",
        "46         ENCBS991XFG     30 Purkinje cells from a 6 year old male brain   \n",
        "47         ENCBS009SRE     30 pyramid cells from a 27 year old male brain   \n",
        "48         ENCBS919MHE     30 pyramid cells from a 27 year old male brain   \n",
        "\n",
        "                                    uuid  \\\n",
        "0   57289dce-0148-4f2d-89a3-32b1acd97647   \n",
        "1   9f46e244-bc9c-4bc4-accd-924c3ed22350   \n",
        "2   0a41d607-9c07-4101-a511-9d30320b0698   \n",
        "3   bd03543e-cc1c-4776-83a0-d58743e48a73   \n",
        "4   4247ae6b-1590-4795-b6ed-bcae2d33427e   \n",
        "5   395038d8-f475-432b-8fc1-c9ac298bea6c   \n",
        "6   f00466be-4890-4550-a67d-dedff3b6ca58   \n",
        "7   9fcd7554-3130-4f08-883c-701758dcd875   \n",
        "8   498903d3-a344-4926-a7f3-42a69f9ddcbc   \n",
        "9   0f73e56c-3db5-488f-9f3f-ea2c99d886b2   \n",
        "10  882edf6e-5530-4774-b907-a297ab146899   \n",
        "11  eef2d090-fe8a-48b2-b53f-d1d7ccbe50b1   \n",
        "12  243d9b1c-da3b-4305-9a69-d75874123322   \n",
        "13  f55b5d61-d889-4e0f-9613-44cbfeb650b6   \n",
        "14  d5dec605-f1f2-4cba-a72f-027de260ae24   \n",
        "15  d9d63c75-9978-4eb6-8fa2-76d1c3394731   \n",
        "16  2fe53777-ac74-4d8a-83a7-a4ce5056e969   \n",
        "17  bfb862c6-611e-49d4-bacf-0e53ca905dd8   \n",
        "18  727abfb1-5ab7-480d-8b87-0baf51abeb89   \n",
        "19  d2d36167-48f0-46a5-af99-4d9079c6fdd7   \n",
        "20  3ab223ce-bb88-4e5c-8e05-60172d535295   \n",
        "21  76c6bad0-5589-4b1e-9021-d6c8b4074575   \n",
        "22  d7601a74-7fa4-4c6e-aed4-154860cca7ea   \n",
        "23  c0bc4378-c5ce-4fcf-a1ff-3562ae23ad76   \n",
        "24  50633420-4224-45a9-a904-b4f76478fe8a   \n",
        "25  5d76f30e-3289-465c-aac5-38526707955d   \n",
        "26  9ebb6f72-7d70-4914-a1a9-c3a80139572f   \n",
        "27  51938816-70f7-4108-bf99-8dda8bd152e9   \n",
        "28  fc506d8e-80f3-4f73-9f7d-107f0be8efb0   \n",
        "29  9d85dc4c-034c-46b2-aca0-b5543a8f0b23   \n",
        "30  005d7a0f-75d8-4c28-9db9-849e3ded2008   \n",
        "31  6ff5cead-c9e7-4bf0-bb9e-753b3cb7a0af   \n",
        "32  9fd242d5-4697-4e45-beb2-c36fed116768   \n",
        "33  b7619809-4ac1-434f-b0f1-6f4ffe730118   \n",
        "34  d9c73580-c213-4c69-88fa-f478d6ad8b1f   \n",
        "35  519a40b5-1b82-47b4-9e55-0562bb43745a   \n",
        "36  f6548d8c-d057-49d7-aaee-b1ad2d9b4e85   \n",
        "37  445efe2f-e2c2-4a95-b09d-75f70c724f97   \n",
        "38  3ea3b6d9-cd87-4be5-9cc4-6b8abc8001d9   \n",
        "39  ea22ede9-39e1-4354-8786-6e1d34544c5a   \n",
        "40  f0e93e0d-8a9a-415f-b8ce-163f1faef5a6   \n",
        "41  e46a8d66-be1b-462a-84d9-aa3719f9dbb5   \n",
        "42  5110f013-0c6e-4f13-a880-4ad42994dbd1   \n",
        "43  2a12e9f8-877c-41fe-873b-aa127ade7337   \n",
        "44  04ab8e6f-8086-464d-b0b0-97ff4db39fa2   \n",
        "45  879dc50f-5653-46b0-8b2b-4f6df8c1a9a8   \n",
        "46  32178604-9081-4fd5-8214-d3c902a4a77d   \n",
        "47  3e6e243e-9ffc-4bfe-8308-261c5f916ac0   \n",
        "48  5713bba0-097b-4238-abfc-e687f30e4b7c   \n",
        "\n",
        "                                              aliases  \\\n",
        "0              [u'barbara-wold:GM12878-10-cell-pool']   \n",
        "1              [u'barbara-wold:GM12878-11-cell-pool']   \n",
        "2            [u'barbara-wold:GM12878-30-cell-pool-A']   \n",
        "3            [u'barbara-wold:GM12878-30-cell-pool-B']   \n",
        "4          [u'barbara-wold:10ng-of-single-cell-prep']   \n",
        "5                 [u'barbara-wold:single-cell-13282']   \n",
        "6                 [u'barbara-wold:single-cell-13291']   \n",
        "7                 [u'barbara-wold:single-cell-13283']   \n",
        "8                 [u'barbara-wold:single-cell-13284']   \n",
        "9                 [u'barbara-wold:single-cell-13285']   \n",
        "10                [u'barbara-wold:single-cell-13286']   \n",
        "11                [u'barbara-wold:single-cell-13287']   \n",
        "12                [u'barbara-wold:single-cell-13288']   \n",
        "13                [u'barbara-wold:single-cell-13289']   \n",
        "14                [u'barbara-wold:single-cell-13290']   \n",
        "15     [u'barbara-wold:GM12878-pool-for-pool-splits']   \n",
        "16         [u'barbara-wold:UMB4727-granule-sample-B']   \n",
        "17         [u'barbara-wold:UMB4727-granule-sample-A']   \n",
        "18  [u'barbara-wold:UMB4727-pyramids-30-cell-pool-A']   \n",
        "19  [u'barbara-wold:UMB4727-pyramids-30-cell-pool-B']   \n",
        "20  [u'barbara-wold:UMB4727-Purkinje-30-cell-pool-A']   \n",
        "21  [u'barbara-wold:UMB4727-Purkinje-30-cell-pool-B']   \n",
        "22    [u'barbara-wold:Purkinje-pool-for-pool-splits']   \n",
        "23                [u'barbara-wold:single-cell-13633']   \n",
        "24                [u'barbara-wold:single-cell-13626']   \n",
        "25                [u'barbara-wold:single-cell-13629']   \n",
        "26                [u'barbara-wold:single-cell-13635']   \n",
        "27                [u'barbara-wold:single-cell-13644']   \n",
        "28                [u'barbara-wold:single-cell-13625']   \n",
        "29                [u'barbara-wold:single-cell-13636']   \n",
        "30                [u'barbara-wold:single-cell-13638']   \n",
        "31                [u'barbara-wold:single-cell-13632']   \n",
        "32                [u'barbara-wold:single-cell-13627']   \n",
        "33                [u'barbara-wold:single-cell-13642']   \n",
        "34                [u'barbara-wold:single-cell-13639']   \n",
        "35                [u'barbara-wold:single-cell-13641']   \n",
        "36                [u'barbara-wold:single-cell-13643']   \n",
        "37                [u'barbara-wold:single-cell-13634']   \n",
        "38                [u'barbara-wold:single-cell-13631']   \n",
        "39                [u'barbara-wold:single-cell-13628']   \n",
        "40                [u'barbara-wold:single-cell-13630']   \n",
        "41                [u'barbara-wold:single-cell-13640']   \n",
        "42                [u'barbara-wold:single-cell-13637']   \n",
        "43         [u'barbara-wold:UMB5408-granule-sample-A']   \n",
        "44         [u'barbara-wold:UMB5408-granule-sample-B']   \n",
        "45  [u'barbara-wold:UMB5408-Purkinje-30-cell-pool-B']   \n",
        "46  [u'barbara-wold:UMB5408-Purkinje-30-cell-pool-A']   \n",
        "47   [u'barbara-wold:UMB602-pyramids-30-cell-pool-B']   \n",
        "48   [u'barbara-wold:UMB602-pyramids-30-cell-pool-A']   \n",
        "\n",
        "                                        current name  \n",
        "0                               GM12878 10 cell pool  \n",
        "1                               GM12878 11 cell pool  \n",
        "2   GM12878 30 cell pool A (analysis group in paper)  \n",
        "3   GM12878 30 cell pool B (analysis group in paper)  \n",
        "4                           GM12878 bulk prep 10 ngs  \n",
        "5                                     GM12878 cell 1  \n",
        "6                                    GM12878 cell 10  \n",
        "7                                     GM12878 cell 2  \n",
        "8                                     GM12878 cell 3  \n",
        "9                                     GM12878 cell 4  \n",
        "10                                    GM12878 cell 5  \n",
        "11                                    GM12878 cell 6  \n",
        "12                                    GM12878 cell 7  \n",
        "13                                    GM12878 cell 8  \n",
        "14                                    GM12878 cell 9  \n",
        "15                                      GM12878 pool  \n",
        "16                        Hs_UMB4727_20 M_CN_granule  \n",
        "17                        Hs_UMB4727_20 M_CN_granule  \n",
        "18          Hs_UMB4727_20_M_CN_midFI_pyramids_30pool  \n",
        "19          Hs_UMB4727_20_M_CN_midFI_pyramids_30pool  \n",
        "20                Hs_UMB4727_20_M_CN_Purkinje_30pool  \n",
        "21                Hs_UMB4727_20_M_CN_Purkinje_30pool  \n",
        "22            Hs_UMB4727_20_M_CN_Purkinje_pool/split  \n",
        "23          Hs_UMB4727_20_M_CN_Purkinje_single cells  \n",
        "24          Hs_UMB4727_20_M_CN_Purkinje_single cells  \n",
        "25          Hs_UMB4727_20_M_CN_Purkinje_single cells  \n",
        "26          Hs_UMB4727_20_M_CN_Purkinje_single cells  \n",
        "27          Hs_UMB4727_20_M_CN_Purkinje_single cells  \n",
        "28          Hs_UMB4727_20_M_CN_Purkinje_single cells  \n",
        "29          Hs_UMB4727_20_M_CN_Purkinje_single cells  \n",
        "30          Hs_UMB4727_20_M_CN_Purkinje_single cells  \n",
        "31          Hs_UMB4727_20_M_CN_Purkinje_single cells  \n",
        "32          Hs_UMB4727_20_M_CN_Purkinje_single cells  \n",
        "33          Hs_UMB4727_20_M_CN_Purkinje_single cells  \n",
        "34          Hs_UMB4727_20_M_CN_Purkinje_single cells  \n",
        "35          Hs_UMB4727_20_M_CN_Purkinje_single cells  \n",
        "36          Hs_UMB4727_20_M_CN_Purkinje_single cells  \n",
        "37          Hs_UMB4727_20_M_CN_Purkinje_single cells  \n",
        "38          Hs_UMB4727_20_M_CN_Purkinje_single cells  \n",
        "39          Hs_UMB4727_20_M_CN_Purkinje_single cells  \n",
        "40          Hs_UMB4727_20_M_CN_Purkinje_single cells  \n",
        "41          Hs_UMB4727_20_M_CN_Purkinje_single cells  \n",
        "42          Hs_UMB4727_20_M_CN_Purkinje_single cells  \n",
        "43                         Hs_UMB5408_6_M_CN_granule  \n",
        "44                         Hs_UMB5408_6_M_CN_granule  \n",
        "45                 Hs_UMB5408_6_M_CN_Purkinje_30pool  \n",
        "46                 Hs_UMB5408_6_M_CN_Purkinje_30pool  \n",
        "47         Hs_UMB602_27_M_CN_FI_slb9_pyramids_30pool  \n",
        "48         Hs_UMB602_27_M_CN_FI_slb9_pyramids_30pool  "
       ]
      }
     ],
     "prompt_number": 17
    },
    {
     "cell_type": "code",
     "collapsed": false,
     "input": [
      "def update_poorly_named_biosamples(poorly_named, dry_run=True):\n",
      "    for i in poorly_named.index:\n",
      "        accession = poorly_named.ix[i]['biosample_accession']\n",
      "        old_name = poorly_named.ix[i]['current name'].strip()\n",
      "        new_name = poorly_named.ix[i]['suggested name']\n",
      "        obj = server.get_json('/biosamples/{}/'.format(accession))\n",
      "        description = obj['description'].strip()\n",
      "        if new_name == description:\n",
      "            print('Current {}: {}'.format(accession, new_name))\n",
      "        elif old_name == description:\n",
      "            print('Need to update {}: {} -> {}'.format(accession, old_name, new_name))\n",
      "            if not dry_run:\n",
      "                server.patch_json(obj['@id'], {'description': new_name})\n",
      "        else:\n",
      "            print('ERROR in {}: \"{}\" doesnt match \"{}\" or \"{}\"'.format(accession, description, old_name, new_name))\n"
     ],
     "language": "python",
     "metadata": {},
     "outputs": [],
     "prompt_number": 18
    },
    {
     "cell_type": "code",
     "collapsed": false,
     "input": [
      "update_poorly_named_biosamples(poorly_named, dry_run = True)"
     ],
     "language": "python",
     "metadata": {},
     "outputs": [
      {
       "output_type": "stream",
       "stream": "stdout",
       "text": [
        "Current ENCBS934CYZ: GM12878 10 cell pool\n",
        "Current ENCBS236ZAD: GM12878 11 cell pool"
       ]
      },
      {
       "output_type": "stream",
       "stream": "stdout",
       "text": [
        "\n",
        "Current ENCBS791FEH: GM12878 30 cell pool"
       ]
      },
      {
       "output_type": "stream",
       "stream": "stdout",
       "text": [
        "\n",
        "Current ENCBS839NNF: GM12878 30 cell pool"
       ]
      },
      {
       "output_type": "stream",
       "stream": "stdout",
       "text": [
        "\n",
        "Current ENCBS487GLA: GM12878 bulk prep 10 ngs"
       ]
      },
      {
       "output_type": "stream",
       "stream": "stdout",
       "text": [
        "\n",
        "Current ENCBS280SII: Single GM12878 cell, part of a set of 10"
       ]
      },
      {
       "output_type": "stream",
       "stream": "stdout",
       "text": [
        "\n",
        "Current ENCBS135VMF: Single GM12878 cell, part of a set of 10"
       ]
      },
      {
       "output_type": "stream",
       "stream": "stdout",
       "text": [
        "\n",
        "Current ENCBS950FXN: Single GM12878 cell, part of a set of 10"
       ]
      },
      {
       "output_type": "stream",
       "stream": "stdout",
       "text": [
        "\n",
        "Current ENCBS036HXX: Single GM12878 cell, part of a set of 10"
       ]
      },
      {
       "output_type": "stream",
       "stream": "stdout",
       "text": [
        "\n",
        "Current ENCBS638AZC: Single GM12878 cell, part of a set of 10"
       ]
      },
      {
       "output_type": "stream",
       "stream": "stdout",
       "text": [
        "\n",
        "Current ENCBS879WMA: Single GM12878 cell, part of a set of 10"
       ]
      },
      {
       "output_type": "stream",
       "stream": "stdout",
       "text": [
        "\n",
        "Current ENCBS158BMT: Single GM12878 cell, part of a set of 10"
       ]
      },
      {
       "output_type": "stream",
       "stream": "stdout",
       "text": [
        "\n",
        "Current ENCBS901DKW: Single GM12878 cell, part of a set of 10"
       ]
      },
      {
       "output_type": "stream",
       "stream": "stdout",
       "text": [
        "\n",
        "Current ENCBS381VEV: Single GM12878 cell, part of a set of 10"
       ]
      },
      {
       "output_type": "stream",
       "stream": "stdout",
       "text": [
        "\n",
        "Current ENCBS913NDQ: Single GM12878 cell, part of a set of 10"
       ]
      },
      {
       "output_type": "stream",
       "stream": "stdout",
       "text": [
        "\n",
        "Current ENCBS356XKT: 10 homogenized GM12878 cells prepared for a pool-split experiment"
       ]
      },
      {
       "output_type": "stream",
       "stream": "stdout",
       "text": [
        "\n",
        "Current ENCBS122LNO: Granule cells from a 20 year old male brain"
       ]
      },
      {
       "output_type": "stream",
       "stream": "stdout",
       "text": [
        "\n",
        "Current ENCBS188JNJ: Granule cells from a 20 year old male brain"
       ]
      },
      {
       "output_type": "stream",
       "stream": "stdout",
       "text": [
        "\n",
        "Current ENCBS590LDH: 30 pyramid cells from a 20 year old male brain"
       ]
      },
      {
       "output_type": "stream",
       "stream": "stdout",
       "text": [
        "\n",
        "Current ENCBS651ADZ: 30 pyramid cells from a 20 year old male brain"
       ]
      },
      {
       "output_type": "stream",
       "stream": "stdout",
       "text": [
        "\n",
        "Current ENCBS503XXB: 30 Purkinje cells from a 20 year old male brain"
       ]
      },
      {
       "output_type": "stream",
       "stream": "stdout",
       "text": [
        "\n",
        "Current ENCBS860IIZ: 30 Purkinje cells from a 20 year old male brain"
       ]
      },
      {
       "output_type": "stream",
       "stream": "stdout",
       "text": [
        "\n",
        "Current ENCBS135VDR: 20 homogenized Purkinje cells from a 20 year old male brain prepared for a pool-split experiment"
       ]
      },
      {
       "output_type": "stream",
       "stream": "stdout",
       "text": [
        "\n",
        "Current ENCBS071NUT: Single Purkinje cell from a 20 year old male brain, part of a set of 20 cells"
       ]
      },
      {
       "output_type": "stream",
       "stream": "stdout",
       "text": [
        "\n",
        "Current ENCBS122ZLM: Single Purkinje cell from a 20 year old male brain, part of a set of 20 cells"
       ]
      },
      {
       "output_type": "stream",
       "stream": "stdout",
       "text": [
        "\n",
        "Current ENCBS228OGR: Single Purkinje cell from a 20 year old male brain, part of a set of 20 cells"
       ]
      },
      {
       "output_type": "stream",
       "stream": "stdout",
       "text": [
        "\n",
        "Current ENCBS241PFM: Single Purkinje cell from a 20 year old male brain, part of a set of 20 cells"
       ]
      },
      {
       "output_type": "stream",
       "stream": "stdout",
       "text": [
        "\n",
        "Current ENCBS346VWP: Single Purkinje cell from a 20 year old male brain, part of a set of 20 cells"
       ]
      },
      {
       "output_type": "stream",
       "stream": "stdout",
       "text": [
        "\n",
        "Current ENCBS456HUG: Single Purkinje cell from a 20 year old male brain, part of a set of 20 cells"
       ]
      },
      {
       "output_type": "stream",
       "stream": "stdout",
       "text": [
        "\n",
        "Current ENCBS494BDG: Single Purkinje cell from a 20 year old male brain, part of a set of 20 cells"
       ]
      },
      {
       "output_type": "stream",
       "stream": "stdout",
       "text": [
        "\n",
        "Current ENCBS589TAT: Single Purkinje cell from a 20 year old male brain, part of a set of 20 cells"
       ]
      },
      {
       "output_type": "stream",
       "stream": "stdout",
       "text": [
        "\n",
        "Current ENCBS590NTA: Single Purkinje cell from a 20 year old male brain, part of a set of 20 cells"
       ]
      },
      {
       "output_type": "stream",
       "stream": "stdout",
       "text": [
        "\n",
        "Current ENCBS602IDT: Single Purkinje cell from a 20 year old male brain, part of a set of 20 cells"
       ]
      },
      {
       "output_type": "stream",
       "stream": "stdout",
       "text": [
        "\n",
        "Current ENCBS636AQY: Single Purkinje cell from a 20 year old male brain, part of a set of 20 cells"
       ]
      },
      {
       "output_type": "stream",
       "stream": "stdout",
       "text": [
        "\n",
        "Current ENCBS659QZJ: Single Purkinje cell from a 20 year old male brain, part of a set of 20 cells"
       ]
      },
      {
       "output_type": "stream",
       "stream": "stdout",
       "text": [
        "\n",
        "Current ENCBS767IZA: Single Purkinje cell from a 20 year old male brain, part of a set of 20 cells"
       ]
      },
      {
       "output_type": "stream",
       "stream": "stdout",
       "text": [
        "\n",
        "Current ENCBS792VYU: Single Purkinje cell from a 20 year old male brain, part of a set of 20 cells"
       ]
      },
      {
       "output_type": "stream",
       "stream": "stdout",
       "text": [
        "\n",
        "Current ENCBS869ANE: Single Purkinje cell from a 20 year old male brain, part of a set of 20 cells"
       ]
      },
      {
       "output_type": "stream",
       "stream": "stdout",
       "text": [
        "\n",
        "Current ENCBS883XBA: Single Purkinje cell from a 20 year old male brain, part of a set of 20 cells"
       ]
      },
      {
       "output_type": "stream",
       "stream": "stdout",
       "text": [
        "\n",
        "Current ENCBS931OGX: Single Purkinje cell from a 20 year old male brain, part of a set of 20 cells"
       ]
      },
      {
       "output_type": "stream",
       "stream": "stdout",
       "text": [
        "\n",
        "Current ENCBS931OHT: Single Purkinje cell from a 20 year old male brain, part of a set of 20 cells"
       ]
      },
      {
       "output_type": "stream",
       "stream": "stdout",
       "text": [
        "\n",
        "Current ENCBS938ALS: Single Purkinje cell from a 20 year old male brain, part of a set of 20 cells"
       ]
      },
      {
       "output_type": "stream",
       "stream": "stdout",
       "text": [
        "\n",
        "Current ENCBS982VXC: Single Purkinje cell from a 20 year old male brain, part of a set of 20 cells"
       ]
      },
      {
       "output_type": "stream",
       "stream": "stdout",
       "text": [
        "\n",
        "Current ENCBS677XMX: Granule cells from a 6 year old male brain"
       ]
      },
      {
       "output_type": "stream",
       "stream": "stdout",
       "text": [
        "\n",
        "Current ENCBS998GBF: Granule cells from a 6 year old male brain"
       ]
      },
      {
       "output_type": "stream",
       "stream": "stdout",
       "text": [
        "\n",
        "Current ENCBS051VQG: 30 Purkinje cells from a 6 year old male brain"
       ]
      },
      {
       "output_type": "stream",
       "stream": "stdout",
       "text": [
        "\n",
        "Current ENCBS991XFG: 30 Purkinje cells from a 6 year old male brain"
       ]
      },
      {
       "output_type": "stream",
       "stream": "stdout",
       "text": [
        "\n",
        "Current ENCBS009SRE: 30 pyramid cells from a 27 year old male brain"
       ]
      },
      {
       "output_type": "stream",
       "stream": "stdout",
       "text": [
        "\n",
        "Current ENCBS919MHE: 30 pyramid cells from a 27 year old male brain"
       ]
      },
      {
       "output_type": "stream",
       "stream": "stdout",
       "text": [
        "\n"
       ]
      }
     ],
     "prompt_number": 19
    },
    {
     "cell_type": "heading",
     "level": 1,
     "metadata": {},
     "source": [
      "Common Document Creation"
     ]
    },
    {
     "cell_type": "code",
     "collapsed": false,
     "input": [
      "class Document(object):\n",
      "    award = 'U54HG006998'\n",
      "    lab = '/labs/barbara-wold'\n",
      "    \n",
      "    def __init__(self, url, document_type, description):\n",
      "        self.url = url\n",
      "        self.filename = os.path.basename(url)\n",
      "        self.document_type = document_type\n",
      "        self.description = description\n",
      "        \n",
      "        self.references = []\n",
      "        self.aliases = []\n",
      "        self.content_type = None\n",
      "        self.document = None\n",
      "        self.md5sum = None\n",
      "        self.urls = None\n",
      "        self.uuid = None\n",
      "\n",
      "        self.get_document()\n",
      "        \n",
      "    def get_document(self):\n",
      "        if os.path.exists(self.url):\n",
      "            with open(self.url, 'r') as instream:\n",
      "                assert self.url.endswith('pdf')\n",
      "                self.content_type = 'application/pdf'\n",
      "                self.document = instream.read()\n",
      "                self.md5sum = hashlib.md5(self.document)\n",
      "        else:\n",
      "            req = requests.get(self.url)\n",
      "            if req.status_code == 200:\n",
      "                self.content_type = req.headers['content-type']\n",
      "                self.document = req.content\n",
      "                self.md5sum = hashlib.md5(self.document)\n",
      "                self.urls = [self.url]\n",
      "            \n",
      "    def create_payload(self):\n",
      "        document_payload = {\n",
      "            'attachment': {\n",
      "              'download': self.filename,  \n",
      "              'type': self.content_type,\n",
      "              'href': 'data:'+self.content_type+';base64,' + base64.b64encode(self.document),\n",
      "              'md5sum': self.md5sum.hexdigest()\n",
      "            },\n",
      "            'document_type': self.document_type,\n",
      "            'description': self.description,\n",
      "            'award': self.award,\n",
      "            'lab': self.lab,\n",
      "        }\n",
      "        if self.aliases:\n",
      "            document_payload['aliases'] = self.aliases\n",
      "        if self.references:\n",
      "            document_payload['references'] = self.references\n",
      "        if self.urls:\n",
      "            document_payload['urls'] = self.urls\n",
      "            \n",
      "        return document_payload\n",
      "        \n",
      "    def post(self, server):\n",
      "        document_payload = self.create_payload()\n",
      "        return server.post_json('/documents/', document_payload)\n",
      "    \n",
      "    def save(self, filename):\n",
      "        payload = self.create_payload()\n",
      "        with open(filename, 'w') as outstream:\n",
      "            outstream.write(pformat(payload))\n",
      "    \n",
      "    def create_if_needed(self, server, uuid):\n",
      "        self.uuid = uuid\n",
      "        if uuid is None:\n",
      "            return self.post(server)\n",
      "        else:\n",
      "            return server.get_json(uuid, embed=False)"
     ],
     "language": "python",
     "metadata": {},
     "outputs": [],
     "prompt_number": 122
    },
    {
     "cell_type": "heading",
     "level": 1,
     "metadata": {},
     "source": [
      "Create lysis document"
     ]
    },
    {
     "cell_type": "code",
     "collapsed": false,
     "input": [
      "lysis_uuid = 'f0cc5a7f-96a5-4970-9f46-317cc8e2d6a4'\n",
      "\n",
      "lysis = Document('http://tools.lifetechnologies.com/content/sfs/manuals/cms_055423.pdf', \n",
      "                 'extraction protocol', 'Lysis Protocol')\n",
      "lysis.create_if_needed(server, lysis_uuid)"
     ],
     "language": "python",
     "metadata": {},
     "outputs": [
      {
       "metadata": {},
       "output_type": "pyout",
       "prompt_number": 123,
       "text": [
        "{u'@id': u'/documents/f0cc5a7f-96a5-4970-9f46-317cc8e2d6a4/',\n",
        " u'@type': [u'document', u'item'],\n",
        " u'actions': [],\n",
        " u'aliases': [],\n",
        " u'attachment': {u'download': u'cms_055423.pdf',\n",
        "  u'href': u'@@download/attachment/cms_055423.pdf',\n",
        "  u'md5sum': u'b2134d759aa7fdf90da6c7cbe96f003b',\n",
        "  u'type': u'application/pdf'},\n",
        " u'award': {u'@id': u'/awards/U54HG006998/',\n",
        "  u'@type': [u'award', u'item'],\n",
        "  u'description': u'The goal of the ENCODE Project is to provide the biomedical community with a complete and biologically interpretable annotation of the human genome. This means discovering and mapping all parts of all genes, including exons, introns, promoters and cis-regulatory sequences, in previous phases of the ENCODE Project, the applicants of this proposal developed and applied robust, high-throughput, genome-wide methods for determining transcription factor occupancy, assessing DNA methylation, identifying RNA transcripts, and experimentally testing candidate regulatory elements and mutations. The combination of experiences from the previous phases with the resulting technology and analysis platforms and the existing, highly productive infrastructure of the applicants form the basis of this response to NHGRI\\'s RFA-HG-11-024 (\"Expanding the Encyclopedia of DNA Elements (ENCODE) in the Human and Model Organisms\"). This application presents an ambitious proposal to expand the biological dimensions of ENCODE to include essentially all transcription factors for measurements of occupancy and to produce transcriptomes from hundreds of very specific cell types, and even single cells. The specific plan is to: 1) determine genome wide occupancy for all transcription factors and major cofactors with high resolution in two or more cell types; 2) map and quantify all messenger RNA transcripts, microRNAs and other non-ribosomal RNAs in more than 300 well-defined, uncultured cell types; 3) map DNA methylation state genome-wide at nucleotide resolution in more than 300 cell types; and 4) apply a high-throughput transient transfection assay system to test the impact of -2,000 candidate regulatory elements on gene regulation. All experimental work in this project will be evaluated by appropriate quality metrics, and after quality control, all data will be rapidly deposited in publi, freely accessible genome databases. In addition, computational analyses, including evaluation of comparative and population genomics data, will be integrated with the experimental production to help ensure quality and to capture information in forms useful to biologists, genomicists, and medical researchers. Completion of these Specific Aims will enable biomedical researchers to better and more rapidly understand the consequences of mutations in genomic disorders, including cancer, cardiovascular disease, and almost ail common diseases and, therefore, to more fully realize the potential of genomics to impact human health.',\n",
        "  u'end_date': u'2016-07-31',\n",
        "  u'name': u'U54HG006998',\n",
        "  u'pi': u'/users/a62cfec5-57a0-45ab-b943-8ca0e0057bb6/',\n",
        "  u'project': u'ENCODE',\n",
        "  u'rfa': u'ENCODE3',\n",
        "  u'schema_version': u'2',\n",
        "  u'start_date': u'2012-09-21',\n",
        "  u'status': u'current',\n",
        "  u'title': u'TOWARD A COMPREHENSIVE FUNCTIONAL ANNOTATION OF THE HUMAN GENOME',\n",
        "  u'url': u'http://projectreporter.nih.gov/project_info_details.cfm?aid=8402461',\n",
        "  u'uuid': u'6272092d-f953-4b86-b04b-cad31d64352f'},\n",
        " u'date_created': u'2014-06-27T00:02:24.726477+00:00',\n",
        " u'description': u'Lysis Protocol',\n",
        " u'document_type': u'extraction protocol',\n",
        " u'lab': {u'@id': u'/labs/barbara-wold/',\n",
        "  u'@type': [u'lab', u'item'],\n",
        "  u'address1': u'Department of Biochemistry and Molecular Biophysics',\n",
        "  u'address2': u'1200 California Blvd; MC156-29',\n",
        "  u'awards': [u'/awards/U54HG006998/'],\n",
        "  u'city': u'Pasadena',\n",
        "  u'country': u'USA',\n",
        "  u'fax': u'',\n",
        "  u'institute_label': u'Caltech',\n",
        "  u'institute_name': u'California Institute of Technology',\n",
        "  u'name': u'barbara-wold',\n",
        "  u'phone1': u'626-395-4916',\n",
        "  u'phone2': u'626-395-4923',\n",
        "  u'pi': u'/users/0598c868-0b4a-4c5b-9112-8f85c5de5374/',\n",
        "  u'postal_code': u'91125',\n",
        "  u'schema_version': u'2',\n",
        "  u'state': u'CA',\n",
        "  u'status': u'current',\n",
        "  u'title': u'Barbara Wold, Caltech',\n",
        "  u'uuid': u'72d5666a-a361-4f7b-ab66-a88e11280937'},\n",
        " u'references': [],\n",
        " u'schema_version': u'3',\n",
        " u'status': u'in progress',\n",
        " u'submitted_by': {u'@id': u'/users/bc5b62f7-ce28-4a1e-b6b3-81c9c5a86d7a/',\n",
        "  u'@type': [u'user', u'item'],\n",
        "  u'lab': u'/labs/barbara-wold/',\n",
        "  u'title': u'Diane Trout',\n",
        "  u'uuid': u'bc5b62f7-ce28-4a1e-b6b3-81c9c5a86d7a'},\n",
        " u'urls': [u'http://tools.lifetechnologies.com/content/sfs/manuals/cms_055423.pdf'],\n",
        " u'uuid': u'f0cc5a7f-96a5-4970-9f46-317cc8e2d6a4'}"
       ]
      }
     ],
     "prompt_number": 123
    },
    {
     "cell_type": "heading",
     "level": 1,
     "metadata": {},
     "source": [
      "Create genomic DNA removal Document"
     ]
    },
    {
     "cell_type": "code",
     "collapsed": false,
     "input": [
      "digest_uuid = u'428a184d-7fa1-4599-9d8d-749c2eba7edd'\n",
      "\n",
      "digest = Document('http://tools.lifetechnologies.com/content/sfs/manuals/cms_055740.pdf', \n",
      "                  'extraction protocol', 'Genomic DNA Removal Protocol')\n",
      "digest.create_if_needed(server, digest_uuid)"
     ],
     "language": "python",
     "metadata": {},
     "outputs": [
      {
       "metadata": {},
       "output_type": "pyout",
       "prompt_number": 124,
       "text": [
        "{u'@id': u'/documents/428a184d-7fa1-4599-9d8d-749c2eba7edd/',\n",
        " u'@type': [u'document', u'item'],\n",
        " u'actions': [],\n",
        " u'aliases': [],\n",
        " u'attachment': {u'download': u'cms_055740.pdf',\n",
        "  u'href': u'@@download/attachment/cms_055740.pdf',\n",
        "  u'md5sum': u'232830c8f58c2aee31cd9b6afdc382e2',\n",
        "  u'type': u'application/pdf'},\n",
        " u'award': {u'@id': u'/awards/U54HG006998/',\n",
        "  u'@type': [u'award', u'item'],\n",
        "  u'description': u'The goal of the ENCODE Project is to provide the biomedical community with a complete and biologically interpretable annotation of the human genome. This means discovering and mapping all parts of all genes, including exons, introns, promoters and cis-regulatory sequences, in previous phases of the ENCODE Project, the applicants of this proposal developed and applied robust, high-throughput, genome-wide methods for determining transcription factor occupancy, assessing DNA methylation, identifying RNA transcripts, and experimentally testing candidate regulatory elements and mutations. The combination of experiences from the previous phases with the resulting technology and analysis platforms and the existing, highly productive infrastructure of the applicants form the basis of this response to NHGRI\\'s RFA-HG-11-024 (\"Expanding the Encyclopedia of DNA Elements (ENCODE) in the Human and Model Organisms\"). This application presents an ambitious proposal to expand the biological dimensions of ENCODE to include essentially all transcription factors for measurements of occupancy and to produce transcriptomes from hundreds of very specific cell types, and even single cells. The specific plan is to: 1) determine genome wide occupancy for all transcription factors and major cofactors with high resolution in two or more cell types; 2) map and quantify all messenger RNA transcripts, microRNAs and other non-ribosomal RNAs in more than 300 well-defined, uncultured cell types; 3) map DNA methylation state genome-wide at nucleotide resolution in more than 300 cell types; and 4) apply a high-throughput transient transfection assay system to test the impact of -2,000 candidate regulatory elements on gene regulation. All experimental work in this project will be evaluated by appropriate quality metrics, and after quality control, all data will be rapidly deposited in publi, freely accessible genome databases. In addition, computational analyses, including evaluation of comparative and population genomics data, will be integrated with the experimental production to help ensure quality and to capture information in forms useful to biologists, genomicists, and medical researchers. Completion of these Specific Aims will enable biomedical researchers to better and more rapidly understand the consequences of mutations in genomic disorders, including cancer, cardiovascular disease, and almost ail common diseases and, therefore, to more fully realize the potential of genomics to impact human health.',\n",
        "  u'end_date': u'2016-07-31',\n",
        "  u'name': u'U54HG006998',\n",
        "  u'pi': u'/users/a62cfec5-57a0-45ab-b943-8ca0e0057bb6/',\n",
        "  u'project': u'ENCODE',\n",
        "  u'rfa': u'ENCODE3',\n",
        "  u'schema_version': u'2',\n",
        "  u'start_date': u'2012-09-21',\n",
        "  u'status': u'current',\n",
        "  u'title': u'TOWARD A COMPREHENSIVE FUNCTIONAL ANNOTATION OF THE HUMAN GENOME',\n",
        "  u'url': u'http://projectreporter.nih.gov/project_info_details.cfm?aid=8402461',\n",
        "  u'uuid': u'6272092d-f953-4b86-b04b-cad31d64352f'},\n",
        " u'date_created': u'2014-06-27T17:43:07.721648+00:00',\n",
        " u'description': u'Genomic DNA Removal Protocol',\n",
        " u'document_type': u'extraction protocol',\n",
        " u'lab': {u'@id': u'/labs/barbara-wold/',\n",
        "  u'@type': [u'lab', u'item'],\n",
        "  u'address1': u'Department of Biochemistry and Molecular Biophysics',\n",
        "  u'address2': u'1200 California Blvd; MC156-29',\n",
        "  u'awards': [u'/awards/U54HG006998/'],\n",
        "  u'city': u'Pasadena',\n",
        "  u'country': u'USA',\n",
        "  u'fax': u'',\n",
        "  u'institute_label': u'Caltech',\n",
        "  u'institute_name': u'California Institute of Technology',\n",
        "  u'name': u'barbara-wold',\n",
        "  u'phone1': u'626-395-4916',\n",
        "  u'phone2': u'626-395-4923',\n",
        "  u'pi': u'/users/0598c868-0b4a-4c5b-9112-8f85c5de5374/',\n",
        "  u'postal_code': u'91125',\n",
        "  u'schema_version': u'2',\n",
        "  u'state': u'CA',\n",
        "  u'status': u'current',\n",
        "  u'title': u'Barbara Wold, Caltech',\n",
        "  u'uuid': u'72d5666a-a361-4f7b-ab66-a88e11280937'},\n",
        " u'references': [],\n",
        " u'schema_version': u'3',\n",
        " u'status': u'in progress',\n",
        " u'submitted_by': {u'@id': u'/users/bc5b62f7-ce28-4a1e-b6b3-81c9c5a86d7a/',\n",
        "  u'@type': [u'user', u'item'],\n",
        "  u'lab': u'/labs/barbara-wold/',\n",
        "  u'title': u'Diane Trout',\n",
        "  u'uuid': u'bc5b62f7-ce28-4a1e-b6b3-81c9c5a86d7a'},\n",
        " u'urls': [u'http://tools.lifetechnologies.com/content/sfs/manuals/cms_055740.pdf'],\n",
        " u'uuid': u'428a184d-7fa1-4599-9d8d-749c2eba7edd'}"
       ]
      }
     ],
     "prompt_number": 124
    },
    {
     "cell_type": "heading",
     "level": 1,
     "metadata": {},
     "source": [
      "Create mRNA Selection Document"
     ]
    },
    {
     "cell_type": "code",
     "collapsed": false,
     "input": [
      "selection_uuid = u'e84de88e-4c31-4b2a-b6ac-96feb764b2d0'\n",
      "selection = Document('http://tools.lifetechnologies.com/content/sfs/manuals/dynabeads_mrna_purification_man.pdf', \n",
      "                     'extraction protocol', 'mRNA Selection Protocol')\n",
      "selection.create_if_needed(server, selection_uuid)\n"
     ],
     "language": "python",
     "metadata": {},
     "outputs": [
      {
       "metadata": {},
       "output_type": "pyout",
       "prompt_number": 125,
       "text": [
        "{u'@id': u'/documents/e84de88e-4c31-4b2a-b6ac-96feb764b2d0/',\n",
        " u'@type': [u'document', u'item'],\n",
        " u'actions': [],\n",
        " u'aliases': [],\n",
        " u'attachment': {u'download': u'dynabeads_mrna_purification_man.pdf',\n",
        "  u'href': u'@@download/attachment/dynabeads_mrna_purification_man.pdf',\n",
        "  u'md5sum': u'3f923b11c00f314e632c8b55a280dd46',\n",
        "  u'type': u'application/pdf'},\n",
        " u'award': {u'@id': u'/awards/U54HG006998/',\n",
        "  u'@type': [u'award', u'item'],\n",
        "  u'description': u'The goal of the ENCODE Project is to provide the biomedical community with a complete and biologically interpretable annotation of the human genome. This means discovering and mapping all parts of all genes, including exons, introns, promoters and cis-regulatory sequences, in previous phases of the ENCODE Project, the applicants of this proposal developed and applied robust, high-throughput, genome-wide methods for determining transcription factor occupancy, assessing DNA methylation, identifying RNA transcripts, and experimentally testing candidate regulatory elements and mutations. The combination of experiences from the previous phases with the resulting technology and analysis platforms and the existing, highly productive infrastructure of the applicants form the basis of this response to NHGRI\\'s RFA-HG-11-024 (\"Expanding the Encyclopedia of DNA Elements (ENCODE) in the Human and Model Organisms\"). This application presents an ambitious proposal to expand the biological dimensions of ENCODE to include essentially all transcription factors for measurements of occupancy and to produce transcriptomes from hundreds of very specific cell types, and even single cells. The specific plan is to: 1) determine genome wide occupancy for all transcription factors and major cofactors with high resolution in two or more cell types; 2) map and quantify all messenger RNA transcripts, microRNAs and other non-ribosomal RNAs in more than 300 well-defined, uncultured cell types; 3) map DNA methylation state genome-wide at nucleotide resolution in more than 300 cell types; and 4) apply a high-throughput transient transfection assay system to test the impact of -2,000 candidate regulatory elements on gene regulation. All experimental work in this project will be evaluated by appropriate quality metrics, and after quality control, all data will be rapidly deposited in publi, freely accessible genome databases. In addition, computational analyses, including evaluation of comparative and population genomics data, will be integrated with the experimental production to help ensure quality and to capture information in forms useful to biologists, genomicists, and medical researchers. Completion of these Specific Aims will enable biomedical researchers to better and more rapidly understand the consequences of mutations in genomic disorders, including cancer, cardiovascular disease, and almost ail common diseases and, therefore, to more fully realize the potential of genomics to impact human health.',\n",
        "  u'end_date': u'2016-07-31',\n",
        "  u'name': u'U54HG006998',\n",
        "  u'pi': u'/users/a62cfec5-57a0-45ab-b943-8ca0e0057bb6/',\n",
        "  u'project': u'ENCODE',\n",
        "  u'rfa': u'ENCODE3',\n",
        "  u'schema_version': u'2',\n",
        "  u'start_date': u'2012-09-21',\n",
        "  u'status': u'current',\n",
        "  u'title': u'TOWARD A COMPREHENSIVE FUNCTIONAL ANNOTATION OF THE HUMAN GENOME',\n",
        "  u'url': u'http://projectreporter.nih.gov/project_info_details.cfm?aid=8402461',\n",
        "  u'uuid': u'6272092d-f953-4b86-b04b-cad31d64352f'},\n",
        " u'date_created': u'2014-06-27T17:43:53.305108+00:00',\n",
        " u'description': u'mRNA Selection Protocol',\n",
        " u'document_type': u'extraction protocol',\n",
        " u'lab': {u'@id': u'/labs/barbara-wold/',\n",
        "  u'@type': [u'lab', u'item'],\n",
        "  u'address1': u'Department of Biochemistry and Molecular Biophysics',\n",
        "  u'address2': u'1200 California Blvd; MC156-29',\n",
        "  u'awards': [u'/awards/U54HG006998/'],\n",
        "  u'city': u'Pasadena',\n",
        "  u'country': u'USA',\n",
        "  u'fax': u'',\n",
        "  u'institute_label': u'Caltech',\n",
        "  u'institute_name': u'California Institute of Technology',\n",
        "  u'name': u'barbara-wold',\n",
        "  u'phone1': u'626-395-4916',\n",
        "  u'phone2': u'626-395-4923',\n",
        "  u'pi': u'/users/0598c868-0b4a-4c5b-9112-8f85c5de5374/',\n",
        "  u'postal_code': u'91125',\n",
        "  u'schema_version': u'2',\n",
        "  u'state': u'CA',\n",
        "  u'status': u'current',\n",
        "  u'title': u'Barbara Wold, Caltech',\n",
        "  u'uuid': u'72d5666a-a361-4f7b-ab66-a88e11280937'},\n",
        " u'references': [],\n",
        " u'schema_version': u'3',\n",
        " u'status': u'in progress',\n",
        " u'submitted_by': {u'@id': u'/users/bc5b62f7-ce28-4a1e-b6b3-81c9c5a86d7a/',\n",
        "  u'@type': [u'user', u'item'],\n",
        "  u'lab': u'/labs/barbara-wold/',\n",
        "  u'title': u'Diane Trout',\n",
        "  u'uuid': u'bc5b62f7-ce28-4a1e-b6b3-81c9c5a86d7a'},\n",
        " u'urls': [u'http://tools.lifetechnologies.com/content/sfs/manuals/dynabeads_mrna_purification_man.pdf'],\n",
        " u'uuid': u'e84de88e-4c31-4b2a-b6ac-96feb764b2d0'}"
       ]
      }
     ],
     "prompt_number": 125
    },
    {
     "cell_type": "raw",
     "metadata": {},
     "source": [
      "Create Laser Capture Microdisection Protocol"
     ]
    },
    {
     "cell_type": "code",
     "collapsed": false,
     "input": [
      "dissection_uuid = u'a6e06058-5019-488f-9195-8bcd2e9229c1'\n",
      "dissection = Document('Laser capture dissection procedure general protocol_Wold_group.pdf', \n",
      "                     'general protocol', 'Laser capture microdissection Protocol')\n",
      "dissection.create_if_needed(server, dissection_uuid)\n"
     ],
     "language": "python",
     "metadata": {},
     "outputs": [
      {
       "metadata": {},
       "output_type": "pyout",
       "prompt_number": 126,
       "text": [
        "{u'@id': u'/documents/a6e06058-5019-488f-9195-8bcd2e9229c1/',\n",
        " u'@type': [u'document', u'item'],\n",
        " u'actions': [],\n",
        " u'aliases': [],\n",
        " u'attachment': {u'download': u'Laser capture dissection procedure general protocol_Wold_group.pdf',\n",
        "  u'href': u'@@download/attachment/Laser%20capture%20dissection%20procedure%20general%20protocol_Wold_group.pdf',\n",
        "  u'md5sum': u'7c9b8e0a36860ef7e31a90a919be58c9',\n",
        "  u'type': u'application/pdf'},\n",
        " u'award': {u'@id': u'/awards/U54HG006998/',\n",
        "  u'@type': [u'award', u'item'],\n",
        "  u'description': u'The goal of the ENCODE Project is to provide the biomedical community with a complete and biologically interpretable annotation of the human genome. This means discovering and mapping all parts of all genes, including exons, introns, promoters and cis-regulatory sequences, in previous phases of the ENCODE Project, the applicants of this proposal developed and applied robust, high-throughput, genome-wide methods for determining transcription factor occupancy, assessing DNA methylation, identifying RNA transcripts, and experimentally testing candidate regulatory elements and mutations. The combination of experiences from the previous phases with the resulting technology and analysis platforms and the existing, highly productive infrastructure of the applicants form the basis of this response to NHGRI\\'s RFA-HG-11-024 (\"Expanding the Encyclopedia of DNA Elements (ENCODE) in the Human and Model Organisms\"). This application presents an ambitious proposal to expand the biological dimensions of ENCODE to include essentially all transcription factors for measurements of occupancy and to produce transcriptomes from hundreds of very specific cell types, and even single cells. The specific plan is to: 1) determine genome wide occupancy for all transcription factors and major cofactors with high resolution in two or more cell types; 2) map and quantify all messenger RNA transcripts, microRNAs and other non-ribosomal RNAs in more than 300 well-defined, uncultured cell types; 3) map DNA methylation state genome-wide at nucleotide resolution in more than 300 cell types; and 4) apply a high-throughput transient transfection assay system to test the impact of -2,000 candidate regulatory elements on gene regulation. All experimental work in this project will be evaluated by appropriate quality metrics, and after quality control, all data will be rapidly deposited in publi, freely accessible genome databases. In addition, computational analyses, including evaluation of comparative and population genomics data, will be integrated with the experimental production to help ensure quality and to capture information in forms useful to biologists, genomicists, and medical researchers. Completion of these Specific Aims will enable biomedical researchers to better and more rapidly understand the consequences of mutations in genomic disorders, including cancer, cardiovascular disease, and almost ail common diseases and, therefore, to more fully realize the potential of genomics to impact human health.',\n",
        "  u'end_date': u'2016-07-31',\n",
        "  u'name': u'U54HG006998',\n",
        "  u'pi': u'/users/a62cfec5-57a0-45ab-b943-8ca0e0057bb6/',\n",
        "  u'project': u'ENCODE',\n",
        "  u'rfa': u'ENCODE3',\n",
        "  u'schema_version': u'2',\n",
        "  u'start_date': u'2012-09-21',\n",
        "  u'status': u'current',\n",
        "  u'title': u'TOWARD A COMPREHENSIVE FUNCTIONAL ANNOTATION OF THE HUMAN GENOME',\n",
        "  u'url': u'http://projectreporter.nih.gov/project_info_details.cfm?aid=8402461',\n",
        "  u'uuid': u'6272092d-f953-4b86-b04b-cad31d64352f'},\n",
        " u'date_created': u'2014-06-30T17:52:54.773488+00:00',\n",
        " u'description': u'Laser capture microdissection Protocol',\n",
        " u'document_type': u'general protocol',\n",
        " u'lab': {u'@id': u'/labs/barbara-wold/',\n",
        "  u'@type': [u'lab', u'item'],\n",
        "  u'address1': u'Department of Biochemistry and Molecular Biophysics',\n",
        "  u'address2': u'1200 California Blvd; MC156-29',\n",
        "  u'awards': [u'/awards/U54HG006998/'],\n",
        "  u'city': u'Pasadena',\n",
        "  u'country': u'USA',\n",
        "  u'fax': u'',\n",
        "  u'institute_label': u'Caltech',\n",
        "  u'institute_name': u'California Institute of Technology',\n",
        "  u'name': u'barbara-wold',\n",
        "  u'phone1': u'626-395-4916',\n",
        "  u'phone2': u'626-395-4923',\n",
        "  u'pi': u'/users/0598c868-0b4a-4c5b-9112-8f85c5de5374/',\n",
        "  u'postal_code': u'91125',\n",
        "  u'schema_version': u'2',\n",
        "  u'state': u'CA',\n",
        "  u'status': u'current',\n",
        "  u'title': u'Barbara Wold, Caltech',\n",
        "  u'uuid': u'72d5666a-a361-4f7b-ab66-a88e11280937'},\n",
        " u'references': [],\n",
        " u'schema_version': u'3',\n",
        " u'status': u'in progress',\n",
        " u'submitted_by': {u'@id': u'/users/bc5b62f7-ce28-4a1e-b6b3-81c9c5a86d7a/',\n",
        "  u'@type': [u'user', u'item'],\n",
        "  u'lab': u'/labs/barbara-wold/',\n",
        "  u'title': u'Diane Trout',\n",
        "  u'uuid': u'bc5b62f7-ce28-4a1e-b6b3-81c9c5a86d7a'},\n",
        " u'urls': [],\n",
        " u'uuid': u'a6e06058-5019-488f-9195-8bcd2e9229c1'}"
       ]
      }
     ],
     "prompt_number": 126
    },
    {
     "cell_type": "heading",
     "level": 1,
     "metadata": {},
     "source": [
      "Generate list of documents"
     ]
    },
    {
     "cell_type": "code",
     "collapsed": false,
     "input": [
      "for doc in[lysis, digest, selection, dissection]:\n",
      "    print('{} {}'.format(doc.uuid, doc.description))"
     ],
     "language": "python",
     "metadata": {},
     "outputs": [
      {
       "output_type": "stream",
       "stream": "stdout",
       "text": [
        "f0cc5a7f-96a5-4970-9f46-317cc8e2d6a4 Lysis Protocol\n",
        "428a184d-7fa1-4599-9d8d-749c2eba7edd Genomic DNA Removal Protocol\n",
        "e84de88e-4c31-4b2a-b6ac-96feb764b2d0 mRNA Selection Protocol\n",
        "a6e06058-5019-488f-9195-8bcd2e9229c1 Laser capture microdissection Protocol\n"
       ]
      }
     ],
     "prompt_number": 128
    },
    {
     "cell_type": "heading",
     "level": 1,
     "metadata": {},
     "source": [
      "Adjust Documents"
     ]
    },
    {
     "cell_type": "markdown",
     "metadata": {},
     "source": [
      "There's been some confusion about which library had which document should be attached to which library."
     ]
    },
    {
     "cell_type": "code",
     "collapsed": false,
     "input": [
      "def doc_url(x):\n",
      "    return u'/documents/{}/'.format(x)\n",
      "\n",
      "our_documents = set([ doc_url(x) for x in [lysis_uuid, digest_uuid, selection_uuid, dissection_uuid]])\n",
      "no_selection_documents = set([ doc_url(x) for x in [lysis_uuid, digest_uuid]])\n",
      "with_selection_documents = set([ doc_url(x) for x in [lysis_uuid, digest_uuid, selection_uuid]])\n",
      "lcmd_documents = set([doc_url(x) for x in [dissection_uuid]])\n",
      "library_document_map = {\n",
      "  # bulk prep GM12878\n",
      "  '13274': no_selection_documents,\n",
      "  '13275': no_selection_documents,\n",
      "  # GM12878 Long total \n",
      "  '13711': no_selection_documents,\n",
      "  '13712': no_selection_documents,\n",
      "  # K562 Long Poly A\n",
      "  '13717': no_selection_documents,\n",
      "  '13718': no_selection_documents,\n",
      "\n",
      "  # GM12878 long poly-a\n",
      "  '13713': with_selection_documents,\n",
      "  '13714': with_selection_documents,\n",
      "  # K562 total RNA\n",
      "  '13715': with_selection_documents,\n",
      "  '13716': with_selection_documents,\n",
      "\n",
      "  # LCMD\n",
      "  '13628': lcmd_documents,\n",
      "  '13642': lcmd_documents,\n",
      "  '13639': lcmd_documents,\n",
      "  '13633': lcmd_documents,\n",
      "  '13636': lcmd_documents,\n",
      "  '13637': lcmd_documents,\n",
      "  '13626': lcmd_documents,\n",
      "  '13644': lcmd_documents,\n",
      "  '13634': lcmd_documents,\n",
      "  '13625': lcmd_documents,\n",
      "  '13627': lcmd_documents,\n",
      "  '13640': lcmd_documents,\n",
      "  '13638': lcmd_documents,\n",
      "  '13643': lcmd_documents,\n",
      "  '13630': lcmd_documents,\n",
      "  '13631': lcmd_documents,\n",
      "  '13632': lcmd_documents,\n",
      "  '13641': lcmd_documents,\n",
      "  '13629': lcmd_documents,\n",
      "  '13635': lcmd_documents,\n",
      "  '13665': lcmd_documents,\n",
      "  '13666': lcmd_documents,\n",
      "  '13619': lcmd_documents,\n",
      "  '13622': lcmd_documents,\n",
      "  '13262': lcmd_documents,\n",
      "  '13263': lcmd_documents,\n",
      "  '13347': lcmd_documents,\n",
      "  '13349': lcmd_documents,\n",
      "  '13025': lcmd_documents,\n",
      "  '13024': lcmd_documents,\n",
      "  '13623': lcmd_documents,\n",
      "  '13620': lcmd_documents,\n",
      "  '13645': lcmd_documents,\n",
      "  '13658': lcmd_documents,\n",
      "  '13660': lcmd_documents,\n",
      "  '13663': lcmd_documents,\n",
      "  '13652': lcmd_documents,\n",
      "  '13654': lcmd_documents,\n",
      "  '13656': lcmd_documents,\n",
      "  '13659': lcmd_documents,\n",
      "  '13662': lcmd_documents,\n",
      "  '13664': lcmd_documents,\n",
      "  '13646': lcmd_documents,\n",
      "  '13648': lcmd_documents,\n",
      "  '13661': lcmd_documents,\n",
      "  '13647': lcmd_documents,\n",
      "  '13649': lcmd_documents,\n",
      "  '13651': lcmd_documents,\n",
      "  '13650': lcmd_documents,\n",
      "  '13653': lcmd_documents,\n",
      "  '13655': lcmd_documents,\n",
      "  '13657': lcmd_documents,\n",
      "\n",
      "}"
     ],
     "language": "python",
     "metadata": {},
     "outputs": [],
     "prompt_number": 137
    },
    {
     "cell_type": "code",
     "collapsed": false,
     "input": [
      "for lib in library_document_map:\n",
      "    obj = server.get_json('barbara-wold:{}'.format(lib), embed=False)\n",
      "    desired_documents = library_document_map[lib].copy()\n",
      "    dcc_documents = set(obj['documents'])\n",
      "    print('{} {}'.format(lib, obj['@id']))\n",
      "\n",
      "    if not dcc_documents.issubset(our_documents):\n",
      "        unknown_documents = dcc_documents.difference(our_documents)\n",
      "        desired_documents = desired_documents.union(unknown_documents)\n",
      "        print(' Unknown documents: {} not subset of {}'.format(unknown_documents, our_documents))\n",
      "        \n",
      "    if desired_documents != dcc_documents:\n",
      "        print('Need to update {}: {}'.format(obj['@id'], list(desired_documents)))\n",
      "        server.patch_json(obj['@id'], {'documents': list(desired_documents)})\n",
      "    else:\n",
      "        print('Current')\n",
      "        "
     ],
     "language": "python",
     "metadata": {},
     "outputs": [
      {
       "output_type": "stream",
       "stream": "stdout",
       "text": [
        "13636 /libraries/ENCLB619TYA/\n",
        "Need to update /libraries/ENCLB619TYA/: [u'/documents/a6e06058-5019-488f-9195-8bcd2e9229c1/']\n",
        "13637 /libraries/ENCLB350NUB/"
       ]
      },
      {
       "output_type": "stream",
       "stream": "stdout",
       "text": [
        "\n",
        "Need to update /libraries/ENCLB350NUB/: [u'/documents/a6e06058-5019-488f-9195-8bcd2e9229c1/']\n",
        "13634 /libraries/ENCLB211OUD/"
       ]
      },
      {
       "output_type": "stream",
       "stream": "stdout",
       "text": [
        "\n",
        "Need to update /libraries/ENCLB211OUD/: [u'/documents/a6e06058-5019-488f-9195-8bcd2e9229c1/']\n",
        "13635 /libraries/ENCLB222MSP/"
       ]
      },
      {
       "output_type": "stream",
       "stream": "stdout",
       "text": [
        "\n",
        "Need to update /libraries/ENCLB222MSP/: [u'/documents/a6e06058-5019-488f-9195-8bcd2e9229c1/']\n",
        "13632 /libraries/ENCLB747ZHK/"
       ]
      },
      {
       "output_type": "stream",
       "stream": "stdout",
       "text": [
        "\n",
        "Need to update /libraries/ENCLB747ZHK/: [u'/documents/a6e06058-5019-488f-9195-8bcd2e9229c1/']\n",
        "13633 /libraries/ENCLB710XHU/"
       ]
      },
      {
       "output_type": "stream",
       "stream": "stdout",
       "text": [
        "\n",
        "Need to update /libraries/ENCLB710XHU/: [u'/documents/a6e06058-5019-488f-9195-8bcd2e9229c1/']\n",
        "13630 /libraries/ENCLB804XKW/"
       ]
      },
      {
       "output_type": "stream",
       "stream": "stdout",
       "text": [
        "\n",
        "Need to update /libraries/ENCLB804XKW/: [u'/documents/a6e06058-5019-488f-9195-8bcd2e9229c1/']\n",
        "13631 /libraries/ENCLB087SVF/"
       ]
      },
      {
       "output_type": "stream",
       "stream": "stdout",
       "text": [
        "\n",
        "Need to update /libraries/ENCLB087SVF/: [u'/documents/a6e06058-5019-488f-9195-8bcd2e9229c1/']\n",
        "13638 /libraries/ENCLB257OVB/"
       ]
      },
      {
       "output_type": "stream",
       "stream": "stdout",
       "text": [
        "\n",
        "Need to update /libraries/ENCLB257OVB/: [u'/documents/a6e06058-5019-488f-9195-8bcd2e9229c1/']\n",
        "13639 /libraries/ENCLB218HBM/"
       ]
      },
      {
       "output_type": "stream",
       "stream": "stdout",
       "text": [
        "\n",
        "Need to update /libraries/ENCLB218HBM/: [u'/documents/a6e06058-5019-488f-9195-8bcd2e9229c1/']\n",
        "13025 /libraries/ENCLB976CMA/"
       ]
      },
      {
       "output_type": "stream",
       "stream": "stdout",
       "text": [
        "\n",
        "Need to update /libraries/ENCLB976CMA/: [u'/documents/a6e06058-5019-488f-9195-8bcd2e9229c1/']\n",
        "13024 /libraries/ENCLB386HBI/"
       ]
      },
      {
       "output_type": "stream",
       "stream": "stdout",
       "text": [
        "\n",
        "Need to update /libraries/ENCLB386HBI/: [u'/documents/a6e06058-5019-488f-9195-8bcd2e9229c1/']\n",
        "13647 /libraries/ENCLB546SWD/"
       ]
      },
      {
       "output_type": "stream",
       "stream": "stdout",
       "text": [
        "\n",
        "Need to update /libraries/ENCLB546SWD/: [u'/documents/a6e06058-5019-488f-9195-8bcd2e9229c1/']\n",
        "13646 /libraries/ENCLB432EQY/"
       ]
      },
      {
       "output_type": "stream",
       "stream": "stdout",
       "text": [
        "\n",
        "Need to update /libraries/ENCLB432EQY/: [u'/documents/a6e06058-5019-488f-9195-8bcd2e9229c1/']\n",
        "13645 /libraries/ENCLB678KFT/"
       ]
      },
      {
       "output_type": "stream",
       "stream": "stdout",
       "text": [
        "\n",
        "Need to update /libraries/ENCLB678KFT/: [u'/documents/a6e06058-5019-488f-9195-8bcd2e9229c1/']\n",
        "13644 /libraries/ENCLB632SOL/"
       ]
      },
      {
       "output_type": "stream",
       "stream": "stdout",
       "text": [
        "\n",
        "Need to update /libraries/ENCLB632SOL/: [u'/documents/a6e06058-5019-488f-9195-8bcd2e9229c1/']\n",
        "13643 /libraries/ENCLB509KSM/"
       ]
      },
      {
       "output_type": "stream",
       "stream": "stdout",
       "text": [
        "\n",
        "Need to update /libraries/ENCLB509KSM/: [u'/documents/a6e06058-5019-488f-9195-8bcd2e9229c1/']\n",
        "13642 /libraries/ENCLB552DLJ/"
       ]
      },
      {
       "output_type": "stream",
       "stream": "stdout",
       "text": [
        "\n",
        "Need to update /libraries/ENCLB552DLJ/: [u'/documents/a6e06058-5019-488f-9195-8bcd2e9229c1/']\n",
        "13641 /libraries/ENCLB876ZIU/"
       ]
      },
      {
       "output_type": "stream",
       "stream": "stdout",
       "text": [
        "\n",
        "Need to update /libraries/ENCLB876ZIU/: [u'/documents/a6e06058-5019-488f-9195-8bcd2e9229c1/']\n",
        "13640 /libraries/ENCLB617JJG/"
       ]
      },
      {
       "output_type": "stream",
       "stream": "stdout",
       "text": [
        "\n",
        "Need to update /libraries/ENCLB617JJG/: [u'/documents/a6e06058-5019-488f-9195-8bcd2e9229c1/']\n",
        "13649 /libraries/ENCLB340FFP/"
       ]
      },
      {
       "output_type": "stream",
       "stream": "stdout",
       "text": [
        "\n",
        "Need to update /libraries/ENCLB340FFP/: [u'/documents/a6e06058-5019-488f-9195-8bcd2e9229c1/']\n",
        "13648 /libraries/ENCLB151CUN/"
       ]
      },
      {
       "output_type": "stream",
       "stream": "stdout",
       "text": [
        "\n",
        "Need to update /libraries/ENCLB151CUN/: [u'/documents/a6e06058-5019-488f-9195-8bcd2e9229c1/']\n",
        "13655 /libraries/ENCLB611KGC/"
       ]
      },
      {
       "output_type": "stream",
       "stream": "stdout",
       "text": [
        "\n",
        "Need to update /libraries/ENCLB611KGC/: [u'/documents/a6e06058-5019-488f-9195-8bcd2e9229c1/']\n",
        "13665 /libraries/ENCLB915IHV/"
       ]
      },
      {
       "output_type": "stream",
       "stream": "stdout",
       "text": [
        "\n",
        "Need to update /libraries/ENCLB915IHV/: [u'/documents/a6e06058-5019-488f-9195-8bcd2e9229c1/']\n",
        "13664 /libraries/ENCLB912XSU/"
       ]
      },
      {
       "output_type": "stream",
       "stream": "stdout",
       "text": [
        "\n",
        "Need to update /libraries/ENCLB912XSU/: [u'/documents/a6e06058-5019-488f-9195-8bcd2e9229c1/']\n",
        "13650 /libraries/ENCLB205HHN/"
       ]
      },
      {
       "output_type": "stream",
       "stream": "stdout",
       "text": [
        "\n",
        "Need to update /libraries/ENCLB205HHN/: [u'/documents/a6e06058-5019-488f-9195-8bcd2e9229c1/']\n",
        "13651 /libraries/ENCLB452IVF/"
       ]
      },
      {
       "output_type": "stream",
       "stream": "stdout",
       "text": [
        "\n",
        "Need to update /libraries/ENCLB452IVF/: [u'/documents/a6e06058-5019-488f-9195-8bcd2e9229c1/']\n",
        "13652 /libraries/ENCLB294BYK/"
       ]
      },
      {
       "output_type": "stream",
       "stream": "stdout",
       "text": [
        "\n",
        "Need to update /libraries/ENCLB294BYK/: [u'/documents/a6e06058-5019-488f-9195-8bcd2e9229c1/']\n",
        "13653 /libraries/ENCLB078UJF/"
       ]
      },
      {
       "output_type": "stream",
       "stream": "stdout",
       "text": [
        "\n",
        "Need to update /libraries/ENCLB078UJF/: [u'/documents/a6e06058-5019-488f-9195-8bcd2e9229c1/']\n",
        "13654 /libraries/ENCLB614VPZ/"
       ]
      },
      {
       "output_type": "stream",
       "stream": "stdout",
       "text": [
        "\n",
        "Need to update /libraries/ENCLB614VPZ/: [u'/documents/a6e06058-5019-488f-9195-8bcd2e9229c1/']\n",
        "13347 /libraries/ENCLB928LID/"
       ]
      },
      {
       "output_type": "stream",
       "stream": "stdout",
       "text": [
        "\n",
        "Need to update /libraries/ENCLB928LID/: [u'/documents/a6e06058-5019-488f-9195-8bcd2e9229c1/']\n",
        "13656 /libraries/ENCLB462FVS/"
       ]
      },
      {
       "output_type": "stream",
       "stream": "stdout",
       "text": [
        "\n",
        "Need to update /libraries/ENCLB462FVS/: [u'/documents/a6e06058-5019-488f-9195-8bcd2e9229c1/']\n",
        "13657 /libraries/ENCLB562SNL/"
       ]
      },
      {
       "output_type": "stream",
       "stream": "stdout",
       "text": [
        "\n",
        "Need to update /libraries/ENCLB562SNL/: [u'/documents/a6e06058-5019-488f-9195-8bcd2e9229c1/']\n",
        "13658 /libraries/ENCLB147KNI/"
       ]
      },
      {
       "output_type": "stream",
       "stream": "stdout",
       "text": [
        "\n",
        "Need to update /libraries/ENCLB147KNI/: [u'/documents/a6e06058-5019-488f-9195-8bcd2e9229c1/']\n",
        "13659 /libraries/ENCLB904FTO/"
       ]
      },
      {
       "output_type": "stream",
       "stream": "stdout",
       "text": [
        "\n",
        "Need to update /libraries/ENCLB904FTO/: [u'/documents/a6e06058-5019-488f-9195-8bcd2e9229c1/']\n",
        "13349 /libraries/ENCLB532KHK/"
       ]
      },
      {
       "output_type": "stream",
       "stream": "stdout",
       "text": [
        "\n",
        "Need to update /libraries/ENCLB532KHK/: [u'/documents/a6e06058-5019-488f-9195-8bcd2e9229c1/']\n",
        "13718 /libraries/ENCLB064ZZZ/"
       ]
      },
      {
       "output_type": "stream",
       "stream": "stdout",
       "text": [
        "\n",
        " Unknown documents: set([u'/documents/28fef8e0-e171-450d-b66d-e3d199531cf2/', u'/documents/7ae25f97-ab0a-448b-b345-cfffd6368c90/']) not subset of set([u'/documents/a6e06058-5019-488f-9195-8bcd2e9229c1/', u'/documents/f0cc5a7f-96a5-4970-9f46-317cc8e2d6a4/', u'/documents/428a184d-7fa1-4599-9d8d-749c2eba7edd/', u'/documents/e84de88e-4c31-4b2a-b6ac-96feb764b2d0/'])\n",
        "Need to update /libraries/ENCLB064ZZZ/: [u'/documents/28fef8e0-e171-450d-b66d-e3d199531cf2/', u'/documents/f0cc5a7f-96a5-4970-9f46-317cc8e2d6a4/', u'/documents/428a184d-7fa1-4599-9d8d-749c2eba7edd/', u'/documents/7ae25f97-ab0a-448b-b345-cfffd6368c90/']\n",
        "13619 /libraries/ENCLB901PGF/"
       ]
      },
      {
       "output_type": "stream",
       "stream": "stdout",
       "text": [
        "\n",
        "Need to update /libraries/ENCLB901PGF/: [u'/documents/a6e06058-5019-488f-9195-8bcd2e9229c1/']\n",
        "13711 /libraries/ENCLB043ZZZ/"
       ]
      },
      {
       "output_type": "stream",
       "stream": "stdout",
       "text": [
        "\n",
        " Unknown documents: set([u'/documents/28fef8e0-e171-450d-b66d-e3d199531cf2/', u'/documents/7ae25f97-ab0a-448b-b345-cfffd6368c90/']) not subset of set([u'/documents/a6e06058-5019-488f-9195-8bcd2e9229c1/', u'/documents/f0cc5a7f-96a5-4970-9f46-317cc8e2d6a4/', u'/documents/428a184d-7fa1-4599-9d8d-749c2eba7edd/', u'/documents/e84de88e-4c31-4b2a-b6ac-96feb764b2d0/'])\n",
        "Need to update /libraries/ENCLB043ZZZ/: [u'/documents/28fef8e0-e171-450d-b66d-e3d199531cf2/', u'/documents/f0cc5a7f-96a5-4970-9f46-317cc8e2d6a4/', u'/documents/428a184d-7fa1-4599-9d8d-749c2eba7edd/', u'/documents/7ae25f97-ab0a-448b-b345-cfffd6368c90/']\n",
        "13713 /libraries/ENCLB045ZZZ/"
       ]
      },
      {
       "output_type": "stream",
       "stream": "stdout",
       "text": [
        "\n",
        " Unknown documents: set([u'/documents/28fef8e0-e171-450d-b66d-e3d199531cf2/', u'/documents/7ae25f97-ab0a-448b-b345-cfffd6368c90/']) not subset of set([u'/documents/a6e06058-5019-488f-9195-8bcd2e9229c1/', u'/documents/f0cc5a7f-96a5-4970-9f46-317cc8e2d6a4/', u'/documents/428a184d-7fa1-4599-9d8d-749c2eba7edd/', u'/documents/e84de88e-4c31-4b2a-b6ac-96feb764b2d0/'])\n",
        "Need to update /libraries/ENCLB045ZZZ/: [u'/documents/28fef8e0-e171-450d-b66d-e3d199531cf2/', u'/documents/f0cc5a7f-96a5-4970-9f46-317cc8e2d6a4/', u'/documents/7ae25f97-ab0a-448b-b345-cfffd6368c90/', u'/documents/428a184d-7fa1-4599-9d8d-749c2eba7edd/', u'/documents/e84de88e-4c31-4b2a-b6ac-96feb764b2d0/']\n",
        "13712 /libraries/ENCLB044ZZZ/"
       ]
      },
      {
       "output_type": "stream",
       "stream": "stdout",
       "text": [
        "\n",
        " Unknown documents: set([u'/documents/28fef8e0-e171-450d-b66d-e3d199531cf2/', u'/documents/7ae25f97-ab0a-448b-b345-cfffd6368c90/']) not subset of set([u'/documents/a6e06058-5019-488f-9195-8bcd2e9229c1/', u'/documents/f0cc5a7f-96a5-4970-9f46-317cc8e2d6a4/', u'/documents/428a184d-7fa1-4599-9d8d-749c2eba7edd/', u'/documents/e84de88e-4c31-4b2a-b6ac-96feb764b2d0/'])\n",
        "Need to update /libraries/ENCLB044ZZZ/: [u'/documents/28fef8e0-e171-450d-b66d-e3d199531cf2/', u'/documents/f0cc5a7f-96a5-4970-9f46-317cc8e2d6a4/', u'/documents/428a184d-7fa1-4599-9d8d-749c2eba7edd/', u'/documents/7ae25f97-ab0a-448b-b345-cfffd6368c90/']\n",
        "13715 /libraries/ENCLB061ZZZ/"
       ]
      },
      {
       "output_type": "stream",
       "stream": "stdout",
       "text": [
        "\n",
        " Unknown documents: set([u'/documents/28fef8e0-e171-450d-b66d-e3d199531cf2/', u'/documents/7ae25f97-ab0a-448b-b345-cfffd6368c90/']) not subset of set([u'/documents/a6e06058-5019-488f-9195-8bcd2e9229c1/', u'/documents/f0cc5a7f-96a5-4970-9f46-317cc8e2d6a4/', u'/documents/428a184d-7fa1-4599-9d8d-749c2eba7edd/', u'/documents/e84de88e-4c31-4b2a-b6ac-96feb764b2d0/'])\n",
        "Need to update /libraries/ENCLB061ZZZ/: [u'/documents/28fef8e0-e171-450d-b66d-e3d199531cf2/', u'/documents/f0cc5a7f-96a5-4970-9f46-317cc8e2d6a4/', u'/documents/7ae25f97-ab0a-448b-b345-cfffd6368c90/', u'/documents/428a184d-7fa1-4599-9d8d-749c2eba7edd/', u'/documents/e84de88e-4c31-4b2a-b6ac-96feb764b2d0/']\n",
        "13714 /libraries/ENCLB046ZZZ/"
       ]
      },
      {
       "output_type": "stream",
       "stream": "stdout",
       "text": [
        "\n",
        " Unknown documents: set([u'/documents/28fef8e0-e171-450d-b66d-e3d199531cf2/', u'/documents/7ae25f97-ab0a-448b-b345-cfffd6368c90/']) not subset of set([u'/documents/a6e06058-5019-488f-9195-8bcd2e9229c1/', u'/documents/f0cc5a7f-96a5-4970-9f46-317cc8e2d6a4/', u'/documents/428a184d-7fa1-4599-9d8d-749c2eba7edd/', u'/documents/e84de88e-4c31-4b2a-b6ac-96feb764b2d0/'])\n",
        "Need to update /libraries/ENCLB046ZZZ/: [u'/documents/28fef8e0-e171-450d-b66d-e3d199531cf2/', u'/documents/f0cc5a7f-96a5-4970-9f46-317cc8e2d6a4/', u'/documents/7ae25f97-ab0a-448b-b345-cfffd6368c90/', u'/documents/428a184d-7fa1-4599-9d8d-749c2eba7edd/', u'/documents/e84de88e-4c31-4b2a-b6ac-96feb764b2d0/']\n",
        "13717 /libraries/ENCLB063ZZZ/"
       ]
      },
      {
       "output_type": "stream",
       "stream": "stdout",
       "text": [
        "\n",
        " Unknown documents: set([u'/documents/28fef8e0-e171-450d-b66d-e3d199531cf2/', u'/documents/7ae25f97-ab0a-448b-b345-cfffd6368c90/']) not subset of set([u'/documents/a6e06058-5019-488f-9195-8bcd2e9229c1/', u'/documents/f0cc5a7f-96a5-4970-9f46-317cc8e2d6a4/', u'/documents/428a184d-7fa1-4599-9d8d-749c2eba7edd/', u'/documents/e84de88e-4c31-4b2a-b6ac-96feb764b2d0/'])\n",
        "Need to update /libraries/ENCLB063ZZZ/: [u'/documents/28fef8e0-e171-450d-b66d-e3d199531cf2/', u'/documents/f0cc5a7f-96a5-4970-9f46-317cc8e2d6a4/', u'/documents/428a184d-7fa1-4599-9d8d-749c2eba7edd/', u'/documents/7ae25f97-ab0a-448b-b345-cfffd6368c90/']\n",
        "13716 /libraries/ENCLB062ZZZ/"
       ]
      },
      {
       "output_type": "stream",
       "stream": "stdout",
       "text": [
        "\n",
        " Unknown documents: set([u'/documents/28fef8e0-e171-450d-b66d-e3d199531cf2/', u'/documents/7ae25f97-ab0a-448b-b345-cfffd6368c90/']) not subset of set([u'/documents/a6e06058-5019-488f-9195-8bcd2e9229c1/', u'/documents/f0cc5a7f-96a5-4970-9f46-317cc8e2d6a4/', u'/documents/428a184d-7fa1-4599-9d8d-749c2eba7edd/', u'/documents/e84de88e-4c31-4b2a-b6ac-96feb764b2d0/'])\n",
        "Need to update /libraries/ENCLB062ZZZ/: [u'/documents/28fef8e0-e171-450d-b66d-e3d199531cf2/', u'/documents/f0cc5a7f-96a5-4970-9f46-317cc8e2d6a4/', u'/documents/7ae25f97-ab0a-448b-b345-cfffd6368c90/', u'/documents/428a184d-7fa1-4599-9d8d-749c2eba7edd/', u'/documents/e84de88e-4c31-4b2a-b6ac-96feb764b2d0/']\n",
        "13263 /libraries/ENCLB621DLJ/"
       ]
      },
      {
       "output_type": "stream",
       "stream": "stdout",
       "text": [
        "\n",
        "Need to update /libraries/ENCLB621DLJ/: [u'/documents/a6e06058-5019-488f-9195-8bcd2e9229c1/']\n",
        "13262 /libraries/ENCLB164LQL/"
       ]
      },
      {
       "output_type": "stream",
       "stream": "stdout",
       "text": [
        "\n",
        "Need to update /libraries/ENCLB164LQL/: [u'/documents/a6e06058-5019-488f-9195-8bcd2e9229c1/']\n",
        "13625 /libraries/ENCLB331AUZ/"
       ]
      },
      {
       "output_type": "stream",
       "stream": "stdout",
       "text": [
        "\n",
        "Need to update /libraries/ENCLB331AUZ/: [u'/documents/a6e06058-5019-488f-9195-8bcd2e9229c1/']\n",
        "13627 /libraries/ENCLB228BIT/"
       ]
      },
      {
       "output_type": "stream",
       "stream": "stdout",
       "text": [
        "\n",
        "Need to update /libraries/ENCLB228BIT/: [u'/documents/a6e06058-5019-488f-9195-8bcd2e9229c1/']\n",
        "13626 /libraries/ENCLB327MTR/"
       ]
      },
      {
       "output_type": "stream",
       "stream": "stdout",
       "text": [
        "\n",
        "Need to update /libraries/ENCLB327MTR/: [u'/documents/a6e06058-5019-488f-9195-8bcd2e9229c1/']\n",
        "13620 /libraries/ENCLB392ZIG/"
       ]
      },
      {
       "output_type": "stream",
       "stream": "stdout",
       "text": [
        "\n",
        "Need to update /libraries/ENCLB392ZIG/: [u'/documents/a6e06058-5019-488f-9195-8bcd2e9229c1/']\n",
        "13623 /libraries/ENCLB036TZY/"
       ]
      },
      {
       "output_type": "stream",
       "stream": "stdout",
       "text": [
        "\n",
        "Need to update /libraries/ENCLB036TZY/: [u'/documents/a6e06058-5019-488f-9195-8bcd2e9229c1/']\n",
        "13622 /libraries/ENCLB426EUN/"
       ]
      },
      {
       "output_type": "stream",
       "stream": "stdout",
       "text": [
        "\n",
        "Need to update /libraries/ENCLB426EUN/: [u'/documents/a6e06058-5019-488f-9195-8bcd2e9229c1/']\n",
        "13661 /libraries/ENCLB720FXC/"
       ]
      },
      {
       "output_type": "stream",
       "stream": "stdout",
       "text": [
        "\n",
        "Need to update /libraries/ENCLB720FXC/: [u'/documents/a6e06058-5019-488f-9195-8bcd2e9229c1/']\n",
        "13660 /libraries/ENCLB857XKO/"
       ]
      },
      {
       "output_type": "stream",
       "stream": "stdout",
       "text": [
        "\n",
        "Need to update /libraries/ENCLB857XKO/: [u'/documents/a6e06058-5019-488f-9195-8bcd2e9229c1/']\n",
        "13663 /libraries/ENCLB229ENW/"
       ]
      },
      {
       "output_type": "stream",
       "stream": "stdout",
       "text": [
        "\n",
        "Need to update /libraries/ENCLB229ENW/: [u'/documents/a6e06058-5019-488f-9195-8bcd2e9229c1/']\n",
        "13662 /libraries/ENCLB632CVX/"
       ]
      },
      {
       "output_type": "stream",
       "stream": "stdout",
       "text": [
        "\n",
        "Need to update /libraries/ENCLB632CVX/: [u'/documents/a6e06058-5019-488f-9195-8bcd2e9229c1/']\n",
        "13629 /libraries/ENCLB403JBC/"
       ]
      },
      {
       "output_type": "stream",
       "stream": "stdout",
       "text": [
        "\n",
        "Need to update /libraries/ENCLB403JBC/: [u'/documents/a6e06058-5019-488f-9195-8bcd2e9229c1/']\n",
        "13628 /libraries/ENCLB641KNK/"
       ]
      },
      {
       "output_type": "stream",
       "stream": "stdout",
       "text": [
        "\n",
        "Need to update /libraries/ENCLB641KNK/: [u'/documents/a6e06058-5019-488f-9195-8bcd2e9229c1/']\n",
        "13666 /libraries/ENCLB204VYG/"
       ]
      },
      {
       "output_type": "stream",
       "stream": "stdout",
       "text": [
        "\n",
        "Need to update /libraries/ENCLB204VYG/: [u'/documents/a6e06058-5019-488f-9195-8bcd2e9229c1/']\n",
        "13274 /libraries/ENCLB036MBQ/"
       ]
      },
      {
       "output_type": "stream",
       "stream": "stdout",
       "text": [
        "\n",
        "Need to update /libraries/ENCLB036MBQ/: [u'/documents/f0cc5a7f-96a5-4970-9f46-317cc8e2d6a4/', u'/documents/428a184d-7fa1-4599-9d8d-749c2eba7edd/']\n",
        "13275 /libraries/ENCLB284CYK/"
       ]
      },
      {
       "output_type": "stream",
       "stream": "stdout",
       "text": [
        "\n",
        "Need to update /libraries/ENCLB284CYK/: [u'/documents/f0cc5a7f-96a5-4970-9f46-317cc8e2d6a4/', u'/documents/428a184d-7fa1-4599-9d8d-749c2eba7edd/']\n"
       ]
      }
     ],
     "prompt_number": 140
    },
    {
     "cell_type": "markdown",
     "metadata": {},
     "source": [
      "This was output of my document update script with the first update. in theory if I did something wrong it could be fixed with this output.\n",
      "\n",
      "13636 /libraries/ENCLB619TYA/\n",
      "Need to update /libraries/ENCLB619TYA/: [u'/documents/a6e06058-5019-488f-9195-8bcd2e9229c1/']\n",
      "13637 /libraries/ENCLB350NUB/\n",
      "Need to update /libraries/ENCLB350NUB/: [u'/documents/a6e06058-5019-488f-9195-8bcd2e9229c1/']\n",
      "13634 /libraries/ENCLB211OUD/\n",
      "Need to update /libraries/ENCLB211OUD/: [u'/documents/a6e06058-5019-488f-9195-8bcd2e9229c1/']\n",
      "13635 /libraries/ENCLB222MSP/\n",
      "Need to update /libraries/ENCLB222MSP/: [u'/documents/a6e06058-5019-488f-9195-8bcd2e9229c1/']\n",
      "13632 /libraries/ENCLB747ZHK/\n",
      "Need to update /libraries/ENCLB747ZHK/: [u'/documents/a6e06058-5019-488f-9195-8bcd2e9229c1/']\n",
      "13633 /libraries/ENCLB710XHU/\n",
      "Need to update /libraries/ENCLB710XHU/: [u'/documents/a6e06058-5019-488f-9195-8bcd2e9229c1/']\n",
      "13630 /libraries/ENCLB804XKW/\n",
      "Need to update /libraries/ENCLB804XKW/: [u'/documents/a6e06058-5019-488f-9195-8bcd2e9229c1/']\n",
      "13631 /libraries/ENCLB087SVF/\n",
      "Need to update /libraries/ENCLB087SVF/: [u'/documents/a6e06058-5019-488f-9195-8bcd2e9229c1/']\n",
      "13638 /libraries/ENCLB257OVB/\n",
      "Need to update /libraries/ENCLB257OVB/: [u'/documents/a6e06058-5019-488f-9195-8bcd2e9229c1/']\n",
      "13639 /libraries/ENCLB218HBM/\n",
      "Need to update /libraries/ENCLB218HBM/: [u'/documents/a6e06058-5019-488f-9195-8bcd2e9229c1/']\n",
      "13025 /libraries/ENCLB976CMA/\n",
      "Need to update /libraries/ENCLB976CMA/: [u'/documents/a6e06058-5019-488f-9195-8bcd2e9229c1/']\n",
      "13024 /libraries/ENCLB386HBI/\n",
      "Need to update /libraries/ENCLB386HBI/: [u'/documents/a6e06058-5019-488f-9195-8bcd2e9229c1/']\n",
      "13647 /libraries/ENCLB546SWD/\n",
      "Need to update /libraries/ENCLB546SWD/: [u'/documents/a6e06058-5019-488f-9195-8bcd2e9229c1/']\n",
      "13646 /libraries/ENCLB432EQY/\n",
      "Need to update /libraries/ENCLB432EQY/: [u'/documents/a6e06058-5019-488f-9195-8bcd2e9229c1/']\n",
      "13645 /libraries/ENCLB678KFT/\n",
      "Need to update /libraries/ENCLB678KFT/: [u'/documents/a6e06058-5019-488f-9195-8bcd2e9229c1/']\n",
      "13644 /libraries/ENCLB632SOL/\n",
      "Need to update /libraries/ENCLB632SOL/: [u'/documents/a6e06058-5019-488f-9195-8bcd2e9229c1/']\n",
      "13643 /libraries/ENCLB509KSM/\n",
      "Need to update /libraries/ENCLB509KSM/: [u'/documents/a6e06058-5019-488f-9195-8bcd2e9229c1/']\n",
      "13642 /libraries/ENCLB552DLJ/\n",
      "Need to update /libraries/ENCLB552DLJ/: [u'/documents/a6e06058-5019-488f-9195-8bcd2e9229c1/']\n",
      "13641 /libraries/ENCLB876ZIU/\n",
      "Need to update /libraries/ENCLB876ZIU/: [u'/documents/a6e06058-5019-488f-9195-8bcd2e9229c1/']\n",
      "13640 /libraries/ENCLB617JJG/\n",
      "Need to update /libraries/ENCLB617JJG/: [u'/documents/a6e06058-5019-488f-9195-8bcd2e9229c1/']\n",
      "13649 /libraries/ENCLB340FFP/\n",
      "Need to update /libraries/ENCLB340FFP/: [u'/documents/a6e06058-5019-488f-9195-8bcd2e9229c1/']\n",
      "13648 /libraries/ENCLB151CUN/\n",
      "Need to update /libraries/ENCLB151CUN/: [u'/documents/a6e06058-5019-488f-9195-8bcd2e9229c1/']\n",
      "13655 /libraries/ENCLB611KGC/\n",
      "Need to update /libraries/ENCLB611KGC/: [u'/documents/a6e06058-5019-488f-9195-8bcd2e9229c1/']\n",
      "13665 /libraries/ENCLB915IHV/\n",
      "Need to update /libraries/ENCLB915IHV/: [u'/documents/a6e06058-5019-488f-9195-8bcd2e9229c1/']\n",
      "13664 /libraries/ENCLB912XSU/\n",
      "Need to update /libraries/ENCLB912XSU/: [u'/documents/a6e06058-5019-488f-9195-8bcd2e9229c1/']\n",
      "13650 /libraries/ENCLB205HHN/\n",
      "Need to update /libraries/ENCLB205HHN/: [u'/documents/a6e06058-5019-488f-9195-8bcd2e9229c1/']\n",
      "13651 /libraries/ENCLB452IVF/\n",
      "Need to update /libraries/ENCLB452IVF/: [u'/documents/a6e06058-5019-488f-9195-8bcd2e9229c1/']\n",
      "13652 /libraries/ENCLB294BYK/\n",
      "Need to update /libraries/ENCLB294BYK/: [u'/documents/a6e06058-5019-488f-9195-8bcd2e9229c1/']\n",
      "13653 /libraries/ENCLB078UJF/\n",
      "Need to update /libraries/ENCLB078UJF/: [u'/documents/a6e06058-5019-488f-9195-8bcd2e9229c1/']\n",
      "13654 /libraries/ENCLB614VPZ/\n",
      "Need to update /libraries/ENCLB614VPZ/: [u'/documents/a6e06058-5019-488f-9195-8bcd2e9229c1/']\n",
      "13347 /libraries/ENCLB928LID/\n",
      "Need to update /libraries/ENCLB928LID/: [u'/documents/a6e06058-5019-488f-9195-8bcd2e9229c1/']\n",
      "13656 /libraries/ENCLB462FVS/\n",
      "Need to update /libraries/ENCLB462FVS/: [u'/documents/a6e06058-5019-488f-9195-8bcd2e9229c1/']\n",
      "13657 /libraries/ENCLB562SNL/\n",
      "Need to update /libraries/ENCLB562SNL/: [u'/documents/a6e06058-5019-488f-9195-8bcd2e9229c1/']\n",
      "13658 /libraries/ENCLB147KNI/\n",
      "Need to update /libraries/ENCLB147KNI/: [u'/documents/a6e06058-5019-488f-9195-8bcd2e9229c1/']\n",
      "13659 /libraries/ENCLB904FTO/\n",
      "Need to update /libraries/ENCLB904FTO/: [u'/documents/a6e06058-5019-488f-9195-8bcd2e9229c1/']\n",
      "13349 /libraries/ENCLB532KHK/\n",
      "Need to update /libraries/ENCLB532KHK/: [u'/documents/a6e06058-5019-488f-9195-8bcd2e9229c1/']\n",
      "13718 /libraries/ENCLB064ZZZ/\n",
      " Unknown documents: set([u'/documents/28fef8e0-e171-450d-b66d-e3d199531cf2/', u'/documents/7ae25f97-ab0a-448b-b345-cfffd6368c90/']) not subset of set([u'/documents/a6e06058-5019-488f-9195-8bcd2e9229c1/', u'/documents/f0cc5a7f-96a5-4970-9f46-317cc8e2d6a4/', u'/documents/428a184d-7fa1-4599-9d8d-749c2eba7edd/', u'/documents/e84de88e-4c31-4b2a-b6ac-96feb764b2d0/'])\n",
      "Need to update /libraries/ENCLB064ZZZ/: [u'/documents/28fef8e0-e171-450d-b66d-e3d199531cf2/', u'/documents/f0cc5a7f-96a5-4970-9f46-317cc8e2d6a4/', u'/documents/428a184d-7fa1-4599-9d8d-749c2eba7edd/', u'/documents/7ae25f97-ab0a-448b-b345-cfffd6368c90/']\n",
      "13619 /libraries/ENCLB901PGF/\n",
      "Need to update /libraries/ENCLB901PGF/: [u'/documents/a6e06058-5019-488f-9195-8bcd2e9229c1/']\n",
      "13711 /libraries/ENCLB043ZZZ/\n",
      " Unknown documents: set([u'/documents/28fef8e0-e171-450d-b66d-e3d199531cf2/', u'/documents/7ae25f97-ab0a-448b-b345-cfffd6368c90/']) not subset of set([u'/documents/a6e06058-5019-488f-9195-8bcd2e9229c1/', u'/documents/f0cc5a7f-96a5-4970-9f46-317cc8e2d6a4/', u'/documents/428a184d-7fa1-4599-9d8d-749c2eba7edd/', u'/documents/e84de88e-4c31-4b2a-b6ac-96feb764b2d0/'])\n",
      "Need to update /libraries/ENCLB043ZZZ/: [u'/documents/28fef8e0-e171-450d-b66d-e3d199531cf2/', u'/documents/f0cc5a7f-96a5-4970-9f46-317cc8e2d6a4/', u'/documents/428a184d-7fa1-4599-9d8d-749c2eba7edd/', u'/documents/7ae25f97-ab0a-448b-b345-cfffd6368c90/']\n",
      "13713 /libraries/ENCLB045ZZZ/\n",
      " Unknown documents: set([u'/documents/28fef8e0-e171-450d-b66d-e3d199531cf2/', u'/documents/7ae25f97-ab0a-448b-b345-cfffd6368c90/']) not subset of set([u'/documents/a6e06058-5019-488f-9195-8bcd2e9229c1/', u'/documents/f0cc5a7f-96a5-4970-9f46-317cc8e2d6a4/', u'/documents/428a184d-7fa1-4599-9d8d-749c2eba7edd/', u'/documents/e84de88e-4c31-4b2a-b6ac-96feb764b2d0/'])\n",
      "Need to update /libraries/ENCLB045ZZZ/: [u'/documents/28fef8e0-e171-450d-b66d-e3d199531cf2/', u'/documents/f0cc5a7f-96a5-4970-9f46-317cc8e2d6a4/', u'/documents/7ae25f97-ab0a-448b-b345-cfffd6368c90/', u'/documents/428a184d-7fa1-4599-9d8d-749c2eba7edd/', u'/documents/e84de88e-4c31-4b2a-b6ac-96feb764b2d0/']\n",
      "13712 /libraries/ENCLB044ZZZ/\n",
      " Unknown documents: set([u'/documents/28fef8e0-e171-450d-b66d-e3d199531cf2/', u'/documents/7ae25f97-ab0a-448b-b345-cfffd6368c90/']) not subset of set([u'/documents/a6e06058-5019-488f-9195-8bcd2e9229c1/', u'/documents/f0cc5a7f-96a5-4970-9f46-317cc8e2d6a4/', u'/documents/428a184d-7fa1-4599-9d8d-749c2eba7edd/', u'/documents/e84de88e-4c31-4b2a-b6ac-96feb764b2d0/'])\n",
      "Need to update /libraries/ENCLB044ZZZ/: [u'/documents/28fef8e0-e171-450d-b66d-e3d199531cf2/', u'/documents/f0cc5a7f-96a5-4970-9f46-317cc8e2d6a4/', u'/documents/428a184d-7fa1-4599-9d8d-749c2eba7edd/', u'/documents/7ae25f97-ab0a-448b-b345-cfffd6368c90/']\n",
      "13715 /libraries/ENCLB061ZZZ/\n",
      " Unknown documents: set([u'/documents/28fef8e0-e171-450d-b66d-e3d199531cf2/', u'/documents/7ae25f97-ab0a-448b-b345-cfffd6368c90/']) not subset of set([u'/documents/a6e06058-5019-488f-9195-8bcd2e9229c1/', u'/documents/f0cc5a7f-96a5-4970-9f46-317cc8e2d6a4/', u'/documents/428a184d-7fa1-4599-9d8d-749c2eba7edd/', u'/documents/e84de88e-4c31-4b2a-b6ac-96feb764b2d0/'])\n",
      "Need to update /libraries/ENCLB061ZZZ/: [u'/documents/28fef8e0-e171-450d-b66d-e3d199531cf2/', u'/documents/f0cc5a7f-96a5-4970-9f46-317cc8e2d6a4/', u'/documents/7ae25f97-ab0a-448b-b345-cfffd6368c90/', u'/documents/428a184d-7fa1-4599-9d8d-749c2eba7edd/', u'/documents/e84de88e-4c31-4b2a-b6ac-96feb764b2d0/']\n",
      "13714 /libraries/ENCLB046ZZZ/\n",
      " Unknown documents: set([u'/documents/28fef8e0-e171-450d-b66d-e3d199531cf2/', u'/documents/7ae25f97-ab0a-448b-b345-cfffd6368c90/']) not subset of set([u'/documents/a6e06058-5019-488f-9195-8bcd2e9229c1/', u'/documents/f0cc5a7f-96a5-4970-9f46-317cc8e2d6a4/', u'/documents/428a184d-7fa1-4599-9d8d-749c2eba7edd/', u'/documents/e84de88e-4c31-4b2a-b6ac-96feb764b2d0/'])\n",
      "Need to update /libraries/ENCLB046ZZZ/: [u'/documents/28fef8e0-e171-450d-b66d-e3d199531cf2/', u'/documents/f0cc5a7f-96a5-4970-9f46-317cc8e2d6a4/', u'/documents/7ae25f97-ab0a-448b-b345-cfffd6368c90/', u'/documents/428a184d-7fa1-4599-9d8d-749c2eba7edd/', u'/documents/e84de88e-4c31-4b2a-b6ac-96feb764b2d0/']\n",
      "13717 /libraries/ENCLB063ZZZ/\n",
      " Unknown documents: set([u'/documents/28fef8e0-e171-450d-b66d-e3d199531cf2/', u'/documents/7ae25f97-ab0a-448b-b345-cfffd6368c90/']) not subset of set([u'/documents/a6e06058-5019-488f-9195-8bcd2e9229c1/', u'/documents/f0cc5a7f-96a5-4970-9f46-317cc8e2d6a4/', u'/documents/428a184d-7fa1-4599-9d8d-749c2eba7edd/', u'/documents/e84de88e-4c31-4b2a-b6ac-96feb764b2d0/'])\n",
      "Need to update /libraries/ENCLB063ZZZ/: [u'/documents/28fef8e0-e171-450d-b66d-e3d199531cf2/', u'/documents/f0cc5a7f-96a5-4970-9f46-317cc8e2d6a4/', u'/documents/428a184d-7fa1-4599-9d8d-749c2eba7edd/', u'/documents/7ae25f97-ab0a-448b-b345-cfffd6368c90/']\n",
      "13716 /libraries/ENCLB062ZZZ/\n",
      " Unknown documents: set([u'/documents/28fef8e0-e171-450d-b66d-e3d199531cf2/', u'/documents/7ae25f97-ab0a-448b-b345-cfffd6368c90/']) not subset of set([u'/documents/a6e06058-5019-488f-9195-8bcd2e9229c1/', u'/documents/f0cc5a7f-96a5-4970-9f46-317cc8e2d6a4/', u'/documents/428a184d-7fa1-4599-9d8d-749c2eba7edd/', u'/documents/e84de88e-4c31-4b2a-b6ac-96feb764b2d0/'])\n",
      "Need to update /libraries/ENCLB062ZZZ/: [u'/documents/28fef8e0-e171-450d-b66d-e3d199531cf2/', u'/documents/f0cc5a7f-96a5-4970-9f46-317cc8e2d6a4/', u'/documents/7ae25f97-ab0a-448b-b345-cfffd6368c90/', u'/documents/428a184d-7fa1-4599-9d8d-749c2eba7edd/', u'/documents/e84de88e-4c31-4b2a-b6ac-96feb764b2d0/']\n",
      "13263 /libraries/ENCLB621DLJ/\n",
      "Need to update /libraries/ENCLB621DLJ/: [u'/documents/a6e06058-5019-488f-9195-8bcd2e9229c1/']\n",
      "13262 /libraries/ENCLB164LQL/\n",
      "Need to update /libraries/ENCLB164LQL/: [u'/documents/a6e06058-5019-488f-9195-8bcd2e9229c1/']\n",
      "13625 /libraries/ENCLB331AUZ/\n",
      "Need to update /libraries/ENCLB331AUZ/: [u'/documents/a6e06058-5019-488f-9195-8bcd2e9229c1/']\n",
      "13627 /libraries/ENCLB228BIT/\n",
      "Need to update /libraries/ENCLB228BIT/: [u'/documents/a6e06058-5019-488f-9195-8bcd2e9229c1/']\n",
      "13626 /libraries/ENCLB327MTR/\n",
      "Need to update /libraries/ENCLB327MTR/: [u'/documents/a6e06058-5019-488f-9195-8bcd2e9229c1/']\n",
      "13620 /libraries/ENCLB392ZIG/\n",
      "Need to update /libraries/ENCLB392ZIG/: [u'/documents/a6e06058-5019-488f-9195-8bcd2e9229c1/']\n",
      "13623 /libraries/ENCLB036TZY/\n",
      "Need to update /libraries/ENCLB036TZY/: [u'/documents/a6e06058-5019-488f-9195-8bcd2e9229c1/']\n",
      "13622 /libraries/ENCLB426EUN/\n",
      "Need to update /libraries/ENCLB426EUN/: [u'/documents/a6e06058-5019-488f-9195-8bcd2e9229c1/']\n",
      "13661 /libraries/ENCLB720FXC/\n",
      "Need to update /libraries/ENCLB720FXC/: [u'/documents/a6e06058-5019-488f-9195-8bcd2e9229c1/']\n",
      "13660 /libraries/ENCLB857XKO/\n",
      "Need to update /libraries/ENCLB857XKO/: [u'/documents/a6e06058-5019-488f-9195-8bcd2e9229c1/']\n",
      "13663 /libraries/ENCLB229ENW/\n",
      "Need to update /libraries/ENCLB229ENW/: [u'/documents/a6e06058-5019-488f-9195-8bcd2e9229c1/']\n",
      "13662 /libraries/ENCLB632CVX/\n",
      "Need to update /libraries/ENCLB632CVX/: [u'/documents/a6e06058-5019-488f-9195-8bcd2e9229c1/']\n",
      "13629 /libraries/ENCLB403JBC/\n",
      "Need to update /libraries/ENCLB403JBC/: [u'/documents/a6e06058-5019-488f-9195-8bcd2e9229c1/']\n",
      "13628 /libraries/ENCLB641KNK/\n",
      "Need to update /libraries/ENCLB641KNK/: [u'/documents/a6e06058-5019-488f-9195-8bcd2e9229c1/']\n",
      "13666 /libraries/ENCLB204VYG/\n",
      "Need to update /libraries/ENCLB204VYG/: [u'/documents/a6e06058-5019-488f-9195-8bcd2e9229c1/']\n",
      "13274 /libraries/ENCLB036MBQ/\n",
      "Need to update /libraries/ENCLB036MBQ/: [u'/documents/f0cc5a7f-96a5-4970-9f46-317cc8e2d6a4/', u'/documents/428a184d-7fa1-4599-9d8d-749c2eba7edd/']\n",
      "13275 /libraries/ENCLB284CYK/\n",
      "Need to update /libraries/ENCLB284CYK/: [u'/documents/f0cc5a7f-96a5-4970-9f46-317cc8e2d6a4/', u'/documents/428a184d-7fa1-4599-9d8d-749c2eba7edd/']"
     ]
    },
    {
     "cell_type": "heading",
     "level": 1,
     "metadata": {},
     "source": [
      "Evaluation metadata updates"
     ]
    },
    {
     "cell_type": "code",
     "collapsed": false,
     "input": [
      "# extracted from Encode3 Pipeline Comparison.ipynb\n",
      "# http://jumpgate.caltech.edu/library/13711/\t13711\tENCLB043ZZZ\n",
      "# http://jumpgate.caltech.edu/library/13712/\t13712\tENCLB044ZZZ\n",
      "# http://jumpgate.caltech.edu/library/13713/\t13713\tENCLB045ZZZ\n",
      "# http://jumpgate.caltech.edu/library/13714/\t13714\tENCLB046ZZZ\n",
      "# http://jumpgate.caltech.edu/library/13715/\t13715\tENCLB061ZZZ\n",
      "# http://jumpgate.caltech.edu/library/13716/\t13716\tENCLB062ZZZ\n",
      "# http://jumpgate.caltech.edu/library/13717/\t13717\tENCLB063ZZZ\n",
      "# http://jumpgate.caltech.edu/library/13718/\t13718\tENCLB064ZZZ\n",
      "eval_lib_alias_map = {\n",
      "    'ENCLB043ZZZ': 'barbara-wold:13711',\n",
      "    'ENCLB044ZZZ': 'barbara-wold:13712',\n",
      "    'ENCLB045ZZZ': 'barbara-wold:13713',\n",
      "    'ENCLB046ZZZ': 'barbara-wold:13714',\n",
      "    'ENCLB061ZZZ': 'barbara-wold:13715',\n",
      "    'ENCLB062ZZZ': 'barbara-wold:13716',\n",
      "    'ENCLB063ZZZ': 'barbara-wold:13717',\n",
      "    'ENCLB064ZZZ': 'barbara-wold:13718',\n",
      "}"
     ],
     "language": "python",
     "metadata": {},
     "outputs": [],
     "prompt_number": 25
    },
    {
     "cell_type": "code",
     "collapsed": false,
     "input": [
      "for lib_id in eval_lib_alias_map:\n",
      "    obj = server.get_json(lib_id)\n",
      "    if eval_lib_alias_map[lib_id] not in obj['aliases']:\n",
      "        print('{} needs update to include {}'.format(lib_id, eval_lib_alias_map[lib_id]))\n",
      "        new_aliases = obj['aliases'][:]\n",
      "        new_aliases.append(eval_lib_alias_map[lib_id])\n",
      "        server.patch_json(obj['@id'], {'aliases': new_aliases})\n",
      "    else:\n",
      "        print('{} includes {}'.format(lib_id, eval_lib_alias_map[lib_id]))\n"
     ],
     "language": "python",
     "metadata": {},
     "outputs": [
      {
       "output_type": "stream",
       "stream": "stdout",
       "text": [
        "ENCLB063ZZZ includes barbara-wold:13717\n",
        "ENCLB061ZZZ includes barbara-wold:13715"
       ]
      },
      {
       "output_type": "stream",
       "stream": "stdout",
       "text": [
        "\n",
        "ENCLB062ZZZ includes barbara-wold:13716"
       ]
      },
      {
       "output_type": "stream",
       "stream": "stdout",
       "text": [
        "\n",
        "ENCLB045ZZZ includes barbara-wold:13713"
       ]
      },
      {
       "output_type": "stream",
       "stream": "stdout",
       "text": [
        "\n",
        "ENCLB064ZZZ includes barbara-wold:13718"
       ]
      },
      {
       "output_type": "stream",
       "stream": "stdout",
       "text": [
        "\n",
        "ENCLB044ZZZ includes barbara-wold:13712"
       ]
      },
      {
       "output_type": "stream",
       "stream": "stdout",
       "text": [
        "\n",
        "ENCLB046ZZZ includes barbara-wold:13714"
       ]
      },
      {
       "output_type": "stream",
       "stream": "stdout",
       "text": [
        "\n",
        "ENCLB043ZZZ includes barbara-wold:13711"
       ]
      },
      {
       "output_type": "stream",
       "stream": "stdout",
       "text": [
        "\n"
       ]
      }
     ],
     "prompt_number": 26
    },
    {
     "cell_type": "code",
     "collapsed": false,
     "input": [
      "eval_model = get_model()\n",
      "evaluation_experiments = ['ENCSR000AEQ', 'ENCSR000AEP', 'ENCSR000AEH', 'ENCSR000AEG']\n",
      "for exp in evaluation_experiments:\n",
      "    obj = server.get_jsonld(exp)\n",
      "    load_jsonld_into_model(eval_model, obj)"
     ],
     "language": "python",
     "metadata": {},
     "outputs": [],
     "prompt_number": 27
    },
    {
     "cell_type": "code",
     "collapsed": false,
     "input": [
      "%%sparql -m eval_model -o eval_libraries\n",
      "select ?library ?aliases ?description\n",
      "where {\n",
      "  ?exp a experiment:experiment ;\n",
      "       experiment:replicates ?replicate ;\n",
      "       rdf:description ?description .\n",
      "  ?replicate replicate:library ?library .\n",
      "  OPTIONAL { ?library library:aliases ?aliases }\n",
      "}\n",
      "order by ?library"
     ],
     "language": "python",
     "metadata": {},
     "outputs": [],
     "prompt_number": 55
    },
    {
     "cell_type": "code",
     "collapsed": false,
     "input": [
      "eval_libraries"
     ],
     "language": "python",
     "metadata": {},
     "outputs": [
      {
       "html": [
        "<table><tr><td>library</td><td>aliases</td><td>description</td></tr><tr><td><a href=\"https://www.encodedcc.org/libraries/ENCLB043ZZZ/\">https://www.encodedcc.org/libraries/ENCLB043ZZZ/</a></td><td>barbara-wold:13711</td><td>RNA Evaluation Gm12878 Long Total RNA-seq from Wold</td></tr><tr><td><a href=\"https://www.encodedcc.org/libraries/ENCLB044ZZZ/\">https://www.encodedcc.org/libraries/ENCLB044ZZZ/</a></td><td>barbara-wold:13712</td><td>RNA Evaluation Gm12878 Long Total RNA-seq from Wold</td></tr><tr><td><a href=\"https://www.encodedcc.org/libraries/ENCLB045ZZZ/\">https://www.encodedcc.org/libraries/ENCLB045ZZZ/</a></td><td>barbara-wold:13713</td><td>RNA Evaluation Gm12878 Long Poly-A+ RNA-seq from Wold</td></tr><tr><td><a href=\"https://www.encodedcc.org/libraries/ENCLB046ZZZ/\">https://www.encodedcc.org/libraries/ENCLB046ZZZ/</a></td><td>barbara-wold:13714</td><td>RNA Evaluation Gm12878 Long Poly-A+ RNA-seq from Wold</td></tr><tr><td><a href=\"https://www.encodedcc.org/libraries/ENCLB061ZZZ/\">https://www.encodedcc.org/libraries/ENCLB061ZZZ/</a></td><td>barbara-wold:13715</td><td>RNA Evaluation K562 Long Total RNA-seq from Wold</td></tr><tr><td><a href=\"https://www.encodedcc.org/libraries/ENCLB062ZZZ/\">https://www.encodedcc.org/libraries/ENCLB062ZZZ/</a></td><td>barbara-wold:13716</td><td>RNA Evaluation K562 Long Total RNA-seq from Wold</td></tr><tr><td><a href=\"https://www.encodedcc.org/libraries/ENCLB063ZZZ/\">https://www.encodedcc.org/libraries/ENCLB063ZZZ/</a></td><td>barbara-wold:13717</td><td>RNA Evaluation K562 Long Poly-A+ RNA-seq from Wold</td></tr><tr><td><a href=\"https://www.encodedcc.org/libraries/ENCLB064ZZZ/\">https://www.encodedcc.org/libraries/ENCLB064ZZZ/</a></td><td>barbara-wold:13718</td><td>RNA Evaluation K562 Long Poly-A+ RNA-seq from Wold</td></tr></table>"
       ],
       "metadata": {},
       "output_type": "pyout",
       "prompt_number": 56,
       "text": [
        "<rdfmagic.LibRdfResults at 0x7f245bad0b10>"
       ]
      }
     ],
     "prompt_number": 56
    },
    {
     "cell_type": "markdown",
     "metadata": {},
     "source": [
      "* read_length (replicate)\n",
      "* paired_end (replicate and library, I think they are different TRUE for library but FALSE for replicate)\n",
      "* library alias"
     ]
    },
    {
     "cell_type": "code",
     "collapsed": false,
     "input": [
      "for row in eval_libraries:\n",
      "    lib_id = str(row['aliases']).replace('barbara-wold:','')\n",
      "    lib_href = 'http://jumpgate.caltech.edu/library/{}'.format(lib_id)\n",
      "    print(lib_href)\n",
      "    load_into_model(eval_model, None, lib_href)"
     ],
     "language": "python",
     "metadata": {},
     "outputs": [
      {
       "output_type": "stream",
       "stream": "stdout",
       "text": [
        "http://jumpgate.caltech.edu/library/13711\n",
        "http://jumpgate.caltech.edu/library/13712"
       ]
      },
      {
       "output_type": "stream",
       "stream": "stdout",
       "text": [
        "\n",
        "http://jumpgate.caltech.edu/library/13713"
       ]
      },
      {
       "output_type": "stream",
       "stream": "stdout",
       "text": [
        "\n",
        "http://jumpgate.caltech.edu/library/13714"
       ]
      },
      {
       "output_type": "stream",
       "stream": "stdout",
       "text": [
        "\n",
        "http://jumpgate.caltech.edu/library/13715"
       ]
      },
      {
       "output_type": "stream",
       "stream": "stdout",
       "text": [
        "\n",
        "http://jumpgate.caltech.edu/library/13716"
       ]
      },
      {
       "output_type": "stream",
       "stream": "stdout",
       "text": [
        "\n",
        "http://jumpgate.caltech.edu/library/13717"
       ]
      },
      {
       "output_type": "stream",
       "stream": "stdout",
       "text": [
        "\n",
        "http://jumpgate.caltech.edu/library/13718"
       ]
      },
      {
       "output_type": "stream",
       "stream": "stdout",
       "text": [
        "\n"
       ]
      }
     ],
     "prompt_number": 35
    },
    {
     "cell_type": "code",
     "collapsed": false,
     "input": [
      "%%sparql -m eval_model -o flowcells\n",
      "select ?lib_id ?flowcell\n",
      "where {\n",
      "   ?lib a htsw:Library ;\n",
      "        htsw:library_id ?lib_id ;\n",
      "        htsw:has_lane ?lane .\n",
      "   ?lane htsw:flowcell ?flowcell .\n",
      "}"
     ],
     "language": "python",
     "metadata": {},
     "outputs": [],
     "prompt_number": 38
    },
    {
     "cell_type": "code",
     "collapsed": false,
     "input": [
      "seen = set()\n",
      "for row in flowcells:\n",
      "    fc = str(row['flowcell'])\n",
      "    if fc not in seen:\n",
      "        load_into_model(eval_model, None, fc)\n",
      "        print('Loading {}'.format(fc))\n",
      "        seen.add(fc)\n",
      "  "
     ],
     "language": "python",
     "metadata": {},
     "outputs": [
      {
       "output_type": "stream",
       "stream": "stdout",
       "text": [
        "Loading http://jumpgate.caltech.edu/flowcell/C24LTACXX/\n"
       ]
      }
     ],
     "prompt_number": 42
    },
    {
     "cell_type": "code",
     "collapsed": false,
     "input": [
      "%%sparql -m eval_model -o evaluation_details\n",
      "select ?lib_id ?flowcell_id ?lane_id ?barcode ?lib_type  ?read_length ?flowcell_type ?instrument\n",
      "where {\n",
      "   ?lib a htsw:Library ;\n",
      "        htsw:library_id ?lib_id ;\n",
      "        htsw:library_type ?lib_type ;\n",
      "        htsw:multiplex_index ?barcode ;\n",
      "        htsw:has_lane ?lane .\n",
      "   ?lane htsw:flowcell ?flowcell ;\n",
      "         htsw:lane_number ?lane_id .\n",
      "   ?flowcell htsw:read_length ?read_length ; \n",
      "             htsw:flowcell_type ?flowcell_type ;\n",
      "             htsw:flowcell_id ?flowcell_id ;\n",
      "             htsw:sequenced_by ?sequencer .\n",
      "   ?sequencer htsw:sequencer_instrument ?instrument .\n",
      "\n",
      "}"
     ],
     "language": "python",
     "metadata": {},
     "outputs": [],
     "prompt_number": 97
    },
    {
     "cell_type": "code",
     "collapsed": false,
     "input": [
      "evaluation_details"
     ],
     "language": "python",
     "metadata": {},
     "outputs": [
      {
       "html": [
        "<table><tr><td>lib_id</td><td>flowcell_id</td><td>lane_id</td><td>barcode</td><td>lib_type</td><td>read_length</td><td>flowcell_type</td><td>instrument</td></tr><tr><td>13711</td><td>C24LTACXX</td><td>1</td><td>N701-N501:TAAGGCGA-TAGATCGC</td><td>Dual Index Illumina</td><td>100</td><td>Single</td><td>HWI-ST0787</td></tr><tr><td>13712</td><td>C24LTACXX</td><td>1</td><td>N702-N502:CGTACTAG-CTCTCTAT</td><td>Dual Index Illumina</td><td>100</td><td>Single</td><td>HWI-ST0787</td></tr><tr><td>13713</td><td>C24LTACXX</td><td>1</td><td>N703-N503:AGGCAGAA-TATCCTCT</td><td>Dual Index Illumina</td><td>100</td><td>Single</td><td>HWI-ST0787</td></tr><tr><td>13714</td><td>C24LTACXX</td><td>1</td><td>N704-N504:TCCTGAGC-AGAGTAGA</td><td>Dual Index Illumina</td><td>100</td><td>Single</td><td>HWI-ST0787</td></tr><tr><td>13715</td><td>C24LTACXX</td><td>2</td><td>N705-N505:GGACTCCT-GTAAGGAG</td><td>Dual Index Illumina</td><td>100</td><td>Single</td><td>HWI-ST0787</td></tr><tr><td>13716</td><td>C24LTACXX</td><td>2</td><td>N706-N506:TAGGCATG-ACTGCATA</td><td>Dual Index Illumina</td><td>100</td><td>Single</td><td>HWI-ST0787</td></tr><tr><td>13717</td><td>C24LTACXX</td><td>2</td><td>N707-N507:CTCTCTAC-AAGGAGTA</td><td>Dual Index Illumina</td><td>100</td><td>Single</td><td>HWI-ST0787</td></tr><tr><td>13718</td><td>C24LTACXX</td><td>2</td><td>N708-N508:CAGAGAGG-CTAAGCCT</td><td>Dual Index Illumina</td><td>100</td><td>Single</td><td>HWI-ST0787</td></tr></table>"
       ],
       "metadata": {},
       "output_type": "pyout",
       "prompt_number": 98,
       "text": [
        "<rdfmagic.LibRdfResults at 0x7f245b393610>"
       ]
      }
     ],
     "prompt_number": 98
    },
    {
     "cell_type": "code",
     "collapsed": false,
     "input": [
      "for row in evaluation_details:\n",
      "    alias = 'barbara-wold:{}'.format(str(row['lib_id']))\n",
      "    paired = 'dual' in str(row['lib_type']).lower()\n",
      "    obj = server.get_json(alias)\n",
      "    if 'paired_ended' not in obj or obj['paired_ended'] != paired:\n",
      "        print('Update {}. {} to {}'.format(obj['@id'], obj.get('paired_ended', None), paired))\n",
      "        server.patch_json(obj['@id'], {'paired_ended': paired})\n"
     ],
     "language": "python",
     "metadata": {},
     "outputs": [
      {
       "output_type": "stream",
       "stream": "stdout",
       "text": [
        "Update /libraries/ENCLB043ZZZ/. False to True\n",
        "Update /libraries/ENCLB044ZZZ/. False to True"
       ]
      },
      {
       "output_type": "stream",
       "stream": "stdout",
       "text": [
        "\n",
        "Update /libraries/ENCLB045ZZZ/. False to True"
       ]
      },
      {
       "output_type": "stream",
       "stream": "stdout",
       "text": [
        "\n",
        "Update /libraries/ENCLB046ZZZ/. False to True"
       ]
      },
      {
       "output_type": "stream",
       "stream": "stdout",
       "text": [
        "\n",
        "Update /libraries/ENCLB061ZZZ/. False to True"
       ]
      },
      {
       "output_type": "stream",
       "stream": "stdout",
       "text": [
        "\n",
        "Update /libraries/ENCLB062ZZZ/. False to True"
       ]
      },
      {
       "output_type": "stream",
       "stream": "stdout",
       "text": [
        "\n",
        "Update /libraries/ENCLB063ZZZ/. False to True"
       ]
      },
      {
       "output_type": "stream",
       "stream": "stdout",
       "text": [
        "\n",
        "Update /libraries/ENCLB064ZZZ/. False to True"
       ]
      },
      {
       "output_type": "stream",
       "stream": "stdout",
       "text": [
        "\n"
       ]
      }
     ],
     "prompt_number": 54
    },
    {
     "cell_type": "code",
     "collapsed": false,
     "input": [
      "eval_alias_lib_map = { v: k for k, v in eval_lib_alias_map.items() }\n",
      "for row in evaluation_details:\n",
      "    alias = 'barbara-wold:{}'.format(str(row['lib_id']))\n",
      "    lib_id = eval_alias_lib_map[alias]\n",
      "    obj = server.get_json(lib_id, embed=False)\n",
      "    break\n",
      "obj"
     ],
     "language": "python",
     "metadata": {},
     "outputs": [
      {
       "metadata": {},
       "output_type": "pyout",
       "prompt_number": 66,
       "text": [
        "{u'@id': u'/libraries/ENCLB043ZZZ/',\n",
        " u'@type': [u'library', u'item'],\n",
        " u'accession': u'ENCLB043ZZZ',\n",
        " u'actions': [],\n",
        " u'aliases': [u'barbara-wold:13711'],\n",
        " u'alternate_accessions': [],\n",
        " u'award': u'/awards/U54HG006998/',\n",
        " u'biosample': {u'@id': u'/biosamples/ENCBS089RNA/',\n",
        "  u'@type': [u'biosample', u'item'],\n",
        "  u'accession': u'ENCBS089RNA',\n",
        "  u'age': u'53',\n",
        "  u'age_units': u'year',\n",
        "  u'aliases': [u'brenton-graveley:GM12878-1', u'thomas-gingeras:190WC'],\n",
        "  u'alternate_accessions': [],\n",
        "  u'award': u'/awards/U54HG006998/',\n",
        "  u'biosample_term_id': u'EFO:0002784',\n",
        "  u'biosample_term_name': u'GM12878',\n",
        "  u'biosample_type': u'immortalized cell line',\n",
        "  u'characterizations': [],\n",
        "  u'constructs': [],\n",
        "  u'date_created': u'2013-10-29T21:15:37.775930+00:00',\n",
        "  u'dbxrefs': [],\n",
        "  u'description': u'B-lymphocyte, lymphoblastoid, International HapMap Project - CEPH/Utah - European Caucasion, Epstein-Barr Virus',\n",
        "  u'developmental_slims': [],\n",
        "  u'donor': u'/human-donors/ENCDO000AAK/',\n",
        "  u'health_status': u'unknown',\n",
        "  u'lab': u'/labs/ali-mortazavi/',\n",
        "  u'life_stage': u'adult',\n",
        "  u'note': u'GM12878 cell line replicate 1 used inENCODE3 RNA-seq evaluation',\n",
        "  u'organ_slims': [],\n",
        "  u'organism': u'/organisms/human/',\n",
        "  u'pooled_from': [],\n",
        "  u'product_id': u'GM12878',\n",
        "  u'protocol_documents': [u'/documents/115993c6-3080-41bb-bb0f-93dec3200d3e/'],\n",
        "  u'references': [],\n",
        "  u'rnais': [],\n",
        "  u'schema_version': u'7',\n",
        "  u'sex': u'female',\n",
        "  u'source': u'/sources/coriell/',\n",
        "  u'status': u'in progress',\n",
        "  u'submitted_by': u'/users/9f161054-aa2c-40b7-8239-04eb7f08b15d/',\n",
        "  u'synonyms': [],\n",
        "  u'system_slims': [],\n",
        "  u'treatments': [],\n",
        "  u'url': u'http://ccr.coriell.org/Sections/Search/Sample_Detail.aspx?Ref=GM12878&PgId=166',\n",
        "  u'uuid': u'35897187-ae6b-4613-91a3-3a29cf90dc71'},\n",
        " u'date_created': u'2013-09-13T13:31:21.704089-08:00',\n",
        " u'depleted_in_term_id': [],\n",
        " u'depleted_in_term_name': [],\n",
        " u'documents': [u'/documents/28fef8e0-e171-450d-b66d-e3d199531cf2/',\n",
        "  u'/documents/7ae25f97-ab0a-448b-b345-cfffd6368c90/'],\n",
        " u'extraction_method': u'Ambion mirVana',\n",
        " u'fragmentation_method': u'Illumina/Nextera tagmentation',\n",
        " u'lab': u'/labs/barbara-wold/',\n",
        " u'library_size_selection_method': u'SPRI beads',\n",
        " u'lysis_method': u'Ambion mirVana',\n",
        " u'nucleic_acid_term_id': u'SO:0000356',\n",
        " u'nucleic_acid_term_name': u'RNA',\n",
        " u'paired_ended': True,\n",
        " u'schema_version': u'3',\n",
        " u'size_range': u'>200',\n",
        " u'status': u'in progress',\n",
        " u'strand_specificity': False,\n",
        " u'submitted_by': u'/users/0e3dde9b-aaf9-42dd-87f7-975a85072ed2/',\n",
        " u'treatments': [],\n",
        " u'uuid': u'4f991f0e-8c8a-4e66-b518-cda1ecb95fc8'}"
       ]
      }
     ],
     "prompt_number": 66
    },
    {
     "cell_type": "code",
     "collapsed": false,
     "input": [
      "%%sparql -m eval_model -o eval_replicate\n",
      "select ?library ?aliases ?replicate ?description\n",
      "where {\n",
      "  ?exp a experiment:experiment ;\n",
      "       experiment:replicates ?replicate ;\n",
      "       rdf:description ?description .\n",
      "  ?replicate replicate:library ?library .\n",
      "  OPTIONAL { ?library library:aliases ?aliases }\n",
      "}\n",
      "order by ?library"
     ],
     "language": "python",
     "metadata": {},
     "outputs": [],
     "prompt_number": 70
    },
    {
     "cell_type": "code",
     "collapsed": false,
     "input": [
      "eval_replicate"
     ],
     "language": "python",
     "metadata": {},
     "outputs": [
      {
       "html": [
        "<table><tr><td>library</td><td>aliases</td><td>replicate</td><td>description</td></tr><tr><td><a href=\"https://www.encodedcc.org/libraries/ENCLB043ZZZ/\">https://www.encodedcc.org/libraries/ENCLB043ZZZ/</a></td><td>barbara-wold:13711</td><td><a href=\"https://www.encodedcc.org/replicates/dab021e1-4e00-4c6f-8580-eb95c7160995/\">https://www.encodedcc.org/replicates/dab021e1-4e00-4c6f-8580-eb95c7160995/</a></td><td>RNA Evaluation Gm12878 Long Total RNA-seq from Wold</td></tr><tr><td><a href=\"https://www.encodedcc.org/libraries/ENCLB044ZZZ/\">https://www.encodedcc.org/libraries/ENCLB044ZZZ/</a></td><td>barbara-wold:13712</td><td><a href=\"https://www.encodedcc.org/replicates/cbeb99d3-4422-4e3d-8b06-fe15b561d2e6/\">https://www.encodedcc.org/replicates/cbeb99d3-4422-4e3d-8b06-fe15b561d2e6/</a></td><td>RNA Evaluation Gm12878 Long Total RNA-seq from Wold</td></tr><tr><td><a href=\"https://www.encodedcc.org/libraries/ENCLB045ZZZ/\">https://www.encodedcc.org/libraries/ENCLB045ZZZ/</a></td><td>barbara-wold:13713</td><td><a href=\"https://www.encodedcc.org/replicates/f4165ee6-4630-436b-9bc0-36019b6c629b/\">https://www.encodedcc.org/replicates/f4165ee6-4630-436b-9bc0-36019b6c629b/</a></td><td>RNA Evaluation Gm12878 Long Poly-A+ RNA-seq from Wold</td></tr><tr><td><a href=\"https://www.encodedcc.org/libraries/ENCLB046ZZZ/\">https://www.encodedcc.org/libraries/ENCLB046ZZZ/</a></td><td>barbara-wold:13714</td><td><a href=\"https://www.encodedcc.org/replicates/ab2717e7-1f2f-46f6-bbb8-66d67ae6614d/\">https://www.encodedcc.org/replicates/ab2717e7-1f2f-46f6-bbb8-66d67ae6614d/</a></td><td>RNA Evaluation Gm12878 Long Poly-A+ RNA-seq from Wold</td></tr><tr><td><a href=\"https://www.encodedcc.org/libraries/ENCLB061ZZZ/\">https://www.encodedcc.org/libraries/ENCLB061ZZZ/</a></td><td>barbara-wold:13715</td><td><a href=\"https://www.encodedcc.org/replicates/6d52759f-399e-43ed-97c5-073f1858f4c4/\">https://www.encodedcc.org/replicates/6d52759f-399e-43ed-97c5-073f1858f4c4/</a></td><td>RNA Evaluation K562 Long Total RNA-seq from Wold</td></tr><tr><td><a href=\"https://www.encodedcc.org/libraries/ENCLB062ZZZ/\">https://www.encodedcc.org/libraries/ENCLB062ZZZ/</a></td><td>barbara-wold:13716</td><td><a href=\"https://www.encodedcc.org/replicates/c490d00e-1c1e-4a48-8990-6d363f2cb616/\">https://www.encodedcc.org/replicates/c490d00e-1c1e-4a48-8990-6d363f2cb616/</a></td><td>RNA Evaluation K562 Long Total RNA-seq from Wold</td></tr><tr><td><a href=\"https://www.encodedcc.org/libraries/ENCLB063ZZZ/\">https://www.encodedcc.org/libraries/ENCLB063ZZZ/</a></td><td>barbara-wold:13717</td><td><a href=\"https://www.encodedcc.org/replicates/6f089ed5-4d6e-4a78-957c-4de111998d1c/\">https://www.encodedcc.org/replicates/6f089ed5-4d6e-4a78-957c-4de111998d1c/</a></td><td>RNA Evaluation K562 Long Poly-A+ RNA-seq from Wold</td></tr><tr><td><a href=\"https://www.encodedcc.org/libraries/ENCLB064ZZZ/\">https://www.encodedcc.org/libraries/ENCLB064ZZZ/</a></td><td>barbara-wold:13718</td><td><a href=\"https://www.encodedcc.org/replicates/dc690efc-dd28-46d9-a3a7-9a1ceeba9cdd/\">https://www.encodedcc.org/replicates/dc690efc-dd28-46d9-a3a7-9a1ceeba9cdd/</a></td><td>RNA Evaluation K562 Long Poly-A+ RNA-seq from Wold</td></tr></table>"
       ],
       "metadata": {},
       "output_type": "pyout",
       "prompt_number": 71,
       "text": [
        "<rdfmagic.LibRdfResults at 0x7f245b28bd50>"
       ]
      }
     ],
     "prompt_number": 71
    },
    {
     "cell_type": "code",
     "collapsed": false,
     "input": [
      "evaluation_details_map = {}\n",
      "for row in evaluation_details:\n",
      "    alias = 'barbara-wold:{}'.format(row['lib_id'])\n",
      "    evaluation_details_map[alias] = row"
     ],
     "language": "python",
     "metadata": {},
     "outputs": [],
     "prompt_number": 100
    },
    {
     "cell_type": "code",
     "collapsed": false,
     "input": [
      "for row in eval_replicate:\n",
      "    replicate = str(row['replicate'])\n",
      "    alias = str(row['aliases'])\n",
      "    obj = server.get_json(replicate)\n",
      "    updates = {}\n",
      "    details = evaluation_details_map[alias]\n",
      "    if 'paired_ended' not in obj:\n",
      "        paired = 'paired' == str(details['flowcell_type']).lower()\n",
      "        updates['paired_ended'] = paired\n",
      "    if 'read_length' not in obj:\n",
      "        read_length = int(str(details['read_length']))\n",
      "        updates['read_length'] = read_length\n",
      "        updates['read_length_units'] = 'nt'\n",
      "    if 'flowcell_details' not in obj or len(obj['flowcell_details']) == 0:\n",
      "        flowcell_details = {\n",
      "            'flowcell': str(details['flowcell_id']),\n",
      "            'lane': str(details['lane_id']),\n",
      "            'barcode': str(details['barcode']).split(':')[1],\n",
      "            'machine': str(details['instrument'])\n",
      "        }\n",
      "        updates['flowcell_details'] = [flowcell_details]\n",
      "    if len(updates) > 0:\n",
      "        print('{} updates: {}'.format(obj['@id'], updates))\n",
      "        server.patch_json(obj['@id'], updates)\n",
      "    else:\n",
      "        print('{} current'.format(obj['@id']))\n",
      "    "
     ],
     "language": "python",
     "metadata": {},
     "outputs": [
      {
       "output_type": "stream",
       "stream": "stdout",
       "text": [
        "/replicates/dab021e1-4e00-4c6f-8580-eb95c7160995/ updates: {u'read_length': 100, u'paired_ended': False, u'flowcell_details': [{u'machine': 'HWI-ST0787', u'lane': '1', u'barcode': u'TAAGGCGA-TAGATCGC', u'flowcell': 'C24LTACXX'}], u'read_length_units': u'nt'}\n",
        "/replicates/cbeb99d3-4422-4e3d-8b06-fe15b561d2e6/ updates: {u'read_length': 100, u'paired_ended': False, u'flowcell_details': [{u'machine': 'HWI-ST0787', u'lane': '1', u'barcode': u'CGTACTAG-CTCTCTAT', u'flowcell': 'C24LTACXX'}], u'read_length_units': u'nt'}"
       ]
      },
      {
       "output_type": "stream",
       "stream": "stdout",
       "text": [
        "\n",
        "/replicates/f4165ee6-4630-436b-9bc0-36019b6c629b/ updates: {u'read_length': 100, u'paired_ended': False, u'flowcell_details': [{u'machine': 'HWI-ST0787', u'lane': '1', u'barcode': u'AGGCAGAA-TATCCTCT', u'flowcell': 'C24LTACXX'}], u'read_length_units': u'nt'}"
       ]
      },
      {
       "output_type": "stream",
       "stream": "stdout",
       "text": [
        "\n",
        "/replicates/ab2717e7-1f2f-46f6-bbb8-66d67ae6614d/ updates: {u'read_length': 100, u'paired_ended': False, u'flowcell_details': [{u'machine': 'HWI-ST0787', u'lane': '1', u'barcode': u'TCCTGAGC-AGAGTAGA', u'flowcell': 'C24LTACXX'}], u'read_length_units': u'nt'}"
       ]
      },
      {
       "output_type": "stream",
       "stream": "stdout",
       "text": [
        "\n",
        "/replicates/6d52759f-399e-43ed-97c5-073f1858f4c4/ updates: {u'read_length': 100, u'paired_ended': False, u'flowcell_details': [{u'machine': 'HWI-ST0787', u'lane': '2', u'barcode': u'GGACTCCT-GTAAGGAG', u'flowcell': 'C24LTACXX'}], u'read_length_units': u'nt'}"
       ]
      },
      {
       "output_type": "stream",
       "stream": "stdout",
       "text": [
        "\n",
        "/replicates/c490d00e-1c1e-4a48-8990-6d363f2cb616/ updates: {u'read_length': 100, u'paired_ended': False, u'flowcell_details': [{u'machine': 'HWI-ST0787', u'lane': '2', u'barcode': u'TAGGCATG-ACTGCATA', u'flowcell': 'C24LTACXX'}], u'read_length_units': u'nt'}"
       ]
      },
      {
       "output_type": "stream",
       "stream": "stdout",
       "text": [
        "\n",
        "/replicates/6f089ed5-4d6e-4a78-957c-4de111998d1c/ updates: {u'read_length': 100, u'paired_ended': False, u'flowcell_details': [{u'machine': 'HWI-ST0787', u'lane': '2', u'barcode': u'CTCTCTAC-AAGGAGTA', u'flowcell': 'C24LTACXX'}], u'read_length_units': u'nt'}"
       ]
      },
      {
       "output_type": "stream",
       "stream": "stdout",
       "text": [
        "\n",
        "/replicates/dc690efc-dd28-46d9-a3a7-9a1ceeba9cdd/ updates: {u'read_length': 100, u'paired_ended': False, u'flowcell_details': [{u'machine': 'HWI-ST0787', u'lane': '2', u'barcode': u'CAGAGAGG-CTAAGCCT', u'flowcell': 'C24LTACXX'}], u'read_length_units': u'nt'}"
       ]
      },
      {
       "output_type": "stream",
       "stream": "stdout",
       "text": [
        "\n"
       ]
      }
     ],
     "prompt_number": 108
    },
    {
     "cell_type": "heading",
     "level": 1,
     "metadata": {},
     "source": [
      "Adjust documents"
     ]
    },
    {
     "cell_type": "markdown",
     "metadata": {},
     "source": [
      "My previous undersanding of cu"
     ]
    }
   ],
   "metadata": {}
  }
 ]
}