{
 "cells": [
  {
   "cell_type": "markdown",
   "metadata": {},
   "source": [
    "Did I reasonably correctly run STAR/RSEM?\n",
    "\n",
    "My plan was run STAR/RSEM locally, and then download the quantifications done by the DCC and see how well they match up."
   ]
  },
  {
   "cell_type": "code",
   "execution_count": 8,
   "metadata": {
    "collapsed": true
   },
   "outputs": [],
   "source": [
    "import pandas\n",
    "import numpy\n",
    "from matplotlib import pyplot\n",
    "import paramiko\n",
    "import os"
   ]
  },
  {
   "cell_type": "code",
   "execution_count": 2,
   "metadata": {
    "collapsed": true
   },
   "outputs": [],
   "source": [
    "%matplotlib inline"
   ]
  },
  {
   "cell_type": "code",
   "execution_count": 12,
   "metadata": {
    "collapsed": false
   },
   "outputs": [],
   "source": [
    "def read_remote_csv(filename, **kwargs):\n",
    "    host = paramiko.SSHClient()\n",
    "    host.set_missing_host_key_policy(paramiko.WarningPolicy())\n",
    "    host.connect('pongo.cacr.caltech.edu', username='diane')\n",
    "    sftp = host.open_sftp()\n",
    "    #sftp.chdir(submission_root)\n",
    "    stream = sftp.open(filename)\n",
    "    return pandas.read_csv(stream, **kwargs)"
   ]
  },
  {
   "cell_type": "code",
   "execution_count": 13,
   "metadata": {
    "collapsed": false
   },
   "outputs": [
    {
     "name": "stderr",
     "output_type": "stream",
     "text": [
      "/usr/lib/python3/dist-packages/paramiko/client.py:580: UserWarning: Unknown ssh-rsa host key for pongo.cacr.caltech.edu: b'6833531597d6176b45c27f33e9406a12'\n",
      "  (key.get_name(), hostname, hexlify(key.get_fingerprint())))\n"
     ]
    }
   ],
   "source": [
    "basedir='/woldlab/castor/home/diane/proj/test-star/15015-e11.5_heart1_10ngs/'\n",
    "local_filename = os.path.join(basedir, 'Aligned.toTranscriptome.out_rsem.genes.results')\n",
    "dcc_filename = os.path.join(basedir, 'ENCFF471VWH.tsv')\n",
    "\n",
    "FPKM_COL = 6\n",
    "local_15015_fpkms = read_remote_csv(local_filename, sep='\\t', index_col=0, usecols=[0, FPKM_COL])\n",
    "dcc_15015_fpkms = read_remote_csv(dcc_filename, sep='\\t', index_col=0, usecols=[0, FPKM_COL])"
   ]
  },
  {
   "cell_type": "code",
   "execution_count": 15,
   "metadata": {
    "collapsed": false
   },
   "outputs": [
    {
     "data": {
      "text/plain": [
       "set()"
      ]
     },
     "execution_count": 15,
     "metadata": {},
     "output_type": "execute_result"
    }
   ],
   "source": [
    "set(local_15015_fpkms.index).difference(set(dcc_15015_fpkms.index))"
   ]
  },
  {
   "cell_type": "code",
   "execution_count": 19,
   "metadata": {
    "collapsed": false
   },
   "outputs": [
    {
     "data": {
      "text/plain": [
       "<matplotlib.collections.PathCollection at 0x7f93b0c8c438>"
      ]
     },
     "execution_count": 19,
     "metadata": {},
     "output_type": "execute_result"
    },
    {
     "data": {
      "image/png": "[encoded data removed]",
      "text/plain": [
       "<matplotlib.figure.Figure at 0x7f93b2037278>"
      ]
     },
     "metadata": {},
     "output_type": "display_data"
    }
   ],
   "source": [
    "pyplot.scatter(numpy.log2(local_15015_fpkms), numpy.log2(dcc_15015_fpkms))"
   ]
  },
  {
   "cell_type": "code",
   "execution_count": 43,
   "metadata": {
    "collapsed": false
   },
   "outputs": [
    {
     "data": {
      "text/plain": [
       "False"
      ]
     },
     "execution_count": 43,
     "metadata": {},
     "output_type": "execute_result"
    }
   ],
   "source": [
    "numpy.all(local_15015_fpkms['FPKM'] == dcc_15015_fpkms['FPKM'])"
   ]
  },
  {
   "cell_type": "code",
   "execution_count": 29,
   "metadata": {
    "collapsed": false
   },
   "outputs": [],
   "source": [
    "mismatch = []\n",
    "for gene_id in local_15015_fpkms.index:\n",
    "    if local_15015_fpkms['FPKM'][gene_id] != dcc_15015_fpkms['FPKM'][gene_id]:\n",
    "        mismatch.append((gene_id, local_15015_fpkms['FPKM'][gene_id], dcc_15015_fpkms['FPKM'][gene_id]))"
   ]
  },
  {
   "cell_type": "code",
   "execution_count": 30,
   "metadata": {
    "collapsed": false
   },
   "outputs": [
    {
     "data": {
      "text/plain": [
       "185"
      ]
     },
     "execution_count": 30,
     "metadata": {},
     "output_type": "execute_result"
    }
   ],
   "source": [
    "len(mismatch)"
   ]
  },
  {
   "cell_type": "code",
   "execution_count": 38,
   "metadata": {
    "collapsed": false
   },
   "outputs": [
    {
     "data": {
      "text/plain": [
       "2.4221872350848364e-05"
      ]
     },
     "execution_count": 38,
     "metadata": {},
     "output_type": "execute_result"
    }
   ],
   "source": [
    "(412.85-412.84)/412.85"
   ]
  },
  {
   "cell_type": "code",
   "execution_count": 41,
   "metadata": {
    "collapsed": false
   },
   "outputs": [
    {
     "name": "stdout",
     "output_type": "stream",
     "text": [
      "ENSMUSG00000020905.7 0.14 0.16\n",
      "ENSMUSG00000090117.3 0.27 0.31\n",
      "ENSMUSG00000100862.1 668.73 737.39\n"
     ]
    }
   ],
   "source": [
    "\n",
    "for gene_id, x, y in mismatch:\n",
    "    d = numpy.abs(x-y)/x\n",
    "    if d > 0.1:\n",
    "        print(gene_id, x, y)\n",
    "    "
   ]
  },
  {
   "cell_type": "code",
   "execution_count": 33,
   "metadata": {
    "collapsed": false
   },
   "outputs": [
    {
     "data": {
      "text/plain": [
       "(array([ 181.,    0.,    0.,    0.,    0.,    0.,    2.,    0.,    0.,    2.]),\n",
       " array([  1.00000000e-02,   6.87500000e+00,   1.37400000e+01,\n",
       "          2.06050000e+01,   2.74700000e+01,   3.43350000e+01,\n",
       "          4.12000000e+01,   4.80650000e+01,   5.49300000e+01,\n",
       "          6.17950000e+01,   6.86600000e+01]),\n",
       " <a list of 10 Patch objects>)"
      ]
     },
     "execution_count": 33,
     "metadata": {},
     "output_type": "execute_result"
    },
    {
     "data": {
      "image/png": "[encoded data removed]",
      "text/plain": [
       "<matplotlib.figure.Figure at 0x7f93b30f5898>"
      ]
     },
     "metadata": {},
     "output_type": "display_data"
    }
   ],
   "source": [
    "pyplot.hist(differences)"
   ]
  },
  {
   "cell_type": "code",
   "execution_count": 34,
   "metadata": {
    "collapsed": false
   },
   "outputs": [
    {
     "data": {
      "text/plain": [
       "[0.010000000000047748,\n",
       " 0.0099999999999909051,\n",
       " 0.0099999999999997868,\n",
       " 0.0099999999999909051,\n",
       " 0.15000000000000568,\n",
       " 0.0099999999999909051,\n",
       " 0.0099999999999909051,\n",
       " 0.0099999999999980105,\n",
       " 0.059999999999995168,\n",
       " 0.0099999999999909051,\n",
       " 0.19000000000000128,\n",
       " 0.0099999999999909051,\n",
       " 0.0099999999999909051,\n",
       " 0.010000000000019327,\n",
       " 0.0099999999999909051,\n",
       " 0.0099999999999909051,\n",
       " 0.0099999999999980105,\n",
       " 0.0099999999999909051,\n",
       " 0.010000000000218279,\n",
       " 0.0099999999999909051,\n",
       " 0.010000000000001563,\n",
       " 0.0099999999999909051,\n",
       " 0.020000000000000018,\n",
       " 0.010000000000019327,\n",
       " 0.0099999999999909051,\n",
       " 0.43000000000006366,\n",
       " 0.010000000000001563,\n",
       " 0.010000000000005116,\n",
       " 0.0099999999999980105,\n",
       " 0.010000000000047748,\n",
       " 0.010000000000104592,\n",
       " 0.19000000000000128,\n",
       " 0.0099999999999909051,\n",
       " 0.010000000000218279,\n",
       " 0.0099999999999980105,\n",
       " 0.01999999999999999,\n",
       " 0.010000000000005116,\n",
       " 0.0099999999999909051,\n",
       " 0.010000000000005116,\n",
       " 0.0099999999999980105,\n",
       " 0.010000000000005116,\n",
       " 0.010000000000047748,\n",
       " 0.0099999999999909051,\n",
       " 0.039999999999999147,\n",
       " 0.010000000000005116,\n",
       " 0.0099999999999909051,\n",
       " 0.0099999999999909051,\n",
       " 0.0099999999999909051,\n",
       " 0.03999999999996362,\n",
       " 0.060000000000002274,\n",
       " 0.0099999999999909051,\n",
       " 0.010000000000001563,\n",
       " 0.0099999999999909051,\n",
       " 0.019999999999996021,\n",
       " 0.019999999999996021,\n",
       " 0.01999999999998181,\n",
       " 0.010000000000001563,\n",
       " 0.0099999999999909051,\n",
       " 0.020000000000010232,\n",
       " 0.0099999999999909051,\n",
       " 0.0099999999997635314,\n",
       " 0.0099999999999909051,\n",
       " 0.0099999999999980105,\n",
       " 0.030000000000001137,\n",
       " 0.0099999999999980105,\n",
       " 0.019999999999996021,\n",
       " 0.010000000000005116,\n",
       " 0.15000000000000568,\n",
       " 0.010000000000005116,\n",
       " 0.0099999999999980105,\n",
       " 0.0099999999999909051,\n",
       " 0.35000000000000142,\n",
       " 0.019999999999999574,\n",
       " 0.010000000000000675,\n",
       " 0.0099999999999909051,\n",
       " 0.0099999999999909051,\n",
       " 0.0099999999999909051,\n",
       " 0.0099999999999997868,\n",
       " 0.0099999999999909051,\n",
       " 0.010000000000005116,\n",
       " 0.010000000000005116,\n",
       " 0.0099999999997635314,\n",
       " 0.010000000000019327,\n",
       " 0.0099999999999980105,\n",
       " 0.0099999999999980105,\n",
       " 0.019999999999999574,\n",
       " 0.079999999999984084,\n",
       " 0.030000000000001137,\n",
       " 0.0099999999999980105,\n",
       " 0.010000000000000009,\n",
       " 0.010000000000005116,\n",
       " 0.0099999999999909051,\n",
       " 0.0099999999999980105,\n",
       " 0.010000000000000009,\n",
       " 0.0099999999999909051,\n",
       " 0.090000000000003411,\n",
       " 0.0099999999999980105,\n",
       " 0.070000000000163709,\n",
       " 0.0099999999999997868,\n",
       " 0.0099999999999980105,\n",
       " 0.10999999999999943,\n",
       " 0.010000000000005116,\n",
       " 0.0099999999999980105,\n",
       " 0.040000000000000924,\n",
       " 0.010000000000005116,\n",
       " 0.010000000000005116,\n",
       " 0.019999999999999574,\n",
       " 0.0099999999999909051,\n",
       " 0.01999999999998181,\n",
       " 0.0099999999999909051,\n",
       " 0.0099999999999909051,\n",
       " 0.010000000000001563,\n",
       " 0.0099999999999909051,\n",
       " 0.0099999999999980105,\n",
       " 0.010000000000218279,\n",
       " 0.010000000000005116,\n",
       " 0.32999999999992724,\n",
       " 0.050000000002910383,\n",
       " 0.010000000000218279,\n",
       " 0.010000000000001563,\n",
       " 0.010000000000019327,\n",
       " 0.0099999999999909051,\n",
       " 0.0099999999999980105,\n",
       " 0.21999999999999886,\n",
       " 0.010000000000218279,\n",
       " 0.010000000000001563,\n",
       " 0.38000000000000256,\n",
       " 0.0099999999999909051,\n",
       " 0.030000000000000249,\n",
       " 0.019999999999999574,\n",
       " 0.089999999999999858,\n",
       " 0.34999999999999964,\n",
       " 0.0099999999999909051,\n",
       " 0.0099999999999980105,\n",
       " 0.43000000000006366,\n",
       " 0.0099999999999909051,\n",
       " 0.0099999999999909051,\n",
       " 0.0099999999999909051,\n",
       " 0.0099999999999909051,\n",
       " 0.0099999999997635314,\n",
       " 0.0099999999999909051,\n",
       " 0.14999999999986358,\n",
       " 0.050000000000068212,\n",
       " 0.0099999999997635314,\n",
       " 0.010000000000218279,\n",
       " 2.9100000000000819,\n",
       " 0.010000000000218279,\n",
       " 68.270000000000437,\n",
       " 47.400000000000091,\n",
       " 0.0099999999999909051,\n",
       " 0.0099999999999909051,\n",
       " 0.0099999999999909051,\n",
       " 0.010000000000218279,\n",
       " 0.020000000000436557,\n",
       " 0.019999999999527063,\n",
       " 0.0099999999999909051,\n",
       " 0.010000000000001563,\n",
       " 0.03999999999996362,\n",
       " 0.0099999999999909051,\n",
       " 0.059999999999998721,\n",
       " 0.0099999999997635314,\n",
       " 0.0099999999999909051,\n",
       " 0.099999999999999645,\n",
       " 0.0099999999999909051,\n",
       " 0.010000000000005116,\n",
       " 0.010000000000001563,\n",
       " 0.03999999999999998,\n",
       " 0.0099999999999909051,\n",
       " 0.010000000000218279,\n",
       " 0.030000000000000249,\n",
       " 0.040000000000000036,\n",
       " 0.020000000000436557,\n",
       " 68.659999999999968,\n",
       " 47.409999999999854,\n",
       " 0.030000000000200089,\n",
       " 2.8899999999998727,\n",
       " 0.030000000000654836,\n",
       " 0.010000000000218279,\n",
       " 0.010000000000218279,\n",
       " 0.010000000000218279,\n",
       " 0.090000000003783498,\n",
       " 0.029999999998835847,\n",
       " 0.010000000000218279,\n",
       " 0.029999999998835847,\n",
       " 0.0099999999999909051]"
      ]
     },
     "execution_count": 34,
     "metadata": {},
     "output_type": "execute_result"
    }
   ],
   "source": [
    "differences"
   ]
  },
  {
   "cell_type": "code",
   "execution_count": null,
   "metadata": {
    "collapsed": true
   },
   "outputs": [],
   "source": []
  }
 ],
 "metadata": {
  "kernelspec": {
   "display_name": "Python 3",
   "language": "python",
   "name": "python3"
  },
  "language_info": {
   "codemirror_mode": {
    "name": "ipython",
    "version": 3
   },
   "file_extension": ".py",
   "mimetype": "text/x-python",
   "name": "python",
   "nbconvert_exporter": "python",
   "pygments_lexer": "ipython3",
   "version": "3.4.3+"
  }
 },
 "nbformat": 4,
 "nbformat_minor": 0
}
