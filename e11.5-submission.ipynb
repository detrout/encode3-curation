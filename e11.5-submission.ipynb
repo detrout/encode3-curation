{
 "metadata": {
  "name": "",
  "signature": "sha256:71c6678912060c685f11906542b3f6406dbe23ae7644933caf807f8daafec267"
 },
 "nbformat": 3,
 "nbformat_minor": 0,
 "worksheets": [
  {
   "cells": [
    {
     "cell_type": "code",
     "collapsed": false,
     "input": [
      "from __future__ import print_function"
     ],
     "language": "python",
     "metadata": {},
     "outputs": [],
     "prompt_number": 1
    },
    {
     "cell_type": "code",
     "collapsed": false,
     "input": [
      "import json\n",
      "import os\n",
      "import sys\n",
      "import pprint\n",
      "import requests\n",
      "import jsonschema"
     ],
     "language": "python",
     "metadata": {},
     "outputs": [],
     "prompt_number": 2
    },
    {
     "cell_type": "code",
     "collapsed": false,
     "input": [
      "def custom_paths():\n",
      "    paths = [ os.path.expanduser('~/proj/htsworkflow'),\n",
      "              ]\n",
      "    for p in paths:\n",
      "        if p not in sys.path:\n",
      "            sys.path.append(p)\n",
      "custom_paths()\n"
     ],
     "language": "python",
     "metadata": {},
     "outputs": [],
     "prompt_number": 3
    },
    {
     "cell_type": "code",
     "collapsed": false,
     "input": [
      "from htsworkflow.submission.encoded import ENCODED\n",
      "\n",
      "server = ENCODED('www.encodedcc.org')\n",
      "server.load_netrc()"
     ],
     "language": "python",
     "metadata": {},
     "outputs": [],
     "prompt_number": 4
    },
    {
     "cell_type": "code",
     "collapsed": false,
     "input": [
      "schemas = {\n",
      "  '/experiments/': server.get_json('/profiles/experiment.json'),\n",
      "  '/libraries/': server.get_json('/profiles/library.json'),\n",
      "  '/replicates/': server.get_json('/profiles/replicate.json')\n",
      "}"
     ],
     "language": "python",
     "metadata": {},
     "outputs": [],
     "prompt_number": 5
    },
    {
     "cell_type": "code",
     "collapsed": false,
     "input": [
      "# save ids so we can re-run notebook\n",
      "forebrain_e11_exp_id = u'/experiments/ENCSR000OXO/'\n",
      "forebrain_e11_lib_rep1_id = u'/libraries/ENCLB917PKP/'\n",
      "forebrain_e11_lib_rep2_id = u'/libraries/ENCLB026BHP/'\n",
      "liver_e11_exp_id = u'/experiments/ENCSR592MSV/'\n",
      "liver_e11_lib_rep1_id = u'/libraries/ENCLB449LBZ/'\n",
      "liver_e11_lib_rep2_id = u'/libraries/ENCLB905LVV/'"
     ],
     "language": "python",
     "metadata": {},
     "outputs": [],
     "prompt_number": 6
    },
    {
     "cell_type": "code",
     "collapsed": false,
     "input": [
      "def post(collection, object_id, data):\n",
      "    if object_id:\n",
      "        obj = server.get_json(object_id)\n",
      "    else:\n",
      "        try:\n",
      "            jsonschema.validate(data, schemas[collection])\n",
      "            response =  server.post_json(collection, data)\n",
      "            obj = response['@graph'][0]\n",
      "            return obj['@id']\n",
      "        except requests.HTTPError as e:\n",
      "            print('exception: {}'.format(e))\n",
      "            pprint.pprint(data)\n",
      "    \n",
      "    # actual post should go here\n",
      "    return None"
     ],
     "language": "python",
     "metadata": {},
     "outputs": [],
     "prompt_number": 7
    },
    {
     "cell_type": "code",
     "collapsed": false,
     "input": [
      "common = {\n",
      "  'lab': '/labs/barbara-wold/',\n",
      "  'award': '/awards/U54HG006998/',\n",
      "  #'submitted_by': '/users/26e33f32-5dd7-4219-bff1-850c95607127/', # Brian\n",
      "}"
     ],
     "language": "python",
     "metadata": {},
     "outputs": [],
     "prompt_number": 8
    },
    {
     "cell_type": "code",
     "collapsed": false,
     "input": [
      "exp_common = {\n",
      "  'assay_term_name': 'RNA-seq',\n",
      "  'assay_term_id': 'OBI:0001271',  \n",
      "  'biosample_type': 'tissue',\n",
      "  #'dataset_type': 'experiment',\n",
      "}\n",
      "exp_common.update(common)"
     ],
     "language": "python",
     "metadata": {},
     "outputs": [],
     "prompt_number": 9
    },
    {
     "cell_type": "code",
     "collapsed": false,
     "input": [
      "forebrain_e11_exp = {\n",
      "  'aliases': ['barbara-wold:mouse-e11-5-forebrain'],\n",
      "  'biosample_term_name': 'forebrain', \n",
      "  'biosample_term_id': 'UBERON:0001890',\n",
      "  'description': 'RNA-seq on embryonic 11.5 day mouse forebrain',\n",
      "}\n",
      "forebrain_e11_exp.update(exp_common)"
     ],
     "language": "python",
     "metadata": {},
     "outputs": [],
     "prompt_number": 10
    },
    {
     "cell_type": "code",
     "collapsed": false,
     "input": [
      "forebrain_e11_exp_id = post('/experiments/', forebrain_e11_exp_id, forebrain_e11_exp)\n",
      "forebrain_e11_exp_id"
     ],
     "language": "python",
     "metadata": {},
     "outputs": [
      {
       "metadata": {},
       "output_type": "pyout",
       "prompt_number": 11,
       "text": [
        "u'/experiments/ENCSR000OXO/'"
       ]
      }
     ],
     "prompt_number": 11
    },
    {
     "cell_type": "code",
     "collapsed": false,
     "input": [
      "liver_e11_exp = {\n",
      "  'aliases': ['barbara-wold:mouse-e11.5-liver'],\n",
      "  'biosample_term_name': 'liver', \n",
      "  'biosample_term_id': 'UBERON:0002107',\n",
      "}\n",
      "liver_e11_exp.update(exp_common)"
     ],
     "language": "python",
     "metadata": {},
     "outputs": [],
     "prompt_number": 12
    },
    {
     "cell_type": "code",
     "collapsed": false,
     "input": [
      "liver_e11_exp_id = post('/experiments/', liver_e11_exp_id, liver_e11_exp)\n",
      "liver_e11_exp_id"
     ],
     "language": "python",
     "metadata": {},
     "outputs": [
      {
       "metadata": {},
       "output_type": "pyout",
       "prompt_number": 13,
       "text": [
        "u'/experiments/ENCSR592MSV/'"
       ]
      }
     ],
     "prompt_number": 13
    },
    {
     "cell_type": "code",
     "collapsed": false,
     "input": [
      "lib_common = {\n",
      "  # they don't support pg yet.\n",
      "  #'nucleic_acid_starting_quantity_units': 'pg',\n",
      "  #'nucleic_acid_starting_quantity': '13',  \n",
      "  'nucleic_acid_term_name': 'RNA',\n",
      "  'nucleic_acid_term_id': 'SO:0000356',\n",
      "  #'documents': [\n",
      "  #   'f0cc5a7f-96a5-4970-9f46-317cc8e2d6a4',  # mirVana protocol\n",
      "  #   '428a184d-7fa1-4599-9d8d-749c2eba7edd',  # turbo DNAse\n",
      "  #   'barbara-wold:Smart-Seq_Protocol.pdf',  # smartseq\n",
      "  #   #spike ins?\n",
      "  #],\n",
      "  'extraction_method': 'Ambion mirVana',\n",
      "  'fragmentation_method': 'Illumina/Nextera tagmentation',\n",
      "  'library_size_selection_method': 'SPRI beads',\n",
      "  'lysis_method': 'Ambion mirVana',\n",
      "  'size_range': '>200',\n",
      "  'paired_ended': True,\n",
      "}\n",
      "lib_common.update(common)"
     ],
     "language": "python",
     "metadata": {},
     "outputs": [],
     "prompt_number": 14
    },
    {
     "cell_type": "code",
     "collapsed": false,
     "input": [
      "forebrain_e11_lib_rep1 = {\n",
      "  'aliases': ['barbara-wold:14653'],\n",
      "  'biosample': '/biosamples/ENCBS745VOM',\n",
      "}\n",
      "forebrain_e11_lib_rep1.update(lib_common)"
     ],
     "language": "python",
     "metadata": {},
     "outputs": [],
     "prompt_number": 16
    },
    {
     "cell_type": "code",
     "collapsed": false,
     "input": [
      "forebrain_e11_lib_rep1_id = post('/libraries/', forebrain_e11_lib_rep1_id, forebrain_e11_lib_rep1)\n",
      "forebrain_e11_lib_rep1_id"
     ],
     "language": "python",
     "metadata": {},
     "outputs": [
      {
       "metadata": {},
       "output_type": "pyout",
       "prompt_number": 17,
       "text": [
        "u'/libraries/ENCLB917PKP/'"
       ]
      }
     ],
     "prompt_number": 17
    },
    {
     "cell_type": "code",
     "collapsed": false,
     "input": [
      "forebrain_e11_lib_rep2 = {\n",
      "  'aliases': ['barbara-wold:14654'],\n",
      "  'biosample': 'ENCBS720JOH',\n",
      "}\n",
      "forebrain_e11_lib_rep2.update(lib_common)\n",
      "forebrain_e11_lib_rep2_id = post('/libraries/', forebrain_e11_lib_rep2_id, forebrain_e11_lib_rep2)"
     ],
     "language": "python",
     "metadata": {},
     "outputs": [],
     "prompt_number": 18
    },
    {
     "cell_type": "code",
     "collapsed": false,
     "input": [
      "forebrain_e11_lib_rep2_id"
     ],
     "language": "python",
     "metadata": {},
     "outputs": [
      {
       "metadata": {},
       "output_type": "pyout",
       "prompt_number": 19,
       "text": [
        "u'/libraries/ENCLB026BHP/'"
       ]
      }
     ],
     "prompt_number": 19
    },
    {
     "cell_type": "code",
     "collapsed": false,
     "input": [
      "liver_e11_lib_rep1 = {\n",
      "  'aliases': ['barbara-wold:14655'],\n",
      "  'biosample': 'ENCBS746POP',\n",
      "}\n",
      "liver_e11_lib_rep1.update(lib_common)"
     ],
     "language": "python",
     "metadata": {},
     "outputs": [],
     "prompt_number": 20
    },
    {
     "cell_type": "code",
     "collapsed": false,
     "input": [
      "liver_e11_lib_rep1_id = post('/libraries/', liver_e11_lib_rep1_id, liver_e11_lib_rep1)\n",
      "liver_e11_lib_rep1_id"
     ],
     "language": "python",
     "metadata": {},
     "outputs": [
      {
       "metadata": {},
       "output_type": "pyout",
       "prompt_number": 21,
       "text": [
        "u'/libraries/ENCLB449LBZ/'"
       ]
      }
     ],
     "prompt_number": 21
    },
    {
     "cell_type": "code",
     "collapsed": false,
     "input": [
      "liver_e11_lib_rep2 = {\n",
      "  'aliases': ['barbara-wold:14656'],\n",
      "  'biosample': 'ENCBS522YOW',\n",
      "}\n",
      "liver_e11_lib_rep2.update(lib_common)"
     ],
     "language": "python",
     "metadata": {},
     "outputs": [],
     "prompt_number": 22
    },
    {
     "cell_type": "code",
     "collapsed": false,
     "input": [
      "liver_e11_lib_rep2_id = post('/libraries/', liver_e11_lib_rep2_id, liver_e11_lib_rep2)\n",
      "liver_e11_lib_rep2_id"
     ],
     "language": "python",
     "metadata": {},
     "outputs": [
      {
       "metadata": {},
       "output_type": "pyout",
       "prompt_number": 23,
       "text": [
        "u'/libraries/ENCLB905LVV/'"
       ]
      }
     ],
     "prompt_number": 23
    },
    {
     "cell_type": "code",
     "collapsed": false,
     "input": [
      "rep_common = {\n",
      "  'technical_replicate_number': 1,\n",
      "  'read_length': 100,\n",
      "  'read_length_units': 'nt',\n",
      "  'paired_ended': False,\n",
      "  'platform': \"/platforms/OBI%3A0002001/\",\n",
      "}\n",
      "# bug in encoded means don't need to submit lab / award for replicate model\n",
      "#rep_common.update(common)"
     ],
     "language": "python",
     "metadata": {},
     "outputs": [],
     "prompt_number": 35
    },
    {
     "cell_type": "code",
     "collapsed": false,
     "input": [
      "replicates = [ \n",
      "    (1, forebrain_e11_exp_id, forebrain_e11_lib_rep1_id, 'CGAGGCTG-TATCCTCT', '/replicates/414ddc9b-5a77-4b65-918b-3d84c262affd/'),\n",
      "    (2, forebrain_e11_exp_id, forebrain_e11_lib_rep2_id, 'AAGAGGCA-AGAGTAGA', '/replicates/791600bc-8813-48d9-931e-4eeeb3e29efc/'),\n",
      "    (1, liver_e11_exp_id, liver_e11_lib_rep1_id, 'GTAGAGGA-GTAAGGAG', '/replicates/be774d4c-ca97-448b-becb-2131685cd178/'),\n",
      "    (2, liver_e11_exp_id, liver_e11_lib_rep2_id, 'TAAGGCGA-ACTGCATA', '/replicates/a9cbc5ee-b9c7-4e08-bf88-964dd4c027b8/'),\n",
      "]\n",
      "for bio_rep, exp_id, lib_id, barcode, rep_id in replicates:\n",
      "    payload = {\n",
      "      'biological_replicate_number': bio_rep,\n",
      "      'experiment': exp_id,\n",
      "      'library': lib_id,\n",
      "      'flowcell_details': [{\n",
      "          'machine': 'http://jumpgate.caltech.edu/sequencer/8',\n",
      "          'flowcell': 'HA06HADXX',\n",
      "          'lane': '1',\n",
      "          'barcode': barcode,\n",
      "      }]\n",
      "    }\n",
      "    payload.update(rep_common)\n",
      "    jsonschema.validate(payload, schemas['/replicates/'])\n",
      "    rep_id = post('/replicates/', rep_id, payload)\n",
      "    print(lib_id, rep_id)\n"
     ],
     "language": "python",
     "metadata": {},
     "outputs": [
      {
       "output_type": "stream",
       "stream": "stdout",
       "text": [
        "/libraries/ENCLB917PKP/ /replicates/414ddc9b-5a77-4b65-918b-3d84c262affd/\n",
        "/libraries/ENCLB026BHP/"
       ]
      },
      {
       "output_type": "stream",
       "stream": "stdout",
       "text": [
        " /replicates/791600bc-8813-48d9-931e-4eeeb3e29efc/\n",
        "/libraries/ENCLB449LBZ/"
       ]
      },
      {
       "output_type": "stream",
       "stream": "stdout",
       "text": [
        " /replicates/be774d4c-ca97-448b-becb-2131685cd178/\n",
        "/libraries/ENCLB905LVV/"
       ]
      },
      {
       "output_type": "stream",
       "stream": "stdout",
       "text": [
        " /replicates/a9cbc5ee-b9c7-4e08-bf88-964dd4c027b8/\n"
       ]
      }
     ],
     "prompt_number": 45
    },
    {
     "cell_type": "code",
     "collapsed": false,
     "input": [
      "files = [\n",
      "  ('14653-forebrain-E11.5-rep1-GIT/14653_HA06HADXX_c116_l1.fastq.gz', forebrain_e11_exp_id, 1),\n",
      "  ('14653-forebrain-E11.5-rep1-GIT/14653_HA06HADXX_c116_l2.fastq.gz', forebrain_e11_exp_id, 1),\n",
      "  ('14654-forebrain-E11.5-rep2-GIT/14654_HA06HADXX_c116_l1.fastq.gz', forebrain_e11_exp_id, 2),\n",
      "  ('14654-forebrain-E11.5-rep2-GIT/14654_HA06HADXX_c116_l2.fastq.gz', forebrain_e11_exp_id, 2),\n",
      "  ('14655-liver-E11.5-rep1-GITC-20/14655_HA06HADXX_c116_l1.fastq.gz', liver_e11_exp_id,     1),\n",
      "  ('14655-liver-E11.5-rep1-GITC-20/14655_HA06HADXX_c116_l2.fastq.gz', liver_e11_exp_id,     1),\n",
      "  ('14656-liver-E11.5-rep2-GITC-20/14656_HA06HADXX_c116_l1.fastq.gz', liver_e11_exp_id,     2),\n",
      "  ('14656-liver-E11.5-rep2-GITC-20/14656_HA06HADXX_c116_l2.fastq.gz', liver_e11_exp_id,     2),\n",
      "]"
     ],
     "language": "python",
     "metadata": {},
     "outputs": [],
     "prompt_number": 47
    },
    {
     "cell_type": "code",
     "collapsed": false,
     "input": [
      "fields = ['#file_name', 'format', 'output_type', 'experiment', 'replicate', 'enriched_in', 'ucsc_db', 'paired_end']"
     ],
     "language": "python",
     "metadata": {},
     "outputs": [],
     "prompt_number": 48
    },
    {
     "cell_type": "code",
     "collapsed": false,
     "input": [
      "with open('/tmp/manifest.txt', 'w') as outstream:\n",
      "    outstream.write('\\t'.join(fields))\n",
      "    outstream.write(os.linesep)\n",
      "    for filename, exp_id, rep_number in files:\n",
      "        outstream.write('\\t'.join([\n",
      "            filename,\n",
      "            'fastq.gz',\n",
      "            'reads',\n",
      "            os.path.split(exp_id[:-1])[1],  #grab foo out of /experiments/foo/\n",
      "            str(rep_number),\n",
      "            'exon',\n",
      "            'mm9',\n",
      "            'n/a'\n",
      "        ]))\n",
      "        outstream.write(os.linesep)"
     ],
     "language": "python",
     "metadata": {},
     "outputs": [],
     "prompt_number": 53
    },
    {
     "cell_type": "code",
     "collapsed": false,
     "input": [],
     "language": "python",
     "metadata": {},
     "outputs": []
    }
   ],
   "metadata": {}
  }
 ]
}