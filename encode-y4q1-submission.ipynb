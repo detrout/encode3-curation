{
 "cells": [
  {
   "cell_type": "markdown",
   "metadata": {},
   "source": [
    "Prepare for y4q1 (Oct-Dec submission)\n",
    "\n",
    "First issue. Starting to register EN-TEC biosamples. which have a fairly complex relationships"
   ]
  },
  {
   "cell_type": "code",
   "execution_count": null,
   "metadata": {
    "collapsed": false
   },
   "outputs": [],
   "source": [
    "import pandas\n",
    "import gcat\n",
    "import paramiko"
   ]
  },
  {
   "cell_type": "code",
   "execution_count": null,
   "metadata": {
    "collapsed": true
   },
   "outputs": [],
   "source": [
    "from curation_common import *"
   ]
  },
  {
   "cell_type": "code",
   "execution_count": null,
   "metadata": {
    "collapsed": true
   },
   "outputs": [],
   "source": [
    "server = ENCODED('www.encodeproject.org')\n",
    "server.load_netrc()"
   ]
  },
  {
   "cell_type": "code",
   "execution_count": null,
   "metadata": {
    "collapsed": true
   },
   "outputs": [],
   "source": [
    "spreadsheet_name = 'ENCODE Submission for Y4Q1'"
   ]
  },
  {
   "cell_type": "markdown",
   "metadata": {},
   "source": [
    "# Register Biosamples"
   ]
  },
  {
   "cell_type": "code",
   "execution_count": null,
   "metadata": {
    "collapsed": false
   },
   "outputs": [],
   "source": [
    "#y4q1 = gcat.get_file(spreadsheet_name, fmt='pandas_excel')\n",
    "#biosample = y4q1.parse('Biosamples', header=0)\n",
    "#created = server.post_sheet('/biosamples/', biosample, verbose=True, dry_run=True)\n",
    "#print(len(created))"
   ]
  },
  {
   "cell_type": "code",
   "execution_count": null,
   "metadata": {
    "collapsed": true
   },
   "outputs": [],
   "source": [
    "#biosample.to_excel('/dev/shm/biosamples.xlsx', index=False)"
   ]
  },
  {
   "cell_type": "markdown",
   "metadata": {},
   "source": [
    "# Register Experiments"
   ]
  },
  {
   "cell_type": "code",
   "execution_count": null,
   "metadata": {
    "collapsed": false
   },
   "outputs": [],
   "source": [
    "y4q1 = gcat.get_file(spreadsheet_name, fmt='pandas_excel')\n",
    "experiments = y4q1.parse('Experiments', header=0)\n",
    "\n",
    "created = server.post_sheet('/experiments/', experiments, verbose=True, dry_run=True)"
   ]
  },
  {
   "cell_type": "code",
   "execution_count": null,
   "metadata": {
    "collapsed": false
   },
   "outputs": [],
   "source": [
    "len(created)"
   ]
  },
  {
   "cell_type": "code",
   "execution_count": null,
   "metadata": {
    "collapsed": true
   },
   "outputs": [],
   "source": [
    "if created:\n",
    "    experiments.to_excel('/tmp/experiments.xlsx', index=False)"
   ]
  },
  {
   "cell_type": "markdown",
   "metadata": {},
   "source": [
    "# Register Libraries"
   ]
  },
  {
   "cell_type": "code",
   "execution_count": null,
   "metadata": {
    "collapsed": false,
    "scrolled": true
   },
   "outputs": [],
   "source": [
    "y4q1 = gcat.get_file(spreadsheet_name, fmt='pandas_excel')\n",
    "libraries = y4q1.parse('Libraries', header=0)\n",
    "\n",
    "created = server.post_sheet('/libraries/', libraries, verbose=True, dry_run=True)"
   ]
  },
  {
   "cell_type": "code",
   "execution_count": null,
   "metadata": {
    "collapsed": false
   },
   "outputs": [],
   "source": [
    "len(created)"
   ]
  },
  {
   "cell_type": "code",
   "execution_count": null,
   "metadata": {
    "collapsed": true
   },
   "outputs": [],
   "source": [
    "if created:\n",
    "    libraries.to_excel('/tmp/libraries.xlsx', index=False)"
   ]
  },
  {
   "cell_type": "markdown",
   "metadata": {},
   "source": [
    "# Register Replicates"
   ]
  },
  {
   "cell_type": "code",
   "execution_count": null,
   "metadata": {
    "collapsed": false,
    "scrolled": true
   },
   "outputs": [],
   "source": [
    "y4q1 = gcat.get_file(spreadsheet_name, fmt='pandas_excel')\n",
    "replicates = y4q1.parse('Replicates', header=0)\n",
    "\n",
    "created = server.post_sheet('/replicates/', replicates, verbose=True, dry_run=True)"
   ]
  },
  {
   "cell_type": "code",
   "execution_count": null,
   "metadata": {
    "collapsed": false
   },
   "outputs": [],
   "source": [
    "len(created)"
   ]
  },
  {
   "cell_type": "code",
   "execution_count": null,
   "metadata": {
    "collapsed": true
   },
   "outputs": [],
   "source": [
    "if created:\n",
    "    replicates.to_excel('/tmp/replicates.xlsx', index=False)"
   ]
  },
  {
   "cell_type": "markdown",
   "metadata": {},
   "source": [
    "# Create Manifest"
   ]
  },
  {
   "cell_type": "code",
   "execution_count": null,
   "metadata": {
    "collapsed": true
   },
   "outputs": [],
   "source": [
    "def make_manifest(spreadsheet_name, submission_name, submission_root, map_name):\n",
    "    book = gcat.get_file(spreadsheet_name, fmt='pandas_excel')\n",
    "    libraries = book.parse('Libraries')\n",
    "    replicates = book.parse('Replicates')\n",
    "    \n",
    "    pongo = paramiko.SSHClient()\n",
    "    pongo.set_missing_host_key_policy(paramiko.WarningPolicy())\n",
    "    pongo.connect('pongo.cacr.caltech.edu', username='diane')\n",
    "    sftp = pongo.open_sftp()\n",
    "    sftp.chdir(submission_root)\n",
    "    files = 0\n",
    "    for line in sftp.open(map_name):\n",
    "        # skip comments\n",
    "        line = line.strip()\n",
    "        if len(line) == 0 or line.startswith('#'):\n",
    "            continue\n",
    "\n",
    "        library_id, dirname = line.split()\n",
    "        alias = 'barbara-wold:{}'.format(library_id)\n",
    "        library_row = libraries[libraries['aliases:array'] == alias]\n",
    "        replicate_row = replicates[replicates['library'] == alias]\n",
    "        for filename in sftp.listdir(dirname):\n",
    "            if filename.endswith('fastq.gz'):\n",
    "                relative_path = os.path.join(dirname, filename)\n",
    "                metadata = {\n",
    "                    'dataset': list(replicate_row['experiment'])[0],\n",
    "                    'submitted_file_name': relative_path,\n",
    "                    'replicate': list(replicate_row['uuid'])[0],\n",
    "                    'lab': list(library_row['lab'])[0],\n",
    "                    'award': list(library_row['award'])[0],\n",
    "                }\n",
    "                #display.display_pretty(metadata)\n",
    "                print('<http://jumpgate.caltech.edu/wiki/SubmissionsLog/{}#{}>'.format(submission_name, dirname))\n",
    "                print('  encode3:dataset \"{}\" ;'.format(metadata['dataset']))\n",
    "                print('  encode3:replicate \"{}\" ;'.format(metadata['replicate']))\n",
    "                print('  encode3:lab \"{}\" ;'.format(metadata['lab']))\n",
    "                print('  encode3:award \"{}\" .'.format(metadata['award']))\n",
    "\n",
    "                print('<file:///woldlab/castor/home/diane/proj/submission/{}/{}>'.format(submission_name, relative_path))\n",
    "                print('  encode3:output_type \"reads\" ;')\n",
    "                print('  encode3:file_format \"fastq\" .')\n",
    "                files += 1\n",
    "\n",
    "    print('generated {} records'.format(files))\n"
   ]
  },
  {
   "cell_type": "code",
   "execution_count": null,
   "metadata": {
    "collapsed": false
   },
   "outputs": [],
   "source": [
    "make_manifest(spreadsheet_name, 'encode-201604', '/home/diane/proj/submission/encode-201604/', 'libs.txt')"
   ]
  },
  {
   "cell_type": "code",
   "execution_count": null,
   "metadata": {
    "collapsed": true
   },
   "outputs": [],
   "source": []
  }
 ],
 "metadata": {
  "kernelspec": {
   "display_name": "Python 3",
   "language": "python",
   "name": "python3"
  },
  "language_info": {
   "codemirror_mode": {
    "name": "ipython",
    "version": 3
   },
   "file_extension": ".py",
   "mimetype": "text/x-python",
   "name": "python",
   "nbconvert_exporter": "python",
   "pygments_lexer": "ipython3",
   "version": "3.5.1+"
  }
 },
 "nbformat": 4,
 "nbformat_minor": 0
}
