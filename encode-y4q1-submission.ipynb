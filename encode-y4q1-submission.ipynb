{
 "cells": [
  {
   "cell_type": "markdown",
   "metadata": {},
   "source": [
    "Prepare for y4q1 (Oct-Dec submission)\n",
    "\n",
    "First issue. Starting to register EN-TEC biosamples. which have a fairly complex relationships"
   ]
  },
  {
   "cell_type": "code",
   "execution_count": 1,
   "metadata": {
    "collapsed": false
   },
   "outputs": [],
   "source": [
    "import pandas\n",
    "import gcat\n",
    "import paramiko"
   ]
  },
  {
   "cell_type": "code",
   "execution_count": 2,
   "metadata": {
    "collapsed": false
   },
   "outputs": [],
   "source": [
    "from curation_common import *"
   ]
  },
  {
   "cell_type": "code",
   "execution_count": 3,
   "metadata": {
    "collapsed": true
   },
   "outputs": [],
   "source": [
    "server = ENCODED('www.encodeproject.org')\n",
    "server.load_netrc()"
   ]
  },
  {
   "cell_type": "code",
   "execution_count": 4,
   "metadata": {
    "collapsed": true
   },
   "outputs": [],
   "source": [
    "spreadsheet_name = 'ENCODE Submission for Y4Q1'"
   ]
  },
  {
   "cell_type": "markdown",
   "metadata": {},
   "source": [
    "# Register Biosamples"
   ]
  },
  {
   "cell_type": "code",
   "execution_count": 5,
   "metadata": {
    "collapsed": false
   },
   "outputs": [],
   "source": [
    "#y4q1 = gcat.get_file(spreadsheet_name, fmt='pandas_excel')\n",
    "#biosample = y4q1.parse('Biosamples', header=0)\n",
    "#created = server.post_sheet('/biosamples/', biosample, verbose=True, dry_run=True)\n",
    "#print(len(created))"
   ]
  },
  {
   "cell_type": "code",
   "execution_count": 6,
   "metadata": {
    "collapsed": true
   },
   "outputs": [],
   "source": [
    "#biosample.to_excel('/dev/shm/biosamples.xlsx', index=False)"
   ]
  },
  {
   "cell_type": "markdown",
   "metadata": {},
   "source": [
    "# Register Experiments"
   ]
  },
  {
   "cell_type": "code",
   "execution_count": 7,
   "metadata": {
    "collapsed": true
   },
   "outputs": [],
   "source": [
    "opts = gcat.default_options()"
   ]
  },
  {
   "cell_type": "code",
   "execution_count": 8,
   "metadata": {
    "collapsed": false
   },
   "outputs": [],
   "source": [
    "opts['title'] = spreadsheet_name"
   ]
  },
  {
   "cell_type": "code",
   "execution_count": 9,
   "metadata": {
    "collapsed": false
   },
   "outputs": [],
   "source": [
    "opts.update(gcat.load_config(opts))"
   ]
  },
  {
   "cell_type": "code",
   "execution_count": 10,
   "metadata": {
    "collapsed": false
   },
   "outputs": [],
   "source": [
    "service = gcat.get_service(opts)"
   ]
  },
  {
   "cell_type": "code",
   "execution_count": 11,
   "metadata": {
    "collapsed": true
   },
   "outputs": [],
   "source": [
    "files = service.files()\n",
    "req = files.list()"
   ]
  },
  {
   "cell_type": "code",
   "execution_count": 12,
   "metadata": {
    "collapsed": true
   },
   "outputs": [],
   "source": [
    "res = req.execute()"
   ]
  },
  {
   "cell_type": "code",
   "execution_count": 13,
   "metadata": {
    "collapsed": false
   },
   "outputs": [
    {
     "data": {
      "text/plain": [
       "['HudsonAlpha END GAME 2016',\n",
       " 'ZPF1_iso1-FLAG_HepG2 PCR validation.jpg',\n",
       " 'ENCODE Production Plans',\n",
       " 'FLAG-PREB_HepG2',\n",
       " 'PREB-HepG2.xlsx',\n",
       " 'PREB-FLAG_HepG2 PCR validation Rep2 only.jpg',\n",
       " 'PREB-FLAG_HepG2 caption Rep2 only.docx',\n",
       " 'FLAG-TAG_sorted.csv',\n",
       " 'FLAG-PREB_HepG2_Mass Spec Caption.docx',\n",
       " 'FLAG-PREB_HepG2_IP-MS.pdf',\n",
       " 'FLAG-NCoA2_HepG2',\n",
       " 'NCoA2-HepG2.xlsx',\n",
       " 'NCoA2-FLAG_HepG2 PCR validation.jpg',\n",
       " 'NCoA2-FLAG_HepG2 caption.docx',\n",
       " 'FLAG-TAG_sorted.csv',\n",
       " 'FLAG-NCoA2_HepG2_Mass Spec Caption.docx',\n",
       " 'FLAG-NCoA2_HepG2_IP-MS.pdf',\n",
       " 'FLAG-TEAD1_HepG2',\n",
       " 'TEAD1-HepG2.xlsx',\n",
       " 'TEAD1-FLAG_HepG2 PCR validation.jpg',\n",
       " 'TEAD1-FLAG_HepG2 caption.docx',\n",
       " 'FLAG-TEAD1_HepG2_Mass Spec Caption.docx',\n",
       " 'FLAG-TEAD1_HepG2_IP-MS.pdf',\n",
       " 'FLAG-TAG_sorted.csv',\n",
       " 'FLAG-CEBPG_HepG2',\n",
       " 'FLAG-TAG_sorted.csv',\n",
       " 'FLAG-CEBPG_HepG2_Mass Spec Caption.docx',\n",
       " 'FLAG-CEBPG_HepG2_IP-MS.pdf',\n",
       " 'CEBPG-HepG2.xlsx',\n",
       " 'CEBPG-FLAG_HepG2 PCR validation.jpg',\n",
       " 'CEBPG-FLAG_HepG2 caption.docx',\n",
       " 'FLAG-MIXL1_HepG2',\n",
       " 'MIXL1-HepG2.xlsx',\n",
       " 'MIXL1-FLAG_HepG2 PCR validation.jpg',\n",
       " 'MIXL1-FLAG_HepG2 caption.docx',\n",
       " 'FLAG-TAG_sorted.csv',\n",
       " 'FLAG-MIXL1_HepG2_Mass Spec Caption.docx',\n",
       " 'FLAG-MIXL1_HepG2_IP-MS.pdf',\n",
       " 'FLAG-HMG20A_HepG2',\n",
       " 'HMG20A-HepG2.xlsx',\n",
       " 'HMG20A-FLAG_HepG2 PCR validation.jpg',\n",
       " 'HMG20A-FLAG_HepG2 caption.docx',\n",
       " 'FLAG-TAG_sorted.csv',\n",
       " 'FLAG-HMG20A_HepG2_Mass Spec Caption.docx',\n",
       " 'FLAG-HMG20A_HepG2_IP-MS.pdf',\n",
       " 'FLAG-ZBED5_HepG2',\n",
       " 'ZBED5-HepG2.xlsx',\n",
       " 'ZBED5-FLAG_HepG2 PCR validation Rep2 only.jpg',\n",
       " 'ZBED5-FLAG_HepG2 caption Rep2 only.docx',\n",
       " 'FLAG-ZBED5_HepG2_Mass Spec Caption.docx',\n",
       " 'FLAG-ZBED5_HepG2_IP-MS.pdf',\n",
       " 'FLAG-TAG_sorted.csv',\n",
       " 'FLAG-CERS6_HepG2',\n",
       " 'FLAG-TAG_sorted.csv',\n",
       " 'FLAG-CERS6_HepG2_Mass Spec Caption.docx',\n",
       " 'FLAG-CERS6_HepG2_IP-MS.pdf',\n",
       " 'CERS6-HepG2.xlsx',\n",
       " 'CERS6-FLAG_HepG2 PCR validation Rep2 only.jpg',\n",
       " 'CERS6-FLAG_HepG2 caption Rep2 only.docx',\n",
       " 'FLAG-ZGPAT_HepG2',\n",
       " 'ZGPAT-HepG2.xlsx',\n",
       " 'ZGPAT-FLAG_HepG2 PCR validation.jpg',\n",
       " 'ZGPAT-FLAG_HepG2 caption.docx',\n",
       " 'FLAG-ZGPAT_HepG2_Mass Spec Caption.docx',\n",
       " 'FLAG-ZGPAT_HepG2_IP-MS.pdf',\n",
       " 'FLAG-TAG_sorted.csv',\n",
       " 'FLAG-CEBPA_HepG2',\n",
       " 'FLAG-TAG_sorted.csv',\n",
       " 'FLAG-CEBPA_HepG2_Mass Spec Caption.docx',\n",
       " 'FLAG-CEBPA_HepG2_IP-MS.pdf',\n",
       " 'CEBPA-HepG2.xlsx',\n",
       " 'CEBPA-FLAG_HepG2 PCR validation.jpg',\n",
       " 'CEBPA-FLAG_HepG2 caption.docx',\n",
       " 'FLAG-ZFP1_HepG2',\n",
       " 'ZFP1_iso1-FLAG_HepG2 caption.docx',\n",
       " 'ZFP1-HepG2.xlsx',\n",
       " 'FLAG-ZFP1_HepG2_Mass Spec Caption.docx',\n",
       " 'FLAG-ZFP1_HepG2_IP-MS.pdf',\n",
       " 'FLAG-TAG_sorted.csv',\n",
       " 'FLAG-NFIL3_HepG2',\n",
       " 'NFIL3-HepG2.xlsx',\n",
       " 'NFIL3-FLAG_HepG2 PCR validation.jpg',\n",
       " 'NFIL3-FLAG_HepG2 caption.docx',\n",
       " 'FLAG-TAG_sorted.csv',\n",
       " 'FLAG-NFIL3_HepG2_Mass Spec Caption.docx',\n",
       " 'FLAG-NFIL3_HepG2_IP-MS.pdf',\n",
       " 'FLAG-SP5_HepG2',\n",
       " 'SP5-HepG2.xlsx',\n",
       " 'SP5-FLAG_HepG2 PCR validation.jpg',\n",
       " 'SP5-FLAG_HepG2 caption.docx',\n",
       " 'FLAG-TAG_sorted.csv',\n",
       " 'FLAG-SP5_HepG2_Mass Spec Caption.docx',\n",
       " 'FLAG-SP5_HepG2_IP-MS.pdf',\n",
       " 'FLAG-ZNF639_HepG2',\n",
       " 'ZNF639-HepG2.xlsx',\n",
       " 'ZNF639-FLAG_HepG2 PCR validation Rep1 only.jpg',\n",
       " 'ZNF639-FLAG_HepG2 caption Rep1 only.docx',\n",
       " 'FLAG-ZNF639_HepG2_Mass Spec Caption.docx',\n",
       " 'FLAG-ZNF639_HepG2_IP-MS.pdf',\n",
       " 'FLAG-TAG_sorted.csv']"
      ]
     },
     "execution_count": 13,
     "metadata": {},
     "output_type": "execute_result"
    }
   ],
   "source": [
    "[ x.get('title') for x in res['items']]"
   ]
  },
  {
   "cell_type": "code",
   "execution_count": 14,
   "metadata": {
    "collapsed": false
   },
   "outputs": [],
   "source": [
    "res = files.list_next(req, res).execute()"
   ]
  },
  {
   "cell_type": "code",
   "execution_count": 15,
   "metadata": {
    "collapsed": false
   },
   "outputs": [
    {
     "data": {
      "text/plain": [
       "100"
      ]
     },
     "execution_count": 15,
     "metadata": {},
     "output_type": "execute_result"
    }
   ],
   "source": [
    "len([ x.get('title') for x in res['items']])"
   ]
  },
  {
   "cell_type": "code",
   "execution_count": null,
   "metadata": {
    "collapsed": false,
    "scrolled": false
   },
   "outputs": [],
   "source": []
  },
  {
   "cell_type": "code",
   "execution_count": 16,
   "metadata": {
    "collapsed": false
   },
   "outputs": [],
   "source": [
    "res = service.files()"
   ]
  },
  {
   "cell_type": "code",
   "execution_count": 17,
   "metadata": {
    "collapsed": false
   },
   "outputs": [],
   "source": [
    "y4q1 = gcat.get_file(spreadsheet_name, fmt='pandas_excel')\n",
    "experiments = y4q1.parse('Experiments', header=0)\n",
    "\n",
    "created = server.post_sheet('/experiments/', experiments, verbose=True, dry_run=True)"
   ]
  },
  {
   "cell_type": "code",
   "execution_count": 18,
   "metadata": {
    "collapsed": false
   },
   "outputs": [
    {
     "data": {
      "text/plain": [
       "0"
      ]
     },
     "execution_count": 18,
     "metadata": {},
     "output_type": "execute_result"
    }
   ],
   "source": [
    "len(created)"
   ]
  },
  {
   "cell_type": "code",
   "execution_count": 19,
   "metadata": {
    "collapsed": true
   },
   "outputs": [],
   "source": [
    "if created:\n",
    "    experiments.to_excel('/tmp/experiments.xlsx', index=False)"
   ]
  },
  {
   "cell_type": "markdown",
   "metadata": {},
   "source": [
    "# Register Libraries"
   ]
  },
  {
   "cell_type": "code",
   "execution_count": 20,
   "metadata": {
    "collapsed": false,
    "scrolled": true
   },
   "outputs": [],
   "source": [
    "y4q1 = gcat.get_file(spreadsheet_name, fmt='pandas_excel')\n",
    "libraries = y4q1.parse('Libraries', header=0)\n",
    "\n",
    "created = server.post_sheet('/libraries/', libraries, verbose=True, dry_run=True)"
   ]
  },
  {
   "cell_type": "code",
   "execution_count": 21,
   "metadata": {
    "collapsed": false
   },
   "outputs": [
    {
     "data": {
      "text/plain": [
       "0"
      ]
     },
     "execution_count": 21,
     "metadata": {},
     "output_type": "execute_result"
    }
   ],
   "source": [
    "len(created)"
   ]
  },
  {
   "cell_type": "code",
   "execution_count": 22,
   "metadata": {
    "collapsed": true
   },
   "outputs": [],
   "source": [
    "if created:\n",
    "    libraries.to_excel('/tmp/libraries.xlsx', index=False)"
   ]
  },
  {
   "cell_type": "markdown",
   "metadata": {},
   "source": [
    "# Register Replicates"
   ]
  },
  {
   "cell_type": "code",
   "execution_count": 23,
   "metadata": {
    "collapsed": false,
    "scrolled": true
   },
   "outputs": [],
   "source": [
    "y4q1 = gcat.get_file(spreadsheet_name, fmt='pandas_excel')\n",
    "replicates = y4q1.parse('Replicates', header=0)\n",
    "\n",
    "created = server.post_sheet('/replicates/', replicates, verbose=True, dry_run=True)"
   ]
  },
  {
   "cell_type": "code",
   "execution_count": 24,
   "metadata": {
    "collapsed": false
   },
   "outputs": [
    {
     "data": {
      "text/plain": [
       "0"
      ]
     },
     "execution_count": 24,
     "metadata": {},
     "output_type": "execute_result"
    }
   ],
   "source": [
    "len(created)"
   ]
  },
  {
   "cell_type": "code",
   "execution_count": 25,
   "metadata": {
    "collapsed": true
   },
   "outputs": [],
   "source": [
    "if created:\n",
    "    replicates.to_excel('/tmp/replicates.xlsx', index=False)"
   ]
  },
  {
   "cell_type": "markdown",
   "metadata": {},
   "source": [
    "# Create Manifest"
   ]
  },
  {
   "cell_type": "code",
   "execution_count": 26,
   "metadata": {
    "collapsed": true
   },
   "outputs": [],
   "source": [
    "def make_manifest(spreadsheet_name, submission_name, submission_root, map_name):\n",
    "    book = gcat.get_file(spreadsheet_name, fmt='pandas_excel')\n",
    "    libraries = book.parse('Libraries')\n",
    "    replicates = book.parse('Replicates')\n",
    "    \n",
    "    pongo = paramiko.SSHClient()\n",
    "    pongo.set_missing_host_key_policy(paramiko.WarningPolicy())\n",
    "    pongo.connect('pongo.cacr.caltech.edu', username='diane')\n",
    "    sftp = pongo.open_sftp()\n",
    "    sftp.chdir(submission_root)\n",
    "    files = 0\n",
    "    for line in sftp.open(map_name):\n",
    "        # skip comments\n",
    "        line = line.strip()\n",
    "        if len(line) == 0 or line.startswith('#'):\n",
    "            continue\n",
    "\n",
    "        library_id, dirname = line.split()\n",
    "        alias = 'barbara-wold:{}'.format(library_id)\n",
    "        library_row = libraries[libraries['aliases:array'] == alias]\n",
    "        replicate_row = replicates[replicates['library'] == alias]\n",
    "        for filename in sftp.listdir(dirname):\n",
    "            if filename.endswith('fastq.gz'):\n",
    "                relative_path = os.path.join(dirname, filename)\n",
    "                metadata = {\n",
    "                    'dataset': list(replicate_row['experiment'])[0],\n",
    "                    'submitted_file_name': relative_path,\n",
    "                    'replicate': list(replicate_row['uuid'])[0],\n",
    "                    'lab': list(library_row['lab'])[0],\n",
    "                    'award': list(library_row['award'])[0],\n",
    "                }\n",
    "                #display.display_pretty(metadata)\n",
    "                print('<http://jumpgate.caltech.edu/wiki/SubmissionsLog/{}#{}>'.format(submission_name, dirname))\n",
    "                print('  encode3:dataset \"{}\" ;'.format(metadata['dataset']))\n",
    "                print('  encode3:replicate \"{}\" ;'.format(metadata['replicate']))\n",
    "                print('  encode3:lab \"{}\" ;'.format(metadata['lab']))\n",
    "                print('  encode3:award \"{}\" .'.format(metadata['award']))\n",
    "\n",
    "                print('<file:///woldlab/castor/home/diane/proj/submission/{}/{}>'.format(submission_name, relative_path))\n",
    "                print('  encode3:output_type \"reads\" ;')\n",
    "                print('  encode3:file_format \"fastq\" .')\n",
    "                files += 1\n",
    "\n",
    "    print('generated {} records'.format(files))\n"
   ]
  },
  {
   "cell_type": "code",
   "execution_count": 27,
   "metadata": {
    "collapsed": false
   },
   "outputs": [
    {
     "name": "stderr",
     "output_type": "stream",
     "text": [
      "/usr/lib/python3/dist-packages/paramiko/client.py:658: UserWarning: Unknown ssh-rsa host key for pongo.cacr.caltech.edu: b'6833531597d6176b45c27f33e9406a12'\n",
      "  (key.get_name(), hostname, hexlify(key.get_fingerprint())))\n"
     ]
    },
    {
     "name": "stdout",
     "output_type": "stream",
     "text": [
      "<http://jumpgate.caltech.edu/wiki/SubmissionsLog/encode-201604#16922>\n",
      "  encode3:dataset \"ENCSR647QBV\" ;\n",
      "  encode3:replicate \"3d27f8a5-bc57-4864-9220-35c81e4ec94d\" ;\n",
      "  encode3:lab \"barbara-wold\" ;\n",
      "  encode3:award \"U54HG006998\" .\n",
      "<file:///woldlab/castor/home/diane/proj/submission/encode-201604/16922/16922_HLHGNBCXX_c101_l1.fastq.gz>\n",
      "  encode3:output_type \"reads\" ;\n",
      "  encode3:file_format \"fastq\" .\n",
      "<http://jumpgate.caltech.edu/wiki/SubmissionsLog/encode-201604#16922>\n",
      "  encode3:dataset \"ENCSR647QBV\" ;\n",
      "  encode3:replicate \"3d27f8a5-bc57-4864-9220-35c81e4ec94d\" ;\n",
      "  encode3:lab \"barbara-wold\" ;\n",
      "  encode3:award \"U54HG006998\" .\n",
      "<file:///woldlab/castor/home/diane/proj/submission/encode-201604/16922/16922_HLHGNBCXX_c116_l2.fastq.gz>\n",
      "  encode3:output_type \"reads\" ;\n",
      "  encode3:file_format \"fastq\" .\n",
      "<http://jumpgate.caltech.edu/wiki/SubmissionsLog/encode-201604#16923>\n",
      "  encode3:dataset \"ENCSR647QBV\" ;\n",
      "  encode3:replicate \"891a2a57-8add-4e1a-ac0b-fc0c45c0c5ec\" ;\n",
      "  encode3:lab \"barbara-wold\" ;\n",
      "  encode3:award \"U54HG006998\" .\n",
      "<file:///woldlab/castor/home/diane/proj/submission/encode-201604/16923/16923_HLHGNBCXX_c101_l1.fastq.gz>\n",
      "  encode3:output_type \"reads\" ;\n",
      "  encode3:file_format \"fastq\" .\n",
      "<http://jumpgate.caltech.edu/wiki/SubmissionsLog/encode-201604#16923>\n",
      "  encode3:dataset \"ENCSR647QBV\" ;\n",
      "  encode3:replicate \"891a2a57-8add-4e1a-ac0b-fc0c45c0c5ec\" ;\n",
      "  encode3:lab \"barbara-wold\" ;\n",
      "  encode3:award \"U54HG006998\" .\n",
      "<file:///woldlab/castor/home/diane/proj/submission/encode-201604/16923/16923_HLHGNBCXX_c116_l2.fastq.gz>\n",
      "  encode3:output_type \"reads\" ;\n",
      "  encode3:file_format \"fastq\" .\n",
      "<http://jumpgate.caltech.edu/wiki/SubmissionsLog/encode-201604#16924>\n",
      "  encode3:dataset \"ENCSR908JWT\" ;\n",
      "  encode3:replicate \"6c2e5c03-70eb-4938-be64-9925f66dc1d2\" ;\n",
      "  encode3:lab \"barbara-wold\" ;\n",
      "  encode3:award \"U54HG006998\" .\n",
      "<file:///woldlab/castor/home/diane/proj/submission/encode-201604/16924/16924_HLHGNBCXX_c116_l2.fastq.gz>\n",
      "  encode3:output_type \"reads\" ;\n",
      "  encode3:file_format \"fastq\" .\n",
      "<http://jumpgate.caltech.edu/wiki/SubmissionsLog/encode-201604#16924>\n",
      "  encode3:dataset \"ENCSR908JWT\" ;\n",
      "  encode3:replicate \"6c2e5c03-70eb-4938-be64-9925f66dc1d2\" ;\n",
      "  encode3:lab \"barbara-wold\" ;\n",
      "  encode3:award \"U54HG006998\" .\n",
      "<file:///woldlab/castor/home/diane/proj/submission/encode-201604/16924/16924_HLHGNBCXX_c101_l1.fastq.gz>\n",
      "  encode3:output_type \"reads\" ;\n",
      "  encode3:file_format \"fastq\" .\n",
      "<http://jumpgate.caltech.edu/wiki/SubmissionsLog/encode-201604#16925>\n",
      "  encode3:dataset \"ENCSR908JWT\" ;\n",
      "  encode3:replicate \"9a14ccaf-9819-480b-8684-73bbbdf3c90f\" ;\n",
      "  encode3:lab \"barbara-wold\" ;\n",
      "  encode3:award \"U54HG006998\" .\n",
      "<file:///woldlab/castor/home/diane/proj/submission/encode-201604/16925/16925_HLHGNBCXX_c116_l2.fastq.gz>\n",
      "  encode3:output_type \"reads\" ;\n",
      "  encode3:file_format \"fastq\" .\n",
      "<http://jumpgate.caltech.edu/wiki/SubmissionsLog/encode-201604#16925>\n",
      "  encode3:dataset \"ENCSR908JWT\" ;\n",
      "  encode3:replicate \"9a14ccaf-9819-480b-8684-73bbbdf3c90f\" ;\n",
      "  encode3:lab \"barbara-wold\" ;\n",
      "  encode3:award \"U54HG006998\" .\n",
      "<file:///woldlab/castor/home/diane/proj/submission/encode-201604/16925/16925_HLHGNBCXX_c101_l1.fastq.gz>\n",
      "  encode3:output_type \"reads\" ;\n",
      "  encode3:file_format \"fastq\" .\n",
      "<http://jumpgate.caltech.edu/wiki/SubmissionsLog/encode-201604#16926>\n",
      "  encode3:dataset \"ENCSR420QTO\" ;\n",
      "  encode3:replicate \"99d9a36e-7836-4d8e-98e9-90b4966fa03d\" ;\n",
      "  encode3:lab \"barbara-wold\" ;\n",
      "  encode3:award \"U54HG006998\" .\n",
      "<file:///woldlab/castor/home/diane/proj/submission/encode-201604/16926/16926_HLHGNBCXX_c116_l2.fastq.gz>\n",
      "  encode3:output_type \"reads\" ;\n",
      "  encode3:file_format \"fastq\" .\n",
      "<http://jumpgate.caltech.edu/wiki/SubmissionsLog/encode-201604#16926>\n",
      "  encode3:dataset \"ENCSR420QTO\" ;\n",
      "  encode3:replicate \"99d9a36e-7836-4d8e-98e9-90b4966fa03d\" ;\n",
      "  encode3:lab \"barbara-wold\" ;\n",
      "  encode3:award \"U54HG006998\" .\n",
      "<file:///woldlab/castor/home/diane/proj/submission/encode-201604/16926/16926_HLHGNBCXX_c101_l1.fastq.gz>\n",
      "  encode3:output_type \"reads\" ;\n",
      "  encode3:file_format \"fastq\" .\n",
      "<http://jumpgate.caltech.edu/wiki/SubmissionsLog/encode-201604#16927>\n",
      "  encode3:dataset \"ENCSR420QTO\" ;\n",
      "  encode3:replicate \"012254a9-1cc8-4d61-bce9-d45f491cfb63\" ;\n",
      "  encode3:lab \"barbara-wold\" ;\n",
      "  encode3:award \"U54HG006998\" .\n",
      "<file:///woldlab/castor/home/diane/proj/submission/encode-201604/16927/16927_HLHGNBCXX_c116_l2.fastq.gz>\n",
      "  encode3:output_type \"reads\" ;\n",
      "  encode3:file_format \"fastq\" .\n",
      "<http://jumpgate.caltech.edu/wiki/SubmissionsLog/encode-201604#16927>\n",
      "  encode3:dataset \"ENCSR420QTO\" ;\n",
      "  encode3:replicate \"012254a9-1cc8-4d61-bce9-d45f491cfb63\" ;\n",
      "  encode3:lab \"barbara-wold\" ;\n",
      "  encode3:award \"U54HG006998\" .\n",
      "<file:///woldlab/castor/home/diane/proj/submission/encode-201604/16927/16927_HLHGNBCXX_c101_l1.fastq.gz>\n",
      "  encode3:output_type \"reads\" ;\n",
      "  encode3:file_format \"fastq\" .\n",
      "<http://jumpgate.caltech.edu/wiki/SubmissionsLog/encode-201604#16928>\n",
      "  encode3:dataset \"ENCSR150CUE\" ;\n",
      "  encode3:replicate \"216cad12-2277-4aa7-a3fd-6b2899be4f33\" ;\n",
      "  encode3:lab \"barbara-wold\" ;\n",
      "  encode3:award \"U54HG006998\" .\n",
      "<file:///woldlab/castor/home/diane/proj/submission/encode-201604/16928/16928_HLHGNBCXX_c101_l1.fastq.gz>\n",
      "  encode3:output_type \"reads\" ;\n",
      "  encode3:file_format \"fastq\" .\n",
      "<http://jumpgate.caltech.edu/wiki/SubmissionsLog/encode-201604#16928>\n",
      "  encode3:dataset \"ENCSR150CUE\" ;\n",
      "  encode3:replicate \"216cad12-2277-4aa7-a3fd-6b2899be4f33\" ;\n",
      "  encode3:lab \"barbara-wold\" ;\n",
      "  encode3:award \"U54HG006998\" .\n",
      "<file:///woldlab/castor/home/diane/proj/submission/encode-201604/16928/16928_HLHGNBCXX_c116_l2.fastq.gz>\n",
      "  encode3:output_type \"reads\" ;\n",
      "  encode3:file_format \"fastq\" .\n",
      "<http://jumpgate.caltech.edu/wiki/SubmissionsLog/encode-201604#16929>\n",
      "  encode3:dataset \"ENCSR150CUE\" ;\n",
      "  encode3:replicate \"c7e50078-9d65-4c73-b6b3-bbe8327eeabe\" ;\n",
      "  encode3:lab \"barbara-wold\" ;\n",
      "  encode3:award \"U54HG006998\" .\n",
      "<file:///woldlab/castor/home/diane/proj/submission/encode-201604/16929/16929_HLGVVBCXX_c116_l2.fastq.gz>\n",
      "  encode3:output_type \"reads\" ;\n",
      "  encode3:file_format \"fastq\" .\n",
      "<http://jumpgate.caltech.edu/wiki/SubmissionsLog/encode-201604#16929>\n",
      "  encode3:dataset \"ENCSR150CUE\" ;\n",
      "  encode3:replicate \"c7e50078-9d65-4c73-b6b3-bbe8327eeabe\" ;\n",
      "  encode3:lab \"barbara-wold\" ;\n",
      "  encode3:award \"U54HG006998\" .\n",
      "<file:///woldlab/castor/home/diane/proj/submission/encode-201604/16929/16929_HLGVVBCXX_c101_l1.fastq.gz>\n",
      "  encode3:output_type \"reads\" ;\n",
      "  encode3:file_format \"fastq\" .\n",
      "<http://jumpgate.caltech.edu/wiki/SubmissionsLog/encode-201604#16930>\n",
      "  encode3:dataset \"ENCSR750YSX\" ;\n",
      "  encode3:replicate \"ff064ca3-a9ff-4341-bf25-589780846cf6\" ;\n",
      "  encode3:lab \"barbara-wold\" ;\n",
      "  encode3:award \"U54HG006998\" .\n",
      "<file:///woldlab/castor/home/diane/proj/submission/encode-201604/16930/16930_HLGVVBCXX_c116_l2.fastq.gz>\n",
      "  encode3:output_type \"reads\" ;\n",
      "  encode3:file_format \"fastq\" .\n",
      "<http://jumpgate.caltech.edu/wiki/SubmissionsLog/encode-201604#16930>\n",
      "  encode3:dataset \"ENCSR750YSX\" ;\n",
      "  encode3:replicate \"ff064ca3-a9ff-4341-bf25-589780846cf6\" ;\n",
      "  encode3:lab \"barbara-wold\" ;\n",
      "  encode3:award \"U54HG006998\" .\n",
      "<file:///woldlab/castor/home/diane/proj/submission/encode-201604/16930/16930_HLGVVBCXX_c101_l1.fastq.gz>\n",
      "  encode3:output_type \"reads\" ;\n",
      "  encode3:file_format \"fastq\" .\n",
      "<http://jumpgate.caltech.edu/wiki/SubmissionsLog/encode-201604#16931>\n",
      "  encode3:dataset \"ENCSR750YSX\" ;\n",
      "  encode3:replicate \"a12bdf71-236c-4de0-a7a7-b5d680349ce8\" ;\n",
      "  encode3:lab \"barbara-wold\" ;\n",
      "  encode3:award \"U54HG006998\" .\n",
      "<file:///woldlab/castor/home/diane/proj/submission/encode-201604/16931/16931_HLGVVBCXX_c116_l2.fastq.gz>\n",
      "  encode3:output_type \"reads\" ;\n",
      "  encode3:file_format \"fastq\" .\n",
      "<http://jumpgate.caltech.edu/wiki/SubmissionsLog/encode-201604#16931>\n",
      "  encode3:dataset \"ENCSR750YSX\" ;\n",
      "  encode3:replicate \"a12bdf71-236c-4de0-a7a7-b5d680349ce8\" ;\n",
      "  encode3:lab \"barbara-wold\" ;\n",
      "  encode3:award \"U54HG006998\" .\n",
      "<file:///woldlab/castor/home/diane/proj/submission/encode-201604/16931/16931_HLGVVBCXX_c101_l1.fastq.gz>\n",
      "  encode3:output_type \"reads\" ;\n",
      "  encode3:file_format \"fastq\" .\n",
      "<http://jumpgate.caltech.edu/wiki/SubmissionsLog/encode-201604#16932>\n",
      "  encode3:dataset \"ENCSR851HEC\" ;\n",
      "  encode3:replicate \"5680640a-a6e6-4762-82da-2787f0f07fec\" ;\n",
      "  encode3:lab \"barbara-wold\" ;\n",
      "  encode3:award \"U54HG006998\" .\n",
      "<file:///woldlab/castor/home/diane/proj/submission/encode-201604/16932/16932_HLGVVBCXX_c101_l1.fastq.gz>\n",
      "  encode3:output_type \"reads\" ;\n",
      "  encode3:file_format \"fastq\" .\n",
      "<http://jumpgate.caltech.edu/wiki/SubmissionsLog/encode-201604#16932>\n",
      "  encode3:dataset \"ENCSR851HEC\" ;\n",
      "  encode3:replicate \"5680640a-a6e6-4762-82da-2787f0f07fec\" ;\n",
      "  encode3:lab \"barbara-wold\" ;\n",
      "  encode3:award \"U54HG006998\" .\n",
      "<file:///woldlab/castor/home/diane/proj/submission/encode-201604/16932/16932_HLGVVBCXX_c116_l2.fastq.gz>\n",
      "  encode3:output_type \"reads\" ;\n",
      "  encode3:file_format \"fastq\" .\n",
      "<http://jumpgate.caltech.edu/wiki/SubmissionsLog/encode-201604#16933>\n",
      "  encode3:dataset \"ENCSR851HEC\" ;\n",
      "  encode3:replicate \"6a55a1c2-dbca-473c-93e9-d88c3f2cf4c3\" ;\n",
      "  encode3:lab \"barbara-wold\" ;\n",
      "  encode3:award \"U54HG006998\" .\n",
      "<file:///woldlab/castor/home/diane/proj/submission/encode-201604/16933/16933_HLGVVBCXX_c116_l2.fastq.gz>\n",
      "  encode3:output_type \"reads\" ;\n",
      "  encode3:file_format \"fastq\" .\n",
      "<http://jumpgate.caltech.edu/wiki/SubmissionsLog/encode-201604#16933>\n",
      "  encode3:dataset \"ENCSR851HEC\" ;\n",
      "  encode3:replicate \"6a55a1c2-dbca-473c-93e9-d88c3f2cf4c3\" ;\n",
      "  encode3:lab \"barbara-wold\" ;\n",
      "  encode3:award \"U54HG006998\" .\n",
      "<file:///woldlab/castor/home/diane/proj/submission/encode-201604/16933/16933_HLGVVBCXX_c101_l1.fastq.gz>\n",
      "  encode3:output_type \"reads\" ;\n",
      "  encode3:file_format \"fastq\" .\n",
      "<http://jumpgate.caltech.edu/wiki/SubmissionsLog/encode-201604#16934>\n",
      "  encode3:dataset \"ENCSR648YEP\" ;\n",
      "  encode3:replicate \"c25fe6d9-d01f-40fc-9941-b5713c54aca5\" ;\n",
      "  encode3:lab \"barbara-wold\" ;\n",
      "  encode3:award \"U54HG006998\" .\n",
      "<file:///woldlab/castor/home/diane/proj/submission/encode-201604/16934/16934_HLGVVBCXX_c101_l1.fastq.gz>\n",
      "  encode3:output_type \"reads\" ;\n",
      "  encode3:file_format \"fastq\" .\n",
      "<http://jumpgate.caltech.edu/wiki/SubmissionsLog/encode-201604#16934>\n",
      "  encode3:dataset \"ENCSR648YEP\" ;\n",
      "  encode3:replicate \"c25fe6d9-d01f-40fc-9941-b5713c54aca5\" ;\n",
      "  encode3:lab \"barbara-wold\" ;\n",
      "  encode3:award \"U54HG006998\" .\n",
      "<file:///woldlab/castor/home/diane/proj/submission/encode-201604/16934/16934_HLGVVBCXX_c116_l2.fastq.gz>\n",
      "  encode3:output_type \"reads\" ;\n",
      "  encode3:file_format \"fastq\" .\n",
      "<http://jumpgate.caltech.edu/wiki/SubmissionsLog/encode-201604#16935>\n",
      "  encode3:dataset \"ENCSR648YEP\" ;\n",
      "  encode3:replicate \"b821029e-de1b-4152-9f4c-c59c4ddeeef8\" ;\n",
      "  encode3:lab \"barbara-wold\" ;\n",
      "  encode3:award \"U54HG006998\" .\n",
      "<file:///woldlab/castor/home/diane/proj/submission/encode-201604/16935/16935_HLGVVBCXX_c116_l2.fastq.gz>\n",
      "  encode3:output_type \"reads\" ;\n",
      "  encode3:file_format \"fastq\" .\n",
      "<http://jumpgate.caltech.edu/wiki/SubmissionsLog/encode-201604#16935>\n",
      "  encode3:dataset \"ENCSR648YEP\" ;\n",
      "  encode3:replicate \"b821029e-de1b-4152-9f4c-c59c4ddeeef8\" ;\n",
      "  encode3:lab \"barbara-wold\" ;\n",
      "  encode3:award \"U54HG006998\" .\n",
      "<file:///woldlab/castor/home/diane/proj/submission/encode-201604/16935/16935_HLGVVBCXX_c101_l1.fastq.gz>\n",
      "  encode3:output_type \"reads\" ;\n",
      "  encode3:file_format \"fastq\" .\n",
      "<http://jumpgate.caltech.edu/wiki/SubmissionsLog/encode-201604#16936>\n",
      "  encode3:dataset \"ENCSR508GWZ\" ;\n",
      "  encode3:replicate \"124cd09f-4593-41e8-a366-5f76d37a0594\" ;\n",
      "  encode3:lab \"barbara-wold\" ;\n",
      "  encode3:award \"U54HG006998\" .\n",
      "<file:///woldlab/castor/home/diane/proj/submission/encode-201604/16936/16936_HLHJMBCXX_c101_l1.fastq.gz>\n",
      "  encode3:output_type \"reads\" ;\n",
      "  encode3:file_format \"fastq\" .\n",
      "<http://jumpgate.caltech.edu/wiki/SubmissionsLog/encode-201604#16936>\n",
      "  encode3:dataset \"ENCSR508GWZ\" ;\n",
      "  encode3:replicate \"124cd09f-4593-41e8-a366-5f76d37a0594\" ;\n",
      "  encode3:lab \"barbara-wold\" ;\n",
      "  encode3:award \"U54HG006998\" .\n",
      "<file:///woldlab/castor/home/diane/proj/submission/encode-201604/16936/16936_HLHJMBCXX_c116_l2.fastq.gz>\n",
      "  encode3:output_type \"reads\" ;\n",
      "  encode3:file_format \"fastq\" .\n",
      "<http://jumpgate.caltech.edu/wiki/SubmissionsLog/encode-201604#16937>\n",
      "  encode3:dataset \"ENCSR508GWZ\" ;\n",
      "  encode3:replicate \"6b92dd28-cfe7-4059-b30c-7810f87e741d\" ;\n",
      "  encode3:lab \"barbara-wold\" ;\n",
      "  encode3:award \"U54HG006998\" .\n",
      "<file:///woldlab/castor/home/diane/proj/submission/encode-201604/16937/16937_HLHJMBCXX_c116_l2.fastq.gz>\n",
      "  encode3:output_type \"reads\" ;\n",
      "  encode3:file_format \"fastq\" .\n",
      "<http://jumpgate.caltech.edu/wiki/SubmissionsLog/encode-201604#16937>\n",
      "  encode3:dataset \"ENCSR508GWZ\" ;\n",
      "  encode3:replicate \"6b92dd28-cfe7-4059-b30c-7810f87e741d\" ;\n",
      "  encode3:lab \"barbara-wold\" ;\n",
      "  encode3:award \"U54HG006998\" .\n",
      "<file:///woldlab/castor/home/diane/proj/submission/encode-201604/16937/16937_HLHJMBCXX_c101_l1.fastq.gz>\n",
      "  encode3:output_type \"reads\" ;\n",
      "  encode3:file_format \"fastq\" .\n",
      "<http://jumpgate.caltech.edu/wiki/SubmissionsLog/encode-201604#16938>\n",
      "  encode3:dataset \"ENCSR889TRN\" ;\n",
      "  encode3:replicate \"1eece64f-2165-4026-b5b2-b4bbd306ce48\" ;\n",
      "  encode3:lab \"barbara-wold\" ;\n",
      "  encode3:award \"U54HG006998\" .\n",
      "<file:///woldlab/castor/home/diane/proj/submission/encode-201604/16938/16938_HLHJMBCXX_c101_l1.fastq.gz>\n",
      "  encode3:output_type \"reads\" ;\n",
      "  encode3:file_format \"fastq\" .\n",
      "<http://jumpgate.caltech.edu/wiki/SubmissionsLog/encode-201604#16938>\n",
      "  encode3:dataset \"ENCSR889TRN\" ;\n",
      "  encode3:replicate \"1eece64f-2165-4026-b5b2-b4bbd306ce48\" ;\n",
      "  encode3:lab \"barbara-wold\" ;\n",
      "  encode3:award \"U54HG006998\" .\n",
      "<file:///woldlab/castor/home/diane/proj/submission/encode-201604/16938/16938_HLHJMBCXX_c116_l2.fastq.gz>\n",
      "  encode3:output_type \"reads\" ;\n",
      "  encode3:file_format \"fastq\" .\n",
      "<http://jumpgate.caltech.edu/wiki/SubmissionsLog/encode-201604#16939>\n",
      "  encode3:dataset \"ENCSR889TRN\" ;\n",
      "  encode3:replicate \"723bd077-409a-4c59-a3d2-0af0ce838b65\" ;\n",
      "  encode3:lab \"barbara-wold\" ;\n",
      "  encode3:award \"U54HG006998\" .\n",
      "<file:///woldlab/castor/home/diane/proj/submission/encode-201604/16939/16939_HLHJMBCXX_c101_l1.fastq.gz>\n",
      "  encode3:output_type \"reads\" ;\n",
      "  encode3:file_format \"fastq\" .\n",
      "<http://jumpgate.caltech.edu/wiki/SubmissionsLog/encode-201604#16939>\n",
      "  encode3:dataset \"ENCSR889TRN\" ;\n",
      "  encode3:replicate \"723bd077-409a-4c59-a3d2-0af0ce838b65\" ;\n",
      "  encode3:lab \"barbara-wold\" ;\n",
      "  encode3:award \"U54HG006998\" .\n",
      "<file:///woldlab/castor/home/diane/proj/submission/encode-201604/16939/16939_HLHJMBCXX_c116_l2.fastq.gz>\n",
      "  encode3:output_type \"reads\" ;\n",
      "  encode3:file_format \"fastq\" .\n",
      "<http://jumpgate.caltech.edu/wiki/SubmissionsLog/encode-201604#16940>\n",
      "  encode3:dataset \"ENCSR510QZW\" ;\n",
      "  encode3:replicate \"6c73b54a-7adb-4ad0-a086-abdfe22ac59a\" ;\n",
      "  encode3:lab \"barbara-wold\" ;\n",
      "  encode3:award \"U54HG006998\" .\n",
      "<file:///woldlab/castor/home/diane/proj/submission/encode-201604/16940/16940_HLHJMBCXX_c116_l2.fastq.gz>\n",
      "  encode3:output_type \"reads\" ;\n",
      "  encode3:file_format \"fastq\" .\n",
      "<http://jumpgate.caltech.edu/wiki/SubmissionsLog/encode-201604#16940>\n",
      "  encode3:dataset \"ENCSR510QZW\" ;\n",
      "  encode3:replicate \"6c73b54a-7adb-4ad0-a086-abdfe22ac59a\" ;\n",
      "  encode3:lab \"barbara-wold\" ;\n",
      "  encode3:award \"U54HG006998\" .\n",
      "<file:///woldlab/castor/home/diane/proj/submission/encode-201604/16940/16940_HLHJMBCXX_c101_l1.fastq.gz>\n",
      "  encode3:output_type \"reads\" ;\n",
      "  encode3:file_format \"fastq\" .\n",
      "<http://jumpgate.caltech.edu/wiki/SubmissionsLog/encode-201604#16941>\n",
      "  encode3:dataset \"ENCSR748GVH\" ;\n",
      "  encode3:replicate \"c8bd1d99-43b5-43bf-84d1-ba8f5a739116\" ;\n",
      "  encode3:lab \"barbara-wold\" ;\n",
      "  encode3:award \"U54HG006998\" .\n",
      "<file:///woldlab/castor/home/diane/proj/submission/encode-201604/16941/16941_HLHJMBCXX_c116_l2.fastq.gz>\n",
      "  encode3:output_type \"reads\" ;\n",
      "  encode3:file_format \"fastq\" .\n",
      "<http://jumpgate.caltech.edu/wiki/SubmissionsLog/encode-201604#16941>\n",
      "  encode3:dataset \"ENCSR748GVH\" ;\n",
      "  encode3:replicate \"c8bd1d99-43b5-43bf-84d1-ba8f5a739116\" ;\n",
      "  encode3:lab \"barbara-wold\" ;\n",
      "  encode3:award \"U54HG006998\" .\n",
      "<file:///woldlab/castor/home/diane/proj/submission/encode-201604/16941/16941_HLHJMBCXX_c101_l1.fastq.gz>\n",
      "  encode3:output_type \"reads\" ;\n",
      "  encode3:file_format \"fastq\" .\n",
      "<http://jumpgate.caltech.edu/wiki/SubmissionsLog/encode-201604#16942>\n",
      "  encode3:dataset \"ENCSR023VVO\" ;\n",
      "  encode3:replicate \"d0984bb0-78a6-4227-9b07-f7dcd23b1ec1\" ;\n",
      "  encode3:lab \"barbara-wold\" ;\n",
      "  encode3:award \"U54HG006998\" .\n",
      "<file:///woldlab/castor/home/diane/proj/submission/encode-201604/16942/16942_HLHJMBCXX_c101_l1.fastq.gz>\n",
      "  encode3:output_type \"reads\" ;\n",
      "  encode3:file_format \"fastq\" .\n",
      "<http://jumpgate.caltech.edu/wiki/SubmissionsLog/encode-201604#16942>\n",
      "  encode3:dataset \"ENCSR023VVO\" ;\n",
      "  encode3:replicate \"d0984bb0-78a6-4227-9b07-f7dcd23b1ec1\" ;\n",
      "  encode3:lab \"barbara-wold\" ;\n",
      "  encode3:award \"U54HG006998\" .\n",
      "<file:///woldlab/castor/home/diane/proj/submission/encode-201604/16942/16942_HLHJMBCXX_c116_l2.fastq.gz>\n",
      "  encode3:output_type \"reads\" ;\n",
      "  encode3:file_format \"fastq\" .\n",
      "<http://jumpgate.caltech.edu/wiki/SubmissionsLog/encode-201604#16943>\n",
      "  encode3:dataset \"ENCSR510QZW\" ;\n",
      "  encode3:replicate \"d991beb2-7645-47b8-a849-d59a05441864\" ;\n",
      "  encode3:lab \"barbara-wold\" ;\n",
      "  encode3:award \"U54HG006998\" .\n",
      "<file:///woldlab/castor/home/diane/proj/submission/encode-201604/16943/16943_HLGH2BCXX_c101_l1.fastq.gz>\n",
      "  encode3:output_type \"reads\" ;\n",
      "  encode3:file_format \"fastq\" .\n",
      "<http://jumpgate.caltech.edu/wiki/SubmissionsLog/encode-201604#16943>\n",
      "  encode3:dataset \"ENCSR510QZW\" ;\n",
      "  encode3:replicate \"d991beb2-7645-47b8-a849-d59a05441864\" ;\n",
      "  encode3:lab \"barbara-wold\" ;\n",
      "  encode3:award \"U54HG006998\" .\n",
      "<file:///woldlab/castor/home/diane/proj/submission/encode-201604/16943/16943_HLGH2BCXX_c116_l2.fastq.gz>\n",
      "  encode3:output_type \"reads\" ;\n",
      "  encode3:file_format \"fastq\" .\n",
      "<http://jumpgate.caltech.edu/wiki/SubmissionsLog/encode-201604#16944>\n",
      "  encode3:dataset \"ENCSR748GVH\" ;\n",
      "  encode3:replicate \"3df6717b-1625-4599-99e5-30147c4b9479\" ;\n",
      "  encode3:lab \"barbara-wold\" ;\n",
      "  encode3:award \"U54HG006998\" .\n",
      "<file:///woldlab/castor/home/diane/proj/submission/encode-201604/16944/16944_HLGH2BCXX_c101_l1.fastq.gz>\n",
      "  encode3:output_type \"reads\" ;\n",
      "  encode3:file_format \"fastq\" .\n",
      "<http://jumpgate.caltech.edu/wiki/SubmissionsLog/encode-201604#16944>\n",
      "  encode3:dataset \"ENCSR748GVH\" ;\n",
      "  encode3:replicate \"3df6717b-1625-4599-99e5-30147c4b9479\" ;\n",
      "  encode3:lab \"barbara-wold\" ;\n",
      "  encode3:award \"U54HG006998\" .\n",
      "<file:///woldlab/castor/home/diane/proj/submission/encode-201604/16944/16944_HLGH2BCXX_c116_l2.fastq.gz>\n",
      "  encode3:output_type \"reads\" ;\n",
      "  encode3:file_format \"fastq\" .\n",
      "<http://jumpgate.caltech.edu/wiki/SubmissionsLog/encode-201604#16945>\n",
      "  encode3:dataset \"ENCSR023VVO\" ;\n",
      "  encode3:replicate \"2d0f88b6-6183-44f0-aaf1-31db32d3287d\" ;\n",
      "  encode3:lab \"barbara-wold\" ;\n",
      "  encode3:award \"U54HG006998\" .\n",
      "<file:///woldlab/castor/home/diane/proj/submission/encode-201604/16945/16945_HLGH2BCXX_c116_l2.fastq.gz>\n",
      "  encode3:output_type \"reads\" ;\n",
      "  encode3:file_format \"fastq\" .\n",
      "<http://jumpgate.caltech.edu/wiki/SubmissionsLog/encode-201604#16945>\n",
      "  encode3:dataset \"ENCSR023VVO\" ;\n",
      "  encode3:replicate \"2d0f88b6-6183-44f0-aaf1-31db32d3287d\" ;\n",
      "  encode3:lab \"barbara-wold\" ;\n",
      "  encode3:award \"U54HG006998\" .\n",
      "<file:///woldlab/castor/home/diane/proj/submission/encode-201604/16945/16945_HLGH2BCXX_c101_l1.fastq.gz>\n",
      "  encode3:output_type \"reads\" ;\n",
      "  encode3:file_format \"fastq\" .\n",
      "<http://jumpgate.caltech.edu/wiki/SubmissionsLog/encode-201604#16948>\n",
      "  encode3:dataset \"ENCSR843RJV\" ;\n",
      "  encode3:replicate \"513d6171-0092-4ac4-b02f-97358b264270\" ;\n",
      "  encode3:lab \"barbara-wold\" ;\n",
      "  encode3:award \"U54HG006998\" .\n",
      "<file:///woldlab/castor/home/diane/proj/submission/encode-201604/16948/16948_HLGH2BCXX_c116_l2.fastq.gz>\n",
      "  encode3:output_type \"reads\" ;\n",
      "  encode3:file_format \"fastq\" .\n",
      "<http://jumpgate.caltech.edu/wiki/SubmissionsLog/encode-201604#16948>\n",
      "  encode3:dataset \"ENCSR843RJV\" ;\n",
      "  encode3:replicate \"513d6171-0092-4ac4-b02f-97358b264270\" ;\n",
      "  encode3:lab \"barbara-wold\" ;\n",
      "  encode3:award \"U54HG006998\" .\n",
      "<file:///woldlab/castor/home/diane/proj/submission/encode-201604/16948/16948_HLGH2BCXX_c101_l1.fastq.gz>\n",
      "  encode3:output_type \"reads\" ;\n",
      "  encode3:file_format \"fastq\" .\n",
      "<http://jumpgate.caltech.edu/wiki/SubmissionsLog/encode-201604#16949>\n",
      "  encode3:dataset \"ENCSR843RJV\" ;\n",
      "  encode3:replicate \"9a10bf4f-8bb7-4ce8-9777-595b28d6b78b\" ;\n",
      "  encode3:lab \"barbara-wold\" ;\n",
      "  encode3:award \"U54HG006998\" .\n",
      "<file:///woldlab/castor/home/diane/proj/submission/encode-201604/16949/16949_HLGH2BCXX_c101_l1.fastq.gz>\n",
      "  encode3:output_type \"reads\" ;\n",
      "  encode3:file_format \"fastq\" .\n",
      "<http://jumpgate.caltech.edu/wiki/SubmissionsLog/encode-201604#16949>\n",
      "  encode3:dataset \"ENCSR843RJV\" ;\n",
      "  encode3:replicate \"9a10bf4f-8bb7-4ce8-9777-595b28d6b78b\" ;\n",
      "  encode3:lab \"barbara-wold\" ;\n",
      "  encode3:award \"U54HG006998\" .\n",
      "<file:///woldlab/castor/home/diane/proj/submission/encode-201604/16949/16949_HLGH2BCXX_c116_l2.fastq.gz>\n",
      "  encode3:output_type \"reads\" ;\n",
      "  encode3:file_format \"fastq\" .\n",
      "<http://jumpgate.caltech.edu/wiki/SubmissionsLog/encode-201604#16950>\n",
      "  encode3:dataset \"ENCSR294NDO\" ;\n",
      "  encode3:replicate \"d510d9bc-5e45-4a41-a0ed-a0679528336a\" ;\n",
      "  encode3:lab \"barbara-wold\" ;\n",
      "  encode3:award \"U54HG006998\" .\n",
      "<file:///woldlab/castor/home/diane/proj/submission/encode-201604/16950/16950_HLGH2BCXX_c101_l1.fastq.gz>\n",
      "  encode3:output_type \"reads\" ;\n",
      "  encode3:file_format \"fastq\" .\n",
      "<http://jumpgate.caltech.edu/wiki/SubmissionsLog/encode-201604#16950>\n",
      "  encode3:dataset \"ENCSR294NDO\" ;\n",
      "  encode3:replicate \"d510d9bc-5e45-4a41-a0ed-a0679528336a\" ;\n",
      "  encode3:lab \"barbara-wold\" ;\n",
      "  encode3:award \"U54HG006998\" .\n",
      "<file:///woldlab/castor/home/diane/proj/submission/encode-201604/16950/16950_HLGH2BCXX_c116_l2.fastq.gz>\n",
      "  encode3:output_type \"reads\" ;\n",
      "  encode3:file_format \"fastq\" .\n",
      "<http://jumpgate.caltech.edu/wiki/SubmissionsLog/encode-201604#16951>\n",
      "  encode3:dataset \"ENCSR294NDO\" ;\n",
      "  encode3:replicate \"59f5be71-b19c-4d91-a62c-a272806b9b81\" ;\n",
      "  encode3:lab \"barbara-wold\" ;\n",
      "  encode3:award \"U54HG006998\" .\n",
      "<file:///woldlab/castor/home/diane/proj/submission/encode-201604/16951/16951_HLGG7BCXX_c116_l2.fastq.gz>\n",
      "  encode3:output_type \"reads\" ;\n",
      "  encode3:file_format \"fastq\" .\n",
      "<http://jumpgate.caltech.edu/wiki/SubmissionsLog/encode-201604#16951>\n",
      "  encode3:dataset \"ENCSR294NDO\" ;\n",
      "  encode3:replicate \"59f5be71-b19c-4d91-a62c-a272806b9b81\" ;\n",
      "  encode3:lab \"barbara-wold\" ;\n",
      "  encode3:award \"U54HG006998\" .\n",
      "<file:///woldlab/castor/home/diane/proj/submission/encode-201604/16951/16951_HLGG7BCXX_c101_l1.fastq.gz>\n",
      "  encode3:output_type \"reads\" ;\n",
      "  encode3:file_format \"fastq\" .\n",
      "<http://jumpgate.caltech.edu/wiki/SubmissionsLog/encode-201604#16954>\n",
      "  encode3:dataset \"ENCSR236URT\" ;\n",
      "  encode3:replicate \"3e6b526c-e974-4224-bc25-a6b864c010b5\" ;\n",
      "  encode3:lab \"barbara-wold\" ;\n",
      "  encode3:award \"U54HG006998\" .\n",
      "<file:///woldlab/castor/home/diane/proj/submission/encode-201604/16954/16954_HLGG7BCXX_c116_l2.fastq.gz>\n",
      "  encode3:output_type \"reads\" ;\n",
      "  encode3:file_format \"fastq\" .\n",
      "<http://jumpgate.caltech.edu/wiki/SubmissionsLog/encode-201604#16954>\n",
      "  encode3:dataset \"ENCSR236URT\" ;\n",
      "  encode3:replicate \"3e6b526c-e974-4224-bc25-a6b864c010b5\" ;\n",
      "  encode3:lab \"barbara-wold\" ;\n",
      "  encode3:award \"U54HG006998\" .\n",
      "<file:///woldlab/castor/home/diane/proj/submission/encode-201604/16954/16954_HLGG7BCXX_c101_l1.fastq.gz>\n",
      "  encode3:output_type \"reads\" ;\n",
      "  encode3:file_format \"fastq\" .\n",
      "<http://jumpgate.caltech.edu/wiki/SubmissionsLog/encode-201604#16955>\n",
      "  encode3:dataset \"ENCSR236URT\" ;\n",
      "  encode3:replicate \"d0707c2c-c8e4-44cf-a9e5-f6ef0fea0f5f\" ;\n",
      "  encode3:lab \"barbara-wold\" ;\n",
      "  encode3:award \"U54HG006998\" .\n",
      "<file:///woldlab/castor/home/diane/proj/submission/encode-201604/16955/16955_HLGG7BCXX_c101_l1.fastq.gz>\n",
      "  encode3:output_type \"reads\" ;\n",
      "  encode3:file_format \"fastq\" .\n",
      "<http://jumpgate.caltech.edu/wiki/SubmissionsLog/encode-201604#16955>\n",
      "  encode3:dataset \"ENCSR236URT\" ;\n",
      "  encode3:replicate \"d0707c2c-c8e4-44cf-a9e5-f6ef0fea0f5f\" ;\n",
      "  encode3:lab \"barbara-wold\" ;\n",
      "  encode3:award \"U54HG006998\" .\n",
      "<file:///woldlab/castor/home/diane/proj/submission/encode-201604/16955/16955_HLGG7BCXX_c116_l2.fastq.gz>\n",
      "  encode3:output_type \"reads\" ;\n",
      "  encode3:file_format \"fastq\" .\n",
      "<http://jumpgate.caltech.edu/wiki/SubmissionsLog/encode-201604#16956>\n",
      "  encode3:dataset \"ENCSR859HWB\" ;\n",
      "  encode3:replicate \"719fe534-91d3-4f4e-ba67-c5f91b2b46b6\" ;\n",
      "  encode3:lab \"barbara-wold\" ;\n",
      "  encode3:award \"U54HG006998\" .\n",
      "<file:///woldlab/castor/home/diane/proj/submission/encode-201604/16956/16956_HLGG7BCXX_c116_l2.fastq.gz>\n",
      "  encode3:output_type \"reads\" ;\n",
      "  encode3:file_format \"fastq\" .\n",
      "<http://jumpgate.caltech.edu/wiki/SubmissionsLog/encode-201604#16956>\n",
      "  encode3:dataset \"ENCSR859HWB\" ;\n",
      "  encode3:replicate \"719fe534-91d3-4f4e-ba67-c5f91b2b46b6\" ;\n",
      "  encode3:lab \"barbara-wold\" ;\n",
      "  encode3:award \"U54HG006998\" .\n",
      "<file:///woldlab/castor/home/diane/proj/submission/encode-201604/16956/16956_HLGG7BCXX_c101_l1.fastq.gz>\n",
      "  encode3:output_type \"reads\" ;\n",
      "  encode3:file_format \"fastq\" .\n",
      "<http://jumpgate.caltech.edu/wiki/SubmissionsLog/encode-201604#16957>\n",
      "  encode3:dataset \"ENCSR859HWB\" ;\n",
      "  encode3:replicate \"409ded9b-f52b-49d0-8123-680b6ebf2202\" ;\n",
      "  encode3:lab \"barbara-wold\" ;\n",
      "  encode3:award \"U54HG006998\" .\n",
      "<file:///woldlab/castor/home/diane/proj/submission/encode-201604/16957/16957_HLGG7BCXX_c116_l2.fastq.gz>\n",
      "  encode3:output_type \"reads\" ;\n",
      "  encode3:file_format \"fastq\" .\n",
      "<http://jumpgate.caltech.edu/wiki/SubmissionsLog/encode-201604#16957>\n",
      "  encode3:dataset \"ENCSR859HWB\" ;\n",
      "  encode3:replicate \"409ded9b-f52b-49d0-8123-680b6ebf2202\" ;\n",
      "  encode3:lab \"barbara-wold\" ;\n",
      "  encode3:award \"U54HG006998\" .\n",
      "<file:///woldlab/castor/home/diane/proj/submission/encode-201604/16957/16957_HLGG7BCXX_c101_l1.fastq.gz>\n",
      "  encode3:output_type \"reads\" ;\n",
      "  encode3:file_format \"fastq\" .\n",
      "generated 64 records\n"
     ]
    }
   ],
   "source": [
    "make_manifest(spreadsheet_name, 'encode-201604', '/home/diane/proj/submission/encode-201604/', 'libs.txt')"
   ]
  },
  {
   "cell_type": "code",
   "execution_count": null,
   "metadata": {
    "collapsed": true
   },
   "outputs": [],
   "source": []
  }
 ],
 "metadata": {
  "kernelspec": {
   "display_name": "Python 3",
   "language": "python",
   "name": "python3"
  },
  "language_info": {
   "codemirror_mode": {
    "name": "ipython",
    "version": 3
   },
   "file_extension": ".py",
   "mimetype": "text/x-python",
   "name": "python",
   "nbconvert_exporter": "python",
   "pygments_lexer": "ipython3",
   "version": "3.5.2+"
  }
 },
 "nbformat": 4,
 "nbformat_minor": 0
}
