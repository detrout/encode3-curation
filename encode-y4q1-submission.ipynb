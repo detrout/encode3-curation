{
 "cells": [
  {
   "cell_type": "markdown",
   "metadata": {},
   "source": [
    "Prepare for y4q1 (Oct-Dec submission)\n",
    "\n",
    "First issue. Starting to register EN-TEC biosamples. which have a fairly complex relationships"
   ]
  },
  {
   "cell_type": "code",
   "execution_count": 1,
   "metadata": {
    "collapsed": false
   },
   "outputs": [],
   "source": [
    "import pandas\n",
    "import gcat\n",
    "import paramiko"
   ]
  },
  {
   "cell_type": "code",
   "execution_count": 2,
   "metadata": {
    "collapsed": true
   },
   "outputs": [],
   "source": [
    "from curation_common import *"
   ]
  },
  {
   "cell_type": "code",
   "execution_count": 3,
   "metadata": {
    "collapsed": true
   },
   "outputs": [],
   "source": [
    "server = ENCODED('www.encodeproject.org')\n",
    "server.load_netrc()"
   ]
  },
  {
   "cell_type": "code",
   "execution_count": 4,
   "metadata": {
    "collapsed": true
   },
   "outputs": [],
   "source": [
    "spreadsheet_name = 'ENCODE Submission for Y4Q1'"
   ]
  },
  {
   "cell_type": "markdown",
   "metadata": {},
   "source": [
    "# Register Biosamples"
   ]
  },
  {
   "cell_type": "code",
   "execution_count": 5,
   "metadata": {
    "collapsed": false
   },
   "outputs": [],
   "source": [
    "y4q1 = gcat.get_file(spreadsheet_name, fmt='pandas_excel')\n",
    "biosample = y4q1.parse('Biosamples', header=0)\n",
    "\n",
    "created = server.post_sheet('/biosamples/', biosample, verbose=True, dry_run=True)"
   ]
  },
  {
   "cell_type": "code",
   "execution_count": 6,
   "metadata": {
    "collapsed": false
   },
   "outputs": [
    {
     "name": "stdout",
     "output_type": "stream",
     "text": [
      "0\n"
     ]
    }
   ],
   "source": [
    "print(len(created))\n",
    "#created"
   ]
  },
  {
   "cell_type": "code",
   "execution_count": 7,
   "metadata": {
    "collapsed": true
   },
   "outputs": [],
   "source": [
    "biosample.to_excel('/dev/shm/biosamples.xlsx', index=False)"
   ]
  },
  {
   "cell_type": "markdown",
   "metadata": {},
   "source": [
    "# Register Experiments"
   ]
  },
  {
   "cell_type": "code",
   "execution_count": 8,
   "metadata": {
    "collapsed": false
   },
   "outputs": [],
   "source": [
    "y4q1 = gcat.get_file(spreadsheet_name, fmt='pandas_excel')\n",
    "experiments = y4q1.parse('Experiments', header=0)\n",
    "\n",
    "created = server.post_sheet('/experiments/', experiments, verbose=True, dry_run=True)"
   ]
  },
  {
   "cell_type": "code",
   "execution_count": 9,
   "metadata": {
    "collapsed": false
   },
   "outputs": [
    {
     "data": {
      "text/plain": [
       "0"
      ]
     },
     "execution_count": 9,
     "metadata": {},
     "output_type": "execute_result"
    }
   ],
   "source": [
    "len(created)"
   ]
  },
  {
   "cell_type": "code",
   "execution_count": 10,
   "metadata": {
    "collapsed": true
   },
   "outputs": [],
   "source": [
    "experiments.to_excel('/tmp/experiments.xlsx', index=False)"
   ]
  },
  {
   "cell_type": "markdown",
   "metadata": {},
   "source": [
    "# Register Libraries"
   ]
  },
  {
   "cell_type": "code",
   "execution_count": 11,
   "metadata": {
    "collapsed": false
   },
   "outputs": [],
   "source": [
    "y4q1 = gcat.get_file(spreadsheet_name, fmt='pandas_excel')\n",
    "libraries = y4q1.parse('Libraries', header=0)\n",
    "\n",
    "created = server.post_sheet('/libraries/', libraries, verbose=True, dry_run=True)"
   ]
  },
  {
   "cell_type": "code",
   "execution_count": 12,
   "metadata": {
    "collapsed": false
   },
   "outputs": [
    {
     "data": {
      "text/plain": [
       "0"
      ]
     },
     "execution_count": 12,
     "metadata": {},
     "output_type": "execute_result"
    }
   ],
   "source": [
    "len(created)"
   ]
  },
  {
   "cell_type": "code",
   "execution_count": 13,
   "metadata": {
    "collapsed": true
   },
   "outputs": [],
   "source": [
    "libraries.to_excel('/tmp/libraries.xlsx', index=False)"
   ]
  },
  {
   "cell_type": "markdown",
   "metadata": {},
   "source": [
    "# Register Replicates"
   ]
  },
  {
   "cell_type": "code",
   "execution_count": 14,
   "metadata": {
    "collapsed": false
   },
   "outputs": [],
   "source": [
    "y4q1 = gcat.get_file(spreadsheet_name, fmt='pandas_excel')\n",
    "replicates = y4q1.parse('Replicates', header=0)\n",
    "\n",
    "created = server.post_sheet('/replicates/', replicates, verbose=True, dry_run=False)"
   ]
  },
  {
   "cell_type": "code",
   "execution_count": 15,
   "metadata": {
    "collapsed": false
   },
   "outputs": [
    {
     "data": {
      "text/plain": [
       "0"
      ]
     },
     "execution_count": 15,
     "metadata": {},
     "output_type": "execute_result"
    }
   ],
   "source": [
    "len(created)"
   ]
  },
  {
   "cell_type": "code",
   "execution_count": 16,
   "metadata": {
    "collapsed": true
   },
   "outputs": [],
   "source": [
    "replicates.to_excel('/tmp/replicates.xlsx', index=False)"
   ]
  },
  {
   "cell_type": "markdown",
   "metadata": {},
   "source": [
    "# Create Manifest"
   ]
  },
  {
   "cell_type": "code",
   "execution_count": 17,
   "metadata": {
    "collapsed": true
   },
   "outputs": [],
   "source": [
    "def make_manifest(spreadsheet_name, submission_name, submission_root, map_name):\n",
    "    book = gcat.get_file(spreadsheet_name, fmt='pandas_excel')\n",
    "    libraries = book.parse('Libraries')\n",
    "    replicates = book.parse('Replicates')\n",
    "    \n",
    "    pongo = paramiko.SSHClient()\n",
    "    pongo.set_missing_host_key_policy(paramiko.WarningPolicy())\n",
    "    pongo.connect('pongo.cacr.caltech.edu', username='diane')\n",
    "    sftp = pongo.open_sftp()\n",
    "    sftp.chdir(submission_root)\n",
    "    files = 0\n",
    "    for line in sftp.open(map_name):\n",
    "        # skip comments\n",
    "        line = line.strip()\n",
    "        if len(line) == 0 or line.startswith('#'):\n",
    "            continue\n",
    "\n",
    "        library_id, dirname = line.split()\n",
    "        alias = 'barbara-wold:{}'.format(library_id)\n",
    "        library_row = libraries[libraries['aliases:array'] == alias]\n",
    "        replicate_row = replicates[replicates['library'] == alias]\n",
    "        for filename in sftp.listdir(dirname):\n",
    "            if filename.endswith('fastq.gz'):\n",
    "                relative_path = os.path.join(dirname, filename)\n",
    "                metadata = {\n",
    "                    'dataset': list(replicate_row['experiment'])[0],\n",
    "                    'submitted_file_name': relative_path,\n",
    "                    'replicate': list(replicate_row['uuid'])[0],\n",
    "                    'lab': list(library_row['lab'])[0],\n",
    "                    'award': list(library_row['award'])[0],\n",
    "                }\n",
    "                #display.display_pretty(metadata)\n",
    "                print('<http://jumpgate.caltech.edu/wiki/SubmissionsLog/{}#{}>'.format(submission_name, dirname))\n",
    "                print('  encode3:dataset \"{}\" ;'.format(metadata['dataset']))\n",
    "                print('  encode3:replicate \"{}\" ;'.format(metadata['replicate']))\n",
    "                print('  encode3:lab \"{}\" ;'.format(metadata['lab']))\n",
    "                print('  encode3:award \"{}\" .'.format(metadata['award']))\n",
    "\n",
    "                print('<file:///woldlab/castor/home/diane/proj/submission/{}/{}>'.format(submission_name, relative_path))\n",
    "                print('  encode3:output_type \"reads\" ;')\n",
    "                print('  encode3:file_format \"fastq\" .')\n",
    "                files += 1\n",
    "\n",
    "    print('generated {} records'.format(files))\n"
   ]
  },
  {
   "cell_type": "code",
   "execution_count": 18,
   "metadata": {
    "collapsed": false
   },
   "outputs": [
    {
     "name": "stdout",
     "output_type": "stream",
     "text": [
      "<http://jumpgate.caltech.edu/wiki/SubmissionsLog/encode-y4q1#15158-forebrain>\n",
      "  encode3:dataset \"ENCSR889WQX\" ;\n",
      "  encode3:replicate \"3412457b-c78d-4d31-b581-afe63873060d\" ;\n",
      "  encode3:lab \"barbara-wold\" ;\n",
      "  encode3:award \"U54HG006998\" .\n",
      "<file:///woldlab/castor/home/diane/proj/submission/encode-y4q1/15158-forebrain/15158_HCCNNADXX_c116_l2.fastq.gz>\n",
      "  encode3:output_type \"reads\" ;\n",
      "  encode3:file_format \"fastq\" .\n",
      "<http://jumpgate.caltech.edu/wiki/SubmissionsLog/encode-y4q1#15158-forebrain>\n",
      "  encode3:dataset \"ENCSR889WQX\" ;\n",
      "  encode3:replicate \"3412457b-c78d-4d31-b581-afe63873060d\" ;\n",
      "  encode3:lab \"barbara-wold\" ;\n",
      "  encode3:award \"U54HG006998\" .\n",
      "<file:///woldlab/castor/home/diane/proj/submission/encode-y4q1/15158-forebrain/15158_HBE3UADXX_c66_l1.fastq.gz>\n",
      "  encode3:output_type \"reads\" ;\n",
      "  encode3:file_format \"fastq\" .\n",
      "<http://jumpgate.caltech.edu/wiki/SubmissionsLog/encode-y4q1#15158-forebrain>\n",
      "  encode3:dataset \"ENCSR889WQX\" ;\n",
      "  encode3:replicate \"3412457b-c78d-4d31-b581-afe63873060d\" ;\n",
      "  encode3:lab \"barbara-wold\" ;\n",
      "  encode3:award \"U54HG006998\" .\n",
      "<file:///woldlab/castor/home/diane/proj/submission/encode-y4q1/15158-forebrain/15158_HBE3UADXX_c66_l2.fastq.gz>\n",
      "  encode3:output_type \"reads\" ;\n",
      "  encode3:file_format \"fastq\" .\n",
      "<http://jumpgate.caltech.edu/wiki/SubmissionsLog/encode-y4q1#15158-forebrain>\n",
      "  encode3:dataset \"ENCSR889WQX\" ;\n",
      "  encode3:replicate \"3412457b-c78d-4d31-b581-afe63873060d\" ;\n",
      "  encode3:lab \"barbara-wold\" ;\n",
      "  encode3:award \"U54HG006998\" .\n",
      "<file:///woldlab/castor/home/diane/proj/submission/encode-y4q1/15158-forebrain/15158_HCCNNADXX_c116_l1.fastq.gz>\n",
      "  encode3:output_type \"reads\" ;\n",
      "  encode3:file_format \"fastq\" .\n",
      "<http://jumpgate.caltech.edu/wiki/SubmissionsLog/encode-y4q1#15211-forebrain>\n",
      "  encode3:dataset \"ENCSR889WQX\" ;\n",
      "  encode3:replicate \"b508cc00-70be-48cf-89d6-40d495ce4e37\" ;\n",
      "  encode3:lab \"barbara-wold\" ;\n",
      "  encode3:award \"U54HG006998\" .\n",
      "<file:///woldlab/castor/home/diane/proj/submission/encode-y4q1/15211-forebrain/15211_HBE3UADXX_c66_l2.fastq.gz>\n",
      "  encode3:output_type \"reads\" ;\n",
      "  encode3:file_format \"fastq\" .\n",
      "<http://jumpgate.caltech.edu/wiki/SubmissionsLog/encode-y4q1#15211-forebrain>\n",
      "  encode3:dataset \"ENCSR889WQX\" ;\n",
      "  encode3:replicate \"b508cc00-70be-48cf-89d6-40d495ce4e37\" ;\n",
      "  encode3:lab \"barbara-wold\" ;\n",
      "  encode3:award \"U54HG006998\" .\n",
      "<file:///woldlab/castor/home/diane/proj/submission/encode-y4q1/15211-forebrain/15211_HBE3UADXX_c66_l1.fastq.gz>\n",
      "  encode3:output_type \"reads\" ;\n",
      "  encode3:file_format \"fastq\" .\n",
      "<http://jumpgate.caltech.edu/wiki/SubmissionsLog/encode-y4q1#15160-cerebellum>\n",
      "  encode3:dataset \"ENCSR554JQP\" ;\n",
      "  encode3:replicate \"76c505c5-0843-4e22-9e90-f99f90d71a27\" ;\n",
      "  encode3:lab \"barbara-wold\" ;\n",
      "  encode3:award \"U54HG006998\" .\n",
      "<file:///woldlab/castor/home/diane/proj/submission/encode-y4q1/15160-cerebellum/15160_HBE3UADXX_c66_l2.fastq.gz>\n",
      "  encode3:output_type \"reads\" ;\n",
      "  encode3:file_format \"fastq\" .\n",
      "<http://jumpgate.caltech.edu/wiki/SubmissionsLog/encode-y4q1#15160-cerebellum>\n",
      "  encode3:dataset \"ENCSR554JQP\" ;\n",
      "  encode3:replicate \"76c505c5-0843-4e22-9e90-f99f90d71a27\" ;\n",
      "  encode3:lab \"barbara-wold\" ;\n",
      "  encode3:award \"U54HG006998\" .\n",
      "<file:///woldlab/castor/home/diane/proj/submission/encode-y4q1/15160-cerebellum/15160_HCCNNADXX_c116_l1.fastq.gz>\n",
      "  encode3:output_type \"reads\" ;\n",
      "  encode3:file_format \"fastq\" .\n",
      "<http://jumpgate.caltech.edu/wiki/SubmissionsLog/encode-y4q1#15160-cerebellum>\n",
      "  encode3:dataset \"ENCSR554JQP\" ;\n",
      "  encode3:replicate \"76c505c5-0843-4e22-9e90-f99f90d71a27\" ;\n",
      "  encode3:lab \"barbara-wold\" ;\n",
      "  encode3:award \"U54HG006998\" .\n",
      "<file:///woldlab/castor/home/diane/proj/submission/encode-y4q1/15160-cerebellum/15160_HCCNNADXX_c116_l2.fastq.gz>\n",
      "  encode3:output_type \"reads\" ;\n",
      "  encode3:file_format \"fastq\" .\n",
      "<http://jumpgate.caltech.edu/wiki/SubmissionsLog/encode-y4q1#15160-cerebellum>\n",
      "  encode3:dataset \"ENCSR554JQP\" ;\n",
      "  encode3:replicate \"76c505c5-0843-4e22-9e90-f99f90d71a27\" ;\n",
      "  encode3:lab \"barbara-wold\" ;\n",
      "  encode3:award \"U54HG006998\" .\n",
      "<file:///woldlab/castor/home/diane/proj/submission/encode-y4q1/15160-cerebellum/15160_HBE3UADXX_c66_l1.fastq.gz>\n",
      "  encode3:output_type \"reads\" ;\n",
      "  encode3:file_format \"fastq\" .\n",
      "<http://jumpgate.caltech.edu/wiki/SubmissionsLog/encode-y4q1#15202-cerebellum>\n",
      "  encode3:dataset \"ENCSR554JQP\" ;\n",
      "  encode3:replicate \"d6167204-31ef-45d3-b9cd-6d03d388bf0a\" ;\n",
      "  encode3:lab \"barbara-wold\" ;\n",
      "  encode3:award \"U54HG006998\" .\n",
      "<file:///woldlab/castor/home/diane/proj/submission/encode-y4q1/15202-cerebellum/15202_HBE3UADXX_c66_l1.fastq.gz>\n",
      "  encode3:output_type \"reads\" ;\n",
      "  encode3:file_format \"fastq\" .\n",
      "<http://jumpgate.caltech.edu/wiki/SubmissionsLog/encode-y4q1#15202-cerebellum>\n",
      "  encode3:dataset \"ENCSR554JQP\" ;\n",
      "  encode3:replicate \"d6167204-31ef-45d3-b9cd-6d03d388bf0a\" ;\n",
      "  encode3:lab \"barbara-wold\" ;\n",
      "  encode3:award \"U54HG006998\" .\n",
      "<file:///woldlab/castor/home/diane/proj/submission/encode-y4q1/15202-cerebellum/15202_HBE3UADXX_c66_l2.fastq.gz>\n",
      "  encode3:output_type \"reads\" ;\n",
      "  encode3:file_format \"fastq\" .\n",
      "<http://jumpgate.caltech.edu/wiki/SubmissionsLog/encode-y4q1#16005-UMB4727-cerebellum>\n",
      "  encode3:dataset \"ENCSR802GEV\" ;\n",
      "  encode3:replicate \"b43e47f0-9994-4e67-a3f2-243356437325\" ;\n",
      "  encode3:lab \"barbara-wold\" ;\n",
      "  encode3:award \"U54HG006998\" .\n",
      "<file:///woldlab/castor/home/diane/proj/submission/encode-y4q1/16005-UMB4727-cerebellum/16005_H5W37BCXX_c66_l1.fastq.gz>\n",
      "  encode3:output_type \"reads\" ;\n",
      "  encode3:file_format \"fastq\" .\n",
      "<http://jumpgate.caltech.edu/wiki/SubmissionsLog/encode-y4q1#16005-UMB4727-cerebellum>\n",
      "  encode3:dataset \"ENCSR802GEV\" ;\n",
      "  encode3:replicate \"b43e47f0-9994-4e67-a3f2-243356437325\" ;\n",
      "  encode3:lab \"barbara-wold\" ;\n",
      "  encode3:award \"U54HG006998\" .\n",
      "<file:///woldlab/castor/home/diane/proj/submission/encode-y4q1/16005-UMB4727-cerebellum/16005_HF73MBCXX_c58_l1.fastq.gz>\n",
      "  encode3:output_type \"reads\" ;\n",
      "  encode3:file_format \"fastq\" .\n",
      "<http://jumpgate.caltech.edu/wiki/SubmissionsLog/encode-y4q1#16005-UMB4727-cerebellum>\n",
      "  encode3:dataset \"ENCSR802GEV\" ;\n",
      "  encode3:replicate \"b43e47f0-9994-4e67-a3f2-243356437325\" ;\n",
      "  encode3:lab \"barbara-wold\" ;\n",
      "  encode3:award \"U54HG006998\" .\n",
      "<file:///woldlab/castor/home/diane/proj/submission/encode-y4q1/16005-UMB4727-cerebellum/16005_HF73MBCXX_c58_l2.fastq.gz>\n",
      "  encode3:output_type \"reads\" ;\n",
      "  encode3:file_format \"fastq\" .\n",
      "<http://jumpgate.caltech.edu/wiki/SubmissionsLog/encode-y4q1#16005-UMB4727-cerebellum>\n",
      "  encode3:dataset \"ENCSR802GEV\" ;\n",
      "  encode3:replicate \"b43e47f0-9994-4e67-a3f2-243356437325\" ;\n",
      "  encode3:lab \"barbara-wold\" ;\n",
      "  encode3:award \"U54HG006998\" .\n",
      "<file:///woldlab/castor/home/diane/proj/submission/encode-y4q1/16005-UMB4727-cerebellum/16005_H5W37BCXX_c66_l2.fastq.gz>\n",
      "  encode3:output_type \"reads\" ;\n",
      "  encode3:file_format \"fastq\" .\n",
      "<http://jumpgate.caltech.edu/wiki/SubmissionsLog/encode-y4q1#16006-UMB4727-pcc>\n",
      "  encode3:dataset \"ENCSR729FNL\" ;\n",
      "  encode3:replicate \"70a65035-c066-4dc2-bf62-0b14dc9266e6\" ;\n",
      "  encode3:lab \"barbara-wold\" ;\n",
      "  encode3:award \"U54HG006998\" .\n",
      "<file:///woldlab/castor/home/diane/proj/submission/encode-y4q1/16006-UMB4727-pcc/16006_H5W37BCXX_c66_l2.fastq.gz>\n",
      "  encode3:output_type \"reads\" ;\n",
      "  encode3:file_format \"fastq\" .\n",
      "<http://jumpgate.caltech.edu/wiki/SubmissionsLog/encode-y4q1#16006-UMB4727-pcc>\n",
      "  encode3:dataset \"ENCSR729FNL\" ;\n",
      "  encode3:replicate \"70a65035-c066-4dc2-bf62-0b14dc9266e6\" ;\n",
      "  encode3:lab \"barbara-wold\" ;\n",
      "  encode3:award \"U54HG006998\" .\n",
      "<file:///woldlab/castor/home/diane/proj/submission/encode-y4q1/16006-UMB4727-pcc/16006_H5W37BCXX_c66_l1.fastq.gz>\n",
      "  encode3:output_type \"reads\" ;\n",
      "  encode3:file_format \"fastq\" .\n",
      "generated 18 records\n"
     ]
    },
    {
     "name": "stderr",
     "output_type": "stream",
     "text": [
      "/usr/lib/python3/dist-packages/paramiko/client.py:580: UserWarning: Unknown ssh-rsa host key for pongo.cacr.caltech.edu: b'6833531597d6176b45c27f33e9406a12'\n",
      "  (key.get_name(), hostname, hexlify(key.get_fingerprint())))\n"
     ]
    }
   ],
   "source": [
    "make_manifest(spreadsheet_name, 'encode-y4q1', '/home/diane/proj/submission/encode-y4q1/', 'libs.txt')"
   ]
  },
  {
   "cell_type": "code",
   "execution_count": null,
   "metadata": {
    "collapsed": true
   },
   "outputs": [],
   "source": []
  }
 ],
 "metadata": {
  "kernelspec": {
   "display_name": "Python 3",
   "language": "python",
   "name": "python3"
  },
  "language_info": {
   "codemirror_mode": {
    "name": "ipython",
    "version": 3
   },
   "file_extension": ".py",
   "mimetype": "text/x-python",
   "name": "python",
   "nbconvert_exporter": "python",
   "pygments_lexer": "ipython3",
   "version": "3.4.4"
  }
 },
 "nbformat": 4,
 "nbformat_minor": 0
}
