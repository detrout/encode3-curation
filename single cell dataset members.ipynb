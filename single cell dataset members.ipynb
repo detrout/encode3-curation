{
 "metadata": {
  "name": "",
  "signature": "sha256:d7319bb869f183515de235c4f58b1c0977900f576d4a8c01a4c5b35fb03fb3b1"
 },
 "nbformat": 3,
 "nbformat_minor": 0,
 "worksheets": [
  {
   "cells": [
    {
     "cell_type": "code",
     "collapsed": false,
     "input": [
      "import pandas\n",
      "import RDF\n",
      "from IPython.display import clear_output, display\n",
      "from curation_common import *"
     ],
     "language": "python",
     "metadata": {},
     "outputs": [],
     "prompt_number": 1
    },
    {
     "cell_type": "code",
     "collapsed": false,
     "input": [
      "ipython = get_ipython()"
     ],
     "language": "python",
     "metadata": {},
     "outputs": [],
     "prompt_number": 2
    },
    {
     "cell_type": "code",
     "collapsed": false,
     "input": [
      "server = ENCODED('www.encodeproject.org')\n",
      "server.load_netrc()"
     ],
     "language": "python",
     "metadata": {},
     "outputs": [],
     "prompt_number": 3
    },
    {
     "cell_type": "code",
     "collapsed": false,
     "input": [
      "def add_jumpgate_url_to_encoded_libraries(model):\n",
      "    q = RDF.SPARQLQuery(\"\"\"\n",
      "    PREFIX htsw: <http://jumpgate.caltech.edu/wiki/LibraryOntology#>\n",
      "    PREFIX barbara-wold: <http://jumpgate.caltech.edu/wiki/LibraryOntology#>\n",
      "    PREFIX experiment: <https://www.encodeproject.org/profiles/experiment.json#> \n",
      "    PREFIX library: <https://www.encodeproject.org/profiles/library.json#> \n",
      "    PREFIX replicate: <https://www.encodeproject.org/profiles/replicate.json#>\n",
      "    PREFIX xsd: <http://www.w3.org/2001/XMLSchema#>\n",
      "\n",
      "    construct { \n",
      "      ?library htsw:library ?jumpgate . \n",
      "    } where {\n",
      "      select ?library \n",
      "             ( REPLACE(?alias, \"barbara-wold:\", \"http://jumpgate.caltech.edu/library/\") as ?short )\n",
      "             ( IRI(CONCAT(?short, \"/\"))  as ?jumpgate )\n",
      "      where {\n",
      "        ?library library:aliases ?alias .\n",
      "      }\n",
      "    }\"\"\")\n",
      "\n",
      "    count = 0\n",
      "    results = q.execute(model)\n",
      "    for s in results.as_stream():\n",
      "        jumpgate = s.object\n",
      "        model.append(s)\n",
      "        display('loading {} {}'.format(jumpgate, count))\n",
      "        load_into_model(model, 'rdfa', jumpgate)\n",
      "        count += 1\n",
      "        clear_output()\n",
      "    display(count)\n",
      " "
     ],
     "language": "python",
     "metadata": {},
     "outputs": [],
     "prompt_number": 4
    },
    {
     "cell_type": "code",
     "collapsed": false,
     "input": [
      "def add_jumpgate_names_to_dataset(ids):\n",
      "    model = get_model(use_contexts=False)\n",
      "    \n",
      "    for url in ids:\n",
      "        dataset = server.get_jsonld(url)\n",
      "        load_jsonld_into_model(model, dataset)\n",
      "    \n",
      "    q = RDF.SPARQLQuery(\"\"\"\n",
      "    PREFIX replicate: <https://www.encodeproject.org/profiles/replicate.json#>\n",
      "\n",
      "    select distinct ?library\n",
      "    where {\n",
      "      ?s replicate:library ?library\n",
      "    }\n",
      "    \"\"\")\n",
      "    for i, row in enumerate(q.execute(model)):\n",
      "        library = str(row['library'])\n",
      "        print(\"Loading: {} ({})\".format(library, i+1))\n",
      "        load_jsonld_into_model(model, server.get_jsonld(library))\n",
      "        clear_output() \n",
      "    add_jumpgate_url_to_encoded_libraries(model)\n",
      "\n",
      "    return model"
     ],
     "language": "python",
     "metadata": {},
     "outputs": [],
     "prompt_number": 5
    },
    {
     "cell_type": "heading",
     "level": 1,
     "metadata": {},
     "source": [
      "Single cell RNA-seq study using human Purkinje cells"
     ]
    },
    {
     "cell_type": "code",
     "collapsed": false,
     "input": [
      "human_purkinje_model = add_jumpgate_names_to_dataset(['https://www.encodeproject.org/datasets/ENCSR262WLD/'])"
     ],
     "language": "python",
     "metadata": {},
     "outputs": [
      {
       "metadata": {},
       "output_type": "display_data",
       "text": [
        "40"
       ]
      }
     ],
     "prompt_number": 6
    },
    {
     "cell_type": "code",
     "collapsed": false,
     "input": [
      "%%sparql -m human_purkinje_model -o h \n",
      "select ?experiment ?library ?dcc_name ?jumpgate ?name\n",
      "where {\n",
      "  ?replicate a replicate:replicate ;\n",
      "             replicate:library ?library ;\n",
      "             replicate:experiment ?experiment .\n",
      "  ?library a library:library ;\n",
      "           htsw:library ?jumpgate .\n",
      "  ?jumpgate htsw:name ?name .\n",
      "\n",
      "  ?experiment a experiment:experiment ;\n",
      "              rdf:description ?dcc_name .\n",
      "}\n",
      "order by ?experiment"
     ],
     "language": "python",
     "metadata": {},
     "outputs": [],
     "prompt_number": 7
    },
    {
     "cell_type": "heading",
     "level": 1,
     "metadata": {},
     "source": [
      "GM12878 Single Cell"
     ]
    },
    {
     "cell_type": "code",
     "collapsed": false,
     "input": [
      "gm12878_model = add_jumpgate_names_to_dataset(['https://www.encodeproject.org/datasets/ENCSR260WLD/'])"
     ],
     "language": "python",
     "metadata": {},
     "outputs": [
      {
       "metadata": {},
       "output_type": "display_data",
       "text": [
        "19"
       ]
      }
     ],
     "prompt_number": 8
    },
    {
     "cell_type": "code",
     "collapsed": false,
     "input": [
      "%%sparql -m gm12878_model\n",
      "select ?experiment ?library ?dcc_name ?jumpgate ?name\n",
      "where {\n",
      "  ?replicate a replicate:replicate ;\n",
      "             replicate:library ?library ;\n",
      "             replicate:experiment ?experiment .\n",
      "  ?library a library:library ;\n",
      "           htsw:library ?jumpgate .\n",
      "  ?jumpgate htsw:name ?name .\n",
      "\n",
      "  ?experiment a experiment:experiment ;\n",
      "              rdf:description ?dcc_name .\n",
      "}\n",
      "order by ?experiment"
     ],
     "language": "python",
     "metadata": {},
     "outputs": [
      {
       "html": [
        "<table><tr><td>experiment</td><td>library</td><td>dcc_name</td><td>jumpgate</td><td>name</td></tr><tr><td><a href=\"https://www.encodeproject.org/experiments/ENCSR000AIY/\">experiments:ENCSR000AIY/</a></td><td><a href=\"https://www.encodeproject.org/libraries/ENCLB391GZT/\">libraries:ENCLB391GZT/</a></td><td>RNA-seq of a single GM12878 cell</td><td><a href=\"http://jumpgate.caltech.edu/library/13285/\">library:13285/</a></td><td>Illumina index__N702_N504_Paired_ends_GM238_single_cell</td></tr><tr><td><a href=\"https://www.encodeproject.org/experiments/ENCSR000AJA/\">experiments:ENCSR000AJA/</a></td><td><a href=\"https://www.encodeproject.org/libraries/ENCLB198OUV/\">libraries:ENCLB198OUV/</a></td><td>RNA-seq of a single GM12878 cell</td><td><a href=\"http://jumpgate.caltech.edu/library/13283/\">library:13283/</a></td><td>Illumina index__N702_N502_Paired_ends_GM236_single_cell</td></tr><tr><td><a href=\"https://www.encodeproject.org/experiments/ENCSR000AJB/\">experiments:ENCSR000AJB/</a></td><td><a href=\"https://www.encodeproject.org/libraries/ENCLB264YKE/\">libraries:ENCLB264YKE/</a></td><td>RNA-seq of a single GM12878 cell</td><td><a href=\"http://jumpgate.caltech.edu/library/13288/\">library:13288/</a></td><td>Illumina index__N703_N503_Paired_ends_GM242_single_cell</td></tr><tr><td><a href=\"https://www.encodeproject.org/experiments/ENCSR000AJC/\">experiments:ENCSR000AJC/</a></td><td><a href=\"https://www.encodeproject.org/libraries/ENCLB714NCU/\">libraries:ENCLB714NCU/</a></td><td>RNA-seq of a single GM12878 cell</td><td><a href=\"http://jumpgate.caltech.edu/library/13286/\">library:13286/</a></td><td>Illumina index__N703_N501_Paired_ends_GM239_single_cell</td></tr><tr><td><a href=\"https://www.encodeproject.org/experiments/ENCSR000AJE/\">experiments:ENCSR000AJE/</a></td><td><a href=\"https://www.encodeproject.org/libraries/ENCLB267CXI/\">libraries:ENCLB267CXI/</a></td><td>RNA-seq of a single GM12878 cell</td><td><a href=\"http://jumpgate.caltech.edu/library/13282/\">library:13282/</a></td><td>Illumina index__N702_N501_Paired_ends_GM235_single_cell</td></tr><tr><td><a href=\"https://www.encodeproject.org/experiments/ENCSR000AJF/\">experiments:ENCSR000AJF/</a></td><td><a href=\"https://www.encodeproject.org/libraries/ENCLB868NQU/\">libraries:ENCLB868NQU/</a></td><td>RNA-seq of a single GM12878 cell</td><td><a href=\"http://jumpgate.caltech.edu/library/13287/\">library:13287/</a></td><td>Illumina index__N703_N502_Paired_ends_GM240_single_cell</td></tr><tr><td><a href=\"https://www.encodeproject.org/experiments/ENCSR000AJH/\">experiments:ENCSR000AJH/</a></td><td><a href=\"https://www.encodeproject.org/libraries/ENCLB319PGU/\">libraries:ENCLB319PGU/</a></td><td>RNA-seq of a single GM12878 cell</td><td><a href=\"http://jumpgate.caltech.edu/library/13284/\">library:13284/</a></td><td>Illumina index__N702_N503_Paired_ends_GM237_single_cell</td></tr><tr><td><a href=\"https://www.encodeproject.org/experiments/ENCSR184CWK/\">experiments:ENCSR184CWK/</a></td><td><a href=\"https://www.encodeproject.org/libraries/ENCLB206JYT/\">libraries:ENCLB206JYT/</a></td><td>RNA-seq of a single GM12878 cell</td><td><a href=\"http://jumpgate.caltech.edu/library/13289/\">library:13289/</a></td><td>Illumina index__N703_N504_Paired_ends_GM243_single_cell</td></tr><tr><td><a href=\"https://www.encodeproject.org/experiments/ENCSR625DPZ/\">experiments:ENCSR625DPZ/</a></td><td><a href=\"https://www.encodeproject.org/libraries/ENCLB402YMB/\">libraries:ENCLB402YMB/</a></td><td>RNA-seq of a single GM12878 cell</td><td><a href=\"http://jumpgate.caltech.edu/library/13291/\">library:13291/</a></td><td>Illumina index__N704_N502_Paired_ends_GM245_single_cell</td></tr><tr><td><a href=\"https://www.encodeproject.org/experiments/ENCSR673UIY/\">experiments:ENCSR673UIY/</a></td><td><a href=\"https://www.encodeproject.org/libraries/ENCLB882HPA/\">libraries:ENCLB882HPA/</a></td><td>RNA-seq on single cell equivalents of 10 isolated and homogenized GM12878 cells</td><td><a href=\"http://jumpgate.caltech.edu/library/13297/\">library:13297/</a></td><td>Illumina index__N705_N504_Paired_ends_GM251_poolsplit</td></tr><tr><td><a href=\"https://www.encodeproject.org/experiments/ENCSR673UIY/\">experiments:ENCSR673UIY/</a></td><td><a href=\"https://www.encodeproject.org/libraries/ENCLB804XTY/\">libraries:ENCLB804XTY/</a></td><td>RNA-seq on single cell equivalents of 10 isolated and homogenized GM12878 cells</td><td><a href=\"http://jumpgate.caltech.edu/library/13298/\">library:13298/</a></td><td>Illumina index__N706_N501_Paired_ends_GM252_poolsplit</td></tr><tr><td><a href=\"https://www.encodeproject.org/experiments/ENCSR673UIY/\">experiments:ENCSR673UIY/</a></td><td><a href=\"https://www.encodeproject.org/libraries/ENCLB242XIT/\">libraries:ENCLB242XIT/</a></td><td>RNA-seq on single cell equivalents of 10 isolated and homogenized GM12878 cells</td><td><a href=\"http://jumpgate.caltech.edu/library/13299/\">library:13299/</a></td><td>Illumina index__N706_N502_Paired_ends_GM253_poolsplit</td></tr><tr><td><a href=\"https://www.encodeproject.org/experiments/ENCSR673UIY/\">experiments:ENCSR673UIY/</a></td><td><a href=\"https://www.encodeproject.org/libraries/ENCLB211FCW/\">libraries:ENCLB211FCW/</a></td><td>RNA-seq on single cell equivalents of 10 isolated and homogenized GM12878 cells</td><td><a href=\"http://jumpgate.caltech.edu/library/13292/\">library:13292/</a></td><td>Illumina index__N704_N503_Paired_ends_GM246_poolsplit</td></tr><tr><td><a href=\"https://www.encodeproject.org/experiments/ENCSR673UIY/\">experiments:ENCSR673UIY/</a></td><td><a href=\"https://www.encodeproject.org/libraries/ENCLB720ZUM/\">libraries:ENCLB720ZUM/</a></td><td>RNA-seq on single cell equivalents of 10 isolated and homogenized GM12878 cells</td><td><a href=\"http://jumpgate.caltech.edu/library/13295/\">library:13295/</a></td><td>Illumina index__N705_N502_Paired_ends_GM249_poolsplit</td></tr><tr><td><a href=\"https://www.encodeproject.org/experiments/ENCSR673UIY/\">experiments:ENCSR673UIY/</a></td><td><a href=\"https://www.encodeproject.org/libraries/ENCLB187EEQ/\">libraries:ENCLB187EEQ/</a></td><td>RNA-seq on single cell equivalents of 10 isolated and homogenized GM12878 cells</td><td><a href=\"http://jumpgate.caltech.edu/library/13280/\">library:13280/</a></td><td>Illumina index__N701_N503_Paired_ends_GM232_poolsplit</td></tr><tr><td><a href=\"https://www.encodeproject.org/experiments/ENCSR673UIY/\">experiments:ENCSR673UIY/</a></td><td><a href=\"https://www.encodeproject.org/libraries/ENCLB146LAW/\">libraries:ENCLB146LAW/</a></td><td>RNA-seq on single cell equivalents of 10 isolated and homogenized GM12878 cells</td><td><a href=\"http://jumpgate.caltech.edu/library/13281/\">library:13281/</a></td><td>Illumina index__N701_N504_Paired_ends_GM233_poolsplit</td></tr><tr><td><a href=\"https://www.encodeproject.org/experiments/ENCSR673UIY/\">experiments:ENCSR673UIY/</a></td><td><a href=\"https://www.encodeproject.org/libraries/ENCLB108EAP/\">libraries:ENCLB108EAP/</a></td><td>RNA-seq on single cell equivalents of 10 isolated and homogenized GM12878 cells</td><td><a href=\"http://jumpgate.caltech.edu/library/13296/\">library:13296/</a></td><td>Illumina index__N705_N503_Paired_ends_GM250_poolsplit</td></tr><tr><td><a href=\"https://www.encodeproject.org/experiments/ENCSR673UIY/\">experiments:ENCSR673UIY/</a></td><td><a href=\"https://www.encodeproject.org/libraries/ENCLB283IJI/\">libraries:ENCLB283IJI/</a></td><td>RNA-seq on single cell equivalents of 10 isolated and homogenized GM12878 cells</td><td><a href=\"http://jumpgate.caltech.edu/library/13294/\">library:13294/</a></td><td>Illumina index__N705_N501_Paired_ends_GM248_poolsplit</td></tr><tr><td><a href=\"https://www.encodeproject.org/experiments/ENCSR767SOH/\">experiments:ENCSR767SOH/</a></td><td><a href=\"https://www.encodeproject.org/libraries/ENCLB476CZO/\">libraries:ENCLB476CZO/</a></td><td>RNA-seq of a single GM12878 cell</td><td><a href=\"http://jumpgate.caltech.edu/library/13290/\">library:13290/</a></td><td>Illumina index__N704_N501_Paired_ends_GM244_single_cell</td></tr></table>"
       ],
       "metadata": {},
       "output_type": "pyout",
       "prompt_number": 9,
       "text": [
        "<rdfmagic.LibRdfResults at 0x7f7ba86c5dd0>"
       ]
      }
     ],
     "prompt_number": 9
    },
    {
     "cell_type": "heading",
     "level": 1,
     "metadata": {},
     "source": [
      "Mouse purkinje single cell"
     ]
    },
    {
     "cell_type": "code",
     "collapsed": false,
     "input": [
      "mouse_purkinje_model = add_jumpgate_names_to_dataset(['https://www.encodeproject.org/datasets/ENCSR112CAL/'])"
     ],
     "language": "python",
     "metadata": {},
     "outputs": [
      {
       "metadata": {},
       "output_type": "display_data",
       "text": [
        "0"
       ]
      }
     ],
     "prompt_number": 10
    },
    {
     "cell_type": "heading",
     "level": 1,
     "metadata": {},
     "source": [
      "Other sheet from cricket"
     ]
    },
    {
     "cell_type": "code",
     "collapsed": false,
     "input": [
      "experiments = ['ENCSR000OXO', 'ENCSR000OXO', 'ENCSR592MSV', 'ENCSR592MSV', 'ENCSR225BBK', 'ENCSR225BBK', 'ENCSR368QPC', 'ENCSR368QPC', 'ENCSR527RFK', 'ENCSR527RFK', 'ENCSR510ADJ', 'ENCSR510ADJ', 'ENCSR861FGB', 'ENCSR861FGB', 'ENCSR950BNG', 'ENCSR950BNG', 'ENCSR026ZRP', 'ENCSR026ZRP', 'ENCSR265YFZ', 'ENCSR265YFZ', 'ENCSR907JUN', 'ENCSR907JUN', ]\n",
      "other_model = add_jumpgate_names_to_dataset([ '/experiments/' + x for x in experiments ])"
     ],
     "language": "python",
     "metadata": {},
     "outputs": [
      {
       "metadata": {},
       "output_type": "display_data",
       "text": [
        "22"
       ]
      }
     ],
     "prompt_number": 11
    },
    {
     "cell_type": "code",
     "collapsed": false,
     "input": [
      "%%sparql -m other_model\n",
      "select ?experiment ?library ?dcc_name ?jumpgate ?name\n",
      "where {\n",
      "  ?replicate a replicate:replicate ;\n",
      "             replicate:library ?library ;\n",
      "             replicate:experiment ?experiment .\n",
      "  ?library a library:library ;\n",
      "           htsw:library ?jumpgate .\n",
      "  ?jumpgate htsw:name ?name .\n",
      "\n",
      "  ?experiment a experiment:experiment ;\n",
      "              rdf:description ?dcc_name .\n",
      "}\n",
      "order by ?experiment"
     ],
     "language": "python",
     "metadata": {},
     "outputs": [
      {
       "html": [
        "<table><tr><td>experiment</td><td>library</td><td>dcc_name</td><td>jumpgate</td><td>name</td></tr><tr><td><a href=\"https://www.encodeproject.org/experiments/ENCSR000OXO/\">experiments:ENCSR000OXO/</a></td><td><a href=\"https://www.encodeproject.org/libraries/ENCLB917PKP/\">libraries:ENCLB917PKP/</a></td><td>Total RNA-seq on embryonic 11.5 day mouse forebrain</td><td><a href=\"http://jumpgate.caltech.edu/library/14653/\">library:14653/</a></td><td>Illumina index__710_503_Paired_ends__e11.5 forebrain 1_GITC_7/1/2014_13pgs</td></tr><tr><td><a href=\"https://www.encodeproject.org/experiments/ENCSR000OXO/\">experiments:ENCSR000OXO/</a></td><td><a href=\"https://www.encodeproject.org/libraries/ENCLB026BHP/\">libraries:ENCLB026BHP/</a></td><td>Total RNA-seq on embryonic 11.5 day mouse forebrain</td><td><a href=\"http://jumpgate.caltech.edu/library/14654/\">library:14654/</a></td><td>Illumina index__711_504_Paired_ends__e11.5 forebrain 2_GITC_7/1/2014_13pgs</td></tr><tr><td><a href=\"https://www.encodeproject.org/experiments/ENCSR026ZRP/\">experiments:ENCSR026ZRP/</a></td><td><a href=\"https://www.encodeproject.org/libraries/ENCLB719BQO/\">libraries:ENCLB719BQO/</a></td><td>Total RNA-seq on postnatal 0 day mouse midbrain (13pgs)</td><td><a href=\"http://jumpgate.caltech.edu/library/14495/\">library:14495/</a></td><td>Illumina index__N711_N505_Paired_ends__midbrain total RNA extract 4/4/14_13pgs</td></tr><tr><td><a href=\"https://www.encodeproject.org/experiments/ENCSR026ZRP/\">experiments:ENCSR026ZRP/</a></td><td><a href=\"https://www.encodeproject.org/libraries/ENCLB669AEL/\">libraries:ENCLB669AEL/</a></td><td>Total RNA-seq on postnatal 0 day mouse midbrain (13pgs)</td><td><a href=\"http://jumpgate.caltech.edu/library/14630/\">library:14630/</a></td><td>Illumina index__711_508_Paired_ends__P0_midbrain2_GITC_5/12/14_13pgs</td></tr><tr><td><a href=\"https://www.encodeproject.org/experiments/ENCSR225BBK/\">experiments:ENCSR225BBK/</a></td><td><a href=\"https://www.encodeproject.org/libraries/ENCLB941VYE/\">libraries:ENCLB941VYE/</a></td><td>Total RNA-seq on PGP human bipolar spindle neurons (13pgs)</td><td><a href=\"http://jumpgate.caltech.edu/library/14486/\">library:14486/</a></td><td>Illumina index__N702_N504_Paired_ends__PGP bipolar neurons 2_13pgs</td></tr><tr><td><a href=\"https://www.encodeproject.org/experiments/ENCSR225BBK/\">experiments:ENCSR225BBK/</a></td><td><a href=\"https://www.encodeproject.org/libraries/ENCLB463KOX/\">libraries:ENCLB463KOX/</a></td><td>Total RNA-seq on PGP human bipolar spindle neurons (13pgs)</td><td><a href=\"http://jumpgate.caltech.edu/library/14485/\">library:14485/</a></td><td>Illumina index__N701_N503_Paired_ends__PGP bipolar neurons 1_13pgs</td></tr><tr><td><a href=\"https://www.encodeproject.org/experiments/ENCSR265YFZ/\">experiments:ENCSR265YFZ/</a></td><td><a href=\"https://www.encodeproject.org/libraries/ENCLB304LFK/\">libraries:ENCLB304LFK/</a></td><td>Total RNA-seq on postnatal 0 day mouse skeletal muscle (13pgs)</td><td><a href=\"http://jumpgate.caltech.edu/library/14501/\">library:14501/</a></td><td>Illumina index__N705_N503_Paired_ends__skeletal muscle total RNA extract 4/4/14_13pgs</td></tr><tr><td><a href=\"https://www.encodeproject.org/experiments/ENCSR265YFZ/\">experiments:ENCSR265YFZ/</a></td><td><a href=\"https://www.encodeproject.org/libraries/ENCLB096HAH/\">libraries:ENCLB096HAH/</a></td><td>Total RNA-seq on postnatal 0 day mouse skeletal muscle (13pgs)</td><td><a href=\"http://jumpgate.caltech.edu/library/14634/\">library:14634/</a></td><td>Illumina index__703_504_Paired_ends__P0_skmus2_GITC_5/12/14_13pgs</td></tr><tr><td><a href=\"https://www.encodeproject.org/experiments/ENCSR368QPC/\">experiments:ENCSR368QPC/</a></td><td><a href=\"https://www.encodeproject.org/libraries/ENCLB171NYD/\">libraries:ENCLB171NYD/</a></td><td>Total RNA-seq on PGP human IPS cells (13pgs)</td><td><a href=\"http://jumpgate.caltech.edu/library/14488/\">library:14488/</a></td><td>Illumina index__N704_N506_Paired_ends__PGP IPS cells 2_13pgs</td></tr><tr><td><a href=\"https://www.encodeproject.org/experiments/ENCSR368QPC/\">experiments:ENCSR368QPC/</a></td><td><a href=\"https://www.encodeproject.org/libraries/ENCLB237OAE/\">libraries:ENCLB237OAE/</a></td><td>Total RNA-seq on PGP human IPS cells (13pgs)</td><td><a href=\"http://jumpgate.caltech.edu/library/14487/\">library:14487/</a></td><td>Illumina index__N703_N505_Paired_ends__PGP IPS cells 1_13pgs</td></tr><tr><td><a href=\"https://www.encodeproject.org/experiments/ENCSR510ADJ/\">experiments:ENCSR510ADJ/</a></td><td><a href=\"https://www.encodeproject.org/libraries/ENCLB652HKH/\">libraries:ENCLB652HKH/</a></td><td>Total RNA-seq on postnatal 0 day mouse heart (13pg)</td><td><a href=\"http://jumpgate.caltech.edu/library/14628/\">library:14628/</a></td><td>Illumina index__709_506_Paired_ends__P0_heart1_GITC_4/4/14_13pgs</td></tr><tr><td><a href=\"https://www.encodeproject.org/experiments/ENCSR510ADJ/\">experiments:ENCSR510ADJ/</a></td><td><a href=\"https://www.encodeproject.org/libraries/ENCLB348BMH/\">libraries:ENCLB348BMH/</a></td><td>Total RNA-seq on postnatal 0 day mouse heart (13pg)</td><td><a href=\"http://jumpgate.caltech.edu/library/14632/\">library:14632/</a></td><td>Illumina index__701_502_Paired_ends__P0_heart2_GITC_5/12/14_13pgs</td></tr><tr><td><a href=\"https://www.encodeproject.org/experiments/ENCSR527RFK/\">experiments:ENCSR527RFK/</a></td><td><a href=\"https://www.encodeproject.org/libraries/ENCLB181TCJ/\">libraries:ENCLB181TCJ/</a></td><td>Total RNA-seq on postnatal 0 day mouse forebrain (13pgs)</td><td><a href=\"http://jumpgate.caltech.edu/library/14629/\">library:14629/</a></td><td>Illumina index__710_507_Paired_ends__P0_forebrain2_GITC_5/12/14_13pgs</td></tr><tr><td><a href=\"https://www.encodeproject.org/experiments/ENCSR527RFK/\">experiments:ENCSR527RFK/</a></td><td><a href=\"https://www.encodeproject.org/libraries/ENCLB766UOB/\">libraries:ENCLB766UOB/</a></td><td>Total RNA-seq on postnatal 0 day mouse forebrain (13pgs)</td><td><a href=\"http://jumpgate.caltech.edu/library/14626/\">library:14626/</a></td><td>Illumina index__707_504_Paired_ends__P0_forebrain1_GITC_4/4/14_13pgs</td></tr><tr><td><a href=\"https://www.encodeproject.org/experiments/ENCSR592MSV/\">experiments:ENCSR592MSV/</a></td><td><a href=\"https://www.encodeproject.org/libraries/ENCLB905LVV/\">libraries:ENCLB905LVV/</a></td><td>Total RNA-seq on embryonic 11.5 day mouse liver</td><td><a href=\"http://jumpgate.caltech.edu/library/14656/\">library:14656/</a></td><td>Illumina index__701_506_Paired_ends__e11.5 liver 2_GITC_7/1/2014_13pgs</td></tr><tr><td><a href=\"https://www.encodeproject.org/experiments/ENCSR592MSV/\">experiments:ENCSR592MSV/</a></td><td><a href=\"https://www.encodeproject.org/libraries/ENCLB449LBZ/\">libraries:ENCLB449LBZ/</a></td><td>Total RNA-seq on embryonic 11.5 day mouse liver</td><td><a href=\"http://jumpgate.caltech.edu/library/14655/\">library:14655/</a></td><td>Illumina index__712_505_Paired_ends__e11.5 liver 1_GITC_7/1/2014_13pgs</td></tr><tr><td><a href=\"https://www.encodeproject.org/experiments/ENCSR861FGB/\">experiments:ENCSR861FGB/</a></td><td><a href=\"https://www.encodeproject.org/libraries/ENCLB765HDK/\">libraries:ENCLB765HDK/</a></td><td>Total RNA-seq on postnatal 0 day mouse hindbrain (13pgs)</td><td><a href=\"http://jumpgate.caltech.edu/library/14631/\">library:14631/</a></td><td>Illumina index__712_501_Paired_ends__P0_hindbrain2_GITC_5/12/14_13pgs</td></tr><tr><td><a href=\"https://www.encodeproject.org/experiments/ENCSR861FGB/\">experiments:ENCSR861FGB/</a></td><td><a href=\"https://www.encodeproject.org/libraries/ENCLB238LIR/\">libraries:ENCLB238LIR/</a></td><td>Total RNA-seq on postnatal 0 day mouse hindbrain (13pgs)</td><td><a href=\"http://jumpgate.caltech.edu/library/14627/\">library:14627/</a></td><td>Illumina index__708_505_Paired_ends__P0_hindbrain1_GITC_4/4/14_13pgs</td></tr><tr><td><a href=\"https://www.encodeproject.org/experiments/ENCSR907JUN/\">experiments:ENCSR907JUN/</a></td><td><a href=\"https://www.encodeproject.org/libraries/ENCLB005HHX/\">libraries:ENCLB005HHX/</a></td><td>Total RNA-seq on postnatal 0 day mouse thymus (13pgs)</td><td><a href=\"http://jumpgate.caltech.edu/library/14635/\">library:14635/</a></td><td>Illumina index__704_505_Paired_ends__P0_thymus1_GITC_5/28/14_13pgs</td></tr><tr><td><a href=\"https://www.encodeproject.org/experiments/ENCSR907JUN/\">experiments:ENCSR907JUN/</a></td><td><a href=\"https://www.encodeproject.org/libraries/ENCLB185MNU/\">libraries:ENCLB185MNU/</a></td><td>Total RNA-seq on postnatal 0 day mouse thymus (13pgs)</td><td><a href=\"http://jumpgate.caltech.edu/library/14636/\">library:14636/</a></td><td>Illumina index__705_506_Paired_ends__P0_thymus2_GITC_5/28/14_13pgs</td></tr><tr><td><a href=\"https://www.encodeproject.org/experiments/ENCSR950BNG/\">experiments:ENCSR950BNG/</a></td><td><a href=\"https://www.encodeproject.org/libraries/ENCLB791CRT/\">libraries:ENCLB791CRT/</a></td><td>Total RNA-seq on postnatal 0 day mouse liver (13pgs)</td><td><a href=\"http://jumpgate.caltech.edu/library/14633/\">library:14633/</a></td><td>Illumina index__702_503_Paired_ends__P0_liver2_GITC_5/12/14_13pgs</td></tr><tr><td><a href=\"https://www.encodeproject.org/experiments/ENCSR950BNG/\">experiments:ENCSR950BNG/</a></td><td><a href=\"https://www.encodeproject.org/libraries/ENCLB356IIP/\">libraries:ENCLB356IIP/</a></td><td>Total RNA-seq on postnatal 0 day mouse liver (13pgs)</td><td><a href=\"http://jumpgate.caltech.edu/library/14499/\">library:14499/</a></td><td>Illumina index__N703_N501_Paired_ends__liver total RNA extract 4/4/14_13pgs</td></tr></table>"
       ],
       "metadata": {},
       "output_type": "pyout",
       "prompt_number": 13,
       "text": [
        "<rdfmagic.LibRdfResults at 0x7f7ba3694ed0>"
       ]
      }
     ],
     "prompt_number": 13
    },
    {
     "cell_type": "heading",
     "level": 1,
     "metadata": {},
     "source": [
      "Last Updated"
     ]
    },
    {
     "cell_type": "code",
     "collapsed": false,
     "input": [
      "import datetime\n",
      "datetime.datetime.now().ctime()"
     ],
     "language": "python",
     "metadata": {},
     "outputs": [
      {
       "metadata": {},
       "output_type": "pyout",
       "prompt_number": 12,
       "text": [
        "'Mon Apr 13 14:43:20 2015'"
       ]
      }
     ],
     "prompt_number": 12
    },
    {
     "cell_type": "code",
     "collapsed": false,
     "input": [],
     "language": "python",
     "metadata": {},
     "outputs": [],
     "prompt_number": 12
    }
   ],
   "metadata": {}
  }
 ]
}