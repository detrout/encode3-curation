{
 "metadata": {
  "name": "",
  "signature": "sha256:3195bddd0e27b7dd92bba4dadc35753a3ac1446f564094fd98e12e29c969771a"
 },
 "nbformat": 3,
 "nbformat_minor": 0,
 "worksheets": [
  {
   "cells": [
    {
     "cell_type": "code",
     "collapsed": false,
     "input": [
      "import pandas\n",
      "import RDF\n",
      "from IPython.display import clear_output, display\n",
      "from curation_common import *"
     ],
     "language": "python",
     "metadata": {},
     "outputs": [],
     "prompt_number": 1
    },
    {
     "cell_type": "code",
     "collapsed": false,
     "input": [
      "ipython = get_ipython()"
     ],
     "language": "python",
     "metadata": {},
     "outputs": [],
     "prompt_number": 2
    },
    {
     "cell_type": "code",
     "collapsed": false,
     "input": [
      "server = ENCODED('www.encodeproject.org')\n",
      "server.load_netrc()"
     ],
     "language": "python",
     "metadata": {},
     "outputs": [],
     "prompt_number": 3
    },
    {
     "cell_type": "code",
     "collapsed": false,
     "input": [
      "def add_jumpgate_url_to_encoded_libraries(model):\n",
      "    q = RDF.SPARQLQuery(\"\"\"\n",
      "    PREFIX htsw: <http://jumpgate.caltech.edu/wiki/LibraryOntology#>\n",
      "    PREFIX barbara-wold: <http://jumpgate.caltech.edu/wiki/LibraryOntology#>\n",
      "    PREFIX experiment: <https://www.encodeproject.org/profiles/experiment.json#> \n",
      "    PREFIX library: <https://www.encodeproject.org/profiles/library.json#> \n",
      "    PREFIX replicate: <https://www.encodeproject.org/profiles/replicate.json#>\n",
      "    PREFIX xsd: <http://www.w3.org/2001/XMLSchema#>\n",
      "\n",
      "    construct { \n",
      "      ?library htsw:library ?jumpgate . \n",
      "    } where {\n",
      "      select ?library \n",
      "             ( REPLACE(?alias, \"barbara-wold:\", \"http://jumpgate.caltech.edu/library/\") as ?short )\n",
      "             ( IRI(CONCAT(?short, \"/\"))  as ?jumpgate )\n",
      "      where {\n",
      "        ?library library:aliases ?alias .\n",
      "      }\n",
      "    }\"\"\")\n",
      "\n",
      "    count = 0\n",
      "    results = q.execute(model)\n",
      "    for s in results.as_stream():\n",
      "        jumpgate = s.object\n",
      "        model.append(s)\n",
      "        display('loading {} {}'.format(jumpgate, count))\n",
      "        load_into_model(model, 'rdfa', jumpgate)\n",
      "        count += 1\n",
      "        clear_output()\n",
      "    display(count)\n",
      " "
     ],
     "language": "python",
     "metadata": {},
     "outputs": [],
     "prompt_number": 4
    },
    {
     "cell_type": "code",
     "collapsed": false,
     "input": [
      "def add_jumpgate_names_to_dataset(ids):\n",
      "    model = get_model(use_contexts=False)\n",
      "    \n",
      "    for url in ids:\n",
      "        dataset = server.get_jsonld(url)\n",
      "        load_jsonld_into_model(model, dataset)\n",
      "    \n",
      "    q = RDF.SPARQLQuery(\"\"\"\n",
      "    PREFIX replicate: <https://www.encodeproject.org/profiles/replicate.json#>\n",
      "\n",
      "    select distinct ?library\n",
      "    where {\n",
      "      ?s replicate:library ?library\n",
      "    }\n",
      "    \"\"\")\n",
      "    for i, row in enumerate(q.execute(model)):\n",
      "        library = str(row['library'])\n",
      "        print(\"Loading: {} ({})\".format(library, i+1))\n",
      "        load_jsonld_into_model(model, server.get_jsonld(library))\n",
      "        clear_output() \n",
      "    add_jumpgate_url_to_encoded_libraries(model)\n",
      "\n",
      "    return model"
     ],
     "language": "python",
     "metadata": {},
     "outputs": [],
     "prompt_number": 5
    },
    {
     "cell_type": "heading",
     "level": 1,
     "metadata": {},
     "source": [
      "Single cell RNA-seq study using human Purkinje cells"
     ]
    },
    {
     "cell_type": "markdown",
     "metadata": {},
     "source": [
      "<a href=\"https://www.encodeproject.org/datasets/ENCSR262WLD/\">Single cell RNA-seq study using human Purkinje cells</a>\n",
      "\n",
      "Dataset type\n",
      ": project\n",
      "\n",
      "Lab\n",
      ": Barbara Wold, Caltech\n",
      "\n",
      "Project\n",
      ": ENCODE"
     ]
    },
    {
     "cell_type": "code",
     "collapsed": false,
     "input": [
      "human_purkinje_model = add_jumpgate_names_to_dataset(['https://www.encodeproject.org/datasets/ENCSR262WLD/'])"
     ],
     "language": "python",
     "metadata": {},
     "outputs": [
      {
       "metadata": {},
       "output_type": "display_data",
       "text": [
        "40"
       ]
      }
     ],
     "prompt_number": 6
    },
    {
     "cell_type": "code",
     "collapsed": false,
     "input": [
      "%%sparql -m human_purkinje_model  -c\n",
      "select ?experiment ?library ?dcc_name ?jumpgate ?name\n",
      "where {\n",
      "  ?replicate a replicate:replicate ;\n",
      "             replicate:library ?library ;\n",
      "             replicate:experiment ?experiment .\n",
      "  ?library a library:library ;\n",
      "           htsw:library ?jumpgate .\n",
      "  ?jumpgate htsw:name ?name .\n",
      "\n",
      "  ?experiment a experiment:experiment ;\n",
      "              rdf:description ?dcc_name .\n",
      "}\n",
      "order by ?experiment"
     ],
     "language": "python",
     "metadata": {},
     "outputs": [
      {
       "output_type": "stream",
       "stream": "stdout",
       "text": [
        "Found 40 rows.\n"
       ]
      },
      {
       "html": [
        "<table><tr><td>experiment</td><td>library</td><td>dcc_name</td><td>jumpgate</td><td>name</td></tr><tr><td><a href=\"https://www.encodeproject.org/experiments/ENCSR086PHI/\">experiments:ENCSR086PHI/</a></td><td><a href=\"https://www.encodeproject.org/libraries/ENCLB641KNK/\">libraries:ENCLB641KNK/</a></td><td>RNA-seq of a single Purkinje cell from a 20 year old human male</td><td><a href=\"http://jumpgate.caltech.edu/library/13628/\">library:13628/</a></td><td>Illumina index__N704_N504_Paired_ends_LC 548_Hs_UMB4727_20_M_CN_Cb_Purkinje single cell_</td></tr><tr><td><a href=\"https://www.encodeproject.org/experiments/ENCSR101GVL/\">experiments:ENCSR101GVL/</a></td><td><a href=\"https://www.encodeproject.org/libraries/ENCLB552DLJ/\">libraries:ENCLB552DLJ/</a></td><td>RNA-seq of a single Purkinje cell from a 20 year old human male</td><td><a href=\"http://jumpgate.caltech.edu/library/13642/\">library:13642/</a></td><td>Illumina index__N706_N502_Paired_ends_LC 562_Hs_UMB4727_20_M_CN_Cb_Purkinje single cell_</td></tr><tr><td><a href=\"https://www.encodeproject.org/experiments/ENCSR124ERY/\">experiments:ENCSR124ERY/</a></td><td><a href=\"https://www.encodeproject.org/libraries/ENCLB218HBM/\">libraries:ENCLB218HBM/</a></td><td>RNA-seq of a single Purkinje cell from a 20 year old human male</td><td><a href=\"http://jumpgate.caltech.edu/library/13639/\">library:13639/</a></td><td>Illumina index__N703_N507_Paired_ends_LC 559_Hs_UMB4727_20_M_CN_Cb_Purkinje single cell_</td></tr><tr><td><a href=\"https://www.encodeproject.org/experiments/ENCSR231WUP/\">experiments:ENCSR231WUP/</a></td><td><a href=\"https://www.encodeproject.org/libraries/ENCLB710XHU/\">libraries:ENCLB710XHU/</a></td><td>RNA-seq of a single Purkinje cell from a 20 year old human male</td><td><a href=\"http://jumpgate.caltech.edu/library/13633/\">library:13633/</a></td><td>Illumina index__N709_N501_Paired_ends_LC 553_Hs_UMB4727_20_M_CN_Cb_Purkinje single cell_</td></tr><tr><td><a href=\"https://www.encodeproject.org/experiments/ENCSR244DNF/\">experiments:ENCSR244DNF/</a></td><td><a href=\"https://www.encodeproject.org/libraries/ENCLB619TYA/\">libraries:ENCLB619TYA/</a></td><td>RNA-seq of a single Purkinje cell from a 20 year old human male</td><td><a href=\"http://jumpgate.caltech.edu/library/13636/\">library:13636/</a></td><td>Illumina index__N712_N504_Paired_ends_LC 556_Hs_UMB4727_20_M_CN_Cb_Purkinje single cell_</td></tr><tr><td><a href=\"https://www.encodeproject.org/experiments/ENCSR366QZI/\">experiments:ENCSR366QZI/</a></td><td><a href=\"https://www.encodeproject.org/libraries/ENCLB350NUB/\">libraries:ENCLB350NUB/</a></td><td>RNA-seq of a single Purkinje cell from a 20 year old human male</td><td><a href=\"http://jumpgate.caltech.edu/library/13637/\">library:13637/</a></td><td>Illumina index__N701_N505_Paired_ends_LC 557_Hs_UMB4727_20_M_CN_Cb_Purkinje single cell_</td></tr><tr><td><a href=\"https://www.encodeproject.org/experiments/ENCSR376KFF/\">experiments:ENCSR376KFF/</a></td><td><a href=\"https://www.encodeproject.org/libraries/ENCLB327MTR/\">libraries:ENCLB327MTR/</a></td><td>RNA-seq of a single Purkinje cell from a 20 year old human male</td><td><a href=\"http://jumpgate.caltech.edu/library/13626/\">library:13626/</a></td><td>Illumina index__N702_N502_Paired_ends_LC 546_Hs_UMB4727_20_M_CN_Cb_Purkinje single cell_</td></tr><tr><td><a href=\"https://www.encodeproject.org/experiments/ENCSR417EDR/\">experiments:ENCSR417EDR/</a></td><td><a href=\"https://www.encodeproject.org/libraries/ENCLB632SOL/\">libraries:ENCLB632SOL/</a></td><td>RNA-seq of a single Purkinje cell from a 20 year old human male</td><td><a href=\"http://jumpgate.caltech.edu/library/13644/\">library:13644/</a></td><td>Illumina index__N708_N504_Paired_ends_LC 564_Hs_UMB4727_20_M_CN_Cb_Purkinje single cell_</td></tr><tr><td><a href=\"https://www.encodeproject.org/experiments/ENCSR435ROA/\">experiments:ENCSR435ROA/</a></td><td><a href=\"https://www.encodeproject.org/libraries/ENCLB211OUD/\">libraries:ENCLB211OUD/</a></td><td>RNA-seq of a single Purkinje cell from a 20 year old human male</td><td><a href=\"http://jumpgate.caltech.edu/library/13634/\">library:13634/</a></td><td>Illumina index__N710_N502_Paired_ends_LC 554_Hs_UMB4727_20_M_CN_Cb_Purkinje single cell_</td></tr><tr><td><a href=\"https://www.encodeproject.org/experiments/ENCSR558LHB/\">experiments:ENCSR558LHB/</a></td><td><a href=\"https://www.encodeproject.org/libraries/ENCLB331AUZ/\">libraries:ENCLB331AUZ/</a></td><td>RNA-seq of a single Purkinje cell from a 20 year old human male</td><td><a href=\"http://jumpgate.caltech.edu/library/13625/\">library:13625/</a></td><td>Illumina index__N701_N501_Paired_ends_LC 545_Hs_UMB4727_20_M_CN_Cb_Purkinje single cell_</td></tr><tr><td><a href=\"https://www.encodeproject.org/experiments/ENCSR561KFF/\">experiments:ENCSR561KFF/</a></td><td><a href=\"https://www.encodeproject.org/libraries/ENCLB228BIT/\">libraries:ENCLB228BIT/</a></td><td>RNA-seq of a single Purkinje cell from a 20 year old human male</td><td><a href=\"http://jumpgate.caltech.edu/library/13627/\">library:13627/</a></td><td>Illumina index__N703_N503_Paired_ends_LC 547_Hs_UMB4727_20_M_CN_Cb_Purkinje single cell_</td></tr><tr><td><a href=\"https://www.encodeproject.org/experiments/ENCSR610BAM/\">experiments:ENCSR610BAM/</a></td><td><a href=\"https://www.encodeproject.org/libraries/ENCLB617JJG/\">libraries:ENCLB617JJG/</a></td><td>RNA-seq of a single Purkinje cell from a 20 year old human male</td><td><a href=\"http://jumpgate.caltech.edu/library/13640/\">library:13640/</a></td><td>Illumina index__N704_N508_Paired_ends_LC 560_Hs_UMB4727_20_M_CN_Cb_Purkinje single cell_</td></tr><tr><td><a href=\"https://www.encodeproject.org/experiments/ENCSR659QHV/\">experiments:ENCSR659QHV/</a></td><td><a href=\"https://www.encodeproject.org/libraries/ENCLB257OVB/\">libraries:ENCLB257OVB/</a></td><td>RNA-seq of a single Purkinje cell from a 20 year old human male</td><td><a href=\"http://jumpgate.caltech.edu/library/13638/\">library:13638/</a></td><td>Illumina index__N702_N506_Paired_ends_LC 558_Hs_UMB4727_20_M_CN_Cb_Purkinje single cell_</td></tr><tr><td><a href=\"https://www.encodeproject.org/experiments/ENCSR672QFA/\">experiments:ENCSR672QFA/</a></td><td><a href=\"https://www.encodeproject.org/libraries/ENCLB509KSM/\">libraries:ENCLB509KSM/</a></td><td>RNA-seq of a single Purkinje cell from a 20 year old human male</td><td><a href=\"http://jumpgate.caltech.edu/library/13643/\">library:13643/</a></td><td>Illumina index__N707_N503_Paired_ends_LC 563_Hs_UMB4727_20_M_CN_Cb_Purkinje single cell_</td></tr><tr><td><a href=\"https://www.encodeproject.org/experiments/ENCSR724XFQ/\">experiments:ENCSR724XFQ/</a></td><td><a href=\"https://www.encodeproject.org/libraries/ENCLB804XKW/\">libraries:ENCLB804XKW/</a></td><td>RNA-seq of a single Purkinje cell from a 20 year old human male</td><td><a href=\"http://jumpgate.caltech.edu/library/13630/\">library:13630/</a></td><td>Illumina index__N706_N506_Paired_ends_LC 550_Hs_UMB4727_20_M_CN_Cb_Purkinje single cell_</td></tr><tr><td><a href=\"https://www.encodeproject.org/experiments/ENCSR729ENB/\">experiments:ENCSR729ENB/</a></td><td><a href=\"https://www.encodeproject.org/libraries/ENCLB087SVF/\">libraries:ENCLB087SVF/</a></td><td>RNA-seq of a single Purkinje cell from a 20 year old human male</td><td><a href=\"http://jumpgate.caltech.edu/library/13631/\">library:13631/</a></td><td>Illumina index__N707_N507_Paired_ends_LC 551_Hs_UMB4727_20_M_CN_Cb_Purkinje single cell_</td></tr><tr><td><a href=\"https://www.encodeproject.org/experiments/ENCSR828FPS/\">experiments:ENCSR828FPS/</a></td><td><a href=\"https://www.encodeproject.org/libraries/ENCLB747ZHK/\">libraries:ENCLB747ZHK/</a></td><td>RNA-seq of a single Purkinje cell from a 20 year old human male</td><td><a href=\"http://jumpgate.caltech.edu/library/13632/\">library:13632/</a></td><td>Illumina index__N708_N508_Paired_ends_LC 552_Hs_UMB4727_20_M_CN_Cb_Purkinje single cell_</td></tr><tr><td><a href=\"https://www.encodeproject.org/experiments/ENCSR888LYA/\">experiments:ENCSR888LYA/</a></td><td><a href=\"https://www.encodeproject.org/libraries/ENCLB229ENW/\">libraries:ENCLB229ENW/</a></td><td>RNA-seq on single cell equivalents of 20 excised and homogenized Purkinje cells from a 20 year old human male</td><td><a href=\"http://jumpgate.caltech.edu/library/13663/\">library:13663/</a></td><td>Illumina index__N703_N507_Paired_ends_LC 583_Hs_UMB4727_20_M_CN_Cb_Purkinje_poolsplit_</td></tr><tr><td><a href=\"https://www.encodeproject.org/experiments/ENCSR888LYA/\">experiments:ENCSR888LYA/</a></td><td><a href=\"https://www.encodeproject.org/libraries/ENCLB294BYK/\">libraries:ENCLB294BYK/</a></td><td>RNA-seq on single cell equivalents of 20 excised and homogenized Purkinje cells from a 20 year old human male</td><td><a href=\"http://jumpgate.caltech.edu/library/13652/\">library:13652/</a></td><td>Illumina index__N704_N504_Paired_ends_LC 572_Hs_UMB4727_20_M_CN_Cb_Purkinje_poolsplit_</td></tr><tr><td><a href=\"https://www.encodeproject.org/experiments/ENCSR888LYA/\">experiments:ENCSR888LYA/</a></td><td><a href=\"https://www.encodeproject.org/libraries/ENCLB432EQY/\">libraries:ENCLB432EQY/</a></td><td>RNA-seq on single cell equivalents of 20 excised and homogenized Purkinje cells from a 20 year old human male</td><td><a href=\"http://jumpgate.caltech.edu/library/13646/\">library:13646/</a></td><td>Illumina index__N710_N506_Paired_ends_LC 566_Hs_UMB4727_20_M_CN_Cb_Purkinje_poolsplit_</td></tr><tr><td><a href=\"https://www.encodeproject.org/experiments/ENCSR888LYA/\">experiments:ENCSR888LYA/</a></td><td><a href=\"https://www.encodeproject.org/libraries/ENCLB614VPZ/\">libraries:ENCLB614VPZ/</a></td><td>RNA-seq on single cell equivalents of 20 excised and homogenized Purkinje cells from a 20 year old human male</td><td><a href=\"http://jumpgate.caltech.edu/library/13654/\">library:13654/</a></td><td>Illumina index__N706_N506_Paired_ends_LC 574_Hs_UMB4727_20_M_CN_Cb_Purkinje_poolsplit_</td></tr><tr><td><a href=\"https://www.encodeproject.org/experiments/ENCSR888LYA/\">experiments:ENCSR888LYA/</a></td><td><a href=\"https://www.encodeproject.org/libraries/ENCLB151CUN/\">libraries:ENCLB151CUN/</a></td><td>RNA-seq on single cell equivalents of 20 excised and homogenized Purkinje cells from a 20 year old human male</td><td><a href=\"http://jumpgate.caltech.edu/library/13648/\">library:13648/</a></td><td>Illumina index__N712_N508_Paired_ends_LC 568_Hs_UMB4727_20_M_CN_Cb_Purkinje_poolsplit_</td></tr><tr><td><a href=\"https://www.encodeproject.org/experiments/ENCSR888LYA/\">experiments:ENCSR888LYA/</a></td><td><a href=\"https://www.encodeproject.org/libraries/ENCLB340FFP/\">libraries:ENCLB340FFP/</a></td><td>RNA-seq on single cell equivalents of 20 excised and homogenized Purkinje cells from a 20 year old human male</td><td><a href=\"http://jumpgate.caltech.edu/library/13649/\">library:13649/</a></td><td>Illumina index__N701_N501_Paired_ends_LC 569_Hs_UMB4727_20_M_CN_Cb_Purkinje_poolsplit_</td></tr><tr><td><a href=\"https://www.encodeproject.org/experiments/ENCSR888LYA/\">experiments:ENCSR888LYA/</a></td><td><a href=\"https://www.encodeproject.org/libraries/ENCLB562SNL/\">libraries:ENCLB562SNL/</a></td><td>RNA-seq on single cell equivalents of 20 excised and homogenized Purkinje cells from a 20 year old human male</td><td><a href=\"http://jumpgate.caltech.edu/library/13657/\">library:13657/</a></td><td>Illumina index__N709_N501_Paired_ends_LC 577_Hs_UMB4727_20_M_CN_Cb_Purkinje_poolsplit_</td></tr><tr><td><a href=\"https://www.encodeproject.org/experiments/ENCSR888LYA/\">experiments:ENCSR888LYA/</a></td><td><a href=\"https://www.encodeproject.org/libraries/ENCLB078UJF/\">libraries:ENCLB078UJF/</a></td><td>RNA-seq on single cell equivalents of 20 excised and homogenized Purkinje cells from a 20 year old human male</td><td><a href=\"http://jumpgate.caltech.edu/library/13653/\">library:13653/</a></td><td>Illumina index__N705_N505_Paired_ends_LC 573_Hs_UMB4727_20_M_CN_Cb_Purkinje_poolsplit_</td></tr><tr><td><a href=\"https://www.encodeproject.org/experiments/ENCSR888LYA/\">experiments:ENCSR888LYA/</a></td><td><a href=\"https://www.encodeproject.org/libraries/ENCLB678KFT/\">libraries:ENCLB678KFT/</a></td><td>RNA-seq on single cell equivalents of 20 excised and homogenized Purkinje cells from a 20 year old human male</td><td><a href=\"http://jumpgate.caltech.edu/library/13645/\">library:13645/</a></td><td>Illumina index__N709_N505_Paired_ends_LC 565_Hs_UMB4727_20_M_CN_Cb_Purkinje_poolsplit_</td></tr><tr><td><a href=\"https://www.encodeproject.org/experiments/ENCSR888LYA/\">experiments:ENCSR888LYA/</a></td><td><a href=\"https://www.encodeproject.org/libraries/ENCLB205HHN/\">libraries:ENCLB205HHN/</a></td><td>RNA-seq on single cell equivalents of 20 excised and homogenized Purkinje cells from a 20 year old human male</td><td><a href=\"http://jumpgate.caltech.edu/library/13650/\">library:13650/</a></td><td>Illumina index__N702_N502_Paired_ends_LC 570_Hs_UMB4727_20_M_CN_Cb_Purkinje_poolsplit_</td></tr><tr><td><a href=\"https://www.encodeproject.org/experiments/ENCSR888LYA/\">experiments:ENCSR888LYA/</a></td><td><a href=\"https://www.encodeproject.org/libraries/ENCLB632CVX/\">libraries:ENCLB632CVX/</a></td><td>RNA-seq on single cell equivalents of 20 excised and homogenized Purkinje cells from a 20 year old human male</td><td><a href=\"http://jumpgate.caltech.edu/library/13662/\">library:13662/</a></td><td>Illumina index__N702_N506_Paired_ends_LC 582_Hs_UMB4727_20_M_CN_Cb_Purkinje_poolsplit_</td></tr><tr><td><a href=\"https://www.encodeproject.org/experiments/ENCSR888LYA/\">experiments:ENCSR888LYA/</a></td><td><a href=\"https://www.encodeproject.org/libraries/ENCLB904FTO/\">libraries:ENCLB904FTO/</a></td><td>RNA-seq on single cell equivalents of 20 excised and homogenized Purkinje cells from a 20 year old human male</td><td><a href=\"http://jumpgate.caltech.edu/library/13659/\">library:13659/</a></td><td>Illumina index__N711_N503_Paired_ends_LC 579_Hs_UMB4727_20_M_CN_Cb_Purkinje_poolsplit_</td></tr><tr><td><a href=\"https://www.encodeproject.org/experiments/ENCSR888LYA/\">experiments:ENCSR888LYA/</a></td><td><a href=\"https://www.encodeproject.org/libraries/ENCLB857XKO/\">libraries:ENCLB857XKO/</a></td><td>RNA-seq on single cell equivalents of 20 excised and homogenized Purkinje cells from a 20 year old human male</td><td><a href=\"http://jumpgate.caltech.edu/library/13660/\">library:13660/</a></td><td>Illumina index__N712_N504_Paired_ends_LC 580_Hs_UMB4727_20_M_CN_Cb_Purkinje_poolsplit_</td></tr><tr><td><a href=\"https://www.encodeproject.org/experiments/ENCSR888LYA/\">experiments:ENCSR888LYA/</a></td><td><a href=\"https://www.encodeproject.org/libraries/ENCLB912XSU/\">libraries:ENCLB912XSU/</a></td><td>RNA-seq on single cell equivalents of 20 excised and homogenized Purkinje cells from a 20 year old human male</td><td><a href=\"http://jumpgate.caltech.edu/library/13664/\">library:13664/</a></td><td>Illumina index__N704_N508_Paired_ends_LC 584_Hs_UMB4727_20_M_CN_Cb_Purkinje_poolsplit_</td></tr><tr><td><a href=\"https://www.encodeproject.org/experiments/ENCSR888LYA/\">experiments:ENCSR888LYA/</a></td><td><a href=\"https://www.encodeproject.org/libraries/ENCLB611KGC/\">libraries:ENCLB611KGC/</a></td><td>RNA-seq on single cell equivalents of 20 excised and homogenized Purkinje cells from a 20 year old human male</td><td><a href=\"http://jumpgate.caltech.edu/library/13655/\">library:13655/</a></td><td>Illumina index__N707_N507_Paired_ends_LC 575_Hs_UMB4727_20_M_CN_Cb_Purkinje_poolsplit_</td></tr><tr><td><a href=\"https://www.encodeproject.org/experiments/ENCSR888LYA/\">experiments:ENCSR888LYA/</a></td><td><a href=\"https://www.encodeproject.org/libraries/ENCLB462FVS/\">libraries:ENCLB462FVS/</a></td><td>RNA-seq on single cell equivalents of 20 excised and homogenized Purkinje cells from a 20 year old human male</td><td><a href=\"http://jumpgate.caltech.edu/library/13656/\">library:13656/</a></td><td>Illumina index__N708_N508_Paired_ends_LC 576_Hs_UMB4727_20_M_CN_Cb_Purkinje_poolsplit_</td></tr><tr><td><a href=\"https://www.encodeproject.org/experiments/ENCSR888LYA/\">experiments:ENCSR888LYA/</a></td><td><a href=\"https://www.encodeproject.org/libraries/ENCLB720FXC/\">libraries:ENCLB720FXC/</a></td><td>RNA-seq on single cell equivalents of 20 excised and homogenized Purkinje cells from a 20 year old human male</td><td><a href=\"http://jumpgate.caltech.edu/library/13661/\">library:13661/</a></td><td>Illumina index__N701_N505_Paired_ends_LC 581_Hs_UMB4727_20_M_CN_Cb_Purkinje_poolsplit_</td></tr><tr><td><a href=\"https://www.encodeproject.org/experiments/ENCSR888LYA/\">experiments:ENCSR888LYA/</a></td><td><a href=\"https://www.encodeproject.org/libraries/ENCLB452IVF/\">libraries:ENCLB452IVF/</a></td><td>RNA-seq on single cell equivalents of 20 excised and homogenized Purkinje cells from a 20 year old human male</td><td><a href=\"http://jumpgate.caltech.edu/library/13651/\">library:13651/</a></td><td>Illumina index__N703_N503_Paired_ends_LC 571_Hs_UMB4727_20_M_CN_Cb_Purkinje_poolsplit_</td></tr><tr><td><a href=\"https://www.encodeproject.org/experiments/ENCSR888LYA/\">experiments:ENCSR888LYA/</a></td><td><a href=\"https://www.encodeproject.org/libraries/ENCLB546SWD/\">libraries:ENCLB546SWD/</a></td><td>RNA-seq on single cell equivalents of 20 excised and homogenized Purkinje cells from a 20 year old human male</td><td><a href=\"http://jumpgate.caltech.edu/library/13647/\">library:13647/</a></td><td>Illumina index__N711_N507_Paired_ends_LC 567_Hs_UMB4727_20_M_CN_Cb_Purkinje_poolsplit_</td></tr><tr><td><a href=\"https://www.encodeproject.org/experiments/ENCSR888LYA/\">experiments:ENCSR888LYA/</a></td><td><a href=\"https://www.encodeproject.org/libraries/ENCLB147KNI/\">libraries:ENCLB147KNI/</a></td><td>RNA-seq on single cell equivalents of 20 excised and homogenized Purkinje cells from a 20 year old human male</td><td><a href=\"http://jumpgate.caltech.edu/library/13658/\">library:13658/</a></td><td>Illumina index__N710_N502_Paired_ends_LC 578_Hs_UMB4727_20_M_CN_Cb_Purkinje_poolsplit_</td></tr><tr><td><a href=\"https://www.encodeproject.org/experiments/ENCSR905FLM/\">experiments:ENCSR905FLM/</a></td><td><a href=\"https://www.encodeproject.org/libraries/ENCLB876ZIU/\">libraries:ENCLB876ZIU/</a></td><td>RNA-seq of a single Purkinje cell from a 20 year old human male</td><td><a href=\"http://jumpgate.caltech.edu/library/13641/\">library:13641/</a></td><td>Illumina index__N705_N501_Paired_ends_LC 561_Hs_UMB4727_20_M_CN_Cb_Purkinje single cell_</td></tr><tr><td><a href=\"https://www.encodeproject.org/experiments/ENCSR921DSM/\">experiments:ENCSR921DSM/</a></td><td><a href=\"https://www.encodeproject.org/libraries/ENCLB403JBC/\">libraries:ENCLB403JBC/</a></td><td>RNA-seq of a single Purkinje cell from a 20 year old human male</td><td><a href=\"http://jumpgate.caltech.edu/library/13629/\">library:13629/</a></td><td>Illumina index__N705_N505_Paired_ends_LC 549_Hs_UMB4727_20_M_CN_Cb_Purkinje single cell_</td></tr><tr><td><a href=\"https://www.encodeproject.org/experiments/ENCSR927DHK/\">experiments:ENCSR927DHK/</a></td><td><a href=\"https://www.encodeproject.org/libraries/ENCLB222MSP/\">libraries:ENCLB222MSP/</a></td><td>RNA-seq of a single Purkinje cell from a 20 year old human male</td><td><a href=\"http://jumpgate.caltech.edu/library/13635/\">library:13635/</a></td><td>Illumina index__N711_N503_Paired_ends_LC 555_Hs_UMB4727_20_M_CN_Cb_Purkinje single cell_</td></tr></table>"
       ],
       "metadata": {},
       "output_type": "pyout",
       "prompt_number": 7,
       "text": [
        "<rdfmagic.LibRdfResults at 0x7f2ae08a21d0>"
       ]
      }
     ],
     "prompt_number": 7
    },
    {
     "cell_type": "heading",
     "level": 2,
     "metadata": {},
     "source": [
      "Human purkinje possible controls"
     ]
    },
    {
     "cell_type": "code",
     "collapsed": false,
     "input": [
      "%%sparql -m human_purkinje_model -c\n",
      "select ?s ?o\n",
      "where {\n",
      "  ?s experiment:possible_controls ?o .\n",
      "}\n"
     ],
     "language": "python",
     "metadata": {},
     "outputs": [
      {
       "output_type": "stream",
       "stream": "stdout",
       "text": [
        "Found 20 rows.\n"
       ]
      },
      {
       "html": [
        "<table><tr><td>s</td><td>o</td></tr><tr><td><a href=\"https://www.encodeproject.org/experiments/ENCSR086PHI/\">experiments:ENCSR086PHI/</a></td><td>/experiments/ENCSR888LYA/</td></tr><tr><td><a href=\"https://www.encodeproject.org/experiments/ENCSR101GVL/\">experiments:ENCSR101GVL/</a></td><td>/experiments/ENCSR888LYA/</td></tr><tr><td><a href=\"https://www.encodeproject.org/experiments/ENCSR124ERY/\">experiments:ENCSR124ERY/</a></td><td>/experiments/ENCSR888LYA/</td></tr><tr><td><a href=\"https://www.encodeproject.org/experiments/ENCSR231WUP/\">experiments:ENCSR231WUP/</a></td><td>/experiments/ENCSR888LYA/</td></tr><tr><td><a href=\"https://www.encodeproject.org/experiments/ENCSR244DNF/\">experiments:ENCSR244DNF/</a></td><td>/experiments/ENCSR888LYA/</td></tr><tr><td><a href=\"https://www.encodeproject.org/experiments/ENCSR366QZI/\">experiments:ENCSR366QZI/</a></td><td>/experiments/ENCSR888LYA/</td></tr><tr><td><a href=\"https://www.encodeproject.org/experiments/ENCSR376KFF/\">experiments:ENCSR376KFF/</a></td><td>/experiments/ENCSR888LYA/</td></tr><tr><td><a href=\"https://www.encodeproject.org/experiments/ENCSR417EDR/\">experiments:ENCSR417EDR/</a></td><td>/experiments/ENCSR888LYA/</td></tr><tr><td><a href=\"https://www.encodeproject.org/experiments/ENCSR435ROA/\">experiments:ENCSR435ROA/</a></td><td>/experiments/ENCSR888LYA/</td></tr><tr><td><a href=\"https://www.encodeproject.org/experiments/ENCSR558LHB/\">experiments:ENCSR558LHB/</a></td><td>/experiments/ENCSR888LYA/</td></tr><tr><td><a href=\"https://www.encodeproject.org/experiments/ENCSR561KFF/\">experiments:ENCSR561KFF/</a></td><td>/experiments/ENCSR888LYA/</td></tr><tr><td><a href=\"https://www.encodeproject.org/experiments/ENCSR610BAM/\">experiments:ENCSR610BAM/</a></td><td>/experiments/ENCSR888LYA/</td></tr><tr><td><a href=\"https://www.encodeproject.org/experiments/ENCSR659QHV/\">experiments:ENCSR659QHV/</a></td><td>/experiments/ENCSR888LYA/</td></tr><tr><td><a href=\"https://www.encodeproject.org/experiments/ENCSR672QFA/\">experiments:ENCSR672QFA/</a></td><td>/experiments/ENCSR888LYA/</td></tr><tr><td><a href=\"https://www.encodeproject.org/experiments/ENCSR724XFQ/\">experiments:ENCSR724XFQ/</a></td><td>/experiments/ENCSR888LYA/</td></tr><tr><td><a href=\"https://www.encodeproject.org/experiments/ENCSR729ENB/\">experiments:ENCSR729ENB/</a></td><td>/experiments/ENCSR888LYA/</td></tr><tr><td><a href=\"https://www.encodeproject.org/experiments/ENCSR828FPS/\">experiments:ENCSR828FPS/</a></td><td>/experiments/ENCSR888LYA/</td></tr><tr><td><a href=\"https://www.encodeproject.org/experiments/ENCSR905FLM/\">experiments:ENCSR905FLM/</a></td><td>/experiments/ENCSR888LYA/</td></tr><tr><td><a href=\"https://www.encodeproject.org/experiments/ENCSR921DSM/\">experiments:ENCSR921DSM/</a></td><td>/experiments/ENCSR888LYA/</td></tr><tr><td><a href=\"https://www.encodeproject.org/experiments/ENCSR927DHK/\">experiments:ENCSR927DHK/</a></td><td>/experiments/ENCSR888LYA/</td></tr></table>"
       ],
       "metadata": {},
       "output_type": "pyout",
       "prompt_number": 8,
       "text": [
        "<rdfmagic.LibRdfResults at 0x7f2ae08a2110>"
       ]
      }
     ],
     "prompt_number": 8
    },
    {
     "cell_type": "heading",
     "level": 1,
     "metadata": {},
     "source": [
      "GM12878 Single Cell"
     ]
    },
    {
     "cell_type": "markdown",
     "metadata": {},
     "source": [
      "<a href=\"https://www.encodeproject.org/datasets/ENCSR225DAT/\">Single cell RNA-seq study using GM12878 cells</a>\n",
      "\n",
      "Dataset type: project\n",
      "    \n",
      "Lab: Barbara Wold, Caltech\n",
      "    \n",
      "Project: ENCODE"
     ]
    },
    {
     "cell_type": "code",
     "collapsed": false,
     "input": [
      "gm12878_model = add_jumpgate_names_to_dataset(['https://www.encodeproject.org/datasets/ENCSR260WLD/'])"
     ],
     "language": "python",
     "metadata": {},
     "outputs": [
      {
       "metadata": {},
       "output_type": "display_data",
       "text": [
        "19"
       ]
      }
     ],
     "prompt_number": 9
    },
    {
     "cell_type": "code",
     "collapsed": false,
     "input": [
      "%%sparql -m gm12878_model -c\n",
      "select ?experiment ?library ?dcc_name ?jumpgate ?name\n",
      "where {\n",
      "  ?replicate a replicate:replicate ;\n",
      "             replicate:library ?library ;\n",
      "             replicate:experiment ?experiment .\n",
      "  ?library a library:library ;\n",
      "           htsw:library ?jumpgate .\n",
      "  ?jumpgate htsw:name ?name .\n",
      "\n",
      "  ?experiment a experiment:experiment ;\n",
      "              rdf:description ?dcc_name .\n",
      "}\n",
      "order by ?experiment"
     ],
     "language": "python",
     "metadata": {},
     "outputs": [
      {
       "output_type": "stream",
       "stream": "stdout",
       "text": [
        "Found 19 rows.\n"
       ]
      },
      {
       "html": [
        "<table><tr><td>experiment</td><td>library</td><td>dcc_name</td><td>jumpgate</td><td>name</td></tr><tr><td><a href=\"https://www.encodeproject.org/experiments/ENCSR000AIY/\">experiments:ENCSR000AIY/</a></td><td><a href=\"https://www.encodeproject.org/libraries/ENCLB391GZT/\">libraries:ENCLB391GZT/</a></td><td>RNA-seq of a single GM12878 cell</td><td><a href=\"http://jumpgate.caltech.edu/library/13285/\">library:13285/</a></td><td>Illumina index__N702_N504_Paired_ends_GM238_single_cell</td></tr><tr><td><a href=\"https://www.encodeproject.org/experiments/ENCSR000AJA/\">experiments:ENCSR000AJA/</a></td><td><a href=\"https://www.encodeproject.org/libraries/ENCLB198OUV/\">libraries:ENCLB198OUV/</a></td><td>RNA-seq of a single GM12878 cell</td><td><a href=\"http://jumpgate.caltech.edu/library/13283/\">library:13283/</a></td><td>Illumina index__N702_N502_Paired_ends_GM236_single_cell</td></tr><tr><td><a href=\"https://www.encodeproject.org/experiments/ENCSR000AJB/\">experiments:ENCSR000AJB/</a></td><td><a href=\"https://www.encodeproject.org/libraries/ENCLB264YKE/\">libraries:ENCLB264YKE/</a></td><td>RNA-seq of a single GM12878 cell</td><td><a href=\"http://jumpgate.caltech.edu/library/13288/\">library:13288/</a></td><td>Illumina index__N703_N503_Paired_ends_GM242_single_cell</td></tr><tr><td><a href=\"https://www.encodeproject.org/experiments/ENCSR000AJC/\">experiments:ENCSR000AJC/</a></td><td><a href=\"https://www.encodeproject.org/libraries/ENCLB714NCU/\">libraries:ENCLB714NCU/</a></td><td>RNA-seq of a single GM12878 cell</td><td><a href=\"http://jumpgate.caltech.edu/library/13286/\">library:13286/</a></td><td>Illumina index__N703_N501_Paired_ends_GM239_single_cell</td></tr><tr><td><a href=\"https://www.encodeproject.org/experiments/ENCSR000AJE/\">experiments:ENCSR000AJE/</a></td><td><a href=\"https://www.encodeproject.org/libraries/ENCLB267CXI/\">libraries:ENCLB267CXI/</a></td><td>RNA-seq of a single GM12878 cell</td><td><a href=\"http://jumpgate.caltech.edu/library/13282/\">library:13282/</a></td><td>Illumina index__N702_N501_Paired_ends_GM235_single_cell</td></tr><tr><td><a href=\"https://www.encodeproject.org/experiments/ENCSR000AJF/\">experiments:ENCSR000AJF/</a></td><td><a href=\"https://www.encodeproject.org/libraries/ENCLB868NQU/\">libraries:ENCLB868NQU/</a></td><td>RNA-seq of a single GM12878 cell</td><td><a href=\"http://jumpgate.caltech.edu/library/13287/\">library:13287/</a></td><td>Illumina index__N703_N502_Paired_ends_GM240_single_cell</td></tr><tr><td><a href=\"https://www.encodeproject.org/experiments/ENCSR000AJH/\">experiments:ENCSR000AJH/</a></td><td><a href=\"https://www.encodeproject.org/libraries/ENCLB319PGU/\">libraries:ENCLB319PGU/</a></td><td>RNA-seq of a single GM12878 cell</td><td><a href=\"http://jumpgate.caltech.edu/library/13284/\">library:13284/</a></td><td>Illumina index__N702_N503_Paired_ends_GM237_single_cell</td></tr><tr><td><a href=\"https://www.encodeproject.org/experiments/ENCSR184CWK/\">experiments:ENCSR184CWK/</a></td><td><a href=\"https://www.encodeproject.org/libraries/ENCLB206JYT/\">libraries:ENCLB206JYT/</a></td><td>RNA-seq of a single GM12878 cell</td><td><a href=\"http://jumpgate.caltech.edu/library/13289/\">library:13289/</a></td><td>Illumina index__N703_N504_Paired_ends_GM243_single_cell</td></tr><tr><td><a href=\"https://www.encodeproject.org/experiments/ENCSR625DPZ/\">experiments:ENCSR625DPZ/</a></td><td><a href=\"https://www.encodeproject.org/libraries/ENCLB402YMB/\">libraries:ENCLB402YMB/</a></td><td>RNA-seq of a single GM12878 cell</td><td><a href=\"http://jumpgate.caltech.edu/library/13291/\">library:13291/</a></td><td>Illumina index__N704_N502_Paired_ends_GM245_single_cell</td></tr><tr><td><a href=\"https://www.encodeproject.org/experiments/ENCSR673UIY/\">experiments:ENCSR673UIY/</a></td><td><a href=\"https://www.encodeproject.org/libraries/ENCLB882HPA/\">libraries:ENCLB882HPA/</a></td><td>RNA-seq on single cell equivalents of 10 isolated and homogenized GM12878 cells</td><td><a href=\"http://jumpgate.caltech.edu/library/13297/\">library:13297/</a></td><td>Illumina index__N705_N504_Paired_ends_GM251_poolsplit</td></tr><tr><td><a href=\"https://www.encodeproject.org/experiments/ENCSR673UIY/\">experiments:ENCSR673UIY/</a></td><td><a href=\"https://www.encodeproject.org/libraries/ENCLB804XTY/\">libraries:ENCLB804XTY/</a></td><td>RNA-seq on single cell equivalents of 10 isolated and homogenized GM12878 cells</td><td><a href=\"http://jumpgate.caltech.edu/library/13298/\">library:13298/</a></td><td>Illumina index__N706_N501_Paired_ends_GM252_poolsplit</td></tr><tr><td><a href=\"https://www.encodeproject.org/experiments/ENCSR673UIY/\">experiments:ENCSR673UIY/</a></td><td><a href=\"https://www.encodeproject.org/libraries/ENCLB242XIT/\">libraries:ENCLB242XIT/</a></td><td>RNA-seq on single cell equivalents of 10 isolated and homogenized GM12878 cells</td><td><a href=\"http://jumpgate.caltech.edu/library/13299/\">library:13299/</a></td><td>Illumina index__N706_N502_Paired_ends_GM253_poolsplit</td></tr><tr><td><a href=\"https://www.encodeproject.org/experiments/ENCSR673UIY/\">experiments:ENCSR673UIY/</a></td><td><a href=\"https://www.encodeproject.org/libraries/ENCLB211FCW/\">libraries:ENCLB211FCW/</a></td><td>RNA-seq on single cell equivalents of 10 isolated and homogenized GM12878 cells</td><td><a href=\"http://jumpgate.caltech.edu/library/13292/\">library:13292/</a></td><td>Illumina index__N704_N503_Paired_ends_GM246_poolsplit</td></tr><tr><td><a href=\"https://www.encodeproject.org/experiments/ENCSR673UIY/\">experiments:ENCSR673UIY/</a></td><td><a href=\"https://www.encodeproject.org/libraries/ENCLB720ZUM/\">libraries:ENCLB720ZUM/</a></td><td>RNA-seq on single cell equivalents of 10 isolated and homogenized GM12878 cells</td><td><a href=\"http://jumpgate.caltech.edu/library/13295/\">library:13295/</a></td><td>Illumina index__N705_N502_Paired_ends_GM249_poolsplit</td></tr><tr><td><a href=\"https://www.encodeproject.org/experiments/ENCSR673UIY/\">experiments:ENCSR673UIY/</a></td><td><a href=\"https://www.encodeproject.org/libraries/ENCLB187EEQ/\">libraries:ENCLB187EEQ/</a></td><td>RNA-seq on single cell equivalents of 10 isolated and homogenized GM12878 cells</td><td><a href=\"http://jumpgate.caltech.edu/library/13280/\">library:13280/</a></td><td>Illumina index__N701_N503_Paired_ends_GM232_poolsplit</td></tr><tr><td><a href=\"https://www.encodeproject.org/experiments/ENCSR673UIY/\">experiments:ENCSR673UIY/</a></td><td><a href=\"https://www.encodeproject.org/libraries/ENCLB146LAW/\">libraries:ENCLB146LAW/</a></td><td>RNA-seq on single cell equivalents of 10 isolated and homogenized GM12878 cells</td><td><a href=\"http://jumpgate.caltech.edu/library/13281/\">library:13281/</a></td><td>Illumina index__N701_N504_Paired_ends_GM233_poolsplit</td></tr><tr><td><a href=\"https://www.encodeproject.org/experiments/ENCSR673UIY/\">experiments:ENCSR673UIY/</a></td><td><a href=\"https://www.encodeproject.org/libraries/ENCLB108EAP/\">libraries:ENCLB108EAP/</a></td><td>RNA-seq on single cell equivalents of 10 isolated and homogenized GM12878 cells</td><td><a href=\"http://jumpgate.caltech.edu/library/13296/\">library:13296/</a></td><td>Illumina index__N705_N503_Paired_ends_GM250_poolsplit</td></tr><tr><td><a href=\"https://www.encodeproject.org/experiments/ENCSR673UIY/\">experiments:ENCSR673UIY/</a></td><td><a href=\"https://www.encodeproject.org/libraries/ENCLB283IJI/\">libraries:ENCLB283IJI/</a></td><td>RNA-seq on single cell equivalents of 10 isolated and homogenized GM12878 cells</td><td><a href=\"http://jumpgate.caltech.edu/library/13294/\">library:13294/</a></td><td>Illumina index__N705_N501_Paired_ends_GM248_poolsplit</td></tr><tr><td><a href=\"https://www.encodeproject.org/experiments/ENCSR767SOH/\">experiments:ENCSR767SOH/</a></td><td><a href=\"https://www.encodeproject.org/libraries/ENCLB476CZO/\">libraries:ENCLB476CZO/</a></td><td>RNA-seq of a single GM12878 cell</td><td><a href=\"http://jumpgate.caltech.edu/library/13290/\">library:13290/</a></td><td>Illumina index__N704_N501_Paired_ends_GM244_single_cell</td></tr></table>"
       ],
       "metadata": {},
       "output_type": "pyout",
       "prompt_number": 10,
       "text": [
        "<rdfmagic.LibRdfResults at 0x7f2ae05fb350>"
       ]
      }
     ],
     "prompt_number": 10
    },
    {
     "cell_type": "heading",
     "level": 2,
     "metadata": {},
     "source": [
      "GM12878 possible controls"
     ]
    },
    {
     "cell_type": "code",
     "collapsed": false,
     "input": [
      "%%sparql -m gm12878_model -c\n",
      "select ?s ?o\n",
      "where {\n",
      "  ?s experiment:possible_controls ?o .\n",
      "}\n"
     ],
     "language": "python",
     "metadata": {},
     "outputs": [
      {
       "output_type": "stream",
       "stream": "stdout",
       "text": [
        "Found 10 rows.\n"
       ]
      },
      {
       "html": [
        "<table><tr><td>s</td><td>o</td></tr><tr><td><a href=\"https://www.encodeproject.org/experiments/ENCSR000AIY/\">experiments:ENCSR000AIY/</a></td><td>/experiments/ENCSR673UIY/</td></tr><tr><td><a href=\"https://www.encodeproject.org/experiments/ENCSR000AJA/\">experiments:ENCSR000AJA/</a></td><td>/experiments/ENCSR673UIY/</td></tr><tr><td><a href=\"https://www.encodeproject.org/experiments/ENCSR000AJB/\">experiments:ENCSR000AJB/</a></td><td>/experiments/ENCSR673UIY/</td></tr><tr><td><a href=\"https://www.encodeproject.org/experiments/ENCSR000AJC/\">experiments:ENCSR000AJC/</a></td><td>/experiments/ENCSR673UIY/</td></tr><tr><td><a href=\"https://www.encodeproject.org/experiments/ENCSR000AJE/\">experiments:ENCSR000AJE/</a></td><td>/experiments/ENCSR673UIY/</td></tr><tr><td><a href=\"https://www.encodeproject.org/experiments/ENCSR000AJF/\">experiments:ENCSR000AJF/</a></td><td>/experiments/ENCSR673UIY/</td></tr><tr><td><a href=\"https://www.encodeproject.org/experiments/ENCSR000AJH/\">experiments:ENCSR000AJH/</a></td><td>/experiments/ENCSR673UIY/</td></tr><tr><td><a href=\"https://www.encodeproject.org/experiments/ENCSR184CWK/\">experiments:ENCSR184CWK/</a></td><td>/experiments/ENCSR673UIY/</td></tr><tr><td><a href=\"https://www.encodeproject.org/experiments/ENCSR625DPZ/\">experiments:ENCSR625DPZ/</a></td><td>/experiments/ENCSR673UIY/</td></tr><tr><td><a href=\"https://www.encodeproject.org/experiments/ENCSR767SOH/\">experiments:ENCSR767SOH/</a></td><td>/experiments/ENCSR673UIY/</td></tr></table>"
       ],
       "metadata": {},
       "output_type": "pyout",
       "prompt_number": 11,
       "text": [
        "<rdfmagic.LibRdfResults at 0x7f2ae05fb1d0>"
       ]
      }
     ],
     "prompt_number": 11
    },
    {
     "cell_type": "heading",
     "level": 1,
     "metadata": {},
     "source": [
      "Mouse purkinje single cell"
     ]
    },
    {
     "cell_type": "code",
     "collapsed": false,
     "input": [
      "mouse_purkinje_model = add_jumpgate_names_to_dataset(['https://www.encodeproject.org/datasets/ENCSR112CAL/'])"
     ],
     "language": "python",
     "metadata": {},
     "outputs": [
      {
       "metadata": {},
       "output_type": "display_data",
       "text": [
        "0"
       ]
      }
     ],
     "prompt_number": 12
    },
    {
     "cell_type": "code",
     "collapsed": false,
     "input": [
      "%%sparql -m gm12878_model -c\n",
      "select ?experiment ?library ?dcc_name ?jumpgate ?name\n",
      "where {\n",
      "  ?replicate a replicate:replicate ;\n",
      "             replicate:library ?library ;\n",
      "             replicate:experiment ?experiment .\n",
      "  ?library a library:library ;\n",
      "           htsw:library ?jumpgate .\n",
      "  ?jumpgate htsw:name ?name .\n",
      "\n",
      "  ?experiment a experiment:experiment ;\n",
      "              rdf:description ?dcc_name .\n",
      "}\n",
      "order by ?experiment"
     ],
     "language": "python",
     "metadata": {},
     "outputs": [
      {
       "output_type": "stream",
       "stream": "stdout",
       "text": [
        "Found 19 rows.\n"
       ]
      },
      {
       "html": [
        "<table><tr><td>experiment</td><td>library</td><td>dcc_name</td><td>jumpgate</td><td>name</td></tr><tr><td><a href=\"https://www.encodeproject.org/experiments/ENCSR000AIY/\">experiments:ENCSR000AIY/</a></td><td><a href=\"https://www.encodeproject.org/libraries/ENCLB391GZT/\">libraries:ENCLB391GZT/</a></td><td>RNA-seq of a single GM12878 cell</td><td><a href=\"http://jumpgate.caltech.edu/library/13285/\">library:13285/</a></td><td>Illumina index__N702_N504_Paired_ends_GM238_single_cell</td></tr><tr><td><a href=\"https://www.encodeproject.org/experiments/ENCSR000AJA/\">experiments:ENCSR000AJA/</a></td><td><a href=\"https://www.encodeproject.org/libraries/ENCLB198OUV/\">libraries:ENCLB198OUV/</a></td><td>RNA-seq of a single GM12878 cell</td><td><a href=\"http://jumpgate.caltech.edu/library/13283/\">library:13283/</a></td><td>Illumina index__N702_N502_Paired_ends_GM236_single_cell</td></tr><tr><td><a href=\"https://www.encodeproject.org/experiments/ENCSR000AJB/\">experiments:ENCSR000AJB/</a></td><td><a href=\"https://www.encodeproject.org/libraries/ENCLB264YKE/\">libraries:ENCLB264YKE/</a></td><td>RNA-seq of a single GM12878 cell</td><td><a href=\"http://jumpgate.caltech.edu/library/13288/\">library:13288/</a></td><td>Illumina index__N703_N503_Paired_ends_GM242_single_cell</td></tr><tr><td><a href=\"https://www.encodeproject.org/experiments/ENCSR000AJC/\">experiments:ENCSR000AJC/</a></td><td><a href=\"https://www.encodeproject.org/libraries/ENCLB714NCU/\">libraries:ENCLB714NCU/</a></td><td>RNA-seq of a single GM12878 cell</td><td><a href=\"http://jumpgate.caltech.edu/library/13286/\">library:13286/</a></td><td>Illumina index__N703_N501_Paired_ends_GM239_single_cell</td></tr><tr><td><a href=\"https://www.encodeproject.org/experiments/ENCSR000AJE/\">experiments:ENCSR000AJE/</a></td><td><a href=\"https://www.encodeproject.org/libraries/ENCLB267CXI/\">libraries:ENCLB267CXI/</a></td><td>RNA-seq of a single GM12878 cell</td><td><a href=\"http://jumpgate.caltech.edu/library/13282/\">library:13282/</a></td><td>Illumina index__N702_N501_Paired_ends_GM235_single_cell</td></tr><tr><td><a href=\"https://www.encodeproject.org/experiments/ENCSR000AJF/\">experiments:ENCSR000AJF/</a></td><td><a href=\"https://www.encodeproject.org/libraries/ENCLB868NQU/\">libraries:ENCLB868NQU/</a></td><td>RNA-seq of a single GM12878 cell</td><td><a href=\"http://jumpgate.caltech.edu/library/13287/\">library:13287/</a></td><td>Illumina index__N703_N502_Paired_ends_GM240_single_cell</td></tr><tr><td><a href=\"https://www.encodeproject.org/experiments/ENCSR000AJH/\">experiments:ENCSR000AJH/</a></td><td><a href=\"https://www.encodeproject.org/libraries/ENCLB319PGU/\">libraries:ENCLB319PGU/</a></td><td>RNA-seq of a single GM12878 cell</td><td><a href=\"http://jumpgate.caltech.edu/library/13284/\">library:13284/</a></td><td>Illumina index__N702_N503_Paired_ends_GM237_single_cell</td></tr><tr><td><a href=\"https://www.encodeproject.org/experiments/ENCSR184CWK/\">experiments:ENCSR184CWK/</a></td><td><a href=\"https://www.encodeproject.org/libraries/ENCLB206JYT/\">libraries:ENCLB206JYT/</a></td><td>RNA-seq of a single GM12878 cell</td><td><a href=\"http://jumpgate.caltech.edu/library/13289/\">library:13289/</a></td><td>Illumina index__N703_N504_Paired_ends_GM243_single_cell</td></tr><tr><td><a href=\"https://www.encodeproject.org/experiments/ENCSR625DPZ/\">experiments:ENCSR625DPZ/</a></td><td><a href=\"https://www.encodeproject.org/libraries/ENCLB402YMB/\">libraries:ENCLB402YMB/</a></td><td>RNA-seq of a single GM12878 cell</td><td><a href=\"http://jumpgate.caltech.edu/library/13291/\">library:13291/</a></td><td>Illumina index__N704_N502_Paired_ends_GM245_single_cell</td></tr><tr><td><a href=\"https://www.encodeproject.org/experiments/ENCSR673UIY/\">experiments:ENCSR673UIY/</a></td><td><a href=\"https://www.encodeproject.org/libraries/ENCLB882HPA/\">libraries:ENCLB882HPA/</a></td><td>RNA-seq on single cell equivalents of 10 isolated and homogenized GM12878 cells</td><td><a href=\"http://jumpgate.caltech.edu/library/13297/\">library:13297/</a></td><td>Illumina index__N705_N504_Paired_ends_GM251_poolsplit</td></tr><tr><td><a href=\"https://www.encodeproject.org/experiments/ENCSR673UIY/\">experiments:ENCSR673UIY/</a></td><td><a href=\"https://www.encodeproject.org/libraries/ENCLB804XTY/\">libraries:ENCLB804XTY/</a></td><td>RNA-seq on single cell equivalents of 10 isolated and homogenized GM12878 cells</td><td><a href=\"http://jumpgate.caltech.edu/library/13298/\">library:13298/</a></td><td>Illumina index__N706_N501_Paired_ends_GM252_poolsplit</td></tr><tr><td><a href=\"https://www.encodeproject.org/experiments/ENCSR673UIY/\">experiments:ENCSR673UIY/</a></td><td><a href=\"https://www.encodeproject.org/libraries/ENCLB242XIT/\">libraries:ENCLB242XIT/</a></td><td>RNA-seq on single cell equivalents of 10 isolated and homogenized GM12878 cells</td><td><a href=\"http://jumpgate.caltech.edu/library/13299/\">library:13299/</a></td><td>Illumina index__N706_N502_Paired_ends_GM253_poolsplit</td></tr><tr><td><a href=\"https://www.encodeproject.org/experiments/ENCSR673UIY/\">experiments:ENCSR673UIY/</a></td><td><a href=\"https://www.encodeproject.org/libraries/ENCLB211FCW/\">libraries:ENCLB211FCW/</a></td><td>RNA-seq on single cell equivalents of 10 isolated and homogenized GM12878 cells</td><td><a href=\"http://jumpgate.caltech.edu/library/13292/\">library:13292/</a></td><td>Illumina index__N704_N503_Paired_ends_GM246_poolsplit</td></tr><tr><td><a href=\"https://www.encodeproject.org/experiments/ENCSR673UIY/\">experiments:ENCSR673UIY/</a></td><td><a href=\"https://www.encodeproject.org/libraries/ENCLB720ZUM/\">libraries:ENCLB720ZUM/</a></td><td>RNA-seq on single cell equivalents of 10 isolated and homogenized GM12878 cells</td><td><a href=\"http://jumpgate.caltech.edu/library/13295/\">library:13295/</a></td><td>Illumina index__N705_N502_Paired_ends_GM249_poolsplit</td></tr><tr><td><a href=\"https://www.encodeproject.org/experiments/ENCSR673UIY/\">experiments:ENCSR673UIY/</a></td><td><a href=\"https://www.encodeproject.org/libraries/ENCLB187EEQ/\">libraries:ENCLB187EEQ/</a></td><td>RNA-seq on single cell equivalents of 10 isolated and homogenized GM12878 cells</td><td><a href=\"http://jumpgate.caltech.edu/library/13280/\">library:13280/</a></td><td>Illumina index__N701_N503_Paired_ends_GM232_poolsplit</td></tr><tr><td><a href=\"https://www.encodeproject.org/experiments/ENCSR673UIY/\">experiments:ENCSR673UIY/</a></td><td><a href=\"https://www.encodeproject.org/libraries/ENCLB146LAW/\">libraries:ENCLB146LAW/</a></td><td>RNA-seq on single cell equivalents of 10 isolated and homogenized GM12878 cells</td><td><a href=\"http://jumpgate.caltech.edu/library/13281/\">library:13281/</a></td><td>Illumina index__N701_N504_Paired_ends_GM233_poolsplit</td></tr><tr><td><a href=\"https://www.encodeproject.org/experiments/ENCSR673UIY/\">experiments:ENCSR673UIY/</a></td><td><a href=\"https://www.encodeproject.org/libraries/ENCLB108EAP/\">libraries:ENCLB108EAP/</a></td><td>RNA-seq on single cell equivalents of 10 isolated and homogenized GM12878 cells</td><td><a href=\"http://jumpgate.caltech.edu/library/13296/\">library:13296/</a></td><td>Illumina index__N705_N503_Paired_ends_GM250_poolsplit</td></tr><tr><td><a href=\"https://www.encodeproject.org/experiments/ENCSR673UIY/\">experiments:ENCSR673UIY/</a></td><td><a href=\"https://www.encodeproject.org/libraries/ENCLB283IJI/\">libraries:ENCLB283IJI/</a></td><td>RNA-seq on single cell equivalents of 10 isolated and homogenized GM12878 cells</td><td><a href=\"http://jumpgate.caltech.edu/library/13294/\">library:13294/</a></td><td>Illumina index__N705_N501_Paired_ends_GM248_poolsplit</td></tr><tr><td><a href=\"https://www.encodeproject.org/experiments/ENCSR767SOH/\">experiments:ENCSR767SOH/</a></td><td><a href=\"https://www.encodeproject.org/libraries/ENCLB476CZO/\">libraries:ENCLB476CZO/</a></td><td>RNA-seq of a single GM12878 cell</td><td><a href=\"http://jumpgate.caltech.edu/library/13290/\">library:13290/</a></td><td>Illumina index__N704_N501_Paired_ends_GM244_single_cell</td></tr></table>"
       ],
       "metadata": {},
       "output_type": "pyout",
       "prompt_number": 13,
       "text": [
        "<rdfmagic.LibRdfResults at 0x7f2adfed4910>"
       ]
      }
     ],
     "prompt_number": 13
    },
    {
     "cell_type": "code",
     "collapsed": false,
     "input": [
      "%%sparql -m mouse_purkinje_model -c\n",
      "select ?s ?o\n",
      "where {\n",
      "  ?s experiment:possible_controls ?o .\n",
      "}\n"
     ],
     "language": "python",
     "metadata": {},
     "outputs": [
      {
       "output_type": "stream",
       "stream": "stdout",
       "text": [
        "Found 0 rows.\n"
       ]
      },
      {
       "html": [
        "<table><tr></tr></table>"
       ],
       "metadata": {},
       "output_type": "pyout",
       "prompt_number": 14,
       "text": [
        "<rdfmagic.LibRdfResults at 0x7f2adfed40d0>"
       ]
      }
     ],
     "prompt_number": 14
    },
    {
     "cell_type": "heading",
     "level": 1,
     "metadata": {},
     "source": [
      "Other sheet from cricket"
     ]
    },
    {
     "cell_type": "code",
     "collapsed": false,
     "input": [
      "experiments = ['ENCSR000OXO', 'ENCSR000OXO', 'ENCSR592MSV', 'ENCSR592MSV', 'ENCSR225BBK', 'ENCSR225BBK', 'ENCSR368QPC', 'ENCSR368QPC', 'ENCSR527RFK', 'ENCSR527RFK', 'ENCSR510ADJ', 'ENCSR510ADJ', 'ENCSR861FGB', 'ENCSR861FGB', 'ENCSR950BNG', 'ENCSR950BNG', 'ENCSR026ZRP', 'ENCSR026ZRP', 'ENCSR265YFZ', 'ENCSR265YFZ', 'ENCSR907JUN', 'ENCSR907JUN', ]\n",
      "other_model = add_jumpgate_names_to_dataset([ '/experiments/' + x for x in experiments ])"
     ],
     "language": "python",
     "metadata": {},
     "outputs": [
      {
       "metadata": {},
       "output_type": "display_data",
       "text": [
        "22"
       ]
      }
     ],
     "prompt_number": 15
    },
    {
     "cell_type": "code",
     "collapsed": false,
     "input": [
      "%%sparql -m other_model -c\n",
      "select ?experiment ?library ?dcc_name ?jumpgate ?name\n",
      "where {\n",
      "  ?replicate a replicate:replicate ;\n",
      "             replicate:library ?library ;\n",
      "             replicate:experiment ?experiment .\n",
      "  ?library a library:library ;\n",
      "           htsw:library ?jumpgate .\n",
      "  ?jumpgate htsw:name ?name .\n",
      "\n",
      "  ?experiment a experiment:experiment ;\n",
      "              rdf:description ?dcc_name ;\n",
      "}\n",
      "order by ?experiment"
     ],
     "language": "python",
     "metadata": {},
     "outputs": [
      {
       "output_type": "stream",
       "stream": "stdout",
       "text": [
        "Found 22 rows.\n"
       ]
      },
      {
       "html": [
        "<table><tr><td>experiment</td><td>library</td><td>dcc_name</td><td>jumpgate</td><td>name</td></tr><tr><td><a href=\"https://www.encodeproject.org/experiments/ENCSR000OXO/\">experiments:ENCSR000OXO/</a></td><td><a href=\"https://www.encodeproject.org/libraries/ENCLB917PKP/\">libraries:ENCLB917PKP/</a></td><td>Total RNA-seq on embryonic 11.5 day mouse forebrain</td><td><a href=\"http://jumpgate.caltech.edu/library/14653/\">library:14653/</a></td><td>Illumina index__710_503_Paired_ends__e11.5 forebrain 1_GITC_7/1/2014_13pgs</td></tr><tr><td><a href=\"https://www.encodeproject.org/experiments/ENCSR000OXO/\">experiments:ENCSR000OXO/</a></td><td><a href=\"https://www.encodeproject.org/libraries/ENCLB026BHP/\">libraries:ENCLB026BHP/</a></td><td>Total RNA-seq on embryonic 11.5 day mouse forebrain</td><td><a href=\"http://jumpgate.caltech.edu/library/14654/\">library:14654/</a></td><td>Illumina index__711_504_Paired_ends__e11.5 forebrain 2_GITC_7/1/2014_13pgs</td></tr><tr><td><a href=\"https://www.encodeproject.org/experiments/ENCSR026ZRP/\">experiments:ENCSR026ZRP/</a></td><td><a href=\"https://www.encodeproject.org/libraries/ENCLB719BQO/\">libraries:ENCLB719BQO/</a></td><td>Total RNA-seq on postnatal 0 day mouse midbrain (13pgs)</td><td><a href=\"http://jumpgate.caltech.edu/library/14495/\">library:14495/</a></td><td>Illumina index__N711_N505_Paired_ends__midbrain total RNA extract 4/4/14_13pgs</td></tr><tr><td><a href=\"https://www.encodeproject.org/experiments/ENCSR026ZRP/\">experiments:ENCSR026ZRP/</a></td><td><a href=\"https://www.encodeproject.org/libraries/ENCLB669AEL/\">libraries:ENCLB669AEL/</a></td><td>Total RNA-seq on postnatal 0 day mouse midbrain (13pgs)</td><td><a href=\"http://jumpgate.caltech.edu/library/14630/\">library:14630/</a></td><td>Illumina index__711_508_Paired_ends__P0_midbrain2_GITC_5/12/14_13pgs</td></tr><tr><td><a href=\"https://www.encodeproject.org/experiments/ENCSR225BBK/\">experiments:ENCSR225BBK/</a></td><td><a href=\"https://www.encodeproject.org/libraries/ENCLB941VYE/\">libraries:ENCLB941VYE/</a></td><td>Total RNA-seq on PGP human bipolar spindle neurons (13pgs)</td><td><a href=\"http://jumpgate.caltech.edu/library/14486/\">library:14486/</a></td><td>Illumina index__N702_N504_Paired_ends__PGP bipolar neurons 2_13pgs</td></tr><tr><td><a href=\"https://www.encodeproject.org/experiments/ENCSR225BBK/\">experiments:ENCSR225BBK/</a></td><td><a href=\"https://www.encodeproject.org/libraries/ENCLB463KOX/\">libraries:ENCLB463KOX/</a></td><td>Total RNA-seq on PGP human bipolar spindle neurons (13pgs)</td><td><a href=\"http://jumpgate.caltech.edu/library/14485/\">library:14485/</a></td><td>Illumina index__N701_N503_Paired_ends__PGP bipolar neurons 1_13pgs</td></tr><tr><td><a href=\"https://www.encodeproject.org/experiments/ENCSR265YFZ/\">experiments:ENCSR265YFZ/</a></td><td><a href=\"https://www.encodeproject.org/libraries/ENCLB304LFK/\">libraries:ENCLB304LFK/</a></td><td>Total RNA-seq on postnatal 0 day mouse skeletal muscle (13pgs)</td><td><a href=\"http://jumpgate.caltech.edu/library/14501/\">library:14501/</a></td><td>Illumina index__N705_N503_Paired_ends__skeletal muscle total RNA extract 4/4/14_13pgs</td></tr><tr><td><a href=\"https://www.encodeproject.org/experiments/ENCSR265YFZ/\">experiments:ENCSR265YFZ/</a></td><td><a href=\"https://www.encodeproject.org/libraries/ENCLB096HAH/\">libraries:ENCLB096HAH/</a></td><td>Total RNA-seq on postnatal 0 day mouse skeletal muscle (13pgs)</td><td><a href=\"http://jumpgate.caltech.edu/library/14634/\">library:14634/</a></td><td>Illumina index__703_504_Paired_ends__P0_skmus2_GITC_5/12/14_13pgs</td></tr><tr><td><a href=\"https://www.encodeproject.org/experiments/ENCSR368QPC/\">experiments:ENCSR368QPC/</a></td><td><a href=\"https://www.encodeproject.org/libraries/ENCLB171NYD/\">libraries:ENCLB171NYD/</a></td><td>Total RNA-seq on PGP human IPS cells (13pgs)</td><td><a href=\"http://jumpgate.caltech.edu/library/14488/\">library:14488/</a></td><td>Illumina index__N704_N506_Paired_ends__PGP IPS cells 2_13pgs</td></tr><tr><td><a href=\"https://www.encodeproject.org/experiments/ENCSR368QPC/\">experiments:ENCSR368QPC/</a></td><td><a href=\"https://www.encodeproject.org/libraries/ENCLB237OAE/\">libraries:ENCLB237OAE/</a></td><td>Total RNA-seq on PGP human IPS cells (13pgs)</td><td><a href=\"http://jumpgate.caltech.edu/library/14487/\">library:14487/</a></td><td>Illumina index__N703_N505_Paired_ends__PGP IPS cells 1_13pgs</td></tr><tr><td><a href=\"https://www.encodeproject.org/experiments/ENCSR510ADJ/\">experiments:ENCSR510ADJ/</a></td><td><a href=\"https://www.encodeproject.org/libraries/ENCLB652HKH/\">libraries:ENCLB652HKH/</a></td><td>Total RNA-seq on postnatal 0 day mouse heart (13pg)</td><td><a href=\"http://jumpgate.caltech.edu/library/14628/\">library:14628/</a></td><td>Illumina index__709_506_Paired_ends__P0_heart1_GITC_4/4/14_13pgs</td></tr><tr><td><a href=\"https://www.encodeproject.org/experiments/ENCSR510ADJ/\">experiments:ENCSR510ADJ/</a></td><td><a href=\"https://www.encodeproject.org/libraries/ENCLB348BMH/\">libraries:ENCLB348BMH/</a></td><td>Total RNA-seq on postnatal 0 day mouse heart (13pg)</td><td><a href=\"http://jumpgate.caltech.edu/library/14632/\">library:14632/</a></td><td>Illumina index__701_502_Paired_ends__P0_heart2_GITC_5/12/14_13pgs</td></tr><tr><td><a href=\"https://www.encodeproject.org/experiments/ENCSR527RFK/\">experiments:ENCSR527RFK/</a></td><td><a href=\"https://www.encodeproject.org/libraries/ENCLB181TCJ/\">libraries:ENCLB181TCJ/</a></td><td>Total RNA-seq on postnatal 0 day mouse forebrain (13pgs)</td><td><a href=\"http://jumpgate.caltech.edu/library/14629/\">library:14629/</a></td><td>Illumina index__710_507_Paired_ends__P0_forebrain2_GITC_5/12/14_13pgs</td></tr><tr><td><a href=\"https://www.encodeproject.org/experiments/ENCSR527RFK/\">experiments:ENCSR527RFK/</a></td><td><a href=\"https://www.encodeproject.org/libraries/ENCLB766UOB/\">libraries:ENCLB766UOB/</a></td><td>Total RNA-seq on postnatal 0 day mouse forebrain (13pgs)</td><td><a href=\"http://jumpgate.caltech.edu/library/14626/\">library:14626/</a></td><td>Illumina index__707_504_Paired_ends__P0_forebrain1_GITC_4/4/14_13pgs</td></tr><tr><td><a href=\"https://www.encodeproject.org/experiments/ENCSR592MSV/\">experiments:ENCSR592MSV/</a></td><td><a href=\"https://www.encodeproject.org/libraries/ENCLB905LVV/\">libraries:ENCLB905LVV/</a></td><td>Total RNA-seq on embryonic 11.5 day mouse liver</td><td><a href=\"http://jumpgate.caltech.edu/library/14656/\">library:14656/</a></td><td>Illumina index__701_506_Paired_ends__e11.5 liver 2_GITC_7/1/2014_13pgs</td></tr><tr><td><a href=\"https://www.encodeproject.org/experiments/ENCSR592MSV/\">experiments:ENCSR592MSV/</a></td><td><a href=\"https://www.encodeproject.org/libraries/ENCLB449LBZ/\">libraries:ENCLB449LBZ/</a></td><td>Total RNA-seq on embryonic 11.5 day mouse liver</td><td><a href=\"http://jumpgate.caltech.edu/library/14655/\">library:14655/</a></td><td>Illumina index__712_505_Paired_ends__e11.5 liver 1_GITC_7/1/2014_13pgs</td></tr><tr><td><a href=\"https://www.encodeproject.org/experiments/ENCSR861FGB/\">experiments:ENCSR861FGB/</a></td><td><a href=\"https://www.encodeproject.org/libraries/ENCLB765HDK/\">libraries:ENCLB765HDK/</a></td><td>Total RNA-seq on postnatal 0 day mouse hindbrain (13pgs)</td><td><a href=\"http://jumpgate.caltech.edu/library/14631/\">library:14631/</a></td><td>Illumina index__712_501_Paired_ends__P0_hindbrain2_GITC_5/12/14_13pgs</td></tr><tr><td><a href=\"https://www.encodeproject.org/experiments/ENCSR861FGB/\">experiments:ENCSR861FGB/</a></td><td><a href=\"https://www.encodeproject.org/libraries/ENCLB238LIR/\">libraries:ENCLB238LIR/</a></td><td>Total RNA-seq on postnatal 0 day mouse hindbrain (13pgs)</td><td><a href=\"http://jumpgate.caltech.edu/library/14627/\">library:14627/</a></td><td>Illumina index__708_505_Paired_ends__P0_hindbrain1_GITC_4/4/14_13pgs</td></tr><tr><td><a href=\"https://www.encodeproject.org/experiments/ENCSR907JUN/\">experiments:ENCSR907JUN/</a></td><td><a href=\"https://www.encodeproject.org/libraries/ENCLB005HHX/\">libraries:ENCLB005HHX/</a></td><td>Total RNA-seq on postnatal 0 day mouse thymus (13pgs)</td><td><a href=\"http://jumpgate.caltech.edu/library/14635/\">library:14635/</a></td><td>Illumina index__704_505_Paired_ends__P0_thymus1_GITC_5/28/14_13pgs</td></tr><tr><td><a href=\"https://www.encodeproject.org/experiments/ENCSR907JUN/\">experiments:ENCSR907JUN/</a></td><td><a href=\"https://www.encodeproject.org/libraries/ENCLB185MNU/\">libraries:ENCLB185MNU/</a></td><td>Total RNA-seq on postnatal 0 day mouse thymus (13pgs)</td><td><a href=\"http://jumpgate.caltech.edu/library/14636/\">library:14636/</a></td><td>Illumina index__705_506_Paired_ends__P0_thymus2_GITC_5/28/14_13pgs</td></tr><tr><td><a href=\"https://www.encodeproject.org/experiments/ENCSR950BNG/\">experiments:ENCSR950BNG/</a></td><td><a href=\"https://www.encodeproject.org/libraries/ENCLB791CRT/\">libraries:ENCLB791CRT/</a></td><td>Total RNA-seq on postnatal 0 day mouse liver (13pgs)</td><td><a href=\"http://jumpgate.caltech.edu/library/14633/\">library:14633/</a></td><td>Illumina index__702_503_Paired_ends__P0_liver2_GITC_5/12/14_13pgs</td></tr><tr><td><a href=\"https://www.encodeproject.org/experiments/ENCSR950BNG/\">experiments:ENCSR950BNG/</a></td><td><a href=\"https://www.encodeproject.org/libraries/ENCLB356IIP/\">libraries:ENCLB356IIP/</a></td><td>Total RNA-seq on postnatal 0 day mouse liver (13pgs)</td><td><a href=\"http://jumpgate.caltech.edu/library/14499/\">library:14499/</a></td><td>Illumina index__N703_N501_Paired_ends__liver total RNA extract 4/4/14_13pgs</td></tr></table>"
       ],
       "metadata": {},
       "output_type": "pyout",
       "prompt_number": 16,
       "text": [
        "<rdfmagic.LibRdfResults at 0x7f2b06781bd0>"
       ]
      }
     ],
     "prompt_number": 16
    },
    {
     "cell_type": "heading",
     "level": 1,
     "metadata": {},
     "source": [
      "Other files possible controls"
     ]
    },
    {
     "cell_type": "code",
     "collapsed": false,
     "input": [
      "%%sparql -m other_model -c\n",
      "select ?s ?o\n",
      "where {\n",
      "  ?s experiment:possible_controls ?o .\n",
      "}\n"
     ],
     "language": "python",
     "metadata": {},
     "outputs": [
      {
       "output_type": "stream",
       "stream": "stdout",
       "text": [
        "Found 0 rows.\n"
       ]
      },
      {
       "html": [
        "<table><tr></tr></table>"
       ],
       "metadata": {},
       "output_type": "pyout",
       "prompt_number": 17,
       "text": [
        "<rdfmagic.LibRdfResults at 0x7f2adff1a2d0>"
       ]
      }
     ],
     "prompt_number": 17
    },
    {
     "cell_type": "heading",
     "level": 2,
     "metadata": {},
     "source": [
      "Other files files to make dataset from"
     ]
    },
    {
     "cell_type": "code",
     "collapsed": false,
     "input": [
      "%%sparql -m other_model -c -o other_files\n",
      "select ?experiment ?file ?filename\n",
      "where {\n",
      "  ?experiment experiment:files ?file .\n",
      "  ?file a file:file ;\n",
      "        file:submitted_file_name ?filename .\n",
      "\n",
      "}\n"
     ],
     "language": "python",
     "metadata": {},
     "outputs": [
      {
       "output_type": "stream",
       "stream": "stdout",
       "text": [
        "Found 296 rows.\n"
       ]
      }
     ],
     "prompt_number": 18
    },
    {
     "cell_type": "heading",
     "level": 1,
     "metadata": {},
     "source": [
      "Last Updated"
     ]
    },
    {
     "cell_type": "code",
     "collapsed": false,
     "input": [
      "import datetime\n",
      "datetime.datetime.now().ctime()"
     ],
     "language": "python",
     "metadata": {},
     "outputs": [
      {
       "metadata": {},
       "output_type": "pyout",
       "prompt_number": 19,
       "text": [
        "'Mon Apr 13 16:29:52 2015'"
       ]
      }
     ],
     "prompt_number": 19
    },
    {
     "cell_type": "code",
     "collapsed": false,
     "input": [],
     "language": "python",
     "metadata": {},
     "outputs": [],
     "prompt_number": 19
    },
    {
     "cell_type": "code",
     "collapsed": false,
     "input": [],
     "language": "python",
     "metadata": {},
     "outputs": [],
     "prompt_number": 19
    }
   ],
   "metadata": {}
  }
 ]
}