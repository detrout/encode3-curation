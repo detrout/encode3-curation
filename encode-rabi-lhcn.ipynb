{
 "cells": [
  {
   "cell_type": "markdown",
   "metadata": {
    "collapsed": true
   },
   "source": [
    "Register two missing biosamples"
   ]
  },
  {
   "cell_type": "code",
   "execution_count": 1,
   "metadata": {
    "collapsed": false
   },
   "outputs": [],
   "source": [
    "import pandas\n",
    "import gcat"
   ]
  },
  {
   "cell_type": "code",
   "execution_count": 2,
   "metadata": {
    "collapsed": false
   },
   "outputs": [],
   "source": [
    "from curation_common import *"
   ]
  },
  {
   "cell_type": "code",
   "execution_count": 3,
   "metadata": {
    "collapsed": false
   },
   "outputs": [],
   "source": [
    "encode = ENCODED('www.encodeproject.org')\n",
    "encode.load_netrc()"
   ]
  },
  {
   "cell_type": "markdown",
   "metadata": {},
   "source": [
    "# create biosamples"
   ]
  },
  {
   "cell_type": "code",
   "execution_count": 4,
   "metadata": {
    "collapsed": false
   },
   "outputs": [],
   "source": [
    "spreadsheet_name = \"Register LHCN\"\n",
    "mice_book = gcat.get_file(spreadsheet_name, fmt='pandas_excel')\n",
    "mice = mice_book.parse('Sheet1')"
   ]
  },
  {
   "cell_type": "code",
   "execution_count": 5,
   "metadata": {
    "collapsed": false
   },
   "outputs": [
    {
     "name": "stdout",
     "output_type": "stream",
     "text": [
      "Reponse {'@graph': [{'starting_amount': 90000000, 'biosample_term_id': 'EFO:0005714', 'aliases': ['barbara-wold:sample-12986'], 'references': [], 'award': '/awards/U54HG006998/', 'description': 'LHCN diff rep1', 'biosample_term_name': 'LHCN-M2', 'lab': '/labs/barbara-wold/', 'pooled_from': [], 'characterizations': [], 'system_slims': [], 'donor': '/human-donors/ENCDO000ACW/', 'status': 'in progress', 'organism': '/organisms/human/', '@type': ['Biosample', 'Item'], 'rnais': [], 'treatments': [], 'age_display': '41 year', 'sex': 'male', 'submitted_by': '/users/bc5b62f7-ce28-4a1e-b6b3-81c9c5a86d7a/', 'synonyms': ['LHCN M2', 'LHCNM2'], 'dbxrefs': [], 'age_units': 'year', 'source': '/sources/woodring-wright/', 'uuid': 'bf6ab0a5-542d-4cf5-bfd4-62d8fe23f75c', 'protocol_documents': ['/documents/b02dbc05-d0c8-4754-98f0-5b994d568521/'], 'date_created': '2015-11-10T23:19:34.837629+00:00', 'schema_version': '11', 'accession': 'ENCBS575BSN', 'talens': [], 'biosample_type': 'immortalized cell line', 'alternate_accessions': [], '@id': '/biosamples/ENCBS575BSN/', 'constructs': [], 'organ_slims': [], 'age': '41', 'starting_amount_units': 'cells', 'culture_harvest_date': '2012-03-13', 'developmental_slims': [], 'life_stage': 'adult'}], '@type': ['result'], 'status': 'success'}\n",
      "row 0 created: ENCBS575BSN\n",
      "Reponse {'@graph': [{'starting_amount': 90000000, 'biosample_term_id': 'EFO:0005714', 'aliases': ['barbara-wold:sample-12987'], 'references': [], 'award': '/awards/U54HG006998/', 'description': 'LHCN diff rep2', 'biosample_term_name': 'LHCN-M2', 'lab': '/labs/barbara-wold/', 'pooled_from': [], 'characterizations': [], 'system_slims': [], 'donor': '/human-donors/ENCDO000ACW/', 'status': 'in progress', 'organism': '/organisms/human/', '@type': ['Biosample', 'Item'], 'rnais': [], 'treatments': [], 'age_display': '41 year', 'sex': 'male', 'submitted_by': '/users/bc5b62f7-ce28-4a1e-b6b3-81c9c5a86d7a/', 'synonyms': ['LHCN M2', 'LHCNM2'], 'dbxrefs': [], 'age_units': 'year', 'source': '/sources/woodring-wright/', 'uuid': '8cc66288-87d7-48ff-bfd4-d74806331018', 'protocol_documents': ['/documents/b02dbc05-d0c8-4754-98f0-5b994d568521/'], 'date_created': '2015-11-10T23:19:35.351973+00:00', 'schema_version': '11', 'accession': 'ENCBS986HXG', 'talens': [], 'biosample_type': 'immortalized cell line', 'alternate_accessions': [], '@id': '/biosamples/ENCBS986HXG/', 'constructs': [], 'organ_slims': [], 'age': '41', 'starting_amount_units': 'cells', 'culture_harvest_date': '2012-04-02', 'developmental_slims': [], 'life_stage': 'adult'}], '@type': ['result'], 'status': 'success'}\n",
      "row 1 created: ENCBS986HXG\n"
     ]
    },
    {
     "name": "stderr",
     "output_type": "stream",
     "text": [
      "/home/diane/proj/htsworkflow/htsworkflow/submission/encoded.py:393: SettingWithCopyWarning: \n",
      "A value is trying to be set on a copy of a slice from a DataFrame\n",
      "\n",
      "See the caveats in the documentation: http://pandas.pydata.org/pandas-docs/stable/indexing.html#indexing-view-versus-copy\n",
      "  sheet[accession_name][i] = accession\n",
      "/usr/lib/python3/dist-packages/pandas/core/indexing.py:115: SettingWithCopyWarning: \n",
      "A value is trying to be set on a copy of a slice from a DataFrame\n",
      "\n",
      "See the caveats in the documentation: http://pandas.pydata.org/pandas-docs/stable/indexing.html#indexing-view-versus-copy\n",
      "  self._setitem_with_indexer(indexer, value)\n"
     ]
    }
   ],
   "source": [
    "created = encode.post_sheet('/biosamples/', mice, verbose=True, dry_run=False)"
   ]
  },
  {
   "cell_type": "code",
   "execution_count": 6,
   "metadata": {
    "collapsed": false
   },
   "outputs": [],
   "source": [
    "if created:\n",
    "    updates = []\n",
    "    for row in created:\n",
    "        updates.append({'uuid': row['uuid'], 'biosample_accession': row['accession'], 'aliases': row['aliases'][0]})\n",
    "    updatesdf = pandas.DataFrame(updates, columns=['uuid', 'biosample_accession', 'aliases'])\n",
    "    updatesdf.to_excel('/tmp/update.xlsx')"
   ]
  },
  {
   "cell_type": "code",
   "execution_count": null,
   "metadata": {
    "collapsed": true
   },
   "outputs": [],
   "source": []
  }
 ],
 "metadata": {
  "kernelspec": {
   "display_name": "Python 3",
   "language": "python",
   "name": "python3"
  },
  "language_info": {
   "codemirror_mode": {
    "name": "ipython",
    "version": 3
   },
   "file_extension": ".py",
   "mimetype": "text/x-python",
   "name": "python",
   "nbconvert_exporter": "python",
   "pygments_lexer": "ipython3",
   "version": "3.4.3+"
  }
 },
 "nbformat": 4,
 "nbformat_minor": 0
}
