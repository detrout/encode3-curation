{
 "metadata": {
  "name": "",
  "signature": "sha256:436137e792ceaef6a4d3a5edd35a12eabab9349372345f82f7b464ac6999c16a"
 },
 "nbformat": 3,
 "nbformat_minor": 0,
 "worksheets": [
  {
   "cells": [
    {
     "cell_type": "code",
     "collapsed": false,
     "input": [
      "import pandas\n",
      "from curation_common import *\n",
      "from IPython.display import display\n",
      "import gcat"
     ],
     "language": "python",
     "metadata": {},
     "outputs": [],
     "prompt_number": 1
    },
    {
     "cell_type": "code",
     "collapsed": false,
     "input": [
      "server = ENCODED('www.encodeproject.org')\n",
      "server.load_netrc()"
     ],
     "language": "python",
     "metadata": {},
     "outputs": [],
     "prompt_number": 2
    },
    {
     "cell_type": "heading",
     "level": 1,
     "metadata": {},
     "source": [
      "Create Libraries"
     ]
    },
    {
     "cell_type": "code",
     "collapsed": false,
     "input": [
      "spreadsheet_name = \"Rabi Submissions\"\n",
      "book = gcat.get_file(spreadsheet_name, fmt='pandas_excel')\n",
      "libraries = book.parse('Libraries')"
     ],
     "language": "python",
     "metadata": {},
     "outputs": [],
     "prompt_number": 7
    },
    {
     "cell_type": "code",
     "collapsed": false,
     "input": [
      "libraries_created = server.post_sheet('/libraries/', libraries, dry_run=False, verbose=True)"
     ],
     "language": "python",
     "metadata": {},
     "outputs": [
      {
       "output_type": "stream",
       "stream": "stderr",
       "text": [
        "/home/diane/proj/htsworkflow/htsworkflow/submission/encoded.py:386: SettingWithCopyWarning: \n",
        "A value is trying to be set on a copy of a slice from a DataFrame\n",
        "\n",
        "See the the caveats in the documentation: http://pandas.pydata.org/pandas-docs/stable/indexing.html#indexing-view-versus-copy\n",
        "  sheet[accession_name][i] = accession\n",
        "/home/diane/proj/htsworkflow/htsworkflow/submission/encoded.py:391: SettingWithCopyWarning: \n",
        "A value is trying to be set on a copy of a slice from a DataFrame\n",
        "\n",
        "See the the caveats in the documentation: http://pandas.pydata.org/pandas-docs/stable/indexing.html#indexing-view-versus-copy\n",
        "  sheet['uuid'][i] = uuid\n",
        "/usr/lib/python2.7/dist-packages/pandas/core/indexing.py:121: SettingWithCopyWarning: \n",
        "A value is trying to be set on a copy of a slice from a DataFrame\n",
        "\n",
        "See the the caveats in the documentation: http://pandas.pydata.org/pandas-docs/stable/indexing.html#indexing-view-versus-copy\n",
        "  self._setitem_with_indexer(indexer, value)\n"
       ]
      },
      {
       "output_type": "stream",
       "stream": "stdout",
       "text": [
        "Reponse {u'status': u'success', u'@graph': [{u'accession': u'ENCLB239NJU', u'alternate_accessions': [], u'aliases': [u'ali-mortazavi:smooth muscle cell-lib1'], u'submitted_by': u'/users/bc5b62f7-ce28-4a1e-b6b3-81c9c5a86d7a/', u'documents': [], u'uuid': u'687aa828-3182-46cd-bf18-f9a3eba4adaa', u'strand_specificity': False, u'schema_version': u'3', u'biosample': u'/biosamples/ENCBS780PCJ/', u'status': u'in progress', u'nucleic_acid_term_name': u'miRNA', u'treatments': [], u'award': u'/awards/U54HG004576/', u'depleted_in_term_name': [], u'nucleic_acid_term_id': u'SO:0000276', u'lab': u'/labs/ali-mortazavi/', u'@id': u'/libraries/ENCLB239NJU/', u'depleted_in_term_id': [], u'size_range': u'<30', u'spikeins_used': [], u'date_created': u'2015-03-31T23:00:32.483878+00:00', u'@type': [u'library', u'item']}], u'@type': [u'result']}\n",
        "row 0 created: ENCLB239NJU"
       ]
      },
      {
       "output_type": "stream",
       "stream": "stdout",
       "text": [
        "\n",
        "Reponse {u'status': u'success', u'@graph': [{u'accession': u'ENCLB941AUY', u'alternate_accessions': [], u'aliases': [u'ali-mortazavi:smooth muscle cell-lib2'], u'submitted_by': u'/users/bc5b62f7-ce28-4a1e-b6b3-81c9c5a86d7a/', u'documents': [], u'uuid': u'ac9c3a95-0789-49ea-af11-dda2c75b57f1', u'strand_specificity': False, u'schema_version': u'3', u'biosample': u'/biosamples/ENCBS899TTJ/', u'status': u'in progress', u'nucleic_acid_term_name': u'miRNA', u'treatments': [], u'award': u'/awards/U54HG004576/', u'depleted_in_term_name': [], u'nucleic_acid_term_id': u'SO:0000276', u'lab': u'/labs/ali-mortazavi/', u'@id': u'/libraries/ENCLB941AUY/', u'depleted_in_term_id': [], u'size_range': u'<30', u'spikeins_used': [], u'date_created': u'2015-03-31T23:00:33.169914+00:00', u'@type': [u'library', u'item']}], u'@type': [u'result']}"
       ]
      },
      {
       "output_type": "stream",
       "stream": "stdout",
       "text": [
        "\n",
        "row 1 created: ENCLB941AUY\n",
        "Reponse {u'status': u'success', u'@graph': [{u'accession': u'ENCLB927GTU', u'alternate_accessions': [], u'aliases': [u'ali-mortazavi:neural progenitor cell-lib1'], u'submitted_by': u'/users/bc5b62f7-ce28-4a1e-b6b3-81c9c5a86d7a/', u'documents': [], u'uuid': u'affe1f26-39e9-490b-b165-7a0537d16ad3', u'strand_specificity': False, u'schema_version': u'3', u'biosample': u'/biosamples/ENCBS018TPT/', u'status': u'in progress', u'nucleic_acid_term_name': u'miRNA', u'treatments': [], u'award': u'/awards/U54HG004576/', u'depleted_in_term_name': [], u'nucleic_acid_term_id': u'SO:0000276', u'lab': u'/labs/ali-mortazavi/', u'@id': u'/libraries/ENCLB927GTU/', u'depleted_in_term_id': [], u'size_range': u'<30', u'spikeins_used': [], u'date_created': u'2015-03-31T23:00:33.676496+00:00', u'@type': [u'library', u'item']}], u'@type': [u'result']}"
       ]
      },
      {
       "output_type": "stream",
       "stream": "stdout",
       "text": [
        "\n",
        "row 2 created: ENCLB927GTU\n",
        "Reponse {u'status': u'success', u'@graph': [{u'accession': u'ENCLB864MSF', u'alternate_accessions': [], u'aliases': [u'ali-mortazavi:neural progenitor cell-lib2'], u'submitted_by': u'/users/bc5b62f7-ce28-4a1e-b6b3-81c9c5a86d7a/', u'documents': [], u'depleted_in_term_id': [], u'strand_specificity': False, u'schema_version': u'3', u'biosample': u'/biosamples/ENCBS044KWE/', u'status': u'in progress', u'nucleic_acid_term_name': u'miRNA', u'treatments': [], u'award': u'/awards/U54HG004576/', u'depleted_in_term_name': [], u'nucleic_acid_term_id': u'SO:0000276', u'lab': u'/labs/ali-mortazavi/', u'@id': u'/libraries/ENCLB864MSF/', u'uuid': u'da8664a8-db43-4a52-a8a2-1a8e06b05841', u'size_range': u'<30', u'spikeins_used': [], u'date_created': u'2015-03-31T23:00:34.218889+00:00', u'@type': [u'library', u'item']}], u'@type': [u'result']}"
       ]
      },
      {
       "output_type": "stream",
       "stream": "stdout",
       "text": [
        "\n",
        "row 3 created: ENCLB864MSF\n",
        "Reponse {u'status': u'success', u'@graph': [{u'accession': u'ENCLB998DXA', u'alternate_accessions': [], u'aliases': [u'ali-mortazavi:fibroblast of arm-lib1'], u'submitted_by': u'/users/bc5b62f7-ce28-4a1e-b6b3-81c9c5a86d7a/', u'documents': [], u'uuid': u'2f8770d8-2c6a-430c-b766-9c8cc2549bac', u'strand_specificity': False, u'schema_version': u'3', u'biosample': u'/biosamples/ENCBS367AAA/', u'status': u'in progress', u'nucleic_acid_term_name': u'miRNA', u'treatments': [], u'lab': u'/labs/ali-mortazavi/', u'depleted_in_term_name': [], u'nucleic_acid_term_id': u'SO:0000276', u'award': u'/awards/U54HG004576/', u'@id': u'/libraries/ENCLB998DXA/', u'depleted_in_term_id': [], u'size_range': u'<30', u'spikeins_used': [], u'date_created': u'2015-03-31T23:00:34.742482+00:00', u'@type': [u'library', u'item']}], u'@type': [u'result']}"
       ]
      },
      {
       "output_type": "stream",
       "stream": "stdout",
       "text": [
        "\n",
        "row 4 created: ENCLB998DXA\n",
        "Reponse {u'status': u'success', u'@graph': [{u'accession': u'ENCLB590ZLN', u'alternate_accessions': [], u'aliases': [u'ali-mortazavi:fibroblast of arm-lib2'], u'submitted_by': u'/users/bc5b62f7-ce28-4a1e-b6b3-81c9c5a86d7a/', u'documents': [], u'uuid': u'6107009e-12d6-45e0-a0b2-a30cd92ce9fc', u'strand_specificity': False, u'schema_version': u'3', u'biosample': u'/biosamples/ENCBS372AAA/', u'status': u'in progress', u'nucleic_acid_term_name': u'miRNA', u'treatments': [], u'award': u'/awards/U54HG004576/', u'depleted_in_term_name': [], u'nucleic_acid_term_id': u'SO:0000276', u'lab': u'/labs/ali-mortazavi/', u'@id': u'/libraries/ENCLB590ZLN/', u'depleted_in_term_id': [], u'size_range': u'<30', u'spikeins_used': [], u'date_created': u'2015-03-31T23:00:35.275859+00:00', u'@type': [u'library', u'item']}], u'@type': [u'result']}"
       ]
      },
      {
       "output_type": "stream",
       "stream": "stdout",
       "text": [
        "\n",
        "row 5 created: ENCLB590ZLN\n",
        "Reponse {u'status': u'success', u'@graph': [{u'accession': u'ENCLB267ROE', u'alternate_accessions': [], u'aliases': [u'ali-mortazavi:bipolar spindle neuron-lib1'], u'submitted_by': u'/users/bc5b62f7-ce28-4a1e-b6b3-81c9c5a86d7a/', u'documents': [], u'uuid': u'6d365367-22d4-47c3-8896-ad1943c6019e', u'strand_specificity': False, u'schema_version': u'3', u'biosample': u'/biosamples/ENCBS369AAA/', u'status': u'in progress', u'nucleic_acid_term_name': u'miRNA', u'treatments': [], u'award': u'/awards/U54HG004576/', u'depleted_in_term_name': [], u'nucleic_acid_term_id': u'SO:0000276', u'lab': u'/labs/ali-mortazavi/', u'@id': u'/libraries/ENCLB267ROE/', u'depleted_in_term_id': [], u'size_range': u'<30', u'spikeins_used': [], u'date_created': u'2015-03-31T23:00:35.822361+00:00', u'@type': [u'library', u'item']}], u'@type': [u'result']}"
       ]
      },
      {
       "output_type": "stream",
       "stream": "stdout",
       "text": [
        "\n",
        "row 6 created: ENCLB267ROE\n",
        "Reponse {u'status': u'success', u'@graph': [{u'accession': u'ENCLB350YBL', u'alternate_accessions': [], u'aliases': [u'ali-mortazavi:bipolar spindle neuron-lib2'], u'submitted_by': u'/users/bc5b62f7-ce28-4a1e-b6b3-81c9c5a86d7a/', u'documents': [], u'uuid': u'd1f7b224-71d7-4763-954f-772c8e566daa', u'strand_specificity': False, u'schema_version': u'3', u'biosample': u'/biosamples/ENCBS374AAA/', u'status': u'in progress', u'nucleic_acid_term_name': u'miRNA', u'treatments': [], u'award': u'/awards/U54HG004576/', u'depleted_in_term_name': [], u'nucleic_acid_term_id': u'SO:0000276', u'lab': u'/labs/ali-mortazavi/', u'@id': u'/libraries/ENCLB350YBL/', u'depleted_in_term_id': [], u'size_range': u'<30', u'spikeins_used': [], u'date_created': u'2015-03-31T23:00:36.254839+00:00', u'@type': [u'library', u'item']}], u'@type': [u'result']}"
       ]
      },
      {
       "output_type": "stream",
       "stream": "stdout",
       "text": [
        "\n",
        "row 7 created: ENCLB350YBL\n",
        "Reponse {u'status': u'success', u'@graph': [{u'accession': u'ENCLB523NXK', u'alternate_accessions': [], u'aliases': [u'richard-myers:SL85823'], u'submitted_by': u'/users/bc5b62f7-ce28-4a1e-b6b3-81c9c5a86d7a/', u'documents': [], u'uuid': u'104c3276-cd3f-4875-96f6-8a0a64f48aeb', u'strand_specificity': False, u'schema_version': u'3', u'biosample': u'/biosamples/ENCBS780PCJ/', u'status': u'in progress', u'nucleic_acid_term_name': u'miRNA', u'treatments': [], u'lab': u'/labs/ali-mortazavi/', u'depleted_in_term_name': [], u'nucleic_acid_term_id': u'SO:0000276', u'award': u'/awards/U54HG004576/', u'@id': u'/libraries/ENCLB523NXK/', u'depleted_in_term_id': [], u'size_range': u'<30', u'spikeins_used': [], u'date_created': u'2015-03-31T23:00:36.796045+00:00', u'@type': [u'library', u'item']}], u'@type': [u'result']}"
       ]
      },
      {
       "output_type": "stream",
       "stream": "stdout",
       "text": [
        "\n",
        "row 8 created: ENCLB523NXK\n",
        "Reponse {u'status': u'success', u'@graph': [{u'accession': u'ENCLB282TQM', u'alternate_accessions': [], u'aliases': [u'richard-myers:SL85824'], u'submitted_by': u'/users/bc5b62f7-ce28-4a1e-b6b3-81c9c5a86d7a/', u'documents': [], u'uuid': u'a00b96a8-bea6-4d0a-975f-dbaf7b490dfc', u'strand_specificity': False, u'schema_version': u'3', u'biosample': u'/biosamples/ENCBS899TTJ/', u'status': u'in progress', u'nucleic_acid_term_name': u'miRNA', u'treatments': [], u'award': u'/awards/U54HG004576/', u'depleted_in_term_name': [], u'nucleic_acid_term_id': u'SO:0000276', u'lab': u'/labs/ali-mortazavi/', u'@id': u'/libraries/ENCLB282TQM/', u'depleted_in_term_id': [], u'size_range': u'<30', u'spikeins_used': [], u'date_created': u'2015-03-31T23:00:37.293960+00:00', u'@type': [u'library', u'item']}], u'@type': [u'result']}"
       ]
      },
      {
       "output_type": "stream",
       "stream": "stdout",
       "text": [
        "\n",
        "row 9 created: ENCLB282TQM\n",
        "Reponse {u'status': u'success', u'@graph': [{u'accession': u'ENCLB698QQX', u'alternate_accessions': [], u'aliases': [u'richard-myers:SL85827'], u'submitted_by': u'/users/bc5b62f7-ce28-4a1e-b6b3-81c9c5a86d7a/', u'documents': [], u'depleted_in_term_id': [], u'strand_specificity': False, u'schema_version': u'3', u'biosample': u'/biosamples/ENCBS018TPT/', u'status': u'in progress', u'nucleic_acid_term_name': u'miRNA', u'treatments': [], u'award': u'/awards/U54HG004576/', u'depleted_in_term_name': [], u'nucleic_acid_term_id': u'SO:0000276', u'lab': u'/labs/ali-mortazavi/', u'@id': u'/libraries/ENCLB698QQX/', u'uuid': u'5b3b672c-7b5d-4686-bd36-eb42f49537f9', u'size_range': u'<30', u'spikeins_used': [], u'date_created': u'2015-03-31T23:00:37.821887+00:00', u'@type': [u'library', u'item']}], u'@type': [u'result']}"
       ]
      },
      {
       "output_type": "stream",
       "stream": "stdout",
       "text": [
        "\n",
        "row 10 created: ENCLB698QQX\n",
        "Reponse {u'status': u'success', u'@graph': [{u'accession': u'ENCLB803VTA', u'alternate_accessions': [], u'aliases': [u'richard-myers:SL85828'], u'submitted_by': u'/users/bc5b62f7-ce28-4a1e-b6b3-81c9c5a86d7a/', u'documents': [], u'uuid': u'3b5e6c53-a878-4528-a93e-bd5a170849b7', u'strand_specificity': False, u'schema_version': u'3', u'biosample': u'/biosamples/ENCBS044KWE/', u'status': u'in progress', u'nucleic_acid_term_name': u'miRNA', u'treatments': [], u'award': u'/awards/U54HG004576/', u'depleted_in_term_name': [], u'nucleic_acid_term_id': u'SO:0000276', u'lab': u'/labs/ali-mortazavi/', u'@id': u'/libraries/ENCLB803VTA/', u'depleted_in_term_id': [], u'size_range': u'<30', u'spikeins_used': [], u'date_created': u'2015-03-31T23:00:38.318883+00:00', u'@type': [u'library', u'item']}], u'@type': [u'result']}"
       ]
      },
      {
       "output_type": "stream",
       "stream": "stdout",
       "text": [
        "\n",
        "row 11 created: ENCLB803VTA\n",
        "Reponse {u'status': u'success', u'@graph': [{u'accession': u'ENCLB242OXW', u'alternate_accessions': [], u'aliases': [u'richard-myers:SL85817'], u'submitted_by': u'/users/bc5b62f7-ce28-4a1e-b6b3-81c9c5a86d7a/', u'documents': [], u'uuid': u'b1edfe63-886e-4c30-bfdb-d73b4453b6ee', u'strand_specificity': False, u'schema_version': u'3', u'biosample': u'/biosamples/ENCBS367AAA/', u'status': u'in progress', u'nucleic_acid_term_name': u'miRNA', u'treatments': [], u'lab': u'/labs/ali-mortazavi/', u'depleted_in_term_name': [], u'nucleic_acid_term_id': u'SO:0000276', u'award': u'/awards/U54HG004576/', u'@id': u'/libraries/ENCLB242OXW/', u'depleted_in_term_id': [], u'size_range': u'<30', u'spikeins_used': [], u'date_created': u'2015-03-31T23:00:38.816102+00:00', u'@type': [u'library', u'item']}], u'@type': [u'result']}"
       ]
      },
      {
       "output_type": "stream",
       "stream": "stdout",
       "text": [
        "\n",
        "row 12 created: ENCLB242OXW\n",
        "Reponse {u'status': u'success', u'@graph': [{u'accession': u'ENCLB561XOB', u'alternate_accessions': [], u'aliases': [u'richard-myers:SL85821'], u'submitted_by': u'/users/bc5b62f7-ce28-4a1e-b6b3-81c9c5a86d7a/', u'documents': [], u'uuid': u'29846c5e-2bdb-4d2f-ae5d-348603c598be', u'strand_specificity': False, u'schema_version': u'3', u'biosample': u'/biosamples/ENCBS372AAA/', u'status': u'in progress', u'nucleic_acid_term_name': u'miRNA', u'treatments': [], u'award': u'/awards/U54HG004576/', u'depleted_in_term_name': [], u'nucleic_acid_term_id': u'SO:0000276', u'lab': u'/labs/ali-mortazavi/', u'@id': u'/libraries/ENCLB561XOB/', u'depleted_in_term_id': [], u'size_range': u'<30', u'spikeins_used': [], u'date_created': u'2015-03-31T23:00:39.306137+00:00', u'@type': [u'library', u'item']}], u'@type': [u'result']}"
       ]
      },
      {
       "output_type": "stream",
       "stream": "stdout",
       "text": [
        "\n",
        "row 13 created: ENCLB561XOB\n",
        "Reponse {u'status': u'success', u'@graph': [{u'accession': u'ENCLB424ORZ', u'alternate_accessions': [], u'aliases': [u'richard-myers:SL85820'], u'submitted_by': u'/users/bc5b62f7-ce28-4a1e-b6b3-81c9c5a86d7a/', u'documents': [], u'uuid': u'66c7ca76-3da8-4f80-a734-a7599003853c', u'strand_specificity': False, u'schema_version': u'3', u'biosample': u'/biosamples/ENCBS369AAA/', u'status': u'in progress', u'nucleic_acid_term_name': u'miRNA', u'treatments': [], u'award': u'/awards/U54HG004576/', u'depleted_in_term_name': [], u'nucleic_acid_term_id': u'SO:0000276', u'lab': u'/labs/ali-mortazavi/', u'@id': u'/libraries/ENCLB424ORZ/', u'depleted_in_term_id': [], u'size_range': u'<30', u'spikeins_used': [], u'date_created': u'2015-03-31T23:00:39.738073+00:00', u'@type': [u'library', u'item']}], u'@type': [u'result']}"
       ]
      },
      {
       "output_type": "stream",
       "stream": "stdout",
       "text": [
        "\n",
        "row 14 created: ENCLB424ORZ\n",
        "Reponse {u'status': u'success', u'@graph': [{u'accession': u'ENCLB284XFC', u'alternate_accessions': [], u'aliases': [u'richard-myers:SL85818'], u'submitted_by': u'/users/bc5b62f7-ce28-4a1e-b6b3-81c9c5a86d7a/', u'documents': [], u'uuid': u'964dc169-edf3-4d77-a662-7e7e55a9b6ef', u'strand_specificity': False, u'schema_version': u'3', u'biosample': u'/biosamples/ENCBS374AAA/', u'status': u'in progress', u'nucleic_acid_term_name': u'miRNA', u'treatments': [], u'award': u'/awards/U54HG004576/', u'depleted_in_term_name': [], u'nucleic_acid_term_id': u'SO:0000276', u'lab': u'/labs/ali-mortazavi/', u'@id': u'/libraries/ENCLB284XFC/', u'depleted_in_term_id': [], u'size_range': u'<30', u'spikeins_used': [], u'date_created': u'2015-03-31T23:00:40.261302+00:00', u'@type': [u'library', u'item']}], u'@type': [u'result']}"
       ]
      },
      {
       "output_type": "stream",
       "stream": "stdout",
       "text": [
        "\n",
        "row 15 created: ENCLB284XFC\n",
        "Reponse {u'status': u'success', u'@graph': [{u'accession': u'ENCLB997UNK', u'alternate_accessions': [], u'aliases': [u'ali-mortazavi:P0-neural tube-Lib1-15481'], u'submitted_by': u'/users/bc5b62f7-ce28-4a1e-b6b3-81c9c5a86d7a/', u'documents': [], u'uuid': u'002ec423-0b03-4bce-8955-3a6525ad13d3', u'strand_specificity': False, u'schema_version': u'3', u'biosample': u'/biosamples/ENCBS310ESD/', u'status': u'in progress', u'nucleic_acid_term_name': u'miRNA', u'treatments': [], u'award': u'/awards/U54HG004576/', u'depleted_in_term_name': [], u'nucleic_acid_term_id': u'SO:0000276', u'lab': u'/labs/ali-mortazavi/', u'@id': u'/libraries/ENCLB997UNK/', u'depleted_in_term_id': [], u'size_range': u'<30', u'spikeins_used': [], u'date_created': u'2015-03-31T23:00:40.738630+00:00', u'@type': [u'library', u'item']}], u'@type': [u'result']}"
       ]
      },
      {
       "output_type": "stream",
       "stream": "stdout",
       "text": [
        "\n",
        "row 17 created: ENCLB997UNK\n",
        "Reponse {u'status': u'success', u'@graph': [{u'accession': u'ENCLB939YWM', u'alternate_accessions': [], u'aliases': [u'ali-mortazavi:P0-neural tube-Lib2-15482'], u'submitted_by': u'/users/bc5b62f7-ce28-4a1e-b6b3-81c9c5a86d7a/', u'documents': [], u'depleted_in_term_id': [], u'strand_specificity': False, u'schema_version': u'3', u'biosample': u'/biosamples/ENCBS897LGY/', u'status': u'in progress', u'nucleic_acid_term_name': u'miRNA', u'treatments': [], u'award': u'/awards/U54HG004576/', u'depleted_in_term_name': [], u'nucleic_acid_term_id': u'SO:0000276', u'lab': u'/labs/ali-mortazavi/', u'@id': u'/libraries/ENCLB939YWM/', u'uuid': u'03ab05ad-0d19-477a-8a0c-a2f513196eb4', u'size_range': u'<30', u'spikeins_used': [], u'date_created': u'2015-03-31T23:00:41.214495+00:00', u'@type': [u'library', u'item']}], u'@type': [u'result']}"
       ]
      },
      {
       "output_type": "stream",
       "stream": "stdout",
       "text": [
        "\n",
        "row 18 created: ENCLB939YWM\n",
        "Reponse {u'status': u'success', u'@graph': [{u'accession': u'ENCLB614CRU', u'alternate_accessions': [], u'aliases': [u'ali-mortazavi:P0-thymus-Lib1-15483'], u'submitted_by': u'/users/bc5b62f7-ce28-4a1e-b6b3-81c9c5a86d7a/', u'documents': [], u'uuid': u'2700c6cb-daab-4994-a27e-6430c96fcbf9', u'strand_specificity': False, u'schema_version': u'3', u'biosample': u'/biosamples/ENCBS079WTJ/', u'status': u'in progress', u'nucleic_acid_term_name': u'miRNA', u'treatments': [], u'award': u'/awards/U54HG004576/', u'depleted_in_term_name': [], u'nucleic_acid_term_id': u'SO:0000276', u'lab': u'/labs/ali-mortazavi/', u'@id': u'/libraries/ENCLB614CRU/', u'depleted_in_term_id': [], u'size_range': u'<30', u'spikeins_used': [], u'date_created': u'2015-03-31T23:00:41.695673+00:00', u'@type': [u'library', u'item']}], u'@type': [u'result']}"
       ]
      },
      {
       "output_type": "stream",
       "stream": "stdout",
       "text": [
        "\n",
        "row 19 created: ENCLB614CRU\n",
        "Reponse {u'status': u'success', u'@graph': [{u'accession': u'ENCLB993FGD', u'alternate_accessions': [], u'aliases': [u'ali-mortazavi:P0-thymus-Lib2-15484'], u'submitted_by': u'/users/bc5b62f7-ce28-4a1e-b6b3-81c9c5a86d7a/', u'documents': [], u'uuid': u'03511bf6-8f5d-4095-8d5d-61df3aa9c762', u'strand_specificity': False, u'schema_version': u'3', u'biosample': u'/biosamples/ENCBS898VIJ/', u'status': u'in progress', u'nucleic_acid_term_name': u'miRNA', u'treatments': [], u'award': u'/awards/U54HG004576/', u'depleted_in_term_name': [], u'nucleic_acid_term_id': u'SO:0000276', u'lab': u'/labs/ali-mortazavi/', u'@id': u'/libraries/ENCLB993FGD/', u'depleted_in_term_id': [], u'size_range': u'<30', u'spikeins_used': [], u'date_created': u'2015-03-31T23:00:42.202979+00:00', u'@type': [u'library', u'item']}], u'@type': [u'result']}"
       ]
      },
      {
       "output_type": "stream",
       "stream": "stdout",
       "text": [
        "\n",
        "row 20 created: ENCLB993FGD\n",
        "Reponse {u'status': u'success', u'@graph': [{u'accession': u'ENCLB686PIK', u'alternate_accessions': [], u'aliases': [u'ali-mortazavi:P0-lung-Lib1-15487'], u'submitted_by': u'/users/bc5b62f7-ce28-4a1e-b6b3-81c9c5a86d7a/', u'documents': [], u'uuid': u'393b96d6-a627-4abd-8440-a6125235e0ef', u'strand_specificity': False, u'schema_version': u'3', u'biosample': u'/biosamples/ENCBS747AFS/', u'status': u'in progress', u'nucleic_acid_term_name': u'miRNA', u'treatments': [], u'lab': u'/labs/ali-mortazavi/', u'depleted_in_term_name': [], u'nucleic_acid_term_id': u'SO:0000276', u'award': u'/awards/U54HG004576/', u'@id': u'/libraries/ENCLB686PIK/', u'depleted_in_term_id': [], u'size_range': u'<30', u'spikeins_used': [], u'date_created': u'2015-03-31T23:00:42.665781+00:00', u'@type': [u'library', u'item']}], u'@type': [u'result']}"
       ]
      },
      {
       "output_type": "stream",
       "stream": "stdout",
       "text": [
        "\n",
        "row 21 created: ENCLB686PIK\n",
        "Reponse {u'status': u'success', u'@graph': [{u'accession': u'ENCLB301BXL', u'alternate_accessions': [], u'aliases': [u'ali-mortazavi:P0-lung-Lib2-15488'], u'submitted_by': u'/users/bc5b62f7-ce28-4a1e-b6b3-81c9c5a86d7a/', u'documents': [], u'uuid': u'fa0782cc-988b-4765-b74d-bc54b5907f80', u'strand_specificity': False, u'schema_version': u'3', u'biosample': u'/biosamples/ENCBS438DQO/', u'status': u'in progress', u'nucleic_acid_term_name': u'miRNA', u'treatments': [], u'award': u'/awards/U54HG004576/', u'depleted_in_term_name': [], u'nucleic_acid_term_id': u'SO:0000276', u'lab': u'/labs/ali-mortazavi/', u'@id': u'/libraries/ENCLB301BXL/', u'depleted_in_term_id': [], u'size_range': u'<30', u'spikeins_used': [], u'date_created': u'2015-03-31T23:00:43.147335+00:00', u'@type': [u'library', u'item']}], u'@type': [u'result']}"
       ]
      },
      {
       "output_type": "stream",
       "stream": "stdout",
       "text": [
        "\n",
        "row 22 created: ENCLB301BXL\n",
        "Reponse {u'status': u'success', u'@graph': [{u'accession': u'ENCLB511EOA', u'alternate_accessions': [], u'aliases': [u'ali-mortazavi:P0-spleen-Lib1-15493'], u'submitted_by': u'/users/bc5b62f7-ce28-4a1e-b6b3-81c9c5a86d7a/', u'documents': [], u'depleted_in_term_id': [], u'strand_specificity': False, u'schema_version': u'3', u'biosample': u'/biosamples/ENCBS173QYQ/', u'status': u'in progress', u'nucleic_acid_term_name': u'miRNA', u'treatments': [], u'award': u'/awards/U54HG004576/', u'depleted_in_term_name': [], u'nucleic_acid_term_id': u'SO:0000276', u'lab': u'/labs/ali-mortazavi/', u'@id': u'/libraries/ENCLB511EOA/', u'uuid': u'bbab4172-7c91-4f93-9669-67d7e9610b9d', u'size_range': u'<30', u'spikeins_used': [], u'date_created': u'2015-03-31T23:00:43.666895+00:00', u'@type': [u'library', u'item']}], u'@type': [u'result']}"
       ]
      },
      {
       "output_type": "stream",
       "stream": "stdout",
       "text": [
        "\n",
        "row 23 created: ENCLB511EOA\n",
        "Reponse {u'status': u'success', u'@graph': [{u'accession': u'ENCLB833EKC', u'alternate_accessions': [], u'aliases': [u'ali-mortazavi:P0-spleen-Lib2-15494'], u'submitted_by': u'/users/bc5b62f7-ce28-4a1e-b6b3-81c9c5a86d7a/', u'documents': [], u'depleted_in_term_id': [], u'strand_specificity': False, u'schema_version': u'3', u'biosample': u'/biosamples/ENCBS051QLA/', u'status': u'in progress', u'nucleic_acid_term_name': u'miRNA', u'treatments': [], u'award': u'/awards/U54HG004576/', u'depleted_in_term_name': [], u'nucleic_acid_term_id': u'SO:0000276', u'lab': u'/labs/ali-mortazavi/', u'@id': u'/libraries/ENCLB833EKC/', u'uuid': u'b9bd9c89-fb3b-47cc-897a-f6d51f17bb25', u'size_range': u'<30', u'spikeins_used': [], u'date_created': u'2015-03-31T23:00:44.146742+00:00', u'@type': [u'library', u'item']}], u'@type': [u'result']}"
       ]
      },
      {
       "output_type": "stream",
       "stream": "stdout",
       "text": [
        "\n",
        "row 24 created: ENCLB833EKC\n",
        "Reponse {u'status': u'success', u'@graph': [{u'accession': u'ENCLB892EEJ', u'alternate_accessions': [], u'aliases': [u'ali-mortazavi:P0-stomach-Lib1-15497'], u'submitted_by': u'/users/bc5b62f7-ce28-4a1e-b6b3-81c9c5a86d7a/', u'documents': [], u'uuid': u'058440b7-316b-44f1-a432-174b3110d752', u'strand_specificity': False, u'schema_version': u'3', u'biosample': u'/biosamples/ENCBS762UVC/', u'status': u'in progress', u'nucleic_acid_term_name': u'miRNA', u'treatments': [], u'award': u'/awards/U54HG004576/', u'depleted_in_term_name': [], u'nucleic_acid_term_id': u'SO:0000276', u'lab': u'/labs/ali-mortazavi/', u'@id': u'/libraries/ENCLB892EEJ/', u'depleted_in_term_id': [], u'size_range': u'<30', u'spikeins_used': [], u'date_created': u'2015-03-31T23:00:44.700807+00:00', u'@type': [u'library', u'item']}], u'@type': [u'result']}"
       ]
      },
      {
       "output_type": "stream",
       "stream": "stdout",
       "text": [
        "\n",
        "row 25 created: ENCLB892EEJ\n",
        "Reponse {u'status': u'success', u'@graph': [{u'accession': u'ENCLB557DKF', u'alternate_accessions': [], u'aliases': [u'ali-mortazavi:P0-stomach-Lib2-15498'], u'submitted_by': u'/users/bc5b62f7-ce28-4a1e-b6b3-81c9c5a86d7a/', u'documents': [], u'uuid': u'05044e10-4863-4133-8688-9f702b6e6656', u'strand_specificity': False, u'schema_version': u'3', u'biosample': u'/biosamples/ENCBS796AGC/', u'status': u'in progress', u'nucleic_acid_term_name': u'miRNA', u'treatments': [], u'award': u'/awards/U54HG004576/', u'depleted_in_term_name': [], u'nucleic_acid_term_id': u'SO:0000276', u'lab': u'/labs/ali-mortazavi/', u'@id': u'/libraries/ENCLB557DKF/', u'depleted_in_term_id': [], u'size_range': u'<30', u'spikeins_used': [], u'date_created': u'2015-03-31T23:00:45.164481+00:00', u'@type': [u'library', u'item']}], u'@type': [u'result']}"
       ]
      },
      {
       "output_type": "stream",
       "stream": "stdout",
       "text": [
        "\n",
        "row 26 created: ENCLB557DKF\n",
        "Reponse {u'status': u'success', u'@graph': [{u'accession': u'ENCLB451CXY', u'alternate_accessions': [], u'aliases': [u'ali-mortazavi:P0-kidney-Lib1-15501'], u'submitted_by': u'/users/bc5b62f7-ce28-4a1e-b6b3-81c9c5a86d7a/', u'documents': [], u'uuid': u'c753591f-53a4-4dd5-bdee-0307bfac8485', u'strand_specificity': False, u'schema_version': u'3', u'biosample': u'/biosamples/ENCBS103FKB/', u'status': u'in progress', u'nucleic_acid_term_name': u'miRNA', u'treatments': [], u'award': u'/awards/U54HG004576/', u'depleted_in_term_name': [], u'nucleic_acid_term_id': u'SO:0000276', u'lab': u'/labs/ali-mortazavi/', u'@id': u'/libraries/ENCLB451CXY/', u'depleted_in_term_id': [], u'size_range': u'<30', u'spikeins_used': [], u'date_created': u'2015-03-31T23:00:45.631508+00:00', u'@type': [u'library', u'item']}], u'@type': [u'result']}"
       ]
      },
      {
       "output_type": "stream",
       "stream": "stdout",
       "text": [
        "\n",
        "row 27 created: ENCLB451CXY\n",
        "Reponse {u'status': u'success', u'@graph': [{u'accession': u'ENCLB998ZJK', u'alternate_accessions': [], u'aliases': [u'ali-mortazavi:P0-kidney-Lib2-15502'], u'submitted_by': u'/users/bc5b62f7-ce28-4a1e-b6b3-81c9c5a86d7a/', u'documents': [], u'depleted_in_term_id': [], u'strand_specificity': False, u'schema_version': u'3', u'biosample': u'/biosamples/ENCBS540QNA/', u'status': u'in progress', u'nucleic_acid_term_name': u'miRNA', u'treatments': [], u'award': u'/awards/U54HG004576/', u'depleted_in_term_name': [], u'nucleic_acid_term_id': u'SO:0000276', u'lab': u'/labs/ali-mortazavi/', u'@id': u'/libraries/ENCLB998ZJK/', u'uuid': u'48ea5f5a-3518-4bcb-bf5c-a8e3473a8658', u'size_range': u'<30', u'spikeins_used': [], u'date_created': u'2015-03-31T23:00:46.117703+00:00', u'@type': [u'library', u'item']}], u'@type': [u'result']}"
       ]
      },
      {
       "output_type": "stream",
       "stream": "stdout",
       "text": [
        "\n",
        "row 28 created: ENCLB998ZJK\n",
        "Reponse {u'status': u'success', u'@graph': [{u'accession': u'ENCLB898CNP', u'alternate_accessions': [], u'aliases': [u'ali-mortazavi:e11.5-forebrain-Lib1-15007'], u'submitted_by': u'/users/bc5b62f7-ce28-4a1e-b6b3-81c9c5a86d7a/', u'documents': [], u'uuid': u'bb59995a-4de0-4737-89ed-581a933a84ec', u'strand_specificity': False, u'schema_version': u'3', u'biosample': u'/biosamples/ENCBS745VOM/', u'status': u'in progress', u'nucleic_acid_term_name': u'miRNA', u'treatments': [], u'award': u'/awards/U54HG004576/', u'depleted_in_term_name': [], u'nucleic_acid_term_id': u'SO:0000276', u'lab': u'/labs/ali-mortazavi/', u'@id': u'/libraries/ENCLB898CNP/', u'depleted_in_term_id': [], u'size_range': u'<30', u'spikeins_used': [], u'date_created': u'2015-03-31T23:00:46.614418+00:00', u'@type': [u'library', u'item']}], u'@type': [u'result']}"
       ]
      },
      {
       "output_type": "stream",
       "stream": "stdout",
       "text": [
        "\n",
        "row 29 created: ENCLB898CNP\n",
        "Reponse {u'status': u'success', u'@graph': [{u'accession': u'ENCLB516AHA', u'alternate_accessions': [], u'aliases': [u'ali-mortazavi:e11.5-forebrain-Lib2-15008'], u'submitted_by': u'/users/bc5b62f7-ce28-4a1e-b6b3-81c9c5a86d7a/', u'documents': [], u'uuid': u'2152533c-9c1e-4076-bf59-93e8f6f8782c', u'strand_specificity': False, u'schema_version': u'3', u'biosample': u'/biosamples/ENCBS720JOH/', u'status': u'in progress', u'nucleic_acid_term_name': u'miRNA', u'treatments': [], u'award': u'/awards/U54HG004576/', u'depleted_in_term_name': [], u'nucleic_acid_term_id': u'SO:0000276', u'lab': u'/labs/ali-mortazavi/', u'@id': u'/libraries/ENCLB516AHA/', u'depleted_in_term_id': [], u'size_range': u'<30', u'spikeins_used': [], u'date_created': u'2015-03-31T23:00:47.076589+00:00', u'@type': [u'library', u'item']}], u'@type': [u'result']}"
       ]
      },
      {
       "output_type": "stream",
       "stream": "stdout",
       "text": [
        "\n",
        "row 30 created: ENCLB516AHA\n",
        "Reponse {u'status': u'success', u'@graph': [{u'accession': u'ENCLB241DIY', u'alternate_accessions': [], u'aliases': [u'ali-mortazavi:e11.5-midbrain-Lib1-15009'], u'submitted_by': u'/users/bc5b62f7-ce28-4a1e-b6b3-81c9c5a86d7a/', u'documents': [], u'uuid': u'abc92270-2e2e-4aa1-a078-41acc01bef70', u'strand_specificity': False, u'schema_version': u'3', u'biosample': u'/biosamples/ENCBS228OBS/', u'status': u'in progress', u'nucleic_acid_term_name': u'miRNA', u'treatments': [], u'award': u'/awards/U54HG004576/', u'depleted_in_term_name': [], u'nucleic_acid_term_id': u'SO:0000276', u'lab': u'/labs/ali-mortazavi/', u'@id': u'/libraries/ENCLB241DIY/', u'depleted_in_term_id': [], u'size_range': u'<30', u'spikeins_used': [], u'date_created': u'2015-03-31T23:00:47.571961+00:00', u'@type': [u'library', u'item']}], u'@type': [u'result']}"
       ]
      },
      {
       "output_type": "stream",
       "stream": "stdout",
       "text": [
        "\n",
        "row 31 created: ENCLB241DIY\n",
        "Reponse {u'status': u'success', u'@graph': [{u'accession': u'ENCLB485FUS', u'alternate_accessions': [], u'aliases': [u'ali-mortazavi:e11.5-midbrain-Lib2-15010'], u'submitted_by': u'/users/bc5b62f7-ce28-4a1e-b6b3-81c9c5a86d7a/', u'documents': [], u'uuid': u'fc1abb3e-9742-4cab-aff2-f111a4f07b78', u'strand_specificity': False, u'schema_version': u'3', u'biosample': u'/biosamples/ENCBS802FTI/', u'status': u'in progress', u'nucleic_acid_term_name': u'miRNA', u'treatments': [], u'award': u'/awards/U54HG004576/', u'depleted_in_term_name': [], u'nucleic_acid_term_id': u'SO:0000276', u'lab': u'/labs/ali-mortazavi/', u'@id': u'/libraries/ENCLB485FUS/', u'depleted_in_term_id': [], u'size_range': u'<30', u'spikeins_used': [], u'date_created': u'2015-03-31T23:00:48.091591+00:00', u'@type': [u'library', u'item']}], u'@type': [u'result']}"
       ]
      },
      {
       "output_type": "stream",
       "stream": "stdout",
       "text": [
        "\n",
        "row 32 created: ENCLB485FUS\n",
        "Reponse {u'status': u'success', u'@graph': [{u'accession': u'ENCLB545PZF', u'alternate_accessions': [], u'aliases': [u'ali-mortazavi:e11.5-hindbrain-Lib1-15011'], u'submitted_by': u'/users/bc5b62f7-ce28-4a1e-b6b3-81c9c5a86d7a/', u'documents': [], u'uuid': u'a6a25f0c-41f6-4751-8363-1eb6ac63c153', u'strand_specificity': False, u'schema_version': u'3', u'biosample': u'/biosamples/ENCBS199NDR/', u'status': u'in progress', u'nucleic_acid_term_name': u'miRNA', u'treatments': [], u'award': u'/awards/U54HG004576/', u'depleted_in_term_name': [], u'nucleic_acid_term_id': u'SO:0000276', u'lab': u'/labs/ali-mortazavi/', u'@id': u'/libraries/ENCLB545PZF/', u'depleted_in_term_id': [], u'size_range': u'<30', u'spikeins_used': [], u'date_created': u'2015-03-31T23:00:48.582007+00:00', u'@type': [u'library', u'item']}], u'@type': [u'result']}"
       ]
      },
      {
       "output_type": "stream",
       "stream": "stdout",
       "text": [
        "\n",
        "row 33 created: ENCLB545PZF\n",
        "Reponse {u'status': u'success', u'@graph': [{u'accession': u'ENCLB169RQJ', u'alternate_accessions': [], u'aliases': [u'ali-mortazavi:e11.5-hindbrain-Lib2-15012'], u'submitted_by': u'/users/bc5b62f7-ce28-4a1e-b6b3-81c9c5a86d7a/', u'documents': [], u'uuid': u'0369fc3c-a01a-4393-9687-4e24ad5b1b3b', u'strand_specificity': False, u'schema_version': u'3', u'biosample': u'/biosamples/ENCBS976DPO/', u'status': u'in progress', u'nucleic_acid_term_name': u'miRNA', u'treatments': [], u'award': u'/awards/U54HG004576/', u'depleted_in_term_name': [], u'nucleic_acid_term_id': u'SO:0000276', u'lab': u'/labs/ali-mortazavi/', u'@id': u'/libraries/ENCLB169RQJ/', u'depleted_in_term_id': [], u'size_range': u'<30', u'spikeins_used': [], u'date_created': u'2015-03-31T23:00:49.192868+00:00', u'@type': [u'library', u'item']}], u'@type': [u'result']}"
       ]
      },
      {
       "output_type": "stream",
       "stream": "stdout",
       "text": [
        "\n",
        "row 34 created: ENCLB169RQJ\n",
        "Reponse {u'status': u'success', u'@graph': [{u'accession': u'ENCLB997CGA', u'alternate_accessions': [], u'aliases': [u'ali-mortazavi:e11.5-heart-Lib1-15015'], u'submitted_by': u'/users/bc5b62f7-ce28-4a1e-b6b3-81c9c5a86d7a/', u'documents': [], u'uuid': u'f24d33c1-6765-40b8-99e3-1db07ff3641f', u'strand_specificity': False, u'schema_version': u'3', u'biosample': u'/biosamples/ENCBS225RIF/', u'status': u'in progress', u'nucleic_acid_term_name': u'miRNA', u'treatments': [], u'lab': u'/labs/ali-mortazavi/', u'depleted_in_term_name': [], u'nucleic_acid_term_id': u'SO:0000276', u'award': u'/awards/U54HG004576/', u'@id': u'/libraries/ENCLB997CGA/', u'depleted_in_term_id': [], u'size_range': u'<30', u'spikeins_used': [], u'date_created': u'2015-03-31T23:00:49.695469+00:00', u'@type': [u'library', u'item']}], u'@type': [u'result']}"
       ]
      },
      {
       "output_type": "stream",
       "stream": "stdout",
       "text": [
        "\n",
        "row 35 created: ENCLB997CGA\n",
        "Reponse {u'status': u'success', u'@graph': [{u'accession': u'ENCLB431KMM', u'alternate_accessions': [], u'aliases': [u'ali-mortazavi:e11.5-heart-Lib2-15016'], u'submitted_by': u'/users/bc5b62f7-ce28-4a1e-b6b3-81c9c5a86d7a/', u'documents': [], u'uuid': u'b1072767-416d-4fa8-9daa-d79ba74afae1', u'strand_specificity': False, u'schema_version': u'3', u'biosample': u'/biosamples/ENCBS046IMM/', u'status': u'in progress', u'nucleic_acid_term_name': u'miRNA', u'treatments': [], u'award': u'/awards/U54HG004576/', u'depleted_in_term_name': [], u'nucleic_acid_term_id': u'SO:0000276', u'lab': u'/labs/ali-mortazavi/', u'@id': u'/libraries/ENCLB431KMM/', u'depleted_in_term_id': [], u'size_range': u'<30', u'spikeins_used': [], u'date_created': u'2015-03-31T23:00:50.218292+00:00', u'@type': [u'library', u'item']}], u'@type': [u'result']}"
       ]
      },
      {
       "output_type": "stream",
       "stream": "stdout",
       "text": [
        "\n",
        "row 36 created: ENCLB431KMM\n",
        "Reponse {u'status': u'success', u'@graph': [{u'accession': u'ENCLB554BFU', u'alternate_accessions': [], u'aliases': [u'ali-mortazavi:e11.5-liver-Lib1-15017'], u'submitted_by': u'/users/bc5b62f7-ce28-4a1e-b6b3-81c9c5a86d7a/', u'documents': [], u'uuid': u'446b5bac-c0bb-49c9-88f0-d60a40f0a671', u'strand_specificity': False, u'schema_version': u'3', u'biosample': u'/biosamples/ENCBS746POP/', u'status': u'in progress', u'nucleic_acid_term_name': u'miRNA', u'treatments': [], u'award': u'/awards/U54HG004576/', u'depleted_in_term_name': [], u'nucleic_acid_term_id': u'SO:0000276', u'lab': u'/labs/ali-mortazavi/', u'@id': u'/libraries/ENCLB554BFU/', u'depleted_in_term_id': [], u'size_range': u'<30', u'spikeins_used': [], u'date_created': u'2015-03-31T23:00:50.689885+00:00', u'@type': [u'library', u'item']}], u'@type': [u'result']}"
       ]
      },
      {
       "output_type": "stream",
       "stream": "stdout",
       "text": [
        "\n",
        "row 37 created: ENCLB554BFU\n",
        "Reponse {u'status': u'success', u'@graph': [{u'accession': u'ENCLB839VYO', u'alternate_accessions': [], u'aliases': [u'ali-mortazavi:e11.5-liver-Lib2-15018'], u'submitted_by': u'/users/bc5b62f7-ce28-4a1e-b6b3-81c9c5a86d7a/', u'documents': [], u'uuid': u'9f70a846-4ba9-40c5-89c6-00465c0349d5', u'strand_specificity': False, u'schema_version': u'3', u'biosample': u'/biosamples/ENCBS522YOW/', u'status': u'in progress', u'nucleic_acid_term_name': u'miRNA', u'treatments': [], u'award': u'/awards/U54HG004576/', u'depleted_in_term_name': [], u'nucleic_acid_term_id': u'SO:0000276', u'lab': u'/labs/ali-mortazavi/', u'@id': u'/libraries/ENCLB839VYO/', u'depleted_in_term_id': [], u'size_range': u'<30', u'spikeins_used': [], u'date_created': u'2015-03-31T23:00:51.217930+00:00', u'@type': [u'library', u'item']}], u'@type': [u'result']}"
       ]
      },
      {
       "output_type": "stream",
       "stream": "stdout",
       "text": [
        "\n",
        "row 38 created: ENCLB839VYO\n",
        "Reponse {u'status': u'success', u'@graph': [{u'accession': u'ENCLB104HBO', u'alternate_accessions': [], u'aliases': [u'ali-mortazavi:e11.5-neural tube-Lib1-15021'], u'submitted_by': u'/users/bc5b62f7-ce28-4a1e-b6b3-81c9c5a86d7a/', u'documents': [], u'uuid': u'f3bb1765-c133-4dc6-89ed-5ab55983e6e1', u'strand_specificity': False, u'schema_version': u'3', u'biosample': u'/biosamples/ENCBS402TUS/', u'status': u'in progress', u'nucleic_acid_term_name': u'miRNA', u'treatments': [], u'lab': u'/labs/ali-mortazavi/', u'depleted_in_term_name': [], u'nucleic_acid_term_id': u'SO:0000276', u'award': u'/awards/U54HG004576/', u'@id': u'/libraries/ENCLB104HBO/', u'depleted_in_term_id': [], u'size_range': u'<30', u'spikeins_used': [], u'date_created': u'2015-03-31T23:00:51.798575+00:00', u'@type': [u'library', u'item']}], u'@type': [u'result']}"
       ]
      },
      {
       "output_type": "stream",
       "stream": "stdout",
       "text": [
        "\n",
        "row 39 created: ENCLB104HBO\n",
        "Reponse {u'status': u'success', u'@graph': [{u'accession': u'ENCLB792LFB', u'alternate_accessions': [], u'aliases': [u'ali-mortazavi:e11.5-neural tube-Lib2-15022'], u'submitted_by': u'/users/bc5b62f7-ce28-4a1e-b6b3-81c9c5a86d7a/', u'documents': [], u'uuid': u'afaddcc5-85ef-4ec0-a947-c9b7a9c9c0cb', u'strand_specificity': False, u'schema_version': u'3', u'biosample': u'/biosamples/ENCBS183YVD/', u'status': u'in progress', u'nucleic_acid_term_name': u'miRNA', u'treatments': [], u'lab': u'/labs/ali-mortazavi/', u'depleted_in_term_name': [], u'nucleic_acid_term_id': u'SO:0000276', u'award': u'/awards/U54HG004576/', u'@id': u'/libraries/ENCLB792LFB/', u'depleted_in_term_id': [], u'size_range': u'<30', u'spikeins_used': [], u'date_created': u'2015-03-31T23:00:52.288318+00:00', u'@type': [u'library', u'item']}], u'@type': [u'result']}"
       ]
      },
      {
       "output_type": "stream",
       "stream": "stdout",
       "text": [
        "\n",
        "row 40 created: ENCLB792LFB\n"
       ]
      }
     ],
     "prompt_number": 10
    },
    {
     "cell_type": "code",
     "collapsed": false,
     "input": [
      "libraries.to_excel('/tmp/rabi_libraries.xlsx')"
     ],
     "language": "python",
     "metadata": {},
     "outputs": [],
     "prompt_number": 11
    },
    {
     "cell_type": "code",
     "collapsed": false,
     "input": [],
     "language": "python",
     "metadata": {},
     "outputs": []
    }
   ],
   "metadata": {}
  }
 ]
}