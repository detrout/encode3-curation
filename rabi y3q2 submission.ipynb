{
 "metadata": {
  "name": "",
  "signature": "sha256:5dc94ede72eb1b6ef5c3803900ff8a1d53d6102ec43ea5d31a0c53b532bf5a29"
 },
 "nbformat": 3,
 "nbformat_minor": 0,
 "worksheets": [
  {
   "cells": [
    {
     "cell_type": "code",
     "collapsed": false,
     "input": [
      "import pandas\n",
      "from curation_common import *\n",
      "from IPython.display import display\n",
      "import gcat"
     ],
     "language": "python",
     "metadata": {},
     "outputs": [],
     "prompt_number": 1
    },
    {
     "cell_type": "code",
     "collapsed": false,
     "input": [
      "server = ENCODED('www.encodeproject.org')\n",
      "server.load_netrc()"
     ],
     "language": "python",
     "metadata": {},
     "outputs": [],
     "prompt_number": 2
    },
    {
     "cell_type": "heading",
     "level": 1,
     "metadata": {},
     "source": [
      "Create Libraries"
     ]
    },
    {
     "cell_type": "code",
     "collapsed": false,
     "input": [
      "spreadsheet_name = \"Rabi Submissions\"\n",
      "book = gcat.get_file(spreadsheet_name, fmt='pandas_excel')\n",
      "libraries = book.parse('Libraries')"
     ],
     "language": "python",
     "metadata": {},
     "outputs": [],
     "prompt_number": 7
    },
    {
     "cell_type": "code",
     "collapsed": false,
     "input": [
      "libraries_created = server.post_sheet('/libraries/', libraries, dry_run=True, verbose=True)"
     ],
     "language": "python",
     "metadata": {},
     "outputs": [
      {
       "output_type": "stream",
       "stream": "stderr",
       "text": [
        "/home/diane/proj/htsworkflow/htsworkflow/submission/encoded.py:386: SettingWithCopyWarning: \n",
        "A value is trying to be set on a copy of a slice from a DataFrame\n",
        "\n",
        "See the the caveats in the documentation: http://pandas.pydata.org/pandas-docs/stable/indexing.html#indexing-view-versus-copy\n",
        "  sheet[accession_name][i] = accession\n",
        "/home/diane/proj/htsworkflow/htsworkflow/submission/encoded.py:391: SettingWithCopyWarning: \n",
        "A value is trying to be set on a copy of a slice from a DataFrame\n",
        "\n",
        "See the the caveats in the documentation: http://pandas.pydata.org/pandas-docs/stable/indexing.html#indexing-view-versus-copy\n",
        "  sheet['uuid'][i] = uuid\n",
        "/usr/lib/python2.7/dist-packages/pandas/core/indexing.py:121: SettingWithCopyWarning: \n",
        "A value is trying to be set on a copy of a slice from a DataFrame\n",
        "\n",
        "See the the caveats in the documentation: http://pandas.pydata.org/pandas-docs/stable/indexing.html#indexing-view-versus-copy\n",
        "  self._setitem_with_indexer(indexer, value)\n"
       ]
      },
      {
       "output_type": "stream",
       "stream": "stdout",
       "text": [
        "Reponse {u'status': u'success', u'@graph': [{u'accession': u'ENCLB239NJU', u'alternate_accessions': [], u'aliases': [u'ali-mortazavi:smooth muscle cell-lib1'], u'submitted_by': u'/users/bc5b62f7-ce28-4a1e-b6b3-81c9c5a86d7a/', u'documents': [], u'uuid': u'687aa828-3182-46cd-bf18-f9a3eba4adaa', u'strand_specificity': False, u'schema_version': u'3', u'biosample': u'/biosamples/ENCBS780PCJ/', u'status': u'in progress', u'nucleic_acid_term_name': u'miRNA', u'treatments': [], u'award': u'/awards/U54HG004576/', u'depleted_in_term_name': [], u'nucleic_acid_term_id': u'SO:0000276', u'lab': u'/labs/ali-mortazavi/', u'@id': u'/libraries/ENCLB239NJU/', u'depleted_in_term_id': [], u'size_range': u'<30', u'spikeins_used': [], u'date_created': u'2015-03-31T23:00:32.483878+00:00', u'@type': [u'library', u'item']}], u'@type': [u'result']}\n",
        "row 0 created: ENCLB239NJU"
       ]
      },
      {
       "output_type": "stream",
       "stream": "stdout",
       "text": [
        "\n",
        "Reponse {u'status': u'success', u'@graph': [{u'accession': u'ENCLB941AUY', u'alternate_accessions': [], u'aliases': [u'ali-mortazavi:smooth muscle cell-lib2'], u'submitted_by': u'/users/bc5b62f7-ce28-4a1e-b6b3-81c9c5a86d7a/', u'documents': [], u'uuid': u'ac9c3a95-0789-49ea-af11-dda2c75b57f1', u'strand_specificity': False, u'schema_version': u'3', u'biosample': u'/biosamples/ENCBS899TTJ/', u'status': u'in progress', u'nucleic_acid_term_name': u'miRNA', u'treatments': [], u'award': u'/awards/U54HG004576/', u'depleted_in_term_name': [], u'nucleic_acid_term_id': u'SO:0000276', u'lab': u'/labs/ali-mortazavi/', u'@id': u'/libraries/ENCLB941AUY/', u'depleted_in_term_id': [], u'size_range': u'<30', u'spikeins_used': [], u'date_created': u'2015-03-31T23:00:33.169914+00:00', u'@type': [u'library', u'item']}], u'@type': [u'result']}"
       ]
      },
      {
       "output_type": "stream",
       "stream": "stdout",
       "text": [
        "\n",
        "row 1 created: ENCLB941AUY\n",
        "Reponse {u'status': u'success', u'@graph': [{u'accession': u'ENCLB927GTU', u'alternate_accessions': [], u'aliases': [u'ali-mortazavi:neural progenitor cell-lib1'], u'submitted_by': u'/users/bc5b62f7-ce28-4a1e-b6b3-81c9c5a86d7a/', u'documents': [], u'uuid': u'affe1f26-39e9-490b-b165-7a0537d16ad3', u'strand_specificity': False, u'schema_version': u'3', u'biosample': u'/biosamples/ENCBS018TPT/', u'status': u'in progress', u'nucleic_acid_term_name': u'miRNA', u'treatments': [], u'award': u'/awards/U54HG004576/', u'depleted_in_term_name': [], u'nucleic_acid_term_id': u'SO:0000276', u'lab': u'/labs/ali-mortazavi/', u'@id': u'/libraries/ENCLB927GTU/', u'depleted_in_term_id': [], u'size_range': u'<30', u'spikeins_used': [], u'date_created': u'2015-03-31T23:00:33.676496+00:00', u'@type': [u'library', u'item']}], u'@type': [u'result']}"
       ]
      },
      {
       "output_type": "stream",
       "stream": "stdout",
       "text": [
        "\n",
        "row 2 created: ENCLB927GTU\n",
        "Reponse {u'status': u'success', u'@graph': [{u'accession': u'ENCLB864MSF', u'alternate_accessions': [], u'aliases': [u'ali-mortazavi:neural progenitor cell-lib2'], u'submitted_by': u'/users/bc5b62f7-ce28-4a1e-b6b3-81c9c5a86d7a/', u'documents': [], u'depleted_in_term_id': [], u'strand_specificity': False, u'schema_version': u'3', u'biosample': u'/biosamples/ENCBS044KWE/', u'status': u'in progress', u'nucleic_acid_term_name': u'miRNA', u'treatments': [], u'award': u'/awards/U54HG004576/', u'depleted_in_term_name': [], u'nucleic_acid_term_id': u'SO:0000276', u'lab': u'/labs/ali-mortazavi/', u'@id': u'/libraries/ENCLB864MSF/', u'uuid': u'da8664a8-db43-4a52-a8a2-1a8e06b05841', u'size_range': u'<30', u'spikeins_used': [], u'date_created': u'2015-03-31T23:00:34.218889+00:00', u'@type': [u'library', u'item']}], u'@type': [u'result']}"
       ]
      },
      {
       "output_type": "stream",
       "stream": "stdout",
       "text": [
        "\n",
        "row 3 created: ENCLB864MSF\n",
        "Reponse {u'status': u'success', u'@graph': [{u'accession': u'ENCLB998DXA', u'alternate_accessions': [], u'aliases': [u'ali-mortazavi:fibroblast of arm-lib1'], u'submitted_by': u'/users/bc5b62f7-ce28-4a1e-b6b3-81c9c5a86d7a/', u'documents': [], u'uuid': u'2f8770d8-2c6a-430c-b766-9c8cc2549bac', u'strand_specificity': False, u'schema_version': u'3', u'biosample': u'/biosamples/ENCBS367AAA/', u'status': u'in progress', u'nucleic_acid_term_name': u'miRNA', u'treatments': [], u'lab': u'/labs/ali-mortazavi/', u'depleted_in_term_name': [], u'nucleic_acid_term_id': u'SO:0000276', u'award': u'/awards/U54HG004576/', u'@id': u'/libraries/ENCLB998DXA/', u'depleted_in_term_id': [], u'size_range': u'<30', u'spikeins_used': [], u'date_created': u'2015-03-31T23:00:34.742482+00:00', u'@type': [u'library', u'item']}], u'@type': [u'result']}"
       ]
      },
      {
       "output_type": "stream",
       "stream": "stdout",
       "text": [
        "\n",
        "row 4 created: ENCLB998DXA\n",
        "Reponse {u'status': u'success', u'@graph': [{u'accession': u'ENCLB590ZLN', u'alternate_accessions': [], u'aliases': [u'ali-mortazavi:fibroblast of arm-lib2'], u'submitted_by': u'/users/bc5b62f7-ce28-4a1e-b6b3-81c9c5a86d7a/', u'documents': [], u'uuid': u'6107009e-12d6-45e0-a0b2-a30cd92ce9fc', u'strand_specificity': False, u'schema_version': u'3', u'biosample': u'/biosamples/ENCBS372AAA/', u'status': u'in progress', u'nucleic_acid_term_name': u'miRNA', u'treatments': [], u'award': u'/awards/U54HG004576/', u'depleted_in_term_name': [], u'nucleic_acid_term_id': u'SO:0000276', u'lab': u'/labs/ali-mortazavi/', u'@id': u'/libraries/ENCLB590ZLN/', u'depleted_in_term_id': [], u'size_range': u'<30', u'spikeins_used': [], u'date_created': u'2015-03-31T23:00:35.275859+00:00', u'@type': [u'library', u'item']}], u'@type': [u'result']}"
       ]
      },
      {
       "output_type": "stream",
       "stream": "stdout",
       "text": [
        "\n",
        "row 5 created: ENCLB590ZLN\n",
        "Reponse {u'status': u'success', u'@graph': [{u'accession': u'ENCLB267ROE', u'alternate_accessions': [], u'aliases': [u'ali-mortazavi:bipolar spindle neuron-lib1'], u'submitted_by': u'/users/bc5b62f7-ce28-4a1e-b6b3-81c9c5a86d7a/', u'documents': [], u'uuid': u'6d365367-22d4-47c3-8896-ad1943c6019e', u'strand_specificity': False, u'schema_version': u'3', u'biosample': u'/biosamples/ENCBS369AAA/', u'status': u'in progress', u'nucleic_acid_term_name': u'miRNA', u'treatments': [], u'award': u'/awards/U54HG004576/', u'depleted_in_term_name': [], u'nucleic_acid_term_id': u'SO:0000276', u'lab': u'/labs/ali-mortazavi/', u'@id': u'/libraries/ENCLB267ROE/', u'depleted_in_term_id': [], u'size_range': u'<30', u'spikeins_used': [], u'date_created': u'2015-03-31T23:00:35.822361+00:00', u'@type': [u'library', u'item']}], u'@type': [u'result']}"
       ]
      },
      {
       "output_type": "stream",
       "stream": "stdout",
       "text": [
        "\n",
        "row 6 created: ENCLB267ROE\n",
        "Reponse {u'status': u'success', u'@graph': [{u'accession': u'ENCLB350YBL', u'alternate_accessions': [], u'aliases': [u'ali-mortazavi:bipolar spindle neuron-lib2'], u'submitted_by': u'/users/bc5b62f7-ce28-4a1e-b6b3-81c9c5a86d7a/', u'documents': [], u'uuid': u'd1f7b224-71d7-4763-954f-772c8e566daa', u'strand_specificity': False, u'schema_version': u'3', u'biosample': u'/biosamples/ENCBS374AAA/', u'status': u'in progress', u'nucleic_acid_term_name': u'miRNA', u'treatments': [], u'award': u'/awards/U54HG004576/', u'depleted_in_term_name': [], u'nucleic_acid_term_id': u'SO:0000276', u'lab': u'/labs/ali-mortazavi/', u'@id': u'/libraries/ENCLB350YBL/', u'depleted_in_term_id': [], u'size_range': u'<30', u'spikeins_used': [], u'date_created': u'2015-03-31T23:00:36.254839+00:00', u'@type': [u'library', u'item']}], u'@type': [u'result']}"
       ]
      },
      {
       "output_type": "stream",
       "stream": "stdout",
       "text": [
        "\n",
        "row 7 created: ENCLB350YBL\n",
        "Reponse {u'status': u'success', u'@graph': [{u'accession': u'ENCLB523NXK', u'alternate_accessions': [], u'aliases': [u'richard-myers:SL85823'], u'submitted_by': u'/users/bc5b62f7-ce28-4a1e-b6b3-81c9c5a86d7a/', u'documents': [], u'uuid': u'104c3276-cd3f-4875-96f6-8a0a64f48aeb', u'strand_specificity': False, u'schema_version': u'3', u'biosample': u'/biosamples/ENCBS780PCJ/', u'status': u'in progress', u'nucleic_acid_term_name': u'miRNA', u'treatments': [], u'lab': u'/labs/ali-mortazavi/', u'depleted_in_term_name': [], u'nucleic_acid_term_id': u'SO:0000276', u'award': u'/awards/U54HG004576/', u'@id': u'/libraries/ENCLB523NXK/', u'depleted_in_term_id': [], u'size_range': u'<30', u'spikeins_used': [], u'date_created': u'2015-03-31T23:00:36.796045+00:00', u'@type': [u'library', u'item']}], u'@type': [u'result']}"
       ]
      },
      {
       "output_type": "stream",
       "stream": "stdout",
       "text": [
        "\n",
        "row 8 created: ENCLB523NXK\n",
        "Reponse {u'status': u'success', u'@graph': [{u'accession': u'ENCLB282TQM', u'alternate_accessions': [], u'aliases': [u'richard-myers:SL85824'], u'submitted_by': u'/users/bc5b62f7-ce28-4a1e-b6b3-81c9c5a86d7a/', u'documents': [], u'uuid': u'a00b96a8-bea6-4d0a-975f-dbaf7b490dfc', u'strand_specificity': False, u'schema_version': u'3', u'biosample': u'/biosamples/ENCBS899TTJ/', u'status': u'in progress', u'nucleic_acid_term_name': u'miRNA', u'treatments': [], u'award': u'/awards/U54HG004576/', u'depleted_in_term_name': [], u'nucleic_acid_term_id': u'SO:0000276', u'lab': u'/labs/ali-mortazavi/', u'@id': u'/libraries/ENCLB282TQM/', u'depleted_in_term_id': [], u'size_range': u'<30', u'spikeins_used': [], u'date_created': u'2015-03-31T23:00:37.293960+00:00', u'@type': [u'library', u'item']}], u'@type': [u'result']}"
       ]
      },
      {
       "output_type": "stream",
       "stream": "stdout",
       "text": [
        "\n",
        "row 9 created: ENCLB282TQM\n",
        "Reponse {u'status': u'success', u'@graph': [{u'accession': u'ENCLB698QQX', u'alternate_accessions': [], u'aliases': [u'richard-myers:SL85827'], u'submitted_by': u'/users/bc5b62f7-ce28-4a1e-b6b3-81c9c5a86d7a/', u'documents': [], u'depleted_in_term_id': [], u'strand_specificity': False, u'schema_version': u'3', u'biosample': u'/biosamples/ENCBS018TPT/', u'status': u'in progress', u'nucleic_acid_term_name': u'miRNA', u'treatments': [], u'award': u'/awards/U54HG004576/', u'depleted_in_term_name': [], u'nucleic_acid_term_id': u'SO:0000276', u'lab': u'/labs/ali-mortazavi/', u'@id': u'/libraries/ENCLB698QQX/', u'uuid': u'5b3b672c-7b5d-4686-bd36-eb42f49537f9', u'size_range': u'<30', u'spikeins_used': [], u'date_created': u'2015-03-31T23:00:37.821887+00:00', u'@type': [u'library', u'item']}], u'@type': [u'result']}"
       ]
      },
      {
       "output_type": "stream",
       "stream": "stdout",
       "text": [
        "\n",
        "row 10 created: ENCLB698QQX\n",
        "Reponse {u'status': u'success', u'@graph': [{u'accession': u'ENCLB803VTA', u'alternate_accessions': [], u'aliases': [u'richard-myers:SL85828'], u'submitted_by': u'/users/bc5b62f7-ce28-4a1e-b6b3-81c9c5a86d7a/', u'documents': [], u'uuid': u'3b5e6c53-a878-4528-a93e-bd5a170849b7', u'strand_specificity': False, u'schema_version': u'3', u'biosample': u'/biosamples/ENCBS044KWE/', u'status': u'in progress', u'nucleic_acid_term_name': u'miRNA', u'treatments': [], u'award': u'/awards/U54HG004576/', u'depleted_in_term_name': [], u'nucleic_acid_term_id': u'SO:0000276', u'lab': u'/labs/ali-mortazavi/', u'@id': u'/libraries/ENCLB803VTA/', u'depleted_in_term_id': [], u'size_range': u'<30', u'spikeins_used': [], u'date_created': u'2015-03-31T23:00:38.318883+00:00', u'@type': [u'library', u'item']}], u'@type': [u'result']}"
       ]
      },
      {
       "output_type": "stream",
       "stream": "stdout",
       "text": [
        "\n",
        "row 11 created: ENCLB803VTA\n",
        "Reponse {u'status': u'success', u'@graph': [{u'accession': u'ENCLB242OXW', u'alternate_accessions': [], u'aliases': [u'richard-myers:SL85817'], u'submitted_by': u'/users/bc5b62f7-ce28-4a1e-b6b3-81c9c5a86d7a/', u'documents': [], u'uuid': u'b1edfe63-886e-4c30-bfdb-d73b4453b6ee', u'strand_specificity': False, u'schema_version': u'3', u'biosample': u'/biosamples/ENCBS367AAA/', u'status': u'in progress', u'nucleic_acid_term_name': u'miRNA', u'treatments': [], u'lab': u'/labs/ali-mortazavi/', u'depleted_in_term_name': [], u'nucleic_acid_term_id': u'SO:0000276', u'award': u'/awards/U54HG004576/', u'@id': u'/libraries/ENCLB242OXW/', u'depleted_in_term_id': [], u'size_range': u'<30', u'spikeins_used': [], u'date_created': u'2015-03-31T23:00:38.816102+00:00', u'@type': [u'library', u'item']}], u'@type': [u'result']}"
       ]
      },
      {
       "output_type": "stream",
       "stream": "stdout",
       "text": [
        "\n",
        "row 12 created: ENCLB242OXW\n",
        "Reponse {u'status': u'success', u'@graph': [{u'accession': u'ENCLB561XOB', u'alternate_accessions': [], u'aliases': [u'richard-myers:SL85821'], u'submitted_by': u'/users/bc5b62f7-ce28-4a1e-b6b3-81c9c5a86d7a/', u'documents': [], u'uuid': u'29846c5e-2bdb-4d2f-ae5d-348603c598be', u'strand_specificity': False, u'schema_version': u'3', u'biosample': u'/biosamples/ENCBS372AAA/', u'status': u'in progress', u'nucleic_acid_term_name': u'miRNA', u'treatments': [], u'award': u'/awards/U54HG004576/', u'depleted_in_term_name': [], u'nucleic_acid_term_id': u'SO:0000276', u'lab': u'/labs/ali-mortazavi/', u'@id': u'/libraries/ENCLB561XOB/', u'depleted_in_term_id': [], u'size_range': u'<30', u'spikeins_used': [], u'date_created': u'2015-03-31T23:00:39.306137+00:00', u'@type': [u'library', u'item']}], u'@type': [u'result']}"
       ]
      },
      {
       "output_type": "stream",
       "stream": "stdout",
       "text": [
        "\n",
        "row 13 created: ENCLB561XOB\n",
        "Reponse {u'status': u'success', u'@graph': [{u'accession': u'ENCLB424ORZ', u'alternate_accessions': [], u'aliases': [u'richard-myers:SL85820'], u'submitted_by': u'/users/bc5b62f7-ce28-4a1e-b6b3-81c9c5a86d7a/', u'documents': [], u'uuid': u'66c7ca76-3da8-4f80-a734-a7599003853c', u'strand_specificity': False, u'schema_version': u'3', u'biosample': u'/biosamples/ENCBS369AAA/', u'status': u'in progress', u'nucleic_acid_term_name': u'miRNA', u'treatments': [], u'award': u'/awards/U54HG004576/', u'depleted_in_term_name': [], u'nucleic_acid_term_id': u'SO:0000276', u'lab': u'/labs/ali-mortazavi/', u'@id': u'/libraries/ENCLB424ORZ/', u'depleted_in_term_id': [], u'size_range': u'<30', u'spikeins_used': [], u'date_created': u'2015-03-31T23:00:39.738073+00:00', u'@type': [u'library', u'item']}], u'@type': [u'result']}"
       ]
      },
      {
       "output_type": "stream",
       "stream": "stdout",
       "text": [
        "\n",
        "row 14 created: ENCLB424ORZ\n",
        "Reponse {u'status': u'success', u'@graph': [{u'accession': u'ENCLB284XFC', u'alternate_accessions': [], u'aliases': [u'richard-myers:SL85818'], u'submitted_by': u'/users/bc5b62f7-ce28-4a1e-b6b3-81c9c5a86d7a/', u'documents': [], u'uuid': u'964dc169-edf3-4d77-a662-7e7e55a9b6ef', u'strand_specificity': False, u'schema_version': u'3', u'biosample': u'/biosamples/ENCBS374AAA/', u'status': u'in progress', u'nucleic_acid_term_name': u'miRNA', u'treatments': [], u'award': u'/awards/U54HG004576/', u'depleted_in_term_name': [], u'nucleic_acid_term_id': u'SO:0000276', u'lab': u'/labs/ali-mortazavi/', u'@id': u'/libraries/ENCLB284XFC/', u'depleted_in_term_id': [], u'size_range': u'<30', u'spikeins_used': [], u'date_created': u'2015-03-31T23:00:40.261302+00:00', u'@type': [u'library', u'item']}], u'@type': [u'result']}"
       ]
      },
      {
       "output_type": "stream",
       "stream": "stdout",
       "text": [
        "\n",
        "row 15 created: ENCLB284XFC\n",
        "Reponse {u'status': u'success', u'@graph': [{u'accession': u'ENCLB997UNK', u'alternate_accessions': [], u'aliases': [u'ali-mortazavi:P0-neural tube-Lib1-15481'], u'submitted_by': u'/users/bc5b62f7-ce28-4a1e-b6b3-81c9c5a86d7a/', u'documents': [], u'uuid': u'002ec423-0b03-4bce-8955-3a6525ad13d3', u'strand_specificity': False, u'schema_version': u'3', u'biosample': u'/biosamples/ENCBS310ESD/', u'status': u'in progress', u'nucleic_acid_term_name': u'miRNA', u'treatments': [], u'award': u'/awards/U54HG004576/', u'depleted_in_term_name': [], u'nucleic_acid_term_id': u'SO:0000276', u'lab': u'/labs/ali-mortazavi/', u'@id': u'/libraries/ENCLB997UNK/', u'depleted_in_term_id': [], u'size_range': u'<30', u'spikeins_used': [], u'date_created': u'2015-03-31T23:00:40.738630+00:00', u'@type': [u'library', u'item']}], u'@type': [u'result']}"
       ]
      },
      {
       "output_type": "stream",
       "stream": "stdout",
       "text": [
        "\n",
        "row 17 created: ENCLB997UNK\n",
        "Reponse {u'status': u'success', u'@graph': [{u'accession': u'ENCLB939YWM', u'alternate_accessions': [], u'aliases': [u'ali-mortazavi:P0-neural tube-Lib2-15482'], u'submitted_by': u'/users/bc5b62f7-ce28-4a1e-b6b3-81c9c5a86d7a/', u'documents': [], u'depleted_in_term_id': [], u'strand_specificity': False, u'schema_version': u'3', u'biosample': u'/biosamples/ENCBS897LGY/', u'status': u'in progress', u'nucleic_acid_term_name': u'miRNA', u'treatments': [], u'award': u'/awards/U54HG004576/', u'depleted_in_term_name': [], u'nucleic_acid_term_id': u'SO:0000276', u'lab': u'/labs/ali-mortazavi/', u'@id': u'/libraries/ENCLB939YWM/', u'uuid': u'03ab05ad-0d19-477a-8a0c-a2f513196eb4', u'size_range': u'<30', u'spikeins_used': [], u'date_created': u'2015-03-31T23:00:41.214495+00:00', u'@type': [u'library', u'item']}], u'@type': [u'result']}"
       ]
      },
      {
       "output_type": "stream",
       "stream": "stdout",
       "text": [
        "\n",
        "row 18 created: ENCLB939YWM\n",
        "Reponse {u'status': u'success', u'@graph': [{u'accession': u'ENCLB614CRU', u'alternate_accessions': [], u'aliases': [u'ali-mortazavi:P0-thymus-Lib1-15483'], u'submitted_by': u'/users/bc5b62f7-ce28-4a1e-b6b3-81c9c5a86d7a/', u'documents': [], u'uuid': u'2700c6cb-daab-4994-a27e-6430c96fcbf9', u'strand_specificity': False, u'schema_version': u'3', u'biosample': u'/biosamples/ENCBS079WTJ/', u'status': u'in progress', u'nucleic_acid_term_name': u'miRNA', u'treatments': [], u'award': u'/awards/U54HG004576/', u'depleted_in_term_name': [], u'nucleic_acid_term_id': u'SO:0000276', u'lab': u'/labs/ali-mortazavi/', u'@id': u'/libraries/ENCLB614CRU/', u'depleted_in_term_id': [], u'size_range': u'<30', u'spikeins_used': [], u'date_created': u'2015-03-31T23:00:41.695673+00:00', u'@type': [u'library', u'item']}], u'@type': [u'result']}"
       ]
      },
      {
       "output_type": "stream",
       "stream": "stdout",
       "text": [
        "\n",
        "row 19 created: ENCLB614CRU\n",
        "Reponse {u'status': u'success', u'@graph': [{u'accession': u'ENCLB993FGD', u'alternate_accessions': [], u'aliases': [u'ali-mortazavi:P0-thymus-Lib2-15484'], u'submitted_by': u'/users/bc5b62f7-ce28-4a1e-b6b3-81c9c5a86d7a/', u'documents': [], u'uuid': u'03511bf6-8f5d-4095-8d5d-61df3aa9c762', u'strand_specificity': False, u'schema_version': u'3', u'biosample': u'/biosamples/ENCBS898VIJ/', u'status': u'in progress', u'nucleic_acid_term_name': u'miRNA', u'treatments': [], u'award': u'/awards/U54HG004576/', u'depleted_in_term_name': [], u'nucleic_acid_term_id': u'SO:0000276', u'lab': u'/labs/ali-mortazavi/', u'@id': u'/libraries/ENCLB993FGD/', u'depleted_in_term_id': [], u'size_range': u'<30', u'spikeins_used': [], u'date_created': u'2015-03-31T23:00:42.202979+00:00', u'@type': [u'library', u'item']}], u'@type': [u'result']}"
       ]
      },
      {
       "output_type": "stream",
       "stream": "stdout",
       "text": [
        "\n",
        "row 20 created: ENCLB993FGD\n",
        "Reponse {u'status': u'success', u'@graph': [{u'accession': u'ENCLB686PIK', u'alternate_accessions': [], u'aliases': [u'ali-mortazavi:P0-lung-Lib1-15487'], u'submitted_by': u'/users/bc5b62f7-ce28-4a1e-b6b3-81c9c5a86d7a/', u'documents': [], u'uuid': u'393b96d6-a627-4abd-8440-a6125235e0ef', u'strand_specificity': False, u'schema_version': u'3', u'biosample': u'/biosamples/ENCBS747AFS/', u'status': u'in progress', u'nucleic_acid_term_name': u'miRNA', u'treatments': [], u'lab': u'/labs/ali-mortazavi/', u'depleted_in_term_name': [], u'nucleic_acid_term_id': u'SO:0000276', u'award': u'/awards/U54HG004576/', u'@id': u'/libraries/ENCLB686PIK/', u'depleted_in_term_id': [], u'size_range': u'<30', u'spikeins_used': [], u'date_created': u'2015-03-31T23:00:42.665781+00:00', u'@type': [u'library', u'item']}], u'@type': [u'result']}"
       ]
      },
      {
       "output_type": "stream",
       "stream": "stdout",
       "text": [
        "\n",
        "row 21 created: ENCLB686PIK\n",
        "Reponse {u'status': u'success', u'@graph': [{u'accession': u'ENCLB301BXL', u'alternate_accessions': [], u'aliases': [u'ali-mortazavi:P0-lung-Lib2-15488'], u'submitted_by': u'/users/bc5b62f7-ce28-4a1e-b6b3-81c9c5a86d7a/', u'documents': [], u'uuid': u'fa0782cc-988b-4765-b74d-bc54b5907f80', u'strand_specificity': False, u'schema_version': u'3', u'biosample': u'/biosamples/ENCBS438DQO/', u'status': u'in progress', u'nucleic_acid_term_name': u'miRNA', u'treatments': [], u'award': u'/awards/U54HG004576/', u'depleted_in_term_name': [], u'nucleic_acid_term_id': u'SO:0000276', u'lab': u'/labs/ali-mortazavi/', u'@id': u'/libraries/ENCLB301BXL/', u'depleted_in_term_id': [], u'size_range': u'<30', u'spikeins_used': [], u'date_created': u'2015-03-31T23:00:43.147335+00:00', u'@type': [u'library', u'item']}], u'@type': [u'result']}"
       ]
      },
      {
       "output_type": "stream",
       "stream": "stdout",
       "text": [
        "\n",
        "row 22 created: ENCLB301BXL\n",
        "Reponse {u'status': u'success', u'@graph': [{u'accession': u'ENCLB511EOA', u'alternate_accessions': [], u'aliases': [u'ali-mortazavi:P0-spleen-Lib1-15493'], u'submitted_by': u'/users/bc5b62f7-ce28-4a1e-b6b3-81c9c5a86d7a/', u'documents': [], u'depleted_in_term_id': [], u'strand_specificity': False, u'schema_version': u'3', u'biosample': u'/biosamples/ENCBS173QYQ/', u'status': u'in progress', u'nucleic_acid_term_name': u'miRNA', u'treatments': [], u'award': u'/awards/U54HG004576/', u'depleted_in_term_name': [], u'nucleic_acid_term_id': u'SO:0000276', u'lab': u'/labs/ali-mortazavi/', u'@id': u'/libraries/ENCLB511EOA/', u'uuid': u'bbab4172-7c91-4f93-9669-67d7e9610b9d', u'size_range': u'<30', u'spikeins_used': [], u'date_created': u'2015-03-31T23:00:43.666895+00:00', u'@type': [u'library', u'item']}], u'@type': [u'result']}"
       ]
      },
      {
       "output_type": "stream",
       "stream": "stdout",
       "text": [
        "\n",
        "row 23 created: ENCLB511EOA\n",
        "Reponse {u'status': u'success', u'@graph': [{u'accession': u'ENCLB833EKC', u'alternate_accessions': [], u'aliases': [u'ali-mortazavi:P0-spleen-Lib2-15494'], u'submitted_by': u'/users/bc5b62f7-ce28-4a1e-b6b3-81c9c5a86d7a/', u'documents': [], u'depleted_in_term_id': [], u'strand_specificity': False, u'schema_version': u'3', u'biosample': u'/biosamples/ENCBS051QLA/', u'status': u'in progress', u'nucleic_acid_term_name': u'miRNA', u'treatments': [], u'award': u'/awards/U54HG004576/', u'depleted_in_term_name': [], u'nucleic_acid_term_id': u'SO:0000276', u'lab': u'/labs/ali-mortazavi/', u'@id': u'/libraries/ENCLB833EKC/', u'uuid': u'b9bd9c89-fb3b-47cc-897a-f6d51f17bb25', u'size_range': u'<30', u'spikeins_used': [], u'date_created': u'2015-03-31T23:00:44.146742+00:00', u'@type': [u'library', u'item']}], u'@type': [u'result']}"
       ]
      },
      {
       "output_type": "stream",
       "stream": "stdout",
       "text": [
        "\n",
        "row 24 created: ENCLB833EKC\n",
        "Reponse {u'status': u'success', u'@graph': [{u'accession': u'ENCLB892EEJ', u'alternate_accessions': [], u'aliases': [u'ali-mortazavi:P0-stomach-Lib1-15497'], u'submitted_by': u'/users/bc5b62f7-ce28-4a1e-b6b3-81c9c5a86d7a/', u'documents': [], u'uuid': u'058440b7-316b-44f1-a432-174b3110d752', u'strand_specificity': False, u'schema_version': u'3', u'biosample': u'/biosamples/ENCBS762UVC/', u'status': u'in progress', u'nucleic_acid_term_name': u'miRNA', u'treatments': [], u'award': u'/awards/U54HG004576/', u'depleted_in_term_name': [], u'nucleic_acid_term_id': u'SO:0000276', u'lab': u'/labs/ali-mortazavi/', u'@id': u'/libraries/ENCLB892EEJ/', u'depleted_in_term_id': [], u'size_range': u'<30', u'spikeins_used': [], u'date_created': u'2015-03-31T23:00:44.700807+00:00', u'@type': [u'library', u'item']}], u'@type': [u'result']}"
       ]
      },
      {
       "output_type": "stream",
       "stream": "stdout",
       "text": [
        "\n",
        "row 25 created: ENCLB892EEJ\n",
        "Reponse {u'status': u'success', u'@graph': [{u'accession': u'ENCLB557DKF', u'alternate_accessions': [], u'aliases': [u'ali-mortazavi:P0-stomach-Lib2-15498'], u'submitted_by': u'/users/bc5b62f7-ce28-4a1e-b6b3-81c9c5a86d7a/', u'documents': [], u'uuid': u'05044e10-4863-4133-8688-9f702b6e6656', u'strand_specificity': False, u'schema_version': u'3', u'biosample': u'/biosamples/ENCBS796AGC/', u'status': u'in progress', u'nucleic_acid_term_name': u'miRNA', u'treatments': [], u'award': u'/awards/U54HG004576/', u'depleted_in_term_name': [], u'nucleic_acid_term_id': u'SO:0000276', u'lab': u'/labs/ali-mortazavi/', u'@id': u'/libraries/ENCLB557DKF/', u'depleted_in_term_id': [], u'size_range': u'<30', u'spikeins_used': [], u'date_created': u'2015-03-31T23:00:45.164481+00:00', u'@type': [u'library', u'item']}], u'@type': [u'result']}"
       ]
      },
      {
       "output_type": "stream",
       "stream": "stdout",
       "text": [
        "\n",
        "row 26 created: ENCLB557DKF\n",
        "Reponse {u'status': u'success', u'@graph': [{u'accession': u'ENCLB451CXY', u'alternate_accessions': [], u'aliases': [u'ali-mortazavi:P0-kidney-Lib1-15501'], u'submitted_by': u'/users/bc5b62f7-ce28-4a1e-b6b3-81c9c5a86d7a/', u'documents': [], u'uuid': u'c753591f-53a4-4dd5-bdee-0307bfac8485', u'strand_specificity': False, u'schema_version': u'3', u'biosample': u'/biosamples/ENCBS103FKB/', u'status': u'in progress', u'nucleic_acid_term_name': u'miRNA', u'treatments': [], u'award': u'/awards/U54HG004576/', u'depleted_in_term_name': [], u'nucleic_acid_term_id': u'SO:0000276', u'lab': u'/labs/ali-mortazavi/', u'@id': u'/libraries/ENCLB451CXY/', u'depleted_in_term_id': [], u'size_range': u'<30', u'spikeins_used': [], u'date_created': u'2015-03-31T23:00:45.631508+00:00', u'@type': [u'library', u'item']}], u'@type': [u'result']}"
       ]
      },
      {
       "output_type": "stream",
       "stream": "stdout",
       "text": [
        "\n",
        "row 27 created: ENCLB451CXY\n",
        "Reponse {u'status': u'success', u'@graph': [{u'accession': u'ENCLB998ZJK', u'alternate_accessions': [], u'aliases': [u'ali-mortazavi:P0-kidney-Lib2-15502'], u'submitted_by': u'/users/bc5b62f7-ce28-4a1e-b6b3-81c9c5a86d7a/', u'documents': [], u'depleted_in_term_id': [], u'strand_specificity': False, u'schema_version': u'3', u'biosample': u'/biosamples/ENCBS540QNA/', u'status': u'in progress', u'nucleic_acid_term_name': u'miRNA', u'treatments': [], u'award': u'/awards/U54HG004576/', u'depleted_in_term_name': [], u'nucleic_acid_term_id': u'SO:0000276', u'lab': u'/labs/ali-mortazavi/', u'@id': u'/libraries/ENCLB998ZJK/', u'uuid': u'48ea5f5a-3518-4bcb-bf5c-a8e3473a8658', u'size_range': u'<30', u'spikeins_used': [], u'date_created': u'2015-03-31T23:00:46.117703+00:00', u'@type': [u'library', u'item']}], u'@type': [u'result']}"
       ]
      },
      {
       "output_type": "stream",
       "stream": "stdout",
       "text": [
        "\n",
        "row 28 created: ENCLB998ZJK\n",
        "Reponse {u'status': u'success', u'@graph': [{u'accession': u'ENCLB898CNP', u'alternate_accessions': [], u'aliases': [u'ali-mortazavi:e11.5-forebrain-Lib1-15007'], u'submitted_by': u'/users/bc5b62f7-ce28-4a1e-b6b3-81c9c5a86d7a/', u'documents': [], u'uuid': u'bb59995a-4de0-4737-89ed-581a933a84ec', u'strand_specificity': False, u'schema_version': u'3', u'biosample': u'/biosamples/ENCBS745VOM/', u'status': u'in progress', u'nucleic_acid_term_name': u'miRNA', u'treatments': [], u'award': u'/awards/U54HG004576/', u'depleted_in_term_name': [], u'nucleic_acid_term_id': u'SO:0000276', u'lab': u'/labs/ali-mortazavi/', u'@id': u'/libraries/ENCLB898CNP/', u'depleted_in_term_id': [], u'size_range': u'<30', u'spikeins_used': [], u'date_created': u'2015-03-31T23:00:46.614418+00:00', u'@type': [u'library', u'item']}], u'@type': [u'result']}"
       ]
      },
      {
       "output_type": "stream",
       "stream": "stdout",
       "text": [
        "\n",
        "row 29 created: ENCLB898CNP\n",
        "Reponse {u'status': u'success', u'@graph': [{u'accession': u'ENCLB516AHA', u'alternate_accessions': [], u'aliases': [u'ali-mortazavi:e11.5-forebrain-Lib2-15008'], u'submitted_by': u'/users/bc5b62f7-ce28-4a1e-b6b3-81c9c5a86d7a/', u'documents': [], u'uuid': u'2152533c-9c1e-4076-bf59-93e8f6f8782c', u'strand_specificity': False, u'schema_version': u'3', u'biosample': u'/biosamples/ENCBS720JOH/', u'status': u'in progress', u'nucleic_acid_term_name': u'miRNA', u'treatments': [], u'award': u'/awards/U54HG004576/', u'depleted_in_term_name': [], u'nucleic_acid_term_id': u'SO:0000276', u'lab': u'/labs/ali-mortazavi/', u'@id': u'/libraries/ENCLB516AHA/', u'depleted_in_term_id': [], u'size_range': u'<30', u'spikeins_used': [], u'date_created': u'2015-03-31T23:00:47.076589+00:00', u'@type': [u'library', u'item']}], u'@type': [u'result']}"
       ]
      },
      {
       "output_type": "stream",
       "stream": "stdout",
       "text": [
        "\n",
        "row 30 created: ENCLB516AHA\n",
        "Reponse {u'status': u'success', u'@graph': [{u'accession': u'ENCLB241DIY', u'alternate_accessions': [], u'aliases': [u'ali-mortazavi:e11.5-midbrain-Lib1-15009'], u'submitted_by': u'/users/bc5b62f7-ce28-4a1e-b6b3-81c9c5a86d7a/', u'documents': [], u'uuid': u'abc92270-2e2e-4aa1-a078-41acc01bef70', u'strand_specificity': False, u'schema_version': u'3', u'biosample': u'/biosamples/ENCBS228OBS/', u'status': u'in progress', u'nucleic_acid_term_name': u'miRNA', u'treatments': [], u'award': u'/awards/U54HG004576/', u'depleted_in_term_name': [], u'nucleic_acid_term_id': u'SO:0000276', u'lab': u'/labs/ali-mortazavi/', u'@id': u'/libraries/ENCLB241DIY/', u'depleted_in_term_id': [], u'size_range': u'<30', u'spikeins_used': [], u'date_created': u'2015-03-31T23:00:47.571961+00:00', u'@type': [u'library', u'item']}], u'@type': [u'result']}"
       ]
      },
      {
       "output_type": "stream",
       "stream": "stdout",
       "text": [
        "\n",
        "row 31 created: ENCLB241DIY\n",
        "Reponse {u'status': u'success', u'@graph': [{u'accession': u'ENCLB485FUS', u'alternate_accessions': [], u'aliases': [u'ali-mortazavi:e11.5-midbrain-Lib2-15010'], u'submitted_by': u'/users/bc5b62f7-ce28-4a1e-b6b3-81c9c5a86d7a/', u'documents': [], u'uuid': u'fc1abb3e-9742-4cab-aff2-f111a4f07b78', u'strand_specificity': False, u'schema_version': u'3', u'biosample': u'/biosamples/ENCBS802FTI/', u'status': u'in progress', u'nucleic_acid_term_name': u'miRNA', u'treatments': [], u'award': u'/awards/U54HG004576/', u'depleted_in_term_name': [], u'nucleic_acid_term_id': u'SO:0000276', u'lab': u'/labs/ali-mortazavi/', u'@id': u'/libraries/ENCLB485FUS/', u'depleted_in_term_id': [], u'size_range': u'<30', u'spikeins_used': [], u'date_created': u'2015-03-31T23:00:48.091591+00:00', u'@type': [u'library', u'item']}], u'@type': [u'result']}"
       ]
      },
      {
       "output_type": "stream",
       "stream": "stdout",
       "text": [
        "\n",
        "row 32 created: ENCLB485FUS\n",
        "Reponse {u'status': u'success', u'@graph': [{u'accession': u'ENCLB545PZF', u'alternate_accessions': [], u'aliases': [u'ali-mortazavi:e11.5-hindbrain-Lib1-15011'], u'submitted_by': u'/users/bc5b62f7-ce28-4a1e-b6b3-81c9c5a86d7a/', u'documents': [], u'uuid': u'a6a25f0c-41f6-4751-8363-1eb6ac63c153', u'strand_specificity': False, u'schema_version': u'3', u'biosample': u'/biosamples/ENCBS199NDR/', u'status': u'in progress', u'nucleic_acid_term_name': u'miRNA', u'treatments': [], u'award': u'/awards/U54HG004576/', u'depleted_in_term_name': [], u'nucleic_acid_term_id': u'SO:0000276', u'lab': u'/labs/ali-mortazavi/', u'@id': u'/libraries/ENCLB545PZF/', u'depleted_in_term_id': [], u'size_range': u'<30', u'spikeins_used': [], u'date_created': u'2015-03-31T23:00:48.582007+00:00', u'@type': [u'library', u'item']}], u'@type': [u'result']}"
       ]
      },
      {
       "output_type": "stream",
       "stream": "stdout",
       "text": [
        "\n",
        "row 33 created: ENCLB545PZF\n",
        "Reponse {u'status': u'success', u'@graph': [{u'accession': u'ENCLB169RQJ', u'alternate_accessions': [], u'aliases': [u'ali-mortazavi:e11.5-hindbrain-Lib2-15012'], u'submitted_by': u'/users/bc5b62f7-ce28-4a1e-b6b3-81c9c5a86d7a/', u'documents': [], u'uuid': u'0369fc3c-a01a-4393-9687-4e24ad5b1b3b', u'strand_specificity': False, u'schema_version': u'3', u'biosample': u'/biosamples/ENCBS976DPO/', u'status': u'in progress', u'nucleic_acid_term_name': u'miRNA', u'treatments': [], u'award': u'/awards/U54HG004576/', u'depleted_in_term_name': [], u'nucleic_acid_term_id': u'SO:0000276', u'lab': u'/labs/ali-mortazavi/', u'@id': u'/libraries/ENCLB169RQJ/', u'depleted_in_term_id': [], u'size_range': u'<30', u'spikeins_used': [], u'date_created': u'2015-03-31T23:00:49.192868+00:00', u'@type': [u'library', u'item']}], u'@type': [u'result']}"
       ]
      },
      {
       "output_type": "stream",
       "stream": "stdout",
       "text": [
        "\n",
        "row 34 created: ENCLB169RQJ\n",
        "Reponse {u'status': u'success', u'@graph': [{u'accession': u'ENCLB997CGA', u'alternate_accessions': [], u'aliases': [u'ali-mortazavi:e11.5-heart-Lib1-15015'], u'submitted_by': u'/users/bc5b62f7-ce28-4a1e-b6b3-81c9c5a86d7a/', u'documents': [], u'uuid': u'f24d33c1-6765-40b8-99e3-1db07ff3641f', u'strand_specificity': False, u'schema_version': u'3', u'biosample': u'/biosamples/ENCBS225RIF/', u'status': u'in progress', u'nucleic_acid_term_name': u'miRNA', u'treatments': [], u'lab': u'/labs/ali-mortazavi/', u'depleted_in_term_name': [], u'nucleic_acid_term_id': u'SO:0000276', u'award': u'/awards/U54HG004576/', u'@id': u'/libraries/ENCLB997CGA/', u'depleted_in_term_id': [], u'size_range': u'<30', u'spikeins_used': [], u'date_created': u'2015-03-31T23:00:49.695469+00:00', u'@type': [u'library', u'item']}], u'@type': [u'result']}"
       ]
      },
      {
       "output_type": "stream",
       "stream": "stdout",
       "text": [
        "\n",
        "row 35 created: ENCLB997CGA\n",
        "Reponse {u'status': u'success', u'@graph': [{u'accession': u'ENCLB431KMM', u'alternate_accessions': [], u'aliases': [u'ali-mortazavi:e11.5-heart-Lib2-15016'], u'submitted_by': u'/users/bc5b62f7-ce28-4a1e-b6b3-81c9c5a86d7a/', u'documents': [], u'uuid': u'b1072767-416d-4fa8-9daa-d79ba74afae1', u'strand_specificity': False, u'schema_version': u'3', u'biosample': u'/biosamples/ENCBS046IMM/', u'status': u'in progress', u'nucleic_acid_term_name': u'miRNA', u'treatments': [], u'award': u'/awards/U54HG004576/', u'depleted_in_term_name': [], u'nucleic_acid_term_id': u'SO:0000276', u'lab': u'/labs/ali-mortazavi/', u'@id': u'/libraries/ENCLB431KMM/', u'depleted_in_term_id': [], u'size_range': u'<30', u'spikeins_used': [], u'date_created': u'2015-03-31T23:00:50.218292+00:00', u'@type': [u'library', u'item']}], u'@type': [u'result']}"
       ]
      },
      {
       "output_type": "stream",
       "stream": "stdout",
       "text": [
        "\n",
        "row 36 created: ENCLB431KMM\n",
        "Reponse {u'status': u'success', u'@graph': [{u'accession': u'ENCLB554BFU', u'alternate_accessions': [], u'aliases': [u'ali-mortazavi:e11.5-liver-Lib1-15017'], u'submitted_by': u'/users/bc5b62f7-ce28-4a1e-b6b3-81c9c5a86d7a/', u'documents': [], u'uuid': u'446b5bac-c0bb-49c9-88f0-d60a40f0a671', u'strand_specificity': False, u'schema_version': u'3', u'biosample': u'/biosamples/ENCBS746POP/', u'status': u'in progress', u'nucleic_acid_term_name': u'miRNA', u'treatments': [], u'award': u'/awards/U54HG004576/', u'depleted_in_term_name': [], u'nucleic_acid_term_id': u'SO:0000276', u'lab': u'/labs/ali-mortazavi/', u'@id': u'/libraries/ENCLB554BFU/', u'depleted_in_term_id': [], u'size_range': u'<30', u'spikeins_used': [], u'date_created': u'2015-03-31T23:00:50.689885+00:00', u'@type': [u'library', u'item']}], u'@type': [u'result']}"
       ]
      },
      {
       "output_type": "stream",
       "stream": "stdout",
       "text": [
        "\n",
        "row 37 created: ENCLB554BFU\n",
        "Reponse {u'status': u'success', u'@graph': [{u'accession': u'ENCLB839VYO', u'alternate_accessions': [], u'aliases': [u'ali-mortazavi:e11.5-liver-Lib2-15018'], u'submitted_by': u'/users/bc5b62f7-ce28-4a1e-b6b3-81c9c5a86d7a/', u'documents': [], u'uuid': u'9f70a846-4ba9-40c5-89c6-00465c0349d5', u'strand_specificity': False, u'schema_version': u'3', u'biosample': u'/biosamples/ENCBS522YOW/', u'status': u'in progress', u'nucleic_acid_term_name': u'miRNA', u'treatments': [], u'award': u'/awards/U54HG004576/', u'depleted_in_term_name': [], u'nucleic_acid_term_id': u'SO:0000276', u'lab': u'/labs/ali-mortazavi/', u'@id': u'/libraries/ENCLB839VYO/', u'depleted_in_term_id': [], u'size_range': u'<30', u'spikeins_used': [], u'date_created': u'2015-03-31T23:00:51.217930+00:00', u'@type': [u'library', u'item']}], u'@type': [u'result']}"
       ]
      },
      {
       "output_type": "stream",
       "stream": "stdout",
       "text": [
        "\n",
        "row 38 created: ENCLB839VYO\n",
        "Reponse {u'status': u'success', u'@graph': [{u'accession': u'ENCLB104HBO', u'alternate_accessions': [], u'aliases': [u'ali-mortazavi:e11.5-neural tube-Lib1-15021'], u'submitted_by': u'/users/bc5b62f7-ce28-4a1e-b6b3-81c9c5a86d7a/', u'documents': [], u'uuid': u'f3bb1765-c133-4dc6-89ed-5ab55983e6e1', u'strand_specificity': False, u'schema_version': u'3', u'biosample': u'/biosamples/ENCBS402TUS/', u'status': u'in progress', u'nucleic_acid_term_name': u'miRNA', u'treatments': [], u'lab': u'/labs/ali-mortazavi/', u'depleted_in_term_name': [], u'nucleic_acid_term_id': u'SO:0000276', u'award': u'/awards/U54HG004576/', u'@id': u'/libraries/ENCLB104HBO/', u'depleted_in_term_id': [], u'size_range': u'<30', u'spikeins_used': [], u'date_created': u'2015-03-31T23:00:51.798575+00:00', u'@type': [u'library', u'item']}], u'@type': [u'result']}"
       ]
      },
      {
       "output_type": "stream",
       "stream": "stdout",
       "text": [
        "\n",
        "row 39 created: ENCLB104HBO\n",
        "Reponse {u'status': u'success', u'@graph': [{u'accession': u'ENCLB792LFB', u'alternate_accessions': [], u'aliases': [u'ali-mortazavi:e11.5-neural tube-Lib2-15022'], u'submitted_by': u'/users/bc5b62f7-ce28-4a1e-b6b3-81c9c5a86d7a/', u'documents': [], u'uuid': u'afaddcc5-85ef-4ec0-a947-c9b7a9c9c0cb', u'strand_specificity': False, u'schema_version': u'3', u'biosample': u'/biosamples/ENCBS183YVD/', u'status': u'in progress', u'nucleic_acid_term_name': u'miRNA', u'treatments': [], u'lab': u'/labs/ali-mortazavi/', u'depleted_in_term_name': [], u'nucleic_acid_term_id': u'SO:0000276', u'award': u'/awards/U54HG004576/', u'@id': u'/libraries/ENCLB792LFB/', u'depleted_in_term_id': [], u'size_range': u'<30', u'spikeins_used': [], u'date_created': u'2015-03-31T23:00:52.288318+00:00', u'@type': [u'library', u'item']}], u'@type': [u'result']}"
       ]
      },
      {
       "output_type": "stream",
       "stream": "stdout",
       "text": [
        "\n",
        "row 40 created: ENCLB792LFB\n"
       ]
      }
     ],
     "prompt_number": 10
    },
    {
     "cell_type": "code",
     "collapsed": false,
     "input": [
      "libraries.to_excel('/tmp/rabi_libraries.xlsx')"
     ],
     "language": "python",
     "metadata": {},
     "outputs": [],
     "prompt_number": 11
    },
    {
     "cell_type": "heading",
     "level": 1,
     "metadata": {},
     "source": [
      "Create Experiments"
     ]
    },
    {
     "cell_type": "code",
     "collapsed": false,
     "input": [
      "book = gcat.get_file(spreadsheet_name, fmt='pandas_excel')\n",
      "experiments = book.parse('Experiments')"
     ],
     "language": "python",
     "metadata": {},
     "outputs": [],
     "prompt_number": 20
    },
    {
     "cell_type": "code",
     "collapsed": false,
     "input": [
      "experiments_created = server.post_sheet('/experiments/', experiments, dry_run=False, verbose=True)"
     ],
     "language": "python",
     "metadata": {},
     "outputs": [
      {
       "output_type": "stream",
       "stream": "stdout",
       "text": [
        "Reponse {u'status': u'success', u'@graph': [{u'files': [], u'system_slims': [], u'possible_controls': [], u'original_files': [], u'accession': u'ENCSR369ZII', u'replicates': [], u'references': [], u'alternate_accessions': [], u'documents': [u'/documents/01810c91-4873-4268-b6a4-7e3e7c620fe0/', u'/documents/97468ce9-3727-4f3c-bc96-48dc4d248cc9/', u'/documents/cb385548-00ac-44fd-944e-7d238a2fe795/'], u'aliases': [u'ali-mortazavi:P0-mouse-neural tube-nanostring'], u'submitted_by': u'/users/bc5b62f7-ce28-4a1e-b6b3-81c9c5a86d7a/', u'dbxrefs': [], u'uuid': u'3dfde10f-c9c0-4ec4-bd25-7ff33e064b41', u'biosample_type': u'tissue', u'schema_version': u'5', u'developmental_slims': [u'ectoderm'], u'biosample_synonyms': [], u'status': u'proposed', u'assembly': [], u'description': u'Nanostring miRNA Array on postnatal 0 day mouse neural tube', u'contributing_files': [], u'assay_term_name': u'microRNA Array', u'award': u'/awards/U54HG004576/', u'dataset_type': u'experiment', u'lab': u'/labs/ali-mortazavi/', u'revoked_files': [], u'@id': u'/experiments/ENCSR369ZII/', u'related_files': [], u'assay_term_id': u'OBI:0001335', u'assay_synonyms': [u'microRNA profiling by array assay'], u'biosample_term_id': u'UBERON:0001049', u'organ_slims': [], u'biosample_term_name': u'neural tube', u'date_created': u'2015-03-31T23:26:48.921458+00:00', u'@type': [u'experiment', u'dataset', u'item']}], u'@type': [u'result']}\n",
        "row 8 created: ENCSR369ZII"
       ]
      },
      {
       "output_type": "stream",
       "stream": "stdout",
       "text": [
        "\n",
        "Reponse {u'status': u'success', u'@graph': [{u'files': [], u'system_slims': [u'immune system', u'endocrine system'], u'possible_controls': [], u'original_files': [], u'accession': u'ENCSR523DJZ', u'replicates': [], u'references': [], u'alternate_accessions': [], u'aliases': [u'ali-mortazavi:P0-mouse-thymus-nanostring'], u'submitted_by': u'/users/bc5b62f7-ce28-4a1e-b6b3-81c9c5a86d7a/', u'documents': [u'/documents/01810c91-4873-4268-b6a4-7e3e7c620fe0/', u'/documents/97468ce9-3727-4f3c-bc96-48dc4d248cc9/', u'/documents/cb385548-00ac-44fd-944e-7d238a2fe795/'], u'uuid': u'ebe210bb-2a89-4eff-bd99-e46182e45d42', u'biosample_type': u'tissue', u'schema_version': u'5', u'developmental_slims': [u'endoderm', u'mesoderm'], u'biosample_synonyms': [u'thymus organ', u'thymus gland', u'thymus gland'], u'status': u'proposed', u'assembly': [], u'description': u'Nanostring miRNA Array on postnatal 0 day mouse thymus', u'contributing_files': [], u'assay_term_name': u'microRNA Array', u'award': u'/awards/U54HG004576/', u'dbxrefs': [], u'lab': u'/labs/ali-mortazavi/', u'revoked_files': [], u'@id': u'/experiments/ENCSR523DJZ/', u'related_files': [], u'assay_term_id': u'OBI:0001335', u'assay_synonyms': [u'microRNA profiling by array assay'], u'biosample_term_id': u'UBERON:0002370', u'organ_slims': [u'thymus'], u'biosample_term_name': u'thymus', u'dataset_type': u'experiment', u'date_created': u'2015-03-31T23:26:49.484757+00:00', u'@type': [u'experiment', u'dataset', u'item']}], u'@type': [u'result']}"
       ]
      },
      {
       "output_type": "stream",
       "stream": "stdout",
       "text": [
        "\n",
        "row 9 created: ENCSR523DJZ\n",
        "Reponse {u'status': u'success', u'@graph': [{u'files': [], u'system_slims': [u'respiratory system'], u'possible_controls': [], u'original_files': [], u'accession': u'ENCSR025YVG', u'replicates': [], u'references': [], u'alternate_accessions': [], u'documents': [u'/documents/01810c91-4873-4268-b6a4-7e3e7c620fe0/', u'/documents/97468ce9-3727-4f3c-bc96-48dc4d248cc9/', u'/documents/cb385548-00ac-44fd-944e-7d238a2fe795/'], u'aliases': [u'ali-mortazavi:P0-mouse-lung-nanostring'], u'submitted_by': u'/users/bc5b62f7-ce28-4a1e-b6b3-81c9c5a86d7a/', u'dbxrefs': [], u'uuid': u'7d4cf7d7-9f53-40a4-8396-d66297cb86a4', u'biosample_type': u'tissue', u'schema_version': u'5', u'developmental_slims': [u'endoderm'], u'biosample_synonyms': [u'pulmo', u'pulmo'], u'status': u'proposed', u'assembly': [], u'description': u'Nanostring miRNA Array on postnatal 0 day mouse lung', u'contributing_files': [], u'assay_term_name': u'microRNA Array', u'award': u'/awards/U54HG004576/', u'dataset_type': u'experiment', u'lab': u'/labs/ali-mortazavi/', u'revoked_files': [], u'@id': u'/experiments/ENCSR025YVG/', u'related_files': [], u'assay_term_id': u'OBI:0001335', u'assay_synonyms': [u'microRNA profiling by array assay'], u'biosample_term_id': u'UBERON:0002048', u'organ_slims': [u'lung'], u'biosample_term_name': u'lung', u'date_created': u'2015-03-31T23:26:49.909117+00:00', u'@type': [u'experiment', u'dataset', u'item']}], u'@type': [u'result']}"
       ]
      },
      {
       "output_type": "stream",
       "stream": "stdout",
       "text": [
        "\n",
        "row 10 created: ENCSR025YVG\n",
        "Reponse {u'status': u'success', u'@graph': [{u'status': u'proposed', u'system_slims': [u'digestive system', u'immune system'], u'possible_controls': [], u'original_files': [], u'accession': u'ENCSR332XWL', u'replicates': [], u'references': [], u'alternate_accessions': [], u'aliases': [u'ali-mortazavi:P0-mouse-spleen-nanostring'], u'submitted_by': u'/users/bc5b62f7-ce28-4a1e-b6b3-81c9c5a86d7a/', u'dbxrefs': [], u'uuid': u'793e0818-d76f-4fa9-b9e9-319f8520df63', u'biosample_type': u'tissue', u'schema_version': u'5', u'developmental_slims': [u'mesoderm'], u'biosample_synonyms': [u'lien'], u'files': [], u'assembly': [], u'description': u'Nanostring miRNA Array on postnatal 0 day mouse spleen', u'contributing_files': [], u'assay_term_name': u'microRNA Array', u'award': u'/awards/U54HG004576/', u'documents': [u'/documents/01810c91-4873-4268-b6a4-7e3e7c620fe0/', u'/documents/97468ce9-3727-4f3c-bc96-48dc4d248cc9/', u'/documents/cb385548-00ac-44fd-944e-7d238a2fe795/'], u'lab': u'/labs/ali-mortazavi/', u'revoked_files': [], u'@id': u'/experiments/ENCSR332XWL/', u'related_files': [], u'assay_term_id': u'OBI:0001335', u'assay_synonyms': [u'microRNA profiling by array assay'], u'biosample_term_id': u'UBERON:0002106', u'organ_slims': [u'spleen'], u'biosample_term_name': u'spleen', u'dataset_type': u'experiment', u'date_created': u'2015-03-31T23:26:50.335984+00:00', u'@type': [u'experiment', u'dataset', u'item']}], u'@type': [u'result']}"
       ]
      },
      {
       "output_type": "stream",
       "stream": "stdout",
       "text": [
        "\n",
        "row 11 created: ENCSR332XWL\n",
        "Reponse {u'status': u'success', u'@graph': [{u'files': [], u'system_slims': [u'digestive system'], u'possible_controls': [], u'original_files': [], u'accession': u'ENCSR323GNP', u'replicates': [], u'references': [], u'alternate_accessions': [], u'aliases': [u'ali-mortazavi:P0-mouse-stomach-nanostring'], u'submitted_by': u'/users/bc5b62f7-ce28-4a1e-b6b3-81c9c5a86d7a/', u'documents': [u'/documents/01810c91-4873-4268-b6a4-7e3e7c620fe0/', u'/documents/97468ce9-3727-4f3c-bc96-48dc4d248cc9/', u'/documents/cb385548-00ac-44fd-944e-7d238a2fe795/'], u'uuid': u'40e5409e-9aa2-44de-8c50-be016a1a6f34', u'biosample_type': u'tissue', u'schema_version': u'5', u'developmental_slims': [], u'biosample_synonyms': [u'gaster', u'mesenteron', u'anterior intestine', u'stomach chamber', u'Ventricular', u'ventriculus'], u'status': u'proposed', u'assembly': [], u'description': u'Nanostring miRNA Array on postnatal 0 day mouse stomach', u'contributing_files': [], u'assay_term_name': u'microRNA Array', u'award': u'/awards/U54HG004576/', u'dbxrefs': [], u'lab': u'/labs/ali-mortazavi/', u'revoked_files': [], u'@id': u'/experiments/ENCSR323GNP/', u'related_files': [], u'assay_term_id': u'OBI:0001335', u'assay_synonyms': [u'microRNA profiling by array assay'], u'biosample_term_id': u'UBERON:0000945', u'organ_slims': [u'stomach'], u'biosample_term_name': u'stomach', u'dataset_type': u'experiment', u'date_created': u'2015-03-31T23:26:50.759018+00:00', u'@type': [u'experiment', u'dataset', u'item']}], u'@type': [u'result']}"
       ]
      },
      {
       "output_type": "stream",
       "stream": "stdout",
       "text": [
        "\n",
        "row 12 created: ENCSR323GNP\n",
        "Reponse {u'status': u'success', u'@graph': [{u'files': [], u'system_slims': [u'excretory system'], u'possible_controls': [], u'original_files': [], u'accession': u'ENCSR596MKU', u'replicates': [], u'references': [], u'alternate_accessions': [], u'aliases': [u'ali-mortazavi:P0-mouse-kidney-nanostring'], u'submitted_by': u'/users/bc5b62f7-ce28-4a1e-b6b3-81c9c5a86d7a/', u'dbxrefs': [], u'uuid': u'ecb67c7a-8087-4267-b83f-62c4e9728732', u'biosample_type': u'tissue', u'schema_version': u'5', u'developmental_slims': [], u'biosample_synonyms': [u'reniculate kidney'], u'status': u'proposed', u'assembly': [], u'description': u'Nanostring miRNA Array on postnatal 0 day mouse kidney', u'contributing_files': [], u'assay_term_name': u'microRNA Array', u'award': u'/awards/U54HG004576/', u'documents': [u'/documents/01810c91-4873-4268-b6a4-7e3e7c620fe0/', u'/documents/97468ce9-3727-4f3c-bc96-48dc4d248cc9/', u'/documents/cb385548-00ac-44fd-944e-7d238a2fe795/'], u'lab': u'/labs/ali-mortazavi/', u'revoked_files': [], u'@id': u'/experiments/ENCSR596MKU/', u'related_files': [], u'assay_term_id': u'OBI:0001335', u'assay_synonyms': [u'microRNA profiling by array assay'], u'biosample_term_id': u'UBERON:0002113', u'organ_slims': [u'kidney'], u'biosample_term_name': u'kidney', u'dataset_type': u'experiment', u'date_created': u'2015-03-31T23:26:51.209350+00:00', u'@type': [u'experiment', u'dataset', u'item']}], u'@type': [u'result']}"
       ]
      },
      {
       "output_type": "stream",
       "stream": "stdout",
       "text": [
        "\n",
        "row 13 created: ENCSR596MKU\n",
        "Reponse {u'status': u'success', u'@graph': [{u'files': [], u'possible_controls': [], u'original_files': [], u'accession': u'ENCSR669EWD', u'replicates': [], u'references': [], u'alternate_accessions': [], u'aliases': [u'ali-mortazavi:e11-5-mouse-forerbain-nanostring'], u'submitted_by': u'/users/bc5b62f7-ce28-4a1e-b6b3-81c9c5a86d7a/', u'dbxrefs': [], u'uuid': u'8a88b99e-a600-41de-8587-857ff66381dd', u'biosample_type': u'tissue', u'schema_version': u'5', u'status': u'proposed', u'assembly': [], u'description': u'Nanostring miRNA Array on embryonic 11.5 day mouse forebrain', u'contributing_files': [], u'assay_term_name': u'microRNA Array', u'award': u'/awards/U54HG004576/', u'documents': [u'/documents/01810c91-4873-4268-b6a4-7e3e7c620fe0/', u'/documents/97468ce9-3727-4f3c-bc96-48dc4d248cc9/', u'/documents/cb385548-00ac-44fd-944e-7d238a2fe795/'], u'lab': u'/labs/ali-mortazavi/', u'revoked_files': [], u'@id': u'/experiments/ENCSR669EWD/', u'related_files': [], u'assay_term_id': u'OBI:0001335', u'assay_synonyms': [u'microRNA profiling by array assay'], u'biosample_term_name': u'forebrain', u'dataset_type': u'experiment', u'date_created': u'2015-03-31T23:26:51.608279+00:00', u'@type': [u'experiment', u'dataset', u'item']}], u'@type': [u'result']}"
       ]
      },
      {
       "output_type": "stream",
       "stream": "stdout",
       "text": [
        "\n",
        "row 14 created: ENCSR669EWD\n",
        "Reponse {u'status': u'success', u'@graph': [{u'files': [], u'possible_controls': [], u'original_files': [], u'accession': u'ENCSR378DMT', u'replicates': [], u'references': [], u'alternate_accessions': [], u'aliases': [u'ali-mortazavi:e11-5-mouse-midbrain-nanostring'], u'submitted_by': u'/users/bc5b62f7-ce28-4a1e-b6b3-81c9c5a86d7a/', u'documents': [u'/documents/01810c91-4873-4268-b6a4-7e3e7c620fe0/', u'/documents/97468ce9-3727-4f3c-bc96-48dc4d248cc9/', u'/documents/cb385548-00ac-44fd-944e-7d238a2fe795/'], u'uuid': u'66bd3fe9-72ee-4ba1-999a-597b11eaa1ce', u'biosample_type': u'tissue', u'schema_version': u'5', u'status': u'proposed', u'assembly': [], u'description': u'Nanostring miRNA Array on embryonic 11.5 day mouse midbrain', u'contributing_files': [], u'assay_term_name': u'microRNA Array', u'award': u'/awards/U54HG004576/', u'dbxrefs': [], u'lab': u'/labs/ali-mortazavi/', u'revoked_files': [], u'@id': u'/experiments/ENCSR378DMT/', u'related_files': [], u'assay_term_id': u'OBI:0001335', u'assay_synonyms': [u'microRNA profiling by array assay'], u'biosample_term_name': u'midbrain', u'dataset_type': u'experiment', u'date_created': u'2015-03-31T23:26:51.975936+00:00', u'@type': [u'experiment', u'dataset', u'item']}], u'@type': [u'result']}"
       ]
      },
      {
       "output_type": "stream",
       "stream": "stdout",
       "text": [
        "\n",
        "row 15 created: ENCSR378DMT\n",
        "Reponse {u'status': u'success', u'@graph': [{u'files': [], u'possible_controls': [], u'original_files': [], u'accession': u'ENCSR392BBU', u'replicates': [], u'references': [], u'dbxrefs': [], u'alternate_accessions': [], u'aliases': [u'ali-mortazavi:e11-5-mouse-hindbrain-nanostring'], u'submitted_by': u'/users/bc5b62f7-ce28-4a1e-b6b3-81c9c5a86d7a/', u'documents': [u'/documents/01810c91-4873-4268-b6a4-7e3e7c620fe0/', u'/documents/97468ce9-3727-4f3c-bc96-48dc4d248cc9/', u'/documents/cb385548-00ac-44fd-944e-7d238a2fe795/'], u'uuid': u'4f7c11fa-9122-4cf2-957d-bbe12edfc7f4', u'biosample_type': u'tissue', u'schema_version': u'5', u'status': u'proposed', u'assembly': [], u'description': u'Nanostring miRNA Array on embryonic 11.5 day mouse hindbrain', u'contributing_files': [], u'assay_term_name': u'microRNA Array', u'lab': u'/labs/ali-mortazavi/', u'dataset_type': u'experiment', u'award': u'/awards/U54HG004576/', u'revoked_files': [], u'@id': u'/experiments/ENCSR392BBU/', u'related_files': [], u'assay_term_id': u'OBI:0001335', u'assay_synonyms': [u'microRNA profiling by array assay'], u'biosample_term_name': u'hindbrain', u'date_created': u'2015-03-31T23:26:52.344074+00:00', u'@type': [u'experiment', u'dataset', u'item']}], u'@type': [u'result']}"
       ]
      },
      {
       "output_type": "stream",
       "stream": "stdout",
       "text": [
        "\n",
        "row 16 created: ENCSR392BBU\n",
        "Reponse {u'status': u'success', u'@graph': [{u'files': [], u'possible_controls': [], u'original_files': [], u'accession': u'ENCSR590PHU', u'replicates': [], u'references': [], u'alternate_accessions': [], u'aliases': [u'ali-mortazavi:e11-5-mouse-heart-nanostring'], u'submitted_by': u'/users/bc5b62f7-ce28-4a1e-b6b3-81c9c5a86d7a/', u'dbxrefs': [], u'uuid': u'14c1554d-de9a-450c-9e14-4e2cac6ecd80', u'biosample_type': u'tissue', u'schema_version': u'5', u'status': u'proposed', u'assembly': [], u'description': u'Nanostring miRNA Array on embryonic 11.5 day mouse heart', u'contributing_files': [], u'assay_term_name': u'microRNA Array', u'lab': u'/labs/ali-mortazavi/', u'documents': [u'/documents/01810c91-4873-4268-b6a4-7e3e7c620fe0/', u'/documents/97468ce9-3727-4f3c-bc96-48dc4d248cc9/', u'/documents/cb385548-00ac-44fd-944e-7d238a2fe795/'], u'award': u'/awards/U54HG004576/', u'revoked_files': [], u'@id': u'/experiments/ENCSR590PHU/', u'related_files': [], u'assay_term_id': u'OBI:0001335', u'assay_synonyms': [u'microRNA profiling by array assay'], u'biosample_term_name': u'heart', u'dataset_type': u'experiment', u'date_created': u'2015-03-31T23:26:52.698392+00:00', u'@type': [u'experiment', u'dataset', u'item']}], u'@type': [u'result']}"
       ]
      },
      {
       "output_type": "stream",
       "stream": "stdout",
       "text": [
        "\n",
        "row 17 created: ENCSR590PHU\n",
        "Reponse {u'status': u'success', u'@graph': [{u'files': [], u'possible_controls': [], u'original_files': [], u'accession': u'ENCSR942IBI', u'replicates': [], u'references': [], u'alternate_accessions': [], u'aliases': [u'ali-mortazavi:e11-5-mouse-liver-nanostring'], u'submitted_by': u'/users/bc5b62f7-ce28-4a1e-b6b3-81c9c5a86d7a/', u'dbxrefs': [], u'uuid': u'c4b00365-52ca-4f41-b45c-2b4de50b62ad', u'biosample_type': u'tissue', u'schema_version': u'5', u'status': u'proposed', u'assembly': [], u'description': u'Nanostring miRNA Array on embryonic 11.5 day mouse liver', u'contributing_files': [], u'assay_term_name': u'microRNA Array', u'award': u'/awards/U54HG004576/', u'documents': [u'/documents/01810c91-4873-4268-b6a4-7e3e7c620fe0/', u'/documents/97468ce9-3727-4f3c-bc96-48dc4d248cc9/', u'/documents/cb385548-00ac-44fd-944e-7d238a2fe795/'], u'lab': u'/labs/ali-mortazavi/', u'revoked_files': [], u'@id': u'/experiments/ENCSR942IBI/', u'related_files': [], u'assay_term_id': u'OBI:0001335', u'assay_synonyms': [u'microRNA profiling by array assay'], u'biosample_term_name': u'liver', u'dataset_type': u'experiment', u'date_created': u'2015-03-31T23:26:53.115613+00:00', u'@type': [u'experiment', u'dataset', u'item']}], u'@type': [u'result']}"
       ]
      },
      {
       "output_type": "stream",
       "stream": "stdout",
       "text": [
        "\n",
        "row 18 created: ENCSR942IBI\n",
        "Reponse {u'status': u'success', u'@graph': [{u'files': [], u'possible_controls': [], u'original_files': [], u'accession': u'ENCSR940THV', u'replicates': [], u'references': [], u'dbxrefs': [], u'alternate_accessions': [], u'aliases': [u'ali-mortazavi:e11-5-mouse-neural tube-nanostring'], u'submitted_by': u'/users/bc5b62f7-ce28-4a1e-b6b3-81c9c5a86d7a/', u'documents': [u'/documents/01810c91-4873-4268-b6a4-7e3e7c620fe0/', u'/documents/97468ce9-3727-4f3c-bc96-48dc4d248cc9/', u'/documents/cb385548-00ac-44fd-944e-7d238a2fe795/'], u'uuid': u'b8a174bb-67b8-4966-93d4-e1c3f46a8588', u'biosample_type': u'tissue', u'schema_version': u'5', u'status': u'proposed', u'assembly': [], u'description': u'Nanostring miRNA Array on embryonic 11.5 day mouse neural tube', u'contributing_files': [], u'assay_term_name': u'microRNA Array', u'lab': u'/labs/ali-mortazavi/', u'dataset_type': u'experiment', u'award': u'/awards/U54HG004576/', u'revoked_files': [], u'@id': u'/experiments/ENCSR940THV/', u'related_files': [], u'assay_term_id': u'OBI:0001335', u'assay_synonyms': [u'microRNA profiling by array assay'], u'biosample_term_name': u'neural tube', u'date_created': u'2015-03-31T23:26:53.507242+00:00', u'@type': [u'experiment', u'dataset', u'item']}], u'@type': [u'result']}"
       ]
      },
      {
       "output_type": "stream",
       "stream": "stdout",
       "text": [
        "\n",
        "row 19 created: ENCSR940THV\n"
       ]
      }
     ],
     "prompt_number": 22
    },
    {
     "cell_type": "code",
     "collapsed": false,
     "input": [
      "experiments.to_excel('/tmp/experiments.xlsx')"
     ],
     "language": "python",
     "metadata": {},
     "outputs": [],
     "prompt_number": 23
    },
    {
     "cell_type": "heading",
     "level": 1,
     "metadata": {},
     "source": [
      "Create Replicates"
     ]
    },
    {
     "cell_type": "code",
     "collapsed": false,
     "input": [
      "book = gcat.get_file(spreadsheet_name, fmt='pandas_excel')\n",
      "replicates = book.parse('Replicates')"
     ],
     "language": "python",
     "metadata": {},
     "outputs": [],
     "prompt_number": 30
    },
    {
     "cell_type": "code",
     "collapsed": false,
     "input": [
      "replicates_created = server.post_sheet('/replicates/', replicates, dry_run=False, verbose=True)"
     ],
     "language": "python",
     "metadata": {},
     "outputs": [
      {
       "output_type": "stream",
       "stream": "stdout",
       "text": [
        "Reponse {u'status': u'success', u'@graph': [{u'status': u'in progress', u'submitted_by': u'/users/bc5b62f7-ce28-4a1e-b6b3-81c9c5a86d7a/', u'biological_replicate_number': 1, u'uuid': u'56ecd565-7bb9-4ae0-bdb7-a173ea62bba1', u'technical_replicate_number': 1, u'library': u'/libraries/ENCLB239NJU/', u'experiment': u'/experiments/ENCSR625DUG/', u'schema_version': u'4', u'date_created': u'2015-03-31T23:33:04.893043+00:00', u'@id': u'/replicates/56ecd565-7bb9-4ae0-bdb7-a173ea62bba1/', u'@type': [u'replicate', u'item'], u'aliases': [u'ali-mortazavi:smooth muscle cell-rep1']}], u'@type': [u'result']}\n",
        "row 0 created: 56ecd565-7bb9-4ae0-bdb7-a173ea62bba1"
       ]
      },
      {
       "output_type": "stream",
       "stream": "stdout",
       "text": [
        "\n",
        "Reponse {u'status': u'success', u'@graph': [{u'status': u'in progress', u'submitted_by': u'/users/bc5b62f7-ce28-4a1e-b6b3-81c9c5a86d7a/', u'biological_replicate_number': 2, u'uuid': u'7f503f9c-0c2c-48a4-8b92-0a935c23e420', u'technical_replicate_number': 1, u'library': u'/libraries/ENCLB941AUY/', u'experiment': u'/experiments/ENCSR625DUG/', u'schema_version': u'4', u'date_created': u'2015-03-31T23:33:05.349260+00:00', u'@id': u'/replicates/7f503f9c-0c2c-48a4-8b92-0a935c23e420/', u'@type': [u'replicate', u'item'], u'aliases': [u'ali-mortazavi:smooth muscle cell-rep2']}], u'@type': [u'result']}"
       ]
      },
      {
       "output_type": "stream",
       "stream": "stdout",
       "text": [
        "\n",
        "row 1 created: 7f503f9c-0c2c-48a4-8b92-0a935c23e420\n",
        "Reponse {u'status': u'success', u'@graph': [{u'status': u'in progress', u'submitted_by': u'/users/bc5b62f7-ce28-4a1e-b6b3-81c9c5a86d7a/', u'biological_replicate_number': 1, u'uuid': u'6690cea5-5297-49ce-8fbc-0094de332bdf', u'technical_replicate_number': 1, u'schema_version': u'4', u'experiment': u'/experiments/ENCSR624LFP/', u'library': u'/libraries/ENCLB927GTU/', u'date_created': u'2015-03-31T23:33:05.731392+00:00', u'@id': u'/replicates/6690cea5-5297-49ce-8fbc-0094de332bdf/', u'@type': [u'replicate', u'item'], u'aliases': [u'ali-mortazavi:neural progenitor cell-rep1']}], u'@type': [u'result']}"
       ]
      },
      {
       "output_type": "stream",
       "stream": "stdout",
       "text": [
        "\n",
        "row 2 created: 6690cea5-5297-49ce-8fbc-0094de332bdf\n",
        "Reponse {u'status': u'success', u'@graph': [{u'status': u'in progress', u'submitted_by': u'/users/bc5b62f7-ce28-4a1e-b6b3-81c9c5a86d7a/', u'biological_replicate_number': 2, u'uuid': u'ff06fd86-9be4-4b1f-95a7-868ab3d63dc6', u'technical_replicate_number': 1, u'library': u'/libraries/ENCLB864MSF/', u'experiment': u'/experiments/ENCSR624LFP/', u'schema_version': u'4', u'date_created': u'2015-03-31T23:33:06.106788+00:00', u'@id': u'/replicates/ff06fd86-9be4-4b1f-95a7-868ab3d63dc6/', u'@type': [u'replicate', u'item'], u'aliases': [u'ali-mortazavi:neural progenitor cell-rep2']}], u'@type': [u'result']}"
       ]
      },
      {
       "output_type": "stream",
       "stream": "stdout",
       "text": [
        "\n",
        "row 3 created: ff06fd86-9be4-4b1f-95a7-868ab3d63dc6\n",
        "Reponse {u'status': u'success', u'@graph': [{u'status': u'in progress', u'submitted_by': u'/users/bc5b62f7-ce28-4a1e-b6b3-81c9c5a86d7a/', u'biological_replicate_number': 1, u'uuid': u'301f90f6-10ff-418e-922e-c0029b616662', u'technical_replicate_number': 1, u'library': u'/libraries/ENCLB998DXA/', u'experiment': u'/experiments/ENCSR138ZXT/', u'schema_version': u'4', u'date_created': u'2015-03-31T23:33:06.566304+00:00', u'@id': u'/replicates/301f90f6-10ff-418e-922e-c0029b616662/', u'@type': [u'replicate', u'item'], u'aliases': [u'ali-mortazavi:fibroblast of arm-rep1']}], u'@type': [u'result']}"
       ]
      },
      {
       "output_type": "stream",
       "stream": "stdout",
       "text": [
        "\n",
        "row 4 created: 301f90f6-10ff-418e-922e-c0029b616662\n",
        "Reponse {u'status': u'success', u'@graph': [{u'status': u'in progress', u'submitted_by': u'/users/bc5b62f7-ce28-4a1e-b6b3-81c9c5a86d7a/', u'biological_replicate_number': 2, u'uuid': u'88496602-1bce-4744-aaaa-a1e66ebaae22', u'technical_replicate_number': 1, u'schema_version': u'4', u'experiment': u'/experiments/ENCSR138ZXT/', u'library': u'/libraries/ENCLB590ZLN/', u'date_created': u'2015-03-31T23:33:06.975486+00:00', u'@id': u'/replicates/88496602-1bce-4744-aaaa-a1e66ebaae22/', u'@type': [u'replicate', u'item'], u'aliases': [u'ali-mortazavi:fibroblast of arm-rep2']}], u'@type': [u'result']}"
       ]
      },
      {
       "output_type": "stream",
       "stream": "stdout",
       "text": [
        "\n",
        "row 5 created: 88496602-1bce-4744-aaaa-a1e66ebaae22\n",
        "Reponse {u'status': u'success', u'@graph': [{u'status': u'in progress', u'submitted_by': u'/users/bc5b62f7-ce28-4a1e-b6b3-81c9c5a86d7a/', u'biological_replicate_number': 1, u'uuid': u'45401b3c-b4ba-4804-aa3d-15e2f7e54009', u'technical_replicate_number': 1, u'library': u'/libraries/ENCLB267ROE/', u'experiment': u'/experiments/ENCSR765ZSI/', u'schema_version': u'4', u'date_created': u'2015-03-31T23:33:07.406950+00:00', u'@id': u'/replicates/45401b3c-b4ba-4804-aa3d-15e2f7e54009/', u'@type': [u'replicate', u'item'], u'aliases': [u'ali-mortazavi:bipolar spindle neuron-rep1']}], u'@type': [u'result']}"
       ]
      },
      {
       "output_type": "stream",
       "stream": "stdout",
       "text": [
        "\n",
        "row 6 created: 45401b3c-b4ba-4804-aa3d-15e2f7e54009\n",
        "Reponse {u'status': u'success', u'@graph': [{u'status': u'in progress', u'submitted_by': u'/users/bc5b62f7-ce28-4a1e-b6b3-81c9c5a86d7a/', u'biological_replicate_number': 2, u'uuid': u'e1e6b06e-772f-43cc-bd1c-1bc3929ad25f', u'technical_replicate_number': 1, u'library': u'/libraries/ENCLB350YBL/', u'experiment': u'/experiments/ENCSR765ZSI/', u'schema_version': u'4', u'date_created': u'2015-03-31T23:33:07.808188+00:00', u'@id': u'/replicates/e1e6b06e-772f-43cc-bd1c-1bc3929ad25f/', u'@type': [u'replicate', u'item'], u'aliases': [u'ali-mortazavi:bipolar spindle neuron-rep2']}], u'@type': [u'result']}"
       ]
      },
      {
       "output_type": "stream",
       "stream": "stdout",
       "text": [
        "\n",
        "row 7 created: e1e6b06e-772f-43cc-bd1c-1bc3929ad25f"
       ]
      },
      {
       "output_type": "stream",
       "stream": "stdout",
       "text": [
        "\n",
        "Reponse {u'status': u'success', u'@graph': [{u'status': u'in progress', u'submitted_by': u'/users/bc5b62f7-ce28-4a1e-b6b3-81c9c5a86d7a/', u'biological_replicate_number': 1, u'uuid': u'f09833be-1a06-4e2c-b95c-258b0687b5ac', u'read_length_units': u'nt', u'read_length': 50, u'technical_replicate_number': 1, u'schema_version': u'4', u'paired_ended': False, u'experiment': u'/experiments/ENCSR155LSV/', u'library': u'/libraries/ENCLB523NXK/', u'date_created': u'2015-03-31T23:33:08.236283+00:00', u'@id': u'/replicates/f09833be-1a06-4e2c-b95c-258b0687b5ac/', u'@type': [u'replicate', u'item'], u'aliases': [u'richard-myers:SL85823-rep']}], u'@type': [u'result']}"
       ]
      },
      {
       "output_type": "stream",
       "stream": "stdout",
       "text": [
        "\n",
        "row 8 created: f09833be-1a06-4e2c-b95c-258b0687b5ac"
       ]
      },
      {
       "output_type": "stream",
       "stream": "stdout",
       "text": [
        "\n",
        "Reponse {u'status': u'success', u'@graph': [{u'status': u'in progress', u'submitted_by': u'/users/bc5b62f7-ce28-4a1e-b6b3-81c9c5a86d7a/', u'biological_replicate_number': 2, u'uuid': u'103d1f91-e215-405e-b718-44cf289202a5', u'read_length_units': u'nt', u'read_length': 50, u'technical_replicate_number': 1, u'library': u'/libraries/ENCLB282TQM/', u'paired_ended': False, u'experiment': u'/experiments/ENCSR155LSV/', u'schema_version': u'4', u'date_created': u'2015-03-31T23:33:08.686659+00:00', u'@id': u'/replicates/103d1f91-e215-405e-b718-44cf289202a5/', u'@type': [u'replicate', u'item'], u'aliases': [u'richard-myers:SL85824-rep']}], u'@type': [u'result']}"
       ]
      },
      {
       "output_type": "stream",
       "stream": "stdout",
       "text": [
        "\n",
        "row 9 created: 103d1f91-e215-405e-b718-44cf289202a5"
       ]
      },
      {
       "output_type": "stream",
       "stream": "stdout",
       "text": [
        "\n",
        "Reponse {u'status': u'success', u'@graph': [{u'status': u'in progress', u'submitted_by': u'/users/bc5b62f7-ce28-4a1e-b6b3-81c9c5a86d7a/', u'biological_replicate_number': 1, u'uuid': u'6da2ddaf-1bd0-43a8-bf18-f15a14b835a4', u'read_length_units': u'nt', u'read_length': 50, u'technical_replicate_number': 1, u'schema_version': u'4', u'paired_ended': False, u'experiment': u'/experiments/ENCSR511YYU/', u'library': u'/libraries/ENCLB698QQX/', u'date_created': u'2015-03-31T23:33:09.232645+00:00', u'@id': u'/replicates/6da2ddaf-1bd0-43a8-bf18-f15a14b835a4/', u'@type': [u'replicate', u'item'], u'aliases': [u'richard-myers:SL85827-rep']}], u'@type': [u'result']}"
       ]
      },
      {
       "output_type": "stream",
       "stream": "stdout",
       "text": [
        "\n",
        "row 10 created: 6da2ddaf-1bd0-43a8-bf18-f15a14b835a4"
       ]
      },
      {
       "output_type": "stream",
       "stream": "stdout",
       "text": [
        "\n",
        "Reponse {u'status': u'success', u'@graph': [{u'status': u'in progress', u'submitted_by': u'/users/bc5b62f7-ce28-4a1e-b6b3-81c9c5a86d7a/', u'biological_replicate_number': 2, u'uuid': u'cdbd2333-17a0-49b7-b26a-d26aa59993d3', u'read_length_units': u'nt', u'read_length': 50, u'technical_replicate_number': 1, u'library': u'/libraries/ENCLB803VTA/', u'paired_ended': False, u'experiment': u'/experiments/ENCSR511YYU/', u'schema_version': u'4', u'date_created': u'2015-03-31T23:33:09.687514+00:00', u'@id': u'/replicates/cdbd2333-17a0-49b7-b26a-d26aa59993d3/', u'@type': [u'replicate', u'item'], u'aliases': [u'richard-myers:SL85828-rep']}], u'@type': [u'result']}"
       ]
      },
      {
       "output_type": "stream",
       "stream": "stdout",
       "text": [
        "\n",
        "row 11 created: cdbd2333-17a0-49b7-b26a-d26aa59993d3\n",
        "Reponse {u'status': u'success', u'@graph': [{u'status': u'in progress', u'submitted_by': u'/users/bc5b62f7-ce28-4a1e-b6b3-81c9c5a86d7a/', u'biological_replicate_number': 1, u'uuid': u'25b5068e-398b-403c-9ca8-3fed88670c35', u'read_length_units': u'nt', u'read_length': 50, u'technical_replicate_number': 1, u'library': u'/libraries/ENCLB242OXW/', u'paired_ended': False, u'experiment': u'/experiments/ENCSR697KHQ/', u'schema_version': u'4', u'date_created': u'2015-03-31T23:33:10.186951+00:00', u'@id': u'/replicates/25b5068e-398b-403c-9ca8-3fed88670c35/', u'@type': [u'replicate', u'item'], u'aliases': [u'richard-myers:SL85817-rep']}], u'@type': [u'result']}"
       ]
      },
      {
       "output_type": "stream",
       "stream": "stdout",
       "text": [
        "\n",
        "row 12 created: 25b5068e-398b-403c-9ca8-3fed88670c35"
       ]
      },
      {
       "output_type": "stream",
       "stream": "stdout",
       "text": [
        "\n",
        "Reponse {u'status': u'success', u'@graph': [{u'status': u'in progress', u'submitted_by': u'/users/bc5b62f7-ce28-4a1e-b6b3-81c9c5a86d7a/', u'biological_replicate_number': 2, u'uuid': u'0a9b7c40-8a05-499e-8c72-e6d59eabf807', u'read_length_units': u'nt', u'read_length': 50, u'technical_replicate_number': 1, u'library': u'/libraries/ENCLB561XOB/', u'paired_ended': False, u'experiment': u'/experiments/ENCSR697KHQ/', u'schema_version': u'4', u'date_created': u'2015-03-31T23:33:10.626598+00:00', u'@id': u'/replicates/0a9b7c40-8a05-499e-8c72-e6d59eabf807/', u'@type': [u'replicate', u'item'], u'aliases': [u'richard-myers:SL85821-rep']}], u'@type': [u'result']}"
       ]
      },
      {
       "output_type": "stream",
       "stream": "stdout",
       "text": [
        "\n",
        "row 13 created: 0a9b7c40-8a05-499e-8c72-e6d59eabf807\n",
        "Reponse {u'status': u'success', u'@graph': [{u'status': u'in progress', u'submitted_by': u'/users/bc5b62f7-ce28-4a1e-b6b3-81c9c5a86d7a/', u'biological_replicate_number': 1, u'uuid': u'2285f1fc-de78-4abe-ae3f-f775229289e3', u'read_length_units': u'nt', u'read_length': 50, u'technical_replicate_number': 1, u'library': u'/libraries/ENCLB424ORZ/', u'paired_ended': False, u'experiment': u'/experiments/ENCSR312RZV/', u'schema_version': u'4', u'date_created': u'2015-03-31T23:33:11.061529+00:00', u'@id': u'/replicates/2285f1fc-de78-4abe-ae3f-f775229289e3/', u'@type': [u'replicate', u'item'], u'aliases': [u'richard-myers:SL85820-rep']}], u'@type': [u'result']}"
       ]
      },
      {
       "output_type": "stream",
       "stream": "stdout",
       "text": [
        "\n",
        "row 14 created: 2285f1fc-de78-4abe-ae3f-f775229289e3\n",
        "Reponse {u'status': u'success', u'@graph': [{u'status': u'in progress', u'submitted_by': u'/users/bc5b62f7-ce28-4a1e-b6b3-81c9c5a86d7a/', u'biological_replicate_number': 2, u'uuid': u'0c0ff5c1-6065-4da1-a25b-97962e98a554', u'read_length_units': u'nt', u'read_length': 50, u'technical_replicate_number': 1, u'schema_version': u'4', u'paired_ended': False, u'experiment': u'/experiments/ENCSR312RZV/', u'library': u'/libraries/ENCLB284XFC/', u'date_created': u'2015-03-31T23:33:11.477834+00:00', u'@id': u'/replicates/0c0ff5c1-6065-4da1-a25b-97962e98a554/', u'@type': [u'replicate', u'item'], u'aliases': [u'richard-myers:SL85818-rep']}], u'@type': [u'result']}"
       ]
      },
      {
       "output_type": "stream",
       "stream": "stdout",
       "text": [
        "\n",
        "row 15 created: 0c0ff5c1-6065-4da1-a25b-97962e98a554\n",
        "Reponse {u'status': u'success', u'@graph': [{u'status': u'in progress', u'submitted_by': u'/users/bc5b62f7-ce28-4a1e-b6b3-81c9c5a86d7a/', u'biological_replicate_number': 1, u'uuid': u'c9b912bc-5804-4b14-bbdb-650c91f2df61', u'technical_replicate_number': 1, u'library': u'/libraries/ENCLB997UNK/', u'experiment': u'/experiments/ENCSR369ZII/', u'schema_version': u'4', u'date_created': u'2015-03-31T23:33:11.892023+00:00', u'@id': u'/replicates/c9b912bc-5804-4b14-bbdb-650c91f2df61/', u'@type': [u'replicate', u'item'], u'aliases': [u'ali-mortazavi:P0-neural tube-rep1-15481']}], u'@type': [u'result']}"
       ]
      },
      {
       "output_type": "stream",
       "stream": "stdout",
       "text": [
        "\n",
        "row 16 created: c9b912bc-5804-4b14-bbdb-650c91f2df61"
       ]
      },
      {
       "output_type": "stream",
       "stream": "stdout",
       "text": [
        "\n",
        "Reponse {u'status': u'success', u'@graph': [{u'status': u'in progress', u'submitted_by': u'/users/bc5b62f7-ce28-4a1e-b6b3-81c9c5a86d7a/', u'biological_replicate_number': 2, u'uuid': u'3d2715ce-2061-4a90-bf42-30fec18ebc41', u'technical_replicate_number': 1, u'library': u'/libraries/ENCLB939YWM/', u'experiment': u'/experiments/ENCSR369ZII/', u'schema_version': u'4', u'date_created': u'2015-03-31T23:33:12.349328+00:00', u'@id': u'/replicates/3d2715ce-2061-4a90-bf42-30fec18ebc41/', u'@type': [u'replicate', u'item'], u'aliases': [u'ali-mortazavi:P0-neural tube-rep2-15482']}], u'@type': [u'result']}"
       ]
      },
      {
       "output_type": "stream",
       "stream": "stdout",
       "text": [
        "\n",
        "row 17 created: 3d2715ce-2061-4a90-bf42-30fec18ebc41"
       ]
      },
      {
       "output_type": "stream",
       "stream": "stdout",
       "text": [
        "\n",
        "Reponse {u'status': u'success', u'@graph': [{u'status': u'in progress', u'submitted_by': u'/users/bc5b62f7-ce28-4a1e-b6b3-81c9c5a86d7a/', u'biological_replicate_number': 1, u'uuid': u'cdefc7ba-19ef-486e-b32f-f35d079435c1', u'technical_replicate_number': 1, u'library': u'/libraries/ENCLB614CRU/', u'experiment': u'/experiments/ENCSR523DJZ/', u'schema_version': u'4', u'date_created': u'2015-03-31T23:33:12.785594+00:00', u'@id': u'/replicates/cdefc7ba-19ef-486e-b32f-f35d079435c1/', u'@type': [u'replicate', u'item'], u'aliases': [u'ali-mortazavi:P0-thymus-rep1-15483']}], u'@type': [u'result']}"
       ]
      },
      {
       "output_type": "stream",
       "stream": "stdout",
       "text": [
        "\n",
        "row 18 created: cdefc7ba-19ef-486e-b32f-f35d079435c1\n",
        "Reponse {u'status': u'success', u'@graph': [{u'status': u'in progress', u'submitted_by': u'/users/bc5b62f7-ce28-4a1e-b6b3-81c9c5a86d7a/', u'biological_replicate_number': 2, u'uuid': u'40324141-53a1-440c-9203-c751dd2f7284', u'technical_replicate_number': 1, u'library': u'/libraries/ENCLB993FGD/', u'experiment': u'/experiments/ENCSR523DJZ/', u'schema_version': u'4', u'date_created': u'2015-03-31T23:33:13.230708+00:00', u'@id': u'/replicates/40324141-53a1-440c-9203-c751dd2f7284/', u'@type': [u'replicate', u'item'], u'aliases': [u'ali-mortazavi:P0-thymus-rep2-15484']}], u'@type': [u'result']}"
       ]
      },
      {
       "output_type": "stream",
       "stream": "stdout",
       "text": [
        "\n",
        "row 19 created: 40324141-53a1-440c-9203-c751dd2f7284"
       ]
      },
      {
       "output_type": "stream",
       "stream": "stdout",
       "text": [
        "\n",
        "Reponse {u'status': u'success', u'@graph': [{u'status': u'in progress', u'submitted_by': u'/users/bc5b62f7-ce28-4a1e-b6b3-81c9c5a86d7a/', u'biological_replicate_number': 1, u'uuid': u'8615395b-70dc-46cc-9aca-376fb0c2ee2c', u'technical_replicate_number': 1, u'schema_version': u'4', u'experiment': u'/experiments/ENCSR025YVG/', u'library': u'/libraries/ENCLB686PIK/', u'date_created': u'2015-03-31T23:33:13.694536+00:00', u'@id': u'/replicates/8615395b-70dc-46cc-9aca-376fb0c2ee2c/', u'@type': [u'replicate', u'item'], u'aliases': [u'ali-mortazavi:P0-lung-rep1-15487']}], u'@type': [u'result']}"
       ]
      },
      {
       "output_type": "stream",
       "stream": "stdout",
       "text": [
        "\n",
        "row 20 created: 8615395b-70dc-46cc-9aca-376fb0c2ee2c"
       ]
      },
      {
       "output_type": "stream",
       "stream": "stdout",
       "text": [
        "\n",
        "Reponse {u'status': u'success', u'@graph': [{u'status': u'in progress', u'submitted_by': u'/users/bc5b62f7-ce28-4a1e-b6b3-81c9c5a86d7a/', u'biological_replicate_number': 2, u'uuid': u'2930de85-5626-4484-b495-b9b1c4d4708f', u'technical_replicate_number': 1, u'schema_version': u'4', u'experiment': u'/experiments/ENCSR025YVG/', u'library': u'/libraries/ENCLB301BXL/', u'date_created': u'2015-03-31T23:33:14.144119+00:00', u'@id': u'/replicates/2930de85-5626-4484-b495-b9b1c4d4708f/', u'@type': [u'replicate', u'item'], u'aliases': [u'ali-mortazavi:P0-lung-rep2-15488']}], u'@type': [u'result']}"
       ]
      },
      {
       "output_type": "stream",
       "stream": "stdout",
       "text": [
        "\n",
        "row 21 created: 2930de85-5626-4484-b495-b9b1c4d4708f\n",
        "Reponse {u'status': u'success', u'@graph': [{u'status': u'in progress', u'submitted_by': u'/users/bc5b62f7-ce28-4a1e-b6b3-81c9c5a86d7a/', u'biological_replicate_number': 1, u'uuid': u'dd923de3-1510-4a90-9e90-4b318084da77', u'technical_replicate_number': 1, u'schema_version': u'4', u'experiment': u'/experiments/ENCSR332XWL/', u'library': u'/libraries/ENCLB511EOA/', u'date_created': u'2015-03-31T23:33:14.579759+00:00', u'@id': u'/replicates/dd923de3-1510-4a90-9e90-4b318084da77/', u'@type': [u'replicate', u'item'], u'aliases': [u'ali-mortazavi:P0-spleen-rep1-15493']}], u'@type': [u'result']}"
       ]
      },
      {
       "output_type": "stream",
       "stream": "stdout",
       "text": [
        "\n",
        "row 22 created: dd923de3-1510-4a90-9e90-4b318084da77\n",
        "Reponse {u'status': u'success', u'@graph': [{u'status': u'in progress', u'submitted_by': u'/users/bc5b62f7-ce28-4a1e-b6b3-81c9c5a86d7a/', u'biological_replicate_number': 2, u'uuid': u'a42857ee-f7a7-440e-ab29-5a0b827081b8', u'technical_replicate_number': 1, u'library': u'/libraries/ENCLB833EKC/', u'experiment': u'/experiments/ENCSR332XWL/', u'schema_version': u'4', u'date_created': u'2015-03-31T23:33:15.009953+00:00', u'@id': u'/replicates/a42857ee-f7a7-440e-ab29-5a0b827081b8/', u'@type': [u'replicate', u'item'], u'aliases': [u'ali-mortazavi:P0-spleen-rep2-15494']}], u'@type': [u'result']}"
       ]
      },
      {
       "output_type": "stream",
       "stream": "stdout",
       "text": [
        "\n",
        "row 23 created: a42857ee-f7a7-440e-ab29-5a0b827081b8"
       ]
      },
      {
       "output_type": "stream",
       "stream": "stdout",
       "text": [
        "\n",
        "Reponse {u'status': u'success', u'@graph': [{u'status': u'in progress', u'submitted_by': u'/users/bc5b62f7-ce28-4a1e-b6b3-81c9c5a86d7a/', u'biological_replicate_number': 1, u'uuid': u'ed1365a1-61aa-4ec8-a115-18d7381edfc6', u'technical_replicate_number': 1, u'schema_version': u'4', u'experiment': u'/experiments/ENCSR323GNP/', u'library': u'/libraries/ENCLB892EEJ/', u'date_created': u'2015-03-31T23:33:15.515129+00:00', u'@id': u'/replicates/ed1365a1-61aa-4ec8-a115-18d7381edfc6/', u'@type': [u'replicate', u'item'], u'aliases': [u'ali-mortazavi:P0-stomach-rep1-15497']}], u'@type': [u'result']}"
       ]
      },
      {
       "output_type": "stream",
       "stream": "stdout",
       "text": [
        "\n",
        "row 24 created: ed1365a1-61aa-4ec8-a115-18d7381edfc6\n",
        "Reponse {u'status': u'success', u'@graph': [{u'status': u'in progress', u'submitted_by': u'/users/bc5b62f7-ce28-4a1e-b6b3-81c9c5a86d7a/', u'biological_replicate_number': 2, u'uuid': u'5d1358ca-a20b-4974-9a92-86263c33af5f', u'technical_replicate_number': 1, u'library': u'/libraries/ENCLB557DKF/', u'experiment': u'/experiments/ENCSR323GNP/', u'schema_version': u'4', u'date_created': u'2015-03-31T23:33:15.979786+00:00', u'@id': u'/replicates/5d1358ca-a20b-4974-9a92-86263c33af5f/', u'@type': [u'replicate', u'item'], u'aliases': [u'ali-mortazavi:P0-stomach-rep2-15498']}], u'@type': [u'result']}"
       ]
      },
      {
       "output_type": "stream",
       "stream": "stdout",
       "text": [
        "\n",
        "row 25 created: 5d1358ca-a20b-4974-9a92-86263c33af5f\n",
        "Reponse {u'status': u'success', u'@graph': [{u'status': u'in progress', u'submitted_by': u'/users/bc5b62f7-ce28-4a1e-b6b3-81c9c5a86d7a/', u'biological_replicate_number': 1, u'uuid': u'b18b12d6-8e65-4282-9482-260a6abbe7ad', u'technical_replicate_number': 1, u'library': u'/libraries/ENCLB451CXY/', u'experiment': u'/experiments/ENCSR596MKU/', u'schema_version': u'4', u'date_created': u'2015-03-31T23:33:16.442966+00:00', u'@id': u'/replicates/b18b12d6-8e65-4282-9482-260a6abbe7ad/', u'@type': [u'replicate', u'item'], u'aliases': [u'ali-mortazavi:P0-kidney-rep1-15501']}], u'@type': [u'result']}"
       ]
      },
      {
       "output_type": "stream",
       "stream": "stdout",
       "text": [
        "\n",
        "row 26 created: b18b12d6-8e65-4282-9482-260a6abbe7ad\n",
        "Reponse {u'status': u'success', u'@graph': [{u'status': u'in progress', u'submitted_by': u'/users/bc5b62f7-ce28-4a1e-b6b3-81c9c5a86d7a/', u'biological_replicate_number': 2, u'uuid': u'7a3a3b49-dcf2-4d6e-a2ea-6f1b3a12407c', u'technical_replicate_number': 1, u'library': u'/libraries/ENCLB998ZJK/', u'experiment': u'/experiments/ENCSR596MKU/', u'schema_version': u'4', u'date_created': u'2015-03-31T23:33:16.908838+00:00', u'@id': u'/replicates/7a3a3b49-dcf2-4d6e-a2ea-6f1b3a12407c/', u'@type': [u'replicate', u'item'], u'aliases': [u'ali-mortazavi:P0-kidney-rep2-15502']}], u'@type': [u'result']}"
       ]
      },
      {
       "output_type": "stream",
       "stream": "stdout",
       "text": [
        "\n",
        "row 27 created: 7a3a3b49-dcf2-4d6e-a2ea-6f1b3a12407c"
       ]
      },
      {
       "output_type": "stream",
       "stream": "stdout",
       "text": [
        "\n",
        "Reponse {u'status': u'success', u'@graph': [{u'status': u'in progress', u'submitted_by': u'/users/bc5b62f7-ce28-4a1e-b6b3-81c9c5a86d7a/', u'biological_replicate_number': 1, u'uuid': u'99182f91-bfac-442b-b3e4-e4a5b0e9fb52', u'technical_replicate_number': 1, u'library': u'/libraries/ENCLB898CNP/', u'experiment': u'/experiments/ENCSR669EWD/', u'schema_version': u'4', u'date_created': u'2015-03-31T23:33:17.389757+00:00', u'@id': u'/replicates/99182f91-bfac-442b-b3e4-e4a5b0e9fb52/', u'@type': [u'replicate', u'item'], u'aliases': [u'ali-mortazavi:e11.5-forebrain-rep1-15007']}], u'@type': [u'result']}"
       ]
      },
      {
       "output_type": "stream",
       "stream": "stdout",
       "text": [
        "\n",
        "row 28 created: 99182f91-bfac-442b-b3e4-e4a5b0e9fb52\n",
        "Reponse {u'status': u'success', u'@graph': [{u'status': u'in progress', u'submitted_by': u'/users/bc5b62f7-ce28-4a1e-b6b3-81c9c5a86d7a/', u'biological_replicate_number': 2, u'uuid': u'fb2a7e1e-9223-40f9-82aa-dc545933b014', u'technical_replicate_number': 1, u'library': u'/libraries/ENCLB516AHA/', u'experiment': u'/experiments/ENCSR669EWD/', u'schema_version': u'4', u'date_created': u'2015-03-31T23:33:17.872978+00:00', u'@id': u'/replicates/fb2a7e1e-9223-40f9-82aa-dc545933b014/', u'@type': [u'replicate', u'item'], u'aliases': [u'ali-mortazavi:e11.5-forebrain-rep2-15008']}], u'@type': [u'result']}"
       ]
      },
      {
       "output_type": "stream",
       "stream": "stdout",
       "text": [
        "\n",
        "row 29 created: fb2a7e1e-9223-40f9-82aa-dc545933b014\n",
        "Reponse {u'status': u'success', u'@graph': [{u'status': u'in progress', u'submitted_by': u'/users/bc5b62f7-ce28-4a1e-b6b3-81c9c5a86d7a/', u'biological_replicate_number': 1, u'uuid': u'ea84f301-a06d-43fc-9bb3-1d50449b948a', u'technical_replicate_number': 1, u'schema_version': u'4', u'experiment': u'/experiments/ENCSR378DMT/', u'library': u'/libraries/ENCLB241DIY/', u'date_created': u'2015-03-31T23:33:18.309842+00:00', u'@id': u'/replicates/ea84f301-a06d-43fc-9bb3-1d50449b948a/', u'@type': [u'replicate', u'item'], u'aliases': [u'ali-mortazavi:e11.5-midbrain-rep1-15009']}], u'@type': [u'result']}"
       ]
      },
      {
       "output_type": "stream",
       "stream": "stdout",
       "text": [
        "\n",
        "row 30 created: ea84f301-a06d-43fc-9bb3-1d50449b948a\n",
        "Reponse {u'status': u'success', u'@graph': [{u'status': u'in progress', u'submitted_by': u'/users/bc5b62f7-ce28-4a1e-b6b3-81c9c5a86d7a/', u'biological_replicate_number': 2, u'uuid': u'a0af11b6-ddad-4b4f-bf02-0029c0685189', u'technical_replicate_number': 1, u'library': u'/libraries/ENCLB485FUS/', u'experiment': u'/experiments/ENCSR378DMT/', u'schema_version': u'4', u'date_created': u'2015-03-31T23:33:18.774953+00:00', u'@id': u'/replicates/a0af11b6-ddad-4b4f-bf02-0029c0685189/', u'@type': [u'replicate', u'item'], u'aliases': [u'ali-mortazavi:e11.5-midbrain-rep2-15010']}], u'@type': [u'result']}"
       ]
      },
      {
       "output_type": "stream",
       "stream": "stdout",
       "text": [
        "\n",
        "row 31 created: a0af11b6-ddad-4b4f-bf02-0029c0685189\n",
        "Reponse {u'status': u'success', u'@graph': [{u'status': u'in progress', u'submitted_by': u'/users/bc5b62f7-ce28-4a1e-b6b3-81c9c5a86d7a/', u'biological_replicate_number': 1, u'uuid': u'67207466-8040-4138-88ae-7c7b27ebde83', u'technical_replicate_number': 1, u'library': u'/libraries/ENCLB545PZF/', u'experiment': u'/experiments/ENCSR392BBU/', u'schema_version': u'4', u'date_created': u'2015-03-31T23:33:19.263989+00:00', u'@id': u'/replicates/67207466-8040-4138-88ae-7c7b27ebde83/', u'@type': [u'replicate', u'item'], u'aliases': [u'ali-mortazavi:e11.5-hindbrain-rep1-15011']}], u'@type': [u'result']}"
       ]
      },
      {
       "output_type": "stream",
       "stream": "stdout",
       "text": [
        "\n",
        "row 32 created: 67207466-8040-4138-88ae-7c7b27ebde83\n",
        "Reponse {u'status': u'success', u'@graph': [{u'status': u'in progress', u'submitted_by': u'/users/bc5b62f7-ce28-4a1e-b6b3-81c9c5a86d7a/', u'biological_replicate_number': 2, u'uuid': u'fcc00f0d-fa75-4f2c-aac8-a05db30e3fe1', u'technical_replicate_number': 1, u'library': u'/libraries/ENCLB169RQJ/', u'experiment': u'/experiments/ENCSR392BBU/', u'schema_version': u'4', u'date_created': u'2015-03-31T23:33:19.705320+00:00', u'@id': u'/replicates/fcc00f0d-fa75-4f2c-aac8-a05db30e3fe1/', u'@type': [u'replicate', u'item'], u'aliases': [u'ali-mortazavi:e11.5-hindbrain-rep2-15012']}], u'@type': [u'result']}"
       ]
      },
      {
       "output_type": "stream",
       "stream": "stdout",
       "text": [
        "\n",
        "row 33 created: fcc00f0d-fa75-4f2c-aac8-a05db30e3fe1\n",
        "Reponse {u'status': u'success', u'@graph': [{u'status': u'in progress', u'submitted_by': u'/users/bc5b62f7-ce28-4a1e-b6b3-81c9c5a86d7a/', u'biological_replicate_number': 1, u'uuid': u'fb6bf9f9-9c2b-426b-bdd0-78053db895d4', u'technical_replicate_number': 1, u'schema_version': u'4', u'experiment': u'/experiments/ENCSR590PHU/', u'library': u'/libraries/ENCLB997CGA/', u'date_created': u'2015-03-31T23:33:20.203303+00:00', u'@id': u'/replicates/fb6bf9f9-9c2b-426b-bdd0-78053db895d4/', u'@type': [u'replicate', u'item'], u'aliases': [u'ali-mortazavi:e11.5-heart-rep1-15015']}], u'@type': [u'result']}"
       ]
      },
      {
       "output_type": "stream",
       "stream": "stdout",
       "text": [
        "\n",
        "row 34 created: fb6bf9f9-9c2b-426b-bdd0-78053db895d4\n",
        "Reponse {u'status': u'success', u'@graph': [{u'status': u'in progress', u'submitted_by': u'/users/bc5b62f7-ce28-4a1e-b6b3-81c9c5a86d7a/', u'biological_replicate_number': 2, u'uuid': u'b9aad59f-f987-4eca-a91b-c288e95679d2', u'technical_replicate_number': 1, u'library': u'/libraries/ENCLB431KMM/', u'experiment': u'/experiments/ENCSR590PHU/', u'schema_version': u'4', u'date_created': u'2015-03-31T23:33:20.679542+00:00', u'@id': u'/replicates/b9aad59f-f987-4eca-a91b-c288e95679d2/', u'@type': [u'replicate', u'item'], u'aliases': [u'ali-mortazavi:e11.5-heart-rep2-15016']}], u'@type': [u'result']}"
       ]
      },
      {
       "output_type": "stream",
       "stream": "stdout",
       "text": [
        "\n",
        "row 35 created: b9aad59f-f987-4eca-a91b-c288e95679d2\n",
        "Reponse {u'status': u'success', u'@graph': [{u'status': u'in progress', u'submitted_by': u'/users/bc5b62f7-ce28-4a1e-b6b3-81c9c5a86d7a/', u'biological_replicate_number': 1, u'uuid': u'4aba7a76-afc1-4a64-8abb-e986de383a49', u'technical_replicate_number': 1, u'schema_version': u'4', u'experiment': u'/experiments/ENCSR942IBI/', u'library': u'/libraries/ENCLB554BFU/', u'date_created': u'2015-03-31T23:33:21.169225+00:00', u'@id': u'/replicates/4aba7a76-afc1-4a64-8abb-e986de383a49/', u'@type': [u'replicate', u'item'], u'aliases': [u'ali-mortazavi:e11.5-liver-rep1-15017']}], u'@type': [u'result']}"
       ]
      },
      {
       "output_type": "stream",
       "stream": "stdout",
       "text": [
        "\n",
        "row 36 created: 4aba7a76-afc1-4a64-8abb-e986de383a49"
       ]
      },
      {
       "output_type": "stream",
       "stream": "stdout",
       "text": [
        "\n",
        "Reponse {u'status': u'success', u'@graph': [{u'status': u'in progress', u'submitted_by': u'/users/bc5b62f7-ce28-4a1e-b6b3-81c9c5a86d7a/', u'biological_replicate_number': 2, u'uuid': u'631fe20b-fce0-4cd9-8397-996090381821', u'technical_replicate_number': 1, u'library': u'/libraries/ENCLB839VYO/', u'experiment': u'/experiments/ENCSR942IBI/', u'schema_version': u'4', u'date_created': u'2015-03-31T23:33:21.686058+00:00', u'@id': u'/replicates/631fe20b-fce0-4cd9-8397-996090381821/', u'@type': [u'replicate', u'item'], u'aliases': [u'ali-mortazavi:e11.5-liver-rep2-15018']}], u'@type': [u'result']}"
       ]
      },
      {
       "output_type": "stream",
       "stream": "stdout",
       "text": [
        "\n",
        "row 37 created: 631fe20b-fce0-4cd9-8397-996090381821\n",
        "Reponse {u'status': u'success', u'@graph': [{u'status': u'in progress', u'submitted_by': u'/users/bc5b62f7-ce28-4a1e-b6b3-81c9c5a86d7a/', u'biological_replicate_number': 1, u'uuid': u'524161ef-8060-41a5-9160-2a002f721edf', u'technical_replicate_number': 1, u'schema_version': u'4', u'experiment': u'/experiments/ENCSR940THV/', u'library': u'/libraries/ENCLB104HBO/', u'date_created': u'2015-03-31T23:33:22.156473+00:00', u'@id': u'/replicates/524161ef-8060-41a5-9160-2a002f721edf/', u'@type': [u'replicate', u'item'], u'aliases': [u'ali-mortazavi:e11.5-neural tube-rep1-15021']}], u'@type': [u'result']}"
       ]
      },
      {
       "output_type": "stream",
       "stream": "stdout",
       "text": [
        "\n",
        "row 38 created: 524161ef-8060-41a5-9160-2a002f721edf"
       ]
      },
      {
       "output_type": "stream",
       "stream": "stdout",
       "text": [
        "\n",
        "Reponse {u'status': u'success', u'@graph': [{u'status': u'in progress', u'submitted_by': u'/users/bc5b62f7-ce28-4a1e-b6b3-81c9c5a86d7a/', u'biological_replicate_number': 2, u'uuid': u'0839e91a-fc61-4ddb-8948-650a8ffcba4f', u'technical_replicate_number': 1, u'library': u'/libraries/ENCLB792LFB/', u'experiment': u'/experiments/ENCSR940THV/', u'schema_version': u'4', u'date_created': u'2015-03-31T23:33:22.653866+00:00', u'@id': u'/replicates/0839e91a-fc61-4ddb-8948-650a8ffcba4f/', u'@type': [u'replicate', u'item'], u'aliases': [u'ali-mortazavi:e11.5-neural tube-rep2-15022']}], u'@type': [u'result']}"
       ]
      },
      {
       "output_type": "stream",
       "stream": "stdout",
       "text": [
        "\n",
        "row 39 created: 0839e91a-fc61-4ddb-8948-650a8ffcba4f\n"
       ]
      }
     ],
     "prompt_number": 32
    },
    {
     "cell_type": "code",
     "collapsed": false,
     "input": [
      "replicates.to_excel('/tmp/replicates.xlsx')"
     ],
     "language": "python",
     "metadata": {},
     "outputs": [],
     "prompt_number": 33
    },
    {
     "cell_type": "code",
     "collapsed": false,
     "input": [],
     "language": "python",
     "metadata": {},
     "outputs": []
    }
   ],
   "metadata": {}
  }
 ]
}