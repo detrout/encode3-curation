{
 "cells": [
  {
   "cell_type": "markdown",
   "metadata": {
    "collapsed": true
   },
   "source": [
    "Prepare submissions for year 3 quarter 3.\n",
    "\n",
    "Our first block of submissions is stuff that was started in Y3Q1, but got dropped pending validation."
   ]
  },
  {
   "cell_type": "code",
   "execution_count": 1,
   "metadata": {
    "collapsed": false
   },
   "outputs": [],
   "source": [
    "import pandas\n",
    "import paramiko\n",
    "import gcat"
   ]
  },
  {
   "cell_type": "code",
   "execution_count": 2,
   "metadata": {
    "collapsed": false
   },
   "outputs": [],
   "source": [
    "from curation_common import *"
   ]
  },
  {
   "cell_type": "code",
   "execution_count": 3,
   "metadata": {
    "collapsed": false
   },
   "outputs": [],
   "source": [
    "encode = ENCODED('www.encodeproject.org')\n",
    "encode.load_netrc()"
   ]
  },
  {
   "cell_type": "markdown",
   "metadata": {},
   "source": [
    "# create biosamples"
   ]
  },
  {
   "cell_type": "code",
   "execution_count": 4,
   "metadata": {
    "collapsed": true
   },
   "outputs": [],
   "source": [
    "#spreadsheet_name = \"Brian's Mice\"\n",
    "#mice_book = gcat.get_file(spreadsheet_name, fmt='pandas_excel')\n",
    "#mice = mice_book.parse('Sheet 1')"
   ]
  },
  {
   "cell_type": "code",
   "execution_count": 5,
   "metadata": {
    "collapsed": false
   },
   "outputs": [],
   "source": [
    "#created = encode.post_sheet('/biosamples/', mice, verbose=True, dry_run=True)"
   ]
  },
  {
   "cell_type": "code",
   "execution_count": 6,
   "metadata": {
    "collapsed": false
   },
   "outputs": [],
   "source": [
    "#if created:\n",
    "#    updates = []\n",
    "#    for row in created:\n",
    "#        updates.append({'uuid': row['uuid'], 'biosample_accession': row['accession'], 'aliases': row['aliases'][0]})\n",
    "#    updatesdf = pandas.DataFrame(updates, columns=['uuid', 'biosample_accession', 'aliases'])\n",
    "#    updatesdf.to_excel('/tmp/update.xlsx')"
   ]
  },
  {
   "cell_type": "markdown",
   "metadata": {},
   "source": [
    "# point at y4q5 spreadsheet"
   ]
  },
  {
   "cell_type": "code",
   "execution_count": 7,
   "metadata": {
    "collapsed": false
   },
   "outputs": [],
   "source": [
    "sheetname = 'Mouse_e10.5_e12.5.xlsx'"
   ]
  },
  {
   "cell_type": "markdown",
   "metadata": {},
   "source": [
    "# create experiments"
   ]
  },
  {
   "cell_type": "code",
   "execution_count": 12,
   "metadata": {
    "collapsed": false
   },
   "outputs": [
    {
     "data": {
      "text/plain": [
       "0"
      ]
     },
     "execution_count": 12,
     "metadata": {},
     "output_type": "execute_result"
    }
   ],
   "source": [
    "experiments = pandas.read_excel(sheetname, sheetname=\"Experiments\")\n",
    "created = encode.post_sheet('/experiments/', experiments, dry_run=True, verbose=True)\n",
    "len(created)"
   ]
  },
  {
   "cell_type": "code",
   "execution_count": 11,
   "metadata": {
    "collapsed": false
   },
   "outputs": [],
   "source": [
    "if created:\n",
    "    updatesdf = pandas.DataFrame(created, columns=['uuid', 'accession','description'])\n",
    "    updatesdf.to_excel('/tmp/experiments.xlsx')"
   ]
  },
  {
   "cell_type": "markdown",
   "metadata": {},
   "source": [
    "# create libraries"
   ]
  },
  {
   "cell_type": "code",
   "execution_count": 19,
   "metadata": {
    "collapsed": false,
    "scrolled": true
   },
   "outputs": [
    {
     "data": {
      "text/plain": [
       "0"
      ]
     },
     "execution_count": 19,
     "metadata": {},
     "output_type": "execute_result"
    }
   ],
   "source": [
    "libraries = pandas.read_excel(sheetname, sheetname=\"Libraries\")\n",
    "created = encode.post_sheet('/libraries/', libraries, dry_run=True, verbose=True)\n",
    "len(created)"
   ]
  },
  {
   "cell_type": "code",
   "execution_count": 18,
   "metadata": {
    "collapsed": false
   },
   "outputs": [],
   "source": [
    "if created:\n",
    "    updates = []\n",
    "    for row in created:\n",
    "        updates.append({'uuid': row['uuid'], 'library_accession': row['accession'], 'aliases': row['aliases'][0]})\n",
    "    updatesdf = pandas.DataFrame(updates, columns=['uuid', 'library_accession', 'aliases'])\n",
    "    updatesdf.to_excel('/tmp/libraries.xlsx')"
   ]
  },
  {
   "cell_type": "markdown",
   "metadata": {},
   "source": [
    "# create replicates"
   ]
  },
  {
   "cell_type": "code",
   "execution_count": 27,
   "metadata": {
    "collapsed": false,
    "scrolled": false
   },
   "outputs": [
    {
     "name": "stdout",
     "output_type": "stream",
     "text": [
      "Reponse {'@type': ['result'], 'status': 'success', '@graph': [{'date_created': '2017-01-24T19:17:02.562515+00:00', 'status': 'in progress', 'schema_version': '6', 'aliases': ['ali-mortazavi:e10.5-midbrain-rep2'], 'experiment': '/experiments/ENCSR340CTF/', '@id': '/replicates/2009af20-3871-49b9-88b4-294fb6ee84bb/', 'submitted_by': '/users/bc5b62f7-ce28-4a1e-b6b3-81c9c5a86d7a/', '@type': ['Replicate', 'Item'], 'technical_replicate_number': 1, 'biological_replicate_number': 2, 'uuid': '2009af20-3871-49b9-88b4-294fb6ee84bb', 'library': '/libraries/ENCLB850YGH/'}]}\n",
      "row 19 created: 2009af20-3871-49b9-88b4-294fb6ee84bb\n",
      "Reponse {'@type': ['result'], 'status': 'success', '@graph': [{'status': 'in progress', 'schema_version': '6', 'aliases': ['ali-mortazavi:e10.5-hindbrain-rep1'], 'experiment': '/experiments/ENCSR722SLO/', '@id': '/replicates/c9e10cf7-8929-4611-a11c-15e10f8b7250/', 'submitted_by': '/users/bc5b62f7-ce28-4a1e-b6b3-81c9c5a86d7a/', '@type': ['Replicate', 'Item'], 'technical_replicate_number': 1, 'uuid': 'c9e10cf7-8929-4611-a11c-15e10f8b7250', 'library': '/libraries/ENCLB639WYE/', 'biological_replicate_number': 1, 'date_created': '2017-01-24T19:17:02.705583+00:00'}]}\n",
      "row 20 created: c9e10cf7-8929-4611-a11c-15e10f8b7250\n",
      "Reponse {'@type': ['result'], 'status': 'success', '@graph': [{'date_created': '2017-01-24T19:17:02.843628+00:00', 'status': 'in progress', 'schema_version': '6', 'aliases': ['ali-mortazavi:e10.5-hindbrain-rep2'], 'experiment': '/experiments/ENCSR722SLO/', '@id': '/replicates/2ebcffe1-4eb0-42bb-ac55-5b2ef4bc43c8/', 'submitted_by': '/users/bc5b62f7-ce28-4a1e-b6b3-81c9c5a86d7a/', '@type': ['Replicate', 'Item'], 'technical_replicate_number': 1, 'biological_replicate_number': 2, 'uuid': '2ebcffe1-4eb0-42bb-ac55-5b2ef4bc43c8', 'library': '/libraries/ENCLB296CTN/'}]}\n",
      "row 21 created: 2ebcffe1-4eb0-42bb-ac55-5b2ef4bc43c8\n",
      "Reponse {'@type': ['result'], 'status': 'success', '@graph': [{'library': '/libraries/ENCLB602RSG/', 'schema_version': '6', 'aliases': ['ali-mortazavi:e10.5-embryonic-facial-prominence-rep1'], 'experiment': '/experiments/ENCSR822RRV/', '@id': '/replicates/f3be0902-a40b-4334-81c4-df0726985338/', 'submitted_by': '/users/bc5b62f7-ce28-4a1e-b6b3-81c9c5a86d7a/', '@type': ['Replicate', 'Item'], 'technical_replicate_number': 1, 'uuid': 'f3be0902-a40b-4334-81c4-df0726985338', 'biological_replicate_number': 1, 'date_created': '2017-01-24T19:17:02.990847+00:00', 'status': 'in progress'}]}\n",
      "row 22 created: f3be0902-a40b-4334-81c4-df0726985338\n",
      "Reponse {'@type': ['result'], 'status': 'success', '@graph': [{'library': '/libraries/ENCLB020XSS/', 'schema_version': '6', 'aliases': ['ali-mortazavi:e10.5-embryonic-facial-prominence-rep2'], 'experiment': '/experiments/ENCSR822RRV/', '@id': '/replicates/1c29ec3d-4cdd-4b88-8b7f-9f6d561ca996/', 'submitted_by': '/users/bc5b62f7-ce28-4a1e-b6b3-81c9c5a86d7a/', '@type': ['Replicate', 'Item'], 'technical_replicate_number': 1, 'biological_replicate_number': 2, 'uuid': '1c29ec3d-4cdd-4b88-8b7f-9f6d561ca996', 'date_created': '2017-01-24T19:17:03.156101+00:00', 'status': 'in progress'}]}\n",
      "row 23 created: 1c29ec3d-4cdd-4b88-8b7f-9f6d561ca996\n",
      "Reponse {'@type': ['result'], 'status': 'success', '@graph': [{'date_created': '2017-01-24T19:17:03.327768+00:00', 'status': 'in progress', 'schema_version': '6', 'aliases': ['ali-mortazavi:e10.5-heart-rep1'], 'experiment': '/experiments/ENCSR823KMG/', '@id': '/replicates/1379e059-1f3b-44b4-9be4-df0fdee66edd/', 'submitted_by': '/users/bc5b62f7-ce28-4a1e-b6b3-81c9c5a86d7a/', '@type': ['Replicate', 'Item'], 'technical_replicate_number': 1, 'biological_replicate_number': 1, 'uuid': '1379e059-1f3b-44b4-9be4-df0fdee66edd', 'library': '/libraries/ENCLB392AOW/'}]}\n",
      "row 24 created: 1379e059-1f3b-44b4-9be4-df0fdee66edd\n",
      "Reponse {'@type': ['result'], 'status': 'success', '@graph': [{'library': '/libraries/ENCLB457PNU/', 'schema_version': '6', 'aliases': ['ali-mortazavi:e10.5-heart-rep2'], 'experiment': '/experiments/ENCSR823KMG/', '@id': '/replicates/26576738-8fcc-453a-bafe-d5420253a26a/', 'submitted_by': '/users/bc5b62f7-ce28-4a1e-b6b3-81c9c5a86d7a/', '@type': ['Replicate', 'Item'], 'technical_replicate_number': 1, 'biological_replicate_number': 2, 'uuid': '26576738-8fcc-453a-bafe-d5420253a26a', 'date_created': '2017-01-24T19:17:03.560531+00:00', 'status': 'in progress'}]}\n",
      "row 25 created: 26576738-8fcc-453a-bafe-d5420253a26a\n",
      "Reponse {'@type': ['result'], 'status': 'success', '@graph': [{'library': '/libraries/ENCLB253VSY/', 'schema_version': '6', 'aliases': ['ali-mortazavi:e10.5-limb-rep1'], 'experiment': '/experiments/ENCSR685QWR/', '@id': '/replicates/576e0efa-1fab-45a6-b738-91d10b2bdeb0/', 'submitted_by': '/users/bc5b62f7-ce28-4a1e-b6b3-81c9c5a86d7a/', '@type': ['Replicate', 'Item'], 'technical_replicate_number': 1, 'uuid': '576e0efa-1fab-45a6-b738-91d10b2bdeb0', 'biological_replicate_number': 1, 'date_created': '2017-01-24T19:17:03.736568+00:00', 'status': 'in progress'}]}\n",
      "row 26 created: 576e0efa-1fab-45a6-b738-91d10b2bdeb0\n",
      "Reponse {'@type': ['result'], 'status': 'success', '@graph': [{'date_created': '2017-01-24T19:17:03.906800+00:00', 'status': 'in progress', 'schema_version': '6', 'aliases': ['ali-mortazavi:e10.5-limb-rep2'], 'experiment': '/experiments/ENCSR685QWR/', '@id': '/replicates/b1d80329-e5ed-42c8-be2c-997af85ae271/', 'submitted_by': '/users/bc5b62f7-ce28-4a1e-b6b3-81c9c5a86d7a/', '@type': ['Replicate', 'Item'], 'technical_replicate_number': 1, 'biological_replicate_number': 2, 'uuid': 'b1d80329-e5ed-42c8-be2c-997af85ae271', 'library': '/libraries/ENCLB081AWE/'}]}\n",
      "row 27 created: b1d80329-e5ed-42c8-be2c-997af85ae271\n"
     ]
    },
    {
     "data": {
      "text/plain": [
       "9"
      ]
     },
     "execution_count": 27,
     "metadata": {},
     "output_type": "execute_result"
    }
   ],
   "source": [
    "replicates = pandas.read_excel(sheetname, sheetname='Replicates')\n",
    "created = encode.post_sheet('/replicates/', replicates, dry_run=False, verbose=True)\n",
    "len(created)"
   ]
  },
  {
   "cell_type": "code",
   "execution_count": 28,
   "metadata": {
    "collapsed": true
   },
   "outputs": [],
   "source": [
    "if created:\n",
    "    updatesdf = pandas.DataFrame(created, columns=['uuid', 'experiment', 'library'])\n",
    "    updatesdf.to_excel('/tmp/replicates.xlsx')"
   ]
  },
  {
   "cell_type": "code",
   "execution_count": null,
   "metadata": {
    "collapsed": true
   },
   "outputs": [],
   "source": []
  }
 ],
 "metadata": {
  "kernelspec": {
   "display_name": "Python 3",
   "language": "python",
   "name": "python3"
  },
  "language_info": {
   "codemirror_mode": {
    "name": "ipython",
    "version": 3
   },
   "file_extension": ".py",
   "mimetype": "text/x-python",
   "name": "python",
   "nbconvert_exporter": "python",
   "pygments_lexer": "ipython3",
   "version": "3.5.4"
  }
 },
 "nbformat": 4,
 "nbformat_minor": 0
}
