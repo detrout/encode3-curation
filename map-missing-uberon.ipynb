{
 "metadata": {
  "name": "",
  "signature": "sha256:020254f102104eab19bc227d5caa63891abb3185bdeda09099fd0901d8677544"
 },
 "nbformat": 3,
 "nbformat_minor": 0,
 "worksheets": [
  {
   "cells": [
    {
     "cell_type": "code",
     "collapsed": false,
     "input": [
      "from __future__ import print_function\n",
      "\n",
      "import gcat\n",
      "import numpy\n",
      "import pandas"
     ],
     "language": "python",
     "metadata": {},
     "outputs": [],
     "prompt_number": 1
    },
    {
     "cell_type": "code",
     "collapsed": false,
     "input": [
      "#sheet_name = '0Aq6WcUiK26MIdDhINnptRUU1YkxVbkxhYWhfSm5HNlE'\n",
      "spreadsheet_name = \"Brian's Mice\"\n",
      "mice_book = gcat.get_file(spreadsheet_name, fmt='pandas_excel')"
     ],
     "language": "python",
     "metadata": {},
     "outputs": [],
     "prompt_number": 2
    },
    {
     "cell_type": "code",
     "collapsed": false,
     "input": [
      "mice_book.sheet_names"
     ],
     "language": "python",
     "metadata": {},
     "outputs": [
      {
       "metadata": {},
       "output_type": "pyout",
       "prompt_number": 3,
       "text": [
        "[u'Sheet 1', u'Experiments']"
       ]
      }
     ],
     "prompt_number": 3
    },
    {
     "cell_type": "code",
     "collapsed": false,
     "input": [
      "mice = mice_book.parse('Sheet 1')"
     ],
     "language": "python",
     "metadata": {},
     "outputs": [],
     "prompt_number": 4
    },
    {
     "cell_type": "code",
     "collapsed": false,
     "input": [
      "name_term_map = {}\n",
      "name_term_dupes = {}\n",
      "for name, term in zip(mice['biosample_term_name'], mice['biosample_term_id']):\n",
      "    if pandas.notnull(term):\n",
      "        name_term_dupes.setdefault(name, set()).add(term)\n",
      "        name_term_map[name] = term\n",
      "        \n",
      "name_term_map['adrenals'] = 'UBERON:0002369' # copied from https://www.encodeproject.org/biosamples/ENCBS217WPC/\n",
      "name_term_map['lungs'] = 'UBERON:0002048' # copied from https://www.encodeproject.org/biosamples/ENCBS217WPC/\n",
      "name_term_map['spleen'] = 'UBERON:0002106' # copied from https://www.encodeproject.org/biosamples/ENCBS159ENC/\n",
      "name_term_map['bladder'] = 'UBERON:0001255' # copied from https://www.encodeproject.org/biosamples/ENCBS246ENC/"
     ],
     "language": "python",
     "metadata": {},
     "outputs": [],
     "prompt_number": 9
    },
    {
     "cell_type": "code",
     "collapsed": false,
     "input": [
      "name_term_map"
     ],
     "language": "python",
     "metadata": {},
     "outputs": [
      {
       "metadata": {},
       "output_type": "pyout",
       "prompt_number": 10,
       "text": [
        "{'adrenals': 'UBERON:0002369',\n",
        " 'bladder': 'UBERON:0001255',\n",
        " u'brain cortex': u'UBERON:0000956',\n",
        " u'cerebellar granule layer': u'UBERON:0002956',\n",
        " u'cerebellum': u'UBERON:0002037',\n",
        " u'cerebellum Purkinje cell layer': u'UBERON:0002979',\n",
        " u'cerebral cortex, layer 5': u'UBERON:0005394',\n",
        " u'embryonic facial prominence': u'UBERON:0012314',\n",
        " u'forebrain': u'UBERON:0001890',\n",
        " u'heart': u'UBERON:0000948',\n",
        " u'hindbrain': u'UBERON:0002028',\n",
        " u'intestine': u'UBERON:0000160',\n",
        " u'kidney': u'UBERON:0002113',\n",
        " u'limb': u'UBERON:0002101',\n",
        " u'liver': u'UBERON:0002107',\n",
        " u'lung': u'UBERON:0002048',\n",
        " 'lungs': 'UBERON:0002048',\n",
        " u'midbrain': u'UBERON:0001891',\n",
        " u'neural tube': u'UBERON:0001049',\n",
        " u'skeletal muscle': u'UBERON:0001134',\n",
        " 'spleen': 'UBERON:0002106',\n",
        " u'stomach': u'UBERON:0000945',\n",
        " u'thymus': u'UBERON:0002370',\n",
        " u'whole organism': u'UBERON:0000468'}"
       ]
      }
     ],
     "prompt_number": 10
    },
    {
     "cell_type": "code",
     "collapsed": false,
     "input": [
      "for i in mice[pandas.notnull(mice['biosample_term_name'])][pandas.isnull(mice['biosample_term_id'])].index:\n",
      "    name = mice['biosample_term_name'][i]\n",
      "    lookup = name_term_map.get(name)\n",
      "    print(i, name, lookup)\n",
      "    mice['biosample_term_id'][i] = lookup"
     ],
     "language": "python",
     "metadata": {},
     "outputs": [
      {
       "output_type": "stream",
       "stream": "stdout",
       "text": [
        "178 neural tube UBERON:0001049\n",
        "179"
       ]
      },
      {
       "output_type": "stream",
       "stream": "stdout",
       "text": [
        " neural tube UBERON:0001049\n",
        "180"
       ]
      },
      {
       "output_type": "stream",
       "stream": "stdout",
       "text": [
        " thymus UBERON:0002370\n",
        "181"
       ]
      },
      {
       "output_type": "stream",
       "stream": "stdout",
       "text": [
        " thymus UBERON:0002370\n",
        "182"
       ]
      },
      {
       "output_type": "stream",
       "stream": "stdout",
       "text": [
        " heart UBERON:0000948\n",
        "183"
       ]
      },
      {
       "output_type": "stream",
       "stream": "stdout",
       "text": [
        " heart UBERON:0000948\n",
        "184"
       ]
      },
      {
       "output_type": "stream",
       "stream": "stdout",
       "text": [
        " lungs UBERON:0002048\n",
        "185"
       ]
      },
      {
       "output_type": "stream",
       "stream": "stdout",
       "text": [
        " lungs UBERON:0002048\n",
        "186 liver UBERON:0002107\n",
        "187"
       ]
      },
      {
       "output_type": "stream",
       "stream": "stdout",
       "text": [
        " liver UBERON:0002107\n",
        "188 skeletal muscle UBERON:0001134\n",
        "189"
       ]
      },
      {
       "output_type": "stream",
       "stream": "stdout",
       "text": [
        " skeletal muscle UBERON:0001134\n",
        "190 spleen UBERON:0002106\n",
        "191"
       ]
      },
      {
       "output_type": "stream",
       "stream": "stdout",
       "text": [
        " spleen UBERON:0002106\n",
        "192"
       ]
      },
      {
       "output_type": "stream",
       "stream": "stdout",
       "text": [
        " bladder UBERON:0001255\n",
        "193"
       ]
      },
      {
       "output_type": "stream",
       "stream": "stdout",
       "text": [
        " bladder UBERON:0001255\n",
        "194 stomach UBERON:0000945\n",
        "195"
       ]
      },
      {
       "output_type": "stream",
       "stream": "stdout",
       "text": [
        " stomach UBERON:0000945\n",
        "196 intestine UBERON:0000160\n",
        "197"
       ]
      },
      {
       "output_type": "stream",
       "stream": "stdout",
       "text": [
        " intestine UBERON:0000160\n",
        "198 kidney UBERON:0002113\n",
        "199"
       ]
      },
      {
       "output_type": "stream",
       "stream": "stdout",
       "text": [
        " kidney UBERON:0002113\n",
        "200 adrenals UBERON:0002369\n",
        "201"
       ]
      },
      {
       "output_type": "stream",
       "stream": "stdout",
       "text": [
        " adrenals UBERON:0002369\n"
       ]
      },
      {
       "output_type": "stream",
       "stream": "stderr",
       "text": [
        "-c:5: SettingWithCopyWarning: \n",
        "A value is trying to be set on a copy of a slice from a DataFrame\n",
        "\n",
        "See the the caveats in the documentation: http://pandas.pydata.org/pandas-docs/stable/indexing.html#indexing-view-versus-copy\n"
       ]
      }
     ],
     "prompt_number": 12
    },
    {
     "cell_type": "code",
     "collapsed": false,
     "input": [
      "mice.to_excel('/tmp/update_mice.xlsx')"
     ],
     "language": "python",
     "metadata": {},
     "outputs": [],
     "prompt_number": 13
    },
    {
     "cell_type": "code",
     "collapsed": false,
     "input": [
      "201-178+1"
     ],
     "language": "python",
     "metadata": {},
     "outputs": [
      {
       "metadata": {},
       "output_type": "pyout",
       "prompt_number": 14,
       "text": [
        "24"
       ]
      }
     ],
     "prompt_number": 14
    },
    {
     "cell_type": "code",
     "collapsed": false,
     "input": [],
     "language": "python",
     "metadata": {},
     "outputs": []
    }
   ],
   "metadata": {}
  }
 ]
}