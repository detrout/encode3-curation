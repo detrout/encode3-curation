{
 "metadata": {
  "name": "",
  "signature": "sha256:9ba99ad47d151d2701633e52224554d734689cac2a429052ba46b2b0847b7f2e"
 },
 "nbformat": 3,
 "nbformat_minor": 0,
 "worksheets": [
  {
   "cells": [
    {
     "cell_type": "code",
     "collapsed": false,
     "input": [
      "from __future__ import print_function\n",
      "import os\n",
      "import pandas"
     ],
     "language": "python",
     "metadata": {},
     "outputs": [],
     "prompt_number": 18
    },
    {
     "cell_type": "code",
     "collapsed": false,
     "input": [
      "from curation_common import *"
     ],
     "language": "python",
     "metadata": {},
     "outputs": [],
     "prompt_number": 2
    },
    {
     "cell_type": "code",
     "collapsed": false,
     "input": [
      "import django\n",
      "if not 'DJANGO_SETTINGS_MODULE' in os.environ:\n",
      "    os.environ['DJANGO_SETTINGS_MODULE'] = 'htsworkflow.settings.myrada'\n",
      "django.setup()"
     ],
     "language": "python",
     "metadata": {},
     "outputs": [],
     "prompt_number": 3
    },
    {
     "cell_type": "code",
     "collapsed": false,
     "input": [
      "import experiments.models\n",
      "import samples.models"
     ],
     "language": "python",
     "metadata": {},
     "outputs": [],
     "prompt_number": 4
    },
    {
     "cell_type": "code",
     "collapsed": false,
     "input": [
      "from htsworkflow.submission import fastqname"
     ],
     "language": "python",
     "metadata": {},
     "outputs": [],
     "prompt_number": 10
    },
    {
     "cell_type": "code",
     "collapsed": false,
     "input": [
      "server = ENCODED('www.encodedcc.org')\n",
      "server.load_netrc()"
     ],
     "language": "python",
     "metadata": {},
     "outputs": [],
     "prompt_number": 5
    },
    {
     "cell_type": "code",
     "collapsed": false,
     "input": [
      "server.patch_json?"
     ],
     "language": "python",
     "metadata": {},
     "outputs": [],
     "prompt_number": 36
    },
    {
     "cell_type": "code",
     "collapsed": false,
     "input": [
      "def fix_read_length(filename):\n",
      "    platform = {'Illumina HiSeq 2500': 'ENCODE:HiSeq2500'}\n",
      "    with open(filename, 'r') as stream:\n",
      "        header = stream.readline().strip().split()\n",
      "        columns = ['file_accession', 'replicate', 'library_id', 'flowcell_id', 'read_length', 'platform']\n",
      "        results = []\n",
      "        for line in stream:\n",
      "            file_accession, submitted_path = [ x[2:-1] for x in line.rstrip().split('\\t')]\n",
      "            file_object = server.get_json(file_accession)\n",
      "            #replicate_object = server.get_json(file_object['replicate'])\n",
      "            dirname, filename = os.path.split(submitted_path)\n",
      "            fastq = fastqname.FastqName(filename=filename)\n",
      "            flowcell = experiments.models.FlowCell.objects.get(flowcell_id=fastq.flowcell)\n",
      "            results.append({'file_accession': file_accession,\n",
      "                      'replicate': file_object['replicate'],\n",
      "                      'library_id': fastq.lib_id,\n",
      "                      'flowcell_id': flowcell.flowcell_id,\n",
      "                      'read_length': flowcell.read_length,\n",
      "                      'platform': platform[flowcell.sequencer.model]})\n",
      "            \n",
      "            # server.patch_json('/files/ENCFF635VBU/', {'read_length': flowcell.read_length})\n",
      "            # server.patch_json(file_object['replicate'], {'platform': platform[flowcell.sequencer.model]})\n",
      "\n",
      "        return pandas.DataFrame(results, columns=columns)\n",
      "fix_read_length('listNeedingPlatformReadLength.tsv')"
     ],
     "language": "python",
     "metadata": {},
     "outputs": [
      {
       "html": [
        "<div style=\"max-height:1000px;max-width:1500px;overflow:auto;\">\n",
        "<table border=\"1\" class=\"dataframe\">\n",
        "  <thead>\n",
        "    <tr style=\"text-align: right;\">\n",
        "      <th></th>\n",
        "      <th>file_accession</th>\n",
        "      <th>replicate</th>\n",
        "      <th>library_id</th>\n",
        "      <th>flowcell_id</th>\n",
        "      <th>read_length</th>\n",
        "      <th>platform</th>\n",
        "    </tr>\n",
        "  </thead>\n",
        "  <tbody>\n",
        "    <tr>\n",
        "      <th>0 </th>\n",
        "      <td> ENCFF635VBU</td>\n",
        "      <td> /replicates/02773643-83b5-4ecf-b903-f3b7cc3d4075/</td>\n",
        "      <td> 15017</td>\n",
        "      <td> HANW6ADXX</td>\n",
        "      <td> 100</td>\n",
        "      <td> ENCODE:HiSeq2500</td>\n",
        "    </tr>\n",
        "    <tr>\n",
        "      <th>1 </th>\n",
        "      <td> ENCFF810MMJ</td>\n",
        "      <td> /replicates/4be20e21-6cdb-4563-9786-985109589e10/</td>\n",
        "      <td> 15018</td>\n",
        "      <td> HANW6ADXX</td>\n",
        "      <td> 100</td>\n",
        "      <td> ENCODE:HiSeq2500</td>\n",
        "    </tr>\n",
        "    <tr>\n",
        "      <th>2 </th>\n",
        "      <td> ENCFF677ULG</td>\n",
        "      <td> /replicates/4be20e21-6cdb-4563-9786-985109589e10/</td>\n",
        "      <td> 15018</td>\n",
        "      <td> HANW6ADXX</td>\n",
        "      <td> 100</td>\n",
        "      <td> ENCODE:HiSeq2500</td>\n",
        "    </tr>\n",
        "    <tr>\n",
        "      <th>3 </th>\n",
        "      <td> ENCFF956HCY</td>\n",
        "      <td> /replicates/02773643-83b5-4ecf-b903-f3b7cc3d4075/</td>\n",
        "      <td> 15017</td>\n",
        "      <td> HANW6ADXX</td>\n",
        "      <td> 100</td>\n",
        "      <td> ENCODE:HiSeq2500</td>\n",
        "    </tr>\n",
        "    <tr>\n",
        "      <th>4 </th>\n",
        "      <td> ENCFF329ACL</td>\n",
        "      <td> /replicates/62b52dad-8690-4e49-9247-5375f70794bf/</td>\n",
        "      <td> 15007</td>\n",
        "      <td> HAM6KADXX</td>\n",
        "      <td> 100</td>\n",
        "      <td> ENCODE:HiSeq2500</td>\n",
        "    </tr>\n",
        "    <tr>\n",
        "      <th>5 </th>\n",
        "      <td> ENCFF251LNG</td>\n",
        "      <td> /replicates/c96cad83-ae72-4ab6-9054-75865cef0a13/</td>\n",
        "      <td> 15008</td>\n",
        "      <td> HAM6KADXX</td>\n",
        "      <td> 100</td>\n",
        "      <td> ENCODE:HiSeq2500</td>\n",
        "    </tr>\n",
        "    <tr>\n",
        "      <th>6 </th>\n",
        "      <td> ENCFF896COV</td>\n",
        "      <td> /replicates/c96cad83-ae72-4ab6-9054-75865cef0a13/</td>\n",
        "      <td> 15008</td>\n",
        "      <td> HAM6KADXX</td>\n",
        "      <td> 100</td>\n",
        "      <td> ENCODE:HiSeq2500</td>\n",
        "    </tr>\n",
        "    <tr>\n",
        "      <th>7 </th>\n",
        "      <td> ENCFF236BUE</td>\n",
        "      <td> /replicates/bd583dac-77ab-4b0c-9f35-037ec609b933/</td>\n",
        "      <td> 15015</td>\n",
        "      <td> HANW6ADXX</td>\n",
        "      <td> 100</td>\n",
        "      <td> ENCODE:HiSeq2500</td>\n",
        "    </tr>\n",
        "    <tr>\n",
        "      <th>8 </th>\n",
        "      <td> ENCFF360NRX</td>\n",
        "      <td> /replicates/5708c8ba-54c8-44a1-aafd-1bc179341a1a/</td>\n",
        "      <td> 15016</td>\n",
        "      <td> HANW6ADXX</td>\n",
        "      <td> 100</td>\n",
        "      <td> ENCODE:HiSeq2500</td>\n",
        "    </tr>\n",
        "    <tr>\n",
        "      <th>9 </th>\n",
        "      <td> ENCFF070OPW</td>\n",
        "      <td> /replicates/bd583dac-77ab-4b0c-9f35-037ec609b933/</td>\n",
        "      <td> 15015</td>\n",
        "      <td> HANW6ADXX</td>\n",
        "      <td> 100</td>\n",
        "      <td> ENCODE:HiSeq2500</td>\n",
        "    </tr>\n",
        "    <tr>\n",
        "      <th>10</th>\n",
        "      <td> ENCFF477PIC</td>\n",
        "      <td> /replicates/5708c8ba-54c8-44a1-aafd-1bc179341a1a/</td>\n",
        "      <td> 15016</td>\n",
        "      <td> HANW6ADXX</td>\n",
        "      <td> 100</td>\n",
        "      <td> ENCODE:HiSeq2500</td>\n",
        "    </tr>\n",
        "    <tr>\n",
        "      <th>11</th>\n",
        "      <td> ENCFF714ZDW</td>\n",
        "      <td> /replicates/0518dba0-85b6-4bed-953d-44f68583af43/</td>\n",
        "      <td> 15014</td>\n",
        "      <td> HANW6ADXX</td>\n",
        "      <td> 100</td>\n",
        "      <td> ENCODE:HiSeq2500</td>\n",
        "    </tr>\n",
        "    <tr>\n",
        "      <th>12</th>\n",
        "      <td> ENCFF427WPK</td>\n",
        "      <td> /replicates/68aabdd2-3cde-4cf7-9eda-d60bca9a3d1d/</td>\n",
        "      <td> 15013</td>\n",
        "      <td> HANW6ADXX</td>\n",
        "      <td> 100</td>\n",
        "      <td> ENCODE:HiSeq2500</td>\n",
        "    </tr>\n",
        "    <tr>\n",
        "      <th>13</th>\n",
        "      <td> ENCFF917VEZ</td>\n",
        "      <td> /replicates/0518dba0-85b6-4bed-953d-44f68583af43/</td>\n",
        "      <td> 15014</td>\n",
        "      <td> HANW6ADXX</td>\n",
        "      <td> 100</td>\n",
        "      <td> ENCODE:HiSeq2500</td>\n",
        "    </tr>\n",
        "    <tr>\n",
        "      <th>14</th>\n",
        "      <td> ENCFF709FPA</td>\n",
        "      <td> /replicates/68aabdd2-3cde-4cf7-9eda-d60bca9a3d1d/</td>\n",
        "      <td> 15013</td>\n",
        "      <td> HANW6ADXX</td>\n",
        "      <td> 100</td>\n",
        "      <td> ENCODE:HiSeq2500</td>\n",
        "    </tr>\n",
        "    <tr>\n",
        "      <th>15</th>\n",
        "      <td> ENCFF237DCF</td>\n",
        "      <td> /replicates/8a60be9c-611b-421a-ac11-5df6257b778e/</td>\n",
        "      <td> 15019</td>\n",
        "      <td> HANWAADXX</td>\n",
        "      <td> 100</td>\n",
        "      <td> ENCODE:HiSeq2500</td>\n",
        "    </tr>\n",
        "    <tr>\n",
        "      <th>16</th>\n",
        "      <td> ENCFF249AZE</td>\n",
        "      <td> /replicates/b7012f37-9985-44db-a5d8-eb02e8068b9d/</td>\n",
        "      <td> 15020</td>\n",
        "      <td> HANWAADXX</td>\n",
        "      <td> 100</td>\n",
        "      <td> ENCODE:HiSeq2500</td>\n",
        "    </tr>\n",
        "    <tr>\n",
        "      <th>17</th>\n",
        "      <td> ENCFF820NAK</td>\n",
        "      <td> /replicates/8a60be9c-611b-421a-ac11-5df6257b778e/</td>\n",
        "      <td> 15019</td>\n",
        "      <td> HANWAADXX</td>\n",
        "      <td> 100</td>\n",
        "      <td> ENCODE:HiSeq2500</td>\n",
        "    </tr>\n",
        "    <tr>\n",
        "      <th>18</th>\n",
        "      <td> ENCFF654OBR</td>\n",
        "      <td> /replicates/b7012f37-9985-44db-a5d8-eb02e8068b9d/</td>\n",
        "      <td> 15020</td>\n",
        "      <td> HANWAADXX</td>\n",
        "      <td> 100</td>\n",
        "      <td> ENCODE:HiSeq2500</td>\n",
        "    </tr>\n",
        "    <tr>\n",
        "      <th>19</th>\n",
        "      <td> ENCFF198HBZ</td>\n",
        "      <td> /replicates/9eda27a3-c132-4881-b4ef-35efbff0e273/</td>\n",
        "      <td> 15021</td>\n",
        "      <td> HANW6ADXX</td>\n",
        "      <td> 100</td>\n",
        "      <td> ENCODE:HiSeq2500</td>\n",
        "    </tr>\n",
        "    <tr>\n",
        "      <th>20</th>\n",
        "      <td> ENCFF758NAG</td>\n",
        "      <td> /replicates/aac3c45f-5748-4f4b-bdca-e012ed477453/</td>\n",
        "      <td> 15022</td>\n",
        "      <td> HANW6ADXX</td>\n",
        "      <td> 100</td>\n",
        "      <td> ENCODE:HiSeq2500</td>\n",
        "    </tr>\n",
        "    <tr>\n",
        "      <th>21</th>\n",
        "      <td> ENCFF834WRE</td>\n",
        "      <td> /replicates/aac3c45f-5748-4f4b-bdca-e012ed477453/</td>\n",
        "      <td> 15022</td>\n",
        "      <td> HANW6ADXX</td>\n",
        "      <td> 100</td>\n",
        "      <td> ENCODE:HiSeq2500</td>\n",
        "    </tr>\n",
        "    <tr>\n",
        "      <th>22</th>\n",
        "      <td> ENCFF528JFG</td>\n",
        "      <td> /replicates/9eda27a3-c132-4881-b4ef-35efbff0e273/</td>\n",
        "      <td> 15021</td>\n",
        "      <td> HANW6ADXX</td>\n",
        "      <td> 100</td>\n",
        "      <td> ENCODE:HiSeq2500</td>\n",
        "    </tr>\n",
        "    <tr>\n",
        "      <th>23</th>\n",
        "      <td> ENCFF094ZGK</td>\n",
        "      <td> /replicates/9461c201-0667-40a4-adc8-e5d89e0afa08/</td>\n",
        "      <td> 15012</td>\n",
        "      <td> HAM6KADXX</td>\n",
        "      <td> 100</td>\n",
        "      <td> ENCODE:HiSeq2500</td>\n",
        "    </tr>\n",
        "    <tr>\n",
        "      <th>24</th>\n",
        "      <td> ENCFF172XPK</td>\n",
        "      <td> /replicates/f0d3e862-756b-4e20-a712-99bcd3dc37f4/</td>\n",
        "      <td> 15011</td>\n",
        "      <td> HAM6KADXX</td>\n",
        "      <td> 100</td>\n",
        "      <td> ENCODE:HiSeq2500</td>\n",
        "    </tr>\n",
        "    <tr>\n",
        "      <th>25</th>\n",
        "      <td> ENCFF672PAZ</td>\n",
        "      <td> /replicates/f0d3e862-756b-4e20-a712-99bcd3dc37f4/</td>\n",
        "      <td> 15011</td>\n",
        "      <td> HAM6KADXX</td>\n",
        "      <td> 100</td>\n",
        "      <td> ENCODE:HiSeq2500</td>\n",
        "    </tr>\n",
        "    <tr>\n",
        "      <th>26</th>\n",
        "      <td> ENCFF372TIL</td>\n",
        "      <td> /replicates/9461c201-0667-40a4-adc8-e5d89e0afa08/</td>\n",
        "      <td> 15012</td>\n",
        "      <td> HAM6KADXX</td>\n",
        "      <td> 100</td>\n",
        "      <td> ENCODE:HiSeq2500</td>\n",
        "    </tr>\n",
        "    <tr>\n",
        "      <th>27</th>\n",
        "      <td> ENCFF348BYM</td>\n",
        "      <td> /replicates/43b2386d-c1c4-4fb7-8c9d-5349ae4279aa/</td>\n",
        "      <td> 15010</td>\n",
        "      <td> HAM6KADXX</td>\n",
        "      <td> 100</td>\n",
        "      <td> ENCODE:HiSeq2500</td>\n",
        "    </tr>\n",
        "    <tr>\n",
        "      <th>28</th>\n",
        "      <td> ENCFF739QUZ</td>\n",
        "      <td> /replicates/d6e186fa-099d-4100-9f53-fb16fd364a2f/</td>\n",
        "      <td> 15009</td>\n",
        "      <td> HAM6KADXX</td>\n",
        "      <td> 100</td>\n",
        "      <td> ENCODE:HiSeq2500</td>\n",
        "    </tr>\n",
        "    <tr>\n",
        "      <th>29</th>\n",
        "      <td> ENCFF051VXS</td>\n",
        "      <td> /replicates/d6e186fa-099d-4100-9f53-fb16fd364a2f/</td>\n",
        "      <td> 15009</td>\n",
        "      <td> HAM6KADXX</td>\n",
        "      <td> 100</td>\n",
        "      <td> ENCODE:HiSeq2500</td>\n",
        "    </tr>\n",
        "    <tr>\n",
        "      <th>30</th>\n",
        "      <td> ENCFF327YJQ</td>\n",
        "      <td> /replicates/43b2386d-c1c4-4fb7-8c9d-5349ae4279aa/</td>\n",
        "      <td> 15010</td>\n",
        "      <td> HAM6KADXX</td>\n",
        "      <td> 100</td>\n",
        "      <td> ENCODE:HiSeq2500</td>\n",
        "    </tr>\n",
        "  </tbody>\n",
        "</table>\n",
        "</div>"
       ],
       "metadata": {},
       "output_type": "pyout",
       "prompt_number": 21,
       "text": [
        "   file_accession                                          replicate  \\\n",
        "0     ENCFF635VBU  /replicates/02773643-83b5-4ecf-b903-f3b7cc3d4075/   \n",
        "1     ENCFF810MMJ  /replicates/4be20e21-6cdb-4563-9786-985109589e10/   \n",
        "2     ENCFF677ULG  /replicates/4be20e21-6cdb-4563-9786-985109589e10/   \n",
        "3     ENCFF956HCY  /replicates/02773643-83b5-4ecf-b903-f3b7cc3d4075/   \n",
        "4     ENCFF329ACL  /replicates/62b52dad-8690-4e49-9247-5375f70794bf/   \n",
        "5     ENCFF251LNG  /replicates/c96cad83-ae72-4ab6-9054-75865cef0a13/   \n",
        "6     ENCFF896COV  /replicates/c96cad83-ae72-4ab6-9054-75865cef0a13/   \n",
        "7     ENCFF236BUE  /replicates/bd583dac-77ab-4b0c-9f35-037ec609b933/   \n",
        "8     ENCFF360NRX  /replicates/5708c8ba-54c8-44a1-aafd-1bc179341a1a/   \n",
        "9     ENCFF070OPW  /replicates/bd583dac-77ab-4b0c-9f35-037ec609b933/   \n",
        "10    ENCFF477PIC  /replicates/5708c8ba-54c8-44a1-aafd-1bc179341a1a/   \n",
        "11    ENCFF714ZDW  /replicates/0518dba0-85b6-4bed-953d-44f68583af43/   \n",
        "12    ENCFF427WPK  /replicates/68aabdd2-3cde-4cf7-9eda-d60bca9a3d1d/   \n",
        "13    ENCFF917VEZ  /replicates/0518dba0-85b6-4bed-953d-44f68583af43/   \n",
        "14    ENCFF709FPA  /replicates/68aabdd2-3cde-4cf7-9eda-d60bca9a3d1d/   \n",
        "15    ENCFF237DCF  /replicates/8a60be9c-611b-421a-ac11-5df6257b778e/   \n",
        "16    ENCFF249AZE  /replicates/b7012f37-9985-44db-a5d8-eb02e8068b9d/   \n",
        "17    ENCFF820NAK  /replicates/8a60be9c-611b-421a-ac11-5df6257b778e/   \n",
        "18    ENCFF654OBR  /replicates/b7012f37-9985-44db-a5d8-eb02e8068b9d/   \n",
        "19    ENCFF198HBZ  /replicates/9eda27a3-c132-4881-b4ef-35efbff0e273/   \n",
        "20    ENCFF758NAG  /replicates/aac3c45f-5748-4f4b-bdca-e012ed477453/   \n",
        "21    ENCFF834WRE  /replicates/aac3c45f-5748-4f4b-bdca-e012ed477453/   \n",
        "22    ENCFF528JFG  /replicates/9eda27a3-c132-4881-b4ef-35efbff0e273/   \n",
        "23    ENCFF094ZGK  /replicates/9461c201-0667-40a4-adc8-e5d89e0afa08/   \n",
        "24    ENCFF172XPK  /replicates/f0d3e862-756b-4e20-a712-99bcd3dc37f4/   \n",
        "25    ENCFF672PAZ  /replicates/f0d3e862-756b-4e20-a712-99bcd3dc37f4/   \n",
        "26    ENCFF372TIL  /replicates/9461c201-0667-40a4-adc8-e5d89e0afa08/   \n",
        "27    ENCFF348BYM  /replicates/43b2386d-c1c4-4fb7-8c9d-5349ae4279aa/   \n",
        "28    ENCFF739QUZ  /replicates/d6e186fa-099d-4100-9f53-fb16fd364a2f/   \n",
        "29    ENCFF051VXS  /replicates/d6e186fa-099d-4100-9f53-fb16fd364a2f/   \n",
        "30    ENCFF327YJQ  /replicates/43b2386d-c1c4-4fb7-8c9d-5349ae4279aa/   \n",
        "\n",
        "   library_id flowcell_id  read_length          platform  \n",
        "0       15017   HANW6ADXX          100  ENCODE:HiSeq2500  \n",
        "1       15018   HANW6ADXX          100  ENCODE:HiSeq2500  \n",
        "2       15018   HANW6ADXX          100  ENCODE:HiSeq2500  \n",
        "3       15017   HANW6ADXX          100  ENCODE:HiSeq2500  \n",
        "4       15007   HAM6KADXX          100  ENCODE:HiSeq2500  \n",
        "5       15008   HAM6KADXX          100  ENCODE:HiSeq2500  \n",
        "6       15008   HAM6KADXX          100  ENCODE:HiSeq2500  \n",
        "7       15015   HANW6ADXX          100  ENCODE:HiSeq2500  \n",
        "8       15016   HANW6ADXX          100  ENCODE:HiSeq2500  \n",
        "9       15015   HANW6ADXX          100  ENCODE:HiSeq2500  \n",
        "10      15016   HANW6ADXX          100  ENCODE:HiSeq2500  \n",
        "11      15014   HANW6ADXX          100  ENCODE:HiSeq2500  \n",
        "12      15013   HANW6ADXX          100  ENCODE:HiSeq2500  \n",
        "13      15014   HANW6ADXX          100  ENCODE:HiSeq2500  \n",
        "14      15013   HANW6ADXX          100  ENCODE:HiSeq2500  \n",
        "15      15019   HANWAADXX          100  ENCODE:HiSeq2500  \n",
        "16      15020   HANWAADXX          100  ENCODE:HiSeq2500  \n",
        "17      15019   HANWAADXX          100  ENCODE:HiSeq2500  \n",
        "18      15020   HANWAADXX          100  ENCODE:HiSeq2500  \n",
        "19      15021   HANW6ADXX          100  ENCODE:HiSeq2500  \n",
        "20      15022   HANW6ADXX          100  ENCODE:HiSeq2500  \n",
        "21      15022   HANW6ADXX          100  ENCODE:HiSeq2500  \n",
        "22      15021   HANW6ADXX          100  ENCODE:HiSeq2500  \n",
        "23      15012   HAM6KADXX          100  ENCODE:HiSeq2500  \n",
        "24      15011   HAM6KADXX          100  ENCODE:HiSeq2500  \n",
        "25      15011   HAM6KADXX          100  ENCODE:HiSeq2500  \n",
        "26      15012   HAM6KADXX          100  ENCODE:HiSeq2500  \n",
        "27      15010   HAM6KADXX          100  ENCODE:HiSeq2500  \n",
        "28      15009   HAM6KADXX          100  ENCODE:HiSeq2500  \n",
        "29      15009   HAM6KADXX          100  ENCODE:HiSeq2500  \n",
        "30      15010   HAM6KADXX          100  ENCODE:HiSeq2500  "
       ]
      }
     ],
     "prompt_number": 21
    },
    {
     "cell_type": "code",
     "collapsed": false,
     "input": [
      "missing_info = _"
     ],
     "language": "python",
     "metadata": {},
     "outputs": [],
     "prompt_number": 22
    },
    {
     "cell_type": "code",
     "collapsed": false,
     "input": [
      "missing_info.to_csv('/tmp/missing_info.tsv', sep='\\t')"
     ],
     "language": "python",
     "metadata": {},
     "outputs": [],
     "prompt_number": 24
    },
    {
     "cell_type": "code",
     "collapsed": false,
     "input": [
      "ENCSR637NLF_libraries = ['ENCLB435TVJ',\n",
      "'ENCLB337IRK',\n",
      "'ENCLB863GTU',\n",
      "'ENCLB033OYZ',\n",
      "'ENCLB577KCS',\n",
      "'ENCLB950QWJ',\n",
      "'ENCLB219UWV',\n",
      "'ENCLB196QXY',\n",
      "'ENCLB430RUN',\n",
      "'ENCLB384GBY',\n",
      "'ENCLB030QYZ',\n",
      "'ENCLB721WMG',\n",
      "'ENCLB359XUW',\n",
      "'ENCLB807MQE',\n",
      "'ENCLB462UWC',\n",
      "'ENCLB296VEF',]"
     ],
     "language": "python",
     "metadata": {},
     "outputs": [],
     "prompt_number": 37
    },
    {
     "cell_type": "code",
     "collapsed": false,
     "input": [
      "replicates = ['6781c13c-74dd-47f6-b307-70fb205ee0e5',\n",
      "'c89394aa-5446-46fe-ac6a-f864ef0ad87a',\n",
      "'ff7fa72c-9706-4442-a686-45107cd71aa2',\n",
      "'6554da12-fe0e-438a-9376-2a16148e988a',\n",
      "'f02dced1-dcbd-4443-a762-0f7b3acd83f3',\n",
      "'95951f02-8282-4ed6-acea-08282928d1a3',\n",
      "'42675096-8c41-4ac7-88d5-9af2fc082788',\n",
      "'9d9ade1d-f76c-4c5c-a341-c6ea1af2d715',\n",
      "'9a8e1f0c-2719-4dae-b37d-18b19afa23ef',\n",
      "'cd4451f5-e4ba-479a-9e1f-0967f86cd80f',\n",
      "'f3660dcf-5c23-46b5-b076-666c6407e786',\n",
      "'ecfab60d-9d21-4893-9e01-ea09a5d49070',\n",
      "'e996e9c0-1780-4664-94e5-ca6044eec5b3',\n",
      "'36aee0ee-ecc7-4523-af37-a5f38268d07f',\n",
      "'27bf3b8e-33ff-4528-9c7c-337949e8a9ad',\n",
      "'b0347c85-d92d-4699-8275-302dfda24eab',\n",
      "'d21cf255-6ed1-44e1-8739-385a02bc4f96',\n",
      "'853b1b2a-2ab0-454b-ac99-3b884a8d5b56',\n",
      "'80a929b2-89ee-4f88-8f2e-e23a6da4684e',\n",
      "'15bf2818-7c36-49ec-84a7-0e51208b30c7',\n",
      "'f0b792c5-223a-455b-a9c7-31b3abc1b873',\n",
      "'251bab41-87a5-4da8-ada9-1356608ec753',\n",
      "'5d453b6b-c125-4596-ab0b-b90d38838583',\n",
      "'483d0b36-ee26-48a5-b0cc-ddb238cad935',\n",
      "'13f6d5b4-98be-4ce4-8d2b-0b21d4397b07',\n",
      "'58f91fe7-90a1-497c-98a3-05ffe32dd8e1',\n",
      "'bbfa0edb-7707-443b-a7eb-eb8fa1a40eab',\n",
      "'62b52dad-8690-4e49-9247-5375f70794bf',\n",
      "'c96cad83-ae72-4ab6-9054-75865cef0a13',\n",
      "'d6e186fa-099d-4100-9f53-fb16fd364a2f',\n",
      "'43b2386d-c1c4-4fb7-8c9d-5349ae4279aa',\n",
      "'f0d3e862-756b-4e20-a712-99bcd3dc37f4',\n",
      "'9461c201-0667-40a4-adc8-e5d89e0afa08',\n",
      "'68aabdd2-3cde-4cf7-9eda-d60bca9a3d1d',\n",
      "'0518dba0-85b6-4bed-953d-44f68583af43',\n",
      "'bd583dac-77ab-4b0c-9f35-037ec609b933',\n",
      "'5708c8ba-54c8-44a1-aafd-1bc179341a1a',\n",
      "'02773643-83b5-4ecf-b903-f3b7cc3d4075',\n",
      "'4be20e21-6cdb-4563-9786-985109589e10',\n",
      "'8a60be9c-611b-421a-ac11-5df6257b778e',\n",
      "'b7012f37-9985-44db-a5d8-eb02e8068b9d',\n",
      "'9eda27a3-c132-4881-b4ef-35efbff0e273',\n",
      "'aac3c45f-5748-4f4b-bdca-e012ed477453',\n",
      "'daf7cd9e-fc29-4c04-9efa-9af0602b7d79',\n",
      "'d0e9e1a9-1a41-4b16-b3a1-e051d7e7fb2a',\n",
      "'828492c0-33e6-4972-a92b-8a30b8bf25ce',\n",
      "'8d5da607-3c1c-4075-b472-66ab571dd094',\n",
      "'128d709d-cbb9-4b5d-bb50-4e61bd3d0591',\n",
      "'8afa34db-9d55-40de-a9ec-9ccd776ba6e5',\n",
      "'25103c7c-1bd8-4560-bec5-661ee4cc1c11',\n",
      "'24d9def0-82b2-4224-87f2-53b9b47bf95b',\n",
      "'ef3ed8d0-fecf-4da6-b212-700c7cb9c158',\n",
      "'643c5303-3cd9-4dc2-bdf4-1c536086bb9c',\n",
      "'80f30d6d-29b8-4f4a-9b43-5b6385ec3d21',\n",
      "'fd9215d9-d7fe-4b1e-b1b4-733cd189db8b',\n",
      "'2190c82c-106a-4958-b518-579d07a1eec9',\n",
      "'e4ecbe3e-58c4-496e-a305-12f6ac81adfd',\n",
      "'fbec104f-53bb-4cfc-988d-be9dea3e41e7',\n",
      "'85c25239-0136-4b97-886f-4c6f918dbab1',\n",
      "'f82947e2-8c12-4580-894c-31688ca2b7b8',\n",
      "'6a633e62-c7dd-404e-bcc7-781b285214ad',\n",
      "'9afd2e23-a0ef-4613-8670-5eeab4556890',\n",
      "'a3a77e8d-0256-47b8-a783-e83fff757979',\n",
      "'4a6e47fc-ed40-438e-9dcf-ff4590591ac1',\n",
      "'ecdb2640-13fb-4df1-9a41-0f9adea71ec3',\n",
      "'d3156e8f-662d-4a63-9ce4-ca2b6896c89e',\n",
      "'370f505a-4343-4423-af5f-68b7964fa0d8',\n",
      "'de67ec91-4d04-4272-b1fa-16bbae878754',\n",
      "'a562f979-6d64-4c62-acf9-a8ae1e88b70a',\n",
      "'01219079-d6b7-4859-aedb-d9a25d56abb1',\n",
      "'e54e1c65-b69c-403f-893a-cb5fd0355262',\n",
      "'00f6d928-79f3-4043-93f1-b75b4603de03',\n",
      "'267353ce-d997-4fbf-b914-79723107f23e',\n",
      "'96d02987-4fc3-495b-ab2a-85bb33dae9b7',\n",
      "'ef7023ba-3abd-464b-89b1-0b601c686528',\n",
      "'be891cec-a4f6-4cde-b8f8-d7f65ebe3877',\n",
      "'21f2fe05-1cb0-4ed2-82c4-b7f1302e84ce',\n",
      "'28c63afb-a6a7-4ae6-a38e-6fe97d509cf7',\n",
      "'4846df3f-03a7-4996-be65-24040330d033',\n",
      "'349aff01-23de-4c1d-a6a4-b4b0faeb4577',\n",
      "'3beba42b-47b6-4374-bf6f-42c5e2cc68eb',\n",
      "'c0affdb3-0da6-42ce-b8a2-d461feebf41f',\n",
      "'2e4c900d-ae4b-4265-baae-3c73d957bba0',\n",
      "'086b74a8-27b7-40d6-8a12-e1e3e6f71243',\n",
      "'2771cd04-6e8e-4d30-9dd5-e69560ffb1c0',\n",
      "'803fa8b7-120d-4c6b-9719-e42e7d4552eb',\n",
      "'8751514d-c39d-429d-aa26-a8a8ba3d4fb9',\n",
      "'7382df1e-5fc7-4f4d-8109-70da83854b77',\n",
      "'2afb45d2-c603-489d-a673-5d7ea253d47f',\n",
      "'12c48e05-1a92-46f0-827b-8409f3b842cc',\n",
      "'db9744b8-1860-484f-8fc3-d95ca1ee9f7b',\n",
      "'adf3c3d1-5d23-4e23-910d-00646c839756',\n",
      "'ce6f677c-c3d2-4288-aa64-f79c2b8b5d20',\n",
      "'78809d83-8bd0-4318-8f41-c4511d848b39',\n",
      "'98c554b6-5754-4cd3-b930-ff59f27d5f79',\n",
      "'033e8fc3-7e53-4f1f-a1c6-c1173754cde5',\n",
      "'be4f804f-0bdd-4b74-b5e7-66f356055ac1',\n",
      "'bc6a98b5-0831-49d0-a8ac-592c3e69234d',\n",
      "'d220fe2a-6407-49fb-b4b4-b09a9353247f',\n",
      "'f598d6cd-b4f6-4159-bd2b-940491486b75',\n",
      "'acfd8a4f-d76f-4d41-8024-8df7924cfbc4',\n",
      "'56750377-03c2-4468-863f-cec328d813b0',\n",
      "'c1e08070-8c89-43ee-9733-95fca62b6dad',\n",
      "'a9ced488-2ff9-4642-bc84-0cb7fd2b645c',\n",
      "'479d9bb6-45d8-412a-8b65-8aa8cedeceea',\n",
      "'3c9cddf2-eb3a-462e-8479-ea01629e5ecd',\n",
      "'f0a65e0b-7edf-4e7d-88ba-d57cb617d833',]"
     ],
     "language": "python",
     "metadata": {},
     "outputs": [],
     "prompt_number": 56
    },
    {
     "cell_type": "code",
     "collapsed": false,
     "input": [
      "def fix_read_length_from_replicates(replicates):\n",
      "    platform = {'Illumina HiSeq 2500': 'ENCODE:HiSeq2500'}\n",
      "    columns = ['file_accession', 'replicate', 'library_id', 'flowcell_id', 'read_length', 'platform']\n",
      "    results = []\n",
      "    for replicate_uuid in replicates:\n",
      "        replicate_object = server.get_json(replicate_uuid)\n",
      "        library_object = replicate_object['library']\n",
      "        aliases = library_object['aliases']\n",
      "        library_id = aliases[0].split(':')[1]\n",
      "        library = samples.models.Library.objects.get(id=library_id)\n",
      "        read_length = set()\n",
      "        for lane in library.lane_set.all():\n",
      "            read_length.add(lane.flowcell.read_length)\n",
      "        assert len(read_length) == 1\n",
      "        read_length = read_length.pop()\n",
      "        \n",
      "        updates = {}\n",
      "        if 'read_length' not in replicate_object:\n",
      "            updates['read_length'] = read_length\n",
      "            updates['read_length_units']='nt'\n",
      "            \n",
      "        #if 'platform' not in replicate_object:\n",
      "        #    updates['platform'] = platform[lane.flowcell.sequencer.model]\n",
      "        \n",
      "        if len(updates) > 0:\n",
      "            server.patch_json(replicate_object['@id'], updates)\n",
      "            \n",
      "        print(replicate_uuid, updates.items())\n",
      "\n",
      "fix_read_length_from_replicates(replicates)"
     ],
     "language": "python",
     "metadata": {},
     "outputs": [
      {
       "output_type": "stream",
       "stream": "stdout",
       "text": [
        "6781c13c-74dd-47f6-b307-70fb205ee0e5 [('read_length', 100), ('read_length_units', 'nt')]\n",
        "c89394aa-5446-46fe-ac6a-f864ef0ad87a"
       ]
      },
      {
       "output_type": "stream",
       "stream": "stdout",
       "text": [
        " [('read_length', 100), ('read_length_units', 'nt')]\n",
        "ff7fa72c-9706-4442-a686-45107cd71aa2"
       ]
      },
      {
       "output_type": "stream",
       "stream": "stdout",
       "text": [
        " [('read_length', 100), ('read_length_units', 'nt')]\n",
        "6554da12-fe0e-438a-9376-2a16148e988a"
       ]
      },
      {
       "output_type": "stream",
       "stream": "stdout",
       "text": [
        " [('read_length', 100), ('read_length_units', 'nt')]\n",
        "f02dced1-dcbd-4443-a762-0f7b3acd83f3"
       ]
      },
      {
       "output_type": "stream",
       "stream": "stdout",
       "text": [
        " [('read_length', 100), ('read_length_units', 'nt')]\n",
        "95951f02-8282-4ed6-acea-08282928d1a3"
       ]
      },
      {
       "output_type": "stream",
       "stream": "stdout",
       "text": [
        " [('read_length', 100), ('read_length_units', 'nt')]\n",
        "42675096-8c41-4ac7-88d5-9af2fc082788"
       ]
      },
      {
       "output_type": "stream",
       "stream": "stdout",
       "text": [
        " [('read_length', 100), ('read_length_units', 'nt')]\n",
        "9d9ade1d-f76c-4c5c-a341-c6ea1af2d715"
       ]
      },
      {
       "output_type": "stream",
       "stream": "stdout",
       "text": [
        " [('read_length', 100), ('read_length_units', 'nt')]\n",
        "9a8e1f0c-2719-4dae-b37d-18b19afa23ef"
       ]
      },
      {
       "output_type": "stream",
       "stream": "stdout",
       "text": [
        " [('read_length', 100), ('read_length_units', 'nt')]\n",
        "cd4451f5-e4ba-479a-9e1f-0967f86cd80f"
       ]
      },
      {
       "output_type": "stream",
       "stream": "stdout",
       "text": [
        " [('read_length', 100), ('read_length_units', 'nt')]\n",
        "f3660dcf-5c23-46b5-b076-666c6407e786"
       ]
      },
      {
       "output_type": "stream",
       "stream": "stdout",
       "text": [
        " [('read_length', 100), ('read_length_units', 'nt')]\n",
        "ecfab60d-9d21-4893-9e01-ea09a5d49070"
       ]
      },
      {
       "output_type": "stream",
       "stream": "stdout",
       "text": [
        " [('read_length', 100), ('read_length_units', 'nt')]\n",
        "e996e9c0-1780-4664-94e5-ca6044eec5b3"
       ]
      },
      {
       "output_type": "stream",
       "stream": "stdout",
       "text": [
        " [('read_length', 100), ('read_length_units', 'nt')]\n",
        "36aee0ee-ecc7-4523-af37-a5f38268d07f"
       ]
      },
      {
       "output_type": "stream",
       "stream": "stdout",
       "text": [
        " [('read_length', 100), ('read_length_units', 'nt')]\n",
        "27bf3b8e-33ff-4528-9c7c-337949e8a9ad"
       ]
      },
      {
       "output_type": "stream",
       "stream": "stdout",
       "text": [
        " [('read_length', 100), ('read_length_units', 'nt')]\n",
        "b0347c85-d92d-4699-8275-302dfda24eab"
       ]
      },
      {
       "output_type": "stream",
       "stream": "stdout",
       "text": [
        " [('read_length', 100), ('read_length_units', 'nt')]\n",
        "d21cf255-6ed1-44e1-8739-385a02bc4f96"
       ]
      },
      {
       "output_type": "stream",
       "stream": "stdout",
       "text": [
        " [('read_length', 100), ('read_length_units', 'nt')]\n",
        "853b1b2a-2ab0-454b-ac99-3b884a8d5b56"
       ]
      },
      {
       "output_type": "stream",
       "stream": "stdout",
       "text": [
        " [('read_length', 100), ('read_length_units', 'nt')]\n",
        "80a929b2-89ee-4f88-8f2e-e23a6da4684e"
       ]
      },
      {
       "output_type": "stream",
       "stream": "stdout",
       "text": [
        " [('read_length', 100), ('read_length_units', 'nt')]\n",
        "15bf2818-7c36-49ec-84a7-0e51208b30c7"
       ]
      },
      {
       "output_type": "stream",
       "stream": "stdout",
       "text": [
        " [('read_length', 100), ('read_length_units', 'nt')]\n",
        "f0b792c5-223a-455b-a9c7-31b3abc1b873"
       ]
      },
      {
       "output_type": "stream",
       "stream": "stdout",
       "text": [
        " [('read_length', 100), ('read_length_units', 'nt')]\n",
        "251bab41-87a5-4da8-ada9-1356608ec753"
       ]
      },
      {
       "output_type": "stream",
       "stream": "stdout",
       "text": [
        " [('read_length', 100), ('read_length_units', 'nt')]\n",
        "5d453b6b-c125-4596-ab0b-b90d38838583"
       ]
      },
      {
       "output_type": "stream",
       "stream": "stdout",
       "text": [
        " [('read_length', 100), ('read_length_units', 'nt')]\n",
        "483d0b36-ee26-48a5-b0cc-ddb238cad935"
       ]
      },
      {
       "output_type": "stream",
       "stream": "stdout",
       "text": [
        " [('read_length', 100), ('read_length_units', 'nt')]\n",
        "13f6d5b4-98be-4ce4-8d2b-0b21d4397b07"
       ]
      },
      {
       "output_type": "stream",
       "stream": "stdout",
       "text": [
        " [('read_length', 100), ('read_length_units', 'nt')]\n",
        "58f91fe7-90a1-497c-98a3-05ffe32dd8e1"
       ]
      },
      {
       "output_type": "stream",
       "stream": "stdout",
       "text": [
        " [('read_length', 100), ('read_length_units', 'nt')]\n",
        "bbfa0edb-7707-443b-a7eb-eb8fa1a40eab"
       ]
      },
      {
       "output_type": "stream",
       "stream": "stdout",
       "text": [
        " [('read_length', 100), ('read_length_units', 'nt')]\n",
        "62b52dad-8690-4e49-9247-5375f70794bf"
       ]
      },
      {
       "output_type": "stream",
       "stream": "stdout",
       "text": [
        " []\n",
        "c96cad83-ae72-4ab6-9054-75865cef0a13"
       ]
      },
      {
       "output_type": "stream",
       "stream": "stdout",
       "text": [
        " []\n",
        "d6e186fa-099d-4100-9f53-fb16fd364a2f"
       ]
      },
      {
       "output_type": "stream",
       "stream": "stdout",
       "text": [
        " []\n",
        "43b2386d-c1c4-4fb7-8c9d-5349ae4279aa"
       ]
      },
      {
       "output_type": "stream",
       "stream": "stdout",
       "text": [
        " []\n",
        "f0d3e862-756b-4e20-a712-99bcd3dc37f4"
       ]
      },
      {
       "output_type": "stream",
       "stream": "stdout",
       "text": [
        " []\n",
        "9461c201-0667-40a4-adc8-e5d89e0afa08"
       ]
      },
      {
       "output_type": "stream",
       "stream": "stdout",
       "text": [
        " []\n",
        "68aabdd2-3cde-4cf7-9eda-d60bca9a3d1d"
       ]
      },
      {
       "output_type": "stream",
       "stream": "stdout",
       "text": [
        " []\n",
        "0518dba0-85b6-4bed-953d-44f68583af43"
       ]
      },
      {
       "output_type": "stream",
       "stream": "stdout",
       "text": [
        " []\n",
        "bd583dac-77ab-4b0c-9f35-037ec609b933"
       ]
      },
      {
       "output_type": "stream",
       "stream": "stdout",
       "text": [
        " []\n",
        "5708c8ba-54c8-44a1-aafd-1bc179341a1a"
       ]
      },
      {
       "output_type": "stream",
       "stream": "stdout",
       "text": [
        " []\n",
        "02773643-83b5-4ecf-b903-f3b7cc3d4075"
       ]
      },
      {
       "output_type": "stream",
       "stream": "stdout",
       "text": [
        " []\n",
        "4be20e21-6cdb-4563-9786-985109589e10"
       ]
      },
      {
       "output_type": "stream",
       "stream": "stdout",
       "text": [
        " []\n",
        "8a60be9c-611b-421a-ac11-5df6257b778e"
       ]
      },
      {
       "output_type": "stream",
       "stream": "stdout",
       "text": [
        " []\n",
        "b7012f37-9985-44db-a5d8-eb02e8068b9d"
       ]
      },
      {
       "output_type": "stream",
       "stream": "stdout",
       "text": [
        " []\n",
        "9eda27a3-c132-4881-b4ef-35efbff0e273"
       ]
      },
      {
       "output_type": "stream",
       "stream": "stdout",
       "text": [
        " []\n",
        "aac3c45f-5748-4f4b-bdca-e012ed477453"
       ]
      },
      {
       "output_type": "stream",
       "stream": "stdout",
       "text": [
        " []\n",
        "daf7cd9e-fc29-4c04-9efa-9af0602b7d79"
       ]
      },
      {
       "output_type": "stream",
       "stream": "stdout",
       "text": [
        " []\n",
        "d0e9e1a9-1a41-4b16-b3a1-e051d7e7fb2a"
       ]
      },
      {
       "output_type": "stream",
       "stream": "stdout",
       "text": [
        " []\n",
        "828492c0-33e6-4972-a92b-8a30b8bf25ce"
       ]
      },
      {
       "output_type": "stream",
       "stream": "stdout",
       "text": [
        " []\n",
        "8d5da607-3c1c-4075-b472-66ab571dd094"
       ]
      },
      {
       "output_type": "stream",
       "stream": "stdout",
       "text": [
        " []\n",
        "128d709d-cbb9-4b5d-bb50-4e61bd3d0591"
       ]
      },
      {
       "output_type": "stream",
       "stream": "stdout",
       "text": [
        " []\n",
        "8afa34db-9d55-40de-a9ec-9ccd776ba6e5"
       ]
      },
      {
       "output_type": "stream",
       "stream": "stdout",
       "text": [
        " []\n",
        "25103c7c-1bd8-4560-bec5-661ee4cc1c11"
       ]
      },
      {
       "output_type": "stream",
       "stream": "stdout",
       "text": [
        " []\n",
        "24d9def0-82b2-4224-87f2-53b9b47bf95b"
       ]
      },
      {
       "output_type": "stream",
       "stream": "stdout",
       "text": [
        " []\n",
        "ef3ed8d0-fecf-4da6-b212-700c7cb9c158"
       ]
      },
      {
       "output_type": "stream",
       "stream": "stdout",
       "text": [
        " []\n",
        "643c5303-3cd9-4dc2-bdf4-1c536086bb9c"
       ]
      },
      {
       "output_type": "stream",
       "stream": "stdout",
       "text": [
        " []\n",
        "80f30d6d-29b8-4f4a-9b43-5b6385ec3d21"
       ]
      },
      {
       "output_type": "stream",
       "stream": "stdout",
       "text": [
        " []\n",
        "fd9215d9-d7fe-4b1e-b1b4-733cd189db8b"
       ]
      },
      {
       "output_type": "stream",
       "stream": "stdout",
       "text": [
        " []\n",
        "2190c82c-106a-4958-b518-579d07a1eec9"
       ]
      },
      {
       "output_type": "stream",
       "stream": "stdout",
       "text": [
        " []\n",
        "e4ecbe3e-58c4-496e-a305-12f6ac81adfd"
       ]
      },
      {
       "output_type": "stream",
       "stream": "stdout",
       "text": [
        " []\n",
        "fbec104f-53bb-4cfc-988d-be9dea3e41e7"
       ]
      },
      {
       "output_type": "stream",
       "stream": "stdout",
       "text": [
        " []\n",
        "85c25239-0136-4b97-886f-4c6f918dbab1"
       ]
      },
      {
       "output_type": "stream",
       "stream": "stdout",
       "text": [
        " []\n",
        "f82947e2-8c12-4580-894c-31688ca2b7b8"
       ]
      },
      {
       "output_type": "stream",
       "stream": "stdout",
       "text": [
        " []\n",
        "6a633e62-c7dd-404e-bcc7-781b285214ad"
       ]
      },
      {
       "output_type": "stream",
       "stream": "stdout",
       "text": [
        " []\n",
        "9afd2e23-a0ef-4613-8670-5eeab4556890"
       ]
      },
      {
       "output_type": "stream",
       "stream": "stdout",
       "text": [
        " []\n",
        "a3a77e8d-0256-47b8-a783-e83fff757979"
       ]
      },
      {
       "output_type": "stream",
       "stream": "stdout",
       "text": [
        " []\n",
        "4a6e47fc-ed40-438e-9dcf-ff4590591ac1"
       ]
      },
      {
       "output_type": "stream",
       "stream": "stdout",
       "text": [
        " []\n",
        "ecdb2640-13fb-4df1-9a41-0f9adea71ec3"
       ]
      },
      {
       "output_type": "stream",
       "stream": "stdout",
       "text": [
        " []\n",
        "d3156e8f-662d-4a63-9ce4-ca2b6896c89e"
       ]
      },
      {
       "output_type": "stream",
       "stream": "stdout",
       "text": [
        " []\n",
        "370f505a-4343-4423-af5f-68b7964fa0d8"
       ]
      },
      {
       "output_type": "stream",
       "stream": "stdout",
       "text": [
        " []\n",
        "de67ec91-4d04-4272-b1fa-16bbae878754"
       ]
      },
      {
       "output_type": "stream",
       "stream": "stdout",
       "text": [
        " [('read_length', 100), ('read_length_units', 'nt')]\n",
        "a562f979-6d64-4c62-acf9-a8ae1e88b70a"
       ]
      },
      {
       "output_type": "stream",
       "stream": "stdout",
       "text": [
        " [('read_length', 100), ('read_length_units', 'nt')]\n",
        "01219079-d6b7-4859-aedb-d9a25d56abb1"
       ]
      },
      {
       "output_type": "stream",
       "stream": "stdout",
       "text": [
        " [('read_length', 100), ('read_length_units', 'nt')]\n",
        "e54e1c65-b69c-403f-893a-cb5fd0355262"
       ]
      },
      {
       "output_type": "stream",
       "stream": "stdout",
       "text": [
        " [('read_length', 100), ('read_length_units', 'nt')]\n",
        "00f6d928-79f3-4043-93f1-b75b4603de03"
       ]
      },
      {
       "output_type": "stream",
       "stream": "stdout",
       "text": [
        " [('read_length', 100), ('read_length_units', 'nt')]\n",
        "267353ce-d997-4fbf-b914-79723107f23e"
       ]
      },
      {
       "output_type": "stream",
       "stream": "stdout",
       "text": [
        " [('read_length', 100), ('read_length_units', 'nt')]\n",
        "96d02987-4fc3-495b-ab2a-85bb33dae9b7"
       ]
      },
      {
       "output_type": "stream",
       "stream": "stdout",
       "text": [
        " [('read_length', 100), ('read_length_units', 'nt')]\n",
        "ef7023ba-3abd-464b-89b1-0b601c686528"
       ]
      },
      {
       "output_type": "stream",
       "stream": "stdout",
       "text": [
        " [('read_length', 100), ('read_length_units', 'nt')]\n",
        "be891cec-a4f6-4cde-b8f8-d7f65ebe3877"
       ]
      },
      {
       "output_type": "stream",
       "stream": "stdout",
       "text": [
        " [('read_length', 100), ('read_length_units', 'nt')]\n",
        "21f2fe05-1cb0-4ed2-82c4-b7f1302e84ce"
       ]
      },
      {
       "output_type": "stream",
       "stream": "stdout",
       "text": [
        " [('read_length', 100), ('read_length_units', 'nt')]\n",
        "28c63afb-a6a7-4ae6-a38e-6fe97d509cf7"
       ]
      },
      {
       "output_type": "stream",
       "stream": "stdout",
       "text": [
        " [('read_length', 100), ('read_length_units', 'nt')]\n",
        "4846df3f-03a7-4996-be65-24040330d033"
       ]
      },
      {
       "output_type": "stream",
       "stream": "stdout",
       "text": [
        " [('read_length', 100), ('read_length_units', 'nt')]\n",
        "349aff01-23de-4c1d-a6a4-b4b0faeb4577"
       ]
      },
      {
       "output_type": "stream",
       "stream": "stdout",
       "text": [
        " [('read_length', 100), ('read_length_units', 'nt')]\n",
        "3beba42b-47b6-4374-bf6f-42c5e2cc68eb"
       ]
      },
      {
       "output_type": "stream",
       "stream": "stdout",
       "text": [
        " [('read_length', 100), ('read_length_units', 'nt')]\n",
        "c0affdb3-0da6-42ce-b8a2-d461feebf41f"
       ]
      },
      {
       "output_type": "stream",
       "stream": "stdout",
       "text": [
        " [('read_length', 100), ('read_length_units', 'nt')]\n",
        "2e4c900d-ae4b-4265-baae-3c73d957bba0"
       ]
      },
      {
       "output_type": "stream",
       "stream": "stdout",
       "text": [
        " [('read_length', 100), ('read_length_units', 'nt')]\n",
        "086b74a8-27b7-40d6-8a12-e1e3e6f71243"
       ]
      },
      {
       "output_type": "stream",
       "stream": "stdout",
       "text": [
        " [('read_length', 100), ('read_length_units', 'nt')]\n",
        "2771cd04-6e8e-4d30-9dd5-e69560ffb1c0"
       ]
      },
      {
       "output_type": "stream",
       "stream": "stdout",
       "text": [
        " [('read_length', 100), ('read_length_units', 'nt')]\n",
        "803fa8b7-120d-4c6b-9719-e42e7d4552eb"
       ]
      },
      {
       "output_type": "stream",
       "stream": "stdout",
       "text": [
        " [('read_length', 100), ('read_length_units', 'nt')]\n",
        "8751514d-c39d-429d-aa26-a8a8ba3d4fb9"
       ]
      },
      {
       "output_type": "stream",
       "stream": "stdout",
       "text": [
        " [('read_length', 100), ('read_length_units', 'nt')]\n",
        "7382df1e-5fc7-4f4d-8109-70da83854b77"
       ]
      },
      {
       "output_type": "stream",
       "stream": "stdout",
       "text": [
        " [('read_length', 100), ('read_length_units', 'nt')]\n",
        "2afb45d2-c603-489d-a673-5d7ea253d47f"
       ]
      },
      {
       "output_type": "stream",
       "stream": "stdout",
       "text": [
        " [('read_length', 100), ('read_length_units', 'nt')]\n",
        "12c48e05-1a92-46f0-827b-8409f3b842cc"
       ]
      },
      {
       "output_type": "stream",
       "stream": "stdout",
       "text": [
        " [('read_length', 100), ('read_length_units', 'nt')]\n",
        "db9744b8-1860-484f-8fc3-d95ca1ee9f7b"
       ]
      },
      {
       "output_type": "stream",
       "stream": "stdout",
       "text": [
        " [('read_length', 100), ('read_length_units', 'nt')]\n",
        "adf3c3d1-5d23-4e23-910d-00646c839756"
       ]
      },
      {
       "output_type": "stream",
       "stream": "stdout",
       "text": [
        " []\n",
        "ce6f677c-c3d2-4288-aa64-f79c2b8b5d20"
       ]
      },
      {
       "output_type": "stream",
       "stream": "stdout",
       "text": [
        " []\n",
        "78809d83-8bd0-4318-8f41-c4511d848b39"
       ]
      },
      {
       "output_type": "stream",
       "stream": "stdout",
       "text": [
        " []\n",
        "98c554b6-5754-4cd3-b930-ff59f27d5f79"
       ]
      },
      {
       "output_type": "stream",
       "stream": "stdout",
       "text": [
        " []\n",
        "033e8fc3-7e53-4f1f-a1c6-c1173754cde5"
       ]
      },
      {
       "output_type": "stream",
       "stream": "stdout",
       "text": [
        " []\n",
        "be4f804f-0bdd-4b74-b5e7-66f356055ac1"
       ]
      },
      {
       "output_type": "stream",
       "stream": "stdout",
       "text": [
        " []\n",
        "bc6a98b5-0831-49d0-a8ac-592c3e69234d"
       ]
      },
      {
       "output_type": "stream",
       "stream": "stdout",
       "text": [
        " []\n",
        "d220fe2a-6407-49fb-b4b4-b09a9353247f"
       ]
      },
      {
       "output_type": "stream",
       "stream": "stdout",
       "text": [
        " []\n",
        "f598d6cd-b4f6-4159-bd2b-940491486b75"
       ]
      },
      {
       "output_type": "stream",
       "stream": "stdout",
       "text": [
        " []\n",
        "acfd8a4f-d76f-4d41-8024-8df7924cfbc4"
       ]
      },
      {
       "output_type": "stream",
       "stream": "stdout",
       "text": [
        " []\n",
        "56750377-03c2-4468-863f-cec328d813b0"
       ]
      },
      {
       "output_type": "stream",
       "stream": "stdout",
       "text": [
        " []\n",
        "c1e08070-8c89-43ee-9733-95fca62b6dad"
       ]
      },
      {
       "output_type": "stream",
       "stream": "stdout",
       "text": [
        " []\n",
        "a9ced488-2ff9-4642-bc84-0cb7fd2b645c"
       ]
      },
      {
       "output_type": "stream",
       "stream": "stdout",
       "text": [
        " []\n",
        "479d9bb6-45d8-412a-8b65-8aa8cedeceea"
       ]
      },
      {
       "output_type": "stream",
       "stream": "stdout",
       "text": [
        " []\n",
        "3c9cddf2-eb3a-462e-8479-ea01629e5ecd"
       ]
      },
      {
       "output_type": "stream",
       "stream": "stdout",
       "text": [
        " []\n",
        "f0a65e0b-7edf-4e7d-88ba-d57cb617d833"
       ]
      },
      {
       "output_type": "stream",
       "stream": "stdout",
       "text": [
        " []\n"
       ]
      }
     ],
     "prompt_number": 58
    },
    {
     "cell_type": "code",
     "collapsed": false,
     "input": [],
     "language": "python",
     "metadata": {},
     "outputs": []
    }
   ],
   "metadata": {}
  }
 ]
}