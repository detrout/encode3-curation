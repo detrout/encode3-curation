{
 "metadata": {
  "name": ""
 },
 "nbformat": 3,
 "nbformat_minor": 0,
 "worksheets": [
  {
   "cells": [
    {
     "cell_type": "heading",
     "level": 1,
     "metadata": {},
     "source": [
      "Introduction"
     ]
    },
    {
     "cell_type": "markdown",
     "metadata": {},
     "source": [
      "I needed to explore how the objects provided by the ENCODE 3 DCC's encoded submission site fit together. This notebook shows some of my initial queries as I tried to work out how to connect aliases attached to encode libraries for a particular dataset."
     ]
    },
    {
     "cell_type": "heading",
     "level": 2,
     "metadata": {},
     "source": [
      "Setup"
     ]
    },
    {
     "cell_type": "markdown",
     "metadata": {},
     "source": [
      "Setup the python environment."
     ]
    },
    {
     "cell_type": "code",
     "collapsed": false,
     "input": [
      "from __future__ import print_function"
     ],
     "language": "python",
     "metadata": {},
     "outputs": [],
     "prompt_number": 1
    },
    {
     "cell_type": "code",
     "collapsed": false,
     "input": [
      "from htsworkflow.submission.encoded import ENCODED\n",
      "from htsworkflow.util.rdfhelp import get_model, dump_model\n",
      "from htsworkflow.util.rdfjsonld import load_into_model"
     ],
     "language": "python",
     "metadata": {},
     "outputs": [],
     "prompt_number": 2
    },
    {
     "cell_type": "code",
     "collapsed": false,
     "input": [
      "%load_ext rdfmagic"
     ],
     "language": "python",
     "metadata": {},
     "outputs": [],
     "prompt_number": 3
    },
    {
     "cell_type": "markdown",
     "metadata": {},
     "source": [
      "This is some initialization code for my extension <a href=\"https://github.com/detrout/rdfmagic\">rdfmagic</a>. It provides a short alias name for the long URIs that RDF likes. I can use the prefixes in the sparql query magic, and the extension uses them to abbreviate the display of the query."
     ]
    },
    {
     "cell_type": "code",
     "collapsed": false,
     "input": [
      "# encoded schemas\n",
      "%addns experiment http://submit.encodedcc.org/profiles/experiment.json#\n",
      "%addns dataset http://submit.encodedcc.org/profiles/dataset.json#\n",
      "%addns file http://submit.encodedcc.org/profiles/file.json#\n",
      "%addns library http://submit.encodedcc.org/profiles/library.json#\n",
      "%addns replicate http://submit.encodedcc.org/profiles/replicate.json#\n",
      "\n",
      "# encoded links to objects\n",
      "%addns experiments http://submit.encodedcc.org/experiments/\n",
      "%addns files http://submit.encodedcc.org/files/\n",
      "%addns replicates http://submit.encodedcc.org/replicates/\n",
      "%addns libraries http://submit.encodedcc.org/libraries/\n",
      "    \n",
      "# htsw schemas\n",
      "%addns htsw http://jumpgate.caltech.edu/wiki/LibraryOntology#"
     ],
     "language": "python",
     "metadata": {},
     "outputs": [],
     "prompt_number": 4
    },
    {
     "cell_type": "code",
     "collapsed": false,
     "input": [
      "server = ENCODED('submit.encodedcc.org')\n",
      "server.load_netrc()"
     ],
     "language": "python",
     "metadata": {},
     "outputs": [],
     "prompt_number": 5
    },
    {
     "cell_type": "code",
     "collapsed": false,
     "input": [
      "model = get_model(use_contexts=False)"
     ],
     "language": "python",
     "metadata": {},
     "outputs": [],
     "prompt_number": 6
    },
    {
     "cell_type": "code",
     "collapsed": false,
     "input": [
      "def load_jsonld(model, url, **kwargs):\n",
      "    load_into_model(model, server.get_jsonld(url, **kwargs))"
     ],
     "language": "python",
     "metadata": {},
     "outputs": [],
     "prompt_number": 7
    },
    {
     "cell_type": "heading",
     "level": 1,
     "metadata": {},
     "source": [
      "Load Data"
     ]
    },
    {
     "cell_type": "code",
     "collapsed": false,
     "input": [
      "load_jsonld(model, '/datasets/ENCSR171CRK', Embed=False)"
     ],
     "language": "python",
     "metadata": {},
     "outputs": [],
     "prompt_number": 8
    },
    {
     "cell_type": "markdown",
     "metadata": {},
     "source": [
      "Once we load our datasets, lets load the libraries they linked to."
     ]
    },
    {
     "cell_type": "code",
     "collapsed": false,
     "input": [
      "%%sparql -m model -o libraries\n",
      "select distinct ?exp ?lib\n",
      "where {\n",
      "  ?exp experiment:replicates ?rep .\n",
      "  ?rep replicate:library ?lib .\n",
      "}"
     ],
     "language": "python",
     "metadata": {},
     "outputs": [],
     "prompt_number": 9
    },
    {
     "cell_type": "code",
     "collapsed": false,
     "input": [
      "for row in libraries:\n",
      "    print('Loading: {}'.format(str(row['lib'])))\n",
      "    load_jsonld(model, str(row['lib']), Embed=False)"
     ],
     "language": "python",
     "metadata": {},
     "outputs": [
      {
       "output_type": "stream",
       "stream": "stdout",
       "text": [
        "Loading: http://submit.encodedcc.org/libraries/ENCLB357ZZZ/\n",
        "Loading: http://submit.encodedcc.org/libraries/ENCLB359ZZZ/"
       ]
      },
      {
       "output_type": "stream",
       "stream": "stdout",
       "text": [
        "\n",
        "Loading: http://submit.encodedcc.org/libraries/ENCLB358ZZZ/"
       ]
      },
      {
       "output_type": "stream",
       "stream": "stdout",
       "text": [
        "\n",
        "Loading: http://submit.encodedcc.org/libraries/ENCLB356ZZZ/"
       ]
      },
      {
       "output_type": "stream",
       "stream": "stdout",
       "text": [
        "\n"
       ]
      }
     ],
     "prompt_number": 10
    },
    {
     "cell_type": "markdown",
     "metadata": {},
     "source": [
      "Save the model locally for my own investigation, as some times I find it useful to just page through the turtle dump of an RDF model to look for relationships that might be useful."
     ]
    },
    {
     "cell_type": "code",
     "collapsed": false,
     "input": [
      "dump_model(model, open('/tmp/encode-datasets.turtle','w'))"
     ],
     "language": "python",
     "metadata": {},
     "outputs": [],
     "prompt_number": 11
    },
    {
     "cell_type": "heading",
     "level": 1,
     "metadata": {},
     "source": [
      "Discovery"
     ]
    },
    {
     "cell_type": "heading",
     "level": 2,
     "metadata": {},
     "source": [
      "list files"
     ]
    },
    {
     "cell_type": "markdown",
     "metadata": {},
     "source": [
      "Find files by looking for objects with a file format."
     ]
    },
    {
     "cell_type": "code",
     "collapsed": false,
     "input": [
      "%%sparql -m model\n",
      "select distinct ?file ?file_format\n",
      "where {\n",
      "  ?file file:file_format ?file_format .\n",
      "}"
     ],
     "language": "python",
     "metadata": {},
     "outputs": [
      {
       "html": [
        "<table><tr><td>file</td><td>file_format</td></tr><tr><td><a href=\"http://submit.encodedcc.org/files/ENCFF001ICC/\">files:ENCFF001ICC/</a></td><td>bigWig</td></tr><tr><td><a href=\"http://submit.encodedcc.org/files/ENCFF001ICD/\">files:ENCFF001ICD/</a></td><td>bigWig</td></tr><tr><td><a href=\"http://submit.encodedcc.org/files/ENCFF001ICE/\">files:ENCFF001ICE/</a></td><td>bam</td></tr><tr><td><a href=\"http://submit.encodedcc.org/files/ENCFF001ICF/\">files:ENCFF001ICF/</a></td><td>bam</td></tr><tr><td><a href=\"http://submit.encodedcc.org/files/ENCFF001ICG/\">files:ENCFF001ICG/</a></td><td>bigWig</td></tr><tr><td><a href=\"http://submit.encodedcc.org/files/ENCFF001ICH/\">files:ENCFF001ICH/</a></td><td>bigWig</td></tr><tr><td><a href=\"http://submit.encodedcc.org/files/ENCFF001ICI/\">files:ENCFF001ICI/</a></td><td>fastq</td></tr><tr><td><a href=\"http://submit.encodedcc.org/files/ENCFF001ICJ/\">files:ENCFF001ICJ/</a></td><td>fastq</td></tr><tr><td><a href=\"http://submit.encodedcc.org/files/ENCFF001ICK/\">files:ENCFF001ICK/</a></td><td>fastq</td></tr><tr><td><a href=\"http://submit.encodedcc.org/files/ENCFF001ICL/\">files:ENCFF001ICL/</a></td><td>bam</td></tr><tr><td><a href=\"http://submit.encodedcc.org/files/ENCFF001ICM/\">files:ENCFF001ICM/</a></td><td>bigWig</td></tr><tr><td><a href=\"http://submit.encodedcc.org/files/ENCFF001ICN/\">files:ENCFF001ICN/</a></td><td>bigWig</td></tr><tr><td><a href=\"http://submit.encodedcc.org/files/ENCFF001ICO/\">files:ENCFF001ICO/</a></td><td>bam</td></tr><tr><td><a href=\"http://submit.encodedcc.org/files/ENCFF001ICP/\">files:ENCFF001ICP/</a></td><td>fastq</td></tr><tr><td><a href=\"http://submit.encodedcc.org/files/ENCFF001ICQ/\">files:ENCFF001ICQ/</a></td><td>bigWig</td></tr><tr><td><a href=\"http://submit.encodedcc.org/files/ENCFF001ICR/\">files:ENCFF001ICR/</a></td><td>bigWig</td></tr><tr><td><a href=\"http://submit.encodedcc.org/files/ENCFF001ICW/\">files:ENCFF001ICW/</a></td><td>fastq</td></tr><tr><td><a href=\"http://submit.encodedcc.org/files/ENCFF001IDD/\">files:ENCFF001IDD/</a></td><td>fastq</td></tr><tr><td><a href=\"http://submit.encodedcc.org/files/ENCFF001IDY/\">files:ENCFF001IDY/</a></td><td>fastq</td></tr><tr><td><a href=\"http://submit.encodedcc.org/files/ENCFF001IDZ/\">files:ENCFF001IDZ/</a></td><td>fastq</td></tr></table>"
       ],
       "metadata": {},
       "output_type": "pyout",
       "prompt_number": 12,
       "text": [
        "<rdfmagic.LibRdfResults at 0x7f6ee407f050>"
       ]
      }
     ],
     "prompt_number": 12
    },
    {
     "cell_type": "heading",
     "level": 2,
     "metadata": {},
     "source": [
      "file attributes"
     ]
    },
    {
     "cell_type": "markdown",
     "metadata": {},
     "source": [
      "What property and objects do files have?"
     ]
    },
    {
     "cell_type": "code",
     "collapsed": false,
     "input": [
      "%%sparql -m model\n",
      "select distinct ?p ?o\n",
      "where {\n",
      "  <http://submit.encodedcc.org/files/ENCFF001IDD/> ?p ?o .\n",
      "}"
     ],
     "language": "python",
     "metadata": {},
     "outputs": [
      {
       "html": [
        "<table><tr><td>p</td><td>o</td></tr><tr><td><a href=\"http://www.w3.org/1999/02/22-rdf-syntax-ns#type\">rdf:type</a></td><td><a href=\"http://submit.encodedcc.org/profiles/file.json#file\">file:file</a></td></tr><tr><td><a href=\"http://www.w3.org/1999/02/22-rdf-syntax-ns#type\">rdf:type</a></td><td><a href=\"http://submit.encodedcc.org/profiles/file.json#item\">file:item</a></td></tr><tr><td><a href=\"http://submit.encodedcc.org/profiles/file.json#accession\">file:accession</a></td><td>ENCFF001IDD</td></tr><tr><td><a href=\"http://submit.encodedcc.org/profiles/file.json#dataset\">file:dataset</a></td><td><a href=\"http://submit.encodedcc.org/experiments/ENCSR000AIA/\">experiments:ENCSR000AIA/</a></td></tr><tr><td><a href=\"http://submit.encodedcc.org/profiles/file.json#date_created\">file:date_created</a></td><td>2012-04-17</td></tr><tr><td><a href=\"http://submit.encodedcc.org/profiles/file.json#download_path\">file:download_path</a></td><td>2013/4/18/ENCFF001IDD.fastq.gz</td></tr><tr><td><a href=\"http://submit.encodedcc.org/profiles/file.json#file_format\">file:file_format</a></td><td>fastq</td></tr><tr><td><a href=\"http://submit.encodedcc.org/profiles/file.json#md5sum\">file:md5sum</a></td><td>d1cbc37896d3b5ca149ab523e21332c3</td></tr><tr><td><a href=\"http://submit.encodedcc.org/profiles/file.json#output_type\">file:output_type</a></td><td>reads</td></tr><tr><td><a href=\"http://submit.encodedcc.org/profiles/file.json#paired_end\">file:paired_end</a></td><td>2</td></tr><tr><td><a href=\"http://submit.encodedcc.org/profiles/file.json#replicate\">file:replicate</a></td><td><a href=\"http://submit.encodedcc.org/replicates/1ffc79a0-0db7-4e83-80e5-d3737f1b2584/\">replicates:1ffc79a0-0db7-4e83-80e5-d3737f1b2584/</a></td></tr><tr><td><a href=\"http://submit.encodedcc.org/profiles/file.json#schema_version\">file:schema_version</a></td><td>1</td></tr><tr><td><a href=\"http://submit.encodedcc.org/profiles/file.json#status\">file:status</a></td><td>CURRENT</td></tr><tr><td><a href=\"http://submit.encodedcc.org/profiles/file.json#submitted_by\">file:submitted_by</a></td><td><a href=\"http://submit.encodedcc.org/users/bc5b62f7-ce28-4a1e-b6b3-81c9c5a86d7a/\">http://submit.encodedcc.org/users/bc5b62f7-ce28-4a1e-b6b3-81c9c5a86d7a/</a></td></tr><tr><td><a href=\"http://submit.encodedcc.org/profiles/file.json#submitted_file_name\">file:submitted_file_name</a></td><td>mm9/wgEncodeCaltechRnaSeq/wgEncodeCaltechRnaSeqC2c12C3hFR2x75Th131Il200E2p60hFastqRd2Rep1.fastq.gz</td></tr><tr><td><a href=\"http://submit.encodedcc.org/profiles/file.json#uuid\">file:uuid</a></td><td>a72b5e72-5367-4a4a-9626-73a4405e255b</td></tr></table>"
       ],
       "metadata": {},
       "output_type": "pyout",
       "prompt_number": 13,
       "text": [
        "<rdfmagic.LibRdfResults at 0x7f6ee40b1510>"
       ]
      }
     ],
     "prompt_number": 13
    },
    {
     "cell_type": "heading",
     "level": 2,
     "metadata": {},
     "source": [
      "File Attributes"
     ]
    },
    {
     "cell_type": "markdown",
     "metadata": {},
     "source": [
      "What links to a file object?"
     ]
    },
    {
     "cell_type": "code",
     "collapsed": false,
     "input": [
      "%%sparql -m model\n",
      "select distinct ?s ?p\n",
      "where {\n",
      "  ?s ?p <http://submit.encodedcc.org/files/ENCFF001IDD/> .\n",
      "}"
     ],
     "language": "python",
     "metadata": {},
     "outputs": [
      {
       "html": [
        "<table><tr><td>s</td><td>p</td></tr><tr><td><a href=\"http://submit.encodedcc.org/datasets/ENCSR171CRK/\">http://submit.encodedcc.org/datasets/ENCSR171CRK/</a></td><td><a href=\"http://submit.encodedcc.org/profiles/dataset.json#files\">dataset:files</a></td></tr><tr><td><a href=\"http://submit.encodedcc.org/experiments/ENCSR000AIA/\">experiments:ENCSR000AIA/</a></td><td><a href=\"http://submit.encodedcc.org/profiles/experiment.json#files\">experiment:files</a></td></tr><tr><td><a href=\"http://submit.encodedcc.org/experiments/ENCSR000AIA/\">experiments:ENCSR000AIA/</a></td><td><a href=\"http://submit.encodedcc.org/profiles/experiment.json#original_files\">experiment:original_files</a></td></tr></table>"
       ],
       "metadata": {},
       "output_type": "pyout",
       "prompt_number": 14,
       "text": [
        "<rdfmagic.LibRdfResults at 0x7f6ee40b1990>"
       ]
      }
     ],
     "prompt_number": 14
    },
    {
     "cell_type": "heading",
     "level": 2,
     "metadata": {},
     "source": [
      "Experiment Attributes"
     ]
    },
    {
     "cell_type": "markdown",
     "metadata": {},
     "source": [
      "Experiments sound useful, so what information is attached to an experiment?"
     ]
    },
    {
     "cell_type": "code",
     "collapsed": false,
     "input": [
      "%%sparql -m model\n",
      "select distinct ?p ?o\n",
      "where {\n",
      "  <http://submit.encodedcc.org/experiments/ENCSR000AIA/> ?p ?o  .\n",
      "}"
     ],
     "language": "python",
     "metadata": {},
     "outputs": [
      {
       "html": [
        "<table><tr><td>p</td><td>o</td></tr><tr><td><a href=\"http://www.w3.org/1999/02/22-rdf-syntax-ns#type\">rdf:type</a></td><td><a href=\"http://submit.encodedcc.org/profiles/experiment.json#experiment\">experiment:experiment</a></td></tr><tr><td><a href=\"http://www.w3.org/1999/02/22-rdf-syntax-ns#type\">rdf:type</a></td><td><a href=\"http://submit.encodedcc.org/profiles/experiment.json#dataset\">experiment:dataset</a></td></tr><tr><td><a href=\"http://www.w3.org/1999/02/22-rdf-syntax-ns#type\">rdf:type</a></td><td><a href=\"http://submit.encodedcc.org/profiles/experiment.json#item\">experiment:item</a></td></tr><tr><td><a href=\"http://submit.encodedcc.org/profiles/experiment.json#accession\">experiment:accession</a></td><td>ENCSR000AIA</td></tr><tr><td><a href=\"http://submit.encodedcc.org/profiles/experiment.json#assay_term_id\">experiment:assay_term_id</a></td><td><a href=\"http://purl.obolibrary.org/obo/OBI_0001271\">http://purl.obolibrary.org/obo/OBI_0001271</a></td></tr><tr><td><a href=\"http://submit.encodedcc.org/profiles/experiment.json#assay_term_name\">experiment:assay_term_name</a></td><td>RNA-seq</td></tr><tr><td><a href=\"http://submit.encodedcc.org/profiles/experiment.json#award\">experiment:award</a></td><td><a href=\"http://submit.encodedcc.org/awards/RC2HG005573/\">http://submit.encodedcc.org/awards/RC2HG005573/</a></td></tr><tr><td><a href=\"http://submit.encodedcc.org/profiles/experiment.json#biosample_term_id\">experiment:biosample_term_id</a></td><td>NTR:0000710</td></tr><tr><td><a href=\"http://submit.encodedcc.org/profiles/experiment.json#biosample_term_name\">experiment:biosample_term_name</a></td><td>myocyte</td></tr><tr><td><a href=\"http://submit.encodedcc.org/profiles/experiment.json#biosample_type\">experiment:biosample_type</a></td><td>in vitro differentiated cells</td></tr><tr><td><a href=\"http://submit.encodedcc.org/profiles/experiment.json#dataset_type\">experiment:dataset_type</a></td><td>experiment</td></tr><tr><td><a href=\"http://submit.encodedcc.org/profiles/experiment.json#date_created\">experiment:date_created</a></td><td>2013-11-15T06:05:15.935453+00:00</td></tr><tr><td><a href=\"http://submit.encodedcc.org/profiles/experiment.json#dbxrefs\">experiment:dbxrefs</a></td><td>UCSC-ENCODE-mm9:wgEncodeEM002733</td></tr><tr><td><a href=\"http://submit.encodedcc.org/profiles/experiment.json#dbxrefs\">experiment:dbxrefs</a></td><td>GEO:GSM929775</td></tr><tr><td><a href=\"http://submit.encodedcc.org/profiles/experiment.json#files\">experiment:files</a></td><td><a href=\"http://submit.encodedcc.org/files/ENCFF001ICM/\">files:ENCFF001ICM/</a></td></tr><tr><td><a href=\"http://submit.encodedcc.org/profiles/experiment.json#files\">experiment:files</a></td><td><a href=\"http://submit.encodedcc.org/files/ENCFF001ICN/\">files:ENCFF001ICN/</a></td></tr><tr><td><a href=\"http://submit.encodedcc.org/profiles/experiment.json#files\">experiment:files</a></td><td><a href=\"http://submit.encodedcc.org/files/ENCFF001ICO/\">files:ENCFF001ICO/</a></td></tr><tr><td><a href=\"http://submit.encodedcc.org/profiles/experiment.json#files\">experiment:files</a></td><td><a href=\"http://submit.encodedcc.org/files/ENCFF001ICW/\">files:ENCFF001ICW/</a></td></tr><tr><td><a href=\"http://submit.encodedcc.org/profiles/experiment.json#files\">experiment:files</a></td><td><a href=\"http://submit.encodedcc.org/files/ENCFF001IDD/\">files:ENCFF001IDD/</a></td></tr><tr><td><a href=\"http://submit.encodedcc.org/profiles/experiment.json#lab\">experiment:lab</a></td><td><a href=\"http://submit.encodedcc.org/labs/barbara-wold/\">http://submit.encodedcc.org/labs/barbara-wold/</a></td></tr><tr><td><a href=\"http://submit.encodedcc.org/profiles/experiment.json#original_files\">experiment:original_files</a></td><td><a href=\"http://submit.encodedcc.org/files/ENCFF001ICM/\">files:ENCFF001ICM/</a></td></tr><tr><td><a href=\"http://submit.encodedcc.org/profiles/experiment.json#original_files\">experiment:original_files</a></td><td><a href=\"http://submit.encodedcc.org/files/ENCFF001ICN/\">files:ENCFF001ICN/</a></td></tr><tr><td><a href=\"http://submit.encodedcc.org/profiles/experiment.json#original_files\">experiment:original_files</a></td><td><a href=\"http://submit.encodedcc.org/files/ENCFF001ICO/\">files:ENCFF001ICO/</a></td></tr><tr><td><a href=\"http://submit.encodedcc.org/profiles/experiment.json#original_files\">experiment:original_files</a></td><td><a href=\"http://submit.encodedcc.org/files/ENCFF001ICW/\">files:ENCFF001ICW/</a></td></tr><tr><td><a href=\"http://submit.encodedcc.org/profiles/experiment.json#original_files\">experiment:original_files</a></td><td><a href=\"http://submit.encodedcc.org/files/ENCFF001IDD/\">files:ENCFF001IDD/</a></td></tr><tr><td><a href=\"http://submit.encodedcc.org/profiles/experiment.json#replicates\">experiment:replicates</a></td><td><a href=\"http://submit.encodedcc.org/replicates/1ffc79a0-0db7-4e83-80e5-d3737f1b2584/\">replicates:1ffc79a0-0db7-4e83-80e5-d3737f1b2584/</a></td></tr><tr><td><a href=\"http://submit.encodedcc.org/profiles/experiment.json#schema_version\">experiment:schema_version</a></td><td>3</td></tr><tr><td><a href=\"http://submit.encodedcc.org/profiles/experiment.json#status\">experiment:status</a></td><td>CURRENT</td></tr><tr><td><a href=\"http://submit.encodedcc.org/profiles/experiment.json#submitted_by\">experiment:submitted_by</a></td><td><a href=\"http://submit.encodedcc.org/users/bc5b62f7-ce28-4a1e-b6b3-81c9c5a86d7a/\">http://submit.encodedcc.org/users/bc5b62f7-ce28-4a1e-b6b3-81c9c5a86d7a/</a></td></tr><tr><td><a href=\"http://submit.encodedcc.org/profiles/experiment.json#uuid\">experiment:uuid</a></td><td>20d3e109-02d1-401c-93f0-e4ebec6310ef</td></tr><tr><td><a href=\"http://www.w3.org/1999/02/22-rdf-syntax-ns#description\">rdf:description</a></td><td>Caltech RNA-seq mouse C2C12 EqS_2.0pct_60hr polyA+</td></tr></table>"
       ],
       "metadata": {},
       "output_type": "pyout",
       "prompt_number": 15,
       "text": [
        "<rdfmagic.LibRdfResults at 0x7f6ec976f250>"
       ]
      }
     ],
     "prompt_number": 15
    },
    {
     "cell_type": "heading",
     "level": 3,
     "metadata": {},
     "source": [
      "Replicate Attributes"
     ]
    },
    {
     "cell_type": "markdown",
     "metadata": {},
     "source": [
      "Unfortunately it doesn't appear like anything links directly from an experiment to a library. And its libraries that have the alias value I'm  looking for.\n",
      "\n",
      "I think the replicate object has that information?"
     ]
    },
    {
     "cell_type": "code",
     "collapsed": false,
     "input": [
      "%%sparql -m model\n",
      "select distinct ?p ?o\n",
      "where {\n",
      "  <http://submit.encodedcc.org/replicates/1ffc79a0-0db7-4e83-80e5-d3737f1b2584/> ?p ?o  .\n",
      "}"
     ],
     "language": "python",
     "metadata": {},
     "outputs": [
      {
       "html": [
        "<table><tr><td>p</td><td>o</td></tr><tr><td><a href=\"http://www.w3.org/1999/02/22-rdf-syntax-ns#type\">rdf:type</a></td><td><a href=\"http://submit.encodedcc.org/profiles/replicate.json#replicate\">replicate:replicate</a></td></tr><tr><td><a href=\"http://www.w3.org/1999/02/22-rdf-syntax-ns#type\">rdf:type</a></td><td><a href=\"http://submit.encodedcc.org/profiles/replicate.json#item\">replicate:item</a></td></tr><tr><td><a href=\"http://submit.encodedcc.org/profiles/replicate.json#biological_replicate_number\">replicate:biological_replicate_number</a></td><td>1</td></tr><tr><td><a href=\"http://submit.encodedcc.org/profiles/replicate.json#date_created\">replicate:date_created</a></td><td>2013-09-13T13:31:56.451814-08:00</td></tr><tr><td><a href=\"http://submit.encodedcc.org/profiles/replicate.json#experiment\">replicate:experiment</a></td><td><a href=\"http://submit.encodedcc.org/experiments/ENCSR000AIA/\">experiments:ENCSR000AIA/</a></td></tr><tr><td><a href=\"http://submit.encodedcc.org/profiles/replicate.json#library\">replicate:library</a></td><td><a href=\"http://submit.encodedcc.org/libraries/ENCLB356ZZZ/\">libraries:ENCLB356ZZZ/</a></td></tr><tr><td><a href=\"http://submit.encodedcc.org/profiles/replicate.json#paired_ended\">replicate:paired_ended</a></td><td>false</td></tr><tr><td><a href=\"http://submit.encodedcc.org/profiles/replicate.json#platform\">replicate:platform</a></td><td><a href=\"http://submit.encodedcc.org/platforms/9ab7d195-c2d9-45ef-aed5-1d39ba77240b/\">http://submit.encodedcc.org/platforms/9ab7d195-c2d9-45ef-aed5-1d39ba77240b/</a></td></tr><tr><td><a href=\"http://submit.encodedcc.org/profiles/replicate.json#schema_version\">replicate:schema_version</a></td><td>2</td></tr><tr><td><a href=\"http://submit.encodedcc.org/profiles/replicate.json#status\">replicate:status</a></td><td>CURRENT</td></tr><tr><td><a href=\"http://submit.encodedcc.org/profiles/replicate.json#submitted_by\">replicate:submitted_by</a></td><td><a href=\"http://submit.encodedcc.org/users/bc5b62f7-ce28-4a1e-b6b3-81c9c5a86d7a/\">http://submit.encodedcc.org/users/bc5b62f7-ce28-4a1e-b6b3-81c9c5a86d7a/</a></td></tr><tr><td><a href=\"http://submit.encodedcc.org/profiles/replicate.json#technical_replicate_number\">replicate:technical_replicate_number</a></td><td>1</td></tr><tr><td><a href=\"http://submit.encodedcc.org/profiles/replicate.json#uuid\">replicate:uuid</a></td><td>1ffc79a0-0db7-4e83-80e5-d3737f1b2584</td></tr></table>"
       ],
       "metadata": {},
       "output_type": "pyout",
       "prompt_number": 16,
       "text": [
        "<rdfmagic.LibRdfResults at 0x7f6ec976f410>"
       ]
      }
     ],
     "prompt_number": 16
    },
    {
     "cell_type": "markdown",
     "metadata": {},
     "source": [
      "There we go! replicate:experiment and replicate:library shows that replicate is the linking table."
     ]
    },
    {
     "cell_type": "heading",
     "level": 3,
     "metadata": {},
     "source": [
      "Library Attributes"
     ]
    },
    {
     "cell_type": "code",
     "collapsed": false,
     "input": [
      "%%sparql -m model\n",
      "select distinct ?p ?o\n",
      "where {\n",
      "       <http://submit.encodedcc.org/libraries/ENCLB356ZZZ/> ?p ?o \n",
      "}"
     ],
     "language": "python",
     "metadata": {},
     "outputs": [
      {
       "html": [
        "<table><tr><td>p</td><td>o</td></tr><tr><td><a href=\"http://www.w3.org/1999/02/22-rdf-syntax-ns#type\">rdf:type</a></td><td><a href=\"http://submit.encodedcc.org/profiles/library.json#library\">library:library</a></td></tr><tr><td><a href=\"http://www.w3.org/1999/02/22-rdf-syntax-ns#type\">rdf:type</a></td><td><a href=\"http://submit.encodedcc.org/profiles/library.json#item\">library:item</a></td></tr><tr><td><a href=\"http://submit.encodedcc.org/profiles/library.json#accession\">library:accession</a></td><td>ENCLB356ZZZ</td></tr><tr><td><a href=\"http://submit.encodedcc.org/profiles/library.json#aliases\">library:aliases</a></td><td>barbara-wold:10986</td></tr><tr><td><a href=\"http://submit.encodedcc.org/profiles/library.json#award\">library:award</a></td><td><a href=\"http://submit.encodedcc.org/awards/RC2HG005573/\">http://submit.encodedcc.org/awards/RC2HG005573/</a></td></tr><tr><td><a href=\"http://submit.encodedcc.org/profiles/library.json#biosample\">library:biosample</a></td><td><a href=\"http://submit.encodedcc.org/biosamples/ENCBS127ENC/\">http://submit.encodedcc.org/biosamples/ENCBS127ENC/</a></td></tr><tr><td><a href=\"http://submit.encodedcc.org/profiles/library.json#date_created\">library:date_created</a></td><td>2013-09-13T13:31:02.556929-08:00</td></tr><tr><td><a href=\"http://submit.encodedcc.org/profiles/library.json#documents\">library:documents</a></td><td><a href=\"http://submit.encodedcc.org/documents/3387cd4f-9b29-4c3e-a626-f08d06c05aab/\">http://submit.encodedcc.org/documents/3387cd4f-9b29-4c3e-a626-f08d06c05aab/</a></td></tr><tr><td><a href=\"http://submit.encodedcc.org/profiles/library.json#extraction_method\">library:extraction_method</a></td><td>Trizol (Invitrogen 15596-026)</td></tr><tr><td><a href=\"http://submit.encodedcc.org/profiles/library.json#fragmentation_method\">library:fragmentation_method</a></td><td>magnesium-catalyzed hydrolysis</td></tr><tr><td><a href=\"http://submit.encodedcc.org/profiles/library.json#lab\">library:lab</a></td><td><a href=\"http://submit.encodedcc.org/labs/barbara-wold/\">http://submit.encodedcc.org/labs/barbara-wold/</a></td></tr><tr><td><a href=\"http://submit.encodedcc.org/profiles/library.json#library_size_selection_method\">library:library_size_selection_method</a></td><td>gel followed by Amicon filters</td></tr><tr><td><a href=\"http://submit.encodedcc.org/profiles/library.json#lysis_method\">library:lysis_method</a></td><td>Trizol (Invitrogen 15596-026)</td></tr><tr><td><a href=\"http://submit.encodedcc.org/profiles/library.json#nucleic_acid_term_id\">library:nucleic_acid_term_id</a></td><td><a href=\"http://purl.obolibrary.org/obo/SO_0000871\">http://purl.obolibrary.org/obo/SO_0000871</a></td></tr><tr><td><a href=\"http://submit.encodedcc.org/profiles/library.json#nucleic_acid_term_name\">library:nucleic_acid_term_name</a></td><td>polyadenylated mRNA</td></tr><tr><td><a href=\"http://submit.encodedcc.org/profiles/library.json#paired_ended\">library:paired_ended</a></td><td>false</td></tr><tr><td><a href=\"http://submit.encodedcc.org/profiles/library.json#schema_version\">library:schema_version</a></td><td>2</td></tr><tr><td><a href=\"http://submit.encodedcc.org/profiles/library.json#size_range\">library:size_range</a></td><td>>200</td></tr><tr><td><a href=\"http://submit.encodedcc.org/profiles/library.json#status\">library:status</a></td><td>CURRENT</td></tr><tr><td><a href=\"http://submit.encodedcc.org/profiles/library.json#strand_specificity\">library:strand_specificity</a></td><td>false</td></tr><tr><td><a href=\"http://submit.encodedcc.org/profiles/library.json#submitted_by\">library:submitted_by</a></td><td><a href=\"http://submit.encodedcc.org/users/bc5b62f7-ce28-4a1e-b6b3-81c9c5a86d7a/\">http://submit.encodedcc.org/users/bc5b62f7-ce28-4a1e-b6b3-81c9c5a86d7a/</a></td></tr><tr><td><a href=\"http://submit.encodedcc.org/profiles/library.json#uuid\">library:uuid</a></td><td>e9979de4-bdf1-41ea-a079-4515641fc9e0</td></tr></table>"
       ],
       "metadata": {},
       "output_type": "pyout",
       "prompt_number": 17,
       "text": [
        "<rdfmagic.LibRdfResults at 0x7f6ec971c410>"
       ]
      }
     ],
     "prompt_number": 17
    },
    {
     "cell_type": "markdown",
     "metadata": {},
     "source": [
      "Putting it all together: Experiments link to replicates, replicates link to libraries, libraries have the alias pointing to the Wold lab LIMS. Unfortunately replicates don't link to files, we have to reverse that query and ask which files link to our replicate."
     ]
    },
    {
     "cell_type": "code",
     "collapsed": false,
     "input": [
      "%%sparql -m model \n",
      "select distinct ?exp ?lib ?alias ?file ?path ?submitted\n",
      "where {\n",
      "  ?exp experiment:replicates ?rep .\n",
      "  ?rep replicate:library ?lib .\n",
      "  ?lib library:aliases ?alias .\n",
      "  \n",
      "  ?file file:replicate ?rep ;\n",
      "        file:download_path ?path ;\n",
      "        file:submitted_file_name ?submitted.\n",
      "}"
     ],
     "language": "python",
     "metadata": {},
     "outputs": [
      {
       "html": [
        "<table><tr><td>exp</td><td>lib</td><td>alias</td><td>file</td><td>path</td><td>submitted</td></tr><tr><td><a href=\"http://submit.encodedcc.org/experiments/ENCSR000AHX/\">experiments:ENCSR000AHX/</a></td><td><a href=\"http://submit.encodedcc.org/libraries/ENCLB357ZZZ/\">libraries:ENCLB357ZZZ/</a></td><td>barbara-wold:11155</td><td><a href=\"http://submit.encodedcc.org/files/ENCFF001ICC/\">files:ENCFF001ICC/</a></td><td>2013/4/18/ENCFF001ICC.bigWig</td><td>mm9/wgEncodeCaltechRnaSeq/wgEncodeCaltechRnaSeq10t12C3hFR2x75Th131Il200E2p60hRawRep1.bigWig</td></tr><tr><td><a href=\"http://submit.encodedcc.org/experiments/ENCSR000AHX/\">experiments:ENCSR000AHX/</a></td><td><a href=\"http://submit.encodedcc.org/libraries/ENCLB357ZZZ/\">libraries:ENCLB357ZZZ/</a></td><td>barbara-wold:11155</td><td><a href=\"http://submit.encodedcc.org/files/ENCFF001ICD/\">files:ENCFF001ICD/</a></td><td>2013/4/18/ENCFF001ICD.bigWig</td><td>mm9/wgEncodeCaltechRnaSeq/wgEncodeCaltechRnaSeq10t12C3hFR2x75Th131Il200E2p60hSigRep1.bigWig</td></tr><tr><td><a href=\"http://submit.encodedcc.org/experiments/ENCSR000AHX/\">experiments:ENCSR000AHX/</a></td><td><a href=\"http://submit.encodedcc.org/libraries/ENCLB357ZZZ/\">libraries:ENCLB357ZZZ/</a></td><td>barbara-wold:11155</td><td><a href=\"http://submit.encodedcc.org/files/ENCFF001ICE/\">files:ENCFF001ICE/</a></td><td>2013/4/18/ENCFF001ICE.bam</td><td>mm9/wgEncodeCaltechRnaSeq/wgEncodeCaltechRnaSeq10t12C3hFR2x75Th131Il200E2p60hAlnRep1.bam</td></tr><tr><td><a href=\"http://submit.encodedcc.org/experiments/ENCSR000AHX/\">experiments:ENCSR000AHX/</a></td><td><a href=\"http://submit.encodedcc.org/libraries/ENCLB357ZZZ/\">libraries:ENCLB357ZZZ/</a></td><td>barbara-wold:11155</td><td><a href=\"http://submit.encodedcc.org/files/ENCFF001ICI/\">files:ENCFF001ICI/</a></td><td>2013/4/18/ENCFF001ICI.fastq.gz</td><td>mm9/wgEncodeCaltechRnaSeq/wgEncodeCaltechRnaSeq10t12C3hFR2x75Th131Il200E2p60hFastqRd1Rep1.fastq.gz</td></tr><tr><td><a href=\"http://submit.encodedcc.org/experiments/ENCSR000AHX/\">experiments:ENCSR000AHX/</a></td><td><a href=\"http://submit.encodedcc.org/libraries/ENCLB357ZZZ/\">libraries:ENCLB357ZZZ/</a></td><td>barbara-wold:11155</td><td><a href=\"http://submit.encodedcc.org/files/ENCFF001ICJ/\">files:ENCFF001ICJ/</a></td><td>2013/4/18/ENCFF001ICJ.fastq.gz</td><td>mm9/wgEncodeCaltechRnaSeq/wgEncodeCaltechRnaSeq10t12C3hFR2x75Th131Il200E2p60hFastqRd2Rep1.fastq.gz</td></tr><tr><td><a href=\"http://submit.encodedcc.org/experiments/ENCSR000AHY/\">experiments:ENCSR000AHY/</a></td><td><a href=\"http://submit.encodedcc.org/libraries/ENCLB359ZZZ/\">libraries:ENCLB359ZZZ/</a></td><td>barbara-wold:10985</td><td><a href=\"http://submit.encodedcc.org/files/ENCFF001ICL/\">files:ENCFF001ICL/</a></td><td>2013/4/18/ENCFF001ICL.bam</td><td>mm9/wgEncodeCaltechRnaSeq/wgEncodeCaltechRnaSeqC2c12C3hFR2x75Th131Il200AlnRep1.bam</td></tr><tr><td><a href=\"http://submit.encodedcc.org/experiments/ENCSR000AHY/\">experiments:ENCSR000AHY/</a></td><td><a href=\"http://submit.encodedcc.org/libraries/ENCLB359ZZZ/\">libraries:ENCLB359ZZZ/</a></td><td>barbara-wold:10985</td><td><a href=\"http://submit.encodedcc.org/files/ENCFF001ICQ/\">files:ENCFF001ICQ/</a></td><td>2013/4/18/ENCFF001ICQ.bigWig</td><td>mm9/wgEncodeCaltechRnaSeq/wgEncodeCaltechRnaSeqC2c12C3hFR2x75Th131Il200RawRep1.bigWig</td></tr><tr><td><a href=\"http://submit.encodedcc.org/experiments/ENCSR000AHY/\">experiments:ENCSR000AHY/</a></td><td><a href=\"http://submit.encodedcc.org/libraries/ENCLB359ZZZ/\">libraries:ENCLB359ZZZ/</a></td><td>barbara-wold:10985</td><td><a href=\"http://submit.encodedcc.org/files/ENCFF001ICR/\">files:ENCFF001ICR/</a></td><td>2013/4/18/ENCFF001ICR.bigWig</td><td>mm9/wgEncodeCaltechRnaSeq/wgEncodeCaltechRnaSeqC2c12C3hFR2x75Th131Il200SigRep1.bigWig</td></tr><tr><td><a href=\"http://submit.encodedcc.org/experiments/ENCSR000AHY/\">experiments:ENCSR000AHY/</a></td><td><a href=\"http://submit.encodedcc.org/libraries/ENCLB359ZZZ/\">libraries:ENCLB359ZZZ/</a></td><td>barbara-wold:10985</td><td><a href=\"http://submit.encodedcc.org/files/ENCFF001IDY/\">files:ENCFF001IDY/</a></td><td>2013/4/18/ENCFF001IDY.fastq.gz</td><td>mm9/wgEncodeCaltechRnaSeq/wgEncodeCaltechRnaSeqC2c12C3hFR2x75Th131Il200FastqRd2Rep1.fastq.gz</td></tr><tr><td><a href=\"http://submit.encodedcc.org/experiments/ENCSR000AHY/\">experiments:ENCSR000AHY/</a></td><td><a href=\"http://submit.encodedcc.org/libraries/ENCLB359ZZZ/\">libraries:ENCLB359ZZZ/</a></td><td>barbara-wold:10985</td><td><a href=\"http://submit.encodedcc.org/files/ENCFF001IDZ/\">files:ENCFF001IDZ/</a></td><td>2013/4/18/ENCFF001IDZ.fastq.gz</td><td>mm9/wgEncodeCaltechRnaSeq/wgEncodeCaltechRnaSeqC2c12C3hFR2x75Th131Il200FastqRd1Rep1.fastq.gz</td></tr><tr><td><a href=\"http://submit.encodedcc.org/experiments/ENCSR000AHZ/\">experiments:ENCSR000AHZ/</a></td><td><a href=\"http://submit.encodedcc.org/libraries/ENCLB358ZZZ/\">libraries:ENCLB358ZZZ/</a></td><td>barbara-wold:11154</td><td><a href=\"http://submit.encodedcc.org/files/ENCFF001ICF/\">files:ENCFF001ICF/</a></td><td>2013/4/18/ENCFF001ICF.bam</td><td>mm9/wgEncodeCaltechRnaSeq/wgEncodeCaltechRnaSeq10t12C3hFR2x75Th131Il200AlnRep1.bam</td></tr><tr><td><a href=\"http://submit.encodedcc.org/experiments/ENCSR000AHZ/\">experiments:ENCSR000AHZ/</a></td><td><a href=\"http://submit.encodedcc.org/libraries/ENCLB358ZZZ/\">libraries:ENCLB358ZZZ/</a></td><td>barbara-wold:11154</td><td><a href=\"http://submit.encodedcc.org/files/ENCFF001ICG/\">files:ENCFF001ICG/</a></td><td>2013/4/18/ENCFF001ICG.bigWig</td><td>mm9/wgEncodeCaltechRnaSeq/wgEncodeCaltechRnaSeq10t12C3hFR2x75Th131Il200RawRep1.bigWig</td></tr><tr><td><a href=\"http://submit.encodedcc.org/experiments/ENCSR000AHZ/\">experiments:ENCSR000AHZ/</a></td><td><a href=\"http://submit.encodedcc.org/libraries/ENCLB358ZZZ/\">libraries:ENCLB358ZZZ/</a></td><td>barbara-wold:11154</td><td><a href=\"http://submit.encodedcc.org/files/ENCFF001ICH/\">files:ENCFF001ICH/</a></td><td>2013/4/18/ENCFF001ICH.bigWig</td><td>mm9/wgEncodeCaltechRnaSeq/wgEncodeCaltechRnaSeq10t12C3hFR2x75Th131Il200SigRep1.bigWig</td></tr><tr><td><a href=\"http://submit.encodedcc.org/experiments/ENCSR000AHZ/\">experiments:ENCSR000AHZ/</a></td><td><a href=\"http://submit.encodedcc.org/libraries/ENCLB358ZZZ/\">libraries:ENCLB358ZZZ/</a></td><td>barbara-wold:11154</td><td><a href=\"http://submit.encodedcc.org/files/ENCFF001ICK/\">files:ENCFF001ICK/</a></td><td>2013/4/18/ENCFF001ICK.fastq.gz</td><td>mm9/wgEncodeCaltechRnaSeq/wgEncodeCaltechRnaSeq10t12C3hFR2x75Th131Il200FastqRd1Rep1.fastq.gz</td></tr><tr><td><a href=\"http://submit.encodedcc.org/experiments/ENCSR000AHZ/\">experiments:ENCSR000AHZ/</a></td><td><a href=\"http://submit.encodedcc.org/libraries/ENCLB358ZZZ/\">libraries:ENCLB358ZZZ/</a></td><td>barbara-wold:11154</td><td><a href=\"http://submit.encodedcc.org/files/ENCFF001ICP/\">files:ENCFF001ICP/</a></td><td>2013/4/18/ENCFF001ICP.fastq.gz</td><td>mm9/wgEncodeCaltechRnaSeq/wgEncodeCaltechRnaSeq10t12C3hFR2x75Th131Il200FastqRd2Rep1.fastq.gz</td></tr><tr><td><a href=\"http://submit.encodedcc.org/experiments/ENCSR000AIA/\">experiments:ENCSR000AIA/</a></td><td><a href=\"http://submit.encodedcc.org/libraries/ENCLB356ZZZ/\">libraries:ENCLB356ZZZ/</a></td><td>barbara-wold:10986</td><td><a href=\"http://submit.encodedcc.org/files/ENCFF001ICM/\">files:ENCFF001ICM/</a></td><td>2013/4/18/ENCFF001ICM.bigWig</td><td>mm9/wgEncodeCaltechRnaSeq/wgEncodeCaltechRnaSeqC2c12C3hFR2x75Th131Il200E2p60hRawRep1.bigWig</td></tr><tr><td><a href=\"http://submit.encodedcc.org/experiments/ENCSR000AIA/\">experiments:ENCSR000AIA/</a></td><td><a href=\"http://submit.encodedcc.org/libraries/ENCLB356ZZZ/\">libraries:ENCLB356ZZZ/</a></td><td>barbara-wold:10986</td><td><a href=\"http://submit.encodedcc.org/files/ENCFF001ICN/\">files:ENCFF001ICN/</a></td><td>2013/4/18/ENCFF001ICN.bigWig</td><td>mm9/wgEncodeCaltechRnaSeq/wgEncodeCaltechRnaSeqC2c12C3hFR2x75Th131Il200E2p60hSigRep1.bigWig</td></tr><tr><td><a href=\"http://submit.encodedcc.org/experiments/ENCSR000AIA/\">experiments:ENCSR000AIA/</a></td><td><a href=\"http://submit.encodedcc.org/libraries/ENCLB356ZZZ/\">libraries:ENCLB356ZZZ/</a></td><td>barbara-wold:10986</td><td><a href=\"http://submit.encodedcc.org/files/ENCFF001ICO/\">files:ENCFF001ICO/</a></td><td>2013/4/18/ENCFF001ICO.bam</td><td>mm9/wgEncodeCaltechRnaSeq/wgEncodeCaltechRnaSeqC2c12C3hFR2x75Th131Il200E2p60hAlnRep1.bam</td></tr><tr><td><a href=\"http://submit.encodedcc.org/experiments/ENCSR000AIA/\">experiments:ENCSR000AIA/</a></td><td><a href=\"http://submit.encodedcc.org/libraries/ENCLB356ZZZ/\">libraries:ENCLB356ZZZ/</a></td><td>barbara-wold:10986</td><td><a href=\"http://submit.encodedcc.org/files/ENCFF001ICW/\">files:ENCFF001ICW/</a></td><td>2013/4/18/ENCFF001ICW.fastq.gz</td><td>mm9/wgEncodeCaltechRnaSeq/wgEncodeCaltechRnaSeqC2c12C3hFR2x75Th131Il200E2p60hFastqRd1Rep1.fastq.gz</td></tr><tr><td><a href=\"http://submit.encodedcc.org/experiments/ENCSR000AIA/\">experiments:ENCSR000AIA/</a></td><td><a href=\"http://submit.encodedcc.org/libraries/ENCLB356ZZZ/\">libraries:ENCLB356ZZZ/</a></td><td>barbara-wold:10986</td><td><a href=\"http://submit.encodedcc.org/files/ENCFF001IDD/\">files:ENCFF001IDD/</a></td><td>2013/4/18/ENCFF001IDD.fastq.gz</td><td>mm9/wgEncodeCaltechRnaSeq/wgEncodeCaltechRnaSeqC2c12C3hFR2x75Th131Il200E2p60hFastqRd2Rep1.fastq.gz</td></tr></table>"
       ],
       "metadata": {},
       "output_type": "pyout",
       "prompt_number": 18,
       "text": [
        "<rdfmagic.LibRdfResults at 0x7f6ee407fa50>"
       ]
      }
     ],
     "prompt_number": 18
    }
   ],
   "metadata": {}
  }
 ]
}