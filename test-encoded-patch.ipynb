{
 "metadata": {
  "name": ""
 },
 "nbformat": 3,
 "nbformat_minor": 0,
 "worksheets": [
  {
   "cells": [
    {
     "cell_type": "code",
     "collapsed": false,
     "input": [
      "import json"
     ],
     "language": "python",
     "metadata": {},
     "outputs": []
    },
    {
     "cell_type": "code",
     "collapsed": false,
     "input": [
      "def load_custom():\n",
      "    paths = ['/home/diane/proj/solexa/htsworkflow']\n",
      "    for path in paths:\n",
      "        if path not in sys.path:\n",
      "            sys.path.append(path)\n",
      "load_custom()"
     ],
     "language": "python",
     "metadata": {},
     "outputs": []
    },
    {
     "cell_type": "code",
     "collapsed": false,
     "input": [
      "from htsworkflow.util.rdfhelp import get_model, dump_model, load_into_model\n",
      "from htsworkflow.util.rdfjsonld import load_into_model as load_jsonld_into_model\n",
      "from htsworkflow.submission import encoded"
     ],
     "language": "python",
     "metadata": {},
     "outputs": []
    },
    {
     "cell_type": "code",
     "collapsed": false,
     "input": [
      "def test():\n",
      "    server = encoded.ENCODED('ec2-54-219-219-116.us-west-1.compute.amazonaws.com')\n",
      "    server.load_netrc()\n",
      "    print(server.json_headers)\n",
      "    print(server.auth)\n",
      "    test_url = 'http://ec2-54-219-219-116.us-west-1.compute.amazonaws.com/experiments/ENCSR000AJF/'\n",
      "    body = requests.get(test_url, auth=server.auth, headers=server.json_headers)\n",
      "    exp = json.loads(body.content)\n",
      "    print(exp['aliases'])\n",
      "    #payload = json.dumps({'aliases': ['barbara-wold:permission-test']})\n",
      "    payload = json.dumps({'aliases': ['barbara-wold:single-cell-13287-exp']})\n",
      "    print(payload)\n",
      "    resp = requests.patch(test_url, auth=server.auth, headers=server.json_headers, data=payload)\n",
      "    print(resp.content)\n",
      "test()"
     ],
     "language": "python",
     "metadata": {},
     "outputs": []
    },
    {
     "cell_type": "code",
     "collapsed": false,
     "input": [
      "def test():\n",
      "    server = encoded.ENCODED('ec2-54-219-219-116.us-west-1.compute.amazonaws.com')\n",
      "    server.load_netrc()\n",
      "    print(server.json_headers)\n",
      "    test_rep = 'http://ec2-54-219-219-116.us-west-1.compute.amazonaws.com/replicates/1f7d9532-47ee-440d-b87f-a90fec051c4a/' \n",
      "    body = requests.get(test_rep, auth=server.auth, headers=server.json_headers)\n",
      "    rep = json.loads(body.content)\n",
      "    print(rep['flowcell_details'])\n",
      "    replicate_lanes = [{'machine': 'http://jumpgate.caltech.edu/sequencer/8', \n",
      "                        'lane': '1', 'barcode': 'TAGGCATG-TATCCTCT', \n",
      "                        'flowcell': 'H8U69ADXX'}, \n",
      "                       {'machine': 'http://jumpgate.caltech.edu/sequencer/4', 'lane': '3', \n",
      "                        'barcode': 'TAGGCATG-TATCCTCT', 'flowcell': 'D1GMCACXX'}]\n",
      "    payload = json.dumps({'flowcell_details': replicate_lanes})\n",
      "    print(payload)\n",
      "    resp = requests.patch(test_rep, auth=server.auth, headers=server.json_headers, data=payload)\n",
      "    print(resp.content)\n",
      "test()"
     ],
     "language": "python",
     "metadata": {},
     "outputs": []
    }
   ],
   "metadata": {}
  }
 ]
}