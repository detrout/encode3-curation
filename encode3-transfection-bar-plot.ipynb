{
 "cells": [
  {
   "cell_type": "markdown",
   "metadata": {},
   "source": [
    "# Introduction"
   ]
  },
  {
   "cell_type": "markdown",
   "metadata": {},
   "source": [
    "Barbara would like to be able to see the expression level of the overlapping regions, Gigio suggested some of the bar chart plots supported by the browser might work nicely. https://genome.ucsc.edu/goldenpath/help/barChart.html\n",
    "\n",
    "I modified <a href=\"http://localhost:8888/notebooks/format%20ENCODE3%20Woldlab%20transfection%20data.ipynb\">format ENCODE3 Woldlab transfection data.ipynb</a> to output the merged set of locations from the google doc and the transfection-merged.csv file into transfection-annotated.csv"
   ]
  },
  {
   "cell_type": "code",
   "execution_count": 1,
   "metadata": {},
   "outputs": [],
   "source": [
    "import pandas\n",
    "import numpy\n",
    "import collections\n",
    "import itertools\n",
    "import os\n",
    "import pyBigWig\n",
    "from urllib.parse import urljoin"
   ]
  },
  {
   "cell_type": "markdown",
   "metadata": {},
   "source": [
    "# Find collisions"
   ]
  },
  {
   "cell_type": "code",
   "execution_count": 2,
   "metadata": {},
   "outputs": [],
   "source": [
    "transfection = pandas.read_csv('transfection-annotated.csv')"
   ]
  },
  {
   "cell_type": "markdown",
   "metadata": {},
   "source": [
    "Is ID unique? (yes)"
   ]
  },
  {
   "cell_type": "code",
   "execution_count": 3,
   "metadata": {},
   "outputs": [
    {
     "data": {
      "text/plain": [
       "(367, (367,))"
      ]
     },
     "execution_count": 3,
     "metadata": {},
     "output_type": "execute_result"
    }
   ],
   "source": [
    "len(set(transfection['#ID'])), transfection['#ID'].shape"
   ]
  },
  {
   "cell_type": "code",
   "execution_count": 4,
   "metadata": {},
   "outputs": [
    {
     "data": {
      "text/plain": [
       "Index(['#ID', 'Type', 'CHR(mm10)', 'Start(mm10)', 'Stop(mm10)',\n",
       "       'C2C12_Myoblast_Rep1-Tech_Rep_1', 'C2C12_Myoblast_Rep1-Tech_Rep_2',\n",
       "       'C2C12_Myoblast_Rep1-Tech_Rep_3', 'C2C12_Myoblast_Rep1-Tech_Rep_4',\n",
       "       '10T1/2_Rep1-Tech_Rep_1', '10T1/2_Rep1-Tech_Rep_2',\n",
       "       '10T1/2_Rep1-Tech_Rep_3', '10T1/2_Rep1-Tech_Rep_4',\n",
       "       'C2C12_Myocyte_Rep1-Tech_Rep_1', 'C2C12_Myocyte_Rep1-Tech_Rep_2',\n",
       "       'C2C12_Myocyte_Rep1-Tech_Rep_3', 'C2C12_Myocyte_Rep1-Tech_Rep_4',\n",
       "       '10T1/2_MockDiff_Rep1-Tech_Rep_1', '10T1/2_MockDiff_Rep1-Tech_Rep_2',\n",
       "       '10T1/2_MockDiff_Rep1-Tech_Rep_3', '10T1/2_MockDiff_Rep1-Tech_Rep_4',\n",
       "       'C2C12_Myoblast_Rep2-Tech_Rep_1', 'C2C12_Myoblast_Rep2-Tech_Rep_2',\n",
       "       'C2C12_Myoblast_Rep2-Tech_Rep_3', 'C2C12_Myoblast_Rep2-Tech_Rep_4',\n",
       "       '10T1/2_Rep2-Tech_Rep_1', '10T1/2_Rep2-Tech_Rep_2',\n",
       "       '10T1/2_Rep2-Tech_Rep_3', '10T1/2_Rep2-Tech_Rep_4',\n",
       "       'C2C12_Myocyte_Rep2-Tech_Rep_1', 'C2C12_Myocyte_Rep2-Tech_Rep_2',\n",
       "       'C2C12_Myocyte_Rep2-Tech_Rep_3', 'C2C12_Myocyte_Rep2-Tech_Rep_4',\n",
       "       '10T1/2_MockDiff_Rep2-Tech_Rep_1', '10T1/2_MockDiff_Rep2-Tech_Rep_2',\n",
       "       '10T1/2_MockDiff_Rep2-Tech_Rep_3', '10T1/2_MockDiff_Rep2-Tech_Rep_4'],\n",
       "      dtype='object')"
      ]
     },
     "execution_count": 4,
     "metadata": {},
     "output_type": "execute_result"
    }
   ],
   "source": [
    "transfection.columns"
   ]
  },
  {
   "cell_type": "code",
   "execution_count": 5,
   "metadata": {},
   "outputs": [],
   "source": [
    "Segment = collections.namedtuple('Segment', ['start', 'stop'])"
   ]
  },
  {
   "cell_type": "code",
   "execution_count": 6,
   "metadata": {},
   "outputs": [],
   "source": [
    "def build_basepair_index(transfection):\n",
    "    locations = {}\n",
    "    for i, (name, chrom, start, stop) in transfection[['#ID', 'CHR(mm10)', 'Start(mm10)', 'Stop(mm10)']].iterrows():\n",
    "        region = locations.setdefault(chrom, {})\n",
    "        for base in range(start, stop + 1):\n",
    "            region.setdefault(base, []).append(name)\n",
    "    return locations"
   ]
  },
  {
   "cell_type": "code",
   "execution_count": 7,
   "metadata": {},
   "outputs": [],
   "source": [
    "def merge_locations(locations):\n",
    "    start = None\n",
    "    stop = None\n",
    "    prev = None\n",
    "    names = set()\n",
    "    regions = {}\n",
    "    for chrom in locations:\n",
    "        for base in sorted(locations[chrom]):\n",
    "            if start is None:\n",
    "                start = base\n",
    "                names.update(locations[chrom][base])\n",
    "            elif prev + 1 != base:\n",
    "                stop = prev\n",
    "                #print(start, stop, names)\n",
    "                regions.setdefault(chrom, {})[Segment(start, stop)] = names\n",
    "                start = None\n",
    "                stop = None\n",
    "                names = set()\n",
    "            prev = base\n",
    "    return regions\n",
    "\n"
   ]
  },
  {
   "cell_type": "code",
   "execution_count": 8,
   "metadata": {},
   "outputs": [],
   "source": [
    "regions = merge_locations(build_basepair_index(transfection))"
   ]
  },
  {
   "cell_type": "markdown",
   "metadata": {},
   "source": [
    "We need to make bed files that look like this.\n",
    "<pre>table bigBarChart\n",
    "\"bigBarChart bar graph display\"  \n",
    "    ( \n",
    "    string chrom;               \"Reference sequence chromosome or scaffold\"\n",
    "    uint chromStart;            \"Start position in chromosome\"\n",
    "    uint chromEnd;              \"End position in chromosome\"\n",
    "    string name;                \"Name or ID of item\"\n",
    "    uint score;                 \"Score (0-1000)\"\n",
    "    char[1] strand;             \"'+','-' or '.'. Indicates whether the query aligns to the + or - strand on the reference\"\n",
    "    string name2;               \"Alternate name of item\"\n",
    "    uint expCount;              \"Number of bar graphs in display, must be <= 100\"\n",
    "    float[expCount] expScores;  \"Comma separated list of category values.\"\n",
    "    bigint _dataOffset;         \"Offset of sample data in data matrix file, for boxplot on details page, optional only for barChart format\"\n",
    "    int _dataLen;               \"Length of sample data row in data matrix file, optional only for barChart format\"\n",
    "    )</pre>"
   ]
  },
  {
   "cell_type": "code",
   "execution_count": 9,
   "metadata": {},
   "outputs": [],
   "source": [
    "def get_rep_names():\n",
    "    return ['-Tech_Rep_1', '-Tech_Rep_2', '-Tech_Rep_3', '-Tech_Rep_4']\n",
    "\n",
    "def filter_table(table, limit):\n",
    "    if limit is not None:\n",
    "        result = table[table['#ID'].isin(limit)].copy()\n",
    "    else:\n",
    "        result = table.copy()\n",
    "    result.sort_values('#ID', inplace=True)\n",
    "    return result"
   ]
  },
  {
   "cell_type": "code",
   "execution_count": 10,
   "metadata": {},
   "outputs": [],
   "source": [
    "def compute_experiment_score(table, experiment, limit=None):\n",
    "    rep_names = get_rep_names()\n",
    "    table = filter_table(table, limit)\n",
    "    tech_reps = table[[experiment + r for r in rep_names]]\n",
    "    result = pandas.DataFrame({\n",
    "        '#ID':table['#ID'], \n",
    "        experiment: tech_reps.mean(axis=1),\n",
    "    })\n",
    "    \n",
    "    return result"
   ]
  },
  {
   "cell_type": "code",
   "execution_count": 11,
   "metadata": {},
   "outputs": [],
   "source": [
    "def format_region(chromosome, segment):\n",
    "    return '{}-{}-{}'.format(chromosome, segment.start, segment.stop)"
   ]
  },
  {
   "cell_type": "code",
   "execution_count": 12,
   "metadata": {},
   "outputs": [],
   "source": [
    "def make_overlapped_region_bed(transfection, experiment, chrom, segment, names):\n",
    "    average = compute_experiment_score(transfection, experiment, names)\n",
    "    max_name = average.max()['#ID']\n",
    "    expCount = average.shape[0]\n",
    "    expScores = ','.join([str(x) for x in average[experiment].values])\n",
    "    return(['\\t'.join([\n",
    "        chrom,\n",
    "        str(segment.start),\n",
    "        str(segment.stop),\n",
    "        format_region(chrom, segment),\n",
    "        '999',\n",
    "        '.',\n",
    "        max_name,\n",
    "        str(expCount),\n",
    "        expScores,\n",
    "        '0',\n",
    "        '0',\n",
    "    ])])"
   ]
  },
  {
   "cell_type": "code",
   "execution_count": 13,
   "metadata": {},
   "outputs": [],
   "source": [
    "def combine_exp_matrix_multi_index(index):\n",
    "    return [x[1] + '_' + x[0] for x in index]\n",
    "\n",
    "def create_exp_matrix(table, experiment, chrom, segment, limit=None):\n",
    "    rep_names = get_rep_names()\n",
    "    filtered_table = filter_table(table, limit)\n",
    "    tech_reps = filtered_table[['#ID'] + [experiment + r for r in rep_names]]\n",
    "    flat = tech_reps.set_index('#ID').unstack()\n",
    "    flat.name = format_region(chrom, segment)\n",
    "    return flat\n",
    "\n",
    "def save_exp_matrix(filename, exp_matrix):\n",
    "    result = exp_matrix.dropna()\n",
    "    result.index = combine_exp_matrix_multi_index(result.index)\n",
    "    result = result.to_frame().T\n",
    "    result.to_csv(filename, sep='\\t', index_label='Name')\n",
    "    \n",
    "def save_categories(filename, exp_matrix):\n",
    "    columns = combine_exp_matrix_multi_index(exp_matrix.index)\n",
    "    \n",
    "    with open(filename, 'wt') as outstream:\n",
    "        for column_name, (tech_rep, construct) in zip(columns, exp_matrix.index):\n",
    "            outstream.write('{}\\t{}\\n'.format(column_name, construct))    "
   ]
  },
  {
   "cell_type": "code",
   "execution_count": 14,
   "metadata": {},
   "outputs": [],
   "source": [
    "def build_track(table, experiment, chromosome, segment, names, TMPDIR='/tmp'):\n",
    "    GENOME='mm10/'\n",
    "    URLBASE = 'https://woldlab.caltech.edu/~diane/encode3-transfection-overlap/' + GENOME\n",
    "    \n",
    "    matrix_ext = '.Matrix.txt'\n",
    "    sample_ext = '.Sample.txt'\n",
    "\n",
    "    basename = '-'.join([experiment, chromosome, str(segment.start), str(segment.stop)])\n",
    "    basename = basename.replace('1/2', 'half')\n",
    "    \n",
    "    with open(os.path.join(TMPDIR, basename + '.bed'), 'wt') as outstream:\n",
    "        for row in make_overlapped_region_bed(table, experiment, chromosome, segment, names):\n",
    "            outstream.write(row)\n",
    "            outstream.write(os.linesep)\n",
    "            \n",
    "    exp_matrix = create_exp_matrix(table, experiment, chromosome, segment, names)\n",
    "    save_exp_matrix(os.path.join(TMPDIR, basename + matrix_ext), exp_matrix)\n",
    "    save_categories(os.path.join(TMPDIR, basename + sample_ext), exp_matrix)\n",
    "\n",
    "    template = \"\"\"\n",
    "track {experiment}_{name}\n",
    "type bigBarChart\n",
    "visibility full\n",
    "shortLabel {short_label}\n",
    "longLabel {long_label}\n",
    "barChartBars {categories}\n",
    "barChartMetric median\n",
    "barChartLabel Constructs\n",
    "barChartUnit activity\n",
    "bigDataUrl {data_url}\n",
    "barChartMatrixUrl {matrix_url}\n",
    "barChartSampleUrl {sample_url}\n",
    "parent transfection_overlaps\n",
    "\"\"\"        \n",
    "#subGroups region={short_label} experiment={experiment}\n",
    "    \n",
    "    trackdb = template.format(\n",
    "        experiment=experiment.replace('1/2', 'half'),\n",
    "        name=sorted(names)[0],\n",
    "        short_label=format_region(chromosome, segment),\n",
    "        long_label=basename,\n",
    "        categories=' '.join(names),\n",
    "        data_url=urljoin(URLBASE, basename + '.bb'),\n",
    "        matrix_url=urljoin(URLBASE, basename + matrix_ext),\n",
    "        sample_url=urljoin(URLBASE, basename + sample_ext)\n",
    "    )\n",
    "\n",
    "    return trackdb"
   ]
  },
  {
   "cell_type": "code",
   "execution_count": 15,
   "metadata": {},
   "outputs": [],
   "source": [
    "def make_hub(table, regions):\n",
    "    TMPDIR = '/tmp/transfection/'\n",
    "    experiments = [\n",
    "        'C2C12_Myoblast_Rep1',\n",
    "        'C2C12_Myoblast_Rep2',\n",
    "        'C2C12_Myocyte_Rep1',\n",
    "        'C2C12_Myocyte_Rep2',\n",
    "        '10T1/2_Rep1',\n",
    "        '10T1/2_Rep2',\n",
    "        '10T1/2_MockDiff_Rep1',\n",
    "        '10T1/2_MockDiff_Rep2',\n",
    "    ]\n",
    "\n",
    "    composite = \"\"\"\n",
    "track transfection_overlaps\n",
    "compositeTrack on\n",
    "type bigBarChart\n",
    "shortLabel transfection overlaps\n",
    "longLabel Transfection overlapping regions\n",
    "subGroup1 regions {regions}\n",
    "subGroup2 experiment {experiments} \n",
    "dimensions dimX=regions dimY=experiment\n",
    "sortOrder regions=+ experiment=+\n",
    "\"\"\"        \n",
    "\n",
    "    supertrack = \"\"\"\n",
    "track transfection_overlaps\n",
    "superTrack on show\n",
    "shortLabel transfection overlaps\n",
    "longLabel Transfection overlapping regions\n",
    "\"\"\"     \n",
    "    block = [supertrack]\n",
    "    overlapping_regions = []\n",
    "    for chrom in regions:\n",
    "        for s in regions[chrom]:\n",
    "            if len(regions[chrom][s]) > 1:\n",
    "                overlapping_regions.append(format_region(chrom, s))\n",
    "                for experiment in experiments:\n",
    "                    score = compute_experiment_score(transfection, experiment, regions[chrom][s]).dropna()\n",
    "                    names = list(score['#ID'])\n",
    "                    if len(names) > 0:\n",
    "                        block.append(build_track(table, experiment, chrom, s, names, TMPDIR))\n",
    "    #block.insert(0, composite.format(\n",
    "    #    regions=' '.join(overlapping_regions), \n",
    "    #    experiments=' '.join(experiments)))\n",
    "    with open(os.path.join(TMPDIR, 'trackDb.txt'), 'wt') as outstream:\n",
    "        for b in block:\n",
    "            outstream.write(b)\n",
    "make_hub(transfection, regions)"
   ]
  },
  {
   "cell_type": "code",
   "execution_count": 18,
   "metadata": {},
   "outputs": [
    {
     "name": "stdout",
     "output_type": "stream",
     "text": [
      "chr1 91413902 91414660 {'WOLD_LR_014', 'NML_12'}\n",
      "chr1 92787054 92787878 {'WOLD_LR_013', 'WOLD_LR_086'}\n",
      "chr1 134071266 134073689 {'GS_Myog_09', 'GS_Myog_07'}\n",
      "chr1 134082949 134083616 {'GS_Myog_04', 'GS_Myog_06'}\n",
      "chr1 134091601 134093367 {'GS_Myog_01', 'GS_Myog_02'}\n",
      "chr1 134195092 134196873 {'BJW1004', 'BJW1003', 'BJW1007', 'BJW1006', 'BJW1005'}\n",
      "chr1 134201956 134203654 {'BJW1012', 'BJW1011'}\n",
      "chr1 134244220 134245912 {'BJW1000B', 'BJW1000A'}\n",
      "chr1 134275872 134277378 {'UP_15', 'GS_Myog_40'}\n",
      "chr1 134282949 134286451 {'BJW1016', 'GS_Myog_38'}\n",
      "chr1 134288925 134290101 {'GS_Myog_31', 'GS_Myog_30'}\n",
      "chr1 134320414 134321433 {'WOLD_LR_103', 'UP_20'}\n",
      "chr7 46300939 46301614 {'WOLD_LR_098', 'WOLD_LR_094'}\n",
      "chr7 46314527 46317458 {'WOLD2014JAN_047', 'WOLD_LR_095'}\n",
      "chr7 46352697 46354168 {'WOLD_LR_089', 'FT_7'}\n",
      "chr6 108668245 108668981 {'WOLD_LR_027', 'WOLD_LR_018'}\n",
      "chr8 34679747 34680516 {'DWR_7', 'DWR_2'}\n",
      "chr12 25097312 25099472 {'WOLD2014JAN_073', 'WOLD2014JAN_048'}\n",
      "39\n"
     ]
    }
   ],
   "source": [
    "overlapping = set()\n",
    "for chrom in regions:\n",
    "    for s in regions[chrom]:\n",
    "        if len(regions[chrom][s]) > 1:\n",
    "            print(chrom, s.start, s.stop, regions[chrom][s])\n",
    "            overlapping.update(regions[chrom][s])\n",
    "print(len(overlapping))\n"
   ]
  },
  {
   "cell_type": "code",
   "execution_count": 17,
   "metadata": {},
   "outputs": [
    {
     "data": {
      "text/html": [
       "<div>\n",
       "<style scoped>\n",
       "    .dataframe tbody tr th:only-of-type {\n",
       "        vertical-align: middle;\n",
       "    }\n",
       "\n",
       "    .dataframe tbody tr th {\n",
       "        vertical-align: top;\n",
       "    }\n",
       "\n",
       "    .dataframe thead th {\n",
       "        text-align: right;\n",
       "    }\n",
       "</style>\n",
       "<table border=\"1\" class=\"dataframe\">\n",
       "  <thead>\n",
       "    <tr style=\"text-align: right;\">\n",
       "      <th></th>\n",
       "      <th>#ID</th>\n",
       "      <th>C2C12_Myoblast_Rep2</th>\n",
       "    </tr>\n",
       "  </thead>\n",
       "  <tbody>\n",
       "  </tbody>\n",
       "</table>\n",
       "</div>"
      ],
      "text/plain": [
       "Empty DataFrame\n",
       "Columns: [#ID, C2C12_Myoblast_Rep2]\n",
       "Index: []"
      ]
     },
     "execution_count": 17,
     "metadata": {},
     "output_type": "execute_result"
    }
   ],
   "source": [
    "compute_experiment_score(transfection, 'C2C12_Myoblast_Rep2', ['WOLD_LR_027', 'WOLD_LR_018']).dropna()"
   ]
  },
  {
   "cell_type": "code",
   "execution_count": null,
   "metadata": {},
   "outputs": [],
   "source": []
  }
 ],
 "metadata": {
  "kernelspec": {
   "display_name": "Python 3",
   "language": "python",
   "name": "python3"
  },
  "language_info": {
   "codemirror_mode": {
    "name": "ipython",
    "version": 3
   },
   "file_extension": ".py",
   "mimetype": "text/x-python",
   "name": "python",
   "nbconvert_exporter": "python",
   "pygments_lexer": "ipython3",
   "version": "3.6.7"
  }
 },
 "nbformat": 4,
 "nbformat_minor": 2
}
