{
 "cells": [
  {
   "cell_type": "markdown",
   "metadata": {},
   "source": [
    "The EN-TEX biosamples need special handling as we need to track the upstream split from and donor information.\n",
    "\n",
    "I had originally started registering them in encode-y4q1-submission. But then we had more to submit. So felt it would be best to split out the validation I was doing into a new notebook."
   ]
  },
  {
   "cell_type": "code",
   "execution_count": 1,
   "metadata": {
    "collapsed": false
   },
   "outputs": [],
   "source": [
    "import pandas\n",
    "import gcat\n",
    "import numpy"
   ]
  },
  {
   "cell_type": "code",
   "execution_count": 2,
   "metadata": {
    "collapsed": true
   },
   "outputs": [],
   "source": [
    "from curation_common import *"
   ]
  },
  {
   "cell_type": "code",
   "execution_count": 3,
   "metadata": {
    "collapsed": true
   },
   "outputs": [],
   "source": [
    "def strip_donor(cell):\n",
    "    if pandas.isnull(cell):\n",
    "        return cell\n",
    "    return cell.replace('Donor', '').strip()\n",
    "    \n",
    "def strip_comment_from_id(cell):\n",
    "    if pandas.isnull(cell):\n",
    "        return cell\n",
    "    \n",
    "    for i, c in enumerate(cell):\n",
    "        if not c.isalnum():\n",
    "            return cell[:i]\n",
    "    return cell\n",
    "\n",
    "def suppress_updated(cell):\n",
    "    \"\"\"Help emptying fields from the footer so we can drop them\n",
    "    \"\"\"\n",
    "    if cell == 'Updated on:':\n",
    "        return numpy.nan\n",
    "    \n",
    "    return cell"
   ]
  },
  {
   "cell_type": "code",
   "execution_count": 4,
   "metadata": {
    "collapsed": true
   },
   "outputs": [],
   "source": [
    "entex_production_url = \"https://docs.google.com/spreadsheets/d/1nceX7J2rtyPEmqeIW7ypVSDDLQ6ipqP-l6k-LlYr6rM/export?format=xlsx&id=1nceX7J2rtyPEmqeIW7ypVSDDLQ6ipqP-l6k-LlYr6rM\""
   ]
  },
  {
   "cell_type": "code",
   "execution_count": 5,
   "metadata": {
    "collapsed": false
   },
   "outputs": [],
   "source": [
    "entex_scale_up_male = pandas.read_excel(\n",
    "    entex_production_url, \n",
    "    sheetname=\"EN-TEX Scale-Up (Male)\", \n",
    "    skip_rows=2, header=2, parse_cols=[0,1,2,3,4,5],\n",
    "    converters={\n",
    "        'Tissue': suppress_updated,\n",
    "        'GTEX Donor': strip_donor,\n",
    "        'ENCODE Parent BioSample Accession #': strip_comment_from_id,\n",
    "        'CSHL RNA BioSample Accession # (RIN#)': strip_comment_from_id,\n",
    "    }\n",
    ")\n",
    "#entex_scale_up_male"
   ]
  },
  {
   "cell_type": "code",
   "execution_count": 6,
   "metadata": {
    "collapsed": false
   },
   "outputs": [],
   "source": [
    "entex_scale_up_female = pandas.read_excel(\n",
    "    entex_production_url, \n",
    "    sheetname=\"EN-TEX Scale-Up (Female)\", \n",
    "    skip_rows=2, header=2, parse_cols=[0,1,2,3,4,5],\n",
    "    converters={\n",
    "        'GTEX Donor': strip_donor,\n",
    "        'ENCODE Parent BioSample Accession #': strip_comment_from_id,\n",
    "        'CSHL RNA BioSample Accession # (RIN#)': strip_comment_from_id,\n",
    "    }\n",
    ")\n",
    "#entex_scale_up_female"
   ]
  },
  {
   "cell_type": "markdown",
   "metadata": {},
   "source": [
    "make sure column names match"
   ]
  },
  {
   "cell_type": "code",
   "execution_count": 7,
   "metadata": {
    "collapsed": false
   },
   "outputs": [
    {
     "data": {
      "text/plain": [
       "set()"
      ]
     },
     "execution_count": 7,
     "metadata": {},
     "output_type": "execute_result"
    }
   ],
   "source": [
    "set(entex_scale_up_male.columns).difference(set(entex_scale_up_female.columns))"
   ]
  },
  {
   "cell_type": "code",
   "execution_count": 8,
   "metadata": {
    "collapsed": false
   },
   "outputs": [],
   "source": [
    "entex_scale_up = pandas.concat([entex_scale_up_male, entex_scale_up_female])\n",
    "#entex_scale_up"
   ]
  },
  {
   "cell_type": "code",
   "execution_count": 9,
   "metadata": {
    "collapsed": true
   },
   "outputs": [],
   "source": [
    "spreadsheet_name = 'ENCODE Submission for Y4Q1'\n",
    "sheet_name = 'Biosamples'"
   ]
  },
  {
   "cell_type": "code",
   "execution_count": 10,
   "metadata": {
    "collapsed": true
   },
   "outputs": [],
   "source": [
    "plate_id_to_part_of = {\n",
    "    '9IT1C': 'ENCBS890WYO',\n",
    "    '9JLPD': 'ENCBS890WYO',\n",
    "\n",
    "    '9JLPJ': 'ENCBS562VSE',\n",
    "    '9JLPP': 'ENCBS562VSE',\n",
    "    \n",
    "    #'     ': 'ENCBS027MVW',\n",
    "    #'     ': 'ENCBS027MVW',\n",
    "    \n",
    "    #'    ': 'ENCBS380CLT',\n",
    "    #'     ': 'ENCBS380CLT',\n",
    "\n",
    "    '9IT1F': 'ENCBS335JSV',\n",
    "    '9JLPG': 'ENCBS335JSV',\n",
    "    \n",
    "    '9JLPK': 'ENCBS692CGI',\n",
    "    '9JLPQ': 'ENCBS692CGI',    \n",
    "    \n",
    "    '9IT1E': 'ENCBS564MPZ',\n",
    "    '9JLPF': 'ENCBS564MPZ',\n",
    "    \n",
    "    '9JLPO': 'ENCBS494DUH',\n",
    "    '9JLPU': 'ENCBS494DUH',\n",
    "    \n",
    "    '91TIG': 'ENCBS380GWR',\n",
    "    '9JLPH': 'ENCBS380GWR',\n",
    "    \n",
    "    '9JLPN': 'ENCBS005MNT',\n",
    "    '9JLPT': 'ENCBS005MNT',\n",
    "    \n",
    "    '9JLPI': 'ENCBS644JRA',\n",
    "    #'     ': 'ENCBS644JRA',\n",
    "    \n",
    "    '9JLPM': 'ENCBS855YAD',\n",
    "    '9JLPS': 'ENCBS855YAD',\n",
    "}"
   ]
  },
  {
   "cell_type": "code",
   "execution_count": 11,
   "metadata": {
    "collapsed": true
   },
   "outputs": [],
   "source": [
    "gtex_donor_to_encode = {\n",
    "  '1JKYN': 'ENCDO845WKR',\n",
    "  '1K2DA': 'ENCDO451RUA',\n",
    "}"
   ]
  },
  {
   "cell_type": "code",
   "execution_count": 12,
   "metadata": {
    "collapsed": false
   },
   "outputs": [],
   "source": [
    "def lookup_broad(broad_id):\n",
    "    if pandas.isnull(broad_id):\n",
    "        return None\n",
    "    \n",
    "    last = broad_id.split('-')[-1]\n",
    "    return plate_id_to_part_of.get(last)\n",
    "\n",
    "def lookup_gtex_donor_id(donor_id):\n",
    "    if pandas.isnull(donor_id):\n",
    "        return None\n",
    "                    \n",
    "    last = donor_id.split('-')[-1]\n",
    "    return gtex_donor_to_encode[last]\n",
    "\n",
    "class LookupBiosample:\n",
    "    def __init__(self):\n",
    "        self._cache = {}\n",
    "        self._server = ENCODED('www.encodeproject.org')\n",
    "        self._server.load_netrc()\n",
    "        \n",
    "    def biosample_term_id(self, biosample_id):\n",
    "        if pandas.isnull(biosample_id):\n",
    "            return None\n",
    "        \n",
    "        biosample = self._cache.setdefault(biosample_id, self._server.get_json(biosample_id))\n",
    "        return biosample['biosample_term_id']\n",
    "\n",
    "    def biosample_term_name(self, biosample_id):\n",
    "        if pandas.isnull(biosample_id):\n",
    "            return None\n",
    "        \n",
    "        biosample = self._cache.setdefault(biosample_id, self._server.get_json(biosample_id))\n",
    "        return biosample['biosample_term_name']\n",
    "\n",
    "def compute_part_of(row):\n",
    "    part_of = row['part_of']\n",
    "    if pandas.isnull(part_of):\n",
    "        return lookup_broad(row['broad_biosample:skip'])\n",
    "    \n",
    "    return part_of\n",
    "\n",
    "def compute_donor(row):\n",
    "    donor = row['donor']\n",
    "    if pandas.isnull(donor):\n",
    "        return lookup_gtex_donor_id(row['gtex_donor:skip'])\n",
    "    \n",
    "    return donor\n",
    "    \n",
    "    \n",
    "def validate_from_production(table):\n",
    "    def validate_callable(row):\n",
    "        # skip rows weve already done.\n",
    "        if pandas.notnull(row['biosample_accession']):\n",
    "            return True\n",
    "        \n",
    "        # we're keying off of part of, so if that's not present we cant do anything\n",
    "        part_of = row['part_of']\n",
    "        if pandas.isnull(part_of):\n",
    "            return True\n",
    "        \n",
    "        # filter metadata table\n",
    "        upstream_rows = table[table['ENCODE Parent BioSample Accession #'] == part_of]\n",
    "        if len(upstream_rows) == 0:\n",
    "            # No maches\n",
    "            print(\"No metadata for: {}\".format(part_of))\n",
    "            return False\n",
    "        \n",
    "        # make sure tissue and description match\n",
    "        description = next(iter(upstream_rows['Tissue']))\n",
    "        if description != row['description']:\n",
    "            print('{} description {} != {}'.format(part_of, description, row['description']))\n",
    "            return False\n",
    "            \n",
    "        # make sure GTEX donors match.\n",
    "        gtex = next(iter(upstream_rows['GTEX Donor']))\n",
    "        gtex = gtex.replace('GTEX-', 'PT-')\n",
    "        if gtex != row['gtex_donor:skip']:\n",
    "            print('{} gtex {} != {}'.format(part_of, gtex, row['gtex_donor:skip']))\n",
    "            return False\n",
    "        \n",
    "        # Make sure ENCODE donor matches\n",
    "        donor = next(iter(upstream_rows['ENCODE Donor Accession']))\n",
    "        if donor != row['donor']:\n",
    "            print('{} donor {} != {}'.format(part_of, donor, row['donor']))\n",
    "            return False\n",
    "\n",
    "        # Make sure age matches\n",
    "        age_sex = next(iter(upstream_rows['Age Sex']))\n",
    "        age = float(age_sex[:-1])\n",
    "        sex = age_sex[-1:]\n",
    "        if age != row['model_organism_age']:\n",
    "            print('{} age {} != {}'.format(part_of, age, row['model_organism_age']))\n",
    "            return False\n",
    "        \n",
    "        return True\n",
    "    return validate_callable"
   ]
  },
  {
   "cell_type": "code",
   "execution_count": 13,
   "metadata": {
    "collapsed": true
   },
   "outputs": [],
   "source": [
    "y4q1 = gcat.get_file(spreadsheet_name, fmt='pandas_excel')\n",
    "biosample = y4q1.parse(sheet_name, header=0)"
   ]
  },
  {
   "cell_type": "code",
   "execution_count": 14,
   "metadata": {
    "collapsed": true
   },
   "outputs": [],
   "source": [
    "lookup_biosample = LookupBiosample()"
   ]
  },
  {
   "cell_type": "code",
   "execution_count": 15,
   "metadata": {
    "collapsed": true
   },
   "outputs": [],
   "source": [
    "# these were needed for the pilot \n",
    "#biosample['part_of'] = biosample.apply(compute_part_of, axis=1)\n",
    "#biosample['donor'] = biosample.apply(compute_donor, axis=1)"
   ]
  },
  {
   "cell_type": "code",
   "execution_count": 16,
   "metadata": {
    "collapsed": false
   },
   "outputs": [
    {
     "data": {
      "text/plain": [
       "True"
      ]
     },
     "execution_count": 16,
     "metadata": {},
     "output_type": "execute_result"
    }
   ],
   "source": [
    "numpy.all(biosample.apply(validate_from_production(entex_scale_up), axis=1))"
   ]
  },
  {
   "cell_type": "code",
   "execution_count": 17,
   "metadata": {
    "collapsed": false
   },
   "outputs": [],
   "source": [
    "biosample['biosample_term_id'] = biosample['part_of'].map(lookup_biosample.biosample_term_id)\n",
    "biosample['biosample_term_name'] = biosample['part_of'].map(lookup_biosample.biosample_term_name)"
   ]
  },
  {
   "cell_type": "code",
   "execution_count": 18,
   "metadata": {
    "collapsed": true
   },
   "outputs": [],
   "source": [
    "biosample.to_excel('/dev/shm/biosamples.xlsx', index=False)"
   ]
  },
  {
   "cell_type": "code",
   "execution_count": null,
   "metadata": {
    "collapsed": true
   },
   "outputs": [],
   "source": []
  }
 ],
 "metadata": {
  "kernelspec": {
   "display_name": "Python 3",
   "language": "python",
   "name": "python3"
  },
  "language_info": {
   "codemirror_mode": {
    "name": "ipython",
    "version": 3
   },
   "file_extension": ".py",
   "mimetype": "text/x-python",
   "name": "python",
   "nbconvert_exporter": "python",
   "pygments_lexer": "ipython3",
   "version": "3.4.4"
  }
 },
 "nbformat": 4,
 "nbformat_minor": 0
}
