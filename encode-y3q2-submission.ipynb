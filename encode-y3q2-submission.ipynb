{
 "metadata": {
  "name": "",
  "signature": "sha256:33b955ddd0abe62d604ef01277dd86ee1b75ff86ead2735c59c9fec66990717e"
 },
 "nbformat": 3,
 "nbformat_minor": 0,
 "worksheets": [
  {
   "cells": [
    {
     "cell_type": "markdown",
     "metadata": {},
     "source": [
      "Start preparing notebook for the ENCODE Y3Q2 Submission"
     ]
    },
    {
     "cell_type": "code",
     "collapsed": false,
     "input": [
      "from __future__ import print_function\n",
      "\n",
      "import pandas\n",
      "import base64\n",
      "import hashlib\n",
      "import json\n",
      "import os\n",
      "import paramiko\n",
      "import sys\n",
      "import pprint\n",
      "import requests\n",
      "import jsonschema\n",
      "from IPython.display import display\n",
      "import gcat\n",
      "from six.moves.urllib.parse import urlunsplit\n",
      "from curation_common import *"
     ],
     "language": "python",
     "metadata": {},
     "outputs": [],
     "prompt_number": 1
    },
    {
     "cell_type": "code",
     "collapsed": false,
     "input": [
      "#server = ENCODED('test.encodedcc.org')\n",
      "server = ENCODED('www.encodedcc.org')\n",
      "server.load_netrc()"
     ],
     "language": "python",
     "metadata": {},
     "outputs": [],
     "prompt_number": 2
    },
    {
     "cell_type": "code",
     "collapsed": false,
     "input": [
      "lab = 'barbara-wold'\n",
      "award = 'U54HG006998'"
     ],
     "language": "python",
     "metadata": {},
     "outputs": [],
     "prompt_number": 3
    },
    {
     "cell_type": "heading",
     "level": 1,
     "metadata": {},
     "source": [
      "Create Documents"
     ]
    },
    {
     "cell_type": "code",
     "collapsed": false,
     "input": [
      "from htsworkflow.submission.encoded import Document"
     ],
     "language": "python",
     "metadata": {},
     "outputs": [],
     "prompt_number": 4
    },
    {
     "cell_type": "code",
     "collapsed": false,
     "input": [
      "ultra_low = Document(\n",
      "  #,\n",
      "  \"/home/diane/dl/SMARTer Ultra Low RNA Kit for Illumina Sequencing User Manual (PT5163-1)_120213.pdf\",\n",
      "  \"extraction protocol\",\n",
      "  \"SMARTer Ultra Low RNA Kit for Illumina Sequencing\",\n",
      "  [\"barbara-wold:smarter-ulta-low-pdf\"])\n",
      "ultra_low.urls = [\"http://clontech.com/xxclt_ibcGetAttachment.jsp?cItemId=41709&minisite=10020&invItemId=1110019\"]\n",
      "#ultra_low.filename = \"SMARTer Ultra Low RNA Kit for Illumina Sequencing User Manual (PT5163-1)_120213.\""
     ],
     "language": "python",
     "metadata": {},
     "outputs": [],
     "prompt_number": 5
    },
    {
     "cell_type": "code",
     "collapsed": false,
     "input": [
      "ultra_low_uuid = '49fd5b3b-9878-4ec8-92bf-ef6dce9116e3'\n",
      "ultra_low_document = ultra_low.create_if_needed(server, ultra_low_uuid)"
     ],
     "language": "python",
     "metadata": {},
     "outputs": [],
     "prompt_number": 6
    },
    {
     "cell_type": "code",
     "collapsed": false,
     "input": [
      "profile_5_concentration = Document(\n",
      "  \"/home/diane/proj/encode3-curation/profile 5 ERCC concentrations.pdf\",\n",
      "  \"spike-in concentrations\",\n",
      "  \"ERCC Concentrations for Caltech Profile 5 single cell concentrations\"\n",
      ")"
     ],
     "language": "python",
     "metadata": {},
     "outputs": [],
     "prompt_number": 7
    },
    {
     "cell_type": "code",
     "collapsed": false,
     "input": [
      "concentration_uuid = '6c85b2fd-0e96-4dca-ac07-b65d9f41c50e'\n",
      "concentration_document = profile_5_concentration.create_if_needed(server, concentration_uuid)"
     ],
     "language": "python",
     "metadata": {},
     "outputs": [],
     "prompt_number": 8
    },
    {
     "cell_type": "code",
     "collapsed": false,
     "input": [
      "import logging\n",
      "logging.basicConfig(level=logging.DEBUG)"
     ],
     "language": "python",
     "metadata": {},
     "outputs": [],
     "prompt_number": 9
    },
    {
     "cell_type": "heading",
     "level": 1,
     "metadata": {},
     "source": [
      "Create Spikein"
     ]
    },
    {
     "cell_type": "code",
     "collapsed": false,
     "input": [
      "ERCC = {\n",
      "    'description': 'Ambion ERCC spikes diluted for single cell or single cell equivalent starting material',\n",
      "    'dataset_type': 'spike-ins',\n",
      "    'related_files': ['/files/ENCFF001RTP'],\n",
      "    'award': award,\n",
      "    'lab': lab,\n",
      "}\n",
      "server.validate(ERCC, '/datasets/')\n",
      "ERCC_accession = 'ENCSR133ALU'\n",
      "if ERCC_accession is None:\n",
      "    print(server.post_json('/datasets/', ERCC))"
     ],
     "language": "python",
     "metadata": {},
     "outputs": [],
     "prompt_number": 10
    },
    {
     "cell_type": "heading",
     "level": 1,
     "metadata": {},
     "source": [
      "Create Biosamples"
     ]
    },
    {
     "cell_type": "code",
     "collapsed": false,
     "input": [
      "spreadsheet_name = \"Test Brian's Mice\"\n",
      "mice_book = gcat.get_file(spreadsheet_name, fmt='pandas_excel')\n",
      "mice = mice_book.parse('Sheet 1')"
     ],
     "language": "python",
     "metadata": {},
     "outputs": [],
     "prompt_number": 11
    },
    {
     "cell_type": "code",
     "collapsed": false,
     "input": [
      "created = server.post_sheet('/biosamples/', mice, dry_run=True)"
     ],
     "language": "python",
     "metadata": {},
     "outputs": [],
     "prompt_number": 12
    },
    {
     "cell_type": "code",
     "collapsed": false,
     "input": [
      "if created:\n",
      "    updates = []\n",
      "    for row in created:\n",
      "        updates.append({'uuid': row['uuid'], 'biosample_accession': row['accession'], 'aliases': row['aliases'][0]})\n",
      "    updatesdf = pandas.DataFrame(updates, columns=['uuid', 'biosample_accession', 'aliases'])\n",
      "    updatesdf.to_excel('/tmp/update.xlsx')"
     ],
     "language": "python",
     "metadata": {},
     "outputs": [],
     "prompt_number": 13
    },
    {
     "cell_type": "heading",
     "level": 1,
     "metadata": {},
     "source": [
      "Create experiments"
     ]
    },
    {
     "cell_type": "code",
     "collapsed": false,
     "input": [
      "spreadsheet_name = \"Test ENCODE Submission for Y3Q2\"\n",
      "y3q2_book = gcat.get_file(spreadsheet_name, fmt='pandas_excel')\n",
      "experiments = y3q2_book.parse('Experiments')"
     ],
     "language": "python",
     "metadata": {},
     "outputs": [],
     "prompt_number": 14
    },
    {
     "cell_type": "code",
     "collapsed": false,
     "input": [
      "experiments_created = server.post_sheet('/experiments/', experiments, dry_run=True, verbose=True)"
     ],
     "language": "python",
     "metadata": {},
     "outputs": [],
     "prompt_number": 15
    },
    {
     "cell_type": "code",
     "collapsed": false,
     "input": [
      "experiments.to_excel('/tmp/experiments.xlsx')"
     ],
     "language": "python",
     "metadata": {},
     "outputs": [],
     "prompt_number": 16
    },
    {
     "cell_type": "heading",
     "level": 1,
     "metadata": {},
     "source": [
      "Create libraries"
     ]
    },
    {
     "cell_type": "code",
     "collapsed": false,
     "input": [
      "spreadsheet_name = \"Test ENCODE Submission for Y3Q2\"\n",
      "y3q2_book = gcat.get_file(spreadsheet_name, fmt='pandas_excel')\n",
      "libraries = y3q2_book.parse('Libraries')"
     ],
     "language": "python",
     "metadata": {},
     "outputs": [],
     "prompt_number": 17
    },
    {
     "cell_type": "code",
     "collapsed": false,
     "input": [
      "libraries_created = server.post_sheet('/libraries/', libraries, dry_run=True, verbose=True)"
     ],
     "language": "python",
     "metadata": {},
     "outputs": [],
     "prompt_number": 18
    },
    {
     "cell_type": "code",
     "collapsed": false,
     "input": [
      "len(libraries_created)"
     ],
     "language": "python",
     "metadata": {},
     "outputs": [
      {
       "metadata": {},
       "output_type": "pyout",
       "prompt_number": 19,
       "text": [
        "0"
       ]
      }
     ],
     "prompt_number": 19
    },
    {
     "cell_type": "code",
     "collapsed": false,
     "input": [
      "libraries.to_excel('/tmp/libraries.xlsx')"
     ],
     "language": "python",
     "metadata": {},
     "outputs": [],
     "prompt_number": 20
    },
    {
     "cell_type": "heading",
     "level": 1,
     "metadata": {},
     "source": [
      "Create Replicates"
     ]
    },
    {
     "cell_type": "code",
     "collapsed": false,
     "input": [
      "spreadsheet_name = \"Test ENCODE Submission for Y3Q2\"\n",
      "y3q2_book = gcat.get_file(spreadsheet_name, fmt='pandas_excel')\n",
      "replicates = y3q2_book.parse('Replicates')"
     ],
     "language": "python",
     "metadata": {},
     "outputs": [],
     "prompt_number": 21
    },
    {
     "cell_type": "code",
     "collapsed": false,
     "input": [
      "replicates_created = server.post_sheet('/replicates/', replicates, dry_run=True, verbose=True)"
     ],
     "language": "python",
     "metadata": {},
     "outputs": [],
     "prompt_number": 22
    },
    {
     "cell_type": "code",
     "collapsed": false,
     "input": [
      "replicates.to_excel('/tmp/replicates.xlsx')"
     ],
     "language": "python",
     "metadata": {},
     "outputs": [],
     "prompt_number": 23
    },
    {
     "cell_type": "heading",
     "level": 1,
     "metadata": {},
     "source": [
      "Create File Metadata"
     ]
    },
    {
     "cell_type": "code",
     "collapsed": false,
     "input": [
      "def make_aws_metadata(host, path, replicates, map_name):\n",
      "    _, submission_name = os.path.split(path)\n",
      "    pongo = paramiko.SSHClient()\n",
      "    pongo.set_missing_host_key_policy(paramiko.WarningPolicy())\n",
      "    pongo.connect(host, username='diane')\n",
      "    sftp = pongo.open_sftp()\n",
      "    sftp.chdir(path)\n",
      "\n",
      "    for line in sftp.open(map_name):\n",
      "        library_id, dirname = line.split()\n",
      "        alias = 'barbara-wold:{}'.format(library_id)\n",
      "        library_row = libraries[libraries['aliases:array'] == alias]\n",
      "        replicate_row = replicates[replicates['library'] == alias]\n",
      "        dataset = list(replicate_row['experiment'])[0]\n",
      "        replicate = list(replicate_row['replicate_uuid'])[0]\n",
      "        print('<http://jumpgate.caltech.edu/wiki/SubmissionsLog/{}#{}>'.format(\n",
      "              submission_name, dirname))\n",
      "        print('  encode3:dataset \"{}\" ;'.format(dataset))\n",
      "        print('  encode3:replicate \"{}\" ;'.format(replicate))\n",
      "        print('  encode3:lab \"{}\" ;'.format(lab))\n",
      "        print('  encode3:award \"{}\" .'.format(award))\n",
      "        \n",
      "        for filename in sftp.listdir(dirname):\n",
      "            if filename.endswith('fastq.gz'):\n",
      "                relative_path = os.path.join(dirname, filename)\n",
      "            #display.display_pretty(metadata)\n",
      "\n",
      "            print('<{}>'.format(urlunsplit(('file', None, os.path.join(path, relative_path), None, None))))\n",
      "            print('  encode3:output_type \"raw data\" ;')\n",
      "            print('  encode3:file_format \"fastq\" .')\n",
      "\n",
      "    print('generated')\n",
      "\n",
      "#make_aws_metadata('pongo.cacr.caltech.edu', '/woldlab/castor/home/diane/proj/submission/encode-y3q2',\n",
      "#                  replicates, 'libs.txt')"
     ],
     "language": "python",
     "metadata": {},
     "outputs": [],
     "prompt_number": 24
    },
    {
     "cell_type": "heading",
     "level": 1,
     "metadata": {},
     "source": [
      "Fix validation issues"
     ]
    },
    {
     "cell_type": "code",
     "collapsed": false,
     "input": [
      "spreadsheet_name = \"ENCODE Submission for Y3Q2\"\n",
      "y3q2_book = gcat.get_file(spreadsheet_name, fmt='pandas_excel')\n",
      "experiments = y3q2_book.parse('Experiments')\n",
      "libraries = y3q2_book.parse('Libraries')\n",
      "replicates = y3q2_book.parse('Replicates')"
     ],
     "language": "python",
     "metadata": {},
     "outputs": [],
     "prompt_number": 25
    },
    {
     "cell_type": "code",
     "collapsed": false,
     "input": [
      "for i in replicates.index:\n",
      "    replicate = replicates.irow(i)\n",
      "    fix = {\n",
      "       'paired_ended': bool(replicate['paired_ended']),\n",
      "       'read_length' : int(replicate['read_length']),\n",
      "       'read_length_units': 'nt',\n",
      "    }\n",
      "    uuid = replicate['uuid']\n",
      "    print(uuid, fix)\n",
      "    #server.patch_json('/replicates/' + uuid, fix)"
     ],
     "language": "python",
     "metadata": {},
     "outputs": [
      {
       "output_type": "stream",
       "stream": "stdout",
       "text": [
        "04cdf437-1e09-4603-b99a-dea90e86e556 {'read_length': 101, 'paired_ended': False, 'read_length_units': 'nt'}\n",
        "f9e157c8-4486-451e-8331-bb6c133474c6 {'read_length': 101, 'paired_ended': False, 'read_length_units': 'nt'}\n",
        "37c30ffd-48bf-417e-8fed-a4d94f7e3398 {'read_length': 101, 'paired_ended': False, 'read_length_units': 'nt'}\n",
        "e1ddd694-dc44-4aaf-8b78-5868bbffc7f0 {'read_length': 101, 'paired_ended': False, 'read_length_units': 'nt'}\n",
        "452f2c2c-5885-4afd-8c7f-b6f081cf4e14 {'read_length': 101, 'paired_ended': False, 'read_length_units': 'nt'}\n",
        "bccac906-0a8d-4655-9c51-c1dc87727d10 {'read_length': 101, 'paired_ended': False, 'read_length_units': 'nt'}\n",
        "20c73489-42ac-4f16-b7f8-5bb62a326f99 {'read_length': 101, 'paired_ended': False, 'read_length_units': 'nt'}\n",
        "73e7ecbe-a129-4133-82ec-08b6dc9a2a43 {'read_length': 101, 'paired_ended': False, 'read_length_units': 'nt'}\n",
        "6111fda6-30c2-42ed-804f-78fb5424ffa0 {'read_length': 101, 'paired_ended': False, 'read_length_units': 'nt'}\n",
        "7bbdec07-1d5b-4c91-8d04-9da7788b689e {'read_length': 101, 'paired_ended': False, 'read_length_units': 'nt'}\n",
        "f0357f40-b329-4124-975a-b57156e2e5a9 {'read_length': 101, 'paired_ended': False, 'read_length_units': 'nt'}\n",
        "1536e7c0-8942-43a2-8405-04a4b69cd845 {'read_length': 101, 'paired_ended': False, 'read_length_units': 'nt'}\n",
        "6e631b6b-4a2e-492b-bab1-16c8ea90809e {'read_length': 101, 'paired_ended': False, 'read_length_units': 'nt'}\n",
        "5f0af1d7-d7bc-4226-984a-c1f05408a917 {'read_length': 101, 'paired_ended': False, 'read_length_units': 'nt'}\n",
        "47b25d83-09f2-4332-ae42-97175ec445c1 {'read_length': 101, 'paired_ended': False, 'read_length_units': 'nt'}\n",
        "f8b65f9c-90a6-49e4-ae95-71d02fbe62c7 {'read_length': 101, 'paired_ended': False, 'read_length_units': 'nt'}\n",
        "f186414e-7196-4937-9630-ade65c66eff3 {'read_length': 101, 'paired_ended': False, 'read_length_units': 'nt'}\n",
        "5276766f-b7dd-440b-a03a-b15c775141e4 {'read_length': 101, 'paired_ended': False, 'read_length_units': 'nt'}\n",
        "4c04fe05-a3a8-41c6-926a-b62b206c4d08 {'read_length': 101, 'paired_ended': False, 'read_length_units': 'nt'}\n",
        "9184a96b-f161-43ff-bf01-f41e04584c39 {'read_length': 101, 'paired_ended': False, 'read_length_units': 'nt'}\n",
        "a2166130-1f02-401a-8cca-d1d7523262a1 {'read_length': 101, 'paired_ended': False, 'read_length_units': 'nt'}\n",
        "1344dcb4-f2ec-4b3c-8c31-bb7e89a37ba3 {'read_length': 101, 'paired_ended': False, 'read_length_units': 'nt'}\n",
        "0995b96b-b0e6-453a-b662-04917bbe931e {'read_length': 101, 'paired_ended': False, 'read_length_units': 'nt'}\n",
        "94744585-f633-4df5-96f0-428f51f235bf {'read_length': 101, 'paired_ended': False, 'read_length_units': 'nt'}\n",
        "399a0f30-18df-4e60-a9b0-fadfef7947f8 {'read_length': 101, 'paired_ended': False, 'read_length_units': 'nt'}\n",
        "3b842947-435f-412d-9775-49ca2737ff2d {'read_length': 101, 'paired_ended': False, 'read_length_units': 'nt'}\n",
        "785cb09e-4703-4105-b217-0e7f6ea812eb {'read_length': 101, 'paired_ended': False, 'read_length_units': 'nt'}\n",
        "16ecb6ce-6310-4bbb-81e8-60892abe68fb {'read_length': 101, 'paired_ended': False, 'read_length_units': 'nt'}\n",
        "54e8c668-76d6-4149-a198-fd953bb8dd35 {'read_length': 101, 'paired_ended': False, 'read_length_units': 'nt'}\n",
        "d197f23a-b7be-4499-89c2-1974e61fd80b {'read_length': 101, 'paired_ended': False, 'read_length_units': 'nt'}\n"
       ]
      }
     ],
     "prompt_number": 26
    },
    {
     "cell_type": "code",
     "collapsed": false,
     "input": [
      "for i in libraries.index:\n",
      "    library = libraries.irow(i)\n",
      "    fix = {\n",
      "       'paired_ended': bool(library['paired_ended']),\n",
      "    }\n",
      "    accession = '/libraries/' + library['library_accession']\n",
      "    print(accession, fix)\n",
      "    #server.patch_json(accession, fix)"
     ],
     "language": "python",
     "metadata": {},
     "outputs": [
      {
       "output_type": "stream",
       "stream": "stdout",
       "text": [
        "/libraries/ENCLB266LCY {'paired_ended': True}\n",
        "/libraries/ENCLB055JUC {'paired_ended': True}\n",
        "/libraries/ENCLB080NNG {'paired_ended': True}\n",
        "/libraries/ENCLB180OTB {'paired_ended': True}\n",
        "/libraries/ENCLB274VUA {'paired_ended': True}\n",
        "/libraries/ENCLB441AFS {'paired_ended': True}\n",
        "/libraries/ENCLB790ZKD {'paired_ended': True}\n",
        "/libraries/ENCLB319NLX {'paired_ended': True}\n",
        "/libraries/ENCLB074REG {'paired_ended': True}\n",
        "/libraries/ENCLB415KPR {'paired_ended': True}\n",
        "/libraries/ENCLB658ICO {'paired_ended': True}\n",
        "/libraries/ENCLB741KQB {'paired_ended': True}\n",
        "/libraries/ENCLB810TRL {'paired_ended': True}\n",
        "/libraries/ENCLB544VIE {'paired_ended': True}\n",
        "/libraries/ENCLB370ZFK {'paired_ended': True}\n",
        "/libraries/ENCLB273BPC {'paired_ended': True}\n",
        "/libraries/ENCLB847UDV {'paired_ended': True}\n",
        "/libraries/ENCLB704CYQ {'paired_ended': True}\n",
        "/libraries/ENCLB318WHF {'paired_ended': True}\n",
        "/libraries/ENCLB590UZK {'paired_ended': True}\n",
        "/libraries/ENCLB260QNG {'paired_ended': True}\n",
        "/libraries/ENCLB817LXB {'paired_ended': True}\n",
        "/libraries/ENCLB169SNA {'paired_ended': True}\n",
        "/libraries/ENCLB459OYG {'paired_ended': True}\n",
        "/libraries/ENCLB217DSV {'paired_ended': True}\n",
        "/libraries/ENCLB159SLV {'paired_ended': True}\n",
        "/libraries/ENCLB022VFG {'paired_ended': True}\n",
        "/libraries/ENCLB416HZP {'paired_ended': True}\n",
        "/libraries/ENCLB556YSG {'paired_ended': True}\n",
        "/libraries/ENCLB803HJK {'paired_ended': True}\n"
       ]
      }
     ],
     "prompt_number": 27
    },
    {
     "cell_type": "code",
     "collapsed": false,
     "input": [
      "for biosample_id in ['ENCBS752OWG', 'ENCBS088IBU', 'ENCBS063WBZ', 'ENCBS774ONN', 'ENCBS188LXM', 'ENCBS717JUY',\n",
      "                     'ENCBS457KYF', 'ENCBS569IOK', 'ENCBS249ZOF']:\n",
      "    accession = '/biosamples/' + biosample_id\n",
      "    biosample = server.get_json(accession)\n",
      "    if 'donor' not in biosample:\n",
      "        fix = {\n",
      "            'donor': 'ENCDO956IXV',\n",
      "        }\n",
      "        print(accession, fix)\n",
      "        #server.patch_json(accession, fix)"
     ],
     "language": "python",
     "metadata": {},
     "outputs": [],
     "prompt_number": 28
    },
    {
     "cell_type": "code",
     "collapsed": false,
     "input": [
      "for i in experiments.index:\n",
      "    experiment_row = experiments.irow(i)\n",
      "    experiment_accession = '/experiments/' + experiment_row['experiment_accession']\n",
      "    experiment = server.get_json(experiment_accession)\n",
      "    biosample = experiment['replicates'][0]['library']['biosample']\n",
      "    biosample_accession = biosample['accession']\n",
      "    fix = {\n",
      "       'biosample_term_id': biosample['biosample_term_id'],\n",
      "       'biosample_term_name' : biosample['biosample_term_name'],\n",
      "    }\n",
      "    print(experiment_accession, biosample_accession, fix)\n",
      "    #server.patch_json(experiment_accession, fix)"
     ],
     "language": "python",
     "metadata": {},
     "outputs": [
      {
       "output_type": "stream",
       "stream": "stdout",
       "text": [
        "/experiments/ENCSR362AIZ ENCBS804WMS {'biosample_term_id': u'UBERON:0001890', 'biosample_term_name': u'forebrain'}\n",
        "/experiments/ENCSR719NAJ"
       ]
      },
      {
       "output_type": "stream",
       "stream": "stdout",
       "text": [
        " ENCBS169PZD {'biosample_term_id': u'UBERON:0001891', 'biosample_term_name': u'midbrain'}\n",
        "/experiments/ENCSR017JEG"
       ]
      },
      {
       "output_type": "stream",
       "stream": "stdout",
       "text": [
        " ENCBS489BYD {'biosample_term_id': u'UBERON:0002028', 'biosample_term_name': u'hindbrain'}\n",
        "/experiments/ENCSR667TOX"
       ]
      },
      {
       "output_type": "stream",
       "stream": "stdout",
       "text": [
        " ENCBS310ESD {'biosample_term_id': u'UBERON:0001049', 'biosample_term_name': u'neural tube'}\n",
        "/experiments/ENCSR438XCG"
       ]
      },
      {
       "output_type": "stream",
       "stream": "stdout",
       "text": [
        " ENCBS898VIJ {'biosample_term_id': u'UBERON:0002370', 'biosample_term_name': u'thymus'}\n",
        "/experiments/ENCSR526SEX"
       ]
      },
      {
       "output_type": "stream",
       "stream": "stdout",
       "text": [
        " ENCBS694SYF {'biosample_term_id': u'UBERON:0000948', 'biosample_term_name': u'heart'}\n",
        "/experiments/ENCSR982MRY"
       ]
      },
      {
       "output_type": "stream",
       "stream": "stdout",
       "text": [
        " ENCBS438DQO {'biosample_term_id': u'UBERON:0002048', 'biosample_term_name': u'lung'}\n",
        "/experiments/ENCSR096STK"
       ]
      },
      {
       "output_type": "stream",
       "stream": "stdout",
       "text": [
        " ENCBS196YDO {'biosample_term_id': u'UBERON:0002107', 'biosample_term_name': u'liver'}\n",
        "/experiments/ENCSR946HWC"
       ]
      },
      {
       "output_type": "stream",
       "stream": "stdout",
       "text": [
        " ENCBS186LJI {'biosample_term_id': u'UBERON:0001134', 'biosample_term_name': u'skeletal muscle tissue'}\n",
        "/experiments/ENCSR579FCW"
       ]
      },
      {
       "output_type": "stream",
       "stream": "stdout",
       "text": [
        " ENCBS051QLA {'biosample_term_id': u'UBERON:0002106', 'biosample_term_name': u'spleen'}\n",
        "/experiments/ENCSR772FQU"
       ]
      },
      {
       "output_type": "stream",
       "stream": "stdout",
       "text": [
        " ENCBS437LDX {'biosample_term_id': u'UBERON:0001255', 'biosample_term_name': u'bladder'}\n",
        "/experiments/ENCSR178GUS"
       ]
      },
      {
       "output_type": "stream",
       "stream": "stdout",
       "text": [
        " ENCBS762UVC {'biosample_term_id': u'UBERON:0000945', 'biosample_term_name': u'stomach'}\n",
        "/experiments/ENCSR331XCE"
       ]
      },
      {
       "output_type": "stream",
       "stream": "stdout",
       "text": [
        " ENCBS182YRY {'biosample_term_id': u'UBERON:0000160', 'biosample_term_name': u'intestine'}\n",
        "/experiments/ENCSR173PJN"
       ]
      },
      {
       "output_type": "stream",
       "stream": "stdout",
       "text": [
        " ENCBS540QNA {'biosample_term_id': u'UBERON:0002113', 'biosample_term_name': u'kidney'}\n",
        "/experiments/ENCSR739PEB"
       ]
      },
      {
       "output_type": "stream",
       "stream": "stdout",
       "text": [
        " ENCBS386FVC {'biosample_term_id': u'UBERON:0002369', 'biosample_term_name': u'adrenal gland'}\n"
       ]
      }
     ],
     "prompt_number": 29
    },
    {
     "cell_type": "code",
     "collapsed": false,
     "input": [
      "for i in experiments.index:\n",
      "    experiment_row = experiments.irow(i)\n",
      "    experiment_accession = '/experiments/' + experiment_row['experiment_accession']\n",
      "    experiment = server.get_json(experiment_accession)\n",
      "    biosample_type = experiment['biosample_type']\n",
      "    if biosample_type != 'tissue':\n",
      "        fix = {\n",
      "           'biosample_type' : 'tissue',\n",
      "        }\n",
      "        print(experiment_accession, fix)\n",
      "        server.patch_json(experiment_accession, fix)\n",
      "    else:\n",
      "        print(experiment_accession, 'is tissue')\n"
     ],
     "language": "python",
     "metadata": {},
     "outputs": [
      {
       "output_type": "stream",
       "stream": "stdout",
       "text": [
        "/experiments/ENCSR362AIZ is tissue\n",
        "/experiments/ENCSR719NAJ"
       ]
      },
      {
       "output_type": "stream",
       "stream": "stdout",
       "text": [
        " is tissue\n",
        "/experiments/ENCSR017JEG"
       ]
      },
      {
       "output_type": "stream",
       "stream": "stdout",
       "text": [
        " is tissue\n",
        "/experiments/ENCSR667TOX"
       ]
      },
      {
       "output_type": "stream",
       "stream": "stdout",
       "text": [
        " is tissue\n",
        "/experiments/ENCSR438XCG"
       ]
      },
      {
       "output_type": "stream",
       "stream": "stdout",
       "text": [
        " is tissue\n",
        "/experiments/ENCSR526SEX"
       ]
      },
      {
       "output_type": "stream",
       "stream": "stdout",
       "text": [
        " is tissue\n",
        "/experiments/ENCSR982MRY"
       ]
      },
      {
       "output_type": "stream",
       "stream": "stdout",
       "text": [
        " is tissue\n",
        "/experiments/ENCSR096STK"
       ]
      },
      {
       "output_type": "stream",
       "stream": "stdout",
       "text": [
        " is tissue\n",
        "/experiments/ENCSR946HWC"
       ]
      },
      {
       "output_type": "stream",
       "stream": "stdout",
       "text": [
        " is tissue\n",
        "/experiments/ENCSR579FCW"
       ]
      },
      {
       "output_type": "stream",
       "stream": "stdout",
       "text": [
        " is tissue\n",
        "/experiments/ENCSR772FQU"
       ]
      },
      {
       "output_type": "stream",
       "stream": "stdout",
       "text": [
        " is tissue\n",
        "/experiments/ENCSR178GUS"
       ]
      },
      {
       "output_type": "stream",
       "stream": "stdout",
       "text": [
        " is tissue\n",
        "/experiments/ENCSR331XCE"
       ]
      },
      {
       "output_type": "stream",
       "stream": "stdout",
       "text": [
        " is tissue\n",
        "/experiments/ENCSR173PJN"
       ]
      },
      {
       "output_type": "stream",
       "stream": "stdout",
       "text": [
        " is tissue\n",
        "/experiments/ENCSR739PEB"
       ]
      },
      {
       "output_type": "stream",
       "stream": "stdout",
       "text": [
        " is tissue\n"
       ]
      }
     ],
     "prompt_number": 30
    },
    {
     "cell_type": "code",
     "collapsed": false,
     "input": [],
     "language": "python",
     "metadata": {},
     "outputs": [],
     "prompt_number": 30
    },
    {
     "cell_type": "markdown",
     "metadata": {},
     "source": [
      "* Attach A-D spreadsheet to spikeins\n",
      "* fix metadata warnings\n",
      "* find uses of smarter seq protocol and see if it needs to change\n",
      "* find uses of wrong spike ins\n"
     ]
    }
   ],
   "metadata": {}
  }
 ]
}