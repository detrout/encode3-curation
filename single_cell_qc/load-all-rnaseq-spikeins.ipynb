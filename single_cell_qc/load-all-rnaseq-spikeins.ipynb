{
 "cells": [
  {
   "cell_type": "code",
   "execution_count": 1,
   "metadata": {
    "collapsed": true
   },
   "outputs": [],
   "source": [
    "import pandas\n",
    "import numpy\n",
    "import os\n",
    "import time\n",
    "import collections"
   ]
  },
  {
   "cell_type": "code",
   "execution_count": 2,
   "metadata": {
    "collapsed": true
   },
   "outputs": [],
   "source": [
    "# sets up python path to include htsworkflow\n",
    "import curation_common"
   ]
  },
  {
   "cell_type": "code",
   "execution_count": 3,
   "metadata": {
    "collapsed": false
   },
   "outputs": [],
   "source": [
    "import save_rnaseq_madqc"
   ]
  },
  {
   "cell_type": "code",
   "execution_count": 4,
   "metadata": {
    "collapsed": false
   },
   "outputs": [
    {
     "name": "stdout",
     "output_type": "stream",
     "text": [
      "Reading 140 of 1407 records in 0.028576807002536952 seconds\n",
      "Reading 280 of 1407 records in 0.01707311300560832 seconds\n",
      "Reading 420 of 1407 records in 0.020378804998472333 seconds\n",
      "Reading 560 of 1407 records in 0.030186828997102566 seconds\n",
      "Reading 700 of 1407 records in 0.01871005800785497 seconds\n",
      "Reading 840 of 1407 records in 0.03688787898863666 seconds\n",
      "Reading 980 of 1407 records in 0.10598395000852179 seconds\n",
      "Reading 1120 of 1407 records in 0.1309164619888179 seconds\n",
      "Reading 1260 of 1407 records in 0.12005515900091268 seconds\n",
      "Reading 1400 of 1407 records in 0.11660880601266399 seconds\n",
      "Read 1407 records in 0.6253778680111282 seconds\n"
     ]
    }
   ],
   "source": [
    "query_url = 'search/?type=experiment&assay_term_name=RNA-seq'\n",
    "cache_name = 'rnaseq-experiments.shelf'\n",
    "cache = save_rnaseq_madqc.caching_encoded_experiment_loader(query_url, cache_name)"
   ]
  },
  {
   "cell_type": "code",
   "execution_count": 5,
   "metadata": {
    "collapsed": false
   },
   "outputs": [],
   "source": [
    "def remove_blacklist_spikes(spikes):\n",
    "    blacklist_spikes = ['/references/ENCSR013YHQ/']\n",
    "\n",
    "    # remove caltech spikes that werent aligned against.\n",
    "    for ref in blacklist_spikes:\n",
    "        if ref in spikes:\n",
    "            spikes.remove(ref)\n",
    "            \n",
    "def load_spike_rsems(cache, limit=None):\n",
    "    total = len(cache)\n",
    "    chunk = total // 10\n",
    "    tzero = time.monotonic()\n",
    "    tprev = tzero\n",
    "    \n",
    "    for i, experiment_id in enumerate(cache):\n",
    "        experiment = cache[experiment_id]\n",
    "\n",
    "        for file in save_rnaseq_madqc.find_rsem(experiment['files']):\n",
    "            url = 'https://www.encodeproject.org' + file.href\n",
    "            fpkms = pandas.read_csv(url, usecols=[0,6], sep='\\t', index_col=0)\n",
    "            spike_fpkms = fpkms[fpkms.index.map(lambda x: x.startswith('gSpike'))].copy()\n",
    "            spike_fpkms.columns = [file.library_id]\n",
    "\n",
    "            yield (file.spikes_used, spike_fpkms)\n",
    "\n",
    "        if limit and i > limit:\n",
    "            break\n",
    "        if (i + 1) % chunk == 0:\n",
    "            tnow = time.monotonic()\n",
    "            print(\"{} of {} in {:.2f} sec\".format(\n",
    "                i, total, tnow-tprev))\n",
    "            tprev = tnow\n",
    "\n",
    "    print('read {} in {:.2f}'.format(i, time.monotonic() - tzero))"
   ]
  },
  {
   "cell_type": "code",
   "execution_count": 6,
   "metadata": {
    "collapsed": false,
    "scrolled": true
   },
   "outputs": [
    {
     "name": "stdout",
     "output_type": "stream",
     "text": [
      "144 of 1453 in 92.93 sec\n",
      "289 of 1453 in 121.03 sec\n",
      "434 of 1453 in 95.91 sec\n",
      "579 of 1453 in 149.48 sec\n",
      "724 of 1453 in 100.71 sec\n",
      "869 of 1453 in 83.38 sec\n",
      "1014 of 1453 in 34.05 sec\n",
      "1159 of 1453 in 46.49 sec\n",
      "1304 of 1453 in 67.24 sec\n",
      "1449 of 1453 in 82.20 sec\n",
      "read 1452 in 876.88\n"
     ]
    }
   ],
   "source": [
    "fpkms_by_spike = {}\n",
    "\n",
    "for spike, spike_fpkms in list(load_spike_rsems(cache)):\n",
    "    fpkms_by_spike.setdefault(spike, []).append(spike_fpkms)"
   ]
  },
  {
   "cell_type": "code",
   "execution_count": 7,
   "metadata": {
    "collapsed": false
   },
   "outputs": [],
   "source": [
    "for spike in fpkms_by_spike:\n",
    "    fpkms_by_spike[spike] = pandas.concat(fpkms_by_spike[spike], axis=1)"
   ]
  },
  {
   "cell_type": "code",
   "execution_count": 8,
   "metadata": {
    "collapsed": false
   },
   "outputs": [
    {
     "data": {
      "text/plain": [
       "[('/references/ENCSR884LPM/', 100),\n",
       " (None, 12),\n",
       " ('/references/ENCSR402QNO/', 41),\n",
       " ('/references/ENCSR133ALU/', 70),\n",
       " ('/references/ENCSR449DXG/', 18),\n",
       " ('/references/ENCSR470JZL/', 80),\n",
       " ('/references/ENCSR156CIL/', 191)]"
      ]
     },
     "execution_count": 8,
     "metadata": {},
     "output_type": "execute_result"
    }
   ],
   "source": [
    "[(k, len(fpkms_by_spike[k].columns)) for k in fpkms_by_spike.keys()]"
   ]
  },
  {
   "cell_type": "code",
   "execution_count": 9,
   "metadata": {
    "collapsed": false
   },
   "outputs": [],
   "source": [
    "v = (fpkms_by_spike['/references/ENCSR449DXG/'].loc['gSpikein_ERCC-00002'] > 100)"
   ]
  },
  {
   "cell_type": "code",
   "execution_count": 10,
   "metadata": {
    "collapsed": false
   },
   "outputs": [
    {
     "data": {
      "text/plain": [
       "['ENCLB267WCY',\n",
       " 'ENCLB079COW',\n",
       " 'ENCLB039ZZZ',\n",
       " 'ENCLB040ZZZ',\n",
       " 'ENCLB041ZZZ',\n",
       " 'ENCLB042ZZZ',\n",
       " 'ENCLB059ZZZ',\n",
       " 'ENCLB060ZZZ',\n",
       " 'ENCLB822JYE',\n",
       " 'ENCLB374EGQ',\n",
       " 'ENCLB257SKY',\n",
       " 'ENCLB240JZT',\n",
       " 'ENCLB188STW']"
      ]
     },
     "execution_count": 10,
     "metadata": {},
     "output_type": "execute_result"
    }
   ],
   "source": [
    "list(v[v == True].index)"
   ]
  },
  {
   "cell_type": "code",
   "execution_count": 11,
   "metadata": {
    "collapsed": false
   },
   "outputs": [
    {
     "name": "stderr",
     "output_type": "stream",
     "text": [
      "/usr/lib/python3/dist-packages/tables/path.py:106: NaturalNameWarning: object name is a Python keyword: 'None'; you will not be able to use natural naming to access this object; using ``getattr()`` will still work, though\n",
      "  % (name, warnInfo), NaturalNameWarning)\n"
     ]
    }
   ],
   "source": [
    "# save data\n",
    "store = pandas.HDFStore('all-rna-spikes.h5', 'w', format='tables', complevel=9, compression='blosc')\n",
    "for name in fpkms_by_spike:\n",
    "    if name:\n",
    "        _, spike_accession = os.path.split(name[:-1])\n",
    "    else:\n",
    "        spike_accession = \"None\"\n",
    "    store[str(name)] = fpkms_by_spike[name]\n",
    "    fpkms_by_spike[name].to_csv(spike_accession+'_spikein_by_library.csv')\n",
    "store.close()"
   ]
  },
  {
   "cell_type": "code",
   "execution_count": null,
   "metadata": {
    "collapsed": true
   },
   "outputs": [],
   "source": []
  }
 ],
 "metadata": {
  "kernelspec": {
   "display_name": "Python 3",
   "language": "python",
   "name": "python3"
  },
  "language_info": {
   "codemirror_mode": {
    "name": "ipython",
    "version": 3
   },
   "file_extension": ".py",
   "mimetype": "text/x-python",
   "name": "python",
   "nbconvert_exporter": "python",
   "pygments_lexer": "ipython3",
   "version": "3.5.1+"
  }
 },
 "nbformat": 4,
 "nbformat_minor": 0
}
