{
 "cells": [
  {
   "cell_type": "markdown",
   "metadata": {},
   "source": [
    "# Introduction\n",
    "\n",
    "We collected several signle cell sets and fed them into XClust there were what appeared to be clusterings. but it seemed too easy. I wonder if there's persistant differences between the expression levels."
   ]
  },
  {
   "cell_type": "code",
   "execution_count": 4,
   "metadata": {
    "collapsed": true
   },
   "outputs": [],
   "source": [
    "import os\n",
    "import pandas"
   ]
  },
  {
   "cell_type": "code",
   "execution_count": 5,
   "metadata": {
    "collapsed": true
   },
   "outputs": [],
   "source": [
    "def load_granuale():\n",
    "    return load_rsem_quantifications(\n",
    "        [os.path.expanduser('~/tmp/single-cell/15243/ENCFF666XZU.gene.results'),\n",
    "         os.path.expanduser('~/tmp/single-cell/15244/ENCFF953ZJH_gene.results'),],\n",
    "        index=['15243_gran', '15244_gran'])\n",
    "\n",
    "def load_p0_10ng_brain():\n",
    "    df = pandas.read_csv(os.path.expanduser('~diane/tmp/single-cell/mm-10ng-P0-brain.csv'), index_col=0)\n",
    "    return df\n",
    "def load_quantification(name, suffix=None):\n",
    "    store = pandas.HDFStore(name, mode='r')\n",
    "    quantifications = store['/quantifications']\n",
    "    if suffix:\n",
    "        columns = [ str(x) + '_' + suffix for x in quantifications.columns]\n",
    "        quantifications.columns = columns\n",
    "    store.close()\n",
    "\n",
    "    return quantifications\n"
   ]
  },
  {
   "cell_type": "code",
   "execution_count": 7,
   "metadata": {
    "collapsed": false
   },
   "outputs": [],
   "source": [
    "#gran = load_granuale()\n",
    "cast_purk_sing = load_quantification(\n",
    "    os.path.expanduser('~/tmp/single-cell/castaneus_cross_single_FPKM.h5'),\n",
    "    'cast_purk_sing')\n",
    "c57_purk_sing = load_quantification(\n",
    "    os.path.expanduser('~/tmp/single-cell/Mm_purkinje_single_FPKM.h5'),\n",
    "    'c57_purk_sing')\n",
    "c57_pyr_sing = load_quantification(\n",
    "    os.path.expanduser('~/tmp/single-cell/Mm_layer_V_pyramidal_single_FPKM.h5'),\n",
    "    'c57_pyr_sing')\n",
    "\n",
    "p0_10ng_brain = load_p0_10ng_brain()\n",
    "\n",
    "combined = pandas.concat([cast_purk_sing, \n",
    "                          c57_purk_sing, \n",
    "                          c57_pyr_sing, \n",
    "                           p0_10ng_brain], axis=1)\n"
   ]
  },
  {
   "cell_type": "code",
   "execution_count": null,
   "metadata": {
    "collapsed": true
   },
   "outputs": [],
   "source": []
  }
 ],
 "metadata": {
  "kernelspec": {
   "display_name": "Python 3",
   "language": "python",
   "name": "python3"
  },
  "language_info": {
   "codemirror_mode": {
    "name": "ipython",
    "version": 3
   },
   "file_extension": ".py",
   "mimetype": "text/x-python",
   "name": "python",
   "nbconvert_exporter": "python",
   "pygments_lexer": "ipython3",
   "version": "3.5.1+"
  }
 },
 "nbformat": 4,
 "nbformat_minor": 0
}
