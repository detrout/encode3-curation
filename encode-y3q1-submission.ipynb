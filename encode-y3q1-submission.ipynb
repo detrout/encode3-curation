{
 "metadata": {
  "name": "",
  "signature": "sha256:d7e6e69a24f6be6d8b86b86c4e0f48ff1db96f88412ac86b5515ce54499a879c"
 },
 "nbformat": 3,
 "nbformat_minor": 0,
 "worksheets": [
  {
   "cells": [
    {
     "cell_type": "code",
     "collapsed": false,
     "input": [
      "from __future__ import print_function"
     ],
     "language": "python",
     "metadata": {},
     "outputs": [],
     "prompt_number": 1
    },
    {
     "cell_type": "code",
     "collapsed": false,
     "input": [
      "from curation_common import *"
     ],
     "language": "python",
     "metadata": {},
     "outputs": [],
     "prompt_number": 2
    },
    {
     "cell_type": "code",
     "collapsed": false,
     "input": [
      "import pandas\n",
      "import requests\n",
      "import gcat\n",
      "import jsonschema\n",
      "import types\n",
      "from IPython import display\n",
      "import RDF\n",
      "\n",
      "from htsworkflow.util import hashfile\n",
      "from htsworkflow.submission.encoded import Document"
     ],
     "language": "python",
     "metadata": {},
     "outputs": [],
     "prompt_number": 3
    },
    {
     "cell_type": "code",
     "collapsed": false,
     "input": [
      "dry_run = True"
     ],
     "language": "python",
     "metadata": {},
     "outputs": [],
     "prompt_number": 4
    },
    {
     "cell_type": "code",
     "collapsed": false,
     "input": [
      "server = ENCODED('www.encodedcc.org')\n",
      "server.load_netrc()"
     ],
     "language": "python",
     "metadata": {},
     "outputs": [],
     "prompt_number": 5
    },
    {
     "cell_type": "markdown",
     "metadata": {},
     "source": [
      "load some documents"
     ]
    },
    {
     "cell_type": "code",
     "collapsed": false,
     "input": [
      "quote_uuid='5167c161-0e64-4aaf-8722-6a6dc8cd2af0'\n",
      "quote = Document('Revised Jackson_quote_August42011.pdf', \n",
      "                 'strain generation protocol', \n",
      "                 'Revised Jackson quote August 4 2011')\n",
      "print(quote.create_if_needed(server, quote_uuid))\n",
      "\n",
      "status_report_uuid='90c2b544-e312-4987-9a38-9fbd8c0790ab'\n",
      "status_report = Document('Status report Sept 27 2011.pdf', \n",
      "                         'strain generation protocol',\n",
      "                         'Status Report Sept 27 2011')\n",
      "print(status_report.create_if_needed(server, status_report_uuid))"
     ],
     "language": "python",
     "metadata": {},
     "outputs": [
      {
       "output_type": "stream",
       "stream": "stdout",
       "text": [
        "{u'status': u'in progress', u'submitted_by': {u'title': u'Diane Trout', u'@id': u'/users/bc5b62f7-ce28-4a1e-b6b3-81c9c5a86d7a/', u'@type': [u'user', u'item'], u'lab': u'/labs/barbara-wold/', u'uuid': u'bc5b62f7-ce28-4a1e-b6b3-81c9c5a86d7a'}, u'uuid': u'5167c161-0e64-4aaf-8722-6a6dc8cd2af0', u'description': u'Revised Jackson quote August 4 2011', u'award': {u'status': u'current', u'uuid': u'6272092d-f953-4b86-b04b-cad31d64352f', u'end_date': u'2016-07-31', u'title': u'TOWARD A COMPREHENSIVE FUNCTIONAL ANNOTATION OF THE HUMAN GENOME', u'url': u'http://projectreporter.nih.gov/project_info_details.cfm?aid=8402461', u'name': u'U54HG006998', u'schema_version': u'2', u'@type': [u'award', u'item'], u'project': u'ENCODE', u'rfa': u'ENCODE3', u'pi': u'/users/a62cfec5-57a0-45ab-b943-8ca0e0057bb6/', u'@id': u'/awards/U54HG006998/', u'start_date': u'2012-09-21', u'description': u'The goal of the ENCODE Project is to provide the biomedical community with a complete and biologically interpretable annotation of the human genome. This means discovering and mapping all parts of all genes, including exons, introns, promoters and cis-regulatory sequences, in previous phases of the ENCODE Project, the applicants of this proposal developed and applied robust, high-throughput, genome-wide methods for determining transcription factor occupancy, assessing DNA methylation, identifying RNA transcripts, and experimentally testing candidate regulatory elements and mutations. The combination of experiences from the previous phases with the resulting technology and analysis platforms and the existing, highly productive infrastructure of the applicants form the basis of this response to NHGRI\\'s RFA-HG-11-024 (\"Expanding the Encyclopedia of DNA Elements (ENCODE) in the Human and Model Organisms\"). This application presents an ambitious proposal to expand the biological dimensions of ENCODE to include essentially all transcription factors for measurements of occupancy and to produce transcriptomes from hundreds of very specific cell types, and even single cells. The specific plan is to: 1) determine genome wide occupancy for all transcription factors and major cofactors with high resolution in two or more cell types; 2) map and quantify all messenger RNA transcripts, microRNAs and other non-ribosomal RNAs in more than 300 well-defined, uncultured cell types; 3) map DNA methylation state genome-wide at nucleotide resolution in more than 300 cell types; and 4) apply a high-throughput transient transfection assay system to test the impact of -2,000 candidate regulatory elements on gene regulation. All experimental work in this project will be evaluated by appropriate quality metrics, and after quality control, all data will be rapidly deposited in publi, freely accessible genome databases. In addition, computational analyses, including evaluation of comparative and population genomics data, will be integrated with the experimental production to help ensure quality and to capture information in forms useful to biologists, genomicists, and medical researchers. Completion of these Specific Aims will enable biomedical researchers to better and more rapidly understand the consequences of mutations in genomic disorders, including cancer, cardiovascular disease, and almost ail common diseases and, therefore, to more fully realize the potential of genomics to impact human health.'}, u'schema_version': u'3', u'audit': [], u'references': [], u'attachment': {u'download': u'Revised Jackson_quote_August42011.pdf', u'href': u'@@download/attachment/Revised%20Jackson_quote_August42011.pdf', u'type': u'application/pdf', u'md5sum': u'902a5584aa631b9b34c7ffffc88514b9'}, u'urls': [], u'lab': {u'status': u'current', u'city': u'Pasadena', u'fax': u'', u'institute_name': u'California Institute of Technology', u'institute_label': u'Caltech', u'uuid': u'72d5666a-a361-4f7b-ab66-a88e11280937', u'title': u'Barbara Wold, Caltech', u'phone2': u'626-395-4923', u'address1': u'Department of Biochemistry and Molecular Biophysics', u'address2': u'1200 California Blvd; MC156-29', u'phone1': u'626-395-4916', u'schema_version': u'2', u'state': u'CA', u'awards': [u'/awards/U54HG006998/'], u'country': u'USA', u'postal_code': u'91125', u'pi': u'/users/0598c868-0b4a-4c5b-9112-8f85c5de5374/', u'@id': u'/labs/barbara-wold/', u'@type': [u'lab', u'item'], u'name': u'barbara-wold'}, u'date_created': u'2014-12-13T00:46:45.269582+00:00', u'actions': [{u'profile': u'/profiles/document.json', u'href': u'/documents/5167c161-0e64-4aaf-8722-6a6dc8cd2af0/#!edit', u'name': u'edit', u'title': u'Edit'}], u'document_type': u'strain generation protocol', u'@id': u'/documents/5167c161-0e64-4aaf-8722-6a6dc8cd2af0/', u'@type': [u'document', u'item'], u'aliases': []}\n",
        "{u'status': u'in progress', u'submitted_by': {u'title': u'Diane Trout', u'@id': u'/users/bc5b62f7-ce28-4a1e-b6b3-81c9c5a86d7a/', u'@type': [u'user', u'item'], u'lab': u'/labs/barbara-wold/', u'uuid': u'bc5b62f7-ce28-4a1e-b6b3-81c9c5a86d7a'}, u'uuid': u'90c2b544-e312-4987-9a38-9fbd8c0790ab', u'description': u'Status Report Sept 27 2011', u'award': {u'status': u'current', u'uuid': u'6272092d-f953-4b86-b04b-cad31d64352f', u'end_date': u'2016-07-31', u'title': u'TOWARD A COMPREHENSIVE FUNCTIONAL ANNOTATION OF THE HUMAN GENOME', u'url': u'http://projectreporter.nih.gov/project_info_details.cfm?aid=8402461', u'name': u'U54HG006998', u'schema_version': u'2', u'@type': [u'award', u'item'], u'project': u'ENCODE', u'rfa': u'ENCODE3', u'pi': u'/users/a62cfec5-57a0-45ab-b943-8ca0e0057bb6/', u'@id': u'/awards/U54HG006998/', u'start_date': u'2012-09-21', u'description': u'The goal of the ENCODE Project is to provide the biomedical community with a complete and biologically interpretable annotation of the human genome. This means discovering and mapping all parts of all genes, including exons, introns, promoters and cis-regulatory sequences, in previous phases of the ENCODE Project, the applicants of this proposal developed and applied robust, high-throughput, genome-wide methods for determining transcription factor occupancy, assessing DNA methylation, identifying RNA transcripts, and experimentally testing candidate regulatory elements and mutations. The combination of experiences from the previous phases with the resulting technology and analysis platforms and the existing, highly productive infrastructure of the applicants form the basis of this response to NHGRI\\'s RFA-HG-11-024 (\"Expanding the Encyclopedia of DNA Elements (ENCODE) in the Human and Model Organisms\"). This application presents an ambitious proposal to expand the biological dimensions of ENCODE to include essentially all transcription factors for measurements of occupancy and to produce transcriptomes from hundreds of very specific cell types, and even single cells. The specific plan is to: 1) determine genome wide occupancy for all transcription factors and major cofactors with high resolution in two or more cell types; 2) map and quantify all messenger RNA transcripts, microRNAs and other non-ribosomal RNAs in more than 300 well-defined, uncultured cell types; 3) map DNA methylation state genome-wide at nucleotide resolution in more than 300 cell types; and 4) apply a high-throughput transient transfection assay system to test the impact of -2,000 candidate regulatory elements on gene regulation. All experimental work in this project will be evaluated by appropriate quality metrics, and after quality control, all data will be rapidly deposited in publi, freely accessible genome databases. In addition, computational analyses, including evaluation of comparative and population genomics data, will be integrated with the experimental production to help ensure quality and to capture information in forms useful to biologists, genomicists, and medical researchers. Completion of these Specific Aims will enable biomedical researchers to better and more rapidly understand the consequences of mutations in genomic disorders, including cancer, cardiovascular disease, and almost ail common diseases and, therefore, to more fully realize the potential of genomics to impact human health.'}, u'schema_version': u'3', u'audit': [], u'references': [], u'attachment': {u'download': u'Status report Sept 27 2011.pdf', u'href': u'@@download/attachment/Status%20report%20Sept%2027%202011.pdf', u'type': u'application/pdf', u'md5sum': u'5b4210e01cfaf921a61662ace033b149'}, u'urls': [], u'lab': {u'status': u'current', u'city': u'Pasadena', u'fax': u'', u'institute_name': u'California Institute of Technology', u'institute_label': u'Caltech', u'uuid': u'72d5666a-a361-4f7b-ab66-a88e11280937', u'title': u'Barbara Wold, Caltech', u'phone2': u'626-395-4923', u'address1': u'Department of Biochemistry and Molecular Biophysics', u'address2': u'1200 California Blvd; MC156-29', u'phone1': u'626-395-4916', u'schema_version': u'2', u'state': u'CA', u'awards': [u'/awards/U54HG006998/'], u'country': u'USA', u'postal_code': u'91125', u'pi': u'/users/0598c868-0b4a-4c5b-9112-8f85c5de5374/', u'@id': u'/labs/barbara-wold/', u'@type': [u'lab', u'item'], u'name': u'barbara-wold'}, u'date_created': u'2014-12-13T00:46:45.731485+00:00', u'actions': [{u'profile': u'/profiles/document.json', u'href': u'/documents/90c2b544-e312-4987-9a38-9fbd8c0790ab/#!edit', u'name': u'edit', u'title': u'Edit'}], u'document_type': u'strain generation protocol', u'@id': u'/documents/90c2b544-e312-4987-9a38-9fbd8c0790ab/', u'@type': [u'document', u'item'], u'aliases': []}"
       ]
      },
      {
       "output_type": "stream",
       "stream": "stdout",
       "text": [
        "\n"
       ]
      }
     ],
     "prompt_number": 6
    },
    {
     "cell_type": "code",
     "collapsed": false,
     "input": [
      "schemas = {\n",
      " '/experiments/': server.get_json('/profiles/experiment.json'),\n",
      " '/libraries/': server.get_json('/profiles/library.json'),\n",
      " '/replicates/': server.get_json('/profiles/replicate.json'),\n",
      " '/biosamples/': server.get_json('/profiles/biosample.json'),\n",
      "}"
     ],
     "language": "python",
     "metadata": {},
     "outputs": [],
     "prompt_number": 7
    },
    {
     "cell_type": "code",
     "collapsed": false,
     "input": [
      "def post(collection, data, dry_run):\n",
      "    try:\n",
      "        jsonschema.validate(data, schemas[collection])\n",
      "        if not dry_run:\n",
      "            response =  server.post_json(collection, data)\n",
      "            obj = response['@graph'][0]\n",
      "            return obj['@id'], obj\n",
      "    except requests.HTTPError as e:\n",
      "        print('exception: {}'.format(e))\n",
      "        display.display_pretty(data)\n",
      "        raise e\n",
      "    return None, None"
     ],
     "language": "python",
     "metadata": {},
     "outputs": [],
     "prompt_number": 8
    },
    {
     "cell_type": "code",
     "collapsed": false,
     "input": [
      "def parse_sheet_array_type(value):\n",
      "    return [ x.strip() for x in value.split(',')]\n",
      "\n",
      "def parse_sheet_integer_type(value):\n",
      "    return int(value)\n",
      "\n",
      "def parse_sheet_boolean_type(value):\n",
      "    return bool(value)\n",
      "\n",
      "def parse_sheet_timestamp_type(value):\n",
      "    return value.strftime('%Y-%m-%d')\n",
      "\n",
      "def parse_sheet_string_type(value):\n",
      "    return unicode(value)\n",
      "\n",
      "parsers = {\n",
      "  'array': parse_sheet_array_type,\n",
      "  'boolean': parse_sheet_boolean_type,\n",
      "  'integer': parse_sheet_integer_type,\n",
      "  'date': parse_sheet_timestamp_type,\n",
      "}"
     ],
     "language": "python",
     "metadata": {},
     "outputs": [],
     "prompt_number": 9
    },
    {
     "cell_type": "code",
     "collapsed": false,
     "input": [
      "def parse_sheet_cell(header, value):\n",
      "    header = header.split(':')\n",
      "    parse_function = parse_sheet_string_type\n",
      "    if len(header) > 1:\n",
      "        if header[1] == 'skip':\n",
      "            return None, None\n",
      "        parse_function = parsers[header[1]]\n",
      "    return header[0], parse_function(value)"
     ],
     "language": "python",
     "metadata": {},
     "outputs": [],
     "prompt_number": 10
    },
    {
     "cell_type": "code",
     "collapsed": false,
     "input": [
      "book_name = 'ENCODE Submission for Y3Q1'\n",
      "mouse_name = \"Brian's Mice\""
     ],
     "language": "python",
     "metadata": {},
     "outputs": [],
     "prompt_number": 11
    },
    {
     "cell_type": "code",
     "collapsed": false,
     "input": [
      "def post_experiments(book_name, dry_run=False):\n",
      "    book = gcat.get_file(book_name, fmt='pandas_excel')\n",
      "    experiments = book.parse('Experiments', header=0)\n",
      "    created = []\n",
      "    for i in experiments.index:\n",
      "        row = experiments.ix[i]\n",
      "        columns = experiments.columns\n",
      "        accession = row['experiment_accession']\n",
      "        new_object = {}\n",
      "        for k in columns:\n",
      "            if pandas.notnull(row[k]):\n",
      "                name, value = parse_sheet_cell(k, row[k])\n",
      "                if name is None:\n",
      "                    continue\n",
      "                new_object[name] = value\n",
      "        if pandas.isnull(accession):\n",
      "            accession, created_obj = post('/experiments/', new_object, dry_run)\n",
      "            created.append(created_obj)\n",
      "        print('row {} ({}) -> {}'.format(i, new_object.get('description', None), accession))\n",
      "    return created\n",
      "experiments_created = post_experiments(book_name, dry_run=True)"
     ],
     "language": "python",
     "metadata": {},
     "outputs": [
      {
       "output_type": "stream",
       "stream": "stdout",
       "text": [
        "row 0 (GM12878_30B) -> skip Old ENCSR000AIZ\n",
        "row 1 (PGP human bipolar neurons-total-RNA-13pgs) -> skip Old ENCSR225BBK\n",
        "row 2 (Total RNA-seq on 10ng of embryonic 11.5 day mouse forebrain) -> ENCSR160IIN\n",
        "row 3 (Total RNA-seq on 10ng of embryonic 11.5 day mouse liver) -> ENCSR284AMY\n",
        "row 4 (RNA-seq of a single Purkinje cell from a 14 month old male hybrid Castaneus X C57Bl6 mouse) -> ENCSR194TNV\n",
        "row 5 (RNA-seq of a single Purkinje cell from a 14 month old male hybrid Castaneus X C57Bl6 mouse) -> ENCSR803PLZ\n",
        "row 6 (RNA-seq of a single Purkinje cell from a 14 month old male hybrid Castaneus X C57Bl6 mouse) -> ENCSR796QJD\n",
        "row 7 (RNA-seq of a single Purkinje cell from a 14 month old male hybrid Castaneus X C57Bl6 mouse) -> ENCSR789RPP\n",
        "row 8 (RNA-seq of a single Purkinje cell from a 14 month old male hybrid Castaneus X C57Bl6 mouse) -> ENCSR267LBO\n",
        "row 9 (RNA-seq of a single Purkinje cell from a 14 month old male hybrid Castaneus X C57Bl6 mouse) -> ENCSR068SJG\n",
        "row 10 (RNA-seq of a single Purkinje cell from a 14 month old male hybrid Castaneus X C57Bl6 mouse) -> ENCSR111QQX\n",
        "row 11 (RNA-seq of a single Purkinje cell from a 14 month old male hybrid Castaneus X C57Bl6 mouse) -> ENCSR980SWK\n",
        "row 12 (RNA-seq of a single Purkinje cell from a 14 month old male hybrid Castaneus X C57Bl6 mouse) -> ENCSR577ONT\n",
        "row 13 (RNA-seq of a single Purkinje cell from a 14 month old male hybrid Castaneus X C57Bl6 mouse) -> ENCSR530UXI\n",
        "row 14 (RNA-seq of a single Purkinje cell from a 14 month old male hybrid Castaneus X C57Bl6 mouse) -> ENCSR775HGC\n",
        "row 15 (RNA-seq of a single Purkinje cell from a 14 month old male hybrid Castaneus X C57Bl6 mouse) -> ENCSR362OYV\n",
        "row 16 (RNA-seq of a single Purkinje cell from a 14 month old male hybrid Castaneus X C57Bl6 mouse) -> ENCSR292IVH\n",
        "row 17 (RNA-seq of a single Purkinje cell from a 14 month old male hybrid Castaneus X C57Bl6 mouse) -> ENCSR268IGT\n",
        "row 18 (RNA-seq of a single Purkinje cell from a 14 month old male hybrid Castaneus X C57Bl6 mouse) -> ENCSR726VVO\n",
        "row 19 (RNA-seq on single cell equivalents of 13 excised and homogenized Purkinje cells from a 14 month old male hybrid Castaneus X C57Bl6 mouse) -> ENCSR620HJQ\n",
        "row 20 (RNA-seq on a 50 cell pool of Purkinje cells from an 8 month old male wild type C57Bl5 mouse) -> ENCSR758TAD\n",
        "row 21 (RNA-seq on a dissected area of granule cells from an 8 month old male wild type C57Bl6 mouse) -> ENCSR814JMM\n",
        "row 22 (RNA-seq on a 50 cell pool of layer V pyramidal neurons from an 8 month old male wild type C57Bl5 mouse) -> ENCSR268AXN\n",
        "row 23 (RNA-seq on a dissected area of layer V from an 8 month old male wild type C57Bl6 mouse) -> ENCSR236EGS\n",
        "row 24 (RNA-seq of a single Purkinje cell from an 8 month old male wild type C57Bl6 mouse) -> ENCSR659SFM\n",
        "row 25 (RNA-seq of a single Purkinje cell from an 8 month old male wild type C57Bl6 mouse) -> ENCSR351YGY\n",
        "row 26 (RNA-seq of a single Purkinje cell from an 8 month old male wild type C57Bl6 mouse) -> ENCSR691PPV\n",
        "row 27 (RNA-seq of a single Purkinje cell from an 8 month old male wild type C57Bl6 mouse) -> ENCSR316RMA\n",
        "row 28 (RNA-seq of a single Purkinje cell from an 8 month old male wild type C57Bl6 mouse) -> ENCSR948NDP\n",
        "row 29 (RNA-seq of a single Purkinje cell from an 8 month old male wild type C57Bl6 mouse) -> ENCSR367DUL\n",
        "row 30 (RNA-seq of a single Purkinje cell from an 8 month old male wild type C57Bl6 mouse) -> ENCSR282DYQ\n",
        "row 31 (RNA-seq of a single Purkinje cell from an 8 month old male wild type C57Bl6 mouse) -> ENCSR474NEW\n",
        "row 32 (RNA-seq of a single Purkinje cell from an 8 month old male wild type C57Bl6 mouse) -> ENCSR708EHJ\n",
        "row 33 (RNA-seq of a single Purkinje cell from an 8 month old male wild type C57Bl6 mouse) -> ENCSR167AWS\n",
        "row 34 (RNA-seq of a single Purkinje cell from an 8 month old male wild type C57Bl6 mouse) -> ENCSR527DQV\n",
        "row 35 (RNA-seq of a single Purkinje cell from an 8 month old male wild type C57Bl6 mouse) -> ENCSR559QTE\n",
        "row 36 (RNA-seq of a single Purkinje cell from an 8 month old male wild type C57Bl6 mouse) -> ENCSR521YLY\n",
        "row 37 (RNA-seq of a single Purkinje cell from an 8 month old male wild type C57Bl6 mouse) -> ENCSR662UPQ\n",
        "row 38 (RNA-seq of a single Purkinje cell from an 8 month old male wild type C57Bl6 mouse) -> ENCSR027CXR\n",
        "row 39 (RNA-seq of a single Purkinje cell from an 8 month old male wild type C57Bl6 mouse) -> ENCSR320PXZ\n",
        "row 40 (RNA-seq on single cell equivalents of 20 excised and homogenized Purkinje cells from an 8 month old male wild type C57Bl6 mouse) -> ENCSR637NLF\n"
       ]
      }
     ],
     "prompt_number": 12
    },
    {
     "cell_type": "code",
     "collapsed": false,
     "input": [
      "def post_biosamples(book_name, dry_run=True):\n",
      "    book = gcat.get_file(book_name, fmt='pandas_excel')\n",
      "    biosamples = book.parse('Sheet 1', header=0)\n",
      "    created = []\n",
      "    for i in biosamples.index:\n",
      "        row = biosamples.ix[i]\n",
      "        columns = biosamples.columns\n",
      "        accession = row['biosample_accession']\n",
      "        if isinstance(accession, unicode) and accession.startswith('skip'):\n",
      "            continue\n",
      "        if pandas.isnull(accession):\n",
      "            new_object = {}\n",
      "            for k in columns:\n",
      "                if pandas.notnull(row[k]):\n",
      "                    name, value = parse_sheet_cell(k, row[k])\n",
      "                    if name is None:\n",
      "                        continue\n",
      "                    else:\n",
      "                        new_object[name] = value\n",
      "            accession, created_obj = post('/biosamples/', new_object, dry_run)\n",
      "            uuid = created_obj.get('uuid', None) if created_obj is not None else None\n",
      "            created.append(created_obj)\n",
      "            print('row {} ({}) -> {} {}'.format(i, new_object.get('aliases', None), accession, uuid))\n",
      "created = post_biosamples(mouse_name, dry_run=True)"
     ],
     "language": "python",
     "metadata": {},
     "outputs": [],
     "prompt_number": 13
    },
    {
     "cell_type": "code",
     "collapsed": false,
     "input": [
      "def post_libraries(book_name, dry_run=False):\n",
      "    book = gcat.get_file(book_name, fmt='pandas_excel')\n",
      "    libraries = book.parse('Libraries', header = 0)\n",
      "    for i in libraries.index:\n",
      "        row = libraries.ix[i]\n",
      "        columns = libraries.columns\n",
      "        \n",
      "        lib_object = {}\n",
      "        rep_object = {}\n",
      "        for k in columns:\n",
      "            if pandas.notnull(row[k]):\n",
      "                name, value = parse_sheet_cell(k, row[k])\n",
      "                if name is None:\n",
      "                    continue\n",
      "                if name in ('experiment_accession', 'biological_replicate_number', 'technical_replicate_number', \n",
      "                            'replicate_uuid'):\n",
      "                    if name == 'experiment_accession':\n",
      "                        name = 'experiment'\n",
      "                    rep_object[name] = value\n",
      "                else:\n",
      "                    lib_object[name] = value\n",
      "        lib_accession = lib_object.get('library_accession', None)\n",
      "        biosample_accession = lib_object.get('biosample', None)\n",
      "        if lib_accession is None and biosample_accession is not None:\n",
      "            lib_accession, posted_lib_object = post('/libraries/', lib_object, dry_run)\n",
      "        lib_id = None\n",
      "        if 'aliases' in lib_object:\n",
      "            lib_alias = lib_object['aliases'][0]\n",
      "            lib_id = lib_alias.replace('barbara-wold:','')\n",
      "        print('row {} lib ({}) {} -> {}'.format(i, lib_id, biosample_accession, lib_accession))\n",
      "\n",
      "        if 'replicate_uuid' not in rep_object and \\\n",
      "           lib_accession is not None and \\\n",
      "           not lib_accession.startswith('skip'):\n",
      "            rep_object['library'] = lib_alias\n",
      "            #add_flowcell_details(lib_id, rep_object) removed\n",
      "            #display.display_pretty(rep_object)\n",
      "            rep_accession, posted_rep_object = post('/replicates/', rep_object, dry_run)\n",
      "            print('row {} rep( {}-{}-{}) -> {}'.format(i, \n",
      "                                             rep_object['experiment'], \n",
      "                                             rep_object['biological_replicate_number'],\n",
      "                                             rep_object['technical_replicate_number'],\n",
      "                                             rep_accession))\n",
      "post_libraries(book_name, dry_run=True)"
     ],
     "language": "python",
     "metadata": {},
     "outputs": [
      {
       "output_type": "stream",
       "stream": "stdout",
       "text": [
        "row 0 lib (12517) Old ENCBS791FEH -> skip example ENCLB482LEX\n",
        "row 1 lib (12518) Old ENCBS839NNF -> skip example ENCLB898RJN\n",
        "row 2 lib (13413) ENCBS125FJJ -> ENCLB510UJB\n",
        "row 3 lib (13414) ENCBS060SHI -> ENCLB414SJG\n",
        "row 4 lib (13415) ENCBS416PRE -> ENCLB569DAO\n",
        "row 5 lib (13416) ENCBS107DCX -> ENCLB193ILA\n",
        "row 6 lib (13417) ENCBS792HLD -> ENCLB578MIX\n",
        "row 7 lib (13418) ENCBS530JMM -> ENCLB322YDP\n",
        "row 8 lib (13419) ENCBS113OCQ -> ENCLB921XPI\n",
        "row 9 lib (13420) ENCBS391QVH -> ENCLB133ICO\n",
        "row 10 lib (13421) ENCBS259RHJ -> ENCLB541QCS\n",
        "row 11 lib (13422) ENCBS381LPB -> ENCLB711HMD\n",
        "row 12 lib (13423) ENCBS980NTB -> ENCLB036AMX\n",
        "row 13 lib (13424) ENCBS362EAK -> ENCLB641AYP\n",
        "row 14 lib (13425) ENCBS110UIV -> ENCLB042QFS\n",
        "row 15 lib (13426) ENCBS730IMD -> ENCLB507MOC\n",
        "row 16 lib (13427) ENCBS333FZN -> ENCLB442ZCO\n",
        "row 17 lib (13428) ENCBS297ITF -> ENCLB714KUY\n",
        "row 18 lib (13429) ENCBS525QEP -> ENCLB243CVS\n",
        "row 19 lib (13430) ENCBS251NNJ -> ENCLB204EWE\n",
        "row 20 lib (13431) ENCBS194DCO -> ENCLB751POF\n",
        "row 21 lib (13432) ENCBS387FIK -> ENCLB729FQY\n",
        "row 22 lib (13433) ENCBS912HHG -> ENCLB988OPM\n",
        "row 23 lib (13434) ENCBS737OIQ -> skip started, but didn't pass QC\n",
        "row 24 lib (13435) ENCBS689OWR -> ENCLB981WTU\n",
        "row 25 lib (13436) ENCBS980LDZ -> ENCLB364NZB\n",
        "row 26 lib (13437) ENCBS007DRR -> ENCLB461BIJ\n",
        "row 27 lib (13438) ENCBS313XXN -> ENCLB580JUS\n",
        "row 28 lib (13439) ENCBS268XKF -> ENCLB318YQB\n",
        "row 29 lib (13440) ENCBS187KIV -> ENCLB407NSA\n",
        "row 30 lib (13443) None -> skip\n",
        "row 31 lib (13444) None -> skip\n",
        "row 32 lib (13445) None -> skip\n",
        "row 33 lib (13446) None -> skip\n",
        "row 34 lib (13447) None -> skip\n",
        "row 35 lib (13448) None -> skip\n",
        "row 36 lib (15007) ENCBS745VOM -> ENCLB835LVO\n",
        "row 37 lib (15008) ENCBS720JOH -> ENCLB471QMM\n",
        "row 38 lib (15009) ENCBS228OBS -> ENCLB659UFY\n",
        "row 39 lib (15010) ENCBS802FTI -> ENCLB426JKF\n",
        "row 40 lib (15011) ENCBS199NDR -> ENCLB454ZUS\n",
        "row 41 lib (15012) ENCBS976DPO -> ENCLB061TDP\n",
        "row 42 lib (15013) ENCBS141GPQ -> ENCLB331VAA\n",
        "row 43 lib (15014) ENCBS468NAL -> ENCLB761PCA\n",
        "row 44 lib (15015) ENCBS225RIF -> ENCLB601XLL\n",
        "row 45 lib (15016) ENCBS046IMM -> ENCLB347FRI\n",
        "row 46 lib (15017) ENCBS746POP -> ENCLB055KYV\n",
        "row 47 lib (15018) ENCBS522YOW -> ENCLB357KYA\n",
        "row 48 lib (15019) ENCBS066IEL -> ENCLB495FUZ\n",
        "row 49 lib (15020) ENCBS681XPR -> ENCLB979DZW\n",
        "row 50 lib (15021) ENCBS402TUS -> ENCLB162EJJ\n",
        "row 51 lib (15022) ENCBS183YVD -> ENCLB627LDZ\n",
        "row 52 lib (None) None -> skip comments\n",
        "row 53 lib (None) None -> skip comments\n",
        "row 54 lib (None) None -> skip comments\n",
        "row 55 lib (None) None -> skip comments\n",
        "row 56 lib (None) None -> skip comments\n",
        "row 57 lib (None) None -> skip comments\n",
        "row 58 lib (None) None -> skip comments\n",
        "row 59 lib (15072) barbara-wold:e14.5-forebrain-dissection-rep1 -> ENCLB336GOL\n",
        "row 60 lib (15073) barbara-wold:e14.5-forebrain-dissection-rep2 -> ENCLB964APA\n",
        "row 61 lib (15074) barbara-wold:e14.5-midbrain-dissection-rep1 -> ENCLB000EUQ\n",
        "row 62 lib (15075) barbara-wold:e14.5-midbrain-dissection-rep2 -> ENCLB597GRF\n",
        "row 63 lib (15076) barbara-wold:e14.5-hindbrain-dissection-rep1 -> ENCLB989QNS\n",
        "row 64 lib (15077) barbara-wold:e14.5-hindbrain-dissection-rep2 -> ENCLB567WFL\n",
        "row 65 lib (15078) barbara-wold:e14.5-cranioface-dissection-rep1 -> ENCLB254AMJ\n",
        "row 66 lib (15079) barbara-wold:e14.5-cranioface-dissection-rep2 -> ENCLB015WCJ\n",
        "row 67 lib (15080) barbara-wold:e14.5-liver-dissection-rep1 -> ENCLB200EFP\n",
        "row 68 lib (15081) barbara-wold:e14.5-liver-dissection-rep2 -> ENCLB278MMD\n",
        "row 69 lib (15082) barbara-wold:e14.5-lung-dissection-rep1 -> ENCLB819PZM\n",
        "row 70 lib (15083) barbara-wold:e14.5-lung-dissection-rep2 -> ENCLB220DVX\n",
        "row 71 lib (15084) barbara-wold:e14.5-limb-dissection-rep1 -> ENCLB906TKN"
       ]
      },
      {
       "output_type": "stream",
       "stream": "stdout",
       "text": [
        "\n",
        "row 72 lib (15085) barbara-wold:e14.5-limb-dissection-rep2 -> ENCLB949YQN\n",
        "row 73 lib (15086) barbara-wold:e14.5-heart-dissection-rep1 -> ENCLB584VFZ\n",
        "row 74 lib (15087) barbara-wold:e14.5-heart-dissection-rep2 -> ENCLB931ORG\n",
        "row 75 lib (15088) barbara-wold:e14.5-stomach-dissection-rep1 -> ENCLB409LKR\n",
        "row 76 lib (15089) barbara-wold:e14.5-stomach-dissection-rep2 -> ENCLB595PNG\n",
        "row 77 lib (15090) barbara-wold:e14.5-intestine-dissection-rep1 -> ENCLB156EMG\n",
        "row 78 lib (15091) barbara-wold:e14.5-intestine-dissection-rep2 -> ENCLB030NEC\n",
        "row 79 lib (15092) barbara-wold:e14.5-neural tube-dissection-rep1 -> ENCLB377PCX\n",
        "row 80 lib (15093) barbara-wold:e14.5-neural tube-dissection-rep2 -> ENCLB214UZM\n",
        "row 81 lib (15094) barbara-wold:e14.5-kidney-dissection-rep1 -> ENCLB813BQB\n",
        "row 82 lib (15095) barbara-wold:e14.5-kidney-dissection-rep2 -> ENCLB949WIO\n",
        "row 83 lib (15241) barbara-wold:20141124-8mo-C57Bl6-purkinje-50-cell-pool-15241 -> ENCLB604HVJ\n",
        "row 84 lib (15242) barbara-wold:20141124-8mo-C57Bl6-purkinje-50-cell-pool-15242 -> ENCLB357UPR\n",
        "row 85 lib (15243) barbara-wold:20141124-8mo-C57Bl6-granule_area-15243 -> ENCLB521CXU\n",
        "row 86 lib (15244) barbara-wold:20141124-8mo-C57Bl6-granule_area-15244 -> ENCLB969JPS\n",
        "row 87 lib (15245) barbara-wold:20141124-8mo-C57Bl6-pyramid_neuron-50-cell-pool-15245 -> ENCLB893OOW\n",
        "row 88 lib (15246) barbara-wold:20141124-8mo-C57Bl6-pyramid_neuron-50-cell-pool-15246 -> ENCLB730HDZ\n",
        "row 89 lib (15247) barbara-wold:20141124-8mo-C57Bl6-layer-v-area-15247 -> ENCLB229LFR\n",
        "row 90 lib (15248) barbara-wold:20141124-8mo-C57Bl6-layer-v-area-15248 -> ENCLB700NFV\n",
        "row 91 lib (15256) barbara-wold:single-cell-15256 -> ENCLB253LOZ\n",
        "row 92 lib (15257) barbara-wold:single-cell-15257 -> ENCLB857GUO\n",
        "row 93 lib (15258) barbara-wold:single-cell-15258 -> ENCLB891HIS\n",
        "row 94 lib (15259) barbara-wold:single-cell-15259 -> ENCLB587ZYP\n",
        "row 95 lib (15260) barbara-wold:single-cell-15260 -> ENCLB183ZSO\n",
        "row 96 lib (15261) barbara-wold:single-cell-15261 -> ENCLB809LQF\n",
        "row 97 lib (15262) barbara-wold:single-cell-15262 -> ENCLB112DAD\n",
        "row 98 lib (15263) barbara-wold:single-cell-15263 -> ENCLB417MEI\n",
        "row 99 lib (15264) barbara-wold:single-cell-15264 -> ENCLB035MJZ\n",
        "row 100 lib (15265) barbara-wold:single-cell-15265 -> ENCLB663WPK\n",
        "row 101 lib (15266) barbara-wold:single-cell-15266 -> ENCLB640QPM\n",
        "row 102 lib (15267) barbara-wold:single-cell-15267 -> ENCLB708TZF\n",
        "row 103 lib (15268) barbara-wold:single-cell-15268 -> ENCLB678FAD\n",
        "row 104 lib (15269) barbara-wold:single-cell-15269 -> ENCLB284YTS\n",
        "row 105 lib (15270) barbara-wold:single-cell-15270 -> ENCLB108LLJ\n",
        "row 106 lib (15271) barbara-wold:single-cell-15271 -> ENCLB518MNF\n",
        "row 107 lib (15288) barbara-wold:single-cell-15288 -> ENCLB435TVJ\n",
        "row 108 lib (15289) barbara-wold:single-cell-15289 -> ENCLB337IRK\n",
        "row 109 lib (15290) barbara-wold:single-cell-15290 -> ENCLB863GTU\n",
        "row 110 lib (15291) barbara-wold:single-cell-15291 -> ENCLB033OYZ\n",
        "row 111 lib (15292) barbara-wold:single-cell-15292 -> ENCLB577KCS\n",
        "row 112 lib (15293) barbara-wold:single-cell-15293 -> ENCLB950QWJ\n",
        "row 113 lib (15294) barbara-wold:single-cell-15294 -> ENCLB219UWV\n",
        "row 114 lib (15295) barbara-wold:single-cell-15295 -> ENCLB196QXY\n",
        "row 115 lib (15296) barbara-wold:single-cell-15296 -> ENCLB430RUN\n",
        "row 116 lib (15297) barbara-wold:single-cell-15297 -> ENCLB384GBY\n",
        "row 117 lib (15298) barbara-wold:single-cell-15298 -> ENCLB030QYZ\n",
        "row 118 lib (15299) barbara-wold:single-cell-15299 -> ENCLB721WMG\n",
        "row 119 lib (15300) barbara-wold:single-cell-15300 -> ENCLB359XUW\n",
        "row 120 lib (15301) barbara-wold:single-cell-15301 -> ENCLB807MQE\n",
        "row 121 lib (15302) barbara-wold:single-cell-15302 -> ENCLB462UWC\n",
        "row 122 lib (15303) barbara-wold:single-cell-15303 -> ENCLB296VEF\n",
        "row 123 lib (None) None -> skip incomplete\n",
        "row 124 lib (None) None -> skip not yet ready\n",
        "row 125 lib (None) None -> skip not yet ready\n",
        "row 126 lib (None) None -> skip not yet ready\n",
        "row 127 lib (None) None -> skip not yet ready\n",
        "row 128 lib (None) None -> skip not yet ready\n",
        "row 129 lib (None) None -> skip not yet ready\n",
        "row 130 lib (None) None -> skip not yet ready\n",
        "row 131 lib (None) None -> skip not yet ready\n",
        "row 132 lib (None) None -> skip not yet ready\n",
        "row 133 lib (None) None -> skip not yet ready\n",
        "row 134 lib (None) None -> skip not yet ready\n",
        "row 135 lib (None) None -> skip not yet ready\n",
        "row 136 lib (None) None -> skip not yet ready\n",
        "row 137 lib (None) None -> skip not yet ready\n",
        "row 138 lib (None) None -> skip not yet ready\n",
        "row 139 lib (None) None -> skip not yet ready\n",
        "row 140 lib (None) None -> skip not yet ready\n",
        "row 141 lib (None) None -> skip not yet ready\n"
       ]
      }
     ],
     "prompt_number": 14
    },
    {
     "cell_type": "code",
     "collapsed": false,
     "input": [
      "def update_model_with_flowcells(model):\n",
      "    query = RDF.SPARQLQuery(\"\"\"PREFIX htsw: <http://jumpgate.caltech.edu/wiki/LibraryOntology#>\n",
      "    select ?flowcell\n",
      "    where {\n",
      "       ?lane a htsw:IlluminaLane ;\n",
      "             htsw:flowcell ?flowcell .\n",
      "    }\"\"\")\n",
      "    for row in query.execute(model):\n",
      "        load_into_model(model, 'rdfa', str(row['flowcell']))\n",
      "\n",
      "def add_flowcell_details(lib_id, new_object):\n",
      "    model = get_model()\n",
      "    load_into_model(model, 'rdfa', 'https://jumpgate.caltech.edu/library/{}/'.format(lib_id))\n",
      "    update_model_with_flowcells(model)\n",
      "    query = RDF.SPARQLQuery(\"\"\"PREFIX htsw: <http://jumpgate.caltech.edu/wiki/LibraryOntology#>\n",
      "    select ?library ?flowcell_id ?lane_number ?barcode ?sequencer\n",
      "    where {{\n",
      "      ?library a htsw:Library ;\n",
      "               htsw:has_lane ?lane ;\n",
      "               htsw:multiplex_index ?barcode .\n",
      "      ?lane a htsw:IlluminaLane ;\n",
      "            htsw:flowcell ?flowcell ;\n",
      "            htsw:lane_number ?lane_number .\n",
      "      ?flowcell htsw:sequenced_by ?sequencer ;\n",
      "                htsw:flowcell_id ?flowcell_id .\n",
      "    }}\n",
      "    \"\"\")\n",
      "    flowcell_details = []\n",
      "    for row in query.execute(model):\n",
      "        run = {\n",
      "           'machine': str(row['sequencer']),\n",
      "           'flowcell': str(row['flowcell_id']),\n",
      "           'lane': str(row['lane_number']),\n",
      "           'barcode': str(row['barcode']).split(':')[-1]\n",
      "        }\n",
      "        flowcell_details.append(run)\n",
      "    new_object['flowcell_details'] = flowcell_details\n",
      "    "
     ],
     "language": "python",
     "metadata": {},
     "outputs": [],
     "prompt_number": 15
    },
    {
     "cell_type": "code",
     "collapsed": false,
     "input": [
      "import paramiko"
     ],
     "language": "python",
     "metadata": {},
     "outputs": [],
     "prompt_number": 16
    },
    {
     "cell_type": "code",
     "collapsed": false,
     "input": [
      "def make_manifest(linking, map_name):\n",
      "    book = gcat.get_file(book_name, fmt='pandas_excel')\n",
      "    libraries = book.parse('Libraries', header = 0)\n",
      "    pongo = paramiko.SSHClient()\n",
      "    pongo.set_missing_host_key_policy(paramiko.WarningPolicy())\n",
      "    pongo.connect('thornvalley.caltech.edu', username='diane')\n",
      "    sftp = pongo.open_sftp()\n",
      "    sftp.chdir('proj/submission/encode-y3q1')\n",
      "\n",
      "    for line in sftp.open(map_name):\n",
      "        library_id, dirname = line.split()\n",
      "        row = libraries[libraries['aliases:array'] == 'barbara-wold:{}'.format(library_id)]\n",
      "        for filename in sftp.listdir(dirname):\n",
      "            if filename.endswith('fastq.gz'):\n",
      "                relative_path = os.path.join(dirname, filename)\n",
      "            metadata = {\n",
      "                'dataset': list(row['experiment_accession'])[0],\n",
      "                'submitted_file_name': relative_path,\n",
      "                'replicate': list(row['replicate_uuid'])[0],\n",
      "                'lab': list(row['lab'])[0],\n",
      "                'award': list(row['award'])[0],\n",
      "            }\n",
      "            #display.display_pretty(metadata)\n",
      "            print('<http://jumpgate.caltech.edu/wiki/SubmissionsLog/encode-y3q1#'+dirname+'>')\n",
      "            print('  encode3:dataset \"{}\" ;'.format(metadata['dataset']))\n",
      "            print('  encode3:replicate \"{}\" ;'.format(metadata['replicate']))\n",
      "            print('  encode3:lab \"{}\" ;'.format(metadata['lab']))\n",
      "            print('  encode3:award \"{}\" .'.format(metadata['award']))\n",
      "\n",
      "            print('<file:///woldlab/castor/home/diane/proj/submission/encode-y3q1/'+relative_path+'>')\n",
      "            print('  encode3:output_type \"raw data\" ;')\n",
      "            print('  encode3:file_format \"fastq\" .')\n",
      "\n",
      "    print('generated')\n",
      "\n",
      "#make_manifest(book_name, 'purk.txt')"
     ],
     "language": "python",
     "metadata": {},
     "outputs": [],
     "prompt_number": 17
    },
    {
     "cell_type": "code",
     "collapsed": false,
     "input": [
      "def add_document_aliases():\n",
      "    # Really I wish I could attach some aliases to the protocols\n",
      "    aliases = [#('f0cc5a7f-96a5-4970-9f46-317cc8e2d6a4', 'barbara-wold:mirvana_protocol.pdf'),\n",
      "               ('428a184d-7fa1-4599-9d8d-749c2eba7edd', 'barbara-wold:turbodnase_protocol.pdf'),\n",
      "               ('e84de88e-4c31-4b2a-b6ac-96feb764b2d0', 'barbara-wold:dynabeads_protocol.pdf'),\n",
      "               ('5f5193b0-0c61-40c6-a286-b1f6d6f0c0da', 'barbara-wold:Smart-Seq_Protocol.pdf'),\n",
      "               ]\n",
      "    for uuid, alias in aliases:\n",
      "        document = server.get_json(uuid)\n",
      "        if alias is None:\n",
      "            print('IDENTIFY: {} -> {}'.format(document['@id'], document['urls']))\n",
      "        elif alias not in document['aliases']:\n",
      "            print('UPDATE: {} -> {}'.format(document['@id'], document['aliases']))\n",
      "            document_aliases = document['aliases']\n",
      "            document_aliases.append(alias)\n",
      "            payload = {'aliases': document_aliases}\n",
      "            display.display_pretty(payload)\n",
      "            server.patch_json(document['@id'], payload)\n",
      "            \n",
      "#add_document_aliases()"
     ],
     "language": "python",
     "metadata": {},
     "outputs": [],
     "prompt_number": 18
    },
    {
     "cell_type": "code",
     "collapsed": false,
     "input": [
      "lib = server.get_json('barbara-wold:15007')"
     ],
     "language": "python",
     "metadata": {},
     "outputs": [],
     "prompt_number": 19
    },
    {
     "cell_type": "code",
     "collapsed": false,
     "input": [
      "lib.keys()"
     ],
     "language": "python",
     "metadata": {},
     "outputs": [
      {
       "metadata": {},
       "output_type": "pyout",
       "prompt_number": 20,
       "text": [
        "[u'accession',\n",
        " u'alternate_accessions',\n",
        " u'nucleic_acid_starting_quantity_units',\n",
        " u'aliases',\n",
        " u'submitted_by',\n",
        " u'documents',\n",
        " u'uuid',\n",
        " u'strand_specificity',\n",
        " u'fragmentation_method',\n",
        " u'schema_version',\n",
        " u'lysis_method',\n",
        " u'biosample',\n",
        " u'extraction_method',\n",
        " u'library_size_selection_method',\n",
        " u'status',\n",
        " u'nucleic_acid_term_name',\n",
        " u'treatments',\n",
        " u'award',\n",
        " u'depleted_in_term_name',\n",
        " u'paired_ended',\n",
        " u'lab',\n",
        " u'@id',\n",
        " u'depleted_in_term_id',\n",
        " u'audit',\n",
        " u'size_range',\n",
        " u'spikeins_used',\n",
        " u'nucleic_acid_term_id',\n",
        " u'nucleic_acid_starting_quantity',\n",
        " u'date_created',\n",
        " u'@type']"
       ]
      }
     ],
     "prompt_number": 20
    },
    {
     "cell_type": "code",
     "collapsed": false,
     "input": [
      "bio = server.get_json(lib['biosample']['@id'])"
     ],
     "language": "python",
     "metadata": {},
     "outputs": [],
     "prompt_number": 21
    },
    {
     "cell_type": "code",
     "collapsed": false,
     "input": [],
     "language": "python",
     "metadata": {},
     "outputs": [],
     "prompt_number": 21
    },
    {
     "cell_type": "code",
     "collapsed": false,
     "input": [
      "exp = server.get_json('ENCSR160IIN')"
     ],
     "language": "python",
     "metadata": {},
     "outputs": [],
     "prompt_number": 22
    },
    {
     "cell_type": "code",
     "collapsed": false,
     "input": [
      "exp['replicates'][0]['library'].keys()"
     ],
     "language": "python",
     "metadata": {},
     "outputs": [
      {
       "metadata": {},
       "output_type": "pyout",
       "prompt_number": 23,
       "text": [
        "[u'accession',\n",
        " u'alternate_accessions',\n",
        " u'nucleic_acid_starting_quantity_units',\n",
        " u'aliases',\n",
        " u'submitted_by',\n",
        " u'documents',\n",
        " u'uuid',\n",
        " u'strand_specificity',\n",
        " u'fragmentation_method',\n",
        " u'schema_version',\n",
        " u'lysis_method',\n",
        " u'biosample',\n",
        " u'extraction_method',\n",
        " u'library_size_selection_method',\n",
        " u'status',\n",
        " u'nucleic_acid_term_name',\n",
        " u'treatments',\n",
        " u'award',\n",
        " u'depleted_in_term_name',\n",
        " u'paired_ended',\n",
        " u'lab',\n",
        " u'@id',\n",
        " u'depleted_in_term_id',\n",
        " u'size_range',\n",
        " u'spikeins_used',\n",
        " u'nucleic_acid_term_id',\n",
        " u'nucleic_acid_starting_quantity',\n",
        " u'date_created',\n",
        " u'@type']"
       ]
      }
     ],
     "prompt_number": 23
    },
    {
     "cell_type": "code",
     "collapsed": false,
     "input": [
      "experiments = get_model()"
     ],
     "language": "python",
     "metadata": {},
     "outputs": [],
     "prompt_number": 24
    },
    {
     "cell_type": "code",
     "collapsed": false,
     "input": [
      "r = server.search_jsonld('Barbara Wold, Caltech', type='experiment', limit='all')"
     ],
     "language": "python",
     "metadata": {},
     "outputs": [],
     "prompt_number": 25
    },
    {
     "cell_type": "code",
     "collapsed": false,
     "input": [
      "load_jsonld_into_model(experiments, r['@graph'])"
     ],
     "language": "python",
     "metadata": {},
     "outputs": [],
     "prompt_number": 26
    },
    {
     "cell_type": "code",
     "collapsed": false,
     "input": [
      "with open('/tmp/experiments.ttl', 'w') as outstream:\n",
      "    dump_model(experiments, outstream)"
     ],
     "language": "python",
     "metadata": {},
     "outputs": [],
     "prompt_number": 27
    },
    {
     "cell_type": "code",
     "collapsed": false,
     "input": [
      "%%sparql -m experiments -o exp_ids\n",
      "select ?uri\n",
      "where {\n",
      "  ?uri a experiment:experiment .\n",
      "}"
     ],
     "language": "python",
     "metadata": {},
     "outputs": [],
     "prompt_number": 28
    },
    {
     "cell_type": "code",
     "collapsed": false,
     "input": [
      "for i, row in enumerate(exp_ids):\n",
      "    data = server.get_jsonld(str(row['uri']))\n",
      "    load_jsonld_into_model(experiments, data)\n",
      "    if i % 20 == 0:\n",
      "        print(i)"
     ],
     "language": "python",
     "metadata": {},
     "outputs": [
      {
       "output_type": "stream",
       "stream": "stdout",
       "text": [
        "0\n",
        "20"
       ]
      },
      {
       "output_type": "stream",
       "stream": "stdout",
       "text": [
        "\n",
        "40"
       ]
      },
      {
       "output_type": "stream",
       "stream": "stdout",
       "text": [
        "\n",
        "60"
       ]
      },
      {
       "output_type": "stream",
       "stream": "stdout",
       "text": [
        "\n",
        "80"
       ]
      },
      {
       "output_type": "stream",
       "stream": "stdout",
       "text": [
        "\n",
        "100"
       ]
      },
      {
       "output_type": "stream",
       "stream": "stdout",
       "text": [
        "\n",
        "120"
       ]
      },
      {
       "output_type": "stream",
       "stream": "stdout",
       "text": [
        "\n",
        "140"
       ]
      },
      {
       "output_type": "stream",
       "stream": "stdout",
       "text": [
        "\n",
        "160"
       ]
      },
      {
       "output_type": "stream",
       "stream": "stdout",
       "text": [
        "\n",
        "180"
       ]
      },
      {
       "output_type": "stream",
       "stream": "stdout",
       "text": [
        "\n",
        "200"
       ]
      },
      {
       "output_type": "stream",
       "stream": "stdout",
       "text": [
        "\n",
        "220"
       ]
      },
      {
       "output_type": "stream",
       "stream": "stdout",
       "text": [
        "\n"
       ]
      }
     ],
     "prompt_number": 29
    },
    {
     "cell_type": "code",
     "collapsed": false,
     "input": [
      "%%sparql -m experiments -o linking_rdf\n",
      "select ?experiment ?library ?replicates ?alias\n",
      "where {\n",
      "   ?experiment a experiment:experiment ;\n",
      "        experiment:replicates ?replicates .\n",
      "   ?replicates replicate:library ?library .\n",
      "   ?library library:aliases ?alias .\n",
      "}"
     ],
     "language": "python",
     "metadata": {},
     "outputs": [],
     "prompt_number": 30
    },
    {
     "cell_type": "code",
     "collapsed": false,
     "input": [
      "linking = {}\n",
      "for row in linking_rdf:\n",
      "    d = { k: str(row[k]) for k in row }\n",
      "    linking[d['alias']] = d"
     ],
     "language": "python",
     "metadata": {},
     "outputs": [],
     "prompt_number": 31
    },
    {
     "cell_type": "code",
     "collapsed": false,
     "input": [
      "linking['barbara-wold:15007']"
     ],
     "language": "python",
     "metadata": {},
     "outputs": [
      {
       "metadata": {},
       "output_type": "pyout",
       "prompt_number": 32,
       "text": [
        "{'alias': 'barbara-wold:15007',\n",
        " 'experiment': 'https://www.encodedcc.org/experiments/ENCSR160IIN/',\n",
        " 'library': 'https://www.encodedcc.org/libraries/ENCLB835LVO/',\n",
        " 'replicates': 'https://www.encodedcc.org/replicates/62b52dad-8690-4e49-9247-5375f70794bf/'}"
       ]
      }
     ],
     "prompt_number": 32
    },
    {
     "cell_type": "code",
     "collapsed": false,
     "input": [
      "book = gcat.get_file(book_name, fmt='pandas_excel')\n",
      "libraries = book.parse('Libraries', header = 0)"
     ],
     "language": "python",
     "metadata": {},
     "outputs": [],
     "prompt_number": 33
    },
    {
     "cell_type": "code",
     "collapsed": false,
     "input": [
      "for a in linking:\n",
      "    row = libraries[libraries['aliases:array'] == a]\n",
      "    if len(row) > 0:\n",
      "        uuid = row['replicate_uuid'].values[0]\n",
      "        uuid_url = 'https://www.encodedcc.org/replicates/{}/'.format(uuid)\n",
      "        print(a, linking[a]['replicates'] == uuid_url, linking[a]['replicates'], uuid_url)"
     ],
     "language": "python",
     "metadata": {},
     "outputs": [
      {
       "output_type": "stream",
       "stream": "stdout",
       "text": [
        "barbara-wold:15260 True https://www.encodedcc.org/replicates/349aff01-23de-4c1d-a6a4-b4b0faeb4577/ https://www.encodedcc.org/replicates/349aff01-23de-4c1d-a6a4-b4b0faeb4577/\n",
        "barbara-wold:15303 True https://www.encodedcc.org/replicates/f0a65e0b-7edf-4e7d-88ba-d57cb617d833/ https://www.encodedcc.org/replicates/f0a65e0b-7edf-4e7d-88ba-d57cb617d833/\n",
        "barbara-wold:15259 True https://www.encodedcc.org/replicates/4846df3f-03a7-4996-be65-24040330d033/ https://www.encodedcc.org/replicates/4846df3f-03a7-4996-be65-24040330d033/\n",
        "barbara-wold:15258 True https://www.encodedcc.org/replicates/28c63afb-a6a7-4ae6-a38e-6fe97d509cf7/ https://www.encodedcc.org/replicates/28c63afb-a6a7-4ae6-a38e-6fe97d509cf7/\n",
        "barbara-wold:15257 True https://www.encodedcc.org/replicates/21f2fe05-1cb0-4ed2-82c4-b7f1302e84ce/ https://www.encodedcc.org/replicates/21f2fe05-1cb0-4ed2-82c4-b7f1302e84ce/\n",
        "barbara-wold:15256 True https://www.encodedcc.org/replicates/be891cec-a4f6-4cde-b8f8-d7f65ebe3877/ https://www.encodedcc.org/replicates/be891cec-a4f6-4cde-b8f8-d7f65ebe3877/\n",
        "barbara-wold:15293 True https://www.encodedcc.org/replicates/be4f804f-0bdd-4b74-b5e7-66f356055ac1/ https://www.encodedcc.org/replicates/be4f804f-0bdd-4b74-b5e7-66f356055ac1/\n",
        "barbara-wold:15091 True https://www.encodedcc.org/replicates/a3a77e8d-0256-47b8-a783-e83fff757979/ https://www.encodedcc.org/replicates/a3a77e8d-0256-47b8-a783-e83fff757979/\n",
        "barbara-wold:15300 True https://www.encodedcc.org/replicates/a9ced488-2ff9-4642-bc84-0cb7fd2b645c/ https://www.encodedcc.org/replicates/a9ced488-2ff9-4642-bc84-0cb7fd2b645c/\n",
        "barbara-wold:15007 True https://www.encodedcc.org/replicates/62b52dad-8690-4e49-9247-5375f70794bf/ https://www.encodedcc.org/replicates/62b52dad-8690-4e49-9247-5375f70794bf/\n",
        "barbara-wold:15008 True https://www.encodedcc.org/replicates/c96cad83-ae72-4ab6-9054-75865cef0a13/ https://www.encodedcc.org/replicates/c96cad83-ae72-4ab6-9054-75865cef0a13/\n",
        "barbara-wold:15009 True https://www.encodedcc.org/replicates/d6e186fa-099d-4100-9f53-fb16fd364a2f/ https://www.encodedcc.org/replicates/d6e186fa-099d-4100-9f53-fb16fd364a2f/\n",
        "barbara-wold:15088 True https://www.encodedcc.org/replicates/f82947e2-8c12-4580-894c-31688ca2b7b8/ https://www.encodedcc.org/replicates/f82947e2-8c12-4580-894c-31688ca2b7b8/\n",
        "barbara-wold:15089 True https://www.encodedcc.org/replicates/6a633e62-c7dd-404e-bcc7-781b285214ad/ https://www.encodedcc.org/replicates/6a633e62-c7dd-404e-bcc7-781b285214ad/\n",
        "barbara-wold:15080 True https://www.encodedcc.org/replicates/ef3ed8d0-fecf-4da6-b212-700c7cb9c158/ https://www.encodedcc.org/replicates/ef3ed8d0-fecf-4da6-b212-700c7cb9c158/\n",
        "barbara-wold:15081 True https://www.encodedcc.org/replicates/643c5303-3cd9-4dc2-bdf4-1c536086bb9c/ https://www.encodedcc.org/replicates/643c5303-3cd9-4dc2-bdf4-1c536086bb9c/\n",
        "barbara-wold:15082 True https://www.encodedcc.org/replicates/80f30d6d-29b8-4f4a-9b43-5b6385ec3d21/ https://www.encodedcc.org/replicates/80f30d6d-29b8-4f4a-9b43-5b6385ec3d21/\n",
        "barbara-wold:15084 True https://www.encodedcc.org/replicates/2190c82c-106a-4958-b518-579d07a1eec9/ https://www.encodedcc.org/replicates/2190c82c-106a-4958-b518-579d07a1eec9/\n",
        "barbara-wold:15085 True https://www.encodedcc.org/replicates/e4ecbe3e-58c4-496e-a305-12f6ac81adfd/ https://www.encodedcc.org/replicates/e4ecbe3e-58c4-496e-a305-12f6ac81adfd/\n",
        "barbara-wold:15086 True https://www.encodedcc.org/replicates/fbec104f-53bb-4cfc-988d-be9dea3e41e7/ https://www.encodedcc.org/replicates/fbec104f-53bb-4cfc-988d-be9dea3e41e7/\n",
        "barbara-wold:15076 True https://www.encodedcc.org/replicates/128d709d-cbb9-4b5d-bb50-4e61bd3d0591/ https://www.encodedcc.org/replicates/128d709d-cbb9-4b5d-bb50-4e61bd3d0591/\n",
        "barbara-wold:15016 True https://www.encodedcc.org/replicates/5708c8ba-54c8-44a1-aafd-1bc179341a1a/ https://www.encodedcc.org/replicates/5708c8ba-54c8-44a1-aafd-1bc179341a1a/\n",
        "barbara-wold:15290 True https://www.encodedcc.org/replicates/78809d83-8bd0-4318-8f41-c4511d848b39/ https://www.encodedcc.org/replicates/78809d83-8bd0-4318-8f41-c4511d848b39/\n",
        "barbara-wold:15015 True https://www.encodedcc.org/replicates/bd583dac-77ab-4b0c-9f35-037ec609b933/ https://www.encodedcc.org/replicates/bd583dac-77ab-4b0c-9f35-037ec609b933/\n",
        "barbara-wold:15017 True https://www.encodedcc.org/replicates/02773643-83b5-4ecf-b903-f3b7cc3d4075/ https://www.encodedcc.org/replicates/02773643-83b5-4ecf-b903-f3b7cc3d4075/\n",
        "barbara-wold:15011"
       ]
      },
      {
       "output_type": "stream",
       "stream": "stdout",
       "text": [
        " True https://www.encodedcc.org/replicates/f0d3e862-756b-4e20-a712-99bcd3dc37f4/ https://www.encodedcc.org/replicates/f0d3e862-756b-4e20-a712-99bcd3dc37f4/\n",
        "barbara-wold:15302 True https://www.encodedcc.org/replicates/3c9cddf2-eb3a-462e-8479-ea01629e5ecd/ https://www.encodedcc.org/replicates/3c9cddf2-eb3a-462e-8479-ea01629e5ecd/\n",
        "barbara-wold:15010 True https://www.encodedcc.org/replicates/43b2386d-c1c4-4fb7-8c9d-5349ae4279aa/ https://www.encodedcc.org/replicates/43b2386d-c1c4-4fb7-8c9d-5349ae4279aa/\n",
        "barbara-wold:13414 True https://www.encodedcc.org/replicates/c89394aa-5446-46fe-ac6a-f864ef0ad87a/ https://www.encodedcc.org/replicates/c89394aa-5446-46fe-ac6a-f864ef0ad87a/\n",
        "barbara-wold:15019 True https://www.encodedcc.org/replicates/8a60be9c-611b-421a-ac11-5df6257b778e/ https://www.encodedcc.org/replicates/8a60be9c-611b-421a-ac11-5df6257b778e/\n",
        "barbara-wold:15018 True https://www.encodedcc.org/replicates/4be20e21-6cdb-4563-9786-985109589e10/ https://www.encodedcc.org/replicates/4be20e21-6cdb-4563-9786-985109589e10/\n",
        "barbara-wold:15291 True https://www.encodedcc.org/replicates/98c554b6-5754-4cd3-b930-ff59f27d5f79/ https://www.encodedcc.org/replicates/98c554b6-5754-4cd3-b930-ff59f27d5f79/\n",
        "barbara-wold:15294 True https://www.encodedcc.org/replicates/bc6a98b5-0831-49d0-a8ac-592c3e69234d/ https://www.encodedcc.org/replicates/bc6a98b5-0831-49d0-a8ac-592c3e69234d/\n",
        "barbara-wold:15095 True https://www.encodedcc.org/replicates/370f505a-4343-4423-af5f-68b7964fa0d8/ https://www.encodedcc.org/replicates/370f505a-4343-4423-af5f-68b7964fa0d8/\n",
        "barbara-wold:15094 True https://www.encodedcc.org/replicates/d3156e8f-662d-4a63-9ce4-ca2b6896c89e/ https://www.encodedcc.org/replicates/d3156e8f-662d-4a63-9ce4-ca2b6896c89e/\n",
        "barbara-wold:15093 True https://www.encodedcc.org/replicates/ecdb2640-13fb-4df1-9a41-0f9adea71ec3/ https://www.encodedcc.org/replicates/ecdb2640-13fb-4df1-9a41-0f9adea71ec3/\n",
        "barbara-wold:15090 True https://www.encodedcc.org/replicates/9afd2e23-a0ef-4613-8670-5eeab4556890/ https://www.encodedcc.org/replicates/9afd2e23-a0ef-4613-8670-5eeab4556890/\n",
        "barbara-wold:15271 True https://www.encodedcc.org/replicates/db9744b8-1860-484f-8fc3-d95ca1ee9f7b/ https://www.encodedcc.org/replicates/db9744b8-1860-484f-8fc3-d95ca1ee9f7b/\n",
        "barbara-wold:15292 True https://www.encodedcc.org/replicates/033e8fc3-7e53-4f1f-a1c6-c1173754cde5/ https://www.encodedcc.org/replicates/033e8fc3-7e53-4f1f-a1c6-c1173754cde5/\n",
        "barbara-wold:15301 True https://www.encodedcc.org/replicates/479d9bb6-45d8-412a-8b65-8aa8cedeceea/ https://www.encodedcc.org/replicates/479d9bb6-45d8-412a-8b65-8aa8cedeceea/\n",
        "barbara-wold:15295 True https://www.encodedcc.org/replicates/d220fe2a-6407-49fb-b4b4-b09a9353247f/ https://www.encodedcc.org/replicates/d220fe2a-6407-49fb-b4b4-b09a9353247f/\n",
        "barbara-wold:15073 True https://www.encodedcc.org/replicates/d0e9e1a9-1a41-4b16-b3a1-e051d7e7fb2a/ https://www.encodedcc.org/replicates/d0e9e1a9-1a41-4b16-b3a1-e051d7e7fb2a/\n",
        "barbara-wold:15072 True https://www.encodedcc.org/replicates/daf7cd9e-fc29-4c04-9efa-9af0602b7d79/ https://www.encodedcc.org/replicates/daf7cd9e-fc29-4c04-9efa-9af0602b7d79/\n",
        "barbara-wold:15075 True https://www.encodedcc.org/replicates/8d5da607-3c1c-4075-b472-66ab571dd094/ https://www.encodedcc.org/replicates/8d5da607-3c1c-4075-b472-66ab571dd094/\n",
        "barbara-wold:15074 True https://www.encodedcc.org/replicates/828492c0-33e6-4972-a92b-8a30b8bf25ce/ https://www.encodedcc.org/replicates/828492c0-33e6-4972-a92b-8a30b8bf25ce/\n",
        "barbara-wold:15077 True https://www.encodedcc.org/replicates/8afa34db-9d55-40de-a9ec-9ccd776ba6e5/ https://www.encodedcc.org/replicates/8afa34db-9d55-40de-a9ec-9ccd776ba6e5/\n",
        "barbara-wold:15079 True https://www.encodedcc.org/replicates/24d9def0-82b2-4224-87f2-53b9b47bf95b/ https://www.encodedcc.org/replicates/24d9def0-82b2-4224-87f2-53b9b47bf95b/\n",
        "barbara-wold:15078 True https://www.encodedcc.org/replicates/25103c7c-1bd8-4560-bec5-661ee4cc1c11/ https://www.encodedcc.org/replicates/25103c7c-1bd8-4560-bec5-661ee4cc1c11/\n",
        "barbara-wold:15296 True https://www.encodedcc.org/replicates/f598d6cd-b4f6-4159-bd2b-940491486b75/ https://www.encodedcc.org/replicates/f598d6cd-b4f6-4159-bd2b-940491486b75/\n",
        "barbara-wold:15261 True https://www.encodedcc.org/replicates/3beba42b-47b6-4374-bf6f-42c5e2cc68eb/ https://www.encodedcc.org/replicates/3beba42b-47b6-4374-bf6f-42c5e2cc68eb/\n",
        "barbara-wold:15262 True https://www.encodedcc.org/replicates/c0affdb3-0da6-42ce-b8a2-d461feebf41f/ https://www.encodedcc.org/replicates/c0affdb3-0da6-42ce-b8a2-d461feebf41f/\n",
        "barbara-wold:15263 True https://www.encodedcc.org/replicates/2e4c900d-ae4b-4265-baae-3c73d957bba0/ https://www.encodedcc.org/replicates/2e4c900d-ae4b-4265-baae-3c73d957bba0/\n",
        "barbara-wold:15264 True https://www.encodedcc.org/replicates/086b74a8-27b7-40d6-8a12-e1e3e6f71243/ https://www.encodedcc.org/replicates/086b74a8-27b7-40d6-8a12-e1e3e6f71243/\n",
        "barbara-wold:15266 True https://www.encodedcc.org/replicates/803fa8b7-120d-4c6b-9719-e42e7d4552eb/ https://www.encodedcc.org/replicates/803fa8b7-120d-4c6b-9719-e42e7d4552eb/\n",
        "barbara-wold:15267 True https://www.encodedcc.org/replicates/8751514d-c39d-429d-aa26-a8a8ba3d4fb9/ https://www.encodedcc.org/replicates/8751514d-c39d-429d-aa26-a8a8ba3d4fb9/\n",
        "barbara-wold:15268 True https://www.encodedcc.org/replicates/7382df1e-5fc7-4f4d-8109-70da83854b77/ https://www.encodedcc.org/replicates/7382df1e-5fc7-4f4d-8109-70da83854b77/\n",
        "barbara-wold:15013 True https://www.encodedcc.org/replicates/68aabdd2-3cde-4cf7-9eda-d60bca9a3d1d/ https://www.encodedcc.org/replicates/68aabdd2-3cde-4cf7-9eda-d60bca9a3d1d/\n",
        "barbara-wold:15288"
       ]
      },
      {
       "output_type": "stream",
       "stream": "stdout",
       "text": [
        " True https://www.encodedcc.org/replicates/adf3c3d1-5d23-4e23-910d-00646c839756/ https://www.encodedcc.org/replicates/adf3c3d1-5d23-4e23-910d-00646c839756/\n",
        "barbara-wold:15012 True https://www.encodedcc.org/replicates/9461c201-0667-40a4-adc8-e5d89e0afa08/ https://www.encodedcc.org/replicates/9461c201-0667-40a4-adc8-e5d89e0afa08/\n",
        "barbara-wold:15289 True https://www.encodedcc.org/replicates/ce6f677c-c3d2-4288-aa64-f79c2b8b5d20/ https://www.encodedcc.org/replicates/ce6f677c-c3d2-4288-aa64-f79c2b8b5d20/\n",
        "barbara-wold:13418 True https://www.encodedcc.org/replicates/95951f02-8282-4ed6-acea-08282928d1a3/ https://www.encodedcc.org/replicates/95951f02-8282-4ed6-acea-08282928d1a3/\n",
        "barbara-wold:15092 True https://www.encodedcc.org/replicates/4a6e47fc-ed40-438e-9dcf-ff4590591ac1/ https://www.encodedcc.org/replicates/4a6e47fc-ed40-438e-9dcf-ff4590591ac1/\n",
        "barbara-wold:13432 True https://www.encodedcc.org/replicates/15bf2818-7c36-49ec-84a7-0e51208b30c7/ https://www.encodedcc.org/replicates/15bf2818-7c36-49ec-84a7-0e51208b30c7/\n",
        "barbara-wold:15248 True https://www.encodedcc.org/replicates/ef7023ba-3abd-464b-89b1-0b601c686528/ https://www.encodedcc.org/replicates/ef7023ba-3abd-464b-89b1-0b601c686528/\n",
        "barbara-wold:13422 True https://www.encodedcc.org/replicates/cd4451f5-e4ba-479a-9e1f-0967f86cd80f/ https://www.encodedcc.org/replicates/cd4451f5-e4ba-479a-9e1f-0967f86cd80f/\n",
        "barbara-wold:15087 True https://www.encodedcc.org/replicates/85c25239-0136-4b97-886f-4c6f918dbab1/ https://www.encodedcc.org/replicates/85c25239-0136-4b97-886f-4c6f918dbab1/\n",
        "barbara-wold:13427 True https://www.encodedcc.org/replicates/27bf3b8e-33ff-4528-9c7c-337949e8a9ad/ https://www.encodedcc.org/replicates/27bf3b8e-33ff-4528-9c7c-337949e8a9ad/\n",
        "barbara-wold:15244 True https://www.encodedcc.org/replicates/e54e1c65-b69c-403f-893a-cb5fd0355262/ https://www.encodedcc.org/replicates/e54e1c65-b69c-403f-893a-cb5fd0355262/\n",
        "barbara-wold:13428 True https://www.encodedcc.org/replicates/b0347c85-d92d-4699-8275-302dfda24eab/ https://www.encodedcc.org/replicates/b0347c85-d92d-4699-8275-302dfda24eab/\n",
        "barbara-wold:13421 True https://www.encodedcc.org/replicates/9a8e1f0c-2719-4dae-b37d-18b19afa23ef/ https://www.encodedcc.org/replicates/9a8e1f0c-2719-4dae-b37d-18b19afa23ef/\n",
        "barbara-wold:13423 True https://www.encodedcc.org/replicates/f3660dcf-5c23-46b5-b076-666c6407e786/ https://www.encodedcc.org/replicates/f3660dcf-5c23-46b5-b076-666c6407e786/\n",
        "barbara-wold:13424 True https://www.encodedcc.org/replicates/ecfab60d-9d21-4893-9e01-ea09a5d49070/ https://www.encodedcc.org/replicates/ecfab60d-9d21-4893-9e01-ea09a5d49070/\n",
        "barbara-wold:13425 True https://www.encodedcc.org/replicates/e996e9c0-1780-4664-94e5-ca6044eec5b3/ https://www.encodedcc.org/replicates/e996e9c0-1780-4664-94e5-ca6044eec5b3/\n",
        "barbara-wold:13426 True https://www.encodedcc.org/replicates/36aee0ee-ecc7-4523-af37-a5f38268d07f/ https://www.encodedcc.org/replicates/36aee0ee-ecc7-4523-af37-a5f38268d07f/\n",
        "barbara-wold:13429 True https://www.encodedcc.org/replicates/d21cf255-6ed1-44e1-8739-385a02bc4f96/ https://www.encodedcc.org/replicates/d21cf255-6ed1-44e1-8739-385a02bc4f96/\n",
        "barbara-wold:15297 True https://www.encodedcc.org/replicates/acfd8a4f-d76f-4d41-8024-8df7924cfbc4/ https://www.encodedcc.org/replicates/acfd8a4f-d76f-4d41-8024-8df7924cfbc4/\n",
        "barbara-wold:15241 True https://www.encodedcc.org/replicates/de67ec91-4d04-4272-b1fa-16bbae878754/ https://www.encodedcc.org/replicates/de67ec91-4d04-4272-b1fa-16bbae878754/\n",
        "barbara-wold:13415 True https://www.encodedcc.org/replicates/ff7fa72c-9706-4442-a686-45107cd71aa2/ https://www.encodedcc.org/replicates/ff7fa72c-9706-4442-a686-45107cd71aa2/\n",
        "barbara-wold:13417"
       ]
      },
      {
       "output_type": "stream",
       "stream": "stdout",
       "text": [
        " True https://www.encodedcc.org/replicates/f02dced1-dcbd-4443-a762-0f7b3acd83f3/ https://www.encodedcc.org/replicates/f02dced1-dcbd-4443-a762-0f7b3acd83f3/\n",
        "barbara-wold:13416 True https://www.encodedcc.org/replicates/6554da12-fe0e-438a-9376-2a16148e988a/ https://www.encodedcc.org/replicates/6554da12-fe0e-438a-9376-2a16148e988a/\n",
        "barbara-wold:13440 True https://www.encodedcc.org/replicates/bbfa0edb-7707-443b-a7eb-eb8fa1a40eab/ https://www.encodedcc.org/replicates/bbfa0edb-7707-443b-a7eb-eb8fa1a40eab/\n",
        "barbara-wold:15022 True https://www.encodedcc.org/replicates/aac3c45f-5748-4f4b-bdca-e012ed477453/ https://www.encodedcc.org/replicates/aac3c45f-5748-4f4b-bdca-e012ed477453/\n",
        "barbara-wold:15020 True https://www.encodedcc.org/replicates/b7012f37-9985-44db-a5d8-eb02e8068b9d/ https://www.encodedcc.org/replicates/b7012f37-9985-44db-a5d8-eb02e8068b9d/\n",
        "barbara-wold:15021 True https://www.encodedcc.org/replicates/9eda27a3-c132-4881-b4ef-35efbff0e273/ https://www.encodedcc.org/replicates/9eda27a3-c132-4881-b4ef-35efbff0e273/\n",
        "barbara-wold:15299 True https://www.encodedcc.org/replicates/c1e08070-8c89-43ee-9733-95fca62b6dad/ https://www.encodedcc.org/replicates/c1e08070-8c89-43ee-9733-95fca62b6dad/\n",
        "barbara-wold:15298 True https://www.encodedcc.org/replicates/56750377-03c2-4468-863f-cec328d813b0/ https://www.encodedcc.org/replicates/56750377-03c2-4468-863f-cec328d813b0/\n",
        "barbara-wold:15083 True https://www.encodedcc.org/replicates/fd9215d9-d7fe-4b1e-b1b4-733cd189db8b/ https://www.encodedcc.org/replicates/fd9215d9-d7fe-4b1e-b1b4-733cd189db8b/\n",
        "barbara-wold:13413 True https://www.encodedcc.org/replicates/6781c13c-74dd-47f6-b307-70fb205ee0e5/ https://www.encodedcc.org/replicates/6781c13c-74dd-47f6-b307-70fb205ee0e5/\n",
        "barbara-wold:13439 True https://www.encodedcc.org/replicates/58f91fe7-90a1-497c-98a3-05ffe32dd8e1/ https://www.encodedcc.org/replicates/58f91fe7-90a1-497c-98a3-05ffe32dd8e1/\n",
        "barbara-wold:13438 True https://www.encodedcc.org/replicates/13f6d5b4-98be-4ce4-8d2b-0b21d4397b07/ https://www.encodedcc.org/replicates/13f6d5b4-98be-4ce4-8d2b-0b21d4397b07/\n",
        "barbara-wold:13437 True https://www.encodedcc.org/replicates/483d0b36-ee26-48a5-b0cc-ddb238cad935/ https://www.encodedcc.org/replicates/483d0b36-ee26-48a5-b0cc-ddb238cad935/\n",
        "barbara-wold:13436 True https://www.encodedcc.org/replicates/5d453b6b-c125-4596-ab0b-b90d38838583/ https://www.encodedcc.org/replicates/5d453b6b-c125-4596-ab0b-b90d38838583/\n",
        "barbara-wold:13435 True https://www.encodedcc.org/replicates/251bab41-87a5-4da8-ada9-1356608ec753/ https://www.encodedcc.org/replicates/251bab41-87a5-4da8-ada9-1356608ec753/\n",
        "barbara-wold:15270 True https://www.encodedcc.org/replicates/12c48e05-1a92-46f0-827b-8409f3b842cc/ https://www.encodedcc.org/replicates/12c48e05-1a92-46f0-827b-8409f3b842cc/\n",
        "barbara-wold:13433 True https://www.encodedcc.org/replicates/f0b792c5-223a-455b-a9c7-31b3abc1b873/ https://www.encodedcc.org/replicates/f0b792c5-223a-455b-a9c7-31b3abc1b873/\n",
        "barbara-wold:13431 True https://www.encodedcc.org/replicates/80a929b2-89ee-4f88-8f2e-e23a6da4684e/ https://www.encodedcc.org/replicates/80a929b2-89ee-4f88-8f2e-e23a6da4684e/\n",
        "barbara-wold:13430 True https://www.encodedcc.org/replicates/853b1b2a-2ab0-454b-ac99-3b884a8d5b56/ https://www.encodedcc.org/replicates/853b1b2a-2ab0-454b-ac99-3b884a8d5b56/\n",
        "barbara-wold:12518 True https://www.encodedcc.org/replicates/e6baa5e0-2dda-48b4-bd28-0741fb3bf51e/ https://www.encodedcc.org/replicates/e6baa5e0-2dda-48b4-bd28-0741fb3bf51e/\n",
        "barbara-wold:12517 True https://www.encodedcc.org/replicates/41a44b81-7bdf-4106-9a66-d4d0a073c183/ https://www.encodedcc.org/replicates/41a44b81-7bdf-4106-9a66-d4d0a073c183/\n",
        "barbara-wold:13419 True https://www.encodedcc.org/replicates/42675096-8c41-4ac7-88d5-9af2fc082788/ https://www.encodedcc.org/replicates/42675096-8c41-4ac7-88d5-9af2fc082788/\n",
        "barbara-wold:13420 True https://www.encodedcc.org/replicates/9d9ade1d-f76c-4c5c-a341-c6ea1af2d715/ https://www.encodedcc.org/replicates/9d9ade1d-f76c-4c5c-a341-c6ea1af2d715/\n",
        "barbara-wold:15246 True https://www.encodedcc.org/replicates/267353ce-d997-4fbf-b914-79723107f23e/ https://www.encodedcc.org/replicates/267353ce-d997-4fbf-b914-79723107f23e/\n",
        "barbara-wold:15247 True https://www.encodedcc.org/replicates/96d02987-4fc3-495b-ab2a-85bb33dae9b7/ https://www.encodedcc.org/replicates/96d02987-4fc3-495b-ab2a-85bb33dae9b7/\n",
        "barbara-wold:15245"
       ]
      },
      {
       "output_type": "stream",
       "stream": "stdout",
       "text": [
        " True https://www.encodedcc.org/replicates/00f6d928-79f3-4043-93f1-b75b4603de03/ https://www.encodedcc.org/replicates/00f6d928-79f3-4043-93f1-b75b4603de03/\n",
        "barbara-wold:15242 True https://www.encodedcc.org/replicates/a562f979-6d64-4c62-acf9-a8ae1e88b70a/ https://www.encodedcc.org/replicates/a562f979-6d64-4c62-acf9-a8ae1e88b70a/\n",
        "barbara-wold:15243 True https://www.encodedcc.org/replicates/01219079-d6b7-4859-aedb-d9a25d56abb1/ https://www.encodedcc.org/replicates/01219079-d6b7-4859-aedb-d9a25d56abb1/\n",
        "barbara-wold:15265 True https://www.encodedcc.org/replicates/2771cd04-6e8e-4d30-9dd5-e69560ffb1c0/ https://www.encodedcc.org/replicates/2771cd04-6e8e-4d30-9dd5-e69560ffb1c0/\n",
        "barbara-wold:15014 True https://www.encodedcc.org/replicates/0518dba0-85b6-4bed-953d-44f68583af43/ https://www.encodedcc.org/replicates/0518dba0-85b6-4bed-953d-44f68583af43/\n",
        "barbara-wold:15269 True https://www.encodedcc.org/replicates/2afb45d2-c603-489d-a673-5d7ea253d47f/ https://www.encodedcc.org/replicates/2afb45d2-c603-489d-a673-5d7ea253d47f/\n"
       ]
      }
     ],
     "prompt_number": 34
    },
    {
     "cell_type": "code",
     "collapsed": false,
     "input": [
      "def shorten_uri(uri):\n",
      "    return uri.replace('https://'+server.server, '')\n",
      "\n",
      "def make_manifest(linking, map_name):\n",
      "    host = paramiko.SSHClient()\n",
      "    host.set_missing_host_key_policy(paramiko.WarningPolicy())\n",
      "    host.connect('thornvalley.caltech.edu', username='diane')\n",
      "    sftp = host.open_sftp()\n",
      "    sftp.chdir('proj/submission/encode-y3q1')\n",
      "\n",
      "    for line in sftp.open(map_name):\n",
      "        library_id, dirname = line.split()\n",
      "        alias = linking['barbara-wold:'+library_id]\n",
      "        #display.display_pretty(metadata)\n",
      "        print('<http://jumpgate.caltech.edu/wiki/SubmissionsLog/encode-y3q1#'+dirname+'>')\n",
      "        print('  encode3:dataset \"{}\" ;'.format(shorten_uri(alias['experiment'])))\n",
      "        print('  encode3:replicate \"{}\" ;'.format(shorten_uri(alias['replicates'])))\n",
      "        print('  encode3:lab \"{}\" ;'.format('/labs/barbara-wold'))\n",
      "        print('  encode3:award \"{}\" .'.format('/awards/U54HG006998'))        \n",
      "\n",
      "        for filename in sftp.listdir(dirname):\n",
      "            if filename.endswith('fastq.gz'):\n",
      "                relative_path = os.path.join(dirname, filename)\n",
      "\n",
      "            print('<file:///woldlab/castor/home/diane/proj/submission/encode-y3q1/'+relative_path+'>')\n",
      "            print('  encode3:output_type \"raw data\" ;')\n",
      "            print('  encode3:file_format \"fastq\" ;')\n",
      "            print('  encode3:file_size {} .'.format(sftp.stat(relative_path).st_size))\n",
      "#make_manifest(linking, 'enhancer.txt')"
     ],
     "language": "python",
     "metadata": {},
     "outputs": [],
     "prompt_number": 35
    },
    {
     "cell_type": "code",
     "collapsed": false,
     "input": [
      "server.server"
     ],
     "language": "python",
     "metadata": {},
     "outputs": [
      {
       "metadata": {},
       "output_type": "pyout",
       "prompt_number": 36,
       "text": [
        "'www.encodedcc.org'"
       ]
      }
     ],
     "prompt_number": 36
    },
    {
     "cell_type": "code",
     "collapsed": false,
     "input": [
      "requests.head('https:///files/ENCFF758NAG/@@download/ENCFF758NAG.fastq.gz')"
     ],
     "language": "python",
     "metadata": {},
     "outputs": [
      {
       "ename": "InvalidURL",
       "evalue": "Invalid URL u'https:///files/ENCFF758NAG/@@download/ENCFF758NAG.fastq.gz': No host supplied",
       "output_type": "pyerr",
       "traceback": [
        "\u001b[0;31m---------------------------------------------------------------------------\u001b[0m\n\u001b[0;31mInvalidURL\u001b[0m                                Traceback (most recent call last)",
        "\u001b[0;32m<ipython-input-37-3afc89e3f885>\u001b[0m in \u001b[0;36m<module>\u001b[0;34m()\u001b[0m\n\u001b[0;32m----> 1\u001b[0;31m \u001b[0mrequests\u001b[0m\u001b[0;34m.\u001b[0m\u001b[0mhead\u001b[0m\u001b[0;34m(\u001b[0m\u001b[0;34m'https:///files/ENCFF758NAG/@@download/ENCFF758NAG.fastq.gz'\u001b[0m\u001b[0;34m)\u001b[0m\u001b[0;34m\u001b[0m\u001b[0m\n\u001b[0m",
        "\u001b[0;32m/usr/lib/python2.7/dist-packages/requests/api.pyc\u001b[0m in \u001b[0;36mhead\u001b[0;34m(url, **kwargs)\u001b[0m\n\u001b[1;32m     80\u001b[0m \u001b[0;34m\u001b[0m\u001b[0m\n\u001b[1;32m     81\u001b[0m     \u001b[0mkwargs\u001b[0m\u001b[0;34m.\u001b[0m\u001b[0msetdefault\u001b[0m\u001b[0;34m(\u001b[0m\u001b[0;34m'allow_redirects'\u001b[0m\u001b[0;34m,\u001b[0m \u001b[0mFalse\u001b[0m\u001b[0;34m)\u001b[0m\u001b[0;34m\u001b[0m\u001b[0m\n\u001b[0;32m---> 82\u001b[0;31m     \u001b[0;32mreturn\u001b[0m \u001b[0mrequest\u001b[0m\u001b[0;34m(\u001b[0m\u001b[0;34m'head'\u001b[0m\u001b[0;34m,\u001b[0m \u001b[0murl\u001b[0m\u001b[0;34m,\u001b[0m \u001b[0;34m**\u001b[0m\u001b[0mkwargs\u001b[0m\u001b[0;34m)\u001b[0m\u001b[0;34m\u001b[0m\u001b[0m\n\u001b[0m\u001b[1;32m     83\u001b[0m \u001b[0;34m\u001b[0m\u001b[0m\n\u001b[1;32m     84\u001b[0m \u001b[0;34m\u001b[0m\u001b[0m\n",
        "\u001b[0;32m/usr/lib/python2.7/dist-packages/requests/api.pyc\u001b[0m in \u001b[0;36mrequest\u001b[0;34m(method, url, **kwargs)\u001b[0m\n\u001b[1;32m     47\u001b[0m \u001b[0;34m\u001b[0m\u001b[0m\n\u001b[1;32m     48\u001b[0m     \u001b[0msession\u001b[0m \u001b[0;34m=\u001b[0m \u001b[0msessions\u001b[0m\u001b[0;34m.\u001b[0m\u001b[0mSession\u001b[0m\u001b[0;34m(\u001b[0m\u001b[0;34m)\u001b[0m\u001b[0;34m\u001b[0m\u001b[0m\n\u001b[0;32m---> 49\u001b[0;31m     \u001b[0;32mreturn\u001b[0m \u001b[0msession\u001b[0m\u001b[0;34m.\u001b[0m\u001b[0mrequest\u001b[0m\u001b[0;34m(\u001b[0m\u001b[0mmethod\u001b[0m\u001b[0;34m=\u001b[0m\u001b[0mmethod\u001b[0m\u001b[0;34m,\u001b[0m \u001b[0murl\u001b[0m\u001b[0;34m=\u001b[0m\u001b[0murl\u001b[0m\u001b[0;34m,\u001b[0m \u001b[0;34m**\u001b[0m\u001b[0mkwargs\u001b[0m\u001b[0;34m)\u001b[0m\u001b[0;34m\u001b[0m\u001b[0m\n\u001b[0m\u001b[1;32m     50\u001b[0m \u001b[0;34m\u001b[0m\u001b[0m\n\u001b[1;32m     51\u001b[0m \u001b[0;34m\u001b[0m\u001b[0m\n",
        "\u001b[0;32m/usr/lib/python2.7/dist-packages/requests/sessions.pyc\u001b[0m in \u001b[0;36mrequest\u001b[0;34m(self, method, url, params, data, headers, cookies, files, auth, timeout, allow_redirects, proxies, hooks, stream, verify, cert, json)\u001b[0m\n\u001b[1;32m    441\u001b[0m             \u001b[0mhooks\u001b[0m \u001b[0;34m=\u001b[0m \u001b[0mhooks\u001b[0m\u001b[0;34m,\u001b[0m\u001b[0;34m\u001b[0m\u001b[0m\n\u001b[1;32m    442\u001b[0m         )\n\u001b[0;32m--> 443\u001b[0;31m         \u001b[0mprep\u001b[0m \u001b[0;34m=\u001b[0m \u001b[0mself\u001b[0m\u001b[0;34m.\u001b[0m\u001b[0mprepare_request\u001b[0m\u001b[0;34m(\u001b[0m\u001b[0mreq\u001b[0m\u001b[0;34m)\u001b[0m\u001b[0;34m\u001b[0m\u001b[0m\n\u001b[0m\u001b[1;32m    444\u001b[0m \u001b[0;34m\u001b[0m\u001b[0m\n\u001b[1;32m    445\u001b[0m         \u001b[0mproxies\u001b[0m \u001b[0;34m=\u001b[0m \u001b[0mproxies\u001b[0m \u001b[0;32mor\u001b[0m \u001b[0;34m{\u001b[0m\u001b[0;34m}\u001b[0m\u001b[0;34m\u001b[0m\u001b[0m\n",
        "\u001b[0;32m/usr/lib/python2.7/dist-packages/requests/sessions.pyc\u001b[0m in \u001b[0;36mprepare_request\u001b[0;34m(self, request)\u001b[0m\n\u001b[1;32m    372\u001b[0m             \u001b[0mauth\u001b[0m\u001b[0;34m=\u001b[0m\u001b[0mmerge_setting\u001b[0m\u001b[0;34m(\u001b[0m\u001b[0mauth\u001b[0m\u001b[0;34m,\u001b[0m \u001b[0mself\u001b[0m\u001b[0;34m.\u001b[0m\u001b[0mauth\u001b[0m\u001b[0;34m)\u001b[0m\u001b[0;34m,\u001b[0m\u001b[0;34m\u001b[0m\u001b[0m\n\u001b[1;32m    373\u001b[0m             \u001b[0mcookies\u001b[0m\u001b[0;34m=\u001b[0m\u001b[0mmerged_cookies\u001b[0m\u001b[0;34m,\u001b[0m\u001b[0;34m\u001b[0m\u001b[0m\n\u001b[0;32m--> 374\u001b[0;31m             \u001b[0mhooks\u001b[0m\u001b[0;34m=\u001b[0m\u001b[0mmerge_hooks\u001b[0m\u001b[0;34m(\u001b[0m\u001b[0mrequest\u001b[0m\u001b[0;34m.\u001b[0m\u001b[0mhooks\u001b[0m\u001b[0;34m,\u001b[0m \u001b[0mself\u001b[0m\u001b[0;34m.\u001b[0m\u001b[0mhooks\u001b[0m\u001b[0;34m)\u001b[0m\u001b[0;34m,\u001b[0m\u001b[0;34m\u001b[0m\u001b[0m\n\u001b[0m\u001b[1;32m    375\u001b[0m         )\n\u001b[1;32m    376\u001b[0m         \u001b[0;32mreturn\u001b[0m \u001b[0mp\u001b[0m\u001b[0;34m\u001b[0m\u001b[0m\n",
        "\u001b[0;32m/usr/lib/python2.7/dist-packages/requests/models.pyc\u001b[0m in \u001b[0;36mprepare\u001b[0;34m(self, method, url, headers, files, data, params, auth, cookies, hooks, json)\u001b[0m\n\u001b[1;32m    302\u001b[0m \u001b[0;34m\u001b[0m\u001b[0m\n\u001b[1;32m    303\u001b[0m         \u001b[0mself\u001b[0m\u001b[0;34m.\u001b[0m\u001b[0mprepare_method\u001b[0m\u001b[0;34m(\u001b[0m\u001b[0mmethod\u001b[0m\u001b[0;34m)\u001b[0m\u001b[0;34m\u001b[0m\u001b[0m\n\u001b[0;32m--> 304\u001b[0;31m         \u001b[0mself\u001b[0m\u001b[0;34m.\u001b[0m\u001b[0mprepare_url\u001b[0m\u001b[0;34m(\u001b[0m\u001b[0murl\u001b[0m\u001b[0;34m,\u001b[0m \u001b[0mparams\u001b[0m\u001b[0;34m)\u001b[0m\u001b[0;34m\u001b[0m\u001b[0m\n\u001b[0m\u001b[1;32m    305\u001b[0m         \u001b[0mself\u001b[0m\u001b[0;34m.\u001b[0m\u001b[0mprepare_headers\u001b[0m\u001b[0;34m(\u001b[0m\u001b[0mheaders\u001b[0m\u001b[0;34m)\u001b[0m\u001b[0;34m\u001b[0m\u001b[0m\n\u001b[1;32m    306\u001b[0m         \u001b[0mself\u001b[0m\u001b[0;34m.\u001b[0m\u001b[0mprepare_cookies\u001b[0m\u001b[0;34m(\u001b[0m\u001b[0mcookies\u001b[0m\u001b[0;34m)\u001b[0m\u001b[0;34m\u001b[0m\u001b[0m\n",
        "\u001b[0;32m/usr/lib/python2.7/dist-packages/requests/models.pyc\u001b[0m in \u001b[0;36mprepare_url\u001b[0;34m(self, url, params)\u001b[0m\n\u001b[1;32m    359\u001b[0m \u001b[0;34m\u001b[0m\u001b[0m\n\u001b[1;32m    360\u001b[0m         \u001b[0;32mif\u001b[0m \u001b[0;32mnot\u001b[0m \u001b[0mhost\u001b[0m\u001b[0;34m:\u001b[0m\u001b[0;34m\u001b[0m\u001b[0m\n\u001b[0;32m--> 361\u001b[0;31m             \u001b[0;32mraise\u001b[0m \u001b[0mInvalidURL\u001b[0m\u001b[0;34m(\u001b[0m\u001b[0;34m\"Invalid URL %r: No host supplied\"\u001b[0m \u001b[0;34m%\u001b[0m \u001b[0murl\u001b[0m\u001b[0;34m)\u001b[0m\u001b[0;34m\u001b[0m\u001b[0m\n\u001b[0m\u001b[1;32m    362\u001b[0m \u001b[0;34m\u001b[0m\u001b[0m\n\u001b[1;32m    363\u001b[0m         \u001b[0;31m# Only want to apply IDNA to the hostname\u001b[0m\u001b[0;34m\u001b[0m\u001b[0;34m\u001b[0m\u001b[0m\n",
        "\u001b[0;31mInvalidURL\u001b[0m: Invalid URL u'https:///files/ENCFF758NAG/@@download/ENCFF758NAG.fastq.gz': No host supplied"
       ]
      }
     ],
     "prompt_number": 37
    },
    {
     "cell_type": "code",
     "collapsed": false,
     "input": [
      "%%sparql -m model\n",
      "select ?flowcell\n",
      "where {\n",
      "  ?flowcell a htsw:IlluminaFlowcell .\n",
      "}"
     ],
     "language": "python",
     "metadata": {},
     "outputs": []
    },
    {
     "cell_type": "code",
     "collapsed": false,
     "input": [
      "import django\n",
      "if not 'DJANGO_SETTINGS_MODULE' in os.environ:\n",
      "    os.environ['DJANGO_SETTINGS_MODULE'] = 'htsworkflow.settings.myrada'\n",
      "django.setup()"
     ],
     "language": "python",
     "metadata": {},
     "outputs": []
    },
    {
     "cell_type": "code",
     "collapsed": false,
     "input": [
      "import experiments.models\n",
      "import samples.models"
     ],
     "language": "python",
     "metadata": {},
     "outputs": []
    },
    {
     "cell_type": "code",
     "collapsed": false,
     "input": [
      "samples.models.Library.objects.get(id='15018')"
     ],
     "language": "python",
     "metadata": {},
     "outputs": []
    },
    {
     "cell_type": "code",
     "collapsed": false,
     "input": [],
     "language": "python",
     "metadata": {},
     "outputs": []
    }
   ],
   "metadata": {}
  }
 ]
}