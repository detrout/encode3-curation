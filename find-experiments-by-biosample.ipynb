{
 "cells": [
  {
   "cell_type": "markdown",
   "metadata": {},
   "source": [
    "* Introduction\n",
    "\n",
    "Brian gave me a list of biosamples and he'd like to know if experiments have been built using them."
   ]
  },
  {
   "cell_type": "code",
   "execution_count": 1,
   "metadata": {
    "collapsed": true
   },
   "outputs": [],
   "source": [
    "biosamples = ['ENCBS464EKT',\n",
    "  'ENCBS999OEH',\n",
    "  'ENCBS282TXV',\n",
    "  'ENCBS900GJR',\n",
    "  'ENCBS399IKT',\n",
    "  'ENCBS271FHW',\n",
    "  'ENCBS152FNH',\n",
    "  'ENCBS307DXQ',\n",
    "  'ENCBS416VAK',\n",
    "  'ENCBS587KDV',\n",
    "  'ENCBS737MDR',\n",
    "  'ENCBS038IJE',\n",
    "  'ENCBS644FEW',\n",
    "  'ENCBS153UAS',\n",
    "  'ENCBS322VCD',\n",
    "  'ENCBS379QNX',\n",
    "  'ENCBS730UAV',\n",
    "  'ENCBS726FDF',\n",
    "  'ENCBS288BZD',\n",
    "  'ENCBS045WRJ',\n",
    "  'ENCBS605FXL',\n",
    "  'ENCBS905SHJ',\n",
    "  'ENCBS567JTM',\n",
    "  'ENCBS049ZCB',\n",
    "  'ENCBS815JPX',\n",
    "  'ENCBS320DKO',\n",
    "  'ENCBS474MVY',\n",
    "  'ENCBS278YSR',\n",
    "  'ENCBS341IOL',\n",
    "  'ENCBS091VBB',\n",
    "  'ENCBS993YMB',\n",
    "  'ENCBS293VFR',\n",
    "  'ENCBS365FFY',\n",
    "  'ENCBS879UMZ',\n",
    "  'ENCBS817MIT',\n",
    "  'ENCBS694LXX',\n",
    "  'ENCBS413CQM',\n",
    "  'ENCBS352FXV',\n",
    "  'ENCBS571BTX',\n",
    "  'ENCBS457KYS',\n",
    "  'ENCBS517CSV',\n",
    "  'ENCBS847RWT',\n",
    "  'ENCBS848CWV',\n",
    "  'ENCBS927RNA',\n",
    "  'ENCBS425LYK',\n",
    "  'ENCBS818JCX',\n",
    "  'ENCBS774VCH',\n",
    "  'ENCBS512OLV',\n",
    "]"
   ]
  },
  {
   "cell_type": "code",
   "execution_count": 2,
   "metadata": {
    "collapsed": false
   },
   "outputs": [],
   "source": [
    "from curation_common import *"
   ]
  },
  {
   "cell_type": "code",
   "execution_count": 3,
   "metadata": {
    "collapsed": true
   },
   "outputs": [],
   "source": [
    "import pandas\n",
    "import requests"
   ]
  },
  {
   "cell_type": "code",
   "execution_count": 4,
   "metadata": {
    "collapsed": true
   },
   "outputs": [],
   "source": [
    "server = ENCODED('www.encodeproject.org')\n",
    "server.load_netrc()"
   ]
  },
  {
   "cell_type": "code",
   "execution_count": 5,
   "metadata": {
    "collapsed": true
   },
   "outputs": [],
   "source": [
    "query = '/search/?type=Experiment&replicates.library.biosample.accession={accession}&status!=deleted&status!=revoked&status!=replaced'"
   ]
  },
  {
   "cell_type": "code",
   "execution_count": 6,
   "metadata": {
    "collapsed": false
   },
   "outputs": [],
   "source": [
    "graph = server.get_json(query.format(accession='ENCBS464EKT'))"
   ]
  },
  {
   "cell_type": "code",
   "execution_count": 7,
   "metadata": {
    "collapsed": false
   },
   "outputs": [
    {
     "data": {
      "text/plain": [
       "dict_keys(['clear_filters', 'facets', 'views', 'batch_download', 'notification', '@graph', 'sort', 'filters', '@context', '@id', 'columns', 'title', '@type', 'batch_hub', 'total'])"
      ]
     },
     "execution_count": 7,
     "metadata": {},
     "output_type": "execute_result"
    }
   ],
   "source": [
    "graph.keys()"
   ]
  },
  {
   "cell_type": "code",
   "execution_count": 8,
   "metadata": {
    "collapsed": false
   },
   "outputs": [
    {
     "data": {
      "text/plain": [
       "6"
      ]
     },
     "execution_count": 8,
     "metadata": {},
     "output_type": "execute_result"
    }
   ],
   "source": [
    "graph['total']"
   ]
  },
  {
   "cell_type": "code",
   "execution_count": 9,
   "metadata": {
    "collapsed": false
   },
   "outputs": [
    {
     "data": {
      "text/plain": [
       "'ENCSR321TTR'"
      ]
     },
     "execution_count": 9,
     "metadata": {},
     "output_type": "execute_result"
    }
   ],
   "source": [
    "graph['@graph'][0]['accession']"
   ]
  },
  {
   "cell_type": "code",
   "execution_count": 10,
   "metadata": {
    "collapsed": false
   },
   "outputs": [
    {
     "name": "stdout",
     "output_type": "stream",
     "text": [
      "processsing ENCBS464EKT 0 of 48\n",
      "6\n",
      "processsing ENCBS999OEH 1 of 48\n",
      "3\n",
      "processsing ENCBS282TXV 2 of 48\n",
      "3\n",
      "processsing ENCBS900GJR 3 of 48\n",
      "3\n",
      "processsing ENCBS399IKT 4 of 48\n",
      "3\n",
      "processsing ENCBS271FHW 5 of 48\n",
      "2\n",
      "processsing ENCBS152FNH 6 of 48\n",
      "4\n",
      "processsing ENCBS307DXQ 7 of 48\n"
     ]
    },
    {
     "name": "stderr",
     "output_type": "stream",
     "text": [
      "Error http status: 404\n"
     ]
    },
    {
     "name": "stdout",
     "output_type": "stream",
     "text": [
      "3\n",
      "processsing ENCBS416VAK 8 of 48\n"
     ]
    },
    {
     "name": "stderr",
     "output_type": "stream",
     "text": [
      "Error http status: 404\n"
     ]
    },
    {
     "name": "stdout",
     "output_type": "stream",
     "text": [
      "processsing ENCBS587KDV 9 of 48\n"
     ]
    },
    {
     "name": "stderr",
     "output_type": "stream",
     "text": [
      "Error http status: 404\n"
     ]
    },
    {
     "name": "stdout",
     "output_type": "stream",
     "text": [
      "processsing ENCBS737MDR 10 of 48\n"
     ]
    },
    {
     "name": "stderr",
     "output_type": "stream",
     "text": [
      "Error http status: 404\n"
     ]
    },
    {
     "name": "stdout",
     "output_type": "stream",
     "text": [
      "processsing ENCBS038IJE 11 of 48\n"
     ]
    },
    {
     "name": "stderr",
     "output_type": "stream",
     "text": [
      "Error http status: 404\n"
     ]
    },
    {
     "name": "stdout",
     "output_type": "stream",
     "text": [
      "processsing ENCBS644FEW 12 of 48\n"
     ]
    },
    {
     "name": "stderr",
     "output_type": "stream",
     "text": [
      "Error http status: 404\n"
     ]
    },
    {
     "name": "stdout",
     "output_type": "stream",
     "text": [
      "processsing ENCBS153UAS 13 of 48\n"
     ]
    },
    {
     "name": "stderr",
     "output_type": "stream",
     "text": [
      "Error http status: 404\n"
     ]
    },
    {
     "name": "stdout",
     "output_type": "stream",
     "text": [
      "processsing ENCBS322VCD 14 of 48\n"
     ]
    },
    {
     "name": "stderr",
     "output_type": "stream",
     "text": [
      "Error http status: 404\n"
     ]
    },
    {
     "name": "stdout",
     "output_type": "stream",
     "text": [
      "processsing ENCBS379QNX 15 of 48\n"
     ]
    },
    {
     "name": "stderr",
     "output_type": "stream",
     "text": [
      "Error http status: 404\n"
     ]
    },
    {
     "name": "stdout",
     "output_type": "stream",
     "text": [
      "processsing ENCBS730UAV 16 of 48\n"
     ]
    },
    {
     "name": "stderr",
     "output_type": "stream",
     "text": [
      "Error http status: 404\n"
     ]
    },
    {
     "name": "stdout",
     "output_type": "stream",
     "text": [
      "processsing ENCBS726FDF 17 of 48\n"
     ]
    },
    {
     "name": "stderr",
     "output_type": "stream",
     "text": [
      "Error http status: 404\n"
     ]
    },
    {
     "name": "stdout",
     "output_type": "stream",
     "text": [
      "processsing ENCBS288BZD 18 of 48\n"
     ]
    },
    {
     "name": "stderr",
     "output_type": "stream",
     "text": [
      "Error http status: 404\n"
     ]
    },
    {
     "name": "stdout",
     "output_type": "stream",
     "text": [
      "processsing ENCBS045WRJ 19 of 48\n",
      "processsing ENCBS605FXL 20 of 48\n"
     ]
    },
    {
     "name": "stderr",
     "output_type": "stream",
     "text": [
      "Error http status: 404\n",
      "Error http status: 404\n"
     ]
    },
    {
     "name": "stdout",
     "output_type": "stream",
     "text": [
      "processsing ENCBS905SHJ 21 of 48\n"
     ]
    },
    {
     "name": "stderr",
     "output_type": "stream",
     "text": [
      "Error http status: 404\n"
     ]
    },
    {
     "name": "stdout",
     "output_type": "stream",
     "text": [
      "processsing ENCBS567JTM 22 of 48\n"
     ]
    },
    {
     "name": "stderr",
     "output_type": "stream",
     "text": [
      "Error http status: 404\n"
     ]
    },
    {
     "name": "stdout",
     "output_type": "stream",
     "text": [
      "processsing ENCBS049ZCB 23 of 48\n"
     ]
    },
    {
     "name": "stderr",
     "output_type": "stream",
     "text": [
      "Error http status: 404\n"
     ]
    },
    {
     "name": "stdout",
     "output_type": "stream",
     "text": [
      "processsing ENCBS815JPX 24 of 48\n"
     ]
    },
    {
     "name": "stderr",
     "output_type": "stream",
     "text": [
      "Error http status: 404\n"
     ]
    },
    {
     "name": "stdout",
     "output_type": "stream",
     "text": [
      "processsing ENCBS320DKO 25 of 48\n",
      "processsing ENCBS474MVY 26 of 48\n"
     ]
    },
    {
     "name": "stderr",
     "output_type": "stream",
     "text": [
      "Error http status: 404\n",
      "Error http status: 404\n"
     ]
    },
    {
     "name": "stdout",
     "output_type": "stream",
     "text": [
      "processsing ENCBS278YSR 27 of 48\n",
      "processsing ENCBS341IOL 28 of 48\n"
     ]
    },
    {
     "name": "stderr",
     "output_type": "stream",
     "text": [
      "Error http status: 404\n",
      "Error http status: 404\n"
     ]
    },
    {
     "name": "stdout",
     "output_type": "stream",
     "text": [
      "processsing ENCBS091VBB 29 of 48\n"
     ]
    },
    {
     "name": "stderr",
     "output_type": "stream",
     "text": [
      "Error http status: 404\n"
     ]
    },
    {
     "name": "stdout",
     "output_type": "stream",
     "text": [
      "processsing ENCBS993YMB 30 of 48\n"
     ]
    },
    {
     "name": "stderr",
     "output_type": "stream",
     "text": [
      "Error http status: 404\n"
     ]
    },
    {
     "name": "stdout",
     "output_type": "stream",
     "text": [
      "processsing ENCBS293VFR 31 of 48\n"
     ]
    },
    {
     "name": "stderr",
     "output_type": "stream",
     "text": [
      "Error http status: 404\n"
     ]
    },
    {
     "name": "stdout",
     "output_type": "stream",
     "text": [
      "processsing ENCBS365FFY 32 of 48\n"
     ]
    },
    {
     "name": "stderr",
     "output_type": "stream",
     "text": [
      "Error http status: 404\n"
     ]
    },
    {
     "name": "stdout",
     "output_type": "stream",
     "text": [
      "processsing ENCBS879UMZ 33 of 48\n"
     ]
    },
    {
     "name": "stderr",
     "output_type": "stream",
     "text": [
      "Error http status: 404\n"
     ]
    },
    {
     "name": "stdout",
     "output_type": "stream",
     "text": [
      "processsing ENCBS817MIT 34 of 48\n",
      "processsing ENCBS694LXX 35 of 48\n"
     ]
    },
    {
     "name": "stderr",
     "output_type": "stream",
     "text": [
      "Error http status: 404\n",
      "Error http status: 404\n"
     ]
    },
    {
     "name": "stdout",
     "output_type": "stream",
     "text": [
      "processsing ENCBS413CQM 36 of 48\n"
     ]
    },
    {
     "name": "stderr",
     "output_type": "stream",
     "text": [
      "Error http status: 404\n"
     ]
    },
    {
     "name": "stdout",
     "output_type": "stream",
     "text": [
      "processsing ENCBS352FXV 37 of 48\n"
     ]
    },
    {
     "name": "stderr",
     "output_type": "stream",
     "text": [
      "Error http status: 404\n"
     ]
    },
    {
     "name": "stdout",
     "output_type": "stream",
     "text": [
      "processsing ENCBS571BTX 38 of 48\n"
     ]
    },
    {
     "name": "stderr",
     "output_type": "stream",
     "text": [
      "Error http status: 404\n"
     ]
    },
    {
     "name": "stdout",
     "output_type": "stream",
     "text": [
      "processsing ENCBS457KYS 39 of 48\n"
     ]
    },
    {
     "name": "stderr",
     "output_type": "stream",
     "text": [
      "Error http status: 404\n"
     ]
    },
    {
     "name": "stdout",
     "output_type": "stream",
     "text": [
      "processsing ENCBS517CSV 40 of 48\n"
     ]
    },
    {
     "name": "stderr",
     "output_type": "stream",
     "text": [
      "Error http status: 404\n"
     ]
    },
    {
     "name": "stdout",
     "output_type": "stream",
     "text": [
      "processsing ENCBS847RWT 41 of 48\n"
     ]
    },
    {
     "name": "stderr",
     "output_type": "stream",
     "text": [
      "Error http status: 404\n"
     ]
    },
    {
     "name": "stdout",
     "output_type": "stream",
     "text": [
      "processsing ENCBS848CWV 42 of 48\n"
     ]
    },
    {
     "name": "stderr",
     "output_type": "stream",
     "text": [
      "Error http status: 404\n"
     ]
    },
    {
     "name": "stdout",
     "output_type": "stream",
     "text": [
      "processsing ENCBS927RNA 43 of 48\n"
     ]
    },
    {
     "name": "stderr",
     "output_type": "stream",
     "text": [
      "Error http status: 404\n"
     ]
    },
    {
     "name": "stdout",
     "output_type": "stream",
     "text": [
      "processsing ENCBS425LYK 44 of 48\n",
      "processsing ENCBS818JCX 45 of 48\n"
     ]
    },
    {
     "name": "stderr",
     "output_type": "stream",
     "text": [
      "Error http status: 404\n",
      "Error http status: 404\n"
     ]
    },
    {
     "name": "stdout",
     "output_type": "stream",
     "text": [
      "processsing ENCBS774VCH 46 of 48\n"
     ]
    },
    {
     "name": "stderr",
     "output_type": "stream",
     "text": [
      "Error http status: 404\n"
     ]
    },
    {
     "name": "stdout",
     "output_type": "stream",
     "text": [
      "processsing ENCBS512OLV 47 of 48\n"
     ]
    }
   ],
   "source": [
    "experiments = []\n",
    "for i, biosample in enumerate(biosamples):\n",
    "    print('processsing {} {} of {}'.format(biosample, i, len(biosamples)))\n",
    "    try:\n",
    "        graph = server.get_json(query.format(accession=biosample))\n",
    "        print(graph['total'])\n",
    "        if graph['total'] > 0:\n",
    "            for experiment in graph['@graph']:\n",
    "                record = {\n",
    "                    'biosample': biosample,\n",
    "                    'experiment': experiment['accession'],\n",
    "                    'title': experiment['description'],\n",
    "                    'lab': experiment['lab']['title']\n",
    "                }\n",
    "                experiments.append(record)\n",
    "        else:\n",
    "            experiments.append({\n",
    "                'biosample': biosample,\n",
    "                'title': 'no experiments'\n",
    "            })\n",
    "        \n",
    "    except requests.HTTPError:\n",
    "        graph = server.get_json('biosample')\n",
    "        if graph['total'] > 0:\n",
    "            experiments.append({\n",
    "                'biosample': biosample,\n",
    "                'title': 'no experiments'\n",
    "            })\n",
    "        else:\n",
    "            experiments.append({\n",
    "                    'biosample': biosample,\n",
    "                    'title': 'biosample id not found',\n",
    "                })\n"
   ]
  },
  {
   "cell_type": "code",
   "execution_count": 11,
   "metadata": {
    "collapsed": false
   },
   "outputs": [],
   "source": [
    "df = pandas.DataFrame(experiments, columns=['biosample', 'experiment', 'title', 'lab'])"
   ]
  },
  {
   "cell_type": "code",
   "execution_count": 12,
   "metadata": {
    "collapsed": false
   },
   "outputs": [
    {
     "data": {
      "text/html": [
       "<div>\n",
       "<table border=\"1\" class=\"dataframe\">\n",
       "  <thead>\n",
       "    <tr style=\"text-align: right;\">\n",
       "      <th></th>\n",
       "      <th>biosample</th>\n",
       "      <th>experiment</th>\n",
       "      <th>title</th>\n",
       "      <th>lab</th>\n",
       "    </tr>\n",
       "  </thead>\n",
       "  <tbody>\n",
       "    <tr>\n",
       "      <th>0</th>\n",
       "      <td>ENCBS464EKT</td>\n",
       "      <td>ENCSR321TTR</td>\n",
       "      <td>Chip-Seq on e14.5 liver-mouse (fragmentation d...</td>\n",
       "      <td>Richard Myers, HAIB</td>\n",
       "    </tr>\n",
       "    <tr>\n",
       "      <th>1</th>\n",
       "      <td>ENCBS464EKT</td>\n",
       "      <td>ENCSR982SZZ</td>\n",
       "      <td>Chip-Seq on e14.5 liver-mouse (fragmentation d...</td>\n",
       "      <td>Richard Myers, HAIB</td>\n",
       "    </tr>\n",
       "    <tr>\n",
       "      <th>2</th>\n",
       "      <td>ENCBS464EKT</td>\n",
       "      <td>ENCSR999LAC</td>\n",
       "      <td>Chip-Seq on e14.5 liver-mouse (fragmentation d...</td>\n",
       "      <td>Richard Myers, HAIB</td>\n",
       "    </tr>\n",
       "    <tr>\n",
       "      <th>3</th>\n",
       "      <td>ENCBS464EKT</td>\n",
       "      <td>ENCSR397RHW</td>\n",
       "      <td>Chip-Seq on CTCF-mouse</td>\n",
       "      <td>Richard Myers, HAIB</td>\n",
       "    </tr>\n",
       "    <tr>\n",
       "      <th>4</th>\n",
       "      <td>ENCBS464EKT</td>\n",
       "      <td>ENCSR052AKZ</td>\n",
       "      <td>Chip-Seq on POLR2A-mouse</td>\n",
       "      <td>Richard Myers, HAIB</td>\n",
       "    </tr>\n",
       "    <tr>\n",
       "      <th>5</th>\n",
       "      <td>ENCBS464EKT</td>\n",
       "      <td>ENCSR982LJQ</td>\n",
       "      <td>Chip-Seq on e14.5 liver</td>\n",
       "      <td>Richard Myers, HAIB</td>\n",
       "    </tr>\n",
       "    <tr>\n",
       "      <th>6</th>\n",
       "      <td>ENCBS999OEH</td>\n",
       "      <td>ENCSR677SIH</td>\n",
       "      <td>Chip-Seq on CTCF-mouse</td>\n",
       "      <td>Richard Myers, HAIB</td>\n",
       "    </tr>\n",
       "    <tr>\n",
       "      <th>7</th>\n",
       "      <td>ENCBS999OEH</td>\n",
       "      <td>ENCSR410HWL</td>\n",
       "      <td>Chip-Seq on POLR2A-mouse</td>\n",
       "      <td>Richard Myers, HAIB</td>\n",
       "    </tr>\n",
       "    <tr>\n",
       "      <th>8</th>\n",
       "      <td>ENCBS999OEH</td>\n",
       "      <td>ENCSR718KRA</td>\n",
       "      <td>Chip-Seq on e14.5 lung-mouse (fragmentation da...</td>\n",
       "      <td>Richard Myers, HAIB</td>\n",
       "    </tr>\n",
       "    <tr>\n",
       "      <th>9</th>\n",
       "      <td>ENCBS282TXV</td>\n",
       "      <td>ENCSR295PZC</td>\n",
       "      <td>Chip-Seq on CTCF-mouse</td>\n",
       "      <td>Richard Myers, HAIB</td>\n",
       "    </tr>\n",
       "    <tr>\n",
       "      <th>10</th>\n",
       "      <td>ENCBS282TXV</td>\n",
       "      <td>ENCSR487GHW</td>\n",
       "      <td>Chip-Seq on POLR2A-mouse</td>\n",
       "      <td>Richard Myers, HAIB</td>\n",
       "    </tr>\n",
       "    <tr>\n",
       "      <th>11</th>\n",
       "      <td>ENCBS282TXV</td>\n",
       "      <td>ENCSR164BWS</td>\n",
       "      <td>Chip-Seq on e14.5 limb-mouse (fragmentation da...</td>\n",
       "      <td>Richard Myers, HAIB</td>\n",
       "    </tr>\n",
       "    <tr>\n",
       "      <th>12</th>\n",
       "      <td>ENCBS900GJR</td>\n",
       "      <td>ENCSR232WXP</td>\n",
       "      <td>Pol2 ChIP-seq on postnatal 0 day mouse forebrain</td>\n",
       "      <td>Richard Myers, HAIB</td>\n",
       "    </tr>\n",
       "    <tr>\n",
       "      <th>13</th>\n",
       "      <td>ENCBS900GJR</td>\n",
       "      <td>ENCSR677HXC</td>\n",
       "      <td>CTCF ChIP-seq on postnatal 0 day mouse forebrain</td>\n",
       "      <td>Richard Myers, HAIB</td>\n",
       "    </tr>\n",
       "    <tr>\n",
       "      <th>14</th>\n",
       "      <td>ENCBS900GJR</td>\n",
       "      <td>ENCSR264HIK</td>\n",
       "      <td>Reverse Crosslink Control ChIP-seq on postnata...</td>\n",
       "      <td>Richard Myers, HAIB</td>\n",
       "    </tr>\n",
       "    <tr>\n",
       "      <th>15</th>\n",
       "      <td>ENCBS399IKT</td>\n",
       "      <td>ENCSR655SYB</td>\n",
       "      <td>Chip-Seq on P0 brain, hindbrain-mouse (fragmen...</td>\n",
       "      <td>Richard Myers, HAIB</td>\n",
       "    </tr>\n",
       "    <tr>\n",
       "      <th>16</th>\n",
       "      <td>ENCBS399IKT</td>\n",
       "      <td>ENCSR150RGT</td>\n",
       "      <td>Chip-Seq on CTCF-mouse</td>\n",
       "      <td>Richard Myers, HAIB</td>\n",
       "    </tr>\n",
       "    <tr>\n",
       "      <th>17</th>\n",
       "      <td>ENCBS399IKT</td>\n",
       "      <td>ENCSR288FHM</td>\n",
       "      <td>Chip-Seq on POLR2A-mouse</td>\n",
       "      <td>Richard Myers, HAIB</td>\n",
       "    </tr>\n",
       "    <tr>\n",
       "      <th>18</th>\n",
       "      <td>ENCBS271FHW</td>\n",
       "      <td>ENCSR002ZAG</td>\n",
       "      <td>CTCF ChIP-seq on postnatal 0 day mouse intestine</td>\n",
       "      <td>Richard Myers, HAIB</td>\n",
       "    </tr>\n",
       "    <tr>\n",
       "      <th>19</th>\n",
       "      <td>ENCBS271FHW</td>\n",
       "      <td>ENCSR862ZBY</td>\n",
       "      <td>Reverse Crosslink Control ChIP-seq on postnata...</td>\n",
       "      <td>Richard Myers, HAIB</td>\n",
       "    </tr>\n",
       "    <tr>\n",
       "      <th>20</th>\n",
       "      <td>ENCBS152FNH</td>\n",
       "      <td>ENCSR041SMK</td>\n",
       "      <td>CTCF ChIP-seq on postnatal 0 day mouse liver</td>\n",
       "      <td>Richard Myers, HAIB</td>\n",
       "    </tr>\n",
       "    <tr>\n",
       "      <th>21</th>\n",
       "      <td>ENCBS152FNH</td>\n",
       "      <td>ENCSR270KSY</td>\n",
       "      <td>Reverse Crosslink Control ChIP-seq on postnata...</td>\n",
       "      <td>Richard Myers, HAIB</td>\n",
       "    </tr>\n",
       "    <tr>\n",
       "      <th>22</th>\n",
       "      <td>ENCBS152FNH</td>\n",
       "      <td>ENCSR303CZG</td>\n",
       "      <td>Pol2 ChIP-seq on postnatal 0 day mouse liver</td>\n",
       "      <td>Richard Myers, HAIB</td>\n",
       "    </tr>\n",
       "    <tr>\n",
       "      <th>23</th>\n",
       "      <td>ENCBS152FNH</td>\n",
       "      <td>ENCSR014GMV</td>\n",
       "      <td>Reverse Crosslink Control ChIP-seq on postnata...</td>\n",
       "      <td>Richard Myers, HAIB</td>\n",
       "    </tr>\n",
       "    <tr>\n",
       "      <th>24</th>\n",
       "      <td>ENCBS307DXQ</td>\n",
       "      <td>ENCSR275BEG</td>\n",
       "      <td>Reverse Crosslink Control ChIP-seq on postnata...</td>\n",
       "      <td>Richard Myers, HAIB</td>\n",
       "    </tr>\n",
       "    <tr>\n",
       "      <th>25</th>\n",
       "      <td>ENCBS307DXQ</td>\n",
       "      <td>ENCSR444UMH</td>\n",
       "      <td>Pol2 ChIP-seq on postnatal 0 day mouse lung</td>\n",
       "      <td>Richard Myers, HAIB</td>\n",
       "    </tr>\n",
       "    <tr>\n",
       "      <th>26</th>\n",
       "      <td>ENCBS307DXQ</td>\n",
       "      <td>ENCSR645ZNG</td>\n",
       "      <td>Reverse Crosslink Control ChIP-seq on postnata...</td>\n",
       "      <td>Richard Myers, HAIB</td>\n",
       "    </tr>\n",
       "    <tr>\n",
       "      <th>27</th>\n",
       "      <td>ENCBS416VAK</td>\n",
       "      <td>NaN</td>\n",
       "      <td>no experiments</td>\n",
       "      <td>NaN</td>\n",
       "    </tr>\n",
       "    <tr>\n",
       "      <th>28</th>\n",
       "      <td>ENCBS587KDV</td>\n",
       "      <td>NaN</td>\n",
       "      <td>no experiments</td>\n",
       "      <td>NaN</td>\n",
       "    </tr>\n",
       "    <tr>\n",
       "      <th>29</th>\n",
       "      <td>ENCBS737MDR</td>\n",
       "      <td>NaN</td>\n",
       "      <td>no experiments</td>\n",
       "      <td>NaN</td>\n",
       "    </tr>\n",
       "    <tr>\n",
       "      <th>...</th>\n",
       "      <td>...</td>\n",
       "      <td>...</td>\n",
       "      <td>...</td>\n",
       "      <td>...</td>\n",
       "    </tr>\n",
       "    <tr>\n",
       "      <th>37</th>\n",
       "      <td>ENCBS288BZD</td>\n",
       "      <td>NaN</td>\n",
       "      <td>no experiments</td>\n",
       "      <td>NaN</td>\n",
       "    </tr>\n",
       "    <tr>\n",
       "      <th>38</th>\n",
       "      <td>ENCBS045WRJ</td>\n",
       "      <td>NaN</td>\n",
       "      <td>no experiments</td>\n",
       "      <td>NaN</td>\n",
       "    </tr>\n",
       "    <tr>\n",
       "      <th>39</th>\n",
       "      <td>ENCBS605FXL</td>\n",
       "      <td>NaN</td>\n",
       "      <td>no experiments</td>\n",
       "      <td>NaN</td>\n",
       "    </tr>\n",
       "    <tr>\n",
       "      <th>40</th>\n",
       "      <td>ENCBS905SHJ</td>\n",
       "      <td>NaN</td>\n",
       "      <td>no experiments</td>\n",
       "      <td>NaN</td>\n",
       "    </tr>\n",
       "    <tr>\n",
       "      <th>41</th>\n",
       "      <td>ENCBS567JTM</td>\n",
       "      <td>NaN</td>\n",
       "      <td>no experiments</td>\n",
       "      <td>NaN</td>\n",
       "    </tr>\n",
       "    <tr>\n",
       "      <th>42</th>\n",
       "      <td>ENCBS049ZCB</td>\n",
       "      <td>NaN</td>\n",
       "      <td>no experiments</td>\n",
       "      <td>NaN</td>\n",
       "    </tr>\n",
       "    <tr>\n",
       "      <th>43</th>\n",
       "      <td>ENCBS815JPX</td>\n",
       "      <td>NaN</td>\n",
       "      <td>no experiments</td>\n",
       "      <td>NaN</td>\n",
       "    </tr>\n",
       "    <tr>\n",
       "      <th>44</th>\n",
       "      <td>ENCBS320DKO</td>\n",
       "      <td>NaN</td>\n",
       "      <td>no experiments</td>\n",
       "      <td>NaN</td>\n",
       "    </tr>\n",
       "    <tr>\n",
       "      <th>45</th>\n",
       "      <td>ENCBS474MVY</td>\n",
       "      <td>NaN</td>\n",
       "      <td>no experiments</td>\n",
       "      <td>NaN</td>\n",
       "    </tr>\n",
       "    <tr>\n",
       "      <th>46</th>\n",
       "      <td>ENCBS278YSR</td>\n",
       "      <td>NaN</td>\n",
       "      <td>no experiments</td>\n",
       "      <td>NaN</td>\n",
       "    </tr>\n",
       "    <tr>\n",
       "      <th>47</th>\n",
       "      <td>ENCBS341IOL</td>\n",
       "      <td>NaN</td>\n",
       "      <td>no experiments</td>\n",
       "      <td>NaN</td>\n",
       "    </tr>\n",
       "    <tr>\n",
       "      <th>48</th>\n",
       "      <td>ENCBS091VBB</td>\n",
       "      <td>NaN</td>\n",
       "      <td>no experiments</td>\n",
       "      <td>NaN</td>\n",
       "    </tr>\n",
       "    <tr>\n",
       "      <th>49</th>\n",
       "      <td>ENCBS993YMB</td>\n",
       "      <td>NaN</td>\n",
       "      <td>no experiments</td>\n",
       "      <td>NaN</td>\n",
       "    </tr>\n",
       "    <tr>\n",
       "      <th>50</th>\n",
       "      <td>ENCBS293VFR</td>\n",
       "      <td>NaN</td>\n",
       "      <td>no experiments</td>\n",
       "      <td>NaN</td>\n",
       "    </tr>\n",
       "    <tr>\n",
       "      <th>51</th>\n",
       "      <td>ENCBS365FFY</td>\n",
       "      <td>NaN</td>\n",
       "      <td>no experiments</td>\n",
       "      <td>NaN</td>\n",
       "    </tr>\n",
       "    <tr>\n",
       "      <th>52</th>\n",
       "      <td>ENCBS879UMZ</td>\n",
       "      <td>NaN</td>\n",
       "      <td>no experiments</td>\n",
       "      <td>NaN</td>\n",
       "    </tr>\n",
       "    <tr>\n",
       "      <th>53</th>\n",
       "      <td>ENCBS817MIT</td>\n",
       "      <td>NaN</td>\n",
       "      <td>no experiments</td>\n",
       "      <td>NaN</td>\n",
       "    </tr>\n",
       "    <tr>\n",
       "      <th>54</th>\n",
       "      <td>ENCBS694LXX</td>\n",
       "      <td>NaN</td>\n",
       "      <td>no experiments</td>\n",
       "      <td>NaN</td>\n",
       "    </tr>\n",
       "    <tr>\n",
       "      <th>55</th>\n",
       "      <td>ENCBS413CQM</td>\n",
       "      <td>NaN</td>\n",
       "      <td>no experiments</td>\n",
       "      <td>NaN</td>\n",
       "    </tr>\n",
       "    <tr>\n",
       "      <th>56</th>\n",
       "      <td>ENCBS352FXV</td>\n",
       "      <td>NaN</td>\n",
       "      <td>no experiments</td>\n",
       "      <td>NaN</td>\n",
       "    </tr>\n",
       "    <tr>\n",
       "      <th>57</th>\n",
       "      <td>ENCBS571BTX</td>\n",
       "      <td>NaN</td>\n",
       "      <td>no experiments</td>\n",
       "      <td>NaN</td>\n",
       "    </tr>\n",
       "    <tr>\n",
       "      <th>58</th>\n",
       "      <td>ENCBS457KYS</td>\n",
       "      <td>NaN</td>\n",
       "      <td>no experiments</td>\n",
       "      <td>NaN</td>\n",
       "    </tr>\n",
       "    <tr>\n",
       "      <th>59</th>\n",
       "      <td>ENCBS517CSV</td>\n",
       "      <td>NaN</td>\n",
       "      <td>no experiments</td>\n",
       "      <td>NaN</td>\n",
       "    </tr>\n",
       "    <tr>\n",
       "      <th>60</th>\n",
       "      <td>ENCBS847RWT</td>\n",
       "      <td>NaN</td>\n",
       "      <td>no experiments</td>\n",
       "      <td>NaN</td>\n",
       "    </tr>\n",
       "    <tr>\n",
       "      <th>61</th>\n",
       "      <td>ENCBS848CWV</td>\n",
       "      <td>NaN</td>\n",
       "      <td>no experiments</td>\n",
       "      <td>NaN</td>\n",
       "    </tr>\n",
       "    <tr>\n",
       "      <th>62</th>\n",
       "      <td>ENCBS927RNA</td>\n",
       "      <td>NaN</td>\n",
       "      <td>no experiments</td>\n",
       "      <td>NaN</td>\n",
       "    </tr>\n",
       "    <tr>\n",
       "      <th>63</th>\n",
       "      <td>ENCBS425LYK</td>\n",
       "      <td>NaN</td>\n",
       "      <td>no experiments</td>\n",
       "      <td>NaN</td>\n",
       "    </tr>\n",
       "    <tr>\n",
       "      <th>64</th>\n",
       "      <td>ENCBS818JCX</td>\n",
       "      <td>NaN</td>\n",
       "      <td>no experiments</td>\n",
       "      <td>NaN</td>\n",
       "    </tr>\n",
       "    <tr>\n",
       "      <th>65</th>\n",
       "      <td>ENCBS774VCH</td>\n",
       "      <td>NaN</td>\n",
       "      <td>no experiments</td>\n",
       "      <td>NaN</td>\n",
       "    </tr>\n",
       "    <tr>\n",
       "      <th>66</th>\n",
       "      <td>ENCBS512OLV</td>\n",
       "      <td>NaN</td>\n",
       "      <td>no experiments</td>\n",
       "      <td>NaN</td>\n",
       "    </tr>\n",
       "  </tbody>\n",
       "</table>\n",
       "<p>67 rows × 4 columns</p>\n",
       "</div>"
      ],
      "text/plain": [
       "      biosample   experiment  \\\n",
       "0   ENCBS464EKT  ENCSR321TTR   \n",
       "1   ENCBS464EKT  ENCSR982SZZ   \n",
       "2   ENCBS464EKT  ENCSR999LAC   \n",
       "3   ENCBS464EKT  ENCSR397RHW   \n",
       "4   ENCBS464EKT  ENCSR052AKZ   \n",
       "5   ENCBS464EKT  ENCSR982LJQ   \n",
       "6   ENCBS999OEH  ENCSR677SIH   \n",
       "7   ENCBS999OEH  ENCSR410HWL   \n",
       "8   ENCBS999OEH  ENCSR718KRA   \n",
       "9   ENCBS282TXV  ENCSR295PZC   \n",
       "10  ENCBS282TXV  ENCSR487GHW   \n",
       "11  ENCBS282TXV  ENCSR164BWS   \n",
       "12  ENCBS900GJR  ENCSR232WXP   \n",
       "13  ENCBS900GJR  ENCSR677HXC   \n",
       "14  ENCBS900GJR  ENCSR264HIK   \n",
       "15  ENCBS399IKT  ENCSR655SYB   \n",
       "16  ENCBS399IKT  ENCSR150RGT   \n",
       "17  ENCBS399IKT  ENCSR288FHM   \n",
       "18  ENCBS271FHW  ENCSR002ZAG   \n",
       "19  ENCBS271FHW  ENCSR862ZBY   \n",
       "20  ENCBS152FNH  ENCSR041SMK   \n",
       "21  ENCBS152FNH  ENCSR270KSY   \n",
       "22  ENCBS152FNH  ENCSR303CZG   \n",
       "23  ENCBS152FNH  ENCSR014GMV   \n",
       "24  ENCBS307DXQ  ENCSR275BEG   \n",
       "25  ENCBS307DXQ  ENCSR444UMH   \n",
       "26  ENCBS307DXQ  ENCSR645ZNG   \n",
       "27  ENCBS416VAK          NaN   \n",
       "28  ENCBS587KDV          NaN   \n",
       "29  ENCBS737MDR          NaN   \n",
       "..          ...          ...   \n",
       "37  ENCBS288BZD          NaN   \n",
       "38  ENCBS045WRJ          NaN   \n",
       "39  ENCBS605FXL          NaN   \n",
       "40  ENCBS905SHJ          NaN   \n",
       "41  ENCBS567JTM          NaN   \n",
       "42  ENCBS049ZCB          NaN   \n",
       "43  ENCBS815JPX          NaN   \n",
       "44  ENCBS320DKO          NaN   \n",
       "45  ENCBS474MVY          NaN   \n",
       "46  ENCBS278YSR          NaN   \n",
       "47  ENCBS341IOL          NaN   \n",
       "48  ENCBS091VBB          NaN   \n",
       "49  ENCBS993YMB          NaN   \n",
       "50  ENCBS293VFR          NaN   \n",
       "51  ENCBS365FFY          NaN   \n",
       "52  ENCBS879UMZ          NaN   \n",
       "53  ENCBS817MIT          NaN   \n",
       "54  ENCBS694LXX          NaN   \n",
       "55  ENCBS413CQM          NaN   \n",
       "56  ENCBS352FXV          NaN   \n",
       "57  ENCBS571BTX          NaN   \n",
       "58  ENCBS457KYS          NaN   \n",
       "59  ENCBS517CSV          NaN   \n",
       "60  ENCBS847RWT          NaN   \n",
       "61  ENCBS848CWV          NaN   \n",
       "62  ENCBS927RNA          NaN   \n",
       "63  ENCBS425LYK          NaN   \n",
       "64  ENCBS818JCX          NaN   \n",
       "65  ENCBS774VCH          NaN   \n",
       "66  ENCBS512OLV          NaN   \n",
       "\n",
       "                                                title                  lab  \n",
       "0   Chip-Seq on e14.5 liver-mouse (fragmentation d...  Richard Myers, HAIB  \n",
       "1   Chip-Seq on e14.5 liver-mouse (fragmentation d...  Richard Myers, HAIB  \n",
       "2   Chip-Seq on e14.5 liver-mouse (fragmentation d...  Richard Myers, HAIB  \n",
       "3                              Chip-Seq on CTCF-mouse  Richard Myers, HAIB  \n",
       "4                            Chip-Seq on POLR2A-mouse  Richard Myers, HAIB  \n",
       "5                             Chip-Seq on e14.5 liver  Richard Myers, HAIB  \n",
       "6                              Chip-Seq on CTCF-mouse  Richard Myers, HAIB  \n",
       "7                            Chip-Seq on POLR2A-mouse  Richard Myers, HAIB  \n",
       "8   Chip-Seq on e14.5 lung-mouse (fragmentation da...  Richard Myers, HAIB  \n",
       "9                              Chip-Seq on CTCF-mouse  Richard Myers, HAIB  \n",
       "10                           Chip-Seq on POLR2A-mouse  Richard Myers, HAIB  \n",
       "11  Chip-Seq on e14.5 limb-mouse (fragmentation da...  Richard Myers, HAIB  \n",
       "12   Pol2 ChIP-seq on postnatal 0 day mouse forebrain  Richard Myers, HAIB  \n",
       "13   CTCF ChIP-seq on postnatal 0 day mouse forebrain  Richard Myers, HAIB  \n",
       "14  Reverse Crosslink Control ChIP-seq on postnata...  Richard Myers, HAIB  \n",
       "15  Chip-Seq on P0 brain, hindbrain-mouse (fragmen...  Richard Myers, HAIB  \n",
       "16                             Chip-Seq on CTCF-mouse  Richard Myers, HAIB  \n",
       "17                           Chip-Seq on POLR2A-mouse  Richard Myers, HAIB  \n",
       "18   CTCF ChIP-seq on postnatal 0 day mouse intestine  Richard Myers, HAIB  \n",
       "19  Reverse Crosslink Control ChIP-seq on postnata...  Richard Myers, HAIB  \n",
       "20       CTCF ChIP-seq on postnatal 0 day mouse liver  Richard Myers, HAIB  \n",
       "21  Reverse Crosslink Control ChIP-seq on postnata...  Richard Myers, HAIB  \n",
       "22       Pol2 ChIP-seq on postnatal 0 day mouse liver  Richard Myers, HAIB  \n",
       "23  Reverse Crosslink Control ChIP-seq on postnata...  Richard Myers, HAIB  \n",
       "24  Reverse Crosslink Control ChIP-seq on postnata...  Richard Myers, HAIB  \n",
       "25        Pol2 ChIP-seq on postnatal 0 day mouse lung  Richard Myers, HAIB  \n",
       "26  Reverse Crosslink Control ChIP-seq on postnata...  Richard Myers, HAIB  \n",
       "27                                     no experiments                  NaN  \n",
       "28                                     no experiments                  NaN  \n",
       "29                                     no experiments                  NaN  \n",
       "..                                                ...                  ...  \n",
       "37                                     no experiments                  NaN  \n",
       "38                                     no experiments                  NaN  \n",
       "39                                     no experiments                  NaN  \n",
       "40                                     no experiments                  NaN  \n",
       "41                                     no experiments                  NaN  \n",
       "42                                     no experiments                  NaN  \n",
       "43                                     no experiments                  NaN  \n",
       "44                                     no experiments                  NaN  \n",
       "45                                     no experiments                  NaN  \n",
       "46                                     no experiments                  NaN  \n",
       "47                                     no experiments                  NaN  \n",
       "48                                     no experiments                  NaN  \n",
       "49                                     no experiments                  NaN  \n",
       "50                                     no experiments                  NaN  \n",
       "51                                     no experiments                  NaN  \n",
       "52                                     no experiments                  NaN  \n",
       "53                                     no experiments                  NaN  \n",
       "54                                     no experiments                  NaN  \n",
       "55                                     no experiments                  NaN  \n",
       "56                                     no experiments                  NaN  \n",
       "57                                     no experiments                  NaN  \n",
       "58                                     no experiments                  NaN  \n",
       "59                                     no experiments                  NaN  \n",
       "60                                     no experiments                  NaN  \n",
       "61                                     no experiments                  NaN  \n",
       "62                                     no experiments                  NaN  \n",
       "63                                     no experiments                  NaN  \n",
       "64                                     no experiments                  NaN  \n",
       "65                                     no experiments                  NaN  \n",
       "66                                     no experiments                  NaN  \n",
       "\n",
       "[67 rows x 4 columns]"
      ]
     },
     "execution_count": 12,
     "metadata": {},
     "output_type": "execute_result"
    }
   ],
   "source": [
    "df"
   ]
  },
  {
   "cell_type": "code",
   "execution_count": 13,
   "metadata": {
    "collapsed": true
   },
   "outputs": [],
   "source": [
    "df.to_csv('/tmp/experiments.csv', index=False)"
   ]
  },
  {
   "cell_type": "code",
   "execution_count": null,
   "metadata": {
    "collapsed": true
   },
   "outputs": [],
   "source": []
  }
 ],
 "metadata": {
  "kernelspec": {
   "display_name": "Python 3",
   "language": "python",
   "name": "python3"
  },
  "language_info": {
   "codemirror_mode": {
    "name": "ipython",
    "version": 3
   },
   "file_extension": ".py",
   "mimetype": "text/x-python",
   "name": "python",
   "nbconvert_exporter": "python",
   "pygments_lexer": "ipython3",
   "version": "3.5.2+"
  }
 },
 "nbformat": 4,
 "nbformat_minor": 1
}
