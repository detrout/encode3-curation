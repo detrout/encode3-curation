{
 "cells": [
  {
   "cell_type": "markdown",
   "metadata": {},
   "source": [
    "The C1 libraries on <a href=\"https://woldlab.caltech.edu/~sau/HJVYFBCXX/report.html\">HJVYFBCXX</a> weren't supposed to have ERCC spikes in them, one of them clearly has spikes and the others have very low level expression. One interesting question is how likely is there to be cross talk between indexes?"
   ]
  },
  {
   "cell_type": "code",
   "execution_count": 1,
   "metadata": {
    "collapsed": true
   },
   "outputs": [],
   "source": [
    "from curation_common import *"
   ]
  },
  {
   "cell_type": "code",
   "execution_count": 2,
   "metadata": {
    "collapsed": true
   },
   "outputs": [],
   "source": [
    "model = get_model(use_contexts=False)"
   ]
  },
  {
   "cell_type": "code",
   "execution_count": 3,
   "metadata": {
    "collapsed": false
   },
   "outputs": [
    {
     "data": {
      "text/plain": [
       "<RDF.Model at 0x7f1c4a82c710>"
      ]
     },
     "execution_count": 3,
     "metadata": {},
     "output_type": "execute_result"
    }
   ],
   "source": [
    "%load_source -m model https://jumpgate.caltech.edu/flowcell/HJVYFBCXX/"
   ]
  },
  {
   "cell_type": "code",
   "execution_count": 4,
   "metadata": {
    "collapsed": false
   },
   "outputs": [],
   "source": [
    "%%sparql -m model -o libraries\n",
    "select ?library\n",
    "where {\n",
    "    ?library a htsw:Library .\n",
    "}"
   ]
  },
  {
   "cell_type": "code",
   "execution_count": 5,
   "metadata": {
    "collapsed": false
   },
   "outputs": [
    {
     "data": {
      "text/plain": [
       "['https://jumpgate.caltech.edu/library/16729/',\n",
       " 'https://jumpgate.caltech.edu/library/16730/',\n",
       " 'https://jumpgate.caltech.edu/library/16731/',\n",
       " 'https://jumpgate.caltech.edu/library/16732/',\n",
       " 'https://jumpgate.caltech.edu/library/16733/',\n",
       " 'https://jumpgate.caltech.edu/library/16734/',\n",
       " 'https://jumpgate.caltech.edu/library/16735/',\n",
       " 'https://jumpgate.caltech.edu/library/16736/',\n",
       " 'https://jumpgate.caltech.edu/library/16737/',\n",
       " 'https://jumpgate.caltech.edu/library/16738/',\n",
       " 'https://jumpgate.caltech.edu/library/16739/',\n",
       " 'https://jumpgate.caltech.edu/library/16740/',\n",
       " 'https://jumpgate.caltech.edu/library/16741/',\n",
       " 'https://jumpgate.caltech.edu/library/16742/',\n",
       " 'https://jumpgate.caltech.edu/library/16743/',\n",
       " 'https://jumpgate.caltech.edu/library/16744/',\n",
       " 'https://jumpgate.caltech.edu/library/16745/',\n",
       " 'https://jumpgate.caltech.edu/library/16746/',\n",
       " 'https://jumpgate.caltech.edu/library/16747/',\n",
       " 'https://jumpgate.caltech.edu/library/16748/',\n",
       " 'https://jumpgate.caltech.edu/library/16749/',\n",
       " 'https://jumpgate.caltech.edu/library/16750/',\n",
       " 'https://jumpgate.caltech.edu/library/16751/',\n",
       " 'https://jumpgate.caltech.edu/library/16752/',\n",
       " 'https://jumpgate.caltech.edu/library/16753/',\n",
       " 'https://jumpgate.caltech.edu/library/16754/']"
      ]
     },
     "execution_count": 5,
     "metadata": {},
     "output_type": "execute_result"
    }
   ],
   "source": [
    "library_urls = []\n",
    "for row in libraries:\n",
    "    library_urls.append(str(row['library']))\n",
    "library_urls"
   ]
  },
  {
   "cell_type": "code",
   "execution_count": 6,
   "metadata": {
    "collapsed": false
   },
   "outputs": [
    {
     "data": {
      "text/plain": [
       "<RDF.Model at 0x7f1c4a82c710>"
      ]
     },
     "execution_count": 6,
     "metadata": {},
     "output_type": "execute_result"
    }
   ],
   "source": [
    "%load_source -m model library_urls"
   ]
  },
  {
   "cell_type": "code",
   "execution_count": 7,
   "metadata": {
    "collapsed": false
   },
   "outputs": [
    {
     "data": {
      "text/html": [
       "<table><tr><td>p</td><td>o</td></tr><tr><td><a href=\"http://www.w3.org/1999/02/22-rdf-syntax-ns#type\">rdf:type</a></td><td><a href=\"http://jumpgate.caltech.edu/wiki/LibraryOntology#Library\">htsw:Library</a></td></tr><tr><td><a href=\"http://jumpgate.caltech.edu/wiki/LibraryOntology#library_id\">htsw:library_id</a></td><td>16754</td></tr><tr><td><a href=\"http://jumpgate.caltech.edu/wiki/LibraryOntology#name\">htsw:name</a></td><td>C1 pool</td></tr><tr><td><a href=\"http://jumpgate.caltech.edu/wiki/LibraryOntology#species\">htsw:species</a></td><td><a href=\"https://jumpgate.caltech.edu/samples/species/9\">https://jumpgate.caltech.edu/samples/species/9</a></td></tr><tr><td><a href=\"http://www.w3.org/1999/xhtml/vocab#stylesheet\">http://www.w3.org/1999/xhtml/vocab#stylesheet</a></td><td><a href=\"https://jumpgate.caltech.edu/static/css/app.css\">https://jumpgate.caltech.edu/static/css/app.css</a></td></tr><tr><td><a href=\"http://www.w3.org/1999/xhtml/vocab#stylesheet\">http://www.w3.org/1999/xhtml/vocab#stylesheet</a></td><td><a href=\"https://jumpgate.caltech.edu/static/css/data-browse-index.css\">https://jumpgate.caltech.edu/static/css/data-browse-index.css</a></td></tr><tr><td><a href=\"http://jumpgate.caltech.edu/wiki/LibraryOntology#affiliation\">htsw:affiliation</a></td><td>Wen Zhou</td></tr><tr><td><a href=\"http://jumpgate.caltech.edu/wiki/LibraryOntology#species_name\">htsw:species_name</a></td><td>Mus musculus</td></tr><tr><td><a href=\"http://jumpgate.caltech.edu/wiki/LibraryOntology#experiment_type\">htsw:experiment_type</a></td><td>RNA-seq</td></tr><tr><td><a href=\"http://jumpgate.caltech.edu/wiki/LibraryOntology#library_type\">htsw:library_type</a></td><td>Dual Index Illumina</td></tr><tr><td><a href=\"http://jumpgate.caltech.edu/wiki/LibraryOntology#multiplex_index\">htsw:multiplex_index</a></td><td>N702-N502:CGTACTAG-CTCTCTAT N702-N504:CGTACTAG-AGAGTAGA N702-N517:CGTACTAG-GCGTAAGA N703-N517:AGGCAGAA-GCGTAAGA N707-N505:CTCTCTAC-GTAAGGAG N708-N504:CAGAGAGG-AGAGTAGA N708-N505:CAGAGAGG-GTAAGGAG N708-N508:CAGAGAGG-CTAAGCCT N710-N506:CGAGGCTG-ACTGCATA N710-N517:CGAGGCTG-GCGTAAGA N711-N507:AAGAGGCA-AAGGAGTA N712-N503:GTAGAGGA-TATCCTCT N712-N517:GTAGAGGA-GCGTAAGA</td></tr><tr><td><a href=\"http://jumpgate.caltech.edu/wiki/LibraryOntology#date\">htsw:date</a></td><td>2016-02-26T00:00:00</td></tr><tr><td><a href=\"http://jumpgate.caltech.edu/wiki/LibraryOntology#made_by\">htsw:made_by</a></td><td>Wen Zhou</td></tr><tr><td><a href=\"http://jumpgate.caltech.edu/wiki/LibraryOntology#gel_cut\">htsw:gel_cut</a></td><td>400</td></tr><tr><td><a href=\"http://jumpgate.caltech.edu/wiki/LibraryOntology#concentration\">htsw:concentration</a></td><td>5 ng/µl</td></tr><tr><td><a href=\"http://jumpgate.caltech.edu/wiki/LibraryOntology#stopping_point\">htsw:stopping_point</a></td><td>Completed</td></tr><tr><td><a href=\"http://jumpgate.caltech.edu/wiki/LibraryOntology#has_lane\">htsw:has_lane</a></td><td><a href=\"https://jumpgate.caltech.edu/lane/6399\">https://jumpgate.caltech.edu/lane/6399</a></td></tr></table>"
      ],
      "text/plain": [
       "<rdfmagic.LibRdfResults at 0x7f1c4a846470>"
      ]
     },
     "execution_count": 7,
     "metadata": {},
     "output_type": "execute_result"
    }
   ],
   "source": [
    "%%sparql -m model\n",
    "select ?p ?o \n",
    "where {\n",
    "    <https://jumpgate.caltech.edu/library/16754/> ?p ?o .\n",
    "}"
   ]
  },
  {
   "cell_type": "code",
   "execution_count": null,
   "metadata": {
    "collapsed": true
   },
   "outputs": [],
   "source": []
  }
 ],
 "metadata": {
  "kernelspec": {
   "display_name": "Python 3",
   "language": "python",
   "name": "python3"
  },
  "language_info": {
   "codemirror_mode": {
    "name": "ipython",
    "version": 3
   },
   "file_extension": ".py",
   "mimetype": "text/x-python",
   "name": "python",
   "nbconvert_exporter": "python",
   "pygments_lexer": "ipython3",
   "version": "3.5.1+"
  }
 },
 "nbformat": 4,
 "nbformat_minor": 0
}
