{
 "metadata": {
  "name": ""
 },
 "nbformat": 3,
 "nbformat_minor": 0,
 "worksheets": [
  {
   "cells": [
    {
     "cell_type": "heading",
     "level": 1,
     "metadata": {},
     "source": [
      "TOC"
     ]
    },
    {
     "cell_type": "markdown",
     "metadata": {},
     "source": [
      "Important headings\n",
      "\n",
      "* <a href=\"#Find-size-selection-range\">Find size selection range</a>\n",
      "* <a href=\"#Find-Flowcell-Info\">Find flowcell details</a>\n",
      "* <a href=\"#Find-GEO-Accession-IDs\">FInd GEO Accession IDs</a>\n",
      "* <a href=\"#Manifest-query\">Manifest query</a> to fill out manifest file.\n"
     ]
    },
    {
     "cell_type": "heading",
     "level": 1,
     "metadata": {},
     "source": [
      "Setup"
     ]
    },
    {
     "cell_type": "code",
     "collapsed": false,
     "input": [
      "from __future__ import print_function"
     ],
     "language": "python",
     "metadata": {},
     "outputs": [],
     "prompt_number": 1
    },
    {
     "cell_type": "code",
     "collapsed": false,
     "input": [
      "import collections\n",
      "import itertools\n",
      "import os\n",
      "import sys\n",
      "import types\n",
      "from pprint import pprint\n",
      "\n",
      "import paramiko\n",
      "import gcat\n",
      "import pandas\n",
      "import requests\n",
      "import lxml.html\n",
      "import RDF"
     ],
     "language": "python",
     "metadata": {},
     "outputs": [],
     "prompt_number": 2
    },
    {
     "cell_type": "code",
     "collapsed": false,
     "input": [
      "%load_ext rdfmagic"
     ],
     "language": "python",
     "metadata": {},
     "outputs": [],
     "prompt_number": 3
    },
    {
     "cell_type": "code",
     "collapsed": false,
     "input": [
      "def load_custom():\n",
      "    paths = ['/home/diane/proj/solexa/htsworkflow']\n",
      "    for path in paths:\n",
      "        if path not in sys.path:\n",
      "            sys.path.append(path)\n",
      "load_custom()"
     ],
     "language": "python",
     "metadata": {},
     "outputs": [],
     "prompt_number": 4
    },
    {
     "cell_type": "code",
     "collapsed": false,
     "input": [
      "from htsworkflow.util.rdfhelp import get_model, dump_model, load_into_model\n",
      "from htsworkflow.util.rdfjsonld import load_into_model as load_jsonld_into_model\n",
      "from htsworkflow.submission import encoded"
     ],
     "language": "python",
     "metadata": {},
     "outputs": [],
     "prompt_number": 5
    },
    {
     "cell_type": "code",
     "collapsed": false,
     "input": [
      "server = encoded.ENCODED('www.encodedcc.org')\n",
      "server.load_netrc()"
     ],
     "language": "python",
     "metadata": {},
     "outputs": [],
     "prompt_number": 6
    },
    {
     "cell_type": "code",
     "collapsed": false,
     "input": [
      "LIBRARY_URL = 'http://jumpgate.caltech.edu/library/{}/'"
     ],
     "language": "python",
     "metadata": {},
     "outputs": [],
     "prompt_number": 7
    },
    {
     "cell_type": "code",
     "collapsed": false,
     "input": [
      "%addns htsw http://jumpgate.caltech.edu/wiki/LibraryOntology#\n",
      "%addns library http://jumpgate.caltech.edu/library/\n",
      "%addns flowcell http://jumpgate.caltech.edu/flowcell/\n",
      "    \n",
      "%addns experiment https://www.encodedcc.org/profiles/experiment.json#\n",
      "%addns library https://www.encodedcc.org/profiles/library.json#\n",
      "%addns replicate https://www.encodedcc.org/profiles/replicate.json#    \n",
      "\n",
      "%addns experiments https://www.encodedcc.org/experiments/"
     ],
     "language": "python",
     "metadata": {},
     "outputs": [],
     "prompt_number": 8
    },
    {
     "cell_type": "markdown",
     "metadata": {},
     "source": [
      "Indicate if we should update things."
     ]
    },
    {
     "cell_type": "code",
     "collapsed": false,
     "input": [
      "dry_run = True"
     ],
     "language": "python",
     "metadata": {},
     "outputs": [],
     "prompt_number": 9
    },
    {
     "cell_type": "heading",
     "level": 2,
     "metadata": {},
     "source": [
      "Load single cell to submit sheet"
     ]
    },
    {
     "cell_type": "code",
     "collapsed": false,
     "input": [
      "#sheet_name = '0Aq6WcUiK26MIdDhINnptRUU1YkxVbkxhYWhfSm5HNlE'\n",
      "sheet_name = \"Brian's view of Single Cell data to submit\"\n",
      "brians_view = gcat.get_file(sheet_name, sheet='New library-replicates needed', fmt='pandas_excel')"
     ],
     "language": "python",
     "metadata": {},
     "outputs": [],
     "prompt_number": 10
    },
    {
     "cell_type": "code",
     "collapsed": false,
     "input": [
      "brians_view.sheet_names"
     ],
     "language": "python",
     "metadata": {},
     "outputs": [
      {
       "metadata": {},
       "output_type": "pyout",
       "prompt_number": 11,
       "text": [
        "[u'Sheet1',\n",
        " u'Improved Spikes',\n",
        " u'New Experiments needed',\n",
        " u'New library-replicates needed',\n",
        " u'New Biosamples needed',\n",
        " u'donors',\n",
        " u'Current Inventory of Single Cel']"
       ]
      }
     ],
     "prompt_number": 11
    },
    {
     "cell_type": "markdown",
     "metadata": {},
     "source": [
      "Parse the library replicate needed sheet. Igore the first couple of columns as they're just comments."
     ]
    },
    {
     "cell_type": "code",
     "collapsed": false,
     "input": [
      "library_sheet = brians_view.parse('New library-replicates needed', header=1, parse_cols='C:AE')"
     ],
     "language": "python",
     "metadata": {},
     "outputs": [],
     "prompt_number": 12
    },
    {
     "cell_type": "markdown",
     "metadata": {},
     "source": [
      "Extract woldlab library IDs from the aliases:array column"
     ]
    },
    {
     "cell_type": "code",
     "collapsed": false,
     "input": [
      "libraries = []\n",
      "for alias in library_sheet['aliases:array']:\n",
      "    if alias and type(alias) in types.StringTypes:\n",
      "        try:\n",
      "            prefix, library = alias.split(':')\n",
      "            libraries.append(library)\n",
      "        except AttributeError as e:\n",
      "            print('Unable to parse: {}, {}'.format(alias, type(alias)))\n",
      "print('Extracted: {} library ids'.format(len(libraries)))"
     ],
     "language": "python",
     "metadata": {},
     "outputs": [
      {
       "output_type": "stream",
       "stream": "stdout",
       "text": [
        "Extracted: 77 library ids\n"
       ]
      }
     ],
     "prompt_number": 13
    },
    {
     "cell_type": "code",
     "collapsed": false,
     "input": [
      "# (Did I get useful column names?)\n",
      "list(library_sheet.columns)"
     ],
     "language": "python",
     "metadata": {},
     "outputs": [
      {
       "metadata": {},
       "output_type": "pyout",
       "prompt_number": 14,
       "text": [
        "[u'uuid',\n",
        " u'uuid.1',\n",
        " u'experiment',\n",
        " u'biological_replicate_number:integer',\n",
        " u'technical_replicate_number:integer',\n",
        " u'paired_ended:boolean',\n",
        " u'platform',\n",
        " u'flow cell information',\n",
        " u'read_length',\n",
        " u'accession',\n",
        " u'aliases:array',\n",
        " u'fragmentation_date',\n",
        " u'biosample',\n",
        " u'documents',\n",
        " u'depleted_in:array',\n",
        " u'nucleic_acid_term_id',\n",
        " u'nucleic_acid_term_name',\n",
        " u'nucleic_acid_starting_quantity',\n",
        " u'nucleic_acid_starting_quantity_units',\n",
        " u'size_range',\n",
        " u'library_size_selection_method',\n",
        " u'extraction_method',\n",
        " u'lysis_method',\n",
        " u'fragmentation_method',\n",
        " u'strand_specificity:boolean',\n",
        " u'paired_ended:boolean.1',\n",
        " u'award',\n",
        " u'lab',\n",
        " u'submitted_by']"
       ]
      }
     ],
     "prompt_number": 14
    },
    {
     "cell_type": "markdown",
     "metadata": {},
     "source": [
      "That uuid and uuid.1 isn't very helpful. lets fix that."
     ]
    },
    {
     "cell_type": "code",
     "collapsed": false,
     "input": [
      "library_sheet.columns = [u'replicate uuid', u'library uuid'] + list(library_sheet.columns)[2:]"
     ],
     "language": "python",
     "metadata": {},
     "outputs": [],
     "prompt_number": 15
    },
    {
     "cell_type": "heading",
     "level": 2,
     "metadata": {},
     "source": [
      "Load LIMS Data"
     ]
    },
    {
     "cell_type": "heading",
     "level": 3,
     "metadata": {},
     "source": [
      "Load Libraries"
     ]
    },
    {
     "cell_type": "markdown",
     "metadata": {},
     "source": [
      "Import the jumpgate library details for all of the libraries listed in the spreadsheet."
     ]
    },
    {
     "cell_type": "code",
     "collapsed": false,
     "input": [
      "model = get_model()"
     ],
     "language": "python",
     "metadata": {},
     "outputs": [],
     "prompt_number": 16
    },
    {
     "cell_type": "code",
     "collapsed": false,
     "input": [
      "for library in libraries:\n",
      "    load_into_model(model, 'rdfa', LIBRARY_URL.format(library))"
     ],
     "language": "python",
     "metadata": {},
     "outputs": [],
     "prompt_number": 17
    },
    {
     "cell_type": "heading",
     "level": 3,
     "metadata": {},
     "source": [
      "Load Flowcell"
     ]
    },
    {
     "cell_type": "code",
     "collapsed": false,
     "input": [
      "%%sparql -m model -o flowcells\n",
      "select distinct ?flowcell\n",
      "where {\n",
      "  ?lane a htsw:IlluminaLane ;\n",
      "        htsw:flowcell ?flowcell .\n",
      "}"
     ],
     "language": "python",
     "metadata": {},
     "outputs": [],
     "prompt_number": 18
    },
    {
     "cell_type": "code",
     "collapsed": false,
     "input": [
      "for row in flowcells:\n",
      "    flowcell = row['flowcell']\n",
      "    print(flowcell)\n",
      "    load_into_model(model, 'rdfa', flowcell)"
     ],
     "language": "python",
     "metadata": {},
     "outputs": [
      {
       "output_type": "stream",
       "stream": "stdout",
       "text": [
        "http://jumpgate.caltech.edu/flowcell/H8U69ADXX/\n",
        "http://jumpgate.caltech.edu/flowcell/D1THKACXX/"
       ]
      },
      {
       "output_type": "stream",
       "stream": "stdout",
       "text": [
        "\n",
        "http://jumpgate.caltech.edu/flowcell/D15ACACXX/"
       ]
      },
      {
       "output_type": "stream",
       "stream": "stdout",
       "text": [
        "\n",
        "http://jumpgate.caltech.edu/flowcell/D1F15ACXX/"
       ]
      },
      {
       "output_type": "stream",
       "stream": "stdout",
       "text": [
        "\n",
        "http://jumpgate.caltech.edu/flowcell/D1GMCACXX/"
       ]
      },
      {
       "output_type": "stream",
       "stream": "stdout",
       "text": [
        "\n",
        "http://jumpgate.caltech.edu/flowcell/D1EWHACXX/"
       ]
      },
      {
       "output_type": "stream",
       "stream": "stdout",
       "text": [
        "\n",
        "http://jumpgate.caltech.edu/flowcell/D0549ACXX/"
       ]
      },
      {
       "output_type": "stream",
       "stream": "stdout",
       "text": [
        "\n"
       ]
      }
     ],
     "prompt_number": 19
    },
    {
     "cell_type": "heading",
     "level": 2,
     "metadata": {},
     "source": [
      "Load ENCODE"
     ]
    },
    {
     "cell_type": "heading",
     "level": 3,
     "metadata": {},
     "source": [
      "Load Experiments"
     ]
    },
    {
     "cell_type": "code",
     "collapsed": false,
     "input": [
      "experiments_view = brians_view.parse('New Experiments needed')\n",
      "experiment_ids = [ x for x in experiments_view['accession'] if type(x) in types.StringTypes ]\n",
      "for experiment_id in experiment_ids:\n",
      "    print(\"Loading {}\".format(experiment_id))\n",
      "    load_jsonld_into_model(model, server.get_jsonld('/experiments/{}'.format(experiment_id)))"
     ],
     "language": "python",
     "metadata": {},
     "outputs": [
      {
       "output_type": "stream",
       "stream": "stdout",
       "text": [
        "Loading ENCSR900JSG\n",
        "Loading ENCSR313IUO"
       ]
      },
      {
       "output_type": "stream",
       "stream": "stdout",
       "text": [
        "\n",
        "Loading ENCSR157NLF"
       ]
      },
      {
       "output_type": "stream",
       "stream": "stdout",
       "text": [
        "\n",
        "Loading ENCSR415JJO"
       ]
      },
      {
       "output_type": "stream",
       "stream": "stdout",
       "text": [
        "\n",
        "Loading ENCSR423XRG"
       ]
      },
      {
       "output_type": "stream",
       "stream": "stdout",
       "text": [
        "\n",
        "Loading ENCSR137RHZ"
       ]
      },
      {
       "output_type": "stream",
       "stream": "stdout",
       "text": [
        "\n",
        "Loading ENCSR888LYA"
       ]
      },
      {
       "output_type": "stream",
       "stream": "stdout",
       "text": [
        "\n",
        "Loading ENCSR673UIY"
       ]
      },
      {
       "output_type": "stream",
       "stream": "stdout",
       "text": [
        "\n",
        "Loading ENCSR558LHB"
       ]
      },
      {
       "output_type": "stream",
       "stream": "stdout",
       "text": [
        "\n",
        "Loading ENCSR376KFF"
       ]
      },
      {
       "output_type": "stream",
       "stream": "stdout",
       "text": [
        "\n",
        "Loading ENCSR561KFF"
       ]
      },
      {
       "output_type": "stream",
       "stream": "stdout",
       "text": [
        "\n",
        "Loading ENCSR086PHI"
       ]
      },
      {
       "output_type": "stream",
       "stream": "stdout",
       "text": [
        "\n",
        "Loading ENCSR921DSM"
       ]
      },
      {
       "output_type": "stream",
       "stream": "stdout",
       "text": [
        "\n",
        "Loading ENCSR724XFQ"
       ]
      },
      {
       "output_type": "stream",
       "stream": "stdout",
       "text": [
        "\n",
        "Loading ENCSR729ENB"
       ]
      },
      {
       "output_type": "stream",
       "stream": "stdout",
       "text": [
        "\n",
        "Loading ENCSR828FPS"
       ]
      },
      {
       "output_type": "stream",
       "stream": "stdout",
       "text": [
        "\n",
        "Loading ENCSR231WUP"
       ]
      },
      {
       "output_type": "stream",
       "stream": "stdout",
       "text": [
        "\n",
        "Loading ENCSR435ROA"
       ]
      },
      {
       "output_type": "stream",
       "stream": "stdout",
       "text": [
        "\n",
        "Loading ENCSR927DHK"
       ]
      },
      {
       "output_type": "stream",
       "stream": "stdout",
       "text": [
        "\n",
        "Loading ENCSR244DNF"
       ]
      },
      {
       "output_type": "stream",
       "stream": "stdout",
       "text": [
        "\n",
        "Loading ENCSR366QZI"
       ]
      },
      {
       "output_type": "stream",
       "stream": "stdout",
       "text": [
        "\n",
        "Loading ENCSR659QHV"
       ]
      },
      {
       "output_type": "stream",
       "stream": "stdout",
       "text": [
        "\n",
        "Loading ENCSR124ERY"
       ]
      },
      {
       "output_type": "stream",
       "stream": "stdout",
       "text": [
        "\n",
        "Loading ENCSR610BAM"
       ]
      },
      {
       "output_type": "stream",
       "stream": "stdout",
       "text": [
        "\n",
        "Loading ENCSR905FLM"
       ]
      },
      {
       "output_type": "stream",
       "stream": "stdout",
       "text": [
        "\n",
        "Loading ENCSR101GVL"
       ]
      },
      {
       "output_type": "stream",
       "stream": "stdout",
       "text": [
        "\n",
        "Loading ENCSR672QFA"
       ]
      },
      {
       "output_type": "stream",
       "stream": "stdout",
       "text": [
        "\n",
        "Loading ENCSR417EDR"
       ]
      },
      {
       "output_type": "stream",
       "stream": "stdout",
       "text": [
        "\n",
        "Loading ENCSR184CWK"
       ]
      },
      {
       "output_type": "stream",
       "stream": "stdout",
       "text": [
        "\n",
        "Loading ENCSR767SOH"
       ]
      },
      {
       "output_type": "stream",
       "stream": "stdout",
       "text": [
        "\n",
        "Loading ENCSR625DPZ"
       ]
      },
      {
       "output_type": "stream",
       "stream": "stdout",
       "text": [
        "\n",
        "Loading ENCSR000AJE"
       ]
      },
      {
       "output_type": "stream",
       "stream": "stdout",
       "text": [
        "\n",
        "Loading ENCSR000AJA"
       ]
      },
      {
       "output_type": "stream",
       "stream": "stdout",
       "text": [
        "\n",
        "Loading ENCSR000AJH"
       ]
      },
      {
       "output_type": "stream",
       "stream": "stdout",
       "text": [
        "\n",
        "Loading ENCSR000AIY"
       ]
      },
      {
       "output_type": "stream",
       "stream": "stdout",
       "text": [
        "\n",
        "Loading ENCSR000AJC"
       ]
      },
      {
       "output_type": "stream",
       "stream": "stdout",
       "text": [
        "\n",
        "Loading ENCSR000AJF"
       ]
      },
      {
       "output_type": "stream",
       "stream": "stdout",
       "text": [
        "\n",
        "Loading ENCSR000AJB"
       ]
      },
      {
       "output_type": "stream",
       "stream": "stdout",
       "text": [
        "\n",
        "Loading ENCSR000AJD"
       ]
      },
      {
       "output_type": "stream",
       "stream": "stdout",
       "text": [
        "\n",
        "Loading ENCSR000AJG"
       ]
      },
      {
       "output_type": "stream",
       "stream": "stdout",
       "text": [
        "\n",
        "Loading ENCSR000AIZ"
       ]
      },
      {
       "output_type": "stream",
       "stream": "stdout",
       "text": [
        "\n"
       ]
      }
     ],
     "prompt_number": 20
    },
    {
     "cell_type": "heading",
     "level": 2,
     "metadata": {},
     "source": [
      "Load GEO"
     ]
    },
    {
     "cell_type": "markdown",
     "metadata": {},
     "source": [
      "The GEO page shows a few entries and hides the rest, the result of which is that it takes two different xpath expressions to grab all of the rows."
     ]
    },
    {
     "cell_type": "code",
     "collapsed": false,
     "input": [
      "def import_geo(model):\n",
      "    geo_experiment = 'GSE44618'\n",
      "    geo_url = 'http://www.ncbi.nlm.nih.gov/geo/query/acc.cgi?acc={}'.format(geo_experiment)\n",
      "    # manually discovered path to the table mapping geoaccession numbers to my upload names\n",
      "    geo_xpath = '/html/body/table/tr/td/table[6]/tr[3]/td[2]/table/tr/td/table/tr/td/table[2]/tr/td/table/tr[25]/td[2]'\n",
      "    response = requests.get(geo_url)\n",
      "    geo_doctree = lxml.html.fromstring(response.content)\n",
      "    accession_tables = geo_doctree.xpath(geo_xpath)[0]\n",
      "    data = accession_tables.xpath('table/tr/td') + accession_tables.xpath('div/table/tr/td')\n",
      "    for accession_node, name_node in itertools.izip(itertools.islice(data, 0, None, 2), itertools.islice(data, 1, None, 2)):\n",
      "        #print(accession_node.xpath('a')[0].text, name_node.text)\n",
      "        library = RDF.Node(RDF.Uri(LIBRARY_URL.format(name_node.text[:5])))\n",
      "        p = RDF.Node(RDF.Uri('http://jumpgate.caltech.edu/wiki/LibraryOntology#dbxref'))\n",
      "        geo = RDF.Node(\"GEO:{}\".format(accession_node.xpath('a')[0].text))\n",
      "        s = RDF.Statement(library, p, geo)\n",
      "        model.append(s)    \n",
      "import_geo(model)"
     ],
     "language": "python",
     "metadata": {},
     "outputs": [],
     "prompt_number": 21
    },
    {
     "cell_type": "heading",
     "level": 2,
     "metadata": {},
     "source": [
      "Connect DCC and Wold Libraries"
     ]
    },
    {
     "cell_type": "code",
     "collapsed": false,
     "input": [
      "%%sparql -m model -o dcc_libraries\n",
      "select ?library ?library_alias\n",
      "where {\n",
      "       ?library a library:library ;\n",
      "                library:aliases ?library_alias .\n",
      "}"
     ],
     "language": "python",
     "metadata": {},
     "outputs": [],
     "prompt_number": 22
    },
    {
     "cell_type": "code",
     "collapsed": false,
     "input": [
      "for row in dcc_libraries:\n",
      "    dcc_library = row['library']\n",
      "    library_alias = str(row['library_alias'])\n",
      "    alias, library_id = library_alias.split(':')\n",
      "    wold_library = RDF.Node(RDF.Uri(LIBRARY_URL.format(library_id)))\n",
      "    p = RDF.Node(RDF.Uri('https://www.encodedcc.org/profiles/library.json#library'))\n",
      "    model.append(RDF.Statement(wold_library, p, dcc_library))"
     ],
     "language": "python",
     "metadata": {},
     "outputs": [],
     "prompt_number": 23
    },
    {
     "cell_type": "heading",
     "level": 2,
     "metadata": {},
     "source": [
      "Dump model"
     ]
    },
    {
     "cell_type": "code",
     "collapsed": false,
     "input": [
      "with open('/tmp/model.turtle','w') as outstream:\n",
      "    dump_model(model, outstream)"
     ],
     "language": "python",
     "metadata": {},
     "outputs": [],
     "prompt_number": 24
    },
    {
     "cell_type": "heading",
     "level": 2,
     "metadata": {},
     "source": [
      "Make submission names"
     ]
    },
    {
     "cell_type": "code",
     "collapsed": false,
     "input": [
      "%%sparql -m model -o all_library_names\n",
      "select ?lib_id ?name\n",
      "where {\n",
      "  ?lib htsw:name ?name ;\n",
      "       htsw:library_id ?lib_id ;\n",
      "       a htsw:Library\n",
      "}\n",
      "order by ?lib_id"
     ],
     "language": "python",
     "metadata": {},
     "outputs": [],
     "prompt_number": 25
    },
    {
     "cell_type": "markdown",
     "metadata": {},
     "source": [
      "Generate directory names for submission\n",
      "\n",
      "I needed this to extract fastq files. The names in the LIMS were fairly long, so i tried doing some substring replacement."
     ]
    },
    {
     "cell_type": "code",
     "collapsed": false,
     "input": [
      "library_names = collections.OrderedDict()\n",
      "for row in all_library_names:\n",
      "    lib_id = str(row['lib_id'])\n",
      "    name = str(row['name']).replace('__','_').replace('Illumina ','').replace('Nextera ','')\n",
      "    name = name.replace(' ', '_')\n",
      "    name = name.replace('Paired_ends_','')\n",
      "    if lib_id in libraries:\n",
      "        library_names[lib_id] = lib_id + '-' + name\n",
      "for lib_id in library_names:\n",
      "    print(lib_id, library_names[lib_id])"
     ],
     "language": "python",
     "metadata": {},
     "outputs": [
      {
       "output_type": "stream",
       "stream": "stdout",
       "text": [
        "12517 12517-index3_GM12878_30A_singlecell\n",
        "12518 12518-index4_GM12878_30B_singlecell\n",
        "13024 13024-index_N706_N502_LC_341_Hs_CN_M_20_UMB4727_granule\n",
        "13025 13025-index_N701_N503_LC_342_Hs_CN_M_20_UMB4727_granule\n",
        "13262 13262-index_N702_N501_LC_426_Hs_FI_MID_20_M_UMB4727_PYR\n",
        "13263 13263-index_N702_N502_LC_428_Hs_FI_MID_20_M_UMB4727_PYR\n",
        "13274 13274-index_N701_N503_GM12878bulkprep_10ngs_1\n",
        "13275 13275-index_N701_N504_GM12878bulkprep_10ngs_2\n",
        "13280 13280-index_N701_N503_GM232_poolsplit\n",
        "13281 13281-index_N701_N504_GM233_poolsplit\n",
        "13282 13282-index_N702_N501_GM235_single_cell\n",
        "13283 13283-index_N702_N502_GM236_single_cell\n",
        "13284 13284-index_N702_N503_GM237_single_cell\n",
        "13285 13285-index_N702_N504_GM238_single_cell\n",
        "13286 13286-index_N703_N501_GM239_single_cell\n",
        "13287 13287-index_N703_N502_GM240_single_cell\n",
        "13288 13288-index_N703_N503_GM242_single_cell\n",
        "13289 13289-index_N703_N504_GM243_single_cell\n",
        "13290 13290-index_N704_N501_GM244_single_cell\n",
        "13291 13291-index_N704_N502_GM245_single_cell\n",
        "13292 13292-index_N704_N503_GM246_poolsplit\n",
        "13294 13294-index_N705_N501_GM248_poolsplit\n",
        "13295 13295-index_N705_N502_GM249_poolsplit\n",
        "13296 13296-index_N705_N503_GM250_poolsplit\n",
        "13297 13297-index_N705_N504_GM251_poolsplit\n",
        "13298 13298-index_N706_N501_GM252_poolsplit\n",
        "13299 13299-index_N706_N502_GM253_poolsplit\n",
        "13300 13300-index_N706_N503_GM254_10pool\n",
        "13301 13301-index_N706_N504_GM255_11pool\n",
        "13347 13347-index_N704_N503_LC_450_Hs_UMB602_27_M_CN_FI_slb9_nonVENs_30\n",
        "13349 13349-index_N706_N503_LC_452_Hs_UMB602_27_M_CN_FI_slb9_nonVENs_30\n",
        "13619 13619-index_N706_N506_LC_539_Hs_UMB5408_6_M_CN_Cb_Purkinje_30pool_\n",
        "13620 13620-index_N710_N506_LC_540_Hs_UMB5408_6_M_CN_Cb_granule_\n",
        "13622 13622-index_N709_N501_LC_542_Hs_UMB5408_6_M_CN_Cb_Purkinje_30pool_\n",
        "13623 13623-index_N710_N502_LC_543_Hs_UMB5408_6_M_CN_Cb_granule_\n",
        "13625 13625-index_N701_N501_LC_545_Hs_UMB4727_20_M_CN_Cb_Purkinje_single_cell_\n",
        "13626 13626-index_N702_N502_LC_546_Hs_UMB4727_20_M_CN_Cb_Purkinje_single_cell_\n",
        "13627 13627-index_N703_N503_LC_547_Hs_UMB4727_20_M_CN_Cb_Purkinje_single_cell_\n",
        "13628 13628-index_N704_N504_LC_548_Hs_UMB4727_20_M_CN_Cb_Purkinje_single_cell_\n",
        "13629 13629-index_N705_N505_LC_549_Hs_UMB4727_20_M_CN_Cb_Purkinje_single_cell_\n",
        "13630 13630-index_N706_N506_LC_550_Hs_UMB4727_20_M_CN_Cb_Purkinje_single_cell_\n",
        "13631 13631-index_N707_N507_LC_551_Hs_UMB4727_20_M_CN_Cb_Purkinje_single_cell_\n",
        "13632 13632-index_N708_N508_LC_552_Hs_UMB4727_20_M_CN_Cb_Purkinje_single_cell_\n",
        "13633 13633-index_N709_N501_LC_553_Hs_UMB4727_20_M_CN_Cb_Purkinje_single_cell_\n",
        "13634 13634-index_N710_N502_LC_554_Hs_UMB4727_20_M_CN_Cb_Purkinje_single_cell_\n",
        "13635 13635-index_N711_N503_LC_555_Hs_UMB4727_20_M_CN_Cb_Purkinje_single_cell_\n",
        "13636 13636-index_N712_N504_LC_556_Hs_UMB4727_20_M_CN_Cb_Purkinje_single_cell_\n",
        "13637 13637-index_N701_N505_LC_557_Hs_UMB4727_20_M_CN_Cb_Purkinje_single_cell_\n",
        "13638 13638-index_N702_N506_LC_558_Hs_UMB4727_20_M_CN_Cb_Purkinje_single_cell_\n",
        "13639 13639-index_N703_N507_LC_559_Hs_UMB4727_20_M_CN_Cb_Purkinje_single_cell_\n",
        "13640 13640-index_N704_N508_LC_560_Hs_UMB4727_20_M_CN_Cb_Purkinje_single_cell_\n",
        "13641 13641-index_N705_N501_LC_561_Hs_UMB4727_20_M_CN_Cb_Purkinje_single_cell_\n",
        "13642 13642-index_N706_N502_LC_562_Hs_UMB4727_20_M_CN_Cb_Purkinje_single_cell_\n",
        "13643 13643-index_N707_N503_LC_563_Hs_UMB4727_20_M_CN_Cb_Purkinje_single_cell_\n",
        "13644 13644-index_N708_N504_LC_564_Hs_UMB4727_20_M_CN_Cb_Purkinje_single_cell_\n",
        "13645 13645-index_N709_N505_LC_565_Hs_UMB4727_20_M_CN_Cb_Purkinje_poolsplit_\n",
        "13646 13646-index_N710_N506_LC_566_Hs_UMB4727_20_M_CN_Cb_Purkinje_poolsplit_\n",
        "13647 13647-index_N711_N507_LC_567_Hs_UMB4727_20_M_CN_Cb_Purkinje_poolsplit_\n",
        "13648 13648-index_N712_N508_LC_568_Hs_UMB4727_20_M_CN_Cb_Purkinje_poolsplit_\n",
        "13649 13649-index_N701_N501_LC_569_Hs_UMB4727_20_M_CN_Cb_Purkinje_poolsplit_\n",
        "13650 13650-index_N702_N502_LC_570_Hs_UMB4727_20_M_CN_Cb_Purkinje_poolsplit_\n",
        "13651 13651-index_N703_N503_LC_571_Hs_UMB4727_20_M_CN_Cb_Purkinje_poolsplit_\n",
        "13652 13652-index_N704_N504_LC_572_Hs_UMB4727_20_M_CN_Cb_Purkinje_poolsplit_\n",
        "13653 13653-index_N705_N505_LC_573_Hs_UMB4727_20_M_CN_Cb_Purkinje_poolsplit_\n",
        "13654 13654-index_N706_N506_LC_574_Hs_UMB4727_20_M_CN_Cb_Purkinje_poolsplit_\n",
        "13655 13655-index_N707_N507_LC_575_Hs_UMB4727_20_M_CN_Cb_Purkinje_poolsplit_\n",
        "13656 13656-index_N708_N508_LC_576_Hs_UMB4727_20_M_CN_Cb_Purkinje_poolsplit_\n",
        "13657 13657-index_N709_N501_LC_577_Hs_UMB4727_20_M_CN_Cb_Purkinje_poolsplit_\n",
        "13658 13658-index_N710_N502_LC_578_Hs_UMB4727_20_M_CN_Cb_Purkinje_poolsplit_\n",
        "13659 13659-index_N711_N503_LC_579_Hs_UMB4727_20_M_CN_Cb_Purkinje_poolsplit_\n",
        "13660 13660-index_N712_N504_LC_580_Hs_UMB4727_20_M_CN_Cb_Purkinje_poolsplit_\n",
        "13661 13661-index_N701_N505_LC_581_Hs_UMB4727_20_M_CN_Cb_Purkinje_poolsplit_\n",
        "13662 13662-index_N702_N506_LC_582_Hs_UMB4727_20_M_CN_Cb_Purkinje_poolsplit_\n",
        "13663 13663-index_N703_N507_LC_583_Hs_UMB4727_20_M_CN_Cb_Purkinje_poolsplit_\n",
        "13664 13664-index_N704_N508_LC_584_Hs_UMB4727_20_M_CN_Cb_Purkinje_poolsplit_\n",
        "13665 13665-index_N712_N504_LC_586_Hs_UMB4727_20_M_CN_Cb_Purkinje_30pool_\n",
        "13666 13666-index_N701_N505_LC_587_Hs_UMB4727_20_M_CN_Cb_Purkinje_30pool_\n"
       ]
      }
     ],
     "prompt_number": 26
    },
    {
     "cell_type": "heading",
     "level": 2,
     "metadata": {},
     "source": [
      "Find size selection range"
     ]
    },
    {
     "cell_type": "markdown",
     "metadata": {},
     "source": [
      "One of the things our spreadsheet needed was the size cut range. "
     ]
    },
    {
     "cell_type": "code",
     "collapsed": false,
     "input": [
      "%%sparql -m model -o gel_cuts\n",
      "select ?lib_id ?gel_cut\n",
      "where {\n",
      "    ?lib htsw:gel_cut ?gel_cut ;\n",
      "         htsw:library_id  ?lib_id ;\n",
      "         a htsw:Library .\n",
      "}"
     ],
     "language": "python",
     "metadata": {},
     "outputs": [],
     "prompt_number": 27
    },
    {
     "cell_type": "code",
     "collapsed": false,
     "input": [
      "lib_to_cut = {}\n",
      "for row in gel_cuts:\n",
      "    lib_to_cut[str(row['lib_id'])] = int(str(row['gel_cut']))"
     ],
     "language": "python",
     "metadata": {},
     "outputs": [],
     "prompt_number": 28
    },
    {
     "cell_type": "code",
     "collapsed": false,
     "input": [
      "for i in library_sheet['aliases:array'].index:\n",
      "    alias = library_sheet['aliases:array'][i]\n",
      "    if alias and type(alias) in types.StringTypes:\n",
      "        try:\n",
      "            prefix, library = alias.split(':')\n",
      "            library_sheet['size_range'][i] = lib_to_cut[library]\n",
      "        except AttributeError as e:\n",
      "            print('Unable to parse: {}, {}'.format(alias, type(alias)))"
     ],
     "language": "python",
     "metadata": {},
     "outputs": [],
     "prompt_number": 29
    },
    {
     "cell_type": "markdown",
     "metadata": {},
     "source": [
      "So how did our query work out?\n",
      "\n",
      "The NaNs are because the spreadsheet has the libraries broken into different sections."
     ]
    },
    {
     "cell_type": "code",
     "collapsed": false,
     "input": [
      "library_sheet[['accession','aliases:array','size_range']]"
     ],
     "language": "python",
     "metadata": {},
     "outputs": [
      {
       "html": [
        "<div style=\"max-height:1000px;max-width:1500px;overflow:auto;\">\n",
        "<table border=\"1\" class=\"dataframe\">\n",
        "  <thead>\n",
        "    <tr style=\"text-align: right;\">\n",
        "      <th></th>\n",
        "      <th>accession</th>\n",
        "      <th>aliases:array</th>\n",
        "      <th>size_range</th>\n",
        "    </tr>\n",
        "  </thead>\n",
        "  <tbody>\n",
        "    <tr>\n",
        "      <th>0 </th>\n",
        "      <td> ENCLB901PGF</td>\n",
        "      <td> barbara-wold:13619</td>\n",
        "      <td> 500</td>\n",
        "    </tr>\n",
        "    <tr>\n",
        "      <th>1 </th>\n",
        "      <td> ENCLB426EUN</td>\n",
        "      <td> barbara-wold:13622</td>\n",
        "      <td> 450</td>\n",
        "    </tr>\n",
        "    <tr>\n",
        "      <th>2 </th>\n",
        "      <td> ENCLB392ZIG</td>\n",
        "      <td> barbara-wold:13620</td>\n",
        "      <td> 450</td>\n",
        "    </tr>\n",
        "    <tr>\n",
        "      <th>3 </th>\n",
        "      <td> ENCLB036TZY</td>\n",
        "      <td> barbara-wold:13623</td>\n",
        "      <td> 450</td>\n",
        "    </tr>\n",
        "    <tr>\n",
        "      <th>4 </th>\n",
        "      <td> ENCLB915IHV</td>\n",
        "      <td> barbara-wold:13665</td>\n",
        "      <td> 500</td>\n",
        "    </tr>\n",
        "    <tr>\n",
        "      <th>5 </th>\n",
        "      <td> ENCLB204VYG</td>\n",
        "      <td> barbara-wold:13666</td>\n",
        "      <td> 500</td>\n",
        "    </tr>\n",
        "    <tr>\n",
        "      <th>6 </th>\n",
        "      <td> ENCLB386HBI</td>\n",
        "      <td> barbara-wold:13024</td>\n",
        "      <td> 450</td>\n",
        "    </tr>\n",
        "    <tr>\n",
        "      <th>7 </th>\n",
        "      <td> ENCLB976CMA</td>\n",
        "      <td> barbara-wold:13025</td>\n",
        "      <td> 475</td>\n",
        "    </tr>\n",
        "    <tr>\n",
        "      <th>8 </th>\n",
        "      <td> ENCLB164LQL</td>\n",
        "      <td> barbara-wold:13262</td>\n",
        "      <td> 350</td>\n",
        "    </tr>\n",
        "    <tr>\n",
        "      <th>9 </th>\n",
        "      <td> ENCLB621DLJ</td>\n",
        "      <td> barbara-wold:13263</td>\n",
        "      <td> 350</td>\n",
        "    </tr>\n",
        "    <tr>\n",
        "      <th>10</th>\n",
        "      <td> ENCLB928LID</td>\n",
        "      <td> barbara-wold:13347</td>\n",
        "      <td> 350</td>\n",
        "    </tr>\n",
        "    <tr>\n",
        "      <th>11</th>\n",
        "      <td> ENCLB532KHK</td>\n",
        "      <td> barbara-wold:13349</td>\n",
        "      <td> 350</td>\n",
        "    </tr>\n",
        "    <tr>\n",
        "      <th>12</th>\n",
        "      <td> ENCLB036MBQ</td>\n",
        "      <td> barbara-wold:13274</td>\n",
        "      <td> 350</td>\n",
        "    </tr>\n",
        "    <tr>\n",
        "      <th>13</th>\n",
        "      <td> ENCLB284CYK</td>\n",
        "      <td> barbara-wold:13275</td>\n",
        "      <td> 450</td>\n",
        "    </tr>\n",
        "    <tr>\n",
        "      <th>14</th>\n",
        "      <td> ENCLB550GYC</td>\n",
        "      <td> barbara-wold:13300</td>\n",
        "      <td> 450</td>\n",
        "    </tr>\n",
        "    <tr>\n",
        "      <th>15</th>\n",
        "      <td> ENCLB576ZGP</td>\n",
        "      <td> barbara-wold:13301</td>\n",
        "      <td> 450</td>\n",
        "    </tr>\n",
        "    <tr>\n",
        "      <th>16</th>\n",
        "      <td> ENCLB482LEX</td>\n",
        "      <td> barbara-wold:12517</td>\n",
        "      <td> 335</td>\n",
        "    </tr>\n",
        "    <tr>\n",
        "      <th>17</th>\n",
        "      <td> ENCLB898RJN</td>\n",
        "      <td> barbara-wold:12518</td>\n",
        "      <td> 333</td>\n",
        "    </tr>\n",
        "    <tr>\n",
        "      <th>18</th>\n",
        "      <td>         NaN</td>\n",
        "      <td>                NaN</td>\n",
        "      <td> NaN</td>\n",
        "    </tr>\n",
        "    <tr>\n",
        "      <th>19</th>\n",
        "      <td>         NaN</td>\n",
        "      <td>                NaN</td>\n",
        "      <td> NaN</td>\n",
        "    </tr>\n",
        "    <tr>\n",
        "      <th>20</th>\n",
        "      <td>         NaN</td>\n",
        "      <td>                NaN</td>\n",
        "      <td> NaN</td>\n",
        "    </tr>\n",
        "    <tr>\n",
        "      <th>21</th>\n",
        "      <td>         NaN</td>\n",
        "      <td>                NaN</td>\n",
        "      <td> NaN</td>\n",
        "    </tr>\n",
        "    <tr>\n",
        "      <th>22</th>\n",
        "      <td>         NaN</td>\n",
        "      <td>                NaN</td>\n",
        "      <td> NaN</td>\n",
        "    </tr>\n",
        "    <tr>\n",
        "      <th>23</th>\n",
        "      <td>         NaN</td>\n",
        "      <td>                NaN</td>\n",
        "      <td> NaN</td>\n",
        "    </tr>\n",
        "    <tr>\n",
        "      <th>24</th>\n",
        "      <td>         NaN</td>\n",
        "      <td>                NaN</td>\n",
        "      <td> NaN</td>\n",
        "    </tr>\n",
        "    <tr>\n",
        "      <th>25</th>\n",
        "      <td> ENCLB331AUZ</td>\n",
        "      <td> barbara-wold:13625</td>\n",
        "      <td> 450</td>\n",
        "    </tr>\n",
        "    <tr>\n",
        "      <th>26</th>\n",
        "      <td> ENCLB327MTR</td>\n",
        "      <td> barbara-wold:13626</td>\n",
        "      <td> 425</td>\n",
        "    </tr>\n",
        "    <tr>\n",
        "      <th>27</th>\n",
        "      <td> ENCLB228BIT</td>\n",
        "      <td> barbara-wold:13627</td>\n",
        "      <td> 450</td>\n",
        "    </tr>\n",
        "    <tr>\n",
        "      <th>28</th>\n",
        "      <td> ENCLB641KNK</td>\n",
        "      <td> barbara-wold:13628</td>\n",
        "      <td> 450</td>\n",
        "    </tr>\n",
        "    <tr>\n",
        "      <th>29</th>\n",
        "      <td> ENCLB403JBC</td>\n",
        "      <td> barbara-wold:13629</td>\n",
        "      <td> 450</td>\n",
        "    </tr>\n",
        "    <tr>\n",
        "      <th>30</th>\n",
        "      <td> ENCLB804XKW</td>\n",
        "      <td> barbara-wold:13630</td>\n",
        "      <td> 450</td>\n",
        "    </tr>\n",
        "    <tr>\n",
        "      <th>31</th>\n",
        "      <td> ENCLB087SVF</td>\n",
        "      <td> barbara-wold:13631</td>\n",
        "      <td> 450</td>\n",
        "    </tr>\n",
        "    <tr>\n",
        "      <th>32</th>\n",
        "      <td> ENCLB747ZHK</td>\n",
        "      <td> barbara-wold:13632</td>\n",
        "      <td> 450</td>\n",
        "    </tr>\n",
        "    <tr>\n",
        "      <th>33</th>\n",
        "      <td> ENCLB710XHU</td>\n",
        "      <td> barbara-wold:13633</td>\n",
        "      <td> 375</td>\n",
        "    </tr>\n",
        "    <tr>\n",
        "      <th>34</th>\n",
        "      <td> ENCLB211OUD</td>\n",
        "      <td> barbara-wold:13634</td>\n",
        "      <td> 475</td>\n",
        "    </tr>\n",
        "    <tr>\n",
        "      <th>35</th>\n",
        "      <td> ENCLB222MSP</td>\n",
        "      <td> barbara-wold:13635</td>\n",
        "      <td> 475</td>\n",
        "    </tr>\n",
        "    <tr>\n",
        "      <th>36</th>\n",
        "      <td> ENCLB619TYA</td>\n",
        "      <td> barbara-wold:13636</td>\n",
        "      <td> 400</td>\n",
        "    </tr>\n",
        "    <tr>\n",
        "      <th>37</th>\n",
        "      <td> ENCLB350NUB</td>\n",
        "      <td> barbara-wold:13637</td>\n",
        "      <td> 400</td>\n",
        "    </tr>\n",
        "    <tr>\n",
        "      <th>38</th>\n",
        "      <td> ENCLB257OVB</td>\n",
        "      <td> barbara-wold:13638</td>\n",
        "      <td> 400</td>\n",
        "    </tr>\n",
        "    <tr>\n",
        "      <th>39</th>\n",
        "      <td> ENCLB218HBM</td>\n",
        "      <td> barbara-wold:13639</td>\n",
        "      <td> 425</td>\n",
        "    </tr>\n",
        "    <tr>\n",
        "      <th>40</th>\n",
        "      <td> ENCLB617JJG</td>\n",
        "      <td> barbara-wold:13640</td>\n",
        "      <td> 450</td>\n",
        "    </tr>\n",
        "    <tr>\n",
        "      <th>41</th>\n",
        "      <td> ENCLB876ZIU</td>\n",
        "      <td> barbara-wold:13641</td>\n",
        "      <td> 400</td>\n",
        "    </tr>\n",
        "    <tr>\n",
        "      <th>42</th>\n",
        "      <td> ENCLB552DLJ</td>\n",
        "      <td> barbara-wold:13642</td>\n",
        "      <td> 425</td>\n",
        "    </tr>\n",
        "    <tr>\n",
        "      <th>43</th>\n",
        "      <td> ENCLB509KSM</td>\n",
        "      <td> barbara-wold:13643</td>\n",
        "      <td> 400</td>\n",
        "    </tr>\n",
        "    <tr>\n",
        "      <th>44</th>\n",
        "      <td> ENCLB632SOL</td>\n",
        "      <td> barbara-wold:13644</td>\n",
        "      <td> 400</td>\n",
        "    </tr>\n",
        "    <tr>\n",
        "      <th>45</th>\n",
        "      <td>         NaN</td>\n",
        "      <td>                NaN</td>\n",
        "      <td> NaN</td>\n",
        "    </tr>\n",
        "    <tr>\n",
        "      <th>46</th>\n",
        "      <td>         NaN</td>\n",
        "      <td>                NaN</td>\n",
        "      <td> NaN</td>\n",
        "    </tr>\n",
        "    <tr>\n",
        "      <th>47</th>\n",
        "      <td>         NaN</td>\n",
        "      <td>                NaN</td>\n",
        "      <td> NaN</td>\n",
        "    </tr>\n",
        "    <tr>\n",
        "      <th>48</th>\n",
        "      <td>         NaN</td>\n",
        "      <td>                NaN</td>\n",
        "      <td> NaN</td>\n",
        "    </tr>\n",
        "    <tr>\n",
        "      <th>49</th>\n",
        "      <td> ENCLB678KFT</td>\n",
        "      <td> barbara-wold:13645</td>\n",
        "      <td> 450</td>\n",
        "    </tr>\n",
        "    <tr>\n",
        "      <th>50</th>\n",
        "      <td> ENCLB432EQY</td>\n",
        "      <td> barbara-wold:13646</td>\n",
        "      <td> 450</td>\n",
        "    </tr>\n",
        "    <tr>\n",
        "      <th>51</th>\n",
        "      <td> ENCLB546SWD</td>\n",
        "      <td> barbara-wold:13647</td>\n",
        "      <td> 500</td>\n",
        "    </tr>\n",
        "    <tr>\n",
        "      <th>52</th>\n",
        "      <td> ENCLB151CUN</td>\n",
        "      <td> barbara-wold:13648</td>\n",
        "      <td> 475</td>\n",
        "    </tr>\n",
        "    <tr>\n",
        "      <th>53</th>\n",
        "      <td> ENCLB340FFP</td>\n",
        "      <td> barbara-wold:13649</td>\n",
        "      <td> 450</td>\n",
        "    </tr>\n",
        "    <tr>\n",
        "      <th>54</th>\n",
        "      <td> ENCLB205HHN</td>\n",
        "      <td> barbara-wold:13650</td>\n",
        "      <td> 525</td>\n",
        "    </tr>\n",
        "    <tr>\n",
        "      <th>55</th>\n",
        "      <td> ENCLB452IVF</td>\n",
        "      <td> barbara-wold:13651</td>\n",
        "      <td> 475</td>\n",
        "    </tr>\n",
        "    <tr>\n",
        "      <th>56</th>\n",
        "      <td> ENCLB294BYK</td>\n",
        "      <td> barbara-wold:13652</td>\n",
        "      <td> 475</td>\n",
        "    </tr>\n",
        "    <tr>\n",
        "      <th>57</th>\n",
        "      <td> ENCLB078UJF</td>\n",
        "      <td> barbara-wold:13653</td>\n",
        "      <td> 475</td>\n",
        "    </tr>\n",
        "    <tr>\n",
        "      <th>58</th>\n",
        "      <td> ENCLB614VPZ</td>\n",
        "      <td> barbara-wold:13654</td>\n",
        "      <td> 450</td>\n",
        "    </tr>\n",
        "    <tr>\n",
        "      <th>59</th>\n",
        "      <td> ENCLB611KGC</td>\n",
        "      <td> barbara-wold:13655</td>\n",
        "      <td> 450</td>\n",
        "    </tr>\n",
        "    <tr>\n",
        "      <th></th>\n",
        "      <td>...</td>\n",
        "      <td>...</td>\n",
        "      <td>...</td>\n",
        "    </tr>\n",
        "  </tbody>\n",
        "</table>\n",
        "<p>94 rows \u00d7 3 columns</p>\n",
        "</div>"
       ],
       "metadata": {},
       "output_type": "pyout",
       "prompt_number": 30,
       "text": [
        "      accession       aliases:array  size_range\n",
        "0   ENCLB901PGF  barbara-wold:13619         500\n",
        "1   ENCLB426EUN  barbara-wold:13622         450\n",
        "2   ENCLB392ZIG  barbara-wold:13620         450\n",
        "3   ENCLB036TZY  barbara-wold:13623         450\n",
        "4   ENCLB915IHV  barbara-wold:13665         500\n",
        "5   ENCLB204VYG  barbara-wold:13666         500\n",
        "6   ENCLB386HBI  barbara-wold:13024         450\n",
        "7   ENCLB976CMA  barbara-wold:13025         475\n",
        "8   ENCLB164LQL  barbara-wold:13262         350\n",
        "9   ENCLB621DLJ  barbara-wold:13263         350\n",
        "10  ENCLB928LID  barbara-wold:13347         350\n",
        "11  ENCLB532KHK  barbara-wold:13349         350\n",
        "12  ENCLB036MBQ  barbara-wold:13274         350\n",
        "13  ENCLB284CYK  barbara-wold:13275         450\n",
        "14  ENCLB550GYC  barbara-wold:13300         450\n",
        "15  ENCLB576ZGP  barbara-wold:13301         450\n",
        "16  ENCLB482LEX  barbara-wold:12517         335\n",
        "17  ENCLB898RJN  barbara-wold:12518         333\n",
        "18          NaN                 NaN         NaN\n",
        "19          NaN                 NaN         NaN\n",
        "20          NaN                 NaN         NaN\n",
        "21          NaN                 NaN         NaN\n",
        "22          NaN                 NaN         NaN\n",
        "23          NaN                 NaN         NaN\n",
        "24          NaN                 NaN         NaN\n",
        "25  ENCLB331AUZ  barbara-wold:13625         450\n",
        "26  ENCLB327MTR  barbara-wold:13626         425\n",
        "27  ENCLB228BIT  barbara-wold:13627         450\n",
        "28  ENCLB641KNK  barbara-wold:13628         450\n",
        "29  ENCLB403JBC  barbara-wold:13629         450\n",
        "30  ENCLB804XKW  barbara-wold:13630         450\n",
        "31  ENCLB087SVF  barbara-wold:13631         450\n",
        "32  ENCLB747ZHK  barbara-wold:13632         450\n",
        "33  ENCLB710XHU  barbara-wold:13633         375\n",
        "34  ENCLB211OUD  barbara-wold:13634         475\n",
        "35  ENCLB222MSP  barbara-wold:13635         475\n",
        "36  ENCLB619TYA  barbara-wold:13636         400\n",
        "37  ENCLB350NUB  barbara-wold:13637         400\n",
        "38  ENCLB257OVB  barbara-wold:13638         400\n",
        "39  ENCLB218HBM  barbara-wold:13639         425\n",
        "40  ENCLB617JJG  barbara-wold:13640         450\n",
        "41  ENCLB876ZIU  barbara-wold:13641         400\n",
        "42  ENCLB552DLJ  barbara-wold:13642         425\n",
        "43  ENCLB509KSM  barbara-wold:13643         400\n",
        "44  ENCLB632SOL  barbara-wold:13644         400\n",
        "45          NaN                 NaN         NaN\n",
        "46          NaN                 NaN         NaN\n",
        "47          NaN                 NaN         NaN\n",
        "48          NaN                 NaN         NaN\n",
        "49  ENCLB678KFT  barbara-wold:13645         450\n",
        "50  ENCLB432EQY  barbara-wold:13646         450\n",
        "51  ENCLB546SWD  barbara-wold:13647         500\n",
        "52  ENCLB151CUN  barbara-wold:13648         475\n",
        "53  ENCLB340FFP  barbara-wold:13649         450\n",
        "54  ENCLB205HHN  barbara-wold:13650         525\n",
        "55  ENCLB452IVF  barbara-wold:13651         475\n",
        "56  ENCLB294BYK  barbara-wold:13652         475\n",
        "57  ENCLB078UJF  barbara-wold:13653         475\n",
        "58  ENCLB614VPZ  barbara-wold:13654         450\n",
        "59  ENCLB611KGC  barbara-wold:13655         450\n",
        "            ...                 ...         ...\n",
        "\n",
        "[94 rows x 3 columns]"
       ]
      }
     ],
     "prompt_number": 30
    },
    {
     "cell_type": "code",
     "collapsed": false,
     "input": [
      "# dump it to a local spreadsheet so I can see it before pasting it to google doc.\n",
      "library_sheet.to_excel('/tmp/sizes.xlsx', sheet_name='Sheet1')"
     ],
     "language": "python",
     "metadata": {},
     "outputs": [],
     "prompt_number": 31
    },
    {
     "cell_type": "heading",
     "level": 2,
     "metadata": {},
     "source": [
      "Find Flowcell Info"
     ]
    },
    {
     "cell_type": "code",
     "collapsed": false,
     "input": [
      "%%sparql -m model -c -o flowcells\n",
      "select ?replicate ?wold_library_id ?flowcell_id ?lane_number ?barcode ?read_length ?run_date ?model ?serial_id\n",
      "where {\n",
      "   ?library a htsw:Library ;\n",
      "            htsw:library_id ?wold_library_id ;\n",
      "            htsw:has_lane ?lane ;\n",
      "            htsw:multiplex_index ?barcode ;\n",
      "            library:library ?dcc_library .\n",
      "   ?replicate replicate:library ?dcc_library.\n",
      "   ?lane htsw:flowcell ?flowcell ;\n",
      "         htsw:lane_number ?lane_number .\n",
      "   ?flowcell htsw:read_length ?read_length ;\n",
      "             htsw:flowcell_id ?flowcell_id ;\n",
      "             htsw:date ?run_date ;\n",
      "             htsw:sequenced_by ?sequencer . \n",
      "   ?sequencer htsw:sequencer_model ?model ;\n",
      "              htsw:sequencer_instrument ?serial_id .\n",
      "}\n",
      "order by ?replicate"
     ],
     "language": "python",
     "metadata": {},
     "outputs": [
      {
       "output_type": "stream",
       "stream": "stdout",
       "text": [
        "Found 88 rows.\n"
       ]
      }
     ],
     "prompt_number": 32
    },
    {
     "cell_type": "code",
     "collapsed": false,
     "input": [
      "flowcells"
     ],
     "language": "python",
     "metadata": {},
     "outputs": [
      {
       "html": [
        "<table><tr><td>replicate</td><td>wold_library_id</td><td>flowcell_id</td><td>lane_number</td><td>barcode</td><td>read_length</td><td>run_date</td><td>model</td><td>serial_id</td></tr><tr><td><a href=\"https://www.encodedcc.org/replicates/0298c922-3246-42cc-a1e5-3a6891a9f2cf/\">https://www.encodedcc.org/replicates/0298c922-3246-42cc-a1e5-3a6891a9f2cf/</a></td><td>13263</td><td>D1F15ACXX</td><td>4</td><td>N702-N502:CGTACTAG-CTCTCTAT</td><td>100</td><td>2012-10-15T09:15:57</td><td>Illumina HiSeq 2000</td><td>HWI-ST0787</td></tr><tr><td><a href=\"https://www.encodedcc.org/replicates/19642979-cf12-480e-b8d7-c77854f935bf/\">https://www.encodedcc.org/replicates/19642979-cf12-480e-b8d7-c77854f935bf/</a></td><td>13286</td><td>D1EWHACXX</td><td>6</td><td>N703-N501:AGGCAGAA-TAGATCGC</td><td>100</td><td>2012-10-26T08:09:25</td><td>Illumina HiSeq 2000</td><td>HWI-ST0787</td></tr><tr><td><a href=\"https://www.encodedcc.org/replicates/196c1f72-94e7-435b-8a3f-657c5fb12fb3/\">https://www.encodedcc.org/replicates/196c1f72-94e7-435b-8a3f-657c5fb12fb3/</a></td><td>13643</td><td>D1THKACXX</td><td>6</td><td>N707-N503:CTCTCTAC-TATCCTCT</td><td>100</td><td>2013-04-16T12:18:49</td><td>Illumina HiSeq 2000</td><td>HWI-ST0787</td></tr><tr><td><a href=\"https://www.encodedcc.org/replicates/1d65918e-68cc-4b6b-aafd-d12e51dfc084/\">https://www.encodedcc.org/replicates/1d65918e-68cc-4b6b-aafd-d12e51dfc084/</a></td><td>13641</td><td>D1THKACXX</td><td>6</td><td>N705-N501:GGACTCCT-TAGATCGC</td><td>100</td><td>2013-04-16T12:18:49</td><td>Illumina HiSeq 2000</td><td>HWI-ST0787</td></tr><tr><td><a href=\"https://www.encodedcc.org/replicates/1f7d9532-47ee-440d-b87f-a90fec051c4a/\">https://www.encodedcc.org/replicates/1f7d9532-47ee-440d-b87f-a90fec051c4a/</a></td><td>13349</td><td>H8U69ADXX</td><td>1</td><td>N706-N503:TAGGCATG-TATCCTCT</td><td>100</td><td>2014-02-26T17:19:49</td><td>Illumina HiSeq 2500</td><td>SN787</td></tr><tr><td><a href=\"https://www.encodedcc.org/replicates/1f7d9532-47ee-440d-b87f-a90fec051c4a/\">https://www.encodedcc.org/replicates/1f7d9532-47ee-440d-b87f-a90fec051c4a/</a></td><td>13349</td><td>D1GMCACXX</td><td>3</td><td>N706-N503:TAGGCATG-TATCCTCT</td><td>100</td><td>2012-11-28T12:07:43</td><td>Illumina HiSeq 2000</td><td>HWI-ST0787</td></tr><tr><td><a href=\"https://www.encodedcc.org/replicates/257862d6-308f-470e-ab7b-08de49a2065b/\">https://www.encodedcc.org/replicates/257862d6-308f-470e-ab7b-08de49a2065b/</a></td><td>13297</td><td>D1EWHACXX</td><td>8</td><td>N705-N504:GGACTCCT-AGAGTAGA</td><td>100</td><td>2012-10-26T08:09:25</td><td>Illumina HiSeq 2000</td><td>HWI-ST0787</td></tr><tr><td><a href=\"https://www.encodedcc.org/replicates/27074c49-d6c5-4621-95f3-3f27c19e3da8/\">https://www.encodedcc.org/replicates/27074c49-d6c5-4621-95f3-3f27c19e3da8/</a></td><td>13274</td><td>D1EWHACXX</td><td>3</td><td>N701-N503:TAAGGCGA-TATCCTCT</td><td>100</td><td>2012-10-26T08:09:25</td><td>Illumina HiSeq 2000</td><td>HWI-ST0787</td></tr><tr><td><a href=\"https://www.encodedcc.org/replicates/2a93e841-5127-4ad9-aa80-17db747293f9/\">https://www.encodedcc.org/replicates/2a93e841-5127-4ad9-aa80-17db747293f9/</a></td><td>13663</td><td>D1THKACXX</td><td>8</td><td>N703-N507:AGGCAGAA-AAGGAGTA</td><td>100</td><td>2013-04-16T12:18:49</td><td>Illumina HiSeq 2000</td><td>HWI-ST0787</td></tr><tr><td><a href=\"https://www.encodedcc.org/replicates/2b518f52-ee1a-4ef8-96bb-1e151b467111/\">https://www.encodedcc.org/replicates/2b518f52-ee1a-4ef8-96bb-1e151b467111/</a></td><td>13298</td><td>D1EWHACXX</td><td>8</td><td>N706-N501:TAGGCATG-TAGATCGC</td><td>100</td><td>2012-10-26T08:09:25</td><td>Illumina HiSeq 2000</td><td>HWI-ST0787</td></tr><tr><td><a href=\"https://www.encodedcc.org/replicates/3069d710-7da5-4fb1-8c56-2299a4103b36/\">https://www.encodedcc.org/replicates/3069d710-7da5-4fb1-8c56-2299a4103b36/</a></td><td>13628</td><td>D1THKACXX</td><td>5</td><td>N704-N504:TCCTGAGC-AGAGTAGA</td><td>100</td><td>2013-04-16T12:18:49</td><td>Illumina HiSeq 2000</td><td>HWI-ST0787</td></tr><tr><td><a href=\"https://www.encodedcc.org/replicates/330407b2-f397-4db4-9076-c6b933dc0388/\">https://www.encodedcc.org/replicates/330407b2-f397-4db4-9076-c6b933dc0388/</a></td><td>13642</td><td>D1THKACXX</td><td>6</td><td>N706-N502:TAGGCATG-CTCTCTAT</td><td>100</td><td>2013-04-16T12:18:49</td><td>Illumina HiSeq 2000</td><td>HWI-ST0787</td></tr><tr><td><a href=\"https://www.encodedcc.org/replicates/348b9893-1289-4ee3-be27-3c20124935ff/\">https://www.encodedcc.org/replicates/348b9893-1289-4ee3-be27-3c20124935ff/</a></td><td>13627</td><td>D1THKACXX</td><td>4</td><td>N703-N503:AGGCAGAA-TATCCTCT</td><td>100</td><td>2013-04-16T12:18:49</td><td>Illumina HiSeq 2000</td><td>HWI-ST0787</td></tr><tr><td><a href=\"https://www.encodedcc.org/replicates/361a6356-c4fc-4ea3-b96b-f84379f0e154/\">https://www.encodedcc.org/replicates/361a6356-c4fc-4ea3-b96b-f84379f0e154/</a></td><td>13619</td><td>H8U69ADXX</td><td>1</td><td>N706-N506:TAGGCATG-ACTGCATA</td><td>100</td><td>2014-02-26T17:19:49</td><td>Illumina HiSeq 2500</td><td>SN787</td></tr><tr><td><a href=\"https://www.encodedcc.org/replicates/361a6356-c4fc-4ea3-b96b-f84379f0e154/\">https://www.encodedcc.org/replicates/361a6356-c4fc-4ea3-b96b-f84379f0e154/</a></td><td>13619</td><td>D1THKACXX</td><td>4</td><td>N706-N506:TAGGCATG-ACTGCATA</td><td>100</td><td>2013-04-16T12:18:49</td><td>Illumina HiSeq 2000</td><td>HWI-ST0787</td></tr><tr><td><a href=\"https://www.encodedcc.org/replicates/3994fd7b-6389-4f31-8540-8c7716fd35a6/\">https://www.encodedcc.org/replicates/3994fd7b-6389-4f31-8540-8c7716fd35a6/</a></td><td>13652</td><td>D1THKACXX</td><td>7</td><td>N704-N504:TCCTGAGC-AGAGTAGA</td><td>100</td><td>2013-04-16T12:18:49</td><td>Illumina HiSeq 2000</td><td>HWI-ST0787</td></tr><tr><td><a href=\"https://www.encodedcc.org/replicates/3bdd3683-d267-498f-b803-8c3487dd83db/\">https://www.encodedcc.org/replicates/3bdd3683-d267-498f-b803-8c3487dd83db/</a></td><td>13289</td><td>D1EWHACXX</td><td>7</td><td>N703-N504:AGGCAGAA-AGAGTAGA</td><td>100</td><td>2012-10-26T08:09:25</td><td>Illumina HiSeq 2000</td><td>HWI-ST0787</td></tr><tr><td><a href=\"https://www.encodedcc.org/replicates/3e4ffbb5-9517-498d-a9c5-dae53c9c56a4/\">https://www.encodedcc.org/replicates/3e4ffbb5-9517-498d-a9c5-dae53c9c56a4/</a></td><td>13633</td><td>D1THKACXX</td><td>5</td><td>N709-N501:GCTACGCT-TAGATCGC</td><td>100</td><td>2013-04-16T12:18:49</td><td>Illumina HiSeq 2000</td><td>HWI-ST0787</td></tr><tr><td><a href=\"https://www.encodedcc.org/replicates/403ca42c-a0fa-4bd0-8358-b2b825bfcb14/\">https://www.encodedcc.org/replicates/403ca42c-a0fa-4bd0-8358-b2b825bfcb14/</a></td><td>13299</td><td>D1EWHACXX</td><td>7</td><td>N706-N502:TAGGCATG-CTCTCTAT</td><td>100</td><td>2012-10-26T08:09:25</td><td>Illumina HiSeq 2000</td><td>HWI-ST0787</td></tr><tr><td><a href=\"https://www.encodedcc.org/replicates/41a44b81-7bdf-4106-9a66-d4d0a073c183/\">https://www.encodedcc.org/replicates/41a44b81-7bdf-4106-9a66-d4d0a073c183/</a></td><td>12517</td><td>D0549ACXX</td><td>1</td><td>3:TTAGGC</td><td>101</td><td>2011-11-18T11:56:02</td><td>Illumina HiSeq 2000</td><td>HWI-ST0787</td></tr><tr><td><a href=\"https://www.encodedcc.org/replicates/42603f9e-4469-4c88-b060-52d8dc86530f/\">https://www.encodedcc.org/replicates/42603f9e-4469-4c88-b060-52d8dc86530f/</a></td><td>13284</td><td>D1EWHACXX</td><td>7</td><td>N702-N503:CGTACTAG-TATCCTCT</td><td>100</td><td>2012-10-26T08:09:25</td><td>Illumina HiSeq 2000</td><td>HWI-ST0787</td></tr><tr><td><a href=\"https://www.encodedcc.org/replicates/43b2c55d-2365-4156-be6c-6cc2d10398e2/\">https://www.encodedcc.org/replicates/43b2c55d-2365-4156-be6c-6cc2d10398e2/</a></td><td>13646</td><td>D1THKACXX</td><td>6</td><td>N710-N506:CGAGGCTG-ACTGCATA</td><td>100</td><td>2013-04-16T12:18:49</td><td>Illumina HiSeq 2000</td><td>HWI-ST0787</td></tr><tr><td><a href=\"https://www.encodedcc.org/replicates/43d8d197-237f-4575-b238-f4209737f36c/\">https://www.encodedcc.org/replicates/43d8d197-237f-4575-b238-f4209737f36c/</a></td><td>13287</td><td>D1EWHACXX</td><td>5</td><td>N703-N502:AGGCAGAA-CTCTCTAT</td><td>100</td><td>2012-10-26T08:09:25</td><td>Illumina HiSeq 2000</td><td>HWI-ST0787</td></tr><tr><td><a href=\"https://www.encodedcc.org/replicates/46b61dbd-d1de-4e84-9a43-b1b041470a83/\">https://www.encodedcc.org/replicates/46b61dbd-d1de-4e84-9a43-b1b041470a83/</a></td><td>13635</td><td>D1THKACXX</td><td>5</td><td>N711-N503:AAGAGGCA-TATCCTCT</td><td>100</td><td>2013-04-16T12:18:49</td><td>Illumina HiSeq 2000</td><td>HWI-ST0787</td></tr><tr><td><a href=\"https://www.encodedcc.org/replicates/486de2ac-1c91-4243-8721-5f69ea3b2374/\">https://www.encodedcc.org/replicates/486de2ac-1c91-4243-8721-5f69ea3b2374/</a></td><td>13282</td><td>D1EWHACXX</td><td>5</td><td>N702-N501:CGTACTAG-TAGATCGC</td><td>100</td><td>2012-10-26T08:09:25</td><td>Illumina HiSeq 2000</td><td>HWI-ST0787</td></tr><tr><td><a href=\"https://www.encodedcc.org/replicates/4ee5db4b-6b16-4041-95e9-6803bfd4692b/\">https://www.encodedcc.org/replicates/4ee5db4b-6b16-4041-95e9-6803bfd4692b/</a></td><td>13654</td><td>D1THKACXX</td><td>7</td><td>N706-N506:TAGGCATG-ACTGCATA</td><td>100</td><td>2013-04-16T12:18:49</td><td>Illumina HiSeq 2000</td><td>HWI-ST0787</td></tr><tr><td><a href=\"https://www.encodedcc.org/replicates/527ed100-7355-41af-aa54-49a45a027375/\">https://www.encodedcc.org/replicates/527ed100-7355-41af-aa54-49a45a027375/</a></td><td>13620</td><td>H8U69ADXX</td><td>1</td><td>N710-N506:CGAGGCTG-ACTGCATA</td><td>100</td><td>2014-02-26T17:19:49</td><td>Illumina HiSeq 2500</td><td>SN787</td></tr><tr><td><a href=\"https://www.encodedcc.org/replicates/527ed100-7355-41af-aa54-49a45a027375/\">https://www.encodedcc.org/replicates/527ed100-7355-41af-aa54-49a45a027375/</a></td><td>13620</td><td>D1THKACXX</td><td>4</td><td>N710-N506:CGAGGCTG-ACTGCATA</td><td>100</td><td>2013-04-16T12:18:49</td><td>Illumina HiSeq 2000</td><td>HWI-ST0787</td></tr><tr><td><a href=\"https://www.encodedcc.org/replicates/530c40a4-10bb-47f3-a2b7-2d502ac1c166/\">https://www.encodedcc.org/replicates/530c40a4-10bb-47f3-a2b7-2d502ac1c166/</a></td><td>13631</td><td>D1THKACXX</td><td>5</td><td>N707-N507:CTCTCTAC-AAGGAGTA</td><td>100</td><td>2013-04-16T12:18:49</td><td>Illumina HiSeq 2000</td><td>HWI-ST0787</td></tr><tr><td><a href=\"https://www.encodedcc.org/replicates/5448b775-79a5-45d9-8802-53d56a22ec35/\">https://www.encodedcc.org/replicates/5448b775-79a5-45d9-8802-53d56a22ec35/</a></td><td>13666</td><td>H8U69ADXX</td><td>1</td><td>N701-N505:TAAGGCGA-GTAAGGAG</td><td>100</td><td>2014-02-26T17:19:49</td><td>Illumina HiSeq 2500</td><td>SN787</td></tr><tr><td><a href=\"https://www.encodedcc.org/replicates/5448b775-79a5-45d9-8802-53d56a22ec35/\">https://www.encodedcc.org/replicates/5448b775-79a5-45d9-8802-53d56a22ec35/</a></td><td>13666</td><td>D1THKACXX</td><td>7</td><td>N701-N505:TAAGGCGA-GTAAGGAG</td><td>100</td><td>2013-04-16T12:18:49</td><td>Illumina HiSeq 2000</td><td>HWI-ST0787</td></tr><tr><td><a href=\"https://www.encodedcc.org/replicates/5553c26a-6fe4-476f-b7c5-6f00e5b3ffd1/\">https://www.encodedcc.org/replicates/5553c26a-6fe4-476f-b7c5-6f00e5b3ffd1/</a></td><td>13648</td><td>D1THKACXX</td><td>8</td><td>N712-N508:GTAGAGGA-CTAAGCCT</td><td>100</td><td>2013-04-16T12:18:49</td><td>Illumina HiSeq 2000</td><td>HWI-ST0787</td></tr><tr><td><a href=\"https://www.encodedcc.org/replicates/562d9255-086f-4a2f-84af-c05cc7fc6336/\">https://www.encodedcc.org/replicates/562d9255-086f-4a2f-84af-c05cc7fc6336/</a></td><td>13290</td><td>D1EWHACXX</td><td>5</td><td>N704-N501:TCCTGAGC-TAGATCGC</td><td>100</td><td>2012-10-26T08:09:25</td><td>Illumina HiSeq 2000</td><td>HWI-ST0787</td></tr><tr><td><a href=\"https://www.encodedcc.org/replicates/5880021f-5c90-4f3f-a4d1-8d65fbbeec1d/\">https://www.encodedcc.org/replicates/5880021f-5c90-4f3f-a4d1-8d65fbbeec1d/</a></td><td>13275</td><td>D1EWHACXX</td><td>3</td><td>N701-N504:TAAGGCGA-AGAGTAGA</td><td>100</td><td>2012-10-26T08:09:25</td><td>Illumina HiSeq 2000</td><td>HWI-ST0787</td></tr><tr><td><a href=\"https://www.encodedcc.org/replicates/5c1980ef-3e95-46c1-a8ff-0b383a5b1652/\">https://www.encodedcc.org/replicates/5c1980ef-3e95-46c1-a8ff-0b383a5b1652/</a></td><td>13292</td><td>D1EWHACXX</td><td>8</td><td>N704-N503:TCCTGAGC-TATCCTCT</td><td>100</td><td>2012-10-26T08:09:25</td><td>Illumina HiSeq 2000</td><td>HWI-ST0787</td></tr><tr><td><a href=\"https://www.encodedcc.org/replicates/62759d3d-66d0-4e33-abbc-eea77a8af569/\">https://www.encodedcc.org/replicates/62759d3d-66d0-4e33-abbc-eea77a8af569/</a></td><td>13649</td><td>D1THKACXX</td><td>8</td><td>N701-N501:TAAGGCGA-TAGATCGC</td><td>100</td><td>2013-04-16T12:18:49</td><td>Illumina HiSeq 2000</td><td>HWI-ST0787</td></tr><tr><td><a href=\"https://www.encodedcc.org/replicates/6462ce98-b1f5-4621-ae8b-9b57e51e716a/\">https://www.encodedcc.org/replicates/6462ce98-b1f5-4621-ae8b-9b57e51e716a/</a></td><td>13665</td><td>H8U69ADXX</td><td>1</td><td>N712-N504:GTAGAGGA-AGAGTAGA</td><td>100</td><td>2014-02-26T17:19:49</td><td>Illumina HiSeq 2500</td><td>SN787</td></tr><tr><td><a href=\"https://www.encodedcc.org/replicates/6462ce98-b1f5-4621-ae8b-9b57e51e716a/\">https://www.encodedcc.org/replicates/6462ce98-b1f5-4621-ae8b-9b57e51e716a/</a></td><td>13665</td><td>D1THKACXX</td><td>7</td><td>N712-N504:GTAGAGGA-AGAGTAGA</td><td>100</td><td>2013-04-16T12:18:49</td><td>Illumina HiSeq 2000</td><td>HWI-ST0787</td></tr><tr><td><a href=\"https://www.encodedcc.org/replicates/65cda4ef-70ad-46a6-9ed7-3371627826ce/\">https://www.encodedcc.org/replicates/65cda4ef-70ad-46a6-9ed7-3371627826ce/</a></td><td>13291</td><td>D1EWHACXX</td><td>6</td><td>N704-N502:TCCTGAGC-CTCTCTAT</td><td>100</td><td>2012-10-26T08:09:25</td><td>Illumina HiSeq 2000</td><td>HWI-ST0787</td></tr><tr><td><a href=\"https://www.encodedcc.org/replicates/65e08de6-5f98-47bb-a93d-2fc5c14cf5f8/\">https://www.encodedcc.org/replicates/65e08de6-5f98-47bb-a93d-2fc5c14cf5f8/</a></td><td>13300</td><td>D1EWHACXX</td><td>2</td><td>N706-N503:TAGGCATG-TATCCTCT</td><td>100</td><td>2012-10-26T08:09:25</td><td>Illumina HiSeq 2000</td><td>HWI-ST0787</td></tr><tr><td><a href=\"https://www.encodedcc.org/replicates/66f56140-2c96-4ee9-b61c-9676603df615/\">https://www.encodedcc.org/replicates/66f56140-2c96-4ee9-b61c-9676603df615/</a></td><td>13630</td><td>D1THKACXX</td><td>5</td><td>N706-N506:TAGGCATG-ACTGCATA</td><td>100</td><td>2013-04-16T12:18:49</td><td>Illumina HiSeq 2000</td><td>HWI-ST0787</td></tr><tr><td><a href=\"https://www.encodedcc.org/replicates/67d8a11d-6cc1-4ac3-b27b-0cafbdf50994/\">https://www.encodedcc.org/replicates/67d8a11d-6cc1-4ac3-b27b-0cafbdf50994/</a></td><td>13295</td><td>D1EWHACXX</td><td>5</td><td>N705-N502:GGACTCCT-CTCTCTAT</td><td>100</td><td>2012-10-26T08:09:25</td><td>Illumina HiSeq 2000</td><td>HWI-ST0787</td></tr><tr><td><a href=\"https://www.encodedcc.org/replicates/6b816696-9533-4755-b226-dec199846a66/\">https://www.encodedcc.org/replicates/6b816696-9533-4755-b226-dec199846a66/</a></td><td>13283</td><td>D1EWHACXX</td><td>6</td><td>N702-N502:CGTACTAG-CTCTCTAT</td><td>100</td><td>2012-10-26T08:09:25</td><td>Illumina HiSeq 2000</td><td>HWI-ST0787</td></tr><tr><td><a href=\"https://www.encodedcc.org/replicates/6e652bb1-43ab-46ab-be52-370b7e2a9255/\">https://www.encodedcc.org/replicates/6e652bb1-43ab-46ab-be52-370b7e2a9255/</a></td><td>13280</td><td>D1EWHACXX</td><td>5</td><td>N701-N503:TAAGGCGA-TATCCTCT</td><td>100</td><td>2012-10-26T08:09:25</td><td>Illumina HiSeq 2000</td><td>HWI-ST0787</td></tr><tr><td><a href=\"https://www.encodedcc.org/replicates/73712463-7410-461c-b4aa-899a05cbf379/\">https://www.encodedcc.org/replicates/73712463-7410-461c-b4aa-899a05cbf379/</a></td><td>13281</td><td>D1EWHACXX</td><td>6</td><td>N701-N504:TAAGGCGA-AGAGTAGA</td><td>100</td><td>2012-10-26T08:09:25</td><td>Illumina HiSeq 2000</td><td>HWI-ST0787</td></tr><tr><td><a href=\"https://www.encodedcc.org/replicates/75c36130-50ae-474d-8186-7351534259db/\">https://www.encodedcc.org/replicates/75c36130-50ae-474d-8186-7351534259db/</a></td><td>13296</td><td>D1EWHACXX</td><td>7</td><td>N705-N503:GGACTCCT-TATCCTCT</td><td>100</td><td>2012-10-26T08:09:25</td><td>Illumina HiSeq 2000</td><td>HWI-ST0787</td></tr><tr><td><a href=\"https://www.encodedcc.org/replicates/78a4eb40-293d-47c2-84d3-ff200d781828/\">https://www.encodedcc.org/replicates/78a4eb40-293d-47c2-84d3-ff200d781828/</a></td><td>13288</td><td>D1EWHACXX</td><td>8</td><td>N703-N503:AGGCAGAA-TATCCTCT</td><td>100</td><td>2012-10-26T08:09:25</td><td>Illumina HiSeq 2000</td><td>HWI-ST0787</td></tr><tr><td><a href=\"https://www.encodedcc.org/replicates/79977fa2-3684-4617-a13e-ad9a44e08978/\">https://www.encodedcc.org/replicates/79977fa2-3684-4617-a13e-ad9a44e08978/</a></td><td>13644</td><td>D1THKACXX</td><td>6</td><td>N708-N504:CAGAGAGG-AGAGTAGA</td><td>100</td><td>2013-04-16T12:18:49</td><td>Illumina HiSeq 2000</td><td>HWI-ST0787</td></tr><tr><td><a href=\"https://www.encodedcc.org/replicates/7a6315c9-7f24-4500-bb32-078cd293b2c1/\">https://www.encodedcc.org/replicates/7a6315c9-7f24-4500-bb32-078cd293b2c1/</a></td><td>13657</td><td>D1THKACXX</td><td>7</td><td>N709-N501:GCTACGCT-TAGATCGC</td><td>100</td><td>2013-04-16T12:18:49</td><td>Illumina HiSeq 2000</td><td>HWI-ST0787</td></tr><tr><td><a href=\"https://www.encodedcc.org/replicates/7c672616-55f6-406e-91c4-bafaa678ee20/\">https://www.encodedcc.org/replicates/7c672616-55f6-406e-91c4-bafaa678ee20/</a></td><td>13636</td><td>D1THKACXX</td><td>5</td><td>N712-N504:GTAGAGGA-AGAGTAGA</td><td>100</td><td>2013-04-16T12:18:49</td><td>Illumina HiSeq 2000</td><td>HWI-ST0787</td></tr><tr><td><a href=\"https://www.encodedcc.org/replicates/7d38f099-de84-455b-8be4-2add64adf0e8/\">https://www.encodedcc.org/replicates/7d38f099-de84-455b-8be4-2add64adf0e8/</a></td><td>13653</td><td>D1THKACXX</td><td>7</td><td>N705-N505:GGACTCCT-GTAAGGAG</td><td>100</td><td>2013-04-16T12:18:49</td><td>Illumina HiSeq 2000</td><td>HWI-ST0787</td></tr><tr><td><a href=\"https://www.encodedcc.org/replicates/7e4fb15a-e611-4bd7-ad74-4a451999fc31/\">https://www.encodedcc.org/replicates/7e4fb15a-e611-4bd7-ad74-4a451999fc31/</a></td><td>13024</td><td>H8U69ADXX</td><td>1</td><td>N706-N502:TAGGCATG-CTCTCTAT</td><td>100</td><td>2014-02-26T17:19:49</td><td>Illumina HiSeq 2500</td><td>SN787</td></tr><tr><td><a href=\"https://www.encodedcc.org/replicates/7e4fb15a-e611-4bd7-ad74-4a451999fc31/\">https://www.encodedcc.org/replicates/7e4fb15a-e611-4bd7-ad74-4a451999fc31/</a></td><td>13024</td><td>D15ACACXX</td><td>3</td><td>N706-N502:TAGGCATG-CTCTCTAT</td><td>100</td><td>2012-07-26T07:57:06</td><td>Illumina HiSeq 2000</td><td>HWI-ST0787</td></tr><tr><td><a href=\"https://www.encodedcc.org/replicates/88eea9d1-ec8a-42ef-91e7-c1bdb2c9e0db/\">https://www.encodedcc.org/replicates/88eea9d1-ec8a-42ef-91e7-c1bdb2c9e0db/</a></td><td>13625</td><td>D1THKACXX</td><td>4</td><td>N701-N501:TAAGGCGA-TAGATCGC</td><td>100</td><td>2013-04-16T12:18:49</td><td>Illumina HiSeq 2000</td><td>HWI-ST0787</td></tr><tr><td><a href=\"https://www.encodedcc.org/replicates/89727475-8644-43f3-83ca-324d4aa94887/\">https://www.encodedcc.org/replicates/89727475-8644-43f3-83ca-324d4aa94887/</a></td><td>13645</td><td>D1THKACXX</td><td>6</td><td>N709-N505:GCTACGCT-GTAAGGAG</td><td>100</td><td>2013-04-16T12:18:49</td><td>Illumina HiSeq 2000</td><td>HWI-ST0787</td></tr><tr><td><a href=\"https://www.encodedcc.org/replicates/91dd98d7-808c-4435-8331-f63e116e6d4f/\">https://www.encodedcc.org/replicates/91dd98d7-808c-4435-8331-f63e116e6d4f/</a></td><td>13650</td><td>D1THKACXX</td><td>8</td><td>N702-N502:CGTACTAG-CTCTCTAT</td><td>100</td><td>2013-04-16T12:18:49</td><td>Illumina HiSeq 2000</td><td>HWI-ST0787</td></tr><tr><td><a href=\"https://www.encodedcc.org/replicates/968cfb33-96d7-41e2-972a-67600d309438/\">https://www.encodedcc.org/replicates/968cfb33-96d7-41e2-972a-67600d309438/</a></td><td>13629</td><td>D1THKACXX</td><td>5</td><td>N705-N505:GGACTCCT-GTAAGGAG</td><td>100</td><td>2013-04-16T12:18:49</td><td>Illumina HiSeq 2000</td><td>HWI-ST0787</td></tr><tr><td><a href=\"https://www.encodedcc.org/replicates/972a9e58-9623-49dd-86b3-75411147b163/\">https://www.encodedcc.org/replicates/972a9e58-9623-49dd-86b3-75411147b163/</a></td><td>13301</td><td>D1EWHACXX</td><td>2</td><td>N706-N504:TAGGCATG-AGAGTAGA</td><td>100</td><td>2012-10-26T08:09:25</td><td>Illumina HiSeq 2000</td><td>HWI-ST0787</td></tr><tr><td><a href=\"https://www.encodedcc.org/replicates/9c95d61a-5dc8-4ea1-834c-f5777f50ef3b/\">https://www.encodedcc.org/replicates/9c95d61a-5dc8-4ea1-834c-f5777f50ef3b/</a></td><td>13285</td><td>D1EWHACXX</td><td>8</td><td>N702-N504:CGTACTAG-AGAGTAGA</td><td>100</td><td>2012-10-26T08:09:25</td><td>Illumina HiSeq 2000</td><td>HWI-ST0787</td></tr><tr><td><a href=\"https://www.encodedcc.org/replicates/a64548d4-1759-4b28-ba0e-bb53461c75de/\">https://www.encodedcc.org/replicates/a64548d4-1759-4b28-ba0e-bb53461c75de/</a></td><td>13632</td><td>D1THKACXX</td><td>5</td><td>N708-N508:CAGAGAGG-CTAAGCCT</td><td>100</td><td>2013-04-16T12:18:49</td><td>Illumina HiSeq 2000</td><td>HWI-ST0787</td></tr><tr><td><a href=\"https://www.encodedcc.org/replicates/abed0784-1882-4679-b234-73ce6cc7ca84/\">https://www.encodedcc.org/replicates/abed0784-1882-4679-b234-73ce6cc7ca84/</a></td><td>13634</td><td>D1THKACXX</td><td>5</td><td>N710-N502:CGAGGCTG-CTCTCTAT</td><td>100</td><td>2013-04-16T12:18:49</td><td>Illumina HiSeq 2000</td><td>HWI-ST0787</td></tr><tr><td><a href=\"https://www.encodedcc.org/replicates/b48f6b5d-fec5-4706-93e4-681a687dd52c/\">https://www.encodedcc.org/replicates/b48f6b5d-fec5-4706-93e4-681a687dd52c/</a></td><td>13662</td><td>D1THKACXX</td><td>8</td><td>N702-N506:CGTACTAG-ACTGCATA</td><td>100</td><td>2013-04-16T12:18:49</td><td>Illumina HiSeq 2000</td><td>HWI-ST0787</td></tr><tr><td><a href=\"https://www.encodedcc.org/replicates/c0cd56b8-9750-4b85-839d-080558ea9d4e/\">https://www.encodedcc.org/replicates/c0cd56b8-9750-4b85-839d-080558ea9d4e/</a></td><td>13640</td><td>D1THKACXX</td><td>6</td><td>N704-N508:TCCTGAGC-CTAAGCCT</td><td>100</td><td>2013-04-16T12:18:49</td><td>Illumina HiSeq 2000</td><td>HWI-ST0787</td></tr><tr><td><a href=\"https://www.encodedcc.org/replicates/c1f98c06-5919-4430-b9f3-dfa5cbf33bff/\">https://www.encodedcc.org/replicates/c1f98c06-5919-4430-b9f3-dfa5cbf33bff/</a></td><td>13659</td><td>D1THKACXX</td><td>8</td><td>N711-N503:AAGAGGCA-TATCCTCT</td><td>100</td><td>2013-04-16T12:18:49</td><td>Illumina HiSeq 2000</td><td>HWI-ST0787</td></tr><tr><td><a href=\"https://www.encodedcc.org/replicates/c2c82f15-e2bd-4b95-b40d-3c52f4e0d5a5/\">https://www.encodedcc.org/replicates/c2c82f15-e2bd-4b95-b40d-3c52f4e0d5a5/</a></td><td>13660</td><td>D1THKACXX</td><td>8</td><td>N712-N504:GTAGAGGA-AGAGTAGA</td><td>100</td><td>2013-04-16T12:18:49</td><td>Illumina HiSeq 2000</td><td>HWI-ST0787</td></tr><tr><td><a href=\"https://www.encodedcc.org/replicates/c38efa27-8176-4c6d-9f52-2edf283723b1/\">https://www.encodedcc.org/replicates/c38efa27-8176-4c6d-9f52-2edf283723b1/</a></td><td>13637</td><td>D1THKACXX</td><td>5</td><td>N701-N505:TAAGGCGA-GTAAGGAG</td><td>100</td><td>2013-04-16T12:18:49</td><td>Illumina HiSeq 2000</td><td>HWI-ST0787</td></tr><tr><td><a href=\"https://www.encodedcc.org/replicates/c67bca23-4585-45e8-8132-c882407072ea/\">https://www.encodedcc.org/replicates/c67bca23-4585-45e8-8132-c882407072ea/</a></td><td>13664</td><td>D1THKACXX</td><td>8</td><td>N704-N508:TCCTGAGC-CTAAGCCT</td><td>100</td><td>2013-04-16T12:18:49</td><td>Illumina HiSeq 2000</td><td>HWI-ST0787</td></tr><tr><td><a href=\"https://www.encodedcc.org/replicates/cb39d1c5-d074-4bbe-a21a-ab3ab3ceaef2/\">https://www.encodedcc.org/replicates/cb39d1c5-d074-4bbe-a21a-ab3ab3ceaef2/</a></td><td>13655</td><td>D1THKACXX</td><td>7</td><td>N707-N507:CTCTCTAC-AAGGAGTA</td><td>100</td><td>2013-04-16T12:18:49</td><td>Illumina HiSeq 2000</td><td>HWI-ST0787</td></tr><tr><td><a href=\"https://www.encodedcc.org/replicates/ccd869e9-abaf-4dfc-aa2f-04ac4253271a/\">https://www.encodedcc.org/replicates/ccd869e9-abaf-4dfc-aa2f-04ac4253271a/</a></td><td>13639</td><td>D1THKACXX</td><td>6</td><td>N703-N507:AGGCAGAA-AAGGAGTA</td><td>100</td><td>2013-04-16T12:18:49</td><td>Illumina HiSeq 2000</td><td>HWI-ST0787</td></tr><tr><td><a href=\"https://www.encodedcc.org/replicates/d23b63f5-c24f-41c5-b81b-d02ead7032c7/\">https://www.encodedcc.org/replicates/d23b63f5-c24f-41c5-b81b-d02ead7032c7/</a></td><td>13656</td><td>D1THKACXX</td><td>7</td><td>N708-N508:CAGAGAGG-CTAAGCCT</td><td>100</td><td>2013-04-16T12:18:49</td><td>Illumina HiSeq 2000</td><td>HWI-ST0787</td></tr><tr><td><a href=\"https://www.encodedcc.org/replicates/d3e41130-d2d7-4653-8c43-022a20711dbf/\">https://www.encodedcc.org/replicates/d3e41130-d2d7-4653-8c43-022a20711dbf/</a></td><td>13622</td><td>H8U69ADXX</td><td>1</td><td>N709-N501:GCTACGCT-TAGATCGC</td><td>100</td><td>2014-02-26T17:19:49</td><td>Illumina HiSeq 2500</td><td>SN787</td></tr><tr><td><a href=\"https://www.encodedcc.org/replicates/d3e41130-d2d7-4653-8c43-022a20711dbf/\">https://www.encodedcc.org/replicates/d3e41130-d2d7-4653-8c43-022a20711dbf/</a></td><td>13622</td><td>D1THKACXX</td><td>4</td><td>N709-N501:GCTACGCT-TAGATCGC</td><td>100</td><td>2013-04-16T12:18:49</td><td>Illumina HiSeq 2000</td><td>HWI-ST0787</td></tr><tr><td><a href=\"https://www.encodedcc.org/replicates/d6961b1e-7f12-48ab-b4e9-faf514e472e2/\">https://www.encodedcc.org/replicates/d6961b1e-7f12-48ab-b4e9-faf514e472e2/</a></td><td>13294</td><td>D1EWHACXX</td><td>6</td><td>N705-N501:GGACTCCT-TAGATCGC</td><td>100</td><td>2012-10-26T08:09:25</td><td>Illumina HiSeq 2000</td><td>HWI-ST0787</td></tr><tr><td><a href=\"https://www.encodedcc.org/replicates/dd4d21d7-71dd-4d1b-aca9-0e0d978791fe/\">https://www.encodedcc.org/replicates/dd4d21d7-71dd-4d1b-aca9-0e0d978791fe/</a></td><td>13661</td><td>D1THKACXX</td><td>8</td><td>N701-N505:TAAGGCGA-GTAAGGAG</td><td>100</td><td>2013-04-16T12:18:49</td><td>Illumina HiSeq 2000</td><td>HWI-ST0787</td></tr><tr><td><a href=\"https://www.encodedcc.org/replicates/dea06505-c58b-4500-a338-a29608c703c9/\">https://www.encodedcc.org/replicates/dea06505-c58b-4500-a338-a29608c703c9/</a></td><td>13025</td><td>H8U69ADXX</td><td>1</td><td>N701-N503:TAAGGCGA-TATCCTCT</td><td>100</td><td>2014-02-26T17:19:49</td><td>Illumina HiSeq 2500</td><td>SN787</td></tr><tr><td><a href=\"https://www.encodedcc.org/replicates/dea06505-c58b-4500-a338-a29608c703c9/\">https://www.encodedcc.org/replicates/dea06505-c58b-4500-a338-a29608c703c9/</a></td><td>13025</td><td>D15ACACXX</td><td>4</td><td>N701-N503:TAAGGCGA-TATCCTCT</td><td>100</td><td>2012-07-26T07:57:06</td><td>Illumina HiSeq 2000</td><td>HWI-ST0787</td></tr><tr><td><a href=\"https://www.encodedcc.org/replicates/dec4dd42-641b-4d0c-b1f6-4de78e815290/\">https://www.encodedcc.org/replicates/dec4dd42-641b-4d0c-b1f6-4de78e815290/</a></td><td>13262</td><td>H8U69ADXX</td><td>1</td><td>N702-N501:CGTACTAG-TAGATCGC</td><td>100</td><td>2014-02-26T17:19:49</td><td>Illumina HiSeq 2500</td><td>SN787</td></tr><tr><td><a href=\"https://www.encodedcc.org/replicates/dec4dd42-641b-4d0c-b1f6-4de78e815290/\">https://www.encodedcc.org/replicates/dec4dd42-641b-4d0c-b1f6-4de78e815290/</a></td><td>13262</td><td>D1F15ACXX</td><td>3</td><td>N702-N501:CGTACTAG-TAGATCGC</td><td>100</td><td>2012-10-15T09:15:57</td><td>Illumina HiSeq 2000</td><td>HWI-ST0787</td></tr><tr><td><a href=\"https://www.encodedcc.org/replicates/e5bafdab-baf9-4ee2-aa9f-dead91e1f20d/\">https://www.encodedcc.org/replicates/e5bafdab-baf9-4ee2-aa9f-dead91e1f20d/</a></td><td>13623</td><td>H8U69ADXX</td><td>1</td><td>N710-N502:CGAGGCTG-CTCTCTAT</td><td>100</td><td>2014-02-26T17:19:49</td><td>Illumina HiSeq 2500</td><td>SN787</td></tr><tr><td><a href=\"https://www.encodedcc.org/replicates/e5bafdab-baf9-4ee2-aa9f-dead91e1f20d/\">https://www.encodedcc.org/replicates/e5bafdab-baf9-4ee2-aa9f-dead91e1f20d/</a></td><td>13623</td><td>D1THKACXX</td><td>4</td><td>N710-N502:CGAGGCTG-CTCTCTAT</td><td>100</td><td>2013-04-16T12:18:49</td><td>Illumina HiSeq 2000</td><td>HWI-ST0787</td></tr><tr><td><a href=\"https://www.encodedcc.org/replicates/e6baa5e0-2dda-48b4-bd28-0741fb3bf51e/\">https://www.encodedcc.org/replicates/e6baa5e0-2dda-48b4-bd28-0741fb3bf51e/</a></td><td>12518</td><td>D0549ACXX</td><td>2</td><td>4:TGACCA</td><td>101</td><td>2011-11-18T11:56:02</td><td>Illumina HiSeq 2000</td><td>HWI-ST0787</td></tr><tr><td><a href=\"https://www.encodedcc.org/replicates/ea42eae1-f714-46ae-9a10-5d65d7c946d2/\">https://www.encodedcc.org/replicates/ea42eae1-f714-46ae-9a10-5d65d7c946d2/</a></td><td>13651</td><td>D1THKACXX</td><td>7</td><td>N703-N503:AGGCAGAA-TATCCTCT</td><td>100</td><td>2013-04-16T12:18:49</td><td>Illumina HiSeq 2000</td><td>HWI-ST0787</td></tr><tr><td><a href=\"https://www.encodedcc.org/replicates/ea9b8e12-1840-4cdc-abc0-fea9f3df077d/\">https://www.encodedcc.org/replicates/ea9b8e12-1840-4cdc-abc0-fea9f3df077d/</a></td><td>13638</td><td>D1THKACXX</td><td>6</td><td>N702-N506:CGTACTAG-ACTGCATA</td><td>100</td><td>2013-04-16T12:18:49</td><td>Illumina HiSeq 2000</td><td>HWI-ST0787</td></tr><tr><td><a href=\"https://www.encodedcc.org/replicates/ec8e956a-09a7-46cc-96fd-b4dd4154cf68/\">https://www.encodedcc.org/replicates/ec8e956a-09a7-46cc-96fd-b4dd4154cf68/</a></td><td>13647</td><td>D1THKACXX</td><td>6</td><td>N711-N507:AAGAGGCA-AAGGAGTA</td><td>100</td><td>2013-04-16T12:18:49</td><td>Illumina HiSeq 2000</td><td>HWI-ST0787</td></tr><tr><td><a href=\"https://www.encodedcc.org/replicates/f167365c-746f-4446-a81c-a57ed34c3edf/\">https://www.encodedcc.org/replicates/f167365c-746f-4446-a81c-a57ed34c3edf/</a></td><td>13658</td><td>D1THKACXX</td><td>8</td><td>N710-N502:CGAGGCTG-CTCTCTAT</td><td>100</td><td>2013-04-16T12:18:49</td><td>Illumina HiSeq 2000</td><td>HWI-ST0787</td></tr><tr><td><a href=\"https://www.encodedcc.org/replicates/f52c2ee1-351d-485e-866b-c5b97de1c0df/\">https://www.encodedcc.org/replicates/f52c2ee1-351d-485e-866b-c5b97de1c0df/</a></td><td>13626</td><td>D1THKACXX</td><td>4</td><td>N702-N502:CGTACTAG-CTCTCTAT</td><td>100</td><td>2013-04-16T12:18:49</td><td>Illumina HiSeq 2000</td><td>HWI-ST0787</td></tr><tr><td><a href=\"https://www.encodedcc.org/replicates/febdb82e-dd4a-4642-b0f6-424183460834/\">https://www.encodedcc.org/replicates/febdb82e-dd4a-4642-b0f6-424183460834/</a></td><td>13347</td><td>H8U69ADXX</td><td>1</td><td>N704-N503:TCCTGAGC-TATCCTCT</td><td>100</td><td>2014-02-26T17:19:49</td><td>Illumina HiSeq 2500</td><td>SN787</td></tr><tr><td><a href=\"https://www.encodedcc.org/replicates/febdb82e-dd4a-4642-b0f6-424183460834/\">https://www.encodedcc.org/replicates/febdb82e-dd4a-4642-b0f6-424183460834/</a></td><td>13347</td><td>D1GMCACXX</td><td>3</td><td>N704-N503:TCCTGAGC-TATCCTCT</td><td>100</td><td>2012-11-28T12:07:43</td><td>Illumina HiSeq 2000</td><td>HWI-ST0787</td></tr></table>"
       ],
       "metadata": {},
       "output_type": "pyout",
       "prompt_number": 33,
       "text": [
        "<rdfmagic.LibRdfResults at 0x7fb80f7088d0>"
       ]
      }
     ],
     "prompt_number": 33
    },
    {
     "cell_type": "markdown",
     "metadata": {},
     "source": [
      "Convert the above matrix into a form useful for patching at the DCC."
     ]
    },
    {
     "cell_type": "code",
     "collapsed": false,
     "input": [
      "replicate_lanes = {}\n",
      "for row in flowcells:\n",
      "    replicate = str(row['replicate'])\n",
      "    barcode = str(row['barcode'])\n",
      "    if barcode:\n",
      "        barcode = barcode.split(':')[1]\n",
      "    lane = {'barcode': barcode, 'flowcell': str(row['flowcell_id']), 'lane': str(row['lane_number']), 'machine': str(row['serial_id'])}\n",
      "    replicate_lanes.setdefault(replicate, []).append(lane)"
     ],
     "language": "python",
     "metadata": {},
     "outputs": [],
     "prompt_number": 34
    },
    {
     "cell_type": "code",
     "collapsed": false,
     "input": [
      "def update_flowcell_details(replicate_lanes):\n",
      "    to_update = 0\n",
      "    for replicate in replicate_lanes:\n",
      "        previous = server.get_json(replicate)\n",
      "        if len(previous['flowcell_details']) == 0:\n",
      "            to_update += 1\n",
      "            flowcell_details = replicate_lanes[replicate]\n",
      "            payload = {'flowcell_details': flowcell_details}\n",
      "            if not dry_run:\n",
      "                server.patch_json(replicate, payload)\n",
      "            #print(\"Updating {} to {}\".format(replicate, flowcell_details))\n",
      "    print(\"Need to update {} of {} replicates\".format(to_update, len(replicate_lanes)))\n",
      "update_flowcell_details(replicate_lanes)"
     ],
     "language": "python",
     "metadata": {},
     "outputs": [
      {
       "output_type": "stream",
       "stream": "stdout",
       "text": [
        "Need to update 77 of 77 replicates\n"
       ]
      }
     ],
     "prompt_number": 35
    },
    {
     "cell_type": "heading",
     "level": 1,
     "metadata": {},
     "source": [
      "Find GEO Accession IDs"
     ]
    },
    {
     "cell_type": "code",
     "collapsed": false,
     "input": [
      "%%sparql -m model\n",
      "select ?experiment ?alias ?wold_library ?dbxref\n",
      "where {\n",
      "  ?wold_library a htsw:Library ;\n",
      "                library:library ?dcc_library .\n",
      "\n",
      "  \n",
      "  ?experiment a experiment:experiment ;\n",
      "              experiment:aliases ?alias ;\n",
      "              experiment:replicates ?replicate .\n",
      "  ?replicate replicate:library ?dcc_library .\n",
      "  OPTIONAL { ?wold_library htsw:dbxref ?dbxref . }\n",
      "}"
     ],
     "language": "python",
     "metadata": {},
     "outputs": [
      {
       "html": [
        "<table><tr><td>experiment</td><td>alias</td><td>wold_library</td><td>dbxref</td></tr><tr><td><a href=\"https://www.encodedcc.org/experiments/ENCSR900JSG/\">experiments:ENCSR900JSG/</a></td><td>barbara-wold:Hs_UMB5408_6_M_CN_Purkinje_30pool</td><td><a href=\"http://jumpgate.caltech.edu/library/13619/\">library:13619/</a></td><td>None</td></tr><tr><td><a href=\"https://www.encodedcc.org/experiments/ENCSR900JSG/\">experiments:ENCSR900JSG/</a></td><td>barbara-wold:Hs_UMB5408_6_M_CN_Purkinje_30pool</td><td><a href=\"http://jumpgate.caltech.edu/library/13622/\">library:13622/</a></td><td>None</td></tr><tr><td><a href=\"https://www.encodedcc.org/experiments/ENCSR313IUO/\">experiments:ENCSR313IUO/</a></td><td>barbara-wold:Hs_UMB5408_6_M_CN_granule</td><td><a href=\"http://jumpgate.caltech.edu/library/13620/\">library:13620/</a></td><td>None</td></tr><tr><td><a href=\"https://www.encodedcc.org/experiments/ENCSR313IUO/\">experiments:ENCSR313IUO/</a></td><td>barbara-wold:Hs_UMB5408_6_M_CN_granule</td><td><a href=\"http://jumpgate.caltech.edu/library/13623/\">library:13623/</a></td><td>None</td></tr><tr><td><a href=\"https://www.encodedcc.org/experiments/ENCSR157NLF/\">experiments:ENCSR157NLF/</a></td><td>barbara-wold:Hs_UMB4727_20_M_CN_Purkinje_30pool</td><td><a href=\"http://jumpgate.caltech.edu/library/13665/\">library:13665/</a></td><td>None</td></tr><tr><td><a href=\"https://www.encodedcc.org/experiments/ENCSR157NLF/\">experiments:ENCSR157NLF/</a></td><td>barbara-wold:Hs_UMB4727_20_M_CN_Purkinje_30pool</td><td><a href=\"http://jumpgate.caltech.edu/library/13666/\">library:13666/</a></td><td>None</td></tr><tr><td><a href=\"https://www.encodedcc.org/experiments/ENCSR415JJO/\">experiments:ENCSR415JJO/</a></td><td>barbara-wold:Hs_UMB4727_20 M_CN_granule</td><td><a href=\"http://jumpgate.caltech.edu/library/13024/\">library:13024/</a></td><td>None</td></tr><tr><td><a href=\"https://www.encodedcc.org/experiments/ENCSR415JJO/\">experiments:ENCSR415JJO/</a></td><td>barbara-wold:Hs_UMB4727_20 M_CN_granule</td><td><a href=\"http://jumpgate.caltech.edu/library/13025/\">library:13025/</a></td><td>None</td></tr><tr><td><a href=\"https://www.encodedcc.org/experiments/ENCSR423XRG/\">experiments:ENCSR423XRG/</a></td><td>barbara-wold:Hs_UMB4727_20_M_CN_midFI_pyramids_30pool</td><td><a href=\"http://jumpgate.caltech.edu/library/13262/\">library:13262/</a></td><td>None</td></tr><tr><td><a href=\"https://www.encodedcc.org/experiments/ENCSR423XRG/\">experiments:ENCSR423XRG/</a></td><td>barbara-wold:Hs_UMB4727_20_M_CN_midFI_pyramids_30pool</td><td><a href=\"http://jumpgate.caltech.edu/library/13263/\">library:13263/</a></td><td>None</td></tr><tr><td><a href=\"https://www.encodedcc.org/experiments/ENCSR137RHZ/\">experiments:ENCSR137RHZ/</a></td><td>barbara-wold:Hs_UMB602_27_M_CN_FI_slb9_pyramids_30pool</td><td><a href=\"http://jumpgate.caltech.edu/library/13347/\">library:13347/</a></td><td>None</td></tr><tr><td><a href=\"https://www.encodedcc.org/experiments/ENCSR137RHZ/\">experiments:ENCSR137RHZ/</a></td><td>barbara-wold:Hs_UMB602_27_M_CN_FI_slb9_pyramids_30pool</td><td><a href=\"http://jumpgate.caltech.edu/library/13349/\">library:13349/</a></td><td>None</td></tr><tr><td><a href=\"https://www.encodedcc.org/experiments/ENCSR558LHB/\">experiments:ENCSR558LHB/</a></td><td>barbara-wold:single-cell-13625-exp</td><td><a href=\"http://jumpgate.caltech.edu/library/13625/\">library:13625/</a></td><td>None</td></tr><tr><td><a href=\"https://www.encodedcc.org/experiments/ENCSR376KFF/\">experiments:ENCSR376KFF/</a></td><td>barbara-wold:single-cell-13626-exp</td><td><a href=\"http://jumpgate.caltech.edu/library/13626/\">library:13626/</a></td><td>None</td></tr><tr><td><a href=\"https://www.encodedcc.org/experiments/ENCSR561KFF/\">experiments:ENCSR561KFF/</a></td><td>barbara-wold:single-cell-13627-exp</td><td><a href=\"http://jumpgate.caltech.edu/library/13627/\">library:13627/</a></td><td>None</td></tr><tr><td><a href=\"https://www.encodedcc.org/experiments/ENCSR086PHI/\">experiments:ENCSR086PHI/</a></td><td>barbara-wold:single-cell-13628-exp</td><td><a href=\"http://jumpgate.caltech.edu/library/13628/\">library:13628/</a></td><td>None</td></tr><tr><td><a href=\"https://www.encodedcc.org/experiments/ENCSR921DSM/\">experiments:ENCSR921DSM/</a></td><td>barbara-wold:single-cell-13629-exp</td><td><a href=\"http://jumpgate.caltech.edu/library/13629/\">library:13629/</a></td><td>None</td></tr><tr><td><a href=\"https://www.encodedcc.org/experiments/ENCSR724XFQ/\">experiments:ENCSR724XFQ/</a></td><td>barbara-wold:single-cell-13630-exp</td><td><a href=\"http://jumpgate.caltech.edu/library/13630/\">library:13630/</a></td><td>None</td></tr><tr><td><a href=\"https://www.encodedcc.org/experiments/ENCSR729ENB/\">experiments:ENCSR729ENB/</a></td><td>barbara-wold:single-cell-13631-exp</td><td><a href=\"http://jumpgate.caltech.edu/library/13631/\">library:13631/</a></td><td>None</td></tr><tr><td><a href=\"https://www.encodedcc.org/experiments/ENCSR828FPS/\">experiments:ENCSR828FPS/</a></td><td>barbara-wold:single-cell-13632-exp</td><td><a href=\"http://jumpgate.caltech.edu/library/13632/\">library:13632/</a></td><td>None</td></tr><tr><td><a href=\"https://www.encodedcc.org/experiments/ENCSR231WUP/\">experiments:ENCSR231WUP/</a></td><td>barbara-wold:single-cell-13633-exp</td><td><a href=\"http://jumpgate.caltech.edu/library/13633/\">library:13633/</a></td><td>None</td></tr><tr><td><a href=\"https://www.encodedcc.org/experiments/ENCSR435ROA/\">experiments:ENCSR435ROA/</a></td><td>barbara-wold:single-cell-13634-exp</td><td><a href=\"http://jumpgate.caltech.edu/library/13634/\">library:13634/</a></td><td>None</td></tr><tr><td><a href=\"https://www.encodedcc.org/experiments/ENCSR927DHK/\">experiments:ENCSR927DHK/</a></td><td>barbara-wold:single-cell-13635-exp</td><td><a href=\"http://jumpgate.caltech.edu/library/13635/\">library:13635/</a></td><td>None</td></tr><tr><td><a href=\"https://www.encodedcc.org/experiments/ENCSR244DNF/\">experiments:ENCSR244DNF/</a></td><td>barbara-wold:single-cell-13636-exp</td><td><a href=\"http://jumpgate.caltech.edu/library/13636/\">library:13636/</a></td><td>None</td></tr><tr><td><a href=\"https://www.encodedcc.org/experiments/ENCSR366QZI/\">experiments:ENCSR366QZI/</a></td><td>barbara-wold:single-cell-13637-exp</td><td><a href=\"http://jumpgate.caltech.edu/library/13637/\">library:13637/</a></td><td>None</td></tr><tr><td><a href=\"https://www.encodedcc.org/experiments/ENCSR659QHV/\">experiments:ENCSR659QHV/</a></td><td>barbara-wold:single-cell-13638-exp</td><td><a href=\"http://jumpgate.caltech.edu/library/13638/\">library:13638/</a></td><td>None</td></tr><tr><td><a href=\"https://www.encodedcc.org/experiments/ENCSR124ERY/\">experiments:ENCSR124ERY/</a></td><td>barbara-wold:single-cell-13639-exp</td><td><a href=\"http://jumpgate.caltech.edu/library/13639/\">library:13639/</a></td><td>None</td></tr><tr><td><a href=\"https://www.encodedcc.org/experiments/ENCSR610BAM/\">experiments:ENCSR610BAM/</a></td><td>barbara-wold:single-cell-13640-exp</td><td><a href=\"http://jumpgate.caltech.edu/library/13640/\">library:13640/</a></td><td>None</td></tr><tr><td><a href=\"https://www.encodedcc.org/experiments/ENCSR905FLM/\">experiments:ENCSR905FLM/</a></td><td>barbara-wold:single-cell-13641-exp</td><td><a href=\"http://jumpgate.caltech.edu/library/13641/\">library:13641/</a></td><td>None</td></tr><tr><td><a href=\"https://www.encodedcc.org/experiments/ENCSR101GVL/\">experiments:ENCSR101GVL/</a></td><td>barbara-wold:single-cell-13642-exp</td><td><a href=\"http://jumpgate.caltech.edu/library/13642/\">library:13642/</a></td><td>None</td></tr><tr><td><a href=\"https://www.encodedcc.org/experiments/ENCSR672QFA/\">experiments:ENCSR672QFA/</a></td><td>barbara-wold:single-cell-13643-exp</td><td><a href=\"http://jumpgate.caltech.edu/library/13643/\">library:13643/</a></td><td>None</td></tr><tr><td><a href=\"https://www.encodedcc.org/experiments/ENCSR417EDR/\">experiments:ENCSR417EDR/</a></td><td>barbara-wold:single-cell-13644-exp</td><td><a href=\"http://jumpgate.caltech.edu/library/13644/\">library:13644/</a></td><td>None</td></tr><tr><td><a href=\"https://www.encodedcc.org/experiments/ENCSR888LYA/\">experiments:ENCSR888LYA/</a></td><td>barbara-wold:Hs_UMB4727_20_M_CN_Purkinje_pool_split</td><td><a href=\"http://jumpgate.caltech.edu/library/13645/\">library:13645/</a></td><td>None</td></tr><tr><td><a href=\"https://www.encodedcc.org/experiments/ENCSR888LYA/\">experiments:ENCSR888LYA/</a></td><td>barbara-wold:Hs_UMB4727_20_M_CN_Purkinje_pool_split</td><td><a href=\"http://jumpgate.caltech.edu/library/13646/\">library:13646/</a></td><td>None</td></tr><tr><td><a href=\"https://www.encodedcc.org/experiments/ENCSR888LYA/\">experiments:ENCSR888LYA/</a></td><td>barbara-wold:Hs_UMB4727_20_M_CN_Purkinje_pool_split</td><td><a href=\"http://jumpgate.caltech.edu/library/13647/\">library:13647/</a></td><td>None</td></tr><tr><td><a href=\"https://www.encodedcc.org/experiments/ENCSR888LYA/\">experiments:ENCSR888LYA/</a></td><td>barbara-wold:Hs_UMB4727_20_M_CN_Purkinje_pool_split</td><td><a href=\"http://jumpgate.caltech.edu/library/13648/\">library:13648/</a></td><td>None</td></tr><tr><td><a href=\"https://www.encodedcc.org/experiments/ENCSR888LYA/\">experiments:ENCSR888LYA/</a></td><td>barbara-wold:Hs_UMB4727_20_M_CN_Purkinje_pool_split</td><td><a href=\"http://jumpgate.caltech.edu/library/13649/\">library:13649/</a></td><td>None</td></tr><tr><td><a href=\"https://www.encodedcc.org/experiments/ENCSR888LYA/\">experiments:ENCSR888LYA/</a></td><td>barbara-wold:Hs_UMB4727_20_M_CN_Purkinje_pool_split</td><td><a href=\"http://jumpgate.caltech.edu/library/13650/\">library:13650/</a></td><td>None</td></tr><tr><td><a href=\"https://www.encodedcc.org/experiments/ENCSR888LYA/\">experiments:ENCSR888LYA/</a></td><td>barbara-wold:Hs_UMB4727_20_M_CN_Purkinje_pool_split</td><td><a href=\"http://jumpgate.caltech.edu/library/13651/\">library:13651/</a></td><td>None</td></tr><tr><td><a href=\"https://www.encodedcc.org/experiments/ENCSR888LYA/\">experiments:ENCSR888LYA/</a></td><td>barbara-wold:Hs_UMB4727_20_M_CN_Purkinje_pool_split</td><td><a href=\"http://jumpgate.caltech.edu/library/13652/\">library:13652/</a></td><td>None</td></tr><tr><td><a href=\"https://www.encodedcc.org/experiments/ENCSR888LYA/\">experiments:ENCSR888LYA/</a></td><td>barbara-wold:Hs_UMB4727_20_M_CN_Purkinje_pool_split</td><td><a href=\"http://jumpgate.caltech.edu/library/13653/\">library:13653/</a></td><td>None</td></tr><tr><td><a href=\"https://www.encodedcc.org/experiments/ENCSR888LYA/\">experiments:ENCSR888LYA/</a></td><td>barbara-wold:Hs_UMB4727_20_M_CN_Purkinje_pool_split</td><td><a href=\"http://jumpgate.caltech.edu/library/13654/\">library:13654/</a></td><td>None</td></tr><tr><td><a href=\"https://www.encodedcc.org/experiments/ENCSR888LYA/\">experiments:ENCSR888LYA/</a></td><td>barbara-wold:Hs_UMB4727_20_M_CN_Purkinje_pool_split</td><td><a href=\"http://jumpgate.caltech.edu/library/13655/\">library:13655/</a></td><td>None</td></tr><tr><td><a href=\"https://www.encodedcc.org/experiments/ENCSR888LYA/\">experiments:ENCSR888LYA/</a></td><td>barbara-wold:Hs_UMB4727_20_M_CN_Purkinje_pool_split</td><td><a href=\"http://jumpgate.caltech.edu/library/13656/\">library:13656/</a></td><td>None</td></tr><tr><td><a href=\"https://www.encodedcc.org/experiments/ENCSR888LYA/\">experiments:ENCSR888LYA/</a></td><td>barbara-wold:Hs_UMB4727_20_M_CN_Purkinje_pool_split</td><td><a href=\"http://jumpgate.caltech.edu/library/13657/\">library:13657/</a></td><td>None</td></tr><tr><td><a href=\"https://www.encodedcc.org/experiments/ENCSR888LYA/\">experiments:ENCSR888LYA/</a></td><td>barbara-wold:Hs_UMB4727_20_M_CN_Purkinje_pool_split</td><td><a href=\"http://jumpgate.caltech.edu/library/13658/\">library:13658/</a></td><td>None</td></tr><tr><td><a href=\"https://www.encodedcc.org/experiments/ENCSR888LYA/\">experiments:ENCSR888LYA/</a></td><td>barbara-wold:Hs_UMB4727_20_M_CN_Purkinje_pool_split</td><td><a href=\"http://jumpgate.caltech.edu/library/13659/\">library:13659/</a></td><td>None</td></tr><tr><td><a href=\"https://www.encodedcc.org/experiments/ENCSR888LYA/\">experiments:ENCSR888LYA/</a></td><td>barbara-wold:Hs_UMB4727_20_M_CN_Purkinje_pool_split</td><td><a href=\"http://jumpgate.caltech.edu/library/13660/\">library:13660/</a></td><td>None</td></tr><tr><td><a href=\"https://www.encodedcc.org/experiments/ENCSR888LYA/\">experiments:ENCSR888LYA/</a></td><td>barbara-wold:Hs_UMB4727_20_M_CN_Purkinje_pool_split</td><td><a href=\"http://jumpgate.caltech.edu/library/13661/\">library:13661/</a></td><td>None</td></tr><tr><td><a href=\"https://www.encodedcc.org/experiments/ENCSR888LYA/\">experiments:ENCSR888LYA/</a></td><td>barbara-wold:Hs_UMB4727_20_M_CN_Purkinje_pool_split</td><td><a href=\"http://jumpgate.caltech.edu/library/13662/\">library:13662/</a></td><td>None</td></tr><tr><td><a href=\"https://www.encodedcc.org/experiments/ENCSR888LYA/\">experiments:ENCSR888LYA/</a></td><td>barbara-wold:Hs_UMB4727_20_M_CN_Purkinje_pool_split</td><td><a href=\"http://jumpgate.caltech.edu/library/13663/\">library:13663/</a></td><td>None</td></tr><tr><td><a href=\"https://www.encodedcc.org/experiments/ENCSR888LYA/\">experiments:ENCSR888LYA/</a></td><td>barbara-wold:Hs_UMB4727_20_M_CN_Purkinje_pool_split</td><td><a href=\"http://jumpgate.caltech.edu/library/13664/\">library:13664/</a></td><td>None</td></tr><tr><td><a href=\"https://www.encodedcc.org/experiments/ENCSR673UIY/\">experiments:ENCSR673UIY/</a></td><td>barbara-wold:GM12878-pool-splits-exp</td><td><a href=\"http://jumpgate.caltech.edu/library/13280/\">library:13280/</a></td><td>GEO:GSM1299389</td></tr><tr><td><a href=\"https://www.encodedcc.org/experiments/ENCSR673UIY/\">experiments:ENCSR673UIY/</a></td><td>barbara-wold:GM12878-pool-splits-exp</td><td><a href=\"http://jumpgate.caltech.edu/library/13281/\">library:13281/</a></td><td>GEO:GSM1299390</td></tr><tr><td><a href=\"https://www.encodedcc.org/experiments/ENCSR673UIY/\">experiments:ENCSR673UIY/</a></td><td>barbara-wold:GM12878-pool-splits-exp</td><td><a href=\"http://jumpgate.caltech.edu/library/13292/\">library:13292/</a></td><td>GEO:GSM1299391</td></tr><tr><td><a href=\"https://www.encodedcc.org/experiments/ENCSR673UIY/\">experiments:ENCSR673UIY/</a></td><td>barbara-wold:GM12878-pool-splits-exp</td><td><a href=\"http://jumpgate.caltech.edu/library/13294/\">library:13294/</a></td><td>GEO:GSM1299393</td></tr><tr><td><a href=\"https://www.encodedcc.org/experiments/ENCSR673UIY/\">experiments:ENCSR673UIY/</a></td><td>barbara-wold:GM12878-pool-splits-exp</td><td><a href=\"http://jumpgate.caltech.edu/library/13295/\">library:13295/</a></td><td>GEO:GSM1299394</td></tr><tr><td><a href=\"https://www.encodedcc.org/experiments/ENCSR673UIY/\">experiments:ENCSR673UIY/</a></td><td>barbara-wold:GM12878-pool-splits-exp</td><td><a href=\"http://jumpgate.caltech.edu/library/13296/\">library:13296/</a></td><td>GEO:GSM1299395</td></tr><tr><td><a href=\"https://www.encodedcc.org/experiments/ENCSR673UIY/\">experiments:ENCSR673UIY/</a></td><td>barbara-wold:GM12878-pool-splits-exp</td><td><a href=\"http://jumpgate.caltech.edu/library/13297/\">library:13297/</a></td><td>GEO:GSM1299396</td></tr><tr><td><a href=\"https://www.encodedcc.org/experiments/ENCSR673UIY/\">experiments:ENCSR673UIY/</a></td><td>barbara-wold:GM12878-pool-splits-exp</td><td><a href=\"http://jumpgate.caltech.edu/library/13298/\">library:13298/</a></td><td>GEO:GSM1299397</td></tr><tr><td><a href=\"https://www.encodedcc.org/experiments/ENCSR673UIY/\">experiments:ENCSR673UIY/</a></td><td>barbara-wold:GM12878-pool-splits-exp</td><td><a href=\"http://jumpgate.caltech.edu/library/13299/\">library:13299/</a></td><td>GEO:GSM1299398</td></tr><tr><td><a href=\"https://www.encodedcc.org/experiments/ENCSR000AJE/\">experiments:ENCSR000AJE/</a></td><td>barbara-wold:single-cell-13282-exp</td><td><a href=\"http://jumpgate.caltech.edu/library/13282/\">library:13282/</a></td><td>GEO:GSM1087884</td></tr><tr><td><a href=\"https://www.encodedcc.org/experiments/ENCSR000AJA/\">experiments:ENCSR000AJA/</a></td><td>barbara-wold:single-cell-13283-exp</td><td><a href=\"http://jumpgate.caltech.edu/library/13283/\">library:13283/</a></td><td>GEO:GSM1087885</td></tr><tr><td><a href=\"https://www.encodedcc.org/experiments/ENCSR000AJH/\">experiments:ENCSR000AJH/</a></td><td>barbara-wold:single-cell-13284-exp</td><td><a href=\"http://jumpgate.caltech.edu/library/13284/\">library:13284/</a></td><td>GEO:GSM1087886</td></tr><tr><td><a href=\"https://www.encodedcc.org/experiments/ENCSR000AIY/\">experiments:ENCSR000AIY/</a></td><td>barbara-wold:single-cell-13285-exp</td><td><a href=\"http://jumpgate.caltech.edu/library/13285/\">library:13285/</a></td><td>GEO:GSM1087887</td></tr><tr><td><a href=\"https://www.encodedcc.org/experiments/ENCSR000AJC/\">experiments:ENCSR000AJC/</a></td><td>barbara-wold:single-cell-13286-exp</td><td><a href=\"http://jumpgate.caltech.edu/library/13286/\">library:13286/</a></td><td>GEO:GSM1087888</td></tr><tr><td><a href=\"https://www.encodedcc.org/experiments/ENCSR000AJF/\">experiments:ENCSR000AJF/</a></td><td>barbara-wold:single-cell-13287-exp</td><td><a href=\"http://jumpgate.caltech.edu/library/13287/\">library:13287/</a></td><td>GEO:GSM1087889</td></tr><tr><td><a href=\"https://www.encodedcc.org/experiments/ENCSR000AJB/\">experiments:ENCSR000AJB/</a></td><td>barbara-wold:single-cell-13288-exp</td><td><a href=\"http://jumpgate.caltech.edu/library/13288/\">library:13288/</a></td><td>GEO:GSM1087890</td></tr><tr><td><a href=\"https://www.encodedcc.org/experiments/ENCSR184CWK/\">experiments:ENCSR184CWK/</a></td><td>barbara-wold:single-cell-13289-exp</td><td><a href=\"http://jumpgate.caltech.edu/library/13289/\">library:13289/</a></td><td>GEO:GSM1087891</td></tr><tr><td><a href=\"https://www.encodedcc.org/experiments/ENCSR767SOH/\">experiments:ENCSR767SOH/</a></td><td>barbara-wold:single-cell-13290-exp</td><td><a href=\"http://jumpgate.caltech.edu/library/13290/\">library:13290/</a></td><td>GEO:GSM1087892</td></tr><tr><td><a href=\"https://www.encodedcc.org/experiments/ENCSR625DPZ/\">experiments:ENCSR625DPZ/</a></td><td>barbara-wold:single-cell-13291-exp</td><td><a href=\"http://jumpgate.caltech.edu/library/13291/\">library:13291/</a></td><td>GEO:GSM1087893</td></tr></table>"
       ],
       "metadata": {},
       "output_type": "pyout",
       "prompt_number": 36,
       "text": [
        "<rdfmagic.LibRdfResults at 0x7fb810433d90>"
       ]
      }
     ],
     "prompt_number": 36
    },
    {
     "cell_type": "heading",
     "level": 2,
     "metadata": {},
     "source": [
      "Create manifset"
     ]
    },
    {
     "cell_type": "heading",
     "level": 3,
     "metadata": {},
     "source": [
      "Link files to libraries"
     ]
    },
    {
     "cell_type": "markdown",
     "metadata": {},
     "source": [
      "Considering we've done so much other querying here. Lets just make the manifest using this notebook."
     ]
    },
    {
     "cell_type": "code",
     "collapsed": false,
     "input": [
      "def generate_file_info(filenode, filename):\n",
      "    base, ext = os.path.splitext(filename)\n",
      "    fields = base.split('_')\n",
      "    if fields[-1].startswith('r'):\n",
      "        read = fields[-1][1]\n",
      "    else:\n",
      "        read = 'n/a'\n",
      "    read_p = RDF.Node(RDF.Uri('http://jumpgate.caltech.edu/wiki/LibraryOntology#read'))\n",
      "    path_p = RDF.Node(RDF.Uri('http://jumpgate.caltech.edu/wiki/LibraryOntology#filename'))\n",
      "    stmt = RDF.Statement(filenode, read_p, RDF.Node(read))\n",
      "    #print(stmt)\n",
      "    model.append(stmt)\n",
      "    stmt = RDF.Statement(filenode, path_p, RDF.Node(filename))\n",
      "    #print(stmt)\n",
      "    model.append(stmt)\n",
      "\n",
      "def read_library_map():\n",
      "    library_map = {}\n",
      "    count = 0\n",
      "    pongo = paramiko.SSHClient()\n",
      "    pongo.set_missing_host_key_policy(paramiko.WarningPolicy())\n",
      "    pongo.connect('pongo.cacr.caltech.edu', username='diane')\n",
      "    sftp = pongo.open_sftp()\n",
      "    sftp.chdir('proj/submission/brians-view-single-cell')\n",
      "    for line in sftp.open('libs.txt'):\n",
      "        library_id, dirname = line.split()\n",
      "        library = RDF.Node(RDF.Uri(LIBRARY_URL.format(library_id)))\n",
      "        for filename in sftp.listdir(dirname):\n",
      "            if filename.endswith('fastq.gz'):\n",
      "                relative_path = os.path.join(dirname, filename)\n",
      "                p = RDF.Node(RDF.Uri('http://jumpgate.caltech.edu/wiki/LibraryOntology#has_file'))\n",
      "                filenode = RDF.Node(RDF.Uri('file://'+os.path.abspath(relative_path)))\n",
      "                s = RDF.Statement(library, p, filenode)\n",
      "                #print(s)\n",
      "                model.append(s)\n",
      "                generate_file_info(filenode, relative_path)\n",
      "                count += 1\n",
      "    print(\"Added {} statements\".format(count))\n",
      "    pongo.close()\n",
      "read_library_map()"
     ],
     "language": "python",
     "metadata": {},
     "outputs": [
      {
       "output_type": "stream",
       "stream": "stdout",
       "text": [
        "Added 50 statements\n"
       ]
      },
      {
       "output_type": "stream",
       "stream": "stderr",
       "text": [
        "/usr/lib/python2.7/dist-packages/paramiko/client.py:95: UserWarning: Unknown ssh-rsa host key for pongo.cacr.caltech.edu: 6833531597d6176b45c27f33e9406a12\n",
        "  (key.get_name(), hostname, hexlify(key.get_fingerprint())))\n"
       ]
      }
     ],
     "prompt_number": 37
    },
    {
     "cell_type": "heading",
     "level": 3,
     "metadata": {},
     "source": [
      "Manifest query"
     ]
    },
    {
     "cell_type": "code",
     "collapsed": false,
     "input": [
      "%%sparql -m model\n",
      "select ?wold_library_id ?experiment_id  ?dcc_rep ?paired_end ?file_name \n",
      "where {\n",
      "  ?wold_library a htsw:Library ;\n",
      "                htsw:library_id ?wold_library_id ;\n",
      "                library:library ?dcc_library .\n",
      "\n",
      "  ?replicate replicate:library ?dcc_library ;\n",
      "             replicate:biological_replicate_number ?dcc_rep ;\n",
      "             replicate:experiment ?experiment .\n",
      "  ?experiment experiment:accession ?experiment_id .        \n",
      "\n",
      "  optional {\n",
      "  ?wold_library htsw:has_file ?file .\n",
      "\n",
      "  ?file htsw:read ?paired_end ;\n",
      "        htsw:filename ?file_name . \n",
      "  }\n",
      "}\n",
      "order by ?wold_library_id"
     ],
     "language": "python",
     "metadata": {},
     "outputs": [
      {
       "html": [
        "<table><tr><td>wold_library_id</td><td>experiment_id</td><td>dcc_rep</td><td>paired_end</td><td>file_name</td></tr><tr><td>12517</td><td>ENCSR000AIZ</td><td>1</td><td>1</td><td>12517-index3_GM12878_30A_singlecell/12517_D0549ACXX_c209_l1_r1.fastq.gz</td></tr><tr><td>12517</td><td>ENCSR000AIZ</td><td>1</td><td>2</td><td>12517-index3_GM12878_30A_singlecell/12517_D0549ACXX_c209_l1_r2.fastq.gz</td></tr><tr><td>12518</td><td>ENCSR000AIZ</td><td>2</td><td>2</td><td>12518-index4_GM12878_30B_singlecell/12518_D0549ACXX_c209_l2_r2.fastq.gz</td></tr><tr><td>12518</td><td>ENCSR000AIZ</td><td>2</td><td>1</td><td>12518-index4_GM12878_30B_singlecell/12518_D0549ACXX_c209_l2_r1.fastq.gz</td></tr><tr><td>13024</td><td>ENCSR415JJO</td><td>1</td><td>None</td><td>None</td></tr><tr><td>13025</td><td>ENCSR415JJO</td><td>2</td><td>None</td><td>None</td></tr><tr><td>13262</td><td>ENCSR423XRG</td><td>1</td><td>None</td><td>None</td></tr><tr><td>13263</td><td>ENCSR423XRG</td><td>2</td><td>None</td><td>None</td></tr><tr><td>13274</td><td>ENCSR000AJD</td><td>1</td><td>None</td><td>None</td></tr><tr><td>13275</td><td>ENCSR000AJD</td><td>2</td><td>None</td><td>None</td></tr><tr><td>13280</td><td>ENCSR673UIY</td><td>1</td><td>None</td><td>None</td></tr><tr><td>13281</td><td>ENCSR673UIY</td><td>1</td><td>None</td><td>None</td></tr><tr><td>13282</td><td>ENCSR000AJE</td><td>1</td><td>None</td><td>None</td></tr><tr><td>13283</td><td>ENCSR000AJA</td><td>1</td><td>None</td><td>None</td></tr><tr><td>13284</td><td>ENCSR000AJH</td><td>1</td><td>None</td><td>None</td></tr><tr><td>13285</td><td>ENCSR000AIY</td><td>1</td><td>None</td><td>None</td></tr><tr><td>13286</td><td>ENCSR000AJC</td><td>1</td><td>None</td><td>None</td></tr><tr><td>13287</td><td>ENCSR000AJF</td><td>1</td><td>None</td><td>None</td></tr><tr><td>13288</td><td>ENCSR000AJB</td><td>1</td><td>None</td><td>None</td></tr><tr><td>13289</td><td>ENCSR184CWK</td><td>1</td><td>None</td><td>None</td></tr><tr><td>13290</td><td>ENCSR767SOH</td><td>1</td><td>None</td><td>None</td></tr><tr><td>13291</td><td>ENCSR625DPZ</td><td>1</td><td>None</td><td>None</td></tr><tr><td>13292</td><td>ENCSR673UIY</td><td>1</td><td>None</td><td>None</td></tr><tr><td>13294</td><td>ENCSR673UIY</td><td>1</td><td>None</td><td>None</td></tr><tr><td>13295</td><td>ENCSR673UIY</td><td>1</td><td>None</td><td>None</td></tr><tr><td>13296</td><td>ENCSR673UIY</td><td>1</td><td>None</td><td>None</td></tr><tr><td>13297</td><td>ENCSR673UIY</td><td>1</td><td>None</td><td>None</td></tr><tr><td>13298</td><td>ENCSR673UIY</td><td>1</td><td>None</td><td>None</td></tr><tr><td>13299</td><td>ENCSR673UIY</td><td>1</td><td>None</td><td>None</td></tr><tr><td>13300</td><td>ENCSR000AJG</td><td>1</td><td>None</td><td>None</td></tr><tr><td>13301</td><td>ENCSR000AJG</td><td>2</td><td>None</td><td>None</td></tr><tr><td>13347</td><td>ENCSR137RHZ</td><td>1</td><td>None</td><td>None</td></tr><tr><td>13349</td><td>ENCSR137RHZ</td><td>2</td><td>None</td><td>None</td></tr><tr><td>13619</td><td>ENCSR900JSG</td><td>1</td><td>n/a</td><td>13619-index_N706_N506_LC_539_Hs_UMB5408_6_M_CN_Cb_Purkinje_30pool_/13619_D1THKACXX_c116_l4.fastq.gz</td></tr><tr><td>13620</td><td>ENCSR313IUO</td><td>1</td><td>n/a</td><td>13620-index_N710_N506_LC_540_Hs_UMB5408_6_M_CN_Cb_granule_/13620_D1THKACXX_c116_l4.fastq.gz</td></tr><tr><td>13622</td><td>ENCSR900JSG</td><td>2</td><td>n/a</td><td>13622-index_N709_N501_LC_542_Hs_UMB5408_6_M_CN_Cb_Purkinje_30pool_/13622_D1THKACXX_c116_l4.fastq.gz</td></tr><tr><td>13623</td><td>ENCSR313IUO</td><td>2</td><td>n/a</td><td>13623-index_N710_N502_LC_543_Hs_UMB5408_6_M_CN_Cb_granule_/13623_D1THKACXX_c116_l4.fastq.gz</td></tr><tr><td>13625</td><td>ENCSR558LHB</td><td>1</td><td>n/a</td><td>13625-index_N701_N501_LC_545_Hs_UMB4727_20_M_CN_Cb_Purkinje_single_cell_/13625_D1THKACXX_c116_l4.fastq.gz</td></tr><tr><td>13626</td><td>ENCSR376KFF</td><td>1</td><td>n/a</td><td>13626-index_N702_N502_LC_546_Hs_UMB4727_20_M_CN_Cb_Purkinje_single_cell_/13626_D1THKACXX_c116_l4.fastq.gz</td></tr><tr><td>13627</td><td>ENCSR561KFF</td><td>1</td><td>n/a</td><td>13627-index_N703_N503_LC_547_Hs_UMB4727_20_M_CN_Cb_Purkinje_single_cell_/13627_D1THKACXX_c116_l4.fastq.gz</td></tr><tr><td>13628</td><td>ENCSR086PHI</td><td>1</td><td>n/a</td><td>13628-index_N704_N504_LC_548_Hs_UMB4727_20_M_CN_Cb_Purkinje_single_cell_/13628_D1THKACXX_c116_l5.fastq.gz</td></tr><tr><td>13629</td><td>ENCSR921DSM</td><td>1</td><td>n/a</td><td>13629-index_N705_N505_LC_549_Hs_UMB4727_20_M_CN_Cb_Purkinje_single_cell_/13629_D1THKACXX_c116_l5.fastq.gz</td></tr><tr><td>13630</td><td>ENCSR724XFQ</td><td>1</td><td>n/a</td><td>13630-index_N706_N506_LC_550_Hs_UMB4727_20_M_CN_Cb_Purkinje_single_cell_/13630_D1THKACXX_c116_l5.fastq.gz</td></tr><tr><td>13631</td><td>ENCSR729ENB</td><td>1</td><td>n/a</td><td>13631-index_N707_N507_LC_551_Hs_UMB4727_20_M_CN_Cb_Purkinje_single_cell_/13631_D1THKACXX_c116_l5.fastq.gz</td></tr><tr><td>13632</td><td>ENCSR828FPS</td><td>1</td><td>n/a</td><td>13632-index_N708_N508_LC_552_Hs_UMB4727_20_M_CN_Cb_Purkinje_single_cell_/13632_D1THKACXX_c116_l5.fastq.gz</td></tr><tr><td>13633</td><td>ENCSR231WUP</td><td>1</td><td>n/a</td><td>13633-index_N709_N501_LC_553_Hs_UMB4727_20_M_CN_Cb_Purkinje_single_cell_/13633_D1THKACXX_c116_l5.fastq.gz</td></tr><tr><td>13634</td><td>ENCSR435ROA</td><td>1</td><td>n/a</td><td>13634-index_N710_N502_LC_554_Hs_UMB4727_20_M_CN_Cb_Purkinje_single_cell_/13634_D1THKACXX_c116_l5.fastq.gz</td></tr><tr><td>13635</td><td>ENCSR927DHK</td><td>1</td><td>n/a</td><td>13635-index_N711_N503_LC_555_Hs_UMB4727_20_M_CN_Cb_Purkinje_single_cell_/13635_D1THKACXX_c116_l5.fastq.gz</td></tr><tr><td>13636</td><td>ENCSR244DNF</td><td>1</td><td>n/a</td><td>13636-index_N712_N504_LC_556_Hs_UMB4727_20_M_CN_Cb_Purkinje_single_cell_/13636_D1THKACXX_c116_l5.fastq.gz</td></tr><tr><td>13637</td><td>ENCSR366QZI</td><td>1</td><td>n/a</td><td>13637-index_N701_N505_LC_557_Hs_UMB4727_20_M_CN_Cb_Purkinje_single_cell_/13637_D1THKACXX_c116_l5.fastq.gz</td></tr><tr><td>13638</td><td>ENCSR659QHV</td><td>1</td><td>n/a</td><td>13638-index_N702_N506_LC_558_Hs_UMB4727_20_M_CN_Cb_Purkinje_single_cell_/13638_D1THKACXX_c116_l6.fastq.gz</td></tr><tr><td>13639</td><td>ENCSR124ERY</td><td>1</td><td>n/a</td><td>13639-index_N703_N507_LC_559_Hs_UMB4727_20_M_CN_Cb_Purkinje_single_cell_/13639_D1THKACXX_c116_l6.fastq.gz</td></tr><tr><td>13640</td><td>ENCSR610BAM</td><td>1</td><td>n/a</td><td>13640-index_N704_N508_LC_560_Hs_UMB4727_20_M_CN_Cb_Purkinje_single_cell_/13640_D1THKACXX_c116_l6.fastq.gz</td></tr><tr><td>13641</td><td>ENCSR905FLM</td><td>1</td><td>n/a</td><td>13641-index_N705_N501_LC_561_Hs_UMB4727_20_M_CN_Cb_Purkinje_single_cell_/13641_D1THKACXX_c116_l6.fastq.gz</td></tr><tr><td>13642</td><td>ENCSR101GVL</td><td>1</td><td>n/a</td><td>13642-index_N706_N502_LC_562_Hs_UMB4727_20_M_CN_Cb_Purkinje_single_cell_/13642_D1THKACXX_c116_l6.fastq.gz</td></tr><tr><td>13643</td><td>ENCSR672QFA</td><td>1</td><td>n/a</td><td>13643-index_N707_N503_LC_563_Hs_UMB4727_20_M_CN_Cb_Purkinje_single_cell_/13643_D1THKACXX_c116_l6.fastq.gz</td></tr><tr><td>13644</td><td>ENCSR417EDR</td><td>1</td><td>n/a</td><td>13644-index_N708_N504_LC_564_Hs_UMB4727_20_M_CN_Cb_Purkinje_single_cell_/13644_D1THKACXX_c116_l6.fastq.gz</td></tr><tr><td>13645</td><td>ENCSR888LYA</td><td>1</td><td>n/a</td><td>13645-index_N709_N505_LC_565_Hs_UMB4727_20_M_CN_Cb_Purkinje_poolsplit_/13645_D1THKACXX_c116_l6.fastq.gz</td></tr><tr><td>13646</td><td>ENCSR888LYA</td><td>1</td><td>n/a</td><td>13646-index_N710_N506_LC_566_Hs_UMB4727_20_M_CN_Cb_Purkinje_poolsplit_/13646_D1THKACXX_c116_l6.fastq.gz</td></tr><tr><td>13647</td><td>ENCSR888LYA</td><td>1</td><td>n/a</td><td>13647-index_N711_N507_LC_567_Hs_UMB4727_20_M_CN_Cb_Purkinje_poolsplit_/13647_D1THKACXX_c116_l6.fastq.gz</td></tr><tr><td>13648</td><td>ENCSR888LYA</td><td>1</td><td>n/a</td><td>13648-index_N712_N508_LC_568_Hs_UMB4727_20_M_CN_Cb_Purkinje_poolsplit_/13648_D1THKACXX_c116_l8.fastq.gz</td></tr><tr><td>13649</td><td>ENCSR888LYA</td><td>1</td><td>n/a</td><td>13649-index_N701_N501_LC_569_Hs_UMB4727_20_M_CN_Cb_Purkinje_poolsplit_/13649_D1THKACXX_c116_l8.fastq.gz</td></tr><tr><td>13650</td><td>ENCSR888LYA</td><td>1</td><td>n/a</td><td>13650-index_N702_N502_LC_570_Hs_UMB4727_20_M_CN_Cb_Purkinje_poolsplit_/13650_D1THKACXX_c116_l8.fastq.gz</td></tr><tr><td>13651</td><td>ENCSR888LYA</td><td>1</td><td>n/a</td><td>13651-index_N703_N503_LC_571_Hs_UMB4727_20_M_CN_Cb_Purkinje_poolsplit_/13651_D1THKACXX_c116_l7.fastq.gz</td></tr><tr><td>13652</td><td>ENCSR888LYA</td><td>1</td><td>n/a</td><td>13652-index_N704_N504_LC_572_Hs_UMB4727_20_M_CN_Cb_Purkinje_poolsplit_/13652_D1THKACXX_c116_l7.fastq.gz</td></tr><tr><td>13653</td><td>ENCSR888LYA</td><td>1</td><td>n/a</td><td>13653-index_N705_N505_LC_573_Hs_UMB4727_20_M_CN_Cb_Purkinje_poolsplit_/13653_D1THKACXX_c116_l7.fastq.gz</td></tr><tr><td>13654</td><td>ENCSR888LYA</td><td>1</td><td>n/a</td><td>13654-index_N706_N506_LC_574_Hs_UMB4727_20_M_CN_Cb_Purkinje_poolsplit_/13654_D1THKACXX_c116_l7.fastq.gz</td></tr><tr><td>13655</td><td>ENCSR888LYA</td><td>1</td><td>n/a</td><td>13655-index_N707_N507_LC_575_Hs_UMB4727_20_M_CN_Cb_Purkinje_poolsplit_/13655_D1THKACXX_c116_l7.fastq.gz</td></tr><tr><td>13656</td><td>ENCSR888LYA</td><td>1</td><td>n/a</td><td>13656-index_N708_N508_LC_576_Hs_UMB4727_20_M_CN_Cb_Purkinje_poolsplit_/13656_D1THKACXX_c116_l7.fastq.gz</td></tr><tr><td>13657</td><td>ENCSR888LYA</td><td>1</td><td>n/a</td><td>13657-index_N709_N501_LC_577_Hs_UMB4727_20_M_CN_Cb_Purkinje_poolsplit_/13657_D1THKACXX_c116_l7.fastq.gz</td></tr><tr><td>13658</td><td>ENCSR888LYA</td><td>1</td><td>n/a</td><td>13658-index_N710_N502_LC_578_Hs_UMB4727_20_M_CN_Cb_Purkinje_poolsplit_/13658_D1THKACXX_c116_l8.fastq.gz</td></tr><tr><td>13659</td><td>ENCSR888LYA</td><td>1</td><td>n/a</td><td>13659-index_N711_N503_LC_579_Hs_UMB4727_20_M_CN_Cb_Purkinje_poolsplit_/13659_D1THKACXX_c116_l8.fastq.gz</td></tr><tr><td>13660</td><td>ENCSR888LYA</td><td>1</td><td>n/a</td><td>13660-index_N712_N504_LC_580_Hs_UMB4727_20_M_CN_Cb_Purkinje_poolsplit_/13660_D1THKACXX_c116_l8.fastq.gz</td></tr><tr><td>13661</td><td>ENCSR888LYA</td><td>1</td><td>n/a</td><td>13661-index_N701_N505_LC_581_Hs_UMB4727_20_M_CN_Cb_Purkinje_poolsplit_/13661_D1THKACXX_c116_l8.fastq.gz</td></tr><tr><td>13662</td><td>ENCSR888LYA</td><td>1</td><td>n/a</td><td>13662-index_N702_N506_LC_582_Hs_UMB4727_20_M_CN_Cb_Purkinje_poolsplit_/13662_D1THKACXX_c116_l8.fastq.gz</td></tr><tr><td>13663</td><td>ENCSR888LYA</td><td>1</td><td>n/a</td><td>13663-index_N703_N507_LC_583_Hs_UMB4727_20_M_CN_Cb_Purkinje_poolsplit_/13663_D1THKACXX_c116_l8.fastq.gz</td></tr><tr><td>13664</td><td>ENCSR888LYA</td><td>1</td><td>n/a</td><td>13664-index_N704_N508_LC_584_Hs_UMB4727_20_M_CN_Cb_Purkinje_poolsplit_/13664_D1THKACXX_c116_l8.fastq.gz</td></tr><tr><td>13665</td><td>ENCSR157NLF</td><td>1</td><td>n/a</td><td>13665-index_N712_N504_LC_586_Hs_UMB4727_20_M_CN_Cb_Purkinje_30pool_/13665_D1THKACXX_c116_l7.fastq.gz</td></tr><tr><td>13666</td><td>ENCSR157NLF</td><td>2</td><td>n/a</td><td>13666-index_N701_N505_LC_587_Hs_UMB4727_20_M_CN_Cb_Purkinje_30pool_/13666_D1THKACXX_c116_l7.fastq.gz</td></tr></table>"
       ],
       "metadata": {},
       "output_type": "pyout",
       "prompt_number": 52,
       "text": [
        "<rdfmagic.LibRdfResults at 0x7fb80f4bbf90>"
       ]
      }
     ],
     "prompt_number": 52
    },
    {
     "cell_type": "code",
     "collapsed": false,
     "input": [
      "manifest_query"
     ],
     "language": "python",
     "metadata": {},
     "outputs": [
      {
       "html": [
        "<table><tr><td>wold_library_id</td><td>experiment_id</td><td>dcc_rep</td><td>paired_end</td><td>file_name</td></tr><tr><td>12517</td><td>ENCSR000AIZ</td><td>1</td><td>None</td><td>None</td></tr><tr><td>12517</td><td>ENCSR000AIZ</td><td>1</td><td>None</td><td>None</td></tr><tr><td>12518</td><td>ENCSR000AIZ</td><td>2</td><td>None</td><td>None</td></tr><tr><td>12518</td><td>ENCSR000AIZ</td><td>2</td><td>None</td><td>None</td></tr><tr><td>13619</td><td>ENCSR900JSG</td><td>1</td><td>None</td><td>None</td></tr><tr><td>13620</td><td>ENCSR313IUO</td><td>1</td><td>None</td><td>None</td></tr><tr><td>13622</td><td>ENCSR900JSG</td><td>2</td><td>None</td><td>None</td></tr><tr><td>13623</td><td>ENCSR313IUO</td><td>2</td><td>None</td><td>None</td></tr><tr><td>13625</td><td>ENCSR558LHB</td><td>1</td><td>None</td><td>None</td></tr><tr><td>13626</td><td>ENCSR376KFF</td><td>1</td><td>None</td><td>None</td></tr><tr><td>13627</td><td>ENCSR561KFF</td><td>1</td><td>None</td><td>None</td></tr><tr><td>13628</td><td>ENCSR086PHI</td><td>1</td><td>None</td><td>None</td></tr><tr><td>13629</td><td>ENCSR921DSM</td><td>1</td><td>None</td><td>None</td></tr><tr><td>13630</td><td>ENCSR724XFQ</td><td>1</td><td>None</td><td>None</td></tr><tr><td>13631</td><td>ENCSR729ENB</td><td>1</td><td>None</td><td>None</td></tr><tr><td>13632</td><td>ENCSR828FPS</td><td>1</td><td>None</td><td>None</td></tr><tr><td>13633</td><td>ENCSR231WUP</td><td>1</td><td>None</td><td>None</td></tr><tr><td>13634</td><td>ENCSR435ROA</td><td>1</td><td>None</td><td>None</td></tr><tr><td>13635</td><td>ENCSR927DHK</td><td>1</td><td>None</td><td>None</td></tr><tr><td>13636</td><td>ENCSR244DNF</td><td>1</td><td>None</td><td>None</td></tr><tr><td>13637</td><td>ENCSR366QZI</td><td>1</td><td>None</td><td>None</td></tr><tr><td>13638</td><td>ENCSR659QHV</td><td>1</td><td>None</td><td>None</td></tr><tr><td>13639</td><td>ENCSR124ERY</td><td>1</td><td>None</td><td>None</td></tr><tr><td>13640</td><td>ENCSR610BAM</td><td>1</td><td>None</td><td>None</td></tr><tr><td>13641</td><td>ENCSR905FLM</td><td>1</td><td>None</td><td>None</td></tr><tr><td>13642</td><td>ENCSR101GVL</td><td>1</td><td>None</td><td>None</td></tr><tr><td>13643</td><td>ENCSR672QFA</td><td>1</td><td>None</td><td>None</td></tr><tr><td>13644</td><td>ENCSR417EDR</td><td>1</td><td>None</td><td>None</td></tr><tr><td>13645</td><td>ENCSR888LYA</td><td>1</td><td>None</td><td>None</td></tr><tr><td>13646</td><td>ENCSR888LYA</td><td>1</td><td>None</td><td>None</td></tr><tr><td>13647</td><td>ENCSR888LYA</td><td>1</td><td>None</td><td>None</td></tr><tr><td>13648</td><td>ENCSR888LYA</td><td>1</td><td>None</td><td>None</td></tr><tr><td>13649</td><td>ENCSR888LYA</td><td>1</td><td>None</td><td>None</td></tr><tr><td>13650</td><td>ENCSR888LYA</td><td>1</td><td>None</td><td>None</td></tr><tr><td>13651</td><td>ENCSR888LYA</td><td>1</td><td>None</td><td>None</td></tr><tr><td>13652</td><td>ENCSR888LYA</td><td>1</td><td>None</td><td>None</td></tr><tr><td>13653</td><td>ENCSR888LYA</td><td>1</td><td>None</td><td>None</td></tr><tr><td>13654</td><td>ENCSR888LYA</td><td>1</td><td>None</td><td>None</td></tr><tr><td>13655</td><td>ENCSR888LYA</td><td>1</td><td>None</td><td>None</td></tr><tr><td>13656</td><td>ENCSR888LYA</td><td>1</td><td>None</td><td>None</td></tr><tr><td>13657</td><td>ENCSR888LYA</td><td>1</td><td>None</td><td>None</td></tr><tr><td>13658</td><td>ENCSR888LYA</td><td>1</td><td>None</td><td>None</td></tr><tr><td>13659</td><td>ENCSR888LYA</td><td>1</td><td>None</td><td>None</td></tr><tr><td>13660</td><td>ENCSR888LYA</td><td>1</td><td>None</td><td>None</td></tr><tr><td>13661</td><td>ENCSR888LYA</td><td>1</td><td>None</td><td>None</td></tr><tr><td>13662</td><td>ENCSR888LYA</td><td>1</td><td>None</td><td>None</td></tr><tr><td>13663</td><td>ENCSR888LYA</td><td>1</td><td>None</td><td>None</td></tr><tr><td>13664</td><td>ENCSR888LYA</td><td>1</td><td>None</td><td>None</td></tr><tr><td>13665</td><td>ENCSR157NLF</td><td>1</td><td>None</td><td>None</td></tr><tr><td>13666</td><td>ENCSR157NLF</td><td>2</td><td>None</td><td>None</td></tr></table>"
       ],
       "metadata": {},
       "output_type": "pyout",
       "prompt_number": 45,
       "text": [
        "<rdfmagic.LibRdfResults at 0x7fb80f547990>"
       ]
      }
     ],
     "prompt_number": 45
    },
    {
     "cell_type": "code",
     "collapsed": false,
     "input": [
      "http://nbviewer.ipython.org/github/detrout/encode3-curation/blob/master/single-cell-gm12878-and-brain-preparation.ipynb"
     ],
     "language": "python",
     "metadata": {},
     "outputs": []
    },
    {
     "cell_type": "code",
     "collapsed": false,
     "input": [
      "def make_manifest(query):\n",
      "    manifest = []\n",
      "    manifest_columns = ['file_name', 'format', 'output_type', 'experiment', 'replicate', 'enriched_in', 'ucsc_db', 'paired_end']\n",
      "    for row in query:\n",
      "        filename = row['file_name']\n",
      "        experiment = row['experiment_id']\n",
      "        bio_replicate = row['dcc_rep']\n",
      "        paired_end = row['paired_end']\n",
      "        manifest_row = [filename, 'fastq', 'read', experiment, bio_replicate, 'intron', 'hg19', paired_end ]\n",
      "        manifest.append(dict(zip(manifest_columns, manifest_row)))\n",
      "    return pandas.DataFrame(manifest, columns=manifest_columns)\n",
      "manifest = make_manifest(manifest_query)"
     ],
     "language": "python",
     "metadata": {},
     "outputs": [],
     "prompt_number": 40
    },
    {
     "cell_type": "code",
     "collapsed": false,
     "input": [
      "manifest"
     ],
     "language": "python",
     "metadata": {},
     "outputs": [
      {
       "html": [
        "<div style=\"max-height:1000px;max-width:1500px;overflow:auto;\">\n",
        "<table border=\"1\" class=\"dataframe\">\n",
        "  <thead>\n",
        "    <tr style=\"text-align: right;\">\n",
        "      <th></th>\n",
        "      <th>file_name</th>\n",
        "      <th>format</th>\n",
        "      <th>output_type</th>\n",
        "      <th>experiment</th>\n",
        "      <th>replicate</th>\n",
        "      <th>enriched_in</th>\n",
        "      <th>ucsc_db</th>\n",
        "      <th>paired_end</th>\n",
        "    </tr>\n",
        "  </thead>\n",
        "  <tbody>\n",
        "    <tr>\n",
        "      <th>0 </th>\n",
        "      <td> 12517-index3_GM12878_30A_singlecell/12517_D054...</td>\n",
        "      <td> fastq</td>\n",
        "      <td> read</td>\n",
        "      <td> ENCSR000AIZ</td>\n",
        "      <td> 1</td>\n",
        "      <td> intron</td>\n",
        "      <td> hg19</td>\n",
        "      <td>   1</td>\n",
        "    </tr>\n",
        "    <tr>\n",
        "      <th>1 </th>\n",
        "      <td> 12517-index3_GM12878_30A_singlecell/12517_D054...</td>\n",
        "      <td> fastq</td>\n",
        "      <td> read</td>\n",
        "      <td> ENCSR000AIZ</td>\n",
        "      <td> 1</td>\n",
        "      <td> intron</td>\n",
        "      <td> hg19</td>\n",
        "      <td>   2</td>\n",
        "    </tr>\n",
        "    <tr>\n",
        "      <th>2 </th>\n",
        "      <td> 12518-index4_GM12878_30B_singlecell/12518_D054...</td>\n",
        "      <td> fastq</td>\n",
        "      <td> read</td>\n",
        "      <td> ENCSR000AIZ</td>\n",
        "      <td> 2</td>\n",
        "      <td> intron</td>\n",
        "      <td> hg19</td>\n",
        "      <td>   2</td>\n",
        "    </tr>\n",
        "    <tr>\n",
        "      <th>3 </th>\n",
        "      <td> 12518-index4_GM12878_30B_singlecell/12518_D054...</td>\n",
        "      <td> fastq</td>\n",
        "      <td> read</td>\n",
        "      <td> ENCSR000AIZ</td>\n",
        "      <td> 2</td>\n",
        "      <td> intron</td>\n",
        "      <td> hg19</td>\n",
        "      <td>   1</td>\n",
        "    </tr>\n",
        "    <tr>\n",
        "      <th>4 </th>\n",
        "      <td> 13619-index_N706_N506_LC_539_Hs_UMB5408_6_M_CN...</td>\n",
        "      <td> fastq</td>\n",
        "      <td> read</td>\n",
        "      <td> ENCSR900JSG</td>\n",
        "      <td> 1</td>\n",
        "      <td> intron</td>\n",
        "      <td> hg19</td>\n",
        "      <td> n/a</td>\n",
        "    </tr>\n",
        "    <tr>\n",
        "      <th>5 </th>\n",
        "      <td> 13620-index_N710_N506_LC_540_Hs_UMB5408_6_M_CN...</td>\n",
        "      <td> fastq</td>\n",
        "      <td> read</td>\n",
        "      <td> ENCSR313IUO</td>\n",
        "      <td> 1</td>\n",
        "      <td> intron</td>\n",
        "      <td> hg19</td>\n",
        "      <td> n/a</td>\n",
        "    </tr>\n",
        "    <tr>\n",
        "      <th>6 </th>\n",
        "      <td> 13622-index_N709_N501_LC_542_Hs_UMB5408_6_M_CN...</td>\n",
        "      <td> fastq</td>\n",
        "      <td> read</td>\n",
        "      <td> ENCSR900JSG</td>\n",
        "      <td> 2</td>\n",
        "      <td> intron</td>\n",
        "      <td> hg19</td>\n",
        "      <td> n/a</td>\n",
        "    </tr>\n",
        "    <tr>\n",
        "      <th>7 </th>\n",
        "      <td> 13623-index_N710_N502_LC_543_Hs_UMB5408_6_M_CN...</td>\n",
        "      <td> fastq</td>\n",
        "      <td> read</td>\n",
        "      <td> ENCSR313IUO</td>\n",
        "      <td> 2</td>\n",
        "      <td> intron</td>\n",
        "      <td> hg19</td>\n",
        "      <td> n/a</td>\n",
        "    </tr>\n",
        "    <tr>\n",
        "      <th>8 </th>\n",
        "      <td> 13625-index_N701_N501_LC_545_Hs_UMB4727_20_M_C...</td>\n",
        "      <td> fastq</td>\n",
        "      <td> read</td>\n",
        "      <td> ENCSR558LHB</td>\n",
        "      <td> 1</td>\n",
        "      <td> intron</td>\n",
        "      <td> hg19</td>\n",
        "      <td> n/a</td>\n",
        "    </tr>\n",
        "    <tr>\n",
        "      <th>9 </th>\n",
        "      <td> 13626-index_N702_N502_LC_546_Hs_UMB4727_20_M_C...</td>\n",
        "      <td> fastq</td>\n",
        "      <td> read</td>\n",
        "      <td> ENCSR376KFF</td>\n",
        "      <td> 1</td>\n",
        "      <td> intron</td>\n",
        "      <td> hg19</td>\n",
        "      <td> n/a</td>\n",
        "    </tr>\n",
        "    <tr>\n",
        "      <th>10</th>\n",
        "      <td> 13627-index_N703_N503_LC_547_Hs_UMB4727_20_M_C...</td>\n",
        "      <td> fastq</td>\n",
        "      <td> read</td>\n",
        "      <td> ENCSR561KFF</td>\n",
        "      <td> 1</td>\n",
        "      <td> intron</td>\n",
        "      <td> hg19</td>\n",
        "      <td> n/a</td>\n",
        "    </tr>\n",
        "    <tr>\n",
        "      <th>11</th>\n",
        "      <td> 13628-index_N704_N504_LC_548_Hs_UMB4727_20_M_C...</td>\n",
        "      <td> fastq</td>\n",
        "      <td> read</td>\n",
        "      <td> ENCSR086PHI</td>\n",
        "      <td> 1</td>\n",
        "      <td> intron</td>\n",
        "      <td> hg19</td>\n",
        "      <td> n/a</td>\n",
        "    </tr>\n",
        "    <tr>\n",
        "      <th>12</th>\n",
        "      <td> 13629-index_N705_N505_LC_549_Hs_UMB4727_20_M_C...</td>\n",
        "      <td> fastq</td>\n",
        "      <td> read</td>\n",
        "      <td> ENCSR921DSM</td>\n",
        "      <td> 1</td>\n",
        "      <td> intron</td>\n",
        "      <td> hg19</td>\n",
        "      <td> n/a</td>\n",
        "    </tr>\n",
        "    <tr>\n",
        "      <th>13</th>\n",
        "      <td> 13630-index_N706_N506_LC_550_Hs_UMB4727_20_M_C...</td>\n",
        "      <td> fastq</td>\n",
        "      <td> read</td>\n",
        "      <td> ENCSR724XFQ</td>\n",
        "      <td> 1</td>\n",
        "      <td> intron</td>\n",
        "      <td> hg19</td>\n",
        "      <td> n/a</td>\n",
        "    </tr>\n",
        "    <tr>\n",
        "      <th>14</th>\n",
        "      <td> 13631-index_N707_N507_LC_551_Hs_UMB4727_20_M_C...</td>\n",
        "      <td> fastq</td>\n",
        "      <td> read</td>\n",
        "      <td> ENCSR729ENB</td>\n",
        "      <td> 1</td>\n",
        "      <td> intron</td>\n",
        "      <td> hg19</td>\n",
        "      <td> n/a</td>\n",
        "    </tr>\n",
        "    <tr>\n",
        "      <th>15</th>\n",
        "      <td> 13632-index_N708_N508_LC_552_Hs_UMB4727_20_M_C...</td>\n",
        "      <td> fastq</td>\n",
        "      <td> read</td>\n",
        "      <td> ENCSR828FPS</td>\n",
        "      <td> 1</td>\n",
        "      <td> intron</td>\n",
        "      <td> hg19</td>\n",
        "      <td> n/a</td>\n",
        "    </tr>\n",
        "    <tr>\n",
        "      <th>16</th>\n",
        "      <td> 13633-index_N709_N501_LC_553_Hs_UMB4727_20_M_C...</td>\n",
        "      <td> fastq</td>\n",
        "      <td> read</td>\n",
        "      <td> ENCSR231WUP</td>\n",
        "      <td> 1</td>\n",
        "      <td> intron</td>\n",
        "      <td> hg19</td>\n",
        "      <td> n/a</td>\n",
        "    </tr>\n",
        "    <tr>\n",
        "      <th>17</th>\n",
        "      <td> 13634-index_N710_N502_LC_554_Hs_UMB4727_20_M_C...</td>\n",
        "      <td> fastq</td>\n",
        "      <td> read</td>\n",
        "      <td> ENCSR435ROA</td>\n",
        "      <td> 1</td>\n",
        "      <td> intron</td>\n",
        "      <td> hg19</td>\n",
        "      <td> n/a</td>\n",
        "    </tr>\n",
        "    <tr>\n",
        "      <th>18</th>\n",
        "      <td> 13635-index_N711_N503_LC_555_Hs_UMB4727_20_M_C...</td>\n",
        "      <td> fastq</td>\n",
        "      <td> read</td>\n",
        "      <td> ENCSR927DHK</td>\n",
        "      <td> 1</td>\n",
        "      <td> intron</td>\n",
        "      <td> hg19</td>\n",
        "      <td> n/a</td>\n",
        "    </tr>\n",
        "    <tr>\n",
        "      <th>19</th>\n",
        "      <td> 13636-index_N712_N504_LC_556_Hs_UMB4727_20_M_C...</td>\n",
        "      <td> fastq</td>\n",
        "      <td> read</td>\n",
        "      <td> ENCSR244DNF</td>\n",
        "      <td> 1</td>\n",
        "      <td> intron</td>\n",
        "      <td> hg19</td>\n",
        "      <td> n/a</td>\n",
        "    </tr>\n",
        "    <tr>\n",
        "      <th>20</th>\n",
        "      <td> 13637-index_N701_N505_LC_557_Hs_UMB4727_20_M_C...</td>\n",
        "      <td> fastq</td>\n",
        "      <td> read</td>\n",
        "      <td> ENCSR366QZI</td>\n",
        "      <td> 1</td>\n",
        "      <td> intron</td>\n",
        "      <td> hg19</td>\n",
        "      <td> n/a</td>\n",
        "    </tr>\n",
        "    <tr>\n",
        "      <th>21</th>\n",
        "      <td> 13638-index_N702_N506_LC_558_Hs_UMB4727_20_M_C...</td>\n",
        "      <td> fastq</td>\n",
        "      <td> read</td>\n",
        "      <td> ENCSR659QHV</td>\n",
        "      <td> 1</td>\n",
        "      <td> intron</td>\n",
        "      <td> hg19</td>\n",
        "      <td> n/a</td>\n",
        "    </tr>\n",
        "    <tr>\n",
        "      <th>22</th>\n",
        "      <td> 13639-index_N703_N507_LC_559_Hs_UMB4727_20_M_C...</td>\n",
        "      <td> fastq</td>\n",
        "      <td> read</td>\n",
        "      <td> ENCSR124ERY</td>\n",
        "      <td> 1</td>\n",
        "      <td> intron</td>\n",
        "      <td> hg19</td>\n",
        "      <td> n/a</td>\n",
        "    </tr>\n",
        "    <tr>\n",
        "      <th>23</th>\n",
        "      <td> 13640-index_N704_N508_LC_560_Hs_UMB4727_20_M_C...</td>\n",
        "      <td> fastq</td>\n",
        "      <td> read</td>\n",
        "      <td> ENCSR610BAM</td>\n",
        "      <td> 1</td>\n",
        "      <td> intron</td>\n",
        "      <td> hg19</td>\n",
        "      <td> n/a</td>\n",
        "    </tr>\n",
        "    <tr>\n",
        "      <th>24</th>\n",
        "      <td> 13641-index_N705_N501_LC_561_Hs_UMB4727_20_M_C...</td>\n",
        "      <td> fastq</td>\n",
        "      <td> read</td>\n",
        "      <td> ENCSR905FLM</td>\n",
        "      <td> 1</td>\n",
        "      <td> intron</td>\n",
        "      <td> hg19</td>\n",
        "      <td> n/a</td>\n",
        "    </tr>\n",
        "    <tr>\n",
        "      <th>25</th>\n",
        "      <td> 13642-index_N706_N502_LC_562_Hs_UMB4727_20_M_C...</td>\n",
        "      <td> fastq</td>\n",
        "      <td> read</td>\n",
        "      <td> ENCSR101GVL</td>\n",
        "      <td> 1</td>\n",
        "      <td> intron</td>\n",
        "      <td> hg19</td>\n",
        "      <td> n/a</td>\n",
        "    </tr>\n",
        "    <tr>\n",
        "      <th>26</th>\n",
        "      <td> 13643-index_N707_N503_LC_563_Hs_UMB4727_20_M_C...</td>\n",
        "      <td> fastq</td>\n",
        "      <td> read</td>\n",
        "      <td> ENCSR672QFA</td>\n",
        "      <td> 1</td>\n",
        "      <td> intron</td>\n",
        "      <td> hg19</td>\n",
        "      <td> n/a</td>\n",
        "    </tr>\n",
        "    <tr>\n",
        "      <th>27</th>\n",
        "      <td> 13644-index_N708_N504_LC_564_Hs_UMB4727_20_M_C...</td>\n",
        "      <td> fastq</td>\n",
        "      <td> read</td>\n",
        "      <td> ENCSR417EDR</td>\n",
        "      <td> 1</td>\n",
        "      <td> intron</td>\n",
        "      <td> hg19</td>\n",
        "      <td> n/a</td>\n",
        "    </tr>\n",
        "    <tr>\n",
        "      <th>28</th>\n",
        "      <td> 13645-index_N709_N505_LC_565_Hs_UMB4727_20_M_C...</td>\n",
        "      <td> fastq</td>\n",
        "      <td> read</td>\n",
        "      <td> ENCSR888LYA</td>\n",
        "      <td> 1</td>\n",
        "      <td> intron</td>\n",
        "      <td> hg19</td>\n",
        "      <td> n/a</td>\n",
        "    </tr>\n",
        "    <tr>\n",
        "      <th>29</th>\n",
        "      <td> 13646-index_N710_N506_LC_566_Hs_UMB4727_20_M_C...</td>\n",
        "      <td> fastq</td>\n",
        "      <td> read</td>\n",
        "      <td> ENCSR888LYA</td>\n",
        "      <td> 1</td>\n",
        "      <td> intron</td>\n",
        "      <td> hg19</td>\n",
        "      <td> n/a</td>\n",
        "    </tr>\n",
        "    <tr>\n",
        "      <th>30</th>\n",
        "      <td> 13647-index_N711_N507_LC_567_Hs_UMB4727_20_M_C...</td>\n",
        "      <td> fastq</td>\n",
        "      <td> read</td>\n",
        "      <td> ENCSR888LYA</td>\n",
        "      <td> 1</td>\n",
        "      <td> intron</td>\n",
        "      <td> hg19</td>\n",
        "      <td> n/a</td>\n",
        "    </tr>\n",
        "    <tr>\n",
        "      <th>31</th>\n",
        "      <td> 13648-index_N712_N508_LC_568_Hs_UMB4727_20_M_C...</td>\n",
        "      <td> fastq</td>\n",
        "      <td> read</td>\n",
        "      <td> ENCSR888LYA</td>\n",
        "      <td> 1</td>\n",
        "      <td> intron</td>\n",
        "      <td> hg19</td>\n",
        "      <td> n/a</td>\n",
        "    </tr>\n",
        "    <tr>\n",
        "      <th>32</th>\n",
        "      <td> 13649-index_N701_N501_LC_569_Hs_UMB4727_20_M_C...</td>\n",
        "      <td> fastq</td>\n",
        "      <td> read</td>\n",
        "      <td> ENCSR888LYA</td>\n",
        "      <td> 1</td>\n",
        "      <td> intron</td>\n",
        "      <td> hg19</td>\n",
        "      <td> n/a</td>\n",
        "    </tr>\n",
        "    <tr>\n",
        "      <th>33</th>\n",
        "      <td> 13650-index_N702_N502_LC_570_Hs_UMB4727_20_M_C...</td>\n",
        "      <td> fastq</td>\n",
        "      <td> read</td>\n",
        "      <td> ENCSR888LYA</td>\n",
        "      <td> 1</td>\n",
        "      <td> intron</td>\n",
        "      <td> hg19</td>\n",
        "      <td> n/a</td>\n",
        "    </tr>\n",
        "    <tr>\n",
        "      <th>34</th>\n",
        "      <td> 13651-index_N703_N503_LC_571_Hs_UMB4727_20_M_C...</td>\n",
        "      <td> fastq</td>\n",
        "      <td> read</td>\n",
        "      <td> ENCSR888LYA</td>\n",
        "      <td> 1</td>\n",
        "      <td> intron</td>\n",
        "      <td> hg19</td>\n",
        "      <td> n/a</td>\n",
        "    </tr>\n",
        "    <tr>\n",
        "      <th>35</th>\n",
        "      <td> 13652-index_N704_N504_LC_572_Hs_UMB4727_20_M_C...</td>\n",
        "      <td> fastq</td>\n",
        "      <td> read</td>\n",
        "      <td> ENCSR888LYA</td>\n",
        "      <td> 1</td>\n",
        "      <td> intron</td>\n",
        "      <td> hg19</td>\n",
        "      <td> n/a</td>\n",
        "    </tr>\n",
        "    <tr>\n",
        "      <th>36</th>\n",
        "      <td> 13653-index_N705_N505_LC_573_Hs_UMB4727_20_M_C...</td>\n",
        "      <td> fastq</td>\n",
        "      <td> read</td>\n",
        "      <td> ENCSR888LYA</td>\n",
        "      <td> 1</td>\n",
        "      <td> intron</td>\n",
        "      <td> hg19</td>\n",
        "      <td> n/a</td>\n",
        "    </tr>\n",
        "    <tr>\n",
        "      <th>37</th>\n",
        "      <td> 13654-index_N706_N506_LC_574_Hs_UMB4727_20_M_C...</td>\n",
        "      <td> fastq</td>\n",
        "      <td> read</td>\n",
        "      <td> ENCSR888LYA</td>\n",
        "      <td> 1</td>\n",
        "      <td> intron</td>\n",
        "      <td> hg19</td>\n",
        "      <td> n/a</td>\n",
        "    </tr>\n",
        "    <tr>\n",
        "      <th>38</th>\n",
        "      <td> 13655-index_N707_N507_LC_575_Hs_UMB4727_20_M_C...</td>\n",
        "      <td> fastq</td>\n",
        "      <td> read</td>\n",
        "      <td> ENCSR888LYA</td>\n",
        "      <td> 1</td>\n",
        "      <td> intron</td>\n",
        "      <td> hg19</td>\n",
        "      <td> n/a</td>\n",
        "    </tr>\n",
        "    <tr>\n",
        "      <th>39</th>\n",
        "      <td> 13656-index_N708_N508_LC_576_Hs_UMB4727_20_M_C...</td>\n",
        "      <td> fastq</td>\n",
        "      <td> read</td>\n",
        "      <td> ENCSR888LYA</td>\n",
        "      <td> 1</td>\n",
        "      <td> intron</td>\n",
        "      <td> hg19</td>\n",
        "      <td> n/a</td>\n",
        "    </tr>\n",
        "    <tr>\n",
        "      <th>40</th>\n",
        "      <td> 13657-index_N709_N501_LC_577_Hs_UMB4727_20_M_C...</td>\n",
        "      <td> fastq</td>\n",
        "      <td> read</td>\n",
        "      <td> ENCSR888LYA</td>\n",
        "      <td> 1</td>\n",
        "      <td> intron</td>\n",
        "      <td> hg19</td>\n",
        "      <td> n/a</td>\n",
        "    </tr>\n",
        "    <tr>\n",
        "      <th>41</th>\n",
        "      <td> 13658-index_N710_N502_LC_578_Hs_UMB4727_20_M_C...</td>\n",
        "      <td> fastq</td>\n",
        "      <td> read</td>\n",
        "      <td> ENCSR888LYA</td>\n",
        "      <td> 1</td>\n",
        "      <td> intron</td>\n",
        "      <td> hg19</td>\n",
        "      <td> n/a</td>\n",
        "    </tr>\n",
        "    <tr>\n",
        "      <th>42</th>\n",
        "      <td> 13659-index_N711_N503_LC_579_Hs_UMB4727_20_M_C...</td>\n",
        "      <td> fastq</td>\n",
        "      <td> read</td>\n",
        "      <td> ENCSR888LYA</td>\n",
        "      <td> 1</td>\n",
        "      <td> intron</td>\n",
        "      <td> hg19</td>\n",
        "      <td> n/a</td>\n",
        "    </tr>\n",
        "    <tr>\n",
        "      <th>43</th>\n",
        "      <td> 13660-index_N712_N504_LC_580_Hs_UMB4727_20_M_C...</td>\n",
        "      <td> fastq</td>\n",
        "      <td> read</td>\n",
        "      <td> ENCSR888LYA</td>\n",
        "      <td> 1</td>\n",
        "      <td> intron</td>\n",
        "      <td> hg19</td>\n",
        "      <td> n/a</td>\n",
        "    </tr>\n",
        "    <tr>\n",
        "      <th>44</th>\n",
        "      <td> 13661-index_N701_N505_LC_581_Hs_UMB4727_20_M_C...</td>\n",
        "      <td> fastq</td>\n",
        "      <td> read</td>\n",
        "      <td> ENCSR888LYA</td>\n",
        "      <td> 1</td>\n",
        "      <td> intron</td>\n",
        "      <td> hg19</td>\n",
        "      <td> n/a</td>\n",
        "    </tr>\n",
        "    <tr>\n",
        "      <th>45</th>\n",
        "      <td> 13662-index_N702_N506_LC_582_Hs_UMB4727_20_M_C...</td>\n",
        "      <td> fastq</td>\n",
        "      <td> read</td>\n",
        "      <td> ENCSR888LYA</td>\n",
        "      <td> 1</td>\n",
        "      <td> intron</td>\n",
        "      <td> hg19</td>\n",
        "      <td> n/a</td>\n",
        "    </tr>\n",
        "    <tr>\n",
        "      <th>46</th>\n",
        "      <td> 13663-index_N703_N507_LC_583_Hs_UMB4727_20_M_C...</td>\n",
        "      <td> fastq</td>\n",
        "      <td> read</td>\n",
        "      <td> ENCSR888LYA</td>\n",
        "      <td> 1</td>\n",
        "      <td> intron</td>\n",
        "      <td> hg19</td>\n",
        "      <td> n/a</td>\n",
        "    </tr>\n",
        "    <tr>\n",
        "      <th>47</th>\n",
        "      <td> 13664-index_N704_N508_LC_584_Hs_UMB4727_20_M_C...</td>\n",
        "      <td> fastq</td>\n",
        "      <td> read</td>\n",
        "      <td> ENCSR888LYA</td>\n",
        "      <td> 1</td>\n",
        "      <td> intron</td>\n",
        "      <td> hg19</td>\n",
        "      <td> n/a</td>\n",
        "    </tr>\n",
        "    <tr>\n",
        "      <th>48</th>\n",
        "      <td> 13665-index_N712_N504_LC_586_Hs_UMB4727_20_M_C...</td>\n",
        "      <td> fastq</td>\n",
        "      <td> read</td>\n",
        "      <td> ENCSR157NLF</td>\n",
        "      <td> 1</td>\n",
        "      <td> intron</td>\n",
        "      <td> hg19</td>\n",
        "      <td> n/a</td>\n",
        "    </tr>\n",
        "    <tr>\n",
        "      <th>49</th>\n",
        "      <td> 13666-index_N701_N505_LC_587_Hs_UMB4727_20_M_C...</td>\n",
        "      <td> fastq</td>\n",
        "      <td> read</td>\n",
        "      <td> ENCSR157NLF</td>\n",
        "      <td> 2</td>\n",
        "      <td> intron</td>\n",
        "      <td> hg19</td>\n",
        "      <td> n/a</td>\n",
        "    </tr>\n",
        "  </tbody>\n",
        "</table>\n",
        "<p>50 rows \u00d7 8 columns</p>\n",
        "</div>"
       ],
       "metadata": {},
       "output_type": "pyout",
       "prompt_number": 41,
       "text": [
        "                                            file_name format output_type  \\\n",
        "0   12517-index3_GM12878_30A_singlecell/12517_D054...  fastq        read   \n",
        "1   12517-index3_GM12878_30A_singlecell/12517_D054...  fastq        read   \n",
        "2   12518-index4_GM12878_30B_singlecell/12518_D054...  fastq        read   \n",
        "3   12518-index4_GM12878_30B_singlecell/12518_D054...  fastq        read   \n",
        "4   13619-index_N706_N506_LC_539_Hs_UMB5408_6_M_CN...  fastq        read   \n",
        "5   13620-index_N710_N506_LC_540_Hs_UMB5408_6_M_CN...  fastq        read   \n",
        "6   13622-index_N709_N501_LC_542_Hs_UMB5408_6_M_CN...  fastq        read   \n",
        "7   13623-index_N710_N502_LC_543_Hs_UMB5408_6_M_CN...  fastq        read   \n",
        "8   13625-index_N701_N501_LC_545_Hs_UMB4727_20_M_C...  fastq        read   \n",
        "9   13626-index_N702_N502_LC_546_Hs_UMB4727_20_M_C...  fastq        read   \n",
        "10  13627-index_N703_N503_LC_547_Hs_UMB4727_20_M_C...  fastq        read   \n",
        "11  13628-index_N704_N504_LC_548_Hs_UMB4727_20_M_C...  fastq        read   \n",
        "12  13629-index_N705_N505_LC_549_Hs_UMB4727_20_M_C...  fastq        read   \n",
        "13  13630-index_N706_N506_LC_550_Hs_UMB4727_20_M_C...  fastq        read   \n",
        "14  13631-index_N707_N507_LC_551_Hs_UMB4727_20_M_C...  fastq        read   \n",
        "15  13632-index_N708_N508_LC_552_Hs_UMB4727_20_M_C...  fastq        read   \n",
        "16  13633-index_N709_N501_LC_553_Hs_UMB4727_20_M_C...  fastq        read   \n",
        "17  13634-index_N710_N502_LC_554_Hs_UMB4727_20_M_C...  fastq        read   \n",
        "18  13635-index_N711_N503_LC_555_Hs_UMB4727_20_M_C...  fastq        read   \n",
        "19  13636-index_N712_N504_LC_556_Hs_UMB4727_20_M_C...  fastq        read   \n",
        "20  13637-index_N701_N505_LC_557_Hs_UMB4727_20_M_C...  fastq        read   \n",
        "21  13638-index_N702_N506_LC_558_Hs_UMB4727_20_M_C...  fastq        read   \n",
        "22  13639-index_N703_N507_LC_559_Hs_UMB4727_20_M_C...  fastq        read   \n",
        "23  13640-index_N704_N508_LC_560_Hs_UMB4727_20_M_C...  fastq        read   \n",
        "24  13641-index_N705_N501_LC_561_Hs_UMB4727_20_M_C...  fastq        read   \n",
        "25  13642-index_N706_N502_LC_562_Hs_UMB4727_20_M_C...  fastq        read   \n",
        "26  13643-index_N707_N503_LC_563_Hs_UMB4727_20_M_C...  fastq        read   \n",
        "27  13644-index_N708_N504_LC_564_Hs_UMB4727_20_M_C...  fastq        read   \n",
        "28  13645-index_N709_N505_LC_565_Hs_UMB4727_20_M_C...  fastq        read   \n",
        "29  13646-index_N710_N506_LC_566_Hs_UMB4727_20_M_C...  fastq        read   \n",
        "30  13647-index_N711_N507_LC_567_Hs_UMB4727_20_M_C...  fastq        read   \n",
        "31  13648-index_N712_N508_LC_568_Hs_UMB4727_20_M_C...  fastq        read   \n",
        "32  13649-index_N701_N501_LC_569_Hs_UMB4727_20_M_C...  fastq        read   \n",
        "33  13650-index_N702_N502_LC_570_Hs_UMB4727_20_M_C...  fastq        read   \n",
        "34  13651-index_N703_N503_LC_571_Hs_UMB4727_20_M_C...  fastq        read   \n",
        "35  13652-index_N704_N504_LC_572_Hs_UMB4727_20_M_C...  fastq        read   \n",
        "36  13653-index_N705_N505_LC_573_Hs_UMB4727_20_M_C...  fastq        read   \n",
        "37  13654-index_N706_N506_LC_574_Hs_UMB4727_20_M_C...  fastq        read   \n",
        "38  13655-index_N707_N507_LC_575_Hs_UMB4727_20_M_C...  fastq        read   \n",
        "39  13656-index_N708_N508_LC_576_Hs_UMB4727_20_M_C...  fastq        read   \n",
        "40  13657-index_N709_N501_LC_577_Hs_UMB4727_20_M_C...  fastq        read   \n",
        "41  13658-index_N710_N502_LC_578_Hs_UMB4727_20_M_C...  fastq        read   \n",
        "42  13659-index_N711_N503_LC_579_Hs_UMB4727_20_M_C...  fastq        read   \n",
        "43  13660-index_N712_N504_LC_580_Hs_UMB4727_20_M_C...  fastq        read   \n",
        "44  13661-index_N701_N505_LC_581_Hs_UMB4727_20_M_C...  fastq        read   \n",
        "45  13662-index_N702_N506_LC_582_Hs_UMB4727_20_M_C...  fastq        read   \n",
        "46  13663-index_N703_N507_LC_583_Hs_UMB4727_20_M_C...  fastq        read   \n",
        "47  13664-index_N704_N508_LC_584_Hs_UMB4727_20_M_C...  fastq        read   \n",
        "48  13665-index_N712_N504_LC_586_Hs_UMB4727_20_M_C...  fastq        read   \n",
        "49  13666-index_N701_N505_LC_587_Hs_UMB4727_20_M_C...  fastq        read   \n",
        "\n",
        "     experiment replicate enriched_in ucsc_db paired_end  \n",
        "0   ENCSR000AIZ         1      intron    hg19          1  \n",
        "1   ENCSR000AIZ         1      intron    hg19          2  \n",
        "2   ENCSR000AIZ         2      intron    hg19          2  \n",
        "3   ENCSR000AIZ         2      intron    hg19          1  \n",
        "4   ENCSR900JSG         1      intron    hg19        n/a  \n",
        "5   ENCSR313IUO         1      intron    hg19        n/a  \n",
        "6   ENCSR900JSG         2      intron    hg19        n/a  \n",
        "7   ENCSR313IUO         2      intron    hg19        n/a  \n",
        "8   ENCSR558LHB         1      intron    hg19        n/a  \n",
        "9   ENCSR376KFF         1      intron    hg19        n/a  \n",
        "10  ENCSR561KFF         1      intron    hg19        n/a  \n",
        "11  ENCSR086PHI         1      intron    hg19        n/a  \n",
        "12  ENCSR921DSM         1      intron    hg19        n/a  \n",
        "13  ENCSR724XFQ         1      intron    hg19        n/a  \n",
        "14  ENCSR729ENB         1      intron    hg19        n/a  \n",
        "15  ENCSR828FPS         1      intron    hg19        n/a  \n",
        "16  ENCSR231WUP         1      intron    hg19        n/a  \n",
        "17  ENCSR435ROA         1      intron    hg19        n/a  \n",
        "18  ENCSR927DHK         1      intron    hg19        n/a  \n",
        "19  ENCSR244DNF         1      intron    hg19        n/a  \n",
        "20  ENCSR366QZI         1      intron    hg19        n/a  \n",
        "21  ENCSR659QHV         1      intron    hg19        n/a  \n",
        "22  ENCSR124ERY         1      intron    hg19        n/a  \n",
        "23  ENCSR610BAM         1      intron    hg19        n/a  \n",
        "24  ENCSR905FLM         1      intron    hg19        n/a  \n",
        "25  ENCSR101GVL         1      intron    hg19        n/a  \n",
        "26  ENCSR672QFA         1      intron    hg19        n/a  \n",
        "27  ENCSR417EDR         1      intron    hg19        n/a  \n",
        "28  ENCSR888LYA         1      intron    hg19        n/a  \n",
        "29  ENCSR888LYA         1      intron    hg19        n/a  \n",
        "30  ENCSR888LYA         1      intron    hg19        n/a  \n",
        "31  ENCSR888LYA         1      intron    hg19        n/a  \n",
        "32  ENCSR888LYA         1      intron    hg19        n/a  \n",
        "33  ENCSR888LYA         1      intron    hg19        n/a  \n",
        "34  ENCSR888LYA         1      intron    hg19        n/a  \n",
        "35  ENCSR888LYA         1      intron    hg19        n/a  \n",
        "36  ENCSR888LYA         1      intron    hg19        n/a  \n",
        "37  ENCSR888LYA         1      intron    hg19        n/a  \n",
        "38  ENCSR888LYA         1      intron    hg19        n/a  \n",
        "39  ENCSR888LYA         1      intron    hg19        n/a  \n",
        "40  ENCSR888LYA         1      intron    hg19        n/a  \n",
        "41  ENCSR888LYA         1      intron    hg19        n/a  \n",
        "42  ENCSR888LYA         1      intron    hg19        n/a  \n",
        "43  ENCSR888LYA         1      intron    hg19        n/a  \n",
        "44  ENCSR888LYA         1      intron    hg19        n/a  \n",
        "45  ENCSR888LYA         1      intron    hg19        n/a  \n",
        "46  ENCSR888LYA         1      intron    hg19        n/a  \n",
        "47  ENCSR888LYA         1      intron    hg19        n/a  \n",
        "48  ENCSR157NLF         1      intron    hg19        n/a  \n",
        "49  ENCSR157NLF         2      intron    hg19        n/a  \n",
        "\n",
        "[50 rows x 8 columns]"
       ]
      }
     ],
     "prompt_number": 41
    },
    {
     "cell_type": "code",
     "collapsed": false,
     "input": [
      "manifest.to_csv('/tmp/manifest.txt', sep='\\t', index=False)"
     ],
     "language": "python",
     "metadata": {},
     "outputs": [],
     "prompt_number": 42
    },
    {
     "cell_type": "code",
     "collapsed": false,
     "input": [],
     "language": "python",
     "metadata": {},
     "outputs": [],
     "prompt_number": 42
    }
   ],
   "metadata": {}
  }
 ]
}