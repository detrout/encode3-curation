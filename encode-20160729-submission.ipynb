{
 "cells": [
  {
   "cell_type": "markdown",
   "metadata": {},
   "source": [
    "Prepare for end of july 29 2016 submission. Is this Y4Q4?\n"
   ]
  },
  {
   "cell_type": "code",
   "execution_count": 1,
   "metadata": {
    "collapsed": false
   },
   "outputs": [],
   "source": [
    "import pandas\n",
    "import gcat\n",
    "import paramiko\n",
    "from IPython import display"
   ]
  },
  {
   "cell_type": "code",
   "execution_count": 2,
   "metadata": {
    "collapsed": true
   },
   "outputs": [],
   "source": [
    "from curation_common import *"
   ]
  },
  {
   "cell_type": "code",
   "execution_count": 3,
   "metadata": {
    "collapsed": true
   },
   "outputs": [],
   "source": [
    "server = ENCODED('www.encodeproject.org')\n",
    "server.load_netrc()"
   ]
  },
  {
   "cell_type": "code",
   "execution_count": 4,
   "metadata": {
    "collapsed": true
   },
   "outputs": [],
   "source": [
    "spreadsheet_name = 'ENCODE Submission for Y4Q1'"
   ]
  },
  {
   "cell_type": "markdown",
   "metadata": {},
   "source": [
    "# Register Biosamples"
   ]
  },
  {
   "cell_type": "code",
   "execution_count": 5,
   "metadata": {
    "collapsed": false
   },
   "outputs": [
    {
     "name": "stdout",
     "output_type": "stream",
     "text": [
      "0\n"
     ]
    }
   ],
   "source": [
    "sheet = gcat.get_file(spreadsheet_name, fmt='pandas_excel')\n",
    "biosample = sheet.parse('Biosamples', header=0)\n",
    "created = server.post_sheet('/biosamples/', biosample, verbose=True, dry_run=True)\n",
    "print(len(created))\n",
    "if created:\n",
    "    biosample.to_excel('/dev/shm/biosamples.xlsx', index=False)"
   ]
  },
  {
   "cell_type": "markdown",
   "metadata": {},
   "source": [
    "# Register Experiments"
   ]
  },
  {
   "cell_type": "code",
   "execution_count": 6,
   "metadata": {
    "collapsed": false
   },
   "outputs": [
    {
     "name": "stdout",
     "output_type": "stream",
     "text": [
      "0\n"
     ]
    }
   ],
   "source": [
    "sheet = gcat.get_file(spreadsheet_name, fmt='pandas_excel')\n",
    "experiments = sheet.parse('Experiments', header=0)\n",
    "\n",
    "created = server.post_sheet('/experiments/', experiments, \n",
    "                            verbose=True, \n",
    "                            dry_run=True)\n",
    "print(len(created))\n",
    "if created:\n",
    "    experiments.to_excel('/dev/shm/experiments.xlsx', index=False)\n",
    "    display.display_pretty(created)"
   ]
  },
  {
   "cell_type": "markdown",
   "metadata": {},
   "source": [
    "# Register Libraries"
   ]
  },
  {
   "cell_type": "code",
   "execution_count": 7,
   "metadata": {
    "collapsed": false,
    "scrolled": true
   },
   "outputs": [
    {
     "name": "stdout",
     "output_type": "stream",
     "text": [
      "0\n"
     ]
    }
   ],
   "source": [
    "sheet = gcat.get_file(spreadsheet_name, fmt='pandas_excel')\n",
    "libraries = sheet.parse('Libraries', header=0)\n",
    "\n",
    "created = server.post_sheet('/libraries/', libraries, \n",
    "                            verbose=True, \n",
    "                            dry_run=True)\n",
    "print(len(created))\n",
    "if created:\n",
    "    display.display_pretty(created)\n",
    "    libraries.to_excel('/dev/shm/libraries.xlsx', index=False)"
   ]
  },
  {
   "cell_type": "markdown",
   "metadata": {},
   "source": [
    "# Register Replicates"
   ]
  },
  {
   "cell_type": "code",
   "execution_count": 8,
   "metadata": {
    "collapsed": false,
    "scrolled": false
   },
   "outputs": [
    {
     "name": "stdout",
     "output_type": "stream",
     "text": [
      "0\n"
     ]
    }
   ],
   "source": [
    "book = gcat.get_file(spreadsheet_name, fmt='pandas_excel')\n",
    "replicates = book.parse('Replicates', header=0)\n",
    "\n",
    "created = server.post_sheet('/replicates/', replicates, \n",
    "                            verbose=True, \n",
    "                            dry_run=True)\n",
    "print(len(created))\n",
    "if created:\n",
    "    display.display_pretty(created)\n",
    "    replicates.to_excel('/dev/shm/replicates.xlsx', index=False)"
   ]
  },
  {
   "cell_type": "markdown",
   "metadata": {},
   "source": [
    "# Create Manifest"
   ]
  },
  {
   "cell_type": "code",
   "execution_count": 11,
   "metadata": {
    "collapsed": true
   },
   "outputs": [],
   "source": [
    "def make_manifest(spreadsheet_name, submission_name, submission_root, map_name):\n",
    "    book = gcat.get_file(spreadsheet_name, fmt='pandas_excel')\n",
    "    libraries = book.parse('Libraries')\n",
    "    replicates = book.parse('Replicates')\n",
    "    \n",
    "    pongo = paramiko.SSHClient()\n",
    "    pongo.set_missing_host_key_policy(paramiko.WarningPolicy())\n",
    "    pongo.connect('pongo.cacr.caltech.edu', username='diane', \n",
    "                  look_for_keys=False,\n",
    "                  #gss_auth=True, gss_kex=True\n",
    "                 )\n",
    "    sftp = pongo.open_sftp()\n",
    "    sftp.chdir(submission_root)\n",
    "    files = 0\n",
    "    for line in sftp.open(map_name):\n",
    "        # skip comments\n",
    "        line = line.strip()\n",
    "        if len(line) == 0 or line.startswith('#'):\n",
    "            continue\n",
    "\n",
    "        library_id, dirname = line.split()\n",
    "        alias = 'barbara-wold:{}'.format(library_id)\n",
    "        library_row = libraries[libraries['aliases:array'] == alias]\n",
    "        replicate_row = replicates[replicates['library'] == alias]\n",
    "        for filename in sftp.listdir(dirname):\n",
    "            if filename.endswith('fastq.gz'):\n",
    "                relative_path = os.path.join(dirname, filename)\n",
    "                metadata = {\n",
    "                    'dataset': list(replicate_row['experiment'])[0],\n",
    "                    'submitted_file_name': relative_path,\n",
    "                    'replicate': list(replicate_row['uuid'])[0],\n",
    "                    'lab': list(library_row['lab'])[0],\n",
    "                    'award': list(library_row['award'])[0],\n",
    "                }\n",
    "                #display.display_pretty(metadata)\n",
    "                print('<http://jumpgate.caltech.edu/wiki/SubmissionsLog/{}#{}>'.format(submission_name, dirname))\n",
    "                print('  encode3:dataset \"{}\" ;'.format(metadata['dataset']))\n",
    "                print('  encode3:replicate \"{}\" ;'.format(metadata['replicate']))\n",
    "                print('  encode3:lab \"{}\" ;'.format(metadata['lab']))\n",
    "                print('  encode3:award \"{}\" .'.format(metadata['award']))\n",
    "\n",
    "                print('<file:///woldlab/castor/home/diane/proj/submission/{}/{}>'.format(submission_name, relative_path))\n",
    "                print('  encode3:output_type \"reads\" ;')\n",
    "                print('  encode3:file_format \"fastq\" .')\n",
    "                files += 1\n",
    "\n",
    "    print('generated {} records'.format(files))\n"
   ]
  },
  {
   "cell_type": "code",
   "execution_count": 12,
   "metadata": {
    "collapsed": false
   },
   "outputs": [
    {
     "name": "stderr",
     "output_type": "stream",
     "text": [
      "/usr/lib/python3/dist-packages/paramiko/client.py:658: UserWarning: Unknown ssh-rsa host key for pongo.cacr.caltech.edu: b'6833531597d6176b45c27f33e9406a12'\n",
      "  (key.get_name(), hostname, hexlify(key.get_fingerprint())))\n"
     ]
    },
    {
     "name": "stdout",
     "output_type": "stream",
     "text": [
      "<http://jumpgate.caltech.edu/wiki/SubmissionsLog/encode-20160729#17288-mouse-e10.5-forebrain-rep1>\n",
      "  encode3:dataset \"ENCSR304RDL\" ;\n",
      "  encode3:replicate \"013e43ea-7897-4742-b4ef-7ad441f7bd02\" ;\n",
      "  encode3:lab \"barbara-wold\" ;\n",
      "  encode3:award \"U54HG006998\" .\n",
      "<file:///woldlab/castor/home/diane/proj/submission/encode-20160729/17288-mouse-e10.5-forebrain-rep1/17288_HT2GVBCXX_c116_l1.fastq.gz>\n",
      "  encode3:output_type \"reads\" ;\n",
      "  encode3:file_format \"fastq\" .\n",
      "<http://jumpgate.caltech.edu/wiki/SubmissionsLog/encode-20160729#17288-mouse-e10.5-forebrain-rep1>\n",
      "  encode3:dataset \"ENCSR304RDL\" ;\n",
      "  encode3:replicate \"013e43ea-7897-4742-b4ef-7ad441f7bd02\" ;\n",
      "  encode3:lab \"barbara-wold\" ;\n",
      "  encode3:award \"U54HG006998\" .\n",
      "<file:///woldlab/castor/home/diane/proj/submission/encode-20160729/17288-mouse-e10.5-forebrain-rep1/17288_HT2GVBCXX_c116_l2.fastq.gz>\n",
      "  encode3:output_type \"reads\" ;\n",
      "  encode3:file_format \"fastq\" .\n",
      "<http://jumpgate.caltech.edu/wiki/SubmissionsLog/encode-20160729#17289-mouse-e10.5-forebrain-rep2>\n",
      "  encode3:dataset \"ENCSR304RDL\" ;\n",
      "  encode3:replicate \"1dd4be3a-9f2e-4273-bdaa-1f49a230ee20\" ;\n",
      "  encode3:lab \"barbara-wold\" ;\n",
      "  encode3:award \"U54HG006998\" .\n",
      "<file:///woldlab/castor/home/diane/proj/submission/encode-20160729/17289-mouse-e10.5-forebrain-rep2/17289_HT2GVBCXX_c116_l1.fastq.gz>\n",
      "  encode3:output_type \"reads\" ;\n",
      "  encode3:file_format \"fastq\" .\n",
      "<http://jumpgate.caltech.edu/wiki/SubmissionsLog/encode-20160729#17289-mouse-e10.5-forebrain-rep2>\n",
      "  encode3:dataset \"ENCSR304RDL\" ;\n",
      "  encode3:replicate \"1dd4be3a-9f2e-4273-bdaa-1f49a230ee20\" ;\n",
      "  encode3:lab \"barbara-wold\" ;\n",
      "  encode3:award \"U54HG006998\" .\n",
      "<file:///woldlab/castor/home/diane/proj/submission/encode-20160729/17289-mouse-e10.5-forebrain-rep2/17289_HT2GVBCXX_c116_l2.fastq.gz>\n",
      "  encode3:output_type \"reads\" ;\n",
      "  encode3:file_format \"fastq\" .\n",
      "<http://jumpgate.caltech.edu/wiki/SubmissionsLog/encode-20160729#17290-mouse-e10.5-midbrain-rep1>\n",
      "  encode3:dataset \"ENCSR764OPZ\" ;\n",
      "  encode3:replicate \"40f6ffb3-344d-4654-ae5e-56a57862b67d\" ;\n",
      "  encode3:lab \"barbara-wold\" ;\n",
      "  encode3:award \"U54HG006998\" .\n",
      "<file:///woldlab/castor/home/diane/proj/submission/encode-20160729/17290-mouse-e10.5-midbrain-rep1/17290_HT2GVBCXX_c116_l2.fastq.gz>\n",
      "  encode3:output_type \"reads\" ;\n",
      "  encode3:file_format \"fastq\" .\n",
      "<http://jumpgate.caltech.edu/wiki/SubmissionsLog/encode-20160729#17290-mouse-e10.5-midbrain-rep1>\n",
      "  encode3:dataset \"ENCSR764OPZ\" ;\n",
      "  encode3:replicate \"40f6ffb3-344d-4654-ae5e-56a57862b67d\" ;\n",
      "  encode3:lab \"barbara-wold\" ;\n",
      "  encode3:award \"U54HG006998\" .\n",
      "<file:///woldlab/castor/home/diane/proj/submission/encode-20160729/17290-mouse-e10.5-midbrain-rep1/17290_HT2GVBCXX_c116_l1.fastq.gz>\n",
      "  encode3:output_type \"reads\" ;\n",
      "  encode3:file_format \"fastq\" .\n",
      "<http://jumpgate.caltech.edu/wiki/SubmissionsLog/encode-20160729#17291-mouse-e10.5-midbrain-rep2>\n",
      "  encode3:dataset \"ENCSR764OPZ\" ;\n",
      "  encode3:replicate \"e99479b6-11a1-4842-905b-35fba1380dba\" ;\n",
      "  encode3:lab \"barbara-wold\" ;\n",
      "  encode3:award \"U54HG006998\" .\n",
      "<file:///woldlab/castor/home/diane/proj/submission/encode-20160729/17291-mouse-e10.5-midbrain-rep2/17291_HT2GVBCXX_c116_l2.fastq.gz>\n",
      "  encode3:output_type \"reads\" ;\n",
      "  encode3:file_format \"fastq\" .\n",
      "<http://jumpgate.caltech.edu/wiki/SubmissionsLog/encode-20160729#17291-mouse-e10.5-midbrain-rep2>\n",
      "  encode3:dataset \"ENCSR764OPZ\" ;\n",
      "  encode3:replicate \"e99479b6-11a1-4842-905b-35fba1380dba\" ;\n",
      "  encode3:lab \"barbara-wold\" ;\n",
      "  encode3:award \"U54HG006998\" .\n",
      "<file:///woldlab/castor/home/diane/proj/submission/encode-20160729/17291-mouse-e10.5-midbrain-rep2/17291_HT2GVBCXX_c116_l1.fastq.gz>\n",
      "  encode3:output_type \"reads\" ;\n",
      "  encode3:file_format \"fastq\" .\n",
      "<http://jumpgate.caltech.edu/wiki/SubmissionsLog/encode-20160729#17292-mouse-e10.5-hindbrain-rep1>\n",
      "  encode3:dataset \"ENCSR943LKA\" ;\n",
      "  encode3:replicate \"793eb7de-ea16-4a32-a73d-abad06c2f03b\" ;\n",
      "  encode3:lab \"barbara-wold\" ;\n",
      "  encode3:award \"U54HG006998\" .\n",
      "<file:///woldlab/castor/home/diane/proj/submission/encode-20160729/17292-mouse-e10.5-hindbrain-rep1/17292_HT2GVBCXX_c116_l1.fastq.gz>\n",
      "  encode3:output_type \"reads\" ;\n",
      "  encode3:file_format \"fastq\" .\n",
      "<http://jumpgate.caltech.edu/wiki/SubmissionsLog/encode-20160729#17292-mouse-e10.5-hindbrain-rep1>\n",
      "  encode3:dataset \"ENCSR943LKA\" ;\n",
      "  encode3:replicate \"793eb7de-ea16-4a32-a73d-abad06c2f03b\" ;\n",
      "  encode3:lab \"barbara-wold\" ;\n",
      "  encode3:award \"U54HG006998\" .\n",
      "<file:///woldlab/castor/home/diane/proj/submission/encode-20160729/17292-mouse-e10.5-hindbrain-rep1/17292_HT2GVBCXX_c116_l2.fastq.gz>\n",
      "  encode3:output_type \"reads\" ;\n",
      "  encode3:file_format \"fastq\" .\n",
      "<http://jumpgate.caltech.edu/wiki/SubmissionsLog/encode-20160729#17293-mouse-e10.5-hindbrain-rep2>\n",
      "  encode3:dataset \"ENCSR943LKA\" ;\n",
      "  encode3:replicate \"acd8946b-8112-4aeb-9fc9-26280d03fcf0\" ;\n",
      "  encode3:lab \"barbara-wold\" ;\n",
      "  encode3:award \"U54HG006998\" .\n",
      "<file:///woldlab/castor/home/diane/proj/submission/encode-20160729/17293-mouse-e10.5-hindbrain-rep2/17293_HT2GVBCXX_c116_l2.fastq.gz>\n",
      "  encode3:output_type \"reads\" ;\n",
      "  encode3:file_format \"fastq\" .\n",
      "<http://jumpgate.caltech.edu/wiki/SubmissionsLog/encode-20160729#17293-mouse-e10.5-hindbrain-rep2>\n",
      "  encode3:dataset \"ENCSR943LKA\" ;\n",
      "  encode3:replicate \"acd8946b-8112-4aeb-9fc9-26280d03fcf0\" ;\n",
      "  encode3:lab \"barbara-wold\" ;\n",
      "  encode3:award \"U54HG006998\" .\n",
      "<file:///woldlab/castor/home/diane/proj/submission/encode-20160729/17293-mouse-e10.5-hindbrain-rep2/17293_HT2GVBCXX_c116_l1.fastq.gz>\n",
      "  encode3:output_type \"reads\" ;\n",
      "  encode3:file_format \"fastq\" .\n",
      "<http://jumpgate.caltech.edu/wiki/SubmissionsLog/encode-20160729#17294-mouse-e10.5-CNF-rep1>\n",
      "  encode3:dataset \"ENCSR809VYL\" ;\n",
      "  encode3:replicate \"dad68aad-227f-4446-bdf2-4c5ea8c7ed40\" ;\n",
      "  encode3:lab \"barbara-wold\" ;\n",
      "  encode3:award \"U54HG006998\" .\n",
      "<file:///woldlab/castor/home/diane/proj/submission/encode-20160729/17294-mouse-e10.5-CNF-rep1/17294_HTMY3BCXX_c116_l2.fastq.gz>\n",
      "  encode3:output_type \"reads\" ;\n",
      "  encode3:file_format \"fastq\" .\n",
      "<http://jumpgate.caltech.edu/wiki/SubmissionsLog/encode-20160729#17294-mouse-e10.5-CNF-rep1>\n",
      "  encode3:dataset \"ENCSR809VYL\" ;\n",
      "  encode3:replicate \"dad68aad-227f-4446-bdf2-4c5ea8c7ed40\" ;\n",
      "  encode3:lab \"barbara-wold\" ;\n",
      "  encode3:award \"U54HG006998\" .\n",
      "<file:///woldlab/castor/home/diane/proj/submission/encode-20160729/17294-mouse-e10.5-CNF-rep1/17294_HTMY3BCXX_c116_l1.fastq.gz>\n",
      "  encode3:output_type \"reads\" ;\n",
      "  encode3:file_format \"fastq\" .\n",
      "<http://jumpgate.caltech.edu/wiki/SubmissionsLog/encode-20160729#17295-mouse-e10.5-CNF-rep2>\n",
      "  encode3:dataset \"ENCSR809VYL\" ;\n",
      "  encode3:replicate \"c5a2a869-920d-4f92-82cd-c0537ccc4772\" ;\n",
      "  encode3:lab \"barbara-wold\" ;\n",
      "  encode3:award \"U54HG006998\" .\n",
      "<file:///woldlab/castor/home/diane/proj/submission/encode-20160729/17295-mouse-e10.5-CNF-rep2/17295_HTMY3BCXX_c116_l2.fastq.gz>\n",
      "  encode3:output_type \"reads\" ;\n",
      "  encode3:file_format \"fastq\" .\n",
      "<http://jumpgate.caltech.edu/wiki/SubmissionsLog/encode-20160729#17295-mouse-e10.5-CNF-rep2>\n",
      "  encode3:dataset \"ENCSR809VYL\" ;\n",
      "  encode3:replicate \"c5a2a869-920d-4f92-82cd-c0537ccc4772\" ;\n",
      "  encode3:lab \"barbara-wold\" ;\n",
      "  encode3:award \"U54HG006998\" .\n",
      "<file:///woldlab/castor/home/diane/proj/submission/encode-20160729/17295-mouse-e10.5-CNF-rep2/17295_HTMY3BCXX_c116_l1.fastq.gz>\n",
      "  encode3:output_type \"reads\" ;\n",
      "  encode3:file_format \"fastq\" .\n",
      "<http://jumpgate.caltech.edu/wiki/SubmissionsLog/encode-20160729#17296-mouse-e10.5-heart-rep1>\n",
      "  encode3:dataset \"ENCSR049UJU\" ;\n",
      "  encode3:replicate \"f45fff37-0539-49c0-8c28-8896f44b7fbb\" ;\n",
      "  encode3:lab \"barbara-wold\" ;\n",
      "  encode3:award \"U54HG006998\" .\n",
      "<file:///woldlab/castor/home/diane/proj/submission/encode-20160729/17296-mouse-e10.5-heart-rep1/17296_HTMY3BCXX_c116_l2.fastq.gz>\n",
      "  encode3:output_type \"reads\" ;\n",
      "  encode3:file_format \"fastq\" .\n",
      "<http://jumpgate.caltech.edu/wiki/SubmissionsLog/encode-20160729#17296-mouse-e10.5-heart-rep1>\n",
      "  encode3:dataset \"ENCSR049UJU\" ;\n",
      "  encode3:replicate \"f45fff37-0539-49c0-8c28-8896f44b7fbb\" ;\n",
      "  encode3:lab \"barbara-wold\" ;\n",
      "  encode3:award \"U54HG006998\" .\n",
      "<file:///woldlab/castor/home/diane/proj/submission/encode-20160729/17296-mouse-e10.5-heart-rep1/17296_HTMY3BCXX_c116_l1.fastq.gz>\n",
      "  encode3:output_type \"reads\" ;\n",
      "  encode3:file_format \"fastq\" .\n",
      "<http://jumpgate.caltech.edu/wiki/SubmissionsLog/encode-20160729#17297-mouse-e10.5-heart-rep2>\n",
      "  encode3:dataset \"ENCSR049UJU\" ;\n",
      "  encode3:replicate \"8f26e06a-b808-4696-bc4f-d20821fffb2a\" ;\n",
      "  encode3:lab \"barbara-wold\" ;\n",
      "  encode3:award \"U54HG006998\" .\n",
      "<file:///woldlab/castor/home/diane/proj/submission/encode-20160729/17297-mouse-e10.5-heart-rep2/17297_HTMY3BCXX_c116_l2.fastq.gz>\n",
      "  encode3:output_type \"reads\" ;\n",
      "  encode3:file_format \"fastq\" .\n",
      "<http://jumpgate.caltech.edu/wiki/SubmissionsLog/encode-20160729#17297-mouse-e10.5-heart-rep2>\n",
      "  encode3:dataset \"ENCSR049UJU\" ;\n",
      "  encode3:replicate \"8f26e06a-b808-4696-bc4f-d20821fffb2a\" ;\n",
      "  encode3:lab \"barbara-wold\" ;\n",
      "  encode3:award \"U54HG006998\" .\n",
      "<file:///woldlab/castor/home/diane/proj/submission/encode-20160729/17297-mouse-e10.5-heart-rep2/17297_HTMY3BCXX_c116_l1.fastq.gz>\n",
      "  encode3:output_type \"reads\" ;\n",
      "  encode3:file_format \"fastq\" .\n",
      "<http://jumpgate.caltech.edu/wiki/SubmissionsLog/encode-20160729#17298-mouse-e10.5-limb-rep1>\n",
      "  encode3:dataset \"ENCSR968QHO\" ;\n",
      "  encode3:replicate \"06c5e084-378a-4da4-a72e-70f803f10b8b\" ;\n",
      "  encode3:lab \"barbara-wold\" ;\n",
      "  encode3:award \"U54HG006998\" .\n",
      "<file:///woldlab/castor/home/diane/proj/submission/encode-20160729/17298-mouse-e10.5-limb-rep1/17298_HTMY3BCXX_c116_l2.fastq.gz>\n",
      "  encode3:output_type \"reads\" ;\n",
      "  encode3:file_format \"fastq\" .\n",
      "<http://jumpgate.caltech.edu/wiki/SubmissionsLog/encode-20160729#17298-mouse-e10.5-limb-rep1>\n",
      "  encode3:dataset \"ENCSR968QHO\" ;\n",
      "  encode3:replicate \"06c5e084-378a-4da4-a72e-70f803f10b8b\" ;\n",
      "  encode3:lab \"barbara-wold\" ;\n",
      "  encode3:award \"U54HG006998\" .\n",
      "<file:///woldlab/castor/home/diane/proj/submission/encode-20160729/17298-mouse-e10.5-limb-rep1/17298_HTMY3BCXX_c116_l1.fastq.gz>\n",
      "  encode3:output_type \"reads\" ;\n",
      "  encode3:file_format \"fastq\" .\n",
      "<http://jumpgate.caltech.edu/wiki/SubmissionsLog/encode-20160729#17299-mouse-e10.5-limb-rep2>\n",
      "  encode3:dataset \"ENCSR968QHO\" ;\n",
      "  encode3:replicate \"feb19e95-3fec-497b-8068-d3a693478148\" ;\n",
      "  encode3:lab \"barbara-wold\" ;\n",
      "  encode3:award \"U54HG006998\" .\n",
      "<file:///woldlab/castor/home/diane/proj/submission/encode-20160729/17299-mouse-e10.5-limb-rep2/17299_HTMY3BCXX_c116_l2.fastq.gz>\n",
      "  encode3:output_type \"reads\" ;\n",
      "  encode3:file_format \"fastq\" .\n",
      "<http://jumpgate.caltech.edu/wiki/SubmissionsLog/encode-20160729#17299-mouse-e10.5-limb-rep2>\n",
      "  encode3:dataset \"ENCSR968QHO\" ;\n",
      "  encode3:replicate \"feb19e95-3fec-497b-8068-d3a693478148\" ;\n",
      "  encode3:lab \"barbara-wold\" ;\n",
      "  encode3:award \"U54HG006998\" .\n",
      "<file:///woldlab/castor/home/diane/proj/submission/encode-20160729/17299-mouse-e10.5-limb-rep2/17299_HTMY3BCXX_c116_l1.fastq.gz>\n",
      "  encode3:output_type \"reads\" ;\n",
      "  encode3:file_format \"fastq\" .\n",
      "generated 24 records\n"
     ]
    }
   ],
   "source": [
    "make_manifest(spreadsheet_name, 'encode-20160729', '/home/diane/proj/submission/encode-20160729/', 'libs.tsv')"
   ]
  },
  {
   "cell_type": "code",
   "execution_count": null,
   "metadata": {
    "collapsed": true
   },
   "outputs": [],
   "source": []
  }
 ],
 "metadata": {
  "kernelspec": {
   "display_name": "Python 3",
   "language": "python",
   "name": "python3"
  },
  "language_info": {
   "codemirror_mode": {
    "name": "ipython",
    "version": 3
   },
   "file_extension": ".py",
   "mimetype": "text/x-python",
   "name": "python",
   "nbconvert_exporter": "python",
   "pygments_lexer": "ipython3",
   "version": "3.5.2"
  }
 },
 "nbformat": 4,
 "nbformat_minor": 0
}
