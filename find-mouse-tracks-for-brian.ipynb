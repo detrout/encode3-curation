{
 "cells": [
  {
   "cell_type": "markdown",
   "metadata": {},
   "source": [
    "# Introduction\n",
    "\n",
    "Brian is looking for some mouse bigwig tracks for the mouse ENCODE3 timecourse"
   ]
  },
  {
   "cell_type": "code",
   "execution_count": 1,
   "metadata": {
    "collapsed": false
   },
   "outputs": [
    {
     "name": "stderr",
     "output_type": "stream",
     "text": [
      "INFO:rdflib:RDFLib Version: 4.2.1\n"
     ]
    }
   ],
   "source": [
    "import pandas\n",
    "import numpy\n",
    "import requests\n",
    "import os\n",
    "import sys\n",
    "import json\n",
    "\n",
    "from rdflib import ConjunctiveGraph, Graph, Literal, BNode, URIRef, Namespace\n"
   ]
  },
  {
   "cell_type": "code",
   "execution_count": 2,
   "metadata": {
    "collapsed": false
   },
   "outputs": [],
   "source": [
    "from curation_common import *"
   ]
  },
  {
   "cell_type": "code",
   "execution_count": 3,
   "metadata": {
    "collapsed": true
   },
   "outputs": [],
   "source": [
    "library_ids = \"\"\"17288\n",
    "17289\n",
    "17290\n",
    "17291\n",
    "17292\n",
    "17293\n",
    "17294\n",
    "17295\n",
    "17296\n",
    "17297\n",
    "17298\n",
    "17299\n",
    "15007\n",
    "15008\n",
    "15009\n",
    "15010\n",
    "15011\n",
    "15012\n",
    "15013\n",
    "15014\n",
    "15015\n",
    "15016\n",
    "15017\n",
    "15018\n",
    "15019\n",
    "15020\n",
    "15021\n",
    "15022\n",
    "16922\n",
    "16923\n",
    "16924\n",
    "16925\n",
    "16926\n",
    "16927\n",
    "16928\n",
    "16929\n",
    "16930\n",
    "16931\n",
    "16932\n",
    "16933\n",
    "16934\n",
    "16935\n",
    "16936\n",
    "16937\n",
    "16100\n",
    "16101\n",
    "16102\n",
    "16103\n",
    "16104\n",
    "16105\n",
    "16106\n",
    "16107\n",
    "16108\n",
    "16109\n",
    "16110\n",
    "16111\n",
    "16112\n",
    "16113\n",
    "16114\n",
    "16115\n",
    "15072\n",
    "15073\n",
    "15074\n",
    "15075\n",
    "15076\n",
    "15077\n",
    "15078\n",
    "15079\n",
    "15080\n",
    "15081\n",
    "15082\n",
    "15083\n",
    "15084\n",
    "15085\n",
    "15086\n",
    "15087\n",
    "15088\n",
    "15089\n",
    "15090\n",
    "15091\n",
    "15092\n",
    "15093\n",
    "15094\n",
    "15095\n",
    "16116\n",
    "16117\n",
    "16118\n",
    "16119\n",
    "16120\n",
    "16121\n",
    "16122\n",
    "16123\n",
    "16124\n",
    "16125\n",
    "16126\n",
    "16127\n",
    "16128\n",
    "16129\n",
    "16130\n",
    "16131\n",
    "16132\n",
    "16133\n",
    "16134\n",
    "16135\n",
    "16136\n",
    "16137\n",
    "16138\n",
    "16139\n",
    "16140\n",
    "16141\n",
    "16142\n",
    "16143\n",
    "16144\n",
    "16145\n",
    "16146\n",
    "16147\n",
    "16148\n",
    "16149\n",
    "16150\n",
    "16151\n",
    "16152\n",
    "16153\n",
    "16154\n",
    "16155\n",
    "16156\n",
    "16157\n",
    "15475\n",
    "15476\n",
    "15477\n",
    "15478\n",
    "15479\n",
    "15480\n",
    "15481\n",
    "15482\n",
    "15483\n",
    "15484\n",
    "15485\n",
    "15486\n",
    "15487\n",
    "15488\n",
    "15489\n",
    "15490\n",
    "15491\n",
    "15492\n",
    "15493\n",
    "15494\n",
    "15495\n",
    "15496\n",
    "15497\n",
    "15498\n",
    "15499\n",
    "15500\n",
    "15501\n",
    "15502\n",
    "15503\n",
    "15504\"\"\".split('\\n')"
   ]
  },
  {
   "cell_type": "code",
   "execution_count": 4,
   "metadata": {
    "collapsed": false
   },
   "outputs": [
    {
     "data": {
      "text/plain": [
       "156"
      ]
     },
     "execution_count": 4,
     "metadata": {},
     "output_type": "execute_result"
    }
   ],
   "source": [
    "len(library_ids)"
   ]
  },
  {
   "cell_type": "code",
   "execution_count": 5,
   "metadata": {
    "collapsed": false
   },
   "outputs": [],
   "source": [
    "encode = ENCODED(\"encodeproject.org\")"
   ]
  },
  {
   "cell_type": "code",
   "execution_count": 6,
   "metadata": {
    "collapsed": true
   },
   "outputs": [],
   "source": [
    "model = Graph()\n",
    "\n",
    "prefixes = {\n",
    "    \"File\": \"https://encodeproject.org/profiles/File.json#\",\n",
    "    \"AnalysisStepVersion\": \"https://encodeproject.org/profiles/AnalysisStepVersion.json#\",\n",
    "    \"Platform\": \"https://encodeproject.org/profiles/Platform.json#\",\n",
    "    \"User\": \"https://encodeproject.org/profiles/User.json#\",\n",
    "    \"Award\": \"https://encodeproject.org/profiles/Award.json#\",\n",
    "    \"MouseDonor\": \"https://encodeproject.org/profiles/MouseDonor.json#\",\n",
    "    \"Pipeline\": \"https://encodeproject.org/profiles/Pipeline.json#\",\n",
    "    \"Source\": \"https://encodeproject.org/profiles/Source.json#\",\n",
    "    \"Document\": \"https://encodeproject.org/profiles/Document.json#\",\n",
    "    \"Library\": \"https://encodeproject.org/profiles/Library.json#\",\n",
    "    \"ReferenceEipgenome\": \"https://encodeproject.org/profiles/ReferenceEpigenome.json#\",\n",
    "    \"AnalysisStep\": \"https://encodeproject.org/profiles/AnalysisStep.json#\",\n",
    "    \"Biosample\": \"https://encodeproject.org/profiles/Biosample.json#\",\n",
    "    \"Lab\": \"https://encodeproject.org/profiles/Lab.json#\",\n",
    "    \"Organism\": \"https://encodeproject.org/profiles/Organism.json#\",\n",
    "    \"Replicate\": \"https://encodeproject.org/profiles/Replicate.json#\",\n",
    "    \"Experiment\": \"https://encodeproject.org/profiles/Experiment.json#\",\n",
    "}\n",
    "for k in prefixes:\n",
    "    model.bind(k, prefixes[k])"
   ]
  },
  {
   "cell_type": "code",
   "execution_count": 7,
   "metadata": {
    "collapsed": false,
    "scrolled": true
   },
   "outputs": [
    {
     "name": "stderr",
     "output_type": "stream",
     "text": [
      "INFO:htsworkflow.submission.encoded:requesting url: https://encodeproject.org/search/\n"
     ]
    },
    {
     "name": "stdout",
     "output_type": "stream",
     "text": [
      "Searching for barbara-wold:17288 1/156\n"
     ]
    },
    {
     "name": "stderr",
     "output_type": "stream",
     "text": [
      "INFO:htsworkflow.submission.encoded:requesting url: https://encodeproject.org/experiments/ENCSR304RDL/\n",
      "INFO:htsworkflow.submission.encoded:requesting url: https://encodeproject.org/search/\n"
     ]
    },
    {
     "name": "stdout",
     "output_type": "stream",
     "text": [
      "Searching for barbara-wold:17289 2/156\n"
     ]
    },
    {
     "name": "stderr",
     "output_type": "stream",
     "text": [
      "INFO:htsworkflow.submission.encoded:requesting url: https://encodeproject.org/search/\n"
     ]
    },
    {
     "name": "stdout",
     "output_type": "stream",
     "text": [
      "Searching for barbara-wold:17290 3/156\n"
     ]
    },
    {
     "name": "stderr",
     "output_type": "stream",
     "text": [
      "INFO:htsworkflow.submission.encoded:requesting url: https://encodeproject.org/experiments/ENCSR764OPZ/\n",
      "INFO:htsworkflow.submission.encoded:requesting url: https://encodeproject.org/search/\n"
     ]
    },
    {
     "name": "stdout",
     "output_type": "stream",
     "text": [
      "Searching for barbara-wold:17291 4/156\n"
     ]
    },
    {
     "name": "stderr",
     "output_type": "stream",
     "text": [
      "INFO:htsworkflow.submission.encoded:requesting url: https://encodeproject.org/search/\n"
     ]
    },
    {
     "name": "stdout",
     "output_type": "stream",
     "text": [
      "Searching for barbara-wold:17292 5/156\n"
     ]
    },
    {
     "name": "stderr",
     "output_type": "stream",
     "text": [
      "INFO:htsworkflow.submission.encoded:requesting url: https://encodeproject.org/experiments/ENCSR943LKA/\n",
      "INFO:htsworkflow.submission.encoded:requesting url: https://encodeproject.org/search/\n"
     ]
    },
    {
     "name": "stdout",
     "output_type": "stream",
     "text": [
      "Searching for barbara-wold:17293 6/156\n"
     ]
    },
    {
     "name": "stderr",
     "output_type": "stream",
     "text": [
      "INFO:htsworkflow.submission.encoded:requesting url: https://encodeproject.org/search/\n"
     ]
    },
    {
     "name": "stdout",
     "output_type": "stream",
     "text": [
      "Searching for barbara-wold:17294 7/156\n"
     ]
    },
    {
     "name": "stderr",
     "output_type": "stream",
     "text": [
      "INFO:htsworkflow.submission.encoded:requesting url: https://encodeproject.org/experiments/ENCSR809VYL/\n",
      "INFO:htsworkflow.submission.encoded:requesting url: https://encodeproject.org/search/\n"
     ]
    },
    {
     "name": "stdout",
     "output_type": "stream",
     "text": [
      "Searching for barbara-wold:17295 8/156\n"
     ]
    },
    {
     "name": "stderr",
     "output_type": "stream",
     "text": [
      "INFO:htsworkflow.submission.encoded:requesting url: https://encodeproject.org/search/\n"
     ]
    },
    {
     "name": "stdout",
     "output_type": "stream",
     "text": [
      "Searching for barbara-wold:17296 9/156\n"
     ]
    },
    {
     "name": "stderr",
     "output_type": "stream",
     "text": [
      "INFO:htsworkflow.submission.encoded:requesting url: https://encodeproject.org/experiments/ENCSR049UJU/\n",
      "INFO:htsworkflow.submission.encoded:requesting url: https://encodeproject.org/search/\n"
     ]
    },
    {
     "name": "stdout",
     "output_type": "stream",
     "text": [
      "Searching for barbara-wold:17297 10/156\n"
     ]
    },
    {
     "name": "stderr",
     "output_type": "stream",
     "text": [
      "INFO:htsworkflow.submission.encoded:requesting url: https://encodeproject.org/search/\n"
     ]
    },
    {
     "name": "stdout",
     "output_type": "stream",
     "text": [
      "Searching for barbara-wold:17298 11/156\n"
     ]
    },
    {
     "name": "stderr",
     "output_type": "stream",
     "text": [
      "INFO:htsworkflow.submission.encoded:requesting url: https://encodeproject.org/experiments/ENCSR968QHO/\n",
      "INFO:htsworkflow.submission.encoded:requesting url: https://encodeproject.org/search/\n"
     ]
    },
    {
     "name": "stdout",
     "output_type": "stream",
     "text": [
      "Searching for barbara-wold:17299 12/156\n"
     ]
    },
    {
     "name": "stderr",
     "output_type": "stream",
     "text": [
      "INFO:htsworkflow.submission.encoded:requesting url: https://encodeproject.org/search/\n"
     ]
    },
    {
     "name": "stdout",
     "output_type": "stream",
     "text": [
      "Searching for barbara-wold:15007 13/156\n"
     ]
    },
    {
     "name": "stderr",
     "output_type": "stream",
     "text": [
      "INFO:htsworkflow.submission.encoded:requesting url: https://encodeproject.org/experiments/ENCSR160IIN/\n",
      "INFO:htsworkflow.submission.encoded:requesting url: https://encodeproject.org/search/\n"
     ]
    },
    {
     "name": "stdout",
     "output_type": "stream",
     "text": [
      "Searching for barbara-wold:15008 14/156\n"
     ]
    },
    {
     "name": "stderr",
     "output_type": "stream",
     "text": [
      "INFO:htsworkflow.submission.encoded:requesting url: https://encodeproject.org/search/\n"
     ]
    },
    {
     "name": "stdout",
     "output_type": "stream",
     "text": [
      "Searching for barbara-wold:15009 15/156\n"
     ]
    },
    {
     "name": "stderr",
     "output_type": "stream",
     "text": [
      "INFO:htsworkflow.submission.encoded:requesting url: https://encodeproject.org/experiments/ENCSR307BCA/\n",
      "INFO:htsworkflow.submission.encoded:requesting url: https://encodeproject.org/search/\n"
     ]
    },
    {
     "name": "stdout",
     "output_type": "stream",
     "text": [
      "Searching for barbara-wold:15010 16/156\n"
     ]
    },
    {
     "name": "stderr",
     "output_type": "stream",
     "text": [
      "INFO:htsworkflow.submission.encoded:requesting url: https://encodeproject.org/search/\n"
     ]
    },
    {
     "name": "stdout",
     "output_type": "stream",
     "text": [
      "Searching for barbara-wold:15011 17/156\n"
     ]
    },
    {
     "name": "stderr",
     "output_type": "stream",
     "text": [
      "INFO:htsworkflow.submission.encoded:requesting url: https://encodeproject.org/experiments/ENCSR760TOE/\n",
      "INFO:htsworkflow.submission.encoded:requesting url: https://encodeproject.org/search/\n"
     ]
    },
    {
     "name": "stdout",
     "output_type": "stream",
     "text": [
      "Searching for barbara-wold:15012 18/156\n"
     ]
    },
    {
     "name": "stderr",
     "output_type": "stream",
     "text": [
      "INFO:htsworkflow.submission.encoded:requesting url: https://encodeproject.org/search/\n"
     ]
    },
    {
     "name": "stdout",
     "output_type": "stream",
     "text": [
      "Searching for barbara-wold:15013 19/156\n"
     ]
    },
    {
     "name": "stderr",
     "output_type": "stream",
     "text": [
      "INFO:htsworkflow.submission.encoded:requesting url: https://encodeproject.org/experiments/ENCSR848HOX/\n",
      "INFO:htsworkflow.submission.encoded:requesting url: https://encodeproject.org/search/\n"
     ]
    },
    {
     "name": "stdout",
     "output_type": "stream",
     "text": [
      "Searching for barbara-wold:15014 20/156\n"
     ]
    },
    {
     "name": "stderr",
     "output_type": "stream",
     "text": [
      "INFO:htsworkflow.submission.encoded:requesting url: https://encodeproject.org/search/\n"
     ]
    },
    {
     "name": "stdout",
     "output_type": "stream",
     "text": [
      "Searching for barbara-wold:15015 21/156\n"
     ]
    },
    {
     "name": "stderr",
     "output_type": "stream",
     "text": [
      "INFO:htsworkflow.submission.encoded:requesting url: https://encodeproject.org/experiments/ENCSR691OPQ/\n",
      "INFO:htsworkflow.submission.encoded:requesting url: https://encodeproject.org/search/\n"
     ]
    },
    {
     "name": "stdout",
     "output_type": "stream",
     "text": [
      "Searching for barbara-wold:15016 22/156\n"
     ]
    },
    {
     "name": "stderr",
     "output_type": "stream",
     "text": [
      "INFO:htsworkflow.submission.encoded:requesting url: https://encodeproject.org/search/\n"
     ]
    },
    {
     "name": "stdout",
     "output_type": "stream",
     "text": [
      "Searching for barbara-wold:15017 23/156\n"
     ]
    },
    {
     "name": "stderr",
     "output_type": "stream",
     "text": [
      "INFO:htsworkflow.submission.encoded:requesting url: https://encodeproject.org/experiments/ENCSR284AMY/\n",
      "INFO:htsworkflow.submission.encoded:requesting url: https://encodeproject.org/search/\n"
     ]
    },
    {
     "name": "stdout",
     "output_type": "stream",
     "text": [
      "Searching for barbara-wold:15018 24/156\n"
     ]
    },
    {
     "name": "stderr",
     "output_type": "stream",
     "text": [
      "INFO:htsworkflow.submission.encoded:requesting url: https://encodeproject.org/search/\n"
     ]
    },
    {
     "name": "stdout",
     "output_type": "stream",
     "text": [
      "Searching for barbara-wold:15019 25/156\n"
     ]
    },
    {
     "name": "stderr",
     "output_type": "stream",
     "text": [
      "INFO:htsworkflow.submission.encoded:requesting url: https://encodeproject.org/experiments/ENCSR541XZK/\n",
      "INFO:htsworkflow.submission.encoded:requesting url: https://encodeproject.org/search/\n"
     ]
    },
    {
     "name": "stdout",
     "output_type": "stream",
     "text": [
      "Searching for barbara-wold:15020 26/156\n"
     ]
    },
    {
     "name": "stderr",
     "output_type": "stream",
     "text": [
      "INFO:htsworkflow.submission.encoded:requesting url: https://encodeproject.org/search/\n"
     ]
    },
    {
     "name": "stdout",
     "output_type": "stream",
     "text": [
      "Searching for barbara-wold:15021 27/156\n"
     ]
    },
    {
     "name": "stderr",
     "output_type": "stream",
     "text": [
      "INFO:htsworkflow.submission.encoded:requesting url: https://encodeproject.org/experiments/ENCSR337FYI/\n",
      "INFO:htsworkflow.submission.encoded:requesting url: https://encodeproject.org/search/\n"
     ]
    },
    {
     "name": "stdout",
     "output_type": "stream",
     "text": [
      "Searching for barbara-wold:15022 28/156\n"
     ]
    },
    {
     "name": "stderr",
     "output_type": "stream",
     "text": [
      "INFO:htsworkflow.submission.encoded:requesting url: https://encodeproject.org/search/\n"
     ]
    },
    {
     "name": "stdout",
     "output_type": "stream",
     "text": [
      "Searching for barbara-wold:16922 29/156\n"
     ]
    },
    {
     "name": "stderr",
     "output_type": "stream",
     "text": [
      "INFO:htsworkflow.submission.encoded:requesting url: https://encodeproject.org/experiments/ENCSR647QBV/\n",
      "INFO:htsworkflow.submission.encoded:requesting url: https://encodeproject.org/search/\n"
     ]
    },
    {
     "name": "stdout",
     "output_type": "stream",
     "text": [
      "Searching for barbara-wold:16923 30/156\n"
     ]
    },
    {
     "name": "stderr",
     "output_type": "stream",
     "text": [
      "INFO:htsworkflow.submission.encoded:requesting url: https://encodeproject.org/search/\n"
     ]
    },
    {
     "name": "stdout",
     "output_type": "stream",
     "text": [
      "Searching for barbara-wold:16924 31/156\n"
     ]
    },
    {
     "name": "stderr",
     "output_type": "stream",
     "text": [
      "INFO:htsworkflow.submission.encoded:requesting url: https://encodeproject.org/experiments/ENCSR908JWT/\n",
      "INFO:htsworkflow.submission.encoded:requesting url: https://encodeproject.org/search/\n"
     ]
    },
    {
     "name": "stdout",
     "output_type": "stream",
     "text": [
      "Searching for barbara-wold:16925 32/156\n"
     ]
    },
    {
     "name": "stderr",
     "output_type": "stream",
     "text": [
      "INFO:htsworkflow.submission.encoded:requesting url: https://encodeproject.org/search/\n"
     ]
    },
    {
     "name": "stdout",
     "output_type": "stream",
     "text": [
      "Searching for barbara-wold:16926 33/156\n"
     ]
    },
    {
     "name": "stderr",
     "output_type": "stream",
     "text": [
      "INFO:htsworkflow.submission.encoded:requesting url: https://encodeproject.org/experiments/ENCSR420QTO/\n",
      "INFO:htsworkflow.submission.encoded:requesting url: https://encodeproject.org/search/\n"
     ]
    },
    {
     "name": "stdout",
     "output_type": "stream",
     "text": [
      "Searching for barbara-wold:16927 34/156\n"
     ]
    },
    {
     "name": "stderr",
     "output_type": "stream",
     "text": [
      "INFO:htsworkflow.submission.encoded:requesting url: https://encodeproject.org/search/\n"
     ]
    },
    {
     "name": "stdout",
     "output_type": "stream",
     "text": [
      "Searching for barbara-wold:16928 35/156\n"
     ]
    },
    {
     "name": "stderr",
     "output_type": "stream",
     "text": [
      "INFO:htsworkflow.submission.encoded:requesting url: https://encodeproject.org/experiments/ENCSR150CUE/\n",
      "INFO:htsworkflow.submission.encoded:requesting url: https://encodeproject.org/search/\n"
     ]
    },
    {
     "name": "stdout",
     "output_type": "stream",
     "text": [
      "Searching for barbara-wold:16929 36/156\n"
     ]
    },
    {
     "name": "stderr",
     "output_type": "stream",
     "text": [
      "INFO:htsworkflow.submission.encoded:requesting url: https://encodeproject.org/search/\n"
     ]
    },
    {
     "name": "stdout",
     "output_type": "stream",
     "text": [
      "Searching for barbara-wold:16930 37/156\n"
     ]
    },
    {
     "name": "stderr",
     "output_type": "stream",
     "text": [
      "INFO:htsworkflow.submission.encoded:requesting url: https://encodeproject.org/experiments/ENCSR750YSX/\n",
      "INFO:htsworkflow.submission.encoded:requesting url: https://encodeproject.org/search/\n"
     ]
    },
    {
     "name": "stdout",
     "output_type": "stream",
     "text": [
      "Searching for barbara-wold:16931 38/156\n"
     ]
    },
    {
     "name": "stderr",
     "output_type": "stream",
     "text": [
      "INFO:htsworkflow.submission.encoded:requesting url: https://encodeproject.org/search/\n"
     ]
    },
    {
     "name": "stdout",
     "output_type": "stream",
     "text": [
      "Searching for barbara-wold:16932 39/156\n"
     ]
    },
    {
     "name": "stderr",
     "output_type": "stream",
     "text": [
      "INFO:htsworkflow.submission.encoded:requesting url: https://encodeproject.org/experiments/ENCSR851HEC/\n",
      "INFO:htsworkflow.submission.encoded:requesting url: https://encodeproject.org/search/\n"
     ]
    },
    {
     "name": "stdout",
     "output_type": "stream",
     "text": [
      "Searching for barbara-wold:16933 40/156\n"
     ]
    },
    {
     "name": "stderr",
     "output_type": "stream",
     "text": [
      "INFO:htsworkflow.submission.encoded:requesting url: https://encodeproject.org/search/\n"
     ]
    },
    {
     "name": "stdout",
     "output_type": "stream",
     "text": [
      "Searching for barbara-wold:16934 41/156\n"
     ]
    },
    {
     "name": "stderr",
     "output_type": "stream",
     "text": [
      "INFO:htsworkflow.submission.encoded:requesting url: https://encodeproject.org/experiments/ENCSR648YEP/\n",
      "INFO:htsworkflow.submission.encoded:requesting url: https://encodeproject.org/search/\n"
     ]
    },
    {
     "name": "stdout",
     "output_type": "stream",
     "text": [
      "Searching for barbara-wold:16935 42/156\n"
     ]
    },
    {
     "name": "stderr",
     "output_type": "stream",
     "text": [
      "INFO:htsworkflow.submission.encoded:requesting url: https://encodeproject.org/search/\n"
     ]
    },
    {
     "name": "stdout",
     "output_type": "stream",
     "text": [
      "Searching for barbara-wold:16936 43/156\n"
     ]
    },
    {
     "name": "stderr",
     "output_type": "stream",
     "text": [
      "INFO:htsworkflow.submission.encoded:requesting url: https://encodeproject.org/experiments/ENCSR508GWZ/\n",
      "INFO:htsworkflow.submission.encoded:requesting url: https://encodeproject.org/search/\n"
     ]
    },
    {
     "name": "stdout",
     "output_type": "stream",
     "text": [
      "Searching for barbara-wold:16937 44/156\n"
     ]
    },
    {
     "name": "stderr",
     "output_type": "stream",
     "text": [
      "INFO:htsworkflow.submission.encoded:requesting url: https://encodeproject.org/search/\n"
     ]
    },
    {
     "name": "stdout",
     "output_type": "stream",
     "text": [
      "Searching for barbara-wold:16100 45/156\n"
     ]
    },
    {
     "name": "stderr",
     "output_type": "stream",
     "text": [
      "INFO:htsworkflow.submission.encoded:requesting url: https://encodeproject.org/experiments/ENCSR970EWM/\n",
      "INFO:htsworkflow.submission.encoded:requesting url: https://encodeproject.org/search/\n"
     ]
    },
    {
     "name": "stdout",
     "output_type": "stream",
     "text": [
      "Searching for barbara-wold:16101 46/156\n"
     ]
    },
    {
     "name": "stderr",
     "output_type": "stream",
     "text": [
      "INFO:htsworkflow.submission.encoded:requesting url: https://encodeproject.org/search/\n"
     ]
    },
    {
     "name": "stdout",
     "output_type": "stream",
     "text": [
      "Searching for barbara-wold:16102 47/156\n"
     ]
    },
    {
     "name": "stderr",
     "output_type": "stream",
     "text": [
      "INFO:htsworkflow.submission.encoded:requesting url: https://encodeproject.org/experiments/ENCSR792RJV/\n",
      "INFO:htsworkflow.submission.encoded:requesting url: https://encodeproject.org/search/\n"
     ]
    },
    {
     "name": "stdout",
     "output_type": "stream",
     "text": [
      "Searching for barbara-wold:16103 48/156\n"
     ]
    },
    {
     "name": "stderr",
     "output_type": "stream",
     "text": [
      "INFO:htsworkflow.submission.encoded:requesting url: https://encodeproject.org/search/\n"
     ]
    },
    {
     "name": "stdout",
     "output_type": "stream",
     "text": [
      "Searching for barbara-wold:16104 49/156\n"
     ]
    },
    {
     "name": "stderr",
     "output_type": "stream",
     "text": [
      "INFO:htsworkflow.submission.encoded:requesting url: https://encodeproject.org/experiments/ENCSR921PRX/\n",
      "INFO:htsworkflow.submission.encoded:requesting url: https://encodeproject.org/search/\n"
     ]
    },
    {
     "name": "stdout",
     "output_type": "stream",
     "text": [
      "Searching for barbara-wold:16105 50/156\n"
     ]
    },
    {
     "name": "stderr",
     "output_type": "stream",
     "text": [
      "INFO:htsworkflow.submission.encoded:requesting url: https://encodeproject.org/search/\n"
     ]
    },
    {
     "name": "stdout",
     "output_type": "stream",
     "text": [
      "Searching for barbara-wold:16106 51/156\n"
     ]
    },
    {
     "name": "stderr",
     "output_type": "stream",
     "text": [
      "INFO:htsworkflow.submission.encoded:requesting url: https://encodeproject.org/experiments/ENCSR538WYL/\n",
      "INFO:htsworkflow.submission.encoded:requesting url: https://encodeproject.org/search/\n"
     ]
    },
    {
     "name": "stdout",
     "output_type": "stream",
     "text": [
      "Searching for barbara-wold:16107 52/156\n"
     ]
    },
    {
     "name": "stderr",
     "output_type": "stream",
     "text": [
      "INFO:htsworkflow.submission.encoded:requesting url: https://encodeproject.org/search/\n"
     ]
    },
    {
     "name": "stdout",
     "output_type": "stream",
     "text": [
      "Searching for barbara-wold:16108 53/156\n"
     ]
    },
    {
     "name": "stderr",
     "output_type": "stream",
     "text": [
      "INFO:htsworkflow.submission.encoded:requesting url: https://encodeproject.org/experiments/ENCSR284YKY/\n",
      "INFO:htsworkflow.submission.encoded:requesting url: https://encodeproject.org/search/\n"
     ]
    },
    {
     "name": "stdout",
     "output_type": "stream",
     "text": [
      "Searching for barbara-wold:16109 54/156\n"
     ]
    },
    {
     "name": "stderr",
     "output_type": "stream",
     "text": [
      "INFO:htsworkflow.submission.encoded:requesting url: https://encodeproject.org/search/\n"
     ]
    },
    {
     "name": "stdout",
     "output_type": "stream",
     "text": [
      "Searching for barbara-wold:16110 55/156\n"
     ]
    },
    {
     "name": "stderr",
     "output_type": "stream",
     "text": [
      "INFO:htsworkflow.submission.encoded:requesting url: https://encodeproject.org/experiments/ENCSR347SQR/\n",
      "INFO:htsworkflow.submission.encoded:requesting url: https://encodeproject.org/search/\n"
     ]
    },
    {
     "name": "stdout",
     "output_type": "stream",
     "text": [
      "Searching for barbara-wold:16111 56/156\n"
     ]
    },
    {
     "name": "stderr",
     "output_type": "stream",
     "text": [
      "INFO:htsworkflow.submission.encoded:requesting url: https://encodeproject.org/search/\n"
     ]
    },
    {
     "name": "stdout",
     "output_type": "stream",
     "text": [
      "Searching for barbara-wold:16112 57/156\n"
     ]
    },
    {
     "name": "stderr",
     "output_type": "stream",
     "text": [
      "INFO:htsworkflow.submission.encoded:requesting url: https://encodeproject.org/experiments/ENCSR448MXQ/\n",
      "INFO:htsworkflow.submission.encoded:requesting url: https://encodeproject.org/search/\n"
     ]
    },
    {
     "name": "stdout",
     "output_type": "stream",
     "text": [
      "Searching for barbara-wold:16113 58/156\n"
     ]
    },
    {
     "name": "stderr",
     "output_type": "stream",
     "text": [
      "INFO:htsworkflow.submission.encoded:requesting url: https://encodeproject.org/search/\n"
     ]
    },
    {
     "name": "stdout",
     "output_type": "stream",
     "text": [
      "Searching for barbara-wold:16114 59/156\n"
     ]
    },
    {
     "name": "stderr",
     "output_type": "stream",
     "text": [
      "INFO:htsworkflow.submission.encoded:requesting url: https://encodeproject.org/experiments/ENCSR115TWD/\n",
      "INFO:htsworkflow.submission.encoded:requesting url: https://encodeproject.org/search/\n"
     ]
    },
    {
     "name": "stdout",
     "output_type": "stream",
     "text": [
      "Searching for barbara-wold:16115 60/156\n"
     ]
    },
    {
     "name": "stderr",
     "output_type": "stream",
     "text": [
      "INFO:htsworkflow.submission.encoded:requesting url: https://encodeproject.org/search/\n"
     ]
    },
    {
     "name": "stdout",
     "output_type": "stream",
     "text": [
      "Searching for barbara-wold:15072 61/156\n"
     ]
    },
    {
     "name": "stderr",
     "output_type": "stream",
     "text": [
      "INFO:htsworkflow.submission.encoded:requesting url: https://encodeproject.org/experiments/ENCSR185LWM/\n",
      "INFO:htsworkflow.submission.encoded:requesting url: https://encodeproject.org/search/\n"
     ]
    },
    {
     "name": "stdout",
     "output_type": "stream",
     "text": [
      "Searching for barbara-wold:15073 62/156\n"
     ]
    },
    {
     "name": "stderr",
     "output_type": "stream",
     "text": [
      "INFO:htsworkflow.submission.encoded:requesting url: https://encodeproject.org/search/\n"
     ]
    },
    {
     "name": "stdout",
     "output_type": "stream",
     "text": [
      "Searching for barbara-wold:15074 63/156\n"
     ]
    },
    {
     "name": "stderr",
     "output_type": "stream",
     "text": [
      "INFO:htsworkflow.submission.encoded:requesting url: https://encodeproject.org/experiments/ENCSR343YLB/\n",
      "INFO:htsworkflow.submission.encoded:requesting url: https://encodeproject.org/search/\n"
     ]
    },
    {
     "name": "stdout",
     "output_type": "stream",
     "text": [
      "Searching for barbara-wold:15075 64/156\n"
     ]
    },
    {
     "name": "stderr",
     "output_type": "stream",
     "text": [
      "INFO:htsworkflow.submission.encoded:requesting url: https://encodeproject.org/search/\n"
     ]
    },
    {
     "name": "stdout",
     "output_type": "stream",
     "text": [
      "Searching for barbara-wold:15076 65/156\n"
     ]
    },
    {
     "name": "stderr",
     "output_type": "stream",
     "text": [
      "INFO:htsworkflow.submission.encoded:requesting url: https://encodeproject.org/experiments/ENCSR559TRB/\n",
      "INFO:htsworkflow.submission.encoded:requesting url: https://encodeproject.org/search/\n"
     ]
    },
    {
     "name": "stdout",
     "output_type": "stream",
     "text": [
      "Searching for barbara-wold:15077 66/156\n"
     ]
    },
    {
     "name": "stderr",
     "output_type": "stream",
     "text": [
      "INFO:htsworkflow.submission.encoded:requesting url: https://encodeproject.org/search/\n"
     ]
    },
    {
     "name": "stdout",
     "output_type": "stream",
     "text": [
      "Searching for barbara-wold:15078 67/156\n"
     ]
    },
    {
     "name": "stderr",
     "output_type": "stream",
     "text": [
      "INFO:htsworkflow.submission.encoded:requesting url: https://encodeproject.org/experiments/ENCSR823VEE/\n",
      "INFO:htsworkflow.submission.encoded:requesting url: https://encodeproject.org/search/\n"
     ]
    },
    {
     "name": "stdout",
     "output_type": "stream",
     "text": [
      "Searching for barbara-wold:15079 68/156\n"
     ]
    },
    {
     "name": "stderr",
     "output_type": "stream",
     "text": [
      "INFO:htsworkflow.submission.encoded:requesting url: https://encodeproject.org/search/\n"
     ]
    },
    {
     "name": "stdout",
     "output_type": "stream",
     "text": [
      "Searching for barbara-wold:15080 69/156\n"
     ]
    },
    {
     "name": "stderr",
     "output_type": "stream",
     "text": [
      "INFO:htsworkflow.submission.encoded:requesting url: https://encodeproject.org/experiments/ENCSR867YNV/\n",
      "INFO:htsworkflow.submission.encoded:requesting url: https://encodeproject.org/search/\n"
     ]
    },
    {
     "name": "stdout",
     "output_type": "stream",
     "text": [
      "Searching for barbara-wold:15081 70/156\n"
     ]
    },
    {
     "name": "stderr",
     "output_type": "stream",
     "text": [
      "INFO:htsworkflow.submission.encoded:requesting url: https://encodeproject.org/search/\n"
     ]
    },
    {
     "name": "stdout",
     "output_type": "stream",
     "text": [
      "Searching for barbara-wold:15082 71/156\n"
     ]
    },
    {
     "name": "stderr",
     "output_type": "stream",
     "text": [
      "INFO:htsworkflow.submission.encoded:requesting url: https://encodeproject.org/experiments/ENCSR039ADS/\n",
      "INFO:htsworkflow.submission.encoded:requesting url: https://encodeproject.org/search/\n"
     ]
    },
    {
     "name": "stdout",
     "output_type": "stream",
     "text": [
      "Searching for barbara-wold:15083 72/156\n"
     ]
    },
    {
     "name": "stderr",
     "output_type": "stream",
     "text": [
      "INFO:htsworkflow.submission.encoded:requesting url: https://encodeproject.org/search/\n"
     ]
    },
    {
     "name": "stdout",
     "output_type": "stream",
     "text": [
      "Searching for barbara-wold:15084 73/156\n"
     ]
    },
    {
     "name": "stderr",
     "output_type": "stream",
     "text": [
      "INFO:htsworkflow.submission.encoded:requesting url: https://encodeproject.org/experiments/ENCSR216NEG/\n",
      "INFO:htsworkflow.submission.encoded:requesting url: https://encodeproject.org/search/\n"
     ]
    },
    {
     "name": "stdout",
     "output_type": "stream",
     "text": [
      "Searching for barbara-wold:15085 74/156\n"
     ]
    },
    {
     "name": "stderr",
     "output_type": "stream",
     "text": [
      "INFO:htsworkflow.submission.encoded:requesting url: https://encodeproject.org/search/\n"
     ]
    },
    {
     "name": "stdout",
     "output_type": "stream",
     "text": [
      "Searching for barbara-wold:15086 75/156\n"
     ]
    },
    {
     "name": "stderr",
     "output_type": "stream",
     "text": [
      "INFO:htsworkflow.submission.encoded:requesting url: https://encodeproject.org/experiments/ENCSR727FHP/\n",
      "INFO:htsworkflow.submission.encoded:requesting url: https://encodeproject.org/search/\n"
     ]
    },
    {
     "name": "stdout",
     "output_type": "stream",
     "text": [
      "Searching for barbara-wold:15087 76/156\n"
     ]
    },
    {
     "name": "stderr",
     "output_type": "stream",
     "text": [
      "INFO:htsworkflow.submission.encoded:requesting url: https://encodeproject.org/search/\n"
     ]
    },
    {
     "name": "stdout",
     "output_type": "stream",
     "text": [
      "Searching for barbara-wold:15088 77/156\n"
     ]
    },
    {
     "name": "stderr",
     "output_type": "stream",
     "text": [
      "INFO:htsworkflow.submission.encoded:requesting url: https://encodeproject.org/experiments/ENCSR290RRR/\n",
      "INFO:htsworkflow.submission.encoded:requesting url: https://encodeproject.org/search/\n"
     ]
    },
    {
     "name": "stdout",
     "output_type": "stream",
     "text": [
      "Searching for barbara-wold:15089 78/156\n"
     ]
    },
    {
     "name": "stderr",
     "output_type": "stream",
     "text": [
      "INFO:htsworkflow.submission.encoded:requesting url: https://encodeproject.org/search/\n"
     ]
    },
    {
     "name": "stdout",
     "output_type": "stream",
     "text": [
      "Searching for barbara-wold:15090 79/156\n"
     ]
    },
    {
     "name": "stderr",
     "output_type": "stream",
     "text": [
      "INFO:htsworkflow.submission.encoded:requesting url: https://encodeproject.org/experiments/ENCSR932TRU/\n",
      "INFO:htsworkflow.submission.encoded:requesting url: https://encodeproject.org/search/\n"
     ]
    },
    {
     "name": "stdout",
     "output_type": "stream",
     "text": [
      "Searching for barbara-wold:15091 80/156\n"
     ]
    },
    {
     "name": "stderr",
     "output_type": "stream",
     "text": [
      "INFO:htsworkflow.submission.encoded:requesting url: https://encodeproject.org/search/\n"
     ]
    },
    {
     "name": "stdout",
     "output_type": "stream",
     "text": [
      "Searching for barbara-wold:15092 81/156\n"
     ]
    },
    {
     "name": "stderr",
     "output_type": "stream",
     "text": [
      "INFO:htsworkflow.submission.encoded:requesting url: https://encodeproject.org/experiments/ENCSR928OXI/\n",
      "INFO:htsworkflow.submission.encoded:requesting url: https://encodeproject.org/search/\n"
     ]
    },
    {
     "name": "stdout",
     "output_type": "stream",
     "text": [
      "Searching for barbara-wold:15093 82/156\n"
     ]
    },
    {
     "name": "stderr",
     "output_type": "stream",
     "text": [
      "INFO:htsworkflow.submission.encoded:requesting url: https://encodeproject.org/search/\n"
     ]
    },
    {
     "name": "stdout",
     "output_type": "stream",
     "text": [
      "Searching for barbara-wold:15094 83/156\n"
     ]
    },
    {
     "name": "stderr",
     "output_type": "stream",
     "text": [
      "INFO:htsworkflow.submission.encoded:requesting url: https://encodeproject.org/experiments/ENCSR504GEG/\n",
      "INFO:htsworkflow.submission.encoded:requesting url: https://encodeproject.org/search/\n"
     ]
    },
    {
     "name": "stdout",
     "output_type": "stream",
     "text": [
      "Searching for barbara-wold:15095 84/156\n"
     ]
    },
    {
     "name": "stderr",
     "output_type": "stream",
     "text": [
      "INFO:htsworkflow.submission.encoded:requesting url: https://encodeproject.org/search/\n"
     ]
    },
    {
     "name": "stdout",
     "output_type": "stream",
     "text": [
      "Searching for barbara-wold:16116 85/156\n"
     ]
    },
    {
     "name": "stderr",
     "output_type": "stream",
     "text": [
      "INFO:htsworkflow.submission.encoded:requesting url: https://encodeproject.org/experiments/ENCSR752RGN/\n",
      "INFO:htsworkflow.submission.encoded:requesting url: https://encodeproject.org/search/\n"
     ]
    },
    {
     "name": "stdout",
     "output_type": "stream",
     "text": [
      "Searching for barbara-wold:16117 86/156\n"
     ]
    },
    {
     "name": "stderr",
     "output_type": "stream",
     "text": [
      "INFO:htsworkflow.submission.encoded:requesting url: https://encodeproject.org/search/\n"
     ]
    },
    {
     "name": "stdout",
     "output_type": "stream",
     "text": [
      "Searching for barbara-wold:16118 87/156\n"
     ]
    },
    {
     "name": "stderr",
     "output_type": "stream",
     "text": [
      "INFO:htsworkflow.submission.encoded:requesting url: https://encodeproject.org/experiments/ENCSR557RMA/\n",
      "INFO:htsworkflow.submission.encoded:requesting url: https://encodeproject.org/search/\n"
     ]
    },
    {
     "name": "stdout",
     "output_type": "stream",
     "text": [
      "Searching for barbara-wold:16119 88/156\n"
     ]
    },
    {
     "name": "stderr",
     "output_type": "stream",
     "text": [
      "INFO:htsworkflow.submission.encoded:requesting url: https://encodeproject.org/search/\n"
     ]
    },
    {
     "name": "stdout",
     "output_type": "stream",
     "text": [
      "Searching for barbara-wold:16120 89/156\n"
     ]
    },
    {
     "name": "stderr",
     "output_type": "stream",
     "text": [
      "INFO:htsworkflow.submission.encoded:requesting url: https://encodeproject.org/experiments/ENCSR401BSG/\n",
      "INFO:htsworkflow.submission.encoded:requesting url: https://encodeproject.org/search/\n"
     ]
    },
    {
     "name": "stdout",
     "output_type": "stream",
     "text": [
      "Searching for barbara-wold:16121 90/156\n"
     ]
    },
    {
     "name": "stderr",
     "output_type": "stream",
     "text": [
      "INFO:htsworkflow.submission.encoded:requesting url: https://encodeproject.org/search/\n"
     ]
    },
    {
     "name": "stdout",
     "output_type": "stream",
     "text": [
      "Searching for barbara-wold:16122 91/156\n"
     ]
    },
    {
     "name": "stderr",
     "output_type": "stream",
     "text": [
      "INFO:htsworkflow.submission.encoded:requesting url: https://encodeproject.org/experiments/ENCSR597UZW/\n",
      "INFO:htsworkflow.submission.encoded:requesting url: https://encodeproject.org/search/\n"
     ]
    },
    {
     "name": "stdout",
     "output_type": "stream",
     "text": [
      "Searching for barbara-wold:16123 92/156\n"
     ]
    },
    {
     "name": "stderr",
     "output_type": "stream",
     "text": [
      "INFO:htsworkflow.submission.encoded:requesting url: https://encodeproject.org/search/\n"
     ]
    },
    {
     "name": "stdout",
     "output_type": "stream",
     "text": [
      "Searching for barbara-wold:16124 93/156\n"
     ]
    },
    {
     "name": "stderr",
     "output_type": "stream",
     "text": [
      "INFO:htsworkflow.submission.encoded:requesting url: https://encodeproject.org/experiments/ENCSR457RRW/\n",
      "INFO:htsworkflow.submission.encoded:requesting url: https://encodeproject.org/search/\n"
     ]
    },
    {
     "name": "stdout",
     "output_type": "stream",
     "text": [
      "Searching for barbara-wold:16125 94/156\n"
     ]
    },
    {
     "name": "stderr",
     "output_type": "stream",
     "text": [
      "INFO:htsworkflow.submission.encoded:requesting url: https://encodeproject.org/search/\n"
     ]
    },
    {
     "name": "stdout",
     "output_type": "stream",
     "text": [
      "Searching for barbara-wold:16126 95/156\n"
     ]
    },
    {
     "name": "stderr",
     "output_type": "stream",
     "text": [
      "INFO:htsworkflow.submission.encoded:requesting url: https://encodeproject.org/experiments/ENCSR611PTP/\n",
      "INFO:htsworkflow.submission.encoded:requesting url: https://encodeproject.org/search/\n"
     ]
    },
    {
     "name": "stdout",
     "output_type": "stream",
     "text": [
      "Searching for barbara-wold:16127 96/156\n"
     ]
    },
    {
     "name": "stderr",
     "output_type": "stream",
     "text": [
      "INFO:htsworkflow.submission.encoded:requesting url: https://encodeproject.org/search/\n"
     ]
    },
    {
     "name": "stdout",
     "output_type": "stream",
     "text": [
      "Searching for barbara-wold:16128 97/156\n"
     ]
    },
    {
     "name": "stderr",
     "output_type": "stream",
     "text": [
      "INFO:htsworkflow.submission.encoded:requesting url: https://encodeproject.org/experiments/ENCSR370SFB/\n",
      "INFO:htsworkflow.submission.encoded:requesting url: https://encodeproject.org/search/\n"
     ]
    },
    {
     "name": "stdout",
     "output_type": "stream",
     "text": [
      "Searching for barbara-wold:16129 98/156\n"
     ]
    },
    {
     "name": "stderr",
     "output_type": "stream",
     "text": [
      "INFO:htsworkflow.submission.encoded:requesting url: https://encodeproject.org/search/\n"
     ]
    },
    {
     "name": "stdout",
     "output_type": "stream",
     "text": [
      "Searching for barbara-wold:16130 99/156\n"
     ]
    },
    {
     "name": "stderr",
     "output_type": "stream",
     "text": [
      "INFO:htsworkflow.submission.encoded:requesting url: https://encodeproject.org/experiments/ENCSR906YQZ/\n",
      "INFO:htsworkflow.submission.encoded:requesting url: https://encodeproject.org/search/\n"
     ]
    },
    {
     "name": "stdout",
     "output_type": "stream",
     "text": [
      "Searching for barbara-wold:16131 100/156\n"
     ]
    },
    {
     "name": "stderr",
     "output_type": "stream",
     "text": [
      "INFO:htsworkflow.submission.encoded:requesting url: https://encodeproject.org/search/\n"
     ]
    },
    {
     "name": "stdout",
     "output_type": "stream",
     "text": [
      "Searching for barbara-wold:16132 101/156\n"
     ]
    },
    {
     "name": "stderr",
     "output_type": "stream",
     "text": [
      "INFO:htsworkflow.submission.encoded:requesting url: https://encodeproject.org/experiments/ENCSR062VTB/\n",
      "INFO:htsworkflow.submission.encoded:requesting url: https://encodeproject.org/search/\n"
     ]
    },
    {
     "name": "stdout",
     "output_type": "stream",
     "text": [
      "Searching for barbara-wold:16133 102/156\n"
     ]
    },
    {
     "name": "stderr",
     "output_type": "stream",
     "text": [
      "INFO:htsworkflow.submission.encoded:requesting url: https://encodeproject.org/search/\n"
     ]
    },
    {
     "name": "stdout",
     "output_type": "stream",
     "text": [
      "Searching for barbara-wold:16134 103/156\n"
     ]
    },
    {
     "name": "stderr",
     "output_type": "stream",
     "text": [
      "INFO:htsworkflow.submission.encoded:requesting url: https://encodeproject.org/experiments/ENCSR830IVQ/\n",
      "INFO:htsworkflow.submission.encoded:requesting url: https://encodeproject.org/search/\n"
     ]
    },
    {
     "name": "stdout",
     "output_type": "stream",
     "text": [
      "Searching for barbara-wold:16135 104/156\n"
     ]
    },
    {
     "name": "stderr",
     "output_type": "stream",
     "text": [
      "INFO:htsworkflow.submission.encoded:requesting url: https://encodeproject.org/search/\n"
     ]
    },
    {
     "name": "stdout",
     "output_type": "stream",
     "text": [
      "Searching for barbara-wold:16136 105/156\n"
     ]
    },
    {
     "name": "stderr",
     "output_type": "stream",
     "text": [
      "INFO:htsworkflow.submission.encoded:requesting url: https://encodeproject.org/experiments/ENCSR636CWO/\n",
      "INFO:htsworkflow.submission.encoded:requesting url: https://encodeproject.org/search/\n"
     ]
    },
    {
     "name": "stdout",
     "output_type": "stream",
     "text": [
      "Searching for barbara-wold:16137 106/156\n"
     ]
    },
    {
     "name": "stderr",
     "output_type": "stream",
     "text": [
      "INFO:htsworkflow.submission.encoded:requesting url: https://encodeproject.org/search/\n"
     ]
    },
    {
     "name": "stdout",
     "output_type": "stream",
     "text": [
      "Searching for barbara-wold:16138 107/156\n"
     ]
    },
    {
     "name": "stderr",
     "output_type": "stream",
     "text": [
      "INFO:htsworkflow.submission.encoded:requesting url: https://encodeproject.org/experiments/ENCSR004XCU/\n",
      "INFO:htsworkflow.submission.encoded:requesting url: https://encodeproject.org/search/\n"
     ]
    },
    {
     "name": "stdout",
     "output_type": "stream",
     "text": [
      "Searching for barbara-wold:16139 108/156\n"
     ]
    },
    {
     "name": "stderr",
     "output_type": "stream",
     "text": [
      "INFO:htsworkflow.submission.encoded:requesting url: https://encodeproject.org/search/\n"
     ]
    },
    {
     "name": "stdout",
     "output_type": "stream",
     "text": [
      "Searching for barbara-wold:16140 109/156\n"
     ]
    },
    {
     "name": "stderr",
     "output_type": "stream",
     "text": [
      "INFO:htsworkflow.submission.encoded:requesting url: https://encodeproject.org/experiments/ENCSR080EVZ/\n",
      "INFO:htsworkflow.submission.encoded:requesting url: https://encodeproject.org/search/\n"
     ]
    },
    {
     "name": "stdout",
     "output_type": "stream",
     "text": [
      "Searching for barbara-wold:16141 110/156\n"
     ]
    },
    {
     "name": "stderr",
     "output_type": "stream",
     "text": [
      "INFO:htsworkflow.submission.encoded:requesting url: https://encodeproject.org/search/\n"
     ]
    },
    {
     "name": "stdout",
     "output_type": "stream",
     "text": [
      "Searching for barbara-wold:16142 111/156\n"
     ]
    },
    {
     "name": "stderr",
     "output_type": "stream",
     "text": [
      "INFO:htsworkflow.submission.encoded:requesting url: https://encodeproject.org/experiments/ENCSR367ZPZ/\n",
      "INFO:htsworkflow.submission.encoded:requesting url: https://encodeproject.org/search/\n"
     ]
    },
    {
     "name": "stdout",
     "output_type": "stream",
     "text": [
      "Searching for barbara-wold:16143 112/156\n"
     ]
    },
    {
     "name": "stderr",
     "output_type": "stream",
     "text": [
      "INFO:htsworkflow.submission.encoded:requesting url: https://encodeproject.org/search/\n"
     ]
    },
    {
     "name": "stdout",
     "output_type": "stream",
     "text": [
      "Searching for barbara-wold:16144 113/156\n"
     ]
    },
    {
     "name": "stderr",
     "output_type": "stream",
     "text": [
      "INFO:htsworkflow.submission.encoded:requesting url: https://encodeproject.org/experiments/ENCSR285WZV/\n",
      "INFO:htsworkflow.submission.encoded:requesting url: https://encodeproject.org/search/\n"
     ]
    },
    {
     "name": "stdout",
     "output_type": "stream",
     "text": [
      "Searching for barbara-wold:16145 114/156\n"
     ]
    },
    {
     "name": "stderr",
     "output_type": "stream",
     "text": [
      "INFO:htsworkflow.submission.encoded:requesting url: https://encodeproject.org/search/\n"
     ]
    },
    {
     "name": "stdout",
     "output_type": "stream",
     "text": [
      "Searching for barbara-wold:16146 115/156\n"
     ]
    },
    {
     "name": "stderr",
     "output_type": "stream",
     "text": [
      "INFO:htsworkflow.submission.encoded:requesting url: https://encodeproject.org/experiments/ENCSR020DGG/\n",
      "INFO:htsworkflow.submission.encoded:requesting url: https://encodeproject.org/search/\n"
     ]
    },
    {
     "name": "stdout",
     "output_type": "stream",
     "text": [
      "Searching for barbara-wold:16147 116/156\n"
     ]
    },
    {
     "name": "stderr",
     "output_type": "stream",
     "text": [
      "INFO:htsworkflow.submission.encoded:requesting url: https://encodeproject.org/search/\n"
     ]
    },
    {
     "name": "stdout",
     "output_type": "stream",
     "text": [
      "Searching for barbara-wold:16148 117/156\n"
     ]
    },
    {
     "name": "stderr",
     "output_type": "stream",
     "text": [
      "INFO:htsworkflow.submission.encoded:requesting url: https://encodeproject.org/experiments/ENCSR826HIQ/\n",
      "INFO:htsworkflow.submission.encoded:requesting url: https://encodeproject.org/search/\n"
     ]
    },
    {
     "name": "stdout",
     "output_type": "stream",
     "text": [
      "Searching for barbara-wold:16149 118/156\n"
     ]
    },
    {
     "name": "stderr",
     "output_type": "stream",
     "text": [
      "INFO:htsworkflow.submission.encoded:requesting url: https://encodeproject.org/search/\n"
     ]
    },
    {
     "name": "stdout",
     "output_type": "stream",
     "text": [
      "Searching for barbara-wold:16150 119/156\n"
     ]
    },
    {
     "name": "stderr",
     "output_type": "stream",
     "text": [
      "INFO:htsworkflow.submission.encoded:requesting url: https://encodeproject.org/experiments/ENCSR992WBR/\n",
      "INFO:htsworkflow.submission.encoded:requesting url: https://encodeproject.org/search/\n"
     ]
    },
    {
     "name": "stdout",
     "output_type": "stream",
     "text": [
      "Searching for barbara-wold:16151 120/156\n"
     ]
    },
    {
     "name": "stderr",
     "output_type": "stream",
     "text": [
      "INFO:htsworkflow.submission.encoded:requesting url: https://encodeproject.org/search/\n"
     ]
    },
    {
     "name": "stdout",
     "output_type": "stream",
     "text": [
      "Searching for barbara-wold:16152 121/156\n"
     ]
    },
    {
     "name": "stderr",
     "output_type": "stream",
     "text": [
      "INFO:htsworkflow.submission.encoded:requesting url: https://encodeproject.org/experiments/ENCSR848GST/\n",
      "INFO:htsworkflow.submission.encoded:requesting url: https://encodeproject.org/search/\n"
     ]
    },
    {
     "name": "stdout",
     "output_type": "stream",
     "text": [
      "Searching for barbara-wold:16153 122/156\n"
     ]
    },
    {
     "name": "stderr",
     "output_type": "stream",
     "text": [
      "INFO:htsworkflow.submission.encoded:requesting url: https://encodeproject.org/search/\n"
     ]
    },
    {
     "name": "stdout",
     "output_type": "stream",
     "text": [
      "Searching for barbara-wold:16154 123/156\n"
     ]
    },
    {
     "name": "stderr",
     "output_type": "stream",
     "text": [
      "INFO:htsworkflow.submission.encoded:requesting url: https://encodeproject.org/experiments/ENCSR537GNQ/\n",
      "INFO:htsworkflow.submission.encoded:requesting url: https://encodeproject.org/search/\n"
     ]
    },
    {
     "name": "stdout",
     "output_type": "stream",
     "text": [
      "Searching for barbara-wold:16155 124/156\n"
     ]
    },
    {
     "name": "stderr",
     "output_type": "stream",
     "text": [
      "INFO:htsworkflow.submission.encoded:requesting url: https://encodeproject.org/search/\n"
     ]
    },
    {
     "name": "stdout",
     "output_type": "stream",
     "text": [
      "Searching for barbara-wold:16156 125/156\n"
     ]
    },
    {
     "name": "stderr",
     "output_type": "stream",
     "text": [
      "INFO:htsworkflow.submission.encoded:requesting url: https://encodeproject.org/experiments/ENCSR466KZY/\n",
      "INFO:htsworkflow.submission.encoded:requesting url: https://encodeproject.org/search/\n"
     ]
    },
    {
     "name": "stdout",
     "output_type": "stream",
     "text": [
      "Searching for barbara-wold:16157 126/156\n"
     ]
    },
    {
     "name": "stderr",
     "output_type": "stream",
     "text": [
      "INFO:htsworkflow.submission.encoded:requesting url: https://encodeproject.org/search/\n"
     ]
    },
    {
     "name": "stdout",
     "output_type": "stream",
     "text": [
      "Searching for barbara-wold:15475 127/156\n"
     ]
    },
    {
     "name": "stderr",
     "output_type": "stream",
     "text": [
      "INFO:htsworkflow.submission.encoded:requesting url: https://encodeproject.org/experiments/ENCSR362AIZ/\n",
      "INFO:htsworkflow.submission.encoded:requesting url: https://encodeproject.org/search/\n"
     ]
    },
    {
     "name": "stdout",
     "output_type": "stream",
     "text": [
      "Searching for barbara-wold:15476 128/156\n"
     ]
    },
    {
     "name": "stderr",
     "output_type": "stream",
     "text": [
      "INFO:htsworkflow.submission.encoded:requesting url: https://encodeproject.org/search/\n"
     ]
    },
    {
     "name": "stdout",
     "output_type": "stream",
     "text": [
      "Searching for barbara-wold:15477 129/156\n"
     ]
    },
    {
     "name": "stderr",
     "output_type": "stream",
     "text": [
      "INFO:htsworkflow.submission.encoded:requesting url: https://encodeproject.org/experiments/ENCSR719NAJ/\n",
      "INFO:htsworkflow.submission.encoded:requesting url: https://encodeproject.org/search/\n"
     ]
    },
    {
     "name": "stdout",
     "output_type": "stream",
     "text": [
      "Searching for barbara-wold:15478 130/156\n"
     ]
    },
    {
     "name": "stderr",
     "output_type": "stream",
     "text": [
      "INFO:htsworkflow.submission.encoded:requesting url: https://encodeproject.org/search/\n"
     ]
    },
    {
     "name": "stdout",
     "output_type": "stream",
     "text": [
      "Searching for barbara-wold:15479 131/156\n"
     ]
    },
    {
     "name": "stderr",
     "output_type": "stream",
     "text": [
      "INFO:htsworkflow.submission.encoded:requesting url: https://encodeproject.org/experiments/ENCSR017JEG/\n",
      "INFO:htsworkflow.submission.encoded:requesting url: https://encodeproject.org/search/\n"
     ]
    },
    {
     "name": "stdout",
     "output_type": "stream",
     "text": [
      "Searching for barbara-wold:15480 132/156\n"
     ]
    },
    {
     "name": "stderr",
     "output_type": "stream",
     "text": [
      "INFO:htsworkflow.submission.encoded:requesting url: https://encodeproject.org/search/\n"
     ]
    },
    {
     "name": "stdout",
     "output_type": "stream",
     "text": [
      "Searching for barbara-wold:15481 133/156\n"
     ]
    },
    {
     "name": "stderr",
     "output_type": "stream",
     "text": [
      "INFO:htsworkflow.submission.encoded:requesting url: https://encodeproject.org/experiments/ENCSR667TOX/\n",
      "INFO:htsworkflow.submission.encoded:requesting url: https://encodeproject.org/search/\n"
     ]
    },
    {
     "name": "stdout",
     "output_type": "stream",
     "text": [
      "Searching for barbara-wold:15482 134/156\n"
     ]
    },
    {
     "name": "stderr",
     "output_type": "stream",
     "text": [
      "INFO:htsworkflow.submission.encoded:requesting url: https://encodeproject.org/search/\n"
     ]
    },
    {
     "name": "stdout",
     "output_type": "stream",
     "text": [
      "Searching for barbara-wold:15483 135/156\n"
     ]
    },
    {
     "name": "stderr",
     "output_type": "stream",
     "text": [
      "INFO:htsworkflow.submission.encoded:requesting url: https://encodeproject.org/experiments/ENCSR438XCG/\n",
      "INFO:htsworkflow.submission.encoded:requesting url: https://encodeproject.org/search/\n"
     ]
    },
    {
     "name": "stdout",
     "output_type": "stream",
     "text": [
      "Searching for barbara-wold:15484 136/156\n"
     ]
    },
    {
     "name": "stderr",
     "output_type": "stream",
     "text": [
      "INFO:htsworkflow.submission.encoded:requesting url: https://encodeproject.org/search/\n"
     ]
    },
    {
     "name": "stdout",
     "output_type": "stream",
     "text": [
      "Searching for barbara-wold:15485 137/156\n"
     ]
    },
    {
     "name": "stderr",
     "output_type": "stream",
     "text": [
      "INFO:htsworkflow.submission.encoded:requesting url: https://encodeproject.org/experiments/ENCSR526SEX/\n",
      "INFO:htsworkflow.submission.encoded:requesting url: https://encodeproject.org/search/\n"
     ]
    },
    {
     "name": "stdout",
     "output_type": "stream",
     "text": [
      "Searching for barbara-wold:15486 138/156\n"
     ]
    },
    {
     "name": "stderr",
     "output_type": "stream",
     "text": [
      "INFO:htsworkflow.submission.encoded:requesting url: https://encodeproject.org/search/\n"
     ]
    },
    {
     "name": "stdout",
     "output_type": "stream",
     "text": [
      "Searching for barbara-wold:15487 139/156\n"
     ]
    },
    {
     "name": "stderr",
     "output_type": "stream",
     "text": [
      "INFO:htsworkflow.submission.encoded:requesting url: https://encodeproject.org/experiments/ENCSR982MRY/\n",
      "INFO:htsworkflow.submission.encoded:requesting url: https://encodeproject.org/search/\n"
     ]
    },
    {
     "name": "stdout",
     "output_type": "stream",
     "text": [
      "Searching for barbara-wold:15488 140/156\n"
     ]
    },
    {
     "name": "stderr",
     "output_type": "stream",
     "text": [
      "INFO:htsworkflow.submission.encoded:requesting url: https://encodeproject.org/search/\n"
     ]
    },
    {
     "name": "stdout",
     "output_type": "stream",
     "text": [
      "Searching for barbara-wold:15489 141/156\n"
     ]
    },
    {
     "name": "stderr",
     "output_type": "stream",
     "text": [
      "INFO:htsworkflow.submission.encoded:requesting url: https://encodeproject.org/experiments/ENCSR096STK/\n",
      "INFO:htsworkflow.submission.encoded:requesting url: https://encodeproject.org/search/\n"
     ]
    },
    {
     "name": "stdout",
     "output_type": "stream",
     "text": [
      "Searching for barbara-wold:15490 142/156\n"
     ]
    },
    {
     "name": "stderr",
     "output_type": "stream",
     "text": [
      "INFO:htsworkflow.submission.encoded:requesting url: https://encodeproject.org/search/\n"
     ]
    },
    {
     "name": "stdout",
     "output_type": "stream",
     "text": [
      "Searching for barbara-wold:15491 143/156\n"
     ]
    },
    {
     "name": "stderr",
     "output_type": "stream",
     "text": [
      "INFO:htsworkflow.submission.encoded:requesting url: https://encodeproject.org/experiments/ENCSR946HWC/\n",
      "INFO:htsworkflow.submission.encoded:requesting url: https://encodeproject.org/search/\n"
     ]
    },
    {
     "name": "stdout",
     "output_type": "stream",
     "text": [
      "Searching for barbara-wold:15492 144/156\n"
     ]
    },
    {
     "name": "stderr",
     "output_type": "stream",
     "text": [
      "INFO:htsworkflow.submission.encoded:requesting url: https://encodeproject.org/search/\n"
     ]
    },
    {
     "name": "stdout",
     "output_type": "stream",
     "text": [
      "Searching for barbara-wold:15493 145/156\n"
     ]
    },
    {
     "name": "stderr",
     "output_type": "stream",
     "text": [
      "INFO:htsworkflow.submission.encoded:requesting url: https://encodeproject.org/experiments/ENCSR579FCW/\n",
      "INFO:htsworkflow.submission.encoded:requesting url: https://encodeproject.org/search/\n"
     ]
    },
    {
     "name": "stdout",
     "output_type": "stream",
     "text": [
      "Searching for barbara-wold:15494 146/156\n"
     ]
    },
    {
     "name": "stderr",
     "output_type": "stream",
     "text": [
      "INFO:htsworkflow.submission.encoded:requesting url: https://encodeproject.org/search/\n"
     ]
    },
    {
     "name": "stdout",
     "output_type": "stream",
     "text": [
      "Searching for barbara-wold:15495 147/156\n"
     ]
    },
    {
     "name": "stderr",
     "output_type": "stream",
     "text": [
      "INFO:htsworkflow.submission.encoded:requesting url: https://encodeproject.org/experiments/ENCSR772FQU/\n",
      "INFO:htsworkflow.submission.encoded:requesting url: https://encodeproject.org/search/\n"
     ]
    },
    {
     "name": "stdout",
     "output_type": "stream",
     "text": [
      "Searching for barbara-wold:15496 148/156\n"
     ]
    },
    {
     "name": "stderr",
     "output_type": "stream",
     "text": [
      "INFO:htsworkflow.submission.encoded:requesting url: https://encodeproject.org/search/\n"
     ]
    },
    {
     "name": "stdout",
     "output_type": "stream",
     "text": [
      "Searching for barbara-wold:15497 149/156\n"
     ]
    },
    {
     "name": "stderr",
     "output_type": "stream",
     "text": [
      "INFO:htsworkflow.submission.encoded:requesting url: https://encodeproject.org/experiments/ENCSR178GUS/\n",
      "INFO:htsworkflow.submission.encoded:requesting url: https://encodeproject.org/search/\n"
     ]
    },
    {
     "name": "stdout",
     "output_type": "stream",
     "text": [
      "Searching for barbara-wold:15498 150/156\n"
     ]
    },
    {
     "name": "stderr",
     "output_type": "stream",
     "text": [
      "INFO:htsworkflow.submission.encoded:requesting url: https://encodeproject.org/search/\n"
     ]
    },
    {
     "name": "stdout",
     "output_type": "stream",
     "text": [
      "Searching for barbara-wold:15499 151/156\n"
     ]
    },
    {
     "name": "stderr",
     "output_type": "stream",
     "text": [
      "INFO:htsworkflow.submission.encoded:requesting url: https://encodeproject.org/experiments/ENCSR331XCE/\n",
      "INFO:htsworkflow.submission.encoded:requesting url: https://encodeproject.org/search/\n"
     ]
    },
    {
     "name": "stdout",
     "output_type": "stream",
     "text": [
      "Searching for barbara-wold:15500 152/156\n"
     ]
    },
    {
     "name": "stderr",
     "output_type": "stream",
     "text": [
      "INFO:htsworkflow.submission.encoded:requesting url: https://encodeproject.org/search/\n"
     ]
    },
    {
     "name": "stdout",
     "output_type": "stream",
     "text": [
      "Searching for barbara-wold:15501 153/156\n"
     ]
    },
    {
     "name": "stderr",
     "output_type": "stream",
     "text": [
      "INFO:htsworkflow.submission.encoded:requesting url: https://encodeproject.org/experiments/ENCSR173PJN/\n",
      "INFO:htsworkflow.submission.encoded:requesting url: https://encodeproject.org/search/\n"
     ]
    },
    {
     "name": "stdout",
     "output_type": "stream",
     "text": [
      "Searching for barbara-wold:15502 154/156\n"
     ]
    },
    {
     "name": "stderr",
     "output_type": "stream",
     "text": [
      "INFO:htsworkflow.submission.encoded:requesting url: https://encodeproject.org/search/\n"
     ]
    },
    {
     "name": "stdout",
     "output_type": "stream",
     "text": [
      "Searching for barbara-wold:15503 155/156\n"
     ]
    },
    {
     "name": "stderr",
     "output_type": "stream",
     "text": [
      "INFO:htsworkflow.submission.encoded:requesting url: https://encodeproject.org/experiments/ENCSR739PEB/\n",
      "INFO:htsworkflow.submission.encoded:requesting url: https://encodeproject.org/search/\n"
     ]
    },
    {
     "name": "stdout",
     "output_type": "stream",
     "text": [
      "Searching for barbara-wold:15504 156/156\n"
     ]
    }
   ],
   "source": [
    "experiments_seen = set()\n",
    "\n",
    "for i, library_id in enumerate(library_ids):\n",
    "    alias = 'barbara-wold:{}'.format(library_id)\n",
    "    #url = 'https://encodeproject.org/barbara-wold:{}/'.format(library_id)\n",
    "    print('Searching for {} {}/{}'.format(alias, i+1, len(library_ids)))\n",
    "    #model.parse(url, format='json-ld')\n",
    "    search = encode.search_jsonld(searchTerm=alias)\n",
    "    for row in search['@graph']:\n",
    "        if 'Experiment' in row['@type']:\n",
    "            experiment_id = row['@id']\n",
    "            if experiment_id not in experiments_seen:\n",
    "                experiments_seen.add(experiment_id)\n",
    "                content = encode.get_jsonld(experiment_id)\n",
    "                if 'visualize' in content:\n",
    "                    del content['visualize']\n",
    "                model.parse(data=json.dumps(content), format='json-ld')\n"
   ]
  },
  {
   "cell_type": "code",
   "execution_count": 8,
   "metadata": {
    "collapsed": false,
    "scrolled": true
   },
   "outputs": [],
   "source": [
    "def show_result(qres):\n",
    "    for row in qres:\n",
    "        print('\\t'.join([str(term) for term in row]))"
   ]
  },
  {
   "cell_type": "code",
   "execution_count": 22,
   "metadata": {
    "collapsed": false
   },
   "outputs": [
    {
     "name": "stdout",
     "output_type": "stream",
     "text": [
      "https://encodeproject.org/experiments/ENCSR826HIQ/\tarchived\tbigWig\tsignal of all reads\t16149\tembryonic\t16.5 day\tliver\thttps://encodeproject.org/files/ENCFF962SKY/@@download/ENCFF962SKY.bigWig\n",
      "https://encodeproject.org/experiments/ENCSR826HIQ/\tarchived\tbigWig\tsignal of all reads\t16148\tembryonic\t16.5 day\tliver\thttps://encodeproject.org/files/ENCFF537CAA/@@download/ENCFF537CAA.bigWig\n",
      "https://encodeproject.org/experiments/ENCSR826HIQ/\treleased\tbigWig\tsignal of all reads\t16149\tembryonic\t16.5 day\tliver\thttps://encodeproject.org/files/ENCFF128JHQ/@@download/ENCFF128JHQ.bigWig\n",
      "https://encodeproject.org/experiments/ENCSR826HIQ/\tarchived\tbigWig\tsignal of all reads\t16148\tembryonic\t16.5 day\tliver\thttps://encodeproject.org/files/ENCFF528IKF/@@download/ENCFF528IKF.bigWig\n",
      "https://encodeproject.org/experiments/ENCSR826HIQ/\treleased\tbigWig\tsignal of all reads\t16148\tembryonic\t16.5 day\tliver\thttps://encodeproject.org/files/ENCFF100WOE/@@download/ENCFF100WOE.bigWig\n",
      "https://encodeproject.org/experiments/ENCSR826HIQ/\tarchived\tbigWig\tsignal of all reads\t16149\tembryonic\t16.5 day\tliver\thttps://encodeproject.org/files/ENCFF877RAQ/@@download/ENCFF877RAQ.bigWig\n",
      "https://encodeproject.org/experiments/ENCSR285WZV/\tarchived\tbigWig\tsignal of all reads\t16145\tembryonic\t16.5 day\thindbrain\thttps://encodeproject.org/files/ENCFF589OSH/@@download/ENCFF589OSH.bigWig\n",
      "https://encodeproject.org/experiments/ENCSR285WZV/\tarchived\tbigWig\tsignal of all reads\t16144\tembryonic\t16.5 day\thindbrain\thttps://encodeproject.org/files/ENCFF205EEG/@@download/ENCFF205EEG.bigWig\n",
      "https://encodeproject.org/experiments/ENCSR285WZV/\treleased\tbigWig\tsignal of all reads\t16144\tembryonic\t16.5 day\thindbrain\thttps://encodeproject.org/files/ENCFF636BRI/@@download/ENCFF636BRI.bigWig\n",
      "https://encodeproject.org/experiments/ENCSR285WZV/\treleased\tbigWig\tsignal of all reads\t16145\tembryonic\t16.5 day\thindbrain\thttps://encodeproject.org/files/ENCFF430LFN/@@download/ENCFF430LFN.bigWig\n",
      "https://encodeproject.org/experiments/ENCSR285WZV/\tarchived\tbigWig\tsignal of all reads\t16145\tembryonic\t16.5 day\thindbrain\thttps://encodeproject.org/files/ENCFF740BJI/@@download/ENCFF740BJI.bigWig\n",
      "https://encodeproject.org/experiments/ENCSR285WZV/\tarchived\tbigWig\tsignal of all reads\t16144\tembryonic\t16.5 day\thindbrain\thttps://encodeproject.org/files/ENCFF451SXY/@@download/ENCFF451SXY.bigWig\n",
      "https://encodeproject.org/experiments/ENCSR968QHO/\treleased\tbigWig\tsignal of all reads\t17298\tembryonic\t10.5 day\tlimb\thttps://encodeproject.org/files/ENCFF289MJB/@@download/ENCFF289MJB.bigWig\n",
      "https://encodeproject.org/experiments/ENCSR968QHO/\treleased\tbigWig\tsignal of all reads\t17299\tembryonic\t10.5 day\tlimb\thttps://encodeproject.org/files/ENCFF520PYV/@@download/ENCFF520PYV.bigWig\n",
      "https://encodeproject.org/experiments/ENCSR466KZY/\treleased\tbigWig\tsignal of all reads\t16156\tembryonic\t16.5 day\tstomach\thttps://encodeproject.org/files/ENCFF217DFC/@@download/ENCFF217DFC.bigWig\n",
      "https://encodeproject.org/experiments/ENCSR466KZY/\tarchived\tbigWig\tsignal of all reads\t16157\tembryonic\t16.5 day\tstomach\thttps://encodeproject.org/files/ENCFF415GAS/@@download/ENCFF415GAS.bigWig\n",
      "https://encodeproject.org/experiments/ENCSR466KZY/\treleased\tbigWig\tsignal of all reads\t16157\tembryonic\t16.5 day\tstomach\thttps://encodeproject.org/files/ENCFF190TYU/@@download/ENCFF190TYU.bigWig\n",
      "https://encodeproject.org/experiments/ENCSR466KZY/\tarchived\tbigWig\tsignal of all reads\t16156\tembryonic\t16.5 day\tstomach\thttps://encodeproject.org/files/ENCFF618CCD/@@download/ENCFF618CCD.bigWig\n",
      "https://encodeproject.org/experiments/ENCSR466KZY/\tarchived\tbigWig\tsignal of all reads\t16156\tembryonic\t16.5 day\tstomach\thttps://encodeproject.org/files/ENCFF708YDL/@@download/ENCFF708YDL.bigWig\n",
      "https://encodeproject.org/experiments/ENCSR466KZY/\tarchived\tbigWig\tsignal of all reads\t16157\tembryonic\t16.5 day\tstomach\thttps://encodeproject.org/files/ENCFF465OCY/@@download/ENCFF465OCY.bigWig\n",
      "https://encodeproject.org/experiments/ENCSR764OPZ/\treleased\tbigWig\tsignal of all reads\t17290\tembryonic\t10.5 day\tmidbrain\thttps://encodeproject.org/files/ENCFF494GYU/@@download/ENCFF494GYU.bigWig\n",
      "https://encodeproject.org/experiments/ENCSR764OPZ/\treleased\tbigWig\tsignal of all reads\t17291\tembryonic\t10.5 day\tmidbrain\thttps://encodeproject.org/files/ENCFF206TPL/@@download/ENCFF206TPL.bigWig\n",
      "https://encodeproject.org/experiments/ENCSR830IVQ/\treleased\tbigWig\tsignal of all reads\t16134\tembryonic\t15.5 day\tlimb\thttps://encodeproject.org/files/ENCFF056ENX/@@download/ENCFF056ENX.bigWig\n",
      "https://encodeproject.org/experiments/ENCSR830IVQ/\tarchived\tbigWig\tsignal of all reads\t16135\tembryonic\t15.5 day\tlimb\thttps://encodeproject.org/files/ENCFF216FID/@@download/ENCFF216FID.bigWig\n",
      "https://encodeproject.org/experiments/ENCSR830IVQ/\tarchived\tbigWig\tsignal of all reads\t16134\tembryonic\t15.5 day\tlimb\thttps://encodeproject.org/files/ENCFF942ZWP/@@download/ENCFF942ZWP.bigWig\n",
      "https://encodeproject.org/experiments/ENCSR830IVQ/\treleased\tbigWig\tsignal of all reads\t16135\tembryonic\t15.5 day\tlimb\thttps://encodeproject.org/files/ENCFF493RBC/@@download/ENCFF493RBC.bigWig\n",
      "https://encodeproject.org/experiments/ENCSR830IVQ/\tarchived\tbigWig\tsignal of all reads\t16135\tembryonic\t15.5 day\tlimb\thttps://encodeproject.org/files/ENCFF264AWL/@@download/ENCFF264AWL.bigWig\n",
      "https://encodeproject.org/experiments/ENCSR830IVQ/\tarchived\tbigWig\tsignal of all reads\t16134\tembryonic\t15.5 day\tlimb\thttps://encodeproject.org/files/ENCFF973WPQ/@@download/ENCFF973WPQ.bigWig\n",
      "https://encodeproject.org/experiments/ENCSR173PJN/\tarchived\tbigWig\tsignal of all reads\t15501\tpostnatal\t0 day\tkidney\thttps://encodeproject.org/files/ENCFF696UQO/@@download/ENCFF696UQO.bigWig\n",
      "https://encodeproject.org/experiments/ENCSR173PJN/\tarchived\tbigWig\tsignal of all reads\t15502\tpostnatal\t0 day\tkidney\thttps://encodeproject.org/files/ENCFF149LEW/@@download/ENCFF149LEW.bigWig\n",
      "https://encodeproject.org/experiments/ENCSR173PJN/\treleased\tbigWig\tsignal of all reads\t15501\tpostnatal\t0 day\tkidney\thttps://encodeproject.org/files/ENCFF040MHS/@@download/ENCFF040MHS.bigWig\n",
      "https://encodeproject.org/experiments/ENCSR173PJN/\tarchived\tbigWig\tsignal of all reads\t15501\tpostnatal\t0 day\tkidney\thttps://encodeproject.org/files/ENCFF707CTM/@@download/ENCFF707CTM.bigWig\n",
      "https://encodeproject.org/experiments/ENCSR173PJN/\treleased\tbigWig\tsignal of all reads\t15502\tpostnatal\t0 day\tkidney\thttps://encodeproject.org/files/ENCFF460LIW/@@download/ENCFF460LIW.bigWig\n",
      "https://encodeproject.org/experiments/ENCSR173PJN/\tarchived\tbigWig\tsignal of all reads\t15502\tpostnatal\t0 day\tkidney\thttps://encodeproject.org/files/ENCFF704MJY/@@download/ENCFF704MJY.bigWig\n",
      "https://encodeproject.org/experiments/ENCSR420QTO/\tarchived\tbigWig\tsignal of all reads\t16926\tembryonic\t12.5 day\thindbrain\thttps://encodeproject.org/files/ENCFF814PDG/@@download/ENCFF814PDG.bigWig\n",
      "https://encodeproject.org/experiments/ENCSR420QTO/\tarchived\tbigWig\tsignal of all reads\t16926\tembryonic\t12.5 day\thindbrain\thttps://encodeproject.org/files/ENCFF759QQA/@@download/ENCFF759QQA.bigWig\n",
      "https://encodeproject.org/experiments/ENCSR420QTO/\tarchived\tbigWig\tsignal of all reads\t16927\tembryonic\t12.5 day\thindbrain\thttps://encodeproject.org/files/ENCFF232XQX/@@download/ENCFF232XQX.bigWig\n",
      "https://encodeproject.org/experiments/ENCSR420QTO/\tarchived\tbigWig\tsignal of all reads\t16927\tembryonic\t12.5 day\thindbrain\thttps://encodeproject.org/files/ENCFF858HNV/@@download/ENCFF858HNV.bigWig\n",
      "https://encodeproject.org/experiments/ENCSR448MXQ/\tarchived\tbigWig\tsignal of all reads\t16113\tembryonic\t13.5 day\tliver\thttps://encodeproject.org/files/ENCFF653MGD/@@download/ENCFF653MGD.bigWig\n",
      "https://encodeproject.org/experiments/ENCSR448MXQ/\treleased\tbigWig\tsignal of all reads\t16113\tembryonic\t13.5 day\tliver\thttps://encodeproject.org/files/ENCFF938KFW/@@download/ENCFF938KFW.bigWig\n",
      "https://encodeproject.org/experiments/ENCSR448MXQ/\tarchived\tbigWig\tsignal of all reads\t16113\tembryonic\t13.5 day\tliver\thttps://encodeproject.org/files/ENCFF290PAC/@@download/ENCFF290PAC.bigWig\n",
      "https://encodeproject.org/experiments/ENCSR448MXQ/\tarchived\tbigWig\tsignal of all reads\t16112\tembryonic\t13.5 day\tliver\thttps://encodeproject.org/files/ENCFF763YXV/@@download/ENCFF763YXV.bigWig\n",
      "https://encodeproject.org/experiments/ENCSR448MXQ/\tarchived\tbigWig\tsignal of all reads\t16112\tembryonic\t13.5 day\tliver\thttps://encodeproject.org/files/ENCFF593JKG/@@download/ENCFF593JKG.bigWig\n",
      "https://encodeproject.org/experiments/ENCSR448MXQ/\treleased\tbigWig\tsignal of all reads\t16112\tembryonic\t13.5 day\tliver\thttps://encodeproject.org/files/ENCFF661DXP/@@download/ENCFF661DXP.bigWig\n",
      "https://encodeproject.org/experiments/ENCSR362AIZ/\tarchived\tbigWig\tsignal of all reads\t15475\tpostnatal\t0 day\tforebrain\thttps://encodeproject.org/files/ENCFF461GSJ/@@download/ENCFF461GSJ.bigWig\n",
      "https://encodeproject.org/experiments/ENCSR362AIZ/\tarchived\tbigWig\tsignal of all reads\t15475\tpostnatal\t0 day\tforebrain\thttps://encodeproject.org/files/ENCFF623UHM/@@download/ENCFF623UHM.bigWig\n",
      "https://encodeproject.org/experiments/ENCSR362AIZ/\tarchived\tbigWig\tsignal of all reads\t15476\tpostnatal\t0 day\tforebrain\thttps://encodeproject.org/files/ENCFF592ZRF/@@download/ENCFF592ZRF.bigWig\n",
      "https://encodeproject.org/experiments/ENCSR362AIZ/\treleased\tbigWig\tsignal of all reads\t15475\tpostnatal\t0 day\tforebrain\thttps://encodeproject.org/files/ENCFF564LUK/@@download/ENCFF564LUK.bigWig\n",
      "https://encodeproject.org/experiments/ENCSR362AIZ/\treleased\tbigWig\tsignal of all reads\t15476\tpostnatal\t0 day\tforebrain\thttps://encodeproject.org/files/ENCFF326RPH/@@download/ENCFF326RPH.bigWig\n",
      "https://encodeproject.org/experiments/ENCSR362AIZ/\tarchived\tbigWig\tsignal of all reads\t15476\tpostnatal\t0 day\tforebrain\thttps://encodeproject.org/files/ENCFF285HFJ/@@download/ENCFF285HFJ.bigWig\n",
      "https://encodeproject.org/experiments/ENCSR438XCG/\treleased\tbigWig\tsignal of all reads\t15484\tpostnatal\t0 day\tthymus\thttps://encodeproject.org/files/ENCFF810LWQ/@@download/ENCFF810LWQ.bigWig\n",
      "https://encodeproject.org/experiments/ENCSR438XCG/\tarchived\tbigWig\tsignal of all reads\t15483\tpostnatal\t0 day\tthymus\thttps://encodeproject.org/files/ENCFF551VNA/@@download/ENCFF551VNA.bigWig\n",
      "https://encodeproject.org/experiments/ENCSR438XCG/\tarchived\tbigWig\tsignal of all reads\t15484\tpostnatal\t0 day\tthymus\thttps://encodeproject.org/files/ENCFF281CKG/@@download/ENCFF281CKG.bigWig\n",
      "https://encodeproject.org/experiments/ENCSR438XCG/\tarchived\tbigWig\tsignal of all reads\t15484\tpostnatal\t0 day\tthymus\thttps://encodeproject.org/files/ENCFF157OWV/@@download/ENCFF157OWV.bigWig\n",
      "https://encodeproject.org/experiments/ENCSR438XCG/\tarchived\tbigWig\tsignal of all reads\t15483\tpostnatal\t0 day\tthymus\thttps://encodeproject.org/files/ENCFF717GAK/@@download/ENCFF717GAK.bigWig\n",
      "https://encodeproject.org/experiments/ENCSR438XCG/\treleased\tbigWig\tsignal of all reads\t15483\tpostnatal\t0 day\tthymus\thttps://encodeproject.org/files/ENCFF067HOK/@@download/ENCFF067HOK.bigWig\n",
      "https://encodeproject.org/experiments/ENCSR932TRU/\tarchived\tbigWig\tsignal of all reads\t15091\tembryonic\t14.5 day\tintestine\thttps://encodeproject.org/files/ENCFF736DOY/@@download/ENCFF736DOY.bigWig\n",
      "https://encodeproject.org/experiments/ENCSR932TRU/\tarchived\tbigWig\tsignal of all reads\t15090\tembryonic\t14.5 day\tintestine\thttps://encodeproject.org/files/ENCFF486OCP/@@download/ENCFF486OCP.bigWig\n",
      "https://encodeproject.org/experiments/ENCSR932TRU/\tarchived\tbigWig\tsignal of all reads\t15091\tembryonic\t14.5 day\tintestine\thttps://encodeproject.org/files/ENCFF457SHT/@@download/ENCFF457SHT.bigWig\n",
      "https://encodeproject.org/experiments/ENCSR932TRU/\tarchived\tbigWig\tsignal of all reads\t15090\tembryonic\t14.5 day\tintestine\thttps://encodeproject.org/files/ENCFF910VGB/@@download/ENCFF910VGB.bigWig\n",
      "https://encodeproject.org/experiments/ENCSR932TRU/\treleased\tbigWig\tsignal of all reads\t15090\tembryonic\t14.5 day\tintestine\thttps://encodeproject.org/files/ENCFF321GNV/@@download/ENCFF321GNV.bigWig\n",
      "https://encodeproject.org/experiments/ENCSR932TRU/\treleased\tbigWig\tsignal of all reads\t15091\tembryonic\t14.5 day\tintestine\thttps://encodeproject.org/files/ENCFF430MCL/@@download/ENCFF430MCL.bigWig\n",
      "https://encodeproject.org/experiments/ENCSR992WBR/\tarchived\tbigWig\tsignal of all reads\t16150\tembryonic\t16.5 day\tlung\thttps://encodeproject.org/files/ENCFF167JXS/@@download/ENCFF167JXS.bigWig\n",
      "https://encodeproject.org/experiments/ENCSR992WBR/\tarchived\tbigWig\tsignal of all reads\t16151\tembryonic\t16.5 day\tlung\thttps://encodeproject.org/files/ENCFF826QLK/@@download/ENCFF826QLK.bigWig\n",
      "https://encodeproject.org/experiments/ENCSR992WBR/\treleased\tbigWig\tsignal of all reads\t16151\tembryonic\t16.5 day\tlung\thttps://encodeproject.org/files/ENCFF767MKY/@@download/ENCFF767MKY.bigWig\n",
      "https://encodeproject.org/experiments/ENCSR992WBR/\tarchived\tbigWig\tsignal of all reads\t16150\tembryonic\t16.5 day\tlung\thttps://encodeproject.org/files/ENCFF369IKT/@@download/ENCFF369IKT.bigWig\n",
      "https://encodeproject.org/experiments/ENCSR992WBR/\treleased\tbigWig\tsignal of all reads\t16150\tembryonic\t16.5 day\tlung\thttps://encodeproject.org/files/ENCFF185SJY/@@download/ENCFF185SJY.bigWig\n",
      "https://encodeproject.org/experiments/ENCSR992WBR/\tarchived\tbigWig\tsignal of all reads\t16151\tembryonic\t16.5 day\tlung\thttps://encodeproject.org/files/ENCFF157UQD/@@download/ENCFF157UQD.bigWig\n",
      "https://encodeproject.org/experiments/ENCSR115TWD/\tarchived\tbigWig\tsignal of all reads\t16114\tembryonic\t13.5 day\tneural tube\thttps://encodeproject.org/files/ENCFF266XID/@@download/ENCFF266XID.bigWig\n",
      "https://encodeproject.org/experiments/ENCSR115TWD/\tarchived\tbigWig\tsignal of all reads\t16115\tembryonic\t13.5 day\tneural tube\thttps://encodeproject.org/files/ENCFF687BDL/@@download/ENCFF687BDL.bigWig\n",
      "https://encodeproject.org/experiments/ENCSR115TWD/\treleased\tbigWig\tsignal of all reads\t16114\tembryonic\t13.5 day\tneural tube\thttps://encodeproject.org/files/ENCFF789LMJ/@@download/ENCFF789LMJ.bigWig\n",
      "https://encodeproject.org/experiments/ENCSR115TWD/\treleased\tbigWig\tsignal of all reads\t16115\tembryonic\t13.5 day\tneural tube\thttps://encodeproject.org/files/ENCFF028DKY/@@download/ENCFF028DKY.bigWig\n",
      "https://encodeproject.org/experiments/ENCSR115TWD/\tarchived\tbigWig\tsignal of all reads\t16115\tembryonic\t13.5 day\tneural tube\thttps://encodeproject.org/files/ENCFF753LUQ/@@download/ENCFF753LUQ.bigWig\n",
      "https://encodeproject.org/experiments/ENCSR115TWD/\tarchived\tbigWig\tsignal of all reads\t16114\tembryonic\t13.5 day\tneural tube\thttps://encodeproject.org/files/ENCFF449BCQ/@@download/ENCFF449BCQ.bigWig\n",
      "https://encodeproject.org/experiments/ENCSR331XCE/\tarchived\tbigWig\tsignal of all reads\t15500\tpostnatal\t0 day\tintestine\thttps://encodeproject.org/files/ENCFF488QCV/@@download/ENCFF488QCV.bigWig\n",
      "https://encodeproject.org/experiments/ENCSR331XCE/\tarchived\tbigWig\tsignal of all reads\t15499\tpostnatal\t0 day\tintestine\thttps://encodeproject.org/files/ENCFF101GOQ/@@download/ENCFF101GOQ.bigWig\n",
      "https://encodeproject.org/experiments/ENCSR331XCE/\treleased\tbigWig\tsignal of all reads\t15500\tpostnatal\t0 day\tintestine\thttps://encodeproject.org/files/ENCFF393OVB/@@download/ENCFF393OVB.bigWig\n",
      "https://encodeproject.org/experiments/ENCSR331XCE/\treleased\tbigWig\tsignal of all reads\t15499\tpostnatal\t0 day\tintestine\thttps://encodeproject.org/files/ENCFF193RTU/@@download/ENCFF193RTU.bigWig\n",
      "https://encodeproject.org/experiments/ENCSR331XCE/\tarchived\tbigWig\tsignal of all reads\t15499\tpostnatal\t0 day\tintestine\thttps://encodeproject.org/files/ENCFF458WXK/@@download/ENCFF458WXK.bigWig\n",
      "https://encodeproject.org/experiments/ENCSR331XCE/\tarchived\tbigWig\tsignal of all reads\t15500\tpostnatal\t0 day\tintestine\thttps://encodeproject.org/files/ENCFF759MVC/@@download/ENCFF759MVC.bigWig\n",
      "https://encodeproject.org/experiments/ENCSR906YQZ/\treleased\tbigWig\tsignal of all reads\t16130\tembryonic\t15.5 day\tstomach\thttps://encodeproject.org/files/ENCFF376OIM/@@download/ENCFF376OIM.bigWig\n",
      "https://encodeproject.org/experiments/ENCSR906YQZ/\treleased\tbigWig\tsignal of all reads\t16131\tembryonic\t15.5 day\tstomach\thttps://encodeproject.org/files/ENCFF537GAJ/@@download/ENCFF537GAJ.bigWig\n",
      "https://encodeproject.org/experiments/ENCSR906YQZ/\tarchived\tbigWig\tsignal of all reads\t16130\tembryonic\t15.5 day\tstomach\thttps://encodeproject.org/files/ENCFF322NSZ/@@download/ENCFF322NSZ.bigWig\n",
      "https://encodeproject.org/experiments/ENCSR906YQZ/\tarchived\tbigWig\tsignal of all reads\t16131\tembryonic\t15.5 day\tstomach\thttps://encodeproject.org/files/ENCFF887KAL/@@download/ENCFF887KAL.bigWig\n",
      "https://encodeproject.org/experiments/ENCSR906YQZ/\tarchived\tbigWig\tsignal of all reads\t16130\tembryonic\t15.5 day\tstomach\thttps://encodeproject.org/files/ENCFF178AWI/@@download/ENCFF178AWI.bigWig\n",
      "https://encodeproject.org/experiments/ENCSR906YQZ/\tarchived\tbigWig\tsignal of all reads\t16131\tembryonic\t15.5 day\tstomach\thttps://encodeproject.org/files/ENCFF712YSL/@@download/ENCFF712YSL.bigWig\n",
      "https://encodeproject.org/experiments/ENCSR557RMA/\tarchived\tbigWig\tsignal of all reads\t16118\tembryonic\t15.5 day\tmidbrain\thttps://encodeproject.org/files/ENCFF367GNI/@@download/ENCFF367GNI.bigWig\n",
      "https://encodeproject.org/experiments/ENCSR557RMA/\tarchived\tbigWig\tsignal of all reads\t16118\tembryonic\t15.5 day\tmidbrain\thttps://encodeproject.org/files/ENCFF616LMQ/@@download/ENCFF616LMQ.bigWig\n",
      "https://encodeproject.org/experiments/ENCSR557RMA/\treleased\tbigWig\tsignal of all reads\t16119\tembryonic\t15.5 day\tmidbrain\thttps://encodeproject.org/files/ENCFF319NXW/@@download/ENCFF319NXW.bigWig\n",
      "https://encodeproject.org/experiments/ENCSR557RMA/\treleased\tbigWig\tsignal of all reads\t16118\tembryonic\t15.5 day\tmidbrain\thttps://encodeproject.org/files/ENCFF437YRA/@@download/ENCFF437YRA.bigWig\n",
      "https://encodeproject.org/experiments/ENCSR557RMA/\tarchived\tbigWig\tsignal of all reads\t16119\tembryonic\t15.5 day\tmidbrain\thttps://encodeproject.org/files/ENCFF384GXF/@@download/ENCFF384GXF.bigWig\n",
      "https://encodeproject.org/experiments/ENCSR557RMA/\tarchived\tbigWig\tsignal of all reads\t16119\tembryonic\t15.5 day\tmidbrain\thttps://encodeproject.org/files/ENCFF086CMX/@@download/ENCFF086CMX.bigWig\n",
      "https://encodeproject.org/experiments/ENCSR284AMY/\tarchived\tbigWig\tsignal of all reads\t15018\tembryonic\t11.5 day\tliver\thttps://encodeproject.org/files/ENCFF539CVW/@@download/ENCFF539CVW.bigWig\n",
      "https://encodeproject.org/experiments/ENCSR284AMY/\tarchived\tbigWig\tsignal of all reads\t15017\tembryonic\t11.5 day\tliver\thttps://encodeproject.org/files/ENCFF525IFC/@@download/ENCFF525IFC.bigWig\n",
      "https://encodeproject.org/experiments/ENCSR284AMY/\treleased\tbigWig\tsignal of all reads\t15018\tembryonic\t11.5 day\tliver\thttps://encodeproject.org/files/ENCFF458EVB/@@download/ENCFF458EVB.bigWig\n",
      "https://encodeproject.org/experiments/ENCSR284AMY/\treleased\tbigWig\tsignal of all reads\t15017\tembryonic\t11.5 day\tliver\thttps://encodeproject.org/files/ENCFF637EGF/@@download/ENCFF637EGF.bigWig\n",
      "https://encodeproject.org/experiments/ENCSR284AMY/\tarchived\tbigWig\tsignal of all reads\t15017\tembryonic\t11.5 day\tliver\thttps://encodeproject.org/files/ENCFF819OJD/@@download/ENCFF819OJD.bigWig\n",
      "https://encodeproject.org/experiments/ENCSR284AMY/\tarchived\tbigWig\tsignal of all reads\t15018\tembryonic\t11.5 day\tliver\thttps://encodeproject.org/files/ENCFF980ZAF/@@download/ENCFF980ZAF.bigWig\n",
      "https://encodeproject.org/experiments/ENCSR792RJV/\tarchived\tbigWig\tsignal of all reads\t16103\tembryonic\t13.5 day\tmidbrain\thttps://encodeproject.org/files/ENCFF348WCP/@@download/ENCFF348WCP.bigWig\n",
      "https://encodeproject.org/experiments/ENCSR792RJV/\treleased\tbigWig\tsignal of all reads\t16103\tembryonic\t13.5 day\tmidbrain\thttps://encodeproject.org/files/ENCFF175EPA/@@download/ENCFF175EPA.bigWig\n",
      "https://encodeproject.org/experiments/ENCSR792RJV/\treleased\tbigWig\tsignal of all reads\t16102\tembryonic\t13.5 day\tmidbrain\thttps://encodeproject.org/files/ENCFF579DSJ/@@download/ENCFF579DSJ.bigWig\n",
      "https://encodeproject.org/experiments/ENCSR792RJV/\tarchived\tbigWig\tsignal of all reads\t16102\tembryonic\t13.5 day\tmidbrain\thttps://encodeproject.org/files/ENCFF724COI/@@download/ENCFF724COI.bigWig\n",
      "https://encodeproject.org/experiments/ENCSR792RJV/\tarchived\tbigWig\tsignal of all reads\t16102\tembryonic\t13.5 day\tmidbrain\thttps://encodeproject.org/files/ENCFF005TGO/@@download/ENCFF005TGO.bigWig\n",
      "https://encodeproject.org/experiments/ENCSR792RJV/\tarchived\tbigWig\tsignal of all reads\t16103\tembryonic\t13.5 day\tmidbrain\thttps://encodeproject.org/files/ENCFF895BVS/@@download/ENCFF895BVS.bigWig\n",
      "https://encodeproject.org/experiments/ENCSR750YSX/\tarchived\tbigWig\tsignal of all reads\t16930\tembryonic\t12.5 day\tlimb\thttps://encodeproject.org/files/ENCFF479PUG/@@download/ENCFF479PUG.bigWig\n",
      "https://encodeproject.org/experiments/ENCSR750YSX/\tarchived\tbigWig\tsignal of all reads\t16931\tembryonic\t12.5 day\tlimb\thttps://encodeproject.org/files/ENCFF724LKV/@@download/ENCFF724LKV.bigWig\n",
      "https://encodeproject.org/experiments/ENCSR750YSX/\tarchived\tbigWig\tsignal of all reads\t16931\tembryonic\t12.5 day\tlimb\thttps://encodeproject.org/files/ENCFF270KJB/@@download/ENCFF270KJB.bigWig\n",
      "https://encodeproject.org/experiments/ENCSR750YSX/\tarchived\tbigWig\tsignal of all reads\t16930\tembryonic\t12.5 day\tlimb\thttps://encodeproject.org/files/ENCFF754BDC/@@download/ENCFF754BDC.bigWig\n",
      "https://encodeproject.org/experiments/ENCSR160IIN/\tarchived\tbigWig\tsignal of all reads\t15007\tembryonic\t11.5 day\tforebrain\thttps://encodeproject.org/files/ENCFF952XEQ/@@download/ENCFF952XEQ.bigWig\n",
      "https://encodeproject.org/experiments/ENCSR160IIN/\treleased\tbigWig\tsignal of all reads\t15007\tembryonic\t11.5 day\tforebrain\thttps://encodeproject.org/files/ENCFF188PFI/@@download/ENCFF188PFI.bigWig\n",
      "https://encodeproject.org/experiments/ENCSR160IIN/\treleased\tbigWig\tsignal of all reads\t15008\tembryonic\t11.5 day\tforebrain\thttps://encodeproject.org/files/ENCFF835ORP/@@download/ENCFF835ORP.bigWig\n",
      "https://encodeproject.org/experiments/ENCSR160IIN/\tarchived\tbigWig\tsignal of all reads\t15007\tembryonic\t11.5 day\tforebrain\thttps://encodeproject.org/files/ENCFF098YXB/@@download/ENCFF098YXB.bigWig\n",
      "https://encodeproject.org/experiments/ENCSR160IIN/\tarchived\tbigWig\tsignal of all reads\t15008\tembryonic\t11.5 day\tforebrain\thttps://encodeproject.org/files/ENCFF646EFP/@@download/ENCFF646EFP.bigWig\n",
      "https://encodeproject.org/experiments/ENCSR160IIN/\tarchived\tbigWig\tsignal of all reads\t15008\tembryonic\t11.5 day\tforebrain\thttps://encodeproject.org/files/ENCFF369JHP/@@download/ENCFF369JHP.bigWig\n",
      "https://encodeproject.org/experiments/ENCSR772FQU/\tarchived\tbigWig\tsignal of all reads\t15496\tpostnatal\t0 day\tbladder\thttps://encodeproject.org/files/ENCFF548BRF/@@download/ENCFF548BRF.bigWig\n",
      "https://encodeproject.org/experiments/ENCSR772FQU/\tarchived\tbigWig\tsignal of all reads\t15495\tpostnatal\t0 day\tbladder\thttps://encodeproject.org/files/ENCFF675KND/@@download/ENCFF675KND.bigWig\n",
      "https://encodeproject.org/experiments/ENCSR772FQU/\tarchived\tbigWig\tsignal of all reads\t15495\tpostnatal\t0 day\tbladder\thttps://encodeproject.org/files/ENCFF383RMV/@@download/ENCFF383RMV.bigWig\n",
      "https://encodeproject.org/experiments/ENCSR772FQU/\treleased\tbigWig\tsignal of all reads\t15496\tpostnatal\t0 day\tbladder\thttps://encodeproject.org/files/ENCFF277QPS/@@download/ENCFF277QPS.bigWig\n",
      "https://encodeproject.org/experiments/ENCSR772FQU/\tarchived\tbigWig\tsignal of all reads\t15496\tpostnatal\t0 day\tbladder\thttps://encodeproject.org/files/ENCFF489YNI/@@download/ENCFF489YNI.bigWig\n",
      "https://encodeproject.org/experiments/ENCSR772FQU/\treleased\tbigWig\tsignal of all reads\t15495\tpostnatal\t0 day\tbladder\thttps://encodeproject.org/files/ENCFF577OSY/@@download/ENCFF577OSY.bigWig\n",
      "https://encodeproject.org/experiments/ENCSR039ADS/\treleased\tbigWig\tsignal of all reads\t15083\tembryonic\t14.5 day\tlung\thttps://encodeproject.org/files/ENCFF074PVL/@@download/ENCFF074PVL.bigWig\n",
      "https://encodeproject.org/experiments/ENCSR039ADS/\tarchived\tbigWig\tsignal of all reads\t15082\tembryonic\t14.5 day\tlung\thttps://encodeproject.org/files/ENCFF607GYD/@@download/ENCFF607GYD.bigWig\n",
      "https://encodeproject.org/experiments/ENCSR039ADS/\tarchived\tbigWig\tsignal of all reads\t15083\tembryonic\t14.5 day\tlung\thttps://encodeproject.org/files/ENCFF189UIA/@@download/ENCFF189UIA.bigWig\n",
      "https://encodeproject.org/experiments/ENCSR039ADS/\treleased\tbigWig\tsignal of all reads\t15082\tembryonic\t14.5 day\tlung\thttps://encodeproject.org/files/ENCFF683CDB/@@download/ENCFF683CDB.bigWig\n",
      "https://encodeproject.org/experiments/ENCSR039ADS/\tarchived\tbigWig\tsignal of all reads\t15083\tembryonic\t14.5 day\tlung\thttps://encodeproject.org/files/ENCFF552SIH/@@download/ENCFF552SIH.bigWig\n",
      "https://encodeproject.org/experiments/ENCSR039ADS/\tarchived\tbigWig\tsignal of all reads\t15082\tembryonic\t14.5 day\tlung\thttps://encodeproject.org/files/ENCFF521UAR/@@download/ENCFF521UAR.bigWig\n",
      "https://encodeproject.org/experiments/ENCSR049UJU/\treleased\tbigWig\tsignal of all reads\t17296\tembryonic\t10.5 day\theart\thttps://encodeproject.org/files/ENCFF619IJP/@@download/ENCFF619IJP.bigWig\n",
      "https://encodeproject.org/experiments/ENCSR049UJU/\treleased\tbigWig\tsignal of all reads\t17297\tembryonic\t10.5 day\theart\thttps://encodeproject.org/files/ENCFF226XYK/@@download/ENCFF226XYK.bigWig\n",
      "https://encodeproject.org/experiments/ENCSR337FYI/\treleased\tbigWig\tsignal of all reads\t15021\tembryonic\t11.5 day\tneural tube\thttps://encodeproject.org/files/ENCFF460LPF/@@download/ENCFF460LPF.bigWig\n",
      "https://encodeproject.org/experiments/ENCSR337FYI/\treleased\tbigWig\tsignal of all reads\t15022\tembryonic\t11.5 day\tneural tube\thttps://encodeproject.org/files/ENCFF788ZFI/@@download/ENCFF788ZFI.bigWig\n",
      "https://encodeproject.org/experiments/ENCSR337FYI/\tarchived\tbigWig\tsignal of all reads\t15021\tembryonic\t11.5 day\tneural tube\thttps://encodeproject.org/files/ENCFF090FKR/@@download/ENCFF090FKR.bigWig\n",
      "https://encodeproject.org/experiments/ENCSR337FYI/\tarchived\tbigWig\tsignal of all reads\t15021\tembryonic\t11.5 day\tneural tube\thttps://encodeproject.org/files/ENCFF998RJT/@@download/ENCFF998RJT.bigWig\n",
      "https://encodeproject.org/experiments/ENCSR337FYI/\tarchived\tbigWig\tsignal of all reads\t15022\tembryonic\t11.5 day\tneural tube\thttps://encodeproject.org/files/ENCFF995KIT/@@download/ENCFF995KIT.bigWig\n",
      "https://encodeproject.org/experiments/ENCSR337FYI/\tarchived\tbigWig\tsignal of all reads\t15022\tembryonic\t11.5 day\tneural tube\thttps://encodeproject.org/files/ENCFF417NYQ/@@download/ENCFF417NYQ.bigWig\n",
      "https://encodeproject.org/experiments/ENCSR848GST/\tarchived\tbigWig\tsignal of all reads\t16152\tembryonic\t16.5 day\tintestine\thttps://encodeproject.org/files/ENCFF132RJC/@@download/ENCFF132RJC.bigWig\n",
      "https://encodeproject.org/experiments/ENCSR848GST/\tarchived\tbigWig\tsignal of all reads\t16153\tembryonic\t16.5 day\tintestine\thttps://encodeproject.org/files/ENCFF539LDC/@@download/ENCFF539LDC.bigWig\n",
      "https://encodeproject.org/experiments/ENCSR848GST/\treleased\tbigWig\tsignal of all reads\t16152\tembryonic\t16.5 day\tintestine\thttps://encodeproject.org/files/ENCFF410BTA/@@download/ENCFF410BTA.bigWig\n",
      "https://encodeproject.org/experiments/ENCSR848GST/\tarchived\tbigWig\tsignal of all reads\t16153\tembryonic\t16.5 day\tintestine\thttps://encodeproject.org/files/ENCFF163UFE/@@download/ENCFF163UFE.bigWig\n",
      "https://encodeproject.org/experiments/ENCSR848GST/\treleased\tbigWig\tsignal of all reads\t16153\tembryonic\t16.5 day\tintestine\thttps://encodeproject.org/files/ENCFF411WZW/@@download/ENCFF411WZW.bigWig\n",
      "https://encodeproject.org/experiments/ENCSR848GST/\tarchived\tbigWig\tsignal of all reads\t16152\tembryonic\t16.5 day\tintestine\thttps://encodeproject.org/files/ENCFF737RUF/@@download/ENCFF737RUF.bigWig\n",
      "https://encodeproject.org/experiments/ENCSR508GWZ/\tarchived\tbigWig\tsignal of all reads\t16936\tembryonic\t12.5 day\tneural tube\thttps://encodeproject.org/files/ENCFF020UTP/@@download/ENCFF020UTP.bigWig\n",
      "https://encodeproject.org/experiments/ENCSR508GWZ/\tarchived\tbigWig\tsignal of all reads\t16937\tembryonic\t12.5 day\tneural tube\thttps://encodeproject.org/files/ENCFF945MWC/@@download/ENCFF945MWC.bigWig\n",
      "https://encodeproject.org/experiments/ENCSR508GWZ/\tarchived\tbigWig\tsignal of all reads\t16936\tembryonic\t12.5 day\tneural tube\thttps://encodeproject.org/files/ENCFF976BMR/@@download/ENCFF976BMR.bigWig\n",
      "https://encodeproject.org/experiments/ENCSR508GWZ/\tarchived\tbigWig\tsignal of all reads\t16937\tembryonic\t12.5 day\tneural tube\thttps://encodeproject.org/files/ENCFF598FTI/@@download/ENCFF598FTI.bigWig\n",
      "https://encodeproject.org/experiments/ENCSR080EVZ/\tarchived\tbigWig\tsignal of all reads\t16140\tembryonic\t16.5 day\tforebrain\thttps://encodeproject.org/files/ENCFF652JFT/@@download/ENCFF652JFT.bigWig\n",
      "https://encodeproject.org/experiments/ENCSR080EVZ/\tarchived\tbigWig\tsignal of all reads\t16141\tembryonic\t16.5 day\tforebrain\thttps://encodeproject.org/files/ENCFF262BPU/@@download/ENCFF262BPU.bigWig\n",
      "https://encodeproject.org/experiments/ENCSR080EVZ/\tarchived\tbigWig\tsignal of all reads\t16141\tembryonic\t16.5 day\tforebrain\thttps://encodeproject.org/files/ENCFF919JDT/@@download/ENCFF919JDT.bigWig\n",
      "https://encodeproject.org/experiments/ENCSR080EVZ/\treleased\tbigWig\tsignal of all reads\t16141\tembryonic\t16.5 day\tforebrain\thttps://encodeproject.org/files/ENCFF068YZO/@@download/ENCFF068YZO.bigWig\n",
      "https://encodeproject.org/experiments/ENCSR080EVZ/\treleased\tbigWig\tsignal of all reads\t16140\tembryonic\t16.5 day\tforebrain\thttps://encodeproject.org/files/ENCFF506QML/@@download/ENCFF506QML.bigWig\n",
      "https://encodeproject.org/experiments/ENCSR080EVZ/\tarchived\tbigWig\tsignal of all reads\t16140\tembryonic\t16.5 day\tforebrain\thttps://encodeproject.org/files/ENCFF007DNY/@@download/ENCFF007DNY.bigWig\n",
      "https://encodeproject.org/experiments/ENCSR921PRX/\tarchived\tbigWig\tsignal of all reads\t16104\tembryonic\t13.5 day\thindbrain\thttps://encodeproject.org/files/ENCFF422IHM/@@download/ENCFF422IHM.bigWig\n",
      "https://encodeproject.org/experiments/ENCSR921PRX/\tarchived\tbigWig\tsignal of all reads\t16104\tembryonic\t13.5 day\thindbrain\thttps://encodeproject.org/files/ENCFF711MMA/@@download/ENCFF711MMA.bigWig\n",
      "https://encodeproject.org/experiments/ENCSR921PRX/\treleased\tbigWig\tsignal of all reads\t16104\tembryonic\t13.5 day\thindbrain\thttps://encodeproject.org/files/ENCFF573EBY/@@download/ENCFF573EBY.bigWig\n",
      "https://encodeproject.org/experiments/ENCSR921PRX/\treleased\tbigWig\tsignal of all reads\t16105\tembryonic\t13.5 day\thindbrain\thttps://encodeproject.org/files/ENCFF459LAE/@@download/ENCFF459LAE.bigWig\n",
      "https://encodeproject.org/experiments/ENCSR921PRX/\tarchived\tbigWig\tsignal of all reads\t16105\tembryonic\t13.5 day\thindbrain\thttps://encodeproject.org/files/ENCFF973GIS/@@download/ENCFF973GIS.bigWig\n",
      "https://encodeproject.org/experiments/ENCSR921PRX/\tarchived\tbigWig\tsignal of all reads\t16105\tembryonic\t13.5 day\thindbrain\thttps://encodeproject.org/files/ENCFF436WWR/@@download/ENCFF436WWR.bigWig\n",
      "https://encodeproject.org/experiments/ENCSR648YEP/\tarchived\tbigWig\tsignal of all reads\t16935\tembryonic\t12.5 day\tliver\thttps://encodeproject.org/files/ENCFF122YDS/@@download/ENCFF122YDS.bigWig\n",
      "https://encodeproject.org/experiments/ENCSR648YEP/\tarchived\tbigWig\tsignal of all reads\t16934\tembryonic\t12.5 day\tliver\thttps://encodeproject.org/files/ENCFF712XGO/@@download/ENCFF712XGO.bigWig\n",
      "https://encodeproject.org/experiments/ENCSR648YEP/\tarchived\tbigWig\tsignal of all reads\t16934\tembryonic\t12.5 day\tliver\thttps://encodeproject.org/files/ENCFF786DZL/@@download/ENCFF786DZL.bigWig\n",
      "https://encodeproject.org/experiments/ENCSR648YEP/\tarchived\tbigWig\tsignal of all reads\t16935\tembryonic\t12.5 day\tliver\thttps://encodeproject.org/files/ENCFF168HSN/@@download/ENCFF168HSN.bigWig\n",
      "https://encodeproject.org/experiments/ENCSR178GUS/\treleased\tbigWig\tsignal of all reads\t15498\tpostnatal\t0 day\tstomach\thttps://encodeproject.org/files/ENCFF626ZYJ/@@download/ENCFF626ZYJ.bigWig\n",
      "https://encodeproject.org/experiments/ENCSR178GUS/\tarchived\tbigWig\tsignal of all reads\t15498\tpostnatal\t0 day\tstomach\thttps://encodeproject.org/files/ENCFF240HEQ/@@download/ENCFF240HEQ.bigWig\n",
      "https://encodeproject.org/experiments/ENCSR178GUS/\tarchived\tbigWig\tsignal of all reads\t15498\tpostnatal\t0 day\tstomach\thttps://encodeproject.org/files/ENCFF283RIC/@@download/ENCFF283RIC.bigWig\n",
      "https://encodeproject.org/experiments/ENCSR178GUS/\tarchived\tbigWig\tsignal of all reads\t15497\tpostnatal\t0 day\tstomach\thttps://encodeproject.org/files/ENCFF204ICI/@@download/ENCFF204ICI.bigWig\n",
      "https://encodeproject.org/experiments/ENCSR178GUS/\treleased\tbigWig\tsignal of all reads\t15497\tpostnatal\t0 day\tstomach\thttps://encodeproject.org/files/ENCFF016FUN/@@download/ENCFF016FUN.bigWig\n",
      "https://encodeproject.org/experiments/ENCSR178GUS/\tarchived\tbigWig\tsignal of all reads\t15497\tpostnatal\t0 day\tstomach\thttps://encodeproject.org/files/ENCFF255INV/@@download/ENCFF255INV.bigWig\n",
      "https://encodeproject.org/experiments/ENCSR347SQR/\tarchived\tbigWig\tsignal of all reads\t16110\tembryonic\t13.5 day\tlimb\thttps://encodeproject.org/files/ENCFF578HNC/@@download/ENCFF578HNC.bigWig\n",
      "https://encodeproject.org/experiments/ENCSR347SQR/\treleased\tbigWig\tsignal of all reads\t16111\tembryonic\t13.5 day\tlimb\thttps://encodeproject.org/files/ENCFF466OJM/@@download/ENCFF466OJM.bigWig\n",
      "https://encodeproject.org/experiments/ENCSR347SQR/\tarchived\tbigWig\tsignal of all reads\t16111\tembryonic\t13.5 day\tlimb\thttps://encodeproject.org/files/ENCFF344GDP/@@download/ENCFF344GDP.bigWig\n",
      "https://encodeproject.org/experiments/ENCSR347SQR/\tarchived\tbigWig\tsignal of all reads\t16111\tembryonic\t13.5 day\tlimb\thttps://encodeproject.org/files/ENCFF645WKS/@@download/ENCFF645WKS.bigWig\n",
      "https://encodeproject.org/experiments/ENCSR347SQR/\treleased\tbigWig\tsignal of all reads\t16110\tembryonic\t13.5 day\tlimb\thttps://encodeproject.org/files/ENCFF703ILV/@@download/ENCFF703ILV.bigWig\n",
      "https://encodeproject.org/experiments/ENCSR347SQR/\tarchived\tbigWig\tsignal of all reads\t16110\tembryonic\t13.5 day\tlimb\thttps://encodeproject.org/files/ENCFF261KUC/@@download/ENCFF261KUC.bigWig\n",
      "https://encodeproject.org/experiments/ENCSR401BSG/\tarchived\tbigWig\tsignal of all reads\t16121\tembryonic\t15.5 day\thindbrain\thttps://encodeproject.org/files/ENCFF270EBW/@@download/ENCFF270EBW.bigWig\n",
      "https://encodeproject.org/experiments/ENCSR401BSG/\tarchived\tbigWig\tsignal of all reads\t16120\tembryonic\t15.5 day\thindbrain\thttps://encodeproject.org/files/ENCFF882VEJ/@@download/ENCFF882VEJ.bigWig\n",
      "https://encodeproject.org/experiments/ENCSR401BSG/\treleased\tbigWig\tsignal of all reads\t16120\tembryonic\t15.5 day\thindbrain\thttps://encodeproject.org/files/ENCFF675CWB/@@download/ENCFF675CWB.bigWig\n",
      "https://encodeproject.org/experiments/ENCSR401BSG/\tarchived\tbigWig\tsignal of all reads\t16121\tembryonic\t15.5 day\thindbrain\thttps://encodeproject.org/files/ENCFF387YMH/@@download/ENCFF387YMH.bigWig\n",
      "https://encodeproject.org/experiments/ENCSR401BSG/\treleased\tbigWig\tsignal of all reads\t16121\tembryonic\t15.5 day\thindbrain\thttps://encodeproject.org/files/ENCFF894AVY/@@download/ENCFF894AVY.bigWig\n",
      "https://encodeproject.org/experiments/ENCSR401BSG/\tarchived\tbigWig\tsignal of all reads\t16120\tembryonic\t15.5 day\thindbrain\thttps://encodeproject.org/files/ENCFF720SYY/@@download/ENCFF720SYY.bigWig\n",
      "https://encodeproject.org/experiments/ENCSR867YNV/\tarchived\tbigWig\tsignal of all reads\t15080\tembryonic\t14.5 day\tliver\thttps://encodeproject.org/files/ENCFF941ALB/@@download/ENCFF941ALB.bigWig\n",
      "https://encodeproject.org/experiments/ENCSR867YNV/\treleased\tbigWig\tsignal of all reads\t15081\tembryonic\t14.5 day\tliver\thttps://encodeproject.org/files/ENCFF742ERR/@@download/ENCFF742ERR.bigWig\n",
      "https://encodeproject.org/experiments/ENCSR867YNV/\treleased\tbigWig\tsignal of all reads\t15080\tembryonic\t14.5 day\tliver\thttps://encodeproject.org/files/ENCFF367LQB/@@download/ENCFF367LQB.bigWig\n",
      "https://encodeproject.org/experiments/ENCSR867YNV/\tarchived\tbigWig\tsignal of all reads\t15081\tembryonic\t14.5 day\tliver\thttps://encodeproject.org/files/ENCFF667HOK/@@download/ENCFF667HOK.bigWig\n",
      "https://encodeproject.org/experiments/ENCSR867YNV/\tarchived\tbigWig\tsignal of all reads\t15080\tembryonic\t14.5 day\tliver\thttps://encodeproject.org/files/ENCFF202PJW/@@download/ENCFF202PJW.bigWig\n",
      "https://encodeproject.org/experiments/ENCSR867YNV/\tarchived\tbigWig\tsignal of all reads\t15081\tembryonic\t14.5 day\tliver\thttps://encodeproject.org/files/ENCFF208CBE/@@download/ENCFF208CBE.bigWig\n",
      "https://encodeproject.org/experiments/ENCSR020DGG/\tarchived\tbigWig\tsignal of all reads\t16147\tembryonic\t16.5 day\theart\thttps://encodeproject.org/files/ENCFF971BPN/@@download/ENCFF971BPN.bigWig\n",
      "https://encodeproject.org/experiments/ENCSR020DGG/\tarchived\tbigWig\tsignal of all reads\t16146\tembryonic\t16.5 day\theart\thttps://encodeproject.org/files/ENCFF191VGP/@@download/ENCFF191VGP.bigWig\n",
      "https://encodeproject.org/experiments/ENCSR020DGG/\tarchived\tbigWig\tsignal of all reads\t16147\tembryonic\t16.5 day\theart\thttps://encodeproject.org/files/ENCFF628TZV/@@download/ENCFF628TZV.bigWig\n",
      "https://encodeproject.org/experiments/ENCSR020DGG/\treleased\tbigWig\tsignal of all reads\t16146\tembryonic\t16.5 day\theart\thttps://encodeproject.org/files/ENCFF541EDK/@@download/ENCFF541EDK.bigWig\n",
      "https://encodeproject.org/experiments/ENCSR020DGG/\tarchived\tbigWig\tsignal of all reads\t16146\tembryonic\t16.5 day\theart\thttps://encodeproject.org/files/ENCFF265YWN/@@download/ENCFF265YWN.bigWig\n",
      "https://encodeproject.org/experiments/ENCSR020DGG/\treleased\tbigWig\tsignal of all reads\t16147\tembryonic\t16.5 day\theart\thttps://encodeproject.org/files/ENCFF851PCD/@@download/ENCFF851PCD.bigWig\n",
      "https://encodeproject.org/experiments/ENCSR848HOX/\treleased\tbigWig\tsignal of all reads\t15013\tembryonic\t11.5 day\tembryonic facial prominence\thttps://encodeproject.org/files/ENCFF526CYZ/@@download/ENCFF526CYZ.bigWig\n",
      "https://encodeproject.org/experiments/ENCSR848HOX/\treleased\tbigWig\tsignal of all reads\t15014\tembryonic\t11.5 day\tembryonic facial prominence\thttps://encodeproject.org/files/ENCFF214ZAX/@@download/ENCFF214ZAX.bigWig\n",
      "https://encodeproject.org/experiments/ENCSR848HOX/\tarchived\tbigWig\tsignal of all reads\t15014\tembryonic\t11.5 day\tembryonic facial prominence\thttps://encodeproject.org/files/ENCFF345HLR/@@download/ENCFF345HLR.bigWig\n",
      "https://encodeproject.org/experiments/ENCSR848HOX/\tarchived\tbigWig\tsignal of all reads\t15013\tembryonic\t11.5 day\tembryonic facial prominence\thttps://encodeproject.org/files/ENCFF626BNN/@@download/ENCFF626BNN.bigWig\n",
      "https://encodeproject.org/experiments/ENCSR848HOX/\tarchived\tbigWig\tsignal of all reads\t15014\tembryonic\t11.5 day\tembryonic facial prominence\thttps://encodeproject.org/files/ENCFF604JUW/@@download/ENCFF604JUW.bigWig\n",
      "https://encodeproject.org/experiments/ENCSR848HOX/\tarchived\tbigWig\tsignal of all reads\t15013\tembryonic\t11.5 day\tembryonic facial prominence\thttps://encodeproject.org/files/ENCFF083AIP/@@download/ENCFF083AIP.bigWig\n",
      "https://encodeproject.org/experiments/ENCSR504GEG/\tarchived\tbigWig\tsignal of all reads\t15095\tembryonic\t14.5 day\tkidney\thttps://encodeproject.org/files/ENCFF378DAA/@@download/ENCFF378DAA.bigWig\n",
      "https://encodeproject.org/experiments/ENCSR504GEG/\treleased\tbigWig\tsignal of all reads\t15094\tembryonic\t14.5 day\tkidney\thttps://encodeproject.org/files/ENCFF581TTE/@@download/ENCFF581TTE.bigWig\n",
      "https://encodeproject.org/experiments/ENCSR504GEG/\tarchived\tbigWig\tsignal of all reads\t15094\tembryonic\t14.5 day\tkidney\thttps://encodeproject.org/files/ENCFF680ZXM/@@download/ENCFF680ZXM.bigWig\n",
      "https://encodeproject.org/experiments/ENCSR504GEG/\tarchived\tbigWig\tsignal of all reads\t15094\tembryonic\t14.5 day\tkidney\thttps://encodeproject.org/files/ENCFF561BZL/@@download/ENCFF561BZL.bigWig\n",
      "https://encodeproject.org/experiments/ENCSR504GEG/\tarchived\tbigWig\tsignal of all reads\t15095\tembryonic\t14.5 day\tkidney\thttps://encodeproject.org/files/ENCFF362SAT/@@download/ENCFF362SAT.bigWig\n",
      "https://encodeproject.org/experiments/ENCSR504GEG/\treleased\tbigWig\tsignal of all reads\t15095\tembryonic\t14.5 day\tkidney\thttps://encodeproject.org/files/ENCFF820XAS/@@download/ENCFF820XAS.bigWig\n",
      "https://encodeproject.org/experiments/ENCSR290RRR/\tarchived\tbigWig\tsignal of all reads\t15088\tembryonic\t14.5 day\tstomach\thttps://encodeproject.org/files/ENCFF945HIX/@@download/ENCFF945HIX.bigWig\n",
      "https://encodeproject.org/experiments/ENCSR290RRR/\tarchived\tbigWig\tsignal of all reads\t15088\tembryonic\t14.5 day\tstomach\thttps://encodeproject.org/files/ENCFF056YRL/@@download/ENCFF056YRL.bigWig\n",
      "https://encodeproject.org/experiments/ENCSR290RRR/\treleased\tbigWig\tsignal of all reads\t15088\tembryonic\t14.5 day\tstomach\thttps://encodeproject.org/files/ENCFF932HNU/@@download/ENCFF932HNU.bigWig\n",
      "https://encodeproject.org/experiments/ENCSR290RRR/\treleased\tbigWig\tsignal of all reads\t15089\tembryonic\t14.5 day\tstomach\thttps://encodeproject.org/files/ENCFF981VWN/@@download/ENCFF981VWN.bigWig\n",
      "https://encodeproject.org/experiments/ENCSR290RRR/\tarchived\tbigWig\tsignal of all reads\t15089\tembryonic\t14.5 day\tstomach\thttps://encodeproject.org/files/ENCFF860BDF/@@download/ENCFF860BDF.bigWig\n",
      "https://encodeproject.org/experiments/ENCSR290RRR/\tarchived\tbigWig\tsignal of all reads\t15089\tembryonic\t14.5 day\tstomach\thttps://encodeproject.org/files/ENCFF361DSL/@@download/ENCFF361DSL.bigWig\n",
      "https://encodeproject.org/experiments/ENCSR667TOX/\tarchived\tbigWig\tsignal of all reads\t15482\tpostnatal\t0 day\tneural tube\thttps://encodeproject.org/files/ENCFF932LOE/@@download/ENCFF932LOE.bigWig\n",
      "https://encodeproject.org/experiments/ENCSR667TOX/\treleased\tbigWig\tsignal of all reads\t15481\tpostnatal\t0 day\tneural tube\thttps://encodeproject.org/files/ENCFF829JAE/@@download/ENCFF829JAE.bigWig\n",
      "https://encodeproject.org/experiments/ENCSR667TOX/\tarchived\tbigWig\tsignal of all reads\t15481\tpostnatal\t0 day\tneural tube\thttps://encodeproject.org/files/ENCFF933OFY/@@download/ENCFF933OFY.bigWig\n",
      "https://encodeproject.org/experiments/ENCSR667TOX/\tarchived\tbigWig\tsignal of all reads\t15482\tpostnatal\t0 day\tneural tube\thttps://encodeproject.org/files/ENCFF886TNK/@@download/ENCFF886TNK.bigWig\n",
      "https://encodeproject.org/experiments/ENCSR667TOX/\tarchived\tbigWig\tsignal of all reads\t15481\tpostnatal\t0 day\tneural tube\thttps://encodeproject.org/files/ENCFF530JOF/@@download/ENCFF530JOF.bigWig\n",
      "https://encodeproject.org/experiments/ENCSR667TOX/\treleased\tbigWig\tsignal of all reads\t15482\tpostnatal\t0 day\tneural tube\thttps://encodeproject.org/files/ENCFF212HRR/@@download/ENCFF212HRR.bigWig\n",
      "https://encodeproject.org/experiments/ENCSR150CUE/\tarchived\tbigWig\tsignal of all reads\t16928\tembryonic\t12.5 day\theart\thttps://encodeproject.org/files/ENCFF413NRN/@@download/ENCFF413NRN.bigWig\n",
      "https://encodeproject.org/experiments/ENCSR150CUE/\tarchived\tbigWig\tsignal of all reads\t16928\tembryonic\t12.5 day\theart\thttps://encodeproject.org/files/ENCFF050RYZ/@@download/ENCFF050RYZ.bigWig\n",
      "https://encodeproject.org/experiments/ENCSR150CUE/\tarchived\tbigWig\tsignal of all reads\t16929\tembryonic\t12.5 day\theart\thttps://encodeproject.org/files/ENCFF294WXI/@@download/ENCFF294WXI.bigWig\n",
      "https://encodeproject.org/experiments/ENCSR150CUE/\tarchived\tbigWig\tsignal of all reads\t16929\tembryonic\t12.5 day\theart\thttps://encodeproject.org/files/ENCFF417OVA/@@download/ENCFF417OVA.bigWig\n",
      "https://encodeproject.org/experiments/ENCSR752RGN/\tarchived\tbigWig\tsignal of all reads\t16116\tembryonic\t15.5 day\tforebrain\thttps://encodeproject.org/files/ENCFF344ACI/@@download/ENCFF344ACI.bigWig\n",
      "https://encodeproject.org/experiments/ENCSR752RGN/\tarchived\tbigWig\tsignal of all reads\t16117\tembryonic\t15.5 day\tforebrain\thttps://encodeproject.org/files/ENCFF219SUS/@@download/ENCFF219SUS.bigWig\n",
      "https://encodeproject.org/experiments/ENCSR752RGN/\treleased\tbigWig\tsignal of all reads\t16116\tembryonic\t15.5 day\tforebrain\thttps://encodeproject.org/files/ENCFF470WPH/@@download/ENCFF470WPH.bigWig\n",
      "https://encodeproject.org/experiments/ENCSR752RGN/\tarchived\tbigWig\tsignal of all reads\t16117\tembryonic\t15.5 day\tforebrain\thttps://encodeproject.org/files/ENCFF764IBK/@@download/ENCFF764IBK.bigWig\n",
      "https://encodeproject.org/experiments/ENCSR752RGN/\tarchived\tbigWig\tsignal of all reads\t16116\tembryonic\t15.5 day\tforebrain\thttps://encodeproject.org/files/ENCFF177TAK/@@download/ENCFF177TAK.bigWig\n",
      "https://encodeproject.org/experiments/ENCSR752RGN/\treleased\tbigWig\tsignal of all reads\t16117\tembryonic\t15.5 day\tforebrain\thttps://encodeproject.org/files/ENCFF276FYC/@@download/ENCFF276FYC.bigWig\n",
      "https://encodeproject.org/experiments/ENCSR096STK/\tarchived\tbigWig\tsignal of all reads\t15489\tpostnatal\t0 day\tliver\thttps://encodeproject.org/files/ENCFF919MGB/@@download/ENCFF919MGB.bigWig\n",
      "https://encodeproject.org/experiments/ENCSR096STK/\tarchived\tbigWig\tsignal of all reads\t15490\tpostnatal\t0 day\tliver\thttps://encodeproject.org/files/ENCFF348ZQA/@@download/ENCFF348ZQA.bigWig\n",
      "https://encodeproject.org/experiments/ENCSR096STK/\treleased\tbigWig\tsignal of all reads\t15490\tpostnatal\t0 day\tliver\thttps://encodeproject.org/files/ENCFF606FPZ/@@download/ENCFF606FPZ.bigWig\n",
      "https://encodeproject.org/experiments/ENCSR096STK/\tarchived\tbigWig\tsignal of all reads\t15489\tpostnatal\t0 day\tliver\thttps://encodeproject.org/files/ENCFF169VSO/@@download/ENCFF169VSO.bigWig\n",
      "https://encodeproject.org/experiments/ENCSR096STK/\treleased\tbigWig\tsignal of all reads\t15489\tpostnatal\t0 day\tliver\thttps://encodeproject.org/files/ENCFF906LGZ/@@download/ENCFF906LGZ.bigWig\n",
      "https://encodeproject.org/experiments/ENCSR096STK/\tarchived\tbigWig\tsignal of all reads\t15490\tpostnatal\t0 day\tliver\thttps://encodeproject.org/files/ENCFF797AGF/@@download/ENCFF797AGF.bigWig\n",
      "https://encodeproject.org/experiments/ENCSR928OXI/\treleased\tbigWig\tsignal of all reads\t15093\tembryonic\t14.5 day\tneural tube\thttps://encodeproject.org/files/ENCFF488KSE/@@download/ENCFF488KSE.bigWig\n",
      "https://encodeproject.org/experiments/ENCSR928OXI/\tarchived\tbigWig\tsignal of all reads\t15092\tembryonic\t14.5 day\tneural tube\thttps://encodeproject.org/files/ENCFF677CXG/@@download/ENCFF677CXG.bigWig\n",
      "https://encodeproject.org/experiments/ENCSR928OXI/\treleased\tbigWig\tsignal of all reads\t15092\tembryonic\t14.5 day\tneural tube\thttps://encodeproject.org/files/ENCFF243KEC/@@download/ENCFF243KEC.bigWig\n",
      "https://encodeproject.org/experiments/ENCSR928OXI/\tarchived\tbigWig\tsignal of all reads\t15093\tembryonic\t14.5 day\tneural tube\thttps://encodeproject.org/files/ENCFF918IXB/@@download/ENCFF918IXB.bigWig\n",
      "https://encodeproject.org/experiments/ENCSR928OXI/\tarchived\tbigWig\tsignal of all reads\t15092\tembryonic\t14.5 day\tneural tube\thttps://encodeproject.org/files/ENCFF650XSH/@@download/ENCFF650XSH.bigWig\n",
      "https://encodeproject.org/experiments/ENCSR928OXI/\tarchived\tbigWig\tsignal of all reads\t15093\tembryonic\t14.5 day\tneural tube\thttps://encodeproject.org/files/ENCFF938QWK/@@download/ENCFF938QWK.bigWig\n",
      "https://encodeproject.org/experiments/ENCSR946HWC/\tarchived\tbigWig\tsignal of all reads\t15491\tpostnatal\t0 day\tskeletal muscle tissue\thttps://encodeproject.org/files/ENCFF398WWQ/@@download/ENCFF398WWQ.bigWig\n",
      "https://encodeproject.org/experiments/ENCSR946HWC/\treleased\tbigWig\tsignal of all reads\t15491\tpostnatal\t0 day\tskeletal muscle tissue\thttps://encodeproject.org/files/ENCFF061QCB/@@download/ENCFF061QCB.bigWig\n",
      "https://encodeproject.org/experiments/ENCSR946HWC/\tarchived\tbigWig\tsignal of all reads\t15492\tpostnatal\t0 day\tskeletal muscle tissue\thttps://encodeproject.org/files/ENCFF269MPP/@@download/ENCFF269MPP.bigWig\n",
      "https://encodeproject.org/experiments/ENCSR946HWC/\tarchived\tbigWig\tsignal of all reads\t15491\tpostnatal\t0 day\tskeletal muscle tissue\thttps://encodeproject.org/files/ENCFF649CKE/@@download/ENCFF649CKE.bigWig\n",
      "https://encodeproject.org/experiments/ENCSR946HWC/\treleased\tbigWig\tsignal of all reads\t15492\tpostnatal\t0 day\tskeletal muscle tissue\thttps://encodeproject.org/files/ENCFF310SIF/@@download/ENCFF310SIF.bigWig\n",
      "https://encodeproject.org/experiments/ENCSR946HWC/\tarchived\tbigWig\tsignal of all reads\t15492\tpostnatal\t0 day\tskeletal muscle tissue\thttps://encodeproject.org/files/ENCFF620ZZZ/@@download/ENCFF620ZZZ.bigWig\n",
      "https://encodeproject.org/experiments/ENCSR559TRB/\tarchived\tbigWig\tsignal of all reads\t15077\tembryonic\t14.5 day\thindbrain\thttps://encodeproject.org/files/ENCFF247GQM/@@download/ENCFF247GQM.bigWig\n",
      "https://encodeproject.org/experiments/ENCSR559TRB/\tarchived\tbigWig\tsignal of all reads\t15076\tembryonic\t14.5 day\thindbrain\thttps://encodeproject.org/files/ENCFF703DJL/@@download/ENCFF703DJL.bigWig\n",
      "https://encodeproject.org/experiments/ENCSR559TRB/\treleased\tbigWig\tsignal of all reads\t15077\tembryonic\t14.5 day\thindbrain\thttps://encodeproject.org/files/ENCFF281YEE/@@download/ENCFF281YEE.bigWig\n",
      "https://encodeproject.org/experiments/ENCSR559TRB/\treleased\tbigWig\tsignal of all reads\t15076\tembryonic\t14.5 day\thindbrain\thttps://encodeproject.org/files/ENCFF249GBN/@@download/ENCFF249GBN.bigWig\n",
      "https://encodeproject.org/experiments/ENCSR559TRB/\tarchived\tbigWig\tsignal of all reads\t15076\tembryonic\t14.5 day\thindbrain\thttps://encodeproject.org/files/ENCFF349OWQ/@@download/ENCFF349OWQ.bigWig\n",
      "https://encodeproject.org/experiments/ENCSR559TRB/\tarchived\tbigWig\tsignal of all reads\t15077\tembryonic\t14.5 day\thindbrain\thttps://encodeproject.org/files/ENCFF112HIZ/@@download/ENCFF112HIZ.bigWig\n",
      "https://encodeproject.org/experiments/ENCSR597UZW/\tarchived\tbigWig\tsignal of all reads\t16123\tembryonic\t15.5 day\theart\thttps://encodeproject.org/files/ENCFF380CQC/@@download/ENCFF380CQC.bigWig\n",
      "https://encodeproject.org/experiments/ENCSR597UZW/\tarchived\tbigWig\tsignal of all reads\t16123\tembryonic\t15.5 day\theart\thttps://encodeproject.org/files/ENCFF294BUN/@@download/ENCFF294BUN.bigWig\n",
      "https://encodeproject.org/experiments/ENCSR597UZW/\tarchived\tbigWig\tsignal of all reads\t16122\tembryonic\t15.5 day\theart\thttps://encodeproject.org/files/ENCFF128MAN/@@download/ENCFF128MAN.bigWig\n",
      "https://encodeproject.org/experiments/ENCSR597UZW/\treleased\tbigWig\tsignal of all reads\t16122\tembryonic\t15.5 day\theart\thttps://encodeproject.org/files/ENCFF027WCY/@@download/ENCFF027WCY.bigWig\n",
      "https://encodeproject.org/experiments/ENCSR597UZW/\treleased\tbigWig\tsignal of all reads\t16123\tembryonic\t15.5 day\theart\thttps://encodeproject.org/files/ENCFF836AFL/@@download/ENCFF836AFL.bigWig\n",
      "https://encodeproject.org/experiments/ENCSR597UZW/\tarchived\tbigWig\tsignal of all reads\t16122\tembryonic\t15.5 day\theart\thttps://encodeproject.org/files/ENCFF012GPT/@@download/ENCFF012GPT.bigWig\n",
      "https://encodeproject.org/experiments/ENCSR367ZPZ/\tarchived\tbigWig\tsignal of all reads\t16142\tembryonic\t16.5 day\tmidbrain\thttps://encodeproject.org/files/ENCFF849KMU/@@download/ENCFF849KMU.bigWig\n",
      "https://encodeproject.org/experiments/ENCSR367ZPZ/\tarchived\tbigWig\tsignal of all reads\t16143\tembryonic\t16.5 day\tmidbrain\thttps://encodeproject.org/files/ENCFF904ILG/@@download/ENCFF904ILG.bigWig\n",
      "https://encodeproject.org/experiments/ENCSR367ZPZ/\treleased\tbigWig\tsignal of all reads\t16142\tembryonic\t16.5 day\tmidbrain\thttps://encodeproject.org/files/ENCFF274UCF/@@download/ENCFF274UCF.bigWig\n",
      "https://encodeproject.org/experiments/ENCSR367ZPZ/\tarchived\tbigWig\tsignal of all reads\t16142\tembryonic\t16.5 day\tmidbrain\thttps://encodeproject.org/files/ENCFF366OYS/@@download/ENCFF366OYS.bigWig\n",
      "https://encodeproject.org/experiments/ENCSR367ZPZ/\treleased\tbigWig\tsignal of all reads\t16143\tembryonic\t16.5 day\tmidbrain\thttps://encodeproject.org/files/ENCFF861MLR/@@download/ENCFF861MLR.bigWig\n",
      "https://encodeproject.org/experiments/ENCSR367ZPZ/\tarchived\tbigWig\tsignal of all reads\t16143\tembryonic\t16.5 day\tmidbrain\thttps://encodeproject.org/files/ENCFF288APQ/@@download/ENCFF288APQ.bigWig\n",
      "https://encodeproject.org/experiments/ENCSR185LWM/\treleased\tbigWig\tsignal of all reads\t15072\tembryonic\t14.5 day\tforebrain\thttps://encodeproject.org/files/ENCFF462BMN/@@download/ENCFF462BMN.bigWig\n",
      "https://encodeproject.org/experiments/ENCSR185LWM/\tarchived\tbigWig\tsignal of all reads\t15073\tembryonic\t14.5 day\tforebrain\thttps://encodeproject.org/files/ENCFF434RJX/@@download/ENCFF434RJX.bigWig\n",
      "https://encodeproject.org/experiments/ENCSR185LWM/\tarchived\tbigWig\tsignal of all reads\t15073\tembryonic\t14.5 day\tforebrain\thttps://encodeproject.org/files/ENCFF825FBL/@@download/ENCFF825FBL.bigWig\n",
      "https://encodeproject.org/experiments/ENCSR185LWM/\tarchived\tbigWig\tsignal of all reads\t15072\tembryonic\t14.5 day\tforebrain\thttps://encodeproject.org/files/ENCFF464KOU/@@download/ENCFF464KOU.bigWig\n",
      "https://encodeproject.org/experiments/ENCSR185LWM/\treleased\tbigWig\tsignal of all reads\t15073\tembryonic\t14.5 day\tforebrain\thttps://encodeproject.org/files/ENCFF422NRY/@@download/ENCFF422NRY.bigWig\n",
      "https://encodeproject.org/experiments/ENCSR185LWM/\tarchived\tbigWig\tsignal of all reads\t15072\tembryonic\t14.5 day\tforebrain\thttps://encodeproject.org/files/ENCFF374VIQ/@@download/ENCFF374VIQ.bigWig\n",
      "https://encodeproject.org/experiments/ENCSR851HEC/\tarchived\tbigWig\tsignal of all reads\t16933\tembryonic\t12.5 day\tembryonic facial prominence\thttps://encodeproject.org/files/ENCFF816RIV/@@download/ENCFF816RIV.bigWig\n",
      "https://encodeproject.org/experiments/ENCSR851HEC/\tarchived\tbigWig\tsignal of all reads\t16932\tembryonic\t12.5 day\tembryonic facial prominence\thttps://encodeproject.org/files/ENCFF103YMA/@@download/ENCFF103YMA.bigWig\n",
      "https://encodeproject.org/experiments/ENCSR851HEC/\tarchived\tbigWig\tsignal of all reads\t16932\tembryonic\t12.5 day\tembryonic facial prominence\thttps://encodeproject.org/files/ENCFF709OCX/@@download/ENCFF709OCX.bigWig\n",
      "https://encodeproject.org/experiments/ENCSR851HEC/\tarchived\tbigWig\tsignal of all reads\t16933\tembryonic\t12.5 day\tembryonic facial prominence\thttps://encodeproject.org/files/ENCFF095OJR/@@download/ENCFF095OJR.bigWig\n",
      "https://encodeproject.org/experiments/ENCSR823VEE/\tarchived\tbigWig\tsignal of all reads\t15078\tembryonic\t14.5 day\tembryonic facial prominence\thttps://encodeproject.org/files/ENCFF392RSV/@@download/ENCFF392RSV.bigWig\n",
      "https://encodeproject.org/experiments/ENCSR823VEE/\treleased\tbigWig\tsignal of all reads\t15078\tembryonic\t14.5 day\tembryonic facial prominence\thttps://encodeproject.org/files/ENCFF532FIB/@@download/ENCFF532FIB.bigWig\n",
      "https://encodeproject.org/experiments/ENCSR823VEE/\tarchived\tbigWig\tsignal of all reads\t15078\tembryonic\t14.5 day\tembryonic facial prominence\thttps://encodeproject.org/files/ENCFF728DWW/@@download/ENCFF728DWW.bigWig\n",
      "https://encodeproject.org/experiments/ENCSR823VEE/\tarchived\tbigWig\tsignal of all reads\t15079\tembryonic\t14.5 day\tembryonic facial prominence\thttps://encodeproject.org/files/ENCFF234SZS/@@download/ENCFF234SZS.bigWig\n",
      "https://encodeproject.org/experiments/ENCSR823VEE/\tarchived\tbigWig\tsignal of all reads\t15079\tembryonic\t14.5 day\tembryonic facial prominence\thttps://encodeproject.org/files/ENCFF916YPD/@@download/ENCFF916YPD.bigWig\n",
      "https://encodeproject.org/experiments/ENCSR823VEE/\treleased\tbigWig\tsignal of all reads\t15079\tembryonic\t14.5 day\tembryonic facial prominence\thttps://encodeproject.org/files/ENCFF426MIB/@@download/ENCFF426MIB.bigWig\n",
      "https://encodeproject.org/experiments/ENCSR526SEX/\tarchived\tbigWig\tsignal of all reads\t15485\tpostnatal\t0 day\theart\thttps://encodeproject.org/files/ENCFF539VJK/@@download/ENCFF539VJK.bigWig\n",
      "https://encodeproject.org/experiments/ENCSR526SEX/\treleased\tbigWig\tsignal of all reads\t15486\tpostnatal\t0 day\theart\thttps://encodeproject.org/files/ENCFF688VYL/@@download/ENCFF688VYL.bigWig\n",
      "https://encodeproject.org/experiments/ENCSR526SEX/\tarchived\tbigWig\tsignal of all reads\t15486\tpostnatal\t0 day\theart\thttps://encodeproject.org/files/ENCFF183YMC/@@download/ENCFF183YMC.bigWig\n",
      "https://encodeproject.org/experiments/ENCSR526SEX/\tarchived\tbigWig\tsignal of all reads\t15485\tpostnatal\t0 day\theart\thttps://encodeproject.org/files/ENCFF546LBP/@@download/ENCFF546LBP.bigWig\n",
      "https://encodeproject.org/experiments/ENCSR526SEX/\tarchived\tbigWig\tsignal of all reads\t15486\tpostnatal\t0 day\theart\thttps://encodeproject.org/files/ENCFF347YVM/@@download/ENCFF347YVM.bigWig\n",
      "https://encodeproject.org/experiments/ENCSR526SEX/\treleased\tbigWig\tsignal of all reads\t15485\tpostnatal\t0 day\theart\thttps://encodeproject.org/files/ENCFF985NOP/@@download/ENCFF985NOP.bigWig\n",
      "https://encodeproject.org/experiments/ENCSR370SFB/\tarchived\tbigWig\tsignal of all reads\t16128\tembryonic\t15.5 day\tintestine\thttps://encodeproject.org/files/ENCFF272FVL/@@download/ENCFF272FVL.bigWig\n",
      "https://encodeproject.org/experiments/ENCSR370SFB/\treleased\tbigWig\tsignal of all reads\t16128\tembryonic\t15.5 day\tintestine\thttps://encodeproject.org/files/ENCFF498LXH/@@download/ENCFF498LXH.bigWig\n",
      "https://encodeproject.org/experiments/ENCSR370SFB/\tarchived\tbigWig\tsignal of all reads\t16128\tembryonic\t15.5 day\tintestine\thttps://encodeproject.org/files/ENCFF645THX/@@download/ENCFF645THX.bigWig\n",
      "https://encodeproject.org/experiments/ENCSR370SFB/\tarchived\tbigWig\tsignal of all reads\t16129\tembryonic\t15.5 day\tintestine\thttps://encodeproject.org/files/ENCFF813TES/@@download/ENCFF813TES.bigWig\n",
      "https://encodeproject.org/experiments/ENCSR370SFB/\treleased\tbigWig\tsignal of all reads\t16129\tembryonic\t15.5 day\tintestine\thttps://encodeproject.org/files/ENCFF814JKL/@@download/ENCFF814JKL.bigWig\n",
      "https://encodeproject.org/experiments/ENCSR370SFB/\tarchived\tbigWig\tsignal of all reads\t16129\tembryonic\t15.5 day\tintestine\thttps://encodeproject.org/files/ENCFF272XVL/@@download/ENCFF272XVL.bigWig\n",
      "https://encodeproject.org/experiments/ENCSR739PEB/\tarchived\tbigWig\tsignal of all reads\t15504\tpostnatal\t0 day\tadrenal gland\thttps://encodeproject.org/files/ENCFF577EVA/@@download/ENCFF577EVA.bigWig\n",
      "https://encodeproject.org/experiments/ENCSR739PEB/\tarchived\tbigWig\tsignal of all reads\t15503\tpostnatal\t0 day\tadrenal gland\thttps://encodeproject.org/files/ENCFF446ZGG/@@download/ENCFF446ZGG.bigWig\n",
      "https://encodeproject.org/experiments/ENCSR739PEB/\tarchived\tbigWig\tsignal of all reads\t15503\tpostnatal\t0 day\tadrenal gland\thttps://encodeproject.org/files/ENCFF021HTQ/@@download/ENCFF021HTQ.bigWig\n",
      "https://encodeproject.org/experiments/ENCSR739PEB/\treleased\tbigWig\tsignal of all reads\t15504\tpostnatal\t0 day\tadrenal gland\thttps://encodeproject.org/files/ENCFF584AIQ/@@download/ENCFF584AIQ.bigWig\n",
      "https://encodeproject.org/experiments/ENCSR739PEB/\tarchived\tbigWig\tsignal of all reads\t15504\tpostnatal\t0 day\tadrenal gland\thttps://encodeproject.org/files/ENCFF002RDI/@@download/ENCFF002RDI.bigWig\n",
      "https://encodeproject.org/experiments/ENCSR739PEB/\treleased\tbigWig\tsignal of all reads\t15503\tpostnatal\t0 day\tadrenal gland\thttps://encodeproject.org/files/ENCFF945EMS/@@download/ENCFF945EMS.bigWig\n",
      "https://encodeproject.org/experiments/ENCSR647QBV/\tarchived\tbigWig\tsignal of all reads\t16922\tembryonic\t12.5 day\tforebrain\thttps://encodeproject.org/files/ENCFF837MMF/@@download/ENCFF837MMF.bigWig\n",
      "https://encodeproject.org/experiments/ENCSR647QBV/\tarchived\tbigWig\tsignal of all reads\t16923\tembryonic\t12.5 day\tforebrain\thttps://encodeproject.org/files/ENCFF990PWB/@@download/ENCFF990PWB.bigWig\n",
      "https://encodeproject.org/experiments/ENCSR647QBV/\tarchived\tbigWig\tsignal of all reads\t16923\tembryonic\t12.5 day\tforebrain\thttps://encodeproject.org/files/ENCFF022KVU/@@download/ENCFF022KVU.bigWig\n",
      "https://encodeproject.org/experiments/ENCSR647QBV/\tarchived\tbigWig\tsignal of all reads\t16922\tembryonic\t12.5 day\tforebrain\thttps://encodeproject.org/files/ENCFF056JKW/@@download/ENCFF056JKW.bigWig\n",
      "https://encodeproject.org/experiments/ENCSR541XZK/\treleased\tbigWig\tsignal of all reads\t15020\tembryonic\t11.5 day\tlimb\thttps://encodeproject.org/files/ENCFF734PQG/@@download/ENCFF734PQG.bigWig\n",
      "https://encodeproject.org/experiments/ENCSR541XZK/\tarchived\tbigWig\tsignal of all reads\t15020\tembryonic\t11.5 day\tlimb\thttps://encodeproject.org/files/ENCFF332JUZ/@@download/ENCFF332JUZ.bigWig\n",
      "https://encodeproject.org/experiments/ENCSR541XZK/\tarchived\tbigWig\tsignal of all reads\t15019\tembryonic\t11.5 day\tlimb\thttps://encodeproject.org/files/ENCFF350PHA/@@download/ENCFF350PHA.bigWig\n",
      "https://encodeproject.org/experiments/ENCSR541XZK/\tarchived\tbigWig\tsignal of all reads\t15020\tembryonic\t11.5 day\tlimb\thttps://encodeproject.org/files/ENCFF385UJP/@@download/ENCFF385UJP.bigWig\n",
      "https://encodeproject.org/experiments/ENCSR541XZK/\tarchived\tbigWig\tsignal of all reads\t15019\tembryonic\t11.5 day\tlimb\thttps://encodeproject.org/files/ENCFF565RFY/@@download/ENCFF565RFY.bigWig\n",
      "https://encodeproject.org/experiments/ENCSR541XZK/\treleased\tbigWig\tsignal of all reads\t15019\tembryonic\t11.5 day\tlimb\thttps://encodeproject.org/files/ENCFF016PFH/@@download/ENCFF016PFH.bigWig\n",
      "https://encodeproject.org/experiments/ENCSR538WYL/\tarchived\tbigWig\tsignal of all reads\t16106\tembryonic\t13.5 day\tembryonic facial prominence\thttps://encodeproject.org/files/ENCFF197HEH/@@download/ENCFF197HEH.bigWig\n",
      "https://encodeproject.org/experiments/ENCSR538WYL/\tarchived\tbigWig\tsignal of all reads\t16107\tembryonic\t13.5 day\tembryonic facial prominence\thttps://encodeproject.org/files/ENCFF356WLH/@@download/ENCFF356WLH.bigWig\n",
      "https://encodeproject.org/experiments/ENCSR538WYL/\tarchived\tbigWig\tsignal of all reads\t16106\tembryonic\t13.5 day\tembryonic facial prominence\thttps://encodeproject.org/files/ENCFF836JSN/@@download/ENCFF836JSN.bigWig\n",
      "https://encodeproject.org/experiments/ENCSR538WYL/\tarchived\tbigWig\tsignal of all reads\t16107\tembryonic\t13.5 day\tembryonic facial prominence\thttps://encodeproject.org/files/ENCFF769QZO/@@download/ENCFF769QZO.bigWig\n",
      "https://encodeproject.org/experiments/ENCSR538WYL/\treleased\tbigWig\tsignal of all reads\t16106\tembryonic\t13.5 day\tembryonic facial prominence\thttps://encodeproject.org/files/ENCFF946LEK/@@download/ENCFF946LEK.bigWig\n",
      "https://encodeproject.org/experiments/ENCSR538WYL/\treleased\tbigWig\tsignal of all reads\t16107\tembryonic\t13.5 day\tembryonic facial prominence\thttps://encodeproject.org/files/ENCFF127RJY/@@download/ENCFF127RJY.bigWig\n",
      "https://encodeproject.org/experiments/ENCSR304RDL/\treleased\tbigWig\tsignal of all reads\t17289\tembryonic\t10.5 day\tforebrain\thttps://encodeproject.org/files/ENCFF235EJI/@@download/ENCFF235EJI.bigWig\n",
      "https://encodeproject.org/experiments/ENCSR304RDL/\treleased\tbigWig\tsignal of all reads\t17288\tembryonic\t10.5 day\tforebrain\thttps://encodeproject.org/files/ENCFF983YDQ/@@download/ENCFF983YDQ.bigWig\n",
      "https://encodeproject.org/experiments/ENCSR307BCA/\tarchived\tbigWig\tsignal of all reads\t15010\tembryonic\t11.5 day\tmidbrain\thttps://encodeproject.org/files/ENCFF811IVR/@@download/ENCFF811IVR.bigWig\n",
      "https://encodeproject.org/experiments/ENCSR307BCA/\tarchived\tbigWig\tsignal of all reads\t15009\tembryonic\t11.5 day\tmidbrain\thttps://encodeproject.org/files/ENCFF585KIG/@@download/ENCFF585KIG.bigWig\n",
      "https://encodeproject.org/experiments/ENCSR307BCA/\tarchived\tbigWig\tsignal of all reads\t15010\tembryonic\t11.5 day\tmidbrain\thttps://encodeproject.org/files/ENCFF124JND/@@download/ENCFF124JND.bigWig\n",
      "https://encodeproject.org/experiments/ENCSR307BCA/\treleased\tbigWig\tsignal of all reads\t15010\tembryonic\t11.5 day\tmidbrain\thttps://encodeproject.org/files/ENCFF962PEW/@@download/ENCFF962PEW.bigWig\n",
      "https://encodeproject.org/experiments/ENCSR307BCA/\treleased\tbigWig\tsignal of all reads\t15009\tembryonic\t11.5 day\tmidbrain\thttps://encodeproject.org/files/ENCFF653RXL/@@download/ENCFF653RXL.bigWig\n",
      "https://encodeproject.org/experiments/ENCSR307BCA/\tarchived\tbigWig\tsignal of all reads\t15009\tembryonic\t11.5 day\tmidbrain\thttps://encodeproject.org/files/ENCFF957HRT/@@download/ENCFF957HRT.bigWig\n",
      "https://encodeproject.org/experiments/ENCSR727FHP/\tarchived\tbigWig\tsignal of all reads\t15086\tembryonic\t14.5 day\theart\thttps://encodeproject.org/files/ENCFF522LBT/@@download/ENCFF522LBT.bigWig\n",
      "https://encodeproject.org/experiments/ENCSR727FHP/\tarchived\tbigWig\tsignal of all reads\t15086\tembryonic\t14.5 day\theart\thttps://encodeproject.org/files/ENCFF510NJN/@@download/ENCFF510NJN.bigWig\n",
      "https://encodeproject.org/experiments/ENCSR727FHP/\tarchived\tbigWig\tsignal of all reads\t15087\tembryonic\t14.5 day\theart\thttps://encodeproject.org/files/ENCFF970EAP/@@download/ENCFF970EAP.bigWig\n",
      "https://encodeproject.org/experiments/ENCSR727FHP/\treleased\tbigWig\tsignal of all reads\t15086\tembryonic\t14.5 day\theart\thttps://encodeproject.org/files/ENCFF196SUL/@@download/ENCFF196SUL.bigWig\n",
      "https://encodeproject.org/experiments/ENCSR727FHP/\treleased\tbigWig\tsignal of all reads\t15087\tembryonic\t14.5 day\theart\thttps://encodeproject.org/files/ENCFF080KZO/@@download/ENCFF080KZO.bigWig\n",
      "https://encodeproject.org/experiments/ENCSR727FHP/\tarchived\tbigWig\tsignal of all reads\t15087\tembryonic\t14.5 day\theart\thttps://encodeproject.org/files/ENCFF919TMB/@@download/ENCFF919TMB.bigWig\n",
      "https://encodeproject.org/experiments/ENCSR004XCU/\tarchived\tbigWig\tsignal of all reads\t16138\tembryonic\t15.5 day\tneural tube\thttps://encodeproject.org/files/ENCFF356EQG/@@download/ENCFF356EQG.bigWig\n",
      "https://encodeproject.org/experiments/ENCSR004XCU/\tarchived\tbigWig\tsignal of all reads\t16138\tembryonic\t15.5 day\tneural tube\thttps://encodeproject.org/files/ENCFF556OTF/@@download/ENCFF556OTF.bigWig\n",
      "https://encodeproject.org/experiments/ENCSR004XCU/\treleased\tbigWig\tsignal of all reads\t16138\tembryonic\t15.5 day\tneural tube\thttps://encodeproject.org/files/ENCFF346PRA/@@download/ENCFF346PRA.bigWig\n",
      "https://encodeproject.org/experiments/ENCSR004XCU/\treleased\tbigWig\tsignal of all reads\t16139\tembryonic\t15.5 day\tneural tube\thttps://encodeproject.org/files/ENCFF301NKF/@@download/ENCFF301NKF.bigWig\n",
      "https://encodeproject.org/experiments/ENCSR004XCU/\tarchived\tbigWig\tsignal of all reads\t16139\tembryonic\t15.5 day\tneural tube\thttps://encodeproject.org/files/ENCFF231BWK/@@download/ENCFF231BWK.bigWig\n",
      "https://encodeproject.org/experiments/ENCSR004XCU/\tarchived\tbigWig\tsignal of all reads\t16139\tembryonic\t15.5 day\tneural tube\thttps://encodeproject.org/files/ENCFF806PWU/@@download/ENCFF806PWU.bigWig\n",
      "https://encodeproject.org/experiments/ENCSR908JWT/\tarchived\tbigWig\tsignal of all reads\t16925\tembryonic\t12.5 day\tmidbrain\thttps://encodeproject.org/files/ENCFF710XLS/@@download/ENCFF710XLS.bigWig\n",
      "https://encodeproject.org/experiments/ENCSR908JWT/\tarchived\tbigWig\tsignal of all reads\t16924\tembryonic\t12.5 day\tmidbrain\thttps://encodeproject.org/files/ENCFF136ISQ/@@download/ENCFF136ISQ.bigWig\n",
      "https://encodeproject.org/experiments/ENCSR908JWT/\tarchived\tbigWig\tsignal of all reads\t16924\tembryonic\t12.5 day\tmidbrain\thttps://encodeproject.org/files/ENCFF229FLN/@@download/ENCFF229FLN.bigWig\n",
      "https://encodeproject.org/experiments/ENCSR908JWT/\tarchived\tbigWig\tsignal of all reads\t16925\tembryonic\t12.5 day\tmidbrain\thttps://encodeproject.org/files/ENCFF505DMT/@@download/ENCFF505DMT.bigWig\n",
      "https://encodeproject.org/experiments/ENCSR343YLB/\tarchived\tbigWig\tsignal of all reads\t15074\tembryonic\t14.5 day\tmidbrain\thttps://encodeproject.org/files/ENCFF008DYM/@@download/ENCFF008DYM.bigWig\n",
      "https://encodeproject.org/experiments/ENCSR343YLB/\treleased\tbigWig\tsignal of all reads\t15075\tembryonic\t14.5 day\tmidbrain\thttps://encodeproject.org/files/ENCFF527KUP/@@download/ENCFF527KUP.bigWig\n",
      "https://encodeproject.org/experiments/ENCSR343YLB/\tarchived\tbigWig\tsignal of all reads\t15075\tembryonic\t14.5 day\tmidbrain\thttps://encodeproject.org/files/ENCFF605YLH/@@download/ENCFF605YLH.bigWig\n",
      "https://encodeproject.org/experiments/ENCSR343YLB/\tarchived\tbigWig\tsignal of all reads\t15075\tembryonic\t14.5 day\tmidbrain\thttps://encodeproject.org/files/ENCFF385ZME/@@download/ENCFF385ZME.bigWig\n",
      "https://encodeproject.org/experiments/ENCSR343YLB/\treleased\tbigWig\tsignal of all reads\t15074\tembryonic\t14.5 day\tmidbrain\thttps://encodeproject.org/files/ENCFF485YCL/@@download/ENCFF485YCL.bigWig\n",
      "https://encodeproject.org/experiments/ENCSR343YLB/\tarchived\tbigWig\tsignal of all reads\t15074\tembryonic\t14.5 day\tmidbrain\thttps://encodeproject.org/files/ENCFF399VLD/@@download/ENCFF399VLD.bigWig\n",
      "https://encodeproject.org/experiments/ENCSR982MRY/\tarchived\tbigWig\tsignal of all reads\t15488\tpostnatal\t0 day\tlung\thttps://encodeproject.org/files/ENCFF189YAR/@@download/ENCFF189YAR.bigWig\n",
      "https://encodeproject.org/experiments/ENCSR982MRY/\tarchived\tbigWig\tsignal of all reads\t15487\tpostnatal\t0 day\tlung\thttps://encodeproject.org/files/ENCFF156INI/@@download/ENCFF156INI.bigWig\n",
      "https://encodeproject.org/experiments/ENCSR982MRY/\treleased\tbigWig\tsignal of all reads\t15487\tpostnatal\t0 day\tlung\thttps://encodeproject.org/files/ENCFF728RXM/@@download/ENCFF728RXM.bigWig\n",
      "https://encodeproject.org/experiments/ENCSR982MRY/\tarchived\tbigWig\tsignal of all reads\t15487\tpostnatal\t0 day\tlung\thttps://encodeproject.org/files/ENCFF755BPO/@@download/ENCFF755BPO.bigWig\n",
      "https://encodeproject.org/experiments/ENCSR982MRY/\tarchived\tbigWig\tsignal of all reads\t15488\tpostnatal\t0 day\tlung\thttps://encodeproject.org/files/ENCFF872INU/@@download/ENCFF872INU.bigWig\n",
      "https://encodeproject.org/experiments/ENCSR982MRY/\treleased\tbigWig\tsignal of all reads\t15488\tpostnatal\t0 day\tlung\thttps://encodeproject.org/files/ENCFF876VNH/@@download/ENCFF876VNH.bigWig\n",
      "https://encodeproject.org/experiments/ENCSR457RRW/\tarchived\tbigWig\tsignal of all reads\t16124\tembryonic\t15.5 day\tlung\thttps://encodeproject.org/files/ENCFF048XPO/@@download/ENCFF048XPO.bigWig\n",
      "https://encodeproject.org/experiments/ENCSR457RRW/\tarchived\tbigWig\tsignal of all reads\t16124\tembryonic\t15.5 day\tlung\thttps://encodeproject.org/files/ENCFF002LJK/@@download/ENCFF002LJK.bigWig\n",
      "https://encodeproject.org/experiments/ENCSR457RRW/\tarchived\tbigWig\tsignal of all reads\t16125\tembryonic\t15.5 day\tlung\thttps://encodeproject.org/files/ENCFF665TFX/@@download/ENCFF665TFX.bigWig\n",
      "https://encodeproject.org/experiments/ENCSR457RRW/\tarchived\tbigWig\tsignal of all reads\t16125\tembryonic\t15.5 day\tlung\thttps://encodeproject.org/files/ENCFF129POK/@@download/ENCFF129POK.bigWig\n",
      "https://encodeproject.org/experiments/ENCSR457RRW/\treleased\tbigWig\tsignal of all reads\t16125\tembryonic\t15.5 day\tlung\thttps://encodeproject.org/files/ENCFF780BBM/@@download/ENCFF780BBM.bigWig\n",
      "https://encodeproject.org/experiments/ENCSR457RRW/\treleased\tbigWig\tsignal of all reads\t16124\tembryonic\t15.5 day\tlung\thttps://encodeproject.org/files/ENCFF562AII/@@download/ENCFF562AII.bigWig\n",
      "https://encodeproject.org/experiments/ENCSR017JEG/\tarchived\tbigWig\tsignal of all reads\t15479\tpostnatal\t0 day\thindbrain\thttps://encodeproject.org/files/ENCFF464GQE/@@download/ENCFF464GQE.bigWig\n",
      "https://encodeproject.org/experiments/ENCSR017JEG/\tarchived\tbigWig\tsignal of all reads\t15480\tpostnatal\t0 day\thindbrain\thttps://encodeproject.org/files/ENCFF993MNV/@@download/ENCFF993MNV.bigWig\n",
      "https://encodeproject.org/experiments/ENCSR017JEG/\tarchived\tbigWig\tsignal of all reads\t15480\tpostnatal\t0 day\thindbrain\thttps://encodeproject.org/files/ENCFF132WFS/@@download/ENCFF132WFS.bigWig\n",
      "https://encodeproject.org/experiments/ENCSR017JEG/\treleased\tbigWig\tsignal of all reads\t15480\tpostnatal\t0 day\thindbrain\thttps://encodeproject.org/files/ENCFF263FJA/@@download/ENCFF263FJA.bigWig\n",
      "https://encodeproject.org/experiments/ENCSR017JEG/\treleased\tbigWig\tsignal of all reads\t15479\tpostnatal\t0 day\thindbrain\thttps://encodeproject.org/files/ENCFF775PFB/@@download/ENCFF775PFB.bigWig\n",
      "https://encodeproject.org/experiments/ENCSR017JEG/\tarchived\tbigWig\tsignal of all reads\t15479\tpostnatal\t0 day\thindbrain\thttps://encodeproject.org/files/ENCFF080DBJ/@@download/ENCFF080DBJ.bigWig\n",
      "https://encodeproject.org/experiments/ENCSR537GNQ/\tarchived\tbigWig\tsignal of all reads\t16154\tembryonic\t16.5 day\tkidney\thttps://encodeproject.org/files/ENCFF071NVP/@@download/ENCFF071NVP.bigWig\n",
      "https://encodeproject.org/experiments/ENCSR537GNQ/\treleased\tbigWig\tsignal of all reads\t16155\tembryonic\t16.5 day\tkidney\thttps://encodeproject.org/files/ENCFF488HLD/@@download/ENCFF488HLD.bigWig\n",
      "https://encodeproject.org/experiments/ENCSR537GNQ/\tarchived\tbigWig\tsignal of all reads\t16155\tembryonic\t16.5 day\tkidney\thttps://encodeproject.org/files/ENCFF233NRY/@@download/ENCFF233NRY.bigWig\n",
      "https://encodeproject.org/experiments/ENCSR537GNQ/\tarchived\tbigWig\tsignal of all reads\t16155\tembryonic\t16.5 day\tkidney\thttps://encodeproject.org/files/ENCFF815CSC/@@download/ENCFF815CSC.bigWig\n",
      "https://encodeproject.org/experiments/ENCSR537GNQ/\treleased\tbigWig\tsignal of all reads\t16154\tembryonic\t16.5 day\tkidney\thttps://encodeproject.org/files/ENCFF709YLW/@@download/ENCFF709YLW.bigWig\n",
      "https://encodeproject.org/experiments/ENCSR537GNQ/\tarchived\tbigWig\tsignal of all reads\t16154\tembryonic\t16.5 day\tkidney\thttps://encodeproject.org/files/ENCFF974OGL/@@download/ENCFF974OGL.bigWig\n",
      "https://encodeproject.org/experiments/ENCSR809VYL/\treleased\tbigWig\tsignal of all reads\t17295\tembryonic\t10.5 day\tembryonic facial prominence\thttps://encodeproject.org/files/ENCFF593YMR/@@download/ENCFF593YMR.bigWig\n",
      "https://encodeproject.org/experiments/ENCSR809VYL/\treleased\tbigWig\tsignal of all reads\t17294\tembryonic\t10.5 day\tembryonic facial prominence\thttps://encodeproject.org/files/ENCFF778EKP/@@download/ENCFF778EKP.bigWig\n",
      "https://encodeproject.org/experiments/ENCSR691OPQ/\treleased\tbigWig\tsignal of all reads\t15016\tembryonic\t11.5 day\theart\thttps://encodeproject.org/files/ENCFF475INC/@@download/ENCFF475INC.bigWig\n",
      "https://encodeproject.org/experiments/ENCSR691OPQ/\treleased\tbigWig\tsignal of all reads\t15015\tembryonic\t11.5 day\theart\thttps://encodeproject.org/files/ENCFF352YUQ/@@download/ENCFF352YUQ.bigWig\n",
      "https://encodeproject.org/experiments/ENCSR691OPQ/\tarchived\tbigWig\tsignal of all reads\t15016\tembryonic\t11.5 day\theart\thttps://encodeproject.org/files/ENCFF676YHI/@@download/ENCFF676YHI.bigWig\n",
      "https://encodeproject.org/experiments/ENCSR691OPQ/\tarchived\tbigWig\tsignal of all reads\t15015\tembryonic\t11.5 day\theart\thttps://encodeproject.org/files/ENCFF944NYZ/@@download/ENCFF944NYZ.bigWig\n",
      "https://encodeproject.org/experiments/ENCSR691OPQ/\tarchived\tbigWig\tsignal of all reads\t15016\tembryonic\t11.5 day\theart\thttps://encodeproject.org/files/ENCFF243ZXM/@@download/ENCFF243ZXM.bigWig\n",
      "https://encodeproject.org/experiments/ENCSR691OPQ/\tarchived\tbigWig\tsignal of all reads\t15015\tembryonic\t11.5 day\theart\thttps://encodeproject.org/files/ENCFF887LFM/@@download/ENCFF887LFM.bigWig\n",
      "https://encodeproject.org/experiments/ENCSR719NAJ/\treleased\tbigWig\tsignal of all reads\t15478\tpostnatal\t0 day\tmidbrain\thttps://encodeproject.org/files/ENCFF916DLE/@@download/ENCFF916DLE.bigWig\n",
      "https://encodeproject.org/experiments/ENCSR719NAJ/\tarchived\tbigWig\tsignal of all reads\t15477\tpostnatal\t0 day\tmidbrain\thttps://encodeproject.org/files/ENCFF664QIS/@@download/ENCFF664QIS.bigWig\n",
      "https://encodeproject.org/experiments/ENCSR719NAJ/\tarchived\tbigWig\tsignal of all reads\t15477\tpostnatal\t0 day\tmidbrain\thttps://encodeproject.org/files/ENCFF449BKM/@@download/ENCFF449BKM.bigWig\n",
      "https://encodeproject.org/experiments/ENCSR719NAJ/\tarchived\tbigWig\tsignal of all reads\t15478\tpostnatal\t0 day\tmidbrain\thttps://encodeproject.org/files/ENCFF291CRO/@@download/ENCFF291CRO.bigWig\n",
      "https://encodeproject.org/experiments/ENCSR719NAJ/\treleased\tbigWig\tsignal of all reads\t15477\tpostnatal\t0 day\tmidbrain\thttps://encodeproject.org/files/ENCFF964YBJ/@@download/ENCFF964YBJ.bigWig\n",
      "https://encodeproject.org/experiments/ENCSR719NAJ/\tarchived\tbigWig\tsignal of all reads\t15478\tpostnatal\t0 day\tmidbrain\thttps://encodeproject.org/files/ENCFF687NZL/@@download/ENCFF687NZL.bigWig\n",
      "https://encodeproject.org/experiments/ENCSR579FCW/\tarchived\tbigWig\tsignal of all reads\t15494\tpostnatal\t0 day\tspleen\thttps://encodeproject.org/files/ENCFF236NZD/@@download/ENCFF236NZD.bigWig\n",
      "https://encodeproject.org/experiments/ENCSR579FCW/\tarchived\tbigWig\tsignal of all reads\t15493\tpostnatal\t0 day\tspleen\thttps://encodeproject.org/files/ENCFF610WZF/@@download/ENCFF610WZF.bigWig\n",
      "https://encodeproject.org/experiments/ENCSR579FCW/\tarchived\tbigWig\tsignal of all reads\t15494\tpostnatal\t0 day\tspleen\thttps://encodeproject.org/files/ENCFF683MLR/@@download/ENCFF683MLR.bigWig\n",
      "https://encodeproject.org/experiments/ENCSR579FCW/\treleased\tbigWig\tsignal of all reads\t15493\tpostnatal\t0 day\tspleen\thttps://encodeproject.org/files/ENCFF705HYV/@@download/ENCFF705HYV.bigWig\n",
      "https://encodeproject.org/experiments/ENCSR579FCW/\treleased\tbigWig\tsignal of all reads\t15494\tpostnatal\t0 day\tspleen\thttps://encodeproject.org/files/ENCFF492MZJ/@@download/ENCFF492MZJ.bigWig\n",
      "https://encodeproject.org/experiments/ENCSR579FCW/\tarchived\tbigWig\tsignal of all reads\t15493\tpostnatal\t0 day\tspleen\thttps://encodeproject.org/files/ENCFF978WAT/@@download/ENCFF978WAT.bigWig\n",
      "https://encodeproject.org/experiments/ENCSR062VTB/\tarchived\tbigWig\tsignal of all reads\t16133\tembryonic\t15.5 day\tkidney\thttps://encodeproject.org/files/ENCFF415WBB/@@download/ENCFF415WBB.bigWig\n",
      "https://encodeproject.org/experiments/ENCSR062VTB/\treleased\tbigWig\tsignal of all reads\t16132\tembryonic\t15.5 day\tkidney\thttps://encodeproject.org/files/ENCFF769OEA/@@download/ENCFF769OEA.bigWig\n",
      "https://encodeproject.org/experiments/ENCSR062VTB/\tarchived\tbigWig\tsignal of all reads\t16133\tembryonic\t15.5 day\tkidney\thttps://encodeproject.org/files/ENCFF142RJT/@@download/ENCFF142RJT.bigWig\n",
      "https://encodeproject.org/experiments/ENCSR062VTB/\treleased\tbigWig\tsignal of all reads\t16133\tembryonic\t15.5 day\tkidney\thttps://encodeproject.org/files/ENCFF543VPN/@@download/ENCFF543VPN.bigWig\n",
      "https://encodeproject.org/experiments/ENCSR062VTB/\tarchived\tbigWig\tsignal of all reads\t16132\tembryonic\t15.5 day\tkidney\thttps://encodeproject.org/files/ENCFF454XQC/@@download/ENCFF454XQC.bigWig\n",
      "https://encodeproject.org/experiments/ENCSR062VTB/\tarchived\tbigWig\tsignal of all reads\t16132\tembryonic\t15.5 day\tkidney\thttps://encodeproject.org/files/ENCFF238CCF/@@download/ENCFF238CCF.bigWig\n",
      "https://encodeproject.org/experiments/ENCSR760TOE/\tarchived\tbigWig\tsignal of all reads\t15012\tembryonic\t11.5 day\thindbrain\thttps://encodeproject.org/files/ENCFF920SRQ/@@download/ENCFF920SRQ.bigWig\n",
      "https://encodeproject.org/experiments/ENCSR760TOE/\treleased\tbigWig\tsignal of all reads\t15012\tembryonic\t11.5 day\thindbrain\thttps://encodeproject.org/files/ENCFF658AUO/@@download/ENCFF658AUO.bigWig\n",
      "https://encodeproject.org/experiments/ENCSR760TOE/\tarchived\tbigWig\tsignal of all reads\t15011\tembryonic\t11.5 day\thindbrain\thttps://encodeproject.org/files/ENCFF531LCU/@@download/ENCFF531LCU.bigWig\n",
      "https://encodeproject.org/experiments/ENCSR760TOE/\tarchived\tbigWig\tsignal of all reads\t15012\tembryonic\t11.5 day\thindbrain\thttps://encodeproject.org/files/ENCFF880WLQ/@@download/ENCFF880WLQ.bigWig\n",
      "https://encodeproject.org/experiments/ENCSR760TOE/\tarchived\tbigWig\tsignal of all reads\t15011\tembryonic\t11.5 day\thindbrain\thttps://encodeproject.org/files/ENCFF140MLZ/@@download/ENCFF140MLZ.bigWig\n",
      "https://encodeproject.org/experiments/ENCSR760TOE/\treleased\tbigWig\tsignal of all reads\t15011\tembryonic\t11.5 day\thindbrain\thttps://encodeproject.org/files/ENCFF400JIC/@@download/ENCFF400JIC.bigWig\n",
      "https://encodeproject.org/experiments/ENCSR216NEG/\treleased\tbigWig\tsignal of all reads\t15084\tembryonic\t14.5 day\tlimb\thttps://encodeproject.org/files/ENCFF130SVC/@@download/ENCFF130SVC.bigWig\n",
      "https://encodeproject.org/experiments/ENCSR216NEG/\tarchived\tbigWig\tsignal of all reads\t15085\tembryonic\t14.5 day\tlimb\thttps://encodeproject.org/files/ENCFF882GVE/@@download/ENCFF882GVE.bigWig\n",
      "https://encodeproject.org/experiments/ENCSR216NEG/\tarchived\tbigWig\tsignal of all reads\t15085\tembryonic\t14.5 day\tlimb\thttps://encodeproject.org/files/ENCFF933QCF/@@download/ENCFF933QCF.bigWig\n",
      "https://encodeproject.org/experiments/ENCSR216NEG/\tarchived\tbigWig\tsignal of all reads\t15084\tembryonic\t14.5 day\tlimb\thttps://encodeproject.org/files/ENCFF906GAP/@@download/ENCFF906GAP.bigWig\n",
      "https://encodeproject.org/experiments/ENCSR216NEG/\tarchived\tbigWig\tsignal of all reads\t15084\tembryonic\t14.5 day\tlimb\thttps://encodeproject.org/files/ENCFF595EYQ/@@download/ENCFF595EYQ.bigWig\n",
      "https://encodeproject.org/experiments/ENCSR216NEG/\treleased\tbigWig\tsignal of all reads\t15085\tembryonic\t14.5 day\tlimb\thttps://encodeproject.org/files/ENCFF051KUF/@@download/ENCFF051KUF.bigWig\n",
      "https://encodeproject.org/experiments/ENCSR284YKY/\tarchived\tbigWig\tsignal of all reads\t16108\tembryonic\t13.5 day\theart\thttps://encodeproject.org/files/ENCFF374CAA/@@download/ENCFF374CAA.bigWig\n",
      "https://encodeproject.org/experiments/ENCSR284YKY/\treleased\tbigWig\tsignal of all reads\t16108\tembryonic\t13.5 day\theart\thttps://encodeproject.org/files/ENCFF202UVT/@@download/ENCFF202UVT.bigWig\n",
      "https://encodeproject.org/experiments/ENCSR284YKY/\tarchived\tbigWig\tsignal of all reads\t16109\tembryonic\t13.5 day\theart\thttps://encodeproject.org/files/ENCFF082NNA/@@download/ENCFF082NNA.bigWig\n",
      "https://encodeproject.org/experiments/ENCSR284YKY/\tarchived\tbigWig\tsignal of all reads\t16108\tembryonic\t13.5 day\theart\thttps://encodeproject.org/files/ENCFF804ZUS/@@download/ENCFF804ZUS.bigWig\n",
      "https://encodeproject.org/experiments/ENCSR284YKY/\treleased\tbigWig\tsignal of all reads\t16109\tembryonic\t13.5 day\theart\thttps://encodeproject.org/files/ENCFF245ZGS/@@download/ENCFF245ZGS.bigWig\n",
      "https://encodeproject.org/experiments/ENCSR284YKY/\tarchived\tbigWig\tsignal of all reads\t16109\tembryonic\t13.5 day\theart\thttps://encodeproject.org/files/ENCFF195PXD/@@download/ENCFF195PXD.bigWig\n",
      "https://encodeproject.org/experiments/ENCSR636CWO/\tarchived\tbigWig\tsignal of all reads\t16137\tembryonic\t15.5 day\tembryonic facial prominence\thttps://encodeproject.org/files/ENCFF776TRU/@@download/ENCFF776TRU.bigWig\n",
      "https://encodeproject.org/experiments/ENCSR636CWO/\tarchived\tbigWig\tsignal of all reads\t16136\tembryonic\t15.5 day\tembryonic facial prominence\thttps://encodeproject.org/files/ENCFF646YKE/@@download/ENCFF646YKE.bigWig\n",
      "https://encodeproject.org/experiments/ENCSR636CWO/\treleased\tbigWig\tsignal of all reads\t16137\tembryonic\t15.5 day\tembryonic facial prominence\thttps://encodeproject.org/files/ENCFF472CVD/@@download/ENCFF472CVD.bigWig\n",
      "https://encodeproject.org/experiments/ENCSR636CWO/\tarchived\tbigWig\tsignal of all reads\t16137\tembryonic\t15.5 day\tembryonic facial prominence\thttps://encodeproject.org/files/ENCFF743MWU/@@download/ENCFF743MWU.bigWig\n",
      "https://encodeproject.org/experiments/ENCSR636CWO/\tarchived\tbigWig\tsignal of all reads\t16136\tembryonic\t15.5 day\tembryonic facial prominence\thttps://encodeproject.org/files/ENCFF936MAA/@@download/ENCFF936MAA.bigWig\n",
      "https://encodeproject.org/experiments/ENCSR636CWO/\treleased\tbigWig\tsignal of all reads\t16136\tembryonic\t15.5 day\tembryonic facial prominence\thttps://encodeproject.org/files/ENCFF562XHL/@@download/ENCFF562XHL.bigWig\n",
      "https://encodeproject.org/experiments/ENCSR943LKA/\treleased\tbigWig\tsignal of all reads\t17293\tembryonic\t10.5 day\thindbrain\thttps://encodeproject.org/files/ENCFF809TUL/@@download/ENCFF809TUL.bigWig\n",
      "https://encodeproject.org/experiments/ENCSR943LKA/\treleased\tbigWig\tsignal of all reads\t17292\tembryonic\t10.5 day\thindbrain\thttps://encodeproject.org/files/ENCFF490KRQ/@@download/ENCFF490KRQ.bigWig\n",
      "https://encodeproject.org/experiments/ENCSR611PTP/\tarchived\tbigWig\tsignal of all reads\t16126\tembryonic\t15.5 day\tliver\thttps://encodeproject.org/files/ENCFF374PSP/@@download/ENCFF374PSP.bigWig\n",
      "https://encodeproject.org/experiments/ENCSR611PTP/\tarchived\tbigWig\tsignal of all reads\t16127\tembryonic\t15.5 day\tliver\thttps://encodeproject.org/files/ENCFF405WHM/@@download/ENCFF405WHM.bigWig\n",
      "https://encodeproject.org/experiments/ENCSR611PTP/\tarchived\tbigWig\tsignal of all reads\t16126\tembryonic\t15.5 day\tliver\thttps://encodeproject.org/files/ENCFF843NAP/@@download/ENCFF843NAP.bigWig\n",
      "https://encodeproject.org/experiments/ENCSR611PTP/\tarchived\tbigWig\tsignal of all reads\t16127\tembryonic\t15.5 day\tliver\thttps://encodeproject.org/files/ENCFF840GVP/@@download/ENCFF840GVP.bigWig\n",
      "https://encodeproject.org/experiments/ENCSR611PTP/\treleased\tbigWig\tsignal of all reads\t16126\tembryonic\t15.5 day\tliver\thttps://encodeproject.org/files/ENCFF397LRH/@@download/ENCFF397LRH.bigWig\n",
      "https://encodeproject.org/experiments/ENCSR611PTP/\treleased\tbigWig\tsignal of all reads\t16127\tembryonic\t15.5 day\tliver\thttps://encodeproject.org/files/ENCFF450RIO/@@download/ENCFF450RIO.bigWig\n",
      "https://encodeproject.org/experiments/ENCSR970EWM/\treleased\tbigWig\tsignal of all reads\t16101\tembryonic\t13.5 day\tforebrain\thttps://encodeproject.org/files/ENCFF349EPG/@@download/ENCFF349EPG.bigWig\n",
      "https://encodeproject.org/experiments/ENCSR970EWM/\tarchived\tbigWig\tsignal of all reads\t16101\tembryonic\t13.5 day\tforebrain\thttps://encodeproject.org/files/ENCFF505GQR/@@download/ENCFF505GQR.bigWig\n",
      "https://encodeproject.org/experiments/ENCSR970EWM/\treleased\tbigWig\tsignal of all reads\t16100\tembryonic\t13.5 day\tforebrain\thttps://encodeproject.org/files/ENCFF842IEX/@@download/ENCFF842IEX.bigWig\n",
      "https://encodeproject.org/experiments/ENCSR970EWM/\tarchived\tbigWig\tsignal of all reads\t16100\tembryonic\t13.5 day\tforebrain\thttps://encodeproject.org/files/ENCFF039UHT/@@download/ENCFF039UHT.bigWig\n",
      "https://encodeproject.org/experiments/ENCSR970EWM/\tarchived\tbigWig\tsignal of all reads\t16100\tembryonic\t13.5 day\tforebrain\thttps://encodeproject.org/files/ENCFF918BNJ/@@download/ENCFF918BNJ.bigWig\n",
      "https://encodeproject.org/experiments/ENCSR970EWM/\tarchived\tbigWig\tsignal of all reads\t16101\tembryonic\t13.5 day\tforebrain\thttps://encodeproject.org/files/ENCFF752NFR/@@download/ENCFF752NFR.bigWig\n"
     ]
    }
   ],
   "source": [
    "qres = model.query(\"\"\"select ?exp ?file_status ?file_type ?output_type ?lib_id ?life_stage ?age ?term_name ?href\n",
    "where {\n",
    "   ?exp a Experiment:Experiment ;\n",
    "         Experiment:files ?file .\n",
    "   ?file File:file_type ?file_type ;\n",
    "         File:output_type ?output_type ;\n",
    "         File:status ?file_status ;\n",
    "         File:href ?href ;\n",
    "         File:replicate ?rep .\n",
    "   ?rep Replicate:library ?library .\n",
    "   ?library Library:aliases ?lib_id ;\n",
    "            Library:biosample ?biosample .\n",
    "   ?biosample Biosample:age_display ?age ;\n",
    "              Biosample:life_stage ?life_stage ;\n",
    "              Biosample:biosample_term_name ?term_name .\n",
    "}\n",
    "\"\"\")\n",
    "results = []\n",
    "for row in qres:\n",
    "    if str(row[row.labels['output_type']]) == 'signal of all reads':\n",
    "        result_row = [str(x) for x in row]\n",
    "        result_row[row.labels['lib_id']] = result_row[row.labels['lib_id']][len('barbara-wold:'):]\n",
    "        print('\\t'.join(result_row))\n",
    "        results.append(result_row)\n",
    "results = pandas.DataFrame(results, columns=[str(x) for x in qres.vars])"
   ]
  },
  {
   "cell_type": "code",
   "execution_count": 23,
   "metadata": {
    "collapsed": false
   },
   "outputs": [
    {
     "data": {
      "text/html": [
       "<div>\n",
       "<table border=\"1\" class=\"dataframe\">\n",
       "  <thead>\n",
       "    <tr style=\"text-align: right;\">\n",
       "      <th></th>\n",
       "      <th>exp</th>\n",
       "      <th>file_status</th>\n",
       "      <th>file_type</th>\n",
       "      <th>output_type</th>\n",
       "      <th>lib_id</th>\n",
       "      <th>life_stage</th>\n",
       "      <th>age</th>\n",
       "      <th>term_name</th>\n",
       "      <th>href</th>\n",
       "    </tr>\n",
       "  </thead>\n",
       "  <tbody>\n",
       "    <tr>\n",
       "      <th>0</th>\n",
       "      <td>https://encodeproject.org/experiments/ENCSR826...</td>\n",
       "      <td>archived</td>\n",
       "      <td>bigWig</td>\n",
       "      <td>signal of all reads</td>\n",
       "      <td>16149</td>\n",
       "      <td>embryonic</td>\n",
       "      <td>16.5 day</td>\n",
       "      <td>liver</td>\n",
       "      <td>https://encodeproject.org/files/ENCFF962SKY/@@...</td>\n",
       "    </tr>\n",
       "    <tr>\n",
       "      <th>1</th>\n",
       "      <td>https://encodeproject.org/experiments/ENCSR826...</td>\n",
       "      <td>archived</td>\n",
       "      <td>bigWig</td>\n",
       "      <td>signal of all reads</td>\n",
       "      <td>16148</td>\n",
       "      <td>embryonic</td>\n",
       "      <td>16.5 day</td>\n",
       "      <td>liver</td>\n",
       "      <td>https://encodeproject.org/files/ENCFF537CAA/@@...</td>\n",
       "    </tr>\n",
       "    <tr>\n",
       "      <th>2</th>\n",
       "      <td>https://encodeproject.org/experiments/ENCSR826...</td>\n",
       "      <td>released</td>\n",
       "      <td>bigWig</td>\n",
       "      <td>signal of all reads</td>\n",
       "      <td>16149</td>\n",
       "      <td>embryonic</td>\n",
       "      <td>16.5 day</td>\n",
       "      <td>liver</td>\n",
       "      <td>https://encodeproject.org/files/ENCFF128JHQ/@@...</td>\n",
       "    </tr>\n",
       "    <tr>\n",
       "      <th>3</th>\n",
       "      <td>https://encodeproject.org/experiments/ENCSR826...</td>\n",
       "      <td>archived</td>\n",
       "      <td>bigWig</td>\n",
       "      <td>signal of all reads</td>\n",
       "      <td>16148</td>\n",
       "      <td>embryonic</td>\n",
       "      <td>16.5 day</td>\n",
       "      <td>liver</td>\n",
       "      <td>https://encodeproject.org/files/ENCFF528IKF/@@...</td>\n",
       "    </tr>\n",
       "    <tr>\n",
       "      <th>4</th>\n",
       "      <td>https://encodeproject.org/experiments/ENCSR826...</td>\n",
       "      <td>released</td>\n",
       "      <td>bigWig</td>\n",
       "      <td>signal of all reads</td>\n",
       "      <td>16148</td>\n",
       "      <td>embryonic</td>\n",
       "      <td>16.5 day</td>\n",
       "      <td>liver</td>\n",
       "      <td>https://encodeproject.org/files/ENCFF100WOE/@@...</td>\n",
       "    </tr>\n",
       "    <tr>\n",
       "      <th>5</th>\n",
       "      <td>https://encodeproject.org/experiments/ENCSR826...</td>\n",
       "      <td>archived</td>\n",
       "      <td>bigWig</td>\n",
       "      <td>signal of all reads</td>\n",
       "      <td>16149</td>\n",
       "      <td>embryonic</td>\n",
       "      <td>16.5 day</td>\n",
       "      <td>liver</td>\n",
       "      <td>https://encodeproject.org/files/ENCFF877RAQ/@@...</td>\n",
       "    </tr>\n",
       "    <tr>\n",
       "      <th>6</th>\n",
       "      <td>https://encodeproject.org/experiments/ENCSR285...</td>\n",
       "      <td>archived</td>\n",
       "      <td>bigWig</td>\n",
       "      <td>signal of all reads</td>\n",
       "      <td>16145</td>\n",
       "      <td>embryonic</td>\n",
       "      <td>16.5 day</td>\n",
       "      <td>hindbrain</td>\n",
       "      <td>https://encodeproject.org/files/ENCFF589OSH/@@...</td>\n",
       "    </tr>\n",
       "    <tr>\n",
       "      <th>7</th>\n",
       "      <td>https://encodeproject.org/experiments/ENCSR285...</td>\n",
       "      <td>archived</td>\n",
       "      <td>bigWig</td>\n",
       "      <td>signal of all reads</td>\n",
       "      <td>16144</td>\n",
       "      <td>embryonic</td>\n",
       "      <td>16.5 day</td>\n",
       "      <td>hindbrain</td>\n",
       "      <td>https://encodeproject.org/files/ENCFF205EEG/@@...</td>\n",
       "    </tr>\n",
       "    <tr>\n",
       "      <th>8</th>\n",
       "      <td>https://encodeproject.org/experiments/ENCSR285...</td>\n",
       "      <td>released</td>\n",
       "      <td>bigWig</td>\n",
       "      <td>signal of all reads</td>\n",
       "      <td>16144</td>\n",
       "      <td>embryonic</td>\n",
       "      <td>16.5 day</td>\n",
       "      <td>hindbrain</td>\n",
       "      <td>https://encodeproject.org/files/ENCFF636BRI/@@...</td>\n",
       "    </tr>\n",
       "    <tr>\n",
       "      <th>9</th>\n",
       "      <td>https://encodeproject.org/experiments/ENCSR285...</td>\n",
       "      <td>released</td>\n",
       "      <td>bigWig</td>\n",
       "      <td>signal of all reads</td>\n",
       "      <td>16145</td>\n",
       "      <td>embryonic</td>\n",
       "      <td>16.5 day</td>\n",
       "      <td>hindbrain</td>\n",
       "      <td>https://encodeproject.org/files/ENCFF430LFN/@@...</td>\n",
       "    </tr>\n",
       "    <tr>\n",
       "      <th>10</th>\n",
       "      <td>https://encodeproject.org/experiments/ENCSR285...</td>\n",
       "      <td>archived</td>\n",
       "      <td>bigWig</td>\n",
       "      <td>signal of all reads</td>\n",
       "      <td>16145</td>\n",
       "      <td>embryonic</td>\n",
       "      <td>16.5 day</td>\n",
       "      <td>hindbrain</td>\n",
       "      <td>https://encodeproject.org/files/ENCFF740BJI/@@...</td>\n",
       "    </tr>\n",
       "    <tr>\n",
       "      <th>11</th>\n",
       "      <td>https://encodeproject.org/experiments/ENCSR285...</td>\n",
       "      <td>archived</td>\n",
       "      <td>bigWig</td>\n",
       "      <td>signal of all reads</td>\n",
       "      <td>16144</td>\n",
       "      <td>embryonic</td>\n",
       "      <td>16.5 day</td>\n",
       "      <td>hindbrain</td>\n",
       "      <td>https://encodeproject.org/files/ENCFF451SXY/@@...</td>\n",
       "    </tr>\n",
       "    <tr>\n",
       "      <th>12</th>\n",
       "      <td>https://encodeproject.org/experiments/ENCSR968...</td>\n",
       "      <td>released</td>\n",
       "      <td>bigWig</td>\n",
       "      <td>signal of all reads</td>\n",
       "      <td>17298</td>\n",
       "      <td>embryonic</td>\n",
       "      <td>10.5 day</td>\n",
       "      <td>limb</td>\n",
       "      <td>https://encodeproject.org/files/ENCFF289MJB/@@...</td>\n",
       "    </tr>\n",
       "    <tr>\n",
       "      <th>13</th>\n",
       "      <td>https://encodeproject.org/experiments/ENCSR968...</td>\n",
       "      <td>released</td>\n",
       "      <td>bigWig</td>\n",
       "      <td>signal of all reads</td>\n",
       "      <td>17299</td>\n",
       "      <td>embryonic</td>\n",
       "      <td>10.5 day</td>\n",
       "      <td>limb</td>\n",
       "      <td>https://encodeproject.org/files/ENCFF520PYV/@@...</td>\n",
       "    </tr>\n",
       "    <tr>\n",
       "      <th>14</th>\n",
       "      <td>https://encodeproject.org/experiments/ENCSR466...</td>\n",
       "      <td>released</td>\n",
       "      <td>bigWig</td>\n",
       "      <td>signal of all reads</td>\n",
       "      <td>16156</td>\n",
       "      <td>embryonic</td>\n",
       "      <td>16.5 day</td>\n",
       "      <td>stomach</td>\n",
       "      <td>https://encodeproject.org/files/ENCFF217DFC/@@...</td>\n",
       "    </tr>\n",
       "    <tr>\n",
       "      <th>15</th>\n",
       "      <td>https://encodeproject.org/experiments/ENCSR466...</td>\n",
       "      <td>archived</td>\n",
       "      <td>bigWig</td>\n",
       "      <td>signal of all reads</td>\n",
       "      <td>16157</td>\n",
       "      <td>embryonic</td>\n",
       "      <td>16.5 day</td>\n",
       "      <td>stomach</td>\n",
       "      <td>https://encodeproject.org/files/ENCFF415GAS/@@...</td>\n",
       "    </tr>\n",
       "    <tr>\n",
       "      <th>16</th>\n",
       "      <td>https://encodeproject.org/experiments/ENCSR466...</td>\n",
       "      <td>released</td>\n",
       "      <td>bigWig</td>\n",
       "      <td>signal of all reads</td>\n",
       "      <td>16157</td>\n",
       "      <td>embryonic</td>\n",
       "      <td>16.5 day</td>\n",
       "      <td>stomach</td>\n",
       "      <td>https://encodeproject.org/files/ENCFF190TYU/@@...</td>\n",
       "    </tr>\n",
       "    <tr>\n",
       "      <th>17</th>\n",
       "      <td>https://encodeproject.org/experiments/ENCSR466...</td>\n",
       "      <td>archived</td>\n",
       "      <td>bigWig</td>\n",
       "      <td>signal of all reads</td>\n",
       "      <td>16156</td>\n",
       "      <td>embryonic</td>\n",
       "      <td>16.5 day</td>\n",
       "      <td>stomach</td>\n",
       "      <td>https://encodeproject.org/files/ENCFF618CCD/@@...</td>\n",
       "    </tr>\n",
       "    <tr>\n",
       "      <th>18</th>\n",
       "      <td>https://encodeproject.org/experiments/ENCSR466...</td>\n",
       "      <td>archived</td>\n",
       "      <td>bigWig</td>\n",
       "      <td>signal of all reads</td>\n",
       "      <td>16156</td>\n",
       "      <td>embryonic</td>\n",
       "      <td>16.5 day</td>\n",
       "      <td>stomach</td>\n",
       "      <td>https://encodeproject.org/files/ENCFF708YDL/@@...</td>\n",
       "    </tr>\n",
       "    <tr>\n",
       "      <th>19</th>\n",
       "      <td>https://encodeproject.org/experiments/ENCSR466...</td>\n",
       "      <td>archived</td>\n",
       "      <td>bigWig</td>\n",
       "      <td>signal of all reads</td>\n",
       "      <td>16157</td>\n",
       "      <td>embryonic</td>\n",
       "      <td>16.5 day</td>\n",
       "      <td>stomach</td>\n",
       "      <td>https://encodeproject.org/files/ENCFF465OCY/@@...</td>\n",
       "    </tr>\n",
       "    <tr>\n",
       "      <th>20</th>\n",
       "      <td>https://encodeproject.org/experiments/ENCSR764...</td>\n",
       "      <td>released</td>\n",
       "      <td>bigWig</td>\n",
       "      <td>signal of all reads</td>\n",
       "      <td>17290</td>\n",
       "      <td>embryonic</td>\n",
       "      <td>10.5 day</td>\n",
       "      <td>midbrain</td>\n",
       "      <td>https://encodeproject.org/files/ENCFF494GYU/@@...</td>\n",
       "    </tr>\n",
       "    <tr>\n",
       "      <th>21</th>\n",
       "      <td>https://encodeproject.org/experiments/ENCSR764...</td>\n",
       "      <td>released</td>\n",
       "      <td>bigWig</td>\n",
       "      <td>signal of all reads</td>\n",
       "      <td>17291</td>\n",
       "      <td>embryonic</td>\n",
       "      <td>10.5 day</td>\n",
       "      <td>midbrain</td>\n",
       "      <td>https://encodeproject.org/files/ENCFF206TPL/@@...</td>\n",
       "    </tr>\n",
       "    <tr>\n",
       "      <th>22</th>\n",
       "      <td>https://encodeproject.org/experiments/ENCSR830...</td>\n",
       "      <td>released</td>\n",
       "      <td>bigWig</td>\n",
       "      <td>signal of all reads</td>\n",
       "      <td>16134</td>\n",
       "      <td>embryonic</td>\n",
       "      <td>15.5 day</td>\n",
       "      <td>limb</td>\n",
       "      <td>https://encodeproject.org/files/ENCFF056ENX/@@...</td>\n",
       "    </tr>\n",
       "    <tr>\n",
       "      <th>23</th>\n",
       "      <td>https://encodeproject.org/experiments/ENCSR830...</td>\n",
       "      <td>archived</td>\n",
       "      <td>bigWig</td>\n",
       "      <td>signal of all reads</td>\n",
       "      <td>16135</td>\n",
       "      <td>embryonic</td>\n",
       "      <td>15.5 day</td>\n",
       "      <td>limb</td>\n",
       "      <td>https://encodeproject.org/files/ENCFF216FID/@@...</td>\n",
       "    </tr>\n",
       "    <tr>\n",
       "      <th>24</th>\n",
       "      <td>https://encodeproject.org/experiments/ENCSR830...</td>\n",
       "      <td>archived</td>\n",
       "      <td>bigWig</td>\n",
       "      <td>signal of all reads</td>\n",
       "      <td>16134</td>\n",
       "      <td>embryonic</td>\n",
       "      <td>15.5 day</td>\n",
       "      <td>limb</td>\n",
       "      <td>https://encodeproject.org/files/ENCFF942ZWP/@@...</td>\n",
       "    </tr>\n",
       "    <tr>\n",
       "      <th>25</th>\n",
       "      <td>https://encodeproject.org/experiments/ENCSR830...</td>\n",
       "      <td>released</td>\n",
       "      <td>bigWig</td>\n",
       "      <td>signal of all reads</td>\n",
       "      <td>16135</td>\n",
       "      <td>embryonic</td>\n",
       "      <td>15.5 day</td>\n",
       "      <td>limb</td>\n",
       "      <td>https://encodeproject.org/files/ENCFF493RBC/@@...</td>\n",
       "    </tr>\n",
       "    <tr>\n",
       "      <th>26</th>\n",
       "      <td>https://encodeproject.org/experiments/ENCSR830...</td>\n",
       "      <td>archived</td>\n",
       "      <td>bigWig</td>\n",
       "      <td>signal of all reads</td>\n",
       "      <td>16135</td>\n",
       "      <td>embryonic</td>\n",
       "      <td>15.5 day</td>\n",
       "      <td>limb</td>\n",
       "      <td>https://encodeproject.org/files/ENCFF264AWL/@@...</td>\n",
       "    </tr>\n",
       "    <tr>\n",
       "      <th>27</th>\n",
       "      <td>https://encodeproject.org/experiments/ENCSR830...</td>\n",
       "      <td>archived</td>\n",
       "      <td>bigWig</td>\n",
       "      <td>signal of all reads</td>\n",
       "      <td>16134</td>\n",
       "      <td>embryonic</td>\n",
       "      <td>15.5 day</td>\n",
       "      <td>limb</td>\n",
       "      <td>https://encodeproject.org/files/ENCFF973WPQ/@@...</td>\n",
       "    </tr>\n",
       "    <tr>\n",
       "      <th>28</th>\n",
       "      <td>https://encodeproject.org/experiments/ENCSR173...</td>\n",
       "      <td>archived</td>\n",
       "      <td>bigWig</td>\n",
       "      <td>signal of all reads</td>\n",
       "      <td>15501</td>\n",
       "      <td>postnatal</td>\n",
       "      <td>0 day</td>\n",
       "      <td>kidney</td>\n",
       "      <td>https://encodeproject.org/files/ENCFF696UQO/@@...</td>\n",
       "    </tr>\n",
       "    <tr>\n",
       "      <th>29</th>\n",
       "      <td>https://encodeproject.org/experiments/ENCSR173...</td>\n",
       "      <td>archived</td>\n",
       "      <td>bigWig</td>\n",
       "      <td>signal of all reads</td>\n",
       "      <td>15502</td>\n",
       "      <td>postnatal</td>\n",
       "      <td>0 day</td>\n",
       "      <td>kidney</td>\n",
       "      <td>https://encodeproject.org/files/ENCFF149LEW/@@...</td>\n",
       "    </tr>\n",
       "    <tr>\n",
       "      <th>...</th>\n",
       "      <td>...</td>\n",
       "      <td>...</td>\n",
       "      <td>...</td>\n",
       "      <td>...</td>\n",
       "      <td>...</td>\n",
       "      <td>...</td>\n",
       "      <td>...</td>\n",
       "      <td>...</td>\n",
       "      <td>...</td>\n",
       "    </tr>\n",
       "    <tr>\n",
       "      <th>398</th>\n",
       "      <td>https://encodeproject.org/experiments/ENCSR216...</td>\n",
       "      <td>archived</td>\n",
       "      <td>bigWig</td>\n",
       "      <td>signal of all reads</td>\n",
       "      <td>15085</td>\n",
       "      <td>embryonic</td>\n",
       "      <td>14.5 day</td>\n",
       "      <td>limb</td>\n",
       "      <td>https://encodeproject.org/files/ENCFF933QCF/@@...</td>\n",
       "    </tr>\n",
       "    <tr>\n",
       "      <th>399</th>\n",
       "      <td>https://encodeproject.org/experiments/ENCSR216...</td>\n",
       "      <td>archived</td>\n",
       "      <td>bigWig</td>\n",
       "      <td>signal of all reads</td>\n",
       "      <td>15084</td>\n",
       "      <td>embryonic</td>\n",
       "      <td>14.5 day</td>\n",
       "      <td>limb</td>\n",
       "      <td>https://encodeproject.org/files/ENCFF906GAP/@@...</td>\n",
       "    </tr>\n",
       "    <tr>\n",
       "      <th>400</th>\n",
       "      <td>https://encodeproject.org/experiments/ENCSR216...</td>\n",
       "      <td>archived</td>\n",
       "      <td>bigWig</td>\n",
       "      <td>signal of all reads</td>\n",
       "      <td>15084</td>\n",
       "      <td>embryonic</td>\n",
       "      <td>14.5 day</td>\n",
       "      <td>limb</td>\n",
       "      <td>https://encodeproject.org/files/ENCFF595EYQ/@@...</td>\n",
       "    </tr>\n",
       "    <tr>\n",
       "      <th>401</th>\n",
       "      <td>https://encodeproject.org/experiments/ENCSR216...</td>\n",
       "      <td>released</td>\n",
       "      <td>bigWig</td>\n",
       "      <td>signal of all reads</td>\n",
       "      <td>15085</td>\n",
       "      <td>embryonic</td>\n",
       "      <td>14.5 day</td>\n",
       "      <td>limb</td>\n",
       "      <td>https://encodeproject.org/files/ENCFF051KUF/@@...</td>\n",
       "    </tr>\n",
       "    <tr>\n",
       "      <th>402</th>\n",
       "      <td>https://encodeproject.org/experiments/ENCSR284...</td>\n",
       "      <td>archived</td>\n",
       "      <td>bigWig</td>\n",
       "      <td>signal of all reads</td>\n",
       "      <td>16108</td>\n",
       "      <td>embryonic</td>\n",
       "      <td>13.5 day</td>\n",
       "      <td>heart</td>\n",
       "      <td>https://encodeproject.org/files/ENCFF374CAA/@@...</td>\n",
       "    </tr>\n",
       "    <tr>\n",
       "      <th>403</th>\n",
       "      <td>https://encodeproject.org/experiments/ENCSR284...</td>\n",
       "      <td>released</td>\n",
       "      <td>bigWig</td>\n",
       "      <td>signal of all reads</td>\n",
       "      <td>16108</td>\n",
       "      <td>embryonic</td>\n",
       "      <td>13.5 day</td>\n",
       "      <td>heart</td>\n",
       "      <td>https://encodeproject.org/files/ENCFF202UVT/@@...</td>\n",
       "    </tr>\n",
       "    <tr>\n",
       "      <th>404</th>\n",
       "      <td>https://encodeproject.org/experiments/ENCSR284...</td>\n",
       "      <td>archived</td>\n",
       "      <td>bigWig</td>\n",
       "      <td>signal of all reads</td>\n",
       "      <td>16109</td>\n",
       "      <td>embryonic</td>\n",
       "      <td>13.5 day</td>\n",
       "      <td>heart</td>\n",
       "      <td>https://encodeproject.org/files/ENCFF082NNA/@@...</td>\n",
       "    </tr>\n",
       "    <tr>\n",
       "      <th>405</th>\n",
       "      <td>https://encodeproject.org/experiments/ENCSR284...</td>\n",
       "      <td>archived</td>\n",
       "      <td>bigWig</td>\n",
       "      <td>signal of all reads</td>\n",
       "      <td>16108</td>\n",
       "      <td>embryonic</td>\n",
       "      <td>13.5 day</td>\n",
       "      <td>heart</td>\n",
       "      <td>https://encodeproject.org/files/ENCFF804ZUS/@@...</td>\n",
       "    </tr>\n",
       "    <tr>\n",
       "      <th>406</th>\n",
       "      <td>https://encodeproject.org/experiments/ENCSR284...</td>\n",
       "      <td>released</td>\n",
       "      <td>bigWig</td>\n",
       "      <td>signal of all reads</td>\n",
       "      <td>16109</td>\n",
       "      <td>embryonic</td>\n",
       "      <td>13.5 day</td>\n",
       "      <td>heart</td>\n",
       "      <td>https://encodeproject.org/files/ENCFF245ZGS/@@...</td>\n",
       "    </tr>\n",
       "    <tr>\n",
       "      <th>407</th>\n",
       "      <td>https://encodeproject.org/experiments/ENCSR284...</td>\n",
       "      <td>archived</td>\n",
       "      <td>bigWig</td>\n",
       "      <td>signal of all reads</td>\n",
       "      <td>16109</td>\n",
       "      <td>embryonic</td>\n",
       "      <td>13.5 day</td>\n",
       "      <td>heart</td>\n",
       "      <td>https://encodeproject.org/files/ENCFF195PXD/@@...</td>\n",
       "    </tr>\n",
       "    <tr>\n",
       "      <th>408</th>\n",
       "      <td>https://encodeproject.org/experiments/ENCSR636...</td>\n",
       "      <td>archived</td>\n",
       "      <td>bigWig</td>\n",
       "      <td>signal of all reads</td>\n",
       "      <td>16137</td>\n",
       "      <td>embryonic</td>\n",
       "      <td>15.5 day</td>\n",
       "      <td>embryonic facial prominence</td>\n",
       "      <td>https://encodeproject.org/files/ENCFF776TRU/@@...</td>\n",
       "    </tr>\n",
       "    <tr>\n",
       "      <th>409</th>\n",
       "      <td>https://encodeproject.org/experiments/ENCSR636...</td>\n",
       "      <td>archived</td>\n",
       "      <td>bigWig</td>\n",
       "      <td>signal of all reads</td>\n",
       "      <td>16136</td>\n",
       "      <td>embryonic</td>\n",
       "      <td>15.5 day</td>\n",
       "      <td>embryonic facial prominence</td>\n",
       "      <td>https://encodeproject.org/files/ENCFF646YKE/@@...</td>\n",
       "    </tr>\n",
       "    <tr>\n",
       "      <th>410</th>\n",
       "      <td>https://encodeproject.org/experiments/ENCSR636...</td>\n",
       "      <td>released</td>\n",
       "      <td>bigWig</td>\n",
       "      <td>signal of all reads</td>\n",
       "      <td>16137</td>\n",
       "      <td>embryonic</td>\n",
       "      <td>15.5 day</td>\n",
       "      <td>embryonic facial prominence</td>\n",
       "      <td>https://encodeproject.org/files/ENCFF472CVD/@@...</td>\n",
       "    </tr>\n",
       "    <tr>\n",
       "      <th>411</th>\n",
       "      <td>https://encodeproject.org/experiments/ENCSR636...</td>\n",
       "      <td>archived</td>\n",
       "      <td>bigWig</td>\n",
       "      <td>signal of all reads</td>\n",
       "      <td>16137</td>\n",
       "      <td>embryonic</td>\n",
       "      <td>15.5 day</td>\n",
       "      <td>embryonic facial prominence</td>\n",
       "      <td>https://encodeproject.org/files/ENCFF743MWU/@@...</td>\n",
       "    </tr>\n",
       "    <tr>\n",
       "      <th>412</th>\n",
       "      <td>https://encodeproject.org/experiments/ENCSR636...</td>\n",
       "      <td>archived</td>\n",
       "      <td>bigWig</td>\n",
       "      <td>signal of all reads</td>\n",
       "      <td>16136</td>\n",
       "      <td>embryonic</td>\n",
       "      <td>15.5 day</td>\n",
       "      <td>embryonic facial prominence</td>\n",
       "      <td>https://encodeproject.org/files/ENCFF936MAA/@@...</td>\n",
       "    </tr>\n",
       "    <tr>\n",
       "      <th>413</th>\n",
       "      <td>https://encodeproject.org/experiments/ENCSR636...</td>\n",
       "      <td>released</td>\n",
       "      <td>bigWig</td>\n",
       "      <td>signal of all reads</td>\n",
       "      <td>16136</td>\n",
       "      <td>embryonic</td>\n",
       "      <td>15.5 day</td>\n",
       "      <td>embryonic facial prominence</td>\n",
       "      <td>https://encodeproject.org/files/ENCFF562XHL/@@...</td>\n",
       "    </tr>\n",
       "    <tr>\n",
       "      <th>414</th>\n",
       "      <td>https://encodeproject.org/experiments/ENCSR943...</td>\n",
       "      <td>released</td>\n",
       "      <td>bigWig</td>\n",
       "      <td>signal of all reads</td>\n",
       "      <td>17293</td>\n",
       "      <td>embryonic</td>\n",
       "      <td>10.5 day</td>\n",
       "      <td>hindbrain</td>\n",
       "      <td>https://encodeproject.org/files/ENCFF809TUL/@@...</td>\n",
       "    </tr>\n",
       "    <tr>\n",
       "      <th>415</th>\n",
       "      <td>https://encodeproject.org/experiments/ENCSR943...</td>\n",
       "      <td>released</td>\n",
       "      <td>bigWig</td>\n",
       "      <td>signal of all reads</td>\n",
       "      <td>17292</td>\n",
       "      <td>embryonic</td>\n",
       "      <td>10.5 day</td>\n",
       "      <td>hindbrain</td>\n",
       "      <td>https://encodeproject.org/files/ENCFF490KRQ/@@...</td>\n",
       "    </tr>\n",
       "    <tr>\n",
       "      <th>416</th>\n",
       "      <td>https://encodeproject.org/experiments/ENCSR611...</td>\n",
       "      <td>archived</td>\n",
       "      <td>bigWig</td>\n",
       "      <td>signal of all reads</td>\n",
       "      <td>16126</td>\n",
       "      <td>embryonic</td>\n",
       "      <td>15.5 day</td>\n",
       "      <td>liver</td>\n",
       "      <td>https://encodeproject.org/files/ENCFF374PSP/@@...</td>\n",
       "    </tr>\n",
       "    <tr>\n",
       "      <th>417</th>\n",
       "      <td>https://encodeproject.org/experiments/ENCSR611...</td>\n",
       "      <td>archived</td>\n",
       "      <td>bigWig</td>\n",
       "      <td>signal of all reads</td>\n",
       "      <td>16127</td>\n",
       "      <td>embryonic</td>\n",
       "      <td>15.5 day</td>\n",
       "      <td>liver</td>\n",
       "      <td>https://encodeproject.org/files/ENCFF405WHM/@@...</td>\n",
       "    </tr>\n",
       "    <tr>\n",
       "      <th>418</th>\n",
       "      <td>https://encodeproject.org/experiments/ENCSR611...</td>\n",
       "      <td>archived</td>\n",
       "      <td>bigWig</td>\n",
       "      <td>signal of all reads</td>\n",
       "      <td>16126</td>\n",
       "      <td>embryonic</td>\n",
       "      <td>15.5 day</td>\n",
       "      <td>liver</td>\n",
       "      <td>https://encodeproject.org/files/ENCFF843NAP/@@...</td>\n",
       "    </tr>\n",
       "    <tr>\n",
       "      <th>419</th>\n",
       "      <td>https://encodeproject.org/experiments/ENCSR611...</td>\n",
       "      <td>archived</td>\n",
       "      <td>bigWig</td>\n",
       "      <td>signal of all reads</td>\n",
       "      <td>16127</td>\n",
       "      <td>embryonic</td>\n",
       "      <td>15.5 day</td>\n",
       "      <td>liver</td>\n",
       "      <td>https://encodeproject.org/files/ENCFF840GVP/@@...</td>\n",
       "    </tr>\n",
       "    <tr>\n",
       "      <th>420</th>\n",
       "      <td>https://encodeproject.org/experiments/ENCSR611...</td>\n",
       "      <td>released</td>\n",
       "      <td>bigWig</td>\n",
       "      <td>signal of all reads</td>\n",
       "      <td>16126</td>\n",
       "      <td>embryonic</td>\n",
       "      <td>15.5 day</td>\n",
       "      <td>liver</td>\n",
       "      <td>https://encodeproject.org/files/ENCFF397LRH/@@...</td>\n",
       "    </tr>\n",
       "    <tr>\n",
       "      <th>421</th>\n",
       "      <td>https://encodeproject.org/experiments/ENCSR611...</td>\n",
       "      <td>released</td>\n",
       "      <td>bigWig</td>\n",
       "      <td>signal of all reads</td>\n",
       "      <td>16127</td>\n",
       "      <td>embryonic</td>\n",
       "      <td>15.5 day</td>\n",
       "      <td>liver</td>\n",
       "      <td>https://encodeproject.org/files/ENCFF450RIO/@@...</td>\n",
       "    </tr>\n",
       "    <tr>\n",
       "      <th>422</th>\n",
       "      <td>https://encodeproject.org/experiments/ENCSR970...</td>\n",
       "      <td>released</td>\n",
       "      <td>bigWig</td>\n",
       "      <td>signal of all reads</td>\n",
       "      <td>16101</td>\n",
       "      <td>embryonic</td>\n",
       "      <td>13.5 day</td>\n",
       "      <td>forebrain</td>\n",
       "      <td>https://encodeproject.org/files/ENCFF349EPG/@@...</td>\n",
       "    </tr>\n",
       "    <tr>\n",
       "      <th>423</th>\n",
       "      <td>https://encodeproject.org/experiments/ENCSR970...</td>\n",
       "      <td>archived</td>\n",
       "      <td>bigWig</td>\n",
       "      <td>signal of all reads</td>\n",
       "      <td>16101</td>\n",
       "      <td>embryonic</td>\n",
       "      <td>13.5 day</td>\n",
       "      <td>forebrain</td>\n",
       "      <td>https://encodeproject.org/files/ENCFF505GQR/@@...</td>\n",
       "    </tr>\n",
       "    <tr>\n",
       "      <th>424</th>\n",
       "      <td>https://encodeproject.org/experiments/ENCSR970...</td>\n",
       "      <td>released</td>\n",
       "      <td>bigWig</td>\n",
       "      <td>signal of all reads</td>\n",
       "      <td>16100</td>\n",
       "      <td>embryonic</td>\n",
       "      <td>13.5 day</td>\n",
       "      <td>forebrain</td>\n",
       "      <td>https://encodeproject.org/files/ENCFF842IEX/@@...</td>\n",
       "    </tr>\n",
       "    <tr>\n",
       "      <th>425</th>\n",
       "      <td>https://encodeproject.org/experiments/ENCSR970...</td>\n",
       "      <td>archived</td>\n",
       "      <td>bigWig</td>\n",
       "      <td>signal of all reads</td>\n",
       "      <td>16100</td>\n",
       "      <td>embryonic</td>\n",
       "      <td>13.5 day</td>\n",
       "      <td>forebrain</td>\n",
       "      <td>https://encodeproject.org/files/ENCFF039UHT/@@...</td>\n",
       "    </tr>\n",
       "    <tr>\n",
       "      <th>426</th>\n",
       "      <td>https://encodeproject.org/experiments/ENCSR970...</td>\n",
       "      <td>archived</td>\n",
       "      <td>bigWig</td>\n",
       "      <td>signal of all reads</td>\n",
       "      <td>16100</td>\n",
       "      <td>embryonic</td>\n",
       "      <td>13.5 day</td>\n",
       "      <td>forebrain</td>\n",
       "      <td>https://encodeproject.org/files/ENCFF918BNJ/@@...</td>\n",
       "    </tr>\n",
       "    <tr>\n",
       "      <th>427</th>\n",
       "      <td>https://encodeproject.org/experiments/ENCSR970...</td>\n",
       "      <td>archived</td>\n",
       "      <td>bigWig</td>\n",
       "      <td>signal of all reads</td>\n",
       "      <td>16101</td>\n",
       "      <td>embryonic</td>\n",
       "      <td>13.5 day</td>\n",
       "      <td>forebrain</td>\n",
       "      <td>https://encodeproject.org/files/ENCFF752NFR/@@...</td>\n",
       "    </tr>\n",
       "  </tbody>\n",
       "</table>\n",
       "<p>428 rows × 9 columns</p>\n",
       "</div>"
      ],
      "text/plain": [
       "                                                   exp file_status file_type  \\\n",
       "0    https://encodeproject.org/experiments/ENCSR826...    archived    bigWig   \n",
       "1    https://encodeproject.org/experiments/ENCSR826...    archived    bigWig   \n",
       "2    https://encodeproject.org/experiments/ENCSR826...    released    bigWig   \n",
       "3    https://encodeproject.org/experiments/ENCSR826...    archived    bigWig   \n",
       "4    https://encodeproject.org/experiments/ENCSR826...    released    bigWig   \n",
       "5    https://encodeproject.org/experiments/ENCSR826...    archived    bigWig   \n",
       "6    https://encodeproject.org/experiments/ENCSR285...    archived    bigWig   \n",
       "7    https://encodeproject.org/experiments/ENCSR285...    archived    bigWig   \n",
       "8    https://encodeproject.org/experiments/ENCSR285...    released    bigWig   \n",
       "9    https://encodeproject.org/experiments/ENCSR285...    released    bigWig   \n",
       "10   https://encodeproject.org/experiments/ENCSR285...    archived    bigWig   \n",
       "11   https://encodeproject.org/experiments/ENCSR285...    archived    bigWig   \n",
       "12   https://encodeproject.org/experiments/ENCSR968...    released    bigWig   \n",
       "13   https://encodeproject.org/experiments/ENCSR968...    released    bigWig   \n",
       "14   https://encodeproject.org/experiments/ENCSR466...    released    bigWig   \n",
       "15   https://encodeproject.org/experiments/ENCSR466...    archived    bigWig   \n",
       "16   https://encodeproject.org/experiments/ENCSR466...    released    bigWig   \n",
       "17   https://encodeproject.org/experiments/ENCSR466...    archived    bigWig   \n",
       "18   https://encodeproject.org/experiments/ENCSR466...    archived    bigWig   \n",
       "19   https://encodeproject.org/experiments/ENCSR466...    archived    bigWig   \n",
       "20   https://encodeproject.org/experiments/ENCSR764...    released    bigWig   \n",
       "21   https://encodeproject.org/experiments/ENCSR764...    released    bigWig   \n",
       "22   https://encodeproject.org/experiments/ENCSR830...    released    bigWig   \n",
       "23   https://encodeproject.org/experiments/ENCSR830...    archived    bigWig   \n",
       "24   https://encodeproject.org/experiments/ENCSR830...    archived    bigWig   \n",
       "25   https://encodeproject.org/experiments/ENCSR830...    released    bigWig   \n",
       "26   https://encodeproject.org/experiments/ENCSR830...    archived    bigWig   \n",
       "27   https://encodeproject.org/experiments/ENCSR830...    archived    bigWig   \n",
       "28   https://encodeproject.org/experiments/ENCSR173...    archived    bigWig   \n",
       "29   https://encodeproject.org/experiments/ENCSR173...    archived    bigWig   \n",
       "..                                                 ...         ...       ...   \n",
       "398  https://encodeproject.org/experiments/ENCSR216...    archived    bigWig   \n",
       "399  https://encodeproject.org/experiments/ENCSR216...    archived    bigWig   \n",
       "400  https://encodeproject.org/experiments/ENCSR216...    archived    bigWig   \n",
       "401  https://encodeproject.org/experiments/ENCSR216...    released    bigWig   \n",
       "402  https://encodeproject.org/experiments/ENCSR284...    archived    bigWig   \n",
       "403  https://encodeproject.org/experiments/ENCSR284...    released    bigWig   \n",
       "404  https://encodeproject.org/experiments/ENCSR284...    archived    bigWig   \n",
       "405  https://encodeproject.org/experiments/ENCSR284...    archived    bigWig   \n",
       "406  https://encodeproject.org/experiments/ENCSR284...    released    bigWig   \n",
       "407  https://encodeproject.org/experiments/ENCSR284...    archived    bigWig   \n",
       "408  https://encodeproject.org/experiments/ENCSR636...    archived    bigWig   \n",
       "409  https://encodeproject.org/experiments/ENCSR636...    archived    bigWig   \n",
       "410  https://encodeproject.org/experiments/ENCSR636...    released    bigWig   \n",
       "411  https://encodeproject.org/experiments/ENCSR636...    archived    bigWig   \n",
       "412  https://encodeproject.org/experiments/ENCSR636...    archived    bigWig   \n",
       "413  https://encodeproject.org/experiments/ENCSR636...    released    bigWig   \n",
       "414  https://encodeproject.org/experiments/ENCSR943...    released    bigWig   \n",
       "415  https://encodeproject.org/experiments/ENCSR943...    released    bigWig   \n",
       "416  https://encodeproject.org/experiments/ENCSR611...    archived    bigWig   \n",
       "417  https://encodeproject.org/experiments/ENCSR611...    archived    bigWig   \n",
       "418  https://encodeproject.org/experiments/ENCSR611...    archived    bigWig   \n",
       "419  https://encodeproject.org/experiments/ENCSR611...    archived    bigWig   \n",
       "420  https://encodeproject.org/experiments/ENCSR611...    released    bigWig   \n",
       "421  https://encodeproject.org/experiments/ENCSR611...    released    bigWig   \n",
       "422  https://encodeproject.org/experiments/ENCSR970...    released    bigWig   \n",
       "423  https://encodeproject.org/experiments/ENCSR970...    archived    bigWig   \n",
       "424  https://encodeproject.org/experiments/ENCSR970...    released    bigWig   \n",
       "425  https://encodeproject.org/experiments/ENCSR970...    archived    bigWig   \n",
       "426  https://encodeproject.org/experiments/ENCSR970...    archived    bigWig   \n",
       "427  https://encodeproject.org/experiments/ENCSR970...    archived    bigWig   \n",
       "\n",
       "             output_type lib_id life_stage       age  \\\n",
       "0    signal of all reads  16149  embryonic  16.5 day   \n",
       "1    signal of all reads  16148  embryonic  16.5 day   \n",
       "2    signal of all reads  16149  embryonic  16.5 day   \n",
       "3    signal of all reads  16148  embryonic  16.5 day   \n",
       "4    signal of all reads  16148  embryonic  16.5 day   \n",
       "5    signal of all reads  16149  embryonic  16.5 day   \n",
       "6    signal of all reads  16145  embryonic  16.5 day   \n",
       "7    signal of all reads  16144  embryonic  16.5 day   \n",
       "8    signal of all reads  16144  embryonic  16.5 day   \n",
       "9    signal of all reads  16145  embryonic  16.5 day   \n",
       "10   signal of all reads  16145  embryonic  16.5 day   \n",
       "11   signal of all reads  16144  embryonic  16.5 day   \n",
       "12   signal of all reads  17298  embryonic  10.5 day   \n",
       "13   signal of all reads  17299  embryonic  10.5 day   \n",
       "14   signal of all reads  16156  embryonic  16.5 day   \n",
       "15   signal of all reads  16157  embryonic  16.5 day   \n",
       "16   signal of all reads  16157  embryonic  16.5 day   \n",
       "17   signal of all reads  16156  embryonic  16.5 day   \n",
       "18   signal of all reads  16156  embryonic  16.5 day   \n",
       "19   signal of all reads  16157  embryonic  16.5 day   \n",
       "20   signal of all reads  17290  embryonic  10.5 day   \n",
       "21   signal of all reads  17291  embryonic  10.5 day   \n",
       "22   signal of all reads  16134  embryonic  15.5 day   \n",
       "23   signal of all reads  16135  embryonic  15.5 day   \n",
       "24   signal of all reads  16134  embryonic  15.5 day   \n",
       "25   signal of all reads  16135  embryonic  15.5 day   \n",
       "26   signal of all reads  16135  embryonic  15.5 day   \n",
       "27   signal of all reads  16134  embryonic  15.5 day   \n",
       "28   signal of all reads  15501  postnatal     0 day   \n",
       "29   signal of all reads  15502  postnatal     0 day   \n",
       "..                   ...    ...        ...       ...   \n",
       "398  signal of all reads  15085  embryonic  14.5 day   \n",
       "399  signal of all reads  15084  embryonic  14.5 day   \n",
       "400  signal of all reads  15084  embryonic  14.5 day   \n",
       "401  signal of all reads  15085  embryonic  14.5 day   \n",
       "402  signal of all reads  16108  embryonic  13.5 day   \n",
       "403  signal of all reads  16108  embryonic  13.5 day   \n",
       "404  signal of all reads  16109  embryonic  13.5 day   \n",
       "405  signal of all reads  16108  embryonic  13.5 day   \n",
       "406  signal of all reads  16109  embryonic  13.5 day   \n",
       "407  signal of all reads  16109  embryonic  13.5 day   \n",
       "408  signal of all reads  16137  embryonic  15.5 day   \n",
       "409  signal of all reads  16136  embryonic  15.5 day   \n",
       "410  signal of all reads  16137  embryonic  15.5 day   \n",
       "411  signal of all reads  16137  embryonic  15.5 day   \n",
       "412  signal of all reads  16136  embryonic  15.5 day   \n",
       "413  signal of all reads  16136  embryonic  15.5 day   \n",
       "414  signal of all reads  17293  embryonic  10.5 day   \n",
       "415  signal of all reads  17292  embryonic  10.5 day   \n",
       "416  signal of all reads  16126  embryonic  15.5 day   \n",
       "417  signal of all reads  16127  embryonic  15.5 day   \n",
       "418  signal of all reads  16126  embryonic  15.5 day   \n",
       "419  signal of all reads  16127  embryonic  15.5 day   \n",
       "420  signal of all reads  16126  embryonic  15.5 day   \n",
       "421  signal of all reads  16127  embryonic  15.5 day   \n",
       "422  signal of all reads  16101  embryonic  13.5 day   \n",
       "423  signal of all reads  16101  embryonic  13.5 day   \n",
       "424  signal of all reads  16100  embryonic  13.5 day   \n",
       "425  signal of all reads  16100  embryonic  13.5 day   \n",
       "426  signal of all reads  16100  embryonic  13.5 day   \n",
       "427  signal of all reads  16101  embryonic  13.5 day   \n",
       "\n",
       "                       term_name  \\\n",
       "0                          liver   \n",
       "1                          liver   \n",
       "2                          liver   \n",
       "3                          liver   \n",
       "4                          liver   \n",
       "5                          liver   \n",
       "6                      hindbrain   \n",
       "7                      hindbrain   \n",
       "8                      hindbrain   \n",
       "9                      hindbrain   \n",
       "10                     hindbrain   \n",
       "11                     hindbrain   \n",
       "12                          limb   \n",
       "13                          limb   \n",
       "14                       stomach   \n",
       "15                       stomach   \n",
       "16                       stomach   \n",
       "17                       stomach   \n",
       "18                       stomach   \n",
       "19                       stomach   \n",
       "20                      midbrain   \n",
       "21                      midbrain   \n",
       "22                          limb   \n",
       "23                          limb   \n",
       "24                          limb   \n",
       "25                          limb   \n",
       "26                          limb   \n",
       "27                          limb   \n",
       "28                        kidney   \n",
       "29                        kidney   \n",
       "..                           ...   \n",
       "398                         limb   \n",
       "399                         limb   \n",
       "400                         limb   \n",
       "401                         limb   \n",
       "402                        heart   \n",
       "403                        heart   \n",
       "404                        heart   \n",
       "405                        heart   \n",
       "406                        heart   \n",
       "407                        heart   \n",
       "408  embryonic facial prominence   \n",
       "409  embryonic facial prominence   \n",
       "410  embryonic facial prominence   \n",
       "411  embryonic facial prominence   \n",
       "412  embryonic facial prominence   \n",
       "413  embryonic facial prominence   \n",
       "414                    hindbrain   \n",
       "415                    hindbrain   \n",
       "416                        liver   \n",
       "417                        liver   \n",
       "418                        liver   \n",
       "419                        liver   \n",
       "420                        liver   \n",
       "421                        liver   \n",
       "422                    forebrain   \n",
       "423                    forebrain   \n",
       "424                    forebrain   \n",
       "425                    forebrain   \n",
       "426                    forebrain   \n",
       "427                    forebrain   \n",
       "\n",
       "                                                  href  \n",
       "0    https://encodeproject.org/files/ENCFF962SKY/@@...  \n",
       "1    https://encodeproject.org/files/ENCFF537CAA/@@...  \n",
       "2    https://encodeproject.org/files/ENCFF128JHQ/@@...  \n",
       "3    https://encodeproject.org/files/ENCFF528IKF/@@...  \n",
       "4    https://encodeproject.org/files/ENCFF100WOE/@@...  \n",
       "5    https://encodeproject.org/files/ENCFF877RAQ/@@...  \n",
       "6    https://encodeproject.org/files/ENCFF589OSH/@@...  \n",
       "7    https://encodeproject.org/files/ENCFF205EEG/@@...  \n",
       "8    https://encodeproject.org/files/ENCFF636BRI/@@...  \n",
       "9    https://encodeproject.org/files/ENCFF430LFN/@@...  \n",
       "10   https://encodeproject.org/files/ENCFF740BJI/@@...  \n",
       "11   https://encodeproject.org/files/ENCFF451SXY/@@...  \n",
       "12   https://encodeproject.org/files/ENCFF289MJB/@@...  \n",
       "13   https://encodeproject.org/files/ENCFF520PYV/@@...  \n",
       "14   https://encodeproject.org/files/ENCFF217DFC/@@...  \n",
       "15   https://encodeproject.org/files/ENCFF415GAS/@@...  \n",
       "16   https://encodeproject.org/files/ENCFF190TYU/@@...  \n",
       "17   https://encodeproject.org/files/ENCFF618CCD/@@...  \n",
       "18   https://encodeproject.org/files/ENCFF708YDL/@@...  \n",
       "19   https://encodeproject.org/files/ENCFF465OCY/@@...  \n",
       "20   https://encodeproject.org/files/ENCFF494GYU/@@...  \n",
       "21   https://encodeproject.org/files/ENCFF206TPL/@@...  \n",
       "22   https://encodeproject.org/files/ENCFF056ENX/@@...  \n",
       "23   https://encodeproject.org/files/ENCFF216FID/@@...  \n",
       "24   https://encodeproject.org/files/ENCFF942ZWP/@@...  \n",
       "25   https://encodeproject.org/files/ENCFF493RBC/@@...  \n",
       "26   https://encodeproject.org/files/ENCFF264AWL/@@...  \n",
       "27   https://encodeproject.org/files/ENCFF973WPQ/@@...  \n",
       "28   https://encodeproject.org/files/ENCFF696UQO/@@...  \n",
       "29   https://encodeproject.org/files/ENCFF149LEW/@@...  \n",
       "..                                                 ...  \n",
       "398  https://encodeproject.org/files/ENCFF933QCF/@@...  \n",
       "399  https://encodeproject.org/files/ENCFF906GAP/@@...  \n",
       "400  https://encodeproject.org/files/ENCFF595EYQ/@@...  \n",
       "401  https://encodeproject.org/files/ENCFF051KUF/@@...  \n",
       "402  https://encodeproject.org/files/ENCFF374CAA/@@...  \n",
       "403  https://encodeproject.org/files/ENCFF202UVT/@@...  \n",
       "404  https://encodeproject.org/files/ENCFF082NNA/@@...  \n",
       "405  https://encodeproject.org/files/ENCFF804ZUS/@@...  \n",
       "406  https://encodeproject.org/files/ENCFF245ZGS/@@...  \n",
       "407  https://encodeproject.org/files/ENCFF195PXD/@@...  \n",
       "408  https://encodeproject.org/files/ENCFF776TRU/@@...  \n",
       "409  https://encodeproject.org/files/ENCFF646YKE/@@...  \n",
       "410  https://encodeproject.org/files/ENCFF472CVD/@@...  \n",
       "411  https://encodeproject.org/files/ENCFF743MWU/@@...  \n",
       "412  https://encodeproject.org/files/ENCFF936MAA/@@...  \n",
       "413  https://encodeproject.org/files/ENCFF562XHL/@@...  \n",
       "414  https://encodeproject.org/files/ENCFF809TUL/@@...  \n",
       "415  https://encodeproject.org/files/ENCFF490KRQ/@@...  \n",
       "416  https://encodeproject.org/files/ENCFF374PSP/@@...  \n",
       "417  https://encodeproject.org/files/ENCFF405WHM/@@...  \n",
       "418  https://encodeproject.org/files/ENCFF843NAP/@@...  \n",
       "419  https://encodeproject.org/files/ENCFF840GVP/@@...  \n",
       "420  https://encodeproject.org/files/ENCFF397LRH/@@...  \n",
       "421  https://encodeproject.org/files/ENCFF450RIO/@@...  \n",
       "422  https://encodeproject.org/files/ENCFF349EPG/@@...  \n",
       "423  https://encodeproject.org/files/ENCFF505GQR/@@...  \n",
       "424  https://encodeproject.org/files/ENCFF842IEX/@@...  \n",
       "425  https://encodeproject.org/files/ENCFF039UHT/@@...  \n",
       "426  https://encodeproject.org/files/ENCFF918BNJ/@@...  \n",
       "427  https://encodeproject.org/files/ENCFF752NFR/@@...  \n",
       "\n",
       "[428 rows x 9 columns]"
      ]
     },
     "execution_count": 23,
     "metadata": {},
     "output_type": "execute_result"
    }
   ],
   "source": [
    "results"
   ]
  },
  {
   "cell_type": "code",
   "execution_count": 25,
   "metadata": {
    "collapsed": false
   },
   "outputs": [],
   "source": [
    "f = results[results['file_status'] == 'released'].sort_values(['term_name','life_stage', 'age','lib_id'])[['exp', 'lib_id', 'life_stage', 'age', 'term_name', 'href']]"
   ]
  },
  {
   "cell_type": "code",
   "execution_count": 26,
   "metadata": {
    "collapsed": true
   },
   "outputs": [],
   "source": [
    "f.to_csv(\"/dev/shm/mouse_data.tsv\", index=False, sep='\\t')"
   ]
  },
  {
   "cell_type": "code",
   "execution_count": 11,
   "metadata": {
    "collapsed": true
   },
   "outputs": [],
   "source": [
    "def show_po(frag):\n",
    "    url = encode.prepare_url(frag)\n",
    "    qres = model.query('select ?p ?o where {{ <{url}> ?p ?o }}'.format(url=url))\n",
    "    show_result(qres)"
   ]
  },
  {
   "cell_type": "code",
   "execution_count": 12,
   "metadata": {
    "collapsed": false
   },
   "outputs": [
    {
     "name": "stdout",
     "output_type": "stream",
     "text": [
      "https://encodeproject.org/profiles/File.json#accession\tENCFF252SXR\n",
      "https://encodeproject.org/profiles/File.json#technical_replicates\t2_1\n",
      "https://encodeproject.org/profiles/File.json#md5sum\t2417849c36eac678dce6c5171e4e37b1\n",
      "https://encodeproject.org/profiles/File.json#submitted_by\thttps://encodeproject.org/users/a00d89e0-a488-4adf-9738-25149afc4087/\n",
      "https://encodeproject.org/profiles/File.json#schema_version\t9\n",
      "https://encodeproject.org/profiles/File.json#file_format\tbigWig\n",
      "https://encodeproject.org/profiles/File.json#replicate\thttps://encodeproject.org/replicates/1dd4be3a-9f2e-4273-bdaa-1f49a230ee20/\n",
      "https://encodeproject.org/profiles/File.json#step_run\t/analysis-step-runs/428b2a4a-2778-46b7-b450-cef842e7bae0/\n",
      "https://encodeproject.org/profiles/File.json#analysis_step_version\thttps://encodeproject.org/analysis-step-versions/5b77d517-ec45-4344-a337-e12e3966014f/\n",
      "https://encodeproject.org/profiles/File.json#uuid\te2cf3394-d9c6-40fc-925f-f1e685fa41c1\n",
      "https://encodeproject.org/profiles/File.json#assembly\tmm10\n",
      "https://encodeproject.org/profiles/File.json#title\tENCFF252SXR\n",
      "http://www.w3.org/1999/02/22-rdf-syntax-ns#type\thttps://encodeproject.org/profiles/File.json#Item\n",
      "https://encodeproject.org/profiles/File.json#status\treleased\n",
      "http://www.w3.org/1999/02/22-rdf-syntax-ns#type\thttps://encodeproject.org/profiles/File.json#File\n",
      "https://encodeproject.org/profiles/File.json#file_size\t172266238\n",
      "https://encodeproject.org/profiles/File.json#output_category\tsignal\n",
      "https://encodeproject.org/profiles/File.json#href\thttps://encodeproject.org/files/ENCFF252SXR/@@download/ENCFF252SXR.bigWig\n",
      "https://encodeproject.org/profiles/File.json#biological_replicates\t2\n",
      "https://encodeproject.org/profiles/File.json#award\thttps://encodeproject.org/awards/U41HG006992/\n",
      "https://encodeproject.org/profiles/File.json#dataset\thttps://encodeproject.org/experiments/ENCSR304RDL/\n",
      "https://encodeproject.org/profiles/File.json#aliases\tdnanexus:file-ByV50Xj0FJY5y1YxF5VFVZ67\n",
      "https://encodeproject.org/profiles/File.json#lab\thttps://encodeproject.org/labs/encode-processing-pipeline/\n",
      "https://encodeproject.org/profiles/File.json#submitted_file_name\t/long-RNA-seq/runs/mm10/M4/ENCSR304RDL/rep2_1/ENCSR304RDL_rep2_1_star_genome_uniq.bw\n",
      "https://encodeproject.org/profiles/File.json#derived_from\t/files/ENCFF801AWP/\n",
      "https://encodeproject.org/profiles/File.json#notes\t{\"software_versions\": [{\"version\": {\"bam-to-bigwig-unstranded\": \"2.1.0\"}, \"software\": \"DX applet\"}, {\"version\": \"v1\", \"software\": \"lrna_bam_to_unstranded_signals.sh\"}, {\"version\": \"2.5.1b\", \"software\": \"STAR\"}, {\"version\": \"v4\", \"software\": \"bedGraphToBigWig\"}], \"dx_project_name\": \"ENCODE - Production runs\", \"notes_version\": \"5\", \"dx-id\": \"file-ByV50Xj0FJY5y1YxF5VFVZ67\", \"dx-createdBy\": {\"job\": \"job-ByV3P2j0J6ZPyGBk4VP6XJB0\", \"executable\": \"applet-Bxv05Bj0J6ZG6P2FfjFbbJ34\", \"user\": \"user-tdreszer\"}, \"dx_cost\": \"$0.21\", \"dx_project_id\": \"project-BbF4J2Q0J6Z0q4K79k9V5fv0\", \"dx_analysis_id\": \"analysis-ByV3P2j0J6ZPyGBk4VP6XJ9k\"}\n",
      "https://encodeproject.org/profiles/File.json#file_type\tbigWig\n",
      "https://encodeproject.org/profiles/File.json#output_type\tsignal of unique reads\n",
      "https://encodeproject.org/profiles/File.json#date_created\t2016-08-04T22:47:25.546449+00:00\n",
      "https://encodeproject.org/profiles/File.json#genome_annotation\tM4\n"
     ]
    }
   ],
   "source": [
    "show_po('https://encodeproject.org/files/ENCFF252SXR/')"
   ]
  },
  {
   "cell_type": "code",
   "execution_count": 13,
   "metadata": {
    "collapsed": false
   },
   "outputs": [
    {
     "name": "stdout",
     "output_type": "stream",
     "text": [
      "https://encodeproject.org/profiles/Replicate.json#biological_replicate_number\t2\n",
      "http://www.w3.org/1999/02/22-rdf-syntax-ns#type\thttps://encodeproject.org/profiles/Replicate.json#Replicate\n",
      "https://encodeproject.org/profiles/Replicate.json#library\thttps://encodeproject.org/libraries/ENCLB286HEN/\n",
      "https://encodeproject.org/profiles/Replicate.json#schema_version\t6\n",
      "https://encodeproject.org/profiles/Replicate.json#uuid\t1dd4be3a-9f2e-4273-bdaa-1f49a230ee20\n",
      "https://encodeproject.org/profiles/Replicate.json#experiment\thttps://encodeproject.org/experiments/ENCSR304RDL/\n",
      "https://encodeproject.org/profiles/Replicate.json#date_created\t2016-07-25T20:32:53.129525+00:00\n",
      "https://encodeproject.org/profiles/Replicate.json#status\treleased\n",
      "https://encodeproject.org/profiles/Replicate.json#submitted_by\thttps://encodeproject.org/users/bc5b62f7-ce28-4a1e-b6b3-81c9c5a86d7a/\n",
      "http://www.w3.org/1999/02/22-rdf-syntax-ns#type\thttps://encodeproject.org/profiles/Replicate.json#Item\n",
      "https://encodeproject.org/profiles/Replicate.json#technical_replicate_number\t1\n"
     ]
    }
   ],
   "source": [
    "show_po('https://encodeproject.org/replicates/1dd4be3a-9f2e-4273-bdaa-1f49a230ee20/')"
   ]
  },
  {
   "cell_type": "code",
   "execution_count": 14,
   "metadata": {
    "collapsed": false
   },
   "outputs": [
    {
     "name": "stdout",
     "output_type": "stream",
     "text": [
      "https://encodeproject.org/profiles/Biosample.json#biosample_synonyms\tEntire prosencephalon\n",
      "https://encodeproject.org/profiles/Biosample.json#age_units\tday\n",
      "https://encodeproject.org/profiles/Biosample.json#model_organism_age_units\tday\n",
      "https://encodeproject.org/profiles/Biosample.json#developmental_slims\tectoderm\n",
      "https://encodeproject.org/profiles/Biosample.json#pooled_from\t/biosamples/ENCBS943QRD/\n",
      "https://encodeproject.org/profiles/Biosample.json#date_created\t2016-06-09T23:58:06.280677+00:00\n",
      "https://encodeproject.org/profiles/Biosample.json#model_organism_sex\tmixed\n",
      "https://encodeproject.org/profiles/Biosample.json#source\thttps://encodeproject.org/sources/len-pennacchio/\n",
      "https://encodeproject.org/profiles/Biosample.json#summary\tMus musculus strain B6NCrl forebrain tissue mixed sex embryo (10.5 days)\n",
      "https://encodeproject.org/profiles/Biosample.json#submitted_by\thttps://encodeproject.org/users/3073e814-baad-43e8-b18d-0d22f42fa122/\n",
      "https://encodeproject.org/profiles/Biosample.json#model_organism_age\t10.5\n",
      "https://encodeproject.org/profiles/Biosample.json#model_organism_health_status\thealthy\n",
      "https://encodeproject.org/profiles/Biosample.json#uuid\t2a7653a8-fa7e-42cb-b68b-bd08871baa95\n",
      "https://encodeproject.org/profiles/Biosample.json#schema_version\t14\n",
      "http://www.w3.org/1999/02/22-rdf-syntax-ns#type\thttps://encodeproject.org/profiles/Biosample.json#Biosample\n",
      "https://encodeproject.org/profiles/Biosample.json#biosample_synonyms\tprosencephalon\n",
      "https://encodeproject.org/profiles/Biosample.json#pooled_from\t/biosamples/ENCBS855ZNP/\n",
      "https://encodeproject.org/profiles/Biosample.json#dbxrefs\tGEO:SAMN05733889\n",
      "https://encodeproject.org/profiles/Biosample.json#age_display\t10.5 day\n",
      "https://encodeproject.org/profiles/Biosample.json#award\thttps://encodeproject.org/awards/U54HG006997/\n",
      "https://encodeproject.org/profiles/Biosample.json#accession\tENCBS152ONW\n",
      "https://encodeproject.org/profiles/Biosample.json#age\t10.5\n",
      "https://encodeproject.org/profiles/Biosample.json#life_stage\tembryonic\n",
      "https://encodeproject.org/profiles/Biosample.json#donor\thttps://encodeproject.org/mouse-donors/ENCDO956IXV/\n",
      "https://encodeproject.org/profiles/Biosample.json#lab\thttps://encodeproject.org/labs/len-pennacchio/\n",
      "https://encodeproject.org/profiles/Biosample.json#organism\thttps://encodeproject.org/organisms/mouse/\n",
      "http://www.w3.org/1999/02/22-rdf-syntax-ns#type\thttps://encodeproject.org/profiles/Biosample.json#Item\n",
      "https://encodeproject.org/profiles/Biosample.json#biosample_term_id\thttps://encodeproject.org/biosamples/ENCBS152ONW/UBERON:0001890\n",
      "https://encodeproject.org/profiles/Biosample.json#system_slims\tcentral nervous system\n",
      "https://encodeproject.org/profiles/Biosample.json#organ_slims\tbrain\n",
      "https://encodeproject.org/profiles/Biosample.json#biosample_term_name\tforebrain\n",
      "https://encodeproject.org/profiles/Biosample.json#health_status\thealthy\n",
      "https://encodeproject.org/profiles/Biosample.json#biosample_type\ttissue\n",
      "https://encodeproject.org/profiles/Biosample.json#sex\tmixed\n",
      "http://www.w3.org/1999/02/22-rdf-syntax-ns#description\tForebrain from 69 embryonic 10.5 day mice\n",
      "https://encodeproject.org/profiles/Biosample.json#mouse_life_stage\tembryonic\n",
      "https://encodeproject.org/profiles/Biosample.json#status\treleased\n"
     ]
    }
   ],
   "source": [
    "show_po('https://encodeproject.org/biosamples/ENCBS152ONW/')"
   ]
  },
  {
   "cell_type": "code",
   "execution_count": null,
   "metadata": {
    "collapsed": true
   },
   "outputs": [],
   "source": []
  }
 ],
 "metadata": {
  "kernelspec": {
   "display_name": "Python 3",
   "language": "python",
   "name": "python3"
  },
  "language_info": {
   "codemirror_mode": {
    "name": "ipython",
    "version": 3
   },
   "file_extension": ".py",
   "mimetype": "text/x-python",
   "name": "python",
   "nbconvert_exporter": "python",
   "pygments_lexer": "ipython3",
   "version": "3.5.3"
  }
 },
 "nbformat": 4,
 "nbformat_minor": 2
}
