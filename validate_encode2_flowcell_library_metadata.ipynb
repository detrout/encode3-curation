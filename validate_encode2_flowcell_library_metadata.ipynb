{
 "metadata": {
  "name": "",
  "signature": "sha256:d01ee81a229abb2fd67ea1088cb96962ee6a27e6fa6666c6e3ac273753950fe3"
 },
 "nbformat": 3,
 "nbformat_minor": 0,
 "worksheets": [
  {
   "cells": [
    {
     "cell_type": "markdown",
     "metadata": {},
     "source": [
      "We have a bunch of ENCODE2 that was confusingly annotated then, and its been imported into ENCODE3 and we need to make sure that the metadata is reasonable.\n",
      "\n",
      "<blockquote>These have some strange replication. It seems to me that there were same libraries sequenced in different ways? Seth is working on ENCODE2 remap for the black list and these are coming up as problematic.</blockquote>\n",
      "\n",
      "Some information about the issue is at <a href=\"http://redmine.encodedcc.org/issues/2662\">redmine:2662</a>\n",
      "\n",
      "  * Did we pool biosamples?\n",
      "  * What libraries are controls for what other libraries?"
     ]
    },
    {
     "cell_type": "heading",
     "level": 1,
     "metadata": {},
     "source": [
      "Setup"
     ]
    },
    {
     "cell_type": "code",
     "collapsed": false,
     "input": [
      "from __future__ import print_function\n",
      "import pandas\n",
      "import requests\n",
      "import IPython.display\n",
      "from pprint import pprint\n",
      "import RDF\n",
      "\n",
      "from curation_common import *"
     ],
     "language": "python",
     "metadata": {},
     "outputs": [],
     "prompt_number": 1
    },
    {
     "cell_type": "code",
     "collapsed": false,
     "input": [
      "server = ENCODED('www.encodeproject.org')\n",
      "server.load_netrc()"
     ],
     "language": "python",
     "metadata": {},
     "outputs": [],
     "prompt_number": 2
    },
    {
     "cell_type": "heading",
     "level": 1,
     "metadata": {},
     "source": [
      "Import Georgi's file to read id map"
     ]
    },
    {
     "cell_type": "markdown",
     "metadata": {},
     "source": [
      "One big question was were the fastqs mixed incorrectly? I found the original directory we used to upload from, from which I was able to extract what georgi thought the library ID was and the first read id from each fastq file.\n",
      "\n",
      "The first read id is a good proxy for determining flowcell / lane information which can then also be used to identify what library a fastq file should belong to."
     ]
    },
    {
     "cell_type": "code",
     "collapsed": false,
     "input": [
      "georgis_files=\"\"\"10007-C2C12-24h-2PCR-Input.32mers/10007_309JCAAXX_c37_l8.32mers.fastq.bz2\n",
      "@309JCAAXX_080819_HWI-EAS229_0047_309JCAAXX_8_1_1053:1991\n",
      "10007-C2C12-24h-2PCR-Input.32mers/10007_FC6273_c37_l4.32mers.fastq.bz2\n",
      "@FC6273_070727_USI-EAS44_0012_FC6273_4_1:991:892\n",
      "10007-C2C12-24h-2PCR-Input.32mers/10007_FC6273_c37_l5.32mers.fastq.bz2\n",
      "@FC6273_070727_USI-EAS44_0012_FC6273_5_1:991:723\n",
      "10007-C2C12-24h-2PCR-Input.32mers/10007_FC6273_c37_l6.32mers.fastq.bz2\n",
      "@FC6273_070727_USI-EAS44_0012_FC6273_6_1:248:129\n",
      "10065-C2C12-exp-NRSF.32mers/10065-C2C12-exp-NRSF-70JARAAXX_s_1.32mers.fastq.bz2\n",
      "@ILLUMINA-EC5D15_0044:1:1:2381:1000#0/1\n",
      "10065-C2C12-exp-NRSF.32mers/10065_FC11039_c33_l4.32mers.fastq.bz2\n",
      "@FC11039_071012_USI-EAS44_0025_FC11039_4_1897:762\n",
      "10135-C2C12-exp-2PCR-Input.32mers/10135_309JCAAXX_c37_l7.32mers.fastq.bz2\n",
      "@309JCAAXX_080819_HWI-EAS229_0047_309JCAAXX_7_1_1164:007\n",
      "10135-C2C12-exp-2PCR-Input.32mers/10135_FC12863_c33_l7.32mers.fastq.bz2\n",
      "@FC12863_080125_HWI-EAS229_0014_FC12863_7_001:122:955\n",
      "10135-C2C12-exp-2PCR-Input.32mers/10135_FC12863_c33_l8.32mers.fastq.bz2\n",
      "@FC12863_080125_HWI-EAS229_0014_FC12863_8_001:055:770\n",
      "10150-C2C12-24h-myogenin.32mers/10150_201BGAAXX_c33_l7.32mers.fastq.bz2\n",
      "@201BGAAXX_080212_HWI-EAS229_0016_201BGAAXX_7_1_116:493\n",
      "10150-C2C12-24h-myogenin.32mers/10150_2038CAAXX_c33_l5.32mers.fastq.bz2\n",
      "@2038CAAXX_071221_HWI-EAS229_0007_2038CAAXX_5_1:116:413\n",
      "10150-C2C12-24h-myogenin.32mers/10150_20768AAXX_c33_l1.32mers.fastq.bz2\n",
      "@20768AAXX_080514_HWI-EAS229_0029_20768AAXX_1_1_032:118\n",
      "10150-C2C12-24h-myogenin.32mers/10150_20768AAXX_c33_l2.32mers.fastq.bz2\n",
      "@20768AAXX_080514_HWI-EAS229_0029_20768AAXX_2_1_896:229\n",
      "10150-C2C12-24h-myogenin.32mers/10150_30DTRAAXX_c37_l2.32mers.fastq.bz2\n",
      "@30DTRAAXX_080905_HWI-EAS229_0052_30DTRAAXX_2_001:1210:576\n",
      "10150-C2C12-24h-myogenin.32mers/10150_30DTRAAXX_c37_l3.32mers.fastq.bz2\n",
      "@30DTRAAXX_080905_HWI-EAS229_0052_30DTRAAXX_3_001:1243:340\n",
      "10158-C2C12-60h-myogenin.32mers/10158_2038CAAXX_c33_l3.32mers.fastq.bz2\n",
      "@2038CAAXX_071221_HWI-EAS229_0007_2038CAAXX_3_1:123:741\n",
      "10158-C2C12-60h-myogenin.32mers/10158_30DTRAAXX_c37_l4.32mers.fastq.bz2\n",
      "@30DTRAAXX_080905_HWI-EAS229_0052_30DTRAAXX_4_001:1283:1130\n",
      "10158-C2C12-60h-myogenin.32mers/10158_30DTRAAXX_c37_l5.32mers.fastq.bz2\n",
      "@30DTRAAXX_080905_HWI-EAS229_0052_30DTRAAXX_5_001:607:025\n",
      "10158-C2C12-60h-myogenin.32mers/10158_FC12863_c33_l1.32mers.fastq.bz2\n",
      "@FC12863_080125_HWI-EAS229_0014_FC12863_1_001:116:329\n",
      "10158-C2C12-60h-myogenin.32mers/10158_FC12863_c33_l2.32mers.fastq.bz2\n",
      "@FC12863_080125_HWI-EAS229_0014_FC12863_2_001:540:884\n",
      "10158-C2C12-60h-myogenin.32mers/10158_FC12863_c33_l3.32mers.fastq.bz2\n",
      "@FC12863_080125_HWI-EAS229_0014_FC12863_3_001:114:863\n",
      "10194-C2C12-60h-2PCR-Input.32mers/10194_201BGAAXX_c33_l1.32mers.fastq.bz2\n",
      "@201BGAAXX_080212_HWI-EAS229_0016_201BGAAXX_1_1_041:745\n",
      "10194-C2C12-60h-2PCR-Input.32mers/10194_207B5AAXX_c33_l5.32mers.fastq.bz2\n",
      "@207B5AAXX_080502_HWI-EAS229_0027_207B5AAXX_5_1_092:285\n",
      "10194-C2C12-60h-2PCR-Input.32mers/10194_207B5AAXX_c33_l6.32mers.fastq.bz2\n",
      "@207B5AAXX_080502_HWI-EAS229_0027_207B5AAXX_6_1_621:518\n",
      "10194-C2C12-60h-2PCR-Input.32mers/10194_207B5AAXX_c33_l7.32mers.fastq.bz2\n",
      "@207B5AAXX_080502_HWI-EAS229_0027_207B5AAXX_7_1_090:045\n",
      "10194-C2C12-60h-2PCR-Input.32mers/10194_207B5AAXX_c33_l8.32mers.fastq.bz2\n",
      "@207B5AAXX_080502_HWI-EAS229_0027_207B5AAXX_8_1_318:505\n",
      "10296-C2C12-24h-MyoD.32mers/10296_3055HAAXX_c36_l1.32mers.fastq.bz2\n",
      "@3055HAAXX_080627_HWI-EAS229_0036_3055HAAXX_1_1_1708:219\n",
      "10296-C2C12-24h-MyoD.32mers/10296_30DUKAAXX_c37_l1.32mers.fastq.bz2\n",
      "@30DUKAAXX_080902_HWI-EAS229_0051_30DUKAAXX_1_1_1567:1290\n",
      "10296-C2C12-24h-MyoD.32mers/10296_30DUKAAXX_c37_l2.32mers.fastq.bz2\n",
      "@30DUKAAXX_080902_HWI-EAS229_0051_30DUKAAXX_2_1_1212:578\n",
      "10330-C2C12-24h-H3ac.32mers/10330_309M0AAXX_c36_l5.32mers.fastq.bz2\n",
      "@309M0AAXX_080808_HWI-EAS229_0046_309M0AAXX_5_1_1567:407\n",
      "10330-C2C12-24h-H3ac.32mers/10330_30DUKAAXX_c37_l5.32mers.fastq.bz2\n",
      "@30DUKAAXX_080902_HWI-EAS229_0051_30DUKAAXX_5_1_1717:1093\n",
      "10330-C2C12-24h-H3ac.32mers/10330_30DURAAXX_c37_l5.32mers.fastq.bz2\n",
      "@30DURAAXX_080909_HWI-EAS229_0052_30DURAAXX_5_001:1384:1538\n",
      "10330-C2C12-24h-H3ac.32mers/10330_30DURAAXX_c37_l6.32mers.fastq.bz2\n",
      "@30DURAAXX_080909_HWI-EAS229_0052_30DURAAXX_6_001:1486:1889\n",
      "10331-C2C12-exp-H3ac.32mers/10331_30DUKAAXX_c37_l6.32mers.fastq.bz2\n",
      "@30DUKAAXX_080902_HWI-EAS229_0051_30DUKAAXX_6_1_1677:1096\n",
      "10331-C2C12-exp-H3ac.32mers/10331_30DURAAXX_c37_l7.32mers.fastq.bz2\n",
      "@30DURAAXX_080909_HWI-EAS229_0052_30DURAAXX_7_001:1151:1082\n",
      "10331-C2C12-exp-H3ac.32mers/10331_30DURAAXX_c37_l8.32mers.fastq.bz2\n",
      "@30DURAAXX_080909_HWI-EAS229_0052_30DURAAXX_8_001:1726:1181\n",
      "10333-C2C12-exp-MyoD.32mers/10333_309M0AAXX_c36_l8.32mers.fastq.bz2\n",
      "@309M0AAXX_080808_HWI-EAS229_0046_309M0AAXX_8_1_222:016\n",
      "10333-C2C12-exp-MyoD.32mers/10333_30DURAAXX_c37_l1.32mers.fastq.bz2\n",
      "@30DURAAXX_080909_HWI-EAS229_0052_30DURAAXX_1_001:1496:1584\n",
      "10333-C2C12-exp-MyoD.32mers/10333_30DURAAXX_c37_l2.32mers.fastq.bz2\n",
      "@30DURAAXX_080909_HWI-EAS229_0052_30DURAAXX_2_001:1646:1704\n",
      "10335-C2C12-24h-SRF.32mers/10335_309JCAAXX_c37_l5.32mers.fastq.bz2\n",
      "@309JCAAXX_080819_HWI-EAS229_0047_309JCAAXX_5_1_984:187\n",
      "10335-C2C12-24h-SRF.32mers/10335_309JCAAXX_c37_l6.32mers.fastq.bz2\n",
      "@309JCAAXX_080819_HWI-EAS229_0047_309JCAAXX_6_1_216:009\n",
      "10335-C2C12-24h-SRF.32mers/10335_309M0AAXX_c36_l7.32mers.fastq.bz2\n",
      "@309M0AAXX_080808_HWI-EAS229_0046_309M0AAXX_7_1_766:1777\n",
      "10409-C2C12-72h-E2A.32mers/10409_30DUHAAXX_c37_l1.32mers.fastq.bz2\n",
      "@30DUHAAXX_080917_HWI-EAS229_0056_30DUHAAXX_1_1_615:062\n",
      "10409-C2C12-72h-E2A.32mers/10409_30DUHAAXX_c37_l2.32mers.fastq.bz2\n",
      "@30DUHAAXX_080917_HWI-EAS229_0056_30DUHAAXX_2_1_1216:127\n",
      "10481-C2C12-60h-MyoD.32mers/10481-C2C12-60h-MyoD-70JARAAXX_s_2.32mers.fastq.bz2\n",
      "@ILLUMINA-EC5D15_0044:2:1:1337:1019#0/1\n",
      "10481-C2C12-60h-MyoD.32mers/10481-woldlab_081017_HWI-EAS229_0062_30J55AAXX_1.32mers.fastq.bz2\n",
      "@081017_HWI-EAS229_0062_30J55AAXX_1_1_000:374\n",
      "10502-C2C12-exp-H3K27me3.32mers/10502_30J4DAAXX_c37_l1.32mers.fastq.bz2\n",
      "@30J4DAAXX_081031_HWI-EAS229_0065_30J4DAAXX_1_1_1680:1242\n",
      "10502-C2C12-exp-H3K27me3.32mers/10502_30M18AAXX_c37_l7.32mers.fastq.bz2\n",
      "@30M18AAXX_081121_HWI-EAS229_0076_30M18AAXX_7_1_000:497\n",
      "10502-C2C12-exp-H3K27me3.32mers/10502_30M18AAXX_c37_l8.32mers.fastq.bz2\n",
      "@30M18AAXX_081121_HWI-EAS229_0076_30M18AAXX_8_1_000:182\n",
      "10506-C2C12-60h-CTCF.32mers/10506_30J4EAAXX_c37_l7.32mers.fastq.bz2\n",
      "@30J4EAAXX_081104_HWI-EAS229_0066_30J4EAAXX_7_1_000:198\n",
      "10506-C2C12-60h-CTCF.32mers/10506_30L4AAXX_c37_l3.32mers.fastq.bz2\n",
      "@30L4AAXX_081107_HWI-EAS229_0067_30L4AAXX_3_1_000:474\n",
      "10536-C2C12-60h-H3K27me3.32mers/10536_30HYAAAXX_c37_l7.32mers.fastq.bz2\n",
      "@30HYAAAXX_081125_HWI-EAS229_0077_30HYAAAXX_7_1_000:1295\n",
      "10536-C2C12-60h-H3K27me3.32mers/10536_30VR5AAXX_c37_l8.32mers.fastq.bz2\n",
      "@30VR5AAXX_090127_HWI-EAS229_0088_30VR5AAXX_8_1_000:378\n",
      "10536-C2C12-60h-H3K27me3.32mers/10536_30VRPAAXX_c37_l1.32mers.fastq.bz2\n",
      "@30VRPAAXX_090123_HWI-EAS229_0087_30VRPAAXX_1_1_000:1035\n",
      "10587-C2C12-60h-MEF2-GA.32mers/10587-woldlab_090109_HWI-EAS229_0084_30J60AAXX_3.32mers.fastq.bz2\n",
      "@090109_HWI-EAS229_0084_30J60AAXX_3_1_000:957\n",
      "10587-C2C12-60h-MEF2-GA.32mers/10587-woldlab_090114_HWI-EAS229_0085_30VR6AAXX_8.32mers.fastq.bz2\n",
      "@090114_HWI-EAS229_0085_30VR6AAXX_8_1_000:129\n",
      "10599-C2C12-exp-myogenin.32mers/10599_30VRPAAXX_c37_l2.32mers.fastq.bz2\n",
      "@30VRPAAXX_090123_HWI-EAS229_0087_30VRPAAXX_2_1_000:1409\n",
      "10599-C2C12-exp-myogenin.32mers/10599_30VTCAAXX_c37_l6.32mers.fastq.bz2\n",
      "@30VTCAAXX_HWI-EAS229_86:6:1:0:235\n",
      "10617-C2C12-60h-GA-2PCR-Input.32mers/10617_30VR4AAXX_c37_l7.32mers.fastq.bz2\n",
      "@30VR4AAXX_090203_HWI-EAS229_0089_30VR4AAXX_7_1_000:217\n",
      "10617-C2C12-60h-GA-2PCR-Input.32mers/10617_30VR4AAXX_c37_l8.32mers.fastq.bz2\n",
      "@30VR4AAXX_090203_HWI-EAS229_0089_30VR4AAXX_8_1_000:1067\n",
      "10703-C2C12-60h-Pol2pS2.32mers/10703_C2C12-60h-Pol2pS2-30VU4AAXX_c37_l5.32mers.fastq.bz2\n",
      "@30VU4AAXX_HWI-EAS229_95:5:1:1167:333\n",
      "10703-C2C12-60h-Pol2pS2.32mers/10703_C2C12-60h-Pol2pS2-30VU4AAXX_c37_l6.32mers.fastq.bz2\n",
      "@30VU4AAXX_HWI-EAS229_95:6:1:1610:772\n",
      "10704-C2C12-60h-8WG16.32mers/10704_C2C12-60h-8WG16-30VU4AAXX_c37_l7.32mers.fastq.bz2\n",
      "@30VU4AAXX_HWI-EAS229_95:7:1:185:569\n",
      "10704-C2C12-60h-8WG16.32mers/10704_C2C12-60h-8WG16-30VU4AAXX_c37_l8.32mers.fastq.bz2\n",
      "@30VU4AAXX_HWI-EAS229_95:8:1:1706:7\n",
      "10993-C2C12-60h-TAF1.36mers/10993-C2C12-60h-4pFA-TAF1-42BRJAAXX_c37_l3.36mers.fastq.bz2\n",
      "@42BRJAAXX_HWI-EAS229_1:3:1:0:1467\n",
      "10993-C2C12-60h-TAF1.36mers/10993-C2C12-60h-4pFA-TAF1-42BW0AAXX_c38_l7.36mers.fastq.bz2\n",
      "@42BW0AAXX_HWUSI-EAS627_1:7:1:0:1945\n",
      "11028-C2C12-exp-4pFA-2PCR-Input.36mers/11028_C2C12-exp-4pFA-2PCR-Input-42B34AAXX_c76_l3_r1.36mers.fastq.bz2\n",
      "@42B34AAXX_HWUSI-EAS627_1:3:1:0:582/1\n",
      "11028-C2C12-exp-4pFA-2PCR-Input.36mers/11028_C2C12-exp-4pFA-2PCR-Input-42B34AAXX_c76_l3_r2.36mers.fastq.bz2\n",
      "@42B34AAXX_HWUSI-EAS627_1:3:1:0:582/2\n",
      "11029-C2C12-60h-4pFA+GA-2PCR-Input.36mers/11029_C2C12-60h-4pFA+GA-2PCR-Input-42B34AAXX_c76_l4_r1.36mers.fastq.bz2\n",
      "@42B34AAXX_HWUSI-EAS627_1:4:1:0:1005/1\n",
      "11029-C2C12-60h-4pFA+GA-2PCR-Input.36mers/11029_C2C12-60h-4pFA+GA-2PCR-Input-42B34AAXX_c76_l4_r2.36mers.fastq.bz2\n",
      "@42B34AAXX_HWUSI-EAS627_1:4:1:0:1005/2\n",
      "11030-C2C12-60h-4pFA-2PCR-Input.36mers/11030_C2C12-60h-4pFA-2PCR-Input-42B34AAXX_c76_l5_r1.36mers.fastq.bz2\n",
      "@42B34AAXX_HWUSI-EAS627_1:5:1:0:1314/1\n",
      "11030-C2C12-60h-4pFA-2PCR-Input.36mers/11030_C2C12-60h-4pFA-2PCR-Input-42B34AAXX_c76_l5_r2.36mers.fastq.bz2\n",
      "@42B34AAXX_HWUSI-EAS627_1:5:1:0:1314/2\n",
      "11565-C2C12-exp-FOSL1.36mers/11565_C2C12-exp-FOSL1-61MMVAAXX_c38_l8.36mers.fastq.bz2\n",
      "@61MMVAAXX_HWI-EAS229_0006:8:1:991:16236/1\n",
      "11610-C2C12-60h-Input.36mers/11610-C2C12-60h-Input-61MH7AAXX_c38_l5.36mers.fastq.bz2\n",
      "@61MH7AAXX_HWI-EAS229_0009:5:1:995:20977/1\n",
      "11610-C2C12-60h-Input.50mers/11610-C2C12-60h-Input-adaptor-4-FC80GWA_s_1.fastq.bz2\n",
      "@HWI-ST501_0039:1:1:1433:1980#TGACCA/1\n",
      "11612-C2C12-exp-Input.36mers/C2C12_1PCR-Input_exp_11612_1pFA-61MH7AAXX_l6_r1.36mers.fastq.bz2\n",
      "@HWI-EAS229_0009:6:1:981:17590/1\n",
      "11612-C2C12-exp-Input.50mers/11612-C2C12-Input-exp-adaptor-1-FC80GWA_s_1.fastq.bz2\n",
      "@HWI-ST501_0039:1:1:1629:1986#ATCACG/1\n",
      "11637-C2C12-60h-Input.50mers/11637-C2C12-60h-Input-adaptor-9-FC80GWA_s_1.fastq.bz2\n",
      "@HWI-ST501_0039:1:1:1280:1999#GATCAG/1\n",
      "11638-C2C12-exp-Input.50mers/11638-C2C12-exp-Input-adaptor-10-FC80GWA_s_1.fastq.bz2\n",
      "@HWI-ST501_0039:1:1:1336:1987#TAGCTT/1\n",
      "11644-C2C12-60h-USF1.50mers/11644-C2C12-60h-USF1-adaptor-6-FC80GWA_s_3.fastq.bz2\n",
      "@HWI-ST501_0039:3:1:1428:1985#GCCAAT/1\n",
      "11653-C2C12-60h-CEBPb.50mers/11653-C2C12-60h-CEBPb-adaptor-1-FC81CNN_s_4.fastq.bz2\n",
      "@HWI-ST661_0041:4:1:1208:2085#ATCACG/1\n",
      "11669-C2C12-60h-H3K79me2.50mers/11669-C2C12-60h-H3K79me2-adaptor-2-FC80GWA_s_3.fastq.bz2\n",
      "@HWI-ST501_0039:3:1:1391:1999#CGATGT/1\n",
      "11670-C2C12-exp-Input.50mers/11670-C2C12-exp-Input-adaptor-9-FC80GWA_s_3.fastq.bz2\n",
      "@HWI-ST501_0039:3:1:2010:1986#GATCAG/1\n",
      "11682-C2C12-60h-Max.50mers/11682-C2C12-60h-Max-adaptor-7-FC80GWA_s_4.fastq.bz2\n",
      "@HWI-ST501_0039:4:1:1616:1983#CAGATC/1\n",
      "11697-C2C12-60h-H3k36me3.50mers/11697-C2C12-60h-H3k36me3-adaptor-6-FC80GWA_s_5.fastq.bz2\n",
      "@HWI-ST501_0039:5:1:2847:1994#GCCAAT/1\n",
      "11718-C2C12-60h-E2F4.50mers/11718-C2C12-60h-E2F4-adaptor-3-FC81CNN_s_4.fastq.bz2\n",
      "@HWI-ST661_0041:4:1:1243:2084#TTAGGC/1\n",
      "11719-C2C12-60h-HEB.50mers/11719-C2C12-60h-HEB-adaptor-1-FC80GWA_s_6.fastq.bz2\n",
      "@HWI-ST501_0039:6:1:2282:1999#ATCACG/1\n",
      "11832-C2C12-60h-H3K4me2.50mers/11832-C2C12-60h-H3K4me2-adaptor-3-FC80GWA_s_6.fastq.bz2\n",
      "@HWI-ST501_0039:6:1:2557:1997#TTAGGC/1\n",
      "11847-C2C12-60h-CEBPb.50mers/11847-C2C12-60h-CEBPb-adaptor-6-FC80GWA_s_7.fastq.bz2\n",
      "@HWI-ST501_0039:7:1:1809:1990#GCCAAT/1\n",
      "11905-C2C12-exp-H3K36me3.50mers/11905-C2C12-exp-H3K36me3-adaptor-3-FC8082C_s_2.fastq.bz2\n",
      "@HWI-ST501_0041:2:1:1729:2034#TTAGGC/1\n",
      "11906-C2C12-exp-H3K79me2.50mers/11906-C2C12-exp-H3K79me2-adaptor-6-FC81CNN_s_5.fastq.bz2\n",
      "@HWI-ST661_0041:5:1:1150:2149#GCCAAT/1\n",
      "11907-C2C12-exp-H3K79me3.50mers/11907-C2C12-exp-H3K79me3-adaptor-7-FC80GWA_s_8.fastq.bz2\n",
      "@HWI-ST501_0039:8:1:1438:2071#CAGATC/1\n",
      "11923-C2C12-exp-USF1.50mers/11923-C2C12-exp-USF1-adaptor-10-FC80GWA_s_8.fastq.bz2\n",
      "@HWI-ST501_0039:8:1:1471:2007#TAGCTT/1\n",
      "11924-C2C12-exp-Max.50mers/11924-C2C12-exp-Max-adaptor-3-FC81CNN_s_5.fastq.bz2\n",
      "@HWI-ST661_0041:5:1:1153:2085#TTAGGC/1\n",
      "11926-C2C12-7d-MyoD.50mers/11926-C2C12-7d-MYOD-adaptor-1-FC8082C_s_4.fastq.bz2\n",
      "@HWI-ST501_0041:4:1:1812:2077#ATCACG/1\n",
      "11927-C2C12-7d-myogenin.50mers/11927-C2C12-7d-myogenin-adaptor-2-FC81CNN_s_5.fastq.bz2\n",
      "@HWI-ST661_0041:5:1:1218:2043#CGATGT/1\n",
      "11942-C2C12-exp-CEBPb.50mers/11942-C2C12-exp-CEBPb-adaptor-12-FC8082C_s_2.fastq.bz2\n",
      "@HWI-ST501_0041:2:1:1315:2053#CTTGTA/1\n",
      "11956-C2C12-exp-H3K4me3.50mers/11956-C2C12-exp-H3K4me3-adaptor-1-FC81CNN_s_6.fastq.bz2\n",
      "@HWI-ST661_0041:6:1:1144:2074#ATCACG/1\n",
      "11957-C2C12-60h-H3K4me3.50mers/11957-C2C12-60h-H3K4me3-adaptor-2-FC8082C_s_8.fastq.bz2\n",
      "@HWI-ST501_0041:8:1:1222:2128#CGATGT/1\n",
      "\"\"\".split('\\n')"
     ],
     "language": "python",
     "metadata": {},
     "outputs": [],
     "prompt_number": 3
    },
    {
     "cell_type": "markdown",
     "metadata": {},
     "source": [
      "Parse the above list into something I can use, and also make sure there are no read id collisions."
     ]
    },
    {
     "cell_type": "code",
     "collapsed": false,
     "input": [
      "georgi_reads = {}\n",
      "for name, read in zip(georgis_files[0::2], georgis_files[1::2]):\n",
      "    if read not in georgi_reads:\n",
      "        georgi_reads[read] = name\n",
      "    else:\n",
      "        print(name, read, \"is a collision\")"
     ],
     "language": "python",
     "metadata": {},
     "outputs": [],
     "prompt_number": 4
    },
    {
     "cell_type": "heading",
     "level": 1,
     "metadata": {},
     "source": [
      "Import Datasets from ENCODED"
     ]
    },
    {
     "cell_type": "markdown",
     "metadata": {},
     "source": [
      "Query to grab all ENCODE2 experiments. This turned out to be unecessary at this point."
     ]
    },
    {
     "cell_type": "code",
     "collapsed": false,
     "input": [
      "#result = server.search_jsonld(\n",
      "#    **{'type': 'experiment', \n",
      "#       'lab.title': 'Barbara Wold, Caltech',\n",
      "#       'award.rfa': 'ENCODE2'})"
     ],
     "language": "python",
     "metadata": {},
     "outputs": [],
     "prompt_number": 5
    },
    {
     "cell_type": "markdown",
     "metadata": {},
     "source": [
      "Experiments listed in <a href=\"http://redmine.encodedcc.org/issues/2662\">redmine:2662</a>."
     ]
    },
    {
     "cell_type": "code",
     "collapsed": false,
     "input": [
      "ticket_list = set([\n",
      "  'https://www.encodeproject.org/experiments/ENCSR000AJN',\n",
      "  'https://www.encodeproject.org/experiments/ENCSR000AJO',\n",
      "  'https://www.encodeproject.org/experiments/ENCSR000AJP',\n",
      "  'https://www.encodeproject.org/experiments/ENCSR000AJQ',\n",
      "  'https://www.encodeproject.org/experiments/ENCSR000AJR',\n",
      "  'https://www.encodeproject.org/experiments/ENCSR000AJS',\n",
      "  'https://www.encodeproject.org/experiments/ENCSR000AJT',\n",
      "\n",
      "  # experiments linked to ENCBS127ENC added\n",
      "  # because I'm lookint to see whats attached to library \n",
      "  # ENCLB338ZZZ\n",
      "  #'https://www.encodeproject.org/experiments/ENCSR000AIA',\n",
      "  #'https://www.encodeproject.org/experiments/ENCSR000AIU',\n",
      "  #'https://www.encodeproject.org/experiments/ENCSR000AIN',\n",
      "  #'https://www.encodeproject.org/experiments/ENCSR000AJR',\n",
      "  #'https://www.encodeproject.org/experiments/ENCSR000AJT',\n",
      "  #'https://www.encodeproject.org/experiments/ENCSR000AIC',\n",
      "  #'https://www.encodeproject.org/experiments/ENCSR000AIX',\n",
      "  #'https://www.encodeproject.org/experiments/ENCSR000AIE',\n",
      "  #'https://www.encodeproject.org/experiments/ENCSR000AIH',\n",
      "  #'https://www.encodeproject.org/experiments/ENCSR000AIB',\n",
      "  #'https://www.encodeproject.org/experiments/ENCSR000AJR',\n",
      "  #'https://www.encodeproject.org/experiments/ENCSR000AHN',\n",
      "  #'https://www.encodeproject.org/experiments/ENCSR000AHT',\n",
      "  #'https://www.encodeproject.org/experiments/ENCSR000AJS',\n",
      "  #'https://www.encodeproject.org/experiments/ENCSR000AHS',\n",
      "  #'https://www.encodeproject.org/experiments/ENCSR000AIL',\n",
      "  #'https://www.encodeproject.org/experiments/ENCSR000AHM',\n",
      "  #'https://www.encodeproject.org/experiments/ENCSR000AIS',\n",
      "  #'https://www.encodeproject.org/experiments/ENCSR000AHV',\n",
      "  #'https://www.encodeproject.org/experiments/ENCSR000AII',\n",
      "])"
     ],
     "language": "python",
     "metadata": {},
     "outputs": [],
     "prompt_number": 6
    },
    {
     "cell_type": "code",
     "collapsed": false,
     "input": [
      "#to_check = sorted(ticket_list + ['https://www.encodeproject.org'+x['@id'] for x in result['@graph']])\n",
      "#to_check\n",
      "to_check = ticket_list"
     ],
     "language": "python",
     "metadata": {},
     "outputs": [],
     "prompt_number": 7
    },
    {
     "cell_type": "code",
     "collapsed": false,
     "input": [
      "model = get_model()\n",
      "for i, experiment_id in enumerate(to_check):\n",
      "    print('loading', experiment_id, i + 1 , 'of', len(to_check))\n",
      "    experiment = server.get_jsonld(experiment_id)\n",
      "    load_jsonld_into_model(model, experiment)"
     ],
     "language": "python",
     "metadata": {},
     "outputs": [
      {
       "output_type": "stream",
       "stream": "stdout",
       "text": [
        "loading https://www.encodeproject.org/experiments/ENCSR000AJN 1 of 7\n",
        "loading"
       ]
      },
      {
       "output_type": "stream",
       "stream": "stdout",
       "text": [
        " https://www.encodeproject.org/experiments/ENCSR000AJO 2 of 7\n",
        "loading"
       ]
      },
      {
       "output_type": "stream",
       "stream": "stdout",
       "text": [
        " https://www.encodeproject.org/experiments/ENCSR000AJP 3 of 7\n",
        "loading"
       ]
      },
      {
       "output_type": "stream",
       "stream": "stdout",
       "text": [
        " https://www.encodeproject.org/experiments/ENCSR000AJQ 4 of 7\n",
        "loading"
       ]
      },
      {
       "output_type": "stream",
       "stream": "stdout",
       "text": [
        " https://www.encodeproject.org/experiments/ENCSR000AJR 5 of 7\n",
        "loading"
       ]
      },
      {
       "output_type": "stream",
       "stream": "stdout",
       "text": [
        " https://www.encodeproject.org/experiments/ENCSR000AJS 6 of 7\n",
        "loading"
       ]
      },
      {
       "output_type": "stream",
       "stream": "stdout",
       "text": [
        " https://www.encodeproject.org/experiments/ENCSR000AJT 7 of 7\n"
       ]
      }
     ],
     "prompt_number": 8
    },
    {
     "cell_type": "heading",
     "level": 1,
     "metadata": {},
     "source": [
      "Munge data to link DCC libraries, read IDs, flowcell/lanes and jumpgate libraries."
     ]
    },
    {
     "cell_type": "code",
     "collapsed": false,
     "input": [
      "%%sparql -m model -o file_href_to_wold\n",
      "select ?dataset ?file_accession ?href ?bio ?tech ?file_format ?aliases ?library\n",
      "where {\n",
      "  ?file_accession a file:file ;\n",
      "     file:replicate ?rep ;\n",
      "     file:href ?href ;\n",
      "     file:dataset ?dataset ;\n",
      "     file:file_format ?file_format .\n",
      "  OPTIONAL { ?rep replicate:library ?library ;\n",
      "                  replicate:biological_replicate_number ?bio ;\n",
      "                  replicate:technical_replicate_number ?tech .\n",
      "             OPTIONAL { ?library library:aliases ?aliases . } }\n",
      "  FILTER(regex(\"fastq\", ?file_format, \"i\"))\n",
      "}\n",
      "order by ?dataset ?bio ?tech ?file_format"
     ],
     "language": "python",
     "metadata": {},
     "outputs": [],
     "prompt_number": 9
    },
    {
     "cell_type": "code",
     "collapsed": false,
     "input": [
      "import validate_encode3_aliases\n",
      "reload(validate_encode3_aliases)\n",
      "FlowcellLookup = validate_encode3_aliases.CheckDCCWoldAlias(server)"
     ],
     "language": "python",
     "metadata": {},
     "outputs": [],
     "prompt_number": 10
    },
    {
     "cell_type": "code",
     "collapsed": false,
     "input": [
      "import shelve\n",
      "fastq_header_cache = shelve.open('encode2-headers.shelf', writeback=True)"
     ],
     "language": "python",
     "metadata": {},
     "outputs": [],
     "prompt_number": 11
    },
    {
     "cell_type": "code",
     "collapsed": false,
     "input": [
      "_ = FlowcellLookup.load_fastq_headers(fastq_header_cache, file_href_to_wold)"
     ],
     "language": "python",
     "metadata": {},
     "outputs": [
      {
       "output_type": "stream",
       "stream": "stdout",
       "text": [
        "loading: https://www.encodeproject.org/files/ENCFF001IEU/@@download/ENCFF001IEU.fastq.gz 18/19\n"
       ]
      }
     ],
     "prompt_number": 12
    },
    {
     "cell_type": "code",
     "collapsed": false,
     "input": [
      "for href in fastq_header_cache:\n",
      "    header = fastq_header_cache[href]['header']\n",
      "    read_id = FlowcellLookup.parse_read_id(header)\n",
      "    if not read_id:\n",
      "        path, filename = os.path.split(georgi_reads.get(header))\n",
      "        # this table was made by running this script and looking at the header to filenames\n",
      "        # printed out by looking in the georgi_reads map\n",
      "        read_id = {'11612-C2C12-Input-exp-adaptor-1-FC80GWA_s_1.fastq.bz2': ('FC80GWA', '1', 'ATCACG'),\n",
      "                   '11612-C2C12-Input-exp-adaptor-1-FC80GWA_s_1.fastq.bz2': ('FC80GWA', '1', 'ATCACG'),\n",
      "                   'C2C12_1PCR-Input_exp_11612_1pFA-61MH7AAXX_l6_r1.36mers.fastq.bz2': ('61MH7AAXX', '6'),\n",
      "                   '11637-C2C12-60h-Input-adaptor-9-FC80GWA_s_1.fastq.bz2': ('FC80GWA', '1', 'GATCAG'),\n",
      "                   '11638-C2C12-exp-Input-adaptor-10-FC80GWA_s_1.fastq.bz2': ('FC80GWA', '1', 'TAGCTT'),\n",
      "                   '11670-C2C12-exp-Input-adaptor-9-FC80GWA_s_3.fastq.bz2': ('FC80GWA', '3', 'GATCAG'),\n",
      "                   '11610-C2C12-60h-Input-adaptor-4-FC80GWA_s_1.fastq.bz2': ('FC80GWA', '1', 'TGACCA'),\n",
      "                   '11610-C2C12-60h-Input-61MH7AAXX_c38_l5.36mers.fastq.bz2': ('61MH7AAXX', '5'),\n",
      "                   \n",
      "                   # More addeded because of adding biosample ENCBS127ENC\n",
      "                   '11957-C2C12-60h-H3K4me3-adaptor-2-FC8082C_s_8.fastq.bz2': ('FC8082C', '8', 'CGATGT'),\n",
      "                   '10703_C2C12-60h-Pol2pS2-30VU4AAXX_c37_l5.32mers.fastq.bz2': ('30VU4AAXX', '5'),\n",
      "                   '11669-C2C12-60h-H3K79me2-adaptor-2-FC80GWA_s_3.fastq.bz2': ('FC80GWA', '3', 'CGATGT'),\n",
      "                   '11847-C2C12-60h-CEBPb-adaptor-6-FC80GWA_s_7.fastq.bz2': ('FC80GWA', '7', 'GCCAAT'),\n",
      "                   '11682-C2C12-60h-Max-adaptor-7-FC80GWA_s_4.fastq.bz2': ('FC80GWA', '4', 'CAGATC'),\n",
      "                   '10481-C2C12-60h-MyoD-70JARAAXX_s_2.32mers.fastq.bz2': ('70JARAXX', '2'),\n",
      "                   '11644-C2C12-60h-USF1-adaptor-6-FC80GWA_s_3.fastq.bz2': ('FC80GWA', '3', 'GCCAAT'),\n",
      "                   '11832-C2C12-60h-H3K4me2-adaptor-3-FC80GWA_s_6.fastq.bz2': ('FC80GWA', '6', 'TTAGGC'),\n",
      "                   '11718-C2C12-60h-E2F4-adaptor-3-FC81CNN_s_4.fastq.bz2': ('FC81CNN', '4', 'TTAGGC'),\n",
      "                   '10065-C2C12-exp-NRSF-70JARAAXX_s_1.32mers.fastq.bz2': ('70JARAAXX', '1'),\n",
      "                   '11719-C2C12-60h-HEB-adaptor-1-FC80GWA_s_6.fastq.bz2': ('FC80GWA', '6', 'ATCACG'),\n",
      "                   '11697-C2C12-60h-H3k36me3-adaptor-6-FC80GWA_s_5.fastq.bz2': ('FC80GWA', '5', 'GCCAAT'),\n",
      "                   '11653-C2C12-60h-CEBPb-adaptor-1-FC81CNN_s_4.fastq.bz2': ('FC81CNN', '4', 'GCCAAT'),\n",
      "                   '10704_C2C12-60h-8WG16-30VU4AAXX_c37_l7.32mers.fastq.bz2': ('30VU4AAXX', '7'),\n",
      "                   '10703_C2C12-60h-Pol2pS2-30VU4AAXX_c37_l6.32mers.fastq.bz2': ('30VU4AAXX', '6'),\n",
      "                   '10704_C2C12-60h-8WG16-30VU4AAXX_c37_l8.32mers.fastq.bz2': ('30VU4AAXX', '8'),\n",
      "                  }.get(filename)\n",
      "\n",
      "    if not read_id:\n",
      "        print('Unable to parse: {}'.format(header))\n",
      "        print('               : {}'.format(href))\n",
      "        print('               : {}'.format(georgi_reads.get(header)))\n",
      "    else:\n",
      "        fastq_header_cache[href]['read_id'] = read_id\n",
      "    fastq_header_cache.sync()"
     ],
     "language": "python",
     "metadata": {},
     "outputs": [],
     "prompt_number": 13
    },
    {
     "cell_type": "code",
     "collapsed": false,
     "input": [
      "import django\n",
      "if not 'DJANGO_SETTINGS_MODULE' in os.environ:\n",
      "    os.environ['DJANGO_SETTINGS_MODULE'] = 'htsworkflow.settings.myrada'\n",
      "django.setup()\n",
      "\n",
      "from samples.models import Library\n",
      "from experiments.models import FlowCell\n",
      "import collections"
     ],
     "language": "python",
     "metadata": {},
     "outputs": [],
     "prompt_number": 14
    },
    {
     "cell_type": "code",
     "collapsed": false,
     "input": [
      "def get_library_from_aliases(aliases):\n",
      "    if aliases is None or aliases == 'None':\n",
      "        return\n",
      "    \n",
      "    header, library_id = aliases.split(':')\n",
      "    if header != 'barbara-wold':\n",
      "        print(\"warning: {}\".format(aliases))  \n",
      "        \n",
      "    library = Library.objects.get(id=library_id)\n",
      "    if library is None:\n",
      "        print(\"Couldn't find {}\".format(library_id))\n",
      "        \n",
      "    return library\n",
      "    \n",
      "def get_barcode(library):\n",
      "    if library is None:\n",
      "        return\n",
      "    \n",
      "    barcode = None\n",
      "    indexes = library.index_sequences()\n",
      "    if indexes is not None:\n",
      "        if isinstance(indexes, basestring):\n",
      "            barcode = None\n",
      "        else:\n",
      "            barcode = indexes.values()[0]\n",
      "    return barcode\n",
      "\n",
      "    lanes = library.lane_set.all()\n",
      "\n",
      "def get_library_lanes(library):\n",
      "    if library is None:\n",
      "        return\n",
      "    \n",
      "    return library.lane_set.all()\n",
      "\n",
      "FakeFlowcell = collections.namedtuple(\"FakeFlowcell\", \"flowcell_id\")\n",
      "FakeLane = collections.namedtuple(\"FakeLane\", \"flowcell lane_number library_id barcode\")\n",
      "\n",
      "def get_flowcell_lanes_from_read_id(read_id):\n",
      "    if read_id is None:\n",
      "        return\n",
      "    \n",
      "    if len(fastq['read_id']) == 3:\n",
      "        flowcell_id, lane_id, barcode = fastq['read_id']\n",
      "    else:\n",
      "        flowcell_id, lane_id = fastq['read_id']\n",
      "        \n",
      "    try:\n",
      "        flowcell = FlowCell.objects.get(flowcell_id=flowcell_id)\n",
      "        lanes = flowcell.lane_set.filter(lane_number=lane_id)\n",
      "        return lanes\n",
      "    except FlowCell.DoesNotExist:       \n",
      "        lanes = {\n",
      "           ('FC80GWA', '1', 'ATCACG'): FakeLane(FakeFlowcell('FC80GWA'), '1', '11612', 'ATCACG'),\n",
      "           ('FC80GWA', '1', 'GATCAG'): FakeLane(FakeFlowcell('FC80GWA'), '1', '11637', 'GATCAG'),\n",
      "           ('FC80GWA', '1', 'TAGCTT'): FakeLane(FakeFlowcell('FC80GWA'), '1', '11638', 'TAGCTT'),\n",
      "           ('FC80GWA', '3', 'GATCAG'): FakeLane(FakeFlowcell('FC80GWA'), '3', '11670', 'GATCAG'),\n",
      "           ('FC80GWA', '1', 'TGACCA'): FakeLane(FakeFlowcell('FC80GWA'), '1', '11610', 'TGACCA'),\n",
      "        }.get(fastq['read_id'])\n",
      "        if lanes:\n",
      "            return [lanes]\n",
      "        \n",
      "        print(\"Can't find {}\".format(read_id))\n",
      "\n",
      "def get_library_id_from_lanes(lanes):\n",
      "    if lanes is None:\n",
      "        return\n",
      "    \n",
      "    libraries = set()\n",
      "    for lane in lanes:\n",
      "        libraries.add(lane.library_id)\n",
      "    return libraries"
     ],
     "language": "python",
     "metadata": {},
     "outputs": [],
     "prompt_number": 15
    },
    {
     "cell_type": "code",
     "collapsed": false,
     "input": [
      "report = []\n",
      "for href in fastq_header_cache:\n",
      "    fastq = fastq_header_cache[href]\n",
      "    library = get_library_from_aliases(fastq['aliases'])\n",
      "    barcode = get_barcode(library)\n",
      "    library_lanes = get_library_lanes(library)\n",
      "    \n",
      "    flowcell_lanes = get_flowcell_lanes_from_read_id(fastq.get('read_id', None))\n",
      "    \n",
      "    flowcell = None\n",
      "    lane_id = None\n",
      "    if flowcell_lanes:\n",
      "        flowcell = flowcell_lanes[0].flowcell.flowcell_id\n",
      "        lane_id = flowcell_lanes[0].lane_number\n",
      "        if isinstance(flowcell_lanes[0], FakeLane)and not barcode:\n",
      "            barcode = flowcell_lanes[0].barcode\n",
      "        \n",
      "    #print(library_lanes, flowcell_lanes)\n",
      "    library_library_id_set = get_library_id_from_lanes(library_lanes)\n",
      "    flowcell_library_id_set = get_library_id_from_lanes(flowcell_lanes)\n",
      "    \n",
      "    if library is None:        \n",
      "        library = Library.objects.get(id=next(iter(flowcell_library_id_set)))\n",
      "    \n",
      "    #fc_is_known = flowcell in [f.flowcell.flowcell_id for f in library.lane_set.all()]\n",
      "    #if not fc_is_known:\n",
      "    #    unknown_flowcells.add(flowcell)\n",
      "    \n",
      "    #make sure there's a link between dcc library and our best alias\n",
      "    if fastq.get('library') != 'None':\n",
      "        s = RDF.Statement(\n",
      "                RDF.Node(RDF.Uri(fastq.get('library'))), \n",
      "                RDF.Node(RDF.Uri(\"http://jumpgate.caltech.edu/wiki/LibraryOntology#library\")),\n",
      "                RDF.Node(RDF.Uri(\"http://jumpgate.caltech.edu/library/{}/\".format(library.id))))\n",
      "        model.append(s)\n",
      "        print        (fastq.get('library'))\n",
      "    report.append({'dataset': fastq.get('dataset'),\n",
      "                   'library': fastq.get('library'),\n",
      "                   'href': href, \n",
      "                   'short': href[-20:-len('.fastq.gz')],\n",
      "                   'flowcell': flowcell, \n",
      "                   'lane_id': lane_id, \n",
      "                   'barcode': barcode, \n",
      "                   'lib_library_id': library_library_id_set,\n",
      "                   'fc_library_id': flowcell_library_id_set,\n",
      "                   'header': fastq['header'],\n",
      "                   'name': library.library_name})\n"
     ],
     "language": "python",
     "metadata": {},
     "outputs": [
      {
       "output_type": "stream",
       "stream": "stdout",
       "text": [
        "https://www.encodeproject.org/libraries/ENCLB372ZZZ/\n",
        "https://www.encodeproject.org/libraries/ENCLB370ZZZ/\n",
        "https://www.encodeproject.org/libraries/ENCLB372ZZZ/\n",
        "https://www.encodeproject.org/libraries/ENCLB372ZZZ/\n",
        "https://www.encodeproject.org/libraries/ENCLB371ZZZ/\n",
        "https://www.encodeproject.org/libraries/ENCLB370ZZZ/\n",
        "https://www.encodeproject.org/libraries/ENCLB507FSU/\n",
        "https://www.encodeproject.org/libraries/ENCLB715BMJ/"
       ]
      },
      {
       "output_type": "stream",
       "stream": "stdout",
       "text": [
        "\n",
        "https://www.encodeproject.org/libraries/ENCLB374ZZZ/\n",
        "https://www.encodeproject.org/libraries/ENCLB374ZZZ/\n",
        "https://www.encodeproject.org/libraries/ENCLB372ZZZ/\n",
        "https://www.encodeproject.org/libraries/ENCLB374ZZZ/\n",
        "https://www.encodeproject.org/libraries/ENCLB374ZZZ/\n",
        "https://www.encodeproject.org/libraries/ENCLB371ZZZ/"
       ]
      },
      {
       "output_type": "stream",
       "stream": "stdout",
       "text": [
        "\n",
        "https://www.encodeproject.org/libraries/ENCLB371ZZZ/\n",
        "https://www.encodeproject.org/libraries/ENCLB373ZZZ/\n",
        "https://www.encodeproject.org/libraries/ENCLB374ZZZ/\n",
        "https://www.encodeproject.org/libraries/ENCLB373ZZZ/\n"
       ]
      }
     ],
     "prompt_number": 16
    },
    {
     "cell_type": "code",
     "collapsed": false,
     "input": [
      "# format report\n",
      "def best_lib_id(a, b):\n",
      "    if a is None or a == \"None\" or len(a) == 0:\n",
      "        if b is None or b == \"None\" or len(b) == 0:\n",
      "            return None\n",
      "        else:\n",
      "            return list(b)[0]\n",
      "    else:\n",
      "        return list(a)[0]\n",
      "    \n",
      "def format_dataset(dataset):\n",
      "    return dataset[len('https://www.encodeproject.org/experiments/'):-1]\n",
      "\n",
      "def format_library(dataset):\n",
      "    return dataset[len('https://www.encodeproject.org/libraries/'):-1]\n",
      "\n",
      "def format_href(href):\n",
      "    return href.split('@@')[0]\n",
      "    \n",
      "def html_format_library_ids(library_id_set):\n",
      "    if library_id_set is None:\n",
      "        return [\"None\"]\n",
      "    \n",
      "    results = []\n",
      "    for i in library_id_set:\n",
      "        results.append('<a href=\"https://jumpgate.caltech.edu/library/{id}\">{id}</a>'.format(id=i))\n",
      "    return results\n",
      "\n",
      "def best_library_id_key(row):\n",
      "    return (best_lib_id(row['lib_library_id'], row['fc_library_id']), row['flowcell'], row['lane_id'])\n",
      "\n",
      "def dataset_and_best_library_id_key(row):\n",
      "    experiment = row['dataset']\n",
      "    best_library = best_library_id_key(row)\n",
      "    return (experiment,) + best_library\n",
      "\n",
      "html = ['<table>',\n",
      "        '<thead>',\n",
      "        '<tr><td>dataset</td><td>library</td><td>fastq</td><td>flowcell</td><td>lane</td><td>barcode</td><td>lib library_id</td><td>fc library_id</td><td>fastq header</td></tr>',\n",
      "        '</thead><tbody>']\n",
      "row_format = '<tr><td><a href=\"{dataset}\">{dataset_accession}</a></td>' \\\n",
      "             '<td><a href=\"{library}\">{library_accession}</a></td>' \\\n",
      "             '<td><a href=\"{href}\">{short}</a></td>' \\\n",
      "             '<td>{flowcell}</td><td>{lane_id}</a></td><td>{barcode}</td>' \\\n",
      "             '<td>{lib_library_id}</td><td>{fc_library_id}</td>' \\\n",
      "             '<td>{header}</td></tr>'\n",
      "for row in sorted(report, key=dataset_and_best_library_id_key):\n",
      "    html.append(row_format.format(dataset=row['dataset'],\n",
      "                                  dataset_accession=format_dataset(row['dataset']),\n",
      "                                  library=row['library'],\n",
      "                                  library_accession=format_library(row['library']),\n",
      "                                  href=format_href(row['href']),\n",
      "                                  short=row['short'],\n",
      "                                  flowcell=row['flowcell'],\n",
      "                                  lane_id=row['lane_id'],\n",
      "                                  barcode=row['barcode'],\n",
      "                                  lib_library_id=', '.join(html_format_library_ids(row['lib_library_id'])),\n",
      "                                  fc_library_id=', '.join(html_format_library_ids(row['fc_library_id'])),\n",
      "                                  header=row['header'],\n",
      "                                ))\n",
      "    #print(row_format.format(**row))\n",
      "html.append('</tbody></table>')"
     ],
     "language": "python",
     "metadata": {},
     "outputs": [],
     "prompt_number": 17
    },
    {
     "cell_type": "heading",
     "level": 1,
     "metadata": {},
     "source": [
      "Report showing fastq header"
     ]
    },
    {
     "cell_type": "code",
     "collapsed": false,
     "input": [
      "IPython.display.HTML(''.join(html))"
     ],
     "language": "python",
     "metadata": {},
     "outputs": [
      {
       "html": [
        "<table><thead><tr><td>dataset</td><td>library</td><td>fastq</td><td>flowcell</td><td>lane</td><td>barcode</td><td>lib library_id</td><td>fc library_id</td><td>fastq header</td></tr></thead><tbody><tr><td><a href=\"https://www.encodeproject.org/experiments/ENCSR000AJN/\">ENCSR000AJN</a></td><td><a href=\"https://www.encodeproject.org/libraries/ENCLB370ZZZ/\">ENCLB370ZZZ</a></td><td><a href=\"https://www.encodeproject.org/files/ENCFF001IFD/\">ENCFF001IFD</a></td><td>FC80GWA</td><td>1</a></td><td>ATCACG</td><td><a href=\"https://jumpgate.caltech.edu/library/11612\">11612</a></td><td><a href=\"https://jumpgate.caltech.edu/library/11612\">11612</a></td><td>@HWI-ST501_0039:1:1:1629:1986#ATCACG/1</td></tr><tr><td><a href=\"https://www.encodeproject.org/experiments/ENCSR000AJN/\">ENCSR000AJN</a></td><td><a href=\"https://www.encodeproject.org/libraries/ENCLB507FSU/\">ENCLB507FSU</a></td><td><a href=\"https://www.encodeproject.org/files/ENCFF001IFC/\">ENCFF001IFC</a></td><td>FC80GWA</td><td>1</a></td><td>TAGCTT</td><td></td><td><a href=\"https://jumpgate.caltech.edu/library/11638\">11638</a></td><td>@HWI-ST501_0039:1:1:1336:1987#TAGCTT/1</td></tr><tr><td><a href=\"https://www.encodeproject.org/experiments/ENCSR000AJN/\">ENCSR000AJN</a></td><td><a href=\"https://www.encodeproject.org/libraries/ENCLB715BMJ/\">ENCLB715BMJ</a></td><td><a href=\"https://www.encodeproject.org/files/ENCFF001IFI/\">ENCFF001IFI</a></td><td>FC80GWA</td><td>3</a></td><td>GATCAG</td><td></td><td><a href=\"https://jumpgate.caltech.edu/library/11670\">11670</a></td><td>@HWI-ST501_0039:3:1:2010:1986#GATCAG/1</td></tr><tr><td><a href=\"https://www.encodeproject.org/experiments/ENCSR000AJO/\">ENCSR000AJO</a></td><td><a href=\"https://www.encodeproject.org/libraries/ENCLB370ZZZ/\">ENCLB370ZZZ</a></td><td><a href=\"https://www.encodeproject.org/files/ENCFF001IEV/\">ENCFF001IEV</a></td><td>61MH7AAXX</td><td>6</a></td><td>None</td><td><a href=\"https://jumpgate.caltech.edu/library/11612\">11612</a></td><td><a href=\"https://jumpgate.caltech.edu/library/11612\">11612</a></td><td>@HWI-EAS229_0009:6:1:981:17590/1</td></tr><tr><td><a href=\"https://www.encodeproject.org/experiments/ENCSR000AJP/\">ENCSR000AJP</a></td><td><a href=\"https://www.encodeproject.org/libraries/ENCLB371ZZZ/\">ENCLB371ZZZ</a></td><td><a href=\"https://www.encodeproject.org/files/ENCFF001IEG/\">ENCFF001IEG</a></td><td>309JCAAXX</td><td>7</a></td><td>None</td><td><a href=\"https://jumpgate.caltech.edu/library/10135\">10135</a></td><td><a href=\"https://jumpgate.caltech.edu/library/10135\">10135</a></td><td>@309JCAAXX_080819_HWI-EAS229_0047_309JCAAXX_7_1_1164:007</td></tr><tr><td><a href=\"https://www.encodeproject.org/experiments/ENCSR000AJP/\">ENCSR000AJP</a></td><td><a href=\"https://www.encodeproject.org/libraries/ENCLB371ZZZ/\">ENCLB371ZZZ</a></td><td><a href=\"https://www.encodeproject.org/files/ENCFF001IEH/\">ENCFF001IEH</a></td><td>FC12863</td><td>7</a></td><td>None</td><td><a href=\"https://jumpgate.caltech.edu/library/10135\">10135</a></td><td><a href=\"https://jumpgate.caltech.edu/library/10135\">10135</a></td><td>@FC12863_080125_HWI-EAS229_0014_FC12863_7_001:122:955</td></tr><tr><td><a href=\"https://www.encodeproject.org/experiments/ENCSR000AJP/\">ENCSR000AJP</a></td><td><a href=\"https://www.encodeproject.org/libraries/ENCLB371ZZZ/\">ENCLB371ZZZ</a></td><td><a href=\"https://www.encodeproject.org/files/ENCFF001IEI/\">ENCFF001IEI</a></td><td>FC12863</td><td>8</a></td><td>None</td><td><a href=\"https://jumpgate.caltech.edu/library/10135\">10135</a></td><td><a href=\"https://jumpgate.caltech.edu/library/10135\">10135</a></td><td>@FC12863_080125_HWI-EAS229_0014_FC12863_8_001:055:770</td></tr><tr><td><a href=\"https://www.encodeproject.org/experiments/ENCSR000AJQ/\">ENCSR000AJQ</a></td><td><a href=\"https://www.encodeproject.org/libraries/ENCLB372ZZZ/\">ENCLB372ZZZ</a></td><td><a href=\"https://www.encodeproject.org/files/ENCFF001IDS/\">ENCFF001IDS</a></td><td>309JCAAXX</td><td>8</a></td><td>None</td><td><a href=\"https://jumpgate.caltech.edu/library/10007\">10007</a></td><td><a href=\"https://jumpgate.caltech.edu/library/10007\">10007</a></td><td>@309JCAAXX_080819_HWI-EAS229_0047_309JCAAXX_8_1_1053:1991</td></tr><tr><td><a href=\"https://www.encodeproject.org/experiments/ENCSR000AJQ/\">ENCSR000AJQ</a></td><td><a href=\"https://www.encodeproject.org/libraries/ENCLB372ZZZ/\">ENCLB372ZZZ</a></td><td><a href=\"https://www.encodeproject.org/files/ENCFF001IDT/\">ENCFF001IDT</a></td><td>FC6273</td><td>4</a></td><td>None</td><td><a href=\"https://jumpgate.caltech.edu/library/10007\">10007</a></td><td><a href=\"https://jumpgate.caltech.edu/library/10007\">10007</a></td><td>@FC6273_070727_USI-EAS44_0012_FC6273_4_1:991:892</td></tr><tr><td><a href=\"https://www.encodeproject.org/experiments/ENCSR000AJQ/\">ENCSR000AJQ</a></td><td><a href=\"https://www.encodeproject.org/libraries/ENCLB372ZZZ/\">ENCLB372ZZZ</a></td><td><a href=\"https://www.encodeproject.org/files/ENCFF001IDU/\">ENCFF001IDU</a></td><td>FC6273</td><td>5</a></td><td>None</td><td><a href=\"https://jumpgate.caltech.edu/library/10007\">10007</a></td><td><a href=\"https://jumpgate.caltech.edu/library/10007\">10007</a></td><td>@FC6273_070727_USI-EAS44_0012_FC6273_5_1:991:723</td></tr><tr><td><a href=\"https://www.encodeproject.org/experiments/ENCSR000AJQ/\">ENCSR000AJQ</a></td><td><a href=\"https://www.encodeproject.org/libraries/ENCLB372ZZZ/\">ENCLB372ZZZ</a></td><td><a href=\"https://www.encodeproject.org/files/ENCFF001IDV/\">ENCFF001IDV</a></td><td>FC6273</td><td>6</a></td><td>None</td><td><a href=\"https://jumpgate.caltech.edu/library/10007\">10007</a></td><td><a href=\"https://jumpgate.caltech.edu/library/10007\">10007</a></td><td>@FC6273_070727_USI-EAS44_0012_FC6273_6_1:248:129</td></tr><tr><td><a href=\"https://www.encodeproject.org/experiments/ENCSR000AJR/\">ENCSR000AJR</a></td><td><a href=\"https://www.encodeproject.org/libraries/ENCLB373ZZZ/\">ENCLB373ZZZ</a></td><td><a href=\"https://www.encodeproject.org/files/ENCFF001IEY/\">ENCFF001IEY</a></td><td>FC80GWA</td><td>1</a></td><td>TGACCA</td><td>None</td><td><a href=\"https://jumpgate.caltech.edu/library/11610\">11610</a></td><td>@HWI-ST501_0039:1:1:1433:1980#TGACCA/1</td></tr><tr><td><a href=\"https://www.encodeproject.org/experiments/ENCSR000AJR/\">ENCSR000AJR</a></td><td><a href=\"None\"></a></td><td><a href=\"https://www.encodeproject.org/files/ENCFF001IEZ/\">ENCFF001IEZ</a></td><td>FC80GWA</td><td>1</a></td><td>GATCAG</td><td>None</td><td><a href=\"https://jumpgate.caltech.edu/library/11637\">11637</a></td><td>@HWI-ST501_0039:1:1:1280:1999#GATCAG/1</td></tr><tr><td><a href=\"https://www.encodeproject.org/experiments/ENCSR000AJS/\">ENCSR000AJS</a></td><td><a href=\"https://www.encodeproject.org/libraries/ENCLB374ZZZ/\">ENCLB374ZZZ</a></td><td><a href=\"https://www.encodeproject.org/files/ENCFF001IEA/\">ENCFF001IEA</a></td><td>201BGAAXX</td><td>1</a></td><td>None</td><td>None</td><td><a href=\"https://jumpgate.caltech.edu/library/10194\">10194</a></td><td>@201BGAAXX_080212_HWI-EAS229_0016_201BGAAXX_1_1_041:745</td></tr><tr><td><a href=\"https://www.encodeproject.org/experiments/ENCSR000AJS/\">ENCSR000AJS</a></td><td><a href=\"https://www.encodeproject.org/libraries/ENCLB374ZZZ/\">ENCLB374ZZZ</a></td><td><a href=\"https://www.encodeproject.org/files/ENCFF001IEB/\">ENCFF001IEB</a></td><td>207B5AAXX</td><td>5</a></td><td>None</td><td>None</td><td><a href=\"https://jumpgate.caltech.edu/library/10194\">10194</a></td><td>@207B5AAXX_080502_HWI-EAS229_0027_207B5AAXX_5_1_092:285</td></tr><tr><td><a href=\"https://www.encodeproject.org/experiments/ENCSR000AJS/\">ENCSR000AJS</a></td><td><a href=\"https://www.encodeproject.org/libraries/ENCLB374ZZZ/\">ENCLB374ZZZ</a></td><td><a href=\"https://www.encodeproject.org/files/ENCFF001IEC/\">ENCFF001IEC</a></td><td>207B5AAXX</td><td>6</a></td><td>None</td><td>None</td><td><a href=\"https://jumpgate.caltech.edu/library/10194\">10194</a></td><td>@207B5AAXX_080502_HWI-EAS229_0027_207B5AAXX_6_1_621:518</td></tr><tr><td><a href=\"https://www.encodeproject.org/experiments/ENCSR000AJS/\">ENCSR000AJS</a></td><td><a href=\"https://www.encodeproject.org/libraries/ENCLB374ZZZ/\">ENCLB374ZZZ</a></td><td><a href=\"https://www.encodeproject.org/files/ENCFF001IED/\">ENCFF001IED</a></td><td>207B5AAXX</td><td>7</a></td><td>None</td><td>None</td><td><a href=\"https://jumpgate.caltech.edu/library/10194\">10194</a></td><td>@207B5AAXX_080502_HWI-EAS229_0027_207B5AAXX_7_1_090:045</td></tr><tr><td><a href=\"https://www.encodeproject.org/experiments/ENCSR000AJS/\">ENCSR000AJS</a></td><td><a href=\"https://www.encodeproject.org/libraries/ENCLB374ZZZ/\">ENCLB374ZZZ</a></td><td><a href=\"https://www.encodeproject.org/files/ENCFF001IEE/\">ENCFF001IEE</a></td><td>207B5AAXX</td><td>8</a></td><td>None</td><td>None</td><td><a href=\"https://jumpgate.caltech.edu/library/10194\">10194</a></td><td>@207B5AAXX_080502_HWI-EAS229_0027_207B5AAXX_8_1_318:505</td></tr><tr><td><a href=\"https://www.encodeproject.org/experiments/ENCSR000AJT/\">ENCSR000AJT</a></td><td><a href=\"https://www.encodeproject.org/libraries/ENCLB373ZZZ/\">ENCLB373ZZZ</a></td><td><a href=\"https://www.encodeproject.org/files/ENCFF001IEU/\">ENCFF001IEU</a></td><td>61MH7AAXX</td><td>5</a></td><td>None</td><td>None</td><td><a href=\"https://jumpgate.caltech.edu/library/11610\">11610</a></td><td>@61MH7AAXX_HWI-EAS229_0009:5:1:995:20977/1</td></tr></tbody></table>"
       ],
       "metadata": {},
       "output_type": "pyout",
       "prompt_number": 18,
       "text": [
        "<IPython.core.display.HTML at 0x7f48b563db50>"
       ]
      }
     ],
     "prompt_number": 18
    },
    {
     "cell_type": "markdown",
     "metadata": {},
     "source": [
      "In ENCSR000AJN the fact that the barcode varies strongly supports the idea that those are from different library ids. So then the qustion is...\n",
      "\n",
      "Why does ENCSR000AJN \"Control ChIP-seq on mouse C2C12 (50bp)\" have 3 different libraries in it?\n",
      "\n",
      "ENCSR000AJR \"Control ChIP-seq on mouse C2C12 differentiated for 60 hours (50bp)\" also has two different libraries pooled in it.\n",
      "\n",
      "<a href=\"#Reprot-with-library-name\">Below</a> is a report with the fastq header replaced with the jumpgate library name. Hopefully that will explain iff some of the libraries should be pooled."
     ]
    },
    {
     "cell_type": "heading",
     "level": 1,
     "metadata": {},
     "source": [
      "Generate Report with library name"
     ]
    },
    {
     "cell_type": "code",
     "collapsed": false,
     "input": [
      "html = ['<table>',\n",
      "        '<thead>',\n",
      "        '<tr><td>dataset</td><td>library</td><td>fastq</td><td>flowcell</td><td>lane</td><td>barcode</td><td>lib library_id</td><td>fc library_id</td><td>library name</td></tr>',\n",
      "        '</thead><tbody>']\n",
      "row_format = '<tr><td><a href=\"{dataset}\">{dataset_accession}</a></td>' \\\n",
      "             '<td><a href=\"{library}\">{library_accession}</a></td>' \\\n",
      "             '<td><a href=\"{href}\">{short}</a></td>' \\\n",
      "             '<td>{flowcell}</td><td>{lane_id}</a></td><td>{barcode}</td>' \\\n",
      "             '<td>{lib_library_id}</td><td>{fc_library_id}</td>' \\\n",
      "             '<td>{header}</td></tr>'\n",
      "for row in sorted(report, key=dataset_and_best_library_id_key):\n",
      "    html.append(row_format.format(dataset=row['dataset'],\n",
      "                                  dataset_accession=format_dataset(row['dataset']),\n",
      "                                  library=row['library'],\n",
      "                                  library_accession=format_library(row['library']),\n",
      "                                  href=format_href(row['href']),\n",
      "                                  short=row['short'],\n",
      "                                  flowcell=row['flowcell'],\n",
      "                                  lane_id=row['lane_id'],\n",
      "                                  barcode=row['barcode'],\n",
      "                                  lib_library_id=', '.join(html_format_library_ids(row['lib_library_id'])),\n",
      "                                  fc_library_id=', '.join(html_format_library_ids(row['fc_library_id'])),\n",
      "                                  header= row['name'],\n",
      "                                ))\n",
      "    #print(row_format.format(**row))\n",
      "html.append('</tbody></table>')"
     ],
     "language": "python",
     "metadata": {},
     "outputs": [],
     "prompt_number": 19
    },
    {
     "cell_type": "heading",
     "level": 1,
     "metadata": {},
     "source": [
      "Report with library name"
     ]
    },
    {
     "cell_type": "code",
     "collapsed": false,
     "input": [
      "IPython.display.HTML(''.join(html))"
     ],
     "language": "python",
     "metadata": {},
     "outputs": [
      {
       "html": [
        "<table><thead><tr><td>dataset</td><td>library</td><td>fastq</td><td>flowcell</td><td>lane</td><td>barcode</td><td>lib library_id</td><td>fc library_id</td><td>library name</td></tr></thead><tbody><tr><td><a href=\"https://www.encodeproject.org/experiments/ENCSR000AJN/\">ENCSR000AJN</a></td><td><a href=\"https://www.encodeproject.org/libraries/ENCLB370ZZZ/\">ENCLB370ZZZ</a></td><td><a href=\"https://www.encodeproject.org/files/ENCFF001IFD/\">ENCFF001IFD</a></td><td>FC80GWA</td><td>1</a></td><td>ATCACG</td><td><a href=\"https://jumpgate.caltech.edu/library/11612\">11612</a></td><td><a href=\"https://jumpgate.caltech.edu/library/11612\">11612</a></td><td>C2C12 Input exp 4/21/10 (adaptor 1) a</td></tr><tr><td><a href=\"https://www.encodeproject.org/experiments/ENCSR000AJN/\">ENCSR000AJN</a></td><td><a href=\"https://www.encodeproject.org/libraries/ENCLB507FSU/\">ENCLB507FSU</a></td><td><a href=\"https://www.encodeproject.org/files/ENCFF001IFC/\">ENCFF001IFC</a></td><td>FC80GWA</td><td>1</a></td><td>TAGCTT</td><td></td><td><a href=\"https://jumpgate.caltech.edu/library/11638\">11638</a></td><td>C2C12 exp Input 5/14/10(adaptor 10) a</td></tr><tr><td><a href=\"https://www.encodeproject.org/experiments/ENCSR000AJN/\">ENCSR000AJN</a></td><td><a href=\"https://www.encodeproject.org/libraries/ENCLB715BMJ/\">ENCLB715BMJ</a></td><td><a href=\"https://www.encodeproject.org/files/ENCFF001IFI/\">ENCFF001IFI</a></td><td>FC80GWA</td><td>3</a></td><td>GATCAG</td><td></td><td><a href=\"https://jumpgate.caltech.edu/library/11670\">11670</a></td><td>C2C12 exp Input 4/17/10 (adaptor 9) a</td></tr><tr><td><a href=\"https://www.encodeproject.org/experiments/ENCSR000AJO/\">ENCSR000AJO</a></td><td><a href=\"https://www.encodeproject.org/libraries/ENCLB370ZZZ/\">ENCLB370ZZZ</a></td><td><a href=\"https://www.encodeproject.org/files/ENCFF001IEV/\">ENCFF001IEV</a></td><td>61MH7AAXX</td><td>6</a></td><td>None</td><td><a href=\"https://jumpgate.caltech.edu/library/11612\">11612</a></td><td><a href=\"https://jumpgate.caltech.edu/library/11612\">11612</a></td><td>C2C12 Input exp 4/21/10 (adaptor 1) a</td></tr><tr><td><a href=\"https://www.encodeproject.org/experiments/ENCSR000AJP/\">ENCSR000AJP</a></td><td><a href=\"https://www.encodeproject.org/libraries/ENCLB371ZZZ/\">ENCLB371ZZZ</a></td><td><a href=\"https://www.encodeproject.org/files/ENCFF001IEG/\">ENCFF001IEG</a></td><td>309JCAAXX</td><td>7</a></td><td>None</td><td><a href=\"https://jumpgate.caltech.edu/library/10135\">10135</a></td><td><a href=\"https://jumpgate.caltech.edu/library/10135\">10135</a></td><td>C2C12 Cyc Mock new a</td></tr><tr><td><a href=\"https://www.encodeproject.org/experiments/ENCSR000AJP/\">ENCSR000AJP</a></td><td><a href=\"https://www.encodeproject.org/libraries/ENCLB371ZZZ/\">ENCLB371ZZZ</a></td><td><a href=\"https://www.encodeproject.org/files/ENCFF001IEH/\">ENCFF001IEH</a></td><td>FC12863</td><td>7</a></td><td>None</td><td><a href=\"https://jumpgate.caltech.edu/library/10135\">10135</a></td><td><a href=\"https://jumpgate.caltech.edu/library/10135\">10135</a></td><td>C2C12 Cyc Mock new a</td></tr><tr><td><a href=\"https://www.encodeproject.org/experiments/ENCSR000AJP/\">ENCSR000AJP</a></td><td><a href=\"https://www.encodeproject.org/libraries/ENCLB371ZZZ/\">ENCLB371ZZZ</a></td><td><a href=\"https://www.encodeproject.org/files/ENCFF001IEI/\">ENCFF001IEI</a></td><td>FC12863</td><td>8</a></td><td>None</td><td><a href=\"https://jumpgate.caltech.edu/library/10135\">10135</a></td><td><a href=\"https://jumpgate.caltech.edu/library/10135\">10135</a></td><td>C2C12 Cyc Mock new a</td></tr><tr><td><a href=\"https://www.encodeproject.org/experiments/ENCSR000AJQ/\">ENCSR000AJQ</a></td><td><a href=\"https://www.encodeproject.org/libraries/ENCLB372ZZZ/\">ENCLB372ZZZ</a></td><td><a href=\"https://www.encodeproject.org/files/ENCFF001IDS/\">ENCFF001IDS</a></td><td>309JCAAXX</td><td>8</a></td><td>None</td><td><a href=\"https://jumpgate.caltech.edu/library/10007\">10007</a></td><td><a href=\"https://jumpgate.caltech.edu/library/10007\">10007</a></td><td>Control 24hr MYOD</td></tr><tr><td><a href=\"https://www.encodeproject.org/experiments/ENCSR000AJQ/\">ENCSR000AJQ</a></td><td><a href=\"https://www.encodeproject.org/libraries/ENCLB372ZZZ/\">ENCLB372ZZZ</a></td><td><a href=\"https://www.encodeproject.org/files/ENCFF001IDT/\">ENCFF001IDT</a></td><td>FC6273</td><td>4</a></td><td>None</td><td><a href=\"https://jumpgate.caltech.edu/library/10007\">10007</a></td><td><a href=\"https://jumpgate.caltech.edu/library/10007\">10007</a></td><td>Control 24hr MYOD</td></tr><tr><td><a href=\"https://www.encodeproject.org/experiments/ENCSR000AJQ/\">ENCSR000AJQ</a></td><td><a href=\"https://www.encodeproject.org/libraries/ENCLB372ZZZ/\">ENCLB372ZZZ</a></td><td><a href=\"https://www.encodeproject.org/files/ENCFF001IDU/\">ENCFF001IDU</a></td><td>FC6273</td><td>5</a></td><td>None</td><td><a href=\"https://jumpgate.caltech.edu/library/10007\">10007</a></td><td><a href=\"https://jumpgate.caltech.edu/library/10007\">10007</a></td><td>Control 24hr MYOD</td></tr><tr><td><a href=\"https://www.encodeproject.org/experiments/ENCSR000AJQ/\">ENCSR000AJQ</a></td><td><a href=\"https://www.encodeproject.org/libraries/ENCLB372ZZZ/\">ENCLB372ZZZ</a></td><td><a href=\"https://www.encodeproject.org/files/ENCFF001IDV/\">ENCFF001IDV</a></td><td>FC6273</td><td>6</a></td><td>None</td><td><a href=\"https://jumpgate.caltech.edu/library/10007\">10007</a></td><td><a href=\"https://jumpgate.caltech.edu/library/10007\">10007</a></td><td>Control 24hr MYOD</td></tr><tr><td><a href=\"https://www.encodeproject.org/experiments/ENCSR000AJR/\">ENCSR000AJR</a></td><td><a href=\"https://www.encodeproject.org/libraries/ENCLB373ZZZ/\">ENCLB373ZZZ</a></td><td><a href=\"https://www.encodeproject.org/files/ENCFF001IEY/\">ENCFF001IEY</a></td><td>FC80GWA</td><td>1</a></td><td>TGACCA</td><td>None</td><td><a href=\"https://jumpgate.caltech.edu/library/11610\">11610</a></td><td>C2C12 60h Input 4/25/10 [NEB ligation] (adaptor 4) a</td></tr><tr><td><a href=\"https://www.encodeproject.org/experiments/ENCSR000AJR/\">ENCSR000AJR</a></td><td><a href=\"None\"></a></td><td><a href=\"https://www.encodeproject.org/files/ENCFF001IEZ/\">ENCFF001IEZ</a></td><td>FC80GWA</td><td>1</a></td><td>GATCAG</td><td>None</td><td><a href=\"https://jumpgate.caltech.edu/library/11637\">11637</a></td><td>C2C12 60h Input 4/21/10 (adaptor 9) a</td></tr><tr><td><a href=\"https://www.encodeproject.org/experiments/ENCSR000AJS/\">ENCSR000AJS</a></td><td><a href=\"https://www.encodeproject.org/libraries/ENCLB374ZZZ/\">ENCLB374ZZZ</a></td><td><a href=\"https://www.encodeproject.org/files/ENCFF001IEA/\">ENCFF001IEA</a></td><td>201BGAAXX</td><td>1</a></td><td>None</td><td>None</td><td><a href=\"https://jumpgate.caltech.edu/library/10194\">10194</a></td><td>C2C12 61h control CHIP-seq reagents a</td></tr><tr><td><a href=\"https://www.encodeproject.org/experiments/ENCSR000AJS/\">ENCSR000AJS</a></td><td><a href=\"https://www.encodeproject.org/libraries/ENCLB374ZZZ/\">ENCLB374ZZZ</a></td><td><a href=\"https://www.encodeproject.org/files/ENCFF001IEB/\">ENCFF001IEB</a></td><td>207B5AAXX</td><td>5</a></td><td>None</td><td>None</td><td><a href=\"https://jumpgate.caltech.edu/library/10194\">10194</a></td><td>C2C12 61h control CHIP-seq reagents a</td></tr><tr><td><a href=\"https://www.encodeproject.org/experiments/ENCSR000AJS/\">ENCSR000AJS</a></td><td><a href=\"https://www.encodeproject.org/libraries/ENCLB374ZZZ/\">ENCLB374ZZZ</a></td><td><a href=\"https://www.encodeproject.org/files/ENCFF001IEC/\">ENCFF001IEC</a></td><td>207B5AAXX</td><td>6</a></td><td>None</td><td>None</td><td><a href=\"https://jumpgate.caltech.edu/library/10194\">10194</a></td><td>C2C12 61h control CHIP-seq reagents a</td></tr><tr><td><a href=\"https://www.encodeproject.org/experiments/ENCSR000AJS/\">ENCSR000AJS</a></td><td><a href=\"https://www.encodeproject.org/libraries/ENCLB374ZZZ/\">ENCLB374ZZZ</a></td><td><a href=\"https://www.encodeproject.org/files/ENCFF001IED/\">ENCFF001IED</a></td><td>207B5AAXX</td><td>7</a></td><td>None</td><td>None</td><td><a href=\"https://jumpgate.caltech.edu/library/10194\">10194</a></td><td>C2C12 61h control CHIP-seq reagents a</td></tr><tr><td><a href=\"https://www.encodeproject.org/experiments/ENCSR000AJS/\">ENCSR000AJS</a></td><td><a href=\"https://www.encodeproject.org/libraries/ENCLB374ZZZ/\">ENCLB374ZZZ</a></td><td><a href=\"https://www.encodeproject.org/files/ENCFF001IEE/\">ENCFF001IEE</a></td><td>207B5AAXX</td><td>8</a></td><td>None</td><td>None</td><td><a href=\"https://jumpgate.caltech.edu/library/10194\">10194</a></td><td>C2C12 61h control CHIP-seq reagents a</td></tr><tr><td><a href=\"https://www.encodeproject.org/experiments/ENCSR000AJT/\">ENCSR000AJT</a></td><td><a href=\"https://www.encodeproject.org/libraries/ENCLB373ZZZ/\">ENCLB373ZZZ</a></td><td><a href=\"https://www.encodeproject.org/files/ENCFF001IEU/\">ENCFF001IEU</a></td><td>61MH7AAXX</td><td>5</a></td><td>None</td><td>None</td><td><a href=\"https://jumpgate.caltech.edu/library/11610\">11610</a></td><td>C2C12 60h Input 4/25/10 [NEB ligation] (adaptor 4) a</td></tr></tbody></table>"
       ],
       "metadata": {},
       "output_type": "pyout",
       "prompt_number": 20,
       "text": [
        "<IPython.core.display.HTML at 0x7f48b55e0690>"
       ]
      }
     ],
     "prompt_number": 20
    },
    {
     "cell_type": "heading",
     "level": 1,
     "metadata": {},
     "source": [
      "Build redmine report"
     ]
    },
    {
     "cell_type": "markdown",
     "metadata": {},
     "source": [
      "Built so I could paste one of the above reports into redmine as a table."
     ]
    },
    {
     "cell_type": "code",
     "collapsed": false,
     "input": [
      "# format report\n",
      "def textile_format_library_ids(library_id_set):\n",
      "    if library_id_set is None:\n",
      "        return [\"None\"]\n",
      "    \n",
      "    results = []\n",
      "    for i in library_id_set:\n",
      "        results.append('\"{id}\":https://jumpgate.caltech.edu/library{id}'.format(id=i))\n",
      "    return results\n",
      "\n",
      "redmine = ['|_.fastq |_.flowcell |_.lane |_.barcode |_.lib library_id |_.fc library_id |_.fastq header |' ]\n",
      "row_format = '|\"{short}\":{href} | {flowcell} | {lane_id} | {barcode} | {lib_library_id} | {fc_library_id} | {header} |'\n",
      "for row in sorted(report, key=lambda x: (best_lib_id(x['lib_library_id'], x['fc_library_id']), x['flowcell'], x['lane_id'])):\n",
      "    redmine.append(row_format.format(href=format_href(row['href']),\n",
      "                                  short=row['short'],\n",
      "                                  flowcell=row['flowcell'],\n",
      "                                  lane_id=row['lane_id'],\n",
      "                                  barcode=row['barcode'],\n",
      "                                  lib_library_id=', '.join(textile_format_library_ids(row['lib_library_id'])),\n",
      "                                  fc_library_id=', '.join(textile_format_library_ids(row['fc_library_id'])),\n",
      "                                  header=row['header'],\n",
      "                                ))\n",
      "    #print(row_format.format(**row))\n",
      "#print('\\n'.join(redmine))"
     ],
     "language": "python",
     "metadata": {},
     "outputs": [],
     "prompt_number": 21
    },
    {
     "cell_type": "heading",
     "level": 1,
     "metadata": {},
     "source": [
      "Detect fastq content collisions"
     ]
    },
    {
     "cell_type": "markdown",
     "metadata": {},
     "source": [
      "some of files may have been uploaded to encoded twice. This chunk of code can download them and compare them. This issue was resolved so I'm not bothering running it any more."
     ]
    },
    {
     "cell_type": "code",
     "collapsed": false,
     "input": [
      "flowcells = pandas.DataFrame(report, columns=['header', 'href', 'flowcell', 'lane_id', 'barcode'])"
     ],
     "language": "python",
     "metadata": {},
     "outputs": [],
     "prompt_number": 22
    },
    {
     "cell_type": "code",
     "collapsed": false,
     "input": [
      "hashes = []\n",
      "def download_hashes(flowcells):\n",
      "    hashes = []\n",
      "    for key, rows in flowcells.groupby('header'):\n",
      "        if len(rows) > 1:\n",
      "            curdir = os.getcwd()\n",
      "            os.chdir('/dev/shm')\n",
      "            for href in rows['href']:\n",
      "                IPython.display.clear_output()\n",
      "                _, name = os.path.split(href)\n",
      "                print(\"Downloading\", href)\n",
      "                ! wget $href\n",
      "                filehash =! zcat $name | sha256sum\n",
      "                os.unlink(name)\n",
      "                hashes.append((filehash, name))\n",
      "            os.chdir(curdir)\n",
      "#hashes = download_hashes(flowcells)"
     ],
     "language": "python",
     "metadata": {},
     "outputs": [],
     "prompt_number": 23
    },
    {
     "cell_type": "code",
     "collapsed": false,
     "input": [
      "for i in range(0, len(hashes), 2):\n",
      "    name0 = hashes[i][1]\n",
      "    hash0 = hashes[i][0][0][:-3]\n",
      "    name1 = hashes[i+1][1]\n",
      "    hash1 = hashes[i+1][0][0][:-3]\n",
      "    print('|', name0, '|', name1, '|', hash0 == hash1, '|', hash0, '|')\n"
     ],
     "language": "python",
     "metadata": {},
     "outputs": [],
     "prompt_number": 24
    },
    {
     "cell_type": "markdown",
     "metadata": {},
     "source": [
      "Make file accession indexed encoded report"
     ]
    },
    {
     "cell_type": "code",
     "collapsed": false,
     "input": [
      "import jsonschema"
     ],
     "language": "python",
     "metadata": {},
     "outputs": [],
     "prompt_number": 25
    },
    {
     "cell_type": "markdown",
     "metadata": {},
     "source": [
      "Wish I knew what I had done here"
     ]
    },
    {
     "cell_type": "code",
     "collapsed": false,
     "input": [
      "def post_libraries(report, fastq_header_cache, dry_run=False):\n",
      "    library_to_biosample = {\n",
      "       '10194': '/biosamples/ENCBS127ENC/',  # ENCSR000AJS\n",
      "       '11637': '/biosamples/ENCBS127ENC/',  # ENCSR000AJR\n",
      "       '11610': '/biosamples/ENCBS124ENC/',  # ENCSR000AJN\n",
      "       '11638': '/biosamples/ENCBS124ENC/',  # ENCSR000AJN\n",
      "       '11670': '/biosamples/ENCBS124ENC/',  # ENCSR000AJN\n",
      "    }\n",
      "    done = set(['11670', '10194', '11637', '11638', '11610'])\n",
      "    libraries = {}\n",
      "    replicates = {}\n",
      "    for row in report:\n",
      "        if row['lib_library_id'] is None:\n",
      "            fastq_info = fastq_header_cache[row['href']]\n",
      "            library_id = next(iter(row['fc_library_id']))\n",
      "            if library_id in done:\n",
      "                continue\n",
      "                \n",
      "            library = Library.objects.get(pk=library_id)\n",
      "            lib_object = {\n",
      "                'aliases': ['barbara-wold:{}'.format(library_id)],\n",
      "                #'biosample': library_to_biosample.get(library.id),\n",
      "                'award': \"/awards/RC2HG005573/\",\n",
      "                'lab': \"/labs/barbara-wold/\",\n",
      "                'nucleic_acid_term_id': \"SO:0000352\",\n",
      "                'nucleic_acid_term_name': \"DNA\",\n",
      "            }\n",
      "            rep_object = {\n",
      "                'library': 'barbara-wold:{}'.format(library_id),\n",
      "                'experiment': row.get('dataset'),\n",
      "                'biological_replicate_number': library.replicate,\n",
      "                'technical_replicate_number': 1,\n",
      "            }\n",
      "            server.validate(lib_object, 'library')\n",
      "            server.validate(rep_object, 'replicate')\n",
      "            encoded_fastq = server.get_json(fastq_info['file_accession'])\n",
      "            libraries[library_id] = lib_object\n",
      "            replicates[library_id] = rep_object\n",
      "            #flowcell_details = encoded_fastq.get('flowcell_details')\n",
      "            #if len(flowcell_details) == 0:\n",
      "            #    flowcell_details = {\n",
      "            #     'flowcell': fastq_info['read_id'][0],\n",
      "            #     'lane': fastq_info['read_id'][1]}\n",
      "            #   if len(fastq_info['read_id']) == 3:\n",
      "            #       flowcell_details['barcode'] = fastq_info['read_id'][2]\n",
      "            #   #encoded_fastq['flowcell_details'] = [flowcell_details]\n",
      "            #   #server.validate(encoded_fastq, 'file')\n",
      "            #   #if not dry_run:\n",
      "            #   #    pprint(server.patch_json(fastq_info['file_accession'], {'flowcell_details': [flowcell_details]}))\n",
      "            #   print(fastq_info['file_accession'], flowcell_details)\n",
      "    #pprint(libraries)\n",
      "    #pprint(replicates)\n",
      "    if not dry_run:\n",
      "        for lib_id in libraries:\n",
      "            print(\"posting:\", lib_id)\n",
      "            lib_object = libraries[lib_id]\n",
      "            rep_object = replicates[lib_id]\n",
      "            response = server.post_json('/libraries/', lib_object)\n",
      "            pprint(response)\n",
      "            #accession = response['@graph']['accession']\n",
      "            #pprint(server.post_json('/replicates/', rep_object))\n",
      "        \n",
      "#post_libraries(report, fastq_header_cache, dry_run=False)"
     ],
     "language": "python",
     "metadata": {},
     "outputs": [],
     "prompt_number": 26
    },
    {
     "cell_type": "heading",
     "level": 1,
     "metadata": {},
     "source": [
      "Load control mappings"
     ]
    },
    {
     "cell_type": "markdown",
     "metadata": {},
     "source": [
      "Note to myself, to get this to work I had to change my rules.turtle from blocks with <http://jumpgate.caltech.edu/wiki/SubmissionLog/mouse-2011-07-9/11924-C2C12-exp-Max.50mers> to <http://jumpgate.caltech.edu/library/11924/> (AKA from my old ENCODE2 submission name based on my directory name to just the jumpgate library ID)"
     ]
    },
    {
     "cell_type": "code",
     "collapsed": false,
     "input": [
      "%load_source -m model mouse-encode-controls.ttl"
     ],
     "language": "python",
     "metadata": {},
     "outputs": [
      {
       "metadata": {},
       "output_type": "pyout",
       "prompt_number": 27,
       "text": [
        "<RDF.Model at 0x7f48b7552e10>"
       ]
      }
     ],
     "prompt_number": 27
    },
    {
     "cell_type": "code",
     "collapsed": false,
     "input": [
      "%addns daf http://jumpgate.caltech.edu/wiki/UcscDaf#"
     ],
     "language": "python",
     "metadata": {},
     "outputs": [],
     "prompt_number": 28
    },
    {
     "cell_type": "code",
     "collapsed": false,
     "input": [
      "%%sparql -m model -o jumpgate_ids\n",
      "select ?jumpgate ?control_id\n",
      "where {\n",
      "   ?jumpgate daf:controlId ?control_id .\n",
      "}"
     ],
     "language": "python",
     "metadata": {},
     "outputs": [],
     "prompt_number": 29
    },
    {
     "cell_type": "code",
     "collapsed": false,
     "input": [
      "for i, row in enumerate(jumpgate_ids):\n",
      "    jumpgate = row['jumpgate']\n",
      "    library_id = str(jumpgate)[-6:-1]\n",
      "    alias = '/barbara-wold:' + library_id\n",
      "    jsonld = server.get_jsonld(alias)\n",
      "    accession = RDF.Node(RDF.Uri(\"https://www.encodeproject.org\" + jsonld['@id']))\n",
      "    htsw_library = RDF.Node(RDF.Uri(\"http://jumpgate.caltech.edu/wiki/LibraryOntology#library\"))\n",
      "    s = RDF.Statement(accession, htsw_library, jumpgate)\n",
      "    print(i, str(accession))\n",
      "    model.append(s)\n",
      "    load_into_model(model, 'rdfa', jumpgate)\n",
      "    load_jsonld_into_model(model, jsonld)\n"
     ],
     "language": "python",
     "metadata": {},
     "outputs": [
      {
       "output_type": "stream",
       "stream": "stdout",
       "text": [
        "0 https://www.encodeproject.org/libraries/ENCLB372ZZZ/\n",
        "1"
       ]
      },
      {
       "output_type": "stream",
       "stream": "stdout",
       "text": [
        " https://www.encodeproject.org/libraries/ENCLB350ZZZ/\n",
        "2"
       ]
      },
      {
       "output_type": "stream",
       "stream": "stdout",
       "text": [
        " https://www.encodeproject.org/libraries/ENCLB371ZZZ/\n",
        "3"
       ]
      },
      {
       "output_type": "stream",
       "stream": "stdout",
       "text": [
        " https://www.encodeproject.org/libraries/ENCLB375ZZZ/\n",
        "4"
       ]
      },
      {
       "output_type": "stream",
       "stream": "stdout",
       "text": [
        " https://www.encodeproject.org/libraries/ENCLB349ZZZ/\n",
        "5"
       ]
      },
      {
       "output_type": "stream",
       "stream": "stdout",
       "text": [
        " https://www.encodeproject.org/libraries/ENCLB338ZZZ/\n",
        "6"
       ]
      },
      {
       "output_type": "stream",
       "stream": "stdout",
       "text": [
        " https://www.encodeproject.org/libraries/ENCLB326ZZZ/\n",
        "7"
       ]
      },
      {
       "output_type": "stream",
       "stream": "stdout",
       "text": [
        " https://www.encodeproject.org/libraries/ENCLB316ZZZ/\n",
        "8"
       ]
      },
      {
       "output_type": "stream",
       "stream": "stdout",
       "text": [
        " https://www.encodeproject.org/libraries/ENCLB312ZZZ/\n",
        "9"
       ]
      },
      {
       "output_type": "stream",
       "stream": "stdout",
       "text": [
        " https://www.encodeproject.org/libraries/ENCLB348ZZZ/\n",
        "10"
       ]
      },
      {
       "output_type": "stream",
       "stream": "stdout",
       "text": [
        " https://www.encodeproject.org/libraries/ENCLB325ZZZ/\n",
        "11"
       ]
      },
      {
       "output_type": "stream",
       "stream": "stdout",
       "text": [
        " https://www.encodeproject.org/libraries/ENCLB335ZZZ/\n",
        "12"
       ]
      },
      {
       "output_type": "stream",
       "stream": "stdout",
       "text": [
        " https://www.encodeproject.org/libraries/ENCLB328ZZZ/\n",
        "13"
       ]
      },
      {
       "output_type": "stream",
       "stream": "stdout",
       "text": [
        " https://www.encodeproject.org/libraries/ENCLB322ZZZ/\n",
        "14"
       ]
      },
      {
       "output_type": "stream",
       "stream": "stdout",
       "text": [
        " https://www.encodeproject.org/libraries/ENCLB354ZZZ/\n",
        "15"
       ]
      },
      {
       "output_type": "stream",
       "stream": "stdout",
       "text": [
        " https://www.encodeproject.org/libraries/ENCLB317ZZZ/\n",
        "16"
       ]
      },
      {
       "output_type": "stream",
       "stream": "stdout",
       "text": [
        " https://www.encodeproject.org/libraries/ENCLB329ZZZ/\n",
        "17"
       ]
      },
      {
       "output_type": "stream",
       "stream": "stdout",
       "text": [
        " https://www.encodeproject.org/libraries/ENCLB347ZZZ/\n",
        "18"
       ]
      },
      {
       "output_type": "stream",
       "stream": "stdout",
       "text": [
        " https://www.encodeproject.org/libraries/ENCLB353ZZZ/\n",
        "19"
       ]
      },
      {
       "output_type": "stream",
       "stream": "stdout",
       "text": [
        " https://www.encodeproject.org/libraries/ENCLB332ZZZ/\n",
        "20"
       ]
      },
      {
       "output_type": "stream",
       "stream": "stdout",
       "text": [
        " https://www.encodeproject.org/libraries/ENCLB339ZZZ/\n",
        "21"
       ]
      },
      {
       "output_type": "stream",
       "stream": "stdout",
       "text": [
        " https://www.encodeproject.org/libraries/ENCLB370ZZZ/\n",
        "22"
       ]
      },
      {
       "output_type": "stream",
       "stream": "stdout",
       "text": [
        " https://www.encodeproject.org/libraries/ENCLB337ZZZ/\n",
        "23"
       ]
      },
      {
       "output_type": "stream",
       "stream": "stdout",
       "text": [
        " https://www.encodeproject.org/libraries/ENCLB507FSU/\n",
        "24"
       ]
      },
      {
       "output_type": "stream",
       "stream": "stdout",
       "text": [
        " https://www.encodeproject.org/libraries/ENCLB341ZZZ/\n",
        "25"
       ]
      },
      {
       "output_type": "stream",
       "stream": "stdout",
       "text": [
        " https://www.encodeproject.org/libraries/ENCLB344ZZZ/\n",
        "26"
       ]
      },
      {
       "output_type": "stream",
       "stream": "stdout",
       "text": [
        " https://www.encodeproject.org/libraries/ENCLB321ZZZ/\n",
        "27"
       ]
      },
      {
       "output_type": "stream",
       "stream": "stdout",
       "text": [
        " https://www.encodeproject.org/libraries/ENCLB715BMJ/\n",
        "28"
       ]
      },
      {
       "output_type": "stream",
       "stream": "stdout",
       "text": [
        " https://www.encodeproject.org/libraries/ENCLB331ZZZ/\n",
        "29"
       ]
      },
      {
       "output_type": "stream",
       "stream": "stdout",
       "text": [
        " https://www.encodeproject.org/libraries/ENCLB314ZZZ/\n",
        "30"
       ]
      },
      {
       "output_type": "stream",
       "stream": "stdout",
       "text": [
        " https://www.encodeproject.org/libraries/ENCLB327ZZZ/\n",
        "31"
       ]
      },
      {
       "output_type": "stream",
       "stream": "stdout",
       "text": [
        " https://www.encodeproject.org/libraries/ENCLB330ZZZ/\n",
        "32"
       ]
      },
      {
       "output_type": "stream",
       "stream": "stdout",
       "text": [
        " https://www.encodeproject.org/libraries/ENCLB318ZZZ/\n",
        "33"
       ]
      },
      {
       "output_type": "stream",
       "stream": "stdout",
       "text": [
        " https://www.encodeproject.org/libraries/ENCLB345ZZZ/\n",
        "34"
       ]
      },
      {
       "output_type": "stream",
       "stream": "stdout",
       "text": [
        " https://www.encodeproject.org/libraries/ENCLB320ZZZ/\n",
        "35"
       ]
      },
      {
       "output_type": "stream",
       "stream": "stdout",
       "text": [
        " https://www.encodeproject.org/libraries/ENCLB315ZZZ/\n",
        "36"
       ]
      },
      {
       "output_type": "stream",
       "stream": "stdout",
       "text": [
        " https://www.encodeproject.org/libraries/ENCLB313ZZZ/\n",
        "37"
       ]
      },
      {
       "output_type": "stream",
       "stream": "stdout",
       "text": [
        " https://www.encodeproject.org/libraries/ENCLB346ZZZ/\n",
        "38"
       ]
      },
      {
       "output_type": "stream",
       "stream": "stdout",
       "text": [
        " https://www.encodeproject.org/libraries/ENCLB343ZZZ/\n",
        "39"
       ]
      },
      {
       "output_type": "stream",
       "stream": "stdout",
       "text": [
        " https://www.encodeproject.org/libraries/ENCLB342ZZZ/\n",
        "40"
       ]
      },
      {
       "output_type": "stream",
       "stream": "stdout",
       "text": [
        " https://www.encodeproject.org/libraries/ENCLB351ZZZ/\n",
        "41"
       ]
      },
      {
       "output_type": "stream",
       "stream": "stdout",
       "text": [
        " https://www.encodeproject.org/libraries/ENCLB340ZZZ/\n",
        "42"
       ]
      },
      {
       "output_type": "stream",
       "stream": "stdout",
       "text": [
        " https://www.encodeproject.org/libraries/ENCLB323ZZZ/\n",
        "43"
       ]
      },
      {
       "output_type": "stream",
       "stream": "stdout",
       "text": [
        " https://www.encodeproject.org/libraries/ENCLB319ZZZ/\n"
       ]
      }
     ],
     "prompt_number": 30
    },
    {
     "cell_type": "code",
     "collapsed": false,
     "input": [
      "q = RDF.SPARQLQuery(\"\"\"\n",
      "PREFIX htsw: <http://jumpgate.caltech.edu/wiki/LibraryOntology#>\n",
      "PREFIX barbara-wold: <http://jumpgate.caltech.edu/wiki/LibraryOntology#>\n",
      "PREFIX experiment: <https://www.encodeproject.org/profiles/experiment.json#> \n",
      "PREFIX library: <https://www.encodeproject.org/profiles/library.json#> \n",
      "PREFIX replicate: <https://www.encodeproject.org/profiles/replicate.json#>\n",
      "PREFIX xsd: <http://www.w3.org/2001/XMLSchema#>\n",
      "PREFIX daf: <http://jumpgate.caltech.edu/wiki/UcscDaf#>\n",
      "\n",
      "construct { \n",
      "  ?library daf:control_library ?control_library . \n",
      "} where {\n",
      "  select \n",
      "         ( IRI(CONCAT(\"http://jumpgate.caltech.edu/library/\", ?control_id, \"/\"))  as ?control_library )\n",
      "  where {\n",
      "    ?library daf:controlId ?control_id\n",
      "  }\n",
      "}\n",
      "\"\"\")\n",
      "results = q.execute(model)\n",
      "for s in results.as_stream():\n",
      "    #print(s)\n",
      "    model.append(s)"
     ],
     "language": "python",
     "metadata": {},
     "outputs": [],
     "prompt_number": 31
    },
    {
     "cell_type": "heading",
     "level": 1,
     "metadata": {},
     "source": [
      "What library is controlled by what library"
     ]
    },
    {
     "cell_type": "markdown",
     "metadata": {},
     "source": [
      "Well what was controlled by what according to Georgi back in ye-olde ENCODE2 days.\n",
      "\n",
      "There is likely to be some collisions as some libraries were processed as both 32 and 50 bp sets so they could be used with libraries that were sequenced at either length.\n",
      "\n",
      "Since the list of libraries I imported from the DCC were a subset determined by what they were asking about I don't have the library accession numbers for what was being controlled."
     ]
    },
    {
     "cell_type": "code",
     "collapsed": false,
     "input": [
      "%%sparql -m model -c\n",
      "select ?accession ?jumpgate ?name ?created ?control_length ?control_id ?control_name\n",
      "where {\n",
      "  ?jumpgate \n",
      "            daf:controlId ?control_id ;\n",
      "            daf:control_library ?control_library ;\n",
      "            daf:control ?control_length ;\n",
      "            htsw:date ?created .\n",
      "  OPTIONAL { ?accession htsw:library ?jumpgate .}\n",
      "  OPTIONAL { ?jumpgate htsw:name ?name . }\n",
      "  OPTIONAL { ?control_library htsw:name ?control_name }\n",
      "}\n",
      "order by ?control_id ?control_length ?jumpgate"
     ],
     "language": "python",
     "metadata": {},
     "outputs": [
      {
       "output_type": "stream",
       "stream": "stdout",
       "text": [
        "Found 46 rows.\n"
       ]
      },
      {
       "html": [
        "<table><tr><td>accession</td><td>jumpgate</td><td>name</td><td>created</td><td>control_length</td><td>control_id</td><td>control_name</td></tr><tr><td><a href=\"https://www.encodeproject.org/libraries/ENCLB372ZZZ/\">libraries:ENCLB372ZZZ/</a></td><td><a href=\"http://jumpgate.caltech.edu/library/10007/\">library:10007/</a></td><td>Control 24hr MYOD</td><td>2007-05-12T00:00:00</td><td>Control_32bp</td><td>10007</td><td>Control 24hr MYOD</td></tr><tr><td><a href=\"https://www.encodeproject.org/libraries/ENCLB375ZZZ/\">libraries:ENCLB375ZZZ/</a></td><td><a href=\"http://jumpgate.caltech.edu/library/10150/\">library:10150/</a></td><td>C2C12 24h Diff FD5 SC CHIP 10 a</td><td>2007-12-21T00:00:00</td><td>Control_32bp</td><td>10007</td><td>Control 24hr MYOD</td></tr><tr><td><a href=\"https://www.encodeproject.org/libraries/ENCLB326ZZZ/\">libraries:ENCLB326ZZZ/</a></td><td><a href=\"http://jumpgate.caltech.edu/library/10296/\">library:10296/</a></td><td>MYOD ChIP myocyte 24hr Super a</td><td>2008-06-27T00:00:00</td><td>Control_32bp</td><td>10007</td><td>Control 24hr MYOD</td></tr><tr><td><a href=\"https://www.encodeproject.org/libraries/ENCLB316ZZZ/\">libraries:ENCLB316ZZZ/</a></td><td><a href=\"http://jumpgate.caltech.edu/library/10330/\">library:10330/</a></td><td>C2C12 24hr H3ac ChIP KF 7/21/08 a</td><td>2008-07-25T00:00:00</td><td>Control_32bp</td><td>10007</td><td>Control 24hr MYOD</td></tr><tr><td><a href=\"https://www.encodeproject.org/libraries/ENCLB325ZZZ/\">libraries:ENCLB325ZZZ/</a></td><td><a href=\"http://jumpgate.caltech.edu/library/10335/\">library:10335/</a></td><td>SRF 24hr Diff Myocyte 3IP a</td><td>2008-08-08T00:00:00</td><td>Control_32bp</td><td>10007</td><td>Control 24hr MYOD</td></tr><tr><td><a href=\"https://www.encodeproject.org/libraries/ENCLB350ZZZ/\">libraries:ENCLB350ZZZ/</a></td><td><a href=\"http://jumpgate.caltech.edu/library/10065/\">library:10065/</a></td><td>C2C12 Cyc anti-NRSF a</td><td>2007-10-11T00:00:00</td><td>Control_32bp</td><td>10065</td><td>C2C12 Cyc anti-NRSF a</td></tr><tr><td><a href=\"https://www.encodeproject.org/libraries/ENCLB371ZZZ/\">libraries:ENCLB371ZZZ/</a></td><td><a href=\"http://jumpgate.caltech.edu/library/10135/\">library:10135/</a></td><td>C2C12 Cyc Mock new a</td><td>2007-11-14T00:00:00</td><td>Control_32bp</td><td>10135</td><td>C2C12 Cyc Mock new a</td></tr><tr><td><a href=\"https://www.encodeproject.org/libraries/ENCLB312ZZZ/\">libraries:ENCLB312ZZZ/</a></td><td><a href=\"http://jumpgate.caltech.edu/library/10331/\">library:10331/</a></td><td>C2C12 cyc H3ac ChIP KF 7/21/08 a</td><td>2008-07-25T00:00:00</td><td>Control_32bp</td><td>10135</td><td>C2C12 Cyc Mock new a</td></tr><tr><td><a href=\"https://www.encodeproject.org/libraries/ENCLB348ZZZ/\">libraries:ENCLB348ZZZ/</a></td><td><a href=\"http://jumpgate.caltech.edu/library/10333/\">library:10333/</a></td><td>MyOD COM myoblast 3IP replicate (new antibodies) a</td><td>2008-08-08T00:00:00</td><td>Control_32bp</td><td>10135</td><td>C2C12 Cyc Mock new a</td></tr><tr><td><a href=\"https://www.encodeproject.org/libraries/ENCLB329ZZZ/\">libraries:ENCLB329ZZZ/</a></td><td><a href=\"http://jumpgate.caltech.edu/library/10599/\">library:10599/</a></td><td>MyoG ChIP Exponential C2C12 1/9/9 a</td><td>2009-01-16T00:00:00</td><td>Control_32bp</td><td>10135</td><td>C2C12 Cyc Mock new a</td></tr><tr><td><a href=\"https://www.encodeproject.org/libraries/ENCLB349ZZZ/\">libraries:ENCLB349ZZZ/</a></td><td><a href=\"http://jumpgate.caltech.edu/library/10158/\">library:10158/</a></td><td>61 hr Chromatin IP</td><td>2007-12-20T00:00:00</td><td>Control_32bp</td><td>10194</td><td>C2C12 61h control CHIP-seq reagents a</td></tr><tr><td><a href=\"https://www.encodeproject.org/libraries/ENCLB374ZZZ/\">libraries:ENCLB374ZZZ/</a></td><td><a href=\"http://jumpgate.caltech.edu/library/10194/\">library:10194/</a></td><td>C2C12 61h control CHIP-seq reagents a</td><td>2008-02-08T00:00:00</td><td>Control_32bp</td><td>10194</td><td>C2C12 61h control CHIP-seq reagents a</td></tr><tr><td><a href=\"https://www.encodeproject.org/libraries/ENCLB338ZZZ/\">libraries:ENCLB338ZZZ/</a></td><td><a href=\"http://jumpgate.caltech.edu/library/10194/\">library:10194/</a></td><td>C2C12 61h control CHIP-seq reagents a</td><td>2008-02-08T00:00:00</td><td>Control_32bp</td><td>10194</td><td>C2C12 61h control CHIP-seq reagents a</td></tr><tr><td><a href=\"https://www.encodeproject.org/libraries/ENCLB335ZZZ/\">libraries:ENCLB335ZZZ/</a></td><td><a href=\"http://jumpgate.caltech.edu/library/10409/\">library:10409/</a></td><td>E2A 1/2 72h a ChIP 50x a</td><td>2008-09-16T00:00:00</td><td>Control_32bp</td><td>10194</td><td>C2C12 61h control CHIP-seq reagents a</td></tr><tr><td><a href=\"https://www.encodeproject.org/libraries/ENCLB322ZZZ/\">libraries:ENCLB322ZZZ/</a></td><td><a href=\"http://jumpgate.caltech.edu/library/10502/\">library:10502/</a></td><td>C2C12 H3Kme3 cycling ChIP KF 10/9/8 PAGE 150-300 a</td><td>2008-10-30T00:00:00</td><td>Control_32bp</td><td>10194</td><td>C2C12 61h control CHIP-seq reagents a</td></tr><tr><td><a href=\"https://www.encodeproject.org/libraries/ENCLB354ZZZ/\">libraries:ENCLB354ZZZ/</a></td><td><a href=\"http://jumpgate.caltech.edu/library/10506/\">library:10506/</a></td><td>CTCF C2 60h KF 10/9/08 (new lot DAM1472197) a</td><td>2008-10-30T00:00:00</td><td>Control_32bp</td><td>10194</td><td>C2C12 61h control CHIP-seq reagents a</td></tr><tr><td><a href=\"https://www.encodeproject.org/libraries/ENCLB317ZZZ/\">libraries:ENCLB317ZZZ/</a></td><td><a href=\"http://jumpgate.caltech.edu/library/10536/\">library:10536/</a></td><td>H3K27me3 C2C12 60h ChIP KF 11/11/8 a</td><td>2008-11-25T00:00:00</td><td>Control_32bp</td><td>10194</td><td>C2C12 61h control CHIP-seq reagents a</td></tr><tr><td><a href=\"https://www.encodeproject.org/libraries/ENCLB347ZZZ/\">libraries:ENCLB347ZZZ/</a></td><td><a href=\"http://jumpgate.caltech.edu/library/10703/\">library:10703/</a></td><td>2/19/9 Pol2 S2 60hr C2C12 ChIP a</td><td>2009-02-26T00:00:00</td><td>Control_32bp</td><td>10194</td><td>C2C12 61h control CHIP-seq reagents a</td></tr><tr><td><a href=\"https://www.encodeproject.org/libraries/ENCLB353ZZZ/\">libraries:ENCLB353ZZZ/</a></td><td><a href=\"http://jumpgate.caltech.edu/library/10704/\">library:10704/</a></td><td>2/19/9 Pol2 8wg 60hr C2C12 ChIP a</td><td>2009-02-26T00:00:00</td><td>Control_32bp</td><td>10194</td><td>C2C12 61h control CHIP-seq reagents a</td></tr><tr><td><a href=\"https://www.encodeproject.org/libraries/ENCLB328ZZZ/\">libraries:ENCLB328ZZZ/</a></td><td><a href=\"http://jumpgate.caltech.edu/library/10481/\">library:10481/</a></td><td>C2C12 MyoD 60hr Replicate ChIP 10/9/8 a</td><td>2008-10-15T00:00:00</td><td>Control_32bp</td><td>10481</td><td>C2C12 MyoD 60hr Replicate ChIP 10/9/8 a</td></tr><tr><td><a href=\"https://www.encodeproject.org/libraries/ENCLB373ZZZ/\">libraries:ENCLB373ZZZ/</a></td><td><a href=\"http://jumpgate.caltech.edu/library/11610/\">library:11610/</a></td><td>C2C12 60h Input 4/25/10 [NEB ligation] (adaptor 4) a</td><td>2010-06-11T00:00:00</td><td>Control_50bp</td><td>11610</td><td>C2C12 60h Input 4/25/10 [NEB ligation] (adaptor 4) a</td></tr><tr><td><a href=\"https://www.encodeproject.org/libraries/ENCLB339ZZZ/\">libraries:ENCLB339ZZZ/</a></td><td><a href=\"http://jumpgate.caltech.edu/library/11610/\">library:11610/</a></td><td>C2C12 60h Input 4/25/10 [NEB ligation] (adaptor 4) a</td><td>2010-06-11T00:00:00</td><td>Control_50bp</td><td>11610</td><td>C2C12 60h Input 4/25/10 [NEB ligation] (adaptor 4) a</td></tr><tr><td><a href=\"https://www.encodeproject.org/libraries/ENCLB341ZZZ/\">libraries:ENCLB341ZZZ/</a></td><td><a href=\"http://jumpgate.caltech.edu/library/11644/\">library:11644/</a></td><td>C2C12 60h USF1 5/4/10 (adaptor 6) a</td><td>2010-06-17T00:00:00</td><td>Control_50bp</td><td>11610</td><td>C2C12 60h Input 4/25/10 [NEB ligation] (adaptor 4) a</td></tr><tr><td><a href=\"https://www.encodeproject.org/libraries/ENCLB344ZZZ/\">libraries:ENCLB344ZZZ/</a></td><td><a href=\"http://jumpgate.caltech.edu/library/11653/\">library:11653/</a></td><td>C2C12 60h CEBPb 5/4/10 (adaptor 1) a</td><td>2010-09-18T00:00:00</td><td>Control_50bp</td><td>11610</td><td>C2C12 60h Input 4/25/10 [NEB ligation] (adaptor 4) a</td></tr><tr><td><a href=\"https://www.encodeproject.org/libraries/ENCLB321ZZZ/\">libraries:ENCLB321ZZZ/</a></td><td><a href=\"http://jumpgate.caltech.edu/library/11669/\">library:11669/</a></td><td>C2C12 60h H3K79 me2 4/27/10 (adaptor 2) a</td><td>2010-06-23T00:00:00</td><td>Control_50bp</td><td>11610</td><td>C2C12 60h Input 4/25/10 [NEB ligation] (adaptor 4) a</td></tr><tr><td><a href=\"https://www.encodeproject.org/libraries/ENCLB331ZZZ/\">libraries:ENCLB331ZZZ/</a></td><td><a href=\"http://jumpgate.caltech.edu/library/11682/\">library:11682/</a></td><td>C2C12 60h Max 4/25/10 (adaptor 7) a</td><td>2010-06-25T00:00:00</td><td>Control_50bp</td><td>11610</td><td>C2C12 60h Input 4/25/10 [NEB ligation] (adaptor 4) a</td></tr><tr><td><a href=\"https://www.encodeproject.org/libraries/ENCLB314ZZZ/\">libraries:ENCLB314ZZZ/</a></td><td><a href=\"http://jumpgate.caltech.edu/library/11697/\">library:11697/</a></td><td>C2C12 60h H3k36me3 4/27/10 (adaptor 6) a</td><td>2010-06-29T00:00:00</td><td>Control_50bp</td><td>11610</td><td>C2C12 60h Input 4/25/10 [NEB ligation] (adaptor 4) a</td></tr><tr><td><a href=\"https://www.encodeproject.org/libraries/ENCLB327ZZZ/\">libraries:ENCLB327ZZZ/</a></td><td><a href=\"http://jumpgate.caltech.edu/library/11718/\">library:11718/</a></td><td>C2C12 60h E2F4 6/27/10 (adaptor 3) a</td><td>2010-09-18T00:00:00</td><td>Control_50bp</td><td>11610</td><td>C2C12 60h Input 4/25/10 [NEB ligation] (adaptor 4) a</td></tr><tr><td><a href=\"https://www.encodeproject.org/libraries/ENCLB330ZZZ/\">libraries:ENCLB330ZZZ/</a></td><td><a href=\"http://jumpgate.caltech.edu/library/11719/\">library:11719/</a></td><td>C2C12 60h HEB 6/27/10 (adaptor 1) a</td><td>2010-09-10T00:00:00</td><td>Control_50bp</td><td>11610</td><td>C2C12 60h Input 4/25/10 [NEB ligation] (adaptor 4) a</td></tr><tr><td><a href=\"https://www.encodeproject.org/libraries/ENCLB318ZZZ/\">libraries:ENCLB318ZZZ/</a></td><td><a href=\"http://jumpgate.caltech.edu/library/11832/\">library:11832/</a></td><td>C2C12 60h H3K4me2 6/27/10 (adaptor 3) a</td><td>2010-08-26T00:00:00</td><td>Control_50bp</td><td>11610</td><td>C2C12 60h Input 4/25/10 [NEB ligation] (adaptor 4) a</td></tr><tr><td><a href=\"https://www.encodeproject.org/libraries/ENCLB345ZZZ/\">libraries:ENCLB345ZZZ/</a></td><td><a href=\"http://jumpgate.caltech.edu/library/11847/\">library:11847/</a></td><td>C2C12 60h C/EBPb 6/22/10 (adaptor 6) a</td><td>2010-09-10T00:00:00</td><td>Control_50bp</td><td>11610</td><td>C2C12 60h Input 4/25/10 [NEB ligation] (adaptor 4) a</td></tr><tr><td><a href=\"https://www.encodeproject.org/libraries/ENCLB319ZZZ/\">libraries:ENCLB319ZZZ/</a></td><td><a href=\"http://jumpgate.caltech.edu/library/11957/\">library:11957/</a></td><td>C2C12 60h H3K4me3 4/18/10 9/22/10 (adaptor 2) a</td><td>2010-09-29T00:00:00</td><td>Control_50bp</td><td>11610</td><td>C2C12 60h Input 4/25/10 [NEB ligation] (adaptor 4) a</td></tr><tr><td><a href=\"https://www.encodeproject.org/libraries/ENCLB332ZZZ/\">libraries:ENCLB332ZZZ/</a></td><td><a href=\"http://jumpgate.caltech.edu/library/11565/\">library:11565/</a></td><td>C2C12 exp FOSL1 5/14/10 (adaptor 7) a</td><td>2010-05-26T00:00:00</td><td>Control_36bp</td><td>11612</td><td>C2C12 Input exp 4/21/10 (adaptor 1) a</td></tr><tr><td><a href=\"https://www.encodeproject.org/libraries/ENCLB370ZZZ/\">libraries:ENCLB370ZZZ/</a></td><td><a href=\"http://jumpgate.caltech.edu/library/11612/\">library:11612/</a></td><td>C2C12 Input exp 4/21/10 (adaptor 1) a</td><td>2010-06-11T00:00:00</td><td>Control_50bp</td><td>11612</td><td>C2C12 Input exp 4/21/10 (adaptor 1) a</td></tr><tr><td><a href=\"https://www.encodeproject.org/libraries/ENCLB320ZZZ/\">libraries:ENCLB320ZZZ/</a></td><td><a href=\"http://jumpgate.caltech.edu/library/11905/\">library:11905/</a></td><td>C2C12 exp H3K36me3 5/16/10 (adaptor 3) a</td><td>2010-09-22T00:00:00</td><td>Control_50bp</td><td>11612</td><td>C2C12 Input exp 4/21/10 (adaptor 1) a</td></tr><tr><td><a href=\"https://www.encodeproject.org/libraries/ENCLB315ZZZ/\">libraries:ENCLB315ZZZ/</a></td><td><a href=\"http://jumpgate.caltech.edu/library/11906/\">library:11906/</a></td><td>C2C12 exp H3K79me2 5/16/10 (adaptor 6) a</td><td>2010-09-22T00:00:00</td><td>Control_50bp</td><td>11612</td><td>C2C12 Input exp 4/21/10 (adaptor 1) a</td></tr><tr><td><a href=\"https://www.encodeproject.org/libraries/ENCLB313ZZZ/\">libraries:ENCLB313ZZZ/</a></td><td><a href=\"http://jumpgate.caltech.edu/library/11907/\">library:11907/</a></td><td>C2C12 exp H3K79me3 5/16/10 (adaptor 7) a</td><td>2010-09-22T00:00:00</td><td>Control_50bp</td><td>11612</td><td>C2C12 Input exp 4/21/10 (adaptor 1) a</td></tr><tr><td><a href=\"https://www.encodeproject.org/libraries/ENCLB346ZZZ/\">libraries:ENCLB346ZZZ/</a></td><td><a href=\"http://jumpgate.caltech.edu/library/11923/\">library:11923/</a></td><td>C2C12 exp USF1 4/21/10 (adaptor 10) a</td><td>2010-09-23T00:00:00</td><td>Control_50bp</td><td>11612</td><td>C2C12 Input exp 4/21/10 (adaptor 1) a</td></tr><tr><td><a href=\"https://www.encodeproject.org/libraries/ENCLB343ZZZ/\">libraries:ENCLB343ZZZ/</a></td><td><a href=\"http://jumpgate.caltech.edu/library/11924/\">library:11924/</a></td><td>C2C12 exp Max 5/14/10 (adaptor 3) a</td><td>2010-09-23T00:00:00</td><td>Control_50bp</td><td>11612</td><td>C2C12 Input exp 4/21/10 (adaptor 1) a</td></tr><tr><td><a href=\"https://www.encodeproject.org/libraries/ENCLB340ZZZ/\">libraries:ENCLB340ZZZ/</a></td><td><a href=\"http://jumpgate.caltech.edu/library/11942/\">library:11942/</a></td><td>C2C12 exp CEBPb 5/14/10 (adaptor 12) a</td><td>2010-09-28T00:00:00</td><td>Control_50bp</td><td>11612</td><td>C2C12 Input exp 4/21/10 (adaptor 1) a</td></tr><tr><td><a href=\"https://www.encodeproject.org/libraries/ENCLB323ZZZ/\">libraries:ENCLB323ZZZ/</a></td><td><a href=\"http://jumpgate.caltech.edu/library/11956/\">library:11956/</a></td><td>C2C12 exp H3K4me3 9/22/10 (adaptor 1) a</td><td>2010-09-29T00:00:00</td><td>Control_50bp</td><td>11612</td><td>C2C12 Input exp 4/21/10 (adaptor 1) a</td></tr><tr><td><a href=\"https://www.encodeproject.org/libraries/ENCLB337ZZZ/\">libraries:ENCLB337ZZZ/</a></td><td><a href=\"http://jumpgate.caltech.edu/library/11637/\">library:11637/</a></td><td>C2C12 60h Input 4/21/10 (adaptor 9) a</td><td>2010-06-17T00:00:00</td><td>Control_50bp</td><td>11637</td><td>C2C12 60h Input 4/21/10 (adaptor 9) a</td></tr><tr><td><a href=\"https://www.encodeproject.org/libraries/ENCLB342ZZZ/\">libraries:ENCLB342ZZZ/</a></td><td><a href=\"http://jumpgate.caltech.edu/library/11926/\">library:11926/</a></td><td>C2C12 7d MYOD 4/18/10 (adaptor 1) a</td><td>2010-09-23T00:00:00</td><td>Control_50bp</td><td>11637</td><td>C2C12 60h Input 4/21/10 (adaptor 9) a</td></tr><tr><td><a href=\"https://www.encodeproject.org/libraries/ENCLB351ZZZ/\">libraries:ENCLB351ZZZ/</a></td><td><a href=\"http://jumpgate.caltech.edu/library/11927/\">library:11927/</a></td><td>C2C12 7d myogenin 4/18/10 (adaptor 2) a</td><td>2010-09-23T00:00:00</td><td>Control_50bp</td><td>11637</td><td>C2C12 60h Input 4/21/10 (adaptor 9) a</td></tr><tr><td><a href=\"https://www.encodeproject.org/libraries/ENCLB507FSU/\">libraries:ENCLB507FSU/</a></td><td><a href=\"http://jumpgate.caltech.edu/library/11638/\">library:11638/</a></td><td>C2C12 exp Input 5/14/10(adaptor 10) a</td><td>2010-06-17T00:00:00</td><td>Control_50bp</td><td>11638</td><td>C2C12 exp Input 5/14/10(adaptor 10) a</td></tr><tr><td><a href=\"https://www.encodeproject.org/libraries/ENCLB715BMJ/\">libraries:ENCLB715BMJ/</a></td><td><a href=\"http://jumpgate.caltech.edu/library/11670/\">library:11670/</a></td><td>C2C12 exp Input 4/17/10 (adaptor 9) a</td><td>2010-06-23T00:00:00</td><td>Control_50bp</td><td>11670</td><td>C2C12 exp Input 4/17/10 (adaptor 9) a</td></tr></table>"
       ],
       "metadata": {},
       "output_type": "pyout",
       "prompt_number": 34,
       "text": [
        "<rdfmagic.LibRdfResults at 0x7f48b7547210>"
       ]
      }
     ],
     "prompt_number": 34
    },
    {
     "cell_type": "code",
     "collapsed": false,
     "input": [],
     "language": "python",
     "metadata": {},
     "outputs": [],
     "prompt_number": 32
    }
   ],
   "metadata": {}
  }
 ]
}