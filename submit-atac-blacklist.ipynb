{
 "cells": [
  {
   "cell_type": "markdown",
   "metadata": {},
   "source": [
    "# Introduction"
   ]
  },
  {
   "cell_type": "markdown",
   "metadata": {},
   "source": [
    "Unfortunately all my file submission code is built around submitting libraries attached to  experiments, and these 4 files are very different from that."
   ]
  },
  {
   "cell_type": "code",
   "execution_count": null,
   "metadata": {
    "collapsed": false
   },
   "outputs": [],
   "source": [
    "import pandas\n",
    "import os\n",
    "import sys\n",
    "import hashlib\n",
    "import jsonschema\n",
    "import requests\n",
    "import logging\n",
    "import importlib\n",
    "import gzip\n",
    "\n",
    "importlib.reload(logging)\n",
    "logging.basicConfig(level=logging.INFO)"
   ]
  },
  {
   "cell_type": "code",
   "execution_count": null,
   "metadata": {
    "collapsed": true
   },
   "outputs": [],
   "source": [
    "ROOT = os.path.expanduser('~/proj/htsworkflow')\n",
    "if ROOT not in sys.path:\n",
    "    sys.path.append(ROOT)"
   ]
  },
  {
   "cell_type": "code",
   "execution_count": null,
   "metadata": {
    "collapsed": false
   },
   "outputs": [],
   "source": [
    "from htsworkflow.submission.encoded import ENCODED\n",
    "from htsworkflow.submission import aws_submission"
   ]
  },
  {
   "cell_type": "code",
   "execution_count": null,
   "metadata": {
    "collapsed": true
   },
   "outputs": [],
   "source": [
    "server = ENCODED('www.encodeproject.org')\n",
    "server.load_netrc()"
   ]
  },
  {
   "cell_type": "code",
   "execution_count": null,
   "metadata": {
    "collapsed": true
   },
   "outputs": [],
   "source": [
    "blacklist = [\n",
    "    'http://woldlab.caltech.edu/~phe/temp2/hg19mitoblack.bed',\n",
    "    'http://woldlab.caltech.edu/~phe/temp2/hg38mitoblack.bed',\n",
    "    'http://woldlab.caltech.edu/~phe/temp2/mm9mitoblack.bed',\n",
    "    'http://woldlab.caltech.edu/~phe/temp2/mm10mitoblack.bed',\n",
    "]\n",
    "\n",
    "metadata = {\n",
    "    'dataset': '/annotations/ENCSR064IDX/',\n",
    "    'file_format': 'bed',\n",
    "    'file_format_type': 'bed3',\n",
    "    'award': 'U54HG006998',\n",
    "    'lab': 'barbara-wold',\n",
    "    'output_type':  \"semi-automated genome annotation\",\n",
    "}"
   ]
  },
  {
   "cell_type": "code",
   "execution_count": null,
   "metadata": {
    "collapsed": true
   },
   "outputs": [],
   "source": [
    "os.chdir('/dev/shm')"
   ]
  },
  {
   "cell_type": "code",
   "execution_count": null,
   "metadata": {
    "collapsed": false
   },
   "outputs": [],
   "source": [
    "def cache_blacklist(blacklist, metadata):\n",
    "    for bed in blacklist:\n",
    "        _, name = os.path.split(bed)\n",
    "        name += '.gz'\n",
    "        req = requests.get(bed)\n",
    "        contents = req.content\n",
    "        compressed = gzip.compress(contents, compresslevel=9)\n",
    "        with open(name, 'wb') as outstream:\n",
    "            outstream.write(compressed)\n",
    "        payload = metadata.copy()\n",
    "        payload['md5sum'] = hashlib.md5(compressed).hexdigest()\n",
    "        payload['submitted_file_name'] = name\n",
    "        yield payload"
   ]
  },
  {
   "cell_type": "code",
   "execution_count": null,
   "metadata": {
    "collapsed": false
   },
   "outputs": [],
   "source": [
    "for payload in cache_blacklist(blacklist, metadata):\n",
    "    aws_submission.upload_file(server, payload, dry_run=False)"
   ]
  },
  {
   "cell_type": "code",
   "execution_count": null,
   "metadata": {
    "collapsed": true
   },
   "outputs": [],
   "source": []
  }
 ],
 "metadata": {
  "kernelspec": {
   "display_name": "Python 3",
   "language": "python",
   "name": "python3"
  },
  "language_info": {
   "codemirror_mode": {
    "name": "ipython",
    "version": 3
   },
   "file_extension": ".py",
   "mimetype": "text/x-python",
   "name": "python",
   "nbconvert_exporter": "python",
   "pygments_lexer": "ipython3",
   "version": "3.5.1+"
  }
 },
 "nbformat": 4,
 "nbformat_minor": 0
}
