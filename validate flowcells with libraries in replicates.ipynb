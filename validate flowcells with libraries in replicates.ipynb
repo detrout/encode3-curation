{
 "metadata": {
  "name": "",
  "signature": "sha256:31d77316d0c7f6ea34eb93a62093cd012746ca31f44360415f5315e33eaf9436"
 },
 "nbformat": 3,
 "nbformat_minor": 0,
 "worksheets": [
  {
   "cells": [
    {
     "cell_type": "code",
     "collapsed": false,
     "input": [
      "from __future__ import print_function"
     ],
     "language": "python",
     "metadata": {},
     "outputs": [],
     "prompt_number": 1
    },
    {
     "cell_type": "code",
     "collapsed": false,
     "input": [
      "from IPython.display import display_html, clear_output\n",
      "import IPython.display"
     ],
     "language": "python",
     "metadata": {},
     "outputs": [],
     "prompt_number": 2
    },
    {
     "cell_type": "code",
     "collapsed": false,
     "input": [
      "from curation_common import *"
     ],
     "language": "python",
     "metadata": {},
     "outputs": [],
     "prompt_number": 3
    },
    {
     "cell_type": "code",
     "collapsed": false,
     "input": [
      "def read_aliases(filename):\n",
      "    aliases = []\n",
      "    with open(filename, 'r') as instream:\n",
      "        for line in instream:\n",
      "            if line.startswith('barbara-wold:'):\n",
      "                aliases.append(line.rstrip())\n",
      "    return aliases\n",
      "\n",
      "aliases_to_check = read_aliases('librariesWithFlowCellsInReplicates.txt')    "
     ],
     "language": "python",
     "metadata": {},
     "outputs": [],
     "prompt_number": 4
    },
    {
     "cell_type": "code",
     "collapsed": false,
     "input": [
      "len(aliases_to_check)"
     ],
     "language": "python",
     "metadata": {},
     "outputs": [
      {
       "metadata": {},
       "output_type": "pyout",
       "prompt_number": 5,
       "text": [
        "127"
       ]
      }
     ],
     "prompt_number": 5
    },
    {
     "cell_type": "code",
     "collapsed": false,
     "input": [
      "server = ENCODED('www.encodeproject.org')\n",
      "server.load_netrc()"
     ],
     "language": "python",
     "metadata": {},
     "outputs": [],
     "prompt_number": 6
    },
    {
     "cell_type": "code",
     "collapsed": false,
     "input": [
      "model = get_model()"
     ],
     "language": "python",
     "metadata": {},
     "outputs": [],
     "prompt_number": 7
    },
    {
     "cell_type": "code",
     "collapsed": false,
     "input": [
      "search_query = 'https://www.encodedcc.org/search/?type=experiment&lab.title=Barbara+Wold%2C+Caltech&award.rfa=ENCODE3'\n",
      "query_result = server.get_json(search_query)\n",
      "_ = server.convert_search_to_jsonld(query_result)\n",
      "load_jsonld_into_model(model, query_result)"
     ],
     "language": "python",
     "metadata": {},
     "outputs": [],
     "prompt_number": 8
    },
    {
     "cell_type": "code",
     "collapsed": false,
     "input": [
      "%%sparql -m model -o experiments\n",
      "select ?s\n",
      "where {\n",
      "  ?s a experiment:experiment .\n",
      "}"
     ],
     "language": "python",
     "metadata": {},
     "outputs": []
    },
    {
     "cell_type": "code",
     "collapsed": false,
     "input": [
      "for row in experiments:\n",
      "    load_jsonld_into_model(model, server.get_jsonld(str(row['s'])))"
     ],
     "language": "python",
     "metadata": {},
     "outputs": []
    },
    {
     "cell_type": "code",
     "collapsed": false,
     "input": [
      "%%sparql -m model -o file_href_to_wold\n",
      "select ?file ?href ?aliases\n",
      "where {\n",
      "  ?file a file:file ;\n",
      "     file:replicate ?rep ;\n",
      "     file:href ?href ;\n",
      "     file:file_format \"fastq\"^^xsd:string .\n",
      "  ?rep replicate:library ?library .\n",
      "  ?library library:aliases ?aliases .\n",
      "}"
     ],
     "language": "python",
     "metadata": {},
     "outputs": []
    },
    {
     "cell_type": "code",
     "collapsed": false,
     "input": [
      "for i, row in enumerate(file_href_to_wold):\n",
      "    print( str(row['href']), str(row['aliases']) )\n",
      "    if i > 10:\n",
      "        break"
     ],
     "language": "python",
     "metadata": {},
     "outputs": []
    },
    {
     "cell_type": "code",
     "collapsed": false,
     "input": [
      "import validate_encode3_aliases"
     ],
     "language": "python",
     "metadata": {},
     "outputs": []
    },
    {
     "cell_type": "code",
     "collapsed": false,
     "input": [
      "reload(validate_encode3_aliases)"
     ],
     "language": "python",
     "metadata": {},
     "outputs": []
    },
    {
     "cell_type": "code",
     "collapsed": false,
     "input": [
      "FlowcellLookup = validate_encode3_aliases.CheckDCCWoldAlias(server)"
     ],
     "language": "python",
     "metadata": {},
     "outputs": []
    },
    {
     "cell_type": "code",
     "collapsed": false,
     "input": [
      "read_id = FlowcellLookup.read_flowcell_from_url('https://www.encodedcc.org/files/ENCFF001RGH/@@download/ENCFF001RGH.fastq.gz', 'fastq')"
     ],
     "language": "python",
     "metadata": {},
     "outputs": []
    },
    {
     "cell_type": "code",
     "collapsed": false,
     "input": [
      "import shelve"
     ],
     "language": "python",
     "metadata": {},
     "outputs": []
    },
    {
     "cell_type": "code",
     "collapsed": false,
     "input": [
      "fastq_header_cache = shelve.open('headers.shelf', writeback=True)"
     ],
     "language": "python",
     "metadata": {},
     "outputs": []
    },
    {
     "cell_type": "code",
     "collapsed": false,
     "input": [
      "_ = Flowcelllookup.load_headers(fastq_header_cache, file_href_to_wold)"
     ],
     "language": "python",
     "metadata": {},
     "outputs": []
    },
    {
     "cell_type": "code",
     "collapsed": false,
     "input": [
      "for href in fastq_header_cache:\n",
      "    header = fastq_header_cache[href]['header']\n",
      "    read_id = FlowcellLookup.parse_read_id(header)\n",
      "    if not read_id:\n",
      "        print('Unable to parse: {}'.format(header))\n",
      "    else:\n",
      "        fastq_header_cache[href]['read_id'] = read_id\n",
      "    fastq_header_cache.sync()"
     ],
     "language": "python",
     "metadata": {},
     "outputs": []
    },
    {
     "cell_type": "code",
     "collapsed": false,
     "input": [
      "fastq"
     ],
     "language": "python",
     "metadata": {},
     "outputs": []
    },
    {
     "cell_type": "code",
     "collapsed": false,
     "input": [],
     "language": "python",
     "metadata": {},
     "outputs": []
    },
    {
     "cell_type": "code",
     "collapsed": false,
     "input": [
      "fastq_header_cache[href]"
     ],
     "language": "python",
     "metadata": {},
     "outputs": []
    },
    {
     "cell_type": "code",
     "collapsed": false,
     "input": [
      "fastq_header_cache['https://www.encodedcc.org/files/ENCFF002EXO/@@download/ENCFF002EXO.fastq.gz']"
     ],
     "language": "python",
     "metadata": {},
     "outputs": []
    },
    {
     "cell_type": "code",
     "collapsed": false,
     "input": [
      "def doesntwork():\n",
      "    unknown_flowcells = set(['C1JE0ACXX', 'C2812ACXX'])\n",
      "    loaded = set()\n",
      "    for i, row in enumerate(file_href_to_wold):\n",
      "        file_accession = str(row['file'])\n",
      "        href = str(row['href'])\n",
      "        aliases = str(row['aliases'])\n",
      "        library_id = aliases.split(':')[1]\n",
      "        read_id = FlowcellLookup.read_flowcell_from_url(href, 'fastq')\n",
      "        if not read_id:\n",
      "            print(\"Couldn't parse {}\".format(href))\n",
      "            continue\n",
      "        flowcell = read_id[0]\n",
      "        if flowcell in unknown_flowcells:\n",
      "            continue\n",
      "        elif flowcell not in loaded:\n",
      "            load_into_model(model, 'rdfa', 'https://jumpgate.caltech.edu/flowcell/{}'.format(flowcell))\n"
     ],
     "language": "python",
     "metadata": {},
     "outputs": []
    },
    {
     "cell_type": "code",
     "collapsed": false,
     "input": [
      "validate_encode3_aliases.fastq_read_id('https://www.encodedcc.org/files/ENCFF002EYL/@@download/ENCFF002EYL.fastq.gz')"
     ],
     "language": "python",
     "metadata": {},
     "outputs": []
    },
    {
     "cell_type": "code",
     "collapsed": false,
     "input": [
      "import django\n",
      "if not 'DJANGO_SETTINGS_MODULE' in os.environ:\n",
      "    os.environ['DJANGO_SETTINGS_MODULE'] = 'htsworkflow.settings.myrada'\n",
      "django.setup()"
     ],
     "language": "python",
     "metadata": {},
     "outputs": []
    },
    {
     "cell_type": "code",
     "collapsed": false,
     "input": [
      "import experiments.models"
     ],
     "language": "python",
     "metadata": {},
     "outputs": []
    },
    {
     "cell_type": "code",
     "collapsed": false,
     "input": [
      "fc = experiments.models.FlowCell.objects.get(flowcell_id='HA024ADXX')"
     ],
     "language": "python",
     "metadata": {},
     "outputs": []
    },
    {
     "cell_type": "code",
     "collapsed": false,
     "input": [
      "fc."
     ],
     "language": "python",
     "metadata": {},
     "outputs": []
    },
    {
     "cell_type": "code",
     "collapsed": false,
     "input": [
      "fc.lane_set.all()"
     ],
     "language": "python",
     "metadata": {},
     "outputs": []
    },
    {
     "cell_type": "code",
     "collapsed": false,
     "input": [
      "import samples.models"
     ],
     "language": "python",
     "metadata": {},
     "outputs": []
    },
    {
     "cell_type": "code",
     "collapsed": false,
     "input": [
      "l = samples.models.Library.objects.get(id='15016')"
     ],
     "language": "python",
     "metadata": {},
     "outputs": []
    },
    {
     "cell_type": "code",
     "collapsed": false,
     "input": [
      "l.index_sequences()"
     ],
     "language": "python",
     "metadata": {},
     "outputs": []
    },
    {
     "cell_type": "code",
     "collapsed": false,
     "input": [
      "[ f.flowcell.flowcell_id for f in l.lane_set.all()]"
     ],
     "language": "python",
     "metadata": {},
     "outputs": []
    },
    {
     "cell_type": "code",
     "collapsed": false,
     "input": [
      "f.flowcell.sequencer.get_absolute_url()"
     ],
     "language": "python",
     "metadata": {},
     "outputs": []
    },
    {
     "cell_type": "code",
     "collapsed": false,
     "input": [
      "unknown_flowcells = set()\n",
      "report = []\n",
      "for href in fastq_header_cache:\n",
      "    fastq = fastq_header_cache[href]\n",
      "    library_id = fastq['aliases'].split(':')[1]\n",
      "    library = samples.models.Library.objects.get(id=library_id)\n",
      "    barcode = library.index_sequences().values()[0]\n",
      "    lanes = library.lane_set.all()\n",
      "    flowcell = fastq['read_id'][0]\n",
      "    lane_id = fastq['read_id'][1]\n",
      "    fc_is_known = flowcell in [f.flowcell.flowcell_id for f in library.lane_set.all()]\n",
      "    if not fc_is_known:\n",
      "        unknown_flowcells.add(flowcell)\n",
      "    report.append({'href': href.split('@@')[0], \n",
      "                   'short': href[-20:],\n",
      "                   'flowcell': flowcell, \n",
      "                   'lane_id': lane_id, \n",
      "                   'barcode': barcode, \n",
      "                   'library_id': library_id,\n",
      "                   'header': fastq['header']})\n",
      "print('not-in-our-database', unknown_flowcells)"
     ],
     "language": "python",
     "metadata": {},
     "outputs": []
    },
    {
     "cell_type": "code",
     "collapsed": false,
     "input": [
      "# format report\n",
      "html = ['<table>',\n",
      "        '<thead>',\n",
      "        '<tr><td>fastq</td><td>flowcell</td><td>lane</td><td>barcode</td><td>library_id</td><td>fastq header</td></tr>',\n",
      "        '</thead><tbody>']\n",
      "row_format = '<tr><td><a href=\"{href}\">{short}</a></td><td>{flowcell}</td><td>{lane_id}</td><td>{barcode}</td><td>{library_id}</td><td>{header}</td></tr>'\n",
      "for row in sorted(report, key=lambda x: x['library_id']):\n",
      "    html.append(row_format.format(**row))\n",
      "html.append('</tbody></table>')"
     ],
     "language": "python",
     "metadata": {},
     "outputs": []
    },
    {
     "cell_type": "heading",
     "level": 1,
     "metadata": {},
     "source": [
      "Flowcell_properties report"
     ]
    },
    {
     "cell_type": "code",
     "collapsed": false,
     "input": [
      "IPython.display.HTML(''.join(html))"
     ],
     "language": "python",
     "metadata": {},
     "outputs": []
    },
    {
     "cell_type": "code",
     "collapsed": false,
     "input": [],
     "language": "python",
     "metadata": {},
     "outputs": []
    },
    {
     "cell_type": "code",
     "collapsed": false,
     "input": [],
     "language": "python",
     "metadata": {},
     "outputs": []
    }
   ],
   "metadata": {}
  }
 ]
}