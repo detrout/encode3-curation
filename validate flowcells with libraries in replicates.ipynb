{
 "metadata": {
  "name": "",
  "signature": "sha256:f18415402bf267399cb2203d521af304932f039f1534fd4e21c1ed73c672610d"
 },
 "nbformat": 3,
 "nbformat_minor": 0,
 "worksheets": [
  {
   "cells": [
    {
     "cell_type": "code",
     "collapsed": false,
     "input": [
      "from __future__ import print_function"
     ],
     "language": "python",
     "metadata": {},
     "outputs": [],
     "prompt_number": 1
    },
    {
     "cell_type": "code",
     "collapsed": false,
     "input": [
      "from IPython.display import display_html, clear_output\n",
      "import IPython.display"
     ],
     "language": "python",
     "metadata": {},
     "outputs": [],
     "prompt_number": 69
    },
    {
     "cell_type": "code",
     "collapsed": false,
     "input": [
      "from curation_common import *"
     ],
     "language": "python",
     "metadata": {},
     "outputs": [],
     "prompt_number": 3
    },
    {
     "cell_type": "code",
     "collapsed": false,
     "input": [
      "def read_aliases(filename):\n",
      "    aliases = []\n",
      "    with open(filename, 'r') as instream:\n",
      "        for line in instream:\n",
      "            if line.startswith('barbara-wold:'):\n",
      "                aliases.append(line.rstrip())\n",
      "    return aliases\n",
      "\n",
      "aliases_to_check = read_aliases('librariesWithFlowCellsInReplicates.txt')    "
     ],
     "language": "python",
     "metadata": {},
     "outputs": [],
     "prompt_number": 4
    },
    {
     "cell_type": "code",
     "collapsed": false,
     "input": [
      "len(aliases_to_check)"
     ],
     "language": "python",
     "metadata": {},
     "outputs": [
      {
       "metadata": {},
       "output_type": "pyout",
       "prompt_number": 5,
       "text": [
        "127"
       ]
      }
     ],
     "prompt_number": 5
    },
    {
     "cell_type": "code",
     "collapsed": false,
     "input": [
      "server = ENCODED('www.encodedcc.org')\n",
      "server.load_netrc()"
     ],
     "language": "python",
     "metadata": {},
     "outputs": [],
     "prompt_number": 6
    },
    {
     "cell_type": "code",
     "collapsed": false,
     "input": [
      "model = get_model()"
     ],
     "language": "python",
     "metadata": {},
     "outputs": [],
     "prompt_number": 7
    },
    {
     "cell_type": "code",
     "collapsed": false,
     "input": [
      "search_query = 'https://www.encodedcc.org/search/?type=experiment&lab.title=Barbara+Wold%2C+Caltech&award.rfa=ENCODE3'\n",
      "query_result = server.get_json(search_query)\n",
      "_ = server.convert_search_to_jsonld(query_result)\n",
      "load_jsonld_into_model(model, query_result)"
     ],
     "language": "python",
     "metadata": {},
     "outputs": [],
     "prompt_number": 8
    },
    {
     "cell_type": "code",
     "collapsed": false,
     "input": [
      "%%sparql -m model -o experiments\n",
      "select ?s\n",
      "where {\n",
      "  ?s a experiment:experiment .\n",
      "}"
     ],
     "language": "python",
     "metadata": {},
     "outputs": [],
     "prompt_number": 9
    },
    {
     "cell_type": "code",
     "collapsed": false,
     "input": [
      "for row in experiments:\n",
      "    load_jsonld_into_model(model, server.get_jsonld(str(row['s'])))"
     ],
     "language": "python",
     "metadata": {},
     "outputs": [],
     "prompt_number": 10
    },
    {
     "cell_type": "code",
     "collapsed": false,
     "input": [
      "%%sparql -m model -o file_href_to_wold\n",
      "select ?file ?href ?aliases\n",
      "where {\n",
      "  ?file a file:file ;\n",
      "     file:replicate ?rep ;\n",
      "     file:href ?href ;\n",
      "     file:file_format \"fastq\"^^xsd:string .\n",
      "  ?rep replicate:library ?library .\n",
      "  ?library library:aliases ?aliases .\n",
      "}"
     ],
     "language": "python",
     "metadata": {},
     "outputs": [],
     "prompt_number": 11
    },
    {
     "cell_type": "code",
     "collapsed": false,
     "input": [
      "for i, row in enumerate(file_href_to_wold):\n",
      "    print( str(row['href']), str(row['aliases']) )\n",
      "    if i > 10:\n",
      "        break"
     ],
     "language": "python",
     "metadata": {},
     "outputs": [
      {
       "output_type": "stream",
       "stream": "stdout",
       "text": [
        "https://www.encodedcc.org/files/ENCFF001RGH/@@download/ENCFF001RGH.fastq.gz barbara-wold:13712\n",
        "https://www.encodedcc.org/files/ENCFF001RGK/@@download/ENCFF001RGK.fastq.gz barbara-wold:13711\n",
        "https://www.encodedcc.org/files/ENCFF001RGO/@@download/ENCFF001RGO.fastq.gz barbara-wold:13711\n",
        "https://www.encodedcc.org/files/ENCFF001RRN/@@download/ENCFF001RRN.fastq.gz barbara-wold:13712\n",
        "https://www.encodedcc.org/files/ENCFF001RRR/@@download/ENCFF001RRR.fastq.gz barbara-wold:13711\n",
        "https://www.encodedcc.org/files/ENCFF001RVR/@@download/ENCFF001RVR.fastq.gz barbara-wold:13711\n",
        "https://www.encodedcc.org/files/ENCFF001RVS/@@download/ENCFF001RVS.fastq.gz barbara-wold:13712\n",
        "https://www.encodedcc.org/files/ENCFF001RVW/@@download/ENCFF001RVW.fastq.gz barbara-wold:13712\n",
        "https://www.encodedcc.org/files/ENCFF001RVY/@@download/ENCFF001RVY.fastq.gz barbara-wold:13711\n",
        "https://www.encodedcc.org/files/ENCFF001RGM/@@download/ENCFF001RGM.fastq.gz barbara-wold:13714\n",
        "https://www.encodedcc.org/files/ENCFF001RGN/@@download/ENCFF001RGN.fastq.gz barbara-wold:13714\n",
        "https://www.encodedcc.org/files/ENCFF001RGP/@@download/ENCFF001RGP.fastq.gz barbara-wold:13713\n"
       ]
      }
     ],
     "prompt_number": 12
    },
    {
     "cell_type": "code",
     "collapsed": false,
     "input": [
      "import validate_encode3_aliases"
     ],
     "language": "python",
     "metadata": {},
     "outputs": [],
     "prompt_number": 13
    },
    {
     "cell_type": "code",
     "collapsed": false,
     "input": [
      "reload(validate_encode3_aliases)"
     ],
     "language": "python",
     "metadata": {},
     "outputs": [
      {
       "metadata": {},
       "output_type": "pyout",
       "prompt_number": 14,
       "text": [
        "<module 'validate_encode3_aliases' from 'validate_encode3_aliases.pyc'>"
       ]
      }
     ],
     "prompt_number": 14
    },
    {
     "cell_type": "code",
     "collapsed": false,
     "input": [
      "FlowcellLookup = validate_encode3_aliases.CheckDCCWoldAlias(server)"
     ],
     "language": "python",
     "metadata": {},
     "outputs": [],
     "prompt_number": 15
    },
    {
     "cell_type": "code",
     "collapsed": false,
     "input": [
      "read_id = FlowcellLookup.read_flowcell_from_url('https://www.encodedcc.org/files/ENCFF001RGH/@@download/ENCFF001RGH.fastq.gz', 'fastq')"
     ],
     "language": "python",
     "metadata": {},
     "outputs": [],
     "prompt_number": 16
    },
    {
     "cell_type": "code",
     "collapsed": false,
     "input": [
      "import shelve"
     ],
     "language": "python",
     "metadata": {},
     "outputs": [],
     "prompt_number": 17
    },
    {
     "cell_type": "code",
     "collapsed": false,
     "input": [
      "fastq_header_cache = shelve.open('headers.shelf', writeback=True)"
     ],
     "language": "python",
     "metadata": {},
     "outputs": [],
     "prompt_number": 18
    },
    {
     "cell_type": "code",
     "collapsed": false,
     "input": [
      "def load_headers(cache, file_href_to_wold):\n",
      "    for i, row in enumerate(file_href_to_wold):\n",
      "        file_accession = str(row['file'])\n",
      "        href = str(row['href'])\n",
      "        aliases = str(row['aliases'])\n",
      "        library_id = aliases.split(':')[1]\n",
      "        if href not in cache:\n",
      "            clear_output()\n",
      "            print(\"loading: {} {}/{}\".format(href, i, len(file_href_to_wold)))\n",
      "            header = validate_encode3_aliases.fastq_read_id(href)\n",
      "            cache[href] = {'file_accession': file_accession,\n",
      "                           'href': href,\n",
      "                           'aliases': aliases,\n",
      "                           'header': header}\n",
      "    return cache"
     ],
     "language": "python",
     "metadata": {},
     "outputs": [],
     "prompt_number": 19
    },
    {
     "cell_type": "code",
     "collapsed": false,
     "input": [
      "_ = load_headers(fastq_header_cache, file_href_to_wold)"
     ],
     "language": "python",
     "metadata": {},
     "outputs": [],
     "prompt_number": 20
    },
    {
     "cell_type": "code",
     "collapsed": false,
     "input": [
      "for href in fastq_header_cache:\n",
      "    header = fastq_header_cache[href]['header']\n",
      "    read_id = FlowcellLookup.parse_read_id(header)\n",
      "    if not read_id:\n",
      "        print('Unable to parse: {}'.format(header))\n",
      "    else:\n",
      "        fastq_header_cache[href]['read_id'] = read_id\n",
      "    fastq_header_cache.sync()"
     ],
     "language": "python",
     "metadata": {},
     "outputs": [],
     "prompt_number": 21
    },
    {
     "cell_type": "code",
     "collapsed": false,
     "input": [
      "fastq"
     ],
     "language": "python",
     "metadata": {},
     "outputs": [],
     "prompt_number": 21
    },
    {
     "cell_type": "code",
     "collapsed": false,
     "input": [],
     "language": "python",
     "metadata": {},
     "outputs": [],
     "prompt_number": 21
    },
    {
     "cell_type": "code",
     "collapsed": false,
     "input": [
      "fastq_header_cache[href]"
     ],
     "language": "python",
     "metadata": {},
     "outputs": [
      {
       "metadata": {},
       "output_type": "pyout",
       "prompt_number": 22,
       "text": [
        "{'aliases': 'barbara-wold:15016',\n",
        " 'file_accession': 'https://www.encodedcc.org/files/ENCFF360NRX/',\n",
        " 'header': '@HISEQ:274:HANW6ADXX:1:1101:1248:2104 1:N:0:CGAGGCTG',\n",
        " 'href': 'https://www.encodedcc.org/files/ENCFF360NRX/@@download/ENCFF360NRX.fastq.gz',\n",
        " 'read_id': ('HANW6ADXX', '1')}"
       ]
      }
     ],
     "prompt_number": 22
    },
    {
     "cell_type": "code",
     "collapsed": false,
     "input": [
      "fastq_header_cache['https://www.encodedcc.org/files/ENCFF002EXO/@@download/ENCFF002EXO.fastq.gz']"
     ],
     "language": "python",
     "metadata": {},
     "outputs": [
      {
       "metadata": {},
       "output_type": "pyout",
       "prompt_number": 87,
       "text": [
        "{'aliases': 'barbara-wold:12517',\n",
        " 'file_accession': 'https://www.encodedcc.org/files/ENCFF002EXO/',\n",
        " 'header': '@HISEQ:210:H9L41ADXX:1:1101:1198:2193 1:Y:0:TTAGGC',\n",
        " 'href': 'https://www.encodedcc.org/files/ENCFF002EXO/@@download/ENCFF002EXO.fastq.gz',\n",
        " 'read_id': ('H9L41ADXX', '1')}"
       ]
      }
     ],
     "prompt_number": 87
    },
    {
     "cell_type": "code",
     "collapsed": false,
     "input": [
      "def doesntwork():\n",
      "    unknown_flowcells = set(['C1JE0ACXX', 'C2812ACXX'])\n",
      "    loaded = set()\n",
      "    for i, row in enumerate(file_href_to_wold):\n",
      "        file_accession = str(row['file'])\n",
      "        href = str(row['href'])\n",
      "        aliases = str(row['aliases'])\n",
      "        library_id = aliases.split(':')[1]\n",
      "        read_id = FlowcellLookup.read_flowcell_from_url(href, 'fastq')\n",
      "        if not read_id:\n",
      "            print(\"Couldn't parse {}\".format(href))\n",
      "            continue\n",
      "        flowcell = read_id[0]\n",
      "        if flowcell in unknown_flowcells:\n",
      "            continue\n",
      "        elif flowcell not in loaded:\n",
      "            load_into_model(model, 'rdfa', 'https://jumpgate.caltech.edu/flowcell/{}'.format(flowcell))\n"
     ],
     "language": "python",
     "metadata": {},
     "outputs": [],
     "prompt_number": 23
    },
    {
     "cell_type": "code",
     "collapsed": false,
     "input": [
      "validate_encode3_aliases.fastq_read_id('https://www.encodedcc.org/files/ENCFF002EYL/@@download/ENCFF002EYL.fastq.gz')"
     ],
     "language": "python",
     "metadata": {},
     "outputs": [
      {
       "metadata": {},
       "output_type": "pyout",
       "prompt_number": 24,
       "text": [
        "'@HISEQ:224:HA024ADXX:2:1101:1249:2156 1:N:0:CGTACTAGTATCCTCT'"
       ]
      }
     ],
     "prompt_number": 24
    },
    {
     "cell_type": "code",
     "collapsed": false,
     "input": [
      "import django\n",
      "if not 'DJANGO_SETTINGS_MODULE' in os.environ:\n",
      "    os.environ['DJANGO_SETTINGS_MODULE'] = 'htsworkflow.settings.myrada'\n",
      "django.setup()"
     ],
     "language": "python",
     "metadata": {},
     "outputs": [],
     "prompt_number": 25
    },
    {
     "cell_type": "code",
     "collapsed": false,
     "input": [
      "import experiments.models"
     ],
     "language": "python",
     "metadata": {},
     "outputs": [],
     "prompt_number": 26
    },
    {
     "cell_type": "code",
     "collapsed": false,
     "input": [
      "fc = experiments.models.FlowCell.objects.get(flowcell_id='HA024ADXX')"
     ],
     "language": "python",
     "metadata": {},
     "outputs": [],
     "prompt_number": 28
    },
    {
     "cell_type": "code",
     "collapsed": false,
     "input": [
      "fc."
     ],
     "language": "python",
     "metadata": {},
     "outputs": [
      {
       "metadata": {},
       "output_type": "pyout",
       "prompt_number": 29,
       "text": [
        "<ClusterStation: C-Bot>"
       ]
      }
     ],
     "prompt_number": 29
    },
    {
     "cell_type": "code",
     "collapsed": false,
     "input": [
      "fc.lane_set.all()"
     ],
     "language": "python",
     "metadata": {},
     "outputs": [
      {
       "metadata": {},
       "output_type": "pyout",
       "prompt_number": 31,
       "text": [
        "[<Lane: HA024ADXX:1>, <Lane: HA024ADXX:1>, <Lane: HA024ADXX:1>, <Lane: HA024ADXX:1>, <Lane: HA024ADXX:1>, <Lane: HA024ADXX:1>, <Lane: HA024ADXX:1>, <Lane: HA024ADXX:1>, <Lane: HA024ADXX:1>, <Lane: HA024ADXX:1>, <Lane: HA024ADXX:1>, <Lane: HA024ADXX:1>]"
       ]
      }
     ],
     "prompt_number": 31
    },
    {
     "cell_type": "code",
     "collapsed": false,
     "input": [
      "import samples.models"
     ],
     "language": "python",
     "metadata": {},
     "outputs": [],
     "prompt_number": 32
    },
    {
     "cell_type": "code",
     "collapsed": false,
     "input": [
      "l = samples.models.Library.objects.get(id='15016')"
     ],
     "language": "python",
     "metadata": {},
     "outputs": [],
     "prompt_number": 35
    },
    {
     "cell_type": "code",
     "collapsed": false,
     "input": [
      "l.index_sequences()"
     ],
     "language": "python",
     "metadata": {},
     "outputs": [
      {
       "metadata": {},
       "output_type": "pyout",
       "prompt_number": 41,
       "text": [
        "{u'N710-N502': u'CGAGGCTG-CTCTCTAT'}"
       ]
      }
     ],
     "prompt_number": 41
    },
    {
     "cell_type": "code",
     "collapsed": false,
     "input": [
      "[ f.flowcell.flowcell_id for f in l.lane_set.all()]"
     ],
     "language": "python",
     "metadata": {},
     "outputs": [
      {
       "metadata": {},
       "output_type": "pyout",
       "prompt_number": 49,
       "text": [
        "[u'HANW6ADXX', u'HARKRADXX']"
       ]
      }
     ],
     "prompt_number": 49
    },
    {
     "cell_type": "code",
     "collapsed": false,
     "input": [
      "f.flowcell.sequencer.get_absolute_url()"
     ],
     "language": "python",
     "metadata": {},
     "outputs": [
      {
       "metadata": {},
       "output_type": "pyout",
       "prompt_number": 86,
       "text": [
        "'/sequencer/8'"
       ]
      }
     ],
     "prompt_number": 86
    },
    {
     "cell_type": "code",
     "collapsed": false,
     "input": [
      "unknown_flowcells = set()\n",
      "report = []\n",
      "for href in fastq_header_cache:\n",
      "    fastq = fastq_header_cache[href]\n",
      "    library_id = fastq['aliases'].split(':')[1]\n",
      "    library = samples.models.Library.objects.get(id=library_id)\n",
      "    barcode = library.index_sequences().values()[0]\n",
      "    lanes = library.lane_set.all()\n",
      "    flowcell = fastq['read_id'][0]\n",
      "    lane_id = fastq['read_id'][1]\n",
      "    fc_is_known = flowcell in [f.flowcell.flowcell_id for f in library.lane_set.all()]\n",
      "    if not fc_is_known:\n",
      "        unknown_flowcells.add(flowcell)\n",
      "    report.append({'href': href.split('@@')[0], \n",
      "                   'short': href[-20:],\n",
      "                   'flowcell': flowcell, \n",
      "                   'lane_id': lane_id, \n",
      "                   'barcode': barcode, \n",
      "                   'library_id': library_id,\n",
      "                   'header': fastq['header']})\n",
      "print('not-in-our-database', unknown_flowcells)"
     ],
     "language": "python",
     "metadata": {},
     "outputs": [
      {
       "output_type": "stream",
       "stream": "stdout",
       "text": [
        "not-in-our-database set(['C1JE0ACXX', 'C2812ACXX'])\n"
       ]
      }
     ],
     "prompt_number": 89
    },
    {
     "cell_type": "code",
     "collapsed": false,
     "input": [
      "# format report\n",
      "html = ['<table>',\n",
      "        '<thead>',\n",
      "        '<tr><td>fastq</td><td>flowcell</td><td>lane</td><td>barcode</td><td>library_id</td><td>fastq header</td></tr>',\n",
      "        '</thead><tbody>']\n",
      "row_format = '<tr><td><a href=\"{href}\">{short}</a></td><td>{flowcell}</td><td>{lane_id}</td><td>{barcode}</td><td>{library_id}</td><td>{header}</td></tr>'\n",
      "for row in sorted(report, key=lambda x: x['library_id']):\n",
      "    html.append(row_format.format(**row))\n",
      "html.append('</tbody></table>')"
     ],
     "language": "python",
     "metadata": {},
     "outputs": [],
     "prompt_number": 90
    },
    {
     "cell_type": "heading",
     "level": 1,
     "metadata": {},
     "source": [
      "Flowcell_properties report"
     ]
    },
    {
     "cell_type": "code",
     "collapsed": false,
     "input": [
      "IPython.display.HTML(''.join(html))"
     ],
     "language": "python",
     "metadata": {},
     "outputs": [
      {
       "html": [
        "<table><thead><tr><td>fastq</td><td>flowcell</td><td>lane</td><td>barcode</td><td>library_id</td><td>fastq header</td></tr></thead><tbody><tr><td><a href=\"https://www.encodedcc.org/files/ENCFF002EXO/\">ENCFF002EXO.fastq.gz</a></td><td>H9L41ADXX</td><td>1</td><td>TTAGGC</td><td>12517</td><td>@HISEQ:210:H9L41ADXX:1:1101:1198:2193 1:Y:0:TTAGGC</td></tr><tr><td><a href=\"https://www.encodedcc.org/files/ENCFF002EXJ/\">ENCFF002EXJ.fastq.gz</a></td><td>HA00MADXX</td><td>1</td><td>TTAGGC</td><td>12517</td><td>@HISEQ:223:HA00MADXX:1:1101:1833:2228 1:N:0:TTAGGC</td></tr><tr><td><a href=\"https://www.encodedcc.org/files/ENCFF002EXL/\">ENCFF002EXL.fastq.gz</a></td><td>H9L41ADXX</td><td>2</td><td>TTAGGC</td><td>12517</td><td>@HISEQ:210:H9L41ADXX:2:1101:3722:1999 1:N:0:TTAGGC</td></tr><tr><td><a href=\"https://www.encodedcc.org/files/ENCFF002EXM/\">ENCFF002EXM.fastq.gz</a></td><td>HA00MADXX</td><td>2</td><td>TTAGGC</td><td>12517</td><td>@HISEQ:223:HA00MADXX:2:1101:5212:1987 1:N:0:TTAGGC</td></tr><tr><td><a href=\"https://www.encodedcc.org/files/ENCFF002EXG/\">ENCFF002EXG.fastq.gz</a></td><td>D0549ACXX</td><td>1</td><td>TTAGGC</td><td>12517</td><td>@HWI-ST0787:106:D0549ACXX:1:1101:1348:2226 1:Y:0:TTAGGC</td></tr><tr><td><a href=\"https://www.encodedcc.org/files/ENCFF002EXH/\">ENCFF002EXH.fastq.gz</a></td><td>D0549ACXX</td><td>1</td><td>TTAGGC</td><td>12517</td><td>@HWI-ST0787:106:D0549ACXX:1:1101:1348:2226 2:Y:0:TTAGGC</td></tr><tr><td><a href=\"https://www.encodedcc.org/files/ENCFF002EXK/\">ENCFF002EXK.fastq.gz</a></td><td>D0549ACXX</td><td>2</td><td>TGACCA</td><td>12518</td><td>@HWI-ST0787:106:D0549ACXX:2:1101:1306:2219 2:Y:0:TGACCA</td></tr><tr><td><a href=\"https://www.encodedcc.org/files/ENCFF002EXN/\">ENCFF002EXN.fastq.gz</a></td><td>D0549ACXX</td><td>2</td><td>TGACCA</td><td>12518</td><td>@HWI-ST0787:106:D0549ACXX:2:1101:1306:2219 1:Y:0:TGACCA</td></tr><tr><td><a href=\"https://www.encodedcc.org/files/ENCFF002EXP/\">ENCFF002EXP.fastq.gz</a></td><td>H9L41ADXX</td><td>1</td><td>TGACCA</td><td>12518</td><td>@HISEQ:210:H9L41ADXX:1:1101:1302:2046 1:N:0:TGACCA</td></tr><tr><td><a href=\"https://www.encodedcc.org/files/ENCFF002EXI/\">ENCFF002EXI.fastq.gz</a></td><td>H9L41ADXX</td><td>2</td><td>TGACCA</td><td>12518</td><td>@HISEQ:210:H9L41ADXX:2:1101:3144:1997 1:N:0:TGACCA</td></tr><tr><td><a href=\"https://www.encodedcc.org/files/ENCFF002EXQ/\">ENCFF002EXQ.fastq.gz</a></td><td>HA00MADXX</td><td>2</td><td>TGACCA</td><td>12518</td><td>@HISEQ:223:HA00MADXX:2:1101:3365:1987 1:N:0:TGACCA</td></tr><tr><td><a href=\"https://www.encodedcc.org/files/ENCFF002EXR/\">ENCFF002EXR.fastq.gz</a></td><td>HA00MADXX</td><td>1</td><td>TGACCA</td><td>12518</td><td>@HISEQ:223:HA00MADXX:1:1101:1193:2010 1:N:0:TGACCA</td></tr><tr><td><a href=\"https://www.encodedcc.org/files/ENCFF002BHD/\">ENCFF002BHD.fastq.gz</a></td><td>H8U69ADXX</td><td>1</td><td>TAGGCATG-CTCTCTAT</td><td>13024</td><td>@HISEQ:182:H8U69ADXX:1:1101:1718:2201 1:N:0:TAGGCATGCTCTCTAT</td></tr><tr><td><a href=\"https://www.encodedcc.org/files/ENCFF002BHC/\">ENCFF002BHC.fastq.gz</a></td><td>D15ACACXX</td><td>3</td><td>TAGGCATG-CTCTCTAT</td><td>13024</td><td>@HWI-ST0787:126:D15ACACXX:3:1101:1158:2154 1:Y:0:TAGGCATGCTCTCTAT</td></tr><tr><td><a href=\"https://www.encodedcc.org/files/ENCFF002BHB/\">ENCFF002BHB.fastq.gz</a></td><td>H8U69ADXX</td><td>2</td><td>TAGGCATG-CTCTCTAT</td><td>13024</td><td>@HISEQ:182:H8U69ADXX:2:1101:1247:2060 1:N:0:TAGGCATGCTCTCTAT</td></tr><tr><td><a href=\"https://www.encodedcc.org/files/ENCFF002BHE/\">ENCFF002BHE.fastq.gz</a></td><td>H8U69ADXX</td><td>1</td><td>TAAGGCGA-TATCCTCT</td><td>13025</td><td>@HISEQ:182:H8U69ADXX:1:1101:1090:2026 1:N:0:TAAGGCGATATCCTCT</td></tr><tr><td><a href=\"https://www.encodedcc.org/files/ENCFF002BHF/\">ENCFF002BHF.fastq.gz</a></td><td>H8U69ADXX</td><td>2</td><td>TAAGGCGA-TATCCTCT</td><td>13025</td><td>@HISEQ:182:H8U69ADXX:2:1101:1152:2130 1:Y:0:TAAGGCGCTATCCTCT</td></tr><tr><td><a href=\"https://www.encodedcc.org/files/ENCFF002BHG/\">ENCFF002BHG.fastq.gz</a></td><td>D15ACACXX</td><td>4</td><td>TAAGGCGA-TATCCTCT</td><td>13025</td><td>@HWI-ST0787:126:D15ACACXX:4:1101:1145:2106 1:Y:0:TAAGGCGATATCCTCT</td></tr><tr><td><a href=\"https://www.encodedcc.org/files/ENCFF002BHH/\">ENCFF002BHH.fastq.gz</a></td><td>H8U69ADXX</td><td>1</td><td>CGTACTAG-TAGATCGC</td><td>13262</td><td>@HISEQ:182:H8U69ADXX:1:1101:1073:2053 1:N:0:CGTACTAGTAGATCGC</td></tr><tr><td><a href=\"https://www.encodedcc.org/files/ENCFF002BHJ/\">ENCFF002BHJ.fastq.gz</a></td><td>D1F15ACXX</td><td>3</td><td>CGTACTAG-TAGATCGC</td><td>13262</td><td>@HWI-ST0787:134:D1F15ACXX:3:1101:1119:2103 1:Y:0:NGTACTAG</td></tr><tr><td><a href=\"https://www.encodedcc.org/files/ENCFF002BHI/\">ENCFF002BHI.fastq.gz</a></td><td>H8U69ADXX</td><td>2</td><td>CGTACTAG-TAGATCGC</td><td>13262</td><td>@HISEQ:182:H8U69ADXX:2:1101:1260:2151 1:N:0:CGTACTAGTAGACCGC</td></tr><tr><td><a href=\"https://www.encodedcc.org/files/ENCFF002BHK/\">ENCFF002BHK.fastq.gz</a></td><td>D1F15ACXX</td><td>4</td><td>CGTACTAG-CTCTCTAT</td><td>13263</td><td>@HWI-ST0787:134:D1F15ACXX:4:1101:1139:2103 1:Y:0:CGTACTAG</td></tr><tr><td><a href=\"https://www.encodedcc.org/files/ENCFF002BHL/\">ENCFF002BHL.fastq.gz</a></td><td>D1EWHACXX</td><td>3</td><td>TAAGGCGA-TATCCTCT</td><td>13274</td><td>@HWI-ST0787:135:D1EWHACXX:3:1101:1238:2164 1:Y:0:TAAGGCGATATCCTCT</td></tr><tr><td><a href=\"https://www.encodedcc.org/files/ENCFF002BHN/\">ENCFF002BHN.fastq.gz</a></td><td>D1EWHACXX</td><td>3</td><td>TAAGGCGA-AGAGTAGA</td><td>13275</td><td>@HWI-ST0787:135:D1EWHACXX:3:1101:1234:2138 1:Y:0:TAAGGCGAANAGTAGA</td></tr><tr><td><a href=\"https://www.encodedcc.org/files/ENCFF002BHM/\">ENCFF002BHM.fastq.gz</a></td><td>D1EWHACXX</td><td>5</td><td>TAAGGCGA-TATCCTCT</td><td>13280</td><td>@HWI-ST0787:135:D1EWHACXX:5:1101:1237:2197 1:N:0:TAAGGCGATATCCTCT</td></tr><tr><td><a href=\"https://www.encodedcc.org/files/ENCFF002BHP/\">ENCFF002BHP.fastq.gz</a></td><td>D1EWHACXX</td><td>6</td><td>TAAGGCGA-AGAGTAGA</td><td>13281</td><td>@HWI-ST0787:135:D1EWHACXX:6:1101:1132:2136 1:Y:0:TAAGGCGAAGAGTAGA</td></tr><tr><td><a href=\"https://www.encodedcc.org/files/ENCFF002BHO/\">ENCFF002BHO.fastq.gz</a></td><td>D1EWHACXX</td><td>5</td><td>CGTACTAG-TAGATCGC</td><td>13282</td><td>@HWI-ST0787:135:D1EWHACXX:5:1101:1198:2138 1:Y:0:CGTACTAGTAGATCGC</td></tr><tr><td><a href=\"https://www.encodedcc.org/files/ENCFF002BHQ/\">ENCFF002BHQ.fastq.gz</a></td><td>D1EWHACXX</td><td>6</td><td>CGTACTAG-CTCTCTAT</td><td>13283</td><td>@HWI-ST0787:135:D1EWHACXX:6:1101:1339:2112 1:Y:0:CGTACTAGNTCTCTAT</td></tr><tr><td><a href=\"https://www.encodedcc.org/files/ENCFF002BHR/\">ENCFF002BHR.fastq.gz</a></td><td>D1EWHACXX</td><td>7</td><td>CGTACTAG-TATCCTCT</td><td>13284</td><td>@HWI-ST0787:135:D1EWHACXX:7:1101:1160:2165 1:N:0:CGTACTANTATCCTCT</td></tr><tr><td><a href=\"https://www.encodedcc.org/files/ENCFF002BHS/\">ENCFF002BHS.fastq.gz</a></td><td>D1EWHACXX</td><td>8</td><td>CGTACTAG-AGAGTAGA</td><td>13285</td><td>@HWI-ST0787:135:D1EWHACXX:8:1101:1222:2140 1:Y:0:CGTACTAGAGAGTAGA</td></tr><tr><td><a href=\"https://www.encodedcc.org/files/ENCFF002BHT/\">ENCFF002BHT.fastq.gz</a></td><td>D1EWHACXX</td><td>6</td><td>AGGCAGAA-TAGATCGC</td><td>13286</td><td>@HWI-ST0787:135:D1EWHACXX:6:1101:1159:2126 1:Y:0:AGGCAGAATAGATCGC</td></tr><tr><td><a href=\"https://www.encodedcc.org/files/ENCFF002BHU/\">ENCFF002BHU.fastq.gz</a></td><td>D1EWHACXX</td><td>5</td><td>AGGCAGAA-CTCTCTAT</td><td>13287</td><td>@HWI-ST0787:135:D1EWHACXX:5:1101:1173:2215 1:N:0:AGGCAGAACTNTCTAT</td></tr><tr><td><a href=\"https://www.encodedcc.org/files/ENCFF002BHV/\">ENCFF002BHV.fastq.gz</a></td><td>D1EWHACXX</td><td>8</td><td>AGGCAGAA-TATCCTCT</td><td>13288</td><td>@HWI-ST0787:135:D1EWHACXX:8:1101:1183:2155 1:N:0:AGGCAGAATATCCTCT</td></tr><tr><td><a href=\"https://www.encodedcc.org/files/ENCFF002BHX/\">ENCFF002BHX.fastq.gz</a></td><td>D1EWHACXX</td><td>7</td><td>AGGCAGAA-AGAGTAGA</td><td>13289</td><td>@HWI-ST0787:135:D1EWHACXX:7:1101:1221:2183 1:N:0:AGGCAGAAAGAGTAGA</td></tr><tr><td><a href=\"https://www.encodedcc.org/files/ENCFF002BHW/\">ENCFF002BHW.fastq.gz</a></td><td>D1EWHACXX</td><td>5</td><td>TCCTGAGC-TAGATCGC</td><td>13290</td><td>@HWI-ST0787:135:D1EWHACXX:5:1101:1248:2121 1:Y:0:TCCTGAGCTNGATCGC</td></tr><tr><td><a href=\"https://www.encodedcc.org/files/ENCFF002BHY/\">ENCFF002BHY.fastq.gz</a></td><td>D1EWHACXX</td><td>6</td><td>TCCTGAGC-CTCTCTAT</td><td>13291</td><td>@HWI-ST0787:135:D1EWHACXX:6:1101:1179:2185 1:N:0:TCCTGAGCCTCTCTAT</td></tr><tr><td><a href=\"https://www.encodedcc.org/files/ENCFF002BHZ/\">ENCFF002BHZ.fastq.gz</a></td><td>D1EWHACXX</td><td>8</td><td>TCCTGAGC-TATCCTCT</td><td>13292</td><td>@HWI-ST0787:135:D1EWHACXX:8:1101:1224:2162 1:N:0:TCCTGAGCTATCCTCT</td></tr><tr><td><a href=\"https://www.encodedcc.org/files/ENCFF002BIA/\">ENCFF002BIA.fastq.gz</a></td><td>D1EWHACXX</td><td>6</td><td>GGACTCCT-TAGATCGC</td><td>13294</td><td>@HWI-ST0787:135:D1EWHACXX:6:1101:1160:2238 1:N:0:GGACTCCTTAGATCGC</td></tr><tr><td><a href=\"https://www.encodedcc.org/files/ENCFF002BIB/\">ENCFF002BIB.fastq.gz</a></td><td>D1EWHACXX</td><td>5</td><td>GGACTCCT-CTCTCTAT</td><td>13295</td><td>@HWI-ST0787:135:D1EWHACXX:5:1101:1461:2135 1:Y:0:GGACTCCTCTCTCTAT</td></tr><tr><td><a href=\"https://www.encodedcc.org/files/ENCFF002BIC/\">ENCFF002BIC.fastq.gz</a></td><td>D1EWHACXX</td><td>7</td><td>GGACTCCT-TATCCTCT</td><td>13296</td><td>@HWI-ST0787:135:D1EWHACXX:7:1101:1207:2130 1:Y:0:GGACTCCTNATCCTCT</td></tr><tr><td><a href=\"https://www.encodedcc.org/files/ENCFF002BIE/\">ENCFF002BIE.fastq.gz</a></td><td>D1EWHACXX</td><td>8</td><td>GGACTCCT-AGAGTAGA</td><td>13297</td><td>@HWI-ST0787:135:D1EWHACXX:8:1101:1228:2193 1:N:0:GGACTCCTAGAGTAGA</td></tr><tr><td><a href=\"https://www.encodedcc.org/files/ENCFF002BID/\">ENCFF002BID.fastq.gz</a></td><td>D1EWHACXX</td><td>8</td><td>TAGGCATG-TAGATCGC</td><td>13298</td><td>@HWI-ST0787:135:D1EWHACXX:8:1101:1609:2184 1:N:0:TCGGCATGTAGCTCGC</td></tr><tr><td><a href=\"https://www.encodedcc.org/files/ENCFF002BIF/\">ENCFF002BIF.fastq.gz</a></td><td>D1EWHACXX</td><td>7</td><td>TAGGCATG-CTCTCTAT</td><td>13299</td><td>@HWI-ST0787:135:D1EWHACXX:7:1101:1177:2201 1:N:0:TAGGCATGCTCTCTAT</td></tr><tr><td><a href=\"https://www.encodedcc.org/files/ENCFF002BIK/\">ENCFF002BIK.fastq.gz</a></td><td>D1EWHACXX</td><td>2</td><td>TAGGCATG-TATCCTCT</td><td>13300</td><td>@HWI-ST0787:135:D1EWHACXX:2:1101:1233:2203 1:N:0:TAGGCATGTATCCTCT</td></tr><tr><td><a href=\"https://www.encodedcc.org/files/ENCFF002BII/\">ENCFF002BII.fastq.gz</a></td><td>D1EWHACXX</td><td>2</td><td>TAGGCATG-AGAGTAGA</td><td>13301</td><td>@HWI-ST0787:135:D1EWHACXX:2:1101:1234:2122 1:Y:0:TAGGCATGANAGTAGA</td></tr><tr><td><a href=\"https://www.encodedcc.org/files/ENCFF002BIG/\">ENCFF002BIG.fastq.gz</a></td><td>H8U69ADXX</td><td>1</td><td>TCCTGAGC-TATCCTCT</td><td>13347</td><td>@HISEQ:182:H8U69ADXX:1:1101:1084:2143 1:N:0:TCCTGAGCTATCCTCT</td></tr><tr><td><a href=\"https://www.encodedcc.org/files/ENCFF002BIM/\">ENCFF002BIM.fastq.gz</a></td><td>D1GMCACXX</td><td>3</td><td>TCCTGAGC-TATCCTCT</td><td>13347</td><td>@HWI-ST0787:136:D1GMCACXX:3:1101:1239:2043 1:Y:0:TCCTGAGC</td></tr><tr><td><a href=\"https://www.encodedcc.org/files/ENCFF002BIJ/\">ENCFF002BIJ.fastq.gz</a></td><td>H8U69ADXX</td><td>2</td><td>TCCTGAGC-TATCCTCT</td><td>13347</td><td>@HISEQ:182:H8U69ADXX:2:1101:1241:2167 1:N:0:TCCTGAGCTATCCTCT</td></tr><tr><td><a href=\"https://www.encodedcc.org/files/ENCFF002BIN/\">ENCFF002BIN.fastq.gz</a></td><td>D1GMCACXX</td><td>3</td><td>TAGGCATG-TATCCTCT</td><td>13349</td><td>@HWI-ST0787:136:D1GMCACXX:3:1101:1216:2042 1:Y:0:TAGGCATG</td></tr><tr><td><a href=\"https://www.encodedcc.org/files/ENCFF002BIL/\">ENCFF002BIL.fastq.gz</a></td><td>H8U69ADXX</td><td>1</td><td>TAGGCATG-TATCCTCT</td><td>13349</td><td>@HISEQ:182:H8U69ADXX:1:1101:1159:2088 1:N:0:TAGGCATTTATCCTCT</td></tr><tr><td><a href=\"https://www.encodedcc.org/files/ENCFF002BIH/\">ENCFF002BIH.fastq.gz</a></td><td>H8U69ADXX</td><td>2</td><td>TAGGCATG-TATCCTCT</td><td>13349</td><td>@HISEQ:182:H8U69ADXX:2:1101:1248:2123 1:N:0:TAGGCATGTATCCTCT</td></tr><tr><td><a href=\"https://www.encodedcc.org/files/ENCFF002BIO/\">ENCFF002BIO.fastq.gz</a></td><td>H8U69ADXX</td><td>1</td><td>TAGGCATG-ACTGCATA</td><td>13619</td><td>@HISEQ:182:H8U69ADXX:1:1101:1103:2219 1:N:0:TAGGCATGACTGCATA</td></tr><tr><td><a href=\"https://www.encodedcc.org/files/ENCFF002BIP/\">ENCFF002BIP.fastq.gz</a></td><td>D1THKACXX</td><td>4</td><td>TAGGCATG-ACTGCATA</td><td>13619</td><td>@HWI-ST0787:145:D1THKACXX:4:1101:18076:1999 1:N:0:TAGGCATGACTGCATA</td></tr><tr><td><a href=\"https://www.encodedcc.org/files/ENCFF002BIQ/\">ENCFF002BIQ.fastq.gz</a></td><td>H8U69ADXX</td><td>2</td><td>TAGGCATG-ACTGCATA</td><td>13619</td><td>@HISEQ:182:H8U69ADXX:2:1101:1199:2033 1:N:0:TAGGCATGACTGCATA</td></tr><tr><td><a href=\"https://www.encodedcc.org/files/ENCFF002BIV/\">ENCFF002BIV.fastq.gz</a></td><td>H8U69ADXX</td><td>2</td><td>CGAGGCTG-ACTGCATA</td><td>13620</td><td>@HISEQ:182:H8U69ADXX:2:1101:1198:2075 1:N:0:CGAGGCTGACTGCATA</td></tr><tr><td><a href=\"https://www.encodedcc.org/files/ENCFF002BIU/\">ENCFF002BIU.fastq.gz</a></td><td>D1THKACXX</td><td>4</td><td>CGAGGCTG-ACTGCATA</td><td>13620</td><td>@HWI-ST0787:145:D1THKACXX:4:1101:21318:2000 1:N:0:CGAGGCTGACTGCATA</td></tr><tr><td><a href=\"https://www.encodedcc.org/files/ENCFF002BIW/\">ENCFF002BIW.fastq.gz</a></td><td>H8U69ADXX</td><td>1</td><td>CGAGGCTG-ACTGCATA</td><td>13620</td><td>@HISEQ:182:H8U69ADXX:1:1101:1242:2027 1:N:0:CGAGGCTGACTGCATA</td></tr><tr><td><a href=\"https://www.encodedcc.org/files/ENCFF002BIT/\">ENCFF002BIT.fastq.gz</a></td><td>H8U69ADXX</td><td>2</td><td>GCTACGCT-TAGATCGC</td><td>13622</td><td>@HISEQ:182:H8U69ADXX:2:1101:1232:2149 1:N:0:GCTACGCTTAGATCGC</td></tr><tr><td><a href=\"https://www.encodedcc.org/files/ENCFF002BIY/\">ENCFF002BIY.fastq.gz</a></td><td>H8U69ADXX</td><td>1</td><td>GCTACGCT-TAGATCGC</td><td>13622</td><td>@HISEQ:182:H8U69ADXX:1:1101:1155:2038 1:N:0:GCTACGCTTAGATCGC</td></tr><tr><td><a href=\"https://www.encodedcc.org/files/ENCFF002BIR/\">ENCFF002BIR.fastq.gz</a></td><td>D1THKACXX</td><td>4</td><td>GCTACGCT-TAGATCGC</td><td>13622</td><td>@HWI-ST0787:145:D1THKACXX:4:1101:17578:2000 1:N:0:GCTACGCTTAGATCGC</td></tr><tr><td><a href=\"https://www.encodedcc.org/files/ENCFF002BIS/\">ENCFF002BIS.fastq.gz</a></td><td>D1THKACXX</td><td>4</td><td>CGAGGCTG-CTCTCTAT</td><td>13623</td><td>@HWI-ST0787:145:D1THKACXX:4:1101:1237:2153 1:Y:0:CGAGGCTGCTCTCTAT</td></tr><tr><td><a href=\"https://www.encodedcc.org/files/ENCFF002BIZ/\">ENCFF002BIZ.fastq.gz</a></td><td>H8U69ADXX</td><td>1</td><td>CGAGGCTG-CTCTCTAT</td><td>13623</td><td>@HISEQ:182:H8U69ADXX:1:1101:1153:2123 1:N:0:CGAGGCTGCTCTCTAT</td></tr><tr><td><a href=\"https://www.encodedcc.org/files/ENCFF002BIX/\">ENCFF002BIX.fastq.gz</a></td><td>H8U69ADXX</td><td>2</td><td>CGAGGCTG-CTCTCTAT</td><td>13623</td><td>@HISEQ:182:H8U69ADXX:2:1101:1127:2129 1:Y:0:CGATGCTGCTCTCTAT</td></tr><tr><td><a href=\"https://www.encodedcc.org/files/ENCFF002BJA/\">ENCFF002BJA.fastq.gz</a></td><td>D1THKACXX</td><td>4</td><td>TAAGGCGA-TAGATCGC</td><td>13625</td><td>@HWI-ST0787:145:D1THKACXX:4:1101:17314:2000 1:N:0:TAAGGCGATAGATCGC</td></tr><tr><td><a href=\"https://www.encodedcc.org/files/ENCFF002BJB/\">ENCFF002BJB.fastq.gz</a></td><td>D1THKACXX</td><td>4</td><td>CGTACTAG-CTCTCTAT</td><td>13626</td><td>@HWI-ST0787:145:D1THKACXX:4:1101:20801:1999 1:N:0:CGTACTAGCTCTCTAT</td></tr><tr><td><a href=\"https://www.encodedcc.org/files/ENCFF002BJC/\">ENCFF002BJC.fastq.gz</a></td><td>D1THKACXX</td><td>4</td><td>AGGCAGAA-TATCCTCT</td><td>13627</td><td>@HWI-ST0787:145:D1THKACXX:4:1101:18252:1999 1:N:0:AGGCAGAATATCCTCT</td></tr><tr><td><a href=\"https://www.encodedcc.org/files/ENCFF002BJK/\">ENCFF002BJK.fastq.gz</a></td><td>D1THKACXX</td><td>5</td><td>TCCTGAGC-AGAGTAGA</td><td>13628</td><td>@HWI-ST0787:145:D1THKACXX:5:1101:3587:1998 1:N:0:TCCTGAGCAGAGTAGA</td></tr><tr><td><a href=\"https://www.encodedcc.org/files/ENCFF002BJH/\">ENCFF002BJH.fastq.gz</a></td><td>D1THKACXX</td><td>5</td><td>GGACTCCT-GTAAGGAG</td><td>13629</td><td>@HWI-ST0787:145:D1THKACXX:5:1101:5028:1998 1:N:0:GGACTCCTGTAAGGAG</td></tr><tr><td><a href=\"https://www.encodedcc.org/files/ENCFF002BJD/\">ENCFF002BJD.fastq.gz</a></td><td>D1THKACXX</td><td>5</td><td>TAGGCATG-ACTGCATA</td><td>13630</td><td>@HWI-ST0787:145:D1THKACXX:5:1101:2284:1999 1:N:0:TAGGCATGACTGCATA</td></tr><tr><td><a href=\"https://www.encodedcc.org/files/ENCFF002BJG/\">ENCFF002BJG.fastq.gz</a></td><td>D1THKACXX</td><td>5</td><td>CTCTCTAC-AAGGAGTA</td><td>13631</td><td>@HWI-ST0787:145:D1THKACXX:5:1101:6550:2000 1:N:0:CTCTCTACAAGGAGTA</td></tr><tr><td><a href=\"https://www.encodedcc.org/files/ENCFF002BJL/\">ENCFF002BJL.fastq.gz</a></td><td>D1THKACXX</td><td>5</td><td>CAGAGAGG-CTAAGCCT</td><td>13632</td><td>@HWI-ST0787:145:D1THKACXX:5:1101:4996:1997 1:N:0:CAGAGAGGCTAAGCCT</td></tr><tr><td><a href=\"https://www.encodedcc.org/files/ENCFF002BJI/\">ENCFF002BJI.fastq.gz</a></td><td>D1THKACXX</td><td>5</td><td>GCTACGCT-TAGATCGC</td><td>13633</td><td>@HWI-ST0787:145:D1THKACXX:5:1101:3841:1998 1:N:0:GCTACGCCTAGATCGC</td></tr><tr><td><a href=\"https://www.encodedcc.org/files/ENCFF002BJE/\">ENCFF002BJE.fastq.gz</a></td><td>D1THKACXX</td><td>5</td><td>CGAGGCTG-CTCTCTAT</td><td>13634</td><td>@HWI-ST0787:145:D1THKACXX:5:1101:5120:2000 1:N:0:CGAGGCTGCTCTCTAT</td></tr><tr><td><a href=\"https://www.encodedcc.org/files/ENCFF002BJF/\">ENCFF002BJF.fastq.gz</a></td><td>D1THKACXX</td><td>5</td><td>AAGAGGCA-TATCCTCT</td><td>13635</td><td>@HWI-ST0787:145:D1THKACXX:5:1101:4980:2000 1:N:0:AAGAGGCATATCCTCT</td></tr><tr><td><a href=\"https://www.encodedcc.org/files/ENCFF002BJJ/\">ENCFF002BJJ.fastq.gz</a></td><td>D1THKACXX</td><td>5</td><td>GTAGAGGA-AGAGTAGA</td><td>13636</td><td>@HWI-ST0787:145:D1THKACXX:5:1101:5605:1997 1:N:0:GTAGAGGAAGAGTAGA</td></tr><tr><td><a href=\"https://www.encodedcc.org/files/ENCFF002BJM/\">ENCFF002BJM.fastq.gz</a></td><td>D1THKACXX</td><td>5</td><td>TAAGGCGA-GTAAGGAG</td><td>13637</td><td>@HWI-ST0787:145:D1THKACXX:5:1101:4010:2000 1:N:0:TAAGGCGAGTAAGGAG</td></tr><tr><td><a href=\"https://www.encodedcc.org/files/ENCFF002BJN/\">ENCFF002BJN.fastq.gz</a></td><td>D1THKACXX</td><td>6</td><td>CGTACTAG-ACTGCATA</td><td>13638</td><td>@HWI-ST0787:145:D1THKACXX:6:1101:1320:2016 1:N:0:CGTACTAGACTGCATA</td></tr><tr><td><a href=\"https://www.encodedcc.org/files/ENCFF002BJO/\">ENCFF002BJO.fastq.gz</a></td><td>D1THKACXX</td><td>6</td><td>AGGCAGAA-AAGGAGTA</td><td>13639</td><td>@HWI-ST0787:145:D1THKACXX:6:1101:1172:2104 1:N:0:AGGCAGAAAAGGAGTA</td></tr><tr><td><a href=\"https://www.encodedcc.org/files/ENCFF002BJW/\">ENCFF002BJW.fastq.gz</a></td><td>D1THKACXX</td><td>6</td><td>TCCTGAGC-CTAAGCCT</td><td>13640</td><td>@HWI-ST0787:145:D1THKACXX:6:1101:1414:2117 1:N:0:TCCTGAGCCTAAGCCT</td></tr><tr><td><a href=\"https://www.encodedcc.org/files/ENCFF002BJP/\">ENCFF002BJP.fastq.gz</a></td><td>D1THKACXX</td><td>6</td><td>GGACTCCT-TAGATCGC</td><td>13641</td><td>@HWI-ST0787:145:D1THKACXX:6:1101:1232:2149 1:N:0:GGACTCCTTAGATCGC</td></tr><tr><td><a href=\"https://www.encodedcc.org/files/ENCFF002BJU/\">ENCFF002BJU.fastq.gz</a></td><td>D1THKACXX</td><td>6</td><td>TAGGCATG-CTCTCTAT</td><td>13642</td><td>@HWI-ST0787:145:D1THKACXX:6:1101:1168:2061 1:N:0:TAGGCATGCTCTCTAT</td></tr><tr><td><a href=\"https://www.encodedcc.org/files/ENCFF002BJT/\">ENCFF002BJT.fastq.gz</a></td><td>D1THKACXX</td><td>6</td><td>CTCTCTAC-TATCCTCT</td><td>13643</td><td>@HWI-ST0787:145:D1THKACXX:6:1101:1248:2071 1:N:0:CTCTCTACTATCCTCT</td></tr><tr><td><a href=\"https://www.encodedcc.org/files/ENCFF002BJS/\">ENCFF002BJS.fastq.gz</a></td><td>D1THKACXX</td><td>6</td><td>CAGAGAGG-AGAGTAGA</td><td>13644</td><td>@HWI-ST0787:145:D1THKACXX:6:1101:1350:2017 1:N:0:CAGAGAGGAGAGTAGA</td></tr><tr><td><a href=\"https://www.encodedcc.org/files/ENCFF002BJV/\">ENCFF002BJV.fastq.gz</a></td><td>D1THKACXX</td><td>6</td><td>GCTACGCT-GTAAGGAG</td><td>13645</td><td>@HWI-ST0787:145:D1THKACXX:6:1101:1198:2029 1:N:0:GCTACGCTGTAAGGAG</td></tr><tr><td><a href=\"https://www.encodedcc.org/files/ENCFF002BJR/\">ENCFF002BJR.fastq.gz</a></td><td>D1THKACXX</td><td>6</td><td>CGAGGCTG-ACTGCATA</td><td>13646</td><td>@HWI-ST0787:145:D1THKACXX:6:1101:1137:2141 1:Y:0:CGAGGCTGACTACATA</td></tr><tr><td><a href=\"https://www.encodedcc.org/files/ENCFF002BJQ/\">ENCFF002BJQ.fastq.gz</a></td><td>D1THKACXX</td><td>6</td><td>AAGAGGCA-AAGGAGTA</td><td>13647</td><td>@HWI-ST0787:145:D1THKACXX:6:1101:1125:2036 1:Y:0:AAGAGGCAAAGGAGTA</td></tr><tr><td><a href=\"https://www.encodedcc.org/files/ENCFF002BJX/\">ENCFF002BJX.fastq.gz</a></td><td>D1THKACXX</td><td>8</td><td>GTAGAGGA-CTAAGCCT</td><td>13648</td><td>@HWI-ST0787:145:D1THKACXX:8:1101:20410:2000 1:N:0:GTAGAGGACTAAGCCT</td></tr><tr><td><a href=\"https://www.encodedcc.org/files/ENCFF002BJY/\">ENCFF002BJY.fastq.gz</a></td><td>D1THKACXX</td><td>8</td><td>TAAGGCGA-TAGATCGC</td><td>13649</td><td>@HWI-ST0787:145:D1THKACXX:8:1101:1452:2116 1:Y:0:TAAGGCGATAGATCGC</td></tr><tr><td><a href=\"https://www.encodedcc.org/files/ENCFF002BJZ/\">ENCFF002BJZ.fastq.gz</a></td><td>D1THKACXX</td><td>8</td><td>CGTACTAG-CTCTCTAT</td><td>13650</td><td>@HWI-ST0787:145:D1THKACXX:8:1101:1132:2154 1:N:0:CGTACTAGCTCTCTAT</td></tr><tr><td><a href=\"https://www.encodedcc.org/files/ENCFF002BKA/\">ENCFF002BKA.fastq.gz</a></td><td>D1THKACXX</td><td>7</td><td>AGGCAGAA-TATCCTCT</td><td>13651</td><td>@HWI-ST0787:145:D1THKACXX:7:1101:7858:1995 1:N:0:CGGCAGAATATCCTCT</td></tr><tr><td><a href=\"https://www.encodedcc.org/files/ENCFF002BKJ/\">ENCFF002BKJ.fastq.gz</a></td><td>D1THKACXX</td><td>7</td><td>TCCTGAGC-AGAGTAGA</td><td>13652</td><td>@HWI-ST0787:145:D1THKACXX:7:1101:3532:1997 1:N:0:TCCTGAGCAGAGTAGA</td></tr><tr><td><a href=\"https://www.encodedcc.org/files/ENCFF002BKD/\">ENCFF002BKD.fastq.gz</a></td><td>D1THKACXX</td><td>7</td><td>GGACTCCT-GTAAGGAG</td><td>13653</td><td>@HWI-ST0787:145:D1THKACXX:7:1101:3196:1999 1:Y:0:GGACTCCTGTAAGGAG</td></tr><tr><td><a href=\"https://www.encodedcc.org/files/ENCFF002BKF/\">ENCFF002BKF.fastq.gz</a></td><td>D1THKACXX</td><td>7</td><td>TAGGCATG-ACTGCATA</td><td>13654</td><td>@HWI-ST0787:145:D1THKACXX:7:1101:2006:1999 1:N:0:TAGGCATGACTGCATA</td></tr><tr><td><a href=\"https://www.encodedcc.org/files/ENCFF002BKC/\">ENCFF002BKC.fastq.gz</a></td><td>D1THKACXX</td><td>7</td><td>CTCTCTAC-AAGGAGTA</td><td>13655</td><td>@HWI-ST0787:145:D1THKACXX:7:1101:2388:2000 1:N:0:CTCTCTACAAGGAGTA</td></tr><tr><td><a href=\"https://www.encodedcc.org/files/ENCFF002BKH/\">ENCFF002BKH.fastq.gz</a></td><td>D1THKACXX</td><td>7</td><td>CAGAGAGG-CTAAGCCT</td><td>13656</td><td>@HWI-ST0787:145:D1THKACXX:7:1101:2430:1998 1:N:0:CAGAGAGGCTAAGCCT</td></tr><tr><td><a href=\"https://www.encodedcc.org/files/ENCFF002BKB/\">ENCFF002BKB.fastq.gz</a></td><td>D1THKACXX</td><td>7</td><td>GCTACGCT-TAGATCGC</td><td>13657</td><td>@HWI-ST0787:145:D1THKACXX:7:1101:2201:1998 1:N:0:GCTACGCTTAGATCGC</td></tr><tr><td><a href=\"https://www.encodedcc.org/files/ENCFF002BKI/\">ENCFF002BKI.fastq.gz</a></td><td>D1THKACXX</td><td>8</td><td>CGAGGCTG-CTCTCTAT</td><td>13658</td><td>@HWI-ST0787:145:D1THKACXX:8:1101:1290:2017 1:N:0:CGAGGCTGCTCTCTAT</td></tr><tr><td><a href=\"https://www.encodedcc.org/files/ENCFF002BKG/\">ENCFF002BKG.fastq.gz</a></td><td>D1THKACXX</td><td>8</td><td>AAGAGGCA-TATCCTCT</td><td>13659</td><td>@HWI-ST0787:145:D1THKACXX:8:1101:1195:2014 1:N:0:AAGAGGCATATCCTCT</td></tr><tr><td><a href=\"https://www.encodedcc.org/files/ENCFF002BKE/\">ENCFF002BKE.fastq.gz</a></td><td>D1THKACXX</td><td>8</td><td>GTAGAGGA-AGAGTAGA</td><td>13660</td><td>@HWI-ST0787:145:D1THKACXX:8:1101:1123:2060 1:Y:0:GTAGAGGAAGAGTAGA</td></tr><tr><td><a href=\"https://www.encodedcc.org/files/ENCFF002BKK/\">ENCFF002BKK.fastq.gz</a></td><td>D1THKACXX</td><td>8</td><td>TAAGGCGA-GTAAGGAG</td><td>13661</td><td>@HWI-ST0787:145:D1THKACXX:8:1101:1132:2037 1:N:0:TAAGGCGAGTAAGGAG</td></tr><tr><td><a href=\"https://www.encodedcc.org/files/ENCFF002BKL/\">ENCFF002BKL.fastq.gz</a></td><td>D1THKACXX</td><td>8</td><td>CGTACTAG-ACTGCATA</td><td>13662</td><td>@HWI-ST0787:145:D1THKACXX:8:1101:20034:1999 1:N:0:CGTACTAGACTGCATA</td></tr><tr><td><a href=\"https://www.encodedcc.org/files/ENCFF002BKM/\">ENCFF002BKM.fastq.gz</a></td><td>D1THKACXX</td><td>8</td><td>AGGCAGAA-AAGGAGTA</td><td>13663</td><td>@HWI-ST0787:145:D1THKACXX:8:1101:1173:2016 1:Y:0:AGGCAGAAAAGGAGTA</td></tr><tr><td><a href=\"https://www.encodedcc.org/files/ENCFF002BKO/\">ENCFF002BKO.fastq.gz</a></td><td>D1THKACXX</td><td>8</td><td>TCCTGAGC-CTAAGCCT</td><td>13664</td><td>@HWI-ST0787:145:D1THKACXX:8:1101:1187:2041 1:N:0:TCCTGCGCCTAAGCCT</td></tr><tr><td><a href=\"https://www.encodedcc.org/files/ENCFF002BKQ/\">ENCFF002BKQ.fastq.gz</a></td><td>D1THKACXX</td><td>7</td><td>GTAGAGGA-AGAGTAGA</td><td>13665</td><td>@HWI-ST0787:145:D1THKACXX:7:1101:1486:2000 1:N:0:GTAGAGGAAGAGTAGA</td></tr><tr><td><a href=\"https://www.encodedcc.org/files/ENCFF002BKN/\">ENCFF002BKN.fastq.gz</a></td><td>H8U69ADXX</td><td>1</td><td>GTAGAGGA-AGAGTAGA</td><td>13665</td><td>@HISEQ:182:H8U69ADXX:1:1101:1122:2029 1:N:0:GTAGAGGAAGAGTAGA</td></tr><tr><td><a href=\"https://www.encodedcc.org/files/ENCFF002BKR/\">ENCFF002BKR.fastq.gz</a></td><td>H8U69ADXX</td><td>2</td><td>GTAGAGGA-AGAGTAGA</td><td>13665</td><td>@HISEQ:182:H8U69ADXX:2:1101:1240:2092 1:N:0:GTAGAGGAAGAGTAGA</td></tr><tr><td><a href=\"https://www.encodedcc.org/files/ENCFF002BKT/\">ENCFF002BKT.fastq.gz</a></td><td>H8U69ADXX</td><td>1</td><td>TAAGGCGA-GTAAGGAG</td><td>13666</td><td>@HISEQ:182:H8U69ADXX:1:1101:1115:2082 1:N:0:TAAGGCGAGTAAGGAG</td></tr><tr><td><a href=\"https://www.encodedcc.org/files/ENCFF002BKS/\">ENCFF002BKS.fastq.gz</a></td><td>H8U69ADXX</td><td>2</td><td>TAAGGCGA-GTAAGGAG</td><td>13666</td><td>@HISEQ:182:H8U69ADXX:2:1101:1177:2056 1:N:0:TAAGGCGAGTAAGGAG</td></tr><tr><td><a href=\"https://www.encodedcc.org/files/ENCFF002BKP/\">ENCFF002BKP.fastq.gz</a></td><td>D1THKACXX</td><td>7</td><td>TAAGGCGA-GTAAGGAG</td><td>13666</td><td>@HWI-ST0787:145:D1THKACXX:7:1101:2363:1998 1:Y:0:TAAGGCGAGTAAGGAG</td></tr><tr><td><a href=\"https://www.encodedcc.org/files/ENCFF001RGK/\">ENCFF001RGK.fastq.gz</a></td><td>C24LTACXX</td><td>1</td><td>TAAGGCGA-TAGATCGC</td><td>13711</td><td>@HWI-ST0787:147:C24LTACXX:1:1101:1284:2069 1:N:0:TAAGGCGA</td></tr><tr><td><a href=\"https://www.encodedcc.org/files/ENCFF001RRR/\">ENCFF001RRR.fastq.gz</a></td><td>C1JE0ACXX</td><td>1</td><td>TAAGGCGA-TAGATCGC</td><td>13711</td><td>@HWI-ST926:235:C1JE0ACXX:1:1101:2099:1975 1:N:0:TAAGGCG</td></tr><tr><td><a href=\"https://www.encodedcc.org/files/ENCFF001RVY/\">ENCFF001RVY.fastq.gz</a></td><td>C2812ACXX</td><td>2</td><td>TAAGGCGA-TAGATCGC</td><td>13711</td><td>@HWI-ST354R:434:C2812ACXX:2:1101:1282:2086 1:N:0:TAAGGCG</td></tr><tr><td><a href=\"https://www.encodedcc.org/files/ENCFF001RGO/\">ENCFF001RGO.fastq.gz</a></td><td>C1JE0ACXX</td><td>1</td><td>TAAGGCGA-TAGATCGC</td><td>13711</td><td>@HWI-ST926:235:C1JE0ACXX:1:1101:2099:1975 1:N:0:TAAGGCG</td></tr><tr><td><a href=\"https://www.encodedcc.org/files/ENCFF001RVR/\">ENCFF001RVR.fastq.gz</a></td><td>C2812ACXX</td><td>2</td><td>TAAGGCGA-TAGATCGC</td><td>13711</td><td>@HWI-ST354R:434:C2812ACXX:2:1101:1282:2086 2:N:0:TAAGGCG</td></tr><tr><td><a href=\"https://www.encodedcc.org/files/ENCFF001RRN/\">ENCFF001RRN.fastq.gz</a></td><td>C1JE0ACXX</td><td>1</td><td>CGTACTAG-CTCTCTAT</td><td>13712</td><td>@HWI-ST926:235:C1JE0ACXX:1:1101:1101:1968 1:N:0:CGTACTA</td></tr><tr><td><a href=\"https://www.encodedcc.org/files/ENCFF001RVW/\">ENCFF001RVW.fastq.gz</a></td><td>C2812ACXX</td><td>2</td><td>CGTACTAG-CTCTCTAT</td><td>13712</td><td>@HWI-ST354R:434:C2812ACXX:2:1101:1494:2172 2:N:0:CGTACTA</td></tr><tr><td><a href=\"https://www.encodedcc.org/files/ENCFF001RGH/\">ENCFF001RGH.fastq.gz</a></td><td>C1JE0ACXX</td><td>1</td><td>CGTACTAG-CTCTCTAT</td><td>13712</td><td>@HWI-ST926:235:C1JE0ACXX:1:1101:1101:1968 1:N:0:CGTACTA</td></tr><tr><td><a href=\"https://www.encodedcc.org/files/ENCFF001RVS/\">ENCFF001RVS.fastq.gz</a></td><td>C2812ACXX</td><td>2</td><td>CGTACTAG-CTCTCTAT</td><td>13712</td><td>@HWI-ST354R:434:C2812ACXX:2:1101:1494:2172 1:N:0:CGTACTA</td></tr><tr><td><a href=\"https://www.encodedcc.org/files/ENCFF001RVT/\">ENCFF001RVT.fastq.gz</a></td><td>C2812ACXX</td><td>2</td><td>AGGCAGAA-TATCCTCT</td><td>13713</td><td>@HWI-ST354R:434:C2812ACXX:2:1101:1617:2065 1:N:0:AGGCAGA</td></tr><tr><td><a href=\"https://www.encodedcc.org/files/ENCFF001RRK/\">ENCFF001RRK.fastq.gz</a></td><td>C1JE0ACXX</td><td>1</td><td>AGGCAGAA-TATCCTCT</td><td>13713</td><td>@HWI-ST926:235:C1JE0ACXX:1:1101:1133:1966 1:N:0:AGGCAGA</td></tr><tr><td><a href=\"https://www.encodedcc.org/files/ENCFF001RRJ/\">ENCFF001RRJ.fastq.gz</a></td><td>C24LTACXX</td><td>1</td><td>AGGCAGAA-TATCCTCT</td><td>13713</td><td>@HWI-ST0787:147:C24LTACXX:1:1101:1196:2071 1:N:0:AGGCAGAA</td></tr><tr><td><a href=\"https://www.encodedcc.org/files/ENCFF001RGP/\">ENCFF001RGP.fastq.gz</a></td><td>C1JE0ACXX</td><td>1</td><td>AGGCAGAA-TATCCTCT</td><td>13713</td><td>@HWI-ST926:235:C1JE0ACXX:1:1101:1133:1966 1:N:0:AGGCAGA</td></tr><tr><td><a href=\"https://www.encodedcc.org/files/ENCFF001RVZ/\">ENCFF001RVZ.fastq.gz</a></td><td>C2812ACXX</td><td>2</td><td>AGGCAGAA-TATCCTCT</td><td>13713</td><td>@HWI-ST354R:434:C2812ACXX:2:1101:1617:2065 2:N:0:AGGCAGA</td></tr><tr><td><a href=\"https://www.encodedcc.org/files/ENCFF001RWB/\">ENCFF001RWB.fastq.gz</a></td><td>C2812ACXX</td><td>2</td><td>TCCTGAGC-AGAGTAGA</td><td>13714</td><td>@HWI-ST354R:434:C2812ACXX:2:1101:1480:2139 2:N:0:TCCTGAG</td></tr><tr><td><a href=\"https://www.encodedcc.org/files/ENCFF001RRI/\">ENCFF001RRI.fastq.gz</a></td><td>C24LTACXX</td><td>1</td><td>TCCTGAGC-AGAGTAGA</td><td>13714</td><td>@HWI-ST0787:147:C24LTACXX:1:1101:1220:2075 1:N:0:TCCTGAGC</td></tr><tr><td><a href=\"https://www.encodedcc.org/files/ENCFF001RGM/\">ENCFF001RGM.fastq.gz</a></td><td>C24LTACXX</td><td>1</td><td>TCCTGAGC-AGAGTAGA</td><td>13714</td><td>@HWI-ST0787:147:C24LTACXX:1:1101:1220:2075 1:N:0:TCCTGAGC</td></tr><tr><td><a href=\"https://www.encodedcc.org/files/ENCFF001RGN/\">ENCFF001RGN.fastq.gz</a></td><td>C1JE0ACXX</td><td>1</td><td>TCCTGAGC-AGAGTAGA</td><td>13714</td><td>@HWI-ST926:235:C1JE0ACXX:1:1101:1189:1972 1:N:0:TCCTGAG</td></tr><tr><td><a href=\"https://www.encodedcc.org/files/ENCFF001RRL/\">ENCFF001RRL.fastq.gz</a></td><td>C1JE0ACXX</td><td>1</td><td>TCCTGAGC-AGAGTAGA</td><td>13714</td><td>@HWI-ST926:235:C1JE0ACXX:1:1101:1189:1972 1:N:0:TCCTGAG</td></tr><tr><td><a href=\"https://www.encodedcc.org/files/ENCFF001RVX/\">ENCFF001RVX.fastq.gz</a></td><td>C2812ACXX</td><td>2</td><td>TCCTGAGC-AGAGTAGA</td><td>13714</td><td>@HWI-ST354R:434:C2812ACXX:2:1101:1480:2139 1:N:0:TCCTGAG</td></tr><tr><td><a href=\"https://www.encodedcc.org/files/ENCFF001RWA/\">ENCFF001RWA.fastq.gz</a></td><td>C2812ACXX</td><td>2</td><td>GGACTCCT-GTAAGGAG</td><td>13715</td><td>@HWI-ST354R:434:C2812ACXX:2:1101:1372:2109 2:N:0:GGACTCC</td></tr><tr><td><a href=\"https://www.encodedcc.org/files/ENCFF001RQW/\">ENCFF001RQW.fastq.gz</a></td><td>C24LTACXX</td><td>2</td><td>GGACTCCT-GTAAGGAG</td><td>13715</td><td>@HWI-ST0787:147:C24LTACXX:2:1101:1243:2181 1:N:0:GGACTCCT</td></tr><tr><td><a href=\"https://www.encodedcc.org/files/ENCFF001RGD/\">ENCFF001RGD.fastq.gz</a></td><td>C24LTACXX</td><td>2</td><td>GGACTCCT-GTAAGGAG</td><td>13715</td><td>@HWI-ST0787:147:C24LTACXX:2:1101:1243:2181 1:N:0:GGACTCCT</td></tr><tr><td><a href=\"https://www.encodedcc.org/files/ENCFF001RGL/\">ENCFF001RGL.fastq.gz</a></td><td>C1JE0ACXX</td><td>1</td><td>GGACTCCT-GTAAGGAG</td><td>13715</td><td>@HWI-ST926:235:C1JE0ACXX:1:1101:1481:1991 1:Y:0:GGACTCC</td></tr><tr><td><a href=\"https://www.encodedcc.org/files/ENCFF001RRG/\">ENCFF001RRG.fastq.gz</a></td><td>C1JE0ACXX</td><td>1</td><td>GGACTCCT-GTAAGGAG</td><td>13715</td><td>@HWI-ST926:235:C1JE0ACXX:1:1101:1481:1991 1:Y:0:GGACTCC</td></tr><tr><td><a href=\"https://www.encodedcc.org/files/ENCFF001RVV/\">ENCFF001RVV.fastq.gz</a></td><td>C2812ACXX</td><td>2</td><td>GGACTCCT-GTAAGGAG</td><td>13715</td><td>@HWI-ST354R:434:C2812ACXX:2:1101:1372:2109 1:N:0:GGACTCC</td></tr><tr><td><a href=\"https://www.encodedcc.org/files/ENCFF001RVU/\">ENCFF001RVU.fastq.gz</a></td><td>C2812ACXX</td><td>2</td><td>TAGGCATG-ACTGCATA</td><td>13716</td><td>@HWI-ST354R:434:C2812ACXX:2:1101:1459:2043 2:N:0:TAGGCAT</td></tr><tr><td><a href=\"https://www.encodedcc.org/files/ENCFF001RFY/\">ENCFF001RFY.fastq.gz</a></td><td>C24LTACXX</td><td>2</td><td>TAGGCATG-ACTGCATA</td><td>13716</td><td>@HWI-ST0787:147:C24LTACXX:2:1101:1192:2162 1:N:0:TAGGCATG</td></tr><tr><td><a href=\"https://www.encodedcc.org/files/ENCFF001RWD/\">ENCFF001RWD.fastq.gz</a></td><td>C2812ACXX</td><td>2</td><td>TAGGCATG-ACTGCATA</td><td>13716</td><td>@HWI-ST354R:434:C2812ACXX:2:1101:1459:2043 1:N:0:TAGGCAT</td></tr><tr><td><a href=\"https://www.encodedcc.org/files/ENCFF001RQX/\">ENCFF001RQX.fastq.gz</a></td><td>C1JE0ACXX</td><td>1</td><td>TAGGCATG-ACTGCATA</td><td>13716</td><td>@HWI-ST926:235:C1JE0ACXX:1:1101:1261:1984 1:N:0:TAGGCAT</td></tr><tr><td><a href=\"https://www.encodedcc.org/files/ENCFF001RQT/\">ENCFF001RQT.fastq.gz</a></td><td>C24LTACXX</td><td>2</td><td>TAGGCATG-ACTGCATA</td><td>13716</td><td>@HWI-ST0787:147:C24LTACXX:2:1101:1192:2162 1:N:0:TAGGCATG</td></tr><tr><td><a href=\"https://www.encodedcc.org/files/ENCFF001RGG/\">ENCFF001RGG.fastq.gz</a></td><td>C1JE0ACXX</td><td>1</td><td>TAGGCATG-ACTGCATA</td><td>13716</td><td>@HWI-ST926:235:C1JE0ACXX:1:1101:1261:1984 1:N:0:TAGGCAT</td></tr><tr><td><a href=\"https://www.encodedcc.org/files/ENCFF001RGA/\">ENCFF001RGA.fastq.gz</a></td><td>C24LTACXX</td><td>2</td><td>CTCTCTAC-AAGGAGTA</td><td>13717</td><td>@HWI-ST0787:147:C24LTACXX:2:1101:1293:2102 1:N:0:CTCTCTAC</td></tr><tr><td><a href=\"https://www.encodedcc.org/files/ENCFF001RGI/\">ENCFF001RGI.fastq.gz</a></td><td>C1JE0ACXX</td><td>1</td><td>CTCTCTAC-AAGGAGTA</td><td>13717</td><td>@HWI-ST926:235:C1JE0ACXX:1:1101:1035:1970 1:Y:0:CTCTCTA</td></tr><tr><td><a href=\"https://www.encodedcc.org/files/ENCFF001RWC/\">ENCFF001RWC.fastq.gz</a></td><td>C2812ACXX</td><td>2</td><td>CTCTCTAC-AAGGAGTA</td><td>13717</td><td>@HWI-ST354R:434:C2812ACXX:2:1101:1473:2097 2:N:0:CTCTCTA</td></tr><tr><td><a href=\"https://www.encodedcc.org/files/ENCFF001RQQ/\">ENCFF001RQQ.fastq.gz</a></td><td>C1JE0ACXX</td><td>1</td><td>CTCTCTAC-AAGGAGTA</td><td>13717</td><td>@HWI-ST926:235:C1JE0ACXX:1:1101:1035:1970 1:Y:0:CTCTCTA</td></tr><tr><td><a href=\"https://www.encodedcc.org/files/ENCFF001RQJ/\">ENCFF001RQJ.fastq.gz</a></td><td>C24LTACXX</td><td>2</td><td>CTCTCTAC-AAGGAGTA</td><td>13717</td><td>@HWI-ST0787:147:C24LTACXX:2:1101:1293:2102 1:N:0:CTCTCTAC</td></tr><tr><td><a href=\"https://www.encodedcc.org/files/ENCFF001RWF/\">ENCFF001RWF.fastq.gz</a></td><td>C2812ACXX</td><td>2</td><td>CTCTCTAC-AAGGAGTA</td><td>13717</td><td>@HWI-ST354R:434:C2812ACXX:2:1101:1473:2097 1:N:0:CTCTCTA</td></tr><tr><td><a href=\"https://www.encodedcc.org/files/ENCFF001RGJ/\">ENCFF001RGJ.fastq.gz</a></td><td>C1JE0ACXX</td><td>1</td><td>CAGAGAGG-CTAAGCCT</td><td>13718</td><td>@HWI-ST926:235:C1JE0ACXX:1:1101:1112:1987 1:N:0:CAGAGAG</td></tr><tr><td><a href=\"https://www.encodedcc.org/files/ENCFF001RQI/\">ENCFF001RQI.fastq.gz</a></td><td>C1JE0ACXX</td><td>1</td><td>CAGAGAGG-CTAAGCCT</td><td>13718</td><td>@HWI-ST926:235:C1JE0ACXX:1:1101:1112:1987 1:N:0:CAGAGAG</td></tr><tr><td><a href=\"https://www.encodedcc.org/files/ENCFF001RQD/\">ENCFF001RQD.fastq.gz</a></td><td>C24LTACXX</td><td>2</td><td>CAGAGAGG-CTAAGCCT</td><td>13718</td><td>@HWI-ST0787:147:C24LTACXX:2:1101:1267:2139 1:N:0:CAGAGAGG</td></tr><tr><td><a href=\"https://www.encodedcc.org/files/ENCFF001RFX/\">ENCFF001RFX.fastq.gz</a></td><td>C24LTACXX</td><td>2</td><td>CAGAGAGG-CTAAGCCT</td><td>13718</td><td>@HWI-ST0787:147:C24LTACXX:2:1101:1267:2139 1:N:0:CAGAGAGG</td></tr><tr><td><a href=\"https://www.encodedcc.org/files/ENCFF001RWE/\">ENCFF001RWE.fastq.gz</a></td><td>C2812ACXX</td><td>2</td><td>CAGAGAGG-CTAAGCCT</td><td>13718</td><td>@HWI-ST354R:434:C2812ACXX:2:1101:1468:2066 1:N:0:CAGAGAG</td></tr><tr><td><a href=\"https://www.encodedcc.org/files/ENCFF001RWG/\">ENCFF001RWG.fastq.gz</a></td><td>C2812ACXX</td><td>2</td><td>CAGAGAGG-CTAAGCCT</td><td>13718</td><td>@HWI-ST354R:434:C2812ACXX:2:1101:1468:2066 2:N:0:CAGAGAG</td></tr><tr><td><a href=\"https://www.encodedcc.org/files/ENCFF002EZH/\">ENCFF002EZH.fastq.gz</a></td><td>HA00MADXX</td><td>1</td><td>TAAGGCGA-TATCCTCT</td><td>14485</td><td>@HISEQ:223:HA00MADXX:1:1101:1178:2064 1:N:0:TAAGGCGATATCCTCT</td></tr><tr><td><a href=\"https://www.encodedcc.org/files/ENCFF002EZI/\">ENCFF002EZI.fastq.gz</a></td><td>H9L41ADXX</td><td>2</td><td>TAAGGCGA-TATCCTCT</td><td>14485</td><td>@HISEQ:210:H9L41ADXX:2:1101:3063:1997 1:N:0:TAAGGCGATATCCTCT</td></tr><tr><td><a href=\"https://www.encodedcc.org/files/ENCFF002EZG/\">ENCFF002EZG.fastq.gz</a></td><td>H9L41ADXX</td><td>1</td><td>TAAGGCGA-TATCCTCT</td><td>14485</td><td>@HISEQ:210:H9L41ADXX:1:1101:1244:2091 1:N:0:TAAGGCGATATCCTCT</td></tr><tr><td><a href=\"https://www.encodedcc.org/files/ENCFF002EZJ/\">ENCFF002EZJ.fastq.gz</a></td><td>HA00MADXX</td><td>2</td><td>TAAGGCGA-TATCCTCT</td><td>14485</td><td>@HISEQ:223:HA00MADXX:2:1101:1782:1992 1:N:0:TAAGGCGATATCCTCT</td></tr><tr><td><a href=\"https://www.encodedcc.org/files/ENCFF002EZK/\">ENCFF002EZK.fastq.gz</a></td><td>H9L41ADXX</td><td>2</td><td>CGTACTAG-AGAGTAGA</td><td>14486</td><td>@HISEQ:210:H9L41ADXX:2:1101:1191:1998 1:N:0:CGTACTAGAGAGTAGA</td></tr><tr><td><a href=\"https://www.encodedcc.org/files/ENCFF002EZF/\">ENCFF002EZF.fastq.gz</a></td><td>HA00MADXX</td><td>1</td><td>CGTACTAG-AGAGTAGA</td><td>14486</td><td>@HISEQ:223:HA00MADXX:1:1101:1177:2223 1:N:0:CGTACTAGAGAGTAGA</td></tr><tr><td><a href=\"https://www.encodedcc.org/files/ENCFF002EZL/\">ENCFF002EZL.fastq.gz</a></td><td>H9L41ADXX</td><td>1</td><td>CGTACTAG-AGAGTAGA</td><td>14486</td><td>@HISEQ:210:H9L41ADXX:1:1101:1215:2066 1:N:0:CGTACTAGAGAGTAGA</td></tr><tr><td><a href=\"https://www.encodedcc.org/files/ENCFF002EZE/\">ENCFF002EZE.fastq.gz</a></td><td>HA00MADXX</td><td>2</td><td>CGTACTAG-AGAGTAGA</td><td>14486</td><td>@HISEQ:223:HA00MADXX:2:1101:3564:1994 1:N:0:CGTACTAGAGAGTAGA</td></tr><tr><td><a href=\"https://www.encodedcc.org/files/ENCFF002EZP/\">ENCFF002EZP.fastq.gz</a></td><td>HA024ADXX</td><td>1</td><td>AGGCAGAA-GTAAGGAG</td><td>14487</td><td>@HISEQ:224:HA024ADXX:1:1101:1216:2132 1:N:0:ANGCAGAAGTAAGGAG</td></tr><tr><td><a href=\"https://www.encodedcc.org/files/ENCFF002EZT/\">ENCFF002EZT.fastq.gz</a></td><td>H9L41ADXX</td><td>2</td><td>AGGCAGAA-GTAAGGAG</td><td>14487</td><td>@HISEQ:210:H9L41ADXX:2:1101:10460:1998 1:N:0:AGGCAGAAGTAACGAG</td></tr><tr><td><a href=\"https://www.encodedcc.org/files/ENCFF002EZM/\">ENCFF002EZM.fastq.gz</a></td><td>H9L41ADXX</td><td>1</td><td>AGGCAGAA-GTAAGGAG</td><td>14487</td><td>@HISEQ:210:H9L41ADXX:1:1101:1880:2051 1:N:0:AGGCAGAAGTAAGGAG</td></tr><tr><td><a href=\"https://www.encodedcc.org/files/ENCFF002EZR/\">ENCFF002EZR.fastq.gz</a></td><td>HA024ADXX</td><td>2</td><td>AGGCAGAA-GTAAGGAG</td><td>14487</td><td>@HISEQ:224:HA024ADXX:2:1101:1359:2072 1:N:0:NGGCAGAANTAAGGAG</td></tr><tr><td><a href=\"https://www.encodedcc.org/files/ENCFF002EZS/\">ENCFF002EZS.fastq.gz</a></td><td>HA024ADXX</td><td>2</td><td>TCCTGAGC-ACTGCATA</td><td>14488</td><td>@HISEQ:224:HA024ADXX:2:1101:1231:2128 1:N:0:TCCTGAGCANTGCATA</td></tr><tr><td><a href=\"https://www.encodedcc.org/files/ENCFF002EZN/\">ENCFF002EZN.fastq.gz</a></td><td>H9L41ADXX</td><td>1</td><td>TCCTGAGC-ACTGCATA</td><td>14488</td><td>@HISEQ:210:H9L41ADXX:1:1101:2334:2125 1:N:0:TCCTGAGCACTGCATA</td></tr><tr><td><a href=\"https://www.encodedcc.org/files/ENCFF002EZQ/\">ENCFF002EZQ.fastq.gz</a></td><td>HA024ADXX</td><td>1</td><td>TCCTGAGC-ACTGCATA</td><td>14488</td><td>@HISEQ:224:HA024ADXX:1:1101:1191:2148 1:N:0:TCCTGAGCACTGCATA</td></tr><tr><td><a href=\"https://www.encodedcc.org/files/ENCFF002EZO/\">ENCFF002EZO.fastq.gz</a></td><td>H9L41ADXX</td><td>2</td><td>TCCTGAGC-ACTGCATA</td><td>14488</td><td>@HISEQ:210:H9L41ADXX:2:1101:15570:1989 1:N:0:TCCTGAGCACTGCATA</td></tr><tr><td><a href=\"https://www.encodedcc.org/files/ENCFF002EYS/\">ENCFF002EYS.fastq.gz</a></td><td>H9L41ADXX</td><td>1</td><td>AAGAGGCA-GTAAGGAG</td><td>14495</td><td>@HISEQ:210:H9L41ADXX:1:1101:1371:2176 1:N:0:AAGAGGCAGTAAGGAG</td></tr><tr><td><a href=\"https://www.encodedcc.org/files/ENCFF002EYT/\">ENCFF002EYT.fastq.gz</a></td><td>H9Y0PADXX</td><td>1</td><td>AAGAGGCA-GTAAGGAG</td><td>14495</td><td>@HISEQ:232:H9Y0PADXX:1:1101:1056:2055 1:Y:0:AAGAGGCAGTAAGGAG</td></tr><tr><td><a href=\"https://www.encodedcc.org/files/ENCFF002EYV/\">ENCFF002EYV.fastq.gz</a></td><td>HA00MADXX</td><td>1</td><td>AAGAGGCA-GTAAGGAG</td><td>14495</td><td>@HISEQ:223:HA00MADXX:1:1101:1125:2057 1:N:0:AAGAGGCAGTAAGGAG</td></tr><tr><td><a href=\"https://www.encodedcc.org/files/ENCFF002EYZ/\">ENCFF002EYZ.fastq.gz</a></td><td>HA00MADXX</td><td>2</td><td>AAGAGGCA-GTAAGGAG</td><td>14495</td><td>@HISEQ:223:HA00MADXX:2:1101:1546:1986 1:N:0:AAGAGGCAGTAAGGAG</td></tr><tr><td><a href=\"https://www.encodedcc.org/files/ENCFF002EYU/\">ENCFF002EYU.fastq.gz</a></td><td>H9L41ADXX</td><td>2</td><td>AAGAGGCA-GTAAGGAG</td><td>14495</td><td>@HISEQ:210:H9L41ADXX:2:1101:8452:1998 1:N:0:AAGAGGCAGTAAGGAG</td></tr><tr><td><a href=\"https://www.encodedcc.org/files/ENCFF002EYW/\">ENCFF002EYW.fastq.gz</a></td><td>H9Y0PADXX</td><td>2</td><td>AAGAGGCA-GTAAGGAG</td><td>14495</td><td>@HISEQ:232:H9Y0PADXX:2:1101:1217:2207 1:N:0:AAGAGGCAGTAAGGAG</td></tr><tr><td><a href=\"https://www.encodedcc.org/files/ENCFF002EYC/\">ENCFF002EYC.fastq.gz</a></td><td>HA00MADXX</td><td>1</td><td>AGGCAGAA-TAGATCGC</td><td>14499</td><td>@HISEQ:223:HA00MADXX:1:1101:1093:2058 1:N:0:NGGCAGAATAGATCGC</td></tr><tr><td><a href=\"https://www.encodedcc.org/files/ENCFF002EXS/\">ENCFF002EXS.fastq.gz</a></td><td>H9L41ADXX</td><td>2</td><td>AGGCAGAA-TAGATCGC</td><td>14499</td><td>@HISEQ:210:H9L41ADXX:2:1101:7142:1994 1:N:0:AGGCAGAATAGATCGC</td></tr><tr><td><a href=\"https://www.encodedcc.org/files/ENCFF002EXY/\">ENCFF002EXY.fastq.gz</a></td><td>HA024ADXX</td><td>2</td><td>AGGCAGAA-TAGATCGC</td><td>14499</td><td>@HISEQ:224:HA024ADXX:2:1101:1483:2104 1:N:0:AGGCAGAATAGATCGC</td></tr><tr><td><a href=\"https://www.encodedcc.org/files/ENCFF002EYA/\">ENCFF002EYA.fastq.gz</a></td><td>HA00MADXX</td><td>2</td><td>AGGCAGAA-TAGATCGC</td><td>14499</td><td>@HISEQ:223:HA00MADXX:2:1101:1180:1985 1:N:0:AGGCAGAATAGATCGC</td></tr><tr><td><a href=\"https://www.encodedcc.org/files/ENCFF002EYB/\">ENCFF002EYB.fastq.gz</a></td><td>HA024ADXX</td><td>1</td><td>AGGCAGAA-TAGATCGC</td><td>14499</td><td>@HISEQ:224:HA024ADXX:1:1101:1192:2179 1:N:0:AGGCAGAATAGATCGC</td></tr><tr><td><a href=\"https://www.encodedcc.org/files/ENCFF002EXT/\">ENCFF002EXT.fastq.gz</a></td><td>H9L41ADXX</td><td>1</td><td>AGGCAGAA-TAGATCGC</td><td>14499</td><td>@HISEQ:210:H9L41ADXX:1:1101:1930:2104 1:Y:0:AGGCACAATAGATCGC</td></tr><tr><td><a href=\"https://www.encodedcc.org/files/ENCFF002EXZ/\">ENCFF002EXZ.fastq.gz</a></td><td>H9L41ADXX</td><td>2</td><td>GGACTCCT-TATCCTCT</td><td>14501</td><td>@HISEQ:210:H9L41ADXX:2:1101:1989:1998 1:N:0:GGACTCCTTATCCTCT</td></tr><tr><td><a href=\"https://www.encodedcc.org/files/ENCFF002EXU/\">ENCFF002EXU.fastq.gz</a></td><td>H9Y0PADXX</td><td>2</td><td>GGACTCCT-TATCCTCT</td><td>14501</td><td>@HISEQ:232:H9Y0PADXX:2:1101:1186:2066 1:N:0:GGACTCCTTATCCTCT</td></tr><tr><td><a href=\"https://www.encodedcc.org/files/ENCFF002EXW/\">ENCFF002EXW.fastq.gz</a></td><td>H9L41ADXX</td><td>1</td><td>GGACTCCT-TATCCTCT</td><td>14501</td><td>@HISEQ:210:H9L41ADXX:1:1101:1207:2088 1:N:0:TGACTCCTTAGCCTCT</td></tr><tr><td><a href=\"https://www.encodedcc.org/files/ENCFF002EXV/\">ENCFF002EXV.fastq.gz</a></td><td>H9Y0PADXX</td><td>1</td><td>GGACTCCT-TATCCTCT</td><td>14501</td><td>@HISEQ:232:H9Y0PADXX:1:1101:1206:2026 1:N:0:GGACTCCTTATCCTCT</td></tr><tr><td><a href=\"https://www.encodedcc.org/files/ENCFF002EYE/\">ENCFF002EYE.fastq.gz</a></td><td>HA06KADXX</td><td>2</td><td>CTCTCTAC-AGAGTAGA</td><td>14626</td><td>@HISEQ:225:HA06KADXX:2:1101:1096:2079 1:N:0:CTCTCTACAGAGTAGN</td></tr><tr><td><a href=\"https://www.encodedcc.org/files/ENCFF002EXX/\">ENCFF002EXX.fastq.gz</a></td><td>HA06KADXX</td><td>1</td><td>CTCTCTAC-AGAGTAGA</td><td>14626</td><td>@HISEQ:225:HA06KADXX:1:1101:1179:2083 1:N:0:CTCTCTACAGAGTAGA</td></tr><tr><td><a href=\"https://www.encodedcc.org/files/ENCFF002EYD/\">ENCFF002EYD.fastq.gz</a></td><td>HA06KADXX</td><td>2</td><td>CAGAGAGG-GTAAGGAG</td><td>14627</td><td>@HISEQ:225:HA06KADXX:2:1101:1203:2075 1:Y:0:CAGAGATGGTAAGGAG</td></tr><tr><td><a href=\"https://www.encodedcc.org/files/ENCFF002EYF/\">ENCFF002EYF.fastq.gz</a></td><td>HA06KADXX</td><td>1</td><td>CAGAGAGG-GTAAGGAG</td><td>14627</td><td>@HISEQ:225:HA06KADXX:1:1101:1109:2075 1:N:0:CAGAGAGGGTAAGGAN</td></tr><tr><td><a href=\"https://www.encodedcc.org/files/ENCFF002EYJ/\">ENCFF002EYJ.fastq.gz</a></td><td>HA06KADXX</td><td>1</td><td>GCTACGCT-ACTGCATA</td><td>14628</td><td>@HISEQ:225:HA06KADXX:1:1101:1182:2107 1:N:0:CCTACGCTACTGCATA</td></tr><tr><td><a href=\"https://www.encodedcc.org/files/ENCFF002EYM/\">ENCFF002EYM.fastq.gz</a></td><td>HA06KADXX</td><td>2</td><td>GCTACGCT-ACTGCATA</td><td>14628</td><td>@HISEQ:225:HA06KADXX:2:1101:1146:2079 1:N:0:GCTACGCTACTGCATN</td></tr><tr><td><a href=\"https://www.encodedcc.org/files/ENCFF002EYG/\">ENCFF002EYG.fastq.gz</a></td><td>HA06KADXX</td><td>1</td><td>CGAGGCTG-AAGGAGTA</td><td>14629</td><td>@HISEQ:225:HA06KADXX:1:1101:1220:2087 1:N:0:CGAGGCTGAAGGAGTA</td></tr><tr><td><a href=\"https://www.encodedcc.org/files/ENCFF002EYH/\">ENCFF002EYH.fastq.gz</a></td><td>HA06KADXX</td><td>2</td><td>CGAGGCTG-AAGGAGTA</td><td>14629</td><td>@HISEQ:225:HA06KADXX:2:1101:1235:2103 1:N:0:CGAGGCTGAAGGAGTA</td></tr><tr><td><a href=\"https://www.encodedcc.org/files/ENCFF002EZD/\">ENCFF002EZD.fastq.gz</a></td><td>HA024ADXX</td><td>2</td><td>AAGAGGCA-CTAAGCCT</td><td>14630</td><td>@HISEQ:224:HA024ADXX:2:1101:1221:2249 1:N:0:ANGAGGCACNAAGCCT</td></tr><tr><td><a href=\"https://www.encodedcc.org/files/ENCFF002EZB/\">ENCFF002EZB.fastq.gz</a></td><td>HA024ADXX</td><td>1</td><td>AAGAGGCA-CTAAGCCT</td><td>14630</td><td>@HISEQ:224:HA024ADXX:1:1101:1075:2152 1:N:0:AAGAGGCACTAAGCCT</td></tr><tr><td><a href=\"https://www.encodedcc.org/files/ENCFF002EYI/\">ENCFF002EYI.fastq.gz</a></td><td>HA06KADXX</td><td>2</td><td>GTAGAGGA-TAGATCGC</td><td>14631</td><td>@HISEQ:225:HA06KADXX:2:1101:1182:2083 1:N:0:GTAGAGGATAGATCGC</td></tr><tr><td><a href=\"https://www.encodedcc.org/files/ENCFF002EYN/\">ENCFF002EYN.fastq.gz</a></td><td>HA06KADXX</td><td>1</td><td>GTAGAGGA-TAGATCGC</td><td>14631</td><td>@HISEQ:225:HA06KADXX:1:1101:1133:2083 1:N:0:GTAGAGGATAGATCGN</td></tr><tr><td><a href=\"https://www.encodedcc.org/files/ENCFF002EYP/\">ENCFF002EYP.fastq.gz</a></td><td>HA06KADXX</td><td>2</td><td>TAAGGCGA-CTCTCTAT</td><td>14632</td><td>@HISEQ:225:HA06KADXX:2:1101:1241:2078 1:N:0:CAAGGCGACTCTCTAT</td></tr><tr><td><a href=\"https://www.encodedcc.org/files/ENCFF002EYQ/\">ENCFF002EYQ.fastq.gz</a></td><td>HA06KADXX</td><td>1</td><td>TAAGGCGA-CTCTCTAT</td><td>14632</td><td>@HISEQ:225:HA06KADXX:1:1101:1190:2145 1:N:0:TAAGGCGACTCTCTAT</td></tr><tr><td><a href=\"https://www.encodedcc.org/files/ENCFF002EYK/\">ENCFF002EYK.fastq.gz</a></td><td>HA024ADXX</td><td>1</td><td>CGTACTAG-TATCCTCT</td><td>14633</td><td>@HISEQ:224:HA024ADXX:1:1101:1057:2142 1:N:0:CGTACTAGNATCCTCT</td></tr><tr><td><a href=\"https://www.encodedcc.org/files/ENCFF002EYL/\">ENCFF002EYL.fastq.gz</a></td><td>HA024ADXX</td><td>2</td><td>CGTACTAG-TATCCTCT</td><td>14633</td><td>@HISEQ:224:HA024ADXX:2:1101:1249:2156 1:N:0:CGTACTAGTATCCTCT</td></tr><tr><td><a href=\"https://www.encodedcc.org/files/ENCFF002EYO/\">ENCFF002EYO.fastq.gz</a></td><td>H9Y0PADXX</td><td>2</td><td>AGGCAGAA-AGAGTAGA</td><td>14634</td><td>@HISEQ:232:H9Y0PADXX:2:1101:1165:2020 1:N:0:AGGCAGAAAGAGTAGA</td></tr><tr><td><a href=\"https://www.encodedcc.org/files/ENCFF002EYR/\">ENCFF002EYR.fastq.gz</a></td><td>H9Y0PADXX</td><td>1</td><td>AGGCAGAA-AGAGTAGA</td><td>14634</td><td>@HISEQ:232:H9Y0PADXX:1:1101:1239:2030 1:N:0:AGGCAGAAAGAGTAGA</td></tr><tr><td><a href=\"https://www.encodedcc.org/files/ENCFF002EYY/\">ENCFF002EYY.fastq.gz</a></td><td>H9Y0PADXX</td><td>1</td><td>TCCTGAGC-GTAAGGAG</td><td>14635</td><td>@HISEQ:232:H9Y0PADXX:1:1101:1132:2041 1:N:0:TCCTGAGCGTAAGGAG</td></tr><tr><td><a href=\"https://www.encodedcc.org/files/ENCFF002EZA/\">ENCFF002EZA.fastq.gz</a></td><td>H9Y0PADXX</td><td>2</td><td>TCCTGAGC-GTAAGGAG</td><td>14635</td><td>@HISEQ:232:H9Y0PADXX:2:1101:1221:2060 1:N:0:TCCTGAGCGTAAGGAG</td></tr><tr><td><a href=\"https://www.encodedcc.org/files/ENCFF002EZC/\">ENCFF002EZC.fastq.gz</a></td><td>H9Y0PADXX</td><td>1</td><td>GGACTCCT-ACTGCATA</td><td>14636</td><td>@HISEQ:232:H9Y0PADXX:1:1101:1108:2007 1:N:0:GGACTCCTACTGCATA</td></tr><tr><td><a href=\"https://www.encodedcc.org/files/ENCFF002EYX/\">ENCFF002EYX.fastq.gz</a></td><td>H9Y0PADXX</td><td>2</td><td>GGACTCCT-ACTGCATA</td><td>14636</td><td>@HISEQ:232:H9Y0PADXX:2:1101:1065:2025 1:Y:0:GGACTCCTACTGCATA</td></tr><tr><td><a href=\"https://www.encodedcc.org/files/ENCFF002ERM/\">ENCFF002ERM.fastq.gz</a></td><td>HA06HADXX</td><td>1</td><td>CGAGGCTG-TATCCTCT</td><td>14653</td><td>@HISEQ:227:HA06HADXX:1:1101:1218:2027 1:N:0:CGAGGCTGTATCCTCT</td></tr><tr><td><a href=\"https://www.encodedcc.org/files/ENCFF002ERN/\">ENCFF002ERN.fastq.gz</a></td><td>HA06HADXX</td><td>2</td><td>CGAGGCTG-TATCCTCT</td><td>14653</td><td>@HISEQ:227:HA06HADXX:2:1101:2499:1998 1:N:0:CGAGGCTGTATCCTCT</td></tr><tr><td><a href=\"https://www.encodedcc.org/files/ENCFF002ERO/\">ENCFF002ERO.fastq.gz</a></td><td>HA06HADXX</td><td>1</td><td>AAGAGGCA-AGAGTAGA</td><td>14654</td><td>@HISEQ:227:HA06HADXX:1:1101:1245:2026 1:N:0:AAGAGGCAAGAGTAGA</td></tr><tr><td><a href=\"https://www.encodedcc.org/files/ENCFF002ERP/\">ENCFF002ERP.fastq.gz</a></td><td>HA06HADXX</td><td>2</td><td>AAGAGGCA-AGAGTAGA</td><td>14654</td><td>@HISEQ:227:HA06HADXX:2:1101:1982:1997 1:N:0:AAGAGGCAAGAGTAGA</td></tr><tr><td><a href=\"https://www.encodedcc.org/files/ENCFF002ERT/\">ENCFF002ERT.fastq.gz</a></td><td>HA06HADXX</td><td>2</td><td>GTAGAGGA-GTAAGGAG</td><td>14655</td><td>@HISEQ:227:HA06HADXX:2:1101:1209:1999 1:Y:0:GTAGAGGAGTAAGGAG</td></tr><tr><td><a href=\"https://www.encodedcc.org/files/ENCFF002ERQ/\">ENCFF002ERQ.fastq.gz</a></td><td>HA06HADXX</td><td>1</td><td>GTAGAGGA-GTAAGGAG</td><td>14655</td><td>@HISEQ:227:HA06HADXX:1:1101:1190:2105 1:N:0:GTAGAGGAGTAAGGAG</td></tr><tr><td><a href=\"https://www.encodedcc.org/files/ENCFF002ERS/\">ENCFF002ERS.fastq.gz</a></td><td>HA06HADXX</td><td>1</td><td>TAAGGCGA-ACTGCATA</td><td>14656</td><td>@HISEQ:227:HA06HADXX:1:1101:1118:2024 1:N:0:TAAGGCGAACTCCATA</td></tr><tr><td><a href=\"https://www.encodedcc.org/files/ENCFF002ERR/\">ENCFF002ERR.fastq.gz</a></td><td>HA06HADXX</td><td>2</td><td>TAAGGCGA-ACTGCATA</td><td>14656</td><td>@HISEQ:227:HA06HADXX:2:1101:4189:1996 1:N:0:TAAGGCGAACTGCATA</td></tr><tr><td><a href=\"https://www.encodedcc.org/files/ENCFF329ACL/\">ENCFF329ACL.fastq.gz</a></td><td>HAM6KADXX</td><td>1</td><td>TAAGGCGA-GCGTAAGA</td><td>15007</td><td>@HISEQ:267:HAM6KADXX:1:1101:1207:2035 1:N:0:TAAGGNGA</td></tr><tr><td><a href=\"https://www.encodedcc.org/files/ENCFF251LNG/\">ENCFF251LNG.fastq.gz</a></td><td>HAM6KADXX</td><td>2</td><td>CGTACTAG-CTCTCTAT</td><td>15008</td><td>@HISEQ:267:HAM6KADXX:2:1101:1146:2029 1:N:0:CGTACTAG</td></tr><tr><td><a href=\"https://www.encodedcc.org/files/ENCFF896COV/\">ENCFF896COV.fastq.gz</a></td><td>HAM6KADXX</td><td>1</td><td>CGTACTAG-CTCTCTAT</td><td>15008</td><td>@HISEQ:267:HAM6KADXX:1:1101:1182:2037 1:N:0:CGTACTAG</td></tr><tr><td><a href=\"https://www.encodedcc.org/files/ENCFF051VXS/\">ENCFF051VXS.fastq.gz</a></td><td>HAM6KADXX</td><td>1</td><td>AGGCAGAA-TATCCTCT</td><td>15009</td><td>@HISEQ:267:HAM6KADXX:1:1101:1218:2060 1:N:0:AGGCAGAA</td></tr><tr><td><a href=\"https://www.encodedcc.org/files/ENCFF739QUZ/\">ENCFF739QUZ.fastq.gz</a></td><td>HAM6KADXX</td><td>2</td><td>AGGCAGAA-TATCCTCT</td><td>15009</td><td>@HISEQ:267:HAM6KADXX:2:1101:1242:2050 1:N:0:AGGCAGAA</td></tr><tr><td><a href=\"https://www.encodedcc.org/files/ENCFF327YJQ/\">ENCFF327YJQ.fastq.gz</a></td><td>HAM6KADXX</td><td>2</td><td>TCCTGAGC-AGAGTAGA</td><td>15010</td><td>@HISEQ:267:HAM6KADXX:2:1101:1182:2027 1:N:0:TCCTGAGC</td></tr><tr><td><a href=\"https://www.encodedcc.org/files/ENCFF348BYM/\">ENCFF348BYM.fastq.gz</a></td><td>HAM6KADXX</td><td>1</td><td>TCCTGAGC-AGAGTAGA</td><td>15010</td><td>@HISEQ:267:HAM6KADXX:1:1101:1160:2045 1:N:0:TCCTGAGC</td></tr><tr><td><a href=\"https://www.encodedcc.org/files/ENCFF672PAZ/\">ENCFF672PAZ.fastq.gz</a></td><td>HAM6KADXX</td><td>2</td><td>GGACTCCT-GTAAGGAG</td><td>15011</td><td>@HISEQ:267:HAM6KADXX:2:1101:1180:2065 1:N:0:GGACTCCT</td></tr><tr><td><a href=\"https://www.encodedcc.org/files/ENCFF172XPK/\">ENCFF172XPK.fastq.gz</a></td><td>HAM6KADXX</td><td>1</td><td>GGACTCCT-GTAAGGAG</td><td>15011</td><td>@HISEQ:267:HAM6KADXX:1:1101:1147:2036 1:N:0:GGACTCCT</td></tr><tr><td><a href=\"https://www.encodedcc.org/files/ENCFF094ZGK/\">ENCFF094ZGK.fastq.gz</a></td><td>HAM6KADXX</td><td>1</td><td>TAGGCATG-ACTGCATA</td><td>15012</td><td>@HISEQ:267:HAM6KADXX:1:1101:1103:2078 1:N:0:TAGGCATG</td></tr><tr><td><a href=\"https://www.encodedcc.org/files/ENCFF372TIL/\">ENCFF372TIL.fastq.gz</a></td><td>HAM6KADXX</td><td>2</td><td>TAGGCATG-ACTGCATA</td><td>15012</td><td>@HISEQ:267:HAM6KADXX:2:1101:1190:2051 1:N:0:TAGGCATG</td></tr><tr><td><a href=\"https://www.encodedcc.org/files/ENCFF709FPA/\">ENCFF709FPA.fastq.gz</a></td><td>HANW6ADXX</td><td>1</td><td>CTCTCTAC-AAGGAGTA</td><td>15013</td><td>@HISEQ:274:HANW6ADXX:1:1101:1091:2013 1:N:0:CTCTCTAC</td></tr><tr><td><a href=\"https://www.encodedcc.org/files/ENCFF427WPK/\">ENCFF427WPK.fastq.gz</a></td><td>HANW6ADXX</td><td>2</td><td>CTCTCTAC-AAGGAGTA</td><td>15013</td><td>@HISEQ:274:HANW6ADXX:2:1101:1167:1997 1:N:0:CTCTCTAC</td></tr><tr><td><a href=\"https://www.encodedcc.org/files/ENCFF714ZDW/\">ENCFF714ZDW.fastq.gz</a></td><td>HANW6ADXX</td><td>2</td><td>CAGAGAGG-CTAAGCCT</td><td>15014</td><td>@HISEQ:274:HANW6ADXX:2:1101:2080:1990 1:N:0:CAGAGAGG</td></tr><tr><td><a href=\"https://www.encodedcc.org/files/ENCFF917VEZ/\">ENCFF917VEZ.fastq.gz</a></td><td>HANW6ADXX</td><td>1</td><td>CAGAGAGG-CTAAGCCT</td><td>15014</td><td>@HISEQ:274:HANW6ADXX:1:1101:1110:2029 1:N:0:CAGAGAGG</td></tr><tr><td><a href=\"https://www.encodedcc.org/files/ENCFF236BUE/\">ENCFF236BUE.fastq.gz</a></td><td>HANW6ADXX</td><td>2</td><td>GCTACGCT-GCGTAAGA</td><td>15015</td><td>@HISEQ:274:HANW6ADXX:2:1101:1142:1991 1:N:0:GCTACGCT</td></tr><tr><td><a href=\"https://www.encodedcc.org/files/ENCFF070OPW/\">ENCFF070OPW.fastq.gz</a></td><td>HANW6ADXX</td><td>1</td><td>GCTACGCT-GCGTAAGA</td><td>15015</td><td>@HISEQ:274:HANW6ADXX:1:1101:1103:2101 1:N:0:GCTACGCT</td></tr><tr><td><a href=\"https://www.encodedcc.org/files/ENCFF477PIC/\">ENCFF477PIC.fastq.gz</a></td><td>HANW6ADXX</td><td>2</td><td>CGAGGCTG-CTCTCTAT</td><td>15016</td><td>@HISEQ:274:HANW6ADXX:2:1101:1083:1993 1:N:0:CGAGGCTG</td></tr><tr><td><a href=\"https://www.encodedcc.org/files/ENCFF360NRX/\">ENCFF360NRX.fastq.gz</a></td><td>HANW6ADXX</td><td>1</td><td>CGAGGCTG-CTCTCTAT</td><td>15016</td><td>@HISEQ:274:HANW6ADXX:1:1101:1248:2104 1:N:0:CGAGGCTG</td></tr><tr><td><a href=\"https://www.encodedcc.org/files/ENCFF956HCY/\">ENCFF956HCY.fastq.gz</a></td><td>HANW6ADXX</td><td>1</td><td>AAGAGGCA-TATCCTCT</td><td>15017</td><td>@HISEQ:274:HANW6ADXX:1:1101:1181:2021 1:N:0:AAGAGGCA</td></tr><tr><td><a href=\"https://www.encodedcc.org/files/ENCFF635VBU/\">ENCFF635VBU.fastq.gz</a></td><td>HANW6ADXX</td><td>2</td><td>AAGAGGCA-TATCCTCT</td><td>15017</td><td>@HISEQ:274:HANW6ADXX:2:1101:1528:1999 1:N:0:AAGAGGCA</td></tr><tr><td><a href=\"https://www.encodedcc.org/files/ENCFF810MMJ/\">ENCFF810MMJ.fastq.gz</a></td><td>HANW6ADXX</td><td>1</td><td>GTAGAGGA-AGAGTAGA</td><td>15018</td><td>@HISEQ:274:HANW6ADXX:1:1101:1087:2059 1:N:0:GTAGAGGA</td></tr><tr><td><a href=\"https://www.encodedcc.org/files/ENCFF677ULG/\">ENCFF677ULG.fastq.gz</a></td><td>HANW6ADXX</td><td>2</td><td>GTAGAGGA-AGAGTAGA</td><td>15018</td><td>@HISEQ:274:HANW6ADXX:2:1101:1641:1995 1:Y:0:GTAAAGGA</td></tr><tr><td><a href=\"https://www.encodedcc.org/files/ENCFF820NAK/\">ENCFF820NAK.fastq.gz</a></td><td>HANWAADXX</td><td>2</td><td>TAAGGCGA-GTAAGGAG</td><td>15019</td><td>@HISEQ:278:HANWAADXX:2:1101:1210:2120 1:N:0:TAAGGCGAGTAAGGAG</td></tr><tr><td><a href=\"https://www.encodedcc.org/files/ENCFF237DCF/\">ENCFF237DCF.fastq.gz</a></td><td>HANWAADXX</td><td>1</td><td>TAAGGCGA-GTAAGGAG</td><td>15019</td><td>@HISEQ:278:HANWAADXX:1:1101:1189:2122 1:N:0:TAAGGCGAGTAAGGAG</td></tr><tr><td><a href=\"https://www.encodedcc.org/files/ENCFF654OBR/\">ENCFF654OBR.fastq.gz</a></td><td>HANWAADXX</td><td>2</td><td>CGTACTAG-ACTGCATA</td><td>15020</td><td>@HISEQ:278:HANWAADXX:2:1101:1245:2126 1:N:0:CGTACTAGACTGCATA</td></tr><tr><td><a href=\"https://www.encodedcc.org/files/ENCFF249AZE/\">ENCFF249AZE.fastq.gz</a></td><td>HANWAADXX</td><td>1</td><td>CGTACTAG-ACTGCATA</td><td>15020</td><td>@HISEQ:278:HANWAADXX:1:1101:1200:2097 1:N:0:CGTACTAGACTGCATA</td></tr><tr><td><a href=\"https://www.encodedcc.org/files/ENCFF528JFG/\">ENCFF528JFG.fastq.gz</a></td><td>HANW6ADXX</td><td>2</td><td>AGGCAGAA-AAGGAGTA</td><td>15021</td><td>@HISEQ:274:HANW6ADXX:2:1101:1592:1999 1:N:0:AGGCAGAA</td></tr><tr><td><a href=\"https://www.encodedcc.org/files/ENCFF198HBZ/\">ENCFF198HBZ.fastq.gz</a></td><td>HANW6ADXX</td><td>1</td><td>AGGCAGAA-AAGGAGTA</td><td>15021</td><td>@HISEQ:274:HANW6ADXX:1:1101:1064:2091 1:N:0:AGGCAGAA</td></tr><tr><td><a href=\"https://www.encodedcc.org/files/ENCFF834WRE/\">ENCFF834WRE.fastq.gz</a></td><td>HANW6ADXX</td><td>1</td><td>TCCTGAGC-CTAAGCCT</td><td>15022</td><td>@HISEQ:274:HANW6ADXX:1:1101:1136:2031 1:N:0:TCCTGAGC</td></tr><tr><td><a href=\"https://www.encodedcc.org/files/ENCFF758NAG/\">ENCFF758NAG.fastq.gz</a></td><td>HANW6ADXX</td><td>2</td><td>TCCTGAGC-CTAAGCCT</td><td>15022</td><td>@HISEQ:274:HANW6ADXX:2:1101:2268:1996 1:N:0:TCCTGAGC</td></tr></tbody></table>"
       ],
       "metadata": {},
       "output_type": "pyout",
       "prompt_number": 91,
       "text": [
        "<IPython.core.display.HTML at 0x7f57237ba6d0>"
       ]
      }
     ],
     "prompt_number": 91
    },
    {
     "cell_type": "code",
     "collapsed": false,
     "input": [],
     "language": "python",
     "metadata": {},
     "outputs": [],
     "prompt_number": 67
    },
    {
     "cell_type": "code",
     "collapsed": false,
     "input": [],
     "language": "python",
     "metadata": {},
     "outputs": []
    }
   ],
   "metadata": {}
  }
 ]
}