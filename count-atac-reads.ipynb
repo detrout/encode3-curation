{
 "cells": [
  {
   "cell_type": "markdown",
   "metadata": {},
   "source": [
    "# Introduction\n",
    "\n",
    "How many reads are there in the ATAC libraries? Currently there is only raw data present."
   ]
  },
  {
   "cell_type": "code",
   "execution_count": 1,
   "metadata": {
    "collapsed": true
   },
   "outputs": [],
   "source": [
    "import pandas\n",
    "import numpy\n",
    "import requests\n",
    "import gzip\n",
    "import IPython"
   ]
  },
  {
   "cell_type": "code",
   "execution_count": 2,
   "metadata": {
    "collapsed": true
   },
   "outputs": [],
   "source": [
    "from curation_common import *"
   ]
  },
  {
   "cell_type": "code",
   "execution_count": 3,
   "metadata": {
    "collapsed": true
   },
   "outputs": [],
   "source": [
    "server = ENCODED('www.encodeproject.org')\n",
    "server.load_netrc()"
   ]
  },
  {
   "cell_type": "code",
   "execution_count": 4,
   "metadata": {
    "collapsed": true
   },
   "outputs": [],
   "source": [
    "query = server.get_json('/search/?type=Experiment&assay_term_name=ATAC-seq')"
   ]
  },
  {
   "cell_type": "code",
   "execution_count": 5,
   "metadata": {
    "collapsed": false
   },
   "outputs": [],
   "source": [
    "def get_replicate_tuple(replicate):\n",
    "    bio = replicate['biological_replicate_number']\n",
    "    tech = replicate['technical_replicate_number']\n",
    "    return (bio, tech)\n",
    "\n",
    "def find_fastqs(files):\n",
    "    best_reps = {}\n",
    "    for file in files:\n",
    "        if file['file_format'] == 'fastq':\n",
    "            replicate = file['replicate']\n",
    "            rep_id = get_replicate_tuple(replicate)\n",
    "            library = replicate['library']\n",
    "            library_id = library['accession']\n",
    "\n",
    "            yield (library_id, file['href'])"
   ]
  },
  {
   "cell_type": "code",
   "execution_count": 6,
   "metadata": {
    "collapsed": false
   },
   "outputs": [
    {
     "name": "stdout",
     "output_type": "stream",
     "text": [
      "/experiments/ENCSR064IHX/ /labs/ross-hardison/ ENCLB398NWK /files/ENCFF463PIR/@@download/ENCFF463PIR.fastq.gz\n",
      "/experiments/ENCSR064IHX/ /labs/ross-hardison/ ENCLB094NVU /files/ENCFF360YBL/@@download/ENCFF360YBL.fastq.gz\n",
      "/experiments/ENCSR136XSY/ /labs/ross-hardison/ ENCLB430KLB /files/ENCFF194NYS/@@download/ENCFF194NYS.fastq.gz\n",
      "/experiments/ENCSR136XSY/ /labs/ross-hardison/ ENCLB367TWL /files/ENCFF765DWT/@@download/ENCFF765DWT.fastq.gz\n",
      "/experiments/ENCSR229QKB/ /labs/ross-hardison/ ENCLB577TBZ /files/ENCFF199CEQ/@@download/ENCFF199CEQ.fastq.gz\n",
      "/experiments/ENCSR229QKB/ /labs/ross-hardison/ ENCLB667KAT /files/ENCFF343AEN/@@download/ENCFF343AEN.fastq.gz\n",
      "/experiments/ENCSR793RAV/ /labs/ross-hardison/ ENCLB986ZTD /files/ENCFF535AXY/@@download/ENCFF535AXY.fastq.gz\n",
      "/experiments/ENCSR793RAV/ /labs/ross-hardison/ ENCLB228WLV /files/ENCFF637MAT/@@download/ENCFF637MAT.fastq.gz\n",
      "/experiments/ENCSR453AWR/ /labs/ross-hardison/ ENCLB148VRF /files/ENCFF217JOA/@@download/ENCFF217JOA.fastq.gz\n",
      "/experiments/ENCSR453AWR/ /labs/ross-hardison/ ENCLB478MDQ /files/ENCFF621CAV/@@download/ENCFF621CAV.fastq.gz\n",
      "/experiments/ENCSR498DQA/ /labs/ross-hardison/ ENCLB307DIB /files/ENCFF788TPW/@@download/ENCFF788TPW.fastq.gz\n",
      "/experiments/ENCSR498DQA/ /labs/ross-hardison/ ENCLB313GIY /files/ENCFF943WTV/@@download/ENCFF943WTV.fastq.gz\n",
      "/experiments/ENCSR280ZDP/ /labs/ross-hardison/ ENCLB427FAG /files/ENCFF440YYI/@@download/ENCFF440YYI.fastq.gz\n",
      "/experiments/ENCSR280ZDP/ /labs/ross-hardison/ ENCLB898MFQ /files/ENCFF698NQU/@@download/ENCFF698NQU.fastq.gz\n",
      "/experiments/ENCSR428BSK/ /labs/ross-hardison/ ENCLB059TNV /files/ENCFF583HWE/@@download/ENCFF583HWE.fastq.gz\n",
      "/experiments/ENCSR428BSK/ /labs/ross-hardison/ ENCLB025IJK /files/ENCFF455RDD/@@download/ENCFF455RDD.fastq.gz\n",
      "/experiments/ENCSR257PGU/ /labs/ross-hardison/ ENCLB343DOZ /files/ENCFF133CWQ/@@download/ENCFF133CWQ.fastq.gz\n",
      "/experiments/ENCSR257PGU/ /labs/ross-hardison/ ENCLB903ZWV /files/ENCFF248WQE/@@download/ENCFF248WQE.fastq.gz\n",
      "/experiments/ENCSR914PYX/ /labs/ross-hardison/ ENCLB897KAA /files/ENCFF757AOM/@@download/ENCFF757AOM.fastq.gz\n",
      "/experiments/ENCSR914PYX/ /labs/ross-hardison/ ENCLB182ZZO /files/ENCFF692NRE/@@download/ENCFF692NRE.fastq.gz\n",
      "/experiments/ENCSR889WQX/ /labs/barbara-wold/ ENCLB601PHH /files/ENCFF325FCQ/@@download/ENCFF325FCQ.fastq.gz\n",
      "/experiments/ENCSR889WQX/ /labs/barbara-wold/ ENCLB601PHH /files/ENCFF439VSY/@@download/ENCFF439VSY.fastq.gz\n",
      "/experiments/ENCSR889WQX/ /labs/barbara-wold/ ENCLB601PHH /files/ENCFF683IQS/@@download/ENCFF683IQS.fastq.gz\n",
      "/experiments/ENCSR889WQX/ /labs/barbara-wold/ ENCLB601PHH /files/ENCFF744CHW/@@download/ENCFF744CHW.fastq.gz\n",
      "/experiments/ENCSR889WQX/ /labs/barbara-wold/ ENCLB538BIG /files/ENCFF992TSA/@@download/ENCFF992TSA.fastq.gz\n",
      "/experiments/ENCSR889WQX/ /labs/barbara-wold/ ENCLB538BIG /files/ENCFF463QCX/@@download/ENCFF463QCX.fastq.gz\n",
      "/experiments/ENCSR729FNL/ /labs/barbara-wold/ ENCLB073DLE /files/ENCFF903DYC/@@download/ENCFF903DYC.fastq.gz\n",
      "/experiments/ENCSR729FNL/ /labs/barbara-wold/ ENCLB073DLE /files/ENCFF330CLR/@@download/ENCFF330CLR.fastq.gz\n",
      "/experiments/ENCSR554JQP/ /labs/barbara-wold/ ENCLB488NUD /files/ENCFF187TFB/@@download/ENCFF187TFB.fastq.gz\n",
      "/experiments/ENCSR554JQP/ /labs/barbara-wold/ ENCLB488NUD /files/ENCFF117BTA/@@download/ENCFF117BTA.fastq.gz\n",
      "/experiments/ENCSR554JQP/ /labs/barbara-wold/ ENCLB371AUY /files/ENCFF856AGF/@@download/ENCFF856AGF.fastq.gz\n",
      "/experiments/ENCSR554JQP/ /labs/barbara-wold/ ENCLB488NUD /files/ENCFF606DRR/@@download/ENCFF606DRR.fastq.gz\n",
      "/experiments/ENCSR554JQP/ /labs/barbara-wold/ ENCLB488NUD /files/ENCFF300LZD/@@download/ENCFF300LZD.fastq.gz\n",
      "/experiments/ENCSR554JQP/ /labs/barbara-wold/ ENCLB371AUY /files/ENCFF896HKX/@@download/ENCFF896HKX.fastq.gz\n",
      "/experiments/ENCSR802GEV/ /labs/barbara-wold/ ENCLB028LZH /files/ENCFF520LZN/@@download/ENCFF520LZN.fastq.gz\n",
      "/experiments/ENCSR802GEV/ /labs/barbara-wold/ ENCLB028LZH /files/ENCFF232DPD/@@download/ENCFF232DPD.fastq.gz\n",
      "/experiments/ENCSR802GEV/ /labs/barbara-wold/ ENCLB028LZH /files/ENCFF589ZNO/@@download/ENCFF589ZNO.fastq.gz\n",
      "/experiments/ENCSR802GEV/ /labs/barbara-wold/ ENCLB028LZH /files/ENCFF949EKP/@@download/ENCFF949EKP.fastq.gz\n"
     ]
    }
   ],
   "source": [
    "for row in query['@graph']:\n",
    "    experiment_id = row['@id']\n",
    "    experiment = server.get_json(experiment_id)\n",
    "    for library_id, href in find_fastqs(experiment['files']):\n",
    "        print(experiment_id, experiment['lab']['@id'], library_id, href)\n",
    "    "
   ]
  },
  {
   "cell_type": "code",
   "execution_count": 7,
   "metadata": {
    "collapsed": false
   },
   "outputs": [
    {
     "data": {
      "text/plain": [
       "['/files/ENCFF520LZN/@@download/ENCFF520LZN.fastq.gz',\n",
       " '/files/ENCFF232DPD/@@download/ENCFF232DPD.fastq.gz',\n",
       " '/files/ENCFF589ZNO/@@download/ENCFF589ZNO.fastq.gz',\n",
       " '/files/ENCFF949EKP/@@download/ENCFF949EKP.fastq.gz']"
      ]
     },
     "execution_count": 7,
     "metadata": {},
     "output_type": "execute_result"
    }
   ],
   "source": [
    "[ x['href'] for x in experiment['files']]"
   ]
  },
  {
   "cell_type": "code",
   "execution_count": 8,
   "metadata": {
    "collapsed": false
   },
   "outputs": [
    {
     "data": {
      "text/plain": [
       "1"
      ]
     },
     "execution_count": 8,
     "metadata": {},
     "output_type": "execute_result"
    }
   ],
   "source": [
    "experiment['files'][0]['replicate']['biological_replicate_number']"
   ]
  },
  {
   "cell_type": "code",
   "execution_count": 13,
   "metadata": {
    "collapsed": true
   },
   "outputs": [],
   "source": [
    "class RequestFastq:\n",
    "    def __init__(self, href):\n",
    "        self.href= href\n",
    "        self.request = requests.get(href, stream=True, allow_redirects=True)\n",
    "        \n",
    "    def read(self, chunk):\n",
    "        return self.request.raw.read(chunk)\n",
    "    \n",
    "    def close(self):\n",
    "        self.request.close()\n",
    "        \n",
    "def count_fastq_reads(href):\n",
    "    req = RequestFastq(href)\n",
    "    \n",
    "    stream = gzip.GzipFile(fileobj=req, mode='r')\n",
    "    for i, line in enumerate(stream):\n",
    "        pass\n",
    "    \n",
    "    return (i+1) / 4"
   ]
  },
  {
   "cell_type": "code",
   "execution_count": 14,
   "metadata": {
    "collapsed": false
   },
   "outputs": [
    {
     "data": {
      "text/plain": [
       "1185211.0"
      ]
     },
     "execution_count": 14,
     "metadata": {},
     "output_type": "execute_result"
    }
   ],
   "source": [
    "count_fastq_reads('https://www.encodeproject.org/files/ENCFF002EXS/@@download/ENCFF002EXS.fastq.gz')"
   ]
  },
  {
   "cell_type": "code",
   "execution_count": null,
   "metadata": {
    "collapsed": true
   },
   "outputs": [],
   "source": []
  }
 ],
 "metadata": {
  "kernelspec": {
   "display_name": "Python 3",
   "language": "python",
   "name": "python3"
  },
  "language_info": {
   "codemirror_mode": {
    "name": "ipython",
    "version": 3
   },
   "file_extension": ".py",
   "mimetype": "text/x-python",
   "name": "python",
   "nbconvert_exporter": "python",
   "pygments_lexer": "ipython3",
   "version": "3.4.4rc1"
  }
 },
 "nbformat": 4,
 "nbformat_minor": 0
}
