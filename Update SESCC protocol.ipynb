{
 "metadata": {
  "name": "",
  "signature": "sha256:edd0d39dd573e9a72539d1e65d79f49a43aab52db1bea0984fe3c8d77876944f"
 },
 "nbformat": 3,
 "nbformat_minor": 0,
 "worksheets": [
  {
   "cells": [
    {
     "cell_type": "markdown",
     "metadata": {},
     "source": [
      "Update SESCC document."
     ]
    },
    {
     "cell_type": "markdown",
     "metadata": {},
     "source": [
      "I need to post a document the schema can be found at https://www.encodedcc.org/profiles/document.json\n",
      "once I have uuids for the document I can update the samples that match type=biosample and source.title=SESCC"
     ]
    },
    {
     "cell_type": "code",
     "collapsed": false,
     "input": [
      "from __future__ import print_function"
     ],
     "language": "python",
     "metadata": {},
     "outputs": [],
     "prompt_number": 1
    },
    {
     "cell_type": "code",
     "collapsed": false,
     "input": [
      "import base64\n",
      "import os\n",
      "import sys\n",
      "import RDF\n",
      "import hashlib\n",
      "\n",
      "import requests"
     ],
     "language": "python",
     "metadata": {},
     "outputs": [],
     "prompt_number": 2
    },
    {
     "cell_type": "code",
     "collapsed": false,
     "input": [
      "%load_ext rdfmagic"
     ],
     "language": "python",
     "metadata": {},
     "outputs": [],
     "prompt_number": 3
    },
    {
     "cell_type": "code",
     "collapsed": false,
     "input": [
      "def load_custom():\n",
      "    paths = ['/home/diane/proj/solexa/htsworkflow']\n",
      "    for path in paths:\n",
      "        if path not in sys.path:\n",
      "            sys.path.append(path)\n",
      "load_custom()"
     ],
     "language": "python",
     "metadata": {},
     "outputs": [],
     "prompt_number": 4
    },
    {
     "cell_type": "code",
     "collapsed": false,
     "input": [
      "from htsworkflow.util.rdfhelp import get_model, dump_model, load_into_model\n",
      "from htsworkflow.util.rdfjsonld import load_into_model as load_jsonld_into_model\n",
      "from htsworkflow.submission import encoded"
     ],
     "language": "python",
     "metadata": {},
     "outputs": [],
     "prompt_number": 5
    },
    {
     "cell_type": "code",
     "collapsed": false,
     "input": [
      "server = encoded.ENCODED('www.encodedcc.org')\n",
      "server.load_netrc()"
     ],
     "language": "python",
     "metadata": {},
     "outputs": [],
     "prompt_number": 6
    },
    {
     "cell_type": "code",
     "collapsed": false,
     "input": [
      "%addns htsw http://jumpgate.caltech.edu/wiki/LibraryOntology#\n",
      "%addns library http://jumpgate.caltech.edu/library/\n",
      "%addns flowcell http://jumpgate.caltech.edu/flowcell/\n",
      "    \n",
      "%addns biosample https://www.encodedcc.org/profiles/biosample.json#\n",
      "%addns experiment https://www.encodedcc.org/profiles/experiment.json#\n",
      "%addns library https://www.encodedcc.org/profiles/library.json#\n",
      "%addns platform https://www.encodedcc.org/profiles/platform.json#\n",
      "%addns replicate https://www.encodedcc.org/profiles/replicate.json#    \n",
      "\n",
      "%addns experiments https://www.encodedcc.org/experiments/"
     ],
     "language": "python",
     "metadata": {},
     "outputs": [],
     "prompt_number": 7
    },
    {
     "cell_type": "code",
     "collapsed": false,
     "input": [
      "sescc = server.get_json('https://www.encodedcc.org/search/?type=biosample&source.title=SESCC')\n",
      "_ = server.convert_search_to_jsonld(sescc)"
     ],
     "language": "python",
     "metadata": {},
     "outputs": [],
     "prompt_number": 8
    },
    {
     "cell_type": "code",
     "collapsed": false,
     "input": [
      "model = get_model()"
     ],
     "language": "python",
     "metadata": {},
     "outputs": [],
     "prompt_number": 9
    },
    {
     "cell_type": "code",
     "collapsed": false,
     "input": [
      "load_jsonld_into_model(model, sescc)"
     ],
     "language": "python",
     "metadata": {},
     "outputs": [],
     "prompt_number": 10
    },
    {
     "cell_type": "code",
     "collapsed": false,
     "input": [
      "%%sparql -m model -o accessions\n",
      "select ?accession\n",
      "where {\n",
      "  ?accession a biosample:biosample .\n",
      "}"
     ],
     "language": "python",
     "metadata": {},
     "outputs": [],
     "prompt_number": 11
    },
    {
     "cell_type": "code",
     "collapsed": false,
     "input": [
      "for row in accessions:\n",
      "    accession = str(row['accession'])\n",
      "    load_jsonld_into_model(model, server.get_jsonld(accession))"
     ],
     "language": "python",
     "metadata": {},
     "outputs": [],
     "prompt_number": 12
    },
    {
     "cell_type": "code",
     "collapsed": false,
     "input": [
      "with open('/tmp/sescc.turtle','w') as stream:\n",
      "    dump_model(model, stream)"
     ],
     "language": "python",
     "metadata": {},
     "outputs": [],
     "prompt_number": 13
    },
    {
     "cell_type": "code",
     "collapsed": false,
     "input": [
      "%%sparql -m model\n",
      "select distinct ?s\n",
      "where {\n",
      "  ?s a biosample:biosample ;\n",
      "}"
     ],
     "language": "python",
     "metadata": {},
     "outputs": [
      {
       "html": [
        "<table><tr><td>s</td></tr><tr><td><a href=\"https://www.encodedcc.org/biosamples/ENCBS018TPT/\">https://www.encodedcc.org/biosamples/ENCBS018TPT/</a></td></tr><tr><td><a href=\"https://www.encodedcc.org/biosamples/ENCBS044KWE/\">https://www.encodedcc.org/biosamples/ENCBS044KWE/</a></td></tr><tr><td><a href=\"https://www.encodedcc.org/biosamples/ENCBS077RUJ/\">https://www.encodedcc.org/biosamples/ENCBS077RUJ/</a></td></tr><tr><td><a href=\"https://www.encodedcc.org/biosamples/ENCBS520VFV/\">https://www.encodedcc.org/biosamples/ENCBS520VFV/</a></td></tr><tr><td><a href=\"https://www.encodedcc.org/biosamples/ENCBS780PCJ/\">https://www.encodedcc.org/biosamples/ENCBS780PCJ/</a></td></tr><tr><td><a href=\"https://www.encodedcc.org/biosamples/ENCBS899TTJ/\">https://www.encodedcc.org/biosamples/ENCBS899TTJ/</a></td></tr><tr><td><a href=\"https://www.encodedcc.org/biosamples/ENCBS641REJ/\">https://www.encodedcc.org/biosamples/ENCBS641REJ/</a></td></tr></table>"
       ],
       "metadata": {},
       "output_type": "pyout",
       "prompt_number": 14,
       "text": [
        "<rdfmagic.LibRdfResults at 0x7f06e06c2790>"
       ]
      }
     ],
     "prompt_number": 14
    },
    {
     "cell_type": "code",
     "collapsed": false,
     "input": [
      "%%sparql -m model\n",
      "select ?p ?o\n",
      "where {\n",
      "  <https://www.encodedcc.org/biosamples/ENCBS899TTJ/> ?p ?o .\n",
      "}\n",
      "orderby ?p"
     ],
     "language": "python",
     "metadata": {},
     "outputs": [
      {
       "html": [
        "<table><tr><td>p</td><td>o</td></tr><tr><td><a href=\"http://www.w3.org/1999/02/22-rdf-syntax-ns#description\">rdf:description</a></td><td>Frozen or fixed, in vitro differentiated smooth muscle cells from ES WA09 (H9) by the SESCC for use by the ENCODE consortia</td></tr><tr><td><a href=\"http://www.w3.org/1999/02/22-rdf-syntax-ns#type\">rdf:type</a></td><td><a href=\"https://www.encodedcc.org/profiles/biosample.json#biosample\">biosample:biosample</a></td></tr><tr><td><a href=\"http://www.w3.org/1999/02/22-rdf-syntax-ns#type\">rdf:type</a></td><td><a href=\"https://www.encodedcc.org/profiles/biosample.json#item\">biosample:item</a></td></tr><tr><td><a href=\"https://www.encodedcc.org/profiles/biosample.json#accession\">biosample:accession</a></td><td>ENCBS899TTJ</td></tr><tr><td><a href=\"https://www.encodedcc.org/profiles/biosample.json#age\">biosample:age</a></td><td>5</td></tr><tr><td><a href=\"https://www.encodedcc.org/profiles/biosample.json#age_units\">biosample:age_units</a></td><td>day</td></tr><tr><td><a href=\"https://www.encodedcc.org/profiles/biosample.json#award\">biosample:award</a></td><td><a href=\"https://www.encodedcc.org/awards/U54HG007004/\">https://www.encodedcc.org/awards/U54HG007004/</a></td></tr><tr><td><a href=\"https://www.encodedcc.org/profiles/biosample.json#biosample_term_id\">biosample:biosample_term_id</a></td><td><a href=\"CL:0000192\">CL:0000192</a></td></tr><tr><td><a href=\"https://www.encodedcc.org/profiles/biosample.json#biosample_term_name\">biosample:biosample_term_name</a></td><td>smooth muscle cell</td></tr><tr><td><a href=\"https://www.encodedcc.org/profiles/biosample.json#biosample_type\">biosample:biosample_type</a></td><td>in vitro differentiated cells</td></tr><tr><td><a href=\"https://www.encodedcc.org/profiles/biosample.json#date_created\">biosample:date_created</a></td><td>2014-05-12T23:56:16.528388+00:00</td></tr><tr><td><a href=\"https://www.encodedcc.org/profiles/biosample.json#derived_from\">biosample:derived_from</a></td><td><a href=\"https://www.encodedcc.org/biosamples/ENCBS641REJ/\">https://www.encodedcc.org/biosamples/ENCBS641REJ/</a></td></tr><tr><td><a href=\"https://www.encodedcc.org/profiles/biosample.json#developmental_slims\">biosample:developmental_slims</a></td><td>mesoderm</td></tr><tr><td><a href=\"https://www.encodedcc.org/profiles/biosample.json#donor\">biosample:donor</a></td><td><a href=\"https://www.encodedcc.org/human-donors/ENCDO222AAA/\">https://www.encodedcc.org/human-donors/ENCDO222AAA/</a></td></tr><tr><td><a href=\"https://www.encodedcc.org/profiles/biosample.json#lab\">biosample:lab</a></td><td><a href=\"https://www.encodedcc.org/labs/richard-myers/\">https://www.encodedcc.org/labs/richard-myers/</a></td></tr><tr><td><a href=\"https://www.encodedcc.org/profiles/biosample.json#life_stage\">biosample:life_stage</a></td><td>embryonic</td></tr><tr><td><a href=\"https://www.encodedcc.org/profiles/biosample.json#organism\">biosample:organism</a></td><td><a href=\"https://www.encodedcc.org/organisms/human/\">https://www.encodedcc.org/organisms/human/</a></td></tr><tr><td><a href=\"https://www.encodedcc.org/profiles/biosample.json#schema_version\">biosample:schema_version</a></td><td>6</td></tr><tr><td><a href=\"https://www.encodedcc.org/profiles/biosample.json#source\">biosample:source</a></td><td><a href=\"https://www.encodedcc.org/sources/sescc/\">https://www.encodedcc.org/sources/sescc/</a></td></tr><tr><td><a href=\"https://www.encodedcc.org/profiles/biosample.json#status\">biosample:status</a></td><td>proposed</td></tr><tr><td><a href=\"https://www.encodedcc.org/profiles/biosample.json#submitted_by\">biosample:submitted_by</a></td><td><a href=\"https://www.encodedcc.org/users/26e33f32-5dd7-4219-bff1-850c95607127/\">https://www.encodedcc.org/users/26e33f32-5dd7-4219-bff1-850c95607127/</a></td></tr><tr><td><a href=\"https://www.encodedcc.org/profiles/biosample.json#synonyms\">biosample:synonyms</a></td><td>myocytes, smooth muscle</td></tr><tr><td><a href=\"https://www.encodedcc.org/profiles/biosample.json#synonyms\">biosample:synonyms</a></td><td>non-striated muscle cell</td></tr><tr><td><a href=\"https://www.encodedcc.org/profiles/biosample.json#synonyms\">biosample:synonyms</a></td><td>SMCs</td></tr><tr><td><a href=\"https://www.encodedcc.org/profiles/biosample.json#synonyms\">biosample:synonyms</a></td><td>smooth muscle fiber</td></tr><tr><td><a href=\"https://www.encodedcc.org/profiles/biosample.json#uuid\">biosample:uuid</a></td><td>a7ed0992-b902-4fa0-b4ca-d1f69b7642f4</td></tr></table>"
       ],
       "metadata": {},
       "output_type": "pyout",
       "prompt_number": 15,
       "text": [
        "<rdfmagic.LibRdfResults at 0x7f06ba53bad0>"
       ]
      }
     ],
     "prompt_number": 15
    },
    {
     "cell_type": "code",
     "collapsed": false,
     "input": [
      "%%sparql -m model \n",
      "select ?accession ?source\n",
      "where {\n",
      "  ?accession a biosample:biosample ;\n",
      "             biosample:source ?source .\n",
      "}"
     ],
     "language": "python",
     "metadata": {},
     "outputs": [
      {
       "html": [
        "<table><tr><td>accession</td><td>source</td></tr><tr><td><a href=\"https://www.encodedcc.org/biosamples/ENCBS018TPT/\">https://www.encodedcc.org/biosamples/ENCBS018TPT/</a></td><td><a href=\"https://www.encodedcc.org/sources/sescc/\">https://www.encodedcc.org/sources/sescc/</a></td></tr><tr><td><a href=\"https://www.encodedcc.org/biosamples/ENCBS044KWE/\">https://www.encodedcc.org/biosamples/ENCBS044KWE/</a></td><td><a href=\"https://www.encodedcc.org/sources/sescc/\">https://www.encodedcc.org/sources/sescc/</a></td></tr><tr><td><a href=\"https://www.encodedcc.org/biosamples/ENCBS077RUJ/\">https://www.encodedcc.org/biosamples/ENCBS077RUJ/</a></td><td><a href=\"https://www.encodedcc.org/sources/sescc/\">https://www.encodedcc.org/sources/sescc/</a></td></tr><tr><td><a href=\"https://www.encodedcc.org/biosamples/ENCBS520VFV/\">https://www.encodedcc.org/biosamples/ENCBS520VFV/</a></td><td><a href=\"https://www.encodedcc.org/sources/sescc/\">https://www.encodedcc.org/sources/sescc/</a></td></tr><tr><td><a href=\"https://www.encodedcc.org/biosamples/ENCBS780PCJ/\">https://www.encodedcc.org/biosamples/ENCBS780PCJ/</a></td><td><a href=\"https://www.encodedcc.org/sources/sescc/\">https://www.encodedcc.org/sources/sescc/</a></td></tr><tr><td><a href=\"https://www.encodedcc.org/biosamples/ENCBS899TTJ/\">https://www.encodedcc.org/biosamples/ENCBS899TTJ/</a></td><td><a href=\"https://www.encodedcc.org/sources/sescc/\">https://www.encodedcc.org/sources/sescc/</a></td></tr><tr><td><a href=\"https://www.encodedcc.org/biosamples/ENCBS641REJ/\">https://www.encodedcc.org/biosamples/ENCBS641REJ/</a></td><td>/sources/wicell/</td></tr></table>"
       ],
       "metadata": {},
       "output_type": "pyout",
       "prompt_number": 16,
       "text": [
        "<rdfmagic.LibRdfResults at 0x7f06ba53bb10>"
       ]
      }
     ],
     "prompt_number": 16
    },
    {
     "cell_type": "code",
     "collapsed": false,
     "input": [
      "%%sparql -m model -o accession_ids\n",
      "select ?accession \n",
      "where {\n",
      "  ?accession a biosample:biosample;\n",
      "             biosample:source <https://www.encodedcc.org/sources/sescc/> .\n",
      "}"
     ],
     "language": "python",
     "metadata": {},
     "outputs": [],
     "prompt_number": 17
    },
    {
     "cell_type": "code",
     "collapsed": false,
     "input": [
      "accession_ids"
     ],
     "language": "python",
     "metadata": {},
     "outputs": [
      {
       "html": [
        "<table><tr><td>accession</td></tr><tr><td><a href=\"https://www.encodedcc.org/biosamples/ENCBS018TPT/\">https://www.encodedcc.org/biosamples/ENCBS018TPT/</a></td></tr><tr><td><a href=\"https://www.encodedcc.org/biosamples/ENCBS044KWE/\">https://www.encodedcc.org/biosamples/ENCBS044KWE/</a></td></tr><tr><td><a href=\"https://www.encodedcc.org/biosamples/ENCBS077RUJ/\">https://www.encodedcc.org/biosamples/ENCBS077RUJ/</a></td></tr><tr><td><a href=\"https://www.encodedcc.org/biosamples/ENCBS520VFV/\">https://www.encodedcc.org/biosamples/ENCBS520VFV/</a></td></tr><tr><td><a href=\"https://www.encodedcc.org/biosamples/ENCBS780PCJ/\">https://www.encodedcc.org/biosamples/ENCBS780PCJ/</a></td></tr><tr><td><a href=\"https://www.encodedcc.org/biosamples/ENCBS899TTJ/\">https://www.encodedcc.org/biosamples/ENCBS899TTJ/</a></td></tr></table>"
       ],
       "metadata": {},
       "output_type": "pyout",
       "prompt_number": 18,
       "text": [
        "<rdfmagic.LibRdfResults at 0x7f06ba3b1610>"
       ]
      }
     ],
     "prompt_number": 18
    },
    {
     "cell_type": "code",
     "collapsed": false,
     "input": [
      "toupdate = [ str(row['accession']) for row in accession_ids]"
     ],
     "language": "python",
     "metadata": {},
     "outputs": [],
     "prompt_number": 19
    },
    {
     "cell_type": "code",
     "collapsed": false,
     "input": [
      "def create_document_payload():\n",
      "    filename = 'SESCC_ENCODE_differentiation_SOPs_May30_2014.pdf'\n",
      "    with open(filename, 'r') as stream:\n",
      "        document = stream.read()\n",
      "        md5sum = hashlib.md5(document)\n",
      "        \n",
      "    document_payload = {\n",
      "\n",
      "      'attachment': {\n",
      "          'download': filename,  \n",
      "          'type': 'application/pdf',\n",
      "          'href': 'data:application/pdf;base64,' + \n",
      "                   base64.b64encode(document),\n",
      "          'md5sum': md5sum.hexdigest(),\n",
      "      },\n",
      "      'description': 'Protocol for differentiating SESCC cells',\n",
      "      'lab': \"/labs/barbara-wold/\",\n",
      "      'award': \"/awards/U54HG006998/\",\n",
      "      'document_type': \"differentiation protocol\",\n",
      "      'aliases': ['barbara-wold:SESCC-ENCODE-Differentiation-SOPs'],\n",
      "    }\n",
      "    return document_payload"
     ],
     "language": "python",
     "metadata": {},
     "outputs": [],
     "prompt_number": 20
    },
    {
     "cell_type": "code",
     "collapsed": false,
     "input": [
      "payload = create_document_payload()"
     ],
     "language": "python",
     "metadata": {},
     "outputs": [],
     "prompt_number": 21
    },
    {
     "cell_type": "code",
     "collapsed": false,
     "input": [
      "try:\n",
      "    uuid = '/documents/c7707280-f681-4c88-9b16-9271082c8b32'\n",
      "    document = server.get_json(uuid)\n",
      "except requests.HTTPError as err:\n",
      "    if err.code == 404:\n",
      "        document = server.post_json('/document/', payload)\n",
      "document['@id']"
     ],
     "language": "python",
     "metadata": {},
     "outputs": [
      {
       "metadata": {},
       "output_type": "pyout",
       "prompt_number": 22,
       "text": [
        "u'/documents/c7707280-f681-4c88-9b16-9271082c8b32/'"
       ]
      }
     ],
     "prompt_number": 22
    },
    {
     "cell_type": "code",
     "collapsed": false,
     "input": [
      "def update_documents(toupdate, document_uuid):\n",
      "    successful = 0\n",
      "    for objid in toupdate:\n",
      "        attributes = server.get_json(objid)\n",
      "        protocol_documents = attributes['protocol_documents']\n",
      "        protocol_documents.append(document_uuid)\n",
      "        payload = {'protocol_documents': protocol_documents}\n",
      "        print(objid, payload)\n",
      "        try:\n",
      "            server.patch_json(objid, payload)\n",
      "            successful += 1\n",
      "        except requests.HTTPError as err:\n",
      "            print(objid, err)\n",
      "    print('patched {} of {}'.format(successful, len(toupdate)))\n",
      "                                    \n",
      "update_documents(toupdate, document['@id'])"
     ],
     "language": "python",
     "metadata": {},
     "outputs": [
      {
       "output_type": "stream",
       "stream": "stdout",
       "text": [
        "https://www.encodedcc.org/biosamples/ENCBS018TPT/ {'protocol_documents': [u'/documents/c7707280-f681-4c88-9b16-9271082c8b32/']}\n",
        "https://www.encodedcc.org/biosamples/ENCBS044KWE/"
       ]
      },
      {
       "output_type": "stream",
       "stream": "stdout",
       "text": [
        " {'protocol_documents': [u'/documents/c7707280-f681-4c88-9b16-9271082c8b32/']}\n",
        "https://www.encodedcc.org/biosamples/ENCBS077RUJ/"
       ]
      },
      {
       "output_type": "stream",
       "stream": "stdout",
       "text": [
        " {'protocol_documents': [u'/documents/c7707280-f681-4c88-9b16-9271082c8b32/']}\n",
        "https://www.encodedcc.org/biosamples/ENCBS520VFV/"
       ]
      },
      {
       "output_type": "stream",
       "stream": "stdout",
       "text": [
        " {'protocol_documents': [u'/documents/c7707280-f681-4c88-9b16-9271082c8b32/']}\n",
        "https://www.encodedcc.org/biosamples/ENCBS780PCJ/"
       ]
      },
      {
       "output_type": "stream",
       "stream": "stdout",
       "text": [
        " {'protocol_documents': [u'/documents/c7707280-f681-4c88-9b16-9271082c8b32/']}\n",
        "https://www.encodedcc.org/biosamples/ENCBS899TTJ/"
       ]
      },
      {
       "output_type": "stream",
       "stream": "stdout",
       "text": [
        " {'protocol_documents': [u'/documents/c7707280-f681-4c88-9b16-9271082c8b32/']}\n",
        "patched 6 of 6"
       ]
      },
      {
       "output_type": "stream",
       "stream": "stdout",
       "text": [
        "\n"
       ]
      }
     ],
     "prompt_number": 24
    },
    {
     "cell_type": "code",
     "collapsed": false,
     "input": [],
     "language": "python",
     "metadata": {},
     "outputs": []
    }
   ],
   "metadata": {}
  }
 ]
}