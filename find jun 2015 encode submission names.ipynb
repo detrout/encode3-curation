{
 "cells": [
  {
   "cell_type": "code",
   "execution_count": 1,
   "metadata": {
    "collapsed": true
   },
   "outputs": [],
   "source": [
    "import pandas\n",
    "import RDF\n",
    "from curation_common import *"
   ]
  },
  {
   "cell_type": "code",
   "execution_count": 2,
   "metadata": {
    "collapsed": false
   },
   "outputs": [],
   "source": [
    "server = ENCODED('www.encodeproject.org')\n",
    "server.load_netrc()"
   ]
  },
  {
   "cell_type": "code",
   "execution_count": 3,
   "metadata": {
    "collapsed": false
   },
   "outputs": [],
   "source": [
    "single_cell_search = server.get_json(\"https://www.encodeproject.org/search/?type=experiment&lab.title=Barbara+Wold,+Caltech&award.rfa=ENCODE3&assay_term_name=single+cell+isolation+followed+by+RNA-seq&status=submitted&status=started\")"
   ]
  },
  {
   "cell_type": "code",
   "execution_count": 4,
   "metadata": {
    "collapsed": true
   },
   "outputs": [],
   "source": [
    "model = get_model(use_contexts=False)"
   ]
  },
  {
   "cell_type": "code",
   "execution_count": 5,
   "metadata": {
    "collapsed": false,
    "scrolled": true
   },
   "outputs": [
    {
     "name": "stdout",
     "output_type": "stream",
     "text": [
      "/experiments/ENCSR734SOQ/ 0 52\n",
      "/experiments/ENCSR909YEQ/ 1 52\n",
      "/experiments/ENCSR298YHA/ 2 52\n",
      "/experiments/ENCSR220HFQ/ 3 52\n",
      "/experiments/ENCSR650MMK/ 4 52\n",
      "/experiments/ENCSR953TKB/ 5 52\n",
      "/experiments/ENCSR295UJP/ 6 52\n",
      "/experiments/ENCSR323FHJ/ 7 52\n",
      "/experiments/ENCSR195BCE/ 8 52\n",
      "/experiments/ENCSR782WIL/ 9 52\n",
      "/experiments/ENCSR138VRG/ 10 52\n",
      "/experiments/ENCSR390KQJ/ 11 52\n",
      "/experiments/ENCSR427FOY/ 12 52\n",
      "/experiments/ENCSR846FYI/ 13 52\n",
      "/experiments/ENCSR927IOO/ 14 52\n",
      "/experiments/ENCSR739YUO/ 15 52\n",
      "/experiments/ENCSR100KRK/ 16 52\n",
      "/experiments/ENCSR198EIH/ 17 52\n",
      "/experiments/ENCSR746LUP/ 18 52\n",
      "/experiments/ENCSR637NLF/ 19 52\n",
      "/experiments/ENCSR320PXZ/ 20 52\n",
      "/experiments/ENCSR027CXR/ 21 52\n",
      "/experiments/ENCSR662UPQ/ 22 52\n",
      "/experiments/ENCSR521YLY/ 23 52\n",
      "/experiments/ENCSR559QTE/ 24 52\n",
      "/experiments/ENCSR527DQV/ 25 52\n",
      "/experiments/ENCSR167AWS/ 26 52\n",
      "/experiments/ENCSR708EHJ/ 27 52\n",
      "/experiments/ENCSR474NEW/ 28 52\n",
      "/experiments/ENCSR282DYQ/ 29 52\n",
      "/experiments/ENCSR367DUL/ 30 52\n",
      "/experiments/ENCSR948NDP/ 31 52\n",
      "/experiments/ENCSR316RMA/ 32 52\n",
      "/experiments/ENCSR691PPV/ 33 52\n",
      "/experiments/ENCSR351YGY/ 34 52\n",
      "/experiments/ENCSR659SFM/ 35 52\n",
      "/experiments/ENCSR620HJQ/ 36 52\n",
      "/experiments/ENCSR726VVO/ 37 52\n",
      "/experiments/ENCSR268IGT/ 38 52\n",
      "/experiments/ENCSR292IVH/ 39 52\n",
      "/experiments/ENCSR362OYV/ 40 52\n",
      "/experiments/ENCSR775HGC/ 41 52\n",
      "/experiments/ENCSR530UXI/ 42 52\n",
      "/experiments/ENCSR577ONT/ 43 52\n",
      "/experiments/ENCSR980SWK/ 44 52\n",
      "/experiments/ENCSR111QQX/ 45 52\n",
      "/experiments/ENCSR068SJG/ 46 52\n",
      "/experiments/ENCSR267LBO/ 47 52\n",
      "/experiments/ENCSR789RPP/ 48 52\n",
      "/experiments/ENCSR796QJD/ 49 52\n",
      "/experiments/ENCSR803PLZ/ 50 52\n",
      "/experiments/ENCSR194TNV/ 51 52\n"
     ]
    }
   ],
   "source": [
    "for i, exp in enumerate(single_cell_search['@graph']):\n",
    "    exp_id = exp['@id']\n",
    "    print(exp_id, i, len(single_cell_search['@graph']))\n",
    "    load_jsonld_into_model(model, server.get_jsonld(exp_id))"
   ]
  },
  {
   "cell_type": "code",
   "execution_count": 6,
   "metadata": {
    "collapsed": false
   },
   "outputs": [
    {
     "name": "stdout",
     "output_type": "stream",
     "text": [
      "Found 92 rows.\n"
     ]
    }
   ],
   "source": [
    "%%sparql -m model -c -o lib_to_alias\n",
    "select ?lib ?alias\n",
    "where {\n",
    "    ?exp a experiment:experiment ;\n",
    "         experiment:replicates ?rep .\n",
    "    ?rep replicate:library ?lib .\n",
    "    ?lib library:aliases ?alias .\n",
    "}"
   ]
  },
  {
   "cell_type": "code",
   "execution_count": 7,
   "metadata": {
    "collapsed": false
   },
   "outputs": [
    {
     "name": "stdout",
     "output_type": "stream",
     "text": [
      "0 92\n",
      "1 92\n",
      "2 92\n",
      "3 92\n",
      "4 92\n",
      "5 92\n",
      "6 92\n",
      "7 92\n",
      "8 92\n",
      "9 92\n",
      "10 92\n",
      "11 92\n",
      "12 92\n",
      "13 92\n",
      "14 92\n",
      "15 92\n",
      "16 92\n",
      "17 92\n",
      "18 92\n",
      "19 92\n",
      "20 92\n",
      "21 92\n",
      "22 92\n",
      "23 92\n",
      "24 92\n",
      "25 92\n",
      "26 92\n",
      "27 92\n",
      "28 92\n",
      "29 92\n",
      "30 92\n",
      "31 92\n",
      "32 92\n",
      "33 92\n",
      "34 92\n",
      "35 92\n",
      "36 92\n",
      "37 92\n",
      "38 92\n",
      "39 92\n",
      "40 92\n",
      "41 92\n",
      "42 92\n",
      "43 92\n",
      "44 92\n",
      "45 92\n",
      "46 92\n",
      "47 92\n",
      "48 92\n",
      "49 92\n",
      "50 92\n",
      "51 92\n",
      "52 92\n",
      "53 92\n",
      "54 92\n",
      "55 92\n",
      "56 92\n",
      "57 92\n",
      "58 92\n",
      "59 92\n",
      "60 92\n",
      "61 92\n",
      "62 92\n",
      "63 92\n",
      "64 92\n",
      "65 92\n",
      "66 92\n",
      "67 92\n",
      "68 92\n",
      "69 92\n",
      "70 92\n",
      "71 92\n",
      "72 92\n",
      "73 92\n",
      "74 92\n",
      "75 92\n",
      "76 92\n",
      "77 92\n",
      "78 92\n",
      "79 92\n",
      "80 92\n",
      "81 92\n",
      "82 92\n",
      "83 92\n",
      "84 92\n",
      "85 92\n",
      "86 92\n",
      "87 92\n",
      "88 92\n",
      "89 92\n",
      "90 92\n",
      "91 92\n"
     ]
    }
   ],
   "source": [
    "for i, row in enumerate(lib_to_alias):\n",
    "    lib_url = str(row['alias']).replace('barbara-wold:', \n",
    "                                       'https://jumpgate.caltech.edu/library/')\n",
    "    lib_url += '/'\n",
    "    lib_id = str(row['alias']).replace('barbara-wold:','')\n",
    "    load_into_model(model, 'rdfa', lib_url)\n",
    "    print(i, len(lib_to_alias))\n",
    "    s = RDF.Statement(\n",
    "        row['lib'], \n",
    "        RDF.Node(RDF.Uri(\"http://jumpgate.caltech.edu/wiki/LibraryOntology#library\")),\n",
    "        RDF.Node(RDF.Uri(lib_url)))\n",
    "    model.add_statement(s)\n",
    "    s = RDF.Statement(\n",
    "        row['lib'], \n",
    "        RDF.Node(RDF.Uri(\"http://jumpgate.caltech.edu/wiki/LibraryOntology#library\")),\n",
    "        RDF.Node(RDF.Uri(lib_url)))\n",
    "    model.add_statement(s)\n",
    "    s = RDF.Statement(\n",
    "        RDF.Node(RDF.Uri(lib_url)),\n",
    "        RDF.Node(RDF.Uri(\"http://jumpgate.caltech.edu/wiki/LibraryOntology#experiment\")),\n",
    "        row['lib'])\n",
    "    model.add_statement(s)"
   ]
  },
  {
   "cell_type": "code",
   "execution_count": 15,
   "metadata": {
    "collapsed": false
   },
   "outputs": [
    {
     "name": "stdout",
     "output_type": "stream",
     "text": [
      "Found 92 rows.\n"
     ]
    }
   ],
   "source": [
    "%%sparql -m model -c -o encode_names\n",
    "select ?exp ?description ?jumpgate ?library_id ?name\n",
    "where {\n",
    "    ?exp a experiment:experiment ;\n",
    "         rdf:description ?description ;\n",
    "         experiment:replicates ?rep .\n",
    "       \n",
    "    ?rep replicate:library ?lib .\n",
    "    ?lib htsw:library ?jumpgate .\n",
    "    ?jumpgate htsw:name ?name ;\n",
    "              htsw:library_id ?library_id . \n",
    "}"
   ]
  },
  {
   "cell_type": "code",
   "execution_count": 17,
   "metadata": {
    "collapsed": false
   },
   "outputs": [],
   "source": [
    "def to_df(results, columns=[]):\n",
    "    stuff = []\n",
    "    for row in results:\n",
    "        stuff.append({ key: str(row[key]) for key in row})\n",
    "            \n",
    "    return pandas.DataFrame(stuff, columns=columns)\n"
   ]
  },
  {
   "cell_type": "code",
   "execution_count": 18,
   "metadata": {
    "collapsed": false
   },
   "outputs": [],
   "source": [
    "dcc_frame = to_df(encode_names, ['exp', 'description', 'library_id', 'name'])"
   ]
  },
  {
   "cell_type": "code",
   "execution_count": 20,
   "metadata": {
    "collapsed": false
   },
   "outputs": [],
   "source": [
    "dcc_frame.to_csv('/tmp/single-cell.csv')"
   ]
  },
  {
   "cell_type": "code",
   "execution_count": null,
   "metadata": {
    "collapsed": true
   },
   "outputs": [],
   "source": []
  }
 ],
 "metadata": {
  "kernelspec": {
   "display_name": "Python 3",
   "language": "python",
   "name": "python3"
  },
  "language_info": {
   "codemirror_mode": {
    "name": "ipython",
    "version": 3
   },
   "file_extension": ".py",
   "mimetype": "text/x-python",
   "name": "python",
   "nbconvert_exporter": "python",
   "pygments_lexer": "ipython3",
   "version": "3.4.3+"
  }
 },
 "nbformat": 4,
 "nbformat_minor": 0
}
