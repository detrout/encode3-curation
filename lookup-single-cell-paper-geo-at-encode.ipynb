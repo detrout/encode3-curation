{
 "cells": [
  {
   "cell_type": "markdown",
   "metadata": {},
   "source": [
    "#Introduction\n",
    "\n",
    "We told the DCC about our Single Cell paper data that was submitted to GEO. They imported it in some way, but I'm not sure they imported everything."
   ]
  },
  {
   "cell_type": "code",
   "execution_count": 32,
   "metadata": {
    "collapsed": true
   },
   "outputs": [],
   "source": [
    "GEO=\"\"\"GSM1087856 \t12515-100mers-GM12878_100A-TopHat-1.4.1-GENCODE-V13\n",
    "GSM1087857 \t12516-100mers-GM12878_100B-TopHat-1.4.1-GENCODE-V13\n",
    "GSM1087858 \t12517-100mers-GM12878_30A-TopHat-1.4.1-GENCODE-V13\n",
    "GSM1087859 \t12518-100mers-GM12878_30B-TopHat-1.4.1-GENCODE-V13\n",
    "GSM1087860 \t12519-100mers-GM12878_10A_12-TopHat-1.4.1-GENCODE-V13\n",
    "GSM1087861 \t12520-100mers-GM12878_10B_10-TopHat-1.4.1-GENCODE-V13\n",
    "GSM1087862 \t12522-100mers-GM12878_183-TopHat-1.4.1-GENCODE-V13\n",
    "GSM1087863 \t12523-100mers-GM12878_184-TopHat-1.4.1-GENCODE-V13\n",
    "GSM1087864 \t12524-100mers-GM12878_185-TopHat-1.4.1-GENCODE-V13\n",
    "GSM1087865 \t12534-100mers-GM12878_186-TopHat-1.4.1-GENCODE-V13\n",
    "GSM1087866 \t12535-100mers-GM12878_187-TopHat-1.4.1-GENCODE-V13\n",
    "GSM1087867 \t12536-100mers-GM12878_188-TopHat-1.4.1-GENCODE-V13\n",
    "GSM1087868 \t12537-100mers-GM12878_189-TopHat-1.4.1-GENCODE-V13\n",
    "GSM1087869 \t12538-100mers-GM12878_190-TopHat-1.4.1-GENCODE-V13\n",
    "GSM1087870 \t12539-100mers-GM12878_191-TopHat-1.4.1-GENCODE-V13\n",
    "GSM1087871 \t12540-100mers-GM12878_192-TopHat-1.4.1-GENCODE-V13\n",
    "GSM1087872 \t12541-100mers-GM12878_193-TopHat-1.4.1-GENCODE-V13\n",
    "GSM1087873 \t12542-100mers-GM12878_194-TopHat-1.4.1-GENCODE-V13\n",
    "GSM1087874 \t12543-100mers-GM12878_195-TopHat-1.4.1-GENCODE-V13\n",
    "GSM1087875 \t12818-100mers-GM12878_200-TopHat-1.4.1-GENCODE-V13\n",
    "GSM1087876 \t12819-100mers-GM12878_205-TopHat-1.4.1-GENCODE-V13\n",
    "GSM1087877 \t12820-100mers-GM12878_208-TopHat-1.4.1-GENCODE-V13\n",
    "GSM1087878 \t13274-100mers-GM12878-10ng_1-TopHat-1.4.1-GENCODE-V13\n",
    "GSM1087879 \t13275-100mers-GM12878-10ng_2-TopHat-1.4.1-GENCODE-V13\n",
    "GSM1087880 \t13276-100mers-GM12878-100pg_1-TopHat-1.4.1-GENCODE-V13\n",
    "GSM1087881 \t13277-100mers-GM12878-100pg_2-TopHat-1.4.1-GENCODE-V13\n",
    "GSM1087882 \t13278-100mers-GM12878-204-TopHat-1.4.1-GENCODE-V13\n",
    "GSM1087883 \t13279-100mers-GM12878-207-TopHat-1.4.1-GENCODE-V13\n",
    "GSM1087884 \t13282-100mers-GM12878-235-TopHat-1.4.1-GENCODE-V13\n",
    "GSM1087885 \t13283-100mers-GM12878-236-TopHat-1.4.1-GENCODE-V13\n",
    "GSM1087886 \t13284-100mers-GM12878-237-TopHat-1.4.1-GENCODE-V13\n",
    "GSM1087887 \t13285-100mers-GM12878-238-TopHat-1.4.1-GENCODE-V13\n",
    "GSM1087888 \t13286-100mers-GM12878-239-TopHat-1.4.1-GENCODE-V13\n",
    "GSM1087889 \t13287-100mers-GM12878-240-TopHat-1.4.1-GENCODE-V13\n",
    "GSM1087890 \t13288-100mers-GM12878-242-TopHat-1.4.1-GENCODE-V13\n",
    "GSM1087891 \t13289-100mers-GM12878-243-TopHat-1.4.1-GENCODE-V13\n",
    "GSM1087892 \t13290-100mers-GM12878-244-TopHat-1.4.1-GENCODE-V13\n",
    "GSM1087893 \t13291-100mers-GM12878-245-TopHat-1.4.1-GENCODE-V13\n",
    "GSM1087894 \t13300-100mers-GM12878-254_10cells-TopHat-1.4.1-GENCODE-V13\n",
    "GSM1087895 \t13301-100mers-GM12878-255_11cells-TopHat-1.4.1-GENCODE-V13\n",
    "GSM1087896 \t13302-100mers-GM12878-256_100cells-TopHat-1.4.1-GENCODE-V13\n",
    "GSM1087897 \t13303-100mers-GM12878-257_100cells-TopHat-1.4.1-GENCODE-V13\n",
    "GSM1299379 \t12821-100mers-GM12878_pool_split_5\n",
    "GSM1299380 \t12822-100mers-GM12878_pool_split_6\n",
    "GSM1299381 \t12823-100mers-GM12878_pool_split_7\n",
    "GSM1299382 \t12824-100mers-GM12878_pool_split_8\n",
    "GSM1299383 \t13268-100mers-GM12878-217_pool_split_1\n",
    "GSM1299384 \t13269-100mers-GM12878-218_pool_split_2\n",
    "GSM1299385 \t13270-100mers-GM12878-219_pool_split_3\n",
    "GSM1299386 \t13271-100mers-GM12878-220_pool_split_4\n",
    "GSM1299387 \t13272-100mers-GM12878-225_pool_split_9\n",
    "GSM1299388 \t13273-100mers-GM12878-226_pool_split_10\n",
    "GSM1299389 \t13280-100mers-GM12878-232_pool_split\n",
    "GSM1299390 \t13281-100mers-GM12878-233_pool_split\n",
    "GSM1299391 \t13292-100mers-GM12878-246_pool_split\n",
    "GSM1299392 \t13293-100mers-GM12878-247_pool_split\n",
    "GSM1299393 \t13294-100mers-GM12878-248_pool_split\n",
    "GSM1299394 \t13295-100mers-GM12878-249_pool_split\n",
    "GSM1299395 \t13296-100mers-GM12878-250_pool_split\n",
    "GSM1299396 \t13297-100mers-GM12878-251_pool_split\n",
    "GSM1299397 \t13298-100mers-GM12878-252_pool_split\n",
    "GSM1299398 \t13299-100mers-GM12878-253_pool_split\n",
    "\"\"\".replace(' ', '').split('\\n')\n",
    "GEO = [ line.split('\\t') for line in GEO if len(line) > 0]"
   ]
  },
  {
   "cell_type": "code",
   "execution_count": 25,
   "metadata": {
    "collapsed": false
   },
   "outputs": [],
   "source": [
    "import requests\n",
    "from curation_common import *"
   ]
  },
  {
   "cell_type": "code",
   "execution_count": 7,
   "metadata": {
    "collapsed": true
   },
   "outputs": [],
   "source": [
    "server = ENCODED('www.encodeproject.org')\n",
    "server.load_netrc()"
   ]
  },
  {
   "cell_type": "markdown",
   "metadata": {},
   "source": [
    "Search the DCC site by GEO identifier."
   ]
  },
  {
   "cell_type": "code",
   "execution_count": 48,
   "metadata": {
    "collapsed": false
   },
   "outputs": [
    {
     "name": "stdout",
     "output_type": "stream",
     "text": [
      "GSM1087856 not found\n",
      "GSM1087857 not found\n",
      "GSM1087858 not found\n",
      "GSM1087859 not found\n",
      "GSM1087860 not found\n",
      "GSM1087861 not found\n",
      "GSM1087862 not found\n",
      "GSM1087863 not found\n",
      "GSM1087864 not found\n",
      "GSM1087865 not found\n",
      "GSM1087866 not found\n",
      "GSM1087867 not found\n",
      "GSM1087868 not found\n",
      "GSM1087869 not found\n",
      "GSM1087870 not found\n",
      "GSM1087871 not found\n",
      "GSM1087872 not found\n",
      "GSM1087873 not found\n",
      "GSM1087874 not found\n",
      "GSM1087875 not found\n",
      "GSM1087876 not found\n",
      "GSM1087877 not found\n",
      "GSM1087878 not found\n",
      "GSM1087879 not found\n",
      "GSM1087880 not found\n",
      "GSM1087881 not found\n",
      "GSM1087882 not found\n",
      "GSM1087883 not found\n",
      "GSM1087894 not found\n",
      "GSM1087895 not found\n",
      "GSM1087896 not found\n",
      "GSM1087897 not found\n",
      "GSM1299379 not found\n",
      "GSM1299380 not found\n",
      "GSM1299381 not found\n",
      "GSM1299382 not found\n",
      "GSM1299383 not found\n",
      "GSM1299384 not found\n",
      "GSM1299385 not found\n",
      "GSM1299386 not found\n",
      "GSM1299387 not found\n",
      "GSM1299388 not found\n",
      "GSM1299392 not found\n",
      "found 19 of 62 \n"
     ]
    }
   ],
   "source": [
    "count = 0\n",
    "found = {}\n",
    "for geo_id, label in GEO:\n",
    "    url = 'https://www.encodeproject.org/search/?searchTerm={}'\n",
    "    try:\n",
    "        count += 1\n",
    "        graph = server.get_json(url.format(geo_id))\n",
    "        description = graph['@graph'][0]['assay_term_name']\n",
    "        found[geo_id] = (label, description)\n",
    "    except requests.HTTPError as e:\n",
    "        if e.response.status_code == 404:\n",
    "            print(\"{} not found\".format(geo_id))\n",
    "    \n",
    "print(\"found {} of {} \".format(len(found), count))\n",
    "        "
   ]
  },
  {
   "cell_type": "markdown",
   "metadata": {},
   "source": [
    "It appears we found the initial single cell and pool split experiments by GEO id."
   ]
  },
  {
   "cell_type": "code",
   "execution_count": 49,
   "metadata": {
    "collapsed": false
   },
   "outputs": [
    {
     "data": {
      "text/plain": [
       "{'GSM1087884': ('13282-100mers-GM12878-235-TopHat-1.4.1-GENCODE-V13',\n",
       "  'single cell isolation followed by RNA-seq'),\n",
       " 'GSM1087885': ('13283-100mers-GM12878-236-TopHat-1.4.1-GENCODE-V13',\n",
       "  'single cell isolation followed by RNA-seq'),\n",
       " 'GSM1087886': ('13284-100mers-GM12878-237-TopHat-1.4.1-GENCODE-V13',\n",
       "  'single cell isolation followed by RNA-seq'),\n",
       " 'GSM1087887': ('13285-100mers-GM12878-238-TopHat-1.4.1-GENCODE-V13',\n",
       "  'single cell isolation followed by RNA-seq'),\n",
       " 'GSM1087888': ('13286-100mers-GM12878-239-TopHat-1.4.1-GENCODE-V13',\n",
       "  'single cell isolation followed by RNA-seq'),\n",
       " 'GSM1087889': ('13287-100mers-GM12878-240-TopHat-1.4.1-GENCODE-V13',\n",
       "  'single cell isolation followed by RNA-seq'),\n",
       " 'GSM1087890': ('13288-100mers-GM12878-242-TopHat-1.4.1-GENCODE-V13',\n",
       "  'single cell isolation followed by RNA-seq'),\n",
       " 'GSM1087891': ('13289-100mers-GM12878-243-TopHat-1.4.1-GENCODE-V13',\n",
       "  'single cell isolation followed by RNA-seq'),\n",
       " 'GSM1087892': ('13290-100mers-GM12878-244-TopHat-1.4.1-GENCODE-V13',\n",
       "  'single cell isolation followed by RNA-seq'),\n",
       " 'GSM1087893': ('13291-100mers-GM12878-245-TopHat-1.4.1-GENCODE-V13',\n",
       "  'single cell isolation followed by RNA-seq'),\n",
       " 'GSM1299389': ('13280-100mers-GM12878-232_pool_split',\n",
       "  'single cell isolation followed by RNA-seq'),\n",
       " 'GSM1299390': ('13281-100mers-GM12878-233_pool_split',\n",
       "  'single cell isolation followed by RNA-seq'),\n",
       " 'GSM1299391': ('13292-100mers-GM12878-246_pool_split',\n",
       "  'single cell isolation followed by RNA-seq'),\n",
       " 'GSM1299393': ('13294-100mers-GM12878-248_pool_split',\n",
       "  'single cell isolation followed by RNA-seq'),\n",
       " 'GSM1299394': ('13295-100mers-GM12878-249_pool_split',\n",
       "  'single cell isolation followed by RNA-seq'),\n",
       " 'GSM1299395': ('13296-100mers-GM12878-250_pool_split',\n",
       "  'single cell isolation followed by RNA-seq'),\n",
       " 'GSM1299396': ('13297-100mers-GM12878-251_pool_split',\n",
       "  'single cell isolation followed by RNA-seq'),\n",
       " 'GSM1299397': ('13298-100mers-GM12878-252_pool_split',\n",
       "  'single cell isolation followed by RNA-seq'),\n",
       " 'GSM1299398': ('13299-100mers-GM12878-253_pool_split',\n",
       "  'single cell isolation followed by RNA-seq')}"
      ]
     },
     "execution_count": 49,
     "metadata": {},
     "output_type": "execute_result"
    }
   ],
   "source": [
    "found"
   ]
  },
  {
   "cell_type": "markdown",
   "metadata": {},
   "source": [
    "Perhaps I should check for libraries by Wold Lab Library ID as well?"
   ]
  },
  {
   "cell_type": "code",
   "execution_count": 52,
   "metadata": {
    "collapsed": false
   },
   "outputs": [
    {
     "name": "stdout",
     "output_type": "stream",
     "text": [
      "GSM1087856 not found\n",
      "GSM1087857 not found\n",
      "GSM1087860 not found\n",
      "GSM1087861 not found\n",
      "GSM1087862 not found\n",
      "GSM1087863 not found\n",
      "GSM1087864 not found\n",
      "GSM1087865 not found\n",
      "GSM1087866 not found\n",
      "GSM1087867 not found\n",
      "GSM1087868 not found\n",
      "GSM1087869 not found\n",
      "GSM1087870 not found\n",
      "GSM1087871 not found\n",
      "GSM1087872 not found\n",
      "GSM1087873 not found\n",
      "GSM1087874 not found\n",
      "GSM1087875 not found\n",
      "GSM1087876 not found\n",
      "GSM1087877 not found\n",
      "GSM1087880 not found\n",
      "GSM1087881 not found\n",
      "GSM1087882 not found\n",
      "GSM1087883 not found\n",
      "GSM1087896 not found\n",
      "GSM1087897 not found\n",
      "GSM1299379 not found\n",
      "GSM1299380 not found\n",
      "GSM1299381 not found\n",
      "GSM1299382 not found\n",
      "GSM1299383 not found\n",
      "GSM1299384 not found\n",
      "GSM1299385 not found\n",
      "GSM1299386 not found\n",
      "GSM1299387 not found\n",
      "GSM1299388 not found\n",
      "GSM1299392 not found\n",
      "found 25 of 62 \n"
     ]
    }
   ],
   "source": [
    "lib_count = 0\n",
    "lib_found = {}\n",
    "for geo_id, label in GEO:\n",
    "    lib_id = label.split('-')[0]\n",
    "    url = 'https://www.encodeproject.org/search/?searchTerm=barbara-wold:{}'\n",
    "    try:\n",
    "        lib_count += 1\n",
    "        graph = server.get_json(url.format(lib_id))\n",
    "        description = graph['@graph'][0]['assay_term_name']\n",
    "        lib_found[geo_id] = (label, description)\n",
    "    except requests.HTTPError as e:\n",
    "        if e.response.status_code == 404:\n",
    "            print(\"{} not found\".format(geo_id))\n",
    "    \n",
    "print(\"found {} of {} \".format(len(lib_found), lib_count))\n",
    "        "
   ]
  },
  {
   "cell_type": "markdown",
   "metadata": {},
   "source": [
    "Drat. A different number of libraries were found."
   ]
  },
  {
   "cell_type": "code",
   "execution_count": 53,
   "metadata": {
    "collapsed": false
   },
   "outputs": [
    {
     "data": {
      "text/plain": [
       "{'GSM1087858': ('12517-100mers-GM12878_30A-TopHat-1.4.1-GENCODE-V13',\n",
       "  'RNA-seq'),\n",
       " 'GSM1087859': ('12518-100mers-GM12878_30B-TopHat-1.4.1-GENCODE-V13',\n",
       "  'RNA-seq'),\n",
       " 'GSM1087878': ('13274-100mers-GM12878-10ng_1-TopHat-1.4.1-GENCODE-V13',\n",
       "  'RNA-seq'),\n",
       " 'GSM1087879': ('13275-100mers-GM12878-10ng_2-TopHat-1.4.1-GENCODE-V13',\n",
       "  'RNA-seq'),\n",
       " 'GSM1087884': ('13282-100mers-GM12878-235-TopHat-1.4.1-GENCODE-V13',\n",
       "  'single cell isolation followed by RNA-seq'),\n",
       " 'GSM1087885': ('13283-100mers-GM12878-236-TopHat-1.4.1-GENCODE-V13',\n",
       "  'single cell isolation followed by RNA-seq'),\n",
       " 'GSM1087886': ('13284-100mers-GM12878-237-TopHat-1.4.1-GENCODE-V13',\n",
       "  'single cell isolation followed by RNA-seq'),\n",
       " 'GSM1087887': ('13285-100mers-GM12878-238-TopHat-1.4.1-GENCODE-V13',\n",
       "  'single cell isolation followed by RNA-seq'),\n",
       " 'GSM1087888': ('13286-100mers-GM12878-239-TopHat-1.4.1-GENCODE-V13',\n",
       "  'single cell isolation followed by RNA-seq'),\n",
       " 'GSM1087889': ('13287-100mers-GM12878-240-TopHat-1.4.1-GENCODE-V13',\n",
       "  'single cell isolation followed by RNA-seq'),\n",
       " 'GSM1087890': ('13288-100mers-GM12878-242-TopHat-1.4.1-GENCODE-V13',\n",
       "  'single cell isolation followed by RNA-seq'),\n",
       " 'GSM1087891': ('13289-100mers-GM12878-243-TopHat-1.4.1-GENCODE-V13',\n",
       "  'single cell isolation followed by RNA-seq'),\n",
       " 'GSM1087892': ('13290-100mers-GM12878-244-TopHat-1.4.1-GENCODE-V13',\n",
       "  'single cell isolation followed by RNA-seq'),\n",
       " 'GSM1087893': ('13291-100mers-GM12878-245-TopHat-1.4.1-GENCODE-V13',\n",
       "  'single cell isolation followed by RNA-seq'),\n",
       " 'GSM1087894': ('13300-100mers-GM12878-254_10cells-TopHat-1.4.1-GENCODE-V13',\n",
       "  'RNA-seq'),\n",
       " 'GSM1087895': ('13301-100mers-GM12878-255_11cells-TopHat-1.4.1-GENCODE-V13',\n",
       "  'RNA-seq'),\n",
       " 'GSM1299389': ('13280-100mers-GM12878-232_pool_split',\n",
       "  'single cell isolation followed by RNA-seq'),\n",
       " 'GSM1299390': ('13281-100mers-GM12878-233_pool_split',\n",
       "  'single cell isolation followed by RNA-seq'),\n",
       " 'GSM1299391': ('13292-100mers-GM12878-246_pool_split',\n",
       "  'single cell isolation followed by RNA-seq'),\n",
       " 'GSM1299393': ('13294-100mers-GM12878-248_pool_split',\n",
       "  'single cell isolation followed by RNA-seq'),\n",
       " 'GSM1299394': ('13295-100mers-GM12878-249_pool_split',\n",
       "  'single cell isolation followed by RNA-seq'),\n",
       " 'GSM1299395': ('13296-100mers-GM12878-250_pool_split',\n",
       "  'single cell isolation followed by RNA-seq'),\n",
       " 'GSM1299396': ('13297-100mers-GM12878-251_pool_split',\n",
       "  'single cell isolation followed by RNA-seq'),\n",
       " 'GSM1299397': ('13298-100mers-GM12878-252_pool_split',\n",
       "  'single cell isolation followed by RNA-seq'),\n",
       " 'GSM1299398': ('13299-100mers-GM12878-253_pool_split',\n",
       "  'single cell isolation followed by RNA-seq')}"
      ]
     },
     "execution_count": 53,
     "metadata": {},
     "output_type": "execute_result"
    }
   ],
   "source": [
    "lib_found"
   ]
  },
  {
   "cell_type": "markdown",
   "metadata": {},
   "source": [
    "What libraries were found only by Wold Lab Library ID?"
   ]
  },
  {
   "cell_type": "code",
   "execution_count": 57,
   "metadata": {
    "collapsed": false
   },
   "outputs": [
    {
     "name": "stdout",
     "output_type": "stream",
     "text": [
      "GSM1087879 ('13275-100mers-GM12878-10ng_2-TopHat-1.4.1-GENCODE-V13', 'RNA-seq')\n",
      "GSM1087894 ('13300-100mers-GM12878-254_10cells-TopHat-1.4.1-GENCODE-V13', 'RNA-seq')\n",
      "GSM1087878 ('13274-100mers-GM12878-10ng_1-TopHat-1.4.1-GENCODE-V13', 'RNA-seq')\n",
      "GSM1087859 ('12518-100mers-GM12878_30B-TopHat-1.4.1-GENCODE-V13', 'RNA-seq')\n",
      "GSM1087858 ('12517-100mers-GM12878_30A-TopHat-1.4.1-GENCODE-V13', 'RNA-seq')\n",
      "GSM1087895 ('13301-100mers-GM12878-255_11cells-TopHat-1.4.1-GENCODE-V13', 'RNA-seq')\n"
     ]
    }
   ],
   "source": [
    "for key in set(lib_found.keys()).difference(set(found.keys())):\n",
    "    print(key, lib_found[key])"
   ]
  },
  {
   "cell_type": "markdown",
   "metadata": {},
   "source": [
    "Good. found by Wold Lab library id is a proper superset of what was found by GEO id."
   ]
  },
  {
   "cell_type": "code",
   "execution_count": 58,
   "metadata": {
    "collapsed": true
   },
   "outputs": [],
   "source": [
    "for key in set(found.keys()).difference(set(lib_found.keys())):\n",
    "    print(key, found[key])"
   ]
  },
  {
   "cell_type": "markdown",
   "metadata": {},
   "source": [
    "It appears the DCC only imported the core single cell pool split data and it is all currently encoded as \"single cell isolation followed by RNA-seq\"."
   ]
  },
  {
   "cell_type": "code",
   "execution_count": null,
   "metadata": {
    "collapsed": true
   },
   "outputs": [],
   "source": []
  }
 ],
 "metadata": {
  "kernelspec": {
   "display_name": "Python 3",
   "language": "python",
   "name": "python3"
  },
  "language_info": {
   "codemirror_mode": {
    "name": "ipython",
    "version": 3
   },
   "file_extension": ".py",
   "mimetype": "text/x-python",
   "name": "python",
   "nbconvert_exporter": "python",
   "pygments_lexer": "ipython3",
   "version": "3.5.1+"
  }
 },
 "nbformat": 4,
 "nbformat_minor": 0
}
