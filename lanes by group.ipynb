{
 "metadata": {
  "name": "",
  "signature": "sha256:64b0beb6de414d6f02664057e4aef080fe2d904c006884a38c76dee4712b4a42"
 },
 "nbformat": 3,
 "nbformat_minor": 0,
 "worksheets": [
  {
   "cells": [
    {
     "cell_type": "heading",
     "level": 1,
     "metadata": {},
     "source": [
      "Setup"
     ]
    },
    {
     "cell_type": "markdown",
     "metadata": {},
     "source": [
      "Mostly me remembering how to use the Django ORM."
     ]
    },
    {
     "cell_type": "code",
     "collapsed": false,
     "input": [
      "import os\n",
      "import sys\n",
      "import django\n",
      "import collections\n",
      "\n",
      "sys.path.append(os.path.expanduser('~diane/proj/htsworkflow'))\n",
      "\n",
      "if not 'DJANGO_SETTINGS_MODULE' in os.environ:\n",
      "    os.environ['DJANGO_SETTINGS_MODULE'] = 'htsworkflow.settings.myrada'\n",
      "django.setup()"
     ],
     "language": "python",
     "metadata": {},
     "outputs": [],
     "prompt_number": 44
    },
    {
     "cell_type": "code",
     "collapsed": false,
     "input": [
      "import samples.models as samples\n",
      "import experiments.models as experiments"
     ],
     "language": "python",
     "metadata": {},
     "outputs": [],
     "prompt_number": 3
    },
    {
     "cell_type": "code",
     "collapsed": false,
     "input": [
      "samples.Affiliation.objects.count()"
     ],
     "language": "python",
     "metadata": {},
     "outputs": [
      {
       "metadata": {},
       "output_type": "pyout",
       "prompt_number": 4,
       "text": [
        "200"
       ]
      }
     ],
     "prompt_number": 4
    },
    {
     "cell_type": "code",
     "collapsed": false,
     "input": [
      "fc = experiments.FlowCell.objects.get(pk=100)"
     ],
     "language": "python",
     "metadata": {},
     "outputs": [],
     "prompt_number": 7
    },
    {
     "cell_type": "code",
     "collapsed": false,
     "input": [
      "lanes = fc.lane_set.all()"
     ],
     "language": "python",
     "metadata": {},
     "outputs": [],
     "prompt_number": 9
    },
    {
     "cell_type": "code",
     "collapsed": false,
     "input": [
      "l = lanes[0]"
     ],
     "language": "python",
     "metadata": {},
     "outputs": [],
     "prompt_number": 11
    },
    {
     "cell_type": "code",
     "collapsed": false,
     "input": [
      "affiliations = l.library.affiliations.all()"
     ],
     "language": "python",
     "metadata": {},
     "outputs": [],
     "prompt_number": 21
    },
    {
     "cell_type": "code",
     "collapsed": false,
     "input": [
      "affiliations[0].name"
     ],
     "language": "python",
     "metadata": {},
     "outputs": [
      {
       "metadata": {},
       "output_type": "pyout",
       "prompt_number": 23,
       "text": [
        "u'Brian Williams'"
       ]
      }
     ],
     "prompt_number": 23
    },
    {
     "cell_type": "code",
     "collapsed": false,
     "input": [
      "lanes = experiments.Lane.objects.all()"
     ],
     "language": "python",
     "metadata": {},
     "outputs": [],
     "prompt_number": 17
    },
    {
     "cell_type": "code",
     "collapsed": false,
     "input": [
      "len(lanes)"
     ],
     "language": "python",
     "metadata": {},
     "outputs": [
      {
       "metadata": {},
       "output_type": "pyout",
       "prompt_number": 18,
       "text": [
        "4770"
       ]
      }
     ],
     "prompt_number": 18
    },
    {
     "cell_type": "heading",
     "level": 1,
     "metadata": {},
     "source": [
      "Affiliations"
     ]
    },
    {
     "cell_type": "markdown",
     "metadata": {},
     "source": [
      "The Library to Affiliations model is many-to-many. Usually there's one primary user, but in theory any number of people can be attached to a library. \n",
      "\n",
      "In addition I used the Affiliations to try tracking \"ENCODE\" related libraries during ENCODE phase 1 and 2. I eventually gave up with that by phase 3."
     ]
    },
    {
     "cell_type": "heading",
     "level": 1,
     "metadata": {},
     "source": [
      "Lanes by Affiliation"
     ]
    },
    {
     "cell_type": "code",
     "collapsed": false,
     "input": [
      "c = collections.Counter()"
     ],
     "language": "python",
     "metadata": {},
     "outputs": [],
     "prompt_number": 20
    },
    {
     "cell_type": "markdown",
     "metadata": {},
     "source": [
      "This query is somewhat slow when run remotely."
     ]
    },
    {
     "cell_type": "code",
     "collapsed": false,
     "input": [
      "for lane in lanes:\n",
      "    for affiliation in lane.library.affiliations.all():\n",
      "        c[affiliation.name] += 1"
     ],
     "language": "python",
     "metadata": {},
     "outputs": [],
     "prompt_number": 24
    },
    {
     "cell_type": "markdown",
     "metadata": {},
     "source": [
      "This is the number of lanes that were attached a user. This would be the number of times a library was put on a flowcell. It's not weighted by how many reads came off that flowcell."
     ]
    },
    {
     "cell_type": "code",
     "collapsed": false,
     "input": [
      "c.most_common()"
     ],
     "language": "python",
     "metadata": {},
     "outputs": [
      {
       "metadata": {},
       "output_type": "pyout",
       "prompt_number": 31,
       "text": [
        "[(u'Brian Williams', 1260),\n",
        " (u'Jingli Zhang', 281),\n",
        " (u'ENCODE', 213),\n",
        " (u'Ali Mortazavi', 211),\n",
        " (u'Anna CT Abelin/Nicole Tetreault', 191),\n",
        " (u'Daniel Kim', 173),\n",
        " (u'Erich Schwarz', 137),\n",
        " (u'Steven Kuntz', 121),\n",
        " (u'Gordon Kwan', 121),\n",
        " (u'Beverley Henley', 113),\n",
        " (u'ENCODE_Tier1', 104),\n",
        " (u'Omar Akbari', 102),\n",
        " (u'Georgi Marinov', 100),\n",
        " (u'Katherine Fisher', 96),\n",
        " (u'Timur Zhiyentayev', 93),\n",
        " (u'MouseENCODE', 83),\n",
        " (u'Jose Luis Riechmann', 80),\n",
        " (u'ENCODE_Tier2', 77),\n",
        " (u'Vijaya Kumar', 71),\n",
        " (u'Anil Ozdemir', 69),\n",
        " (u'Stephanie Barnes', 65),\n",
        " (u'Yen-Ping Hsueh', 57),\n",
        " (u'Tony Kirilusha', 56),\n",
        " (u'ENCODE_Tier3', 54),\n",
        " (u'Adler Dillman', 52),\n",
        " (u'Marissa Del Real', 51),\n",
        " (u'Megan Bergkessel', 48),\n",
        " (u'Michael Bethune', 48),\n",
        " (u'Adam Rosenthal', 47),\n",
        " (u'Dev Majumdar', 45),\n",
        " (u'James Puckett', 43),\n",
        " (u'Garry Wong', 41),\n",
        " (u'Edoardo Marcora', 40),\n",
        " (u'Gilberto Hernandez', 40),\n",
        " (u'Ivan Olovnikov', 40),\n",
        " (u'Atiya Hakeem', 38),\n",
        " (u'Jongmin Nam', 35),\n",
        " (u'Julius Barsi', 35),\n",
        " (u'Oren Schaedel', 33),\n",
        " (u'Fei Yang', 33),\n",
        " (u'Nerissa Hoglen', 30),\n",
        " (u'Unknown', 29),\n",
        " (u'Meenakshi Doma', 29),\n",
        " (u'Libera Berghella', 29),\n",
        " (u'Ryoji Shinya', 29),\n",
        " (u'Henry Amrhein', 28),\n",
        " (u'JJ Kang', 28),\n",
        " (u'Qiang Tu', 27),\n",
        " (u'Jevgenij A. Reskatov', 26),\n",
        " (u'Mitch Guttman', 25),\n",
        " (u'Jordan Meier', 25),\n",
        " (u'Kai Tan', 25),\n",
        " (u'Amy Chow', 25),\n",
        " (u'Joanna Tober', 25),\n",
        " (u'Alex Shishkin', 24),\n",
        " (u'Andrew Medina-Marino', 24),\n",
        " (u'Ryan/Demo', 24),\n",
        " (u'Yuling Jiao', 23),\n",
        " (u'Gilberto (Gigio) Desalvo', 23),\n",
        " (u'Philippos Papathanos', 22),\n",
        " (u'Nancy Speck', 21),\n",
        " (u'Igor Antoshechkin', 21),\n",
        " (u'Howard Xue', 20),\n",
        " (u'Marcos Costa', 19),\n",
        " (u'Jing Zhou', 19),\n",
        " (u'Hiu Chu', 19),\n",
        " (u'Erika Vielmas', 19),\n",
        " (u'Yi-Ju Chen', 18),\n",
        " (u'Evgenij Raskatov', 18),\n",
        " (u'Zach Shao', 18),\n",
        " (u'Katalin Fejes Toth', 17),\n",
        " (u'Yihan', 17),\n",
        " (u'Preeti Ahjua', 16),\n",
        " (u'Katya Rozhavskaya', 16),\n",
        " (u'Marijike Maijenburg', 15),\n",
        " (u'Dubravka Pezic', 15),\n",
        " (u'Felipe Vieceli', 15),\n",
        " (u'Yan Li', 15),\n",
        " (u'Yun Elisabeth Wang', 15),\n",
        " (u'Le Trinh', 14),\n",
        " (u'Holly Beale', 14),\n",
        " (u'Tom Taghon', 14),\n",
        " (u'Sidhartha Goyal', 14),\n",
        " (u'Margaret Ho', 13),\n",
        " (u'Hillel Schwartz', 13),\n",
        " (u'Jagan Srinivasan', 13),\n",
        " (u'Frederick Tan', 12),\n",
        " (u'Adrien Le Thomas', 12),\n",
        " (u'Sarah Cohen', 12),\n",
        " (u'Naomi Kreamer', 12),\n",
        " (u'Nicholas Shikuma', 12),\n",
        " (u'Ali Khoshnan', 11),\n",
        " (u'Evelyn Stuwe', 11),\n",
        " (u'Jonas Ungerback', 10),\n",
        " (u'Sean Gordon', 10),\n",
        " (u'Sandy Nandagopal', 10),\n",
        " (u'Daniel Leighton', 9),\n",
        " (u'Yanran Li', 9),\n",
        " (u'Mati Mann', 8),\n",
        " (u'Allyson Whittaker', 8),\n",
        " (u'Martin Budd', 8),\n",
        " (u'Jerzy Szablowski', 8),\n",
        " (u'Young Bae', 8),\n",
        " (u'Juan Li', 8),\n",
        " (u'Ariel Chen', 8),\n",
        " (u'Arnav Mehta', 8),\n",
        " (u'Alicia Rogers', 8),\n",
        " (u'Elly Chow', 8),\n",
        " (u'Shijia (Wendy) Chen', 8),\n",
        " (u'Tobias Heinen', 7),\n",
        " (u'Stephen Marshall', 6),\n",
        " (u'Nicole Tetreault', 6),\n",
        " (u'Martin Pilhofer', 6),\n",
        " (u'Adam Khan', 6),\n",
        " (u'Ameya Champhekar', 6),\n",
        " (u'Jonathan Young', 6),\n",
        " (u'Benny Zeng/Ali Mortazavi', 6),\n",
        " (u'Hang Yu', 6),\n",
        " (u'Yulan Lin', 6),\n",
        " (u'James Lee', 5),\n",
        " (u'Ian Booth', 5),\n",
        " (u'Satoshi Hirose', 5),\n",
        " (u'Mario Blanco', 5),\n",
        " (u'Mary Yui', 5),\n",
        " (u'Pulin Li', 5),\n",
        " (u'Katie Schaefer', 5),\n",
        " (u'James Locke', 5),\n",
        " (u'Melanie Lee', 5),\n",
        " (u'Sagar Damle', 5),\n",
        " (u'Jim Van Deventer', 4),\n",
        " (u'Hao Yuan Kueh', 4),\n",
        " (u'Klara Stefflova', 4),\n",
        " (u'Peng Gao', 4),\n",
        " (u'Dennis Eastburn', 4),\n",
        " (u'Yutao Qi', 4),\n",
        " (u'Yue Shen', 4),\n",
        " (u'Cajetan Neubauer', 4),\n",
        " (u'Alexis Kurmis', 4),\n",
        " (u'Alexandre Webster', 4),\n",
        " (u'Sreeram Balasubramanian', 4),\n",
        " (u'Chunshik', 4),\n",
        " (u'Clarke Gasper', 4),\n",
        " (u'Haixia Huang', 4),\n",
        " (u'Nikolay Kandul', 4),\n",
        " (u'Avigdor Eldar/Michelle Shah', 4),\n",
        " (u'Andy Cameron', 4),\n",
        " (u'Greg Donaldson', 4),\n",
        " (u'Ken Chan', 3),\n",
        " (u'Yicheng Luo', 3),\n",
        " (u'Scott Saunders', 3),\n",
        " (u'Elizabeth Jensen', 3),\n",
        " (u'Samuel Politz', 3),\n",
        " (u'Sofi Quinodoz', 3),\n",
        " (u'Gary Schindelman', 3),\n",
        " (u'Marc Vermulst', 3),\n",
        " (u'Masakazu Hamada', 3),\n",
        " (u'Snehalata V Kadam', 3),\n",
        " (u'Kyle Costa', 3),\n",
        " (u'Kevin Chau', 3),\n",
        " (u'Fangyuan Ding', 2),\n",
        " (u'Boris Shraiman', 2),\n",
        " (u'William T. Gibson', 2),\n",
        " (u'Amir Sapir', 2),\n",
        " (u'Ned Perkins', 2),\n",
        " (u'Jeremy Sandler', 2),\n",
        " (u'Liang Ma', 2),\n",
        " (u'Michael Grodick', 2),\n",
        " (u'Brian Yu', 2),\n",
        " (u'Ryan Hunter', 2),\n",
        " (u'Hudson-Alpha', 2),\n",
        " (u'David Prober', 2),\n",
        " (u'Tristan', 2),\n",
        " (u'Joel Smith', 2),\n",
        " (u'Jang-Hyun Oh', 2),\n",
        " (u'Ariel Yung-Chia Chen', 1),\n",
        " (u'Jonathan Wanagat', 1),\n",
        " (u'Morgan Beeby', 1),\n",
        " (u'Jon Valencia', 1),\n",
        " (u'Junho Hur', 1),\n",
        " (u'Elizabeth Reichert', 1),\n",
        " (u'Gita Mahmoudabadi', 1),\n",
        " (u'Say-Tar Goh', 1),\n",
        " (u'Natalia VanDuyn', 1),\n",
        " (u'Leah Santat', 1),\n",
        " (u'Thomas Martinez', 1),\n",
        " (u'Eric Matson', 1),\n",
        " (u'Mark Ladinsky', 1),\n",
        " (u'Nikolai Kandul', 1),\n",
        " (u'Anastasia Zabolotneva', 1),\n",
        " (u'Svetlana Ustyugova', 1),\n",
        " (u'Martina Rudgalvyte', 1),\n",
        " (u'Tri Vu', 1)]"
       ]
      }
     ],
     "prompt_number": 31
    },
    {
     "cell_type": "heading",
     "level": 1,
     "metadata": {},
     "source": [
      "Libraries by Affiliation"
     ]
    },
    {
     "cell_type": "markdown",
     "metadata": {},
     "source": [
      "This is number of times an affiliation was attached to a library. This is irrespective of the number of times a library was put on a flowcell."
     ]
    },
    {
     "cell_type": "code",
     "collapsed": false,
     "input": [
      "library_affiliations = collections.Counter()\n",
      "\n",
      "for lib in samples.Library.objects.all():\n",
      "    for affiliation in lib.affiliations.all():\n",
      "        library_affiliations[affiliation.name] += 1"
     ],
     "language": "python",
     "metadata": {},
     "outputs": [],
     "prompt_number": 46
    },
    {
     "cell_type": "code",
     "collapsed": false,
     "input": [
      "library_affiliations.most_common()"
     ],
     "language": "python",
     "metadata": {},
     "outputs": [
      {
       "metadata": {},
       "output_type": "pyout",
       "prompt_number": 47,
       "text": [
        "[(u'Brian Williams', 945),\n",
        " (u'Jingli Zhang', 327),\n",
        " (u'Georgi Marinov', 302),\n",
        " (u'Erich Schwarz', 162),\n",
        " (u'Steven Kuntz', 161),\n",
        " (u'Daniel Kim', 160),\n",
        " (u'Katherine Fisher', 148),\n",
        " (u'Ali Mortazavi', 144),\n",
        " (u'Gordon Kwan', 144),\n",
        " (u'Omar Akbari', 118),\n",
        " (u'Beverley Henley', 113),\n",
        " (u'Anna CT Abelin/Nicole Tetreault', 108),\n",
        " (u'ENCODE', 103),\n",
        " (u'Timur Zhiyentayev', 91),\n",
        " (u'Adam Rosenthal', 81),\n",
        " (u'Jose Luis Riechmann', 81),\n",
        " (u'Vijaya Kumar', 76),\n",
        " (u'Adler Dillman', 73),\n",
        " (u'Gilberto Hernandez', 71),\n",
        " (u'Jongmin Nam', 65),\n",
        " (u'Qiang Tu', 62),\n",
        " (u'Anil Ozdemir', 60),\n",
        " (u'Michael Bethune', 57),\n",
        " (u'MouseENCODE', 53),\n",
        " (u'Marissa Del Real', 52),\n",
        " (u'Ivan Olovnikov', 52),\n",
        " (u'Yen-Ping Hsueh', 52),\n",
        " (u'Julius Barsi', 50),\n",
        " (u'Dev Majumdar', 49),\n",
        " (u'Megan Bergkessel', 48),\n",
        " (u'James Puckett', 44),\n",
        " (u'Fei Yang', 43),\n",
        " (u'Nerissa Hoglen', 42),\n",
        " (u'Stephanie Barnes', 41),\n",
        " (u'Libera Berghella', 41),\n",
        " (u'Garry Wong', 41),\n",
        " (u'Ryan/Demo', 40),\n",
        " (u'Oren Schaedel', 38),\n",
        " (u'ENCODE_Tier3', 38),\n",
        " (u'ENCODE_Tier1', 37),\n",
        " (u'Atiya Hakeem', 36),\n",
        " (u'Yihan', 35),\n",
        " (u'Gilberto (Gigio) Desalvo', 35),\n",
        " (u'Jordan Meier', 34),\n",
        " (u'Edoardo Marcora', 33),\n",
        " (u'Dubravka Pezic', 32),\n",
        " (u'Tony Kirilusha', 31),\n",
        " (u'Meenakshi Doma', 29),\n",
        " (u'JJ Kang', 29),\n",
        " (u'Marcos Costa', 28),\n",
        " (u'Jevgenij A. Reskatov', 28),\n",
        " (u'Ryoji Shinya', 27),\n",
        " (u'ENCODE_Tier2', 26),\n",
        " (u'Amy Chow', 25),\n",
        " (u'Mitch Guttman', 25),\n",
        " (u'Kai Tan', 25),\n",
        " (u'Igor Antoshechkin', 25),\n",
        " (u'Philippos Papathanos', 25),\n",
        " (u'Joanna Tober', 25),\n",
        " (u'Evgenij Raskatov', 24),\n",
        " (u'Alex Shishkin', 24),\n",
        " (u'Hiu Chu', 23),\n",
        " (u'Ali Khoshnan', 22),\n",
        " (u'Nancy Speck', 21),\n",
        " (u'Jagan Srinivasan', 21),\n",
        " (u'Erika Vielmas', 21),\n",
        " (u'Ariel Chen', 20),\n",
        " (u'Henry Amrhein', 20),\n",
        " (u'Howard Xue', 20),\n",
        " (u'Adrien Le Thomas', 19),\n",
        " (u'Jing Zhou', 19),\n",
        " (u'Yun Elisabeth Wang', 19),\n",
        " (u'Yuling Jiao', 18),\n",
        " (u'Zach Shao', 18),\n",
        " (u'Katya Rozhavskaya', 16),\n",
        " (u'Andrew Medina-Marino', 16),\n",
        " (u'Andy Cameron', 16),\n",
        " (u'Katalin Fejes Toth', 15),\n",
        " (u'Marijike Maijenburg', 15),\n",
        " (u'Yan Li', 15),\n",
        " (u'Hillel Schwartz', 15),\n",
        " (u'Felipe Vieceli', 15),\n",
        " (u'Margaret Ho', 14),\n",
        " (u'Preeti Ahjua', 14),\n",
        " (u'Le Trinh', 14),\n",
        " (u'Tobias Heinen', 14),\n",
        " (u'Tom Taghon', 14),\n",
        " (u'Allyson Whittaker', 13),\n",
        " (u'Sidhartha Goyal', 13),\n",
        " (u'Young Bae', 12),\n",
        " (u'Frederick Tan', 12),\n",
        " (u'Sarah Cohen', 12),\n",
        " (u'Naomi Kreamer', 12),\n",
        " (u'Nicholas Shikuma', 12),\n",
        " (u'Jonas Ungerback', 10),\n",
        " (u'Sandy Nandagopal', 10),\n",
        " (u'Evelyn Stuwe', 10),\n",
        " (u'Alicia Rogers', 10),\n",
        " (u'Haixia Huang', 10),\n",
        " (u'Sean Gordon', 10),\n",
        " (u'Yi-Ju Chen', 9),\n",
        " (u'Daniel Leighton', 9),\n",
        " (u'Martin Budd', 8),\n",
        " (u'Jim Van Deventer', 8),\n",
        " (u'Clarke Gasper', 8),\n",
        " (u'Jerzy Szablowski', 8),\n",
        " (u'Martin Pilhofer', 8),\n",
        " (u'Yanran Li', 8),\n",
        " (u'Juan Li', 8),\n",
        " (u'Nikolay Kandul', 8),\n",
        " (u'Mati Mann', 8),\n",
        " (u'Arnav Mehta', 8),\n",
        " (u'Elly Chow', 8),\n",
        " (u'Shijia (Wendy) Chen', 8),\n",
        " (u'Satoshi Hirose', 7),\n",
        " (u'Anna Kogler', 7),\n",
        " (u'Avigdor Eldar/Michelle Shah', 7),\n",
        " (u'James Lee', 6),\n",
        " (u'Stephen Marshall', 6),\n",
        " (u'Ian Booth', 6),\n",
        " (u'Adam Khan', 6),\n",
        " (u'Holly Beale', 6),\n",
        " (u'Ameya Champhekar', 6),\n",
        " (u'Jonathan Young', 6),\n",
        " (u'Benny Zeng/Ali Mortazavi', 6),\n",
        " (u'Marc Vermulst', 6),\n",
        " (u'Hang Yu', 6),\n",
        " (u'James Locke', 6),\n",
        " (u'Yulan Lin', 6),\n",
        " (u'Kevin Chau', 6),\n",
        " (u'Hudson-Alpha', 6),\n",
        " (u'Mario Blanco', 5),\n",
        " (u'Mary Yui', 5),\n",
        " (u'Pulin Li', 5),\n",
        " (u'Katie Schaefer', 5),\n",
        " (u'Melanie Lee', 5),\n",
        " (u'Sagar Damle', 5),\n",
        " (u'Hao Yuan Kueh', 4),\n",
        " (u'Dennis Eastburn', 4),\n",
        " (u'Yue Shen', 4),\n",
        " (u'Yutao Qi', 4),\n",
        " (u'Cajetan Neubauer', 4),\n",
        " (u'Alexis Kurmis', 4),\n",
        " (u'Alexandre Webster', 4),\n",
        " (u'Sreeram Balasubramanian', 4),\n",
        " (u'Chunshik', 4),\n",
        " (u'Peng Gao', 4),\n",
        " (u'Klara Stefflova', 4),\n",
        " (u'Greg Donaldson', 4),\n",
        " (u'Unknown', 3),\n",
        " (u'Nicole Tetreault', 3),\n",
        " (u'Ken Chan', 3),\n",
        " (u'Snehalata V Kadam', 3),\n",
        " (u'Yicheng Luo', 3),\n",
        " (u'Scott Saunders', 3),\n",
        " (u'Samuel Politz', 3),\n",
        " (u'Amir Sapir', 3),\n",
        " (u'Elizabeth Jensen', 3),\n",
        " (u'Masakazu Hamada', 3),\n",
        " (u'Kyle Costa', 3),\n",
        " (u'Sofi Quinodoz', 3),\n",
        " (u'Mark Ladinsky', 3),\n",
        " (u'Morgan Beeby', 2),\n",
        " (u'Jon Valencia', 2),\n",
        " (u'Fangyuan Ding', 2),\n",
        " (u'Boris Shraiman', 2),\n",
        " (u'William T. Gibson', 2),\n",
        " (u'Eric Matson', 2),\n",
        " (u'Gary Schindelman', 2),\n",
        " (u'Ned Perkins', 2),\n",
        " (u'Jeremy Sandler', 2),\n",
        " (u'Nikolai Kandul', 2),\n",
        " (u'Liang Ma', 2),\n",
        " (u'Michael Grodick', 2),\n",
        " (u'Brian Yu', 2),\n",
        " (u'Ryan Hunter', 2),\n",
        " (u'David Prober', 2),\n",
        " (u'Thomas Martinez', 2),\n",
        " (u'Jang-Hyun Oh', 2),\n",
        " (u'Ariel Yung-Chia Chen', 1),\n",
        " (u'Jonathan Wanagat', 1),\n",
        " (u'Junho Hur', 1),\n",
        " (u'Elizabeth Reichert', 1),\n",
        " (u'Gita Mahmoudabadi', 1),\n",
        " (u'Natalia VanDuyn', 1),\n",
        " (u'Leah Santat', 1),\n",
        " (u'Anastasia Zabolotneva', 1),\n",
        " (u'Svetlana Ustyugova', 1),\n",
        " (u'Tristan', 1),\n",
        " (u'Martina Rudgalvyte', 1),\n",
        " (u'Say-Tar Goh', 1),\n",
        " (u'Joel Smith', 1),\n",
        " (u'Tri Vu', 1)]"
       ]
      }
     ],
     "prompt_number": 47
    },
    {
     "cell_type": "code",
     "collapsed": false,
     "input": [
      "lib"
     ],
     "language": "python",
     "metadata": {},
     "outputs": [
      {
       "metadata": {},
       "output_type": "pyout",
       "prompt_number": 48,
       "text": [
        "<Library: #02970: Paired Ends GM12892 rep2 Hudson Alpha SL2970>"
       ]
      }
     ],
     "prompt_number": 48
    },
    {
     "cell_type": "code",
     "collapsed": false,
     "input": [
      "lib.made_for"
     ],
     "language": "python",
     "metadata": {},
     "outputs": [
      {
       "metadata": {},
       "output_type": "pyout",
       "prompt_number": 50,
       "text": [
        "u''"
       ]
      }
     ],
     "prompt_number": 50
    },
    {
     "cell_type": "code",
     "collapsed": false,
     "input": [],
     "language": "python",
     "metadata": {},
     "outputs": []
    }
   ],
   "metadata": {}
  }
 ]
}