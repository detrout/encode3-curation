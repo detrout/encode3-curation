{
 "cells": [
  {
   "cell_type": "markdown",
   "metadata": {},
   "source": [
    "Cricket sent me a list of resources that don't have proper read lengths.\n",
    "\n",
    "I cheated in this notebook and just used the cycle number from the submitted filename."
   ]
  },
  {
   "cell_type": "code",
   "execution_count": 18,
   "metadata": {
    "collapsed": true
   },
   "outputs": [],
   "source": [
    "import pandas\n",
    "import numpy\n",
    "import RDF\n",
    "import os"
   ]
  },
  {
   "cell_type": "code",
   "execution_count": 2,
   "metadata": {
    "collapsed": true
   },
   "outputs": [],
   "source": [
    "from curation_common import *"
   ]
  },
  {
   "cell_type": "code",
   "execution_count": 3,
   "metadata": {
    "collapsed": true
   },
   "outputs": [],
   "source": [
    "server = ENCODED('www.encodeproject.org')\n",
    "server.load_netrc()"
   ]
  },
  {
   "cell_type": "code",
   "execution_count": 5,
   "metadata": {
    "collapsed": true
   },
   "outputs": [],
   "source": [
    "search = server.get_json('https://www.encodeproject.org/search/?type=experiment&award.rfa=ENCODE3&lab.title=Thomas+Gingeras%2C+CSHL&lab.title=Barbara+Wold%2C+Caltech&audit.ERROR.category=missing%20read_length%3Chttps://www.encodeproject.org/search/?type=experiment&award.rfa=ENCODE3&lab.title=Thomas+Gingeras,+CSHL&lab.title=Barbara+Wold,+Caltech&audit.ERROR.category=missing%20read_length')"
   ]
  },
  {
   "cell_type": "code",
   "execution_count": 8,
   "metadata": {
    "collapsed": true
   },
   "outputs": [],
   "source": [
    "model = get_model(use_contexts=False)"
   ]
  },
  {
   "cell_type": "code",
   "execution_count": 9,
   "metadata": {
    "collapsed": false
   },
   "outputs": [
    {
     "name": "stdout",
     "output_type": "stream",
     "text": [
      "/experiments/ENCSR822EWO/\n",
      "/experiments/ENCSR805QYO/\n",
      "/experiments/ENCSR388ZNJ/\n"
     ]
    }
   ],
   "source": [
    "for experiment in search['@graph']:\n",
    "    print(experiment['@id'])\n",
    "    load_jsonld_into_model(model, server.get_jsonld(experiment['@id']))"
   ]
  },
  {
   "cell_type": "code",
   "execution_count": 17,
   "metadata": {
    "collapsed": false
   },
   "outputs": [],
   "source": [
    "%%sparql -m model -o filenames\n",
    "select ?experiment ?file ?name\n",
    "where {\n",
    "    ?experiment a experiment:experiment ;\n",
    "                experiment:files ?file .\n",
    "    ?file file:submitted_file_name ?name .\n",
    "}"
   ]
  },
  {
   "cell_type": "code",
   "execution_count": 29,
   "metadata": {
    "collapsed": false
   },
   "outputs": [
    {
     "name": "stdout",
     "output_type": "stream",
     "text": [
      "https://www.encodeproject.org/files/ENCFF046VFM/ 116\n",
      "{'@graph': [{'uuid': 'ffea17f3-6472-4d41-98a5-2a1fe61dd3c3', '@id': '/files/ENCFF046VFM/', 'output_type': 'reads', 'date_created': '2015-06-26T03:15:35.642588+00:00', 'dataset': '/experiments/ENCSR822EWO/', 'title': 'ENCFF046VFM', 'read_length': 116, 'file_type': 'fastq', 'read_length_units': 'nt', 'submitted_by': '/users/bc5b62f7-ce28-4a1e-b6b3-81c9c5a86d7a/', 'file_format': 'fastq', 'aliases': [], 'lab': '/labs/barbara-wold/', 'file_size': 595608963, 'output_category': 'raw data', 'md5sum': '0cbe8b457a525d37463d9acde0b71e66', 'quality_metrics': [], 'flowcell_details': [{'barcode': 'N703-N501:AGGCAGAA-TAGATCGC', 'lane': '1', 'flowcell': 'HANWAADXX', 'machine': 'http://jumpgate.caltech.edu/sequencer/8'}], 'dbxrefs': [], 'platform': '/platforms/OBI%3A0002002/', '@type': ['file', 'item'], 'href': '/files/ENCFF046VFM/@@download/ENCFF046VFM.fastq.gz', 'submitted_file_name': '13445-LCMD-503_Mm_Castaneus_x_C57Bl-granule-layer-area-dissection/13445_HANWAADXX_c116_l1.fastq.gz', 'award': '/awards/U54HG006998/', 'content_md5sum': '7f1729670b2582eb0b58167ab1d67229', 'replicate': '/replicates/387733b1-edcb-4884-bca4-ef26bb1b9a8d/', 'accession': 'ENCFF046VFM', 'alternate_accessions': [], 'schema_version': '6', 'status': 'in progress'}], '@type': ['result'], 'status': 'success'}\n",
      "https://www.encodeproject.org/files/ENCFF341IIC/ 116\n",
      "{'@graph': [{'uuid': '061b2787-03cb-4d91-b399-42b70077b66c', '@id': '/files/ENCFF341IIC/', 'output_type': 'reads', 'date_created': '2015-06-26T03:16:01.980729+00:00', 'dataset': '/experiments/ENCSR822EWO/', 'title': 'ENCFF341IIC', 'read_length': 116, 'file_type': 'fastq', 'read_length_units': 'nt', 'submitted_by': '/users/bc5b62f7-ce28-4a1e-b6b3-81c9c5a86d7a/', 'file_format': 'fastq', 'aliases': [], 'lab': '/labs/barbara-wold/', 'file_size': 1106057922, 'output_category': 'raw data', 'quality_metrics': [], 'flowcell_details': [{'barcode': 'N704-N501:TCCTGAGC-TAGATCGC', 'lane': '1', 'flowcell': 'HANWAADXX', 'machine': 'http://jumpgate.caltech.edu/sequencer/8'}], 'dbxrefs': [], 'platform': '/platforms/OBI%3A0002002/', '@type': ['file', 'item'], 'replicate': '/replicates/3d6b0e2d-2a95-47a3-a92c-abd81e67e29a/', 'href': '/files/ENCFF341IIC/@@download/ENCFF341IIC.fastq.gz', 'submitted_file_name': '13446-LCMD-504_Mm_Castaneus_x_C57Bl-granule-layer-area-dissection/13446_HANWAADXX_c116_l1.fastq.gz', 'award': '/awards/U54HG006998/', 'content_md5sum': '644ae53e4364daeb0565a80a0d9a65c8', 'md5sum': 'aaddc0ad9ef00748c0e666b2c9cf1254', 'accession': 'ENCFF341IIC', 'alternate_accessions': [], 'schema_version': '6', 'status': 'in progress'}], '@type': ['result'], 'status': 'success'}\n",
      "https://www.encodeproject.org/files/ENCFF297ICV/ 116\n",
      "{'@graph': [{'uuid': 'd487f31b-f83f-426f-8486-00fd682e6353', '@id': '/files/ENCFF297ICV/', 'output_type': 'reads', 'date_created': '2015-06-26T03:15:46.332662+00:00', 'dataset': '/experiments/ENCSR822EWO/', 'title': 'ENCFF297ICV', 'read_length': 116, 'file_type': 'fastq', 'read_length_units': 'nt', 'submitted_by': '/users/bc5b62f7-ce28-4a1e-b6b3-81c9c5a86d7a/', 'file_format': 'fastq', 'aliases': [], 'quality_metrics': [], 'file_size': 1110027927, 'output_category': 'raw data', 'lab': '/labs/barbara-wold/', 'award': '/awards/U54HG006998/', 'accession': 'ENCFF297ICV', 'platform': '/platforms/OBI%3A0002002/', '@type': ['file', 'item'], 'replicate': '/replicates/3d6b0e2d-2a95-47a3-a92c-abd81e67e29a/', 'href': '/files/ENCFF297ICV/@@download/ENCFF297ICV.fastq.gz', 'submitted_file_name': '13446-LCMD-504_Mm_Castaneus_x_C57Bl-granule-layer-area-dissection/13446_HANWAADXX_c116_l2.fastq.gz', 'dbxrefs': [], 'content_md5sum': '28cd72102c4db06e4665b52ed40f6347', 'schema_version': '6', 'flowcell_details': [{'barcode': 'N704-N501:TCCTGAGC-TAGATCGC', 'lane': '2', 'machine': 'http://jumpgate.caltech.edu/sequencer/8', 'flowcell': 'HANWAADXX'}], 'alternate_accessions': [], 'md5sum': 'a7914cea2db1f505b25e9f00ec865100', 'status': 'in progress'}], '@type': ['result'], 'status': 'success'}\n",
      "https://www.encodeproject.org/files/ENCFF579AGL/ 116\n",
      "{'@graph': [{'uuid': 'ce12b512-42b9-48f6-8b67-e5cf46bf171b', '@id': '/files/ENCFF579AGL/', 'output_type': 'reads', 'date_created': '2015-06-26T03:15:24.705160+00:00', 'dataset': '/experiments/ENCSR822EWO/', 'title': 'ENCFF579AGL', 'read_length': 116, 'file_type': 'fastq', 'read_length_units': 'nt', 'submitted_by': '/users/bc5b62f7-ce28-4a1e-b6b3-81c9c5a86d7a/', 'file_format': 'fastq', 'aliases': [], 'lab': '/labs/barbara-wold/', 'file_size': 593891635, 'output_category': 'raw data', 'quality_metrics': [], 'flowcell_details': [{'barcode': 'N703-N501:AGGCAGAA-TAGATCGC', 'lane': '2', 'flowcell': 'HANWAADXX', 'machine': 'http://jumpgate.caltech.edu/sequencer/8'}], 'dbxrefs': [], 'platform': '/platforms/OBI%3A0002002/', '@type': ['file', 'item'], 'replicate': '/replicates/387733b1-edcb-4884-bca4-ef26bb1b9a8d/', 'href': '/files/ENCFF579AGL/@@download/ENCFF579AGL.fastq.gz', 'submitted_file_name': '13445-LCMD-503_Mm_Castaneus_x_C57Bl-granule-layer-area-dissection/13445_HANWAADXX_c116_l2.fastq.gz', 'award': '/awards/U54HG006998/', 'content_md5sum': 'b623256b9a4f9b832c5afc56f67549c0', 'md5sum': '8c68c7cd761ce5276cc237e6be256476', 'accession': 'ENCFF579AGL', 'alternate_accessions': [], 'schema_version': '6', 'status': 'in progress'}], '@type': ['result'], 'status': 'success'}\n",
      "https://www.encodeproject.org/files/ENCFF569BYW/ 108\n",
      "{'@graph': [{'uuid': '8783eb18-af73-4ed8-a808-c422d2d4b1f6', '@id': '/files/ENCFF569BYW/', 'output_type': 'reads', 'date_created': '2015-06-26T03:16:18.218891+00:00', 'dataset': '/experiments/ENCSR822EWO/', 'title': 'ENCFF569BYW', 'read_length': 108, 'file_type': 'fastq', 'read_length_units': 'nt', 'submitted_by': '/users/bc5b62f7-ce28-4a1e-b6b3-81c9c5a86d7a/', 'file_format': 'fastq', 'aliases': [], 'lab': '/labs/barbara-wold/', 'file_size': 1209986019, 'output_category': 'raw data', 'md5sum': '97b7add965c61dbb3d55f9f0f176d4a9', 'quality_metrics': [], 'flowcell_details': [{'barcode': 'N704-N501:TCCTGAGC-TAGATCGC', 'lane': '7', 'flowcell': 'D1L1DACXX', 'machine': 'http://jumpgate.caltech.edu/sequencer/4'}], 'dbxrefs': [], 'platform': '/platforms/OBI%3A0002001/', '@type': ['file', 'item'], 'href': '/files/ENCFF569BYW/@@download/ENCFF569BYW.fastq.gz', 'submitted_file_name': '13446-LCMD-504_Mm_Castaneus_x_C57Bl-granule-layer-area-dissection/13446_D1L1DACXX_c108_l7.fastq.gz', 'award': '/awards/U54HG006998/', 'content_md5sum': 'ab3b9a2a3883ec80a40db01c519df067', 'replicate': '/replicates/3d6b0e2d-2a95-47a3-a92c-abd81e67e29a/', 'accession': 'ENCFF569BYW', 'alternate_accessions': [], 'schema_version': '6', 'status': 'in progress'}], '@type': ['result'], 'status': 'success'}\n",
      "https://www.encodeproject.org/files/ENCFF576QZW/ 116\n",
      "{'@graph': [{'uuid': 'bc553a97-8abd-4ad0-ae81-5671601af0c4', '@id': '/files/ENCFF576QZW/', 'output_type': 'reads', 'date_created': '2015-06-26T03:13:55.750253+00:00', 'file_size': 676477494, 'dataset': '/experiments/ENCSR805QYO/', 'title': 'ENCFF576QZW', 'read_length': 116, 'file_type': 'fastq', 'read_length_units': 'nt', 'submitted_by': '/users/bc5b62f7-ce28-4a1e-b6b3-81c9c5a86d7a/', 'file_format': 'fastq', 'aliases': [], 'quality_metrics': [], 'accession': 'ENCFF576QZW', 'output_category': 'raw data', 'md5sum': '965abd595b5285b637743c1d6a762ac6', 'lab': '/labs/barbara-wold/', 'dbxrefs': [], 'platform': '/platforms/OBI%3A0002002/', '@type': ['file', 'item'], 'href': '/files/ENCFF576QZW/@@download/ENCFF576QZW.fastq.gz', 'submitted_file_name': '13443-LCMD-501_Mm_Castaneus_x_C57Bl-Purkinje-30-pool/13443_HANWAADXX_c116_l2.fastq.gz', 'award': '/awards/U54HG006998/', 'content_md5sum': '432e75da3b2b9a21e563806afd39d55c', 'replicate': '/replicates/231cba46-f29b-4af5-88f1-58b417def3da/', 'flowcell_details': [{'barcode': 'N701-N504:TAAGGCGA-AGAGTAGA', 'lane': '2', 'machine': 'http://jumpgate.caltech.edu/sequencer/8', 'flowcell': 'HANWAADXX'}], 'alternate_accessions': [], 'schema_version': '6', 'status': 'in progress'}], '@type': ['result'], 'status': 'success'}\n",
      "https://www.encodeproject.org/files/ENCFF069MCR/ 108\n",
      "{'@graph': [{'uuid': '76608bb1-98c5-4af8-a1ac-a98a111f9e36', '@id': '/files/ENCFF069MCR/', 'output_type': 'reads', 'date_created': '2015-06-26T03:14:08.922393+00:00', 'dataset': '/experiments/ENCSR805QYO/', 'title': 'ENCFF069MCR', 'read_length': 108, 'file_type': 'fastq', 'read_length_units': 'nt', 'submitted_by': '/users/bc5b62f7-ce28-4a1e-b6b3-81c9c5a86d7a/', 'file_format': 'fastq', 'aliases': [], 'quality_metrics': [], 'file_size': 2072890796, 'output_category': 'raw data', 'lab': '/labs/barbara-wold/', 'award': '/awards/U54HG006998/', 'accession': 'ENCFF069MCR', 'platform': '/platforms/OBI%3A0002001/', '@type': ['file', 'item'], 'replicate': '/replicates/09a3e0aa-a3d8-4d5a-b87c-ef74acaa3ca4/', 'href': '/files/ENCFF069MCR/@@download/ENCFF069MCR.fastq.gz', 'submitted_file_name': '13444-LCMD-502_Mm_Castaneus_x_C57Bl-Purkinje-30-pool/13444_D1L1DACXX_c108_l8.fastq.gz', 'dbxrefs': [], 'content_md5sum': '5dbf7f59e445a7fc74898efedf500483', 'schema_version': '6', 'flowcell_details': [{'barcode': 'N702-N504:CGTACTAG-AGAGTAGA', 'lane': '8', 'machine': 'http://jumpgate.caltech.edu/sequencer/4', 'flowcell': 'D1L1DACXX'}], 'alternate_accessions': [], 'md5sum': '958241e9aff0b8fca70af150971628fb', 'status': 'in progress'}], '@type': ['result'], 'status': 'success'}\n",
      "https://www.encodeproject.org/files/ENCFF629JMN/ 116\n",
      "{'@graph': [{'uuid': '87514807-069e-4b9f-a8be-126e4980c856', '@id': '/files/ENCFF629JMN/', 'output_type': 'reads', 'date_created': '2015-06-26T03:13:14.718129+00:00', 'dataset': '/experiments/ENCSR805QYO/', 'title': 'ENCFF629JMN', 'read_length': 116, 'file_type': 'fastq', 'read_length_units': 'nt', 'submitted_by': '/users/bc5b62f7-ce28-4a1e-b6b3-81c9c5a86d7a/', 'file_format': 'fastq', 'schema_version': '6', 'aliases': [], 'quality_metrics': [], 'file_size': 679834192, 'output_category': 'raw data', 'lab': '/labs/barbara-wold/', 'flowcell_details': [{'barcode': 'N701-N504:TAAGGCGA-AGAGTAGA', 'lane': '1', 'flowcell': 'HANWAADXX', 'machine': 'http://jumpgate.caltech.edu/sequencer/8'}], 'dbxrefs': [], 'platform': '/platforms/OBI%3A0002002/', '@type': ['file', 'item'], 'href': '/files/ENCFF629JMN/@@download/ENCFF629JMN.fastq.gz', 'submitted_file_name': '13443-LCMD-501_Mm_Castaneus_x_C57Bl-Purkinje-30-pool/13443_HANWAADXX_c116_l1.fastq.gz', 'award': '/awards/U54HG006998/', 'content_md5sum': '0eec71314b25b4319303c7661d9aa4e5', 'md5sum': '98f3f8a3b125bc1a98e79270cc04235a', 'accession': 'ENCFF629JMN', 'alternate_accessions': [], 'replicate': '/replicates/231cba46-f29b-4af5-88f1-58b417def3da/', 'status': 'in progress'}], '@type': ['result'], 'status': 'success'}\n",
      "https://www.encodeproject.org/files/ENCFF113ELN/ 108\n",
      "{'@graph': [{'uuid': '701ef254-cedf-4ab7-83e7-e24e7fb21c98', '@id': '/files/ENCFF113ELN/', 'output_type': 'reads', 'date_created': '2015-06-26T03:13:26.394691+00:00', 'dataset': '/experiments/ENCSR805QYO/', 'title': 'ENCFF113ELN', 'read_length': 108, 'file_type': 'fastq', 'read_length_units': 'nt', 'submitted_by': '/users/bc5b62f7-ce28-4a1e-b6b3-81c9c5a86d7a/', 'file_format': 'fastq', 'aliases': [], 'lab': '/labs/barbara-wold/', 'file_size': 2366361900, 'output_category': 'raw data', 'quality_metrics': [], 'flowcell_details': [{'barcode': 'N701-N504:TAAGGCGA-AGAGTAGA', 'lane': '8', 'flowcell': 'D1L1DACXX', 'machine': 'http://jumpgate.caltech.edu/sequencer/4'}], 'dbxrefs': [], 'platform': '/platforms/OBI%3A0002001/', '@type': ['file', 'item'], 'replicate': '/replicates/231cba46-f29b-4af5-88f1-58b417def3da/', 'href': '/files/ENCFF113ELN/@@download/ENCFF113ELN.fastq.gz', 'submitted_file_name': '13443-LCMD-501_Mm_Castaneus_x_C57Bl-Purkinje-30-pool/13443_D1L1DACXX_c108_l8.fastq.gz', 'award': '/awards/U54HG006998/', 'content_md5sum': '9c98b42d0e439761eb5fd1ea837bae94', 'md5sum': '45c3d3c83857b6b407fa2952af459997', 'accession': 'ENCFF113ELN', 'alternate_accessions': [], 'schema_version': '6', 'status': 'in progress'}], '@type': ['result'], 'status': 'success'}\n",
      "https://www.encodeproject.org/files/ENCFF034JVM/ 116\n",
      "{'@graph': [{'uuid': '260f7b51-ad95-4681-afff-101cb28f51e8', '@id': '/files/ENCFF034JVM/', 'output_type': 'reads', 'date_created': '2015-06-26T03:14:35.089114+00:00', 'dataset': '/experiments/ENCSR805QYO/', 'title': 'ENCFF034JVM', 'read_length': 116, 'file_type': 'fastq', 'read_length_units': 'nt', 'submitted_by': '/users/bc5b62f7-ce28-4a1e-b6b3-81c9c5a86d7a/', 'file_format': 'fastq', 'aliases': [], 'lab': '/labs/barbara-wold/', 'file_size': 712401689, 'output_category': 'raw data', 'md5sum': 'e43c9a26dd2e643a24ba151c56629058', 'quality_metrics': [], 'flowcell_details': [{'barcode': 'N702-N504:CGTACTAG-AGAGTAGA', 'lane': '2', 'flowcell': 'HAUJ6ADXX', 'machine': 'http://jumpgate.caltech.edu/sequencer/8'}], 'dbxrefs': [], 'platform': '/platforms/OBI%3A0002002/', '@type': ['file', 'item'], 'href': '/files/ENCFF034JVM/@@download/ENCFF034JVM.fastq.gz', 'submitted_file_name': '13444-LCMD-502_Mm_Castaneus_x_C57Bl-Purkinje-30-pool/13444_HAUJ6ADXX_c116_l2.fastq.gz', 'award': '/awards/U54HG006998/', 'content_md5sum': '548b41cfdab5e5367beb8459c47faa9e', 'replicate': '/replicates/09a3e0aa-a3d8-4d5a-b87c-ef74acaa3ca4/', 'accession': 'ENCFF034JVM', 'alternate_accessions': [], 'schema_version': '6', 'status': 'in progress'}], '@type': ['result'], 'status': 'success'}\n",
      "https://www.encodeproject.org/files/ENCFF416RYX/ 116\n",
      "{'@graph': [{'uuid': '502e61e3-31c3-4169-b388-b494c30ccb8e', '@id': '/files/ENCFF416RYX/', 'output_type': 'reads', 'date_created': '2015-06-26T03:14:45.000332+00:00', 'dataset': '/experiments/ENCSR805QYO/', 'title': 'ENCFF416RYX', 'read_length': 116, 'file_type': 'fastq', 'read_length_units': 'nt', 'submitted_by': '/users/bc5b62f7-ce28-4a1e-b6b3-81c9c5a86d7a/', 'file_format': 'fastq', 'aliases': [], 'quality_metrics': [], 'file_size': 715514706, 'output_category': 'raw data', 'lab': '/labs/barbara-wold/', 'award': '/awards/U54HG006998/', 'accession': 'ENCFF416RYX', 'platform': '/platforms/OBI%3A0002002/', '@type': ['file', 'item'], 'replicate': '/replicates/09a3e0aa-a3d8-4d5a-b87c-ef74acaa3ca4/', 'href': '/files/ENCFF416RYX/@@download/ENCFF416RYX.fastq.gz', 'submitted_file_name': '13444-LCMD-502_Mm_Castaneus_x_C57Bl-Purkinje-30-pool/13444_HAUJ6ADXX_c116_l1.fastq.gz', 'dbxrefs': [], 'content_md5sum': '8dd524df301bccec60ed3427ba524099', 'schema_version': '6', 'flowcell_details': [{'barcode': 'N702-N504:CGTACTAG-AGAGTAGA', 'lane': '1', 'machine': 'http://jumpgate.caltech.edu/sequencer/8', 'flowcell': 'HAUJ6ADXX'}], 'alternate_accessions': [], 'md5sum': 'a200fe4f79b69a508dafd2887e4388e5', 'status': 'in progress'}], '@type': ['result'], 'status': 'success'}\n",
      "https://www.encodeproject.org/files/ENCFF049EBF/ 116\n",
      "{'@graph': [{'uuid': 'f3dc7d50-5302-4fe1-91f1-046617adbd8a', '@id': '/files/ENCFF049EBF/', 'output_type': 'reads', 'date_created': '2015-06-26T02:59:25.360364+00:00', 'dataset': '/experiments/ENCSR388ZNJ/', 'title': 'ENCFF049EBF', 'read_length': 116, 'file_type': 'fastq', 'read_length_units': 'nt', 'submitted_by': '/users/bc5b62f7-ce28-4a1e-b6b3-81c9c5a86d7a/', 'file_format': 'fastq', 'aliases': [], 'lab': '/labs/barbara-wold/', 'file_size': 1972600501, 'output_category': 'raw data', 'quality_metrics': [], 'flowcell_details': [{'barcode': 'N703-N502:AGGCAGAA-CTCTCTAT', 'lane': '2', 'flowcell': 'H00EWBCXX', 'machine': 'http://jumpgate.caltech.edu/sequencer/8'}], 'dbxrefs': [], 'platform': '/platforms/OBI%3A0002002/', '@type': ['file', 'item'], 'replicate': '/replicates/a37a8cff-5bf7-47fc-b9a0-fa2aafebb9c3/', 'href': '/files/ENCFF049EBF/@@download/ENCFF049EBF.fastq.gz', 'submitted_file_name': '15096-paired-end-human_liver_STL010_10ngs/15096_H00EWBCXX_c116_l2.fastq.gz', 'award': '/awards/U54HG006998/', 'content_md5sum': '06b35afcfed2fe56c119d528476b9eee', 'md5sum': 'dc6ebb0d608f7603a18a59aa52de6a6d', 'accession': 'ENCFF049EBF', 'alternate_accessions': [], 'schema_version': '6', 'status': 'in progress'}], '@type': ['result'], 'status': 'success'}\n",
      "https://www.encodeproject.org/files/ENCFF373UMT/ 116\n",
      "{'@graph': [{'uuid': '222043c9-8e32-44d2-ad42-0fcd9d7c98ff', '@id': '/files/ENCFF373UMT/', 'output_type': 'reads', 'date_created': '2015-06-26T02:59:46.765322+00:00', 'dataset': '/experiments/ENCSR388ZNJ/', 'title': 'ENCFF373UMT', 'read_length': 116, 'file_type': 'fastq', 'read_length_units': 'nt', 'submitted_by': '/users/bc5b62f7-ce28-4a1e-b6b3-81c9c5a86d7a/', 'file_format': 'fastq', 'schema_version': '6', 'aliases': [], 'quality_metrics': [], 'file_size': 2008788249, 'output_category': 'raw data', 'lab': '/labs/barbara-wold/', 'flowcell_details': [{'barcode': 'N703-N502:AGGCAGAA-CTCTCTAT', 'lane': '1', 'flowcell': 'H00EWBCXX', 'machine': 'http://jumpgate.caltech.edu/sequencer/8'}], 'dbxrefs': [], 'platform': '/platforms/OBI%3A0002002/', '@type': ['file', 'item'], 'href': '/files/ENCFF373UMT/@@download/ENCFF373UMT.fastq.gz', 'submitted_file_name': '15096-paired-end-human_liver_STL010_10ngs/15096_H00EWBCXX_c116_l1.fastq.gz', 'award': '/awards/U54HG006998/', 'content_md5sum': '8188eadf4ba98e936f67955a9ed8c1a3', 'md5sum': 'e5284b3f80a3403a65ff1a1581ea98ea', 'accession': 'ENCFF373UMT', 'alternate_accessions': [], 'replicate': '/replicates/a37a8cff-5bf7-47fc-b9a0-fa2aafebb9c3/', 'status': 'in progress'}], '@type': ['result'], 'status': 'success'}\n",
      "https://www.encodeproject.org/files/ENCFF649YXQ/ 116\n",
      "{'@graph': [{'uuid': 'fdcf8cc0-37b3-4f23-9948-449941bbb274', '@id': '/files/ENCFF649YXQ/', 'output_type': 'reads', 'date_created': '2015-06-26T03:00:07.152050+00:00', 'file_size': 1788471301, 'dataset': '/experiments/ENCSR388ZNJ/', 'title': 'ENCFF649YXQ', 'read_length': 116, 'file_type': 'fastq', 'read_length_units': 'nt', 'submitted_by': '/users/bc5b62f7-ce28-4a1e-b6b3-81c9c5a86d7a/', 'file_format': 'fastq', 'aliases': [], 'quality_metrics': [], 'accession': 'ENCFF649YXQ', 'output_category': 'raw data', 'md5sum': 'ff36c745837ab21d197880d3f5507aed', 'lab': '/labs/barbara-wold/', 'dbxrefs': [], 'platform': '/platforms/OBI%3A0002002/', '@type': ['file', 'item'], 'href': '/files/ENCFF649YXQ/@@download/ENCFF649YXQ.fastq.gz', 'submitted_file_name': '15097-paired-end-human_liver_STL011_10ngs/15097_HCCLHADXX_c116_l1.fastq.gz', 'award': '/awards/U54HG006998/', 'content_md5sum': 'd0471e0ccd5142e779dc0d4448a5f118', 'replicate': '/replicates/384e35e0-74bc-4c00-be81-571a2ca6613f/', 'flowcell_details': [{'barcode': 'N704-N503:TCCTGAGC-TATCCTCT', 'lane': '1', 'machine': 'http://jumpgate.caltech.edu/sequencer/8', 'flowcell': 'HCCLHADXX'}], 'alternate_accessions': [], 'schema_version': '6', 'status': 'in progress'}], '@type': ['result'], 'status': 'success'}\n",
      "https://www.encodeproject.org/files/ENCFF961GKK/ 116\n",
      "{'@graph': [{'uuid': '9bbc4974-9df9-4441-b175-9650ef5dfdb6', '@id': '/files/ENCFF961GKK/', 'output_type': 'reads', 'date_created': '2015-06-26T03:00:25.634589+00:00', 'dataset': '/experiments/ENCSR388ZNJ/', 'title': 'ENCFF961GKK', 'read_length': 116, 'file_type': 'fastq', 'read_length_units': 'nt', 'submitted_by': '/users/bc5b62f7-ce28-4a1e-b6b3-81c9c5a86d7a/', 'file_format': 'fastq', 'aliases': [], 'lab': '/labs/barbara-wold/', 'file_size': 1742073006, 'output_category': 'raw data', 'quality_metrics': [], 'flowcell_details': [{'barcode': 'N704-N503:TCCTGAGC-TATCCTCT', 'lane': '2', 'flowcell': 'HCCLHADXX', 'machine': 'http://jumpgate.caltech.edu/sequencer/8'}], 'dbxrefs': [], 'platform': '/platforms/OBI%3A0002002/', '@type': ['file', 'item'], 'replicate': '/replicates/384e35e0-74bc-4c00-be81-571a2ca6613f/', 'href': '/files/ENCFF961GKK/@@download/ENCFF961GKK.fastq.gz', 'submitted_file_name': '15097-paired-end-human_liver_STL011_10ngs/15097_HCCLHADXX_c116_l2.fastq.gz', 'award': '/awards/U54HG006998/', 'content_md5sum': '92618251c59435a96928cf745fd92323', 'md5sum': 'faf60e62686974877220062b01dee7fd', 'accession': 'ENCFF961GKK', 'alternate_accessions': [], 'schema_version': '6', 'status': 'in progress'}], '@type': ['result'], 'status': 'success'}\n"
     ]
    }
   ],
   "source": [
    "for row in filenames:\n",
    "    _, filename = os.path.split(str(row['name']))\n",
    "    file_accession = str(row['file'])\n",
    "    read_length = int(filename[17:20])\n",
    "    file_object = server.get_json(file_accession)\n",
    "    if 'read_length' not in file_object:\n",
    "        print(file_accession, read_length)\n",
    "        print(server.patch_json(file_accession, {'read_length': read_length}))"
   ]
  },
  {
   "cell_type": "code",
   "execution_count": null,
   "metadata": {
    "collapsed": false
   },
   "outputs": [],
   "source": []
  }
 ],
 "metadata": {
  "kernelspec": {
   "display_name": "Python 3",
   "language": "python",
   "name": "python3"
  },
  "language_info": {
   "codemirror_mode": {
    "name": "ipython",
    "version": 3
   },
   "file_extension": ".py",
   "mimetype": "text/x-python",
   "name": "python",
   "nbconvert_exporter": "python",
   "pygments_lexer": "ipython3",
   "version": "3.4.3+"
  }
 },
 "nbformat": 4,
 "nbformat_minor": 0
}
