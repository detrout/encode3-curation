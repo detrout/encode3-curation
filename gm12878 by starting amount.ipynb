{
 "metadata": {
  "name": "",
  "signature": "sha256:9b375cc72da42d89b1771a9574ce8313dee66c4f579f001e14cfefc72fc9e193"
 },
 "nbformat": 3,
 "nbformat_minor": 0,
 "worksheets": [
  {
   "cells": [
    {
     "cell_type": "markdown",
     "metadata": {},
     "source": [
      "We want to find GM12878s that vary be starting amount size."
     ]
    },
    {
     "cell_type": "code",
     "collapsed": false,
     "input": [
      "from __future__ import print_function\n",
      "import pandas\n",
      "from curation_common import *"
     ],
     "language": "python",
     "metadata": {},
     "outputs": [],
     "prompt_number": 1
    },
    {
     "cell_type": "code",
     "collapsed": false,
     "input": [
      "server = ENCODED('www.encodeproject.org')"
     ],
     "language": "python",
     "metadata": {},
     "outputs": [],
     "prompt_number": 2
    },
    {
     "cell_type": "code",
     "collapsed": false,
     "input": [
      "server.load_netrc()"
     ],
     "language": "python",
     "metadata": {},
     "outputs": [],
     "prompt_number": 3
    },
    {
     "cell_type": "code",
     "collapsed": false,
     "input": [
      "search = server.get_json('/search/?searchTerm=gm12878&type=experiment&lab.title=Barbara Wold, Caltech')"
     ],
     "language": "python",
     "metadata": {},
     "outputs": [],
     "prompt_number": 7
    },
    {
     "cell_type": "code",
     "collapsed": false,
     "input": [
      "experiments = [x['@id'] for x in search['@graph']]"
     ],
     "language": "python",
     "metadata": {},
     "outputs": [],
     "prompt_number": 10
    },
    {
     "cell_type": "code",
     "collapsed": false,
     "input": [
      "len(experiments)"
     ],
     "language": "python",
     "metadata": {},
     "outputs": [
      {
       "metadata": {},
       "output_type": "pyout",
       "prompt_number": 12,
       "text": [
        "19"
       ]
      }
     ],
     "prompt_number": 12
    },
    {
     "cell_type": "code",
     "collapsed": false,
     "input": [
      "model = get_model()"
     ],
     "language": "python",
     "metadata": {},
     "outputs": [],
     "prompt_number": 11
    },
    {
     "cell_type": "code",
     "collapsed": false,
     "input": [
      "for e in experiments:\n",
      "    print(\"loading:\", e)\n",
      "    jsonld = server.get_jsonld(e)\n",
      "    load_jsonld_into_model(model, jsonld)"
     ],
     "language": "python",
     "metadata": {},
     "outputs": [
      {
       "output_type": "stream",
       "stream": "stdout",
       "text": [
        "loading: /experiments/ENCSR000AIZ/\n",
        "loading:"
       ]
      },
      {
       "output_type": "stream",
       "stream": "stdout",
       "text": [
        " /experiments/ENCSR673UIY/\n",
        "loading:"
       ]
      },
      {
       "output_type": "stream",
       "stream": "stdout",
       "text": [
        " /experiments/ENCSR000AJG/\n",
        "loading:"
       ]
      },
      {
       "output_type": "stream",
       "stream": "stdout",
       "text": [
        " /experiments/ENCSR000AJD/\n",
        "loading:"
       ]
      },
      {
       "output_type": "stream",
       "stream": "stdout",
       "text": [
        " /experiments/ENCSR000AEH/\n",
        "loading:"
       ]
      },
      {
       "output_type": "stream",
       "stream": "stdout",
       "text": [
        " /experiments/ENCSR000AEG/\n",
        "loading:"
       ]
      },
      {
       "output_type": "stream",
       "stream": "stdout",
       "text": [
        " /experiments/ENCSR000EYN/\n",
        "loading:"
       ]
      },
      {
       "output_type": "stream",
       "stream": "stdout",
       "text": [
        " /experiments/ENCSR297UBP/\n",
        "loading:"
       ]
      },
      {
       "output_type": "stream",
       "stream": "stdout",
       "text": [
        " /experiments/ENCSR077AZT/\n",
        "loading:"
       ]
      },
      {
       "output_type": "stream",
       "stream": "stdout",
       "text": [
        " /experiments/ENCSR767SOH/\n",
        "loading:"
       ]
      },
      {
       "output_type": "stream",
       "stream": "stdout",
       "text": [
        " /experiments/ENCSR000AJH/\n",
        "loading:"
       ]
      },
      {
       "output_type": "stream",
       "stream": "stdout",
       "text": [
        " /experiments/ENCSR000AIY/\n",
        "loading:"
       ]
      },
      {
       "output_type": "stream",
       "stream": "stdout",
       "text": [
        " /experiments/ENCSR000AJF/\n",
        "loading:"
       ]
      },
      {
       "output_type": "stream",
       "stream": "stdout",
       "text": [
        " /experiments/ENCSR000AJB/\n",
        "loading:"
       ]
      },
      {
       "output_type": "stream",
       "stream": "stdout",
       "text": [
        " /experiments/ENCSR625DPZ/\n",
        "loading:"
       ]
      },
      {
       "output_type": "stream",
       "stream": "stdout",
       "text": [
        " /experiments/ENCSR184CWK/\n",
        "loading:"
       ]
      },
      {
       "output_type": "stream",
       "stream": "stdout",
       "text": [
        " /experiments/ENCSR000AJA/\n",
        "loading:"
       ]
      },
      {
       "output_type": "stream",
       "stream": "stdout",
       "text": [
        " /experiments/ENCSR000AJE/\n",
        "loading:"
       ]
      },
      {
       "output_type": "stream",
       "stream": "stdout",
       "text": [
        " /experiments/ENCSR000AJC/\n"
       ]
      }
     ],
     "prompt_number": 13
    },
    {
     "cell_type": "heading",
     "level": 1,
     "metadata": {},
     "source": [
      "Find related GM12878s"
     ]
    },
    {
     "cell_type": "code",
     "collapsed": false,
     "input": [
      "%%sparql -m model\n",
      "select distinct ?exp ?lib ?aliases ?harvest ?starting ?start_units\n",
      "where {\n",
      "  ?exp experiment:replicates ?rep . \n",
      "  ?rep replicate:library ?lib .\n",
      "  ?lib library:biosample ?bio ;\n",
      "       library:aliases ?aliases .\n",
      "  OPTIONAL { ?bio biosample:culture_harvest_date ?harvest }\n",
      "  OPTIONAL { ?bio biosample:starting_amount ?starting ;\n",
      "                  biosample:starting_amount_units ?start_units . }\n",
      "}\n",
      "order by ?starting"
     ],
     "language": "python",
     "metadata": {},
     "outputs": [
      {
       "html": [
        "<table><tr><td>exp</td><td>lib</td><td>aliases</td><td>harvest</td><td>starting</td><td>start_units</td></tr><tr><td><a href=\"https://www.encodeproject.org/experiments/ENCSR000AEH/\">experiments:ENCSR000AEH/</a></td><td><a href=\"https://www.encodeproject.org/libraries/ENCLB046ZZZ/\">libraries:ENCLB046ZZZ/</a></td><td>barbara-wold:13714</td><td>None</td><td>None</td><td>None</td></tr><tr><td><a href=\"https://www.encodeproject.org/experiments/ENCSR000AEH/\">experiments:ENCSR000AEH/</a></td><td><a href=\"https://www.encodeproject.org/libraries/ENCLB045ZZZ/\">libraries:ENCLB045ZZZ/</a></td><td>barbara-wold:13713</td><td>None</td><td>None</td><td>None</td></tr><tr><td><a href=\"https://www.encodeproject.org/experiments/ENCSR000AEG/\">experiments:ENCSR000AEG/</a></td><td><a href=\"https://www.encodeproject.org/libraries/ENCLB044ZZZ/\">libraries:ENCLB044ZZZ/</a></td><td>barbara-wold:13712</td><td>None</td><td>None</td><td>None</td></tr><tr><td><a href=\"https://www.encodeproject.org/experiments/ENCSR000AEG/\">experiments:ENCSR000AEG/</a></td><td><a href=\"https://www.encodeproject.org/libraries/ENCLB043ZZZ/\">libraries:ENCLB043ZZZ/</a></td><td>barbara-wold:13711</td><td>None</td><td>None</td><td>None</td></tr><tr><td><a href=\"https://www.encodeproject.org/experiments/ENCSR000EYN/\">experiments:ENCSR000EYN/</a></td><td><a href=\"https://www.encodeproject.org/libraries/ENCLB700LMU/\">libraries:ENCLB700LMU/</a></td><td>barbara-wold:10565</td><td>None</td><td>None</td><td>None</td></tr><tr><td><a href=\"https://www.encodeproject.org/experiments/ENCSR000EYN/\">experiments:ENCSR000EYN/</a></td><td><a href=\"https://www.encodeproject.org/libraries/ENCLB150CGC/\">libraries:ENCLB150CGC/</a></td><td>barbara-wold:10515</td><td>None</td><td>None</td><td>None</td></tr><tr><td><a href=\"https://www.encodeproject.org/experiments/ENCSR297UBP/\">experiments:ENCSR297UBP/</a></td><td><a href=\"https://www.encodeproject.org/libraries/ENCLB732DFW/\">libraries:ENCLB732DFW/</a></td><td>barbara-wold:11011</td><td>None</td><td>None</td><td>None</td></tr><tr><td><a href=\"https://www.encodeproject.org/experiments/ENCSR297UBP/\">experiments:ENCSR297UBP/</a></td><td><a href=\"https://www.encodeproject.org/libraries/ENCLB529ELW/\">libraries:ENCLB529ELW/</a></td><td>barbara-wold:11010</td><td>None</td><td>None</td><td>None</td></tr><tr><td><a href=\"https://www.encodeproject.org/experiments/ENCSR077AZT/\">experiments:ENCSR077AZT/</a></td><td><a href=\"https://www.encodeproject.org/libraries/ENCLB858EYY/\">libraries:ENCLB858EYY/</a></td><td>barbara-wold:10516</td><td>None</td><td>None</td><td>None</td></tr><tr><td><a href=\"https://www.encodeproject.org/experiments/ENCSR767SOH/\">experiments:ENCSR767SOH/</a></td><td><a href=\"https://www.encodeproject.org/libraries/ENCLB476CZO/\">libraries:ENCLB476CZO/</a></td><td>barbara-wold:13290</td><td>2012-07-31</td><td>1</td><td>cells</td></tr><tr><td><a href=\"https://www.encodeproject.org/experiments/ENCSR000AJH/\">experiments:ENCSR000AJH/</a></td><td><a href=\"https://www.encodeproject.org/libraries/ENCLB319PGU/\">libraries:ENCLB319PGU/</a></td><td>barbara-wold:13284</td><td>2012-07-31</td><td>1</td><td>cells</td></tr><tr><td><a href=\"https://www.encodeproject.org/experiments/ENCSR000AIY/\">experiments:ENCSR000AIY/</a></td><td><a href=\"https://www.encodeproject.org/libraries/ENCLB391GZT/\">libraries:ENCLB391GZT/</a></td><td>barbara-wold:13285</td><td>2012-07-31</td><td>1</td><td>cells</td></tr><tr><td><a href=\"https://www.encodeproject.org/experiments/ENCSR000AJF/\">experiments:ENCSR000AJF/</a></td><td><a href=\"https://www.encodeproject.org/libraries/ENCLB868NQU/\">libraries:ENCLB868NQU/</a></td><td>barbara-wold:13287</td><td>2012-07-31</td><td>1</td><td>cells</td></tr><tr><td><a href=\"https://www.encodeproject.org/experiments/ENCSR000AJB/\">experiments:ENCSR000AJB/</a></td><td><a href=\"https://www.encodeproject.org/libraries/ENCLB264YKE/\">libraries:ENCLB264YKE/</a></td><td>barbara-wold:13288</td><td>2012-07-31</td><td>1</td><td>cells</td></tr><tr><td><a href=\"https://www.encodeproject.org/experiments/ENCSR625DPZ/\">experiments:ENCSR625DPZ/</a></td><td><a href=\"https://www.encodeproject.org/libraries/ENCLB402YMB/\">libraries:ENCLB402YMB/</a></td><td>barbara-wold:13291</td><td>2012-07-31</td><td>1</td><td>cells</td></tr><tr><td><a href=\"https://www.encodeproject.org/experiments/ENCSR184CWK/\">experiments:ENCSR184CWK/</a></td><td><a href=\"https://www.encodeproject.org/libraries/ENCLB206JYT/\">libraries:ENCLB206JYT/</a></td><td>barbara-wold:13289</td><td>2012-07-31</td><td>1</td><td>cells</td></tr><tr><td><a href=\"https://www.encodeproject.org/experiments/ENCSR000AJA/\">experiments:ENCSR000AJA/</a></td><td><a href=\"https://www.encodeproject.org/libraries/ENCLB198OUV/\">libraries:ENCLB198OUV/</a></td><td>barbara-wold:13283</td><td>2012-07-31</td><td>1</td><td>cells</td></tr><tr><td><a href=\"https://www.encodeproject.org/experiments/ENCSR000AJE/\">experiments:ENCSR000AJE/</a></td><td><a href=\"https://www.encodeproject.org/libraries/ENCLB267CXI/\">libraries:ENCLB267CXI/</a></td><td>barbara-wold:13282</td><td>2012-07-31</td><td>1</td><td>cells</td></tr><tr><td><a href=\"https://www.encodeproject.org/experiments/ENCSR000AJC/\">experiments:ENCSR000AJC/</a></td><td><a href=\"https://www.encodeproject.org/libraries/ENCLB714NCU/\">libraries:ENCLB714NCU/</a></td><td>barbara-wold:13286</td><td>2012-07-31</td><td>1</td><td>cells</td></tr><tr><td><a href=\"https://www.encodeproject.org/experiments/ENCSR000AJD/\">experiments:ENCSR000AJD/</a></td><td><a href=\"https://www.encodeproject.org/libraries/ENCLB036MBQ/\">libraries:ENCLB036MBQ/</a></td><td>barbara-wold:13274</td><td>2012-07-31</td><td>1.000000000000000E-05</td><td>mg</td></tr><tr><td><a href=\"https://www.encodeproject.org/experiments/ENCSR000AJD/\">experiments:ENCSR000AJD/</a></td><td><a href=\"https://www.encodeproject.org/libraries/ENCLB284CYK/\">libraries:ENCLB284CYK/</a></td><td>barbara-wold:13275</td><td>2012-07-31</td><td>1.000000000000000E-05</td><td>mg</td></tr><tr><td><a href=\"https://www.encodeproject.org/experiments/ENCSR673UIY/\">experiments:ENCSR673UIY/</a></td><td><a href=\"https://www.encodeproject.org/libraries/ENCLB187EEQ/\">libraries:ENCLB187EEQ/</a></td><td>barbara-wold:13280</td><td>2012-07-31</td><td>10</td><td>cells</td></tr><tr><td><a href=\"https://www.encodeproject.org/experiments/ENCSR673UIY/\">experiments:ENCSR673UIY/</a></td><td><a href=\"https://www.encodeproject.org/libraries/ENCLB211FCW/\">libraries:ENCLB211FCW/</a></td><td>barbara-wold:13292</td><td>2012-07-31</td><td>10</td><td>cells</td></tr><tr><td><a href=\"https://www.encodeproject.org/experiments/ENCSR673UIY/\">experiments:ENCSR673UIY/</a></td><td><a href=\"https://www.encodeproject.org/libraries/ENCLB882HPA/\">libraries:ENCLB882HPA/</a></td><td>barbara-wold:13297</td><td>2012-07-31</td><td>10</td><td>cells</td></tr><tr><td><a href=\"https://www.encodeproject.org/experiments/ENCSR673UIY/\">experiments:ENCSR673UIY/</a></td><td><a href=\"https://www.encodeproject.org/libraries/ENCLB242XIT/\">libraries:ENCLB242XIT/</a></td><td>barbara-wold:13299</td><td>2012-07-31</td><td>10</td><td>cells</td></tr><tr><td><a href=\"https://www.encodeproject.org/experiments/ENCSR673UIY/\">experiments:ENCSR673UIY/</a></td><td><a href=\"https://www.encodeproject.org/libraries/ENCLB146LAW/\">libraries:ENCLB146LAW/</a></td><td>barbara-wold:13281</td><td>2012-07-31</td><td>10</td><td>cells</td></tr><tr><td><a href=\"https://www.encodeproject.org/experiments/ENCSR673UIY/\">experiments:ENCSR673UIY/</a></td><td><a href=\"https://www.encodeproject.org/libraries/ENCLB108EAP/\">libraries:ENCLB108EAP/</a></td><td>barbara-wold:13296</td><td>2012-07-31</td><td>10</td><td>cells</td></tr><tr><td><a href=\"https://www.encodeproject.org/experiments/ENCSR673UIY/\">experiments:ENCSR673UIY/</a></td><td><a href=\"https://www.encodeproject.org/libraries/ENCLB804XTY/\">libraries:ENCLB804XTY/</a></td><td>barbara-wold:13298</td><td>2012-07-31</td><td>10</td><td>cells</td></tr><tr><td><a href=\"https://www.encodeproject.org/experiments/ENCSR673UIY/\">experiments:ENCSR673UIY/</a></td><td><a href=\"https://www.encodeproject.org/libraries/ENCLB720ZUM/\">libraries:ENCLB720ZUM/</a></td><td>barbara-wold:13295</td><td>2012-07-31</td><td>10</td><td>cells</td></tr><tr><td><a href=\"https://www.encodeproject.org/experiments/ENCSR673UIY/\">experiments:ENCSR673UIY/</a></td><td><a href=\"https://www.encodeproject.org/libraries/ENCLB283IJI/\">libraries:ENCLB283IJI/</a></td><td>barbara-wold:13294</td><td>2012-07-31</td><td>10</td><td>cells</td></tr><tr><td><a href=\"https://www.encodeproject.org/experiments/ENCSR000AJG/\">experiments:ENCSR000AJG/</a></td><td><a href=\"https://www.encodeproject.org/libraries/ENCLB550GYC/\">libraries:ENCLB550GYC/</a></td><td>barbara-wold:13300</td><td>2012-07-31</td><td>10</td><td>cells</td></tr><tr><td><a href=\"https://www.encodeproject.org/experiments/ENCSR000AJG/\">experiments:ENCSR000AJG/</a></td><td><a href=\"https://www.encodeproject.org/libraries/ENCLB576ZGP/\">libraries:ENCLB576ZGP/</a></td><td>barbara-wold:13301</td><td>2012-07-31</td><td>11</td><td>cells</td></tr><tr><td><a href=\"https://www.encodeproject.org/experiments/ENCSR000AIZ/\">experiments:ENCSR000AIZ/</a></td><td><a href=\"https://www.encodeproject.org/libraries/ENCLB482LEX/\">libraries:ENCLB482LEX/</a></td><td>barbara-wold:12517</td><td>2011-11-08</td><td>30</td><td>cells</td></tr><tr><td><a href=\"https://www.encodeproject.org/experiments/ENCSR000AIZ/\">experiments:ENCSR000AIZ/</a></td><td><a href=\"https://www.encodeproject.org/libraries/ENCLB898RJN/\">libraries:ENCLB898RJN/</a></td><td>barbara-wold:12518</td><td>2011-11-08</td><td>30</td><td>cells</td></tr></table>"
       ],
       "metadata": {},
       "output_type": "pyout",
       "prompt_number": 26,
       "text": [
        "<rdfmagic.LibRdfResults at 0x7fe7f7733e10>"
       ]
      }
     ],
     "prompt_number": 26
    },
    {
     "cell_type": "code",
     "collapsed": false,
     "input": [],
     "language": "python",
     "metadata": {},
     "outputs": []
    }
   ],
   "metadata": {}
  }
 ]
}