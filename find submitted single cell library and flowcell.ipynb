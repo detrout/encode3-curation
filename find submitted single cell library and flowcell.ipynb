{
 "cells": [
  {
   "cell_type": "code",
   "execution_count": 1,
   "metadata": {
    "collapsed": true
   },
   "outputs": [],
   "source": [
    "import pandas\n",
    "import numpy\n",
    "import os"
   ]
  },
  {
   "cell_type": "code",
   "execution_count": 2,
   "metadata": {
    "collapsed": true
   },
   "outputs": [],
   "source": [
    "from curation_common import *"
   ]
  },
  {
   "cell_type": "code",
   "execution_count": 3,
   "metadata": {
    "collapsed": true
   },
   "outputs": [],
   "source": [
    "server = ENCODED('www.encodeproject.org')\n",
    "server.load_netrc()"
   ]
  },
  {
   "cell_type": "code",
   "execution_count": 4,
   "metadata": {
    "collapsed": true
   },
   "outputs": [],
   "source": [
    "model = get_model(use_contexts=False)"
   ]
  },
  {
   "cell_type": "code",
   "execution_count": 5,
   "metadata": {
    "collapsed": true
   },
   "outputs": [],
   "source": [
    "single_cell_search = server.get_json(\"https://www.encodeproject.org/search/?type=experiment&assay_term_name=single%20cell%20isolation%20followed%20by%20RNA-seq\")"
   ]
  },
  {
   "cell_type": "code",
   "execution_count": 6,
   "metadata": {
    "collapsed": false
   },
   "outputs": [
    {
     "name": "stdout",
     "output_type": "stream",
     "text": [
      "loading /experiments/ENCSR833SOQ/ 0 of 88\n",
      "loading /experiments/ENCSR710QXP/ 1 of 88\n",
      "loading /experiments/ENCSR145EKP/ 2 of 88\n",
      "loading /experiments/ENCSR940DVT/ 3 of 88\n",
      "loading /experiments/ENCSR734SOQ/ 4 of 88\n",
      "loading /experiments/ENCSR909YEQ/ 5 of 88\n",
      "loading /experiments/ENCSR298YHA/ 6 of 88\n",
      "loading /experiments/ENCSR220HFQ/ 7 of 88\n",
      "loading /experiments/ENCSR650MMK/ 8 of 88\n",
      "loading /experiments/ENCSR953TKB/ 9 of 88\n",
      "loading /experiments/ENCSR295UJP/ 10 of 88\n",
      "loading /experiments/ENCSR323FHJ/ 11 of 88\n",
      "loading /experiments/ENCSR195BCE/ 12 of 88\n",
      "loading /experiments/ENCSR782WIL/ 13 of 88\n",
      "loading /experiments/ENCSR138VRG/ 14 of 88\n",
      "loading /experiments/ENCSR390KQJ/ 15 of 88\n",
      "loading /experiments/ENCSR427FOY/ 16 of 88\n",
      "loading /experiments/ENCSR846FYI/ 17 of 88\n",
      "loading /experiments/ENCSR927IOO/ 18 of 88\n",
      "loading /experiments/ENCSR739YUO/ 19 of 88\n",
      "loading /experiments/ENCSR100KRK/ 20 of 88\n",
      "loading /experiments/ENCSR198EIH/ 21 of 88\n",
      "loading /experiments/ENCSR746LUP/ 22 of 88\n",
      "loading /experiments/ENCSR637NLF/ 23 of 88\n",
      "loading /experiments/ENCSR320PXZ/ 24 of 88\n",
      "loading /experiments/ENCSR027CXR/ 25 of 88\n",
      "loading /experiments/ENCSR662UPQ/ 26 of 88\n",
      "loading /experiments/ENCSR521YLY/ 27 of 88\n",
      "loading /experiments/ENCSR559QTE/ 28 of 88\n",
      "loading /experiments/ENCSR527DQV/ 29 of 88\n",
      "loading /experiments/ENCSR167AWS/ 30 of 88\n",
      "loading /experiments/ENCSR708EHJ/ 31 of 88\n",
      "loading /experiments/ENCSR474NEW/ 32 of 88\n",
      "loading /experiments/ENCSR282DYQ/ 33 of 88\n",
      "loading /experiments/ENCSR367DUL/ 34 of 88\n",
      "loading /experiments/ENCSR948NDP/ 35 of 88\n",
      "loading /experiments/ENCSR316RMA/ 36 of 88\n",
      "loading /experiments/ENCSR691PPV/ 37 of 88\n",
      "loading /experiments/ENCSR351YGY/ 38 of 88\n",
      "loading /experiments/ENCSR659SFM/ 39 of 88\n",
      "loading /experiments/ENCSR620HJQ/ 40 of 88\n",
      "loading /experiments/ENCSR726VVO/ 41 of 88\n",
      "loading /experiments/ENCSR268IGT/ 42 of 88\n",
      "loading /experiments/ENCSR292IVH/ 43 of 88\n",
      "loading /experiments/ENCSR362OYV/ 44 of 88\n",
      "loading /experiments/ENCSR775HGC/ 45 of 88\n",
      "loading /experiments/ENCSR530UXI/ 46 of 88\n",
      "loading /experiments/ENCSR577ONT/ 47 of 88\n",
      "loading /experiments/ENCSR980SWK/ 48 of 88\n",
      "loading /experiments/ENCSR111QQX/ 49 of 88\n",
      "loading /experiments/ENCSR068SJG/ 50 of 88\n",
      "loading /experiments/ENCSR267LBO/ 51 of 88\n",
      "loading /experiments/ENCSR789RPP/ 52 of 88\n",
      "loading /experiments/ENCSR796QJD/ 53 of 88\n",
      "loading /experiments/ENCSR803PLZ/ 54 of 88\n",
      "loading /experiments/ENCSR194TNV/ 55 of 88\n",
      "loading /experiments/ENCSR625DPZ/ 56 of 88\n",
      "loading /experiments/ENCSR767SOH/ 57 of 88\n",
      "loading /experiments/ENCSR184CWK/ 58 of 88\n",
      "loading /experiments/ENCSR417EDR/ 59 of 88\n",
      "loading /experiments/ENCSR672QFA/ 60 of 88\n",
      "loading /experiments/ENCSR101GVL/ 61 of 88\n",
      "loading /experiments/ENCSR905FLM/ 62 of 88\n",
      "loading /experiments/ENCSR610BAM/ 63 of 88\n",
      "loading /experiments/ENCSR124ERY/ 64 of 88\n",
      "loading /experiments/ENCSR659QHV/ 65 of 88\n",
      "loading /experiments/ENCSR366QZI/ 66 of 88\n",
      "loading /experiments/ENCSR244DNF/ 67 of 88\n",
      "loading /experiments/ENCSR927DHK/ 68 of 88\n",
      "loading /experiments/ENCSR435ROA/ 69 of 88\n",
      "loading /experiments/ENCSR231WUP/ 70 of 88\n",
      "loading /experiments/ENCSR828FPS/ 71 of 88\n",
      "loading /experiments/ENCSR729ENB/ 72 of 88\n",
      "loading /experiments/ENCSR724XFQ/ 73 of 88\n",
      "loading /experiments/ENCSR921DSM/ 74 of 88\n",
      "loading /experiments/ENCSR086PHI/ 75 of 88\n",
      "loading /experiments/ENCSR561KFF/ 76 of 88\n",
      "loading /experiments/ENCSR376KFF/ 77 of 88\n",
      "loading /experiments/ENCSR558LHB/ 78 of 88\n",
      "loading /experiments/ENCSR673UIY/ 79 of 88\n",
      "loading /experiments/ENCSR888LYA/ 80 of 88\n",
      "loading /experiments/ENCSR000AJH/ 81 of 88\n",
      "loading /experiments/ENCSR000AJF/ 82 of 88\n",
      "loading /experiments/ENCSR000AJE/ 83 of 88\n",
      "loading /experiments/ENCSR000AJC/ 84 of 88\n",
      "loading /experiments/ENCSR000AJB/ 85 of 88\n",
      "loading /experiments/ENCSR000AJA/ 86 of 88\n",
      "loading /experiments/ENCSR000AIY/ 87 of 88\n"
     ]
    }
   ],
   "source": [
    "for i, experiment in enumerate(single_cell_search['@graph']):\n",
    "    experiment_id = experiment['@id']\n",
    "    print('loading {} {} of {}'.format(experiment_id, i, len(single_cell_search['@graph'])))\n",
    "    load_jsonld_into_model(model, server.get_jsonld(experiment['@id']))"
   ]
  },
  {
   "cell_type": "code",
   "execution_count": 7,
   "metadata": {
    "collapsed": false
   },
   "outputs": [
    {
     "name": "stdout",
     "output_type": "stream",
     "text": [
      "Found 0 rows.\n"
     ]
    },
    {
     "name": "stderr",
     "output_type": "stream",
     "text": [
      "/usr/lib/python3/dist-packages/RDF.py:2014: RedlandWarning: Variable description was bound but is unused in the query\n",
      "  results = Redland.librdf_query_execute(self._query,model._model)\n"
     ]
    }
   ],
   "source": [
    "%%sparql -m model -c -o single_cells\n",
    "select ?experiment ?library ?file ?alias ?filename \n",
    "where {\n",
    "    ?experiment a experiment:experiment ;\n",
    "                rdf:description ?description ; \n",
    "                experiment:replicates ?replicate ;\n",
    "                experiment:files ?file .\n",
    "    ?file file:replicate ?replicate ;\n",
    "          file:submitted_file_name ?filename .\n",
    "    \n",
    "    ?replicate replicate:library ?library .\n",
    "    ?library library:aliases ?alias .\n",
    "}"
   ]
  },
  {
   "cell_type": "code",
   "execution_count": 8,
   "metadata": {
    "collapsed": false
   },
   "outputs": [
    {
     "data": {
      "text/html": [
       "<table><tr></tr></table>"
      ],
      "text/plain": [
       "<rdfmagic.LibRdfResults at 0x7f9f2d016588>"
      ]
     },
     "execution_count": 8,
     "metadata": {},
     "output_type": "execute_result"
    }
   ],
   "source": [
    "single_cells"
   ]
  },
  {
   "cell_type": "code",
   "execution_count": null,
   "metadata": {
    "collapsed": true
   },
   "outputs": [],
   "source": []
  }
 ],
 "metadata": {
  "kernelspec": {
   "display_name": "Python 3",
   "language": "python",
   "name": "python3"
  },
  "language_info": {
   "codemirror_mode": {
    "name": "ipython",
    "version": 3
   },
   "file_extension": ".py",
   "mimetype": "text/x-python",
   "name": "python",
   "nbconvert_exporter": "python",
   "pygments_lexer": "ipython3",
   "version": "3.4.3+"
  }
 },
 "nbformat": 4,
 "nbformat_minor": 0
}
