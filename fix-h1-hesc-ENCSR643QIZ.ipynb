{
 "metadata": {
  "name": "",
  "signature": "sha256:e2f612c5ad343995915339c6eb54a1f67c3ac019e299947fe2b396d8d915559c"
 },
 "nbformat": 3,
 "nbformat_minor": 0,
 "worksheets": [
  {
   "cells": [
    {
     "cell_type": "heading",
     "level": 1,
     "metadata": {},
     "source": [
      "Introduction"
     ]
    },
    {
     "cell_type": "markdown",
     "metadata": {},
     "source": [
      "This notebook contains my efforts to fix issues raised in <a href=\"http://redmine.encodedcc.org/issues/1455\">ticket 1455</a>."
     ]
    },
    {
     "cell_type": "heading",
     "level": 1,
     "metadata": {},
     "source": [
      "Setup"
     ]
    },
    {
     "cell_type": "code",
     "collapsed": false,
     "input": [
      "from __future__ import print_function, unicode_literals"
     ],
     "language": "python",
     "metadata": {},
     "outputs": [],
     "prompt_number": 1
    },
    {
     "cell_type": "code",
     "collapsed": false,
     "input": [
      "from curation_common import *"
     ],
     "language": "python",
     "metadata": {},
     "outputs": [],
     "prompt_number": 2
    },
    {
     "cell_type": "code",
     "collapsed": false,
     "input": [
      "server = ENCODED('www.encodedcc.org')\n",
      "server.load_netrc()"
     ],
     "language": "python",
     "metadata": {},
     "outputs": [],
     "prompt_number": 3
    },
    {
     "cell_type": "code",
     "collapsed": false,
     "input": [
      "library = {\n",
      "  'award': \"/awards/U54HG004576/\",\n",
      "  'lab': \"/labs/barbara-wold/\",\n",
      "  'nucleic_acid_term_id': \"SO:0000871\",\n",
      "  'nucleic_acid_term_name': \"polyadenylated mRNA\",\n",
      "  'aliases': ['barbara-wold:11009' ],\n",
      "  'strand_specificity': True,\n",
      "  'paired_ended': False,\n",
      "  'size_range': '>200',\n",
      "  \"biosample\": \"/biosamples/ENCBS051SJH/\",\n",
      "}"
     ],
     "language": "python",
     "metadata": {},
     "outputs": [],
     "prompt_number": 11
    },
    {
     "cell_type": "code",
     "collapsed": false,
     "input": [
      "server.validate(library, object_type='library')"
     ],
     "language": "python",
     "metadata": {},
     "outputs": [],
     "prompt_number": 14
    },
    {
     "cell_type": "code",
     "collapsed": false,
     "input": [
      "server.post_json('/library/', library)"
     ],
     "language": "python",
     "metadata": {},
     "outputs": [
      {
       "metadata": {},
       "output_type": "pyout",
       "prompt_number": 15,
       "text": [
        "{u'@graph': [{u'@id': u'/libraries/ENCLB205QXO/',\n",
        "   u'@type': [u'library', u'item'],\n",
        "   u'accession': u'ENCLB205QXO',\n",
        "   u'aliases': [u'barbara-wold:11009'],\n",
        "   u'alternate_accessions': [],\n",
        "   u'award': u'/awards/U54HG004576/',\n",
        "   u'biosample': u'/biosamples/ENCBS051SJH/',\n",
        "   u'date_created': u'2015-01-15T19:40:15.525219+00:00',\n",
        "   u'depleted_in_term_id': [],\n",
        "   u'depleted_in_term_name': [],\n",
        "   u'documents': [],\n",
        "   u'lab': u'/labs/barbara-wold/',\n",
        "   u'nucleic_acid_term_id': u'SO:0000871',\n",
        "   u'nucleic_acid_term_name': u'polyadenylated mRNA',\n",
        "   u'paired_ended': False,\n",
        "   u'schema_version': u'3',\n",
        "   u'size_range': u'>200',\n",
        "   u'spikeins_used': [],\n",
        "   u'status': u'in progress',\n",
        "   u'strand_specificity': True,\n",
        "   u'submitted_by': u'/users/bc5b62f7-ce28-4a1e-b6b3-81c9c5a86d7a/',\n",
        "   u'treatments': [],\n",
        "   u'uuid': u'50477075-3145-405a-bf3e-e806c2b25cb9'}],\n",
        " u'@type': [u'result'],\n",
        " u'status': u'success'}"
       ]
      }
     ],
     "prompt_number": 15
    },
    {
     "cell_type": "code",
     "collapsed": false,
     "input": [],
     "language": "python",
     "metadata": {},
     "outputs": []
    }
   ],
   "metadata": {}
  }
 ]
}