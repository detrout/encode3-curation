{
 "cells": [
  {
   "cell_type": "markdown",
   "metadata": {},
   "source": [
    "We want coverage plots for all of Ross' RNA-Seq data"
   ]
  },
  {
   "cell_type": "code",
   "execution_count": 1,
   "metadata": {
    "collapsed": true
   },
   "outputs": [],
   "source": [
    "import pandas\n",
    "from curation_common import *"
   ]
  },
  {
   "cell_type": "code",
   "execution_count": 2,
   "metadata": {
    "collapsed": true
   },
   "outputs": [],
   "source": [
    "server = ENCODED(\"www.encodeproject.org\")\n",
    "server.load_netrc()"
   ]
  },
  {
   "cell_type": "code",
   "execution_count": 3,
   "metadata": {
    "collapsed": false
   },
   "outputs": [],
   "source": [
    "experiments = server.get_json(\"https://www.encodeproject.org/search/?type=Experiment&assay_title=RNA-seq&lab.title=Ross+Hardison%2C+PennState\")"
   ]
  },
  {
   "cell_type": "code",
   "execution_count": 4,
   "metadata": {
    "collapsed": true
   },
   "outputs": [],
   "source": [
    "model = get_model(use_contexts=False)"
   ]
  },
  {
   "cell_type": "code",
   "execution_count": 7,
   "metadata": {
    "collapsed": false
   },
   "outputs": [
    {
     "name": "stdout",
     "output_type": "stream",
     "text": [
      "ENCSR018TLG\n",
      "ENCSR833HPM\n",
      "ENCSR848LXY\n",
      "ENCSR236ZIE\n",
      "ENCSR538CVD\n",
      "ENCSR475TDY\n",
      "ENCSR914MFC\n",
      "ENCSR275QVY\n",
      "ENCSR340NCF\n",
      "ENCSR826IXR\n",
      "ENCSR918HDF\n",
      "ENCSR027FCH\n",
      "ENCSR549QME\n",
      "ENCSR277DPB\n",
      "ENCSR520WBE\n",
      "ENCSR085AJX\n",
      "ENCSR558PXY\n",
      "ENCSR499USJ\n",
      "ENCSR847AMQ\n",
      "ENCSR069PIG\n",
      "ENCSR121HYR\n",
      "ENCSR247IMK\n",
      "ENCSR025JRA\n",
      "ENCSR661TLW\n",
      "ENCSR767VHR\n",
      "ENCSR133SAI\n",
      "ENCSR181KQJ\n"
     ]
    }
   ],
   "source": [
    "for row in experiments['@graph']:\n",
    "    experiment = print(row['@id'][13:-1])\n",
    "    load_jsonld_into_model(model, server.get_jsonld(str(row['@id'])))"
   ]
  },
  {
   "cell_type": "code",
   "execution_count": 8,
   "metadata": {
    "collapsed": false
   },
   "outputs": [
    {
     "data": {
      "text/html": [
       "<table><tr><td>p</td><td>o</td></tr><tr><td><a href=\"http://www.w3.org/1999/02/22-rdf-syntax-ns#type\">rdf:type</a></td><td><a href=\"https://www.encodeproject.org/profiles/Experiment.json#Experiment\">experiment:Experiment</a></td></tr><tr><td><a href=\"http://www.w3.org/1999/02/22-rdf-syntax-ns#type\">rdf:type</a></td><td><a href=\"https://www.encodeproject.org/profiles/Experiment.json#Dataset\">experiment:Dataset</a></td></tr><tr><td><a href=\"http://www.w3.org/1999/02/22-rdf-syntax-ns#type\">rdf:type</a></td><td><a href=\"https://www.encodeproject.org/profiles/Experiment.json#Item\">experiment:Item</a></td></tr><tr><td><a href=\"http://www.w3.org/1999/02/22-rdf-syntax-ns#description\">rdf:description</a></td><td>PSU mouse G1E-ER4+E2 RNA RNA-seq</td></tr><tr><td><a href=\"https://www.encodeproject.org/profiles/Experiment.json#accession\">experiment:accession</a></td><td>ENCSR181KQJ</td></tr><tr><td><a href=\"https://www.encodeproject.org/profiles/Experiment.json#alternate_accessions\">experiment:alternate_accessions</a></td><td>ENCSR488BHJ</td></tr><tr><td><a href=\"https://www.encodeproject.org/profiles/Experiment.json#assay_slims\">experiment:assay_slims</a></td><td>Transcription</td></tr><tr><td><a href=\"https://www.encodeproject.org/profiles/Experiment.json#assay_synonyms\">experiment:assay_synonyms</a></td><td>transcription profiling by high throughput sequencing</td></tr><tr><td><a href=\"https://www.encodeproject.org/profiles/Experiment.json#assay_synonyms\">experiment:assay_synonyms</a></td><td>RNA-seq assay</td></tr><tr><td><a href=\"https://www.encodeproject.org/profiles/Experiment.json#assay_term_id\">experiment:assay_term_id</a></td><td><a href=\"http://purl.obolibrary.org/obo/OBI_0001271\">http://purl.obolibrary.org/obo/OBI_0001271</a></td></tr><tr><td><a href=\"https://www.encodeproject.org/profiles/Experiment.json#assay_term_name\">experiment:assay_term_name</a></td><td>RNA-seq</td></tr><tr><td><a href=\"https://www.encodeproject.org/profiles/Experiment.json#assay_title\">experiment:assay_title</a></td><td>RNA-seq</td></tr><tr><td><a href=\"https://www.encodeproject.org/profiles/Experiment.json#assembly\">experiment:assembly</a></td><td>mm10</td></tr><tr><td><a href=\"https://www.encodeproject.org/profiles/Experiment.json#audit\">experiment:audit</a></td><td>_:b0</td></tr><tr><td><a href=\"https://www.encodeproject.org/profiles/Experiment.json#award\">experiment:award</a></td><td><a href=\"https://www.encodeproject.org/awards/U54HG006998/\">https://www.encodeproject.org/awards/U54HG006998/</a></td></tr><tr><td><a href=\"https://www.encodeproject.org/profiles/Experiment.json#biosample_summary\">experiment:biosample_summary</a></td><td>strain C57BL/6J G1E-ER4 immortalized cell line treated with 10 nM 17β-estradiol for 24 hours</td></tr><tr><td><a href=\"https://www.encodeproject.org/profiles/Experiment.json#biosample_term_id\">experiment:biosample_term_id</a></td><td>EFO:0002055</td></tr><tr><td><a href=\"https://www.encodeproject.org/profiles/Experiment.json#biosample_term_name\">experiment:biosample_term_name</a></td><td>G1E-ER4</td></tr><tr><td><a href=\"https://www.encodeproject.org/profiles/Experiment.json#biosample_type\">experiment:biosample_type</a></td><td>immortalized cell line</td></tr><tr><td><a href=\"https://www.encodeproject.org/profiles/Experiment.json#category_slims\">experiment:category_slims</a></td><td>transcription profiling</td></tr><tr><td><a href=\"https://www.encodeproject.org/profiles/Experiment.json#contributing_files\">experiment:contributing_files</a></td><td><a href=\"https://www.encodeproject.org/files/ENCFF533JRE/\">files:ENCFF533JRE/</a></td></tr><tr><td><a href=\"https://www.encodeproject.org/profiles/Experiment.json#contributing_files\">experiment:contributing_files</a></td><td><a href=\"https://www.encodeproject.org/files/ENCFF064YNQ/\">files:ENCFF064YNQ/</a></td></tr><tr><td><a href=\"https://www.encodeproject.org/profiles/Experiment.json#contributing_files\">experiment:contributing_files</a></td><td><a href=\"https://www.encodeproject.org/files/ENCFF717NFD/\">files:ENCFF717NFD/</a></td></tr><tr><td><a href=\"https://www.encodeproject.org/profiles/Experiment.json#contributing_files\">experiment:contributing_files</a></td><td><a href=\"https://www.encodeproject.org/files/ENCFF268IGM/\">files:ENCFF268IGM/</a></td></tr><tr><td><a href=\"https://www.encodeproject.org/profiles/Experiment.json#contributing_files\">experiment:contributing_files</a></td><td><a href=\"https://www.encodeproject.org/files/ENCFF518RJA/\">files:ENCFF518RJA/</a></td></tr><tr><td><a href=\"https://www.encodeproject.org/profiles/Experiment.json#contributing_files\">experiment:contributing_files</a></td><td>/files/ENCFF533JRE/</td></tr><tr><td><a href=\"https://www.encodeproject.org/profiles/Experiment.json#contributing_files\">experiment:contributing_files</a></td><td>/files/ENCFF064YNQ/</td></tr><tr><td><a href=\"https://www.encodeproject.org/profiles/Experiment.json#contributing_files\">experiment:contributing_files</a></td><td>/files/ENCFF717NFD/</td></tr><tr><td><a href=\"https://www.encodeproject.org/profiles/Experiment.json#contributing_files\">experiment:contributing_files</a></td><td>/files/ENCFF268IGM/</td></tr><tr><td><a href=\"https://www.encodeproject.org/profiles/Experiment.json#contributing_files\">experiment:contributing_files</a></td><td>/files/ENCFF518RJA/</td></tr><tr><td><a href=\"https://www.encodeproject.org/profiles/Experiment.json#date_created\">experiment:date_created</a></td><td>2014-10-07T20:07:48.577801+00:00</td></tr><tr><td><a href=\"https://www.encodeproject.org/profiles/Experiment.json#date_released\">experiment:date_released</a></td><td>2014-11-20</td></tr><tr><td><a href=\"https://www.encodeproject.org/profiles/Experiment.json#dbxrefs\">experiment:dbxrefs</a></td><td>GEO:GSE78630</td></tr><tr><td><a href=\"https://www.encodeproject.org/profiles/Experiment.json#files\">experiment:files</a></td><td><a href=\"https://www.encodeproject.org/files/ENCFF533AUL/\">files:ENCFF533AUL/</a></td></tr><tr><td><a href=\"https://www.encodeproject.org/profiles/Experiment.json#files\">experiment:files</a></td><td><a href=\"https://www.encodeproject.org/files/ENCFF366KMQ/\">files:ENCFF366KMQ/</a></td></tr><tr><td><a href=\"https://www.encodeproject.org/profiles/Experiment.json#files\">experiment:files</a></td><td><a href=\"https://www.encodeproject.org/files/ENCFF902XHK/\">files:ENCFF902XHK/</a></td></tr><tr><td><a href=\"https://www.encodeproject.org/profiles/Experiment.json#files\">experiment:files</a></td><td><a href=\"https://www.encodeproject.org/files/ENCFF344IMT/\">files:ENCFF344IMT/</a></td></tr><tr><td><a href=\"https://www.encodeproject.org/profiles/Experiment.json#files\">experiment:files</a></td><td><a href=\"https://www.encodeproject.org/files/ENCFF641PAT/\">files:ENCFF641PAT/</a></td></tr><tr><td><a href=\"https://www.encodeproject.org/profiles/Experiment.json#files\">experiment:files</a></td><td><a href=\"https://www.encodeproject.org/files/ENCFF091AAD/\">files:ENCFF091AAD/</a></td></tr><tr><td><a href=\"https://www.encodeproject.org/profiles/Experiment.json#files\">experiment:files</a></td><td><a href=\"https://www.encodeproject.org/files/ENCFF893LTN/\">files:ENCFF893LTN/</a></td></tr><tr><td><a href=\"https://www.encodeproject.org/profiles/Experiment.json#files\">experiment:files</a></td><td><a href=\"https://www.encodeproject.org/files/ENCFF446VUD/\">files:ENCFF446VUD/</a></td></tr><tr><td><a href=\"https://www.encodeproject.org/profiles/Experiment.json#files\">experiment:files</a></td><td><a href=\"https://www.encodeproject.org/files/ENCFF989FNO/\">files:ENCFF989FNO/</a></td></tr><tr><td><a href=\"https://www.encodeproject.org/profiles/Experiment.json#files\">experiment:files</a></td><td><a href=\"https://www.encodeproject.org/files/ENCFF048QOE/\">files:ENCFF048QOE/</a></td></tr><tr><td><a href=\"https://www.encodeproject.org/profiles/Experiment.json#files\">experiment:files</a></td><td><a href=\"https://www.encodeproject.org/files/ENCFF129NBR/\">files:ENCFF129NBR/</a></td></tr><tr><td><a href=\"https://www.encodeproject.org/profiles/Experiment.json#files\">experiment:files</a></td><td><a href=\"https://www.encodeproject.org/files/ENCFF126EKN/\">files:ENCFF126EKN/</a></td></tr><tr><td><a href=\"https://www.encodeproject.org/profiles/Experiment.json#files\">experiment:files</a></td><td><a href=\"https://www.encodeproject.org/files/ENCFF169LDR/\">files:ENCFF169LDR/</a></td></tr><tr><td><a href=\"https://www.encodeproject.org/profiles/Experiment.json#files\">experiment:files</a></td><td><a href=\"https://www.encodeproject.org/files/ENCFF246CMR/\">files:ENCFF246CMR/</a></td></tr><tr><td><a href=\"https://www.encodeproject.org/profiles/Experiment.json#files\">experiment:files</a></td><td><a href=\"https://www.encodeproject.org/files/ENCFF707QTV/\">files:ENCFF707QTV/</a></td></tr><tr><td><a href=\"https://www.encodeproject.org/profiles/Experiment.json#files\">experiment:files</a></td><td><a href=\"https://www.encodeproject.org/files/ENCFF037GCQ/\">files:ENCFF037GCQ/</a></td></tr><tr><td><a href=\"https://www.encodeproject.org/profiles/Experiment.json#files\">experiment:files</a></td><td><a href=\"https://www.encodeproject.org/files/ENCFF362YUB/\">files:ENCFF362YUB/</a></td></tr><tr><td><a href=\"https://www.encodeproject.org/profiles/Experiment.json#files\">experiment:files</a></td><td><a href=\"https://www.encodeproject.org/files/ENCFF870LZE/\">files:ENCFF870LZE/</a></td></tr><tr><td><a href=\"https://www.encodeproject.org/profiles/Experiment.json#files\">experiment:files</a></td><td><a href=\"https://www.encodeproject.org/files/ENCFF565THP/\">files:ENCFF565THP/</a></td></tr><tr><td><a href=\"https://www.encodeproject.org/profiles/Experiment.json#files\">experiment:files</a></td><td><a href=\"https://www.encodeproject.org/files/ENCFF705XJQ/\">files:ENCFF705XJQ/</a></td></tr><tr><td><a href=\"https://www.encodeproject.org/profiles/Experiment.json#files\">experiment:files</a></td><td><a href=\"https://www.encodeproject.org/files/ENCFF021OYM/\">files:ENCFF021OYM/</a></td></tr><tr><td><a href=\"https://www.encodeproject.org/profiles/Experiment.json#files\">experiment:files</a></td><td><a href=\"https://www.encodeproject.org/files/ENCFF312LDH/\">files:ENCFF312LDH/</a></td></tr><tr><td><a href=\"https://www.encodeproject.org/profiles/Experiment.json#files\">experiment:files</a></td><td><a href=\"https://www.encodeproject.org/files/ENCFF182FWJ/\">files:ENCFF182FWJ/</a></td></tr><tr><td><a href=\"https://www.encodeproject.org/profiles/Experiment.json#files\">experiment:files</a></td><td><a href=\"https://www.encodeproject.org/files/ENCFF940ZCL/\">files:ENCFF940ZCL/</a></td></tr><tr><td><a href=\"https://www.encodeproject.org/profiles/Experiment.json#files\">experiment:files</a></td><td><a href=\"https://www.encodeproject.org/files/ENCFF203PZL/\">files:ENCFF203PZL/</a></td></tr><tr><td><a href=\"https://www.encodeproject.org/profiles/Experiment.json#files\">experiment:files</a></td><td><a href=\"https://www.encodeproject.org/files/ENCFF607UEA/\">files:ENCFF607UEA/</a></td></tr><tr><td><a href=\"https://www.encodeproject.org/profiles/Experiment.json#files\">experiment:files</a></td><td><a href=\"https://www.encodeproject.org/files/ENCFF560PLQ/\">files:ENCFF560PLQ/</a></td></tr><tr><td><a href=\"https://www.encodeproject.org/profiles/Experiment.json#files\">experiment:files</a></td><td><a href=\"https://www.encodeproject.org/files/ENCFF774HRN/\">files:ENCFF774HRN/</a></td></tr><tr><td><a href=\"https://www.encodeproject.org/profiles/Experiment.json#files\">experiment:files</a></td><td><a href=\"https://www.encodeproject.org/files/ENCFF199UKC/\">files:ENCFF199UKC/</a></td></tr><tr><td><a href=\"https://www.encodeproject.org/profiles/Experiment.json#files\">experiment:files</a></td><td><a href=\"https://www.encodeproject.org/files/ENCFF168XRI/\">files:ENCFF168XRI/</a></td></tr><tr><td><a href=\"https://www.encodeproject.org/profiles/Experiment.json#files\">experiment:files</a></td><td><a href=\"https://www.encodeproject.org/files/ENCFF677BWZ/\">files:ENCFF677BWZ/</a></td></tr><tr><td><a href=\"https://www.encodeproject.org/profiles/Experiment.json#files\">experiment:files</a></td><td><a href=\"https://www.encodeproject.org/files/ENCFF252AHK/\">files:ENCFF252AHK/</a></td></tr><tr><td><a href=\"https://www.encodeproject.org/profiles/Experiment.json#files\">experiment:files</a></td><td><a href=\"https://www.encodeproject.org/files/ENCFF569XWW/\">files:ENCFF569XWW/</a></td></tr><tr><td><a href=\"https://www.encodeproject.org/profiles/Experiment.json#files\">experiment:files</a></td><td><a href=\"https://www.encodeproject.org/files/ENCFF648OFV/\">files:ENCFF648OFV/</a></td></tr><tr><td><a href=\"https://www.encodeproject.org/profiles/Experiment.json#files\">experiment:files</a></td><td><a href=\"https://www.encodeproject.org/files/ENCFF676PVG/\">files:ENCFF676PVG/</a></td></tr><tr><td><a href=\"https://www.encodeproject.org/profiles/Experiment.json#files\">experiment:files</a></td><td><a href=\"https://www.encodeproject.org/files/ENCFF593TCU/\">files:ENCFF593TCU/</a></td></tr><tr><td><a href=\"https://www.encodeproject.org/profiles/Experiment.json#files\">experiment:files</a></td><td><a href=\"https://www.encodeproject.org/files/ENCFF033PJW/\">files:ENCFF033PJW/</a></td></tr><tr><td><a href=\"https://www.encodeproject.org/profiles/Experiment.json#files\">experiment:files</a></td><td><a href=\"https://www.encodeproject.org/files/ENCFF880ZRN/\">files:ENCFF880ZRN/</a></td></tr><tr><td><a href=\"https://www.encodeproject.org/profiles/Experiment.json#files\">experiment:files</a></td><td><a href=\"https://www.encodeproject.org/files/ENCFF638XEM/\">files:ENCFF638XEM/</a></td></tr><tr><td><a href=\"https://www.encodeproject.org/profiles/Experiment.json#files\">experiment:files</a></td><td><a href=\"https://www.encodeproject.org/files/ENCFF120ADV/\">files:ENCFF120ADV/</a></td></tr><tr><td><a href=\"https://www.encodeproject.org/profiles/Experiment.json#files\">experiment:files</a></td><td><a href=\"https://www.encodeproject.org/files/ENCFF318LPQ/\">files:ENCFF318LPQ/</a></td></tr><tr><td><a href=\"https://www.encodeproject.org/profiles/Experiment.json#files\">experiment:files</a></td><td><a href=\"https://www.encodeproject.org/files/ENCFF575MKJ/\">files:ENCFF575MKJ/</a></td></tr><tr><td><a href=\"https://www.encodeproject.org/profiles/Experiment.json#files\">experiment:files</a></td><td><a href=\"https://www.encodeproject.org/files/ENCFF491VEW/\">files:ENCFF491VEW/</a></td></tr><tr><td><a href=\"https://www.encodeproject.org/profiles/Experiment.json#files\">experiment:files</a></td><td><a href=\"https://www.encodeproject.org/files/ENCFF166TVS/\">files:ENCFF166TVS/</a></td></tr><tr><td><a href=\"https://www.encodeproject.org/profiles/Experiment.json#files\">experiment:files</a></td><td><a href=\"https://www.encodeproject.org/files/ENCFF264SLW/\">files:ENCFF264SLW/</a></td></tr><tr><td><a href=\"https://www.encodeproject.org/profiles/Experiment.json#files\">experiment:files</a></td><td><a href=\"https://www.encodeproject.org/files/ENCFF783TPN/\">files:ENCFF783TPN/</a></td></tr><tr><td><a href=\"https://www.encodeproject.org/profiles/Experiment.json#hub\">experiment:hub</a></td><td>/experiments/ENCSR181KQJ/@@hub/hub.txt</td></tr><tr><td><a href=\"https://www.encodeproject.org/profiles/Experiment.json#internal_status\">experiment:internal_status</a></td><td>pipeline completed</td></tr><tr><td><a href=\"https://www.encodeproject.org/profiles/Experiment.json#lab\">experiment:lab</a></td><td><a href=\"https://www.encodeproject.org/labs/ross-hardison/\">https://www.encodeproject.org/labs/ross-hardison/</a></td></tr><tr><td><a href=\"https://www.encodeproject.org/profiles/Experiment.json#month_released\">experiment:month_released</a></td><td>November, 2014</td></tr><tr><td><a href=\"https://www.encodeproject.org/profiles/Experiment.json#objective_slims\">experiment:objective_slims</a></td><td>transcription profiling identification objective</td></tr><tr><td><a href=\"https://www.encodeproject.org/profiles/Experiment.json#original_files\">experiment:original_files</a></td><td><a href=\"https://www.encodeproject.org/files/ENCFF533AUL/\">files:ENCFF533AUL/</a></td></tr><tr><td><a href=\"https://www.encodeproject.org/profiles/Experiment.json#original_files\">experiment:original_files</a></td><td><a href=\"https://www.encodeproject.org/files/ENCFF366KMQ/\">files:ENCFF366KMQ/</a></td></tr><tr><td><a href=\"https://www.encodeproject.org/profiles/Experiment.json#original_files\">experiment:original_files</a></td><td><a href=\"https://www.encodeproject.org/files/ENCFF902XHK/\">files:ENCFF902XHK/</a></td></tr><tr><td><a href=\"https://www.encodeproject.org/profiles/Experiment.json#original_files\">experiment:original_files</a></td><td><a href=\"https://www.encodeproject.org/files/ENCFF344IMT/\">files:ENCFF344IMT/</a></td></tr><tr><td><a href=\"https://www.encodeproject.org/profiles/Experiment.json#original_files\">experiment:original_files</a></td><td><a href=\"https://www.encodeproject.org/files/ENCFF641PAT/\">files:ENCFF641PAT/</a></td></tr><tr><td><a href=\"https://www.encodeproject.org/profiles/Experiment.json#original_files\">experiment:original_files</a></td><td><a href=\"https://www.encodeproject.org/files/ENCFF091AAD/\">files:ENCFF091AAD/</a></td></tr><tr><td><a href=\"https://www.encodeproject.org/profiles/Experiment.json#original_files\">experiment:original_files</a></td><td><a href=\"https://www.encodeproject.org/files/ENCFF893LTN/\">files:ENCFF893LTN/</a></td></tr><tr><td><a href=\"https://www.encodeproject.org/profiles/Experiment.json#original_files\">experiment:original_files</a></td><td><a href=\"https://www.encodeproject.org/files/ENCFF446VUD/\">files:ENCFF446VUD/</a></td></tr><tr><td><a href=\"https://www.encodeproject.org/profiles/Experiment.json#original_files\">experiment:original_files</a></td><td><a href=\"https://www.encodeproject.org/files/ENCFF989FNO/\">files:ENCFF989FNO/</a></td></tr><tr><td><a href=\"https://www.encodeproject.org/profiles/Experiment.json#original_files\">experiment:original_files</a></td><td><a href=\"https://www.encodeproject.org/files/ENCFF048QOE/\">files:ENCFF048QOE/</a></td></tr><tr><td><a href=\"https://www.encodeproject.org/profiles/Experiment.json#original_files\">experiment:original_files</a></td><td><a href=\"https://www.encodeproject.org/files/ENCFF129NBR/\">files:ENCFF129NBR/</a></td></tr><tr><td><a href=\"https://www.encodeproject.org/profiles/Experiment.json#original_files\">experiment:original_files</a></td><td><a href=\"https://www.encodeproject.org/files/ENCFF126EKN/\">files:ENCFF126EKN/</a></td></tr><tr><td><a href=\"https://www.encodeproject.org/profiles/Experiment.json#original_files\">experiment:original_files</a></td><td><a href=\"https://www.encodeproject.org/files/ENCFF169LDR/\">files:ENCFF169LDR/</a></td></tr><tr><td><a href=\"https://www.encodeproject.org/profiles/Experiment.json#original_files\">experiment:original_files</a></td><td><a href=\"https://www.encodeproject.org/files/ENCFF246CMR/\">files:ENCFF246CMR/</a></td></tr><tr><td><a href=\"https://www.encodeproject.org/profiles/Experiment.json#original_files\">experiment:original_files</a></td><td><a href=\"https://www.encodeproject.org/files/ENCFF707QTV/\">files:ENCFF707QTV/</a></td></tr><tr><td><a href=\"https://www.encodeproject.org/profiles/Experiment.json#original_files\">experiment:original_files</a></td><td><a href=\"https://www.encodeproject.org/files/ENCFF037GCQ/\">files:ENCFF037GCQ/</a></td></tr><tr><td><a href=\"https://www.encodeproject.org/profiles/Experiment.json#original_files\">experiment:original_files</a></td><td><a href=\"https://www.encodeproject.org/files/ENCFF362YUB/\">files:ENCFF362YUB/</a></td></tr><tr><td><a href=\"https://www.encodeproject.org/profiles/Experiment.json#original_files\">experiment:original_files</a></td><td><a href=\"https://www.encodeproject.org/files/ENCFF870LZE/\">files:ENCFF870LZE/</a></td></tr><tr><td><a href=\"https://www.encodeproject.org/profiles/Experiment.json#original_files\">experiment:original_files</a></td><td><a href=\"https://www.encodeproject.org/files/ENCFF565THP/\">files:ENCFF565THP/</a></td></tr><tr><td><a href=\"https://www.encodeproject.org/profiles/Experiment.json#original_files\">experiment:original_files</a></td><td><a href=\"https://www.encodeproject.org/files/ENCFF705XJQ/\">files:ENCFF705XJQ/</a></td></tr><tr><td><a href=\"https://www.encodeproject.org/profiles/Experiment.json#original_files\">experiment:original_files</a></td><td><a href=\"https://www.encodeproject.org/files/ENCFF021OYM/\">files:ENCFF021OYM/</a></td></tr><tr><td><a href=\"https://www.encodeproject.org/profiles/Experiment.json#original_files\">experiment:original_files</a></td><td><a href=\"https://www.encodeproject.org/files/ENCFF312LDH/\">files:ENCFF312LDH/</a></td></tr><tr><td><a href=\"https://www.encodeproject.org/profiles/Experiment.json#original_files\">experiment:original_files</a></td><td><a href=\"https://www.encodeproject.org/files/ENCFF182FWJ/\">files:ENCFF182FWJ/</a></td></tr><tr><td><a href=\"https://www.encodeproject.org/profiles/Experiment.json#original_files\">experiment:original_files</a></td><td><a href=\"https://www.encodeproject.org/files/ENCFF940ZCL/\">files:ENCFF940ZCL/</a></td></tr><tr><td><a href=\"https://www.encodeproject.org/profiles/Experiment.json#original_files\">experiment:original_files</a></td><td><a href=\"https://www.encodeproject.org/files/ENCFF203PZL/\">files:ENCFF203PZL/</a></td></tr><tr><td><a href=\"https://www.encodeproject.org/profiles/Experiment.json#original_files\">experiment:original_files</a></td><td><a href=\"https://www.encodeproject.org/files/ENCFF607UEA/\">files:ENCFF607UEA/</a></td></tr><tr><td><a href=\"https://www.encodeproject.org/profiles/Experiment.json#original_files\">experiment:original_files</a></td><td><a href=\"https://www.encodeproject.org/files/ENCFF560PLQ/\">files:ENCFF560PLQ/</a></td></tr><tr><td><a href=\"https://www.encodeproject.org/profiles/Experiment.json#original_files\">experiment:original_files</a></td><td><a href=\"https://www.encodeproject.org/files/ENCFF774HRN/\">files:ENCFF774HRN/</a></td></tr><tr><td><a href=\"https://www.encodeproject.org/profiles/Experiment.json#original_files\">experiment:original_files</a></td><td><a href=\"https://www.encodeproject.org/files/ENCFF199UKC/\">files:ENCFF199UKC/</a></td></tr><tr><td><a href=\"https://www.encodeproject.org/profiles/Experiment.json#original_files\">experiment:original_files</a></td><td><a href=\"https://www.encodeproject.org/files/ENCFF168XRI/\">files:ENCFF168XRI/</a></td></tr><tr><td><a href=\"https://www.encodeproject.org/profiles/Experiment.json#original_files\">experiment:original_files</a></td><td><a href=\"https://www.encodeproject.org/files/ENCFF677BWZ/\">files:ENCFF677BWZ/</a></td></tr><tr><td><a href=\"https://www.encodeproject.org/profiles/Experiment.json#original_files\">experiment:original_files</a></td><td><a href=\"https://www.encodeproject.org/files/ENCFF252AHK/\">files:ENCFF252AHK/</a></td></tr><tr><td><a href=\"https://www.encodeproject.org/profiles/Experiment.json#original_files\">experiment:original_files</a></td><td><a href=\"https://www.encodeproject.org/files/ENCFF569XWW/\">files:ENCFF569XWW/</a></td></tr><tr><td><a href=\"https://www.encodeproject.org/profiles/Experiment.json#original_files\">experiment:original_files</a></td><td><a href=\"https://www.encodeproject.org/files/ENCFF648OFV/\">files:ENCFF648OFV/</a></td></tr><tr><td><a href=\"https://www.encodeproject.org/profiles/Experiment.json#original_files\">experiment:original_files</a></td><td><a href=\"https://www.encodeproject.org/files/ENCFF676PVG/\">files:ENCFF676PVG/</a></td></tr><tr><td><a href=\"https://www.encodeproject.org/profiles/Experiment.json#original_files\">experiment:original_files</a></td><td><a href=\"https://www.encodeproject.org/files/ENCFF593TCU/\">files:ENCFF593TCU/</a></td></tr><tr><td><a href=\"https://www.encodeproject.org/profiles/Experiment.json#original_files\">experiment:original_files</a></td><td><a href=\"https://www.encodeproject.org/files/ENCFF033PJW/\">files:ENCFF033PJW/</a></td></tr><tr><td><a href=\"https://www.encodeproject.org/profiles/Experiment.json#original_files\">experiment:original_files</a></td><td><a href=\"https://www.encodeproject.org/files/ENCFF880ZRN/\">files:ENCFF880ZRN/</a></td></tr><tr><td><a href=\"https://www.encodeproject.org/profiles/Experiment.json#original_files\">experiment:original_files</a></td><td><a href=\"https://www.encodeproject.org/files/ENCFF638XEM/\">files:ENCFF638XEM/</a></td></tr><tr><td><a href=\"https://www.encodeproject.org/profiles/Experiment.json#original_files\">experiment:original_files</a></td><td><a href=\"https://www.encodeproject.org/files/ENCFF120ADV/\">files:ENCFF120ADV/</a></td></tr><tr><td><a href=\"https://www.encodeproject.org/profiles/Experiment.json#original_files\">experiment:original_files</a></td><td><a href=\"https://www.encodeproject.org/files/ENCFF318LPQ/\">files:ENCFF318LPQ/</a></td></tr><tr><td><a href=\"https://www.encodeproject.org/profiles/Experiment.json#original_files\">experiment:original_files</a></td><td><a href=\"https://www.encodeproject.org/files/ENCFF575MKJ/\">files:ENCFF575MKJ/</a></td></tr><tr><td><a href=\"https://www.encodeproject.org/profiles/Experiment.json#original_files\">experiment:original_files</a></td><td><a href=\"https://www.encodeproject.org/files/ENCFF491VEW/\">files:ENCFF491VEW/</a></td></tr><tr><td><a href=\"https://www.encodeproject.org/profiles/Experiment.json#original_files\">experiment:original_files</a></td><td><a href=\"https://www.encodeproject.org/files/ENCFF166TVS/\">files:ENCFF166TVS/</a></td></tr><tr><td><a href=\"https://www.encodeproject.org/profiles/Experiment.json#original_files\">experiment:original_files</a></td><td><a href=\"https://www.encodeproject.org/files/ENCFF264SLW/\">files:ENCFF264SLW/</a></td></tr><tr><td><a href=\"https://www.encodeproject.org/profiles/Experiment.json#original_files\">experiment:original_files</a></td><td><a href=\"https://www.encodeproject.org/files/ENCFF783TPN/\">files:ENCFF783TPN/</a></td></tr><tr><td><a href=\"https://www.encodeproject.org/profiles/Experiment.json#replicates\">experiment:replicates</a></td><td><a href=\"https://www.encodeproject.org/replicates/3bfdd234-2f49-4b07-ab72-daf434cb14e9/\">https://www.encodeproject.org/replicates/3bfdd234-2f49-4b07-ab72-daf434cb14e9/</a></td></tr><tr><td><a href=\"https://www.encodeproject.org/profiles/Experiment.json#replicates\">experiment:replicates</a></td><td><a href=\"https://www.encodeproject.org/replicates/1e419789-72db-4123-9955-287936cdeeb4/\">https://www.encodeproject.org/replicates/1e419789-72db-4123-9955-287936cdeeb4/</a></td></tr><tr><td><a href=\"https://www.encodeproject.org/profiles/Experiment.json#replication_type\">experiment:replication_type</a></td><td>isogenic</td></tr><tr><td><a href=\"https://www.encodeproject.org/profiles/Experiment.json#schema_version\">experiment:schema_version</a></td><td>9</td></tr><tr><td><a href=\"https://www.encodeproject.org/profiles/Experiment.json#status\">experiment:status</a></td><td>released</td></tr><tr><td><a href=\"https://www.encodeproject.org/profiles/Experiment.json#submitted_by\">experiment:submitted_by</a></td><td><a href=\"https://www.encodeproject.org/users/6fa0dbe6-5b00-43a8-bc7f-6fd95eb74647/\">https://www.encodeproject.org/users/6fa0dbe6-5b00-43a8-bc7f-6fd95eb74647/</a></td></tr><tr><td><a href=\"https://www.encodeproject.org/profiles/Experiment.json#type_slims\">experiment:type_slims</a></td><td>transcription profiling assay</td></tr><tr><td><a href=\"https://www.encodeproject.org/profiles/Experiment.json#uuid\">experiment:uuid</a></td><td>9e174fc7-1e50-4895-ab71-37d32aa7daa0</td></tr><tr><td><a href=\"https://www.encodeproject.org/profiles/Experiment.json#visualize_ucsc\">experiment:visualize_ucsc</a></td><td>_:b81</td></tr></table>"
      ],
      "text/plain": [
       "<rdfmagic.LibRdfResults at 0x7ff16391c9e8>"
      ]
     },
     "execution_count": 8,
     "metadata": {},
     "output_type": "execute_result"
    }
   ],
   "source": [
    "%%sparql -m model\n",
    "select ?p ?o\n",
    "where {\n",
    "    <https://www.encodeproject.org/experiments/ENCSR181KQJ/> ?p ?o .\n",
    "}"
   ]
  },
  {
   "cell_type": "code",
   "execution_count": 9,
   "metadata": {
    "collapsed": false
   },
   "outputs": [
    {
     "data": {
      "text/html": [
       "<table><tr><td>p</td><td>o</td></tr><tr><td><a href=\"http://www.w3.org/1999/02/22-rdf-syntax-ns#type\">rdf:type</a></td><td><a href=\"https://www.encodeproject.org/profiles/File.json#File\">file:File</a></td></tr><tr><td><a href=\"http://www.w3.org/1999/02/22-rdf-syntax-ns#type\">rdf:type</a></td><td><a href=\"https://www.encodeproject.org/profiles/File.json#Item\">file:Item</a></td></tr><tr><td><a href=\"https://www.encodeproject.org/profiles/File.json#accession\">file:accession</a></td><td>ENCFF126EKN</td></tr><tr><td><a href=\"https://www.encodeproject.org/profiles/File.json#aliases\">file:aliases</a></td><td>dnanexus:file-BY5py3Q0PXX93qYqQZ3Pqy2P</td></tr><tr><td><a href=\"https://www.encodeproject.org/profiles/File.json#analysis_step_version\">file:analysis_step_version</a></td><td><a href=\"https://www.encodeproject.org/analysis-step-versions/0d28373f-2ea1-42fc-a23c-7cd8b3643d10/\">https://www.encodeproject.org/analysis-step-versions/0d28373f-2ea1-42fc-a23c-7cd8b3643d10/</a></td></tr><tr><td><a href=\"https://www.encodeproject.org/profiles/File.json#assembly\">file:assembly</a></td><td>mm10-minimal</td></tr><tr><td><a href=\"https://www.encodeproject.org/profiles/File.json#award\">file:award</a></td><td><a href=\"https://www.encodeproject.org/awards/U41HG006992/\">https://www.encodeproject.org/awards/U41HG006992/</a></td></tr><tr><td><a href=\"https://www.encodeproject.org/profiles/File.json#biological_replicates\">file:biological_replicates</a></td><td>1</td></tr><tr><td><a href=\"https://www.encodeproject.org/profiles/File.json#dataset\">file:dataset</a></td><td><a href=\"https://www.encodeproject.org/experiments/ENCSR181KQJ/\">experiments:ENCSR181KQJ/</a></td></tr><tr><td><a href=\"https://www.encodeproject.org/profiles/File.json#date_created\">file:date_created</a></td><td>2015-01-30T18:35:00.467050+00:00</td></tr><tr><td><a href=\"https://www.encodeproject.org/profiles/File.json#derived_from\">file:derived_from</a></td><td><a href=\"https://www.encodeproject.org/files/ENCFF091AAD/\">files:ENCFF091AAD/</a></td></tr><tr><td><a href=\"https://www.encodeproject.org/profiles/File.json#file_format\">file:file_format</a></td><td>bigWig</td></tr><tr><td><a href=\"https://www.encodeproject.org/profiles/File.json#file_size\">file:file_size</a></td><td>51861184</td></tr><tr><td><a href=\"https://www.encodeproject.org/profiles/File.json#file_type\">file:file_type</a></td><td>bigWig</td></tr><tr><td><a href=\"https://www.encodeproject.org/profiles/File.json#genome_annotation\">file:genome_annotation</a></td><td>M4</td></tr><tr><td><a href=\"https://www.encodeproject.org/profiles/File.json#href\">file:href</a></td><td><a href=\"https://www.encodeproject.org/files/ENCFF126EKN/@@download/ENCFF126EKN.bigWig\">files:ENCFF126EKN/@@download/ENCFF126EKN.bigWig</a></td></tr><tr><td><a href=\"https://www.encodeproject.org/profiles/File.json#lab\">file:lab</a></td><td><a href=\"https://www.encodeproject.org/labs/encode-processing-pipeline/\">https://www.encodeproject.org/labs/encode-processing-pipeline/</a></td></tr><tr><td><a href=\"https://www.encodeproject.org/profiles/File.json#md5sum\">file:md5sum</a></td><td>043f309b48aa3a888886712d8dfaeac5</td></tr><tr><td><a href=\"https://www.encodeproject.org/profiles/File.json#notes\">file:notes</a></td><td>{\"dx-createdBy\": {\"job\": \"job-BY56zz80F1GKy87JK431BJ47\", \"executable\": \"applet-BXgXy000F1G5216FY0VVZb4v\", \"user\": \"user-tdreszer\"}, \"software_versions\": [{\"version\": \"[2.4.0h]\", \"software\": \"STAR\"}, {\"version\": \"v4\", \"software\": \"bedGraphToBigWig\"}], \"dx-id\": \"file-BY5py3Q0PXX93qYqQZ3Pqy2P\"}</td></tr><tr><td><a href=\"https://www.encodeproject.org/profiles/File.json#output_category\">file:output_category</a></td><td>signal</td></tr><tr><td><a href=\"https://www.encodeproject.org/profiles/File.json#output_type\">file:output_type</a></td><td>plus strand signal of unique reads</td></tr><tr><td><a href=\"https://www.encodeproject.org/profiles/File.json#replicate\">file:replicate</a></td><td><a href=\"https://www.encodeproject.org/replicates/3bfdd234-2f49-4b07-ab72-daf434cb14e9/\">https://www.encodeproject.org/replicates/3bfdd234-2f49-4b07-ab72-daf434cb14e9/</a></td></tr><tr><td><a href=\"https://www.encodeproject.org/profiles/File.json#schema_version\">file:schema_version</a></td><td>8</td></tr><tr><td><a href=\"https://www.encodeproject.org/profiles/File.json#status\">file:status</a></td><td>archived</td></tr><tr><td><a href=\"https://www.encodeproject.org/profiles/File.json#step_run\">file:step_run</a></td><td>/analysis-step-runs/d34bebe5-6e8d-4497-b612-91efebb23284/</td></tr><tr><td><a href=\"https://www.encodeproject.org/profiles/File.json#submitted_by\">file:submitted_by</a></td><td><a href=\"https://www.encodeproject.org/users/a00d89e0-a488-4adf-9738-25149afc4087/\">https://www.encodeproject.org/users/a00d89e0-a488-4adf-9738-25149afc4087/</a></td></tr><tr><td><a href=\"https://www.encodeproject.org/profiles/File.json#submitted_file_name\">file:submitted_file_name</a></td><td>/lrna/mm10/M4/ENCSR181KQJ/rep1_1/ENCFF533AUL-ENCFF366KMQ_tophat_plusUniq.bw</td></tr><tr><td><a href=\"https://www.encodeproject.org/profiles/File.json#technical_replicates\">file:technical_replicates</a></td><td>1_1</td></tr><tr><td><a href=\"https://www.encodeproject.org/profiles/File.json#title\">file:title</a></td><td>ENCFF126EKN</td></tr><tr><td><a href=\"https://www.encodeproject.org/profiles/File.json#uuid\">file:uuid</a></td><td>86dcff02-463c-4aba-b9ef-88603f0069a1</td></tr></table>"
      ],
      "text/plain": [
       "<rdfmagic.LibRdfResults at 0x7ff15aa879e8>"
      ]
     },
     "execution_count": 9,
     "metadata": {},
     "output_type": "execute_result"
    }
   ],
   "source": [
    "%%sparql -m model\n",
    "select ?p ?o\n",
    "where {\n",
    "    <https://www.encodeproject.org/files/ENCFF126EKN/> ?p ?o .\n",
    "}"
   ]
  },
  {
   "cell_type": "code",
   "execution_count": 11,
   "metadata": {
    "collapsed": false
   },
   "outputs": [
    {
     "data": {
      "text/html": [
       "<table><tr><td>p</td><td>o</td></tr><tr><td><a href=\"http://www.w3.org/1999/02/22-rdf-syntax-ns#type\">rdf:type</a></td><td><a href=\"https://www.encodeproject.org/profiles/Replicate.json#Replicate\">replicate:Replicate</a></td></tr><tr><td><a href=\"http://www.w3.org/1999/02/22-rdf-syntax-ns#type\">rdf:type</a></td><td><a href=\"https://www.encodeproject.org/profiles/Replicate.json#Item\">replicate:Item</a></td></tr><tr><td><a href=\"https://www.encodeproject.org/profiles/Replicate.json#biological_replicate_number\">replicate:biological_replicate_number</a></td><td>1</td></tr><tr><td><a href=\"https://www.encodeproject.org/profiles/Replicate.json#date_created\">replicate:date_created</a></td><td>2014-10-07T20:09:48.239700+00:00</td></tr><tr><td><a href=\"https://www.encodeproject.org/profiles/Replicate.json#experiment\">replicate:experiment</a></td><td><a href=\"https://www.encodeproject.org/experiments/ENCSR181KQJ/\">experiments:ENCSR181KQJ/</a></td></tr><tr><td><a href=\"https://www.encodeproject.org/profiles/Replicate.json#library\">replicate:library</a></td><td><a href=\"https://www.encodeproject.org/libraries/ENCLB806ISB/\">libraries:ENCLB806ISB/</a></td></tr><tr><td><a href=\"https://www.encodeproject.org/profiles/Replicate.json#notes\">replicate:notes</a></td><td>[{u'machine': u'SN407', u'lane': u'8', u'barcode': u'AGGCAGAA', u'flowcell': u'BD2935ACXX'}, {u'machine': u'SN407', u'lane': u'7', u'barcode': u'AGGCAGAA', u'flowcell': u'BD2935ACXX'}, {u'machine': u'SN407', u'lane': u'6', u'barcode': u'AGGCAGAA', u'flowcell': u'BD2935ACXX'}, {u'machine': u'SN407', u'lane': u'5', u'barcode': u'AGGCAGAA', u'flowcell': u'BD2935ACXX'}] {}</td></tr><tr><td><a href=\"https://www.encodeproject.org/profiles/Replicate.json#schema_version\">replicate:schema_version</a></td><td>6</td></tr><tr><td><a href=\"https://www.encodeproject.org/profiles/Replicate.json#status\">replicate:status</a></td><td>released</td></tr><tr><td><a href=\"https://www.encodeproject.org/profiles/Replicate.json#submitted_by\">replicate:submitted_by</a></td><td><a href=\"https://www.encodeproject.org/users/6fa0dbe6-5b00-43a8-bc7f-6fd95eb74647/\">https://www.encodeproject.org/users/6fa0dbe6-5b00-43a8-bc7f-6fd95eb74647/</a></td></tr><tr><td><a href=\"https://www.encodeproject.org/profiles/Replicate.json#technical_replicate_number\">replicate:technical_replicate_number</a></td><td>1</td></tr><tr><td><a href=\"https://www.encodeproject.org/profiles/Replicate.json#uuid\">replicate:uuid</a></td><td>3bfdd234-2f49-4b07-ab72-daf434cb14e9</td></tr></table>"
      ],
      "text/plain": [
       "<rdfmagic.LibRdfResults at 0x7ff15a989048>"
      ]
     },
     "execution_count": 11,
     "metadata": {},
     "output_type": "execute_result"
    }
   ],
   "source": [
    "%%sparql -m model\n",
    "select ?p ?o\n",
    "where {\n",
    "    <https://www.encodeproject.org/replicates/3bfdd234-2f49-4b07-ab72-daf434cb14e9/> ?p ?o .\n",
    "}"
   ]
  },
  {
   "cell_type": "code",
   "execution_count": 12,
   "metadata": {
    "collapsed": false,
    "scrolled": false
   },
   "outputs": [
    {
     "data": {
      "text/html": [
       "<table><tr><td>p</td><td>o</td></tr><tr><td><a href=\"http://www.w3.org/1999/02/22-rdf-syntax-ns#type\">rdf:type</a></td><td><a href=\"https://www.encodeproject.org/profiles/Library.json#Library\">library:Library</a></td></tr><tr><td><a href=\"http://www.w3.org/1999/02/22-rdf-syntax-ns#type\">rdf:type</a></td><td><a href=\"https://www.encodeproject.org/profiles/Library.json#Item\">library:Item</a></td></tr><tr><td><a href=\"https://www.encodeproject.org/profiles/Library.json#accession\">library:accession</a></td><td>ENCLB806ISB</td></tr><tr><td><a href=\"https://www.encodeproject.org/profiles/Library.json#aliases\">library:aliases</a></td><td>ross-hardison:618</td></tr><tr><td><a href=\"https://www.encodeproject.org/profiles/Library.json#award\">library:award</a></td><td><a href=\"https://www.encodeproject.org/awards/U54HG006998/\">https://www.encodeproject.org/awards/U54HG006998/</a></td></tr><tr><td><a href=\"https://www.encodeproject.org/profiles/Library.json#biosample\">library:biosample</a></td><td><a href=\"https://www.encodeproject.org/biosamples/ENCBS158MXR/\">https://www.encodeproject.org/biosamples/ENCBS158MXR/</a></td></tr><tr><td><a href=\"https://www.encodeproject.org/profiles/Library.json#date_created\">library:date_created</a></td><td>2014-10-07T20:08:19.312866+00:00</td></tr><tr><td><a href=\"https://www.encodeproject.org/profiles/Library.json#dbxrefs\">library:dbxrefs</a></td><td>GEO:GSM2072506</td></tr><tr><td><a href=\"https://www.encodeproject.org/profiles/Library.json#documents\">library:documents</a></td><td><a href=\"https://www.encodeproject.org/documents/73547e04-fa47-41ac-8f6e-6b2664621dfd/\">https://www.encodeproject.org/documents/73547e04-fa47-41ac-8f6e-6b2664621dfd/</a></td></tr><tr><td><a href=\"https://www.encodeproject.org/profiles/Library.json#extraction_method\">library:extraction_method</a></td><td>see document</td></tr><tr><td><a href=\"https://www.encodeproject.org/profiles/Library.json#fragmentation_method\">library:fragmentation_method</a></td><td>chemical (Nextera tagmentation)</td></tr><tr><td><a href=\"https://www.encodeproject.org/profiles/Library.json#lab\">library:lab</a></td><td><a href=\"https://www.encodeproject.org/labs/ross-hardison/\">https://www.encodeproject.org/labs/ross-hardison/</a></td></tr><tr><td><a href=\"https://www.encodeproject.org/profiles/Library.json#library_size_selection_method\">library:library_size_selection_method</a></td><td>SPRI beads</td></tr><tr><td><a href=\"https://www.encodeproject.org/profiles/Library.json#lysis_method\">library:lysis_method</a></td><td>see document</td></tr><tr><td><a href=\"https://www.encodeproject.org/profiles/Library.json#notes\">library:notes</a></td><td>specific insert size range 157-466</td></tr><tr><td><a href=\"https://www.encodeproject.org/profiles/Library.json#nucleic_acid_starting_quantity\">library:nucleic_acid_starting_quantity</a></td><td>1</td></tr><tr><td><a href=\"https://www.encodeproject.org/profiles/Library.json#nucleic_acid_starting_quantity_units\">library:nucleic_acid_starting_quantity_units</a></td><td>ng</td></tr><tr><td><a href=\"https://www.encodeproject.org/profiles/Library.json#nucleic_acid_term_id\">library:nucleic_acid_term_id</a></td><td><a href=\"http://purl.obolibrary.org/obo/SO_0000356\">http://purl.obolibrary.org/obo/SO_0000356</a></td></tr><tr><td><a href=\"https://www.encodeproject.org/profiles/Library.json#nucleic_acid_term_name\">library:nucleic_acid_term_name</a></td><td>RNA</td></tr><tr><td><a href=\"https://www.encodeproject.org/profiles/Library.json#schema_version\">library:schema_version</a></td><td>5</td></tr><tr><td><a href=\"https://www.encodeproject.org/profiles/Library.json#size_range\">library:size_range</a></td><td>>200</td></tr><tr><td><a href=\"https://www.encodeproject.org/profiles/Library.json#spikeins_used\">library:spikeins_used</a></td><td>/references/ENCSR156CIL/</td></tr><tr><td><a href=\"https://www.encodeproject.org/profiles/Library.json#spikeins_used\">library:spikeins_used</a></td><td>/references/ENCSR013YHQ/</td></tr><tr><td><a href=\"https://www.encodeproject.org/profiles/Library.json#spikeins_used\">library:spikeins_used</a></td><td><a href=\"https://www.encodeproject.org/references/ENCSR156CIL/\">https://www.encodeproject.org/references/ENCSR156CIL/</a></td></tr><tr><td><a href=\"https://www.encodeproject.org/profiles/Library.json#spikeins_used\">library:spikeins_used</a></td><td><a href=\"https://www.encodeproject.org/references/ENCSR013YHQ/\">https://www.encodeproject.org/references/ENCSR013YHQ/</a></td></tr><tr><td><a href=\"https://www.encodeproject.org/profiles/Library.json#status\">library:status</a></td><td>released</td></tr><tr><td><a href=\"https://www.encodeproject.org/profiles/Library.json#strand_specificity\">library:strand_specificity</a></td><td>true</td></tr><tr><td><a href=\"https://www.encodeproject.org/profiles/Library.json#submitted_by\">library:submitted_by</a></td><td><a href=\"https://www.encodeproject.org/users/6fa0dbe6-5b00-43a8-bc7f-6fd95eb74647/\">https://www.encodeproject.org/users/6fa0dbe6-5b00-43a8-bc7f-6fd95eb74647/</a></td></tr><tr><td><a href=\"https://www.encodeproject.org/profiles/Library.json#uuid\">library:uuid</a></td><td>ed34c6c2-87d3-43a3-8c3b-e4cf94a8f35a</td></tr></table>"
      ],
      "text/plain": [
       "<rdfmagic.LibRdfResults at 0x7ff15a9890b8>"
      ]
     },
     "execution_count": 12,
     "metadata": {},
     "output_type": "execute_result"
    }
   ],
   "source": [
    "%%sparql -m model \n",
    "select ?p ?o\n",
    "where {\n",
    "    <https://www.encodeproject.org/libraries/ENCLB806ISB/> ?p ?o .\n",
    "}"
   ]
  },
  {
   "cell_type": "code",
   "execution_count": 13,
   "metadata": {
    "collapsed": false
   },
   "outputs": [
    {
     "data": {
      "text/html": [
       "<table><tr><td>p</td><td>o</td></tr><tr><td><a href=\"http://www.w3.org/1999/02/22-rdf-syntax-ns#type\">rdf:type</a></td><td><a href=\"https://www.encodeproject.org/profiles/Biosample.json#Biosample\">biosample:Biosample</a></td></tr><tr><td><a href=\"http://www.w3.org/1999/02/22-rdf-syntax-ns#type\">rdf:type</a></td><td><a href=\"https://www.encodeproject.org/profiles/Biosample.json#Item\">biosample:Item</a></td></tr><tr><td><a href=\"http://www.w3.org/1999/02/22-rdf-syntax-ns#description\">rdf:description</a></td><td>Gata1 restored erythroid cells, differentiation induced by estradiol (E2)</td></tr><tr><td><a href=\"https://www.encodeproject.org/profiles/Biosample.json#accession\">biosample:accession</a></td><td>ENCBS158MXR</td></tr><tr><td><a href=\"https://www.encodeproject.org/profiles/Biosample.json#age\">biosample:age</a></td><td>0</td></tr><tr><td><a href=\"https://www.encodeproject.org/profiles/Biosample.json#age_display\">biosample:age_display</a></td><td>0 day</td></tr><tr><td><a href=\"https://www.encodeproject.org/profiles/Biosample.json#age_units\">biosample:age_units</a></td><td>day</td></tr><tr><td><a href=\"https://www.encodeproject.org/profiles/Biosample.json#award\">biosample:award</a></td><td><a href=\"https://www.encodeproject.org/awards/U54HG006998/\">https://www.encodeproject.org/awards/U54HG006998/</a></td></tr><tr><td><a href=\"https://www.encodeproject.org/profiles/Biosample.json#biosample_term_id\">biosample:biosample_term_id</a></td><td><a href=\"http://www.ebi.ac.uk/efo/0002055\">http://www.ebi.ac.uk/efo/0002055</a></td></tr><tr><td><a href=\"https://www.encodeproject.org/profiles/Biosample.json#biosample_term_name\">biosample:biosample_term_name</a></td><td>G1E-ER4</td></tr><tr><td><a href=\"https://www.encodeproject.org/profiles/Biosample.json#biosample_type\">biosample:biosample_type</a></td><td>immortalized cell line</td></tr><tr><td><a href=\"https://www.encodeproject.org/profiles/Biosample.json#culture_harvest_date\">biosample:culture_harvest_date</a></td><td>2014-6-23</td></tr><tr><td><a href=\"https://www.encodeproject.org/profiles/Biosample.json#culture_start_date\">biosample:culture_start_date</a></td><td>2014-5-12</td></tr><tr><td><a href=\"https://www.encodeproject.org/profiles/Biosample.json#date_created\">biosample:date_created</a></td><td>2014-10-07T16:52:38.204949+00:00</td></tr><tr><td><a href=\"https://www.encodeproject.org/profiles/Biosample.json#dbxrefs\">biosample:dbxrefs</a></td><td>Cellosaurus:CVCL_D047</td></tr><tr><td><a href=\"https://www.encodeproject.org/profiles/Biosample.json#dbxrefs\">biosample:dbxrefs</a></td><td>GEO:SAMN04284018</td></tr><tr><td><a href=\"https://www.encodeproject.org/profiles/Biosample.json#donor\">biosample:donor</a></td><td>/mouse-donors/ENCDO072AAA/</td></tr><tr><td><a href=\"https://www.encodeproject.org/profiles/Biosample.json#donor\">biosample:donor</a></td><td><a href=\"https://www.encodeproject.org/mouse-donors/ENCDO072AAA/\">https://www.encodeproject.org/mouse-donors/ENCDO072AAA/</a></td></tr><tr><td><a href=\"https://www.encodeproject.org/profiles/Biosample.json#lab\">biosample:lab</a></td><td><a href=\"https://www.encodeproject.org/labs/ross-hardison/\">https://www.encodeproject.org/labs/ross-hardison/</a></td></tr><tr><td><a href=\"https://www.encodeproject.org/profiles/Biosample.json#life_stage\">biosample:life_stage</a></td><td>postnatal</td></tr><tr><td><a href=\"https://www.encodeproject.org/profiles/Biosample.json#model_organism_age\">biosample:model_organism_age</a></td><td>0</td></tr><tr><td><a href=\"https://www.encodeproject.org/profiles/Biosample.json#model_organism_age_units\">biosample:model_organism_age_units</a></td><td>day</td></tr><tr><td><a href=\"https://www.encodeproject.org/profiles/Biosample.json#model_organism_sex\">biosample:model_organism_sex</a></td><td>male</td></tr><tr><td><a href=\"https://www.encodeproject.org/profiles/Biosample.json#mouse_life_stage\">biosample:mouse_life_stage</a></td><td>postnatal</td></tr><tr><td><a href=\"https://www.encodeproject.org/profiles/Biosample.json#organism\">biosample:organism</a></td><td>/organisms/mouse/</td></tr><tr><td><a href=\"https://www.encodeproject.org/profiles/Biosample.json#organism\">biosample:organism</a></td><td><a href=\"https://www.encodeproject.org/organisms/mouse/\">https://www.encodeproject.org/organisms/mouse/</a></td></tr><tr><td><a href=\"https://www.encodeproject.org/profiles/Biosample.json#protocol_documents\">biosample:protocol_documents</a></td><td>/documents/dc07f2e2-47b0-43ab-afdb-36658562d322/</td></tr><tr><td><a href=\"https://www.encodeproject.org/profiles/Biosample.json#protocol_documents\">biosample:protocol_documents</a></td><td><a href=\"https://www.encodeproject.org/documents/dc07f2e2-47b0-43ab-afdb-36658562d322/\">https://www.encodeproject.org/documents/dc07f2e2-47b0-43ab-afdb-36658562d322/</a></td></tr><tr><td><a href=\"https://www.encodeproject.org/profiles/Biosample.json#schema_version\">biosample:schema_version</a></td><td>12</td></tr><tr><td><a href=\"https://www.encodeproject.org/profiles/Biosample.json#sex\">biosample:sex</a></td><td>male</td></tr><tr><td><a href=\"https://www.encodeproject.org/profiles/Biosample.json#source\">biosample:source</a></td><td>/sources/unknown/</td></tr><tr><td><a href=\"https://www.encodeproject.org/profiles/Biosample.json#source\">biosample:source</a></td><td><a href=\"https://www.encodeproject.org/sources/unknown/\">https://www.encodeproject.org/sources/unknown/</a></td></tr><tr><td><a href=\"https://www.encodeproject.org/profiles/Biosample.json#starting_amount\">biosample:starting_amount</a></td><td>10000000</td></tr><tr><td><a href=\"https://www.encodeproject.org/profiles/Biosample.json#starting_amount_units\">biosample:starting_amount_units</a></td><td>cells</td></tr><tr><td><a href=\"https://www.encodeproject.org/profiles/Biosample.json#status\">biosample:status</a></td><td>released</td></tr><tr><td><a href=\"https://www.encodeproject.org/profiles/Biosample.json#submitted_by\">biosample:submitted_by</a></td><td><a href=\"https://www.encodeproject.org/users/6fa0dbe6-5b00-43a8-bc7f-6fd95eb74647/\">https://www.encodeproject.org/users/6fa0dbe6-5b00-43a8-bc7f-6fd95eb74647/</a></td></tr><tr><td><a href=\"https://www.encodeproject.org/profiles/Biosample.json#summary\">biosample:summary</a></td><td>Mus musculus strain C57BL/6J G1E-ER4 immortalized cell line treated with 10 nM 17β-estradiol for 24 hours</td></tr><tr><td><a href=\"https://www.encodeproject.org/profiles/Biosample.json#treatments\">biosample:treatments</a></td><td>/treatments/e7af3855-b871-4e18-b45c-b6edea625386/</td></tr><tr><td><a href=\"https://www.encodeproject.org/profiles/Biosample.json#treatments\">biosample:treatments</a></td><td><a href=\"https://www.encodeproject.org/treatments/e7af3855-b871-4e18-b45c-b6edea625386/\">https://www.encodeproject.org/treatments/e7af3855-b871-4e18-b45c-b6edea625386/</a></td></tr><tr><td><a href=\"https://www.encodeproject.org/profiles/Biosample.json#uuid\">biosample:uuid</a></td><td>df9c4d97-c30d-4eba-aab3-a77fae84ef3a</td></tr></table>"
      ],
      "text/plain": [
       "<rdfmagic.LibRdfResults at 0x7ff15abb3be0>"
      ]
     },
     "execution_count": 13,
     "metadata": {},
     "output_type": "execute_result"
    }
   ],
   "source": [
    "%%sparql -m model\n",
    "select ?p ?o\n",
    "where {\n",
    "    <https://www.encodeproject.org/biosamples/ENCBS158MXR/> ?p ?o .\n",
    "}"
   ]
  },
  {
   "cell_type": "code",
   "execution_count": null,
   "metadata": {
    "collapsed": true
   },
   "outputs": [],
   "source": []
  }
 ],
 "metadata": {
  "kernelspec": {
   "display_name": "Python 3",
   "language": "python",
   "name": "python3"
  },
  "language_info": {
   "codemirror_mode": {
    "name": "ipython",
    "version": 3
   },
   "file_extension": ".py",
   "mimetype": "text/x-python",
   "name": "python",
   "nbconvert_exporter": "python",
   "pygments_lexer": "ipython3",
   "version": "3.5.2+"
  }
 },
 "nbformat": 4,
 "nbformat_minor": 0
}
