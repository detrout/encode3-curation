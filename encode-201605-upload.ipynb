{
 "cells": [
  {
   "cell_type": "markdown",
   "metadata": {},
   "source": [
    "# Introduction"
   ]
  },
  {
   "cell_type": "code",
   "execution_count": 1,
   "metadata": {
    "collapsed": false
   },
   "outputs": [],
   "source": [
    "import pandas\n",
    "import os\n",
    "import gcat\n",
    "import sys\n",
    "import hashlib\n",
    "import jsonschema\n",
    "import requests\n",
    "import paramiko\n",
    "import logging\n",
    "import importlib\n",
    "import gzip\n",
    "\n",
    "importlib.reload(logging)\n",
    "logging.basicConfig(level=logging.INFO)"
   ]
  },
  {
   "cell_type": "code",
   "execution_count": 2,
   "metadata": {
    "collapsed": true
   },
   "outputs": [],
   "source": [
    "from curation_common import *"
   ]
  },
  {
   "cell_type": "code",
   "execution_count": 3,
   "metadata": {
    "collapsed": true
   },
   "outputs": [],
   "source": [
    "ROOT = os.path.expanduser('~/proj/htsworkflow')\n",
    "if ROOT not in sys.path:\n",
    "    sys.path.append(ROOT)"
   ]
  },
  {
   "cell_type": "code",
   "execution_count": 4,
   "metadata": {
    "collapsed": false
   },
   "outputs": [],
   "source": [
    "server = ENCODED('www.encodeproject.org')\n",
    "server.load_netrc()"
   ]
  },
  {
   "cell_type": "code",
   "execution_count": 5,
   "metadata": {
    "collapsed": true
   },
   "outputs": [],
   "source": [
    "def make_manifest(spreadsheet_name, submission_name, submission_root, map_name):\n",
    "    book = xlsx = pandas.ExcelFile(spreadsheet_name)\n",
    "    \n",
    "    libraries = book.parse('Libraries')\n",
    "    replicates = book.parse('Replicates')\n",
    "    \n",
    "    pongo = paramiko.SSHClient()\n",
    "    pongo.set_missing_host_key_policy(paramiko.WarningPolicy())\n",
    "    pongo.connect('pongo.cacr.caltech.edu', username='diane')\n",
    "    sftp = pongo.open_sftp()\n",
    "    sftp.chdir(submission_root)\n",
    "    files = 0\n",
    "    for line in sftp.open(map_name):\n",
    "        # skip comments\n",
    "        line = line.strip()\n",
    "        if len(line) == 0 or line.startswith('#'):\n",
    "            continue\n",
    "\n",
    "        library_id, dirname = line.split()\n",
    "        alias = 'barbara-wold:{}'.format(library_id)\n",
    "        library_row = libraries[libraries['aliases:array'] == alias]\n",
    "        replicate_row = replicates[replicates['library'] == alias]\n",
    "        for filename in sftp.listdir(dirname):\n",
    "            if filename.endswith('fastq.gz'):\n",
    "                relative_path = os.path.join(dirname, filename)\n",
    "                metadata = {\n",
    "                    'dataset': list(replicate_row['experiment'])[0],\n",
    "                    'submitted_file_name': relative_path,\n",
    "                    'replicate': list(replicate_row['uuid'])[0],\n",
    "                    'lab': list(library_row['lab'])[0],\n",
    "                    'award': list(library_row['award'])[0],\n",
    "                }\n",
    "                #display.display_pretty(metadata)\n",
    "                print('<http://jumpgate.caltech.edu/wiki/SubmissionsLog/{}#{}>'.format(submission_name, dirname))\n",
    "                print('  encode3:dataset \"{}\" ;'.format(metadata['dataset']))\n",
    "                print('  encode3:replicate \"{}\" ;'.format(metadata['replicate']))\n",
    "                print('  encode3:lab \"{}\" ;'.format(metadata['lab']))\n",
    "                print('  encode3:award \"{}\" .'.format(metadata['award']))\n",
    "\n",
    "                print('<file:///woldlab/castor/home/diane/proj/submission/{}/{}>'.format(submission_name, relative_path))\n",
    "                print('  encode3:output_type \"reads\" ;')\n",
    "                print('  encode3:file_format \"fastq\" .')\n",
    "                files += 1\n",
    "\n",
    "    print('generated {} records'.format(files))\n"
   ]
  },
  {
   "cell_type": "code",
   "execution_count": 6,
   "metadata": {
    "collapsed": false
   },
   "outputs": [
    {
     "name": "stderr",
     "output_type": "stream",
     "text": [
      "INFO:paramiko.transport:Connected (version 2.0, client OpenSSH_7.2p2)\n",
      "/usr/lib/python3/dist-packages/paramiko/client.py:645: UserWarning: Unknown ssh-rsa host key for pongo.cacr.caltech.edu: b'6833531597d6176b45c27f33e9406a12'\n",
      "  (key.get_name(), hostname, hexlify(key.get_fingerprint())))\n",
      "INFO:paramiko.transport:Authentication (publickey) successful!\n",
      "INFO:paramiko.transport.sftp:[chan 0] Opened sftp connection (server version 3)\n"
     ]
    },
    {
     "name": "stdout",
     "output_type": "stream",
     "text": [
      "<http://jumpgate.caltech.edu/wiki/SubmissionsLog/encode-y3q2#15475>\n",
      "  encode3:dataset \"ENCSR362AIZ\" ;\n",
      "  encode3:replicate \"04cdf437-1e09-4603-b99a-dea90e86e556\" ;\n",
      "  encode3:lab \"barbara-wold\" ;\n",
      "  encode3:award \"U54HG006998\" .\n",
      "<file:///woldlab/castor/home/diane/proj/submission/encode-y3q2/15475/15475_H22Y2BCXX_c116_l1.fastq.gz>\n",
      "  encode3:output_type \"reads\" ;\n",
      "  encode3:file_format \"fastq\" .\n",
      "generated 1 records\n"
     ]
    }
   ],
   "source": [
    "make_manifest('/home/diane/dl/ENCODE Submission for Y3Q2.xlsx', 'encode-y3q2', 'proj/submission/encode-201605', 'libs.txt')"
   ]
  },
  {
   "cell_type": "code",
   "execution_count": 7,
   "metadata": {
    "collapsed": false
   },
   "outputs": [],
   "source": [
    "xlsx = pandas.ExcelFile('/home/diane/dl/ENCODE Submission for Y3Q2.xlsx')"
   ]
  },
  {
   "cell_type": "code",
   "execution_count": 8,
   "metadata": {
    "collapsed": false
   },
   "outputs": [
    {
     "data": {
      "text/plain": [
       "<xlrd.book.Book at 0x7f4426421c88>"
      ]
     },
     "execution_count": 8,
     "metadata": {},
     "output_type": "execute_result"
    }
   ],
   "source": [
    "xlsx.book"
   ]
  },
  {
   "cell_type": "code",
   "execution_count": 9,
   "metadata": {
    "collapsed": false
   },
   "outputs": [
    {
     "data": {
      "text/plain": [
       "['Experiments', 'Libraries', 'Replicates', 'Biosamples']"
      ]
     },
     "execution_count": 9,
     "metadata": {},
     "output_type": "execute_result"
    }
   ],
   "source": [
    "xlsx.sheet_names"
   ]
  },
  {
   "cell_type": "code",
   "execution_count": 10,
   "metadata": {
    "collapsed": false
   },
   "outputs": [
    {
     "data": {
      "text/html": [
       "<div>\n",
       "<table border=\"1\" class=\"dataframe\">\n",
       "  <thead>\n",
       "    <tr style=\"text-align: right;\">\n",
       "      <th></th>\n",
       "      <th>experiment_accession</th>\n",
       "      <th>description</th>\n",
       "      <th>assay_term_name</th>\n",
       "      <th>assay_term_id</th>\n",
       "      <th>species:skip</th>\n",
       "      <th>biosample_type</th>\n",
       "      <th>lab</th>\n",
       "      <th>award</th>\n",
       "    </tr>\n",
       "  </thead>\n",
       "  <tbody>\n",
       "    <tr>\n",
       "      <th>0</th>\n",
       "      <td>ENCSR362AIZ</td>\n",
       "      <td>Total RNA-Seq on postnatal 0 day mouse forebrain</td>\n",
       "      <td>RNA-Seq</td>\n",
       "      <td>OBI:0001271</td>\n",
       "      <td>human</td>\n",
       "      <td>tissue</td>\n",
       "      <td>barbara-wold</td>\n",
       "      <td>U54HG006998</td>\n",
       "    </tr>\n",
       "    <tr>\n",
       "      <th>1</th>\n",
       "      <td>ENCSR719NAJ</td>\n",
       "      <td>Total RNA-Seq on postnatal 0 day mouse midbrain</td>\n",
       "      <td>RNA-Seq</td>\n",
       "      <td>OBI:0001271</td>\n",
       "      <td>human</td>\n",
       "      <td>tissue</td>\n",
       "      <td>barbara-wold</td>\n",
       "      <td>U54HG006998</td>\n",
       "    </tr>\n",
       "    <tr>\n",
       "      <th>2</th>\n",
       "      <td>ENCSR017JEG</td>\n",
       "      <td>Total RNA-Seq on postnatal 0 day mouse hindbrain</td>\n",
       "      <td>RNA-Seq</td>\n",
       "      <td>OBI:0001271</td>\n",
       "      <td>human</td>\n",
       "      <td>tissue</td>\n",
       "      <td>barbara-wold</td>\n",
       "      <td>U54HG006998</td>\n",
       "    </tr>\n",
       "    <tr>\n",
       "      <th>3</th>\n",
       "      <td>ENCSR667TOX</td>\n",
       "      <td>Total RNA-Seq on postnatal 0 day mouse neural ...</td>\n",
       "      <td>RNA-Seq</td>\n",
       "      <td>OBI:0001271</td>\n",
       "      <td>human</td>\n",
       "      <td>tissue</td>\n",
       "      <td>barbara-wold</td>\n",
       "      <td>U54HG006998</td>\n",
       "    </tr>\n",
       "    <tr>\n",
       "      <th>4</th>\n",
       "      <td>ENCSR438XCG</td>\n",
       "      <td>Total RNA-Seq on postnatal 0 day mouse thymus</td>\n",
       "      <td>RNA-Seq</td>\n",
       "      <td>OBI:0001271</td>\n",
       "      <td>human</td>\n",
       "      <td>tissue</td>\n",
       "      <td>barbara-wold</td>\n",
       "      <td>U54HG006998</td>\n",
       "    </tr>\n",
       "    <tr>\n",
       "      <th>5</th>\n",
       "      <td>ENCSR526SEX</td>\n",
       "      <td>Total RNA-Seq on postnatal 0 day mouse heart</td>\n",
       "      <td>RNA-Seq</td>\n",
       "      <td>OBI:0001271</td>\n",
       "      <td>human</td>\n",
       "      <td>tissue</td>\n",
       "      <td>barbara-wold</td>\n",
       "      <td>U54HG006998</td>\n",
       "    </tr>\n",
       "    <tr>\n",
       "      <th>6</th>\n",
       "      <td>ENCSR982MRY</td>\n",
       "      <td>Total RNA-Seq on postnatal 0 day mouse lungs</td>\n",
       "      <td>RNA-Seq</td>\n",
       "      <td>OBI:0001271</td>\n",
       "      <td>human</td>\n",
       "      <td>tissue</td>\n",
       "      <td>barbara-wold</td>\n",
       "      <td>U54HG006998</td>\n",
       "    </tr>\n",
       "    <tr>\n",
       "      <th>7</th>\n",
       "      <td>ENCSR096STK</td>\n",
       "      <td>Total RNA-Seq on postnatal 0 day mouse liver</td>\n",
       "      <td>RNA-Seq</td>\n",
       "      <td>OBI:0001271</td>\n",
       "      <td>human</td>\n",
       "      <td>tissue</td>\n",
       "      <td>barbara-wold</td>\n",
       "      <td>U54HG006998</td>\n",
       "    </tr>\n",
       "    <tr>\n",
       "      <th>8</th>\n",
       "      <td>ENCSR946HWC</td>\n",
       "      <td>Total RNA-Seq on postnatal 0 day mouse skeleta...</td>\n",
       "      <td>RNA-Seq</td>\n",
       "      <td>OBI:0001271</td>\n",
       "      <td>human</td>\n",
       "      <td>tissue</td>\n",
       "      <td>barbara-wold</td>\n",
       "      <td>U54HG006998</td>\n",
       "    </tr>\n",
       "    <tr>\n",
       "      <th>9</th>\n",
       "      <td>ENCSR579FCW</td>\n",
       "      <td>Total RNA-Seq on postnatal 0 day mouse spleen</td>\n",
       "      <td>RNA-Seq</td>\n",
       "      <td>OBI:0001271</td>\n",
       "      <td>human</td>\n",
       "      <td>tissue</td>\n",
       "      <td>barbara-wold</td>\n",
       "      <td>U54HG006998</td>\n",
       "    </tr>\n",
       "    <tr>\n",
       "      <th>10</th>\n",
       "      <td>ENCSR772FQU</td>\n",
       "      <td>Total RNA-Seq on postnatal 0 day mouse bladder</td>\n",
       "      <td>RNA-Seq</td>\n",
       "      <td>OBI:0001271</td>\n",
       "      <td>human</td>\n",
       "      <td>tissue</td>\n",
       "      <td>barbara-wold</td>\n",
       "      <td>U54HG006998</td>\n",
       "    </tr>\n",
       "    <tr>\n",
       "      <th>11</th>\n",
       "      <td>ENCSR178GUS</td>\n",
       "      <td>Total RNA-Seq on postnatal 0 day mouse stomach</td>\n",
       "      <td>RNA-Seq</td>\n",
       "      <td>OBI:0001271</td>\n",
       "      <td>human</td>\n",
       "      <td>tissue</td>\n",
       "      <td>barbara-wold</td>\n",
       "      <td>U54HG006998</td>\n",
       "    </tr>\n",
       "    <tr>\n",
       "      <th>12</th>\n",
       "      <td>ENCSR331XCE</td>\n",
       "      <td>Total RNA-Seq on postnatal 0 day mouse intestine</td>\n",
       "      <td>RNA-Seq</td>\n",
       "      <td>OBI:0001271</td>\n",
       "      <td>human</td>\n",
       "      <td>tissue</td>\n",
       "      <td>barbara-wold</td>\n",
       "      <td>U54HG006998</td>\n",
       "    </tr>\n",
       "    <tr>\n",
       "      <th>13</th>\n",
       "      <td>ENCSR173PJN</td>\n",
       "      <td>Total RNA-Seq on postnatal 0 day mouse kidney</td>\n",
       "      <td>RNA-Seq</td>\n",
       "      <td>OBI:0001271</td>\n",
       "      <td>human</td>\n",
       "      <td>tissue</td>\n",
       "      <td>barbara-wold</td>\n",
       "      <td>U54HG006998</td>\n",
       "    </tr>\n",
       "    <tr>\n",
       "      <th>14</th>\n",
       "      <td>ENCSR739PEB</td>\n",
       "      <td>Total RNA-Seq on postnatal 0 day mouse adrenal...</td>\n",
       "      <td>RNA-Seq</td>\n",
       "      <td>OBI:0001271</td>\n",
       "      <td>human</td>\n",
       "      <td>tissue</td>\n",
       "      <td>barbara-wold</td>\n",
       "      <td>U54HG006998</td>\n",
       "    </tr>\n",
       "  </tbody>\n",
       "</table>\n",
       "</div>"
      ],
      "text/plain": [
       "   experiment_accession                                        description  \\\n",
       "0           ENCSR362AIZ   Total RNA-Seq on postnatal 0 day mouse forebrain   \n",
       "1           ENCSR719NAJ    Total RNA-Seq on postnatal 0 day mouse midbrain   \n",
       "2           ENCSR017JEG   Total RNA-Seq on postnatal 0 day mouse hindbrain   \n",
       "3           ENCSR667TOX  Total RNA-Seq on postnatal 0 day mouse neural ...   \n",
       "4           ENCSR438XCG      Total RNA-Seq on postnatal 0 day mouse thymus   \n",
       "5           ENCSR526SEX       Total RNA-Seq on postnatal 0 day mouse heart   \n",
       "6           ENCSR982MRY       Total RNA-Seq on postnatal 0 day mouse lungs   \n",
       "7           ENCSR096STK       Total RNA-Seq on postnatal 0 day mouse liver   \n",
       "8           ENCSR946HWC  Total RNA-Seq on postnatal 0 day mouse skeleta...   \n",
       "9           ENCSR579FCW      Total RNA-Seq on postnatal 0 day mouse spleen   \n",
       "10          ENCSR772FQU     Total RNA-Seq on postnatal 0 day mouse bladder   \n",
       "11          ENCSR178GUS     Total RNA-Seq on postnatal 0 day mouse stomach   \n",
       "12          ENCSR331XCE   Total RNA-Seq on postnatal 0 day mouse intestine   \n",
       "13          ENCSR173PJN      Total RNA-Seq on postnatal 0 day mouse kidney   \n",
       "14          ENCSR739PEB  Total RNA-Seq on postnatal 0 day mouse adrenal...   \n",
       "\n",
       "   assay_term_name assay_term_id species:skip biosample_type           lab  \\\n",
       "0          RNA-Seq   OBI:0001271        human         tissue  barbara-wold   \n",
       "1          RNA-Seq   OBI:0001271        human         tissue  barbara-wold   \n",
       "2          RNA-Seq   OBI:0001271        human         tissue  barbara-wold   \n",
       "3          RNA-Seq   OBI:0001271        human         tissue  barbara-wold   \n",
       "4          RNA-Seq   OBI:0001271        human         tissue  barbara-wold   \n",
       "5          RNA-Seq   OBI:0001271        human         tissue  barbara-wold   \n",
       "6          RNA-Seq   OBI:0001271        human         tissue  barbara-wold   \n",
       "7          RNA-Seq   OBI:0001271        human         tissue  barbara-wold   \n",
       "8          RNA-Seq   OBI:0001271        human         tissue  barbara-wold   \n",
       "9          RNA-Seq   OBI:0001271        human         tissue  barbara-wold   \n",
       "10         RNA-Seq   OBI:0001271        human         tissue  barbara-wold   \n",
       "11         RNA-Seq   OBI:0001271        human         tissue  barbara-wold   \n",
       "12         RNA-Seq   OBI:0001271        human         tissue  barbara-wold   \n",
       "13         RNA-Seq   OBI:0001271        human         tissue  barbara-wold   \n",
       "14         RNA-Seq   OBI:0001271        human         tissue  barbara-wold   \n",
       "\n",
       "          award  \n",
       "0   U54HG006998  \n",
       "1   U54HG006998  \n",
       "2   U54HG006998  \n",
       "3   U54HG006998  \n",
       "4   U54HG006998  \n",
       "5   U54HG006998  \n",
       "6   U54HG006998  \n",
       "7   U54HG006998  \n",
       "8   U54HG006998  \n",
       "9   U54HG006998  \n",
       "10  U54HG006998  \n",
       "11  U54HG006998  \n",
       "12  U54HG006998  \n",
       "13  U54HG006998  \n",
       "14  U54HG006998  "
      ]
     },
     "execution_count": 10,
     "metadata": {},
     "output_type": "execute_result"
    }
   ],
   "source": [
    "xlsx.parse('Experiments')"
   ]
  },
  {
   "cell_type": "code",
   "execution_count": null,
   "metadata": {
    "collapsed": true
   },
   "outputs": [],
   "source": []
  }
 ],
 "metadata": {
  "kernelspec": {
   "display_name": "Python 3",
   "language": "python",
   "name": "python3"
  },
  "language_info": {
   "codemirror_mode": {
    "name": "ipython",
    "version": 3
   },
   "file_extension": ".py",
   "mimetype": "text/x-python",
   "name": "python",
   "nbconvert_exporter": "python",
   "pygments_lexer": "ipython3",
   "version": "3.5.1+"
  }
 },
 "nbformat": 4,
 "nbformat_minor": 0
}
