{
 "metadata": {
  "name": "",
  "signature": "sha256:2fc2a2731dde534f1f1aea0fb65b0e9bba420888e8903e36ee24929c5611989b"
 },
 "nbformat": 3,
 "nbformat_minor": 0,
 "worksheets": [
  {
   "cells": [
    {
     "cell_type": "code",
     "collapsed": false,
     "input": [
      "from __future__ import print_function"
     ],
     "language": "python",
     "metadata": {},
     "outputs": [],
     "prompt_number": 1
    },
    {
     "cell_type": "code",
     "collapsed": false,
     "input": [
      "import collections\n",
      "import json\n",
      "import itertools\n",
      "import os\n",
      "import sys\n",
      "import types\n",
      "import urlparse\n",
      "from pprint import pprint\n",
      "\n",
      "from IPython.display import display_html\n",
      "import paramiko\n",
      "import gcat\n",
      "import pandas\n",
      "import requests\n",
      "import lxml.html\n",
      "import RDF"
     ],
     "language": "python",
     "metadata": {},
     "outputs": [],
     "prompt_number": 2
    },
    {
     "cell_type": "code",
     "collapsed": false,
     "input": [
      "%load_ext rdfmagic"
     ],
     "language": "python",
     "metadata": {},
     "outputs": [],
     "prompt_number": 3
    },
    {
     "cell_type": "code",
     "collapsed": false,
     "input": [
      "def load_custom():\n",
      "    paths = ['/home/diane/proj/htsworkflow']\n",
      "    for path in paths:\n",
      "        if path not in sys.path:\n",
      "            sys.path.append(path)\n",
      "load_custom()"
     ],
     "language": "python",
     "metadata": {},
     "outputs": [],
     "prompt_number": 4
    },
    {
     "cell_type": "code",
     "collapsed": false,
     "input": [
      "from htsworkflow.util.rdfhelp import get_model, dump_model, load_into_model\n",
      "from htsworkflow.util.rdfjsonld import load_into_model as load_jsonld_into_model\n",
      "from htsworkflow.submission import encoded"
     ],
     "language": "python",
     "metadata": {},
     "outputs": [],
     "prompt_number": 5
    },
    {
     "cell_type": "code",
     "collapsed": false,
     "input": [
      "server = encoded.ENCODED('www.encodedcc.org')\n",
      "server.load_netrc()"
     ],
     "language": "python",
     "metadata": {},
     "outputs": [],
     "prompt_number": 6
    },
    {
     "cell_type": "code",
     "collapsed": false,
     "input": [
      "%addns htsw http://jumpgate.caltech.edu/wiki/LibraryOntology#\n",
      "%addns library http://jumpgate.caltech.edu/library/\n",
      "%addns flowcell http://jumpgate.caltech.edu/flowcell/\n",
      "    \n",
      "%addns experiment https://www.encodedcc.org/profiles/experiment.json#\n",
      "%addns library https://www.encodedcc.org/profiles/library.json#\n",
      "%addns platform https://www.encodedcc.org/profiles/platform.json#\n",
      "%addns replicate https://www.encodedcc.org/profiles/replicate.json#    \n",
      "\n",
      "%addns experiments https://www.encodedcc.org/experiments/"
     ],
     "language": "python",
     "metadata": {},
     "outputs": [],
     "prompt_number": 7
    },
    {
     "cell_type": "code",
     "collapsed": false,
     "input": [
      "#sheet_name = '0Aq6WcUiK26MIdDhINnptRUU1YkxVbkxhYWhfSm5HNlE'\n",
      "spreadsheet_name = \"Brian's Mice\"\n",
      "mice_book = gcat.get_file(spreadsheet_name, fmt='pandas_excel')"
     ],
     "language": "python",
     "metadata": {},
     "outputs": [],
     "prompt_number": 8
    },
    {
     "cell_type": "code",
     "collapsed": false,
     "input": [
      "mice = mice_book.parse('Sheet 1')"
     ],
     "language": "python",
     "metadata": {},
     "outputs": [],
     "prompt_number": 9
    },
    {
     "cell_type": "code",
     "collapsed": false,
     "input": [
      "unregistered = mice[pandas.isnull(mice.biosample_accession)]"
     ],
     "language": "python",
     "metadata": {},
     "outputs": [],
     "prompt_number": 10
    },
    {
     "cell_type": "code",
     "collapsed": false,
     "input": [
      "def post_biosamples(biosamples, dry_run=True):\n",
      "    topost = []\n",
      "    results = []\n",
      "    for i in biosamples.index:\n",
      "        row = biosamples.ix[i]\n",
      "        columns = biosamples.columns\n",
      "        accession = row['biosample_accession']\n",
      "        if pandas.isnull(accession):\n",
      "            new_object = {}\n",
      "            for k in columns:\n",
      "                if pandas.notnull(row[k]):\n",
      "                    name, value = encoded.typed_column_parser(k, row[k])\n",
      "                    if name is None:\n",
      "                        continue\n",
      "                    else:\n",
      "                        new_object[name] = value\n",
      "            \n",
      "            try:\n",
      "                alias = new_object['aliases'][0]\n",
      "                created = server.get_json('/'+alias)\n",
      "                results.append((i, new_object.get('aliases'), created['@id'], created['uuid']))\n",
      "                print('row {} ({}) -> {}'.format(i, alias, created['@id']))\n",
      "            except requests.HTTPError as e:\n",
      "                if e.response.status_code == 404:\n",
      "                    server.validate(new_object, object_type='biosample')\n",
      "                    topost.append(new_object)\n",
      "            \n",
      "    # split in to phases to make sure everything validates \n",
      "    print('--- posting new records ---')\n",
      "    if not dry_run:\n",
      "        for new_object in topost:\n",
      "            try:\n",
      "                response = server.post_json('/biosamples/', new_object)\n",
      "            except requests.HTTPError as e:\n",
      "                print(\"HTTPError: {}\".format(e.response.status_code))\n",
      "                print(e.response.content)\n",
      "            created = response['@graph'][0]\n",
      "            results.append((i, new_object.get('aliases'), created['@id'], created['uuid']))\n",
      "            print('row {} ({}) -> {} {}'.format(\n",
      "                  i, new_object.get('aliases'), created['@id'], created['uuid']))\n",
      "    results = pandas.DataFrame(results, columns=['index', 'aliases', 'biosample_accession', 'uuid'])\n",
      "    return results\n",
      "post_biosamples(unregistered, False)"
     ],
     "language": "python",
     "metadata": {},
     "outputs": [
      {
       "output_type": "stream",
       "stream": "stderr",
       "text": [
        "ERROR:htsworkflow.submission.encoded:Error http status: 404\n"
       ]
      },
      {
       "output_type": "stream",
       "stream": "stderr",
       "text": [
        "ERROR:htsworkflow.submission.encoded:Error http status: 404\n"
       ]
      },
      {
       "output_type": "stream",
       "stream": "stderr",
       "text": [
        "ERROR:htsworkflow.submission.encoded:Error http status: 404\n"
       ]
      },
      {
       "output_type": "stream",
       "stream": "stderr",
       "text": [
        "ERROR:htsworkflow.submission.encoded:Error http status: 404\n"
       ]
      },
      {
       "output_type": "stream",
       "stream": "stderr",
       "text": [
        "ERROR:htsworkflow.submission.encoded:Error http status: 404\n"
       ]
      },
      {
       "output_type": "stream",
       "stream": "stderr",
       "text": [
        "ERROR:htsworkflow.submission.encoded:Error http status: 404\n"
       ]
      },
      {
       "output_type": "stream",
       "stream": "stderr",
       "text": [
        "ERROR:htsworkflow.submission.encoded:Error http status: 404\n"
       ]
      },
      {
       "output_type": "stream",
       "stream": "stderr",
       "text": [
        "ERROR:htsworkflow.submission.encoded:Error http status: 404\n"
       ]
      },
      {
       "output_type": "stream",
       "stream": "stderr",
       "text": [
        "ERROR:htsworkflow.submission.encoded:Error http status: 404\n"
       ]
      },
      {
       "output_type": "stream",
       "stream": "stderr",
       "text": [
        "ERROR:htsworkflow.submission.encoded:Error http status: 404\n"
       ]
      },
      {
       "output_type": "stream",
       "stream": "stderr",
       "text": [
        "ERROR:htsworkflow.submission.encoded:Error http status: 404\n"
       ]
      },
      {
       "output_type": "stream",
       "stream": "stderr",
       "text": [
        "ERROR:htsworkflow.submission.encoded:Error http status: 404\n"
       ]
      },
      {
       "output_type": "stream",
       "stream": "stderr",
       "text": [
        "ERROR:htsworkflow.submission.encoded:Error http status: 404\n"
       ]
      },
      {
       "output_type": "stream",
       "stream": "stderr",
       "text": [
        "ERROR:htsworkflow.submission.encoded:Error http status: 404\n"
       ]
      },
      {
       "output_type": "stream",
       "stream": "stderr",
       "text": [
        "ERROR:htsworkflow.submission.encoded:Error http status: 404\n"
       ]
      },
      {
       "output_type": "stream",
       "stream": "stderr",
       "text": [
        "ERROR:htsworkflow.submission.encoded:Error http status: 404\n"
       ]
      },
      {
       "output_type": "stream",
       "stream": "stderr",
       "text": [
        "ERROR:htsworkflow.submission.encoded:Error http status: 404\n"
       ]
      },
      {
       "output_type": "stream",
       "stream": "stderr",
       "text": [
        "ERROR:htsworkflow.submission.encoded:Error http status: 404\n"
       ]
      },
      {
       "output_type": "stream",
       "stream": "stderr",
       "text": [
        "ERROR:htsworkflow.submission.encoded:Error http status: 404\n"
       ]
      },
      {
       "output_type": "stream",
       "stream": "stderr",
       "text": [
        "ERROR:htsworkflow.submission.encoded:Error http status: 404\n"
       ]
      },
      {
       "output_type": "stream",
       "stream": "stderr",
       "text": [
        "ERROR:htsworkflow.submission.encoded:Error http status: 404\n"
       ]
      },
      {
       "output_type": "stream",
       "stream": "stderr",
       "text": [
        "ERROR:htsworkflow.submission.encoded:Error http status: 404\n"
       ]
      },
      {
       "output_type": "stream",
       "stream": "stdout",
       "text": [
        "row 37 (barbara-wold:e14.5-pooled-liver-07-01-14) -> /biosamples/ENCBS806IDC/\n",
        "--- posting new records ---"
       ]
      },
      {
       "output_type": "stream",
       "stream": "stdout",
       "text": [
        "\n",
        "row 59 ([u'barbara-wold:e14.5-pooled-liver-07-29-14']) -> /biosamples/ENCBS808BUA/ 64698890-1f2a-4cd1-9072-b505da16bed0"
       ]
      },
      {
       "output_type": "stream",
       "stream": "stdout",
       "text": [
        "\n",
        "row 59 ([u'barbara-wold:e14.5-pooled-liver-07-30-14']) -> /biosamples/ENCBS970WYZ/ 9d1b50ca-7190-4079-bd0e-6f228fb26369"
       ]
      },
      {
       "output_type": "stream",
       "stream": "stdout",
       "text": [
        "\n",
        "row 59 ([u'barbara-wold:e14.5-pooled-lung-07-15-14']) -> /biosamples/ENCBS226AFC/ 4fc38cb6-c575-43ab-920a-7c009dc8eadb"
       ]
      },
      {
       "output_type": "stream",
       "stream": "stdout",
       "text": [
        "\n",
        "row 59 ([u'barbara-wold:e14.5-pooled-lung-07-29-14']) -> /biosamples/ENCBS301TFU/ 1dca1bdd-7522-4aeb-8021-26ec3101d405"
       ]
      },
      {
       "output_type": "stream",
       "stream": "stdout",
       "text": [
        "\n",
        "row 59 ([u'barbara-wold:e14.5-pooled-lung-07-30-14']) -> /biosamples/ENCBS217FKX/ 254b81ec-bc90-4f93-a2be-b04837210a08"
       ]
      },
      {
       "output_type": "stream",
       "stream": "stdout",
       "text": [
        "\n",
        "row 59 ([u'barbara-wold:e14.5-pooled-lung-09-16-14']) -> /biosamples/ENCBS039ZQH/ 6732fa47-6441-42c2-973e-8d69c93f5c9a"
       ]
      },
      {
       "output_type": "stream",
       "stream": "stdout",
       "text": [
        "\n",
        "row 59 ([u'barbara-wold:e14.5-pooled-limb-07-01-14']) -> /biosamples/ENCBS614DXZ/ f90f4c76-1f4b-4458-8548-6c6ec624935d"
       ]
      },
      {
       "output_type": "stream",
       "stream": "stdout",
       "text": [
        "\n",
        "row 59 ([u'barbara-wold:e14.5-pooled-limb-07-15-14']) -> /biosamples/ENCBS278BYL/ 372b25b3-0934-4fac-b199-e7aca18fab66"
       ]
      },
      {
       "output_type": "stream",
       "stream": "stdout",
       "text": [
        "\n",
        "row 59 ([u'barbara-wold:e14.5-pooled-limb-07-30-14']) -> /biosamples/ENCBS057MNW/ 2f70c4b1-1164-4d0f-ad68-2b5cbf727bcd"
       ]
      },
      {
       "output_type": "stream",
       "stream": "stdout",
       "text": [
        "\n",
        "row 59 ([u'barbara-wold:e14.5-pooled-limb-09-16-14']) -> /biosamples/ENCBS430PZO/ c16c643a-bfe4-41ca-b2ad-44ed43340687"
       ]
      },
      {
       "output_type": "stream",
       "stream": "stdout",
       "text": [
        "\n",
        "row 59 ([u'barbara-wold:p0-pooled-forebrain-08-04-14']) -> /biosamples/ENCBS787YRB/ 3bbce4cb-1634-430c-8878-5056328b47de"
       ]
      },
      {
       "output_type": "stream",
       "stream": "stdout",
       "text": [
        "\n",
        "row 59 ([u'barbara-wold:p0-pooled-forebrain-08-19-14']) -> /biosamples/ENCBS520WYP/ f285c2e6-be84-4241-8846-ef7dfefb12ff"
       ]
      },
      {
       "output_type": "stream",
       "stream": "stdout",
       "text": [
        "\n",
        "row 59 ([u'barbara-wold:p0-pooled-hindbrain-08-04-14']) -> /biosamples/ENCBS319EBD/ da51eb72-5cf3-47f8-870e-67ea96bfbfc8"
       ]
      },
      {
       "output_type": "stream",
       "stream": "stdout",
       "text": [
        "\n",
        "row 59 ([u'barbara-wold:p0-pooled-hindbrain-08-19-14']) -> /biosamples/ENCBS468CCI/ 166ea310-1394-4f0d-9256-83004adecf93"
       ]
      },
      {
       "output_type": "stream",
       "stream": "stdout",
       "text": [
        "\n",
        "row 59 ([u'barbara-wold:p0-pooled-intestine-08-04-14']) -> /biosamples/ENCBS661LKR/ ff991e0e-39ae-43a4-ab74-ac2e5d9fb145"
       ]
      },
      {
       "output_type": "stream",
       "stream": "stdout",
       "text": [
        "\n",
        "row 59 ([u'barbara-wold:p0-pooled-intestine-08-19-14']) -> /biosamples/ENCBS048ZPJ/ aa6d8d56-364b-48b9-96da-aba7b0d983a8"
       ]
      },
      {
       "output_type": "stream",
       "stream": "stdout",
       "text": [
        "\n",
        "row 59 ([u'barbara-wold:p0-pooled-liver-07-22-14']) -> /biosamples/ENCBS492YQH/ 51950c0d-b515-4db5-a83d-ebee4711c4b2"
       ]
      },
      {
       "output_type": "stream",
       "stream": "stdout",
       "text": [
        "\n",
        "row 59 ([u'barbara-wold:p0-pooled-liver-08-04-14']) -> /biosamples/ENCBS608GWW/ 900a4ce3-449e-4a91-a19a-754470d27b91"
       ]
      },
      {
       "output_type": "stream",
       "stream": "stdout",
       "text": [
        "\n",
        "row 59 ([u'barbara-wold:p0-pooled-liver-08-19-14']) -> /biosamples/ENCBS131YPQ/ e3f8518c-331d-4ba8-8b2c-cb07dd72b974"
       ]
      },
      {
       "output_type": "stream",
       "stream": "stdout",
       "text": [
        "\n",
        "row 59 ([u'barbara-wold:p0-pooled-lung-07-22-14']) -> /biosamples/ENCBS950VDD/ e48f7d40-64a5-4e6b-9ff4-6a17d591e98b"
       ]
      },
      {
       "output_type": "stream",
       "stream": "stdout",
       "text": [
        "\n",
        "row 59 ([u'barbara-wold:p0-pooled-lung-08-04-14']) -> /biosamples/ENCBS050HTK/ 0be5f164-253d-4831-b26b-07b793a2f20c"
       ]
      },
      {
       "output_type": "stream",
       "stream": "stdout",
       "text": [
        "\n",
        "row 59 ([u'barbara-wold:p0-pooled-lung-08-19-14']) -> /biosamples/ENCBS984YEW/ e0929aed-379f-4763-b303-997484aad59a"
       ]
      },
      {
       "output_type": "stream",
       "stream": "stdout",
       "text": [
        "\n"
       ]
      },
      {
       "html": [
        "<div style=\"max-height:1000px;max-width:1500px;overflow:auto;\">\n",
        "<table border=\"1\" class=\"dataframe\">\n",
        "  <thead>\n",
        "    <tr style=\"text-align: right;\">\n",
        "      <th></th>\n",
        "      <th>index</th>\n",
        "      <th>aliases</th>\n",
        "      <th>biosample_accession</th>\n",
        "      <th>uuid</th>\n",
        "    </tr>\n",
        "  </thead>\n",
        "  <tbody>\n",
        "    <tr>\n",
        "      <th>0 </th>\n",
        "      <td> 37</td>\n",
        "      <td>  [barbara-wold:e14.5-pooled-liver-07-01-14]</td>\n",
        "      <td> /biosamples/ENCBS806IDC/</td>\n",
        "      <td> bf388435-e3f5-4afe-ae78-6a4e7aca024e</td>\n",
        "    </tr>\n",
        "    <tr>\n",
        "      <th>1 </th>\n",
        "      <td> 59</td>\n",
        "      <td>  [barbara-wold:e14.5-pooled-liver-07-29-14]</td>\n",
        "      <td> /biosamples/ENCBS808BUA/</td>\n",
        "      <td> 64698890-1f2a-4cd1-9072-b505da16bed0</td>\n",
        "    </tr>\n",
        "    <tr>\n",
        "      <th>2 </th>\n",
        "      <td> 59</td>\n",
        "      <td>  [barbara-wold:e14.5-pooled-liver-07-30-14]</td>\n",
        "      <td> /biosamples/ENCBS970WYZ/</td>\n",
        "      <td> 9d1b50ca-7190-4079-bd0e-6f228fb26369</td>\n",
        "    </tr>\n",
        "    <tr>\n",
        "      <th>3 </th>\n",
        "      <td> 59</td>\n",
        "      <td>   [barbara-wold:e14.5-pooled-lung-07-15-14]</td>\n",
        "      <td> /biosamples/ENCBS226AFC/</td>\n",
        "      <td> 4fc38cb6-c575-43ab-920a-7c009dc8eadb</td>\n",
        "    </tr>\n",
        "    <tr>\n",
        "      <th>4 </th>\n",
        "      <td> 59</td>\n",
        "      <td>   [barbara-wold:e14.5-pooled-lung-07-29-14]</td>\n",
        "      <td> /biosamples/ENCBS301TFU/</td>\n",
        "      <td> 1dca1bdd-7522-4aeb-8021-26ec3101d405</td>\n",
        "    </tr>\n",
        "    <tr>\n",
        "      <th>5 </th>\n",
        "      <td> 59</td>\n",
        "      <td>   [barbara-wold:e14.5-pooled-lung-07-30-14]</td>\n",
        "      <td> /biosamples/ENCBS217FKX/</td>\n",
        "      <td> 254b81ec-bc90-4f93-a2be-b04837210a08</td>\n",
        "    </tr>\n",
        "    <tr>\n",
        "      <th>6 </th>\n",
        "      <td> 59</td>\n",
        "      <td>   [barbara-wold:e14.5-pooled-lung-09-16-14]</td>\n",
        "      <td> /biosamples/ENCBS039ZQH/</td>\n",
        "      <td> 6732fa47-6441-42c2-973e-8d69c93f5c9a</td>\n",
        "    </tr>\n",
        "    <tr>\n",
        "      <th>7 </th>\n",
        "      <td> 59</td>\n",
        "      <td>   [barbara-wold:e14.5-pooled-limb-07-01-14]</td>\n",
        "      <td> /biosamples/ENCBS614DXZ/</td>\n",
        "      <td> f90f4c76-1f4b-4458-8548-6c6ec624935d</td>\n",
        "    </tr>\n",
        "    <tr>\n",
        "      <th>8 </th>\n",
        "      <td> 59</td>\n",
        "      <td>   [barbara-wold:e14.5-pooled-limb-07-15-14]</td>\n",
        "      <td> /biosamples/ENCBS278BYL/</td>\n",
        "      <td> 372b25b3-0934-4fac-b199-e7aca18fab66</td>\n",
        "    </tr>\n",
        "    <tr>\n",
        "      <th>9 </th>\n",
        "      <td> 59</td>\n",
        "      <td>   [barbara-wold:e14.5-pooled-limb-07-30-14]</td>\n",
        "      <td> /biosamples/ENCBS057MNW/</td>\n",
        "      <td> 2f70c4b1-1164-4d0f-ad68-2b5cbf727bcd</td>\n",
        "    </tr>\n",
        "    <tr>\n",
        "      <th>10</th>\n",
        "      <td> 59</td>\n",
        "      <td>   [barbara-wold:e14.5-pooled-limb-09-16-14]</td>\n",
        "      <td> /biosamples/ENCBS430PZO/</td>\n",
        "      <td> c16c643a-bfe4-41ca-b2ad-44ed43340687</td>\n",
        "    </tr>\n",
        "    <tr>\n",
        "      <th>11</th>\n",
        "      <td> 59</td>\n",
        "      <td> [barbara-wold:p0-pooled-forebrain-08-04-14]</td>\n",
        "      <td> /biosamples/ENCBS787YRB/</td>\n",
        "      <td> 3bbce4cb-1634-430c-8878-5056328b47de</td>\n",
        "    </tr>\n",
        "    <tr>\n",
        "      <th>12</th>\n",
        "      <td> 59</td>\n",
        "      <td> [barbara-wold:p0-pooled-forebrain-08-19-14]</td>\n",
        "      <td> /biosamples/ENCBS520WYP/</td>\n",
        "      <td> f285c2e6-be84-4241-8846-ef7dfefb12ff</td>\n",
        "    </tr>\n",
        "    <tr>\n",
        "      <th>13</th>\n",
        "      <td> 59</td>\n",
        "      <td> [barbara-wold:p0-pooled-hindbrain-08-04-14]</td>\n",
        "      <td> /biosamples/ENCBS319EBD/</td>\n",
        "      <td> da51eb72-5cf3-47f8-870e-67ea96bfbfc8</td>\n",
        "    </tr>\n",
        "    <tr>\n",
        "      <th>14</th>\n",
        "      <td> 59</td>\n",
        "      <td> [barbara-wold:p0-pooled-hindbrain-08-19-14]</td>\n",
        "      <td> /biosamples/ENCBS468CCI/</td>\n",
        "      <td> 166ea310-1394-4f0d-9256-83004adecf93</td>\n",
        "    </tr>\n",
        "    <tr>\n",
        "      <th>15</th>\n",
        "      <td> 59</td>\n",
        "      <td> [barbara-wold:p0-pooled-intestine-08-04-14]</td>\n",
        "      <td> /biosamples/ENCBS661LKR/</td>\n",
        "      <td> ff991e0e-39ae-43a4-ab74-ac2e5d9fb145</td>\n",
        "    </tr>\n",
        "    <tr>\n",
        "      <th>16</th>\n",
        "      <td> 59</td>\n",
        "      <td> [barbara-wold:p0-pooled-intestine-08-19-14]</td>\n",
        "      <td> /biosamples/ENCBS048ZPJ/</td>\n",
        "      <td> aa6d8d56-364b-48b9-96da-aba7b0d983a8</td>\n",
        "    </tr>\n",
        "    <tr>\n",
        "      <th>17</th>\n",
        "      <td> 59</td>\n",
        "      <td>     [barbara-wold:p0-pooled-liver-07-22-14]</td>\n",
        "      <td> /biosamples/ENCBS492YQH/</td>\n",
        "      <td> 51950c0d-b515-4db5-a83d-ebee4711c4b2</td>\n",
        "    </tr>\n",
        "    <tr>\n",
        "      <th>18</th>\n",
        "      <td> 59</td>\n",
        "      <td>     [barbara-wold:p0-pooled-liver-08-04-14]</td>\n",
        "      <td> /biosamples/ENCBS608GWW/</td>\n",
        "      <td> 900a4ce3-449e-4a91-a19a-754470d27b91</td>\n",
        "    </tr>\n",
        "    <tr>\n",
        "      <th>19</th>\n",
        "      <td> 59</td>\n",
        "      <td>     [barbara-wold:p0-pooled-liver-08-19-14]</td>\n",
        "      <td> /biosamples/ENCBS131YPQ/</td>\n",
        "      <td> e3f8518c-331d-4ba8-8b2c-cb07dd72b974</td>\n",
        "    </tr>\n",
        "    <tr>\n",
        "      <th>20</th>\n",
        "      <td> 59</td>\n",
        "      <td>      [barbara-wold:p0-pooled-lung-07-22-14]</td>\n",
        "      <td> /biosamples/ENCBS950VDD/</td>\n",
        "      <td> e48f7d40-64a5-4e6b-9ff4-6a17d591e98b</td>\n",
        "    </tr>\n",
        "    <tr>\n",
        "      <th>21</th>\n",
        "      <td> 59</td>\n",
        "      <td>      [barbara-wold:p0-pooled-lung-08-04-14]</td>\n",
        "      <td> /biosamples/ENCBS050HTK/</td>\n",
        "      <td> 0be5f164-253d-4831-b26b-07b793a2f20c</td>\n",
        "    </tr>\n",
        "    <tr>\n",
        "      <th>22</th>\n",
        "      <td> 59</td>\n",
        "      <td>      [barbara-wold:p0-pooled-lung-08-19-14]</td>\n",
        "      <td> /biosamples/ENCBS984YEW/</td>\n",
        "      <td> e0929aed-379f-4763-b303-997484aad59a</td>\n",
        "    </tr>\n",
        "  </tbody>\n",
        "</table>\n",
        "</div>"
       ],
       "metadata": {},
       "output_type": "pyout",
       "prompt_number": 12,
       "text": [
        "    index                                      aliases  \\\n",
        "0      37   [barbara-wold:e14.5-pooled-liver-07-01-14]   \n",
        "1      59   [barbara-wold:e14.5-pooled-liver-07-29-14]   \n",
        "2      59   [barbara-wold:e14.5-pooled-liver-07-30-14]   \n",
        "3      59    [barbara-wold:e14.5-pooled-lung-07-15-14]   \n",
        "4      59    [barbara-wold:e14.5-pooled-lung-07-29-14]   \n",
        "5      59    [barbara-wold:e14.5-pooled-lung-07-30-14]   \n",
        "6      59    [barbara-wold:e14.5-pooled-lung-09-16-14]   \n",
        "7      59    [barbara-wold:e14.5-pooled-limb-07-01-14]   \n",
        "8      59    [barbara-wold:e14.5-pooled-limb-07-15-14]   \n",
        "9      59    [barbara-wold:e14.5-pooled-limb-07-30-14]   \n",
        "10     59    [barbara-wold:e14.5-pooled-limb-09-16-14]   \n",
        "11     59  [barbara-wold:p0-pooled-forebrain-08-04-14]   \n",
        "12     59  [barbara-wold:p0-pooled-forebrain-08-19-14]   \n",
        "13     59  [barbara-wold:p0-pooled-hindbrain-08-04-14]   \n",
        "14     59  [barbara-wold:p0-pooled-hindbrain-08-19-14]   \n",
        "15     59  [barbara-wold:p0-pooled-intestine-08-04-14]   \n",
        "16     59  [barbara-wold:p0-pooled-intestine-08-19-14]   \n",
        "17     59      [barbara-wold:p0-pooled-liver-07-22-14]   \n",
        "18     59      [barbara-wold:p0-pooled-liver-08-04-14]   \n",
        "19     59      [barbara-wold:p0-pooled-liver-08-19-14]   \n",
        "20     59       [barbara-wold:p0-pooled-lung-07-22-14]   \n",
        "21     59       [barbara-wold:p0-pooled-lung-08-04-14]   \n",
        "22     59       [barbara-wold:p0-pooled-lung-08-19-14]   \n",
        "\n",
        "         biosample_accession                                  uuid  \n",
        "0   /biosamples/ENCBS806IDC/  bf388435-e3f5-4afe-ae78-6a4e7aca024e  \n",
        "1   /biosamples/ENCBS808BUA/  64698890-1f2a-4cd1-9072-b505da16bed0  \n",
        "2   /biosamples/ENCBS970WYZ/  9d1b50ca-7190-4079-bd0e-6f228fb26369  \n",
        "3   /biosamples/ENCBS226AFC/  4fc38cb6-c575-43ab-920a-7c009dc8eadb  \n",
        "4   /biosamples/ENCBS301TFU/  1dca1bdd-7522-4aeb-8021-26ec3101d405  \n",
        "5   /biosamples/ENCBS217FKX/  254b81ec-bc90-4f93-a2be-b04837210a08  \n",
        "6   /biosamples/ENCBS039ZQH/  6732fa47-6441-42c2-973e-8d69c93f5c9a  \n",
        "7   /biosamples/ENCBS614DXZ/  f90f4c76-1f4b-4458-8548-6c6ec624935d  \n",
        "8   /biosamples/ENCBS278BYL/  372b25b3-0934-4fac-b199-e7aca18fab66  \n",
        "9   /biosamples/ENCBS057MNW/  2f70c4b1-1164-4d0f-ad68-2b5cbf727bcd  \n",
        "10  /biosamples/ENCBS430PZO/  c16c643a-bfe4-41ca-b2ad-44ed43340687  \n",
        "11  /biosamples/ENCBS787YRB/  3bbce4cb-1634-430c-8878-5056328b47de  \n",
        "12  /biosamples/ENCBS520WYP/  f285c2e6-be84-4241-8846-ef7dfefb12ff  \n",
        "13  /biosamples/ENCBS319EBD/  da51eb72-5cf3-47f8-870e-67ea96bfbfc8  \n",
        "14  /biosamples/ENCBS468CCI/  166ea310-1394-4f0d-9256-83004adecf93  \n",
        "15  /biosamples/ENCBS661LKR/  ff991e0e-39ae-43a4-ab74-ac2e5d9fb145  \n",
        "16  /biosamples/ENCBS048ZPJ/  aa6d8d56-364b-48b9-96da-aba7b0d983a8  \n",
        "17  /biosamples/ENCBS492YQH/  51950c0d-b515-4db5-a83d-ebee4711c4b2  \n",
        "18  /biosamples/ENCBS608GWW/  900a4ce3-449e-4a91-a19a-754470d27b91  \n",
        "19  /biosamples/ENCBS131YPQ/  e3f8518c-331d-4ba8-8b2c-cb07dd72b974  \n",
        "20  /biosamples/ENCBS950VDD/  e48f7d40-64a5-4e6b-9ff4-6a17d591e98b  \n",
        "21  /biosamples/ENCBS050HTK/  0be5f164-253d-4831-b26b-07b793a2f20c  \n",
        "22  /biosamples/ENCBS984YEW/  e0929aed-379f-4763-b303-997484aad59a  "
       ]
      }
     ],
     "prompt_number": 12
    },
    {
     "cell_type": "code",
     "collapsed": false,
     "input": [
      "posted = _"
     ],
     "language": "python",
     "metadata": {},
     "outputs": [],
     "prompt_number": 13
    },
    {
     "cell_type": "code",
     "collapsed": false,
     "input": [
      "posted.to_excel('/tmp/written.xlsx')"
     ],
     "language": "python",
     "metadata": {},
     "outputs": [],
     "prompt_number": 16
    },
    {
     "cell_type": "code",
     "collapsed": false,
     "input": [],
     "language": "python",
     "metadata": {},
     "outputs": []
    }
   ],
   "metadata": {}
  }
 ]
}