{
 "metadata": {
  "name": ""
 },
 "nbformat": 3,
 "nbformat_minor": 0,
 "worksheets": [
  {
   "cells": [
    {
     "cell_type": "heading",
     "level": 1,
     "metadata": {},
     "source": [
      "Comparing RDF API"
     ]
    },
    {
     "cell_type": "markdown",
     "metadata": {},
     "source": [
      "From python I have several possible APIs for storing and querying RDF data. I've been using Redland as their API was reasonably stable and I could easily run it on my servers. However when I started bulk loading a 30,000 triple dataset into a hash database I noticed it taking an annoyingly long time, and thought I should see if there was something I could do to improve things.\n",
      "\n",
      " * [Redland](http://librdf.org)\n",
      " * [RDFLib](https://github.com/RDFLib/rdflib)\n",
      " * [Soprano](file:///usr/share/soprano/doc/html/index.html)\n",
      "\n",
      "Redland provides a C API and a set of command line tools for working with RDF data. \n",
      "\n",
      "RDFLib is a pure python library. The 3.0 series seemed too hard to install. However the 4.0 series installed in a usable configuration with a quick pip install rdflib\n",
      "\n",
      "Soprano is a KDE specific technology so is unlikely to be useful to most others. The nice thing about Soprano is that it's appears to be able to start OpenLink [Virtuoso](http://virtuoso.openlinksw.com/) as the current user. I'm using the [PyKDE4](http://techbase.kde.org/Development/Languages/Python/Using_PyKDE_4) wrappers for accessing it.\n",
      "\n",
      "These tests were run on a thinkpad x220. I was also doing other light work at the same time. You should only pay attention to the shapes of the curves. The import question really is what order operation is inserting new triples."
     ]
    },
    {
     "cell_type": "heading",
     "level": 1,
     "metadata": {},
     "source": [
      "Table of Contents"
     ]
    },
    {
     "cell_type": "markdown",
     "metadata": {},
     "source": [
      " * [Loading Data](#Loading-Data)\n",
      " * [Timing Triple Loader](#Timing-Triple-Loader)\n",
      " * [API Specific Code](#API-Specific-Code)\n",
      "   * [Redland](#Redland)\n",
      "   * [Redland Timing Tests](#Redland-Timing-Tests)\n",
      "     * [Redland Null](#Redland-Null)\n",
      "     * [Redland Memory](#Redland-Memory)\n",
      "     * [Redland Hash](#Redland-Hash)\n",
      "   * [RDFlib](#RDFLib)\n",
      "   * [Soprano](#Soprano)\n",
      "   * [Soprano Timing Tests](#Soprano-Timing-Tests)\n",
      "     * [Soprano Null](#Soprano-Null)\n",
      "     * [Soprano in Memory](#Soprano-in-memory)\n",
      "     * [Soprano Hash](#Soprano-Hash)\n",
      "     * [Soprano Virtuoso](#Soprano-Virtuoso)\n",
      "   * [Relational SQLite3](#Relational-SQLite3)\n",
      " * [Plots](#Plots) comparing loading into different triple stores\n",
      " * [Discussion](#Discussion)\n",
      " * [Soprano with Python](#Soprano-with-Python) the PyKDE API could be improved"
     ]
    },
    {
     "cell_type": "code",
     "collapsed": false,
     "input": [
      "import os\n",
      "import json\n",
      "import shutil\n",
      "import sys\n",
      "import tempfile\n",
      "import time\n",
      "import uuid\n",
      "\n",
      "%pylab inline"
     ],
     "language": "python",
     "metadata": {},
     "outputs": [
      {
       "output_type": "stream",
       "stream": "stdout",
       "text": [
        "Populating the interactive namespace from numpy and matplotlib\n"
       ]
      }
     ],
     "prompt_number": 1
    },
    {
     "cell_type": "heading",
     "level": 1,
     "metadata": {},
     "source": [
      "Loading Data"
     ]
    },
    {
     "cell_type": "markdown",
     "metadata": {},
     "source": [
      "For my real project, I'm grabbing some json from a web app, and using [PyLD](https://pypi.python.org/pypi/PyLD/0.4.9) converting it into a JSON serialization of RDF. However for this benchmarking, that's a bit of a distraction. So to simplify this notebook and to save on their bandwidth I'm just going to load the dataset from a file."
     ]
    },
    {
     "cell_type": "code",
     "collapsed": false,
     "input": [
      "with open(os.getcwd() + '/experiments.json', 'r') as instream:\n",
      "    data = instream.read()\n",
      "    experiments = json.loads(data)"
     ],
     "language": "python",
     "metadata": {},
     "outputs": [],
     "prompt_number": 2
    },
    {
     "cell_type": "code",
     "collapsed": false,
     "input": [
      "for k in experiments:\n",
      "    print '{}: {}'.format(k, len(experiments[k]))"
     ],
     "language": "python",
     "metadata": {},
     "outputs": [
      {
       "output_type": "stream",
       "stream": "stdout",
       "text": [
        "http://submit.encodedcc.org/experiments/: 32509\n",
        "@default: 20\n"
       ]
      }
     ],
     "prompt_number": 3
    },
    {
     "cell_type": "markdown",
     "metadata": {},
     "source": [
      "A few records from the dataset so you can see what it looks like"
     ]
    },
    {
     "cell_type": "code",
     "collapsed": false,
     "input": [
      "experiments['http://submit.encodedcc.org/experiments/'][:5]"
     ],
     "language": "python",
     "metadata": {},
     "outputs": [
      {
       "metadata": {},
       "output_type": "pyout",
       "prompt_number": 4,
       "text": [
        "[{u'object': {u'type': u'IRI',\n",
        "   u'value': u'http://submit.encodedcc.org/profiles/experiment.json#experiment'},\n",
        "  u'predicate': {u'type': u'IRI',\n",
        "   u'value': u'http://www.w3.org/1999/02/22-rdf-syntax-ns#type'},\n",
        "  u'subject': {u'type': u'IRI',\n",
        "   u'value': u'http://submit.encodedcc.org/experiments/ENCSR000AAA/'}},\n",
        " {u'object': {u'type': u'IRI',\n",
        "   u'value': u'http://submit.encodedcc.org/profiles/experiment.json#item'},\n",
        "  u'predicate': {u'type': u'IRI',\n",
        "   u'value': u'http://www.w3.org/1999/02/22-rdf-syntax-ns#type'},\n",
        "  u'subject': {u'type': u'IRI',\n",
        "   u'value': u'http://submit.encodedcc.org/experiments/ENCSR000AAA/'}},\n",
        " {u'object': {u'datatype': u'http://www.w3.org/2001/XMLSchema#string',\n",
        "   u'type': u'literal',\n",
        "   u'value': u'ENCSR000AAA'},\n",
        "  u'predicate': {u'type': u'IRI',\n",
        "   u'value': u'http://submit.encodedcc.org/profiles/experiment.json#accession'},\n",
        "  u'subject': {u'type': u'IRI',\n",
        "   u'value': u'http://submit.encodedcc.org/experiments/ENCSR000AAA/'}},\n",
        " {u'object': {u'datatype': u'http://www.w3.org/2001/XMLSchema#string',\n",
        "   u'type': u'literal',\n",
        "   u'value': u'RNA-seq'},\n",
        "  u'predicate': {u'type': u'IRI',\n",
        "   u'value': u'http://submit.encodedcc.org/profiles/experiment.json#assay_term_name'},\n",
        "  u'subject': {u'type': u'IRI',\n",
        "   u'value': u'http://submit.encodedcc.org/experiments/ENCSR000AAA/'}},\n",
        " {u'object': {u'datatype': u'http://www.w3.org/2001/XMLSchema#string',\n",
        "   u'type': u'literal',\n",
        "   u'value': u'ENCODE2'},\n",
        "  u'predicate': {u'type': u'IRI',\n",
        "   u'value': u'http://submit.encodedcc.org/profiles/experiment.json#award.rfa'},\n",
        "  u'subject': {u'type': u'IRI',\n",
        "   u'value': u'http://submit.encodedcc.org/experiments/ENCSR000AAA/'}}]"
       ]
      }
     ],
     "prompt_number": 4
    },
    {
     "cell_type": "markdown",
     "metadata": {},
     "source": [
      "[Top](#Table-of-Contents)"
     ]
    },
    {
     "cell_type": "heading",
     "level": 2,
     "metadata": {},
     "source": [
      "Timing Cache"
     ]
    },
    {
     "cell_type": "markdown",
     "metadata": {},
     "source": [
      "Since some of these loaders are slow, I felt I should save the times between times updating this notebook."
     ]
    },
    {
     "cell_type": "code",
     "collapsed": false,
     "input": [
      "import shelve\n",
      "timing = shelve.open('rdf-timing')"
     ],
     "language": "python",
     "metadata": {},
     "outputs": [],
     "prompt_number": 5
    },
    {
     "cell_type": "heading",
     "level": 1,
     "metadata": {},
     "source": [
      "Timing Triple Loader"
     ]
    },
    {
     "cell_type": "markdown",
     "metadata": {},
     "source": [
      "This is a generic loader, it stores a progress timestamp every 1%, and prints a progress report every 10%.\n",
      "\n",
      "By passing in functions for the data-conversion and model adding functions I can reuse it for all the triple stores, and even basic python operations.\n",
      "\n",
      "It returns a parallel array of the loaded index and the timestamp from the base $t_{zero}$ time."
     ]
    },
    {
     "cell_type": "code",
     "collapsed": false,
     "input": [
      "def loadModel(graph, toNode, toStatement, Add, Commit=None):\n",
      "    \"\"\"load a graph into model.\n",
      "    \n",
      "    toNode is your conversion function\n",
      "    toStatement is your statement maker\n",
      "    Add - is the model load function e.g. model.addStatement\n",
      "    Commit - Some APIs support a post loading 'save' function that delays\n",
      "             building an index until this is run.\n",
      "    \"\"\"\n",
      "    tzero = time.time()\n",
      "    time_previous = tzero\n",
      "    time_now = tzero\n",
      "    index_previous = 0\n",
      "    l = len(graph)\n",
      "    onepercent = int(.01 * l)\n",
      "    tenpercent = int(.1 * l)\n",
      "    timestamps = [[] , []]\n",
      "    print 'length: {}'.format(l)\n",
      "    for i, triple in enumerate(graph):\n",
      "        s = toNode(triple['subject'])\n",
      "        p = toNode(triple['predicate'])\n",
      "        o = toNode(triple['object'])\n",
      "        Add(toStatement(s, p, o))\n",
      "        if i > 1 and  i % onepercent == 0:\n",
      "            time_now = time.time()\n",
      "            if i > 1 and i % tenpercent == 0:\n",
      "                print '{} of {} {}. {} {}'.format(i, l, time_now-tzero, i-index_previous, time_now-time_previous)\n",
      "            timestamps[0].append(i)\n",
      "            timestamps[1].append(time_now-tzero)\n",
      "            time_previous = time_now\n",
      "            index_previous = i\n",
      "    if Commit:\n",
      "        Commit()\n",
      "        timestamps[0].append(i+1)\n",
      "        timestamps[1].append(time.time() - tzero)\n",
      "        \n",
      "    return timestamps"
     ],
     "language": "python",
     "metadata": {},
     "outputs": [],
     "prompt_number": 6
    },
    {
     "cell_type": "markdown",
     "metadata": {},
     "source": [
      "To illustrate using it, here's the simple case using python functions that most closely map to the triple loader functionality."
     ]
    },
    {
     "cell_type": "code",
     "collapsed": false,
     "input": [
      "def PythonLoader():\n",
      "    \"\"\"This uses python functions for the timing loader.\n",
      "    \"\"\"\n",
      "    model = []\n",
      "    timing = loadModel(experiments['http://submit.encodedcc.org/experiments/'],\n",
      "                        str,\n",
      "                        lambda x,y,z: (x,y,z),\n",
      "                        model.append)\n",
      "    return timing\n",
      "                                        \n",
      "timing['pure-python'] = PythonLoader()"
     ],
     "language": "python",
     "metadata": {},
     "outputs": [
      {
       "output_type": "stream",
       "stream": "stdout",
       "text": [
        "length: 32509\n",
        "3250 of 32509 0.0269148349762. 325 0.00243592262268\n",
        "6500 of 32509 0.0505599975586. 325 0.00211310386658"
       ]
      },
      {
       "output_type": "stream",
       "stream": "stdout",
       "text": [
        "\n",
        "9750 of 32509 0.0820269584656. 325 0.00240397453308\n",
        "13000 of 32509 0.102426052094. 325 0.00202918052673"
       ]
      },
      {
       "output_type": "stream",
       "stream": "stdout",
       "text": [
        "\n",
        "16250 of 32509 0.12731385231. 325 0.00392389297485\n",
        "19500 of 32509 0.151532888412. 325 0.00185894966125\n",
        "22750 of 32509 0.172271966934. 325 0.00218796730042"
       ]
      },
      {
       "output_type": "stream",
       "stream": "stdout",
       "text": [
        "\n",
        "26000 of 32509 0.196752071381. 325 0.00181913375854\n",
        "29250 of 32509 0.222074985504. 325 0.00187706947327\n",
        "32500 of 32509 0.240712881088. 325 0.00181102752686"
       ]
      },
      {
       "output_type": "stream",
       "stream": "stdout",
       "text": [
        "\n"
       ]
      }
     ],
     "prompt_number": 7
    },
    {
     "cell_type": "markdown",
     "metadata": {},
     "source": [
      "[Top](#Table-of-Contents)"
     ]
    },
    {
     "cell_type": "heading",
     "level": 1,
     "metadata": {},
     "source": [
      "API Specific Code"
     ]
    },
    {
     "cell_type": "heading",
     "level": 2,
     "metadata": {},
     "source": [
      "Redland"
     ]
    },
    {
     "cell_type": "code",
     "collapsed": false,
     "input": [
      "import RDF"
     ],
     "language": "python",
     "metadata": {},
     "outputs": [],
     "prompt_number": 8
    },
    {
     "cell_type": "code",
     "collapsed": false,
     "input": [
      "def pyldToRedlandNode(item):\n",
      "    \"\"\"JSON-node to Redland RDF Node\n",
      "    \"\"\"\n",
      "    nodetype = item['type']\n",
      "    value = item['value']\n",
      "    datatype = item.get('datatype', None)\n",
      "\n",
      "    if nodetype == 'blank node':\n",
      "        return RDF.Node(blank=value)\n",
      "    elif nodetype == 'IRI':\n",
      "        return RDF.Node(uri_string=str(value))\n",
      "    else:\n",
      "        return RDF.Node(literal=unicode(value).encode('utf-8'), \n",
      "                        datatype=RDF.Uri(datatype))\n"
     ],
     "language": "python",
     "metadata": {},
     "outputs": [],
     "prompt_number": 9
    },
    {
     "cell_type": "code",
     "collapsed": false,
     "input": [
      "RDFS = RDF.NS(\"http://www.w3.org/2000/01/rdf-schema#\")\n",
      "s = pyldToRedlandNode({'type': 'blank node', 'value': ''})\n",
      "p = pyldToRedlandNode({'type': 'IRI', 'value': RDFS['label']})\n",
      "o = pyldToRedlandNode({'type': 'literal', 'value': 7, 'datatype': \"http://www.w3.org/2001/XMLSchema#integer\"})\n",
      "\n",
      "assert s.is_blank()\n",
      "assert p.is_resource()\n",
      "assert o.is_literal()\n",
      "assert o.literal_value['string'] == '7'"
     ],
     "language": "python",
     "metadata": {},
     "outputs": [],
     "prompt_number": 10
    },
    {
     "cell_type": "markdown",
     "metadata": {},
     "source": [
      "[Top](#Table-of-Contents)"
     ]
    },
    {
     "cell_type": "heading",
     "level": 2,
     "metadata": {},
     "source": [
      "Redland Timing Tests"
     ]
    },
    {
     "cell_type": "heading",
     "level": 3,
     "metadata": {},
     "source": [
      "Redland Null"
     ]
    },
    {
     "cell_type": "code",
     "collapsed": false,
     "input": [
      "def testRedlandPython():\n",
      "    \"\"\"This uses python functions for the timing loader.\n",
      "    \n",
      "    Thus gives a minimal baseline of how type conversion takes\n",
      "    \"\"\"\n",
      "    model = []\n",
      "    timing = loadModel(experiments['http://submit.encodedcc.org/experiments/'],\n",
      "                        pyldToRedlandNode,\n",
      "                        lambda x,y,z: (x,y,z),\n",
      "                        model.append)\n",
      "    return timing\n",
      "                                        \n",
      "timing['redland-python'] = testRedlandPython()"
     ],
     "language": "python",
     "metadata": {},
     "outputs": [
      {
       "output_type": "stream",
       "stream": "stdout",
       "text": [
        "length: 32509\n",
        "3250 of 32509 0.119760036469. 325 0.046886920929"
       ]
      },
      {
       "output_type": "stream",
       "stream": "stdout",
       "text": [
        "\n",
        "6500 of 32509 0.198075056076. 325 0.00653505325317"
       ]
      },
      {
       "output_type": "stream",
       "stream": "stdout",
       "text": [
        "\n",
        "9750 of 32509 0.266803979874. 325 0.00576901435852"
       ]
      },
      {
       "output_type": "stream",
       "stream": "stdout",
       "text": [
        "\n",
        "13000 of 32509 0.328070163727. 325 0.00610303878784"
       ]
      },
      {
       "output_type": "stream",
       "stream": "stdout",
       "text": [
        "\n",
        "16250 of 32509 0.389616012573. 325 0.00576281547546"
       ]
      },
      {
       "output_type": "stream",
       "stream": "stdout",
       "text": [
        "\n",
        "19500 of 32509 0.50829410553. 325 0.00659990310669"
       ]
      },
      {
       "output_type": "stream",
       "stream": "stdout",
       "text": [
        "\n",
        "22750 of 32509 0.571217060089. 325 0.00665307044983"
       ]
      },
      {
       "output_type": "stream",
       "stream": "stdout",
       "text": [
        "\n",
        "26000 of 32509 0.632225036621. 325 0.00585603713989"
       ]
      },
      {
       "output_type": "stream",
       "stream": "stdout",
       "text": [
        "\n",
        "29250 of 32509 0.69336104393. 325 0.00584888458252"
       ]
      },
      {
       "output_type": "stream",
       "stream": "stdout",
       "text": [
        "\n",
        "32500 of 32509 0.808782100677. 325 0.00580906867981"
       ]
      },
      {
       "output_type": "stream",
       "stream": "stdout",
       "text": [
        "\n"
       ]
      }
     ],
     "prompt_number": 11
    },
    {
     "cell_type": "markdown",
     "metadata": {},
     "source": [
      "[Top](#Table-of-Contents)"
     ]
    },
    {
     "cell_type": "heading",
     "level": 3,
     "metadata": {},
     "source": [
      "Redland Memory"
     ]
    },
    {
     "cell_type": "code",
     "collapsed": false,
     "input": [
      "def testRedlandMemory():\n",
      "    \"\"\"Constructs an in-memory Redland RDF model\n",
      "    \"\"\"\n",
      "    storage = RDF.MemoryStorage()\n",
      "    model = RDF.Model(storage)\n",
      "    timing = loadModel(experiments['http://submit.encodedcc.org/experiments/'],\n",
      "                        pyldToRedlandNode,\n",
      "                        RDF.Statement,\n",
      "                        model.add_statement)\n",
      "    return timing\n",
      "                                        \n",
      "timing['redland-memory'] = testRedlandMemory()        "
     ],
     "language": "python",
     "metadata": {},
     "outputs": [
      {
       "output_type": "stream",
       "stream": "stdout",
       "text": [
        "length: 32509\n",
        "3250 of 32509 0.263481855392. 325 0.0374739170074"
       ]
      },
      {
       "output_type": "stream",
       "stream": "stdout",
       "text": [
        "\n",
        "6500 of 32509 0.802514076233. 325 0.0692582130432"
       ]
      },
      {
       "output_type": "stream",
       "stream": "stdout",
       "text": [
        "\n",
        "9750 of 32509 1.75570607185. 325 0.125497102737"
       ]
      },
      {
       "output_type": "stream",
       "stream": "stdout",
       "text": [
        "\n",
        "13000 of 32509 3.68864703178. 325 0.249485969543"
       ]
      },
      {
       "output_type": "stream",
       "stream": "stdout",
       "text": [
        "\n",
        "16250 of 32509 6.57915091515. 325 0.317499876022"
       ]
      },
      {
       "output_type": "stream",
       "stream": "stdout",
       "text": [
        "\n",
        "19500 of 32509 10.2026870251. 325 0.398415088654"
       ]
      },
      {
       "output_type": "stream",
       "stream": "stdout",
       "text": [
        "\n",
        "22750 of 32509 14.6042349339. 325 0.465913057327"
       ]
      },
      {
       "output_type": "stream",
       "stream": "stdout",
       "text": [
        "\n",
        "26000 of 32509 19.7509899139. 325 0.533140897751"
       ]
      },
      {
       "output_type": "stream",
       "stream": "stdout",
       "text": [
        "\n",
        "29250 of 32509 25.5253880024. 325 0.59960603714"
       ]
      },
      {
       "output_type": "stream",
       "stream": "stdout",
       "text": [
        "\n",
        "32500 of 32509 31.9292008877. 325 0.660928010941"
       ]
      },
      {
       "output_type": "stream",
       "stream": "stdout",
       "text": [
        "\n"
       ]
      }
     ],
     "prompt_number": 12
    },
    {
     "cell_type": "heading",
     "level": 3,
     "metadata": {},
     "source": [
      "Redland Hash"
     ]
    },
    {
     "cell_type": "code",
     "collapsed": false,
     "input": [
      "def testRedlandHash():\n",
      "    storage_dir = tempfile.mkdtemp(prefix='test_model_')\n",
      "    print 'storage_dir: {}'.format(storage_dir)\n",
      "    try:\n",
      "        options = \"contexts='yes',hash-type='bdb',dir='{0}'\".format(storage_dir)\n",
      "        storage = RDF.HashStorage('redland-test', options=options)\n",
      "        model = RDF.Model(storage)\n",
      "        timing = loadModel(experiments['http://submit.encodedcc.org/experiments/'],\n",
      "                            pyldToRedlandNode,\n",
      "                            RDF.Statement,\n",
      "                            model.add_statement)\n",
      "    finally:\n",
      "        print os.listdir(storage_dir)\n",
      "        shutil.rmtree(storage_dir)\n",
      "    return timing\n",
      "\n",
      "timing['redland-hash'] = testRedlandHash()"
     ],
     "language": "python",
     "metadata": {},
     "outputs": [
      {
       "output_type": "stream",
       "stream": "stdout",
       "text": [
        "storage_dir: /tmp/test_model_LfZEmY\n",
        "length: 32509"
       ]
      },
      {
       "output_type": "stream",
       "stream": "stdout",
       "text": [
        "\n",
        "3250 of 32509 13.587677002. 325 2.58502912521"
       ]
      },
      {
       "output_type": "stream",
       "stream": "stdout",
       "text": [
        "\n",
        "6500 of 32509 54.0975439548. 325 5.30358791351"
       ]
      },
      {
       "output_type": "stream",
       "stream": "stdout",
       "text": [
        "\n",
        "9750 of 32509 122.25406003. 325 8.03873109818"
       ]
      },
      {
       "output_type": "stream",
       "stream": "stdout",
       "text": [
        "\n",
        "13000 of 32509 217.757619858. 325 10.8126528263"
       ]
      },
      {
       "output_type": "stream",
       "stream": "stdout",
       "text": [
        "\n",
        "16250 of 32509 341.260326862. 325 13.5416498184"
       ]
      },
      {
       "output_type": "stream",
       "stream": "stdout",
       "text": [
        "\n",
        "19500 of 32509 492.162247896. 325 16.3071219921"
       ]
      },
      {
       "output_type": "stream",
       "stream": "stdout",
       "text": [
        "\n",
        "22750 of 32509 672.341810942. 325 18.9963510036"
       ]
      },
      {
       "output_type": "stream",
       "stream": "stdout",
       "text": [
        "\n",
        "26000 of 32509 881.394460917. 325 21.7362020016"
       ]
      },
      {
       "output_type": "stream",
       "stream": "stdout",
       "text": [
        "\n",
        "29250 of 32509 1113.95988393. 325 24.4342980385"
       ]
      },
      {
       "output_type": "stream",
       "stream": "stdout",
       "text": [
        "\n",
        "32500 of 32509 1374.27074885. 325 27.6178319454"
       ]
      },
      {
       "output_type": "stream",
       "stream": "stdout",
       "text": [
        "\n",
        "['redland-test-sp2o.db', 'redland-test-po2s.db', 'redland-test-so2p.db', 'redland-test-contexts.db']"
       ]
      },
      {
       "output_type": "stream",
       "stream": "stdout",
       "text": [
        "\n"
       ]
      }
     ],
     "prompt_number": 13
    },
    {
     "cell_type": "markdown",
     "metadata": {},
     "source": [
      "Ok that was painful let's try again, but without asking for the context graph."
     ]
    },
    {
     "cell_type": "code",
     "collapsed": false,
     "input": [
      "def testRedlandHashContextFree():\n",
      "    storage_dir = tempfile.mkdtemp(prefix='test_model_')\n",
      "    print 'storage_dir: {}'.format(storage_dir)\n",
      "    try:\n",
      "        options = \"hash-type='bdb',dir='{0}'\".format(storage_dir)\n",
      "        storage = RDF.HashStorage('redland-test', options=options)\n",
      "        model = RDF.Model(storage)\n",
      "        timing = loadModel(experiments['http://submit.encodedcc.org/experiments/'],\n",
      "                            pyldToRedlandNode,\n",
      "                            RDF.Statement,\n",
      "                            model.add_statement)\n",
      "    finally:\n",
      "        print os.listdir(storage_dir)\n",
      "        shutil.rmtree(storage_dir)\n",
      "    return timing\n",
      "                                        \n",
      "timing['redland-hash-context-free'] = testRedlandHashContextFree()"
     ],
     "language": "python",
     "metadata": {},
     "outputs": [
      {
       "output_type": "stream",
       "stream": "stdout",
       "text": [
        "storage_dir: /tmp/test_model_pcNxZT\n",
        "length: 32509"
       ]
      },
      {
       "output_type": "stream",
       "stream": "stdout",
       "text": [
        "\n",
        "3250 of 32509 0.149784088135. 325 0.0133171081543"
       ]
      },
      {
       "output_type": "stream",
       "stream": "stdout",
       "text": [
        "\n",
        "6500 of 32509 0.282102108002. 325 0.012787103653"
       ]
      },
      {
       "output_type": "stream",
       "stream": "stdout",
       "text": [
        "\n",
        "9750 of 32509 0.423465013504. 325 0.0127878189087"
       ]
      },
      {
       "output_type": "stream",
       "stream": "stdout",
       "text": [
        "\n",
        "13000 of 32509 0.555802106857. 325 0.0126249790192"
       ]
      },
      {
       "output_type": "stream",
       "stream": "stdout",
       "text": [
        "\n",
        "16250 of 32509 0.686717033386. 325 0.0130820274353"
       ]
      },
      {
       "output_type": "stream",
       "stream": "stdout",
       "text": [
        "\n",
        "19500 of 32509 0.817808151245. 325 0.0128979682922"
       ]
      },
      {
       "output_type": "stream",
       "stream": "stdout",
       "text": [
        "\n",
        "22750 of 32509 0.949244022369. 325 0.0128998756409"
       ]
      },
      {
       "output_type": "stream",
       "stream": "stdout",
       "text": [
        "\n",
        "26000 of 32509 1.08057498932. 325 0.0130758285522"
       ]
      },
      {
       "output_type": "stream",
       "stream": "stdout",
       "text": [
        "\n",
        "29250 of 32509 1.21215701103. 325 0.0130169391632"
       ]
      },
      {
       "output_type": "stream",
       "stream": "stdout",
       "text": [
        "\n",
        "32500 of 32509 1.34427714348. 325 0.0131750106812"
       ]
      },
      {
       "output_type": "stream",
       "stream": "stdout",
       "text": [
        "\n",
        "['redland-test-sp2o.db', 'redland-test-po2s.db', 'redland-test-so2p.db']\n"
       ]
      }
     ],
     "prompt_number": 14
    },
    {
     "cell_type": "markdown",
     "metadata": {},
     "source": [
      "Wait a second, that's quite reasonable performance!\n",
      "\n",
      "[Top](#Table-of-Contents)"
     ]
    },
    {
     "cell_type": "heading",
     "level": 3,
     "metadata": {},
     "source": [
      "Redland Sqlite"
     ]
    },
    {
     "cell_type": "markdown",
     "metadata": {},
     "source": [
      "I tried talking with the developer of redland in their IRC channel, and after suggesting mysql was the most tested, he suggested trying the sqlite as well. It doesn't seem to have the $O(N^2)$ slow down problem the bdb hash storage was having, but its still slow."
     ]
    },
    {
     "cell_type": "code",
     "collapsed": false,
     "input": [
      "def testRedlandSqliteFullContext():\n",
      "    storage_dir = tempfile.mkdtemp(prefix='test_model_')\n",
      "    print 'storage_dir: {}'.format(storage_dir)\n",
      "    try:\n",
      "        options = \"new='yes'\"\n",
      "        storage = RDF.Storage(storage_name='sqlite', \n",
      "                              name=os.path.join(storage_dir, 'redland-test'), \n",
      "                              options_string=options)\n",
      "        context = RDF.Node(RDF.Uri('http://submit.encodedcc.org/experiments/'))\n",
      "        model = RDF.Model(storage)\n",
      "        timing = loadModel(experiments['http://submit.encodedcc.org/experiments/'][:3000],\n",
      "                            pyldToRedlandNode,\n",
      "                            RDF.Statement,\n",
      "                            model.add_statement)\n",
      "    finally:\n",
      "        print os.listdir(storage_dir)\n",
      "        shutil.rmtree(storage_dir)\n",
      "    return timing\n",
      "                          \n",
      "timing['redland-sqlite-full-context'] = testRedlandSqliteFullContext()\n",
      "#timing['redland-hash-full-context'] = "
     ],
     "language": "python",
     "metadata": {},
     "outputs": [
      {
       "output_type": "stream",
       "stream": "stdout",
       "text": [
        "storage_dir: /tmp/test_model_c4ihBd\n",
        "length: 3000"
       ]
      },
      {
       "output_type": "stream",
       "stream": "stdout",
       "text": [
        "\n",
        "300 of 3000 32.3209309578. 30 3.82048392296"
       ]
      },
      {
       "output_type": "stream",
       "stream": "stdout",
       "text": [
        "\n",
        "600 of 3000 67.3903839588. 30 3.5882358551"
       ]
      },
      {
       "output_type": "stream",
       "stream": "stdout",
       "text": [
        "\n",
        "900 of 3000 102.33176899. 30 3.22705793381"
       ]
      },
      {
       "output_type": "stream",
       "stream": "stdout",
       "text": [
        "\n",
        "1200 of 3000 135.984196901. 30 3.3456029892"
       ]
      },
      {
       "output_type": "stream",
       "stream": "stdout",
       "text": [
        "\n",
        "1500 of 3000 168.252134085. 30 3.14397311211"
       ]
      },
      {
       "output_type": "stream",
       "stream": "stdout",
       "text": [
        "\n",
        "1800 of 3000 200.801614046. 30 3.46836805344"
       ]
      },
      {
       "output_type": "stream",
       "stream": "stdout",
       "text": [
        "\n",
        "2100 of 3000 232.869807005. 30 3.21807599068"
       ]
      },
      {
       "output_type": "stream",
       "stream": "stdout",
       "text": [
        "\n",
        "2400 of 3000 264.990459919. 30 3.05125379562"
       ]
      },
      {
       "output_type": "stream",
       "stream": "stdout",
       "text": [
        "\n",
        "2700 of 3000 297.370455027. 30 3.27499008179"
       ]
      },
      {
       "output_type": "stream",
       "stream": "stdout",
       "text": [
        "\n",
        "['redland-test']"
       ]
      },
      {
       "output_type": "stream",
       "stream": "stdout",
       "text": [
        "\n"
       ]
      }
     ],
     "prompt_number": 15
    },
    {
     "cell_type": "markdown",
     "metadata": {},
     "source": [
      "[Top](#Table-of-Contents)"
     ]
    },
    {
     "cell_type": "heading",
     "level": 2,
     "metadata": {},
     "source": [
      "RDFLib"
     ]
    },
    {
     "cell_type": "heading",
     "level": 3,
     "metadata": {},
     "source": [
      "RDFLib API"
     ]
    },
    {
     "cell_type": "code",
     "collapsed": false,
     "input": [
      "from rdflib import ConjunctiveGraph\n",
      "from rdflib import BNode, URIRef, Literal"
     ],
     "language": "python",
     "metadata": {},
     "outputs": [],
     "prompt_number": 16
    },
    {
     "cell_type": "code",
     "collapsed": false,
     "input": [
      "def pyldToRDFLibNode(item):\n",
      "    \"\"\"Convert JSON-serialized node to a Soprano Node\n",
      "    \"\"\"\n",
      "    nodetype = item['type']\n",
      "    value = item['value']\n",
      "    datatype = item.get('datatype', None)\n",
      "\n",
      "    if nodetype == 'blank node':\n",
      "        return BNode()\n",
      "    elif nodetype == 'IRI':\n",
      "        return URIRef(value)\n",
      "    else:\n",
      "        return Literal(value)"
     ],
     "language": "python",
     "metadata": {},
     "outputs": [],
     "prompt_number": 17
    },
    {
     "cell_type": "heading",
     "level": 3,
     "metadata": {},
     "source": [
      "RDFLib timing test"
     ]
    },
    {
     "cell_type": "code",
     "collapsed": false,
     "input": [
      "def testRDFLibSleepycat():\n",
      "    storage_dir = tempfile.mkdtemp(prefix='test_model_')\n",
      "    print 'storage_dir: {}'.format(storage_dir)\n",
      "    try:\n",
      "        graph = ConjunctiveGraph(store='Sleepycat')\n",
      "        graph.open(storage_dir, create=True)\n",
      "        timing = loadModel(experiments['http://submit.encodedcc.org/experiments/'],\n",
      "                            pyldToRDFLibNode,\n",
      "                            lambda x,y,z: (x,y,z),\n",
      "                            graph.add)\n",
      "    finally:\n",
      "        print os.listdir(storage_dir)\n",
      "        shutil.rmtree(storage_dir)\n",
      "    return timing\n",
      "\n",
      "\n",
      "timing['rdflib-sleepycat'] = testRDFLibSleepycat()"
     ],
     "language": "python",
     "metadata": {},
     "outputs": [
      {
       "output_type": "stream",
       "stream": "stdout",
       "text": [
        "storage_dir: /tmp/test_model_UeusSr\n",
        "length: 32509"
       ]
      },
      {
       "output_type": "stream",
       "stream": "stdout",
       "text": [
        "\n",
        "3250 of 32509 0.553234100342. 325 0.0490798950195"
       ]
      },
      {
       "output_type": "stream",
       "stream": "stdout",
       "text": [
        "\n",
        "6500 of 32509 1.20439100266. 325 0.0664279460907"
       ]
      },
      {
       "output_type": "stream",
       "stream": "stdout",
       "text": [
        "\n",
        "9750 of 32509 1.72844314575. 325 0.0503520965576"
       ]
      },
      {
       "output_type": "stream",
       "stream": "stdout",
       "text": [
        "\n",
        "13000 of 32509 2.27863311768. 325 0.0666480064392"
       ]
      },
      {
       "output_type": "stream",
       "stream": "stdout",
       "text": [
        "\n",
        "16250 of 32509 2.93121004105. 325 0.0548050403595"
       ]
      },
      {
       "output_type": "stream",
       "stream": "stdout",
       "text": [
        "\n",
        "19500 of 32509 3.48354721069. 325 0.0513579845428"
       ]
      },
      {
       "output_type": "stream",
       "stream": "stdout",
       "text": [
        "\n",
        "22750 of 32509 4.15174818039. 325 0.050968170166"
       ]
      },
      {
       "output_type": "stream",
       "stream": "stdout",
       "text": [
        "\n",
        "26000 of 32509 4.68744206429. 325 0.0529808998108"
       ]
      },
      {
       "output_type": "stream",
       "stream": "stdout",
       "text": [
        "\n",
        "29250 of 32509 5.2057390213. 325 0.0503079891205"
       ]
      },
      {
       "output_type": "stream",
       "stream": "stdout",
       "text": [
        "\n",
        "32500 of 32509 5.72421002388. 325 0.0493898391724"
       ]
      },
      {
       "output_type": "stream",
       "stream": "stdout",
       "text": [
        "\n",
        "['__db.001', '__db.002', 'contexts', 'prefix', 'k2i', '__db.003', 'c^o^s^p^', 'c^p^o^s^', 'i2k', 'c^s^p^o^', 'namespace']\n"
       ]
      }
     ],
     "prompt_number": 18
    },
    {
     "cell_type": "markdown",
     "metadata": {},
     "source": [
      "5 seconds, that certainly seems usable\n",
      "\n",
      "[Top](#Table-of-Contents)"
     ]
    },
    {
     "cell_type": "heading",
     "level": 2,
     "metadata": {},
     "source": [
      "Soprano"
     ]
    },
    {
     "cell_type": "code",
     "collapsed": false,
     "input": [
      "from PyKDE4.soprano import Soprano\n",
      "from PyQt4.QtCore import QString, QUrl"
     ],
     "language": "python",
     "metadata": {},
     "outputs": [],
     "prompt_number": 19
    },
    {
     "cell_type": "code",
     "collapsed": false,
     "input": [
      "def pyldToSopranoNode(item):\n",
      "    \"\"\"Convert JSON-serialized node to a Soprano Node\n",
      "    \"\"\"\n",
      "    nodetype = item['type']\n",
      "    value = item['value']\n",
      "    datatype = item.get('datatype', None)\n",
      "\n",
      "    if nodetype == 'blank node':\n",
      "        return Soprano.Node.createBlankNode(str(uuid.uuid1()))\n",
      "    elif nodetype == 'IRI':\n",
      "        value = QUrl(value)\n",
      "        return Soprano.Node.createResourceNode(value)\n",
      "    else:\n",
      "        return Soprano.Node.createLiteralNode(Soprano.LiteralValue(value))"
     ],
     "language": "python",
     "metadata": {},
     "outputs": [],
     "prompt_number": 20
    },
    {
     "cell_type": "code",
     "collapsed": false,
     "input": [
      "s = pyldToSopranoNode({'type': 'blank node', 'value': ''})\n",
      "p = pyldToSopranoNode({'type': 'IRI', 'value': Soprano.Vocabulary.RDFS.label()})\n",
      "o = pyldToSopranoNode({'type': 'literal', 'value': 7})\n",
      "\n",
      "assert s.isBlank()\n",
      "assert p.isResource()\n",
      "assert o.isLiteral()\n",
      "assert o.literal().toInt() == 7"
     ],
     "language": "python",
     "metadata": {},
     "outputs": [],
     "prompt_number": 21
    },
    {
     "cell_type": "markdown",
     "metadata": {},
     "source": [
      "[Top](#Table-of-Contents)"
     ]
    },
    {
     "cell_type": "heading",
     "level": 2,
     "metadata": {},
     "source": [
      "Soprano Timing Tests"
     ]
    },
    {
     "cell_type": "heading",
     "level": 3,
     "metadata": {},
     "source": [
      "Soprano Null"
     ]
    },
    {
     "cell_type": "code",
     "collapsed": false,
     "input": [
      "def testSopranoList():\n",
      "    \"\"\"This uses python functions for the timing loader.\n",
      "    \n",
      "    Thus gives a minimal baseline of how type conversion takes\n",
      "    \"\"\"\n",
      "    model = []\n",
      "    timing = loadModel(experiments['http://submit.encodedcc.org/experiments/'],\n",
      "                        pyldToSopranoNode,\n",
      "                        lambda x,y,z: (x,y,z),\n",
      "                        model.append)\n",
      "    return timing\n",
      "                                        \n",
      "timing['soprano-list'] = testSopranoList()"
     ],
     "language": "python",
     "metadata": {},
     "outputs": [
      {
       "output_type": "stream",
       "stream": "stdout",
       "text": [
        "length: 32509\n",
        "3250 of 32509 0.104168891907. 325 0.00889587402344"
       ]
      },
      {
       "output_type": "stream",
       "stream": "stdout",
       "text": [
        "\n",
        "6500 of 32509 0.186026096344. 325 0.00798916816711"
       ]
      },
      {
       "output_type": "stream",
       "stream": "stdout",
       "text": [
        "\n",
        "9750 of 32509 0.268169879913. 325 0.00783586502075"
       ]
      },
      {
       "output_type": "stream",
       "stream": "stdout",
       "text": [
        "\n",
        "13000 of 32509 0.34681892395. 325 0.00748300552368"
       ]
      },
      {
       "output_type": "stream",
       "stream": "stdout",
       "text": [
        "\n",
        "16250 of 32509 0.482909917831. 325 0.00828099250793"
       ]
      },
      {
       "output_type": "stream",
       "stream": "stdout",
       "text": [
        "\n",
        "19500 of 32509 0.571913957596. 325 0.00871801376343"
       ]
      },
      {
       "output_type": "stream",
       "stream": "stdout",
       "text": [
        "\n",
        "22750 of 32509 0.704832077026. 325 0.00786399841309"
       ]
      },
      {
       "output_type": "stream",
       "stream": "stdout",
       "text": [
        "\n",
        "26000 of 32509 0.783478975296. 325 0.00756597518921"
       ]
      },
      {
       "output_type": "stream",
       "stream": "stdout",
       "text": [
        "\n",
        "29250 of 32509 0.863605976105. 325 0.00776886940002"
       ]
      },
      {
       "output_type": "stream",
       "stream": "stdout",
       "text": [
        "\n",
        "32500 of 32509 0.952097892761. 325 0.00988984107971"
       ]
      },
      {
       "output_type": "stream",
       "stream": "stdout",
       "text": [
        "\n"
       ]
      }
     ],
     "prompt_number": 22
    },
    {
     "cell_type": "markdown",
     "metadata": {},
     "source": [
      "[Top](#Table-of-Contents)"
     ]
    },
    {
     "cell_type": "heading",
     "level": 3,
     "metadata": {},
     "source": [
      "Soprano in-memory"
     ]
    },
    {
     "cell_type": "code",
     "collapsed": false,
     "input": [
      "def testSopranoDefault():\n",
      "    \"\"\"Default Soprano model.\n",
      "    \n",
      "    It's behavior suggests it's probably using Redland\n",
      "    bsddb hash storage.\n",
      "    \"\"\"\n",
      "    model = Soprano.createModel()\n",
      "    assert model\n",
      "    timing = loadModel(experiments['http://submit.encodedcc.org/experiments/'],\n",
      "                        pyldToSopranoNode,\n",
      "                        Soprano.Statement,\n",
      "                        model.addStatement)\n",
      "    return timing\n",
      "                                        \n",
      "timing['soprano-default'] = testSopranoDefault()        "
     ],
     "language": "python",
     "metadata": {},
     "outputs": [
      {
       "output_type": "stream",
       "stream": "stdout",
       "text": [
        "length: 32509\n",
        "3250 of 32509 9.95289301872. 325 1.74399209023"
       ]
      },
      {
       "output_type": "stream",
       "stream": "stdout",
       "text": [
        "\n",
        "6500 of 32509 37.6105718613. 325 3.73698282242"
       ]
      },
      {
       "output_type": "stream",
       "stream": "stdout",
       "text": [
        "\n",
        "9750 of 32509 87.5574810505. 325 6.22128415108"
       ]
      },
      {
       "output_type": "stream",
       "stream": "stdout",
       "text": [
        "\n",
        "13000 of 32509 159.976824045. 325 8.16315102577"
       ]
      },
      {
       "output_type": "stream",
       "stream": "stdout",
       "text": [
        "\n",
        "16250 of 32509 256.550194025. 325 10.9782390594"
       ]
      },
      {
       "output_type": "stream",
       "stream": "stdout",
       "text": [
        "\n",
        "19500 of 32509 374.274512053. 325 12.6249821186"
       ]
      },
      {
       "output_type": "stream",
       "stream": "stdout",
       "text": [
        "\n",
        "22750 of 32509 516.382483006. 325 15.3015880585"
       ]
      },
      {
       "output_type": "stream",
       "stream": "stdout",
       "text": [
        "\n",
        "26000 of 32509 676.982827902. 325 16.7248778343"
       ]
      },
      {
       "output_type": "stream",
       "stream": "stdout",
       "text": [
        "\n",
        "29250 of 32509 855.201326847. 325 18.8108589649"
       ]
      },
      {
       "output_type": "stream",
       "stream": "stdout",
       "text": [
        "\n",
        "32500 of 32509 1053.39780402. 325 20.2996370792"
       ]
      },
      {
       "output_type": "stream",
       "stream": "stdout",
       "text": [
        "\n"
       ]
      }
     ],
     "prompt_number": 23
    },
    {
     "cell_type": "markdown",
     "metadata": {},
     "source": [
      "[Top](#Table-of-Contents)"
     ]
    },
    {
     "cell_type": "heading",
     "level": 3,
     "metadata": {},
     "source": [
      "Soprano Hash"
     ]
    },
    {
     "cell_type": "code",
     "collapsed": false,
     "input": [
      "def testSopranoStorage():\n",
      "    \"\"\"Soprano with an explicit storage location.\n",
      "    \n",
      "    Again, probably a redland hash storage model. Also \n",
      "    so painfully slow, I trimmed the number of datapoints.\n",
      "    \"\"\"\n",
      "    storage_dir = tempfile.mkdtemp(prefix='test_model_')\n",
      "    print 'storage_dir: {}'.format(storage_dir)\n",
      "    storage_setting = Soprano.BackendSetting(Soprano.BackendOptionStorageDir, storage_dir)\n",
      "\n",
      "    try:\n",
      "        model = Soprano.createModel([storage_setting])\n",
      "        assert model\n",
      "        timing = loadModel(experiments['http://submit.encodedcc.org/experiments/'][:3000],\n",
      "                            pyldToSopranoNode,\n",
      "                            Soprano.Statement,\n",
      "                            model.addStatement)\n",
      "        \n",
      "    finally:\n",
      "        print os.listdir(storage_dir)\n",
      "        shutil.rmtree(storage_dir)\n",
      "    return timing\n",
      "                                        \n",
      "timing['soprano-hash'] = testSopranoStorage()        "
     ],
     "language": "python",
     "metadata": {},
     "outputs": [
      {
       "output_type": "stream",
       "stream": "stdout",
       "text": [
        "storage_dir: /tmp/test_model_3PTwQg\n",
        "length: 3000"
       ]
      },
      {
       "output_type": "stream",
       "stream": "stdout",
       "text": [
        "\n",
        "300 of 3000 13.3298258781. 30 1.58448195457"
       ]
      },
      {
       "output_type": "stream",
       "stream": "stdout",
       "text": [
        "\n",
        "600 of 3000 28.6537108421. 30 1.54429578781"
       ]
      },
      {
       "output_type": "stream",
       "stream": "stdout",
       "text": [
        "\n",
        "900 of 3000 43.8913290501. 30 1.53432202339"
       ]
      },
      {
       "output_type": "stream",
       "stream": "stdout",
       "text": [
        "\n",
        "1200 of 3000 59.5767500401. 30 1.51763105392"
       ]
      },
      {
       "output_type": "stream",
       "stream": "stdout",
       "text": [
        "\n",
        "1500 of 3000 76.5881268978. 30 1.88469982147"
       ]
      },
      {
       "output_type": "stream",
       "stream": "stdout",
       "text": [
        "\n",
        "1800 of 3000 92.7581138611. 30 1.43498492241"
       ]
      },
      {
       "output_type": "stream",
       "stream": "stdout",
       "text": [
        "\n",
        "2100 of 3000 110.605937958. 30 1.7611579895"
       ]
      },
      {
       "output_type": "stream",
       "stream": "stdout",
       "text": [
        "\n",
        "2400 of 3000 128.537503958. 30 1.76784992218"
       ]
      },
      {
       "output_type": "stream",
       "stream": "stdout",
       "text": [
        "\n",
        "2700 of 3000 147.209956884. 30 1.95115303993"
       ]
      },
      {
       "output_type": "stream",
       "stream": "stdout",
       "text": [
        "\n",
        "['soprano-contexts.db', 'soprano-so2p.db', 'soprano-po2s.db', 'soprano-sp2o.db']"
       ]
      },
      {
       "output_type": "stream",
       "stream": "stdout",
       "text": [
        "\n"
       ]
      }
     ],
     "prompt_number": 24
    },
    {
     "cell_type": "code",
     "collapsed": false,
     "input": [
      "def testSopranoAddStatementsHash():\n",
      "    \"\"\"Soprano does have a \"addStatements\" function. \n",
      "    \n",
      "    Does that do anything to avoid building an index as data is loaded?\n",
      "    \"\"\"\n",
      "    storage_dir = tempfile.mkdtemp(prefix='test_model_')\n",
      "    print 'storage_dir: {}'.format(storage_dir)\n",
      "    storage_setting = Soprano.BackendSetting(Soprano.BackendOptionStorageDir, storage_dir)\n",
      "\n",
      "    try:\n",
      "        model = Soprano.createModel([storage_setting])\n",
      "        assert model\n",
      "        statements = []\n",
      "        def commit(model=model, statements=statements):\n",
      "            print 'wait for it'\n",
      "            model.addStatements(statements)\n",
      "            print 'done'\n",
      "            \n",
      "        timing = loadModel(experiments['http://submit.encodedcc.org/experiments/'],\n",
      "                            pyldToSopranoNode,\n",
      "                            Soprano.Statement,\n",
      "                            statements.append,\n",
      "                            commit)        \n",
      "    finally:\n",
      "        print 'dir contents', os.listdir(storage_dir)\n",
      "        shutil.rmtree(storage_dir)\n",
      "    return timing\n",
      "                                        \n",
      "timing['soprano-hash-commit'] = testSopranoAddStatementsHash()"
     ],
     "language": "python",
     "metadata": {},
     "outputs": [
      {
       "output_type": "stream",
       "stream": "stdout",
       "text": [
        "storage_dir: /tmp/test_model_w1ONme\n",
        "length: 32509"
       ]
      },
      {
       "output_type": "stream",
       "stream": "stdout",
       "text": [
        "\n",
        "3250 of 32509 0.111657857895. 325 0.00961089134216"
       ]
      },
      {
       "output_type": "stream",
       "stream": "stdout",
       "text": [
        "\n",
        "6500 of 32509 0.195324897766. 325 0.00780081748962"
       ]
      },
      {
       "output_type": "stream",
       "stream": "stdout",
       "text": [
        "\n",
        "9750 of 32509 0.278141021729. 325 0.00815916061401"
       ]
      },
      {
       "output_type": "stream",
       "stream": "stdout",
       "text": [
        "\n",
        "13000 of 32509 0.358635902405. 325 0.00805902481079"
       ]
      },
      {
       "output_type": "stream",
       "stream": "stdout",
       "text": [
        "\n",
        "16250 of 32509 0.439920902252. 325 0.00788497924805"
       ]
      },
      {
       "output_type": "stream",
       "stream": "stdout",
       "text": [
        "\n",
        "19500 of 32509 0.573112010956. 325 0.00857996940613"
       ]
      },
      {
       "output_type": "stream",
       "stream": "stdout",
       "text": [
        "\n",
        "22750 of 32509 0.661998987198. 325 0.00883913040161"
       ]
      },
      {
       "output_type": "stream",
       "stream": "stdout",
       "text": [
        "\n",
        "26000 of 32509 0.749497890472. 325 0.00797486305237"
       ]
      },
      {
       "output_type": "stream",
       "stream": "stdout",
       "text": [
        "\n",
        "29250 of 32509 0.834306001663. 325 0.00850892066956"
       ]
      },
      {
       "output_type": "stream",
       "stream": "stdout",
       "text": [
        "\n",
        "32500 of 32509 0.918995857239. 325 0.00848293304443"
       ]
      },
      {
       "output_type": "stream",
       "stream": "stdout",
       "text": [
        "\n",
        "wait for it\n",
        "done"
       ]
      },
      {
       "output_type": "stream",
       "stream": "stdout",
       "text": [
        "\n",
        "dir contents ['soprano-contexts.db', 'soprano-so2p.db', 'soprano-po2s.db', 'soprano-sp2o.db']\n"
       ]
      }
     ],
     "prompt_number": 25
    },
    {
     "cell_type": "markdown",
     "metadata": {},
     "source": [
      "[Top](#Table-of-Contents)"
     ]
    },
    {
     "cell_type": "heading",
     "level": 3,
     "metadata": {},
     "source": [
      "Soprano Virtuoso"
     ]
    },
    {
     "cell_type": "code",
     "collapsed": false,
     "input": [
      "def testSopranoVirtuoso():\n",
      "    \"\"\"Virtuoso loader. \n",
      "    \n",
      "    Note, it appears you if specify a storage directory it will create database\n",
      "    files in that directory. Convienent if you don't want to mess up your\n",
      "    desktop database)\n",
      "    \"\"\"\n",
      "    storage_dir = tempfile.mkdtemp(prefix='test_model_')\n",
      "    print 'storage_dir: {}'.format(storage_dir)\n",
      "    storage_setting = Soprano.BackendSetting(Soprano.BackendOptionStorageDir, storage_dir)\n",
      "\n",
      "    try:\n",
      "        virtuoso = Soprano.discoverBackendByName(\"virtuosobackend\")\n",
      "        assert virtuoso\n",
      "        model = virtuoso.createModel([storage_setting])\n",
      "        assert model\n",
      "        timing = loadModel(experiments['http://submit.encodedcc.org/experiments/'],\n",
      "                            pyldToSopranoNode,\n",
      "                            Soprano.Statement,\n",
      "                            model.addStatement)\n",
      "    finally:\n",
      "        print os.listdir(storage_dir)\n",
      "        shutil.rmtree(storage_dir)\n",
      "    return timing\n",
      "                \n",
      "timing['soprano-virtuso'] = testSopranoVirtuoso()    "
     ],
     "language": "python",
     "metadata": {},
     "outputs": [
      {
       "output_type": "stream",
       "stream": "stdout",
       "text": [
        "storage_dir: /tmp/test_model_ebZ59I\n",
        "length: 32509"
       ]
      },
      {
       "output_type": "stream",
       "stream": "stdout",
       "text": [
        "\n",
        "3250 of 32509 6.93688797951. 325 0.799103975296"
       ]
      },
      {
       "output_type": "stream",
       "stream": "stdout",
       "text": [
        "\n",
        "6500 of 32509 15.1029601097. 325 0.874695062637"
       ]
      },
      {
       "output_type": "stream",
       "stream": "stdout",
       "text": [
        "\n",
        "9750 of 32509 23.2184431553. 325 0.804484128952"
       ]
      },
      {
       "output_type": "stream",
       "stream": "stdout",
       "text": [
        "\n",
        "13000 of 32509 31.4607131481. 325 0.79851102829"
       ]
      },
      {
       "output_type": "stream",
       "stream": "stdout",
       "text": [
        "\n",
        "16250 of 32509 39.6621539593. 325 0.808573007584"
       ]
      },
      {
       "output_type": "stream",
       "stream": "stdout",
       "text": [
        "\n",
        "19500 of 32509 47.9102070332. 325 0.807959079742"
       ]
      },
      {
       "output_type": "stream",
       "stream": "stdout",
       "text": [
        "\n",
        "22750 of 32509 55.9945321083. 325 0.796631097794"
       ]
      },
      {
       "output_type": "stream",
       "stream": "stdout",
       "text": [
        "\n",
        "26000 of 32509 64.0528371334. 325 0.79683303833"
       ]
      },
      {
       "output_type": "stream",
       "stream": "stdout",
       "text": [
        "\n",
        "29250 of 32509 72.3874390125. 325 0.853322982788"
       ]
      },
      {
       "output_type": "stream",
       "stream": "stdout",
       "text": [
        "\n",
        "32500 of 32509 81.5685091019. 325 0.824387073517"
       ]
      },
      {
       "output_type": "stream",
       "stream": "stdout",
       "text": [
        "\n",
        "['soprano-virtuoso.pxa', 'soprano-virtuoso.trx', 'soprano-virtuoso-temp.db', 'soprano-virtuoso.log', 'soprano-virtuoso.db', 'soprano-virtuoso.lck', 'soprano-virtuoso.lock']\n"
       ]
      }
     ],
     "prompt_number": 26
    },
    {
     "cell_type": "markdown",
     "metadata": {},
     "source": [
      "[Top](#Table-of-Contents)"
     ]
    },
    {
     "cell_type": "heading",
     "level": 2,
     "metadata": {},
     "source": [
      "Relational SQLite3"
     ]
    },
    {
     "cell_type": "markdown",
     "metadata": {},
     "source": [
      "After all those loads, I was curious what loading the data into a simple relational sqlite table would be like. To make it a bit more fair, I created an index on the the columns."
     ]
    },
    {
     "cell_type": "code",
     "collapsed": false,
     "input": [
      "import sqlite3"
     ],
     "language": "python",
     "metadata": {},
     "outputs": [],
     "prompt_number": 27
    },
    {
     "cell_type": "code",
     "collapsed": false,
     "input": [
      "def testSqlite():\n",
      "    storage_dir = tempfile.mkdtemp(prefix='test_model_')\n",
      "    print 'storage_dir: {}'.format(storage_dir)\n",
      "    try:\n",
      "        conn = sqlite3.connect(os.path.join(storage_dir, 'triple.db'))\n",
      "        cursor = conn.cursor()\n",
      "        cursor.execute('create table triple ( subject text, predicate text, object text);')\n",
      "        cursor.execute('create index subject_idx on triple (subject);')\n",
      "        cursor.execute('create index predicate_idx on triple (predicate);')\n",
      "        cursor.execute('create index object_idx on triple (object);')\n",
      "        def statement(s, p, o):\n",
      "            return s, p, o\n",
      "        def addSqlite(stmt):\n",
      "            cursor.execute('insert into triple(subject, predicate, object) values (?, ?, ?)', stmt)\n",
      "        timing = loadModel(experiments['http://submit.encodedcc.org/experiments/'],\n",
      "                            str,\n",
      "                            statement,\n",
      "                            addSqlite,\n",
      "                            conn.commit)\n",
      "    finally:\n",
      "        print os.listdir(storage_dir)\n",
      "        #shutil.rmtree(storage_dir)\n",
      "    return timing\n",
      "\n",
      "timing['sqlite'] = testSqlite()   "
     ],
     "language": "python",
     "metadata": {},
     "outputs": [
      {
       "output_type": "stream",
       "stream": "stdout",
       "text": [
        "storage_dir: /tmp/test_model_kMWqkx\n",
        "length: 32509"
       ]
      },
      {
       "output_type": "stream",
       "stream": "stdout",
       "text": [
        "\n",
        "3250 of 32509 0.177853107452. 325 0.00862598419189"
       ]
      },
      {
       "output_type": "stream",
       "stream": "stdout",
       "text": [
        "\n",
        "6500 of 32509 0.262326955795. 325 0.00856280326843"
       ]
      },
      {
       "output_type": "stream",
       "stream": "stdout",
       "text": [
        "\n",
        "9750 of 32509 0.348209142685. 325 0.00775718688965"
       ]
      },
      {
       "output_type": "stream",
       "stream": "stdout",
       "text": [
        "\n",
        "13000 of 32509 0.431903123856. 325 0.00786399841309"
       ]
      },
      {
       "output_type": "stream",
       "stream": "stdout",
       "text": [
        "\n",
        "16250 of 32509 0.520929098129. 325 0.00949311256409"
       ]
      },
      {
       "output_type": "stream",
       "stream": "stdout",
       "text": [
        "\n",
        "19500 of 32509 0.604700088501. 325 0.0078821182251"
       ]
      },
      {
       "output_type": "stream",
       "stream": "stdout",
       "text": [
        "\n",
        "22750 of 32509 0.694653987885. 325 0.00804400444031"
       ]
      },
      {
       "output_type": "stream",
       "stream": "stdout",
       "text": [
        "\n",
        "26000 of 32509 0.776463985443. 325 0.00800490379333"
       ]
      },
      {
       "output_type": "stream",
       "stream": "stdout",
       "text": [
        "\n",
        "29250 of 32509 0.860121965408. 325 0.00809383392334"
       ]
      },
      {
       "output_type": "stream",
       "stream": "stdout",
       "text": [
        "\n",
        "32500 of 32509 0.942430019379. 325 0.00813603401184"
       ]
      },
      {
       "output_type": "stream",
       "stream": "stdout",
       "text": [
        "\n",
        "['triple.db']"
       ]
      },
      {
       "output_type": "stream",
       "stream": "stdout",
       "text": [
        "\n"
       ]
      }
     ],
     "prompt_number": 28
    },
    {
     "cell_type": "markdown",
     "metadata": {},
     "source": [
      "[Top](#Table-of-Contents)"
     ]
    },
    {
     "cell_type": "heading",
     "level": 1,
     "metadata": {},
     "source": [
      "Plots"
     ]
    },
    {
     "cell_type": "heading",
     "level": 2,
     "metadata": {},
     "source": [
      "All Triple Stores"
     ]
    },
    {
     "cell_type": "markdown",
     "metadata": {},
     "source": [
      "This is the full plot showing all the triple stores. The times are in seconds. The wall at the end is because in one case I wonderedi if using Soprano's addStatements function might get around the $O(N^2)$ index building. Apparently it didnt."
     ]
    },
    {
     "cell_type": "code",
     "collapsed": false,
     "input": [
      "figure(figsize=(10, 8))\n",
      "for k in timing:\n",
      "    plot(timing[k][0], timing[k][1], label=k)\n",
      "title('All Triple Stores')\n",
      "xlabel('records loaded')\n",
      "ylabel('time (s)')\n",
      "legend(loc=0)"
     ],
     "language": "python",
     "metadata": {},
     "outputs": [
      {
       "metadata": {},
       "output_type": "pyout",
       "prompt_number": 29,
       "text": [
        "<matplotlib.legend.Legend at 0x7f679ea00810>"
       ]
      },
      {
       "metadata": {},
       "output_type": "display_data",
       "png": "[encoded data removed]",
       "text": [
        "<matplotlib.figure.Figure at 0x7f679ea00850>"
       ]
      }
     ],
     "prompt_number": 29
    },
    {
     "cell_type": "heading",
     "level": 2,
     "metadata": {},
     "source": [
      "Sub-100 second loads"
     ]
    },
    {
     "cell_type": "code",
     "collapsed": false,
     "input": [
      "figure(figsize=(10, 8))\n",
      "for k in timing:\n",
      "    if timing[k][1][-1] < 100:\n",
      "        plot(timing[k][0], timing[k][1], label=k + ' ({:.2f} s)'.format(timing[k][1][-1]))\n",
      "title('Fast Triple Stores')\n",
      "xlabel('records loaded')\n",
      "ylabel('time (s)')\n",
      "legend(loc=0)"
     ],
     "language": "python",
     "metadata": {},
     "outputs": [
      {
       "metadata": {},
       "output_type": "pyout",
       "prompt_number": 30,
       "text": [
        "<matplotlib.legend.Legend at 0x7f67a0e6f810>"
       ]
      },
      {
       "metadata": {},
       "output_type": "display_data",
       "png": "[encoded data removed]",
       "text": [
        "<matplotlib.figure.Figure at 0x7f67a0e6fd10>"
       ]
      }
     ],
     "prompt_number": 30
    },
    {
     "cell_type": "heading",
     "level": 2,
     "metadata": {},
     "source": [
      "Sub-10 second loads"
     ]
    },
    {
     "cell_type": "code",
     "collapsed": false,
     "input": [
      "figure(figsize=(10, 8))\n",
      "for k in timing:\n",
      "    if timing[k][1][-1] < 10:\n",
      "        plot(timing[k][0], timing[k][1], label=k + ' ({:.2f} s)'.format(timing[k][1][-1]))\n",
      "title('Fast Triple Stores')\n",
      "xlabel('records loaded')\n",
      "ylabel('time (s)')\n",
      "legend(loc=0)"
     ],
     "language": "python",
     "metadata": {},
     "outputs": [
      {
       "metadata": {},
       "output_type": "pyout",
       "prompt_number": 31,
       "text": [
        "<matplotlib.legend.Legend at 0x7f67a5974610>"
       ]
      },
      {
       "metadata": {},
       "output_type": "display_data",
       "png": "[encoded data removed]",
       "text": [
        "<matplotlib.figure.Figure at 0x7f67a5974790>"
       ]
      }
     ],
     "prompt_number": 31
    },
    {
     "cell_type": "heading",
     "level": 1,
     "metadata": {},
     "source": [
      "Discussion"
     ]
    },
    {
     "cell_type": "markdown",
     "metadata": {},
     "source": [
      "It appears there are a lot of utterly terrible triple stores.\n",
      "\n",
      "**UPDATE**: Apparently adding the context graph is _really_ expensive with my version of Redland\n",
      "\n",
      "Assuming my implementation was right, Redland memory and Soprano Virtuoso performed similarly on my collections of triples. However the curve does suggest that Soprano Virtuoso will perform better on more realisitic triple databases.\n",
      "\n",
      "Also RDFLib has dome some pretty impressive magic to get their loading so fast."
     ]
    },
    {
     "cell_type": "heading",
     "level": 1,
     "metadata": {},
     "source": [
      "Addendum"
     ]
    },
    {
     "cell_type": "heading",
     "level": 2,
     "metadata": {},
     "source": [
      "Complexity plots"
     ]
    },
    {
     "cell_type": "markdown",
     "metadata": {},
     "source": [
      "just to remind myself I wanted to see what the difference between, $O(N)$, $O(N log N)$ and $O(N^2)$ looked like."
     ]
    },
    {
     "cell_type": "code",
     "collapsed": false,
     "input": [
      "plot(range(100), range(100), 'k', label='$O(N)$')\n",
      "plot(range(100), [ x * log(x) for x in range(100)], 'b', label='$O(N log N)$')\n",
      "plot(range(100), [ x * x for x in range(100)], 'r', label='$O(N^2)$')\n",
      "legend(loc=0)"
     ],
     "language": "python",
     "metadata": {},
     "outputs": [
      {
       "metadata": {},
       "output_type": "pyout",
       "prompt_number": 34,
       "text": [
        "<matplotlib.legend.Legend at 0x7f679eea3cd0>"
       ]
      },
      {
       "metadata": {},
       "output_type": "display_data",
       "png": "[encoded data removed]",
       "text": [
        "<matplotlib.figure.Figure at 0x7f679ef6a450>"
       ]
      }
     ],
     "prompt_number": 34
    },
    {
     "cell_type": "code",
     "collapsed": false,
     "input": [],
     "language": "python",
     "metadata": {},
     "outputs": []
    }
   ],
   "metadata": {}
  }
 ]
}