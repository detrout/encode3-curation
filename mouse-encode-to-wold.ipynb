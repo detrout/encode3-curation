{
 "metadata": {
  "name": ""
 },
 "nbformat": 3,
 "nbformat_minor": 0,
 "worksheets": [
  {
   "cells": [
    {
     "cell_type": "heading",
     "level": 1,
     "metadata": {},
     "source": [
      "Match ENCODE Libraries with Wold Lab Libraries"
     ]
    },
    {
     "cell_type": "code",
     "collapsed": false,
     "input": [
      "from __future__ import print_function"
     ],
     "language": "python",
     "metadata": {},
     "outputs": [],
     "prompt_number": 1
    },
    {
     "cell_type": "code",
     "collapsed": false,
     "input": [
      "import logging\n",
      "import os\n",
      "\n",
      "from validate_encode3_aliases import CheckDCCWoldAlias"
     ],
     "language": "python",
     "metadata": {},
     "outputs": [],
     "prompt_number": 2
    },
    {
     "cell_type": "code",
     "collapsed": false,
     "input": [
      "from htsworkflow.submission.encoded import ENCODED"
     ],
     "language": "python",
     "metadata": {},
     "outputs": [],
     "prompt_number": 3
    },
    {
     "cell_type": "code",
     "collapsed": false,
     "input": [
      "logging.basicConfig(level=logging.ERROR)"
     ],
     "language": "python",
     "metadata": {},
     "outputs": [],
     "prompt_number": 4
    },
    {
     "cell_type": "code",
     "collapsed": false,
     "input": [
      "server = ENCODED('submit.encodedcc.org')\n",
      "server.load_netrc()"
     ],
     "language": "python",
     "metadata": {},
     "outputs": [],
     "prompt_number": 5
    },
    {
     "cell_type": "code",
     "collapsed": false,
     "input": [
      "validator = CheckDCCWoldAlias(server)"
     ],
     "language": "python",
     "metadata": {},
     "outputs": [],
     "prompt_number": 6
    },
    {
     "cell_type": "code",
     "collapsed": false,
     "input": [
      "validator.read_patterns"
     ],
     "language": "python",
     "metadata": {},
     "outputs": [
      {
       "metadata": {},
       "output_type": "pyout",
       "prompt_number": 7,
       "text": [
        "[':(?P<fc>[A-Z0-9]*A[AC]XX):(?P<lane>[\\\\d]):',\n",
        " '_(?P<fc>[A-Z0-9]*AAXX)_(?P<lane>[\\\\d])(_(?P<end>[\\\\d]))?',\n",
        " '_(?P<fc>FC[\\\\d]+)_(?P<lane>[\\\\d])']"
       ]
      }
     ],
     "prompt_number": 7
    },
    {
     "cell_type": "markdown",
     "metadata": {},
     "source": [
      "some of the read ids had the flowcell id manually added to their read ID"
     ]
    },
    {
     "cell_type": "code",
     "collapsed": false,
     "input": [
      "validator.read_patterns.append(\"(?P<fc>30VU4AAXX)_HWI-EAS229_[\\d]+:(?P<lane>[\\d]):\")\n",
      "validator.read_patterns.append(\"(?P<fc>61MMVAAXX)_HWI-EAS229_[\\d]+:(?P<lane>[\\d]):\")\n",
      "                               "
     ],
     "language": "python",
     "metadata": {},
     "outputs": [],
     "prompt_number": 8
    },
    {
     "cell_type": "markdown",
     "metadata": {},
     "source": [
      "Load mouse2 encode datasets"
     ]
    },
    {
     "cell_type": "code",
     "collapsed": false,
     "input": [
      "validator.load_datasets(\n",
      "    ['/datasets/ENCSR171CRK', \n",
      "     '/datasets/ENCSR724VZC', \n",
      "     '/datasets/ENCSR026KOV'\n",
      "])"
     ],
     "language": "python",
     "metadata": {},
     "outputs": [],
     "prompt_number": 9
    },
    {
     "cell_type": "heading",
     "level": 1,
     "metadata": {},
     "source": [
      "Validate DCC Alias"
     ]
    },
    {
     "cell_type": "markdown",
     "metadata": {},
     "source": [
      "Report ENCODE3 Libraries that can't be confirmed to have just one Wold Lab library in them."
     ]
    },
    {
     "cell_type": "code",
     "collapsed": false,
     "input": [
      "validator.match_dcc_alias_and_our_files()"
     ],
     "language": "python",
     "metadata": {},
     "outputs": [
      {
       "output_type": "stream",
       "stream": "stderr",
       "text": [
        "validate_encode3_aliases.py:269: UserWarning: unable to open index for `http://encodedcc.sdsc.edu/warehouse/2013/4/18/ENCFF001IBA.bam` \n",
        "  stream = Samfile(url, 'rb')\n",
        "validate_encode3_aliases.py:269: UserWarning: unable to open index for `http://encodedcc.sdsc.edu/warehouse/2013/4/18/ENCFF001IDR.bam` \n",
        "  stream = Samfile(url, 'rb')\n"
       ]
      },
      {
       "html": [
        "<p>barbara-wold:10007 validated</p>"
       ],
       "metadata": {},
       "output_type": "display_data"
      },
      {
       "output_type": "stream",
       "stream": "stderr",
       "text": [
        "validate_encode3_aliases.py:269: UserWarning: unable to open index for `http://encodedcc.sdsc.edu/warehouse/2013/4/18/ENCFF001IFQ.bam` \n",
        "  stream = Samfile(url, 'rb')\n"
       ]
      },
      {
       "html": [
        "<p>barbara-wold:10065 validated</p>"
       ],
       "metadata": {},
       "output_type": "display_data"
      },
      {
       "output_type": "stream",
       "stream": "stderr",
       "text": [
        "validate_encode3_aliases.py:269: UserWarning: unable to open index for `http://encodedcc.sdsc.edu/warehouse/2013/4/18/ENCFF001IBT.bam` \n",
        "  stream = Samfile(url, 'rb')\n",
        "validate_encode3_aliases.py:269: UserWarning: unable to open index for `http://encodedcc.sdsc.edu/warehouse/2013/4/18/ENCFF001IEK.bam` \n",
        "  stream = Samfile(url, 'rb')\n"
       ]
      },
      {
       "html": [
        "<p>barbara-wold:10135 validated</p>"
       ],
       "metadata": {},
       "output_type": "display_data"
      },
      {
       "html": [
        "<p>barbara-wold:10150 validated</p>"
       ],
       "metadata": {},
       "output_type": "display_data"
      },
      {
       "output_type": "stream",
       "stream": "stderr",
       "text": [
        "validate_encode3_aliases.py:269: UserWarning: unable to open index for `http://encodedcc.sdsc.edu/warehouse/2013/4/18/ENCFF001IHB.bam` \n",
        "  stream = Samfile(url, 'rb')\n"
       ]
      },
      {
       "html": [
        "<p>barbara-wold:10158 validated</p>"
       ],
       "metadata": {},
       "output_type": "display_data"
      },
      {
       "output_type": "stream",
       "stream": "stderr",
       "text": [
        "validate_encode3_aliases.py:269: UserWarning: unable to open index for `http://encodedcc.sdsc.edu/warehouse/2013/4/18/ENCFF001IHG.bam` \n",
        "  stream = Samfile(url, 'rb')\n"
       ]
      },
      {
       "html": [
        "<p>barbara-wold:10296 validated</p>"
       ],
       "metadata": {},
       "output_type": "display_data"
      },
      {
       "output_type": "stream",
       "stream": "stderr",
       "text": [
        "validate_encode3_aliases.py:269: UserWarning: unable to open index for `http://encodedcc.sdsc.edu/warehouse/2013/4/18/ENCFF001HZL.bam` \n",
        "  stream = Samfile(url, 'rb')\n"
       ]
      },
      {
       "html": [
        "<p>barbara-wold:10330 validated</p>"
       ],
       "metadata": {},
       "output_type": "display_data"
      },
      {
       "output_type": "stream",
       "stream": "stderr",
       "text": [
        "validate_encode3_aliases.py:269: UserWarning: unable to open index for `http://encodedcc.sdsc.edu/warehouse/2013/4/18/ENCFF001HZY.bam` \n",
        "  stream = Samfile(url, 'rb')\n"
       ]
      },
      {
       "html": [
        "<p>barbara-wold:10331 validated</p>"
       ],
       "metadata": {},
       "output_type": "display_data"
      },
      {
       "output_type": "stream",
       "stream": "stderr",
       "text": [
        "validate_encode3_aliases.py:269: UserWarning: unable to open index for `http://encodedcc.sdsc.edu/warehouse/2013/4/18/ENCFF001IHR.bam` \n",
        "  stream = Samfile(url, 'rb')\n"
       ]
      },
      {
       "html": [
        "<p>barbara-wold:10333 validated</p>"
       ],
       "metadata": {},
       "output_type": "display_data"
      },
      {
       "output_type": "stream",
       "stream": "stderr",
       "text": [
        "validate_encode3_aliases.py:269: UserWarning: unable to open index for `http://encodedcc.sdsc.edu/warehouse/2013/4/18/ENCFF001IIB.bam` \n",
        "  stream = Samfile(url, 'rb')\n"
       ]
      },
      {
       "html": [
        "<p>barbara-wold:10335 validated</p>"
       ],
       "metadata": {},
       "output_type": "display_data"
      },
      {
       "output_type": "stream",
       "stream": "stderr",
       "text": [
        "validate_encode3_aliases.py:269: UserWarning: unable to open index for `http://encodedcc.sdsc.edu/warehouse/2013/4/18/ENCFF001IIK.bam` \n",
        "  stream = Samfile(url, 'rb')\n"
       ]
      },
      {
       "html": [
        "<p>barbara-wold:10409 validated</p>"
       ],
       "metadata": {},
       "output_type": "display_data"
      },
      {
       "output_type": "stream",
       "stream": "stderr",
       "text": [
        "validate_encode3_aliases.py:269: UserWarning: unable to open index for `http://encodedcc.sdsc.edu/warehouse/2013/4/18/ENCFF001IHL.bam` \n",
        "  stream = Samfile(url, 'rb')\n"
       ]
      },
      {
       "html": [
        "<p>barbara-wold:10481 validated</p>"
       ],
       "metadata": {},
       "output_type": "display_data"
      },
      {
       "output_type": "stream",
       "stream": "stderr",
       "text": [
        "validate_encode3_aliases.py:269: UserWarning: unable to open index for `http://encodedcc.sdsc.edu/warehouse/2013/4/18/ENCFF001IAT.bam` \n",
        "  stream = Samfile(url, 'rb')\n"
       ]
      },
      {
       "html": [
        "<p>barbara-wold:10502 validated</p>"
       ],
       "metadata": {},
       "output_type": "display_data"
      },
      {
       "output_type": "stream",
       "stream": "stderr",
       "text": [
        "validate_encode3_aliases.py:269: UserWarning: unable to open index for `http://encodedcc.sdsc.edu/warehouse/2013/4/18/ENCFF001IDI.bam` \n",
        "  stream = Samfile(url, 'rb')\n"
       ]
      },
      {
       "html": [
        "<p>barbara-wold:10506 validated</p>"
       ],
       "metadata": {},
       "output_type": "display_data"
      },
      {
       "output_type": "stream",
       "stream": "stderr",
       "text": [
        "validate_encode3_aliases.py:269: UserWarning: unable to open index for `http://encodedcc.sdsc.edu/warehouse/2013/4/18/ENCFF001IAN.bam` \n",
        "  stream = Samfile(url, 'rb')\n"
       ]
      },
      {
       "html": [
        "<p>barbara-wold:10536 validated</p>"
       ],
       "metadata": {},
       "output_type": "display_data"
      },
      {
       "output_type": "stream",
       "stream": "stderr",
       "text": [
        "validate_encode3_aliases.py:269: UserWarning: unable to open index for `http://encodedcc.sdsc.edu/warehouse/2013/4/18/ENCFF001IGW.bam` \n",
        "  stream = Samfile(url, 'rb')\n"
       ]
      },
      {
       "html": [
        "<p>barbara-wold:10599 validated</p>"
       ],
       "metadata": {},
       "output_type": "display_data"
      },
      {
       "output_type": "stream",
       "stream": "stderr",
       "text": [
        "validate_encode3_aliases.py:269: UserWarning: unable to open index for `http://encodedcc.sdsc.edu/warehouse/2013/4/18/ENCFF001IGJ.bam` \n",
        "  stream = Samfile(url, 'rb')\n"
       ]
      },
      {
       "html": [
        "<p>barbara-wold:10703 validated</p>"
       ],
       "metadata": {},
       "output_type": "display_data"
      },
      {
       "output_type": "stream",
       "stream": "stderr",
       "text": [
        "validate_encode3_aliases.py:269: UserWarning: unable to open index for `http://encodedcc.sdsc.edu/warehouse/2013/4/18/ENCFF001IFV.bam` \n",
        "  stream = Samfile(url, 'rb')\n"
       ]
      },
      {
       "html": [
        "<p>barbara-wold:10704 validated</p>"
       ],
       "metadata": {},
       "output_type": "display_data"
      },
      {
       "output_type": "stream",
       "stream": "stderr",
       "text": [
        "validate_encode3_aliases.py:269: UserWarning: unable to open index for `http://encodedcc.sdsc.edu/warehouse/2013/4/18/ENCFF001ICL.bam` \n",
        "  stream = Samfile(url, 'rb')\n"
       ]
      },
      {
       "html": [
        "<p>barbara-wold:10985 validated</p>"
       ],
       "metadata": {},
       "output_type": "display_data"
      },
      {
       "output_type": "stream",
       "stream": "stderr",
       "text": [
        "validate_encode3_aliases.py:269: UserWarning: unable to open index for `http://encodedcc.sdsc.edu/warehouse/2013/4/18/ENCFF001ICO.bam` \n",
        "  stream = Samfile(url, 'rb')\n"
       ]
      },
      {
       "html": [
        "<p>barbara-wold:10986 validated</p>"
       ],
       "metadata": {},
       "output_type": "display_data"
      },
      {
       "output_type": "stream",
       "stream": "stderr",
       "text": [
        "validate_encode3_aliases.py:269: UserWarning: unable to open index for `http://encodedcc.sdsc.edu/warehouse/2013/4/18/ENCFF001ICF.bam` \n",
        "  stream = Samfile(url, 'rb')\n"
       ]
      },
      {
       "html": [
        "<p>barbara-wold:11154 validated</p>"
       ],
       "metadata": {},
       "output_type": "display_data"
      },
      {
       "output_type": "stream",
       "stream": "stderr",
       "text": [
        "validate_encode3_aliases.py:269: UserWarning: unable to open index for `http://encodedcc.sdsc.edu/warehouse/2013/4/18/ENCFF001ICE.bam` \n",
        "  stream = Samfile(url, 'rb')\n"
       ]
      },
      {
       "html": [
        "<p>barbara-wold:11155 validated</p>"
       ],
       "metadata": {},
       "output_type": "display_data"
      },
      {
       "output_type": "stream",
       "stream": "stderr",
       "text": [
        "validate_encode3_aliases.py:269: UserWarning: unable to open index for `http://encodedcc.sdsc.edu/warehouse/2013/4/18/ENCFF001IDN.bam` \n",
        "  stream = Samfile(url, 'rb')\n"
       ]
      },
      {
       "html": [
        "<p>barbara-wold:11565 validated</p>"
       ],
       "metadata": {},
       "output_type": "display_data"
      },
      {
       "output_type": "stream",
       "stream": "stderr",
       "text": [
        "validate_encode3_aliases.py:269: UserWarning: unable to open index for `http://encodedcc.sdsc.edu/warehouse/2013/4/18/ENCFF001IBX.bam` \n",
        "  stream = Samfile(url, 'rb')\n",
        "validate_encode3_aliases.py:269: UserWarning: unable to open index for `http://encodedcc.sdsc.edu/warehouse/2013/4/18/ENCFF001IEP.bam` \n",
        "  stream = Samfile(url, 'rb')\n"
       ]
      },
      {
       "output_type": "stream",
       "stream": "stderr",
       "text": [
        "validate_encode3_aliases.py:269: UserWarning: unable to open index for `http://encodedcc.sdsc.edu/warehouse/2013/4/18/ENCFF001IEX.bam` \n",
        "  stream = Samfile(url, 'rb')\n"
       ]
      },
      {
       "html": [
        "<dl><dt>barbara-wold:11612</dt><dd>Bam: mm9/wgEncodeCaltechHist/wgEncodeCaltechHistC2c12InputFCntrl50bPcr1xAlnRep1.bam</br>Couldn't parse: HWI-ST501_0039:1:5:3740:154090#ATCACG/1</br>Old metadata: labExpId: 11612,md5sum: 94f7681c9cebc9e83db062dca0d8cc5b</br>Fastq: mm9/wgEncodeCaltechHist/wgEncodeCaltechHistC2c12InputFCntrl50bPcr1xRawDataRep1.fastq.gz</br>Couldn't parse: @HWI-ST501_0039:1:1:1629:1986#ATCACG/1</br>Old metadata: labExpId: 11612,md5sum: 01200b6155b84bafd24006d9c38acbce</br>Bam: mm9/wgEncodeCaltechTfbs/wgEncodeCaltechTfbsC2c12InputFCntrl36bPcr1xAlnRep1.bam</br>Couldn't parse: HWI-EAS229_0009:6:89:10662:14101/1</br>Old metadata: labExpId: 11612,md5sum: 41b2a554e8048790108b64f2ea645860</br>Fastq: mm9/wgEncodeCaltechTfbs/wgEncodeCaltechTfbsC2c12InputFCntrl36bPcr1xRawDataRep1.fastq.gz</br>Couldn't parse: @HWI-EAS229_0009:6:1:981:17590/1</br>Old metadata: labExpId: 11612,md5sum: 893887c61424c2e1ec8ecee617fefa33</br>Bam: mm9/wgEncodeCaltechTfbs/wgEncodeCaltechTfbsC2c12InputFCntrl50bPcr1xAlnRep1.bam</br>Couldn't parse: HWI-ST501_0039:1:5:3740:154090#ATCACG/1</br>Old metadata: labExpId: 11612,md5sum: 94f7681c9cebc9e83db062dca0d8cc5b</br>Fastq: mm9/wgEncodeCaltechTfbs/wgEncodeCaltechTfbsC2c12InputFCntrl50bPcr1xRawDataRep2.fastq.gz</br>Couldn't parse: @HWI-ST501_0039:1:1:1336:1987#TAGCTT/1</br>Old metadata: labExpId: 11638,md5sum: 0d84929e5140f7b4c09727c2c2c41589</br>Fastq: mm9/wgEncodeCaltechTfbs/wgEncodeCaltechTfbsC2c12InputFCntrl50bPcr1xRawDataRep1.fastq.gz</br>Couldn't parse: @HWI-ST501_0039:1:1:1629:1986#ATCACG/1</br>Old metadata: labExpId: 11612,md5sum: 79cab86a85e223053f9d02ec420c009c</br>Fastq: mm9/wgEncodeCaltechTfbs/wgEncodeCaltechTfbsC2c12InputFCntrl50bPcr1xRawDataRep3.fastq.gz</br>Couldn't parse: @HWI-ST501_0039:3:1:2010:1986#GATCAG/1</br>Old metadata: labExpId: 11670,md5sum: 24ecf87e9a5635a454e8b75951d54691</dd></dl>"
       ],
       "metadata": {},
       "output_type": "display_data"
      },
      {
       "output_type": "stream",
       "stream": "stderr",
       "text": [
        "validate_encode3_aliases.py:269: UserWarning: unable to open index for `http://encodedcc.sdsc.edu/warehouse/2013/4/18/ENCFF001IIN.bam` \n",
        "  stream = Samfile(url, 'rb')\n"
       ]
      },
      {
       "html": [
        "<dl><dt>barbara-wold:11644</dt><dd>Bam: mm9/wgEncodeCaltechTfbs/wgEncodeCaltechTfbsC2c12Usf1FCntrl50bE2p60hPcr1xAlnRep1.bam</br>Couldn't parse: HWI-ST501_0039:3:47:10004:86258#GCCAAT/1</br>Old metadata: labExpId: 11644,md5sum: 9f12078f09b4f25d6349cff43f7aa62f</br>Fastq: mm9/wgEncodeCaltechTfbs/wgEncodeCaltechTfbsC2c12Usf1FCntrl50bE2p60hPcr1xRawDataRep1.fastq.gz</br>Couldn't parse: @HWI-ST501_0039:3:1:1428:1985#GCCAAT/1</br>Old metadata: labExpId: 11644,md5sum: a70ed949cc8dacb54ebf6cf051a40d2f</dd></dl>"
       ],
       "metadata": {},
       "output_type": "display_data"
      },
      {
       "output_type": "stream",
       "stream": "stderr",
       "text": [
        "validate_encode3_aliases.py:269: UserWarning: unable to open index for `http://encodedcc.sdsc.edu/warehouse/2013/4/18/ENCFF001ICS.bam` \n",
        "  stream = Samfile(url, 'rb')\n"
       ]
      },
      {
       "html": [
        "<dl><dt>barbara-wold:11653</dt><dd>Bam: mm9/wgEncodeCaltechTfbs/wgEncodeCaltechTfbsC2c12CebpbFCntrl50bE2p60hPcr1xAlnRep1.bam</br>Couldn't parse: HWI-ST661_0041:4:67:3847:101168#ATCACG/1</br>Old metadata: labExpId: 11653,md5sum: 5da2e6f49a64501a355c5c0d516b4616</br>Fastq: mm9/wgEncodeCaltechTfbs/wgEncodeCaltechTfbsC2c12CebpbFCntrl50bE2p60hPcr1xRawDataRep1.fastq.gz</br>Couldn't parse: @HWI-ST661_0041:4:1:1208:2085#ATCACG/1</br>Old metadata: labExpId: 11653,md5sum: dfd51e8b8085f88f932fb39a06ef0104</dd></dl>"
       ],
       "metadata": {},
       "output_type": "display_data"
      },
      {
       "output_type": "stream",
       "stream": "stderr",
       "text": [
        "validate_encode3_aliases.py:269: UserWarning: unable to open index for `http://encodedcc.sdsc.edu/warehouse/2013/4/18/ENCFF001HZH.bam` \n",
        "  stream = Samfile(url, 'rb')\n"
       ]
      },
      {
       "html": [
        "<dl><dt>barbara-wold:11669</dt><dd>Bam: mm9/wgEncodeCaltechHist/wgEncodeCaltechHistC2c12Ab3594FCntrl50bE2p60hPcr1xAlnRep1.bam</br>Couldn't parse: HWI-ST501_0039:3:64:12688:124485#CGATGT/1</br>Old metadata: labExpId: 11669,md5sum: 24ed0fdcad9e43fb178ca19ef6942e96</br>Fastq: mm9/wgEncodeCaltechHist/wgEncodeCaltechHistC2c12Ab3594FCntrl50bE2p60hPcr1xRawDataRep1.fastq.gz</br>Couldn't parse: @HWI-ST501_0039:3:1:1391:1999#CGATGT/1</br>Old metadata: labExpId: 11669,md5sum: 590b1847bded5cc397f32c55ce56ba96</dd></dl>"
       ],
       "metadata": {},
       "output_type": "display_data"
      },
      {
       "output_type": "stream",
       "stream": "stderr",
       "text": [
        "validate_encode3_aliases.py:269: UserWarning: unable to open index for `http://encodedcc.sdsc.edu/warehouse/2013/4/18/ENCFF001IFF.bam` \n",
        "  stream = Samfile(url, 'rb')\n"
       ]
      },
      {
       "html": [
        "<dl><dt>barbara-wold:11682</dt><dd>Bam: mm9/wgEncodeCaltechTfbs/wgEncodeCaltechTfbsC2c12MaxFCntrl50bE2p60hPcr1xAlnRep1.bam</br>Couldn't parse: HWI-ST501_0039:4:24:9459:162408#CAGATC/1</br>Old metadata: labExpId: 11682,md5sum: 8e92bb624def14e766fd014553317c8b</br>Fastq: mm9/wgEncodeCaltechTfbs/wgEncodeCaltechTfbsC2c12MaxFCntrl50bE2p60hPcr1xRawDataRep1.fastq.gz</br>Couldn't parse: @HWI-ST501_0039:4:1:1616:1983#CAGATC/1</br>Old metadata: labExpId: 11682,md5sum: 692b6156dd527c2bb75f6a8ac82cc030</dd></dl>"
       ],
       "metadata": {},
       "output_type": "display_data"
      },
      {
       "output_type": "stream",
       "stream": "stderr",
       "text": [
        "validate_encode3_aliases.py:269: UserWarning: unable to open index for `http://encodedcc.sdsc.edu/warehouse/2013/4/18/ENCFF001IAW.bam` \n",
        "  stream = Samfile(url, 'rb')\n"
       ]
      },
      {
       "html": [
        "<dl><dt>barbara-wold:11697</dt><dd>Bam: mm9/wgEncodeCaltechHist/wgEncodeCaltechHistC2c12H3k36me3FCntrl50bE2p60hPcr1xAlnRep1.bam</br>Couldn't parse: HWI-ST501_0039:5:64:18088:99163#GCCAAT/1</br>Old metadata: labExpId: 11697,md5sum: e843725934bb8ca41e24b4d6afbc9c07</br>Fastq: mm9/wgEncodeCaltechHist/wgEncodeCaltechHistC2c12H3k36me3FCntrl50bE2p60hPcr1xRawDataRep1.fastq.gz</br>Couldn't parse: @HWI-ST501_0039:5:1:2847:1994#GCCAAT/1</br>Old metadata: labExpId: 11697,md5sum: a382695f9016cad608d80b980aad5018</dd></dl>"
       ],
       "metadata": {},
       "output_type": "display_data"
      },
      {
       "output_type": "stream",
       "stream": "stderr",
       "text": [
        "validate_encode3_aliases.py:269: UserWarning: unable to open index for `http://encodedcc.sdsc.edu/warehouse/2013/4/18/ENCFF001IDK.bam` \n",
        "  stream = Samfile(url, 'rb')\n"
       ]
      },
      {
       "html": [
        "<dl><dt>barbara-wold:11718</dt><dd>Bam: mm9/wgEncodeCaltechTfbs/wgEncodeCaltechTfbsC2c12E2f4FCntrl50bE2p60hPcr1xAlnRep1.bam</br>Couldn't parse: HWI-ST661_0041:4:4:9974:89033#TTAGGC/1</br>Old metadata: labExpId: 11718,md5sum: a28a29eaca99af8d06ce953fc3c38dc9</br>Fastq: mm9/wgEncodeCaltechTfbs/wgEncodeCaltechTfbsC2c12E2f4FCntrl50bE2p60hPcr1xRawDataRep1.fastq.gz</br>Couldn't parse: @HWI-ST661_0041:4:1:1243:2084#TTAGGC/1</br>Old metadata: labExpId: 11718,md5sum: b794c3409f9a6c2947a186ed6bc225f2</dd></dl>"
       ],
       "metadata": {},
       "output_type": "display_data"
      },
      {
       "output_type": "stream",
       "stream": "stderr",
       "text": [
        "validate_encode3_aliases.py:269: UserWarning: unable to open index for `http://encodedcc.sdsc.edu/warehouse/2013/4/18/ENCFF001IIE.bam` \n",
        "  stream = Samfile(url, 'rb')\n"
       ]
      },
      {
       "html": [
        "<dl><dt>barbara-wold:11719</dt><dd>Bam: mm9/wgEncodeCaltechTfbs/wgEncodeCaltechTfbsC2c12Tcf12FCntrl50bE2p60hPcr1xAlnRep1.bam</br>Couldn't parse: HWI-ST501_0039:6:22:2080:66947#ATCACG/1</br>Old metadata: labExpId: 11719,md5sum: cf719a6dc330c5655f9eecc7ef260749</br>Fastq: mm9/wgEncodeCaltechTfbs/wgEncodeCaltechTfbsC2c12Tcf12FCntrl50bE2p60hPcr1xRawDataRep1.fastq.gz</br>Couldn't parse: @HWI-ST501_0039:6:1:2282:1999#ATCACG/1</br>Old metadata: labExpId: 11719,md5sum: 422fc27b552dd0be9a5620ff4fd5833b</dd></dl>"
       ],
       "metadata": {},
       "output_type": "display_data"
      },
      {
       "output_type": "stream",
       "stream": "stderr",
       "text": [
        "validate_encode3_aliases.py:269: UserWarning: unable to open index for `http://encodedcc.sdsc.edu/warehouse/2013/4/18/ENCFF001HZE.bam` \n",
        "  stream = Samfile(url, 'rb')\n"
       ]
      },
      {
       "html": [
        "<dl><dt>barbara-wold:11832</dt><dd>Bam: mm9/wgEncodeCaltechHist/wgEncodeCaltechHistC2c12Ab32356FCntrl50bE2p60hPcr1xAlnRep1.bam</br>Couldn't parse: HWI-ST501_0039:6:26:10320:174026#TTAGGC/1</br>Old metadata: labExpId: 11832,md5sum: ffb91abfd472a70d4a8b8fa4b1e1b498</br>Fastq: mm9/wgEncodeCaltechHist/wgEncodeCaltechHistC2c12Ab32356FCntrl50bE2p60hPcr1xRawDataRep1.fastq.gz</br>Couldn't parse: @HWI-ST501_0039:6:1:2557:1997#TTAGGC/1</br>Old metadata: labExpId: 11832,md5sum: cfd4c80b363e2b8b597ba4930ee6cf71</dd></dl>"
       ],
       "metadata": {},
       "output_type": "display_data"
      },
      {
       "output_type": "stream",
       "stream": "stderr",
       "text": [
        "validate_encode3_aliases.py:269: UserWarning: unable to open index for `http://encodedcc.sdsc.edu/warehouse/2013/4/18/ENCFF001ICT.bam` \n",
        "  stream = Samfile(url, 'rb')\n"
       ]
      },
      {
       "html": [
        "<dl><dt>barbara-wold:11847</dt><dd>Bam: mm9/wgEncodeCaltechTfbs/wgEncodeCaltechTfbsC2c12CebpbFCntrl50bE2p60hPcr1xAlnRep2.bam</br>Couldn't parse: HWI-ST501_0039:7:45:2119:59586#GCCAAT/1</br>Old metadata: labExpId: 11847,md5sum: 243fea0f930c4cba1ff53e9af9484d69</br>Fastq: mm9/wgEncodeCaltechTfbs/wgEncodeCaltechTfbsC2c12CebpbFCntrl50bE2p60hPcr1xRawDataRep2.fastq.gz</br>Couldn't parse: @HWI-ST501_0039:7:1:1809:1990#GCCAAT/1</br>Old metadata: labExpId: 11847,md5sum: b892c626867f7786070f89cced35838e</dd></dl>"
       ],
       "metadata": {},
       "output_type": "display_data"
      },
      {
       "output_type": "stream",
       "stream": "stderr",
       "text": [
        "validate_encode3_aliases.py:269: UserWarning: unable to open index for `http://encodedcc.sdsc.edu/warehouse/2013/4/18/ENCFF001IAY.bam` \n",
        "  stream = Samfile(url, 'rb')\n"
       ]
      },
      {
       "html": [
        "<dl><dt>barbara-wold:11905</dt><dd>Bam: mm9/wgEncodeCaltechHist/wgEncodeCaltechHistC2c12H3k36me3FCntrl50bPcr1xAlnRep1.bam</br>Couldn't parse: HWI-ST501_0041:2:22:19940:114465#TTAGGC/1</br>Old metadata: labExpId: 11905,md5sum: a02b1919cf7de939dc43b8bc7cd8055e</br>Fastq: mm9/wgEncodeCaltechHist/wgEncodeCaltechHistC2c12H3k36me3FCntrl50bPcr1xRawDataRep1.fastq.gz</br>Couldn't parse: @HWI-ST501_0041:2:1:1729:2034#TTAGGC/1</br>Old metadata: labExpId: 11905,md5sum: 437edf4eb5f4345582d38cf232d948be</dd></dl>"
       ],
       "metadata": {},
       "output_type": "display_data"
      },
      {
       "output_type": "stream",
       "stream": "stderr",
       "text": [
        "validate_encode3_aliases.py:269: UserWarning: unable to open index for `http://encodedcc.sdsc.edu/warehouse/2013/4/18/ENCFF001HZJ.bam` \n",
        "  stream = Samfile(url, 'rb')\n"
       ]
      },
      {
       "html": [
        "<dl><dt>barbara-wold:11906</dt><dd>Bam: mm9/wgEncodeCaltechHist/wgEncodeCaltechHistC2c12Ab3594FCntrl50bPcr1xAlnRep1.bam</br>Couldn't parse: HWI-ST661_0041:5:25:13061:68164#GCCAAT/1</br>Old metadata: labExpId: 11906,md5sum: bc13ba05f20b270d6031d6c0b77db31f</br>Fastq: mm9/wgEncodeCaltechHist/wgEncodeCaltechHistC2c12Ab3594FCntrl50bPcr1xRawDataRep1.fastq.gz</br>Couldn't parse: @HWI-ST661_0041:5:1:1150:2149#GCCAAT/1</br>Old metadata: labExpId: 11906,md5sum: 21d6912fb627a4f3280aec032923dfc9</dd></dl>"
       ],
       "metadata": {},
       "output_type": "display_data"
      },
      {
       "output_type": "stream",
       "stream": "stderr",
       "text": [
        "validate_encode3_aliases.py:269: UserWarning: unable to open index for `http://encodedcc.sdsc.edu/warehouse/2013/4/18/ENCFF001HYZ.bam` \n",
        "  stream = Samfile(url, 'rb')\n"
       ]
      },
      {
       "html": [
        "<dl><dt>barbara-wold:11907</dt><dd>Bam: mm9/wgEncodeCaltechHist/wgEncodeCaltechHistC2c12Ab2621FCntrl50bPcr1xAlnRep1.bam</br>Couldn't parse: HWI-ST501_0039:8:2:1524:51115#CAGATC/1</br>Old metadata: labExpId: 11907,md5sum: 7a2a9aa268469d39b47c87beb1230e0e</br>Fastq: mm9/wgEncodeCaltechHist/wgEncodeCaltechHistC2c12Ab2621FCntrl50bPcr1xRawDataRep1.fastq.gz</br>Couldn't parse: @HWI-ST501_0039:8:1:1438:2071#CAGATC/1</br>Old metadata: labExpId: 11907,md5sum: 50c184ce1b2fd5644fda7dfc7e2c539c</dd></dl>"
       ],
       "metadata": {},
       "output_type": "display_data"
      },
      {
       "output_type": "stream",
       "stream": "stderr",
       "text": [
        "validate_encode3_aliases.py:269: UserWarning: unable to open index for `http://encodedcc.sdsc.edu/warehouse/2013/4/18/ENCFF001IIO.bam` \n",
        "  stream = Samfile(url, 'rb')\n"
       ]
      },
      {
       "html": [
        "<dl><dt>barbara-wold:11923</dt><dd>Bam: mm9/wgEncodeCaltechTfbs/wgEncodeCaltechTfbsC2c12Usf1FCntrl50bPcr1xAlnRep1.bam</br>Couldn't parse: HWI-ST501_0039:8:6:10069:165070#TAGCTT/1</br>Old metadata: labExpId: 11923,md5sum: ea1475e136c675a8201b0547d8280da7</br>Fastq: mm9/wgEncodeCaltechTfbs/wgEncodeCaltechTfbsC2c12Usf1FCntrl50bPcr1xRawDataRep1.fastq.gz</br>Couldn't parse: @HWI-ST501_0039:8:1:1471:2007#TAGCTT/1</br>Old metadata: labExpId: 11923,md5sum: 681efd1b1d4497a0a69aaf84925de5fb</dd></dl>"
       ],
       "metadata": {},
       "output_type": "display_data"
      },
      {
       "output_type": "stream",
       "stream": "stderr",
       "text": [
        "validate_encode3_aliases.py:269: UserWarning: unable to open index for `http://encodedcc.sdsc.edu/warehouse/2013/4/18/ENCFF001IFK.bam` \n",
        "  stream = Samfile(url, 'rb')\n"
       ]
      },
      {
       "html": [
        "<dl><dt>barbara-wold:11924</dt><dd>Bam: mm9/wgEncodeCaltechTfbs/wgEncodeCaltechTfbsC2c12MaxFCntrl50bPcr1xAlnRep1.bam</br>Couldn't parse: HWI-ST661_0041:5:26:17524:7422#TTAGGC/1</br>Old metadata: labExpId: 11924,md5sum: 4e5aae20e38b48349f6530e6a264289b</br>Fastq: mm9/wgEncodeCaltechTfbs/wgEncodeCaltechTfbsC2c12MaxFCntrl50bPcr1xRawDataRep1.fastq.gz</br>Couldn't parse: @HWI-ST661_0041:5:1:1153:2085#TTAGGC/1</br>Old metadata: labExpId: 11924,md5sum: 27e0edbf2b3e1b202e43cf5d2705a053</dd></dl>"
       ],
       "metadata": {},
       "output_type": "display_data"
      },
      {
       "output_type": "stream",
       "stream": "stderr",
       "text": [
        "validate_encode3_aliases.py:269: UserWarning: unable to open index for `http://encodedcc.sdsc.edu/warehouse/2013/4/18/ENCFF001IHV.bam` \n",
        "  stream = Samfile(url, 'rb')\n"
       ]
      },
      {
       "html": [
        "<dl><dt>barbara-wold:11926</dt><dd>Bam: mm9/wgEncodeCaltechTfbs/wgEncodeCaltechTfbsC2c12Sc32758FCntrl50bE2p7dPcr1xAlnRep1.bam</br>Couldn't parse: HWI-ST501_0041:4:26:7350:144810#ATCACG/1</br>Old metadata: labExpId: 11926,md5sum: 0364724d23f03e881d679034106c0ff4</br>Fastq: mm9/wgEncodeCaltechTfbs/wgEncodeCaltechTfbsC2c12Sc32758FCntrl50bE2p7dPcr1xRawDataRep1.fastq.gz</br>Couldn't parse: @HWI-ST501_0041:4:1:1812:2077#ATCACG/1</br>Old metadata: labExpId: 11926,md5sum: d2a3a76954e1b731276404dd7837b5cd</dd></dl>"
       ],
       "metadata": {},
       "output_type": "display_data"
      },
      {
       "output_type": "stream",
       "stream": "stderr",
       "text": [
        "validate_encode3_aliases.py:269: UserWarning: unable to open index for `http://encodedcc.sdsc.edu/warehouse/2013/4/18/ENCFF001IGZ.bam` \n",
        "  stream = Samfile(url, 'rb')\n"
       ]
      },
      {
       "html": [
        "<dl><dt>barbara-wold:11927</dt><dd>Bam: mm9/wgEncodeCaltechTfbs/wgEncodeCaltechTfbsC2c12Sc12732FCntrl50bE2p7dPcr1xAlnRep1.bam</br>Couldn't parse: HWI-ST661_0041:5:42:8254:167578#CGATGT/1</br>Old metadata: labExpId: 11927,md5sum: f4258162b9f9f1326d0d58b75a9abd82</br>Fastq: mm9/wgEncodeCaltechTfbs/wgEncodeCaltechTfbsC2c12Sc12732FCntrl50bE2p7dPcr1xRawDataRep1.fastq.gz</br>Couldn't parse: @HWI-ST661_0041:5:1:1218:2043#CGATGT/1</br>Old metadata: labExpId: 11927,md5sum: 681bb4497c4540d61d1274829f3ace0a</dd></dl>"
       ],
       "metadata": {},
       "output_type": "display_data"
      },
      {
       "output_type": "stream",
       "stream": "stderr",
       "text": [
        "validate_encode3_aliases.py:269: UserWarning: unable to open index for `http://encodedcc.sdsc.edu/warehouse/2013/4/18/ENCFF001IDA.bam` \n",
        "  stream = Samfile(url, 'rb')\n"
       ]
      },
      {
       "html": [
        "<dl><dt>barbara-wold:11942</dt><dd>Bam: mm9/wgEncodeCaltechTfbs/wgEncodeCaltechTfbsC2c12CebpbFCntrl50bPcr1xAlnRep1.bam</br>Couldn't parse: HWI-ST501_0041:2:25:17370:5340#CTTGTA/1</br>Old metadata: labExpId: 11942,md5sum: d9537459e61047eac9043479fa2b16ed</br>Fastq: mm9/wgEncodeCaltechTfbs/wgEncodeCaltechTfbsC2c12CebpbFCntrl50bPcr1xRawDataRep1.fastq.gz</br>Couldn't parse: @HWI-ST501_0041:2:1:1315:2053#CTTGTA/1</br>Old metadata: labExpId: 11942,md5sum: 3829991ad29d3f3696d3407fdf9c8833</dd></dl>"
       ],
       "metadata": {},
       "output_type": "display_data"
      },
      {
       "output_type": "stream",
       "stream": "stderr",
       "text": [
        "validate_encode3_aliases.py:269: UserWarning: unable to open index for `http://encodedcc.sdsc.edu/warehouse/2013/4/18/ENCFF001IAH.bam` \n",
        "  stream = Samfile(url, 'rb')\n"
       ]
      },
      {
       "html": [
        "<dl><dt>barbara-wold:11956</dt><dd>Bam: mm9/wgEncodeCaltechHist/wgEncodeCaltechHistC2c12H3k04me3FCntrl50bPcr1xAlnRep1.bam</br>Couldn't parse: HWI-ST661_0041:6:7:17007:197617#ATCACG/1</br>Old metadata: labExpId: 11956,md5sum: 769a835cd9ddb56f4ee73f5ca908df7e</br>Fastq: mm9/wgEncodeCaltechHist/wgEncodeCaltechHistC2c12H3k04me3FCntrl50bPcr1xRawDataRep1.fastq.gz</br>Couldn't parse: @HWI-ST661_0041:6:1:1144:2074#ATCACG/1</br>Old metadata: labExpId: 11956,md5sum: 3e1229f2e79642faa8c842636630f8fc</dd></dl>"
       ],
       "metadata": {},
       "output_type": "display_data"
      },
      {
       "output_type": "stream",
       "stream": "stderr",
       "text": [
        "validate_encode3_aliases.py:269: UserWarning: unable to open index for `http://encodedcc.sdsc.edu/warehouse/2013/4/18/ENCFF001IAG.bam` \n",
        "  stream = Samfile(url, 'rb')\n"
       ]
      },
      {
       "html": [
        "<dl><dt>barbara-wold:11957</dt><dd>Bam: mm9/wgEncodeCaltechHist/wgEncodeCaltechHistC2c12H3k04me3FCntrl50bE2p60hPcr1xAlnRep1.bam</br>Couldn't parse: HWI-ST501_0041:8:44:12917:81912#CGATGT/1</br>Old metadata: labExpId: 11957,md5sum: 12f631c0b1f6fb27210173ad086c76cc</br>Fastq: mm9/wgEncodeCaltechHist/wgEncodeCaltechHistC2c12H3k04me3FCntrl50bE2p60hPcr1xRawDataRep1.fastq.gz</br>Couldn't parse: @HWI-ST501_0041:8:1:1222:2128#CGATGT/1</br>Old metadata: labExpId: 11957,md5sum: 3a2bc71cdbcfce57349200de8334d112</dd></dl>"
       ],
       "metadata": {},
       "output_type": "display_data"
      }
     ],
     "prompt_number": 10
    }
   ],
   "metadata": {}
  }
 ]
}