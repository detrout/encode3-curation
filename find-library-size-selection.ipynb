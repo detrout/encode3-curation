{
 "metadata": {
  "name": ""
 },
 "nbformat": 3,
 "nbformat_minor": 0,
 "worksheets": [
  {
   "cells": [
    {
     "cell_type": "heading",
     "level": 2,
     "metadata": {},
     "source": [
      "Setup"
     ]
    },
    {
     "cell_type": "code",
     "collapsed": false,
     "input": [
      "from __future__ import print_function"
     ],
     "language": "python",
     "metadata": {},
     "outputs": [],
     "prompt_number": 1
    },
    {
     "cell_type": "code",
     "collapsed": false,
     "input": [
      "import sys\n",
      "import types\n",
      "import gcat\n",
      "import pandas\n",
      "\n",
      "import RDF"
     ],
     "language": "python",
     "metadata": {},
     "outputs": [],
     "prompt_number": 17
    },
    {
     "cell_type": "code",
     "collapsed": false,
     "input": [
      "%load_ext rdfmagic"
     ],
     "language": "python",
     "metadata": {},
     "outputs": []
    },
    {
     "cell_type": "code",
     "collapsed": false,
     "input": [
      "def load_custom():\n",
      "    paths = ['/home/diane/proj/solexa/htsworkflow']\n",
      "    for path in paths:\n",
      "        if path not in sys.path:\n",
      "            sys.path.append(path)\n",
      "load_custom()"
     ],
     "language": "python",
     "metadata": {},
     "outputs": [],
     "prompt_number": 3
    },
    {
     "cell_type": "code",
     "collapsed": false,
     "input": [
      "from htsworkflow.util.rdfhelp import get_model, dump_model, load_into_model"
     ],
     "language": "python",
     "metadata": {},
     "outputs": [],
     "prompt_number": 19
    },
    {
     "cell_type": "heading",
     "level": 2,
     "metadata": {},
     "source": [
      "Load single cell to submit sheet"
     ]
    },
    {
     "cell_type": "code",
     "collapsed": false,
     "input": [
      "library_sheet = gcat.get_file(\"Brian's view of Single Cell data to submit\", sheet='New library-replicates needed', fmt='pandas', header=1)"
     ],
     "language": "python",
     "metadata": {},
     "outputs": [],
     "prompt_number": 5
    },
    {
     "cell_type": "code",
     "collapsed": false,
     "input": [
      "# (Did I get useful column names?)\n",
      "library_sheet.columns"
     ],
     "language": "python",
     "metadata": {},
     "outputs": [
      {
       "metadata": {},
       "output_type": "pyout",
       "prompt_number": 6,
       "text": [
        "Index([u'KEY', u'Unnamed: 1', u'uuid', u'uuid.1', u'experiment', u'biological_replicate_number:integer', u'technical_replicate_number:integer', u'paired_ended:boolean', u'platform', u'flow cell information', u'accession', u'aliases:array', u'fragmentation_date', u'biosample', u'documents', u'depleted_in:array', u'nucleic_acid_term_id', u'nucleic_acid_term_name', u'nucleic_acid_starting_quantity', u'nucleic_acid_starting_quantity_units', u'size_range', u'library_size_selection_method', u'extraction_method', u'lysis_method', u'fragmentation_method', u'strand_specificity:boolean', u'paired_ended:boolean.1', u'award', u'lab', u'submitted_by', u'notes'], dtype='object')"
       ]
      }
     ],
     "prompt_number": 6
    },
    {
     "cell_type": "code",
     "collapsed": false,
     "input": [
      "libraries = []\n",
      "for alias in library_sheet['aliases:array']:\n",
      "    if alias and type(alias) in types.StringTypes:\n",
      "        try:\n",
      "            prefix, library = alias.split(':')\n",
      "            libraries.append(library)\n",
      "        except AttributeError as e:\n",
      "            print('Unable to parse: {}, {}'.format(alias, type(alias)))\n",
      "print('Extracted: {} library ids'.format(len(libraries)))"
     ],
     "language": "python",
     "metadata": {},
     "outputs": [
      {
       "output_type": "stream",
       "stream": "stdout",
       "text": [
        "Extracted: 77 library ids\n"
       ]
      }
     ],
     "prompt_number": 63
    },
    {
     "cell_type": "heading",
     "level": 2,
     "metadata": {},
     "source": [
      "Load LIMS Data"
     ]
    },
    {
     "cell_type": "code",
     "collapsed": false,
     "input": [
      "model = get_model()\n",
      "woldlab_libs = 'http://jumpgate.caltech.edu/library/{}'"
     ],
     "language": "python",
     "metadata": {},
     "outputs": [],
     "prompt_number": 15
    },
    {
     "cell_type": "code",
     "collapsed": false,
     "input": [
      "for library in libraries:\n",
      "    load_into_model(model, 'rdfa', woldlab_libs.format(library))"
     ],
     "language": "python",
     "metadata": {},
     "outputs": [],
     "prompt_number": 58
    },
    {
     "cell_type": "code",
     "collapsed": false,
     "input": [
      "with open('/tmp/model.turtle','w') as outstream:\n",
      "    dump_model(model, outstream)"
     ],
     "language": "python",
     "metadata": {},
     "outputs": [],
     "prompt_number": 72
    },
    {
     "cell_type": "code",
     "collapsed": false,
     "input": [
      "%addns htsw http://jumpgate.caltech.edu/wiki/LibraryOntology#\n",
      "%addns library http://jumpgate.caltech.edu/library/\n",
      "%addns flowcell http://jumpgate.caltech.edu/flowcell/"
     ],
     "language": "python",
     "metadata": {},
     "outputs": [],
     "prompt_number": 84
    },
    {
     "cell_type": "heading",
     "level": 2,
     "metadata": {},
     "source": [
      "Find size selection range"
     ]
    },
    {
     "cell_type": "code",
     "collapsed": false,
     "input": [
      "%%sparql -m model -o gel_cuts\n",
      "select ?lib_id ?gel_cut\n",
      "where {\n",
      "    ?lib htsw:gel_cut ?gel_cut ;\n",
      "         htsw:library_id  ?lib_id ;\n",
      "         a htsw:Library .\n",
      "}"
     ],
     "language": "python",
     "metadata": {},
     "outputs": [],
     "prompt_number": 38
    },
    {
     "cell_type": "code",
     "collapsed": false,
     "input": [
      "lib_to_cut = {}\n",
      "for row in gel_cuts:\n",
      "    lib_to_cut[str(row['lib_id'])] = int(str(row['gel_cut']))"
     ],
     "language": "python",
     "metadata": {},
     "outputs": [],
     "prompt_number": 46
    },
    {
     "cell_type": "code",
     "collapsed": false,
     "input": [
      "for i in library_sheet['aliases:array'].index:\n",
      "    alias = library_sheet['aliases:array'][i]\n",
      "    if alias and type(alias) in types.StringTypes:\n",
      "        try:\n",
      "            prefix, library = alias.split(':')\n",
      "            library_sheet['size_range'][i] = lib_to_cut[library]\n",
      "        except AttributeError as e:\n",
      "            print('Unable to parse: {}, {}'.format(alias, type(alias)))"
     ],
     "language": "python",
     "metadata": {},
     "outputs": [],
     "prompt_number": 56
    },
    {
     "cell_type": "code",
     "collapsed": false,
     "input": [
      "# dump it to a local spreadsheet so I can see it before pasting it to google doc.\n",
      "library_sheet.to_excel('/tmp/sizes.xlsx', sheet_name='Sheet1')"
     ],
     "language": "python",
     "metadata": {},
     "outputs": [],
     "prompt_number": 62
    },
    {
     "cell_type": "heading",
     "level": 2,
     "metadata": {},
     "source": [
      "Find Flowcell Info"
     ]
    },
    {
     "cell_type": "code",
     "collapsed": false,
     "input": [
      "%%sparql -m model -o flowcells\n",
      "select distinct ?flowcell\n",
      "where {\n",
      "  ?lane a htsw:IlluminaLane ;\n",
      "        htsw:flowcell ?flowcell .\n",
      "}"
     ],
     "language": "python",
     "metadata": {},
     "outputs": [],
     "prompt_number": 67
    },
    {
     "cell_type": "code",
     "collapsed": false,
     "input": [
      "for row in flowcells:\n",
      "    flowcell = row['flowcell']\n",
      "    print(flowcell)\n",
      "    load_into_model(model, 'rdfa', flowcell)"
     ],
     "language": "python",
     "metadata": {},
     "outputs": [
      {
       "output_type": "stream",
       "stream": "stdout",
       "text": [
        "http://jumpgate.caltech.edu/flowcell/H8U69ADXX/\n",
        "http://jumpgate.caltech.edu/flowcell/D1THKACXX/"
       ]
      },
      {
       "output_type": "stream",
       "stream": "stdout",
       "text": [
        "\n",
        "http://jumpgate.caltech.edu/flowcell/D15ACACXX/"
       ]
      },
      {
       "output_type": "stream",
       "stream": "stdout",
       "text": [
        "\n",
        "http://jumpgate.caltech.edu/flowcell/D1F15ACXX/"
       ]
      },
      {
       "output_type": "stream",
       "stream": "stdout",
       "text": [
        "\n",
        "http://jumpgate.caltech.edu/flowcell/D1GMCACXX/"
       ]
      },
      {
       "output_type": "stream",
       "stream": "stdout",
       "text": [
        "\n",
        "http://jumpgate.caltech.edu/flowcell/D1EWHACXX/"
       ]
      },
      {
       "output_type": "stream",
       "stream": "stdout",
       "text": [
        "\n",
        "http://jumpgate.caltech.edu/flowcell/D0549ACXX/"
       ]
      },
      {
       "output_type": "stream",
       "stream": "stdout",
       "text": [
        "\n"
       ]
      }
     ],
     "prompt_number": 71
    },
    {
     "cell_type": "code",
     "collapsed": false,
     "input": [
      "%%sparql -m model -o flowcells\n",
      "select ?library_id ?flowcell_id ?lane_number ?read_length ?model\n",
      "where {\n",
      "   ?library a htsw:Library ;\n",
      "            htsw:library_id ?library_id ;\n",
      "            htsw:has_lane ?lane .\n",
      "   ?lane htsw:flowcell ?flowcell ;\n",
      "         htsw:lane_number ?lane_number .\n",
      "   ?flowcell htsw:read_length ?read_length ;\n",
      "             htsw:flowcell_id ?flowcell_id ;\n",
      "             htsw:sequenced_by ?sequencer . \n",
      "   ?sequencer htsw:sequencer_model ?model .    \n",
      "}\n",
      "order by ?library ?lane"
     ],
     "language": "python",
     "metadata": {},
     "outputs": [],
     "prompt_number": 89
    },
    {
     "cell_type": "code",
     "collapsed": false,
     "input": [
      "flowcells"
     ],
     "language": "python",
     "metadata": {},
     "outputs": [
      {
       "html": [
        "<table><tr><td>library_id</td><td>flowcell_id</td><td>lane_number</td><td>read_length</td><td>model</td></tr><tr><td>12517</td><td>D0549ACXX</td><td>1</td><td>101</td><td>Illumina HiSeq 2000</td></tr><tr><td>12518</td><td>D0549ACXX</td><td>2</td><td>101</td><td>Illumina HiSeq 2000</td></tr><tr><td>13024</td><td>D15ACACXX</td><td>3</td><td>100</td><td>Illumina HiSeq 2000</td></tr><tr><td>13024</td><td>H8U69ADXX</td><td>1</td><td>100</td><td>Illumina HiSeq 2000</td></tr><tr><td>13025</td><td>D15ACACXX</td><td>4</td><td>100</td><td>Illumina HiSeq 2000</td></tr><tr><td>13025</td><td>H8U69ADXX</td><td>1</td><td>100</td><td>Illumina HiSeq 2000</td></tr><tr><td>13262</td><td>D1F15ACXX</td><td>3</td><td>100</td><td>Illumina HiSeq 2000</td></tr><tr><td>13262</td><td>H8U69ADXX</td><td>1</td><td>100</td><td>Illumina HiSeq 2000</td></tr><tr><td>13263</td><td>D1F15ACXX</td><td>4</td><td>100</td><td>Illumina HiSeq 2000</td></tr><tr><td>13274</td><td>D1EWHACXX</td><td>3</td><td>100</td><td>Illumina HiSeq 2000</td></tr><tr><td>13275</td><td>D1EWHACXX</td><td>3</td><td>100</td><td>Illumina HiSeq 2000</td></tr><tr><td>13280</td><td>D1EWHACXX</td><td>5</td><td>100</td><td>Illumina HiSeq 2000</td></tr><tr><td>13281</td><td>D1EWHACXX</td><td>6</td><td>100</td><td>Illumina HiSeq 2000</td></tr><tr><td>13282</td><td>D1EWHACXX</td><td>5</td><td>100</td><td>Illumina HiSeq 2000</td></tr><tr><td>13283</td><td>D1EWHACXX</td><td>6</td><td>100</td><td>Illumina HiSeq 2000</td></tr><tr><td>13284</td><td>D1EWHACXX</td><td>7</td><td>100</td><td>Illumina HiSeq 2000</td></tr><tr><td>13285</td><td>D1EWHACXX</td><td>8</td><td>100</td><td>Illumina HiSeq 2000</td></tr><tr><td>13286</td><td>D1EWHACXX</td><td>6</td><td>100</td><td>Illumina HiSeq 2000</td></tr><tr><td>13287</td><td>D1EWHACXX</td><td>5</td><td>100</td><td>Illumina HiSeq 2000</td></tr><tr><td>13288</td><td>D1EWHACXX</td><td>8</td><td>100</td><td>Illumina HiSeq 2000</td></tr><tr><td>13289</td><td>D1EWHACXX</td><td>7</td><td>100</td><td>Illumina HiSeq 2000</td></tr><tr><td>13290</td><td>D1EWHACXX</td><td>5</td><td>100</td><td>Illumina HiSeq 2000</td></tr><tr><td>13291</td><td>D1EWHACXX</td><td>6</td><td>100</td><td>Illumina HiSeq 2000</td></tr><tr><td>13292</td><td>D1EWHACXX</td><td>8</td><td>100</td><td>Illumina HiSeq 2000</td></tr><tr><td>13294</td><td>D1EWHACXX</td><td>6</td><td>100</td><td>Illumina HiSeq 2000</td></tr><tr><td>13295</td><td>D1EWHACXX</td><td>5</td><td>100</td><td>Illumina HiSeq 2000</td></tr><tr><td>13296</td><td>D1EWHACXX</td><td>7</td><td>100</td><td>Illumina HiSeq 2000</td></tr><tr><td>13297</td><td>D1EWHACXX</td><td>8</td><td>100</td><td>Illumina HiSeq 2000</td></tr><tr><td>13298</td><td>D1EWHACXX</td><td>8</td><td>100</td><td>Illumina HiSeq 2000</td></tr><tr><td>13299</td><td>D1EWHACXX</td><td>7</td><td>100</td><td>Illumina HiSeq 2000</td></tr><tr><td>13300</td><td>D1EWHACXX</td><td>2</td><td>100</td><td>Illumina HiSeq 2000</td></tr><tr><td>13301</td><td>D1EWHACXX</td><td>2</td><td>100</td><td>Illumina HiSeq 2000</td></tr><tr><td>13347</td><td>D1GMCACXX</td><td>3</td><td>100</td><td>Illumina HiSeq 2000</td></tr><tr><td>13347</td><td>H8U69ADXX</td><td>1</td><td>100</td><td>Illumina HiSeq 2000</td></tr><tr><td>13349</td><td>D1GMCACXX</td><td>3</td><td>100</td><td>Illumina HiSeq 2000</td></tr><tr><td>13349</td><td>H8U69ADXX</td><td>1</td><td>100</td><td>Illumina HiSeq 2000</td></tr><tr><td>13619</td><td>D1THKACXX</td><td>4</td><td>100</td><td>Illumina HiSeq 2000</td></tr><tr><td>13619</td><td>H8U69ADXX</td><td>1</td><td>100</td><td>Illumina HiSeq 2000</td></tr><tr><td>13620</td><td>D1THKACXX</td><td>4</td><td>100</td><td>Illumina HiSeq 2000</td></tr><tr><td>13620</td><td>H8U69ADXX</td><td>1</td><td>100</td><td>Illumina HiSeq 2000</td></tr><tr><td>13622</td><td>D1THKACXX</td><td>4</td><td>100</td><td>Illumina HiSeq 2000</td></tr><tr><td>13622</td><td>H8U69ADXX</td><td>1</td><td>100</td><td>Illumina HiSeq 2000</td></tr><tr><td>13623</td><td>D1THKACXX</td><td>4</td><td>100</td><td>Illumina HiSeq 2000</td></tr><tr><td>13623</td><td>H8U69ADXX</td><td>1</td><td>100</td><td>Illumina HiSeq 2000</td></tr><tr><td>13625</td><td>D1THKACXX</td><td>4</td><td>100</td><td>Illumina HiSeq 2000</td></tr><tr><td>13626</td><td>D1THKACXX</td><td>4</td><td>100</td><td>Illumina HiSeq 2000</td></tr><tr><td>13627</td><td>D1THKACXX</td><td>4</td><td>100</td><td>Illumina HiSeq 2000</td></tr><tr><td>13628</td><td>D1THKACXX</td><td>5</td><td>100</td><td>Illumina HiSeq 2000</td></tr><tr><td>13629</td><td>D1THKACXX</td><td>5</td><td>100</td><td>Illumina HiSeq 2000</td></tr><tr><td>13630</td><td>D1THKACXX</td><td>5</td><td>100</td><td>Illumina HiSeq 2000</td></tr><tr><td>13631</td><td>D1THKACXX</td><td>5</td><td>100</td><td>Illumina HiSeq 2000</td></tr><tr><td>13632</td><td>D1THKACXX</td><td>5</td><td>100</td><td>Illumina HiSeq 2000</td></tr><tr><td>13633</td><td>D1THKACXX</td><td>5</td><td>100</td><td>Illumina HiSeq 2000</td></tr><tr><td>13634</td><td>D1THKACXX</td><td>5</td><td>100</td><td>Illumina HiSeq 2000</td></tr><tr><td>13635</td><td>D1THKACXX</td><td>5</td><td>100</td><td>Illumina HiSeq 2000</td></tr><tr><td>13636</td><td>D1THKACXX</td><td>5</td><td>100</td><td>Illumina HiSeq 2000</td></tr><tr><td>13637</td><td>D1THKACXX</td><td>5</td><td>100</td><td>Illumina HiSeq 2000</td></tr><tr><td>13638</td><td>D1THKACXX</td><td>6</td><td>100</td><td>Illumina HiSeq 2000</td></tr><tr><td>13639</td><td>D1THKACXX</td><td>6</td><td>100</td><td>Illumina HiSeq 2000</td></tr><tr><td>13640</td><td>D1THKACXX</td><td>6</td><td>100</td><td>Illumina HiSeq 2000</td></tr><tr><td>13641</td><td>D1THKACXX</td><td>6</td><td>100</td><td>Illumina HiSeq 2000</td></tr><tr><td>13642</td><td>D1THKACXX</td><td>6</td><td>100</td><td>Illumina HiSeq 2000</td></tr><tr><td>13643</td><td>D1THKACXX</td><td>6</td><td>100</td><td>Illumina HiSeq 2000</td></tr><tr><td>13644</td><td>D1THKACXX</td><td>6</td><td>100</td><td>Illumina HiSeq 2000</td></tr><tr><td>13645</td><td>D1THKACXX</td><td>6</td><td>100</td><td>Illumina HiSeq 2000</td></tr><tr><td>13646</td><td>D1THKACXX</td><td>6</td><td>100</td><td>Illumina HiSeq 2000</td></tr><tr><td>13647</td><td>D1THKACXX</td><td>6</td><td>100</td><td>Illumina HiSeq 2000</td></tr><tr><td>13648</td><td>D1THKACXX</td><td>8</td><td>100</td><td>Illumina HiSeq 2000</td></tr><tr><td>13649</td><td>D1THKACXX</td><td>8</td><td>100</td><td>Illumina HiSeq 2000</td></tr><tr><td>13650</td><td>D1THKACXX</td><td>8</td><td>100</td><td>Illumina HiSeq 2000</td></tr><tr><td>13651</td><td>D1THKACXX</td><td>7</td><td>100</td><td>Illumina HiSeq 2000</td></tr><tr><td>13652</td><td>D1THKACXX</td><td>7</td><td>100</td><td>Illumina HiSeq 2000</td></tr><tr><td>13653</td><td>D1THKACXX</td><td>7</td><td>100</td><td>Illumina HiSeq 2000</td></tr><tr><td>13654</td><td>D1THKACXX</td><td>7</td><td>100</td><td>Illumina HiSeq 2000</td></tr><tr><td>13655</td><td>D1THKACXX</td><td>7</td><td>100</td><td>Illumina HiSeq 2000</td></tr><tr><td>13656</td><td>D1THKACXX</td><td>7</td><td>100</td><td>Illumina HiSeq 2000</td></tr><tr><td>13657</td><td>D1THKACXX</td><td>7</td><td>100</td><td>Illumina HiSeq 2000</td></tr><tr><td>13658</td><td>D1THKACXX</td><td>8</td><td>100</td><td>Illumina HiSeq 2000</td></tr><tr><td>13659</td><td>D1THKACXX</td><td>8</td><td>100</td><td>Illumina HiSeq 2000</td></tr><tr><td>13660</td><td>D1THKACXX</td><td>8</td><td>100</td><td>Illumina HiSeq 2000</td></tr><tr><td>13661</td><td>D1THKACXX</td><td>8</td><td>100</td><td>Illumina HiSeq 2000</td></tr><tr><td>13662</td><td>D1THKACXX</td><td>8</td><td>100</td><td>Illumina HiSeq 2000</td></tr><tr><td>13663</td><td>D1THKACXX</td><td>8</td><td>100</td><td>Illumina HiSeq 2000</td></tr><tr><td>13664</td><td>D1THKACXX</td><td>8</td><td>100</td><td>Illumina HiSeq 2000</td></tr><tr><td>13665</td><td>D1THKACXX</td><td>7</td><td>100</td><td>Illumina HiSeq 2000</td></tr><tr><td>13665</td><td>H8U69ADXX</td><td>1</td><td>100</td><td>Illumina HiSeq 2000</td></tr><tr><td>13666</td><td>D1THKACXX</td><td>7</td><td>100</td><td>Illumina HiSeq 2000</td></tr><tr><td>13666</td><td>H8U69ADXX</td><td>1</td><td>100</td><td>Illumina HiSeq 2000</td></tr></table>"
       ],
       "metadata": {},
       "output_type": "pyout",
       "prompt_number": 90,
       "text": [
        "<rdfmagic.LibRdfResults at 0x7f4374e51250>"
       ]
      }
     ],
     "prompt_number": 90
    },
    {
     "cell_type": "code",
     "collapsed": false,
     "input": [
      "lib_to_flowcell = {}\n",
      "for row in flowcells:\n",
      "    lane = '{}:{}'.format(str(row['flowcell_id']), str(row['lane_number']))\n",
      "    lib_to_flowcell.setdefault(str(row['library_id']), []).append(lane)"
     ],
     "language": "python",
     "metadata": {},
     "outputs": [],
     "prompt_number": 95
    },
    {
     "cell_type": "code",
     "collapsed": false,
     "input": [
      "lib_to_flowcell['13666']"
     ],
     "language": "python",
     "metadata": {},
     "outputs": [
      {
       "metadata": {},
       "output_type": "pyout",
       "prompt_number": 96,
       "text": [
        "['D1THKACXX:7', 'H8U69ADXX:1']"
       ]
      }
     ],
     "prompt_number": 96
    },
    {
     "cell_type": "code",
     "collapsed": false,
     "input": [],
     "language": "python",
     "metadata": {},
     "outputs": []
    }
   ],
   "metadata": {}
  }
 ]
}