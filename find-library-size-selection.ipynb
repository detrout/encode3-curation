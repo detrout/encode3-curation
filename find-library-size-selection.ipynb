{
 "metadata": {
  "name": ""
 },
 "nbformat": 3,
 "nbformat_minor": 0,
 "worksheets": [
  {
   "cells": [
    {
     "cell_type": "heading",
     "level": 2,
     "metadata": {},
     "source": [
      "Setup"
     ]
    },
    {
     "cell_type": "code",
     "collapsed": false,
     "input": [
      "from __future__ import print_function"
     ],
     "language": "python",
     "metadata": {},
     "outputs": [],
     "prompt_number": 1
    },
    {
     "cell_type": "code",
     "collapsed": false,
     "input": [
      "import sys\n",
      "import types\n",
      "import gcat\n",
      "import pandas\n",
      "\n",
      "import RDF"
     ],
     "language": "python",
     "metadata": {},
     "outputs": [],
     "prompt_number": 2
    },
    {
     "cell_type": "code",
     "collapsed": false,
     "input": [
      "%load_ext rdfmagic"
     ],
     "language": "python",
     "metadata": {},
     "outputs": [],
     "prompt_number": 3
    },
    {
     "cell_type": "code",
     "collapsed": false,
     "input": [
      "def load_custom():\n",
      "    paths = ['/home/diane/proj/solexa/htsworkflow']\n",
      "    for path in paths:\n",
      "        if path not in sys.path:\n",
      "            sys.path.append(path)\n",
      "load_custom()"
     ],
     "language": "python",
     "metadata": {},
     "outputs": [],
     "prompt_number": 4
    },
    {
     "cell_type": "code",
     "collapsed": false,
     "input": [
      "from htsworkflow.util.rdfhelp import get_model, dump_model, load_into_model"
     ],
     "language": "python",
     "metadata": {},
     "outputs": [],
     "prompt_number": 5
    },
    {
     "cell_type": "heading",
     "level": 2,
     "metadata": {},
     "source": [
      "Load single cell to submit sheet"
     ]
    },
    {
     "cell_type": "code",
     "collapsed": false,
     "input": [
      "library_sheet = gcat.get_file(\"Brian's view of Single Cell data to submit\", sheet='New library-replicates needed', fmt='pandas', header=1)"
     ],
     "language": "python",
     "metadata": {},
     "outputs": [],
     "prompt_number": 6
    },
    {
     "cell_type": "code",
     "collapsed": false,
     "input": [
      "# (Did I get useful column names?)\n",
      "library_sheet.columns"
     ],
     "language": "python",
     "metadata": {},
     "outputs": [
      {
       "metadata": {},
       "output_type": "pyout",
       "prompt_number": 7,
       "text": [
        "Index([u'KEY', u'Unnamed: 1', u'uuid', u'uuid.1', u'experiment', u'biological_replicate_number:integer', u'technical_replicate_number:integer', u'paired_ended:boolean', u'platform', u'flow cell information', u'accession', u'aliases:array', u'fragmentation_date', u'biosample', u'documents', u'depleted_in:array', u'nucleic_acid_term_id', u'nucleic_acid_term_name', u'nucleic_acid_starting_quantity', u'nucleic_acid_starting_quantity_units', u'size_range', u'library_size_selection_method', u'extraction_method', u'lysis_method', u'fragmentation_method', u'strand_specificity:boolean', u'paired_ended:boolean.1', u'award', u'lab', u'submitted_by', u'notes'], dtype='object')"
       ]
      }
     ],
     "prompt_number": 7
    },
    {
     "cell_type": "code",
     "collapsed": false,
     "input": [
      "libraries = []\n",
      "for alias in library_sheet['aliases:array']:\n",
      "    if alias and type(alias) in types.StringTypes:\n",
      "        try:\n",
      "            prefix, library = alias.split(':')\n",
      "            libraries.append(library)\n",
      "        except AttributeError as e:\n",
      "            print('Unable to parse: {}, {}'.format(alias, type(alias)))\n",
      "print('Extracted: {} library ids'.format(len(libraries)))"
     ],
     "language": "python",
     "metadata": {},
     "outputs": [
      {
       "output_type": "stream",
       "stream": "stdout",
       "text": [
        "Extracted: 77 library ids\n"
       ]
      }
     ],
     "prompt_number": 8
    },
    {
     "cell_type": "heading",
     "level": 2,
     "metadata": {},
     "source": [
      "Load LIMS Data"
     ]
    },
    {
     "cell_type": "code",
     "collapsed": false,
     "input": [
      "model = get_model()\n",
      "woldlab_libs = 'http://jumpgate.caltech.edu/library/{}'"
     ],
     "language": "python",
     "metadata": {},
     "outputs": [],
     "prompt_number": 9
    },
    {
     "cell_type": "code",
     "collapsed": false,
     "input": [
      "for library in libraries:\n",
      "    load_into_model(model, 'rdfa', woldlab_libs.format(library))"
     ],
     "language": "python",
     "metadata": {},
     "outputs": [],
     "prompt_number": 10
    },
    {
     "cell_type": "code",
     "collapsed": false,
     "input": [
      "with open('/tmp/model.turtle','w') as outstream:\n",
      "    dump_model(model, outstream)"
     ],
     "language": "python",
     "metadata": {},
     "outputs": [],
     "prompt_number": 11
    },
    {
     "cell_type": "code",
     "collapsed": false,
     "input": [
      "%addns htsw http://jumpgate.caltech.edu/wiki/LibraryOntology#\n",
      "%addns library http://jumpgate.caltech.edu/library/\n",
      "%addns flowcell http://jumpgate.caltech.edu/flowcell/"
     ],
     "language": "python",
     "metadata": {},
     "outputs": [],
     "prompt_number": 12
    },
    {
     "cell_type": "heading",
     "level": 2,
     "metadata": {},
     "source": [
      "Find size selection range"
     ]
    },
    {
     "cell_type": "code",
     "collapsed": false,
     "input": [
      "%%sparql -m model -o gel_cuts\n",
      "select ?lib_id ?gel_cut\n",
      "where {\n",
      "    ?lib htsw:gel_cut ?gel_cut ;\n",
      "         htsw:library_id  ?lib_id ;\n",
      "         a htsw:Library .\n",
      "}"
     ],
     "language": "python",
     "metadata": {},
     "outputs": [],
     "prompt_number": 13
    },
    {
     "cell_type": "code",
     "collapsed": false,
     "input": [
      "lib_to_cut = {}\n",
      "for row in gel_cuts:\n",
      "    lib_to_cut[str(row['lib_id'])] = int(str(row['gel_cut']))"
     ],
     "language": "python",
     "metadata": {},
     "outputs": [],
     "prompt_number": 14
    },
    {
     "cell_type": "code",
     "collapsed": false,
     "input": [
      "for i in library_sheet['aliases:array'].index:\n",
      "    alias = library_sheet['aliases:array'][i]\n",
      "    if alias and type(alias) in types.StringTypes:\n",
      "        try:\n",
      "            prefix, library = alias.split(':')\n",
      "            library_sheet['size_range'][i] = lib_to_cut[library]\n",
      "        except AttributeError as e:\n",
      "            print('Unable to parse: {}, {}'.format(alias, type(alias)))"
     ],
     "language": "python",
     "metadata": {},
     "outputs": [],
     "prompt_number": 15
    },
    {
     "cell_type": "code",
     "collapsed": false,
     "input": [
      "library_sheet[['accession','aliases:array','size_range']]"
     ],
     "language": "python",
     "metadata": {},
     "outputs": [
      {
       "html": [
        "<div style=\"max-height:1000px;max-width:1500px;overflow:auto;\">\n",
        "<table border=\"1\" class=\"dataframe\">\n",
        "  <thead>\n",
        "    <tr style=\"text-align: right;\">\n",
        "      <th></th>\n",
        "      <th>accession</th>\n",
        "      <th>aliases:array</th>\n",
        "      <th>size_range</th>\n",
        "    </tr>\n",
        "  </thead>\n",
        "  <tbody>\n",
        "    <tr>\n",
        "      <th>0 </th>\n",
        "      <td> ENCLB901PGF</td>\n",
        "      <td> barbara-wold:13619</td>\n",
        "      <td> 500</td>\n",
        "    </tr>\n",
        "    <tr>\n",
        "      <th>1 </th>\n",
        "      <td> ENCLB426EUN</td>\n",
        "      <td> barbara-wold:13622</td>\n",
        "      <td> 450</td>\n",
        "    </tr>\n",
        "    <tr>\n",
        "      <th>2 </th>\n",
        "      <td> ENCLB392ZIG</td>\n",
        "      <td> barbara-wold:13620</td>\n",
        "      <td> 450</td>\n",
        "    </tr>\n",
        "    <tr>\n",
        "      <th>3 </th>\n",
        "      <td> ENCLB036TZY</td>\n",
        "      <td> barbara-wold:13623</td>\n",
        "      <td> 450</td>\n",
        "    </tr>\n",
        "    <tr>\n",
        "      <th>4 </th>\n",
        "      <td> ENCLB915IHV</td>\n",
        "      <td> barbara-wold:13665</td>\n",
        "      <td> 500</td>\n",
        "    </tr>\n",
        "    <tr>\n",
        "      <th>5 </th>\n",
        "      <td> ENCLB204VYG</td>\n",
        "      <td> barbara-wold:13666</td>\n",
        "      <td> 500</td>\n",
        "    </tr>\n",
        "    <tr>\n",
        "      <th>6 </th>\n",
        "      <td> ENCLB386HBI</td>\n",
        "      <td> barbara-wold:13024</td>\n",
        "      <td> 450</td>\n",
        "    </tr>\n",
        "    <tr>\n",
        "      <th>7 </th>\n",
        "      <td> ENCLB976CMA</td>\n",
        "      <td> barbara-wold:13025</td>\n",
        "      <td> 475</td>\n",
        "    </tr>\n",
        "    <tr>\n",
        "      <th>8 </th>\n",
        "      <td> ENCLB164LQL</td>\n",
        "      <td> barbara-wold:13262</td>\n",
        "      <td> 350</td>\n",
        "    </tr>\n",
        "    <tr>\n",
        "      <th>9 </th>\n",
        "      <td> ENCLB621DLJ</td>\n",
        "      <td> barbara-wold:13263</td>\n",
        "      <td> 350</td>\n",
        "    </tr>\n",
        "    <tr>\n",
        "      <th>10</th>\n",
        "      <td> ENCLB928LID</td>\n",
        "      <td> barbara-wold:13347</td>\n",
        "      <td> 350</td>\n",
        "    </tr>\n",
        "    <tr>\n",
        "      <th>11</th>\n",
        "      <td> ENCLB532KHK</td>\n",
        "      <td> barbara-wold:13349</td>\n",
        "      <td> 350</td>\n",
        "    </tr>\n",
        "    <tr>\n",
        "      <th>12</th>\n",
        "      <td> ENCLB036MBQ</td>\n",
        "      <td> barbara-wold:13274</td>\n",
        "      <td> 350</td>\n",
        "    </tr>\n",
        "    <tr>\n",
        "      <th>13</th>\n",
        "      <td> ENCLB284CYK</td>\n",
        "      <td> barbara-wold:13275</td>\n",
        "      <td> 450</td>\n",
        "    </tr>\n",
        "    <tr>\n",
        "      <th>14</th>\n",
        "      <td> ENCLB550GYC</td>\n",
        "      <td> barbara-wold:13300</td>\n",
        "      <td> 450</td>\n",
        "    </tr>\n",
        "    <tr>\n",
        "      <th>15</th>\n",
        "      <td> ENCLB576ZGP</td>\n",
        "      <td> barbara-wold:13301</td>\n",
        "      <td> 450</td>\n",
        "    </tr>\n",
        "    <tr>\n",
        "      <th>16</th>\n",
        "      <td> ENCLB482LEX</td>\n",
        "      <td> barbara-wold:12517</td>\n",
        "      <td> 335</td>\n",
        "    </tr>\n",
        "    <tr>\n",
        "      <th>17</th>\n",
        "      <td> ENCLB898RJN</td>\n",
        "      <td> barbara-wold:12518</td>\n",
        "      <td> 333</td>\n",
        "    </tr>\n",
        "    <tr>\n",
        "      <th>18</th>\n",
        "      <td>         NaN</td>\n",
        "      <td>                NaN</td>\n",
        "      <td> NaN</td>\n",
        "    </tr>\n",
        "    <tr>\n",
        "      <th>19</th>\n",
        "      <td>         NaN</td>\n",
        "      <td>                NaN</td>\n",
        "      <td> NaN</td>\n",
        "    </tr>\n",
        "    <tr>\n",
        "      <th>20</th>\n",
        "      <td>         NaN</td>\n",
        "      <td>                NaN</td>\n",
        "      <td> NaN</td>\n",
        "    </tr>\n",
        "    <tr>\n",
        "      <th>21</th>\n",
        "      <td>         NaN</td>\n",
        "      <td>                NaN</td>\n",
        "      <td> NaN</td>\n",
        "    </tr>\n",
        "    <tr>\n",
        "      <th>22</th>\n",
        "      <td>         NaN</td>\n",
        "      <td>                NaN</td>\n",
        "      <td> NaN</td>\n",
        "    </tr>\n",
        "    <tr>\n",
        "      <th>23</th>\n",
        "      <td>         NaN</td>\n",
        "      <td>                NaN</td>\n",
        "      <td> NaN</td>\n",
        "    </tr>\n",
        "    <tr>\n",
        "      <th>24</th>\n",
        "      <td>         NaN</td>\n",
        "      <td>                NaN</td>\n",
        "      <td> NaN</td>\n",
        "    </tr>\n",
        "    <tr>\n",
        "      <th>25</th>\n",
        "      <td> ENCLB331AUZ</td>\n",
        "      <td> barbara-wold:13625</td>\n",
        "      <td> 450</td>\n",
        "    </tr>\n",
        "    <tr>\n",
        "      <th>26</th>\n",
        "      <td> ENCLB327MTR</td>\n",
        "      <td> barbara-wold:13626</td>\n",
        "      <td> 425</td>\n",
        "    </tr>\n",
        "    <tr>\n",
        "      <th>27</th>\n",
        "      <td> ENCLB228BIT</td>\n",
        "      <td> barbara-wold:13627</td>\n",
        "      <td> 450</td>\n",
        "    </tr>\n",
        "    <tr>\n",
        "      <th>28</th>\n",
        "      <td> ENCLB641KNK</td>\n",
        "      <td> barbara-wold:13628</td>\n",
        "      <td> 450</td>\n",
        "    </tr>\n",
        "    <tr>\n",
        "      <th>29</th>\n",
        "      <td> ENCLB403JBC</td>\n",
        "      <td> barbara-wold:13629</td>\n",
        "      <td> 450</td>\n",
        "    </tr>\n",
        "    <tr>\n",
        "      <th>30</th>\n",
        "      <td> ENCLB804XKW</td>\n",
        "      <td> barbara-wold:13630</td>\n",
        "      <td> 450</td>\n",
        "    </tr>\n",
        "    <tr>\n",
        "      <th>31</th>\n",
        "      <td> ENCLB087SVF</td>\n",
        "      <td> barbara-wold:13631</td>\n",
        "      <td> 450</td>\n",
        "    </tr>\n",
        "    <tr>\n",
        "      <th>32</th>\n",
        "      <td> ENCLB747ZHK</td>\n",
        "      <td> barbara-wold:13632</td>\n",
        "      <td> 450</td>\n",
        "    </tr>\n",
        "    <tr>\n",
        "      <th>33</th>\n",
        "      <td> ENCLB710XHU</td>\n",
        "      <td> barbara-wold:13633</td>\n",
        "      <td> 375</td>\n",
        "    </tr>\n",
        "    <tr>\n",
        "      <th>34</th>\n",
        "      <td> ENCLB211OUD</td>\n",
        "      <td> barbara-wold:13634</td>\n",
        "      <td> 475</td>\n",
        "    </tr>\n",
        "    <tr>\n",
        "      <th>35</th>\n",
        "      <td> ENCLB222MSP</td>\n",
        "      <td> barbara-wold:13635</td>\n",
        "      <td> 475</td>\n",
        "    </tr>\n",
        "    <tr>\n",
        "      <th>36</th>\n",
        "      <td> ENCLB619TYA</td>\n",
        "      <td> barbara-wold:13636</td>\n",
        "      <td> 400</td>\n",
        "    </tr>\n",
        "    <tr>\n",
        "      <th>37</th>\n",
        "      <td> ENCLB350NUB</td>\n",
        "      <td> barbara-wold:13637</td>\n",
        "      <td> 400</td>\n",
        "    </tr>\n",
        "    <tr>\n",
        "      <th>38</th>\n",
        "      <td> ENCLB257OVB</td>\n",
        "      <td> barbara-wold:13638</td>\n",
        "      <td> 400</td>\n",
        "    </tr>\n",
        "    <tr>\n",
        "      <th>39</th>\n",
        "      <td> ENCLB218HBM</td>\n",
        "      <td> barbara-wold:13639</td>\n",
        "      <td> 425</td>\n",
        "    </tr>\n",
        "    <tr>\n",
        "      <th>40</th>\n",
        "      <td> ENCLB617JJG</td>\n",
        "      <td> barbara-wold:13640</td>\n",
        "      <td> 450</td>\n",
        "    </tr>\n",
        "    <tr>\n",
        "      <th>41</th>\n",
        "      <td> ENCLB876ZIU</td>\n",
        "      <td> barbara-wold:13641</td>\n",
        "      <td> 400</td>\n",
        "    </tr>\n",
        "    <tr>\n",
        "      <th>42</th>\n",
        "      <td> ENCLB552DLJ</td>\n",
        "      <td> barbara-wold:13642</td>\n",
        "      <td> 425</td>\n",
        "    </tr>\n",
        "    <tr>\n",
        "      <th>43</th>\n",
        "      <td> ENCLB509KSM</td>\n",
        "      <td> barbara-wold:13643</td>\n",
        "      <td> 400</td>\n",
        "    </tr>\n",
        "    <tr>\n",
        "      <th>44</th>\n",
        "      <td> ENCLB632SOL</td>\n",
        "      <td> barbara-wold:13644</td>\n",
        "      <td> 400</td>\n",
        "    </tr>\n",
        "    <tr>\n",
        "      <th>45</th>\n",
        "      <td>         NaN</td>\n",
        "      <td>                NaN</td>\n",
        "      <td> NaN</td>\n",
        "    </tr>\n",
        "    <tr>\n",
        "      <th>46</th>\n",
        "      <td>         NaN</td>\n",
        "      <td>                NaN</td>\n",
        "      <td> NaN</td>\n",
        "    </tr>\n",
        "    <tr>\n",
        "      <th>47</th>\n",
        "      <td>         NaN</td>\n",
        "      <td>                NaN</td>\n",
        "      <td> NaN</td>\n",
        "    </tr>\n",
        "    <tr>\n",
        "      <th>48</th>\n",
        "      <td>         NaN</td>\n",
        "      <td>                NaN</td>\n",
        "      <td> NaN</td>\n",
        "    </tr>\n",
        "    <tr>\n",
        "      <th>49</th>\n",
        "      <td> ENCLB678KFT</td>\n",
        "      <td> barbara-wold:13645</td>\n",
        "      <td> 450</td>\n",
        "    </tr>\n",
        "    <tr>\n",
        "      <th>50</th>\n",
        "      <td> ENCLB432EQY</td>\n",
        "      <td> barbara-wold:13646</td>\n",
        "      <td> 450</td>\n",
        "    </tr>\n",
        "    <tr>\n",
        "      <th>51</th>\n",
        "      <td> ENCLB546SWD</td>\n",
        "      <td> barbara-wold:13647</td>\n",
        "      <td> 500</td>\n",
        "    </tr>\n",
        "    <tr>\n",
        "      <th>52</th>\n",
        "      <td> ENCLB151CUN</td>\n",
        "      <td> barbara-wold:13648</td>\n",
        "      <td> 475</td>\n",
        "    </tr>\n",
        "    <tr>\n",
        "      <th>53</th>\n",
        "      <td> ENCLB340FFP</td>\n",
        "      <td> barbara-wold:13649</td>\n",
        "      <td> 450</td>\n",
        "    </tr>\n",
        "    <tr>\n",
        "      <th>54</th>\n",
        "      <td> ENCLB205HHN</td>\n",
        "      <td> barbara-wold:13650</td>\n",
        "      <td> 525</td>\n",
        "    </tr>\n",
        "    <tr>\n",
        "      <th>55</th>\n",
        "      <td> ENCLB452IVF</td>\n",
        "      <td> barbara-wold:13651</td>\n",
        "      <td> 475</td>\n",
        "    </tr>\n",
        "    <tr>\n",
        "      <th>56</th>\n",
        "      <td> ENCLB294BYK</td>\n",
        "      <td> barbara-wold:13652</td>\n",
        "      <td> 475</td>\n",
        "    </tr>\n",
        "    <tr>\n",
        "      <th>57</th>\n",
        "      <td> ENCLB078UJF</td>\n",
        "      <td> barbara-wold:13653</td>\n",
        "      <td> 475</td>\n",
        "    </tr>\n",
        "    <tr>\n",
        "      <th>58</th>\n",
        "      <td> ENCLB614VPZ</td>\n",
        "      <td> barbara-wold:13654</td>\n",
        "      <td> 450</td>\n",
        "    </tr>\n",
        "    <tr>\n",
        "      <th>59</th>\n",
        "      <td> ENCLB611KGC</td>\n",
        "      <td> barbara-wold:13655</td>\n",
        "      <td> 450</td>\n",
        "    </tr>\n",
        "    <tr>\n",
        "      <th></th>\n",
        "      <td>...</td>\n",
        "      <td>...</td>\n",
        "      <td>...</td>\n",
        "    </tr>\n",
        "  </tbody>\n",
        "</table>\n",
        "<p>94 rows \u00d7 3 columns</p>\n",
        "</div>"
       ],
       "metadata": {},
       "output_type": "pyout",
       "prompt_number": 16,
       "text": [
        "      accession       aliases:array  size_range\n",
        "0   ENCLB901PGF  barbara-wold:13619         500\n",
        "1   ENCLB426EUN  barbara-wold:13622         450\n",
        "2   ENCLB392ZIG  barbara-wold:13620         450\n",
        "3   ENCLB036TZY  barbara-wold:13623         450\n",
        "4   ENCLB915IHV  barbara-wold:13665         500\n",
        "5   ENCLB204VYG  barbara-wold:13666         500\n",
        "6   ENCLB386HBI  barbara-wold:13024         450\n",
        "7   ENCLB976CMA  barbara-wold:13025         475\n",
        "8   ENCLB164LQL  barbara-wold:13262         350\n",
        "9   ENCLB621DLJ  barbara-wold:13263         350\n",
        "10  ENCLB928LID  barbara-wold:13347         350\n",
        "11  ENCLB532KHK  barbara-wold:13349         350\n",
        "12  ENCLB036MBQ  barbara-wold:13274         350\n",
        "13  ENCLB284CYK  barbara-wold:13275         450\n",
        "14  ENCLB550GYC  barbara-wold:13300         450\n",
        "15  ENCLB576ZGP  barbara-wold:13301         450\n",
        "16  ENCLB482LEX  barbara-wold:12517         335\n",
        "17  ENCLB898RJN  barbara-wold:12518         333\n",
        "18          NaN                 NaN         NaN\n",
        "19          NaN                 NaN         NaN\n",
        "20          NaN                 NaN         NaN\n",
        "21          NaN                 NaN         NaN\n",
        "22          NaN                 NaN         NaN\n",
        "23          NaN                 NaN         NaN\n",
        "24          NaN                 NaN         NaN\n",
        "25  ENCLB331AUZ  barbara-wold:13625         450\n",
        "26  ENCLB327MTR  barbara-wold:13626         425\n",
        "27  ENCLB228BIT  barbara-wold:13627         450\n",
        "28  ENCLB641KNK  barbara-wold:13628         450\n",
        "29  ENCLB403JBC  barbara-wold:13629         450\n",
        "30  ENCLB804XKW  barbara-wold:13630         450\n",
        "31  ENCLB087SVF  barbara-wold:13631         450\n",
        "32  ENCLB747ZHK  barbara-wold:13632         450\n",
        "33  ENCLB710XHU  barbara-wold:13633         375\n",
        "34  ENCLB211OUD  barbara-wold:13634         475\n",
        "35  ENCLB222MSP  barbara-wold:13635         475\n",
        "36  ENCLB619TYA  barbara-wold:13636         400\n",
        "37  ENCLB350NUB  barbara-wold:13637         400\n",
        "38  ENCLB257OVB  barbara-wold:13638         400\n",
        "39  ENCLB218HBM  barbara-wold:13639         425\n",
        "40  ENCLB617JJG  barbara-wold:13640         450\n",
        "41  ENCLB876ZIU  barbara-wold:13641         400\n",
        "42  ENCLB552DLJ  barbara-wold:13642         425\n",
        "43  ENCLB509KSM  barbara-wold:13643         400\n",
        "44  ENCLB632SOL  barbara-wold:13644         400\n",
        "45          NaN                 NaN         NaN\n",
        "46          NaN                 NaN         NaN\n",
        "47          NaN                 NaN         NaN\n",
        "48          NaN                 NaN         NaN\n",
        "49  ENCLB678KFT  barbara-wold:13645         450\n",
        "50  ENCLB432EQY  barbara-wold:13646         450\n",
        "51  ENCLB546SWD  barbara-wold:13647         500\n",
        "52  ENCLB151CUN  barbara-wold:13648         475\n",
        "53  ENCLB340FFP  barbara-wold:13649         450\n",
        "54  ENCLB205HHN  barbara-wold:13650         525\n",
        "55  ENCLB452IVF  barbara-wold:13651         475\n",
        "56  ENCLB294BYK  barbara-wold:13652         475\n",
        "57  ENCLB078UJF  barbara-wold:13653         475\n",
        "58  ENCLB614VPZ  barbara-wold:13654         450\n",
        "59  ENCLB611KGC  barbara-wold:13655         450\n",
        "            ...                 ...         ...\n",
        "\n",
        "[94 rows x 3 columns]"
       ]
      }
     ],
     "prompt_number": 16
    },
    {
     "cell_type": "code",
     "collapsed": false,
     "input": [
      "# dump it to a local spreadsheet so I can see it before pasting it to google doc.\n",
      "library_sheet.to_excel('/tmp/sizes.xlsx', sheet_name='Sheet1')"
     ],
     "language": "python",
     "metadata": {},
     "outputs": [],
     "prompt_number": 17
    },
    {
     "cell_type": "heading",
     "level": 2,
     "metadata": {},
     "source": [
      "Find Flowcell Info"
     ]
    },
    {
     "cell_type": "code",
     "collapsed": false,
     "input": [
      "%%sparql -m model -o flowcells\n",
      "select distinct ?flowcell\n",
      "where {\n",
      "  ?lane a htsw:IlluminaLane ;\n",
      "        htsw:flowcell ?flowcell .\n",
      "}"
     ],
     "language": "python",
     "metadata": {},
     "outputs": [],
     "prompt_number": 18
    },
    {
     "cell_type": "code",
     "collapsed": false,
     "input": [
      "for row in flowcells:\n",
      "    flowcell = row['flowcell']\n",
      "    print(flowcell)\n",
      "    load_into_model(model, 'rdfa', flowcell)"
     ],
     "language": "python",
     "metadata": {},
     "outputs": [
      {
       "output_type": "stream",
       "stream": "stdout",
       "text": [
        "http://jumpgate.caltech.edu/flowcell/H8U69ADXX/\n",
        "http://jumpgate.caltech.edu/flowcell/D1THKACXX/"
       ]
      },
      {
       "output_type": "stream",
       "stream": "stdout",
       "text": [
        "\n",
        "http://jumpgate.caltech.edu/flowcell/D15ACACXX/"
       ]
      },
      {
       "output_type": "stream",
       "stream": "stdout",
       "text": [
        "\n",
        "http://jumpgate.caltech.edu/flowcell/D1F15ACXX/"
       ]
      },
      {
       "output_type": "stream",
       "stream": "stdout",
       "text": [
        "\n",
        "http://jumpgate.caltech.edu/flowcell/D1GMCACXX/"
       ]
      },
      {
       "output_type": "stream",
       "stream": "stdout",
       "text": [
        "\n",
        "http://jumpgate.caltech.edu/flowcell/D1EWHACXX/"
       ]
      },
      {
       "output_type": "stream",
       "stream": "stdout",
       "text": [
        "\n",
        "http://jumpgate.caltech.edu/flowcell/D0549ACXX/"
       ]
      },
      {
       "output_type": "stream",
       "stream": "stdout",
       "text": [
        "\n"
       ]
      }
     ],
     "prompt_number": 19
    },
    {
     "cell_type": "code",
     "collapsed": false,
     "input": [
      "%%sparql -m model -o flowcells\n",
      "select ?library_id ?flowcell_id ?lane_number ?read_length ?model\n",
      "where {\n",
      "   ?library a htsw:Library ;\n",
      "            htsw:library_id ?library_id ;\n",
      "            htsw:has_lane ?lane .\n",
      "   ?lane htsw:flowcell ?flowcell ;\n",
      "         htsw:lane_number ?lane_number .\n",
      "   ?flowcell htsw:read_length ?read_length ;\n",
      "             htsw:flowcell_id ?flowcell_id ;\n",
      "             htsw:sequenced_by ?sequencer . \n",
      "   ?sequencer htsw:sequencer_model ?model .    \n",
      "}\n",
      "order by ?library ?lane"
     ],
     "language": "python",
     "metadata": {},
     "outputs": [],
     "prompt_number": 20
    },
    {
     "cell_type": "code",
     "collapsed": false,
     "input": [
      "flowcells"
     ],
     "language": "python",
     "metadata": {},
     "outputs": [
      {
       "html": [
        "<table><tr><td>library_id</td><td>flowcell_id</td><td>lane_number</td><td>read_length</td><td>model</td></tr><tr><td>12517</td><td>D0549ACXX</td><td>1</td><td>101</td><td>Illumina HiSeq 2000</td></tr><tr><td>12518</td><td>D0549ACXX</td><td>2</td><td>101</td><td>Illumina HiSeq 2000</td></tr><tr><td>13024</td><td>D15ACACXX</td><td>3</td><td>100</td><td>Illumina HiSeq 2000</td></tr><tr><td>13024</td><td>H8U69ADXX</td><td>1</td><td>100</td><td>Illumina HiSeq 2000</td></tr><tr><td>13025</td><td>D15ACACXX</td><td>4</td><td>100</td><td>Illumina HiSeq 2000</td></tr><tr><td>13025</td><td>H8U69ADXX</td><td>1</td><td>100</td><td>Illumina HiSeq 2000</td></tr><tr><td>13262</td><td>D1F15ACXX</td><td>3</td><td>100</td><td>Illumina HiSeq 2000</td></tr><tr><td>13262</td><td>H8U69ADXX</td><td>1</td><td>100</td><td>Illumina HiSeq 2000</td></tr><tr><td>13263</td><td>D1F15ACXX</td><td>4</td><td>100</td><td>Illumina HiSeq 2000</td></tr><tr><td>13274</td><td>D1EWHACXX</td><td>3</td><td>100</td><td>Illumina HiSeq 2000</td></tr><tr><td>13275</td><td>D1EWHACXX</td><td>3</td><td>100</td><td>Illumina HiSeq 2000</td></tr><tr><td>13280</td><td>D1EWHACXX</td><td>5</td><td>100</td><td>Illumina HiSeq 2000</td></tr><tr><td>13281</td><td>D1EWHACXX</td><td>6</td><td>100</td><td>Illumina HiSeq 2000</td></tr><tr><td>13282</td><td>D1EWHACXX</td><td>5</td><td>100</td><td>Illumina HiSeq 2000</td></tr><tr><td>13283</td><td>D1EWHACXX</td><td>6</td><td>100</td><td>Illumina HiSeq 2000</td></tr><tr><td>13284</td><td>D1EWHACXX</td><td>7</td><td>100</td><td>Illumina HiSeq 2000</td></tr><tr><td>13285</td><td>D1EWHACXX</td><td>8</td><td>100</td><td>Illumina HiSeq 2000</td></tr><tr><td>13286</td><td>D1EWHACXX</td><td>6</td><td>100</td><td>Illumina HiSeq 2000</td></tr><tr><td>13287</td><td>D1EWHACXX</td><td>5</td><td>100</td><td>Illumina HiSeq 2000</td></tr><tr><td>13288</td><td>D1EWHACXX</td><td>8</td><td>100</td><td>Illumina HiSeq 2000</td></tr><tr><td>13289</td><td>D1EWHACXX</td><td>7</td><td>100</td><td>Illumina HiSeq 2000</td></tr><tr><td>13290</td><td>D1EWHACXX</td><td>5</td><td>100</td><td>Illumina HiSeq 2000</td></tr><tr><td>13291</td><td>D1EWHACXX</td><td>6</td><td>100</td><td>Illumina HiSeq 2000</td></tr><tr><td>13292</td><td>D1EWHACXX</td><td>8</td><td>100</td><td>Illumina HiSeq 2000</td></tr><tr><td>13294</td><td>D1EWHACXX</td><td>6</td><td>100</td><td>Illumina HiSeq 2000</td></tr><tr><td>13295</td><td>D1EWHACXX</td><td>5</td><td>100</td><td>Illumina HiSeq 2000</td></tr><tr><td>13296</td><td>D1EWHACXX</td><td>7</td><td>100</td><td>Illumina HiSeq 2000</td></tr><tr><td>13297</td><td>D1EWHACXX</td><td>8</td><td>100</td><td>Illumina HiSeq 2000</td></tr><tr><td>13298</td><td>D1EWHACXX</td><td>8</td><td>100</td><td>Illumina HiSeq 2000</td></tr><tr><td>13299</td><td>D1EWHACXX</td><td>7</td><td>100</td><td>Illumina HiSeq 2000</td></tr><tr><td>13300</td><td>D1EWHACXX</td><td>2</td><td>100</td><td>Illumina HiSeq 2000</td></tr><tr><td>13301</td><td>D1EWHACXX</td><td>2</td><td>100</td><td>Illumina HiSeq 2000</td></tr><tr><td>13347</td><td>D1GMCACXX</td><td>3</td><td>100</td><td>Illumina HiSeq 2000</td></tr><tr><td>13347</td><td>H8U69ADXX</td><td>1</td><td>100</td><td>Illumina HiSeq 2000</td></tr><tr><td>13349</td><td>D1GMCACXX</td><td>3</td><td>100</td><td>Illumina HiSeq 2000</td></tr><tr><td>13349</td><td>H8U69ADXX</td><td>1</td><td>100</td><td>Illumina HiSeq 2000</td></tr><tr><td>13619</td><td>D1THKACXX</td><td>4</td><td>100</td><td>Illumina HiSeq 2000</td></tr><tr><td>13619</td><td>H8U69ADXX</td><td>1</td><td>100</td><td>Illumina HiSeq 2000</td></tr><tr><td>13620</td><td>D1THKACXX</td><td>4</td><td>100</td><td>Illumina HiSeq 2000</td></tr><tr><td>13620</td><td>H8U69ADXX</td><td>1</td><td>100</td><td>Illumina HiSeq 2000</td></tr><tr><td>13622</td><td>D1THKACXX</td><td>4</td><td>100</td><td>Illumina HiSeq 2000</td></tr><tr><td>13622</td><td>H8U69ADXX</td><td>1</td><td>100</td><td>Illumina HiSeq 2000</td></tr><tr><td>13623</td><td>D1THKACXX</td><td>4</td><td>100</td><td>Illumina HiSeq 2000</td></tr><tr><td>13623</td><td>H8U69ADXX</td><td>1</td><td>100</td><td>Illumina HiSeq 2000</td></tr><tr><td>13625</td><td>D1THKACXX</td><td>4</td><td>100</td><td>Illumina HiSeq 2000</td></tr><tr><td>13626</td><td>D1THKACXX</td><td>4</td><td>100</td><td>Illumina HiSeq 2000</td></tr><tr><td>13627</td><td>D1THKACXX</td><td>4</td><td>100</td><td>Illumina HiSeq 2000</td></tr><tr><td>13628</td><td>D1THKACXX</td><td>5</td><td>100</td><td>Illumina HiSeq 2000</td></tr><tr><td>13629</td><td>D1THKACXX</td><td>5</td><td>100</td><td>Illumina HiSeq 2000</td></tr><tr><td>13630</td><td>D1THKACXX</td><td>5</td><td>100</td><td>Illumina HiSeq 2000</td></tr><tr><td>13631</td><td>D1THKACXX</td><td>5</td><td>100</td><td>Illumina HiSeq 2000</td></tr><tr><td>13632</td><td>D1THKACXX</td><td>5</td><td>100</td><td>Illumina HiSeq 2000</td></tr><tr><td>13633</td><td>D1THKACXX</td><td>5</td><td>100</td><td>Illumina HiSeq 2000</td></tr><tr><td>13634</td><td>D1THKACXX</td><td>5</td><td>100</td><td>Illumina HiSeq 2000</td></tr><tr><td>13635</td><td>D1THKACXX</td><td>5</td><td>100</td><td>Illumina HiSeq 2000</td></tr><tr><td>13636</td><td>D1THKACXX</td><td>5</td><td>100</td><td>Illumina HiSeq 2000</td></tr><tr><td>13637</td><td>D1THKACXX</td><td>5</td><td>100</td><td>Illumina HiSeq 2000</td></tr><tr><td>13638</td><td>D1THKACXX</td><td>6</td><td>100</td><td>Illumina HiSeq 2000</td></tr><tr><td>13639</td><td>D1THKACXX</td><td>6</td><td>100</td><td>Illumina HiSeq 2000</td></tr><tr><td>13640</td><td>D1THKACXX</td><td>6</td><td>100</td><td>Illumina HiSeq 2000</td></tr><tr><td>13641</td><td>D1THKACXX</td><td>6</td><td>100</td><td>Illumina HiSeq 2000</td></tr><tr><td>13642</td><td>D1THKACXX</td><td>6</td><td>100</td><td>Illumina HiSeq 2000</td></tr><tr><td>13643</td><td>D1THKACXX</td><td>6</td><td>100</td><td>Illumina HiSeq 2000</td></tr><tr><td>13644</td><td>D1THKACXX</td><td>6</td><td>100</td><td>Illumina HiSeq 2000</td></tr><tr><td>13645</td><td>D1THKACXX</td><td>6</td><td>100</td><td>Illumina HiSeq 2000</td></tr><tr><td>13646</td><td>D1THKACXX</td><td>6</td><td>100</td><td>Illumina HiSeq 2000</td></tr><tr><td>13647</td><td>D1THKACXX</td><td>6</td><td>100</td><td>Illumina HiSeq 2000</td></tr><tr><td>13648</td><td>D1THKACXX</td><td>8</td><td>100</td><td>Illumina HiSeq 2000</td></tr><tr><td>13649</td><td>D1THKACXX</td><td>8</td><td>100</td><td>Illumina HiSeq 2000</td></tr><tr><td>13650</td><td>D1THKACXX</td><td>8</td><td>100</td><td>Illumina HiSeq 2000</td></tr><tr><td>13651</td><td>D1THKACXX</td><td>7</td><td>100</td><td>Illumina HiSeq 2000</td></tr><tr><td>13652</td><td>D1THKACXX</td><td>7</td><td>100</td><td>Illumina HiSeq 2000</td></tr><tr><td>13653</td><td>D1THKACXX</td><td>7</td><td>100</td><td>Illumina HiSeq 2000</td></tr><tr><td>13654</td><td>D1THKACXX</td><td>7</td><td>100</td><td>Illumina HiSeq 2000</td></tr><tr><td>13655</td><td>D1THKACXX</td><td>7</td><td>100</td><td>Illumina HiSeq 2000</td></tr><tr><td>13656</td><td>D1THKACXX</td><td>7</td><td>100</td><td>Illumina HiSeq 2000</td></tr><tr><td>13657</td><td>D1THKACXX</td><td>7</td><td>100</td><td>Illumina HiSeq 2000</td></tr><tr><td>13658</td><td>D1THKACXX</td><td>8</td><td>100</td><td>Illumina HiSeq 2000</td></tr><tr><td>13659</td><td>D1THKACXX</td><td>8</td><td>100</td><td>Illumina HiSeq 2000</td></tr><tr><td>13660</td><td>D1THKACXX</td><td>8</td><td>100</td><td>Illumina HiSeq 2000</td></tr><tr><td>13661</td><td>D1THKACXX</td><td>8</td><td>100</td><td>Illumina HiSeq 2000</td></tr><tr><td>13662</td><td>D1THKACXX</td><td>8</td><td>100</td><td>Illumina HiSeq 2000</td></tr><tr><td>13663</td><td>D1THKACXX</td><td>8</td><td>100</td><td>Illumina HiSeq 2000</td></tr><tr><td>13664</td><td>D1THKACXX</td><td>8</td><td>100</td><td>Illumina HiSeq 2000</td></tr><tr><td>13665</td><td>D1THKACXX</td><td>7</td><td>100</td><td>Illumina HiSeq 2000</td></tr><tr><td>13665</td><td>H8U69ADXX</td><td>1</td><td>100</td><td>Illumina HiSeq 2000</td></tr><tr><td>13666</td><td>D1THKACXX</td><td>7</td><td>100</td><td>Illumina HiSeq 2000</td></tr><tr><td>13666</td><td>H8U69ADXX</td><td>1</td><td>100</td><td>Illumina HiSeq 2000</td></tr></table>"
       ],
       "metadata": {},
       "output_type": "pyout",
       "prompt_number": 21,
       "text": [
        "<rdfmagic.LibRdfResults at 0x7f9494fcde50>"
       ]
      }
     ],
     "prompt_number": 21
    },
    {
     "cell_type": "code",
     "collapsed": false,
     "input": [
      "lib_to_flowcell = {}\n",
      "for row in flowcells:\n",
      "    lane = '{}:{}'.format(str(row['flowcell_id']), str(row['lane_number']))\n",
      "    lib_to_flowcell.setdefault(str(row['library_id']), []).append(lane)"
     ],
     "language": "python",
     "metadata": {},
     "outputs": [],
     "prompt_number": 22
    },
    {
     "cell_type": "code",
     "collapsed": false,
     "input": [
      "lib_to_flowcell['13666']"
     ],
     "language": "python",
     "metadata": {},
     "outputs": [
      {
       "metadata": {},
       "output_type": "pyout",
       "prompt_number": 23,
       "text": [
        "['D1THKACXX:7', 'H8U69ADXX:1']"
       ]
      }
     ],
     "prompt_number": 23
    },
    {
     "cell_type": "code",
     "collapsed": false,
     "input": [],
     "language": "python",
     "metadata": {},
     "outputs": [],
     "prompt_number": 23
    }
   ],
   "metadata": {}
  }
 ]
}